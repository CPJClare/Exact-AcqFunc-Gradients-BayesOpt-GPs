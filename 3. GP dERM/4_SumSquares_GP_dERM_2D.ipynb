{
  "nbformat": 4,
  "nbformat_minor": 0,
  "metadata": {
    "colab": {
      "name": "4. SumSquares_GP_dERM_2D.ipynb",
      "provenance": [],
      "collapsed_sections": []
    },
    "kernelspec": {
      "name": "python3",
      "display_name": "Python 3"
    },
    "language_info": {
      "name": "python"
    }
  },
  "cells": [
    {
      "cell_type": "markdown",
      "metadata": {
        "id": "Dqn4dFx7Z2Ir"
      },
      "source": [
        "\n",
        "SumSquares: 2D\n"
      ]
    },
    {
      "cell_type": "code",
      "metadata": {
        "id": "MJTM_GZZZb5x",
        "colab": {
          "base_uri": "https://localhost:8080/"
        },
        "outputId": "e55f91b3-ad35-49fb-b5ce-c2484a2c5ab7"
      },
      "source": [
        "pip install pyGPGO\n"
      ],
      "execution_count": 1,
      "outputs": [
        {
          "output_type": "stream",
          "name": "stdout",
          "text": [
            "Collecting pyGPGO\n",
            "  Downloading pyGPGO-0.5.1.tar.gz (14 kB)\n",
            "Requirement already satisfied: numpy in /usr/local/lib/python3.7/dist-packages (from pyGPGO) (1.19.5)\n",
            "Requirement already satisfied: mkl in /usr/local/lib/python3.7/dist-packages (from pyGPGO) (2019.0)\n",
            "Requirement already satisfied: scipy in /usr/local/lib/python3.7/dist-packages (from pyGPGO) (1.4.1)\n",
            "Requirement already satisfied: joblib in /usr/local/lib/python3.7/dist-packages (from pyGPGO) (1.1.0)\n",
            "Requirement already satisfied: scikit-learn in /usr/local/lib/python3.7/dist-packages (from pyGPGO) (1.0.2)\n",
            "Requirement already satisfied: Theano-PyMC in /usr/local/lib/python3.7/dist-packages (from pyGPGO) (1.1.2)\n",
            "Requirement already satisfied: pyMC3 in /usr/local/lib/python3.7/dist-packages (from pyGPGO) (3.11.4)\n",
            "Requirement already satisfied: intel-openmp in /usr/local/lib/python3.7/dist-packages (from mkl->pyGPGO) (2022.0.2)\n",
            "Requirement already satisfied: arviz>=0.11.0 in /usr/local/lib/python3.7/dist-packages (from pyMC3->pyGPGO) (0.11.4)\n",
            "Requirement already satisfied: patsy>=0.5.1 in /usr/local/lib/python3.7/dist-packages (from pyMC3->pyGPGO) (0.5.2)\n",
            "Requirement already satisfied: pandas>=0.24.0 in /usr/local/lib/python3.7/dist-packages (from pyMC3->pyGPGO) (1.1.5)\n",
            "Requirement already satisfied: semver>=2.13.0 in /usr/local/lib/python3.7/dist-packages (from pyMC3->pyGPGO) (2.13.0)\n",
            "Requirement already satisfied: typing-extensions>=3.7.4 in /usr/local/lib/python3.7/dist-packages (from pyMC3->pyGPGO) (3.10.0.2)\n",
            "Requirement already satisfied: fastprogress>=0.2.0 in /usr/local/lib/python3.7/dist-packages (from pyMC3->pyGPGO) (1.0.0)\n",
            "Requirement already satisfied: dill in /usr/local/lib/python3.7/dist-packages (from pyMC3->pyGPGO) (0.3.4)\n",
            "Requirement already satisfied: cachetools>=4.2.1 in /usr/local/lib/python3.7/dist-packages (from pyMC3->pyGPGO) (4.2.4)\n",
            "Requirement already satisfied: filelock in /usr/local/lib/python3.7/dist-packages (from Theano-PyMC->pyGPGO) (3.4.2)\n",
            "Requirement already satisfied: matplotlib>=3.0 in /usr/local/lib/python3.7/dist-packages (from arviz>=0.11.0->pyMC3->pyGPGO) (3.2.2)\n",
            "Requirement already satisfied: netcdf4 in /usr/local/lib/python3.7/dist-packages (from arviz>=0.11.0->pyMC3->pyGPGO) (1.5.8)\n",
            "Requirement already satisfied: setuptools>=38.4 in /usr/local/lib/python3.7/dist-packages (from arviz>=0.11.0->pyMC3->pyGPGO) (57.4.0)\n",
            "Requirement already satisfied: xarray>=0.16.1 in /usr/local/lib/python3.7/dist-packages (from arviz>=0.11.0->pyMC3->pyGPGO) (0.18.2)\n",
            "Requirement already satisfied: packaging in /usr/local/lib/python3.7/dist-packages (from arviz>=0.11.0->pyMC3->pyGPGO) (21.3)\n",
            "Requirement already satisfied: python-dateutil>=2.1 in /usr/local/lib/python3.7/dist-packages (from matplotlib>=3.0->arviz>=0.11.0->pyMC3->pyGPGO) (2.8.2)\n",
            "Requirement already satisfied: pyparsing!=2.0.4,!=2.1.2,!=2.1.6,>=2.0.1 in /usr/local/lib/python3.7/dist-packages (from matplotlib>=3.0->arviz>=0.11.0->pyMC3->pyGPGO) (3.0.7)\n",
            "Requirement already satisfied: cycler>=0.10 in /usr/local/lib/python3.7/dist-packages (from matplotlib>=3.0->arviz>=0.11.0->pyMC3->pyGPGO) (0.11.0)\n",
            "Requirement already satisfied: kiwisolver>=1.0.1 in /usr/local/lib/python3.7/dist-packages (from matplotlib>=3.0->arviz>=0.11.0->pyMC3->pyGPGO) (1.3.2)\n",
            "Requirement already satisfied: pytz>=2017.2 in /usr/local/lib/python3.7/dist-packages (from pandas>=0.24.0->pyMC3->pyGPGO) (2018.9)\n",
            "Requirement already satisfied: six in /usr/local/lib/python3.7/dist-packages (from patsy>=0.5.1->pyMC3->pyGPGO) (1.15.0)\n",
            "Requirement already satisfied: cftime in /usr/local/lib/python3.7/dist-packages (from netcdf4->arviz>=0.11.0->pyMC3->pyGPGO) (1.5.2)\n",
            "Requirement already satisfied: threadpoolctl>=2.0.0 in /usr/local/lib/python3.7/dist-packages (from scikit-learn->pyGPGO) (3.0.0)\n",
            "Building wheels for collected packages: pyGPGO\n",
            "  Building wheel for pyGPGO (setup.py) ... \u001b[?25l\u001b[?25hdone\n",
            "  Created wheel for pyGPGO: filename=pyGPGO-0.5.1-py3-none-any.whl size=19879 sha256=e5c898c28d221bdd9ebf04d1c2ac47431351597103d7be29716a01efb270229a\n",
            "  Stored in directory: /root/.cache/pip/wheels/c8/5d/0b/2160114e2f1b87791c51b66cf07f89831dbb6f49167950316f\n",
            "Successfully built pyGPGO\n",
            "Installing collected packages: pyGPGO\n",
            "Successfully installed pyGPGO-0.5.1\n"
          ]
        }
      ]
    },
    {
      "cell_type": "code",
      "metadata": {
        "id": "ZJSSPbwPaEUB"
      },
      "source": [
        "### Import:\n",
        "\n",
        "import numpy as np\n",
        "import scipy as sp\n",
        "import pandas as pd\n",
        "import matplotlib.pyplot as plt\n",
        "import warnings\n",
        "import itertools\n",
        "\n",
        "from pyGPGO.GPGO import GPGO\n",
        "from pyGPGO.surrogates.GaussianProcess import GaussianProcess\n",
        "from pyGPGO.acquisition import Acquisition\n",
        "from pyGPGO.covfunc import squaredExponential\n",
        "\n",
        "from joblib import Parallel, delayed\n",
        "from numpy.linalg import solve, cholesky\n",
        "from scipy.spatial.distance import cdist\n",
        "from scipy.optimize import minimize\n",
        "from scipy.stats import norm\n",
        "import time\n",
        "\n",
        "warnings.filterwarnings(\"ignore\", category=RuntimeWarning)\n"
      ],
      "execution_count": 2,
      "outputs": []
    },
    {
      "cell_type": "code",
      "metadata": {
        "id": "OeYcTUNoaJWa"
      },
      "source": [
        "### Inputs:\n",
        "\n",
        "func = 'SumSquares'\n",
        "n_test = 500\n",
        "eps = 1e-08\n",
        "\n",
        "util_grad_exact = 'dERM_GP'\n",
        "util_grad_approx = 'ExpectedRegret'\n",
        "\n",
        "n_init = 5 # random initialisations\n",
        "iters = 20\n",
        "opt = True"
      ],
      "execution_count": 3,
      "outputs": []
    },
    {
      "cell_type": "code",
      "metadata": {
        "id": "xpaEOjdzaPMS"
      },
      "source": [
        "### Objective Function - Sum Squares(x) 2-D:\n",
        "\n",
        "def objfunc(x1_training, x2_training):\n",
        "            return  operator * (  1 * x1_training ** 2\n",
        "                            + 2 * x2_training ** 2\n",
        "                            )\n",
        "        \n",
        "# Constraints:\n",
        "lb = -10\n",
        "ub = +10\n",
        "    \n",
        "# Input array dimension(s):\n",
        "dim = 2\n",
        "\n",
        "# 2-D inputs' parameter bounds:\n",
        "param = {'x1_training': ('cont', [lb, ub]),\n",
        "                 'x2_training': ('cont', [lb, ub])\n",
        "                 }\n",
        "    \n",
        "# True y bounds:\n",
        "y_lb = 0\n",
        "operator = -1 # targets global minimum \n",
        "y_global_orig = y_lb * operator # targets global minimum\n",
        "    \n",
        "# Test data:\n",
        "x1_test = np.linspace(lb, ub, n_test)\n",
        "x2_test = np.linspace(lb, ub, n_test)\n",
        "x_test = np.column_stack((x1_test, x2_test))\n"
      ],
      "execution_count": 4,
      "outputs": []
    },
    {
      "cell_type": "code",
      "metadata": {
        "id": "eYpI3Zm4aGxi"
      },
      "source": [
        "n_start_AcqFunc = iters\n"
      ],
      "execution_count": 5,
      "outputs": []
    },
    {
      "cell_type": "code",
      "metadata": {
        "id": "oO_GUmOoaV0T"
      },
      "source": [
        "### Cumulative Regret Calculator:\n",
        "\n",
        "def min_max_array(x):\n",
        "    new_list = []\n",
        "    for i, num in enumerate(x):\n",
        "            new_list.append(np.min(x[0:i+1]))\n",
        "    return new_list\n",
        "  "
      ],
      "execution_count": 6,
      "outputs": []
    },
    {
      "cell_type": "code",
      "metadata": {
        "id": "kuuJx0IMam9S"
      },
      "source": [
        "### Surrogate derivatives: \n",
        "\n",
        "cov_func = squaredExponential()\n",
        "\n",
        "def kronDelta(X, Xstar):                     # Kronecker's Delta method\n",
        "    return cdist(X, Xstar) < np.finfo(np.float32).eps\n",
        "\n",
        "def se(X, Xstar, sigmaf, l, sigman):         # S.E. kernel method\n",
        "    return sigmaf * np.exp(-0.5 * cdist(X, Xstar) ** 2 / l ** 2) + sigman * kronDelta(X, Xstar)\n",
        "\n",
        "def delta(X, Xstar):                         # Distance between training X and test Xstar vectors\n",
        "    return (X - Xstar)\n",
        "   \n",
        "def der_covmat(X, Xstar, sigmaf, l, sigman): # Covariance matrix derivative terms (i.e. exact, first-order)\n",
        "    nx = len(X)\n",
        "    ny = len(Xstar)\n",
        "    return np.round(np.array([(delta(np.atleast_2d(i), np.atleast_2d(j))[0] * se(np.atleast_2d(i), np.atleast_2d(j), sigmaf, l, sigman)[0]).sum() for (i, j) in itertools.product(X, Xstar)]).reshape(nx, ny), 8)\n",
        "\n",
        "class dGaussianProcess(GaussianProcess):    # Via inheritance, also optimises hyperparameters when opt = TRUE\n",
        "    \n",
        "    def AcqGrad(self, Xstar):               # Method returning exact, first-order derivatives of the GP's posterior mean and standard deviation\n",
        "        Xstar = np.atleast_2d(Xstar)\n",
        "        Kstar = self.covfunc.K(self.X, Xstar).T\n",
        "        \n",
        "        dKstar = der_covmat(self.X, Xstar, self.covfunc.sigmaf, self.covfunc.l, self.covfunc.sigman).T\n",
        "        alpha_Kstar = np.dot(np.linalg.inv(self.K + (self.covfunc.sigman**2) * np.eye(len(self.X))), Kstar.T)\n",
        "        \n",
        "        dm = np.dot(dKstar, self.alpha)\n",
        "        ds = -2 * np.dot(dKstar, alpha_Kstar)\n",
        "        \n",
        "        return dm, ds\n",
        "        "
      ],
      "execution_count": 7,
      "outputs": []
    },
    {
      "cell_type": "code",
      "metadata": {
        "id": "_Dc3YVHVaXz7"
      },
      "source": [
        "class Acquisition_new(Acquisition):    \n",
        "    def __init__(self, mode, eps=eps, **params):\n",
        "        \n",
        "        self.params = params\n",
        "        self.eps = eps\n",
        "\n",
        "        mode_dict = {\n",
        "            'ExpectedRegret': self.ExpectedRegret,\n",
        "            'dERM_GP': self.dERM_GP\n",
        "        }\n",
        "\n",
        "        self.f = mode_dict[mode]\n",
        "    \n",
        "    def ExpectedRegret(self, tau, mean, std):\n",
        "        z = (mean - y_global_orig - self.eps) / (std + self.eps)\n",
        "        return (mean - y_global_orig) * norm.cdf(z) + std * norm.pdf(z)[0]\n",
        "\n",
        "\n",
        "    def dERM_GP(self, tau, mean, std, ds, dm):\n",
        "        gamma = (mean - y_global_orig - self.eps) / (std + self.eps)\n",
        "        gamma_h = (mean - tau) / (std + self.eps)\n",
        "        dsdx = ds / (2 * (std + self.eps))\n",
        "        dmdx = (dm - gamma * dsdx) / (std + self.eps)\n",
        "        \n",
        "        f = (std + self.eps) * (gamma * norm.cdf(gamma) + norm.pdf(gamma))\n",
        "        df1 = f / (std + self.eps) * dsdx \n",
        "        df2 = (std + self.eps) * norm.cdf(gamma) * dmdx\n",
        "        df = (df1 + df2)[0]\n",
        "        df_arr = []\n",
        "\n",
        "        for j in range(0, dim):\n",
        "          df_arr.append(df)\n",
        "        return f, np.asarray(df_arr).transpose()\n",
        "        \n",
        "    def d_eval(self, tau, mean, std, ds, dm):\n",
        "    \n",
        "        return self.f(tau, mean, std, ds, dm, **self.params)\n",
        "        "
      ],
      "execution_count": 8,
      "outputs": []
    },
    {
      "cell_type": "code",
      "metadata": {
        "id": "PITEQC8YSl7i"
      },
      "source": [
        "## GPGO_multi: Multistart changed to variable 'n_start_AcqFunc'\n",
        "\n",
        "class GPGO_multi(GPGO):\n",
        "    n_start = n_start_AcqFunc\n",
        "\n",
        "    def _optimizeAcq(self, method='L-BFGS-B', n_start=n_start_AcqFunc):\n",
        "        \n",
        "        start_points_dict = [self._sampleParam() for i in range(n_start)]\n",
        "        start_points_arr = np.array([list(s.values())\n",
        "                                     for s in start_points_dict])\n",
        "        x_best = np.empty((n_start, len(self.parameter_key)))\n",
        "        f_best = np.empty((n_start,))\n",
        "        if self.n_jobs == 1:\n",
        "            for index, start_point in enumerate(start_points_arr):\n",
        "                res = minimize(self._acqWrapper, x0=start_point, method=method,\n",
        "                               bounds=self.parameter_range)\n",
        "                x_best[index], f_best[index] = res.x, np.atleast_1d(res.fun)[0]\n",
        "        else:\n",
        "            opt = Parallel(n_jobs=self.n_jobs)(delayed(minimize)(self._acqWrapper,\n",
        "                                                                 x0=start_point,\n",
        "                                                                 method=method,\n",
        "                                                                 bounds=self.parameter_range) for start_point in\n",
        "                                               start_points_arr)\n",
        "            x_best = np.array([res.x for res in opt])\n",
        "            f_best = np.array([np.atleast_1d(res.fun)[0] for res in opt])\n",
        "\n",
        "        self.best = x_best[np.argmin(f_best)]"
      ],
      "execution_count": 9,
      "outputs": []
    },
    {
      "cell_type": "code",
      "metadata": {
        "id": "b_B-w81BJxKN"
      },
      "source": [
        "## dGPGO:\n",
        "\n",
        "grad = 1\n",
        "\n",
        "class dGPGO(GPGO):\n",
        "    n_start = n_start_AcqFunc\n",
        "\n",
        "    def d_optimizeAcq(self, method='L-BFGS-B', n_start=n_start_AcqFunc):\n",
        "        start_points_dict = [self._sampleParam() for i in range(n_start)]\n",
        "        start_points_arr = np.array([list(s.values())\n",
        "                                     for s in start_points_dict])\n",
        "        x_best = np.empty((n_start, len(self.parameter_key)))\n",
        "        f_best = np.empty((n_start,))\n",
        "        opt = Parallel(n_jobs=self.n_jobs)(delayed(minimize)(self.acqfunc,\n",
        "                                                                 x0=start_point,\n",
        "                                                                 method=method,\n",
        "                                                                 jac = True,\n",
        "                                                                 bounds=self.parameter_range) for start_point in\n",
        "                                               start_points_arr)\n",
        "        x_best = np.array([res.x for res in opt])\n",
        "        f_best = np.array([np.atleast_1d(res.fun)[0] for res in opt])\n",
        "\n",
        "        self.x_best = x_best\n",
        "        self.f_best = f_best\n",
        "        self.best = x_best[np.argmin(f_best)]\n",
        "        self.start_points_arr = start_points_arr\n",
        "\n",
        "        return x_best, f_best\n",
        "    \n",
        "    def run(self, max_iter=10, init_evals=3, resume=False):\n",
        "        \n",
        "        if not resume:\n",
        "            self.init_evals = init_evals\n",
        "            self._firstRun(self.init_evals)\n",
        "            self.logger._printInit(self)\n",
        "        for iteration in range(max_iter):\n",
        "            self.d_optimizeAcq()\n",
        "            self.updateGP()\n",
        "            self.logger._printCurrent(self)\n",
        "\n",
        "    def acqfunc(self, xnew, n_start=n_start_AcqFunc):\n",
        "        new_mean, new_var = self.GP.predict(xnew, return_std=True)\n",
        "        new_std = np.sqrt(new_var + eps)\n",
        "        dm, ds = self.GP.AcqGrad(xnew)\n",
        "        f, df = self.A.d_eval(self.tau, new_mean, new_std, ds=ds, dm=dm)\n",
        "\n",
        "        return -f, -df * grad\n"
      ],
      "execution_count": 10,
      "outputs": []
    },
    {
      "cell_type": "code",
      "metadata": {
        "id": "qXIKGuXVGEg2"
      },
      "source": [
        "###Reproducible set-seeds:\n",
        "\n",
        "run_num_1 = 1\n",
        "run_num_2 = 2\n",
        "run_num_3 = 3\n",
        "run_num_4 = 4\n",
        "run_num_5 = 5\n",
        "run_num_6 = 6\n",
        "run_num_7 = 7\n",
        "run_num_8 = 8\n",
        "run_num_9 = 9\n",
        "run_num_10 = 10\n",
        "run_num_11 = 11\n",
        "run_num_12 = 12\n",
        "run_num_13 = 13\n",
        "run_num_14 = 14\n",
        "run_num_15 = 15\n",
        "run_num_16 = 16\n",
        "run_num_17 = 17\n",
        "run_num_18 = 18\n",
        "run_num_19 = 19\n",
        "run_num_20 = 20\n"
      ],
      "execution_count": 11,
      "outputs": []
    },
    {
      "cell_type": "code",
      "metadata": {
        "colab": {
          "base_uri": "https://localhost:8080/"
        },
        "id": "JEhagQmnTVIK",
        "outputId": "764f8c26-a020-46ee-c85d-01b740d29dc2"
      },
      "source": [
        "start_approx = time.time()\n",
        "start_approx\n"
      ],
      "execution_count": 12,
      "outputs": [
        {
          "output_type": "execute_result",
          "data": {
            "text/plain": [
              "1643284265.0947275"
            ]
          },
          "metadata": {},
          "execution_count": 12
        }
      ]
    },
    {
      "cell_type": "code",
      "metadata": {
        "colab": {
          "base_uri": "https://localhost:8080/"
        },
        "id": "aH0YSTXufD1v",
        "outputId": "5d15c796-0742-48e1-ca50-ac94cd712653"
      },
      "source": [
        "### ESTIMATED GP EI GRADIENTS\n",
        "\n",
        "np.random.seed(run_num_1)\n",
        "surrogate_approx_1 = GaussianProcess(cov_func, optimize=opt)\n",
        "\n",
        "approx_1 = GPGO_multi(surrogate_approx_1, Acquisition_new(util_grad_approx), objfunc, param)\n",
        "approx_1.run(init_evals=n_init, max_iter=iters)\n"
      ],
      "execution_count": 13,
      "outputs": [
        {
          "output_type": "stream",
          "name": "stdout",
          "text": [
            "Evaluation \t Proposed point \t  Current eval. \t Best eval.\n",
            "init   \t [-1.65955991  4.40648987]. \t  -41.5884450098667 \t -5.468172821636052\n",
            "init   \t [-9.9977125  -3.95334855]. \t  -131.21218477957908 \t -5.468172821636052\n",
            "init   \t [-7.06488218 -8.1532281 ]. \t  -182.86281732102734 \t -5.468172821636052\n",
            "init   \t [-6.27479577 -3.08878546]. \t  -58.4542532110911 \t -5.468172821636052\n",
            "init   \t [-2.06465052  0.77633468]. \t  -5.468172821636052 \t -5.468172821636052\n",
            "1      \t [ 7.89213327 -8.29911577]. \t  -200.03641276683908 \t -5.468172821636052\n",
            "2      \t [7.66612182 2.47344414]. \t  -71.00527566059496 \t -5.468172821636052\n",
            "3      \t [1.62717855 9.40039978]. \t  -179.3827421328839 \t -5.468172821636052\n",
            "4      \t [-9.56950389  8.95940422]. \t  -252.11725289788865 \t -5.468172821636052\n",
            "5      \t [ 2.56152397 -4.28847437]. \t  -43.34342980630102 \t -5.468172821636052\n",
            "6      \t [  1.1169921 -10.       ]. \t  -201.2476713447619 \t -5.468172821636052\n",
            "7      \t [-7.49060555  3.35024517]. \t  -78.55745694801789 \t -5.468172821636052\n",
            "8      \t [9.02387571 8.10804067]. \t  -212.91097997027106 \t -5.468172821636052\n",
            "9      \t [10.         -2.85188157]. \t  -116.26645702057576 \t -5.468172821636052\n",
            "10     \t [2.64920007 1.04053183]. \t  -9.183673986517087 \t -5.468172821636052\n",
            "11     \t [-3.97569829 10.        ]. \t  -215.80617686500926 \t -5.468172821636052\n",
            "12     \t [-2.16296243 -5.88048627]. \t  -73.83864392235628 \t -5.468172821636052\n",
            "13     \t [3.84774591 5.14667419]. \t  -67.78165896257919 \t -5.468172821636052\n",
            "14     \t [ 5.72317451 -1.50577622]. \t  -37.28945056003628 \t -5.468172821636052\n",
            "15     \t [ -3.2240126 -10.       ]. \t  -210.39425723570147 \t -5.468172821636052\n",
            "16     \t [-0.60182702 -2.03278925]. \t  -8.626660068368503 \t -5.468172821636052\n",
            "17     \t [-10.           0.24203807]. \t  -100.11716485912413 \t -5.468172821636052\n",
            "18     \t [ 5.53549278 10.        ]. \t  -230.6416803362896 \t -5.468172821636052\n",
            "19     \t [-5.00571267  6.12611485]. \t  -100.11572564430831 \t -5.468172821636052\n",
            "20     \t [-5.00908085  0.4486467 ]. \t  -25.493458665905877 \t -5.468172821636052\n"
          ]
        }
      ]
    },
    {
      "cell_type": "code",
      "metadata": {
        "colab": {
          "base_uri": "https://localhost:8080/"
        },
        "id": "wTxsSZxFGBB5",
        "outputId": "75665f57-9811-468e-eff2-8286f7709be4"
      },
      "source": [
        "### ESTIMATED GP EI GRADIENTS\n",
        "\n",
        "np.random.seed(run_num_2)\n",
        "surrogate_approx_2 = GaussianProcess(cov_func, optimize=opt)\n",
        "\n",
        "approx_2 = GPGO_multi(surrogate_approx_2, Acquisition_new(util_grad_approx), objfunc, param)\n",
        "approx_2.run(init_evals=n_init, max_iter=iters)\n"
      ],
      "execution_count": 14,
      "outputs": [
        {
          "output_type": "stream",
          "name": "stdout",
          "text": [
            "Evaluation \t Proposed point \t  Current eval. \t Best eval.\n",
            "init   \t [-1.28010196 -9.48147536]. \t  -181.43541115584648 \t -4.333099000920773\n",
            "init   \t [ 0.99324956 -1.29355215]. \t  -4.333099000920773 \t -4.333099000920773\n",
            "init   \t [-1.59264396 -3.39330358]. \t  -25.565533148780872 \t -4.333099000920773\n",
            "init   \t [-5.90702732  2.38541933]. \t  -46.27342248166184 \t -4.333099000920773\n",
            "init   \t [-4.00690653 -4.6634545 ]. \t  -59.55091562094812 \t -4.333099000920773\n",
            "1      \t [4.01504693 9.2910216 ]. \t  -188.7667666769868 \t -4.333099000920773\n",
            "2      \t [ 9.4582138 -7.7444757]. \t  -209.411615827435 \t -4.333099000920773\n",
            "3      \t [ 9.07319925 -1.03970567]. \t  -84.48492034594878 \t -4.333099000920773\n",
            "4      \t [-9.13741927 -7.85625192]. \t  -206.93381928482216 \t -4.333099000920773\n",
            "5      \t [9.90347629 4.73174783]. \t  -142.85771782951963 \t -4.333099000920773\n",
            "6      \t [-3.25263411  9.0402141 ]. \t  -174.03057068772284 \t -4.333099000920773\n",
            "7      \t [-9.01290675  7.88655796]. \t  -205.6280811546718 \t -4.333099000920773\n",
            "8      \t [0.91788639 4.23601693]. \t  -36.73019421136183 \t -4.333099000920773\n",
            "9      \t [-10.         -2.0092948]. \t  -108.07453115940625 \t -4.333099000920773\n",
            "10     \t [ 4.05372345 -5.55729273]. \t  -78.19967873298117 \t -4.333099000920773\n",
            "11     \t [ 9.79314554 10.        ]. \t  -295.9056995837332 \t -4.333099000920773\n",
            "12     \t [  4.90993564 -10.        ]. \t  -224.1074679872196 \t -4.333099000920773\n",
            "13     \t [5.22523872 2.14432117]. \t  -36.49934622793148 \t -4.333099000920773\n",
            "14     \t [-1.9173604   0.96512813]. \t  -5.539215544867245 \t -4.333099000920773\n",
            "15     \t [-10.           3.12110763]. \t  -119.48262571759297 \t -4.333099000920773\n",
            "16     \t [ -5.48533293 -10.        ]. \t  -230.08887731188327 \t -4.333099000920773\n",
            "17     \t [ 4.66227134 -1.60941391]. \t  -26.917200307308196 \t -4.333099000920773\n",
            "18     \t [-2.88871747  4.79717148]. \t  -54.370397151668584 \t -4.333099000920773\n",
            "19     \t [-5.90531859 -1.36494395]. \t  -38.59893158457583 \t -4.333099000920773\n",
            "20     \t [5.94717819 5.74230615]. \t  -101.31708827349968 \t -4.333099000920773\n"
          ]
        }
      ]
    },
    {
      "cell_type": "code",
      "metadata": {
        "colab": {
          "base_uri": "https://localhost:8080/"
        },
        "id": "-dgzIrUIGCGT",
        "outputId": "ff23dcfe-5c00-4ecc-8bd4-08021721ff38"
      },
      "source": [
        "### ESTIMATED GP EI GRADIENTS\n",
        "\n",
        "np.random.seed(run_num_3)\n",
        "surrogate_approx_3 = GaussianProcess(cov_func, optimize=opt)\n",
        "\n",
        "approx_3 = GPGO_multi(surrogate_approx_3, Acquisition_new(util_grad_approx), objfunc, param)\n",
        "approx_3.run(init_evals=n_init, max_iter=iters)\n"
      ],
      "execution_count": 15,
      "outputs": [
        {
          "output_type": "stream",
          "name": "stdout",
          "text": [
            "Evaluation \t Proposed point \t  Current eval. \t Best eval.\n",
            "init   \t [1.01595805 4.16295645]. \t  -35.692583610916834 \t -17.582120911078754\n",
            "init   \t [-4.18190522  0.2165521 ]. \t  -17.582120911078754 \t -17.582120911078754\n",
            "init   \t [7.85893909 7.92586178]. \t  -187.4014934415638 \t -17.582120911078754\n",
            "init   \t [-7.48829379 -5.85514244]. \t  -124.63992981683481 \t -17.582120911078754\n",
            "init   \t [-8.97065593 -1.18380313]. \t  -83.2754475728413 \t -17.582120911078754\n",
            "1      \t [ 5.60629529 -3.87272935]. \t  -61.42661215628989 \t -17.582120911078754\n",
            "2      \t [-8.52752662  7.84786375]. \t  -195.89664111179286 \t -17.582120911078754\n",
            "3      \t [-0.35005916 -4.25900471]. \t  -36.40078359655554 \t -17.582120911078754\n",
            "4      \t [9.55904819 0.05502095]. \t  -91.38145696941282 \t -17.582120911078754\n",
            "5      \t [ 1.26866936 10.        ]. \t  -201.60952194488695 \t -17.582120911078754\n",
            "6      \t [ 9.91572611 -9.01887335]. \t  -261.00177731356047 \t -17.582120911078754\n",
            "7      \t [-2.10496259 -9.55536227]. \t  -187.04076369171705 \t -17.582120911078754\n",
            "8      \t [3.68603336 0.5392451 ]. \t  \u001b[92m-14.168412517260489\u001b[0m \t -14.168412517260489\n",
            "9      \t [-3.563219    6.69074367]. \t  -102.22863138699154 \t -14.168412517260489\n",
            "10     \t [-10. -10.]. \t  -300.0 \t -14.168412517260489\n",
            "11     \t [ 3.06806496 -8.28975197]. \t  -146.8529981945441 \t -14.168412517260489\n",
            "12     \t [-7.03293338  3.63874118]. \t  -75.94302669048102 \t -14.168412517260489\n",
            "13     \t [-4.11685903 -3.45936685]. \t  -40.88296634218152 \t -14.168412517260489\n",
            "14     \t [6.42223715 3.51632256]. \t  -65.9741787539397 \t -14.168412517260489\n",
            "15     \t [10.         -4.35832049]. \t  -137.9899149113921 \t -14.168412517260489\n",
            "16     \t [-0.21902957  0.01157051]. \t  \u001b[92m-0.04824170710537467\u001b[0m \t -0.04824170710537467\n",
            "17     \t [3.84712986 6.65963936]. \t  -103.50200094363754 \t -0.04824170710537467\n",
            "18     \t [10.          4.32195614]. \t  -137.3586097290018 \t -0.04824170710537467\n",
            "19     \t [-2.32874402  2.91707656]. \t  -22.44172006867606 \t -0.04824170710537467\n",
            "20     \t [-0.99242418 -0.82206136]. \t  -2.3364755194101416 \t -0.04824170710537467\n"
          ]
        }
      ]
    },
    {
      "cell_type": "code",
      "metadata": {
        "colab": {
          "base_uri": "https://localhost:8080/"
        },
        "id": "hOtG-2sCGCKS",
        "outputId": "b095f5c6-fee1-4788-8726-5c426d355a9c"
      },
      "source": [
        "### ESTIMATED GP EI GRADIENTS\n",
        "\n",
        "np.random.seed(run_num_4)\n",
        "surrogate_approx_4 = GaussianProcess(cov_func, optimize=opt)\n",
        "\n",
        "approx_4 = GPGO_multi(surrogate_approx_4, Acquisition_new(util_grad_approx), objfunc, param)\n",
        "approx_4.run(init_evals=n_init, max_iter=iters)\n"
      ],
      "execution_count": 16,
      "outputs": [
        {
          "output_type": "stream",
          "name": "stdout",
          "text": [
            "Evaluation \t Proposed point \t  Current eval. \t Best eval.\n",
            "init   \t [9.34059678 0.94464498]. \t  -89.0314565014143 \t -27.80880071439404\n",
            "init   \t [9.4536872  4.29631987]. \t  -126.28893057280868 \t -27.80880071439404\n",
            "init   \t [ 3.95457649 -5.67821009]. \t  -80.12281484649141 \t -27.80880071439404\n",
            "init   \t [ 9.5254891 -9.8753949]. \t  -285.78179120922215 \t -27.80880071439404\n",
            "init   \t [-4.94035275 -1.30416935]. \t  -27.80880071439404 \t -27.80880071439404\n",
            "1      \t [-6.35109191  8.36766078]. \t  -180.3718623830372 \t -27.80880071439404\n",
            "2      \t [1.43282743 6.87413988]. \t  -96.56059262521096 \t -27.80880071439404\n",
            "3      \t [ -1.01718283 -10.        ]. \t  -201.03466091024856 \t -27.80880071439404\n",
            "4      \t [-10.           1.63643071]. \t  -105.35581092429686 \t -27.80880071439404\n",
            "5      \t [6.76296991 9.58289924]. \t  -229.40167778295262 \t -27.80880071439404\n",
            "6      \t [1.38816048 0.71187876]. \t  \u001b[92m-2.9405322508945897\u001b[0m \t -2.9405322508945897\n",
            "7      \t [-9.17779306 -4.93993421]. \t  -133.03778559310527 \t -2.9405322508945897\n",
            "8      \t [-3.15300854  3.66085957]. \t  -36.7452484549982 \t -2.9405322508945897\n",
            "9      \t [10.        -4.3434752]. \t  -137.73155354120775 \t -2.9405322508945897\n",
            "10     \t [ -6.83016895 -10.        ]. \t  -246.65120788230308 \t -2.9405322508945897\n",
            "11     \t [-1.14749924 -4.50718319]. \t  -41.946155170252034 \t -2.9405322508945897\n",
            "12     \t [ 2.71135264 -9.66992891]. \t  -194.36648322470168 \t -2.9405322508945897\n",
            "13     \t [4.67081978 3.08524574]. \t  -40.85403992333572 \t -2.9405322508945897\n",
            "14     \t [ 5.21746036 -1.33324213]. \t  -30.776961734279176 \t -2.9405322508945897\n",
            "15     \t [-1.88418574 10.        ]. \t  -203.55015589508906 \t -2.9405322508945897\n",
            "16     \t [-4.90060357 -5.87436548]. \t  -93.03225494386083 \t -2.9405322508945897\n",
            "17     \t [-1.38394636 -0.26706859]. \t  \u001b[92m-2.0579587798891454\u001b[0m \t -2.0579587798891454\n",
            "18     \t [ 1.6667071  -2.17242666]. \t  -12.216787765780694 \t -2.0579587798891454\n",
            "19     \t [-10.  10.]. \t  -300.0 \t -2.0579587798891454\n",
            "20     \t [0.46403079 3.14498382]. \t  -19.997170973965115 \t -2.0579587798891454\n"
          ]
        }
      ]
    },
    {
      "cell_type": "code",
      "metadata": {
        "colab": {
          "base_uri": "https://localhost:8080/"
        },
        "id": "JF_SxcEvGCOl",
        "outputId": "9fe0d6fc-bb11-4cb3-fbc4-10c52d8f209a"
      },
      "source": [
        "### ESTIMATED GP EI GRADIENTS\n",
        "\n",
        "np.random.seed(run_num_5)\n",
        "surrogate_approx_5 = GaussianProcess(cov_func, optimize=opt)\n",
        "\n",
        "approx_5 = GPGO_multi(surrogate_approx_5, Acquisition_new(util_grad_approx), objfunc, param)\n",
        "approx_5.run(init_evals=n_init, max_iter=iters)\n"
      ],
      "execution_count": 17,
      "outputs": [
        {
          "output_type": "stream",
          "name": "stdout",
          "text": [
            "Evaluation \t Proposed point \t  Current eval. \t Best eval.\n",
            "init   \t [-5.56013658  7.41464612]. \t  -140.86907304317228 \t -10.04307293518387\n",
            "init   \t [-5.86561689  8.37221816]. \t  -174.59353533361667 \t -10.04307293518387\n",
            "init   \t [-0.23177622  2.23487726]. \t  -10.04307293518387 \t -10.04307293518387\n",
            "init   \t [5.31815713 0.36835976]. \t  -28.554173077012745 \t -10.04307293518387\n",
            "init   \t [-4.06398997 -6.24557543]. \t  -94.53043928694063 \t -10.04307293518387\n",
            "1      \t [9.27861058 9.20453431]. \t  -255.5395178906315 \t -10.04307293518387\n",
            "2      \t [ 8.87080164 -7.76615146]. \t  -199.31733862713008 \t -10.04307293518387\n",
            "3      \t [0.54357666 9.2242228 ]. \t  -170.4680482407008 \t -10.04307293518387\n",
            "4      \t [ 2.49508934 -6.80638133]. \t  -98.87912454627462 \t -10.04307293518387\n",
            "5      \t [-10.          -5.51410504]. \t  -160.81070873939112 \t -10.04307293518387\n",
            "6      \t [-8.62367183  0.50898962]. \t  -74.88585667581904 \t -10.04307293518387\n",
            "7      \t [10.          3.37456894]. \t  -122.77543106733403 \t -10.04307293518387\n",
            "8      \t [10.        -2.2421238]. \t  -110.05423826130482 \t -10.04307293518387\n",
            "9      \t [4.76089451 5.59371431]. \t  -85.24539623594852 \t -10.04307293518387\n",
            "10     \t [-3.63307563 -1.04626143]. \t  -15.38856448586747 \t -10.04307293518387\n",
            "11     \t [ -7.49970684 -10.        ]. \t  -256.2456027149143 \t -10.04307293518387\n",
            "12     \t [-10.          5.2559953]. \t  -155.25097324151815 \t -10.04307293518387\n",
            "13     \t [ 1.02692531 -2.0835358 ]. \t  \u001b[92m-9.736818446334702\u001b[0m \t -9.736818446334702\n",
            "14     \t [ -1.11930922 -10.        ]. \t  -201.2528531322303 \t -9.736818446334702\n",
            "15     \t [ 5.79628138 -3.87245825]. \t  -63.58874362519282 \t -9.736818446334702\n",
            "16     \t [-4.49165603  2.99945462]. \t  -38.16842997327295 \t -9.736818446334702\n",
            "17     \t [-1.52573059  5.56595369]. \t  -64.28753469621154 \t -9.736818446334702\n",
            "18     \t [ 4.86540253 10.        ]. \t  -223.67214181854663 \t -9.736818446334702\n",
            "19     \t [-10.  10.]. \t  -300.0 \t -9.736818446334702\n",
            "20     \t [  5.10722481 -10.        ]. \t  -226.08374522373168 \t -9.736818446334702\n"
          ]
        }
      ]
    },
    {
      "cell_type": "code",
      "metadata": {
        "colab": {
          "base_uri": "https://localhost:8080/"
        },
        "id": "-kDxZtJsGCR3",
        "outputId": "7343218e-ef28-4647-85b7-38aa64406636"
      },
      "source": [
        "### ESTIMATED GP EI GRADIENTS\n",
        "\n",
        "np.random.seed(run_num_6)\n",
        "surrogate_approx_6 = GaussianProcess(cov_func, optimize=opt)\n",
        "\n",
        "approx_6 = GPGO_multi(surrogate_approx_6, Acquisition_new(util_grad_approx), objfunc, param)\n",
        "approx_6.run(init_evals=n_init, max_iter=iters)\n"
      ],
      "execution_count": 18,
      "outputs": [
        {
          "output_type": "stream",
          "name": "stdout",
          "text": [
            "Evaluation \t Proposed point \t  Current eval. \t Best eval.\n",
            "init   \t [ 7.85720303 -3.36040389]. \t  -84.32026809583151 \t -5.629416961321397\n",
            "init   \t [ 6.42458246 -9.16606749]. \t  -209.30884609749882 \t -5.629416961321397\n",
            "init   \t [-7.8468664   1.90104128]. \t  -68.80122824744078 \t -5.629416961321397\n",
            "init   \t [ 0.59634724 -1.62385143]. \t  -5.629416961321397 \t -5.629416961321397\n",
            "init   \t [-3.29184301  2.45038864]. \t  -22.84503944485431 \t -5.629416961321397\n",
            "1      \t [4.34664291 8.74699069]. \t  -171.91299695999675 \t -5.629416961321397\n",
            "2      \t [-4.96771714 -9.17248997]. \t  -192.94735819477367 \t -5.629416961321397\n",
            "3      \t [9.57427611 1.74148842]. \t  -97.73232691305284 \t -5.629416961321397\n",
            "4      \t [-5.6935267   8.60486508]. \t  -180.50365249520243 \t -5.629416961321397\n",
            "5      \t [3.70615819 2.88302382]. \t  -30.359261199656586 \t -5.629416961321397\n",
            "6      \t [-8.88129971 -3.75034449]. \t  -107.00765218794083 \t -5.629416961321397\n",
            "7      \t [-0.45748598  7.70980473]. \t  -119.09147150685489 \t -5.629416961321397\n",
            "8      \t [-3.42355456 -4.755711  ]. \t  -56.95430008511229 \t -5.629416961321397\n",
            "9      \t [-1.22868843  4.34354782]. \t  -39.24249056209099 \t -5.629416961321397\n",
            "10     \t [9.10343891 6.83055529]. \t  -176.18557108785902 \t -5.629416961321397\n",
            "11     \t [ 0.74228331 -9.90226801]. \t  -196.66080803876721 \t -5.629416961321397\n",
            "12     \t [ 3.05663185 -5.18713297]. \t  -63.15569510835169 \t -5.629416961321397\n",
            "13     \t [ 5.21347435 -0.8833208 ]. \t  -28.74082607218724 \t -5.629416961321397\n",
            "14     \t [-10.           6.23653908]. \t  -177.7888393020141 \t -5.629416961321397\n",
            "15     \t [-5.02082642 -1.09402022]. \t  -27.602458399818406 \t -5.629416961321397\n",
            "16     \t [-10. -10.]. \t  -300.0 \t -5.629416961321397\n",
            "17     \t [10.         -6.88733866]. \t  -194.87086763499562 \t -5.629416961321397\n",
            "18     \t [0.48159057 1.20913262]. \t  \u001b[92m-3.1559328843417425\u001b[0m \t -3.1559328843417425\n",
            "19     \t [-10.  10.]. \t  -300.0 \t -3.1559328843417425\n",
            "20     \t [-5.63261428  4.79101032]. \t  -77.6339035045583 \t -3.1559328843417425\n"
          ]
        }
      ]
    },
    {
      "cell_type": "code",
      "metadata": {
        "colab": {
          "base_uri": "https://localhost:8080/"
        },
        "id": "fKB8MCD_GCVI",
        "outputId": "c27af6e3-9992-4bbc-ec5c-5a59a9e1946f"
      },
      "source": [
        "### ESTIMATED GP EI GRADIENTS\n",
        "\n",
        "np.random.seed(run_num_7)\n",
        "surrogate_approx_7 = GaussianProcess(cov_func, optimize=opt)\n",
        "\n",
        "approx_7 = GPGO_multi(surrogate_approx_7, Acquisition_new(util_grad_approx), objfunc, param)\n",
        "approx_7.run(init_evals=n_init, max_iter=iters)\n"
      ],
      "execution_count": 19,
      "outputs": [
        {
          "output_type": "stream",
          "name": "stdout",
          "text": [
            "Evaluation \t Proposed point \t  Current eval. \t Best eval.\n",
            "init   \t [-8.47383421  5.59837584]. \t  -134.48949046062052 \t -21.448213419349443\n",
            "init   \t [-1.23181537  4.46930356]. \t  -41.46671767109191 \t -21.448213419349443\n",
            "init   \t [9.55979024 0.76991741]. \t  -92.57513506242564 \t -21.448213419349443\n",
            "init   \t [ 0.02240927 -8.55897733]. \t  -146.51268814245697 \t -21.448213419349443\n",
            "init   \t [-4.63122040e+00 -2.34998349e-03]. \t  -21.448213419349443 \t -21.448213419349443\n",
            "1      \t [ 8.12846538 -6.39096762]. \t  -147.76088362344177 \t -21.448213419349443\n",
            "2      \t [6.00958098 8.78222707]. \t  -190.37008833601834 \t -21.448213419349443\n",
            "3      \t [-9.10467478 -9.8356699 ]. \t  -276.3759076385656 \t -21.448213419349443\n",
            "4      \t [-7.86246511 -2.61028169]. \t  -75.44549865130998 \t -21.448213419349443\n",
            "5      \t [3.74742604 0.87382913]. \t  \u001b[92m-15.570356662761933\u001b[0m \t -15.570356662761933\n",
            "6      \t [-3.1239147   9.75028194]. \t  -199.89483890589167 \t -15.570356662761933\n",
            "7      \t [-0.0500435  -2.86050177]. \t  -16.367445143602104 \t -15.570356662761933\n",
            "8      \t [-4.75358716 -6.6001154 ]. \t  -109.71963756756875 \t -15.570356662761933\n",
            "9      \t [  4.79557059 -10.        ]. \t  -222.99749730486081 \t -15.570356662761933\n",
            "10     \t [-10.  10.]. \t  -300.0 \t -15.570356662761933\n",
            "11     \t [ 4.2514677  -3.55951142]. \t  -43.41522074761165 \t -15.570356662761933\n",
            "12     \t [1.36225245 8.16134697]. \t  -135.07090046001494 \t -15.570356662761933\n",
            "13     \t [10.          5.72808962]. \t  -165.6220213893555 \t -15.570356662761933\n",
            "14     \t [-10.           1.27418153]. \t  -103.24707714327275 \t -15.570356662761933\n",
            "15     \t [5.59055404 4.2507105 ]. \t  -67.39137396898613 \t -15.570356662761933\n",
            "16     \t [-0.8177092   0.71116755]. \t  \u001b[92m-1.680166903504158\u001b[0m \t -1.680166903504158\n",
            "17     \t [-4.92090944  3.64309304]. \t  -50.75960351016103 \t -1.680166903504158\n",
            "18     \t [10. 10.]. \t  -300.0 \t -1.680166903504158\n",
            "19     \t [-10.          -5.74573073]. \t  -166.02684331645838 \t -1.680166903504158\n",
            "20     \t [ 10. -10.]. \t  -300.0 \t -1.680166903504158\n"
          ]
        }
      ]
    },
    {
      "cell_type": "code",
      "metadata": {
        "colab": {
          "base_uri": "https://localhost:8080/"
        },
        "id": "4unvifF-GCXp",
        "outputId": "3817eb6b-0c82-4b61-eafa-8e6826cd724c"
      },
      "source": [
        "### ESTIMATED GP EI GRADIENTS\n",
        "\n",
        "np.random.seed(run_num_8)\n",
        "surrogate_approx_8 = GaussianProcess(cov_func, optimize=opt)\n",
        "\n",
        "approx_8 = GPGO_multi(surrogate_approx_8, Acquisition_new(util_grad_approx), objfunc, param)\n",
        "approx_8.run(init_evals=n_init, max_iter=iters)\n"
      ],
      "execution_count": 20,
      "outputs": [
        {
          "output_type": "stream",
          "name": "stdout",
          "text": [
            "Evaluation \t Proposed point \t  Current eval. \t Best eval.\n",
            "init   \t [7.46858806 9.37081326]. \t  -231.40408972112363 \t -0.5791878792948744\n",
            "init   \t [7.3838908  0.61711383]. \t  -55.28350237060649 \t -0.5791878792948744\n",
            "init   \t [-5.34543344 -9.77202391]. \t  -219.5585614355461 \t -0.5791878792948744\n",
            "init   \t [-1.39062363 -1.9529728 ]. \t  -9.562039601098967 \t -0.5791878792948744\n",
            "init   \t [ 0.45349343 -0.43216408]. \t  -0.5791878792948744 \t -0.5791878792948744\n",
            "1      \t [ 9.69498875 -9.42535902]. \t  -271.6675921188219 \t -0.5791878792948744\n",
            "2      \t [-9.83383251  5.77166529]. \t  -163.3285022998636 \t -0.5791878792948744\n",
            "3      \t [-3.97152767  9.51013426]. \t  -196.65833950916016 \t -0.5791878792948744\n",
            "4      \t [-9.65586204 -5.07440767]. \t  -144.73489822426617 \t -0.5791878792948744\n",
            "5      \t [1.10947828 5.5318851 ]. \t  -62.4344475515165 \t -0.5791878792948744\n",
            "6      \t [ 3.77011518 -4.40569277]. \t  -53.034026014752534 \t -0.5791878792948744\n",
            "7      \t [  1.33298478 -10.        ]. \t  -201.77684843349064 \t -0.5791878792948744\n",
            "8      \t [-4.05723001  3.23001544]. \t  -37.3271147365377 \t -0.5791878792948744\n",
            "9      \t [-10.           0.33333175]. \t  -100.22222011503789 \t -0.5791878792948744\n",
            "10     \t [10.         -3.88683509]. \t  -130.21497402913457 \t -0.5791878792948744\n",
            "11     \t [10.          4.79401285]. \t  -145.96511832863257 \t -0.5791878792948744\n",
            "12     \t [-4.6781494  -4.70944364]. \t  -66.24280062778274 \t -0.5791878792948744\n",
            "13     \t [ 2.31770483 10.        ]. \t  -205.37175569938 \t -0.5791878792948744\n",
            "14     \t [-10. -10.]. \t  -300.0 \t -0.5791878792948744\n",
            "15     \t [2.9523608  1.32353925]. \t  -12.219946601915982 \t -0.5791878792948744\n",
            "16     \t [5.41928865 4.86992082]. \t  -76.80094716447906 \t -0.5791878792948744\n",
            "17     \t [-8.67823716 10.        ]. \t  -275.311800267538 \t -0.5791878792948744\n",
            "18     \t [-0.429724   -5.77843001]. \t  -66.96516936764596 \t -0.5791878792948744\n",
            "19     \t [-5.64205663 -0.57304873]. \t  -32.48957270407703 \t -0.5791878792948744\n",
            "20     \t [ 5.40614409 -8.23488306]. \t  -164.85299181799303 \t -0.5791878792948744\n"
          ]
        }
      ]
    },
    {
      "cell_type": "code",
      "metadata": {
        "colab": {
          "base_uri": "https://localhost:8080/"
        },
        "id": "85OIXcg7GCaJ",
        "outputId": "53a23e5f-a4cc-46eb-b292-2b8879abdf38"
      },
      "source": [
        "### ESTIMATED GP EI GRADIENTS\n",
        "\n",
        "np.random.seed(run_num_9)\n",
        "surrogate_approx_9 = GaussianProcess(cov_func, optimize=opt)\n",
        "\n",
        "approx_9 = GPGO_multi(surrogate_approx_9, Acquisition_new(util_grad_approx), objfunc, param)\n",
        "approx_9.run(init_evals=n_init, max_iter=iters)\n"
      ],
      "execution_count": 21,
      "outputs": [
        {
          "output_type": "stream",
          "name": "stdout",
          "text": [
            "Evaluation \t Proposed point \t  Current eval. \t Best eval.\n",
            "init   \t [-9.79251692  0.03749184]. \t  -95.896198949837 \t -53.418783741178075\n",
            "init   \t [-0.08453414 -7.32340942]. \t  -107.27179711012016 \t -53.418783741178075\n",
            "init   \t [-7.15777829 -5.62882649]. \t  -114.6011653140891 \t -53.418783741178075\n",
            "init   \t [-1.62983639 -5.03797663]. \t  -53.418783741178075 \t -53.418783741178075\n",
            "init   \t [-8.31880698 -3.0900272 ]. \t  -88.29908569649677 \t -53.418783741178075\n",
            "1      \t [6.0747954  9.66718496]. \t  -223.8120694300478 \t -53.418783741178075\n",
            "2      \t [-3.94738717  9.4159639 ]. \t  -192.90261763630335 \t -53.418783741178075\n",
            "3      \t [4.07561386 0.71776482]. \t  \u001b[92m-17.64100099927903\u001b[0m \t -17.64100099927903\n",
            "4      \t [ 8.66970884 -6.33785621]. \t  -155.50069423954056 \t -17.64100099927903\n",
            "5      \t [-1.19250765  3.24798733]. \t  -22.52091788262156 \t -17.64100099927903\n",
            "6      \t [10.          0.63541414]. \t  -100.8075022541351 \t -17.64100099927903\n",
            "7      \t [-9.63856619  7.6177572 ]. \t  -208.9624076098196 \t -17.64100099927903\n",
            "8      \t [  4.6233663 -10.       ]. \t  -221.3755159002408 \t -17.64100099927903\n",
            "9      \t [-10. -10.]. \t  -300.0 \t -17.64100099927903\n",
            "10     \t [-6.02359955  3.65530082]. \t  -63.00619975388076 \t -17.64100099927903\n",
            "11     \t [ -4.45841359 -10.        ]. \t  -219.8774517818635 \t -17.64100099927903\n",
            "12     \t [10.          5.95498747]. \t  -170.92375150910425 \t -17.64100099927903\n",
            "13     \t [1.14518836 7.61880769]. \t  -117.40391763752856 \t -17.64100099927903\n",
            "14     \t [ 3.9193509  -4.06027424]. \t  -48.33296520981442 \t -17.64100099927903\n",
            "15     \t [-3.80627704 -0.74006088]. \t  \u001b[92m-15.583125090036772\u001b[0m \t -15.583125090036772\n",
            "16     \t [5.18404488 4.8215028 ]. \t  -73.36809981548653 \t -15.583125090036772\n",
            "17     \t [ 0.34294873 -0.99719053]. \t  \u001b[92m-2.1063917310562994\u001b[0m \t -2.1063917310562994\n",
            "18     \t [-10.           3.72380986]. \t  -127.73351976035708 \t -2.1063917310562994\n",
            "19     \t [ 7.24665126 -2.22344715]. \t  -62.40138892769335 \t -2.1063917310562994\n",
            "20     \t [ 10. -10.]. \t  -300.0 \t -2.1063917310562994\n"
          ]
        }
      ]
    },
    {
      "cell_type": "code",
      "metadata": {
        "colab": {
          "base_uri": "https://localhost:8080/"
        },
        "id": "QQBR-qJPGCcp",
        "outputId": "23cfad0b-07ab-4c2f-9bc0-277ea354553c"
      },
      "source": [
        "### ESTIMATED GP EI GRADIENTS\n",
        "\n",
        "np.random.seed(run_num_10)\n",
        "surrogate_approx_10 = GaussianProcess(cov_func, optimize=opt)\n",
        "\n",
        "approx_10 = GPGO_multi(surrogate_approx_10, Acquisition_new(util_grad_approx), objfunc, param)\n",
        "approx_10.run(init_evals=n_init, max_iter=iters)\n"
      ],
      "execution_count": 22,
      "outputs": [
        {
          "output_type": "stream",
          "name": "stdout",
          "text": [
            "Evaluation \t Proposed point \t  Current eval. \t Best eval.\n",
            "init   \t [ 5.42641287 -9.58496101]. \t  -213.18891181932327 \t -56.66743785259343\n",
            "init   \t [2.6729647  4.97607765]. \t  -56.66743785259343 \t -56.66743785259343\n",
            "init   \t [-0.02985975 -5.50406709]. \t  -60.59040065376497 \t -56.66743785259343\n",
            "init   \t [-6.0387427   5.21061424]. \t  -90.76741505398337 \t -56.66743785259343\n",
            "init   \t [-6.61778327 -8.23320372]. \t  -179.36634226756874 \t -56.66743785259343\n",
            "1      \t [ 7.13700605 -2.96694721]. \t  -68.54240685564316 \t -56.66743785259343\n",
            "2      \t [2.11155129 0.26933255]. \t  \u001b[92m-4.603728884330075\u001b[0m \t -4.603728884330075\n",
            "3      \t [-7.90760511 -1.20789524]. \t  -65.44824041188056 \t -4.603728884330075\n",
            "4      \t [-4.25638812  9.80221347]. \t  -210.283617571058 \t -4.603728884330075\n",
            "5      \t [9.49624999 3.61148749]. \t  -116.26444759812676 \t -4.603728884330075\n",
            "6      \t [9.26715011 9.50785434]. \t  -266.67865967653205 \t -4.603728884330075\n",
            "7      \t [-2.74553241  0.60885862]. \t  -8.279365876019959 \t -4.603728884330075\n",
            "8      \t [-10.           9.25270269]. \t  -271.2250140814526 \t -4.603728884330075\n",
            "9      \t [-0.44833939 -9.85031703]. \t  -194.258499367196 \t -4.603728884330075\n",
            "10     \t [10.         -7.14928247]. \t  -202.22447977963031 \t -4.603728884330075\n",
            "11     \t [ 3.93611191 -5.96501725]. \t  -86.65583866217152 \t -4.603728884330075\n",
            "12     \t [ 1.44528921 10.        ]. \t  -202.08886090207835 \t -4.603728884330075\n",
            "13     \t [-4.21766618 -3.83416201]. \t  -47.19030464088253 \t -4.603728884330075\n",
            "14     \t [-10.           2.92353182]. \t  -117.09407664197573 \t -4.603728884330075\n",
            "15     \t [-10.          -5.11149799]. \t  -152.2548234820797 \t -4.603728884330075\n",
            "16     \t [-1.59464399  5.65462355]. \t  -66.49242447976006 \t -4.603728884330075\n",
            "17     \t [5.74074853 6.23074296]. \t  -110.60050921632208 \t -4.603728884330075\n",
            "18     \t [5.63569215 1.29457667]. \t  -35.1128834937846 \t -4.603728884330075\n",
            "19     \t [-0.35343426 -1.66772721]. \t  -5.687543876579795 \t -4.603728884330075\n",
            "20     \t [ 3.19627573 -2.26171513]. \t  -20.446889263193 \t -4.603728884330075\n"
          ]
        }
      ]
    },
    {
      "cell_type": "code",
      "metadata": {
        "colab": {
          "base_uri": "https://localhost:8080/"
        },
        "id": "JS8ejeQ2GCfi",
        "outputId": "3dc2aac4-025d-4f80-f27e-63276fbf64c4"
      },
      "source": [
        "### ESTIMATED GP EI GRADIENTS\n",
        "\n",
        "np.random.seed(run_num_11)\n",
        "surrogate_approx_11 = GaussianProcess(cov_func, optimize=opt)\n",
        "\n",
        "approx_11 = GPGO_multi(surrogate_approx_11, Acquisition_new(util_grad_approx), objfunc, param)\n",
        "approx_11.run(init_evals=n_init, max_iter=iters)\n"
      ],
      "execution_count": 23,
      "outputs": [
        {
          "output_type": "stream",
          "name": "stdout",
          "text": [
            "Evaluation \t Proposed point \t  Current eval. \t Best eval.\n",
            "init   \t [-6.39460622 -9.61049517]. \t  -225.61422357508457 \t -2.716881462565864\n",
            "init   \t [-0.73562947  4.49867858]. \t  -41.01736871863572 \t -2.716881462565864\n",
            "init   \t [-1.59592791 -0.29145804]. \t  -2.716881462565864 \t -2.716881462565864\n",
            "init   \t [-9.74438371 -0.25256785]. \t  -95.08059489374317 \t -2.716881462565864\n",
            "init   \t [8.83613305 7.01590179]. \t  -176.5230030066306 \t -2.716881462565864\n",
            "1      \t [ 1.99086793 -8.88652641]. \t  -161.90425830617428 \t -2.716881462565864\n",
            "2      \t [ 6.89877062 -3.95670624]. \t  -78.9040846386408 \t -2.716881462565864\n",
            "3      \t [  9.77656535 -10.        ]. \t  -295.58123009301335 \t -2.716881462565864\n",
            "4      \t [-6.50299346  4.89457725]. \t  -90.20269683532382 \t -2.716881462565864\n",
            "5      \t [0.0385348 9.4899039]. \t  -180.1180369987594 \t -2.716881462565864\n",
            "6      \t [5.24860912 2.85966119]. \t  -43.90322199383101 \t -2.716881462565864\n",
            "7      \t [-5.24921908 -3.83688198]. \t  -56.99762762300915 \t -2.716881462565864\n",
            "8      \t [-10.  10.]. \t  -300.0 \t -2.716881462565864\n",
            "9      \t [ 1.62053379 -3.44378451]. \t  -26.34543322615212 \t -2.716881462565864\n",
            "10     \t [-10.          -5.63825297]. \t  -163.57979318273883 \t -2.716881462565864\n",
            "11     \t [10.          0.53319857]. \t  -100.56860142436716 \t -2.716881462565864\n",
            "12     \t [-4.76434926  9.50911778]. \t  -203.54566581916194 \t -2.716881462565864\n",
            "13     \t [-1.69377784 -6.26330499]. \t  -81.32686220663481 \t -2.716881462565864\n",
            "14     \t [4.12133696 7.23501963]. \t  -121.67643646973636 \t -2.716881462565864\n",
            "15     \t [-5.12263438  0.62674215]. \t  -27.026994383511912 \t -2.716881462565864\n",
            "16     \t [1.68073489 0.74801607]. \t  -3.9439258570761444 \t -2.716881462565864\n",
            "17     \t [ 6.01300722 -7.90168512]. \t  -161.02951143864112 \t -2.716881462565864\n",
            "18     \t [ 4.46569959 -0.86968918]. \t  -21.455191347534125 \t -2.716881462565864\n",
            "19     \t [-10.           3.75774372]. \t  -128.2412756772489 \t -2.716881462565864\n",
            "20     \t [2.21567238 3.6001735 ]. \t  -30.831702611634654 \t -2.716881462565864\n"
          ]
        }
      ]
    },
    {
      "cell_type": "code",
      "metadata": {
        "colab": {
          "base_uri": "https://localhost:8080/"
        },
        "id": "DXwjUVZ4GCii",
        "outputId": "3fc31d8d-9c4b-4617-a11b-3c4fc8592d0d"
      },
      "source": [
        "### ESTIMATED GP EI GRADIENTS\n",
        "\n",
        "np.random.seed(run_num_12)\n",
        "surrogate_approx_12 = GaussianProcess(cov_func, optimize=opt)\n",
        "\n",
        "approx_12 = GPGO_multi(surrogate_approx_12, Acquisition_new(util_grad_approx), objfunc, param)\n",
        "approx_12.run(init_evals=n_init, max_iter=iters)\n"
      ],
      "execution_count": 24,
      "outputs": [
        {
          "output_type": "stream",
          "name": "stdout",
          "text": [
            "Evaluation \t Proposed point \t  Current eval. \t Best eval.\n",
            "init   \t [-6.91674315  4.80099393]. \t  -93.94042127407329 \t -23.318590147261595\n",
            "init   \t [-4.7336997   0.67478787]. \t  -23.318590147261595 \t -23.318590147261595\n",
            "init   \t [-9.70850075  8.37494016]. \t  -234.53423225249676 \t -23.318590147261595\n",
            "init   \t [ 8.01429708 -9.33157145]. \t  -238.38540908259807 \t -23.318590147261595\n",
            "init   \t [ 9.13898673 -7.25581357]. \t  -188.8147395776428 \t -23.318590147261595\n",
            "1      \t [4.66251955 4.05244711]. \t  -54.583743654491954 \t -23.318590147261595\n",
            "2      \t [-3.75432006 -8.6025265 ]. \t  -162.1018436659056 \t -23.318590147261595\n",
            "3      \t [ 0.87886819 -1.89091226]. \t  \u001b[92m-7.923507634979323\u001b[0m \t -7.923507634979323\n",
            "4      \t [0.62006076 8.91956245]. \t  -159.50166406148657 \t -7.923507634979323\n",
            "5      \t [ 8.15269188 -0.957369  ]. \t  -68.2994957298121 \t -7.923507634979323\n",
            "6      \t [9.82022544 8.00293105]. \t  -224.53063835529863 \t -7.923507634979323\n",
            "7      \t [ 2.19678836 -7.64250659]. \t  -121.6416931867226 \t -7.923507634979323\n",
            "8      \t [-9.97962139 -0.91408336]. \t  -101.26393987966128 \t -7.923507634979323\n",
            "9      \t [-9.54191923 -9.73433667]. \t  -280.5628434097156 \t -7.923507634979323\n",
            "10     \t [-0.58737005  3.51970401]. \t  -25.12163620018947 \t -7.923507634979323\n",
            "11     \t [-4.57653921 10.        ]. \t  -220.9447111805711 \t -7.923507634979323\n",
            "12     \t [-5.95791283 -4.0068286 ]. \t  -67.60607614341308 \t -7.923507634979323\n",
            "13     \t [10.          3.18419936]. \t  -120.27825115126487 \t -7.923507634979323\n",
            "14     \t [ 4.6554306  -3.73099661]. \t  -49.51370541293447 \t -7.923507634979323\n",
            "15     \t [ 5.34205758 10.        ]. \t  -228.53757920596985 \t -7.923507634979323\n",
            "16     \t [-1.53993361 -4.66231986]. \t  -45.8458484466392 \t -7.923507634979323\n",
            "17     \t [3.73149919 0.21515733]. \t  -14.016671534516744 \t -7.923507634979323\n",
            "18     \t [-3.00669774  6.11625047]. \t  -83.8572709741695 \t -7.923507634979323\n",
            "19     \t [-10.           2.91142206]. \t  -116.9527568295334 \t -7.923507634979323\n",
            "20     \t [-1.4077737   0.01331025]. \t  \u001b[92m-1.9821811277667274\u001b[0m \t -1.9821811277667274\n"
          ]
        }
      ]
    },
    {
      "cell_type": "code",
      "metadata": {
        "colab": {
          "base_uri": "https://localhost:8080/"
        },
        "id": "CphOPndPGClX",
        "outputId": "edbde55d-1f92-4b8e-bb7a-798ecbd3e6b8"
      },
      "source": [
        "### ESTIMATED GP EI GRADIENTS\n",
        "\n",
        "np.random.seed(run_num_13)\n",
        "surrogate_approx_13 = GaussianProcess(cov_func, optimize=opt)\n",
        "\n",
        "approx_13 = GPGO_multi(surrogate_approx_13, Acquisition_new(util_grad_approx), objfunc, param)\n",
        "approx_13.run(init_evals=n_init, max_iter=iters)\n"
      ],
      "execution_count": 25,
      "outputs": [
        {
          "output_type": "stream",
          "name": "stdout",
          "text": [
            "Evaluation \t Proposed point \t  Current eval. \t Best eval.\n",
            "init   \t [ 5.55404821 -5.2491756 ]. \t  -85.95514048001408 \t -47.45541115581226\n",
            "init   \t [6.48557065 9.31498396]. \t  -215.600479080162 \t -47.45541115581226\n",
            "init   \t [ 9.45202228 -0.93101505]. \t  -91.0743031984701 \t -47.45541115581226\n",
            "init   \t [2.18084926 5.51053029]. \t  -65.48799167425372 \t -47.45541115581226\n",
            "init   \t [2.8322669  4.44036459]. \t  -47.45541115581226 \t -47.45541115581226\n",
            "1      \t [-8.69830926  2.59657998]. \t  -89.14503917528086 \t -47.45541115581226\n",
            "2      \t [-5.9673185  -6.48540274]. \t  -119.72978734259729 \t -47.45541115581226\n",
            "3      \t [-0.60899509 -1.54249972]. \t  \u001b[92m-5.129485779327708\u001b[0m \t -5.129485779327708\n",
            "4      \t [-5.68974606  9.11900061]. \t  -198.68555458020188 \t -5.129485779327708\n",
            "5      \t [ 10. -10.]. \t  -300.0 \t -5.129485779327708\n",
            "6      \t [ 0.15011013 -7.2604606 ]. \t  -105.45110920148105 \t -5.129485779327708\n",
            "7      \t [-3.0447625   3.58748022]. \t  -35.010607380285535 \t -5.129485779327708\n",
            "8      \t [10.          4.69649227]. \t  -144.1140792408632 \t -5.129485779327708\n",
            "9      \t [-0.26923334 10.        ]. \t  -200.07248659079318 \t -5.129485779327708\n",
            "10     \t [-10.          -2.74724633]. \t  -115.0947248401968 \t -5.129485779327708\n",
            "11     \t [-10. -10.]. \t  -300.0 \t -5.129485779327708\n",
            "12     \t [ 4.03890084 -0.33883334]. \t  -16.542336068707183 \t -5.129485779327708\n",
            "13     \t [-5.05700441 -1.1627069 ]. \t  -28.277068310218823 \t -5.129485779327708\n",
            "14     \t [  4.45603123 -10.        ]. \t  -219.85621435080517 \t -5.129485779327708\n",
            "15     \t [-10.           7.15936396]. \t  -202.51298475528608 \t -5.129485779327708\n",
            "16     \t [ -3.32927964 -10.        ]. \t  -211.08410291572184 \t -5.129485779327708\n",
            "17     \t [10.         -5.31119198]. \t  -156.4175204747204 \t -5.129485779327708\n",
            "18     \t [6.39249258 2.49952912]. \t  -53.35925302285833 \t -5.129485779327708\n",
            "19     \t [0.35681252 1.50027523]. \t  \u001b[92m-4.628966674645916\u001b[0m \t -4.628966674645916\n",
            "20     \t [-2.5435048  -4.12978766]. \t  -40.57970886520815 \t -4.628966674645916\n"
          ]
        }
      ]
    },
    {
      "cell_type": "code",
      "metadata": {
        "colab": {
          "base_uri": "https://localhost:8080/"
        },
        "id": "ojHTeARNGCoi",
        "outputId": "47007935-21af-4428-b24f-20a0a3721d39"
      },
      "source": [
        "### ESTIMATED GP EI GRADIENTS\n",
        "\n",
        "np.random.seed(run_num_14)\n",
        "surrogate_approx_14 = GaussianProcess(cov_func, optimize=opt)\n",
        "\n",
        "approx_14 = GPGO_multi(surrogate_approx_14, Acquisition_new(util_grad_approx), objfunc, param)\n",
        "approx_14.run(init_evals=n_init, max_iter=iters)\n"
      ],
      "execution_count": 26,
      "outputs": [
        {
          "output_type": "stream",
          "name": "stdout",
          "text": [
            "Evaluation \t Proposed point \t  Current eval. \t Best eval.\n",
            "init   \t [0.27886688 5.46330104]. \t  -59.77308327621332 \t -26.48525945153859\n",
            "init   \t [ 7.40855371 -9.83906103]. \t  -248.5009120212351 \t -26.48525945153859\n",
            "init   \t [-3.80528149  9.15207479]. \t  -182.0011130426615 \t -26.48525945153859\n",
            "init   \t [ 0.26233425 -3.6343115 ]. \t  -26.48525945153859 \t -26.48525945153859\n",
            "init   \t [ 0.78399875 -5.57490115]. \t  -62.773699734431055 \t -26.48525945153859\n",
            "1      \t [ 9.82765998 -0.95725402]. \t  -98.41557117870066 \t -26.48525945153859\n",
            "2      \t [-8.1477833   0.47898709]. \t  -66.84523003287876 \t -26.48525945153859\n",
            "3      \t [8.67962677 6.0907395 ]. \t  -149.53013618236548 \t -26.48525945153859\n",
            "4      \t [-9.25408911 -6.01411438]. \t  -157.97730888889856 \t -26.48525945153859\n",
            "5      \t [3.94559911 9.92556197]. \t  -212.60131300730995 \t -26.48525945153859\n",
            "6      \t [-9.75754005  9.59310368]. \t  -279.26486406789826 \t -26.48525945153859\n",
            "7      \t [4.1704008  0.92605338]. \t  \u001b[92m-19.10739251607991\u001b[0m \t -19.10739251607991\n",
            "8      \t [ -2.78953393 -10.        ]. \t  -207.78149955759292 \t -19.10739251607991\n",
            "9      \t [-2.62895609  0.80657027]. \t  \u001b[92m-8.212521345598777\u001b[0m \t -8.212521345598777\n",
            "10     \t [-4.60864618 -3.59929001]. \t  -47.1493967091112 \t -8.212521345598777\n",
            "11     \t [ 5.88103079 -4.46604175]. \t  -74.47758100213446 \t -8.212521345598777\n",
            "12     \t [-5.4372221   4.43993003]. \t  -68.98934161030874 \t -8.212521345598777\n",
            "13     \t [  2.35337815 -10.        ]. \t  -205.53838869599886 \t -8.212521345598777\n",
            "14     \t [-10.           4.68440247]. \t  -143.8872530852006 \t -8.212521345598777\n",
            "15     \t [10.         -5.83611047]. \t  -168.12037074288116 \t -8.212521345598777\n",
            "16     \t [4.43189865 4.98213488]. \t  -69.28506162268005 \t -8.212521345598777\n",
            "17     \t [ -7.43844703 -10.        ]. \t  -255.33049420772522 \t -8.212521345598777\n",
            "18     \t [10. 10.]. \t  -300.0 \t -8.212521345598777\n",
            "19     \t [0.65175609 0.280381  ]. \t  \u001b[92m-0.5820130132641685\u001b[0m \t -0.5820130132641685\n",
            "20     \t [-8.44824732e-04  1.00000000e+01]. \t  -200.00000071372884 \t -0.5820130132641685\n"
          ]
        }
      ]
    },
    {
      "cell_type": "code",
      "metadata": {
        "colab": {
          "base_uri": "https://localhost:8080/"
        },
        "id": "vCJzn4vWGCs3",
        "outputId": "0ccaecf4-3525-42f9-cd32-55248501ad74"
      },
      "source": [
        "### ESTIMATED GP EI GRADIENTS\n",
        "\n",
        "np.random.seed(run_num_15)\n",
        "surrogate_approx_15 = GaussianProcess(cov_func, optimize=opt)\n",
        "\n",
        "approx_15 = GPGO_multi(surrogate_approx_15, Acquisition_new(util_grad_approx), objfunc, param)\n",
        "approx_15.run(init_evals=n_init, max_iter=iters)\n"
      ],
      "execution_count": 27,
      "outputs": [
        {
          "output_type": "stream",
          "name": "stdout",
          "text": [
            "Evaluation \t Proposed point \t  Current eval. \t Best eval.\n",
            "init   \t [ 6.97635395 -6.4220815 ]. \t  -131.15577599697437 \t -20.897907943365695\n",
            "init   \t [-8.91273571 -2.76923108]. \t  -94.77413943464936 \t -20.897907943365695\n",
            "init   \t [-4.49198143  0.6000045 ]. \t  -20.897907943365695 \t -20.897907943365695\n",
            "init   \t [-3.88162169 -3.91051282]. \t  -45.651207890195394 \t -20.897907943365695\n",
            "init   \t [-7.76517448 -5.00201972]. \t  -110.33833725681367 \t -20.897907943365695\n",
            "1      \t [-1.08003705  9.49213271]. \t  -181.3676469637466 \t -20.897907943365695\n",
            "2      \t [-9.69991687  7.99454818]. \t  -221.91398842692476 \t -20.897907943365695\n",
            "3      \t [9.38262114 9.37010501]. \t  -263.6313154484096 \t -20.897907943365695\n",
            "4      \t [8.17696818 1.09984692]. \t  -69.28213505909017 \t -20.897907943365695\n",
            "5      \t [2.257132  4.5118262]. \t  -45.807796139453394 \t -20.897907943365695\n",
            "6      \t [-0.62952455 -9.52479128]. \t  -181.8395990317211 \t -20.897907943365695\n",
            "7      \t [ 1.71306533 -3.010363  ]. \t  -21.05916367366614 \t -20.897907943365695\n",
            "8      \t [-10. -10.]. \t  -300.0 \t -20.897907943365695\n",
            "9      \t [-10.           2.47488352]. \t  -112.25009684735582 \t -20.897907943365695\n",
            "10     \t [-4.78869212  5.55195007]. \t  -84.57987134466518 \t -20.897907943365695\n",
            "11     \t [6.6227306  5.42684969]. \t  -102.76195555864709 \t -20.897907943365695\n",
            "12     \t [  4.10905181 -10.        ]. \t  -216.88430674476487 \t -20.897907943365695\n",
            "13     \t [-0.22706529  0.82057283]. \t  \u001b[92m-1.3982381723479924\u001b[0m \t -1.3982381723479924\n",
            "14     \t [ 10. -10.]. \t  -300.0 \t -1.3982381723479924\n",
            "15     \t [ 4.09417372 10.        ]. \t  -216.76225847341726 \t -1.3982381723479924\n",
            "16     \t [-5.27495697 -9.14858369]. \t  -195.2183379205127 \t -1.3982381723479924\n",
            "17     \t [10.         -2.98624101]. \t  -117.83527073213793 \t -1.3982381723479924\n",
            "18     \t [3.81976872 0.47271086]. \t  -15.037544176180589 \t -1.3982381723479924\n",
            "19     \t [ 5.6845523  -2.50245949]. \t  -44.838741833082885 \t -1.3982381723479924\n",
            "20     \t [-1.48387118  3.30284257]. \t  -24.019411729261897 \t -1.3982381723479924\n"
          ]
        }
      ]
    },
    {
      "cell_type": "code",
      "metadata": {
        "colab": {
          "base_uri": "https://localhost:8080/"
        },
        "id": "bGGkhp-kGCw6",
        "outputId": "bc539ce0-6f6c-4c58-b4f2-2a5c82336fd3"
      },
      "source": [
        "### ESTIMATED GP EI GRADIENTS\n",
        "\n",
        "np.random.seed(run_num_16)\n",
        "surrogate_approx_16 = GaussianProcess(cov_func, optimize=opt)\n",
        "\n",
        "approx_16 = GPGO_multi(surrogate_approx_16, Acquisition_new(util_grad_approx), objfunc, param)\n",
        "approx_16.run(init_evals=n_init, max_iter=iters)\n"
      ],
      "execution_count": 28,
      "outputs": [
        {
          "output_type": "stream",
          "name": "stdout",
          "text": [
            "Evaluation \t Proposed point \t  Current eval. \t Best eval.\n",
            "init   \t [-5.53417842  0.46326683]. \t  -31.056363058280656 \t -31.056363058280656\n",
            "init   \t [ 1.01402913 -9.087961  ]. \t  -166.21032525826828 \t -31.056363058280656\n",
            "init   \t [-2.78542329 -5.53838117]. \t  -69.10591480510183 \t -31.056363058280656\n",
            "init   \t [ 3.77452324 -6.7253715 ]. \t  -104.70826928786903 \t -31.056363058280656\n",
            "init   \t [-8.59350266  8.8202172 ]. \t  -229.44075111810224 \t -31.056363058280656\n",
            "1      \t [4.18505664 9.44091052]. \t  -195.7762819329394 \t -31.056363058280656\n",
            "2      \t [9.22704387 3.02362854]. \t  -103.4229976843265 \t -31.056363058280656\n",
            "3      \t [ 2.52801252 -0.08752176]. \t  \u001b[92m-6.406167436310099\u001b[0m \t -6.406167436310099\n",
            "4      \t [-9.70734262 -5.57457736]. \t  -156.3843262924271 \t -6.406167436310099\n",
            "5      \t [-2.22531694  5.42968011]. \t  -63.91488757640133 \t -6.406167436310099\n",
            "6      \t [ 9.50240599 -7.92690057]. \t  -215.96722489311375 \t -6.406167436310099\n",
            "7      \t [ -6.03233077 -10.        ]. \t  -236.3890144904139 \t -6.406167436310099\n",
            "8      \t [10.          9.09679803]. \t  -265.5034689781211 \t -6.406167436310099\n",
            "9      \t [ 7.60792203 -2.35074952]. \t  -68.93252418240124 \t -6.406167436310099\n",
            "10     \t [-10.           3.24562202]. \t  -121.06812457274138 \t -6.406167436310099\n",
            "11     \t [3.99501499 4.19080335]. \t  -51.08581018198591 \t -6.406167436310099\n",
            "12     \t [-1.02326306 10.        ]. \t  -201.04706729203278 \t -6.406167436310099\n",
            "13     \t [-1.35877496 -1.03847853]. \t  \u001b[92m-4.003144713847291\u001b[0m \t -4.003144713847291\n",
            "14     \t [ 1.0650637  -3.46113765]. \t  -25.093308290960625 \t -4.003144713847291\n",
            "15     \t [-10.         -1.1411649]. \t  -102.6045146417056 \t -4.003144713847291\n",
            "16     \t [0.01523375 2.14273508]. \t  -9.182859315745693 \t -4.003144713847291\n",
            "17     \t [-6.18127478  4.94801461]. \t  -87.17385513952829 \t -4.003144713847291\n",
            "18     \t [-6.11364741 -3.30576314]. \t  -59.232824559100095 \t -4.003144713847291\n",
            "19     \t [-10. -10.]. \t  -300.0 \t -4.003144713847291\n",
            "20     \t [  5.85986036 -10.        ]. \t  -234.3379634869117 \t -4.003144713847291\n"
          ]
        }
      ]
    },
    {
      "cell_type": "code",
      "metadata": {
        "id": "Yrs2mp7hGC1Z",
        "colab": {
          "base_uri": "https://localhost:8080/"
        },
        "outputId": "c063508c-6f4b-40e8-e7f1-0ffe67227bef"
      },
      "source": [
        "### ESTIMATED GP EI GRADIENTS\n",
        "\n",
        "np.random.seed(run_num_17)\n",
        "surrogate_approx_17 = GaussianProcess(cov_func, optimize=opt)\n",
        "\n",
        "approx_17 = GPGO_multi(surrogate_approx_17, Acquisition_new(util_grad_approx), objfunc, param)\n",
        "approx_17.run(init_evals=n_init, max_iter=iters)\n"
      ],
      "execution_count": 29,
      "outputs": [
        {
          "output_type": "stream",
          "name": "stdout",
          "text": [
            "Evaluation \t Proposed point \t  Current eval. \t Best eval.\n",
            "init   \t [-4.10669995  0.61173511]. \t  -17.613424143360255 \t -12.137436774523842\n",
            "init   \t [-6.16958426 -8.64199284]. \t  -187.43185031516856 \t -12.137436774523842\n",
            "init   \t [5.7397092  3.12667044]. \t  -52.49639772521824 \t -12.137436774523842\n",
            "init   \t [2.75041792 1.51205788]. \t  -12.137436774523842 \t -12.137436774523842\n",
            "init   \t [-9.21874168 -2.84372791]. \t  -101.1587749488933 \t -12.137436774523842\n",
            "1      \t [-8.64042543  9.21575513]. \t  -244.5172369008349 \t -12.137436774523842\n",
            "2      \t [ 4.54825031 -8.71744454]. \t  -172.6742595800706 \t -12.137436774523842\n",
            "3      \t [9.12376544 9.73620918]. \t  -272.83063435528607 \t -12.137436774523842\n",
            "4      \t [-0.05385845  7.96254756]. \t  -126.80722802594437 \t -12.137436774523842\n",
            "5      \t [ 9.06636127 -2.74323799]. \t  -97.24961590065784 \t -12.137436774523842\n",
            "6      \t [-1.84454977 -4.4849694 ]. \t  -43.632264824752426 \t -12.137436774523842\n",
            "7      \t [-10.           2.88771422]. \t  -116.67778678443698 \t -12.137436774523842\n",
            "8      \t [ 3.72738553 -3.7457176 ]. \t  -41.95420359005249 \t -12.137436774523842\n",
            "9      \t [10.         -8.88274834]. \t  -257.80643599789903 \t -12.137436774523842\n",
            "10     \t [ -0.81012176 -10.        ]. \t  -200.65629726596472 \t -12.137436774523842\n",
            "11     \t [-4.76991749  5.43860063]. \t  -81.90886644614886 \t -12.137436774523842\n",
            "12     \t [10.          4.69184926]. \t  -144.02689886820087 \t -12.137436774523842\n",
            "13     \t [4.66738154 7.70007411]. \t  -140.36673313374172 \t -12.137436774523842\n",
            "14     \t [-0.78961958  3.27778668]. \t  -22.111270082328417 \t -12.137436774523842\n",
            "15     \t [-4.0406605 10.       ]. \t  -216.32693727098632 \t -12.137436774523842\n",
            "16     \t [-0.16417727 -0.81660348]. \t  \u001b[92m-1.3606366689840417\u001b[0m \t -1.3606366689840417\n",
            "17     \t [-10.          -6.97159023]. \t  -197.20614066639314 \t -1.3606366689840417\n",
            "18     \t [-5.25522435 -2.94864649]. \t  -45.0064151756159 \t -1.3606366689840417\n",
            "19     \t [ 5.72857391 -0.61232171]. \t  -33.566434739491605 \t -1.3606366689840417\n",
            "20     \t [ 1.16397884 -6.45060991]. \t  -84.57558306857887 \t -1.3606366689840417\n"
          ]
        }
      ]
    },
    {
      "cell_type": "code",
      "metadata": {
        "id": "f0HIEP3PIUEa",
        "colab": {
          "base_uri": "https://localhost:8080/"
        },
        "outputId": "e3ddcd12-6714-4b9f-ed64-dc228f6dd2b6"
      },
      "source": [
        "### ESTIMATED GP EI GRADIENTS\n",
        "\n",
        "np.random.seed(run_num_18)\n",
        "surrogate_approx_18 = GaussianProcess(cov_func, optimize=opt)\n",
        "\n",
        "approx_18 = GPGO_multi(surrogate_approx_18, Acquisition_new(util_grad_approx), objfunc, param)\n",
        "approx_18.run(init_evals=n_init, max_iter=iters)\n"
      ],
      "execution_count": 30,
      "outputs": [
        {
          "output_type": "stream",
          "name": "stdout",
          "text": [
            "Evaluation \t Proposed point \t  Current eval. \t Best eval.\n",
            "init   \t [3.00748483 0.10906747]. \t  -9.068756459576363 \t -9.068756459576363\n",
            "init   \t [ 7.57202942 -6.36319549]. \t  -138.3161432668939 \t -9.068756459576363\n",
            "init   \t [7.04466137 5.00272572]. \t  -99.6817831686958 \t -9.068756459576363\n",
            "init   \t [3.32203335 9.75790897]. \t  -201.4694803352836 \t -9.068756459576363\n",
            "init   \t [-4.86063155 -9.43388149]. \t  -201.6219791510955 \t -9.068756459576363\n",
            "1      \t [-6.1664519   4.28513481]. \t  -74.74988979878172 \t -9.068756459576363\n",
            "2      \t [-6.07110106 -2.27098711]. \t  -47.173032968123124 \t -9.068756459576363\n",
            "3      \t [-9.84572665 -7.72302303]. \t  -216.22850278173115 \t -9.068756459576363\n",
            "4      \t [-2.71031407  8.72898701]. \t  -159.73623091515915 \t -9.068756459576363\n",
            "5      \t [ 4.59940623 -9.59713586]. \t  -205.36457092968183 \t -9.068756459576363\n",
            "6      \t [-10.           8.58489681]. \t  -247.40090632779086 \t -9.068756459576363\n",
            "7      \t [-0.89479378 -4.83468881]. \t  -47.54908774924074 \t -9.068756459576363\n",
            "8      \t [ 9.69581737 -0.20760296]. \t  -94.09507236538145 \t -9.068756459576363\n",
            "9      \t [-0.76981591  3.38950963]. \t  -23.570167665883265 \t -9.068756459576363\n",
            "10     \t [ 9.70481012 10.        ]. \t  -294.1833395501443 \t -9.068756459576363\n",
            "11     \t [-10.           0.86907348]. \t  -101.51057743214099 \t -9.068756459576363\n",
            "12     \t [ -0.14099199 -10.        ]. \t  -200.01987874129009 \t -9.068756459576363\n",
            "13     \t [ 3.52435282 -3.99394377]. \t  -44.32423656795839 \t -9.068756459576363\n",
            "14     \t [-1.92716988 -0.58534275]. \t  \u001b[92m-4.399236025738473\u001b[0m \t -4.399236025738473\n",
            "15     \t [-5.99047409  9.73183458]. \t  -225.30298859781234 \t -4.399236025738473\n",
            "16     \t [ 10. -10.]. \t  -300.0 \t -4.399236025738473\n",
            "17     \t [2.71242773 5.17821408]. \t  -60.9850663784743 \t -4.399236025738473\n",
            "18     \t [-10.          -3.36040658]. \t  -122.58466481266946 \t -4.399236025738473\n",
            "19     \t [5.99760978 1.11783602]. \t  -38.47043779150258 \t -4.399236025738473\n",
            "20     \t [-4.58855389 -5.48522033]. \t  -81.23011081010893 \t -4.399236025738473\n"
          ]
        }
      ]
    },
    {
      "cell_type": "code",
      "metadata": {
        "id": "S3mxRQDLIUPC",
        "colab": {
          "base_uri": "https://localhost:8080/"
        },
        "outputId": "a919eb2b-6b45-4493-aace-0ac47515bf55"
      },
      "source": [
        "### ESTIMATED GP EI GRADIENTS\n",
        "\n",
        "np.random.seed(run_num_19)\n",
        "surrogate_approx_19 = GaussianProcess(cov_func, optimize=opt)\n",
        "\n",
        "approx_19 = GPGO_multi(surrogate_approx_19, Acquisition_new(util_grad_approx), objfunc, param)\n",
        "approx_19.run(init_evals=n_init, max_iter=iters)\n"
      ],
      "execution_count": 31,
      "outputs": [
        {
          "output_type": "stream",
          "name": "stdout",
          "text": [
            "Evaluation \t Proposed point \t  Current eval. \t Best eval.\n",
            "init   \t [-8.04932797  5.22499433]. \t  -119.39281225846176 \t -87.03025225125222\n",
            "init   \t [-5.06124054 -7.23736625]. \t  -130.3750962570555 \t -87.03025225125222\n",
            "init   \t [-3.37106873 -8.3400087 ]. \t  -150.4755946408245 \t -87.03025225125222\n",
            "init   \t [3.43954163 6.13187596]. \t  -87.03025225125222 \t -87.03025225125222\n",
            "init   \t [9.65483829 2.7132147 ]. \t  -107.93897039562282 \t -87.03025225125222\n",
            "1      \t [ 9.42739537 -7.28680447]. \t  -195.07082209920037 \t -87.03025225125222\n",
            "2      \t [9.66871562 9.18398599]. \t  -262.1752591189437 \t -87.03025225125222\n",
            "3      \t [ 0.34213444 -2.30324413]. \t  \u001b[92m-10.726923037011083\u001b[0m \t -10.726923037011083\n",
            "4      \t [-9.64931371 -1.76781368]. \t  -99.35958538505903 \t -10.726923037011083\n",
            "5      \t [-2.69333527  7.93798122]. \t  -133.2771466359215 \t -10.726923037011083\n",
            "6      \t [ 2.8549083  -7.36368238]. \t  -116.59813782006927 \t -10.726923037011083\n",
            "7      \t [ 6.14459838 -2.28562974]. \t  -48.20429580735531 \t -10.726923037011083\n",
            "8      \t [-4.17118482  0.52099786]. \t  -17.941660348474503 \t -10.726923037011083\n",
            "9      \t [-10. -10.]. \t  -300.0 \t -10.726923037011083\n",
            "10     \t [0.14780724 2.39177263]. \t  -11.4629995902349 \t -10.726923037011083\n",
            "11     \t [4.48907176 1.74051305]. \t  -26.21053662355976 \t -10.726923037011083\n",
            "12     \t [-7.53836583 10.        ]. \t  -256.8269593237209 \t -10.726923037011083\n",
            "13     \t [ 5.0620697 10.       ]. \t  -225.62454963579162 \t -10.726923037011083\n",
            "14     \t [-3.36110639 -3.26597478]. \t  -32.630218745440374 \t -10.726923037011083\n",
            "15     \t [10.         -1.91983698]. \t  -107.37154802437695 \t -10.726923037011083\n",
            "16     \t [ 0.81310472 10.        ]. \t  -200.66113928049134 \t -10.726923037011083\n",
            "17     \t [-9.16317338 -5.75648232]. \t  -150.23792381217947 \t -10.726923037011083\n",
            "18     \t [  6.08933967 -10.        ]. \t  -237.0800575702159 \t -10.726923037011083\n",
            "19     \t [-3.7679882   4.00458751]. \t  -46.27117727506109 \t -10.726923037011083\n",
            "20     \t [-10.           1.98672936]. \t  -107.89418708101371 \t -10.726923037011083\n"
          ]
        }
      ]
    },
    {
      "cell_type": "code",
      "metadata": {
        "id": "Aawd59dRIUYn",
        "colab": {
          "base_uri": "https://localhost:8080/"
        },
        "outputId": "ab42cac2-c653-4e47-ea86-a2c411613036"
      },
      "source": [
        "### ESTIMATED GP EI GRADIENTS\n",
        "\n",
        "np.random.seed(run_num_20)\n",
        "surrogate_approx_20 = GaussianProcess(cov_func, optimize=opt)\n",
        "\n",
        "approx_20 = GPGO_multi(surrogate_approx_20, Acquisition_new(util_grad_approx), objfunc, param)\n",
        "approx_20.run(init_evals=n_init, max_iter=iters)\n"
      ],
      "execution_count": 32,
      "outputs": [
        {
          "output_type": "stream",
          "name": "stdout",
          "text": [
            "Evaluation \t Proposed point \t  Current eval. \t Best eval.\n",
            "init   \t [1.76261602 7.95427456]. \t  -129.64778273349407 \t -6.161449614183514\n",
            "init   \t [7.83061459 6.31674955]. \t  -141.12117450686426 \t -6.161449614183514\n",
            "init   \t [-9.28220829  3.83515164]. \t  -115.57616682517047 \t -6.161449614183514\n",
            "init   \t [-2.42638116  0.37021891]. \t  -6.161449614183514 \t -6.161449614183514\n",
            "init   \t [ 3.15902931 -6.12299564]. \t  -84.96161746112533 \t -6.161449614183514\n",
            "1      \t [ 6.78995846 -0.77921207]. \t  -47.31787877809484 \t -6.161449614183514\n",
            "2      \t [-7.8478547 -7.6599646]. \t  -178.938938646232 \t -6.161449614183514\n",
            "3      \t [-4.56172279  9.14761084]. \t  -188.16688311626407 \t -6.161449614183514\n",
            "4      \t [ 9.03563127 -5.57761678]. \t  -143.86225043765864 \t -6.161449614183514\n",
            "5      \t [-2.23929329 -9.39947652]. \t  -181.71475206043087 \t -6.161449614183514\n",
            "6      \t [-7.23080999 -1.7613864 ]. \t  -58.4895771997922 \t -6.161449614183514\n",
            "7      \t [-9.72357016 10.        ]. \t  -294.54781656397256 \t -6.161449614183514\n",
            "8      \t [2.30470956 2.31233042]. \t  -16.00543007836067 \t -6.161449614183514\n",
            "9      \t [-1.8832815  -4.13624569]. \t  -37.76380610818517 \t -6.161449614183514\n",
            "10     \t [-3.32383434  4.34973508]. \t  -48.88826528807644 \t -6.161449614183514\n",
            "11     \t [ 10. -10.]. \t  -300.0 \t -6.161449614183514\n",
            "12     \t [10.          2.17263584]. \t  -109.44069296137755 \t -6.161449614183514\n",
            "13     \t [ 5.65101752 10.        ]. \t  -231.93399898616812 \t -6.161449614183514\n",
            "14     \t [ 4.92766676 -9.54465892]. \t  -206.48292738749677 \t -6.161449614183514\n",
            "15     \t [ 1.93248423 -1.75193553]. \t  -9.87305151419917 \t -6.161449614183514\n",
            "16     \t [-10.          -4.20498245]. \t  -135.36375480306248 \t -6.161449614183514\n",
            "17     \t [-5.81279018  1.66376206]. \t  -39.32473807359128 \t -6.161449614183514\n",
            "18     \t [-5.19713467 -4.84231409]. \t  -73.90622028704149 \t -6.161449614183514\n",
            "19     \t [-10.           0.17936775]. \t  -100.06434557849178 \t -6.161449614183514\n",
            "20     \t [5.67997793 2.90108155]. \t  -49.094697590411336 \t -6.161449614183514\n"
          ]
        }
      ]
    },
    {
      "cell_type": "code",
      "metadata": {
        "id": "xkgzPRbBTHaq",
        "colab": {
          "base_uri": "https://localhost:8080/"
        },
        "outputId": "65c9b3d1-2539-4b00-c7cd-311d4002c6fa"
      },
      "source": [
        "end_approx = time.time()\n",
        "end_approx\n",
        "\n",
        "time_approx = end_approx - start_approx\n",
        "time_approx\n",
        "\n",
        "start_exact = time.time()\n",
        "start_exact"
      ],
      "execution_count": 33,
      "outputs": [
        {
          "output_type": "execute_result",
          "data": {
            "text/plain": [
              "1643284449.6498435"
            ]
          },
          "metadata": {},
          "execution_count": 33
        }
      ]
    },
    {
      "cell_type": "code",
      "metadata": {
        "id": "7CG3Ndvb16Rb",
        "colab": {
          "base_uri": "https://localhost:8080/"
        },
        "outputId": "e67c42ab-590e-40e4-a1b9-ee1eeed16e32"
      },
      "source": [
        "### EXACT GP EI GRADIENTS\n",
        "\n",
        "np.random.seed(run_num_1)\n",
        "surrogate_exact_1 = dGaussianProcess(cov_func, optimize=opt)\n",
        "\n",
        "exact_1 = dGPGO(surrogate_exact_1, Acquisition_new(util_grad_exact), objfunc, param)\n",
        "exact_1.run(init_evals=n_init, max_iter=iters)\n"
      ],
      "execution_count": 34,
      "outputs": [
        {
          "output_type": "stream",
          "name": "stdout",
          "text": [
            "Evaluation \t Proposed point \t  Current eval. \t Best eval.\n",
            "init   \t [-1.65955991  4.40648987]. \t  -41.5884450098667 \t -5.468172821636052\n",
            "init   \t [-9.9977125  -3.95334855]. \t  -131.21218477957908 \t -5.468172821636052\n",
            "init   \t [-7.06488218 -8.1532281 ]. \t  -182.86281732102734 \t -5.468172821636052\n",
            "init   \t [-6.27479577 -3.08878546]. \t  -58.4542532110911 \t -5.468172821636052\n",
            "init   \t [-2.06465052  0.77633468]. \t  -5.468172821636052 \t -5.468172821636052\n",
            "1      \t [ 7.89213327 -8.29911577]. \t  -200.03641276683908 \t -5.468172821636052\n",
            "2      \t [7.66612182 2.47344414]. \t  -71.00527566059496 \t -5.468172821636052\n",
            "3      \t [1.62717855 9.40039978]. \t  -179.3827421328839 \t -5.468172821636052\n",
            "4      \t [-9.56950389  8.95940422]. \t  -252.11725289788865 \t -5.468172821636052\n",
            "5      \t [ 2.56152397 -4.28847437]. \t  -43.34342980630102 \t -5.468172821636052\n",
            "6      \t [-7.88517632  2.70186155]. \t  -76.77611724958058 \t -5.468172821636052\n",
            "7      \t [-0.86049345 -8.86141123]. \t  -157.78966701707245 \t -5.468172821636052\n",
            "8      \t [9.02387571 8.10804067]. \t  -212.91097997027106 \t -5.468172821636052\n",
            "9      \t [-3.9257569   9.79283625]. \t  -207.2108507792785 \t -5.468172821636052\n",
            "10     \t [10.         -2.77648133]. \t  -115.41769711871734 \t -5.468172821636052\n",
            "11     \t [2.5948094  2.11327642]. \t  -15.664910263781366 \t -5.468172821636052\n",
            "12     \t [-1.83067411 -3.73099057]. \t  -31.191949013077057 \t -5.468172821636052\n",
            "13     \t [  3.58343468 -10.        ]. \t  -212.8410041286782 \t -5.468172821636052\n",
            "14     \t [ 5.78847129 -1.63884086]. \t  -38.87799867686609 \t -5.468172821636052\n",
            "15     \t [4.48722665 5.95967736]. \t  -91.17071143171881 \t -5.468172821636052\n",
            "16     \t [ 0.97496293 -0.96496257]. \t  \u001b[92m-2.8128582289060873\u001b[0m \t -2.8128582289060873\n",
            "17     \t [-10.          -0.19304763]. \t  -100.07453477208833 \t -2.8128582289060873\n",
            "18     \t [ 5.62729187 10.        ]. \t  -231.66641373784012 \t -2.8128582289060873\n",
            "19     \t [-6.48320305  6.4636468 ]. \t  -125.58938167964261 \t -2.8128582289060873\n",
            "20     \t [-4.77174575  0.22717195]. \t  -22.87277165403582 \t -2.8128582289060873\n"
          ]
        }
      ]
    },
    {
      "cell_type": "code",
      "metadata": {
        "id": "-ilCPSAu9SAg",
        "colab": {
          "base_uri": "https://localhost:8080/"
        },
        "outputId": "963f9b0a-b0fb-4425-9e99-c091347fa96d"
      },
      "source": [
        "### EXACT GP EI GRADIENTS\n",
        "\n",
        "np.random.seed(run_num_2)\n",
        "surrogate_exact_2 = dGaussianProcess(cov_func, optimize=opt)\n",
        "\n",
        "exact_2 = dGPGO(surrogate_exact_2, Acquisition_new(util_grad_exact), objfunc, param)\n",
        "exact_2.run(init_evals=n_init, max_iter=iters)\n"
      ],
      "execution_count": 35,
      "outputs": [
        {
          "output_type": "stream",
          "name": "stdout",
          "text": [
            "Evaluation \t Proposed point \t  Current eval. \t Best eval.\n",
            "init   \t [-1.28010196 -9.48147536]. \t  -181.43541115584648 \t -4.333099000920773\n",
            "init   \t [ 0.99324956 -1.29355215]. \t  -4.333099000920773 \t -4.333099000920773\n",
            "init   \t [-1.59264396 -3.39330358]. \t  -25.565533148780872 \t -4.333099000920773\n",
            "init   \t [-5.90702732  2.38541933]. \t  -46.27342248166184 \t -4.333099000920773\n",
            "init   \t [-4.00690653 -4.6634545 ]. \t  -59.55091562094812 \t -4.333099000920773\n",
            "1      \t [4.01504693 9.2910216 ]. \t  -188.7667666769868 \t -4.333099000920773\n",
            "2      \t [ 9.4582138 -7.7444757]. \t  -209.411615827435 \t -4.333099000920773\n",
            "3      \t [ 9.07319925 -1.03970567]. \t  -84.48492034594878 \t -4.333099000920773\n",
            "4      \t [-9.13741927 -7.85625192]. \t  -206.93381928482216 \t -4.333099000920773\n",
            "5      \t [-3.33258459  7.54721968]. \t  -125.02716997911698 \t -4.333099000920773\n",
            "6      \t [10.          4.67436577]. \t  -143.69939074628965 \t -4.333099000920773\n",
            "7      \t [3.69790474 3.21381951]. \t  -34.3317711791518 \t -4.333099000920773\n",
            "8      \t [-9.14282928  8.15503135]. \t  -216.60039984191138 \t -4.333099000920773\n",
            "9      \t [10. 10.]. \t  -300.0 \t -4.333099000920773\n",
            "10     \t [-9.40464676 -1.97352995]. \t  -96.23702155469836 \t -4.333099000920773\n",
            "11     \t [ 4.144534   -9.10596119]. \t  -183.01422035095038 \t -4.333099000920773\n",
            "12     \t [ 5.62587143 -4.39320218]. \t  -70.25088003959988 \t -4.333099000920773\n",
            "13     \t [0.66783551 6.34417364]. \t  -80.94308259259017 \t -4.333099000920773\n",
            "14     \t [ 1.63205592 -5.78105107]. \t  -69.50470952160657 \t -4.333099000920773\n",
            "15     \t [-10.           3.33709457]. \t  -122.27240033820074 \t -4.333099000920773\n",
            "16     \t [-1.81659155  2.80707413]. \t  -19.05933517764615 \t -4.333099000920773\n",
            "17     \t [ 4.80218137 -0.47708283]. \t  -23.516161939016385 \t -4.333099000920773\n",
            "18     \t [-4.06893547 -0.72261613]. \t  -17.60058401476831 \t -4.333099000920773\n",
            "19     \t [-5.20462771 -8.37306614]. \t  -167.3046228007026 \t -4.333099000920773\n",
            "20     \t [ 0.12893572 10.        ]. \t  -200.01662441976708 \t -4.333099000920773\n"
          ]
        }
      ]
    },
    {
      "cell_type": "code",
      "metadata": {
        "id": "XieJ158mIvlP",
        "colab": {
          "base_uri": "https://localhost:8080/"
        },
        "outputId": "1324609b-9313-4021-9ae1-9c69291a4c1e"
      },
      "source": [
        "### EXACT GP EI GRADIENTS\n",
        "\n",
        "np.random.seed(run_num_3)\n",
        "surrogate_exact_3 = dGaussianProcess(cov_func, optimize=opt)\n",
        "\n",
        "exact_3 = dGPGO(surrogate_exact_3, Acquisition_new(util_grad_exact), objfunc, param)\n",
        "exact_3.run(init_evals=n_init, max_iter=iters)\n"
      ],
      "execution_count": 36,
      "outputs": [
        {
          "output_type": "stream",
          "name": "stdout",
          "text": [
            "Evaluation \t Proposed point \t  Current eval. \t Best eval.\n",
            "init   \t [1.01595805 4.16295645]. \t  -35.692583610916834 \t -17.582120911078754\n",
            "init   \t [-4.18190522  0.2165521 ]. \t  -17.582120911078754 \t -17.582120911078754\n",
            "init   \t [7.85893909 7.92586178]. \t  -187.4014934415638 \t -17.582120911078754\n",
            "init   \t [-7.48829379 -5.85514244]. \t  -124.63992981683481 \t -17.582120911078754\n",
            "init   \t [-8.97065593 -1.18380313]. \t  -83.2754475728413 \t -17.582120911078754\n",
            "1      \t [ 5.60629529 -3.87272935]. \t  -61.42661215628989 \t -17.582120911078754\n",
            "2      \t [-8.52752662  7.84786375]. \t  -195.89664111179286 \t -17.582120911078754\n",
            "3      \t [ 1.29377684 10.        ]. \t  -201.67385851581457 \t -17.582120911078754\n",
            "4      \t [-0.42169096 -8.75441039]. \t  -153.45722588114134 \t -17.582120911078754\n",
            "5      \t [10.         -0.07365222]. \t  -100.01084929759641 \t -17.582120911078754\n",
            "6      \t [ 9.91572611 -9.01887335]. \t  -261.00177731356047 \t -17.582120911078754\n",
            "7      \t [-4.15936027  5.11058954]. \t  -69.53652869793855 \t -17.582120911078754\n",
            "8      \t [3.68603336 0.5392451 ]. \t  \u001b[92m-14.168412517260489\u001b[0m \t -14.168412517260489\n",
            "9      \t [ 1.31668669 -3.53823107]. \t  -26.771822018724915 \t -14.168412517260489\n",
            "10     \t [ 4.9618218  -7.94373592]. \t  -150.82555612554825 \t -14.168412517260489\n",
            "11     \t [-4.67617006 -9.97354931]. \t  -220.80993834112402 \t -14.168412517260489\n",
            "12     \t [-3.19421238 -3.90516459]. \t  -40.703613649364726 \t -14.168412517260489\n",
            "13     \t [-10. -10.]. \t  -300.0 \t -14.168412517260489\n",
            "14     \t [-10.           3.26553187]. \t  -121.32739685300248 \t -14.168412517260489\n",
            "15     \t [-3.78349207 10.        ]. \t  -214.31481223469007 \t -14.168412517260489\n",
            "16     \t [6.74381523 3.34000983]. \t  -67.79037531254264 \t -14.168412517260489\n",
            "17     \t [-0.24478228  0.12999394]. \t  \u001b[92m-0.09371521386936152\u001b[0m \t -0.09371521386936152\n",
            "18     \t [10.         -4.43698287]. \t  -139.3736339854887 \t -0.09371521386936152\n",
            "19     \t [-1.88102633  2.36267564]. \t  -14.70273244810182 \t -0.09371521386936152\n",
            "20     \t [10.          4.57019924]. \t  -141.7734422209051 \t -0.09371521386936152\n"
          ]
        }
      ]
    },
    {
      "cell_type": "code",
      "metadata": {
        "id": "PhLBVOIfIvol",
        "colab": {
          "base_uri": "https://localhost:8080/"
        },
        "outputId": "7ba16753-843b-465d-9d1d-58f1bdde473e"
      },
      "source": [
        "### EXACT GP EI GRADIENTS\n",
        "\n",
        "np.random.seed(run_num_4)\n",
        "surrogate_exact_4 = dGaussianProcess(cov_func, optimize=opt)\n",
        "\n",
        "exact_4 = dGPGO(surrogate_exact_4, Acquisition_new(util_grad_exact), objfunc, param)\n",
        "exact_4.run(init_evals=n_init, max_iter=iters)\n"
      ],
      "execution_count": 37,
      "outputs": [
        {
          "output_type": "stream",
          "name": "stdout",
          "text": [
            "Evaluation \t Proposed point \t  Current eval. \t Best eval.\n",
            "init   \t [9.34059678 0.94464498]. \t  -89.0314565014143 \t -27.80880071439404\n",
            "init   \t [9.4536872  4.29631987]. \t  -126.28893057280868 \t -27.80880071439404\n",
            "init   \t [ 3.95457649 -5.67821009]. \t  -80.12281484649141 \t -27.80880071439404\n",
            "init   \t [ 9.5254891 -9.8753949]. \t  -285.78179120922215 \t -27.80880071439404\n",
            "init   \t [-4.94035275 -1.30416935]. \t  -27.80880071439404 \t -27.80880071439404\n",
            "1      \t [-6.35109191  8.36766078]. \t  -180.3718623830372 \t -27.80880071439404\n",
            "2      \t [1.43282743 6.87413988]. \t  -96.56059262521096 \t -27.80880071439404\n",
            "3      \t [ -2.5101954 -10.       ]. \t  -206.30108094618095 \t -27.80880071439404\n",
            "4      \t [-9.62434886 -4.48087207]. \t  -132.78451981567815 \t -27.80880071439404\n",
            "5      \t [-9.2450964   2.86617043]. \t  -101.9016732569988 \t -27.80880071439404\n",
            "6      \t [ 6.34595548 10.        ]. \t  -240.2711509868452 \t -27.80880071439404\n",
            "7      \t [1.45162335 0.05109036]. \t  \u001b[92m-2.112430794758758\u001b[0m \t -2.112430794758758\n",
            "8      \t [-3.72628639  3.77256604]. \t  -42.34971933172728 \t -2.112430794758758\n",
            "9      \t [ 4.93214016 -0.18102444]. \t  -24.391546262089733 \t -2.112430794758758\n",
            "10     \t [ -8.77988641 -10.        ]. \t  -277.08640541177 \t -2.112430794758758\n",
            "11     \t [10.         -4.33952613]. \t  -137.66297399558135 \t -2.112430794758758\n",
            "12     \t [ 2.71135264 -9.66992891]. \t  -194.36648322470168 \t -2.112430794758758\n",
            "13     \t [-4.73119864 -5.75507382]. \t  -88.6259900009243 \t -2.112430794758758\n",
            "14     \t [-0.31570827 -4.44784357]. \t  -39.666296568251944 \t -2.112430794758758\n",
            "15     \t [-2.33948762  7.47097237]. \t  -117.10405853313128 \t -2.112430794758758\n",
            "16     \t [4.92287383 4.54517448]. \t  -65.55190874857145 \t -2.112430794758758\n",
            "17     \t [0.66323007 2.75485517]. \t  -15.618328098071638 \t -2.112430794758758\n",
            "18     \t [-8.39835481 -0.83893409]. \t  -71.93998435405979 \t -2.112430794758758\n",
            "19     \t [-0.07245166 -1.24282353]. \t  -3.0944699035201917 \t -2.112430794758758\n",
            "20     \t [-1.88411986  0.42635168]. \t  -3.9134591608290004 \t -2.112430794758758\n"
          ]
        }
      ]
    },
    {
      "cell_type": "code",
      "metadata": {
        "id": "arbiPyj2IvsJ",
        "colab": {
          "base_uri": "https://localhost:8080/"
        },
        "outputId": "27e9ed86-652d-4809-fd98-c708335e3dc6"
      },
      "source": [
        "### EXACT GP EI GRADIENTS\n",
        "\n",
        "np.random.seed(run_num_5)\n",
        "surrogate_exact_5 = dGaussianProcess(cov_func, optimize=opt)\n",
        "\n",
        "exact_5 = dGPGO(surrogate_exact_5, Acquisition_new(util_grad_exact), objfunc, param)\n",
        "exact_5.run(init_evals=n_init, max_iter=iters)\n"
      ],
      "execution_count": 38,
      "outputs": [
        {
          "output_type": "stream",
          "name": "stdout",
          "text": [
            "Evaluation \t Proposed point \t  Current eval. \t Best eval.\n",
            "init   \t [-5.56013658  7.41464612]. \t  -140.86907304317228 \t -10.04307293518387\n",
            "init   \t [-5.86561689  8.37221816]. \t  -174.59353533361667 \t -10.04307293518387\n",
            "init   \t [-0.23177622  2.23487726]. \t  -10.04307293518387 \t -10.04307293518387\n",
            "init   \t [5.31815713 0.36835976]. \t  -28.554173077012745 \t -10.04307293518387\n",
            "init   \t [-4.06398997 -6.24557543]. \t  -94.53043928694063 \t -10.04307293518387\n",
            "1      \t [9.27861058 9.20453431]. \t  -255.5395178906315 \t -10.04307293518387\n",
            "2      \t [ 8.87080164 -7.76615146]. \t  -199.31733862713008 \t -10.04307293518387\n",
            "3      \t [0.54357666 9.2242228 ]. \t  -170.4680482407008 \t -10.04307293518387\n",
            "4      \t [-10. -10.]. \t  -300.0 \t -10.04307293518387\n",
            "5      \t [ 3.04552711 -9.25523839]. \t  -180.59411088672442 \t -10.04307293518387\n",
            "6      \t [-9.86783784 -1.34138829]. \t  -100.97286872831327 \t -10.04307293518387\n",
            "7      \t [9.69413944 3.46674106]. \t  -118.01292664350647 \t -10.04307293518387\n",
            "8      \t [ 1.34141207 -3.53039845]. \t  -26.726812816654277 \t -10.04307293518387\n",
            "9      \t [10.         -2.19817374]. \t  -109.66393554958954 \t -10.04307293518387\n",
            "10     \t [-10.           4.20494128]. \t  -135.36306228727938 \t -10.04307293518387\n",
            "11     \t [-2.79118105 -1.51967665]. \t  -12.409525872640508 \t -10.04307293518387\n",
            "12     \t [-5.51477176  2.62925534]. \t  -44.238674895286415 \t -10.04307293518387\n",
            "13     \t [4.62508112 6.16163093]. \t  -97.32276685957996 \t -10.04307293518387\n",
            "14     \t [ -1.7257023 -10.       ]. \t  -202.9780484348606 \t -10.04307293518387\n",
            "15     \t [-8.00320926 -6.17107984]. \t  -140.2158111417752 \t -10.04307293518387\n",
            "16     \t [ 5.69150202 -4.53674211]. \t  -73.55725314137682 \t -10.04307293518387\n",
            "17     \t [0.48126355 5.24589172]. \t  -55.27037455470964 \t -10.04307293518387\n",
            "18     \t [ 5.15905803 10.        ]. \t  -226.61587970618803 \t -10.04307293518387\n",
            "19     \t [-5.9330863  -2.54356158]. \t  -48.14092407986808 \t -10.04307293518387\n",
            "20     \t [ 1.94804147 -0.19722996]. \t  \u001b[92m-3.8726648728865705\u001b[0m \t -3.8726648728865705\n"
          ]
        }
      ]
    },
    {
      "cell_type": "code",
      "metadata": {
        "id": "04KJCEm_Ivvf",
        "colab": {
          "base_uri": "https://localhost:8080/"
        },
        "outputId": "ce77c0e8-33cf-4a76-b866-ef2109de539e"
      },
      "source": [
        "### EXACT GP EI GRADIENTS\n",
        "\n",
        "np.random.seed(run_num_6)\n",
        "surrogate_exact_6 = dGaussianProcess(cov_func, optimize=opt)\n",
        "\n",
        "exact_6 = dGPGO(surrogate_exact_6, Acquisition_new(util_grad_exact), objfunc, param)\n",
        "exact_6.run(init_evals=n_init, max_iter=iters)\n"
      ],
      "execution_count": 39,
      "outputs": [
        {
          "output_type": "stream",
          "name": "stdout",
          "text": [
            "Evaluation \t Proposed point \t  Current eval. \t Best eval.\n",
            "init   \t [ 7.85720303 -3.36040389]. \t  -84.32026809583151 \t -5.629416961321397\n",
            "init   \t [ 6.42458246 -9.16606749]. \t  -209.30884609749882 \t -5.629416961321397\n",
            "init   \t [-7.8468664   1.90104128]. \t  -68.80122824744078 \t -5.629416961321397\n",
            "init   \t [ 0.59634724 -1.62385143]. \t  -5.629416961321397 \t -5.629416961321397\n",
            "init   \t [-3.29184301  2.45038864]. \t  -22.84503944485431 \t -5.629416961321397\n",
            "1      \t [4.34664291 8.74699069]. \t  -171.91299695999675 \t -5.629416961321397\n",
            "2      \t [-4.96771714 -9.17248997]. \t  -192.94735819477367 \t -5.629416961321397\n",
            "3      \t [9.57427611 1.74148842]. \t  -97.73232691305284 \t -5.629416961321397\n",
            "4      \t [-5.6935267   8.60486508]. \t  -180.50365249520243 \t -5.629416961321397\n",
            "5      \t [10. 10.]. \t  -300.0 \t -5.629416961321397\n",
            "6      \t [-10.          -3.52754432]. \t  -124.88713786062395 \t -5.629416961321397\n",
            "7      \t [-0.31432479 -6.27686601]. \t  -78.89689381345163 \t -5.629416961321397\n",
            "8      \t [-5.2160087  -2.20998074]. \t  -36.974776478354485 \t -5.629416961321397\n",
            "9      \t [-1.22868843  4.34354782]. \t  -39.24249056209099 \t -5.629416961321397\n",
            "10     \t [3.92174558 4.35771114]. \t  -53.35938107562335 \t -5.629416961321397\n",
            "11     \t [  1.70911682 -10.        ]. \t  -202.92108031306572 \t -5.629416961321397\n",
            "12     \t [-10. -10.]. \t  -300.0 \t -5.629416961321397\n",
            "13     \t [ 5.21347435 -0.8833208 ]. \t  -28.74082607218724 \t -5.629416961321397\n",
            "14     \t [-0.24321539  8.50861205]. \t  -144.8521118383624 \t -5.629416961321397\n",
            "15     \t [-10.           6.23190853]. \t  -177.67336789801712 \t -5.629416961321397\n",
            "16     \t [8.11648212 5.78250828]. \t  -132.75208612693768 \t -5.629416961321397\n",
            "17     \t [-3.89217939 -5.39529768]. \t  -73.36753456082879 \t -5.629416961321397\n",
            "18     \t [ 3.44177411 -4.44440669]. \t  -51.35131062938916 \t -5.629416961321397\n",
            "19     \t [-5.28186934  4.71271174]. \t  -72.31744752726274 \t -5.629416961321397\n",
            "20     \t [1.78655039 1.19636956]. \t  -6.054362510581104 \t -5.629416961321397\n"
          ]
        }
      ]
    },
    {
      "cell_type": "code",
      "metadata": {
        "id": "tAOkme3CIvyO",
        "colab": {
          "base_uri": "https://localhost:8080/"
        },
        "outputId": "692951cd-b0d4-4a71-9d12-36de6a53fed3"
      },
      "source": [
        "### EXACT GP EI GRADIENTS\n",
        "\n",
        "np.random.seed(run_num_7)\n",
        "surrogate_exact_7 = dGaussianProcess(cov_func, optimize=opt)\n",
        "\n",
        "exact_7 = dGPGO(surrogate_exact_7, Acquisition_new(util_grad_exact), objfunc, param)\n",
        "exact_7.run(init_evals=n_init, max_iter=iters)\n"
      ],
      "execution_count": 40,
      "outputs": [
        {
          "output_type": "stream",
          "name": "stdout",
          "text": [
            "Evaluation \t Proposed point \t  Current eval. \t Best eval.\n",
            "init   \t [-8.47383421  5.59837584]. \t  -134.48949046062052 \t -21.448213419349443\n",
            "init   \t [-1.23181537  4.46930356]. \t  -41.46671767109191 \t -21.448213419349443\n",
            "init   \t [9.55979024 0.76991741]. \t  -92.57513506242564 \t -21.448213419349443\n",
            "init   \t [ 0.02240927 -8.55897733]. \t  -146.51268814245697 \t -21.448213419349443\n",
            "init   \t [-4.63122040e+00 -2.34998349e-03]. \t  -21.448213419349443 \t -21.448213419349443\n",
            "1      \t [ 8.12846538 -6.39096762]. \t  -147.76088362344177 \t -21.448213419349443\n",
            "2      \t [6.00958098 8.78222707]. \t  -190.37008833601834 \t -21.448213419349443\n",
            "3      \t [-9.10467478 -9.8356699 ]. \t  -276.3759076385656 \t -21.448213419349443\n",
            "4      \t [-7.86246511 -2.61028169]. \t  -75.44549865130998 \t -21.448213419349443\n",
            "5      \t [ 3.2328792  -2.68480299]. \t  -24.867842104178727 \t -21.448213419349443\n",
            "6      \t [0.61151955 9.32904811]. \t  -174.4362334061663 \t -21.448213419349443\n",
            "7      \t [3.74625037 3.88487674]. \t  -44.21892640277153 \t -21.448213419349443\n",
            "8      \t [-5.05164787 10.        ]. \t  -225.51914619168315 \t -21.448213419349443\n",
            "9      \t [  4.78163418 -10.        ]. \t  -222.8640254514207 \t -21.448213419349443\n",
            "10     \t [-4.53781502 -8.51685833]. \t  -165.66551691002135 \t -21.448213419349443\n",
            "11     \t [-0.9519413  -3.98012361]. \t  -32.5889600936047 \t -21.448213419349443\n",
            "12     \t [-9.85575606  9.97829422]. \t  -296.2686384493443 \t -21.448213419349443\n",
            "13     \t [10.          5.73921022]. \t  -165.87706801052087 \t -21.448213419349443\n",
            "14     \t [0.41023929 0.34550162]. \t  \u001b[92m-0.4070390199420155\u001b[0m \t -0.4070390199420155\n",
            "15     \t [10. 10.]. \t  -300.0 \t -0.4070390199420155\n",
            "16     \t [-4.83756634  3.4506174 ]. \t  -47.21556893390472 \t -0.4070390199420155\n",
            "17     \t [ 7.27047037 -2.48991308]. \t  -65.25907368733763 \t -0.4070390199420155\n",
            "18     \t [ 4.2320854  -6.13157517]. \t  -93.10297485522018 \t -0.4070390199420155\n",
            "19     \t [1.54402507 1.1251093 ]. \t  -4.91575531473034 \t -0.4070390199420155\n",
            "20     \t [-1.25929056  0.64447854]. \t  -2.416517891348269 \t -0.4070390199420155\n"
          ]
        }
      ]
    },
    {
      "cell_type": "code",
      "metadata": {
        "id": "69-J3EF4Iv1S",
        "colab": {
          "base_uri": "https://localhost:8080/"
        },
        "outputId": "41ef0b3b-6408-4ba3-c4d6-ee5442b42f2c"
      },
      "source": [
        "### EXACT GP EI GRADIENTS\n",
        "\n",
        "np.random.seed(run_num_8)\n",
        "surrogate_exact_8 = dGaussianProcess(cov_func, optimize=opt)\n",
        "\n",
        "exact_8 = dGPGO(surrogate_exact_8, Acquisition_new(util_grad_exact), objfunc, param)\n",
        "exact_8.run(init_evals=n_init, max_iter=iters)\n"
      ],
      "execution_count": 41,
      "outputs": [
        {
          "output_type": "stream",
          "name": "stdout",
          "text": [
            "Evaluation \t Proposed point \t  Current eval. \t Best eval.\n",
            "init   \t [7.46858806 9.37081326]. \t  -231.40408972112363 \t -0.5791878792948744\n",
            "init   \t [7.3838908  0.61711383]. \t  -55.28350237060649 \t -0.5791878792948744\n",
            "init   \t [-5.34543344 -9.77202391]. \t  -219.5585614355461 \t -0.5791878792948744\n",
            "init   \t [-1.39062363 -1.9529728 ]. \t  -9.562039601098967 \t -0.5791878792948744\n",
            "init   \t [ 0.45349343 -0.43216408]. \t  -0.5791878792948744 \t -0.5791878792948744\n",
            "1      \t [ 9.69498875 -9.42535902]. \t  -271.6675921188219 \t -0.5791878792948744\n",
            "2      \t [-9.83383251  5.77166529]. \t  -163.3285022998636 \t -0.5791878792948744\n",
            "3      \t [-3.97152767  9.51013426]. \t  -196.65833950916016 \t -0.5791878792948744\n",
            "4      \t [-9.65586204 -5.07440767]. \t  -144.73489822426617 \t -0.5791878792948744\n",
            "5      \t [1.10947828 5.5318851 ]. \t  -62.4344475515165 \t -0.5791878792948744\n",
            "6      \t [ 3.77011518 -4.40569277]. \t  -53.034026014752534 \t -0.5791878792948744\n",
            "7      \t [  2.26119601 -10.        ]. \t  -205.11300739275828 \t -0.5791878792948744\n",
            "8      \t [-3.7162016   2.61962742]. \t  -27.535049957542164 \t -0.5791878792948744\n",
            "9      \t [ 9.52917185 -3.92963756]. \t  -121.68921884794669 \t -0.5791878792948744\n",
            "10     \t [-9.9780121   0.32450222]. \t  -99.77132877515277 \t -0.5791878792948744\n",
            "11     \t [10.          4.80435148]. \t  -146.16358629958657 \t -0.5791878792948744\n",
            "12     \t [-1.47453614 -6.36167479]. \t  -83.11606904046563 \t -0.5791878792948744\n",
            "13     \t [ 2.38022859 10.        ]. \t  -205.6654881280796 \t -0.5791878792948744\n",
            "14     \t [-10. -10.]. \t  -300.0 \t -0.5791878792948744\n",
            "15     \t [-5.46923654 -2.68499055]. \t  -44.33089686004355 \t -0.5791878792948744\n",
            "16     \t [2.79950217 1.48043222]. \t  -12.220571570977178 \t -0.5791878792948744\n",
            "17     \t [-5.69132034  5.68121413]. \t  -96.94351531216424 \t -0.5791878792948744\n",
            "18     \t [5.8057991  4.13654789]. \t  -67.92936008909271 \t -0.5791878792948744\n",
            "19     \t [ 5.57193985 -7.3776849 ]. \t  -139.90698255440935 \t -0.5791878792948744\n",
            "20     \t [-0.39946278  1.30893663]. \t  -3.586200699990654 \t -0.5791878792948744\n"
          ]
        }
      ]
    },
    {
      "cell_type": "code",
      "metadata": {
        "id": "vonm9jyuIv4t",
        "colab": {
          "base_uri": "https://localhost:8080/"
        },
        "outputId": "7168ae1d-54a6-4471-cb77-42bcb0103805"
      },
      "source": [
        "### EXACT GP EI GRADIENTS\n",
        "\n",
        "np.random.seed(run_num_9)\n",
        "surrogate_exact_9 = dGaussianProcess(cov_func, optimize=opt)\n",
        "\n",
        "exact_9 = dGPGO(surrogate_exact_9, Acquisition_new(util_grad_exact), objfunc, param)\n",
        "exact_9.run(init_evals=n_init, max_iter=iters)\n"
      ],
      "execution_count": 42,
      "outputs": [
        {
          "output_type": "stream",
          "name": "stdout",
          "text": [
            "Evaluation \t Proposed point \t  Current eval. \t Best eval.\n",
            "init   \t [-9.79251692  0.03749184]. \t  -95.896198949837 \t -53.418783741178075\n",
            "init   \t [-0.08453414 -7.32340942]. \t  -107.27179711012016 \t -53.418783741178075\n",
            "init   \t [-7.15777829 -5.62882649]. \t  -114.6011653140891 \t -53.418783741178075\n",
            "init   \t [-1.62983639 -5.03797663]. \t  -53.418783741178075 \t -53.418783741178075\n",
            "init   \t [-8.31880698 -3.0900272 ]. \t  -88.29908569649677 \t -53.418783741178075\n",
            "1      \t [6.0747954  9.66718496]. \t  -223.8120694300478 \t -53.418783741178075\n",
            "2      \t [-3.94738717  9.4159639 ]. \t  -192.90261763630335 \t -53.418783741178075\n",
            "3      \t [4.07561386 0.71776482]. \t  \u001b[92m-17.64100099927903\u001b[0m \t -17.64100099927903\n",
            "4      \t [ 8.66970884 -6.33785621]. \t  -155.50069423954056 \t -17.64100099927903\n",
            "5      \t [10.         -0.57106106]. \t  -100.65222146642724 \t -17.64100099927903\n",
            "6      \t [-9.43535893  5.95042309]. \t  -159.84106794164182 \t -17.64100099927903\n",
            "7      \t [-2.00413361  1.08900426]. \t  \u001b[92m-6.388412071319043\u001b[0m \t -6.388412071319043\n",
            "8      \t [1.16486144 5.46153773]. \t  -61.01369087410239 \t -6.388412071319043\n",
            "9      \t [10.          5.22210842]. \t  -154.54083262691287 \t -6.388412071319043\n",
            "10     \t [  4.62356797 -10.        ]. \t  -221.37738073954552 \t -6.388412071319043\n",
            "11     \t [-10. -10.]. \t  -300.0 \t -6.388412071319043\n",
            "12     \t [ 1.11829206 10.        ]. \t  -201.25057712671114 \t -6.388412071319043\n",
            "13     \t [-4.4456309   4.29765672]. \t  -56.70334064264873 \t -6.388412071319043\n",
            "14     \t [ 2.70414345 -3.31731895]. \t  -29.321601816259957 \t -6.388412071319043\n",
            "15     \t [-4.87849505 -0.75067199]. \t  -24.9267308280695 \t -6.388412071319043\n",
            "16     \t [5.50525415 4.60416649]. \t  -72.70452151152972 \t -6.388412071319043\n",
            "17     \t [-0.56137122 -1.31311391]. \t  \u001b[92m-3.763673923231252\u001b[0m \t -3.763673923231252\n",
            "18     \t [-5.26357529 -9.5324525 ]. \t  -209.44052605241933 \t -3.763673923231252\n",
            "19     \t [ 6.61776739 -2.90022763]. \t  -60.617485868276745 \t -3.763673923231252\n",
            "20     \t [ 5.0862264  -6.37741125]. \t  -107.21244749484406 \t -3.763673923231252\n"
          ]
        }
      ]
    },
    {
      "cell_type": "code",
      "metadata": {
        "id": "6amuYlUdIv7r",
        "colab": {
          "base_uri": "https://localhost:8080/"
        },
        "outputId": "656a96b7-00c5-4939-fe7e-21c4b53a2ade"
      },
      "source": [
        "### EXACT GP EI GRADIENTS\n",
        "\n",
        "np.random.seed(run_num_10)\n",
        "surrogate_exact_10 = dGaussianProcess(cov_func, optimize=opt)\n",
        "\n",
        "exact_10 = dGPGO(surrogate_exact_10, Acquisition_new(util_grad_exact), objfunc, param)\n",
        "exact_10.run(init_evals=n_init, max_iter=iters)\n"
      ],
      "execution_count": 43,
      "outputs": [
        {
          "output_type": "stream",
          "name": "stdout",
          "text": [
            "Evaluation \t Proposed point \t  Current eval. \t Best eval.\n",
            "init   \t [ 5.42641287 -9.58496101]. \t  -213.18891181932327 \t -56.66743785259343\n",
            "init   \t [2.6729647  4.97607765]. \t  -56.66743785259343 \t -56.66743785259343\n",
            "init   \t [-0.02985975 -5.50406709]. \t  -60.59040065376497 \t -56.66743785259343\n",
            "init   \t [-6.0387427   5.21061424]. \t  -90.76741505398337 \t -56.66743785259343\n",
            "init   \t [-6.61778327 -8.23320372]. \t  -179.36634226756874 \t -56.66743785259343\n",
            "1      \t [ 7.13700605 -2.96694721]. \t  -68.54240685564316 \t -56.66743785259343\n",
            "2      \t [2.11155129 0.26933255]. \t  \u001b[92m-4.603728884330075\u001b[0m \t -4.603728884330075\n",
            "3      \t [-7.90760511 -1.20789524]. \t  -65.44824041188056 \t -4.603728884330075\n",
            "4      \t [10.          1.04684314]. \t  -102.1917611130645 \t -4.603728884330075\n",
            "5      \t [9.05287874 7.17298031]. \t  -184.8579064352607 \t -4.603728884330075\n",
            "6      \t [0.20663569 9.9051757 ]. \t  -196.2677094620948 \t -4.603728884330075\n",
            "7      \t [5.60591613 1.57362421]. \t  -36.378881909267484 \t -4.603728884330075\n",
            "8      \t [-2.63320577  0.79072699]. \t  -8.184270983929455 \t -4.603728884330075\n",
            "9      \t [ -1.75786032 -10.        ]. \t  -203.09007289470682 \t -4.603728884330075\n",
            "10     \t [-10.           2.91491288]. \t  -116.99343423390103 \t -4.603728884330075\n",
            "11     \t [-6.06716473  9.22601338]. \t  -207.04913375817884 \t -4.603728884330075\n",
            "12     \t [-4.15027279 -4.14444632]. \t  -51.57763476580244 \t -4.603728884330075\n",
            "13     \t [ 9.99554048 -6.83250531]. \t  -193.27708698365115 \t -4.603728884330075\n",
            "14     \t [ 3.15329764 -3.10927722]. \t  -29.278495665981865 \t -4.603728884330075\n",
            "15     \t [ 5.2647344 10.       ]. \t  -227.71742828376412 \t -4.603728884330075\n",
            "16     \t [-1.67990754  5.56336591]. \t  -64.7241698882188 \t -4.603728884330075\n",
            "17     \t [5.74074853 6.23074296]. \t  -110.60050921632208 \t -4.603728884330075\n",
            "18     \t [-10.          -5.15065837]. \t  -153.05856322716906 \t -4.603728884330075\n",
            "19     \t [-0.22836087 -1.81397336]. \t  -6.633147413733885 \t -4.603728884330075\n",
            "20     \t [-6.02088819  1.72847233]. \t  -42.226327794334274 \t -4.603728884330075\n"
          ]
        }
      ]
    },
    {
      "cell_type": "code",
      "metadata": {
        "id": "VwbLIP9cIv-F",
        "colab": {
          "base_uri": "https://localhost:8080/"
        },
        "outputId": "cec07e38-e930-47d8-cad0-159d78a122c6"
      },
      "source": [
        "### EXACT GP EI GRADIENTS\n",
        "\n",
        "np.random.seed(run_num_11)\n",
        "surrogate_exact_11 = dGaussianProcess(cov_func, optimize=opt)\n",
        "\n",
        "exact_11 = dGPGO(surrogate_exact_11, Acquisition_new(util_grad_exact), objfunc, param)\n",
        "exact_11.run(init_evals=n_init, max_iter=iters)\n"
      ],
      "execution_count": 44,
      "outputs": [
        {
          "output_type": "stream",
          "name": "stdout",
          "text": [
            "Evaluation \t Proposed point \t  Current eval. \t Best eval.\n",
            "init   \t [-6.39460622 -9.61049517]. \t  -225.61422357508457 \t -2.716881462565864\n",
            "init   \t [-0.73562947  4.49867858]. \t  -41.01736871863572 \t -2.716881462565864\n",
            "init   \t [-1.59592791 -0.29145804]. \t  -2.716881462565864 \t -2.716881462565864\n",
            "init   \t [-9.74438371 -0.25256785]. \t  -95.08059489374317 \t -2.716881462565864\n",
            "init   \t [8.83613305 7.01590179]. \t  -176.5230030066306 \t -2.716881462565864\n",
            "1      \t [ 1.99086793 -8.88652641]. \t  -161.90425830617428 \t -2.716881462565864\n",
            "2      \t [ 6.89877062 -3.95670624]. \t  -78.9040846386408 \t -2.716881462565864\n",
            "3      \t [10.          0.94213966]. \t  -101.77525425950674 \t -2.716881462565864\n",
            "4      \t [3.75872494 1.36611662]. \t  -17.860562386250265 \t -2.716881462565864\n",
            "5      \t [-7.89611862  5.10567265]. \t  -114.48447569496835 \t -2.716881462565864\n",
            "6      \t [-8.47917244 -4.4343425 ]. \t  -111.223152041855 \t -2.716881462565864\n",
            "7      \t [1.40872256 9.76525486]. \t  -192.70490430955448 \t -2.716881462565864\n",
            "8      \t [-4.68752036 10.        ]. \t  -221.972847149317 \t -2.716881462565864\n",
            "9      \t [-2.7194663  -5.05091101]. \t  -58.41890098951077 \t -2.716881462565864\n",
            "10     \t [-5.12671319  0.96325931]. \t  -28.138925175037702 \t -2.716881462565864\n",
            "11     \t [ 7.67110391 -9.40894977]. \t  -235.90250654678263 \t -2.716881462565864\n",
            "12     \t [ 1.33239808 -2.29361571]. \t  -12.296630711307921 \t -2.716881462565864\n",
            "13     \t [4.45671336 5.39827712]. \t  -78.14508578742885 \t -2.716881462565864\n",
            "14     \t [ 6.25925086 10.        ]. \t  -239.1782212931551 \t -2.716881462565864\n",
            "15     \t [ -2.10158238 -10.        ]. \t  -204.4166484987493 \t -2.716881462565864\n",
            "16     \t [-10. -10.]. \t  -300.0 \t -2.716881462565864\n",
            "17     \t [ 3.38747288 -5.22132462]. \t  -65.99943414229989 \t -2.716881462565864\n",
            "18     \t [10.         -5.99799135]. \t  -171.95180053796653 \t -2.716881462565864\n",
            "19     \t [-8.83010338  8.96492813]. \t  -238.710598292495 \t -2.716881462565864\n",
            "20     \t [-4.43593474 -2.28211654]. \t  -30.093628825396934 \t -2.716881462565864\n"
          ]
        }
      ]
    },
    {
      "cell_type": "code",
      "metadata": {
        "id": "MlUNFjc-JTBY",
        "colab": {
          "base_uri": "https://localhost:8080/"
        },
        "outputId": "3f484721-e2e0-4218-e159-4c936a76ed1a"
      },
      "source": [
        "### EXACT GP EI GRADIENTS\n",
        "\n",
        "np.random.seed(run_num_12)\n",
        "surrogate_exact_12 = dGaussianProcess(cov_func, optimize=opt)\n",
        "\n",
        "exact_12 = dGPGO(surrogate_exact_12, Acquisition_new(util_grad_exact), objfunc, param)\n",
        "exact_12.run(init_evals=n_init, max_iter=iters)\n"
      ],
      "execution_count": 45,
      "outputs": [
        {
          "output_type": "stream",
          "name": "stdout",
          "text": [
            "Evaluation \t Proposed point \t  Current eval. \t Best eval.\n",
            "init   \t [-6.91674315  4.80099393]. \t  -93.94042127407329 \t -23.318590147261595\n",
            "init   \t [-4.7336997   0.67478787]. \t  -23.318590147261595 \t -23.318590147261595\n",
            "init   \t [-9.70850075  8.37494016]. \t  -234.53423225249676 \t -23.318590147261595\n",
            "init   \t [ 8.01429708 -9.33157145]. \t  -238.38540908259807 \t -23.318590147261595\n",
            "init   \t [ 9.13898673 -7.25581357]. \t  -188.8147395776428 \t -23.318590147261595\n",
            "1      \t [4.66251955 4.05244711]. \t  -54.583743654491954 \t -23.318590147261595\n",
            "2      \t [-3.75432006 -8.6025265 ]. \t  -162.1018436659056 \t -23.318590147261595\n",
            "3      \t [-9.57940424 -4.59590956]. \t  -134.00975498124876 \t -23.318590147261595\n",
            "4      \t [0.62006076 8.91956245]. \t  -159.50166406148657 \t -23.318590147261595\n",
            "5      \t [ 8.15269188 -0.957369  ]. \t  -68.2994957298121 \t -23.318590147261595\n",
            "6      \t [9.82022544 8.00293105]. \t  -224.53063835529863 \t -23.318590147261595\n",
            "7      \t [ 2.4307639  -2.13199137]. \t  \u001b[92m-14.999387546945627\u001b[0m \t -14.999387546945627\n",
            "8      \t [ 2.24947769 -8.2274695 ]. \t  -140.44265872284808 \t -14.999387546945627\n",
            "9      \t [-10. -10.]. \t  -300.0 \t -14.999387546945627\n",
            "10     \t [-0.84607527  3.76784806]. \t  -29.109201334189617 \t -14.999387546945627\n",
            "11     \t [-4.5730597 10.       ]. \t  -220.91287499872305 \t -14.999387546945627\n",
            "12     \t [-9.26668028  0.25947923]. \t  -86.00602229354693 \t -14.999387546945627\n",
            "13     \t [-2.09303261 -3.6320279 ]. \t  -30.76403878017745 \t -14.999387546945627\n",
            "14     \t [-0.64062386 -0.01604579]. \t  \u001b[92m-0.410913860845994\u001b[0m \t -0.410913860845994\n",
            "15     \t [ 5.36785431 10.        ]. \t  -228.81385984123963 \t -0.410913860845994\n",
            "16     \t [ 5.44780154 -4.84255334]. \t  -76.57918724119459 \t -0.410913860845994\n",
            "17     \t [9.5050868 3.3153938]. \t  -112.33034712188714 \t -0.410913860845994\n",
            "18     \t [0.70715523 1.14046083]. \t  -3.1013703251090345 \t -0.410913860845994\n",
            "19     \t [-5.98188655 -2.70828679]. \t  -50.45260140459736 \t -0.410913860845994\n",
            "20     \t [-3.28452891  6.25721064]. \t  -89.09350016614313 \t -0.410913860845994\n"
          ]
        }
      ]
    },
    {
      "cell_type": "code",
      "metadata": {
        "id": "9BsKdU9eJTFL",
        "colab": {
          "base_uri": "https://localhost:8080/"
        },
        "outputId": "4abc74ba-f780-457b-98d6-b9bd4ed819dc"
      },
      "source": [
        "### EXACT GP EI GRADIENTS\n",
        "\n",
        "np.random.seed(run_num_13)\n",
        "surrogate_exact_13 = dGaussianProcess(cov_func, optimize=opt)\n",
        "\n",
        "exact_13 = dGPGO(surrogate_exact_13, Acquisition_new(util_grad_exact), objfunc, param)\n",
        "exact_13.run(init_evals=n_init, max_iter=iters)\n"
      ],
      "execution_count": 46,
      "outputs": [
        {
          "output_type": "stream",
          "name": "stdout",
          "text": [
            "Evaluation \t Proposed point \t  Current eval. \t Best eval.\n",
            "init   \t [ 5.55404821 -5.2491756 ]. \t  -85.95514048001408 \t -47.45541115581226\n",
            "init   \t [6.48557065 9.31498396]. \t  -215.600479080162 \t -47.45541115581226\n",
            "init   \t [ 9.45202228 -0.93101505]. \t  -91.0743031984701 \t -47.45541115581226\n",
            "init   \t [2.18084926 5.51053029]. \t  -65.48799167425372 \t -47.45541115581226\n",
            "init   \t [2.8322669  4.44036459]. \t  -47.45541115581226 \t -47.45541115581226\n",
            "1      \t [-8.69830926  2.59657998]. \t  -89.14503917528086 \t -47.45541115581226\n",
            "2      \t [-5.9673185  -6.48540274]. \t  -119.72978734259729 \t -47.45541115581226\n",
            "3      \t [ 1.27140344 -9.80309118]. \t  -193.81766022446593 \t -47.45541115581226\n",
            "4      \t [-5.68974606  9.11900061]. \t  -198.68555458020188 \t -47.45541115581226\n",
            "5      \t [-2.43828359 -1.72801377]. \t  \u001b[92m-11.91729004997534\u001b[0m \t -11.91729004997534\n",
            "6      \t [-10.          -2.91329675]. \t  -116.97459594142217 \t -11.91729004997534\n",
            "7      \t [ 2.35957748 -0.63855278]. \t  \u001b[92m-6.383105173828671\u001b[0m \t -6.383105173828671\n",
            "8      \t [10.          4.71599285]. \t  -144.48117707199077 \t -6.383105173828671\n",
            "9      \t [-2.93446835  3.43890074]. \t  -32.26318107432233 \t -6.383105173828671\n",
            "10     \t [-10. -10.]. \t  -300.0 \t -6.383105173828671\n",
            "11     \t [10.         -6.87200353]. \t  -194.44886502453582 \t -6.383105173828671\n",
            "12     \t [ 0.38930097 -4.80429327]. \t  -46.31402293652961 \t -6.383105173828671\n",
            "13     \t [-0.19359297 10.        ]. \t  -200.03747823878 \t -6.383105173828671\n",
            "14     \t [6.00850831 2.01272587]. \t  -44.20430298243167 \t -6.383105173828671\n",
            "15     \t [-10.           7.15226154]. \t  -202.30969023314728 \t -6.383105173828671\n",
            "16     \t [-5.92817252 -1.84306468]. \t  -41.937004257745805 \t -6.383105173828671\n",
            "17     \t [ 5.46882566 -9.25367579]. \t  -201.1690852388348 \t -6.383105173828671\n",
            "18     \t [ -3.37452418 -10.        ]. \t  -211.387413447233 \t -6.383105173828671\n",
            "19     \t [-2.79260749  7.02908865]. \t  -106.61483107143437 \t -6.383105173828671\n",
            "20     \t [10. 10.]. \t  -300.0 \t -6.383105173828671\n"
          ]
        }
      ]
    },
    {
      "cell_type": "code",
      "metadata": {
        "id": "k6GjFBr1JTJf",
        "colab": {
          "base_uri": "https://localhost:8080/"
        },
        "outputId": "f4e7403c-a9a6-4d27-b267-24c7dfb68f62"
      },
      "source": [
        "### EXACT GP EI GRADIENTS\n",
        "\n",
        "np.random.seed(run_num_14)\n",
        "surrogate_exact_14 = dGaussianProcess(cov_func, optimize=opt)\n",
        "\n",
        "exact_14 = dGPGO(surrogate_exact_14, Acquisition_new(util_grad_exact), objfunc, param)\n",
        "exact_14.run(init_evals=n_init, max_iter=iters)\n"
      ],
      "execution_count": 47,
      "outputs": [
        {
          "output_type": "stream",
          "name": "stdout",
          "text": [
            "Evaluation \t Proposed point \t  Current eval. \t Best eval.\n",
            "init   \t [0.27886688 5.46330104]. \t  -59.77308327621332 \t -26.48525945153859\n",
            "init   \t [ 7.40855371 -9.83906103]. \t  -248.5009120212351 \t -26.48525945153859\n",
            "init   \t [-3.80528149  9.15207479]. \t  -182.0011130426615 \t -26.48525945153859\n",
            "init   \t [ 0.26233425 -3.6343115 ]. \t  -26.48525945153859 \t -26.48525945153859\n",
            "init   \t [ 0.78399875 -5.57490115]. \t  -62.773699734431055 \t -26.48525945153859\n",
            "1      \t [10.          1.66290252]. \t  -105.53048960823196 \t -26.48525945153859\n",
            "2      \t [-8.1477833   0.47898709]. \t  -66.84523003287876 \t -26.48525945153859\n",
            "3      \t [ -3.56142181 -10.        ]. \t  -212.6837253269007 \t -26.48525945153859\n",
            "4      \t [-9.25408911 -6.01411438]. \t  -157.97730888889856 \t -26.48525945153859\n",
            "5      \t [9.75309759 8.89296777]. \t  -253.29266403870446 \t -26.48525945153859\n",
            "6      \t [-9.20508311  6.53757134]. \t  -170.2132331105962 \t -26.48525945153859\n",
            "7      \t [10.         -4.42757616]. \t  -139.20686135913067 \t -26.48525945153859\n",
            "8      \t [ 3.83605746 10.        ]. \t  -214.71533681700225 \t -26.48525945153859\n",
            "9      \t [ 5.16028044 -1.29235085]. \t  -29.968835634771533 \t -26.48525945153859\n",
            "10     \t [-4.61837064 -3.34884579]. \t  -43.758883642159546 \t -26.48525945153859\n",
            "11     \t [  2.20007334 -10.        ]. \t  -204.84032270171528 \t -26.48525945153859\n",
            "12     \t [5.45644716 4.76123258]. \t  -75.11148710882627 \t -26.48525945153859\n",
            "13     \t [-2.48516624  1.19670878]. \t  \u001b[92m-9.040275050152156\u001b[0m \t -9.040275050152156\n",
            "14     \t [1.3543707  1.35048147]. \t  \u001b[92m-5.481920401363535\u001b[0m \t -5.481920401363535\n",
            "15     \t [-3.78900465  4.34280535]. \t  -52.076472776384016 \t -5.481920401363535\n",
            "16     \t [ 5.93372486 -5.84829173]. \t  -103.61412317832968 \t -5.481920401363535\n",
            "17     \t [-0.04591651 10.        ]. \t  -200.00210832590423 \t -5.481920401363535\n",
            "18     \t [-10. -10.]. \t  -300.0 \t -5.481920401363535\n",
            "19     \t [-10.         -2.4636086]. \t  -112.13873466498066 \t -5.481920401363535\n",
            "20     \t [-4.39925717 -6.49961589]. \t  -103.84347715157166 \t -5.481920401363535\n"
          ]
        }
      ]
    },
    {
      "cell_type": "code",
      "metadata": {
        "id": "dPS8WB3aJTN6",
        "colab": {
          "base_uri": "https://localhost:8080/"
        },
        "outputId": "da81e0f5-a87d-4243-d5eb-e0cb1e3c2a11"
      },
      "source": [
        "### EXACT GP EI GRADIENTS\n",
        "\n",
        "np.random.seed(run_num_15)\n",
        "surrogate_exact_15 = dGaussianProcess(cov_func, optimize=opt)\n",
        "\n",
        "exact_15 = dGPGO(surrogate_exact_15, Acquisition_new(util_grad_exact), objfunc, param)\n",
        "exact_15.run(init_evals=n_init, max_iter=iters)\n"
      ],
      "execution_count": 48,
      "outputs": [
        {
          "output_type": "stream",
          "name": "stdout",
          "text": [
            "Evaluation \t Proposed point \t  Current eval. \t Best eval.\n",
            "init   \t [ 6.97635395 -6.4220815 ]. \t  -131.15577599697437 \t -20.897907943365695\n",
            "init   \t [-8.91273571 -2.76923108]. \t  -94.77413943464936 \t -20.897907943365695\n",
            "init   \t [-4.49198143  0.6000045 ]. \t  -20.897907943365695 \t -20.897907943365695\n",
            "init   \t [-3.88162169 -3.91051282]. \t  -45.651207890195394 \t -20.897907943365695\n",
            "init   \t [-7.76517448 -5.00201972]. \t  -110.33833725681367 \t -20.897907943365695\n",
            "1      \t [-1.08003705  9.49213271]. \t  -181.3676469637466 \t -20.897907943365695\n",
            "2      \t [-9.69991687  7.99454818]. \t  -221.91398842692476 \t -20.897907943365695\n",
            "3      \t [9.38262114 9.37010501]. \t  -263.6313154484096 \t -20.897907943365695\n",
            "4      \t [8.17696818 1.09984692]. \t  -69.28213505909017 \t -20.897907943365695\n",
            "5      \t [ 1.57189916 -2.04770067]. \t  \u001b[92m-10.8570230538824\u001b[0m \t -10.8570230538824\n",
            "6      \t [-0.62952455 -9.52479128]. \t  -181.8395990317211 \t -10.8570230538824\n",
            "7      \t [1.14425347 3.31312676]. \t  -23.26293387123121 \t -10.8570230538824\n",
            "8      \t [-10. -10.]. \t  -300.0 \t -10.8570230538824\n",
            "9      \t [4.09206393 7.64224222]. \t  -133.5527194906526 \t -10.8570230538824\n",
            "10     \t [-5.06723012  6.48642743]. \t  -109.82430257835938 \t -10.8570230538824\n",
            "11     \t [-10.           2.46234858]. \t  -112.12632104084447 \t -10.8570230538824\n",
            "12     \t [ 0.75324543 -5.45710744]. \t  -60.12742185047504 \t -10.8570230538824\n",
            "13     \t [9.68701915 4.97434638]. \t  -143.32658382505755 \t -10.8570230538824\n",
            "14     \t [10.         -2.95486074]. \t  -117.46240392902052 \t -10.8570230538824\n",
            "15     \t [4.88958005 3.50647217]. \t  -48.49868728628658 \t -10.8570230538824\n",
            "16     \t [ -5.24621282 -10.        ]. \t  -227.5227489419251 \t -10.8570230538824\n",
            "17     \t [ 5.24721665 -1.99318799]. \t  -35.47887928540892 \t -10.8570230538824\n",
            "18     \t [ 3.75029813 -9.38525548]. \t  -190.2307769292882 \t -10.8570230538824\n",
            "19     \t [-0.94062549 -0.15839066]. \t  \u001b[92m-0.9349515202532505\u001b[0m \t -0.9349515202532505\n",
            "20     \t [-3.1337714   3.69754049]. \t  -37.16413458132342 \t -0.9349515202532505\n"
          ]
        }
      ]
    },
    {
      "cell_type": "code",
      "metadata": {
        "id": "SHWdp2giJTRm",
        "colab": {
          "base_uri": "https://localhost:8080/"
        },
        "outputId": "99494e03-ed9e-4cf8-ee7d-0e8ca37e0c05"
      },
      "source": [
        "### EXACT GP EI GRADIENTS\n",
        "\n",
        "np.random.seed(run_num_16)\n",
        "surrogate_exact_16 = dGaussianProcess(cov_func, optimize=opt)\n",
        "\n",
        "exact_16 = dGPGO(surrogate_exact_16, Acquisition_new(util_grad_exact), objfunc, param)\n",
        "exact_16.run(init_evals=n_init, max_iter=iters)\n"
      ],
      "execution_count": 49,
      "outputs": [
        {
          "output_type": "stream",
          "name": "stdout",
          "text": [
            "Evaluation \t Proposed point \t  Current eval. \t Best eval.\n",
            "init   \t [-5.53417842  0.46326683]. \t  -31.056363058280656 \t -31.056363058280656\n",
            "init   \t [ 1.01402913 -9.087961  ]. \t  -166.21032525826828 \t -31.056363058280656\n",
            "init   \t [-2.78542329 -5.53838117]. \t  -69.10591480510183 \t -31.056363058280656\n",
            "init   \t [ 3.77452324 -6.7253715 ]. \t  -104.70826928786903 \t -31.056363058280656\n",
            "init   \t [-8.59350266  8.8202172 ]. \t  -229.44075111810224 \t -31.056363058280656\n",
            "1      \t [4.18505664 9.44091052]. \t  -195.7762819329394 \t -31.056363058280656\n",
            "2      \t [-10. -10.]. \t  -300.0 \t -31.056363058280656\n",
            "3      \t [ 2.52801252 -0.08752176]. \t  \u001b[92m-6.406167436310099\u001b[0m \t -6.406167436310099\n",
            "4      \t [ 8.8300141  -0.10570929]. \t  -77.99149800000582 \t -6.406167436310099\n",
            "5      \t [-2.22531694  5.42968011]. \t  -63.91488757640133 \t -6.406167436310099\n",
            "6      \t [-10.          -3.10152711]. \t  -119.23894087714001 \t -6.406167436310099\n",
            "7      \t [9.54858064 5.67238397]. \t  -155.5272721834636 \t -6.406167436310099\n",
            "8      \t [-0.69830756  9.91532789]. \t  -197.11508770584692 \t -6.406167436310099\n",
            "9      \t [ 9.56282855 -7.48668919]. \t  -203.54871999949017 \t -6.406167436310099\n",
            "10     \t [-1.36412736 -0.31694595]. \t  \u001b[92m-2.061752913574225\u001b[0m \t -2.061752913574225\n",
            "11     \t [3.14881444 4.33911801]. \t  -47.57092255195144 \t -2.061752913574225\n",
            "12     \t [-10.           2.54080793]. \t  -112.91140984587514 \t -2.061752913574225\n",
            "13     \t [-4.93907965 -9.83867979]. \t  -217.99374781260835 \t -2.061752913574225\n",
            "14     \t [10. 10.]. \t  -300.0 \t -2.061752913574225\n",
            "15     \t [ 5.41224475 -2.69745562]. \t  -43.844926884652715 \t -2.061752913574225\n",
            "16     \t [-6.79569634 -6.14182846]. \t  -121.62560241862313 \t -2.061752913574225\n",
            "17     \t [ 1.06016292 -3.53291391]. \t  -26.086906808266733 \t -2.061752913574225\n",
            "18     \t [-6.15396276  4.47382337]. \t  -77.9014486527805 \t -2.061752913574225\n",
            "19     \t [-0.01202335  2.0910656 ]. \t  -8.745255264484932 \t -2.061752913574225\n",
            "20     \t [  5.75307525 -10.        ]. \t  -233.09787482689902 \t -2.061752913574225\n"
          ]
        }
      ]
    },
    {
      "cell_type": "code",
      "metadata": {
        "id": "yU2SflSsJTUs",
        "colab": {
          "base_uri": "https://localhost:8080/"
        },
        "outputId": "d53d31d6-6695-4ed3-fdd9-a65d6e182872"
      },
      "source": [
        "### EXACT GP EI GRADIENTS\n",
        "\n",
        "np.random.seed(run_num_17)\n",
        "surrogate_exact_17 = dGaussianProcess(cov_func, optimize=opt)\n",
        "\n",
        "exact_17 = dGPGO(surrogate_exact_17, Acquisition_new(util_grad_exact), objfunc, param)\n",
        "exact_17.run(init_evals=n_init, max_iter=iters)\n"
      ],
      "execution_count": 50,
      "outputs": [
        {
          "output_type": "stream",
          "name": "stdout",
          "text": [
            "Evaluation \t Proposed point \t  Current eval. \t Best eval.\n",
            "init   \t [-4.10669995  0.61173511]. \t  -17.613424143360255 \t -12.137436774523842\n",
            "init   \t [-6.16958426 -8.64199284]. \t  -187.43185031516856 \t -12.137436774523842\n",
            "init   \t [5.7397092  3.12667044]. \t  -52.49639772521824 \t -12.137436774523842\n",
            "init   \t [2.75041792 1.51205788]. \t  -12.137436774523842 \t -12.137436774523842\n",
            "init   \t [-9.21874168 -2.84372791]. \t  -101.1587749488933 \t -12.137436774523842\n",
            "1      \t [-8.64042543  9.21575513]. \t  -244.5172369008349 \t -12.137436774523842\n",
            "2      \t [ 4.54825031 -8.71744454]. \t  -172.6742595800706 \t -12.137436774523842\n",
            "3      \t [9.12376544 9.73620918]. \t  -272.83063435528607 \t -12.137436774523842\n",
            "4      \t [-0.05385845  7.96254756]. \t  -126.80722802594437 \t -12.137436774523842\n",
            "5      \t [ 9.06636127 -2.74323799]. \t  -97.24961590065784 \t -12.137436774523842\n",
            "6      \t [ 1.29857988 -3.67254841]. \t  -28.661533360955726 \t -12.137436774523842\n",
            "7      \t [-10.           3.33631092]. \t  -122.26194111400777 \t -12.137436774523842\n",
            "8      \t [-1.02859872 -9.21677652]. \t  -170.95595419028933 \t -12.137436774523842\n",
            "9      \t [10.         -8.52480025]. \t  -245.34443849180192 \t -12.137436774523842\n",
            "10     \t [-4.5241059   5.30221253]. \t  -76.69444968701535 \t -12.137436774523842\n",
            "11     \t [10.          4.71705288]. \t  -144.50117573364426 \t -12.137436774523842\n",
            "12     \t [-3.79124136 -4.02357187]. \t  -46.751772172719235 \t -12.137436774523842\n",
            "13     \t [5.20076423 7.23683939]. \t  -131.79163728040083 \t -12.137436774523842\n",
            "14     \t [-0.69114407  3.17597448]. \t  -20.65130794878609 \t -12.137436774523842\n",
            "15     \t [ 4.99066149 -2.82738409]. \t  -40.894903739060474 \t -12.137436774523842\n",
            "16     \t [-0.63647083 -0.55970649]. \t  \u001b[92m-1.0316378269918112\u001b[0m \t -1.0316378269918112\n",
            "17     \t [-10.          -6.28030976]. \t  -178.88458125554217 \t -1.0316378269918112\n",
            "18     \t [-3.74622013  9.13526661]. \t  -180.94035713448434 \t -1.0316378269918112\n",
            "19     \t [9.20898999 0.95699703]. \t  -86.63718326198178 \t -1.0316378269918112\n",
            "20     \t [-7.03717042  0.05069783]. \t  -49.52690801552262 \t -1.0316378269918112\n"
          ]
        }
      ]
    },
    {
      "cell_type": "code",
      "metadata": {
        "id": "es0KCh_0JTgY",
        "colab": {
          "base_uri": "https://localhost:8080/"
        },
        "outputId": "cdc2f660-ff59-4d35-8e12-80c2abdcb4b4"
      },
      "source": [
        "### EXACT GP EI GRADIENTS\n",
        "\n",
        "np.random.seed(run_num_18)\n",
        "surrogate_exact_18 = dGaussianProcess(cov_func, optimize=opt)\n",
        "\n",
        "exact_18 = dGPGO(surrogate_exact_18, Acquisition_new(util_grad_exact), objfunc, param)\n",
        "exact_18.run(init_evals=n_init, max_iter=iters)\n"
      ],
      "execution_count": 51,
      "outputs": [
        {
          "output_type": "stream",
          "name": "stdout",
          "text": [
            "Evaluation \t Proposed point \t  Current eval. \t Best eval.\n",
            "init   \t [3.00748483 0.10906747]. \t  -9.068756459576363 \t -9.068756459576363\n",
            "init   \t [ 7.57202942 -6.36319549]. \t  -138.3161432668939 \t -9.068756459576363\n",
            "init   \t [7.04466137 5.00272572]. \t  -99.6817831686958 \t -9.068756459576363\n",
            "init   \t [3.32203335 9.75790897]. \t  -201.4694803352836 \t -9.068756459576363\n",
            "init   \t [-4.86063155 -9.43388149]. \t  -201.6219791510955 \t -9.068756459576363\n",
            "1      \t [-6.1664519   4.28513481]. \t  -74.74988979878172 \t -9.068756459576363\n",
            "2      \t [-6.07110106 -2.27098711]. \t  -47.173032968123124 \t -9.068756459576363\n",
            "3      \t [-9.84572665 -7.72302303]. \t  -216.22850278173115 \t -9.068756459576363\n",
            "4      \t [-0.37708856  4.1765478 ]. \t  -35.02929889343401 \t -9.068756459576363\n",
            "5      \t [ 4.59940623 -9.59713586]. \t  -205.36457092968183 \t -9.068756459576363\n",
            "6      \t [10. 10.]. \t  -300.0 \t -9.068756459576363\n",
            "7      \t [-0.35437544 -4.15835609]. \t  -34.709432677052504 \t -9.068756459576363\n",
            "8      \t [-1.41507572  8.45604883]. \t  -145.01196297138648 \t -9.068756459576363\n",
            "9      \t [10.         -0.96781592]. \t  -101.87333529412102 \t -9.068756459576363\n",
            "10     \t [-9.69289674  8.4893621 ]. \t  -238.0907849162934 \t -9.068756459576363\n",
            "11     \t [-10.           0.86223364]. \t  -101.48689369191554 \t -9.068756459576363\n",
            "12     \t [-2.75045671  0.58612083]. \t  \u001b[92m-8.252087353045923\u001b[0m \t -8.252087353045923\n",
            "13     \t [ 5.87831114 -2.36930635]. \t  -45.78176702500435 \t -8.252087353045923\n",
            "14     \t [-4.13357232 -5.30521026]. \t  -73.37693197645324 \t -8.252087353045923\n",
            "15     \t [-5.99047409  9.73183458]. \t  -225.30298859781234 \t -8.252087353045923\n",
            "16     \t [-9.48684544 -3.68507643]. \t  -117.15981309601668 \t -8.252087353045923\n",
            "17     \t [3.19704016 4.35898464]. \t  -48.22255997430137 \t -8.252087353045923\n",
            "18     \t [-0.12959731 -9.43094226]. \t  -177.9021393038082 \t -8.252087353045923\n",
            "19     \t [7.09136772 1.02035975]. \t  -52.36976413540608 \t -8.252087353045923\n",
            "20     \t [ 3.31688901 -5.18822444]. \t  -64.83709842173702 \t -8.252087353045923\n"
          ]
        }
      ]
    },
    {
      "cell_type": "code",
      "metadata": {
        "id": "Pput2LHPIwBM",
        "colab": {
          "base_uri": "https://localhost:8080/"
        },
        "outputId": "35f65576-5fd3-42bd-bdcb-8ac694de10b1"
      },
      "source": [
        "### EXACT GP EI GRADIENTS\n",
        "\n",
        "np.random.seed(run_num_19)\n",
        "surrogate_exact_19 = dGaussianProcess(cov_func, optimize=opt)\n",
        "\n",
        "exact_19 = dGPGO(surrogate_exact_19, Acquisition_new(util_grad_exact), objfunc, param)\n",
        "exact_19.run(init_evals=n_init, max_iter=iters)\n"
      ],
      "execution_count": 52,
      "outputs": [
        {
          "output_type": "stream",
          "name": "stdout",
          "text": [
            "Evaluation \t Proposed point \t  Current eval. \t Best eval.\n",
            "init   \t [-8.04932797  5.22499433]. \t  -119.39281225846176 \t -87.03025225125222\n",
            "init   \t [-5.06124054 -7.23736625]. \t  -130.3750962570555 \t -87.03025225125222\n",
            "init   \t [-3.37106873 -8.3400087 ]. \t  -150.4755946408245 \t -87.03025225125222\n",
            "init   \t [3.43954163 6.13187596]. \t  -87.03025225125222 \t -87.03025225125222\n",
            "init   \t [9.65483829 2.7132147 ]. \t  -107.93897039562282 \t -87.03025225125222\n",
            "1      \t [ 9.42739537 -7.28680447]. \t  -195.07082209920037 \t -87.03025225125222\n",
            "2      \t [-0.98729228  0.17377362]. \t  \u001b[92m-1.035140583629665\u001b[0m \t -1.035140583629665\n",
            "3      \t [-10.          -0.36564374]. \t  -100.26739069161607 \t -1.035140583629665\n",
            "4      \t [ 3.28170035 -5.35745925]. \t  -68.17429644231365 \t -1.035140583629665\n",
            "5      \t [-2.69333527  7.93798122]. \t  -133.2771466359215 \t -1.035140583629665\n",
            "6      \t [8.75113246 8.75937287]. \t  -230.03554562232063 \t -1.035140583629665\n",
            "7      \t [4.2692519  0.20483541]. \t  -18.310426866093795 \t -1.035140583629665\n",
            "8      \t [-10. -10.]. \t  -300.0 \t -1.035140583629665\n",
            "9      \t [-4.9748569   0.64207123]. \t  -25.573712056357653 \t -1.035140583629665\n",
            "10     \t [10.         -2.23456886]. \t  -109.98659597833532 \t -1.035140583629665\n",
            "11     \t [-1.20246557 -3.7827667 ]. \t  -30.06457133497875 \t -1.035140583629665\n",
            "12     \t [  4.78084898 -10.        ]. \t  -222.85651695061688 \t -1.035140583629665\n",
            "13     \t [-10.          -5.06613614]. \t  -151.33147075456608 \t -1.035140583629665\n",
            "14     \t [ 1.45223579 10.        ]. \t  -202.10898879505518 \t -1.035140583629665\n",
            "15     \t [-7.02325672 10.        ]. \t  -249.32613488594464 \t -1.035140583629665\n",
            "16     \t [-0.27998156  3.44022545]. \t  -23.748691926940197 \t -1.035140583629665\n",
            "17     \t [-6.2239509  -2.93214125]. \t  -55.93246942813515 \t -1.035140583629665\n",
            "18     \t [ 6.71341708 -4.12784484]. \t  -79.14817495665376 \t -1.035140583629665\n",
            "19     \t [ 1.35942719 -1.38389746]. \t  -5.678386647575715 \t -1.035140583629665\n",
            "20     \t [-3.96103708  4.06296955]. \t  -48.70525785372068 \t -1.035140583629665\n"
          ]
        }
      ]
    },
    {
      "cell_type": "code",
      "metadata": {
        "id": "aw3xvSryIwDi",
        "colab": {
          "base_uri": "https://localhost:8080/"
        },
        "outputId": "4a1b8f38-8cf7-4755-801f-317f4de55f0d"
      },
      "source": [
        "### EXACT GP EI GRADIENTS\n",
        "\n",
        "np.random.seed(run_num_20)\n",
        "surrogate_exact_20 = dGaussianProcess(cov_func, optimize=opt)\n",
        "\n",
        "exact_20 = dGPGO(surrogate_exact_20, Acquisition_new(util_grad_exact), objfunc, param)\n",
        "exact_20.run(init_evals=n_init, max_iter=iters)\n"
      ],
      "execution_count": 53,
      "outputs": [
        {
          "output_type": "stream",
          "name": "stdout",
          "text": [
            "Evaluation \t Proposed point \t  Current eval. \t Best eval.\n",
            "init   \t [1.76261602 7.95427456]. \t  -129.64778273349407 \t -6.161449614183514\n",
            "init   \t [7.83061459 6.31674955]. \t  -141.12117450686426 \t -6.161449614183514\n",
            "init   \t [-9.28220829  3.83515164]. \t  -115.57616682517047 \t -6.161449614183514\n",
            "init   \t [-2.42638116  0.37021891]. \t  -6.161449614183514 \t -6.161449614183514\n",
            "init   \t [ 3.15902931 -6.12299564]. \t  -84.96161746112533 \t -6.161449614183514\n",
            "1      \t [ 6.78995846 -0.77921207]. \t  -47.31787877809484 \t -6.161449614183514\n",
            "2      \t [-7.8478547 -7.6599646]. \t  -178.938938646232 \t -6.161449614183514\n",
            "3      \t [-4.56172279  9.14761084]. \t  -188.16688311626407 \t -6.161449614183514\n",
            "4      \t [ 9.03563127 -5.57761678]. \t  -143.86225043765864 \t -6.161449614183514\n",
            "5      \t [-2.12605608 -8.09125458]. \t  -135.4569156559609 \t -6.161449614183514\n",
            "6      \t [2.41195647 2.19547989]. \t  -15.457797925351425 \t -6.161449614183514\n",
            "7      \t [-8.39129759 -1.18333278]. \t  -73.21442824802685 \t -6.161449614183514\n",
            "8      \t [  6.40761749 -10.        ]. \t  -241.0575619232759 \t -6.161449614183514\n",
            "9      \t [-4.1067771  -3.60647015]. \t  -42.87887207212327 \t -6.161449614183514\n",
            "10     \t [-2.09395347  4.27872614]. \t  -40.99963588679598 \t -6.161449614183514\n",
            "11     \t [10.          2.17815259]. \t  -109.48869737131916 \t -6.161449614183514\n",
            "12     \t [-9.42357006  8.59245744]. \t  -236.46432239641388 \t -6.161449614183514\n",
            "13     \t [10. 10.]. \t  -300.0 \t -6.161449614183514\n",
            "14     \t [  2.50045427 -10.        ]. \t  -206.25227155462235 \t -6.161449614183514\n",
            "15     \t [ 0.69217346 -1.90035956]. \t  -7.701837021299148 \t -6.161449614183514\n",
            "16     \t [-10.          -4.53200042]. \t  -141.0780556922907 \t -6.161449614183514\n",
            "17     \t [-5.38646298  1.66594019]. \t  -34.564696837422765 \t -6.161449614183514\n",
            "18     \t [ 5.4511588 10.       ]. \t  -229.71513225129732 \t -6.161449614183514\n",
            "19     \t [3.99983803 5.06166123]. \t  -67.23953317719072 \t -6.161449614183514\n",
            "20     \t [-5.64555336  5.29849451]. \t  -88.02036101519954 \t -6.161449614183514\n"
          ]
        }
      ]
    },
    {
      "cell_type": "code",
      "metadata": {
        "id": "qNqAB3vBTPqb",
        "colab": {
          "base_uri": "https://localhost:8080/"
        },
        "outputId": "56ebc2f1-427d-41a5-dfc8-8ab7247764f4"
      },
      "source": [
        "end_exact = time.time()\n",
        "end_exact\n",
        "\n",
        "time_exact = end_exact - start_exact\n",
        "time_exact"
      ],
      "execution_count": 54,
      "outputs": [
        {
          "output_type": "execute_result",
          "data": {
            "text/plain": [
              "284.95571398735046"
            ]
          },
          "metadata": {},
          "execution_count": 54
        }
      ]
    },
    {
      "cell_type": "code",
      "metadata": {
        "id": "JPQzjdBZQxfg",
        "colab": {
          "base_uri": "https://localhost:8080/"
        },
        "outputId": "bb201812-838b-4e41-c2ee-5925873e0112"
      },
      "source": [
        "### Simple regret minimization: run number = 1\n",
        "\n",
        "approx_output_1 = np.append(np.min(approx_1.GP.y[0:n_init]),approx_1.GP.y[n_init:(n_init+iters)]) \n",
        "exact_output_1 = np.append(np.min(exact_1.GP.y[0:n_init]),exact_1.GP.y[n_init:(n_init+iters)]) \n",
        "\n",
        "regret_approx_1 = np.log(-approx_output_1 + y_global_orig)\n",
        "regret_exact_1 = np.log(-exact_output_1 + y_global_orig)\n",
        "\n",
        "simple_regret_approx_1 = min_max_array(regret_approx_1)\n",
        "simple_regret_exact_1 = min_max_array(regret_exact_1)\n",
        "\n",
        "min_simple_regret_approx_1 = min(simple_regret_approx_1)\n",
        "min_simple_regret_exact_1 = min(simple_regret_exact_1)\n",
        "\n",
        "min_simple_regret_approx_1, min_simple_regret_exact_1"
      ],
      "execution_count": 55,
      "outputs": [
        {
          "output_type": "execute_result",
          "data": {
            "text/plain": [
              "(2.154857416092022, 1.0342011296973532)"
            ]
          },
          "metadata": {},
          "execution_count": 55
        }
      ]
    },
    {
      "cell_type": "code",
      "metadata": {
        "id": "94yBw5tqQxfk",
        "colab": {
          "base_uri": "https://localhost:8080/"
        },
        "outputId": "831d2136-5632-44d3-820d-21eda2dae9f6"
      },
      "source": [
        "### Simple regret minimization: run number = 2\n",
        "\n",
        "approx_output_2 = np.append(np.min(approx_2.GP.y[0:n_init]),approx_2.GP.y[n_init:(n_init+iters)]) \n",
        "exact_output_2 = np.append(np.min(exact_2.GP.y[0:n_init]),exact_2.GP.y[n_init:(n_init+iters)]) \n",
        "\n",
        "regret_approx_2 = np.log(-approx_output_2 + y_global_orig)\n",
        "regret_exact_2 = np.log(-exact_output_2 + y_global_orig)\n",
        "\n",
        "simple_regret_approx_2 = min_max_array(regret_approx_2)\n",
        "simple_regret_exact_2 = min_max_array(regret_exact_2)\n",
        "\n",
        "min_simple_regret_approx_2 = min(simple_regret_approx_2)\n",
        "min_simple_regret_exact_2 = min(simple_regret_exact_2)\n",
        "\n",
        "min_simple_regret_approx_2, min_simple_regret_exact_2"
      ],
      "execution_count": 56,
      "outputs": [
        {
          "output_type": "execute_result",
          "data": {
            "text/plain": [
              "(1.7118528923337784, 2.867932084150864)"
            ]
          },
          "metadata": {},
          "execution_count": 56
        }
      ]
    },
    {
      "cell_type": "code",
      "metadata": {
        "id": "Bu6SBWALQxfl",
        "colab": {
          "base_uri": "https://localhost:8080/"
        },
        "outputId": "96935834-6278-40c8-8676-977e71442e8a"
      },
      "source": [
        "### Simple regret minimization: run number = 3\n",
        "\n",
        "approx_output_3 = np.append(np.min(approx_3.GP.y[0:n_init]),approx_3.GP.y[n_init:(n_init+iters)]) \n",
        "exact_output_3 = np.append(np.min(exact_3.GP.y[0:n_init]),exact_3.GP.y[n_init:(n_init+iters)]) \n",
        "\n",
        "regret_approx_3 = np.log(-approx_output_3 + y_global_orig)\n",
        "regret_exact_3 = np.log(-exact_output_3 + y_global_orig)\n",
        "\n",
        "simple_regret_approx_3 = min_max_array(regret_approx_3)\n",
        "simple_regret_exact_3 = min_max_array(regret_exact_3)\n",
        "\n",
        "min_simple_regret_approx_3 = min(simple_regret_approx_3)\n",
        "min_simple_regret_exact_3 = min(simple_regret_exact_3)\n",
        "\n",
        "min_simple_regret_approx_3, min_simple_regret_exact_3"
      ],
      "execution_count": 57,
      "outputs": [
        {
          "output_type": "execute_result",
          "data": {
            "text/plain": [
              "(-3.031531339432816, -2.3674947350486097)"
            ]
          },
          "metadata": {},
          "execution_count": 57
        }
      ]
    },
    {
      "cell_type": "code",
      "metadata": {
        "id": "AZm0jgxkQxfm",
        "colab": {
          "base_uri": "https://localhost:8080/"
        },
        "outputId": "454ef622-081e-4ab0-917a-19a2ca504f67"
      },
      "source": [
        "### Simple regret minimization: run number = 4\n",
        "\n",
        "approx_output_4 = np.append(np.min(approx_4.GP.y[0:n_init]),approx_4.GP.y[n_init:(n_init+iters)]) \n",
        "exact_output_4 = np.append(np.min(exact_4.GP.y[0:n_init]),exact_4.GP.y[n_init:(n_init+iters)]) \n",
        "\n",
        "regret_approx_4 = np.log(-approx_output_4 + y_global_orig)\n",
        "regret_exact_4 = np.log(-exact_output_4 + y_global_orig)\n",
        "\n",
        "simple_regret_approx_4 = min_max_array(regret_approx_4)\n",
        "simple_regret_exact_4 = min_max_array(regret_exact_4)\n",
        "\n",
        "min_simple_regret_approx_4 = min(simple_regret_approx_4)\n",
        "min_simple_regret_exact_4 = min(simple_regret_exact_4)\n",
        "\n",
        "min_simple_regret_approx_4, min_simple_regret_exact_4"
      ],
      "execution_count": 58,
      "outputs": [
        {
          "output_type": "execute_result",
          "data": {
            "text/plain": [
              "(0.7217146080028864, 0.7478393198350645)"
            ]
          },
          "metadata": {},
          "execution_count": 58
        }
      ]
    },
    {
      "cell_type": "code",
      "metadata": {
        "id": "NONPm8JIQxfn",
        "colab": {
          "base_uri": "https://localhost:8080/"
        },
        "outputId": "30273a33-defa-4b22-9c3e-10bd42d92687"
      },
      "source": [
        "### Simple regret minimization: run number = 5\n",
        "\n",
        "approx_output_5 = np.append(np.min(approx_5.GP.y[0:n_init]),approx_5.GP.y[n_init:(n_init+iters)]) \n",
        "exact_output_5 = np.append(np.min(exact_5.GP.y[0:n_init]),exact_5.GP.y[n_init:(n_init+iters)]) \n",
        "\n",
        "regret_approx_5 = np.log(-approx_output_5 + y_global_orig)\n",
        "regret_exact_5 = np.log(-exact_output_5 + y_global_orig)\n",
        "\n",
        "simple_regret_approx_5 = min_max_array(regret_approx_5)\n",
        "simple_regret_exact_5 = min_max_array(regret_exact_5)\n",
        "\n",
        "min_simple_regret_approx_5 = min(simple_regret_approx_5)\n",
        "min_simple_regret_exact_5 = min(simple_regret_exact_5)\n",
        "\n",
        "min_simple_regret_approx_5, min_simple_regret_exact_5"
      ],
      "execution_count": 59,
      "outputs": [
        {
          "output_type": "execute_result",
          "data": {
            "text/plain": [
              "(2.2759144160730367, 1.3539428677122212)"
            ]
          },
          "metadata": {},
          "execution_count": 59
        }
      ]
    },
    {
      "cell_type": "code",
      "metadata": {
        "id": "CJv3lPuSQxfp",
        "colab": {
          "base_uri": "https://localhost:8080/"
        },
        "outputId": "e07ec60c-c653-4632-8601-0cd59e606899"
      },
      "source": [
        "### Simple regret minimization: run number = 6\n",
        "\n",
        "approx_output_6 = np.append(np.min(approx_6.GP.y[0:n_init]),approx_6.GP.y[n_init:(n_init+iters)]) \n",
        "exact_output_6 = np.append(np.min(exact_6.GP.y[0:n_init]),exact_6.GP.y[n_init:(n_init+iters)]) \n",
        "\n",
        "regret_approx_6 = np.log(-approx_output_6 + y_global_orig)\n",
        "regret_exact_6 = np.log(-exact_output_6 + y_global_orig)\n",
        "\n",
        "simple_regret_approx_6 = min_max_array(regret_approx_6)\n",
        "simple_regret_exact_6 = min_max_array(regret_exact_6)\n",
        "\n",
        "min_simple_regret_approx_6 = min(simple_regret_approx_6)\n",
        "min_simple_regret_exact_6 = min(simple_regret_exact_6)\n",
        "\n",
        "min_simple_regret_approx_6, min_simple_regret_exact_6"
      ],
      "execution_count": 60,
      "outputs": [
        {
          "output_type": "execute_result",
          "data": {
            "text/plain": [
              "(1.1492841367060898, 1.8007790883213732)"
            ]
          },
          "metadata": {},
          "execution_count": 60
        }
      ]
    },
    {
      "cell_type": "code",
      "metadata": {
        "id": "quR2ZyApQxfq",
        "colab": {
          "base_uri": "https://localhost:8080/"
        },
        "outputId": "24f6201f-f17f-4b4d-d1ce-e839b25f5c68"
      },
      "source": [
        "### Simple regret minimization: run number = 7\n",
        "\n",
        "approx_output_7 = np.append(np.min(approx_7.GP.y[0:n_init]),approx_7.GP.y[n_init:(n_init+iters)]) \n",
        "exact_output_7 = np.append(np.min(exact_7.GP.y[0:n_init]),exact_7.GP.y[n_init:(n_init+iters)]) \n",
        "\n",
        "regret_approx_7 = np.log(-approx_output_7 + y_global_orig)\n",
        "regret_exact_7 = np.log(-exact_output_7 + y_global_orig)\n",
        "\n",
        "simple_regret_approx_7 = min_max_array(regret_approx_7)\n",
        "simple_regret_exact_7 = min_max_array(regret_exact_7)\n",
        "\n",
        "min_simple_regret_approx_7 = min(simple_regret_approx_7)\n",
        "min_simple_regret_exact_7 = min(simple_regret_exact_7)\n",
        "\n",
        "min_simple_regret_approx_7, min_simple_regret_exact_7"
      ],
      "execution_count": 61,
      "outputs": [
        {
          "output_type": "execute_result",
          "data": {
            "text/plain": [
              "(0.5188931358044525, -0.8988462260415733)"
            ]
          },
          "metadata": {},
          "execution_count": 61
        }
      ]
    },
    {
      "cell_type": "code",
      "metadata": {
        "id": "99wY5nK6Qxfr",
        "colab": {
          "base_uri": "https://localhost:8080/"
        },
        "outputId": "bf92fb1c-c55a-4957-be2f-abf362b0cf03"
      },
      "source": [
        "### Simple regret minimization: run number = 8\n",
        "\n",
        "approx_output_8 = np.append(np.min(approx_8.GP.y[0:n_init]),approx_8.GP.y[n_init:(n_init+iters)]) \n",
        "exact_output_8 = np.append(np.min(exact_8.GP.y[0:n_init]),exact_8.GP.y[n_init:(n_init+iters)]) \n",
        "\n",
        "regret_approx_8 = np.log(-approx_output_8 + y_global_orig)\n",
        "regret_exact_8 = np.log(-exact_output_8 + y_global_orig)\n",
        "\n",
        "simple_regret_approx_8 = min_max_array(regret_approx_8)\n",
        "simple_regret_exact_8 = min_max_array(regret_exact_8)\n",
        "\n",
        "min_simple_regret_approx_8 = min(simple_regret_approx_8)\n",
        "min_simple_regret_exact_8 = min(simple_regret_exact_8)\n",
        "\n",
        "min_simple_regret_approx_8, min_simple_regret_exact_8"
      ],
      "execution_count": 62,
      "outputs": [
        {
          "output_type": "execute_result",
          "data": {
            "text/plain": [
              "(2.503069584005259, 1.2770933412661845)"
            ]
          },
          "metadata": {},
          "execution_count": 62
        }
      ]
    },
    {
      "cell_type": "code",
      "metadata": {
        "id": "qt0P5t9qQxfs",
        "colab": {
          "base_uri": "https://localhost:8080/"
        },
        "outputId": "de503be6-8510-42c7-c510-ef3edbefc3cf"
      },
      "source": [
        "### Simple regret minimization: run number = 9\n",
        "\n",
        "approx_output_9 = np.append(np.min(approx_9.GP.y[0:n_init]),approx_9.GP.y[n_init:(n_init+iters)]) \n",
        "exact_output_9 = np.append(np.min(exact_9.GP.y[0:n_init]),exact_9.GP.y[n_init:(n_init+iters)]) \n",
        "\n",
        "regret_approx_9 = np.log(-approx_output_9 + y_global_orig)\n",
        "regret_exact_9 = np.log(-exact_output_9 + y_global_orig)\n",
        "\n",
        "simple_regret_approx_9 = min_max_array(regret_approx_9)\n",
        "simple_regret_exact_9 = min_max_array(regret_exact_9)\n",
        "\n",
        "min_simple_regret_approx_9 = min(simple_regret_approx_9)\n",
        "min_simple_regret_exact_9 = min(simple_regret_exact_9)\n",
        "\n",
        "min_simple_regret_approx_9, min_simple_regret_exact_9"
      ],
      "execution_count": 63,
      "outputs": [
        {
          "output_type": "execute_result",
          "data": {
            "text/plain": [
              "(0.7449764035638389, 1.325395587585609)"
            ]
          },
          "metadata": {},
          "execution_count": 63
        }
      ]
    },
    {
      "cell_type": "code",
      "metadata": {
        "id": "vx8to9stQxft",
        "colab": {
          "base_uri": "https://localhost:8080/"
        },
        "outputId": "f5db33d5-0999-4a1a-f70d-432c5e3b0d69"
      },
      "source": [
        "### Simple regret minimization: run number = 10\n",
        "\n",
        "approx_output_10 = np.append(np.min(approx_10.GP.y[0:n_init]),approx_10.GP.y[n_init:(n_init+iters)]) \n",
        "exact_output_10 = np.append(np.min(exact_10.GP.y[0:n_init]),exact_10.GP.y[n_init:(n_init+iters)]) \n",
        "\n",
        "regret_approx_10 = np.log(-approx_output_10 + y_global_orig)\n",
        "regret_exact_10 = np.log(-exact_output_10 + y_global_orig)\n",
        "\n",
        "simple_regret_approx_10 = min_max_array(regret_approx_10)\n",
        "simple_regret_exact_10 = min_max_array(regret_exact_10)\n",
        "\n",
        "min_simple_regret_approx_10 = min(simple_regret_approx_10)\n",
        "min_simple_regret_exact_10 = min(simple_regret_exact_10)\n",
        "\n",
        "min_simple_regret_approx_10, min_simple_regret_exact_10"
      ],
      "execution_count": 64,
      "outputs": [
        {
          "output_type": "execute_result",
          "data": {
            "text/plain": [
              "(1.526866602142688, 1.526866602142688)"
            ]
          },
          "metadata": {},
          "execution_count": 64
        }
      ]
    },
    {
      "cell_type": "code",
      "metadata": {
        "id": "d-FGzWyHQxfu",
        "colab": {
          "base_uri": "https://localhost:8080/"
        },
        "outputId": "8f80d00e-6e75-4bbe-faaa-88eea140c0d5"
      },
      "source": [
        "### Simple regret minimization: run number = 11\n",
        "\n",
        "approx_output_11 = np.append(np.min(approx_11.GP.y[0:n_init]),approx_11.GP.y[n_init:(n_init+iters)]) \n",
        "exact_output_11 = np.append(np.min(exact_11.GP.y[0:n_init]),exact_11.GP.y[n_init:(n_init+iters)]) \n",
        "\n",
        "regret_approx_11 = np.log(-approx_output_11 + y_global_orig)\n",
        "regret_exact_11 = np.log(-exact_output_11 + y_global_orig)\n",
        "\n",
        "simple_regret_approx_11 = min_max_array(regret_approx_11)\n",
        "simple_regret_exact_11 = min_max_array(regret_exact_11)\n",
        "\n",
        "min_simple_regret_approx_11 = min(simple_regret_approx_11)\n",
        "min_simple_regret_exact_11 = min(simple_regret_exact_11)\n",
        "\n",
        "min_simple_regret_approx_11, min_simple_regret_exact_11"
      ],
      "execution_count": 65,
      "outputs": [
        {
          "output_type": "execute_result",
          "data": {
            "text/plain": [
              "(1.3721766376479023, 2.509325298943892)"
            ]
          },
          "metadata": {},
          "execution_count": 65
        }
      ]
    },
    {
      "cell_type": "code",
      "metadata": {
        "id": "SvtsssyjQxfv",
        "colab": {
          "base_uri": "https://localhost:8080/"
        },
        "outputId": "f69b6378-c0ab-4aa4-e9db-df768024f9c6"
      },
      "source": [
        "### Simple regret minimization: run number = 12\n",
        "\n",
        "approx_output_12 = np.append(np.min(approx_12.GP.y[0:n_init]),approx_12.GP.y[n_init:(n_init+iters)]) \n",
        "exact_output_12 = np.append(np.min(exact_12.GP.y[0:n_init]),exact_12.GP.y[n_init:(n_init+iters)]) \n",
        "\n",
        "regret_approx_12 = np.log(-approx_output_12 + y_global_orig)\n",
        "regret_exact_12 = np.log(-exact_output_12 + y_global_orig)\n",
        "\n",
        "simple_regret_approx_12 = min_max_array(regret_approx_12)\n",
        "simple_regret_exact_12 = min_max_array(regret_exact_12)\n",
        "\n",
        "min_simple_regret_approx_12 = min(simple_regret_approx_12)\n",
        "min_simple_regret_exact_12 = min(simple_regret_exact_12)\n",
        "\n",
        "min_simple_regret_approx_12, min_simple_regret_exact_12"
      ],
      "execution_count": 66,
      "outputs": [
        {
          "output_type": "execute_result",
          "data": {
            "text/plain": [
              "(0.6841978180929263, -0.8893716707680808)"
            ]
          },
          "metadata": {},
          "execution_count": 66
        }
      ]
    },
    {
      "cell_type": "code",
      "metadata": {
        "id": "K6OiGcHkQxfw",
        "colab": {
          "base_uri": "https://localhost:8080/"
        },
        "outputId": "68cf1423-7f5f-40c2-84fa-8a15bb83d64a"
      },
      "source": [
        "### Simple regret minimization: run number = 13\n",
        "\n",
        "approx_output_13 = np.append(np.min(approx_13.GP.y[0:n_init]),approx_13.GP.y[n_init:(n_init+iters)]) \n",
        "exact_output_13 = np.append(np.min(exact_13.GP.y[0:n_init]),exact_13.GP.y[n_init:(n_init+iters)]) \n",
        "\n",
        "regret_approx_13 = np.log(-approx_output_13 + y_global_orig)\n",
        "regret_exact_13 = np.log(-exact_output_13 + y_global_orig)\n",
        "\n",
        "simple_regret_approx_13 = min_max_array(regret_approx_13)\n",
        "simple_regret_exact_13 = min_max_array(regret_exact_13)\n",
        "\n",
        "min_simple_regret_approx_13 = min(simple_regret_approx_13)\n",
        "min_simple_regret_exact_13 = min(simple_regret_exact_13)\n",
        "\n",
        "min_simple_regret_approx_13, min_simple_regret_exact_13"
      ],
      "execution_count": 67,
      "outputs": [
        {
          "output_type": "execute_result",
          "data": {
            "text/plain": [
              "(1.5323336627676378, 1.8536546833164076)"
            ]
          },
          "metadata": {},
          "execution_count": 67
        }
      ]
    },
    {
      "cell_type": "code",
      "metadata": {
        "id": "ogML73shQxfx",
        "colab": {
          "base_uri": "https://localhost:8080/"
        },
        "outputId": "68eacb55-0656-4daa-9a76-d344185b1ba3"
      },
      "source": [
        "### Simple regret minimization: run number = 14\n",
        "\n",
        "approx_output_14 = np.append(np.min(approx_14.GP.y[0:n_init]),approx_14.GP.y[n_init:(n_init+iters)]) \n",
        "exact_output_14 = np.append(np.min(exact_14.GP.y[0:n_init]),exact_14.GP.y[n_init:(n_init+iters)]) \n",
        "\n",
        "regret_approx_14 = np.log(-approx_output_14 + y_global_orig)\n",
        "regret_exact_14 = np.log(-exact_output_14 + y_global_orig)\n",
        "\n",
        "simple_regret_approx_14 = min_max_array(regret_approx_14)\n",
        "simple_regret_exact_14 = min_max_array(regret_exact_14)\n",
        "\n",
        "min_simple_regret_approx_14 = min(simple_regret_approx_14)\n",
        "min_simple_regret_exact_14 = min(simple_regret_exact_14)\n",
        "\n",
        "min_simple_regret_approx_14, min_simple_regret_exact_14"
      ],
      "execution_count": 68,
      "outputs": [
        {
          "output_type": "execute_result",
          "data": {
            "text/plain": [
              "(-0.5412624719402435, 1.7014554777758226)"
            ]
          },
          "metadata": {},
          "execution_count": 68
        }
      ]
    },
    {
      "cell_type": "code",
      "metadata": {
        "id": "9Eg7gFT9Qxfx",
        "colab": {
          "base_uri": "https://localhost:8080/"
        },
        "outputId": "89191685-fd31-4f84-a06a-4b3b07d2242b"
      },
      "source": [
        "### Simple regret minimization: run number = 15\n",
        "\n",
        "approx_output_15 = np.append(np.min(approx_15.GP.y[0:n_init]),approx_15.GP.y[n_init:(n_init+iters)]) \n",
        "exact_output_15 = np.append(np.min(exact_15.GP.y[0:n_init]),exact_15.GP.y[n_init:(n_init+iters)]) \n",
        "\n",
        "regret_approx_15 = np.log(-approx_output_15 + y_global_orig)\n",
        "regret_exact_15 = np.log(-exact_output_15 + y_global_orig)\n",
        "\n",
        "simple_regret_approx_15 = min_max_array(regret_approx_15)\n",
        "simple_regret_exact_15 = min_max_array(regret_exact_15)\n",
        "\n",
        "min_simple_regret_approx_15 = min(simple_regret_approx_15)\n",
        "min_simple_regret_exact_15 = min(simple_regret_exact_15)\n",
        "\n",
        "min_simple_regret_approx_15, min_simple_regret_exact_15"
      ],
      "execution_count": 69,
      "outputs": [
        {
          "output_type": "execute_result",
          "data": {
            "text/plain": [
              "(0.33521299578730046, -0.06726060103423116)"
            ]
          },
          "metadata": {},
          "execution_count": 69
        }
      ]
    },
    {
      "cell_type": "code",
      "metadata": {
        "id": "lIAC1U7ZQxfy",
        "colab": {
          "base_uri": "https://localhost:8080/"
        },
        "outputId": "0e6dd17a-1b7a-4163-e681-caf95508a401"
      },
      "source": [
        "### Simple regret minimization: run number = 16\n",
        "\n",
        "approx_output_16 = np.append(np.min(approx_16.GP.y[0:n_init]),approx_16.GP.y[n_init:(n_init+iters)]) \n",
        "exact_output_16 = np.append(np.min(exact_16.GP.y[0:n_init]),exact_16.GP.y[n_init:(n_init+iters)]) \n",
        "\n",
        "regret_approx_16 = np.log(-approx_output_16 + y_global_orig)\n",
        "regret_exact_16 = np.log(-exact_output_16 + y_global_orig)\n",
        "\n",
        "simple_regret_approx_16 = min_max_array(regret_approx_16)\n",
        "simple_regret_exact_16 = min_max_array(regret_exact_16)\n",
        "\n",
        "min_simple_regret_approx_16 = min(simple_regret_approx_16)\n",
        "min_simple_regret_exact_16 = min(simple_regret_exact_16)\n",
        "\n",
        "min_simple_regret_approx_16, min_simple_regret_exact_16"
      ],
      "execution_count": 70,
      "outputs": [
        {
          "output_type": "execute_result",
          "data": {
            "text/plain": [
              "(1.3870802307053038, 0.7235565498862526)"
            ]
          },
          "metadata": {},
          "execution_count": 70
        }
      ]
    },
    {
      "cell_type": "code",
      "metadata": {
        "id": "bGott36OQxfz",
        "colab": {
          "base_uri": "https://localhost:8080/"
        },
        "outputId": "daa2db6a-2fe4-4e01-9817-12c03f4dbd15"
      },
      "source": [
        "### Simple regret minimization: run number = 17\n",
        "\n",
        "approx_output_17 = np.append(np.min(approx_17.GP.y[0:n_init]),approx_17.GP.y[n_init:(n_init+iters)]) \n",
        "exact_output_17 = np.append(np.min(exact_17.GP.y[0:n_init]),exact_17.GP.y[n_init:(n_init+iters)]) \n",
        "\n",
        "regret_approx_17 = np.log(-approx_output_17 + y_global_orig)\n",
        "regret_exact_17 = np.log(-exact_output_17 + y_global_orig)\n",
        "\n",
        "simple_regret_approx_17 = min_max_array(regret_approx_17)\n",
        "simple_regret_exact_17 = min_max_array(regret_exact_17)\n",
        "\n",
        "min_simple_regret_approx_17 = min(simple_regret_approx_17)\n",
        "min_simple_regret_exact_17 = min(simple_regret_exact_17)\n",
        "\n",
        "min_simple_regret_approx_17, min_simple_regret_exact_17"
      ],
      "execution_count": 71,
      "outputs": [
        {
          "output_type": "execute_result",
          "data": {
            "text/plain": [
              "(0.3079527291639586, 0.031147662627129886)"
            ]
          },
          "metadata": {},
          "execution_count": 71
        }
      ]
    },
    {
      "cell_type": "code",
      "metadata": {
        "id": "Cz9ZYMBMQxfz",
        "colab": {
          "base_uri": "https://localhost:8080/"
        },
        "outputId": "2778dbae-f9f1-4b0f-dc49-aeffee2fac6a"
      },
      "source": [
        "### Simple regret minimization: run number = 18\n",
        "\n",
        "approx_output_18 = np.append(np.min(approx_18.GP.y[0:n_init]),approx_18.GP.y[n_init:(n_init+iters)]) \n",
        "exact_output_18 = np.append(np.min(exact_18.GP.y[0:n_init]),exact_18.GP.y[n_init:(n_init+iters)]) \n",
        "\n",
        "regret_approx_18 = np.log(-approx_output_18 + y_global_orig)\n",
        "regret_exact_18 = np.log(-exact_output_18 + y_global_orig)\n",
        "\n",
        "simple_regret_approx_18 = min_max_array(regret_approx_18)\n",
        "simple_regret_exact_18 = min_max_array(regret_exact_18)\n",
        "\n",
        "min_simple_regret_approx_18 = min(simple_regret_approx_18)\n",
        "min_simple_regret_exact_18 = min(simple_regret_exact_18)\n",
        "\n",
        "min_simple_regret_approx_18, min_simple_regret_exact_18"
      ],
      "execution_count": 72,
      "outputs": [
        {
          "output_type": "execute_result",
          "data": {
            "text/plain": [
              "(1.4814308953347093, 2.110466180834742)"
            ]
          },
          "metadata": {},
          "execution_count": 72
        }
      ]
    },
    {
      "cell_type": "code",
      "metadata": {
        "id": "OBfpWOHNQxf0",
        "colab": {
          "base_uri": "https://localhost:8080/"
        },
        "outputId": "1e3ce96b-728b-4b82-f311-0f4d4143fb70"
      },
      "source": [
        "### Simple regret minimization: run number = 19\n",
        "\n",
        "approx_output_19 = np.append(np.min(approx_19.GP.y[0:n_init]),approx_19.GP.y[n_init:(n_init+iters)]) \n",
        "exact_output_19 = np.append(np.min(exact_19.GP.y[0:n_init]),exact_19.GP.y[n_init:(n_init+iters)]) \n",
        "\n",
        "regret_approx_19 = np.log(-approx_output_19 + y_global_orig)\n",
        "regret_exact_19 = np.log(-exact_output_19 + y_global_orig)\n",
        "\n",
        "simple_regret_approx_19 = min_max_array(regret_approx_19)\n",
        "simple_regret_exact_19 = min_max_array(regret_exact_19)\n",
        "\n",
        "min_simple_regret_approx_19 = min(simple_regret_approx_19)\n",
        "min_simple_regret_exact_19 = min(simple_regret_exact_19)\n",
        "\n",
        "min_simple_regret_approx_19, min_simple_regret_exact_19"
      ],
      "execution_count": 73,
      "outputs": [
        {
          "output_type": "execute_result",
          "data": {
            "text/plain": [
              "(2.3727567528912306, 0.03453724708720758)"
            ]
          },
          "metadata": {},
          "execution_count": 73
        }
      ]
    },
    {
      "cell_type": "code",
      "metadata": {
        "id": "BE1AJ7NsQxf0",
        "colab": {
          "base_uri": "https://localhost:8080/"
        },
        "outputId": "27b04a06-0291-42ac-df70-6f165e67b847"
      },
      "source": [
        "### Simple regret minimization: run number = 20\n",
        "\n",
        "approx_output_20 = np.append(np.min(approx_20.GP.y[0:n_init]),approx_20.GP.y[n_init:(n_init+iters)]) \n",
        "exact_output_20 = np.append(np.min(exact_20.GP.y[0:n_init]),exact_20.GP.y[n_init:(n_init+iters)]) \n",
        "\n",
        "regret_approx_20 = np.log(-approx_output_20 + y_global_orig)\n",
        "regret_exact_20 = np.log(-exact_output_20 + y_global_orig)\n",
        "\n",
        "simple_regret_approx_20 = min_max_array(regret_approx_20)\n",
        "simple_regret_exact_20 = min_max_array(regret_exact_20)\n",
        "\n",
        "min_simple_regret_approx_20 = min(simple_regret_approx_20)\n",
        "min_simple_regret_exact_20 = min(simple_regret_exact_20)\n",
        "\n",
        "min_simple_regret_approx_20, min_simple_regret_exact_20"
      ],
      "execution_count": 74,
      "outputs": [
        {
          "output_type": "execute_result",
          "data": {
            "text/plain": [
              "(2.2898089763002107, 2.041458874600035)"
            ]
          },
          "metadata": {},
          "execution_count": 74
        }
      ]
    },
    {
      "cell_type": "code",
      "metadata": {
        "id": "bpX-bKAHQxf1"
      },
      "source": [
        "# Iteration1 :\n",
        "\n",
        "slice1 = 0\n",
        "\n",
        "approx1 = [simple_regret_approx_1[slice1],\n",
        "       simple_regret_approx_2[slice1],\n",
        "       simple_regret_approx_3[slice1],\n",
        "       simple_regret_approx_4[slice1],\n",
        "       simple_regret_approx_5[slice1],\n",
        "       simple_regret_approx_6[slice1],\n",
        "       simple_regret_approx_7[slice1],\n",
        "       simple_regret_approx_8[slice1],\n",
        "       simple_regret_approx_9[slice1],\n",
        "       simple_regret_approx_10[slice1],\n",
        "       simple_regret_approx_11[slice1],\n",
        "       simple_regret_approx_12[slice1],\n",
        "       simple_regret_approx_13[slice1],\n",
        "       simple_regret_approx_14[slice1],\n",
        "       simple_regret_approx_15[slice1],\n",
        "       simple_regret_approx_16[slice1],\n",
        "       simple_regret_approx_17[slice1],\n",
        "       simple_regret_approx_18[slice1],\n",
        "       simple_regret_approx_19[slice1],\n",
        "       simple_regret_approx_20[slice1]]\n",
        "\n",
        "exact1 = [simple_regret_exact_1[slice1],\n",
        "       simple_regret_exact_2[slice1],\n",
        "       simple_regret_exact_3[slice1],\n",
        "       simple_regret_exact_4[slice1],\n",
        "       simple_regret_exact_5[slice1],\n",
        "       simple_regret_exact_6[slice1],\n",
        "       simple_regret_exact_7[slice1],\n",
        "       simple_regret_exact_8[slice1],\n",
        "       simple_regret_exact_9[slice1],\n",
        "       simple_regret_exact_10[slice1],\n",
        "       simple_regret_exact_11[slice1],\n",
        "       simple_regret_exact_12[slice1],\n",
        "       simple_regret_exact_13[slice1],\n",
        "       simple_regret_exact_14[slice1],\n",
        "       simple_regret_exact_15[slice1],\n",
        "       simple_regret_exact_16[slice1],\n",
        "       simple_regret_exact_17[slice1],\n",
        "       simple_regret_exact_18[slice1],\n",
        "       simple_regret_exact_19[slice1],\n",
        "       simple_regret_exact_20[slice1]]\n",
        "\n",
        "approx1_results = pd.DataFrame(approx1).sort_values(by=[0], ascending=False)\n",
        "exact1_results = pd.DataFrame(exact1).sort_values(by=[0], ascending=False)\n",
        "\n",
        "### Best simple regret minimization IQR - approx:\n",
        "lower_approx1 = np.asarray(approx1_results[4:5][0])[0]\n",
        "median_approx1 = np.asarray(approx1_results[9:10][0])[0]\n",
        "upper_approx1 = np.asarray(approx1_results[14:15][0])[0]\n",
        "\n",
        "lower_exact1 = np.asarray(exact1_results[4:5][0])[0]\n",
        "median_exact1 = np.asarray(exact1_results[9:10][0])[0]\n",
        "upper_exact1 = np.asarray(exact1_results[14:15][0])[0]"
      ],
      "execution_count": 75,
      "outputs": []
    },
    {
      "cell_type": "code",
      "metadata": {
        "id": "CgIkJA1xQxf2"
      },
      "source": [
        "# Iteration11 :\n",
        "\n",
        "slice11 = 10\n",
        "\n",
        "approx11 = [simple_regret_approx_1[slice11],\n",
        "       simple_regret_approx_2[slice11],\n",
        "       simple_regret_approx_3[slice11],\n",
        "       simple_regret_approx_4[slice11],\n",
        "       simple_regret_approx_5[slice11],\n",
        "       simple_regret_approx_6[slice11],\n",
        "       simple_regret_approx_7[slice11],\n",
        "       simple_regret_approx_8[slice11],\n",
        "       simple_regret_approx_9[slice11],\n",
        "       simple_regret_approx_10[slice11],\n",
        "       simple_regret_approx_11[slice11],\n",
        "       simple_regret_approx_12[slice11],\n",
        "       simple_regret_approx_13[slice11],\n",
        "       simple_regret_approx_14[slice11],\n",
        "       simple_regret_approx_15[slice11],\n",
        "       simple_regret_approx_16[slice11],\n",
        "       simple_regret_approx_17[slice11],\n",
        "       simple_regret_approx_18[slice11],\n",
        "       simple_regret_approx_19[slice11],\n",
        "       simple_regret_approx_20[slice11]]\n",
        "\n",
        "exact11 = [simple_regret_exact_1[slice11],\n",
        "       simple_regret_exact_2[slice11],\n",
        "       simple_regret_exact_3[slice11],\n",
        "       simple_regret_exact_4[slice11],\n",
        "       simple_regret_exact_5[slice11],\n",
        "       simple_regret_exact_6[slice11],\n",
        "       simple_regret_exact_7[slice11],\n",
        "       simple_regret_exact_8[slice11],\n",
        "       simple_regret_exact_9[slice11],\n",
        "       simple_regret_exact_10[slice11],\n",
        "       simple_regret_exact_11[slice11],\n",
        "       simple_regret_exact_12[slice11],\n",
        "       simple_regret_exact_13[slice11],\n",
        "       simple_regret_exact_14[slice11],\n",
        "       simple_regret_exact_15[slice11],\n",
        "       simple_regret_exact_16[slice11],\n",
        "       simple_regret_exact_17[slice11],\n",
        "       simple_regret_exact_18[slice11],\n",
        "       simple_regret_exact_19[slice11],\n",
        "       simple_regret_exact_20[slice11]]\n",
        "\n",
        "approx11_results = pd.DataFrame(approx11).sort_values(by=[0], ascending=False)\n",
        "exact11_results = pd.DataFrame(exact11).sort_values(by=[0], ascending=False)\n",
        "\n",
        "### Best simple regret minimization IQR - approx:\n",
        "lower_approx11 = np.asarray(approx11_results[4:5][0])[0]\n",
        "median_approx11 = np.asarray(approx11_results[9:10][0])[0]\n",
        "upper_approx11 = np.asarray(approx11_results[14:15][0])[0]\n",
        "\n",
        "lower_exact11 = np.asarray(exact11_results[4:5][0])[0]\n",
        "median_exact11 = np.asarray(exact11_results[9:10][0])[0]\n",
        "upper_exact11 = np.asarray(exact11_results[14:15][0])[0]"
      ],
      "execution_count": 76,
      "outputs": []
    },
    {
      "cell_type": "code",
      "metadata": {
        "id": "MFePDfGuQxf2"
      },
      "source": [
        "# Iteration21 :\n",
        "\n",
        "slice21 = 20\n",
        "\n",
        "approx21 = [simple_regret_approx_1[slice21],\n",
        "       simple_regret_approx_2[slice21],\n",
        "       simple_regret_approx_3[slice21],\n",
        "       simple_regret_approx_4[slice21],\n",
        "       simple_regret_approx_5[slice21],\n",
        "       simple_regret_approx_6[slice21],\n",
        "       simple_regret_approx_7[slice21],\n",
        "       simple_regret_approx_8[slice21],\n",
        "       simple_regret_approx_9[slice21],\n",
        "       simple_regret_approx_10[slice21],\n",
        "       simple_regret_approx_11[slice21],\n",
        "       simple_regret_approx_12[slice21],\n",
        "       simple_regret_approx_13[slice21],\n",
        "       simple_regret_approx_14[slice21],\n",
        "       simple_regret_approx_15[slice21],\n",
        "       simple_regret_approx_16[slice21],\n",
        "       simple_regret_approx_17[slice21],\n",
        "       simple_regret_approx_18[slice21],\n",
        "       simple_regret_approx_19[slice21],\n",
        "       simple_regret_approx_20[slice21]]\n",
        "\n",
        "exact21 = [simple_regret_exact_1[slice21],\n",
        "       simple_regret_exact_2[slice21],\n",
        "       simple_regret_exact_3[slice21],\n",
        "       simple_regret_exact_4[slice21],\n",
        "       simple_regret_exact_5[slice21],\n",
        "       simple_regret_exact_6[slice21],\n",
        "       simple_regret_exact_7[slice21],\n",
        "       simple_regret_exact_8[slice21],\n",
        "       simple_regret_exact_9[slice21],\n",
        "       simple_regret_exact_10[slice21],\n",
        "       simple_regret_exact_11[slice21],\n",
        "       simple_regret_exact_12[slice21],\n",
        "       simple_regret_exact_13[slice21],\n",
        "       simple_regret_exact_14[slice21],\n",
        "       simple_regret_exact_15[slice21],\n",
        "       simple_regret_exact_16[slice21],\n",
        "       simple_regret_exact_17[slice21],\n",
        "       simple_regret_exact_18[slice21],\n",
        "       simple_regret_exact_19[slice21],\n",
        "       simple_regret_exact_20[slice21]]\n",
        "\n",
        "approx21_results = pd.DataFrame(approx21).sort_values(by=[0], ascending=False)\n",
        "exact21_results = pd.DataFrame(exact21).sort_values(by=[0], ascending=False)\n",
        "\n",
        "### Best simple regret minimization IQR - approx:\n",
        "lower_approx21 = np.asarray(approx21_results[4:5][0])[0]\n",
        "median_approx21 = np.asarray(approx21_results[9:10][0])[0]\n",
        "upper_approx21 = np.asarray(approx21_results[14:15][0])[0]\n",
        "\n",
        "lower_exact21 = np.asarray(exact21_results[4:5][0])[0]\n",
        "median_exact21 = np.asarray(exact21_results[9:10][0])[0]\n",
        "upper_exact21 = np.asarray(exact21_results[14:15][0])[0]"
      ],
      "execution_count": 77,
      "outputs": []
    },
    {
      "cell_type": "code",
      "metadata": {
        "id": "PrRDB1kfQxf3"
      },
      "source": [
        "# Iteration2 :\n",
        "\n",
        "slice2 = 1\n",
        "\n",
        "approx2 = [simple_regret_approx_1[slice2],\n",
        "       simple_regret_approx_2[slice2],\n",
        "       simple_regret_approx_3[slice2],\n",
        "       simple_regret_approx_4[slice2],\n",
        "       simple_regret_approx_5[slice2],\n",
        "       simple_regret_approx_6[slice2],\n",
        "       simple_regret_approx_7[slice2],\n",
        "       simple_regret_approx_8[slice2],\n",
        "       simple_regret_approx_9[slice2],\n",
        "       simple_regret_approx_10[slice2],\n",
        "       simple_regret_approx_11[slice2],\n",
        "       simple_regret_approx_12[slice2],\n",
        "       simple_regret_approx_13[slice2],\n",
        "       simple_regret_approx_14[slice2],\n",
        "       simple_regret_approx_15[slice2],\n",
        "       simple_regret_approx_16[slice2],\n",
        "       simple_regret_approx_17[slice2],\n",
        "       simple_regret_approx_18[slice2],\n",
        "       simple_regret_approx_19[slice2],\n",
        "       simple_regret_approx_20[slice2]]\n",
        "\n",
        "exact2 = [simple_regret_exact_1[slice2],\n",
        "       simple_regret_exact_2[slice2],\n",
        "       simple_regret_exact_3[slice2],\n",
        "       simple_regret_exact_4[slice2],\n",
        "       simple_regret_exact_5[slice2],\n",
        "       simple_regret_exact_6[slice2],\n",
        "       simple_regret_exact_7[slice2],\n",
        "       simple_regret_exact_8[slice2],\n",
        "       simple_regret_exact_9[slice2],\n",
        "       simple_regret_exact_10[slice2],\n",
        "       simple_regret_exact_11[slice2],\n",
        "       simple_regret_exact_12[slice2],\n",
        "       simple_regret_exact_13[slice2],\n",
        "       simple_regret_exact_14[slice2],\n",
        "       simple_regret_exact_15[slice2],\n",
        "       simple_regret_exact_16[slice2],\n",
        "       simple_regret_exact_17[slice2],\n",
        "       simple_regret_exact_18[slice2],\n",
        "       simple_regret_exact_19[slice2],\n",
        "       simple_regret_exact_20[slice2]]\n",
        "\n",
        "approx2_results = pd.DataFrame(approx2).sort_values(by=[0], ascending=False)\n",
        "exact2_results = pd.DataFrame(exact2).sort_values(by=[0], ascending=False)\n",
        "\n",
        "### Best simple regret minimization IQR - approx:\n",
        "lower_approx2 = np.asarray(approx2_results[4:5][0])[0]\n",
        "median_approx2 = np.asarray(approx2_results[9:10][0])[0]\n",
        "upper_approx2 = np.asarray(approx2_results[14:15][0])[0]\n",
        "\n",
        "lower_exact2 = np.asarray(exact2_results[4:5][0])[0]\n",
        "median_exact2 = np.asarray(exact2_results[9:10][0])[0]\n",
        "upper_exact2 = np.asarray(exact2_results[14:15][0])[0]"
      ],
      "execution_count": 78,
      "outputs": []
    },
    {
      "cell_type": "code",
      "metadata": {
        "id": "B8ncJDYeQxf3"
      },
      "source": [
        "# Iteration12 :\n",
        "\n",
        "slice12 = 11\n",
        "\n",
        "approx12 = [simple_regret_approx_1[slice12],\n",
        "       simple_regret_approx_2[slice12],\n",
        "       simple_regret_approx_3[slice12],\n",
        "       simple_regret_approx_4[slice12],\n",
        "       simple_regret_approx_5[slice12],\n",
        "       simple_regret_approx_6[slice12],\n",
        "       simple_regret_approx_7[slice12],\n",
        "       simple_regret_approx_8[slice12],\n",
        "       simple_regret_approx_9[slice12],\n",
        "       simple_regret_approx_10[slice12],\n",
        "       simple_regret_approx_11[slice12],\n",
        "       simple_regret_approx_12[slice12],\n",
        "       simple_regret_approx_13[slice12],\n",
        "       simple_regret_approx_14[slice12],\n",
        "       simple_regret_approx_15[slice12],\n",
        "       simple_regret_approx_16[slice12],\n",
        "       simple_regret_approx_17[slice12],\n",
        "       simple_regret_approx_18[slice12],\n",
        "       simple_regret_approx_19[slice12],\n",
        "       simple_regret_approx_20[slice12]]\n",
        "\n",
        "exact12 = [simple_regret_exact_1[slice12],\n",
        "       simple_regret_exact_2[slice12],\n",
        "       simple_regret_exact_3[slice12],\n",
        "       simple_regret_exact_4[slice12],\n",
        "       simple_regret_exact_5[slice12],\n",
        "       simple_regret_exact_6[slice12],\n",
        "       simple_regret_exact_7[slice12],\n",
        "       simple_regret_exact_8[slice12],\n",
        "       simple_regret_exact_9[slice12],\n",
        "       simple_regret_exact_10[slice12],\n",
        "       simple_regret_exact_11[slice12],\n",
        "       simple_regret_exact_12[slice12],\n",
        "       simple_regret_exact_13[slice12],\n",
        "       simple_regret_exact_14[slice12],\n",
        "       simple_regret_exact_15[slice12],\n",
        "       simple_regret_exact_16[slice12],\n",
        "       simple_regret_exact_17[slice12],\n",
        "       simple_regret_exact_18[slice12],\n",
        "       simple_regret_exact_19[slice12],\n",
        "       simple_regret_exact_20[slice12]]\n",
        "\n",
        "approx12_results = pd.DataFrame(approx12).sort_values(by=[0], ascending=False)\n",
        "exact12_results = pd.DataFrame(exact12).sort_values(by=[0], ascending=False)\n",
        "\n",
        "### Best simple regret minimization IQR - approx:\n",
        "lower_approx12 = np.asarray(approx12_results[4:5][0])[0]\n",
        "median_approx12 = np.asarray(approx12_results[9:10][0])[0]\n",
        "upper_approx12 = np.asarray(approx12_results[14:15][0])[0]\n",
        "\n",
        "lower_exact12 = np.asarray(exact12_results[4:5][0])[0]\n",
        "median_exact12 = np.asarray(exact12_results[9:10][0])[0]\n",
        "upper_exact12 = np.asarray(exact12_results[14:15][0])[0]"
      ],
      "execution_count": 79,
      "outputs": []
    },
    {
      "cell_type": "code",
      "metadata": {
        "id": "Jn4KpGvcQxf4"
      },
      "source": [
        "# Iteration3 :\n",
        "\n",
        "slice3 = 2\n",
        "\n",
        "approx3 = [simple_regret_approx_1[slice3],\n",
        "       simple_regret_approx_2[slice3],\n",
        "       simple_regret_approx_3[slice3],\n",
        "       simple_regret_approx_4[slice3],\n",
        "       simple_regret_approx_5[slice3],\n",
        "       simple_regret_approx_6[slice3],\n",
        "       simple_regret_approx_7[slice3],\n",
        "       simple_regret_approx_8[slice3],\n",
        "       simple_regret_approx_9[slice3],\n",
        "       simple_regret_approx_10[slice3],\n",
        "       simple_regret_approx_11[slice3],\n",
        "       simple_regret_approx_12[slice3],\n",
        "       simple_regret_approx_13[slice3],\n",
        "       simple_regret_approx_14[slice3],\n",
        "       simple_regret_approx_15[slice3],\n",
        "       simple_regret_approx_16[slice3],\n",
        "       simple_regret_approx_17[slice3],\n",
        "       simple_regret_approx_18[slice3],\n",
        "       simple_regret_approx_19[slice3],\n",
        "       simple_regret_approx_20[slice3]]\n",
        "\n",
        "exact3 = [simple_regret_exact_1[slice3],\n",
        "       simple_regret_exact_2[slice3],\n",
        "       simple_regret_exact_3[slice3],\n",
        "       simple_regret_exact_4[slice3],\n",
        "       simple_regret_exact_5[slice3],\n",
        "       simple_regret_exact_6[slice3],\n",
        "       simple_regret_exact_7[slice3],\n",
        "       simple_regret_exact_8[slice3],\n",
        "       simple_regret_exact_9[slice3],\n",
        "       simple_regret_exact_10[slice3],\n",
        "       simple_regret_exact_11[slice3],\n",
        "       simple_regret_exact_12[slice3],\n",
        "       simple_regret_exact_13[slice3],\n",
        "       simple_regret_exact_14[slice3],\n",
        "       simple_regret_exact_15[slice3],\n",
        "       simple_regret_exact_16[slice3],\n",
        "       simple_regret_exact_17[slice3],\n",
        "       simple_regret_exact_18[slice3],\n",
        "       simple_regret_exact_19[slice3],\n",
        "       simple_regret_exact_20[slice3]]\n",
        "\n",
        "approx3_results = pd.DataFrame(approx3).sort_values(by=[0], ascending=False)\n",
        "exact3_results = pd.DataFrame(exact3).sort_values(by=[0], ascending=False)\n",
        "\n",
        "### Best simple regret minimization IQR - approx:\n",
        "lower_approx3 = np.asarray(approx3_results[4:5][0])[0]\n",
        "median_approx3 = np.asarray(approx3_results[9:10][0])[0]\n",
        "upper_approx3 = np.asarray(approx3_results[14:15][0])[0]\n",
        "\n",
        "lower_exact3 = np.asarray(exact3_results[4:5][0])[0]\n",
        "median_exact3 = np.asarray(exact3_results[9:10][0])[0]\n",
        "upper_exact3 = np.asarray(exact3_results[14:15][0])[0]"
      ],
      "execution_count": 80,
      "outputs": []
    },
    {
      "cell_type": "code",
      "metadata": {
        "id": "plf83wxrQxf4"
      },
      "source": [
        "# Iteration13 :\n",
        "\n",
        "slice13 = 12\n",
        "\n",
        "approx13 = [simple_regret_approx_1[slice13],\n",
        "       simple_regret_approx_2[slice13],\n",
        "       simple_regret_approx_3[slice13],\n",
        "       simple_regret_approx_4[slice13],\n",
        "       simple_regret_approx_5[slice13],\n",
        "       simple_regret_approx_6[slice13],\n",
        "       simple_regret_approx_7[slice13],\n",
        "       simple_regret_approx_8[slice13],\n",
        "       simple_regret_approx_9[slice13],\n",
        "       simple_regret_approx_10[slice13],\n",
        "       simple_regret_approx_11[slice13],\n",
        "       simple_regret_approx_12[slice13],\n",
        "       simple_regret_approx_13[slice13],\n",
        "       simple_regret_approx_14[slice13],\n",
        "       simple_regret_approx_15[slice13],\n",
        "       simple_regret_approx_16[slice13],\n",
        "       simple_regret_approx_17[slice13],\n",
        "       simple_regret_approx_18[slice13],\n",
        "       simple_regret_approx_19[slice13],\n",
        "       simple_regret_approx_20[slice13]]\n",
        "\n",
        "exact13 = [simple_regret_exact_1[slice13],\n",
        "       simple_regret_exact_2[slice13],\n",
        "       simple_regret_exact_3[slice13],\n",
        "       simple_regret_exact_4[slice13],\n",
        "       simple_regret_exact_5[slice13],\n",
        "       simple_regret_exact_6[slice13],\n",
        "       simple_regret_exact_7[slice13],\n",
        "       simple_regret_exact_8[slice13],\n",
        "       simple_regret_exact_9[slice13],\n",
        "       simple_regret_exact_10[slice13],\n",
        "       simple_regret_exact_11[slice13],\n",
        "       simple_regret_exact_12[slice13],\n",
        "       simple_regret_exact_13[slice13],\n",
        "       simple_regret_exact_14[slice13],\n",
        "       simple_regret_exact_15[slice13],\n",
        "       simple_regret_exact_16[slice13],\n",
        "       simple_regret_exact_17[slice13],\n",
        "       simple_regret_exact_18[slice13],\n",
        "       simple_regret_exact_19[slice13],\n",
        "       simple_regret_exact_20[slice13]]\n",
        "\n",
        "approx13_results = pd.DataFrame(approx13).sort_values(by=[0], ascending=False)\n",
        "exact13_results = pd.DataFrame(exact13).sort_values(by=[0], ascending=False)\n",
        "\n",
        "### Best simple regret minimization IQR - approx:\n",
        "lower_approx13 = np.asarray(approx13_results[4:5][0])[0]\n",
        "median_approx13 = np.asarray(approx13_results[9:10][0])[0]\n",
        "upper_approx13 = np.asarray(approx13_results[14:15][0])[0]\n",
        "\n",
        "lower_exact13 = np.asarray(exact13_results[4:5][0])[0]\n",
        "median_exact13 = np.asarray(exact13_results[9:10][0])[0]\n",
        "upper_exact13 = np.asarray(exact13_results[14:15][0])[0]"
      ],
      "execution_count": 81,
      "outputs": []
    },
    {
      "cell_type": "code",
      "metadata": {
        "id": "9A7mlVvJQxf5"
      },
      "source": [
        "# Iteration4 :\n",
        "\n",
        "slice4 = 3\n",
        "\n",
        "approx4 = [simple_regret_approx_1[slice4],\n",
        "       simple_regret_approx_2[slice4],\n",
        "       simple_regret_approx_3[slice4],\n",
        "       simple_regret_approx_4[slice4],\n",
        "       simple_regret_approx_5[slice4],\n",
        "       simple_regret_approx_6[slice4],\n",
        "       simple_regret_approx_7[slice4],\n",
        "       simple_regret_approx_8[slice4],\n",
        "       simple_regret_approx_9[slice4],\n",
        "       simple_regret_approx_10[slice4],\n",
        "       simple_regret_approx_11[slice4],\n",
        "       simple_regret_approx_12[slice4],\n",
        "       simple_regret_approx_13[slice4],\n",
        "       simple_regret_approx_14[slice4],\n",
        "       simple_regret_approx_15[slice4],\n",
        "       simple_regret_approx_16[slice4],\n",
        "       simple_regret_approx_17[slice4],\n",
        "       simple_regret_approx_18[slice4],\n",
        "       simple_regret_approx_19[slice4],\n",
        "       simple_regret_approx_20[slice4]]\n",
        "\n",
        "exact4 = [simple_regret_exact_1[slice4],\n",
        "       simple_regret_exact_2[slice4],\n",
        "       simple_regret_exact_3[slice4],\n",
        "       simple_regret_exact_4[slice4],\n",
        "       simple_regret_exact_5[slice4],\n",
        "       simple_regret_exact_6[slice4],\n",
        "       simple_regret_exact_7[slice4],\n",
        "       simple_regret_exact_8[slice4],\n",
        "       simple_regret_exact_9[slice4],\n",
        "       simple_regret_exact_10[slice4],\n",
        "       simple_regret_exact_11[slice4],\n",
        "       simple_regret_exact_12[slice4],\n",
        "       simple_regret_exact_13[slice4],\n",
        "       simple_regret_exact_14[slice4],\n",
        "       simple_regret_exact_15[slice4],\n",
        "       simple_regret_exact_16[slice4],\n",
        "       simple_regret_exact_17[slice4],\n",
        "       simple_regret_exact_18[slice4],\n",
        "       simple_regret_exact_19[slice4],\n",
        "       simple_regret_exact_20[slice4]]\n",
        "\n",
        "approx4_results = pd.DataFrame(approx4).sort_values(by=[0], ascending=False)\n",
        "exact4_results = pd.DataFrame(exact4).sort_values(by=[0], ascending=False)\n",
        "\n",
        "### Best simple regret minimization IQR - approx:\n",
        "lower_approx4 = np.asarray(approx4_results[4:5][0])[0]\n",
        "median_approx4 = np.asarray(approx4_results[9:10][0])[0]\n",
        "upper_approx4 = np.asarray(approx4_results[14:15][0])[0]\n",
        "\n",
        "lower_exact4 = np.asarray(exact4_results[4:5][0])[0]\n",
        "median_exact4 = np.asarray(exact4_results[9:10][0])[0]\n",
        "upper_exact4 = np.asarray(exact4_results[14:15][0])[0]"
      ],
      "execution_count": 82,
      "outputs": []
    },
    {
      "cell_type": "code",
      "metadata": {
        "id": "ijq-rioYQxf5"
      },
      "source": [
        "# Iteration14 :\n",
        "\n",
        "slice14 = 13\n",
        "\n",
        "approx14 = [simple_regret_approx_1[slice14],\n",
        "       simple_regret_approx_2[slice14],\n",
        "       simple_regret_approx_3[slice14],\n",
        "       simple_regret_approx_4[slice14],\n",
        "       simple_regret_approx_5[slice14],\n",
        "       simple_regret_approx_6[slice14],\n",
        "       simple_regret_approx_7[slice14],\n",
        "       simple_regret_approx_8[slice14],\n",
        "       simple_regret_approx_9[slice14],\n",
        "       simple_regret_approx_10[slice14],\n",
        "       simple_regret_approx_11[slice14],\n",
        "       simple_regret_approx_12[slice14],\n",
        "       simple_regret_approx_13[slice14],\n",
        "       simple_regret_approx_14[slice14],\n",
        "       simple_regret_approx_15[slice14],\n",
        "       simple_regret_approx_16[slice14],\n",
        "       simple_regret_approx_17[slice14],\n",
        "       simple_regret_approx_18[slice14],\n",
        "       simple_regret_approx_19[slice14],\n",
        "       simple_regret_approx_20[slice14]]\n",
        "\n",
        "exact14 = [simple_regret_exact_1[slice14],\n",
        "       simple_regret_exact_2[slice14],\n",
        "       simple_regret_exact_3[slice14],\n",
        "       simple_regret_exact_4[slice14],\n",
        "       simple_regret_exact_5[slice14],\n",
        "       simple_regret_exact_6[slice14],\n",
        "       simple_regret_exact_7[slice14],\n",
        "       simple_regret_exact_8[slice14],\n",
        "       simple_regret_exact_9[slice14],\n",
        "       simple_regret_exact_10[slice14],\n",
        "       simple_regret_exact_11[slice14],\n",
        "       simple_regret_exact_12[slice14],\n",
        "       simple_regret_exact_13[slice14],\n",
        "       simple_regret_exact_14[slice14],\n",
        "       simple_regret_exact_15[slice14],\n",
        "       simple_regret_exact_16[slice14],\n",
        "       simple_regret_exact_17[slice14],\n",
        "       simple_regret_exact_18[slice14],\n",
        "       simple_regret_exact_19[slice14],\n",
        "       simple_regret_exact_20[slice14]]\n",
        "\n",
        "approx14_results = pd.DataFrame(approx14).sort_values(by=[0], ascending=False)\n",
        "exact14_results = pd.DataFrame(exact14).sort_values(by=[0], ascending=False)\n",
        "\n",
        "### Best simple regret minimization IQR - approx:\n",
        "lower_approx14 = np.asarray(approx14_results[4:5][0])[0]\n",
        "median_approx14 = np.asarray(approx14_results[9:10][0])[0]\n",
        "upper_approx14 = np.asarray(approx14_results[14:15][0])[0]\n",
        "\n",
        "lower_exact14 = np.asarray(exact14_results[4:5][0])[0]\n",
        "median_exact14 = np.asarray(exact14_results[9:10][0])[0]\n",
        "upper_exact14 = np.asarray(exact14_results[14:15][0])[0]"
      ],
      "execution_count": 83,
      "outputs": []
    },
    {
      "cell_type": "code",
      "metadata": {
        "id": "XINlZjoTd-ZK"
      },
      "source": [
        "# Iteration5 :\n",
        "\n",
        "slice5 = 4\n",
        "\n",
        "approx5 = [simple_regret_approx_1[slice5],\n",
        "       simple_regret_approx_2[slice5],\n",
        "       simple_regret_approx_3[slice5],\n",
        "       simple_regret_approx_4[slice5],\n",
        "       simple_regret_approx_5[slice5],\n",
        "       simple_regret_approx_6[slice5],\n",
        "       simple_regret_approx_7[slice5],\n",
        "       simple_regret_approx_8[slice5],\n",
        "       simple_regret_approx_9[slice5],\n",
        "       simple_regret_approx_10[slice5],\n",
        "       simple_regret_approx_11[slice5],\n",
        "       simple_regret_approx_12[slice5],\n",
        "       simple_regret_approx_13[slice5],\n",
        "       simple_regret_approx_14[slice5],\n",
        "       simple_regret_approx_15[slice5],\n",
        "       simple_regret_approx_16[slice5],\n",
        "       simple_regret_approx_17[slice5],\n",
        "       simple_regret_approx_18[slice5],\n",
        "       simple_regret_approx_19[slice5],\n",
        "       simple_regret_approx_20[slice5]]\n",
        "\n",
        "exact5 = [simple_regret_exact_1[slice5],\n",
        "       simple_regret_exact_2[slice5],\n",
        "       simple_regret_exact_3[slice5],\n",
        "       simple_regret_exact_4[slice5],\n",
        "       simple_regret_exact_5[slice5],\n",
        "       simple_regret_exact_6[slice5],\n",
        "       simple_regret_exact_7[slice5],\n",
        "       simple_regret_exact_8[slice5],\n",
        "       simple_regret_exact_9[slice5],\n",
        "       simple_regret_exact_10[slice5],\n",
        "       simple_regret_exact_11[slice5],\n",
        "       simple_regret_exact_12[slice5],\n",
        "       simple_regret_exact_13[slice5],\n",
        "       simple_regret_exact_14[slice5],\n",
        "       simple_regret_exact_15[slice5],\n",
        "       simple_regret_exact_16[slice5],\n",
        "       simple_regret_exact_17[slice5],\n",
        "       simple_regret_exact_18[slice5],\n",
        "       simple_regret_exact_19[slice5],\n",
        "       simple_regret_exact_20[slice5]]\n",
        "\n",
        "approx5_results = pd.DataFrame(approx5).sort_values(by=[0], ascending=False)\n",
        "exact5_results = pd.DataFrame(exact5).sort_values(by=[0], ascending=False)\n",
        "\n",
        "### Best simple regret minimization IQR - approx:\n",
        "lower_approx5 = np.asarray(approx5_results[4:5][0])[0]\n",
        "median_approx5 = np.asarray(approx5_results[9:10][0])[0]\n",
        "upper_approx5 = np.asarray(approx5_results[14:15][0])[0]\n",
        "\n",
        "lower_exact5 = np.asarray(exact5_results[4:5][0])[0]\n",
        "median_exact5 = np.asarray(exact5_results[9:10][0])[0]\n",
        "upper_exact5 = np.asarray(exact5_results[14:15][0])[0]"
      ],
      "execution_count": 84,
      "outputs": []
    },
    {
      "cell_type": "code",
      "metadata": {
        "id": "4aZ7C8sOQxf6"
      },
      "source": [
        "# Iteration15 :\n",
        "\n",
        "slice15 = 14\n",
        "\n",
        "approx15 = [simple_regret_approx_1[slice15],\n",
        "       simple_regret_approx_2[slice15],\n",
        "       simple_regret_approx_3[slice15],\n",
        "       simple_regret_approx_4[slice15],\n",
        "       simple_regret_approx_5[slice15],\n",
        "       simple_regret_approx_6[slice15],\n",
        "       simple_regret_approx_7[slice15],\n",
        "       simple_regret_approx_8[slice15],\n",
        "       simple_regret_approx_9[slice15],\n",
        "       simple_regret_approx_10[slice15],\n",
        "       simple_regret_approx_11[slice15],\n",
        "       simple_regret_approx_12[slice15],\n",
        "       simple_regret_approx_13[slice15],\n",
        "       simple_regret_approx_14[slice15],\n",
        "       simple_regret_approx_15[slice15],\n",
        "       simple_regret_approx_16[slice15],\n",
        "       simple_regret_approx_17[slice15],\n",
        "       simple_regret_approx_18[slice15],\n",
        "       simple_regret_approx_19[slice15],\n",
        "       simple_regret_approx_20[slice15]]\n",
        "\n",
        "exact15 = [simple_regret_exact_1[slice15],\n",
        "       simple_regret_exact_2[slice15],\n",
        "       simple_regret_exact_3[slice15],\n",
        "       simple_regret_exact_4[slice15],\n",
        "       simple_regret_exact_5[slice15],\n",
        "       simple_regret_exact_6[slice15],\n",
        "       simple_regret_exact_7[slice15],\n",
        "       simple_regret_exact_8[slice15],\n",
        "       simple_regret_exact_9[slice15],\n",
        "       simple_regret_exact_10[slice15],\n",
        "       simple_regret_exact_11[slice15],\n",
        "       simple_regret_exact_12[slice15],\n",
        "       simple_regret_exact_13[slice15],\n",
        "       simple_regret_exact_14[slice15],\n",
        "       simple_regret_exact_15[slice15],\n",
        "       simple_regret_exact_16[slice15],\n",
        "       simple_regret_exact_17[slice15],\n",
        "       simple_regret_exact_18[slice15],\n",
        "       simple_regret_exact_19[slice15],\n",
        "       simple_regret_exact_20[slice15]]\n",
        "\n",
        "approx15_results = pd.DataFrame(approx15).sort_values(by=[0], ascending=False)\n",
        "exact15_results = pd.DataFrame(exact15).sort_values(by=[0], ascending=False)\n",
        "\n",
        "### Best simple regret minimization IQR - approx:\n",
        "lower_approx15 = np.asarray(approx15_results[4:5][0])[0]\n",
        "median_approx15 = np.asarray(approx15_results[9:10][0])[0]\n",
        "upper_approx15 = np.asarray(approx15_results[14:15][0])[0]\n",
        "\n",
        "lower_exact15 = np.asarray(exact15_results[4:5][0])[0]\n",
        "median_exact15 = np.asarray(exact15_results[9:10][0])[0]\n",
        "upper_exact15 = np.asarray(exact15_results[14:15][0])[0]"
      ],
      "execution_count": 85,
      "outputs": []
    },
    {
      "cell_type": "code",
      "metadata": {
        "id": "KJINKhv1Qxf6"
      },
      "source": [
        "# Iteration6 :\n",
        "\n",
        "slice6 = 5\n",
        "\n",
        "approx6 = [simple_regret_approx_1[slice6],\n",
        "       simple_regret_approx_2[slice6],\n",
        "       simple_regret_approx_3[slice6],\n",
        "       simple_regret_approx_4[slice6],\n",
        "       simple_regret_approx_5[slice6],\n",
        "       simple_regret_approx_6[slice6],\n",
        "       simple_regret_approx_7[slice6],\n",
        "       simple_regret_approx_8[slice6],\n",
        "       simple_regret_approx_9[slice6],\n",
        "       simple_regret_approx_10[slice6],\n",
        "       simple_regret_approx_11[slice6],\n",
        "       simple_regret_approx_12[slice6],\n",
        "       simple_regret_approx_13[slice6],\n",
        "       simple_regret_approx_14[slice6],\n",
        "       simple_regret_approx_15[slice6],\n",
        "       simple_regret_approx_16[slice6],\n",
        "       simple_regret_approx_17[slice6],\n",
        "       simple_regret_approx_18[slice6],\n",
        "       simple_regret_approx_19[slice6],\n",
        "       simple_regret_approx_20[slice6]]\n",
        "\n",
        "exact6 = [simple_regret_exact_1[slice6],\n",
        "       simple_regret_exact_2[slice6],\n",
        "       simple_regret_exact_3[slice6],\n",
        "       simple_regret_exact_4[slice6],\n",
        "       simple_regret_exact_5[slice6],\n",
        "       simple_regret_exact_6[slice6],\n",
        "       simple_regret_exact_7[slice6],\n",
        "       simple_regret_exact_8[slice6],\n",
        "       simple_regret_exact_9[slice6],\n",
        "       simple_regret_exact_10[slice6],\n",
        "       simple_regret_exact_11[slice6],\n",
        "       simple_regret_exact_12[slice6],\n",
        "       simple_regret_exact_13[slice6],\n",
        "       simple_regret_exact_14[slice6],\n",
        "       simple_regret_exact_15[slice6],\n",
        "       simple_regret_exact_16[slice6],\n",
        "       simple_regret_exact_17[slice6],\n",
        "       simple_regret_exact_18[slice6],\n",
        "       simple_regret_exact_19[slice6],\n",
        "       simple_regret_exact_20[slice6]]\n",
        "\n",
        "approx6_results = pd.DataFrame(approx6).sort_values(by=[0], ascending=False)\n",
        "exact6_results = pd.DataFrame(exact6).sort_values(by=[0], ascending=False)\n",
        "\n",
        "### Best simple regret minimization IQR - approx:\n",
        "lower_approx6 = np.asarray(approx6_results[4:5][0])[0]\n",
        "median_approx6 = np.asarray(approx6_results[9:10][0])[0]\n",
        "upper_approx6 = np.asarray(approx6_results[14:15][0])[0]\n",
        "\n",
        "lower_exact6 = np.asarray(exact6_results[4:5][0])[0]\n",
        "median_exact6 = np.asarray(exact6_results[9:10][0])[0]\n",
        "upper_exact6 = np.asarray(exact6_results[14:15][0])[0]"
      ],
      "execution_count": 86,
      "outputs": []
    },
    {
      "cell_type": "code",
      "metadata": {
        "id": "nwC5N1FsQxf7"
      },
      "source": [
        "# Iteration16 :\n",
        "\n",
        "slice16 = 15\n",
        "\n",
        "approx16 = [simple_regret_approx_1[slice16],\n",
        "       simple_regret_approx_2[slice16],\n",
        "       simple_regret_approx_3[slice16],\n",
        "       simple_regret_approx_4[slice16],\n",
        "       simple_regret_approx_5[slice16],\n",
        "       simple_regret_approx_6[slice16],\n",
        "       simple_regret_approx_7[slice16],\n",
        "       simple_regret_approx_8[slice16],\n",
        "       simple_regret_approx_9[slice16],\n",
        "       simple_regret_approx_10[slice16],\n",
        "       simple_regret_approx_11[slice16],\n",
        "       simple_regret_approx_12[slice16],\n",
        "       simple_regret_approx_13[slice16],\n",
        "       simple_regret_approx_14[slice16],\n",
        "       simple_regret_approx_15[slice16],\n",
        "       simple_regret_approx_16[slice16],\n",
        "       simple_regret_approx_17[slice16],\n",
        "       simple_regret_approx_18[slice16],\n",
        "       simple_regret_approx_19[slice16],\n",
        "       simple_regret_approx_20[slice16]]\n",
        "\n",
        "exact16 = [simple_regret_exact_1[slice16],\n",
        "       simple_regret_exact_2[slice16],\n",
        "       simple_regret_exact_3[slice16],\n",
        "       simple_regret_exact_4[slice16],\n",
        "       simple_regret_exact_5[slice16],\n",
        "       simple_regret_exact_6[slice16],\n",
        "       simple_regret_exact_7[slice16],\n",
        "       simple_regret_exact_8[slice16],\n",
        "       simple_regret_exact_9[slice16],\n",
        "       simple_regret_exact_10[slice16],\n",
        "       simple_regret_exact_11[slice16],\n",
        "       simple_regret_exact_12[slice16],\n",
        "       simple_regret_exact_13[slice16],\n",
        "       simple_regret_exact_14[slice16],\n",
        "       simple_regret_exact_15[slice16],\n",
        "       simple_regret_exact_16[slice16],\n",
        "       simple_regret_exact_17[slice16],\n",
        "       simple_regret_exact_18[slice16],\n",
        "       simple_regret_exact_19[slice16],\n",
        "       simple_regret_exact_20[slice16]]\n",
        "\n",
        "approx16_results = pd.DataFrame(approx16).sort_values(by=[0], ascending=False)\n",
        "exact16_results = pd.DataFrame(exact16).sort_values(by=[0], ascending=False)\n",
        "\n",
        "### Best simple regret minimization IQR - approx:\n",
        "lower_approx16 = np.asarray(approx16_results[4:5][0])[0]\n",
        "median_approx16 = np.asarray(approx16_results[9:10][0])[0]\n",
        "upper_approx16 = np.asarray(approx16_results[14:15][0])[0]\n",
        "\n",
        "lower_exact16 = np.asarray(exact16_results[4:5][0])[0]\n",
        "median_exact16 = np.asarray(exact16_results[9:10][0])[0]\n",
        "upper_exact16 = np.asarray(exact16_results[14:15][0])[0]"
      ],
      "execution_count": 87,
      "outputs": []
    },
    {
      "cell_type": "code",
      "metadata": {
        "id": "TrPV0AfnQxf7"
      },
      "source": [
        "# Iteration7 :\n",
        "\n",
        "slice7 = 6\n",
        "\n",
        "approx7 = [simple_regret_approx_1[slice7],\n",
        "       simple_regret_approx_2[slice7],\n",
        "       simple_regret_approx_3[slice7],\n",
        "       simple_regret_approx_4[slice7],\n",
        "       simple_regret_approx_5[slice7],\n",
        "       simple_regret_approx_6[slice7],\n",
        "       simple_regret_approx_7[slice7],\n",
        "       simple_regret_approx_8[slice7],\n",
        "       simple_regret_approx_9[slice7],\n",
        "       simple_regret_approx_10[slice7],\n",
        "       simple_regret_approx_11[slice7],\n",
        "       simple_regret_approx_12[slice7],\n",
        "       simple_regret_approx_13[slice7],\n",
        "       simple_regret_approx_14[slice7],\n",
        "       simple_regret_approx_15[slice7],\n",
        "       simple_regret_approx_16[slice7],\n",
        "       simple_regret_approx_17[slice7],\n",
        "       simple_regret_approx_18[slice7],\n",
        "       simple_regret_approx_19[slice7],\n",
        "       simple_regret_approx_20[slice7]]\n",
        "\n",
        "exact7 = [simple_regret_exact_1[slice7],\n",
        "       simple_regret_exact_2[slice7],\n",
        "       simple_regret_exact_3[slice7],\n",
        "       simple_regret_exact_4[slice7],\n",
        "       simple_regret_exact_5[slice7],\n",
        "       simple_regret_exact_6[slice7],\n",
        "       simple_regret_exact_7[slice7],\n",
        "       simple_regret_exact_8[slice7],\n",
        "       simple_regret_exact_9[slice7],\n",
        "       simple_regret_exact_10[slice7],\n",
        "       simple_regret_exact_11[slice7],\n",
        "       simple_regret_exact_12[slice7],\n",
        "       simple_regret_exact_13[slice7],\n",
        "       simple_regret_exact_14[slice7],\n",
        "       simple_regret_exact_15[slice7],\n",
        "       simple_regret_exact_16[slice7],\n",
        "       simple_regret_exact_17[slice7],\n",
        "       simple_regret_exact_18[slice7],\n",
        "       simple_regret_exact_19[slice7],\n",
        "       simple_regret_exact_20[slice7]]\n",
        "\n",
        "approx7_results = pd.DataFrame(approx7).sort_values(by=[0], ascending=False)\n",
        "exact7_results = pd.DataFrame(exact7).sort_values(by=[0], ascending=False)\n",
        "\n",
        "### Best simple regret minimization IQR - approx:\n",
        "lower_approx7 = np.asarray(approx7_results[4:5][0])[0]\n",
        "median_approx7 = np.asarray(approx7_results[9:10][0])[0]\n",
        "upper_approx7 = np.asarray(approx7_results[14:15][0])[0]\n",
        "\n",
        "lower_exact7 = np.asarray(exact7_results[4:5][0])[0]\n",
        "median_exact7 = np.asarray(exact7_results[9:10][0])[0]\n",
        "upper_exact7 = np.asarray(exact7_results[14:15][0])[0]"
      ],
      "execution_count": 88,
      "outputs": []
    },
    {
      "cell_type": "code",
      "metadata": {
        "id": "Ub_-wpK4Qxf8"
      },
      "source": [
        "# Iteration17 :\n",
        "\n",
        "slice17 = 16\n",
        "\n",
        "approx17 = [simple_regret_approx_1[slice17],\n",
        "       simple_regret_approx_2[slice17],\n",
        "       simple_regret_approx_3[slice17],\n",
        "       simple_regret_approx_4[slice17],\n",
        "       simple_regret_approx_5[slice17],\n",
        "       simple_regret_approx_6[slice17],\n",
        "       simple_regret_approx_7[slice17],\n",
        "       simple_regret_approx_8[slice17],\n",
        "       simple_regret_approx_9[slice17],\n",
        "       simple_regret_approx_10[slice17],\n",
        "       simple_regret_approx_11[slice17],\n",
        "       simple_regret_approx_12[slice17],\n",
        "       simple_regret_approx_13[slice17],\n",
        "       simple_regret_approx_14[slice17],\n",
        "       simple_regret_approx_15[slice17],\n",
        "       simple_regret_approx_16[slice17],\n",
        "       simple_regret_approx_17[slice17],\n",
        "       simple_regret_approx_18[slice17],\n",
        "       simple_regret_approx_19[slice17],\n",
        "       simple_regret_approx_20[slice17]]\n",
        "\n",
        "exact17 = [simple_regret_exact_1[slice17],\n",
        "       simple_regret_exact_2[slice17],\n",
        "       simple_regret_exact_3[slice17],\n",
        "       simple_regret_exact_4[slice17],\n",
        "       simple_regret_exact_5[slice17],\n",
        "       simple_regret_exact_6[slice17],\n",
        "       simple_regret_exact_7[slice17],\n",
        "       simple_regret_exact_8[slice17],\n",
        "       simple_regret_exact_9[slice17],\n",
        "       simple_regret_exact_10[slice17],\n",
        "       simple_regret_exact_11[slice17],\n",
        "       simple_regret_exact_12[slice17],\n",
        "       simple_regret_exact_13[slice17],\n",
        "       simple_regret_exact_14[slice17],\n",
        "       simple_regret_exact_15[slice17],\n",
        "       simple_regret_exact_16[slice17],\n",
        "       simple_regret_exact_17[slice17],\n",
        "       simple_regret_exact_18[slice17],\n",
        "       simple_regret_exact_19[slice17],\n",
        "       simple_regret_exact_20[slice17]]\n",
        "\n",
        "approx17_results = pd.DataFrame(approx17).sort_values(by=[0], ascending=False)\n",
        "exact17_results = pd.DataFrame(exact17).sort_values(by=[0], ascending=False)\n",
        "\n",
        "### Best simple regret minimization IQR - approx:\n",
        "lower_approx17 = np.asarray(approx17_results[4:5][0])[0]\n",
        "median_approx17 = np.asarray(approx17_results[9:10][0])[0]\n",
        "upper_approx17 = np.asarray(approx17_results[14:15][0])[0]\n",
        "\n",
        "lower_exact17 = np.asarray(exact17_results[4:5][0])[0]\n",
        "median_exact17 = np.asarray(exact17_results[9:10][0])[0]\n",
        "upper_exact17 = np.asarray(exact17_results[14:15][0])[0]"
      ],
      "execution_count": 89,
      "outputs": []
    },
    {
      "cell_type": "code",
      "metadata": {
        "id": "-6VLo37PQxf8"
      },
      "source": [
        "# Iteration8 :\n",
        "\n",
        "slice8 = 7\n",
        "\n",
        "approx8 = [simple_regret_approx_1[slice8],\n",
        "       simple_regret_approx_2[slice8],\n",
        "       simple_regret_approx_3[slice8],\n",
        "       simple_regret_approx_4[slice8],\n",
        "       simple_regret_approx_5[slice8],\n",
        "       simple_regret_approx_6[slice8],\n",
        "       simple_regret_approx_7[slice8],\n",
        "       simple_regret_approx_8[slice8],\n",
        "       simple_regret_approx_9[slice8],\n",
        "       simple_regret_approx_10[slice8],\n",
        "       simple_regret_approx_11[slice8],\n",
        "       simple_regret_approx_12[slice8],\n",
        "       simple_regret_approx_13[slice8],\n",
        "       simple_regret_approx_14[slice8],\n",
        "       simple_regret_approx_15[slice8],\n",
        "       simple_regret_approx_16[slice8],\n",
        "       simple_regret_approx_17[slice8],\n",
        "       simple_regret_approx_18[slice8],\n",
        "       simple_regret_approx_19[slice8],\n",
        "       simple_regret_approx_20[slice8]]\n",
        "\n",
        "exact8 = [simple_regret_exact_1[slice8],\n",
        "       simple_regret_exact_2[slice8],\n",
        "       simple_regret_exact_3[slice8],\n",
        "       simple_regret_exact_4[slice8],\n",
        "       simple_regret_exact_5[slice8],\n",
        "       simple_regret_exact_6[slice8],\n",
        "       simple_regret_exact_7[slice8],\n",
        "       simple_regret_exact_8[slice8],\n",
        "       simple_regret_exact_9[slice8],\n",
        "       simple_regret_exact_10[slice8],\n",
        "       simple_regret_exact_11[slice8],\n",
        "       simple_regret_exact_12[slice8],\n",
        "       simple_regret_exact_13[slice8],\n",
        "       simple_regret_exact_14[slice8],\n",
        "       simple_regret_exact_15[slice8],\n",
        "       simple_regret_exact_16[slice8],\n",
        "       simple_regret_exact_17[slice8],\n",
        "       simple_regret_exact_18[slice8],\n",
        "       simple_regret_exact_19[slice8],\n",
        "       simple_regret_exact_20[slice8]]\n",
        "\n",
        "approx8_results = pd.DataFrame(approx8).sort_values(by=[0], ascending=False)\n",
        "exact8_results = pd.DataFrame(exact8).sort_values(by=[0], ascending=False)\n",
        "\n",
        "### Best simple regret minimization IQR - approx:\n",
        "lower_approx8 = np.asarray(approx8_results[4:5][0])[0]\n",
        "median_approx8 = np.asarray(approx8_results[9:10][0])[0]\n",
        "upper_approx8 = np.asarray(approx8_results[14:15][0])[0]\n",
        "\n",
        "lower_exact8 = np.asarray(exact8_results[4:5][0])[0]\n",
        "median_exact8 = np.asarray(exact8_results[9:10][0])[0]\n",
        "upper_exact8 = np.asarray(exact8_results[14:15][0])[0]"
      ],
      "execution_count": 90,
      "outputs": []
    },
    {
      "cell_type": "code",
      "metadata": {
        "id": "2Dp-9CC2Qxf9"
      },
      "source": [
        "# Iteration18 :\n",
        "\n",
        "slice18 = 17\n",
        "\n",
        "approx18 = [simple_regret_approx_1[slice18],\n",
        "       simple_regret_approx_2[slice18],\n",
        "       simple_regret_approx_3[slice18],\n",
        "       simple_regret_approx_4[slice18],\n",
        "       simple_regret_approx_5[slice18],\n",
        "       simple_regret_approx_6[slice18],\n",
        "       simple_regret_approx_7[slice18],\n",
        "       simple_regret_approx_8[slice18],\n",
        "       simple_regret_approx_9[slice18],\n",
        "       simple_regret_approx_10[slice18],\n",
        "       simple_regret_approx_11[slice18],\n",
        "       simple_regret_approx_12[slice18],\n",
        "       simple_regret_approx_13[slice18],\n",
        "       simple_regret_approx_14[slice18],\n",
        "       simple_regret_approx_15[slice18],\n",
        "       simple_regret_approx_16[slice18],\n",
        "       simple_regret_approx_17[slice18],\n",
        "       simple_regret_approx_18[slice18],\n",
        "       simple_regret_approx_19[slice18],\n",
        "       simple_regret_approx_20[slice18]]\n",
        "\n",
        "exact18 = [simple_regret_exact_1[slice18],\n",
        "       simple_regret_exact_2[slice18],\n",
        "       simple_regret_exact_3[slice18],\n",
        "       simple_regret_exact_4[slice18],\n",
        "       simple_regret_exact_5[slice18],\n",
        "       simple_regret_exact_6[slice18],\n",
        "       simple_regret_exact_7[slice18],\n",
        "       simple_regret_exact_8[slice18],\n",
        "       simple_regret_exact_9[slice18],\n",
        "       simple_regret_exact_10[slice18],\n",
        "       simple_regret_exact_11[slice18],\n",
        "       simple_regret_exact_12[slice18],\n",
        "       simple_regret_exact_13[slice18],\n",
        "       simple_regret_exact_14[slice18],\n",
        "       simple_regret_exact_15[slice18],\n",
        "       simple_regret_exact_16[slice18],\n",
        "       simple_regret_exact_17[slice18],\n",
        "       simple_regret_exact_18[slice18],\n",
        "       simple_regret_exact_19[slice18],\n",
        "       simple_regret_exact_20[slice18]]\n",
        "\n",
        "approx18_results = pd.DataFrame(approx18).sort_values(by=[0], ascending=False)\n",
        "exact18_results = pd.DataFrame(exact18).sort_values(by=[0], ascending=False)\n",
        "\n",
        "### Best simple regret minimization IQR - approx:\n",
        "lower_approx18 = np.asarray(approx18_results[4:5][0])[0]\n",
        "median_approx18 = np.asarray(approx18_results[9:10][0])[0]\n",
        "upper_approx18 = np.asarray(approx18_results[14:15][0])[0]\n",
        "\n",
        "lower_exact18 = np.asarray(exact18_results[4:5][0])[0]\n",
        "median_exact18 = np.asarray(exact18_results[9:10][0])[0]\n",
        "upper_exact18 = np.asarray(exact18_results[14:15][0])[0]"
      ],
      "execution_count": 91,
      "outputs": []
    },
    {
      "cell_type": "code",
      "metadata": {
        "id": "SqiaOpB7Qxf9"
      },
      "source": [
        "# Iteration9 :\n",
        "\n",
        "slice9 = 8\n",
        "\n",
        "approx9 = [simple_regret_approx_1[slice9],\n",
        "       simple_regret_approx_2[slice9],\n",
        "       simple_regret_approx_3[slice9],\n",
        "       simple_regret_approx_4[slice9],\n",
        "       simple_regret_approx_5[slice9],\n",
        "       simple_regret_approx_6[slice9],\n",
        "       simple_regret_approx_7[slice9],\n",
        "       simple_regret_approx_8[slice9],\n",
        "       simple_regret_approx_9[slice9],\n",
        "       simple_regret_approx_10[slice9],\n",
        "       simple_regret_approx_11[slice9],\n",
        "       simple_regret_approx_12[slice9],\n",
        "       simple_regret_approx_13[slice9],\n",
        "       simple_regret_approx_14[slice9],\n",
        "       simple_regret_approx_15[slice9],\n",
        "       simple_regret_approx_16[slice9],\n",
        "       simple_regret_approx_17[slice9],\n",
        "       simple_regret_approx_18[slice9],\n",
        "       simple_regret_approx_19[slice9],\n",
        "       simple_regret_approx_20[slice9]]\n",
        "\n",
        "exact9 = [simple_regret_exact_1[slice9],\n",
        "       simple_regret_exact_2[slice9],\n",
        "       simple_regret_exact_3[slice9],\n",
        "       simple_regret_exact_4[slice9],\n",
        "       simple_regret_exact_5[slice9],\n",
        "       simple_regret_exact_6[slice9],\n",
        "       simple_regret_exact_7[slice9],\n",
        "       simple_regret_exact_8[slice9],\n",
        "       simple_regret_exact_9[slice9],\n",
        "       simple_regret_exact_10[slice9],\n",
        "       simple_regret_exact_11[slice9],\n",
        "       simple_regret_exact_12[slice9],\n",
        "       simple_regret_exact_13[slice9],\n",
        "       simple_regret_exact_14[slice9],\n",
        "       simple_regret_exact_15[slice9],\n",
        "       simple_regret_exact_16[slice9],\n",
        "       simple_regret_exact_17[slice9],\n",
        "       simple_regret_exact_18[slice9],\n",
        "       simple_regret_exact_19[slice9],\n",
        "       simple_regret_exact_20[slice9]]\n",
        "\n",
        "approx9_results = pd.DataFrame(approx9).sort_values(by=[0], ascending=False)\n",
        "exact9_results = pd.DataFrame(exact9).sort_values(by=[0], ascending=False)\n",
        "\n",
        "### Best simple regret minimization IQR - approx:\n",
        "lower_approx9 = np.asarray(approx9_results[4:5][0])[0]\n",
        "median_approx9 = np.asarray(approx9_results[9:10][0])[0]\n",
        "upper_approx9 = np.asarray(approx9_results[14:15][0])[0]\n",
        "\n",
        "lower_exact9 = np.asarray(exact9_results[4:5][0])[0]\n",
        "median_exact9 = np.asarray(exact9_results[9:10][0])[0]\n",
        "upper_exact9 = np.asarray(exact9_results[14:15][0])[0]"
      ],
      "execution_count": 92,
      "outputs": []
    },
    {
      "cell_type": "code",
      "metadata": {
        "id": "OQkCCOsPQxf9"
      },
      "source": [
        "# Iteration19 :\n",
        "\n",
        "slice19 = 18\n",
        "\n",
        "approx19 = [simple_regret_approx_1[slice19],\n",
        "       simple_regret_approx_2[slice19],\n",
        "       simple_regret_approx_3[slice19],\n",
        "       simple_regret_approx_4[slice19],\n",
        "       simple_regret_approx_5[slice19],\n",
        "       simple_regret_approx_6[slice19],\n",
        "       simple_regret_approx_7[slice19],\n",
        "       simple_regret_approx_8[slice19],\n",
        "       simple_regret_approx_9[slice19],\n",
        "       simple_regret_approx_10[slice19],\n",
        "       simple_regret_approx_11[slice19],\n",
        "       simple_regret_approx_12[slice19],\n",
        "       simple_regret_approx_13[slice19],\n",
        "       simple_regret_approx_14[slice19],\n",
        "       simple_regret_approx_15[slice19],\n",
        "       simple_regret_approx_16[slice19],\n",
        "       simple_regret_approx_17[slice19],\n",
        "       simple_regret_approx_18[slice19],\n",
        "       simple_regret_approx_19[slice19],\n",
        "       simple_regret_approx_20[slice19]]\n",
        "\n",
        "exact19 = [simple_regret_exact_1[slice19],\n",
        "       simple_regret_exact_2[slice19],\n",
        "       simple_regret_exact_3[slice19],\n",
        "       simple_regret_exact_4[slice19],\n",
        "       simple_regret_exact_5[slice19],\n",
        "       simple_regret_exact_6[slice19],\n",
        "       simple_regret_exact_7[slice19],\n",
        "       simple_regret_exact_8[slice19],\n",
        "       simple_regret_exact_9[slice19],\n",
        "       simple_regret_exact_10[slice19],\n",
        "       simple_regret_exact_11[slice19],\n",
        "       simple_regret_exact_12[slice19],\n",
        "       simple_regret_exact_13[slice19],\n",
        "       simple_regret_exact_14[slice19],\n",
        "       simple_regret_exact_15[slice19],\n",
        "       simple_regret_exact_16[slice19],\n",
        "       simple_regret_exact_17[slice19],\n",
        "       simple_regret_exact_18[slice19],\n",
        "       simple_regret_exact_19[slice19],\n",
        "       simple_regret_exact_20[slice19]]\n",
        "\n",
        "approx19_results = pd.DataFrame(approx19).sort_values(by=[0], ascending=False)\n",
        "exact19_results = pd.DataFrame(exact19).sort_values(by=[0], ascending=False)\n",
        "\n",
        "### Best simple regret minimization IQR - approx:\n",
        "lower_approx19 = np.asarray(approx19_results[4:5][0])[0]\n",
        "median_approx19 = np.asarray(approx19_results[9:10][0])[0]\n",
        "upper_approx19 = np.asarray(approx19_results[14:15][0])[0]\n",
        "\n",
        "lower_exact19 = np.asarray(exact19_results[4:5][0])[0]\n",
        "median_exact19 = np.asarray(exact19_results[9:10][0])[0]\n",
        "upper_exact19 = np.asarray(exact19_results[14:15][0])[0]"
      ],
      "execution_count": 93,
      "outputs": []
    },
    {
      "cell_type": "code",
      "metadata": {
        "id": "h4vtWahcQxf-"
      },
      "source": [
        "# Iteration10 :\n",
        "\n",
        "slice10 = 9\n",
        "\n",
        "approx10 = [simple_regret_approx_1[slice10],\n",
        "       simple_regret_approx_2[slice10],\n",
        "       simple_regret_approx_3[slice10],\n",
        "       simple_regret_approx_4[slice10],\n",
        "       simple_regret_approx_5[slice10],\n",
        "       simple_regret_approx_6[slice10],\n",
        "       simple_regret_approx_7[slice10],\n",
        "       simple_regret_approx_8[slice10],\n",
        "       simple_regret_approx_9[slice10],\n",
        "       simple_regret_approx_10[slice10],\n",
        "       simple_regret_approx_11[slice10],\n",
        "       simple_regret_approx_12[slice10],\n",
        "       simple_regret_approx_13[slice10],\n",
        "       simple_regret_approx_14[slice10],\n",
        "       simple_regret_approx_15[slice10],\n",
        "       simple_regret_approx_16[slice10],\n",
        "       simple_regret_approx_17[slice10],\n",
        "       simple_regret_approx_18[slice10],\n",
        "       simple_regret_approx_19[slice10],\n",
        "       simple_regret_approx_20[slice10]]\n",
        "\n",
        "exact10 = [simple_regret_exact_1[slice10],\n",
        "       simple_regret_exact_2[slice10],\n",
        "       simple_regret_exact_3[slice10],\n",
        "       simple_regret_exact_4[slice10],\n",
        "       simple_regret_exact_5[slice10],\n",
        "       simple_regret_exact_6[slice10],\n",
        "       simple_regret_exact_7[slice10],\n",
        "       simple_regret_exact_8[slice10],\n",
        "       simple_regret_exact_9[slice10],\n",
        "       simple_regret_exact_10[slice10],\n",
        "       simple_regret_exact_11[slice10],\n",
        "       simple_regret_exact_12[slice10],\n",
        "       simple_regret_exact_13[slice10],\n",
        "       simple_regret_exact_14[slice10],\n",
        "       simple_regret_exact_15[slice10],\n",
        "       simple_regret_exact_16[slice10],\n",
        "       simple_regret_exact_17[slice10],\n",
        "       simple_regret_exact_18[slice10],\n",
        "       simple_regret_exact_19[slice10],\n",
        "       simple_regret_exact_20[slice10]]\n",
        "\n",
        "approx10_results = pd.DataFrame(approx10).sort_values(by=[0], ascending=False)\n",
        "exact10_results = pd.DataFrame(exact10).sort_values(by=[0], ascending=False)\n",
        "\n",
        "### Best simple regret minimization IQR - approx:\n",
        "lower_approx10 = np.asarray(approx10_results[4:5][0])[0]\n",
        "median_approx10 = np.asarray(approx10_results[9:10][0])[0]\n",
        "upper_approx10 = np.asarray(approx10_results[14:15][0])[0]\n",
        "\n",
        "lower_exact10 = np.asarray(exact10_results[4:5][0])[0]\n",
        "median_exact10 = np.asarray(exact10_results[9:10][0])[0]\n",
        "upper_exact10 = np.asarray(exact10_results[14:15][0])[0]"
      ],
      "execution_count": 94,
      "outputs": []
    },
    {
      "cell_type": "code",
      "metadata": {
        "id": "Rsf240pWQxf-"
      },
      "source": [
        "# Iteration20 :\n",
        "\n",
        "slice20 = 19\n",
        "\n",
        "approx20 = [simple_regret_approx_1[slice20],\n",
        "       simple_regret_approx_2[slice20],\n",
        "       simple_regret_approx_3[slice20],\n",
        "       simple_regret_approx_4[slice20],\n",
        "       simple_regret_approx_5[slice20],\n",
        "       simple_regret_approx_6[slice20],\n",
        "       simple_regret_approx_7[slice20],\n",
        "       simple_regret_approx_8[slice20],\n",
        "       simple_regret_approx_9[slice20],\n",
        "       simple_regret_approx_10[slice20],\n",
        "       simple_regret_approx_11[slice20],\n",
        "       simple_regret_approx_12[slice20],\n",
        "       simple_regret_approx_13[slice20],\n",
        "       simple_regret_approx_14[slice20],\n",
        "       simple_regret_approx_15[slice20],\n",
        "       simple_regret_approx_16[slice20],\n",
        "       simple_regret_approx_17[slice20],\n",
        "       simple_regret_approx_18[slice20],\n",
        "       simple_regret_approx_19[slice20],\n",
        "       simple_regret_approx_20[slice20]]\n",
        "\n",
        "exact20 = [simple_regret_exact_1[slice20],\n",
        "       simple_regret_exact_2[slice20],\n",
        "       simple_regret_exact_3[slice20],\n",
        "       simple_regret_exact_4[slice20],\n",
        "       simple_regret_exact_5[slice20],\n",
        "       simple_regret_exact_6[slice20],\n",
        "       simple_regret_exact_7[slice20],\n",
        "       simple_regret_exact_8[slice20],\n",
        "       simple_regret_exact_9[slice20],\n",
        "       simple_regret_exact_10[slice20],\n",
        "       simple_regret_exact_11[slice20],\n",
        "       simple_regret_exact_12[slice20],\n",
        "       simple_regret_exact_13[slice20],\n",
        "       simple_regret_exact_14[slice20],\n",
        "       simple_regret_exact_15[slice20],\n",
        "       simple_regret_exact_16[slice20],\n",
        "       simple_regret_exact_17[slice20],\n",
        "       simple_regret_exact_18[slice20],\n",
        "       simple_regret_exact_19[slice20],\n",
        "       simple_regret_exact_20[slice20]]\n",
        "\n",
        "approx20_results = pd.DataFrame(approx20).sort_values(by=[0], ascending=False)\n",
        "exact20_results = pd.DataFrame(exact20).sort_values(by=[0], ascending=False)\n",
        "\n",
        "### Best simple regret minimization IQR - approx:\n",
        "lower_approx20 = np.asarray(approx20_results[4:5][0])[0]\n",
        "median_approx20 = np.asarray(approx20_results[9:10][0])[0]\n",
        "upper_approx20 = np.asarray(approx20_results[14:15][0])[0]\n",
        "\n",
        "lower_exact20 = np.asarray(exact20_results[4:5][0])[0]\n",
        "median_exact20 = np.asarray(exact20_results[9:10][0])[0]\n",
        "upper_exact20 = np.asarray(exact20_results[14:15][0])[0]"
      ],
      "execution_count": 95,
      "outputs": []
    },
    {
      "cell_type": "code",
      "metadata": {
        "id": "gn36RejbQxf_"
      },
      "source": [
        "### Summarize arrays: 'Loser'\n",
        "\n",
        "lower_approx = [lower_approx1,\n",
        "            lower_approx2,\n",
        "            lower_approx3,\n",
        "            lower_approx4,\n",
        "            lower_approx5,\n",
        "            lower_approx6,\n",
        "            lower_approx7,\n",
        "            lower_approx8,\n",
        "            lower_approx9,\n",
        "            lower_approx10,\n",
        "            lower_approx11,\n",
        "            lower_approx12,\n",
        "            lower_approx13,\n",
        "            lower_approx14,\n",
        "            lower_approx15,\n",
        "            lower_approx16,\n",
        "            lower_approx17,\n",
        "            lower_approx18,\n",
        "            lower_approx19,\n",
        "            lower_approx20,\n",
        "            lower_approx21]\n",
        "\n",
        "median_approx = [median_approx1,\n",
        "            median_approx2,\n",
        "            median_approx3,\n",
        "            median_approx4,\n",
        "            median_approx5,\n",
        "            median_approx6,\n",
        "            median_approx7,\n",
        "            median_approx8,\n",
        "            median_approx9,\n",
        "            median_approx10,\n",
        "            median_approx11,\n",
        "            median_approx12,\n",
        "            median_approx13,\n",
        "            median_approx14,\n",
        "            median_approx15,\n",
        "            median_approx16,\n",
        "            median_approx17,\n",
        "            median_approx18,\n",
        "            median_approx19,\n",
        "            median_approx20,\n",
        "            median_approx21]\n",
        "\n",
        "upper_approx = [upper_approx1,\n",
        "            upper_approx2,\n",
        "            upper_approx3,\n",
        "            upper_approx4,\n",
        "            upper_approx5,\n",
        "            upper_approx6,\n",
        "            upper_approx7,\n",
        "            upper_approx8,\n",
        "            upper_approx9,\n",
        "            upper_approx10,\n",
        "            upper_approx11,\n",
        "            upper_approx12,\n",
        "            upper_approx13,\n",
        "            upper_approx14,\n",
        "            upper_approx15,\n",
        "            upper_approx16,\n",
        "            upper_approx17,\n",
        "            upper_approx18,\n",
        "            upper_approx19,\n",
        "            upper_approx20,\n",
        "            upper_approx21]"
      ],
      "execution_count": 96,
      "outputs": []
    },
    {
      "cell_type": "code",
      "metadata": {
        "id": "wxtGTOYfQxf_"
      },
      "source": [
        "### Summarize arrays: 'exact'\n",
        "\n",
        "lower_exact = [lower_exact1,\n",
        "            lower_exact2,\n",
        "            lower_exact3,\n",
        "            lower_exact4,\n",
        "            lower_exact5,\n",
        "            lower_exact6,\n",
        "            lower_exact7,\n",
        "            lower_exact8,\n",
        "            lower_exact9,\n",
        "            lower_exact10,\n",
        "            lower_exact11,\n",
        "            lower_exact12,\n",
        "            lower_exact13,\n",
        "            lower_exact14,\n",
        "            lower_exact15,\n",
        "            lower_exact16,\n",
        "            lower_exact17,\n",
        "            lower_exact18,\n",
        "            lower_exact19,\n",
        "            lower_exact20,\n",
        "            lower_exact21]\n",
        "\n",
        "median_exact = [median_exact1,\n",
        "            median_exact2,\n",
        "            median_exact3,\n",
        "            median_exact4,\n",
        "            median_exact5,\n",
        "            median_exact6,\n",
        "            median_exact7,\n",
        "            median_exact8,\n",
        "            median_exact9,\n",
        "            median_exact10,\n",
        "            median_exact11,\n",
        "            median_exact12,\n",
        "            median_exact13,\n",
        "            median_exact14,\n",
        "            median_exact15,\n",
        "            median_exact16,\n",
        "            median_exact17,\n",
        "            median_exact18,\n",
        "            median_exact19,\n",
        "            median_exact20,\n",
        "            median_exact21]\n",
        "\n",
        "upper_exact = [upper_exact1,\n",
        "            upper_exact2,\n",
        "            upper_exact3,\n",
        "            upper_exact4,\n",
        "            upper_exact5,\n",
        "            upper_exact6,\n",
        "            upper_exact7,\n",
        "            upper_exact8,\n",
        "            upper_exact9,\n",
        "            upper_exact10,\n",
        "            upper_exact11,\n",
        "            upper_exact12,\n",
        "            upper_exact13,\n",
        "            upper_exact14,\n",
        "            upper_exact15,\n",
        "            upper_exact16,\n",
        "            upper_exact17,\n",
        "            upper_exact18,\n",
        "            upper_exact19,\n",
        "            upper_exact20,\n",
        "            upper_exact21]"
      ],
      "execution_count": 97,
      "outputs": []
    },
    {
      "cell_type": "code",
      "metadata": {
        "id": "2MONq-BXQxgA",
        "colab": {
          "base_uri": "https://localhost:8080/",
          "height": 299
        },
        "outputId": "a7f9176e-6bda-4b61-cd56-e21a0292fb45"
      },
      "source": [
        "### Visualise!\n",
        "\n",
        "title = func\n",
        "plt.figure()\n",
        "\n",
        "plt.plot(median_approx, color = 'Green')\n",
        "plt.plot(median_exact, color = 'Blue')\n",
        "\n",
        "xstar = np.arange(0, iters+1, step=1)\n",
        "plt.fill_between(xstar, lower_approx, upper_approx, facecolor = 'Green', alpha=0.4, label='GP ERM Optimization: Approx GP ERM gradients')\n",
        "plt.fill_between(xstar, lower_exact, upper_exact, facecolor = 'Blue', alpha=0.4, label='GP ERM Optimization: Exact GP dERM gradients')\n",
        "\n",
        "plt.title(title, weight = 'bold')\n",
        "plt.xlabel('(Post-initialization) iteration $\\it{k}$', weight = 'bold')\n",
        "plt.ylabel('log(Regret)', weight = 'bold') \n",
        "plt.legend(loc=1) # add plot legend\n",
        "\n",
        "### Make the x-ticks integers, not floats:\n",
        "count = len(xstar)\n",
        "plt.xticks(np.arange(count), np.arange(0, count))\n",
        "plt.show() #visualize!"
      ],
      "execution_count": 98,
      "outputs": [
        {
          "output_type": "display_data",
          "data": {
            "image/png": "[encoded data removed]",
            "text/plain": [
              "<Figure size 432x288 with 1 Axes>"
            ]
          },
          "metadata": {
            "needs_background": "light"
          }
        }
      ]
    },
    {
      "cell_type": "code",
      "metadata": {
        "id": "l5dkR2Id2oiu",
        "colab": {
          "base_uri": "https://localhost:8080/"
        },
        "outputId": "545ba7fc-16c5-45fd-bc6c-0dc5cb4475ea"
      },
      "source": [
        "time_approx, time_exact\n"
      ],
      "execution_count": 99,
      "outputs": [
        {
          "output_type": "execute_result",
          "data": {
            "text/plain": [
              "(184.5549886226654, 284.95571398735046)"
            ]
          },
          "metadata": {},
          "execution_count": 99
        }
      ]
    },
    {
      "cell_type": "code",
      "metadata": {
        "id": "77BffxK2Fe61"
      },
      "source": [
        ""
      ],
      "execution_count": 99,
      "outputs": []
    }
  ]
}