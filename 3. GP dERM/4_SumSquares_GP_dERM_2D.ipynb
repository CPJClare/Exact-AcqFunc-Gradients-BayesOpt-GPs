{
  "nbformat": 4,
  "nbformat_minor": 0,
  "metadata": {
    "colab": {
      "name": "4. SumSquares_GP_dERM_2D.ipynb",
      "provenance": [],
      "collapsed_sections": []
    },
    "kernelspec": {
      "name": "python3",
      "display_name": "Python 3"
    },
    "language_info": {
      "name": "python"
    }
  },
  "cells": [
    {
      "cell_type": "markdown",
      "metadata": {
        "id": "Dqn4dFx7Z2Ir"
      },
      "source": [
        "\n",
        "SumSquares: 2D\n"
      ]
    },
    {
      "cell_type": "code",
      "metadata": {
        "id": "MJTM_GZZZb5x",
        "colab": {
          "base_uri": "https://localhost:8080/"
        },
        "outputId": "c7714111-26ea-4e67-81c6-4772cb16a33f"
      },
      "source": [
        "pip install pyGPGO\n"
      ],
      "execution_count": 1,
      "outputs": [
        {
          "output_type": "stream",
          "name": "stdout",
          "text": [
            "Collecting pyGPGO\n",
            "  Downloading pyGPGO-0.5.1.tar.gz (14 kB)\n",
            "Requirement already satisfied: numpy in /usr/local/lib/python3.7/dist-packages (from pyGPGO) (1.21.5)\n",
            "Requirement already satisfied: mkl in /usr/local/lib/python3.7/dist-packages (from pyGPGO) (2019.0)\n",
            "Requirement already satisfied: scipy in /usr/local/lib/python3.7/dist-packages (from pyGPGO) (1.4.1)\n",
            "Requirement already satisfied: joblib in /usr/local/lib/python3.7/dist-packages (from pyGPGO) (1.1.0)\n",
            "Requirement already satisfied: scikit-learn in /usr/local/lib/python3.7/dist-packages (from pyGPGO) (1.0.2)\n",
            "Requirement already satisfied: Theano-PyMC in /usr/local/lib/python3.7/dist-packages (from pyGPGO) (1.1.2)\n",
            "Requirement already satisfied: pyMC3 in /usr/local/lib/python3.7/dist-packages (from pyGPGO) (3.11.4)\n",
            "Requirement already satisfied: intel-openmp in /usr/local/lib/python3.7/dist-packages (from mkl->pyGPGO) (2022.0.2)\n",
            "Requirement already satisfied: fastprogress>=0.2.0 in /usr/local/lib/python3.7/dist-packages (from pyMC3->pyGPGO) (1.0.2)\n",
            "Requirement already satisfied: pandas>=0.24.0 in /usr/local/lib/python3.7/dist-packages (from pyMC3->pyGPGO) (1.3.5)\n",
            "Requirement already satisfied: typing-extensions>=3.7.4 in /usr/local/lib/python3.7/dist-packages (from pyMC3->pyGPGO) (3.10.0.2)\n",
            "Requirement already satisfied: cachetools>=4.2.1 in /usr/local/lib/python3.7/dist-packages (from pyMC3->pyGPGO) (4.2.4)\n",
            "Requirement already satisfied: arviz>=0.11.0 in /usr/local/lib/python3.7/dist-packages (from pyMC3->pyGPGO) (0.11.4)\n",
            "Requirement already satisfied: dill in /usr/local/lib/python3.7/dist-packages (from pyMC3->pyGPGO) (0.3.4)\n",
            "Requirement already satisfied: patsy>=0.5.1 in /usr/local/lib/python3.7/dist-packages (from pyMC3->pyGPGO) (0.5.2)\n",
            "Requirement already satisfied: semver>=2.13.0 in /usr/local/lib/python3.7/dist-packages (from pyMC3->pyGPGO) (2.13.0)\n",
            "Requirement already satisfied: filelock in /usr/local/lib/python3.7/dist-packages (from Theano-PyMC->pyGPGO) (3.6.0)\n",
            "Requirement already satisfied: matplotlib>=3.0 in /usr/local/lib/python3.7/dist-packages (from arviz>=0.11.0->pyMC3->pyGPGO) (3.2.2)\n",
            "Requirement already satisfied: netcdf4 in /usr/local/lib/python3.7/dist-packages (from arviz>=0.11.0->pyMC3->pyGPGO) (1.5.8)\n",
            "Requirement already satisfied: setuptools>=38.4 in /usr/local/lib/python3.7/dist-packages (from arviz>=0.11.0->pyMC3->pyGPGO) (57.4.0)\n",
            "Requirement already satisfied: xarray>=0.16.1 in /usr/local/lib/python3.7/dist-packages (from arviz>=0.11.0->pyMC3->pyGPGO) (0.18.2)\n",
            "Requirement already satisfied: packaging in /usr/local/lib/python3.7/dist-packages (from arviz>=0.11.0->pyMC3->pyGPGO) (21.3)\n",
            "Requirement already satisfied: kiwisolver>=1.0.1 in /usr/local/lib/python3.7/dist-packages (from matplotlib>=3.0->arviz>=0.11.0->pyMC3->pyGPGO) (1.3.2)\n",
            "Requirement already satisfied: cycler>=0.10 in /usr/local/lib/python3.7/dist-packages (from matplotlib>=3.0->arviz>=0.11.0->pyMC3->pyGPGO) (0.11.0)\n",
            "Requirement already satisfied: python-dateutil>=2.1 in /usr/local/lib/python3.7/dist-packages (from matplotlib>=3.0->arviz>=0.11.0->pyMC3->pyGPGO) (2.8.2)\n",
            "Requirement already satisfied: pyparsing!=2.0.4,!=2.1.2,!=2.1.6,>=2.0.1 in /usr/local/lib/python3.7/dist-packages (from matplotlib>=3.0->arviz>=0.11.0->pyMC3->pyGPGO) (3.0.7)\n",
            "Requirement already satisfied: pytz>=2017.3 in /usr/local/lib/python3.7/dist-packages (from pandas>=0.24.0->pyMC3->pyGPGO) (2018.9)\n",
            "Requirement already satisfied: six in /usr/local/lib/python3.7/dist-packages (from patsy>=0.5.1->pyMC3->pyGPGO) (1.15.0)\n",
            "Requirement already satisfied: cftime in /usr/local/lib/python3.7/dist-packages (from netcdf4->arviz>=0.11.0->pyMC3->pyGPGO) (1.5.2)\n",
            "Requirement already satisfied: threadpoolctl>=2.0.0 in /usr/local/lib/python3.7/dist-packages (from scikit-learn->pyGPGO) (3.1.0)\n",
            "Building wheels for collected packages: pyGPGO\n",
            "  Building wheel for pyGPGO (setup.py) ... \u001b[?25l\u001b[?25hdone\n",
            "  Created wheel for pyGPGO: filename=pyGPGO-0.5.1-py3-none-any.whl size=19879 sha256=3869595c4225d9ff755ee8697c09cf36fbfbd67678b5fb427db3a951f1fc3546\n",
            "  Stored in directory: /root/.cache/pip/wheels/c8/5d/0b/2160114e2f1b87791c51b66cf07f89831dbb6f49167950316f\n",
            "Successfully built pyGPGO\n",
            "Installing collected packages: pyGPGO\n",
            "Successfully installed pyGPGO-0.5.1\n"
          ]
        }
      ]
    },
    {
      "cell_type": "code",
      "metadata": {
        "id": "ZJSSPbwPaEUB"
      },
      "source": [
        "### Import:\n",
        "\n",
        "import numpy as np\n",
        "import scipy as sp\n",
        "import pandas as pd\n",
        "import matplotlib.pyplot as plt\n",
        "import warnings\n",
        "import itertools\n",
        "\n",
        "from pyGPGO.GPGO import GPGO\n",
        "from pyGPGO.surrogates.GaussianProcess import GaussianProcess\n",
        "from pyGPGO.acquisition import Acquisition\n",
        "from pyGPGO.covfunc import squaredExponential\n",
        "\n",
        "from joblib import Parallel, delayed\n",
        "from numpy.linalg import solve, cholesky\n",
        "from scipy.spatial.distance import cdist\n",
        "from scipy.optimize import minimize\n",
        "from scipy.stats import norm\n",
        "import time\n",
        "\n",
        "warnings.filterwarnings(\"ignore\", category=RuntimeWarning)\n"
      ],
      "execution_count": 2,
      "outputs": []
    },
    {
      "cell_type": "code",
      "metadata": {
        "id": "OeYcTUNoaJWa"
      },
      "source": [
        "### Inputs:\n",
        "\n",
        "func = 'SumSquares'\n",
        "n_test = 500\n",
        "eps = 1e-08\n",
        "\n",
        "util_grad_exact = 'dERM_GP'\n",
        "util_grad_approx = 'ExpectedRegret'\n",
        "\n",
        "n_init = 5 # random initialisations\n",
        "iters = 20\n",
        "opt = True"
      ],
      "execution_count": 3,
      "outputs": []
    },
    {
      "cell_type": "code",
      "metadata": {
        "id": "xpaEOjdzaPMS"
      },
      "source": [
        "### Objective Function - Sum Squares(x) 2-D:\n",
        "\n",
        "def objfunc(x1_training, x2_training):\n",
        "            return  operator * (  1 * x1_training ** 2\n",
        "                            + 2 * x2_training ** 2\n",
        "                            )\n",
        "        \n",
        "# Constraints:\n",
        "lb = -10\n",
        "ub = +10\n",
        "    \n",
        "# Input array dimension(s):\n",
        "dim = 2\n",
        "\n",
        "# 2-D inputs' parameter bounds:\n",
        "param = {'x1_training': ('cont', [lb, ub]),\n",
        "                 'x2_training': ('cont', [lb, ub])\n",
        "                 }\n",
        "    \n",
        "# True y bounds:\n",
        "y_lb = 0\n",
        "operator = -1 # targets global minimum \n",
        "y_global_orig = y_lb * operator # targets global minimum\n",
        "    \n",
        "# Test data:\n",
        "x1_test = np.linspace(lb, ub, n_test)\n",
        "x2_test = np.linspace(lb, ub, n_test)\n",
        "x_test = np.column_stack((x1_test, x2_test))\n"
      ],
      "execution_count": 4,
      "outputs": []
    },
    {
      "cell_type": "code",
      "metadata": {
        "id": "eYpI3Zm4aGxi"
      },
      "source": [
        "n_start_AcqFunc = iters #multi-start iterations to avoid local optima in AcqFunc optimization\n"
      ],
      "execution_count": 5,
      "outputs": []
    },
    {
      "cell_type": "code",
      "metadata": {
        "id": "oO_GUmOoaV0T"
      },
      "source": [
        "### Cumulative Regret Calculator:\n",
        "\n",
        "def min_max_array(x):\n",
        "    new_list = []\n",
        "    for i, num in enumerate(x):\n",
        "            new_list.append(np.min(x[0:i+1]))\n",
        "    return new_list\n",
        "  "
      ],
      "execution_count": 6,
      "outputs": []
    },
    {
      "cell_type": "code",
      "metadata": {
        "id": "kuuJx0IMam9S"
      },
      "source": [
        "### Surrogate derivatives: \n",
        "\n",
        "cov_func = squaredExponential()\n",
        "\n",
        "def kronDelta(X, Xstar):                     # Kronecker's Delta method\n",
        "    return cdist(X, Xstar) < np.finfo(np.float32).eps\n",
        "\n",
        "def se(X, Xstar, sigmaf, l, sigman):         # S.E. kernel method\n",
        "    return sigmaf * np.exp(-0.5 * cdist(X, Xstar) ** 2 / l ** 2) + sigman * kronDelta(X, Xstar)\n",
        "\n",
        "def delta(X, Xstar):                         # Distance between training X and test Xstar vectors\n",
        "    return (X - Xstar)\n",
        "   \n",
        "def der_covmat(X, Xstar, sigmaf, l, sigman): # Covariance matrix derivative terms (i.e. exact, first-order)\n",
        "    nx = len(X)\n",
        "    ny = len(Xstar)\n",
        "    return np.round(np.array([(delta(np.atleast_2d(i), np.atleast_2d(j))[0] * se(np.atleast_2d(i), np.atleast_2d(j), sigmaf, l, sigman)[0]).sum() for (i, j) in itertools.product(X, Xstar)]).reshape(nx, ny), 8)\n",
        "\n",
        "class dGaussianProcess(GaussianProcess):    # Via inheritance, also optimises hyperparameters when opt = TRUE\n",
        "    \n",
        "    def AcqGrad(self, Xstar):               # Method returning exact, first-order derivatives of the GP's posterior mean and standard deviation\n",
        "        Xstar = np.atleast_2d(Xstar)\n",
        "        Kstar = self.covfunc.K(self.X, Xstar).T\n",
        "        \n",
        "        dKstar = der_covmat(self.X, Xstar, self.covfunc.sigmaf, self.covfunc.l, self.covfunc.sigman).T\n",
        "        alpha_Kstar = np.dot(np.linalg.inv(self.K + (self.covfunc.sigman**2) * np.eye(len(self.X))), Kstar.T)\n",
        "        \n",
        "        dm = np.dot(dKstar, self.alpha)\n",
        "        ds = -2 * np.dot(dKstar, alpha_Kstar)\n",
        "        \n",
        "        return dm, ds           \n",
        "        "
      ],
      "execution_count": 7,
      "outputs": []
    },
    {
      "cell_type": "code",
      "metadata": {
        "id": "_Dc3YVHVaXz7"
      },
      "source": [
        "class Acquisition_new(Acquisition):    \n",
        "    def __init__(self, mode, eps=eps, **params):\n",
        "        \n",
        "        self.params = params\n",
        "        self.eps = eps\n",
        "\n",
        "        mode_dict = {\n",
        "            'ExpectedRegret': self.ExpectedRegret,\n",
        "            'dERM_GP': self.dERM_GP\n",
        "        }\n",
        "\n",
        "        self.f = mode_dict[mode]\n",
        "    \n",
        "    def ExpectedRegret(self, tau, mean, std):\n",
        "        z = (mean - y_global_orig - self.eps) / (std + self.eps)\n",
        "        return (mean - y_global_orig) * norm.cdf(z) + std * norm.pdf(z)[0]\n",
        "\n",
        "\n",
        "    def dERM_GP(self, tau, mean, std, ds, dm):\n",
        "        gamma = (mean - y_global_orig - self.eps) / (std + self.eps)\n",
        "        gamma_h = (mean - tau) / (std + self.eps)\n",
        "        dsdx = ds / (2 * (std + self.eps))\n",
        "        dmdx = (dm - gamma * dsdx) / (std + self.eps)\n",
        "        \n",
        "        f = (std + self.eps) * (gamma * norm.cdf(gamma) + norm.pdf(gamma))\n",
        "        df1 = f / (std + self.eps) * dsdx \n",
        "        df2 = (std + self.eps) * norm.cdf(gamma) * dmdx\n",
        "        df = (df1 + df2)[0]\n",
        "        df_arr = []\n",
        "\n",
        "        for j in range(0, dim):\n",
        "          df_arr.append(df)\n",
        "        return f, np.asarray(df_arr).transpose()\n",
        "        \n",
        "    def d_eval(self, tau, mean, std, ds, dm):\n",
        "    \n",
        "        return self.f(tau, mean, std, ds, dm, **self.params)\n",
        "        "
      ],
      "execution_count": 8,
      "outputs": []
    },
    {
      "cell_type": "code",
      "metadata": {
        "id": "PITEQC8YSl7i"
      },
      "source": [
        "## GPGO_multi: \n",
        "\n",
        "class GPGO_multi(GPGO):\n",
        "    n_start = n_start_AcqFunc\n",
        "\n",
        "    def __init__(self, surrogate, acquisition, f, parameter_dict, n_jobs=1):\n",
        "        self.GP = surrogate\n",
        "        self.A = acquisition\n",
        "        self.f = f\n",
        "        self.parameters = parameter_dict\n",
        "        self.n_jobs = n_jobs\n",
        "\n",
        "        self.parameter_key = list(parameter_dict.keys())\n",
        "        self.parameter_value = list(parameter_dict.values())\n",
        "        self.parameter_type = [p[0] for p in self.parameter_value]\n",
        "        self.parameter_range = [p[1] for p in self.parameter_value]\n",
        "\n",
        "        self.history = []\n",
        "        self.header =   'Evaluation \\t Proposed point \\t  Current eval. \\t  Best eval. \\t         Max AcqFunc.'\n",
        "        self.template = '{:3}\\t {}\\t {:3}\\t {:3}\\t {:3}'\n",
        "\n",
        "    def _optimizeAcq(self, method='L-BFGS-B', n_start=n_start_AcqFunc):\n",
        "        \n",
        "        start_points_dict = [self._sampleParam() for i in range(n_start)]\n",
        "        start_points_arr = np.array([list(s.values())\n",
        "                                     for s in start_points_dict])\n",
        "        x_best = np.empty((n_start, len(self.parameter_key)))\n",
        "        f_best = np.empty((n_start,))\n",
        "        opt = Parallel(n_jobs=self.n_jobs)(delayed(minimize)(self._acqWrapper,\n",
        "                                                                 x0=start_point,\n",
        "                                                                 method=method,\n",
        "                                                                 bounds=self.parameter_range) for start_point in\n",
        "                                               start_points_arr)\n",
        "        x_best = np.array([res.x for res in opt])\n",
        "        f_best = np.array([np.atleast_1d(res.fun)[0] for res in opt])\n",
        "        f_best_min = min(f_best)\n",
        "\n",
        "        self.x_best = x_best\n",
        "        self.f_best = f_best\n",
        "        self.f_best_min = f_best_min\n",
        "        self.best = x_best[np.argmin(f_best)]\n",
        "        self.start_points_arr = start_points_arr\n",
        "        \n",
        "        self.history.append(self.f_best_min)\n",
        "          \n",
        "    def _printInit(self):\n",
        "        print(self.header)\n",
        "        for init_eval in range(self.init_evals):\n",
        "            print(self.template.format('init', self.GP.X[init_eval], self.GP.y[init_eval], self.tau, ''))\n",
        "      \n",
        "    def _printCurrent(self):\n",
        "        OKGREEN = '\\033[92m'\n",
        "        ENDC = '\\033[0m'\n",
        "        BOLD = '\\033[1m'\n",
        "        eval = str(len(self.GP.y) - self.init_evals)\n",
        "        proposed = str(self.best)\n",
        "        curr_eval = str(self.GP.y[-1])\n",
        "        curr_best = str(self.tau)\n",
        "        max_acqfunc = str(self.f_best_min)\n",
        "        if float(curr_eval) >= float(curr_best):\n",
        "            eval = BOLD + OKGREEN + eval + ENDC\n",
        "            proposed = BOLD + OKGREEN + proposed + ENDC\n",
        "            curr_eval = BOLD + OKGREEN + curr_eval + ENDC\n",
        "            curr_best = BOLD + OKGREEN + curr_best + ENDC\n",
        "            max_acqfunc = BOLD + OKGREEN + str(self.f_best_min) + ENDC\n",
        "        print(self.template.format(eval, proposed, curr_eval, curr_best, max_acqfunc))\n",
        "\n",
        "    def run(self, max_iter=10, init_evals=3, resume=False):\n",
        "        \n",
        "        if not resume:\n",
        "            self.init_evals = init_evals\n",
        "            self._firstRun(self.init_evals)\n",
        "            self._printInit()\n",
        "        for iteration in range(max_iter):\n",
        "            self._optimizeAcq()\n",
        "            self.updateGP()\n",
        "            self._printCurrent()\n"
      ],
      "execution_count": 9,
      "outputs": []
    },
    {
      "cell_type": "code",
      "metadata": {
        "id": "b_B-w81BJxKN"
      },
      "source": [
        "## dGPGO:\n",
        "\n",
        "grad = 1\n",
        "\n",
        "class dGPGO(GPGO):\n",
        "    n_start = n_start_AcqFunc\n",
        "\n",
        "    def __init__(self, surrogate, acquisition, f, parameter_dict, n_jobs=1):\n",
        "        self.GP = surrogate\n",
        "        self.A = acquisition\n",
        "        self.f = f\n",
        "        self.parameters = parameter_dict\n",
        "        self.n_jobs = n_jobs\n",
        "\n",
        "        self.parameter_key = list(parameter_dict.keys())\n",
        "        self.parameter_value = list(parameter_dict.values())\n",
        "        self.parameter_type = [p[0] for p in self.parameter_value]\n",
        "        self.parameter_range = [p[1] for p in self.parameter_value]\n",
        "\n",
        "        self.history = []\n",
        "        self.header =   'Evaluation \\t Proposed point \\t  Current eval. \\t  Best eval. \\t         Max AcqFunc.'\n",
        "        self.template = '{:3}\\t {}\\t {:3}\\t {:3}\\t {:3}'\n",
        "\n",
        "    def d_optimizeAcq(self, method='L-BFGS-B', n_start=n_start_AcqFunc):\n",
        "        start_points_dict = [self._sampleParam() for i in range(n_start)]\n",
        "        start_points_arr = np.array([list(s.values())\n",
        "                                     for s in start_points_dict])\n",
        "        x_best = np.empty((n_start, len(self.parameter_key)))\n",
        "        f_best = np.empty((n_start,))\n",
        "        opt = Parallel(n_jobs=self.n_jobs)(delayed(minimize)(self.acqfunc,\n",
        "                                                                 x0=start_point,\n",
        "                                                                 method=method,\n",
        "                                                                 jac = True,\n",
        "                                                                 bounds=self.parameter_range) for start_point in\n",
        "                                               start_points_arr)\n",
        "        x_best = np.array([res.x for res in opt])\n",
        "        f_best = np.array([np.atleast_1d(res.fun)[0] for res in opt])\n",
        "        f_best_min = min(f_best)\n",
        "\n",
        "        self.x_best = x_best\n",
        "        self.f_best = f_best\n",
        "        self.f_best_min = f_best_min\n",
        "        self.best = x_best[np.argmin(f_best)]\n",
        "        self.start_points_arr = start_points_arr\n",
        "\n",
        "        self.history.append(self.f_best_min)\n",
        "\n",
        "    def _printInit(self):\n",
        "        print(self.header)\n",
        "        for init_eval in range(self.init_evals):\n",
        "            print(self.template.format('init', self.GP.X[init_eval], self.GP.y[init_eval], self.tau, ''))\n",
        "      \n",
        "    def _printCurrent(self):\n",
        "        OKGREEN = '\\033[92m'\n",
        "        ENDC = '\\033[0m'\n",
        "        BOLD = '\\033[1m'\n",
        "        eval = str(len(self.GP.y) - self.init_evals)\n",
        "        proposed = str(self.best)\n",
        "        curr_eval = str(self.GP.y[-1])\n",
        "        curr_best = str(self.tau)\n",
        "        max_acqfunc = str(self.f_best_min)\n",
        "        if float(curr_eval) >= float(curr_best):\n",
        "            eval = BOLD + OKGREEN + eval + ENDC\n",
        "            proposed = BOLD + OKGREEN + proposed + ENDC\n",
        "            curr_eval = BOLD + OKGREEN + curr_eval + ENDC\n",
        "            curr_best = BOLD + OKGREEN + curr_best + ENDC\n",
        "            max_acqfunc = BOLD + OKGREEN + str(self.f_best_min) + ENDC\n",
        "        print(self.template.format(eval, proposed, curr_eval, curr_best, max_acqfunc))\n",
        "\n",
        "    def run(self, max_iter=10, init_evals=3, resume=False):\n",
        "        \n",
        "        if not resume:\n",
        "            self.init_evals = init_evals\n",
        "            self._firstRun(self.init_evals)\n",
        "            self._printInit()\n",
        "        for iteration in range(max_iter):\n",
        "            self.d_optimizeAcq()\n",
        "            self.updateGP()\n",
        "            self._printCurrent()\n",
        "\n",
        "    def acqfunc(self, xnew, n_start=n_start_AcqFunc):\n",
        "        new_mean, new_var = self.GP.predict(xnew, return_std=True)\n",
        "        new_std = np.sqrt(new_var + eps)\n",
        "        dm, ds = self.GP.AcqGrad(xnew)\n",
        "        f, df = self.A.d_eval(self.tau, new_mean, new_std, ds=ds, dm=dm)\n",
        "\n",
        "        return -f, -df * grad\n"
      ],
      "execution_count": 10,
      "outputs": []
    },
    {
      "cell_type": "code",
      "metadata": {
        "id": "qXIKGuXVGEg2"
      },
      "source": [
        "###Reproducible set-seeds:\n",
        "\n",
        "run_num_1 = 1\n",
        "run_num_2 = 2\n",
        "run_num_3 = 3\n",
        "run_num_4 = 4\n",
        "run_num_5 = 5\n",
        "run_num_6 = 6\n",
        "run_num_7 = 7\n",
        "run_num_8 = 8\n",
        "run_num_9 = 9\n",
        "run_num_10 = 10\n",
        "run_num_11 = 11\n",
        "run_num_12 = 12\n",
        "run_num_13 = 13\n",
        "run_num_14 = 14\n",
        "run_num_15 = 15\n",
        "run_num_16 = 16\n",
        "run_num_17 = 17\n",
        "run_num_18 = 18\n",
        "run_num_19 = 19\n",
        "run_num_20 = 20\n"
      ],
      "execution_count": 11,
      "outputs": []
    },
    {
      "cell_type": "code",
      "metadata": {
        "colab": {
          "base_uri": "https://localhost:8080/"
        },
        "id": "JEhagQmnTVIK",
        "outputId": "cbb14c5d-3f52-4a5d-f0a2-78466052b1ad"
      },
      "source": [
        "start_approx = time.time()\n",
        "start_approx\n"
      ],
      "execution_count": 12,
      "outputs": [
        {
          "output_type": "execute_result",
          "data": {
            "text/plain": [
              "1645702739.3675935"
            ]
          },
          "metadata": {},
          "execution_count": 12
        }
      ]
    },
    {
      "cell_type": "code",
      "metadata": {
        "colab": {
          "base_uri": "https://localhost:8080/"
        },
        "id": "aH0YSTXufD1v",
        "outputId": "d041bf05-be8b-42d6-b705-b70f1a625fa8"
      },
      "source": [
        "### ESTIMATED GP ERM GRADIENTS\n",
        "\n",
        "np.random.seed(run_num_1)\n",
        "surrogate_approx_1 = GaussianProcess(cov_func, optimize=opt)\n",
        "\n",
        "approx_1 = GPGO_multi(surrogate_approx_1, Acquisition_new(util_grad_approx), objfunc, param)\n",
        "approx_1.run(init_evals=n_init, max_iter=iters)\n"
      ],
      "execution_count": 13,
      "outputs": [
        {
          "output_type": "stream",
          "name": "stdout",
          "text": [
            "Evaluation \t Proposed point \t  Current eval. \t  Best eval. \t         Max AcqFunc.\n",
            "init\t [-1.65955991  4.40648987]\t -41.5884450098667\t -5.468172821636052\t    \n",
            "init\t [-9.9977125  -3.95334855]\t -131.21218477957908\t -5.468172821636052\t    \n",
            "init\t [-7.06488218 -8.1532281 ]\t -182.86281732102734\t -5.468172821636052\t    \n",
            "init\t [-6.27479577 -3.08878546]\t -58.4542532110911\t -5.468172821636052\t    \n",
            "init\t [-2.06465052  0.77633468]\t -5.468172821636052\t -5.468172821636052\t    \n",
            "1  \t [ 7.89213327 -8.29911577]\t -200.03641276683908\t -5.468172821636052\t -0.7978846605384292\n",
            "2  \t [7.66612182 2.47344414]\t -71.00527566059496\t -5.468172821636052\t -0.7978846605384292\n",
            "3  \t [1.62717855 9.40039978]\t -179.3827421328839\t -5.468172821636052\t -0.7978846605384292\n",
            "4  \t [-9.56950389  8.95940422]\t -252.11725289788865\t -5.468172821636052\t -0.7978846605384292\n",
            "5  \t [ 2.56152397 -4.28847437]\t -43.34342980630102\t -5.468172821636052\t -0.7978846495952935\n",
            "6  \t [  1.1169921 -10.       ]\t -201.2476713447619\t -5.468172821636052\t -0.7978843444416608\n",
            "7  \t [-7.49060555  3.35024517]\t -78.55745694801789\t -5.468172821636052\t -0.7978833181629474\n",
            "8  \t [9.02387571 8.10804067]\t -212.91097997027106\t -5.468172821636052\t -0.7978837593927947\n",
            "9  \t [10.         -2.85188157]\t -116.26645702057576\t -5.468172821636052\t -0.7978818966139578\n",
            "10 \t [2.64920007 1.04053183]\t -9.183673986517087\t -5.468172821636052\t -0.7978325305462443\n",
            "11 \t [-3.97558985 10.        ]\t -215.8053146464245\t -5.468172821636052\t -0.7978729479494676\n",
            "12 \t [-2.16296243 -5.88048627]\t -73.83864392235628\t -5.468172821636052\t -0.7977092176571832\n",
            "13 \t [3.84774545 5.14667398]\t -67.78165124763886\t -5.468172821636052\t -0.7968491756765997\n",
            "14 \t [ 5.72317188 -1.50577922]\t -37.28943847440394\t -5.468172821636052\t -0.793340457108741\n",
            "15 \t [ -3.2240126 -10.       ]\t -210.39425723570147\t -5.468172821636052\t -0.7864944208160024\n",
            "16 \t [-0.60182737 -2.03278941]\t -8.626661735580845\t -5.468172821636052\t -0.7798397783952848\n",
            "17 \t [-10.           0.24203812]\t -100.11716490136713\t -5.468172821636052\t -0.7862156244969777\n",
            "18 \t [ 5.53549283 10.        ]\t -230.64168084260308\t -5.468172821636052\t -0.7601283096984108\n",
            "19 \t [-5.00573685  6.12614464]\t -100.11669775618519\t -5.468172821636052\t -0.7533880568751246\n",
            "20 \t [-5.00908078  0.44864671]\t -25.493458011175733\t -5.468172821636052\t -0.7557007800161759\n"
          ]
        }
      ]
    },
    {
      "cell_type": "code",
      "metadata": {
        "colab": {
          "base_uri": "https://localhost:8080/"
        },
        "id": "wTxsSZxFGBB5",
        "outputId": "fd9544b7-f699-4df3-e324-9f5c1069e0dc"
      },
      "source": [
        "### ESTIMATED GP ERM GRADIENTS\n",
        "\n",
        "np.random.seed(run_num_2)\n",
        "surrogate_approx_2 = GaussianProcess(cov_func, optimize=opt)\n",
        "\n",
        "approx_2 = GPGO_multi(surrogate_approx_2, Acquisition_new(util_grad_approx), objfunc, param)\n",
        "approx_2.run(init_evals=n_init, max_iter=iters)\n"
      ],
      "execution_count": 14,
      "outputs": [
        {
          "output_type": "stream",
          "name": "stdout",
          "text": [
            "Evaluation \t Proposed point \t  Current eval. \t  Best eval. \t         Max AcqFunc.\n",
            "init\t [-1.28010196 -9.48147536]\t -181.43541115584648\t -4.333099000920773\t    \n",
            "init\t [ 0.99324956 -1.29355215]\t -4.333099000920773\t -4.333099000920773\t    \n",
            "init\t [-1.59264396 -3.39330358]\t -25.565533148780872\t -4.333099000920773\t    \n",
            "init\t [-5.90702732  2.38541933]\t -46.27342248166184\t -4.333099000920773\t    \n",
            "init\t [-4.00690653 -4.6634545 ]\t -59.55091562094812\t -4.333099000920773\t    \n",
            "1  \t [4.01504693 9.2910216 ]\t -188.7667666769868\t -4.333099000920773\t -0.7978846605384292\n",
            "2  \t [ 9.4582138 -7.7444757]\t -209.411615827435\t -4.333099000920773\t -0.7978846605384292\n",
            "3  \t [ 9.07319925 -1.03970567]\t -84.48492034594878\t -4.333099000920773\t -0.7978846521220021\n",
            "4  \t [-9.13741927 -7.85625192]\t -206.93381928482216\t -4.333099000920773\t -0.7978844862546044\n",
            "5  \t [9.90347629 4.73174783]\t -142.85771782951963\t -4.333099000920773\t -0.7978837856684502\n",
            "6  \t [-3.25263411  9.0402141 ]\t -174.03057068772284\t -4.333099000920773\t -0.7978846603007732\n",
            "7  \t [-9.01290675  7.88655796]\t -205.6280811546718\t -4.333099000920773\t -0.7978832409742866\n",
            "8  \t [0.91788639 4.23601693]\t -36.73019421136183\t -4.333099000920773\t -0.7978832427936785\n",
            "9  \t [-10.         -2.0092948]\t -108.07453115940625\t -4.333099000920773\t -0.7978831384668449\n",
            "10 \t [ 4.05372345 -5.55729273]\t -78.19967873298117\t -4.333099000920773\t -0.7978812794695155\n",
            "11 \t [ 9.79314554 10.        ]\t -295.9056995837332\t -4.333099000920773\t -0.7978492232044488\n",
            "12 \t [  4.90993564 -10.        ]\t -224.1074679872196\t -4.333099000920773\t -0.7970508508887836\n",
            "13 \t [5.22523872 2.14432117]\t -36.49934622793148\t -4.333099000920773\t -0.7976847670310427\n",
            "14 \t [-1.9173604   0.96512813]\t -5.539215544867245\t -4.333099000920773\t -0.793980629709697\n",
            "15 \t [-10.           3.12110763]\t -119.48262571759297\t -4.333099000920773\t -0.7954327586827158\n",
            "16 \t [ -5.48533293 -10.        ]\t -230.08887731188327\t -4.333099000920773\t -0.785610177485191\n",
            "17 \t [ 4.66227117 -1.60941397]\t -26.91719908830918\t -4.333099000920773\t -0.7822078743293268\n",
            "18 \t [-2.88871779  4.7971716 ]\t -54.370401131526165\t -4.333099000920773\t -0.780201868733445\n",
            "19 \t [-5.90531858 -1.36494389]\t -38.59893118520925\t -4.333099000920773\t -0.7722196128224647\n",
            "20 \t [5.94717813 5.74230611]\t -101.31708663204408\t -4.333099000920773\t -0.7654387716014139\n"
          ]
        }
      ]
    },
    {
      "cell_type": "code",
      "metadata": {
        "colab": {
          "base_uri": "https://localhost:8080/"
        },
        "id": "-dgzIrUIGCGT",
        "outputId": "0b03840f-4e9b-4fd5-d5ac-c78d0076f5ad"
      },
      "source": [
        "### ESTIMATED GP ERM GRADIENTS\n",
        "\n",
        "np.random.seed(run_num_3)\n",
        "surrogate_approx_3 = GaussianProcess(cov_func, optimize=opt)\n",
        "\n",
        "approx_3 = GPGO_multi(surrogate_approx_3, Acquisition_new(util_grad_approx), objfunc, param)\n",
        "approx_3.run(init_evals=n_init, max_iter=iters)\n"
      ],
      "execution_count": 15,
      "outputs": [
        {
          "output_type": "stream",
          "name": "stdout",
          "text": [
            "Evaluation \t Proposed point \t  Current eval. \t  Best eval. \t         Max AcqFunc.\n",
            "init\t [1.01595805 4.16295645]\t -35.692583610916834\t -17.582120911078754\t    \n",
            "init\t [-4.18190522  0.2165521 ]\t -17.582120911078754\t -17.582120911078754\t    \n",
            "init\t [7.85893909 7.92586178]\t -187.4014934415638\t -17.582120911078754\t    \n",
            "init\t [-7.48829379 -5.85514244]\t -124.63992981683481\t -17.582120911078754\t    \n",
            "init\t [-8.97065593 -1.18380313]\t -83.2754475728413\t -17.582120911078754\t    \n",
            "1  \t [ 5.60629529 -3.87272935]\t -61.42661215628989\t -17.582120911078754\t -0.7978846605384292\n",
            "2  \t [-8.52752662  7.84786375]\t -195.89664111179286\t -17.582120911078754\t -0.7978846605384291\n",
            "3  \t [-0.35005916 -4.25900471]\t -36.40078359655554\t -17.582120911078754\t -0.7978842513220427\n",
            "4  \t [ 6.79103763 -9.52147302]\t -227.43508907727622\t -17.582120911078754\t -0.7978837637189822\n",
            "5  \t [ 1.26866692 10.        ]\t -201.60951575409274\t -17.582120911078754\t -0.7978843132071729\n",
            "6  \t [4.89222894 1.05514525]\t -26.160567008119227\t -17.582120911078754\t -0.7978846469903254\n",
            "7  \t [-2.10496259 -9.55536227]\t -187.04076369171705\t -17.582120911078754\t -0.7978846605384292\n",
            "8  \t [-7.1020649   3.32961462]\t -72.61199283589302\t -17.582120911078754\t -0.7978846512945381\n",
            "9  \t [-3.563219    6.69074367]\t -102.22863138699154\t -17.582120911078754\t -0.7978846605384292\n",
            "10 \t [-10. -10.]\t -300.0\t -17.582120911078754\t -0.7978846534046053\n",
            "11 \t [ 8.83706845 -0.31089701]\t -78.28709264149269\t -17.582120911078754\t -0.7978846581434961\n",
            "12 \t [ 9.53293622 -5.92826964]\t -161.16563472504623\t -17.582120911078754\t -0.7978837772567605\n",
            "\u001b[1m\u001b[92m13\u001b[0m\t \u001b[1m\u001b[92m[ 0.41903799 -0.06648674]\u001b[0m\t \u001b[1m\u001b[92m-0.18443381052042457\u001b[0m\t \u001b[1m\u001b[92m-0.18443381052042457\u001b[0m\t \u001b[1m\u001b[92m-0.7956156590680827\u001b[0m\n",
            "14 \t [10.          3.90334944]\t -130.47227368480407\t -0.18443381052042457\t -0.7950515379668496\n",
            "15 \t [3.9395278  6.72887155]\t -106.0753039406057\t -0.18443381052042457\t -0.7978790206608374\n",
            "16 \t [ 2.37454536 -7.7477684 ]\t -125.6942960872003\t -0.18443381052042457\t -0.7962477743933731\n",
            "17 \t [-4.11687177 -3.45933477]\t -40.88262726689975\t -0.18443381052042457\t -0.7813837867158854\n",
            "18 \t [ 2.16930621 -1.43549788]\t -8.827197748708638\t -0.18443381052042457\t -0.7770900760808066\n",
            "19 \t [-0.70935677  0.75819966]\t -1.6529204891286522\t -0.18443381052042457\t -0.7833230058342657\n",
            "20 \t [-2.44439649  3.01252398]\t -24.125675654524237\t -0.18443381052042457\t -0.7444476623015968\n"
          ]
        }
      ]
    },
    {
      "cell_type": "code",
      "metadata": {
        "colab": {
          "base_uri": "https://localhost:8080/"
        },
        "id": "hOtG-2sCGCKS",
        "outputId": "15ccf7e1-7974-4093-9384-8a6f187e9c9c"
      },
      "source": [
        "### ESTIMATED GP ERM GRADIENTS\n",
        "\n",
        "np.random.seed(run_num_4)\n",
        "surrogate_approx_4 = GaussianProcess(cov_func, optimize=opt)\n",
        "\n",
        "approx_4 = GPGO_multi(surrogate_approx_4, Acquisition_new(util_grad_approx), objfunc, param)\n",
        "approx_4.run(init_evals=n_init, max_iter=iters)\n"
      ],
      "execution_count": 16,
      "outputs": [
        {
          "output_type": "stream",
          "name": "stdout",
          "text": [
            "Evaluation \t Proposed point \t  Current eval. \t  Best eval. \t         Max AcqFunc.\n",
            "init\t [9.34059678 0.94464498]\t -89.0314565014143\t -27.80880071439404\t    \n",
            "init\t [9.4536872  4.29631987]\t -126.28893057280868\t -27.80880071439404\t    \n",
            "init\t [ 3.95457649 -5.67821009]\t -80.12281484649141\t -27.80880071439404\t    \n",
            "init\t [ 9.5254891 -9.8753949]\t -285.78179120922215\t -27.80880071439404\t    \n",
            "init\t [-4.94035275 -1.30416935]\t -27.80880071439404\t -27.80880071439404\t    \n",
            "1  \t [-6.35109191  8.36766078]\t -180.3718623830372\t -27.80880071439404\t -0.7978846605384292\n",
            "2  \t [1.43282743 6.87413988]\t -96.56059262521096\t -27.80880071439404\t -0.7978846605373868\n",
            "3  \t [ -1.01718283 -10.        ]\t -201.03466091024856\t -27.80880071439404\t -0.7978846529819701\n",
            "4  \t [-10.           1.63643071]\t -105.35581092429686\t -27.80880071439404\t -0.7978844061716002\n",
            "5  \t [6.76296991 9.58289924]\t -229.40167778295262\t -27.80880071439404\t -0.7978835226942625\n",
            "\u001b[1m\u001b[92m6\u001b[0m\t \u001b[1m\u001b[92m[1.38816048 0.71187876]\u001b[0m\t \u001b[1m\u001b[92m-2.9405322508945897\u001b[0m\t \u001b[1m\u001b[92m-2.9405322508945897\u001b[0m\t \u001b[1m\u001b[92m-0.7978845207736593\u001b[0m\n",
            "7  \t [-9.17779306 -4.93993421]\t -133.03778559310527\t -2.9405322508945897\t -0.7978834708888748\n",
            "8  \t [-3.15300854  3.66085957]\t -36.7452484549982\t -2.9405322508945897\t -0.7978701577078237\n",
            "9  \t [10.        -4.3434752]\t -137.73155354120775\t -2.9405322508945897\t -0.7978549925070398\n",
            "10 \t [ -6.8301366 -10.       ]\t -246.65076600959682\t -2.9405322508945897\t -0.7978765261275936\n",
            "11 \t [-1.14751354 -4.50719653]\t -41.94642840788344\t -2.9405322508945897\t -0.7978172360588853\n",
            "12 \t [ 2.71135264 -9.66992891]\t -194.36648322470168\t -2.9405322508945897\t -0.7978846605374591\n",
            "13 \t [4.67081601 3.08524854]\t -40.8540392428647\t -2.9405322508945897\t -0.7973817250969848\n",
            "14 \t [ 5.21745963 -1.33324113]\t -30.776948809270596\t -2.9405322508945897\t -0.7962606685847536\n",
            "15 \t [-1.88418594 10.        ]\t -203.55015665571736\t -2.9405322508945897\t -0.7965879171915156\n",
            "16 \t [-4.90061597 -5.874354  ]\t -93.03210683575169\t -2.9405322508945897\t -0.7898849494710863\n",
            "\u001b[1m\u001b[92m17\u001b[0m\t \u001b[1m\u001b[92m[-1.38392304 -0.26703104]\u001b[0m\t \u001b[1m\u001b[92m-2.057854134055135\u001b[0m\t \u001b[1m\u001b[92m-2.057854134055135\u001b[0m\t \u001b[1m\u001b[92m-0.778865171115152\u001b[0m\n",
            "18 \t [ 1.66669826 -2.17243291]\t -12.216812544333028\t -2.057854134055135\t -0.7605634294265554\n",
            "19 \t [-10.  10.]\t -300.0\t -2.057854134055135\t -0.7826917675175112\n",
            "20 \t [0.46403183 3.14498045]\t -19.99712963195332\t -2.057854134055135\t -0.7471623935701259\n"
          ]
        }
      ]
    },
    {
      "cell_type": "code",
      "metadata": {
        "colab": {
          "base_uri": "https://localhost:8080/"
        },
        "id": "JF_SxcEvGCOl",
        "outputId": "6fa7f509-81b5-43fe-e008-55f461834757"
      },
      "source": [
        "### ESTIMATED GP ERM GRADIENTS\n",
        "\n",
        "np.random.seed(run_num_5)\n",
        "surrogate_approx_5 = GaussianProcess(cov_func, optimize=opt)\n",
        "\n",
        "approx_5 = GPGO_multi(surrogate_approx_5, Acquisition_new(util_grad_approx), objfunc, param)\n",
        "approx_5.run(init_evals=n_init, max_iter=iters)\n"
      ],
      "execution_count": 17,
      "outputs": [
        {
          "output_type": "stream",
          "name": "stdout",
          "text": [
            "Evaluation \t Proposed point \t  Current eval. \t  Best eval. \t         Max AcqFunc.\n",
            "init\t [-5.56013658  7.41464612]\t -140.86907304317228\t -10.04307293518387\t    \n",
            "init\t [-5.86561689  8.37221816]\t -174.59353533361667\t -10.04307293518387\t    \n",
            "init\t [-0.23177622  2.23487726]\t -10.04307293518387\t -10.04307293518387\t    \n",
            "init\t [5.31815713 0.36835976]\t -28.554173077012745\t -10.04307293518387\t    \n",
            "init\t [-4.06398997 -6.24557543]\t -94.53043928694063\t -10.04307293518387\t    \n",
            "1  \t [9.27861058 9.20453431]\t -255.5395178906315\t -10.04307293518387\t -0.7978846605384292\n",
            "2  \t [ 8.87080164 -7.76615146]\t -199.31733862713008\t -10.04307293518387\t -0.7978846605384292\n",
            "3  \t [0.54357666 9.2242228 ]\t -170.4680482407008\t -10.04307293518387\t -0.7978845917447944\n",
            "4  \t [ 2.49508934 -6.80638133]\t -98.87912454627462\t -10.04307293518387\t -0.7978846045237971\n",
            "5  \t [-10.          -5.51410504]\t -160.81070873939112\t -10.04307293518387\t -0.7978842570042487\n",
            "6  \t [-8.62367183  0.50898962]\t -74.88585667581904\t -10.04307293518387\t -0.7978844538374701\n",
            "7  \t [10.          3.37437018]\t -122.77274820031859\t -10.04307293518387\t -0.7978812581856016\n",
            "8  \t [10.         -2.24257471]\t -110.05828268981585\t -10.04307293518387\t -0.7978699841383748\n",
            "9  \t [4.76231244 5.59397498]\t -85.26473198812782\t -10.04307293518387\t -0.7978630368300965\n",
            "10 \t [-3.63052313 -1.04681314]\t -15.372333722647017\t -10.04307293518387\t -0.7977983265565287\n",
            "11 \t [ -7.49970954 -10.        ]\t -256.24564314003203\t -10.04307293518387\t -0.7977531615939901\n",
            "12 \t [-10.           5.25600121]\t -155.25109749085135\t -10.04307293518387\t -0.7976131723781761\n",
            "\u001b[1m\u001b[92m13\u001b[0m\t \u001b[1m\u001b[92m[ 1.02838049 -2.08325538]\u001b[0m\t \u001b[1m\u001b[92m-9.737472421199964\u001b[0m\t \u001b[1m\u001b[92m-9.737472421199964\u001b[0m\t \u001b[1m\u001b[92m-0.7975834207983654\u001b[0m\n",
            "14 \t [ -1.11930233 -10.        ]\t -201.25283770726364\t -9.737472421199964\t -0.79739611439309\n",
            "15 \t [ 5.79649335 -3.87269068]\t -63.594801372412874\t -9.737472421199964\t -0.7943695258580624\n",
            "16 \t [-4.49195948  2.99880287]\t -38.16333724611461\t -9.737472421199964\t -0.795957470360341\n",
            "17 \t [-1.52613312  5.56590906]\t -64.28776952665868\t -9.737472421199964\t -0.7818514945226855\n",
            "18 \t [ 4.86538358 10.        ]\t -223.67195741764797\t -9.737472421199964\t -0.791092787227427\n",
            "19 \t [-10.  10.]\t -300.0\t -9.737472421199964\t -0.7954628378250596\n",
            "20 \t [  5.10722436 -10.        ]\t -226.08374065020269\t -9.737472421199964\t -0.7894869143721482\n"
          ]
        }
      ]
    },
    {
      "cell_type": "code",
      "metadata": {
        "colab": {
          "base_uri": "https://localhost:8080/"
        },
        "id": "-kDxZtJsGCR3",
        "outputId": "3bd3f76b-52dd-42f1-d7ca-06a40de5ec41"
      },
      "source": [
        "### ESTIMATED GP ERM GRADIENTS\n",
        "\n",
        "np.random.seed(run_num_6)\n",
        "surrogate_approx_6 = GaussianProcess(cov_func, optimize=opt)\n",
        "\n",
        "approx_6 = GPGO_multi(surrogate_approx_6, Acquisition_new(util_grad_approx), objfunc, param)\n",
        "approx_6.run(init_evals=n_init, max_iter=iters)\n"
      ],
      "execution_count": 18,
      "outputs": [
        {
          "output_type": "stream",
          "name": "stdout",
          "text": [
            "Evaluation \t Proposed point \t  Current eval. \t  Best eval. \t         Max AcqFunc.\n",
            "init\t [ 7.85720303 -3.36040389]\t -84.32026809583151\t -5.629416961321397\t    \n",
            "init\t [ 6.42458246 -9.16606749]\t -209.30884609749882\t -5.629416961321397\t    \n",
            "init\t [-7.8468664   1.90104128]\t -68.80122824744078\t -5.629416961321397\t    \n",
            "init\t [ 0.59634724 -1.62385143]\t -5.629416961321397\t -5.629416961321397\t    \n",
            "init\t [-3.29184301  2.45038864]\t -22.84503944485431\t -5.629416961321397\t    \n",
            "1  \t [4.34664291 8.74699069]\t -171.91299695999675\t -5.629416961321397\t -0.7978846605384292\n",
            "2  \t [-4.96771714 -9.17248997]\t -192.94735819477367\t -5.629416961321397\t -0.7978846605384292\n",
            "3  \t [9.57427611 1.74148842]\t -97.73232691305284\t -5.629416961321397\t -0.7978846605384292\n",
            "4  \t [-5.6935267   8.60486508]\t -180.50365249520243\t -5.629416961321397\t -0.7978846583415965\n",
            "5  \t [3.70615819 2.88302382]\t -30.359261199656586\t -5.629416961321397\t -0.7978826070934524\n",
            "6  \t [-8.88129971 -3.75034449]\t -107.00765218794083\t -5.629416961321397\t -0.797883481923592\n",
            "7  \t [-0.45748598  7.70980473]\t -119.09147150685489\t -5.629416961321397\t -0.7978845669888607\n",
            "8  \t [-3.42355456 -4.755711  ]\t -56.95430008511229\t -5.629416961321397\t -0.7978846592992876\n",
            "9  \t [-1.22868843  4.34354782]\t -39.24249056209099\t -5.629416961321397\t -0.7978846605384292\n",
            "10 \t [9.10343891 6.83055529]\t -176.18557108785902\t -5.629416961321397\t -0.7978846605384292\n",
            "11 \t [ 0.74228331 -9.90226801]\t -196.66080803876721\t -5.629416961321397\t -0.7978776937893115\n",
            "12 \t [ 3.05663185 -5.18713297]\t -63.15569510835169\t -5.629416961321397\t -0.7976100114433774\n",
            "13 \t [ 5.21347435 -0.8833208 ]\t -28.74082607218724\t -5.629416961321397\t -0.7978846605384287\n",
            "14 \t [-10.           6.23653908]\t -177.7888393020141\t -5.629416961321397\t -0.797487741198342\n",
            "15 \t [-5.02082642 -1.09402022]\t -27.602458399818406\t -5.629416961321397\t -0.7866723481936002\n",
            "16 \t [-10. -10.]\t -300.0\t -5.629416961321397\t -0.7977760573500897\n",
            "17 \t [10.         -6.88733866]\t -194.87086763499562\t -5.629416961321397\t -0.7871734157256056\n",
            "\u001b[1m\u001b[92m18\u001b[0m\t \u001b[1m\u001b[92m[0.48159059 1.20913258]\u001b[0m\t \u001b[1m\u001b[92m-3.155932691386374\u001b[0m\t \u001b[1m\u001b[92m-3.155932691386374\u001b[0m\t \u001b[1m\u001b[92m-0.7447652992203164\u001b[0m\n",
            "19 \t [-10.  10.]\t -300.0\t -3.155932691386374\t -0.7595415499810073\n",
            "20 \t [-5.63261432  4.79101028]\t -77.63390311348527\t -3.155932691386374\t -0.7212497348955668\n"
          ]
        }
      ]
    },
    {
      "cell_type": "code",
      "metadata": {
        "colab": {
          "base_uri": "https://localhost:8080/"
        },
        "id": "fKB8MCD_GCVI",
        "outputId": "ed8adc51-11f6-4347-eb2b-64608f678754"
      },
      "source": [
        "### ESTIMATED GP ERM GRADIENTS\n",
        "\n",
        "np.random.seed(run_num_7)\n",
        "surrogate_approx_7 = GaussianProcess(cov_func, optimize=opt)\n",
        "\n",
        "approx_7 = GPGO_multi(surrogate_approx_7, Acquisition_new(util_grad_approx), objfunc, param)\n",
        "approx_7.run(init_evals=n_init, max_iter=iters)\n"
      ],
      "execution_count": 19,
      "outputs": [
        {
          "output_type": "stream",
          "name": "stdout",
          "text": [
            "Evaluation \t Proposed point \t  Current eval. \t  Best eval. \t         Max AcqFunc.\n",
            "init\t [-8.47383421  5.59837584]\t -134.48949046062052\t -21.448213419349443\t    \n",
            "init\t [-1.23181537  4.46930356]\t -41.46671767109191\t -21.448213419349443\t    \n",
            "init\t [9.55979024 0.76991741]\t -92.57513506242564\t -21.448213419349443\t    \n",
            "init\t [ 0.02240927 -8.55897733]\t -146.51268814245697\t -21.448213419349443\t    \n",
            "init\t [-4.63122040e+00 -2.34998349e-03]\t -21.448213419349443\t -21.448213419349443\t    \n",
            "1  \t [ 8.12846538 -6.39096762]\t -147.76088362344177\t -21.448213419349443\t -0.7978846605384292\n",
            "2  \t [6.00958098 8.78222707]\t -190.37008833601834\t -21.448213419349443\t -0.7978846605384292\n",
            "3  \t [-9.10467478 -9.8356699 ]\t -276.3759076385656\t -21.448213419349443\t -0.7978846605384292\n",
            "4  \t [-7.86246511 -2.61028169]\t -75.44549865130998\t -21.448213419349443\t -0.7978846605384292\n",
            "\u001b[1m\u001b[92m5\u001b[0m\t \u001b[1m\u001b[92m[3.74742604 0.87382913]\u001b[0m\t \u001b[1m\u001b[92m-15.570356662761933\u001b[0m\t \u001b[1m\u001b[92m-15.570356662761933\u001b[0m\t \u001b[1m\u001b[92m-0.7978835318488013\u001b[0m\n",
            "6  \t [-3.12393604  9.75040708]\t -199.89985269126953\t -15.570356662761933\t -0.7978831363698946\n",
            "7  \t [-0.05001974 -2.86041165]\t -16.366411624092798\t -15.570356662761933\t -0.797876218938767\n",
            "8  \t [-4.75359186 -6.60012538]\t -109.71994561780868\t -15.570356662761933\t -0.7977436957602299\n",
            "9  \t [  4.79557074 -10.        ]\t -222.99749872778622\t -15.570356662761933\t -0.7975259519570542\n",
            "10 \t [-10.  10.]\t -300.0\t -15.570356662761933\t -0.7972335314825316\n",
            "11 \t [ 4.25146123 -3.55951792]\t -43.415258185878315\t -15.570356662761933\t -0.7970270484616936\n",
            "12 \t [1.36222856 8.16130822]\t -135.0695703520914\t -15.570356662761933\t -0.7960885379435221\n",
            "13 \t [10.          5.72809089]\t -165.62205055945344\t -15.570356662761933\t -0.79763185057067\n",
            "14 \t [-10.           1.27418097]\t -103.24707428089081\t -15.570356662761933\t -0.7959559019070886\n",
            "15 \t [5.59055435 4.25071069]\t -67.3913806190386\t -15.570356662761933\t -0.7931436784852582\n",
            "\u001b[1m\u001b[92m16\u001b[0m\t \u001b[1m\u001b[92m[-0.8177092   0.71116755]\u001b[0m\t \u001b[1m\u001b[92m-1.680166903504158\u001b[0m\t \u001b[1m\u001b[92m-1.680166903504158\u001b[0m\t \u001b[1m\u001b[92m-0.7978846604555182\u001b[0m\n",
            "17 \t [-4.92090958  3.64309281]\t -50.759601526733235\t -1.680166903504158\t -0.7742290188217621\n",
            "18 \t [10. 10.]\t -300.0\t -1.680166903504158\t -0.7855322090182247\n",
            "19 \t [-10.          -5.74572994]\t -166.02682497409927\t -1.680166903504158\t -0.7732416298655551\n",
            "20 \t [ 10. -10.]\t -300.0\t -1.680166903504158\t -0.7883302617464849\n"
          ]
        }
      ]
    },
    {
      "cell_type": "code",
      "metadata": {
        "colab": {
          "base_uri": "https://localhost:8080/"
        },
        "id": "4unvifF-GCXp",
        "outputId": "2b7cc670-2144-46b8-b0fb-54fb954534e7"
      },
      "source": [
        "### ESTIMATED GP ERM GRADIENTS\n",
        "\n",
        "np.random.seed(run_num_8)\n",
        "surrogate_approx_8 = GaussianProcess(cov_func, optimize=opt)\n",
        "\n",
        "approx_8 = GPGO_multi(surrogate_approx_8, Acquisition_new(util_grad_approx), objfunc, param)\n",
        "approx_8.run(init_evals=n_init, max_iter=iters)\n"
      ],
      "execution_count": 20,
      "outputs": [
        {
          "output_type": "stream",
          "name": "stdout",
          "text": [
            "Evaluation \t Proposed point \t  Current eval. \t  Best eval. \t         Max AcqFunc.\n",
            "init\t [7.46858806 9.37081326]\t -231.40408972112363\t -0.5791878792948744\t    \n",
            "init\t [7.3838908  0.61711383]\t -55.28350237060649\t -0.5791878792948744\t    \n",
            "init\t [-5.34543344 -9.77202391]\t -219.5585614355461\t -0.5791878792948744\t    \n",
            "init\t [-1.39062363 -1.9529728 ]\t -9.562039601098967\t -0.5791878792948744\t    \n",
            "init\t [ 0.45349343 -0.43216408]\t -0.5791878792948744\t -0.5791878792948744\t    \n",
            "1  \t [ 9.69498875 -9.42535902]\t -271.6675921188219\t -0.5791878792948744\t -0.7978846605384292\n",
            "2  \t [-9.83383251  5.77166529]\t -163.3285022998636\t -0.5791878792948744\t -0.7978846605384292\n",
            "3  \t [-3.97152767  9.51013426]\t -196.65833950916016\t -0.5791878792948744\t -0.797884659239746\n",
            "4  \t [-9.65586204 -5.07440767]\t -144.73489822426617\t -0.5791878792948744\t -0.7978845786879735\n",
            "5  \t [1.10947828 5.5318851 ]\t -62.4344475515165\t -0.5791878792948744\t -0.7978846147548441\n",
            "6  \t [ 3.77011518 -4.40569277]\t -53.034026014752534\t -0.5791878792948744\t -0.7978842831144759\n",
            "7  \t [  1.33298478 -10.        ]\t -201.77684843349064\t -0.5791878792948744\t -0.7978845406439983\n",
            "8  \t [-4.05702873  3.22992673]\t -37.32433542122265\t -0.5791878792948744\t -0.797882567922752\n",
            "9  \t [-10.           0.33336129]\t -100.22225949456575\t -0.5791878792948744\t -0.7978541981047005\n",
            "10 \t [10.         -3.88683509]\t -130.21497402913457\t -0.5791878792948744\t -0.7978527093839448\n",
            "11 \t [10.          4.79401285]\t -145.96511832863257\t -0.5791878792948744\t -0.7977448236406556\n",
            "12 \t [-4.67814869 -4.70944185]\t -66.2427601636777\t -0.5791878792948744\t -0.7973836669728214\n",
            "13 \t [ 2.31912368 10.        ]\t -205.37833463166524\t -0.5791878792948744\t -0.7974546539107535\n",
            "14 \t [-10. -10.]\t -300.0\t -0.5791878792948744\t -0.7966452979866215\n",
            "15 \t [2.95236192 1.32354338]\t -12.21997506982296\t -0.5791878792948744\t -0.7961631245553311\n",
            "16 \t [5.41928925 4.86992177]\t -76.8009720809098\t -0.5791878792948744\t -0.7949253698998382\n",
            "17 \t [-8.67823894 10.        ]\t -275.31183115722763\t -0.5791878792948744\t -0.7944687905620309\n",
            "18 \t [-0.42972341 -5.77842925]\t -66.96515139125344\t -0.5791878792948744\t -0.7935629036315154\n",
            "19 \t [-5.64205167 -0.573044  ]\t -32.489505857338884\t -0.5791878792948744\t -0.7926102453502485\n",
            "20 \t [ 5.40614398 -8.23488317]\t -164.852994425843\t -0.5791878792948744\t -0.7895947264462393\n"
          ]
        }
      ]
    },
    {
      "cell_type": "code",
      "metadata": {
        "colab": {
          "base_uri": "https://localhost:8080/"
        },
        "id": "85OIXcg7GCaJ",
        "outputId": "da8c6c81-020b-4f2a-c1a3-d08c1321de13"
      },
      "source": [
        "### ESTIMATED GP ERM GRADIENTS\n",
        "\n",
        "np.random.seed(run_num_9)\n",
        "surrogate_approx_9 = GaussianProcess(cov_func, optimize=opt)\n",
        "\n",
        "approx_9 = GPGO_multi(surrogate_approx_9, Acquisition_new(util_grad_approx), objfunc, param)\n",
        "approx_9.run(init_evals=n_init, max_iter=iters)\n"
      ],
      "execution_count": 21,
      "outputs": [
        {
          "output_type": "stream",
          "name": "stdout",
          "text": [
            "Evaluation \t Proposed point \t  Current eval. \t  Best eval. \t         Max AcqFunc.\n",
            "init\t [-9.79251692  0.03749184]\t -95.896198949837\t -53.418783741178075\t    \n",
            "init\t [-0.08453414 -7.32340942]\t -107.27179711012016\t -53.418783741178075\t    \n",
            "init\t [-7.15777829 -5.62882649]\t -114.6011653140891\t -53.418783741178075\t    \n",
            "init\t [-1.62983639 -5.03797663]\t -53.418783741178075\t -53.418783741178075\t    \n",
            "init\t [-8.31880698 -3.0900272 ]\t -88.29908569649677\t -53.418783741178075\t    \n",
            "1  \t [6.0747954  9.66718496]\t -223.8120694300478\t -53.418783741178075\t -0.7978846605384292\n",
            "2  \t [-3.94738717  9.4159639 ]\t -192.90261763630335\t -53.418783741178075\t -0.7978846605384292\n",
            "\u001b[1m\u001b[92m3\u001b[0m\t \u001b[1m\u001b[92m[4.07561386 0.71776482]\u001b[0m\t \u001b[1m\u001b[92m-17.64100099927903\u001b[0m\t \u001b[1m\u001b[92m-17.64100099927903\u001b[0m\t \u001b[1m\u001b[92m-0.7978846605383578\u001b[0m\n",
            "4  \t [ 8.66970884 -6.33785621]\t -155.50069423954056\t -17.64100099927903\t -0.7978846605384271\n",
            "5  \t [-1.19250805  3.24816621]\t -22.52324287515448\t -17.64100099927903\t -0.7978844857089554\n",
            "6  \t [10.          0.64530152]\t -100.83282811192856\t -17.64100099927903\t -0.7978845549742102\n",
            "7  \t [-9.63856601  7.61775743]\t -208.96241139210014\t -17.64100099927903\t -0.7978837737256186\n",
            "8  \t [  4.62353107 -10.        ]\t -221.37703958350403\t -17.64100099927903\t -0.7978599988623751\n",
            "9  \t [-10. -10.]\t -300.0\t -17.64100099927903\t -0.7978491355996947\n",
            "10 \t [-6.02357088  3.65530971]\t -63.0059842805362\t -17.64100099927903\t -0.7977820845936651\n",
            "11 \t [ -4.45842459 -10.        ]\t -219.87754984509536\t -17.64100099927903\t -0.7977626977717965\n",
            "12 \t [10.          5.95965028]\t -171.03486295682262\t -17.64100099927903\t -0.7978399507936612\n",
            "13 \t [1.14518765 7.61894666]\t -117.40815130980428\t -17.64100099927903\t -0.7977999133631856\n",
            "14 \t [ 3.91933145 -4.06023553]\t -48.332184195105896\t -17.64100099927903\t -0.7977545010814838\n",
            "\u001b[1m\u001b[92m15\u001b[0m\t \u001b[1m\u001b[92m[-3.80594157 -0.74008053]\u001b[0m\t \u001b[1m\u001b[92m-15.580629606024505\u001b[0m\t \u001b[1m\u001b[92m-15.580629606024505\u001b[0m\t \u001b[1m\u001b[92m-0.7975614543197923\u001b[0m\n",
            "16 \t [5.18474537 4.82146251]\t -73.37458596168776\t -15.580629606024505\t -0.796685635055375\n",
            "\u001b[1m\u001b[92m17\u001b[0m\t \u001b[1m\u001b[92m[ 0.34306237 -0.99720922]\u001b[0m\t \u001b[1m\u001b[92m-2.106544249836946\u001b[0m\t \u001b[1m\u001b[92m-2.106544249836946\u001b[0m\t \u001b[1m\u001b[92m-0.7953149933347196\u001b[0m\n",
            "18 \t [-10.           3.72380986]\t -127.73351977225705\t -2.106544249836946\t -0.7421905891402322\n",
            "19 \t [ 7.24958226 -2.22091241]\t -62.42134688964417\t -2.106544249836946\t -0.7765927659147773\n",
            "20 \t [ 10. -10.]\t -300.0\t -2.106544249836946\t -0.778368923982251\n"
          ]
        }
      ]
    },
    {
      "cell_type": "code",
      "metadata": {
        "colab": {
          "base_uri": "https://localhost:8080/"
        },
        "id": "QQBR-qJPGCcp",
        "outputId": "1568997c-4711-427d-c19d-c11e93192b06"
      },
      "source": [
        "### ESTIMATED GP ERM GRADIENTS\n",
        "\n",
        "np.random.seed(run_num_10)\n",
        "surrogate_approx_10 = GaussianProcess(cov_func, optimize=opt)\n",
        "\n",
        "approx_10 = GPGO_multi(surrogate_approx_10, Acquisition_new(util_grad_approx), objfunc, param)\n",
        "approx_10.run(init_evals=n_init, max_iter=iters)\n"
      ],
      "execution_count": 22,
      "outputs": [
        {
          "output_type": "stream",
          "name": "stdout",
          "text": [
            "Evaluation \t Proposed point \t  Current eval. \t  Best eval. \t         Max AcqFunc.\n",
            "init\t [ 5.42641287 -9.58496101]\t -213.18891181932327\t -56.66743785259343\t    \n",
            "init\t [2.6729647  4.97607765]\t -56.66743785259343\t -56.66743785259343\t    \n",
            "init\t [-0.02985975 -5.50406709]\t -60.59040065376497\t -56.66743785259343\t    \n",
            "init\t [-6.0387427   5.21061424]\t -90.76741505398337\t -56.66743785259343\t    \n",
            "init\t [-6.61778327 -8.23320372]\t -179.36634226756874\t -56.66743785259343\t    \n",
            "1  \t [ 7.13700605 -2.96694721]\t -68.54240685564316\t -56.66743785259343\t -0.7978846605384292\n",
            "\u001b[1m\u001b[92m2\u001b[0m\t \u001b[1m\u001b[92m[2.11155129 0.26933255]\u001b[0m\t \u001b[1m\u001b[92m-4.603728884330075\u001b[0m\t \u001b[1m\u001b[92m-4.603728884330075\u001b[0m\t \u001b[1m\u001b[92m-0.7978846605384292\u001b[0m\n",
            "3  \t [-7.90760511 -1.20789524]\t -65.44824041188056\t -4.603728884330075\t -0.7978846605384291\n",
            "4  \t [-4.25571757  9.80338366]\t -210.3237944229132\t -4.603728884330075\t -0.7978835325261923\n",
            "5  \t [9.49624999 3.61148749]\t -116.26444759812676\t -4.603728884330075\t -0.797884659680114\n",
            "6  \t [9.26715011 9.50785434]\t -266.67865967653205\t -4.603728884330075\t -0.7978838618073809\n",
            "7  \t [-2.7445956   0.60794484]\t -8.271998873912551\t -4.603728884330075\t -0.7978687989781952\n",
            "8  \t [-10.          9.2527366]\t -271.22626908605605\t -4.603728884330075\t -0.7978790562864433\n",
            "9  \t [-0.44833939 -9.85031703]\t -194.258499367196\t -4.603728884330075\t -0.7978835328918243\n",
            "10 \t [10.         -7.14928247]\t -202.22447977963031\t -4.603728884330075\t -0.7977606604141789\n",
            "11 \t [ 3.93611191 -5.96501725]\t -86.65583866217152\t -4.603728884330075\t -0.7978839288274875\n",
            "12 \t [ 1.44600853 10.        ]\t -202.09094066756663\t -4.603728884330075\t -0.7978581016415907\n",
            "13 \t [-4.2177016  -3.83422825]\t -47.19161942890301\t -4.603728884330075\t -0.7965323661178286\n",
            "14 \t [-10.           2.92352966]\t -117.09405139375981\t -4.603728884330075\t -0.7968749869059251\n",
            "15 \t [-10.          -5.11149713]\t -152.25480586279758\t -4.603728884330075\t -0.7958600705422845\n",
            "16 \t [-1.59443554  5.65682321]\t -66.54152227257592\t -4.603728884330075\t -0.7952593004055418\n",
            "17 \t [5.74074853 6.23074296]\t -110.60050921632208\t -4.603728884330075\t -0.7978846599478822\n",
            "18 \t [5.63569189 1.29457666]\t -35.112880519031435\t -4.603728884330075\t -0.7943976644142803\n",
            "19 \t [-0.35273123 -1.66800151]\t -5.688877423798515\t -4.603728884330075\t -0.7710600954527176\n",
            "20 \t [ 3.19656104 -2.26162402]\t -20.447888836674913\t -4.603728884330075\t -0.746784168315936\n"
          ]
        }
      ]
    },
    {
      "cell_type": "code",
      "metadata": {
        "colab": {
          "base_uri": "https://localhost:8080/"
        },
        "id": "JS8ejeQ2GCfi",
        "outputId": "2d438edf-112b-4788-d941-9c37f317c005"
      },
      "source": [
        "### ESTIMATED GP ERM GRADIENTS\n",
        "\n",
        "np.random.seed(run_num_11)\n",
        "surrogate_approx_11 = GaussianProcess(cov_func, optimize=opt)\n",
        "\n",
        "approx_11 = GPGO_multi(surrogate_approx_11, Acquisition_new(util_grad_approx), objfunc, param)\n",
        "approx_11.run(init_evals=n_init, max_iter=iters)\n"
      ],
      "execution_count": 23,
      "outputs": [
        {
          "output_type": "stream",
          "name": "stdout",
          "text": [
            "Evaluation \t Proposed point \t  Current eval. \t  Best eval. \t         Max AcqFunc.\n",
            "init\t [-6.39460622 -9.61049517]\t -225.61422357508457\t -2.716881462565864\t    \n",
            "init\t [-0.73562947  4.49867858]\t -41.01736871863572\t -2.716881462565864\t    \n",
            "init\t [-1.59592791 -0.29145804]\t -2.716881462565864\t -2.716881462565864\t    \n",
            "init\t [-9.74438371 -0.25256785]\t -95.08059489374317\t -2.716881462565864\t    \n",
            "init\t [8.83613305 7.01590179]\t -176.5230030066306\t -2.716881462565864\t    \n",
            "1  \t [ 1.99086793 -8.88652641]\t -161.90425830617428\t -2.716881462565864\t -0.7978846605384292\n",
            "2  \t [ 6.89877062 -3.95670624]\t -78.9040846386408\t -2.716881462565864\t -0.7978846605384292\n",
            "3  \t [  9.77656535 -10.        ]\t -295.58123009301335\t -2.716881462565864\t -0.7978846568542056\n",
            "4  \t [-6.50299346  4.89457725]\t -90.20269683532382\t -2.716881462565864\t -0.7978838733608736\n",
            "5  \t [0.03811547 9.48804125]\t -180.04730644856522\t -2.716881462565864\t -0.7978838450083274\n",
            "6  \t [5.24860912 2.85966119]\t -43.90322199383101\t -2.716881462565864\t -0.7978846605382969\n",
            "7  \t [-5.24921908 -3.83688198]\t -56.99762762300915\t -2.716881462565864\t -0.7978797904977929\n",
            "8  \t [-10.  10.]\t -300.0\t -2.716881462565864\t -0.7978845514855781\n",
            "9  \t [ 1.62037313 -3.44397177]\t -26.347492162705244\t -2.716881462565864\t -0.7978285108527142\n",
            "10 \t [-10.         -5.6382397]\t -163.5794938807524\t -2.716881462565864\t -0.7978059667710233\n",
            "11 \t [10.          0.53346333]\t -100.56916625481591\t -2.716881462565864\t -0.7978687187906194\n",
            "12 \t [-4.7649393   9.50813268]\t -203.51382053045197\t -2.716881462565864\t -0.797883624427179\n",
            "13 \t [-1.69340254 -6.27019567]\t -81.49831968596136\t -2.716881462565864\t -0.7978839763121263\n",
            "14 \t [4.12161057 7.23489568]\t -121.67510463358956\t -2.716881462565864\t -0.795985242130451\n",
            "15 \t [-5.12263496  0.62674201]\t -27.02700004200701\t -2.716881462565864\t -0.7949980840642243\n",
            "16 \t [1.68078809 0.74789215]\t -3.943733915625967\t -2.716881462565864\t -0.7925385611049692\n",
            "17 \t [ 6.0130078  -7.90168538]\t -161.0295264483421\t -2.716881462565864\t -0.777966216925869\n",
            "18 \t [ 4.46561831 -0.86974996]\t -21.454676864766522\t -2.716881462565864\t -0.7720429324531319\n",
            "19 \t [-10.           3.75774376]\t -128.24127638835571\t -2.716881462565864\t -0.7648047151103181\n",
            "20 \t [2.21558914 3.59986264]\t -30.826857241328764\t -2.716881462565864\t -0.6197282428434951\n"
          ]
        }
      ]
    },
    {
      "cell_type": "code",
      "metadata": {
        "colab": {
          "base_uri": "https://localhost:8080/"
        },
        "id": "DXwjUVZ4GCii",
        "outputId": "e014b66f-10a2-4573-89b4-f9a2d857ba8c"
      },
      "source": [
        "### ESTIMATED GP ERM GRADIENTS\n",
        "\n",
        "np.random.seed(run_num_12)\n",
        "surrogate_approx_12 = GaussianProcess(cov_func, optimize=opt)\n",
        "\n",
        "approx_12 = GPGO_multi(surrogate_approx_12, Acquisition_new(util_grad_approx), objfunc, param)\n",
        "approx_12.run(init_evals=n_init, max_iter=iters)\n"
      ],
      "execution_count": 24,
      "outputs": [
        {
          "output_type": "stream",
          "name": "stdout",
          "text": [
            "Evaluation \t Proposed point \t  Current eval. \t  Best eval. \t         Max AcqFunc.\n",
            "init\t [-6.91674315  4.80099393]\t -93.94042127407329\t -23.318590147261595\t    \n",
            "init\t [-4.7336997   0.67478787]\t -23.318590147261595\t -23.318590147261595\t    \n",
            "init\t [-9.70850075  8.37494016]\t -234.53423225249676\t -23.318590147261595\t    \n",
            "init\t [ 8.01429708 -9.33157145]\t -238.38540908259807\t -23.318590147261595\t    \n",
            "init\t [ 9.13898673 -7.25581357]\t -188.8147395776428\t -23.318590147261595\t    \n",
            "1  \t [4.66251955 4.05244711]\t -54.583743654491954\t -23.318590147261595\t -0.7978846605384292\n",
            "2  \t [-3.75432006 -8.6025265 ]\t -162.1018436659056\t -23.318590147261595\t -0.7978846605384292\n",
            "\u001b[1m\u001b[92m3\u001b[0m\t \u001b[1m\u001b[92m[ 0.87886819 -1.89091226]\u001b[0m\t \u001b[1m\u001b[92m-7.923507634979323\u001b[0m\t \u001b[1m\u001b[92m-7.923507634979323\u001b[0m\t \u001b[1m\u001b[92m-0.7978846289894483\u001b[0m\n",
            "4  \t [0.62006076 8.91956245]\t -159.50166406148657\t -7.923507634979323\t -0.7978846328347512\n",
            "5  \t [ 8.15269188 -0.957369  ]\t -68.2994957298121\t -7.923507634979323\t -0.7978844830659049\n",
            "6  \t [9.82022544 8.00293105]\t -224.53063835529863\t -7.923507634979323\t -0.7978846512145304\n",
            "7  \t [ 2.2110487  -7.62674188]\t -121.22311969459315\t -7.923507634979323\t -0.7978834668712774\n",
            "8  \t [-9.97962139 -0.91408336]\t -101.26393987966128\t -7.923507634979323\t -0.7978828988609169\n",
            "9  \t [-9.54180395 -9.73440659]\t -280.563365781456\t -7.923507634979323\t -0.797883522416577\n",
            "10 \t [-0.58731576  3.51961876]\t -25.120372203406454\t -7.923507634979323\t -0.7978442867829874\n",
            "11 \t [-4.5765376 10.       ]\t -220.94469636053014\t -7.923507634979323\t -0.7978222842068109\n",
            "12 \t [-5.956355   -4.00584847]\t -67.57180888098293\t -7.923507634979323\t -0.7976788222883621\n",
            "13 \t [10.          3.18419926]\t -120.27824982382748\t -7.923507634979323\t -0.7967934719626939\n",
            "14 \t [ 4.64970715 -3.71137154]\t -49.16833399589041\t -7.923507634979323\t -0.7960139501539086\n",
            "15 \t [ 5.34205695 10.        ]\t -228.537572424706\t -7.923507634979323\t -0.7972267226777133\n",
            "16 \t [-1.53832431 -4.66372086]\t -45.86702619869474\t -7.923507634979323\t -0.7930053152239399\n",
            "17 \t [3.71721454 0.22474152]\t -13.918701428912941\t -7.923507634979323\t -0.7845639136620465\n",
            "18 \t [-3.00664627  6.11621713]\t -83.85614585434178\t -7.923507634979323\t -0.772224528105665\n",
            "19 \t [-10.           2.91142209]\t -116.95275712044217\t -7.923507634979323\t -0.7481174835484311\n",
            "\u001b[1m\u001b[92m20\u001b[0m\t \u001b[1m\u001b[92m[-1.40783024  0.01318624]\u001b[0m\t \u001b[1m\u001b[92m-1.9823337492958188\u001b[0m\t \u001b[1m\u001b[92m-1.9823337492958188\u001b[0m\t \u001b[1m\u001b[92m-0.7470730344317352\u001b[0m\n"
          ]
        }
      ]
    },
    {
      "cell_type": "code",
      "metadata": {
        "colab": {
          "base_uri": "https://localhost:8080/"
        },
        "id": "CphOPndPGClX",
        "outputId": "9d9d0fea-2326-4680-9faf-2c2f31e47aab"
      },
      "source": [
        "### ESTIMATED GP ERM GRADIENTS\n",
        "\n",
        "np.random.seed(run_num_13)\n",
        "surrogate_approx_13 = GaussianProcess(cov_func, optimize=opt)\n",
        "\n",
        "approx_13 = GPGO_multi(surrogate_approx_13, Acquisition_new(util_grad_approx), objfunc, param)\n",
        "approx_13.run(init_evals=n_init, max_iter=iters)\n"
      ],
      "execution_count": 25,
      "outputs": [
        {
          "output_type": "stream",
          "name": "stdout",
          "text": [
            "Evaluation \t Proposed point \t  Current eval. \t  Best eval. \t         Max AcqFunc.\n",
            "init\t [ 5.55404821 -5.2491756 ]\t -85.95514048001408\t -47.45541115581226\t    \n",
            "init\t [6.48557065 9.31498396]\t -215.600479080162\t -47.45541115581226\t    \n",
            "init\t [ 9.45202228 -0.93101505]\t -91.0743031984701\t -47.45541115581226\t    \n",
            "init\t [2.18084926 5.51053029]\t -65.48799167425372\t -47.45541115581226\t    \n",
            "init\t [2.8322669  4.44036459]\t -47.45541115581226\t -47.45541115581226\t    \n",
            "1  \t [-8.69830926  2.59657998]\t -89.14503917528086\t -47.45541115581226\t -0.7978846605384292\n",
            "2  \t [-5.9673185  -6.48540274]\t -119.72978734259729\t -47.45541115581226\t -0.7978846605384292\n",
            "\u001b[1m\u001b[92m3\u001b[0m\t \u001b[1m\u001b[92m[-0.60899509 -1.54249972]\u001b[0m\t \u001b[1m\u001b[92m-5.129485779327708\u001b[0m\t \u001b[1m\u001b[92m-5.129485779327708\u001b[0m\t \u001b[1m\u001b[92m-0.7978846599331714\u001b[0m\n",
            "4  \t [-5.68974606  9.11900061]\t -198.68555458020188\t -5.129485779327708\t -0.7978846603988985\n",
            "5  \t [ 10. -10.]\t -300.0\t -5.129485779327708\t -0.797884646769878\n",
            "6  \t [ 0.15011013 -7.2604606 ]\t -105.45110920148105\t -5.129485779327708\t -0.7978831225713189\n",
            "7  \t [-3.04492466  3.58737935]\t -35.01014736953384\t -5.129485779327708\t -0.7978797733158483\n",
            "8  \t [10.          4.69649227]\t -144.1140792408632\t -5.129485779327708\t -0.7978794419431661\n",
            "9  \t [-0.26851703 10.        ]\t -200.07210139665278\t -5.129485779327708\t -0.7978404983217954\n",
            "10 \t [-10.          -2.74722224]\t -115.09446006397988\t -5.129485779327708\t -0.7978705109634273\n",
            "11 \t [-10. -10.]\t -300.0\t -5.129485779327708\t -0.7978663588169775\n",
            "12 \t [ 4.03881096 -0.33886833]\t -16.541657429332187\t -5.129485779327708\t -0.7977785727606517\n",
            "13 \t [-5.05679656 -1.16294781]\t -28.27608661566587\t -5.129485779327708\t -0.7977301494908969\n",
            "14 \t [  4.45602841 -10.        ]\t -219.85618916285358\t -5.129485779327708\t -0.797662884159208\n",
            "15 \t [-10.           7.15936438]\t -202.51299665223942\t -5.129485779327708\t -0.79692410592855\n",
            "16 \t [ -3.32928023 -10.        ]\t -211.08410683026972\t -5.129485779327708\t -0.7945182873112917\n",
            "17 \t [10.         -5.31119159]\t -156.41751218100092\t -5.129485779327708\t -0.794197240619863\n",
            "18 \t [6.39249042 2.49946117]\t -53.358546021622296\t -5.129485779327708\t -0.7856004412814768\n",
            "\u001b[1m\u001b[92m19\u001b[0m\t \u001b[1m\u001b[92m[0.35673028 1.50032336]\u001b[0m\t \u001b[1m\u001b[92m-4.629196882096969\u001b[0m\t \u001b[1m\u001b[92m-4.629196882096969\u001b[0m\t \u001b[1m\u001b[92m-0.7800542676742924\u001b[0m\n",
            "20 \t [-2.54341968 -4.12987991]\t -40.58079976378825\t -4.629196882096969\t -0.7769168495350387\n"
          ]
        }
      ]
    },
    {
      "cell_type": "code",
      "metadata": {
        "colab": {
          "base_uri": "https://localhost:8080/"
        },
        "id": "ojHTeARNGCoi",
        "outputId": "2ffe020a-7879-42b5-c0d0-0f06620c1b53"
      },
      "source": [
        "### ESTIMATED GP ERM GRADIENTS\n",
        "\n",
        "np.random.seed(run_num_14)\n",
        "surrogate_approx_14 = GaussianProcess(cov_func, optimize=opt)\n",
        "\n",
        "approx_14 = GPGO_multi(surrogate_approx_14, Acquisition_new(util_grad_approx), objfunc, param)\n",
        "approx_14.run(init_evals=n_init, max_iter=iters)\n"
      ],
      "execution_count": 26,
      "outputs": [
        {
          "output_type": "stream",
          "name": "stdout",
          "text": [
            "Evaluation \t Proposed point \t  Current eval. \t  Best eval. \t         Max AcqFunc.\n",
            "init\t [0.27886688 5.46330104]\t -59.77308327621332\t -26.48525945153859\t    \n",
            "init\t [ 7.40855371 -9.83906103]\t -248.5009120212351\t -26.48525945153859\t    \n",
            "init\t [-3.80528149  9.15207479]\t -182.0011130426615\t -26.48525945153859\t    \n",
            "init\t [ 0.26233425 -3.6343115 ]\t -26.48525945153859\t -26.48525945153859\t    \n",
            "init\t [ 0.78399875 -5.57490115]\t -62.773699734431055\t -26.48525945153859\t    \n",
            "1  \t [ 9.82765998 -0.95725402]\t -98.41557117870066\t -26.48525945153859\t -0.7978846605384292\n",
            "2  \t [-8.1477833   0.47898709]\t -66.84523003287876\t -26.48525945153859\t -0.7978846605384292\n",
            "3  \t [8.67962677 6.0907395 ]\t -149.53013618236548\t -26.48525945153859\t -0.7978846603303629\n",
            "4  \t [-9.25408911 -6.01411438]\t -157.97730888889856\t -26.48525945153859\t -0.7978846541963174\n",
            "5  \t [3.94559911 9.92556197]\t -212.60131300730995\t -26.48525945153859\t -0.797883481462292\n",
            "6  \t [-9.75726434  9.59338485]\t -279.2702734129778\t -26.48525945153859\t -0.797883822925027\n",
            "\u001b[1m\u001b[92m7\u001b[0m\t \u001b[1m\u001b[92m[4.1704008  0.92605338]\u001b[0m\t \u001b[1m\u001b[92m-19.10739251607991\u001b[0m\t \u001b[1m\u001b[92m-19.10739251607991\u001b[0m\t \u001b[1m\u001b[92m-0.7978838464427238\u001b[0m\n",
            "8  \t [ -2.78953393 -10.        ]\t -207.78149955759292\t -19.10739251607991\t -0.7978832142419956\n",
            "\u001b[1m\u001b[92m9\u001b[0m\t \u001b[1m\u001b[92m[-2.62895609  0.80657027]\u001b[0m\t \u001b[1m\u001b[92m-8.212521345598777\u001b[0m\t \u001b[1m\u001b[92m-8.212521345598777\u001b[0m\t \u001b[1m\u001b[92m-0.7978720697809082\u001b[0m\n",
            "10 \t [-4.60864618 -3.59929001]\t -47.1493967091112\t -8.212521345598777\t -0.7977746507728518\n",
            "11 \t [ 5.88103464 -4.46604658]\t -74.47771257189058\t -8.212521345598777\t -0.7978325943222639\n",
            "12 \t [-5.43725813  4.43994531]\t -68.99000481443294\t -8.212521345598777\t -0.7974824693056315\n",
            "13 \t [  2.35338547 -10.        ]\t -205.5384231709124\t -8.212521345598777\t -0.7973675355183136\n",
            "14 \t [-10.           4.68457838]\t -143.89054913049836\t -8.212521345598777\t -0.7965498942857326\n",
            "15 \t [10.         -5.83611434]\t -168.12046125429012\t -8.212521345598777\t -0.7954980607897782\n",
            "16 \t [4.43189935 4.98213438]\t -69.28505777756035\t -8.212521345598777\t -0.7915970990396858\n",
            "17 \t [ -7.43844705 -10.        ]\t -255.33049455925254\t -8.212521345598777\t -0.7941405552770588\n",
            "18 \t [10. 10.]\t -300.0\t -8.212521345598777\t -0.7903976482836148\n",
            "\u001b[1m\u001b[92m19\u001b[0m\t \u001b[1m\u001b[92m[0.65175611 0.28037975]\u001b[0m\t \u001b[1m\u001b[92m-0.5820116416753012\u001b[0m\t \u001b[1m\u001b[92m-0.5820116416753012\u001b[0m\t \u001b[1m\u001b[92m-0.7793916970589742\u001b[0m\n",
            "20 \t [-8.44820973e-04  1.00000000e+01]\t -200.00000071372247\t -0.5820116416753012\t -0.7533662247958945\n"
          ]
        }
      ]
    },
    {
      "cell_type": "code",
      "metadata": {
        "colab": {
          "base_uri": "https://localhost:8080/"
        },
        "id": "vCJzn4vWGCs3",
        "outputId": "4d431acb-45a2-4965-982f-b6e5c7fca5cf"
      },
      "source": [
        "### ESTIMATED GP ERM GRADIENTS\n",
        "\n",
        "np.random.seed(run_num_15)\n",
        "surrogate_approx_15 = GaussianProcess(cov_func, optimize=opt)\n",
        "\n",
        "approx_15 = GPGO_multi(surrogate_approx_15, Acquisition_new(util_grad_approx), objfunc, param)\n",
        "approx_15.run(init_evals=n_init, max_iter=iters)\n"
      ],
      "execution_count": 27,
      "outputs": [
        {
          "output_type": "stream",
          "name": "stdout",
          "text": [
            "Evaluation \t Proposed point \t  Current eval. \t  Best eval. \t         Max AcqFunc.\n",
            "init\t [ 6.97635395 -6.4220815 ]\t -131.15577599697437\t -20.897907943365695\t    \n",
            "init\t [-8.91273571 -2.76923108]\t -94.77413943464936\t -20.897907943365695\t    \n",
            "init\t [-4.49198143  0.6000045 ]\t -20.897907943365695\t -20.897907943365695\t    \n",
            "init\t [-3.88162169 -3.91051282]\t -45.651207890195394\t -20.897907943365695\t    \n",
            "init\t [-7.76517448 -5.00201972]\t -110.33833725681367\t -20.897907943365695\t    \n",
            "1  \t [-1.08003705  9.49213271]\t -181.3676469637466\t -20.897907943365695\t -0.7978846605384292\n",
            "2  \t [-9.69991687  7.99454818]\t -221.91398842692476\t -20.897907943365695\t -0.7978846605384281\n",
            "3  \t [9.38262114 9.37010501]\t -263.6313154484096\t -20.897907943365695\t -0.7978846605384292\n",
            "4  \t [8.17696818 1.09984692]\t -69.28213505909017\t -20.897907943365695\t -0.7978846605301306\n",
            "5  \t [2.257132  4.5118262]\t -45.807796139453394\t -20.897907943365695\t -0.7978839477435045\n",
            "6  \t [-0.62952455 -9.52479128]\t -181.8395990317211\t -20.897907943365695\t -0.797884652294097\n",
            "7  \t [ 1.71306729 -3.01035854]\t -21.05911657305078\t -20.897907943365695\t -0.7978833501282683\n",
            "8  \t [-10. -10.]\t -300.0\t -20.897907943365695\t -0.7978762667882999\n",
            "9  \t [-10.           2.47488352]\t -112.25009684735582\t -20.897907943365695\t -0.7978579204463163\n",
            "10 \t [-4.78869212  5.55195007]\t -84.57987134466518\t -20.897907943365695\t -0.7978245437185789\n",
            "11 \t [6.6227326  5.42684928]\t -102.76197323719654\t -20.897907943365695\t -0.796278538520754\n",
            "12 \t [  4.10905222 -10.        ]\t -216.8843101455174\t -20.897907943365695\t -0.7964524415425416\n",
            "\u001b[1m\u001b[92m13\u001b[0m\t \u001b[1m\u001b[92m[-0.22692803  0.82067806]\u001b[0m\t \u001b[1m\u001b[92m-1.398521288789643\u001b[0m\t \u001b[1m\u001b[92m-1.398521288789643\u001b[0m\t \u001b[1m\u001b[92m-0.7962162926765399\u001b[0m\n",
            "14 \t [ 10. -10.]\t -300.0\t -1.398521288789643\t -0.7973200217617054\n",
            "15 \t [ 4.09417827 10.        ]\t -216.7622956863232\t -1.398521288789643\t -0.7977469554934277\n",
            "16 \t [-5.27495653 -9.14857665]\t -195.21807580031225\t -1.398521288789643\t -0.7960427368149804\n",
            "17 \t [10.         -2.98624165]\t -117.83527836744575\t -1.398521288789643\t -0.7961802392165788\n",
            "18 \t [3.81977977 0.47270963]\t -15.037626308544707\t -1.398521288789643\t -0.7944264994096746\n",
            "19 \t [ 5.68455413 -2.50246289]\t -44.838796675887465\t -1.398521288789643\t -0.7782867222384939\n",
            "20 \t [-1.4838813   3.30289647]\t -24.020153872627294\t -1.398521288789643\t -0.7770825681651038\n"
          ]
        }
      ]
    },
    {
      "cell_type": "code",
      "metadata": {
        "colab": {
          "base_uri": "https://localhost:8080/"
        },
        "id": "bGGkhp-kGCw6",
        "outputId": "40a988d8-948d-415a-dcb3-59bdba5d79a6"
      },
      "source": [
        "### ESTIMATED GP ERM GRADIENTS\n",
        "\n",
        "np.random.seed(run_num_16)\n",
        "surrogate_approx_16 = GaussianProcess(cov_func, optimize=opt)\n",
        "\n",
        "approx_16 = GPGO_multi(surrogate_approx_16, Acquisition_new(util_grad_approx), objfunc, param)\n",
        "approx_16.run(init_evals=n_init, max_iter=iters)\n"
      ],
      "execution_count": 28,
      "outputs": [
        {
          "output_type": "stream",
          "name": "stdout",
          "text": [
            "Evaluation \t Proposed point \t  Current eval. \t  Best eval. \t         Max AcqFunc.\n",
            "init\t [-5.53417842  0.46326683]\t -31.056363058280656\t -31.056363058280656\t    \n",
            "init\t [ 1.01402913 -9.087961  ]\t -166.21032525826828\t -31.056363058280656\t    \n",
            "init\t [-2.78542329 -5.53838117]\t -69.10591480510183\t -31.056363058280656\t    \n",
            "init\t [ 3.77452324 -6.7253715 ]\t -104.70826928786903\t -31.056363058280656\t    \n",
            "init\t [-8.59350266  8.8202172 ]\t -229.44075111810224\t -31.056363058280656\t    \n",
            "1  \t [4.18505664 9.44091052]\t -195.7762819329394\t -31.056363058280656\t -0.7978846605384292\n",
            "2  \t [9.22704387 3.02362854]\t -103.4229976843265\t -31.056363058280656\t -0.7978846605382606\n",
            "\u001b[1m\u001b[92m3\u001b[0m\t \u001b[1m\u001b[92m[ 2.52801252 -0.08752176]\u001b[0m\t \u001b[1m\u001b[92m-6.406167436310099\u001b[0m\t \u001b[1m\u001b[92m-6.406167436310099\u001b[0m\t \u001b[1m\u001b[92m-0.7978846572438214\u001b[0m\n",
            "4  \t [-9.70734262 -5.57457736]\t -156.3843262924271\t -6.406167436310099\t -0.7978846598420916\n",
            "5  \t [-2.22531694  5.42968011]\t -63.91488757640133\t -6.406167436310099\t -0.7978846605384292\n",
            "6  \t [ 9.50240599 -7.92690057]\t -215.96722489311375\t -6.406167436310099\t -0.7978837062995143\n",
            "7  \t [ -6.03245762 -10.        ]\t -236.39054493446537\t -6.406167436310099\t -0.7978778862783085\n",
            "8  \t [10.          9.09679803]\t -265.5034689781211\t -6.406167436310099\t -0.7978823763885259\n",
            "9  \t [ 7.60792203 -2.35074952]\t -68.93252418240124\t -6.406167436310099\t -0.7978778604031203\n",
            "10 \t [-10.           3.24562202]\t -121.06812457274138\t -6.406167436310099\t -0.7978732932587604\n",
            "11 \t [3.99501499 4.19080335]\t -51.08581018198591\t -6.406167436310099\t -0.7977621628195085\n",
            "12 \t [-1.02326306 10.        ]\t -201.04706729203278\t -6.406167436310099\t -0.797604853095399\n",
            "\u001b[1m\u001b[92m13\u001b[0m\t \u001b[1m\u001b[92m[-1.35877615 -1.03848203]\u001b[0m\t \u001b[1m\u001b[92m-4.0031624604272045\u001b[0m\t \u001b[1m\u001b[92m-4.0031624604272045\u001b[0m\t \u001b[1m\u001b[92m-0.7966890579381768\u001b[0m\n",
            "14 \t [ 1.06506417 -3.46113834]\t -25.093318877580433\t -4.0031624604272045\t -0.7888013649188401\n",
            "15 \t [-10.         -1.1411649]\t -102.60451465931254\t -4.0031624604272045\t -0.7937653423065685\n",
            "16 \t [0.01523151 2.14273313]\t -9.182842502400236\t -4.0031624604272045\t -0.7834424685581564\n",
            "17 \t [-6.18127471  4.9480143 ]\t -87.17384810670593\t -4.0031624604272045\t -0.7854134808645267\n",
            "18 \t [-6.11364741 -3.30576339]\t -59.23282781479702\t -4.0031624604272045\t -0.7810077072652791\n",
            "19 \t [-10. -10.]\t -300.0\t -4.0031624604272045\t -0.7734722465041516\n",
            "20 \t [  5.85985994 -10.        ]\t -234.33795846700045\t -4.0031624604272045\t -0.775636995091258\n"
          ]
        }
      ]
    },
    {
      "cell_type": "code",
      "metadata": {
        "id": "Yrs2mp7hGC1Z",
        "colab": {
          "base_uri": "https://localhost:8080/"
        },
        "outputId": "679df67e-020c-476d-98ec-f99f417ab44a"
      },
      "source": [
        "### ESTIMATED GP ERM GRADIENTS\n",
        "\n",
        "np.random.seed(run_num_17)\n",
        "surrogate_approx_17 = GaussianProcess(cov_func, optimize=opt)\n",
        "\n",
        "approx_17 = GPGO_multi(surrogate_approx_17, Acquisition_new(util_grad_approx), objfunc, param)\n",
        "approx_17.run(init_evals=n_init, max_iter=iters)\n"
      ],
      "execution_count": 29,
      "outputs": [
        {
          "output_type": "stream",
          "name": "stdout",
          "text": [
            "Evaluation \t Proposed point \t  Current eval. \t  Best eval. \t         Max AcqFunc.\n",
            "init\t [-4.10669995  0.61173511]\t -17.613424143360255\t -12.137436774523842\t    \n",
            "init\t [-6.16958426 -8.64199284]\t -187.43185031516856\t -12.137436774523842\t    \n",
            "init\t [5.7397092  3.12667044]\t -52.49639772521824\t -12.137436774523842\t    \n",
            "init\t [2.75041792 1.51205788]\t -12.137436774523842\t -12.137436774523842\t    \n",
            "init\t [-9.21874168 -2.84372791]\t -101.1587749488933\t -12.137436774523842\t    \n",
            "1  \t [-8.64042543  9.21575513]\t -244.5172369008349\t -12.137436774523842\t -0.7978846605384292\n",
            "2  \t [ 4.54825031 -8.71744454]\t -172.6742595800706\t -12.137436774523842\t -0.7978846605384292\n",
            "3  \t [9.12376544 9.73620918]\t -272.83063435528607\t -12.137436774523842\t -0.7978846605244693\n",
            "4  \t [-0.05385845  7.96254756]\t -126.80722802594437\t -12.137436774523842\t -0.7978846604783041\n",
            "5  \t [ 9.06636127 -2.74323799]\t -97.24961590065784\t -12.137436774523842\t -0.7978846587999389\n",
            "6  \t [-1.844512  -4.4849741]\t -43.63220990500828\t -12.137436774523842\t -0.7978831627322809\n",
            "7  \t [-9.33248087  3.00682819]\t -105.17723065159473\t -12.137436774523842\t -0.797883234354242\n",
            "8  \t [ 3.72738553 -3.7457176 ]\t -41.95420359005249\t -12.137436774523842\t -0.7978846605384292\n",
            "9  \t [10.         -8.88274834]\t -257.80643599789903\t -12.137436774523842\t -0.7978695860843399\n",
            "10 \t [ -0.81019164 -10.        ]\t -200.65641048770536\t -12.137436774523842\t -0.7978612369974203\n",
            "11 \t [-5.34307141  5.91978222]\t -98.63605528557576\t -12.137436774523842\t -0.7978846603854001\n",
            "12 \t [10.          4.69184926]\t -144.02689886820087\t -12.137436774523842\t -0.7973049459602978\n",
            "13 \t [4.6673815  7.70006926]\t -140.3665834752745\t -12.137436774523842\t -0.7968123844460792\n",
            "14 \t [-0.96947006  3.38520008]\t -23.859031309256075\t -12.137436774523842\t -0.79602671717692\n",
            "15 \t [-3.97502196 10.        ]\t -215.80079954415191\t -12.137436774523842\t -0.7928806598329262\n",
            "\u001b[1m\u001b[92m16\u001b[0m\t \u001b[1m\u001b[92m[-0.2031738  -0.77245803]\u001b[0m\t \u001b[1m\u001b[92m-1.234662412895902\u001b[0m\t \u001b[1m\u001b[92m-1.234662412895902\u001b[0m\t \u001b[1m\u001b[92m-0.7905259201444788\u001b[0m\n",
            "17 \t [-10.          -9.09804141]\t -265.54871505108946\t -1.234662412895902\t -0.7978845160802723\n",
            "18 \t [-5.25519256 -2.94867948]\t -45.00647012949698\t -1.234662412895902\t -0.7743460856737411\n",
            "19 \t [ 5.72858851 -0.61232591]\t -33.56661238813809\t -1.234662412895902\t -0.7625601801097223\n",
            "20 \t [ 1.13320577 -6.46185205]\t -84.79521920202889\t -1.234662412895902\t -0.7978832112483891\n"
          ]
        }
      ]
    },
    {
      "cell_type": "code",
      "metadata": {
        "id": "f0HIEP3PIUEa",
        "colab": {
          "base_uri": "https://localhost:8080/"
        },
        "outputId": "efb76312-be1f-427d-db09-b84627eb4c10"
      },
      "source": [
        "### ESTIMATED GP ERM GRADIENTS\n",
        "\n",
        "np.random.seed(run_num_18)\n",
        "surrogate_approx_18 = GaussianProcess(cov_func, optimize=opt)\n",
        "\n",
        "approx_18 = GPGO_multi(surrogate_approx_18, Acquisition_new(util_grad_approx), objfunc, param)\n",
        "approx_18.run(init_evals=n_init, max_iter=iters)\n"
      ],
      "execution_count": 30,
      "outputs": [
        {
          "output_type": "stream",
          "name": "stdout",
          "text": [
            "Evaluation \t Proposed point \t  Current eval. \t  Best eval. \t         Max AcqFunc.\n",
            "init\t [3.00748483 0.10906747]\t -9.068756459576363\t -9.068756459576363\t    \n",
            "init\t [ 7.57202942 -6.36319549]\t -138.3161432668939\t -9.068756459576363\t    \n",
            "init\t [7.04466137 5.00272572]\t -99.6817831686958\t -9.068756459576363\t    \n",
            "init\t [3.32203335 9.75790897]\t -201.4694803352836\t -9.068756459576363\t    \n",
            "init\t [-4.86063155 -9.43388149]\t -201.6219791510955\t -9.068756459576363\t    \n",
            "1  \t [-6.1664519   4.28513481]\t -74.74988979878172\t -9.068756459576363\t -0.7978846605384292\n",
            "2  \t [-6.07110106 -2.27098711]\t -47.173032968123124\t -9.068756459576363\t -0.7978846599003938\n",
            "3  \t [-9.84572665 -7.72302303]\t -216.22850278173115\t -9.068756459576363\t -0.797884659788952\n",
            "4  \t [ 1.43526252 -6.82315233]\t -95.1707939168239\t -9.068756459576363\t -0.7978844497936267\n",
            "5  \t [ 4.59940623 -9.59713586]\t -205.36457092968183\t -9.068756459576363\t -0.7978846605384292\n",
            "6  \t [-10.           8.58524041]\t -247.4127057640941\t -9.068756459576363\t -0.7978834988623078\n",
            "7  \t [10.          9.99711502]\t -299.8846175035545\t -9.068756459576363\t -0.797883438458527\n",
            "8  \t [-3.28620873 10.        ]\t -210.79916784206458\t -9.068756459576363\t -0.7978846168442579\n",
            "9  \t [ 9.38452118 -0.75189983]\t -89.19994441960206\t -9.068756459576363\t -0.7978835811137446\n",
            "10 \t [-0.06179802  4.60754874]\t -42.46282981660864\t -9.068756459576363\t -0.7978832667837569\n",
            "11 \t [-10.           0.86542366]\t -101.49791620553341\t -9.068756459576363\t -0.7978115796157086\n",
            "12 \t [-1.07262458 -2.15233968]\t -10.415655694341336\t -9.068756459576363\t -0.797779262402253\n",
            "13 \t [ 10. -10.]\t -300.0\t -9.068756459576363\t -0.7954293368343429\n",
            "14 \t [-2.96540007  1.24850845]\t -11.911144269810737\t -9.068756459576363\t -0.7946946096614994\n",
            "15 \t [ 3.96198146 -3.9596521 ]\t -47.05498660634012\t -9.068756459576363\t -0.7978846605186856\n",
            "16 \t [-2.97198635 -5.37929398]\t -66.70631019976855\t -9.068756459576363\t -0.7919878977767157\n",
            "17 \t [3.46313122 3.39468525]\t -35.041053752393836\t -9.068756459576363\t -0.7676028391585042\n",
            "18 \t [-10.          -3.36198824]\t -122.60592991116327\t -9.068756459576363\t -0.787732636952302\n",
            "19 \t [6.08268936 0.93822161]\t -38.7596294347474\t -9.068756459576363\t -0.7441343664411214\n",
            "20 \t [-9.75165165  4.46658942]\t -134.99555212804813\t -9.068756459576363\t -0.7978837335236948\n"
          ]
        }
      ]
    },
    {
      "cell_type": "code",
      "metadata": {
        "id": "S3mxRQDLIUPC",
        "colab": {
          "base_uri": "https://localhost:8080/"
        },
        "outputId": "f7e3274f-59a7-4025-c9e9-e60441e02f62"
      },
      "source": [
        "### ESTIMATED GP ERM GRADIENTS\n",
        "\n",
        "np.random.seed(run_num_19)\n",
        "surrogate_approx_19 = GaussianProcess(cov_func, optimize=opt)\n",
        "\n",
        "approx_19 = GPGO_multi(surrogate_approx_19, Acquisition_new(util_grad_approx), objfunc, param)\n",
        "approx_19.run(init_evals=n_init, max_iter=iters)\n"
      ],
      "execution_count": 31,
      "outputs": [
        {
          "output_type": "stream",
          "name": "stdout",
          "text": [
            "Evaluation \t Proposed point \t  Current eval. \t  Best eval. \t         Max AcqFunc.\n",
            "init\t [-8.04932797  5.22499433]\t -119.39281225846176\t -87.03025225125222\t    \n",
            "init\t [-5.06124054 -7.23736625]\t -130.3750962570555\t -87.03025225125222\t    \n",
            "init\t [-3.37106873 -8.3400087 ]\t -150.4755946408245\t -87.03025225125222\t    \n",
            "init\t [3.43954163 6.13187596]\t -87.03025225125222\t -87.03025225125222\t    \n",
            "init\t [9.65483829 2.7132147 ]\t -107.93897039562282\t -87.03025225125222\t    \n",
            "1  \t [ 9.42739537 -7.28680447]\t -195.07082209920037\t -87.03025225125222\t -0.7978846605384292\n",
            "2  \t [9.66871562 9.18398599]\t -262.1752591189437\t -87.03025225125222\t -0.797884637940317\n",
            "\u001b[1m\u001b[92m3\u001b[0m\t \u001b[1m\u001b[92m[ 0.34213444 -2.30324419]\u001b[0m\t \u001b[1m\u001b[92m-10.726923582394306\u001b[0m\t \u001b[1m\u001b[92m-10.726923582394306\u001b[0m\t \u001b[1m\u001b[92m-0.7978846600257483\u001b[0m\n",
            "4  \t [-9.64931371 -1.76781368]\t -99.35958538505903\t -10.726923582394306\t -0.7978846600793195\n",
            "5  \t [-2.69333527  7.93798122]\t -133.2771466359215\t -10.726923582394306\t -0.7978841875331928\n",
            "6  \t [ 2.85490827 -7.36368238]\t -116.59813767255919\t -10.726923582394306\t -0.7978842418218647\n",
            "7  \t [ 6.14481456 -2.28530481]\t -48.203982152200936\t -10.726923582394306\t -0.7978831642217946\n",
            "8  \t [-4.17119184  0.5236755 ]\t -17.94731339752613\t -10.726923582394306\t -0.7978819951365397\n",
            "9  \t [-10. -10.]\t -300.0\t -10.726923582394306\t -0.797881291552221\n",
            "10 \t [0.14800333 2.39237897]\t -11.468859251540946\t -10.726923582394306\t -0.797683246312651\n",
            "11 \t [4.48916871 1.74065534]\t -26.21239769940681\t -10.726923582394306\t -0.7959314726022824\n",
            "12 \t [-10.  10.]\t -300.0\t -10.726923582394306\t -0.7978348256522727\n",
            "13 \t [ 5.06207061 10.        ]\t -225.62455886668943\t -10.726923582394306\t -0.7934464527968732\n",
            "14 \t [-3.36280998 -3.26444609]\t -32.62170746960468\t -10.726923582394306\t -0.7908958640577827\n",
            "15 \t [10.         -1.91980986]\t -107.37133977151704\t -10.726923582394306\t -0.7906494484351995\n",
            "16 \t [ 0.81310532 10.        ]\t -200.6611402561567\t -10.726923582394306\t -0.7823141079600233\n",
            "17 \t [-9.16317382 -5.75648235]\t -150.2379326399527\t -10.726923582394306\t -0.7815044925173968\n",
            "18 \t [  6.08933998 -10.        ]\t -237.08006139778965\t -10.726923582394306\t -0.7884154951751439\n",
            "19 \t [-3.76873659  4.0060264 ]\t -46.299870573708304\t -10.726923582394306\t -0.7783529491436406\n",
            "20 \t [-10.           1.98672636]\t -107.89416323457785\t -10.726923582394306\t -0.7548326835019754\n"
          ]
        }
      ]
    },
    {
      "cell_type": "code",
      "metadata": {
        "id": "Aawd59dRIUYn",
        "colab": {
          "base_uri": "https://localhost:8080/"
        },
        "outputId": "6148a110-3cac-46d2-d077-7c582860a850"
      },
      "source": [
        "### ESTIMATED GP ERM GRADIENTS\n",
        "\n",
        "np.random.seed(run_num_20)\n",
        "surrogate_approx_20 = GaussianProcess(cov_func, optimize=opt)\n",
        "\n",
        "approx_20 = GPGO_multi(surrogate_approx_20, Acquisition_new(util_grad_approx), objfunc, param)\n",
        "approx_20.run(init_evals=n_init, max_iter=iters)\n"
      ],
      "execution_count": 32,
      "outputs": [
        {
          "output_type": "stream",
          "name": "stdout",
          "text": [
            "Evaluation \t Proposed point \t  Current eval. \t  Best eval. \t         Max AcqFunc.\n",
            "init\t [1.76261602 7.95427456]\t -129.64778273349407\t -6.161449614183514\t    \n",
            "init\t [7.83061459 6.31674955]\t -141.12117450686426\t -6.161449614183514\t    \n",
            "init\t [-9.28220829  3.83515164]\t -115.57616682517047\t -6.161449614183514\t    \n",
            "init\t [-2.42638116  0.37021891]\t -6.161449614183514\t -6.161449614183514\t    \n",
            "init\t [ 3.15902931 -6.12299564]\t -84.96161746112533\t -6.161449614183514\t    \n",
            "1  \t [ 6.78995846 -0.77921207]\t -47.31787877809484\t -6.161449614183514\t -0.7978846605322162\n",
            "2  \t [-7.8478547 -7.6599646]\t -178.938938646232\t -6.161449614183514\t -0.7978846605384292\n",
            "3  \t [-4.56172279  9.14761084]\t -188.16688311626407\t -6.161449614183514\t -0.7978846317810186\n",
            "4  \t [ 9.03563127 -5.57761678]\t -143.86225043765864\t -6.161449614183514\t -0.7978846605384153\n",
            "5  \t [-2.23929329 -9.39947652]\t -181.71475206043087\t -6.161449614183514\t -0.7978831585168392\n",
            "6  \t [-7.23080999 -1.7613864 ]\t -58.4895771997922\t -6.161449614183514\t -0.7978815300360023\n",
            "7  \t [-9.72304955 10.        ]\t -294.5376925299965\t -6.161449614183514\t -0.7978833873694722\n",
            "8  \t [2.30470956 2.31233042]\t -16.00543007836067\t -6.161449614183514\t -0.797873753045312\n",
            "9  \t [-1.88249456 -4.13621592]\t -37.76035000460687\t -6.161449614183514\t -0.797782346381269\n",
            "10 \t [-3.33563002  4.3563872 ]\t -49.08264648006244\t -6.161449614183514\t -0.7978842693921804\n",
            "11 \t [ 10. -10.]\t -300.0\t -6.161449614183514\t -0.7966056761576149\n",
            "12 \t [10.         2.1726212]\t -109.44056578003406\t -6.161449614183514\t -0.7963822337168033\n",
            "13 \t [ 5.65101745 10.        ]\t -231.93399825390568\t -6.161449614183514\t -0.7920990115963114\n",
            "14 \t [ 4.93237293 -9.55383854]\t -206.87996436047732\t -6.161449614183514\t -0.7978834615836041\n",
            "15 \t [ 1.93311637 -1.75186542]\t -9.875003794443066\t -6.161449614183514\t -0.7957618925829459\n",
            "16 \t [-10.          -4.20498252]\t -135.36375605680587\t -6.161449614183514\t -0.7709209315394899\n",
            "17 \t [-5.8135214   1.66151082]\t -39.31826747511164\t -6.161449614183514\t -0.7593321257741882\n",
            "18 \t [-5.19662207 -4.84239245]\t -73.90241018531214\t -6.161449614183514\t -0.7281787614477138\n",
            "19 \t [-10.           0.17936052]\t -100.06434039406642\t -6.161449614183514\t -0.721633355079285\n",
            "20 \t [5.67997849 2.90108137]\t -49.09470184235116\t -6.161449614183514\t -0.7675590842386242\n"
          ]
        }
      ]
    },
    {
      "cell_type": "code",
      "metadata": {
        "id": "xkgzPRbBTHaq",
        "colab": {
          "base_uri": "https://localhost:8080/"
        },
        "outputId": "22d04277-7603-4459-e0f7-4d98a3a71e9c"
      },
      "source": [
        "end_approx = time.time()\n",
        "end_approx\n",
        "\n",
        "time_approx = end_approx - start_approx\n",
        "time_approx\n",
        "\n",
        "start_exact = time.time()\n",
        "start_exact"
      ],
      "execution_count": 33,
      "outputs": [
        {
          "output_type": "execute_result",
          "data": {
            "text/plain": [
              "1645702909.9433312"
            ]
          },
          "metadata": {},
          "execution_count": 33
        }
      ]
    },
    {
      "cell_type": "code",
      "metadata": {
        "id": "7CG3Ndvb16Rb",
        "colab": {
          "base_uri": "https://localhost:8080/"
        },
        "outputId": "57c6d3a3-17f9-4f9f-8979-0e49de1e7ad8"
      },
      "source": [
        "### EXACT GP ERM GRADIENTS\n",
        "\n",
        "np.random.seed(run_num_1)\n",
        "surrogate_exact_1 = dGaussianProcess(cov_func, optimize=opt)\n",
        "\n",
        "exact_1 = dGPGO(surrogate_exact_1, Acquisition_new(util_grad_exact), objfunc, param)\n",
        "exact_1.run(init_evals=n_init, max_iter=iters)\n"
      ],
      "execution_count": 34,
      "outputs": [
        {
          "output_type": "stream",
          "name": "stdout",
          "text": [
            "Evaluation \t Proposed point \t  Current eval. \t  Best eval. \t         Max AcqFunc.\n",
            "init\t [-1.65955991  4.40648987]\t -41.5884450098667\t -5.468172821636052\t    \n",
            "init\t [-9.9977125  -3.95334855]\t -131.21218477957908\t -5.468172821636052\t    \n",
            "init\t [-7.06488218 -8.1532281 ]\t -182.86281732102734\t -5.468172821636052\t    \n",
            "init\t [-6.27479577 -3.08878546]\t -58.4542532110911\t -5.468172821636052\t    \n",
            "init\t [-2.06465052  0.77633468]\t -5.468172821636052\t -5.468172821636052\t    \n",
            "1  \t [ 7.89213327 -8.29911577]\t -200.03641276683908\t -5.468172821636052\t -0.7978845607896438\n",
            "2  \t [7.66612182 2.47344414]\t -71.00527566059496\t -5.468172821636052\t -0.7978845607896438\n",
            "3  \t [1.62717855 9.40039978]\t -179.3827421328839\t -5.468172821636052\t -0.7978845607896438\n",
            "4  \t [-9.56950389  8.95940422]\t -252.11725289788865\t -5.468172821636052\t -0.7978845607896438\n",
            "5  \t [ 2.56152397 -4.28847437]\t -43.34342980630102\t -5.468172821636052\t -0.7978845498465081\n",
            "6  \t [-7.88517632  2.70186155]\t -76.77611724958153\t -5.468172821636052\t -0.7978842843707386\n",
            "7  \t [-0.86049345 -8.86141123]\t -157.78966701707245\t -5.468172821636052\t -0.7978835116191932\n",
            "8  \t [9.02387571 8.10804067]\t -212.91097997027106\t -5.468172821636052\t -0.7978836596440128\n",
            "9  \t [-3.9257569   9.79283625]\t -207.21085077930587\t -5.468172821636052\t -0.7978703980162091\n",
            "10 \t [10.         -2.77648133]\t -115.41769711871734\t -5.468172821636052\t -0.7978820621223208\n",
            "11 \t [2.5948094  2.11327642]\t -15.664910263780893\t -5.468172821636052\t -0.79774248448807\n",
            "12 \t [-1.83067411 -3.73099057]\t -31.191949013077057\t -5.468172821636052\t -0.7965751187366555\n",
            "13 \t [  3.58343468 -10.        ]\t -212.8410041286782\t -5.468172821636052\t -0.7957284658955116\n",
            "14 \t [ 5.78847129 -1.63884086]\t -38.87799867686609\t -5.468172821636052\t -0.793322808582161\n",
            "15 \t [4.48722665 5.95967736]\t -91.17071143171538\t -5.468172821636052\t -0.7950298250011044\n",
            "\u001b[1m\u001b[92m16\u001b[0m\t \u001b[1m\u001b[92m[ 0.97496293 -0.96496257]\u001b[0m\t \u001b[1m\u001b[92m-2.812858228906033\u001b[0m\t \u001b[1m\u001b[92m-2.812858228906033\u001b[0m\t \u001b[1m\u001b[92m-0.7703288924681095\u001b[0m\n",
            "17 \t [-10.          -0.19304763]\t -100.07453477208658\t -2.812858228906033\t -0.7401200576010308\n",
            "18 \t [ 5.62729187 10.        ]\t -231.66641373784012\t -2.812858228906033\t -0.7549134848368437\n",
            "19 \t [-6.48320305  6.4636468 ]\t -125.58938167966916\t -2.812858228906033\t -0.7607467518877951\n",
            "20 \t [-4.77174575  0.22717195]\t -22.872771654035727\t -2.812858228906033\t -0.7426898318476596\n"
          ]
        }
      ]
    },
    {
      "cell_type": "code",
      "metadata": {
        "id": "-ilCPSAu9SAg",
        "colab": {
          "base_uri": "https://localhost:8080/"
        },
        "outputId": "a4a152bf-6f86-4136-e9ad-f7d9063358b7"
      },
      "source": [
        "### EXACT GP ERM GRADIENTS\n",
        "\n",
        "np.random.seed(run_num_2)\n",
        "surrogate_exact_2 = dGaussianProcess(cov_func, optimize=opt)\n",
        "\n",
        "exact_2 = dGPGO(surrogate_exact_2, Acquisition_new(util_grad_exact), objfunc, param)\n",
        "exact_2.run(init_evals=n_init, max_iter=iters)\n"
      ],
      "execution_count": 35,
      "outputs": [
        {
          "output_type": "stream",
          "name": "stdout",
          "text": [
            "Evaluation \t Proposed point \t  Current eval. \t  Best eval. \t         Max AcqFunc.\n",
            "init\t [-1.28010196 -9.48147536]\t -181.43541115584648\t -4.333099000920773\t    \n",
            "init\t [ 0.99324956 -1.29355215]\t -4.333099000920773\t -4.333099000920773\t    \n",
            "init\t [-1.59264396 -3.39330358]\t -25.565533148780872\t -4.333099000920773\t    \n",
            "init\t [-5.90702732  2.38541933]\t -46.27342248166184\t -4.333099000920773\t    \n",
            "init\t [-4.00690653 -4.6634545 ]\t -59.55091562094812\t -4.333099000920773\t    \n",
            "1  \t [4.01504693 9.2910216 ]\t -188.7667666769868\t -4.333099000920773\t -0.7978845607896438\n",
            "2  \t [ 9.4582138 -7.7444757]\t -209.411615827435\t -4.333099000920773\t -0.7978845607896438\n",
            "3  \t [ 9.07319925 -1.03970567]\t -84.48492034594878\t -4.333099000920773\t -0.7978845523732168\n",
            "4  \t [-9.13741927 -7.85625192]\t -206.93381928482216\t -4.333099000920773\t -0.7978843865058196\n",
            "5  \t [-3.33258459  7.54721968]\t -125.02716997911698\t -4.333099000920773\t -0.7978838715437335\n",
            "6  \t [10.          4.67436577]\t -143.69939074628965\t -4.333099000920773\t -0.7978834433731258\n",
            "7  \t [3.69790474 3.21381951]\t -34.3317711791518\t -4.333099000920773\t -0.7978830304036589\n",
            "8  \t [-9.14282928  8.15503135]\t -216.60039984191138\t -4.333099000920773\t -0.7978833435899022\n",
            "9  \t [10. 10.]\t -300.0\t -4.333099000920773\t -0.7978590273271704\n",
            "10 \t [-9.40464676 -1.97352995]\t -96.23702155469836\t -4.333099000920773\t -0.7978809377454167\n",
            "11 \t [ 4.144534   -9.10596119]\t -183.01422035095038\t -4.333099000920773\t -0.7978520186502136\n",
            "12 \t [ 5.62587143 -4.39320218]\t -70.25088003959988\t -4.333099000920773\t -0.7973310535543575\n",
            "13 \t [0.66783551 6.34417364]\t -80.94308259259017\t -4.333099000920773\t -0.7899184218681978\n",
            "14 \t [ 1.63205592 -5.78105107]\t -69.50470952160657\t -4.333099000920773\t -0.7851837637117033\n",
            "15 \t [-10.           3.33709457]\t -122.27240033820074\t -4.333099000920773\t -0.7958356968009144\n",
            "16 \t [-1.81659155  2.80707413]\t -19.05933517764615\t -4.333099000920773\t -0.7935183142557022\n",
            "17 \t [ 4.80218137 -0.47708283]\t -23.516161939016385\t -4.333099000920773\t -0.7844573861983366\n",
            "18 \t [-4.06893547 -0.72261613]\t -17.60058401476831\t -4.333099000920773\t -0.7660413342236128\n",
            "19 \t [-5.20462771 -8.37306614]\t -167.3046228007026\t -4.333099000920773\t -0.7601171635679803\n",
            "20 \t [ 0.12893572 10.        ]\t -200.01662441976708\t -4.333099000920773\t -0.7536248334351354\n"
          ]
        }
      ]
    },
    {
      "cell_type": "code",
      "metadata": {
        "id": "XieJ158mIvlP",
        "colab": {
          "base_uri": "https://localhost:8080/"
        },
        "outputId": "1f25cffa-1477-4bd3-c824-88a8fe23a888"
      },
      "source": [
        "### EXACT GP ERM GRADIENTS\n",
        "\n",
        "np.random.seed(run_num_3)\n",
        "surrogate_exact_3 = dGaussianProcess(cov_func, optimize=opt)\n",
        "\n",
        "exact_3 = dGPGO(surrogate_exact_3, Acquisition_new(util_grad_exact), objfunc, param)\n",
        "exact_3.run(init_evals=n_init, max_iter=iters)\n"
      ],
      "execution_count": 36,
      "outputs": [
        {
          "output_type": "stream",
          "name": "stdout",
          "text": [
            "Evaluation \t Proposed point \t  Current eval. \t  Best eval. \t         Max AcqFunc.\n",
            "init\t [1.01595805 4.16295645]\t -35.692583610916834\t -17.582120911078754\t    \n",
            "init\t [-4.18190522  0.2165521 ]\t -17.582120911078754\t -17.582120911078754\t    \n",
            "init\t [7.85893909 7.92586178]\t -187.4014934415638\t -17.582120911078754\t    \n",
            "init\t [-7.48829379 -5.85514244]\t -124.63992981683481\t -17.582120911078754\t    \n",
            "init\t [-8.97065593 -1.18380313]\t -83.2754475728413\t -17.582120911078754\t    \n",
            "1  \t [ 5.60629529 -3.87272935]\t -61.42661215628989\t -17.582120911078754\t -0.7978845607896438\n",
            "2  \t [-8.52752662  7.84786375]\t -195.89664111179286\t -17.582120911078754\t -0.7978845607896436\n",
            "3  \t [ 1.29377684 10.        ]\t -201.67385851581457\t -17.582120911078754\t -0.7978842153879121\n",
            "4  \t [-0.42169096 -8.75441039]\t -153.45722588114134\t -17.582120911078754\t -0.7978845607896438\n",
            "5  \t [10.         -0.07365222]\t -100.01084929759641\t -17.582120911078754\t -0.7978838359138336\n",
            "6  \t [ 9.91572611 -9.01887335]\t -261.00177731356047\t -17.582120911078754\t -0.7978845607896435\n",
            "7  \t [-4.15936027  5.11058954]\t -69.53652869793855\t -17.582120911078754\t -0.7978845607896438\n",
            "\u001b[1m\u001b[92m8\u001b[0m\t \u001b[1m\u001b[92m[3.68603336 0.5392451 ]\u001b[0m\t \u001b[1m\u001b[92m-14.168412517260489\u001b[0m\t \u001b[1m\u001b[92m-14.168412517260489\u001b[0m\t \u001b[1m\u001b[92m-0.7978845588926039\u001b[0m\n",
            "9  \t [ 1.31668669 -3.53823107]\t -26.771822018724915\t -14.168412517260489\t -0.7978845607896438\n",
            "10 \t [ 4.96195895 -7.94359876]\t -150.82255916295418\t -14.168412517260489\t -0.7978828122988766\n",
            "11 \t [-4.67617006 -9.97354931]\t -220.80993834112402\t -14.168412517260489\t -0.7978845598387013\n",
            "12 \t [-3.19421238 -3.90516459]\t -40.7036136493202\t -14.168412517260489\t -0.7966264020676637\n",
            "13 \t [-10. -10.]\t -300.0\t -14.168412517260489\t -0.7975986973327673\n",
            "14 \t [-10.           3.26553187]\t -121.32739685300248\t -14.168412517260489\t -0.7968122508288241\n",
            "15 \t [-3.78349207 10.        ]\t -214.31481223469007\t -14.168412517260489\t -0.7975903188670197\n",
            "16 \t [6.74381523 3.34000983]\t -67.79037531258065\t -14.168412517260489\t -0.7961814100533541\n",
            "\u001b[1m\u001b[92m17\u001b[0m\t \u001b[1m\u001b[92m[-0.24478228  0.12999394]\u001b[0m\t \u001b[1m\u001b[92m-0.09371521386918963\u001b[0m\t \u001b[1m\u001b[92m-0.09371521386918963\u001b[0m\t \u001b[1m\u001b[92m-0.7909917383585723\u001b[0m\n",
            "18 \t [10.         -4.43698155]\t -139.37361051237414\t -0.09371521386918963\t -0.7934190292403361\n",
            "19 \t [-1.88102633  2.36267564]\t -14.702732448101798\t -0.09371521386918963\t -0.7130420966219833\n",
            "20 \t [10.          4.57019924]\t -141.7734422210682\t -0.09371521386918963\t -0.742043518144352\n"
          ]
        }
      ]
    },
    {
      "cell_type": "code",
      "metadata": {
        "id": "PhLBVOIfIvol",
        "colab": {
          "base_uri": "https://localhost:8080/"
        },
        "outputId": "cd897ed0-51a6-4220-dd7b-6481b4926e64"
      },
      "source": [
        "### EXACT GP ERM GRADIENTS\n",
        "\n",
        "np.random.seed(run_num_4)\n",
        "surrogate_exact_4 = dGaussianProcess(cov_func, optimize=opt)\n",
        "\n",
        "exact_4 = dGPGO(surrogate_exact_4, Acquisition_new(util_grad_exact), objfunc, param)\n",
        "exact_4.run(init_evals=n_init, max_iter=iters)\n"
      ],
      "execution_count": 37,
      "outputs": [
        {
          "output_type": "stream",
          "name": "stdout",
          "text": [
            "Evaluation \t Proposed point \t  Current eval. \t  Best eval. \t         Max AcqFunc.\n",
            "init\t [9.34059678 0.94464498]\t -89.0314565014143\t -27.80880071439404\t    \n",
            "init\t [9.4536872  4.29631987]\t -126.28893057280868\t -27.80880071439404\t    \n",
            "init\t [ 3.95457649 -5.67821009]\t -80.12281484649141\t -27.80880071439404\t    \n",
            "init\t [ 9.5254891 -9.8753949]\t -285.78179120922215\t -27.80880071439404\t    \n",
            "init\t [-4.94035275 -1.30416935]\t -27.80880071439404\t -27.80880071439404\t    \n",
            "1  \t [-6.35109191  8.36766078]\t -180.3718623830372\t -27.80880071439404\t -0.7978845607896438\n",
            "2  \t [1.43282743 6.87413988]\t -96.56059262521096\t -27.80880071439404\t -0.7978845607886014\n",
            "3  \t [ -2.5101954 -10.       ]\t -206.30108094618092\t -27.80880071439404\t -0.7978845607881627\n",
            "4  \t [-9.62434886 -4.48087207]\t -132.78451981567815\t -27.80880071439404\t -0.7978837905560023\n",
            "5  \t [-9.2450964   2.86617043]\t -101.9016732569988\t -27.80880071439404\t -0.7978842673614327\n",
            "6  \t [ 6.34595548 10.        ]\t -240.2711509868452\t -27.80880071439404\t -0.7978834935708448\n",
            "\u001b[1m\u001b[92m7\u001b[0m\t \u001b[1m\u001b[92m[1.45162335 0.05109036]\u001b[0m\t \u001b[1m\u001b[92m-2.112430794758758\u001b[0m\t \u001b[1m\u001b[92m-2.112430794758758\u001b[0m\t \u001b[1m\u001b[92m-0.797884490100269\u001b[0m\n",
            "8  \t [-3.72628639  3.77256604]\t -42.34971933172724\t -2.112430794758758\t -0.7978342878494256\n",
            "9  \t [ 4.93214016 -0.18102444]\t -24.391546262089733\t -2.112430794758758\t -0.7959687034793119\n",
            "10 \t [ -8.77988641 -10.        ]\t -277.0864054117689\t -2.112430794758758\t -0.797878764338005\n",
            "11 \t [10.         -4.33952613]\t -137.66297399558135\t -2.112430794758758\t -0.7978548838946676\n",
            "12 \t [ 2.71135264 -9.66992891]\t -194.36648322470168\t -2.112430794758758\t -0.7978845607896436\n",
            "13 \t [-4.73119864 -5.75507382]\t -88.6259900009243\t -2.112430794758758\t -0.796914840234932\n",
            "14 \t [-0.31570827 -4.44784357]\t -39.66629656825193\t -2.112430794758758\t -0.7962972306601463\n",
            "15 \t [-2.33948762  7.47097237]\t -117.10405853313151\t -2.112430794758758\t -0.7678412270106886\n",
            "16 \t [4.92287383 4.54517448]\t -65.55190874857145\t -2.112430794758758\t -0.7931033438155314\n",
            "17 \t [0.66323007 2.75485517]\t -15.618328098066101\t -2.112430794758758\t -0.7835418085552975\n",
            "18 \t [-8.39835481 -0.83893409]\t -71.93998435405979\t -2.112430794758758\t -0.74406777071134\n",
            "19 \t [-0.07245166 -1.24282353]\t -3.0944699035196623\t -2.112430794758758\t -0.6788124255983774\n",
            "20 \t [-1.88411986  0.42635168]\t -3.9134591608287517\t -2.112430794758758\t -0.7316808335903197\n"
          ]
        }
      ]
    },
    {
      "cell_type": "code",
      "metadata": {
        "id": "arbiPyj2IvsJ",
        "colab": {
          "base_uri": "https://localhost:8080/"
        },
        "outputId": "5784bf01-d8ae-49e2-831e-d6c662622bd3"
      },
      "source": [
        "### EXACT GP ERM GRADIENTS\n",
        "\n",
        "np.random.seed(run_num_5)\n",
        "surrogate_exact_5 = dGaussianProcess(cov_func, optimize=opt)\n",
        "\n",
        "exact_5 = dGPGO(surrogate_exact_5, Acquisition_new(util_grad_exact), objfunc, param)\n",
        "exact_5.run(init_evals=n_init, max_iter=iters)\n"
      ],
      "execution_count": 38,
      "outputs": [
        {
          "output_type": "stream",
          "name": "stdout",
          "text": [
            "Evaluation \t Proposed point \t  Current eval. \t  Best eval. \t         Max AcqFunc.\n",
            "init\t [-5.56013658  7.41464612]\t -140.86907304317228\t -10.04307293518387\t    \n",
            "init\t [-5.86561689  8.37221816]\t -174.59353533361667\t -10.04307293518387\t    \n",
            "init\t [-0.23177622  2.23487726]\t -10.04307293518387\t -10.04307293518387\t    \n",
            "init\t [5.31815713 0.36835976]\t -28.554173077012745\t -10.04307293518387\t    \n",
            "init\t [-4.06398997 -6.24557543]\t -94.53043928694063\t -10.04307293518387\t    \n",
            "1  \t [9.27861058 9.20453431]\t -255.5395178906315\t -10.04307293518387\t -0.7978845607896438\n",
            "2  \t [ 8.87080164 -7.76615146]\t -199.31733862713008\t -10.04307293518387\t -0.7978845607896438\n",
            "3  \t [0.54357666 9.2242228 ]\t -170.4680482407008\t -10.04307293518387\t -0.7978844919960092\n",
            "4  \t [-10. -10.]\t -300.0\t -10.04307293518387\t -0.7978845603312681\n",
            "5  \t [ 3.04552711 -9.25523839]\t -180.59411088672442\t -10.04307293518387\t -0.7978838571462835\n",
            "6  \t [-9.86783784 -1.34138829]\t -100.97286872831327\t -10.04307293518387\t -0.7978845607827793\n",
            "7  \t [9.69413944 3.46674106]\t -118.01292664350647\t -10.04307293518387\t -0.7978763210972818\n",
            "8  \t [ 1.34141207 -3.53039845]\t -26.726812816656995\t -10.04307293518387\t -0.7978821262508241\n",
            "9  \t [10.         -2.19817374]\t -109.66393554959114\t -10.04307293518387\t -0.7978720452845429\n",
            "10 \t [-10.           4.20494128]\t -135.36306228727912\t -10.04307293518387\t -0.7978707692200283\n",
            "11 \t [-2.79118105 -1.51967665]\t -12.40952587264054\t -10.04307293518387\t -0.7974804205841924\n",
            "12 \t [-5.51477176  2.62925534]\t -44.23867489528642\t -10.04307293518387\t -0.7971890006986451\n",
            "13 \t [4.62508112 6.16163093]\t -97.32276685957996\t -10.04307293518387\t -0.7977753321846212\n",
            "14 \t [ -1.7257023 -10.       ]\t -202.9780484348606\t -10.04307293518387\t -0.7961611359758126\n",
            "15 \t [-8.00320926 -6.17107984]\t -140.2158111417752\t -10.04307293518387\t -0.7812014407219976\n",
            "16 \t [ 5.69150202 -4.53674211]\t -73.55725314137683\t -10.04307293518387\t -0.7956184733430399\n",
            "17 \t [0.48126355 5.24589172]\t -55.27037455470964\t -10.04307293518387\t -0.7590278771153428\n",
            "18 \t [ 5.15905803 10.        ]\t -226.61587970618803\t -10.04307293518387\t -0.7744146359516424\n",
            "19 \t [-5.9330863  -2.54356158]\t -48.140924079868114\t -10.04307293518387\t -0.7696088695556044\n",
            "\u001b[1m\u001b[92m20\u001b[0m\t \u001b[1m\u001b[92m[ 1.94804147 -0.19722996]\u001b[0m\t \u001b[1m\u001b[92m-3.872664872887817\u001b[0m\t \u001b[1m\u001b[92m-3.872664872887817\u001b[0m\t \u001b[1m\u001b[92m-0.74489651265089\u001b[0m\n"
          ]
        }
      ]
    },
    {
      "cell_type": "code",
      "metadata": {
        "id": "04KJCEm_Ivvf",
        "colab": {
          "base_uri": "https://localhost:8080/"
        },
        "outputId": "2c280575-039d-47f8-99bb-a855ab57d68d"
      },
      "source": [
        "### EXACT GP ERM GRADIENTS\n",
        "\n",
        "np.random.seed(run_num_6)\n",
        "surrogate_exact_6 = dGaussianProcess(cov_func, optimize=opt)\n",
        "\n",
        "exact_6 = dGPGO(surrogate_exact_6, Acquisition_new(util_grad_exact), objfunc, param)\n",
        "exact_6.run(init_evals=n_init, max_iter=iters)\n"
      ],
      "execution_count": 39,
      "outputs": [
        {
          "output_type": "stream",
          "name": "stdout",
          "text": [
            "Evaluation \t Proposed point \t  Current eval. \t  Best eval. \t         Max AcqFunc.\n",
            "init\t [ 7.85720303 -3.36040389]\t -84.32026809583151\t -5.629416961321397\t    \n",
            "init\t [ 6.42458246 -9.16606749]\t -209.30884609749882\t -5.629416961321397\t    \n",
            "init\t [-7.8468664   1.90104128]\t -68.80122824744078\t -5.629416961321397\t    \n",
            "init\t [ 0.59634724 -1.62385143]\t -5.629416961321397\t -5.629416961321397\t    \n",
            "init\t [-3.29184301  2.45038864]\t -22.84503944485431\t -5.629416961321397\t    \n",
            "1  \t [4.34664291 8.74699069]\t -171.91299695999675\t -5.629416961321397\t -0.7978845607896438\n",
            "2  \t [-4.96771714 -9.17248997]\t -192.94735819477367\t -5.629416961321397\t -0.7978845607896438\n",
            "3  \t [9.57427611 1.74148842]\t -97.73232691305284\t -5.629416961321397\t -0.7978845607896438\n",
            "4  \t [-5.6935267   8.60486508]\t -180.50365249520243\t -5.629416961321397\t -0.797884558592811\n",
            "5  \t [10. 10.]\t -300.0\t -5.629416961321397\t -0.7978823107125517\n",
            "6  \t [-10.          -3.52754432]\t -124.88713786062395\t -5.629416961321397\t -0.797883885290016\n",
            "7  \t [-0.31432479 -6.27686601]\t -78.89689381345163\t -5.629416961321397\t -0.7978845481910567\n",
            "8  \t [-5.2160087  -2.20998074]\t -36.974776478354485\t -5.629416961321397\t -0.7978845606969638\n",
            "9  \t [-1.22868843  4.34354782]\t -39.24249056209099\t -5.629416961321397\t -0.7978845607896438\n",
            "10 \t [3.92174558 4.35771114]\t -53.35938107562335\t -5.629416961321397\t -0.7978845607896389\n",
            "11 \t [  1.70911682 -10.        ]\t -202.92108031306563\t -5.629416961321397\t -0.7948513090666128\n",
            "12 \t [-10. -10.]\t -300.0\t -5.629416961321397\t -0.7977759795714066\n",
            "13 \t [ 5.21347435 -0.8833208 ]\t -28.74082607218724\t -5.629416961321397\t -0.7978845607896432\n",
            "14 \t [-0.24321539  8.50861205]\t -144.8521118383624\t -5.629416961321397\t -0.7957311481531604\n",
            "15 \t [-10.           6.23190853]\t -177.67336789801712\t -5.629416961321397\t -0.7974875987300838\n",
            "16 \t [8.11648212 5.78250828]\t -132.75208612693768\t -5.629416961321397\t -0.7925817182944058\n",
            "17 \t [-3.89217939 -5.39529768]\t -73.36753456082879\t -5.629416961321397\t -0.7318314409685535\n",
            "18 \t [ 3.44177411 -4.44440669]\t -51.35131062938918\t -5.629416961321397\t -0.7909406121592816\n",
            "19 \t [-5.28186934  4.71271174]\t -72.31744752726274\t -5.629416961321397\t -0.705323856438783\n",
            "20 \t [1.78655039 1.19636956]\t -6.054362510581104\t -5.629416961321397\t -0.7728746042354074\n"
          ]
        }
      ]
    },
    {
      "cell_type": "code",
      "metadata": {
        "id": "tAOkme3CIvyO",
        "colab": {
          "base_uri": "https://localhost:8080/"
        },
        "outputId": "e440dda2-159c-409b-e3e1-2419f07fb262"
      },
      "source": [
        "### EXACT GP ERM GRADIENTS\n",
        "\n",
        "np.random.seed(run_num_7)\n",
        "surrogate_exact_7 = dGaussianProcess(cov_func, optimize=opt)\n",
        "\n",
        "exact_7 = dGPGO(surrogate_exact_7, Acquisition_new(util_grad_exact), objfunc, param)\n",
        "exact_7.run(init_evals=n_init, max_iter=iters)\n"
      ],
      "execution_count": 40,
      "outputs": [
        {
          "output_type": "stream",
          "name": "stdout",
          "text": [
            "Evaluation \t Proposed point \t  Current eval. \t  Best eval. \t         Max AcqFunc.\n",
            "init\t [-8.47383421  5.59837584]\t -134.48949046062052\t -21.448213419349443\t    \n",
            "init\t [-1.23181537  4.46930356]\t -41.46671767109191\t -21.448213419349443\t    \n",
            "init\t [9.55979024 0.76991741]\t -92.57513506242564\t -21.448213419349443\t    \n",
            "init\t [ 0.02240927 -8.55897733]\t -146.51268814245697\t -21.448213419349443\t    \n",
            "init\t [-4.63122040e+00 -2.34998349e-03]\t -21.448213419349443\t -21.448213419349443\t    \n",
            "1  \t [ 8.12846538 -6.39096762]\t -147.76088362344177\t -21.448213419349443\t -0.7978845607896438\n",
            "2  \t [6.00958098 8.78222707]\t -190.37008833601834\t -21.448213419349443\t -0.7978845607896438\n",
            "3  \t [-9.10467478 -9.8356699 ]\t -276.3759076385656\t -21.448213419349443\t -0.7978845607896438\n",
            "4  \t [-7.86246511 -2.61028169]\t -75.44549865130998\t -21.448213419349443\t -0.7978845607896438\n",
            "5  \t [ 3.2328792  -2.68480299]\t -24.867842104178727\t -21.448213419349443\t -0.797884313692658\n",
            "6  \t [0.61151955 9.32904811]\t -174.43623340616543\t -21.448213419349443\t -0.7978511736425321\n",
            "7  \t [3.74625037 3.88487674]\t -44.21892640277153\t -21.448213419349443\t -0.7978253439282739\n",
            "8  \t [-5.05164787 10.        ]\t -225.51914619168247\t -21.448213419349443\t -0.7978748016158284\n",
            "9  \t [  4.78163418 -10.        ]\t -222.86402545142113\t -21.448213419349443\t -0.7975254525353787\n",
            "10 \t [-4.53781502 -8.51685833]\t -165.66551691002132\t -21.448213419349443\t -0.7959131577090516\n",
            "11 \t [-0.9519413  -3.98012361]\t -32.588960093604705\t -21.448213419349443\t -0.7968192150239563\n",
            "12 \t [-9.85575606  9.97829422]\t -296.2686384493442\t -21.448213419349443\t -0.7964530200110777\n",
            "13 \t [10.          5.73921022]\t -165.87706801052087\t -21.448213419349443\t -0.7976315270859925\n",
            "\u001b[1m\u001b[92m14\u001b[0m\t \u001b[1m\u001b[92m[0.41023929 0.34550162]\u001b[0m\t \u001b[1m\u001b[92m-0.4070390199420269\u001b[0m\t \u001b[1m\u001b[92m-0.4070390199420269\u001b[0m\t \u001b[1m\u001b[92m-0.7957920380429886\u001b[0m\n",
            "15 \t [10. 10.]\t -300.0\t -0.4070390199420269\t -0.7853078183660371\n",
            "16 \t [-4.83756634  3.4506174 ]\t -47.21556893390472\t -0.4070390199420269\t -0.797884559776153\n",
            "17 \t [ 7.27047037 -2.48991308]\t -65.25907368733763\t -0.4070390199420269\t -0.7753577516796561\n",
            "18 \t [ 4.2320854  -6.13157517]\t -93.10297485522018\t -0.4070390199420269\t -0.7436892929143716\n",
            "19 \t [1.54402507 1.1251093 ]\t -4.915755314730414\t -0.4070390199420269\t -0.7216609708938413\n",
            "20 \t [-1.25929056  0.64447854]\t -2.416517891348338\t -0.4070390199420269\t -0.781628481633272\n"
          ]
        }
      ]
    },
    {
      "cell_type": "code",
      "metadata": {
        "id": "69-J3EF4Iv1S",
        "colab": {
          "base_uri": "https://localhost:8080/"
        },
        "outputId": "14013dff-d3ca-40c2-f5e5-16536e72acc3"
      },
      "source": [
        "### EXACT GP ERM GRADIENTS\n",
        "\n",
        "np.random.seed(run_num_8)\n",
        "surrogate_exact_8 = dGaussianProcess(cov_func, optimize=opt)\n",
        "\n",
        "exact_8 = dGPGO(surrogate_exact_8, Acquisition_new(util_grad_exact), objfunc, param)\n",
        "exact_8.run(init_evals=n_init, max_iter=iters)\n"
      ],
      "execution_count": 41,
      "outputs": [
        {
          "output_type": "stream",
          "name": "stdout",
          "text": [
            "Evaluation \t Proposed point \t  Current eval. \t  Best eval. \t         Max AcqFunc.\n",
            "init\t [7.46858806 9.37081326]\t -231.40408972112363\t -0.5791878792948744\t    \n",
            "init\t [7.3838908  0.61711383]\t -55.28350237060649\t -0.5791878792948744\t    \n",
            "init\t [-5.34543344 -9.77202391]\t -219.5585614355461\t -0.5791878792948744\t    \n",
            "init\t [-1.39062363 -1.9529728 ]\t -9.562039601098967\t -0.5791878792948744\t    \n",
            "init\t [ 0.45349343 -0.43216408]\t -0.5791878792948744\t -0.5791878792948744\t    \n",
            "1  \t [ 9.69498875 -9.42535902]\t -271.6675921188219\t -0.5791878792948744\t -0.7978845607896438\n",
            "2  \t [-9.83383251  5.77166529]\t -163.3285022998636\t -0.5791878792948744\t -0.7978845607896438\n",
            "3  \t [-3.97152767  9.51013426]\t -196.65833950916016\t -0.5791878792948744\t -0.7978845594909606\n",
            "4  \t [-9.65586204 -5.07440767]\t -144.73489822426617\t -0.5791878792948744\t -0.7978844789391885\n",
            "5  \t [1.10947828 5.5318851 ]\t -62.4344475515165\t -0.5791878792948744\t -0.7978845150060588\n",
            "6  \t [ 3.77011518 -4.40569277]\t -53.034026014752534\t -0.5791878792948744\t -0.797884183365692\n",
            "7  \t [  2.26119601 -10.        ]\t -205.11300739274836\t -0.5791878792948744\t -0.7978838812226124\n",
            "8  \t [-3.7162016   2.61962742]\t -27.53504995754216\t -0.5791878792948744\t -0.7978778557167315\n",
            "9  \t [ 9.52917185 -3.92963756]\t -121.68921884794669\t -0.5791878792948744\t -0.7978204193427908\n",
            "10 \t [-9.9780121   0.32450222]\t -99.77132877515277\t -0.5791878792948744\t -0.7978539034760008\n",
            "11 \t [10.          4.80435148]\t -146.16358629958566\t -0.5791878792948744\t -0.7977446175262004\n",
            "12 \t [-1.47453614 -6.36167479]\t -83.11606904046563\t -0.5791878792948744\t -0.7975842250450896\n",
            "13 \t [ 2.38022859 10.        ]\t -205.6654881280796\t -0.5791878792948744\t -0.7974495024625913\n",
            "14 \t [-10. -10.]\t -300.0\t -0.5791878792948744\t -0.7966451980756551\n",
            "15 \t [-5.46923654 -2.68499055]\t -44.3308968600435\t -0.5791878792948744\t -0.7970934434209307\n",
            "16 \t [2.79950217 1.48043222]\t -12.220571570977178\t -0.5791878792948744\t -0.7958130222357396\n",
            "17 \t [-5.69132034  5.68121413]\t -96.94351531216424\t -0.5791878792948744\t -0.7741121459659053\n",
            "18 \t [5.8057991  4.13654789]\t -67.9293600890783\t -0.5791878792948744\t -0.7843126244748166\n",
            "19 \t [ 5.57193985 -7.3776849 ]\t -139.9069825544339\t -0.5791878792948744\t -0.7583472485657722\n",
            "20 \t [-0.39946278  1.30893663]\t -3.5862006999906515\t -0.5791878792948744\t -0.7494568986895052\n"
          ]
        }
      ]
    },
    {
      "cell_type": "code",
      "metadata": {
        "id": "vonm9jyuIv4t",
        "colab": {
          "base_uri": "https://localhost:8080/"
        },
        "outputId": "9396c9c2-77d4-45e1-d8a6-3fa73bf438c8"
      },
      "source": [
        "### EXACT GP ERM GRADIENTS\n",
        "\n",
        "np.random.seed(run_num_9)\n",
        "surrogate_exact_9 = dGaussianProcess(cov_func, optimize=opt)\n",
        "\n",
        "exact_9 = dGPGO(surrogate_exact_9, Acquisition_new(util_grad_exact), objfunc, param)\n",
        "exact_9.run(init_evals=n_init, max_iter=iters)\n"
      ],
      "execution_count": 42,
      "outputs": [
        {
          "output_type": "stream",
          "name": "stdout",
          "text": [
            "Evaluation \t Proposed point \t  Current eval. \t  Best eval. \t         Max AcqFunc.\n",
            "init\t [-9.79251692  0.03749184]\t -95.896198949837\t -53.418783741178075\t    \n",
            "init\t [-0.08453414 -7.32340942]\t -107.27179711012016\t -53.418783741178075\t    \n",
            "init\t [-7.15777829 -5.62882649]\t -114.6011653140891\t -53.418783741178075\t    \n",
            "init\t [-1.62983639 -5.03797663]\t -53.418783741178075\t -53.418783741178075\t    \n",
            "init\t [-8.31880698 -3.0900272 ]\t -88.29908569649677\t -53.418783741178075\t    \n",
            "1  \t [6.0747954  9.66718496]\t -223.8120694300478\t -53.418783741178075\t -0.7978845607896438\n",
            "2  \t [-3.94738717  9.4159639 ]\t -192.90261763630335\t -53.418783741178075\t -0.7978845607896438\n",
            "\u001b[1m\u001b[92m3\u001b[0m\t \u001b[1m\u001b[92m[4.07561386 0.71776482]\u001b[0m\t \u001b[1m\u001b[92m-17.64100099927903\u001b[0m\t \u001b[1m\u001b[92m-17.64100099927903\u001b[0m\t \u001b[1m\u001b[92m-0.7978845607895724\u001b[0m\n",
            "4  \t [ 8.66970884 -6.33785621]\t -155.50069423954056\t -17.64100099927903\t -0.7978845607896417\n",
            "5  \t [10.         -0.57106106]\t -100.65222146642701\t -17.64100099927903\t -0.7978835511035185\n",
            "6  \t [-9.43535893  5.95042309]\t -159.84106794164182\t -17.64100099927903\t -0.7978839517407941\n",
            "\u001b[1m\u001b[92m7\u001b[0m\t \u001b[1m\u001b[92m[-2.00413361  1.08900426]\u001b[0m\t \u001b[1m\u001b[92m-6.388412071319043\u001b[0m\t \u001b[1m\u001b[92m-6.388412071319043\u001b[0m\t \u001b[1m\u001b[92m-0.7978844361947194\u001b[0m\n",
            "8  \t [1.16486144 5.46153773]\t -61.01369087411204\t -6.388412071319043\t -0.7978829016223817\n",
            "9  \t [10.          5.22210842]\t -154.54083262691285\t -6.388412071319043\t -0.7978819701182699\n",
            "10 \t [  4.62356797 -10.        ]\t -221.37738073954557\t -6.388412071319043\t -0.7978598991158822\n",
            "11 \t [-10. -10.]\t -300.0\t -6.388412071319043\t -0.797849035851051\n",
            "12 \t [ 1.11829206 10.        ]\t -201.25057712671148\t -6.388412071319043\t -0.797017925626132\n",
            "13 \t [-4.4456309   4.29765672]\t -56.70334064264867\t -6.388412071319043\t -0.7972850027150867\n",
            "14 \t [ 2.70414345 -3.31731895]\t -29.321601816259957\t -6.388412071319043\t -0.7969564890976545\n",
            "15 \t [-4.87849505 -0.75067199]\t -24.926730828069495\t -6.388412071319043\t -0.7892420760712314\n",
            "16 \t [5.50525415 4.60416649]\t -72.70452151153043\t -6.388412071319043\t -0.794759794685358\n",
            "\u001b[1m\u001b[92m17\u001b[0m\t \u001b[1m\u001b[92m[-0.56137122 -1.31311391]\u001b[0m\t \u001b[1m\u001b[92m-3.763673923231255\u001b[0m\t \u001b[1m\u001b[92m-3.763673923231255\u001b[0m\t \u001b[1m\u001b[92m-0.7549175662936739\u001b[0m\n",
            "18 \t [-5.26357529 -9.5324525 ]\t -209.44052605241933\t -3.763673923231255\t -0.794659434620723\n",
            "19 \t [ 6.61776739 -2.90022763]\t -60.61748586827645\t -3.763673923231255\t -0.7763106128323755\n",
            "20 \t [ 5.0862264  -6.37741125]\t -107.21244749484278\t -3.763673923231255\t -0.6580610098798296\n"
          ]
        }
      ]
    },
    {
      "cell_type": "code",
      "metadata": {
        "id": "6amuYlUdIv7r",
        "colab": {
          "base_uri": "https://localhost:8080/"
        },
        "outputId": "f66980c1-8cf6-4ae3-a055-9291d2ffabf5"
      },
      "source": [
        "### EXACT GP ERM GRADIENTS\n",
        "\n",
        "np.random.seed(run_num_10)\n",
        "surrogate_exact_10 = dGaussianProcess(cov_func, optimize=opt)\n",
        "\n",
        "exact_10 = dGPGO(surrogate_exact_10, Acquisition_new(util_grad_exact), objfunc, param)\n",
        "exact_10.run(init_evals=n_init, max_iter=iters)\n"
      ],
      "execution_count": 43,
      "outputs": [
        {
          "output_type": "stream",
          "name": "stdout",
          "text": [
            "Evaluation \t Proposed point \t  Current eval. \t  Best eval. \t         Max AcqFunc.\n",
            "init\t [ 5.42641287 -9.58496101]\t -213.18891181932327\t -56.66743785259343\t    \n",
            "init\t [2.6729647  4.97607765]\t -56.66743785259343\t -56.66743785259343\t    \n",
            "init\t [-0.02985975 -5.50406709]\t -60.59040065376497\t -56.66743785259343\t    \n",
            "init\t [-6.0387427   5.21061424]\t -90.76741505398337\t -56.66743785259343\t    \n",
            "init\t [-6.61778327 -8.23320372]\t -179.36634226756874\t -56.66743785259343\t    \n",
            "1  \t [ 7.13700605 -2.96694721]\t -68.54240685564316\t -56.66743785259343\t -0.7978845607896438\n",
            "\u001b[1m\u001b[92m2\u001b[0m\t \u001b[1m\u001b[92m[2.11155129 0.26933255]\u001b[0m\t \u001b[1m\u001b[92m-4.603728884330075\u001b[0m\t \u001b[1m\u001b[92m-4.603728884330075\u001b[0m\t \u001b[1m\u001b[92m-0.7978845607896438\u001b[0m\n",
            "3  \t [-7.90760511 -1.20789524]\t -65.44824041188056\t -4.603728884330075\t -0.7978845607896438\n",
            "4  \t [10.          1.05007867]\t -102.20533043150957\t -4.603728884330075\t -0.7978837439580965\n",
            "5  \t [9.05287874 7.17298031]\t -184.8579064352607\t -4.603728884330075\t -0.7978844409755429\n",
            "6  \t [0.20663569 9.9051757 ]\t -196.2677094620948\t -4.603728884330075\t -0.7978845034541191\n",
            "7  \t [5.60556202 1.5732701 ]\t -36.372683107149456\t -4.603728884330075\t -0.7945972509436415\n",
            "8  \t [-2.63320577  0.79072699]\t -8.18427098326505\t -4.603728884330075\t -0.797865662753293\n",
            "9  \t [ -1.75786032 -10.        ]\t -203.09007289470682\t -4.603728884330075\t -0.7976756960201493\n",
            "10 \t [-10.           2.91491288]\t -116.99343423390103\t -4.603728884330075\t -0.7968746689531281\n",
            "11 \t [-6.06716473  9.22601338]\t -207.04913375817884\t -4.603728884330075\t -0.7978844551663714\n",
            "12 \t [-4.15027279 -4.14444632]\t -51.57763476579758\t -4.603728884330075\t -0.7959569183777604\n",
            "13 \t [10.         -6.82804578]\t -193.24441846050928\t -4.603728884330075\t -0.7976856544498386\n",
            "14 \t [ 3.15329723 -3.10927763]\t -29.278498175092714\t -4.603728884330075\t -0.784236645361998\n",
            "15 \t [ 5.26473434 10.        ]\t -227.71742762306263\t -4.603728884330075\t -0.7970967510578995\n",
            "16 \t [-1.67990754  5.56336591]\t -64.72416985748121\t -4.603728884330075\t -0.7946901945575551\n",
            "17 \t [5.74074853 6.23074296]\t -110.60050921632208\t -4.603728884330075\t -0.7978845599091763\n",
            "18 \t [-10.          -5.15065837]\t -153.058563227169\t -4.603728884330075\t -0.7958427152087626\n",
            "19 \t [-0.2283604 -1.8139729]\t -6.633143841564648\t -4.603728884330075\t -0.759080673085461\n",
            "20 \t [-6.02088819  1.72847233]\t -42.226327794352756\t -4.603728884330075\t -0.7024698216109547\n"
          ]
        }
      ]
    },
    {
      "cell_type": "code",
      "metadata": {
        "id": "VwbLIP9cIv-F",
        "colab": {
          "base_uri": "https://localhost:8080/"
        },
        "outputId": "117e3c78-8876-4d71-84cb-ce5ecec8b4d3"
      },
      "source": [
        "### EXACT GP ERM GRADIENTS\n",
        "\n",
        "np.random.seed(run_num_11)\n",
        "surrogate_exact_11 = dGaussianProcess(cov_func, optimize=opt)\n",
        "\n",
        "exact_11 = dGPGO(surrogate_exact_11, Acquisition_new(util_grad_exact), objfunc, param)\n",
        "exact_11.run(init_evals=n_init, max_iter=iters)\n"
      ],
      "execution_count": 44,
      "outputs": [
        {
          "output_type": "stream",
          "name": "stdout",
          "text": [
            "Evaluation \t Proposed point \t  Current eval. \t  Best eval. \t         Max AcqFunc.\n",
            "init\t [-6.39460622 -9.61049517]\t -225.61422357508457\t -2.716881462565864\t    \n",
            "init\t [-0.73562947  4.49867858]\t -41.01736871863572\t -2.716881462565864\t    \n",
            "init\t [-1.59592791 -0.29145804]\t -2.716881462565864\t -2.716881462565864\t    \n",
            "init\t [-9.74438371 -0.25256785]\t -95.08059489374317\t -2.716881462565864\t    \n",
            "init\t [8.83613305 7.01590179]\t -176.5230030066306\t -2.716881462565864\t    \n",
            "1  \t [ 1.99086793 -8.88652641]\t -161.90425830617428\t -2.716881462565864\t -0.7978845607896438\n",
            "2  \t [ 6.89877062 -3.95670624]\t -78.9040846386408\t -2.716881462565864\t -0.7978845607896438\n",
            "3  \t [10.          0.94213966]\t -101.77525425950674\t -2.716881462565864\t -0.7978833527117133\n",
            "4  \t [3.75872494 1.36611662]\t -17.860562386250265\t -2.716881462565864\t -0.797881159546621\n",
            "5  \t [-7.89611862  5.10567265]\t -114.48447569496835\t -2.716881462565864\t -0.7978845339407005\n",
            "6  \t [-8.47917244 -4.4343425 ]\t -111.223152041855\t -2.716881462565864\t -0.7978845456622211\n",
            "7  \t [1.40872256 9.76525486]\t -192.70490430955448\t -2.716881462565864\t -0.7978835848196819\n",
            "8  \t [-4.68752036 10.        ]\t -221.972847149317\t -2.716881462565864\t -0.7978831149558352\n",
            "9  \t [-2.7194663  -5.05091101]\t -58.41890098951077\t -2.716881462565864\t -0.797876360995921\n",
            "10 \t [-5.12671319  0.96325931]\t -28.13892517503769\t -2.716881462565864\t -0.7968945982481328\n",
            "11 \t [ 7.67110391 -9.40894977]\t -235.9025065467826\t -2.716881462565864\t -0.7978759470204037\n",
            "12 \t [ 1.33239808 -2.29361571]\t -12.296630711307921\t -2.716881462565864\t -0.7962535851264367\n",
            "13 \t [4.45671336 5.39827712]\t -78.14508578742885\t -2.716881462565864\t -0.7959949956484103\n",
            "14 \t [ 6.25925086 10.        ]\t -239.1782212931551\t -2.716881462565864\t -0.7789830649532247\n",
            "15 \t [ -2.10158238 -10.        ]\t -204.4166484987493\t -2.716881462565864\t -0.7876396994045943\n",
            "16 \t [-10. -10.]\t -300.0\t -2.716881462565864\t -0.7217031132010296\n",
            "17 \t [ 3.38747288 -5.22132462]\t -65.99943414229989\t -2.716881462565864\t -0.756359615509977\n",
            "18 \t [10.         -5.99799135]\t -171.95180053796594\t -2.716881462565864\t -0.7666037874273121\n",
            "19 \t [-8.83010338  8.96492813]\t -238.710598292495\t -2.716881462565864\t -0.7811090789727062\n",
            "20 \t [-4.43593474 -2.28211654]\t -30.09362882539692\t -2.716881462565864\t -0.6986710585406751\n"
          ]
        }
      ]
    },
    {
      "cell_type": "code",
      "metadata": {
        "id": "MlUNFjc-JTBY",
        "colab": {
          "base_uri": "https://localhost:8080/"
        },
        "outputId": "bae0bf32-5515-4a74-8d9f-7212fe6e154e"
      },
      "source": [
        "### EXACT GP ERM GRADIENTS\n",
        "\n",
        "np.random.seed(run_num_12)\n",
        "surrogate_exact_12 = dGaussianProcess(cov_func, optimize=opt)\n",
        "\n",
        "exact_12 = dGPGO(surrogate_exact_12, Acquisition_new(util_grad_exact), objfunc, param)\n",
        "exact_12.run(init_evals=n_init, max_iter=iters)\n"
      ],
      "execution_count": 45,
      "outputs": [
        {
          "output_type": "stream",
          "name": "stdout",
          "text": [
            "Evaluation \t Proposed point \t  Current eval. \t  Best eval. \t         Max AcqFunc.\n",
            "init\t [-6.91674315  4.80099393]\t -93.94042127407329\t -23.318590147261595\t    \n",
            "init\t [-4.7336997   0.67478787]\t -23.318590147261595\t -23.318590147261595\t    \n",
            "init\t [-9.70850075  8.37494016]\t -234.53423225249676\t -23.318590147261595\t    \n",
            "init\t [ 8.01429708 -9.33157145]\t -238.38540908259807\t -23.318590147261595\t    \n",
            "init\t [ 9.13898673 -7.25581357]\t -188.8147395776428\t -23.318590147261595\t    \n",
            "1  \t [4.66251955 4.05244711]\t -54.583743654491954\t -23.318590147261595\t -0.7978845607896438\n",
            "2  \t [-3.75432006 -8.6025265 ]\t -162.1018436659056\t -23.318590147261595\t -0.7978845607896438\n",
            "3  \t [-9.57940424 -4.59590956]\t -134.00975498124876\t -23.318590147261595\t -0.7978845601793796\n",
            "4  \t [0.62006076 8.91956245]\t -159.50166406148657\t -23.318590147261595\t -0.797884533085966\n",
            "5  \t [ 8.15269188 -0.957369  ]\t -68.2994957298121\t -23.318590147261595\t -0.7978843833212761\n",
            "6  \t [9.82022544 8.00293105]\t -224.53063835529863\t -23.318590147261595\t -0.7978845514657451\n",
            "\u001b[1m\u001b[92m7\u001b[0m\t \u001b[1m\u001b[92m[ 2.4307639  -2.13199137]\u001b[0m\t \u001b[1m\u001b[92m-14.999387546945627\u001b[0m\t \u001b[1m\u001b[92m-14.999387546945627\u001b[0m\t \u001b[1m\u001b[92m-0.7978838895319803\u001b[0m\n",
            "8  \t [ 2.24947769 -8.2274695 ]\t -140.44265872285\t -14.999387546945627\t -0.7978820437477118\n",
            "9  \t [-10. -10.]\t -300.0\t -14.999387546945627\t -0.79787054383567\n",
            "10 \t [-0.84607527  3.76784806]\t -29.109201334189617\t -14.999387546945627\t -0.7978320787010379\n",
            "11 \t [-4.5730597 10.       ]\t -220.91287499872328\t -14.999387546945627\t -0.7978221755031254\n",
            "12 \t [-9.26668028  0.25947923]\t -86.00602229354693\t -14.999387546945627\t -0.7974082794257774\n",
            "13 \t [-2.09303261 -3.6320279 ]\t -30.76403878017745\t -14.999387546945627\t -0.7977799329302075\n",
            "\u001b[1m\u001b[92m14\u001b[0m\t \u001b[1m\u001b[92m[-0.64062386 -0.01604579]\u001b[0m\t \u001b[1m\u001b[92m-0.410913860845994\u001b[0m\t \u001b[1m\u001b[92m-0.410913860845994\u001b[0m\t \u001b[1m\u001b[92m-0.7839096852174182\u001b[0m\n",
            "15 \t [ 5.36785431 10.        ]\t -228.81385984123963\t -0.410913860845994\t -0.7972222201868562\n",
            "16 \t [ 5.44780154 -4.84255334]\t -76.5791872411919\t -0.410913860845994\t -0.7931639161935402\n",
            "17 \t [9.5050868 3.3153938]\t -112.33034712188714\t -0.410913860845994\t -0.796154673508938\n",
            "18 \t [0.70715523 1.14046083]\t -3.101370325109041\t -0.410913860845994\t -0.7041640355951266\n",
            "19 \t [-5.98188655 -2.70828679]\t -50.45260140459736\t -0.410913860845994\t -0.7767810293500504\n",
            "20 \t [-3.28452891  6.25721064]\t -89.0935001661431\t -0.410913860845994\t -0.7485761619001193\n"
          ]
        }
      ]
    },
    {
      "cell_type": "code",
      "metadata": {
        "id": "9BsKdU9eJTFL",
        "colab": {
          "base_uri": "https://localhost:8080/"
        },
        "outputId": "ff7811a5-65b9-4161-c238-c7ed7ffe5d07"
      },
      "source": [
        "### EXACT GP ERM GRADIENTS\n",
        "\n",
        "np.random.seed(run_num_13)\n",
        "surrogate_exact_13 = dGaussianProcess(cov_func, optimize=opt)\n",
        "\n",
        "exact_13 = dGPGO(surrogate_exact_13, Acquisition_new(util_grad_exact), objfunc, param)\n",
        "exact_13.run(init_evals=n_init, max_iter=iters)\n"
      ],
      "execution_count": 46,
      "outputs": [
        {
          "output_type": "stream",
          "name": "stdout",
          "text": [
            "Evaluation \t Proposed point \t  Current eval. \t  Best eval. \t         Max AcqFunc.\n",
            "init\t [ 5.55404821 -5.2491756 ]\t -85.95514048001408\t -47.45541115581226\t    \n",
            "init\t [6.48557065 9.31498396]\t -215.600479080162\t -47.45541115581226\t    \n",
            "init\t [ 9.45202228 -0.93101505]\t -91.0743031984701\t -47.45541115581226\t    \n",
            "init\t [2.18084926 5.51053029]\t -65.48799167425372\t -47.45541115581226\t    \n",
            "init\t [2.8322669  4.44036459]\t -47.45541115581226\t -47.45541115581226\t    \n",
            "1  \t [-8.69830926  2.59657998]\t -89.14503917528086\t -47.45541115581226\t -0.7978845607896438\n",
            "2  \t [-5.9673185  -6.48540274]\t -119.72978734259729\t -47.45541115581226\t -0.7978845607896438\n",
            "3  \t [ 1.27140344 -9.80309118]\t -193.81766022446593\t -47.45541115581226\t -0.7978844905995267\n",
            "4  \t [-5.68974606  9.11900061]\t -198.68555458020188\t -47.45541115581226\t -0.797884560650113\n",
            "\u001b[1m\u001b[92m5\u001b[0m\t \u001b[1m\u001b[92m[-2.43828359 -1.72801377]\u001b[0m\t \u001b[1m\u001b[92m-11.91729004997534\u001b[0m\t \u001b[1m\u001b[92m-11.91729004997534\u001b[0m\t \u001b[1m\u001b[92m-0.7978838411155721\u001b[0m\n",
            "6  \t [-10.          -2.91329675]\t -116.97459594142217\t -11.91729004997534\t -0.7978671909151296\n",
            "\u001b[1m\u001b[92m7\u001b[0m\t \u001b[1m\u001b[92m[ 2.35957748 -0.63855278]\u001b[0m\t \u001b[1m\u001b[92m-6.383105173828674\u001b[0m\t \u001b[1m\u001b[92m-6.383105173828674\u001b[0m\t \u001b[1m\u001b[92m-0.7978455974241007\u001b[0m\n",
            "8  \t [10.          4.71599285]\t -144.4811770719873\t -6.383105173828674\t -0.7978793670492171\n",
            "9  \t [-2.93446835  3.43890074]\t -32.263181074322176\t -6.383105173828674\t -0.7978754743114902\n",
            "10 \t [-10. -10.]\t -300.0\t -6.383105173828674\t -0.797866258815487\n",
            "11 \t [10.         -6.87200353]\t -194.44886502453582\t -6.383105173828674\t -0.7975903374885166\n",
            "12 \t [ 0.38930097 -4.80429327]\t -46.31402293652961\t -6.383105173828674\t -0.7972092063562647\n",
            "13 \t [-0.19359297 10.        ]\t -200.03747823878\t -6.383105173828674\t -0.7978391128311468\n",
            "14 \t [6.00850831 2.01272587]\t -44.204302982429866\t -6.383105173828674\t -0.7937862281893281\n",
            "15 \t [-10.           7.15226154]\t -202.30969023314728\t -6.383105173828674\t -0.7969238477675273\n",
            "16 \t [-5.92817252 -1.84306468]\t -41.937004257745805\t -6.383105173828674\t -0.786440756945057\n",
            "17 \t [ 5.46882566 -9.25367579]\t -201.1690852388348\t -6.383105173828674\t -0.7845793344156589\n",
            "18 \t [ -3.37452418 -10.        ]\t -211.387413447233\t -6.383105173828674\t -0.7947535194819633\n",
            "19 \t [-2.79260749  7.02908865]\t -106.61483107143435\t -6.383105173828674\t -0.6858481786515485\n",
            "20 \t [10. 10.]\t -300.0\t -6.383105173828674\t -0.7123415781396937\n"
          ]
        }
      ]
    },
    {
      "cell_type": "code",
      "metadata": {
        "id": "k6GjFBr1JTJf",
        "colab": {
          "base_uri": "https://localhost:8080/"
        },
        "outputId": "a5a3770c-812e-49c3-aa21-b9b3ac55c51c"
      },
      "source": [
        "### EXACT GP ERM GRADIENTS\n",
        "\n",
        "np.random.seed(run_num_14)\n",
        "surrogate_exact_14 = dGaussianProcess(cov_func, optimize=opt)\n",
        "\n",
        "exact_14 = dGPGO(surrogate_exact_14, Acquisition_new(util_grad_exact), objfunc, param)\n",
        "exact_14.run(init_evals=n_init, max_iter=iters)\n"
      ],
      "execution_count": 47,
      "outputs": [
        {
          "output_type": "stream",
          "name": "stdout",
          "text": [
            "Evaluation \t Proposed point \t  Current eval. \t  Best eval. \t         Max AcqFunc.\n",
            "init\t [0.27886688 5.46330104]\t -59.77308327621332\t -26.48525945153859\t    \n",
            "init\t [ 7.40855371 -9.83906103]\t -248.5009120212351\t -26.48525945153859\t    \n",
            "init\t [-3.80528149  9.15207479]\t -182.0011130426615\t -26.48525945153859\t    \n",
            "init\t [ 0.26233425 -3.6343115 ]\t -26.48525945153859\t -26.48525945153859\t    \n",
            "init\t [ 0.78399875 -5.57490115]\t -62.773699734431055\t -26.48525945153859\t    \n",
            "1  \t [10.          1.66290252]\t -105.53048960823196\t -26.48525945153859\t -0.7978845607896438\n",
            "2  \t [-8.1477833   0.47898709]\t -66.84523003287876\t -26.48525945153859\t -0.7978845607896438\n",
            "3  \t [ -3.56142181 -10.        ]\t -212.6837253269007\t -26.48525945153859\t -0.7978844927214049\n",
            "4  \t [-9.25408911 -6.01411438]\t -157.97730888889856\t -26.48525945153859\t -0.7978845527144436\n",
            "5  \t [9.75309759 8.89296777]\t -253.29266403870446\t -26.48525945153859\t -0.7978845606756294\n",
            "6  \t [-9.20508311  6.53757134]\t -170.2132331105962\t -26.48525945153859\t -0.7978837633346074\n",
            "7  \t [10.         -4.42757616]\t -139.20686135913067\t -26.48525945153859\t -0.7978833819848493\n",
            "8  \t [ 3.83605746 10.        ]\t -214.71533681699657\t -26.48525945153859\t -0.7978827973102655\n",
            "9  \t [ 5.16028044 -1.29235085]\t -29.968835634771633\t -26.48525945153859\t -0.7978773815744701\n",
            "10 \t [-4.61837064 -3.34884579]\t -43.758883642159546\t -26.48525945153859\t -0.7978017146014618\n",
            "11 \t [  2.20007334 -10.        ]\t -204.84032270171528\t -26.48525945153859\t -0.7974878545662727\n",
            "12 \t [5.45644716 4.76123258]\t -75.11148710882853\t -26.48525945153859\t -0.7978426348726518\n",
            "\u001b[1m\u001b[92m13\u001b[0m\t \u001b[1m\u001b[92m[-2.48516624  1.19670878]\u001b[0m\t \u001b[1m\u001b[92m-9.040275050152156\u001b[0m\t \u001b[1m\u001b[92m-9.040275050152156\u001b[0m\t \u001b[1m\u001b[92m-0.7978088771869359\u001b[0m\n",
            "\u001b[1m\u001b[92m14\u001b[0m\t \u001b[1m\u001b[92m[1.3543707  1.35048147]\u001b[0m\t \u001b[1m\u001b[92m-5.481920401363542\u001b[0m\t \u001b[1m\u001b[92m-5.481920401363542\u001b[0m\t \u001b[1m\u001b[92m-0.7945168046790188\u001b[0m\n",
            "15 \t [-3.78900465  4.34280535]\t -52.076472776384044\t -5.481920401363542\t -0.7886007003113814\n",
            "16 \t [ 5.93372486 -5.84829173]\t -103.61412317832959\t -5.481920401363542\t -0.7871781205824591\n",
            "17 \t [-0.04591651 10.        ]\t -200.00210832590423\t -5.481920401363542\t -0.7428926974933348\n",
            "18 \t [-10. -10.]\t -300.0\t -5.481920401363542\t -0.7873164467664184\n",
            "19 \t [-10.         -2.4636086]\t -112.13873466498066\t -5.481920401363542\t -0.7070889387057185\n",
            "20 \t [-4.39925717 -6.49961589]\t -103.84347715157166\t -5.481920401363542\t -0.6509727252814956\n"
          ]
        }
      ]
    },
    {
      "cell_type": "code",
      "metadata": {
        "id": "dPS8WB3aJTN6",
        "colab": {
          "base_uri": "https://localhost:8080/"
        },
        "outputId": "c4825d18-7865-4a1d-c3d2-30b21a3ce2ae"
      },
      "source": [
        "### EXACT GP ERM GRADIENTS\n",
        "\n",
        "np.random.seed(run_num_15)\n",
        "surrogate_exact_15 = dGaussianProcess(cov_func, optimize=opt)\n",
        "\n",
        "exact_15 = dGPGO(surrogate_exact_15, Acquisition_new(util_grad_exact), objfunc, param)\n",
        "exact_15.run(init_evals=n_init, max_iter=iters)\n"
      ],
      "execution_count": 48,
      "outputs": [
        {
          "output_type": "stream",
          "name": "stdout",
          "text": [
            "Evaluation \t Proposed point \t  Current eval. \t  Best eval. \t         Max AcqFunc.\n",
            "init\t [ 6.97635395 -6.4220815 ]\t -131.15577599697437\t -20.897907943365695\t    \n",
            "init\t [-8.91273571 -2.76923108]\t -94.77413943464936\t -20.897907943365695\t    \n",
            "init\t [-4.49198143  0.6000045 ]\t -20.897907943365695\t -20.897907943365695\t    \n",
            "init\t [-3.88162169 -3.91051282]\t -45.651207890195394\t -20.897907943365695\t    \n",
            "init\t [-7.76517448 -5.00201972]\t -110.33833725681367\t -20.897907943365695\t    \n",
            "1  \t [-1.08003705  9.49213271]\t -181.3676469637466\t -20.897907943365695\t -0.7978845607896438\n",
            "2  \t [-9.69991687  7.99454818]\t -221.91398842692476\t -20.897907943365695\t -0.7978845607896426\n",
            "3  \t [9.38262114 9.37010501]\t -263.6313154484096\t -20.897907943365695\t -0.7978845607896438\n",
            "4  \t [8.17696818 1.09984692]\t -69.28213505909017\t -20.897907943365695\t -0.7978845607813452\n",
            "\u001b[1m\u001b[92m5\u001b[0m\t \u001b[1m\u001b[92m[ 1.57189916 -2.04770067]\u001b[0m\t \u001b[1m\u001b[92m-10.85702305388301\u001b[0m\t \u001b[1m\u001b[92m-10.85702305388301\u001b[0m\t \u001b[1m\u001b[92m-0.7978838573198868\u001b[0m\n",
            "6  \t [-0.62952455 -9.52479128]\t -181.8395990317211\t -10.85702305388301\t -0.7978845525451375\n",
            "7  \t [1.14425347 3.31312676]\t -23.262933871238165\t -10.85702305388301\t -0.7978831007146597\n",
            "8  \t [-10. -10.]\t -300.0\t -10.85702305388301\t -0.797876167039548\n",
            "9  \t [4.09206393 7.64224222]\t -133.55271949065863\t -10.85702305388301\t -0.7978530314046436\n",
            "10 \t [-5.06723012  6.48642743]\t -109.82430257835938\t -10.85702305388301\t -0.7973208054858618\n",
            "11 \t [-10.           2.46234858]\t -112.12632104084463\t -10.85702305388301\t -0.7978577044793325\n",
            "12 \t [ 0.75324543 -5.45710744]\t -60.12742185047628\t -10.85702305388301\t -0.7875828457125255\n",
            "13 \t [9.68701915 4.97434638]\t -143.32658382505755\t -10.85702305388301\t -0.7908506310119926\n",
            "14 \t [10.         -2.95486074]\t -117.46240392902052\t -10.85702305388301\t -0.7961693184750867\n",
            "15 \t [4.88958005 3.50647217]\t -48.49868728629403\t -10.85702305388301\t -0.7837117324146461\n",
            "16 \t [ -5.24621282 -10.        ]\t -227.52274894192394\t -10.85702305388301\t -0.795997241778224\n",
            "17 \t [ 5.24721665 -1.99318799]\t -35.47887928540894\t -10.85702305388301\t -0.7921341412545064\n",
            "18 \t [ 3.75029813 -9.38525548]\t -190.2307769292882\t -10.85702305388301\t -0.7925114546742229\n",
            "\u001b[1m\u001b[92m19\u001b[0m\t \u001b[1m\u001b[92m[-0.94062549 -0.15839066]\u001b[0m\t \u001b[1m\u001b[92m-0.9349515202537672\u001b[0m\t \u001b[1m\u001b[92m-0.9349515202537672\u001b[0m\t \u001b[1m\u001b[92m-0.7700645179409585\u001b[0m\n",
            "20 \t [-3.1337714   3.69754049]\t -37.16413458132334\t -0.9349515202537672\t -0.6978213626586832\n"
          ]
        }
      ]
    },
    {
      "cell_type": "code",
      "metadata": {
        "id": "SHWdp2giJTRm",
        "colab": {
          "base_uri": "https://localhost:8080/"
        },
        "outputId": "6e19bfad-48ab-47d6-cd27-a7733b5735c9"
      },
      "source": [
        "### EXACT GP ERM GRADIENTS\n",
        "\n",
        "np.random.seed(run_num_16)\n",
        "surrogate_exact_16 = dGaussianProcess(cov_func, optimize=opt)\n",
        "\n",
        "exact_16 = dGPGO(surrogate_exact_16, Acquisition_new(util_grad_exact), objfunc, param)\n",
        "exact_16.run(init_evals=n_init, max_iter=iters)\n"
      ],
      "execution_count": 49,
      "outputs": [
        {
          "output_type": "stream",
          "name": "stdout",
          "text": [
            "Evaluation \t Proposed point \t  Current eval. \t  Best eval. \t         Max AcqFunc.\n",
            "init\t [-5.53417842  0.46326683]\t -31.056363058280656\t -31.056363058280656\t    \n",
            "init\t [ 1.01402913 -9.087961  ]\t -166.21032525826828\t -31.056363058280656\t    \n",
            "init\t [-2.78542329 -5.53838117]\t -69.10591480510183\t -31.056363058280656\t    \n",
            "init\t [ 3.77452324 -6.7253715 ]\t -104.70826928786903\t -31.056363058280656\t    \n",
            "init\t [-8.59350266  8.8202172 ]\t -229.44075111810224\t -31.056363058280656\t    \n",
            "1  \t [4.18505664 9.44091052]\t -195.7762819329394\t -31.056363058280656\t -0.7978845607896438\n",
            "2  \t [-10. -10.]\t -300.0\t -31.056363058280656\t -0.7978845607896397\n",
            "\u001b[1m\u001b[92m3\u001b[0m\t \u001b[1m\u001b[92m[ 2.52801252 -0.08752176]\u001b[0m\t \u001b[1m\u001b[92m-6.406167436310099\u001b[0m\t \u001b[1m\u001b[92m-6.406167436310099\u001b[0m\t \u001b[1m\u001b[92m-0.797884557531833\u001b[0m\n",
            "4  \t [ 8.8300141  -0.10570929]\t -77.99149800000582\t -6.406167436310099\t -0.7978845569840912\n",
            "5  \t [-2.22531694  5.42968011]\t -63.91488757640133\t -6.406167436310099\t -0.7978845607896438\n",
            "6  \t [-10.          -3.10152711]\t -119.23894087714001\t -6.406167436310099\t -0.7978839264277336\n",
            "7  \t [9.54858064 5.67238397]\t -155.5272721834636\t -6.406167436310099\t -0.7978836904895446\n",
            "8  \t [-0.69830756  9.91532789]\t -197.11508770584697\t -6.406167436310099\t -0.7973818144146293\n",
            "9  \t [ 9.56282855 -7.48668919]\t -203.54871999949017\t -6.406167436310099\t -0.7978835227905348\n",
            "\u001b[1m\u001b[92m10\u001b[0m\t \u001b[1m\u001b[92m[-1.36412736 -0.31694595]\u001b[0m\t \u001b[1m\u001b[92m-2.0617529135742276\u001b[0m\t \u001b[1m\u001b[92m-2.0617529135742276\u001b[0m\t \u001b[1m\u001b[92m-0.7961174426974225\u001b[0m\n",
            "11 \t [3.14881444 4.33911801]\t -47.570922551951774\t -2.0617529135742276\t -0.7977426479054165\n",
            "12 \t [-10.           2.54080793]\t -112.91140984587514\t -2.0617529135742276\t -0.7978389676188811\n",
            "13 \t [-4.93907965 -9.83867979]\t -217.99374781260835\t -2.0617529135742276\t -0.79751698527816\n",
            "14 \t [10. 10.]\t -300.0\t -2.0617529135742276\t -0.7948753098668284\n",
            "15 \t [ 5.41224475 -2.69745562]\t -43.844926884652715\t -2.0617529135742276\t -0.7930412578702067\n",
            "16 \t [-6.79569634 -6.14182846]\t -121.6256024186231\t -2.0617529135742276\t -0.780902313374292\n",
            "17 \t [ 1.06016292 -3.53291391]\t -26.086906808266733\t -2.0617529135742276\t -0.7902662690874459\n",
            "18 \t [-6.15396276  4.47382337]\t -77.9014486527805\t -2.0617529135742276\t -0.7884497764803741\n",
            "19 \t [-0.01202335  2.0910656 ]\t -8.745255264485007\t -2.0617529135742276\t -0.7692526987674779\n",
            "20 \t [  5.75307525 -10.        ]\t -233.09787482689902\t -2.0617529135742276\t -0.7788104759920897\n"
          ]
        }
      ]
    },
    {
      "cell_type": "code",
      "metadata": {
        "id": "yU2SflSsJTUs",
        "colab": {
          "base_uri": "https://localhost:8080/"
        },
        "outputId": "d5710e2f-8b97-4735-b7a6-c47e621823ac"
      },
      "source": [
        "### EXACT GP ERM GRADIENTS\n",
        "\n",
        "np.random.seed(run_num_17)\n",
        "surrogate_exact_17 = dGaussianProcess(cov_func, optimize=opt)\n",
        "\n",
        "exact_17 = dGPGO(surrogate_exact_17, Acquisition_new(util_grad_exact), objfunc, param)\n",
        "exact_17.run(init_evals=n_init, max_iter=iters)\n"
      ],
      "execution_count": 50,
      "outputs": [
        {
          "output_type": "stream",
          "name": "stdout",
          "text": [
            "Evaluation \t Proposed point \t  Current eval. \t  Best eval. \t         Max AcqFunc.\n",
            "init\t [-4.10669995  0.61173511]\t -17.613424143360255\t -12.137436774523842\t    \n",
            "init\t [-6.16958426 -8.64199284]\t -187.43185031516856\t -12.137436774523842\t    \n",
            "init\t [5.7397092  3.12667044]\t -52.49639772521824\t -12.137436774523842\t    \n",
            "init\t [2.75041792 1.51205788]\t -12.137436774523842\t -12.137436774523842\t    \n",
            "init\t [-9.21874168 -2.84372791]\t -101.1587749488933\t -12.137436774523842\t    \n",
            "1  \t [-8.64042543  9.21575513]\t -244.5172369008349\t -12.137436774523842\t -0.7978845607896438\n",
            "2  \t [ 4.54825031 -8.71744454]\t -172.6742595800706\t -12.137436774523842\t -0.7978845607896438\n",
            "3  \t [9.12376544 9.73620918]\t -272.83063435528607\t -12.137436774523842\t -0.7978845607756838\n",
            "4  \t [-0.05385845  7.96254756]\t -126.80722802594437\t -12.137436774523842\t -0.7978845607295186\n",
            "5  \t [ 9.06636127 -2.74323799]\t -97.24961590065784\t -12.137436774523842\t -0.7978845590511535\n",
            "6  \t [ 1.29857988 -3.67254841]\t -28.661533360959897\t -12.137436774523842\t -0.7978823776121288\n",
            "7  \t [-10.           3.33631092]\t -122.26194111400845\t -12.137436774523842\t -0.7978837068261657\n",
            "8  \t [-1.02859872 -9.21677652]\t -170.95595419028933\t -12.137436774523842\t -0.7978845607896438\n",
            "9  \t [10.         -8.52480025]\t -245.34443849180192\t -12.137436774523842\t -0.7978687949789042\n",
            "10 \t [-4.5241059   5.30221253]\t -76.69444968701528\t -12.137436774523842\t -0.7977676060572955\n",
            "11 \t [10.          4.71705288]\t -144.50117573364426\t -12.137436774523842\t -0.7973033138600745\n",
            "12 \t [-3.79124136 -4.02357187]\t -46.75177217271856\t -12.137436774523842\t -0.7977070923486596\n",
            "13 \t [5.20076423 7.23683939]\t -131.79163728040083\t -12.137436774523842\t -0.794050018278006\n",
            "14 \t [-0.69114407  3.17597448]\t -20.65130794878612\t -12.137436774523842\t -0.7938220917126538\n",
            "15 \t [ 4.99066149 -2.82738409]\t -40.89490373906043\t -12.137436774523842\t -0.7864327143891358\n",
            "\u001b[1m\u001b[92m16\u001b[0m\t \u001b[1m\u001b[92m[-0.63647083 -0.55970649]\u001b[0m\t \u001b[1m\u001b[92m-1.0316378269915645\u001b[0m\t \u001b[1m\u001b[92m-1.0316378269915645\u001b[0m\t \u001b[1m\u001b[92m-0.7778587118957667\u001b[0m\n",
            "17 \t [-10.          -6.28616411]\t -179.03171834256395\t -1.0316378269915645\t -0.7978823441996008\n",
            "18 \t [-3.74622013  9.13526661]\t -180.94035713448434\t -1.0316378269915645\t -0.7711957070966435\n",
            "19 \t [9.20898999 0.95699703]\t -86.63718326198178\t -1.0316378269915645\t -0.7478045394116748\n",
            "20 \t [-7.03716595  0.0507023 ]\t -49.52684602496852\t -1.0316378269915645\t -0.7124646079296888\n"
          ]
        }
      ]
    },
    {
      "cell_type": "code",
      "metadata": {
        "id": "es0KCh_0JTgY",
        "colab": {
          "base_uri": "https://localhost:8080/"
        },
        "outputId": "951bb2ba-c4aa-4c95-ada5-d7a1ec0b8551"
      },
      "source": [
        "### EXACT GP ERM GRADIENTS\n",
        "\n",
        "np.random.seed(run_num_18)\n",
        "surrogate_exact_18 = dGaussianProcess(cov_func, optimize=opt)\n",
        "\n",
        "exact_18 = dGPGO(surrogate_exact_18, Acquisition_new(util_grad_exact), objfunc, param)\n",
        "exact_18.run(init_evals=n_init, max_iter=iters)\n"
      ],
      "execution_count": 51,
      "outputs": [
        {
          "output_type": "stream",
          "name": "stdout",
          "text": [
            "Evaluation \t Proposed point \t  Current eval. \t  Best eval. \t         Max AcqFunc.\n",
            "init\t [3.00748483 0.10906747]\t -9.068756459576363\t -9.068756459576363\t    \n",
            "init\t [ 7.57202942 -6.36319549]\t -138.3161432668939\t -9.068756459576363\t    \n",
            "init\t [7.04466137 5.00272572]\t -99.6817831686958\t -9.068756459576363\t    \n",
            "init\t [3.32203335 9.75790897]\t -201.4694803352836\t -9.068756459576363\t    \n",
            "init\t [-4.86063155 -9.43388149]\t -201.6219791510955\t -9.068756459576363\t    \n",
            "1  \t [-6.1664519   4.28513481]\t -74.74988979878172\t -9.068756459576363\t -0.7978845607896438\n",
            "2  \t [-6.07110106 -2.27098711]\t -47.173032968123124\t -9.068756459576363\t -0.7978845601516084\n",
            "3  \t [-9.84572665 -7.72302303]\t -216.22850278173115\t -9.068756459576363\t -0.7978845600401665\n",
            "4  \t [ 0.87205949 -4.89408813]\t -48.66468495798963\t -9.068756459576363\t -0.7978837079006124\n",
            "5  \t [ 4.59940623 -9.59713586]\t -205.36457092968183\t -9.068756459576363\t -0.7978845607896438\n",
            "6  \t [10. 10.]\t -300.0\t -9.068756459576363\t -0.7978833560590437\n",
            "7  \t [-0.03758551  4.21795179]\t -35.58364719436431\t -9.068756459576363\t -0.7978796504523312\n",
            "8  \t [-1.45937384  8.41175071]\t -143.64487210551948\t -9.068756459576363\t -0.7971728010197606\n",
            "9  \t [10.         -0.96781592]\t -101.87333529420185\t -9.068756459576363\t -0.7978836890150681\n",
            "10 \t [-9.69289674  8.4893621 ]\t -238.0907849162934\t -9.068756459576363\t -0.7978791538045911\n",
            "11 \t [-10.           0.86223358]\t -101.4868935045023\t -9.068756459576363\t -0.7978114717625233\n",
            "\u001b[1m\u001b[92m12\u001b[0m\t \u001b[1m\u001b[92m[-1.67045691 -0.30641197]\u001b[0m\t \u001b[1m\u001b[92m-2.9782028687551017\u001b[0m\t \u001b[1m\u001b[92m-2.9782028687551017\u001b[0m\t \u001b[1m\u001b[92m-0.7976439016382634\u001b[0m\n",
            "13 \t [-5.39739882  9.91104342]\t -225.58947738116868\t -2.9782028687551017\t -0.7907623234244583\n",
            "14 \t [6.33538145 0.38611595]\t -40.435229199128706\t -2.9782028687551017\t -0.7766675066471387\n",
            "15 \t [3.87157936 3.29377057]\t -36.68697586644191\t -2.9782028687551017\t -0.7978845581841545\n",
            "16 \t [-9.4869626  -3.68519359]\t -117.16376287080594\t -2.9782028687551017\t -0.7701775774214504\n",
            "17 \t [-2.96277034 -5.57499229]\t -70.93908611392276\t -2.9782028687551017\t -0.786492261668599\n",
            "18 \t [-0.16818021 -9.97545   ]\t -199.047489969023\t -2.9782028687551017\t -0.7965711803103118\n",
            "19 \t [-3.24967434  2.28936212]\t -21.042741093386162\t -2.9782028687551017\t -0.7473597292427578\n",
            "20 \t [-10.           4.92110702]\t -148.43458856293856\t -2.9782028687551017\t -0.7978827663258956\n"
          ]
        }
      ]
    },
    {
      "cell_type": "code",
      "metadata": {
        "id": "Pput2LHPIwBM",
        "colab": {
          "base_uri": "https://localhost:8080/"
        },
        "outputId": "a1ee3d32-de6d-4781-948c-31020b31a51c"
      },
      "source": [
        "### EXACT GP ERM GRADIENTS\n",
        "\n",
        "np.random.seed(run_num_19)\n",
        "surrogate_exact_19 = dGaussianProcess(cov_func, optimize=opt)\n",
        "\n",
        "exact_19 = dGPGO(surrogate_exact_19, Acquisition_new(util_grad_exact), objfunc, param)\n",
        "exact_19.run(init_evals=n_init, max_iter=iters)\n"
      ],
      "execution_count": 52,
      "outputs": [
        {
          "output_type": "stream",
          "name": "stdout",
          "text": [
            "Evaluation \t Proposed point \t  Current eval. \t  Best eval. \t         Max AcqFunc.\n",
            "init\t [-8.04932797  5.22499433]\t -119.39281225846176\t -87.03025225125222\t    \n",
            "init\t [-5.06124054 -7.23736625]\t -130.3750962570555\t -87.03025225125222\t    \n",
            "init\t [-3.37106873 -8.3400087 ]\t -150.4755946408245\t -87.03025225125222\t    \n",
            "init\t [3.43954163 6.13187596]\t -87.03025225125222\t -87.03025225125222\t    \n",
            "init\t [9.65483829 2.7132147 ]\t -107.93897039562282\t -87.03025225125222\t    \n",
            "1  \t [ 9.42739537 -7.28680447]\t -195.07082209920037\t -87.03025225125222\t -0.7978845607896438\n",
            "\u001b[1m\u001b[92m2\u001b[0m\t \u001b[1m\u001b[92m[-0.98729228  0.17377362]\u001b[0m\t \u001b[1m\u001b[92m-1.035140583629665\u001b[0m\t \u001b[1m\u001b[92m-1.035140583629665\u001b[0m\t \u001b[1m\u001b[92m-0.7978845607659903\u001b[0m\n",
            "3  \t [-10.          -0.36564374]\t -100.26739069161607\t -1.035140583629665\t -0.7978838335817076\n",
            "4  \t [ 3.28170035 -5.35745925]\t -68.17429644231365\t -1.035140583629665\t -0.7978845130079897\n",
            "5  \t [-2.69333527  7.93798122]\t -133.2771466359215\t -1.035140583629665\t -0.797884087784409\n",
            "6  \t [8.75113246 8.75937287]\t -230.03554562232063\t -1.035140583629665\t -0.7978838385447725\n",
            "7  \t [4.2692519  0.20483541]\t -18.310426866093795\t -1.035140583629665\t -0.7978813531513425\n",
            "8  \t [-10. -10.]\t -300.0\t -1.035140583629665\t -0.7978811918034941\n",
            "9  \t [-4.9748569   0.64207123]\t -25.573712056357657\t -1.035140583629665\t -0.7977459654899514\n",
            "10 \t [10.         -2.23456886]\t -109.9865959783353\t -1.035140583629665\t -0.7976430800459033\n",
            "11 \t [-1.20246557 -3.7827667 ]\t -30.06457133497874\t -1.035140583629665\t -0.7974214376566546\n",
            "12 \t [  4.78084898 -10.        ]\t -222.85651695061688\t -1.035140583629665\t -0.797743677249402\n",
            "13 \t [-10.          -5.06613614]\t -151.33147075456608\t -1.035140583629665\t -0.797082836248689\n",
            "14 \t [ 1.45223579 10.        ]\t -202.10898879505518\t -1.035140583629665\t -0.7954477238162082\n",
            "15 \t [-7.02325672 10.        ]\t -249.32613488594464\t -1.035140583629665\t -0.797349845495565\n",
            "16 \t [-0.27998156  3.44022545]\t -23.74869192694025\t -1.035140583629665\t -0.7962702703238098\n",
            "17 \t [-6.2239509  -2.93214125]\t -55.93246942813465\t -1.035140583629665\t -0.7876683805571163\n",
            "18 \t [ 6.71341708 -4.12784484]\t -79.14817495665376\t -1.035140583629665\t -0.747707808073298\n",
            "19 \t [ 1.35942719 -1.38389746]\t -5.678386647575713\t -1.035140583629665\t -0.7581560690338923\n",
            "20 \t [-3.96103708  4.06296955]\t -48.70525785372067\t -1.035140583629665\t -0.7698758884900893\n"
          ]
        }
      ]
    },
    {
      "cell_type": "code",
      "metadata": {
        "id": "aw3xvSryIwDi",
        "colab": {
          "base_uri": "https://localhost:8080/"
        },
        "outputId": "35be4a58-a241-4368-d34c-c536703ae490"
      },
      "source": [
        "### EXACT GP ERM GRADIENTS\n",
        "\n",
        "np.random.seed(run_num_20)\n",
        "surrogate_exact_20 = dGaussianProcess(cov_func, optimize=opt)\n",
        "\n",
        "exact_20 = dGPGO(surrogate_exact_20, Acquisition_new(util_grad_exact), objfunc, param)\n",
        "exact_20.run(init_evals=n_init, max_iter=iters)\n"
      ],
      "execution_count": 53,
      "outputs": [
        {
          "output_type": "stream",
          "name": "stdout",
          "text": [
            "Evaluation \t Proposed point \t  Current eval. \t  Best eval. \t         Max AcqFunc.\n",
            "init\t [1.76261602 7.95427456]\t -129.64778273349407\t -6.161449614183514\t    \n",
            "init\t [7.83061459 6.31674955]\t -141.12117450686426\t -6.161449614183514\t    \n",
            "init\t [-9.28220829  3.83515164]\t -115.57616682517047\t -6.161449614183514\t    \n",
            "init\t [-2.42638116  0.37021891]\t -6.161449614183514\t -6.161449614183514\t    \n",
            "init\t [ 3.15902931 -6.12299564]\t -84.96161746112533\t -6.161449614183514\t    \n",
            "1  \t [ 6.78995846 -0.77921207]\t -47.31787877809484\t -6.161449614183514\t -0.7978845607834307\n",
            "2  \t [-7.8478547 -7.6599646]\t -178.938938646232\t -6.161449614183514\t -0.7978845607896438\n",
            "3  \t [-4.56172279  9.14761084]\t -188.16688311626407\t -6.161449614183514\t -0.7978845320322334\n",
            "4  \t [ 9.03563127 -5.57761678]\t -143.86225043765864\t -6.161449614183514\t -0.7978845607896299\n",
            "5  \t [-2.12605608 -8.09125458]\t -135.4569156559609\t -6.161449614183514\t -0.797878757151732\n",
            "6  \t [2.41195647 2.19547989]\t -15.457797925351816\t -6.161449614183514\t -0.7978707435720893\n",
            "7  \t [-8.39781452 -1.1898497 ]\t -73.3547733258461\t -6.161449614183514\t -0.79788263261265\n",
            "8  \t [  6.40761749 -10.        ]\t -241.05756192327595\t -6.161449614183514\t -0.7977610063481602\n",
            "9  \t [-4.10690005 -3.6065931 ]\t -42.88165569818888\t -6.161449614183514\t -0.7974318081720071\n",
            "10 \t [-2.09395347  4.27872614]\t -40.999635887704\t -6.161449614183514\t -0.7978832824080799\n",
            "11 \t [10.          2.17815259]\t -109.48869737131916\t -6.161449614183514\t -0.7963818635576015\n",
            "12 \t [-9.42357005  8.59245745]\t -236.46432249052913\t -6.161449614183514\t -0.7972394074581708\n",
            "13 \t [10. 10.]\t -300.0\t -6.161449614183514\t -0.7940911225163452\n",
            "14 \t [  2.50045427 -10.        ]\t -206.25227155462238\t -6.161449614183514\t -0.7978820977968499\n",
            "15 \t [ 0.69214902 -1.900384  ]\t -7.70198897897559\t -6.161449614183514\t -0.7966211263588323\n",
            "16 \t [4.24445695 4.82310125]\t -64.5400261789284\t -6.161449614183514\t -0.7464366879275733\n",
            "17 \t [-5.39043489  1.66196827]\t -34.581065436356546\t -6.161449614183514\t -0.7834345048287342\n",
            "18 \t [ 5.45149146 10.        ]\t -229.71875911118698\t -6.161449614183514\t -0.7887003595280568\n",
            "19 \t [-10.         -4.4867094]\t -140.26112241345612\t -6.161449614183514\t -0.7480230098141535\n",
            "20 \t [-5.64604178  5.29800609]\t -88.01552497136964\t -6.161449614183514\t -0.7472341138791695\n"
          ]
        }
      ]
    },
    {
      "cell_type": "code",
      "metadata": {
        "id": "qNqAB3vBTPqb",
        "colab": {
          "base_uri": "https://localhost:8080/"
        },
        "outputId": "187a80a0-6dbb-4b72-a2c2-f99560596523"
      },
      "source": [
        "end_exact = time.time()\n",
        "end_exact\n",
        "\n",
        "time_exact = end_exact - start_exact\n",
        "time_exact"
      ],
      "execution_count": 54,
      "outputs": [
        {
          "output_type": "execute_result",
          "data": {
            "text/plain": [
              "265.8080909252167"
            ]
          },
          "metadata": {},
          "execution_count": 54
        }
      ]
    },
    {
      "cell_type": "code",
      "metadata": {
        "id": "JPQzjdBZQxfg",
        "colab": {
          "base_uri": "https://localhost:8080/"
        },
        "outputId": "0b55bb79-a3bf-489b-f6b9-c1afb478defa"
      },
      "source": [
        "### Simple regret minimization: run number = 1\n",
        "\n",
        "approx_output_1 = np.append(np.min(approx_1.GP.y[0:n_init]),approx_1.GP.y[n_init:(n_init+iters)]) \n",
        "exact_output_1 = np.append(np.min(exact_1.GP.y[0:n_init]),exact_1.GP.y[n_init:(n_init+iters)]) \n",
        "\n",
        "regret_approx_1 = np.log(-approx_output_1 + y_global_orig)\n",
        "regret_exact_1 = np.log(-exact_output_1 + y_global_orig)\n",
        "\n",
        "simple_regret_approx_1 = min_max_array(regret_approx_1)\n",
        "simple_regret_exact_1 = min_max_array(regret_exact_1)\n",
        "\n",
        "min_simple_regret_approx_1 = min(simple_regret_approx_1)\n",
        "min_simple_regret_exact_1 = min(simple_regret_exact_1)\n",
        "\n",
        "min_simple_regret_approx_1, min_simple_regret_exact_1"
      ],
      "execution_count": 55,
      "outputs": [
        {
          "output_type": "execute_result",
          "data": {
            "text/plain": [
              "(2.1548576093547873, 1.0342011296973341)"
            ]
          },
          "metadata": {},
          "execution_count": 55
        }
      ]
    },
    {
      "cell_type": "code",
      "metadata": {
        "id": "94yBw5tqQxfk",
        "colab": {
          "base_uri": "https://localhost:8080/"
        },
        "outputId": "aec1d1da-ea00-48d0-e2ef-2a77450f83db"
      },
      "source": [
        "### Simple regret minimization: run number = 2\n",
        "\n",
        "approx_output_2 = np.append(np.min(approx_2.GP.y[0:n_init]),approx_2.GP.y[n_init:(n_init+iters)]) \n",
        "exact_output_2 = np.append(np.min(exact_2.GP.y[0:n_init]),exact_2.GP.y[n_init:(n_init+iters)]) \n",
        "\n",
        "regret_approx_2 = np.log(-approx_output_2 + y_global_orig)\n",
        "regret_exact_2 = np.log(-exact_output_2 + y_global_orig)\n",
        "\n",
        "simple_regret_approx_2 = min_max_array(regret_approx_2)\n",
        "simple_regret_exact_2 = min_max_array(regret_exact_2)\n",
        "\n",
        "min_simple_regret_approx_2 = min(simple_regret_approx_2)\n",
        "min_simple_regret_exact_2 = min(simple_regret_exact_2)\n",
        "\n",
        "min_simple_regret_approx_2, min_simple_regret_exact_2"
      ],
      "execution_count": 56,
      "outputs": [
        {
          "output_type": "execute_result",
          "data": {
            "text/plain": [
              "(1.7118528923337784, 2.867932084150864)"
            ]
          },
          "metadata": {},
          "execution_count": 56
        }
      ]
    },
    {
      "cell_type": "code",
      "metadata": {
        "id": "Bu6SBWALQxfl",
        "colab": {
          "base_uri": "https://localhost:8080/"
        },
        "outputId": "a736a5da-48a8-48b9-cd1a-84004c57472c"
      },
      "source": [
        "### Simple regret minimization: run number = 3\n",
        "\n",
        "approx_output_3 = np.append(np.min(approx_3.GP.y[0:n_init]),approx_3.GP.y[n_init:(n_init+iters)]) \n",
        "exact_output_3 = np.append(np.min(exact_3.GP.y[0:n_init]),exact_3.GP.y[n_init:(n_init+iters)]) \n",
        "\n",
        "regret_approx_3 = np.log(-approx_output_3 + y_global_orig)\n",
        "regret_exact_3 = np.log(-exact_output_3 + y_global_orig)\n",
        "\n",
        "simple_regret_approx_3 = min_max_array(regret_approx_3)\n",
        "simple_regret_exact_3 = min_max_array(regret_exact_3)\n",
        "\n",
        "min_simple_regret_approx_3 = min(simple_regret_approx_3)\n",
        "min_simple_regret_exact_3 = min(simple_regret_exact_3)\n",
        "\n",
        "min_simple_regret_approx_3, min_simple_regret_exact_3"
      ],
      "execution_count": 57,
      "outputs": [
        {
          "output_type": "execute_result",
          "data": {
            "text/plain": [
              "(-1.690464630434739, -2.367494735050444)"
            ]
          },
          "metadata": {},
          "execution_count": 57
        }
      ]
    },
    {
      "cell_type": "code",
      "metadata": {
        "id": "AZm0jgxkQxfm",
        "colab": {
          "base_uri": "https://localhost:8080/"
        },
        "outputId": "de47de0f-6b14-4ade-8401-e0badc48a933"
      },
      "source": [
        "### Simple regret minimization: run number = 4\n",
        "\n",
        "approx_output_4 = np.append(np.min(approx_4.GP.y[0:n_init]),approx_4.GP.y[n_init:(n_init+iters)]) \n",
        "exact_output_4 = np.append(np.min(exact_4.GP.y[0:n_init]),exact_4.GP.y[n_init:(n_init+iters)]) \n",
        "\n",
        "regret_approx_4 = np.log(-approx_output_4 + y_global_orig)\n",
        "regret_exact_4 = np.log(-exact_output_4 + y_global_orig)\n",
        "\n",
        "simple_regret_approx_4 = min_max_array(regret_approx_4)\n",
        "simple_regret_exact_4 = min_max_array(regret_exact_4)\n",
        "\n",
        "min_simple_regret_approx_4 = min(simple_regret_approx_4)\n",
        "min_simple_regret_exact_4 = min(simple_regret_exact_4)\n",
        "\n",
        "min_simple_regret_approx_4, min_simple_regret_exact_4"
      ],
      "execution_count": 58,
      "outputs": [
        {
          "output_type": "execute_result",
          "data": {
            "text/plain": [
              "(0.7216637573756975, 0.7478393198350645)"
            ]
          },
          "metadata": {},
          "execution_count": 58
        }
      ]
    },
    {
      "cell_type": "code",
      "metadata": {
        "id": "NONPm8JIQxfn",
        "colab": {
          "base_uri": "https://localhost:8080/"
        },
        "outputId": "0478b54e-ec68-4dbb-fcbe-ad27ef117f64"
      },
      "source": [
        "### Simple regret minimization: run number = 5\n",
        "\n",
        "approx_output_5 = np.append(np.min(approx_5.GP.y[0:n_init]),approx_5.GP.y[n_init:(n_init+iters)]) \n",
        "exact_output_5 = np.append(np.min(exact_5.GP.y[0:n_init]),exact_5.GP.y[n_init:(n_init+iters)]) \n",
        "\n",
        "regret_approx_5 = np.log(-approx_output_5 + y_global_orig)\n",
        "regret_exact_5 = np.log(-exact_output_5 + y_global_orig)\n",
        "\n",
        "simple_regret_approx_5 = min_max_array(regret_approx_5)\n",
        "simple_regret_exact_5 = min_max_array(regret_exact_5)\n",
        "\n",
        "min_simple_regret_approx_5 = min(simple_regret_approx_5)\n",
        "min_simple_regret_exact_5 = min(simple_regret_exact_5)\n",
        "\n",
        "min_simple_regret_approx_5, min_simple_regret_exact_5"
      ],
      "execution_count": 59,
      "outputs": [
        {
          "output_type": "execute_result",
          "data": {
            "text/plain": [
              "(2.2759815789669213, 1.3539428677125431)"
            ]
          },
          "metadata": {},
          "execution_count": 59
        }
      ]
    },
    {
      "cell_type": "code",
      "metadata": {
        "id": "CJv3lPuSQxfp",
        "colab": {
          "base_uri": "https://localhost:8080/"
        },
        "outputId": "04dd7696-6c6b-4314-9990-94b8ffe7fe1c"
      },
      "source": [
        "### Simple regret minimization: run number = 6\n",
        "\n",
        "approx_output_6 = np.append(np.min(approx_6.GP.y[0:n_init]),approx_6.GP.y[n_init:(n_init+iters)]) \n",
        "exact_output_6 = np.append(np.min(exact_6.GP.y[0:n_init]),exact_6.GP.y[n_init:(n_init+iters)]) \n",
        "\n",
        "regret_approx_6 = np.log(-approx_output_6 + y_global_orig)\n",
        "regret_exact_6 = np.log(-exact_output_6 + y_global_orig)\n",
        "\n",
        "simple_regret_approx_6 = min_max_array(regret_approx_6)\n",
        "simple_regret_exact_6 = min_max_array(regret_exact_6)\n",
        "\n",
        "min_simple_regret_approx_6 = min(simple_regret_approx_6)\n",
        "min_simple_regret_exact_6 = min(simple_regret_exact_6)\n",
        "\n",
        "min_simple_regret_approx_6, min_simple_regret_exact_6"
      ],
      "execution_count": 60,
      "outputs": [
        {
          "output_type": "execute_result",
          "data": {
            "text/plain": [
              "(1.1492840755655707, 1.8007790883213732)"
            ]
          },
          "metadata": {},
          "execution_count": 60
        }
      ]
    },
    {
      "cell_type": "code",
      "metadata": {
        "id": "quR2ZyApQxfq",
        "colab": {
          "base_uri": "https://localhost:8080/"
        },
        "outputId": "f8de1da9-32e3-416d-a67f-bf3561bed101"
      },
      "source": [
        "### Simple regret minimization: run number = 7\n",
        "\n",
        "approx_output_7 = np.append(np.min(approx_7.GP.y[0:n_init]),approx_7.GP.y[n_init:(n_init+iters)]) \n",
        "exact_output_7 = np.append(np.min(exact_7.GP.y[0:n_init]),exact_7.GP.y[n_init:(n_init+iters)]) \n",
        "\n",
        "regret_approx_7 = np.log(-approx_output_7 + y_global_orig)\n",
        "regret_exact_7 = np.log(-exact_output_7 + y_global_orig)\n",
        "\n",
        "simple_regret_approx_7 = min_max_array(regret_approx_7)\n",
        "simple_regret_exact_7 = min_max_array(regret_exact_7)\n",
        "\n",
        "min_simple_regret_approx_7 = min(simple_regret_approx_7)\n",
        "min_simple_regret_exact_7 = min(simple_regret_exact_7)\n",
        "\n",
        "min_simple_regret_approx_7, min_simple_regret_exact_7"
      ],
      "execution_count": 61,
      "outputs": [
        {
          "output_type": "execute_result",
          "data": {
            "text/plain": [
              "(0.5188931358044525, -0.8988462260415453)"
            ]
          },
          "metadata": {},
          "execution_count": 61
        }
      ]
    },
    {
      "cell_type": "code",
      "metadata": {
        "id": "99wY5nK6Qxfr",
        "colab": {
          "base_uri": "https://localhost:8080/"
        },
        "outputId": "65078aae-3971-48d0-b927-d47d0591d485"
      },
      "source": [
        "### Simple regret minimization: run number = 8\n",
        "\n",
        "approx_output_8 = np.append(np.min(approx_8.GP.y[0:n_init]),approx_8.GP.y[n_init:(n_init+iters)]) \n",
        "exact_output_8 = np.append(np.min(exact_8.GP.y[0:n_init]),exact_8.GP.y[n_init:(n_init+iters)]) \n",
        "\n",
        "regret_approx_8 = np.log(-approx_output_8 + y_global_orig)\n",
        "regret_exact_8 = np.log(-exact_output_8 + y_global_orig)\n",
        "\n",
        "simple_regret_approx_8 = min_max_array(regret_approx_8)\n",
        "simple_regret_exact_8 = min_max_array(regret_exact_8)\n",
        "\n",
        "min_simple_regret_approx_8 = min(simple_regret_approx_8)\n",
        "min_simple_regret_exact_8 = min(simple_regret_exact_8)\n",
        "\n",
        "min_simple_regret_approx_8, min_simple_regret_exact_8"
      ],
      "execution_count": 62,
      "outputs": [
        {
          "output_type": "execute_result",
          "data": {
            "text/plain": [
              "(2.503071913628681, 1.2770933412661836)"
            ]
          },
          "metadata": {},
          "execution_count": 62
        }
      ]
    },
    {
      "cell_type": "code",
      "metadata": {
        "id": "qt0P5t9qQxfs",
        "colab": {
          "base_uri": "https://localhost:8080/"
        },
        "outputId": "6909d64b-df8d-492a-f80a-8ab870d6a153"
      },
      "source": [
        "### Simple regret minimization: run number = 9\n",
        "\n",
        "approx_output_9 = np.append(np.min(approx_9.GP.y[0:n_init]),approx_9.GP.y[n_init:(n_init+iters)]) \n",
        "exact_output_9 = np.append(np.min(exact_9.GP.y[0:n_init]),exact_9.GP.y[n_init:(n_init+iters)]) \n",
        "\n",
        "regret_approx_9 = np.log(-approx_output_9 + y_global_orig)\n",
        "regret_exact_9 = np.log(-exact_output_9 + y_global_orig)\n",
        "\n",
        "simple_regret_approx_9 = min_max_array(regret_approx_9)\n",
        "simple_regret_exact_9 = min_max_array(regret_exact_9)\n",
        "\n",
        "min_simple_regret_approx_9 = min(simple_regret_approx_9)\n",
        "min_simple_regret_exact_9 = min(simple_regret_exact_9)\n",
        "\n",
        "min_simple_regret_approx_9, min_simple_regret_exact_9"
      ],
      "execution_count": 63,
      "outputs": [
        {
          "output_type": "execute_result",
          "data": {
            "text/plain": [
              "(0.7450488085476341, 1.3253955875856096)"
            ]
          },
          "metadata": {},
          "execution_count": 63
        }
      ]
    },
    {
      "cell_type": "code",
      "metadata": {
        "id": "vx8to9stQxft",
        "colab": {
          "base_uri": "https://localhost:8080/"
        },
        "outputId": "eb30a8d3-d99f-46da-f727-2f0f1292a0da"
      },
      "source": [
        "### Simple regret minimization: run number = 10\n",
        "\n",
        "approx_output_10 = np.append(np.min(approx_10.GP.y[0:n_init]),approx_10.GP.y[n_init:(n_init+iters)]) \n",
        "exact_output_10 = np.append(np.min(exact_10.GP.y[0:n_init]),exact_10.GP.y[n_init:(n_init+iters)]) \n",
        "\n",
        "regret_approx_10 = np.log(-approx_output_10 + y_global_orig)\n",
        "regret_exact_10 = np.log(-exact_output_10 + y_global_orig)\n",
        "\n",
        "simple_regret_approx_10 = min_max_array(regret_approx_10)\n",
        "simple_regret_exact_10 = min_max_array(regret_exact_10)\n",
        "\n",
        "min_simple_regret_approx_10 = min(simple_regret_approx_10)\n",
        "min_simple_regret_exact_10 = min(simple_regret_exact_10)\n",
        "\n",
        "min_simple_regret_approx_10, min_simple_regret_exact_10"
      ],
      "execution_count": 64,
      "outputs": [
        {
          "output_type": "execute_result",
          "data": {
            "text/plain": [
              "(1.526866602142688, 1.526866602142688)"
            ]
          },
          "metadata": {},
          "execution_count": 64
        }
      ]
    },
    {
      "cell_type": "code",
      "metadata": {
        "id": "d-FGzWyHQxfu",
        "colab": {
          "base_uri": "https://localhost:8080/"
        },
        "outputId": "94d89fc9-ac6a-42e3-f696-5409e287cbae"
      },
      "source": [
        "### Simple regret minimization: run number = 11\n",
        "\n",
        "approx_output_11 = np.append(np.min(approx_11.GP.y[0:n_init]),approx_11.GP.y[n_init:(n_init+iters)]) \n",
        "exact_output_11 = np.append(np.min(exact_11.GP.y[0:n_init]),exact_11.GP.y[n_init:(n_init+iters)]) \n",
        "\n",
        "regret_approx_11 = np.log(-approx_output_11 + y_global_orig)\n",
        "regret_exact_11 = np.log(-exact_output_11 + y_global_orig)\n",
        "\n",
        "simple_regret_approx_11 = min_max_array(regret_approx_11)\n",
        "simple_regret_exact_11 = min_max_array(regret_exact_11)\n",
        "\n",
        "min_simple_regret_approx_11 = min(simple_regret_approx_11)\n",
        "min_simple_regret_exact_11 = min(simple_regret_exact_11)\n",
        "\n",
        "min_simple_regret_approx_11, min_simple_regret_exact_11"
      ],
      "execution_count": 65,
      "outputs": [
        {
          "output_type": "execute_result",
          "data": {
            "text/plain": [
              "(1.3721279688524048, 2.509325298943892)"
            ]
          },
          "metadata": {},
          "execution_count": 65
        }
      ]
    },
    {
      "cell_type": "code",
      "metadata": {
        "id": "SvtsssyjQxfv",
        "colab": {
          "base_uri": "https://localhost:8080/"
        },
        "outputId": "07bc534a-b8b8-4578-d8e5-c2e92027d7ce"
      },
      "source": [
        "### Simple regret minimization: run number = 12\n",
        "\n",
        "approx_output_12 = np.append(np.min(approx_12.GP.y[0:n_init]),approx_12.GP.y[n_init:(n_init+iters)]) \n",
        "exact_output_12 = np.append(np.min(exact_12.GP.y[0:n_init]),exact_12.GP.y[n_init:(n_init+iters)]) \n",
        "\n",
        "regret_approx_12 = np.log(-approx_output_12 + y_global_orig)\n",
        "regret_exact_12 = np.log(-exact_output_12 + y_global_orig)\n",
        "\n",
        "simple_regret_approx_12 = min_max_array(regret_approx_12)\n",
        "simple_regret_exact_12 = min_max_array(regret_exact_12)\n",
        "\n",
        "min_simple_regret_approx_12 = min(simple_regret_approx_12)\n",
        "min_simple_regret_exact_12 = min(simple_regret_exact_12)\n",
        "\n",
        "min_simple_regret_approx_12, min_simple_regret_exact_12"
      ],
      "execution_count": 66,
      "outputs": [
        {
          "output_type": "execute_result",
          "data": {
            "text/plain": [
              "(0.6842748118911083, -0.8893716707680808)"
            ]
          },
          "metadata": {},
          "execution_count": 66
        }
      ]
    },
    {
      "cell_type": "code",
      "metadata": {
        "id": "K6OiGcHkQxfw",
        "colab": {
          "base_uri": "https://localhost:8080/"
        },
        "outputId": "f61ef6da-94a7-4dd2-a677-01394523bb3d"
      },
      "source": [
        "### Simple regret minimization: run number = 13\n",
        "\n",
        "approx_output_13 = np.append(np.min(approx_13.GP.y[0:n_init]),approx_13.GP.y[n_init:(n_init+iters)]) \n",
        "exact_output_13 = np.append(np.min(exact_13.GP.y[0:n_init]),exact_13.GP.y[n_init:(n_init+iters)]) \n",
        "\n",
        "regret_approx_13 = np.log(-approx_output_13 + y_global_orig)\n",
        "regret_exact_13 = np.log(-exact_output_13 + y_global_orig)\n",
        "\n",
        "simple_regret_approx_13 = min_max_array(regret_approx_13)\n",
        "simple_regret_exact_13 = min_max_array(regret_exact_13)\n",
        "\n",
        "min_simple_regret_approx_13 = min(simple_regret_approx_13)\n",
        "min_simple_regret_exact_13 = min(simple_regret_exact_13)\n",
        "\n",
        "min_simple_regret_approx_13, min_simple_regret_exact_13"
      ],
      "execution_count": 67,
      "outputs": [
        {
          "output_type": "execute_result",
          "data": {
            "text/plain": [
              "(1.5323833934620006, 1.853654683316408)"
            ]
          },
          "metadata": {},
          "execution_count": 67
        }
      ]
    },
    {
      "cell_type": "code",
      "metadata": {
        "id": "ogML73shQxfx",
        "colab": {
          "base_uri": "https://localhost:8080/"
        },
        "outputId": "c07bfaa0-85ab-47a0-cc78-3ac669327e0a"
      },
      "source": [
        "### Simple regret minimization: run number = 14\n",
        "\n",
        "approx_output_14 = np.append(np.min(approx_14.GP.y[0:n_init]),approx_14.GP.y[n_init:(n_init+iters)]) \n",
        "exact_output_14 = np.append(np.min(exact_14.GP.y[0:n_init]),exact_14.GP.y[n_init:(n_init+iters)]) \n",
        "\n",
        "regret_approx_14 = np.log(-approx_output_14 + y_global_orig)\n",
        "regret_exact_14 = np.log(-exact_output_14 + y_global_orig)\n",
        "\n",
        "simple_regret_approx_14 = min_max_array(regret_approx_14)\n",
        "simple_regret_exact_14 = min_max_array(regret_exact_14)\n",
        "\n",
        "min_simple_regret_approx_14 = min(simple_regret_approx_14)\n",
        "min_simple_regret_exact_14 = min(simple_regret_exact_14)\n",
        "\n",
        "min_simple_regret_approx_14, min_simple_regret_exact_14"
      ],
      "execution_count": 68,
      "outputs": [
        {
          "output_type": "execute_result",
          "data": {
            "text/plain": [
              "(-0.5412648285722298, 1.701455477775824)"
            ]
          },
          "metadata": {},
          "execution_count": 68
        }
      ]
    },
    {
      "cell_type": "code",
      "metadata": {
        "id": "9Eg7gFT9Qxfx",
        "colab": {
          "base_uri": "https://localhost:8080/"
        },
        "outputId": "77b2c1f2-451a-4d4c-8f10-72b0c20c787a"
      },
      "source": [
        "### Simple regret minimization: run number = 15\n",
        "\n",
        "approx_output_15 = np.append(np.min(approx_15.GP.y[0:n_init]),approx_15.GP.y[n_init:(n_init+iters)]) \n",
        "exact_output_15 = np.append(np.min(exact_15.GP.y[0:n_init]),exact_15.GP.y[n_init:(n_init+iters)]) \n",
        "\n",
        "regret_approx_15 = np.log(-approx_output_15 + y_global_orig)\n",
        "regret_exact_15 = np.log(-exact_output_15 + y_global_orig)\n",
        "\n",
        "simple_regret_approx_15 = min_max_array(regret_approx_15)\n",
        "simple_regret_exact_15 = min_max_array(regret_exact_15)\n",
        "\n",
        "min_simple_regret_approx_15 = min(simple_regret_approx_15)\n",
        "min_simple_regret_exact_15 = min(simple_regret_exact_15)\n",
        "\n",
        "min_simple_regret_approx_15, min_simple_regret_exact_15"
      ],
      "execution_count": 69,
      "outputs": [
        {
          "output_type": "execute_result",
          "data": {
            "text/plain": [
              "(0.3354154561322473, -0.06726060103367852)"
            ]
          },
          "metadata": {},
          "execution_count": 69
        }
      ]
    },
    {
      "cell_type": "code",
      "metadata": {
        "id": "lIAC1U7ZQxfy",
        "colab": {
          "base_uri": "https://localhost:8080/"
        },
        "outputId": "29fb6382-5bfd-4b57-e647-e78b0b959203"
      },
      "source": [
        "### Simple regret minimization: run number = 16\n",
        "\n",
        "approx_output_16 = np.append(np.min(approx_16.GP.y[0:n_init]),approx_16.GP.y[n_init:(n_init+iters)]) \n",
        "exact_output_16 = np.append(np.min(exact_16.GP.y[0:n_init]),exact_16.GP.y[n_init:(n_init+iters)]) \n",
        "\n",
        "regret_approx_16 = np.log(-approx_output_16 + y_global_orig)\n",
        "regret_exact_16 = np.log(-exact_output_16 + y_global_orig)\n",
        "\n",
        "simple_regret_approx_16 = min_max_array(regret_approx_16)\n",
        "simple_regret_exact_16 = min_max_array(regret_exact_16)\n",
        "\n",
        "min_simple_regret_approx_16 = min(simple_regret_approx_16)\n",
        "min_simple_regret_exact_16 = min(simple_regret_exact_16)\n",
        "\n",
        "min_simple_regret_approx_16, min_simple_regret_exact_16"
      ],
      "execution_count": 70,
      "outputs": [
        {
          "output_type": "execute_result",
          "data": {
            "text/plain": [
              "(1.387084663855201, 0.7235565498862538)"
            ]
          },
          "metadata": {},
          "execution_count": 70
        }
      ]
    },
    {
      "cell_type": "code",
      "metadata": {
        "id": "bGott36OQxfz",
        "colab": {
          "base_uri": "https://localhost:8080/"
        },
        "outputId": "74636858-cf67-4672-d5c3-fbdf2f2be3d3"
      },
      "source": [
        "### Simple regret minimization: run number = 17\n",
        "\n",
        "approx_output_17 = np.append(np.min(approx_17.GP.y[0:n_init]),approx_17.GP.y[n_init:(n_init+iters)]) \n",
        "exact_output_17 = np.append(np.min(exact_17.GP.y[0:n_init]),exact_17.GP.y[n_init:(n_init+iters)]) \n",
        "\n",
        "regret_approx_17 = np.log(-approx_output_17 + y_global_orig)\n",
        "regret_exact_17 = np.log(-exact_output_17 + y_global_orig)\n",
        "\n",
        "simple_regret_approx_17 = min_max_array(regret_approx_17)\n",
        "simple_regret_exact_17 = min_max_array(regret_exact_17)\n",
        "\n",
        "min_simple_regret_approx_17 = min(simple_regret_approx_17)\n",
        "min_simple_regret_exact_17 = min(simple_regret_exact_17)\n",
        "\n",
        "min_simple_regret_approx_17, min_simple_regret_exact_17"
      ],
      "execution_count": 71,
      "outputs": [
        {
          "output_type": "execute_result",
          "data": {
            "text/plain": [
              "(0.21079758283119124, 0.031147662626890758)"
            ]
          },
          "metadata": {},
          "execution_count": 71
        }
      ]
    },
    {
      "cell_type": "code",
      "metadata": {
        "id": "Cz9ZYMBMQxfz",
        "colab": {
          "base_uri": "https://localhost:8080/"
        },
        "outputId": "01a6f556-3d3f-4b52-fb00-a9ce8c400b63"
      },
      "source": [
        "### Simple regret minimization: run number = 18\n",
        "\n",
        "approx_output_18 = np.append(np.min(approx_18.GP.y[0:n_init]),approx_18.GP.y[n_init:(n_init+iters)]) \n",
        "exact_output_18 = np.append(np.min(exact_18.GP.y[0:n_init]),exact_18.GP.y[n_init:(n_init+iters)]) \n",
        "\n",
        "regret_approx_18 = np.log(-approx_output_18 + y_global_orig)\n",
        "regret_exact_18 = np.log(-exact_output_18 + y_global_orig)\n",
        "\n",
        "simple_regret_approx_18 = min_max_array(regret_approx_18)\n",
        "simple_regret_exact_18 = min_max_array(regret_exact_18)\n",
        "\n",
        "min_simple_regret_approx_18 = min(simple_regret_approx_18)\n",
        "min_simple_regret_exact_18 = min(simple_regret_exact_18)\n",
        "\n",
        "min_simple_regret_approx_18, min_simple_regret_exact_18"
      ],
      "execution_count": 72,
      "outputs": [
        {
          "output_type": "execute_result",
          "data": {
            "text/plain": [
              "(2.3433100294610885, 1.0913200544248305)"
            ]
          },
          "metadata": {},
          "execution_count": 72
        }
      ]
    },
    {
      "cell_type": "code",
      "metadata": {
        "id": "OBfpWOHNQxf0",
        "colab": {
          "base_uri": "https://localhost:8080/"
        },
        "outputId": "ebe1edd4-744e-4558-95ad-61f7c54e1570"
      },
      "source": [
        "### Simple regret minimization: run number = 19\n",
        "\n",
        "approx_output_19 = np.append(np.min(approx_19.GP.y[0:n_init]),approx_19.GP.y[n_init:(n_init+iters)]) \n",
        "exact_output_19 = np.append(np.min(exact_19.GP.y[0:n_init]),exact_19.GP.y[n_init:(n_init+iters)]) \n",
        "\n",
        "regret_approx_19 = np.log(-approx_output_19 + y_global_orig)\n",
        "regret_exact_19 = np.log(-exact_output_19 + y_global_orig)\n",
        "\n",
        "simple_regret_approx_19 = min_max_array(regret_approx_19)\n",
        "simple_regret_exact_19 = min_max_array(regret_exact_19)\n",
        "\n",
        "min_simple_regret_approx_19 = min(simple_regret_approx_19)\n",
        "min_simple_regret_exact_19 = min(simple_regret_exact_19)\n",
        "\n",
        "min_simple_regret_approx_19, min_simple_regret_exact_19"
      ],
      "execution_count": 73,
      "outputs": [
        {
          "output_type": "execute_result",
          "data": {
            "text/plain": [
              "(2.3727568037336955, 0.03453724708720758)"
            ]
          },
          "metadata": {},
          "execution_count": 73
        }
      ]
    },
    {
      "cell_type": "code",
      "metadata": {
        "id": "BE1AJ7NsQxf0",
        "colab": {
          "base_uri": "https://localhost:8080/"
        },
        "outputId": "1f803f4e-e73f-4978-8176-09559781aca3"
      },
      "source": [
        "### Simple regret minimization: run number = 20\n",
        "\n",
        "approx_output_20 = np.append(np.min(approx_20.GP.y[0:n_init]),approx_20.GP.y[n_init:(n_init+iters)]) \n",
        "exact_output_20 = np.append(np.min(exact_20.GP.y[0:n_init]),exact_20.GP.y[n_init:(n_init+iters)]) \n",
        "\n",
        "regret_approx_20 = np.log(-approx_output_20 + y_global_orig)\n",
        "regret_exact_20 = np.log(-exact_output_20 + y_global_orig)\n",
        "\n",
        "simple_regret_approx_20 = min_max_array(regret_approx_20)\n",
        "simple_regret_exact_20 = min_max_array(regret_exact_20)\n",
        "\n",
        "min_simple_regret_approx_20 = min(simple_regret_approx_20)\n",
        "min_simple_regret_exact_20 = min(simple_regret_exact_20)\n",
        "\n",
        "min_simple_regret_approx_20, min_simple_regret_exact_20"
      ],
      "execution_count": 74,
      "outputs": [
        {
          "output_type": "execute_result",
          "data": {
            "text/plain": [
              "(2.290006695034511, 2.041478604461492)"
            ]
          },
          "metadata": {},
          "execution_count": 74
        }
      ]
    },
    {
      "cell_type": "code",
      "metadata": {
        "id": "bpX-bKAHQxf1"
      },
      "source": [
        "# Iteration1 :\n",
        "\n",
        "slice1 = 0\n",
        "\n",
        "approx1 = [simple_regret_approx_1[slice1],\n",
        "       simple_regret_approx_2[slice1],\n",
        "       simple_regret_approx_3[slice1],\n",
        "       simple_regret_approx_4[slice1],\n",
        "       simple_regret_approx_5[slice1],\n",
        "       simple_regret_approx_6[slice1],\n",
        "       simple_regret_approx_7[slice1],\n",
        "       simple_regret_approx_8[slice1],\n",
        "       simple_regret_approx_9[slice1],\n",
        "       simple_regret_approx_10[slice1],\n",
        "       simple_regret_approx_11[slice1],\n",
        "       simple_regret_approx_12[slice1],\n",
        "       simple_regret_approx_13[slice1],\n",
        "       simple_regret_approx_14[slice1],\n",
        "       simple_regret_approx_15[slice1],\n",
        "       simple_regret_approx_16[slice1],\n",
        "       simple_regret_approx_17[slice1],\n",
        "       simple_regret_approx_18[slice1],\n",
        "       simple_regret_approx_19[slice1],\n",
        "       simple_regret_approx_20[slice1]]\n",
        "\n",
        "exact1 = [simple_regret_exact_1[slice1],\n",
        "       simple_regret_exact_2[slice1],\n",
        "       simple_regret_exact_3[slice1],\n",
        "       simple_regret_exact_4[slice1],\n",
        "       simple_regret_exact_5[slice1],\n",
        "       simple_regret_exact_6[slice1],\n",
        "       simple_regret_exact_7[slice1],\n",
        "       simple_regret_exact_8[slice1],\n",
        "       simple_regret_exact_9[slice1],\n",
        "       simple_regret_exact_10[slice1],\n",
        "       simple_regret_exact_11[slice1],\n",
        "       simple_regret_exact_12[slice1],\n",
        "       simple_regret_exact_13[slice1],\n",
        "       simple_regret_exact_14[slice1],\n",
        "       simple_regret_exact_15[slice1],\n",
        "       simple_regret_exact_16[slice1],\n",
        "       simple_regret_exact_17[slice1],\n",
        "       simple_regret_exact_18[slice1],\n",
        "       simple_regret_exact_19[slice1],\n",
        "       simple_regret_exact_20[slice1]]\n",
        "\n",
        "approx1_results = pd.DataFrame(approx1).sort_values(by=[0], ascending=False)\n",
        "exact1_results = pd.DataFrame(exact1).sort_values(by=[0], ascending=False)\n",
        "\n",
        "### Best simple regret minimization IQR - approx:\n",
        "lower_approx1 = np.asarray(approx1_results[4:5][0])[0]\n",
        "median_approx1 = np.asarray(approx1_results[9:10][0])[0]\n",
        "upper_approx1 = np.asarray(approx1_results[14:15][0])[0]\n",
        "\n",
        "lower_exact1 = np.asarray(exact1_results[4:5][0])[0]\n",
        "median_exact1 = np.asarray(exact1_results[9:10][0])[0]\n",
        "upper_exact1 = np.asarray(exact1_results[14:15][0])[0]"
      ],
      "execution_count": 75,
      "outputs": []
    },
    {
      "cell_type": "code",
      "metadata": {
        "id": "CgIkJA1xQxf2"
      },
      "source": [
        "# Iteration11 :\n",
        "\n",
        "slice11 = 10\n",
        "\n",
        "approx11 = [simple_regret_approx_1[slice11],\n",
        "       simple_regret_approx_2[slice11],\n",
        "       simple_regret_approx_3[slice11],\n",
        "       simple_regret_approx_4[slice11],\n",
        "       simple_regret_approx_5[slice11],\n",
        "       simple_regret_approx_6[slice11],\n",
        "       simple_regret_approx_7[slice11],\n",
        "       simple_regret_approx_8[slice11],\n",
        "       simple_regret_approx_9[slice11],\n",
        "       simple_regret_approx_10[slice11],\n",
        "       simple_regret_approx_11[slice11],\n",
        "       simple_regret_approx_12[slice11],\n",
        "       simple_regret_approx_13[slice11],\n",
        "       simple_regret_approx_14[slice11],\n",
        "       simple_regret_approx_15[slice11],\n",
        "       simple_regret_approx_16[slice11],\n",
        "       simple_regret_approx_17[slice11],\n",
        "       simple_regret_approx_18[slice11],\n",
        "       simple_regret_approx_19[slice11],\n",
        "       simple_regret_approx_20[slice11]]\n",
        "\n",
        "exact11 = [simple_regret_exact_1[slice11],\n",
        "       simple_regret_exact_2[slice11],\n",
        "       simple_regret_exact_3[slice11],\n",
        "       simple_regret_exact_4[slice11],\n",
        "       simple_regret_exact_5[slice11],\n",
        "       simple_regret_exact_6[slice11],\n",
        "       simple_regret_exact_7[slice11],\n",
        "       simple_regret_exact_8[slice11],\n",
        "       simple_regret_exact_9[slice11],\n",
        "       simple_regret_exact_10[slice11],\n",
        "       simple_regret_exact_11[slice11],\n",
        "       simple_regret_exact_12[slice11],\n",
        "       simple_regret_exact_13[slice11],\n",
        "       simple_regret_exact_14[slice11],\n",
        "       simple_regret_exact_15[slice11],\n",
        "       simple_regret_exact_16[slice11],\n",
        "       simple_regret_exact_17[slice11],\n",
        "       simple_regret_exact_18[slice11],\n",
        "       simple_regret_exact_19[slice11],\n",
        "       simple_regret_exact_20[slice11]]\n",
        "\n",
        "approx11_results = pd.DataFrame(approx11).sort_values(by=[0], ascending=False)\n",
        "exact11_results = pd.DataFrame(exact11).sort_values(by=[0], ascending=False)\n",
        "\n",
        "### Best simple regret minimization IQR - approx:\n",
        "lower_approx11 = np.asarray(approx11_results[4:5][0])[0]\n",
        "median_approx11 = np.asarray(approx11_results[9:10][0])[0]\n",
        "upper_approx11 = np.asarray(approx11_results[14:15][0])[0]\n",
        "\n",
        "lower_exact11 = np.asarray(exact11_results[4:5][0])[0]\n",
        "median_exact11 = np.asarray(exact11_results[9:10][0])[0]\n",
        "upper_exact11 = np.asarray(exact11_results[14:15][0])[0]"
      ],
      "execution_count": 76,
      "outputs": []
    },
    {
      "cell_type": "code",
      "metadata": {
        "id": "MFePDfGuQxf2"
      },
      "source": [
        "# Iteration21 :\n",
        "\n",
        "slice21 = 20\n",
        "\n",
        "approx21 = [simple_regret_approx_1[slice21],\n",
        "       simple_regret_approx_2[slice21],\n",
        "       simple_regret_approx_3[slice21],\n",
        "       simple_regret_approx_4[slice21],\n",
        "       simple_regret_approx_5[slice21],\n",
        "       simple_regret_approx_6[slice21],\n",
        "       simple_regret_approx_7[slice21],\n",
        "       simple_regret_approx_8[slice21],\n",
        "       simple_regret_approx_9[slice21],\n",
        "       simple_regret_approx_10[slice21],\n",
        "       simple_regret_approx_11[slice21],\n",
        "       simple_regret_approx_12[slice21],\n",
        "       simple_regret_approx_13[slice21],\n",
        "       simple_regret_approx_14[slice21],\n",
        "       simple_regret_approx_15[slice21],\n",
        "       simple_regret_approx_16[slice21],\n",
        "       simple_regret_approx_17[slice21],\n",
        "       simple_regret_approx_18[slice21],\n",
        "       simple_regret_approx_19[slice21],\n",
        "       simple_regret_approx_20[slice21]]\n",
        "\n",
        "exact21 = [simple_regret_exact_1[slice21],\n",
        "       simple_regret_exact_2[slice21],\n",
        "       simple_regret_exact_3[slice21],\n",
        "       simple_regret_exact_4[slice21],\n",
        "       simple_regret_exact_5[slice21],\n",
        "       simple_regret_exact_6[slice21],\n",
        "       simple_regret_exact_7[slice21],\n",
        "       simple_regret_exact_8[slice21],\n",
        "       simple_regret_exact_9[slice21],\n",
        "       simple_regret_exact_10[slice21],\n",
        "       simple_regret_exact_11[slice21],\n",
        "       simple_regret_exact_12[slice21],\n",
        "       simple_regret_exact_13[slice21],\n",
        "       simple_regret_exact_14[slice21],\n",
        "       simple_regret_exact_15[slice21],\n",
        "       simple_regret_exact_16[slice21],\n",
        "       simple_regret_exact_17[slice21],\n",
        "       simple_regret_exact_18[slice21],\n",
        "       simple_regret_exact_19[slice21],\n",
        "       simple_regret_exact_20[slice21]]\n",
        "\n",
        "approx21_results = pd.DataFrame(approx21).sort_values(by=[0], ascending=False)\n",
        "exact21_results = pd.DataFrame(exact21).sort_values(by=[0], ascending=False)\n",
        "\n",
        "### Best simple regret minimization IQR - approx:\n",
        "lower_approx21 = np.asarray(approx21_results[4:5][0])[0]\n",
        "median_approx21 = np.asarray(approx21_results[9:10][0])[0]\n",
        "upper_approx21 = np.asarray(approx21_results[14:15][0])[0]\n",
        "\n",
        "lower_exact21 = np.asarray(exact21_results[4:5][0])[0]\n",
        "median_exact21 = np.asarray(exact21_results[9:10][0])[0]\n",
        "upper_exact21 = np.asarray(exact21_results[14:15][0])[0]"
      ],
      "execution_count": 77,
      "outputs": []
    },
    {
      "cell_type": "code",
      "metadata": {
        "id": "PrRDB1kfQxf3"
      },
      "source": [
        "# Iteration2 :\n",
        "\n",
        "slice2 = 1\n",
        "\n",
        "approx2 = [simple_regret_approx_1[slice2],\n",
        "       simple_regret_approx_2[slice2],\n",
        "       simple_regret_approx_3[slice2],\n",
        "       simple_regret_approx_4[slice2],\n",
        "       simple_regret_approx_5[slice2],\n",
        "       simple_regret_approx_6[slice2],\n",
        "       simple_regret_approx_7[slice2],\n",
        "       simple_regret_approx_8[slice2],\n",
        "       simple_regret_approx_9[slice2],\n",
        "       simple_regret_approx_10[slice2],\n",
        "       simple_regret_approx_11[slice2],\n",
        "       simple_regret_approx_12[slice2],\n",
        "       simple_regret_approx_13[slice2],\n",
        "       simple_regret_approx_14[slice2],\n",
        "       simple_regret_approx_15[slice2],\n",
        "       simple_regret_approx_16[slice2],\n",
        "       simple_regret_approx_17[slice2],\n",
        "       simple_regret_approx_18[slice2],\n",
        "       simple_regret_approx_19[slice2],\n",
        "       simple_regret_approx_20[slice2]]\n",
        "\n",
        "exact2 = [simple_regret_exact_1[slice2],\n",
        "       simple_regret_exact_2[slice2],\n",
        "       simple_regret_exact_3[slice2],\n",
        "       simple_regret_exact_4[slice2],\n",
        "       simple_regret_exact_5[slice2],\n",
        "       simple_regret_exact_6[slice2],\n",
        "       simple_regret_exact_7[slice2],\n",
        "       simple_regret_exact_8[slice2],\n",
        "       simple_regret_exact_9[slice2],\n",
        "       simple_regret_exact_10[slice2],\n",
        "       simple_regret_exact_11[slice2],\n",
        "       simple_regret_exact_12[slice2],\n",
        "       simple_regret_exact_13[slice2],\n",
        "       simple_regret_exact_14[slice2],\n",
        "       simple_regret_exact_15[slice2],\n",
        "       simple_regret_exact_16[slice2],\n",
        "       simple_regret_exact_17[slice2],\n",
        "       simple_regret_exact_18[slice2],\n",
        "       simple_regret_exact_19[slice2],\n",
        "       simple_regret_exact_20[slice2]]\n",
        "\n",
        "approx2_results = pd.DataFrame(approx2).sort_values(by=[0], ascending=False)\n",
        "exact2_results = pd.DataFrame(exact2).sort_values(by=[0], ascending=False)\n",
        "\n",
        "### Best simple regret minimization IQR - approx:\n",
        "lower_approx2 = np.asarray(approx2_results[4:5][0])[0]\n",
        "median_approx2 = np.asarray(approx2_results[9:10][0])[0]\n",
        "upper_approx2 = np.asarray(approx2_results[14:15][0])[0]\n",
        "\n",
        "lower_exact2 = np.asarray(exact2_results[4:5][0])[0]\n",
        "median_exact2 = np.asarray(exact2_results[9:10][0])[0]\n",
        "upper_exact2 = np.asarray(exact2_results[14:15][0])[0]"
      ],
      "execution_count": 78,
      "outputs": []
    },
    {
      "cell_type": "code",
      "metadata": {
        "id": "B8ncJDYeQxf3"
      },
      "source": [
        "# Iteration12 :\n",
        "\n",
        "slice12 = 11\n",
        "\n",
        "approx12 = [simple_regret_approx_1[slice12],\n",
        "       simple_regret_approx_2[slice12],\n",
        "       simple_regret_approx_3[slice12],\n",
        "       simple_regret_approx_4[slice12],\n",
        "       simple_regret_approx_5[slice12],\n",
        "       simple_regret_approx_6[slice12],\n",
        "       simple_regret_approx_7[slice12],\n",
        "       simple_regret_approx_8[slice12],\n",
        "       simple_regret_approx_9[slice12],\n",
        "       simple_regret_approx_10[slice12],\n",
        "       simple_regret_approx_11[slice12],\n",
        "       simple_regret_approx_12[slice12],\n",
        "       simple_regret_approx_13[slice12],\n",
        "       simple_regret_approx_14[slice12],\n",
        "       simple_regret_approx_15[slice12],\n",
        "       simple_regret_approx_16[slice12],\n",
        "       simple_regret_approx_17[slice12],\n",
        "       simple_regret_approx_18[slice12],\n",
        "       simple_regret_approx_19[slice12],\n",
        "       simple_regret_approx_20[slice12]]\n",
        "\n",
        "exact12 = [simple_regret_exact_1[slice12],\n",
        "       simple_regret_exact_2[slice12],\n",
        "       simple_regret_exact_3[slice12],\n",
        "       simple_regret_exact_4[slice12],\n",
        "       simple_regret_exact_5[slice12],\n",
        "       simple_regret_exact_6[slice12],\n",
        "       simple_regret_exact_7[slice12],\n",
        "       simple_regret_exact_8[slice12],\n",
        "       simple_regret_exact_9[slice12],\n",
        "       simple_regret_exact_10[slice12],\n",
        "       simple_regret_exact_11[slice12],\n",
        "       simple_regret_exact_12[slice12],\n",
        "       simple_regret_exact_13[slice12],\n",
        "       simple_regret_exact_14[slice12],\n",
        "       simple_regret_exact_15[slice12],\n",
        "       simple_regret_exact_16[slice12],\n",
        "       simple_regret_exact_17[slice12],\n",
        "       simple_regret_exact_18[slice12],\n",
        "       simple_regret_exact_19[slice12],\n",
        "       simple_regret_exact_20[slice12]]\n",
        "\n",
        "approx12_results = pd.DataFrame(approx12).sort_values(by=[0], ascending=False)\n",
        "exact12_results = pd.DataFrame(exact12).sort_values(by=[0], ascending=False)\n",
        "\n",
        "### Best simple regret minimization IQR - approx:\n",
        "lower_approx12 = np.asarray(approx12_results[4:5][0])[0]\n",
        "median_approx12 = np.asarray(approx12_results[9:10][0])[0]\n",
        "upper_approx12 = np.asarray(approx12_results[14:15][0])[0]\n",
        "\n",
        "lower_exact12 = np.asarray(exact12_results[4:5][0])[0]\n",
        "median_exact12 = np.asarray(exact12_results[9:10][0])[0]\n",
        "upper_exact12 = np.asarray(exact12_results[14:15][0])[0]"
      ],
      "execution_count": 79,
      "outputs": []
    },
    {
      "cell_type": "code",
      "metadata": {
        "id": "Jn4KpGvcQxf4"
      },
      "source": [
        "# Iteration3 :\n",
        "\n",
        "slice3 = 2\n",
        "\n",
        "approx3 = [simple_regret_approx_1[slice3],\n",
        "       simple_regret_approx_2[slice3],\n",
        "       simple_regret_approx_3[slice3],\n",
        "       simple_regret_approx_4[slice3],\n",
        "       simple_regret_approx_5[slice3],\n",
        "       simple_regret_approx_6[slice3],\n",
        "       simple_regret_approx_7[slice3],\n",
        "       simple_regret_approx_8[slice3],\n",
        "       simple_regret_approx_9[slice3],\n",
        "       simple_regret_approx_10[slice3],\n",
        "       simple_regret_approx_11[slice3],\n",
        "       simple_regret_approx_12[slice3],\n",
        "       simple_regret_approx_13[slice3],\n",
        "       simple_regret_approx_14[slice3],\n",
        "       simple_regret_approx_15[slice3],\n",
        "       simple_regret_approx_16[slice3],\n",
        "       simple_regret_approx_17[slice3],\n",
        "       simple_regret_approx_18[slice3],\n",
        "       simple_regret_approx_19[slice3],\n",
        "       simple_regret_approx_20[slice3]]\n",
        "\n",
        "exact3 = [simple_regret_exact_1[slice3],\n",
        "       simple_regret_exact_2[slice3],\n",
        "       simple_regret_exact_3[slice3],\n",
        "       simple_regret_exact_4[slice3],\n",
        "       simple_regret_exact_5[slice3],\n",
        "       simple_regret_exact_6[slice3],\n",
        "       simple_regret_exact_7[slice3],\n",
        "       simple_regret_exact_8[slice3],\n",
        "       simple_regret_exact_9[slice3],\n",
        "       simple_regret_exact_10[slice3],\n",
        "       simple_regret_exact_11[slice3],\n",
        "       simple_regret_exact_12[slice3],\n",
        "       simple_regret_exact_13[slice3],\n",
        "       simple_regret_exact_14[slice3],\n",
        "       simple_regret_exact_15[slice3],\n",
        "       simple_regret_exact_16[slice3],\n",
        "       simple_regret_exact_17[slice3],\n",
        "       simple_regret_exact_18[slice3],\n",
        "       simple_regret_exact_19[slice3],\n",
        "       simple_regret_exact_20[slice3]]\n",
        "\n",
        "approx3_results = pd.DataFrame(approx3).sort_values(by=[0], ascending=False)\n",
        "exact3_results = pd.DataFrame(exact3).sort_values(by=[0], ascending=False)\n",
        "\n",
        "### Best simple regret minimization IQR - approx:\n",
        "lower_approx3 = np.asarray(approx3_results[4:5][0])[0]\n",
        "median_approx3 = np.asarray(approx3_results[9:10][0])[0]\n",
        "upper_approx3 = np.asarray(approx3_results[14:15][0])[0]\n",
        "\n",
        "lower_exact3 = np.asarray(exact3_results[4:5][0])[0]\n",
        "median_exact3 = np.asarray(exact3_results[9:10][0])[0]\n",
        "upper_exact3 = np.asarray(exact3_results[14:15][0])[0]"
      ],
      "execution_count": 80,
      "outputs": []
    },
    {
      "cell_type": "code",
      "metadata": {
        "id": "plf83wxrQxf4"
      },
      "source": [
        "# Iteration13 :\n",
        "\n",
        "slice13 = 12\n",
        "\n",
        "approx13 = [simple_regret_approx_1[slice13],\n",
        "       simple_regret_approx_2[slice13],\n",
        "       simple_regret_approx_3[slice13],\n",
        "       simple_regret_approx_4[slice13],\n",
        "       simple_regret_approx_5[slice13],\n",
        "       simple_regret_approx_6[slice13],\n",
        "       simple_regret_approx_7[slice13],\n",
        "       simple_regret_approx_8[slice13],\n",
        "       simple_regret_approx_9[slice13],\n",
        "       simple_regret_approx_10[slice13],\n",
        "       simple_regret_approx_11[slice13],\n",
        "       simple_regret_approx_12[slice13],\n",
        "       simple_regret_approx_13[slice13],\n",
        "       simple_regret_approx_14[slice13],\n",
        "       simple_regret_approx_15[slice13],\n",
        "       simple_regret_approx_16[slice13],\n",
        "       simple_regret_approx_17[slice13],\n",
        "       simple_regret_approx_18[slice13],\n",
        "       simple_regret_approx_19[slice13],\n",
        "       simple_regret_approx_20[slice13]]\n",
        "\n",
        "exact13 = [simple_regret_exact_1[slice13],\n",
        "       simple_regret_exact_2[slice13],\n",
        "       simple_regret_exact_3[slice13],\n",
        "       simple_regret_exact_4[slice13],\n",
        "       simple_regret_exact_5[slice13],\n",
        "       simple_regret_exact_6[slice13],\n",
        "       simple_regret_exact_7[slice13],\n",
        "       simple_regret_exact_8[slice13],\n",
        "       simple_regret_exact_9[slice13],\n",
        "       simple_regret_exact_10[slice13],\n",
        "       simple_regret_exact_11[slice13],\n",
        "       simple_regret_exact_12[slice13],\n",
        "       simple_regret_exact_13[slice13],\n",
        "       simple_regret_exact_14[slice13],\n",
        "       simple_regret_exact_15[slice13],\n",
        "       simple_regret_exact_16[slice13],\n",
        "       simple_regret_exact_17[slice13],\n",
        "       simple_regret_exact_18[slice13],\n",
        "       simple_regret_exact_19[slice13],\n",
        "       simple_regret_exact_20[slice13]]\n",
        "\n",
        "approx13_results = pd.DataFrame(approx13).sort_values(by=[0], ascending=False)\n",
        "exact13_results = pd.DataFrame(exact13).sort_values(by=[0], ascending=False)\n",
        "\n",
        "### Best simple regret minimization IQR - approx:\n",
        "lower_approx13 = np.asarray(approx13_results[4:5][0])[0]\n",
        "median_approx13 = np.asarray(approx13_results[9:10][0])[0]\n",
        "upper_approx13 = np.asarray(approx13_results[14:15][0])[0]\n",
        "\n",
        "lower_exact13 = np.asarray(exact13_results[4:5][0])[0]\n",
        "median_exact13 = np.asarray(exact13_results[9:10][0])[0]\n",
        "upper_exact13 = np.asarray(exact13_results[14:15][0])[0]"
      ],
      "execution_count": 81,
      "outputs": []
    },
    {
      "cell_type": "code",
      "metadata": {
        "id": "9A7mlVvJQxf5"
      },
      "source": [
        "# Iteration4 :\n",
        "\n",
        "slice4 = 3\n",
        "\n",
        "approx4 = [simple_regret_approx_1[slice4],\n",
        "       simple_regret_approx_2[slice4],\n",
        "       simple_regret_approx_3[slice4],\n",
        "       simple_regret_approx_4[slice4],\n",
        "       simple_regret_approx_5[slice4],\n",
        "       simple_regret_approx_6[slice4],\n",
        "       simple_regret_approx_7[slice4],\n",
        "       simple_regret_approx_8[slice4],\n",
        "       simple_regret_approx_9[slice4],\n",
        "       simple_regret_approx_10[slice4],\n",
        "       simple_regret_approx_11[slice4],\n",
        "       simple_regret_approx_12[slice4],\n",
        "       simple_regret_approx_13[slice4],\n",
        "       simple_regret_approx_14[slice4],\n",
        "       simple_regret_approx_15[slice4],\n",
        "       simple_regret_approx_16[slice4],\n",
        "       simple_regret_approx_17[slice4],\n",
        "       simple_regret_approx_18[slice4],\n",
        "       simple_regret_approx_19[slice4],\n",
        "       simple_regret_approx_20[slice4]]\n",
        "\n",
        "exact4 = [simple_regret_exact_1[slice4],\n",
        "       simple_regret_exact_2[slice4],\n",
        "       simple_regret_exact_3[slice4],\n",
        "       simple_regret_exact_4[slice4],\n",
        "       simple_regret_exact_5[slice4],\n",
        "       simple_regret_exact_6[slice4],\n",
        "       simple_regret_exact_7[slice4],\n",
        "       simple_regret_exact_8[slice4],\n",
        "       simple_regret_exact_9[slice4],\n",
        "       simple_regret_exact_10[slice4],\n",
        "       simple_regret_exact_11[slice4],\n",
        "       simple_regret_exact_12[slice4],\n",
        "       simple_regret_exact_13[slice4],\n",
        "       simple_regret_exact_14[slice4],\n",
        "       simple_regret_exact_15[slice4],\n",
        "       simple_regret_exact_16[slice4],\n",
        "       simple_regret_exact_17[slice4],\n",
        "       simple_regret_exact_18[slice4],\n",
        "       simple_regret_exact_19[slice4],\n",
        "       simple_regret_exact_20[slice4]]\n",
        "\n",
        "approx4_results = pd.DataFrame(approx4).sort_values(by=[0], ascending=False)\n",
        "exact4_results = pd.DataFrame(exact4).sort_values(by=[0], ascending=False)\n",
        "\n",
        "### Best simple regret minimization IQR - approx:\n",
        "lower_approx4 = np.asarray(approx4_results[4:5][0])[0]\n",
        "median_approx4 = np.asarray(approx4_results[9:10][0])[0]\n",
        "upper_approx4 = np.asarray(approx4_results[14:15][0])[0]\n",
        "\n",
        "lower_exact4 = np.asarray(exact4_results[4:5][0])[0]\n",
        "median_exact4 = np.asarray(exact4_results[9:10][0])[0]\n",
        "upper_exact4 = np.asarray(exact4_results[14:15][0])[0]"
      ],
      "execution_count": 82,
      "outputs": []
    },
    {
      "cell_type": "code",
      "metadata": {
        "id": "ijq-rioYQxf5"
      },
      "source": [
        "# Iteration14 :\n",
        "\n",
        "slice14 = 13\n",
        "\n",
        "approx14 = [simple_regret_approx_1[slice14],\n",
        "       simple_regret_approx_2[slice14],\n",
        "       simple_regret_approx_3[slice14],\n",
        "       simple_regret_approx_4[slice14],\n",
        "       simple_regret_approx_5[slice14],\n",
        "       simple_regret_approx_6[slice14],\n",
        "       simple_regret_approx_7[slice14],\n",
        "       simple_regret_approx_8[slice14],\n",
        "       simple_regret_approx_9[slice14],\n",
        "       simple_regret_approx_10[slice14],\n",
        "       simple_regret_approx_11[slice14],\n",
        "       simple_regret_approx_12[slice14],\n",
        "       simple_regret_approx_13[slice14],\n",
        "       simple_regret_approx_14[slice14],\n",
        "       simple_regret_approx_15[slice14],\n",
        "       simple_regret_approx_16[slice14],\n",
        "       simple_regret_approx_17[slice14],\n",
        "       simple_regret_approx_18[slice14],\n",
        "       simple_regret_approx_19[slice14],\n",
        "       simple_regret_approx_20[slice14]]\n",
        "\n",
        "exact14 = [simple_regret_exact_1[slice14],\n",
        "       simple_regret_exact_2[slice14],\n",
        "       simple_regret_exact_3[slice14],\n",
        "       simple_regret_exact_4[slice14],\n",
        "       simple_regret_exact_5[slice14],\n",
        "       simple_regret_exact_6[slice14],\n",
        "       simple_regret_exact_7[slice14],\n",
        "       simple_regret_exact_8[slice14],\n",
        "       simple_regret_exact_9[slice14],\n",
        "       simple_regret_exact_10[slice14],\n",
        "       simple_regret_exact_11[slice14],\n",
        "       simple_regret_exact_12[slice14],\n",
        "       simple_regret_exact_13[slice14],\n",
        "       simple_regret_exact_14[slice14],\n",
        "       simple_regret_exact_15[slice14],\n",
        "       simple_regret_exact_16[slice14],\n",
        "       simple_regret_exact_17[slice14],\n",
        "       simple_regret_exact_18[slice14],\n",
        "       simple_regret_exact_19[slice14],\n",
        "       simple_regret_exact_20[slice14]]\n",
        "\n",
        "approx14_results = pd.DataFrame(approx14).sort_values(by=[0], ascending=False)\n",
        "exact14_results = pd.DataFrame(exact14).sort_values(by=[0], ascending=False)\n",
        "\n",
        "### Best simple regret minimization IQR - approx:\n",
        "lower_approx14 = np.asarray(approx14_results[4:5][0])[0]\n",
        "median_approx14 = np.asarray(approx14_results[9:10][0])[0]\n",
        "upper_approx14 = np.asarray(approx14_results[14:15][0])[0]\n",
        "\n",
        "lower_exact14 = np.asarray(exact14_results[4:5][0])[0]\n",
        "median_exact14 = np.asarray(exact14_results[9:10][0])[0]\n",
        "upper_exact14 = np.asarray(exact14_results[14:15][0])[0]"
      ],
      "execution_count": 83,
      "outputs": []
    },
    {
      "cell_type": "code",
      "metadata": {
        "id": "XINlZjoTd-ZK"
      },
      "source": [
        "# Iteration5 :\n",
        "\n",
        "slice5 = 4\n",
        "\n",
        "approx5 = [simple_regret_approx_1[slice5],\n",
        "       simple_regret_approx_2[slice5],\n",
        "       simple_regret_approx_3[slice5],\n",
        "       simple_regret_approx_4[slice5],\n",
        "       simple_regret_approx_5[slice5],\n",
        "       simple_regret_approx_6[slice5],\n",
        "       simple_regret_approx_7[slice5],\n",
        "       simple_regret_approx_8[slice5],\n",
        "       simple_regret_approx_9[slice5],\n",
        "       simple_regret_approx_10[slice5],\n",
        "       simple_regret_approx_11[slice5],\n",
        "       simple_regret_approx_12[slice5],\n",
        "       simple_regret_approx_13[slice5],\n",
        "       simple_regret_approx_14[slice5],\n",
        "       simple_regret_approx_15[slice5],\n",
        "       simple_regret_approx_16[slice5],\n",
        "       simple_regret_approx_17[slice5],\n",
        "       simple_regret_approx_18[slice5],\n",
        "       simple_regret_approx_19[slice5],\n",
        "       simple_regret_approx_20[slice5]]\n",
        "\n",
        "exact5 = [simple_regret_exact_1[slice5],\n",
        "       simple_regret_exact_2[slice5],\n",
        "       simple_regret_exact_3[slice5],\n",
        "       simple_regret_exact_4[slice5],\n",
        "       simple_regret_exact_5[slice5],\n",
        "       simple_regret_exact_6[slice5],\n",
        "       simple_regret_exact_7[slice5],\n",
        "       simple_regret_exact_8[slice5],\n",
        "       simple_regret_exact_9[slice5],\n",
        "       simple_regret_exact_10[slice5],\n",
        "       simple_regret_exact_11[slice5],\n",
        "       simple_regret_exact_12[slice5],\n",
        "       simple_regret_exact_13[slice5],\n",
        "       simple_regret_exact_14[slice5],\n",
        "       simple_regret_exact_15[slice5],\n",
        "       simple_regret_exact_16[slice5],\n",
        "       simple_regret_exact_17[slice5],\n",
        "       simple_regret_exact_18[slice5],\n",
        "       simple_regret_exact_19[slice5],\n",
        "       simple_regret_exact_20[slice5]]\n",
        "\n",
        "approx5_results = pd.DataFrame(approx5).sort_values(by=[0], ascending=False)\n",
        "exact5_results = pd.DataFrame(exact5).sort_values(by=[0], ascending=False)\n",
        "\n",
        "### Best simple regret minimization IQR - approx:\n",
        "lower_approx5 = np.asarray(approx5_results[4:5][0])[0]\n",
        "median_approx5 = np.asarray(approx5_results[9:10][0])[0]\n",
        "upper_approx5 = np.asarray(approx5_results[14:15][0])[0]\n",
        "\n",
        "lower_exact5 = np.asarray(exact5_results[4:5][0])[0]\n",
        "median_exact5 = np.asarray(exact5_results[9:10][0])[0]\n",
        "upper_exact5 = np.asarray(exact5_results[14:15][0])[0]"
      ],
      "execution_count": 84,
      "outputs": []
    },
    {
      "cell_type": "code",
      "metadata": {
        "id": "4aZ7C8sOQxf6"
      },
      "source": [
        "# Iteration15 :\n",
        "\n",
        "slice15 = 14\n",
        "\n",
        "approx15 = [simple_regret_approx_1[slice15],\n",
        "       simple_regret_approx_2[slice15],\n",
        "       simple_regret_approx_3[slice15],\n",
        "       simple_regret_approx_4[slice15],\n",
        "       simple_regret_approx_5[slice15],\n",
        "       simple_regret_approx_6[slice15],\n",
        "       simple_regret_approx_7[slice15],\n",
        "       simple_regret_approx_8[slice15],\n",
        "       simple_regret_approx_9[slice15],\n",
        "       simple_regret_approx_10[slice15],\n",
        "       simple_regret_approx_11[slice15],\n",
        "       simple_regret_approx_12[slice15],\n",
        "       simple_regret_approx_13[slice15],\n",
        "       simple_regret_approx_14[slice15],\n",
        "       simple_regret_approx_15[slice15],\n",
        "       simple_regret_approx_16[slice15],\n",
        "       simple_regret_approx_17[slice15],\n",
        "       simple_regret_approx_18[slice15],\n",
        "       simple_regret_approx_19[slice15],\n",
        "       simple_regret_approx_20[slice15]]\n",
        "\n",
        "exact15 = [simple_regret_exact_1[slice15],\n",
        "       simple_regret_exact_2[slice15],\n",
        "       simple_regret_exact_3[slice15],\n",
        "       simple_regret_exact_4[slice15],\n",
        "       simple_regret_exact_5[slice15],\n",
        "       simple_regret_exact_6[slice15],\n",
        "       simple_regret_exact_7[slice15],\n",
        "       simple_regret_exact_8[slice15],\n",
        "       simple_regret_exact_9[slice15],\n",
        "       simple_regret_exact_10[slice15],\n",
        "       simple_regret_exact_11[slice15],\n",
        "       simple_regret_exact_12[slice15],\n",
        "       simple_regret_exact_13[slice15],\n",
        "       simple_regret_exact_14[slice15],\n",
        "       simple_regret_exact_15[slice15],\n",
        "       simple_regret_exact_16[slice15],\n",
        "       simple_regret_exact_17[slice15],\n",
        "       simple_regret_exact_18[slice15],\n",
        "       simple_regret_exact_19[slice15],\n",
        "       simple_regret_exact_20[slice15]]\n",
        "\n",
        "approx15_results = pd.DataFrame(approx15).sort_values(by=[0], ascending=False)\n",
        "exact15_results = pd.DataFrame(exact15).sort_values(by=[0], ascending=False)\n",
        "\n",
        "### Best simple regret minimization IQR - approx:\n",
        "lower_approx15 = np.asarray(approx15_results[4:5][0])[0]\n",
        "median_approx15 = np.asarray(approx15_results[9:10][0])[0]\n",
        "upper_approx15 = np.asarray(approx15_results[14:15][0])[0]\n",
        "\n",
        "lower_exact15 = np.asarray(exact15_results[4:5][0])[0]\n",
        "median_exact15 = np.asarray(exact15_results[9:10][0])[0]\n",
        "upper_exact15 = np.asarray(exact15_results[14:15][0])[0]"
      ],
      "execution_count": 85,
      "outputs": []
    },
    {
      "cell_type": "code",
      "metadata": {
        "id": "KJINKhv1Qxf6"
      },
      "source": [
        "# Iteration6 :\n",
        "\n",
        "slice6 = 5\n",
        "\n",
        "approx6 = [simple_regret_approx_1[slice6],\n",
        "       simple_regret_approx_2[slice6],\n",
        "       simple_regret_approx_3[slice6],\n",
        "       simple_regret_approx_4[slice6],\n",
        "       simple_regret_approx_5[slice6],\n",
        "       simple_regret_approx_6[slice6],\n",
        "       simple_regret_approx_7[slice6],\n",
        "       simple_regret_approx_8[slice6],\n",
        "       simple_regret_approx_9[slice6],\n",
        "       simple_regret_approx_10[slice6],\n",
        "       simple_regret_approx_11[slice6],\n",
        "       simple_regret_approx_12[slice6],\n",
        "       simple_regret_approx_13[slice6],\n",
        "       simple_regret_approx_14[slice6],\n",
        "       simple_regret_approx_15[slice6],\n",
        "       simple_regret_approx_16[slice6],\n",
        "       simple_regret_approx_17[slice6],\n",
        "       simple_regret_approx_18[slice6],\n",
        "       simple_regret_approx_19[slice6],\n",
        "       simple_regret_approx_20[slice6]]\n",
        "\n",
        "exact6 = [simple_regret_exact_1[slice6],\n",
        "       simple_regret_exact_2[slice6],\n",
        "       simple_regret_exact_3[slice6],\n",
        "       simple_regret_exact_4[slice6],\n",
        "       simple_regret_exact_5[slice6],\n",
        "       simple_regret_exact_6[slice6],\n",
        "       simple_regret_exact_7[slice6],\n",
        "       simple_regret_exact_8[slice6],\n",
        "       simple_regret_exact_9[slice6],\n",
        "       simple_regret_exact_10[slice6],\n",
        "       simple_regret_exact_11[slice6],\n",
        "       simple_regret_exact_12[slice6],\n",
        "       simple_regret_exact_13[slice6],\n",
        "       simple_regret_exact_14[slice6],\n",
        "       simple_regret_exact_15[slice6],\n",
        "       simple_regret_exact_16[slice6],\n",
        "       simple_regret_exact_17[slice6],\n",
        "       simple_regret_exact_18[slice6],\n",
        "       simple_regret_exact_19[slice6],\n",
        "       simple_regret_exact_20[slice6]]\n",
        "\n",
        "approx6_results = pd.DataFrame(approx6).sort_values(by=[0], ascending=False)\n",
        "exact6_results = pd.DataFrame(exact6).sort_values(by=[0], ascending=False)\n",
        "\n",
        "### Best simple regret minimization IQR - approx:\n",
        "lower_approx6 = np.asarray(approx6_results[4:5][0])[0]\n",
        "median_approx6 = np.asarray(approx6_results[9:10][0])[0]\n",
        "upper_approx6 = np.asarray(approx6_results[14:15][0])[0]\n",
        "\n",
        "lower_exact6 = np.asarray(exact6_results[4:5][0])[0]\n",
        "median_exact6 = np.asarray(exact6_results[9:10][0])[0]\n",
        "upper_exact6 = np.asarray(exact6_results[14:15][0])[0]"
      ],
      "execution_count": 86,
      "outputs": []
    },
    {
      "cell_type": "code",
      "metadata": {
        "id": "nwC5N1FsQxf7"
      },
      "source": [
        "# Iteration16 :\n",
        "\n",
        "slice16 = 15\n",
        "\n",
        "approx16 = [simple_regret_approx_1[slice16],\n",
        "       simple_regret_approx_2[slice16],\n",
        "       simple_regret_approx_3[slice16],\n",
        "       simple_regret_approx_4[slice16],\n",
        "       simple_regret_approx_5[slice16],\n",
        "       simple_regret_approx_6[slice16],\n",
        "       simple_regret_approx_7[slice16],\n",
        "       simple_regret_approx_8[slice16],\n",
        "       simple_regret_approx_9[slice16],\n",
        "       simple_regret_approx_10[slice16],\n",
        "       simple_regret_approx_11[slice16],\n",
        "       simple_regret_approx_12[slice16],\n",
        "       simple_regret_approx_13[slice16],\n",
        "       simple_regret_approx_14[slice16],\n",
        "       simple_regret_approx_15[slice16],\n",
        "       simple_regret_approx_16[slice16],\n",
        "       simple_regret_approx_17[slice16],\n",
        "       simple_regret_approx_18[slice16],\n",
        "       simple_regret_approx_19[slice16],\n",
        "       simple_regret_approx_20[slice16]]\n",
        "\n",
        "exact16 = [simple_regret_exact_1[slice16],\n",
        "       simple_regret_exact_2[slice16],\n",
        "       simple_regret_exact_3[slice16],\n",
        "       simple_regret_exact_4[slice16],\n",
        "       simple_regret_exact_5[slice16],\n",
        "       simple_regret_exact_6[slice16],\n",
        "       simple_regret_exact_7[slice16],\n",
        "       simple_regret_exact_8[slice16],\n",
        "       simple_regret_exact_9[slice16],\n",
        "       simple_regret_exact_10[slice16],\n",
        "       simple_regret_exact_11[slice16],\n",
        "       simple_regret_exact_12[slice16],\n",
        "       simple_regret_exact_13[slice16],\n",
        "       simple_regret_exact_14[slice16],\n",
        "       simple_regret_exact_15[slice16],\n",
        "       simple_regret_exact_16[slice16],\n",
        "       simple_regret_exact_17[slice16],\n",
        "       simple_regret_exact_18[slice16],\n",
        "       simple_regret_exact_19[slice16],\n",
        "       simple_regret_exact_20[slice16]]\n",
        "\n",
        "approx16_results = pd.DataFrame(approx16).sort_values(by=[0], ascending=False)\n",
        "exact16_results = pd.DataFrame(exact16).sort_values(by=[0], ascending=False)\n",
        "\n",
        "### Best simple regret minimization IQR - approx:\n",
        "lower_approx16 = np.asarray(approx16_results[4:5][0])[0]\n",
        "median_approx16 = np.asarray(approx16_results[9:10][0])[0]\n",
        "upper_approx16 = np.asarray(approx16_results[14:15][0])[0]\n",
        "\n",
        "lower_exact16 = np.asarray(exact16_results[4:5][0])[0]\n",
        "median_exact16 = np.asarray(exact16_results[9:10][0])[0]\n",
        "upper_exact16 = np.asarray(exact16_results[14:15][0])[0]"
      ],
      "execution_count": 87,
      "outputs": []
    },
    {
      "cell_type": "code",
      "metadata": {
        "id": "TrPV0AfnQxf7"
      },
      "source": [
        "# Iteration7 :\n",
        "\n",
        "slice7 = 6\n",
        "\n",
        "approx7 = [simple_regret_approx_1[slice7],\n",
        "       simple_regret_approx_2[slice7],\n",
        "       simple_regret_approx_3[slice7],\n",
        "       simple_regret_approx_4[slice7],\n",
        "       simple_regret_approx_5[slice7],\n",
        "       simple_regret_approx_6[slice7],\n",
        "       simple_regret_approx_7[slice7],\n",
        "       simple_regret_approx_8[slice7],\n",
        "       simple_regret_approx_9[slice7],\n",
        "       simple_regret_approx_10[slice7],\n",
        "       simple_regret_approx_11[slice7],\n",
        "       simple_regret_approx_12[slice7],\n",
        "       simple_regret_approx_13[slice7],\n",
        "       simple_regret_approx_14[slice7],\n",
        "       simple_regret_approx_15[slice7],\n",
        "       simple_regret_approx_16[slice7],\n",
        "       simple_regret_approx_17[slice7],\n",
        "       simple_regret_approx_18[slice7],\n",
        "       simple_regret_approx_19[slice7],\n",
        "       simple_regret_approx_20[slice7]]\n",
        "\n",
        "exact7 = [simple_regret_exact_1[slice7],\n",
        "       simple_regret_exact_2[slice7],\n",
        "       simple_regret_exact_3[slice7],\n",
        "       simple_regret_exact_4[slice7],\n",
        "       simple_regret_exact_5[slice7],\n",
        "       simple_regret_exact_6[slice7],\n",
        "       simple_regret_exact_7[slice7],\n",
        "       simple_regret_exact_8[slice7],\n",
        "       simple_regret_exact_9[slice7],\n",
        "       simple_regret_exact_10[slice7],\n",
        "       simple_regret_exact_11[slice7],\n",
        "       simple_regret_exact_12[slice7],\n",
        "       simple_regret_exact_13[slice7],\n",
        "       simple_regret_exact_14[slice7],\n",
        "       simple_regret_exact_15[slice7],\n",
        "       simple_regret_exact_16[slice7],\n",
        "       simple_regret_exact_17[slice7],\n",
        "       simple_regret_exact_18[slice7],\n",
        "       simple_regret_exact_19[slice7],\n",
        "       simple_regret_exact_20[slice7]]\n",
        "\n",
        "approx7_results = pd.DataFrame(approx7).sort_values(by=[0], ascending=False)\n",
        "exact7_results = pd.DataFrame(exact7).sort_values(by=[0], ascending=False)\n",
        "\n",
        "### Best simple regret minimization IQR - approx:\n",
        "lower_approx7 = np.asarray(approx7_results[4:5][0])[0]\n",
        "median_approx7 = np.asarray(approx7_results[9:10][0])[0]\n",
        "upper_approx7 = np.asarray(approx7_results[14:15][0])[0]\n",
        "\n",
        "lower_exact7 = np.asarray(exact7_results[4:5][0])[0]\n",
        "median_exact7 = np.asarray(exact7_results[9:10][0])[0]\n",
        "upper_exact7 = np.asarray(exact7_results[14:15][0])[0]"
      ],
      "execution_count": 88,
      "outputs": []
    },
    {
      "cell_type": "code",
      "metadata": {
        "id": "Ub_-wpK4Qxf8"
      },
      "source": [
        "# Iteration17 :\n",
        "\n",
        "slice17 = 16\n",
        "\n",
        "approx17 = [simple_regret_approx_1[slice17],\n",
        "       simple_regret_approx_2[slice17],\n",
        "       simple_regret_approx_3[slice17],\n",
        "       simple_regret_approx_4[slice17],\n",
        "       simple_regret_approx_5[slice17],\n",
        "       simple_regret_approx_6[slice17],\n",
        "       simple_regret_approx_7[slice17],\n",
        "       simple_regret_approx_8[slice17],\n",
        "       simple_regret_approx_9[slice17],\n",
        "       simple_regret_approx_10[slice17],\n",
        "       simple_regret_approx_11[slice17],\n",
        "       simple_regret_approx_12[slice17],\n",
        "       simple_regret_approx_13[slice17],\n",
        "       simple_regret_approx_14[slice17],\n",
        "       simple_regret_approx_15[slice17],\n",
        "       simple_regret_approx_16[slice17],\n",
        "       simple_regret_approx_17[slice17],\n",
        "       simple_regret_approx_18[slice17],\n",
        "       simple_regret_approx_19[slice17],\n",
        "       simple_regret_approx_20[slice17]]\n",
        "\n",
        "exact17 = [simple_regret_exact_1[slice17],\n",
        "       simple_regret_exact_2[slice17],\n",
        "       simple_regret_exact_3[slice17],\n",
        "       simple_regret_exact_4[slice17],\n",
        "       simple_regret_exact_5[slice17],\n",
        "       simple_regret_exact_6[slice17],\n",
        "       simple_regret_exact_7[slice17],\n",
        "       simple_regret_exact_8[slice17],\n",
        "       simple_regret_exact_9[slice17],\n",
        "       simple_regret_exact_10[slice17],\n",
        "       simple_regret_exact_11[slice17],\n",
        "       simple_regret_exact_12[slice17],\n",
        "       simple_regret_exact_13[slice17],\n",
        "       simple_regret_exact_14[slice17],\n",
        "       simple_regret_exact_15[slice17],\n",
        "       simple_regret_exact_16[slice17],\n",
        "       simple_regret_exact_17[slice17],\n",
        "       simple_regret_exact_18[slice17],\n",
        "       simple_regret_exact_19[slice17],\n",
        "       simple_regret_exact_20[slice17]]\n",
        "\n",
        "approx17_results = pd.DataFrame(approx17).sort_values(by=[0], ascending=False)\n",
        "exact17_results = pd.DataFrame(exact17).sort_values(by=[0], ascending=False)\n",
        "\n",
        "### Best simple regret minimization IQR - approx:\n",
        "lower_approx17 = np.asarray(approx17_results[4:5][0])[0]\n",
        "median_approx17 = np.asarray(approx17_results[9:10][0])[0]\n",
        "upper_approx17 = np.asarray(approx17_results[14:15][0])[0]\n",
        "\n",
        "lower_exact17 = np.asarray(exact17_results[4:5][0])[0]\n",
        "median_exact17 = np.asarray(exact17_results[9:10][0])[0]\n",
        "upper_exact17 = np.asarray(exact17_results[14:15][0])[0]"
      ],
      "execution_count": 89,
      "outputs": []
    },
    {
      "cell_type": "code",
      "metadata": {
        "id": "-6VLo37PQxf8"
      },
      "source": [
        "# Iteration8 :\n",
        "\n",
        "slice8 = 7\n",
        "\n",
        "approx8 = [simple_regret_approx_1[slice8],\n",
        "       simple_regret_approx_2[slice8],\n",
        "       simple_regret_approx_3[slice8],\n",
        "       simple_regret_approx_4[slice8],\n",
        "       simple_regret_approx_5[slice8],\n",
        "       simple_regret_approx_6[slice8],\n",
        "       simple_regret_approx_7[slice8],\n",
        "       simple_regret_approx_8[slice8],\n",
        "       simple_regret_approx_9[slice8],\n",
        "       simple_regret_approx_10[slice8],\n",
        "       simple_regret_approx_11[slice8],\n",
        "       simple_regret_approx_12[slice8],\n",
        "       simple_regret_approx_13[slice8],\n",
        "       simple_regret_approx_14[slice8],\n",
        "       simple_regret_approx_15[slice8],\n",
        "       simple_regret_approx_16[slice8],\n",
        "       simple_regret_approx_17[slice8],\n",
        "       simple_regret_approx_18[slice8],\n",
        "       simple_regret_approx_19[slice8],\n",
        "       simple_regret_approx_20[slice8]]\n",
        "\n",
        "exact8 = [simple_regret_exact_1[slice8],\n",
        "       simple_regret_exact_2[slice8],\n",
        "       simple_regret_exact_3[slice8],\n",
        "       simple_regret_exact_4[slice8],\n",
        "       simple_regret_exact_5[slice8],\n",
        "       simple_regret_exact_6[slice8],\n",
        "       simple_regret_exact_7[slice8],\n",
        "       simple_regret_exact_8[slice8],\n",
        "       simple_regret_exact_9[slice8],\n",
        "       simple_regret_exact_10[slice8],\n",
        "       simple_regret_exact_11[slice8],\n",
        "       simple_regret_exact_12[slice8],\n",
        "       simple_regret_exact_13[slice8],\n",
        "       simple_regret_exact_14[slice8],\n",
        "       simple_regret_exact_15[slice8],\n",
        "       simple_regret_exact_16[slice8],\n",
        "       simple_regret_exact_17[slice8],\n",
        "       simple_regret_exact_18[slice8],\n",
        "       simple_regret_exact_19[slice8],\n",
        "       simple_regret_exact_20[slice8]]\n",
        "\n",
        "approx8_results = pd.DataFrame(approx8).sort_values(by=[0], ascending=False)\n",
        "exact8_results = pd.DataFrame(exact8).sort_values(by=[0], ascending=False)\n",
        "\n",
        "### Best simple regret minimization IQR - approx:\n",
        "lower_approx8 = np.asarray(approx8_results[4:5][0])[0]\n",
        "median_approx8 = np.asarray(approx8_results[9:10][0])[0]\n",
        "upper_approx8 = np.asarray(approx8_results[14:15][0])[0]\n",
        "\n",
        "lower_exact8 = np.asarray(exact8_results[4:5][0])[0]\n",
        "median_exact8 = np.asarray(exact8_results[9:10][0])[0]\n",
        "upper_exact8 = np.asarray(exact8_results[14:15][0])[0]"
      ],
      "execution_count": 90,
      "outputs": []
    },
    {
      "cell_type": "code",
      "metadata": {
        "id": "2Dp-9CC2Qxf9"
      },
      "source": [
        "# Iteration18 :\n",
        "\n",
        "slice18 = 17\n",
        "\n",
        "approx18 = [simple_regret_approx_1[slice18],\n",
        "       simple_regret_approx_2[slice18],\n",
        "       simple_regret_approx_3[slice18],\n",
        "       simple_regret_approx_4[slice18],\n",
        "       simple_regret_approx_5[slice18],\n",
        "       simple_regret_approx_6[slice18],\n",
        "       simple_regret_approx_7[slice18],\n",
        "       simple_regret_approx_8[slice18],\n",
        "       simple_regret_approx_9[slice18],\n",
        "       simple_regret_approx_10[slice18],\n",
        "       simple_regret_approx_11[slice18],\n",
        "       simple_regret_approx_12[slice18],\n",
        "       simple_regret_approx_13[slice18],\n",
        "       simple_regret_approx_14[slice18],\n",
        "       simple_regret_approx_15[slice18],\n",
        "       simple_regret_approx_16[slice18],\n",
        "       simple_regret_approx_17[slice18],\n",
        "       simple_regret_approx_18[slice18],\n",
        "       simple_regret_approx_19[slice18],\n",
        "       simple_regret_approx_20[slice18]]\n",
        "\n",
        "exact18 = [simple_regret_exact_1[slice18],\n",
        "       simple_regret_exact_2[slice18],\n",
        "       simple_regret_exact_3[slice18],\n",
        "       simple_regret_exact_4[slice18],\n",
        "       simple_regret_exact_5[slice18],\n",
        "       simple_regret_exact_6[slice18],\n",
        "       simple_regret_exact_7[slice18],\n",
        "       simple_regret_exact_8[slice18],\n",
        "       simple_regret_exact_9[slice18],\n",
        "       simple_regret_exact_10[slice18],\n",
        "       simple_regret_exact_11[slice18],\n",
        "       simple_regret_exact_12[slice18],\n",
        "       simple_regret_exact_13[slice18],\n",
        "       simple_regret_exact_14[slice18],\n",
        "       simple_regret_exact_15[slice18],\n",
        "       simple_regret_exact_16[slice18],\n",
        "       simple_regret_exact_17[slice18],\n",
        "       simple_regret_exact_18[slice18],\n",
        "       simple_regret_exact_19[slice18],\n",
        "       simple_regret_exact_20[slice18]]\n",
        "\n",
        "approx18_results = pd.DataFrame(approx18).sort_values(by=[0], ascending=False)\n",
        "exact18_results = pd.DataFrame(exact18).sort_values(by=[0], ascending=False)\n",
        "\n",
        "### Best simple regret minimization IQR - approx:\n",
        "lower_approx18 = np.asarray(approx18_results[4:5][0])[0]\n",
        "median_approx18 = np.asarray(approx18_results[9:10][0])[0]\n",
        "upper_approx18 = np.asarray(approx18_results[14:15][0])[0]\n",
        "\n",
        "lower_exact18 = np.asarray(exact18_results[4:5][0])[0]\n",
        "median_exact18 = np.asarray(exact18_results[9:10][0])[0]\n",
        "upper_exact18 = np.asarray(exact18_results[14:15][0])[0]"
      ],
      "execution_count": 91,
      "outputs": []
    },
    {
      "cell_type": "code",
      "metadata": {
        "id": "SqiaOpB7Qxf9"
      },
      "source": [
        "# Iteration9 :\n",
        "\n",
        "slice9 = 8\n",
        "\n",
        "approx9 = [simple_regret_approx_1[slice9],\n",
        "       simple_regret_approx_2[slice9],\n",
        "       simple_regret_approx_3[slice9],\n",
        "       simple_regret_approx_4[slice9],\n",
        "       simple_regret_approx_5[slice9],\n",
        "       simple_regret_approx_6[slice9],\n",
        "       simple_regret_approx_7[slice9],\n",
        "       simple_regret_approx_8[slice9],\n",
        "       simple_regret_approx_9[slice9],\n",
        "       simple_regret_approx_10[slice9],\n",
        "       simple_regret_approx_11[slice9],\n",
        "       simple_regret_approx_12[slice9],\n",
        "       simple_regret_approx_13[slice9],\n",
        "       simple_regret_approx_14[slice9],\n",
        "       simple_regret_approx_15[slice9],\n",
        "       simple_regret_approx_16[slice9],\n",
        "       simple_regret_approx_17[slice9],\n",
        "       simple_regret_approx_18[slice9],\n",
        "       simple_regret_approx_19[slice9],\n",
        "       simple_regret_approx_20[slice9]]\n",
        "\n",
        "exact9 = [simple_regret_exact_1[slice9],\n",
        "       simple_regret_exact_2[slice9],\n",
        "       simple_regret_exact_3[slice9],\n",
        "       simple_regret_exact_4[slice9],\n",
        "       simple_regret_exact_5[slice9],\n",
        "       simple_regret_exact_6[slice9],\n",
        "       simple_regret_exact_7[slice9],\n",
        "       simple_regret_exact_8[slice9],\n",
        "       simple_regret_exact_9[slice9],\n",
        "       simple_regret_exact_10[slice9],\n",
        "       simple_regret_exact_11[slice9],\n",
        "       simple_regret_exact_12[slice9],\n",
        "       simple_regret_exact_13[slice9],\n",
        "       simple_regret_exact_14[slice9],\n",
        "       simple_regret_exact_15[slice9],\n",
        "       simple_regret_exact_16[slice9],\n",
        "       simple_regret_exact_17[slice9],\n",
        "       simple_regret_exact_18[slice9],\n",
        "       simple_regret_exact_19[slice9],\n",
        "       simple_regret_exact_20[slice9]]\n",
        "\n",
        "approx9_results = pd.DataFrame(approx9).sort_values(by=[0], ascending=False)\n",
        "exact9_results = pd.DataFrame(exact9).sort_values(by=[0], ascending=False)\n",
        "\n",
        "### Best simple regret minimization IQR - approx:\n",
        "lower_approx9 = np.asarray(approx9_results[4:5][0])[0]\n",
        "median_approx9 = np.asarray(approx9_results[9:10][0])[0]\n",
        "upper_approx9 = np.asarray(approx9_results[14:15][0])[0]\n",
        "\n",
        "lower_exact9 = np.asarray(exact9_results[4:5][0])[0]\n",
        "median_exact9 = np.asarray(exact9_results[9:10][0])[0]\n",
        "upper_exact9 = np.asarray(exact9_results[14:15][0])[0]"
      ],
      "execution_count": 92,
      "outputs": []
    },
    {
      "cell_type": "code",
      "metadata": {
        "id": "OQkCCOsPQxf9"
      },
      "source": [
        "# Iteration19 :\n",
        "\n",
        "slice19 = 18\n",
        "\n",
        "approx19 = [simple_regret_approx_1[slice19],\n",
        "       simple_regret_approx_2[slice19],\n",
        "       simple_regret_approx_3[slice19],\n",
        "       simple_regret_approx_4[slice19],\n",
        "       simple_regret_approx_5[slice19],\n",
        "       simple_regret_approx_6[slice19],\n",
        "       simple_regret_approx_7[slice19],\n",
        "       simple_regret_approx_8[slice19],\n",
        "       simple_regret_approx_9[slice19],\n",
        "       simple_regret_approx_10[slice19],\n",
        "       simple_regret_approx_11[slice19],\n",
        "       simple_regret_approx_12[slice19],\n",
        "       simple_regret_approx_13[slice19],\n",
        "       simple_regret_approx_14[slice19],\n",
        "       simple_regret_approx_15[slice19],\n",
        "       simple_regret_approx_16[slice19],\n",
        "       simple_regret_approx_17[slice19],\n",
        "       simple_regret_approx_18[slice19],\n",
        "       simple_regret_approx_19[slice19],\n",
        "       simple_regret_approx_20[slice19]]\n",
        "\n",
        "exact19 = [simple_regret_exact_1[slice19],\n",
        "       simple_regret_exact_2[slice19],\n",
        "       simple_regret_exact_3[slice19],\n",
        "       simple_regret_exact_4[slice19],\n",
        "       simple_regret_exact_5[slice19],\n",
        "       simple_regret_exact_6[slice19],\n",
        "       simple_regret_exact_7[slice19],\n",
        "       simple_regret_exact_8[slice19],\n",
        "       simple_regret_exact_9[slice19],\n",
        "       simple_regret_exact_10[slice19],\n",
        "       simple_regret_exact_11[slice19],\n",
        "       simple_regret_exact_12[slice19],\n",
        "       simple_regret_exact_13[slice19],\n",
        "       simple_regret_exact_14[slice19],\n",
        "       simple_regret_exact_15[slice19],\n",
        "       simple_regret_exact_16[slice19],\n",
        "       simple_regret_exact_17[slice19],\n",
        "       simple_regret_exact_18[slice19],\n",
        "       simple_regret_exact_19[slice19],\n",
        "       simple_regret_exact_20[slice19]]\n",
        "\n",
        "approx19_results = pd.DataFrame(approx19).sort_values(by=[0], ascending=False)\n",
        "exact19_results = pd.DataFrame(exact19).sort_values(by=[0], ascending=False)\n",
        "\n",
        "### Best simple regret minimization IQR - approx:\n",
        "lower_approx19 = np.asarray(approx19_results[4:5][0])[0]\n",
        "median_approx19 = np.asarray(approx19_results[9:10][0])[0]\n",
        "upper_approx19 = np.asarray(approx19_results[14:15][0])[0]\n",
        "\n",
        "lower_exact19 = np.asarray(exact19_results[4:5][0])[0]\n",
        "median_exact19 = np.asarray(exact19_results[9:10][0])[0]\n",
        "upper_exact19 = np.asarray(exact19_results[14:15][0])[0]"
      ],
      "execution_count": 93,
      "outputs": []
    },
    {
      "cell_type": "code",
      "metadata": {
        "id": "h4vtWahcQxf-"
      },
      "source": [
        "# Iteration10 :\n",
        "\n",
        "slice10 = 9\n",
        "\n",
        "approx10 = [simple_regret_approx_1[slice10],\n",
        "       simple_regret_approx_2[slice10],\n",
        "       simple_regret_approx_3[slice10],\n",
        "       simple_regret_approx_4[slice10],\n",
        "       simple_regret_approx_5[slice10],\n",
        "       simple_regret_approx_6[slice10],\n",
        "       simple_regret_approx_7[slice10],\n",
        "       simple_regret_approx_8[slice10],\n",
        "       simple_regret_approx_9[slice10],\n",
        "       simple_regret_approx_10[slice10],\n",
        "       simple_regret_approx_11[slice10],\n",
        "       simple_regret_approx_12[slice10],\n",
        "       simple_regret_approx_13[slice10],\n",
        "       simple_regret_approx_14[slice10],\n",
        "       simple_regret_approx_15[slice10],\n",
        "       simple_regret_approx_16[slice10],\n",
        "       simple_regret_approx_17[slice10],\n",
        "       simple_regret_approx_18[slice10],\n",
        "       simple_regret_approx_19[slice10],\n",
        "       simple_regret_approx_20[slice10]]\n",
        "\n",
        "exact10 = [simple_regret_exact_1[slice10],\n",
        "       simple_regret_exact_2[slice10],\n",
        "       simple_regret_exact_3[slice10],\n",
        "       simple_regret_exact_4[slice10],\n",
        "       simple_regret_exact_5[slice10],\n",
        "       simple_regret_exact_6[slice10],\n",
        "       simple_regret_exact_7[slice10],\n",
        "       simple_regret_exact_8[slice10],\n",
        "       simple_regret_exact_9[slice10],\n",
        "       simple_regret_exact_10[slice10],\n",
        "       simple_regret_exact_11[slice10],\n",
        "       simple_regret_exact_12[slice10],\n",
        "       simple_regret_exact_13[slice10],\n",
        "       simple_regret_exact_14[slice10],\n",
        "       simple_regret_exact_15[slice10],\n",
        "       simple_regret_exact_16[slice10],\n",
        "       simple_regret_exact_17[slice10],\n",
        "       simple_regret_exact_18[slice10],\n",
        "       simple_regret_exact_19[slice10],\n",
        "       simple_regret_exact_20[slice10]]\n",
        "\n",
        "approx10_results = pd.DataFrame(approx10).sort_values(by=[0], ascending=False)\n",
        "exact10_results = pd.DataFrame(exact10).sort_values(by=[0], ascending=False)\n",
        "\n",
        "### Best simple regret minimization IQR - approx:\n",
        "lower_approx10 = np.asarray(approx10_results[4:5][0])[0]\n",
        "median_approx10 = np.asarray(approx10_results[9:10][0])[0]\n",
        "upper_approx10 = np.asarray(approx10_results[14:15][0])[0]\n",
        "\n",
        "lower_exact10 = np.asarray(exact10_results[4:5][0])[0]\n",
        "median_exact10 = np.asarray(exact10_results[9:10][0])[0]\n",
        "upper_exact10 = np.asarray(exact10_results[14:15][0])[0]"
      ],
      "execution_count": 94,
      "outputs": []
    },
    {
      "cell_type": "code",
      "metadata": {
        "id": "Rsf240pWQxf-"
      },
      "source": [
        "# Iteration20 :\n",
        "\n",
        "slice20 = 19\n",
        "\n",
        "approx20 = [simple_regret_approx_1[slice20],\n",
        "       simple_regret_approx_2[slice20],\n",
        "       simple_regret_approx_3[slice20],\n",
        "       simple_regret_approx_4[slice20],\n",
        "       simple_regret_approx_5[slice20],\n",
        "       simple_regret_approx_6[slice20],\n",
        "       simple_regret_approx_7[slice20],\n",
        "       simple_regret_approx_8[slice20],\n",
        "       simple_regret_approx_9[slice20],\n",
        "       simple_regret_approx_10[slice20],\n",
        "       simple_regret_approx_11[slice20],\n",
        "       simple_regret_approx_12[slice20],\n",
        "       simple_regret_approx_13[slice20],\n",
        "       simple_regret_approx_14[slice20],\n",
        "       simple_regret_approx_15[slice20],\n",
        "       simple_regret_approx_16[slice20],\n",
        "       simple_regret_approx_17[slice20],\n",
        "       simple_regret_approx_18[slice20],\n",
        "       simple_regret_approx_19[slice20],\n",
        "       simple_regret_approx_20[slice20]]\n",
        "\n",
        "exact20 = [simple_regret_exact_1[slice20],\n",
        "       simple_regret_exact_2[slice20],\n",
        "       simple_regret_exact_3[slice20],\n",
        "       simple_regret_exact_4[slice20],\n",
        "       simple_regret_exact_5[slice20],\n",
        "       simple_regret_exact_6[slice20],\n",
        "       simple_regret_exact_7[slice20],\n",
        "       simple_regret_exact_8[slice20],\n",
        "       simple_regret_exact_9[slice20],\n",
        "       simple_regret_exact_10[slice20],\n",
        "       simple_regret_exact_11[slice20],\n",
        "       simple_regret_exact_12[slice20],\n",
        "       simple_regret_exact_13[slice20],\n",
        "       simple_regret_exact_14[slice20],\n",
        "       simple_regret_exact_15[slice20],\n",
        "       simple_regret_exact_16[slice20],\n",
        "       simple_regret_exact_17[slice20],\n",
        "       simple_regret_exact_18[slice20],\n",
        "       simple_regret_exact_19[slice20],\n",
        "       simple_regret_exact_20[slice20]]\n",
        "\n",
        "approx20_results = pd.DataFrame(approx20).sort_values(by=[0], ascending=False)\n",
        "exact20_results = pd.DataFrame(exact20).sort_values(by=[0], ascending=False)\n",
        "\n",
        "### Best simple regret minimization IQR - approx:\n",
        "lower_approx20 = np.asarray(approx20_results[4:5][0])[0]\n",
        "median_approx20 = np.asarray(approx20_results[9:10][0])[0]\n",
        "upper_approx20 = np.asarray(approx20_results[14:15][0])[0]\n",
        "\n",
        "lower_exact20 = np.asarray(exact20_results[4:5][0])[0]\n",
        "median_exact20 = np.asarray(exact20_results[9:10][0])[0]\n",
        "upper_exact20 = np.asarray(exact20_results[14:15][0])[0]"
      ],
      "execution_count": 95,
      "outputs": []
    },
    {
      "cell_type": "code",
      "metadata": {
        "id": "gn36RejbQxf_"
      },
      "source": [
        "### Summarize arrays: 'Loser'\n",
        "\n",
        "lower_approx = [lower_approx1,\n",
        "            lower_approx2,\n",
        "            lower_approx3,\n",
        "            lower_approx4,\n",
        "            lower_approx5,\n",
        "            lower_approx6,\n",
        "            lower_approx7,\n",
        "            lower_approx8,\n",
        "            lower_approx9,\n",
        "            lower_approx10,\n",
        "            lower_approx11,\n",
        "            lower_approx12,\n",
        "            lower_approx13,\n",
        "            lower_approx14,\n",
        "            lower_approx15,\n",
        "            lower_approx16,\n",
        "            lower_approx17,\n",
        "            lower_approx18,\n",
        "            lower_approx19,\n",
        "            lower_approx20,\n",
        "            lower_approx21]\n",
        "\n",
        "median_approx = [median_approx1,\n",
        "            median_approx2,\n",
        "            median_approx3,\n",
        "            median_approx4,\n",
        "            median_approx5,\n",
        "            median_approx6,\n",
        "            median_approx7,\n",
        "            median_approx8,\n",
        "            median_approx9,\n",
        "            median_approx10,\n",
        "            median_approx11,\n",
        "            median_approx12,\n",
        "            median_approx13,\n",
        "            median_approx14,\n",
        "            median_approx15,\n",
        "            median_approx16,\n",
        "            median_approx17,\n",
        "            median_approx18,\n",
        "            median_approx19,\n",
        "            median_approx20,\n",
        "            median_approx21]\n",
        "\n",
        "upper_approx = [upper_approx1,\n",
        "            upper_approx2,\n",
        "            upper_approx3,\n",
        "            upper_approx4,\n",
        "            upper_approx5,\n",
        "            upper_approx6,\n",
        "            upper_approx7,\n",
        "            upper_approx8,\n",
        "            upper_approx9,\n",
        "            upper_approx10,\n",
        "            upper_approx11,\n",
        "            upper_approx12,\n",
        "            upper_approx13,\n",
        "            upper_approx14,\n",
        "            upper_approx15,\n",
        "            upper_approx16,\n",
        "            upper_approx17,\n",
        "            upper_approx18,\n",
        "            upper_approx19,\n",
        "            upper_approx20,\n",
        "            upper_approx21]"
      ],
      "execution_count": 96,
      "outputs": []
    },
    {
      "cell_type": "code",
      "metadata": {
        "id": "wxtGTOYfQxf_"
      },
      "source": [
        "### Summarize arrays: 'exact'\n",
        "\n",
        "lower_exact = [lower_exact1,\n",
        "            lower_exact2,\n",
        "            lower_exact3,\n",
        "            lower_exact4,\n",
        "            lower_exact5,\n",
        "            lower_exact6,\n",
        "            lower_exact7,\n",
        "            lower_exact8,\n",
        "            lower_exact9,\n",
        "            lower_exact10,\n",
        "            lower_exact11,\n",
        "            lower_exact12,\n",
        "            lower_exact13,\n",
        "            lower_exact14,\n",
        "            lower_exact15,\n",
        "            lower_exact16,\n",
        "            lower_exact17,\n",
        "            lower_exact18,\n",
        "            lower_exact19,\n",
        "            lower_exact20,\n",
        "            lower_exact21]\n",
        "\n",
        "median_exact = [median_exact1,\n",
        "            median_exact2,\n",
        "            median_exact3,\n",
        "            median_exact4,\n",
        "            median_exact5,\n",
        "            median_exact6,\n",
        "            median_exact7,\n",
        "            median_exact8,\n",
        "            median_exact9,\n",
        "            median_exact10,\n",
        "            median_exact11,\n",
        "            median_exact12,\n",
        "            median_exact13,\n",
        "            median_exact14,\n",
        "            median_exact15,\n",
        "            median_exact16,\n",
        "            median_exact17,\n",
        "            median_exact18,\n",
        "            median_exact19,\n",
        "            median_exact20,\n",
        "            median_exact21]\n",
        "\n",
        "upper_exact = [upper_exact1,\n",
        "            upper_exact2,\n",
        "            upper_exact3,\n",
        "            upper_exact4,\n",
        "            upper_exact5,\n",
        "            upper_exact6,\n",
        "            upper_exact7,\n",
        "            upper_exact8,\n",
        "            upper_exact9,\n",
        "            upper_exact10,\n",
        "            upper_exact11,\n",
        "            upper_exact12,\n",
        "            upper_exact13,\n",
        "            upper_exact14,\n",
        "            upper_exact15,\n",
        "            upper_exact16,\n",
        "            upper_exact17,\n",
        "            upper_exact18,\n",
        "            upper_exact19,\n",
        "            upper_exact20,\n",
        "            upper_exact21]"
      ],
      "execution_count": 97,
      "outputs": []
    },
    {
      "cell_type": "code",
      "metadata": {
        "id": "2MONq-BXQxgA",
        "colab": {
          "base_uri": "https://localhost:8080/",
          "height": 299
        },
        "outputId": "e0e069c1-afe5-40bb-9b42-a4e658025661"
      },
      "source": [
        "### Visualise!\n",
        "\n",
        "title = func\n",
        "plt.figure()\n",
        "\n",
        "plt.plot(median_approx, color = 'Green')\n",
        "plt.plot(median_exact, color = 'Blue')\n",
        "\n",
        "xstar = np.arange(0, iters+1, step=1)\n",
        "plt.fill_between(xstar, lower_approx, upper_approx, facecolor = 'Green', alpha=0.4, label='GP ERM Optimization: Approx GP ERM gradients')\n",
        "plt.fill_between(xstar, lower_exact, upper_exact, facecolor = 'Blue', alpha=0.4, label='GP ERM Optimization: Exact GP dERM gradients')\n",
        "\n",
        "plt.title(title, weight = 'bold')\n",
        "plt.xlabel('(Post-initialization) iteration $\\it{k}$', weight = 'bold')\n",
        "plt.ylabel('log(Regret)', weight = 'bold') \n",
        "plt.legend(loc=1) # add plot legend\n",
        "\n",
        "### Make the x-ticks integers, not floats:\n",
        "count = len(xstar)\n",
        "plt.xticks(np.arange(count), np.arange(0, count))\n",
        "plt.show() #visualize!"
      ],
      "execution_count": 98,
      "outputs": [
        {
          "output_type": "display_data",
          "data": {
            "image/png": "[encoded data removed]",
            "text/plain": [
              "<Figure size 432x288 with 1 Axes>"
            ]
          },
          "metadata": {
            "needs_background": "light"
          }
        }
      ]
    },
    {
      "cell_type": "code",
      "source": [
        "time_approx, time_exact"
      ],
      "metadata": {
        "colab": {
          "base_uri": "https://localhost:8080/"
        },
        "id": "oFgBoybx0NsP",
        "outputId": "5b0234d1-081a-487e-f239-ed09623186ec"
      },
      "execution_count": 99,
      "outputs": [
        {
          "output_type": "execute_result",
          "data": {
            "text/plain": [
              "(170.575608253479, 265.8080909252167)"
            ]
          },
          "metadata": {},
          "execution_count": 99
        }
      ]
    },
    {
      "cell_type": "code",
      "source": [
        "exact21_results, exact21_results[19:20].index[0]\n"
      ],
      "metadata": {
        "colab": {
          "base_uri": "https://localhost:8080/"
        },
        "id": "0i4IbAcyB7-l",
        "outputId": "a76c76c7-327a-4ada-86f8-9a06bd20735c"
      },
      "execution_count": 100,
      "outputs": [
        {
          "output_type": "execute_result",
          "data": {
            "text/plain": [
              "(           0\n",
              " 1   2.867932\n",
              " 10  2.509325\n",
              " 19  2.041479\n",
              " 12  1.853655\n",
              " 5   1.800779\n",
              " 13  1.701455\n",
              " 9   1.526867\n",
              " 4   1.353943\n",
              " 8   1.325396\n",
              " 7   1.277093\n",
              " 17  1.091320\n",
              " 0   1.034201\n",
              " 3   0.747839\n",
              " 15  0.723557\n",
              " 18  0.034537\n",
              " 16  0.031148\n",
              " 14 -0.067261\n",
              " 11 -0.889372\n",
              " 6  -0.898846\n",
              " 2  -2.367495, 2)"
            ]
          },
          "metadata": {},
          "execution_count": 100
        }
      ]
    },
    {
      "cell_type": "code",
      "source": [
        "str_exact = str(exact21_results[19:20].index[0]+1)\n",
        "str_exact"
      ],
      "metadata": {
        "colab": {
          "base_uri": "https://localhost:8080/",
          "height": 35
        },
        "id": "12lIvjCoBr7y",
        "outputId": "3e759004-f132-486d-b410-b034eace6f7c"
      },
      "execution_count": 101,
      "outputs": [
        {
          "output_type": "execute_result",
          "data": {
            "application/vnd.google.colaboratory.intrinsic+json": {
              "type": "string"
            },
            "text/plain": [
              "'3'"
            ]
          },
          "metadata": {},
          "execution_count": 101
        }
      ]
    },
    {
      "cell_type": "code",
      "source": [
        "eval_exactMinIQR_vsCorrApproxExperiment = eval('approx_' + str_exact)\n",
        "eval_exactMinIQR_vsCorrApproxExperiment_minAcqFunc = eval_exactMinIQR_vsCorrApproxExperiment.history[eval_exactMinIQR_vsCorrApproxExperiment.history.index(eval_exactMinIQR_vsCorrApproxExperiment.tau)-1]\n",
        "eval_exactMinIQR_vsCorrApproxExperiment_simpleRegret = np.log(-eval_exactMinIQR_vsCorrApproxExperiment.tau + y_global_orig)\n",
        "\n",
        "eval_exactMinIQR_vsCorrApproxExperiment.tau, eval_exactMinIQR_vsCorrApproxExperiment_minAcqFunc, eval_exactMinIQR_vsCorrApproxExperiment_simpleRegret\n"
      ],
      "metadata": {
        "colab": {
          "base_uri": "https://localhost:8080/"
        },
        "id": "O3sQFv0hpuNI",
        "outputId": "ffceb733-d779-4165-db78-88546439ab1e"
      },
      "execution_count": 102,
      "outputs": [
        {
          "output_type": "execute_result",
          "data": {
            "text/plain": [
              "(-0.18443381052042457, -0.7956156590680827, -1.690464630434739)"
            ]
          },
          "metadata": {},
          "execution_count": 102
        }
      ]
    },
    {
      "cell_type": "code",
      "source": [
        "### Final iteration: best \"approx\" experiment results (as above)\n",
        "\n",
        "np.random.seed(int(str_exact))\n",
        "eval_exactMinIQR_vsCorrApproxExperiment.run(init_evals=n_init, max_iter=iters)\n"
      ],
      "metadata": {
        "id": "DKvmmlRoTnvC",
        "colab": {
          "base_uri": "https://localhost:8080/"
        },
        "outputId": "e0c825d1-8fbb-445e-8c47-4e0d2fc3ac56"
      },
      "execution_count": 103,
      "outputs": [
        {
          "output_type": "stream",
          "name": "stdout",
          "text": [
            "Evaluation \t Proposed point \t  Current eval. \t  Best eval. \t         Max AcqFunc.\n",
            "init\t [1.01595805 4.16295645]\t -35.692583610916834\t -17.582120911078754\t    \n",
            "init\t [-4.18190522  0.2165521 ]\t -17.582120911078754\t -17.582120911078754\t    \n",
            "init\t [7.85893909 7.92586178]\t -187.4014934415638\t -17.582120911078754\t    \n",
            "init\t [-7.48829379 -5.85514244]\t -124.63992981683481\t -17.582120911078754\t    \n",
            "init\t [-8.97065593 -1.18380313]\t -83.2754475728413\t -17.582120911078754\t    \n",
            "1  \t [ 5.60629529 -3.87272935]\t -61.42661215628989\t -17.582120911078754\t -0.7978846605384292\n",
            "2  \t [-8.52752662  7.84786375]\t -195.89664111179286\t -17.582120911078754\t -0.7978846605384291\n",
            "3  \t [-0.35005916 -4.25900471]\t -36.40078359655554\t -17.582120911078754\t -0.7978842513220427\n",
            "4  \t [ 6.79103763 -9.52147302]\t -227.43508907727622\t -17.582120911078754\t -0.7978837637189822\n",
            "5  \t [ 1.26866692 10.        ]\t -201.60951575409274\t -17.582120911078754\t -0.7978843132071729\n",
            "6  \t [4.89222894 1.05514525]\t -26.160567008119227\t -17.582120911078754\t -0.7978846469903254\n",
            "7  \t [-2.10496259 -9.55536227]\t -187.04076369171705\t -17.582120911078754\t -0.7978846605384292\n",
            "8  \t [-7.1020649   3.32961462]\t -72.61199283589302\t -17.582120911078754\t -0.7978846512945381\n",
            "9  \t [-3.563219    6.69074367]\t -102.22863138699154\t -17.582120911078754\t -0.7978846605384292\n",
            "10 \t [-10. -10.]\t -300.0\t -17.582120911078754\t -0.7978846534046053\n",
            "11 \t [ 8.83706845 -0.31089701]\t -78.28709264149269\t -17.582120911078754\t -0.7978846581434961\n",
            "12 \t [ 9.53293622 -5.92826964]\t -161.16563472504623\t -17.582120911078754\t -0.7978837772567605\n",
            "\u001b[1m\u001b[92m13\u001b[0m\t \u001b[1m\u001b[92m[ 0.41903799 -0.06648674]\u001b[0m\t \u001b[1m\u001b[92m-0.18443381052042457\u001b[0m\t \u001b[1m\u001b[92m-0.18443381052042457\u001b[0m\t \u001b[1m\u001b[92m-0.7956156590680827\u001b[0m\n",
            "14 \t [10.          3.90334944]\t -130.47227368480407\t -0.18443381052042457\t -0.7950515379668496\n",
            "15 \t [3.9395278  6.72887155]\t -106.0753039406057\t -0.18443381052042457\t -0.7978790206608374\n",
            "16 \t [ 2.37454536 -7.7477684 ]\t -125.6942960872003\t -0.18443381052042457\t -0.7962477743933731\n",
            "17 \t [-4.11687177 -3.45933477]\t -40.88262726689975\t -0.18443381052042457\t -0.7813837867158854\n",
            "18 \t [ 2.16930621 -1.43549788]\t -8.827197748708638\t -0.18443381052042457\t -0.7770900760808066\n",
            "19 \t [-0.70935677  0.75819966]\t -1.6529204891286522\t -0.18443381052042457\t -0.7833230058342657\n",
            "20 \t [-2.44439649  3.01252398]\t -24.125675654524237\t -0.18443381052042457\t -0.7444476623015968\n"
          ]
        }
      ]
    },
    {
      "cell_type": "code",
      "source": [
        "eval_exactMinIQR = eval('exact_' + str_exact)\n",
        "eval_exactMinIQR_minAcqFunc = eval_exactMinIQR.history[eval_exactMinIQR.history.index(eval_exactMinIQR.tau)-1]\n",
        "eval_exactMinIQR_simpleRegret  = np.log(-eval_exactMinIQR.tau + y_global_orig)\n",
        "\n",
        "eval_exactMinIQR.tau, eval_exactMinIQR_minAcqFunc, eval_exactMinIQR_simpleRegret\n"
      ],
      "metadata": {
        "colab": {
          "base_uri": "https://localhost:8080/"
        },
        "id": "M4bxQTTWCXFZ",
        "outputId": "847b2855-67c0-4275-db72-76e69d4c91be"
      },
      "execution_count": 104,
      "outputs": [
        {
          "output_type": "execute_result",
          "data": {
            "text/plain": [
              "(-0.09371521386918963, -0.7909917383585723, -2.367494735050444)"
            ]
          },
          "metadata": {},
          "execution_count": 104
        }
      ]
    },
    {
      "cell_type": "code",
      "source": [
        "### Final iteration: best \"exact\" experiment results (as above)\n",
        "\n",
        "np.random.seed(int(str_exact))\n",
        "eval_exactMinIQR.run(init_evals=n_init, max_iter=iters)\n"
      ],
      "metadata": {
        "colab": {
          "base_uri": "https://localhost:8080/"
        },
        "id": "WeKb1o143nLW",
        "outputId": "8d182d75-ce3e-4fa4-ed66-1a86645194cc"
      },
      "execution_count": 105,
      "outputs": [
        {
          "output_type": "stream",
          "name": "stdout",
          "text": [
            "Evaluation \t Proposed point \t  Current eval. \t  Best eval. \t         Max AcqFunc.\n",
            "init\t [1.01595805 4.16295645]\t -35.692583610916834\t -17.582120911078754\t    \n",
            "init\t [-4.18190522  0.2165521 ]\t -17.582120911078754\t -17.582120911078754\t    \n",
            "init\t [7.85893909 7.92586178]\t -187.4014934415638\t -17.582120911078754\t    \n",
            "init\t [-7.48829379 -5.85514244]\t -124.63992981683481\t -17.582120911078754\t    \n",
            "init\t [-8.97065593 -1.18380313]\t -83.2754475728413\t -17.582120911078754\t    \n",
            "1  \t [ 5.60629529 -3.87272935]\t -61.42661215628989\t -17.582120911078754\t -0.7978845607896438\n",
            "2  \t [-8.52752662  7.84786375]\t -195.89664111179286\t -17.582120911078754\t -0.7978845607896436\n",
            "3  \t [ 1.29377684 10.        ]\t -201.67385851581457\t -17.582120911078754\t -0.7978842153879121\n",
            "4  \t [-0.42169096 -8.75441039]\t -153.45722588114134\t -17.582120911078754\t -0.7978845607896438\n",
            "5  \t [10.         -0.07365222]\t -100.01084929759641\t -17.582120911078754\t -0.7978838359138336\n",
            "6  \t [ 9.91572611 -9.01887335]\t -261.00177731356047\t -17.582120911078754\t -0.7978845607896435\n",
            "7  \t [-4.15936027  5.11058954]\t -69.53652869793855\t -17.582120911078754\t -0.7978845607896438\n",
            "\u001b[1m\u001b[92m8\u001b[0m\t \u001b[1m\u001b[92m[3.68603336 0.5392451 ]\u001b[0m\t \u001b[1m\u001b[92m-14.168412517260489\u001b[0m\t \u001b[1m\u001b[92m-14.168412517260489\u001b[0m\t \u001b[1m\u001b[92m-0.7978845588926039\u001b[0m\n",
            "9  \t [ 1.31668669 -3.53823107]\t -26.771822018724915\t -14.168412517260489\t -0.7978845607896438\n",
            "10 \t [ 4.96195895 -7.94359876]\t -150.82255916295418\t -14.168412517260489\t -0.7978828122988766\n",
            "11 \t [-4.67617006 -9.97354931]\t -220.80993834112402\t -14.168412517260489\t -0.7978845598387013\n",
            "12 \t [-3.19421238 -3.90516459]\t -40.7036136493202\t -14.168412517260489\t -0.7966264020676637\n",
            "13 \t [-10. -10.]\t -300.0\t -14.168412517260489\t -0.7975986973327673\n",
            "14 \t [-10.           3.26553187]\t -121.32739685300248\t -14.168412517260489\t -0.7968122508288241\n",
            "15 \t [-3.78349207 10.        ]\t -214.31481223469007\t -14.168412517260489\t -0.7975903188670197\n",
            "16 \t [6.74381523 3.34000983]\t -67.79037531258065\t -14.168412517260489\t -0.7961814100533541\n",
            "\u001b[1m\u001b[92m17\u001b[0m\t \u001b[1m\u001b[92m[-0.24478228  0.12999394]\u001b[0m\t \u001b[1m\u001b[92m-0.09371521386918963\u001b[0m\t \u001b[1m\u001b[92m-0.09371521386918963\u001b[0m\t \u001b[1m\u001b[92m-0.7909917383585723\u001b[0m\n",
            "18 \t [10.         -4.43698155]\t -139.37361051237414\t -0.09371521386918963\t -0.7934190292403361\n",
            "19 \t [-1.88102633  2.36267564]\t -14.702732448101798\t -0.09371521386918963\t -0.7130420966219833\n",
            "20 \t [10.          4.57019924]\t -141.7734422210682\t -0.09371521386918963\t -0.742043518144352\n"
          ]
        }
      ]
    },
    {
      "cell_type": "code",
      "source": [
        "eval_exactMinIQR.tau > eval_exactMinIQR_vsCorrApproxExperiment.tau # Exact gradients' model: y-value is greater"
      ],
      "metadata": {
        "colab": {
          "base_uri": "https://localhost:8080/"
        },
        "id": "RRSEL9F33mw_",
        "outputId": "d5e93819-f6ba-4814-9ba5-f86f0f8323f1"
      },
      "execution_count": 106,
      "outputs": [
        {
          "output_type": "execute_result",
          "data": {
            "text/plain": [
              "True"
            ]
          },
          "metadata": {},
          "execution_count": 106
        }
      ]
    },
    {
      "cell_type": "code",
      "source": [
        "eval_exactMinIQR_minAcqFunc > eval_exactMinIQR_vsCorrApproxExperiment_minAcqFunc # Exact gradients' model: best AcqFunc is greater\n"
      ],
      "metadata": {
        "colab": {
          "base_uri": "https://localhost:8080/"
        },
        "id": "srZDKNlWGaUp",
        "outputId": "ada7db0d-d682-4357-e9fd-602e8b98b6c6"
      },
      "execution_count": 107,
      "outputs": [
        {
          "output_type": "execute_result",
          "data": {
            "text/plain": [
              "True"
            ]
          },
          "metadata": {},
          "execution_count": 107
        }
      ]
    },
    {
      "cell_type": "code",
      "source": [
        "eval_exactMinIQR_simpleRegret < eval_exactMinIQR_vsCorrApproxExperiment_simpleRegret # Exact gradients' model: simple regret's natural log is lower\n"
      ],
      "metadata": {
        "colab": {
          "base_uri": "https://localhost:8080/"
        },
        "id": "TYkP-rneGab3",
        "outputId": "a46bc285-dce4-4842-d931-6f63dcc07f4a"
      },
      "execution_count": 108,
      "outputs": [
        {
          "output_type": "execute_result",
          "data": {
            "text/plain": [
              "True"
            ]
          },
          "metadata": {},
          "execution_count": 108
        }
      ]
    },
    {
      "cell_type": "code",
      "source": [
        ""
      ],
      "metadata": {
        "id": "10rcQ55YGajh"
      },
      "execution_count": 108,
      "outputs": []
    }
  ]
}