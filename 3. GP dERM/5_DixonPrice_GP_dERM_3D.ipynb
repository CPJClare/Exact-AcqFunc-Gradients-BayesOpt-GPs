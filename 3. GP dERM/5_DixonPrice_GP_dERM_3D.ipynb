{
  "nbformat": 4,
  "nbformat_minor": 0,
  "metadata": {
    "colab": {
      "name": "5. DixonPrice_GP_dERM_3D.ipynb",
      "provenance": [],
      "collapsed_sections": []
    },
    "kernelspec": {
      "name": "python3",
      "display_name": "Python 3"
    },
    "language_info": {
      "name": "python"
    }
  },
  "cells": [
    {
      "cell_type": "markdown",
      "metadata": {
        "id": "Dqn4dFx7Z2Ir"
      },
      "source": [
        "\n",
        "DixonPrice: 3D\n"
      ]
    },
    {
      "cell_type": "code",
      "metadata": {
        "id": "MJTM_GZZZb5x",
        "colab": {
          "base_uri": "https://localhost:8080/"
        },
        "outputId": "07b1b2e0-7364-4c01-b17c-0b2b5784799b"
      },
      "source": [
        "pip install pyGPGO\n"
      ],
      "execution_count": 1,
      "outputs": [
        {
          "output_type": "stream",
          "name": "stdout",
          "text": [
            "Collecting pyGPGO\n",
            "  Downloading pyGPGO-0.5.1.tar.gz (14 kB)\n",
            "Requirement already satisfied: numpy in /usr/local/lib/python3.7/dist-packages (from pyGPGO) (1.21.5)\n",
            "Requirement already satisfied: mkl in /usr/local/lib/python3.7/dist-packages (from pyGPGO) (2019.0)\n",
            "Requirement already satisfied: scipy in /usr/local/lib/python3.7/dist-packages (from pyGPGO) (1.4.1)\n",
            "Requirement already satisfied: joblib in /usr/local/lib/python3.7/dist-packages (from pyGPGO) (1.1.0)\n",
            "Requirement already satisfied: scikit-learn in /usr/local/lib/python3.7/dist-packages (from pyGPGO) (1.0.2)\n",
            "Requirement already satisfied: Theano-PyMC in /usr/local/lib/python3.7/dist-packages (from pyGPGO) (1.1.2)\n",
            "Requirement already satisfied: pyMC3 in /usr/local/lib/python3.7/dist-packages (from pyGPGO) (3.11.4)\n",
            "Requirement already satisfied: intel-openmp in /usr/local/lib/python3.7/dist-packages (from mkl->pyGPGO) (2022.0.2)\n",
            "Requirement already satisfied: dill in /usr/local/lib/python3.7/dist-packages (from pyMC3->pyGPGO) (0.3.4)\n",
            "Requirement already satisfied: patsy>=0.5.1 in /usr/local/lib/python3.7/dist-packages (from pyMC3->pyGPGO) (0.5.2)\n",
            "Requirement already satisfied: arviz>=0.11.0 in /usr/local/lib/python3.7/dist-packages (from pyMC3->pyGPGO) (0.11.4)\n",
            "Requirement already satisfied: fastprogress>=0.2.0 in /usr/local/lib/python3.7/dist-packages (from pyMC3->pyGPGO) (1.0.2)\n",
            "Requirement already satisfied: typing-extensions>=3.7.4 in /usr/local/lib/python3.7/dist-packages (from pyMC3->pyGPGO) (3.10.0.2)\n",
            "Requirement already satisfied: semver>=2.13.0 in /usr/local/lib/python3.7/dist-packages (from pyMC3->pyGPGO) (2.13.0)\n",
            "Requirement already satisfied: pandas>=0.24.0 in /usr/local/lib/python3.7/dist-packages (from pyMC3->pyGPGO) (1.3.5)\n",
            "Requirement already satisfied: cachetools>=4.2.1 in /usr/local/lib/python3.7/dist-packages (from pyMC3->pyGPGO) (4.2.4)\n",
            "Requirement already satisfied: filelock in /usr/local/lib/python3.7/dist-packages (from Theano-PyMC->pyGPGO) (3.6.0)\n",
            "Requirement already satisfied: setuptools>=38.4 in /usr/local/lib/python3.7/dist-packages (from arviz>=0.11.0->pyMC3->pyGPGO) (57.4.0)\n",
            "Requirement already satisfied: packaging in /usr/local/lib/python3.7/dist-packages (from arviz>=0.11.0->pyMC3->pyGPGO) (21.3)\n",
            "Requirement already satisfied: netcdf4 in /usr/local/lib/python3.7/dist-packages (from arviz>=0.11.0->pyMC3->pyGPGO) (1.5.8)\n",
            "Requirement already satisfied: matplotlib>=3.0 in /usr/local/lib/python3.7/dist-packages (from arviz>=0.11.0->pyMC3->pyGPGO) (3.2.2)\n",
            "Requirement already satisfied: xarray>=0.16.1 in /usr/local/lib/python3.7/dist-packages (from arviz>=0.11.0->pyMC3->pyGPGO) (0.18.2)\n",
            "Requirement already satisfied: cycler>=0.10 in /usr/local/lib/python3.7/dist-packages (from matplotlib>=3.0->arviz>=0.11.0->pyMC3->pyGPGO) (0.11.0)\n",
            "Requirement already satisfied: pyparsing!=2.0.4,!=2.1.2,!=2.1.6,>=2.0.1 in /usr/local/lib/python3.7/dist-packages (from matplotlib>=3.0->arviz>=0.11.0->pyMC3->pyGPGO) (3.0.7)\n",
            "Requirement already satisfied: python-dateutil>=2.1 in /usr/local/lib/python3.7/dist-packages (from matplotlib>=3.0->arviz>=0.11.0->pyMC3->pyGPGO) (2.8.2)\n",
            "Requirement already satisfied: kiwisolver>=1.0.1 in /usr/local/lib/python3.7/dist-packages (from matplotlib>=3.0->arviz>=0.11.0->pyMC3->pyGPGO) (1.3.2)\n",
            "Requirement already satisfied: pytz>=2017.3 in /usr/local/lib/python3.7/dist-packages (from pandas>=0.24.0->pyMC3->pyGPGO) (2018.9)\n",
            "Requirement already satisfied: six in /usr/local/lib/python3.7/dist-packages (from patsy>=0.5.1->pyMC3->pyGPGO) (1.15.0)\n",
            "Requirement already satisfied: cftime in /usr/local/lib/python3.7/dist-packages (from netcdf4->arviz>=0.11.0->pyMC3->pyGPGO) (1.5.2)\n",
            "Requirement already satisfied: threadpoolctl>=2.0.0 in /usr/local/lib/python3.7/dist-packages (from scikit-learn->pyGPGO) (3.1.0)\n",
            "Building wheels for collected packages: pyGPGO\n",
            "  Building wheel for pyGPGO (setup.py) ... \u001b[?25l\u001b[?25hdone\n",
            "  Created wheel for pyGPGO: filename=pyGPGO-0.5.1-py3-none-any.whl size=19879 sha256=68e7edf627565a53e9b91873e57da1e30e1a04aea2fca1253423b12a06159601\n",
            "  Stored in directory: /root/.cache/pip/wheels/c8/5d/0b/2160114e2f1b87791c51b66cf07f89831dbb6f49167950316f\n",
            "Successfully built pyGPGO\n",
            "Installing collected packages: pyGPGO\n",
            "Successfully installed pyGPGO-0.5.1\n"
          ]
        }
      ]
    },
    {
      "cell_type": "code",
      "metadata": {
        "id": "ZJSSPbwPaEUB"
      },
      "source": [
        "### Import:\n",
        "\n",
        "import numpy as np\n",
        "import scipy as sp\n",
        "import pandas as pd\n",
        "import matplotlib.pyplot as plt\n",
        "import warnings\n",
        "import itertools\n",
        "\n",
        "from pyGPGO.GPGO import GPGO\n",
        "from pyGPGO.surrogates.GaussianProcess import GaussianProcess\n",
        "from pyGPGO.acquisition import Acquisition\n",
        "from pyGPGO.covfunc import squaredExponential\n",
        "\n",
        "from joblib import Parallel, delayed\n",
        "from numpy.linalg import solve, cholesky\n",
        "from scipy.spatial.distance import cdist\n",
        "from scipy.optimize import minimize\n",
        "from scipy.stats import norm\n",
        "import time\n",
        "\n",
        "warnings.filterwarnings(\"ignore\", category=RuntimeWarning)\n"
      ],
      "execution_count": 2,
      "outputs": []
    },
    {
      "cell_type": "code",
      "metadata": {
        "id": "OeYcTUNoaJWa"
      },
      "source": [
        "### Inputs:\n",
        "\n",
        "func = 'DixonPrice'\n",
        "n_test = 500\n",
        "eps = 1e-08\n",
        "\n",
        "util_grad_exact = 'dERM_GP'\n",
        "util_grad_approx = 'ExpectedRegret'\n",
        "\n",
        "n_init = 5 # random initialisations\n",
        "iters = 30\n",
        "opt = True"
      ],
      "execution_count": 3,
      "outputs": []
    },
    {
      "cell_type": "code",
      "metadata": {
        "id": "xpaEOjdzaPMS"
      },
      "source": [
        "### Objective Function - DixonPrice(x) 3-D:\n",
        "\n",
        "def objfunc(x1_training, x2_training, x3_training):\n",
        "            return  operator * ((x1_training - 1)**2\n",
        "                            + 2 * (2 * x2_training ** 2 - x1_training)**2\n",
        "                            + 3 * (2 * x3_training ** 2 - x2_training)**2      \n",
        "                           )\n",
        "        \n",
        "# Constraints:\n",
        "lb = -10\n",
        "ub = +10\n",
        "    \n",
        "# Input array dimension(s):\n",
        "dim = 3\n",
        "\n",
        "# 3-D inputs' parameter bounds:\n",
        "param = {'x1_training': ('cont', [lb, ub]),\n",
        "                 'x2_training': ('cont', [lb, ub]),\n",
        "                'x3_training': ('cont', [lb, ub])\n",
        "                 }\n",
        "    \n",
        "# True y bounds:\n",
        "y_lb = 0\n",
        "operator = -1 # targets global minimum \n",
        "y_global_orig = y_lb * operator # targets global minimum\n",
        "    \n",
        "# Test data:\n",
        "x1_test = np.linspace(lb, ub, n_test)\n",
        "x2_test = np.linspace(lb, ub, n_test)\n",
        "x3_test = np.linspace(lb, ub, n_test)\n",
        "Xstar = np.column_stack((x1_test, x2_test, x3_test))\n"
      ],
      "execution_count": 4,
      "outputs": []
    },
    {
      "cell_type": "code",
      "metadata": {
        "id": "eYpI3Zm4aGxi"
      },
      "source": [
        "n_start_AcqFunc = iters #multi-start iterations to avoid local optima in AcqFunc optimization\n"
      ],
      "execution_count": 5,
      "outputs": []
    },
    {
      "cell_type": "code",
      "metadata": {
        "id": "oO_GUmOoaV0T"
      },
      "source": [
        "### Cumulative Regret Calculator:\n",
        "\n",
        "def min_max_array(x):\n",
        "    new_list = []\n",
        "    for i, num in enumerate(x):\n",
        "            new_list.append(np.min(x[0:i+1]))\n",
        "    return new_list\n",
        "  "
      ],
      "execution_count": 6,
      "outputs": []
    },
    {
      "cell_type": "code",
      "metadata": {
        "id": "kuuJx0IMam9S"
      },
      "source": [
        "### Surrogate derivatives: \n",
        "\n",
        "cov_func = squaredExponential()\n",
        "\n",
        "def kronDelta(X, Xstar):                     # Kronecker's Delta method\n",
        "    return cdist(X, Xstar) < np.finfo(np.float32).eps\n",
        "\n",
        "def se(X, Xstar, sigmaf, l, sigman):         # S.E. kernel method\n",
        "    return sigmaf * np.exp(-0.5 * cdist(X, Xstar) ** 2 / l ** 2) + sigman * kronDelta(X, Xstar)\n",
        "\n",
        "def delta(X, Xstar):                         # Distance between training X and test Xstar vectors\n",
        "    return (X - Xstar)\n",
        "   \n",
        "def der_covmat(X, Xstar, sigmaf, l, sigman): # Covariance matrix derivative terms (i.e. exact, first-order)\n",
        "    nx = len(X)\n",
        "    ny = len(Xstar)\n",
        "    return np.round(np.array([(delta(np.atleast_2d(i), np.atleast_2d(j))[0] * se(np.atleast_2d(i), np.atleast_2d(j), sigmaf, l, sigman)[0]).sum() for (i, j) in itertools.product(X, Xstar)]).reshape(nx, ny), 8)\n",
        "\n",
        "class dGaussianProcess(GaussianProcess):    # Via inheritance, also optimises hyperparameters when opt = TRUE\n",
        "    \n",
        "    def AcqGrad(self, Xstar):               # Method returning exact, first-order derivatives of the GP's posterior mean and standard deviation\n",
        "        Xstar = np.atleast_2d(Xstar)\n",
        "        Kstar = self.covfunc.K(self.X, Xstar).T\n",
        "        \n",
        "        dKstar = der_covmat(self.X, Xstar, self.covfunc.sigmaf, self.covfunc.l, self.covfunc.sigman).T\n",
        "        alpha_Kstar = np.dot(np.linalg.inv(self.K + (self.covfunc.sigman**2) * np.eye(len(self.X))), Kstar.T)\n",
        "        \n",
        "        dm = np.dot(dKstar, self.alpha)\n",
        "        ds = -2 * np.dot(dKstar, alpha_Kstar)\n",
        "        \n",
        "        return dm, ds           \n",
        "        "
      ],
      "execution_count": 7,
      "outputs": []
    },
    {
      "cell_type": "code",
      "metadata": {
        "id": "_Dc3YVHVaXz7"
      },
      "source": [
        "class Acquisition_new(Acquisition):    \n",
        "    def __init__(self, mode, eps=eps, **params):\n",
        "        \n",
        "        self.params = params\n",
        "        self.eps = eps\n",
        "\n",
        "        mode_dict = {\n",
        "            'ExpectedRegret': self.ExpectedRegret,\n",
        "            'dERM_GP': self.dERM_GP\n",
        "        }\n",
        "\n",
        "        self.f = mode_dict[mode]\n",
        "    \n",
        "    def ExpectedRegret(self, tau, mean, std):\n",
        "        z = (mean - y_global_orig - self.eps) / (std + self.eps)\n",
        "        return (mean - y_global_orig) * norm.cdf(z) + std * norm.pdf(z)[0]\n",
        "\n",
        "\n",
        "    def dERM_GP(self, tau, mean, std, ds, dm):\n",
        "        gamma = (mean - y_global_orig - self.eps) / (std + self.eps)\n",
        "        gamma_h = (mean - y_global_orig) / (std + self.eps)\n",
        "        dsdx = ds / (2 * (std + self.eps))\n",
        "        dmdx = (dm - gamma * dsdx) / (std + self.eps)\n",
        "        \n",
        "        f = (std + self.eps) * (gamma * norm.cdf(gamma) + norm.pdf(gamma))\n",
        "        df1 = f / (std + self.eps) * dsdx \n",
        "        df2 = (std + self.eps) * norm.cdf(gamma) * dmdx\n",
        "        df = (df1 + df2)[0]\n",
        "        df_arr = []\n",
        "\n",
        "        for j in range(0, dim):\n",
        "          df_arr.append(df)\n",
        "        return f, np.asarray(df_arr).transpose()\n",
        "        \n",
        "    def d_eval(self, tau, mean, std, ds, dm):\n",
        "    \n",
        "        return self.f(tau, mean, std, ds, dm, **self.params)\n",
        "        "
      ],
      "execution_count": 8,
      "outputs": []
    },
    {
      "cell_type": "code",
      "metadata": {
        "id": "PITEQC8YSl7i"
      },
      "source": [
        "## GPGO_multi: \n",
        "\n",
        "class GPGO_multi(GPGO):\n",
        "    n_start = n_start_AcqFunc\n",
        "\n",
        "    def __init__(self, surrogate, acquisition, f, parameter_dict, n_jobs=1):\n",
        "        self.GP = surrogate\n",
        "        self.A = acquisition\n",
        "        self.f = f\n",
        "        self.parameters = parameter_dict\n",
        "        self.n_jobs = n_jobs\n",
        "\n",
        "        self.parameter_key = list(parameter_dict.keys())\n",
        "        self.parameter_value = list(parameter_dict.values())\n",
        "        self.parameter_type = [p[0] for p in self.parameter_value]\n",
        "        self.parameter_range = [p[1] for p in self.parameter_value]\n",
        "\n",
        "        self.history = []\n",
        "        self.header =   'Evaluation \\t Proposed point \\t  Current eval. \\t  Best eval. \\t         Max AcqFunc.'\n",
        "        self.template = '{:3}\\t {}\\t {:3}\\t {:3}\\t {:3}'\n",
        "\n",
        "    def _optimizeAcq(self, method='L-BFGS-B', n_start=n_start_AcqFunc):\n",
        "        \n",
        "        start_points_dict = [self._sampleParam() for i in range(n_start)]\n",
        "        start_points_arr = np.array([list(s.values())\n",
        "                                     for s in start_points_dict])\n",
        "        x_best = np.empty((n_start, len(self.parameter_key)))\n",
        "        f_best = np.empty((n_start,))\n",
        "        opt = Parallel(n_jobs=self.n_jobs)(delayed(minimize)(self._acqWrapper,\n",
        "                                                                 x0=start_point,\n",
        "                                                                 method=method,\n",
        "                                                                 bounds=self.parameter_range) for start_point in\n",
        "                                               start_points_arr)\n",
        "        x_best = np.array([res.x for res in opt])\n",
        "        f_best = np.array([np.atleast_1d(res.fun)[0] for res in opt])\n",
        "        f_best_min = min(f_best)\n",
        "\n",
        "        self.x_best = x_best\n",
        "        self.f_best = f_best\n",
        "        self.f_best_min = f_best_min\n",
        "        self.best = x_best[np.argmin(f_best)]\n",
        "        self.start_points_arr = start_points_arr\n",
        "        \n",
        "        self.history.append(self.f_best_min)\n",
        "          \n",
        "    def _printInit(self):\n",
        "        print(self.header)\n",
        "        for init_eval in range(self.init_evals):\n",
        "            print(self.template.format('init', self.GP.X[init_eval], self.GP.y[init_eval], self.tau, ''))\n",
        "      \n",
        "    def _printCurrent(self):\n",
        "        OKGREEN = '\\033[92m'\n",
        "        ENDC = '\\033[0m'\n",
        "        BOLD = '\\033[1m'\n",
        "        eval = str(len(self.GP.y) - self.init_evals)\n",
        "        proposed = str(self.best)\n",
        "        curr_eval = str(self.GP.y[-1])\n",
        "        curr_best = str(self.tau)\n",
        "        max_acqfunc = str(self.f_best_min)\n",
        "        if float(curr_eval) >= float(curr_best):\n",
        "            eval = BOLD + OKGREEN + eval + ENDC\n",
        "            proposed = BOLD + OKGREEN + proposed + ENDC\n",
        "            curr_eval = BOLD + OKGREEN + curr_eval + ENDC\n",
        "            curr_best = BOLD + OKGREEN + curr_best + ENDC\n",
        "            max_acqfunc = BOLD + OKGREEN + str(self.f_best_min) + ENDC\n",
        "        print(self.template.format(eval, proposed, curr_eval, curr_best, max_acqfunc))\n",
        "\n",
        "    def run(self, max_iter=10, init_evals=3, resume=False):\n",
        "        \n",
        "        if not resume:\n",
        "            self.init_evals = init_evals\n",
        "            self._firstRun(self.init_evals)\n",
        "            self._printInit()\n",
        "        for iteration in range(max_iter):\n",
        "            self._optimizeAcq()\n",
        "            self.updateGP()\n",
        "            self._printCurrent()\n"
      ],
      "execution_count": 9,
      "outputs": []
    },
    {
      "cell_type": "code",
      "metadata": {
        "id": "b_B-w81BJxKN"
      },
      "source": [
        "## dGPGO:\n",
        "\n",
        "grad = 1\n",
        "\n",
        "class dGPGO(GPGO):\n",
        "    n_start = n_start_AcqFunc\n",
        "\n",
        "    def __init__(self, surrogate, acquisition, f, parameter_dict, n_jobs=1):\n",
        "        self.GP = surrogate\n",
        "        self.A = acquisition\n",
        "        self.f = f\n",
        "        self.parameters = parameter_dict\n",
        "        self.n_jobs = n_jobs\n",
        "\n",
        "        self.parameter_key = list(parameter_dict.keys())\n",
        "        self.parameter_value = list(parameter_dict.values())\n",
        "        self.parameter_type = [p[0] for p in self.parameter_value]\n",
        "        self.parameter_range = [p[1] for p in self.parameter_value]\n",
        "\n",
        "        self.history = []\n",
        "        self.header =   'Evaluation \\t Proposed point \\t  Current eval. \\t  Best eval. \\t         Max AcqFunc.'\n",
        "        self.template = '{:3}\\t {}\\t {:3}\\t {:3}\\t {:3}'\n",
        "\n",
        "    def d_optimizeAcq(self, method='L-BFGS-B', n_start=n_start_AcqFunc):\n",
        "        start_points_dict = [self._sampleParam() for i in range(n_start)]\n",
        "        start_points_arr = np.array([list(s.values())\n",
        "                                     for s in start_points_dict])\n",
        "        x_best = np.empty((n_start, len(self.parameter_key)))\n",
        "        f_best = np.empty((n_start,))\n",
        "        opt = Parallel(n_jobs=self.n_jobs)(delayed(minimize)(self.acqfunc,\n",
        "                                                                 x0=start_point,\n",
        "                                                                 method=method,\n",
        "                                                                 jac = True,\n",
        "                                                                 bounds=self.parameter_range) for start_point in\n",
        "                                               start_points_arr)\n",
        "        x_best = np.array([res.x for res in opt])\n",
        "        f_best = np.array([np.atleast_1d(res.fun)[0] for res in opt])\n",
        "        f_best_min = min(f_best)\n",
        "\n",
        "        self.x_best = x_best\n",
        "        self.f_best = f_best\n",
        "        self.f_best_min = f_best_min\n",
        "        self.best = x_best[np.argmin(f_best)]\n",
        "        self.start_points_arr = start_points_arr\n",
        "\n",
        "        self.history.append(self.f_best_min)\n",
        "\n",
        "    def _printInit(self):\n",
        "        print(self.header)\n",
        "        for init_eval in range(self.init_evals):\n",
        "            print(self.template.format('init', self.GP.X[init_eval], self.GP.y[init_eval], self.tau, ''))\n",
        "      \n",
        "    def _printCurrent(self):\n",
        "        OKGREEN = '\\033[92m'\n",
        "        ENDC = '\\033[0m'\n",
        "        BOLD = '\\033[1m'\n",
        "        eval = str(len(self.GP.y) - self.init_evals)\n",
        "        proposed = str(self.best)\n",
        "        curr_eval = str(self.GP.y[-1])\n",
        "        curr_best = str(self.tau)\n",
        "        max_acqfunc = str(self.f_best_min)\n",
        "        if float(curr_eval) >= float(curr_best):\n",
        "            eval = BOLD + OKGREEN + eval + ENDC\n",
        "            proposed = BOLD + OKGREEN + proposed + ENDC\n",
        "            curr_eval = BOLD + OKGREEN + curr_eval + ENDC\n",
        "            curr_best = BOLD + OKGREEN + curr_best + ENDC\n",
        "            max_acqfunc = BOLD + OKGREEN + str(self.f_best_min) + ENDC\n",
        "        print(self.template.format(eval, proposed, curr_eval, curr_best, max_acqfunc))\n",
        "\n",
        "    def run(self, max_iter=10, init_evals=3, resume=False):\n",
        "        \n",
        "        if not resume:\n",
        "            self.init_evals = init_evals\n",
        "            self._firstRun(self.init_evals)\n",
        "            self._printInit()\n",
        "        for iteration in range(max_iter):\n",
        "            self.d_optimizeAcq()\n",
        "            self.updateGP()\n",
        "            self._printCurrent()\n",
        "\n",
        "    def acqfunc(self, xnew, n_start=n_start_AcqFunc):\n",
        "        new_mean, new_var = self.GP.predict(xnew, return_std=True)\n",
        "        new_std = np.sqrt(new_var + eps)\n",
        "        dm, ds = self.GP.AcqGrad(xnew)\n",
        "        f, df = self.A.d_eval(self.tau, new_mean, new_std, ds=ds, dm=dm)\n",
        "\n",
        "        return -f, -df * grad\n"
      ],
      "execution_count": 10,
      "outputs": []
    },
    {
      "cell_type": "code",
      "metadata": {
        "id": "qXIKGuXVGEg2"
      },
      "source": [
        "###Reproducible set-seeds:\n",
        "\n",
        "run_num_1 = 1\n",
        "run_num_2 = 2\n",
        "run_num_3 = 3\n",
        "run_num_4 = 4\n",
        "run_num_5 = 5\n",
        "run_num_6 = 6\n",
        "run_num_7 = 7\n",
        "run_num_8 = 8\n",
        "run_num_9 = 9\n",
        "run_num_10 = 10\n",
        "run_num_11 = 11\n",
        "run_num_12 = 12\n",
        "run_num_13 = 13\n",
        "run_num_14 = 14\n",
        "run_num_15 = 15\n",
        "run_num_16 = 16\n",
        "run_num_17 = 17\n",
        "run_num_18 = 18\n",
        "run_num_19 = 19\n",
        "run_num_20 = 20\n"
      ],
      "execution_count": 11,
      "outputs": []
    },
    {
      "cell_type": "code",
      "metadata": {
        "colab": {
          "base_uri": "https://localhost:8080/"
        },
        "id": "JEhagQmnTVIK",
        "outputId": "7fe069fe-1d56-42d9-c3d5-fffb91da19bc"
      },
      "source": [
        "start_approx = time.time()\n",
        "start_approx\n"
      ],
      "execution_count": 12,
      "outputs": [
        {
          "output_type": "execute_result",
          "data": {
            "text/plain": [
              "1645704094.617621"
            ]
          },
          "metadata": {},
          "execution_count": 12
        }
      ]
    },
    {
      "cell_type": "code",
      "metadata": {
        "colab": {
          "base_uri": "https://localhost:8080/"
        },
        "id": "aH0YSTXufD1v",
        "outputId": "8cb8b025-2153-4395-bbeb-f26eb2617b21"
      },
      "source": [
        "### ESTIMATED GP ERM GRADIENTS\n",
        "\n",
        "np.random.seed(run_num_1)\n",
        "surrogate_approx_1 = GaussianProcess(cov_func, optimize=opt)\n",
        "\n",
        "approx_1 = GPGO_multi(surrogate_approx_1, Acquisition_new(util_grad_approx), objfunc, param)\n",
        "approx_1.run(init_evals=n_init, max_iter=iters)\n"
      ],
      "execution_count": 13,
      "outputs": [
        {
          "output_type": "stream",
          "name": "stdout",
          "text": [
            "Evaluation \t Proposed point \t  Current eval. \t  Best eval. \t         Max AcqFunc.\n",
            "init\t [-1.65955991  4.40648987 -9.9977125 ]\t -117949.69994259246\t -1743.4541121077734\t    \n",
            "init\t [-3.95334855 -7.06488218 -8.1532281 ]\t -80377.19459880023\t -1743.4541121077734\t    \n",
            "init\t [-6.27479577 -3.08878546 -2.06465052]\t -1743.4541121077734\t -1743.4541121077734\t    \n",
            "init\t [ 0.77633468 -1.61610971  3.70439001]\t -2573.2528931184784\t -1743.4541121077734\t    \n",
            "init\t [-5.91095501  7.56234873 -9.45224814]\t -116840.74897847573\t -1743.4541121077734\t    \n",
            "1  \t [-8.03306332 -1.5778475   9.1577906 ]\t -86415.93772353831\t -1743.4541121077734\t -0.7978846605384292\n",
            "2  \t [-5.34051452  6.14210391 -2.24278712]\t -13140.755438034004\t -1743.4541121077734\t -0.7978846605384292\n",
            "3  \t [ 8.37203556 -9.9919595   9.53518298]\t -183648.52554820437\t -1743.4541121077734\t -0.7978846605384292\n",
            "4  \t [-1.07707536  5.6549883   9.80943567]\t -113140.57286302134\t -1743.4541121077734\t -0.7978846605384292\n",
            "5  \t [9.79910357 4.22244918 4.63600818]\t -5922.444680450715\t -1743.4541121077734\t -0.7978846605384292\n",
            "6  \t [ 5.40299913 -7.39328438 -9.54169737]\t -129326.8620412511\t -1743.4541121077734\t -0.7978846605384292\n",
            "7  \t [ 8.85525151  0.35720096 -6.11068381]\t -16781.669881019214\t -1743.4541121077734\t -0.7978846605384082\n",
            "8  \t [ 3.91528429  5.55696954 -1.87034262]\t -6706.695269773627\t -1743.4541121077734\t -0.7978846605348839\n",
            "9  \t [ 9.90104645 -8.83274708  0.3341272 ]\t -43035.435934238885\t -1743.4541121077734\t -0.7978846605384262\n",
            "10 \t [-3.28672398 -8.95374107  2.10233561]\t -54514.91599686387\t -1743.4541121077734\t -0.7978846605094497\n",
            "11 \t [-6.98038533  5.21604913  5.62091644]\t -17685.039800049395\t -1743.4541121077734\t -0.7978845504154769\n",
            "12 \t [-0.25612182 -1.60012896 -4.76000591]\t -6662.576890329819\t -1743.4541121077734\t -0.7978845861605213\n",
            "13 \t [ 9.65179579  8.2747925  -3.05261159]\t -32803.7767092942\t -1743.4541121077734\t -0.7978846605384292\n",
            "14 \t [-9.79655087 -0.19609376 -9.09035709]\t -82447.81014507987\t -1743.4541121077734\t -0.7978846605369173\n",
            "15 \t [-2.11795323 -5.83994812  9.68284745]\t -122060.24865151936\t -1743.4541121077734\t -0.7978846064947462\n",
            "16 \t [ 7.12318476 -2.7126904   7.84547859]\t -47641.65249064557\t -1743.4541121077734\t -0.7978846446658739\n",
            "17 \t [-9.99164976 -5.210542    3.63609646]\t -11393.244440479984\t -1743.4541121077734\t -0.797883619896385\n",
            "18 \t [ 6.14730528  9.39076024 -9.70862536]\t -154236.181564431\t -1743.4541121077734\t -0.7978846582665744\n",
            "19 \t [-0.99240715  8.70840228 -2.94641345]\t -46841.83303685055\t -1743.4541121077734\t -0.7978846605384292\n",
            "20 \t [ 3.57825288 -4.67142167 -3.61569457]\t -6066.46526046486\t -1743.4541121077734\t -0.7978838726521705\n",
            "\u001b[1m\u001b[92m21\u001b[0m\t \u001b[1m\u001b[92m[ 8.39907154 -1.17296509  0.55930968]\u001b[0m\t \u001b[1m\u001b[92m-128.23709968267707\u001b[0m\t \u001b[1m\u001b[92m-128.23709968267707\u001b[0m\t \u001b[1m\u001b[92m-0.7978843287839832\u001b[0m\n",
            "22 \t [-10.         -10.          -1.70217735]\t -89069.42858636829\t -128.23709968267707\t -0.7978846403024814\n",
            "23 \t [ 3.96563599 -7.06782596  2.24922257]\t -19304.85348621626\t -128.23709968267707\t -0.7978846605330877\n",
            "24 \t [-0.65094747  4.91699693  2.7817751 ]\t -5140.152230715172\t -128.23709968267707\t -0.7978825358448208\n",
            "25 \t [ -7.34289316 -10.           7.49937397]\t -131056.70232645814\t -128.23709968267707\t -0.7978825712478884\n",
            "26 \t [4.11619602 9.58254982 5.70330526]\t -73706.56438752098\t -128.23709968267707\t -0.7978846605383442\n",
            "27 \t [-5.17367147 -0.46518891  3.19307573]\t -1405.9793693116471\t -128.23709968267707\t -0.7978626808447165\n",
            "28 \t [-10.           1.7090746   -2.11089383]\t -778.5652202410482\t -128.23709968267707\t -0.7978769416876544\n",
            "29 \t [-0.05103443 -0.20384431  9.91154424]\t -116051.69786574453\t -128.23709968267707\t -0.7978839848448586\n",
            "30 \t [  0.13028476 -10.          -3.5785037 ]\t -83701.073169949\t -128.23709968267707\t -0.7978778406658691\n"
          ]
        }
      ]
    },
    {
      "cell_type": "code",
      "metadata": {
        "colab": {
          "base_uri": "https://localhost:8080/"
        },
        "id": "wTxsSZxFGBB5",
        "outputId": "8c0e3839-179e-4fe5-963d-7c751683cec9"
      },
      "source": [
        "### ESTIMATED GP ERM GRADIENTS\n",
        "\n",
        "np.random.seed(run_num_2)\n",
        "surrogate_approx_2 = GaussianProcess(cov_func, optimize=opt)\n",
        "\n",
        "approx_2 = GPGO_multi(surrogate_approx_2, Acquisition_new(util_grad_approx), objfunc, param)\n",
        "approx_2.run(init_evals=n_init, max_iter=iters)\n"
      ],
      "execution_count": 14,
      "outputs": [
        {
          "output_type": "stream",
          "name": "stdout",
          "text": [
            "Evaluation \t Proposed point \t  Current eval. \t  Best eval. \t         Max AcqFunc.\n",
            "init\t [-1.28010196 -9.48147536  0.99324956]\t -65976.47275174354\t -579.2546019074869\t    \n",
            "init\t [-1.29355215 -1.59264396 -3.39330358]\t -1905.0058741906205\t -579.2546019074869\t    \n",
            "init\t [-5.90702732  2.38541933 -4.00690653]\t -3296.179887891325\t -579.2546019074869\t    \n",
            "init\t [-4.6634545   2.42267666  0.58284189]\t -579.2546019074869\t -579.2546019074869\t    \n",
            "init\t [-7.30840109  0.27156243 -6.31120269]\t -19089.001096649215\t -579.2546019074869\t    \n",
            "1  \t [4.01504693e+00 9.29102160e+00 1.67223404e-04]\t -57140.96758535182\t -579.2546019074869\t -0.7978846605384292\n",
            "2  \t [0.98993642 6.90226231 9.77019402]\t -119362.43308455861\t -579.2546019074869\t -0.7978846605384292\n",
            "3  \t [ 9.60970158 -5.07492822  5.80487605]\t -19340.238894145325\t -579.2546019074869\t -0.7978846605384292\n",
            "4  \t [ 2.89052379 -3.76941193  7.60597912]\t -44126.90703116023\t -579.2546019074869\t -0.7978846605384292\n",
            "5  \t [ 3.07223703  7.58573911 -9.9332911 ]\t -133119.51098910294\t -579.2546019074869\t -0.7978846605384292\n",
            "6  \t [ 8.77937768 -3.87353549 -6.37757103]\t -22749.403915268038\t -579.2546019074869\t -0.7978846605384292\n",
            "7  \t [-8.08964789 -9.75897604 -5.85826697]\t -97377.17267962931\t -579.2546019074869\t -0.7978846605384291\n",
            "8  \t [-8.27467123  0.9107896   8.40893121]\t -59512.10208629255\t -579.2546019074869\t -0.7978846605384258\n",
            "9  \t [-5.94698988  9.91314075  4.47886914]\t -84788.26554655223\t -579.2546019074869\t -0.7978846605383987\n",
            "10 \t [-9.84632636  9.29795823 -5.29784912]\t -73494.00610427922\t -579.2546019074869\t -0.7978846605320491\n",
            "11 \t [8.66194618 9.45587635 8.23716848]\t -105785.29651813887\t -579.2546019074869\t -0.7978846604799171\n",
            "12 \t [-7.95126067 -7.68342168  9.50213863]\t -138173.6002193863\t -579.2546019074869\t -0.7978846605377184\n",
            "13 \t [ 1.31216908 -9.4098302  -9.23218389]\t -158862.0710975185\t -579.2546019074869\t -0.7978846605384292\n",
            "14 \t [7.38238986 1.9436134  4.49748171]\t -4490.102233945455\t -579.2546019074869\t -0.7978846567714498\n",
            "15 \t [ 10. -10. -10.]\t -204581.0\t -579.2546019074869\t -0.7978846335187831\n",
            "16 \t [ -1.04680227 -10.           8.45436203]\t -151027.201213435\t -579.2546019074869\t -0.797884576113911\n",
            "17 \t [ 8.68396904 -9.83826017 -1.64087352]\t -69129.3809603587\t -579.2546019074869\t -0.7978846590942604\n",
            "18 \t [-5.00773108  0.93011264  2.70728565]\t -692.3226197512893\t -579.2546019074869\t -0.7978846605384292\n",
            "19 \t [ 9.73804823  4.72582402 -5.2466766 ]\t -10115.53994504231\t -579.2546019074869\t -0.7978846605361001\n",
            "20 \t [-8.07000228 -9.90445585  2.0693606 ]\t -84555.17365801148\t -579.2546019074869\t -0.7978838330468567\n",
            "21 \t [ 4.95845448  0.83335549 -9.55414476]\t -99118.54011897612\t -579.2546019074869\t -0.7978836195694393\n",
            "22 \t [ 4.6206366  -4.73880212  0.88408393]\t -3379.122099914624\t -579.2546019074869\t -0.7978838991192586\n",
            "\u001b[1m\u001b[92m23\u001b[0m\t \u001b[1m\u001b[92m[ 3.68321371  2.61764757 -2.59980141]\u001b[0m\t \u001b[1m\u001b[92m-564.4870494902464\u001b[0m\t \u001b[1m\u001b[92m-564.4870494902464\u001b[0m\t \u001b[1m\u001b[92m-0.7978841956462138\u001b[0m\n",
            "24 \t [-2.1177465   2.7062493  -9.90656026]\t -112984.11451147904\t -564.4870494902464\t -0.7978837300184488\n",
            "25 \t [-1.17908912  9.94138165 -4.425726  ]\t -81644.07156594699\t -564.4870494902464\t -0.7978837032536578\n",
            "26 \t [-10.          -2.62280696  -1.03022059]\t -1317.4670073549908\t -564.4870494902464\t -0.7978829516118495\n",
            "27 \t [-1.18011086  8.06249431  2.98854907]\t -34713.34006736372\t -564.4870494902464\t -0.7978846605384292\n",
            "28 \t [ 6.32485345 -9.24435905 10.        ]\t -185558.6799114519\t -564.4870494902464\t -0.7978835567587841\n",
            "29 \t [-2.10027793 -2.99093117  7.19347254]\t -34824.84534475746\t -564.4870494902464\t -0.7978846605384292\n",
            "30 \t [ 0.98294244 -5.89217414 -4.63810432]\t -16549.870142487234\t -564.4870494902464\t -0.7978846605383519\n"
          ]
        }
      ]
    },
    {
      "cell_type": "code",
      "metadata": {
        "colab": {
          "base_uri": "https://localhost:8080/"
        },
        "id": "-dgzIrUIGCGT",
        "outputId": "91c56bf6-6356-44ce-d356-ba67717581a6"
      },
      "source": [
        "### ESTIMATED GP ERM GRADIENTS\n",
        "\n",
        "np.random.seed(run_num_3)\n",
        "surrogate_approx_3 = GaussianProcess(cov_func, optimize=opt)\n",
        "\n",
        "approx_3 = GPGO_multi(surrogate_approx_3, Acquisition_new(util_grad_approx), objfunc, param)\n",
        "approx_3.run(init_evals=n_init, max_iter=iters)\n"
      ],
      "execution_count": 15,
      "outputs": [
        {
          "output_type": "stream",
          "name": "stdout",
          "text": [
            "Evaluation \t Proposed point \t  Current eval. \t  Best eval. \t         Max AcqFunc.\n",
            "init\t [ 1.01595805  4.16295645 -4.18190522]\t -5112.352385443115\t -5112.352385443115\t    \n",
            "init\t [0.2165521  7.85893909 7.92586178]\t -72027.10255913956\t -5112.352385443115\t    \n",
            "init\t [-7.48829379 -5.85514244 -8.97065593]\t -95107.57411907075\t -5112.352385443115\t    \n",
            "init\t [-1.18380313 -9.40247578 -0.86333551]\t -63726.548838065995\t -5112.352385443115\t    \n",
            "init\t [ 2.98288095 -4.43025435  3.52509804]\t -5207.626899787465\t -5112.352385443115\t    \n",
            "1  \t [9.51990845 3.44767352 8.05668217]\t -48388.97288671367\t -5112.352385443115\t -0.7978846605384292\n",
            "2  \t [-4.79309855  3.83955024  7.91140656]\t -46554.468417027776\t -5112.352385443115\t -0.7978846605384292\n",
            "3  \t [ 9.76225506  9.4244446  -0.36307223]\t -56694.622124347436\t -5112.352385443115\t -0.7978846605384292\n",
            "4  \t [ 1.06865668 -1.61214113  9.66323576]\t -106482.0605763776\t -5112.352385443115\t -0.7978846605384292\n",
            "5  \t [-7.84297806  5.69391695 -0.02389563]\t -10741.453238983686\t -5112.352385443115\t -0.7978846605384292\n",
            "6  \t [ 8.83706845 -0.31089701 -6.2913012 ]\t -19158.168049739656\t -5112.352385443115\t -0.7978846605384291\n",
            "7  \t [-9.62151318  6.49791858 -9.62921632]\t -113874.85565922041\t -5112.352385443115\t -0.7978846605384292\n",
            "8  \t [ 7.17786075 -7.83402432  1.19325839]\t -27091.47249706207\t -5112.352385443115\t -0.7978846605384292\n",
            "9  \t [-6.55092357 -6.29905242  3.35291254]\t -17302.457753897987\t -5112.352385443115\t -0.7978846594278283\n",
            "10 \t [ 1.60163764 -2.58603661 -9.29669219]\t -92618.34107490626\t -5112.352385443115\t -0.7978846605375103\n",
            "\u001b[1m\u001b[92m11\u001b[0m\t \u001b[1m\u001b[92m[5.35390255 4.3873483  2.58263819]\u001b[0m\t \u001b[1m\u001b[92m-2456.424548745716\u001b[0m\t \u001b[1m\u001b[92m-2456.424548745716\u001b[0m\t \u001b[1m\u001b[92m-0.7978846605384292\u001b[0m\n",
            "12 \t [ 6.93276133  9.17235913 -7.39102539]\t -82140.26899121195\t -2456.424548745716\t -0.7978846605174792\n",
            "13 \t [-9.48830419  5.80360482  0.06290394]\t -12023.222732258779\t -2456.424548745716\t -0.7978846605384292\n",
            "\u001b[1m\u001b[92m14\u001b[0m\t \u001b[1m\u001b[92m[-6.08567544 -2.65699106 -2.8911712 ]\u001b[0m\t \u001b[1m\u001b[92m-1992.8218368476819\u001b[0m\t \u001b[1m\u001b[92m-1992.8218368476819\u001b[0m\t \u001b[1m\u001b[92m-0.79788413939654\u001b[0m\n",
            "15 \t [-9.57057217 -9.02294666  9.85337649]\t -183425.61732451757\t -1992.8218368476819\t -0.797884659798632\n",
            "16 \t [-2.60493691  7.06559895 -9.32544142]\t -104534.02686041094\t -1992.8218368476819\t -0.7978841403799664\n",
            "17 \t [ 5.68372327 -9.51244721 -7.13681414]\t -98691.7785753723\t -1992.8218368476819\t -0.7978846605172834\n",
            "\u001b[1m\u001b[92m18\u001b[0m\t \u001b[1m\u001b[92m[-1.2436659  0.1039432  1.5597854]\u001b[0m\t \u001b[1m\u001b[92m-76.2634574733912\u001b[0m\t \u001b[1m\u001b[92m-76.2634574733912\u001b[0m\t \u001b[1m\u001b[92m-0.7978837981763985\u001b[0m\n",
            "19 \t [-2.23830427  9.62814218 -2.74530764]\t -70517.3906371038\t -76.2634574733912\t -0.7978835472791743\n",
            "20 \t [-10.         -10.          -4.11959889]\t -94113.74821393403\t -76.2634574733912\t -0.7978831962838286\n",
            "21 \t [ 6.52248877 -5.76188144  9.44612462]\t -109012.27623933091\t -76.2634574733912\t -0.7978829884664151\n",
            "22 \t [6.73086025 9.41930221 9.86571344]\t -161267.9727936476\t -76.2634574733912\t -0.7978832957407493\n",
            "23 \t [ -1.99522486 -10.          -8.54472381]\t -154644.14996736727\t -76.2634574733912\t -0.7978835252344983\n",
            "24 \t [-10.          -1.51173706   9.16289393]\t -86664.1559493657\t -76.2634574733912\t -0.7978846378794041\n",
            "25 \t [-2.64366905 -7.70912561  9.90417928]\t -154259.25691493956\t -76.2634574733912\t -0.7978837013731493\n",
            "26 \t [-6.12963736 10.          4.79185176]\t -88901.22030767199\t -76.2634574733912\t -0.7978839386618066\n",
            "27 \t [10.          0.19738771  1.71887473]\t -375.7648155695149\t -76.2634574733912\t -0.7978832180716412\n",
            "28 \t [ -5.58882679   0.86032677 -10.        ]\t -119113.18679792249\t -76.2634574733912\t -0.7978822518817563\n",
            "29 \t [ 2.47191844 -1.88245007 -2.46501625]\t -635.7176230791544\t -76.2634574733912\t -0.7978810478474644\n",
            "30 \t [ 2.72352776 10.          2.01768477]\t -77849.33888113292\t -76.2634574733912\t -0.7978793255275758\n"
          ]
        }
      ]
    },
    {
      "cell_type": "code",
      "metadata": {
        "colab": {
          "base_uri": "https://localhost:8080/"
        },
        "id": "hOtG-2sCGCKS",
        "outputId": "08cd0f7d-e063-4460-f2c7-d18c13807277"
      },
      "source": [
        "### ESTIMATED GP ERM GRADIENTS\n",
        "\n",
        "np.random.seed(run_num_4)\n",
        "surrogate_approx_4 = GaussianProcess(cov_func, optimize=opt)\n",
        "\n",
        "approx_4 = GPGO_multi(surrogate_approx_4, Acquisition_new(util_grad_approx), objfunc, param)\n",
        "approx_4.run(init_evals=n_init, max_iter=iters)\n"
      ],
      "execution_count": 16,
      "outputs": [
        {
          "output_type": "stream",
          "name": "stdout",
          "text": [
            "Evaluation \t Proposed point \t  Current eval. \t  Best eval. \t         Max AcqFunc.\n",
            "init\t [9.34059678 0.94464498 9.4536872 ]\t -95022.01065457039\t -12458.30178377884\t    \n",
            "init\t [ 4.29631987  3.95457649 -5.67821009]\t -12458.30178377884\t -12458.30178377884\t    \n",
            "init\t [ 9.5254891  -9.8753949  -4.94035275]\t -79242.42901009263\t -12458.30178377884\t    \n",
            "init\t [-1.30416935  5.58765844 -6.04629851]\t -21812.938480423\t -12458.30178377884\t    \n",
            "init\t [ 7.25986471  9.66801354 -6.72315517]\t -84163.5372919417\t -12458.30178377884\t    \n",
            "1  \t [-7.83613234 -6.83553186  0.90405303]\t -20810.660474524404\t -12458.30178377884\t -0.7978846605384292\n",
            "2  \t [-1.80817221  5.2576358   9.81593637]\t -111937.03674660696\t -12458.30178377884\t -0.7978846605384292\n",
            "3  \t [-1.4796448  -6.12970073 -9.57340321]\t -119400.21514143354\t -12458.30178377884\t -0.7978846605384292\n",
            "\u001b[1m\u001b[92m4\u001b[0m\t \u001b[1m\u001b[92m[ 1.00294855 -4.92774948  4.0625976 ]\u001b[0m\t \u001b[1m\u001b[92m-8842.060885265299\u001b[0m\t \u001b[1m\u001b[92m-8842.060885265299\u001b[0m\t \u001b[1m\u001b[92m-0.7978846605384292\u001b[0m\n",
            "5  \t [6.72113797 7.95247175 3.43912816]\t -29458.560173594284\t -8842.060885265299\t -0.7978846605384292\n",
            "6  \t [-7.07376785  7.24942245  1.46745409]\t -25260.773025220093\t -8842.060885265299\t -0.7978846605384292\n",
            "\u001b[1m\u001b[92m7\u001b[0m\t \u001b[1m\u001b[92m[-0.44581558  2.04164357  3.82391297]\u001b[0m\t \u001b[1m\u001b[92m-2376.3585358713694\u001b[0m\t \u001b[1m\u001b[92m-2376.3585358713694\u001b[0m\t \u001b[1m\u001b[92m-0.7978846605384292\u001b[0m\n",
            "8  \t [-4.88169358  2.09221169  3.73549934]\t -2405.8476927363427\t -2376.3585358713694\t -0.7978846605384292\n",
            "9  \t [ 9.67631723 -2.81961879 -7.99372919]\t -51336.753667240206\t -2376.3585358713694\t -0.7978846605384292\n",
            "\u001b[1m\u001b[92m10\u001b[0m\t \u001b[1m\u001b[92m[ 9.82980598 -1.62382892  2.64231103]\u001b[0m\t \u001b[1m\u001b[92m-848.387991560592\u001b[0m\t \u001b[1m\u001b[92m-848.387991560592\u001b[0m\t \u001b[1m\u001b[92m-0.7978846605384292\u001b[0m\n",
            "11 \t [-7.36514873 -3.56806023  7.88733338]\t -51368.10658678196\t -848.387991560592\t -0.7978846594134812\n",
            "12 \t [-9.29185553  9.8572357  -8.01820394]\t -125317.35416043762\t -848.387991560592\t -0.7978846605384292\n",
            "13 \t [ 10. -10.  10.]\t -204581.0\t -848.387991560592\t -0.7978846605384292\n",
            "14 \t [-6.12741832  0.03003512 -2.81765797]\t -879.4461615414185\t -848.387991560592\t -0.7978846605384268\n",
            "15 \t [-7.99024058 -2.86895645 -8.68606513]\t -72207.11378399123\t -848.387991560592\t -0.7978846605087992\n",
            "16 \t [ 3.76276071 -3.57595339 -4.39324164]\t -6295.893066473769\t -848.387991560592\t -0.7978846605242741\n",
            "17 \t [ 6.3244006  -8.74585708  1.53861783]\t -43589.273237749396\t -848.387991560592\t -0.7978846605333322\n",
            "18 \t [-6.46666233 -7.86666564 -7.69118542]\t -81738.97493558479\t -848.387991560592\t -0.7978846605384292\n",
            "19 \t [ 7.33203662 -5.93822437 -2.31489621]\t -8859.038660403776\t -848.387991560592\t -0.7978846605384292\n",
            "20 \t [-10.           8.71610692  10.        ]\t -162339.38384812622\t -848.387991560592\t -0.7978846605382383\n",
            "21 \t [-0.55937178  8.40855817  3.22883328]\t -40776.15404002275\t -848.387991560592\t -0.7978834108434809\n",
            "22 \t [-4.36957907 -9.42137306  6.01338811]\t -86245.55086681296\t -848.387991560592\t -0.7978827773200523\n",
            "23 \t [-0.39340693 -9.955179   -1.79237373]\t -79694.45494351638\t -848.387991560592\t -0.7978846605384292\n",
            "24 \t [-2.79926084  0.04009536 -9.1639363 ]\t -84616.84807108162\t -848.387991560592\t -0.7978846578244675\n",
            "\u001b[1m\u001b[92m25\u001b[0m\t \u001b[1m\u001b[92m[10.          2.40325844 -2.60239934]\u001b[0m\t \u001b[1m\u001b[92m-458.2259276044354\u001b[0m\t \u001b[1m\u001b[92m-458.2259276044354\u001b[0m\t \u001b[1m\u001b[92m-0.7978838749124092\u001b[0m\n",
            "26 \t [ 3.23430652 -3.13517701  9.98741785]\t -123723.94618455716\t -458.2259276044354\t -0.7978837435995423\n",
            "27 \t [4.7190125  7.86837177 9.91846349]\t -135416.02501386392\t -458.2259276044354\t -0.7978833871215874\n",
            "\u001b[1m\u001b[92m28\u001b[0m\t \u001b[1m\u001b[92m[4.86139903 1.3197588  0.37155977]\u001b[0m\t \u001b[1m\u001b[92m-21.975055075127663\u001b[0m\t \u001b[1m\u001b[92m-21.975055075127663\u001b[0m\t \u001b[1m\u001b[92m-0.7978804243338381\u001b[0m\n",
            "29 \t [  1.97980707 -10.           8.58378281]\t -152713.96889839933\t -21.975055075127663\t -0.7978830431212057\n",
            "30 \t [-10.           3.38761451 -10.        ]\t -118261.94108409305\t -21.975055075127663\t -0.7978786778635264\n"
          ]
        }
      ]
    },
    {
      "cell_type": "code",
      "metadata": {
        "colab": {
          "base_uri": "https://localhost:8080/"
        },
        "id": "JF_SxcEvGCOl",
        "outputId": "80bd317b-6188-4942-b0c3-4e063ac93579"
      },
      "source": [
        "### ESTIMATED GP ERM GRADIENTS\n",
        "\n",
        "np.random.seed(run_num_5)\n",
        "surrogate_approx_5 = GaussianProcess(cov_func, optimize=opt)\n",
        "\n",
        "approx_5 = GPGO_multi(surrogate_approx_5, Acquisition_new(util_grad_approx), objfunc, param)\n",
        "approx_5.run(init_evals=n_init, max_iter=iters)\n"
      ],
      "execution_count": 17,
      "outputs": [
        {
          "output_type": "stream",
          "name": "stdout",
          "text": [
            "Evaluation \t Proposed point \t  Current eval. \t  Best eval. \t         Max AcqFunc.\n",
            "init\t [-5.56013658  7.41464612 -5.86561689]\t -38038.55423396639\t -504.37713268919686\t    \n",
            "init\t [ 8.37221816 -0.23177622  2.23487726]\t -504.37713268919686\t -504.37713268919686\t    \n",
            "init\t [ 5.31815713  0.36835976 -4.06398997]\t -3270.33229475548\t -504.37713268919686\t    \n",
            "init\t [-6.24557543 -8.38517462  4.76880592]\t -51898.195262717614\t -504.37713268919686\t    \n",
            "init\t [-1.17381554 -6.83380265  7.59874062]\t -62777.04813872957\t -504.37713268919686\t    \n",
            "1  \t [ 7.40966174  8.45499228 -9.95571575]\t -144842.91560178908\t -504.37713268919686\t -0.7978846605384292\n",
            "2  \t [-7.31272544 -3.96227805 -7.27039812]\t -39155.2230850924\t -504.37713268919686\t -0.7978846605384292\n",
            "3  \t [-9.80583383  0.98926919  4.15052451]\t -3753.1148757271385\t -504.37713268919686\t -0.7978846605384292\n",
            "4  \t [ 3.14692525  9.50918422 -2.23413701]\t -63161.457005708806\t -504.37713268919686\t -0.7978846605384292\n",
            "5  \t [ 4.56139684 -4.673529    0.23379905]\t -3142.4271112122515\t -504.37713268919686\t -0.7978846605384292\n",
            "6  \t [7.66353164 8.73934279 5.42915838]\t -49709.64902528966\t -504.37713268919686\t -0.7978846605384292\n",
            "7  \t [ 7.14573235 -6.46930749  7.38248289]\t -51761.01237664357\t -504.37713268919686\t -0.7978846605384292\n",
            "8  \t [-2.32385405  3.3987878   2.45410745]\t -1528.4362462952065\t -504.37713268919686\t -0.7978846605384292\n",
            "9  \t [-0.11353557 -1.87903279 -7.88095659]\t -47806.30963214635\t -504.37713268919686\t -0.7978846605384292\n",
            "10 \t [-0.96496228  6.39545847  9.46542277]\t -103277.4502143539\t -504.37713268919686\t -0.7978846605351887\n",
            "11 \t [-3.43604888 -8.87561309 -2.02491137]\t -52729.42036692042\t -504.37713268919686\t -0.7978846605383784\n",
            "12 \t [ 9.38510194 -6.58180326 -3.86862124]\t -16006.905792077023\t -504.37713268919686\t -0.7978846601661992\n",
            "13 \t [4.69163276 1.05891213 9.70550749]\t -105308.64963435415\t -504.37713268919686\t -0.7978846605384291\n",
            "14 \t [-5.6590792   8.80560087  3.5292    ]\t -52494.75870075747\t -504.37713268919686\t -0.79788466051604\n",
            "15 \t [-10.          -5.03756254   9.28318582]\t -101907.56144407314\t -504.37713268919686\t -0.797883590208769\n",
            "16 \t [ 6.64680174 -8.5539051  -9.97390905]\t -168242.70283100984\t -504.37713268919686\t -0.7978846605384278\n",
            "17 \t [-9.35801008  7.98220289  3.79498813]\t -38830.44934073891\t -504.37713268919686\t -0.7978846605384292\n",
            "18 \t [-5.16616159 -0.14373238 10.        ]\t -120264.79806510436\t -504.37713268919686\t -0.7978836109540359\n",
            "19 \t [-3.48410009 -3.68542923 -6.33751434]\t -23073.672070863027\t -504.37713268919686\t -0.7978846605384292\n",
            "20 \t [-9.95161825 -6.74319938 -1.01620669]\t -20711.542485181704\t -504.37713268919686\t -0.7978846605384292\n",
            "21 \t [-10.           1.60787126 -10.        ]\t -118659.59837653511\t -504.37713268919686\t -0.7978834928555706\n",
            "22 \t [-2.62050417 -3.18154751  1.80101831]\t -1339.1856875879405\t -504.37713268919686\t -0.7978833277772188\n",
            "23 \t [-9.80398081  3.13118039 -1.8766583 ]\t -1892.8468702524094\t -504.37713268919686\t -0.7978833869010209\n",
            "24 \t [ 9.29252151  5.71836668 -0.49713313]\t -6446.610525476736\t -504.37713268919686\t -0.7978837901892621\n",
            "25 \t [ 1.37677834  5.03316728 -9.70427403]\t -105669.54681134722\t -504.37713268919686\t -0.7978833720338807\n",
            "26 \t [  6.41104178  -1.49399032 -10.        ]\t -121836.34561058033\t -504.37713268919686\t -0.797881603378428\n",
            "27 \t [-1.58486585 -9.90630482 -8.56907256]\t -152024.73012348567\t -504.37713268919686\t -0.7978836486655467\n",
            "28 \t [ 3.61920035 -9.83112675 -3.70794239]\t -76146.3880148918\t -504.37713268919686\t -0.7978821214447337\n",
            "29 \t [  2.78169332 -10.           3.07932953]\t -80310.12926414197\t -504.37713268919686\t -0.7978796939119082\n",
            "30 \t [-10.         -10.          -7.22831837]\t -127649.80785378927\t -504.37713268919686\t -0.797881344946603\n"
          ]
        }
      ]
    },
    {
      "cell_type": "code",
      "metadata": {
        "colab": {
          "base_uri": "https://localhost:8080/"
        },
        "id": "-kDxZtJsGCR3",
        "outputId": "ba45dec4-8f53-4323-aeb3-05e9617f512f"
      },
      "source": [
        "### ESTIMATED GP ERM GRADIENTS\n",
        "\n",
        "np.random.seed(run_num_6)\n",
        "surrogate_approx_6 = GaussianProcess(cov_func, optimize=opt)\n",
        "\n",
        "approx_6 = GPGO_multi(surrogate_approx_6, Acquisition_new(util_grad_approx), objfunc, param)\n",
        "approx_6.run(init_evals=n_init, max_iter=iters)\n"
      ],
      "execution_count": 18,
      "outputs": [
        {
          "output_type": "stream",
          "name": "stdout",
          "text": [
            "Evaluation \t Proposed point \t  Current eval. \t  Best eval. \t         Max AcqFunc.\n",
            "init\t [ 7.85720303 -3.36040389  6.42458246]\t -22622.875691874993\t -747.5861078277044\t    \n",
            "init\t [-9.16606749 -7.8468664   1.90104128]\t -35798.39310944817\t -747.5861078277044\t    \n",
            "init\t [ 0.59634724 -1.62385143 -3.29184301]\t -1672.0743189422471\t -747.5861078277044\t    \n",
            "init\t [ 2.45038864 -1.23717148  4.71764213]\t -6281.890680624871\t -747.5861078277044\t    \n",
            "init\t [0.36072824 1.577172   2.90710192]\t -747.5861078277044\t -747.5861078277044\t    \n",
            "1  \t [ 4.34551693  9.88414877 -4.88771889]\t -77317.5102677862\t -747.5861078277044\t -0.7978846605384292\n",
            "2  \t [-1.98503052 -5.08370297  0.47544376]\t -5862.449371750896\t -747.5861078277044\t -0.7978846605384292\n",
            "3  \t [-2.0556804  -9.02186809 -8.37506795]\t -121232.65441870395\t -747.5861078277044\t -0.7978846605384292\n",
            "4  \t [-8.30089272  8.76464152 -3.7028615 ]\t -53579.172270173985\t -747.5861078277044\t -0.7978846605384292\n",
            "5  \t [-1.92136443  7.09060084  9.90193306]\t -128180.37776723201\t -747.5861078277044\t -0.7978846605384291\n",
            "6  \t [ 6.83055529 -7.02538607 -5.07603057]\t -27205.394503821604\t -747.5861078277044\t -0.7978846605384292\n",
            "7  \t [-9.66056066 -7.16632862  9.74146832]\t -141747.30545515707\t -747.5861078277044\t -0.7978846605384292\n",
            "8  \t [5.9985337  9.53791599 4.87346611]\t -66262.04186181795\t -747.5861078277044\t -0.7978846605384291\n",
            "9  \t [5.95618828 3.62221445 9.57953935]\t -97953.49211296115\t -747.5861078277044\t -0.7978846605384292\n",
            "10 \t [-7.41175926 -1.8295649  -8.07396848]\t -52905.20559446976\t -747.5861078277044\t -0.7978846605384292\n",
            "11 \t [ 5.84223091  1.20858429 -9.77151834]\t -108063.16292509792\t -747.5861078277044\t -0.797884660538423\n",
            "12 \t [ 3.13421626 -9.95016468  3.38730017]\t -79205.6984613273\t -747.5861078277044\t -0.7978846605384292\n",
            "13 \t [-2.64870018  6.15123354 -9.99580685]\t -124819.70339185384\t -747.5861078277044\t -0.7978846605382999\n",
            "\u001b[1m\u001b[92m14\u001b[0m\t \u001b[1m\u001b[92m[ 8.7561222   0.65983003 -2.4868267 ]\u001b[0m\t \u001b[1m\u001b[92m-595.8024506030948\u001b[0m\t \u001b[1m\u001b[92m-595.8024506030948\u001b[0m\t \u001b[1m\u001b[92m-0.7978846595346427\u001b[0m\n",
            "15 \t [-8.44761232  2.69533648  3.00917502]\t -1858.0294631057557\t -595.8024506030948\t -0.7978846605384059\n",
            "16 \t [-1.34983052  8.90133792  1.73978169]\t -51113.09285474519\t -595.8024506030948\t -0.7978846602832257\n",
            "17 \t [-9.13801803 -0.04760395 -2.61947029]\t -838.8610478777346\t -595.8024506030948\t -0.7978846605309278\n",
            "18 \t [-3.35806851  3.36088285 -2.99243498]\t -2000.6803488734274\t -595.8024506030948\t -0.7978839407422745\n",
            "19 \t [ 8.98252928 -5.48849331  0.18114415]\t -5412.381535868123\t -595.8024506030948\t -0.7978846605328114\n",
            "20 \t [-3.69047097 -2.27529769  7.59066623]\t -41843.50933689587\t -595.8024506030948\t -0.7978845638278683\n",
            "21 \t [-2.0301401  -4.92207598 -4.38926331]\t -10770.98915286436\t -595.8024506030948\t -0.7978846605384292\n",
            "22 \t [  2.29978382  -4.21140632 -10.        ]\t -127309.36164173942\t -595.8024506030948\t -0.7978846605205515\n",
            "23 \t [ -9.423343 -10.       -10.      ]\t -220124.91926468397\t -595.8024506030948\t -0.7978846523498064\n",
            "24 \t [-1.61328126 -8.26175877 10.        ]\t -168283.62352287737\t -595.8024506030948\t -0.7978835637209784\n",
            "25 \t [-3.62548662  4.03690472  5.08770704]\t -9480.190905196487\t -595.8024506030948\t -0.797883889328765\n",
            "26 \t [  8.88388465   9.61811665 -10.        ]\t -170843.22081365655\t -595.8024506030948\t -0.7978833328955844\n",
            "27 \t [ 8.07975115 -9.9262095   8.13472163]\t -132201.97298159805\t -595.8024506030948\t -0.797882869620733\n",
            "28 \t [ 9.61256036  8.02390778 -0.75645448]\t -28611.33313837376\t -595.8024506030948\t -0.7978830169120866\n",
            "29 \t [-9.58260738  7.91043127 10.        ]\t -147112.86671680585\t -595.8024506030948\t -0.7978846564424251\n",
            "30 \t [-9.92298779 -2.55292619  3.7015453 ]\t -3865.487724371283\t -595.8024506030948\t -0.7978846415457806\n"
          ]
        }
      ]
    },
    {
      "cell_type": "code",
      "metadata": {
        "colab": {
          "base_uri": "https://localhost:8080/"
        },
        "id": "fKB8MCD_GCVI",
        "outputId": "9305fa1a-0254-47d1-8fb0-67c7220b0df9"
      },
      "source": [
        "### ESTIMATED GP ERM GRADIENTS\n",
        "\n",
        "np.random.seed(run_num_7)\n",
        "surrogate_approx_7 = GaussianProcess(cov_func, optimize=opt)\n",
        "\n",
        "approx_7 = GPGO_multi(surrogate_approx_7, Acquisition_new(util_grad_approx), objfunc, param)\n",
        "approx_7.run(init_evals=n_init, max_iter=iters)\n"
      ],
      "execution_count": 19,
      "outputs": [
        {
          "output_type": "stream",
          "name": "stdout",
          "text": [
            "Evaluation \t Proposed point \t  Current eval. \t  Best eval. \t         Max AcqFunc.\n",
            "init\t [-8.47383421  5.59837584 -1.23181537]\t -10236.238023609843\t -10236.238023609843\t    \n",
            "init\t [4.46930356 9.55979024 0.76991741]\t -63811.243249036976\t -10236.238023609843\t    \n",
            "init\t [ 0.02240927 -8.55897733 -4.6312204 ]\t -50862.43407074502\t -10236.238023609843\t    \n",
            "init\t [-2.34998349e-03  3.58459992e+00  6.07478072e+00]\t -16115.196076305741\t -10236.238023609843\t    \n",
            "init\t [-2.38117734 -8.68127306 -4.23708801]\t -52860.9167787799\t -10236.238023609843\t    \n",
            "1  \t [ 9.10936646  3.65827709 -8.93742619]\t -73787.99738137476\t -10236.238023609843\t -0.7978846605384292\n",
            "2  \t [-5.16794167 -9.78840186  6.61280652]\t -105864.29006834452\t -10236.238023609843\t -0.7978846605384292\n",
            "3  \t [ 6.70937122 -8.01304972  2.92508219]\t -31552.380495254474\t -10236.238023609843\t -0.7978846605384292\n",
            "4  \t [8.87547999 8.44679195 9.21555655]\t -114034.0594944853\t -10236.238023609843\t -0.797884660538429\n",
            "5  \t [-8.22186059 -2.09445948 -8.51624651]\t -65619.77292042035\t -10236.238023609843\t -0.7978846605384292\n",
            "6  \t [ 0.30804367  6.75404796 -6.71933586]\t -37474.908441899184\t -10236.238023609843\t -0.7978846605383932\n",
            "7  \t [-6.91564888 -1.78450695  9.99466028]\t -122308.19183744061\t -10236.238023609843\t -0.7978846605381974\n",
            "8  \t [ 9.67792143 -2.13225294  8.76893665]\t -73009.83405722372\t -10236.238023609843\t -0.797884660538315\n",
            "\u001b[1m\u001b[92m9\u001b[0m\t \u001b[1m\u001b[92m[ 4.83295562 -0.65807219 -2.42087302]\u001b[0m\t \u001b[1m\u001b[92m-505.90617855801185\u001b[0m\t \u001b[1m\u001b[92m-505.90617855801185\u001b[0m\t \u001b[1m\u001b[92m-0.7978846605383207\u001b[0m\n",
            "10 \t [ 6.95867102 -6.81650223 -7.42462408]\t -55931.19793030403\t -505.90617855801185\t -0.7978846585798796\n",
            "11 \t [-7.5966344   6.31691545 -9.56373681]\t -108929.31299235445\t -505.90617855801185\t -0.7978846605298918\n",
            "\u001b[1m\u001b[92m12\u001b[0m\t \u001b[1m\u001b[92m[8.13699932 2.43682494 2.15904138]\u001b[0m\t \u001b[1m\u001b[92m-221.15536453012672\u001b[0m\t \u001b[1m\u001b[92m-221.15536453012672\u001b[0m\t \u001b[1m\u001b[92m-0.7978845354584438\u001b[0m\n",
            "13 \t [-6.4964851   6.46582912  8.17847218]\t -64918.690877763715\t -221.15536453012672\t -0.7978846557031447\n",
            "14 \t [-9.02030685 -2.89252088  2.6631534 ]\t -2301.810451334464\t -221.15536453012672\t -0.7978846566917358\n",
            "15 \t [-0.53190071 -4.12272992  8.55576394]\t -70359.65280289552\t -221.15536453012672\t -0.7978836527420406\n",
            "\u001b[1m\u001b[92m16\u001b[0m\t \u001b[1m\u001b[92m[-4.5394054  -0.5450872  -1.75003947]\u001b[0m\t \u001b[1m\u001b[92m-216.87489261389192\u001b[0m\t \u001b[1m\u001b[92m-216.87489261389192\u001b[0m\t \u001b[1m\u001b[92m-0.7978845594521\u001b[0m\n",
            "17 \t [-0.50281947 -1.01990634 -6.19556005]\t -18169.380004112496\t -216.87489261389192\t -0.7978838787067993\n",
            "18 \t [ 7.16764652  9.41986751 -5.73037352]\t -67536.03386075812\t -216.87489261389192\t -0.7978833611804016\n",
            "19 \t [-9.05562398 -7.29593085 -3.34498393]\t -29430.992451704496\t -216.87489261389192\t -0.7978839321041887\n",
            "20 \t [-9.12720898 -9.06012054 -9.86375655]\t -184584.4143231339\t -216.87489261389192\t -0.7978836159655893\n",
            "21 \t [1.96962602 9.54725825 8.35432348]\t -115772.13824634977\t -216.87489261389192\t -0.7978833703938228\n",
            "22 \t [ 10. -10.  10.]\t -204581.0\t -216.87489261389192\t -0.797884660178736\n",
            "23 \t [-3.05281083  9.35472034 -1.37510404]\t -63530.57796698452\t -216.87489261389192\t -0.7978830461568293\n",
            "24 \t [-0.53658666 -5.93610203  1.78418371]\t -10541.613639380912\t -216.87489261389192\t -0.7978831593854381\n",
            "25 \t [10.         -3.04277274 -0.44882185]\t -261.69386898122093\t -216.87489261389192\t -0.7978823705778815\n",
            "26 \t [ 0.60369163  3.34121704 -0.49549078]\t -968.372343924538\t -216.87489261389192\t -0.7978820658895062\n",
            "27 \t [  4.61420704  -1.15731913 -10.        ]\t -121413.35540745227\t -216.87489261389192\t -0.7978704197631689\n",
            "28 \t [-10.          10.           3.41176286]\t -88850.09524446908\t -216.87489261389192\t -0.7978828382893659\n",
            "29 \t [ 3.86190879 -1.35398536  3.97699948]\t -3272.700295455431\t -216.87489261389192\t -0.7978813023166472\n",
            "30 \t [ 2.92979306 -9.98678538  8.53807017]\t -150067.24643788225\t -216.87489261389192\t -0.7978827873277456\n"
          ]
        }
      ]
    },
    {
      "cell_type": "code",
      "metadata": {
        "colab": {
          "base_uri": "https://localhost:8080/"
        },
        "id": "4unvifF-GCXp",
        "outputId": "4ba2dabe-d80e-4511-af23-ea4f8c1d5399"
      },
      "source": [
        "### ESTIMATED GP ERM GRADIENTS\n",
        "\n",
        "np.random.seed(run_num_8)\n",
        "surrogate_approx_8 = GaussianProcess(cov_func, optimize=opt)\n",
        "\n",
        "approx_8 = GPGO_multi(surrogate_approx_8, Acquisition_new(util_grad_approx), objfunc, param)\n",
        "approx_8.run(init_evals=n_init, max_iter=iters)\n"
      ],
      "execution_count": 20,
      "outputs": [
        {
          "output_type": "stream",
          "name": "stdout",
          "text": [
            "Evaluation \t Proposed point \t  Current eval. \t  Best eval. \t         Max AcqFunc.\n",
            "init\t [7.46858806 9.37081326 7.3838908 ]\t -86398.56273239222\t -19.158799931573643\t    \n",
            "init\t [ 0.61711383 -5.34543344 -9.77202391]\t -122028.27716628066\t -19.158799931573643\t    \n",
            "init\t [-1.39062363 -1.9529728   0.45349343]\t -185.16317561320295\t -19.158799931573643\t    \n",
            "init\t [-0.43216408  1.10712948  0.86772035]\t -19.158799931573643\t -19.158799931573643\t    \n",
            "init\t [5.21791151 4.24749148 2.39364192]\t -2079.039537100791\t -19.158799931573643\t    \n",
            "1  \t [ 5.91149117 -9.35983687 -0.89104356]\t -57709.74714740788\t -19.158799931573643\t -0.7978846605384292\n",
            "2  \t [-4.01894503  7.30848062  6.93893087]\t -48356.33098205576\t -19.158799931573643\t -0.7978846605384292\n",
            "3  \t [-6.23415159 -2.85576708  4.59444715]\t -7163.787122326564\t -19.158799931573643\t -0.7978846605384292\n",
            "4  \t [-0.33954819  6.5470211  -9.44447867]\t -103413.2661047698\t -19.158799931573643\t -0.7978846605384292\n",
            "5  \t [ 8.88043753 -3.47867257 -6.48954407]\t -23609.194785088257\t -19.158799931573643\t -0.7978846605384292\n",
            "6  \t [-9.28032222 -2.58508368 -4.69965573]\t -7690.438087299276\t -19.158799931573643\t -0.7978846605384292\n",
            "7  \t [ 8.17908998 -0.22400237  8.02829777]\t -50206.619564063905\t -19.158799931573643\t -0.7978846605384292\n",
            "8  \t [-9.29486377 -6.88958424  5.69557689]\t -37285.04360880313\t -19.158799931573643\t -0.7978846605384292\n",
            "9  \t [ 2.93304256 -9.66156955  6.74566747]\t -97941.45934386633\t -19.158799931573643\t -0.7978846605030143\n",
            "10 \t [-6.44556688  8.56291735 -3.1073752 ]\t -47276.7702263877\t -19.158799931573643\t -0.7978846605383775\n",
            "11 \t [-9.64599536 -9.06940174 -9.49540104]\t -168383.670520528\t -19.158799931573643\t -0.7978846605384292\n",
            "12 \t [-9.45801348  9.47519463 -9.5831696 ]\t -162599.9137630042\t -19.158799931573643\t -0.7978845952217746\n",
            "13 \t [ 9.86387458 -9.03618993  5.02335735]\t -57789.537463669825\t -19.158799931573643\t -0.7978846605384292\n",
            "14 \t [-1.78785155 -0.65705994  8.59087149]\t -65967.76556472405\t -19.158799931573643\t -0.7978846605384292\n",
            "15 \t [ 9.92533816  6.6144607  -5.23837193]\t -19104.99455412147\t -19.158799931573643\t -0.7978846605384292\n",
            "16 \t [ 4.50184336 -2.26786091  2.15283875]\t -478.5119793244565\t -19.158799931573643\t -0.7978846605384292\n",
            "17 \t [ 7.42704428 -6.30046155  8.41770504]\t -76125.29945778343\t -19.158799931573643\t -0.7978846605384292\n",
            "18 \t [ 3.71150346  0.75831996 -4.36493421]\t -4204.8648980407415\t -19.158799931573643\t -0.7978845357298671\n",
            "19 \t [-10.          -9.34908615  -1.33608029]\t -68931.80664581705\t -19.158799931573643\t -0.7978846533276309\n",
            "20 \t [-1.79859498 -8.8857121  -1.85868522]\t -51771.08514237424\t -19.158799931573643\t -0.7978846605384292\n",
            "21 \t [-6.11335441 -3.4388144  -7.17273123]\t -35743.79190948796\t -19.158799931573643\t -0.7978846605384292\n",
            "22 \t [  6.45380846  10.         -10.        ]\t -183250.00054396264\t -19.158799931573643\t -0.7978842086089492\n",
            "23 \t [2.80391394 4.52494434 9.24935264]\t -86156.33434232303\t -19.158799931573643\t -0.797883531724927\n",
            "24 \t [  5.62387129 -10.          -8.37826313]\t -143437.52432072867\t -19.158799931573643\t -0.7978838283776212\n",
            "25 \t [-8.63220862  3.70633166  2.6479647 ]\t -3019.393353469206\t -19.158799931573643\t -0.7978846090566065\n",
            "26 \t [-9.29189142  9.63438375  3.27961322]\t -76528.12691743656\t -19.158799931573643\t -0.7978846605383508\n",
            "27 \t [-9.28750649  1.39170053  8.65051756]\t -66405.31834874731\t -19.158799931573643\t -0.797883484396916\n",
            "28 \t [-0.27559294  6.18027172 -3.08765176]\t -12255.536416822353\t -19.158799931573643\t -0.7978846602241602\n",
            "29 \t [-3.42795836 -7.92021072 10.        ]\t -162935.9902725378\t -19.158799931573643\t -0.7978845933912023\n",
            "30 \t [ 5.15903284  7.86354316 -0.92640456]\t -28220.651274717267\t -19.158799931573643\t -0.797884660497557\n"
          ]
        }
      ]
    },
    {
      "cell_type": "code",
      "metadata": {
        "colab": {
          "base_uri": "https://localhost:8080/"
        },
        "id": "85OIXcg7GCaJ",
        "outputId": "eadede05-06d6-4a5f-f013-de642d158d6a"
      },
      "source": [
        "### ESTIMATED GP ERM GRADIENTS\n",
        "\n",
        "np.random.seed(run_num_9)\n",
        "surrogate_approx_9 = GaussianProcess(cov_func, optimize=opt)\n",
        "\n",
        "approx_9 = GPGO_multi(surrogate_approx_9, Acquisition_new(util_grad_approx), objfunc, param)\n",
        "approx_9.run(init_evals=n_init, max_iter=iters)\n"
      ],
      "execution_count": 21,
      "outputs": [
        {
          "output_type": "stream",
          "name": "stdout",
          "text": [
            "Evaluation \t Proposed point \t  Current eval. \t  Best eval. \t         Max AcqFunc.\n",
            "init\t [-9.79251692  0.03749184 -0.08453414]\t -308.3769452572715\t -308.3769452572715\t    \n",
            "init\t [-7.32340942 -7.15777829 -5.62882649]\t -39098.793761550274\t -308.3769452572715\t    \n",
            "init\t [-1.62983639 -5.03797663 -8.31880698]\t -67224.5603542052\t -308.3769452572715\t    \n",
            "init\t [-3.0900272  -6.66447307  7.57118171]\t -61063.84970572342\t -308.3769452572715\t    \n",
            "init\t [ 9.01928063 -9.22503248  3.98214783]\t -57052.59558792292\t -308.3769452572715\t    \n",
            "1  \t [2.99080926 7.21663846 9.41692024]\t -107317.26583764593\t -308.3769452572715\t -0.7978846605384292\n",
            "2  \t [ 6.86233684  2.90237997 -3.94602224]\t -2626.2381369461364\t -308.3769452572715\t -0.7978846605384292\n",
            "3  \t [-9.77584307 -9.02200933  2.98685213]\t -61841.45747865176\t -308.3769452572715\t -0.7978846605384292\n",
            "4  \t [-2.00413361  1.08900426  2.95561752]\t -852.467214273503\t -308.3769452572715\t -0.7978846605384292\n",
            "5  \t [ 0.47363479  9.30843577 -8.60467824]\t -117507.45495400687\t -308.3769452572715\t -0.7978846605384292\n",
            "6  \t [ 7.08809023 -0.77927986  8.97599599]\t -78756.71445675654\t -308.3769452572715\t -0.7978846605384292\n",
            "7  \t [-8.38555052  3.98138274 -6.84585142]\t -27467.420044115126\t -308.3769452572715\t -0.7978846605384292\n",
            "8  \t [-5.61730476  8.51392682  5.68306534]\t -54834.29015625984\t -308.3769452572715\t -0.7978846605384273\n",
            "9  \t [ 1.55836861 -1.77809853 -2.28997058]\t -497.086726862544\t -308.3769452572715\t -0.7978846604906498\n",
            "10 \t [ 6.11629874 -8.74204803 -0.96542318]\t -43423.330956225946\t -308.3769452572715\t -0.7978846605384292\n",
            "11 \t [ 3.23371545 10.          0.66394579]\t -77688.36398610353\t -308.3769452572715\t -0.7978846605384163\n",
            "12 \t [3.01277451 9.9078286  1.97878079]\t -74760.19292573501\t -308.3769452572715\t -0.7978846605384292\n",
            "\u001b[1m\u001b[92m13\u001b[0m\t \u001b[1m\u001b[92m[10.         -2.13899848 -0.06940797]\u001b[0m\t \u001b[1m\u001b[92m-96.2927388065466\u001b[0m\t \u001b[1m\u001b[92m-96.2927388065466\u001b[0m\t \u001b[1m\u001b[92m-0.7978846513018604\u001b[0m\n",
            "14 \t [  8.84267602   5.16778106 -10.        ]\t -117913.12358824593\t -96.2927388065466\t -0.7978845824327219\n",
            "15 \t [-7.96511569 -0.14524422  8.92186616]\t -76380.74596584775\t -96.2927388065466\t -0.7978846605133949\n",
            "16 \t [-1.74920021 -9.82706409  0.08459232]\t -76263.56996196497\t -96.2927388065466\t -0.7978846603766551\n",
            "17 \t [9.18884834 5.371142   5.62581791]\t -14840.535031823034\t -96.2927388065466\t -0.7978845953324828\n",
            "18 \t [ 5.0549409  -5.45739746 -9.78666177]\t -122404.04153995313\t -96.2927388065466\t -0.797883623229051\n",
            "19 \t [-0.04306911  4.67058588 -2.14298884]\t -3876.677138314397\t -96.2927388065466\t -0.7978834751298889\n",
            "20 \t [-0.72111433  1.05358225 10.        ]\t -118759.2947852903\t -96.2927388065466\t -0.7978845075919955\n",
            "21 \t [ 2.52684071 -3.73622281  3.38830374]\t -3430.0843753289582\t -96.2927388065466\t -0.797883450881104\n",
            "22 \t [-5.24405729  9.5350009  -4.75368894]\t -73849.18466207058\t -96.2927388065466\t -0.7978821762268101\n",
            "23 \t [-1.21426915  1.84816455 -9.39350705]\t -91618.95898252791\t -96.2927388065466\t -0.7978842192709213\n",
            "24 \t [ 3.18889892 -8.58217297  9.49527275]\t -148597.6243864323\t -96.2927388065466\t -0.7978836126862423\n",
            "25 \t [-4.24225045 -0.08476297 -3.20546248]\t -1341.0965999508278\t -96.2927388065466\t -0.7978819058293327\n",
            "26 \t [ -9.53350144   9.95026975 -10.        ]\t -194621.0267652913\t -96.2927388065466\t -0.7978824037017818\n",
            "27 \t [-10.          -2.75608075 -10.        ]\t -124720.3547528125\t -96.2927388065466\t -0.7978834615951118\n",
            "28 \t [ 9.88933842  8.95691955 -0.59999486]\t -45621.28277701711\t -96.2927388065466\t -0.7978836014702354\n",
            "29 \t [-9.41424082 -8.55690632  9.80634487]\t -169755.55075859837\t -96.2927388065466\t -0.7978831918837395\n",
            "30 \t [-5.70789031 -3.68666053  1.93366676]\t -2582.566070960064\t -96.2927388065466\t -0.7978782853899159\n"
          ]
        }
      ]
    },
    {
      "cell_type": "code",
      "metadata": {
        "colab": {
          "base_uri": "https://localhost:8080/"
        },
        "id": "QQBR-qJPGCcp",
        "outputId": "ea143165-2367-407a-80d2-34747c874bf6"
      },
      "source": [
        "### ESTIMATED GP ERM GRADIENTS\n",
        "\n",
        "np.random.seed(run_num_10)\n",
        "surrogate_approx_10 = GaussianProcess(cov_func, optimize=opt)\n",
        "\n",
        "approx_10 = GPGO_multi(surrogate_approx_10, Acquisition_new(util_grad_approx), objfunc, param)\n",
        "approx_10.run(init_evals=n_init, max_iter=iters)\n"
      ],
      "execution_count": 22,
      "outputs": [
        {
          "output_type": "stream",
          "name": "stdout",
          "text": [
            "Evaluation \t Proposed point \t  Current eval. \t  Best eval. \t         Max AcqFunc.\n",
            "init\t [ 5.42641287 -9.58496101  2.6729647 ]\t -65323.138576781035\t -11089.42002600802\t    \n",
            "init\t [ 4.97607765 -0.02985975 -5.50406709]\t -11089.42002600802\t -11089.42002600802\t    \n",
            "init\t [-6.0387427   5.21061424 -6.61778327]\t -27690.457734888914\t -11089.42002600802\t    \n",
            "init\t [-8.23320372  3.70719637  9.06786692]\t -80154.14403008527\t -11089.42002600802\t    \n",
            "init\t [-9.92103467  0.24384527  6.25241923]\t -18545.57155390516\t -11089.42002600802\t    \n",
            "1  \t [6.10446394 0.43294305 8.17297762]\t -53288.212919444646\t -11089.42002600802\t -0.7978846605384292\n",
            "2  \t [-9.49472109 -9.01609684 -6.30746324]\t -82871.0866192423\t -11089.42002600802\t -0.7978846605384292\n",
            "3  \t [ 7.96048618  8.81414077 -2.31756302]\t -43523.5387377614\t -11089.42002600802\t -0.7978846605384292\n",
            "4  \t [-6.96627151 -9.32194974  9.63669716]\t -179552.51038875253\t -11089.42002600802\t -0.7978846605384292\n",
            "5  \t [ 2.79258297 -9.89687304 -9.50522433]\t -183561.10016043443\t -11089.42002600802\t -0.7978846605384292\n",
            "\u001b[1m\u001b[92m6\u001b[0m\t \u001b[1m\u001b[92m[-1.96404234  4.62055281  2.9641987 ]\u001b[0m\t \u001b[1m\u001b[92m-4501.656812252965\u001b[0m\t \u001b[1m\u001b[92m-4501.656812252965\u001b[0m\t \u001b[1m\u001b[92m-0.7978846605384292\u001b[0m\n",
            "7  \t [8.36592595 9.69243692 9.9409429 ]\t -170487.79984656384\t -4501.656812252965\t -0.7978846605384292\n",
            "\u001b[1m\u001b[92m8\u001b[0m\t \u001b[1m\u001b[92m[-1.28690034 -3.3805896   2.07500134]\u001b[0m\t \u001b[1m\u001b[92m-1602.4771966283565\u001b[0m\t \u001b[1m\u001b[92m-1602.4771966283565\u001b[0m\t \u001b[1m\u001b[92m-0.7978846605384292\u001b[0m\n",
            "\u001b[1m\u001b[92m9\u001b[0m\t \u001b[1m\u001b[92m[-7.76033269 -0.82174788 -1.700712  ]\u001b[0m\t \u001b[1m\u001b[92m-373.70051514285916\u001b[0m\t \u001b[1m\u001b[92m-373.70051514285916\u001b[0m\t \u001b[1m\u001b[92m-0.797884660413222\u001b[0m\n",
            "10 \t [ 5.579123    5.91926926 -9.91163823]\t -117282.01795041209\t -373.70051514285916\t -0.7978846576506667\n",
            "11 \t [ 8.83952815 -9.50086429 -5.96618194]\t -78552.01136240899\t -373.70051514285916\t -0.7978837319375793\n",
            "12 \t [4.46588649 0.41056736 4.72710494]\t -5928.386985062376\t -373.70051514285916\t -0.7978846605384292\n",
            "13 \t [-3.87299318 -1.5547359  -9.94280554]\t -119305.16718500291\t -373.70051514285916\t -0.7978846602349033\n",
            "14 \t [-4.47185473  9.81338461  6.19550375]\t -91157.51812623827\t -373.70051514285916\t -0.7978842928687143\n",
            "15 \t [-8.36337837 -6.25752724  3.04628328]\t -16961.04587232594\t -373.70051514285916\t -0.7978845975147254\n",
            "16 \t [2.77450575 9.99299757 5.56113022]\t -85646.37884509018\t -373.70051514285916\t -0.7978841351216901\n",
            "17 \t [ 8.87939172 -9.75850698  8.5938394 ]\t -140390.12542054648\t -373.70051514285916\t -0.7978836491255945\n",
            "18 \t [ 0.44876247 -8.65283449  8.24652861]\t -107360.30941230041\t -373.70051514285916\t -0.7978846369153695\n",
            "19 \t [ 0.70143962  5.15542924 10.        ]\t -119396.46031022143\t -373.70051514285916\t -0.7978835536722624\n",
            "20 \t [ 1.29994395 -5.82921411 -3.97661709]\t -13095.972424042508\t -373.70051514285916\t -0.7978837159374266\n",
            "21 \t [-7.60524007  6.35237505 -0.17323053]\t -15790.347663142213\t -373.70051514285916\t -0.7978834214001405\n",
            "22 \t [ 0.9954299   9.58814655 -5.49894164]\t -74651.57892360707\t -373.70051514285916\t -0.7978846023314086\n",
            "\u001b[1m\u001b[92m23\u001b[0m\t \u001b[1m\u001b[92m[ 8.78756449  2.18025977 -0.5705628 ]\u001b[0m\t \u001b[1m\u001b[92m-68.69666095498887\u001b[0m\t \u001b[1m\u001b[92m-68.69666095498887\u001b[0m\t \u001b[1m\u001b[92m-0.7978832962889172\u001b[0m\n",
            "24 \t [-2.66333257 -9.97046837  1.72045805]\t -81962.38914814139\t -68.69666095498887\t -0.7978843987170903\n",
            "25 \t [-2.38943663 -2.35262708  8.32469136]\t -59977.53709658522\t -68.69666095498887\t -0.7978830901981602\n",
            "26 \t [-1.47058624  1.13998016 -2.92463483]\t -804.06368633435\t -68.69666095498887\t -0.7978844158874364\n",
            "27 \t [10.         -4.56826731  4.03908002]\t -6246.379742872202\t -68.69666095498887\t -0.7978831948133229\n",
            "28 \t [10.          4.79766783  4.72385846]\t -7437.8430661744815\t -68.69666095498887\t -0.7978830469492614\n",
            "29 \t [ 9.86832269 -7.03646675 -1.16157646]\t -16260.329894886263\t -68.69666095498887\t -0.7978846605384292\n",
            "30 \t [-10.          -0.10964892  -7.21951956]\t -32990.34233053849\t -68.69666095498887\t -0.797879794490889\n"
          ]
        }
      ]
    },
    {
      "cell_type": "code",
      "metadata": {
        "colab": {
          "base_uri": "https://localhost:8080/"
        },
        "id": "JS8ejeQ2GCfi",
        "outputId": "e05f2a73-5168-4ba4-8290-8631d264d61e"
      },
      "source": [
        "### ESTIMATED GP ERM GRADIENTS\n",
        "\n",
        "np.random.seed(run_num_11)\n",
        "surrogate_approx_11 = GaussianProcess(cov_func, optimize=opt)\n",
        "\n",
        "approx_11 = GPGO_multi(surrogate_approx_11, Acquisition_new(util_grad_approx), objfunc, param)\n",
        "approx_11.run(init_evals=n_init, max_iter=iters)\n"
      ],
      "execution_count": 23,
      "outputs": [
        {
          "output_type": "stream",
          "name": "stdout",
          "text": [
            "Evaluation \t Proposed point \t  Current eval. \t  Best eval. \t         Max AcqFunc.\n",
            "init\t [-6.39460622 -9.61049517 -0.73562947]\t -73449.7462395723\t -22.303897517794855\t    \n",
            "init\t [ 4.49867858 -1.59592791 -0.29145804]\t -22.303897517794855\t -22.303897517794855\t    \n",
            "init\t [-9.74438371 -0.25256785  8.83613305]\t -73699.8605668882\t -22.303897517794855\t    \n",
            "init\t [ 7.01590179  4.5992894  -7.82527856]\t -44207.59530328671\t -22.303897517794855\t    \n",
            "init\t [ 7.87808341  7.14308494 -6.69826765]\t -38246.569253964415\t -22.303897517794855\t    \n",
            "1  \t [-1.96647039  6.95957995  4.35698359]\t -22430.99927361658\t -22.303897517794855\t -0.7978846605384292\n",
            "2  \t [-3.72641694  8.61531845 -5.23307798]\t -52726.91681995238\t -22.303897517794855\t -0.7978846605384292\n",
            "3  \t [ 9.87552939 -6.4957027  -5.76997644]\t -27205.562806391157\t -22.303897517794855\t -0.7978846605384292\n",
            "4  \t [8.79978443 9.21187338 4.01322808]\t -53436.69770955808\t -22.303897517794855\t -0.7978846605384292\n",
            "5  \t [ 5.40088552 -8.93292028  7.72280751]\t -96888.8410801737\t -22.303897517794855\t -0.7978846605384292\n",
            "6  \t [-0.26742899 -6.31007923 -8.97386454]\t -96808.86899404117\t -22.303897517794855\t -0.7978846605384292\n",
            "7  \t [-9.91700398  2.82413986 -1.82953825]\t -1502.4804901611444\t -22.303897517794855\t -0.7978846605384192\n",
            "8  \t [9.19882162 0.03064205 8.95268462]\t -77296.27028686141\t -22.303897517794855\t -0.7978846605384292\n",
            "9  \t [-0.1949367  -2.43324167  7.75375352]\t -45438.36504414475\t -22.303897517794855\t -0.7978846605358537\n",
            "10 \t [-9.59976122  8.38827695  9.33640652]\t -127925.16238139631\t -22.303897517794855\t -0.7978846605374424\n",
            "11 \t [-8.75015747 -5.39823628 -8.50829628]\t -76744.16220125134\t -22.303897517794855\t -0.7978846605350204\n",
            "12 \t [4.18577923 5.40369106 8.6624432 ]\t -68678.5550880097\t -22.303897517794855\t -0.797884620196165\n",
            "13 \t [-2.91175477  1.65634917 -5.10210644]\t -7778.8648343874565\t -22.303897517794855\t -0.7978843745700425\n",
            "14 \t [ 1.3925504  -7.5833256  -1.12331643]\t -26126.11925624919\t -22.303897517794855\t -0.7978846597571841\n",
            "15 \t [ 9.09743006 -7.82393094  1.54900137]\t -26231.110519638634\t -22.303897517794855\t -0.7978845809831745\n",
            "16 \t [10.          4.03625055 -1.09729885]\t -1108.9033267982877\t -22.303897517794855\t -0.7978833897585966\n",
            "17 \t [-1.00597321 -9.6181528   5.06356114]\t -80339.15803484074\t -22.303897517794855\t -0.7978837511882095\n",
            "18 \t [-9.52258371 -8.227338    6.13033311]\t -62964.517294875375\t -22.303897517794855\t -0.7978846574597439\n",
            "19 \t [ 1.39606818  7.93598919 -9.74594299]\t -130438.08635943089\t -22.303897517794855\t -0.7978828966541858\n",
            "20 \t [-4.79604782 -0.84280993  2.78058293]\t -908.5549933413877\t -22.303897517794855\t -0.7978843141910648\n",
            "21 \t [ 4.00366515 10.         -0.80302054]\t -77065.75737222847\t -22.303897517794855\t -0.797883748305846\n",
            "22 \t [-7.11635008  9.55905092  1.0404942 ]\t -72329.03181422935\t -22.303897517794855\t -0.7978832222941079\n",
            "23 \t [ -8.80711215  10.         -10.        ]\t -195596.99961950205\t -22.303897517794855\t -0.7978845146741561\n",
            "24 \t [ 4.6026963  -1.97818067 -5.8193395 ]\t -14611.214563211288\t -22.303897517794855\t -0.7978831045745545\n",
            "25 \t [-8.66570862 -4.51875792  8.6212623 ]\t -75378.87288437581\t -22.303897517794855\t -0.7978846605384292\n",
            "26 \t [-10.          -3.91077629  -1.84938898]\t -3762.5955489948124\t -22.303897517794855\t -0.7978826133398311\n",
            "27 \t [ 1.87463958  3.29739133 -0.80482167]\t -802.4964740228513\t -22.303897517794855\t -0.7978827911677945\n",
            "28 \t [ -7.33982635   2.5520597  -10.        ]\t -117856.15527421102\t -22.303897517794855\t -0.7978842012317431\n",
            "29 \t [-3.85941889  3.01587244  9.44386378]\t -93246.55300561989\t -22.303897517794855\t -0.7978803243037775\n",
            "30 \t [  5.75569808 -10.         -10.        ]\t -207784.31432458275\t -22.303897517794855\t -0.7978840576627567\n"
          ]
        }
      ]
    },
    {
      "cell_type": "code",
      "metadata": {
        "colab": {
          "base_uri": "https://localhost:8080/"
        },
        "id": "DXwjUVZ4GCii",
        "outputId": "3183df0e-17aa-465c-c8da-ec893c8e47f2"
      },
      "source": [
        "### ESTIMATED GP ERM GRADIENTS\n",
        "\n",
        "np.random.seed(run_num_12)\n",
        "surrogate_approx_12 = GaussianProcess(cov_func, optimize=opt)\n",
        "\n",
        "approx_12 = GPGO_multi(surrogate_approx_12, Acquisition_new(util_grad_approx), objfunc, param)\n",
        "approx_12.run(init_evals=n_init, max_iter=iters)\n"
      ],
      "execution_count": 24,
      "outputs": [
        {
          "output_type": "stream",
          "name": "stdout",
          "text": [
            "Evaluation \t Proposed point \t  Current eval. \t  Best eval. \t         Max AcqFunc.\n",
            "init\t [-6.91674315  4.80099393 -4.7336997 ]\t -10487.591252066548\t -4586.38475927115\t    \n",
            "init\t [ 0.67478787 -9.70850075  8.37494016]\t -138053.19180525147\t -4586.38475927115\t    \n",
            "init\t [ 8.01429708 -9.33157145  9.13898673]\t -148578.70720060062\t -4586.38475927115\t    \n",
            "init\t [-7.25581357 -4.32343294  2.12166369]\t -4586.38475927115\t -4586.38475927115\t    \n",
            "init\t [ 8.88450272  7.05471082 -9.95481533]\t -126104.01453704505\t -4586.38475927115\t    \n",
            "\u001b[1m\u001b[92m1\u001b[0m\t \u001b[1m\u001b[92m[ 4.05244711 -3.44861047 -3.30704942]\u001b[0m\t \u001b[1m\u001b[92m-2711.705028601448\u001b[0m\t \u001b[1m\u001b[92m-2711.705028601448\u001b[0m\t \u001b[1m\u001b[92m-0.7978846605384292\u001b[0m\n",
            "2  \t [-9.8399332  -9.79123196  1.94917609]\t -82290.79401902205\t -2711.705028601448\t -0.7978846605384292\n",
            "3  \t [-9.24117561 -6.89977426 -6.58701988]\t -48252.938906954136\t -2711.705028601448\t -0.7978846605384292\n",
            "4  \t [-9.90274624 -5.05558204  6.5981439 ]\t -33027.813423262836\t -2711.705028601448\t -0.7978846605384292\n",
            "\u001b[1m\u001b[92m5\u001b[0m\t \u001b[1m\u001b[92m[8.11179655 4.25164412 2.83994041]\u001b[0m\t \u001b[1m\u001b[92m-2046.5141241551942\u001b[0m\t \u001b[1m\u001b[92m-2046.5141241551942\u001b[0m\t \u001b[1m\u001b[92m-0.7978846605384292\u001b[0m\n",
            "6  \t [-1.0203127   6.70305372  2.93327516]\t -16854.29441646725\t -2046.5141241551942\t -0.7978846605384292\n",
            "7  \t [2.24146714 3.87396922 9.57204863]\t -98069.68646479683\t -2046.5141241551942\t -0.7978846605384183\n",
            "8  \t [-3.39588922 -3.70052717  9.95424593]\t -124174.59831589606\t -2046.5141241551942\t -0.7978846605384292\n",
            "9  \t [-0.02778373  2.51700407 -8.18845817]\t -52267.14736837279\t -2046.5141241551942\t -0.7978846605139297\n",
            "10 \t [-9.79176428  7.36536448  5.25320924]\t -34963.294709396985\t -2046.5141241551942\t -0.7978846605384292\n",
            "\u001b[1m\u001b[92m11\u001b[0m\t \u001b[1m\u001b[92m[-0.53373012 -1.61529331  2.18643426]\u001b[0m\t \u001b[1m\u001b[92m-443.25295788399114\u001b[0m\t \u001b[1m\u001b[92m-443.25295788399114\u001b[0m\t \u001b[1m\u001b[92m-0.7978846605384292\u001b[0m\n",
            "12 \t [ 3.90293143  7.47809194 -2.68362028]\t -23454.743377384744\t -443.25295788399114\t -0.7978846605379121\n",
            "13 \t [-2.3327113  -6.10833514 -1.76271163]\t -12311.171273777029\t -443.25295788399114\t -0.7978846367467575\n",
            "14 \t [ 2.82957347 -8.84843756 -9.06320387]\t -137211.52228276304\t -443.25295788399114\t -0.7978846605384146\n",
            "15 \t [9.72058271 7.89080656 9.56612543]\t -118450.58666630497\t -443.25295788399114\t -0.797884660536222\n",
            "16 \t [ 9.96439472 -4.89952072 -7.88213526]\t -53018.92173962747\t -443.25295788399114\t -0.7978846605384291\n",
            "17 \t [ 5.54907157 -8.41346952  0.63509449]\t -37280.71302003675\t -443.25295788399114\t -0.7978846579453915\n",
            "18 \t [ 6.37172418 -1.60507134  7.83761682]\t -46503.85779285467\t -443.25295788399114\t -0.7978843340977056\n",
            "\u001b[1m\u001b[92m19\u001b[0m\t \u001b[1m\u001b[92m[ 9.02062064 -1.67764527  0.94895764]\u001b[0m\t \u001b[1m\u001b[92m-123.64048708788826\u001b[0m\t \u001b[1m\u001b[92m-123.64048708788826\u001b[0m\t \u001b[1m\u001b[92m-0.7978832531558624\u001b[0m\n",
            "20 \t [-0.78447866  2.55580366 -1.82049769]\t -436.5184491002427\t -123.64048708788826\t -0.7978844976679245\n",
            "21 \t [-10.          -0.94528351  -3.75957286]\t -2959.256335718516\t -123.64048708788826\t -0.79788466051387\n",
            "22 \t [ 6.72999519 -9.85288555  3.98217806]\t -75475.66507226418\t -123.64048708788826\t -0.7978846605384292\n",
            "23 \t [-8.10098369  0.61845424  8.65164439]\t -66917.66088073654\t -123.64048708788826\t -0.7978846605384292\n",
            "24 \t [-3.51743309  7.87307444  8.96453631]\t -102618.69319614136\t -123.64048708788826\t -0.7978830201949858\n",
            "25 \t [-2.64494441 -4.55084412 -9.5215974 ]\t -107542.52316068872\t -123.64048708788826\t -0.7978837185435805\n",
            "26 \t [-8.50283577e+00  1.16428415e-03 -9.82362453e+00]\t -111988.88749790196\t -123.64048708788826\t -0.7978830169472674\n",
            "27 \t [-0.24794376  9.14821148 -9.57675165]\t -147320.20240691642\t -123.64048708788826\t -0.797883284817835\n",
            "28 \t [ 8.59149845  1.08575883 -4.73416697]\t -5874.628259309075\t -123.64048708788826\t -0.7978837120583572\n",
            "29 \t [-7.53564299  3.35178712  1.77184365]\t -1899.112119414021\t -123.64048708788826\t -0.7978846605384042\n",
            "30 \t [-9.22517521 10.         -8.92512477]\t -154540.44062535703\t -123.64048708788826\t -0.7978846227637941\n"
          ]
        }
      ]
    },
    {
      "cell_type": "code",
      "metadata": {
        "colab": {
          "base_uri": "https://localhost:8080/"
        },
        "id": "CphOPndPGClX",
        "outputId": "cd5dd7a9-22e5-443d-c072-bd55185f3fc7"
      },
      "source": [
        "### ESTIMATED GP ERM GRADIENTS\n",
        "\n",
        "np.random.seed(run_num_13)\n",
        "surrogate_approx_13 = GaussianProcess(cov_func, optimize=opt)\n",
        "\n",
        "approx_13 = GPGO_multi(surrogate_approx_13, Acquisition_new(util_grad_approx), objfunc, param)\n",
        "approx_13.run(init_evals=n_init, max_iter=iters)\n"
      ],
      "execution_count": 25,
      "outputs": [
        {
          "output_type": "stream",
          "name": "stdout",
          "text": [
            "Evaluation \t Proposed point \t  Current eval. \t  Best eval. \t         Max AcqFunc.\n",
            "init\t [ 5.55404821 -5.2491756   6.48557065]\t -28895.231649642476\t -7190.67128147545\t    \n",
            "init\t [ 9.31498396  9.45202228 -0.93101505]\t -57617.86193657745\t -7190.67128147545\t    \n",
            "init\t [2.18084926 5.51053029 2.8322669 ]\t -7190.67128147545\t -7190.67128147545\t    \n",
            "init\t [ 4.44036459 -9.29926952 -4.03101058]\t -62045.794621798595\t -7190.67128147545\t    \n",
            "init\t [-8.82975016  7.14121885 -2.54291944]\t -24761.06708561053\t -7190.67128147545\t    \n",
            "1  \t [ 0.185244   -0.40233217  9.1114829 ]\t -83108.09560590271\t -7190.67128147545\t -0.7978846605384292\n",
            "2  \t [-2.55507975  5.16954611 -8.57852975]\t -66788.32667697628\t -7190.67128147545\t -0.7978846605384292\n",
            "3  \t [-4.04492519 -9.41811807  2.86360578]\t -67871.1485238979\t -7190.67128147545\t -0.7978846605384292\n",
            "4  \t [ 5.82685351 -2.07230908 -7.09410447]\t -31695.800000421277\t -7190.67128147545\t -0.7978846605384292\n",
            "5  \t [-9.72135464 -7.69244795 -6.22844507]\t -54735.99736938843\t -7190.67128147545\t -0.7978846605384292\n",
            "6  \t [ 1.70981611 -7.96842051  6.63640935]\t -59069.60046239685\t -7190.67128147545\t -0.7978846605384292\n",
            "7  \t [-6.89693512  7.89224447  6.75048422]\t -55421.72956910572\t -7190.67128147545\t -0.7978846605384291\n",
            "8  \t [7.79388742 5.66497036 7.57468992]\t -42105.64148230834\t -7190.67128147545\t -0.797884657194325\n",
            "\u001b[1m\u001b[92m9\u001b[0m\t \u001b[1m\u001b[92m[-1.85324964  0.86932901 -2.44220822]\u001b[0m\t \u001b[1m\u001b[92m-397.7168298828595\u001b[0m\t \u001b[1m\u001b[92m-397.7168298828595\u001b[0m\t \u001b[1m\u001b[92m-0.7978846605384292\u001b[0m\n",
            "10 \t [ 4.52030949  5.18145825 -5.46812032]\t -13798.474797366369\t -397.7168298828595\t -0.7978846548337111\n",
            "11 \t [-7.33037661 -5.43830137  9.80324356]\t -126099.93632971952\t -397.7168298828595\t -0.797884660537427\n",
            "12 \t [-8.01313564 -2.54697856  2.63441906]\t -1771.7422457954754\t -397.7168298828595\t -0.7978846605384292\n",
            "13 \t [-1.27662386  9.11870236  9.7460237 ]\t -154291.54277802666\t -397.7168298828595\t -0.7978846605384292\n",
            "14 \t [ -8.85153313  10.         -10.        ]\t -195634.9784850553\t -397.7168298828595\t -0.7978846603226638\n",
            "15 \t [-10.           1.60572024   9.04995719]\t -79504.76053320417\t -397.7168298828595\t -0.7978846282869912\n",
            "16 \t [-7.02932367 -1.51277489 -9.24443588]\t -89532.22926823726\t -397.7168298828595\t -0.7978846407009367\n",
            "17 \t [10.         -0.97636253 10.        ]\t -121386.50218745127\t -397.7168298828595\t -0.7978845644595116\n",
            "18 \t [10.         -5.52953642 -0.07994758]\t -5406.11326530579\t -397.7168298828595\t -0.7978846593768427\n",
            "19 \t [6.28948877 1.1576258  7.72507096]\t -41964.78613282861\t -397.7168298828595\t -0.7978846605384292\n",
            "20 \t [4.84759227 0.35590622 3.48973611]\t -1785.1061528226342\t -397.7168298828595\t -0.7978846605384292\n",
            "21 \t [-1.79863814  8.07687239 -1.78482114]\t -35007.46394586287\t -397.7168298828595\t -0.7978840163187418\n",
            "\u001b[1m\u001b[92m22\u001b[0m\t \u001b[1m\u001b[92m[ 8.7480158   2.24515575 -1.16281016]\u001b[0m\t \u001b[1m\u001b[92m-64.22015138621909\u001b[0m\t \u001b[1m\u001b[92m-64.22015138621909\u001b[0m\t \u001b[1m\u001b[92m-0.7978832806722481\u001b[0m\n",
            "23 \t [10.          3.33220991 -9.41308164]\t -91081.79918576314\t -64.22015138621909\t -0.7978845414723968\n",
            "24 \t [-0.76641043  4.04361467  7.54919418]\t -38501.806298536794\t -64.22015138621909\t -0.7978846605384292\n",
            "25 \t [  2.81445311  10.         -10.        ]\t -186067.57204281777\t -64.22015138621909\t -0.7978843782339946\n",
            "26 \t [ 1.14979362 -4.3013318   0.47669143]\t -2638.7673445291575\t -64.22015138621909\t -0.7978844321220387\n",
            "27 \t [-0.06837779 -8.97451912 -9.14178991]\t -144995.1912546532\t -64.22015138621909\t -0.7978834540660668\n",
            "28 \t [-5.308361    3.36043505  1.99749378]\t -1659.8999974561955\t -64.22015138621909\t -0.7978815273829911\n",
            "29 \t [ 9.61143882 10.         -7.77782963]\t -109525.61782652157\t -64.22015138621909\t -0.7978822756732571\n",
            "30 \t [-10.           0.14703167  -3.1189882 ]\t -1441.262226667201\t -64.22015138621909\t -0.7978840041475491\n"
          ]
        }
      ]
    },
    {
      "cell_type": "code",
      "metadata": {
        "colab": {
          "base_uri": "https://localhost:8080/"
        },
        "id": "ojHTeARNGCoi",
        "outputId": "c697741e-2ea3-4510-ca40-88699d18e221"
      },
      "source": [
        "### ESTIMATED GP ERM GRADIENTS\n",
        "\n",
        "np.random.seed(run_num_14)\n",
        "surrogate_approx_14 = GaussianProcess(cov_func, optimize=opt)\n",
        "\n",
        "approx_14 = GPGO_multi(surrogate_approx_14, Acquisition_new(util_grad_approx), objfunc, param)\n",
        "approx_14.run(init_evals=n_init, max_iter=iters)\n"
      ],
      "execution_count": 26,
      "outputs": [
        {
          "output_type": "stream",
          "name": "stdout",
          "text": [
            "Evaluation \t Proposed point \t  Current eval. \t  Best eval. \t         Max AcqFunc.\n",
            "init\t [0.27886688 5.46330104 7.40855371]\t -39702.89936997373\t -1439.5830530376063\t    \n",
            "init\t [-9.83906103 -3.80528149  9.15207479]\t -91186.29991894927\t -1439.5830530376063\t    \n",
            "init\t [ 0.26233425 -3.6343115   0.78399875]\t -1439.5830530376063\t -1439.5830530376063\t    \n",
            "init\t [-5.57490115  6.12962716 -3.15490749]\t -13643.962145478023\t -1439.5830530376063\t    \n",
            "init\t [ 0.77777698 -9.88252429  3.46304956]\t -79141.18744713577\t -1439.5830530376063\t    \n",
            "1  \t [ 7.75074914 -8.33301678  4.9312824 ]\t -44170.557703432896\t -1439.5830530376063\t -0.7978846605384292\n",
            "2  \t [ 2.4133841   6.9805318  -1.42862351]\t -18093.267359135454\t -1439.5830530376063\t -0.7978846605384292\n",
            "3  \t [ 0.20170278 -6.14709147 -9.49686071]\t -115740.3239857176\t -1439.5830530376063\t -0.7978846605384292\n",
            "4  \t [ 9.06294459  1.2992097  -8.82658009]\t -71756.96862893569\t -1439.5830530376063\t -0.7978846605384292\n",
            "\u001b[1m\u001b[92m5\u001b[0m\t \u001b[1m\u001b[92m[-9.55982645 -2.40648449 -1.49955998]\u001b[0m\t \u001b[1m\u001b[92m-1148.4811474641567\u001b[0m\t \u001b[1m\u001b[92m-1148.4811474641567\u001b[0m\t \u001b[1m\u001b[92m-0.7978846605384292\u001b[0m\n",
            "6  \t [ 3.207504   -1.83537802  8.35104104]\t -59939.7065210044\t -1148.4811474641567\t -0.7978846605196397\n",
            "7  \t [-9.98486983  5.65195322  8.85829998]\t -79698.68163272133\t -1148.4811474641567\t -0.7978846605384292\n",
            "\u001b[1m\u001b[92m8\u001b[0m\t \u001b[1m\u001b[92m[ 6.53009086 -0.98490067 -1.42257227]\u001b[0m\t \u001b[1m\u001b[92m-148.69156256801148\u001b[0m\t \u001b[1m\u001b[92m-148.69156256801148\u001b[0m\t \u001b[1m\u001b[92m-0.7978846601029175\u001b[0m\n",
            "9  \t [8.03566973 2.7583499  4.26213982]\t -3534.1471433950155\t -148.69156256801148\t -0.7978846605309674\n",
            "10 \t [-4.76065837 -6.01957255  5.24376667]\t -23130.52422954533\t -148.69156256801148\t -0.7978846605384292\n",
            "11 \t [10.         -1.54780049 10.        ]\t -121999.8072443342\t -148.69156256801148\t -0.7978846603885025\n",
            "12 \t [-6.98452656  0.74550078 -9.19401505]\t -85183.98118751567\t -148.69156256801148\t -0.7978846605384292\n",
            "13 \t [-3.36390978  3.12902366  6.11942711]\t -16523.004276481952\t -148.69156256801148\t -0.7978846605384292\n",
            "14 \t [-4.64420989 -8.44386002 -1.06043533]\t -43735.14004400914\t -148.69156256801148\t -0.7978838394460609\n",
            "15 \t [0.89026243 7.74449105 2.59197279]\t -28449.696044348027\t -148.69156256801148\t -0.7978846605384292\n",
            "16 \t [ 2.85949821 -9.98935033 -4.12664889]\t -83217.46643077736\t -148.69156256801148\t -0.7978846605384292\n",
            "17 \t [8.91373007 9.96670667 9.09720761]\t -144666.84082205506\t -148.69156256801148\t -0.7978846605384029\n",
            "18 \t [ 2.24496432 -3.39912563 -6.205258  ]\t -20269.19299563198\t -148.69156256801148\t -0.7978846605384292\n",
            "19 \t [-10.         -10.           3.60834677]\t -92217.71677651994\t -148.69156256801148\t -0.7978840223157954\n",
            "20 \t [ 9.01163402  8.0986542  -1.28905241]\t -29981.05786451376\t -148.69156256801148\t -0.7978838175067416\n",
            "21 \t [ 0.63770632 -9.911869    9.98408417]\t -208105.61274985876\t -148.69156256801148\t -0.7978846605382706\n",
            "22 \t [10.         -6.92236026 -2.01217246]\t -15494.178097357233\t -148.69156256801148\t -0.7978846476380771\n",
            "23 \t [-4.88283797  7.67459007 -9.60214741]\t -123834.34064742152\t -148.69156256801148\t -0.797883813419766\n",
            "24 \t [ 2.33239163  8.98584303 -9.27259703]\t -130348.33326444066\t -148.69156256801148\t -0.7978846605384292\n",
            "25 \t [  9.30709346 -10.         -10.        ]\t -205096.57700905437\t -148.69156256801148\t -0.7978846605374248\n",
            "26 \t [-5.04123148  8.893526    3.60084379]\t -54196.05559176021\t -148.69156256801148\t -0.797884660502441\n",
            "27 \t [ 6.07553562  4.70635771 -5.65952966]\t -13516.681219117083\t -148.69156256801148\t -0.7978846605384292\n",
            "28 \t [-9.21903164 -6.53617826 -6.04891549]\t -37089.737444560094\t -148.69156256801148\t -0.7978827417427402\n",
            "29 \t [ 4.86000406 -5.40812208  1.82514056]\t -6205.530775590946\t -148.69156256801148\t -0.797884657042079\n",
            "30 \t [-9.26544839  1.00713689  3.68212251]\t -2405.5191235569505\t -148.69156256801148\t -0.7978823112450643\n"
          ]
        }
      ]
    },
    {
      "cell_type": "code",
      "metadata": {
        "colab": {
          "base_uri": "https://localhost:8080/"
        },
        "id": "vCJzn4vWGCs3",
        "outputId": "dabe7be1-60b3-4ab6-91dd-56afc7115bc0"
      },
      "source": [
        "### ESTIMATED GP ERM GRADIENTS\n",
        "\n",
        "np.random.seed(run_num_15)\n",
        "surrogate_approx_15 = GaussianProcess(cov_func, optimize=opt)\n",
        "\n",
        "approx_15 = GPGO_multi(surrogate_approx_15, Acquisition_new(util_grad_approx), objfunc, param)\n",
        "approx_15.run(init_evals=n_init, max_iter=iters)\n"
      ],
      "execution_count": 27,
      "outputs": [
        {
          "output_type": "stream",
          "name": "stdout",
          "text": [
            "Evaluation \t Proposed point \t  Current eval. \t  Best eval. \t         Max AcqFunc.\n",
            "init\t [ 6.97635395 -6.4220815  -8.91273571]\t -93407.31094956005\t -3815.237318891498\t    \n",
            "init\t [-2.76923108 -4.49198143  0.6000045 ]\t -3815.237318891498\t -3815.237318891498\t    \n",
            "init\t [-3.88162169 -3.91051282 -7.76517448]\t -48905.136415868226\t -3815.237318891498\t    \n",
            "init\t [-5.00201972  8.35259796 -4.71706293]\t -45736.265979350435\t -3815.237318891498\t    \n",
            "init\t [4.35547375 7.31430068 6.14158964]\t -35004.84714820178\t -3815.237318891498\t    \n",
            "\u001b[1m\u001b[92m1\u001b[0m\t \u001b[1m\u001b[92m[-4.02002687  0.75490439  3.31255076]\u001b[0m\t \u001b[1m\u001b[92m-1425.6331932181074\u001b[0m\t \u001b[1m\u001b[92m-1425.6331932181074\u001b[0m\t \u001b[1m\u001b[92m-0.7978846605384292\u001b[0m\n",
            "2  \t [ 2.60405856  6.24027381 -8.67997755]\t -73928.10815893668\t -1425.6331932181074\t -0.7978846605384292\n",
            "3  \t [-8.34831929 -8.92943781  6.10252726]\t -77285.42186452134\t -1425.6331932181074\t -0.7978846605384292\n",
            "4  \t [ 5.05406978 -4.8669869   5.11668062]\t -13423.651465814419\t -1425.6331932181074\t -0.7978846605384292\n",
            "5  \t [ 9.6912661   3.58725193 -5.40327777]\t -9600.747023774824\t -1425.6331932181074\t -0.7978846605384292\n",
            "\u001b[1m\u001b[92m6\u001b[0m\t \u001b[1m\u001b[92m[-9.79351252 -2.51545841 -0.23562792]\u001b[0m\t \u001b[1m\u001b[92m-1145.0724111700745\u001b[0m\t \u001b[1m\u001b[92m-1145.0724111700745\u001b[0m\t \u001b[1m\u001b[92m-0.7978846605377362\u001b[0m\n",
            "7  \t [-8.19638088  7.14691904  8.96231951]\t -95126.48688189717\t -1145.0724111700745\t -0.7978846605384292\n",
            "8  \t [-3.08837217 -3.46510966  9.26671702]\t -93580.57833612316\t -1145.0724111700745\t -0.7978846605187478\n",
            "9  \t [ 4.223123    8.63767022 -1.17549929]\t -42161.33369318762\t -1145.0724111700745\t -0.7978846601873038\n",
            "10 \t [ 3.88893442 -8.06801926 -1.99385928]\t -32679.999648494555\t -1145.0724111700745\t -0.7978846604551233\n",
            "\u001b[1m\u001b[92m11\u001b[0m\t \u001b[1m\u001b[92m[9.26788323 0.19867902 1.49773466]\u001b[0m\t \u001b[1m\u001b[92m-292.3851238079286\u001b[0m\t \u001b[1m\u001b[92m-292.3851238079286\u001b[0m\t \u001b[1m\u001b[92m-0.7978846605061435\u001b[0m\n",
            "12 \t [-3.1640906   7.88786526  2.87351484]\t -32804.57261390649\t -292.3851238079286\t -0.7978846601573572\n",
            "13 \t [-8.99232293  2.92692402 -4.64560734]\t -6321.898150956401\t -292.3851238079286\t -0.7978846605384292\n",
            "14 \t [9.32495946 3.2087539  9.94005148]\t -113697.86166331421\t -292.3851238079286\t -0.7978846605371825\n",
            "15 \t [-3.29288774 -9.63977773 -3.80219281]\t -76027.99784180186\t -292.3851238079286\t -0.7978846454755678\n",
            "16 \t [ 4.81461418 -7.29473321  9.89181899]\t -144280.3218848312\t -292.3851238079286\t -0.7978846605384292\n",
            "\u001b[1m\u001b[92m17\u001b[0m\t \u001b[1m\u001b[92m[ 4.38078472  1.54881924 -2.00034246]\u001b[0m\t \u001b[1m\u001b[92m-136.73658943231862\u001b[0m\t \u001b[1m\u001b[92m-136.73658943231862\u001b[0m\t \u001b[1m\u001b[92m-0.7978834572994389\u001b[0m\n",
            "18 \t [-3.174519    0.81752231  7.37357542]\t -34999.41291503981\t -136.73658943231862\t -0.7978846605384292\n",
            "19 \t [ 8.35445953 10.         -8.14320012]\t -118619.62123209529\t -136.73658943231862\t -0.7978837334320653\n",
            "20 \t [-10.           2.60710392   3.56673959]\t -2798.822376832842\t -136.73658943231862\t -0.7978831149144923\n",
            "21 \t [-10.          -1.37095611   9.70045524]\t -108308.40733802199\t -136.73658943231862\t -0.7978845540983385\n",
            "22 \t [ 9.46980286 -5.54130539 -3.5905663 ]\t -8411.635235943317\t -136.73658943231862\t -0.797884660536516\n",
            "23 \t [-9.40699837 -8.37545348 -6.78482997]\t -75197.10867678223\t -136.73658943231862\t -0.7978838142739262\n",
            "24 \t [-0.21932732  1.76975736 -4.50663255]\t -4613.457388893084\t -136.73658943231862\t -0.7978846605384292\n",
            "25 \t [9.78031818 5.49542041 3.30637543]\t -6005.469270998181\t -136.73658943231862\t -0.7978846605384292\n",
            "26 \t [-10.          -1.92772753 -10.        ]\t -123053.18928904133\t -136.73658943231862\t -0.7978835242333995\n",
            "27 \t [-10.           7.79136423  -9.30411252]\t -116672.14019348077\t -136.73658943231862\t -0.7978835344199204\n",
            "28 \t [-10.           8.93605049   2.3785568 ]\t -57738.22988960953\t -136.73658943231862\t -0.7978833045987805\n",
            "29 \t [-3.92897659  3.710156   -9.56747144]\t -98516.80441209278\t -136.73658943231862\t -0.7978827604242461\n",
            "30 \t [ 9.92594599 -9.51455151  5.57708263]\t -74081.11508268949\t -136.73658943231862\t -0.797883637890511\n"
          ]
        }
      ]
    },
    {
      "cell_type": "code",
      "metadata": {
        "colab": {
          "base_uri": "https://localhost:8080/"
        },
        "id": "bGGkhp-kGCw6",
        "outputId": "c77ba602-a9e6-4eef-c6d6-e3698cf62328"
      },
      "source": [
        "### ESTIMATED GP ERM GRADIENTS\n",
        "\n",
        "np.random.seed(run_num_16)\n",
        "surrogate_approx_16 = GaussianProcess(cov_func, optimize=opt)\n",
        "\n",
        "approx_16 = GPGO_multi(surrogate_approx_16, Acquisition_new(util_grad_approx), objfunc, param)\n",
        "approx_16.run(init_evals=n_init, max_iter=iters)\n"
      ],
      "execution_count": 28,
      "outputs": [
        {
          "output_type": "stream",
          "name": "stdout",
          "text": [
            "Evaluation \t Proposed point \t  Current eval. \t  Best eval. \t         Max AcqFunc.\n",
            "init\t [-5.53417842  0.46326683  1.01402913]\t -121.43529547027163\t -121.43529547027163\t    \n",
            "init\t [-9.087961   -2.78542329 -5.53838117]\t -13651.622350397936\t -121.43529547027163\t    \n",
            "init\t [ 3.77452324 -6.7253715  -8.59350266]\t -86575.28663542298\t -121.43529547027163\t    \n",
            "init\t [ 8.8202172   1.2736276  -8.44015321]\t -59934.59518842736\t -121.43529547027163\t    \n",
            "init\t [ 4.45281022 -6.83095653 -4.99437387]\t -25459.039011491368\t -121.43529547027163\t    \n",
            "1  \t [4.18505664 9.44091052 6.20078235]\t -74267.36337655598\t -121.43529547027163\t -0.7978846605384292\n",
            "2  \t [ 5.46645324 -3.10791558  7.00820468]\t -31211.732976445848\t -121.43529547027163\t -0.7978846605384292\n",
            "3  \t [-7.02365822  9.22395096  6.80716026]\t -83746.44219511922\t -121.43529547027163\t -0.7978846605384292\n",
            "4  \t [-2.61755868 -8.2924165   4.84857415]\t -48472.3424987587\t -121.43529547027163\t -0.7978846605384292\n",
            "5  \t [-3.40441603  9.0441433  -4.42822156]\t -58527.14818017682\t -121.43529547027163\t -0.7978846605384292\n",
            "6  \t [-4.76910692 -9.87015087 -4.11042801]\t -85439.62963292008\t -121.43529547027163\t -0.7978846605370454\n",
            "7  \t [-7.92323047 -1.59321032  9.84617866]\t -115063.9149436472\t -121.43529547027163\t -0.7978846605384292\n",
            "8  \t [1.64592968 3.95024291 0.10559626]\t -1794.6345031550625\t -121.43529547027163\t -0.7978846605329584\n",
            "9  \t [ 4.59095304  8.93102522 -9.48029099]\t -135562.14140581357\t -121.43529547027163\t -0.7978846605382178\n",
            "10 \t [ 9.98852149 -7.93099291 -5.611128  ]\t -41986.637450421564\t -121.43529547027163\t -0.7978846605384292\n",
            "11 \t [-9.64442768 -5.12694362  2.33258491]\t -8623.697730678545\t -121.43529547027163\t -0.7978846600130965\n",
            "12 \t [-0.4520892   1.80344164  6.43567321]\t -19797.62458418604\t -121.43529547027163\t -0.797884649709039\n",
            "13 \t [ 0.92740386  0.10886049 -7.53447757]\t -38599.265978728814\t -121.43529547027163\t -0.7978846449090096\n",
            "14 \t [ 8.3754306   6.29744307 -2.31073332]\t -10176.999628556845\t -121.43529547027163\t -0.7978846599949938\n",
            "15 \t [ -4.1067557    5.05589322 -10.        ]\t -120136.59087505259\t -121.43529547027163\t -0.7978839241582979\n",
            "16 \t [-10.          10.           0.64198501]\t -88573.5809885907\t -121.43529547027163\t -0.7978836304455178\n",
            "17 \t [ 5.45929004 -9.15775009 10.        ]\t -183923.5491112368\t -121.43529547027163\t -0.7978836584652342\n",
            "18 \t [ 6.16453531 -9.68598445  2.92485284]\t -68044.8839016422\t -121.43529547027163\t -0.7978842391351213\n",
            "19 \t [7.72977009 0.6486003  1.88224405]\t -264.4982544983567\t -121.43529547027163\t -0.7978835965917545\n",
            "20 \t [ 0.92193097 -2.25867667 -0.08469712]\t -187.79142573237812\t -121.43529547027163\t -0.7978832149483538\n",
            "21 \t [-9.97111269  6.45263102 -6.52209008]\t -36053.83570606794\t -121.43529547027163\t -0.7978837245347535\n",
            "22 \t [-9.30305023 -8.79459984 -9.19235042]\t -148724.85519493133\t -121.43529547027163\t -0.7978835847177732\n",
            "23 \t [-8.20260538 -9.47655742  9.8984399 ]\t -197242.39770505737\t -121.43529547027163\t -0.797884656716957\n",
            "24 \t [ -3.97893754  -4.18351008 -10.        ]\t -128136.77012481357\t -121.43529547027163\t -0.797883802714525\n",
            "25 \t [ 8.64870385  5.99017424 10.        ]\t -120945.11598982282\t -121.43529547027163\t -0.797882992328068\n",
            "26 \t [-9.7136386   3.67327427  3.49783788]\t -4105.971437528551\t -121.43529547027163\t -0.7978821542488235\n",
            "27 \t [-1.79488615  8.69444178  2.3362095 ]\t -46829.3060380029\t -121.43529547027163\t -0.7978818276253711\n",
            "28 \t [-0.77629241 -3.99077031  9.93873105]\t -123996.63917253139\t -121.43529547027163\t -0.7978833731110272\n",
            "29 \t [10.         -4.67336779  0.28207619]\t -2419.8427588633313\t -121.43529547027163\t -0.7978810177851196\n",
            "30 \t [-1.17657056  7.32010381 10.        ]\t -134858.38711125834\t -121.43529547027163\t -0.7978814152690122\n"
          ]
        }
      ]
    },
    {
      "cell_type": "code",
      "metadata": {
        "id": "Yrs2mp7hGC1Z",
        "colab": {
          "base_uri": "https://localhost:8080/"
        },
        "outputId": "d01855af-5994-4ab5-e8ad-5fabfac687de"
      },
      "source": [
        "### ESTIMATED GP ERM GRADIENTS\n",
        "\n",
        "np.random.seed(run_num_17)\n",
        "surrogate_approx_17 = GaussianProcess(cov_func, optimize=opt)\n",
        "\n",
        "approx_17 = GPGO_multi(surrogate_approx_17, Acquisition_new(util_grad_approx), objfunc, param)\n",
        "approx_17.run(init_evals=n_init, max_iter=iters)\n"
      ],
      "execution_count": 29,
      "outputs": [
        {
          "output_type": "stream",
          "name": "stdout",
          "text": [
            "Evaluation \t Proposed point \t  Current eval. \t  Best eval. \t         Max AcqFunc.\n",
            "init\t [-4.10669995  0.61173511 -6.16958426]\t -17181.1334683022\t -11774.913131399897\t    \n",
            "init\t [-8.64199284  5.7397092   3.12667044]\t -11774.913131399897\t -11774.913131399897\t    \n",
            "init\t [ 2.75041792  1.51205788 -9.21874168]\t -85144.34017448343\t -11774.913131399897\t    \n",
            "init\t [-2.84372791  8.91366374 -8.79910639]\t -116232.21251957516\t -11774.913131399897\t    \n",
            "init\t [ 7.28084207  7.54581052 -8.97612669]\t -93540.66819534874\t -11774.913131399897\t    \n",
            "1  \t [ 3.53524771 -7.6305547  -1.10007868]\t -25809.301647344466\t -11774.913131399897\t -0.7978846605384292\n",
            "\u001b[1m\u001b[92m2\u001b[0m\t \u001b[1m\u001b[92m[9.06605384 1.70871417 1.66132937]\u001b[0m\t \u001b[1m\u001b[92m-129.46210636737467\u001b[0m\t \u001b[1m\u001b[92m-129.46210636737467\u001b[0m\t \u001b[1m\u001b[92m-0.7978846605384292\u001b[0m\n",
            "3  \t [5.27601463 9.99566767 6.35850193]\t -90783.98305117982\t -129.46210636737467\t -0.7978846605384292\n",
            "4  \t [-8.52512993 -8.03930931 -1.75006035]\t -38662.67579605237\t -129.46210636737467\t -0.7978846605384292\n",
            "\u001b[1m\u001b[92m5\u001b[0m\t \u001b[1m\u001b[92m[0.15625771 0.16541122 1.58122263]\u001b[0m\t \u001b[1m\u001b[92m-70.86764058592647\u001b[0m\t \u001b[1m\u001b[92m-70.86764058592647\u001b[0m\t \u001b[1m\u001b[92m-0.7978846605384292\u001b[0m\n",
            "6  \t [0.77793961 2.17142302 2.23437955]\t -332.9224565238143\t -70.86764058592647\t -0.7978846605384292\n",
            "7  \t [ 0.13839331  9.60062916 -0.44443027]\t -68118.50039861984\t -70.86764058592647\t -0.7978846605328404\n",
            "8  \t [-6.17878165 -8.81449665  8.90115876]\t -136204.46206638045\t -70.86764058592647\t -0.7978846605384292\n",
            "9  \t [-2.36763685  6.17071527  9.14813568]\t -90305.27136910231\t -70.86764058592647\t -0.797884660538256\n",
            "10 \t [-3.26691993 -8.47611685 -8.60217547]\t -116659.8446216239\t -70.86764058592647\t -0.7978846605378737\n",
            "11 \t [9.00876915 0.79791433 2.81059692]\t -858.903901979533\t -70.86764058592647\t -0.7978846605384292\n",
            "12 \t [ 9.1546608   3.11738526 -0.11617111]\t -306.5694387578185\t -70.86764058592647\t -0.9342432687267084\n",
            "13 \t [ 8.75512142 -9.27101119  6.32186279]\t -77166.27358383928\t -70.86764058592647\t -0.797884660538427\n",
            "14 \t [-9.68339094  4.15935608 -9.90703575]\t -114788.85760041163\t -70.86764058592647\t -0.7978846592258929\n",
            "15 \t [-7.03928089 -0.49612511  0.59634299]\t -182.45212738520937\t -70.86764058592647\t -0.797884537417453\n",
            "16 \t [ 2.14167464 -8.42465108  7.96041291]\t -93899.24127724543\t -70.86764058592647\t -0.7978835403957484\n",
            "17 \t [10.        -3.2721661 -6.739806 ]\t -26918.494624041286\t -70.86764058592647\t -0.7978846605383884\n",
            "18 \t [-6.69253349  0.32693609  8.96280627]\t -77278.29189538797\t -70.86764058592647\t -0.7978845865826106\n",
            "19 \t [ 3.3032007  -6.19830015 -8.30337393]\t -73106.06992879263\t -70.86764058592647\t -0.7978837601994132\n",
            "20 \t [-9.89390416 -6.47946934 -8.53495465]\t -87205.89846693065\t -70.86764058592647\t -0.7978833945564668\n",
            "21 \t [-9.08107827  9.62586846 -3.33139286]\t -76155.10685998733\t -70.86764058592647\t -0.7978846592758302\n",
            "22 \t [10.          4.99971967  7.74134319]\t -42856.542055598366\t -70.86764058592647\t -0.7978840858084321\n",
            "23 \t [4.01451679 1.84479452 8.38499832]\t -57797.34831529516\t -70.86764058592647\t -0.7978845776669715\n",
            "24 \t [ 9.99687092 -6.1754103  -0.03805232]\t -8980.08048219702\t -70.86764058592647\t -0.7978834281024095\n",
            "25 \t [ 9.21240756 -9.78040582 -8.44644368]\t -136125.39590362483\t -70.86764058592647\t -0.7978836507963981\n",
            "26 \t [-2.45825327 -4.35824758 -1.95445532]\t -3715.7212951541874\t -70.86764058592647\t -0.7978834915017471\n",
            "27 \t [ 9.78294655  9.39434954 -0.62599416]\t -55893.79257179702\t -70.86764058592647\t -0.7978845064737881\n",
            "28 \t [ 9.40629155 -2.73216905  8.04624389]\t -52575.087903257234\t -70.86764058592647\t -0.7978832514977614\n",
            "29 \t [-10.          -4.64343415   4.10283871]\t -10168.067553879198\t -70.86764058592647\t -0.7978840237442092\n",
            "30 \t [-3.0050393  -9.7720843   1.33268563]\t -75814.66892124768\t -70.86764058592647\t -0.797882885232989\n"
          ]
        }
      ]
    },
    {
      "cell_type": "code",
      "metadata": {
        "id": "f0HIEP3PIUEa",
        "colab": {
          "base_uri": "https://localhost:8080/"
        },
        "outputId": "73e8ef22-5b93-42a1-efcc-65162f2fd850"
      },
      "source": [
        "### ESTIMATED GP ERM GRADIENTS\n",
        "\n",
        "np.random.seed(run_num_18)\n",
        "surrogate_approx_18 = GaussianProcess(cov_func, optimize=opt)\n",
        "\n",
        "approx_18 = GPGO_multi(surrogate_approx_18, Acquisition_new(util_grad_approx), objfunc, param)\n",
        "approx_18.run(init_evals=n_init, max_iter=iters)\n"
      ],
      "execution_count": 30,
      "outputs": [
        {
          "output_type": "stream",
          "name": "stdout",
          "text": [
            "Evaluation \t Proposed point \t  Current eval. \t  Best eval. \t         Max AcqFunc.\n",
            "init\t [3.00748483 0.10906747 7.57202942]\t -39395.322047969305\t -27664.83628190573\t    \n",
            "init\t [-6.36319549  7.04466137  5.00272572]\t -27913.961335277138\t -27664.83628190573\t    \n",
            "init\t [ 3.32203335  9.75790897 -4.86063155]\t -74244.15287271979\t -27664.83628190573\t    \n",
            "init\t [-9.43388149  2.71438231  6.94624775]\t -27664.83628190573\t -27664.83628190573\t    \n",
            "init\t [ 4.7234925  -9.58385776 -7.76793739]\t -114986.86534587143\t -27664.83628190573\t    \n",
            "\u001b[1m\u001b[92m1\u001b[0m\t \u001b[1m\u001b[92m[-3.60627759 -4.12128051 -3.96163645]\u001b[0m\t \u001b[1m\u001b[92m-6628.123996844119\u001b[0m\t \u001b[1m\u001b[92m-6628.123996844119\u001b[0m\t \u001b[1m\u001b[92m-0.7978846605384292\u001b[0m\n",
            "2  \t [5.67048604 7.63464912 6.38781301]\t -41038.069289207284\t -6628.123996844119\t -0.7978846605384292\n",
            "\u001b[1m\u001b[92m3\u001b[0m\t \u001b[1m\u001b[92m[ 8.98418483 -5.51984113  1.59973658]\u001b[0m\t \u001b[1m\u001b[92m-5801.508998849156\u001b[0m\t \u001b[1m\u001b[92m-5801.508998849156\u001b[0m\t \u001b[1m\u001b[92m-0.7978846605384292\u001b[0m\n",
            "4  \t [-9.82664426 -9.19265651  7.01964259]\t -98908.14619333696\t -5801.508998849156\t -0.7978846605384292\n",
            "5  \t [ 5.61099687  3.24280582 -9.3946128 ]\t -90569.20808162971\t -5801.508998849156\t -0.7978846605384292\n",
            "6  \t [-8.41638891  3.62928904 -8.37899504]\t -58636.25217955298\t -5801.508998849156\t -0.7978846605384292\n",
            "7  \t [4.76859313 6.53506599 3.93926051]\t -14822.442752768635\t -5801.508998849156\t -0.7978846605384292\n",
            "\u001b[1m\u001b[92m8\u001b[0m\t \u001b[1m\u001b[92m[-2.48970949 -2.08372282  3.35998783]\u001b[0m\t \u001b[1m\u001b[92m-2086.6278426367617\u001b[0m\t \u001b[1m\u001b[92m-2086.6278426367617\u001b[0m\t \u001b[1m\u001b[92m-0.7978846605384292\u001b[0m\n",
            "9  \t [ 3.71365718 -8.30950362  9.62379831]\t -148502.84162938045\t -2086.6278426367617\t -0.797884660538048\n",
            "\u001b[1m\u001b[92m10\u001b[0m\t \u001b[1m\u001b[92m[ 2.92137472 -0.4709081  -3.24508242]\u001b[0m\t \u001b[1m\u001b[92m-1406.8560066347598\u001b[0m\t \u001b[1m\u001b[92m-1406.8560066347598\u001b[0m\t \u001b[1m\u001b[92m-0.7978846558434517\u001b[0m\n",
            "11 \t [-9.86973108 -9.49362916 -9.87083803]\t -197704.91270806122\t -1406.8560066347598\t -0.7978846605384292\n",
            "12 \t [-4.74409325  9.6660462  -2.60459944]\t -73506.67877916363\t -1406.8560066347598\t -0.797884660511183\n",
            "13 \t [ 9.33197039 -3.0654831  -6.27616745]\t -20344.818102039768\t -1406.8560066347598\t -0.7978846598586898\n",
            "14 \t [10.         -3.25357494  7.81560095]\t -47521.74454869945\t -1406.8560066347598\t -0.7978843891315767\n",
            "15 \t [-9.93581462 -8.88515324 -1.9323835 ]\t -57254.17065227144\t -1406.8560066347598\t -0.7978846596857413\n",
            "16 \t [ 2.58947372 -7.82568261  2.71145391]\t -30274.01289676635\t -1406.8560066347598\t -0.7978838485809826\n",
            "17 \t [-0.92551901  3.97319188  0.75937478]\t -2139.8064333774396\t -1406.8560066347598\t -0.7978845148036814\n",
            "\u001b[1m\u001b[92m18\u001b[0m\t \u001b[1m\u001b[92m[9.68463965 2.59740902 0.10139207]\u001b[0m\t \u001b[1m\u001b[92m-124.35164893950112\u001b[0m\t \u001b[1m\u001b[92m-124.35164893950112\u001b[0m\t \u001b[1m\u001b[92m-0.7978846549802351\u001b[0m\n",
            "19 \t [-9.43019117 -2.6718641   2.89951111]\t -2372.0537727142673\t -124.35164893950112\t -0.7978836797304756\n",
            "20 \t [ 10.  10. -10.]\t -180581.0\t -124.35164893950112\t -0.7978846603810834\n",
            "21 \t [-3.31863144  8.32380192 -9.23633833]\t -119304.2501163997\t -124.35164893950112\t -0.7978835205456186\n",
            "22 \t [-2.56406472 -3.4018797   9.81001491]\t -116435.3260053825\t -124.35164893950112\t -0.7978841502808501\n",
            "23 \t [-1.63510891  1.58703716 -9.69232495]\t -104213.79182404895\t -124.35164893950112\t -0.7978836493631768\n",
            "24 \t [-6.88077678  1.0698996  -1.6554488 ]\t -288.6638258717974\t -124.35164893950112\t -0.7978832040743263\n",
            "25 \t [ 1.72678464 -2.19871603 -7.31861314]\t -35981.17408295852\t -124.35164893950112\t -0.7978846605384292\n",
            "26 \t [ -3.27667314 -10.          -7.45032472]\t -126594.75773170122\t -124.35164893950112\t -0.797883703172537\n",
            "27 \t [ -4.08355729 -10.           1.35357356]\t -83886.18042156904\t -124.35164893950112\t -0.7978833287401942\n",
            "28 \t [-2.18610617  4.78776398 10.        ]\t -118947.64753198385\t -124.35164893950112\t -0.7978843119238513\n",
            "29 \t [ -5.94103699  -3.79597188 -10.        ]\t -127063.06569726019\t -124.35164893950112\t -0.797880119870611\n",
            "30 \t [ 9.99356598  9.10469246 -2.76442605]\t -48741.02674428772\t -124.35164893950112\t -0.7978841704396163\n"
          ]
        }
      ]
    },
    {
      "cell_type": "code",
      "metadata": {
        "id": "S3mxRQDLIUPC",
        "colab": {
          "base_uri": "https://localhost:8080/"
        },
        "outputId": "d2b0a496-33d6-4538-e635-65e680d0896b"
      },
      "source": [
        "### ESTIMATED GP ERM GRADIENTS\n",
        "\n",
        "np.random.seed(run_num_19)\n",
        "surrogate_approx_19 = GaussianProcess(cov_func, optimize=opt)\n",
        "\n",
        "approx_19 = GPGO_multi(surrogate_approx_19, Acquisition_new(util_grad_approx), objfunc, param)\n",
        "approx_19.run(init_evals=n_init, max_iter=iters)\n"
      ],
      "execution_count": 31,
      "outputs": [
        {
          "output_type": "stream",
          "name": "stdout",
          "text": [
            "Evaluation \t Proposed point \t  Current eval. \t  Best eval. \t         Max AcqFunc.\n",
            "init\t [-8.04932797  5.22499433 -5.06124054]\t -14282.07020620917\t -7826.389573301183\t    \n",
            "init\t [-7.23736625 -3.37106873 -8.3400087 ]\t -62767.56440733103\t -7826.389573301183\t    \n",
            "init\t [3.43954163 6.13187596 9.65483829]\t -107829.21541670273\t -7826.389573301183\t    \n",
            "init\t [ 2.7132147  -5.68153488  0.98054864]\t -7826.389573301183\t -7826.389573301183\t    \n",
            "init\t [ 0.91119916 -5.31847854 -7.72548314]\t -52835.14449570301\t -7826.389573301183\t    \n",
            "\u001b[1m\u001b[92m1\u001b[0m\t \u001b[1m\u001b[92m[-8.70426449  3.79716958  1.04335667]\u001b[0m\t \u001b[1m\u001b[92m-2920.737921781948\u001b[0m\t \u001b[1m\u001b[92m-2920.737921781948\u001b[0m\t \u001b[1m\u001b[92m-0.7978846605384292\u001b[0m\n",
            "2  \t [-8.35936332 -7.87340876  5.68625832]\t -50901.97248850908\t -2920.737921781948\t -0.7978846605384292\n",
            "3  \t [-5.92264612  1.94070459  8.81541711]\t -71080.60419246902\t -2920.737921781948\t -0.7978846605384292\n",
            "4  \t [ 9.93826046 -7.57727549 -3.12538868]\t -24289.940560273273\t -2920.737921781948\t -0.7978846605384292\n",
            "\u001b[1m\u001b[92m5\u001b[0m\t \u001b[1m\u001b[92m[4.34392457 2.27346638 1.2612486 ]\u001b[0m\t \u001b[1m\u001b[92m-85.49645374375444\u001b[0m\t \u001b[1m\u001b[92m-85.49645374375444\u001b[0m\t \u001b[1m\u001b[92m-0.7978846605384292\u001b[0m\n",
            "6  \t [ 5.5876491   5.45071419 -7.23538285]\t -35369.18659529574\t -85.49645374375444\t -0.7978846605384292\n",
            "7  \t [8.88477717 1.65383617 9.09628062]\t -80607.08552314134\t -85.49645374375444\t -0.7978846605384292\n",
            "8  \t [-1.21815419  9.44528432 -0.09986763]\t -64816.04428405123\t -85.49645374375444\t -0.7978846605384291\n",
            "9  \t [-0.88364342 -0.53896298  9.12024958]\t -83571.53151095378\t -85.49645374375444\t -0.7978846605384292\n",
            "10 \t [ 3.35389857 -9.96203876  9.07194342]\t -167573.4372796627\t -85.49645374375444\t -0.7978846605384282\n",
            "11 \t [-0.82658611  0.86505746 -3.68328665]\t -2084.1773688952567\t -85.49645374375444\t -0.7978846605383929\n",
            "12 \t [ 0.19609949  8.62619954 -7.40348118]\t -74781.44337676886\t -85.49645374375444\t -0.7978846605384292\n",
            "13 \t [-7.58121334  9.18213727  8.05424112]\t -105773.44328562071\t -85.49645374375444\t -0.7978846605366241\n",
            "14 \t [-5.17468477 -2.83011413  6.02324483]\t -17987.015019169336\t -85.49645374375444\t -0.7978846605384292\n",
            "15 \t [10.         -4.89767172  5.19584581]\t -13369.6618836924\t -85.49645374375444\t -0.7978846579658129\n",
            "16 \t [ 9.02147784  2.6853713  -8.65516215]\t -65071.71602536134\t -85.49645374375444\t -0.7978846605384292\n",
            "17 \t [-5.08300326 -1.1010475  -5.07909516]\t -8480.166872631129\t -85.49645374375444\t -0.7978846605384292\n",
            "18 \t [1.9799272  3.81156677 6.02897636]\t -15702.85164015473\t -85.49645374375444\t -0.7978846605384292\n",
            "19 \t [-7.45233836 -7.0498697  -2.77159179]\t -24413.922608466655\t -85.49645374375444\t -0.7978846605384292\n",
            "20 \t [5.85399307 8.46132843 0.51499492]\t -37933.60369042322\t -85.49645374375444\t -0.7978846605384292\n",
            "21 \t [-4.28693564 -9.97871703 -7.92970174]\t -138076.0637423715\t -85.49645374375444\t -0.7978833290739422\n",
            "22 \t [ 6.6389313  -8.47358486 -9.50302388]\t -144813.65816089002\t -85.49645374375444\t -0.7978832247689273\n",
            "23 \t [ 0.08495595  2.16024693 -9.90515872]\t -113154.51734703034\t -85.49645374375444\t -0.7978831010663421\n",
            "24 \t [ -6.60685597  10.         -10.        ]\t -193730.65012428843\t -85.49645374375444\t -0.7978845669058221\n",
            "25 \t [ 8.39206768 10.          6.51374381]\t -90292.87540942352\t -85.49645374375444\t -0.797882365751125\n",
            "26 \t [9.82836327 0.91695841 0.31175824]\t -212.2450030543508\t -85.49645374375444\t -0.7978830638443443\n",
            "27 \t [-10.          -2.62436495   1.41030979]\t -1382.2331587239576\t -85.49645374375444\t -0.7978809198637652\n",
            "28 \t [ -1.35915109 -10.           3.77014233]\t -85526.7022459693\t -85.49645374375444\t -0.7978832676832348\n",
            "29 \t [ 6.41998413 -1.83970321 -4.32386598]\t -4646.913348005206\t -85.49645374375444\t -0.7978824601617404\n",
            "30 \t [-8.53499656 10.          1.25663509]\t -87205.03381328362\t -85.49645374375444\t -0.7978804277226769\n"
          ]
        }
      ]
    },
    {
      "cell_type": "code",
      "metadata": {
        "id": "Aawd59dRIUYn",
        "colab": {
          "base_uri": "https://localhost:8080/"
        },
        "outputId": "31f3cade-4a42-460e-80f6-6b64f94e435f"
      },
      "source": [
        "### ESTIMATED GP ERM GRADIENTS\n",
        "\n",
        "np.random.seed(run_num_20)\n",
        "surrogate_approx_20 = GaussianProcess(cov_func, optimize=opt)\n",
        "\n",
        "approx_20 = GPGO_multi(surrogate_approx_20, Acquisition_new(util_grad_approx), objfunc, param)\n",
        "approx_20.run(init_evals=n_init, max_iter=iters)\n"
      ],
      "execution_count": 32,
      "outputs": [
        {
          "output_type": "stream",
          "name": "stdout",
          "text": [
            "Evaluation \t Proposed point \t  Current eval. \t  Best eval. \t         Max AcqFunc.\n",
            "init\t [1.76261602 7.95427456 7.83061459]\t -70596.27231718504\t -1177.4786310520467\t    \n",
            "init\t [ 6.31674955 -9.28220829  3.83515164]\t -59634.45116383437\t -1177.4786310520467\t    \n",
            "init\t [-2.42638116  0.37021891  3.15902931]\t -1177.4786310520467\t -1177.4786310520467\t    \n",
            "init\t [-6.12299564 -4.55367196  4.37211867]\t -10072.821243906226\t -1177.4786310520467\t    \n",
            "init\t [5.66007219 7.0065528  5.50489788]\t -25762.190938183892\t -1177.4786310520467\t    \n",
            "1  \t [ 3.58822235  3.01571828 -4.62409523]\t -5172.971057172382\t -1177.4786310520467\t -0.7978846605384292\n",
            "2  \t [ 6.90281047 -9.84449703 -8.45927451]\t -140110.25172511325\t -1177.4786310520467\t -0.7978846605384292\n",
            "3  \t [-2.02505955 -3.84087805 -8.90073734]\t -81008.7373034749\t -1177.4786310520467\t -0.7978846605384292\n",
            "4  \t [-9.03422809  7.69291444  7.37966897]\t -63300.39318700283\t -1177.4786310520467\t -0.7978846605384292\n",
            "5  \t [-9.70727522  2.71787205 -3.8499178 ]\t -3488.2839642564004\t -1177.4786310520467\t -0.7978846605384292\n",
            "6  \t [-8.69662192 -5.40442584 -4.78410848]\t -16960.255155860745\t -1177.4786310520467\t -0.7978846602673467\n",
            "7  \t [ 3.4937907  -2.5103687   9.37110948]\t -95379.93666021542\t -1177.4786310520467\t -0.797884660538422\n",
            "8  \t [-2.46871542  9.76065736 -3.02050331]\t -74733.47554640117\t -1177.4786310520467\t -0.7978846605384287\n",
            "9  \t [ 9.64468651  7.21321542 -9.95696397]\t -127425.73651668694\t -1177.4786310520467\t -0.7978846605384278\n",
            "10 \t [-3.52149428 -8.89742927  7.42875864]\t -95087.52343618331\t -1177.4786310520467\t -0.7978846605384292\n",
            "11 \t [  7.31075564  -1.17867805 -10.        ]\t -121499.48867019525\t -1177.4786310520467\t -0.7978846604353189\n",
            "12 \t [ 0.2329041  -7.1824994  -2.30718206]\t -22148.980776170505\t -1177.4786310520467\t -0.7978846583798997\n",
            "13 \t [ 9.08739541 -6.14145879 -2.17857457]\t -9602.673990961235\t -1177.4786310520467\t -0.7978846188573718\n",
            "14 \t [ 9.59685045  8.83742447 -0.69841768]\t -43244.382355533104\t -1177.4786310520467\t -0.7978846582499504\n",
            "\u001b[1m\u001b[92m15\u001b[0m\t \u001b[1m\u001b[92m[ 6.01948828 -0.81747318  1.49668204]\u001b[0m\t \u001b[1m\u001b[92m-153.2488539686656\u001b[0m\t \u001b[1m\u001b[92m-153.2488539686656\u001b[0m\t \u001b[1m\u001b[92m-0.7978846424942306\u001b[0m\n",
            "16 \t [1.30224685 5.27239682 1.65100012]\t -5895.884042361342\t -153.2488539686656\t -0.7978846605384292\n",
            "17 \t [-10.          10.          -1.02739303]\t -88507.70551269679\t -153.2488539686656\t -0.797884659289015\n",
            "18 \t [-7.79686959  9.40311462 -9.27805181]\t -147730.60879192402\t -153.2488539686656\t -0.7978846604980254\n",
            "19 \t [9.08772399 1.26104414 5.17160201]\t -8319.087124944044\t -153.2488539686656\t -0.7978846605384292\n",
            "20 \t [-9.45892663 -9.06281999  1.02638715]\t -60846.75133493994\t -153.2488539686656\t -0.7978831007044594\n",
            "21 \t [-4.01267326 -0.66102845  9.2759268 ]\t -89597.11466569938\t -153.2488539686656\t -0.797883453999186\n",
            "22 \t [-10.          -1.55371223 -10.        ]\t -122432.43848904992\t -153.2488539686656\t -0.7978833078306706\n",
            "23 \t [ 3.03726448 -9.75356229  9.84911959]\t -194670.9687474845\t -153.2488539686656\t -0.7978833183114947\n",
            "24 \t [-1.46569186  3.07210163 -8.85595767]\t -71782.05406915408\t -153.2488539686656\t -0.7978834607885452\n",
            "25 \t [-5.12741081 -0.22289357 -5.33866039]\t -9916.451236451672\t -153.2488539686656\t -0.797884660538424\n",
            "26 \t [-5.16467924 -9.91351271 -9.73609075]\t -200816.5266209807\t -153.2488539686656\t -0.7978836433391626\n",
            "27 \t [-4.32384266  6.26033035  1.14573172]\t -13748.981244274537\t -153.2488539686656\t -0.7978846605384292\n",
            "28 \t [ 9.94922623  1.41562565 -4.13539598]\t -3375.7208933450474\t -153.2488539686656\t -0.7978830395956582\n",
            "29 \t [10.         -5.63446375  8.68368545]\t -79231.51982971947\t -153.2488539686656\t -0.7978843971615655\n",
            "30 \t [-0.17440378  9.55909063 -9.44192579]\t -152346.23804466348\t -153.2488539686656\t -0.7978846605377125\n"
          ]
        }
      ]
    },
    {
      "cell_type": "code",
      "metadata": {
        "id": "xkgzPRbBTHaq",
        "colab": {
          "base_uri": "https://localhost:8080/"
        },
        "outputId": "7f8e5a9a-6ca4-45f1-fe88-6017c564b76b"
      },
      "source": [
        "end_approx = time.time()\n",
        "end_approx\n",
        "\n",
        "time_approx = end_approx - start_approx\n",
        "time_approx\n",
        "\n",
        "start_exact = time.time()\n",
        "start_exact"
      ],
      "execution_count": 33,
      "outputs": [
        {
          "output_type": "execute_result",
          "data": {
            "text/plain": [
              "1645704495.867212"
            ]
          },
          "metadata": {},
          "execution_count": 33
        }
      ]
    },
    {
      "cell_type": "code",
      "metadata": {
        "id": "7CG3Ndvb16Rb",
        "colab": {
          "base_uri": "https://localhost:8080/"
        },
        "outputId": "656b3547-4faf-4226-ac72-531905e0798d"
      },
      "source": [
        "### EXACT GP ERM GRADIENTS\n",
        "\n",
        "np.random.seed(run_num_1)\n",
        "surrogate_exact_1 = dGaussianProcess(cov_func, optimize=opt)\n",
        "\n",
        "exact_1 = dGPGO(surrogate_exact_1, Acquisition_new(util_grad_exact), objfunc, param)\n",
        "exact_1.run(init_evals=n_init, max_iter=iters)\n"
      ],
      "execution_count": 34,
      "outputs": [
        {
          "output_type": "stream",
          "name": "stdout",
          "text": [
            "Evaluation \t Proposed point \t  Current eval. \t  Best eval. \t         Max AcqFunc.\n",
            "init\t [-1.65955991  4.40648987 -9.9977125 ]\t -117949.69994259246\t -1743.4541121077734\t    \n",
            "init\t [-3.95334855 -7.06488218 -8.1532281 ]\t -80377.19459880023\t -1743.4541121077734\t    \n",
            "init\t [-6.27479577 -3.08878546 -2.06465052]\t -1743.4541121077734\t -1743.4541121077734\t    \n",
            "init\t [ 0.77633468 -1.61610971  3.70439001]\t -2573.2528931184784\t -1743.4541121077734\t    \n",
            "init\t [-5.91095501  7.56234873 -9.45224814]\t -116840.74897847573\t -1743.4541121077734\t    \n",
            "1  \t [-8.03306332 -1.5778475   9.1577906 ]\t -86415.93772353831\t -1743.4541121077734\t -0.7978845607896438\n",
            "2  \t [-5.34051452  6.14210391 -2.24278712]\t -13140.755438034004\t -1743.4541121077734\t -0.7978845607896438\n",
            "3  \t [ 8.37203556 -9.9919595   9.53518298]\t -183648.52554820437\t -1743.4541121077734\t -0.7978845607896438\n",
            "4  \t [-1.07707536  5.6549883   9.80943567]\t -113140.57286302134\t -1743.4541121077734\t -0.7978845607896438\n",
            "5  \t [9.79910357 4.22244918 4.63600818]\t -5922.444680450715\t -1743.4541121077734\t -0.7978845607896438\n",
            "6  \t [ 5.40299913 -7.39328438 -9.54169737]\t -129326.8620412511\t -1743.4541121077734\t -0.7978845607896438\n",
            "7  \t [ 8.85525151  0.35720096 -6.11068381]\t -16781.669881019214\t -1743.4541121077734\t -0.7978845607896228\n",
            "8  \t [ 3.91528429  5.55696954 -1.87034262]\t -6706.695269773627\t -1743.4541121077734\t -0.7978845607860985\n",
            "9  \t [ 9.90104645 -8.83274708  0.3341272 ]\t -43035.435934238885\t -1743.4541121077734\t -0.7978845607896408\n",
            "10 \t [-3.28672398 -8.95374107  2.10233561]\t -54514.91599686387\t -1743.4541121077734\t -0.7978845607606643\n",
            "11 \t [10. 10. 10.]\t -180581.0\t -1743.4541121077734\t -0.7978845607433596\n",
            "12 \t [-7.63614741  6.73995564  4.88271843]\t -24503.926098252065\t -1743.4541121077734\t -0.7978845588917552\n",
            "13 \t [ 9.65179579  8.2747925  -3.05261159]\t -32803.7767092942\t -1743.4541121077734\t -0.7978845607896438\n",
            "14 \t [-9.79655087 -0.19609376 -9.09035709]\t -82447.81014507987\t -1743.4541121077734\t -0.7978845607881319\n",
            "15 \t [10.        -2.0416975 10.       ]\t -122549.07334279164\t -1743.4541121077734\t -0.7978845605809377\n",
            "16 \t [ 6.29698547  9.11823512 -9.28389771]\t -131184.71294919745\t -1743.4541121077734\t -0.7978844842555853\n",
            "17 \t [ 0.92839113 -2.55919092 -5.66005445]\t -13615.568322545905\t -1743.4541121077734\t -0.7978843198052205\n",
            "18 \t [ 3.04045715 -9.24686306 -0.55101391]\t -56722.30427543444\t -1743.4541121077734\t -0.7978833759164488\n",
            "19 \t [-0.99240715  8.70840228 -2.94641345]\t -46841.83303685055\t -1743.4541121077734\t -0.7978845607896438\n",
            "20 \t [ 4.08994396 -5.47809595  6.89976275]\t -36682.04559150421\t -1743.4541121077734\t -0.7978845607510942\n",
            "\u001b[1m\u001b[92m21\u001b[0m\t \u001b[1m\u001b[92m[ 8.39907154 -1.17296509  0.55930968]\u001b[0m\t \u001b[1m\u001b[92m-128.23709968267707\u001b[0m\t \u001b[1m\u001b[92m-128.23709968267707\u001b[0m\t \u001b[1m\u001b[92m-0.7978842387333067\u001b[0m\n",
            "22 \t [-3.62027987 -7.56160372  9.26036479]\t -124056.54553150738\t -128.23709968267707\t -0.7978845028687956\n",
            "23 \t [-9.85906552 -8.80942786 -0.37199082]\t -54862.534087780725\t -128.23709968267707\t -0.7978845607896353\n",
            "24 \t [-0.40616515 10.          3.64837006]\t -81156.03303882961\t -128.23709968267707\t -0.7978830097943056\n",
            "25 \t [-10.         -10.          -7.71157929]\t -138195.18043163564\t -128.23709968267707\t -0.79788172460777\n",
            "26 \t [-9.07366498  0.68767573  1.31560148]\t -325.3421245772758\t -128.23709968267707\t -0.7978845386150003\n",
            "27 \t [-9.84758631 -4.42322374  3.92040741]\t -8624.427839669366\t -128.23709968267707\t -0.7977089572278155\n",
            "28 \t [-10.           4.83194949  -5.47548991]\t -15667.713657460383\t -128.23709968267707\t -0.7975844747763643\n",
            "29 \t [10.         10.          3.13213735]\t -72558.66603048338\t -128.23709968267707\t -0.7978469304159325\n",
            "30 \t [ 4.3744709   2.77572556 -9.28314682]\t -86524.91911801984\t -128.23709968267707\t -0.7977358790248842\n"
          ]
        }
      ]
    },
    {
      "cell_type": "code",
      "metadata": {
        "id": "-ilCPSAu9SAg",
        "colab": {
          "base_uri": "https://localhost:8080/"
        },
        "outputId": "97a950cb-47b2-476c-d030-5787ffb47a8e"
      },
      "source": [
        "### EXACT GP ERM GRADIENTS\n",
        "\n",
        "np.random.seed(run_num_2)\n",
        "surrogate_exact_2 = dGaussianProcess(cov_func, optimize=opt)\n",
        "\n",
        "exact_2 = dGPGO(surrogate_exact_2, Acquisition_new(util_grad_exact), objfunc, param)\n",
        "exact_2.run(init_evals=n_init, max_iter=iters)\n"
      ],
      "execution_count": 35,
      "outputs": [
        {
          "output_type": "stream",
          "name": "stdout",
          "text": [
            "Evaluation \t Proposed point \t  Current eval. \t  Best eval. \t         Max AcqFunc.\n",
            "init\t [-1.28010196 -9.48147536  0.99324956]\t -65976.47275174354\t -579.2546019074869\t    \n",
            "init\t [-1.29355215 -1.59264396 -3.39330358]\t -1905.0058741906205\t -579.2546019074869\t    \n",
            "init\t [-5.90702732  2.38541933 -4.00690653]\t -3296.179887891325\t -579.2546019074869\t    \n",
            "init\t [-4.6634545   2.42267666  0.58284189]\t -579.2546019074869\t -579.2546019074869\t    \n",
            "init\t [-7.30840109  0.27156243 -6.31120269]\t -19089.001096649215\t -579.2546019074869\t    \n",
            "1  \t [4.01504693e+00 9.29102160e+00 1.67223404e-04]\t -57140.96758535182\t -579.2546019074869\t -0.7978845607896438\n",
            "2  \t [0.98993642 6.90226231 9.77019402]\t -119362.43308455861\t -579.2546019074869\t -0.7978845607896438\n",
            "3  \t [ 9.60970158 -5.07492822  5.80487605]\t -19340.238894145325\t -579.2546019074869\t -0.7978845607896438\n",
            "4  \t [ 2.89052379 -3.76941193  7.60597912]\t -44126.90703116023\t -579.2546019074869\t -0.7978845607896438\n",
            "5  \t [ 3.07223703  7.58573911 -9.9332911 ]\t -133119.51098910294\t -579.2546019074869\t -0.7978845607896438\n",
            "6  \t [ 8.77937768 -3.87353549 -6.37757103]\t -22749.403915268038\t -579.2546019074869\t -0.7978845607896438\n",
            "7  \t [-8.08964789 -9.75897604 -5.85826697]\t -97377.17267962931\t -579.2546019074869\t -0.7978845607896436\n",
            "8  \t [-8.27467123  0.9107896   8.40893121]\t -59512.10208629255\t -579.2546019074869\t -0.7978845607896403\n",
            "9  \t [-5.94698988  9.91314075  4.47886914]\t -84788.26554655223\t -579.2546019074869\t -0.7978845607896132\n",
            "10 \t [-9.84632636  9.29795823 -5.29784912]\t -73494.00610427922\t -579.2546019074869\t -0.7978845607832636\n",
            "11 \t [8.66194618 9.45587635 8.23716848]\t -105785.29651813887\t -579.2546019074869\t -0.7978845607311317\n",
            "12 \t [-7.95126067 -7.68342168  9.50213863]\t -138173.6002193863\t -579.2546019074869\t -0.797884560788933\n",
            "13 \t [ 1.31216908 -9.4098302  -9.23218389]\t -158862.0710975185\t -579.2546019074869\t -0.7978845607896438\n",
            "14 \t [7.38238986 1.9436134  4.49748171]\t -4490.102233945455\t -579.2546019074869\t -0.7978845570226644\n",
            "15 \t [ 4.9139176  -6.57774437  0.77465549]\t -13520.300662537291\t -579.2546019074869\t -0.797883368062964\n",
            "16 \t [-1.65496929  1.07640968  6.12229225]\t -16417.144996486408\t -579.2546019074869\t -0.797883092898481\n",
            "\u001b[1m\u001b[92m17\u001b[0m\t \u001b[1m\u001b[92m[ 5.10848459  2.45002436 -2.56262784]\u001b[0m\t \u001b[1m\u001b[92m-454.45996672098863\u001b[0m\t \u001b[1m\u001b[92m-454.45996672098863\u001b[0m\t \u001b[1m\u001b[92m-0.7978845392787985\u001b[0m\n",
            "18 \t [-2.3148697   9.17590075 -9.83693122]\t -160254.0151802495\t -454.45996672098863\t -0.7978845607896438\n",
            "19 \t [-9.01188771 -4.21354587  1.9607465 ]\t -4489.28321020847\t -454.45996672098863\t -0.7978845607459945\n",
            "20 \t [-4.9852881  -5.20855274 -9.72720463]\t -120482.61055494312\t -454.45996672098863\t -0.7978807416076812\n",
            "21 \t [ 9.86128636  2.73741105 -8.77847696]\t -68884.14112678247\t -454.45996672098863\t -0.7978845034009872\n",
            "22 \t [-1.09258745 -9.17420367  8.68013856]\t -134083.09547422078\t -454.45996672098863\t -0.7978830553460337\n",
            "23 \t [ 3.03867541  1.17637909 -8.45610975]\t -60355.979243642694\t -454.45996672098863\t -0.7978705920372686\n",
            "24 \t [-3.87907766  7.81337828 -1.42349838]\t -31806.56102313483\t -454.45996672098863\t -0.797868542680357\n",
            "\u001b[1m\u001b[92m25\u001b[0m\t \u001b[1m\u001b[92m[ 9.96209853 -1.28441488 -0.32311086]\u001b[0m\t \u001b[1m\u001b[92m-175.79024559415194\u001b[0m\t \u001b[1m\u001b[92m-175.79024559415194\u001b[0m\t \u001b[1m\u001b[92m-0.7978814018347098\u001b[0m\n",
            "26 \t [10.          0.17872003 10.        ]\t -120064.0846831068\t -175.79024559415194\t -0.7978818273230156\n",
            "27 \t [-1.18011086  8.06249431  2.98854907]\t -34713.34006736372\t -175.79024559415194\t -0.7978845607896438\n",
            "28 \t [10.          5.29666731 -0.15020749]\t -4415.883955542499\t -175.79024559415194\t -0.797881083176221\n",
            "29 \t [ 5.88504343 -2.3272041  -1.7206298 ]\t -276.9088504600199\t -175.79024559415194\t -0.7978845607896438\n",
            "30 \t [ 0.98294244 -5.89217414 -4.63810432]\t -16549.870142487234\t -175.79024559415194\t -0.7978845607895665\n"
          ]
        }
      ]
    },
    {
      "cell_type": "code",
      "metadata": {
        "id": "XieJ158mIvlP",
        "colab": {
          "base_uri": "https://localhost:8080/"
        },
        "outputId": "a66a959a-705a-4330-9b24-31cdf6e561ef"
      },
      "source": [
        "### EXACT GP ERM GRADIENTS\n",
        "\n",
        "np.random.seed(run_num_3)\n",
        "surrogate_exact_3 = dGaussianProcess(cov_func, optimize=opt)\n",
        "\n",
        "exact_3 = dGPGO(surrogate_exact_3, Acquisition_new(util_grad_exact), objfunc, param)\n",
        "exact_3.run(init_evals=n_init, max_iter=iters)\n"
      ],
      "execution_count": 36,
      "outputs": [
        {
          "output_type": "stream",
          "name": "stdout",
          "text": [
            "Evaluation \t Proposed point \t  Current eval. \t  Best eval. \t         Max AcqFunc.\n",
            "init\t [ 1.01595805  4.16295645 -4.18190522]\t -5112.352385443115\t -5112.352385443115\t    \n",
            "init\t [0.2165521  7.85893909 7.92586178]\t -72027.10255913956\t -5112.352385443115\t    \n",
            "init\t [-7.48829379 -5.85514244 -8.97065593]\t -95107.57411907075\t -5112.352385443115\t    \n",
            "init\t [-1.18380313 -9.40247578 -0.86333551]\t -63726.548838065995\t -5112.352385443115\t    \n",
            "init\t [ 2.98288095 -4.43025435  3.52509804]\t -5207.626899787465\t -5112.352385443115\t    \n",
            "1  \t [9.51990845 3.44767352 8.05668217]\t -48388.97288671367\t -5112.352385443115\t -0.7978845607896438\n",
            "2  \t [-4.79309855  3.83955024  7.91140656]\t -46554.468417027776\t -5112.352385443115\t -0.7978845607896438\n",
            "3  \t [ 9.76225506  9.4244446  -0.36307223]\t -56694.622124347436\t -5112.352385443115\t -0.7978845607896438\n",
            "4  \t [ 1.06865668 -1.61214113  9.66323576]\t -106482.0605763776\t -5112.352385443115\t -0.7978845607896438\n",
            "5  \t [-7.84297806  5.69391695 -0.02389563]\t -10741.453238983686\t -5112.352385443115\t -0.7978845607896438\n",
            "6  \t [ 8.83706845 -0.31089701 -6.2913012 ]\t -19158.168049739656\t -5112.352385443115\t -0.7978845607896438\n",
            "7  \t [-9.62151318  6.49791858 -9.62921632]\t -113874.85565922041\t -5112.352385443115\t -0.7978845607896438\n",
            "8  \t [ 7.17786075 -7.83402432  1.19325839]\t -27091.47249706207\t -5112.352385443115\t -0.7978845607896438\n",
            "9  \t [-6.55092357 -6.29905242  3.35291254]\t -17302.457753897987\t -5112.352385443115\t -0.7978845596790429\n",
            "10 \t [ 1.60163764 -2.58603661 -9.29669219]\t -92618.34107490626\t -5112.352385443115\t -0.7978845607887248\n",
            "\u001b[1m\u001b[92m11\u001b[0m\t \u001b[1m\u001b[92m[5.35390255 4.3873483  2.58263819]\u001b[0m\t \u001b[1m\u001b[92m-2456.424548745716\u001b[0m\t \u001b[1m\u001b[92m-2456.424548745716\u001b[0m\t \u001b[1m\u001b[92m-0.7978845607896438\u001b[0m\n",
            "12 \t [ 6.93276133  9.17235913 -7.39102539]\t -82140.26899121195\t -2456.424548745716\t -0.7978845607686937\n",
            "13 \t [-9.48830419  5.80360482  0.06290394]\t -12023.222732258779\t -2456.424548745716\t -0.7978845607896438\n",
            "\u001b[1m\u001b[92m14\u001b[0m\t \u001b[1m\u001b[92m[-6.97891561 -1.02850403 -1.87022553]\u001b[0m\t \u001b[1m\u001b[92m-422.2383170531866\u001b[0m\t \u001b[1m\u001b[92m-422.2383170531866\u001b[0m\t \u001b[1m\u001b[92m-0.7978845100682811\u001b[0m\n",
            "15 \t [-9.57057217 -9.02294666  9.85337649]\t -183425.61732451757\t -422.2383170531866\t -0.7978845600498466\n",
            "16 \t [-2.93212812 10.         -2.26989737]\t -82378.6377105861\t -422.2383170531866\t -0.7978844549646222\n",
            "17 \t [ 5.68372327 -9.51244721 -7.13681414]\t -98691.7785753723\t -422.2383170531866\t -0.7978845607684979\n",
            "\u001b[1m\u001b[92m18\u001b[0m\t \u001b[1m\u001b[92m[-2.06495658  1.06630259  2.47433582]\u001b[0m\t \u001b[1m\u001b[92m-421.9151520014909\u001b[0m\t \u001b[1m\u001b[92m-421.9151520014909\u001b[0m\t \u001b[1m\u001b[92m-0.7978822615710971\u001b[0m\n",
            "19 \t [-10.          -0.6535135    6.66056564]\t -24322.8622591538\t -421.9151520014909\t -0.7978842698469042\n",
            "20 \t [-10.          -8.29898633  -2.23527506]\t -44782.747136428894\t -421.9151520014909\t -0.7978843004840913\n",
            "21 \t [-3.78315171  3.07532535 -8.48189469]\t -60535.47047444129\t -421.9151520014909\t -0.7978822071270428\n",
            "22 \t [ 8.17490377  9.93041093 10.        ]\t -179911.55201102083\t -421.9151520014909\t -0.7978840061585488\n",
            "23 \t [ 8.54131636 -6.29606902  9.6421356 ]\t -120930.98434214697\t -421.9151520014909\t -0.7978845607887075\n",
            "24 \t [-2.57869898 -8.76898987  9.79433335]\t -169668.86154949365\t -421.9151520014909\t -0.7978834861836289\n",
            "25 \t [ -0.47268856 -10.         -10.        ]\t -212680.76652736583\t -421.9151520014909\t -0.7978824189561718\n",
            "26 \t [  2.66240933 -10.           4.84373726]\t -87607.89530769998\t -421.9151520014909\t -0.7977576733764551\n",
            "27 \t [ 2.57123869 -4.01380054 -2.73116311]\t -2836.0044068050465\t -421.9151520014909\t -0.7978775601489603\n",
            "28 \t [ 0.74408824  6.2786797  -8.5457375 ]\t -70814.97548597008\t -421.9151520014909\t -0.7851614024773858\n",
            "\u001b[1m\u001b[92m29\u001b[0m\t \u001b[1m\u001b[92m[ 7.96458015 -0.77102607  0.20059203]\u001b[0m\t \u001b[1m\u001b[92m-142.49852750455673\u001b[0m\t \u001b[1m\u001b[92m-142.49852750455673\u001b[0m\t \u001b[1m\u001b[92m-0.7978804023178312\u001b[0m\n",
            "30 \t [-7.89021309 10.          5.32798727]\t -93079.3901857946\t -142.49852750455673\t -0.7978843003436802\n"
          ]
        }
      ]
    },
    {
      "cell_type": "code",
      "metadata": {
        "id": "PhLBVOIfIvol",
        "colab": {
          "base_uri": "https://localhost:8080/"
        },
        "outputId": "d145e646-ab68-4e2f-85cc-14f3aab835bb"
      },
      "source": [
        "### EXACT GP ERM GRADIENTS\n",
        "\n",
        "np.random.seed(run_num_4)\n",
        "surrogate_exact_4 = dGaussianProcess(cov_func, optimize=opt)\n",
        "\n",
        "exact_4 = dGPGO(surrogate_exact_4, Acquisition_new(util_grad_exact), objfunc, param)\n",
        "exact_4.run(init_evals=n_init, max_iter=iters)\n"
      ],
      "execution_count": 37,
      "outputs": [
        {
          "output_type": "stream",
          "name": "stdout",
          "text": [
            "Evaluation \t Proposed point \t  Current eval. \t  Best eval. \t         Max AcqFunc.\n",
            "init\t [9.34059678 0.94464498 9.4536872 ]\t -95022.01065457039\t -12458.30178377884\t    \n",
            "init\t [ 4.29631987  3.95457649 -5.67821009]\t -12458.30178377884\t -12458.30178377884\t    \n",
            "init\t [ 9.5254891  -9.8753949  -4.94035275]\t -79242.42901009263\t -12458.30178377884\t    \n",
            "init\t [-1.30416935  5.58765844 -6.04629851]\t -21812.938480423\t -12458.30178377884\t    \n",
            "init\t [ 7.25986471  9.66801354 -6.72315517]\t -84163.5372919417\t -12458.30178377884\t    \n",
            "1  \t [-7.83613234 -6.83553186  0.90405303]\t -20810.660474524404\t -12458.30178377884\t -0.7978845607896438\n",
            "2  \t [-1.80817221  5.2576358   9.81593637]\t -111937.03674660696\t -12458.30178377884\t -0.7978845607896438\n",
            "3  \t [-1.4796448  -6.12970073 -9.57340321]\t -119400.21514143354\t -12458.30178377884\t -0.7978845607896438\n",
            "\u001b[1m\u001b[92m4\u001b[0m\t \u001b[1m\u001b[92m[ 1.00294855 -4.92774948  4.0625976 ]\u001b[0m\t \u001b[1m\u001b[92m-8842.060885265299\u001b[0m\t \u001b[1m\u001b[92m-8842.060885265299\u001b[0m\t \u001b[1m\u001b[92m-0.7978845607896438\u001b[0m\n",
            "5  \t [6.72113797 7.95247175 3.43912816]\t -29458.560173594284\t -8842.060885265299\t -0.7978845607896438\n",
            "6  \t [-7.07376785  7.24942245  1.46745409]\t -25260.773025220093\t -8842.060885265299\t -0.7978845607896438\n",
            "\u001b[1m\u001b[92m7\u001b[0m\t \u001b[1m\u001b[92m[-0.44581558  2.04164357  3.82391297]\u001b[0m\t \u001b[1m\u001b[92m-2376.3585358713694\u001b[0m\t \u001b[1m\u001b[92m-2376.3585358713694\u001b[0m\t \u001b[1m\u001b[92m-0.7978845607896438\u001b[0m\n",
            "8  \t [-4.88169358  2.09221169  3.73549934]\t -2405.8476927363427\t -2376.3585358713694\t -0.7978845607896438\n",
            "9  \t [ 9.67631723 -2.81961879 -7.99372919]\t -51336.753667240206\t -2376.3585358713694\t -0.7978845607896438\n",
            "\u001b[1m\u001b[92m10\u001b[0m\t \u001b[1m\u001b[92m[ 9.82980598 -1.62382892  2.64231103]\u001b[0m\t \u001b[1m\u001b[92m-848.387991560592\u001b[0m\t \u001b[1m\u001b[92m-848.387991560592\u001b[0m\t \u001b[1m\u001b[92m-0.7978845607896438\u001b[0m\n",
            "11 \t [-7.36514873 -3.56806023  7.88733338]\t -51368.10658678196\t -848.387991560592\t -0.7978845596646958\n",
            "12 \t [-9.29185553  9.8572357  -8.01820394]\t -125317.35416043762\t -848.387991560592\t -0.7978845607896438\n",
            "13 \t [-7.16987604  0.38194869 -4.72735288]\t -6069.232981994662\t -848.387991560592\t -0.7978845606889299\n",
            "14 \t [ 5.11206029 -6.64019427 -0.59075623]\t -13980.46961000299\t -848.387991560592\t -0.7978845607860799\n",
            "15 \t [ 2.29846483  9.67418167 -2.54157495]\t -68395.3314475552\t -848.387991560592\t -0.79788453194067\n",
            "16 \t [ 3.74822386 -8.78281919  8.5385696 ]\t -117025.51711326021\t -848.387991560592\t -0.7978845606078339\n",
            "17 \t [-10.          -7.09620258 -10.        ]\t -153301.88591649054\t -848.387991560592\t -0.7978845607896438\n",
            "18 \t [-6.46666233 -7.86666564 -7.69118542]\t -81738.97493558479\t -848.387991560592\t -0.7978845607896438\n",
            "19 \t [ 7.33203662 -5.93822437 -2.31489621]\t -8859.038660403776\t -848.387991560592\t -0.7978845607896438\n",
            "20 \t [ 9.95151675 -8.36976677  3.62936176]\t -37575.75222291894\t -848.387991560592\t -0.797883596072274\n",
            "21 \t [-0.57806712 -0.52603289 -3.61531677]\t -2138.4476753594768\t -848.387991560592\t -0.7978825804120526\n",
            "22 \t [10.          5.74837786 -2.00942176]\t -6388.906520750833\t -848.387991560592\t -0.7978800205193347\n",
            "23 \t [-0.39342432 -9.95519639 -1.79239113]\t -79695.03300005225\t -848.387991560592\t -0.797882741942388\n",
            "24 \t [10.         10.          9.11889723]\t -145578.11039147488\t -848.387991560592\t -0.7978841466642764\n",
            "25 \t [-10.        2.61876 -10.     ]\t -118123.94079796057\t -848.387991560592\t -0.797882464431531\n",
            "26 \t [-7.67098688  9.32066288  8.28617769]\t -115054.61020387441\t -848.387991560592\t -0.7978844335840026\n",
            "27 \t [-4.8007059  -9.86699231  7.51083458]\t -124806.91662266679\t -848.387991560592\t -0.7978834787796829\n",
            "28 \t [-0.77906784 -2.27026153 10.        ]\t -122988.79507916151\t -848.387991560592\t -0.7978840333770545\n",
            "29 \t [  4.51061265 -10.          -9.33103831]\t -178163.33491476785\t -848.387991560592\t -0.7978798702739178\n",
            "30 \t [4.11305484 1.84921451 6.63106213]\t -22260.442376258485\t -848.387991560592\t -0.7971945705735436\n"
          ]
        }
      ]
    },
    {
      "cell_type": "code",
      "metadata": {
        "id": "arbiPyj2IvsJ",
        "colab": {
          "base_uri": "https://localhost:8080/"
        },
        "outputId": "e862a9b3-65ba-47f5-ff0a-b76deae8eb49"
      },
      "source": [
        "### EXACT GP ERM GRADIENTS\n",
        "\n",
        "np.random.seed(run_num_5)\n",
        "surrogate_exact_5 = dGaussianProcess(cov_func, optimize=opt)\n",
        "\n",
        "exact_5 = dGPGO(surrogate_exact_5, Acquisition_new(util_grad_exact), objfunc, param)\n",
        "exact_5.run(init_evals=n_init, max_iter=iters)\n"
      ],
      "execution_count": 38,
      "outputs": [
        {
          "output_type": "stream",
          "name": "stdout",
          "text": [
            "Evaluation \t Proposed point \t  Current eval. \t  Best eval. \t         Max AcqFunc.\n",
            "init\t [-5.56013658  7.41464612 -5.86561689]\t -38038.55423396639\t -504.37713268919686\t    \n",
            "init\t [ 8.37221816 -0.23177622  2.23487726]\t -504.37713268919686\t -504.37713268919686\t    \n",
            "init\t [ 5.31815713  0.36835976 -4.06398997]\t -3270.33229475548\t -504.37713268919686\t    \n",
            "init\t [-6.24557543 -8.38517462  4.76880592]\t -51898.195262717614\t -504.37713268919686\t    \n",
            "init\t [-1.17381554 -6.83380265  7.59874062]\t -62777.04813872957\t -504.37713268919686\t    \n",
            "1  \t [-9.96715655  0.30945224  2.79590352]\t -1031.2153586592976\t -504.37713268919686\t -0.7978845607896438\n",
            "2  \t [-7.31272544 -3.96227805 -7.27039812]\t -39155.2230850924\t -504.37713268919686\t -0.7978845607896438\n",
            "3  \t [1.76399225 7.75798794 3.12422558]\t -28551.80593901205\t -504.37713268919686\t -0.7978845607896438\n",
            "4  \t [-1.12990557  2.76269749  9.10703155]\t -80360.01670806693\t -504.37713268919686\t -0.7978845607896432\n",
            "5  \t [ 4.56139684 -4.673529    0.23379905]\t -3142.4271112122515\t -504.37713268919686\t -0.7978845607896438\n",
            "6  \t [9.20769807 5.68137976 8.45387447]\t -62710.75080142917\t -504.37713268919686\t -0.7978845607896438\n",
            "7  \t [ 7.14573235 -6.46930749  7.38248289]\t -51761.01237664357\t -504.37713268919686\t -0.7978845607896438\n",
            "8  \t [ 0.53433597 -7.08335515 -8.4509485 ]\t -87354.08171951072\t -504.37713268919686\t -0.7978845607896438\n",
            "9  \t [-9.10278355  9.34103116  2.98084349]\t -67742.35954036798\t -504.37713268919686\t -0.7978845607896438\n",
            "10 \t [ 3.31446265  7.39201368 -3.79212541]\t -23834.156765398733\t -504.37713268919686\t -0.7978845496709747\n",
            "11 \t [-3.43604888 -8.87561309 -2.02491137]\t -52729.42036692042\t -504.37713268919686\t -0.7978845607895919\n",
            "\u001b[1m\u001b[92m12\u001b[0m\t \u001b[1m\u001b[92m[0.20106095 0.49448506 0.36504334]\u001b[0m\t \u001b[1m\u001b[92m-0.9600704398831894\u001b[0m\t \u001b[1m\u001b[92m-0.9600704398831894\u001b[0m\t \u001b[1m\u001b[92m-0.7978845605872064\u001b[0m\n",
            "13 \t [-9.54259734 -1.43539662  9.21612098]\t -88525.01266929683\t -0.9600704398831894\t -0.7978845607894558\n",
            "14 \t [ 3.53987366  1.76245533 -9.97816327]\t -116879.60084508089\t -0.9600704398831894\t -0.7978845606528185\n",
            "15 \t [-1.87649167  0.85787648 -5.06118245]\t -7643.093385470063\t -0.9600704398831894\t -0.7978845251972102\n",
            "16 \t [ 9.72217449  5.9010829  -5.02495784]\t -13224.99826097929\t -0.9600704398831894\t -0.7978845607895798\n",
            "17 \t [-8.43217072  4.48011232 -2.92997914]\t -5291.089806819518\t -0.9600704398831894\t -0.7978845607896438\n",
            "18 \t [ 9.68325583 -7.33158706 -4.72528326]\t -27321.64299464839\t -0.9600704398831894\t -0.7978845605786343\n",
            "19 \t [-3.48410009 -3.68542923 -6.33751434]\t -23073.672070863027\t -0.9600704398831894\t -0.7978845607896438\n",
            "20 \t [-10.           3.31216849  -9.94806577]\t -115787.43954505911\t -0.9600704398831894\t -0.7978845302759445\n",
            "21 \t [-7.58134464 -1.24245945 -1.7988363 ]\t -479.80542212783206\t -0.9600704398831894\t -0.797653978671088\n",
            "22 \t [-7.56689062  4.89421135  8.03138174]\t -52439.35637450315\t -0.9600704398831894\t -0.7978795161522031\n",
            "23 \t [10.          9.85369048  0.78165343]\t -68156.75065956758\t -0.9600704398831894\t -0.7978844993316057\n",
            "24 \t [ -8.42352574  -9.93905176 -10.        ]\t -217178.2723525592\t -0.9600704398831894\t -0.7978823326428364\n",
            "25 \t [-10.          -9.49052837  -0.96581327]\t -72814.51921699378\t -0.9600704398831894\t -0.7978813740794443\n",
            "26 \t [-2.98928862 -2.78860459  1.59958291]\t -891.031453575617\t -0.9600704398831894\t -0.7978782063595081\n",
            "27 \t [-3.93616486  6.84306114  2.62647698]\t -19217.48744397888\t -0.9600704398831894\t -0.7963969074703066\n",
            "28 \t [ 0.69887337 -7.65702168  1.73371828]\t -27733.555649601916\t -0.9600704398831894\t -0.7950654422124299\n",
            "29 \t [ 3.20986107 10.          9.62965632]\t -169816.82706272934\t -0.9600704398831894\t -0.7978844186720534\n",
            "30 \t [ 8.60566935 -0.6623033  10.        ]\t -120973.38175359913\t -0.9600704398831894\t -0.797870433262571\n"
          ]
        }
      ]
    },
    {
      "cell_type": "code",
      "metadata": {
        "id": "04KJCEm_Ivvf",
        "colab": {
          "base_uri": "https://localhost:8080/"
        },
        "outputId": "cbb4d296-273f-4221-b4ef-21c9959ff565"
      },
      "source": [
        "### EXACT GP ERM GRADIENTS\n",
        "\n",
        "np.random.seed(run_num_6)\n",
        "surrogate_exact_6 = dGaussianProcess(cov_func, optimize=opt)\n",
        "\n",
        "exact_6 = dGPGO(surrogate_exact_6, Acquisition_new(util_grad_exact), objfunc, param)\n",
        "exact_6.run(init_evals=n_init, max_iter=iters)\n"
      ],
      "execution_count": 39,
      "outputs": [
        {
          "output_type": "stream",
          "name": "stdout",
          "text": [
            "Evaluation \t Proposed point \t  Current eval. \t  Best eval. \t         Max AcqFunc.\n",
            "init\t [ 7.85720303 -3.36040389  6.42458246]\t -22622.875691874993\t -747.5861078277044\t    \n",
            "init\t [-9.16606749 -7.8468664   1.90104128]\t -35798.39310944817\t -747.5861078277044\t    \n",
            "init\t [ 0.59634724 -1.62385143 -3.29184301]\t -1672.0743189422471\t -747.5861078277044\t    \n",
            "init\t [ 2.45038864 -1.23717148  4.71764213]\t -6281.890680624871\t -747.5861078277044\t    \n",
            "init\t [0.36072824 1.577172   2.90710192]\t -747.5861078277044\t -747.5861078277044\t    \n",
            "1  \t [ 4.34551693  9.88414877 -4.88771889]\t -77317.5102677862\t -747.5861078277044\t -0.7978845607896438\n",
            "2  \t [-1.98503052 -5.08370297  0.47544376]\t -5862.449371750896\t -747.5861078277044\t -0.7978845607896438\n",
            "3  \t [-2.0556804  -9.02186809 -8.37506795]\t -121232.65441870395\t -747.5861078277044\t -0.7978845607896438\n",
            "4  \t [-8.30089272  8.76464152 -3.7028615 ]\t -53579.172270173985\t -747.5861078277044\t -0.7978845607896438\n",
            "5  \t [-1.92136443  7.09060084  9.90193306]\t -128180.37776723201\t -747.5861078277044\t -0.7978845607896436\n",
            "6  \t [ 6.83055529 -7.02538607 -5.07603057]\t -27205.394503821604\t -747.5861078277044\t -0.7978845607896438\n",
            "7  \t [-9.66056066 -7.16632862  9.74146832]\t -141747.30545515707\t -747.5861078277044\t -0.7978845607896438\n",
            "8  \t [5.9985337  9.53791599 4.87346611]\t -66262.04186181795\t -747.5861078277044\t -0.7978845607896436\n",
            "9  \t [5.95618828 3.62221445 9.57953935]\t -97953.49211296115\t -747.5861078277044\t -0.7978845607896438\n",
            "10 \t [-7.41175926 -1.8295649  -8.07396848]\t -52905.20559446976\t -747.5861078277044\t -0.7978845607896438\n",
            "11 \t [ 5.84223091  1.20858429 -9.77151834]\t -108063.16292509792\t -747.5861078277044\t -0.7978845607896375\n",
            "12 \t [-8.12416811  9.77114499 -9.4537219 ]\t -165001.95305563457\t -747.5861078277044\t -0.7978845607896438\n",
            "13 \t [-9.84061017  1.77538187  9.90806162]\t -114204.24958242645\t -747.5861078277044\t -0.7978845607894938\n",
            "\u001b[1m\u001b[92m14\u001b[0m\t \u001b[1m\u001b[92m[ 8.7561222   0.65983003 -2.4868267 ]\u001b[0m\t \u001b[1m\u001b[92m-595.8024506030948\u001b[0m\t \u001b[1m\u001b[92m-595.8024506030948\u001b[0m\t \u001b[1m\u001b[92m-0.7978845597858573\u001b[0m\n",
            "15 \t [ 0.19531588 -7.74530203  9.60360643]\t -139524.0237475551\t -595.8024506030948\t -0.79788456078913\n",
            "16 \t [-1.53733999  5.0600729  -7.43645083]\t -38987.765497173\t -595.8024506030948\t -0.7978845605510646\n",
            "17 \t [-3.61732632  6.02805397  0.93404125]\t -11717.355005292655\t -595.8024506030948\t -0.7978845607896407\n",
            "18 \t [ -9.77486215 -10.          -4.8111991 ]\t -97634.55673158895\t -595.8024506030948\t -0.7978844402151228\n",
            "19 \t [-8.77555957  1.48716176  2.84256716]\t -1089.8910220348698\t -595.8024506030948\t -0.7978845607896438\n",
            "20 \t [ 7.10871648 -9.22722882  3.32658532]\t -56239.60622639738\t -595.8024506030948\t -0.7978833787916181\n",
            "21 \t [-2.0301401  -4.92207598 -4.38926331]\t -10770.98915286436\t -595.8024506030948\t -0.7978845607896438\n",
            "22 \t [-0.32271638  1.27300039  8.92833248]\t -75068.28952943243\t -595.8024506030948\t -0.7978845549591133\n",
            "23 \t [8.69042303 2.34626853 3.68940107]\t -1926.5121437540297\t -595.8024506030948\t -0.7978687641789952\n",
            "24 \t [ 2.76703985 -4.67780313 -9.60064788]\t -110553.29579824934\t -595.8024506030948\t -0.7978632947248471\n",
            "25 \t [-6.89384104 -3.66927064  5.64147408]\t -15946.67014819508\t -595.8024506030948\t -0.7978844910750296\n",
            "26 \t [ 8.54842608  9.65079803 -9.93682527]\t -169071.56755330515\t -595.8024506030948\t -0.7978765667023655\n",
            "27 \t [10. 10. 10.]\t -180581.0\t -595.8024506030948\t -0.7978748013699152\n",
            "28 \t [ 9.23934588  7.27872995 -0.80007199]\t -18885.532764635016\t -595.8024506030948\t -0.7978828053981496\n",
            "\u001b[1m\u001b[92m29\u001b[0m\t \u001b[1m\u001b[92m[-6.35003335 -1.11996468 -1.69649927]\u001b[0m\t \u001b[1m\u001b[92m-352.8209707027164\u001b[0m\t \u001b[1m\u001b[92m-352.8209707027164\u001b[0m\t \u001b[1m\u001b[92m-0.7978512668926718\u001b[0m\n",
            "30 \t [10.         -2.89304128 -5.69015452]\t -13900.901838149446\t -352.8209707027164\t -0.7978839401640898\n"
          ]
        }
      ]
    },
    {
      "cell_type": "code",
      "metadata": {
        "id": "tAOkme3CIvyO",
        "colab": {
          "base_uri": "https://localhost:8080/"
        },
        "outputId": "23db3d6d-cc01-4061-ac66-17677fd0459d"
      },
      "source": [
        "### EXACT GP ERM GRADIENTS\n",
        "\n",
        "np.random.seed(run_num_7)\n",
        "surrogate_exact_7 = dGaussianProcess(cov_func, optimize=opt)\n",
        "\n",
        "exact_7 = dGPGO(surrogate_exact_7, Acquisition_new(util_grad_exact), objfunc, param)\n",
        "exact_7.run(init_evals=n_init, max_iter=iters)\n"
      ],
      "execution_count": 40,
      "outputs": [
        {
          "output_type": "stream",
          "name": "stdout",
          "text": [
            "Evaluation \t Proposed point \t  Current eval. \t  Best eval. \t         Max AcqFunc.\n",
            "init\t [-8.47383421  5.59837584 -1.23181537]\t -10236.238023609843\t -10236.238023609843\t    \n",
            "init\t [4.46930356 9.55979024 0.76991741]\t -63811.243249036976\t -10236.238023609843\t    \n",
            "init\t [ 0.02240927 -8.55897733 -4.6312204 ]\t -50862.43407074502\t -10236.238023609843\t    \n",
            "init\t [-2.34998349e-03  3.58459992e+00  6.07478072e+00]\t -16115.196076305741\t -10236.238023609843\t    \n",
            "init\t [-2.38117734 -8.68127306 -4.23708801]\t -52860.9167787799\t -10236.238023609843\t    \n",
            "1  \t [ 9.10936646  3.65827709 -8.93742619]\t -73787.99738137476\t -10236.238023609843\t -0.7978845607896438\n",
            "2  \t [-5.16794167 -9.78840186  6.61280652]\t -105864.29006834452\t -10236.238023609843\t -0.7978845607896438\n",
            "3  \t [ 6.70937122 -8.01304972  2.92508219]\t -31552.380495254474\t -10236.238023609843\t -0.7978845607896438\n",
            "4  \t [10.         -1.93032184 10.        ]\t -122421.54634475306\t -10236.238023609843\t -0.7978845607896438\n",
            "5  \t [-8.22186059 -2.09445948 -8.51624651]\t -65619.77292042035\t -10236.238023609843\t -0.7978845607896438\n",
            "6  \t [ 0.30804367  6.75404796 -6.71933586]\t -37474.908441899184\t -10236.238023609843\t -0.7978845607896078\n",
            "7  \t [-6.91564888 -1.78450695  9.99466028]\t -122308.19183744061\t -10236.238023609843\t -0.7978845607894121\n",
            "8  \t [9.86868536 6.73284304 9.48381526]\t -103079.41804896368\t -10236.238023609843\t -0.7978845607883035\n",
            "\u001b[1m\u001b[92m9\u001b[0m\t \u001b[1m\u001b[92m[ 4.83295562 -0.65807219 -2.42087302]\u001b[0m\t \u001b[1m\u001b[92m-505.90617855801185\u001b[0m\t \u001b[1m\u001b[92m-505.90617855801185\u001b[0m\t \u001b[1m\u001b[92m-0.7978845607895353\u001b[0m\n",
            "10 \t [ 6.95867102 -6.81650223 -7.42462408]\t -55931.19793030403\t -505.90617855801185\t -0.7978845588310942\n",
            "11 \t [-7.5966344   6.31691545 -9.56373681]\t -108929.31299235445\t -505.90617855801185\t -0.7978845607811064\n",
            "12 \t [10.         -1.23392555  2.45094573]\t -704.2840816920234\t -505.90617855801185\t -0.797884546167836\n",
            "13 \t [ 0.39111972 -4.38849309 10.        ]\t -128231.6178750082\t -505.90617855801185\t -0.7978845581532739\n",
            "14 \t [-7.1732186   9.21366467  9.03573442]\t -133911.59382663184\t -505.90617855801185\t -0.7978845607896438\n",
            "15 \t [-3.2740377  10.          0.13748252]\t -82956.67231888109\t -505.90617855801185\t -0.7978844759656768\n",
            "16 \t [-7.12104409 -3.21779144  1.68383069]\t -1851.9122070708042\t -505.90617855801185\t -0.7978845607700934\n",
            "17 \t [-2.53626625 -0.1209558  -4.94191805]\t -7218.695272344633\t -505.90617855801185\t -0.7978841826556562\n",
            "18 \t [10.          4.53152856 -0.8461824 ]\t -2040.4482571149845\t -505.90617855801185\t -0.7978845110185006\n",
            "19 \t [-10. -10. -10.]\t -220621.0\t -505.90617855801185\t -0.7978845607595016\n",
            "20 \t [ 4.36742827 -0.91827884 -9.98288314]\t -120306.90785177029\t -505.90617855801185\t -0.7978800854237694\n",
            "21 \t [2.89295417 9.08853355 8.57644565]\t -109843.08122998144\t -505.90617855801185\t -0.7978838272982371\n",
            "22 \t [10.         -6.10386026 -1.89133392]\t -8932.504664996413\t -505.90617855801185\t -0.7978084727010221\n",
            "23 \t [ 2.45818976 -2.75201451  3.00864155]\t -1629.0476435503142\t -505.90617855801185\t -0.7978832855658006\n",
            "24 \t [-6.47945319  3.08313469  4.5027036 ]\t -5566.514498249304\t -505.90617855801185\t -0.7978826088275376\n",
            "25 \t [  2.97322846 -10.           6.75270789]\t -108366.1742189827\t -505.90617855801185\t -0.7972121335244009\n",
            "26 \t [-9.50458082 -6.77222567 -2.98289487]\t -22416.333428610596\t -505.90617855801185\t -0.7978836069492802\n",
            "27 \t [ 6.05459489 10.         -5.80596348]\t -85145.8154275108\t -505.90617855801185\t -0.797880732365384\n",
            "28 \t [10.          9.60715233  3.8071569 ]\t -62174.6096006737\t -505.90617855801185\t -0.7978071843364778\n",
            "29 \t [4.90938978 0.73612068 7.54895314]\t -38512.58984782065\t -505.90617855801185\t -0.7976448429298459\n",
            "30 \t [ 0.43105259  4.38778869 -0.46730823]\t -2946.464427333652\t -505.90617855801185\t -0.7978753998386575\n"
          ]
        }
      ]
    },
    {
      "cell_type": "code",
      "metadata": {
        "id": "69-J3EF4Iv1S",
        "colab": {
          "base_uri": "https://localhost:8080/"
        },
        "outputId": "9bb79cea-9711-4ef3-86b0-3063970575a0"
      },
      "source": [
        "### EXACT GP ERM GRADIENTS\n",
        "\n",
        "np.random.seed(run_num_8)\n",
        "surrogate_exact_8 = dGaussianProcess(cov_func, optimize=opt)\n",
        "\n",
        "exact_8 = dGPGO(surrogate_exact_8, Acquisition_new(util_grad_exact), objfunc, param)\n",
        "exact_8.run(init_evals=n_init, max_iter=iters)\n"
      ],
      "execution_count": 41,
      "outputs": [
        {
          "output_type": "stream",
          "name": "stdout",
          "text": [
            "Evaluation \t Proposed point \t  Current eval. \t  Best eval. \t         Max AcqFunc.\n",
            "init\t [7.46858806 9.37081326 7.3838908 ]\t -86398.56273239222\t -19.158799931573643\t    \n",
            "init\t [ 0.61711383 -5.34543344 -9.77202391]\t -122028.27716628066\t -19.158799931573643\t    \n",
            "init\t [-1.39062363 -1.9529728   0.45349343]\t -185.16317561320295\t -19.158799931573643\t    \n",
            "init\t [-0.43216408  1.10712948  0.86772035]\t -19.158799931573643\t -19.158799931573643\t    \n",
            "init\t [5.21791151 4.24749148 2.39364192]\t -2079.039537100791\t -19.158799931573643\t    \n",
            "1  \t [ 5.91149117 -9.35983687 -0.89104356]\t -57709.74714740788\t -19.158799931573643\t -0.7978845607896438\n",
            "2  \t [-4.01894503  7.30848062  6.93893087]\t -48356.33098205576\t -19.158799931573643\t -0.7978845607896438\n",
            "3  \t [-6.23415159 -2.85576708  4.59444715]\t -7163.787122326564\t -19.158799931573643\t -0.7978845607896438\n",
            "4  \t [-0.33954819  6.5470211  -9.44447867]\t -103413.2661047698\t -19.158799931573643\t -0.7978845607896438\n",
            "5  \t [ 8.88043753 -3.47867257 -6.48954407]\t -23609.194785088257\t -19.158799931573643\t -0.7978845607896438\n",
            "6  \t [-9.28032222 -2.58508368 -4.69965573]\t -7690.438087299276\t -19.158799931573643\t -0.7978845607896438\n",
            "7  \t [ 8.17908998 -0.22400237  8.02829777]\t -50206.619564063905\t -19.158799931573643\t -0.7978845607896438\n",
            "8  \t [-9.29486377 -6.88958424  5.69557689]\t -37285.04360880313\t -19.158799931573643\t -0.7978845607896438\n",
            "9  \t [ 2.93304256 -9.66156955  6.74566747]\t -97941.45934386633\t -19.158799931573643\t -0.797884560754229\n",
            "10 \t [-6.44556688  8.56291735 -3.1073752 ]\t -47276.7702263877\t -19.158799931573643\t -0.797884560789592\n",
            "11 \t [-9.64599536 -9.06940174 -9.49540104]\t -168383.670520528\t -19.158799931573643\t -0.7978845607896438\n",
            "12 \t [-9.45801348  9.47519463 -9.5831696 ]\t -162599.9137630042\t -19.158799931573643\t -0.7978844954729895\n",
            "13 \t [ 9.86387458 -9.03618993  5.02335735]\t -57789.537463669825\t -19.158799931573643\t -0.7978845607896438\n",
            "14 \t [-1.78785155 -0.65705994  8.59087149]\t -65967.76556472405\t -19.158799931573643\t -0.7978845607896438\n",
            "15 \t [ 9.92533816  6.6144607  -5.23837193]\t -19104.99455412147\t -19.158799931573643\t -0.7978845607896438\n",
            "16 \t [ 4.50184336 -2.26786091  2.15283875]\t -478.5119793244565\t -19.158799931573643\t -0.7978845607896438\n",
            "17 \t [ 7.42704428 -6.30046155  8.41770504]\t -76125.29945778343\t -19.158799931573643\t -0.7978845607896438\n",
            "18 \t [ 3.71150346  0.75831996 -4.36493421]\t -4204.8648980407415\t -19.158799931573643\t -0.797884435981082\n",
            "19 \t [ 0.44576118  9.42970212 -1.8151668 ]\t -62960.91768531315\t -19.158799931573643\t -0.7978843891510804\n",
            "20 \t [-1.79859498 -8.8857121  -1.85868522]\t -51771.08514237424\t -19.158799931573643\t -0.7978845607896438\n",
            "21 \t [-6.11335441 -3.4388144  -7.17273123]\t -35743.79190948796\t -19.158799931573643\t -0.7978845607896438\n",
            "22 \t [-6.78913769  1.67171748 -0.28709982]\t -373.9329752021161\t -19.158799931573643\t -0.7978835671595941\n",
            "23 \t [2.80391394 4.52494434 9.24935264]\t -86156.33434232303\t -19.158799931573643\t -0.7978834319761461\n",
            "24 \t [ 5.46076255  9.99310082 -8.4158822 ]\t -127500.3015488529\t -19.158799931573643\t -0.7978777909399853\n",
            "25 \t [  6.01890371   3.2495829  -10.        ]\t -116613.43001201791\t -19.158799931573643\t -0.7978828469665947\n",
            "26 \t [-9.29189142  9.63438375  3.27961322]\t -76528.12691743656\t -19.158799931573643\t -0.7978845607896438\n",
            "27 \t [  8.2625404  -10.          -7.59666549]\t -120768.76689110213\t -19.158799931573643\t -0.7978828944099398\n",
            "28 \t [-1.85905462  3.83711344 -4.01093167]\t -4377.4293911584355\t -19.158799931573643\t -0.7978845597580674\n",
            "29 \t [-8.16840912  2.05688066  8.33141522]\t -56753.690425285415\t -19.158799931573643\t -0.7978816522724452\n",
            "30 \t [ 5.77060343  9.81290727 -0.14151647]\t -70109.49227252834\t -19.158799931573643\t -0.7978845607894931\n"
          ]
        }
      ]
    },
    {
      "cell_type": "code",
      "metadata": {
        "id": "vonm9jyuIv4t",
        "colab": {
          "base_uri": "https://localhost:8080/"
        },
        "outputId": "5c2c54ea-ac97-4a5f-a20b-1b38eae6163e"
      },
      "source": [
        "### EXACT GP ERM GRADIENTS\n",
        "\n",
        "np.random.seed(run_num_9)\n",
        "surrogate_exact_9 = dGaussianProcess(cov_func, optimize=opt)\n",
        "\n",
        "exact_9 = dGPGO(surrogate_exact_9, Acquisition_new(util_grad_exact), objfunc, param)\n",
        "exact_9.run(init_evals=n_init, max_iter=iters)\n"
      ],
      "execution_count": 42,
      "outputs": [
        {
          "output_type": "stream",
          "name": "stdout",
          "text": [
            "Evaluation \t Proposed point \t  Current eval. \t  Best eval. \t         Max AcqFunc.\n",
            "init\t [-9.79251692  0.03749184 -0.08453414]\t -308.3769452572715\t -308.3769452572715\t    \n",
            "init\t [-7.32340942 -7.15777829 -5.62882649]\t -39098.793761550274\t -308.3769452572715\t    \n",
            "init\t [-1.62983639 -5.03797663 -8.31880698]\t -67224.5603542052\t -308.3769452572715\t    \n",
            "init\t [-3.0900272  -6.66447307  7.57118171]\t -61063.84970572342\t -308.3769452572715\t    \n",
            "init\t [ 9.01928063 -9.22503248  3.98214783]\t -57052.59558792292\t -308.3769452572715\t    \n",
            "1  \t [2.99080926 7.21663846 9.41692024]\t -107317.26583764593\t -308.3769452572715\t -0.7978845607896438\n",
            "2  \t [ 6.86233684  2.90237997 -3.94602224]\t -2626.2381369461364\t -308.3769452572715\t -0.7978845607896438\n",
            "3  \t [-9.77584307 -9.02200933  2.98685213]\t -61841.45747865176\t -308.3769452572715\t -0.7978845607896438\n",
            "4  \t [-2.00413361  1.08900426  2.95561752]\t -852.467214273503\t -308.3769452572715\t -0.7978845607896438\n",
            "5  \t [ 0.47363479  9.30843577 -8.60467824]\t -117507.45495400687\t -308.3769452572715\t -0.7978845607896438\n",
            "6  \t [ 7.08809023 -0.77927986  8.97599599]\t -78756.71445675654\t -308.3769452572715\t -0.7978845607896438\n",
            "7  \t [-8.38555052  3.98138274 -6.84585142]\t -27467.420044115126\t -308.3769452572715\t -0.7978845607896438\n",
            "8  \t [-5.61730476  8.51392682  5.68306534]\t -54834.29015625984\t -308.3769452572715\t -0.7978845607896419\n",
            "9  \t [ 1.55836861 -1.77809853 -2.28997058]\t -497.086726862544\t -308.3769452572715\t -0.7978845607418643\n",
            "10 \t [ 6.11629874 -8.74204803 -0.96542318]\t -43423.330956225946\t -308.3769452572715\t -0.7978845607896438\n",
            "11 \t [ -0.62328299   2.37924749 -10.        ]\t -117449.8827529901\t -308.3769452572715\t -0.7978843300045055\n",
            "12 \t [3.01277451 9.9078286  1.97878079]\t -74760.19292573501\t -308.3769452572715\t -0.7978845607896438\n",
            "13 \t [-8.22545226  0.94352057 -9.98576062]\t -118476.9822257634\t -308.3769452572715\t -0.7978845607896438\n",
            "14 \t [9.09314581 2.33260333 2.63316671]\t -471.035735327593\t -308.3769452572715\t -0.7978845040885146\n",
            "15 \t [-7.96511569 -0.14524422  8.92186616]\t -76380.74596584775\t -308.3769452572715\t -0.7978845607646095\n",
            "16 \t [ 3.75817152 -1.15806573 -8.01294139]\t -50377.04067801203\t -308.3769452572715\t -0.7978845607896438\n",
            "17 \t [ 7.41740696 -9.75111957 -7.73438622]\t -117064.54759963298\t -308.3769452572715\t -0.7978842463666523\n",
            "18 \t [ 9.39804768  7.24650959 -9.67349605]\t -115458.18884345451\t -308.3769452572715\t -0.7978845606311883\n",
            "19 \t [ 8.59120683  9.9269698  -3.21274846]\t -71465.3408112991\t -308.3769452572715\t -0.7978840587759088\n",
            "20 \t [-1.67236544  5.28537239 -2.18888034]\t -6684.856614080234\t -308.3769452572715\t -0.7978845042963612\n",
            "21 \t [-0.32716492  1.07185542  8.91394204]\t -74760.55073239842\t -308.3769452572715\t -0.7978829261546941\n",
            "22 \t [10.          7.5997068   5.70420307]\t -32256.70531035673\t -308.3769452572715\t -0.797883899123525\n",
            "23 \t [ 3.75990062 -3.78067665  3.85966368]\t -4622.1681762919825\t -308.3769452572715\t -0.7978827472159331\n",
            "24 \t [ -2.53254983 -10.           1.66553024]\t -82776.56562166063\t -308.3769452572715\t -0.7978832051163619\n",
            "25 \t [-7.41835356  6.84092188 -1.13231923]\t -20533.708075516708\t -308.3769452572715\t -0.7978593175742286\n",
            "26 \t [-5.16340108 -3.87208794  1.19518357]\t -2644.8055279516448\t -308.3769452572715\t -0.7978785419205492\n",
            "27 \t [ 4.51829311 -5.67189895 -5.66244548]\t -21785.343053827204\t -308.3769452572715\t -0.7978845604021778\n",
            "28 \t [ 3.11578103 -6.28023237 10.        ]\t -139140.31230085168\t -308.3769452572715\t -0.7978798995518955\n",
            "\u001b[1m\u001b[92m29\u001b[0m\t \u001b[1m\u001b[92m[ 7.56377637 -2.29276494 -0.5767832 ]\u001b[0m\t \u001b[1m\u001b[92m-86.73686545519006\u001b[0m\t \u001b[1m\u001b[92m-86.73686545519006\u001b[0m\t \u001b[1m\u001b[92m-0.797858615442058\u001b[0m\n",
            "30 \t [-5.93597964 -1.62287644 -4.29636448]\t -4755.22256456734\t -86.73686545519006\t -0.7978845607896016\n"
          ]
        }
      ]
    },
    {
      "cell_type": "code",
      "metadata": {
        "id": "6amuYlUdIv7r",
        "colab": {
          "base_uri": "https://localhost:8080/"
        },
        "outputId": "5da9e790-7ed9-43fd-e3ec-bdfcf282ffb4"
      },
      "source": [
        "### EXACT GP ERM GRADIENTS\n",
        "\n",
        "np.random.seed(run_num_10)\n",
        "surrogate_exact_10 = dGaussianProcess(cov_func, optimize=opt)\n",
        "\n",
        "exact_10 = dGPGO(surrogate_exact_10, Acquisition_new(util_grad_exact), objfunc, param)\n",
        "exact_10.run(init_evals=n_init, max_iter=iters)\n"
      ],
      "execution_count": 43,
      "outputs": [
        {
          "output_type": "stream",
          "name": "stdout",
          "text": [
            "Evaluation \t Proposed point \t  Current eval. \t  Best eval. \t         Max AcqFunc.\n",
            "init\t [ 5.42641287 -9.58496101  2.6729647 ]\t -65323.138576781035\t -11089.42002600802\t    \n",
            "init\t [ 4.97607765 -0.02985975 -5.50406709]\t -11089.42002600802\t -11089.42002600802\t    \n",
            "init\t [-6.0387427   5.21061424 -6.61778327]\t -27690.457734888914\t -11089.42002600802\t    \n",
            "init\t [-8.23320372  3.70719637  9.06786692]\t -80154.14403008527\t -11089.42002600802\t    \n",
            "init\t [-9.92103467  0.24384527  6.25241923]\t -18545.57155390516\t -11089.42002600802\t    \n",
            "1  \t [6.10446394 0.43294305 8.17297762]\t -53288.212919444646\t -11089.42002600802\t -0.7978845607896438\n",
            "2  \t [-9.70279951  9.55798527  1.46057808]\t -74244.04457503722\t -11089.42002600802\t -0.7978845607896438\n",
            "3  \t [10. 10. 10.]\t -180581.0\t -11089.42002600802\t -0.7978845607896438\n",
            "4  \t [3.25643503 8.71340004 2.25458364]\t -44169.54631375984\t -11089.42002600802\t -0.7978845607896438\n",
            "5  \t [-4.51864821 -4.41820786 -7.58640717]\t -46684.2942823814\t -11089.42002600802\t -0.7978845607896438\n",
            "6  \t [ 8.09627953 -9.91552173 -8.52992239]\t -143623.97605290846\t -11089.42002600802\t -0.7978845607896438\n",
            "7  \t [-9.75278315 -8.3941125   1.52745891]\t -46033.27324615896\t -11089.42002600802\t -0.7978845607896438\n",
            "8  \t [ 9.80335485  7.06202787 -3.11757933]\t -16715.848126851764\t -11089.42002600802\t -0.7978845607896438\n",
            "9  \t [ 4.75956805  9.80240257 -8.62327379]\t -128158.33219601207\t -11089.42002600802\t -0.797884560713106\n",
            "\u001b[1m\u001b[92m10\u001b[0m\t \u001b[1m\u001b[92m[-5.4181737  -1.96082764  0.31177455]\u001b[0m\t \u001b[1m\u001b[92m-398.7602465249535\u001b[0m\t \u001b[1m\u001b[92m-398.7602465249535\u001b[0m\t \u001b[1m\u001b[92m-0.7978845599574674\u001b[0m\n",
            "11 \t [-3.08865051 -6.01035823  7.87060749]\t -61992.77217562453\t -398.7602465249535\t -0.7978845607896425\n",
            "12 \t [4.46588649 0.41056736 4.72710494]\t -5928.386985062376\t -398.7602465249535\t -0.7978845607896438\n",
            "13 \t [0.13669514 7.60924004 9.42572017]\t -113538.00276881627\t -398.7602465249535\t -0.797884560474835\n",
            "14 \t [-3.20391884  4.51381076  3.22283502]\t -4674.502730893059\t -398.7602465249535\t -0.7978845540936587\n",
            "15 \t [ 0.46400721 -4.72959382  0.65758058]\t -4014.573159927248\t -398.7602465249535\t -0.7978844249693539\n",
            "16 \t [-10.          -8.33776543  -9.95291262]\t -172420.44525460838\t -398.7602465249535\t -0.7978844628955724\n",
            "17 \t [-0.01948924  6.71081536 -3.75285062]\t -17614.505748652413\t -398.7602465249535\t -0.7978839355395618\n",
            "18 \t [ 3.36043818 -5.74115878 10.        ]\t -134821.69497089437\t -398.7602465249535\t -0.7978828129604071\n",
            "19 \t [10.          5.66384515  3.74295967]\t -7446.564537633802\t -398.7602465249535\t -0.7978844509172881\n",
            "20 \t [-0.86415678 -9.86351312 -3.31446396]\t -79438.95228486595\t -398.7602465249535\t -0.7978842656366167\n",
            "21 \t [  0.06496856   0.27746058 -10.        ]\t -119668.16838288531\t -398.7602465249535\t -0.7978836529200345\n",
            "22 \t [ 5.53184603 -6.05851333 -3.7102307 ]\t -12620.634137937226\t -398.7602465249535\t -0.7978712037830448\n",
            "23 \t [  1.54233243 -10.         -10.        ]\t -211071.18576069252\t -398.7602465249535\t -0.7978786326252711\n",
            "24 \t [-10.          -3.64157586  -3.46645135]\t -5086.309843356841\t -398.7602465249535\t -0.7978829608296449\n",
            "\u001b[1m\u001b[92m25\u001b[0m\t \u001b[1m\u001b[92m[ 9.24998361  0.71055407 -0.74278963]\u001b[0m\t \u001b[1m\u001b[92m-204.32748757522938\u001b[0m\t \u001b[1m\u001b[92m-204.32748757522938\u001b[0m\t \u001b[1m\u001b[92m-0.7978811816826207\u001b[0m\n",
            "26 \t [  8.19205853   4.42053884 -10.        ]\t -116714.11999152164\t -204.32748757522938\t -0.7978669018407413\n",
            "27 \t [10.         -5.61369992  5.9530755 ]\t -23257.81879189981\t -204.32748757522938\t -0.7978837391280625\n",
            "\u001b[1m\u001b[92m28\u001b[0m\t \u001b[1m\u001b[92m[0.28677253 0.94208664 0.51264775]\u001b[0m\t \u001b[1m\u001b[92m-5.4590044053273505\u001b[0m\t \u001b[1m\u001b[92m-5.4590044053273505\u001b[0m\t \u001b[1m\u001b[92m-0.797640593043223\u001b[0m\n",
            "29 \t [ 9.86832269 -7.03646675 -1.16157646]\t -16260.329894886263\t -5.4590044053273505\t -0.7978845607896438\n",
            "30 \t [-10.           0.54142499 -10.        ]\t -119696.30817541022\t -5.4590044053273505\t -0.7978843958480919\n"
          ]
        }
      ]
    },
    {
      "cell_type": "code",
      "metadata": {
        "id": "VwbLIP9cIv-F",
        "colab": {
          "base_uri": "https://localhost:8080/"
        },
        "outputId": "049a38b9-ad55-457e-c36c-9db023f0afd6"
      },
      "source": [
        "### EXACT GP ERM GRADIENTS\n",
        "\n",
        "np.random.seed(run_num_11)\n",
        "surrogate_exact_11 = dGaussianProcess(cov_func, optimize=opt)\n",
        "\n",
        "exact_11 = dGPGO(surrogate_exact_11, Acquisition_new(util_grad_exact), objfunc, param)\n",
        "exact_11.run(init_evals=n_init, max_iter=iters)\n"
      ],
      "execution_count": 44,
      "outputs": [
        {
          "output_type": "stream",
          "name": "stdout",
          "text": [
            "Evaluation \t Proposed point \t  Current eval. \t  Best eval. \t         Max AcqFunc.\n",
            "init\t [-6.39460622 -9.61049517 -0.73562947]\t -73449.7462395723\t -22.303897517794855\t    \n",
            "init\t [ 4.49867858 -1.59592791 -0.29145804]\t -22.303897517794855\t -22.303897517794855\t    \n",
            "init\t [-9.74438371 -0.25256785  8.83613305]\t -73699.8605668882\t -22.303897517794855\t    \n",
            "init\t [ 7.01590179  4.5992894  -7.82527856]\t -44207.59530328671\t -22.303897517794855\t    \n",
            "init\t [ 7.87808341  7.14308494 -6.69826765]\t -38246.569253964415\t -22.303897517794855\t    \n",
            "1  \t [-1.96647039  6.95957995  4.35698359]\t -22430.99927361658\t -22.303897517794855\t -0.7978845607896438\n",
            "2  \t [-3.72641694  8.61531845 -5.23307798]\t -52726.91681995238\t -22.303897517794855\t -0.7978845607896438\n",
            "3  \t [ 9.87552939 -6.4957027  -5.76997644]\t -27205.562806391157\t -22.303897517794855\t -0.7978845607896438\n",
            "4  \t [8.79978443 9.21187338 4.01322808]\t -53436.69770955808\t -22.303897517794855\t -0.7978845607896438\n",
            "5  \t [ 5.40088552 -8.93292028  7.72280751]\t -96888.8410801737\t -22.303897517794855\t -0.7978845607896438\n",
            "6  \t [-0.26742899 -6.31007923 -8.97386454]\t -96808.86899404117\t -22.303897517794855\t -0.7978845607896438\n",
            "7  \t [-9.91700398  2.82413986 -1.82953825]\t -1502.4804901611444\t -22.303897517794855\t -0.7978845607896338\n",
            "8  \t [9.19882162 0.03064205 8.95268462]\t -77296.27028686141\t -22.303897517794855\t -0.7978845607896438\n",
            "9  \t [-0.1949367  -2.43324167  7.75375352]\t -45438.36504414475\t -22.303897517794855\t -0.7978845607870683\n",
            "10 \t [-9.59976122  8.38827695  9.33640652]\t -127925.16238139631\t -22.303897517794855\t -0.797884560788657\n",
            "11 \t [-8.75015747 -5.39823628 -8.50829628]\t -76744.16220125134\t -22.303897517794855\t -0.7978845607862349\n",
            "12 \t [-1.4167325   1.63619074 -9.15674172]\t -82820.96662482916\t -22.303897517794855\t -0.7978845605396198\n",
            "13 \t [8.90382258 2.51893661 0.08575585]\t -109.95543323209978\t -22.303897517794855\t -0.7978844928454465\n",
            "14 \t [ 1.3925504  -7.5833256  -1.12331643]\t -26126.11925624919\t -22.303897517794855\t -0.7978845600083988\n",
            "15 \t [ 9.09743006 -7.82393094  1.54900137]\t -26231.110519638634\t -22.303897517794855\t -0.7978844812343894\n",
            "16 \t [-1.92588311  1.42871253  0.11809498]\t -86.6475486080666\t -22.303897517794855\t -0.7978844007573785\n",
            "17 \t [ 0.02229196 10.         10.        ]\t -188283.12334137602\t -22.303897517794855\t -0.7978836321801582\n",
            "18 \t [-9.52258371 -8.227338    6.13033311]\t -62964.517294875375\t -22.303897517794855\t -0.7978845577117267\n",
            "19 \t [ -7.69091608   6.11211608 -10.        ]\t -126434.84185324938\t -22.303897517794855\t -0.7978819766420282\n",
            "20 \t [-6.23603222 -2.28279432  1.34059853]\t -710.9847682033594\t -22.303897517794855\t -0.7978835820542698\n",
            "21 \t [ 1.98602539  6.49158023 -2.27672269]\t -13591.027958319091\t -22.303897517794855\t -0.7978831101136017\n",
            "22 \t [-7.40952256  8.26847427  0.49722339]\t -41807.50489364741\t -22.303897517794855\t -0.7978826120769982\n",
            "23 \t [3.57951896 2.82388183 4.07044402]\t -3069.303790769852\t -22.303897517794855\t -0.7978843074461303\n",
            "24 \t [10.          7.95941316 10.        ]\t -137959.6489882048\t -22.303897517794855\t -0.7978356426958739\n",
            "25 \t [ 2.69741318  0.07454158 -4.85036223]\t -6637.966211909346\t -22.303897517794855\t -0.7978845607896438\n",
            "26 \t [-2.74425229 -8.80942851  7.74720407]\t -99719.65725331665\t -22.303897517794855\t -0.7978835272001749\n",
            "27 \t [-8.99103568  3.37975855  3.65199743]\t -3754.8442256633207\t -22.303897517794855\t -0.7976608729655843\n",
            "28 \t [ 4.39983168 -8.31945792 -5.98967129]\t -55172.464856843515\t -22.303897517794855\t -0.7964102790879107\n",
            "29 \t [-7.51880973 -0.09885826 -5.60791652]\t -12091.83031343139\t -22.303897517794855\t -0.7975429481151711\n",
            "30 \t [-0.09494413  3.43144837 10.        ]\t -117036.92147863135\t -22.303897517794855\t -0.7978335004612496\n"
          ]
        }
      ]
    },
    {
      "cell_type": "code",
      "metadata": {
        "id": "MlUNFjc-JTBY",
        "colab": {
          "base_uri": "https://localhost:8080/"
        },
        "outputId": "6b518013-be68-473f-d5bb-db5d05ab8a54"
      },
      "source": [
        "### EXACT GP ERM GRADIENTS\n",
        "\n",
        "np.random.seed(run_num_12)\n",
        "surrogate_exact_12 = dGaussianProcess(cov_func, optimize=opt)\n",
        "\n",
        "exact_12 = dGPGO(surrogate_exact_12, Acquisition_new(util_grad_exact), objfunc, param)\n",
        "exact_12.run(init_evals=n_init, max_iter=iters)\n"
      ],
      "execution_count": 45,
      "outputs": [
        {
          "output_type": "stream",
          "name": "stdout",
          "text": [
            "Evaluation \t Proposed point \t  Current eval. \t  Best eval. \t         Max AcqFunc.\n",
            "init\t [-6.91674315  4.80099393 -4.7336997 ]\t -10487.591252066548\t -4586.38475927115\t    \n",
            "init\t [ 0.67478787 -9.70850075  8.37494016]\t -138053.19180525147\t -4586.38475927115\t    \n",
            "init\t [ 8.01429708 -9.33157145  9.13898673]\t -148578.70720060062\t -4586.38475927115\t    \n",
            "init\t [-7.25581357 -4.32343294  2.12166369]\t -4586.38475927115\t -4586.38475927115\t    \n",
            "init\t [ 8.88450272  7.05471082 -9.95481533]\t -126104.01453704505\t -4586.38475927115\t    \n",
            "\u001b[1m\u001b[92m1\u001b[0m\t \u001b[1m\u001b[92m[ 4.05244711 -3.44861047 -3.30704942]\u001b[0m\t \u001b[1m\u001b[92m-2711.705028601448\u001b[0m\t \u001b[1m\u001b[92m-2711.705028601448\u001b[0m\t \u001b[1m\u001b[92m-0.7978845607896438\u001b[0m\n",
            "2  \t [-9.8399332  -9.79123196  1.94917609]\t -82290.79401902205\t -2711.705028601448\t -0.7978845607896438\n",
            "3  \t [-9.24117561 -6.89977426 -6.58701988]\t -48252.938906954136\t -2711.705028601448\t -0.7978845607896438\n",
            "4  \t [-9.90274624 -5.05558204  6.5981439 ]\t -33027.813423262836\t -2711.705028601448\t -0.7978845607896438\n",
            "\u001b[1m\u001b[92m5\u001b[0m\t \u001b[1m\u001b[92m[8.11179655 4.25164412 2.83994041]\u001b[0m\t \u001b[1m\u001b[92m-2046.5141241551942\u001b[0m\t \u001b[1m\u001b[92m-2046.5141241551942\u001b[0m\t \u001b[1m\u001b[92m-0.7978845607896438\u001b[0m\n",
            "6  \t [-1.0203127   6.70305372  2.93327516]\t -16854.29441646725\t -2046.5141241551942\t -0.7978845607896438\n",
            "7  \t [2.24146714 3.87396922 9.57204863]\t -98069.68646479683\t -2046.5141241551942\t -0.7978845607896329\n",
            "8  \t [-3.39588922 -3.70052717  9.95424593]\t -124174.59831589606\t -2046.5141241551942\t -0.7978845607896438\n",
            "9  \t [-0.02778373  2.51700407 -8.18845817]\t -52267.14736837279\t -2046.5141241551942\t -0.7978845607651442\n",
            "10 \t [-9.79176428  7.36536448  5.25320924]\t -34963.294709396985\t -2046.5141241551942\t -0.7978845607896438\n",
            "\u001b[1m\u001b[92m11\u001b[0m\t \u001b[1m\u001b[92m[-0.53373012 -1.61529331  2.18643426]\u001b[0m\t \u001b[1m\u001b[92m-443.25295788399114\u001b[0m\t \u001b[1m\u001b[92m-443.25295788399114\u001b[0m\t \u001b[1m\u001b[92m-0.7978845607896438\u001b[0m\n",
            "12 \t [ 3.90293143  7.47809194 -2.68362028]\t -23454.743377384744\t -443.25295788399114\t -0.7978845607891266\n",
            "13 \t [-2.3327113  -6.10833514 -1.76271163]\t -12311.171273777029\t -443.25295788399114\t -0.7978845369979721\n",
            "14 \t [ 2.82957347 -8.84843756 -9.06320387]\t -137211.52228276304\t -443.25295788399114\t -0.7978845607896291\n",
            "15 \t [9.72058271 7.89080656 9.56612543]\t -118450.58666630497\t -443.25295788399114\t -0.7978845607874366\n",
            "16 \t [ 9.96439472 -4.89952072 -7.88213526]\t -53018.92173962747\t -443.25295788399114\t -0.7978845607896436\n",
            "17 \t [ 5.54907157 -8.41346952  0.63509449]\t -37280.71302003675\t -443.25295788399114\t -0.7978845581966062\n",
            "18 \t [ 6.37172418 -1.60507134  7.83761682]\t -46503.85779285467\t -443.25295788399114\t -0.7978842343489215\n",
            "19 \t [10.         10.         -1.71063226]\t -72332.60463607634\t -443.25295788399114\t -0.7978832745784495\n",
            "20 \t [ 9.35691601  1.56820646 -2.81872262]\t -724.6115544486455\t -443.25295788399114\t -0.7978845579405686\n",
            "21 \t [ -8.99292164   0.9093302  -10.        ]\t -119237.84666916859\t -443.25295788399114\t -0.7978845607892987\n",
            "22 \t [ 6.72999519 -9.85288555  3.98217806]\t -75475.66507226418\t -443.25295788399114\t -0.7978845607896438\n",
            "23 \t [-8.10098369  0.61845424  8.65164439]\t -66917.66088073654\t -443.25295788399114\t -0.7978845607896438\n",
            "24 \t [-3.77860199 -7.84249219 -9.92916617]\t -158271.7982907587\t -443.25295788399114\t -0.7978702556382335\n",
            "25 \t [-3.13916433 10.         -2.81182987]\t -82649.53789288132\t -443.25295788399114\t -0.7978839791011595\n",
            "26 \t [-1.64400763 10.          8.94564709]\t -148871.8931246263\t -443.25295788399114\t -0.7978842715589022\n",
            "27 \t [-0.24794376  9.14821148 -9.57675165]\t -147320.20240691642\t -443.25295788399114\t -0.7978831596651851\n",
            "28 \t [-6.09010613 -1.52900608 -4.03389002]\t -3765.094681498809\t -443.25295788399114\t -0.7978737951226198\n",
            "29 \t [  6.26806852   0.83206516 -10.        ]\t -119079.04661104022\t -443.25295788399114\t -0.7978789230969481\n",
            "30 \t [-5.9716359   3.35122783  1.08826766]\t -1668.3814916493845\t -443.25295788399114\t -0.7978453876581676\n"
          ]
        }
      ]
    },
    {
      "cell_type": "code",
      "metadata": {
        "id": "9BsKdU9eJTFL",
        "colab": {
          "base_uri": "https://localhost:8080/"
        },
        "outputId": "04227717-19d5-417d-f359-4e6901c61b6e"
      },
      "source": [
        "### EXACT GP ERM GRADIENTS\n",
        "\n",
        "np.random.seed(run_num_13)\n",
        "surrogate_exact_13 = dGaussianProcess(cov_func, optimize=opt)\n",
        "\n",
        "exact_13 = dGPGO(surrogate_exact_13, Acquisition_new(util_grad_exact), objfunc, param)\n",
        "exact_13.run(init_evals=n_init, max_iter=iters)\n"
      ],
      "execution_count": 46,
      "outputs": [
        {
          "output_type": "stream",
          "name": "stdout",
          "text": [
            "Evaluation \t Proposed point \t  Current eval. \t  Best eval. \t         Max AcqFunc.\n",
            "init\t [ 5.55404821 -5.2491756   6.48557065]\t -28895.231649642476\t -7190.67128147545\t    \n",
            "init\t [ 9.31498396  9.45202228 -0.93101505]\t -57617.86193657745\t -7190.67128147545\t    \n",
            "init\t [2.18084926 5.51053029 2.8322669 ]\t -7190.67128147545\t -7190.67128147545\t    \n",
            "init\t [ 4.44036459 -9.29926952 -4.03101058]\t -62045.794621798595\t -7190.67128147545\t    \n",
            "init\t [-8.82975016  7.14121885 -2.54291944]\t -24761.06708561053\t -7190.67128147545\t    \n",
            "1  \t [ 0.185244   -0.40233217  9.1114829 ]\t -83108.09560590271\t -7190.67128147545\t -0.7978845607896438\n",
            "2  \t [-2.55507975  5.16954611 -8.57852975]\t -66788.32667697628\t -7190.67128147545\t -0.7978845607896438\n",
            "3  \t [-4.04492519 -9.41811807  2.86360578]\t -67871.1485238979\t -7190.67128147545\t -0.7978845607896438\n",
            "4  \t [ 5.82685351 -2.07230908 -7.09410447]\t -31695.800000421277\t -7190.67128147545\t -0.7978845607896438\n",
            "5  \t [-9.72135464 -7.69244795 -6.22844507]\t -54735.99736938843\t -7190.67128147545\t -0.7978845607896438\n",
            "6  \t [ 1.70981611 -7.96842051  6.63640935]\t -59069.60046239685\t -7190.67128147545\t -0.7978845607896438\n",
            "7  \t [-6.89693512  7.89224447  6.75048422]\t -55421.72956910572\t -7190.67128147545\t -0.7978845607896436\n",
            "8  \t [7.79388742 5.66497036 7.57468992]\t -42105.64148230834\t -7190.67128147545\t -0.7978845574455397\n",
            "\u001b[1m\u001b[92m9\u001b[0m\t \u001b[1m\u001b[92m[-1.85324964  0.86932901 -2.44220822]\u001b[0m\t \u001b[1m\u001b[92m-397.7168298828595\u001b[0m\t \u001b[1m\u001b[92m-397.7168298828595\u001b[0m\t \u001b[1m\u001b[92m-0.7978845607896438\u001b[0m\n",
            "10 \t [ 4.52030949  5.18145825 -5.46812032]\t -13798.474797366369\t -397.7168298828595\t -0.7978845550849256\n",
            "11 \t [-7.33037661 -5.43830137  9.80324356]\t -126099.93632971952\t -397.7168298828595\t -0.7978845607886416\n",
            "12 \t [-8.01313564 -2.54697856  2.63441906]\t -1771.7422457954754\t -397.7168298828595\t -0.7978845607896438\n",
            "13 \t [-1.27662386  9.11870236  9.7460237 ]\t -154291.54277802666\t -397.7168298828595\t -0.7978845607896438\n",
            "14 \t [-0.33580928 -8.46313836 -9.58914318]\t -152249.80067087663\t -397.7168298828595\t -0.7978845369653816\n",
            "\u001b[1m\u001b[92m15\u001b[0m\t \u001b[1m\u001b[92m[10.         -0.73672173 -0.8067017 ]\u001b[0m\t \u001b[1m\u001b[92m-252.39945989359342\u001b[0m\t \u001b[1m\u001b[92m-252.39945989359342\u001b[0m\t \u001b[1m\u001b[92m-0.7978845593906939\u001b[0m\n",
            "16 \t [-7.02932367 -1.51277489 -9.24443588]\t -89532.22926823726\t -252.39945989359342\t -0.7978845409521511\n",
            "17 \t [-3.22763234 -5.89950329 -2.82234795]\t -12057.763935733421\t -252.39945989359342\t -0.7978821729000616\n",
            "18 \t [ 4.05746756 -2.97423741  0.58824379]\t -421.4839180204254\t -252.39945989359342\t -0.7978795458507694\n",
            "19 \t [6.28948877 1.1576258  7.72507096]\t -41964.78613282861\t -252.39945989359342\t -0.7978845607896438\n",
            "20 \t [4.84759227 0.35590622 3.48973611]\t -1785.1061528226342\t -252.39945989359342\t -0.7978845607896438\n",
            "21 \t [ 9.43111755  8.61318074 -8.35561669]\t -90179.51452659242\t -252.39945989359342\t -0.7978836924518647\n",
            "22 \t [-8.82859559  7.62795782 -9.89307628]\t -137611.81884131514\t -252.39945989359342\t -0.7978835761606269\n",
            "23 \t [-10.           0.33902015  -3.13794258]\t -1454.0727030877651\t -252.39945989359342\t -0.797883880131631\n",
            "24 \t [-8.28825767  3.87422849  8.50940191]\t -62618.206114882414\t -252.39945989359342\t -0.7978845607896438\n",
            "25 \t [ 9.51650739 -7.45265382  0.55396087]\t -20899.682211133037\t -252.39945989359342\t -0.7978843549565595\n",
            "26 \t [-3.467139    9.36092252  0.74065349]\t -64107.13172649309\t -252.39945989359342\t -0.7978829901531898\n",
            "27 \t [10.         -5.85255761 10.        ]\t -134052.46395964382\t -252.39945989359342\t -0.7972458241076148\n",
            "28 \t [-6.4496568   4.10673375  1.78756518]\t -3300.0418490854045\t -252.39945989359342\t -0.797421984574898\n",
            "29 \t [ 1.12948782 10.         -5.17173304]\t -84774.06953213361\t -252.39945989359342\t -0.7977885235844366\n",
            "\u001b[1m\u001b[92m30\u001b[0m\t \u001b[1m\u001b[92m[ 2.7198016   1.9139719  -1.24450781]\u001b[0m\t \u001b[1m\u001b[92m-49.6053963381232\u001b[0m\t \u001b[1m\u001b[92m-49.6053963381232\u001b[0m\t \u001b[1m\u001b[92m-0.7958059102497803\u001b[0m\n"
          ]
        }
      ]
    },
    {
      "cell_type": "code",
      "metadata": {
        "id": "k6GjFBr1JTJf",
        "colab": {
          "base_uri": "https://localhost:8080/"
        },
        "outputId": "973f4577-9bca-4b39-fd5b-70463368ece8"
      },
      "source": [
        "### EXACT GP ERM GRADIENTS\n",
        "\n",
        "np.random.seed(run_num_14)\n",
        "surrogate_exact_14 = dGaussianProcess(cov_func, optimize=opt)\n",
        "\n",
        "exact_14 = dGPGO(surrogate_exact_14, Acquisition_new(util_grad_exact), objfunc, param)\n",
        "exact_14.run(init_evals=n_init, max_iter=iters)\n"
      ],
      "execution_count": 47,
      "outputs": [
        {
          "output_type": "stream",
          "name": "stdout",
          "text": [
            "Evaluation \t Proposed point \t  Current eval. \t  Best eval. \t         Max AcqFunc.\n",
            "init\t [0.27886688 5.46330104 7.40855371]\t -39702.89936997373\t -1439.5830530376063\t    \n",
            "init\t [-9.83906103 -3.80528149  9.15207479]\t -91186.29991894927\t -1439.5830530376063\t    \n",
            "init\t [ 0.26233425 -3.6343115   0.78399875]\t -1439.5830530376063\t -1439.5830530376063\t    \n",
            "init\t [-5.57490115  6.12962716 -3.15490749]\t -13643.962145478023\t -1439.5830530376063\t    \n",
            "init\t [ 0.77777698 -9.88252429  3.46304956]\t -79141.18744713577\t -1439.5830530376063\t    \n",
            "1  \t [ 7.75074914 -8.33301678  4.9312824 ]\t -44170.557703432896\t -1439.5830530376063\t -0.7978845607896438\n",
            "2  \t [ 2.4133841   6.9805318  -1.42862351]\t -18093.267359135454\t -1439.5830530376063\t -0.7978845607896438\n",
            "3  \t [ 0.20170278 -6.14709147 -9.49686071]\t -115740.3239857176\t -1439.5830530376063\t -0.7978845607896438\n",
            "4  \t [ 9.06294459  1.2992097  -8.82658009]\t -71756.96862893569\t -1439.5830530376063\t -0.7978845607896438\n",
            "\u001b[1m\u001b[92m5\u001b[0m\t \u001b[1m\u001b[92m[-9.55982645 -2.40648449 -1.49955998]\u001b[0m\t \u001b[1m\u001b[92m-1148.4811474641567\u001b[0m\t \u001b[1m\u001b[92m-1148.4811474641567\u001b[0m\t \u001b[1m\u001b[92m-0.7978845607896438\u001b[0m\n",
            "6  \t [ 3.207504   -1.83537802  8.35104104]\t -59939.7065210044\t -1148.4811474641567\t -0.7978845607708542\n",
            "7  \t [-9.98486983  5.65195322  8.85829998]\t -79698.68163272133\t -1148.4811474641567\t -0.7978845607896438\n",
            "\u001b[1m\u001b[92m8\u001b[0m\t \u001b[1m\u001b[92m[ 6.53009086 -0.98490067 -1.42257227]\u001b[0m\t \u001b[1m\u001b[92m-148.69156256801148\u001b[0m\t \u001b[1m\u001b[92m-148.69156256801148\u001b[0m\t \u001b[1m\u001b[92m-0.797884560354132\u001b[0m\n",
            "9  \t [-10. -10. -10.]\t -220621.0\t -148.69156256801148\t -0.7978845607896438\n",
            "10 \t [-4.76065837 -6.01957255  5.24376667]\t -23130.52422954533\t -148.69156256801148\t -0.7978845607896438\n",
            "11 \t [6.07674427 9.60748687 3.65072101]\t -64644.21910094508\t -148.69156256801148\t -0.7978845605001016\n",
            "12 \t [-6.98452656  0.74550078 -9.19401505]\t -85183.98118751567\t -148.69156256801148\t -0.7978845607896438\n",
            "13 \t [-3.36390978  3.12902366  6.11942711]\t -16523.004276481952\t -148.69156256801148\t -0.7978845607896438\n",
            "14 \t [9.95838079 3.67133743 8.12673548]\t -50130.443455332184\t -148.69156256801148\t -0.797884560780563\n",
            "15 \t [0.89026243 7.74449105 2.59197279]\t -28449.696044348027\t -148.69156256801148\t -0.7978845607896438\n",
            "16 \t [-6.45186323 -9.64307342 -2.50178816]\t -75587.15160898332\t -148.69156256801148\t -0.7978845607896438\n",
            "17 \t [ 9.0893109  -5.92466502 -6.98620689]\t -39696.15226563772\t -148.69156256801148\t -0.7978845454247961\n",
            "18 \t [ 2.24496432 -3.39912563 -6.205258  ]\t -20269.19299563198\t -148.69156256801148\t -0.7978845607896438\n",
            "19 \t [10.         -3.97156661 10.        ]\t -125822.71901719236\t -148.69156256801148\t -0.7978843509402083\n",
            "20 \t [-0.18096804  5.54198171 -7.64991598]\t -44889.55754911145\t -148.69156256801148\t -0.7978842854606786\n",
            "21 \t [ 7.8680018   7.4375032  -5.65385386]\t -30743.34873717995\t -148.69156256801148\t -0.7978839966425747\n",
            "22 \t [-6.81560424  9.16205763  2.94025924]\t -61301.00641850893\t -148.69156256801148\t -0.7978844164232438\n",
            "23 \t [-10.         -10.           4.18299831]\t -94394.6364902628\t -148.69156256801148\t -0.7978832461726226\n",
            "24 \t [9.26119751 3.90532749 0.63952097]\t -999.2850565787567\t -148.69156256801148\t -0.7978837622090365\n",
            "\u001b[1m\u001b[92m25\u001b[0m\t \u001b[1m\u001b[92m[-4.19466778 -0.02287912 -0.13049761]\u001b[0m\t \u001b[1m\u001b[92m-62.202342709188414\u001b[0m\t \u001b[1m\u001b[92m-62.202342709188414\u001b[0m\t \u001b[1m\u001b[92m-0.7978637869653666\u001b[0m\n",
            "26 \t [ 2.10330663  1.39208311 -3.16925536]\t -1056.1528874619112\t -62.202342709188414\t -0.7978845570852917\n",
            "27 \t [ 3.36753361 -9.22336081 -4.10343627]\t -61153.39224166442\t -62.202342709188414\t -0.7978845607896438\n",
            "28 \t [ 9.71907467 -1.40543011  3.33979712]\t -1829.6258879460624\t -62.202342709188414\t -0.7978770433066507\n",
            "29 \t [4.01718124 1.15957033 3.26470269]\t -1231.543995533076\t -62.202342709188414\t -0.7978845607893786\n",
            "30 \t [-9.54043868  7.97210445 -8.46376271]\t -92374.1985426716\t -62.202342709188414\t -0.797884375593789\n"
          ]
        }
      ]
    },
    {
      "cell_type": "code",
      "metadata": {
        "id": "dPS8WB3aJTN6",
        "colab": {
          "base_uri": "https://localhost:8080/"
        },
        "outputId": "5474947c-cd00-4caf-9994-fc451a6615ee"
      },
      "source": [
        "### EXACT GP ERM GRADIENTS\n",
        "\n",
        "np.random.seed(run_num_15)\n",
        "surrogate_exact_15 = dGaussianProcess(cov_func, optimize=opt)\n",
        "\n",
        "exact_15 = dGPGO(surrogate_exact_15, Acquisition_new(util_grad_exact), objfunc, param)\n",
        "exact_15.run(init_evals=n_init, max_iter=iters)\n"
      ],
      "execution_count": 48,
      "outputs": [
        {
          "output_type": "stream",
          "name": "stdout",
          "text": [
            "Evaluation \t Proposed point \t  Current eval. \t  Best eval. \t         Max AcqFunc.\n",
            "init\t [ 6.97635395 -6.4220815  -8.91273571]\t -93407.31094956005\t -3815.237318891498\t    \n",
            "init\t [-2.76923108 -4.49198143  0.6000045 ]\t -3815.237318891498\t -3815.237318891498\t    \n",
            "init\t [-3.88162169 -3.91051282 -7.76517448]\t -48905.136415868226\t -3815.237318891498\t    \n",
            "init\t [-5.00201972  8.35259796 -4.71706293]\t -45736.265979350435\t -3815.237318891498\t    \n",
            "init\t [4.35547375 7.31430068 6.14158964]\t -35004.84714820178\t -3815.237318891498\t    \n",
            "\u001b[1m\u001b[92m1\u001b[0m\t \u001b[1m\u001b[92m[-4.02002687  0.75490439  3.31255076]\u001b[0m\t \u001b[1m\u001b[92m-1425.6331932181074\u001b[0m\t \u001b[1m\u001b[92m-1425.6331932181074\u001b[0m\t \u001b[1m\u001b[92m-0.7978845607896438\u001b[0m\n",
            "2  \t [ 2.60405856  6.24027381 -8.67997755]\t -73928.10815893668\t -1425.6331932181074\t -0.7978845607896438\n",
            "3  \t [-8.34831929 -8.92943781  6.10252726]\t -77285.42186452134\t -1425.6331932181074\t -0.7978845607896438\n",
            "4  \t [ 5.05406978 -4.8669869   5.11668062]\t -13423.651465814419\t -1425.6331932181074\t -0.7978845607896438\n",
            "5  \t [ 9.6912661   3.58725193 -5.40327777]\t -9600.747023774824\t -1425.6331932181074\t -0.7978845607896438\n",
            "\u001b[1m\u001b[92m6\u001b[0m\t \u001b[1m\u001b[92m[-9.79351252 -2.51545841 -0.23562792]\u001b[0m\t \u001b[1m\u001b[92m-1145.0724111700745\u001b[0m\t \u001b[1m\u001b[92m-1145.0724111700745\u001b[0m\t \u001b[1m\u001b[92m-0.7978845607889508\u001b[0m\n",
            "7  \t [-8.19638088  7.14691904  8.96231951]\t -95126.48688189717\t -1145.0724111700745\t -0.7978845607896438\n",
            "8  \t [-3.08837217 -3.46510966  9.26671702]\t -93580.57833612316\t -1145.0724111700745\t -0.7978845607699624\n",
            "9  \t [ 4.223123    8.63767022 -1.17549929]\t -42161.33369318762\t -1145.0724111700745\t -0.7978845604385183\n",
            "10 \t [-10.          -9.21776517  -2.97317184]\t -67044.1577970182\t -1145.0724111700745\t -0.7978845607220526\n",
            "\u001b[1m\u001b[92m11\u001b[0m\t \u001b[1m\u001b[92m[9.26788323 0.19867902 1.49773466]\u001b[0m\t \u001b[1m\u001b[92m-292.3851238079286\u001b[0m\t \u001b[1m\u001b[92m-292.3851238079286\u001b[0m\t \u001b[1m\u001b[92m-0.797884560757358\u001b[0m\n",
            "12 \t [ 7.53512913  0.42566949 10.        ]\t -119635.3445089394\t -292.3851238079286\t -0.7978845606972793\n",
            "13 \t [ 8.72200554 -5.88153557 -0.96388345]\t -7550.865568037794\t -292.3851238079286\t -0.7978845607896438\n",
            "14 \t [  1.97368391 -10.           0.91344104]\t -78838.27089935228\t -292.3851238079286\t -0.7978845607862521\n",
            "15 \t [-9.72970835  1.63019389 -8.98385101]\t -77165.35620565368\t -292.3851238079286\t -0.7978845607891123\n",
            "16 \t [-6.33602258  2.48371092 -1.61488012]\t -773.6194608831133\t -292.3851238079286\t -0.7978845607896438\n",
            "\u001b[1m\u001b[92m17\u001b[0m\t \u001b[1m\u001b[92m[-0.09270163  2.28586625 -1.8349096 ]\u001b[0m\t \u001b[1m\u001b[92m-282.8586570254638\u001b[0m\t \u001b[1m\u001b[92m-282.8586570254638\u001b[0m\t \u001b[1m\u001b[92m-0.7978842194130609\u001b[0m\n",
            "18 \t [-3.174519    0.81752231  7.37357542]\t -34999.41291503981\t -282.8586570254638\t -0.7978845607896438\n",
            "19 \t [ 8.04962121 10.         -6.99437043]\t -96888.47338273733\t -282.8586570254638\t -0.797882848131926\n",
            "20 \t [9.53615216 9.95610898 2.81162974]\t -71400.17164315013\t -282.8586570254638\t -0.7978818519811244\n",
            "21 \t [-10. -10. -10.]\t -220621.0\t -282.8586570254638\t -0.797884326636409\n",
            "22 \t [-4.30877679  6.42359308  3.22690445]\t -15730.69891116972\t -282.8586570254638\t -0.7978845607888962\n",
            "23 \t [ 2.72300835 -1.30849939 -7.75250638]\t -44298.874697019244\t -282.8586570254638\t -0.7978814683604318\n",
            "24 \t [0.49817372 5.20397899 9.4368106 ]\t -95446.17972249488\t -282.8586570254638\t -0.7978845607896435\n",
            "25 \t [-4.45240261 -9.49992689 -7.44304263]\t -111857.06139021883\t -282.8586570254638\t -0.7978845607896422\n",
            "26 \t [-10.           7.1234915    0.18517864]\t -25129.580503483772\t -282.8586570254638\t -0.7978806627852322\n",
            "27 \t [ 9.62413151 10.         10.        ]\t -180860.31824941252\t -282.8586570254638\t -0.7978843234837081\n",
            "28 \t [-10.           0.49324605   8.10593096]\t -51760.28077593132\t -282.8586570254638\t -0.7978832855754538\n",
            "29 \t [3.28371244 1.41799009 3.13429304]\t -1003.2581535208972\t -282.8586570254638\t -0.7978819293874353\n",
            "30 \t [ 8.12863329 -9.29028702  9.00961512]\t -142542.27457319596\t -282.8586570254638\t -0.7978837024389677\n"
          ]
        }
      ]
    },
    {
      "cell_type": "code",
      "metadata": {
        "id": "SHWdp2giJTRm",
        "colab": {
          "base_uri": "https://localhost:8080/"
        },
        "outputId": "343b9a42-b7c9-41f4-92bf-15883df9920e"
      },
      "source": [
        "### EXACT GP ERM GRADIENTS\n",
        "\n",
        "np.random.seed(run_num_16)\n",
        "surrogate_exact_16 = dGaussianProcess(cov_func, optimize=opt)\n",
        "\n",
        "exact_16 = dGPGO(surrogate_exact_16, Acquisition_new(util_grad_exact), objfunc, param)\n",
        "exact_16.run(init_evals=n_init, max_iter=iters)\n"
      ],
      "execution_count": 49,
      "outputs": [
        {
          "output_type": "stream",
          "name": "stdout",
          "text": [
            "Evaluation \t Proposed point \t  Current eval. \t  Best eval. \t         Max AcqFunc.\n",
            "init\t [-5.53417842  0.46326683  1.01402913]\t -121.43529547027163\t -121.43529547027163\t    \n",
            "init\t [-9.087961   -2.78542329 -5.53838117]\t -13651.622350397936\t -121.43529547027163\t    \n",
            "init\t [ 3.77452324 -6.7253715  -8.59350266]\t -86575.28663542298\t -121.43529547027163\t    \n",
            "init\t [ 8.8202172   1.2736276  -8.44015321]\t -59934.59518842736\t -121.43529547027163\t    \n",
            "init\t [ 4.45281022 -6.83095653 -4.99437387]\t -25459.039011491368\t -121.43529547027163\t    \n",
            "1  \t [4.18505664 9.44091052 6.20078235]\t -74267.36337655598\t -121.43529547027163\t -0.7978845607896438\n",
            "2  \t [ 5.46645324 -3.10791558  7.00820468]\t -31211.732976445848\t -121.43529547027163\t -0.7978845607896438\n",
            "3  \t [-7.02365822  9.22395096  6.80716026]\t -83746.44219511922\t -121.43529547027163\t -0.7978845607896438\n",
            "4  \t [-2.61755868 -8.2924165   4.84857415]\t -48472.3424987587\t -121.43529547027163\t -0.7978845607896438\n",
            "5  \t [-3.40441603  9.0441433  -4.42822156]\t -58527.14818017682\t -121.43529547027163\t -0.7978845607896438\n",
            "6  \t [ 4.43542074  9.94841157 -7.0897813 ]\t -99516.29975823758\t -121.43529547027163\t -0.7978845607769685\n",
            "7  \t [-7.92323047 -1.59321032  9.84617866]\t -115063.9149436472\t -121.43529547027163\t -0.7978845607896438\n",
            "8  \t [-10. -10. -10.]\t -220621.0\t -121.43529547027163\t -0.79788456078911\n",
            "9  \t [ 3.89270159  1.97920191 -2.57618821]\t -422.1258876251905\t -121.43529547027163\t -0.7978845586602799\n",
            "10 \t [ 9.98852149 -7.93099291 -5.611128  ]\t -41986.637450421564\t -121.43529547027163\t -0.7978845607896438\n",
            "11 \t [-9.64442768 -5.12694362  2.33258491]\t -8623.697730678545\t -121.43529547027163\t -0.797884560264313\n",
            "12 \t [-0.4520892   1.80344164  6.43567321]\t -19797.62458418604\t -121.43529547027163\t -0.7978845598289873\n",
            "13 \t [-7.38123434  5.60763872 -9.92197363]\t -119714.7941954538\t -121.43529547027163\t -0.7978845566886157\n",
            "14 \t [ 0.63794182  2.82092093 -9.10305012]\t -80086.04334971186\t -121.43529547027163\t -0.7978845605431777\n",
            "15 \t [10.          0.10619114 -0.2256443 ]\t -280.09894966110267\t -121.43529547027163\t -0.7978845516095978\n",
            "16 \t [10.          1.62382188 10.        ]\t -118185.00194084863\t -121.43529547027163\t -0.7978845187375846\n",
            "17 \t [10. 10. 10.]\t -180581.0\t -121.43529547027163\t -0.7978840310796932\n",
            "18 \t [ 6.16453531 -9.68598445  2.92485284]\t -68044.8839016422\t -121.43529547027163\t -0.7978845602007282\n",
            "19 \t [ -8.49111736 -10.          -2.48038291]\t -88519.65872649178\t -121.43529547027163\t -0.797884479219766\n",
            "20 \t [ 9.26195017  7.60224    -0.32148593]\t -22842.84446600623\t -121.43529547027163\t -0.7978845607490762\n",
            "21 \t [-1.91809463 -9.74935195 -5.10555299]\t -85238.6066286104\t -121.43529547027163\t -0.7978840929440154\n",
            "22 \t [0.66959911 6.39637751 0.43328026]\t -13282.005121562739\t -121.43529547027163\t -0.797883364211148\n",
            "23 \t [-8.20260538 -9.47655742  9.8984399 ]\t -197242.39770505737\t -121.43529547027163\t -0.7978845569681716\n",
            "24 \t [-0.5204434  -4.05402425 10.        ]\t -127146.31968833585\t -121.43529547027163\t -0.7978830265816146\n",
            "25 \t [ 0.11999447 -2.96257569  2.22803803]\t -1107.1678133380892\t -121.43529547027163\t -0.7978712219694348\n",
            "26 \t [-9.4676868   4.12020381  3.07555521]\t -4537.06985780901\t -121.43529547027163\t -0.7978803784477888\n",
            "27 \t [ 4.7530772  -9.95685327  9.9506985 ]\t -204696.85342466284\t -121.43529547027163\t -0.7978844391225376\n",
            "28 \t [10.         -4.48941077  2.77870217]\t -3110.1737220056634\t -121.43529547027163\t -0.7978364312054144\n",
            "29 \t [-2.41946408 -4.81552221 -9.94069612]\t -127732.67149058428\t -121.43529547027163\t -0.7978771665104943\n",
            "30 \t [-5.22683498  2.94444073 -4.36791959]\t -4777.115628979548\t -121.43529547027163\t -0.7978437030867996\n"
          ]
        }
      ]
    },
    {
      "cell_type": "code",
      "metadata": {
        "id": "yU2SflSsJTUs",
        "colab": {
          "base_uri": "https://localhost:8080/"
        },
        "outputId": "ebb6dd5c-753c-4a7e-ef9f-555083dcf5f0"
      },
      "source": [
        "### EXACT GP ERM GRADIENTS\n",
        "\n",
        "np.random.seed(run_num_17)\n",
        "surrogate_exact_17 = dGaussianProcess(cov_func, optimize=opt)\n",
        "\n",
        "exact_17 = dGPGO(surrogate_exact_17, Acquisition_new(util_grad_exact), objfunc, param)\n",
        "exact_17.run(init_evals=n_init, max_iter=iters)\n"
      ],
      "execution_count": 50,
      "outputs": [
        {
          "output_type": "stream",
          "name": "stdout",
          "text": [
            "Evaluation \t Proposed point \t  Current eval. \t  Best eval. \t         Max AcqFunc.\n",
            "init\t [-4.10669995  0.61173511 -6.16958426]\t -17181.1334683022\t -11774.913131399897\t    \n",
            "init\t [-8.64199284  5.7397092   3.12667044]\t -11774.913131399897\t -11774.913131399897\t    \n",
            "init\t [ 2.75041792  1.51205788 -9.21874168]\t -85144.34017448343\t -11774.913131399897\t    \n",
            "init\t [-2.84372791  8.91366374 -8.79910639]\t -116232.21251957516\t -11774.913131399897\t    \n",
            "init\t [ 7.28084207  7.54581052 -8.97612669]\t -93540.66819534874\t -11774.913131399897\t    \n",
            "1  \t [ 3.53524771 -7.6305547  -1.10007868]\t -25809.301647344466\t -11774.913131399897\t -0.7978845607896438\n",
            "\u001b[1m\u001b[92m2\u001b[0m\t \u001b[1m\u001b[92m[9.06605384 1.70871417 1.66132937]\u001b[0m\t \u001b[1m\u001b[92m-129.46210636737467\u001b[0m\t \u001b[1m\u001b[92m-129.46210636737467\u001b[0m\t \u001b[1m\u001b[92m-0.7978845607896438\u001b[0m\n",
            "3  \t [5.27601463 9.99566767 6.35850193]\t -90783.98305117982\t -129.46210636737467\t -0.7978845607896438\n",
            "4  \t [-8.52512993 -8.03930931 -1.75006035]\t -38662.67579605237\t -129.46210636737467\t -0.7978845607896438\n",
            "\u001b[1m\u001b[92m5\u001b[0m\t \u001b[1m\u001b[92m[0.15625771 0.16541122 1.58122263]\u001b[0m\t \u001b[1m\u001b[92m-70.86764058592647\u001b[0m\t \u001b[1m\u001b[92m-70.86764058592647\u001b[0m\t \u001b[1m\u001b[92m-0.7978845607896438\u001b[0m\n",
            "6  \t [0.77793961 2.17142302 2.23437955]\t -332.9224565238143\t -70.86764058592647\t -0.7978845607896438\n",
            "7  \t [ 0.13839331  9.60062916 -0.44443027]\t -68118.50039861984\t -70.86764058592647\t -0.7978845607840549\n",
            "8  \t [-6.17878165 -8.81449665  8.90115876]\t -136204.46206638045\t -70.86764058592647\t -0.7978845607896438\n",
            "9  \t [ 4.53251046 -8.94329893 -8.3979988 ]\t -115827.57543295441\t -70.86764058592647\t -0.7978845562777029\n",
            "10 \t [ -9.38713479 -10.          -9.75477001]\t -208167.41856958915\t -70.86764058592647\t -0.7978845607777503\n",
            "11 \t [9.00876915 0.79791433 2.81059692]\t -858.903901979533\t -70.86764058592647\t -0.7978845607896438\n",
            "12 \t [-3.773484    1.89286097  9.69074558]\t -103970.0539578572\t -70.86764058592647\t -0.7978845607896412\n",
            "13 \t [ 8.75512142 -9.27101119  6.32186279]\t -77166.27358383928\t -70.86764058592647\t -0.7978845607896432\n",
            "14 \t [7.27967802 4.29983677 0.58012158]\t -1842.7791436845364\t -70.86764058592647\t -0.80226607344998\n",
            "15 \t [-3.82036902 10.          5.41480445]\t -90206.33302611446\t -70.86764058592647\t -0.7978841226293371\n",
            "16 \t [ -9.61551063  -1.15125656 -10.        ]\t -121799.0970531592\t -70.86764058592647\t -0.7978844086459372\n",
            "17 \t [10.          9.13882674 -2.47037025]\t -49430.016895456494\t -70.86764058592647\t -0.7978842189864626\n",
            "18 \t [ 4.56621381 -3.53584463  9.87174413]\t -118981.68168014543\t -70.86764058592647\t -0.7978845605484937\n",
            "19 \t [-9.8809603  -0.64188237  5.22527362]\t -9504.89544195755\t -70.86764058592647\t -0.7978843527078532\n",
            "20 \t [-9.76513217  3.68478216 -3.65585054]\t -4435.429149302027\t -70.86764058592647\t -0.7978844799473361\n",
            "21 \t [-8.55914036 10.         -2.80945495]\t -87185.64318737645\t -70.86764058592647\t -0.7978837376184563\n",
            "22 \t [ 9.42219098  1.38591363 -4.53982354]\t -4893.483477768359\t -70.86764058592647\t -0.7978832926259611\n",
            "23 \t [ 9.65778396 -5.05473593 -0.71614147]\t -3620.9053075536335\t -70.86764058592647\t -0.7978840671227234\n",
            "24 \t [-2.9145249  -6.95939077 -6.3568844 ]\t -43043.36806875647\t -70.86764058592647\t -0.7978845404299707\n",
            "25 \t [2.88177608 2.77279898 7.83529761]\t -43523.69844083528\t -70.86764058592647\t -0.797880572697029\n",
            "26 \t [-1.3506566  -3.88558528  6.65169905]\t -27595.70873179907\t -70.86764058592647\t -0.7978797483682615\n",
            "27 \t [-4.8743493  -2.79965603  0.74311853]\t -924.8799811631504\t -70.86764058592647\t -0.7978833304943795\n",
            "28 \t [ 2.00206593 -9.63297063  6.86279572]\t -99750.09730337447\t -70.86764058592647\t -0.7978811499631234\n",
            "29 \t [10.         -7.8116848  -5.71139252]\t -41198.74167317808\t -70.86764058592647\t -0.7977832903291253\n",
            "30 \t [10.          1.32192811 10.        ]\t -118584.5591171552\t -70.86764058592647\t -0.7978845386231599\n"
          ]
        }
      ]
    },
    {
      "cell_type": "code",
      "metadata": {
        "id": "es0KCh_0JTgY",
        "colab": {
          "base_uri": "https://localhost:8080/"
        },
        "outputId": "179906e2-88f2-4c96-8616-f8de75c773ea"
      },
      "source": [
        "### EXACT GP ERM GRADIENTS\n",
        "\n",
        "np.random.seed(run_num_18)\n",
        "surrogate_exact_18 = dGaussianProcess(cov_func, optimize=opt)\n",
        "\n",
        "exact_18 = dGPGO(surrogate_exact_18, Acquisition_new(util_grad_exact), objfunc, param)\n",
        "exact_18.run(init_evals=n_init, max_iter=iters)\n"
      ],
      "execution_count": 51,
      "outputs": [
        {
          "output_type": "stream",
          "name": "stdout",
          "text": [
            "Evaluation \t Proposed point \t  Current eval. \t  Best eval. \t         Max AcqFunc.\n",
            "init\t [3.00748483 0.10906747 7.57202942]\t -39395.322047969305\t -27664.83628190573\t    \n",
            "init\t [-6.36319549  7.04466137  5.00272572]\t -27913.961335277138\t -27664.83628190573\t    \n",
            "init\t [ 3.32203335  9.75790897 -4.86063155]\t -74244.15287271979\t -27664.83628190573\t    \n",
            "init\t [-9.43388149  2.71438231  6.94624775]\t -27664.83628190573\t -27664.83628190573\t    \n",
            "init\t [ 4.7234925  -9.58385776 -7.76793739]\t -114986.86534587143\t -27664.83628190573\t    \n",
            "\u001b[1m\u001b[92m1\u001b[0m\t \u001b[1m\u001b[92m[-3.60627759 -4.12128051 -3.96163645]\u001b[0m\t \u001b[1m\u001b[92m-6628.123996844119\u001b[0m\t \u001b[1m\u001b[92m-6628.123996844119\u001b[0m\t \u001b[1m\u001b[92m-0.7978845607896438\u001b[0m\n",
            "2  \t [5.67048604 7.63464912 6.38781301]\t -41038.069289207284\t -6628.123996844119\t -0.7978845607896438\n",
            "\u001b[1m\u001b[92m3\u001b[0m\t \u001b[1m\u001b[92m[ 8.98418483 -5.51984113  1.59973658]\u001b[0m\t \u001b[1m\u001b[92m-5801.508998849156\u001b[0m\t \u001b[1m\u001b[92m-5801.508998849156\u001b[0m\t \u001b[1m\u001b[92m-0.7978845607896438\u001b[0m\n",
            "4  \t [-9.82664426 -9.19265651  7.01964259]\t -98908.14619333696\t -5801.508998849156\t -0.7978845607896438\n",
            "5  \t [ 5.61099687  3.24280582 -9.3946128 ]\t -90569.20808162971\t -5801.508998849156\t -0.7978845607896438\n",
            "6  \t [-8.41638891  3.62928904 -8.37899504]\t -58636.25217955298\t -5801.508998849156\t -0.7978845607896438\n",
            "7  \t [4.76859313 6.53506599 3.93926051]\t -14822.442752768635\t -5801.508998849156\t -0.7978845607896438\n",
            "\u001b[1m\u001b[92m8\u001b[0m\t \u001b[1m\u001b[92m[-2.48970949 -2.08372282  3.35998783]\u001b[0m\t \u001b[1m\u001b[92m-2086.6278426367617\u001b[0m\t \u001b[1m\u001b[92m-2086.6278426367617\u001b[0m\t \u001b[1m\u001b[92m-0.7978845607896438\u001b[0m\n",
            "9  \t [ 3.71365718 -8.30950362  9.62379831]\t -148502.84162938045\t -2086.6278426367617\t -0.7978845607892625\n",
            "\u001b[1m\u001b[92m10\u001b[0m\t \u001b[1m\u001b[92m[ 2.92137472 -0.4709081  -3.24508242]\u001b[0m\t \u001b[1m\u001b[92m-1406.8560066347598\u001b[0m\t \u001b[1m\u001b[92m-1406.8560066347598\u001b[0m\t \u001b[1m\u001b[92m-0.7978845560946664\u001b[0m\n",
            "11 \t [-9.86973108 -9.49362916 -9.87083803]\t -197704.91270806122\t -1406.8560066347598\t -0.7978845607896438\n",
            "12 \t [ 1.99507644 -9.63703329  0.21755066]\t -67813.04508212046\t -1406.8560066347598\t -0.7978845607768862\n",
            "13 \t [ 9.33197039 -3.0654831  -6.27616745]\t -20344.818102039768\t -1406.8560066347598\t -0.7978845601099044\n",
            "14 \t [ -1.78383512  -7.74307758 -10.        ]\t -159098.33144010612\t -1406.8560066347598\t -0.7978842762173025\n",
            "15 \t [-9.93581462 -8.88515324 -1.9323835 ]\t -57254.17065227144\t -1406.8560066347598\t -0.797884559936956\n",
            "16 \t [-1.16085111  2.01775249 -7.19958943]\t -31176.20529082136\t -1406.8560066347598\t -0.797882906949681\n",
            "17 \t [10.          0.12999019  9.25775885]\t -88292.43433845886\t -1406.8560066347598\t -0.7978845034106054\n",
            "\u001b[1m\u001b[92m18\u001b[0m\t \u001b[1m\u001b[92m[9.68463965 2.59740902 0.10139207]\u001b[0m\t \u001b[1m\u001b[92m-124.35164893950112\u001b[0m\t \u001b[1m\u001b[92m-124.35164893950112\u001b[0m\t \u001b[1m\u001b[92m-0.7978845552314491\u001b[0m\n",
            "19 \t [-1.33385835  6.19632534  9.42640045]\t -100466.76673652869\t -124.35164893950112\t -0.7978836764731666\n",
            "20 \t [-9.40976734  1.33388274 -0.32154215]\t -448.525551696626\t -124.35164893950112\t -0.7978845517435458\n",
            "21 \t [10.         6.9967225 -5.1906794]\t -22132.62031730524\t -124.35164893950112\t -0.7978842907312449\n",
            "22 \t [-0.31973285  4.56082617 -0.45913002]\t -3568.0500083449697\t -124.35164893950112\t -0.7978843312350109\n",
            "23 \t [-3.59216124 -7.76742848  5.43191711]\t -44279.469352334054\t -124.35164893950112\t -0.7978721369288065\n",
            "24 \t [-3.97675314 -0.10166735  9.21702575]\t -86765.6978572218\t -124.35164893950112\t -0.7978784142292362\n",
            "25 \t [ 1.72678464 -2.19871603 -7.31861314]\t -35981.17408295852\t -124.35164893950112\t -0.7978845607896438\n",
            "26 \t [-6.74511132 10.         -7.31098173]\t -113716.42662617439\t -124.35164893950112\t -0.7978814075395226\n",
            "27 \t [-10.          -3.17588569   3.43220152]\t -4086.184560543764\t -124.35164893950112\t -0.7978805151349796\n",
            "28 \t [-5.66200836  6.29662315 -2.23789131]\t -14521.25213866309\t -124.35164893950112\t -0.7978157246731971\n",
            "29 \t [ 3.15583188 -4.35100279  3.34456834]\t -4556.147062347911\t -124.35164893950112\t -0.7977559085885031\n",
            "30 \t [  8.99923964 -10.          -2.61224384]\t -74704.20078728977\t -124.35164893950112\t -0.79787085481226\n"
          ]
        }
      ]
    },
    {
      "cell_type": "code",
      "metadata": {
        "id": "Pput2LHPIwBM",
        "colab": {
          "base_uri": "https://localhost:8080/"
        },
        "outputId": "f4b9a390-448f-45f7-fcb4-0550361bbcd1"
      },
      "source": [
        "### EXACT GP ERM GRADIENTS\n",
        "\n",
        "np.random.seed(run_num_19)\n",
        "surrogate_exact_19 = dGaussianProcess(cov_func, optimize=opt)\n",
        "\n",
        "exact_19 = dGPGO(surrogate_exact_19, Acquisition_new(util_grad_exact), objfunc, param)\n",
        "exact_19.run(init_evals=n_init, max_iter=iters)\n"
      ],
      "execution_count": 52,
      "outputs": [
        {
          "output_type": "stream",
          "name": "stdout",
          "text": [
            "Evaluation \t Proposed point \t  Current eval. \t  Best eval. \t         Max AcqFunc.\n",
            "init\t [-8.04932797  5.22499433 -5.06124054]\t -14282.07020620917\t -7826.389573301183\t    \n",
            "init\t [-7.23736625 -3.37106873 -8.3400087 ]\t -62767.56440733103\t -7826.389573301183\t    \n",
            "init\t [3.43954163 6.13187596 9.65483829]\t -107829.21541670273\t -7826.389573301183\t    \n",
            "init\t [ 2.7132147  -5.68153488  0.98054864]\t -7826.389573301183\t -7826.389573301183\t    \n",
            "init\t [ 0.91119916 -5.31847854 -7.72548314]\t -52835.14449570301\t -7826.389573301183\t    \n",
            "\u001b[1m\u001b[92m1\u001b[0m\t \u001b[1m\u001b[92m[-8.70426449  3.79716958  1.04335667]\u001b[0m\t \u001b[1m\u001b[92m-2920.737921781948\u001b[0m\t \u001b[1m\u001b[92m-2920.737921781948\u001b[0m\t \u001b[1m\u001b[92m-0.7978845607896438\u001b[0m\n",
            "2  \t [-8.35936332 -7.87340876  5.68625832]\t -50901.97248850908\t -2920.737921781948\t -0.7978845607896438\n",
            "3  \t [-5.92264612  1.94070459  8.81541711]\t -71080.60419246902\t -2920.737921781948\t -0.7978845607896438\n",
            "4  \t [ 9.93826046 -7.57727549 -3.12538868]\t -24289.940560273273\t -2920.737921781948\t -0.7978845607896438\n",
            "5  \t [ 9.17884072e+00  3.81026586e-03 -4.90936423e+00]\t -7205.086830676541\t -2920.737921781948\t -0.7978845607896438\n",
            "6  \t [6.53768271 8.27261557 0.88726414]\t -34139.50528106757\t -2920.737921781948\t -0.7978845607896438\n",
            "7  \t [8.88477717 1.65383617 9.09628062]\t -80607.08552314134\t -2920.737921781948\t -0.7978845607896438\n",
            "8  \t [-1.21815419  9.44528432 -0.09986763]\t -64816.04428405123\t -2920.737921781948\t -0.7978845606347349\n",
            "9  \t [-0.88364342 -0.53896298  9.12024958]\t -83571.53151095378\t -2920.737921781948\t -0.7978845607896438\n",
            "10 \t [ 3.35389857 -9.96203876  9.07194342]\t -167573.4372796627\t -2920.737921781948\t -0.7978845607896428\n",
            "11 \t [ 1.64498819  5.37434199 -7.63204452]\t -43344.006456290146\t -2920.737921781948\t -0.7978845607896438\n",
            "12 \t [-4.44606735  0.16196254 -7.8173877 ]\t -44766.89761417516\t -2920.737921781948\t -0.7978845607896438\n",
            "13 \t [ -7.83377256 -10.          -3.43809688]\t -89862.94431217755\t -2920.737921781948\t -0.7978845607668071\n",
            "14 \t [-3.51183673  7.85658063 -7.85125329]\t -72230.55953795274\t -2920.737921781948\t -0.7978845607896438\n",
            "15 \t [-9.23916429  8.80776456  8.82894539]\t -119063.55805980199\t -2920.737921781948\t -0.797884556608658\n",
            "16 \t [-2.98021645  8.48376798  8.10983789]\t -88619.74592585312\t -2920.737921781948\t -0.7978845607896438\n",
            "17 \t [ 4.87354767 -0.83030448 -8.23000576]\t -55769.47006687408\t -2920.737921781948\t -0.7978845607896438\n",
            "18 \t [1.9799272  3.81156677 6.02897636]\t -15702.85164015473\t -2920.737921781948\t -0.7978845607896438\n",
            "\u001b[1m\u001b[92m19\u001b[0m\t \u001b[1m\u001b[92m[-2.27432578 -0.72766747 -0.71994808]\u001b[0m\t \u001b[1m\u001b[92m-42.281782645566686\u001b[0m\t \u001b[1m\u001b[92m-42.281782645566686\u001b[0m\t \u001b[1m\u001b[92m-0.7978845607896438\u001b[0m\n",
            "20 \t [-7.5332987  -1.71562945  0.56165154]\t -449.53228055781875\t -42.281782645566686\t -0.7978845607881407\n",
            "21 \t [ 8.71839876 -5.00805051  3.77609797]\t -6866.529590080666\t -42.281782645566686\t -0.7978840933975944\n",
            "\u001b[1m\u001b[92m22\u001b[0m\t \u001b[1m\u001b[92m[ 3.47195857  1.67719768 -1.41226578]\u001b[0m\t \u001b[1m\u001b[92m-31.423372030354145\u001b[0m\t \u001b[1m\u001b[92m-31.423372030354145\u001b[0m\t \u001b[1m\u001b[92m-0.7978844173320908\u001b[0m\n",
            "23 \t [ -2.11924034 -10.           0.6559896 ]\t -82067.96510314534\t -31.423372030354145\t -0.7978827370254161\n",
            "24 \t [-10. -10. -10.]\t -220621.0\t -31.423372030354145\t -0.7978835752872453\n",
            "25 \t [ 9.46074003 -6.4828191  -9.6851263 ]\t -124208.17394840925\t -31.423372030354145\t -0.7978831971943402\n",
            "26 \t [10.          1.88200969  1.391102  ]\t -109.86728144726742\t -31.423372030354145\t -0.7978840030020042\n",
            "27 \t [10.          6.62932711 -6.28665001]\t -27948.186914195925\t -31.423372030354145\t -0.7978844145234452\n",
            "28 \t [ 5.1385663  10.         -5.25559921]\t -82099.77550758235\t -31.423372030354145\t -0.7977440762972753\n",
            "29 \t [ 4.83716375 -3.10999365  7.59319648]\t -42507.83239019697\t -31.423372030354145\t -0.7977402047864122\n",
            "30 \t [-2.20019331 -5.88899426  5.72976057]\t -25610.01869485019\t -31.423372030354145\t -0.7978458406971382\n"
          ]
        }
      ]
    },
    {
      "cell_type": "code",
      "metadata": {
        "id": "aw3xvSryIwDi",
        "colab": {
          "base_uri": "https://localhost:8080/"
        },
        "outputId": "311bc26f-110d-4a08-e6dd-5c4ac0760a0a"
      },
      "source": [
        "### EXACT GP ERM GRADIENTS\n",
        "\n",
        "np.random.seed(run_num_20)\n",
        "surrogate_exact_20 = dGaussianProcess(cov_func, optimize=opt)\n",
        "\n",
        "exact_20 = dGPGO(surrogate_exact_20, Acquisition_new(util_grad_exact), objfunc, param)\n",
        "exact_20.run(init_evals=n_init, max_iter=iters)\n"
      ],
      "execution_count": 53,
      "outputs": [
        {
          "output_type": "stream",
          "name": "stdout",
          "text": [
            "Evaluation \t Proposed point \t  Current eval. \t  Best eval. \t         Max AcqFunc.\n",
            "init\t [1.76261602 7.95427456 7.83061459]\t -70596.27231718504\t -1177.4786310520467\t    \n",
            "init\t [ 6.31674955 -9.28220829  3.83515164]\t -59634.45116383437\t -1177.4786310520467\t    \n",
            "init\t [-2.42638116  0.37021891  3.15902931]\t -1177.4786310520467\t -1177.4786310520467\t    \n",
            "init\t [-6.12299564 -4.55367196  4.37211867]\t -10072.821243906226\t -1177.4786310520467\t    \n",
            "init\t [5.66007219 7.0065528  5.50489788]\t -25762.190938183892\t -1177.4786310520467\t    \n",
            "1  \t [ 3.58822235  3.01571828 -4.62409523]\t -5172.971057172382\t -1177.4786310520467\t -0.7978845607896438\n",
            "2  \t [ 6.90281047 -9.84449703 -8.45927451]\t -140110.25172511325\t -1177.4786310520467\t -0.7978845607896438\n",
            "3  \t [-2.02505955 -3.84087805 -8.90073734]\t -81008.7373034749\t -1177.4786310520467\t -0.7978845607896438\n",
            "4  \t [-9.03422809  7.69291444  7.37966897]\t -63300.39318700283\t -1177.4786310520467\t -0.7978845607896438\n",
            "5  \t [-9.70727522  2.71787205 -3.8499178 ]\t -3488.2839642564004\t -1177.4786310520467\t -0.7978845607896438\n",
            "6  \t [10.         10.         -0.69647078]\t -72525.61494790483\t -1177.4786310520467\t -0.7978845607631999\n",
            "7  \t [ 3.4937907  -2.5103687   9.37110948]\t -95379.93666021542\t -1177.4786310520467\t -0.7978845607896365\n",
            "8  \t [-2.46871542  9.76065736 -3.02050331]\t -74733.47554640117\t -1177.4786310520467\t -0.7978845607896433\n",
            "9  \t [-10. -10. -10.]\t -220621.0\t -1177.4786310520467\t -0.7978845607896438\n",
            "10 \t [-3.52149428 -8.89742927  7.42875864]\t -95087.52343618331\t -1177.4786310520467\t -0.7978845607896438\n",
            "11 \t [-0.23723427 -9.19126844 -0.83968818]\t -57593.31830274371\t -1177.4786310520467\t -0.7978845606640117\n",
            "\u001b[1m\u001b[92m12\u001b[0m\t \u001b[1m\u001b[92m[ 5.00126639 -3.3363309  -0.45648549]\u001b[0m\t \u001b[1m\u001b[92m-654.1473571166752\u001b[0m\t \u001b[1m\u001b[92m-654.1473571166752\u001b[0m\t \u001b[1m\u001b[92m-0.7978845607896438\u001b[0m\n",
            "13 \t [-10.          -5.94125464  -1.31478833]\t -13377.757677772104\t -654.1473571166752\t -0.7978845110979581\n",
            "\u001b[1m\u001b[92m14\u001b[0m\t \u001b[1m\u001b[92m[10.          0.90455769  2.15078133]\u001b[0m\t \u001b[1m\u001b[92m-429.9233518519262\u001b[0m\t \u001b[1m\u001b[92m-429.9233518519262\u001b[0m\t \u001b[1m\u001b[92m-0.7978845582265427\u001b[0m\n",
            "15 \t [ 9.09669366  5.63626649 -7.08118301]\t -32868.50451543108\t -429.9233518519262\t -0.7978840340895557\n",
            "16 \t [ 8.71567352 -9.23552071 -1.77855208]\t -53192.45226100789\t -429.9233518519262\t -0.7978845607896438\n",
            "17 \t [ -9.46183597   0.91424914 -10.        ]\t -119262.7699786773\t -429.9233518519262\t -0.7978835426495081\n",
            "18 \t [-7.79686959  9.40311462 -9.27805181]\t -147730.60879192402\t -429.9233518519262\t -0.797884560750649\n",
            "19 \t [0.30553803 5.4261645  3.41450322]\t -7824.263053625887\t -429.9233518519262\t -0.7978845607896438\n",
            "20 \t [9.51613548 1.1399635  8.89710312]\t -74281.97374636521\t -429.9233518519262\t -0.7978841855467429\n",
            "21 \t [  6.25537191   0.21620403 -10.        ]\t -119844.25194523968\t -429.9233518519262\t -0.7978833160914585\n",
            "22 \t [-2.72244067  2.84171084 -6.74291281]\t -24006.863094862798\t -429.9233518519262\t -0.7978839419336433\n",
            "23 \t [-5.04804204  2.40957639  9.89761502]\t -112937.01528269825\t -429.9233518519262\t -0.7978843560538962\n",
            "24 \t [10.          9.95194862 10.        ]\t -179185.8863660234\t -429.9233518519262\t -0.7978842805989067\n",
            "25 \t [ 4.6988903   8.4836705  -4.89698974]\t -43468.20654200078\t -429.9233518519262\t -0.7978845607896073\n",
            "26 \t [ 0.62792422 -4.60320428  3.73766785]\t -6663.682917398209\t -429.9233518519262\t -0.7978598950369542\n",
            "27 \t [-4.32384266  6.26033035  1.14573172]\t -13748.981244274537\t -429.9233518519262\t -0.7978845607896438\n",
            "28 \t [ 9.92972863 -1.34903033 -4.35880272]\t -4803.509794255387\t -429.9233518519262\t -0.7978832257213645\n",
            "\u001b[1m\u001b[92m29\u001b[0m\t \u001b[1m\u001b[92m[-7.61178518 -0.04747982  0.76810654]\u001b[0m\t \u001b[1m\u001b[92m-194.6986460349397\u001b[0m\t \u001b[1m\u001b[92m-194.6986460349397\u001b[0m\t \u001b[1m\u001b[92m-0.7977628855545517\u001b[0m\n",
            "30 \t [-0.17440378  9.55909063 -9.44192579]\t -152346.23804466348\t -194.6986460349397\t -0.797884560789454\n"
          ]
        }
      ]
    },
    {
      "cell_type": "code",
      "metadata": {
        "id": "qNqAB3vBTPqb",
        "colab": {
          "base_uri": "https://localhost:8080/"
        },
        "outputId": "a600109a-b06b-42f6-e597-510c815efca3"
      },
      "source": [
        "end_exact = time.time()\n",
        "end_exact\n",
        "\n",
        "time_exact = end_exact - start_exact\n",
        "time_exact"
      ],
      "execution_count": 54,
      "outputs": [
        {
          "output_type": "execute_result",
          "data": {
            "text/plain": [
              "724.4230852127075"
            ]
          },
          "metadata": {},
          "execution_count": 54
        }
      ]
    },
    {
      "cell_type": "code",
      "metadata": {
        "id": "JPQzjdBZQxfg",
        "colab": {
          "base_uri": "https://localhost:8080/"
        },
        "outputId": "0528e8aa-4ccb-4998-de93-4503be0eaac9"
      },
      "source": [
        "### Simple regret minimization: run number = 1\n",
        "\n",
        "approx_output_1 = np.append(np.min(approx_1.GP.y[0:n_init]),approx_1.GP.y[n_init:(n_init+iters)]) \n",
        "exact_output_1 = np.append(np.min(exact_1.GP.y[0:n_init]),exact_1.GP.y[n_init:(n_init+iters)]) \n",
        "\n",
        "regret_approx_1 = np.log(-approx_output_1 + y_global_orig)\n",
        "regret_exact_1 = np.log(-exact_output_1 + y_global_orig)\n",
        "\n",
        "simple_regret_approx_1 = min_max_array(regret_approx_1)\n",
        "simple_regret_exact_1 = min_max_array(regret_exact_1)\n",
        "\n",
        "min_simple_regret_approx_1 = min(simple_regret_approx_1)\n",
        "min_simple_regret_exact_1 = min(simple_regret_exact_1)\n",
        "\n",
        "min_simple_regret_approx_1, min_simple_regret_exact_1"
      ],
      "execution_count": 55,
      "outputs": [
        {
          "output_type": "execute_result",
          "data": {
            "text/plain": [
              "(4.853880891722066, 4.853880891722066)"
            ]
          },
          "metadata": {},
          "execution_count": 55
        }
      ]
    },
    {
      "cell_type": "code",
      "metadata": {
        "id": "94yBw5tqQxfk",
        "colab": {
          "base_uri": "https://localhost:8080/"
        },
        "outputId": "592806a9-1a4b-42c2-bae0-b67f84635b1f"
      },
      "source": [
        "### Simple regret minimization: run number = 2\n",
        "\n",
        "approx_output_2 = np.append(np.min(approx_2.GP.y[0:n_init]),approx_2.GP.y[n_init:(n_init+iters)]) \n",
        "exact_output_2 = np.append(np.min(exact_2.GP.y[0:n_init]),exact_2.GP.y[n_init:(n_init+iters)]) \n",
        "\n",
        "regret_approx_2 = np.log(-approx_output_2 + y_global_orig)\n",
        "regret_exact_2 = np.log(-exact_output_2 + y_global_orig)\n",
        "\n",
        "simple_regret_approx_2 = min_max_array(regret_approx_2)\n",
        "simple_regret_exact_2 = min_max_array(regret_exact_2)\n",
        "\n",
        "min_simple_regret_approx_2 = min(simple_regret_approx_2)\n",
        "min_simple_regret_exact_2 = min(simple_regret_exact_2)\n",
        "\n",
        "min_simple_regret_approx_2, min_simple_regret_exact_2"
      ],
      "execution_count": 56,
      "outputs": [
        {
          "output_type": "execute_result",
          "data": {
            "text/plain": [
              "(6.33591744176809, 5.169291497899122)"
            ]
          },
          "metadata": {},
          "execution_count": 56
        }
      ]
    },
    {
      "cell_type": "code",
      "metadata": {
        "id": "Bu6SBWALQxfl",
        "colab": {
          "base_uri": "https://localhost:8080/"
        },
        "outputId": "d859d324-2bd7-4eab-8607-d800fb24bbe2"
      },
      "source": [
        "### Simple regret minimization: run number = 3\n",
        "\n",
        "approx_output_3 = np.append(np.min(approx_3.GP.y[0:n_init]),approx_3.GP.y[n_init:(n_init+iters)]) \n",
        "exact_output_3 = np.append(np.min(exact_3.GP.y[0:n_init]),exact_3.GP.y[n_init:(n_init+iters)]) \n",
        "\n",
        "regret_approx_3 = np.log(-approx_output_3 + y_global_orig)\n",
        "regret_exact_3 = np.log(-exact_output_3 + y_global_orig)\n",
        "\n",
        "simple_regret_approx_3 = min_max_array(regret_approx_3)\n",
        "simple_regret_exact_3 = min_max_array(regret_exact_3)\n",
        "\n",
        "min_simple_regret_approx_3 = min(simple_regret_approx_3)\n",
        "min_simple_regret_exact_3 = min(simple_regret_exact_3)\n",
        "\n",
        "min_simple_regret_approx_3, min_simple_regret_exact_3"
      ],
      "execution_count": 57,
      "outputs": [
        {
          "output_type": "execute_result",
          "data": {
            "text/plain": [
              "(4.334193891369047, 4.95933166635396)"
            ]
          },
          "metadata": {},
          "execution_count": 57
        }
      ]
    },
    {
      "cell_type": "code",
      "metadata": {
        "id": "AZm0jgxkQxfm",
        "colab": {
          "base_uri": "https://localhost:8080/"
        },
        "outputId": "2d1be19d-0eff-4028-d447-528ec6d44880"
      },
      "source": [
        "### Simple regret minimization: run number = 4\n",
        "\n",
        "approx_output_4 = np.append(np.min(approx_4.GP.y[0:n_init]),approx_4.GP.y[n_init:(n_init+iters)]) \n",
        "exact_output_4 = np.append(np.min(exact_4.GP.y[0:n_init]),exact_4.GP.y[n_init:(n_init+iters)]) \n",
        "\n",
        "regret_approx_4 = np.log(-approx_output_4 + y_global_orig)\n",
        "regret_exact_4 = np.log(-exact_output_4 + y_global_orig)\n",
        "\n",
        "simple_regret_approx_4 = min_max_array(regret_approx_4)\n",
        "simple_regret_exact_4 = min_max_array(regret_exact_4)\n",
        "\n",
        "min_simple_regret_approx_4 = min(simple_regret_approx_4)\n",
        "min_simple_regret_exact_4 = min(simple_regret_exact_4)\n",
        "\n",
        "min_simple_regret_approx_4, min_simple_regret_exact_4"
      ],
      "execution_count": 58,
      "outputs": [
        {
          "output_type": "execute_result",
          "data": {
            "text/plain": [
              "(3.08990794983102, 6.7433380683713455)"
            ]
          },
          "metadata": {},
          "execution_count": 58
        }
      ]
    },
    {
      "cell_type": "code",
      "metadata": {
        "id": "NONPm8JIQxfn",
        "colab": {
          "base_uri": "https://localhost:8080/"
        },
        "outputId": "ea8ab2f9-8bdd-48b3-db95-59f0ebbdbc6e"
      },
      "source": [
        "### Simple regret minimization: run number = 5\n",
        "\n",
        "approx_output_5 = np.append(np.min(approx_5.GP.y[0:n_init]),approx_5.GP.y[n_init:(n_init+iters)]) \n",
        "exact_output_5 = np.append(np.min(exact_5.GP.y[0:n_init]),exact_5.GP.y[n_init:(n_init+iters)]) \n",
        "\n",
        "regret_approx_5 = np.log(-approx_output_5 + y_global_orig)\n",
        "regret_exact_5 = np.log(-exact_output_5 + y_global_orig)\n",
        "\n",
        "simple_regret_approx_5 = min_max_array(regret_approx_5)\n",
        "simple_regret_exact_5 = min_max_array(regret_exact_5)\n",
        "\n",
        "min_simple_regret_approx_5 = min(simple_regret_approx_5)\n",
        "min_simple_regret_exact_5 = min(simple_regret_exact_5)\n",
        "\n",
        "min_simple_regret_approx_5, min_simple_regret_exact_5"
      ],
      "execution_count": 59,
      "outputs": [
        {
          "output_type": "execute_result",
          "data": {
            "text/plain": [
              "(7.199817012393111, -0.04074862233373754)"
            ]
          },
          "metadata": {},
          "execution_count": 59
        }
      ]
    },
    {
      "cell_type": "code",
      "metadata": {
        "id": "CJv3lPuSQxfp",
        "colab": {
          "base_uri": "https://localhost:8080/"
        },
        "outputId": "b2ed0a5c-e1c4-4ec0-dcb4-cc96e3feb4c1"
      },
      "source": [
        "### Simple regret minimization: run number = 6\n",
        "\n",
        "approx_output_6 = np.append(np.min(approx_6.GP.y[0:n_init]),approx_6.GP.y[n_init:(n_init+iters)]) \n",
        "exact_output_6 = np.append(np.min(exact_6.GP.y[0:n_init]),exact_6.GP.y[n_init:(n_init+iters)]) \n",
        "\n",
        "regret_approx_6 = np.log(-approx_output_6 + y_global_orig)\n",
        "regret_exact_6 = np.log(-exact_output_6 + y_global_orig)\n",
        "\n",
        "simple_regret_approx_6 = min_max_array(regret_approx_6)\n",
        "simple_regret_exact_6 = min_max_array(regret_exact_6)\n",
        "\n",
        "min_simple_regret_approx_6 = min(simple_regret_approx_6)\n",
        "min_simple_regret_exact_6 = min(simple_regret_exact_6)\n",
        "\n",
        "min_simple_regret_approx_6, min_simple_regret_exact_6"
      ],
      "execution_count": 60,
      "outputs": [
        {
          "output_type": "execute_result",
          "data": {
            "text/plain": [
              "(6.389909153401128, 5.86596076313344)"
            ]
          },
          "metadata": {},
          "execution_count": 60
        }
      ]
    },
    {
      "cell_type": "code",
      "metadata": {
        "id": "quR2ZyApQxfq",
        "colab": {
          "base_uri": "https://localhost:8080/"
        },
        "outputId": "2b2df520-f677-43ab-9a10-712844c96d44"
      },
      "source": [
        "### Simple regret minimization: run number = 7\n",
        "\n",
        "approx_output_7 = np.append(np.min(approx_7.GP.y[0:n_init]),approx_7.GP.y[n_init:(n_init+iters)]) \n",
        "exact_output_7 = np.append(np.min(exact_7.GP.y[0:n_init]),exact_7.GP.y[n_init:(n_init+iters)]) \n",
        "\n",
        "regret_approx_7 = np.log(-approx_output_7 + y_global_orig)\n",
        "regret_exact_7 = np.log(-exact_output_7 + y_global_orig)\n",
        "\n",
        "simple_regret_approx_7 = min_max_array(regret_approx_7)\n",
        "simple_regret_exact_7 = min_max_array(regret_exact_7)\n",
        "\n",
        "min_simple_regret_approx_7 = min(simple_regret_approx_7)\n",
        "min_simple_regret_exact_7 = min(simple_regret_exact_7)\n",
        "\n",
        "min_simple_regret_approx_7, min_simple_regret_exact_7"
      ],
      "execution_count": 61,
      "outputs": [
        {
          "output_type": "execute_result",
          "data": {
            "text/plain": [
              "(5.379320655548917, 6.2263512342259055)"
            ]
          },
          "metadata": {},
          "execution_count": 61
        }
      ]
    },
    {
      "cell_type": "code",
      "metadata": {
        "id": "99wY5nK6Qxfr",
        "colab": {
          "base_uri": "https://localhost:8080/"
        },
        "outputId": "ec58b207-8b37-4189-9642-9791484f12f1"
      },
      "source": [
        "### Simple regret minimization: run number = 8\n",
        "\n",
        "approx_output_8 = np.append(np.min(approx_8.GP.y[0:n_init]),approx_8.GP.y[n_init:(n_init+iters)]) \n",
        "exact_output_8 = np.append(np.min(exact_8.GP.y[0:n_init]),exact_8.GP.y[n_init:(n_init+iters)]) \n",
        "\n",
        "regret_approx_8 = np.log(-approx_output_8 + y_global_orig)\n",
        "regret_exact_8 = np.log(-exact_output_8 + y_global_orig)\n",
        "\n",
        "simple_regret_approx_8 = min_max_array(regret_approx_8)\n",
        "simple_regret_exact_8 = min_max_array(regret_exact_8)\n",
        "\n",
        "min_simple_regret_approx_8 = min(simple_regret_approx_8)\n",
        "min_simple_regret_exact_8 = min(simple_regret_exact_8)\n",
        "\n",
        "min_simple_regret_approx_8, min_simple_regret_exact_8"
      ],
      "execution_count": 62,
      "outputs": [
        {
          "output_type": "execute_result",
          "data": {
            "text/plain": [
              "(6.170681245740463, 5.924076570664848)"
            ]
          },
          "metadata": {},
          "execution_count": 62
        }
      ]
    },
    {
      "cell_type": "code",
      "metadata": {
        "id": "qt0P5t9qQxfs",
        "colab": {
          "base_uri": "https://localhost:8080/"
        },
        "outputId": "b6dd6e6d-063c-4cdd-cb3e-407750828474"
      },
      "source": [
        "### Simple regret minimization: run number = 9\n",
        "\n",
        "approx_output_9 = np.append(np.min(approx_9.GP.y[0:n_init]),approx_9.GP.y[n_init:(n_init+iters)]) \n",
        "exact_output_9 = np.append(np.min(exact_9.GP.y[0:n_init]),exact_9.GP.y[n_init:(n_init+iters)]) \n",
        "\n",
        "regret_approx_9 = np.log(-approx_output_9 + y_global_orig)\n",
        "regret_exact_9 = np.log(-exact_output_9 + y_global_orig)\n",
        "\n",
        "simple_regret_approx_9 = min_max_array(regret_approx_9)\n",
        "simple_regret_exact_9 = min_max_array(regret_exact_9)\n",
        "\n",
        "min_simple_regret_approx_9 = min(simple_regret_approx_9)\n",
        "min_simple_regret_exact_9 = min(simple_regret_exact_9)\n",
        "\n",
        "min_simple_regret_approx_9, min_simple_regret_exact_9"
      ],
      "execution_count": 63,
      "outputs": [
        {
          "output_type": "execute_result",
          "data": {
            "text/plain": [
              "(4.567392914160044, 4.462879000507194)"
            ]
          },
          "metadata": {},
          "execution_count": 63
        }
      ]
    },
    {
      "cell_type": "code",
      "metadata": {
        "id": "vx8to9stQxft",
        "colab": {
          "base_uri": "https://localhost:8080/"
        },
        "outputId": "4efc9d4d-5e5b-4768-e834-bf1dbd2ff7cc"
      },
      "source": [
        "### Simple regret minimization: run number = 10\n",
        "\n",
        "approx_output_10 = np.append(np.min(approx_10.GP.y[0:n_init]),approx_10.GP.y[n_init:(n_init+iters)]) \n",
        "exact_output_10 = np.append(np.min(exact_10.GP.y[0:n_init]),exact_10.GP.y[n_init:(n_init+iters)]) \n",
        "\n",
        "regret_approx_10 = np.log(-approx_output_10 + y_global_orig)\n",
        "regret_exact_10 = np.log(-exact_output_10 + y_global_orig)\n",
        "\n",
        "simple_regret_approx_10 = min_max_array(regret_approx_10)\n",
        "simple_regret_exact_10 = min_max_array(regret_exact_10)\n",
        "\n",
        "min_simple_regret_approx_10 = min(simple_regret_approx_10)\n",
        "min_simple_regret_exact_10 = min(simple_regret_exact_10)\n",
        "\n",
        "min_simple_regret_approx_10, min_simple_regret_exact_10"
      ],
      "execution_count": 64,
      "outputs": [
        {
          "output_type": "execute_result",
          "data": {
            "text/plain": [
              "(4.229700594771855, 1.6972664297836053)"
            ]
          },
          "metadata": {},
          "execution_count": 64
        }
      ]
    },
    {
      "cell_type": "code",
      "metadata": {
        "id": "d-FGzWyHQxfu",
        "colab": {
          "base_uri": "https://localhost:8080/"
        },
        "outputId": "891ed77c-2014-46ad-e524-f5445acd9a8b"
      },
      "source": [
        "### Simple regret minimization: run number = 11\n",
        "\n",
        "approx_output_11 = np.append(np.min(approx_11.GP.y[0:n_init]),approx_11.GP.y[n_init:(n_init+iters)]) \n",
        "exact_output_11 = np.append(np.min(exact_11.GP.y[0:n_init]),exact_11.GP.y[n_init:(n_init+iters)]) \n",
        "\n",
        "regret_approx_11 = np.log(-approx_output_11 + y_global_orig)\n",
        "regret_exact_11 = np.log(-exact_output_11 + y_global_orig)\n",
        "\n",
        "simple_regret_approx_11 = min_max_array(regret_approx_11)\n",
        "simple_regret_exact_11 = min_max_array(regret_exact_11)\n",
        "\n",
        "min_simple_regret_approx_11 = min(simple_regret_approx_11)\n",
        "min_simple_regret_exact_11 = min(simple_regret_exact_11)\n",
        "\n",
        "min_simple_regret_approx_11, min_simple_regret_exact_11"
      ],
      "execution_count": 65,
      "outputs": [
        {
          "output_type": "execute_result",
          "data": {
            "text/plain": [
              "(6.687727461253523, 4.46184872502936)"
            ]
          },
          "metadata": {},
          "execution_count": 65
        }
      ]
    },
    {
      "cell_type": "code",
      "metadata": {
        "id": "SvtsssyjQxfv",
        "colab": {
          "base_uri": "https://localhost:8080/"
        },
        "outputId": "45a45c51-db76-4973-c5be-a2dcc06ec3c1"
      },
      "source": [
        "### Simple regret minimization: run number = 12\n",
        "\n",
        "approx_output_12 = np.append(np.min(approx_12.GP.y[0:n_init]),approx_12.GP.y[n_init:(n_init+iters)]) \n",
        "exact_output_12 = np.append(np.min(exact_12.GP.y[0:n_init]),exact_12.GP.y[n_init:(n_init+iters)]) \n",
        "\n",
        "regret_approx_12 = np.log(-approx_output_12 + y_global_orig)\n",
        "regret_exact_12 = np.log(-exact_output_12 + y_global_orig)\n",
        "\n",
        "simple_regret_approx_12 = min_max_array(regret_approx_12)\n",
        "simple_regret_exact_12 = min_max_array(regret_exact_12)\n",
        "\n",
        "min_simple_regret_approx_12 = min(simple_regret_approx_12)\n",
        "min_simple_regret_exact_12 = min(simple_regret_exact_12)\n",
        "\n",
        "min_simple_regret_approx_12, min_simple_regret_exact_12"
      ],
      "execution_count": 66,
      "outputs": [
        {
          "output_type": "execute_result",
          "data": {
            "text/plain": [
              "(4.8173780568217355, 6.094140618105184)"
            ]
          },
          "metadata": {},
          "execution_count": 66
        }
      ]
    },
    {
      "cell_type": "code",
      "metadata": {
        "id": "K6OiGcHkQxfw",
        "colab": {
          "base_uri": "https://localhost:8080/"
        },
        "outputId": "b3b85cfd-5fb5-44e2-de0e-09a01d411cd7"
      },
      "source": [
        "### Simple regret minimization: run number = 13\n",
        "\n",
        "approx_output_13 = np.append(np.min(approx_13.GP.y[0:n_init]),approx_13.GP.y[n_init:(n_init+iters)]) \n",
        "exact_output_13 = np.append(np.min(exact_13.GP.y[0:n_init]),exact_13.GP.y[n_init:(n_init+iters)]) \n",
        "\n",
        "regret_approx_13 = np.log(-approx_output_13 + y_global_orig)\n",
        "regret_exact_13 = np.log(-exact_output_13 + y_global_orig)\n",
        "\n",
        "simple_regret_approx_13 = min_max_array(regret_approx_13)\n",
        "simple_regret_exact_13 = min_max_array(regret_exact_13)\n",
        "\n",
        "min_simple_regret_approx_13 = min(simple_regret_approx_13)\n",
        "min_simple_regret_exact_13 = min(simple_regret_exact_13)\n",
        "\n",
        "min_simple_regret_approx_13, min_simple_regret_exact_13"
      ],
      "execution_count": 67,
      "outputs": [
        {
          "output_type": "execute_result",
          "data": {
            "text/plain": [
              "(4.162317045965022, 3.904099624952483)"
            ]
          },
          "metadata": {},
          "execution_count": 67
        }
      ]
    },
    {
      "cell_type": "code",
      "metadata": {
        "id": "ogML73shQxfx",
        "colab": {
          "base_uri": "https://localhost:8080/"
        },
        "outputId": "00398e17-a0bb-4121-e1e1-a8ad2e6dc6c7"
      },
      "source": [
        "### Simple regret minimization: run number = 14\n",
        "\n",
        "approx_output_14 = np.append(np.min(approx_14.GP.y[0:n_init]),approx_14.GP.y[n_init:(n_init+iters)]) \n",
        "exact_output_14 = np.append(np.min(exact_14.GP.y[0:n_init]),exact_14.GP.y[n_init:(n_init+iters)]) \n",
        "\n",
        "regret_approx_14 = np.log(-approx_output_14 + y_global_orig)\n",
        "regret_exact_14 = np.log(-exact_output_14 + y_global_orig)\n",
        "\n",
        "simple_regret_approx_14 = min_max_array(regret_approx_14)\n",
        "simple_regret_exact_14 = min_max_array(regret_exact_14)\n",
        "\n",
        "min_simple_regret_approx_14 = min(simple_regret_approx_14)\n",
        "min_simple_regret_exact_14 = min(simple_regret_exact_14)\n",
        "\n",
        "min_simple_regret_approx_14, min_simple_regret_exact_14"
      ],
      "execution_count": 68,
      "outputs": [
        {
          "output_type": "execute_result",
          "data": {
            "text/plain": [
              "(5.0018741105516975, 4.13039266317072)"
            ]
          },
          "metadata": {},
          "execution_count": 68
        }
      ]
    },
    {
      "cell_type": "code",
      "metadata": {
        "id": "9Eg7gFT9Qxfx",
        "colab": {
          "base_uri": "https://localhost:8080/"
        },
        "outputId": "5ad4db96-93c1-4a50-c159-0f7ff05289af"
      },
      "source": [
        "### Simple regret minimization: run number = 15\n",
        "\n",
        "approx_output_15 = np.append(np.min(approx_15.GP.y[0:n_init]),approx_15.GP.y[n_init:(n_init+iters)]) \n",
        "exact_output_15 = np.append(np.min(exact_15.GP.y[0:n_init]),exact_15.GP.y[n_init:(n_init+iters)]) \n",
        "\n",
        "regret_approx_15 = np.log(-approx_output_15 + y_global_orig)\n",
        "regret_exact_15 = np.log(-exact_output_15 + y_global_orig)\n",
        "\n",
        "simple_regret_approx_15 = min_max_array(regret_approx_15)\n",
        "simple_regret_exact_15 = min_max_array(regret_exact_15)\n",
        "\n",
        "min_simple_regret_approx_15 = min(simple_regret_approx_15)\n",
        "min_simple_regret_exact_15 = min(simple_regret_exact_15)\n",
        "\n",
        "min_simple_regret_approx_15, min_simple_regret_exact_15"
      ],
      "execution_count": 69,
      "outputs": [
        {
          "output_type": "execute_result",
          "data": {
            "text/plain": [
              "(4.91805637018482, 5.644947327739266)"
            ]
          },
          "metadata": {},
          "execution_count": 69
        }
      ]
    },
    {
      "cell_type": "code",
      "metadata": {
        "id": "lIAC1U7ZQxfy",
        "colab": {
          "base_uri": "https://localhost:8080/"
        },
        "outputId": "65e16fca-0f66-4d93-9bd2-8a9e351733c4"
      },
      "source": [
        "### Simple regret minimization: run number = 16\n",
        "\n",
        "approx_output_16 = np.append(np.min(approx_16.GP.y[0:n_init]),approx_16.GP.y[n_init:(n_init+iters)]) \n",
        "exact_output_16 = np.append(np.min(exact_16.GP.y[0:n_init]),exact_16.GP.y[n_init:(n_init+iters)]) \n",
        "\n",
        "regret_approx_16 = np.log(-approx_output_16 + y_global_orig)\n",
        "regret_exact_16 = np.log(-exact_output_16 + y_global_orig)\n",
        "\n",
        "simple_regret_approx_16 = min_max_array(regret_approx_16)\n",
        "simple_regret_exact_16 = min_max_array(regret_exact_16)\n",
        "\n",
        "min_simple_regret_approx_16 = min(simple_regret_approx_16)\n",
        "min_simple_regret_exact_16 = min(simple_regret_exact_16)\n",
        "\n",
        "min_simple_regret_approx_16, min_simple_regret_exact_16"
      ],
      "execution_count": 70,
      "outputs": [
        {
          "output_type": "execute_result",
          "data": {
            "text/plain": [
              "(5.235331909354765, 5.635142932387924)"
            ]
          },
          "metadata": {},
          "execution_count": 70
        }
      ]
    },
    {
      "cell_type": "code",
      "metadata": {
        "id": "bGott36OQxfz",
        "colab": {
          "base_uri": "https://localhost:8080/"
        },
        "outputId": "d2ef5995-1da4-420d-fb9d-ac99e22b4ec4"
      },
      "source": [
        "### Simple regret minimization: run number = 17\n",
        "\n",
        "approx_output_17 = np.append(np.min(approx_17.GP.y[0:n_init]),approx_17.GP.y[n_init:(n_init+iters)]) \n",
        "exact_output_17 = np.append(np.min(exact_17.GP.y[0:n_init]),exact_17.GP.y[n_init:(n_init+iters)]) \n",
        "\n",
        "regret_approx_17 = np.log(-approx_output_17 + y_global_orig)\n",
        "regret_exact_17 = np.log(-exact_output_17 + y_global_orig)\n",
        "\n",
        "simple_regret_approx_17 = min_max_array(regret_approx_17)\n",
        "simple_regret_exact_17 = min_max_array(regret_exact_17)\n",
        "\n",
        "min_simple_regret_approx_17 = min(simple_regret_approx_17)\n",
        "min_simple_regret_exact_17 = min(simple_regret_exact_17)\n",
        "\n",
        "min_simple_regret_approx_17, min_simple_regret_exact_17"
      ],
      "execution_count": 71,
      "outputs": [
        {
          "output_type": "execute_result",
          "data": {
            "text/plain": [
              "(4.260813920126393, 4.260813920126393)"
            ]
          },
          "metadata": {},
          "execution_count": 71
        }
      ]
    },
    {
      "cell_type": "code",
      "metadata": {
        "id": "Cz9ZYMBMQxfz",
        "colab": {
          "base_uri": "https://localhost:8080/"
        },
        "outputId": "51b45520-9b2e-46ed-8fd7-cb3cfd57967f"
      },
      "source": [
        "### Simple regret minimization: run number = 18\n",
        "\n",
        "approx_output_18 = np.append(np.min(approx_18.GP.y[0:n_init]),approx_18.GP.y[n_init:(n_init+iters)]) \n",
        "exact_output_18 = np.append(np.min(exact_18.GP.y[0:n_init]),exact_18.GP.y[n_init:(n_init+iters)]) \n",
        "\n",
        "regret_approx_18 = np.log(-approx_output_18 + y_global_orig)\n",
        "regret_exact_18 = np.log(-exact_output_18 + y_global_orig)\n",
        "\n",
        "simple_regret_approx_18 = min_max_array(regret_approx_18)\n",
        "simple_regret_exact_18 = min_max_array(regret_exact_18)\n",
        "\n",
        "min_simple_regret_approx_18 = min(simple_regret_approx_18)\n",
        "min_simple_regret_exact_18 = min(simple_regret_exact_18)\n",
        "\n",
        "min_simple_regret_approx_18, min_simple_regret_exact_18"
      ],
      "execution_count": 72,
      "outputs": [
        {
          "output_type": "execute_result",
          "data": {
            "text/plain": [
              "(4.82311343063195, 4.82311343063195)"
            ]
          },
          "metadata": {},
          "execution_count": 72
        }
      ]
    },
    {
      "cell_type": "code",
      "metadata": {
        "id": "OBfpWOHNQxf0",
        "colab": {
          "base_uri": "https://localhost:8080/"
        },
        "outputId": "047ca796-01c0-412d-f31a-52b180ecbcb2"
      },
      "source": [
        "### Simple regret minimization: run number = 19\n",
        "\n",
        "approx_output_19 = np.append(np.min(approx_19.GP.y[0:n_init]),approx_19.GP.y[n_init:(n_init+iters)]) \n",
        "exact_output_19 = np.append(np.min(exact_19.GP.y[0:n_init]),exact_19.GP.y[n_init:(n_init+iters)]) \n",
        "\n",
        "regret_approx_19 = np.log(-approx_output_19 + y_global_orig)\n",
        "regret_exact_19 = np.log(-exact_output_19 + y_global_orig)\n",
        "\n",
        "simple_regret_approx_19 = min_max_array(regret_approx_19)\n",
        "simple_regret_exact_19 = min_max_array(regret_exact_19)\n",
        "\n",
        "min_simple_regret_approx_19 = min(simple_regret_approx_19)\n",
        "min_simple_regret_exact_19 = min(simple_regret_exact_19)\n",
        "\n",
        "min_simple_regret_approx_19, min_simple_regret_exact_19"
      ],
      "execution_count": 73,
      "outputs": [
        {
          "output_type": "execute_result",
          "data": {
            "text/plain": [
              "(4.448474898401298, 3.4475519482132806)"
            ]
          },
          "metadata": {},
          "execution_count": 73
        }
      ]
    },
    {
      "cell_type": "code",
      "metadata": {
        "id": "BE1AJ7NsQxf0",
        "colab": {
          "base_uri": "https://localhost:8080/"
        },
        "outputId": "d68995d5-d1ed-449d-c39e-995f6c1e0519"
      },
      "source": [
        "### Simple regret minimization: run number = 20\n",
        "\n",
        "approx_output_20 = np.append(np.min(approx_20.GP.y[0:n_init]),approx_20.GP.y[n_init:(n_init+iters)]) \n",
        "exact_output_20 = np.append(np.min(exact_20.GP.y[0:n_init]),exact_20.GP.y[n_init:(n_init+iters)]) \n",
        "\n",
        "regret_approx_20 = np.log(-approx_output_20 + y_global_orig)\n",
        "regret_exact_20 = np.log(-exact_output_20 + y_global_orig)\n",
        "\n",
        "simple_regret_approx_20 = min_max_array(regret_approx_20)\n",
        "simple_regret_exact_20 = min_max_array(regret_exact_20)\n",
        "\n",
        "min_simple_regret_approx_20 = min(simple_regret_approx_20)\n",
        "min_simple_regret_exact_20 = min(simple_regret_exact_20)\n",
        "\n",
        "min_simple_regret_approx_20, min_simple_regret_exact_20"
      ],
      "execution_count": 74,
      "outputs": [
        {
          "output_type": "execute_result",
          "data": {
            "text/plain": [
              "(5.0320630966067315, 5.271452958244779)"
            ]
          },
          "metadata": {},
          "execution_count": 74
        }
      ]
    },
    {
      "cell_type": "code",
      "metadata": {
        "id": "XHo_0G2fJhBb"
      },
      "source": [
        "# Iteration1 :\n",
        "\n",
        "slice1 = 0\n",
        "\n",
        "approx1 = [simple_regret_approx_1[slice1],\n",
        "       simple_regret_approx_2[slice1],\n",
        "       simple_regret_approx_3[slice1],\n",
        "       simple_regret_approx_4[slice1],\n",
        "       simple_regret_approx_5[slice1],\n",
        "       simple_regret_approx_6[slice1],\n",
        "       simple_regret_approx_7[slice1],\n",
        "       simple_regret_approx_8[slice1],\n",
        "       simple_regret_approx_9[slice1],\n",
        "       simple_regret_approx_10[slice1],\n",
        "       simple_regret_approx_11[slice1],\n",
        "       simple_regret_approx_12[slice1],\n",
        "       simple_regret_approx_13[slice1],\n",
        "       simple_regret_approx_14[slice1],\n",
        "       simple_regret_approx_15[slice1],\n",
        "       simple_regret_approx_16[slice1],\n",
        "       simple_regret_approx_17[slice1],\n",
        "       simple_regret_approx_18[slice1],\n",
        "       simple_regret_approx_19[slice1],\n",
        "       simple_regret_approx_20[slice1]]\n",
        "\n",
        "exact1 = [simple_regret_exact_1[slice1],\n",
        "       simple_regret_exact_2[slice1],\n",
        "       simple_regret_exact_3[slice1],\n",
        "       simple_regret_exact_4[slice1],\n",
        "       simple_regret_exact_5[slice1],\n",
        "       simple_regret_exact_6[slice1],\n",
        "       simple_regret_exact_7[slice1],\n",
        "       simple_regret_exact_8[slice1],\n",
        "       simple_regret_exact_9[slice1],\n",
        "       simple_regret_exact_10[slice1],\n",
        "       simple_regret_exact_11[slice1],\n",
        "       simple_regret_exact_12[slice1],\n",
        "       simple_regret_exact_13[slice1],\n",
        "       simple_regret_exact_14[slice1],\n",
        "       simple_regret_exact_15[slice1],\n",
        "       simple_regret_exact_16[slice1],\n",
        "       simple_regret_exact_17[slice1],\n",
        "       simple_regret_exact_18[slice1],\n",
        "       simple_regret_exact_19[slice1],\n",
        "       simple_regret_exact_20[slice1]]\n",
        "\n",
        "approx1_results = pd.DataFrame(approx1).sort_values(by=[0], ascending=False)\n",
        "exact1_results = pd.DataFrame(exact1).sort_values(by=[0], ascending=False)\n",
        "\n",
        "### Best simple regret minimization IQR - approx:\n",
        "lower_approx1 = np.asarray(approx1_results[4:5][0])[0]\n",
        "median_approx1 = np.asarray(approx1_results[9:10][0])[0]\n",
        "upper_approx1 = np.asarray(approx1_results[14:15][0])[0]\n",
        "\n",
        "lower_exact1 = np.asarray(exact1_results[4:5][0])[0]\n",
        "median_exact1 = np.asarray(exact1_results[9:10][0])[0]\n",
        "upper_exact1 = np.asarray(exact1_results[14:15][0])[0]"
      ],
      "execution_count": 75,
      "outputs": []
    },
    {
      "cell_type": "code",
      "metadata": {
        "id": "IZYT5m85JhBb"
      },
      "source": [
        "# Iteration11 :\n",
        "\n",
        "slice11 = 10\n",
        "\n",
        "approx11 = [simple_regret_approx_1[slice11],\n",
        "       simple_regret_approx_2[slice11],\n",
        "       simple_regret_approx_3[slice11],\n",
        "       simple_regret_approx_4[slice11],\n",
        "       simple_regret_approx_5[slice11],\n",
        "       simple_regret_approx_6[slice11],\n",
        "       simple_regret_approx_7[slice11],\n",
        "       simple_regret_approx_8[slice11],\n",
        "       simple_regret_approx_9[slice11],\n",
        "       simple_regret_approx_10[slice11],\n",
        "       simple_regret_approx_11[slice11],\n",
        "       simple_regret_approx_12[slice11],\n",
        "       simple_regret_approx_13[slice11],\n",
        "       simple_regret_approx_14[slice11],\n",
        "       simple_regret_approx_15[slice11],\n",
        "       simple_regret_approx_16[slice11],\n",
        "       simple_regret_approx_17[slice11],\n",
        "       simple_regret_approx_18[slice11],\n",
        "       simple_regret_approx_19[slice11],\n",
        "       simple_regret_approx_20[slice11]]\n",
        "\n",
        "exact11 = [simple_regret_exact_1[slice11],\n",
        "       simple_regret_exact_2[slice11],\n",
        "       simple_regret_exact_3[slice11],\n",
        "       simple_regret_exact_4[slice11],\n",
        "       simple_regret_exact_5[slice11],\n",
        "       simple_regret_exact_6[slice11],\n",
        "       simple_regret_exact_7[slice11],\n",
        "       simple_regret_exact_8[slice11],\n",
        "       simple_regret_exact_9[slice11],\n",
        "       simple_regret_exact_10[slice11],\n",
        "       simple_regret_exact_11[slice11],\n",
        "       simple_regret_exact_12[slice11],\n",
        "       simple_regret_exact_13[slice11],\n",
        "       simple_regret_exact_14[slice11],\n",
        "       simple_regret_exact_15[slice11],\n",
        "       simple_regret_exact_16[slice11],\n",
        "       simple_regret_exact_17[slice11],\n",
        "       simple_regret_exact_18[slice11],\n",
        "       simple_regret_exact_19[slice11],\n",
        "       simple_regret_exact_20[slice11]]\n",
        "\n",
        "approx11_results = pd.DataFrame(approx11).sort_values(by=[0], ascending=False)\n",
        "exact11_results = pd.DataFrame(exact11).sort_values(by=[0], ascending=False)\n",
        "\n",
        "### Best simple regret minimization IQR - approx:\n",
        "lower_approx11 = np.asarray(approx11_results[4:5][0])[0]\n",
        "median_approx11 = np.asarray(approx11_results[9:10][0])[0]\n",
        "upper_approx11 = np.asarray(approx11_results[14:15][0])[0]\n",
        "\n",
        "lower_exact11 = np.asarray(exact11_results[4:5][0])[0]\n",
        "median_exact11 = np.asarray(exact11_results[9:10][0])[0]\n",
        "upper_exact11 = np.asarray(exact11_results[14:15][0])[0]"
      ],
      "execution_count": 76,
      "outputs": []
    },
    {
      "cell_type": "code",
      "metadata": {
        "id": "R_vbmbaeJhBc"
      },
      "source": [
        "# Iteration21 :\n",
        "\n",
        "slice21 = 20\n",
        "\n",
        "approx21 = [simple_regret_approx_1[slice21],\n",
        "       simple_regret_approx_2[slice21],\n",
        "       simple_regret_approx_3[slice21],\n",
        "       simple_regret_approx_4[slice21],\n",
        "       simple_regret_approx_5[slice21],\n",
        "       simple_regret_approx_6[slice21],\n",
        "       simple_regret_approx_7[slice21],\n",
        "       simple_regret_approx_8[slice21],\n",
        "       simple_regret_approx_9[slice21],\n",
        "       simple_regret_approx_10[slice21],\n",
        "       simple_regret_approx_11[slice21],\n",
        "       simple_regret_approx_12[slice21],\n",
        "       simple_regret_approx_13[slice21],\n",
        "       simple_regret_approx_14[slice21],\n",
        "       simple_regret_approx_15[slice21],\n",
        "       simple_regret_approx_16[slice21],\n",
        "       simple_regret_approx_17[slice21],\n",
        "       simple_regret_approx_18[slice21],\n",
        "       simple_regret_approx_19[slice21],\n",
        "       simple_regret_approx_20[slice21]]\n",
        "\n",
        "exact21 = [simple_regret_exact_1[slice21],\n",
        "       simple_regret_exact_2[slice21],\n",
        "       simple_regret_exact_3[slice21],\n",
        "       simple_regret_exact_4[slice21],\n",
        "       simple_regret_exact_5[slice21],\n",
        "       simple_regret_exact_6[slice21],\n",
        "       simple_regret_exact_7[slice21],\n",
        "       simple_regret_exact_8[slice21],\n",
        "       simple_regret_exact_9[slice21],\n",
        "       simple_regret_exact_10[slice21],\n",
        "       simple_regret_exact_11[slice21],\n",
        "       simple_regret_exact_12[slice21],\n",
        "       simple_regret_exact_13[slice21],\n",
        "       simple_regret_exact_14[slice21],\n",
        "       simple_regret_exact_15[slice21],\n",
        "       simple_regret_exact_16[slice21],\n",
        "       simple_regret_exact_17[slice21],\n",
        "       simple_regret_exact_18[slice21],\n",
        "       simple_regret_exact_19[slice21],\n",
        "       simple_regret_exact_20[slice21]]\n",
        "\n",
        "approx21_results = pd.DataFrame(approx21).sort_values(by=[0], ascending=False)\n",
        "exact21_results = pd.DataFrame(exact21).sort_values(by=[0], ascending=False)\n",
        "\n",
        "### Best simple regret minimization IQR - approx:\n",
        "lower_approx21 = np.asarray(approx21_results[4:5][0])[0]\n",
        "median_approx21 = np.asarray(approx21_results[9:10][0])[0]\n",
        "upper_approx21 = np.asarray(approx21_results[14:15][0])[0]\n",
        "\n",
        "lower_exact21 = np.asarray(exact21_results[4:5][0])[0]\n",
        "median_exact21 = np.asarray(exact21_results[9:10][0])[0]\n",
        "upper_exact21 = np.asarray(exact21_results[14:15][0])[0]"
      ],
      "execution_count": 77,
      "outputs": []
    },
    {
      "cell_type": "code",
      "metadata": {
        "id": "F9FU4ttiaQOJ"
      },
      "source": [
        "# Iteration31 :\n",
        "\n",
        "slice31 = 30\n",
        "\n",
        "approx31 = [simple_regret_approx_1[slice31],\n",
        "       simple_regret_approx_2[slice31],\n",
        "       simple_regret_approx_3[slice31],\n",
        "       simple_regret_approx_4[slice31],\n",
        "       simple_regret_approx_5[slice31],\n",
        "       simple_regret_approx_6[slice31],\n",
        "       simple_regret_approx_7[slice31],\n",
        "       simple_regret_approx_8[slice31],\n",
        "       simple_regret_approx_9[slice31],\n",
        "       simple_regret_approx_10[slice31],\n",
        "       simple_regret_approx_11[slice31],\n",
        "       simple_regret_approx_12[slice31],\n",
        "       simple_regret_approx_13[slice31],\n",
        "       simple_regret_approx_14[slice31],\n",
        "       simple_regret_approx_15[slice31],\n",
        "       simple_regret_approx_16[slice31],\n",
        "       simple_regret_approx_17[slice31],\n",
        "       simple_regret_approx_18[slice31],\n",
        "       simple_regret_approx_19[slice31],\n",
        "       simple_regret_approx_20[slice31]]\n",
        "\n",
        "exact31 = [simple_regret_exact_1[slice31],\n",
        "       simple_regret_exact_2[slice31],\n",
        "       simple_regret_exact_3[slice31],\n",
        "       simple_regret_exact_4[slice31],\n",
        "       simple_regret_exact_5[slice31],\n",
        "       simple_regret_exact_6[slice31],\n",
        "       simple_regret_exact_7[slice31],\n",
        "       simple_regret_exact_8[slice31],\n",
        "       simple_regret_exact_9[slice31],\n",
        "       simple_regret_exact_10[slice31],\n",
        "       simple_regret_exact_11[slice31],\n",
        "       simple_regret_exact_12[slice31],\n",
        "       simple_regret_exact_13[slice31],\n",
        "       simple_regret_exact_14[slice31],\n",
        "       simple_regret_exact_15[slice31],\n",
        "       simple_regret_exact_16[slice31],\n",
        "       simple_regret_exact_17[slice31],\n",
        "       simple_regret_exact_18[slice31],\n",
        "       simple_regret_exact_19[slice31],\n",
        "       simple_regret_exact_20[slice31]]\n",
        "\n",
        "approx31_results = pd.DataFrame(approx31).sort_values(by=[0], ascending=False)\n",
        "exact31_results = pd.DataFrame(exact31).sort_values(by=[0], ascending=False)\n",
        "\n",
        "### Best simple regret minimization IQR - approx:\n",
        "lower_approx31 = np.asarray(approx31_results[4:5][0])[0]\n",
        "median_approx31 = np.asarray(approx31_results[9:10][0])[0]\n",
        "upper_approx31 = np.asarray(approx31_results[14:15][0])[0]\n",
        "\n",
        "lower_exact31 = np.asarray(exact31_results[4:5][0])[0]\n",
        "median_exact31 = np.asarray(exact31_results[9:10][0])[0]\n",
        "upper_exact31 = np.asarray(exact31_results[14:15][0])[0]\n"
      ],
      "execution_count": 78,
      "outputs": []
    },
    {
      "cell_type": "code",
      "metadata": {
        "id": "nAnT4CmSJhBd"
      },
      "source": [
        "# Iteration2 :\n",
        "\n",
        "slice2 = 1\n",
        "\n",
        "approx2 = [simple_regret_approx_1[slice2],\n",
        "       simple_regret_approx_2[slice2],\n",
        "       simple_regret_approx_3[slice2],\n",
        "       simple_regret_approx_4[slice2],\n",
        "       simple_regret_approx_5[slice2],\n",
        "       simple_regret_approx_6[slice2],\n",
        "       simple_regret_approx_7[slice2],\n",
        "       simple_regret_approx_8[slice2],\n",
        "       simple_regret_approx_9[slice2],\n",
        "       simple_regret_approx_10[slice2],\n",
        "       simple_regret_approx_11[slice2],\n",
        "       simple_regret_approx_12[slice2],\n",
        "       simple_regret_approx_13[slice2],\n",
        "       simple_regret_approx_14[slice2],\n",
        "       simple_regret_approx_15[slice2],\n",
        "       simple_regret_approx_16[slice2],\n",
        "       simple_regret_approx_17[slice2],\n",
        "       simple_regret_approx_18[slice2],\n",
        "       simple_regret_approx_19[slice2],\n",
        "       simple_regret_approx_20[slice2]]\n",
        "\n",
        "exact2 = [simple_regret_exact_1[slice2],\n",
        "       simple_regret_exact_2[slice2],\n",
        "       simple_regret_exact_3[slice2],\n",
        "       simple_regret_exact_4[slice2],\n",
        "       simple_regret_exact_5[slice2],\n",
        "       simple_regret_exact_6[slice2],\n",
        "       simple_regret_exact_7[slice2],\n",
        "       simple_regret_exact_8[slice2],\n",
        "       simple_regret_exact_9[slice2],\n",
        "       simple_regret_exact_10[slice2],\n",
        "       simple_regret_exact_11[slice2],\n",
        "       simple_regret_exact_12[slice2],\n",
        "       simple_regret_exact_13[slice2],\n",
        "       simple_regret_exact_14[slice2],\n",
        "       simple_regret_exact_15[slice2],\n",
        "       simple_regret_exact_16[slice2],\n",
        "       simple_regret_exact_17[slice2],\n",
        "       simple_regret_exact_18[slice2],\n",
        "       simple_regret_exact_19[slice2],\n",
        "       simple_regret_exact_20[slice2]]\n",
        "\n",
        "approx2_results = pd.DataFrame(approx2).sort_values(by=[0], ascending=False)\n",
        "exact2_results = pd.DataFrame(exact2).sort_values(by=[0], ascending=False)\n",
        "\n",
        "### Best simple regret minimization IQR - approx:\n",
        "lower_approx2 = np.asarray(approx2_results[4:5][0])[0]\n",
        "median_approx2 = np.asarray(approx2_results[9:10][0])[0]\n",
        "upper_approx2 = np.asarray(approx2_results[14:15][0])[0]\n",
        "\n",
        "lower_exact2 = np.asarray(exact2_results[4:5][0])[0]\n",
        "median_exact2 = np.asarray(exact2_results[9:10][0])[0]\n",
        "upper_exact2 = np.asarray(exact2_results[14:15][0])[0]"
      ],
      "execution_count": 79,
      "outputs": []
    },
    {
      "cell_type": "code",
      "metadata": {
        "id": "ilHQoAhBJhBd"
      },
      "source": [
        "# Iteration12 :\n",
        "\n",
        "slice12 = 11\n",
        "\n",
        "approx12 = [simple_regret_approx_1[slice12],\n",
        "       simple_regret_approx_2[slice12],\n",
        "       simple_regret_approx_3[slice12],\n",
        "       simple_regret_approx_4[slice12],\n",
        "       simple_regret_approx_5[slice12],\n",
        "       simple_regret_approx_6[slice12],\n",
        "       simple_regret_approx_7[slice12],\n",
        "       simple_regret_approx_8[slice12],\n",
        "       simple_regret_approx_9[slice12],\n",
        "       simple_regret_approx_10[slice12],\n",
        "       simple_regret_approx_11[slice12],\n",
        "       simple_regret_approx_12[slice12],\n",
        "       simple_regret_approx_13[slice12],\n",
        "       simple_regret_approx_14[slice12],\n",
        "       simple_regret_approx_15[slice12],\n",
        "       simple_regret_approx_16[slice12],\n",
        "       simple_regret_approx_17[slice12],\n",
        "       simple_regret_approx_18[slice12],\n",
        "       simple_regret_approx_19[slice12],\n",
        "       simple_regret_approx_20[slice12]]\n",
        "\n",
        "exact12 = [simple_regret_exact_1[slice12],\n",
        "       simple_regret_exact_2[slice12],\n",
        "       simple_regret_exact_3[slice12],\n",
        "       simple_regret_exact_4[slice12],\n",
        "       simple_regret_exact_5[slice12],\n",
        "       simple_regret_exact_6[slice12],\n",
        "       simple_regret_exact_7[slice12],\n",
        "       simple_regret_exact_8[slice12],\n",
        "       simple_regret_exact_9[slice12],\n",
        "       simple_regret_exact_10[slice12],\n",
        "       simple_regret_exact_11[slice12],\n",
        "       simple_regret_exact_12[slice12],\n",
        "       simple_regret_exact_13[slice12],\n",
        "       simple_regret_exact_14[slice12],\n",
        "       simple_regret_exact_15[slice12],\n",
        "       simple_regret_exact_16[slice12],\n",
        "       simple_regret_exact_17[slice12],\n",
        "       simple_regret_exact_18[slice12],\n",
        "       simple_regret_exact_19[slice12],\n",
        "       simple_regret_exact_20[slice12]]\n",
        "\n",
        "approx12_results = pd.DataFrame(approx12).sort_values(by=[0], ascending=False)\n",
        "exact12_results = pd.DataFrame(exact12).sort_values(by=[0], ascending=False)\n",
        "\n",
        "### Best simple regret minimization IQR - approx:\n",
        "lower_approx12 = np.asarray(approx12_results[4:5][0])[0]\n",
        "median_approx12 = np.asarray(approx12_results[9:10][0])[0]\n",
        "upper_approx12 = np.asarray(approx12_results[14:15][0])[0]\n",
        "\n",
        "lower_exact12 = np.asarray(exact12_results[4:5][0])[0]\n",
        "median_exact12 = np.asarray(exact12_results[9:10][0])[0]\n",
        "upper_exact12 = np.asarray(exact12_results[14:15][0])[0]"
      ],
      "execution_count": 80,
      "outputs": []
    },
    {
      "cell_type": "code",
      "metadata": {
        "id": "H13IwWE5axxK"
      },
      "source": [
        "# Iteration22 :\n",
        "\n",
        "slice22 = 21\n",
        "\n",
        "approx22 = [simple_regret_approx_1[slice22],\n",
        "       simple_regret_approx_2[slice22],\n",
        "       simple_regret_approx_3[slice22],\n",
        "       simple_regret_approx_4[slice22],\n",
        "       simple_regret_approx_5[slice22],\n",
        "       simple_regret_approx_6[slice22],\n",
        "       simple_regret_approx_7[slice22],\n",
        "       simple_regret_approx_8[slice22],\n",
        "       simple_regret_approx_9[slice22],\n",
        "       simple_regret_approx_10[slice22],\n",
        "       simple_regret_approx_11[slice22],\n",
        "       simple_regret_approx_12[slice22],\n",
        "       simple_regret_approx_13[slice22],\n",
        "       simple_regret_approx_14[slice22],\n",
        "       simple_regret_approx_15[slice22],\n",
        "       simple_regret_approx_16[slice22],\n",
        "       simple_regret_approx_17[slice22],\n",
        "       simple_regret_approx_18[slice22],\n",
        "       simple_regret_approx_19[slice22],\n",
        "       simple_regret_approx_20[slice22]]\n",
        "\n",
        "exact22 = [simple_regret_exact_1[slice22],\n",
        "       simple_regret_exact_2[slice22],\n",
        "       simple_regret_exact_3[slice22],\n",
        "       simple_regret_exact_4[slice22],\n",
        "       simple_regret_exact_5[slice22],\n",
        "       simple_regret_exact_6[slice22],\n",
        "       simple_regret_exact_7[slice22],\n",
        "       simple_regret_exact_8[slice22],\n",
        "       simple_regret_exact_9[slice22],\n",
        "       simple_regret_exact_10[slice22],\n",
        "       simple_regret_exact_11[slice22],\n",
        "       simple_regret_exact_12[slice22],\n",
        "       simple_regret_exact_13[slice22],\n",
        "       simple_regret_exact_14[slice22],\n",
        "       simple_regret_exact_15[slice22],\n",
        "       simple_regret_exact_16[slice22],\n",
        "       simple_regret_exact_17[slice22],\n",
        "       simple_regret_exact_18[slice22],\n",
        "       simple_regret_exact_19[slice22],\n",
        "       simple_regret_exact_20[slice22]]\n",
        "\n",
        "approx22_results = pd.DataFrame(approx22).sort_values(by=[0], ascending=False)\n",
        "exact22_results = pd.DataFrame(exact22).sort_values(by=[0], ascending=False)\n",
        "\n",
        "### Best simple regret minimization IQR - approx:\n",
        "lower_approx22 = np.asarray(approx22_results[4:5][0])[0]\n",
        "median_approx22 = np.asarray(approx22_results[9:10][0])[0]\n",
        "upper_approx22 = np.asarray(approx22_results[14:15][0])[0]\n",
        "\n",
        "lower_exact22 = np.asarray(exact22_results[4:5][0])[0]\n",
        "median_exact22 = np.asarray(exact22_results[9:10][0])[0]\n",
        "upper_exact22 = np.asarray(exact22_results[14:15][0])[0]"
      ],
      "execution_count": 81,
      "outputs": []
    },
    {
      "cell_type": "code",
      "metadata": {
        "id": "bGJ_fhZ7JhBe"
      },
      "source": [
        "# Iteration3 :\n",
        "\n",
        "slice3 = 2\n",
        "\n",
        "approx3 = [simple_regret_approx_1[slice3],\n",
        "       simple_regret_approx_2[slice3],\n",
        "       simple_regret_approx_3[slice3],\n",
        "       simple_regret_approx_4[slice3],\n",
        "       simple_regret_approx_5[slice3],\n",
        "       simple_regret_approx_6[slice3],\n",
        "       simple_regret_approx_7[slice3],\n",
        "       simple_regret_approx_8[slice3],\n",
        "       simple_regret_approx_9[slice3],\n",
        "       simple_regret_approx_10[slice3],\n",
        "       simple_regret_approx_11[slice3],\n",
        "       simple_regret_approx_12[slice3],\n",
        "       simple_regret_approx_13[slice3],\n",
        "       simple_regret_approx_14[slice3],\n",
        "       simple_regret_approx_15[slice3],\n",
        "       simple_regret_approx_16[slice3],\n",
        "       simple_regret_approx_17[slice3],\n",
        "       simple_regret_approx_18[slice3],\n",
        "       simple_regret_approx_19[slice3],\n",
        "       simple_regret_approx_20[slice3]]\n",
        "\n",
        "exact3 = [simple_regret_exact_1[slice3],\n",
        "       simple_regret_exact_2[slice3],\n",
        "       simple_regret_exact_3[slice3],\n",
        "       simple_regret_exact_4[slice3],\n",
        "       simple_regret_exact_5[slice3],\n",
        "       simple_regret_exact_6[slice3],\n",
        "       simple_regret_exact_7[slice3],\n",
        "       simple_regret_exact_8[slice3],\n",
        "       simple_regret_exact_9[slice3],\n",
        "       simple_regret_exact_10[slice3],\n",
        "       simple_regret_exact_11[slice3],\n",
        "       simple_regret_exact_12[slice3],\n",
        "       simple_regret_exact_13[slice3],\n",
        "       simple_regret_exact_14[slice3],\n",
        "       simple_regret_exact_15[slice3],\n",
        "       simple_regret_exact_16[slice3],\n",
        "       simple_regret_exact_17[slice3],\n",
        "       simple_regret_exact_18[slice3],\n",
        "       simple_regret_exact_19[slice3],\n",
        "       simple_regret_exact_20[slice3]]\n",
        "\n",
        "approx3_results = pd.DataFrame(approx3).sort_values(by=[0], ascending=False)\n",
        "exact3_results = pd.DataFrame(exact3).sort_values(by=[0], ascending=False)\n",
        "\n",
        "### Best simple regret minimization IQR - approx:\n",
        "lower_approx3 = np.asarray(approx3_results[4:5][0])[0]\n",
        "median_approx3 = np.asarray(approx3_results[9:10][0])[0]\n",
        "upper_approx3 = np.asarray(approx3_results[14:15][0])[0]\n",
        "\n",
        "lower_exact3 = np.asarray(exact3_results[4:5][0])[0]\n",
        "median_exact3 = np.asarray(exact3_results[9:10][0])[0]\n",
        "upper_exact3 = np.asarray(exact3_results[14:15][0])[0]"
      ],
      "execution_count": 82,
      "outputs": []
    },
    {
      "cell_type": "code",
      "metadata": {
        "id": "jUpV9Q1LJhBe"
      },
      "source": [
        "# Iteration13 :\n",
        "\n",
        "slice13 = 12\n",
        "\n",
        "approx13 = [simple_regret_approx_1[slice13],\n",
        "       simple_regret_approx_2[slice13],\n",
        "       simple_regret_approx_3[slice13],\n",
        "       simple_regret_approx_4[slice13],\n",
        "       simple_regret_approx_5[slice13],\n",
        "       simple_regret_approx_6[slice13],\n",
        "       simple_regret_approx_7[slice13],\n",
        "       simple_regret_approx_8[slice13],\n",
        "       simple_regret_approx_9[slice13],\n",
        "       simple_regret_approx_10[slice13],\n",
        "       simple_regret_approx_11[slice13],\n",
        "       simple_regret_approx_12[slice13],\n",
        "       simple_regret_approx_13[slice13],\n",
        "       simple_regret_approx_14[slice13],\n",
        "       simple_regret_approx_15[slice13],\n",
        "       simple_regret_approx_16[slice13],\n",
        "       simple_regret_approx_17[slice13],\n",
        "       simple_regret_approx_18[slice13],\n",
        "       simple_regret_approx_19[slice13],\n",
        "       simple_regret_approx_20[slice13]]\n",
        "\n",
        "exact13 = [simple_regret_exact_1[slice13],\n",
        "       simple_regret_exact_2[slice13],\n",
        "       simple_regret_exact_3[slice13],\n",
        "       simple_regret_exact_4[slice13],\n",
        "       simple_regret_exact_5[slice13],\n",
        "       simple_regret_exact_6[slice13],\n",
        "       simple_regret_exact_7[slice13],\n",
        "       simple_regret_exact_8[slice13],\n",
        "       simple_regret_exact_9[slice13],\n",
        "       simple_regret_exact_10[slice13],\n",
        "       simple_regret_exact_11[slice13],\n",
        "       simple_regret_exact_12[slice13],\n",
        "       simple_regret_exact_13[slice13],\n",
        "       simple_regret_exact_14[slice13],\n",
        "       simple_regret_exact_15[slice13],\n",
        "       simple_regret_exact_16[slice13],\n",
        "       simple_regret_exact_17[slice13],\n",
        "       simple_regret_exact_18[slice13],\n",
        "       simple_regret_exact_19[slice13],\n",
        "       simple_regret_exact_20[slice13]]\n",
        "\n",
        "approx13_results = pd.DataFrame(approx13).sort_values(by=[0], ascending=False)\n",
        "exact13_results = pd.DataFrame(exact13).sort_values(by=[0], ascending=False)\n",
        "\n",
        "### Best simple regret minimization IQR - approx:\n",
        "lower_approx13 = np.asarray(approx13_results[4:5][0])[0]\n",
        "median_approx13 = np.asarray(approx13_results[9:10][0])[0]\n",
        "upper_approx13 = np.asarray(approx13_results[14:15][0])[0]\n",
        "\n",
        "lower_exact13 = np.asarray(exact13_results[4:5][0])[0]\n",
        "median_exact13 = np.asarray(exact13_results[9:10][0])[0]\n",
        "upper_exact13 = np.asarray(exact13_results[14:15][0])[0]"
      ],
      "execution_count": 83,
      "outputs": []
    },
    {
      "cell_type": "code",
      "metadata": {
        "id": "ql0sW6uwbZ2w"
      },
      "source": [
        "# Iteration23 :\n",
        "\n",
        "slice23 = 22\n",
        "\n",
        "approx23 = [simple_regret_approx_1[slice23],\n",
        "       simple_regret_approx_2[slice23],\n",
        "       simple_regret_approx_3[slice23],\n",
        "       simple_regret_approx_4[slice23],\n",
        "       simple_regret_approx_5[slice23],\n",
        "       simple_regret_approx_6[slice23],\n",
        "       simple_regret_approx_7[slice23],\n",
        "       simple_regret_approx_8[slice23],\n",
        "       simple_regret_approx_9[slice23],\n",
        "       simple_regret_approx_10[slice23],\n",
        "       simple_regret_approx_11[slice23],\n",
        "       simple_regret_approx_12[slice23],\n",
        "       simple_regret_approx_13[slice23],\n",
        "       simple_regret_approx_14[slice23],\n",
        "       simple_regret_approx_15[slice23],\n",
        "       simple_regret_approx_16[slice23],\n",
        "       simple_regret_approx_17[slice23],\n",
        "       simple_regret_approx_18[slice23],\n",
        "       simple_regret_approx_19[slice23],\n",
        "       simple_regret_approx_20[slice23]]\n",
        "\n",
        "exact23 = [simple_regret_exact_1[slice23],\n",
        "       simple_regret_exact_2[slice23],\n",
        "       simple_regret_exact_3[slice23],\n",
        "       simple_regret_exact_4[slice23],\n",
        "       simple_regret_exact_5[slice23],\n",
        "       simple_regret_exact_6[slice23],\n",
        "       simple_regret_exact_7[slice23],\n",
        "       simple_regret_exact_8[slice23],\n",
        "       simple_regret_exact_9[slice23],\n",
        "       simple_regret_exact_10[slice23],\n",
        "       simple_regret_exact_11[slice23],\n",
        "       simple_regret_exact_12[slice23],\n",
        "       simple_regret_exact_13[slice23],\n",
        "       simple_regret_exact_14[slice23],\n",
        "       simple_regret_exact_15[slice23],\n",
        "       simple_regret_exact_16[slice23],\n",
        "       simple_regret_exact_17[slice23],\n",
        "       simple_regret_exact_18[slice23],\n",
        "       simple_regret_exact_19[slice23],\n",
        "       simple_regret_exact_20[slice23]]\n",
        "\n",
        "approx23_results = pd.DataFrame(approx23).sort_values(by=[0], ascending=False)\n",
        "exact23_results = pd.DataFrame(exact23).sort_values(by=[0], ascending=False)\n",
        "\n",
        "### Best simple regret minimization IQR - approx:\n",
        "lower_approx23 = np.asarray(approx23_results[4:5][0])[0]\n",
        "median_approx23 = np.asarray(approx23_results[9:10][0])[0]\n",
        "upper_approx23 = np.asarray(approx23_results[14:15][0])[0]\n",
        "\n",
        "lower_exact23 = np.asarray(exact23_results[4:5][0])[0]\n",
        "median_exact23 = np.asarray(exact23_results[9:10][0])[0]\n",
        "upper_exact23 = np.asarray(exact23_results[14:15][0])[0]"
      ],
      "execution_count": 84,
      "outputs": []
    },
    {
      "cell_type": "code",
      "metadata": {
        "id": "ZD6EnITCJhBf"
      },
      "source": [
        "# Iteration4 :\n",
        "\n",
        "slice4 = 3\n",
        "\n",
        "approx4 = [simple_regret_approx_1[slice4],\n",
        "       simple_regret_approx_2[slice4],\n",
        "       simple_regret_approx_3[slice4],\n",
        "       simple_regret_approx_4[slice4],\n",
        "       simple_regret_approx_5[slice4],\n",
        "       simple_regret_approx_6[slice4],\n",
        "       simple_regret_approx_7[slice4],\n",
        "       simple_regret_approx_8[slice4],\n",
        "       simple_regret_approx_9[slice4],\n",
        "       simple_regret_approx_10[slice4],\n",
        "       simple_regret_approx_11[slice4],\n",
        "       simple_regret_approx_12[slice4],\n",
        "       simple_regret_approx_13[slice4],\n",
        "       simple_regret_approx_14[slice4],\n",
        "       simple_regret_approx_15[slice4],\n",
        "       simple_regret_approx_16[slice4],\n",
        "       simple_regret_approx_17[slice4],\n",
        "       simple_regret_approx_18[slice4],\n",
        "       simple_regret_approx_19[slice4],\n",
        "       simple_regret_approx_20[slice4]]\n",
        "\n",
        "exact4 = [simple_regret_exact_1[slice4],\n",
        "       simple_regret_exact_2[slice4],\n",
        "       simple_regret_exact_3[slice4],\n",
        "       simple_regret_exact_4[slice4],\n",
        "       simple_regret_exact_5[slice4],\n",
        "       simple_regret_exact_6[slice4],\n",
        "       simple_regret_exact_7[slice4],\n",
        "       simple_regret_exact_8[slice4],\n",
        "       simple_regret_exact_9[slice4],\n",
        "       simple_regret_exact_10[slice4],\n",
        "       simple_regret_exact_11[slice4],\n",
        "       simple_regret_exact_12[slice4],\n",
        "       simple_regret_exact_13[slice4],\n",
        "       simple_regret_exact_14[slice4],\n",
        "       simple_regret_exact_15[slice4],\n",
        "       simple_regret_exact_16[slice4],\n",
        "       simple_regret_exact_17[slice4],\n",
        "       simple_regret_exact_18[slice4],\n",
        "       simple_regret_exact_19[slice4],\n",
        "       simple_regret_exact_20[slice4]]\n",
        "\n",
        "approx4_results = pd.DataFrame(approx4).sort_values(by=[0], ascending=False)\n",
        "exact4_results = pd.DataFrame(exact4).sort_values(by=[0], ascending=False)\n",
        "\n",
        "### Best simple regret minimization IQR - approx:\n",
        "lower_approx4 = np.asarray(approx4_results[4:5][0])[0]\n",
        "median_approx4 = np.asarray(approx4_results[9:10][0])[0]\n",
        "upper_approx4 = np.asarray(approx4_results[14:15][0])[0]\n",
        "\n",
        "lower_exact4 = np.asarray(exact4_results[4:5][0])[0]\n",
        "median_exact4 = np.asarray(exact4_results[9:10][0])[0]\n",
        "upper_exact4 = np.asarray(exact4_results[14:15][0])[0]"
      ],
      "execution_count": 85,
      "outputs": []
    },
    {
      "cell_type": "code",
      "metadata": {
        "id": "EpaLyNtBJhBg"
      },
      "source": [
        "# Iteration14 :\n",
        "\n",
        "slice14 = 13\n",
        "\n",
        "approx14 = [simple_regret_approx_1[slice14],\n",
        "       simple_regret_approx_2[slice14],\n",
        "       simple_regret_approx_3[slice14],\n",
        "       simple_regret_approx_4[slice14],\n",
        "       simple_regret_approx_5[slice14],\n",
        "       simple_regret_approx_6[slice14],\n",
        "       simple_regret_approx_7[slice14],\n",
        "       simple_regret_approx_8[slice14],\n",
        "       simple_regret_approx_9[slice14],\n",
        "       simple_regret_approx_10[slice14],\n",
        "       simple_regret_approx_11[slice14],\n",
        "       simple_regret_approx_12[slice14],\n",
        "       simple_regret_approx_13[slice14],\n",
        "       simple_regret_approx_14[slice14],\n",
        "       simple_regret_approx_15[slice14],\n",
        "       simple_regret_approx_16[slice14],\n",
        "       simple_regret_approx_17[slice14],\n",
        "       simple_regret_approx_18[slice14],\n",
        "       simple_regret_approx_19[slice14],\n",
        "       simple_regret_approx_20[slice14]]\n",
        "\n",
        "exact14 = [simple_regret_exact_1[slice14],\n",
        "       simple_regret_exact_2[slice14],\n",
        "       simple_regret_exact_3[slice14],\n",
        "       simple_regret_exact_4[slice14],\n",
        "       simple_regret_exact_5[slice14],\n",
        "       simple_regret_exact_6[slice14],\n",
        "       simple_regret_exact_7[slice14],\n",
        "       simple_regret_exact_8[slice14],\n",
        "       simple_regret_exact_9[slice14],\n",
        "       simple_regret_exact_10[slice14],\n",
        "       simple_regret_exact_11[slice14],\n",
        "       simple_regret_exact_12[slice14],\n",
        "       simple_regret_exact_13[slice14],\n",
        "       simple_regret_exact_14[slice14],\n",
        "       simple_regret_exact_15[slice14],\n",
        "       simple_regret_exact_16[slice14],\n",
        "       simple_regret_exact_17[slice14],\n",
        "       simple_regret_exact_18[slice14],\n",
        "       simple_regret_exact_19[slice14],\n",
        "       simple_regret_exact_20[slice14]]\n",
        "\n",
        "approx14_results = pd.DataFrame(approx14).sort_values(by=[0], ascending=False)\n",
        "exact14_results = pd.DataFrame(exact14).sort_values(by=[0], ascending=False)\n",
        "\n",
        "### Best simple regret minimization IQR - approx:\n",
        "lower_approx14 = np.asarray(approx14_results[4:5][0])[0]\n",
        "median_approx14 = np.asarray(approx14_results[9:10][0])[0]\n",
        "upper_approx14 = np.asarray(approx14_results[14:15][0])[0]\n",
        "\n",
        "lower_exact14 = np.asarray(exact14_results[4:5][0])[0]\n",
        "median_exact14 = np.asarray(exact14_results[9:10][0])[0]\n",
        "upper_exact14 = np.asarray(exact14_results[14:15][0])[0]"
      ],
      "execution_count": 86,
      "outputs": []
    },
    {
      "cell_type": "code",
      "metadata": {
        "id": "R9whJAg4b6L6"
      },
      "source": [
        "# Iteration24 :\n",
        "\n",
        "slice24 = 23\n",
        "\n",
        "approx24 = [simple_regret_approx_1[slice24],\n",
        "       simple_regret_approx_2[slice24],\n",
        "       simple_regret_approx_3[slice24],\n",
        "       simple_regret_approx_4[slice24],\n",
        "       simple_regret_approx_5[slice24],\n",
        "       simple_regret_approx_6[slice24],\n",
        "       simple_regret_approx_7[slice24],\n",
        "       simple_regret_approx_8[slice24],\n",
        "       simple_regret_approx_9[slice24],\n",
        "       simple_regret_approx_10[slice24],\n",
        "       simple_regret_approx_11[slice24],\n",
        "       simple_regret_approx_12[slice24],\n",
        "       simple_regret_approx_13[slice24],\n",
        "       simple_regret_approx_14[slice24],\n",
        "       simple_regret_approx_15[slice24],\n",
        "       simple_regret_approx_16[slice24],\n",
        "       simple_regret_approx_17[slice24],\n",
        "       simple_regret_approx_18[slice24],\n",
        "       simple_regret_approx_19[slice24],\n",
        "       simple_regret_approx_20[slice24]]\n",
        "\n",
        "exact24 = [simple_regret_exact_1[slice24],\n",
        "       simple_regret_exact_2[slice24],\n",
        "       simple_regret_exact_3[slice24],\n",
        "       simple_regret_exact_4[slice24],\n",
        "       simple_regret_exact_5[slice24],\n",
        "       simple_regret_exact_6[slice24],\n",
        "       simple_regret_exact_7[slice24],\n",
        "       simple_regret_exact_8[slice24],\n",
        "       simple_regret_exact_9[slice24],\n",
        "       simple_regret_exact_10[slice24],\n",
        "       simple_regret_exact_11[slice24],\n",
        "       simple_regret_exact_12[slice24],\n",
        "       simple_regret_exact_13[slice24],\n",
        "       simple_regret_exact_14[slice24],\n",
        "       simple_regret_exact_15[slice24],\n",
        "       simple_regret_exact_16[slice24],\n",
        "       simple_regret_exact_17[slice24],\n",
        "       simple_regret_exact_18[slice24],\n",
        "       simple_regret_exact_19[slice24],\n",
        "       simple_regret_exact_20[slice24]]\n",
        "\n",
        "approx24_results = pd.DataFrame(approx24).sort_values(by=[0], ascending=False)\n",
        "exact24_results = pd.DataFrame(exact24).sort_values(by=[0], ascending=False)\n",
        "\n",
        "### Best simple regret minimization IQR - approx:\n",
        "lower_approx24 = np.asarray(approx24_results[4:5][0])[0]\n",
        "median_approx24 = np.asarray(approx24_results[9:10][0])[0]\n",
        "upper_approx24 = np.asarray(approx24_results[14:15][0])[0]\n",
        "\n",
        "lower_exact24 = np.asarray(exact24_results[4:5][0])[0]\n",
        "median_exact24 = np.asarray(exact24_results[9:10][0])[0]\n",
        "upper_exact24 = np.asarray(exact24_results[14:15][0])[0]"
      ],
      "execution_count": 87,
      "outputs": []
    },
    {
      "cell_type": "code",
      "metadata": {
        "id": "WkaNBGB9JhBg"
      },
      "source": [
        "# Iteration5 :\n",
        "\n",
        "slice5 = 4\n",
        "\n",
        "approx5 = [simple_regret_approx_1[slice5],\n",
        "       simple_regret_approx_2[slice5],\n",
        "       simple_regret_approx_3[slice5],\n",
        "       simple_regret_approx_4[slice5],\n",
        "       simple_regret_approx_5[slice5],\n",
        "       simple_regret_approx_6[slice5],\n",
        "       simple_regret_approx_7[slice5],\n",
        "       simple_regret_approx_8[slice5],\n",
        "       simple_regret_approx_9[slice5],\n",
        "       simple_regret_approx_10[slice5],\n",
        "       simple_regret_approx_11[slice5],\n",
        "       simple_regret_approx_12[slice5],\n",
        "       simple_regret_approx_13[slice5],\n",
        "       simple_regret_approx_14[slice5],\n",
        "       simple_regret_approx_15[slice5],\n",
        "       simple_regret_approx_16[slice5],\n",
        "       simple_regret_approx_17[slice5],\n",
        "       simple_regret_approx_18[slice5],\n",
        "       simple_regret_approx_19[slice5],\n",
        "       simple_regret_approx_20[slice5]]\n",
        "\n",
        "exact5 = [simple_regret_exact_1[slice5],\n",
        "       simple_regret_exact_2[slice5],\n",
        "       simple_regret_exact_3[slice5],\n",
        "       simple_regret_exact_4[slice5],\n",
        "       simple_regret_exact_5[slice5],\n",
        "       simple_regret_exact_6[slice5],\n",
        "       simple_regret_exact_7[slice5],\n",
        "       simple_regret_exact_8[slice5],\n",
        "       simple_regret_exact_9[slice5],\n",
        "       simple_regret_exact_10[slice5],\n",
        "       simple_regret_exact_11[slice5],\n",
        "       simple_regret_exact_12[slice5],\n",
        "       simple_regret_exact_13[slice5],\n",
        "       simple_regret_exact_14[slice5],\n",
        "       simple_regret_exact_15[slice5],\n",
        "       simple_regret_exact_16[slice5],\n",
        "       simple_regret_exact_17[slice5],\n",
        "       simple_regret_exact_18[slice5],\n",
        "       simple_regret_exact_19[slice5],\n",
        "       simple_regret_exact_20[slice5]]\n",
        "\n",
        "approx5_results = pd.DataFrame(approx5).sort_values(by=[0], ascending=False)\n",
        "exact5_results = pd.DataFrame(exact5).sort_values(by=[0], ascending=False)\n",
        "\n",
        "### Best simple regret minimization IQR - approx:\n",
        "lower_approx5 = np.asarray(approx5_results[4:5][0])[0]\n",
        "median_approx5 = np.asarray(approx5_results[9:10][0])[0]\n",
        "upper_approx5 = np.asarray(approx5_results[14:15][0])[0]\n",
        "\n",
        "lower_exact5 = np.asarray(exact5_results[4:5][0])[0]\n",
        "median_exact5 = np.asarray(exact5_results[9:10][0])[0]\n",
        "upper_exact5 = np.asarray(exact5_results[14:15][0])[0]"
      ],
      "execution_count": 88,
      "outputs": []
    },
    {
      "cell_type": "code",
      "metadata": {
        "id": "tb9ICEuOJhBh"
      },
      "source": [
        "# Iteration15 :\n",
        "\n",
        "slice15 = 14\n",
        "\n",
        "approx15 = [simple_regret_approx_1[slice15],\n",
        "       simple_regret_approx_2[slice15],\n",
        "       simple_regret_approx_3[slice15],\n",
        "       simple_regret_approx_4[slice15],\n",
        "       simple_regret_approx_5[slice15],\n",
        "       simple_regret_approx_6[slice15],\n",
        "       simple_regret_approx_7[slice15],\n",
        "       simple_regret_approx_8[slice15],\n",
        "       simple_regret_approx_9[slice15],\n",
        "       simple_regret_approx_10[slice15],\n",
        "       simple_regret_approx_11[slice15],\n",
        "       simple_regret_approx_12[slice15],\n",
        "       simple_regret_approx_13[slice15],\n",
        "       simple_regret_approx_14[slice15],\n",
        "       simple_regret_approx_15[slice15],\n",
        "       simple_regret_approx_16[slice15],\n",
        "       simple_regret_approx_17[slice15],\n",
        "       simple_regret_approx_18[slice15],\n",
        "       simple_regret_approx_19[slice15],\n",
        "       simple_regret_approx_20[slice15]]\n",
        "\n",
        "exact15 = [simple_regret_exact_1[slice15],\n",
        "       simple_regret_exact_2[slice15],\n",
        "       simple_regret_exact_3[slice15],\n",
        "       simple_regret_exact_4[slice15],\n",
        "       simple_regret_exact_5[slice15],\n",
        "       simple_regret_exact_6[slice15],\n",
        "       simple_regret_exact_7[slice15],\n",
        "       simple_regret_exact_8[slice15],\n",
        "       simple_regret_exact_9[slice15],\n",
        "       simple_regret_exact_10[slice15],\n",
        "       simple_regret_exact_11[slice15],\n",
        "       simple_regret_exact_12[slice15],\n",
        "       simple_regret_exact_13[slice15],\n",
        "       simple_regret_exact_14[slice15],\n",
        "       simple_regret_exact_15[slice15],\n",
        "       simple_regret_exact_16[slice15],\n",
        "       simple_regret_exact_17[slice15],\n",
        "       simple_regret_exact_18[slice15],\n",
        "       simple_regret_exact_19[slice15],\n",
        "       simple_regret_exact_20[slice15]]\n",
        "\n",
        "approx15_results = pd.DataFrame(approx15).sort_values(by=[0], ascending=False)\n",
        "exact15_results = pd.DataFrame(exact15).sort_values(by=[0], ascending=False)\n",
        "\n",
        "### Best simple regret minimization IQR - approx:\n",
        "lower_approx15 = np.asarray(approx15_results[4:5][0])[0]\n",
        "median_approx15 = np.asarray(approx15_results[9:10][0])[0]\n",
        "upper_approx15 = np.asarray(approx15_results[14:15][0])[0]\n",
        "\n",
        "lower_exact15 = np.asarray(exact15_results[4:5][0])[0]\n",
        "median_exact15 = np.asarray(exact15_results[9:10][0])[0]\n",
        "upper_exact15 = np.asarray(exact15_results[14:15][0])[0]"
      ],
      "execution_count": 89,
      "outputs": []
    },
    {
      "cell_type": "code",
      "metadata": {
        "id": "OiDV2XD6cYAt"
      },
      "source": [
        "# Iteration25 :\n",
        "\n",
        "slice25 = 24\n",
        "\n",
        "approx25 = [simple_regret_approx_1[slice25],\n",
        "       simple_regret_approx_2[slice25],\n",
        "       simple_regret_approx_3[slice25],\n",
        "       simple_regret_approx_4[slice25],\n",
        "       simple_regret_approx_5[slice25],\n",
        "       simple_regret_approx_6[slice25],\n",
        "       simple_regret_approx_7[slice25],\n",
        "       simple_regret_approx_8[slice25],\n",
        "       simple_regret_approx_9[slice25],\n",
        "       simple_regret_approx_10[slice25],\n",
        "       simple_regret_approx_11[slice25],\n",
        "       simple_regret_approx_12[slice25],\n",
        "       simple_regret_approx_13[slice25],\n",
        "       simple_regret_approx_14[slice25],\n",
        "       simple_regret_approx_15[slice25],\n",
        "       simple_regret_approx_16[slice25],\n",
        "       simple_regret_approx_17[slice25],\n",
        "       simple_regret_approx_18[slice25],\n",
        "       simple_regret_approx_19[slice25],\n",
        "       simple_regret_approx_20[slice25]]\n",
        "\n",
        "exact25 = [simple_regret_exact_1[slice25],\n",
        "       simple_regret_exact_2[slice25],\n",
        "       simple_regret_exact_3[slice25],\n",
        "       simple_regret_exact_4[slice25],\n",
        "       simple_regret_exact_5[slice25],\n",
        "       simple_regret_exact_6[slice25],\n",
        "       simple_regret_exact_7[slice25],\n",
        "       simple_regret_exact_8[slice25],\n",
        "       simple_regret_exact_9[slice25],\n",
        "       simple_regret_exact_10[slice25],\n",
        "       simple_regret_exact_11[slice25],\n",
        "       simple_regret_exact_12[slice25],\n",
        "       simple_regret_exact_13[slice25],\n",
        "       simple_regret_exact_14[slice25],\n",
        "       simple_regret_exact_15[slice25],\n",
        "       simple_regret_exact_16[slice25],\n",
        "       simple_regret_exact_17[slice25],\n",
        "       simple_regret_exact_18[slice25],\n",
        "       simple_regret_exact_19[slice25],\n",
        "       simple_regret_exact_20[slice25]]\n",
        "\n",
        "approx25_results = pd.DataFrame(approx25).sort_values(by=[0], ascending=False)\n",
        "exact25_results = pd.DataFrame(exact25).sort_values(by=[0], ascending=False)\n",
        "\n",
        "### Best simple regret minimization IQR - approx:\n",
        "lower_approx25 = np.asarray(approx25_results[4:5][0])[0]\n",
        "median_approx25 = np.asarray(approx25_results[9:10][0])[0]\n",
        "upper_approx25 = np.asarray(approx25_results[14:15][0])[0]\n",
        "\n",
        "lower_exact25 = np.asarray(exact25_results[4:5][0])[0]\n",
        "median_exact25 = np.asarray(exact25_results[9:10][0])[0]\n",
        "upper_exact25 = np.asarray(exact25_results[14:15][0])[0]"
      ],
      "execution_count": 90,
      "outputs": []
    },
    {
      "cell_type": "code",
      "metadata": {
        "id": "tcoCxQrvJhBi"
      },
      "source": [
        "# Iteration6 :\n",
        "\n",
        "slice6 = 5\n",
        "\n",
        "approx6 = [simple_regret_approx_1[slice6],\n",
        "       simple_regret_approx_2[slice6],\n",
        "       simple_regret_approx_3[slice6],\n",
        "       simple_regret_approx_4[slice6],\n",
        "       simple_regret_approx_5[slice6],\n",
        "       simple_regret_approx_6[slice6],\n",
        "       simple_regret_approx_7[slice6],\n",
        "       simple_regret_approx_8[slice6],\n",
        "       simple_regret_approx_9[slice6],\n",
        "       simple_regret_approx_10[slice6],\n",
        "       simple_regret_approx_11[slice6],\n",
        "       simple_regret_approx_12[slice6],\n",
        "       simple_regret_approx_13[slice6],\n",
        "       simple_regret_approx_14[slice6],\n",
        "       simple_regret_approx_15[slice6],\n",
        "       simple_regret_approx_16[slice6],\n",
        "       simple_regret_approx_17[slice6],\n",
        "       simple_regret_approx_18[slice6],\n",
        "       simple_regret_approx_19[slice6],\n",
        "       simple_regret_approx_20[slice6]]\n",
        "\n",
        "exact6 = [simple_regret_exact_1[slice6],\n",
        "       simple_regret_exact_2[slice6],\n",
        "       simple_regret_exact_3[slice6],\n",
        "       simple_regret_exact_4[slice6],\n",
        "       simple_regret_exact_5[slice6],\n",
        "       simple_regret_exact_6[slice6],\n",
        "       simple_regret_exact_7[slice6],\n",
        "       simple_regret_exact_8[slice6],\n",
        "       simple_regret_exact_9[slice6],\n",
        "       simple_regret_exact_10[slice6],\n",
        "       simple_regret_exact_11[slice6],\n",
        "       simple_regret_exact_12[slice6],\n",
        "       simple_regret_exact_13[slice6],\n",
        "       simple_regret_exact_14[slice6],\n",
        "       simple_regret_exact_15[slice6],\n",
        "       simple_regret_exact_16[slice6],\n",
        "       simple_regret_exact_17[slice6],\n",
        "       simple_regret_exact_18[slice6],\n",
        "       simple_regret_exact_19[slice6],\n",
        "       simple_regret_exact_20[slice6]]\n",
        "\n",
        "approx6_results = pd.DataFrame(approx6).sort_values(by=[0], ascending=False)\n",
        "exact6_results = pd.DataFrame(exact6).sort_values(by=[0], ascending=False)\n",
        "\n",
        "### Best simple regret minimization IQR - approx:\n",
        "lower_approx6 = np.asarray(approx6_results[4:5][0])[0]\n",
        "median_approx6 = np.asarray(approx6_results[9:10][0])[0]\n",
        "upper_approx6 = np.asarray(approx6_results[14:15][0])[0]\n",
        "\n",
        "lower_exact6 = np.asarray(exact6_results[4:5][0])[0]\n",
        "median_exact6 = np.asarray(exact6_results[9:10][0])[0]\n",
        "upper_exact6 = np.asarray(exact6_results[14:15][0])[0]"
      ],
      "execution_count": 91,
      "outputs": []
    },
    {
      "cell_type": "code",
      "metadata": {
        "id": "bM_uWU2HJhBi"
      },
      "source": [
        "# Iteration16 :\n",
        "\n",
        "slice16 = 15\n",
        "\n",
        "approx16 = [simple_regret_approx_1[slice16],\n",
        "       simple_regret_approx_2[slice16],\n",
        "       simple_regret_approx_3[slice16],\n",
        "       simple_regret_approx_4[slice16],\n",
        "       simple_regret_approx_5[slice16],\n",
        "       simple_regret_approx_6[slice16],\n",
        "       simple_regret_approx_7[slice16],\n",
        "       simple_regret_approx_8[slice16],\n",
        "       simple_regret_approx_9[slice16],\n",
        "       simple_regret_approx_10[slice16],\n",
        "       simple_regret_approx_11[slice16],\n",
        "       simple_regret_approx_12[slice16],\n",
        "       simple_regret_approx_13[slice16],\n",
        "       simple_regret_approx_14[slice16],\n",
        "       simple_regret_approx_15[slice16],\n",
        "       simple_regret_approx_16[slice16],\n",
        "       simple_regret_approx_17[slice16],\n",
        "       simple_regret_approx_18[slice16],\n",
        "       simple_regret_approx_19[slice16],\n",
        "       simple_regret_approx_20[slice16]]\n",
        "\n",
        "exact16 = [simple_regret_exact_1[slice16],\n",
        "       simple_regret_exact_2[slice16],\n",
        "       simple_regret_exact_3[slice16],\n",
        "       simple_regret_exact_4[slice16],\n",
        "       simple_regret_exact_5[slice16],\n",
        "       simple_regret_exact_6[slice16],\n",
        "       simple_regret_exact_7[slice16],\n",
        "       simple_regret_exact_8[slice16],\n",
        "       simple_regret_exact_9[slice16],\n",
        "       simple_regret_exact_10[slice16],\n",
        "       simple_regret_exact_11[slice16],\n",
        "       simple_regret_exact_12[slice16],\n",
        "       simple_regret_exact_13[slice16],\n",
        "       simple_regret_exact_14[slice16],\n",
        "       simple_regret_exact_15[slice16],\n",
        "       simple_regret_exact_16[slice16],\n",
        "       simple_regret_exact_17[slice16],\n",
        "       simple_regret_exact_18[slice16],\n",
        "       simple_regret_exact_19[slice16],\n",
        "       simple_regret_exact_20[slice16]]\n",
        "\n",
        "approx16_results = pd.DataFrame(approx16).sort_values(by=[0], ascending=False)\n",
        "exact16_results = pd.DataFrame(exact16).sort_values(by=[0], ascending=False)\n",
        "\n",
        "### Best simple regret minimization IQR - approx:\n",
        "lower_approx16 = np.asarray(approx16_results[4:5][0])[0]\n",
        "median_approx16 = np.asarray(approx16_results[9:10][0])[0]\n",
        "upper_approx16 = np.asarray(approx16_results[14:15][0])[0]\n",
        "\n",
        "lower_exact16 = np.asarray(exact16_results[4:5][0])[0]\n",
        "median_exact16 = np.asarray(exact16_results[9:10][0])[0]\n",
        "upper_exact16 = np.asarray(exact16_results[14:15][0])[0]"
      ],
      "execution_count": 92,
      "outputs": []
    },
    {
      "cell_type": "code",
      "metadata": {
        "id": "LJTTDX12cs-4"
      },
      "source": [
        "# Iteration26 :\n",
        "\n",
        "slice26 = 25\n",
        "\n",
        "approx26 = [simple_regret_approx_1[slice26],\n",
        "       simple_regret_approx_2[slice26],\n",
        "       simple_regret_approx_3[slice26],\n",
        "       simple_regret_approx_4[slice26],\n",
        "       simple_regret_approx_5[slice26],\n",
        "       simple_regret_approx_6[slice26],\n",
        "       simple_regret_approx_7[slice26],\n",
        "       simple_regret_approx_8[slice26],\n",
        "       simple_regret_approx_9[slice26],\n",
        "       simple_regret_approx_10[slice26],\n",
        "       simple_regret_approx_11[slice26],\n",
        "       simple_regret_approx_12[slice26],\n",
        "       simple_regret_approx_13[slice26],\n",
        "       simple_regret_approx_14[slice26],\n",
        "       simple_regret_approx_15[slice26],\n",
        "       simple_regret_approx_16[slice26],\n",
        "       simple_regret_approx_17[slice26],\n",
        "       simple_regret_approx_18[slice26],\n",
        "       simple_regret_approx_19[slice26],\n",
        "       simple_regret_approx_20[slice26]]\n",
        "\n",
        "exact26 = [simple_regret_exact_1[slice26],\n",
        "       simple_regret_exact_2[slice26],\n",
        "       simple_regret_exact_3[slice26],\n",
        "       simple_regret_exact_4[slice26],\n",
        "       simple_regret_exact_5[slice26],\n",
        "       simple_regret_exact_6[slice26],\n",
        "       simple_regret_exact_7[slice26],\n",
        "       simple_regret_exact_8[slice26],\n",
        "       simple_regret_exact_9[slice26],\n",
        "       simple_regret_exact_10[slice26],\n",
        "       simple_regret_exact_11[slice26],\n",
        "       simple_regret_exact_12[slice26],\n",
        "       simple_regret_exact_13[slice26],\n",
        "       simple_regret_exact_14[slice26],\n",
        "       simple_regret_exact_15[slice26],\n",
        "       simple_regret_exact_16[slice26],\n",
        "       simple_regret_exact_17[slice26],\n",
        "       simple_regret_exact_18[slice26],\n",
        "       simple_regret_exact_19[slice26],\n",
        "       simple_regret_exact_20[slice26]]\n",
        "\n",
        "approx26_results = pd.DataFrame(approx26).sort_values(by=[0], ascending=False)\n",
        "exact26_results = pd.DataFrame(exact26).sort_values(by=[0], ascending=False)\n",
        "\n",
        "### Best simple regret minimization IQR - approx:\n",
        "lower_approx26 = np.asarray(approx26_results[4:5][0])[0]\n",
        "median_approx26 = np.asarray(approx26_results[9:10][0])[0]\n",
        "upper_approx26 = np.asarray(approx26_results[14:15][0])[0]\n",
        "\n",
        "lower_exact26 = np.asarray(exact26_results[4:5][0])[0]\n",
        "median_exact26 = np.asarray(exact26_results[9:10][0])[0]\n",
        "upper_exact26 = np.asarray(exact26_results[14:15][0])[0]"
      ],
      "execution_count": 93,
      "outputs": []
    },
    {
      "cell_type": "code",
      "metadata": {
        "id": "e7_CnIe5JhBj"
      },
      "source": [
        "# Iteration7 :\n",
        "\n",
        "slice7 = 6\n",
        "\n",
        "approx7 = [simple_regret_approx_1[slice7],\n",
        "       simple_regret_approx_2[slice7],\n",
        "       simple_regret_approx_3[slice7],\n",
        "       simple_regret_approx_4[slice7],\n",
        "       simple_regret_approx_5[slice7],\n",
        "       simple_regret_approx_6[slice7],\n",
        "       simple_regret_approx_7[slice7],\n",
        "       simple_regret_approx_8[slice7],\n",
        "       simple_regret_approx_9[slice7],\n",
        "       simple_regret_approx_10[slice7],\n",
        "       simple_regret_approx_11[slice7],\n",
        "       simple_regret_approx_12[slice7],\n",
        "       simple_regret_approx_13[slice7],\n",
        "       simple_regret_approx_14[slice7],\n",
        "       simple_regret_approx_15[slice7],\n",
        "       simple_regret_approx_16[slice7],\n",
        "       simple_regret_approx_17[slice7],\n",
        "       simple_regret_approx_18[slice7],\n",
        "       simple_regret_approx_19[slice7],\n",
        "       simple_regret_approx_20[slice7]]\n",
        "\n",
        "exact7 = [simple_regret_exact_1[slice7],\n",
        "       simple_regret_exact_2[slice7],\n",
        "       simple_regret_exact_3[slice7],\n",
        "       simple_regret_exact_4[slice7],\n",
        "       simple_regret_exact_5[slice7],\n",
        "       simple_regret_exact_6[slice7],\n",
        "       simple_regret_exact_7[slice7],\n",
        "       simple_regret_exact_8[slice7],\n",
        "       simple_regret_exact_9[slice7],\n",
        "       simple_regret_exact_10[slice7],\n",
        "       simple_regret_exact_11[slice7],\n",
        "       simple_regret_exact_12[slice7],\n",
        "       simple_regret_exact_13[slice7],\n",
        "       simple_regret_exact_14[slice7],\n",
        "       simple_regret_exact_15[slice7],\n",
        "       simple_regret_exact_16[slice7],\n",
        "       simple_regret_exact_17[slice7],\n",
        "       simple_regret_exact_18[slice7],\n",
        "       simple_regret_exact_19[slice7],\n",
        "       simple_regret_exact_20[slice7]]\n",
        "\n",
        "approx7_results = pd.DataFrame(approx7).sort_values(by=[0], ascending=False)\n",
        "exact7_results = pd.DataFrame(exact7).sort_values(by=[0], ascending=False)\n",
        "\n",
        "### Best simple regret minimization IQR - approx:\n",
        "lower_approx7 = np.asarray(approx7_results[4:5][0])[0]\n",
        "median_approx7 = np.asarray(approx7_results[9:10][0])[0]\n",
        "upper_approx7 = np.asarray(approx7_results[14:15][0])[0]\n",
        "\n",
        "lower_exact7 = np.asarray(exact7_results[4:5][0])[0]\n",
        "median_exact7 = np.asarray(exact7_results[9:10][0])[0]\n",
        "upper_exact7 = np.asarray(exact7_results[14:15][0])[0]"
      ],
      "execution_count": 94,
      "outputs": []
    },
    {
      "cell_type": "code",
      "metadata": {
        "id": "GfheCfteJhBk"
      },
      "source": [
        "# Iteration17 :\n",
        "\n",
        "slice17 = 16\n",
        "\n",
        "approx17 = [simple_regret_approx_1[slice17],\n",
        "       simple_regret_approx_2[slice17],\n",
        "       simple_regret_approx_3[slice17],\n",
        "       simple_regret_approx_4[slice17],\n",
        "       simple_regret_approx_5[slice17],\n",
        "       simple_regret_approx_6[slice17],\n",
        "       simple_regret_approx_7[slice17],\n",
        "       simple_regret_approx_8[slice17],\n",
        "       simple_regret_approx_9[slice17],\n",
        "       simple_regret_approx_10[slice17],\n",
        "       simple_regret_approx_11[slice17],\n",
        "       simple_regret_approx_12[slice17],\n",
        "       simple_regret_approx_13[slice17],\n",
        "       simple_regret_approx_14[slice17],\n",
        "       simple_regret_approx_15[slice17],\n",
        "       simple_regret_approx_16[slice17],\n",
        "       simple_regret_approx_17[slice17],\n",
        "       simple_regret_approx_18[slice17],\n",
        "       simple_regret_approx_19[slice17],\n",
        "       simple_regret_approx_20[slice17]]\n",
        "\n",
        "exact17 = [simple_regret_exact_1[slice17],\n",
        "       simple_regret_exact_2[slice17],\n",
        "       simple_regret_exact_3[slice17],\n",
        "       simple_regret_exact_4[slice17],\n",
        "       simple_regret_exact_5[slice17],\n",
        "       simple_regret_exact_6[slice17],\n",
        "       simple_regret_exact_7[slice17],\n",
        "       simple_regret_exact_8[slice17],\n",
        "       simple_regret_exact_9[slice17],\n",
        "       simple_regret_exact_10[slice17],\n",
        "       simple_regret_exact_11[slice17],\n",
        "       simple_regret_exact_12[slice17],\n",
        "       simple_regret_exact_13[slice17],\n",
        "       simple_regret_exact_14[slice17],\n",
        "       simple_regret_exact_15[slice17],\n",
        "       simple_regret_exact_16[slice17],\n",
        "       simple_regret_exact_17[slice17],\n",
        "       simple_regret_exact_18[slice17],\n",
        "       simple_regret_exact_19[slice17],\n",
        "       simple_regret_exact_20[slice17]]\n",
        "\n",
        "approx17_results = pd.DataFrame(approx17).sort_values(by=[0], ascending=False)\n",
        "exact17_results = pd.DataFrame(exact17).sort_values(by=[0], ascending=False)\n",
        "\n",
        "### Best simple regret minimization IQR - approx:\n",
        "lower_approx17 = np.asarray(approx17_results[4:5][0])[0]\n",
        "median_approx17 = np.asarray(approx17_results[9:10][0])[0]\n",
        "upper_approx17 = np.asarray(approx17_results[14:15][0])[0]\n",
        "\n",
        "lower_exact17 = np.asarray(exact17_results[4:5][0])[0]\n",
        "median_exact17 = np.asarray(exact17_results[9:10][0])[0]\n",
        "upper_exact17 = np.asarray(exact17_results[14:15][0])[0]"
      ],
      "execution_count": 95,
      "outputs": []
    },
    {
      "cell_type": "code",
      "metadata": {
        "id": "qLNJO_U1dE_Q"
      },
      "source": [
        "# Iteration27 :\n",
        "\n",
        "slice27 = 26\n",
        "\n",
        "approx27 = [simple_regret_approx_1[slice27],\n",
        "       simple_regret_approx_2[slice27],\n",
        "       simple_regret_approx_3[slice27],\n",
        "       simple_regret_approx_4[slice27],\n",
        "       simple_regret_approx_5[slice27],\n",
        "       simple_regret_approx_6[slice27],\n",
        "       simple_regret_approx_7[slice27],\n",
        "       simple_regret_approx_8[slice27],\n",
        "       simple_regret_approx_9[slice27],\n",
        "       simple_regret_approx_10[slice27],\n",
        "       simple_regret_approx_11[slice27],\n",
        "       simple_regret_approx_12[slice27],\n",
        "       simple_regret_approx_13[slice27],\n",
        "       simple_regret_approx_14[slice27],\n",
        "       simple_regret_approx_15[slice27],\n",
        "       simple_regret_approx_16[slice27],\n",
        "       simple_regret_approx_17[slice27],\n",
        "       simple_regret_approx_18[slice27],\n",
        "       simple_regret_approx_19[slice27],\n",
        "       simple_regret_approx_20[slice27]]\n",
        "\n",
        "exact27 = [simple_regret_exact_1[slice27],\n",
        "       simple_regret_exact_2[slice27],\n",
        "       simple_regret_exact_3[slice27],\n",
        "       simple_regret_exact_4[slice27],\n",
        "       simple_regret_exact_5[slice27],\n",
        "       simple_regret_exact_6[slice27],\n",
        "       simple_regret_exact_7[slice27],\n",
        "       simple_regret_exact_8[slice27],\n",
        "       simple_regret_exact_9[slice27],\n",
        "       simple_regret_exact_10[slice27],\n",
        "       simple_regret_exact_11[slice27],\n",
        "       simple_regret_exact_12[slice27],\n",
        "       simple_regret_exact_13[slice27],\n",
        "       simple_regret_exact_14[slice27],\n",
        "       simple_regret_exact_15[slice27],\n",
        "       simple_regret_exact_16[slice27],\n",
        "       simple_regret_exact_17[slice27],\n",
        "       simple_regret_exact_18[slice27],\n",
        "       simple_regret_exact_19[slice27],\n",
        "       simple_regret_exact_20[slice27]]\n",
        "\n",
        "approx27_results = pd.DataFrame(approx27).sort_values(by=[0], ascending=False)\n",
        "exact27_results = pd.DataFrame(exact27).sort_values(by=[0], ascending=False)\n",
        "\n",
        "### Best simple regret minimization IQR - approx:\n",
        "lower_approx27 = np.asarray(approx27_results[4:5][0])[0]\n",
        "median_approx27 = np.asarray(approx27_results[9:10][0])[0]\n",
        "upper_approx27 = np.asarray(approx27_results[14:15][0])[0]\n",
        "\n",
        "lower_exact27 = np.asarray(exact27_results[4:5][0])[0]\n",
        "median_exact27 = np.asarray(exact27_results[9:10][0])[0]\n",
        "upper_exact27 = np.asarray(exact27_results[14:15][0])[0]"
      ],
      "execution_count": 96,
      "outputs": []
    },
    {
      "cell_type": "code",
      "metadata": {
        "id": "zOm21ADKJhBl"
      },
      "source": [
        "# Iteration8 :\n",
        "\n",
        "slice8 = 7\n",
        "\n",
        "approx8 = [simple_regret_approx_1[slice8],\n",
        "       simple_regret_approx_2[slice8],\n",
        "       simple_regret_approx_3[slice8],\n",
        "       simple_regret_approx_4[slice8],\n",
        "       simple_regret_approx_5[slice8],\n",
        "       simple_regret_approx_6[slice8],\n",
        "       simple_regret_approx_7[slice8],\n",
        "       simple_regret_approx_8[slice8],\n",
        "       simple_regret_approx_9[slice8],\n",
        "       simple_regret_approx_10[slice8],\n",
        "       simple_regret_approx_11[slice8],\n",
        "       simple_regret_approx_12[slice8],\n",
        "       simple_regret_approx_13[slice8],\n",
        "       simple_regret_approx_14[slice8],\n",
        "       simple_regret_approx_15[slice8],\n",
        "       simple_regret_approx_16[slice8],\n",
        "       simple_regret_approx_17[slice8],\n",
        "       simple_regret_approx_18[slice8],\n",
        "       simple_regret_approx_19[slice8],\n",
        "       simple_regret_approx_20[slice8]]\n",
        "\n",
        "exact8 = [simple_regret_exact_1[slice8],\n",
        "       simple_regret_exact_2[slice8],\n",
        "       simple_regret_exact_3[slice8],\n",
        "       simple_regret_exact_4[slice8],\n",
        "       simple_regret_exact_5[slice8],\n",
        "       simple_regret_exact_6[slice8],\n",
        "       simple_regret_exact_7[slice8],\n",
        "       simple_regret_exact_8[slice8],\n",
        "       simple_regret_exact_9[slice8],\n",
        "       simple_regret_exact_10[slice8],\n",
        "       simple_regret_exact_11[slice8],\n",
        "       simple_regret_exact_12[slice8],\n",
        "       simple_regret_exact_13[slice8],\n",
        "       simple_regret_exact_14[slice8],\n",
        "       simple_regret_exact_15[slice8],\n",
        "       simple_regret_exact_16[slice8],\n",
        "       simple_regret_exact_17[slice8],\n",
        "       simple_regret_exact_18[slice8],\n",
        "       simple_regret_exact_19[slice8],\n",
        "       simple_regret_exact_20[slice8]]\n",
        "\n",
        "approx8_results = pd.DataFrame(approx8).sort_values(by=[0], ascending=False)\n",
        "exact8_results = pd.DataFrame(exact8).sort_values(by=[0], ascending=False)\n",
        "\n",
        "### Best simple regret minimization IQR - approx:\n",
        "lower_approx8 = np.asarray(approx8_results[4:5][0])[0]\n",
        "median_approx8 = np.asarray(approx8_results[9:10][0])[0]\n",
        "upper_approx8 = np.asarray(approx8_results[14:15][0])[0]\n",
        "\n",
        "lower_exact8 = np.asarray(exact8_results[4:5][0])[0]\n",
        "median_exact8 = np.asarray(exact8_results[9:10][0])[0]\n",
        "upper_exact8 = np.asarray(exact8_results[14:15][0])[0]"
      ],
      "execution_count": 97,
      "outputs": []
    },
    {
      "cell_type": "code",
      "metadata": {
        "id": "230iMI5jJhBl"
      },
      "source": [
        "# Iteration18 :\n",
        "\n",
        "slice18 = 17\n",
        "\n",
        "approx18 = [simple_regret_approx_1[slice18],\n",
        "       simple_regret_approx_2[slice18],\n",
        "       simple_regret_approx_3[slice18],\n",
        "       simple_regret_approx_4[slice18],\n",
        "       simple_regret_approx_5[slice18],\n",
        "       simple_regret_approx_6[slice18],\n",
        "       simple_regret_approx_7[slice18],\n",
        "       simple_regret_approx_8[slice18],\n",
        "       simple_regret_approx_9[slice18],\n",
        "       simple_regret_approx_10[slice18],\n",
        "       simple_regret_approx_11[slice18],\n",
        "       simple_regret_approx_12[slice18],\n",
        "       simple_regret_approx_13[slice18],\n",
        "       simple_regret_approx_14[slice18],\n",
        "       simple_regret_approx_15[slice18],\n",
        "       simple_regret_approx_16[slice18],\n",
        "       simple_regret_approx_17[slice18],\n",
        "       simple_regret_approx_18[slice18],\n",
        "       simple_regret_approx_19[slice18],\n",
        "       simple_regret_approx_20[slice18]]\n",
        "\n",
        "exact18 = [simple_regret_exact_1[slice18],\n",
        "       simple_regret_exact_2[slice18],\n",
        "       simple_regret_exact_3[slice18],\n",
        "       simple_regret_exact_4[slice18],\n",
        "       simple_regret_exact_5[slice18],\n",
        "       simple_regret_exact_6[slice18],\n",
        "       simple_regret_exact_7[slice18],\n",
        "       simple_regret_exact_8[slice18],\n",
        "       simple_regret_exact_9[slice18],\n",
        "       simple_regret_exact_10[slice18],\n",
        "       simple_regret_exact_11[slice18],\n",
        "       simple_regret_exact_12[slice18],\n",
        "       simple_regret_exact_13[slice18],\n",
        "       simple_regret_exact_14[slice18],\n",
        "       simple_regret_exact_15[slice18],\n",
        "       simple_regret_exact_16[slice18],\n",
        "       simple_regret_exact_17[slice18],\n",
        "       simple_regret_exact_18[slice18],\n",
        "       simple_regret_exact_19[slice18],\n",
        "       simple_regret_exact_20[slice18]]\n",
        "\n",
        "approx18_results = pd.DataFrame(approx18).sort_values(by=[0], ascending=False)\n",
        "exact18_results = pd.DataFrame(exact18).sort_values(by=[0], ascending=False)\n",
        "\n",
        "### Best simple regret minimization IQR - approx:\n",
        "lower_approx18 = np.asarray(approx18_results[4:5][0])[0]\n",
        "median_approx18 = np.asarray(approx18_results[9:10][0])[0]\n",
        "upper_approx18 = np.asarray(approx18_results[14:15][0])[0]\n",
        "\n",
        "lower_exact18 = np.asarray(exact18_results[4:5][0])[0]\n",
        "median_exact18 = np.asarray(exact18_results[9:10][0])[0]\n",
        "upper_exact18 = np.asarray(exact18_results[14:15][0])[0]"
      ],
      "execution_count": 98,
      "outputs": []
    },
    {
      "cell_type": "code",
      "metadata": {
        "id": "5KUd4afKdgT6"
      },
      "source": [
        "# Iteration28 :\n",
        "\n",
        "slice28 = 27\n",
        "\n",
        "approx28 = [simple_regret_approx_1[slice28],\n",
        "       simple_regret_approx_2[slice28],\n",
        "       simple_regret_approx_3[slice28],\n",
        "       simple_regret_approx_4[slice28],\n",
        "       simple_regret_approx_5[slice28],\n",
        "       simple_regret_approx_6[slice28],\n",
        "       simple_regret_approx_7[slice28],\n",
        "       simple_regret_approx_8[slice28],\n",
        "       simple_regret_approx_9[slice28],\n",
        "       simple_regret_approx_10[slice28],\n",
        "       simple_regret_approx_11[slice28],\n",
        "       simple_regret_approx_12[slice28],\n",
        "       simple_regret_approx_13[slice28],\n",
        "       simple_regret_approx_14[slice28],\n",
        "       simple_regret_approx_15[slice28],\n",
        "       simple_regret_approx_16[slice28],\n",
        "       simple_regret_approx_17[slice28],\n",
        "       simple_regret_approx_18[slice28],\n",
        "       simple_regret_approx_19[slice28],\n",
        "       simple_regret_approx_20[slice28]]\n",
        "\n",
        "exact28 = [simple_regret_exact_1[slice28],\n",
        "       simple_regret_exact_2[slice28],\n",
        "       simple_regret_exact_3[slice28],\n",
        "       simple_regret_exact_4[slice28],\n",
        "       simple_regret_exact_5[slice28],\n",
        "       simple_regret_exact_6[slice28],\n",
        "       simple_regret_exact_7[slice28],\n",
        "       simple_regret_exact_8[slice28],\n",
        "       simple_regret_exact_9[slice28],\n",
        "       simple_regret_exact_10[slice28],\n",
        "       simple_regret_exact_11[slice28],\n",
        "       simple_regret_exact_12[slice28],\n",
        "       simple_regret_exact_13[slice28],\n",
        "       simple_regret_exact_14[slice28],\n",
        "       simple_regret_exact_15[slice28],\n",
        "       simple_regret_exact_16[slice28],\n",
        "       simple_regret_exact_17[slice28],\n",
        "       simple_regret_exact_18[slice28],\n",
        "       simple_regret_exact_19[slice28],\n",
        "       simple_regret_exact_20[slice28]]\n",
        "\n",
        "approx28_results = pd.DataFrame(approx28).sort_values(by=[0], ascending=False)\n",
        "exact28_results = pd.DataFrame(exact28).sort_values(by=[0], ascending=False)\n",
        "\n",
        "### Best simple regret minimization IQR - approx:\n",
        "lower_approx28 = np.asarray(approx28_results[4:5][0])[0]\n",
        "median_approx28 = np.asarray(approx28_results[9:10][0])[0]\n",
        "upper_approx28 = np.asarray(approx28_results[14:15][0])[0]\n",
        "\n",
        "lower_exact28 = np.asarray(exact28_results[4:5][0])[0]\n",
        "median_exact28 = np.asarray(exact28_results[9:10][0])[0]\n",
        "upper_exact28 = np.asarray(exact28_results[14:15][0])[0]"
      ],
      "execution_count": 99,
      "outputs": []
    },
    {
      "cell_type": "code",
      "metadata": {
        "id": "AR2mg161JhBm"
      },
      "source": [
        "# Iteration9 :\n",
        "\n",
        "slice9 = 8\n",
        "\n",
        "approx9 = [simple_regret_approx_1[slice9],\n",
        "       simple_regret_approx_2[slice9],\n",
        "       simple_regret_approx_3[slice9],\n",
        "       simple_regret_approx_4[slice9],\n",
        "       simple_regret_approx_5[slice9],\n",
        "       simple_regret_approx_6[slice9],\n",
        "       simple_regret_approx_7[slice9],\n",
        "       simple_regret_approx_8[slice9],\n",
        "       simple_regret_approx_9[slice9],\n",
        "       simple_regret_approx_10[slice9],\n",
        "       simple_regret_approx_11[slice9],\n",
        "       simple_regret_approx_12[slice9],\n",
        "       simple_regret_approx_13[slice9],\n",
        "       simple_regret_approx_14[slice9],\n",
        "       simple_regret_approx_15[slice9],\n",
        "       simple_regret_approx_16[slice9],\n",
        "       simple_regret_approx_17[slice9],\n",
        "       simple_regret_approx_18[slice9],\n",
        "       simple_regret_approx_19[slice9],\n",
        "       simple_regret_approx_20[slice9]]\n",
        "\n",
        "exact9 = [simple_regret_exact_1[slice9],\n",
        "       simple_regret_exact_2[slice9],\n",
        "       simple_regret_exact_3[slice9],\n",
        "       simple_regret_exact_4[slice9],\n",
        "       simple_regret_exact_5[slice9],\n",
        "       simple_regret_exact_6[slice9],\n",
        "       simple_regret_exact_7[slice9],\n",
        "       simple_regret_exact_8[slice9],\n",
        "       simple_regret_exact_9[slice9],\n",
        "       simple_regret_exact_10[slice9],\n",
        "       simple_regret_exact_11[slice9],\n",
        "       simple_regret_exact_12[slice9],\n",
        "       simple_regret_exact_13[slice9],\n",
        "       simple_regret_exact_14[slice9],\n",
        "       simple_regret_exact_15[slice9],\n",
        "       simple_regret_exact_16[slice9],\n",
        "       simple_regret_exact_17[slice9],\n",
        "       simple_regret_exact_18[slice9],\n",
        "       simple_regret_exact_19[slice9],\n",
        "       simple_regret_exact_20[slice9]]\n",
        "\n",
        "approx9_results = pd.DataFrame(approx9).sort_values(by=[0], ascending=False)\n",
        "exact9_results = pd.DataFrame(exact9).sort_values(by=[0], ascending=False)\n",
        "\n",
        "### Best simple regret minimization IQR - approx:\n",
        "lower_approx9 = np.asarray(approx9_results[4:5][0])[0]\n",
        "median_approx9 = np.asarray(approx9_results[9:10][0])[0]\n",
        "upper_approx9 = np.asarray(approx9_results[14:15][0])[0]\n",
        "\n",
        "lower_exact9 = np.asarray(exact9_results[4:5][0])[0]\n",
        "median_exact9 = np.asarray(exact9_results[9:10][0])[0]\n",
        "upper_exact9 = np.asarray(exact9_results[14:15][0])[0]"
      ],
      "execution_count": 100,
      "outputs": []
    },
    {
      "cell_type": "code",
      "metadata": {
        "id": "sAYcBTpTJhBp"
      },
      "source": [
        "# Iteration19 :\n",
        "\n",
        "slice19 = 18\n",
        "\n",
        "approx19 = [simple_regret_approx_1[slice19],\n",
        "       simple_regret_approx_2[slice19],\n",
        "       simple_regret_approx_3[slice19],\n",
        "       simple_regret_approx_4[slice19],\n",
        "       simple_regret_approx_5[slice19],\n",
        "       simple_regret_approx_6[slice19],\n",
        "       simple_regret_approx_7[slice19],\n",
        "       simple_regret_approx_8[slice19],\n",
        "       simple_regret_approx_9[slice19],\n",
        "       simple_regret_approx_10[slice19],\n",
        "       simple_regret_approx_11[slice19],\n",
        "       simple_regret_approx_12[slice19],\n",
        "       simple_regret_approx_13[slice19],\n",
        "       simple_regret_approx_14[slice19],\n",
        "       simple_regret_approx_15[slice19],\n",
        "       simple_regret_approx_16[slice19],\n",
        "       simple_regret_approx_17[slice19],\n",
        "       simple_regret_approx_18[slice19],\n",
        "       simple_regret_approx_19[slice19],\n",
        "       simple_regret_approx_20[slice19]]\n",
        "\n",
        "exact19 = [simple_regret_exact_1[slice19],\n",
        "       simple_regret_exact_2[slice19],\n",
        "       simple_regret_exact_3[slice19],\n",
        "       simple_regret_exact_4[slice19],\n",
        "       simple_regret_exact_5[slice19],\n",
        "       simple_regret_exact_6[slice19],\n",
        "       simple_regret_exact_7[slice19],\n",
        "       simple_regret_exact_8[slice19],\n",
        "       simple_regret_exact_9[slice19],\n",
        "       simple_regret_exact_10[slice19],\n",
        "       simple_regret_exact_11[slice19],\n",
        "       simple_regret_exact_12[slice19],\n",
        "       simple_regret_exact_13[slice19],\n",
        "       simple_regret_exact_14[slice19],\n",
        "       simple_regret_exact_15[slice19],\n",
        "       simple_regret_exact_16[slice19],\n",
        "       simple_regret_exact_17[slice19],\n",
        "       simple_regret_exact_18[slice19],\n",
        "       simple_regret_exact_19[slice19],\n",
        "       simple_regret_exact_20[slice19]]\n",
        "\n",
        "approx19_results = pd.DataFrame(approx19).sort_values(by=[0], ascending=False)\n",
        "exact19_results = pd.DataFrame(exact19).sort_values(by=[0], ascending=False)\n",
        "\n",
        "### Best simple regret minimization IQR - approx:\n",
        "lower_approx19 = np.asarray(approx19_results[4:5][0])[0]\n",
        "median_approx19 = np.asarray(approx19_results[9:10][0])[0]\n",
        "upper_approx19 = np.asarray(approx19_results[14:15][0])[0]\n",
        "\n",
        "lower_exact19 = np.asarray(exact19_results[4:5][0])[0]\n",
        "median_exact19 = np.asarray(exact19_results[9:10][0])[0]\n",
        "upper_exact19 = np.asarray(exact19_results[14:15][0])[0]"
      ],
      "execution_count": 101,
      "outputs": []
    },
    {
      "cell_type": "code",
      "metadata": {
        "id": "yyESs9KHd1vl"
      },
      "source": [
        "# Iteration29 :\n",
        "\n",
        "slice29 = 28\n",
        "\n",
        "approx29 = [simple_regret_approx_1[slice29],\n",
        "       simple_regret_approx_2[slice29],\n",
        "       simple_regret_approx_3[slice29],\n",
        "       simple_regret_approx_4[slice29],\n",
        "       simple_regret_approx_5[slice29],\n",
        "       simple_regret_approx_6[slice29],\n",
        "       simple_regret_approx_7[slice29],\n",
        "       simple_regret_approx_8[slice29],\n",
        "       simple_regret_approx_9[slice29],\n",
        "       simple_regret_approx_10[slice29],\n",
        "       simple_regret_approx_11[slice29],\n",
        "       simple_regret_approx_12[slice29],\n",
        "       simple_regret_approx_13[slice29],\n",
        "       simple_regret_approx_14[slice29],\n",
        "       simple_regret_approx_15[slice29],\n",
        "       simple_regret_approx_16[slice29],\n",
        "       simple_regret_approx_17[slice29],\n",
        "       simple_regret_approx_18[slice29],\n",
        "       simple_regret_approx_19[slice29],\n",
        "       simple_regret_approx_20[slice29]]\n",
        "\n",
        "exact29 = [simple_regret_exact_1[slice29],\n",
        "       simple_regret_exact_2[slice29],\n",
        "       simple_regret_exact_3[slice29],\n",
        "       simple_regret_exact_4[slice29],\n",
        "       simple_regret_exact_5[slice29],\n",
        "       simple_regret_exact_6[slice29],\n",
        "       simple_regret_exact_7[slice29],\n",
        "       simple_regret_exact_8[slice29],\n",
        "       simple_regret_exact_9[slice29],\n",
        "       simple_regret_exact_10[slice29],\n",
        "       simple_regret_exact_11[slice29],\n",
        "       simple_regret_exact_12[slice29],\n",
        "       simple_regret_exact_13[slice29],\n",
        "       simple_regret_exact_14[slice29],\n",
        "       simple_regret_exact_15[slice29],\n",
        "       simple_regret_exact_16[slice29],\n",
        "       simple_regret_exact_17[slice29],\n",
        "       simple_regret_exact_18[slice29],\n",
        "       simple_regret_exact_19[slice29],\n",
        "       simple_regret_exact_20[slice29]]\n",
        "\n",
        "approx29_results = pd.DataFrame(approx29).sort_values(by=[0], ascending=False)\n",
        "exact29_results = pd.DataFrame(exact29).sort_values(by=[0], ascending=False)\n",
        "\n",
        "### Best simple regret minimization IQR - approx:\n",
        "lower_approx29 = np.asarray(approx29_results[4:5][0])[0]\n",
        "median_approx29 = np.asarray(approx29_results[9:10][0])[0]\n",
        "upper_approx29 = np.asarray(approx29_results[14:15][0])[0]\n",
        "\n",
        "lower_exact29 = np.asarray(exact29_results[4:5][0])[0]\n",
        "median_exact29 = np.asarray(exact29_results[9:10][0])[0]\n",
        "upper_exact29 = np.asarray(exact29_results[14:15][0])[0]"
      ],
      "execution_count": 102,
      "outputs": []
    },
    {
      "cell_type": "code",
      "metadata": {
        "id": "WWSn_TIsJhBq"
      },
      "source": [
        "# Iteration10 :\n",
        "\n",
        "slice10 = 9\n",
        "\n",
        "approx10 = [simple_regret_approx_1[slice10],\n",
        "       simple_regret_approx_2[slice10],\n",
        "       simple_regret_approx_3[slice10],\n",
        "       simple_regret_approx_4[slice10],\n",
        "       simple_regret_approx_5[slice10],\n",
        "       simple_regret_approx_6[slice10],\n",
        "       simple_regret_approx_7[slice10],\n",
        "       simple_regret_approx_8[slice10],\n",
        "       simple_regret_approx_9[slice10],\n",
        "       simple_regret_approx_10[slice10],\n",
        "       simple_regret_approx_11[slice10],\n",
        "       simple_regret_approx_12[slice10],\n",
        "       simple_regret_approx_13[slice10],\n",
        "       simple_regret_approx_14[slice10],\n",
        "       simple_regret_approx_15[slice10],\n",
        "       simple_regret_approx_16[slice10],\n",
        "       simple_regret_approx_17[slice10],\n",
        "       simple_regret_approx_18[slice10],\n",
        "       simple_regret_approx_19[slice10],\n",
        "       simple_regret_approx_20[slice10]]\n",
        "\n",
        "exact10 = [simple_regret_exact_1[slice10],\n",
        "       simple_regret_exact_2[slice10],\n",
        "       simple_regret_exact_3[slice10],\n",
        "       simple_regret_exact_4[slice10],\n",
        "       simple_regret_exact_5[slice10],\n",
        "       simple_regret_exact_6[slice10],\n",
        "       simple_regret_exact_7[slice10],\n",
        "       simple_regret_exact_8[slice10],\n",
        "       simple_regret_exact_9[slice10],\n",
        "       simple_regret_exact_10[slice10],\n",
        "       simple_regret_exact_11[slice10],\n",
        "       simple_regret_exact_12[slice10],\n",
        "       simple_regret_exact_13[slice10],\n",
        "       simple_regret_exact_14[slice10],\n",
        "       simple_regret_exact_15[slice10],\n",
        "       simple_regret_exact_16[slice10],\n",
        "       simple_regret_exact_17[slice10],\n",
        "       simple_regret_exact_18[slice10],\n",
        "       simple_regret_exact_19[slice10],\n",
        "       simple_regret_exact_20[slice10]]\n",
        "\n",
        "approx10_results = pd.DataFrame(approx10).sort_values(by=[0], ascending=False)\n",
        "exact10_results = pd.DataFrame(exact10).sort_values(by=[0], ascending=False)\n",
        "\n",
        "### Best simple regret minimization IQR - approx:\n",
        "lower_approx10 = np.asarray(approx10_results[4:5][0])[0]\n",
        "median_approx10 = np.asarray(approx10_results[9:10][0])[0]\n",
        "upper_approx10 = np.asarray(approx10_results[14:15][0])[0]\n",
        "\n",
        "lower_exact10 = np.asarray(exact10_results[4:5][0])[0]\n",
        "median_exact10 = np.asarray(exact10_results[9:10][0])[0]\n",
        "upper_exact10 = np.asarray(exact10_results[14:15][0])[0]"
      ],
      "execution_count": 103,
      "outputs": []
    },
    {
      "cell_type": "code",
      "metadata": {
        "id": "sMLjJRd5JhBq"
      },
      "source": [
        "# Iteration20 :\n",
        "\n",
        "slice20 = 19\n",
        "\n",
        "approx20 = [simple_regret_approx_1[slice20],\n",
        "       simple_regret_approx_2[slice20],\n",
        "       simple_regret_approx_3[slice20],\n",
        "       simple_regret_approx_4[slice20],\n",
        "       simple_regret_approx_5[slice20],\n",
        "       simple_regret_approx_6[slice20],\n",
        "       simple_regret_approx_7[slice20],\n",
        "       simple_regret_approx_8[slice20],\n",
        "       simple_regret_approx_9[slice20],\n",
        "       simple_regret_approx_10[slice20],\n",
        "       simple_regret_approx_11[slice20],\n",
        "       simple_regret_approx_12[slice20],\n",
        "       simple_regret_approx_13[slice20],\n",
        "       simple_regret_approx_14[slice20],\n",
        "       simple_regret_approx_15[slice20],\n",
        "       simple_regret_approx_16[slice20],\n",
        "       simple_regret_approx_17[slice20],\n",
        "       simple_regret_approx_18[slice20],\n",
        "       simple_regret_approx_19[slice20],\n",
        "       simple_regret_approx_20[slice20]]\n",
        "\n",
        "exact20 = [simple_regret_exact_1[slice20],\n",
        "       simple_regret_exact_2[slice20],\n",
        "       simple_regret_exact_3[slice20],\n",
        "       simple_regret_exact_4[slice20],\n",
        "       simple_regret_exact_5[slice20],\n",
        "       simple_regret_exact_6[slice20],\n",
        "       simple_regret_exact_7[slice20],\n",
        "       simple_regret_exact_8[slice20],\n",
        "       simple_regret_exact_9[slice20],\n",
        "       simple_regret_exact_10[slice20],\n",
        "       simple_regret_exact_11[slice20],\n",
        "       simple_regret_exact_12[slice20],\n",
        "       simple_regret_exact_13[slice20],\n",
        "       simple_regret_exact_14[slice20],\n",
        "       simple_regret_exact_15[slice20],\n",
        "       simple_regret_exact_16[slice20],\n",
        "       simple_regret_exact_17[slice20],\n",
        "       simple_regret_exact_18[slice20],\n",
        "       simple_regret_exact_19[slice20],\n",
        "       simple_regret_exact_20[slice20]]\n",
        "\n",
        "approx20_results = pd.DataFrame(approx20).sort_values(by=[0], ascending=False)\n",
        "exact20_results = pd.DataFrame(exact20).sort_values(by=[0], ascending=False)\n",
        "\n",
        "### Best simple regret minimization IQR - approx:\n",
        "lower_approx20 = np.asarray(approx20_results[4:5][0])[0]\n",
        "median_approx20 = np.asarray(approx20_results[9:10][0])[0]\n",
        "upper_approx20 = np.asarray(approx20_results[14:15][0])[0]\n",
        "\n",
        "lower_exact20 = np.asarray(exact20_results[4:5][0])[0]\n",
        "median_exact20 = np.asarray(exact20_results[9:10][0])[0]\n",
        "upper_exact20 = np.asarray(exact20_results[14:15][0])[0]"
      ],
      "execution_count": 104,
      "outputs": []
    },
    {
      "cell_type": "code",
      "metadata": {
        "id": "M0j8Qyp-eKu_"
      },
      "source": [
        "# Iteration30 :\n",
        "\n",
        "slice30 = 29\n",
        "\n",
        "approx30 = [simple_regret_approx_1[slice30],\n",
        "       simple_regret_approx_2[slice30],\n",
        "       simple_regret_approx_3[slice30],\n",
        "       simple_regret_approx_4[slice30],\n",
        "       simple_regret_approx_5[slice30],\n",
        "       simple_regret_approx_6[slice30],\n",
        "       simple_regret_approx_7[slice30],\n",
        "       simple_regret_approx_8[slice30],\n",
        "       simple_regret_approx_9[slice30],\n",
        "       simple_regret_approx_10[slice30],\n",
        "       simple_regret_approx_11[slice30],\n",
        "       simple_regret_approx_12[slice30],\n",
        "       simple_regret_approx_13[slice30],\n",
        "       simple_regret_approx_14[slice30],\n",
        "       simple_regret_approx_15[slice30],\n",
        "       simple_regret_approx_16[slice30],\n",
        "       simple_regret_approx_17[slice30],\n",
        "       simple_regret_approx_18[slice30],\n",
        "       simple_regret_approx_19[slice30],\n",
        "       simple_regret_approx_20[slice30]]\n",
        "\n",
        "exact30 = [simple_regret_exact_1[slice30],\n",
        "       simple_regret_exact_2[slice30],\n",
        "       simple_regret_exact_3[slice30],\n",
        "       simple_regret_exact_4[slice30],\n",
        "       simple_regret_exact_5[slice30],\n",
        "       simple_regret_exact_6[slice30],\n",
        "       simple_regret_exact_7[slice30],\n",
        "       simple_regret_exact_8[slice30],\n",
        "       simple_regret_exact_9[slice30],\n",
        "       simple_regret_exact_10[slice30],\n",
        "       simple_regret_exact_11[slice30],\n",
        "       simple_regret_exact_12[slice30],\n",
        "       simple_regret_exact_13[slice30],\n",
        "       simple_regret_exact_14[slice30],\n",
        "       simple_regret_exact_15[slice30],\n",
        "       simple_regret_exact_16[slice30],\n",
        "       simple_regret_exact_17[slice30],\n",
        "       simple_regret_exact_18[slice30],\n",
        "       simple_regret_exact_19[slice30],\n",
        "       simple_regret_exact_20[slice30]]\n",
        "\n",
        "approx30_results = pd.DataFrame(approx30).sort_values(by=[0], ascending=False)\n",
        "exact30_results = pd.DataFrame(exact30).sort_values(by=[0], ascending=False)\n",
        "\n",
        "### Best simple regret minimization IQR - approx:\n",
        "lower_approx30 = np.asarray(approx30_results[4:5][0])[0]\n",
        "median_approx30 = np.asarray(approx30_results[9:10][0])[0]\n",
        "upper_approx30 = np.asarray(approx30_results[14:15][0])[0]\n",
        "\n",
        "lower_exact30 = np.asarray(exact30_results[4:5][0])[0]\n",
        "median_exact30 = np.asarray(exact30_results[9:10][0])[0]\n",
        "upper_exact30 = np.asarray(exact30_results[14:15][0])[0]"
      ],
      "execution_count": 105,
      "outputs": []
    },
    {
      "cell_type": "code",
      "metadata": {
        "id": "N-MMOUFcJhBr"
      },
      "source": [
        "### Summarize arrays: 'Loser'\n",
        "\n",
        "lower_approx = [lower_approx1,\n",
        "            lower_approx2,\n",
        "            lower_approx3,\n",
        "            lower_approx4,\n",
        "            lower_approx5,\n",
        "            lower_approx6,\n",
        "            lower_approx7,\n",
        "            lower_approx8,\n",
        "            lower_approx9,\n",
        "            lower_approx10,\n",
        "            lower_approx11,\n",
        "            lower_approx12,\n",
        "            lower_approx13,\n",
        "            lower_approx14,\n",
        "            lower_approx15,\n",
        "            lower_approx16,\n",
        "            lower_approx17,\n",
        "            lower_approx18,\n",
        "            lower_approx19,\n",
        "            lower_approx20,\n",
        "            lower_approx21,\n",
        "            lower_approx22,\n",
        "            lower_approx23,\n",
        "            lower_approx24,\n",
        "            lower_approx25,\n",
        "            lower_approx26,\n",
        "            lower_approx27,\n",
        "            lower_approx28,\n",
        "            lower_approx29,\n",
        "            lower_approx30,\n",
        "            lower_approx31]\n",
        "\n",
        "median_approx = [median_approx1,\n",
        "            median_approx2,\n",
        "            median_approx3,\n",
        "            median_approx4,\n",
        "            median_approx5,\n",
        "            median_approx6,\n",
        "            median_approx7,\n",
        "            median_approx8,\n",
        "            median_approx9,\n",
        "            median_approx10,\n",
        "            median_approx11,\n",
        "            median_approx12,\n",
        "            median_approx13,\n",
        "            median_approx14,\n",
        "            median_approx15,\n",
        "            median_approx16,\n",
        "            median_approx17,\n",
        "            median_approx18,\n",
        "            median_approx19,\n",
        "            median_approx20,\n",
        "            median_approx21,\n",
        "            median_approx22,\n",
        "            median_approx23,\n",
        "            median_approx24,\n",
        "            median_approx25,\n",
        "            median_approx26,\n",
        "            median_approx27,\n",
        "            median_approx28,\n",
        "            median_approx29,\n",
        "            median_approx30,\n",
        "            median_approx31]\n",
        "\n",
        "upper_approx = [upper_approx1,\n",
        "            upper_approx2,\n",
        "            upper_approx3,\n",
        "            upper_approx4,\n",
        "            upper_approx5,\n",
        "            upper_approx6,\n",
        "            upper_approx7,\n",
        "            upper_approx8,\n",
        "            upper_approx9,\n",
        "            upper_approx10,\n",
        "            upper_approx11,\n",
        "            upper_approx12,\n",
        "            upper_approx13,\n",
        "            upper_approx14,\n",
        "            upper_approx15,\n",
        "            upper_approx16,\n",
        "            upper_approx17,\n",
        "            upper_approx18,\n",
        "            upper_approx19,\n",
        "            upper_approx20,\n",
        "            upper_approx21,\n",
        "            upper_approx22,\n",
        "            upper_approx23,\n",
        "            upper_approx24,\n",
        "            upper_approx25,\n",
        "            upper_approx26,\n",
        "            upper_approx27,\n",
        "            upper_approx28,\n",
        "            upper_approx29,\n",
        "            upper_approx30,\n",
        "            upper_approx31]"
      ],
      "execution_count": 106,
      "outputs": []
    },
    {
      "cell_type": "code",
      "metadata": {
        "id": "XdKURkqUJhBs"
      },
      "source": [
        "### Summarize arrays: 'exact'\n",
        "\n",
        "lower_exact = [lower_exact1,\n",
        "            lower_exact2,\n",
        "            lower_exact3,\n",
        "            lower_exact4,\n",
        "            lower_exact5,\n",
        "            lower_exact6,\n",
        "            lower_exact7,\n",
        "            lower_exact8,\n",
        "            lower_exact9,\n",
        "            lower_exact10,\n",
        "            lower_exact11,\n",
        "            lower_exact12,\n",
        "            lower_exact13,\n",
        "            lower_exact14,\n",
        "            lower_exact15,\n",
        "            lower_exact16,\n",
        "            lower_exact17,\n",
        "            lower_exact18,\n",
        "            lower_exact19,\n",
        "            lower_exact20,\n",
        "            lower_exact21,\n",
        "            lower_exact22,\n",
        "            lower_exact23,\n",
        "            lower_exact24,\n",
        "            lower_exact25,\n",
        "            lower_exact26,\n",
        "            lower_exact27,\n",
        "            lower_exact28,\n",
        "            lower_exact29,\n",
        "            lower_exact30,\n",
        "            lower_exact31]\n",
        "\n",
        "median_exact = [median_exact1,\n",
        "            median_exact2,\n",
        "            median_exact3,\n",
        "            median_exact4,\n",
        "            median_exact5,\n",
        "            median_exact6,\n",
        "            median_exact7,\n",
        "            median_exact8,\n",
        "            median_exact9,\n",
        "            median_exact10,\n",
        "            median_exact11,\n",
        "            median_exact12,\n",
        "            median_exact13,\n",
        "            median_exact14,\n",
        "            median_exact15,\n",
        "            median_exact16,\n",
        "            median_exact17,\n",
        "            median_exact18,\n",
        "            median_exact19,\n",
        "            median_exact20,\n",
        "            median_exact21,\n",
        "            median_exact22,\n",
        "            median_exact23,\n",
        "            median_exact24,\n",
        "            median_exact25,\n",
        "            median_exact26,\n",
        "            median_exact27,\n",
        "            median_exact28,\n",
        "            median_exact29,\n",
        "            median_exact30,\n",
        "            median_exact31]\n",
        "\n",
        "upper_exact = [upper_exact1,\n",
        "            upper_exact2,\n",
        "            upper_exact3,\n",
        "            upper_exact4,\n",
        "            upper_exact5,\n",
        "            upper_exact6,\n",
        "            upper_exact7,\n",
        "            upper_exact8,\n",
        "            upper_exact9,\n",
        "            upper_exact10,\n",
        "            upper_exact11,\n",
        "            upper_exact12,\n",
        "            upper_exact13,\n",
        "            upper_exact14,\n",
        "            upper_exact15,\n",
        "            upper_exact16,\n",
        "            upper_exact17,\n",
        "            upper_exact18,\n",
        "            upper_exact19,\n",
        "            upper_exact20,\n",
        "            upper_exact21,\n",
        "            upper_exact22,\n",
        "            upper_exact23,\n",
        "            upper_exact24,\n",
        "            upper_exact25,\n",
        "            upper_exact26,\n",
        "            upper_exact27,\n",
        "            upper_exact28,\n",
        "            upper_exact29,\n",
        "            upper_exact30,\n",
        "            upper_exact31]"
      ],
      "execution_count": 107,
      "outputs": []
    },
    {
      "cell_type": "code",
      "metadata": {
        "colab": {
          "base_uri": "https://localhost:8080/",
          "height": 299
        },
        "id": "OQ_7LazBYVn0",
        "outputId": "d703417e-9c3b-4e41-a1b0-9d45cfc85952"
      },
      "source": [
        "### Visualise!\n",
        "\n",
        "title = func\n",
        "plt.figure()\n",
        "\n",
        "plt.plot(median_approx, color = 'Green')\n",
        "plt.plot(median_exact, color = 'Blue')\n",
        "\n",
        "xstar = np.arange(0, iters+1, step=1)\n",
        "plt.fill_between(xstar, lower_approx, upper_approx, facecolor = 'Green', alpha=0.4, label='GP ERM Optimization: Approx GP ERM gradients')\n",
        "plt.fill_between(xstar, lower_exact, upper_exact, facecolor = 'Blue', alpha=0.4, label='GP ERM Optimization: Exact GP dERM gradients')\n",
        "\n",
        "plt.title(title, weight = 'bold')\n",
        "plt.xlabel('(Post-initialization) iteration $\\it{k}$', weight = 'bold')\n",
        "plt.ylabel('log(Regret)', weight = 'bold') \n",
        "plt.legend(loc=1) # add plot legend\n",
        "\n",
        "### Make the x-ticks integers, not floats:\n",
        "count = len(xstar)\n",
        "plt.xticks(np.arange(0, count, 5))\n",
        "plt.show() #visualise!"
      ],
      "execution_count": 108,
      "outputs": [
        {
          "output_type": "display_data",
          "data": {
            "image/png": "[encoded data removed]",
            "text/plain": [
              "<Figure size 432x288 with 1 Axes>"
            ]
          },
          "metadata": {
            "needs_background": "light"
          }
        }
      ]
    },
    {
      "cell_type": "code",
      "metadata": {
        "colab": {
          "base_uri": "https://localhost:8080/"
        },
        "id": "dShUk8k1YVn0",
        "outputId": "6344eccc-8274-48a2-f65b-6102d3c2091d"
      },
      "source": [
        "time_approx, time_exact\n"
      ],
      "execution_count": 109,
      "outputs": [
        {
          "output_type": "execute_result",
          "data": {
            "text/plain": [
              "(401.2494738101959, 724.4230852127075)"
            ]
          },
          "metadata": {},
          "execution_count": 109
        }
      ]
    },
    {
      "cell_type": "code",
      "source": [
        "exact31_results, exact31_results[19:20].index[0]\n"
      ],
      "metadata": {
        "colab": {
          "base_uri": "https://localhost:8080/"
        },
        "id": "0i4IbAcyB7-l",
        "outputId": "88948efe-f371-41d4-f50f-85e874a967bb"
      },
      "execution_count": 110,
      "outputs": [
        {
          "output_type": "execute_result",
          "data": {
            "text/plain": [
              "(           0\n",
              " 3   6.743338\n",
              " 6   6.226351\n",
              " 11  6.094141\n",
              " 7   5.924077\n",
              " 5   5.865961\n",
              " 14  5.644947\n",
              " 15  5.635143\n",
              " 19  5.271453\n",
              " 1   5.169291\n",
              " 2   4.959332\n",
              " 0   4.853881\n",
              " 17  4.823113\n",
              " 8   4.462879\n",
              " 10  4.461849\n",
              " 16  4.260814\n",
              " 13  4.130393\n",
              " 12  3.904100\n",
              " 18  3.447552\n",
              " 9   1.697266\n",
              " 4  -0.040749, 4)"
            ]
          },
          "metadata": {},
          "execution_count": 110
        }
      ]
    },
    {
      "cell_type": "code",
      "source": [
        "str_exact = str(exact31_results[19:20].index[0]+1)\n",
        "str_exact"
      ],
      "metadata": {
        "colab": {
          "base_uri": "https://localhost:8080/",
          "height": 35
        },
        "id": "12lIvjCoBr7y",
        "outputId": "322c5e91-43e6-417e-88f9-42118b0a7795"
      },
      "execution_count": 111,
      "outputs": [
        {
          "output_type": "execute_result",
          "data": {
            "application/vnd.google.colaboratory.intrinsic+json": {
              "type": "string"
            },
            "text/plain": [
              "'5'"
            ]
          },
          "metadata": {},
          "execution_count": 111
        }
      ]
    },
    {
      "cell_type": "code",
      "source": [
        "eval_exactMinIQR_vsCorrApproxExperiment = eval('approx_' + str_exact)\n",
        "eval_exactMinIQR_vsCorrApproxExperiment_minAcqFunc = eval_exactMinIQR_vsCorrApproxExperiment.history[eval_exactMinIQR_vsCorrApproxExperiment.history.index(eval_exactMinIQR_vsCorrApproxExperiment.tau)-1]\n",
        "eval_exactMinIQR_vsCorrApproxExperiment_simpleRegret = np.log(-eval_exactMinIQR_vsCorrApproxExperiment.tau + y_global_orig)\n",
        "\n",
        "eval_exactMinIQR_vsCorrApproxExperiment.tau, eval_exactMinIQR_vsCorrApproxExperiment_minAcqFunc, eval_exactMinIQR_vsCorrApproxExperiment_simpleRegret\n"
      ],
      "metadata": {
        "colab": {
          "base_uri": "https://localhost:8080/"
        },
        "id": "O3sQFv0hpuNI",
        "outputId": "2c9abc41-17c2-4ff7-8aa4-9e226085b1fc"
      },
      "execution_count": 112,
      "outputs": [
        {
          "output_type": "execute_result",
          "data": {
            "text/plain": [
              "(-504.37713268919686, -504.37713268919686, 6.223324267395342)"
            ]
          },
          "metadata": {},
          "execution_count": 112
        }
      ]
    },
    {
      "cell_type": "code",
      "source": [
        "### Final iteration: best \"approx\" experiment results (as above)\n",
        "\n",
        "np.random.seed(int(str_exact))\n",
        "eval_exactMinIQR_vsCorrApproxExperiment.run(init_evals=n_init, max_iter=iters)\n"
      ],
      "metadata": {
        "id": "DKvmmlRoTnvC",
        "colab": {
          "base_uri": "https://localhost:8080/"
        },
        "outputId": "a39fe8e6-4783-499a-aac1-814334cca708"
      },
      "execution_count": 113,
      "outputs": [
        {
          "output_type": "stream",
          "name": "stdout",
          "text": [
            "Evaluation \t Proposed point \t  Current eval. \t  Best eval. \t         Max AcqFunc.\n",
            "init\t [-5.56013658  7.41464612 -5.86561689]\t -38038.55423396639\t -504.37713268919686\t    \n",
            "init\t [ 8.37221816 -0.23177622  2.23487726]\t -504.37713268919686\t -504.37713268919686\t    \n",
            "init\t [ 5.31815713  0.36835976 -4.06398997]\t -3270.33229475548\t -504.37713268919686\t    \n",
            "init\t [-6.24557543 -8.38517462  4.76880592]\t -51898.195262717614\t -504.37713268919686\t    \n",
            "init\t [-1.17381554 -6.83380265  7.59874062]\t -62777.04813872957\t -504.37713268919686\t    \n",
            "1  \t [ 7.40966174  8.45499228 -9.95571575]\t -144842.91560178908\t -504.37713268919686\t -0.7978846605384292\n",
            "2  \t [-7.31272544 -3.96227805 -7.27039812]\t -39155.2230850924\t -504.37713268919686\t -0.7978846605384292\n",
            "3  \t [-9.80583383  0.98926919  4.15052451]\t -3753.1148757271385\t -504.37713268919686\t -0.7978846605384292\n",
            "4  \t [ 3.14692525  9.50918422 -2.23413701]\t -63161.457005708806\t -504.37713268919686\t -0.7978846605384292\n",
            "5  \t [ 4.56139684 -4.673529    0.23379905]\t -3142.4271112122515\t -504.37713268919686\t -0.7978846605384292\n",
            "6  \t [7.66353164 8.73934279 5.42915838]\t -49709.64902528966\t -504.37713268919686\t -0.7978846605384292\n",
            "7  \t [ 7.14573235 -6.46930749  7.38248289]\t -51761.01237664357\t -504.37713268919686\t -0.7978846605384292\n",
            "8  \t [-2.32385405  3.3987878   2.45410745]\t -1528.4362462952065\t -504.37713268919686\t -0.7978846605384292\n",
            "9  \t [-0.11353557 -1.87903279 -7.88095659]\t -47806.30963214635\t -504.37713268919686\t -0.7978846605384292\n",
            "10 \t [-0.96496228  6.39545847  9.46542277]\t -103277.4502143539\t -504.37713268919686\t -0.7978846605351887\n",
            "11 \t [-3.43604888 -8.87561309 -2.02491137]\t -52729.42036692042\t -504.37713268919686\t -0.7978846605383784\n",
            "12 \t [ 9.38510194 -6.58180326 -3.86862124]\t -16006.905792077023\t -504.37713268919686\t -0.7978846601661992\n",
            "13 \t [4.69163276 1.05891213 9.70550749]\t -105308.64963435415\t -504.37713268919686\t -0.7978846605384291\n",
            "14 \t [-5.6590792   8.80560087  3.5292    ]\t -52494.75870075747\t -504.37713268919686\t -0.79788466051604\n",
            "15 \t [-10.          -5.03756254   9.28318582]\t -101907.56144407314\t -504.37713268919686\t -0.797883590208769\n",
            "16 \t [ 6.64680174 -8.5539051  -9.97390905]\t -168242.70283100984\t -504.37713268919686\t -0.7978846605384278\n",
            "17 \t [-9.35801008  7.98220289  3.79498813]\t -38830.44934073891\t -504.37713268919686\t -0.7978846605384292\n",
            "18 \t [-5.16616159 -0.14373238 10.        ]\t -120264.79806510436\t -504.37713268919686\t -0.7978836109540359\n",
            "19 \t [-3.48410009 -3.68542923 -6.33751434]\t -23073.672070863027\t -504.37713268919686\t -0.7978846605384292\n",
            "20 \t [-9.95161825 -6.74319938 -1.01620669]\t -20711.542485181704\t -504.37713268919686\t -0.7978846605384292\n",
            "21 \t [-10.           1.60787126 -10.        ]\t -118659.59837653511\t -504.37713268919686\t -0.7978834928555706\n",
            "22 \t [-2.62050417 -3.18154751  1.80101831]\t -1339.1856875879405\t -504.37713268919686\t -0.7978833277772188\n",
            "23 \t [-9.80398081  3.13118039 -1.8766583 ]\t -1892.8468702524094\t -504.37713268919686\t -0.7978833869010209\n",
            "24 \t [ 9.29252151  5.71836668 -0.49713313]\t -6446.610525476736\t -504.37713268919686\t -0.7978837901892621\n",
            "25 \t [ 1.37677834  5.03316728 -9.70427403]\t -105669.54681134722\t -504.37713268919686\t -0.7978833720338807\n",
            "26 \t [  6.41104178  -1.49399032 -10.        ]\t -121836.34561058033\t -504.37713268919686\t -0.797881603378428\n",
            "27 \t [-1.58486585 -9.90630482 -8.56907256]\t -152024.73012348567\t -504.37713268919686\t -0.7978836486655467\n",
            "28 \t [ 3.61920035 -9.83112675 -3.70794239]\t -76146.3880148918\t -504.37713268919686\t -0.7978821214447337\n",
            "29 \t [  2.78169332 -10.           3.07932953]\t -80310.12926414197\t -504.37713268919686\t -0.7978796939119082\n",
            "30 \t [-10.         -10.          -7.22831837]\t -127649.80785378927\t -504.37713268919686\t -0.797881344946603\n"
          ]
        }
      ]
    },
    {
      "cell_type": "code",
      "source": [
        "eval_exactMinIQR = eval('exact_' + str_exact)\n",
        "eval_exactMinIQR_minAcqFunc = eval_exactMinIQR.history[eval_exactMinIQR.history.index(eval_exactMinIQR.tau)-1]\n",
        "eval_exactMinIQR_simpleRegret  = np.log(-eval_exactMinIQR.tau + y_global_orig)\n",
        "\n",
        "eval_exactMinIQR.tau, eval_exactMinIQR_minAcqFunc, eval_exactMinIQR_simpleRegret\n"
      ],
      "metadata": {
        "colab": {
          "base_uri": "https://localhost:8080/"
        },
        "id": "M4bxQTTWCXFZ",
        "outputId": "f2a8714a-9d4c-441c-e168-a33c284d64e9"
      },
      "execution_count": 114,
      "outputs": [
        {
          "output_type": "execute_result",
          "data": {
            "text/plain": [
              "(-0.9600704398831894, -0.7978845605872064, -0.04074862233373754)"
            ]
          },
          "metadata": {},
          "execution_count": 114
        }
      ]
    },
    {
      "cell_type": "code",
      "source": [
        "### Final iteration: best \"exact\" experiment results (as above)\n",
        "\n",
        "np.random.seed(int(str_exact))\n",
        "eval_exactMinIQR.run(init_evals=n_init, max_iter=iters)\n"
      ],
      "metadata": {
        "colab": {
          "base_uri": "https://localhost:8080/"
        },
        "id": "WeKb1o143nLW",
        "outputId": "a5140009-5a20-4733-e96e-cd6328a0af21"
      },
      "execution_count": 115,
      "outputs": [
        {
          "output_type": "stream",
          "name": "stdout",
          "text": [
            "Evaluation \t Proposed point \t  Current eval. \t  Best eval. \t         Max AcqFunc.\n",
            "init\t [-5.56013658  7.41464612 -5.86561689]\t -38038.55423396639\t -504.37713268919686\t    \n",
            "init\t [ 8.37221816 -0.23177622  2.23487726]\t -504.37713268919686\t -504.37713268919686\t    \n",
            "init\t [ 5.31815713  0.36835976 -4.06398997]\t -3270.33229475548\t -504.37713268919686\t    \n",
            "init\t [-6.24557543 -8.38517462  4.76880592]\t -51898.195262717614\t -504.37713268919686\t    \n",
            "init\t [-1.17381554 -6.83380265  7.59874062]\t -62777.04813872957\t -504.37713268919686\t    \n",
            "1  \t [-9.96715655  0.30945224  2.79590352]\t -1031.2153586592976\t -504.37713268919686\t -0.7978845607896438\n",
            "2  \t [-7.31272544 -3.96227805 -7.27039812]\t -39155.2230850924\t -504.37713268919686\t -0.7978845607896438\n",
            "3  \t [1.76399225 7.75798794 3.12422558]\t -28551.80593901205\t -504.37713268919686\t -0.7978845607896438\n",
            "4  \t [-1.12990557  2.76269749  9.10703155]\t -80360.01670806693\t -504.37713268919686\t -0.7978845607896432\n",
            "5  \t [ 4.56139684 -4.673529    0.23379905]\t -3142.4271112122515\t -504.37713268919686\t -0.7978845607896438\n",
            "6  \t [9.20769807 5.68137976 8.45387447]\t -62710.75080142917\t -504.37713268919686\t -0.7978845607896438\n",
            "7  \t [ 7.14573235 -6.46930749  7.38248289]\t -51761.01237664357\t -504.37713268919686\t -0.7978845607896438\n",
            "8  \t [ 0.53433597 -7.08335515 -8.4509485 ]\t -87354.08171951072\t -504.37713268919686\t -0.7978845607896438\n",
            "9  \t [-9.10278355  9.34103116  2.98084349]\t -67742.35954036798\t -504.37713268919686\t -0.7978845607896438\n",
            "10 \t [ 3.31446265  7.39201368 -3.79212541]\t -23834.156765398733\t -504.37713268919686\t -0.7978845496709747\n",
            "11 \t [-3.43604888 -8.87561309 -2.02491137]\t -52729.42036692042\t -504.37713268919686\t -0.7978845607895919\n",
            "\u001b[1m\u001b[92m12\u001b[0m\t \u001b[1m\u001b[92m[0.20106095 0.49448506 0.36504334]\u001b[0m\t \u001b[1m\u001b[92m-0.9600704398831894\u001b[0m\t \u001b[1m\u001b[92m-0.9600704398831894\u001b[0m\t \u001b[1m\u001b[92m-0.7978845605872064\u001b[0m\n",
            "13 \t [-9.54259734 -1.43539662  9.21612098]\t -88525.01266929683\t -0.9600704398831894\t -0.7978845607894558\n",
            "14 \t [ 3.53987366  1.76245533 -9.97816327]\t -116879.60084508089\t -0.9600704398831894\t -0.7978845606528185\n",
            "15 \t [-1.87649167  0.85787648 -5.06118245]\t -7643.093385470063\t -0.9600704398831894\t -0.7978845251972102\n",
            "16 \t [ 9.72217449  5.9010829  -5.02495784]\t -13224.99826097929\t -0.9600704398831894\t -0.7978845607895798\n",
            "17 \t [-8.43217072  4.48011232 -2.92997914]\t -5291.089806819518\t -0.9600704398831894\t -0.7978845607896438\n",
            "18 \t [ 9.68325583 -7.33158706 -4.72528326]\t -27321.64299464839\t -0.9600704398831894\t -0.7978845605786343\n",
            "19 \t [-3.48410009 -3.68542923 -6.33751434]\t -23073.672070863027\t -0.9600704398831894\t -0.7978845607896438\n",
            "20 \t [-10.           3.31216849  -9.94806577]\t -115787.43954505911\t -0.9600704398831894\t -0.7978845302759445\n",
            "21 \t [-7.58134464 -1.24245945 -1.7988363 ]\t -479.80542212783206\t -0.9600704398831894\t -0.797653978671088\n",
            "22 \t [-7.56689062  4.89421135  8.03138174]\t -52439.35637450315\t -0.9600704398831894\t -0.7978795161522031\n",
            "23 \t [10.          9.85369048  0.78165343]\t -68156.75065956758\t -0.9600704398831894\t -0.7978844993316057\n",
            "24 \t [ -8.42352574  -9.93905176 -10.        ]\t -217178.2723525592\t -0.9600704398831894\t -0.7978823326428364\n",
            "25 \t [-10.          -9.49052837  -0.96581327]\t -72814.51921699378\t -0.9600704398831894\t -0.7978813740794443\n",
            "26 \t [-2.98928862 -2.78860459  1.59958291]\t -891.031453575617\t -0.9600704398831894\t -0.7978782063595081\n",
            "27 \t [-3.93616486  6.84306114  2.62647698]\t -19217.48744397888\t -0.9600704398831894\t -0.7963969074703066\n",
            "28 \t [ 0.69887337 -7.65702168  1.73371828]\t -27733.555649601916\t -0.9600704398831894\t -0.7950654422124299\n",
            "29 \t [ 3.20986107 10.          9.62965632]\t -169816.82706272934\t -0.9600704398831894\t -0.7978844186720534\n",
            "30 \t [ 8.60566935 -0.6623033  10.        ]\t -120973.38175359913\t -0.9600704398831894\t -0.797870433262571\n"
          ]
        }
      ]
    },
    {
      "cell_type": "code",
      "source": [
        "eval_exactMinIQR.tau > eval_exactMinIQR_vsCorrApproxExperiment.tau # Exact gradients' model: y-value is greater"
      ],
      "metadata": {
        "colab": {
          "base_uri": "https://localhost:8080/"
        },
        "id": "RRSEL9F33mw_",
        "outputId": "573345a0-406d-4adf-8134-49ccca119839"
      },
      "execution_count": 116,
      "outputs": [
        {
          "output_type": "execute_result",
          "data": {
            "text/plain": [
              "True"
            ]
          },
          "metadata": {},
          "execution_count": 116
        }
      ]
    },
    {
      "cell_type": "code",
      "source": [
        "eval_exactMinIQR_minAcqFunc > eval_exactMinIQR_vsCorrApproxExperiment_minAcqFunc # Exact gradients' model: best AcqFunc is greater\n"
      ],
      "metadata": {
        "colab": {
          "base_uri": "https://localhost:8080/"
        },
        "id": "srZDKNlWGaUp",
        "outputId": "f9ff8d91-7ac5-448d-fc24-c41450ba3f57"
      },
      "execution_count": 117,
      "outputs": [
        {
          "output_type": "execute_result",
          "data": {
            "text/plain": [
              "True"
            ]
          },
          "metadata": {},
          "execution_count": 117
        }
      ]
    },
    {
      "cell_type": "code",
      "source": [
        "eval_exactMinIQR_simpleRegret < eval_exactMinIQR_vsCorrApproxExperiment_simpleRegret # Exact gradients' model: simple regret's natural log is lower\n"
      ],
      "metadata": {
        "colab": {
          "base_uri": "https://localhost:8080/"
        },
        "id": "TYkP-rneGab3",
        "outputId": "29e5c20e-efa0-454b-95ee-89a1b5d72ec4"
      },
      "execution_count": 118,
      "outputs": [
        {
          "output_type": "execute_result",
          "data": {
            "text/plain": [
              "True"
            ]
          },
          "metadata": {},
          "execution_count": 118
        }
      ]
    },
    {
      "cell_type": "code",
      "source": [
        ""
      ],
      "metadata": {
        "id": "10rcQ55YGajh"
      },
      "execution_count": 118,
      "outputs": []
    }
  ]
}