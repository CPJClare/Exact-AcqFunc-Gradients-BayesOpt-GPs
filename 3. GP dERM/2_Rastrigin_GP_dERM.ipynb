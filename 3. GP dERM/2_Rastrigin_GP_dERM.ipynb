{
  "cells": [
    {
      "cell_type": "markdown",
      "metadata": {
        "id": "Dqn4dFx7Z2Ir"
      },
      "source": [
        "\n",
        "Rastrigin: 2D\n"
      ]
    },
    {
      "cell_type": "code",
      "execution_count": 1,
      "metadata": {
        "colab": {
          "base_uri": "https://localhost:8080/"
        },
        "id": "MJTM_GZZZb5x",
        "outputId": "f6cbd231-f006-49bc-ea3e-2c497481cba7"
      },
      "outputs": [
        {
          "output_type": "stream",
          "name": "stdout",
          "text": [
            "Looking in indexes: https://pypi.org/simple, https://us-python.pkg.dev/colab-wheels/public/simple/\n",
            "Collecting pyGPGO\n",
            "  Downloading pyGPGO-0.5.1.tar.gz (14 kB)\n",
            "Requirement already satisfied: numpy in /usr/local/lib/python3.7/dist-packages (from pyGPGO) (1.21.6)\n",
            "Requirement already satisfied: mkl in /usr/local/lib/python3.7/dist-packages (from pyGPGO) (2019.0)\n",
            "Requirement already satisfied: scipy in /usr/local/lib/python3.7/dist-packages (from pyGPGO) (1.7.3)\n",
            "Requirement already satisfied: joblib in /usr/local/lib/python3.7/dist-packages (from pyGPGO) (1.1.0)\n",
            "Requirement already satisfied: scikit-learn in /usr/local/lib/python3.7/dist-packages (from pyGPGO) (1.0.2)\n",
            "Requirement already satisfied: Theano-PyMC in /usr/local/lib/python3.7/dist-packages (from pyGPGO) (1.1.2)\n",
            "Requirement already satisfied: pyMC3 in /usr/local/lib/python3.7/dist-packages (from pyGPGO) (3.11.5)\n",
            "Requirement already satisfied: intel-openmp in /usr/local/lib/python3.7/dist-packages (from mkl->pyGPGO) (2022.1.0)\n",
            "Requirement already satisfied: fastprogress>=0.2.0 in /usr/local/lib/python3.7/dist-packages (from pyMC3->pyGPGO) (1.0.3)\n",
            "Requirement already satisfied: deprecat in /usr/local/lib/python3.7/dist-packages (from pyMC3->pyGPGO) (2.1.1)\n",
            "Requirement already satisfied: typing-extensions>=3.7.4 in /usr/local/lib/python3.7/dist-packages (from pyMC3->pyGPGO) (4.1.1)\n",
            "Requirement already satisfied: dill in /usr/local/lib/python3.7/dist-packages (from pyMC3->pyGPGO) (0.3.5.1)\n",
            "Requirement already satisfied: pandas>=0.24.0 in /usr/local/lib/python3.7/dist-packages (from pyMC3->pyGPGO) (1.3.5)\n",
            "Requirement already satisfied: cachetools>=4.2.1 in /usr/local/lib/python3.7/dist-packages (from pyMC3->pyGPGO) (4.2.4)\n",
            "Requirement already satisfied: patsy>=0.5.1 in /usr/local/lib/python3.7/dist-packages (from pyMC3->pyGPGO) (0.5.2)\n",
            "Requirement already satisfied: semver>=2.13.0 in /usr/local/lib/python3.7/dist-packages (from pyMC3->pyGPGO) (2.13.0)\n",
            "Requirement already satisfied: arviz>=0.11.0 in /usr/local/lib/python3.7/dist-packages (from pyMC3->pyGPGO) (0.12.1)\n",
            "Requirement already satisfied: filelock in /usr/local/lib/python3.7/dist-packages (from Theano-PyMC->pyGPGO) (3.7.1)\n",
            "Requirement already satisfied: setuptools>=38.4 in /usr/local/lib/python3.7/dist-packages (from arviz>=0.11.0->pyMC3->pyGPGO) (57.4.0)\n",
            "Requirement already satisfied: xarray-einstats>=0.2 in /usr/local/lib/python3.7/dist-packages (from arviz>=0.11.0->pyMC3->pyGPGO) (0.2.2)\n",
            "Requirement already satisfied: netcdf4 in /usr/local/lib/python3.7/dist-packages (from arviz>=0.11.0->pyMC3->pyGPGO) (1.6.0)\n",
            "Requirement already satisfied: packaging in /usr/local/lib/python3.7/dist-packages (from arviz>=0.11.0->pyMC3->pyGPGO) (21.3)\n",
            "Requirement already satisfied: xarray>=0.16.1 in /usr/local/lib/python3.7/dist-packages (from arviz>=0.11.0->pyMC3->pyGPGO) (0.20.2)\n",
            "Requirement already satisfied: matplotlib>=3.0 in /usr/local/lib/python3.7/dist-packages (from arviz>=0.11.0->pyMC3->pyGPGO) (3.2.2)\n",
            "Requirement already satisfied: python-dateutil>=2.1 in /usr/local/lib/python3.7/dist-packages (from matplotlib>=3.0->arviz>=0.11.0->pyMC3->pyGPGO) (2.8.2)\n",
            "Requirement already satisfied: cycler>=0.10 in /usr/local/lib/python3.7/dist-packages (from matplotlib>=3.0->arviz>=0.11.0->pyMC3->pyGPGO) (0.11.0)\n",
            "Requirement already satisfied: kiwisolver>=1.0.1 in /usr/local/lib/python3.7/dist-packages (from matplotlib>=3.0->arviz>=0.11.0->pyMC3->pyGPGO) (1.4.4)\n",
            "Requirement already satisfied: pyparsing!=2.0.4,!=2.1.2,!=2.1.6,>=2.0.1 in /usr/local/lib/python3.7/dist-packages (from matplotlib>=3.0->arviz>=0.11.0->pyMC3->pyGPGO) (3.0.9)\n",
            "Requirement already satisfied: pytz>=2017.3 in /usr/local/lib/python3.7/dist-packages (from pandas>=0.24.0->pyMC3->pyGPGO) (2022.1)\n",
            "Requirement already satisfied: six in /usr/local/lib/python3.7/dist-packages (from patsy>=0.5.1->pyMC3->pyGPGO) (1.15.0)\n",
            "Requirement already satisfied: importlib-metadata in /usr/local/lib/python3.7/dist-packages (from xarray>=0.16.1->arviz>=0.11.0->pyMC3->pyGPGO) (4.12.0)\n",
            "Requirement already satisfied: wrapt<2,>=1.10 in /usr/local/lib/python3.7/dist-packages (from deprecat->pyMC3->pyGPGO) (1.14.1)\n",
            "Requirement already satisfied: zipp>=0.5 in /usr/local/lib/python3.7/dist-packages (from importlib-metadata->xarray>=0.16.1->arviz>=0.11.0->pyMC3->pyGPGO) (3.8.1)\n",
            "Requirement already satisfied: cftime in /usr/local/lib/python3.7/dist-packages (from netcdf4->arviz>=0.11.0->pyMC3->pyGPGO) (1.6.1)\n",
            "Requirement already satisfied: threadpoolctl>=2.0.0 in /usr/local/lib/python3.7/dist-packages (from scikit-learn->pyGPGO) (3.1.0)\n",
            "Building wheels for collected packages: pyGPGO\n",
            "  Building wheel for pyGPGO (setup.py) ... \u001b[?25l\u001b[?25hdone\n",
            "  Created wheel for pyGPGO: filename=pyGPGO-0.5.1-py3-none-any.whl size=19879 sha256=97f9692910ad869389ef637b764f25026ad00375dfca717eb75567a167241cc6\n",
            "  Stored in directory: /root/.cache/pip/wheels/c8/5d/0b/2160114e2f1b87791c51b66cf07f89831dbb6f49167950316f\n",
            "Successfully built pyGPGO\n",
            "Installing collected packages: pyGPGO\n",
            "Successfully installed pyGPGO-0.5.1\n"
          ]
        }
      ],
      "source": [
        "pip install pyGPGO\n"
      ]
    },
    {
      "cell_type": "code",
      "execution_count": 2,
      "metadata": {
        "id": "ZJSSPbwPaEUB"
      },
      "outputs": [],
      "source": [
        "### Import:\n",
        "\n",
        "import numpy as np\n",
        "import scipy as sp\n",
        "import pandas as pd\n",
        "import matplotlib.pyplot as plt\n",
        "import warnings\n",
        "import itertools\n",
        "\n",
        "from pyGPGO.GPGO import GPGO\n",
        "from pyGPGO.surrogates.GaussianProcess import GaussianProcess\n",
        "from pyGPGO.acquisition import Acquisition\n",
        "from pyGPGO.covfunc import squaredExponential\n",
        "\n",
        "from joblib import Parallel, delayed\n",
        "from numpy.linalg import solve, cholesky\n",
        "from scipy.spatial.distance import cdist\n",
        "from scipy.optimize import minimize\n",
        "from scipy.stats import norm\n",
        "import time\n",
        "\n",
        "warnings.filterwarnings(\"ignore\", category=RuntimeWarning)\n"
      ]
    },
    {
      "cell_type": "code",
      "execution_count": 3,
      "metadata": {
        "id": "OeYcTUNoaJWa"
      },
      "outputs": [],
      "source": [
        "### Inputs:\n",
        "\n",
        "func = 'Rastrigin'\n",
        "n_test = 500\n",
        "eps = 1e-08\n",
        "\n",
        "util = 'ERM'\n",
        "\n",
        "n_init = 5 # random initialisations\n",
        "iters = 20\n",
        "opt = True"
      ]
    },
    {
      "cell_type": "code",
      "execution_count": 4,
      "metadata": {
        "id": "xpaEOjdzaPMS"
      },
      "outputs": [],
      "source": [
        "### Objective Function - Rastrigin(x) 2-D:\n",
        "\n",
        "def objfunc(x1_training, x2_training):\n",
        "        return  operator * (10 * dim + x1_training** 2 - 10 * np.cos(2 * np.pi * x1_training)\n",
        "                                    + x2_training** 2 - 10 * np.cos(2 * np.pi * x2_training)\n",
        "                          )\n",
        "            \n",
        "# Constraints:\n",
        "lb = -5.12 \n",
        "ub = +5.12\n",
        "    \n",
        "# Input array dimension(s):\n",
        "dim = 2\n",
        "\n",
        "# 2-D inputs' parameter bounds:\n",
        "param = {'x1_training': ('cont', [lb, ub]),\n",
        "             'x2_training': ('cont', [lb, ub])}\n",
        "\n",
        "# True y bounds:\n",
        "operator = -1\n",
        "y_global_orig = 0 # targets global minimum\n",
        "\n",
        "# Test data:\n",
        "x1_test = np.linspace(lb, ub, n_test) \n",
        "x2_test = np.linspace(lb, ub, n_test)\n",
        "\n",
        "x_test = np.column_stack((x1_test,x2_test))\n"
      ]
    },
    {
      "cell_type": "code",
      "execution_count": 5,
      "metadata": {
        "id": "eYpI3Zm4aGxi"
      },
      "outputs": [],
      "source": [
        "n_start_AcqFunc = iters\n",
        "inverse = -1\n"
      ]
    },
    {
      "cell_type": "code",
      "execution_count": 6,
      "metadata": {
        "id": "oO_GUmOoaV0T"
      },
      "outputs": [],
      "source": [
        "### Cumulative Regret Calculators:\n",
        "\n",
        "def min_max_array(x):\n",
        "    new_list = []\n",
        "    for i, num in enumerate(x):\n",
        "            new_list.append(np.min(x[0:i+1]))\n",
        "    return new_list\n",
        "  \n",
        "def acqFuncExact(x):\n",
        "    new_array = []\n",
        "    x = np.array(x) \n",
        "    for i, num in enumerate(x):\n",
        "            new_array = x[:-2][::-3]\n",
        "    return new_array[::-1]\n",
        "\n",
        "def acqFuncApprox(x):\n",
        "    new_array = []\n",
        "    x = np.array(x) \n",
        "    for i, num in enumerate(x):\n",
        "            new_array = x[:-1][::-3]\n",
        "    return new_array[::-1]\n"
      ]
    },
    {
      "cell_type": "code",
      "execution_count": 7,
      "metadata": {
        "id": "kuuJx0IMam9S"
      },
      "outputs": [],
      "source": [
        "### Surrogate derivatives: \n",
        "\n",
        "cov_func = squaredExponential()\n",
        "\n",
        "def kronDelta(X, Xstar):                     # Kronecker's Delta method\n",
        "    return cdist(X, Xstar) < np.finfo(np.float32).eps\n",
        "\n",
        "def se(X, Xstar, sigmaf, l, sigman):         # S.E. kernel method\n",
        "    return sigmaf * np.exp(-0.5 * cdist(X, Xstar) ** 2 / l ** 2) + sigman * kronDelta(X, Xstar)\n",
        "\n",
        "def delta(X, Xstar):                         # Distance between training X and test Xstar vectors\n",
        "    return (X - Xstar)\n",
        "   \n",
        "def der_covmat(X, Xstar, sigmaf, l, sigman): # Covariance matrix derivative terms (i.e. exact, first-order)\n",
        "    nx = len(X)\n",
        "    ny = len(Xstar)\n",
        "    return np.round(np.array([(delta(np.atleast_2d(i), np.atleast_2d(j))[0] * se(np.atleast_2d(i), np.atleast_2d(j), sigmaf, l, sigman)[0]).sum() for (i, j) in itertools.product(X, Xstar)]).reshape(nx, ny), 8)\n",
        "\n",
        "class dGaussianProcess(GaussianProcess):    # Via inheritance, also optimises hyperparameters when opt = TRUE\n",
        "    \n",
        "    def AcqGrad(self, Xstar):               # Method returning exact, first-order derivatives of the GP's posterior mean and standard deviation\n",
        "        Xstar = np.atleast_2d(Xstar)\n",
        "        Kstar = self.covfunc.K(self.X, Xstar).T\n",
        "        \n",
        "        dKstar = der_covmat(self.X, Xstar, self.covfunc.sigmaf, self.covfunc.l, self.covfunc.sigman).T\n",
        "        alpha_Kstar = np.dot(np.linalg.inv(self.K + (self.covfunc.sigman**2) * np.eye(len(self.X))), Kstar.T)\n",
        "        \n",
        "        dm = np.dot(dKstar, self.alpha)\n",
        "        ds = -2 * np.dot(dKstar, alpha_Kstar)\n",
        "        \n",
        "        return dm, ds           \n"
      ]
    },
    {
      "cell_type": "code",
      "execution_count": 8,
      "metadata": {
        "id": "_Dc3YVHVaXz7"
      },
      "outputs": [],
      "source": [
        "### Add exact acquisition function gradient as attribute:\n",
        "\n",
        "class Acquisition_grad(Acquisition):    \n",
        "    def __init__(self, mode, eps=eps, **params):\n",
        "        \n",
        "        self.params = params\n",
        "        self.eps = eps\n",
        "\n",
        "        mode_dict = {\n",
        "            'ERM': self.ERM\n",
        "        }\n",
        "\n",
        "        self.f = mode_dict[mode]\n",
        "    \n",
        "    def ERM(self, y_global_orig, mean, std, ds, dm):\n",
        "        gamma = (mean - y_global_orig - self.eps) / (std + self.eps)\n",
        "        gamma_h = (mean - y_global_orig) / (std + self.eps)\n",
        "        dsdx = ds / (2 * (std + self.eps))\n",
        "        dmdx = (dm - gamma * dsdx) / (std + self.eps)\n",
        "        \n",
        "        f = (std + self.eps) * (gamma * norm.cdf(gamma) + norm.pdf(gamma))\n",
        "        df1 = f / (std + self.eps) * dsdx \n",
        "        df2 = (std + self.eps) * norm.cdf(gamma) * dmdx\n",
        "        df = (df1 + df2)[0]\n",
        "        df_arr = []\n",
        "\n",
        "        for j in range(0, dim):\n",
        "          df_arr.append(df)\n",
        "        return f, np.asarray(df_arr).transpose()\n",
        "        \n",
        "    def d_eval(self, y_global_orig, mean, std, ds, dm):\n",
        "    \n",
        "        return self.f(y_global_orig, mean, std, ds, dm, **self.params)\n",
        "        "
      ]
    },
    {
      "cell_type": "code",
      "execution_count": 9,
      "metadata": {
        "id": "PITEQC8YSl7i"
      },
      "outputs": [],
      "source": [
        "## GPGO_multi: \n",
        "\n",
        "class GPGO_multi(GPGO):\n",
        "    n_start = n_start_AcqFunc\n",
        "\n",
        "    def __init__(self, surrogate, acquisition, f, parameter_dict, n_jobs=1):\n",
        "        self.GP = surrogate\n",
        "        self.A = acquisition\n",
        "        self.f = f\n",
        "        self.parameters = parameter_dict\n",
        "        self.n_jobs = n_jobs\n",
        "\n",
        "        self.parameter_key = list(parameter_dict.keys())\n",
        "        self.parameter_value = list(parameter_dict.values())\n",
        "        self.parameter_type = [p[0] for p in self.parameter_value]\n",
        "        self.parameter_range = [p[1] for p in self.parameter_value]\n",
        "\n",
        "        self.history = []\n",
        "        self.header =   'Evaluation \\t Proposed point \\t  Current eval. \\t  Best eval. \\t        Exact EI: StdDev. x \\t Approx EI: StdDev. x '\n",
        "        self.template = '{:3}\\t {}\\t {:3}\\t {:3}\\t {:3}\\t {:3}'\n",
        " \n",
        "    def acqfuncExact(self, xnew, n_start=n_start_AcqFunc):\n",
        "        new_mean, new_var = self.GP.predict(xnew, return_std=True)\n",
        "        new_std = np.sqrt(new_var + eps)\n",
        "        dm, ds = self.GP.AcqGrad(xnew)\n",
        "        f, df = self.A.d_eval(y_global_orig, new_mean, new_std, ds=ds, dm=dm)\n",
        "\n",
        "        return -f, -df\n",
        "   \n",
        "    def acqfuncApprox(self, xnew, n_start=n_start_AcqFunc):\n",
        "        new_mean, new_var = self.GP.predict(xnew, return_std=True)\n",
        "        new_std = np.sqrt(new_var + eps)\n",
        "        dm, ds = self.GP.AcqGrad(xnew)\n",
        "        f, df = self.A.d_eval(y_global_orig, new_mean, new_std, ds=ds, dm=dm)\n",
        "\n",
        "        return -f\n",
        "   \n",
        "    def _optimizeAcq(self, method='L-BFGS-B', n_start=n_start_AcqFunc):\n",
        "        \n",
        "        start_points_dict = [self._sampleParam() for i in range(n_start)]\n",
        "        start_points_arr = np.array([list(s.values())\n",
        "                                     for s in start_points_dict])\n",
        "        x_best = np.empty((n_start, len(self.parameter_key)))\n",
        "        f_best = np.empty((n_start,))\n",
        "        opt = Parallel(n_jobs=self.n_jobs)(delayed(minimize)(self.acqfuncApprox,\n",
        "                                                                 x0=start_point,\n",
        "                                                                 method=method,\n",
        "                                                                 jac = False,\n",
        "                                                                 bounds=self.parameter_range) for start_point in\n",
        "                                               start_points_arr)\n",
        "        x_best = np.array([res.x for res in opt])\n",
        "        f_best = np.array([np.atleast_1d(res.fun)[0] for res in opt])\n",
        "        f_best_min = min(f_best)\n",
        "\n",
        "        self.x_best = x_best\n",
        "        self.f_best = f_best\n",
        "        self.f_best_min = f_best_min\n",
        "        self.x_best_std = np.std(x_best)\n",
        "        self.best = x_best[np.argmin(f_best)]\n",
        "        self.start_points_arr = start_points_arr        \n",
        "        self.history.append(self.x_best_std)\n",
        "\n",
        "        x_best_exact = np.empty((n_start, len(self.parameter_key)))\n",
        "        f_best_exact = np.empty((n_start,))\n",
        "        opt_exact = Parallel(n_jobs=self.n_jobs)(delayed(minimize)(self.acqfuncExact,\n",
        "                                                                 x0=start_point,\n",
        "                                                                 method=method,\n",
        "                                                                 jac = True,\n",
        "                                                                 bounds=self.parameter_range) for start_point in\n",
        "                                               start_points_arr)\n",
        "        x_best_exact = np.array([res.x for res in opt_exact])\n",
        "        f_best_exact = np.array([np.atleast_1d(res.fun)[0] for res in opt_exact])\n",
        "        f_best_min_exact = min(f_best_exact)\n",
        "\n",
        "        self.x_best_exact = x_best_exact\n",
        "        self.f_best_exact = f_best_exact\n",
        "        self.f_best_min_exact = f_best_min_exact\n",
        "        self.x_best_std_exact = np.std(x_best_exact)\n",
        "        self.best_exact = x_best_exact[np.argmin(f_best_exact)]\n",
        "        self.start_points_arr = start_points_arr\n",
        "        self.history.append(self.x_best_std_exact)\n",
        "\n",
        "    def _printInit(self):\n",
        "        print(self.header)\n",
        "        for init_eval in range(self.init_evals):\n",
        "            print(self.template.format('init', self.GP.X[init_eval], inverse * self.GP.y[init_eval], inverse * self.tau, '', ''))\n",
        "      \n",
        "    def _printCurrent(self):\n",
        "        OKGREEN = '\\033[92m'\n",
        "        ENDC = '\\033[0m'\n",
        "        BOLD = '\\033[1m'\n",
        "        eval = str(len(self.GP.y) - self.init_evals)\n",
        "        proposed = str(self.best)\n",
        "        curr_eval = str(inverse * self.GP.y[-1])\n",
        "        curr_best = str(inverse * self.tau)\n",
        "        min_acqfunc = str(self.f_best_min)\n",
        "        min_acqfunc_exact = str(self.f_best_min_exact)\n",
        "        x_best_std = str(self.x_best_std)\n",
        "        x_best_std_exact = str(self.x_best_std_exact)\n",
        "        if float(curr_eval) <= float(curr_best):\n",
        "            eval = BOLD + OKGREEN + eval + ENDC\n",
        "            proposed = BOLD + OKGREEN + proposed + ENDC\n",
        "            curr_eval = BOLD + OKGREEN + curr_eval + ENDC\n",
        "            curr_best = BOLD + OKGREEN + curr_best + ENDC\n",
        "            x_best_std = BOLD + OKGREEN + x_best_std + ENDC\n",
        "            x_best_std_exact = BOLD + OKGREEN + x_best_std_exact + ENDC\n",
        "        print(self.template.format(eval, proposed, curr_eval, curr_best, x_best_std_exact, x_best_std))\n",
        "        \n",
        "    def run(self, max_iter=10, init_evals=3, resume=False):\n",
        "        \n",
        "        if not resume:\n",
        "            self.init_evals = init_evals\n",
        "            self._firstRun(self.init_evals)\n",
        "            self._printInit()\n",
        "        for iteration in range(max_iter):\n",
        "            self._optimizeAcq()\n",
        "            self.updateGP()\n",
        "            self._printCurrent()\n"
      ]
    },
    {
      "cell_type": "code",
      "execution_count": 10,
      "metadata": {
        "id": "b_B-w81BJxKN"
      },
      "outputs": [],
      "source": [
        "## dGPGO:\n",
        "\n",
        "class dGPGO(GPGO):\n",
        "    n_start = n_start_AcqFunc\n",
        "\n",
        "    def __init__(self, surrogate, acquisition, f, parameter_dict, n_jobs=1):\n",
        "        self.GP = surrogate\n",
        "        self.A = acquisition\n",
        "        self.f = f\n",
        "        self.parameters = parameter_dict\n",
        "        self.n_jobs = n_jobs\n",
        "\n",
        "        self.parameter_key = list(parameter_dict.keys())\n",
        "        self.parameter_value = list(parameter_dict.values())\n",
        "        self.parameter_type = [p[0] for p in self.parameter_value]\n",
        "        self.parameter_range = [p[1] for p in self.parameter_value]\n",
        "\n",
        "        self.history = []\n",
        "        self.header =   'Evaluation \\t Proposed point \\t  Current eval. \\t  Best eval. \\t        Exact EI: StdDev. x \\t Approx EI: StdDev. x '\n",
        "        self.template = '{:3}\\t {}\\t {:3}\\t {:3}\\t {:3}\\t {:3}'\n",
        "\n",
        "    def acqfuncExact(self, xnew, n_start=n_start_AcqFunc):\n",
        "        new_mean, new_var = self.GP.predict(xnew, return_std=True)\n",
        "        new_std = np.sqrt(new_var + eps)\n",
        "        dm, ds = self.GP.AcqGrad(xnew)\n",
        "        f, df = self.A.d_eval(y_global_orig, new_mean, new_std, ds=ds, dm=dm)\n",
        "\n",
        "        return -f, -df\n",
        "   \n",
        "    def acqfuncApprox(self, xnew, n_start=n_start_AcqFunc):\n",
        "        new_mean, new_var = self.GP.predict(xnew, return_std=True)\n",
        "        new_std = np.sqrt(new_var + eps)\n",
        "        dm, ds = self.GP.AcqGrad(xnew)\n",
        "        f, df = self.A.d_eval(y_global_orig, new_mean, new_std, ds=ds, dm=dm)\n",
        "\n",
        "        return -f\n",
        "\n",
        "    def d_optimizeAcq(self, method='L-BFGS-B', n_start=n_start_AcqFunc):\n",
        "        start_points_dict = [self._sampleParam() for i in range(n_start)]\n",
        "        start_points_arr = np.array([list(s.values())\n",
        "                                     for s in start_points_dict])\n",
        "        x_best = np.empty((n_start, len(self.parameter_key)))\n",
        "        f_best = np.empty((n_start,))\n",
        "        opt = Parallel(n_jobs=self.n_jobs)(delayed(minimize)(self.acqfuncExact,\n",
        "                                                                 x0=start_point,\n",
        "                                                                 method=method,\n",
        "                                                                 jac = True,\n",
        "                                                                 bounds=self.parameter_range) for start_point in\n",
        "                                               start_points_arr)\n",
        "        x_best = np.array([res.x for res in opt])\n",
        "        f_best = np.array([np.atleast_1d(res.fun)[0] for res in opt])\n",
        "        f_best_min = min(f_best)\n",
        "\n",
        "        self.x_best = x_best\n",
        "        self.f_best = f_best\n",
        "        self.f_best_min = f_best_min\n",
        "        self.x_best_std = np.std(x_best)\n",
        "        self.best = x_best[np.argmin(f_best)]\n",
        "        self.start_points_arr = start_points_arr\n",
        "        self.history.append(self.x_best_std)\n",
        "\n",
        "        x_best_approx = np.empty((n_start, len(self.parameter_key)))\n",
        "        f_best_approx = np.empty((n_start,))\n",
        "        opt_approx = Parallel(n_jobs=self.n_jobs)(delayed(minimize)(self.acqfuncApprox,\n",
        "                                                                 x0=start_point,\n",
        "                                                                 method=method,\n",
        "                                                                 jac = False,\n",
        "                                                                 bounds=self.parameter_range) for start_point in\n",
        "                                               start_points_arr)\n",
        "        x_best_approx = np.array([res.x for res in opt_approx])\n",
        "        f_best_approx = np.array([np.atleast_1d(res.fun)[0] for res in opt_approx])\n",
        "        f_best_min_approx = min(f_best_approx)\n",
        "\n",
        "        self.x_best_approx = x_best_approx\n",
        "        self.f_best_approx = f_best_approx\n",
        "        self.f_best_min_approx = f_best_min_approx\n",
        "        self.x_best_std_approx = np.std(x_best_approx)\n",
        "        self.best_approx = x_best_approx[np.argmin(f_best_approx)]\n",
        "        self.start_points_arr = start_points_arr\n",
        "        self.history.append(self.x_best_std_approx)\n",
        "    \n",
        "    def _printInit(self):\n",
        "        print(self.header)\n",
        "        for init_eval in range(self.init_evals):\n",
        "            print(self.template.format('init', self.GP.X[init_eval], inverse * self.GP.y[init_eval], inverse * self.tau, '', ''))\n",
        "      \n",
        "    def _printCurrent(self):\n",
        "        OKGREEN = '\\033[92m'\n",
        "        ENDC = '\\033[0m'\n",
        "        BOLD = '\\033[1m'\n",
        "        eval = str(len(self.GP.y) - self.init_evals)\n",
        "        proposed = str(self.best)\n",
        "        curr_eval = str(inverse * self.GP.y[-1])\n",
        "        curr_best = str(inverse * self.tau)\n",
        "        min_acqfunc = str(self.f_best_min)\n",
        "        min_acqfunc_approx = str(self.f_best_min_approx)\n",
        "        x_best_std = str(self.x_best_std)\n",
        "        x_best_std_approx = str(self.x_best_std_approx)\n",
        "        if float(curr_eval) <= float(curr_best):\n",
        "            eval = BOLD + OKGREEN + eval + ENDC\n",
        "            proposed = BOLD + OKGREEN + proposed + ENDC\n",
        "            curr_eval = BOLD + OKGREEN + curr_eval + ENDC\n",
        "            curr_best = BOLD + OKGREEN + curr_best + ENDC\n",
        "            x_best_std = BOLD + OKGREEN + x_best_std + ENDC\n",
        "            x_best_std_approx = BOLD + OKGREEN + x_best_std_approx + ENDC\n",
        "        print(self.template.format(eval, proposed, curr_eval, curr_best, x_best_std, x_best_std_approx))\n",
        "\n",
        "    def run(self, max_iter=10, init_evals=3, resume=False):\n",
        "        \n",
        "        if not resume:\n",
        "            self.init_evals = init_evals\n",
        "            self._firstRun(self.init_evals)\n",
        "            self._printInit()\n",
        "        for iteration in range(max_iter):\n",
        "            self.d_optimizeAcq()\n",
        "            self.updateGP()\n",
        "            self._printCurrent()\n"
      ]
    },
    {
      "cell_type": "code",
      "execution_count": 11,
      "metadata": {
        "id": "qXIKGuXVGEg2"
      },
      "outputs": [],
      "source": [
        "###Reproducible set-seeds:\n",
        "\n",
        "run_num_1 = 1\n",
        "run_num_2 = 2\n",
        "run_num_3 = 3\n",
        "run_num_4 = 4\n",
        "run_num_5 = 5\n",
        "run_num_6 = 6\n",
        "run_num_7 = 7\n",
        "run_num_8 = 8\n",
        "run_num_9 = 9\n",
        "run_num_10 = 10\n",
        "run_num_11 = 11\n",
        "run_num_12 = 12\n",
        "run_num_13 = 13\n",
        "run_num_14 = 14\n",
        "run_num_15 = 15\n",
        "run_num_16 = 16\n",
        "run_num_17 = 17\n",
        "run_num_18 = 18\n",
        "run_num_19 = 19\n",
        "run_num_20 = 20\n"
      ]
    },
    {
      "cell_type": "code",
      "execution_count": 12,
      "metadata": {
        "colab": {
          "base_uri": "https://localhost:8080/"
        },
        "id": "JEhagQmnTVIK",
        "outputId": "c4c1ff59-a288-46f9-a3d4-e71ec9201d64"
      },
      "outputs": [
        {
          "output_type": "execute_result",
          "data": {
            "text/plain": [
              "1659619956.485373"
            ]
          },
          "metadata": {},
          "execution_count": 12
        }
      ],
      "source": [
        "start_approx = time.time()\n",
        "start_approx\n"
      ]
    },
    {
      "cell_type": "code",
      "execution_count": 13,
      "metadata": {
        "colab": {
          "base_uri": "https://localhost:8080/"
        },
        "id": "aH0YSTXufD1v",
        "outputId": "52b9aaac-72ea-428e-be84-a287dcb96468"
      },
      "outputs": [
        {
          "output_type": "stream",
          "name": "stdout",
          "text": [
            "Evaluation \t Proposed point \t  Current eval. \t  Best eval. \t        Exact EI: StdDev. x \t Approx EI: StdDev. x \n",
            "init\t [-0.84969467  2.25612281]\t 20.33436270766351\t 19.908403246996286\t    \t    \n",
            "init\t [-5.1188288  -2.02411446]\t 33.07414982069084\t 19.908403246996286\t    \t    \n",
            "init\t [-3.61721968 -4.17445279]\t 53.347974723929894\t 19.908403246996286\t    \t    \n",
            "init\t [-3.21269544 -1.58145816]\t 39.218472310354045\t 19.908403246996286\t    \t    \n",
            "init\t [-1.05710106  0.39748336]\t 19.908403246996286\t 19.908403246996286\t    \t    \n",
            "1  \t [ 4.04077223 -4.24914728]\t 44.655863836006326\t 19.908403246996286\t 3.635859811749542\t 4.062408354681372\n",
            "2  \t [4.64028226 5.12      ]\t 66.81749824810724\t 19.908403246996286\t 3.399899635991294\t 3.651586764400539\n",
            "3  \t [-5.12  5.12]\t 57.849427451571785\t 19.908403246996286\t 3.2546008421221466\t 3.521768488074272\n",
            "4  \t [5.12       0.33809598]\t 44.29590022424263\t 19.908403246996286\t 3.3511218011842656\t 3.5519098123251065\n",
            "5  \t [ 0.22553127 -5.12      ]\t 37.44421205549553\t 19.908403246996286\t 2.7423236419112476\t 2.9531951201438824\n",
            "6  \t [0.75630585 5.12      ]\t 39.10060766833676\t 19.908403246996286\t 2.7299009427755516\t 2.9491007472549633\n",
            "7  \t [ 1.7316574  -1.39031826]\t 33.79943601978897\t 19.908403246996286\t 3.077639589232528\t 3.224104549124386\n",
            "8  \t [-5.12        1.53252435]\t 51.065262325603186\t 19.908403246996286\t 3.0704730410960948\t 3.283156360728067\n",
            "9  \t [2.34013523 2.12959243]\t 28.512720952018846\t 19.908403246996286\t 2.9436591947846757\t 3.1879191949049988\n",
            "10 \t [-0.69320427 -2.54695224]\t 40.02881144592155\t 19.908403246996286\t 3.020323295140703\t 3.076486022824203\n",
            "11 \t [-2.12390081  5.12      ]\t 36.315933830497144\t 19.908403246996286\t 2.8513723132596263\t 3.212562894599108\n",
            "12 \t [-2.92078457  2.70660797]\t 29.76275073106112\t 19.908403246996286\t 3.0167289480341455\t 3.061293099456886\n",
            "13 \t [ 1.87123051 -3.63032308]\t 36.609782412409444\t 19.908403246996286\t 2.4851126710839107\t 2.514755318283137\n",
            "14 \t [ 5.12       -2.11637183]\t 35.959912040442546\t 19.908403246996286\t 3.0075689375016363\t 3.1717827573739905\n",
            "15 \t [0.87623892 0.65025274]\t 19.92972405709425\t 19.908403246996286\t 2.632436612933626\t 2.6090838021164915\n",
            "16 \t [5.12       2.65908486]\t 51.40217376858726\t 19.908403246996286\t 3.002230802000894\t 3.054043817712322\n",
            "17 \t [-2.87561143  0.51297922]\t 31.400873660441768\t 19.908403246996286\t 2.9031113536850373\t 2.9199867930429217\n",
            "18 \t [2.47998288 4.04391768]\t 42.80291010881102\t 19.908403246996286\t 2.965472657522535\t 2.9455361760890995\n",
            "19 \t [-1.74997842 -5.12      ]\t 41.98849398205316\t 19.908403246996286\t 3.3121207066294307\t 3.3039811218061264\n",
            "20 \t [3.63714851 1.07184182]\t 31.890559735488843\t 19.908403246996286\t 2.9629086739663912\t 2.9629086739663912\n"
          ]
        }
      ],
      "source": [
        "### ESTIMATED GP EI GRADIENTS\n",
        "\n",
        "np.random.seed(run_num_1)\n",
        "surrogate_approx_1 = dGaussianProcess(cov_func, optimize=opt)\n",
        "\n",
        "approx_1 = GPGO_multi(surrogate_approx_1, Acquisition_grad(util), objfunc, param)\n",
        "approx_1.run(init_evals=n_init, max_iter=iters)\n"
      ]
    },
    {
      "cell_type": "code",
      "execution_count": 14,
      "metadata": {
        "id": "wTxsSZxFGBB5",
        "colab": {
          "base_uri": "https://localhost:8080/"
        },
        "outputId": "cc403c46-224c-4210-ed73-643c3f3f6caa"
      },
      "outputs": [
        {
          "output_type": "stream",
          "name": "stdout",
          "text": [
            "Evaluation \t Proposed point \t  Current eval. \t  Best eval. \t        Exact EI: StdDev. x \t Approx EI: StdDev. x \n",
            "init\t [-0.6554122  -4.85451539]\t 43.490296251903594\t 18.964539418712707\t    \t    \n",
            "init\t [ 0.50854377 -0.6622987 ]\t 35.91861667536101\t 18.964539418712707\t    \t    \n",
            "init\t [-0.81543371 -1.73737143]\t 20.479562046739524\t 18.964539418712707\t    \t    \n",
            "init\t [-3.02439799  1.2213347 ]\t 18.964539418712707\t 18.964539418712707\t    \t    \n",
            "init\t [-2.05153614 -2.3876887 ]\t 28.041315668371354\t 18.964539418712707\t    \t    \n",
            "1  \t [ 5.12 -5.12]\t 57.849427451571785\t 18.964539418712707\t 3.818260071415723\t 3.899056990158343\n",
            "2  \t [4.77484677 5.12      ]\t 60.16904066028279\t 18.964539418712707\t 3.2151196511639863\t 3.1187497366502965\n",
            "3  \t [-0.33019289  5.12      ]\t 43.86189474391254\t 18.964539418712707\t 3.6517240895020384\t 3.90540671817245\n",
            "4  \t [5.12      0.0804212]\t 30.18089479607745\t 18.964539418712707\t 3.417326257573703\t 3.7402108679156325\n",
            "5  \t [-5.12  5.12]\t 57.849427451571785\t 18.964539418712707\t 3.6861397235781337\t 3.5633715632788423\n",
            "6  \t [-5.12 -5.12]\t 57.849427451571785\t 18.964539418712707\t 3.5154719721835503\t 3.2243040151837676\n",
            "7  \t [2.21220564 2.4205967 ]\t 37.181775525228915\t 18.964539418712707\t 3.0503686537604495\t 3.249360260433063\n",
            "8  \t [-5.12       -1.23376934]\t 39.42886472363753\t 18.964539418712707\t 2.645351929484101\t 2.949477103822615\n",
            "9  \t [ 2.6153228  -2.99620532]\t 33.30768443563021\t 18.964539418712707\t 2.8426640070070723\t 2.934352433688256\n",
            "10 \t [-0.72601294  2.16939856]\t 21.88421983789956\t 18.964539418712707\t 2.9799494987132342\t 2.939650156863273\n",
            "11 \t [-5.12        2.08416166]\t 34.63432936803451\t 18.964539418712707\t 3.0904786229970265\t 3.2399620123529167\n",
            "12 \t [5.12       2.45309991]\t 54.51135849958955\t 18.964539418712707\t 2.3550604378848266\t 2.4326445405291497\n",
            "13 \t [ 5.12       -2.31181541]\t 48.05626337070419\t 18.964539418712707\t 3.0295978928657408\t 3.1458552321473863\n",
            "14 \t [-2.68770754  3.85014094]\t 39.977126116240235\t 18.964539418712707\t 3.0992703137426836\t 3.121293008156387\n",
            "15 \t [ 2.83678006 -0.18927838]\t 19.173420229028864\t 18.964539418712707\t 2.8133934153557107\t 2.9167049037766692\n",
            "16 \t [ 2.0154992 -5.12     ]\t 33.034331810811146\t 18.964539418712707\t 2.7584723079412323\t 2.8350100164238015\n",
            "17 \t [2.14374591 5.12      ]\t 37.32921910464053\t 18.964539418712707\t 2.924098980402737\t 2.9727636249302902\n",
            "18 \t [-2.80497702 -5.12      ]\t 43.406588893521715\t 18.964539418712707\t 2.798497037194316\t 2.824212371522218\n",
            "19 \t [-2.24038174 -0.19774663]\t 21.229939134124294\t 18.964539418712707\t 2.8366346922446755\t 2.82059173393476\n",
            "\u001b[1m\u001b[92m20\u001b[0m\t \u001b[1m\u001b[92m[0.69558842 0.97492405]\u001b[0m\t \u001b[1m\u001b[92m14.910754523780657\u001b[0m\t \u001b[1m\u001b[92m14.910754523780657\u001b[0m\t \u001b[1m\u001b[92m2.9642668866321964\u001b[0m\t \u001b[1m\u001b[92m2.964266808319272\u001b[0m\n"
          ]
        }
      ],
      "source": [
        "### ESTIMATED GP EI GRADIENTS\n",
        "\n",
        "np.random.seed(run_num_2)\n",
        "surrogate_approx_2 = dGaussianProcess(cov_func, optimize=opt)\n",
        "\n",
        "approx_2 = GPGO_multi(surrogate_approx_2, Acquisition_grad(util), objfunc, param)\n",
        "approx_2.run(init_evals=n_init, max_iter=iters)\n"
      ]
    },
    {
      "cell_type": "code",
      "execution_count": 15,
      "metadata": {
        "id": "-dgzIrUIGCGT",
        "colab": {
          "base_uri": "https://localhost:8080/"
        },
        "outputId": "10650727-6d72-4c97-e667-2636a701a7e7"
      },
      "outputs": [
        {
          "output_type": "stream",
          "name": "stdout",
          "text": [
            "Evaluation \t Proposed point \t  Current eval. \t  Best eval. \t        Exact EI: StdDev. x \t Approx EI: StdDev. x \n",
            "init\t [0.52017052 2.1314337 ]\t 27.953858411008774\t 10.607662635789808\t    \t    \n",
            "init\t [-2.14113547  0.11087468]\t 10.607662635789808\t 10.607662635789808\t    \t    \n",
            "init\t [4.02377681 4.05804123]\t 33.42749829480097\t 10.607662635789808\t    \t    \n",
            "init\t [-3.83400642 -2.99783293]\t 28.650953928965198\t 10.607662635789808\t    \t    \n",
            "init\t [-4.59297584 -0.6061072 ]\t 57.6631355589384\t 10.607662635789808\t    \t    \n",
            "1  \t [ 5.12 -5.12]\t 57.849427451571785\t 10.607662635789808\t 2.2843844092193546\t 3.5381981287952384\n",
            "2  \t [-4.58598104  5.09615401]\t 67.34805411475848\t 10.607662635789808\t 2.827264994560911\t 3.6056321374777727\n",
            "3  \t [ 5.12       -0.40159059]\t 47.23449687509017\t 10.607662635789808\t 2.8209328891210568\t 3.13711279801698\n",
            "4  \t [ 0.29071879 -5.12      ]\t 41.53984859602956\t 10.607662635789808\t 2.6485122540385846\t 2.893072446816006\n",
            "5  \t [ 1.34928023 -1.51093882]\t 39.92108817354996\t 10.607662635789808\t 3.1582665144032833\t 2.7342240612842508\n",
            "6  \t [-0.77564295  5.12      ]\t 37.92210326468074\t 10.607662635789808\t 3.1988661710370527\t 3.3283695141794865\n",
            "7  \t [-2.80909137  2.45706373]\t 39.938357176557645\t 10.607662635789808\t 2.943654580588999\t 3.1820074769840483\n",
            "8  \t [-5.12 -5.12]\t 57.849427451571785\t 10.607662635789808\t 3.1314888503493608\t 3.376401067972401\n",
            "9  \t [-1.29224747 -2.45055449]\t 39.819817093743936\t 10.607662635789808\t 2.7641537489266375\t 2.825778420384498\n",
            "10 \t [2.9953562  1.38869416]\t 28.55746084336569\t 10.607662635789808\t 2.9784954634703977\t 2.9463857628154213\n",
            "11 \t [ 2.8558618  -3.62592172]\t 42.16148719707543\t 10.607662635789808\t 2.8988983844875356\t 2.924792393359406\n",
            "12 \t [-0.59182763  0.19459361]\t 25.357926691184534\t 10.607662635789808\t 2.817768287735281\t 2.7962704857043676\n",
            "13 \t [-2.3049665 -5.12     ]\t 47.62298270272791\t 10.607662635789808\t 2.995927751060544\t 3.112723716918172\n",
            "14 \t [1.80970563 5.12      ]\t 38.53570603269911\t 10.607662635789808\t 2.8151202358385063\t 2.8427390250494926\n",
            "15 \t [5.12       2.19523474]\t 40.37027067891998\t 10.607662635789808\t 2.931016213688984\t 2.955299440914183\n",
            "16 \t [-5.12        2.15369595]\t 37.87470795675007\t 10.607662635789808\t 3.0361275062518542\t 3.0428309444908463\n",
            "17 \t [-0.87023321  3.35305468]\t 31.176172151463238\t 10.607662635789808\t 2.7111604362804576\t 2.711160288260862\n",
            "18 \t [ 5.12       -2.64157229]\t 52.200429153295715\t 10.607662635789808\t 3.241127814800372\t 3.3159854555600505\n",
            "19 \t [5.12 5.12]\t 57.849427451571785\t 10.607662635789808\t 2.915397985944435\t 2.915397985944435\n",
            "20 \t [2.45194306 2.74121005]\t 43.62584777574738\t 10.607662635789808\t 2.5717801253761645\t 2.571780258445164\n"
          ]
        }
      ],
      "source": [
        "### ESTIMATED GP EI GRADIENTS\n",
        "\n",
        "np.random.seed(run_num_3)\n",
        "surrogate_approx_3 = dGaussianProcess(cov_func, optimize=opt)\n",
        "\n",
        "approx_3 = GPGO_multi(surrogate_approx_3, Acquisition_grad(util), objfunc, param)\n",
        "approx_3.run(init_evals=n_init, max_iter=iters)\n"
      ]
    },
    {
      "cell_type": "code",
      "execution_count": 16,
      "metadata": {
        "id": "hOtG-2sCGCKS",
        "colab": {
          "base_uri": "https://localhost:8080/"
        },
        "outputId": "7ced9992-9051-4a9b-c20f-d1f93dbe9f8b"
      },
      "outputs": [
        {
          "output_type": "stream",
          "name": "stdout",
          "text": [
            "Evaluation \t Proposed point \t  Current eval. \t  Best eval. \t        Exact EI: StdDev. x \t Approx EI: StdDev. x \n",
            "init\t [4.78238555 0.48365823]\t 51.03163809010808\t 14.323038259018315\t    \t    \n",
            "init\t [4.84028785 2.19971578]\t 39.78645699016559\t 14.323038259018315\t    \t    \n",
            "init\t [ 2.02474316 -2.90724357]\t 14.323038259018315\t 14.323038259018315\t    \t    \n",
            "init\t [ 4.87705042 -5.05620219]\t 52.80627247106233\t 14.323038259018315\t    \t    \n",
            "init\t [-2.52946061 -0.66773471]\t 41.61497868486559\t 14.323038259018315\t    \t    \n",
            "1  \t [-0.725119    4.70343433]\t 47.08929361009358\t 14.323038259018315\t 2.779033691364518\t 3.451029535707128\n",
            "2  \t [-5.12 -5.12]\t 57.849427451571785\t 14.323038259018315\t 3.566202271155747\t 3.035728922084201\n",
            "3  \t [-5.12        3.37449334]\t 57.36044065762211\t 14.323038259018315\t 3.338784990994051\t 3.545225616257827\n",
            "4  \t [-0.95956462 -5.12      ]\t 30.16648564294679\t 14.323038259018315\t 3.1624745536181345\t 3.232011025251065\n",
            "\u001b[1m\u001b[92m5\u001b[0m\t \u001b[1m\u001b[92m[0.90060427 1.06047657]\u001b[0m\t \u001b[1m\u001b[92m4.536570047777753\u001b[0m\t \u001b[1m\u001b[92m4.536570047777753\u001b[0m\t \u001b[1m\u001b[92m3.1465887823957965\u001b[0m\t \u001b[1m\u001b[92m3.1461243953003195\u001b[0m\n",
            "6  \t [2.98970738 5.12      ]\t 37.883967977574144\t 4.536570047777753\t 3.040660699409109\t 2.961724251525231\n",
            "7  \t [-5.12       -1.83363702]\t 37.27042291744746\t 4.536570047777753\t 2.449418636066414\t 2.5122436081502793\n",
            "8  \t [ 0.50293196 -0.9356943 ]\t 21.931983545671464\t 4.536570047777753\t 2.607559641261191\t 2.53598394706861\n",
            "9  \t [-2.00973109  2.11577013]\t 11.065165312807782\t 4.536570047777753\t 2.7567530313095445\t 2.9515138645073473\n",
            "10 \t [1.63654732 2.45087071]\t 44.75226360947178\t 4.536570047777753\t 3.5631742096500227\t 3.659907948298358\n",
            "11 \t [ 5.12       -2.25301204]\t 44.19001743406129\t 4.536570047777753\t 3.24739718164675\t 3.3184016878131715\n",
            "12 \t [ 1.82299922 -5.12      ]\t 37.82050164285002\t 4.536570047777753\t 2.9459268559736387\t 3.307408464897066\n",
            "13 \t [-5.12        0.71093267]\t 41.86023516726719\t 4.536570047777753\t 2.8267633217373342\t 3.101339337275412\n",
            "14 \t [-2.64861681 -3.36363376]\t 50.82562693369561\t 4.536570047777753\t 2.5519389532013554\t 2.5654404860367106\n",
            "15 \t [-3.28510015  5.12      ]\t 51.90416967527686\t 4.536570047777753\t 2.9407140391725686\t 3.1507838066192067\n",
            "16 \t [5.12 5.12]\t 57.849427451571785\t 4.536570047777753\t 2.9100575214666256\t 2.908952932784783\n",
            "17 \t [ 2.4535145 -0.3982594]\t 43.780227131287056\t 4.536570047777753\t 2.821672452656968\t 2.8337002461701357\n",
            "18 \t [-0.36338969  1.09773601]\t 19.70100074946454\t 4.536570047777753\t 2.9157339362810886\t 2.875016598788771\n",
            "19 \t [-0.10204903 -4.13543769]\t 22.505966363821717\t 4.536570047777753\t 3.030841537500535\t 3.030841886482932\n",
            "20 \t [1.47997647 4.582926  ]\t 61.78752519985075\t 4.536570047777753\t 2.7574153681780933\t 2.7574153681780933\n"
          ]
        }
      ],
      "source": [
        "### ESTIMATED GP EI GRADIENTS\n",
        "\n",
        "np.random.seed(run_num_4)\n",
        "surrogate_approx_4 = dGaussianProcess(cov_func, optimize=opt)\n",
        "\n",
        "approx_4= GPGO_multi(surrogate_approx_4, Acquisition_grad(util), objfunc, param)\n",
        "approx_4.run(init_evals=n_init, max_iter=iters)\n"
      ]
    },
    {
      "cell_type": "code",
      "execution_count": 17,
      "metadata": {
        "id": "JF_SxcEvGCOl",
        "colab": {
          "base_uri": "https://localhost:8080/"
        },
        "outputId": "58ec7a71-4628-48f6-feb1-d9df7eefb147"
      },
      "outputs": [
        {
          "output_type": "stream",
          "name": "stdout",
          "text": [
            "Evaluation \t Proposed point \t  Current eval. \t  Best eval. \t        Exact EI: StdDev. x \t Approx EI: StdDev. x \n",
            "init\t [-2.84678993  3.79629882]\t 33.93442008827236\t 7.8108627039749745\t    \t    \n",
            "init\t [-3.00319585  4.2865757 ]\t 39.673876075575784\t 7.8108627039749745\t    \t    \n",
            "init\t [-0.11866943  1.14425716]\t 7.8108627039749745\t 7.8108627039749745\t    \t    \n",
            "init\t [2.72289645 0.1886002 ]\t 25.38160395721669\t 7.8108627039749745\t    \t    \n",
            "init\t [-2.08076286 -3.19773462]\t 22.589982116319675\t 7.8108627039749745\t    \t    \n",
            "1  \t [ 5.12       -4.82903736]\t 57.479869542519225\t 7.8108627039749745\t 4.439288727207343\t 4.582275932834482\n",
            "2  \t [5.12 5.12]\t 57.849427451571785\t 7.8108627039749745\t 4.1883282889882185\t 4.236168617454697\n",
            "3  \t [-5.12       -0.04624557]\t 29.346043690983517\t 7.8108627039749745\t 3.5165279045411024\t 3.7211945051062005\n",
            "4  \t [1.0036762 5.12     ]\t 29.934747157922068\t 7.8108627039749745\t 3.4304771566147316\t 3.826679519981524\n",
            "5  \t [-5.12 -5.12]\t 57.849427451571785\t 7.8108627039749745\t 3.3176134743348342\t 3.4128706676125646\n",
            "6  \t [ 1.10695286 -5.12      ]\t 32.3243059157884\t 7.8108627039749745\t 3.2652114527234373\t 3.619777379125749\n",
            "7  \t [ 5.12       -1.43807824]\t 50.24542065302682\t 7.8108627039749745\t 2.480158570823474\t 2.566808532183299\n",
            "8  \t [ 0.60095334 -1.87987936]\t 24.665412562812858\t 7.8108627039749745\t 3.072411727047201\t 2.933789003693327\n",
            "9  \t [5.12       1.92590917]\t 33.69798595846935\t 7.8108627039749745\t 3.0639545381704516\t 3.054616473091465\n",
            "10 \t [-2.19754536  0.01747369]\t 11.65324272170499\t 7.8108627039749745\t 2.9383325581397424\t 2.858212801137138\n",
            "11 \t [2.18576481 2.78412672]\t 26.473746691873504\t 7.8108627039749745\t 2.9300995993439325\t 2.9942144303517675\n",
            "12 \t [-5.12        2.61671842]\t 53.20120093601525\t 7.8108627039749745\t 2.8367103444729054\t 3.138003218310417\n",
            "13 \t [-5.12       -2.41250635]\t 53.271510795281365\t 7.8108627039749745\t 3.0746664995227655\t 3.1068894171629604\n",
            "14 \t [ 2.79552395 -3.03521504]\t 24.449763495352627\t 7.8108627039749745\t 2.493111563592715\t 2.7164278400571855\n",
            "15 \t [-1.68215329 -5.12      ]\t 45.889341503848755\t 7.8108627039749745\t 2.8104990282463755\t 2.9592679152602046\n",
            "16 \t [-0.5525313   2.80290336]\t 34.35863337550727\t 7.8108627039749745\t 2.645761664356642\t 2.9018444163910924\n",
            "\u001b[1m\u001b[92m17\u001b[0m\t \u001b[1m\u001b[92m[-0.13848911  0.11768168]\u001b[0m\t \u001b[1m\u001b[92m6.19730681045638\u001b[0m\t \u001b[1m\u001b[92m6.19730681045638\u001b[0m\t \u001b[1m\u001b[92m2.7170359264627355\u001b[0m\t \u001b[1m\u001b[92m2.699101162065017\u001b[0m\n",
            "18 \t [-2.74272729  1.33635969]\t 34.92897136802189\t 6.19730681045638\t 2.8328806943720797\t 2.8222607651015594\n",
            "19 \t [-1.85557172 -1.21696266]\t 16.705807595455354\t 6.19730681045638\t 2.6430822353144876\t 2.6319293246831967\n",
            "20 \t [0.60700901 0.51646557]\t 38.40528388084505\t 6.19730681045638\t 2.907642222055336\t 2.9421758948746817\n"
          ]
        }
      ],
      "source": [
        "### ESTIMATED GP EI GRADIENTS\n",
        "\n",
        "np.random.seed(run_num_5)\n",
        "surrogate_approx_5 = dGaussianProcess(cov_func, optimize=opt)\n",
        "\n",
        "approx_5 = GPGO_multi(surrogate_approx_5, Acquisition_grad(util), objfunc, param)\n",
        "approx_5.run(init_evals=n_init, max_iter=iters)\n"
      ]
    },
    {
      "cell_type": "code",
      "execution_count": 18,
      "metadata": {
        "id": "-kDxZtJsGCR3",
        "colab": {
          "base_uri": "https://localhost:8080/"
        },
        "outputId": "6d176f63-9666-4cc2-df96-493f7163df43"
      },
      "outputs": [
        {
          "output_type": "stream",
          "name": "stdout",
          "text": [
            "Evaluation \t Proposed point \t  Current eval. \t  Best eval. \t        Exact EI: StdDev. x \t Approx EI: StdDev. x \n",
            "init\t [ 4.02288795 -1.72052679]\t 31.08835710146886\t 17.28954482757088\t    \t    \n",
            "init\t [ 3.28938622 -4.69302655]\t 58.797867722203385\t 17.28954482757088\t    \t    \n",
            "init\t [-4.0175956   0.97333314]\t 17.28954482757088\t 17.28954482757088\t    \t    \n",
            "init\t [ 0.30532979 -0.83141193]\t 19.296253155889353\t 17.28954482757088\t    \t    \n",
            "init\t [-1.68542362  1.25459899]\t 28.650630936276173\t 17.28954482757088\t    \t    \n",
            "1  \t [-3.50667256 -4.82169963]\t 61.18257704012903\t 17.28954482757088\t 3.9680185870189377\t 4.105383052528886\n",
            "2  \t [5.12 5.12]\t 57.849427451571785\t 17.28954482757088\t 3.727032422157785\t 3.9636216842029177\n",
            "3  \t [-5.12  5.12]\t 57.849427451571785\t 17.28954482757088\t 3.396194395683867\t 3.8278126138990527\n",
            "4  \t [0.39543277 5.12      ]\t 46.99926783910192\t 17.28954482757088\t 3.252910132148738\t 3.4662016903505632\n",
            "5  \t [2.84230486 1.9125096 ]\t 17.729696801501444\t 17.28954482757088\t 2.8557564032738156\t 3.108709224285895\n",
            "6  \t [-5.12      -1.8031023]\t 38.90093719311915\t 17.28954482757088\t 3.0405871116913046\t 3.1589654883576515\n",
            "7  \t [-0.11783034 -4.27592466]\t 32.53679085510694\t 17.28954482757088\t 3.256573557406453\t 3.2374950534314104\n",
            "8  \t [5.12       1.12166498]\t 32.965170583199246\t 17.28954482757088\t 3.1755277495849072\t 3.132214792264566\n",
            "\u001b[1m\u001b[92m9\u001b[0m\t \u001b[1m\u001b[92m[-2.15237593 -1.84292635]\u001b[0m\t \u001b[1m\u001b[92m16.76007290875745\u001b[0m\t \u001b[1m\u001b[92m16.76007290875745\u001b[0m\t \u001b[1m\u001b[92m2.715559954972926\u001b[0m\t \u001b[1m\u001b[92m2.7381896200072977\u001b[0m\n",
            "10 \t [-2.3476974   4.03942894]\t 37.89417227012945\t 16.76007290875745\t 2.7766177650416033\t 2.846556944898784\n",
            "11 \t [-5.12        2.43494814]\t 54.029937912217044\t 16.76007290875745\t 3.318459940086863\t 3.4147548028161636\n",
            "12 \t [0.64354391 2.21401236]\t 29.27515165284185\t 16.76007290875745\t 2.906555193139229\t 2.821744801151678\n",
            "13 \t [ 1.64081139 -2.38179745]\t 42.06662703138443\t 16.76007290875745\t 2.714257131798855\t 2.7042230975467305\n",
            "14 \t [2.74690501 4.14295025]\t 38.67365225173448\t 16.76007290875745\t 3.0165925631888233\t 2.970344883402639\n",
            "15 \t [-3.14397242 -0.44794016]\t 33.375030214857496\t 16.76007290875745\t 2.9124306961540127\t 2.93733879476109\n",
            "16 \t [ 5.12       -3.46514519]\t 60.69309845149563\t 16.76007290875745\t 2.894973524105078\t 2.9010421460350506\n",
            "17 \t [2.39403835 0.12595988]\t 26.583365081569813\t 16.76007290875745\t 3.3233762523896937\t 3.315654581513884\n",
            "18 \t [-1.18027646 -2.58115549]\t 32.54120687038727\t 16.76007290875745\t 2.985921495091336\t 2.974326917315978\n",
            "19 \t [ 1.64771181 -5.04664027]\t 44.60341226542793\t 16.76007290875745\t 3.1737892018369624\t 3.1737892018369624\n",
            "20 \t [-3.8240752  -2.91744674]\t 29.96233531213317\t 16.76007290875745\t 3.0171530076811406\t 3.0171530076811406\n"
          ]
        }
      ],
      "source": [
        "### ESTIMATED GP EI GRADIENTS\n",
        "\n",
        "np.random.seed(run_num_6)\n",
        "surrogate_approx_6 = dGaussianProcess(cov_func, optimize=opt)\n",
        "\n",
        "approx_6 = GPGO_multi(surrogate_approx_6, Acquisition_grad(util), objfunc, param)\n",
        "approx_6.run(init_evals=n_init, max_iter=iters)\n"
      ]
    },
    {
      "cell_type": "code",
      "execution_count": 19,
      "metadata": {
        "id": "fKB8MCD_GCVI",
        "colab": {
          "base_uri": "https://localhost:8080/"
        },
        "outputId": "dff3209a-69d9-4c3b-d037-4193f748a583"
      },
      "outputs": [
        {
          "output_type": "stream",
          "name": "stdout",
          "text": [
            "Evaluation \t Proposed point \t  Current eval. \t  Best eval. \t        Exact EI: StdDev. x \t Approx EI: StdDev. x \n",
            "init\t [-4.33860312  2.86636843]\t 45.646133072936244\t 22.52235437888213\t    \t    \n",
            "init\t [-0.63068947  2.28828342]\t 34.83012662845338\t 22.52235437888213\t    \t    \n",
            "init\t [4.8946126  0.39419771]\t 44.09657005662876\t 22.52235437888213\t    \t    \n",
            "init\t [ 0.01147355 -4.38219639]\t 36.613209822404315\t 22.52235437888213\t    \t    \n",
            "init\t [-2.37118484e+00 -1.20319155e-03]\t 22.52235437888213\t 22.52235437888213\t    \t    \n",
            "1  \t [-5.12 -5.12]\t 57.849427451571785\t 22.52235437888213\t 2.6946764150317684\t 3.244799883277698\n",
            "2  \t [ 5.12 -5.12]\t 57.849427451571785\t 22.52235437888213\t 3.4693731924605054\t 3.6041152476781435\n",
            "3  \t [3.59149839 5.12      ]\t 60.2160338418595\t 22.52235437888213\t 3.626259897983232\t 3.3373767916448807\n",
            "4  \t [-4.02558214 -1.33646422]\t 33.289738493146906\t 22.52235437888213\t 2.8859422840725997\t 2.8729807347858736\n",
            "\u001b[1m\u001b[92m5\u001b[0m\t \u001b[1m\u001b[92m[ 1.40596235 -0.96124904]\u001b[0m\t \u001b[1m\u001b[92m21.50032083175134\u001b[0m\t \u001b[1m\u001b[92m21.50032083175134\u001b[0m\t \u001b[1m\u001b[92m3.193003175339506\u001b[0m\t \u001b[1m\u001b[92m3.160981925574668\u001b[0m\n",
            "6  \t [-1.80774685  5.12      ]\t 38.643409403005194\t 21.50032083175134\t 3.1952633212404478\t 3.3219562945928143\n",
            "7  \t [2.33744372 2.13046858]\t 28.400530072387475\t 21.50032083175134\t 2.863792398755494\t 2.785987580231125\n",
            "8  \t [ 3.57934996 -2.5392969 ]\t 57.739168349762295\t 21.50032083175134\t 3.074087755077032\t 3.3810149848757236\n",
            "9  \t [-2.52339258 -3.63387343]\t 56.13077384993756\t 21.50032083175134\t 3.1654877697537502\t 3.190447436505558\n",
            "10 \t [-5.12  5.12]\t 57.849427451571785\t 21.50032083175134\t 3.258189832973627\t 3.249508150752329\n",
            "11 \t [0.80580147 5.12      ]\t 36.139312844807364\t 21.50032083175134\t 3.0093811102701085\t 3.000365379060955\n",
            "12 \t [ 2.3217479 -5.12     ]\t 48.6721326358543\t 21.50032083175134\t 3.0694382713691444\t 3.1387596266075004\n",
            "13 \t [5.12       2.99415784]\t 37.89643128812587\t 21.50032083175134\t 3.0541279873217984\t 3.055491514671132\n",
            "14 \t [-0.64386992 -1.53213334]\t 38.74389531627746\t 21.50032083175134\t 2.656442721837851\t 2.665544431558604\n",
            "15 \t [ 3.25667925 -0.42133209]\t 40.00610812124381\t 21.50032083175134\t 3.238019951283343\t 3.238019476221095\n",
            "16 \t [-5.12        0.58600141]\t 47.84333224570643\t 21.50032083175134\t 2.6116703216759456\t 2.6668717029734657\n",
            "\u001b[1m\u001b[92m17\u001b[0m\t \u001b[1m\u001b[92m[-2.19405477  0.94961621]\u001b[0m\t \u001b[1m\u001b[92m12.769362746067559\u001b[0m\t \u001b[1m\u001b[92m12.769362746067559\u001b[0m\t \u001b[1m\u001b[92m2.4035820692005196\u001b[0m\t \u001b[1m\u001b[92m2.4035820692005196\u001b[0m\n",
            "18 \t [ 1.19347349 -2.25353536]\t 23.24745028953262\t 12.769362746067559\t 3.2439124322868076\t 3.2439124322868076\n",
            "19 \t [0.63513382 0.61051857]\t 35.067259714555505\t 12.769362746067559\t 3.086012003673188\t 3.0853883394756605\n",
            "20 \t [-3.55098647  4.45289609]\t 71.4942359968112\t 12.769362746067559\t 2.9635169418945773\t 2.9635169418945773\n"
          ]
        }
      ],
      "source": [
        "### ESTIMATED GP EI GRADIENTS\n",
        "\n",
        "np.random.seed(run_num_7)\n",
        "surrogate_approx_7 = dGaussianProcess(cov_func, optimize=opt)\n",
        "\n",
        "approx_7 = GPGO_multi(surrogate_approx_7, Acquisition_grad(util), objfunc, param)\n",
        "approx_7.run(init_evals=n_init, max_iter=iters)\n"
      ]
    },
    {
      "cell_type": "code",
      "execution_count": 20,
      "metadata": {
        "id": "4unvifF-GCXp",
        "colab": {
          "base_uri": "https://localhost:8080/"
        },
        "outputId": "a9e92ef6-0dc0-49e6-a09a-03a2ab191830"
      },
      "outputs": [
        {
          "output_type": "stream",
          "name": "stdout",
          "text": [
            "Evaluation \t Proposed point \t  Current eval. \t  Best eval. \t        Exact EI: StdDev. x \t Approx EI: StdDev. x \n",
            "init\t [3.82391708 4.79785639]\t 50.20079446939181\t 13.871821018360485\t    \t    \n",
            "init\t [3.78055209 0.31596228]\t 36.5114251593508\t 13.871821018360485\t    \t    \n",
            "init\t [-2.73686192 -5.00327624]\t 43.34985765011677\t 13.871821018360485\t    \t    \n",
            "init\t [-0.7119993  -0.99992207]\t 13.871821018360485\t 13.871821018360485\t    \t    \n",
            "init\t [ 0.23218863 -0.22126801]\t 17.190590355445654\t 13.871821018360485\t    \t    \n",
            "1  \t [-3.0806152  4.133207 ]\t 31.132007518706615\t 13.871821018360485\t 3.176137781904424\t 4.054701997897114\n",
            "2  \t [ 5.12 -5.12]\t 57.849427451571785\t 13.871821018360485\t 3.414172364260174\t 3.707175132009906\n",
            "3  \t [-5.12      -0.3997565]\t 47.165686743552875\t 13.871821018360485\t 2.784919359438303\t 3.306492832453685\n",
            "4  \t [ 1.18398223 -4.4095726 ]\t 45.24491780190496\t 13.871821018360485\t 3.3053240918875484\t 3.2221293094378307\n",
            "5  \t [0.42090835 3.28847081]\t 42.175345427691205\t 13.871821018360485\t 3.0678141092609126\t 2.9356455549716394\n",
            "6  \t [-2.38772429  1.21886845]\t 32.85646910495392\t 13.871821018360485\t 3.133634379288326\t 3.1997392557400723\n",
            "7  \t [ 5.12       -2.11274933]\t 35.794547153674415\t 13.871821018360485\t 3.035873029854408\t 3.1359016141781133\n",
            "8  \t [-5.12       -3.49167104]\t 61.10279014822457\t 13.871821018360485\t 3.1955642065118885\t 3.109478686439081\n",
            "9  \t [-5.12        2.62377366]\t 52.934244171717374\t 13.871821018360485\t 2.756484172597269\t 3.222599166093242\n",
            "10 \t [5.12       2.45000555]\t 54.43791383891174\t 13.871821018360485\t 2.9867217702266378\t 3.1019062817418503\n",
            "11 \t [-2.40453183 -2.09518806]\t 30.16166348790591\t 13.871821018360485\t 2.8777769724821676\t 2.880704142054897\n",
            "12 \t [ 2.13222447 -1.86139658]\t 14.826652991947803\t 13.871821018360485\t 2.5510066177881145\t 2.5900497593832355\n",
            "13 \t [-5.12  5.12]\t 57.849427451571785\t 13.871821018360485\t 2.656776262787815\t 2.8487219516318687\n",
            "14 \t [1.72917894 1.31535499]\t 30.016655226959543\t 13.871821018360485\t 2.9041577045090783\t 2.9172341285471206\n",
            "15 \t [ 3.24236143 -3.38194437]\t 48.84346436326578\t 13.871821018360485\t 2.696072109523489\t 2.727010395283119\n",
            "16 \t [-0.29481436 -2.72373336]\t 31.927246376218026\t 13.871821018360485\t 2.6957708349630356\t 2.7023327185114545\n",
            "17 \t [-0.7448721   0.60054414]\t 29.307654361676434\t 13.871821018360485\t 3.074566559089236\t 3.0745665542678458\n",
            "18 \t [0.68465518 4.4767246 ]\t 54.39442390069189\t 13.871821018360485\t 3.0466430439210597\t 3.0466430439210597\n",
            "19 \t [ 1.55364981 -0.95896665]\t 23.10116957943557\t 13.871821018360485\t 2.5648556846966786\t 2.564418743440538\n",
            "20 \t [-2.29349869  3.07090807]\t 28.365985948307426\t 13.871821018360485\t 2.6501971260955455\t 2.6501971260955455\n"
          ]
        }
      ],
      "source": [
        "### ESTIMATED GP EI GRADIENTS\n",
        "\n",
        "np.random.seed(run_num_8)\n",
        "surrogate_approx_8 = dGaussianProcess(cov_func, optimize=opt)\n",
        "\n",
        "approx_8 = GPGO_multi(surrogate_approx_8, Acquisition_grad(util), objfunc, param)\n",
        "approx_8.run(init_evals=n_init, max_iter=iters)\n"
      ]
    },
    {
      "cell_type": "code",
      "execution_count": 21,
      "metadata": {
        "id": "85OIXcg7GCaJ",
        "colab": {
          "base_uri": "https://localhost:8080/"
        },
        "outputId": "c69f44fd-a81b-4c36-ec63-66b95df14e79"
      },
      "outputs": [
        {
          "output_type": "stream",
          "name": "stdout",
          "text": [
            "Evaluation \t Proposed point \t  Current eval. \t  Best eval. \t        Exact EI: StdDev. x \t Approx EI: StdDev. x \n",
            "init\t [-5.01376866  0.01919582]\t 25.248289026162446\t 24.454800313488693\t    \t    \n",
            "init\t [-0.04328148 -3.74958562]\t 24.454800313488693\t 24.454800313488693\t    \t    \n",
            "init\t [-3.66478248 -2.88195916]\t 39.46509426509438\t 24.454800313488693\t    \t    \n",
            "init\t [-0.83447623 -2.57944404]\t 31.06766397812992\t 24.454800313488693\t    \t    \n",
            "init\t [-4.25922917 -1.58209393]\t 49.922543556206975\t 24.454800313488693\t    \t    \n",
            "1  \t [3.69491889 4.82146316]\t 55.95031066333101\t 24.454800313488693\t 2.960558334333079\t 3.1184700031107737\n",
            "2  \t [-2.19783419  5.08509724]\t 38.865079003621986\t 24.454800313488693\t 2.830045827426535\t 3.6945956560364253\n",
            "3  \t [ 5.10403422 -0.68377903]\t 42.62189006051864\t 24.454800313488693\t 2.5443225261467286\t 2.8430015705157237\n",
            "4  \t [ 4.49598384 -5.12      ]\t 69.13540074312841\t 24.454800313488693\t 2.839526852419668\t 3.3078174480374667\n",
            "5  \t [0.62551273 1.48387673]\t 39.59013720699193\t 24.454800313488693\t 2.987659360567232\t 2.7228593105800685\n",
            "6  \t [-5.12        3.40977743]\t 58.987073427462974\t 24.454800313488693\t 2.6593800427572885\t 3.0432200541754075\n",
            "7  \t [ 2.19628988 -1.69861043]\t 27.57103935802898\t 24.454800313488693\t 2.666587741885879\t 2.6526988043350834\n",
            "8  \t [-2.38066491  1.4309299 ]\t 44.10634023103434\t 24.454800313488693\t 2.8272314778004284\t 2.8084410600363263\n",
            "9  \t [0.68700112 5.12      ]\t 43.252459182559846\t 24.454800313488693\t 3.014923026700382\t 3.218139752494825\n",
            "10 \t [3.74062802 1.83503827]\t 32.85569847648829\t 24.454800313488693\t 2.806618456496514\t 2.743483581695537\n",
            "11 \t [-5.12 -5.12]\t 57.849427451571785\t 24.454800313488693\t 3.132876824301398\t 3.1305756870434145\n",
            "12 \t [-0.76181587 -0.5260816 ]\t 29.98141809442084\t 24.454800313488693\t 2.9262490753262136\t 2.899364954644593\n",
            "13 \t [-0.82679503  3.25049382]\t 26.640220937083797\t 24.454800313488693\t 2.2895464654247775\t 2.2855936332159654\n",
            "14 \t [ 1.62973671 -5.12      ]\t 48.438276683283206\t 24.454800313488693\t 2.607700003138068\t 2.678483706915408\n",
            "15 \t [ 5.12       -2.82655051]\t 42.2876101165558\t 24.454800313488693\t 2.7748834882961777\t 2.835540747272315\n",
            "16 \t [2.48033675 0.1504239 ]\t 30.242190234080475\t 24.454800313488693\t 2.9816340682261844\t 2.9807056741363747\n",
            "17 \t [-2.34863671 -3.58784536]\t 52.71211119050644\t 24.454800313488693\t 2.6698008780416065\t 2.6698006721116427\n",
            "\u001b[1m\u001b[92m18\u001b[0m\t \u001b[1m\u001b[92m[1.93596386 3.15843988]\u001b[0m\t \u001b[1m\u001b[92m19.081494544518144\u001b[0m\t \u001b[1m\u001b[92m19.081494544518144\u001b[0m\t \u001b[1m\u001b[92m2.834220491925447\u001b[0m\t \u001b[1m\u001b[92m2.835699479114915\u001b[0m\n",
            "19 \t [ 2.25636219 -3.10193573]\t 27.094733360862847\t 19.081494544518144\t 2.8943624328045763\t 2.894362946530632\n",
            "\u001b[1m\u001b[92m20\u001b[0m\t \u001b[1m\u001b[92m[ 0.91410357 -0.70379965]\u001b[0m\t \u001b[1m\u001b[92m15.61456315105384\u001b[0m\t \u001b[1m\u001b[92m15.61456315105384\u001b[0m\t \u001b[1m\u001b[92m3.1011919369383185\u001b[0m\t \u001b[1m\u001b[92m3.1011919369383185\u001b[0m\n"
          ]
        }
      ],
      "source": [
        "### ESTIMATED GP EI GRADIENTS\n",
        "\n",
        "np.random.seed(run_num_9)\n",
        "surrogate_approx_9 = dGaussianProcess(cov_func, optimize=opt)\n",
        "\n",
        "approx_9 = GPGO_multi(surrogate_approx_9, Acquisition_grad(util), objfunc, param)\n",
        "approx_9.run(init_evals=n_init, max_iter=iters)\n"
      ]
    },
    {
      "cell_type": "code",
      "execution_count": 22,
      "metadata": {
        "id": "QQBR-qJPGCcp",
        "colab": {
          "base_uri": "https://localhost:8080/"
        },
        "outputId": "c039004e-a331-4be4-c171-088ae4589984"
      },
      "outputs": [
        {
          "output_type": "stream",
          "name": "stdout",
          "text": [
            "Evaluation \t Proposed point \t  Current eval. \t  Best eval. \t        Exact EI: StdDev. x \t Approx EI: StdDev. x \n",
            "init\t [ 2.77832339 -4.90750004]\t 41.674330194390116\t 13.839458310244165\t    \t    \n",
            "init\t [1.36855793 2.54775176]\t 44.69639719065837\t 13.839458310244165\t    \t    \n",
            "init\t [-0.01528819 -2.81808235]\t 13.839458310244165\t 13.839458310244165\t    \t    \n",
            "init\t [-3.09183626  2.66783449]\t 33.23221510904937\t 13.839458310244165\t    \t    \n",
            "init\t [-3.38830503 -4.2154003 ]\t 54.73014366983691\t 13.839458310244165\t    \t    \n",
            "1  \t [ 5.12       -0.56861561]\t 48.3330009926578\t 13.839458310244165\t 3.3745699467249093\t 3.6154102489595243\n",
            "2  \t [5.12 5.12]\t 57.849427451571785\t 13.839458310244165\t 2.992719911283702\t 2.9900989332591728\n",
            "3  \t [-5.12       -0.60617894]\t 47.14809917879027\t 13.839458310244165\t 3.02439892141977\t 3.086123925795964\n",
            "4  \t [-5.12  5.12]\t 57.849427451571785\t 13.839458310244165\t 3.233344809483178\t 3.2735470914222984\n",
            "5  \t [-0.83793552  5.12      ]\t 34.37855163876708\t 13.839458310244165\t 3.1891790995316422\t 3.166432294310822\n",
            "\u001b[1m\u001b[92m6\u001b[0m\t \u001b[1m\u001b[92m[-1.23133442 -0.10555881]\u001b[0m\t \u001b[1m\u001b[92m12.477239332775426\u001b[0m\t \u001b[1m\u001b[92m12.477239332775426\u001b[0m\t \u001b[1m\u001b[92m3.053061024637261\u001b[0m\t \u001b[1m\u001b[92m2.853153999082134\u001b[0m\n",
            "7  \t [ 1.89650562 -0.79267999]\t 13.616260674564558\t 12.477239332775426\t 2.931026011231575\t 2.9861572136394483\n",
            "8  \t [-0.3844307 -5.12     ]\t 46.54990825129097\t 12.477239332775426\t 2.8985426588159653\t 3.2097069138509062\n",
            "9  \t [ 5.12      -3.5989046]\t 60.007261060501904\t 12.477239332775426\t 3.094215142549169\t 3.3671338051508712\n",
            "10 \t [4.53189846 2.23123815]\t 54.14023660233996\t 12.477239332775426\t 3.2898576325872995\t 3.2899674633192766\n",
            "11 \t [2.14106079 5.12      ]\t 37.1861118887432\t 12.477239332775426\t 2.647076595365044\t 2.8310017457347305\n",
            "12 \t [-2.40776964 -1.64851821]\t 42.835248916276\t 12.477239332775426\t 3.056450186007167\t 3.107529067391188\n",
            "13 \t [-0.92614629  1.57312337]\t 23.35290785182595\t 12.477239332775426\t 3.0174003001486005\t 3.047052429506464\n",
            "14 \t [-5.12        2.04460693]\t 33.49533337203707\t 12.477239332775426\t 2.841247042089575\t 2.9114948739682096\n",
            "15 \t [ 2.34622191 -2.44967245]\t 46.69400405683399\t 12.477239332775426\t 3.004501874017527\t 3.0251980233721127\n",
            "16 \t [-5.12 -5.12]\t 57.849427451571785\t 12.477239332775426\t 3.1149057139752414\t 3.1429756220061376\n",
            "17 \t [2.50557642 0.4181669 ]\t 45.153638988613814\t 12.477239332775426\t 2.9061724624898355\t 2.9278310782313506\n",
            "18 \t [-5.12       -2.67621243]\t 50.55872444832124\t 12.477239332775426\t 2.7577720408587467\t 2.7591700859593717\n",
            "19 \t [ 0.23652667 -0.75066886]\t 19.731879660672092\t 12.477239332775426\t 2.532153760721562\t 2.524823922801687\n",
            "20 \t [-3.07730341  4.02975103]\t 27.039468593004102\t 12.477239332775426\t 3.2383237207813633\t 3.238323683746251\n"
          ]
        }
      ],
      "source": [
        "### ESTIMATED GP EI GRADIENTS\n",
        "\n",
        "np.random.seed(run_num_10)\n",
        "surrogate_approx_10 = dGaussianProcess(cov_func, optimize=opt)\n",
        "\n",
        "approx_10 = GPGO_multi(surrogate_approx_10, Acquisition_grad(util), objfunc, param)\n",
        "approx_10.run(init_evals=n_init, max_iter=iters)\n"
      ]
    },
    {
      "cell_type": "code",
      "execution_count": 23,
      "metadata": {
        "id": "JS8ejeQ2GCfi",
        "colab": {
          "base_uri": "https://localhost:8080/"
        },
        "outputId": "72f2eb7f-5b39-4755-bc34-3ecd4b375e4c"
      },
      "outputs": [
        {
          "output_type": "stream",
          "name": "stdout",
          "text": [
            "Evaluation \t Proposed point \t  Current eval. \t  Best eval. \t        Exact EI: StdDev. x \t Approx EI: StdDev. x \n",
            "init\t [-3.27403839 -4.92057353]\t 47.655641290890955\t 10.679755252484755\t    \t    \n",
            "init\t [-0.37664229  2.30332343]\t 35.87889240695259\t 10.679755252484755\t    \t    \n",
            "init\t [-0.81711509 -0.14922651]\t 10.679755252484755\t 10.679755252484755\t    \t    \n",
            "init\t [-4.98912446 -0.12931474]\t 28.05462905574235\t 10.679755252484755\t    \t    \n",
            "init\t [4.52410012 3.59214172]\t 71.62694632141611\t 10.679755252484755\t    \t    \n",
            "1  \t [ 3.73199474 -5.12      ]\t 53.981390735335026\t 10.679755252484755\t 2.8317385755561557\t 3.990253077837898\n",
            "2  \t [-5.12  5.12]\t 57.849427451571785\t 10.679755252484755\t 2.4135034019716586\t 3.3969422440748476\n",
            "3  \t [ 5.12       -0.89340927]\t 31.882996692851666\t 10.679755252484755\t 3.2529696135579944\t 3.3675906147935795\n",
            "4  \t [ 0.31355599 -3.36749583]\t 42.056325684297455\t 10.679755252484755\t 2.568201889217903\t 2.4333104581372536\n",
            "5  \t [1.20983396 5.12      ]\t 37.891409352494065\t 10.679755252484755\t 2.7916799153998104\t 2.7163337250217054\n",
            "6  \t [2.15080898 0.11826719]\t 11.439528409028776\t 10.679755252484755\t 2.8742062219590063\t 2.8669983589364163\n",
            "7  \t [-1.93524339  5.12      ]\t 33.48627181819643\t 10.679755252484755\t 3.193781360073763\t 3.290664429745279\n",
            "8  \t [-3.48347032  2.27241254]\t 48.648110932758904\t 10.679755252484755\t 2.755478297838042\t 2.992943737473517\n",
            "9  \t [-2.67789024 -1.87845744]\t 27.854060362677878\t 10.679755252484755\t 3.164568959654969\t 3.0167019858468294\n",
            "10 \t [-5.12       -2.92559813]\t 38.55677414703564\t 10.679755252484755\t 2.9896684141706955\t 2.8190389405364953\n",
            "11 \t [ 2.83473657 -2.22574755]\t 26.395587101097433\t 10.679755252484755\t 3.178115128800512\t 3.103221677615749\n",
            "12 \t [2.20443375 2.05642817]\t 16.886332677312616\t 10.679755252484755\t 3.064296486883233\t 2.967335352015482\n",
            "13 \t [5.12       1.17109827]\t 35.53923307295294\t 10.679755252484755\t 2.8734574856784802\t 2.9318603047389464\n",
            "14 \t [ 0.63093373 -0.73443358]\t 28.716564697288565\t 10.679755252484755\t 3.0526188879326592\t 3.054193185675222\n",
            "15 \t [-0.79709635 -5.12      ]\t 36.64392346764152\t 10.679755252484755\t 2.929967851187511\t 2.9063170182648888\n",
            "16 \t [-5.01765715 -4.69688599]\t 60.57474938121621\t 10.679755252484755\t 3.1553220392164056\t 3.1333393802949705\n",
            "17 \t [-2.12985269  0.23382398]\t 16.72411043968686\t 10.679755252484755\t 2.3917415006309857\t 2.4018576806098384\n",
            "18 \t [ 5.12       -3.18030353]\t 44.79851531030053\t 10.679755252484755\t 2.8278828846593234\t 2.864502116449113\n",
            "19 \t [2.81838208 1.45745273]\t 35.54664365591634\t 10.679755252484755\t 2.7047251209185372\t 2.7047248330370026\n",
            "20 \t [ 2.17713294 -0.83168554]\t 16.101447219533263\t 10.679755252484755\t 2.9417345195836453\t 2.9417345195836453\n"
          ]
        }
      ],
      "source": [
        "### ESTIMATED GP EI GRADIENTS\n",
        "\n",
        "np.random.seed(run_num_11)\n",
        "surrogate_approx_11 = dGaussianProcess(cov_func, optimize=opt)\n",
        "\n",
        "approx_11 = GPGO_multi(surrogate_approx_11, Acquisition_grad(util), objfunc, param)\n",
        "approx_11.run(init_evals=n_init, max_iter=iters)\n"
      ]
    },
    {
      "cell_type": "code",
      "execution_count": 24,
      "metadata": {
        "id": "DXwjUVZ4GCii",
        "colab": {
          "base_uri": "https://localhost:8080/"
        },
        "outputId": "376f71c5-2e6e-406d-c7d2-8ead35651036"
      },
      "outputs": [
        {
          "output_type": "stream",
          "name": "stdout",
          "text": [
            "Evaluation \t Proposed point \t  Current eval. \t  Best eval. \t        Exact EI: StdDev. x \t Approx EI: StdDev. x \n",
            "init\t [-3.54137249  2.45810889]\t 57.903242869085595\t 40.51116653209555\t    \t    \n",
            "init\t [-2.42365424  0.34549139]\t 40.51116653209555\t 40.51116653209555\t    \t    \n",
            "init\t [-4.97075238  4.28796936]\t 55.62655915398208\t 40.51116653209555\t    \t    \n",
            "init\t [ 4.10332011 -4.77776458]\t 49.962803461970296\t 40.51116653209555\t    \t    \n",
            "init\t [ 4.6791612  -3.71497655]\t 62.183891474990624\t 40.51116653209555\t    \t    \n",
            "1  \t [4.12854289 5.12      ]\t 49.05765788875419\t 40.51116653209555\t 3.828337139252385\t 3.671356067535442\n",
            "2  \t [-5.12 -5.12]\t 57.849427451571785\t 40.51116653209555\t 3.715450621925111\t 3.470706208691914\n",
            "3  \t [2.40875748 0.58853271]\t 43.041992545420015\t 40.51116653209555\t 3.064837379259921\t 3.1624769727393613\n",
            "\u001b[1m\u001b[92m4\u001b[0m\t \u001b[1m\u001b[92m[-0.48693963 -4.126927  ]\u001b[0m\t \u001b[1m\u001b[92m40.2500484254333\u001b[0m\t \u001b[1m\u001b[92m40.2500484254333\u001b[0m\t \u001b[1m\u001b[92m3.142730160537587\u001b[0m\t \u001b[1m\u001b[92m3.2062524416163303\u001b[0m\n",
            "5  \t [-5.12       -1.54445329]\t 50.922513391443644\t 40.2500484254333\t 2.8892283186839824\t 3.0282297291751124\n",
            "\u001b[1m\u001b[92m6\u001b[0m\t \u001b[1m\u001b[92m[-0.17341397  5.12      ]\u001b[0m\t \u001b[1m\u001b[92m34.32631661914773\u001b[0m\t \u001b[1m\u001b[92m34.32631661914773\u001b[0m\t \u001b[1m\u001b[92m3.0068116446090354\u001b[0m\t \u001b[1m\u001b[92m3.122450824756997\u001b[0m\n",
            "\u001b[1m\u001b[92m7\u001b[0m\t \u001b[1m\u001b[92m[5.12       1.93216096]\u001b[0m\t \u001b[1m\u001b[92m33.552713846600724\u001b[0m\t \u001b[1m\u001b[92m33.552713846600724\u001b[0m\t \u001b[1m\u001b[92m2.9606743328924194\u001b[0m\t \u001b[1m\u001b[92m2.95748486295348\u001b[0m\n",
            "\u001b[1m\u001b[92m8\u001b[0m\t \u001b[1m\u001b[92m[-0.03122547  2.24848074]\u001b[0m\t \u001b[1m\u001b[92m15.153030588691188\u001b[0m\t \u001b[1m\u001b[92m15.153030588691188\u001b[0m\t \u001b[1m\u001b[92m2.987109108198695\u001b[0m\t \u001b[1m\u001b[92m2.9812265763984995\u001b[0m\n",
            "9  \t [ 1.7311355  -2.25518988]\t 29.591261070967608\t 15.153030588691188\t 2.8875060683301657\t 2.7799477827871355\n",
            "10 \t [-2.63277383 -2.71416406]\t 43.24823478817461\t 15.153030588691188\t 2.8052702555597007\t 3.1502437667532908\n",
            "11 \t [-0.1614182  -0.71963405]\t 17.15750365950212\t 15.153030588691188\t 2.9094604243517495\t 2.9691361696285874\n",
            "12 \t [ 5.12       -0.86004346]\t 33.288044873789275\t 15.153030588691188\t 2.652160954831378\t 2.6446461260201017\n",
            "13 \t [2.04940814 3.39214796]\t 33.97520559523818\t 15.153030588691188\t 2.8506987398175485\t 2.8436118198401137\n",
            "14 \t [-2.49499974  5.12      ]\t 55.1448025023241\t 15.153030588691188\t 2.873047292648034\t 2.935320848458433\n",
            "15 \t [ 1.66813067 -5.12      ]\t 46.627501204765515\t 15.153030588691188\t 3.140617945238199\t 3.1576952646783423\n",
            "\u001b[1m\u001b[92m16\u001b[0m\t \u001b[1m\u001b[92m[-0.06025789  0.92115978]\u001b[0m\t \u001b[1m\u001b[92m2.7624391648755715\u001b[0m\t \u001b[1m\u001b[92m2.7624391648755715\u001b[0m\t \u001b[1m\u001b[92m3.011911646987265\u001b[0m\t \u001b[1m\u001b[92m3.0066843579917664\u001b[0m\n",
            "17 \t [-0.05913921  0.91949738]\t 2.783624967304039\t 2.7624391648755715\t 2.61732299782248\t 2.6184939101458204\n",
            "18 \t [-0.05886928  0.91833119]\t 2.811042368108092\t 2.7624391648755715\t 3.1128288579541006\t 3.113502589765935\n",
            "19 \t [-2.55377253 -5.12      ]\t 54.88112031844929\t 2.7624391648755715\t 2.9290923182717417\t 2.920176692676251\n",
            "20 \t [-0.05869914  0.91806391]\t 2.8149286309643333\t 2.7624391648755715\t 2.6690235703168357\t 2.6609263358116264\n"
          ]
        }
      ],
      "source": [
        "### ESTIMATED GP EI GRADIENTS\n",
        "\n",
        "np.random.seed(run_num_12)\n",
        "surrogate_approx_12 = dGaussianProcess(cov_func, optimize=opt)\n",
        "\n",
        "approx_12 = GPGO_multi(surrogate_approx_12, Acquisition_grad(util), objfunc, param)\n",
        "approx_12.run(init_evals=n_init, max_iter=iters)\n"
      ]
    },
    {
      "cell_type": "code",
      "execution_count": 25,
      "metadata": {
        "id": "CphOPndPGClX",
        "colab": {
          "base_uri": "https://localhost:8080/"
        },
        "outputId": "9fed89f1-5a1c-4319-b8da-8b1e53ba438e"
      },
      "outputs": [
        {
          "output_type": "stream",
          "name": "stdout",
          "text": [
            "Evaluation \t Proposed point \t  Current eval. \t  Best eval. \t        Exact EI: StdDev. x \t Approx EI: StdDev. x \n",
            "init\t [ 2.84367268 -2.68757791]\t 33.58019830007169\t 17.435826639425656\t    \t    \n",
            "init\t [3.32061217 4.76927179]\t 56.857057997503354\t 17.435826639425656\t    \t    \n",
            "init\t [ 4.83943541 -0.47667971]\t 48.211919361679726\t 17.435826639425656\t    \t    \n",
            "init\t [1.11659482 2.82139151]\t 17.435826639425656\t 17.435826639425656\t    \t    \n",
            "init\t [1.45012065 2.27346667]\t 38.25352329493884\t 17.435826639425656\t    \t    \n",
            "1  \t [-4.10876704 -2.60547476]\t 43.79941556238635\t 17.435826639425656\t 3.155341753856051\t 3.1904143347977194\n",
            "2  \t [-4.97105511  3.21747234]\t 43.198863533154324\t 17.435826639425656\t 3.2208117414709676\t 3.5605685044202837\n",
            "3  \t [-0.62130073 -5.12      ]\t 46.544225519856965\t 17.435826639425656\t 3.0439526104433545\t 3.133121415669225\n",
            "4  \t [-1.42533604  5.12      ]\t 49.875927508328765\t 17.435826639425656\t 3.0251676659763564\t 3.0105593024498747\n",
            "5  \t [-1.93220086  0.55014894]\t 24.437451174908446\t 17.435826639425656\t 3.2461500675163126\t 3.576836309048004\n",
            "\u001b[1m\u001b[92m6\u001b[0m\t \u001b[1m\u001b[92m[-0.17864915 -1.80155479]\u001b[0m\t \u001b[1m\u001b[92m15.760147802147763\u001b[0m\t \u001b[1m\u001b[92m15.760147802147763\u001b[0m\t \u001b[1m\u001b[92m2.9208100546267315\u001b[0m\t \u001b[1m\u001b[92m3.040771328645765\u001b[0m\n",
            "7  \t [ 5.12 -5.12]\t 57.849427451571785\t 15.760147802147763\t 3.1260777766446317\t 3.404357398422448\n",
            "8  \t [-5.12 -5.12]\t 57.849427451571785\t 15.760147802147763\t 2.9797532704227145\t 3.008713145593713\n",
            "9  \t [-5.12        0.20109728]\t 35.94062682215156\t 15.760147802147763\t 2.8803914683858953\t 3.0284577642645245\n",
            "10 \t [5.12       2.46277079]\t 54.71761067599665\t 15.760147802147763\t 2.7959462732093527\t 2.900831496381781\n",
            "11 \t [ 1.66233894 -0.2828348 ]\t 30.12544539173234\t 15.760147802147763\t 3.0723566443069195\t 3.143272825806297\n",
            "12 \t [-2.20752244  2.69343375]\t 32.97017643541928\t 15.760147802147763\t 2.8467379738748146\t 3.0572104404878946\n",
            "13 \t [ 2.12982376 -5.12      ]\t 36.607323783270544\t 15.760147802147763\t 3.0500622491953506\t 3.252601765904466\n",
            "14 \t [0.91924236 5.12      ]\t 31.029685998742295\t 15.760147802147763\t 2.54289254819105\t 2.568813318857316\n",
            "15 \t [-4.09260673  5.12      ]\t 47.31975342486206\t 15.760147802147763\t 2.975005782468018\t 3.039017043043175\n",
            "16 \t [-1.73595097 -2.7141077 ]\t 33.49759966428702\t 15.760147802147763\t 2.699503850499651\t 2.75236267360308\n",
            "17 \t [-3.60514531  0.54688315]\t 50.76135950899002\t 15.760147802147763\t 3.436846144402213\t 3.4368452276736723\n",
            "18 \t [-2.80921975 -5.12      ]\t 43.18080954653243\t 15.760147802147763\t 2.4746708347774597\t 2.440712309552071\n",
            "19 \t [-0.28441514  0.59928639]\t 30.702034316075316\t 15.760147802147763\t 3.0473274604897846\t 3.0135748241227756\n",
            "20 \t [-1.97108514 -1.33868121]\t 21.129945949724842\t 15.760147802147763\t 3.3349055151726823\t 3.3349055151726823\n"
          ]
        }
      ],
      "source": [
        "### ESTIMATED GP EI GRADIENTS\n",
        "\n",
        "np.random.seed(run_num_13)\n",
        "surrogate_approx_13 = dGaussianProcess(cov_func, optimize=opt)\n",
        "\n",
        "approx_13 = GPGO_multi(surrogate_approx_13, Acquisition_grad(util), objfunc, param)\n",
        "approx_13.run(init_evals=n_init, max_iter=iters)\n"
      ]
    },
    {
      "cell_type": "code",
      "execution_count": 26,
      "metadata": {
        "id": "ojHTeARNGCoi",
        "colab": {
          "base_uri": "https://localhost:8080/"
        },
        "outputId": "03727a87-f1db-46a1-e77b-9392e20ff263"
      },
      "outputs": [
        {
          "output_type": "stream",
          "name": "stdout",
          "text": [
            "Evaluation \t Proposed point \t  Current eval. \t  Best eval. \t        Exact EI: StdDev. x \t Approx EI: StdDev. x \n",
            "init\t [0.14277984 2.79721013]\t 18.683085263052178\t 10.423838604848608\t    \t    \n",
            "init\t [ 3.7931795  -5.03759925]\t 47.36348784446708\t 10.423838604848608\t    \t    \n",
            "init\t [-1.94830412  4.68586229]\t 40.19779334078636\t 10.423838604848608\t    \t    \n",
            "init\t [ 0.13431513 -1.86076749]\t 10.423838604848608\t 10.423838604848608\t    \t    \n",
            "init\t [ 0.40140736 -2.85434939]\t 30.353548735049138\t 10.423838604848608\t    \t    \n",
            "1  \t [-4.7061909 -5.12     ]\t 63.79092460862357\t 10.423838604848608\t 3.877759693576881\t 3.757179375461273\n",
            "2  \t [5.12 5.12]\t 57.849427451571785\t 10.423838604848608\t 3.873056498984126\t 3.9057632858286695\n",
            "3  \t [-5.12        0.35849191]\t 45.354173939505976\t 10.423838604848608\t 2.91276321557575\t 3.54272140602555\n",
            "4  \t [ 5.12       -0.06396051]\t 29.72551529325738\t 10.423838604848608\t 2.943231337318733\t 3.4407871682042965\n",
            "5  \t [-1.64697303  0.04263787]\t 19.10170079038938\t 10.423838604848608\t 2.775506441636618\t 2.588599127151347\n",
            "6  \t [-5.12  5.12]\t 57.849427451571785\t 10.423838604848608\t 2.802664840751574\t 3.0551239456396644\n",
            "7  \t [1.91878676 0.23746515]\t 14.22527004057029\t 10.423838604848608\t 2.618783841991835\t 2.45978646038935\n",
            "8  \t [1.75630305 5.12      ]\t 41.61338543218094\t 10.423838604848608\t 3.2278976882758625\t 3.203786545613359\n",
            "9  \t [-2.90317141 -2.48943779]\t 36.39801025311384\t 10.423838604848608\t 3.085505983865399\t 3.1839128111599115\n",
            "10 \t [-1.23103436 -5.12      ]\t 39.251331177513094\t 10.423838604848608\t 2.707521280841951\t 2.913117879942224\n",
            "11 \t [3.4825281  2.41566801]\t 56.53196703019809\t 10.423838604848608\t 3.0873091664734584\t 3.020716574222189\n",
            "12 \t [ 3.28443    -2.13848906]\t 31.059981935806015\t 10.423838604848608\t 2.941724010709935\t 3.1381350674477626\n",
            "13 \t [-3.13828277  2.2795614 ]\t 30.43495225300815\t 10.423838604848608\t 2.9297875599641747\t 2.9976711757311416\n",
            "14 \t [ 1.30047107 -5.12      ]\t 43.734244851152916\t 10.423838604848608\t 2.85001160788794\t 2.883154523201515\n",
            "15 \t [0.26957327 0.06837175]\t 12.212715839516838\t 10.423838604848608\t 2.88569096030187\t 2.8754802864478233\n",
            "16 \t [ 5.12       -2.95522986]\t 38.0511410802359\t 10.423838604848608\t 2.8722981211792296\t 2.882885082995075\n",
            "17 \t [-0.92659051  1.66067473]\t 19.983846757499386\t 10.423838604848608\t 3.1007991176685388\t 3.1021410907111693\n",
            "18 \t [-5.12        2.73255235]\t 47.485629987664595\t 10.423838604848608\t 2.6091744336956673\t 2.6119101626913124\n",
            "19 \t [ 1.32634199 -1.04131361]\t 17.793413322224794\t 10.423838604848608\t 2.8866841285103484\t 2.8857634518218345\n",
            "20 \t [-0.94909977 -1.40756327]\t 21.749346023513947\t 10.423838604848608\t 2.734357149950769\t 2.7253435403660187\n"
          ]
        }
      ],
      "source": [
        "### ESTIMATED GP EI GRADIENTS\n",
        "\n",
        "np.random.seed(run_num_14)\n",
        "surrogate_approx_14 = dGaussianProcess(cov_func, optimize=opt)\n",
        "\n",
        "approx_14 = GPGO_multi(surrogate_approx_14, Acquisition_grad(util), objfunc, param)\n",
        "approx_14.run(init_evals=n_init, max_iter=iters)\n"
      ]
    },
    {
      "cell_type": "code",
      "execution_count": 27,
      "metadata": {
        "id": "vCJzn4vWGCs3",
        "colab": {
          "base_uri": "https://localhost:8080/"
        },
        "outputId": "2428be0c-8a05-4e2a-8c97-3390e78adeed"
      },
      "outputs": [
        {
          "output_type": "stream",
          "name": "stdout",
          "text": [
            "Evaluation \t Proposed point \t  Current eval. \t  Best eval. \t        Exact EI: StdDev. x \t Approx EI: StdDev. x \n",
            "init\t [ 3.57189322 -3.28810573]\t 54.938487770767075\t 7.990765314336182\t    \t    \n",
            "init\t [-4.56332069 -1.41784631]\t 60.750198753157726\t 7.990765314336182\t    \t    \n",
            "init\t [-2.29989449  0.3072023 ]\t 31.984997246800887\t 7.990765314336182\t    \t    \n",
            "init\t [-1.9873903  -2.00218256]\t 7.990765314336182\t 7.990765314336182\t    \t    \n",
            "init\t [-3.97576933 -2.5610341 ]\t 41.754957769694336\t 7.990765314336182\t    \t    \n",
            "1  \t [5.12       4.80077231]\t 58.835844388438986\t 7.990765314336182\t 3.558415780412122\t 3.7786093661680504\n",
            "2  \t [-5.12        5.06668312]\t 55.4609573845379\t 7.990765314336182\t 3.161189780735223\t 3.464113625566247\n",
            "3  \t [0.00786694 5.12      ]\t 28.936989467858332\t 7.990765314336182\t 3.07400797606258\t 3.353470561710739\n",
            "4  \t [2.25293124 1.11071822]\t 18.817269499132713\t 7.990765314336182\t 2.9474387014043546\t 2.711965215572456\n",
            "5  \t [-0.33197662 -5.12      ]\t 43.96091698057967\t 7.990765314336182\t 3.2257722393872403\t 3.3449132539273814\n",
            "6  \t [5.12       0.08147655]\t 30.21335614364496\t 7.990765314336182\t 3.1968264594492335\t 3.1678426483976145\n",
            "7  \t [ 0.59199145 -1.56889181]\t 40.265146928750376\t 7.990765314336182\t 2.98692633361242\t 2.594196025649698\n",
            "8  \t [-5.12 -5.12]\t 57.849427451571785\t 7.990765314336182\t 3.535534877302253\t 3.5445487646195093\n",
            "9  \t [-2.39468429  3.29899371]\t 47.53722508054417\t 7.990765314336182\t 2.6036886712295817\t 2.7220157220454615\n",
            "10 \t [0.22588112 2.17449412]\t 18.701604284033955\t 7.990765314336182\t 3.1173906721620384\t 3.025137379097623\n",
            "11 \t [-5.12        1.74797948]\t 42.10709584782319\t 7.990765314336182\t 2.6986562583328686\t 2.782360898079704\n",
            "12 \t [ 2.13208465 -5.12      ]\t 36.72109417415916\t 7.990765314336182\t 2.767684648130631\t 2.8657447899923847\n",
            "13 \t [2.41652086 3.84359327]\t 43.720940376863965\t 7.990765314336182\t 3.227549344929016\t 3.3169858446476144\n",
            "14 \t [5.12       2.25666093]\t 44.435628390353244\t 7.990765314336182\t 3.08847878103883\t 3.2305124425225986\n",
            "15 \t [-2.63102845 -5.12      ]\t 52.64524751617738\t 7.990765314336182\t 2.4265359338497725\t 2.6181430865891375\n",
            "16 \t [-0.08624057  0.53744408]\t 21.453321435299763\t 7.990765314336182\t 3.1287287475164263\t 3.128645941075448\n",
            "17 \t [ 3.003204   -0.77494063]\t 18.06113319023623\t 7.990765314336182\t 2.6714589587360282\t 2.6730663654186433\n",
            "18 \t [-1.38799163 -2.76081878]\t 36.49348536879943\t 7.990765314336182\t 3.0141937021139693\t 3.0381180298898323\n",
            "19 \t [ 1.10265193 -3.52288256]\t 35.532252564689834\t 7.990765314336182\t 3.079886034190424\t 3.079886034190424\n",
            "20 \t [ 3.87272803 -0.60031097]\t 36.46765569949622\t 7.990765314336182\t 2.7424985524412135\t 2.7424985524412135\n"
          ]
        }
      ],
      "source": [
        "### ESTIMATED GP EI GRADIENTS\n",
        "\n",
        "np.random.seed(run_num_15)\n",
        "surrogate_approx_15 = dGaussianProcess(cov_func, optimize=opt)\n",
        "\n",
        "approx_15 = GPGO_multi(surrogate_approx_15, Acquisition_grad(util), objfunc, param)\n",
        "approx_15.run(init_evals=n_init, max_iter=iters)\n"
      ]
    },
    {
      "cell_type": "code",
      "execution_count": 28,
      "metadata": {
        "id": "bGGkhp-kGCw6",
        "colab": {
          "base_uri": "https://localhost:8080/"
        },
        "outputId": "29f54ef9-9032-46bb-ea58-582c8eb8eeee"
      },
      "outputs": [
        {
          "output_type": "stream",
          "name": "stdout",
          "text": [
            "Evaluation \t Proposed point \t  Current eval. \t  Best eval. \t        Exact EI: StdDev. x \t Approx EI: StdDev. x \n",
            "init\t [-2.83349935  0.23719262]\t 22.27210456874814\t 22.27210456874814\t    \t    \n",
            "init\t [ 0.51918292 -4.65303603]\t 57.57021076017139\t 22.27210456874814\t    \t    \n",
            "init\t [-1.42613673 -2.83565116]\t 33.89145899403749\t 22.27210456874814\t    \t    \n",
            "init\t [ 1.9325559  -3.44339021]\t 35.85029586225333\t 22.27210456874814\t    \t    \n",
            "init\t [-4.39987336  4.51595121]\t 77.78800881964571\t 22.27210456874814\t    \t    \n",
            "1  \t [2.142749   4.83374619]\t 36.69381850109535\t 22.27210456874814\t 3.571154393042483\t 3.650727592692473\n",
            "2  \t [5.12      0.5929347]\t 47.61933225424934\t 22.27210456874814\t 3.410526293525929\t 3.390734346643612\n",
            "3  \t [-5.12 -5.12]\t 57.849427451571785\t 22.27210456874814\t 3.284960046592593\t 3.481855464093785\n",
            "\u001b[1m\u001b[92m4\u001b[0m\t \u001b[1m\u001b[92m[1.00686862 0.83549432]\u001b[0m\t \u001b[1m\u001b[92m6.604022663324479\u001b[0m\t \u001b[1m\u001b[92m6.604022663324479\u001b[0m\t \u001b[1m\u001b[92m2.988913735639575\u001b[0m\t \u001b[1m\u001b[92m3.0510486653737074\u001b[0m\n",
            "5  \t [-0.9422934   3.24295798]\t 21.61253032018208\t 6.604022663324479\t 3.1534700185567295\t 3.2123316702227442\n",
            "6  \t [ 5.12 -5.12]\t 57.849427451571785\t 6.604022663324479\t 3.5085718924277\t 3.6589490824551003\n",
            "7  \t [-5.12       -1.65377306]\t 47.344105417740955\t 6.604022663324479\t 2.9396754909908744\t 2.8298658087620643\n",
            "8  \t [5.12       4.25508321]\t 57.34978001500121\t 6.604022663324479\t 2.8786527220979474\t 2.882242124203572\n",
            "9  \t [ 5.12       -2.21590352]\t 41.7089474757564\t 6.604022663324479\t 3.1224757140561583\t 3.0988605106185485\n",
            "10 \t [-5.12        1.50296284]\t 51.18187827746271\t 6.604022663324479\t 3.002763388414183\t 3.1400753614785075\n",
            "11 \t [2.52047229 1.99873405]\t 30.265418796564106\t 6.604022663324479\t 3.0902588962460964\t 3.153605994347292\n",
            "12 \t [ 0.6197547  -0.77899986]\t 26.479115896784414\t 6.604022663324479\t 3.1872570620038454\t 3.1669564943387867\n",
            "13 \t [-1.27023571  5.12      ]\t 41.806236939560364\t 6.604022663324479\t 2.517916508852549\t 2.4932763549448342\n",
            "14 \t [-2.37027107 -5.12      ]\t 51.40077541209838\t 6.604022663324479\t 2.5980668525218458\t 2.5201125472368497\n",
            "15 \t [-0.59153761  1.20635319]\t 27.488160376953196\t 6.604022663324479\t 2.7530277705251858\t 2.709698465161956\n",
            "16 \t [ 2.83179161 -0.80748524]\t 20.221319932156867\t 6.604022663324479\t 2.727024475921871\t 2.7214068513337257\n",
            "17 \t [0.77479532 3.02784179]\t 18.369114366293587\t 6.604022663324479\t 3.170757322652261\t 3.1781855735145754\n",
            "18 \t [-2.68066916  2.42597063]\t 46.2286197346817\t 6.604022663324479\t 2.8332349439839866\t 2.825367696949709\n",
            "19 \t [-1.77710736 -0.94447237]\t 12.957629522320216\t 6.604022663324479\t 2.6529011939593365\t 2.6314739464683425\n",
            "20 \t [ 3.45569769 -4.61735471]\t 70.27933734324651\t 6.604022663324479\t 3.14294262400864\t 3.14294262400864\n"
          ]
        }
      ],
      "source": [
        "### ESTIMATED GP EI GRADIENTS\n",
        "\n",
        "np.random.seed(run_num_16)\n",
        "surrogate_approx_16 = dGaussianProcess(cov_func, optimize=opt)\n",
        "\n",
        "approx_16 = GPGO_multi(surrogate_approx_16, Acquisition_grad(util), objfunc, param)\n",
        "approx_16.run(init_evals=n_init, max_iter=iters)\n"
      ]
    },
    {
      "cell_type": "code",
      "execution_count": 29,
      "metadata": {
        "id": "Yrs2mp7hGC1Z",
        "colab": {
          "base_uri": "https://localhost:8080/"
        },
        "outputId": "67705e92-597d-48fa-d787-a5a962bd32ba"
      },
      "outputs": [
        {
          "output_type": "stream",
          "name": "stdout",
          "text": [
            "Evaluation \t Proposed point \t  Current eval. \t  Best eval. \t        Exact EI: StdDev. x \t Approx EI: StdDev. x \n",
            "init\t [-2.10263037  0.31320838]\t 20.395145364684023\t 20.395145364684023\t    \t    \n",
            "init\t [-3.15882714 -4.42470033]\t 53.03732051200137\t 20.395145364684023\t    \t    \n",
            "init\t [2.93873111 1.60085526]\t 29.989224812583537\t 20.395145364684023\t    \t    \n",
            "init\t [1.40821398 0.77417363]\t 29.451989415882437\t 20.395145364684023\t    \t    \n",
            "init\t [-4.71999574 -1.45598869]\t 55.89242173757483\t 20.395145364684023\t    \t    \n",
            "1  \t [ 5.12 -5.12]\t 57.849427451571785\t 20.395145364684023\t 3.441876084952998\t 4.208421754964512\n",
            "2  \t [-4.70696613  5.12      ]\t 63.75131445702095\t 20.395145364684023\t 3.9824098546886963\t 3.5956256379568416\n",
            "3  \t [0.05624268 5.12      ]\t 29.545804347899875\t 20.395145364684023\t 3.237325530556491\t 3.315610083989659\n",
            "4  \t [5.12 5.12]\t 57.849427451571785\t 20.395145364684023\t 3.5384463158179997\t 3.4799545415696493\n",
            "5  \t [ 1.07726365 -3.51432938]\t 34.625909140724744\t 20.395145364684023\t 2.895810655730261\t 3.1406855696899605\n",
            "6  \t [ 5.12       -1.25380513]\t 40.735801742362966\t 20.395145364684023\t 2.971359912755484\t 3.101368645570931\n",
            "7  \t [-5.12        1.83143809]\t 37.38235926018524\t 20.395145364684023\t 2.9251571464421984\t 2.818164198709344\n",
            "\u001b[1m\u001b[92m8\u001b[0m\t \u001b[1m\u001b[92m[-1.98272172  3.08682487]\u001b[0m\t \u001b[1m\u001b[92m14.970055665576742\u001b[0m\t \u001b[1m\u001b[92m14.970055665576742\u001b[0m\t \u001b[1m\u001b[92m3.126219771085618\u001b[0m\t \u001b[1m\u001b[92m3.151720314179619\u001b[0m\n",
            "\u001b[1m\u001b[92m9\u001b[0m\t \u001b[1m\u001b[92m[-1.18641868 -1.99220228]\u001b[0m\t \u001b[1m\u001b[92m11.498943804680293\u001b[0m\t \u001b[1m\u001b[92m11.498943804680293\u001b[0m\t \u001b[1m\u001b[92m3.3556470184157425\u001b[0m\t \u001b[1m\u001b[92m3.376735136680743\u001b[0m\n",
            "10 \t [5.12       2.05334662]\t 33.69745699522174\t 11.498943804680293\t 2.651092293282039\t 2.9149935055674425\n",
            "11 \t [ 2.52175018 -1.51538147]\t 48.51570527564414\t 11.498943804680293\t 3.0651700036086975\t 3.026112215426522\n",
            "12 \t [2.39043243 4.26296264]\t 52.42300719570846\t 11.498943804680293\t 2.8190965777832115\t 2.86199557517138\n",
            "13 \t [-0.57836495 -5.12      ]\t 48.07131527944411\t 11.498943804680293\t 2.4663131330143875\t 2.849721584436148\n",
            "14 \t [-0.15351706  2.41431839]\t 28.740388827772385\t 11.498943804680293\t 2.7950398655974347\t 2.809332955323762\n",
            "15 \t [-2.13586392  5.12      ]\t 36.91432410563543\t 11.498943804680293\t 2.803186332769899\t 2.864166666869518\n",
            "16 \t [-0.16169316 -0.81112061]\t 11.669298967712399\t 11.498943804680293\t 2.7418176229514044\t 2.500618331493793\n",
            "17 \t [ 2.54922566 -5.12      ]\t 54.948752335160364\t 11.498943804680293\t 2.605166463600695\t 2.6222248936354235\n",
            "18 \t [-0.52560078  0.07159203]\t 21.14706168452146\t 11.498943804680293\t 2.9443559500830894\t 2.9443559500830894\n",
            "19 \t [-2.98545008  2.11046464]\t 15.722241340272946\t 11.498943804680293\t 2.732684308677501\t 2.7656287833035424\n",
            "20 \t [-2.30728783 -2.00748292]\t 22.88689025979136\t 11.498943804680293\t 2.9996497434415295\t 3.0175306041532255\n"
          ]
        }
      ],
      "source": [
        "### ESTIMATED GP EI GRADIENTS\n",
        "\n",
        "np.random.seed(run_num_17)\n",
        "surrogate_approx_17 = dGaussianProcess(cov_func, optimize=opt)\n",
        "\n",
        "approx_17 = GPGO_multi(surrogate_approx_17, Acquisition_grad(util), objfunc, param)\n",
        "approx_17.run(init_evals=n_init, max_iter=iters)\n"
      ]
    },
    {
      "cell_type": "code",
      "execution_count": 30,
      "metadata": {
        "id": "f0HIEP3PIUEa",
        "colab": {
          "base_uri": "https://localhost:8080/"
        },
        "outputId": "51b63e9b-0517-4552-9d99-0a2492f286e7"
      },
      "outputs": [
        {
          "output_type": "stream",
          "name": "stdout",
          "text": [
            "Evaluation \t Proposed point \t  Current eval. \t  Best eval. \t        Exact EI: StdDev. x \t Approx EI: StdDev. x \n",
            "init\t [1.53983224 0.05584255]\t 22.67190580753611\t 22.67190580753611\t    \t    \n",
            "init\t [ 3.87687906 -3.25795609]\t 38.990099416711985\t 22.67190580753611\t    \t    \n",
            "init\t [3.60686662 2.56139557]\t 56.66448698782129\t 22.67190580753611\t    \t    \n",
            "init\t [1.70088108 4.99604939]\t 40.894059318256296\t 22.67190580753611\t    \t    \n",
            "init\t [-2.48864335 -4.83014733]\t 54.6725749848372\t 22.67190580753611\t    \t    \n",
            "1  \t [-5.00718904  2.9174042 ]\t 34.91005808676357\t 22.67190580753611\t 3.1313104619911583\t 3.4566662128986887\n",
            "2  \t [-5.12       -1.37221597]\t 47.75399129053168\t 22.67190580753611\t 2.7340497699094337\t 2.8275909751303874\n",
            "3  \t [-1.30205535  2.41793744]\t 39.454398935089415\t 22.67190580753611\t 3.257688537320698\t 2.9077717872587607\n",
            "4  \t [ 1.0480466 -5.12     ]\t 30.475340120164446\t 22.67190580753611\t 3.171469356121684\t 3.2774930824235278\n",
            "5  \t [-1.46191394 -1.33679073]\t 38.82617500183413\t 22.67190580753611\t 2.6570076270061076\t 2.789142180319047\n",
            "6  \t [-2.7382204  5.12     ]\t 47.16202322489647\t 22.67190580753611\t 3.108498861935234\t 3.3778678194983054\n",
            "7  \t [ 5.12       -0.35162335]\t 45.00841615538467\t 22.67190580753611\t 3.332712259320768\t 3.5452234674722694\n",
            "8  \t [5.12 5.12]\t 57.849427451571785\t 22.67190580753611\t 2.9570795146097284\t 3.3482866584036093\n",
            "9  \t [ 1.09298066 -2.48161336]\t 28.944899210098217\t 22.67190580753611\t 2.9508899285661316\t 2.9867749832913\n",
            "10 \t [-5.12 -5.12]\t 57.849427451571785\t 22.67190580753611\t 3.1990600016706376\t 3.394748339253867\n",
            "11 \t [ 5.12 -5.12]\t 57.849427451571785\t 22.67190580753611\t 3.0563167840018086\t 3.069714220749424\n",
            "12 \t [-3.41490594  0.75493422]\t 40.52594218490602\t 22.67190580753611\t 2.752913398684411\t 2.791608042988384\n",
            "\u001b[1m\u001b[92m13\u001b[0m\t \u001b[1m\u001b[92m[-0.07692449  0.6970116 ]\u001b[0m\t \u001b[1m\u001b[92m14.905414892894273\u001b[0m\t \u001b[1m\u001b[92m14.905414892894273\u001b[0m\t \u001b[1m\u001b[92m2.9118422033295457\u001b[0m\t \u001b[1m\u001b[92m2.9070790169406266\u001b[0m\n",
            "14 \t [-3.31658483 -2.66776867]\t 47.11930966305631\t 14.905414892894273\t 2.59855413569934\t 2.6047539173643757\n",
            "15 \t [-5.12  5.12]\t 57.849427451571785\t 14.905414892894273\t 2.821643703921991\t 2.817325478643326\n",
            "\u001b[1m\u001b[92m16\u001b[0m\t \u001b[1m\u001b[92m[ 2.95861082 -1.07421966]\u001b[0m\t \u001b[1m\u001b[92m11.311352385519815\u001b[0m\t \u001b[1m\u001b[92m11.311352385519815\u001b[0m\t \u001b[1m\u001b[92m2.61770848948154\u001b[0m\t \u001b[1m\u001b[92m2.6184984638061533\u001b[0m\n",
            "17 \t [1.03718465 2.55513137]\t 27.282151198501694\t 11.311352385519815\t 3.446370305778756\t 3.4523173433889354\n",
            "18 \t [-0.54270052 -3.63144869]\t 49.90302038480078\t 11.311352385519815\t 3.0479177308850987\t 3.0726940770315108\n",
            "19 \t [-0.7223645   0.68467701]\t 26.708366102360095\t 11.311352385519815\t 2.742881943631504\t 2.742881943631504\n",
            "20 \t [-4.85217233  1.32463924]\t 43.83021651328372\t 11.311352385519815\t 2.9796634915594145\t 2.9796634915594145\n"
          ]
        }
      ],
      "source": [
        "### ESTIMATED GP EI GRADIENTS\n",
        "\n",
        "np.random.seed(run_num_18)\n",
        "surrogate_approx_18 = dGaussianProcess(cov_func, optimize=opt)\n",
        "\n",
        "approx_18 = GPGO_multi(surrogate_approx_18, Acquisition_grad(util), objfunc, param)\n",
        "approx_18.run(init_evals=n_init, max_iter=iters)\n"
      ]
    },
    {
      "cell_type": "code",
      "execution_count": 31,
      "metadata": {
        "id": "S3mxRQDLIUPC",
        "colab": {
          "base_uri": "https://localhost:8080/"
        },
        "outputId": "a824c35b-bead-4b78-8ad0-3e66e5726798"
      },
      "outputs": [
        {
          "output_type": "stream",
          "name": "stdout",
          "text": [
            "Evaluation \t Proposed point \t  Current eval. \t  Best eval. \t        Exact EI: StdDev. x \t Approx EI: StdDev. x \n",
            "init\t [-4.12125592  2.6751971 ]\t 41.43485596167127\t 25.867003842388073\t    \t    \n",
            "init\t [-2.59135515 -3.70553152]\t 51.60126035043229\t 25.867003842388073\t    \t    \n",
            "init\t [-1.72598719 -4.27008445]\t 43.97430127029199\t 25.867003842388073\t    \t    \n",
            "init\t [1.76104531 3.13952049]\t 25.867003842388073\t 25.867003842388073\t    \t    \n",
            "init\t [4.9432772  1.38916592]\t 44.66580306903559\t 25.867003842388073\t    \t    \n",
            "1  \t [ 5.12 -5.12]\t 57.849427451571785\t 25.867003842388073\t 3.6350734246592276\t 4.426802603401861\n",
            "2  \t [ 1.77619304 -1.68663289]\t 28.23836653814452\t 25.867003842388073\t 3.355770804722738\t 3.0995150119252988\n",
            "3  \t [5.12 5.12]\t 57.849427451571785\t 25.867003842388073\t 2.833761599095415\t 2.944406246720285\n",
            "4  \t [-1.28669734  5.12      ]\t 42.86568897609105\t 25.867003842388073\t 2.9838489748214525\t 3.1568996838179335\n",
            "5  \t [-5.12       -0.97841392]\t 29.973843199072306\t 25.867003842388073\t 2.652363313391885\t 2.9287716019241503\n",
            "\u001b[1m\u001b[92m6\u001b[0m\t \u001b[1m\u001b[92m[-1.20053866  0.35649552]\u001b[0m\t \u001b[1m\u001b[92m24.71346524178124\u001b[0m\t \u001b[1m\u001b[92m24.71346524178124\u001b[0m\t \u001b[1m\u001b[92m3.1296524224771094\u001b[0m\t \u001b[1m\u001b[92m3.0674675365849855\u001b[0m\n",
            "7  \t [ 1.5401455 -5.12     ]\t 50.98031588140242\t 24.71346524178124\t 2.8568337356591975\t 3.2171935749053198\n",
            "8  \t [-5.12 -5.12]\t 57.849427451571785\t 24.71346524178124\t 3.0133266251557176\t 2.788967410328104\n",
            "9  \t [-5.12  5.12]\t 57.849427451571785\t 24.71346524178124\t 2.9039962366228864\t 3.0366100945283714\n",
            "10 \t [ 5.12       -1.82150468]\t 37.89944786548834\t 24.71346524178124\t 3.1350454741654006\t 3.2706608643137733\n",
            "\u001b[1m\u001b[92m11\u001b[0m\t \u001b[1m\u001b[92m[1.81554938 0.7430777 ]\u001b[0m\t \u001b[1m\u001b[92m20.280053069193215\u001b[0m\t \u001b[1m\u001b[92m20.280053069193215\u001b[0m\t \u001b[1m\u001b[92m2.538231784171203\u001b[0m\t \u001b[1m\u001b[92m2.6319027107526827\u001b[0m\n",
            "12 \t [2.0296659 5.12     ]\t 33.217472974341455\t 20.280053069193215\t 2.846921669012582\t 2.79093318783477\n",
            "13 \t [-0.86366266  2.59154738]\t 29.302960423516186\t 20.280053069193215\t 2.93520206485272\t 2.8670752869885074\n",
            "14 \t [-0.58589249 -1.85671933]\t 26.155345746031493\t 20.280053069193215\t 2.6606254682731425\t 2.65633588028181\n",
            "\u001b[1m\u001b[92m15\u001b[0m\t \u001b[1m\u001b[92m[-2.98478549 -0.75187044]\u001b[0m\t \u001b[1m\u001b[92m19.402391056215087\u001b[0m\t \u001b[1m\u001b[92m19.402391056215087\u001b[0m\t \u001b[1m\u001b[92m2.8847832769264703\u001b[0m\t \u001b[1m\u001b[92m2.8964898491634696\u001b[0m\n",
            "16 \t [ 3.2403885  -3.28101442]\t 42.59801589673382\t 19.402391056215087\t 2.6644077769334964\t 2.701923522328485\n",
            "17 \t [-3.50063917  0.77006875]\t 41.589782060453715\t 19.402391056215087\t 2.7916072685436655\t 2.7940823737846645\n",
            "18 \t [-5.12       -2.80696232]\t 43.30062527224044\t 19.402391056215087\t 2.9633911234756822\t 2.9677570641582305\n",
            "19 \t [0.33434929 0.40408088]\t 33.56845837974129\t 19.402391056215087\t 2.471976440235536\t 2.471976445588799\n",
            "20 \t [2.48869387 0.94186978]\t 27.715124004800348\t 19.402391056215087\t 2.789034293713628\t 2.789034293713628\n"
          ]
        }
      ],
      "source": [
        "### ESTIMATED GP EI GRADIENTS\n",
        "\n",
        "np.random.seed(run_num_19)\n",
        "surrogate_approx_19 = dGaussianProcess(cov_func, optimize=opt)\n",
        "\n",
        "approx_19 = GPGO_multi(surrogate_approx_19, Acquisition_grad(util), objfunc, param)\n",
        "approx_19.run(init_evals=n_init, max_iter=iters)\n"
      ]
    },
    {
      "cell_type": "code",
      "execution_count": 32,
      "metadata": {
        "id": "Aawd59dRIUYn",
        "colab": {
          "base_uri": "https://localhost:8080/"
        },
        "outputId": "1a174739-f6d0-4595-a75c-7d2f1d0fa475"
      },
      "outputs": [
        {
          "output_type": "stream",
          "name": "stdout",
          "text": [
            "Evaluation \t Proposed point \t  Current eval. \t  Best eval. \t        Exact EI: StdDev. x \t Approx EI: StdDev. x \n",
            "init\t [0.9024594  4.07258857]\t 20.24255447774017\t 17.388691338534382\t    \t    \n",
            "init\t [4.00927467 3.23417577]\t 35.55852254546393\t 17.388691338534382\t    \t    \n",
            "init\t [-4.75249064  1.96359764]\t 36.54582989269194\t 17.388691338534382\t    \t    \n",
            "init\t [-1.24230715  0.18955208]\t 17.388691338534382\t 17.388691338534382\t    \t    \n",
            "init\t [ 1.61742301 -3.13497377]\t 33.22932870179905\t 17.388691338534382\t    \t    \n",
            "1  \t [-5.12       -3.80693718]\t 49.91583838016093\t 17.388691338534382\t 2.8680487736089044\t 3.2754413137913607\n",
            "2  \t [ 5.12       -0.92644543]\t 30.832086583312943\t 17.388691338534382\t 2.9765248457319142\t 3.6740616428139776\n",
            "3  \t [ 5.12 -5.12]\t 57.849427451571785\t 17.388691338534382\t 2.613537575282048\t 3.375703713923869\n",
            "4  \t [-2.70369198  5.12      ]\t 49.103402108410435\t 17.388691338534382\t 2.932979554452251\t 3.4200348478357534\n",
            "5  \t [-1.50459977 -5.12      ]\t 51.184358088280646\t 17.388691338534382\t 2.8791325033892643\t 3.3359129874785447\n",
            "6  \t [1.91189053 0.46615137]\t 25.140985236921736\t 17.388691338534382\t 3.265125030549446\t 3.288204708245282\n",
            "7  \t [-3.79273151 -1.02047093]\t 22.856019924301453\t 17.388691338534382\t 3.302191956278046\t 3.62440488176359\n",
            "8  \t [-1.34490966  2.54597528]\t 43.492570939493135\t 17.388691338534382\t 3.021952154542394\t 3.3125978645086467\n",
            "9  \t [-1.17774933 -2.22262878]\t 20.230534431804095\t 17.388691338534382\t 2.9397534615398278\t 2.956342714104951\n",
            "10 \t [-5.12  5.12]\t 57.849427451571785\t 17.388691338534382\t 3.1888532930434943\t 3.1964938331399417\n",
            "11 \t [5.12 5.12]\t 57.849427451571785\t 17.388691338534382\t 3.138982116573812\t 3.2292929112382476\n",
            "12 \t [ 2.22276118 -5.12      ]\t 42.162258517156474\t 17.388691338534382\t 3.1896050838504157\t 3.2994653053845795\n",
            "13 \t [5.12       1.32201332]\t 45.04434309301758\t 17.388691338534382\t 3.2330241262413293\t 3.3942088627569804\n",
            "14 \t [ 3.91456614 -2.67254766]\t 38.5494789667359\t 17.388691338534382\t 2.6735023960301034\t 2.712506053006332\n",
            "15 \t [ 0.54284048 -1.04687571]\t 21.46114106927285\t 17.388691338534382\t 2.59809538461016\t 2.5897069911361035\n",
            "16 \t [2.3694811 5.12     ]\t 51.36082222952149\t 17.388691338534382\t 2.934313418422681\t 2.9364997247578764\n",
            "17 \t [-5.12       -0.32910905]\t 43.80143258514794\t 17.388691338534382\t 2.810113189060637\t 2.8984309125095984\n",
            "18 \t [-0.36926252  5.12      ]\t 45.8726877050735\t 17.388691338534382\t 3.0927818675455376\t 3.103146824255145\n",
            "19 \t [-2.90027553 -2.89708174]\t 20.72330728469221\t 17.388691338534382\t 2.8936589116738896\t 2.89600063351978\n",
            "20 \t [-2.78882611  0.66946769]\t 30.657165180112813\t 17.388691338534382\t 2.524668821384654\t 2.538241609048664\n"
          ]
        }
      ],
      "source": [
        "### ESTIMATED GP EI GRADIENTS\n",
        "\n",
        "np.random.seed(run_num_20)\n",
        "surrogate_approx_20 = dGaussianProcess(cov_func, optimize=opt)\n",
        "\n",
        "approx_20 = GPGO_multi(surrogate_approx_20, Acquisition_grad(util), objfunc, param)\n",
        "approx_20.run(init_evals=n_init, max_iter=iters)\n"
      ]
    },
    {
      "cell_type": "code",
      "execution_count": 33,
      "metadata": {
        "id": "xkgzPRbBTHaq",
        "colab": {
          "base_uri": "https://localhost:8080/"
        },
        "outputId": "23d8a60b-8f4d-4e84-a344-9f455e633e50"
      },
      "outputs": [
        {
          "output_type": "execute_result",
          "data": {
            "text/plain": [
              "1659620437.271286"
            ]
          },
          "metadata": {},
          "execution_count": 33
        }
      ],
      "source": [
        "end_approx = time.time()\n",
        "end_approx\n",
        "\n",
        "time_approx = end_approx - start_approx\n",
        "time_approx\n",
        "\n",
        "start_exact = time.time()\n",
        "start_exact"
      ]
    },
    {
      "cell_type": "code",
      "execution_count": 34,
      "metadata": {
        "id": "7CG3Ndvb16Rb",
        "colab": {
          "base_uri": "https://localhost:8080/"
        },
        "outputId": "4e415ee9-0a5b-4ca3-e74a-a73e6761d443"
      },
      "outputs": [
        {
          "output_type": "stream",
          "name": "stdout",
          "text": [
            "Evaluation \t Proposed point \t  Current eval. \t  Best eval. \t        Exact EI: StdDev. x \t Approx EI: StdDev. x \n",
            "init\t [-0.84969467  2.25612281]\t 20.33436270766351\t 19.908403246996286\t    \t    \n",
            "init\t [-5.1188288  -2.02411446]\t 33.07414982069084\t 19.908403246996286\t    \t    \n",
            "init\t [-3.61721968 -4.17445279]\t 53.347974723929894\t 19.908403246996286\t    \t    \n",
            "init\t [-3.21269544 -1.58145816]\t 39.218472310354045\t 19.908403246996286\t    \t    \n",
            "init\t [-1.05710106  0.39748336]\t 19.908403246996286\t 19.908403246996286\t    \t    \n",
            "1  \t [ 4.04077223 -4.24914728]\t 44.655863836006326\t 19.908403246996286\t 3.635859811749542\t 4.062408354681372\n",
            "2  \t [3.95569971 5.12      ]\t 44.957164327661914\t 19.908403246996286\t 3.399899635991294\t 3.651586764400539\n",
            "3  \t [5.12       0.47931867]\t 49.07015084657466\t 19.908403246996286\t 3.234609190357159\t 3.6518042880769275\n",
            "4  \t [-5.12        4.36680096]\t 64.69123843791516\t 19.908403246996286\t 3.3464970673964674\t 3.9498352348369683\n",
            "5  \t [ 0.20333181 -5.12      ]\t 36.07564817041229\t 19.908403246996286\t 2.7110158505950026\t 2.978169033858943\n",
            "6  \t [ 1.75432371 -1.381871  ]\t 32.08524098920023\t 19.908403246996286\t 2.73410243452663\t 2.9141756676382067\n",
            "7  \t [0.30219617 5.12      ]\t 42.23714377444852\t 19.908403246996286\t 3.2215318680322764\t 3.4923083615307964\n",
            "8  \t [-5.12        1.09583141]\t 31.884229782605047\t 19.908403246996286\t 3.1402822950517884\t 3.3396980583392795\n",
            "9  \t [-2.29362606  4.58591516]\t 57.576254713337285\t 19.908403246996286\t 2.939552709639585\t 3.2689964197899686\n",
            "10 \t [ 5.12       -2.05550915]\t 33.751908599059156\t 19.908403246996286\t 3.1042507679324367\t 3.1355703696024\n",
            "11 \t [2.12691404 2.24188964]\t 22.054943974898134\t 19.908403246996286\t 2.877370949090719\t 2.532942035818413\n",
            "12 \t [-0.30580613 -2.82865692]\t 26.786392616255604\t 19.908403246996286\t 2.9785719388752065\t 2.951722134265528\n",
            "13 \t [5.12       3.16072169]\t 43.59494856771727\t 19.908403246996286\t 2.621491933083704\t 2.5560804156748427\n",
            "14 \t [2.11817743 0.56735627]\t 26.558716491250138\t 19.908403246996286\t 3.0215317305122715\t 3.040808832488686\n",
            "15 \t [-2.91961565  1.57537661]\t 31.153857496240093\t 19.908403246996286\t 2.615060574106237\t 2.6441496503366624\n",
            "16 \t [ 1.78861371 -3.42070687]\t 41.282312249548085\t 19.908403246996286\t 2.921038849363436\t 2.930358607492314\n",
            "\u001b[1m\u001b[92m17\u001b[0m\t \u001b[1m\u001b[92m[ 0.28278677 -0.93093934]\u001b[0m\t \u001b[1m\u001b[92m13.91888710554251\u001b[0m\t \u001b[1m\u001b[92m13.91888710554251\u001b[0m\t \u001b[1m\u001b[92m2.8979646965041796\u001b[0m\t \u001b[1m\u001b[92m2.8966913281244238\u001b[0m\n",
            "18 \t [1.89191266 4.13073922]\t 26.049623733668437\t 13.91888710554251\t 2.938889874598921\t 2.932691484372071\n",
            "19 \t [-1.80956774 -4.71108049]\t 44.233920778286695\t 13.91888710554251\t 3.303929279943293\t 3.3183387953673456\n",
            "\u001b[1m\u001b[92m20\u001b[0m\t \u001b[1m\u001b[92m[1.01360936 1.1848119 ]\u001b[0m\t \u001b[1m\u001b[92m8.48539809445838\u001b[0m\t \u001b[1m\u001b[92m8.48539809445838\u001b[0m\t \u001b[1m\u001b[92m2.9629086739663912\u001b[0m\t \u001b[1m\u001b[92m2.9629086739663912\u001b[0m\n"
          ]
        }
      ],
      "source": [
        "### EXACT GP EI GRADIENTS\n",
        "\n",
        "np.random.seed(run_num_1)\n",
        "surrogate_exact_1 = dGaussianProcess(cov_func, optimize=opt)\n",
        "\n",
        "exact_1 = dGPGO(surrogate_exact_1, Acquisition_grad(util), objfunc, param)\n",
        "exact_1.run(init_evals=n_init, max_iter=iters)\n"
      ]
    },
    {
      "cell_type": "code",
      "execution_count": 35,
      "metadata": {
        "id": "-ilCPSAu9SAg",
        "colab": {
          "base_uri": "https://localhost:8080/"
        },
        "outputId": "9f1fb47f-ef75-4bfb-af69-b00b79b388a0"
      },
      "outputs": [
        {
          "output_type": "stream",
          "name": "stdout",
          "text": [
            "Evaluation \t Proposed point \t  Current eval. \t  Best eval. \t        Exact EI: StdDev. x \t Approx EI: StdDev. x \n",
            "init\t [-0.6554122  -4.85451539]\t 43.490296251903594\t 18.964539418712707\t    \t    \n",
            "init\t [ 0.50854377 -0.6622987 ]\t 35.91861667536101\t 18.964539418712707\t    \t    \n",
            "init\t [-0.81543371 -1.73737143]\t 20.479562046739524\t 18.964539418712707\t    \t    \n",
            "init\t [-3.02439799  1.2213347 ]\t 18.964539418712707\t 18.964539418712707\t    \t    \n",
            "init\t [-2.05153614 -2.3876887 ]\t 28.041315668371354\t 18.964539418712707\t    \t    \n",
            "1  \t [3.91207732 5.12      ]\t 45.71656758082061\t 18.964539418712707\t 3.818260071415723\t 3.899056990158343\n",
            "2  \t [ 4.84262143 -3.96515559]\t 43.91554200116249\t 18.964539418712707\t 2.841502152317444\t 3.683372160050266\n",
            "3  \t [-0.81906025  5.12      ]\t 35.39128099258556\t 18.964539418712707\t 3.5476001033528584\t 3.873942898966989\n",
            "4  \t [-5.12 -5.12]\t 57.849427451571785\t 18.964539418712707\t 3.3951492742309646\t 3.541783966006978\n",
            "5  \t [5.12       0.71181662]\t 41.80757997921023\t 18.964539418712707\t 3.0647958412435585\t 3.444863809864597\n",
            "6  \t [-4.6297519   4.23289614]\t 65.13623895320521\t 18.964539418712707\t 3.1336852944337084\t 3.2613470668608064\n",
            "7  \t [1.67424765 2.45754179]\t 43.07085673274311\t 18.964539418712707\t 3.056393845796049\t 3.216109007092517\n",
            "8  \t [ 2.03101976 -3.59038555]\t 35.63551920534303\t 18.964539418712707\t 2.6546029406835614\t 2.6889178168252856\n",
            "\u001b[1m\u001b[92m9\u001b[0m\t \u001b[1m\u001b[92m[-0.87788224  1.86922398]\u001b[0m\t \u001b[1m\u001b[92m10.25687316833514\u001b[0m\t \u001b[1m\u001b[92m10.25687316833514\u001b[0m\t \u001b[1m\u001b[92m2.8351995773459815\u001b[0m\t \u001b[1m\u001b[92m2.975279500526978\u001b[0m\n",
            "10 \t [-5.12       -1.65217687]\t 47.42105345158599\t 10.25687316833514\t 2.979558529451998\t 3.0841849468496467\n",
            "11 \t [ 5.12       -1.61896123]\t 48.87995880424733\t 10.25687316833514\t 3.1182602228178027\t 3.1746841082918116\n",
            "12 \t [-4.76114337  0.64090089]\t 48.71017690769291\t 10.25687316833514\t 2.362025826924484\t 2.4704604865442956\n",
            "13 \t [-2.1684195   3.16444778]\t 24.69120427604529\t 10.25687316833514\t 3.0345267717205253\t 2.998495298816111\n",
            "14 \t [1.62491182 5.07769781]\t 46.66650438843988\t 10.25687316833514\t 3.14739017120259\t 3.1463473256469365\n",
            "15 \t [ 2.77924478 -0.41444832]\t 34.65851144435443\t 10.25687316833514\t 2.822361694066203\t 2.842934085184594\n",
            "16 \t [-2.86712043 -4.93427596]\t 36.695608349437485\t 10.25687316833514\t 2.8605351771363052\t 2.8300436482219093\n",
            "17 \t [5.12       3.21859476]\t 47.32359694807277\t 10.25687316833514\t 2.9933793420347703\t 2.990333176210992\n",
            "18 \t [-1.68198696  0.03132855]\t 17.16767429281602\t 10.25687316833514\t 2.8120903571451974\t 2.8020044834232247\n",
            "\u001b[1m\u001b[92m19\u001b[0m\t \u001b[1m\u001b[92m[-0.05554702  0.9658317 ]\u001b[0m\t \u001b[1m\u001b[92m1.7683728100166523\u001b[0m\t \u001b[1m\u001b[92m1.7683728100166523\u001b[0m\t \u001b[1m\u001b[92m2.8280783530815916\u001b[0m\t \u001b[1m\u001b[92m2.828078983928261\u001b[0m\n",
            "20 \t [0.69555508 0.97487304]\t 14.913085789193813\t 1.7683728100166523\t 2.964266799072419\t 2.9642675734605093\n"
          ]
        }
      ],
      "source": [
        "### EXACT GP EI GRADIENTS\n",
        "\n",
        "np.random.seed(run_num_2)\n",
        "surrogate_exact_2 = dGaussianProcess(cov_func, optimize=opt)\n",
        "\n",
        "exact_2 = dGPGO(surrogate_exact_2, Acquisition_grad(util), objfunc, param)\n",
        "exact_2.run(init_evals=n_init, max_iter=iters)\n"
      ]
    },
    {
      "cell_type": "code",
      "execution_count": 36,
      "metadata": {
        "id": "XieJ158mIvlP",
        "colab": {
          "base_uri": "https://localhost:8080/"
        },
        "outputId": "438e3d5b-fb66-4db8-cf9f-82b0199afab3"
      },
      "outputs": [
        {
          "output_type": "stream",
          "name": "stdout",
          "text": [
            "Evaluation \t Proposed point \t  Current eval. \t  Best eval. \t        Exact EI: StdDev. x \t Approx EI: StdDev. x \n",
            "init\t [0.52017052 2.1314337 ]\t 27.953858411008774\t 10.607662635789808\t    \t    \n",
            "init\t [-2.14113547  0.11087468]\t 10.607662635789808\t 10.607662635789808\t    \t    \n",
            "init\t [4.02377681 4.05804123]\t 33.42749829480097\t 10.607662635789808\t    \t    \n",
            "init\t [-3.83400642 -2.99783293]\t 28.650953928965198\t 10.607662635789808\t    \t    \n",
            "init\t [-4.59297584 -0.6061072 ]\t 57.6631355589384\t 10.607662635789808\t    \t    \n",
            "1  \t [ 1.80565001 -3.04761061]\t 19.5666404549755\t 10.607662635789808\t 2.2843844092193546\t 3.5381981287952384\n",
            "2  \t [-3.57871734  4.80548253]\t 61.28559802785699\t 10.607662635789808\t 3.099276399072433\t 3.8392614251792305\n",
            "3  \t [ 5.12       -0.22832109]\t 37.61892634098497\t 10.607662635789808\t 2.9083878481095335\t 3.0770715992094106\n",
            "4  \t [-0.98127961 -5.12      ]\t 29.95672032642291\t 10.607662635789808\t 2.8792422274844403\t 3.0484995822860705\n",
            "5  \t [-0.58862849 -1.88989711]\t 24.706324384530227\t 10.607662635789808\t 2.8072185721563305\t 3.276495280427553\n",
            "6  \t [ 5.12       -4.57451492]\t 68.77476117581722\t 10.607662635789808\t 2.9898847857547595\t 3.526682725785904\n",
            "7  \t [0.4944958 5.12     ]\t 49.16326018401635\t 10.607662635789808\t 2.8931392564576486\t 2.8871119960644265\n",
            "8  \t [-5.12 -5.12]\t 57.849427451571785\t 10.607662635789808\t 2.929745822609771\t 2.9255425075889065\n",
            "9  \t [ 2.19890773 -0.28681017]\t 24.054373884350923\t 10.607662635789808\t 2.6549984623548686\t 2.687904885149995\n",
            "10 \t [ 1.75941138 -5.12      ]\t 41.42925230030146\t 10.607662635789808\t 2.998309303485771\t 3.2839978723657866\n",
            "11 \t [-3.39977026  2.05271234]\t 34.39721900759886\t 10.607662635789808\t 2.9095134745173308\t 3.006288262087467\n",
            "12 \t [3.55221499 1.72190511]\t 46.80592773587877\t 10.607662635789808\t 2.8065745714733388\t 2.86899598311782\n",
            "13 \t [-5.12        2.42645644]\t 53.76364125815871\t 10.607662635789808\t 2.9755985836036136\t 2.9684670482360267\n",
            "\u001b[1m\u001b[92m14\u001b[0m\t \u001b[1m\u001b[92m[ 0.05554451 -0.0354738 ]\u001b[0m\t \u001b[1m\u001b[92m0.8545497697986626\u001b[0m\t \u001b[1m\u001b[92m0.8545497697986626\u001b[0m\t \u001b[1m\u001b[92m2.6973745627783177\u001b[0m\t \u001b[1m\u001b[92m2.6778346689527273\u001b[0m\n",
            "15 \t [-0.77762468  0.49263945]\t 29.109693557668876\t 0.8545497697986626\t 2.9039220163326287\t 2.8189112769220293\n",
            "16 \t [-1.31047694  3.19028349]\t 31.939671669882696\t 0.8545497697986626\t 3.030684602183597\t 2.9852791454436747\n",
            "17 \t [-1.76662932 -3.50338493]\t 44.349472669156285\t 0.8545497697986626\t 2.7508530996185523\t 2.7279000601329777\n",
            "18 \t [ 3.94503891 -2.31569648]\t 35.527749516000576\t 0.8545497697986626\t 3.225874542154228\t 3.1364051791466996\n",
            "19 \t [5.12 5.12]\t 57.849427451571785\t 0.8545497697986626\t 2.9153987390774954\t 2.915397944696873\n",
            "20 \t [ 1.10141669 -1.49839041]\t 25.42025157158831\t 0.8545497697986626\t 2.5724594242802943\t 2.5584372142686034\n"
          ]
        }
      ],
      "source": [
        "### EXACT GP EI GRADIENTS\n",
        "\n",
        "np.random.seed(run_num_3)\n",
        "surrogate_exact_3 = dGaussianProcess(cov_func, optimize=opt)\n",
        "\n",
        "exact_3 = dGPGO(surrogate_exact_3, Acquisition_grad(util), objfunc, param)\n",
        "exact_3.run(init_evals=n_init, max_iter=iters)\n"
      ]
    },
    {
      "cell_type": "code",
      "execution_count": 37,
      "metadata": {
        "id": "PhLBVOIfIvol",
        "colab": {
          "base_uri": "https://localhost:8080/"
        },
        "outputId": "d76db416-814c-4471-bd9c-26f201887e94"
      },
      "outputs": [
        {
          "output_type": "stream",
          "name": "stdout",
          "text": [
            "Evaluation \t Proposed point \t  Current eval. \t  Best eval. \t        Exact EI: StdDev. x \t Approx EI: StdDev. x \n",
            "init\t [4.78238555 0.48365823]\t 51.03163809010808\t 14.323038259018315\t    \t    \n",
            "init\t [4.84028785 2.19971578]\t 39.78645699016559\t 14.323038259018315\t    \t    \n",
            "init\t [ 2.02474316 -2.90724357]\t 14.323038259018315\t 14.323038259018315\t    \t    \n",
            "init\t [ 4.87705042 -5.05620219]\t 52.80627247106233\t 14.323038259018315\t    \t    \n",
            "init\t [-2.52946061 -0.66773471]\t 41.61497868486559\t 14.323038259018315\t    \t    \n",
            "1  \t [-1.01565322  4.77412453]\t 32.362152132578984\t 14.323038259018315\t 2.779033691364518\t 3.451029535707128\n",
            "2  \t [-5.12 -5.12]\t 57.849427451571785\t 14.323038259018315\t 3.5104174382111615\t 3.108438808397164\n",
            "3  \t [-0.96892694 -5.12      ]\t 30.053517501182924\t 14.323038259018315\t 3.331120518022501\t 3.4669929297429327\n",
            "4  \t [0.8312782 1.3534401]\t 23.686398382791577\t 14.323038259018315\t 3.1646971330302227\t 3.387285264399668\n",
            "5  \t [-5.12        3.19466591]\t 45.72348149433688\t 14.323038259018315\t 2.8736745811226863\t 3.323577098307485\n",
            "6  \t [4.10247948 5.12      ]\t 47.75743112638065\t 14.323038259018315\t 3.124743017386913\t 3.064163157251148\n",
            "7  \t [-5.12      -1.8440995]\t 36.751468915848164\t 14.323038259018315\t 2.488730550500973\t 2.6836559043424506\n",
            "\u001b[1m\u001b[92m8\u001b[0m\t \u001b[1m\u001b[92m[-1.80917486  2.03023759]\u001b[0m\t \u001b[1m\u001b[92m13.941922117758516\u001b[0m\t \u001b[1m\u001b[92m13.941922117758516\u001b[0m\t \u001b[1m\u001b[92m2.6412739159954453\u001b[0m\t \u001b[1m\u001b[92m2.8927017034281772\u001b[0m\n",
            "9  \t [1.97794851 3.4169475 ]\t 34.35270570239159\t 13.941922117758516\t 2.816013002302411\t 2.9310013848138587\n",
            "10 \t [ 4.72783099 -2.21056937]\t 46.17519072534815\t 13.941922117758516\t 3.653163716252828\t 3.6424827388041447\n",
            "11 \t [ 0.17741102 -1.4458869 ]\t 27.145190088166558\t 13.941922117758516\t 3.221893607168513\t 3.2912733831499907\n",
            "12 \t [ 1.4263009  -4.91291525]\t 46.57794101817405\t 13.941922117758516\t 2.9531217182638674\t 3.126821398275982\n",
            "13 \t [-2.78754811 -3.3117722 ]\t 40.18541306481386\t 13.941922117758516\t 2.8715867649503557\t 3.2063938765868034\n",
            "14 \t [-3.40356404  5.12      ]\t 58.72871834098878\t 13.941922117758516\t 2.644339534305609\t 2.6988596868073063\n",
            "15 \t [ 2.3279673  -0.41964761]\t 39.053140847064206\t 13.941922117758516\t 2.966906443194517\t 3.0805501144044136\n",
            "16 \t [-5.09294681  0.5710618 ]\t 46.94125492590334\t 13.941922117758516\t 2.857500612227118\t 2.945936687047749\n",
            "17 \t [-3.03216692  2.3317731 ]\t 29.749613743641827\t 13.941922117758516\t 2.8489863466108094\t 2.7937904829103313\n",
            "18 \t [-0.60907899 -2.95553596]\t 27.235782824846986\t 13.941922117758516\t 2.906693949462841\t 2.920439630444689\n",
            "19 \t [0.61555699 2.67722501]\t 39.43926653014315\t 13.941922117758516\t 3.0308426042815695\t 3.0308426042815695\n",
            "20 \t [1.26696088 5.12      ]\t 41.5935709117027\t 13.941922117758516\t 2.773136343188319\t 2.7728541173232464\n"
          ]
        }
      ],
      "source": [
        "### EXACT GP EI GRADIENTS\n",
        "\n",
        "np.random.seed(run_num_4)\n",
        "surrogate_exact_4 = dGaussianProcess(cov_func, optimize=opt)\n",
        "\n",
        "exact_4 = dGPGO(surrogate_exact_4, Acquisition_grad(util), objfunc, param)\n",
        "exact_4.run(init_evals=n_init, max_iter=iters)\n"
      ]
    },
    {
      "cell_type": "code",
      "execution_count": 38,
      "metadata": {
        "id": "arbiPyj2IvsJ",
        "colab": {
          "base_uri": "https://localhost:8080/"
        },
        "outputId": "8eaac50d-667c-40a8-c3ee-5973a1ae5901"
      },
      "outputs": [
        {
          "output_type": "stream",
          "name": "stdout",
          "text": [
            "Evaluation \t Proposed point \t  Current eval. \t  Best eval. \t        Exact EI: StdDev. x \t Approx EI: StdDev. x \n",
            "init\t [-2.84678993  3.79629882]\t 33.93442008827236\t 7.8108627039749745\t    \t    \n",
            "init\t [-3.00319585  4.2865757 ]\t 39.673876075575784\t 7.8108627039749745\t    \t    \n",
            "init\t [-0.11866943  1.14425716]\t 7.8108627039749745\t 7.8108627039749745\t    \t    \n",
            "init\t [2.72289645 0.1886002 ]\t 25.38160395721669\t 7.8108627039749745\t    \t    \n",
            "init\t [-2.08076286 -3.19773462]\t 22.589982116319675\t 7.8108627039749745\t    \t    \n",
            "1  \t [ 4.32895605 -5.09732646]\t 61.29478907190488\t 7.8108627039749745\t 4.439288727207343\t 4.582275932834482\n",
            "2  \t [5.12 5.12]\t 57.849427451571785\t 7.8108627039749745\t 4.165275502180321\t 4.006633684773915\n",
            "3  \t [-5.12      -0.2720871]\t 40.382068322008735\t 7.8108627039749745\t 3.5155788319512777\t 3.5538159507769187\n",
            "4  \t [1.01338591 5.12      ]\t 29.987013097899762\t 7.8108627039749745\t 3.4201455141141577\t 3.4147202118383864\n",
            "5  \t [-5.12 -5.12]\t 57.849427451571785\t 7.8108627039749745\t 3.349115618992134\t 3.290871728729385\n",
            "6  \t [ 0.62772912 -5.12      ]\t 46.26754003098997\t 7.8108627039749745\t 3.3012328444925063\t 3.415300311659638\n",
            "7  \t [5.12       1.81418327]\t 38.29164386528666\t 7.8108627039749745\t 2.4819240315847475\t 2.565351385840999\n",
            "8  \t [ 5.12       -1.69626944]\t 45.114270362202774\t 7.8108627039749745\t 3.116059833457581\t 3.1808189339452384\n",
            "9  \t [-0.08075509 -1.23411109]\t 11.792767485746275\t 7.8108627039749745\t 2.8458550579802226\t 2.6776157861244476\n",
            "10 \t [-2.69243371  1.16889555]\t 27.275929360706023\t 7.8108627039749745\t 2.9072025632363836\t 2.7701921075862512\n",
            "11 \t [ 1.75543496 -2.32095987]\t 32.439270322590374\t 7.8108627039749745\t 2.803913406348047\t 3.018756641390764\n",
            "12 \t [-5.12        2.58332045]\t 54.258917138852674\t 7.8108627039749745\t 2.750109527957263\t 2.864749078617108\n",
            "13 \t [1.94374522 2.73045872]\t 23.076473037840536\t 7.8108627039749745\t 3.033674690333749\t 2.9819876937063814\n",
            "14 \t [-4.98001163 -2.60069947]\t 49.70717434726285\t 7.8108627039749745\t 2.4990402279785897\t 2.6923819897739225\n",
            "15 \t [-0.2760325   2.50561101]\t 37.97645298089112\t 7.8108627039749745\t 2.7058550705411935\t 2.6673316307186052\n",
            "16 \t [-1.78239098 -1.01791178]\t 12.25515978529882\t 7.8108627039749745\t 2.7275956701453983\t 3.1983068903428475\n",
            "17 \t [0.44800612 0.16342572]\t 24.523220288662493\t 7.8108627039749745\t 2.716508959621793\t 2.8334236882595847\n",
            "18 \t [-1.2375421  -3.91215599]\t 27.539433007469395\t 7.8108627039749745\t 2.8354143237584903\t 2.8965711329213133\n",
            "19 \t [-2.79060067 -1.3469818 ]\t 32.8017592870552\t 7.8108627039749745\t 2.6461696381322812\t 2.6476476317595035\n",
            "20 \t [3.41848933 3.52770703]\t 62.69658035590431\t 7.8108627039749745\t 2.9022241263176314\t 2.9164903018126482\n"
          ]
        }
      ],
      "source": [
        "### EXACT GP EI GRADIENTS\n",
        "\n",
        "np.random.seed(run_num_5)\n",
        "surrogate_exact_5 = dGaussianProcess(cov_func, optimize=opt)\n",
        "\n",
        "exact_5 = dGPGO(surrogate_exact_5, Acquisition_grad(util), objfunc, param)\n",
        "exact_5.run(init_evals=n_init, max_iter=iters)\n"
      ]
    },
    {
      "cell_type": "code",
      "execution_count": 39,
      "metadata": {
        "id": "04KJCEm_Ivvf",
        "colab": {
          "base_uri": "https://localhost:8080/"
        },
        "outputId": "41ddc3a0-5371-4894-da0a-c66379c5c3df"
      },
      "outputs": [
        {
          "output_type": "stream",
          "name": "stdout",
          "text": [
            "Evaluation \t Proposed point \t  Current eval. \t  Best eval. \t        Exact EI: StdDev. x \t Approx EI: StdDev. x \n",
            "init\t [ 4.02288795 -1.72052679]\t 31.08835710146886\t 17.28954482757088\t    \t    \n",
            "init\t [ 3.28938622 -4.69302655]\t 58.797867722203385\t 17.28954482757088\t    \t    \n",
            "init\t [-4.0175956   0.97333314]\t 17.28954482757088\t 17.28954482757088\t    \t    \n",
            "init\t [ 0.30532979 -0.83141193]\t 19.296253155889353\t 17.28954482757088\t    \t    \n",
            "init\t [-1.68542362  1.25459899]\t 28.650630936276173\t 17.28954482757088\t    \t    \n",
            "1  \t [-5.12 -5.12]\t 57.849427451571785\t 17.28954482757088\t 3.9680185870189377\t 4.105383052528886\n",
            "2  \t [4.64255669 5.12      ]\t 66.72769251837904\t 17.28954482757088\t 3.6567896250673506\t 4.041535345521052\n",
            "3  \t [0.02050218 5.12      ]\t 29.00799105330946\t 17.28954482757088\t 3.5493592761502453\t 3.9624076947733107\n",
            "4  \t [-0.92932825 -5.12      ]\t 30.758145614142002\t 17.28954482757088\t 3.2052579061987525\t 4.118806184872011\n",
            "5  \t [2.51815483 1.92164354]\t 31.156480488159588\t 17.28954482757088\t 2.7184087627187807\t 3.1349735423848264\n",
            "6  \t [-3.62819326  4.5323828 ]\t 70.42778022243338\t 17.28954482757088\t 3.2083399132866806\t 3.801079546968919\n",
            "7  \t [-3.18693139 -2.0993916 ]\t 22.59157974281798\t 17.28954482757088\t 3.262044783391787\t 3.257077692554605\n",
            "8  \t [5.12       1.26656361]\t 41.5677420672014\t 17.28954482757088\t 3.158991256197263\t 3.1515017886593606\n",
            "9  \t [ 0.27633324 -2.93190966]\t 21.22077584407137\t 17.28954482757088\t 2.7605888251949704\t 2.9509744072683666\n",
            "10 \t [-5.12     -1.107439]\t 32.34443476941281\t 17.28954482757088\t 2.911680798421665\t 2.972045256588385\n",
            "11 \t [ 2.24333322 -0.48213723]\t 34.78331891719837\t 17.28954482757088\t 3.326906238926246\t 3.3803915715281465\n",
            "\u001b[1m\u001b[92m12\u001b[0m\t \u001b[1m\u001b[92m[-0.12129521  2.91443517]\u001b[0m\t \u001b[1m\u001b[92m12.685607572376263\u001b[0m\t \u001b[1m\u001b[92m12.685607572376263\u001b[0m\t \u001b[1m\u001b[92m2.821598345325826\u001b[0m\t \u001b[1m\u001b[92m2.8204193309080403\u001b[0m\n",
            "13 \t [2.13398949 5.10204196]\t 35.91003886110116\t 12.685607572376263\t 2.7093736644327318\t 2.8433396464570566\n",
            "14 \t [-5.10881441  2.33228622]\t 48.73005656349214\t 12.685607572376263\t 3.0278428589613187\t 2.9873263340007195\n",
            "15 \t [-2.79688716 -4.03740747]\t 31.49460405465555\t 12.685607572376263\t 2.9689304368178147\t 3.152333018233301\n",
            "16 \t [-1.75057444 -0.92579848]\t 14.95279106433389\t 12.685607572376263\t 2.854922283580802\t 2.8278209339725278\n",
            "17 \t [-1.53102513  3.66480401]\t 50.6864356620971\t 12.685607572376263\t 3.308798788184196\t 3.3272688365470273\n",
            "18 \t [ 1.15342396 -2.51547464]\t 31.90830965786489\t 12.685607572376263\t 3.0019972958874845\t 3.0019972958874845\n",
            "19 \t [ 1.00437138 -5.12      ]\t 29.937247323980344\t 12.685607572376263\t 3.172749956007522\t 3.155265864092851\n",
            "20 \t [ 5.12      -2.9658051]\t 37.95063594799061\t 12.685607572376263\t 3.024848672480179\t 3.032727168795185\n"
          ]
        }
      ],
      "source": [
        "### EXACT GP EI GRADIENTS\n",
        "\n",
        "np.random.seed(run_num_6)\n",
        "surrogate_exact_6 = dGaussianProcess(cov_func, optimize=opt)\n",
        "\n",
        "exact_6 = dGPGO(surrogate_exact_6, Acquisition_grad(util), objfunc, param)\n",
        "exact_6.run(init_evals=n_init, max_iter=iters)\n"
      ]
    },
    {
      "cell_type": "code",
      "execution_count": 40,
      "metadata": {
        "id": "tAOkme3CIvyO",
        "colab": {
          "base_uri": "https://localhost:8080/"
        },
        "outputId": "8e2c95fe-6b7a-4846-fbe3-86572e6d8e8a"
      },
      "outputs": [
        {
          "output_type": "stream",
          "name": "stdout",
          "text": [
            "Evaluation \t Proposed point \t  Current eval. \t  Best eval. \t        Exact EI: StdDev. x \t Approx EI: StdDev. x \n",
            "init\t [-4.33860312  2.86636843]\t 45.646133072936244\t 22.52235437888213\t    \t    \n",
            "init\t [-0.63068947  2.28828342]\t 34.83012662845338\t 22.52235437888213\t    \t    \n",
            "init\t [4.8946126  0.39419771]\t 44.09657005662876\t 22.52235437888213\t    \t    \n",
            "init\t [ 0.01147355 -4.38219639]\t 36.613209822404315\t 22.52235437888213\t    \t    \n",
            "init\t [-2.37118484e+00 -1.20319155e-03]\t 22.52235437888213\t 22.52235437888213\t    \t    \n",
            "1  \t [-5.12 -5.12]\t 57.849427451571785\t 22.52235437888213\t 2.6946764150317684\t 3.244799883277698\n",
            "2  \t [3.74335335 5.12      ]\t 53.35490818566568\t 22.52235437888213\t 3.4693731924605054\t 3.6041152476781435\n",
            "3  \t [ 4.5282828  -4.16265257]\t 62.45872989450317\t 22.52235437888213\t 3.3815541515528347\t 3.411388707422778\n",
            "4  \t [-4.02558214 -1.33646422]\t 33.289738493146906\t 22.52235437888213\t 2.8859422840725997\t 2.8729807347858736\n",
            "\u001b[1m\u001b[92m5\u001b[0m\t \u001b[1m\u001b[92m[ 1.30561205 -0.85934452]\u001b[0m\t \u001b[1m\u001b[92m19.524180402300825\u001b[0m\t \u001b[1m\u001b[92m19.524180402300825\u001b[0m\t \u001b[1m\u001b[92m3.2239465044985556\u001b[0m\t \u001b[1m\u001b[92m3.347553776672035\u001b[0m\n",
            "6  \t [0.93890964 4.55031943]\t 41.818975193307054\t 19.524180402300825\t 3.2193035288685685\t 3.2793722958334306\n",
            "7  \t [-1.76468431  4.67855948]\t 48.42120938434371\t 19.524180402300825\t 2.7535278143390074\t 2.8971943155535698\n",
            "8  \t [2.54606517 1.65161504]\t 44.58978587318137\t 19.524180402300825\t 3.015925266954022\t 3.225347844021253\n",
            "9  \t [-2.38966912 -5.12      ]\t 52.327096215479585\t 19.524180402300825\t 3.1663562131284397\t 3.1913211089191846\n",
            "10 \t [-4.68309795  5.12      ]\t 64.93699329099653\t 19.524180402300825\t 3.253904703563041\t 3.379167268454725\n",
            "11 \t [-0.58385926 -2.1342886 ]\t 26.893182510261937\t 19.524180402300825\t 2.8273397052739386\t 2.8199195889874886\n",
            "12 \t [ 3.02224013 -1.71037121]\t 24.621082460385203\t 19.524180402300825\t 3.0565635906681026\t 3.1181820386616095\n",
            "13 \t [ 2.0159327  -4.66015352]\t 41.18120309159198\t 19.524180402300825\t 2.9877214026176517\t 3.0563333937388335\n",
            "14 \t [-5.12        0.17123693]\t 34.2047492496053\t 19.524180402300825\t 2.6325910211793317\t 2.653695716049956\n",
            "15 \t [5.12      3.4380572]\t 59.99708741888728\t 19.524180402300825\t 3.273892312758961\t 3.264818385747531\n",
            "\u001b[1m\u001b[92m16\u001b[0m\t \u001b[1m\u001b[92m[-0.18044525  0.19518283]\u001b[0m\t \u001b[1m\u001b[92m12.461625642827828\u001b[0m\t \u001b[1m\u001b[92m12.461625642827828\u001b[0m\t \u001b[1m\u001b[92m2.643007504159627\u001b[0m\t \u001b[1m\u001b[92m2.6436816665907594\u001b[0m\n",
            "17 \t [-2.54755671 -2.860231  ]\t 37.84243161172001\t 12.461625642827828\t 2.426011582687171\t 2.4291409940216107\n",
            "18 \t [ 1.19347349 -2.25353536]\t 23.24745028953262\t 12.461625642827828\t 3.2439124322868076\t 3.2439124322868076\n",
            "19 \t [-2.64662787  1.06048681]\t 24.89074248543409\t 12.461625642827828\t 3.0895940472664587\t 3.0895946801559853\n",
            "20 \t [0.47294178 1.44767156]\t 41.63959421265176\t 12.461625642827828\t 2.9635169418945773\t 2.9635169418945773\n"
          ]
        }
      ],
      "source": [
        "### EXACT GP EI GRADIENTS\n",
        "\n",
        "np.random.seed(run_num_7)\n",
        "surrogate_exact_7 = dGaussianProcess(cov_func, optimize=opt)\n",
        "\n",
        "exact_7 = dGPGO(surrogate_exact_7, Acquisition_grad(util), objfunc, param)\n",
        "exact_7.run(init_evals=n_init, max_iter=iters)\n"
      ]
    },
    {
      "cell_type": "code",
      "execution_count": 41,
      "metadata": {
        "id": "69-J3EF4Iv1S",
        "colab": {
          "base_uri": "https://localhost:8080/"
        },
        "outputId": "81f99a2a-9c27-4dd6-c03d-44c40a5c6b1d"
      },
      "outputs": [
        {
          "output_type": "stream",
          "name": "stdout",
          "text": [
            "Evaluation \t Proposed point \t  Current eval. \t  Best eval. \t        Exact EI: StdDev. x \t Approx EI: StdDev. x \n",
            "init\t [3.82391708 4.79785639]\t 50.20079446939181\t 13.871821018360485\t    \t    \n",
            "init\t [3.78055209 0.31596228]\t 36.5114251593508\t 13.871821018360485\t    \t    \n",
            "init\t [-2.73686192 -5.00327624]\t 43.34985765011677\t 13.871821018360485\t    \t    \n",
            "init\t [-0.7119993  -0.99992207]\t 13.871821018360485\t 13.871821018360485\t    \t    \n",
            "init\t [ 0.23218863 -0.22126801]\t 17.190590355445654\t 13.871821018360485\t    \t    \n",
            "1  \t [ 4.96380166 -4.82581639]\t 53.599814786253866\t 13.871821018360485\t 3.176137781904424\t 4.054701997897114\n",
            "2  \t [-5.03492225  2.95509263]\t 34.71822332027364\t 13.871821018360485\t 3.4136773758799976\t 3.8381986793546066\n",
            "3  \t [-0.90141252  5.12      ]\t 31.59524103717134\t 13.871821018360485\t 2.826544765852277\t 3.5736947381831157\n",
            "4  \t [ 1.08442296 -4.7906971 ]\t 32.971633322227845\t 13.871821018360485\t 3.2735425864432677\t 3.4623621371610893\n",
            "5  \t [-5.12       -1.43958901]\t 50.285357808233925\t 13.871821018360485\t 3.0322511284671902\t 3.0050983577183747\n",
            "\u001b[1m\u001b[92m6\u001b[0m\t \u001b[1m\u001b[92m[-1.95001889  1.93097606]\u001b[0m\t \u001b[1m\u001b[92m8.946098136270532\u001b[0m\t \u001b[1m\u001b[92m8.946098136270532\u001b[0m\t \u001b[1m\u001b[92m2.9967252345034066\u001b[0m\t \u001b[1m\u001b[92m3.2173787471149113\u001b[0m\n",
            "7  \t [1.4384639  2.43251378]\t 46.36249315625358\t 8.946098136270532\t 2.995929546624493\t 3.045744203739726\n",
            "8  \t [ 5.12       -1.96129112]\t 33.06568931585427\t 8.946098136270532\t 3.2828267311723267\t 3.444985518126825\n",
            "9  \t [ 2.53585061 -2.61902523]\t 50.36867648336765\t 8.946098136270532\t 2.7660258564150184\t 3.1987174742141717\n",
            "10 \t [-5.12 -5.12]\t 57.849427451571785\t 8.946098136270532\t 3.080924769002455\t 3.581632724834858\n",
            "11 \t [-1.84608428 -2.55223873]\t 33.71105836471553\t 8.946098136270532\t 2.847330445692665\t 3.408067942210061\n",
            "12 \t [-3.53521444  0.81159486]\t 39.138416598891894\t 8.946098136270532\t 2.5367483166027815\t 2.674868794817622\n",
            "13 \t [-3.13247214  4.49735891]\t 53.305822135312404\t 8.946098136270532\t 2.641217081055017\t 3.080223033624009\n",
            "14 \t [5.11902826 2.46571861]\t 54.72179025132276\t 8.946098136270532\t 2.9063274791597236\t 2.885852555340201\n",
            "15 \t [-1.05554731  2.50777543]\t 27.994082900054593\t 8.946098136270532\t 2.6778618075469818\t 2.8475514707539813\n",
            "16 \t [1.47993639 0.12983354]\t 25.27462207899734\t 8.946098136270532\t 2.734310091974712\t 2.7137501394767063\n",
            "17 \t [1.59691139 4.87043975]\t 47.60842981528893\t 8.946098136270532\t 3.0960947287855634\t 3.173789658603438\n",
            "\u001b[1m\u001b[92m18\u001b[0m\t \u001b[1m\u001b[92m[ 0.10866507 -2.05519922]\u001b[0m\t \u001b[1m\u001b[92m7.072766395688511\u001b[0m\t \u001b[1m\u001b[92m7.072766395688511\u001b[0m\t \u001b[1m\u001b[92m3.049492050022326\u001b[0m\t \u001b[1m\u001b[92m3.060063285966066\u001b[0m\n",
            "19 \t [-1.47888399  0.48186383]\t 42.26654909802634\t 7.072766395688511\t 2.5632586428096653\t 2.5639417734717296\n",
            "20 \t [-0.64789166 -4.20951724]\t 41.60803685648959\t 7.072766395688511\t 2.672570528005932\t 2.6581301746531882\n"
          ]
        }
      ],
      "source": [
        "### EXACT GP EI GRADIENTS\n",
        "\n",
        "np.random.seed(run_num_8)\n",
        "surrogate_exact_8 = dGaussianProcess(cov_func, optimize=opt)\n",
        "\n",
        "exact_8 = dGPGO(surrogate_exact_8, Acquisition_grad(util), objfunc, param)\n",
        "exact_8.run(init_evals=n_init, max_iter=iters)\n"
      ]
    },
    {
      "cell_type": "code",
      "execution_count": 42,
      "metadata": {
        "id": "vonm9jyuIv4t",
        "colab": {
          "base_uri": "https://localhost:8080/"
        },
        "outputId": "f8fa76d5-4711-4518-8b88-2f10957836f4"
      },
      "outputs": [
        {
          "output_type": "stream",
          "name": "stdout",
          "text": [
            "Evaluation \t Proposed point \t  Current eval. \t  Best eval. \t        Exact EI: StdDev. x \t Approx EI: StdDev. x \n",
            "init\t [-5.01376866  0.01919582]\t 25.248289026162446\t 24.454800313488693\t    \t    \n",
            "init\t [-0.04328148 -3.74958562]\t 24.454800313488693\t 24.454800313488693\t    \t    \n",
            "init\t [-3.66478248 -2.88195916]\t 39.46509426509438\t 24.454800313488693\t    \t    \n",
            "init\t [-0.83447623 -2.57944404]\t 31.06766397812992\t 24.454800313488693\t    \t    \n",
            "init\t [-4.25922917 -1.58209393]\t 49.922543556206975\t 24.454800313488693\t    \t    \n",
            "1  \t [3.69491889 4.82146316]\t 55.95031066333101\t 24.454800313488693\t 2.960558334333079\t 3.1184700031107737\n",
            "2  \t [ 5.12       -0.96381407]\t 30.111009209089183\t 24.454800313488693\t 2.830045827426535\t 3.6945956560364253\n",
            "3  \t [-1.75726245  4.33524886]\t 46.530066187987714\t 24.454800313488693\t 2.4870002370047097\t 3.910559656383963\n",
            "\u001b[1m\u001b[92m4\u001b[0m\t \u001b[1m\u001b[92m[1.32149658 1.04456568]\u001b[0m\t \u001b[1m\u001b[92m17.56964296332381\u001b[0m\t \u001b[1m\u001b[92m17.56964296332381\u001b[0m\t \u001b[1m\u001b[92m2.8815019234868\u001b[0m\t \u001b[1m\u001b[92m3.2242032344938956\u001b[0m\n",
            "5  \t [ 2.60463618 -2.60486245]\t 49.39182228410674\t 17.56964296332381\t 3.0811194932282304\t 3.541374675326477\n",
            "6  \t [-4.85459855  3.02292184]\t 36.69959614874654\t 17.56964296332381\t 2.7594596764719483\t 2.822698615448331\n",
            "\u001b[1m\u001b[92m7\u001b[0m\t \u001b[1m\u001b[92m[-2.0231529   1.12454345]\u001b[0m\t \u001b[1m\u001b[92m8.372049871726158\u001b[0m\t \u001b[1m\u001b[92m8.372049871726158\u001b[0m\t \u001b[1m\u001b[92m2.7432285942439174\u001b[0m\t \u001b[1m\u001b[92m2.8581222435884146\u001b[0m\n",
            "8  \t [-5.12 -5.12]\t 57.849427451571785\t 8.372049871726158\t 3.0488994265274565\t 2.8694784456409894\n",
            "9  \t [5.12       2.01973518]\t 33.08082522657303\t 8.372049871726158\t 3.039961444644986\t 3.0125645633511957\n",
            "10 \t [ 3.17823476 -5.12      ]\t 44.66800355580441\t 8.372049871726158\t 2.5893797784238406\t 2.746931146826458\n",
            "11 \t [0.94616713 3.98258141]\t 17.382622301584597\t 8.372049871726158\t 2.9931584105040265\t 3.1593495104874454\n",
            "12 \t [-0.75052838 -0.08322299]\t 11.87330119492044\t 8.372049871726158\t 2.9106883359530418\t 2.9094700955767037\n",
            "13 \t [-0.46753853  2.02080343]\t 24.18026389760061\t 8.372049871726158\t 2.2348538731506835\t 2.9291789222973414\n",
            "14 \t [3.03867133 0.53714132]\t 29.544724694512972\t 8.372049871726158\t 2.62709374387305\t 2.671552006112887\n",
            "15 \t [ 0.78923244 -0.85958742]\t 12.567375746707139\t 8.372049871726158\t 2.7734203555807597\t 3.2067520431152876\n",
            "16 \t [2.9097094  2.44835252]\t 35.505425793487845\t 8.372049871726158\t 2.9772037601070824\t 2.9717636578152264\n",
            "17 \t [-2.77092986  0.66066291]\t 32.12630706856737\t 8.372049871726158\t 2.6843522537565807\t 2.7426149347436435\n",
            "18 \t [-2.57731396 -4.76297909]\t 57.35704018261017\t 8.372049871726158\t 2.8845412118827602\t 2.901672396766707\n",
            "19 \t [-4.2590241  5.12     ]\t 57.63069719259711\t 8.372049871726158\t 2.905843671475847\t 2.938988037921364\n",
            "20 \t [1.55162458 5.12      ]\t 50.81077975402977\t 8.372049871726158\t 3.1175168795444517\t 3.111910497753792\n"
          ]
        }
      ],
      "source": [
        "### EXACT GP EI GRADIENTS\n",
        "\n",
        "np.random.seed(run_num_9)\n",
        "surrogate_exact_9 = dGaussianProcess(cov_func, optimize=opt)\n",
        "\n",
        "exact_9 = dGPGO(surrogate_exact_9, Acquisition_grad(util), objfunc, param)\n",
        "exact_9.run(init_evals=n_init, max_iter=iters)\n"
      ]
    },
    {
      "cell_type": "code",
      "execution_count": 43,
      "metadata": {
        "id": "6amuYlUdIv7r",
        "colab": {
          "base_uri": "https://localhost:8080/"
        },
        "outputId": "f2287de1-97ce-4953-fb33-f42f45795fbb"
      },
      "outputs": [
        {
          "output_type": "stream",
          "name": "stdout",
          "text": [
            "Evaluation \t Proposed point \t  Current eval. \t  Best eval. \t        Exact EI: StdDev. x \t Approx EI: StdDev. x \n",
            "init\t [ 2.77832339 -4.90750004]\t 41.674330194390116\t 13.839458310244165\t    \t    \n",
            "init\t [1.36855793 2.54775176]\t 44.69639719065837\t 13.839458310244165\t    \t    \n",
            "init\t [-0.01528819 -2.81808235]\t 13.839458310244165\t 13.839458310244165\t    \t    \n",
            "init\t [-3.09183626  2.66783449]\t 33.23221510904937\t 13.839458310244165\t    \t    \n",
            "init\t [-3.38830503 -4.2154003 ]\t 54.73014366983691\t 13.839458310244165\t    \t    \n",
            "1  \t [ 5.12       -0.53449745]\t 48.976408281386696\t 13.839458310244165\t 3.3745699467249093\t 3.6154102489595243\n",
            "2  \t [5.12 5.12]\t 57.849427451571785\t 13.839458310244165\t 2.992831067845407\t 3.05427103060783\n",
            "3  \t [-4.22754211 -0.73799094]\t 37.764185864993955\t 13.839458310244165\t 2.9798242215055235\t 3.1171075524678615\n",
            "4  \t [-0.63815671  5.12      ]\t 45.7950067420562\t 13.839458310244165\t 3.2309240816655254\t 3.2775763591810523\n",
            "\u001b[1m\u001b[92m5\u001b[0m\t \u001b[1m\u001b[92m[ 1.90874419 -0.86604919]\u001b[0m\t \u001b[1m\u001b[92m9.330184102927806\u001b[0m\t \u001b[1m\u001b[92m9.330184102927806\u001b[0m\t \u001b[1m\u001b[92m3.0832797029784973\u001b[0m\t \u001b[1m\u001b[92m3.1289069891435464\u001b[0m\n",
            "6  \t [-0.38458602 -5.12      ]\t 46.55650416140192\t 9.330184102927806\t 3.0920426680998707\t 3.202335457620659\n",
            "7  \t [4.35013638 2.28560292]\t 52.250837054125306\t 9.330184102927806\t 3.0595887968386632\t 2.9697423004054166\n",
            "8  \t [-1.27452338  0.4785302 ]\t 33.29730984851069\t 9.330184102927806\t 2.823527785798113\t 3.0808086099585816\n",
            "9  \t [2.29583476 5.12      ]\t 47.03581030707723\t 9.330184102927806\t 3.175309343645844\t 3.31412441786667\n",
            "10 \t [-5.12        1.58344219]\t 50.08883510696233\t 9.330184102927806\t 3.0669907493117368\t 3.092275122049977\n",
            "11 \t [ 3.00960109 -2.34339411]\t 30.104480841367785\t 9.330184102927806\t 2.620560098380733\t 3.196935224400793\n",
            "12 \t [-1.78678181 -1.96753264]\t 14.980578773383689\t 9.330184102927806\t 3.213861642473101\t 3.1359529715358123\n",
            "13 \t [-3.32372707  5.12      ]\t 54.44037262596764\t 9.330184102927806\t 3.030467106529621\t 3.080629190956639\n",
            "14 \t [2.548763   0.16821764]\t 31.14341620197597\t 9.330184102927806\t 2.853324217290322\t 2.822138058123082\n",
            "15 \t [ 0.35614192 -0.25518492]\t 26.703281763450015\t 9.330184102927806\t 3.001627530746601\t 2.9976586161926035\n",
            "16 \t [-5.12 -5.12]\t 57.849427451571785\t 9.330184102927806\t 3.123719433497643\t 3.1062222083264395\n",
            "17 \t [ 5.0630214  -2.98240022]\t 35.363768393661346\t 9.330184102927806\t 2.9159721630134854\t 3.065950281330309\n",
            "18 \t [-4.91723829 -2.84785477]\t 37.84307766222453\t 9.330184102927806\t 2.7546286384947325\t 2.757316322174449\n",
            "19 \t [-1.40201919 -2.92813304]\t 29.706006234892698\t 9.330184102927806\t 2.5334108491598077\t 2.5334108491598077\n",
            "20 \t [-0.80798337  2.54686514]\t 33.145799904725514\t 9.330184102927806\t 3.2367089739914285\t 3.2133095605043476\n"
          ]
        }
      ],
      "source": [
        "### EXACT GP EI GRADIENTS\n",
        "\n",
        "np.random.seed(run_num_10)\n",
        "surrogate_exact_10 = dGaussianProcess(cov_func, optimize=opt)\n",
        "\n",
        "exact_10 = dGPGO(surrogate_exact_10, Acquisition_grad(util), objfunc, param)\n",
        "exact_10.run(init_evals=n_init, max_iter=iters)\n"
      ]
    },
    {
      "cell_type": "code",
      "execution_count": 44,
      "metadata": {
        "id": "VwbLIP9cIv-F",
        "colab": {
          "base_uri": "https://localhost:8080/"
        },
        "outputId": "3afe802d-0fdb-43de-84bd-1fd1c0bc767a"
      },
      "outputs": [
        {
          "output_type": "stream",
          "name": "stdout",
          "text": [
            "Evaluation \t Proposed point \t  Current eval. \t  Best eval. \t        Exact EI: StdDev. x \t Approx EI: StdDev. x \n",
            "init\t [-3.27403839 -4.92057353]\t 47.655641290890955\t 10.679755252484755\t    \t    \n",
            "init\t [-0.37664229  2.30332343]\t 35.87889240695259\t 10.679755252484755\t    \t    \n",
            "init\t [-0.81711509 -0.14922651]\t 10.679755252484755\t 10.679755252484755\t    \t    \n",
            "init\t [-4.98912446 -0.12931474]\t 28.05462905574235\t 10.679755252484755\t    \t    \n",
            "init\t [4.52410012 3.59214172]\t 71.62694632141611\t 10.679755252484755\t    \t    \n",
            "1  \t [ 3.03550212 -4.46785095]\t 49.22040431745476\t 10.679755252484755\t 2.8317385755561557\t 3.990253077837898\n",
            "2  \t [ 4.91302382 -0.64498034]\t 42.14029727890503\t 10.679755252484755\t 2.441467737999515\t 3.4065518993201325\n",
            "3  \t [-1.19896852  5.12      ]\t 37.21049672982495\t 10.679755252484755\t 3.312606839087047\t 3.906303588795388\n",
            "4  \t [-0.14967075 -3.28094651]\t 26.82463242586251\t 10.679755252484755\t 2.520021747889794\t 2.968900079128448\n",
            "5  \t [-3.81010753  2.8468096 ]\t 33.219209813269664\t 10.679755252484755\t 2.7056574041103634\t 2.840007633412008\n",
            "6  \t [2.1329683  0.84931955]\t 12.719354383500548\t 10.679755252484755\t 2.9429463855072244\t 2.9953871348793064\n",
            "7  \t [1.87189068 5.12      ]\t 35.49710486087807\t 10.679755252484755\t 3.229179628041786\t 3.4148465123049068\n",
            "8  \t [ 2.10476569 -1.63788323]\t 25.678287070032784\t 10.679755252484755\t 2.8121729155077175\t 3.40645551025845\n",
            "9  \t [-5.12       -2.84222092]\t 41.52736984257636\t 10.679755252484755\t 3.146941542175682\t 3.2204572552048574\n",
            "10 \t [-2.679429   -0.79715792]\t 29.185175385211604\t 10.679755252484755\t 2.9873261814103054\t 2.8685690655301554\n",
            "11 \t [-4.00674609  5.12      ]\t 44.98770982923132\t 10.679755252484755\t 3.108687077017138\t 3.1584731015134317\n",
            "12 \t [ 0.32982701 -1.0410911 ]\t 16.332110672687797\t 10.679755252484755\t 3.0130607538082623\t 3.1357504859523266\n",
            "13 \t [2.04369322 2.52577386]\t 30.799855749047772\t 10.679755252484755\t 3.006742299181713\t 2.9908713308191754\n",
            "14 \t [ 4.06722221 -2.47594005]\t 43.43732506931758\t 10.679755252484755\t 3.0614376464732374\t 3.1981535483892585\n",
            "15 \t [-0.75504913 -5.12      ]\t 39.1776199106116\t 10.679755252484755\t 2.926839446335495\t 2.9161101708257533\n",
            "16 \t [-5.12 -5.12]\t 57.849427451571785\t 10.679755252484755\t 3.1553220392164056\t 3.1553220392164056\n",
            "17 \t [5.12       1.48490237]\t 51.08468926570809\t 10.679755252484755\t 2.374701860271636\t 2.354386803720425\n",
            "18 \t [ 5.12       -3.86829132]\t 47.12157521332907\t 10.679755252484755\t 2.8639823863785927\t 2.947579829985862\n",
            "19 \t [-2.40849978  1.27991721]\t 37.70015918319902\t 10.679755252484755\t 2.7070968351601126\t 2.72634372327394\n",
            "20 \t [-4.59557705  1.0992692 ]\t 42.46101864722366\t 10.679755252484755\t 2.9417345195836453\t 2.9417345195836453\n"
          ]
        }
      ],
      "source": [
        "### EXACT GP EI GRADIENTS\n",
        "\n",
        "np.random.seed(run_num_11)\n",
        "surrogate_exact_11 = dGaussianProcess(cov_func, optimize=opt)\n",
        "\n",
        "exact_11 = dGPGO(surrogate_exact_11, Acquisition_grad(util), objfunc, param)\n",
        "exact_11.run(init_evals=n_init, max_iter=iters)\n"
      ]
    },
    {
      "cell_type": "code",
      "execution_count": 45,
      "metadata": {
        "id": "MlUNFjc-JTBY",
        "colab": {
          "base_uri": "https://localhost:8080/"
        },
        "outputId": "85c705eb-7c23-45f9-8fcb-ef45f859cdb9"
      },
      "outputs": [
        {
          "output_type": "stream",
          "name": "stdout",
          "text": [
            "Evaluation \t Proposed point \t  Current eval. \t  Best eval. \t        Exact EI: StdDev. x \t Approx EI: StdDev. x \n",
            "init\t [-3.54137249  2.45810889]\t 57.903242869085595\t 40.51116653209555\t    \t    \n",
            "init\t [-2.42365424  0.34549139]\t 40.51116653209555\t 40.51116653209555\t    \t    \n",
            "init\t [-4.97075238  4.28796936]\t 55.62655915398208\t 40.51116653209555\t    \t    \n",
            "init\t [ 4.10332011 -4.77776458]\t 49.962803461970296\t 40.51116653209555\t    \t    \n",
            "init\t [ 4.6791612  -3.71497655]\t 62.183891474990624\t 40.51116653209555\t    \t    \n",
            "1  \t [4.1801221 5.12     ]\t 52.14728433935211\t 40.51116653209555\t 3.828337139252385\t 3.671356067535442\n",
            "2  \t [-5.12 -5.12]\t 57.849427451571785\t 40.51116653209555\t 3.7168838766453547\t 3.4705804829089337\n",
            "\u001b[1m\u001b[92m3\u001b[0m\t \u001b[1m\u001b[92m[2.21197022 0.79384263]\u001b[0m\t \u001b[1m\u001b[92m20.436184752851986\u001b[0m\t \u001b[1m\u001b[92m20.436184752851986\u001b[0m\t \u001b[1m\u001b[92m3.065714875750624\u001b[0m\t \u001b[1m\u001b[92m3.1623340155140403\u001b[0m\n",
            "4  \t [-0.46911892 -4.42609904]\t 58.56397644469437\t 20.436184752851986\t 3.1037770936654474\t 3.1656115757626773\n",
            "5  \t [5.12       0.02454424]\t 29.043993582333332\t 20.436184752851986\t 3.0008685935511386\t 3.123594265570323\n",
            "6  \t [0.0875721 4.603205 ]\t 40.64330333892435\t 20.436184752851986\t 3.1715336384524204\t 3.549185667997523\n",
            "7  \t [-5.12       -1.71400744]\t 44.10478715362278\t 20.436184752851986\t 3.028745997860783\t 3.102370283118808\n",
            "\u001b[1m\u001b[92m8\u001b[0m\t \u001b[1m\u001b[92m[ 1.07319028 -1.68549606]\u001b[0m\t \u001b[1m\u001b[92m18.97437847044218\u001b[0m\t \u001b[1m\u001b[92m18.97437847044218\u001b[0m\t \u001b[1m\u001b[92m2.9798709018066636\u001b[0m\t \u001b[1m\u001b[92m3.025280162710777\u001b[0m\n",
            "9  \t [-2.4457565  -2.63132226]\t 49.115056746186404\t 18.97437847044218\t 2.780985262855615\t 2.8518581244692465\n",
            "10 \t [5.12       2.56065139]\t 54.76426966836406\t 18.97437847044218\t 2.762551345271541\t 3.0064448230457557\n",
            "\u001b[1m\u001b[92m11\u001b[0m\t \u001b[1m\u001b[92m[-0.20640147  1.94485232]\u001b[0m\t \u001b[1m\u001b[92m11.714148189407473\u001b[0m\t \u001b[1m\u001b[92m11.714148189407473\u001b[0m\t \u001b[1m\u001b[92m2.915376258454855\u001b[0m\t \u001b[1m\u001b[92m2.842225968951427\u001b[0m\n",
            "12 \t [ 3.15180014 -1.45374446]\t 35.84187279009933\t 11.714148189407473\t 2.7146691124832567\t 2.8416645191702616\n",
            "\u001b[1m\u001b[92m13\u001b[0m\t \u001b[1m\u001b[92m[-0.02820207 -0.1706231 ]\u001b[0m\t \u001b[1m\u001b[92m5.403302324793548\u001b[0m\t \u001b[1m\u001b[92m5.403302324793548\u001b[0m\t \u001b[1m\u001b[92m2.8625689605309916\u001b[0m\t \u001b[1m\u001b[92m2.856269391736803\u001b[0m\n",
            "14 \t [-2.11134182  4.879902  ]\t 33.33461937300623\t 5.403302324793548\t 2.868073189355061\t 2.882906374318281\n",
            "15 \t [1.99845836 3.38154662]\t 32.78502599054999\t 5.403302324793548\t 3.1692499229160305\t 3.1628232808269447\n",
            "16 \t [ 1.73915349 -4.95929747]\t 38.62550513033366\t 5.403302324793548\t 3.04499349914206\t 3.110502326588201\n",
            "17 \t [-0.13451671  0.77756484]\t 12.263531410202285\t 5.403302324793548\t 2.621999818235947\t 2.6202990648082816\n",
            "18 \t [-0.36513483 -1.19748301]\t 24.946575662690382\t 5.403302324793548\t 3.1261387414173005\t 3.1379640976793417\n",
            "19 \t [-5.12        0.51983748]\t 49.11736637160208\t 5.403302324793548\t 2.931102924403091\t 2.9290284341151427\n",
            "20 \t [ 0.49982566 -0.03564424]\t 20.500832640615315\t 5.403302324793548\t 2.6746402728836634\t 2.67464028499591\n"
          ]
        }
      ],
      "source": [
        "### EXACT GP EI GRADIENTS\n",
        "\n",
        "np.random.seed(run_num_12)\n",
        "surrogate_exact_12 = dGaussianProcess(cov_func, optimize=opt)\n",
        "\n",
        "exact_12 = dGPGO(surrogate_exact_12, Acquisition_grad(util), objfunc, param)\n",
        "exact_12.run(init_evals=n_init, max_iter=iters)\n"
      ]
    },
    {
      "cell_type": "code",
      "execution_count": 46,
      "metadata": {
        "id": "9BsKdU9eJTFL",
        "colab": {
          "base_uri": "https://localhost:8080/"
        },
        "outputId": "bb09d992-5092-4d9d-bd49-223aad9612fb"
      },
      "outputs": [
        {
          "output_type": "stream",
          "name": "stdout",
          "text": [
            "Evaluation \t Proposed point \t  Current eval. \t  Best eval. \t        Exact EI: StdDev. x \t Approx EI: StdDev. x \n",
            "init\t [ 2.84367268 -2.68757791]\t 33.58019830007169\t 17.435826639425656\t    \t    \n",
            "init\t [3.32061217 4.76927179]\t 56.857057997503354\t 17.435826639425656\t    \t    \n",
            "init\t [ 4.83943541 -0.47667971]\t 48.211919361679726\t 17.435826639425656\t    \t    \n",
            "init\t [1.11659482 2.82139151]\t 17.435826639425656\t 17.435826639425656\t    \t    \n",
            "init\t [1.45012065 2.27346667]\t 38.25352329493884\t 17.435826639425656\t    \t    \n",
            "1  \t [-4.10876704 -2.60547476]\t 43.79941556238635\t 17.435826639425656\t 3.155341753856051\t 3.1904143347977194\n",
            "2  \t [-3.79946932  2.66821301]\t 43.412509428311274\t 17.435826639425656\t 3.2208117414709676\t 3.5605685044202837\n",
            "3  \t [-0.63511851 -5.12      ]\t 45.93562055650825\t 17.435826639425656\t 3.0500092888461388\t 3.516495043463213\n",
            "4  \t [-0.69660879 -0.85998059]\t 18.143631230272202\t 17.435826639425656\t 2.992799058642944\t 3.1332767985369654\n",
            "5  \t [-0.949167  5.12    ]\t 30.331370419796876\t 17.435826639425656\t 3.320232986723742\t 3.874675911332228\n",
            "6  \t [-5.12 -5.12]\t 57.849427451571785\t 17.435826639425656\t 2.71843798855399\t 3.0332790785657804\n",
            "7  \t [-4.5509668  -0.02721916]\t 40.34954624651627\t 17.435826639425656\t 3.1218407438978306\t 3.4006416273331945\n",
            "8  \t [5.12       2.90600281]\t 39.06350885118832\t 17.435826639425656\t 2.844875903549812\t 3.0002030839614964\n",
            "9  \t [ 2.45903261 -5.12      ]\t 54.64209172454363\t 17.435826639425656\t 2.7921991405182696\t 3.017653138104266\n",
            "10 \t [-1.09522995  1.3299283 ]\t 19.519150790241227\t 17.435826639425656\t 2.734556379412114\t 2.6386356527419976\n",
            "11 \t [ 4.98178265 -3.65668316]\t 53.787979904546205\t 17.435826639425656\t 3.0580638180330464\t 3.4947366776960713\n",
            "12 \t [ 2.01300324 -0.5065593 ]\t 24.33365025600682\t 17.435826639425656\t 2.819671844010483\t 2.8149106522231446\n",
            "13 \t [-3.58976335  5.12      ]\t 60.26235190988494\t 17.435826639425656\t 3.0562181368020185\t 3.1717375269585486\n",
            "14 \t [-0.34155664 -2.65395047]\t 38.27595709907447\t 17.435826639425656\t 2.533390780032109\t 2.5813636859610116\n",
            "\u001b[1m\u001b[92m15\u001b[0m\t \u001b[1m\u001b[92m[-2.25417483 -1.0117464 ]\u001b[0m\t \u001b[1m\u001b[92m16.3944406234583\u001b[0m\t \u001b[1m\u001b[92m16.3944406234583\u001b[0m\t \u001b[1m\u001b[92m2.981548131783427\u001b[0m\t \u001b[1m\u001b[92m3.0120996998730067\u001b[0m\n",
            "16 \t [-2.78853805 -4.68364038]\t 51.36434159677343\t 16.3944406234583\t 2.7236721901308196\t 2.7421130139016654\n",
            "17 \t [1.00619853 5.12      ]\t 29.944732398614967\t 16.3944406234583\t 3.442233739239988\t 3.442210601241932\n",
            "18 \t [-0.62734791  2.82579019]\t 30.760556363851173\t 16.3944406234583\t 2.483289054189935\t 2.4942486556690295\n",
            "19 \t [-3.21492355  1.04796609]\t 19.698568468935775\t 16.3944406234583\t 3.050315376333614\t 3.050315376333614\n",
            "20 \t [-5.0522458   3.94987047]\t 42.15260223421056\t 16.3944406234583\t 3.334905740723363\t 3.334906402402742\n"
          ]
        }
      ],
      "source": [
        "### EXACT GP EI GRADIENTS\n",
        "\n",
        "np.random.seed(run_num_13)\n",
        "surrogate_exact_13 = dGaussianProcess(cov_func, optimize=opt)\n",
        "\n",
        "exact_13 = dGPGO(surrogate_exact_13, Acquisition_grad(util), objfunc, param)\n",
        "exact_13.run(init_evals=n_init, max_iter=iters)\n"
      ]
    },
    {
      "cell_type": "code",
      "execution_count": 47,
      "metadata": {
        "id": "k6GjFBr1JTJf",
        "colab": {
          "base_uri": "https://localhost:8080/"
        },
        "outputId": "1bc92607-13b0-47cc-ae78-821ee8935c77"
      },
      "outputs": [
        {
          "output_type": "stream",
          "name": "stdout",
          "text": [
            "Evaluation \t Proposed point \t  Current eval. \t  Best eval. \t        Exact EI: StdDev. x \t Approx EI: StdDev. x \n",
            "init\t [0.14277984 2.79721013]\t 18.683085263052178\t 10.423838604848608\t    \t    \n",
            "init\t [ 3.7931795  -5.03759925]\t 47.36348784446708\t 10.423838604848608\t    \t    \n",
            "init\t [-1.94830412  4.68586229]\t 40.19779334078636\t 10.423838604848608\t    \t    \n",
            "init\t [ 0.13431513 -1.86076749]\t 10.423838604848608\t 10.423838604848608\t    \t    \n",
            "init\t [ 0.40140736 -2.85434939]\t 30.353548735049138\t 10.423838604848608\t    \t    \n",
            "1  \t [-4.82578806 -5.12      ]\t 57.62897652524626\t 10.423838604848608\t 3.877759693576881\t 3.757179375461273\n",
            "2  \t [5.12 5.12]\t 57.849427451571785\t 10.423838604848608\t 3.888155928819398\t 3.9079818682713006\n",
            "3  \t [-4.94978572  0.25422714]\t 35.324181923041664\t 10.423838604848608\t 2.9232124391293355\t 3.5426335535495705\n",
            "4  \t [4.80749753 0.03051338]\t 29.761582978864574\t 10.423838604848608\t 2.9824857144039285\t 3.3196438750000383\n",
            "5  \t [-1.73927576  0.35706862]\t 30.057142830715556\t 10.423838604848608\t 2.7854822913513018\t 2.596350060760992\n",
            "6  \t [-4.78091983  3.27931925]\t 53.51235760294291\t 10.423838604848608\t 2.6364168514666138\t 2.9283747897961896\n",
            "7  \t [-1.55025717 -5.12      ]\t 50.83357046065062\t 10.423838604848608\t 2.5887536869535848\t 2.756312577092485\n",
            "8  \t [1.86721652 5.12      ]\t 35.69427097933968\t 10.423838604848608\t 3.0756129664947185\t 2.9864158280108555\n",
            "9  \t [ 2.35025465 -0.95349257]\t 22.74755229998382\t 10.423838604848608\t 3.0752077528828368\t 3.150309092640041\n",
            "10 \t [-3.0168211  -2.36682438]\t 31.457534214360557\t 10.423838604848608\t 2.8309546898780202\t 2.8004790624423412\n",
            "11 \t [2.99552436 2.30919597]\t 27.943733804417807\t 10.423838604848608\t 3.174438913771157\t 3.2612842452970727\n",
            "12 \t [0.68211089 0.64524837]\t 31.135766511808527\t 10.423838604848608\t 2.942921931774761\t 3.1469057461643097\n",
            "13 \t [ 4.19759884 -2.34349436]\t 45.420843357578136\t 10.423838604848608\t 2.9055691981068588\t 3.0135496829806914\n",
            "14 \t [ 1.10917537 -5.12      ]\t 32.4169278398166\t 10.423838604848608\t 2.862504066712909\t 2.9405952463684897\n",
            "15 \t [-1.92618391  2.23730281]\t 18.97517656893833\t 10.423838604848608\t 2.8986212861472493\t 2.907836846975723\n",
            "16 \t [-1.46623595 -1.20214563]\t 30.409138278528417\t 10.423838604848608\t 2.8996272918935264\t 2.9086387693837223\n",
            "17 \t [-0.01078416  5.12      ]\t 28.947777588468703\t 10.423838604848608\t 3.1018994107252778\t 3.1019307427955383\n",
            "18 \t [-4.45085841 -3.23881125]\t 59.12470153912595\t 10.423838604848608\t 2.6198409795030546\t 2.627565328833087\n",
            "19 \t [4.70675772 2.96186171]\t 43.89562166162881\t 10.423838604848608\t 2.9070556387605118\t 2.9122895545433\n",
            "20 \t [ 5.00788372 -3.79145698]\t 46.89084916502436\t 10.423838604848608\t 2.7328303032962205\t 2.7328303032962205\n"
          ]
        }
      ],
      "source": [
        "### EXACT GP EI GRADIENTS\n",
        "\n",
        "np.random.seed(run_num_14)\n",
        "surrogate_exact_14 = dGaussianProcess(cov_func, optimize=opt)\n",
        "\n",
        "exact_14 = dGPGO(surrogate_exact_14, Acquisition_grad(util), objfunc, param)\n",
        "exact_14.run(init_evals=n_init, max_iter=iters)\n"
      ]
    },
    {
      "cell_type": "code",
      "execution_count": 48,
      "metadata": {
        "id": "dPS8WB3aJTN6",
        "colab": {
          "base_uri": "https://localhost:8080/"
        },
        "outputId": "7a6c9d92-98a8-42a5-d7b7-4925e65b66da"
      },
      "outputs": [
        {
          "output_type": "stream",
          "name": "stdout",
          "text": [
            "Evaluation \t Proposed point \t  Current eval. \t  Best eval. \t        Exact EI: StdDev. x \t Approx EI: StdDev. x \n",
            "init\t [ 3.57189322 -3.28810573]\t 54.938487770767075\t 7.990765314336182\t    \t    \n",
            "init\t [-4.56332069 -1.41784631]\t 60.750198753157726\t 7.990765314336182\t    \t    \n",
            "init\t [-2.29989449  0.3072023 ]\t 31.984997246800887\t 7.990765314336182\t    \t    \n",
            "init\t [-1.9873903  -2.00218256]\t 7.990765314336182\t 7.990765314336182\t    \t    \n",
            "init\t [-3.97576933 -2.5610341 ]\t 41.754957769694336\t 7.990765314336182\t    \t    \n",
            "1  \t [5.12       3.74434704]\t 53.29995963390897\t 7.990765314336182\t 3.558415780412122\t 3.7786093661680504\n",
            "2  \t [-3.93956611  5.12      ]\t 45.157200468068055\t 7.990765314336182\t 3.1190154090584308\t 3.5198172765262483\n",
            "3  \t [0.56205256 4.02888216]\t 35.96152088934213\t 7.990765314336182\t 3.1425957847061663\t 3.444243896733708\n",
            "4  \t [-0.41695354 -5.12      ]\t 47.76781633366264\t 7.990765314336182\t 2.8414893689804996\t 2.5946419996786116\n",
            "5  \t [2.33291851 0.4796834 ]\t 40.5686499740102\t 7.990765314336182\t 3.215592428379527\t 3.179554396167615\n",
            "6  \t [-5.12 -5.12]\t 57.849427451571785\t 7.990765314336182\t 3.2699261613020547\t 3.2540276977303213\n",
            "7  \t [-5.11881952  1.8124174 ]\t 38.324871502349524\t 7.990765314336182\t 2.709103519916507\t 2.804591870512544\n",
            "8  \t [ 0.24169911 -1.81051418]\t 19.10379191391907\t 7.990765314336182\t 3.3763275367668926\t 3.315682151210248\n",
            "9  \t [5.12       0.61833842]\t 46.66781073748381\t 7.990765314336182\t 2.728070709957271\t 2.799814909295024\n",
            "10 \t [-0.16409169  1.51829175]\t 27.126709257706892\t 7.990765314336182\t 2.950841131369569\t 2.984347023573222\n",
            "11 \t [-2.20510488  3.1320295 ]\t 25.136552887587396\t 7.990765314336182\t 2.6892860745354294\t 2.7120094589427253\n",
            "12 \t [ 1.59424175 -4.39578519]\t 58.0937166589765\t 7.990765314336182\t 2.753985102145897\t 2.8816423762601593\n",
            "13 \t [-1.85586197 -3.16888656]\t 22.43556716952095\t 7.990765314336182\t 3.2672009032060956\t 3.349619604748167\n",
            "14 \t [ 5.07438415 -1.47343587]\t 48.853854837481244\t 7.990765314336182\t 3.034750642124252\t 3.0997082856031986\n",
            "15 \t [3.01992233 5.03503697]\t 34.79111009312775\t 7.990765314336182\t 2.5133027282756446\t 2.508196687754766\n",
            "16 \t [ 0.36529859 -0.89353095]\t 19.714379474421413\t 7.990765314336182\t 3.1286503943095103\t 3.1270489347251162\n",
            "17 \t [-2.9041699 -5.12     ]\t 39.11753968777391\t 7.990765314336182\t 2.742693963271219\t 2.747454415199605\n",
            "18 \t [ 1.97443164 -1.6166695 ]\t 24.072095887742464\t 7.990765314336182\t 2.9993250678870016\t 3.000806253258465\n",
            "19 \t [-1.71062671 -1.31012248]\t 30.779803489955075\t 7.990765314336182\t 3.0860055778866027\t 3.0837807669415773\n",
            "20 \t [3.55614011 2.10425753]\t 38.52827655844832\t 7.990765314336182\t 2.7336401832544954\t 2.7218871010170873\n"
          ]
        }
      ],
      "source": [
        "### EXACT GP EI GRADIENTS\n",
        "\n",
        "np.random.seed(run_num_15)\n",
        "surrogate_exact_15 = dGaussianProcess(cov_func, optimize=opt)\n",
        "\n",
        "exact_15 = dGPGO(surrogate_exact_15, Acquisition_grad(util), objfunc, param)\n",
        "exact_15.run(init_evals=n_init, max_iter=iters)\n"
      ]
    },
    {
      "cell_type": "code",
      "execution_count": 49,
      "metadata": {
        "id": "lu8ki9XIQPPN",
        "colab": {
          "base_uri": "https://localhost:8080/"
        },
        "outputId": "72a92cae-703f-4b2f-c51c-ed8ab0ec44cb"
      },
      "outputs": [
        {
          "output_type": "stream",
          "name": "stdout",
          "text": [
            "Evaluation \t Proposed point \t  Current eval. \t  Best eval. \t        Exact EI: StdDev. x \t Approx EI: StdDev. x \n",
            "init\t [-2.83349935  0.23719262]\t 22.27210456874814\t 22.27210456874814\t    \t    \n",
            "init\t [ 0.51918292 -4.65303603]\t 57.57021076017139\t 22.27210456874814\t    \t    \n",
            "init\t [-1.42613673 -2.83565116]\t 33.89145899403749\t 22.27210456874814\t    \t    \n",
            "init\t [ 1.9325559  -3.44339021]\t 35.85029586225333\t 22.27210456874814\t    \t    \n",
            "init\t [-4.39987336  4.51595121]\t 77.78800881964571\t 22.27210456874814\t    \t    \n",
            "1  \t [2.142749   4.83374619]\t 36.69381850109535\t 22.27210456874814\t 3.571154393042483\t 3.650727592692473\n",
            "2  \t [5.12       0.59422797]\t 47.57579460985678\t 22.27210456874814\t 3.410526293525929\t 3.390734346643612\n",
            "3  \t [-5.12 -5.12]\t 57.849427451571785\t 22.27210456874814\t 3.2850095539933424\t 3.4818542327874558\n",
            "\u001b[1m\u001b[92m4\u001b[0m\t \u001b[1m\u001b[92m[1.020987   0.80776409]\u001b[0m\t \u001b[1m\u001b[92m8.231448011305515\u001b[0m\t \u001b[1m\u001b[92m8.231448011305515\u001b[0m\t \u001b[1m\u001b[92m2.98893062431834\u001b[0m\t \u001b[1m\u001b[92m3.0511078562481715\u001b[0m\n",
            "5  \t [-0.849334    3.07002449]\t 15.254856600817254\t 8.231448011305515\t 3.1262207132691695\t 3.2247917622524067\n",
            "6  \t [ 5.12       -3.14287922]\t 42.56859016945097\t 8.231448011305515\t 3.623176406148104\t 3.611550640584899\n",
            "7  \t [5.12 5.12]\t 57.849427451571785\t 8.231448011305515\t 3.129609795505151\t 2.7515515803377015\n",
            "8  \t [-4.52486335 -2.1068523 ]\t 46.961753356862516\t 8.231448011305515\t 2.7513131139074263\t 2.8799280401678304\n",
            "9  \t [ 2.4398155  -0.74036163]\t 36.39955258736292\t 8.231448011305515\t 3.140867205040503\t 3.0451045302937763\n",
            "10 \t [-5.09916718  0.34581391]\t 43.66333330294024\t 8.231448011305515\t 3.0335065308138094\t 3.2437548388498745\n",
            "11 \t [2.94363131 2.21252658]\t 21.848080167865103\t 8.231448011305515\t 3.1540905686946394\t 3.1827461430663293\n",
            "12 \t [-0.06234554  4.67707   ]\t 37.060004133803446\t 8.231448011305515\t 3.1926521645179027\t 3.21384915726287\n",
            "13 \t [-0.4943661  -0.01670121]\t 20.293420157447542\t 8.231448011305515\t 2.5033423782561637\t 2.4364803126472285\n",
            "14 \t [-2.50470818 -5.05407733]\t 52.38459834484032\t 8.231448011305515\t 2.581403634403514\t 2.615723743470599\n",
            "15 \t [-2.05327401  2.0270876 ]\t 9.024514326435135\t 8.231448011305515\t 2.782548494978401\t 2.86914614493376\n",
            "16 \t [0.80013956 1.97994793]\t 11.541172420199159\t 8.231448011305515\t 2.7073215280694445\t 2.718446827940986\n",
            "17 \t [-3.05089315  2.2704587 ]\t 26.251778435762315\t 8.231448011305515\t 3.1570145660312035\t 3.155875385548078\n",
            "18 \t [5.12       2.89367237]\t 39.44790484034466\t 8.231448011305515\t 2.8425880739255396\t 2.8348111098421187\n",
            "19 \t [ 0.16561753 -1.42179689]\t 25.808854843603036\t 8.231448011305515\t 2.6287676878744928\t 2.6359479180586565\n",
            "20 \t [ 2.99416535 -5.06847411]\t 35.57249957997627\t 8.231448011305515\t 3.1447225215659262\t 3.175400641182507\n"
          ]
        }
      ],
      "source": [
        "### EXACT GP EI GRADIENTS\n",
        "\n",
        "np.random.seed(run_num_16)\n",
        "surrogate_exact_16 = dGaussianProcess(cov_func, optimize=opt)\n",
        "\n",
        "exact_16 = dGPGO(surrogate_exact_16, Acquisition_grad(util), objfunc, param)\n",
        "exact_16.run(init_evals=n_init, max_iter=iters)\n"
      ]
    },
    {
      "cell_type": "code",
      "execution_count": 50,
      "metadata": {
        "id": "yU2SflSsJTUs",
        "colab": {
          "base_uri": "https://localhost:8080/"
        },
        "outputId": "154fd02a-d132-4dad-a474-2ab57ceb4497"
      },
      "outputs": [
        {
          "output_type": "stream",
          "name": "stdout",
          "text": [
            "Evaluation \t Proposed point \t  Current eval. \t  Best eval. \t        Exact EI: StdDev. x \t Approx EI: StdDev. x \n",
            "init\t [-2.10263037  0.31320838]\t 20.395145364684023\t 20.395145364684023\t    \t    \n",
            "init\t [-3.15882714 -4.42470033]\t 53.03732051200137\t 20.395145364684023\t    \t    \n",
            "init\t [2.93873111 1.60085526]\t 29.989224812583537\t 20.395145364684023\t    \t    \n",
            "init\t [1.40821398 0.77417363]\t 29.451989415882437\t 20.395145364684023\t    \t    \n",
            "init\t [-4.71999574 -1.45598869]\t 55.89242173757483\t 20.395145364684023\t    \t    \n",
            "1  \t [ 4.96008736 -4.44720822]\t 64.14783177084814\t 20.395145364684023\t 3.441876084952998\t 4.208421754964512\n",
            "2  \t [-1.51861519  5.12      ]\t 51.16258242247814\t 20.395145364684023\t 4.012300998626205\t 3.6193684284755294\n",
            "3  \t [5.12 5.12]\t 57.849427451571785\t 20.395145364684023\t 3.1217651061686036\t 3.449745181912281\n",
            "4  \t [ 0.7748557  -3.17283017]\t 24.450909806974174\t 20.395145364684023\t 3.2901290335557354\t 3.622228603174222\n",
            "5  \t [ 5.12       -0.76855727]\t 38.3520468084867\t 20.395145364684023\t 2.796045596991454\t 3.426215538569207\n",
            "6  \t [-5.12        2.95221798]\t 38.08759998703763\t 20.395145364684023\t 3.0906734251012806\t 3.1968383377871348\n",
            "7  \t [1.79495507 4.85360446]\t 37.93258808617763\t 20.395145364684023\t 2.8490480475366464\t 2.9430362008931352\n",
            "8  \t [-0.8862222   2.47557512]\t 29.24466080569642\t 20.395145364684023\t 3.1192062624861934\t 3.040180995503785\n",
            "9  \t [-0.37273703 -5.12      ]\t 46.03346174380978\t 20.395145364684023\t 3.3206061005034027\t 3.3913820957088228\n",
            "10 \t [-1.51195556 -1.86068884]\t 29.31244287796026\t 20.395145364684023\t 2.6129551182372848\t 2.622481958926127\n",
            "11 \t [ 2.66124126 -1.78228688]\t 33.53624881174176\t 20.395145364684023\t 3.1790152843236794\t 3.0197011907763094\n",
            "12 \t [-3.90056254  4.98852243]\t 42.01484133768842\t 20.395145364684023\t 2.818429576347242\t 2.8970209891221295\n",
            "13 \t [4.8372895  2.68419576]\t 49.40837661384866\t 20.395145364684023\t 2.6159103876483365\t 2.6574214608942444\n",
            "14 \t [-3.67002607  0.97943777]\t 29.327833581863217\t 20.395145364684023\t 2.776008959992753\t 2.794122913463119\n",
            "\u001b[1m\u001b[92m15\u001b[0m\t \u001b[1m\u001b[92m[-0.13362754 -0.33814777]\u001b[0m\t \u001b[1m\u001b[92m18.7142880206532\u001b[0m\t \u001b[1m\u001b[92m18.7142880206532\u001b[0m\t \u001b[1m\u001b[92m2.786211103841514\u001b[0m\t \u001b[1m\u001b[92m2.7811914660015495\u001b[0m\n",
            "16 \t [ 3.69936349 -2.60263083]\t 51.57906647138893\t 18.7142880206532\t 2.520947572090123\t 2.520947572090123\n",
            "17 \t [ 2.27870412 -5.12      ]\t 45.91097746622553\t 18.7142880206532\t 2.6249605803756135\t 2.6800073330180005\n",
            "\u001b[1m\u001b[92m18\u001b[0m\t \u001b[1m\u001b[92m[1.05741971 2.94971348]\u001b[0m\t \u001b[1m\u001b[92m10.957737071176012\u001b[0m\t \u001b[1m\u001b[92m10.957737071176012\u001b[0m\t \u001b[1m\u001b[92m2.977232133740498\u001b[0m\t \u001b[1m\u001b[92m2.9760858817639564\u001b[0m\n",
            "19 \t [0.29952924 3.81205091]\t 33.88272572841092\t 10.957737071176012\t 2.743605133557554\t 2.743605133557554\n",
            "20 \t [-2.76442355  2.82201947]\t 30.328554973022733\t 10.957737071176012\t 2.9955243603734596\t 2.9960033951215386\n"
          ]
        }
      ],
      "source": [
        "### EXACT GP EI GRADIENTS\n",
        "\n",
        "np.random.seed(run_num_17)\n",
        "surrogate_exact_17 = dGaussianProcess(cov_func, optimize=opt)\n",
        "\n",
        "exact_17 = dGPGO(surrogate_exact_17, Acquisition_grad(util), objfunc, param)\n",
        "exact_17.run(init_evals=n_init, max_iter=iters)\n"
      ]
    },
    {
      "cell_type": "code",
      "execution_count": 51,
      "metadata": {
        "id": "eVEhyZ9BQS-1",
        "colab": {
          "base_uri": "https://localhost:8080/"
        },
        "outputId": "a5fbd871-b32e-46a5-b5f0-9ab194da1767"
      },
      "outputs": [
        {
          "output_type": "stream",
          "name": "stdout",
          "text": [
            "Evaluation \t Proposed point \t  Current eval. \t  Best eval. \t        Exact EI: StdDev. x \t Approx EI: StdDev. x \n",
            "init\t [1.53983224 0.05584255]\t 22.67190580753611\t 22.67190580753611\t    \t    \n",
            "init\t [ 3.87687906 -3.25795609]\t 38.990099416711985\t 22.67190580753611\t    \t    \n",
            "init\t [3.60686662 2.56139557]\t 56.66448698782129\t 22.67190580753611\t    \t    \n",
            "init\t [1.70088108 4.99604939]\t 40.894059318256296\t 22.67190580753611\t    \t    \n",
            "init\t [-2.48864335 -4.83014733]\t 54.6725749848372\t 22.67190580753611\t    \t    \n",
            "1  \t [-5.00718904  2.9174042 ]\t 34.91005808676357\t 22.67190580753611\t 3.1313104619911583\t 3.4566662128986887\n",
            "2  \t [-2.51728859 -0.57163024]\t 45.60874492925909\t 22.67190580753611\t 2.7340497699094337\t 2.8275909751303874\n",
            "3  \t [-1.85577604  4.64440101]\t 45.005605029454756\t 22.67190580753611\t 3.14407857103699\t 2.966174834642967\n",
            "4  \t [ 1.00451354 -5.12      ]\t 29.93778218898035\t 22.67190580753611\t 3.280188838817381\t 3.401141228518857\n",
            "5  \t [-5.12       -2.72650916]\t 47.82918580534389\t 22.67190580753611\t 2.782956134001338\t 3.248645131560895\n",
            "\u001b[1m\u001b[92m6\u001b[0m\t \u001b[1m\u001b[92m[-0.82577125  2.03320747]\u001b[0m\t \u001b[1m\u001b[92m10.449684907674122\u001b[0m\t \u001b[1m\u001b[92m10.449684907674122\u001b[0m\t \u001b[1m\u001b[92m2.8718685417171637\u001b[0m\t \u001b[1m\u001b[92m3.091058140577351\u001b[0m\n",
            "7  \t [5.12 5.12]\t 57.849427451571785\t 10.449684907674122\t 3.2006832919273194\t 3.2730870454552425\n",
            "8  \t [-0.25994613 -2.14728488]\t 19.28792569829282\t 10.449684907674122\t 2.8398977087676878\t 3.028317977029144\n",
            "9  \t [ 5.12       -0.07579673]\t 30.04323192608124\t 10.449684907674122\t 3.0075257474177213\t 3.2059015074696924\n",
            "10 \t [-4.18931653  5.12      ]\t 52.75394698722303\t 10.449684907674122\t 3.1890276252999765\t 3.4161403462075963\n",
            "11 \t [-5.12       -0.08514162]\t 30.329075560992337\t 10.449684907674122\t 3.0175911294662865\t 3.001922613171069\n",
            "12 \t [0.77151894 2.47984664]\t 35.31685643023076\t 10.449684907674122\t 2.7265946014681792\t 2.7415968161860698\n",
            "13 \t [ 4.45959784 -5.12      ]\t 68.49224332544647\t 10.449684907674122\t 2.911440332418705\t 3.0297476185583476\n",
            "14 \t [-5.12 -5.12]\t 57.849427451571785\t 10.449684907674122\t 2.6475034024563717\t 2.6486064342963385\n",
            "15 \t [ 1.804687   -2.25118938]\t 25.030610304607382\t 10.449684907674122\t 2.8127974562482003\t 2.7991926214283636\n",
            "16 \t [-0.51205758  0.45167308]\t 39.98005122993301\t 10.449684907674122\t 2.6437378367957654\t 2.6486852265853367\n",
            "17 \t [-2.26139153 -2.65162392]\t 38.655142404751274\t 10.449684907674122\t 3.4329039939644064\t 3.4301340941570295\n",
            "18 \t [ 5.12       -1.94939305]\t 33.2261355529897\t 10.449684907674122\t 3.052155984335768\t 3.0521584422124723\n",
            "19 \t [-2.95540943  2.35755823]\t 30.937724875237542\t 10.449684907674122\t 2.730922824420487\t 2.717196419641009\n",
            "20 \t [-0.49704439 -4.76661766]\t 51.923750341880336\t 10.449684907674122\t 2.9796634915594145\t 2.9796634915594145\n"
          ]
        }
      ],
      "source": [
        "### EXACT GP EI GRADIENTS\n",
        "\n",
        "np.random.seed(run_num_18)\n",
        "surrogate_exact_18 = dGaussianProcess(cov_func, optimize=opt)\n",
        "\n",
        "exact_18 = dGPGO(surrogate_exact_18, Acquisition_grad(util), objfunc, param)\n",
        "exact_18.run(init_evals=n_init, max_iter=iters)\n"
      ]
    },
    {
      "cell_type": "code",
      "execution_count": 52,
      "metadata": {
        "id": "B6gTz1ojQUxn",
        "colab": {
          "base_uri": "https://localhost:8080/"
        },
        "outputId": "a2210cf4-a297-4410-ebc3-4bde8ce0ae17"
      },
      "outputs": [
        {
          "output_type": "stream",
          "name": "stdout",
          "text": [
            "Evaluation \t Proposed point \t  Current eval. \t  Best eval. \t        Exact EI: StdDev. x \t Approx EI: StdDev. x \n",
            "init\t [-4.12125592  2.6751971 ]\t 41.43485596167127\t 25.867003842388073\t    \t    \n",
            "init\t [-2.59135515 -3.70553152]\t 51.60126035043229\t 25.867003842388073\t    \t    \n",
            "init\t [-1.72598719 -4.27008445]\t 43.97430127029199\t 25.867003842388073\t    \t    \n",
            "init\t [1.76104531 3.13952049]\t 25.867003842388073\t 25.867003842388073\t    \t    \n",
            "init\t [4.9432772  1.38916592]\t 44.66580306903559\t 25.867003842388073\t    \t    \n",
            "1  \t [ 4.34615016 -4.21152016]\t 59.91210672035738\t 25.867003842388073\t 3.6350734246592276\t 4.426802603401861\n",
            "\u001b[1m\u001b[92m2\u001b[0m\t \u001b[1m\u001b[92m[-0.62695024 -0.0324845 ]\u001b[0m\t \u001b[1m\u001b[92m17.585588423433606\u001b[0m\t \u001b[1m\u001b[92m17.585588423433606\u001b[0m\t \u001b[1m\u001b[92m3.316831797364515\u001b[0m\t \u001b[1m\u001b[92m3.244505342650934\u001b[0m\n",
            "3  \t [5.12 5.12]\t 57.849427451571785\t 17.585588423433606\t 2.9407671231298664\t 3.0870208567257955\n",
            "4  \t [-1.28646676  5.12      ]\t 42.85098851783182\t 17.585588423433606\t 3.0194255548270434\t 3.390103466387076\n",
            "5  \t [ 2.32181534 -1.16182355]\t 25.84020243023241\t 17.585588423433606\t 2.581439498423154\t 2.4831650449292537\n",
            "6  \t [-5.12 -5.12]\t 57.849427451571785\t 17.585588423433606\t 3.261304372220525\t 3.0803774493852174\n",
            "7  \t [ 0.92864912 -3.51193817]\t 34.15617407741596\t 17.585588423433606\t 2.8569055130201995\t 3.1548431315654613\n",
            "8  \t [-5.12      -0.9559965]\t 30.218426365370995\t 17.585588423433606\t 2.663603213984153\t 2.9552091826742894\n",
            "9  \t [-0.53614598  2.08377975]\t 25.72660264112362\t 17.585588423433606\t 2.9039802795661505\t 3.025993699639558\n",
            "10 \t [ 5.12       -1.40077668]\t 49.00564662726032\t 17.585588423433606\t 3.141059906283563\t 3.244727235933302\n",
            "11 \t [-2.28600843 -1.14800171]\t 22.808002280375582\t 17.585588423433606\t 2.511392139545503\t 2.8178575525499285\n",
            "12 \t [2.21267224 5.12      ]\t 41.49670318285598\t 17.585588423433606\t 2.8443674212256207\t 2.9233368239884925\n",
            "13 \t [1.66903958 1.03699121]\t 19.000261208764783\t 17.585588423433606\t 2.95565726134752\t 3.049032128825998\n",
            "14 \t [-2.51850704  0.69376159]\t 40.21713736154083\t 17.585588423433606\t 2.6904409077519027\t 2.6488674445182294\n",
            "15 \t [-5.12        0.94596679]\t 30.390356252464876\t 17.585588423433606\t 2.925903274542656\t 2.989377145598733\n",
            "16 \t [ 0.0814341 -1.6878178]\t 17.94443732228493\t 17.585588423433606\t 2.6760900838727855\t 2.6746455534936233\n",
            "17 \t [-2.8596441   4.05190743]\t 28.765676102630884\t 17.585588423433606\t 2.8006237627284127\t 2.923168512941634\n",
            "18 \t [ 1.71719607 -5.10056385]\t 42.941787406894356\t 17.585588423433606\t 2.961180669664161\t 2.9720144692487933\n",
            "19 \t [4.69797248 3.50791839]\t 67.5751366667553\t 17.585588423433606\t 2.4719766012372055\t 2.4719766012372055\n",
            "20 \t [0.13090404 3.94007418]\t 19.43788738111969\t 17.585588423433606\t 2.789034293713628\t 2.789034293713628\n"
          ]
        }
      ],
      "source": [
        "### EXACT GP EI GRADIENTS\n",
        "\n",
        "np.random.seed(run_num_19)\n",
        "surrogate_exact_19 = dGaussianProcess(cov_func, optimize=opt)\n",
        "\n",
        "exact_19 = dGPGO(surrogate_exact_19, Acquisition_grad(util), objfunc, param)\n",
        "exact_19.run(init_evals=n_init, max_iter=iters)\n"
      ]
    },
    {
      "cell_type": "code",
      "execution_count": 53,
      "metadata": {
        "id": "aw3xvSryIwDi",
        "colab": {
          "base_uri": "https://localhost:8080/"
        },
        "outputId": "bfaa3941-b3f8-493d-d25c-5980c88c6b30"
      },
      "outputs": [
        {
          "output_type": "stream",
          "name": "stdout",
          "text": [
            "Evaluation \t Proposed point \t  Current eval. \t  Best eval. \t        Exact EI: StdDev. x \t Approx EI: StdDev. x \n",
            "init\t [0.9024594  4.07258857]\t 20.24255447774017\t 17.388691338534382\t    \t    \n",
            "init\t [4.00927467 3.23417577]\t 35.55852254546393\t 17.388691338534382\t    \t    \n",
            "init\t [-4.75249064  1.96359764]\t 36.54582989269194\t 17.388691338534382\t    \t    \n",
            "init\t [-1.24230715  0.18955208]\t 17.388691338534382\t 17.388691338534382\t    \t    \n",
            "init\t [ 1.61742301 -3.13497377]\t 33.22932870179905\t 17.388691338534382\t    \t    \n",
            "1  \t [-3.7653899 -5.12     ]\t 52.1374053591766\t 17.388691338534382\t 2.8680487736089044\t 3.2754413137913607\n",
            "2  \t [ 5.12       -0.91572029]\t 31.13288747603701\t 17.388691338534382\t 2.8597554684795847\t 3.4084480142688864\n",
            "3  \t [-2.32335582  4.695823  ]\t 55.23503374978317\t 17.388691338534382\t 2.5687878354663245\t 3.1227549910665604\n",
            "4  \t [ 2.55240541 -0.47909495]\t 46.12094193929013\t 17.388691338534382\t 3.038630979286628\t 3.3209785560183556\n",
            "5  \t [-3.1572227 -1.9643346]\t 18.571921289219965\t 17.388691338534382\t 2.9415767190253845\t 3.1807360513939282\n",
            "6  \t [ 4.68221667 -4.43412358]\t 74.87150444400916\t 17.388691338534382\t 3.263838596008872\t 3.764757165180092\n",
            "7  \t [-0.67922448 -5.12      ]\t 43.68789178866909\t 17.388691338534382\t 3.423324913898055\t 3.529178554817749\n",
            "8  \t [-5.12       -1.44953566]\t 50.52737644336485\t 17.388691338534382\t 3.1597664136035557\t 3.164880152475616\n",
            "9  \t [1.04336258 1.59738084]\t 22.19489976785917\t 17.388691338534382\t 2.8344730808860774\t 2.8309304996063815\n",
            "10 \t [5.12 5.12]\t 57.849427451571785\t 17.388691338534382\t 3.0724243160329525\t 3.0647325273419725\n",
            "11 \t [-0.69971495 -2.30529064]\t 32.315720084628225\t 17.388691338534382\t 3.0113561892973206\t 3.0476267177389227\n",
            "12 \t [-4.9302853   4.29392078]\t 56.414311081095285\t 17.388691338534382\t 3.1032156613367077\t 3.1462832441218316\n",
            "\u001b[1m\u001b[92m13\u001b[0m\t \u001b[1m\u001b[92m[-1.95884157  2.09212251]\u001b[0m\t \u001b[1m\u001b[92m10.175490798228031\u001b[0m\t \u001b[1m\u001b[92m10.175490798228031\u001b[0m\t \u001b[1m\u001b[92m3.350029859370587\u001b[0m\t \u001b[1m\u001b[92m3.4483135255025386\u001b[0m\n",
            "14 \t [ 1.58736272 -5.12      ]\t 49.97533955940263\t 10.175490798228031\t 2.704106389223571\t 2.722462033437455\n",
            "15 \t [-1.07131018  2.9860607 ]\t 11.089679835410411\t 10.175490798228031\t 2.626667577828509\t 2.732001861025321\n",
            "16 \t [2.70243572 5.12      ]\t 49.17213611342832\t 10.175490798228031\t 2.933704859938569\t 2.966772927098076\n",
            "17 \t [-3.15829911  0.45253131]\t 34.2899525965272\t 10.175490798228031\t 2.818952252927566\t 2.8380931539797536\n",
            "18 \t [ 0.20704759 -0.30235072]\t 20.698445775264446\t 10.175490798228031\t 3.0958651003401223\t 3.092621808483502\n",
            "19 \t [5.12       1.52822877]\t 51.10331429570519\t 10.175490798228031\t 2.957466426229449\t 2.954254659488862\n",
            "20 \t [2.85483515 2.626752  ]\t 35.92182839982959\t 10.175490798228031\t 2.5264929167805854\t 2.5264929167805854\n"
          ]
        }
      ],
      "source": [
        "### EXACT GP EI GRADIENTS\n",
        "\n",
        "np.random.seed(run_num_20)\n",
        "surrogate_exact_20 = dGaussianProcess(cov_func, optimize=opt)\n",
        "\n",
        "exact_20 = dGPGO(surrogate_exact_20, Acquisition_grad(util), objfunc, param)\n",
        "exact_20.run(init_evals=n_init, max_iter=iters)\n"
      ]
    },
    {
      "cell_type": "code",
      "execution_count": 54,
      "metadata": {
        "id": "5c8szjivRPme",
        "colab": {
          "base_uri": "https://localhost:8080/"
        },
        "outputId": "594a7c6a-496d-4257-fa08-97e4bcd6e2da"
      },
      "outputs": [
        {
          "output_type": "execute_result",
          "data": {
            "text/plain": [
              "447.70835638046265"
            ]
          },
          "metadata": {},
          "execution_count": 54
        }
      ],
      "source": [
        "end_exact = time.time()\n",
        "end_exact\n",
        "\n",
        "time_exact = end_exact - start_exact\n",
        "time_exact\n"
      ]
    },
    {
      "cell_type": "code",
      "execution_count": 55,
      "metadata": {
        "id": "f6gCKnp6RR8c",
        "colab": {
          "base_uri": "https://localhost:8080/"
        },
        "outputId": "13a26510-bd0d-4284-88b7-67e0a5c7cec9"
      },
      "outputs": [
        {
          "output_type": "execute_result",
          "data": {
            "text/plain": [
              "(2.9911419163163977, 2.1383468150232416)"
            ]
          },
          "metadata": {},
          "execution_count": 55
        }
      ],
      "source": [
        "### Simple regret minimization: run number = 1\n",
        "\n",
        "approx_output_1 = np.append(np.min(-approx_1.GP.y[0:n_init]),-approx_1.GP.y[n_init:(n_init+iters)]) \n",
        "exact_output_1 = np.append(np.min(-exact_1.GP.y[0:n_init]),-exact_1.GP.y[n_init:(n_init+iters)]) \n",
        "\n",
        "regret_approx_1 = np.log(approx_output_1 - y_global_orig)\n",
        "regret_exact_1 = np.log(exact_output_1 - y_global_orig)\n",
        "\n",
        "simple_regret_approx_1 = min_max_array(regret_approx_1)\n",
        "simple_regret_exact_1 = min_max_array(regret_exact_1)\n",
        "\n",
        "min_simple_regret_approx_1 = min(simple_regret_approx_1)\n",
        "min_simple_regret_exact_1 = min(simple_regret_exact_1)\n",
        "\n",
        "min_simple_regret_approx_1, min_simple_regret_exact_1\n"
      ]
    },
    {
      "cell_type": "code",
      "execution_count": 56,
      "metadata": {
        "id": "94yBw5tqQxfk",
        "colab": {
          "base_uri": "https://localhost:8080/"
        },
        "outputId": "bfba195a-87df-4cbd-8f29-d53df380b2d5"
      },
      "outputs": [
        {
          "output_type": "execute_result",
          "data": {
            "text/plain": [
              "(2.7020827327129235, 0.5700598073805034)"
            ]
          },
          "metadata": {},
          "execution_count": 56
        }
      ],
      "source": [
        "### Simple regret minimization: run number = 2\n",
        "\n",
        "approx_output_2 = np.append(np.min(-approx_2.GP.y[0:n_init]),-approx_2.GP.y[n_init:(n_init+iters)]) \n",
        "exact_output_2 = np.append(np.min(-exact_2.GP.y[0:n_init]),-exact_2.GP.y[n_init:(n_init+iters)]) \n",
        "\n",
        "regret_approx_2 = np.log(approx_output_2 - y_global_orig)\n",
        "regret_exact_2 = np.log(exact_output_2 - y_global_orig)\n",
        "\n",
        "simple_regret_approx_2 = min_max_array(regret_approx_2)\n",
        "simple_regret_exact_2 = min_max_array(regret_exact_2)\n",
        "\n",
        "min_simple_regret_approx_2 = min(simple_regret_approx_2)\n",
        "min_simple_regret_exact_2 = min(simple_regret_exact_2)\n",
        "\n",
        "min_simple_regret_approx_2, min_simple_regret_exact_2\n"
      ]
    },
    {
      "cell_type": "code",
      "execution_count": 57,
      "metadata": {
        "id": "Bu6SBWALQxfl",
        "colab": {
          "base_uri": "https://localhost:8080/"
        },
        "outputId": "710caf31-cc22-4652-f814-0a8221a316c8"
      },
      "outputs": [
        {
          "output_type": "execute_result",
          "data": {
            "text/plain": [
              "(2.361576630127625, -0.15718053377076996)"
            ]
          },
          "metadata": {},
          "execution_count": 57
        }
      ],
      "source": [
        "### Simple regret minimization: run number = 3\n",
        "\n",
        "approx_output_3 = np.append(np.min(-approx_3.GP.y[0:n_init]),-approx_3.GP.y[n_init:(n_init+iters)]) \n",
        "exact_output_3 = np.append(np.min(-exact_3.GP.y[0:n_init]),-exact_3.GP.y[n_init:(n_init+iters)]) \n",
        "\n",
        "regret_approx_3 = np.log(approx_output_3 - y_global_orig)\n",
        "regret_exact_3 = np.log(exact_output_3 - y_global_orig)\n",
        "\n",
        "simple_regret_approx_3 = min_max_array(regret_approx_3)\n",
        "simple_regret_exact_3 = min_max_array(regret_exact_3)\n",
        "\n",
        "min_simple_regret_approx_3 = min(simple_regret_approx_3)\n",
        "min_simple_regret_exact_3 = min(simple_regret_exact_3)\n",
        "\n",
        "min_simple_regret_approx_3, min_simple_regret_exact_3"
      ]
    },
    {
      "cell_type": "code",
      "execution_count": 58,
      "metadata": {
        "id": "AZm0jgxkQxfm",
        "colab": {
          "base_uri": "https://localhost:8080/"
        },
        "outputId": "b0055281-1247-4bee-fd64-06664bccf336"
      },
      "outputs": [
        {
          "output_type": "execute_result",
          "data": {
            "text/plain": [
              "(1.5121712304380739, 2.6349002808886928)"
            ]
          },
          "metadata": {},
          "execution_count": 58
        }
      ],
      "source": [
        "### Simple regret minimization: run number = 4\n",
        "\n",
        "approx_output_4 = np.append(np.min(-approx_4.GP.y[0:n_init]),-approx_4.GP.y[n_init:(n_init+iters)]) \n",
        "exact_output_4 = np.append(np.min(-exact_4.GP.y[0:n_init]),-exact_4.GP.y[n_init:(n_init+iters)]) \n",
        "\n",
        "regret_approx_4 = np.log(approx_output_4 - y_global_orig)\n",
        "regret_exact_4 = np.log(exact_output_4 - y_global_orig)\n",
        "\n",
        "simple_regret_approx_4 = min_max_array(regret_approx_4)\n",
        "simple_regret_exact_4 = min_max_array(regret_exact_4)\n",
        "\n",
        "min_simple_regret_approx_4 = min(simple_regret_approx_4)\n",
        "min_simple_regret_exact_4 = min(simple_regret_exact_4)\n",
        "\n",
        "min_simple_regret_approx_4, min_simple_regret_exact_4"
      ]
    },
    {
      "cell_type": "code",
      "execution_count": 59,
      "metadata": {
        "id": "NONPm8JIQxfn",
        "colab": {
          "base_uri": "https://localhost:8080/"
        },
        "outputId": "867c3f73-8810-444a-a06a-46a4b910ec05"
      },
      "outputs": [
        {
          "output_type": "execute_result",
          "data": {
            "text/plain": [
              "(1.824114812268112, 2.05551541920764)"
            ]
          },
          "metadata": {},
          "execution_count": 59
        }
      ],
      "source": [
        "### Simple regret minimization: run number = 5\n",
        "\n",
        "approx_output_5 = np.append(np.min(-approx_5.GP.y[0:n_init]),-approx_5.GP.y[n_init:(n_init+iters)]) \n",
        "exact_output_5 = np.append(np.min(-exact_5.GP.y[0:n_init]),-exact_5.GP.y[n_init:(n_init+iters)]) \n",
        "\n",
        "regret_approx_5 = np.log(approx_output_5 - y_global_orig)\n",
        "regret_exact_5 = np.log(exact_output_5 - y_global_orig)\n",
        "\n",
        "simple_regret_approx_5 = min_max_array(regret_approx_5)\n",
        "simple_regret_exact_5 = min_max_array(regret_exact_5)\n",
        "\n",
        "min_simple_regret_approx_5 = min(simple_regret_approx_5)\n",
        "min_simple_regret_exact_5 = min(simple_regret_exact_5)\n",
        "\n",
        "min_simple_regret_approx_5, min_simple_regret_exact_5"
      ]
    },
    {
      "cell_type": "code",
      "execution_count": 60,
      "metadata": {
        "id": "CJv3lPuSQxfp",
        "colab": {
          "base_uri": "https://localhost:8080/"
        },
        "outputId": "fff2d944-9720-4f71-80ac-0f9636d440fc"
      },
      "outputs": [
        {
          "output_type": "execute_result",
          "data": {
            "text/plain": [
              "(2.8189994452090006, 2.5404680888199724)"
            ]
          },
          "metadata": {},
          "execution_count": 60
        }
      ],
      "source": [
        "### Simple regret minimization: run number = 6\n",
        "\n",
        "approx_output_6 = np.append(np.min(-approx_6.GP.y[0:n_init]),-approx_6.GP.y[n_init:(n_init+iters)]) \n",
        "exact_output_6 = np.append(np.min(-exact_6.GP.y[0:n_init]),-exact_6.GP.y[n_init:(n_init+iters)]) \n",
        "\n",
        "regret_approx_6 = np.log(approx_output_6 - y_global_orig)\n",
        "regret_exact_6 = np.log(exact_output_6 - y_global_orig)\n",
        "\n",
        "simple_regret_approx_6 = min_max_array(regret_approx_6)\n",
        "simple_regret_exact_6 = min_max_array(regret_exact_6)\n",
        "\n",
        "min_simple_regret_approx_6 = min(simple_regret_approx_6)\n",
        "min_simple_regret_exact_6 = min(simple_regret_exact_6)\n",
        "\n",
        "min_simple_regret_approx_6, min_simple_regret_exact_6"
      ]
    },
    {
      "cell_type": "code",
      "execution_count": 61,
      "metadata": {
        "id": "quR2ZyApQxfq",
        "colab": {
          "base_uri": "https://localhost:8080/"
        },
        "outputId": "9f65c1ee-dc10-4a46-d6b5-040e4a21732d"
      },
      "outputs": [
        {
          "output_type": "execute_result",
          "data": {
            "text/plain": [
              "(2.5470487663770065, 2.522653973775769)"
            ]
          },
          "metadata": {},
          "execution_count": 61
        }
      ],
      "source": [
        "### Simple regret minimization: run number = 7\n",
        "\n",
        "approx_output_7 = np.append(np.min(-approx_7.GP.y[0:n_init]),-approx_7.GP.y[n_init:(n_init+iters)]) \n",
        "exact_output_7 = np.append(np.min(-exact_7.GP.y[0:n_init]),-exact_7.GP.y[n_init:(n_init+iters)]) \n",
        "\n",
        "regret_approx_7 = np.log(approx_output_7 - y_global_orig)\n",
        "regret_exact_7 = np.log(exact_output_7 - y_global_orig)\n",
        "\n",
        "simple_regret_approx_7 = min_max_array(regret_approx_7)\n",
        "simple_regret_exact_7 = min_max_array(regret_exact_7)\n",
        "\n",
        "min_simple_regret_approx_7 = min(simple_regret_approx_7)\n",
        "min_simple_regret_exact_7 = min(simple_regret_exact_7)\n",
        "\n",
        "min_simple_regret_approx_7, min_simple_regret_exact_7"
      ]
    },
    {
      "cell_type": "code",
      "execution_count": 62,
      "metadata": {
        "id": "99wY5nK6Qxfr",
        "colab": {
          "base_uri": "https://localhost:8080/"
        },
        "outputId": "953d12cc-43bd-4910-c870-bc5047727829"
      },
      "outputs": [
        {
          "output_type": "execute_result",
          "data": {
            "text/plain": [
              "(2.6298595175876263, 1.956251689894759)"
            ]
          },
          "metadata": {},
          "execution_count": 62
        }
      ],
      "source": [
        "### Simple regret minimization: run number = 8\n",
        "\n",
        "approx_output_8 = np.append(np.min(-approx_8.GP.y[0:n_init]),-approx_8.GP.y[n_init:(n_init+iters)]) \n",
        "exact_output_8 = np.append(np.min(-exact_8.GP.y[0:n_init]),-exact_8.GP.y[n_init:(n_init+iters)]) \n",
        "\n",
        "regret_approx_8 = np.log(approx_output_8 - y_global_orig)\n",
        "regret_exact_8 = np.log(exact_output_8 - y_global_orig)\n",
        "\n",
        "simple_regret_approx_8 = min_max_array(regret_approx_8)\n",
        "simple_regret_exact_8 = min_max_array(regret_exact_8)\n",
        "\n",
        "min_simple_regret_approx_8 = min(simple_regret_approx_8)\n",
        "min_simple_regret_exact_8 = min(simple_regret_exact_8)\n",
        "\n",
        "min_simple_regret_approx_8, min_simple_regret_exact_8"
      ]
    },
    {
      "cell_type": "code",
      "execution_count": 63,
      "metadata": {
        "id": "qt0P5t9qQxfs",
        "colab": {
          "base_uri": "https://localhost:8080/"
        },
        "outputId": "ae6e20c1-f3a7-4848-e821-f9c1ac635a73"
      },
      "outputs": [
        {
          "output_type": "execute_result",
          "data": {
            "text/plain": [
              "(2.7482040141063537, 2.1248987615328234)"
            ]
          },
          "metadata": {},
          "execution_count": 63
        }
      ],
      "source": [
        "### Simple regret minimization: run number = 9\n",
        "\n",
        "approx_output_9 = np.append(np.min(-approx_9.GP.y[0:n_init]),-approx_9.GP.y[n_init:(n_init+iters)]) \n",
        "exact_output_9 = np.append(np.min(-exact_9.GP.y[0:n_init]),-exact_9.GP.y[n_init:(n_init+iters)]) \n",
        "\n",
        "regret_approx_9 = np.log(approx_output_9 - y_global_orig)\n",
        "regret_exact_9 = np.log(exact_output_9 - y_global_orig)\n",
        "\n",
        "simple_regret_approx_9 = min_max_array(regret_approx_9)\n",
        "simple_regret_exact_9 = min_max_array(regret_exact_9)\n",
        "\n",
        "min_simple_regret_approx_9 = min(simple_regret_approx_9)\n",
        "min_simple_regret_exact_9 = min(simple_regret_exact_9)\n",
        "\n",
        "min_simple_regret_approx_9, min_simple_regret_exact_9"
      ]
    },
    {
      "cell_type": "code",
      "execution_count": 64,
      "metadata": {
        "id": "vx8to9stQxft",
        "colab": {
          "base_uri": "https://localhost:8080/"
        },
        "outputId": "216350e8-7cc4-4e5d-bef4-cf9afa615a11"
      },
      "outputs": [
        {
          "output_type": "execute_result",
          "data": {
            "text/plain": [
              "(2.5239061311616746, 2.233254747025537)"
            ]
          },
          "metadata": {},
          "execution_count": 64
        }
      ],
      "source": [
        "### Simple regret minimization: run number = 10\n",
        "\n",
        "approx_output_10 = np.append(np.min(-approx_10.GP.y[0:n_init]),-approx_10.GP.y[n_init:(n_init+iters)]) \n",
        "exact_output_10 = np.append(np.min(-exact_10.GP.y[0:n_init]),-exact_10.GP.y[n_init:(n_init+iters)]) \n",
        "\n",
        "regret_approx_10 = np.log(approx_output_10 - y_global_orig)\n",
        "regret_exact_10 = np.log(exact_output_10 - y_global_orig)\n",
        "\n",
        "simple_regret_approx_10 = min_max_array(regret_approx_10)\n",
        "simple_regret_exact_10 = min_max_array(regret_exact_10)\n",
        "\n",
        "min_simple_regret_approx_10 = min(simple_regret_approx_10)\n",
        "min_simple_regret_exact_10 = min(simple_regret_exact_10)\n",
        "\n",
        "min_simple_regret_approx_10, min_simple_regret_exact_10"
      ]
    },
    {
      "cell_type": "code",
      "execution_count": 65,
      "metadata": {
        "id": "d-FGzWyHQxfu",
        "colab": {
          "base_uri": "https://localhost:8080/"
        },
        "outputId": "cb78dc51-7138-4449-eea7-912b99475d4e"
      },
      "outputs": [
        {
          "output_type": "execute_result",
          "data": {
            "text/plain": [
              "(2.3683499168354514, 2.3683499168354514)"
            ]
          },
          "metadata": {},
          "execution_count": 65
        }
      ],
      "source": [
        "### Simple regret minimization: run number = 11\n",
        "\n",
        "approx_output_11 = np.append(np.min(-approx_11.GP.y[0:n_init]),-approx_11.GP.y[n_init:(n_init+iters)]) \n",
        "exact_output_11 = np.append(np.min(-exact_11.GP.y[0:n_init]),-exact_11.GP.y[n_init:(n_init+iters)]) \n",
        "\n",
        "regret_approx_11 = np.log(approx_output_11 - y_global_orig)\n",
        "regret_exact_11 = np.log(exact_output_11 - y_global_orig)\n",
        "\n",
        "simple_regret_approx_11 = min_max_array(regret_approx_11)\n",
        "simple_regret_exact_11 = min_max_array(regret_exact_11)\n",
        "\n",
        "min_simple_regret_approx_11 = min(simple_regret_approx_11)\n",
        "min_simple_regret_exact_11 = min(simple_regret_exact_11)\n",
        "\n",
        "min_simple_regret_approx_11, min_simple_regret_exact_11"
      ]
    },
    {
      "cell_type": "code",
      "execution_count": 66,
      "metadata": {
        "id": "SvtsssyjQxfv",
        "colab": {
          "base_uri": "https://localhost:8080/"
        },
        "outputId": "f34526a1-1b63-4c5a-dc35-b7463a6f18c1"
      },
      "outputs": [
        {
          "output_type": "execute_result",
          "data": {
            "text/plain": [
              "(1.0161140448368895, 1.6870103082832824)"
            ]
          },
          "metadata": {},
          "execution_count": 66
        }
      ],
      "source": [
        "### Simple regret minimization: run number = 12\n",
        "\n",
        "approx_output_12 = np.append(np.min(-approx_12.GP.y[0:n_init]),-approx_12.GP.y[n_init:(n_init+iters)]) \n",
        "exact_output_12 = np.append(np.min(-exact_12.GP.y[0:n_init]),-exact_12.GP.y[n_init:(n_init+iters)]) \n",
        "\n",
        "regret_approx_12 = np.log(approx_output_12 - y_global_orig)\n",
        "regret_exact_12 = np.log(exact_output_12 - y_global_orig)\n",
        "\n",
        "simple_regret_approx_12 = min_max_array(regret_approx_12)\n",
        "simple_regret_exact_12 = min_max_array(regret_exact_12)\n",
        "\n",
        "min_simple_regret_approx_12 = min(simple_regret_approx_12)\n",
        "min_simple_regret_exact_12 = min(simple_regret_exact_12)\n",
        "\n",
        "min_simple_regret_approx_12, min_simple_regret_exact_12"
      ]
    },
    {
      "cell_type": "code",
      "execution_count": 67,
      "metadata": {
        "id": "K6OiGcHkQxfw",
        "colab": {
          "base_uri": "https://localhost:8080/"
        },
        "outputId": "431514e7-df8a-49a2-bfc1-6e4fac56f01f"
      },
      "outputs": [
        {
          "output_type": "execute_result",
          "data": {
            "text/plain": [
              "(2.757484462694625, 2.7969422909867903)"
            ]
          },
          "metadata": {},
          "execution_count": 67
        }
      ],
      "source": [
        "### Simple regret minimization: run number = 13\n",
        "\n",
        "approx_output_13 = np.append(np.min(-approx_13.GP.y[0:n_init]),-approx_13.GP.y[n_init:(n_init+iters)]) \n",
        "exact_output_13 = np.append(np.min(-exact_13.GP.y[0:n_init]),-exact_13.GP.y[n_init:(n_init+iters)]) \n",
        "\n",
        "regret_approx_13 = np.log(approx_output_13 - y_global_orig)\n",
        "regret_exact_13 = np.log(exact_output_13 - y_global_orig)\n",
        "\n",
        "simple_regret_approx_13 = min_max_array(regret_approx_13)\n",
        "simple_regret_exact_13 = min_max_array(regret_exact_13)\n",
        "\n",
        "min_simple_regret_approx_13 = min(simple_regret_approx_13)\n",
        "min_simple_regret_exact_13 = min(simple_regret_exact_13)\n",
        "\n",
        "min_simple_regret_approx_13, min_simple_regret_exact_13"
      ]
    },
    {
      "cell_type": "code",
      "execution_count": 68,
      "metadata": {
        "id": "ogML73shQxfx",
        "colab": {
          "base_uri": "https://localhost:8080/"
        },
        "outputId": "5ab27de6-4580-4881-d3b8-485c267d9ad0"
      },
      "outputs": [
        {
          "output_type": "execute_result",
          "data": {
            "text/plain": [
              "(2.3440953566682032, 2.3440953566682032)"
            ]
          },
          "metadata": {},
          "execution_count": 68
        }
      ],
      "source": [
        "### Simple regret minimization: run number = 14\n",
        "\n",
        "approx_output_14 = np.append(np.min(-approx_14.GP.y[0:n_init]),-approx_14.GP.y[n_init:(n_init+iters)]) \n",
        "exact_output_14 = np.append(np.min(-exact_14.GP.y[0:n_init]),-exact_14.GP.y[n_init:(n_init+iters)]) \n",
        "\n",
        "regret_approx_14 = np.log(approx_output_14 - y_global_orig)\n",
        "regret_exact_14 = np.log(exact_output_14 - y_global_orig)\n",
        "\n",
        "simple_regret_approx_14 = min_max_array(regret_approx_14)\n",
        "simple_regret_exact_14 = min_max_array(regret_exact_14)\n",
        "\n",
        "min_simple_regret_approx_14 = min(simple_regret_approx_14)\n",
        "min_simple_regret_exact_14 = min(simple_regret_exact_14)\n",
        "\n",
        "min_simple_regret_approx_14, min_simple_regret_exact_14"
      ]
    },
    {
      "cell_type": "code",
      "execution_count": 69,
      "metadata": {
        "id": "9Eg7gFT9Qxfx",
        "colab": {
          "base_uri": "https://localhost:8080/"
        },
        "outputId": "f44031dd-2fe1-410e-f5d8-c75b8bffccde"
      },
      "outputs": [
        {
          "output_type": "execute_result",
          "data": {
            "text/plain": [
              "(2.078286539213237, 2.078286539213237)"
            ]
          },
          "metadata": {},
          "execution_count": 69
        }
      ],
      "source": [
        "### Simple regret minimization: run number = 15\n",
        "\n",
        "approx_output_15 = np.append(np.min(-approx_15.GP.y[0:n_init]),-approx_15.GP.y[n_init:(n_init+iters)]) \n",
        "exact_output_15 = np.append(np.min(-exact_15.GP.y[0:n_init]),-exact_15.GP.y[n_init:(n_init+iters)]) \n",
        "\n",
        "regret_approx_15 = np.log(approx_output_15 - y_global_orig)\n",
        "regret_exact_15 = np.log(exact_output_15 - y_global_orig)\n",
        "\n",
        "simple_regret_approx_15 = min_max_array(regret_approx_15)\n",
        "simple_regret_exact_15 = min_max_array(regret_exact_15)\n",
        "\n",
        "min_simple_regret_approx_15 = min(simple_regret_approx_15)\n",
        "min_simple_regret_exact_15 = min(simple_regret_exact_15)\n",
        "\n",
        "min_simple_regret_approx_15, min_simple_regret_exact_15"
      ]
    },
    {
      "cell_type": "code",
      "execution_count": 70,
      "metadata": {
        "id": "lIAC1U7ZQxfy",
        "colab": {
          "base_uri": "https://localhost:8080/"
        },
        "outputId": "d5902d00-5ef9-4607-9445-962253bce395"
      },
      "outputs": [
        {
          "output_type": "execute_result",
          "data": {
            "text/plain": [
              "(1.8876789578091826, 2.107961942263303)"
            ]
          },
          "metadata": {},
          "execution_count": 70
        }
      ],
      "source": [
        "### Simple regret minimization: run number = 16\n",
        "\n",
        "approx_output_16 = np.append(np.min(-approx_16.GP.y[0:n_init]),-approx_16.GP.y[n_init:(n_init+iters)]) \n",
        "exact_output_16 = np.append(np.min(-exact_16.GP.y[0:n_init]),-exact_16.GP.y[n_init:(n_init+iters)]) \n",
        "\n",
        "regret_approx_16 = np.log(approx_output_16 - y_global_orig)\n",
        "regret_exact_16 = np.log(exact_output_16 - y_global_orig)\n",
        "\n",
        "simple_regret_approx_16 = min_max_array(regret_approx_16)\n",
        "simple_regret_exact_16 = min_max_array(regret_exact_16)\n",
        "\n",
        "min_simple_regret_approx_16 = min(simple_regret_approx_16)\n",
        "min_simple_regret_exact_16 = min(simple_regret_exact_16)\n",
        "\n",
        "min_simple_regret_approx_16, min_simple_regret_exact_16"
      ]
    },
    {
      "cell_type": "code",
      "execution_count": 71,
      "metadata": {
        "id": "bGott36OQxfz",
        "colab": {
          "base_uri": "https://localhost:8080/"
        },
        "outputId": "970efd0a-2ede-41d0-8b00-b1d36662d1f3"
      },
      "outputs": [
        {
          "output_type": "execute_result",
          "data": {
            "text/plain": [
              "(2.4422551880800922, 2.3940457885936444)"
            ]
          },
          "metadata": {},
          "execution_count": 71
        }
      ],
      "source": [
        "### Simple regret minimization: run number = 17\n",
        "\n",
        "approx_output_17 = np.append(np.min(-approx_17.GP.y[0:n_init]),-approx_17.GP.y[n_init:(n_init+iters)]) \n",
        "exact_output_17 = np.append(np.min(-exact_17.GP.y[0:n_init]),-exact_17.GP.y[n_init:(n_init+iters)]) \n",
        "\n",
        "regret_approx_17 = np.log(approx_output_17 - y_global_orig)\n",
        "regret_exact_17 = np.log(exact_output_17 - y_global_orig)\n",
        "\n",
        "simple_regret_approx_17 = min_max_array(regret_approx_17)\n",
        "simple_regret_exact_17 = min_max_array(regret_exact_17)\n",
        "\n",
        "min_simple_regret_approx_17 = min(simple_regret_approx_17)\n",
        "min_simple_regret_exact_17 = min(simple_regret_exact_17)\n",
        "\n",
        "min_simple_regret_approx_17, min_simple_regret_exact_17"
      ]
    },
    {
      "cell_type": "code",
      "execution_count": 72,
      "metadata": {
        "id": "Cz9ZYMBMQxfz",
        "colab": {
          "base_uri": "https://localhost:8080/"
        },
        "outputId": "e0b0414f-52f5-477d-8284-45419e8e05a9"
      },
      "outputs": [
        {
          "output_type": "execute_result",
          "data": {
            "text/plain": [
              "(2.425806857296108, 2.346571825580546)"
            ]
          },
          "metadata": {},
          "execution_count": 72
        }
      ],
      "source": [
        "### Simple regret minimization: run number = 18\n",
        "\n",
        "approx_output_18 = np.append(np.min(-approx_18.GP.y[0:n_init]),-approx_18.GP.y[n_init:(n_init+iters)]) \n",
        "exact_output_18 = np.append(np.min(-exact_18.GP.y[0:n_init]),-exact_18.GP.y[n_init:(n_init+iters)]) \n",
        "\n",
        "regret_approx_18 = np.log(approx_output_18 - y_global_orig)\n",
        "regret_exact_18 = np.log(exact_output_18 - y_global_orig)\n",
        "\n",
        "simple_regret_approx_18 = min_max_array(regret_approx_18)\n",
        "simple_regret_exact_18 = min_max_array(regret_exact_18)\n",
        "\n",
        "min_simple_regret_approx_18 = min(simple_regret_approx_18)\n",
        "min_simple_regret_exact_18 = min(simple_regret_exact_18)\n",
        "\n",
        "min_simple_regret_approx_18, min_simple_regret_exact_18"
      ]
    },
    {
      "cell_type": "code",
      "execution_count": 73,
      "metadata": {
        "id": "OBfpWOHNQxf0",
        "colab": {
          "base_uri": "https://localhost:8080/"
        },
        "outputId": "c649dfcc-5cb0-47ec-dbf1-f73dfcc3f385"
      },
      "outputs": [
        {
          "output_type": "execute_result",
          "data": {
            "text/plain": [
              "(2.965396308794951, 2.8670797270342203)"
            ]
          },
          "metadata": {},
          "execution_count": 73
        }
      ],
      "source": [
        "### Simple regret minimization: run number = 19\n",
        "\n",
        "approx_output_19 = np.append(np.min(-approx_19.GP.y[0:n_init]),-approx_19.GP.y[n_init:(n_init+iters)]) \n",
        "exact_output_19 = np.append(np.min(-exact_19.GP.y[0:n_init]),-exact_19.GP.y[n_init:(n_init+iters)]) \n",
        "\n",
        "regret_approx_19 = np.log(approx_output_19 - y_global_orig)\n",
        "regret_exact_19 = np.log(exact_output_19 - y_global_orig)\n",
        "\n",
        "simple_regret_approx_19 = min_max_array(regret_approx_19)\n",
        "simple_regret_exact_19 = min_max_array(regret_exact_19)\n",
        "\n",
        "min_simple_regret_approx_19 = min(simple_regret_approx_19)\n",
        "min_simple_regret_exact_19 = min(simple_regret_exact_19)\n",
        "\n",
        "min_simple_regret_approx_19, min_simple_regret_exact_19"
      ]
    },
    {
      "cell_type": "code",
      "execution_count": 74,
      "metadata": {
        "id": "BE1AJ7NsQxf0",
        "colab": {
          "base_uri": "https://localhost:8080/"
        },
        "outputId": "27eae2d1-662c-4932-e370-656eb7511541"
      },
      "outputs": [
        {
          "output_type": "execute_result",
          "data": {
            "text/plain": [
              "(2.8558200718561926, 2.3199819658634415)"
            ]
          },
          "metadata": {},
          "execution_count": 74
        }
      ],
      "source": [
        "### Simple regret minimization: run number = 20\n",
        "\n",
        "approx_output_20 = np.append(np.min(-approx_20.GP.y[0:n_init]),-approx_20.GP.y[n_init:(n_init+iters)]) \n",
        "exact_output_20 = np.append(np.min(-exact_20.GP.y[0:n_init]),-exact_20.GP.y[n_init:(n_init+iters)]) \n",
        "\n",
        "regret_approx_20 = np.log(approx_output_20 - y_global_orig)\n",
        "regret_exact_20 = np.log(exact_output_20 - y_global_orig)\n",
        "\n",
        "simple_regret_approx_20 = min_max_array(regret_approx_20)\n",
        "simple_regret_exact_20 = min_max_array(regret_exact_20)\n",
        "\n",
        "min_simple_regret_approx_20 = min(simple_regret_approx_20)\n",
        "min_simple_regret_exact_20 = min(simple_regret_exact_20)\n",
        "\n",
        "min_simple_regret_approx_20, min_simple_regret_exact_20"
      ]
    },
    {
      "cell_type": "code",
      "execution_count": 75,
      "metadata": {
        "id": "bpX-bKAHQxf1"
      },
      "outputs": [],
      "source": [
        "# Iteration1 :\n",
        "\n",
        "slice1 = 0\n",
        "\n",
        "approx1 = [simple_regret_approx_1[slice1],\n",
        "       simple_regret_approx_2[slice1],\n",
        "       simple_regret_approx_3[slice1],\n",
        "       simple_regret_approx_4[slice1],\n",
        "       simple_regret_approx_5[slice1],\n",
        "       simple_regret_approx_6[slice1],\n",
        "       simple_regret_approx_7[slice1],\n",
        "       simple_regret_approx_8[slice1],\n",
        "       simple_regret_approx_9[slice1],\n",
        "       simple_regret_approx_10[slice1],\n",
        "       simple_regret_approx_11[slice1],\n",
        "       simple_regret_approx_12[slice1],\n",
        "       simple_regret_approx_13[slice1],\n",
        "       simple_regret_approx_14[slice1],\n",
        "       simple_regret_approx_15[slice1],\n",
        "       simple_regret_approx_16[slice1],\n",
        "       simple_regret_approx_17[slice1],\n",
        "       simple_regret_approx_18[slice1],\n",
        "       simple_regret_approx_19[slice1],\n",
        "       simple_regret_approx_20[slice1]]\n",
        "\n",
        "exact1 = [simple_regret_exact_1[slice1],\n",
        "       simple_regret_exact_2[slice1],\n",
        "       simple_regret_exact_3[slice1],\n",
        "       simple_regret_exact_4[slice1],\n",
        "       simple_regret_exact_5[slice1],\n",
        "       simple_regret_exact_6[slice1],\n",
        "       simple_regret_exact_7[slice1],\n",
        "       simple_regret_exact_8[slice1],\n",
        "       simple_regret_exact_9[slice1],\n",
        "       simple_regret_exact_10[slice1],\n",
        "       simple_regret_exact_11[slice1],\n",
        "       simple_regret_exact_12[slice1],\n",
        "       simple_regret_exact_13[slice1],\n",
        "       simple_regret_exact_14[slice1],\n",
        "       simple_regret_exact_15[slice1],\n",
        "       simple_regret_exact_16[slice1],\n",
        "       simple_regret_exact_17[slice1],\n",
        "       simple_regret_exact_18[slice1],\n",
        "       simple_regret_exact_19[slice1],\n",
        "       simple_regret_exact_20[slice1]]\n",
        "\n",
        "approx1_results = pd.DataFrame(approx1).sort_values(by=[0], ascending=False)\n",
        "exact1_results = pd.DataFrame(exact1).sort_values(by=[0], ascending=False)\n",
        "\n",
        "### Best simple regret minimization IQR - approx:\n",
        "lower_approx1 = np.asarray(approx1_results[4:5][0])[0]\n",
        "median_approx1 = np.asarray(approx1_results[9:10][0])[0]\n",
        "upper_approx1 = np.asarray(approx1_results[14:15][0])[0]\n",
        "\n",
        "lower_exact1 = np.asarray(exact1_results[4:5][0])[0]\n",
        "median_exact1 = np.asarray(exact1_results[9:10][0])[0]\n",
        "upper_exact1 = np.asarray(exact1_results[14:15][0])[0]"
      ]
    },
    {
      "cell_type": "code",
      "execution_count": 76,
      "metadata": {
        "id": "CgIkJA1xQxf2"
      },
      "outputs": [],
      "source": [
        "# Iteration11 :\n",
        "\n",
        "slice11 = 10\n",
        "\n",
        "approx11 = [simple_regret_approx_1[slice11],\n",
        "       simple_regret_approx_2[slice11],\n",
        "       simple_regret_approx_3[slice11],\n",
        "       simple_regret_approx_4[slice11],\n",
        "       simple_regret_approx_5[slice11],\n",
        "       simple_regret_approx_6[slice11],\n",
        "       simple_regret_approx_7[slice11],\n",
        "       simple_regret_approx_8[slice11],\n",
        "       simple_regret_approx_9[slice11],\n",
        "       simple_regret_approx_10[slice11],\n",
        "       simple_regret_approx_11[slice11],\n",
        "       simple_regret_approx_12[slice11],\n",
        "       simple_regret_approx_13[slice11],\n",
        "       simple_regret_approx_14[slice11],\n",
        "       simple_regret_approx_15[slice11],\n",
        "       simple_regret_approx_16[slice11],\n",
        "       simple_regret_approx_17[slice11],\n",
        "       simple_regret_approx_18[slice11],\n",
        "       simple_regret_approx_19[slice11],\n",
        "       simple_regret_approx_20[slice11]]\n",
        "\n",
        "exact11 = [simple_regret_exact_1[slice11],\n",
        "       simple_regret_exact_2[slice11],\n",
        "       simple_regret_exact_3[slice11],\n",
        "       simple_regret_exact_4[slice11],\n",
        "       simple_regret_exact_5[slice11],\n",
        "       simple_regret_exact_6[slice11],\n",
        "       simple_regret_exact_7[slice11],\n",
        "       simple_regret_exact_8[slice11],\n",
        "       simple_regret_exact_9[slice11],\n",
        "       simple_regret_exact_10[slice11],\n",
        "       simple_regret_exact_11[slice11],\n",
        "       simple_regret_exact_12[slice11],\n",
        "       simple_regret_exact_13[slice11],\n",
        "       simple_regret_exact_14[slice11],\n",
        "       simple_regret_exact_15[slice11],\n",
        "       simple_regret_exact_16[slice11],\n",
        "       simple_regret_exact_17[slice11],\n",
        "       simple_regret_exact_18[slice11],\n",
        "       simple_regret_exact_19[slice11],\n",
        "       simple_regret_exact_20[slice11]]\n",
        "\n",
        "approx11_results = pd.DataFrame(approx11).sort_values(by=[0], ascending=False)\n",
        "exact11_results = pd.DataFrame(exact11).sort_values(by=[0], ascending=False)\n",
        "\n",
        "### Best simple regret minimization IQR - approx:\n",
        "lower_approx11 = np.asarray(approx11_results[4:5][0])[0]\n",
        "median_approx11 = np.asarray(approx11_results[9:10][0])[0]\n",
        "upper_approx11 = np.asarray(approx11_results[14:15][0])[0]\n",
        "\n",
        "lower_exact11 = np.asarray(exact11_results[4:5][0])[0]\n",
        "median_exact11 = np.asarray(exact11_results[9:10][0])[0]\n",
        "upper_exact11 = np.asarray(exact11_results[14:15][0])[0]"
      ]
    },
    {
      "cell_type": "code",
      "execution_count": 77,
      "metadata": {
        "id": "MFePDfGuQxf2"
      },
      "outputs": [],
      "source": [
        "# Iteration21 :\n",
        "\n",
        "slice21 = 20\n",
        "\n",
        "approx21 = [simple_regret_approx_1[slice21],\n",
        "       simple_regret_approx_2[slice21],\n",
        "       simple_regret_approx_3[slice21],\n",
        "       simple_regret_approx_4[slice21],\n",
        "       simple_regret_approx_5[slice21],\n",
        "       simple_regret_approx_6[slice21],\n",
        "       simple_regret_approx_7[slice21],\n",
        "       simple_regret_approx_8[slice21],\n",
        "       simple_regret_approx_9[slice21],\n",
        "       simple_regret_approx_10[slice21],\n",
        "       simple_regret_approx_11[slice21],\n",
        "       simple_regret_approx_12[slice21],\n",
        "       simple_regret_approx_13[slice21],\n",
        "       simple_regret_approx_14[slice21],\n",
        "       simple_regret_approx_15[slice21],\n",
        "       simple_regret_approx_16[slice21],\n",
        "       simple_regret_approx_17[slice21],\n",
        "       simple_regret_approx_18[slice21],\n",
        "       simple_regret_approx_19[slice21],\n",
        "       simple_regret_approx_20[slice21]]\n",
        "\n",
        "exact21 = [simple_regret_exact_1[slice21],\n",
        "       simple_regret_exact_2[slice21],\n",
        "       simple_regret_exact_3[slice21],\n",
        "       simple_regret_exact_4[slice21],\n",
        "       simple_regret_exact_5[slice21],\n",
        "       simple_regret_exact_6[slice21],\n",
        "       simple_regret_exact_7[slice21],\n",
        "       simple_regret_exact_8[slice21],\n",
        "       simple_regret_exact_9[slice21],\n",
        "       simple_regret_exact_10[slice21],\n",
        "       simple_regret_exact_11[slice21],\n",
        "       simple_regret_exact_12[slice21],\n",
        "       simple_regret_exact_13[slice21],\n",
        "       simple_regret_exact_14[slice21],\n",
        "       simple_regret_exact_15[slice21],\n",
        "       simple_regret_exact_16[slice21],\n",
        "       simple_regret_exact_17[slice21],\n",
        "       simple_regret_exact_18[slice21],\n",
        "       simple_regret_exact_19[slice21],\n",
        "       simple_regret_exact_20[slice21]]\n",
        "\n",
        "approx21_results = pd.DataFrame(approx21).sort_values(by=[0], ascending=False)\n",
        "exact21_results = pd.DataFrame(exact21).sort_values(by=[0], ascending=False)\n",
        "\n",
        "### Best simple regret minimization IQR - approx:\n",
        "lower_approx21 = np.asarray(approx21_results[4:5][0])[0]\n",
        "median_approx21 = np.asarray(approx21_results[9:10][0])[0]\n",
        "upper_approx21 = np.asarray(approx21_results[14:15][0])[0]\n",
        "\n",
        "lower_exact21 = np.asarray(exact21_results[4:5][0])[0]\n",
        "median_exact21 = np.asarray(exact21_results[9:10][0])[0]\n",
        "upper_exact21 = np.asarray(exact21_results[14:15][0])[0]"
      ]
    },
    {
      "cell_type": "code",
      "execution_count": 78,
      "metadata": {
        "id": "PrRDB1kfQxf3"
      },
      "outputs": [],
      "source": [
        "# Iteration2 :\n",
        "\n",
        "slice2 = 1\n",
        "\n",
        "approx2 = [simple_regret_approx_1[slice2],\n",
        "       simple_regret_approx_2[slice2],\n",
        "       simple_regret_approx_3[slice2],\n",
        "       simple_regret_approx_4[slice2],\n",
        "       simple_regret_approx_5[slice2],\n",
        "       simple_regret_approx_6[slice2],\n",
        "       simple_regret_approx_7[slice2],\n",
        "       simple_regret_approx_8[slice2],\n",
        "       simple_regret_approx_9[slice2],\n",
        "       simple_regret_approx_10[slice2],\n",
        "       simple_regret_approx_11[slice2],\n",
        "       simple_regret_approx_12[slice2],\n",
        "       simple_regret_approx_13[slice2],\n",
        "       simple_regret_approx_14[slice2],\n",
        "       simple_regret_approx_15[slice2],\n",
        "       simple_regret_approx_16[slice2],\n",
        "       simple_regret_approx_17[slice2],\n",
        "       simple_regret_approx_18[slice2],\n",
        "       simple_regret_approx_19[slice2],\n",
        "       simple_regret_approx_20[slice2]]\n",
        "\n",
        "exact2 = [simple_regret_exact_1[slice2],\n",
        "       simple_regret_exact_2[slice2],\n",
        "       simple_regret_exact_3[slice2],\n",
        "       simple_regret_exact_4[slice2],\n",
        "       simple_regret_exact_5[slice2],\n",
        "       simple_regret_exact_6[slice2],\n",
        "       simple_regret_exact_7[slice2],\n",
        "       simple_regret_exact_8[slice2],\n",
        "       simple_regret_exact_9[slice2],\n",
        "       simple_regret_exact_10[slice2],\n",
        "       simple_regret_exact_11[slice2],\n",
        "       simple_regret_exact_12[slice2],\n",
        "       simple_regret_exact_13[slice2],\n",
        "       simple_regret_exact_14[slice2],\n",
        "       simple_regret_exact_15[slice2],\n",
        "       simple_regret_exact_16[slice2],\n",
        "       simple_regret_exact_17[slice2],\n",
        "       simple_regret_exact_18[slice2],\n",
        "       simple_regret_exact_19[slice2],\n",
        "       simple_regret_exact_20[slice2]]\n",
        "\n",
        "approx2_results = pd.DataFrame(approx2).sort_values(by=[0], ascending=False)\n",
        "exact2_results = pd.DataFrame(exact2).sort_values(by=[0], ascending=False)\n",
        "\n",
        "### Best simple regret minimization IQR - approx:\n",
        "lower_approx2 = np.asarray(approx2_results[4:5][0])[0]\n",
        "median_approx2 = np.asarray(approx2_results[9:10][0])[0]\n",
        "upper_approx2 = np.asarray(approx2_results[14:15][0])[0]\n",
        "\n",
        "lower_exact2 = np.asarray(exact2_results[4:5][0])[0]\n",
        "median_exact2 = np.asarray(exact2_results[9:10][0])[0]\n",
        "upper_exact2 = np.asarray(exact2_results[14:15][0])[0]"
      ]
    },
    {
      "cell_type": "code",
      "execution_count": 79,
      "metadata": {
        "id": "B8ncJDYeQxf3"
      },
      "outputs": [],
      "source": [
        "# Iteration12 :\n",
        "\n",
        "slice12 = 11\n",
        "\n",
        "approx12 = [simple_regret_approx_1[slice12],\n",
        "       simple_regret_approx_2[slice12],\n",
        "       simple_regret_approx_3[slice12],\n",
        "       simple_regret_approx_4[slice12],\n",
        "       simple_regret_approx_5[slice12],\n",
        "       simple_regret_approx_6[slice12],\n",
        "       simple_regret_approx_7[slice12],\n",
        "       simple_regret_approx_8[slice12],\n",
        "       simple_regret_approx_9[slice12],\n",
        "       simple_regret_approx_10[slice12],\n",
        "       simple_regret_approx_11[slice12],\n",
        "       simple_regret_approx_12[slice12],\n",
        "       simple_regret_approx_13[slice12],\n",
        "       simple_regret_approx_14[slice12],\n",
        "       simple_regret_approx_15[slice12],\n",
        "       simple_regret_approx_16[slice12],\n",
        "       simple_regret_approx_17[slice12],\n",
        "       simple_regret_approx_18[slice12],\n",
        "       simple_regret_approx_19[slice12],\n",
        "       simple_regret_approx_20[slice12]]\n",
        "\n",
        "exact12 = [simple_regret_exact_1[slice12],\n",
        "       simple_regret_exact_2[slice12],\n",
        "       simple_regret_exact_3[slice12],\n",
        "       simple_regret_exact_4[slice12],\n",
        "       simple_regret_exact_5[slice12],\n",
        "       simple_regret_exact_6[slice12],\n",
        "       simple_regret_exact_7[slice12],\n",
        "       simple_regret_exact_8[slice12],\n",
        "       simple_regret_exact_9[slice12],\n",
        "       simple_regret_exact_10[slice12],\n",
        "       simple_regret_exact_11[slice12],\n",
        "       simple_regret_exact_12[slice12],\n",
        "       simple_regret_exact_13[slice12],\n",
        "       simple_regret_exact_14[slice12],\n",
        "       simple_regret_exact_15[slice12],\n",
        "       simple_regret_exact_16[slice12],\n",
        "       simple_regret_exact_17[slice12],\n",
        "       simple_regret_exact_18[slice12],\n",
        "       simple_regret_exact_19[slice12],\n",
        "       simple_regret_exact_20[slice12]]\n",
        "\n",
        "approx12_results = pd.DataFrame(approx12).sort_values(by=[0], ascending=False)\n",
        "exact12_results = pd.DataFrame(exact12).sort_values(by=[0], ascending=False)\n",
        "\n",
        "### Best simple regret minimization IQR - approx:\n",
        "lower_approx12 = np.asarray(approx12_results[4:5][0])[0]\n",
        "median_approx12 = np.asarray(approx12_results[9:10][0])[0]\n",
        "upper_approx12 = np.asarray(approx12_results[14:15][0])[0]\n",
        "\n",
        "lower_exact12 = np.asarray(exact12_results[4:5][0])[0]\n",
        "median_exact12 = np.asarray(exact12_results[9:10][0])[0]\n",
        "upper_exact12 = np.asarray(exact12_results[14:15][0])[0]"
      ]
    },
    {
      "cell_type": "code",
      "execution_count": 80,
      "metadata": {
        "id": "Jn4KpGvcQxf4"
      },
      "outputs": [],
      "source": [
        "# Iteration3 :\n",
        "\n",
        "slice3 = 2\n",
        "\n",
        "approx3 = [simple_regret_approx_1[slice3],\n",
        "       simple_regret_approx_2[slice3],\n",
        "       simple_regret_approx_3[slice3],\n",
        "       simple_regret_approx_4[slice3],\n",
        "       simple_regret_approx_5[slice3],\n",
        "       simple_regret_approx_6[slice3],\n",
        "       simple_regret_approx_7[slice3],\n",
        "       simple_regret_approx_8[slice3],\n",
        "       simple_regret_approx_9[slice3],\n",
        "       simple_regret_approx_10[slice3],\n",
        "       simple_regret_approx_11[slice3],\n",
        "       simple_regret_approx_12[slice3],\n",
        "       simple_regret_approx_13[slice3],\n",
        "       simple_regret_approx_14[slice3],\n",
        "       simple_regret_approx_15[slice3],\n",
        "       simple_regret_approx_16[slice3],\n",
        "       simple_regret_approx_17[slice3],\n",
        "       simple_regret_approx_18[slice3],\n",
        "       simple_regret_approx_19[slice3],\n",
        "       simple_regret_approx_20[slice3]]\n",
        "\n",
        "exact3 = [simple_regret_exact_1[slice3],\n",
        "       simple_regret_exact_2[slice3],\n",
        "       simple_regret_exact_3[slice3],\n",
        "       simple_regret_exact_4[slice3],\n",
        "       simple_regret_exact_5[slice3],\n",
        "       simple_regret_exact_6[slice3],\n",
        "       simple_regret_exact_7[slice3],\n",
        "       simple_regret_exact_8[slice3],\n",
        "       simple_regret_exact_9[slice3],\n",
        "       simple_regret_exact_10[slice3],\n",
        "       simple_regret_exact_11[slice3],\n",
        "       simple_regret_exact_12[slice3],\n",
        "       simple_regret_exact_13[slice3],\n",
        "       simple_regret_exact_14[slice3],\n",
        "       simple_regret_exact_15[slice3],\n",
        "       simple_regret_exact_16[slice3],\n",
        "       simple_regret_exact_17[slice3],\n",
        "       simple_regret_exact_18[slice3],\n",
        "       simple_regret_exact_19[slice3],\n",
        "       simple_regret_exact_20[slice3]]\n",
        "\n",
        "approx3_results = pd.DataFrame(approx3).sort_values(by=[0], ascending=False)\n",
        "exact3_results = pd.DataFrame(exact3).sort_values(by=[0], ascending=False)\n",
        "\n",
        "### Best simple regret minimization IQR - approx:\n",
        "lower_approx3 = np.asarray(approx3_results[4:5][0])[0]\n",
        "median_approx3 = np.asarray(approx3_results[9:10][0])[0]\n",
        "upper_approx3 = np.asarray(approx3_results[14:15][0])[0]\n",
        "\n",
        "lower_exact3 = np.asarray(exact3_results[4:5][0])[0]\n",
        "median_exact3 = np.asarray(exact3_results[9:10][0])[0]\n",
        "upper_exact3 = np.asarray(exact3_results[14:15][0])[0]"
      ]
    },
    {
      "cell_type": "code",
      "execution_count": 81,
      "metadata": {
        "id": "plf83wxrQxf4"
      },
      "outputs": [],
      "source": [
        "# Iteration13 :\n",
        "\n",
        "slice13 = 12\n",
        "\n",
        "approx13 = [simple_regret_approx_1[slice13],\n",
        "       simple_regret_approx_2[slice13],\n",
        "       simple_regret_approx_3[slice13],\n",
        "       simple_regret_approx_4[slice13],\n",
        "       simple_regret_approx_5[slice13],\n",
        "       simple_regret_approx_6[slice13],\n",
        "       simple_regret_approx_7[slice13],\n",
        "       simple_regret_approx_8[slice13],\n",
        "       simple_regret_approx_9[slice13],\n",
        "       simple_regret_approx_10[slice13],\n",
        "       simple_regret_approx_11[slice13],\n",
        "       simple_regret_approx_12[slice13],\n",
        "       simple_regret_approx_13[slice13],\n",
        "       simple_regret_approx_14[slice13],\n",
        "       simple_regret_approx_15[slice13],\n",
        "       simple_regret_approx_16[slice13],\n",
        "       simple_regret_approx_17[slice13],\n",
        "       simple_regret_approx_18[slice13],\n",
        "       simple_regret_approx_19[slice13],\n",
        "       simple_regret_approx_20[slice13]]\n",
        "\n",
        "exact13 = [simple_regret_exact_1[slice13],\n",
        "       simple_regret_exact_2[slice13],\n",
        "       simple_regret_exact_3[slice13],\n",
        "       simple_regret_exact_4[slice13],\n",
        "       simple_regret_exact_5[slice13],\n",
        "       simple_regret_exact_6[slice13],\n",
        "       simple_regret_exact_7[slice13],\n",
        "       simple_regret_exact_8[slice13],\n",
        "       simple_regret_exact_9[slice13],\n",
        "       simple_regret_exact_10[slice13],\n",
        "       simple_regret_exact_11[slice13],\n",
        "       simple_regret_exact_12[slice13],\n",
        "       simple_regret_exact_13[slice13],\n",
        "       simple_regret_exact_14[slice13],\n",
        "       simple_regret_exact_15[slice13],\n",
        "       simple_regret_exact_16[slice13],\n",
        "       simple_regret_exact_17[slice13],\n",
        "       simple_regret_exact_18[slice13],\n",
        "       simple_regret_exact_19[slice13],\n",
        "       simple_regret_exact_20[slice13]]\n",
        "\n",
        "approx13_results = pd.DataFrame(approx13).sort_values(by=[0], ascending=False)\n",
        "exact13_results = pd.DataFrame(exact13).sort_values(by=[0], ascending=False)\n",
        "\n",
        "### Best simple regret minimization IQR - approx:\n",
        "lower_approx13 = np.asarray(approx13_results[4:5][0])[0]\n",
        "median_approx13 = np.asarray(approx13_results[9:10][0])[0]\n",
        "upper_approx13 = np.asarray(approx13_results[14:15][0])[0]\n",
        "\n",
        "lower_exact13 = np.asarray(exact13_results[4:5][0])[0]\n",
        "median_exact13 = np.asarray(exact13_results[9:10][0])[0]\n",
        "upper_exact13 = np.asarray(exact13_results[14:15][0])[0]"
      ]
    },
    {
      "cell_type": "code",
      "execution_count": 82,
      "metadata": {
        "id": "9A7mlVvJQxf5"
      },
      "outputs": [],
      "source": [
        "# Iteration4 :\n",
        "\n",
        "slice4 = 3\n",
        "\n",
        "approx4 = [simple_regret_approx_1[slice4],\n",
        "       simple_regret_approx_2[slice4],\n",
        "       simple_regret_approx_3[slice4],\n",
        "       simple_regret_approx_4[slice4],\n",
        "       simple_regret_approx_5[slice4],\n",
        "       simple_regret_approx_6[slice4],\n",
        "       simple_regret_approx_7[slice4],\n",
        "       simple_regret_approx_8[slice4],\n",
        "       simple_regret_approx_9[slice4],\n",
        "       simple_regret_approx_10[slice4],\n",
        "       simple_regret_approx_11[slice4],\n",
        "       simple_regret_approx_12[slice4],\n",
        "       simple_regret_approx_13[slice4],\n",
        "       simple_regret_approx_14[slice4],\n",
        "       simple_regret_approx_15[slice4],\n",
        "       simple_regret_approx_16[slice4],\n",
        "       simple_regret_approx_17[slice4],\n",
        "       simple_regret_approx_18[slice4],\n",
        "       simple_regret_approx_19[slice4],\n",
        "       simple_regret_approx_20[slice4]]\n",
        "\n",
        "exact4 = [simple_regret_exact_1[slice4],\n",
        "       simple_regret_exact_2[slice4],\n",
        "       simple_regret_exact_3[slice4],\n",
        "       simple_regret_exact_4[slice4],\n",
        "       simple_regret_exact_5[slice4],\n",
        "       simple_regret_exact_6[slice4],\n",
        "       simple_regret_exact_7[slice4],\n",
        "       simple_regret_exact_8[slice4],\n",
        "       simple_regret_exact_9[slice4],\n",
        "       simple_regret_exact_10[slice4],\n",
        "       simple_regret_exact_11[slice4],\n",
        "       simple_regret_exact_12[slice4],\n",
        "       simple_regret_exact_13[slice4],\n",
        "       simple_regret_exact_14[slice4],\n",
        "       simple_regret_exact_15[slice4],\n",
        "       simple_regret_exact_16[slice4],\n",
        "       simple_regret_exact_17[slice4],\n",
        "       simple_regret_exact_18[slice4],\n",
        "       simple_regret_exact_19[slice4],\n",
        "       simple_regret_exact_20[slice4]]\n",
        "\n",
        "approx4_results = pd.DataFrame(approx4).sort_values(by=[0], ascending=False)\n",
        "exact4_results = pd.DataFrame(exact4).sort_values(by=[0], ascending=False)\n",
        "\n",
        "### Best simple regret minimization IQR - approx:\n",
        "lower_approx4 = np.asarray(approx4_results[4:5][0])[0]\n",
        "median_approx4 = np.asarray(approx4_results[9:10][0])[0]\n",
        "upper_approx4 = np.asarray(approx4_results[14:15][0])[0]\n",
        "\n",
        "lower_exact4 = np.asarray(exact4_results[4:5][0])[0]\n",
        "median_exact4 = np.asarray(exact4_results[9:10][0])[0]\n",
        "upper_exact4 = np.asarray(exact4_results[14:15][0])[0]"
      ]
    },
    {
      "cell_type": "code",
      "execution_count": 83,
      "metadata": {
        "id": "ijq-rioYQxf5"
      },
      "outputs": [],
      "source": [
        "# Iteration14 :\n",
        "\n",
        "slice14 = 13\n",
        "\n",
        "approx14 = [simple_regret_approx_1[slice14],\n",
        "       simple_regret_approx_2[slice14],\n",
        "       simple_regret_approx_3[slice14],\n",
        "       simple_regret_approx_4[slice14],\n",
        "       simple_regret_approx_5[slice14],\n",
        "       simple_regret_approx_6[slice14],\n",
        "       simple_regret_approx_7[slice14],\n",
        "       simple_regret_approx_8[slice14],\n",
        "       simple_regret_approx_9[slice14],\n",
        "       simple_regret_approx_10[slice14],\n",
        "       simple_regret_approx_11[slice14],\n",
        "       simple_regret_approx_12[slice14],\n",
        "       simple_regret_approx_13[slice14],\n",
        "       simple_regret_approx_14[slice14],\n",
        "       simple_regret_approx_15[slice14],\n",
        "       simple_regret_approx_16[slice14],\n",
        "       simple_regret_approx_17[slice14],\n",
        "       simple_regret_approx_18[slice14],\n",
        "       simple_regret_approx_19[slice14],\n",
        "       simple_regret_approx_20[slice14]]\n",
        "\n",
        "exact14 = [simple_regret_exact_1[slice14],\n",
        "       simple_regret_exact_2[slice14],\n",
        "       simple_regret_exact_3[slice14],\n",
        "       simple_regret_exact_4[slice14],\n",
        "       simple_regret_exact_5[slice14],\n",
        "       simple_regret_exact_6[slice14],\n",
        "       simple_regret_exact_7[slice14],\n",
        "       simple_regret_exact_8[slice14],\n",
        "       simple_regret_exact_9[slice14],\n",
        "       simple_regret_exact_10[slice14],\n",
        "       simple_regret_exact_11[slice14],\n",
        "       simple_regret_exact_12[slice14],\n",
        "       simple_regret_exact_13[slice14],\n",
        "       simple_regret_exact_14[slice14],\n",
        "       simple_regret_exact_15[slice14],\n",
        "       simple_regret_exact_16[slice14],\n",
        "       simple_regret_exact_17[slice14],\n",
        "       simple_regret_exact_18[slice14],\n",
        "       simple_regret_exact_19[slice14],\n",
        "       simple_regret_exact_20[slice14]]\n",
        "\n",
        "approx14_results = pd.DataFrame(approx14).sort_values(by=[0], ascending=False)\n",
        "exact14_results = pd.DataFrame(exact14).sort_values(by=[0], ascending=False)\n",
        "\n",
        "### Best simple regret minimization IQR - approx:\n",
        "lower_approx14 = np.asarray(approx14_results[4:5][0])[0]\n",
        "median_approx14 = np.asarray(approx14_results[9:10][0])[0]\n",
        "upper_approx14 = np.asarray(approx14_results[14:15][0])[0]\n",
        "\n",
        "lower_exact14 = np.asarray(exact14_results[4:5][0])[0]\n",
        "median_exact14 = np.asarray(exact14_results[9:10][0])[0]\n",
        "upper_exact14 = np.asarray(exact14_results[14:15][0])[0]"
      ]
    },
    {
      "cell_type": "code",
      "execution_count": 84,
      "metadata": {
        "id": "XINlZjoTd-ZK"
      },
      "outputs": [],
      "source": [
        "# Iteration5 :\n",
        "\n",
        "slice5 = 4\n",
        "\n",
        "approx5 = [simple_regret_approx_1[slice5],\n",
        "       simple_regret_approx_2[slice5],\n",
        "       simple_regret_approx_3[slice5],\n",
        "       simple_regret_approx_4[slice5],\n",
        "       simple_regret_approx_5[slice5],\n",
        "       simple_regret_approx_6[slice5],\n",
        "       simple_regret_approx_7[slice5],\n",
        "       simple_regret_approx_8[slice5],\n",
        "       simple_regret_approx_9[slice5],\n",
        "       simple_regret_approx_10[slice5],\n",
        "       simple_regret_approx_11[slice5],\n",
        "       simple_regret_approx_12[slice5],\n",
        "       simple_regret_approx_13[slice5],\n",
        "       simple_regret_approx_14[slice5],\n",
        "       simple_regret_approx_15[slice5],\n",
        "       simple_regret_approx_16[slice5],\n",
        "       simple_regret_approx_17[slice5],\n",
        "       simple_regret_approx_18[slice5],\n",
        "       simple_regret_approx_19[slice5],\n",
        "       simple_regret_approx_20[slice5]]\n",
        "\n",
        "exact5 = [simple_regret_exact_1[slice5],\n",
        "       simple_regret_exact_2[slice5],\n",
        "       simple_regret_exact_3[slice5],\n",
        "       simple_regret_exact_4[slice5],\n",
        "       simple_regret_exact_5[slice5],\n",
        "       simple_regret_exact_6[slice5],\n",
        "       simple_regret_exact_7[slice5],\n",
        "       simple_regret_exact_8[slice5],\n",
        "       simple_regret_exact_9[slice5],\n",
        "       simple_regret_exact_10[slice5],\n",
        "       simple_regret_exact_11[slice5],\n",
        "       simple_regret_exact_12[slice5],\n",
        "       simple_regret_exact_13[slice5],\n",
        "       simple_regret_exact_14[slice5],\n",
        "       simple_regret_exact_15[slice5],\n",
        "       simple_regret_exact_16[slice5],\n",
        "       simple_regret_exact_17[slice5],\n",
        "       simple_regret_exact_18[slice5],\n",
        "       simple_regret_exact_19[slice5],\n",
        "       simple_regret_exact_20[slice5]]\n",
        "\n",
        "approx5_results = pd.DataFrame(approx5).sort_values(by=[0], ascending=False)\n",
        "exact5_results = pd.DataFrame(exact5).sort_values(by=[0], ascending=False)\n",
        "\n",
        "### Best simple regret minimization IQR - approx:\n",
        "lower_approx5 = np.asarray(approx5_results[4:5][0])[0]\n",
        "median_approx5 = np.asarray(approx5_results[9:10][0])[0]\n",
        "upper_approx5 = np.asarray(approx5_results[14:15][0])[0]\n",
        "\n",
        "lower_exact5 = np.asarray(exact5_results[4:5][0])[0]\n",
        "median_exact5 = np.asarray(exact5_results[9:10][0])[0]\n",
        "upper_exact5 = np.asarray(exact5_results[14:15][0])[0]"
      ]
    },
    {
      "cell_type": "code",
      "execution_count": 85,
      "metadata": {
        "id": "4aZ7C8sOQxf6"
      },
      "outputs": [],
      "source": [
        "# Iteration15 :\n",
        "\n",
        "slice15 = 14\n",
        "\n",
        "approx15 = [simple_regret_approx_1[slice15],\n",
        "       simple_regret_approx_2[slice15],\n",
        "       simple_regret_approx_3[slice15],\n",
        "       simple_regret_approx_4[slice15],\n",
        "       simple_regret_approx_5[slice15],\n",
        "       simple_regret_approx_6[slice15],\n",
        "       simple_regret_approx_7[slice15],\n",
        "       simple_regret_approx_8[slice15],\n",
        "       simple_regret_approx_9[slice15],\n",
        "       simple_regret_approx_10[slice15],\n",
        "       simple_regret_approx_11[slice15],\n",
        "       simple_regret_approx_12[slice15],\n",
        "       simple_regret_approx_13[slice15],\n",
        "       simple_regret_approx_14[slice15],\n",
        "       simple_regret_approx_15[slice15],\n",
        "       simple_regret_approx_16[slice15],\n",
        "       simple_regret_approx_17[slice15],\n",
        "       simple_regret_approx_18[slice15],\n",
        "       simple_regret_approx_19[slice15],\n",
        "       simple_regret_approx_20[slice15]]\n",
        "\n",
        "exact15 = [simple_regret_exact_1[slice15],\n",
        "       simple_regret_exact_2[slice15],\n",
        "       simple_regret_exact_3[slice15],\n",
        "       simple_regret_exact_4[slice15],\n",
        "       simple_regret_exact_5[slice15],\n",
        "       simple_regret_exact_6[slice15],\n",
        "       simple_regret_exact_7[slice15],\n",
        "       simple_regret_exact_8[slice15],\n",
        "       simple_regret_exact_9[slice15],\n",
        "       simple_regret_exact_10[slice15],\n",
        "       simple_regret_exact_11[slice15],\n",
        "       simple_regret_exact_12[slice15],\n",
        "       simple_regret_exact_13[slice15],\n",
        "       simple_regret_exact_14[slice15],\n",
        "       simple_regret_exact_15[slice15],\n",
        "       simple_regret_exact_16[slice15],\n",
        "       simple_regret_exact_17[slice15],\n",
        "       simple_regret_exact_18[slice15],\n",
        "       simple_regret_exact_19[slice15],\n",
        "       simple_regret_exact_20[slice15]]\n",
        "\n",
        "approx15_results = pd.DataFrame(approx15).sort_values(by=[0], ascending=False)\n",
        "exact15_results = pd.DataFrame(exact15).sort_values(by=[0], ascending=False)\n",
        "\n",
        "### Best simple regret minimization IQR - approx:\n",
        "lower_approx15 = np.asarray(approx15_results[4:5][0])[0]\n",
        "median_approx15 = np.asarray(approx15_results[9:10][0])[0]\n",
        "upper_approx15 = np.asarray(approx15_results[14:15][0])[0]\n",
        "\n",
        "lower_exact15 = np.asarray(exact15_results[4:5][0])[0]\n",
        "median_exact15 = np.asarray(exact15_results[9:10][0])[0]\n",
        "upper_exact15 = np.asarray(exact15_results[14:15][0])[0]"
      ]
    },
    {
      "cell_type": "code",
      "execution_count": 86,
      "metadata": {
        "id": "KJINKhv1Qxf6"
      },
      "outputs": [],
      "source": [
        "# Iteration6 :\n",
        "\n",
        "slice6 = 5\n",
        "\n",
        "approx6 = [simple_regret_approx_1[slice6],\n",
        "       simple_regret_approx_2[slice6],\n",
        "       simple_regret_approx_3[slice6],\n",
        "       simple_regret_approx_4[slice6],\n",
        "       simple_regret_approx_5[slice6],\n",
        "       simple_regret_approx_6[slice6],\n",
        "       simple_regret_approx_7[slice6],\n",
        "       simple_regret_approx_8[slice6],\n",
        "       simple_regret_approx_9[slice6],\n",
        "       simple_regret_approx_10[slice6],\n",
        "       simple_regret_approx_11[slice6],\n",
        "       simple_regret_approx_12[slice6],\n",
        "       simple_regret_approx_13[slice6],\n",
        "       simple_regret_approx_14[slice6],\n",
        "       simple_regret_approx_15[slice6],\n",
        "       simple_regret_approx_16[slice6],\n",
        "       simple_regret_approx_17[slice6],\n",
        "       simple_regret_approx_18[slice6],\n",
        "       simple_regret_approx_19[slice6],\n",
        "       simple_regret_approx_20[slice6]]\n",
        "\n",
        "exact6 = [simple_regret_exact_1[slice6],\n",
        "       simple_regret_exact_2[slice6],\n",
        "       simple_regret_exact_3[slice6],\n",
        "       simple_regret_exact_4[slice6],\n",
        "       simple_regret_exact_5[slice6],\n",
        "       simple_regret_exact_6[slice6],\n",
        "       simple_regret_exact_7[slice6],\n",
        "       simple_regret_exact_8[slice6],\n",
        "       simple_regret_exact_9[slice6],\n",
        "       simple_regret_exact_10[slice6],\n",
        "       simple_regret_exact_11[slice6],\n",
        "       simple_regret_exact_12[slice6],\n",
        "       simple_regret_exact_13[slice6],\n",
        "       simple_regret_exact_14[slice6],\n",
        "       simple_regret_exact_15[slice6],\n",
        "       simple_regret_exact_16[slice6],\n",
        "       simple_regret_exact_17[slice6],\n",
        "       simple_regret_exact_18[slice6],\n",
        "       simple_regret_exact_19[slice6],\n",
        "       simple_regret_exact_20[slice6]]\n",
        "\n",
        "approx6_results = pd.DataFrame(approx6).sort_values(by=[0], ascending=False)\n",
        "exact6_results = pd.DataFrame(exact6).sort_values(by=[0], ascending=False)\n",
        "\n",
        "### Best simple regret minimization IQR - approx:\n",
        "lower_approx6 = np.asarray(approx6_results[4:5][0])[0]\n",
        "median_approx6 = np.asarray(approx6_results[9:10][0])[0]\n",
        "upper_approx6 = np.asarray(approx6_results[14:15][0])[0]\n",
        "\n",
        "lower_exact6 = np.asarray(exact6_results[4:5][0])[0]\n",
        "median_exact6 = np.asarray(exact6_results[9:10][0])[0]\n",
        "upper_exact6 = np.asarray(exact6_results[14:15][0])[0]"
      ]
    },
    {
      "cell_type": "code",
      "execution_count": 87,
      "metadata": {
        "id": "nwC5N1FsQxf7"
      },
      "outputs": [],
      "source": [
        "# Iteration16 :\n",
        "\n",
        "slice16 = 15\n",
        "\n",
        "approx16 = [simple_regret_approx_1[slice16],\n",
        "       simple_regret_approx_2[slice16],\n",
        "       simple_regret_approx_3[slice16],\n",
        "       simple_regret_approx_4[slice16],\n",
        "       simple_regret_approx_5[slice16],\n",
        "       simple_regret_approx_6[slice16],\n",
        "       simple_regret_approx_7[slice16],\n",
        "       simple_regret_approx_8[slice16],\n",
        "       simple_regret_approx_9[slice16],\n",
        "       simple_regret_approx_10[slice16],\n",
        "       simple_regret_approx_11[slice16],\n",
        "       simple_regret_approx_12[slice16],\n",
        "       simple_regret_approx_13[slice16],\n",
        "       simple_regret_approx_14[slice16],\n",
        "       simple_regret_approx_15[slice16],\n",
        "       simple_regret_approx_16[slice16],\n",
        "       simple_regret_approx_17[slice16],\n",
        "       simple_regret_approx_18[slice16],\n",
        "       simple_regret_approx_19[slice16],\n",
        "       simple_regret_approx_20[slice16]]\n",
        "\n",
        "exact16 = [simple_regret_exact_1[slice16],\n",
        "       simple_regret_exact_2[slice16],\n",
        "       simple_regret_exact_3[slice16],\n",
        "       simple_regret_exact_4[slice16],\n",
        "       simple_regret_exact_5[slice16],\n",
        "       simple_regret_exact_6[slice16],\n",
        "       simple_regret_exact_7[slice16],\n",
        "       simple_regret_exact_8[slice16],\n",
        "       simple_regret_exact_9[slice16],\n",
        "       simple_regret_exact_10[slice16],\n",
        "       simple_regret_exact_11[slice16],\n",
        "       simple_regret_exact_12[slice16],\n",
        "       simple_regret_exact_13[slice16],\n",
        "       simple_regret_exact_14[slice16],\n",
        "       simple_regret_exact_15[slice16],\n",
        "       simple_regret_exact_16[slice16],\n",
        "       simple_regret_exact_17[slice16],\n",
        "       simple_regret_exact_18[slice16],\n",
        "       simple_regret_exact_19[slice16],\n",
        "       simple_regret_exact_20[slice16]]\n",
        "\n",
        "approx16_results = pd.DataFrame(approx16).sort_values(by=[0], ascending=False)\n",
        "exact16_results = pd.DataFrame(exact16).sort_values(by=[0], ascending=False)\n",
        "\n",
        "### Best simple regret minimization IQR - approx:\n",
        "lower_approx16 = np.asarray(approx16_results[4:5][0])[0]\n",
        "median_approx16 = np.asarray(approx16_results[9:10][0])[0]\n",
        "upper_approx16 = np.asarray(approx16_results[14:15][0])[0]\n",
        "\n",
        "lower_exact16 = np.asarray(exact16_results[4:5][0])[0]\n",
        "median_exact16 = np.asarray(exact16_results[9:10][0])[0]\n",
        "upper_exact16 = np.asarray(exact16_results[14:15][0])[0]"
      ]
    },
    {
      "cell_type": "code",
      "execution_count": 88,
      "metadata": {
        "id": "TrPV0AfnQxf7"
      },
      "outputs": [],
      "source": [
        "# Iteration7 :\n",
        "\n",
        "slice7 = 6\n",
        "\n",
        "approx7 = [simple_regret_approx_1[slice7],\n",
        "       simple_regret_approx_2[slice7],\n",
        "       simple_regret_approx_3[slice7],\n",
        "       simple_regret_approx_4[slice7],\n",
        "       simple_regret_approx_5[slice7],\n",
        "       simple_regret_approx_6[slice7],\n",
        "       simple_regret_approx_7[slice7],\n",
        "       simple_regret_approx_8[slice7],\n",
        "       simple_regret_approx_9[slice7],\n",
        "       simple_regret_approx_10[slice7],\n",
        "       simple_regret_approx_11[slice7],\n",
        "       simple_regret_approx_12[slice7],\n",
        "       simple_regret_approx_13[slice7],\n",
        "       simple_regret_approx_14[slice7],\n",
        "       simple_regret_approx_15[slice7],\n",
        "       simple_regret_approx_16[slice7],\n",
        "       simple_regret_approx_17[slice7],\n",
        "       simple_regret_approx_18[slice7],\n",
        "       simple_regret_approx_19[slice7],\n",
        "       simple_regret_approx_20[slice7]]\n",
        "\n",
        "exact7 = [simple_regret_exact_1[slice7],\n",
        "       simple_regret_exact_2[slice7],\n",
        "       simple_regret_exact_3[slice7],\n",
        "       simple_regret_exact_4[slice7],\n",
        "       simple_regret_exact_5[slice7],\n",
        "       simple_regret_exact_6[slice7],\n",
        "       simple_regret_exact_7[slice7],\n",
        "       simple_regret_exact_8[slice7],\n",
        "       simple_regret_exact_9[slice7],\n",
        "       simple_regret_exact_10[slice7],\n",
        "       simple_regret_exact_11[slice7],\n",
        "       simple_regret_exact_12[slice7],\n",
        "       simple_regret_exact_13[slice7],\n",
        "       simple_regret_exact_14[slice7],\n",
        "       simple_regret_exact_15[slice7],\n",
        "       simple_regret_exact_16[slice7],\n",
        "       simple_regret_exact_17[slice7],\n",
        "       simple_regret_exact_18[slice7],\n",
        "       simple_regret_exact_19[slice7],\n",
        "       simple_regret_exact_20[slice7]]\n",
        "\n",
        "approx7_results = pd.DataFrame(approx7).sort_values(by=[0], ascending=False)\n",
        "exact7_results = pd.DataFrame(exact7).sort_values(by=[0], ascending=False)\n",
        "\n",
        "### Best simple regret minimization IQR - approx:\n",
        "lower_approx7 = np.asarray(approx7_results[4:5][0])[0]\n",
        "median_approx7 = np.asarray(approx7_results[9:10][0])[0]\n",
        "upper_approx7 = np.asarray(approx7_results[14:15][0])[0]\n",
        "\n",
        "lower_exact7 = np.asarray(exact7_results[4:5][0])[0]\n",
        "median_exact7 = np.asarray(exact7_results[9:10][0])[0]\n",
        "upper_exact7 = np.asarray(exact7_results[14:15][0])[0]"
      ]
    },
    {
      "cell_type": "code",
      "execution_count": 89,
      "metadata": {
        "id": "Ub_-wpK4Qxf8"
      },
      "outputs": [],
      "source": [
        "# Iteration17 :\n",
        "\n",
        "slice17 = 16\n",
        "\n",
        "approx17 = [simple_regret_approx_1[slice17],\n",
        "       simple_regret_approx_2[slice17],\n",
        "       simple_regret_approx_3[slice17],\n",
        "       simple_regret_approx_4[slice17],\n",
        "       simple_regret_approx_5[slice17],\n",
        "       simple_regret_approx_6[slice17],\n",
        "       simple_regret_approx_7[slice17],\n",
        "       simple_regret_approx_8[slice17],\n",
        "       simple_regret_approx_9[slice17],\n",
        "       simple_regret_approx_10[slice17],\n",
        "       simple_regret_approx_11[slice17],\n",
        "       simple_regret_approx_12[slice17],\n",
        "       simple_regret_approx_13[slice17],\n",
        "       simple_regret_approx_14[slice17],\n",
        "       simple_regret_approx_15[slice17],\n",
        "       simple_regret_approx_16[slice17],\n",
        "       simple_regret_approx_17[slice17],\n",
        "       simple_regret_approx_18[slice17],\n",
        "       simple_regret_approx_19[slice17],\n",
        "       simple_regret_approx_20[slice17]]\n",
        "\n",
        "exact17 = [simple_regret_exact_1[slice17],\n",
        "       simple_regret_exact_2[slice17],\n",
        "       simple_regret_exact_3[slice17],\n",
        "       simple_regret_exact_4[slice17],\n",
        "       simple_regret_exact_5[slice17],\n",
        "       simple_regret_exact_6[slice17],\n",
        "       simple_regret_exact_7[slice17],\n",
        "       simple_regret_exact_8[slice17],\n",
        "       simple_regret_exact_9[slice17],\n",
        "       simple_regret_exact_10[slice17],\n",
        "       simple_regret_exact_11[slice17],\n",
        "       simple_regret_exact_12[slice17],\n",
        "       simple_regret_exact_13[slice17],\n",
        "       simple_regret_exact_14[slice17],\n",
        "       simple_regret_exact_15[slice17],\n",
        "       simple_regret_exact_16[slice17],\n",
        "       simple_regret_exact_17[slice17],\n",
        "       simple_regret_exact_18[slice17],\n",
        "       simple_regret_exact_19[slice17],\n",
        "       simple_regret_exact_20[slice17]]\n",
        "\n",
        "approx17_results = pd.DataFrame(approx17).sort_values(by=[0], ascending=False)\n",
        "exact17_results = pd.DataFrame(exact17).sort_values(by=[0], ascending=False)\n",
        "\n",
        "### Best simple regret minimization IQR - approx:\n",
        "lower_approx17 = np.asarray(approx17_results[4:5][0])[0]\n",
        "median_approx17 = np.asarray(approx17_results[9:10][0])[0]\n",
        "upper_approx17 = np.asarray(approx17_results[14:15][0])[0]\n",
        "\n",
        "lower_exact17 = np.asarray(exact17_results[4:5][0])[0]\n",
        "median_exact17 = np.asarray(exact17_results[9:10][0])[0]\n",
        "upper_exact17 = np.asarray(exact17_results[14:15][0])[0]"
      ]
    },
    {
      "cell_type": "code",
      "execution_count": 90,
      "metadata": {
        "id": "-6VLo37PQxf8"
      },
      "outputs": [],
      "source": [
        "# Iteration8 :\n",
        "\n",
        "slice8 = 7\n",
        "\n",
        "approx8 = [simple_regret_approx_1[slice8],\n",
        "       simple_regret_approx_2[slice8],\n",
        "       simple_regret_approx_3[slice8],\n",
        "       simple_regret_approx_4[slice8],\n",
        "       simple_regret_approx_5[slice8],\n",
        "       simple_regret_approx_6[slice8],\n",
        "       simple_regret_approx_7[slice8],\n",
        "       simple_regret_approx_8[slice8],\n",
        "       simple_regret_approx_9[slice8],\n",
        "       simple_regret_approx_10[slice8],\n",
        "       simple_regret_approx_11[slice8],\n",
        "       simple_regret_approx_12[slice8],\n",
        "       simple_regret_approx_13[slice8],\n",
        "       simple_regret_approx_14[slice8],\n",
        "       simple_regret_approx_15[slice8],\n",
        "       simple_regret_approx_16[slice8],\n",
        "       simple_regret_approx_17[slice8],\n",
        "       simple_regret_approx_18[slice8],\n",
        "       simple_regret_approx_19[slice8],\n",
        "       simple_regret_approx_20[slice8]]\n",
        "\n",
        "exact8 = [simple_regret_exact_1[slice8],\n",
        "       simple_regret_exact_2[slice8],\n",
        "       simple_regret_exact_3[slice8],\n",
        "       simple_regret_exact_4[slice8],\n",
        "       simple_regret_exact_5[slice8],\n",
        "       simple_regret_exact_6[slice8],\n",
        "       simple_regret_exact_7[slice8],\n",
        "       simple_regret_exact_8[slice8],\n",
        "       simple_regret_exact_9[slice8],\n",
        "       simple_regret_exact_10[slice8],\n",
        "       simple_regret_exact_11[slice8],\n",
        "       simple_regret_exact_12[slice8],\n",
        "       simple_regret_exact_13[slice8],\n",
        "       simple_regret_exact_14[slice8],\n",
        "       simple_regret_exact_15[slice8],\n",
        "       simple_regret_exact_16[slice8],\n",
        "       simple_regret_exact_17[slice8],\n",
        "       simple_regret_exact_18[slice8],\n",
        "       simple_regret_exact_19[slice8],\n",
        "       simple_regret_exact_20[slice8]]\n",
        "\n",
        "approx8_results = pd.DataFrame(approx8).sort_values(by=[0], ascending=False)\n",
        "exact8_results = pd.DataFrame(exact8).sort_values(by=[0], ascending=False)\n",
        "\n",
        "### Best simple regret minimization IQR - approx:\n",
        "lower_approx8 = np.asarray(approx8_results[4:5][0])[0]\n",
        "median_approx8 = np.asarray(approx8_results[9:10][0])[0]\n",
        "upper_approx8 = np.asarray(approx8_results[14:15][0])[0]\n",
        "\n",
        "lower_exact8 = np.asarray(exact8_results[4:5][0])[0]\n",
        "median_exact8 = np.asarray(exact8_results[9:10][0])[0]\n",
        "upper_exact8 = np.asarray(exact8_results[14:15][0])[0]"
      ]
    },
    {
      "cell_type": "code",
      "execution_count": 91,
      "metadata": {
        "id": "2Dp-9CC2Qxf9"
      },
      "outputs": [],
      "source": [
        "# Iteration18 :\n",
        "\n",
        "slice18 = 17\n",
        "\n",
        "approx18 = [simple_regret_approx_1[slice18],\n",
        "       simple_regret_approx_2[slice18],\n",
        "       simple_regret_approx_3[slice18],\n",
        "       simple_regret_approx_4[slice18],\n",
        "       simple_regret_approx_5[slice18],\n",
        "       simple_regret_approx_6[slice18],\n",
        "       simple_regret_approx_7[slice18],\n",
        "       simple_regret_approx_8[slice18],\n",
        "       simple_regret_approx_9[slice18],\n",
        "       simple_regret_approx_10[slice18],\n",
        "       simple_regret_approx_11[slice18],\n",
        "       simple_regret_approx_12[slice18],\n",
        "       simple_regret_approx_13[slice18],\n",
        "       simple_regret_approx_14[slice18],\n",
        "       simple_regret_approx_15[slice18],\n",
        "       simple_regret_approx_16[slice18],\n",
        "       simple_regret_approx_17[slice18],\n",
        "       simple_regret_approx_18[slice18],\n",
        "       simple_regret_approx_19[slice18],\n",
        "       simple_regret_approx_20[slice18]]\n",
        "\n",
        "exact18 = [simple_regret_exact_1[slice18],\n",
        "       simple_regret_exact_2[slice18],\n",
        "       simple_regret_exact_3[slice18],\n",
        "       simple_regret_exact_4[slice18],\n",
        "       simple_regret_exact_5[slice18],\n",
        "       simple_regret_exact_6[slice18],\n",
        "       simple_regret_exact_7[slice18],\n",
        "       simple_regret_exact_8[slice18],\n",
        "       simple_regret_exact_9[slice18],\n",
        "       simple_regret_exact_10[slice18],\n",
        "       simple_regret_exact_11[slice18],\n",
        "       simple_regret_exact_12[slice18],\n",
        "       simple_regret_exact_13[slice18],\n",
        "       simple_regret_exact_14[slice18],\n",
        "       simple_regret_exact_15[slice18],\n",
        "       simple_regret_exact_16[slice18],\n",
        "       simple_regret_exact_17[slice18],\n",
        "       simple_regret_exact_18[slice18],\n",
        "       simple_regret_exact_19[slice18],\n",
        "       simple_regret_exact_20[slice18]]\n",
        "\n",
        "approx18_results = pd.DataFrame(approx18).sort_values(by=[0], ascending=False)\n",
        "exact18_results = pd.DataFrame(exact18).sort_values(by=[0], ascending=False)\n",
        "\n",
        "### Best simple regret minimization IQR - approx:\n",
        "lower_approx18 = np.asarray(approx18_results[4:5][0])[0]\n",
        "median_approx18 = np.asarray(approx18_results[9:10][0])[0]\n",
        "upper_approx18 = np.asarray(approx18_results[14:15][0])[0]\n",
        "\n",
        "lower_exact18 = np.asarray(exact18_results[4:5][0])[0]\n",
        "median_exact18 = np.asarray(exact18_results[9:10][0])[0]\n",
        "upper_exact18 = np.asarray(exact18_results[14:15][0])[0]"
      ]
    },
    {
      "cell_type": "code",
      "execution_count": 92,
      "metadata": {
        "id": "SqiaOpB7Qxf9"
      },
      "outputs": [],
      "source": [
        "# Iteration9 :\n",
        "\n",
        "slice9 = 8\n",
        "\n",
        "approx9 = [simple_regret_approx_1[slice9],\n",
        "       simple_regret_approx_2[slice9],\n",
        "       simple_regret_approx_3[slice9],\n",
        "       simple_regret_approx_4[slice9],\n",
        "       simple_regret_approx_5[slice9],\n",
        "       simple_regret_approx_6[slice9],\n",
        "       simple_regret_approx_7[slice9],\n",
        "       simple_regret_approx_8[slice9],\n",
        "       simple_regret_approx_9[slice9],\n",
        "       simple_regret_approx_10[slice9],\n",
        "       simple_regret_approx_11[slice9],\n",
        "       simple_regret_approx_12[slice9],\n",
        "       simple_regret_approx_13[slice9],\n",
        "       simple_regret_approx_14[slice9],\n",
        "       simple_regret_approx_15[slice9],\n",
        "       simple_regret_approx_16[slice9],\n",
        "       simple_regret_approx_17[slice9],\n",
        "       simple_regret_approx_18[slice9],\n",
        "       simple_regret_approx_19[slice9],\n",
        "       simple_regret_approx_20[slice9]]\n",
        "\n",
        "exact9 = [simple_regret_exact_1[slice9],\n",
        "       simple_regret_exact_2[slice9],\n",
        "       simple_regret_exact_3[slice9],\n",
        "       simple_regret_exact_4[slice9],\n",
        "       simple_regret_exact_5[slice9],\n",
        "       simple_regret_exact_6[slice9],\n",
        "       simple_regret_exact_7[slice9],\n",
        "       simple_regret_exact_8[slice9],\n",
        "       simple_regret_exact_9[slice9],\n",
        "       simple_regret_exact_10[slice9],\n",
        "       simple_regret_exact_11[slice9],\n",
        "       simple_regret_exact_12[slice9],\n",
        "       simple_regret_exact_13[slice9],\n",
        "       simple_regret_exact_14[slice9],\n",
        "       simple_regret_exact_15[slice9],\n",
        "       simple_regret_exact_16[slice9],\n",
        "       simple_regret_exact_17[slice9],\n",
        "       simple_regret_exact_18[slice9],\n",
        "       simple_regret_exact_19[slice9],\n",
        "       simple_regret_exact_20[slice9]]\n",
        "\n",
        "approx9_results = pd.DataFrame(approx9).sort_values(by=[0], ascending=False)\n",
        "exact9_results = pd.DataFrame(exact9).sort_values(by=[0], ascending=False)\n",
        "\n",
        "### Best simple regret minimization IQR - approx:\n",
        "lower_approx9 = np.asarray(approx9_results[4:5][0])[0]\n",
        "median_approx9 = np.asarray(approx9_results[9:10][0])[0]\n",
        "upper_approx9 = np.asarray(approx9_results[14:15][0])[0]\n",
        "\n",
        "lower_exact9 = np.asarray(exact9_results[4:5][0])[0]\n",
        "median_exact9 = np.asarray(exact9_results[9:10][0])[0]\n",
        "upper_exact9 = np.asarray(exact9_results[14:15][0])[0]"
      ]
    },
    {
      "cell_type": "code",
      "execution_count": 93,
      "metadata": {
        "id": "OQkCCOsPQxf9"
      },
      "outputs": [],
      "source": [
        "# Iteration19 :\n",
        "\n",
        "slice19 = 18\n",
        "\n",
        "approx19 = [simple_regret_approx_1[slice19],\n",
        "       simple_regret_approx_2[slice19],\n",
        "       simple_regret_approx_3[slice19],\n",
        "       simple_regret_approx_4[slice19],\n",
        "       simple_regret_approx_5[slice19],\n",
        "       simple_regret_approx_6[slice19],\n",
        "       simple_regret_approx_7[slice19],\n",
        "       simple_regret_approx_8[slice19],\n",
        "       simple_regret_approx_9[slice19],\n",
        "       simple_regret_approx_10[slice19],\n",
        "       simple_regret_approx_11[slice19],\n",
        "       simple_regret_approx_12[slice19],\n",
        "       simple_regret_approx_13[slice19],\n",
        "       simple_regret_approx_14[slice19],\n",
        "       simple_regret_approx_15[slice19],\n",
        "       simple_regret_approx_16[slice19],\n",
        "       simple_regret_approx_17[slice19],\n",
        "       simple_regret_approx_18[slice19],\n",
        "       simple_regret_approx_19[slice19],\n",
        "       simple_regret_approx_20[slice19]]\n",
        "\n",
        "exact19 = [simple_regret_exact_1[slice19],\n",
        "       simple_regret_exact_2[slice19],\n",
        "       simple_regret_exact_3[slice19],\n",
        "       simple_regret_exact_4[slice19],\n",
        "       simple_regret_exact_5[slice19],\n",
        "       simple_regret_exact_6[slice19],\n",
        "       simple_regret_exact_7[slice19],\n",
        "       simple_regret_exact_8[slice19],\n",
        "       simple_regret_exact_9[slice19],\n",
        "       simple_regret_exact_10[slice19],\n",
        "       simple_regret_exact_11[slice19],\n",
        "       simple_regret_exact_12[slice19],\n",
        "       simple_regret_exact_13[slice19],\n",
        "       simple_regret_exact_14[slice19],\n",
        "       simple_regret_exact_15[slice19],\n",
        "       simple_regret_exact_16[slice19],\n",
        "       simple_regret_exact_17[slice19],\n",
        "       simple_regret_exact_18[slice19],\n",
        "       simple_regret_exact_19[slice19],\n",
        "       simple_regret_exact_20[slice19]]\n",
        "\n",
        "approx19_results = pd.DataFrame(approx19).sort_values(by=[0], ascending=False)\n",
        "exact19_results = pd.DataFrame(exact19).sort_values(by=[0], ascending=False)\n",
        "\n",
        "### Best simple regret minimization IQR - approx:\n",
        "lower_approx19 = np.asarray(approx19_results[4:5][0])[0]\n",
        "median_approx19 = np.asarray(approx19_results[9:10][0])[0]\n",
        "upper_approx19 = np.asarray(approx19_results[14:15][0])[0]\n",
        "\n",
        "lower_exact19 = np.asarray(exact19_results[4:5][0])[0]\n",
        "median_exact19 = np.asarray(exact19_results[9:10][0])[0]\n",
        "upper_exact19 = np.asarray(exact19_results[14:15][0])[0]"
      ]
    },
    {
      "cell_type": "code",
      "execution_count": 94,
      "metadata": {
        "id": "h4vtWahcQxf-"
      },
      "outputs": [],
      "source": [
        "# Iteration10 :\n",
        "\n",
        "slice10 = 9\n",
        "\n",
        "approx10 = [simple_regret_approx_1[slice10],\n",
        "       simple_regret_approx_2[slice10],\n",
        "       simple_regret_approx_3[slice10],\n",
        "       simple_regret_approx_4[slice10],\n",
        "       simple_regret_approx_5[slice10],\n",
        "       simple_regret_approx_6[slice10],\n",
        "       simple_regret_approx_7[slice10],\n",
        "       simple_regret_approx_8[slice10],\n",
        "       simple_regret_approx_9[slice10],\n",
        "       simple_regret_approx_10[slice10],\n",
        "       simple_regret_approx_11[slice10],\n",
        "       simple_regret_approx_12[slice10],\n",
        "       simple_regret_approx_13[slice10],\n",
        "       simple_regret_approx_14[slice10],\n",
        "       simple_regret_approx_15[slice10],\n",
        "       simple_regret_approx_16[slice10],\n",
        "       simple_regret_approx_17[slice10],\n",
        "       simple_regret_approx_18[slice10],\n",
        "       simple_regret_approx_19[slice10],\n",
        "       simple_regret_approx_20[slice10]]\n",
        "\n",
        "exact10 = [simple_regret_exact_1[slice10],\n",
        "       simple_regret_exact_2[slice10],\n",
        "       simple_regret_exact_3[slice10],\n",
        "       simple_regret_exact_4[slice10],\n",
        "       simple_regret_exact_5[slice10],\n",
        "       simple_regret_exact_6[slice10],\n",
        "       simple_regret_exact_7[slice10],\n",
        "       simple_regret_exact_8[slice10],\n",
        "       simple_regret_exact_9[slice10],\n",
        "       simple_regret_exact_10[slice10],\n",
        "       simple_regret_exact_11[slice10],\n",
        "       simple_regret_exact_12[slice10],\n",
        "       simple_regret_exact_13[slice10],\n",
        "       simple_regret_exact_14[slice10],\n",
        "       simple_regret_exact_15[slice10],\n",
        "       simple_regret_exact_16[slice10],\n",
        "       simple_regret_exact_17[slice10],\n",
        "       simple_regret_exact_18[slice10],\n",
        "       simple_regret_exact_19[slice10],\n",
        "       simple_regret_exact_20[slice10]]\n",
        "\n",
        "approx10_results = pd.DataFrame(approx10).sort_values(by=[0], ascending=False)\n",
        "exact10_results = pd.DataFrame(exact10).sort_values(by=[0], ascending=False)\n",
        "\n",
        "### Best simple regret minimization IQR - approx:\n",
        "lower_approx10 = np.asarray(approx10_results[4:5][0])[0]\n",
        "median_approx10 = np.asarray(approx10_results[9:10][0])[0]\n",
        "upper_approx10 = np.asarray(approx10_results[14:15][0])[0]\n",
        "\n",
        "lower_exact10 = np.asarray(exact10_results[4:5][0])[0]\n",
        "median_exact10 = np.asarray(exact10_results[9:10][0])[0]\n",
        "upper_exact10 = np.asarray(exact10_results[14:15][0])[0]"
      ]
    },
    {
      "cell_type": "code",
      "execution_count": 95,
      "metadata": {
        "id": "Rsf240pWQxf-"
      },
      "outputs": [],
      "source": [
        "# Iteration20 :\n",
        "\n",
        "slice20 = 19\n",
        "\n",
        "approx20 = [simple_regret_approx_1[slice20],\n",
        "       simple_regret_approx_2[slice20],\n",
        "       simple_regret_approx_3[slice20],\n",
        "       simple_regret_approx_4[slice20],\n",
        "       simple_regret_approx_5[slice20],\n",
        "       simple_regret_approx_6[slice20],\n",
        "       simple_regret_approx_7[slice20],\n",
        "       simple_regret_approx_8[slice20],\n",
        "       simple_regret_approx_9[slice20],\n",
        "       simple_regret_approx_10[slice20],\n",
        "       simple_regret_approx_11[slice20],\n",
        "       simple_regret_approx_12[slice20],\n",
        "       simple_regret_approx_13[slice20],\n",
        "       simple_regret_approx_14[slice20],\n",
        "       simple_regret_approx_15[slice20],\n",
        "       simple_regret_approx_16[slice20],\n",
        "       simple_regret_approx_17[slice20],\n",
        "       simple_regret_approx_18[slice20],\n",
        "       simple_regret_approx_19[slice20],\n",
        "       simple_regret_approx_20[slice20]]\n",
        "\n",
        "exact20 = [simple_regret_exact_1[slice20],\n",
        "       simple_regret_exact_2[slice20],\n",
        "       simple_regret_exact_3[slice20],\n",
        "       simple_regret_exact_4[slice20],\n",
        "       simple_regret_exact_5[slice20],\n",
        "       simple_regret_exact_6[slice20],\n",
        "       simple_regret_exact_7[slice20],\n",
        "       simple_regret_exact_8[slice20],\n",
        "       simple_regret_exact_9[slice20],\n",
        "       simple_regret_exact_10[slice20],\n",
        "       simple_regret_exact_11[slice20],\n",
        "       simple_regret_exact_12[slice20],\n",
        "       simple_regret_exact_13[slice20],\n",
        "       simple_regret_exact_14[slice20],\n",
        "       simple_regret_exact_15[slice20],\n",
        "       simple_regret_exact_16[slice20],\n",
        "       simple_regret_exact_17[slice20],\n",
        "       simple_regret_exact_18[slice20],\n",
        "       simple_regret_exact_19[slice20],\n",
        "       simple_regret_exact_20[slice20]]\n",
        "\n",
        "approx20_results = pd.DataFrame(approx20).sort_values(by=[0], ascending=False)\n",
        "exact20_results = pd.DataFrame(exact20).sort_values(by=[0], ascending=False)\n",
        "\n",
        "### Best simple regret minimization IQR - approx:\n",
        "lower_approx20 = np.asarray(approx20_results[4:5][0])[0]\n",
        "median_approx20 = np.asarray(approx20_results[9:10][0])[0]\n",
        "upper_approx20 = np.asarray(approx20_results[14:15][0])[0]\n",
        "\n",
        "lower_exact20 = np.asarray(exact20_results[4:5][0])[0]\n",
        "median_exact20 = np.asarray(exact20_results[9:10][0])[0]\n",
        "upper_exact20 = np.asarray(exact20_results[14:15][0])[0]"
      ]
    },
    {
      "cell_type": "code",
      "execution_count": 96,
      "metadata": {
        "id": "gn36RejbQxf_"
      },
      "outputs": [],
      "source": [
        "### Summarize arrays: 'Loser'\n",
        "\n",
        "lower_approx = [lower_approx1,\n",
        "            lower_approx2,\n",
        "            lower_approx3,\n",
        "            lower_approx4,\n",
        "            lower_approx5,\n",
        "            lower_approx6,\n",
        "            lower_approx7,\n",
        "            lower_approx8,\n",
        "            lower_approx9,\n",
        "            lower_approx10,\n",
        "            lower_approx11,\n",
        "            lower_approx12,\n",
        "            lower_approx13,\n",
        "            lower_approx14,\n",
        "            lower_approx15,\n",
        "            lower_approx16,\n",
        "            lower_approx17,\n",
        "            lower_approx18,\n",
        "            lower_approx19,\n",
        "            lower_approx20,\n",
        "            lower_approx21]\n",
        "\n",
        "median_approx = [median_approx1,\n",
        "            median_approx2,\n",
        "            median_approx3,\n",
        "            median_approx4,\n",
        "            median_approx5,\n",
        "            median_approx6,\n",
        "            median_approx7,\n",
        "            median_approx8,\n",
        "            median_approx9,\n",
        "            median_approx10,\n",
        "            median_approx11,\n",
        "            median_approx12,\n",
        "            median_approx13,\n",
        "            median_approx14,\n",
        "            median_approx15,\n",
        "            median_approx16,\n",
        "            median_approx17,\n",
        "            median_approx18,\n",
        "            median_approx19,\n",
        "            median_approx20,\n",
        "            median_approx21]\n",
        "\n",
        "upper_approx = [upper_approx1,\n",
        "            upper_approx2,\n",
        "            upper_approx3,\n",
        "            upper_approx4,\n",
        "            upper_approx5,\n",
        "            upper_approx6,\n",
        "            upper_approx7,\n",
        "            upper_approx8,\n",
        "            upper_approx9,\n",
        "            upper_approx10,\n",
        "            upper_approx11,\n",
        "            upper_approx12,\n",
        "            upper_approx13,\n",
        "            upper_approx14,\n",
        "            upper_approx15,\n",
        "            upper_approx16,\n",
        "            upper_approx17,\n",
        "            upper_approx18,\n",
        "            upper_approx19,\n",
        "            upper_approx20,\n",
        "            upper_approx21]"
      ]
    },
    {
      "cell_type": "code",
      "execution_count": 97,
      "metadata": {
        "id": "wxtGTOYfQxf_"
      },
      "outputs": [],
      "source": [
        "### Summarize arrays: 'exact'\n",
        "\n",
        "lower_exact = [lower_exact1,\n",
        "            lower_exact2,\n",
        "            lower_exact3,\n",
        "            lower_exact4,\n",
        "            lower_exact5,\n",
        "            lower_exact6,\n",
        "            lower_exact7,\n",
        "            lower_exact8,\n",
        "            lower_exact9,\n",
        "            lower_exact10,\n",
        "            lower_exact11,\n",
        "            lower_exact12,\n",
        "            lower_exact13,\n",
        "            lower_exact14,\n",
        "            lower_exact15,\n",
        "            lower_exact16,\n",
        "            lower_exact17,\n",
        "            lower_exact18,\n",
        "            lower_exact19,\n",
        "            lower_exact20,\n",
        "            lower_exact21]\n",
        "\n",
        "median_exact = [median_exact1,\n",
        "            median_exact2,\n",
        "            median_exact3,\n",
        "            median_exact4,\n",
        "            median_exact5,\n",
        "            median_exact6,\n",
        "            median_exact7,\n",
        "            median_exact8,\n",
        "            median_exact9,\n",
        "            median_exact10,\n",
        "            median_exact11,\n",
        "            median_exact12,\n",
        "            median_exact13,\n",
        "            median_exact14,\n",
        "            median_exact15,\n",
        "            median_exact16,\n",
        "            median_exact17,\n",
        "            median_exact18,\n",
        "            median_exact19,\n",
        "            median_exact20,\n",
        "            median_exact21]\n",
        "\n",
        "upper_exact = [upper_exact1,\n",
        "            upper_exact2,\n",
        "            upper_exact3,\n",
        "            upper_exact4,\n",
        "            upper_exact5,\n",
        "            upper_exact6,\n",
        "            upper_exact7,\n",
        "            upper_exact8,\n",
        "            upper_exact9,\n",
        "            upper_exact10,\n",
        "            upper_exact11,\n",
        "            upper_exact12,\n",
        "            upper_exact13,\n",
        "            upper_exact14,\n",
        "            upper_exact15,\n",
        "            upper_exact16,\n",
        "            upper_exact17,\n",
        "            upper_exact18,\n",
        "            upper_exact19,\n",
        "            upper_exact20,\n",
        "            upper_exact21]"
      ]
    },
    {
      "cell_type": "code",
      "execution_count": 98,
      "metadata": {
        "id": "2MONq-BXQxgA",
        "colab": {
          "base_uri": "https://localhost:8080/",
          "height": 299
        },
        "outputId": "b064c42c-7e7f-49d1-bcd0-920ba206d328"
      },
      "outputs": [
        {
          "output_type": "display_data",
          "data": {
            "text/plain": [
              "<Figure size 432x288 with 1 Axes>"
            ],
            "image/png": "[encoded data removed]"
          },
          "metadata": {
            "needs_background": "light"
          }
        }
      ],
      "source": [
        "### Visualise!\n",
        "\n",
        "title = func\n",
        "plt.figure()\n",
        "\n",
        "plt.plot(median_approx, color = 'Green')\n",
        "plt.plot(median_exact, color = 'Blue')\n",
        "\n",
        "xstar = np.arange(0, iters+1, step=1)\n",
        "plt.fill_between(xstar, lower_approx, upper_approx, facecolor = 'Green', alpha=0.4, label='GP ERM Optimization: Approx GP ERM gradients')\n",
        "plt.fill_between(xstar, lower_exact, upper_exact, facecolor = 'Blue', alpha=0.4, label='GP ERM Optimization: Exact GP dERM gradients')\n",
        "\n",
        "plt.title(title, weight = 'bold')\n",
        "plt.xlabel('(Post-initialization) iteration $\\it{k}$', weight = 'bold')\n",
        "plt.ylabel('log(Regret)', weight = 'bold') \n",
        "plt.legend(loc=3) # add plot legend\n",
        "\n",
        "### Make the x-ticks integers, not floats:\n",
        "count = len(xstar)\n",
        "plt.xticks(np.arange(count), np.arange(0, count))\n",
        "plt.show() #visualize!"
      ]
    },
    {
      "cell_type": "code",
      "execution_count": 99,
      "metadata": {
        "id": "l5dkR2Id2oiu",
        "colab": {
          "base_uri": "https://localhost:8080/"
        },
        "outputId": "a26a0de4-58fc-468b-e6e2-4ac2f1f16a2a"
      },
      "outputs": [
        {
          "output_type": "execute_result",
          "data": {
            "text/plain": [
              "(480.7858159542084, 447.70835638046265)"
            ]
          },
          "metadata": {},
          "execution_count": 99
        }
      ],
      "source": [
        "time_approx, time_exact\n"
      ]
    },
    {
      "cell_type": "code",
      "source": [
        "### acqFunc attribute x, stddev: run number = 1\n",
        "\n",
        "acqFuncApprox_exact_1 = acqFuncApprox(exact_1.history)\n",
        "acqFuncExact_exact_1 = acqFuncExact(exact_1.history)\n",
        "\n",
        "e1 = np.mean(acqFuncExact_exact_1)\n",
        "a1 = np.mean(acqFuncApprox_exact_1)\n",
        "\n",
        "e1, a1\n"
      ],
      "metadata": {
        "colab": {
          "base_uri": "https://localhost:8080/"
        },
        "id": "uwxv4dmfGsLr",
        "outputId": "767c5f57-c7cb-406d-b804-67468a6e99f5"
      },
      "execution_count": 100,
      "outputs": [
        {
          "output_type": "execute_result",
          "data": {
            "text/plain": [
              "(3.0303180065658273, 3.160562225533104)"
            ]
          },
          "metadata": {},
          "execution_count": 100
        }
      ]
    },
    {
      "cell_type": "code",
      "source": [
        "### acqFunc attribute x, stddev: run number = 2\n",
        "\n",
        "acqFuncApprox_exact_2 = acqFuncApprox(exact_2.history)\n",
        "acqFuncExact_exact_2 = acqFuncExact(exact_2.history)\n",
        "\n",
        "e2 = np.mean(acqFuncExact_exact_2)\n",
        "a2 = np.mean(acqFuncApprox_exact_2)\n",
        "\n",
        "e2, a2\n"
      ],
      "metadata": {
        "colab": {
          "base_uri": "https://localhost:8080/"
        },
        "id": "0YSV00_pGsXe",
        "outputId": "b2dfccfe-7c60-4da9-f1cc-e07420768645"
      },
      "execution_count": 101,
      "outputs": [
        {
          "output_type": "execute_result",
          "data": {
            "text/plain": [
              "(3.0134831172736867, 3.1358253666465528)"
            ]
          },
          "metadata": {},
          "execution_count": 101
        }
      ]
    },
    {
      "cell_type": "code",
      "source": [
        "### acqFunc attribute x, stddev: run number = 3\n",
        "\n",
        "acqFuncApprox_exact_3 = acqFuncApprox(exact_3.history)\n",
        "acqFuncExact_exact_3 = acqFuncExact(exact_3.history)\n",
        "\n",
        "e3 = np.mean(acqFuncExact_exact_3)\n",
        "a3 = np.mean(acqFuncApprox_exact_3)\n",
        "\n",
        "e3, a3\n"
      ],
      "metadata": {
        "colab": {
          "base_uri": "https://localhost:8080/"
        },
        "id": "HHVmsd2UGsjT",
        "outputId": "5871c69f-cda0-47f6-a578-23c0b224c2d2"
      },
      "execution_count": 102,
      "outputs": [
        {
          "output_type": "execute_result",
          "data": {
            "text/plain": [
              "(2.8616420351362155, 3.037734139292871)"
            ]
          },
          "metadata": {},
          "execution_count": 102
        }
      ]
    },
    {
      "cell_type": "code",
      "source": [
        "### acqFunc attribute x, stddev: run number = 4\n",
        "\n",
        "acqFuncApprox_exact_4 = acqFuncApprox(exact_4.history)\n",
        "acqFuncExact_exact_4 = acqFuncExact(exact_4.history)\n",
        "\n",
        "e4 = np.mean(acqFuncExact_exact_4)\n",
        "a4 = np.mean(acqFuncApprox_exact_4)\n",
        "\n",
        "e4, a4\n"
      ],
      "metadata": {
        "colab": {
          "base_uri": "https://localhost:8080/"
        },
        "id": "r7O19S2eGsu7",
        "outputId": "2cede8e9-c3d4-4981-d459-9469b82487c0"
      },
      "execution_count": 103,
      "outputs": [
        {
          "output_type": "execute_result",
          "data": {
            "text/plain": [
              "(2.972893774392159, 3.0909545253213118)"
            ]
          },
          "metadata": {},
          "execution_count": 103
        }
      ]
    },
    {
      "cell_type": "code",
      "source": [
        "### acqFunc attribute x, stddev: run number = 5\n",
        "\n",
        "acqFuncApprox_exact_5 = acqFuncApprox(exact_5.history)\n",
        "acqFuncExact_exact_5 = acqFuncExact(exact_5.history)\n",
        "\n",
        "e5 = np.mean(acqFuncExact_exact_5)\n",
        "a5 = np.mean(acqFuncApprox_exact_5)\n",
        "\n",
        "e5, a5\n"
      ],
      "metadata": {
        "colab": {
          "base_uri": "https://localhost:8080/"
        },
        "id": "sdb9o6NuGs5m",
        "outputId": "77fcd98a-3c14-4d4a-c995-50911998e382"
      },
      "execution_count": 104,
      "outputs": [
        {
          "output_type": "execute_result",
          "data": {
            "text/plain": [
              "(3.0581092083165555, 3.1087621356706174)"
            ]
          },
          "metadata": {},
          "execution_count": 104
        }
      ]
    },
    {
      "cell_type": "code",
      "source": [
        "### acqFunc attribute x, stddev: run number = 6\n",
        "\n",
        "acqFuncApprox_exact_6 = acqFuncApprox(exact_6.history)\n",
        "acqFuncExact_exact_6 = acqFuncExact(exact_6.history)\n",
        "\n",
        "e6 = np.mean(acqFuncExact_exact_6)\n",
        "a6 = np.mean(acqFuncApprox_exact_6)\n",
        "\n",
        "e6, a6\n"
      ],
      "metadata": {
        "colab": {
          "base_uri": "https://localhost:8080/"
        },
        "id": "COQl7LZ8GtE0",
        "outputId": "76924438-574d-40d5-ae5d-af96964bbc1b"
      },
      "execution_count": 105,
      "outputs": [
        {
          "output_type": "execute_result",
          "data": {
            "text/plain": [
              "(3.1308724137125283, 3.301233725627103)"
            ]
          },
          "metadata": {},
          "execution_count": 105
        }
      ]
    },
    {
      "cell_type": "code",
      "source": [
        "### acqFunc attribute x, stddev: run number = 7\n",
        "\n",
        "acqFuncApprox_exact_7 = acqFuncApprox(exact_7.history)\n",
        "acqFuncExact_exact_7 = acqFuncExact(exact_7.history)\n",
        "\n",
        "e7 = np.mean(acqFuncExact_exact_7)\n",
        "a7 = np.mean(acqFuncApprox_exact_7)\n",
        "\n",
        "e7, a7\n"
      ],
      "metadata": {
        "colab": {
          "base_uri": "https://localhost:8080/"
        },
        "id": "2gy9EtTzGtP7",
        "outputId": "04987556-7307-4eba-c369-6dd18b3da116"
      },
      "execution_count": 106,
      "outputs": [
        {
          "output_type": "execute_result",
          "data": {
            "text/plain": [
              "(3.0104330307630986, 3.0868018510376922)"
            ]
          },
          "metadata": {},
          "execution_count": 106
        }
      ]
    },
    {
      "cell_type": "code",
      "source": [
        "### acqFunc attribute x, stddev: run number = 8\n",
        "\n",
        "acqFuncApprox_exact_8 = acqFuncApprox(exact_8.history)\n",
        "acqFuncExact_exact_8 = acqFuncExact(exact_8.history)\n",
        "\n",
        "e8 = np.mean(acqFuncExact_exact_8)\n",
        "a8 = np.mean(acqFuncApprox_exact_8)\n",
        "\n",
        "e8, a8\n"
      ],
      "metadata": {
        "colab": {
          "base_uri": "https://localhost:8080/"
        },
        "id": "S7mn0qoMGtbM",
        "outputId": "db83438b-7178-46a0-9115-0b123f9e8b9c"
      },
      "execution_count": 107,
      "outputs": [
        {
          "output_type": "execute_result",
          "data": {
            "text/plain": [
              "(2.928489847396011, 3.1744376703630897)"
            ]
          },
          "metadata": {},
          "execution_count": 107
        }
      ]
    },
    {
      "cell_type": "code",
      "source": [
        "### acqFunc attribute x, stddev: run number = 9\n",
        "\n",
        "acqFuncApprox_exact_9 = acqFuncApprox(exact_9.history)\n",
        "acqFuncExact_exact_9 = acqFuncExact(exact_9.history)\n",
        "\n",
        "e9 = np.mean(acqFuncExact_exact_9)\n",
        "a9 = np.mean(acqFuncApprox_exact_9)\n",
        "\n",
        "e9, a9\n"
      ],
      "metadata": {
        "colab": {
          "base_uri": "https://localhost:8080/"
        },
        "id": "BhljmkNxGtms",
        "outputId": "84be766a-e021-4ae2-f5d0-293d565a10fd"
      },
      "execution_count": 108,
      "outputs": [
        {
          "output_type": "execute_result",
          "data": {
            "text/plain": [
              "(2.8264913615809895, 3.067112517139866)"
            ]
          },
          "metadata": {},
          "execution_count": 108
        }
      ]
    },
    {
      "cell_type": "code",
      "source": [
        "### acqFunc attribute x, stddev: run number = 10\n",
        "\n",
        "acqFuncApprox_exact_10 = acqFuncApprox(exact_10.history)\n",
        "acqFuncExact_exact_10 = acqFuncExact(exact_10.history)\n",
        "\n",
        "e10 = np.mean(acqFuncExact_exact_10)\n",
        "a10 = np.mean(acqFuncApprox_exact_10)\n",
        "\n",
        "e10, a10\n"
      ],
      "metadata": {
        "colab": {
          "base_uri": "https://localhost:8080/"
        },
        "id": "W5GZo6k3Gtx8",
        "outputId": "88ecddcc-0a2b-4832-aab0-a22e20419902"
      },
      "execution_count": 109,
      "outputs": [
        {
          "output_type": "execute_result",
          "data": {
            "text/plain": [
              "(3.008158450899578, 3.08810406854827)"
            ]
          },
          "metadata": {},
          "execution_count": 109
        }
      ]
    },
    {
      "cell_type": "code",
      "source": [
        "### acqFunc attribute x, stddev: run number = 11\n",
        "\n",
        "acqFuncApprox_exact_11 = acqFuncApprox(exact_11.history)\n",
        "acqFuncExact_exact_11 = acqFuncExact(exact_11.history)\n",
        "\n",
        "e11 = np.mean(acqFuncExact_exact_11)\n",
        "a11 = np.mean(acqFuncApprox_exact_11)\n",
        "\n",
        "e11, a11\n"
      ],
      "metadata": {
        "colab": {
          "base_uri": "https://localhost:8080/"
        },
        "id": "isKNhDk5Gt9D",
        "outputId": "5635b930-87d4-42e8-8ccf-fb7e69499cc5"
      },
      "execution_count": 110,
      "outputs": [
        {
          "output_type": "execute_result",
          "data": {
            "text/plain": [
              "(2.9044831910355917, 3.1271228654975887)"
            ]
          },
          "metadata": {},
          "execution_count": 110
        }
      ]
    },
    {
      "cell_type": "code",
      "source": [
        "### acqFunc attribute x, stddev: run number = 12\n",
        "\n",
        "acqFuncApprox_exact_12 = acqFuncApprox(exact_12.history)\n",
        "acqFuncExact_exact_12 = acqFuncExact(exact_12.history)\n",
        "\n",
        "e12 = np.mean(acqFuncExact_exact_12)\n",
        "a12 = np.mean(acqFuncApprox_exact_12)\n",
        "\n",
        "e12, a12\n"
      ],
      "metadata": {
        "colab": {
          "base_uri": "https://localhost:8080/"
        },
        "id": "8ts-wrSuGuIm",
        "outputId": "6e44c5c5-cb6f-45ef-d1fe-b89f9ad6eda4"
      },
      "execution_count": 111,
      "outputs": [
        {
          "output_type": "execute_result",
          "data": {
            "text/plain": [
              "(3.0184040712467115, 3.059346960591206)"
            ]
          },
          "metadata": {},
          "execution_count": 111
        }
      ]
    },
    {
      "cell_type": "code",
      "source": [
        "### acqFunc attribute x, stddev: run number = 13\n",
        "\n",
        "acqFuncApprox_exact_13 = acqFuncApprox(exact_13.history)\n",
        "acqFuncExact_exact_13 = acqFuncExact(exact_13.history)\n",
        "\n",
        "e13 = np.mean(acqFuncExact_exact_13)\n",
        "a13 = np.mean(acqFuncApprox_exact_13)\n",
        "\n",
        "e13, a13\n"
      ],
      "metadata": {
        "colab": {
          "base_uri": "https://localhost:8080/"
        },
        "id": "n0drhEe3GuUL",
        "outputId": "053fb2b7-a379-406e-fb78-8f98635912ec"
      },
      "execution_count": 112,
      "outputs": [
        {
          "output_type": "execute_result",
          "data": {
            "text/plain": [
              "(2.9717206898375332, 3.1252242732758955)"
            ]
          },
          "metadata": {},
          "execution_count": 112
        }
      ]
    },
    {
      "cell_type": "code",
      "source": [
        "### acqFunc attribute x, stddev: run number = 14\n",
        "\n",
        "acqFuncApprox_exact_14 = acqFuncApprox(exact_14.history)\n",
        "acqFuncExact_exact_14 = acqFuncExact(exact_14.history)\n",
        "\n",
        "e14 = np.mean(acqFuncExact_exact_14)\n",
        "a14 = np.mean(acqFuncApprox_exact_14)\n",
        "\n",
        "e14, a14\n"
      ],
      "metadata": {
        "colab": {
          "base_uri": "https://localhost:8080/"
        },
        "id": "R0W3MZaVGues",
        "outputId": "4aec4b9f-1aa7-44dc-c74d-6a74c15b2a93"
      },
      "execution_count": 113,
      "outputs": [
        {
          "output_type": "execute_result",
          "data": {
            "text/plain": [
              "(2.985467551782407, 3.0649553274831622)"
            ]
          },
          "metadata": {},
          "execution_count": 113
        }
      ]
    },
    {
      "cell_type": "code",
      "source": [
        "### acqFunc attribute x, stddev: run number = 15\n",
        "\n",
        "acqFuncApprox_exact_15 = acqFuncApprox(exact_15.history)\n",
        "acqFuncExact_exact_15 = acqFuncExact(exact_15.history)\n",
        "\n",
        "e15 = np.mean(acqFuncExact_exact_15)\n",
        "a15 = np.mean(acqFuncApprox_exact_15)\n",
        "\n",
        "e15, a15\n"
      ],
      "metadata": {
        "colab": {
          "base_uri": "https://localhost:8080/"
        },
        "id": "DoXdDFHoGup-",
        "outputId": "06b355fa-0c13-4070-bd70-af1d3b8180df"
      },
      "execution_count": 114,
      "outputs": [
        {
          "output_type": "execute_result",
          "data": {
            "text/plain": [
              "(2.9930109233872595, 3.0453742236023236)"
            ]
          },
          "metadata": {},
          "execution_count": 114
        }
      ]
    },
    {
      "cell_type": "code",
      "source": [
        "### acqFunc attribute x, stddev: run number = 16\n",
        "\n",
        "acqFuncApprox_exact_16 = acqFuncApprox(exact_16.history)\n",
        "acqFuncExact_exact_16 = acqFuncExact(exact_16.history)\n",
        "\n",
        "e16 = np.mean(acqFuncExact_exact_16)\n",
        "a16 = np.mean(acqFuncApprox_exact_16)\n",
        "\n",
        "e16, a16\n"
      ],
      "metadata": {
        "colab": {
          "base_uri": "https://localhost:8080/"
        },
        "id": "K_wAeqSoGu2j",
        "outputId": "257fa165-7910-455d-9e34-5d2ea15cfb3a"
      },
      "execution_count": 115,
      "outputs": [
        {
          "output_type": "execute_result",
          "data": {
            "text/plain": [
              "(3.0377383123940738, 3.058476640240567)"
            ]
          },
          "metadata": {},
          "execution_count": 115
        }
      ]
    },
    {
      "cell_type": "code",
      "source": [
        "### acqFunc attribute x, stddev: run number = 17\n",
        "\n",
        "acqFuncApprox_exact_17 = acqFuncApprox(exact_17.history)\n",
        "acqFuncExact_exact_17 = acqFuncExact(exact_17.history)\n",
        "\n",
        "e17 = np.mean(acqFuncExact_exact_17)\n",
        "a17 = np.mean(acqFuncApprox_exact_17)\n",
        "\n",
        "e17, a17\n"
      ],
      "metadata": {
        "colab": {
          "base_uri": "https://localhost:8080/"
        },
        "id": "n6zy78fjGvBT",
        "outputId": "0c4fb7d8-9de4-4ba9-ecbd-84e6b7f443da"
      },
      "execution_count": 116,
      "outputs": [
        {
          "output_type": "execute_result",
          "data": {
            "text/plain": [
              "(2.984622543322529, 3.079300321586164)"
            ]
          },
          "metadata": {},
          "execution_count": 116
        }
      ]
    },
    {
      "cell_type": "code",
      "source": [
        "### acqFunc attribute x, stddev: run number = 18\n",
        "\n",
        "acqFuncApprox_exact_18 = acqFuncApprox(exact_18.history)\n",
        "acqFuncExact_exact_18 = acqFuncExact(exact_18.history)\n",
        "\n",
        "e18 = np.mean(acqFuncExact_exact_18)\n",
        "a18 = np.mean(acqFuncApprox_exact_18)\n",
        "\n",
        "e18, a18\n"
      ],
      "metadata": {
        "colab": {
          "base_uri": "https://localhost:8080/"
        },
        "id": "s_6_2K4iGvM-",
        "outputId": "a8e319b0-85b7-401a-9552-7a864739dde7"
      },
      "execution_count": 117,
      "outputs": [
        {
          "output_type": "execute_result",
          "data": {
            "text/plain": [
              "(2.956844887200988, 3.0481813588643134)"
            ]
          },
          "metadata": {},
          "execution_count": 117
        }
      ]
    },
    {
      "cell_type": "code",
      "source": [
        "### acqFunc attribute x, stddev: run number = 19\n",
        "\n",
        "acqFuncApprox_exact_19 = acqFuncApprox(exact_19.history)\n",
        "acqFuncExact_exact_19 = acqFuncExact(exact_19.history)\n",
        "\n",
        "e19 = np.mean(acqFuncExact_exact_19)\n",
        "a19 = np.mean(acqFuncApprox_exact_19)\n",
        "\n",
        "e19, a19\n"
      ],
      "metadata": {
        "colab": {
          "base_uri": "https://localhost:8080/"
        },
        "id": "o8oO8pdBGvYk",
        "outputId": "0da6ca44-f0be-40b7-a8a5-a1674b07f590"
      },
      "execution_count": 118,
      "outputs": [
        {
          "output_type": "execute_result",
          "data": {
            "text/plain": [
              "(2.8973528549553897, 3.0176029269704507)"
            ]
          },
          "metadata": {},
          "execution_count": 118
        }
      ]
    },
    {
      "cell_type": "code",
      "source": [
        "### acqFunc attribute x, stddev: run number = 20\n",
        "\n",
        "acqFuncApprox_exact_20 = acqFuncApprox(exact_20.history)\n",
        "acqFuncExact_exact_20 = acqFuncExact(exact_20.history)\n",
        "\n",
        "e20 = np.mean(acqFuncExact_exact_20)\n",
        "a20 = np.mean(acqFuncApprox_exact_20)\n",
        "\n",
        "e20, a20\n"
      ],
      "metadata": {
        "colab": {
          "base_uri": "https://localhost:8080/"
        },
        "id": "b2w8oLc0IMzU",
        "outputId": "e904cb8c-e538-4d0f-80ce-aa6819de983a"
      },
      "execution_count": 119,
      "outputs": [
        {
          "output_type": "execute_result",
          "data": {
            "text/plain": [
              "(2.957924216478466, 3.1068880336808875)"
            ]
          },
          "metadata": {},
          "execution_count": 119
        }
      ]
    },
    {
      "cell_type": "code",
      "source": [
        "### Summarize arrays: \n",
        "\n",
        "exact_stddev = np.sort([e1,e2,e3,e4,e5,e6,e7,e8,e9,e10,e11,e12,e13,e14,e15,e16,e17,e18,e19,e20])\n",
        "approx_stddev = np.sort([a1,a2,a3,a4,a5,a6,a7,a8,a9,a10,a11,a12,a13,a14,a15,a16,a17,a18,a19,a20])\n",
        "\n",
        "np.mean(exact_stddev), np.mean(approx_stddev)\n"
      ],
      "metadata": {
        "colab": {
          "base_uri": "https://localhost:8080/"
        },
        "id": "qAZs3yxMIZul",
        "outputId": "fc0c07cc-e3c7-4d8a-82df-61a107a56a7d"
      },
      "execution_count": 120,
      "outputs": [
        {
          "output_type": "execute_result",
          "data": {
            "text/plain": [
              "(2.97742302438388, 3.099200057848652)"
            ]
          },
          "metadata": {},
          "execution_count": 120
        }
      ]
    },
    {
      "cell_type": "code",
      "source": [
        "### Visualise!\n",
        "\n",
        "title = func\n",
        "plt.figure()\n",
        "\n",
        "plt.plot(approx_stddev, color = 'Green', ls='-', label='Average $\\sigma$, attribute $\\mathbf{x}$: Approx GP ERM gradients')\n",
        "plt.plot(exact_stddev, color = 'Blue', ls='-.', label='Average $\\sigma$, attribute $\\mathbf{x}$: Exact GP dERM gradients')\n",
        "\n",
        "plt.title(title, weight = 'bold')\n",
        "plt.xlabel('Function evaluations: iteration $\\it{k}$', weight = 'bold')\n",
        "plt.ylabel('GP ERM: Average $\\sigma$, attribute $\\mathbf{x}$', weight = 'bold') \n",
        "plt.legend(loc=0) # add plot legend\n",
        "\n",
        "### Make the x-ticks integers, not floats:\n",
        "count = len(xstar)\n",
        "plt.xticks(np.arange(count), np.arange(1, count))\n",
        "plt.show() #visualize!\n"
      ],
      "metadata": {
        "colab": {
          "base_uri": "https://localhost:8080/",
          "height": 297
        },
        "id": "e_kpqYcMIZxu",
        "outputId": "a504b2d7-b0d5-4352-b219-b1726892dec5"
      },
      "execution_count": 121,
      "outputs": [
        {
          "output_type": "display_data",
          "data": {
            "text/plain": [
              "<Figure size 432x288 with 1 Axes>"
            ],
            "image/png": "[encoded data removed]"
          },
          "metadata": {
            "needs_background": "light"
          }
        }
      ]
    },
    {
      "cell_type": "code",
      "source": [
        ""
      ],
      "metadata": {
        "id": "LToGd4vZIZ3I"
      },
      "execution_count": 121,
      "outputs": []
    }
  ],
  "metadata": {
    "colab": {
      "collapsed_sections": [],
      "name": "2_Rastrigin_GP_dERM.ipynb",
      "provenance": []
    },
    "kernelspec": {
      "display_name": "Python 3",
      "name": "python3"
    },
    "language_info": {
      "name": "python"
    }
  },
  "nbformat": 4,
  "nbformat_minor": 0
}