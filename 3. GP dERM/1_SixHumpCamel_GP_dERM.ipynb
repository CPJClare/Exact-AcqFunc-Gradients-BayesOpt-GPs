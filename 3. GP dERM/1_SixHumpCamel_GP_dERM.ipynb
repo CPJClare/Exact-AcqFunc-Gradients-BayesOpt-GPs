{
  "cells": [
    {
      "cell_type": "markdown",
      "metadata": {
        "id": "Dqn4dFx7Z2Ir"
      },
      "source": [
        "\n",
        "SixHumpCamel: 2D\n"
      ]
    },
    {
      "cell_type": "code",
      "execution_count": 1,
      "metadata": {
        "colab": {
          "base_uri": "https://localhost:8080/"
        },
        "id": "MJTM_GZZZb5x",
        "outputId": "beb059b0-b8b3-4c1f-c77d-b66b0ffdbdbb"
      },
      "outputs": [
        {
          "output_type": "stream",
          "name": "stdout",
          "text": [
            "Looking in indexes: https://pypi.org/simple, https://us-python.pkg.dev/colab-wheels/public/simple/\n",
            "Collecting pyGPGO\n",
            "  Downloading pyGPGO-0.5.1.tar.gz (14 kB)\n",
            "Requirement already satisfied: numpy in /usr/local/lib/python3.7/dist-packages (from pyGPGO) (1.21.6)\n",
            "Requirement already satisfied: mkl in /usr/local/lib/python3.7/dist-packages (from pyGPGO) (2019.0)\n",
            "Requirement already satisfied: scipy in /usr/local/lib/python3.7/dist-packages (from pyGPGO) (1.7.3)\n",
            "Requirement already satisfied: joblib in /usr/local/lib/python3.7/dist-packages (from pyGPGO) (1.1.0)\n",
            "Requirement already satisfied: scikit-learn in /usr/local/lib/python3.7/dist-packages (from pyGPGO) (1.0.2)\n",
            "Requirement already satisfied: Theano-PyMC in /usr/local/lib/python3.7/dist-packages (from pyGPGO) (1.1.2)\n",
            "Requirement already satisfied: pyMC3 in /usr/local/lib/python3.7/dist-packages (from pyGPGO) (3.11.5)\n",
            "Requirement already satisfied: intel-openmp in /usr/local/lib/python3.7/dist-packages (from mkl->pyGPGO) (2022.1.0)\n",
            "Requirement already satisfied: deprecat in /usr/local/lib/python3.7/dist-packages (from pyMC3->pyGPGO) (2.1.1)\n",
            "Requirement already satisfied: cachetools>=4.2.1 in /usr/local/lib/python3.7/dist-packages (from pyMC3->pyGPGO) (4.2.4)\n",
            "Requirement already satisfied: fastprogress>=0.2.0 in /usr/local/lib/python3.7/dist-packages (from pyMC3->pyGPGO) (1.0.3)\n",
            "Requirement already satisfied: dill in /usr/local/lib/python3.7/dist-packages (from pyMC3->pyGPGO) (0.3.5.1)\n",
            "Requirement already satisfied: arviz>=0.11.0 in /usr/local/lib/python3.7/dist-packages (from pyMC3->pyGPGO) (0.12.1)\n",
            "Requirement already satisfied: semver>=2.13.0 in /usr/local/lib/python3.7/dist-packages (from pyMC3->pyGPGO) (2.13.0)\n",
            "Requirement already satisfied: pandas>=0.24.0 in /usr/local/lib/python3.7/dist-packages (from pyMC3->pyGPGO) (1.3.5)\n",
            "Requirement already satisfied: patsy>=0.5.1 in /usr/local/lib/python3.7/dist-packages (from pyMC3->pyGPGO) (0.5.2)\n",
            "Requirement already satisfied: typing-extensions>=3.7.4 in /usr/local/lib/python3.7/dist-packages (from pyMC3->pyGPGO) (4.1.1)\n",
            "Requirement already satisfied: filelock in /usr/local/lib/python3.7/dist-packages (from Theano-PyMC->pyGPGO) (3.7.1)\n",
            "Requirement already satisfied: packaging in /usr/local/lib/python3.7/dist-packages (from arviz>=0.11.0->pyMC3->pyGPGO) (21.3)\n",
            "Requirement already satisfied: netcdf4 in /usr/local/lib/python3.7/dist-packages (from arviz>=0.11.0->pyMC3->pyGPGO) (1.6.0)\n",
            "Requirement already satisfied: matplotlib>=3.0 in /usr/local/lib/python3.7/dist-packages (from arviz>=0.11.0->pyMC3->pyGPGO) (3.2.2)\n",
            "Requirement already satisfied: xarray>=0.16.1 in /usr/local/lib/python3.7/dist-packages (from arviz>=0.11.0->pyMC3->pyGPGO) (0.20.2)\n",
            "Requirement already satisfied: xarray-einstats>=0.2 in /usr/local/lib/python3.7/dist-packages (from arviz>=0.11.0->pyMC3->pyGPGO) (0.2.2)\n",
            "Requirement already satisfied: setuptools>=38.4 in /usr/local/lib/python3.7/dist-packages (from arviz>=0.11.0->pyMC3->pyGPGO) (57.4.0)\n",
            "Requirement already satisfied: pyparsing!=2.0.4,!=2.1.2,!=2.1.6,>=2.0.1 in /usr/local/lib/python3.7/dist-packages (from matplotlib>=3.0->arviz>=0.11.0->pyMC3->pyGPGO) (3.0.9)\n",
            "Requirement already satisfied: kiwisolver>=1.0.1 in /usr/local/lib/python3.7/dist-packages (from matplotlib>=3.0->arviz>=0.11.0->pyMC3->pyGPGO) (1.4.4)\n",
            "Requirement already satisfied: cycler>=0.10 in /usr/local/lib/python3.7/dist-packages (from matplotlib>=3.0->arviz>=0.11.0->pyMC3->pyGPGO) (0.11.0)\n",
            "Requirement already satisfied: python-dateutil>=2.1 in /usr/local/lib/python3.7/dist-packages (from matplotlib>=3.0->arviz>=0.11.0->pyMC3->pyGPGO) (2.8.2)\n",
            "Requirement already satisfied: pytz>=2017.3 in /usr/local/lib/python3.7/dist-packages (from pandas>=0.24.0->pyMC3->pyGPGO) (2022.1)\n",
            "Requirement already satisfied: six in /usr/local/lib/python3.7/dist-packages (from patsy>=0.5.1->pyMC3->pyGPGO) (1.15.0)\n",
            "Requirement already satisfied: importlib-metadata in /usr/local/lib/python3.7/dist-packages (from xarray>=0.16.1->arviz>=0.11.0->pyMC3->pyGPGO) (4.12.0)\n",
            "Requirement already satisfied: wrapt<2,>=1.10 in /usr/local/lib/python3.7/dist-packages (from deprecat->pyMC3->pyGPGO) (1.14.1)\n",
            "Requirement already satisfied: zipp>=0.5 in /usr/local/lib/python3.7/dist-packages (from importlib-metadata->xarray>=0.16.1->arviz>=0.11.0->pyMC3->pyGPGO) (3.8.1)\n",
            "Requirement already satisfied: cftime in /usr/local/lib/python3.7/dist-packages (from netcdf4->arviz>=0.11.0->pyMC3->pyGPGO) (1.6.1)\n",
            "Requirement already satisfied: threadpoolctl>=2.0.0 in /usr/local/lib/python3.7/dist-packages (from scikit-learn->pyGPGO) (3.1.0)\n",
            "Building wheels for collected packages: pyGPGO\n",
            "  Building wheel for pyGPGO (setup.py) ... \u001b[?25l\u001b[?25hdone\n",
            "  Created wheel for pyGPGO: filename=pyGPGO-0.5.1-py3-none-any.whl size=19879 sha256=780fd0563fcf0ac0bae58889cb47603a5ef2fcc6389763e630fb800aea00ee5c\n",
            "  Stored in directory: /root/.cache/pip/wheels/c8/5d/0b/2160114e2f1b87791c51b66cf07f89831dbb6f49167950316f\n",
            "Successfully built pyGPGO\n",
            "Installing collected packages: pyGPGO\n",
            "Successfully installed pyGPGO-0.5.1\n"
          ]
        }
      ],
      "source": [
        "pip install pyGPGO\n"
      ]
    },
    {
      "cell_type": "code",
      "execution_count": 2,
      "metadata": {
        "id": "ZJSSPbwPaEUB"
      },
      "outputs": [],
      "source": [
        "### Import:\n",
        "\n",
        "import numpy as np\n",
        "import scipy as sp\n",
        "import pandas as pd\n",
        "import matplotlib.pyplot as plt\n",
        "import warnings\n",
        "import itertools\n",
        "\n",
        "from pyGPGO.GPGO import GPGO\n",
        "from pyGPGO.surrogates.GaussianProcess import GaussianProcess\n",
        "from pyGPGO.acquisition import Acquisition\n",
        "from pyGPGO.covfunc import squaredExponential\n",
        "\n",
        "from joblib import Parallel, delayed\n",
        "from numpy.linalg import solve, cholesky\n",
        "from scipy.spatial.distance import cdist\n",
        "from scipy.optimize import minimize\n",
        "from scipy.stats import norm\n",
        "import time\n",
        "\n",
        "warnings.filterwarnings(\"ignore\", category=RuntimeWarning)\n"
      ]
    },
    {
      "cell_type": "code",
      "execution_count": 3,
      "metadata": {
        "id": "OeYcTUNoaJWa"
      },
      "outputs": [],
      "source": [
        "### Inputs:\n",
        "\n",
        "func = 'SixHumpCamel'\n",
        "n_test = 500\n",
        "eps = 1e-08\n",
        "\n",
        "util = 'ERM'\n",
        "\n",
        "n_init = 5 # random initialisations\n",
        "iters = 20\n",
        "opt = True"
      ]
    },
    {
      "cell_type": "code",
      "execution_count": 4,
      "metadata": {
        "id": "xpaEOjdzaPMS"
      },
      "outputs": [],
      "source": [
        "### Objective Function - SixHumpCamel(x) 2-D:\n",
        "\n",
        "def objfunc(x1_training, x2_training):\n",
        "        return operator * ((4 - 2.1 * x1_training ** 2 + 1 / 3 * x1_training ** 4) * x1_training ** 2 +\n",
        "                (x1_training * x2_training) + (-4 + 4 * x2_training ** 2) * x2_training ** 2)\n",
        "    \n",
        "# Constraints:\n",
        "lb_x1 = -3\n",
        "ub_x1 = +3\n",
        "    \n",
        "lb_x2 = -2\n",
        "ub_x2 = +2\n",
        "\n",
        "# Input array dimension(s):\n",
        "dim = 2\n",
        "\n",
        "# 2-D inputs' parameter bounds:\n",
        "param = {'x1_training': ('cont', [lb_x1, ub_x1]),\n",
        "             'x2_training': ('cont', [lb_x2, ub_x2])}\n",
        "\n",
        "# True y bounds:\n",
        "operator = -1\n",
        "y_global_orig = -1.0316 # targets global minimum\n",
        "\n",
        "# Test data:\n",
        "x1_test = np.linspace(lb_x1, ub_x1, n_test) \n",
        "x2_test = np.linspace(lb_x2, ub_x2, n_test)\n",
        "  \n",
        "x_test = np.column_stack((x1_test,x2_test))\n"
      ]
    },
    {
      "cell_type": "code",
      "execution_count": 5,
      "metadata": {
        "id": "eYpI3Zm4aGxi"
      },
      "outputs": [],
      "source": [
        "n_start_AcqFunc = iters\n",
        "inverse = -1\n"
      ]
    },
    {
      "cell_type": "code",
      "execution_count": 6,
      "metadata": {
        "id": "oO_GUmOoaV0T"
      },
      "outputs": [],
      "source": [
        "### Cumulative Regret Calculators:\n",
        "\n",
        "def min_max_array(x):\n",
        "    new_list = []\n",
        "    for i, num in enumerate(x):\n",
        "            new_list.append(np.min(x[0:i+1]))\n",
        "    return new_list\n",
        "  \n",
        "def acqFuncExact(x):\n",
        "    new_array = []\n",
        "    x = np.array(x) \n",
        "    for i, num in enumerate(x):\n",
        "            new_array = x[:-2][::-3]\n",
        "    return new_array[::-1]\n",
        "\n",
        "def acqFuncApprox(x):\n",
        "    new_array = []\n",
        "    x = np.array(x) \n",
        "    for i, num in enumerate(x):\n",
        "            new_array = x[:-1][::-3]\n",
        "    return new_array[::-1]\n"
      ]
    },
    {
      "cell_type": "code",
      "execution_count": 7,
      "metadata": {
        "id": "kuuJx0IMam9S"
      },
      "outputs": [],
      "source": [
        "### Surrogate derivatives: \n",
        "\n",
        "cov_func = squaredExponential()\n",
        "\n",
        "def kronDelta(X, Xstar):                     # Kronecker's Delta method\n",
        "    return cdist(X, Xstar) < np.finfo(np.float32).eps\n",
        "\n",
        "def se(X, Xstar, sigmaf, l, sigman):         # S.E. kernel method\n",
        "    return sigmaf * np.exp(-0.5 * cdist(X, Xstar) ** 2 / l ** 2) + sigman * kronDelta(X, Xstar)\n",
        "\n",
        "def delta(X, Xstar):                         # Distance between training X and test Xstar vectors\n",
        "    return (X - Xstar)\n",
        "   \n",
        "def der_covmat(X, Xstar, sigmaf, l, sigman): # Covariance matrix derivative terms (i.e. exact, first-order)\n",
        "    nx = len(X)\n",
        "    ny = len(Xstar)\n",
        "    return np.round(np.array([(delta(np.atleast_2d(i), np.atleast_2d(j))[0] * se(np.atleast_2d(i), np.atleast_2d(j), sigmaf, l, sigman)[0]).sum() for (i, j) in itertools.product(X, Xstar)]).reshape(nx, ny), 8)\n",
        "\n",
        "class dGaussianProcess(GaussianProcess):    # Via inheritance, also optimises hyperparameters when opt = TRUE\n",
        "    \n",
        "    def AcqGrad(self, Xstar):               # Method returning exact, first-order derivatives of the GP's posterior mean and standard deviation\n",
        "        Xstar = np.atleast_2d(Xstar)\n",
        "        Kstar = self.covfunc.K(self.X, Xstar).T\n",
        "        \n",
        "        dKstar = der_covmat(self.X, Xstar, self.covfunc.sigmaf, self.covfunc.l, self.covfunc.sigman).T\n",
        "        alpha_Kstar = np.dot(np.linalg.inv(self.K + (self.covfunc.sigman**2) * np.eye(len(self.X))), Kstar.T)\n",
        "        \n",
        "        dm = np.dot(dKstar, self.alpha)\n",
        "        ds = -2 * np.dot(dKstar, alpha_Kstar)\n",
        "        \n",
        "        return dm, ds           \n"
      ]
    },
    {
      "cell_type": "code",
      "execution_count": 8,
      "metadata": {
        "id": "_Dc3YVHVaXz7"
      },
      "outputs": [],
      "source": [
        "### Add exact acquisition function gradient as attribute:\n",
        "\n",
        "class Acquisition_grad(Acquisition):    \n",
        "    def __init__(self, mode, eps=eps, **params):\n",
        "        \n",
        "        self.params = params\n",
        "        self.eps = eps\n",
        "\n",
        "        mode_dict = {\n",
        "            'ERM': self.ERM\n",
        "        }\n",
        "\n",
        "        self.f = mode_dict[mode]\n",
        "    \n",
        "    def ERM(self, y_global_orig, mean, std, ds, dm):\n",
        "        gamma = (mean - y_global_orig - self.eps) / (std + self.eps)\n",
        "        gamma_h = (mean - y_global_orig) / (std + self.eps)\n",
        "        dsdx = ds / (2 * (std + self.eps))\n",
        "        dmdx = (dm - gamma * dsdx) / (std + self.eps)\n",
        "        \n",
        "        f = (std + self.eps) * (gamma * norm.cdf(gamma) + norm.pdf(gamma))\n",
        "        df1 = f / (std + self.eps) * dsdx \n",
        "        df2 = (std + self.eps) * norm.cdf(gamma) * dmdx\n",
        "        df = (df1 + df2)[0]\n",
        "        df_arr = []\n",
        "\n",
        "        for j in range(0, dim):\n",
        "          df_arr.append(df)\n",
        "        return f, np.asarray(df_arr).transpose()\n",
        "        \n",
        "    def d_eval(self, y_global_orig, mean, std, ds, dm):\n",
        "    \n",
        "        return self.f(y_global_orig, mean, std, ds, dm, **self.params)\n",
        "        "
      ]
    },
    {
      "cell_type": "code",
      "execution_count": 9,
      "metadata": {
        "id": "PITEQC8YSl7i"
      },
      "outputs": [],
      "source": [
        "## GPGO_multi: \n",
        "\n",
        "class GPGO_multi(GPGO):\n",
        "    n_start = n_start_AcqFunc\n",
        "\n",
        "    def __init__(self, surrogate, acquisition, f, parameter_dict, n_jobs=1):\n",
        "        self.GP = surrogate\n",
        "        self.A = acquisition\n",
        "        self.f = f\n",
        "        self.parameters = parameter_dict\n",
        "        self.n_jobs = n_jobs\n",
        "\n",
        "        self.parameter_key = list(parameter_dict.keys())\n",
        "        self.parameter_value = list(parameter_dict.values())\n",
        "        self.parameter_type = [p[0] for p in self.parameter_value]\n",
        "        self.parameter_range = [p[1] for p in self.parameter_value]\n",
        "\n",
        "        self.history = []\n",
        "        self.header =   'Evaluation \\t Proposed point \\t  Current eval. \\t  Best eval. \\t        Exact EI: StdDev. x \\t Approx EI: StdDev. x '\n",
        "        self.template = '{:3}\\t {}\\t {:3}\\t {:3}\\t {:3}\\t {:3}'\n",
        " \n",
        "    def acqfuncExact(self, xnew, n_start=n_start_AcqFunc):\n",
        "        new_mean, new_var = self.GP.predict(xnew, return_std=True)\n",
        "        new_std = np.sqrt(new_var + eps)\n",
        "        dm, ds = self.GP.AcqGrad(xnew)\n",
        "        f, df = self.A.d_eval(y_global_orig, new_mean, new_std, ds=ds, dm=dm)\n",
        "\n",
        "        return -f, -df\n",
        "   \n",
        "    def acqfuncApprox(self, xnew, n_start=n_start_AcqFunc):\n",
        "        new_mean, new_var = self.GP.predict(xnew, return_std=True)\n",
        "        new_std = np.sqrt(new_var + eps)\n",
        "        dm, ds = self.GP.AcqGrad(xnew)\n",
        "        f, df = self.A.d_eval(y_global_orig, new_mean, new_std, ds=ds, dm=dm)\n",
        "\n",
        "        return -f\n",
        "   \n",
        "    def _optimizeAcq(self, method='L-BFGS-B', n_start=n_start_AcqFunc):\n",
        "        \n",
        "        start_points_dict = [self._sampleParam() for i in range(n_start)]\n",
        "        start_points_arr = np.array([list(s.values())\n",
        "                                     for s in start_points_dict])\n",
        "        x_best = np.empty((n_start, len(self.parameter_key)))\n",
        "        f_best = np.empty((n_start,))\n",
        "        opt = Parallel(n_jobs=self.n_jobs)(delayed(minimize)(self.acqfuncApprox,\n",
        "                                                                 x0=start_point,\n",
        "                                                                 method=method,\n",
        "                                                                 jac = False,\n",
        "                                                                 bounds=self.parameter_range) for start_point in\n",
        "                                               start_points_arr)\n",
        "        x_best = np.array([res.x for res in opt])\n",
        "        f_best = np.array([np.atleast_1d(res.fun)[0] for res in opt])\n",
        "        f_best_min = min(f_best)\n",
        "\n",
        "        self.x_best = x_best\n",
        "        self.f_best = f_best\n",
        "        self.f_best_min = f_best_min\n",
        "        self.x_best_std = np.std(x_best)\n",
        "        self.best = x_best[np.argmin(f_best)]\n",
        "        self.start_points_arr = start_points_arr        \n",
        "        self.history.append(self.x_best_std)\n",
        "\n",
        "        x_best_exact = np.empty((n_start, len(self.parameter_key)))\n",
        "        f_best_exact = np.empty((n_start,))\n",
        "        opt_exact = Parallel(n_jobs=self.n_jobs)(delayed(minimize)(self.acqfuncExact,\n",
        "                                                                 x0=start_point,\n",
        "                                                                 method=method,\n",
        "                                                                 jac = True,\n",
        "                                                                 bounds=self.parameter_range) for start_point in\n",
        "                                               start_points_arr)\n",
        "        x_best_exact = np.array([res.x for res in opt_exact])\n",
        "        f_best_exact = np.array([np.atleast_1d(res.fun)[0] for res in opt_exact])\n",
        "        f_best_min_exact = min(f_best_exact)\n",
        "\n",
        "        self.x_best_exact = x_best_exact\n",
        "        self.f_best_exact = f_best_exact\n",
        "        self.f_best_min_exact = f_best_min_exact\n",
        "        self.x_best_std_exact = np.std(x_best_exact)\n",
        "        self.best_exact = x_best_exact[np.argmin(f_best_exact)]\n",
        "        self.start_points_arr = start_points_arr\n",
        "        self.history.append(self.x_best_std_exact)\n",
        "\n",
        "    def _printInit(self):\n",
        "        print(self.header)\n",
        "        for init_eval in range(self.init_evals):\n",
        "            print(self.template.format('init', self.GP.X[init_eval], inverse * self.GP.y[init_eval], inverse * self.tau, '', ''))\n",
        "      \n",
        "    def _printCurrent(self):\n",
        "        OKGREEN = '\\033[92m'\n",
        "        ENDC = '\\033[0m'\n",
        "        BOLD = '\\033[1m'\n",
        "        eval = str(len(self.GP.y) - self.init_evals)\n",
        "        proposed = str(self.best)\n",
        "        curr_eval = str(inverse * self.GP.y[-1])\n",
        "        curr_best = str(inverse * self.tau)\n",
        "        min_acqfunc = str(self.f_best_min)\n",
        "        min_acqfunc_exact = str(self.f_best_min_exact)\n",
        "        x_best_std = str(self.x_best_std)\n",
        "        x_best_std_exact = str(self.x_best_std_exact)\n",
        "        if float(curr_eval) <= float(curr_best):\n",
        "            eval = BOLD + OKGREEN + eval + ENDC\n",
        "            proposed = BOLD + OKGREEN + proposed + ENDC\n",
        "            curr_eval = BOLD + OKGREEN + curr_eval + ENDC\n",
        "            curr_best = BOLD + OKGREEN + curr_best + ENDC\n",
        "            x_best_std = BOLD + OKGREEN + x_best_std + ENDC\n",
        "            x_best_std_exact = BOLD + OKGREEN + x_best_std_exact + ENDC\n",
        "        print(self.template.format(eval, proposed, curr_eval, curr_best, x_best_std_exact, x_best_std))\n",
        "        \n",
        "    def run(self, max_iter=10, init_evals=3, resume=False):\n",
        "        \n",
        "        if not resume:\n",
        "            self.init_evals = init_evals\n",
        "            self._firstRun(self.init_evals)\n",
        "            self._printInit()\n",
        "        for iteration in range(max_iter):\n",
        "            self._optimizeAcq()\n",
        "            self.updateGP()\n",
        "            self._printCurrent()\n"
      ]
    },
    {
      "cell_type": "code",
      "execution_count": 10,
      "metadata": {
        "id": "b_B-w81BJxKN"
      },
      "outputs": [],
      "source": [
        "## dGPGO:\n",
        "\n",
        "class dGPGO(GPGO):\n",
        "    n_start = n_start_AcqFunc\n",
        "\n",
        "    def __init__(self, surrogate, acquisition, f, parameter_dict, n_jobs=1):\n",
        "        self.GP = surrogate\n",
        "        self.A = acquisition\n",
        "        self.f = f\n",
        "        self.parameters = parameter_dict\n",
        "        self.n_jobs = n_jobs\n",
        "\n",
        "        self.parameter_key = list(parameter_dict.keys())\n",
        "        self.parameter_value = list(parameter_dict.values())\n",
        "        self.parameter_type = [p[0] for p in self.parameter_value]\n",
        "        self.parameter_range = [p[1] for p in self.parameter_value]\n",
        "\n",
        "        self.history = []\n",
        "        self.header =   'Evaluation \\t Proposed point \\t  Current eval. \\t  Best eval. \\t        Exact EI: StdDev. x \\t Approx EI: StdDev. x '\n",
        "        self.template = '{:3}\\t {}\\t {:3}\\t {:3}\\t {:3}\\t {:3}'\n",
        "\n",
        "    def acqfuncExact(self, xnew, n_start=n_start_AcqFunc):\n",
        "        new_mean, new_var = self.GP.predict(xnew, return_std=True)\n",
        "        new_std = np.sqrt(new_var + eps)\n",
        "        dm, ds = self.GP.AcqGrad(xnew)\n",
        "        f, df = self.A.d_eval(y_global_orig, new_mean, new_std, ds=ds, dm=dm)\n",
        "\n",
        "        return -f, -df\n",
        "   \n",
        "    def acqfuncApprox(self, xnew, n_start=n_start_AcqFunc):\n",
        "        new_mean, new_var = self.GP.predict(xnew, return_std=True)\n",
        "        new_std = np.sqrt(new_var + eps)\n",
        "        dm, ds = self.GP.AcqGrad(xnew)\n",
        "        f, df = self.A.d_eval(y_global_orig, new_mean, new_std, ds=ds, dm=dm)\n",
        "\n",
        "        return -f\n",
        "\n",
        "    def d_optimizeAcq(self, method='L-BFGS-B', n_start=n_start_AcqFunc):\n",
        "        start_points_dict = [self._sampleParam() for i in range(n_start)]\n",
        "        start_points_arr = np.array([list(s.values())\n",
        "                                     for s in start_points_dict])\n",
        "        x_best = np.empty((n_start, len(self.parameter_key)))\n",
        "        f_best = np.empty((n_start,))\n",
        "        opt = Parallel(n_jobs=self.n_jobs)(delayed(minimize)(self.acqfuncExact,\n",
        "                                                                 x0=start_point,\n",
        "                                                                 method=method,\n",
        "                                                                 jac = True,\n",
        "                                                                 bounds=self.parameter_range) for start_point in\n",
        "                                               start_points_arr)\n",
        "        x_best = np.array([res.x for res in opt])\n",
        "        f_best = np.array([np.atleast_1d(res.fun)[0] for res in opt])\n",
        "        f_best_min = min(f_best)\n",
        "\n",
        "        self.x_best = x_best\n",
        "        self.f_best = f_best\n",
        "        self.f_best_min = f_best_min\n",
        "        self.x_best_std = np.std(x_best)\n",
        "        self.best = x_best[np.argmin(f_best)]\n",
        "        self.start_points_arr = start_points_arr\n",
        "        self.history.append(self.x_best_std)\n",
        "\n",
        "        x_best_approx = np.empty((n_start, len(self.parameter_key)))\n",
        "        f_best_approx = np.empty((n_start,))\n",
        "        opt_approx = Parallel(n_jobs=self.n_jobs)(delayed(minimize)(self.acqfuncApprox,\n",
        "                                                                 x0=start_point,\n",
        "                                                                 method=method,\n",
        "                                                                 jac = False,\n",
        "                                                                 bounds=self.parameter_range) for start_point in\n",
        "                                               start_points_arr)\n",
        "        x_best_approx = np.array([res.x for res in opt_approx])\n",
        "        f_best_approx = np.array([np.atleast_1d(res.fun)[0] for res in opt_approx])\n",
        "        f_best_min_approx = min(f_best_approx)\n",
        "\n",
        "        self.x_best_approx = x_best_approx\n",
        "        self.f_best_approx = f_best_approx\n",
        "        self.f_best_min_approx = f_best_min_approx\n",
        "        self.x_best_std_approx = np.std(x_best_approx)\n",
        "        self.best_approx = x_best_approx[np.argmin(f_best_approx)]\n",
        "        self.start_points_arr = start_points_arr\n",
        "        self.history.append(self.x_best_std_approx)\n",
        "    \n",
        "    def _printInit(self):\n",
        "        print(self.header)\n",
        "        for init_eval in range(self.init_evals):\n",
        "            print(self.template.format('init', self.GP.X[init_eval], inverse * self.GP.y[init_eval], inverse * self.tau, '', ''))\n",
        "      \n",
        "    def _printCurrent(self):\n",
        "        OKGREEN = '\\033[92m'\n",
        "        ENDC = '\\033[0m'\n",
        "        BOLD = '\\033[1m'\n",
        "        eval = str(len(self.GP.y) - self.init_evals)\n",
        "        proposed = str(self.best)\n",
        "        curr_eval = str(inverse * self.GP.y[-1])\n",
        "        curr_best = str(inverse * self.tau)\n",
        "        min_acqfunc = str(self.f_best_min)\n",
        "        min_acqfunc_approx = str(self.f_best_min_approx)\n",
        "        x_best_std = str(self.x_best_std)\n",
        "        x_best_std_approx = str(self.x_best_std_approx)\n",
        "        if float(curr_eval) <= float(curr_best):\n",
        "            eval = BOLD + OKGREEN + eval + ENDC\n",
        "            proposed = BOLD + OKGREEN + proposed + ENDC\n",
        "            curr_eval = BOLD + OKGREEN + curr_eval + ENDC\n",
        "            curr_best = BOLD + OKGREEN + curr_best + ENDC\n",
        "            x_best_std = BOLD + OKGREEN + x_best_std + ENDC\n",
        "            x_best_std_approx = BOLD + OKGREEN + x_best_std_approx + ENDC\n",
        "        print(self.template.format(eval, proposed, curr_eval, curr_best, x_best_std, x_best_std_approx))\n",
        "\n",
        "    def run(self, max_iter=10, init_evals=3, resume=False):\n",
        "        \n",
        "        if not resume:\n",
        "            self.init_evals = init_evals\n",
        "            self._firstRun(self.init_evals)\n",
        "            self._printInit()\n",
        "        for iteration in range(max_iter):\n",
        "            self.d_optimizeAcq()\n",
        "            self.updateGP()\n",
        "            self._printCurrent()\n"
      ]
    },
    {
      "cell_type": "code",
      "execution_count": 11,
      "metadata": {
        "id": "qXIKGuXVGEg2"
      },
      "outputs": [],
      "source": [
        "###Reproducible set-seeds:\n",
        "\n",
        "run_num_1 = 1\n",
        "run_num_2 = 2\n",
        "run_num_3 = 3\n",
        "run_num_4 = 4\n",
        "run_num_5 = 5\n",
        "run_num_6 = 6\n",
        "run_num_7 = 7\n",
        "run_num_8 = 8\n",
        "run_num_9 = 9\n",
        "run_num_10 = 10\n",
        "run_num_11 = 11\n",
        "run_num_12 = 12\n",
        "run_num_13 = 13\n",
        "run_num_14 = 14\n",
        "run_num_15 = 15\n",
        "run_num_16 = 16\n",
        "run_num_17 = 17\n",
        "run_num_18 = 18\n",
        "run_num_19 = 19\n",
        "run_num_20 = 20\n"
      ]
    },
    {
      "cell_type": "code",
      "execution_count": 12,
      "metadata": {
        "colab": {
          "base_uri": "https://localhost:8080/"
        },
        "id": "JEhagQmnTVIK",
        "outputId": "d5c03e46-a782-4eab-92f1-2cfe484cc672"
      },
      "outputs": [
        {
          "output_type": "execute_result",
          "data": {
            "text/plain": [
              "1659618311.4252632"
            ]
          },
          "metadata": {},
          "execution_count": 12
        }
      ],
      "source": [
        "start_approx = time.time()\n",
        "start_approx\n"
      ]
    },
    {
      "cell_type": "code",
      "execution_count": 13,
      "metadata": {
        "colab": {
          "base_uri": "https://localhost:8080/"
        },
        "id": "aH0YSTXufD1v",
        "outputId": "5ef80d6d-1efd-4640-d7ba-f1de889ce283"
      },
      "outputs": [
        {
          "output_type": "stream",
          "name": "stdout",
          "text": [
            "Evaluation \t Proposed point \t  Current eval. \t  Best eval. \t        Exact EI: StdDev. x \t Approx EI: StdDev. x \n",
            "init\t [-0.49786797  0.88129797]\t -0.2650082867644827\t -0.2650082867644827\t    \t    \n",
            "init\t [-2.99931375 -0.79066971]\t 110.13991869176735\t -0.2650082867644827\t    \t    \n",
            "init\t [-2.11946466 -1.63064562]\t 26.90935479429681\t -0.2650082867644827\t    \t    \n",
            "init\t [-1.88243873 -0.61775709]\t 2.8558363102363344\t -0.2650082867644827\t    \t    \n",
            "init\t [-0.61939515  0.15526694]\t 1.0540522096005847\t -0.2650082867644827\t    \t    \n",
            "1  \t [-1.19341382 -0.31137185]\t 2.421583998850421\t -0.2650082867644827\t 1.645326235622079\t 1.6778193987387862\n",
            "2  \t [-0.26417092  1.57383191]\t 14.486546148673073\t -0.2650082867644827\t 1.3603409730734246\t 1.3502421487638805\n",
            "3  \t [ 3.        -0.2151866]\t 108.07779582112632\t -0.2650082867644827\t 1.7320491391492485\t 1.9925333853097293\n",
            "4  \t [ 0.63767033 -2.        ]\t 48.0263443499383\t -0.2650082867644827\t 1.757012874469322\t 1.9890405043022725\n",
            "5  \t [-3.  2.]\t 150.89999999999998\t -0.2650082867644827\t 1.3607341336958763\t 1.6784748856726357\n",
            "6  \t [-0.7721403  -0.09292335]\t 1.7464966226962344\t -0.2650082867644827\t 1.391347262948696\t 1.2999564314003944\n",
            "7  \t [-0.77685072 -0.08489894]\t 1.7597465136242672\t -0.2650082867644827\t 1.5612937391537653\t 1.4730295079343212\n",
            "8  \t [-0.77959181 -0.08012579]\t 1.7671440896629524\t -0.2650082867644827\t 1.638835825105634\t 1.5586741507306472\n",
            "9  \t [-0.78138114 -0.07699167]\t 1.7718466763745202\t -0.2650082867644827\t 1.5782920196546721\t 1.4982971879915503\n",
            "10 \t [-0.78263717 -0.07479858]\t 1.775090077046181\t -0.2650082867644827\t 1.5639570769893745\t 1.560548160766595\n",
            "11 \t [-0.78356452 -0.07319292]\t 1.777456359427749\t -0.2650082867644827\t 1.3874458415256228\t 1.3417908993985883\n",
            "12 \t [-0.78427488 -0.07197612]\t 1.779254136723746\t -0.2650082867644827\t 1.4676674313638942\t 1.4460706915489119\n",
            "13 \t [1.91400641 2.        ]\t 54.686824854255725\t -0.2650082867644827\t 1.3057653364921207\t 1.233167036813803\n",
            "14 \t [-0.7857137  -0.04589109]\t 1.7751181237794362\t -0.2650082867644827\t 1.4325991217624385\t 1.4010301945473023\n",
            "15 \t [-0.78619166 -0.04613876]\t 1.7765866728116346\t -0.2650082867644827\t 1.3538887732270735\t 1.3508925237922287\n",
            "16 \t [-0.78658483 -0.04634197]\t 1.7777936742204594\t -0.2650082867644827\t 1.3776515987741043\t 1.3516802017925225\n",
            "17 \t [-0.78691352 -0.04651135]\t 1.7788019401640114\t -0.2650082867644827\t 1.432465711095345\t 1.3639228022305976\n",
            "18 \t [-0.7871916  -0.04665418]\t 1.779654359018308\t -0.2650082867644827\t 1.4209231999126803\t 1.4076649782474233\n",
            "19 \t [-0.78742937 -0.046776  ]\t 1.7803827845506848\t -0.2650082867644827\t 1.6203815432672493\t 1.5718030380687495\n",
            "20 \t [-0.78763478 -0.04688042]\t 1.7810114894135984\t -0.2650082867644827\t 1.5307677305123721\t 1.5304195555599682\n"
          ]
        }
      ],
      "source": [
        "### ESTIMATED GP EI GRADIENTS\n",
        "\n",
        "np.random.seed(run_num_1)\n",
        "surrogate_approx_1 = dGaussianProcess(cov_func, optimize=opt)\n",
        "\n",
        "approx_1 = GPGO_multi(surrogate_approx_1, Acquisition_grad(util), objfunc, param)\n",
        "approx_1.run(init_evals=n_init, max_iter=iters)\n"
      ]
    },
    {
      "cell_type": "code",
      "execution_count": 14,
      "metadata": {
        "id": "wTxsSZxFGBB5",
        "colab": {
          "base_uri": "https://localhost:8080/"
        },
        "outputId": "40ae0e85-659f-4ea1-b446-0af2d4940cf2"
      },
      "outputs": [
        {
          "output_type": "stream",
          "name": "stdout",
          "text": [
            "Evaluation \t Proposed point \t  Current eval. \t  Best eval. \t        Exact EI: StdDev. x \t Approx EI: StdDev. x \n",
            "init\t [-0.38403059 -1.89629507]\t 38.61280125654363\t 0.011939608840498828\t    \t    \n",
            "init\t [ 0.29797487 -0.25871043]\t 0.011939608840498828\t 0.011939608840498828\t    \t    \n",
            "init\t [-0.47779319 -0.67866072]\t 0.1381453419305213\t 0.011939608840498828\t    \t    \n",
            "init\t [-1.7721082   0.47708387]\t 0.626144759281101\t 0.011939608840498828\t    \t    \n",
            "init\t [-1.20207196 -0.9326909 ]\t 3.0693811601417798\t 0.011939608840498828\t    \t    \n",
            "1  \t [-0.3681276  -0.12035723]\t 0.4915373208141341\t 0.011939608840498828\t 1.8271840313611294\t 1.9016469625565071\n",
            "2  \t [ 1.80659886 -0.19008252]\t 1.7915637878958182\t 0.011939608840498828\t 1.45937112967594\t 1.782526001414824\n",
            "3  \t [0.6769146 2.       ]\t 50.77783653131087\t 0.011939608840498828\t 2.037619052952563\t 2.1018685922380027\n",
            "4  \t [ 3. -2.]\t 150.89999999999998\t 0.011939608840498828\t 2.0066307859404615\t 2.309015639939591\n",
            "5  \t [-3.  2.]\t 150.89999999999998\t 0.011939608840498828\t 2.1037396280243903\t 2.185859344277678\n",
            "6  \t [-3. -2.]\t 162.89999999999998\t 0.011939608840498828\t 2.0195214449966263\t 2.0062637904257867\n",
            "7  \t [3. 2.]\t 162.89999999999998\t 0.011939608840498828\t 1.2663624236390194\t 1.307940260741825\n",
            "8  \t [-0.97425619  0.03469092]\t 2.1511822929129574\t 0.011939608840498828\t 1.2925090117390654\t 1.2542903434934682\n",
            "9  \t [-0.95858     0.01502435]\t 2.1457118055818802\t 0.011939608840498828\t 1.430616511166596\t 1.4121904829673169\n",
            "10 \t [-0.94789314  0.00378583]\t 2.13680785768715\t 0.011939608840498828\t 1.3919177290772198\t 1.4007057298612524\n",
            "11 \t [-0.94026121 -0.00353633]\t 2.128583869414238\t 0.011939608840498828\t 1.4749322250261696\t 1.4889125501733527\n",
            "12 \t [-0.93461591 -0.0086819 ]\t 2.1216764006332727\t 0.011939608840498828\t 1.1834019905839999\t 1.1948869441464975\n",
            "13 \t [-0.93033243 -0.01247854]\t 2.116029980762611\t 0.011939608840498828\t 1.4678717571767523\t 1.4726606386559102\n",
            "14 \t [-0.92701792 -0.01537843]\t 2.111449334515174\t 0.011939608840498828\t 1.5342504117414788\t 1.54997709930788\n",
            "15 \t [ 0.75623905 -0.24196564]\t 1.2596372082584677\t 0.011939608840498828\t 1.4239125152074934\t 1.4235006540482882\n",
            "16 \t [-0.92770512 -0.01742821]\t 2.1145298356001683\t 0.011939608840498828\t 1.3201208618064795\t 1.3041952667205194\n",
            "17 \t [ 0.75397528 -0.24287748]\t 1.2513375432221985\t 0.011939608840498828\t 1.4294268215081734\t 1.3988379041496142\n",
            "18 \t [ 0.75031771 -0.24293162]\t 1.241396540323234\t 0.011939608840498828\t 1.3806250194151624\t 1.3516056137975654\n",
            "19 \t [-0.92820235 -0.01905905]\t 2.1168524634913712\t 0.011939608840498828\t 1.3779445414004068\t 1.3726534089171416\n",
            "20 \t [ 0.75160953 -0.2436355 ]\t 1.2431282406867508\t 0.011939608840498828\t 1.4435028456775525\t 1.3986452419400721\n"
          ]
        }
      ],
      "source": [
        "### ESTIMATED GP EI GRADIENTS\n",
        "\n",
        "np.random.seed(run_num_2)\n",
        "surrogate_approx_2 = dGaussianProcess(cov_func, optimize=opt)\n",
        "\n",
        "approx_2 = GPGO_multi(surrogate_approx_2, Acquisition_grad(util), objfunc, param)\n",
        "approx_2.run(init_evals=n_init, max_iter=iters)\n"
      ]
    },
    {
      "cell_type": "code",
      "execution_count": 15,
      "metadata": {
        "id": "-dgzIrUIGCGT",
        "colab": {
          "base_uri": "https://localhost:8080/"
        },
        "outputId": "75b95873-4301-4784-c792-09f519250927"
      },
      "outputs": [
        {
          "output_type": "stream",
          "name": "stdout",
          "text": [
            "Evaluation \t Proposed point \t  Current eval. \t  Best eval. \t        Exact EI: StdDev. x \t Approx EI: StdDev. x \n",
            "init\t [0.30478742 0.83259129]\t -0.2431922946563294\t -0.2431922946563294\t    \t    \n",
            "init\t [-1.25457157  0.04331042]\t 2.3313310458730996\t -0.2431922946563294\t    \t    \n",
            "init\t [2.35768173 1.58517236]\t 33.54152175045586\t -0.2431922946563294\t    \t    \n",
            "init\t [-2.24648814 -1.17102849]\t 14.214109412296352\t -0.2431922946563294\t    \t    \n",
            "init\t [-2.69119678 -0.23676063]\t 45.87579771712209\t -0.2431922946563294\t    \t    \n",
            "\u001b[1m\u001b[92m1\u001b[0m\t \u001b[1m\u001b[92m[-0.24305512  0.34971383]\u001b[0m\t \u001b[1m\u001b[92m-0.2853268573966015\u001b[0m\t \u001b[1m\u001b[92m-0.2853268573966015\u001b[0m\t \u001b[1m\u001b[92m1.070840000306685\u001b[0m\t \u001b[1m\u001b[92m1.0803297857748255\u001b[0m\n",
            "\u001b[1m\u001b[92m2\u001b[0m\t \u001b[1m\u001b[92m[-0.26006975  0.42913132]\u001b[0m\t \u001b[1m\u001b[92m-0.4515270672069855\u001b[0m\t \u001b[1m\u001b[92m-0.4515270672069855\u001b[0m\t \u001b[1m\u001b[92m1.249365732929244\u001b[0m\t \u001b[1m\u001b[92m1.0100224945088607\u001b[0m\n",
            "\u001b[1m\u001b[92m3\u001b[0m\t \u001b[1m\u001b[92m[-0.25768479  0.42863954]\u001b[0m\t \u001b[1m\u001b[92m-0.4539075570428663\u001b[0m\t \u001b[1m\u001b[92m-0.4539075570428663\u001b[0m\t \u001b[1m\u001b[92m1.309443952079346\u001b[0m\t \u001b[1m\u001b[92m1.0488260906156006\u001b[0m\n",
            "\u001b[1m\u001b[92m4\u001b[0m\t \u001b[1m\u001b[92m[-0.256491    0.42879016]\u001b[0m\t \u001b[1m\u001b[92m-0.45604873421630643\u001b[0m\t \u001b[1m\u001b[92m-0.45604873421630643\u001b[0m\t \u001b[1m\u001b[92m1.120795390284809\u001b[0m\t \u001b[1m\u001b[92m1.101272411868872\u001b[0m\n",
            "\u001b[1m\u001b[92m5\u001b[0m\t \u001b[1m\u001b[92m[-0.2557759   0.42898955]\u001b[0m\t \u001b[1m\u001b[92m-0.4575914768762207\u001b[0m\t \u001b[1m\u001b[92m-0.4575914768762207\u001b[0m\t \u001b[1m\u001b[92m1.3918760297706794\u001b[0m\t \u001b[1m\u001b[92m1.3891224515310054\u001b[0m\n",
            "\u001b[1m\u001b[92m6\u001b[0m\t \u001b[1m\u001b[92m[-0.25529962  0.42915436]\u001b[0m\t \u001b[1m\u001b[92m-0.45869458134462665\u001b[0m\t \u001b[1m\u001b[92m-0.45869458134462665\u001b[0m\t \u001b[1m\u001b[92m1.2091867152945461\u001b[0m\t \u001b[1m\u001b[92m1.168651191868275\u001b[0m\n",
            "\u001b[1m\u001b[92m7\u001b[0m\t \u001b[1m\u001b[92m[-0.25496042  0.429282  ]\u001b[0m\t \u001b[1m\u001b[92m-0.459504117942359\u001b[0m\t \u001b[1m\u001b[92m-0.459504117942359\u001b[0m\t \u001b[1m\u001b[92m1.2231304250401194\u001b[0m\t \u001b[1m\u001b[92m1.1795955219432532\u001b[0m\n",
            "\u001b[1m\u001b[92m8\u001b[0m\t \u001b[1m\u001b[92m[-0.25470683  0.42938097]\u001b[0m\t \u001b[1m\u001b[92m-0.4601173493468728\u001b[0m\t \u001b[1m\u001b[92m-0.4601173493468728\u001b[0m\t \u001b[1m\u001b[92m1.2890476358114265\u001b[0m\t \u001b[1m\u001b[92m1.511874416217542\u001b[0m\n",
            "\u001b[1m\u001b[92m9\u001b[0m\t \u001b[1m\u001b[92m[-0.25451034  0.42945838]\u001b[0m\t \u001b[1m\u001b[92m-0.460593916305982\u001b[0m\t \u001b[1m\u001b[92m-0.460593916305982\u001b[0m\t \u001b[1m\u001b[92m1.1947486916623784\u001b[0m\t \u001b[1m\u001b[92m0.9880268963383058\u001b[0m\n",
            "\u001b[1m\u001b[92m10\u001b[0m\t \u001b[1m\u001b[92m[-0.25435403  0.4295205 ]\u001b[0m\t \u001b[1m\u001b[92m-0.4609741745671266\u001b[0m\t \u001b[1m\u001b[92m-0.4609741745671266\u001b[0m\t \u001b[1m\u001b[92m1.2262850826219538\u001b[0m\t \u001b[1m\u001b[92m1.3316017071012043\u001b[0m\n",
            "\u001b[1m\u001b[92m11\u001b[0m\t \u001b[1m\u001b[92m[-0.25422688  0.42957075]\u001b[0m\t \u001b[1m\u001b[92m-0.4612826541438582\u001b[0m\t \u001b[1m\u001b[92m-0.4612826541438582\u001b[0m\t \u001b[1m\u001b[92m1.349029924921644\u001b[0m\t \u001b[1m\u001b[92m1.1871852471072997\u001b[0m\n",
            "\u001b[1m\u001b[92m12\u001b[0m\t \u001b[1m\u001b[92m[-0.25412123  0.4296115 ]\u001b[0m\t \u001b[1m\u001b[92m-0.46153646956089656\u001b[0m\t \u001b[1m\u001b[92m-0.46153646956089656\u001b[0m\t \u001b[1m\u001b[92m1.3109714203754381\u001b[0m\t \u001b[1m\u001b[92m1.227981409305078\u001b[0m\n",
            "\u001b[1m\u001b[92m13\u001b[0m\t \u001b[1m\u001b[92m[-0.25403291  0.42964657]\u001b[0m\t \u001b[1m\u001b[92m-0.46175101213390685\u001b[0m\t \u001b[1m\u001b[92m-0.46175101213390685\u001b[0m\t \u001b[1m\u001b[92m1.3798300549102314\u001b[0m\t \u001b[1m\u001b[92m1.4353877800903798\u001b[0m\n",
            "\u001b[1m\u001b[92m14\u001b[0m\t \u001b[1m\u001b[92m[-0.25395745  0.42967682]\u001b[0m\t \u001b[1m\u001b[92m-0.46193495105276067\u001b[0m\t \u001b[1m\u001b[92m-0.46193495105276067\u001b[0m\t \u001b[1m\u001b[92m1.1087002917527082\u001b[0m\t \u001b[1m\u001b[92m0.9609330612793575\u001b[0m\n",
            "\u001b[1m\u001b[92m15\u001b[0m\t \u001b[1m\u001b[92m[-0.25389235  0.42970182]\u001b[0m\t \u001b[1m\u001b[92m-0.4620909599488068\u001b[0m\t \u001b[1m\u001b[92m-0.4620909599488068\u001b[0m\t \u001b[1m\u001b[92m1.184151992491448\u001b[0m\t \u001b[1m\u001b[92m1.0257459128150848\u001b[0m\n",
            "\u001b[1m\u001b[92m16\u001b[0m\t \u001b[1m\u001b[92m[-0.25383554  0.42972299]\u001b[0m\t \u001b[1m\u001b[92m-0.46222550979015226\u001b[0m\t \u001b[1m\u001b[92m-0.46222550979015226\u001b[0m\t \u001b[1m\u001b[92m1.3575599539873766\u001b[0m\t \u001b[1m\u001b[92m1.3041771191189477\u001b[0m\n",
            "\u001b[1m\u001b[92m17\u001b[0m\t \u001b[1m\u001b[92m[-0.25378611  0.42974241]\u001b[0m\t \u001b[1m\u001b[92m-0.46234498462974705\u001b[0m\t \u001b[1m\u001b[92m-0.46234498462974705\u001b[0m\t \u001b[1m\u001b[92m1.069813953428804\u001b[0m\t \u001b[1m\u001b[92m1.0750559731765035\u001b[0m\n",
            "\u001b[1m\u001b[92m18\u001b[0m\t \u001b[1m\u001b[92m[-0.25374211  0.42975898]\u001b[0m\t \u001b[1m\u001b[92m-0.4624496011341913\u001b[0m\t \u001b[1m\u001b[92m-0.4624496011341913\u001b[0m\t \u001b[1m\u001b[92m1.4412634123304109\u001b[0m\t \u001b[1m\u001b[92m1.6017212511563108\u001b[0m\n",
            "\u001b[1m\u001b[92m19\u001b[0m\t \u001b[1m\u001b[92m[-0.25370306  0.42977367]\u001b[0m\t \u001b[1m\u001b[92m-0.4625423738536269\u001b[0m\t \u001b[1m\u001b[92m-0.4625423738536269\u001b[0m\t \u001b[1m\u001b[92m1.1943483567741553\u001b[0m\t \u001b[1m\u001b[92m1.174978232066202\u001b[0m\n",
            "\u001b[1m\u001b[92m20\u001b[0m\t \u001b[1m\u001b[92m[-0.25366826  0.42978719]\u001b[0m\t \u001b[1m\u001b[92m-0.46262608854334764\u001b[0m\t \u001b[1m\u001b[92m-0.46262608854334764\u001b[0m\t \u001b[1m\u001b[92m1.0555040780616332\u001b[0m\t \u001b[1m\u001b[92m0.9566464995891838\u001b[0m\n"
          ]
        }
      ],
      "source": [
        "### ESTIMATED GP EI GRADIENTS\n",
        "\n",
        "np.random.seed(run_num_3)\n",
        "surrogate_approx_3 = dGaussianProcess(cov_func, optimize=opt)\n",
        "\n",
        "approx_3 = GPGO_multi(surrogate_approx_3, Acquisition_grad(util), objfunc, param)\n",
        "approx_3.run(init_evals=n_init, max_iter=iters)\n"
      ]
    },
    {
      "cell_type": "code",
      "execution_count": 16,
      "metadata": {
        "id": "hOtG-2sCGCKS",
        "colab": {
          "base_uri": "https://localhost:8080/"
        },
        "outputId": "4809b11c-fc13-4b36-a6a6-6ff2ac12f82d"
      },
      "outputs": [
        {
          "output_type": "stream",
          "name": "stdout",
          "text": [
            "Evaluation \t Proposed point \t  Current eval. \t  Best eval. \t        Exact EI: StdDev. x \t Approx EI: StdDev. x \n",
            "init\t [2.80217903 0.188929  ]\t 63.70212732873661\t 2.3196402150601703\t    \t    \n",
            "init\t [2.83610616 0.85926397]\t 71.43837110827245\t 2.3196402150601703\t    \t    \n",
            "init\t [ 1.18637295 -1.13564202]\t 2.5463267765341566\t 2.3196402150601703\t    \t    \n",
            "init\t [ 2.85764673 -1.97507898]\t 113.76785286351424\t 2.3196402150601703\t    \t    \n",
            "init\t [-1.48210583 -0.26083387]\t 2.3196402150601703\t 2.3196402150601703\t    \t    \n",
            "\u001b[1m\u001b[92m1\u001b[0m\t \u001b[1m\u001b[92m[ 0.13560949 -1.09282161]\u001b[0m\t \u001b[1m\u001b[92m0.8526372146143782\u001b[0m\t \u001b[1m\u001b[92m0.8526372146143782\u001b[0m\t \u001b[1m\u001b[92m1.5620230230601773\u001b[0m\t \u001b[1m\u001b[92m1.8285561060845568\u001b[0m\n",
            "\u001b[1m\u001b[92m2\u001b[0m\t \u001b[1m\u001b[92m[ 0.16415822 -1.07248391]\u001b[0m\t \u001b[1m\u001b[92m0.621369439801241\u001b[0m\t \u001b[1m\u001b[92m0.621369439801241\u001b[0m\t \u001b[1m\u001b[92m1.7203371118483077\u001b[0m\t \u001b[1m\u001b[92m1.7213174821484392\u001b[0m\n",
            "3  \t [-3.  2.]\t 150.89999999999998\t 0.621369439801241\t 1.6134388658844585\t 2.0003466276127764\n",
            "\u001b[1m\u001b[92m4\u001b[0m\t \u001b[1m\u001b[92m[ 0.13958176 -1.00387117]\u001b[0m\t \u001b[1m\u001b[92m-0.03171452632500846\u001b[0m\t \u001b[1m\u001b[92m-0.03171452632500846\u001b[0m\t \u001b[1m\u001b[92m1.9815202578300042\u001b[0m\t \u001b[1m\u001b[92m1.8025628384067325\u001b[0m\n",
            "5  \t [-3. -2.]\t 162.89999999999998\t -0.03171452632500846\t 1.7387558328500705\t 1.6150634432163407\n",
            "6  \t [-0.28501166 -0.11262317]\t 0.2932547744233629\t -0.03171452632500846\t 1.4160853795010377\t 1.3907947847207836\n",
            "\u001b[1m\u001b[92m7\u001b[0m\t \u001b[1m\u001b[92m[ 0.10115929 -0.6987554 ]\u001b[0m\t \u001b[1m\u001b[92m-1.0294209496501727\u001b[0m\t \u001b[1m\u001b[92m-1.0294209496501727\u001b[0m\t \u001b[1m\u001b[92m1.2389514458488258\u001b[0m\t \u001b[1m\u001b[92m1.2180711435404041\u001b[0m\n",
            "8  \t [ 0.0850492  -0.65610532]\t -1.007642165271842\t -1.0294209496501727\t 1.3044249929079883\t 1.2444778752941599\n",
            "9  \t [ 0.07244273 -0.62492271]\t -0.9764009688186314\t -1.0294209496501727\t 1.3020339360656534\t 1.2970794452850487\n",
            "10 \t [ 0.06256154 -0.60175656]\t -0.9459696252027703\t -1.0294209496501727\t 1.749575925996448\t 1.7403449789105139\n",
            "11 \t [ 0.05479611 -0.58430729]\t -0.9194294466883461\t -1.0294209496501727\t 1.6022792202429947\t 1.5784843550788734\n",
            "12 \t [ 0.04867509 -0.57100787]\t -0.897294158157808\t -1.0294209496501727\t 1.4467755984719433\t 1.2648446866094987\n",
            "13 \t [ 0.04383316 -0.56076533]\t -0.8791987845035086\t -1.0294209496501727\t 1.2532871592743773\t 1.1914932837248795\n",
            "14 \t [ 0.0399859 -0.5527987]\t -0.8645274380942869\t -1.0294209496501727\t 1.2275562158147053\t 1.1730074657527996\n",
            "15 \t [ 0.03691267 -0.54654303]\t -0.8526562731949542\t -1.0294209496501727\t 1.4968170922016122\t 1.4315012581856508\n",
            "16 \t [ 0.03444274 -0.54158463]\t -0.8430348546211561\t -1.0294209496501727\t 1.3789573022994484\t 1.3256047249222467\n",
            "17 \t [ 0.03244442 -0.5376184 ]\t -0.8352071038151466\t -1.0294209496501727\t 1.3836975692520186\t 1.3463965905435873\n",
            "18 \t [ 0.03081663 -0.5344173 ]\t -0.8288059010888627\t -1.0294209496501727\t 1.3882686552913106\t 1.2772176186380881\n",
            "19 \t [ 0.02948131 -0.5318116 ]\t -0.8235411043601817\t -1.0294209496501727\t 1.4584913321664832\t 1.3795405644888068\n",
            "20 \t [ 0.02837776 -0.5296723 ]\t -0.8191826942356969\t -1.0294209496501727\t 1.2373623202400093\t 1.2351929722726178\n"
          ]
        }
      ],
      "source": [
        "### ESTIMATED GP EI GRADIENTS\n",
        "\n",
        "np.random.seed(run_num_4)\n",
        "surrogate_approx_4 = dGaussianProcess(cov_func, optimize=opt)\n",
        "\n",
        "approx_4= GPGO_multi(surrogate_approx_4, Acquisition_grad(util), objfunc, param)\n",
        "approx_4.run(init_evals=n_init, max_iter=iters)\n"
      ]
    },
    {
      "cell_type": "code",
      "execution_count": 17,
      "metadata": {
        "id": "JF_SxcEvGCOl",
        "colab": {
          "base_uri": "https://localhost:8080/"
        },
        "outputId": "82fe7e34-b252-4d64-e8f3-08d89d518b40"
      },
      "outputs": [
        {
          "output_type": "stream",
          "name": "stdout",
          "text": [
            "Evaluation \t Proposed point \t  Current eval. \t  Best eval. \t        Exact EI: StdDev. x \t Approx EI: StdDev. x \n",
            "init\t [-1.66804097  1.48292922]\t 10.126030408244933\t -0.6512780061070701\t    \t    \n",
            "init\t [-1.75968507  1.67444363]\t 19.4300499315822\t -0.6512780061070701\t    \t    \n",
            "init\t [-0.06953287  0.44697545]\t -0.6512780061070701\t -0.6512780061070701\t    \t    \n",
            "init\t [1.59544714 0.07367195]\t 2.168775388880503\t -0.6512780061070701\t    \t    \n",
            "init\t [-1.21919699 -1.24911509]\t 7.420330936884148\t -0.6512780061070701\t    \t    \n",
            "1  \t [0.06573748 0.46338719]\t -0.6267704470925572\t -0.6512780061070701\t 1.902985995553426\t 2.077654598203811\n",
            "2  \t [0.06156173 0.46589639]\t -0.6359679355909886\t -0.6512780061070701\t 1.885032074155294\t 1.7899134520808095\n",
            "3  \t [0.06077086 0.46792597]\t -0.6408741648878454\t -0.6512780061070701\t 1.9648874832142915\t 1.9356175250512546\n",
            "4  \t [0.06079101 0.46953724]\t -0.6441440522518064\t -0.6512780061070701\t 1.7173388539236167\t 1.9559997896566854\n",
            "5  \t [0.06105904 0.4708657 ]\t -0.646594467224858\t -0.6512780061070701\t 1.8813777472299253\t 1.9970086433207113\n",
            "6  \t [0.06140792 0.47199884]\t -0.6485643821060685\t -0.6512780061070701\t 1.9790998782662306\t 2.0616889594180137\n",
            "7  \t [0.06177917 0.47299161]\t -0.6502226722010405\t -0.6512780061070701\t 1.6617588025132148\t 1.8446837853308182\n",
            "\u001b[1m\u001b[92m8\u001b[0m\t \u001b[1m\u001b[92m[0.06215045 0.47388015]\u001b[0m\t \u001b[1m\u001b[92m-0.6516652478901209\u001b[0m\t \u001b[1m\u001b[92m-0.6516652478901209\u001b[0m\t \u001b[1m\u001b[92m1.8695666008600593\u001b[0m\t \u001b[1m\u001b[92m2.050707170823731\u001b[0m\n",
            "\u001b[1m\u001b[92m9\u001b[0m\t \u001b[1m\u001b[92m[0.06251245 0.47468845]\u001b[0m\t \u001b[1m\u001b[92m-0.6529505191737697\u001b[0m\t \u001b[1m\u001b[92m-0.6529505191737697\u001b[0m\t \u001b[1m\u001b[92m1.801568626628669\u001b[0m\t \u001b[1m\u001b[92m2.001768029282416\u001b[0m\n",
            "\u001b[1m\u001b[92m10\u001b[0m\t \u001b[1m\u001b[92m[0.06286324 0.47543393]\u001b[0m\t \u001b[1m\u001b[92m-0.6541163274409209\u001b[0m\t \u001b[1m\u001b[92m-0.6541163274409209\u001b[0m\t \u001b[1m\u001b[92m1.894114885966016\u001b[0m\t \u001b[1m\u001b[92m1.6338596601064042\u001b[0m\n",
            "\u001b[1m\u001b[92m11\u001b[0m\t \u001b[1m\u001b[92m[0.06320187 0.47612923]\u001b[0m\t \u001b[1m\u001b[92m-0.6551896641151093\u001b[0m\t \u001b[1m\u001b[92m-0.6551896641151093\u001b[0m\t \u001b[1m\u001b[92m1.6686420819016017\u001b[0m\t \u001b[1m\u001b[92m1.8642601240577894\u001b[0m\n",
            "\u001b[1m\u001b[92m12\u001b[0m\t \u001b[1m\u001b[92m[0.06352859 0.47678338]\u001b[0m\t \u001b[1m\u001b[92m-0.6561889608384851\u001b[0m\t \u001b[1m\u001b[92m-0.6561889608384851\u001b[0m\t \u001b[1m\u001b[92m1.8266947865624557\u001b[0m\t \u001b[1m\u001b[92m1.7293271561651542\u001b[0m\n",
            "\u001b[1m\u001b[92m13\u001b[0m\t \u001b[1m\u001b[92m[0.06384534 0.47740435]\u001b[0m\t \u001b[1m\u001b[92m-0.6571287331717156\u001b[0m\t \u001b[1m\u001b[92m-0.6571287331717156\u001b[0m\t \u001b[1m\u001b[92m1.8775923427459997\u001b[0m\t \u001b[1m\u001b[92m1.9686017560669826\u001b[0m\n",
            "\u001b[1m\u001b[92m14\u001b[0m\t \u001b[1m\u001b[92m[0.06415252 0.47799752]\u001b[0m\t \u001b[1m\u001b[92m-0.6580197157248786\u001b[0m\t \u001b[1m\u001b[92m-0.6580197157248786\u001b[0m\t \u001b[1m\u001b[92m1.3893547123404442\u001b[0m\t \u001b[1m\u001b[92m1.935126590279232\u001b[0m\n",
            "\u001b[1m\u001b[92m15\u001b[0m\t \u001b[1m\u001b[92m[0.06445146 0.47856765]\u001b[0m\t \u001b[1m\u001b[92m-0.6588703943930047\u001b[0m\t \u001b[1m\u001b[92m-0.6588703943930047\u001b[0m\t \u001b[1m\u001b[92m1.7232385065065194\u001b[0m\t \u001b[1m\u001b[92m1.8339510162349422\u001b[0m\n",
            "\u001b[1m\u001b[92m16\u001b[0m\t \u001b[1m\u001b[92m[0.06474363 0.47911859]\u001b[0m\t \u001b[1m\u001b[92m-0.6596872303378375\u001b[0m\t \u001b[1m\u001b[92m-0.6596872303378375\u001b[0m\t \u001b[1m\u001b[92m1.9708764618213357\u001b[0m\t \u001b[1m\u001b[92m1.9069473496266942\u001b[0m\n",
            "\u001b[1m\u001b[92m17\u001b[0m\t \u001b[1m\u001b[92m[0.02519843 0.56806633]\u001b[0m\t \u001b[1m\u001b[92m-0.8574045535851209\u001b[0m\t \u001b[1m\u001b[92m-0.8574045535851209\u001b[0m\t \u001b[1m\u001b[92m1.5129661687068823\u001b[0m\t \u001b[1m\u001b[92m1.6389383709563223\u001b[0m\n",
            "18 \t [0.06705647 0.51632824]\t -0.7295211349785042\t -0.8574045535851209\t 1.5578401076346722\t 1.938370907104993\n",
            "19 \t [0.06946809 0.52217408]\t -0.7377477663479105\t -0.8574045535851209\t 1.7534890695576375\t 1.7039495316342965\n",
            "20 \t [0.07230575 0.52876832]\t -0.7466000731311779\t -0.8574045535851209\t 1.595788667214955\t 1.8246053545481282\n"
          ]
        }
      ],
      "source": [
        "### ESTIMATED GP EI GRADIENTS\n",
        "\n",
        "np.random.seed(run_num_5)\n",
        "surrogate_approx_5 = dGaussianProcess(cov_func, optimize=opt)\n",
        "\n",
        "approx_5 = GPGO_multi(surrogate_approx_5, Acquisition_grad(util), objfunc, param)\n",
        "approx_5.run(init_evals=n_init, max_iter=iters)\n"
      ]
    },
    {
      "cell_type": "code",
      "execution_count": 18,
      "metadata": {
        "id": "-kDxZtJsGCR3",
        "colab": {
          "base_uri": "https://localhost:8080/"
        },
        "outputId": "f91ecc22-1d37-4fab-eb97-cbb9594fb2c1"
      },
      "outputs": [
        {
          "output_type": "stream",
          "name": "stdout",
          "text": [
            "Evaluation \t Proposed point \t  Current eval. \t  Best eval. \t        Exact EI: StdDev. x \t Approx EI: StdDev. x \n",
            "init\t [ 2.35716091 -0.67208078]\t 11.995980169715628\t -0.3096187466378422\t    \t    \n",
            "init\t [ 1.92737474 -1.8332135 ]\t 31.167927894156623\t -0.3096187466378422\t    \t    \n",
            "init\t [-2.35405992  0.38020826]\t 13.013381745677465\t -0.3096187466378422\t    \t    \n",
            "init\t [ 0.17890417 -0.32477029]\t -0.3096187466378422\t -0.3096187466378422\t    \t    \n",
            "init\t [-0.9875529   0.49007773]\t 0.9989196280666852\t -0.3096187466378422\t    \t    \n",
            "\u001b[1m\u001b[92m1\u001b[0m\t \u001b[1m\u001b[92m[0.14754527 0.7764674 ]\u001b[0m\t \u001b[1m\u001b[92m-0.7569942775956108\u001b[0m\t \u001b[1m\u001b[92m-0.7569942775956108\u001b[0m\t \u001b[1m\u001b[92m1.750761057780245\u001b[0m\t \u001b[1m\u001b[92m1.4586053131473808\u001b[0m\n",
            "2  \t [0.15193932 0.78763202]\t -0.7311504238493844\t -0.7569942775956108\t 1.9926399583294792\t 1.6633777963244143\n",
            "3  \t [0.15365481 0.79198314]\t -0.7202776666209153\t -0.7569942775956108\t 1.9957056626067362\t 1.586196214743895\n",
            "4  \t [0.1545275  0.79419782]\t -0.714570040962464\t -0.7569942775956108\t 1.79843006361593\t 1.4641864153115332\n",
            "5  \t [0.15504024 0.79549997]\t -0.7111595113034531\t -0.7569942775956108\t 1.7012634139672982\t 1.159742679461483\n",
            "6  \t [0.15537027 0.79633922]\t -0.7089404306422399\t -0.7569942775956108\t 2.0175346503430123\t 1.5412157623626248\n",
            "7  \t [0.15559707 0.79691563]\t -0.7074061435866558\t -0.7569942775956108\t 1.7249560928878902\t 1.5665058449186906\n",
            "8  \t [0.15575982 0.7973309 ]\t -0.7062970351859938\t -0.7569942775956108\t 1.9619210870446517\t 1.4953101305317227\n",
            "9  \t [0.1558813  0.79764079]\t -0.7054665760435475\t -0.7569942775956108\t 1.9053182983498829\t 1.3012342455563592\n",
            "10 \t [0.15597483 0.79787948]\t -0.7048253940045943\t -0.7569942775956108\t 1.9089784300828387\t 1.579784829551688\n",
            "11 \t [0.1560482  0.79806672]\t -0.7043214572186628\t -0.7569942775956108\t 1.9180585959161875\t 1.5358628197315645\n",
            "12 \t [0.15610699 0.79821694]\t -0.703916693675549\t -0.7569942775956108\t 1.498821719409326\t 1.2757165118242693\n",
            "13 \t [0.15615504 0.79833974]\t -0.7035854002894494\t -0.7569942775956108\t 1.8670131852719034\t 1.1681772954344547\n",
            "14 \t [0.15619475 0.79844149]\t -0.7033108372439365\t -0.7569942775956108\t 1.8228914710270316\t 1.2672406440489894\n",
            "15 \t [0.1562281  0.79852644]\t -0.7030810052079193\t -0.7569942775956108\t 1.7352144627853472\t 1.5591345484025416\n",
            "16 \t [0.15625619 0.79859859]\t -0.7028861377179372\t -0.7569942775956108\t 1.9182695260102185\t 1.57520399891885\n",
            "17 \t [0.15628018 0.79866015]\t -0.7027197331731063\t -0.7569942775956108\t 1.9102001796172867\t 1.436517710125107\n",
            "18 \t [0.15630104 0.79871335]\t -0.702575582400287\t -0.7569942775956108\t 1.7304612564066006\t 1.4836652083420911\n",
            "19 \t [0.15631904 0.79875947]\t -0.7024507467259513\t -0.7569942775956108\t 1.514862021736298\t 1.37156824322744\n",
            "20 \t [0.15633485 0.79879995]\t -0.7023410915202952\t -0.7569942775956108\t 1.6684892900261388\t 1.6961152825202186\n"
          ]
        }
      ],
      "source": [
        "### ESTIMATED GP EI GRADIENTS\n",
        "\n",
        "np.random.seed(run_num_6)\n",
        "surrogate_approx_6 = dGaussianProcess(cov_func, optimize=opt)\n",
        "\n",
        "approx_6 = GPGO_multi(surrogate_approx_6, Acquisition_grad(util), objfunc, param)\n",
        "approx_6.run(init_evals=n_init, max_iter=iters)\n"
      ]
    },
    {
      "cell_type": "code",
      "execution_count": 19,
      "metadata": {
        "id": "fKB8MCD_GCVI",
        "colab": {
          "base_uri": "https://localhost:8080/"
        },
        "outputId": "bd309760-8026-42e4-e5c2-de27d9b296ba"
      },
      "outputs": [
        {
          "output_type": "stream",
          "name": "stdout",
          "text": [
            "Evaluation \t Proposed point \t  Current eval. \t  Best eval. \t        Exact EI: StdDev. x \t Approx EI: StdDev. x \n",
            "init\t [-2.54215026  1.11967517]\t 26.53843863832488\t -0.46481072558790276\t    \t    \n",
            "init\t [-0.36954461  0.89386071]\t -0.46481072558790276\t -0.46481072558790276\t    \t    \n",
            "init\t [2.86793707 0.15398348]\t 76.66051064695093\t -0.46481072558790276\t    \t    \n",
            "init\t [ 0.00672278 -1.71179547]\t 22.613010892757885\t -0.46481072558790276\t    \t    \n",
            "init\t [-1.38936612e+00 -4.69996698e-04]\t 2.294585534557751\t -0.46481072558790276\t    \t    \n",
            "1  \t [0.07777407 1.39140394]\t 7.380774248369908\t -0.46481072558790276\t 1.223210653889055\t 1.3454696632526462\n",
            "2  \t [-2.0069916  -0.34039291]\t 4.09787808897999\t -0.46481072558790276\t 1.476826716896781\t 1.476826716896781\n",
            "3  \t [-3. -2.]\t 162.89999999999998\t -0.46481072558790276\t 1.8684033094795762\t 1.737036552761425\n",
            "4  \t [-0.55559001  0.67252553]\t -0.3201139846294436\t -0.46481072558790276\t 1.4805745704971667\t 1.5725396996974792\n",
            "5  \t [-0.51769955  0.29983274]\t 0.4451295095550475\t -0.46481072558790276\t 1.563445937736589\t 1.6461077033086005\n",
            "6  \t [-0.53493558  0.32498175]\t 0.4287955020813281\t -0.46481072558790276\t 1.7721932126161821\t 1.7035272799767662\n",
            "7  \t [-0.54186213  0.33714435]\t 0.4161848389057057\t -0.46481072558790276\t 1.3641255684650417\t 1.418975880620586\n",
            "8  \t [ 2.2442593 -2.       ]\t 52.975669074964294\t -0.46481072558790276\t 1.5215760742689481\t 1.4135131098631413\n",
            "9  \t [-0.77120735  0.21638982]\t 1.3609091387748091\t -0.46481072558790276\t 1.4498720468580124\t 1.5470266677619957\n",
            "10 \t [-0.75964128  0.22892298]\t 1.3004504059827273\t -0.46481072558790276\t 1.611005380778266\t 1.5859967004832811\n",
            "11 \t [-0.7513939   0.23768049]\t 1.257161083486835\t -0.46481072558790276\t 1.3289378461358146\t 1.2929946982349292\n",
            "12 \t [-0.74534138  0.24403811]\t 1.225263851886712\t -0.46481072558790276\t 1.4015587850745452\t 1.3860461170671703\n",
            "13 \t [-0.74078482  0.24879912]\t 1.20115586001056\t -0.46481072558790276\t 1.5254091918926627\t 1.4781327167446034\n",
            "14 \t [-0.73727461  0.25245718]\t 1.1825197846865814\t -0.46481072558790276\t 1.3524138535502248\t 1.3392046889630773\n",
            "15 \t [-0.7345169   0.25532993]\t 1.167829407921186\t -0.46481072558790276\t 1.599128674446442\t 1.539570344719623\n",
            "16 \t [-0.73231232  0.25762849]\t 1.156048252863719\t -0.46481072558790276\t 1.2115070923742621\t 1.2772098099714388\n",
            "17 \t [-0.7305217   0.25949761]\t 1.1464530856105069\t -0.46481072558790276\t 1.1268423927843405\t 1.1069814253896415\n",
            "18 \t [-0.7290474   0.26103966]\t 1.1385312943195358\t -0.46481072558790276\t 1.5413527131136746\t 1.5007558312704359\n",
            "19 \t [-0.72782043  0.26232676]\t 1.1319195818171544\t -0.46481072558790276\t 1.5834442834609375\t 1.4218886745360244\n",
            "20 \t [-0.72678653  0.26341394]\t 1.1263350535394836\t -0.46481072558790276\t 1.4467464668018188\t 1.4916054423270113\n"
          ]
        }
      ],
      "source": [
        "### ESTIMATED GP EI GRADIENTS\n",
        "\n",
        "np.random.seed(run_num_7)\n",
        "surrogate_approx_7 = dGaussianProcess(cov_func, optimize=opt)\n",
        "\n",
        "approx_7 = GPGO_multi(surrogate_approx_7, Acquisition_grad(util), objfunc, param)\n",
        "approx_7.run(init_evals=n_init, max_iter=iters)\n"
      ]
    },
    {
      "cell_type": "code",
      "execution_count": 20,
      "metadata": {
        "id": "4unvifF-GCXp",
        "colab": {
          "base_uri": "https://localhost:8080/"
        },
        "outputId": "2e03d83b-ad86-4fce-be38-48a3922b1236"
      },
      "outputs": [
        {
          "output_type": "stream",
          "name": "stdout",
          "text": [
            "Evaluation \t Proposed point \t  Current eval. \t  Best eval. \t        Exact EI: StdDev. x \t Approx EI: StdDev. x \n",
            "init\t [2.24057642 1.87416265]\t 48.82879577505094\t 0.03190064766213015\t    \t    \n",
            "init\t [2.21516724 0.12342277]\t 8.660623551418242\t 0.03190064766213015\t    \t    \n",
            "init\t [-1.60363003 -1.95440478]\t 48.28332373939171\t 0.03190064766213015\t    \t    \n",
            "init\t [-0.41718709 -0.39059456]\t 0.2801229037700297\t 0.03190064766213015\t    \t    \n",
            "init\t [ 0.13604803 -0.08643282]\t 0.03190064766213015\t 0.03190064766213015\t    \t    \n",
            "\u001b[1m\u001b[92m1\u001b[0m\t \u001b[1m\u001b[92m[-0.70597438  0.77624221]\u001b[0m\t \u001b[1m\u001b[92m0.0072827149757483944\u001b[0m\t \u001b[1m\u001b[92m0.0072827149757483944\u001b[0m\t \u001b[1m\u001b[92m1.2401159296360502\u001b[0m\t \u001b[1m\u001b[92m1.6152266715770234\u001b[0m\n",
            "\u001b[1m\u001b[92m2\u001b[0m\t \u001b[1m\u001b[92m[-0.56281368  0.63457167]\u001b[0m\t \u001b[1m\u001b[92m-0.2523371712858067\u001b[0m\t \u001b[1m\u001b[92m-0.2523371712858067\u001b[0m\t \u001b[1m\u001b[92m1.3506813132708522\u001b[0m\t \u001b[1m\u001b[92m2.168229071823085\u001b[0m\n",
            "\u001b[1m\u001b[92m3\u001b[0m\t \u001b[1m\u001b[92m[-0.55339178  0.62451769]\u001b[0m\t \u001b[1m\u001b[92m-0.2596265248932572\u001b[0m\t \u001b[1m\u001b[92m-0.2596265248932572\u001b[0m\t \u001b[1m\u001b[92m1.1839703149237066\u001b[0m\t \u001b[1m\u001b[92m1.6354484540400909\u001b[0m\n",
            "\u001b[1m\u001b[92m4\u001b[0m\t \u001b[1m\u001b[92m[-0.54920105  0.61999472]\u001b[0m\t \u001b[1m\u001b[92m-0.2624573173791964\u001b[0m\t \u001b[1m\u001b[92m-0.2624573173791964\u001b[0m\t \u001b[1m\u001b[92m1.5005311223507956\u001b[0m\t \u001b[1m\u001b[92m1.9859622462593938\u001b[0m\n",
            "\u001b[1m\u001b[92m5\u001b[0m\t \u001b[1m\u001b[92m[-0.54692167  0.61751361]\u001b[0m\t \u001b[1m\u001b[92m-0.2638771263384765\u001b[0m\t \u001b[1m\u001b[92m-0.2638771263384765\u001b[0m\t \u001b[1m\u001b[92m1.2681006354554134\u001b[0m\t \u001b[1m\u001b[92m1.9009254572744492\u001b[0m\n",
            "\u001b[1m\u001b[92m6\u001b[0m\t \u001b[1m\u001b[92m[-0.54552619  0.61598244]\u001b[0m\t \u001b[1m\u001b[92m-0.26469596628767156\u001b[0m\t \u001b[1m\u001b[92m-0.26469596628767156\u001b[0m\t \u001b[1m\u001b[92m1.3994220052511348\u001b[0m\t \u001b[1m\u001b[92m1.9904944737343853\u001b[0m\n",
            "\u001b[1m\u001b[92m7\u001b[0m\t \u001b[1m\u001b[92m[-0.54459825  0.61495649]\u001b[0m\t \u001b[1m\u001b[92m-0.2652145400062561\u001b[0m\t \u001b[1m\u001b[92m-0.2652145400062561\u001b[0m\t \u001b[1m\u001b[92m1.3342805911538045\u001b[0m\t \u001b[1m\u001b[92m2.1758390047012885\u001b[0m\n",
            "\u001b[1m\u001b[92m8\u001b[0m\t \u001b[1m\u001b[92m[-0.54395228  0.61423625]\u001b[0m\t \u001b[1m\u001b[92m-0.265559038172808\u001b[0m\t \u001b[1m\u001b[92m-0.265559038172808\u001b[0m\t \u001b[1m\u001b[92m1.2523073320035747\u001b[0m\t \u001b[1m\u001b[92m2.0551947274253233\u001b[0m\n",
            "\u001b[1m\u001b[92m9\u001b[0m\t \u001b[1m\u001b[92m[-0.54346786  0.61369747]\u001b[0m\t \u001b[1m\u001b[92m-0.2658164979700729\u001b[0m\t \u001b[1m\u001b[92m-0.2658164979700729\u001b[0m\t \u001b[1m\u001b[92m1.1420030872919715\u001b[0m\t \u001b[1m\u001b[92m1.9550411355709756\u001b[0m\n",
            "\u001b[1m\u001b[92m10\u001b[0m\t \u001b[1m\u001b[92m[-0.54310273  0.61328709]\u001b[0m\t \u001b[1m\u001b[92m-0.2660012365613901\u001b[0m\t \u001b[1m\u001b[92m-0.2660012365613901\u001b[0m\t \u001b[1m\u001b[92m1.3946315301650392\u001b[0m\t \u001b[1m\u001b[92m2.0600429525329313\u001b[0m\n",
            "\u001b[1m\u001b[92m11\u001b[0m\t \u001b[1m\u001b[92m[-0.54281658  0.61296362]\u001b[0m\t \u001b[1m\u001b[92m-0.26614165213532637\u001b[0m\t \u001b[1m\u001b[92m-0.26614165213532637\u001b[0m\t \u001b[1m\u001b[92m1.1362761853975725\u001b[0m\t \u001b[1m\u001b[92m1.988810123246126\u001b[0m\n",
            "\u001b[1m\u001b[92m12\u001b[0m\t \u001b[1m\u001b[92m[-0.54258718  0.61270362]\u001b[0m\t \u001b[1m\u001b[92m-0.26625229072851375\u001b[0m\t \u001b[1m\u001b[92m-0.26625229072851375\u001b[0m\t \u001b[1m\u001b[92m1.0229523538561196\u001b[0m\t \u001b[1m\u001b[92m1.8549830464843624\u001b[0m\n",
            "\u001b[1m\u001b[92m13\u001b[0m\t \u001b[1m\u001b[92m[-0.54240033  0.61249077]\u001b[0m\t \u001b[1m\u001b[92m-0.2663400395040263\u001b[0m\t \u001b[1m\u001b[92m-0.2663400395040263\u001b[0m\t \u001b[1m\u001b[92m1.173245732039805\u001b[0m\t \u001b[1m\u001b[92m1.9410202743913387\u001b[0m\n",
            "\u001b[1m\u001b[92m14\u001b[0m\t \u001b[1m\u001b[92m[-0.54224513  0.61231334]\u001b[0m\t \u001b[1m\u001b[92m-0.2664114919592442\u001b[0m\t \u001b[1m\u001b[92m-0.2664114919592442\u001b[0m\t \u001b[1m\u001b[92m1.3421248019931105\u001b[0m\t \u001b[1m\u001b[92m2.2267122903112937\u001b[0m\n",
            "\u001b[1m\u001b[92m15\u001b[0m\t \u001b[1m\u001b[92m[-0.54211491  0.61216382]\u001b[0m\t \u001b[1m\u001b[92m-0.2664700639010744\u001b[0m\t \u001b[1m\u001b[92m-0.2664700639010744\u001b[0m\t \u001b[1m\u001b[92m1.203140239499649\u001b[0m\t \u001b[1m\u001b[92m1.963033787263058\u001b[0m\n",
            "\u001b[1m\u001b[92m16\u001b[0m\t \u001b[1m\u001b[92m[-0.54200365  0.61203586]\u001b[0m\t \u001b[1m\u001b[92m-0.26651955644539105\u001b[0m\t \u001b[1m\u001b[92m-0.26651955644539105\u001b[0m\t \u001b[1m\u001b[92m1.2708294344826647\u001b[0m\t \u001b[1m\u001b[92m1.9642689768645925\u001b[0m\n",
            "\u001b[1m\u001b[92m17\u001b[0m\t \u001b[1m\u001b[92m[-0.54190898  0.6119259 ]\u001b[0m\t \u001b[1m\u001b[92m-0.26655964565964396\u001b[0m\t \u001b[1m\u001b[92m-0.26655964565964396\u001b[0m\t \u001b[1m\u001b[92m1.3761420191653058\u001b[0m\t \u001b[1m\u001b[92m2.0602810921834287\u001b[0m\n",
            "\u001b[1m\u001b[92m18\u001b[0m\t \u001b[1m\u001b[92m[-0.54182601  0.61183007]\u001b[0m\t \u001b[1m\u001b[92m-0.26659566154086023\u001b[0m\t \u001b[1m\u001b[92m-0.26659566154086023\u001b[0m\t \u001b[1m\u001b[92m1.3768439630803666\u001b[0m\t \u001b[1m\u001b[92m2.0905953149018375\u001b[0m\n",
            "\u001b[1m\u001b[92m19\u001b[0m\t \u001b[1m\u001b[92m[-0.54175323  0.61174621]\u001b[0m\t \u001b[1m\u001b[92m-0.2666274989306724\u001b[0m\t \u001b[1m\u001b[92m-0.2666274989306724\u001b[0m\t \u001b[1m\u001b[92m1.1420977893575441\u001b[0m\t \u001b[1m\u001b[92m2.073231605556669\u001b[0m\n",
            "\u001b[1m\u001b[92m20\u001b[0m\t \u001b[1m\u001b[92m[-0.54168996  0.61167196]\u001b[0m\t \u001b[1m\u001b[92m-0.2666527765890542\u001b[0m\t \u001b[1m\u001b[92m-0.2666527765890542\u001b[0m\t \u001b[1m\u001b[92m1.2317251611042186\u001b[0m\t \u001b[1m\u001b[92m1.993934667036379\u001b[0m\n"
          ]
        }
      ],
      "source": [
        "### ESTIMATED GP EI GRADIENTS\n",
        "\n",
        "np.random.seed(run_num_8)\n",
        "surrogate_approx_8 = dGaussianProcess(cov_func, optimize=opt)\n",
        "\n",
        "approx_8 = GPGO_multi(surrogate_approx_8, Acquisition_grad(util), objfunc, param)\n",
        "approx_8.run(init_evals=n_init, max_iter=iters)\n"
      ]
    },
    {
      "cell_type": "code",
      "execution_count": 21,
      "metadata": {
        "id": "85OIXcg7GCaJ",
        "colab": {
          "base_uri": "https://localhost:8080/"
        },
        "outputId": "a72a95cd-e7e2-46ac-ff54-291bfc6c2a4b"
      },
      "outputs": [
        {
          "output_type": "stream",
          "name": "stdout",
          "text": [
            "Evaluation \t Proposed point \t  Current eval. \t  Best eval. \t        Exact EI: StdDev. x \t Approx EI: StdDev. x \n",
            "init\t [-2.93775508  0.00749837]\t 92.35857237145763\t 1.395407492769129\t    \t    \n",
            "init\t [-0.02536024 -1.46468188]\t 9.867672894921913\t 1.395407492769129\t    \t    \n",
            "init\t [-2.14733349 -1.1257653 ]\t 10.24680089963123\t 1.395407492769129\t    \t    \n",
            "init\t [-0.48895092 -1.00759533]\t 1.395407492769129\t 1.395407492769129\t    \t    \n",
            "init\t [-2.49564209 -0.61800544]\t 24.58298635463645\t 1.395407492769129\t    \t    \n",
            "1  \t [0.19957976 1.29294143]\t 4.905563055824185\t 1.395407492769129\t 1.6028529415144859\t 1.5334020088506013\n",
            "2  \t [ 3.        -0.2159529]\t 108.0742982382118\t 1.395407492769129\t 2.1063485587510224\t 1.9676476798160325\n",
            "3  \t [-1.4498459  2.       ]\t 47.32546642647637\t 1.395407492769129\t 1.5506017178582876\t 1.5443792106906005\n",
            "4  \t [-1.57429714 -2.        ]\t 53.23750780858934\t 1.395407492769129\t 1.7670148421420344\t 1.4963526805879659\n",
            "\u001b[1m\u001b[92m5\u001b[0m\t \u001b[1m\u001b[92m[-0.51164466 -0.15097092]\u001b[0m\t \u001b[1m\u001b[92m0.8973427145648413\u001b[0m\t \u001b[1m\u001b[92m0.8973427145648413\u001b[0m\t \u001b[1m\u001b[92m1.39099016860497\u001b[0m\t \u001b[1m\u001b[92m1.604402552472325\u001b[0m\n",
            "6  \t [1.95420663 2.        ]\t 55.12262132076717\t 0.8973427145648413\t 1.4994638039363948\t 1.328075316796338\n",
            "\u001b[1m\u001b[92m7\u001b[0m\t \u001b[1m\u001b[92m[-0.03206583 -0.13794837]\u001b[0m\t \u001b[1m\u001b[92m-0.06613640405690309\u001b[0m\t \u001b[1m\u001b[92m-0.06613640405690309\u001b[0m\t \u001b[1m\u001b[92m1.2959145522222035\u001b[0m\t \u001b[1m\u001b[92m1.2439162929286078\u001b[0m\n",
            "8  \t [-0.03168427 -0.13776477]\t -0.06609726395528465\t -0.06613640405690309\t 1.261682170525152\t 1.187325777864117\n",
            "9  \t [-0.03141017 -0.13763312]\t -0.06606873985483633\t -0.06613640405690309\t 1.5127322375572547\t 1.5014766499083148\n",
            "10 \t [-0.03121313 -0.13753857]\t -0.06604798543414694\t -0.06613640405690309\t 1.2619767707035114\t 1.209795276592876\n",
            "11 \t [-0.03106638 -0.13746823]\t -0.0660324284480159\t -0.06613640405690309\t 1.4513146127427676\t 1.4331065530063702\n",
            "12 \t [-0.03095342 -0.13741411]\t -0.06602037113099525\t -0.06613640405690309\t 1.4486094196890074\t 1.444349473057212\n",
            "13 \t [-0.03086396 -0.13737131]\t -0.06601081134308255\t -0.06613640405690309\t 1.058586450452124\t 1.0110849283535908\n",
            "14 \t [-0.03079154 -0.13733675]\t -0.066003126224984\t -0.06613640405690309\t 1.3599187363166372\t 1.3434209215551223\n",
            "15 \t [-0.03073155 -0.13730795]\t -0.06599655433119765\t -0.06613640405690309\t 1.271784490520665\t 1.2335372497219481\n",
            "16 \t [-0.03068125 -0.13728389]\t -0.06599110567212708\t -0.06613640405690309\t 1.4382870855693377\t 1.4759054663453315\n",
            "17 \t [-0.03063838 -0.13726341]\t -0.06598648760403276\t -0.06613640405690309\t 1.3539333664124462\t 1.3370675073966078\n",
            "18 \t [-0.03060149 -0.13724583]\t -0.0659825433978466\t -0.06613640405690309\t 1.382159935042877\t 1.3837819676256082\n",
            "19 \t [-0.03056932 -0.13723042]\t -0.06597900249931844\t -0.06613640405690309\t 1.4539094617282322\t 1.447519652035689\n",
            "20 \t [-0.03054101 -0.13721695]\t -0.06597598022978385\t -0.06613640405690309\t 1.4725093853574605\t 1.4518286830697475\n"
          ]
        }
      ],
      "source": [
        "### ESTIMATED GP EI GRADIENTS\n",
        "\n",
        "np.random.seed(run_num_9)\n",
        "surrogate_approx_9 = dGaussianProcess(cov_func, optimize=opt)\n",
        "\n",
        "approx_9 = GPGO_multi(surrogate_approx_9, Acquisition_grad(util), objfunc, param)\n",
        "approx_9.run(init_evals=n_init, max_iter=iters)\n"
      ]
    },
    {
      "cell_type": "code",
      "execution_count": 22,
      "metadata": {
        "id": "QQBR-qJPGCcp",
        "colab": {
          "base_uri": "https://localhost:8080/"
        },
        "outputId": "bc69c601-90f6-4749-c521-eb1b4cd8b530"
      },
      "outputs": [
        {
          "output_type": "stream",
          "name": "stdout",
          "text": [
            "Evaluation \t Proposed point \t  Current eval. \t  Best eval. \t        Exact EI: StdDev. x \t Approx EI: StdDev. x \n",
            "init\t [ 1.62792386 -1.9169922 ]\t 38.25414770674631\t 0.7775687473184012\t    \t    \n",
            "init\t [0.80188941 0.99521553]\t 2.552651714051803\t 0.7775687473184012\t    \t    \n",
            "init\t [-0.00895793 -1.10081342]\t 1.0367630165263393\t 0.7775687473184012\t    \t    \n",
            "init\t [-1.81162281  1.04212285]\t 0.7775687473184012\t 0.7775687473184012\t    \t    \n",
            "init\t [-1.98533498 -1.64664074]\t 25.383481436170044\t 0.7775687473184012\t    \t    \n",
            "1  \t [3. 2.]\t 162.89999999999998\t 0.7775687473184012\t 1.5535317759892684\t 1.8234846153220392\n",
            "2  \t [-3.  2.]\t 150.89999999999998\t 0.7775687473184012\t 1.1327955542314734\t 1.4919944309386803\n",
            "3  \t [ 3.         -0.25031704]\t 107.91411880390002\t 0.7775687473184012\t 1.4469086194128118\t 1.4702572372615075\n",
            "\u001b[1m\u001b[92m4\u001b[0m\t \u001b[1m\u001b[92m[-0.73740396  0.63365107]\u001b[0m\t \u001b[1m\u001b[92m0.17926536945648364\u001b[0m\t \u001b[1m\u001b[92m0.17926536945648364\u001b[0m\t \u001b[1m\u001b[92m1.4829206504309835\u001b[0m\t \u001b[1m\u001b[92m1.4866340678362364\u001b[0m\n",
            "5  \t [-0.75866573  0.63755002]\t 0.22145983551875437\t 0.17926536945648364\t 1.456486329872428\t 1.4288978543618978\n",
            "6  \t [-0.767076    0.63890789]\t 0.238079741868918\t 0.17926536945648364\t 1.3526598976920463\t 1.2658075848815145\n",
            "7  \t [-0.77124223  0.63982833]\t 0.2458035386913856\t 0.17926536945648364\t 1.4135564543215517\t 1.3938327002034905\n",
            "8  \t [-0.77361079  0.64052961]\t 0.24986743379237175\t 0.17926536945648364\t 1.268463372887947\t 1.2194759413887395\n",
            "9  \t [-0.77509065  0.64107641]\t 0.25221431750437695\t 0.17926536945648364\t 1.573880499309184\t 1.5832777547701307\n",
            "10 \t [-0.77608252  0.64150716]\t 0.25367580268516443\t 0.17926536945648364\t 1.5447275775879545\t 1.4251205925621422\n",
            "11 \t [-0.77678325  0.64185044]\t 0.25464149612233955\t 0.17926536945648364\t 1.3044782317448695\t 1.198649395309724\n",
            "12 \t [-0.77729952  0.64212699]\t 0.25531275689639776\t 0.17926536945648364\t 1.4073263242429885\t 1.4473693953193763\n",
            "13 \t [-0.77769334  0.64235205]\t 0.25580095301833405\t 0.17926536945648364\t 1.5213494413671844\t 1.5389404607400903\n",
            "14 \t [-0.77800148  0.64253835]\t 0.2561657670357427\t 0.17926536945648364\t 1.4379150853603733\t 1.4095480186463252\n",
            "15 \t [-0.77824858  0.64269244]\t 0.25645043487236063\t 0.17926536945648364\t 1.4258209479249861\t 1.3553168045280455\n",
            "16 \t [-0.77844979  0.64282292]\t 0.2566738714683172\t 0.17926536945648364\t 1.5464646720798538\t 1.4264275876635748\n",
            "17 \t [-0.7786162   0.64293409]\t 0.25685320005449286\t 0.17926536945648364\t 1.5496444139764047\t 1.4762871461460174\n",
            "18 \t [-0.77875775  0.64302769]\t 0.2570073650469237\t 0.17926536945648364\t 1.4125183721277763\t 1.4382234103892373\n",
            "19 \t [-0.77887697  0.64310948]\t 0.25713226385377086\t 0.17926536945648364\t 1.1091504286272322\t 1.0908970125795021\n",
            "20 \t [-0.77897945  0.64318069]\t 0.25723814354276764\t 0.17926536945648364\t 1.4972225022378811\t 1.5162751275867343\n"
          ]
        }
      ],
      "source": [
        "### ESTIMATED GP EI GRADIENTS\n",
        "\n",
        "np.random.seed(run_num_10)\n",
        "surrogate_approx_10 = dGaussianProcess(cov_func, optimize=opt)\n",
        "\n",
        "approx_10 = GPGO_multi(surrogate_approx_10, Acquisition_grad(util), objfunc, param)\n",
        "approx_10.run(init_evals=n_init, max_iter=iters)\n"
      ]
    },
    {
      "cell_type": "code",
      "execution_count": 23,
      "metadata": {
        "id": "JS8ejeQ2GCfi",
        "colab": {
          "base_uri": "https://localhost:8080/"
        },
        "outputId": "d4edd1c1-40b8-43e4-9877-c067ffb8196e"
      },
      "outputs": [
        {
          "output_type": "stream",
          "name": "stdout",
          "text": [
            "Evaluation \t Proposed point \t  Current eval. \t  Best eval. \t        Exact EI: StdDev. x \t Approx EI: StdDev. x \n",
            "init\t [-1.91838187 -1.92209903]\t 46.39910375151002\t -0.6254688257880329\t    \t    \n",
            "init\t [-0.22068884  0.89973572]\t -0.6254688257880329\t -0.6254688257880329\t    \t    \n",
            "init\t [-0.47877837 -0.05829161]\t 0.8249470187639529\t -0.6254688257880329\t    \t    \n",
            "init\t [-2.92331511 -0.05051357]\t 88.99028404075307\t -0.6254688257880329\t    \t    \n",
            "init\t [2.65083991 1.40318036]\t 51.423425402262914\t -0.6254688257880329\t    \t    \n",
            "1  \t [0.05802313 0.34184408]\t -0.37952910835224524\t -0.6254688257880329\t 1.3731988451179113\t 1.4727004418808383\n",
            "2  \t [0.05425105 0.3497634 ]\t -0.3987453226248113\t -0.6254688257880329\t 1.0555834918132523\t 1.1793238685738476\n",
            "3  \t [0.05346872 0.35139485]\t -0.4027186604785786\t -0.6254688257880329\t 1.6010074384532869\t 1.6958889203700804\n",
            "4  \t [0.05325699 0.35183407]\t -0.403789776358509\t -0.6254688257880329\t 1.269223200096612\t 1.5415452756297785\n",
            "5  \t [0.05320633 0.35193936]\t -0.40404651181115747\t -0.6254688257880329\t 1.1795832794779015\t 1.3240411487805455\n",
            "6  \t [0.05320906 0.35193398]\t -0.4040332906344245\t -0.6254688257880329\t 1.3254381701931883\t 1.4878752338602192\n",
            "7  \t [0.05322961 0.35189149]\t -0.4039295977151684\t -0.6254688257880329\t 1.478477594416999\t 1.6654684130891173\n",
            "8  \t [0.05325588 0.35183681]\t -0.4037963095274296\t -0.6254688257880329\t 1.1195300034809206\t 1.3732591143573736\n",
            "9  \t [0.05328236 0.35178238]\t -0.4036633792886486\t -0.6254688257880329\t 1.3883845138681752\t 1.612603077361448\n",
            "10 \t [0.05330739 0.35173078]\t -0.4035373935981029\t -0.6254688257880329\t 1.2998586299098498\t 1.356166095002713\n",
            "11 \t [0.05333032 0.35168353]\t -0.4034220425838593\t -0.6254688257880329\t 1.3995064137707895\t 1.4986579530883404\n",
            "12 \t [0.05335098 0.35164089]\t -0.40331799444270094\t -0.6254688257880329\t 1.41207098184246\t 1.4966004119335459\n",
            "13 \t [0.05336948 0.35160276]\t -0.4032249118064554\t -0.6254688257880329\t 1.300399709733751\t 1.4535620990775868\n",
            "14 \t [0.05338579 0.35156962]\t -0.40314382003932187\t -0.6254688257880329\t 1.332159998003061\t 1.3853756725920916\n",
            "15 \t [0.05340079 0.35153811]\t -0.4030671351540714\t -0.6254688257880329\t 1.2405903517068915\t 1.4463510189386624\n",
            "16 \t [0.05341422 0.35151041]\t -0.4029995346499107\t -0.6254688257880329\t 1.366859819822228\t 1.449602270762339\n",
            "17 \t [0.05342593 0.3514863 ]\t -0.40294065576164423\t -0.6254688257880329\t 1.1377821422192544\t 1.2006868752282132\n",
            "18 \t [0.05343669 0.3514641 ]\t -0.40288648643946257\t -0.6254688257880329\t 1.324687280980586\t 1.4971044452391935\n",
            "19 \t [0.05344639 0.35144415]\t -0.4028377681633753\t -0.6254688257880329\t 1.251674097737925\t 1.4117080632976158\n",
            "20 \t [0.05345517 0.351426  ]\t -0.40279348550853694\t -0.6254688257880329\t 1.3595503496957955\t 1.4236255754107512\n"
          ]
        }
      ],
      "source": [
        "### ESTIMATED GP EI GRADIENTS\n",
        "\n",
        "np.random.seed(run_num_11)\n",
        "surrogate_approx_11 = dGaussianProcess(cov_func, optimize=opt)\n",
        "\n",
        "approx_11 = GPGO_multi(surrogate_approx_11, Acquisition_grad(util), objfunc, param)\n",
        "approx_11.run(init_evals=n_init, max_iter=iters)\n"
      ]
    },
    {
      "cell_type": "code",
      "execution_count": 24,
      "metadata": {
        "id": "DXwjUVZ4GCii",
        "colab": {
          "base_uri": "https://localhost:8080/"
        },
        "outputId": "c1fa35f4-ca11-444e-804e-78568afb5212"
      },
      "outputs": [
        {
          "output_type": "stream",
          "name": "stdout",
          "text": [
            "Evaluation \t Proposed point \t  Current eval. \t  Best eval. \t        Exact EI: StdDev. x \t Approx EI: StdDev. x \n",
            "init\t [-2.07502295  0.96019879]\t 2.6185857163917037\t 1.9967735906956543\t    \t    \n",
            "init\t [-1.42010991  0.13495757]\t 1.9967735906956543\t 1.9967735906956543\t    \t    \n",
            "init\t [-2.91255023  1.67498803]\t 101.67816714332157\t 1.9967735906956543\t    \t    \n",
            "init\t [ 2.40428912 -1.86631429]\t 47.44624883788006\t 1.9967735906956543\t    \t    \n",
            "init\t [ 2.74169602 -1.45116271]\t 58.32400185681089\t 1.9967735906956543\t    \t    \n",
            "\u001b[1m\u001b[92m1\u001b[0m\t \u001b[1m\u001b[92m[-1.31663835  0.8466293 ]\u001b[0m\t \u001b[1m\u001b[92m0.4331169238626701\u001b[0m\t \u001b[1m\u001b[92m0.4331169238626701\u001b[0m\t \u001b[1m\u001b[92m2.2356624069779105\u001b[0m\t \u001b[1m\u001b[92m1.9660165460960395\u001b[0m\n",
            "2  \t [1.75979522 2.        ]\t 53.66709224488532\t 0.4331169238626701\t 2.0314322874631836\t 1.8002352858232016\n",
            "\u001b[1m\u001b[92m3\u001b[0m\t \u001b[1m\u001b[92m[-1.54720723  0.59623563]\u001b[0m\t \u001b[1m\u001b[92m0.2750036695768485\u001b[0m\t \u001b[1m\u001b[92m0.2750036695768485\u001b[0m\t \u001b[1m\u001b[92m1.6478220027639796\u001b[0m\t \u001b[1m\u001b[92m1.692525399339989\u001b[0m\n",
            "4  \t [-3. -2.]\t 162.89999999999998\t 0.2750036695768485\t 1.6197054205367858\t 1.3831783812961966\n",
            "5  \t [-0.16324688 -2.        ]\t 48.431606841223676\t 0.2750036695768485\t 1.3363990888187276\t 1.4103069876533736\n",
            "6  \t [-0.6052914  2.       ]\t 47.989432728723415\t 0.2750036695768485\t 1.309162538302455\t 1.3739469824758568\n",
            "7  \t [-1.26557603  0.24005175]\t 1.8680420566300355\t 0.2750036695768485\t 1.4921360636553473\t 1.5350610669988305\n",
            "8  \t [-1.27850371  0.2480246 ]\t 1.8351898243346594\t 0.2750036695768485\t 1.5627799139514484\t 1.5701654071225246\n",
            "9  \t [-1.28591799  0.25282069]\t 1.8149376404320696\t 0.2750036695768485\t 1.3550124527871013\t 1.364284114427706\n",
            "10 \t [-1.29070355  0.25603627]\t 1.80121424075281\t 0.2750036695768485\t 1.3261714431535163\t 1.3806974425421539\n",
            "11 \t [-1.29402808  0.25834224]\t 1.7913263859866655\t 0.2750036695768485\t 1.5041407516487875\t 1.5468597252688174\n",
            "12 \t [-1.29645846  0.26007515]\t 1.783883010274835\t 0.2750036695768485\t 1.3940702431351668\t 1.433018775753152\n",
            "13 \t [-1.29830326  0.26142295]\t 1.7780931769723287\t 0.2750036695768485\t 1.4080346347823969\t 1.432473363431846\n",
            "14 \t [-1.29974565  0.26249991]\t 1.773470427185232\t 0.2750036695768485\t 1.4323954625021214\t 1.4244226447340793\n",
            "15 \t [-1.30090006  0.26337905]\t 1.769701863545683\t 0.2750036695768485\t 1.5036046443656623\t 1.5391941024653908\n",
            "16 \t [-1.30184202  0.26410931]\t 1.7665764335099263\t 0.2750036695768485\t 1.4398860310628687\t 1.4585881978961162\n",
            "17 \t [-1.3026229   0.26472533]\t 1.7639452876201924\t 0.2750036695768485\t 1.293127317883088\t 1.380180739467465\n",
            "18 \t [-1.30327956  0.26525105]\t 1.7617037160483824\t 0.2750036695768485\t 1.5404020605804232\t 1.5675865887847864\n",
            "19 \t [0.77654822 0.00217097]\t 1.7232232101212495\t 0.2750036695768485\t 1.3355016435719627\t 1.3352259544106477\n",
            "20 \t [-1.26107527  0.26271961]\t 1.8024966908107034\t 0.2750036695768485\t 1.2754613353087858\t 1.3513799671728786\n"
          ]
        }
      ],
      "source": [
        "### ESTIMATED GP EI GRADIENTS\n",
        "\n",
        "np.random.seed(run_num_12)\n",
        "surrogate_approx_12 = dGaussianProcess(cov_func, optimize=opt)\n",
        "\n",
        "approx_12 = GPGO_multi(surrogate_approx_12, Acquisition_grad(util), objfunc, param)\n",
        "approx_12.run(init_evals=n_init, max_iter=iters)\n"
      ]
    },
    {
      "cell_type": "code",
      "execution_count": 25,
      "metadata": {
        "id": "CphOPndPGClX",
        "colab": {
          "base_uri": "https://localhost:8080/"
        },
        "outputId": "62bc1f3c-351a-49ec-a6b7-fc5d11dc060e"
      },
      "outputs": [
        {
          "output_type": "stream",
          "name": "stdout",
          "text": [
            "Evaluation \t Proposed point \t  Current eval. \t  Best eval. \t        Exact EI: StdDev. x \t Approx EI: StdDev. x \n",
            "init\t [ 1.66621446 -1.04983512]\t 0.752930921147986\t 0.752930921147986\t    \t    \n",
            "init\t [1.9456712  1.86299679]\t 41.05776363102951\t 0.752930921147986\t    \t    \n",
            "init\t [ 2.83560668 -0.18620301]\t 69.0134544723513\t 0.752930921147986\t    \t    \n",
            "init\t [0.65425478 1.10210606]\t 3.117452174069064\t 0.752930921147986\t    \t    \n",
            "init\t [0.84968007 0.88807292]\t 2.006601529383926\t 0.752930921147986\t    \t    \n",
            "1  \t [ 0.69910207 -1.55827872]\t 14.275189828876599\t 0.752930921147986\t 1.1522187030072073\t 1.1909018888397176\n",
            "2  \t [-2.99903967  2.        ]\t 150.630228374949\t 0.752930921147986\t 1.6170316283510746\t 1.964038557726488\n",
            "3  \t [-2.74188918 -1.46911115]\t 67.04579638073551\t 0.752930921147986\t 1.6921897297062625\t 1.7507546992622491\n",
            "\u001b[1m\u001b[92m4\u001b[0m\t \u001b[1m\u001b[92m[-0.02593524  0.57162786]\u001b[0m\t \u001b[1m\u001b[92m-0.8920851065026717\u001b[0m\t \u001b[1m\u001b[92m-0.8920851065026717\u001b[0m\t \u001b[1m\u001b[92m1.4976390638090085\u001b[0m\t \u001b[1m\u001b[92m1.4800471715818078\u001b[0m\n",
            "5  \t [-0.02884098  0.56906788]\t -0.8889548684477065\t -0.8920851065026717\t 1.6246552582996516\t 1.6385440459325937\n",
            "6  \t [-0.03032881  0.56775508]\t -0.887297744672075\t -0.8920851065026717\t 1.4385861090290393\t 1.4114523832234367\n",
            "7  \t [-0.03122769  0.56695889]\t -0.8862748448049725\t -0.8920851065026717\t 1.4112943810176137\t 1.3886661561012976\n",
            "8  \t [-0.0318282   0.56642484]\t -0.885580916432524\t -0.8920851065026717\t 1.421226690653323\t 1.4042195969089766\n",
            "9  \t [-0.03225727  0.56604175]\t -0.8850791550864634\t -0.8920851065026717\t 1.4046730413673147\t 1.415520458320949\n",
            "10 \t [-0.03257888  0.56575347]\t -0.8846992799343516\t -0.8920851065026717\t 1.4610955310450264\t 1.4121143014609814\n",
            "11 \t [-0.03282878  0.56552862]\t -0.8844015881589892\t -0.8920851065026717\t 1.5614229554914374\t 1.5639300741203483\n",
            "12 \t [-0.03302862  0.56534835]\t -0.8841620371368207\t -0.8920851065026717\t 1.4491868216429973\t 1.3985738070202665\n",
            "13 \t [-0.03319192  0.56520054]\t -0.8839649977421749\t -0.8920851065026717\t 1.5496920338248383\t 1.5222860618155136\n",
            "14 \t [-0.03332787  0.56507712]\t -0.8838000219313343\t -0.8920851065026717\t 1.1901755160875334\t 1.1621163826930219\n",
            "15 \t [-0.03344278  0.56497251]\t -0.8836598654822371\t -0.8920851065026717\t 1.4078317439513128\t 1.4237167458710485\n",
            "16 \t [-0.03354117  0.56488272]\t -0.8835393318753274\t -0.8920851065026717\t 1.2782329237611219\t 1.343334066861869\n",
            "17 \t [-0.03362637  0.56480474]\t -0.883434443652038\t -0.8920851065026717\t 1.6539928204222782\t 1.6451892846159588\n",
            "18 \t [-0.03370085  0.56473648]\t -0.8833425181264121\t -0.8920851065026717\t 1.25285357717918\t 1.2198307157642172\n",
            "19 \t [-0.03376651  0.56467614]\t -0.8832611198017453\t -0.8920851065026717\t 1.4099196799518527\t 1.3254628773975998\n",
            "20 \t [-0.03382483  0.56462247]\t -0.8831886395369704\t -0.8920851065026717\t 1.6559744449993055\t 1.6797196548050695\n"
          ]
        }
      ],
      "source": [
        "### ESTIMATED GP EI GRADIENTS\n",
        "\n",
        "np.random.seed(run_num_13)\n",
        "surrogate_approx_13 = dGaussianProcess(cov_func, optimize=opt)\n",
        "\n",
        "approx_13 = GPGO_multi(surrogate_approx_13, Acquisition_grad(util), objfunc, param)\n",
        "approx_13.run(init_evals=n_init, max_iter=iters)\n"
      ]
    },
    {
      "cell_type": "code",
      "execution_count": 26,
      "metadata": {
        "id": "ojHTeARNGCoi",
        "colab": {
          "base_uri": "https://localhost:8080/"
        },
        "outputId": "7b0996a6-68c6-425b-fe1c-dee73b5816fe"
      },
      "outputs": [
        {
          "output_type": "stream",
          "name": "stdout",
          "text": [
            "Evaluation \t Proposed point \t  Current eval. \t  Best eval. \t        Exact EI: StdDev. x \t Approx EI: StdDev. x \n",
            "init\t [0.08366006 1.09266021]\t 1.0453292732107575\t -1.029299726828387\t    \t    \n",
            "init\t [ 2.22256611 -1.96781221]\t 48.81113313056442\t -1.029299726828387\t    \t    \n",
            "init\t [-1.14158445  1.83041496]\t 31.794043287944216\t -1.029299726828387\t    \t    \n",
            "init\t [ 0.07870027 -0.7268623 ]\t -1.029299726828387\t -1.029299726828387\t    \t    \n",
            "init\t [ 0.23519962 -1.11498023]\t 1.161934062902255\t -1.029299726828387\t    \t    \n",
            "1  \t [-1.4544454   0.80460528]\t 0.13632292703505466\t -1.029299726828387\t 1.503658355512916\t 1.503658355512916\n",
            "2  \t [-1.62889462 -1.85708112]\t 38.86111235771161\t -1.029299726828387\t 1.5374298505922563\t 1.5374298505922563\n",
            "3  \t [-0.15386684 -1.39029353]\t 7.520441668707877\t -1.029299726828387\t 1.3235846389965387\t 1.3235846389965387\n",
            "4  \t [0.42921709 0.75222473]\t 0.007928470491904593\t -1.029299726828387\t 1.4304797833357905\t 1.4304797833357905\n",
            "5  \t [ 0.09876308 -0.58209685]\t -0.9147782067163404\t -1.029299726828387\t 1.4222888461918506\t 1.4586446690184167\n",
            "6  \t [ 0.10508986 -0.56710323]\t -0.8883793957884603\t -1.029299726828387\t 1.548990660222237\t 1.5160718343938708\n",
            "7  \t [ 0.10836311 -0.56012253]\t -0.8752401400038528\t -1.029299726828387\t 1.4039867444312735\t 1.3878191801744404\n",
            "8  \t [ 0.11039063 -0.55609344]\t -0.8673967482317674\t -1.029299726828387\t 1.519346704484075\t 1.568885709208658\n",
            "9  \t [ 0.11177676 -0.55347767]\t -0.8621963200014204\t -1.029299726828387\t 1.8188764012469436\t 1.6555436889262645\n",
            "10 \t [ 0.11278461 -0.55164889]\t -0.8585070025976516\t -1.029299726828387\t 1.4507217748482761\t 1.6284444824504147\n",
            "11 \t [ 0.11355137 -0.55029998]\t -0.8557561581260379\t -1.029299726828387\t 1.577174033629558\t 1.6011638287405123\n",
            "12 \t [ 0.11414935 -0.54927304]\t -0.8536445019635308\t -1.029299726828387\t 1.4506662335270348\t 1.4822480687045358\n",
            "13 \t [ 0.1146352  -0.54845566]\t -0.8519525045056324\t -1.029299726828387\t 1.4955111849644767\t 1.5320061028652256\n",
            "14 \t [ 0.11502779 -0.54780533]\t -0.8505991897075922\t -1.029299726828387\t 1.5301055901419984\t 1.5723184262321332\n",
            "15 \t [ 0.11536215 -0.54725931]\t -0.8494578367128196\t -1.029299726828387\t 1.6560233155746245\t 1.655254280066851\n",
            "16 \t [ 0.11564159 -0.54680782]\t -0.8485106259768511\t -1.029299726828387\t 1.5120242679564486\t 1.5648562861125777\n",
            "17 \t [ 0.11588051 -0.54642532]\t -0.8477056823175914\t -1.029299726828387\t 1.4978151309815602\t 1.631522841110019\n",
            "18 \t [ 0.11608722 -0.5460969 ]\t -0.8470127384585341\t -1.029299726828387\t 1.42001618696909\t 1.3107684018578025\n",
            "19 \t [ 0.11626711 -0.54581294]\t -0.846412229228935\t -1.029299726828387\t 1.4915009798205903\t 1.3798056589022771\n",
            "20 \t [ 0.11642517 -0.54556472]\t -0.8458863194365874\t -1.029299726828387\t 1.3832745445708712\t 1.2248687927492583\n"
          ]
        }
      ],
      "source": [
        "### ESTIMATED GP EI GRADIENTS\n",
        "\n",
        "np.random.seed(run_num_14)\n",
        "surrogate_approx_14 = dGaussianProcess(cov_func, optimize=opt)\n",
        "\n",
        "approx_14 = GPGO_multi(surrogate_approx_14, Acquisition_grad(util), objfunc, param)\n",
        "approx_14.run(init_evals=n_init, max_iter=iters)\n"
      ]
    },
    {
      "cell_type": "code",
      "execution_count": 27,
      "metadata": {
        "id": "vCJzn4vWGCs3",
        "colab": {
          "base_uri": "https://localhost:8080/"
        },
        "outputId": "aba9d123-1eba-41ff-e48e-d4a7d8e3801d"
      },
      "outputs": [
        {
          "output_type": "stream",
          "name": "stdout",
          "text": [
            "Evaluation \t Proposed point \t  Current eval. \t  Best eval. \t        Exact EI: StdDev. x \t Approx EI: StdDev. x \n",
            "init\t [ 2.09290618 -1.2844163 ]\t 6.84252100896936\t 2.1163170846379233\t    \t    \n",
            "init\t [-2.67382071 -0.55384622]\t 43.69785230561242\t 2.1163170846379233\t    \t    \n",
            "init\t [-1.34759443  0.1200009 ]\t 2.1163170846379233\t 2.1163170846379233\t    \t    \n",
            "init\t [-1.16448651 -0.78210256]\t 2.3544087277459513\t 2.1163170846379233\t    \t    \n",
            "init\t [-2.32955234 -1.00040394]\t 15.469119251600274\t 2.1163170846379233\t    \t    \n",
            "1  \t [-0.29412245  1.27378191]\t 3.9960921816696384\t 2.1163170846379233\t 1.6652475909042934\t 1.3838769392479255\n",
            "2  \t [3. 2.]\t 162.89999999999998\t 2.1163170846379233\t 1.9332900265858242\t 2.116586385437655\n",
            "3  \t [-3.  2.]\t 150.89999999999998\t 2.1163170846379233\t 1.5502225487805232\t 1.8357033240015845\n",
            "\u001b[1m\u001b[92m4\u001b[0m\t \u001b[1m\u001b[92m[-0.26424574 -0.36728719]\u001b[0m\t \u001b[1m\u001b[92m-0.10057567848589999\u001b[0m\t \u001b[1m\u001b[92m-0.10057567848589999\u001b[0m\t \u001b[1m\u001b[92m1.2570650470832054\u001b[0m\t \u001b[1m\u001b[92m1.2552751889842089\u001b[0m\n",
            "5  \t [-0.2820856  -0.35947946]\t -0.04354061937452691\t -0.10057567848589999\t 1.5082514101571745\t 1.5237532933151754\n",
            "6  \t [-0.29038671 -0.35614229]\t -0.017014152740800093\t -0.10057567848589999\t 1.4270564788382654\t 1.5290133743747447\n",
            "7  \t [-0.29520331 -0.35444049]\t -0.0018979340644028064\t -0.10057567848589999\t 1.4062583937634925\t 1.443380656143637\n",
            "8  \t [-0.29834236 -0.3534808 ]\t 0.007742836251940333\t -0.10057567848589999\t 1.6370332767840334\t 1.677310428077206\n",
            "9  \t [-0.3005439  -0.35290335]\t 0.014359958243096882\t -0.10057567848589999\t 1.4150032358088493\t 1.255640921253567\n",
            "10 \t [-0.3021688  -0.35253931]\t 0.019146957887486937\t -0.10057567848589999\t 1.4640311637911243\t 1.516944537602167\n",
            "11 \t [-0.30341432 -0.35230123]\t 0.022751284237789382\t -0.10057567848589999\t 1.1582679848488797\t 1.04021332113775\n",
            "12 \t [-0.30439732 -0.35214168]\t 0.025550283962631537\t -0.10057567848589999\t 1.2403768543478366\t 1.0958880051209796\n",
            "13 \t [-0.30519143 -0.35203277]\t 0.027779024903263783\t -0.10057567848589999\t 1.6893755346455117\t 1.6479896075669502\n",
            "14 \t [-0.30584546 -0.35195727]\t 0.02959144581815193\t -0.10057567848589999\t 1.4852083843507349\t 1.6258209052138979\n",
            "15 \t [-0.30639261 -0.35190456]\t 0.031090556761941057\t -0.10057567848589999\t 1.1473486457932838\t 1.1272179720105167\n",
            "16 \t [-0.2915777 -2.       ]\t 48.9082516840391\t -0.10057567848589999\t 1.5281421815883522\t 1.5079865426273755\n",
            "17 \t [-0.33206782  0.18189467]\t 0.227623242719765\t -0.10057567848589999\t 1.2435174971235898\t 1.232427885177237\n",
            "18 \t [-0.3429343   0.14955882]\t 0.303154550306903\t -0.10057567848589999\t 1.3501156815818312\t 1.398634042249163\n",
            "19 \t [-0.3494118   0.12663609]\t 0.350292976082923\t -0.10057567848589999\t 1.5605358490535244\t 1.6595429571946083\n",
            "20 \t [-0.3534911   0.10945225]\t 0.3816492996850156\t -0.10057567848589999\t 1.367649000585789\t 1.537514530683033\n"
          ]
        }
      ],
      "source": [
        "### ESTIMATED GP EI GRADIENTS\n",
        "\n",
        "np.random.seed(run_num_15)\n",
        "surrogate_approx_15 = dGaussianProcess(cov_func, optimize=opt)\n",
        "\n",
        "approx_15 = GPGO_multi(surrogate_approx_15, Acquisition_grad(util), objfunc, param)\n",
        "approx_15.run(init_evals=n_init, max_iter=iters)\n"
      ]
    },
    {
      "cell_type": "code",
      "execution_count": 28,
      "metadata": {
        "id": "bGGkhp-kGCw6",
        "colab": {
          "base_uri": "https://localhost:8080/"
        },
        "outputId": "6a616348-db7f-461b-b65d-1296be385b65"
      },
      "outputs": [
        {
          "output_type": "stream",
          "name": "stdout",
          "text": [
            "Evaluation \t Proposed point \t  Current eval. \t  Best eval. \t        Exact EI: StdDev. x \t Approx EI: StdDev. x \n",
            "init\t [-1.66025353  0.09265337]\t 1.8632773736203017\t 1.8632773736203017\t    \t    \n",
            "init\t [ 0.30420874 -1.8175922 ]\t 30.24114424375299\t 1.8632773736203017\t    \t    \n",
            "init\t [-0.83562699 -1.10767623]\t 3.922061281476444\t 1.8632773736203017\t    \t    \n",
            "init\t [ 1.13235697 -1.3450743 ]\t 6.7121671493737685\t 1.8632773736203017\t    \t    \n",
            "init\t [-2.5780508   1.76404344]\t 53.42443470756798\t 1.8632773736203017\t    \t    \n",
            "1  \t [ 3.         -0.03875512]\t 108.77773581370919\t 1.8632773736203017\t 1.9114665365806804\t 2.093286322460776\n",
            "2  \t [-3. -2.]\t 162.89999999999998\t 1.8632773736203017\t 1.8524011860605218\t 1.786317076613612\n",
            "3  \t [0.5305076 2.       ]\t 50.027863324478524\t 1.8632773736203017\t 1.509210851489767\t 1.4931671938706692\n",
            "4  \t [-0.9006871  -0.01214672]\t 2.051236977570584\t 1.8632773736203017\t 1.5108391869492706\t 1.572323445013916\n",
            "5  \t [-1.02745641 -0.06836473]\t 2.3261497307559558\t 1.8632773736203017\t 1.6309729493988385\t 1.6080205313730274\n",
            "6  \t [3. 2.]\t 162.89999999999998\t 1.8632773736203017\t 1.690273725463391\t 1.6535882477200954\n",
            "7  \t [-0.85869534 -0.11316069]\t 1.9879063793711689\t 1.8632773736203017\t 1.3521644468491658\t 1.3656825438883637\n",
            "8  \t [-0.8649853  -0.11303592]\t 2.004146470016966\t 1.8632773736203017\t 1.3317537665934975\t 1.3379989184841297\n",
            "9  \t [-0.86919582 -0.11293818]\t 2.0149009154505166\t 1.8632773736203017\t 1.5411032557797737\t 1.5587410438738867\n",
            "10 \t [-0.8722068  -0.11286467]\t 2.0225331132765696\t 1.8632773736203017\t 1.5578837963331975\t 1.5789347954502038\n",
            "11 \t [-0.8744593  -0.11280767]\t 2.0282105473134844\t 1.8632773736203017\t 1.559244372557933\t 1.5510628551999912\n",
            "12 \t [-0.87620419 -0.11276348]\t 2.032589445935603\t 1.8632773736203017\t 1.6173870861142767\t 1.6360753916643087\n",
            "13 \t [-0.87759243 -0.11272892]\t 2.0360613401325853\t 1.8632773736203017\t 1.2483640340944346\t 1.2597947060771055\n",
            "14 \t [-0.87872103 -0.1127013 ]\t 2.0388760366958643\t 1.8632773736203017\t 1.1849744927998331\t 1.1829695984628519\n",
            "15 \t [-0.87965506 -0.11267913]\t 2.0412001337654617\t 1.8632773736203017\t 1.3299724510956885\t 1.299936467471203\n",
            "16 \t [-0.88043965 -0.11266121]\t 2.0431486248869\t 1.8632773736203017\t 1.3035257881667368\t 1.3111339385373588\n",
            "17 \t [-0.88110711 -0.11264652]\t 2.0448035473959996\t 1.8632773736203017\t 1.5730534582581037\t 1.573420547292245\n",
            "18 \t [-0.88168119 -0.11263445]\t 2.0462249540878044\t 1.8632773736203017\t 1.400007311653141\t 1.398170465523041\n",
            "19 \t [-0.88217953 -0.1126244 ]\t 2.047457331545024\t 1.8632773736203017\t 1.2840825775213915\t 1.281710112358802\n",
            "20 \t [-0.88261566 -0.11261622]\t 2.048534718097369\t 1.8632773736203017\t 1.509060123430912\t 1.5196110786207266\n"
          ]
        }
      ],
      "source": [
        "### ESTIMATED GP EI GRADIENTS\n",
        "\n",
        "np.random.seed(run_num_16)\n",
        "surrogate_approx_16 = dGaussianProcess(cov_func, optimize=opt)\n",
        "\n",
        "approx_16 = GPGO_multi(surrogate_approx_16, Acquisition_grad(util), objfunc, param)\n",
        "approx_16.run(init_evals=n_init, max_iter=iters)\n"
      ]
    },
    {
      "cell_type": "code",
      "execution_count": 29,
      "metadata": {
        "id": "Yrs2mp7hGC1Z",
        "colab": {
          "base_uri": "https://localhost:8080/"
        },
        "outputId": "c27a1781-3e7a-4805-ec3f-2e3a872129a7"
      },
      "outputs": [
        {
          "output_type": "stream",
          "name": "stdout",
          "text": [
            "Evaluation \t Proposed point \t  Current eval. \t  Best eval. \t        Exact EI: StdDev. x \t Approx EI: StdDev. x \n",
            "init\t [-1.23200998  0.12234702]\t 2.189206652278967\t 1.7722768782964888\t    \t    \n",
            "init\t [-1.85087528 -1.72839857]\t 29.406067820453675\t 1.7722768782964888\t    \t    \n",
            "init\t [1.72191276 0.62533409]\t 2.2113401446731897\t 1.7722768782964888\t    \t    \n",
            "init\t [0.82512538 0.30241158]\t 1.7722768782964888\t 1.7722768782964888\t    \t    \n",
            "init\t [-2.7656225  -0.56874558]\t 57.5922315952177\t 1.7722768782964888\t    \t    \n",
            "\u001b[1m\u001b[92m1\u001b[0m\t \u001b[1m\u001b[92m[-0.56134556  1.10217356]\u001b[0m\t \u001b[1m\u001b[92m1.4873272720988813\u001b[0m\t \u001b[1m\u001b[92m1.4873272720988813\u001b[0m\t \u001b[1m\u001b[92m1.7273412412490092\u001b[0m\t \u001b[1m\u001b[92m1.7355849654565598\u001b[0m\n",
            "2  \t [ 3. -2.]\t 150.89999999999998\t 1.4873272720988813\t 1.511277849062731\t 1.965011524434138\n",
            "3  \t [3. 2.]\t 162.89999999999998\t 1.4873272720988813\t 1.791665024987311\t 1.6501130048323238\n",
            "4  \t [0.92820367 0.18337486]\t 2.1408437913902167\t 1.4873272720988813\t 1.494839250661731\t 1.7125484593256675\n",
            "5  \t [-1.64952015  2.        ]\t 46.75217941522892\t 1.4873272720988813\t 1.2726071534417207\t 1.6905400165810662\n",
            "\u001b[1m\u001b[92m6\u001b[0m\t \u001b[1m\u001b[92m[-0.25615604  0.26097052]\u001b[0m\t \u001b[1m\u001b[92m-0.06720171945163261\u001b[0m\t \u001b[1m\u001b[92m-0.06720171945163261\u001b[0m\t \u001b[1m\u001b[92m1.42050022147657\u001b[0m\t \u001b[1m\u001b[92m1.3864852915668575\u001b[0m\n",
            "\u001b[1m\u001b[92m7\u001b[0m\t \u001b[1m\u001b[92m[-0.25453908  0.26987231]\u001b[0m\t \u001b[1m\u001b[92m-0.08836391669062482\u001b[0m\t \u001b[1m\u001b[92m-0.08836391669062482\u001b[0m\t \u001b[1m\u001b[92m1.216324842987886\u001b[0m\t \u001b[1m\u001b[92m1.1374766818084352\u001b[0m\n",
            "\u001b[1m\u001b[92m8\u001b[0m\t \u001b[1m\u001b[92m[-0.25378582  0.27373031]\u001b[0m\t \u001b[1m\u001b[92m-0.09771838090409762\u001b[0m\t \u001b[1m\u001b[92m-0.09771838090409762\u001b[0m\t \u001b[1m\u001b[92m1.4875133658913127\u001b[0m\t \u001b[1m\u001b[92m1.4521524317301877\u001b[0m\n",
            "\u001b[1m\u001b[92m9\u001b[0m\t \u001b[1m\u001b[92m[-0.25337074  0.27583014]\u001b[0m\t \u001b[1m\u001b[92m-0.10284174503814306\u001b[0m\t \u001b[1m\u001b[92m-0.10284174503814306\u001b[0m\t \u001b[1m\u001b[92m1.519638107079771\u001b[0m\t \u001b[1m\u001b[92m1.5058843440612246\u001b[0m\n",
            "\u001b[1m\u001b[92m10\u001b[0m\t \u001b[1m\u001b[92m[-0.25311617  0.27712938]\u001b[0m\t \u001b[1m\u001b[92m-0.10601631464482095\u001b[0m\t \u001b[1m\u001b[92m-0.10601631464482095\u001b[0m\t \u001b[1m\u001b[92m1.2361033438016658\u001b[0m\t \u001b[1m\u001b[92m1.1202016359806948\u001b[0m\n",
            "\u001b[1m\u001b[92m11\u001b[0m\t \u001b[1m\u001b[92m[-0.25294753  0.27800343]\u001b[0m\t \u001b[1m\u001b[92m-0.10815121607335346\u001b[0m\t \u001b[1m\u001b[92m-0.10815121607335346\u001b[0m\t \u001b[1m\u001b[92m1.6337624086625147\u001b[0m\t \u001b[1m\u001b[92m1.5573968137553833\u001b[0m\n",
            "\u001b[1m\u001b[92m12\u001b[0m\t \u001b[1m\u001b[92m[-0.25283007  0.27862581]\u001b[0m\t \u001b[1m\u001b[92m-0.10966889528717946\u001b[0m\t \u001b[1m\u001b[92m-0.10966889528717946\u001b[0m\t \u001b[1m\u001b[92m1.275492007319745\u001b[0m\t \u001b[1m\u001b[92m1.1717189015541243\u001b[0m\n",
            "\u001b[1m\u001b[92m13\u001b[0m\t \u001b[1m\u001b[92m[-0.25274394  0.27908986]\u001b[0m\t \u001b[1m\u001b[92m-0.1107991034784731\u001b[0m\t \u001b[1m\u001b[92m-0.1107991034784731\u001b[0m\t \u001b[1m\u001b[92m1.1538984089086974\u001b[0m\t \u001b[1m\u001b[92m1.0593568123075459\u001b[0m\n",
            "\u001b[1m\u001b[92m14\u001b[0m\t \u001b[1m\u001b[92m[-0.25267958  0.27944701]\u001b[0m\t \u001b[1m\u001b[92m-0.11166635684406748\u001b[0m\t \u001b[1m\u001b[92m-0.11166635684406748\u001b[0m\t \u001b[1m\u001b[92m1.4278903929534303\u001b[0m\t \u001b[1m\u001b[92m1.3175114275165118\u001b[0m\n",
            "\u001b[1m\u001b[92m15\u001b[0m\t \u001b[1m\u001b[92m[-0.25262933  0.27972968]\u001b[0m\t \u001b[1m\u001b[92m-0.11235200584414035\u001b[0m\t \u001b[1m\u001b[92m-0.11235200584414035\u001b[0m\t \u001b[1m\u001b[92m1.2611849253968885\u001b[0m\t \u001b[1m\u001b[92m1.1891026945755083\u001b[0m\n",
            "\u001b[1m\u001b[92m16\u001b[0m\t \u001b[1m\u001b[92m[-0.25258972  0.27995808]\u001b[0m\t \u001b[1m\u001b[92m-0.11290462658885739\u001b[0m\t \u001b[1m\u001b[92m-0.11290462658885739\u001b[0m\t \u001b[1m\u001b[92m1.1897945602031292\u001b[0m\t \u001b[1m\u001b[92m1.0588564274890508\u001b[0m\n",
            "\u001b[1m\u001b[92m17\u001b[0m\t \u001b[1m\u001b[92m[-0.25255772  0.28014622]\u001b[0m\t \u001b[1m\u001b[92m-0.11335897500668224\u001b[0m\t \u001b[1m\u001b[92m-0.11335897500668224\u001b[0m\t \u001b[1m\u001b[92m1.2126809077349687\u001b[0m\t \u001b[1m\u001b[92m1.0857430033924407\u001b[0m\n",
            "\u001b[1m\u001b[92m18\u001b[0m\t \u001b[1m\u001b[92m[-0.25253158  0.28030347]\u001b[0m\t \u001b[1m\u001b[92m-0.11373784485680744\u001b[0m\t \u001b[1m\u001b[92m-0.11373784485680744\u001b[0m\t \u001b[1m\u001b[92m1.3116268401400837\u001b[0m\t \u001b[1m\u001b[92m1.3001811115318853\u001b[0m\n",
            "\u001b[1m\u001b[92m19\u001b[0m\t \u001b[1m\u001b[92m[-0.25250997  0.28043656]\u001b[0m\t \u001b[1m\u001b[92m-0.11405774856558912\u001b[0m\t \u001b[1m\u001b[92m-0.11405774856558912\u001b[0m\t \u001b[1m\u001b[92m1.352064370582827\u001b[0m\t \u001b[1m\u001b[92m1.1923457205423897\u001b[0m\n",
            "\u001b[1m\u001b[92m20\u001b[0m\t \u001b[1m\u001b[92m[-0.25249155  0.28055075]\u001b[0m\t \u001b[1m\u001b[92m-0.11433208881255644\u001b[0m\t \u001b[1m\u001b[92m-0.11433208881255644\u001b[0m\t \u001b[1m\u001b[92m1.469802387862524\u001b[0m\t \u001b[1m\u001b[92m1.4184563399912955\u001b[0m\n"
          ]
        }
      ],
      "source": [
        "### ESTIMATED GP EI GRADIENTS\n",
        "\n",
        "np.random.seed(run_num_17)\n",
        "surrogate_approx_17 = dGaussianProcess(cov_func, optimize=opt)\n",
        "\n",
        "approx_17 = GPGO_multi(surrogate_approx_17, Acquisition_grad(util), objfunc, param)\n",
        "approx_17.run(init_evals=n_init, max_iter=iters)\n"
      ]
    },
    {
      "cell_type": "code",
      "execution_count": 30,
      "metadata": {
        "id": "f0HIEP3PIUEa",
        "colab": {
          "base_uri": "https://localhost:8080/"
        },
        "outputId": "73a5c75d-d1ec-4c0e-99bc-04a9e555da20"
      },
      "outputs": [
        {
          "output_type": "stream",
          "name": "stdout",
          "text": [
            "Evaluation \t Proposed point \t  Current eval. \t  Best eval. \t        Exact EI: StdDev. x \t Approx EI: StdDev. x \n",
            "init\t [0.90224545 0.02181349]\t 2.062169771852028\t 2.062169771852028\t    \t    \n",
            "init\t [ 2.27160883 -1.2726391 ]\t 11.64729291207819\t 2.062169771852028\t    \t    \n",
            "init\t [2.11339841 1.00054514]\t 7.792128760671214\t 2.062169771852028\t    \t    \n",
            "init\t [0.99661    1.95158179]\t 46.96206222999227\t 2.062169771852028\t    \t    \n",
            "init\t [-1.45818946 -1.8867763 ]\t 41.4190528039297\t 2.062169771852028\t    \t    \n",
            "1  \t [-3.  2.]\t 150.89999999999998\t 2.062169771852028\t 1.5684416146864366\t 1.9759773081772518\n",
            "\u001b[1m\u001b[92m2\u001b[0m\t \u001b[1m\u001b[92m[ 0.51176222 -0.47802758]\u001b[0m\t \u001b[1m\u001b[92m-0.04026260186133801\u001b[0m\t \u001b[1m\u001b[92m-0.04026260186133801\u001b[0m\t \u001b[1m\u001b[92m1.283929167433976\u001b[0m\t \u001b[1m\u001b[92m1.4392569649446192\u001b[0m\n",
            "\u001b[1m\u001b[92m3\u001b[0m\t \u001b[1m\u001b[92m[ 0.47426567 -0.47355321]\u001b[0m\t \u001b[1m\u001b[92m-0.1231830838295096\u001b[0m\t \u001b[1m\u001b[92m-0.1231830838295096\u001b[0m\t \u001b[1m\u001b[92m1.4964997635943633\u001b[0m\t \u001b[1m\u001b[92m1.340137285173025\u001b[0m\n",
            "\u001b[1m\u001b[92m4\u001b[0m\t \u001b[1m\u001b[92m[ 0.45910274 -0.47274645]\u001b[0m\t \u001b[1m\u001b[92m-0.15827878760698832\u001b[0m\t \u001b[1m\u001b[92m-0.15827878760698832\u001b[0m\t \u001b[1m\u001b[92m1.598530036342101\u001b[0m\t \u001b[1m\u001b[92m1.478217971451699\u001b[0m\n",
            "\u001b[1m\u001b[92m5\u001b[0m\t \u001b[1m\u001b[92m[ 0.45015123 -0.47230882]\u001b[0m\t \u001b[1m\u001b[92m-0.17877288016798976\u001b[0m\t \u001b[1m\u001b[92m-0.17877288016798976\u001b[0m\t \u001b[1m\u001b[92m1.4710589330872539\u001b[0m\t \u001b[1m\u001b[92m1.3669070339541192\u001b[0m\n",
            "\u001b[1m\u001b[92m6\u001b[0m\t \u001b[1m\u001b[92m[ 0.44398916 -0.47192173]\u001b[0m\t \u001b[1m\u001b[92m-0.19251406060422915\u001b[0m\t \u001b[1m\u001b[92m-0.19251406060422915\u001b[0m\t \u001b[1m\u001b[92m1.363153059521159\u001b[0m\t \u001b[1m\u001b[92m1.2505491343450967\u001b[0m\n",
            "\u001b[1m\u001b[92m7\u001b[0m\t \u001b[1m\u001b[92m[ 0.43936995 -0.47153956]\u001b[0m\t \u001b[1m\u001b[92m-0.2024994991702989\u001b[0m\t \u001b[1m\u001b[92m-0.2024994991702989\u001b[0m\t \u001b[1m\u001b[92m1.5490513081653248\u001b[0m\t \u001b[1m\u001b[92m1.5491380473787135\u001b[0m\n",
            "\u001b[1m\u001b[92m8\u001b[0m\t \u001b[1m\u001b[92m[ 0.43571699 -0.47115919]\u001b[0m\t \u001b[1m\u001b[92m-0.21014770551678774\u001b[0m\t \u001b[1m\u001b[92m-0.21014770551678774\u001b[0m\t \u001b[1m\u001b[92m1.2950288501728182\u001b[0m\t \u001b[1m\u001b[92m1.367122923824355\u001b[0m\n",
            "\u001b[1m\u001b[92m9\u001b[0m\t \u001b[1m\u001b[92m[ 0.43271583 -0.47078228]\u001b[0m\t \u001b[1m\u001b[92m-0.2162344442943705\u001b[0m\t \u001b[1m\u001b[92m-0.2162344442943705\u001b[0m\t \u001b[1m\u001b[92m1.6385485989267172\u001b[0m\t \u001b[1m\u001b[92m1.566294998802745\u001b[0m\n",
            "\u001b[1m\u001b[92m10\u001b[0m\t \u001b[1m\u001b[92m[ 0.43018091 -0.47041132]\u001b[0m\t \u001b[1m\u001b[92m-0.22121862006437948\u001b[0m\t \u001b[1m\u001b[92m-0.22121862006437948\u001b[0m\t \u001b[1m\u001b[92m1.6076692029943287\u001b[0m\t \u001b[1m\u001b[92m1.480091912956701\u001b[0m\n",
            "\u001b[1m\u001b[92m11\u001b[0m\t \u001b[1m\u001b[92m[ 0.42799398 -0.47004812]\u001b[0m\t \u001b[1m\u001b[92m-0.22539173843560723\u001b[0m\t \u001b[1m\u001b[92m-0.22539173843560723\u001b[0m\t \u001b[1m\u001b[92m1.6450463885209727\u001b[0m\t \u001b[1m\u001b[92m1.6178600742201914\u001b[0m\n",
            "\u001b[1m\u001b[92m12\u001b[0m\t \u001b[1m\u001b[92m[ 0.42607583 -0.46969356]\u001b[0m\t \u001b[1m\u001b[92m-0.22894743041902943\u001b[0m\t \u001b[1m\u001b[92m-0.22894743041902943\u001b[0m\t \u001b[1m\u001b[92m1.2932643776591575\u001b[0m\t \u001b[1m\u001b[92m1.3806914435099902\u001b[0m\n",
            "\u001b[1m\u001b[92m13\u001b[0m\t \u001b[1m\u001b[92m[ 0.42437028 -0.46934819]\u001b[0m\t \u001b[1m\u001b[92m-0.23202230434982118\u001b[0m\t \u001b[1m\u001b[92m-0.23202230434982118\u001b[0m\t \u001b[1m\u001b[92m1.4126178601944275\u001b[0m\t \u001b[1m\u001b[92m1.3807816125049328\u001b[0m\n",
            "\u001b[1m\u001b[92m14\u001b[0m\t \u001b[1m\u001b[92m[ 0.42283593 -0.46901175]\u001b[0m\t \u001b[1m\u001b[92m-0.23471487848307226\u001b[0m\t \u001b[1m\u001b[92m-0.23471487848307226\u001b[0m\t \u001b[1m\u001b[92m1.316463978570674\u001b[0m\t \u001b[1m\u001b[92m1.3440805935163769\u001b[0m\n",
            "\u001b[1m\u001b[92m15\u001b[0m\t \u001b[1m\u001b[92m[ 0.42144366 -0.46868442]\u001b[0m\t \u001b[1m\u001b[92m-0.2370953442703867\u001b[0m\t \u001b[1m\u001b[92m-0.2370953442703867\u001b[0m\t \u001b[1m\u001b[92m1.3823044279077559\u001b[0m\t \u001b[1m\u001b[92m1.2745704187375841\u001b[0m\n",
            "\u001b[1m\u001b[92m16\u001b[0m\t \u001b[1m\u001b[92m[ 0.42016944 -0.46836587]\u001b[0m\t \u001b[1m\u001b[92m-0.23922016800279133\u001b[0m\t \u001b[1m\u001b[92m-0.23922016800279133\u001b[0m\t \u001b[1m\u001b[92m1.3222585301468406\u001b[0m\t \u001b[1m\u001b[92m1.373242645696674\u001b[0m\n",
            "\u001b[1m\u001b[92m17\u001b[0m\t \u001b[1m\u001b[92m[ 0.41899636 -0.46805589]\u001b[0m\t \u001b[1m\u001b[92m-0.24112910902739815\u001b[0m\t \u001b[1m\u001b[92m-0.24112910902739815\u001b[0m\t \u001b[1m\u001b[92m1.8255970536205577\u001b[0m\t \u001b[1m\u001b[92m1.6559399192512918\u001b[0m\n",
            "\u001b[1m\u001b[92m18\u001b[0m\t \u001b[1m\u001b[92m[ 0.4179082  -0.46775378]\u001b[0m\t \u001b[1m\u001b[92m-0.24285875355676434\u001b[0m\t \u001b[1m\u001b[92m-0.24285875355676434\u001b[0m\t \u001b[1m\u001b[92m1.5130153588585153\u001b[0m\t \u001b[1m\u001b[92m1.5101406148961662\u001b[0m\n",
            "\u001b[1m\u001b[92m19\u001b[0m\t \u001b[1m\u001b[92m[ 0.4168949  -0.46745945]\u001b[0m\t \u001b[1m\u001b[92m-0.24443282384217013\u001b[0m\t \u001b[1m\u001b[92m-0.24443282384217013\u001b[0m\t \u001b[1m\u001b[92m1.3924225403450052\u001b[0m\t \u001b[1m\u001b[92m1.3172332280785373\u001b[0m\n",
            "\u001b[1m\u001b[92m20\u001b[0m\t \u001b[1m\u001b[92m[ 0.41594582 -0.46717212]\u001b[0m\t \u001b[1m\u001b[92m-0.24587446598575113\u001b[0m\t \u001b[1m\u001b[92m-0.24587446598575113\u001b[0m\t \u001b[1m\u001b[92m1.377010960640224\u001b[0m\t \u001b[1m\u001b[92m1.4335361003823428\u001b[0m\n"
          ]
        }
      ],
      "source": [
        "### ESTIMATED GP EI GRADIENTS\n",
        "\n",
        "np.random.seed(run_num_18)\n",
        "surrogate_approx_18 = dGaussianProcess(cov_func, optimize=opt)\n",
        "\n",
        "approx_18 = GPGO_multi(surrogate_approx_18, Acquisition_grad(util), objfunc, param)\n",
        "approx_18.run(init_evals=n_init, max_iter=iters)\n"
      ]
    },
    {
      "cell_type": "code",
      "execution_count": 31,
      "metadata": {
        "id": "S3mxRQDLIUPC",
        "colab": {
          "base_uri": "https://localhost:8080/"
        },
        "outputId": "75c5aa35-3f7f-4580-f1cd-1eeeeafc5bc7"
      },
      "outputs": [
        {
          "output_type": "stream",
          "name": "stdout",
          "text": [
            "Evaluation \t Proposed point \t  Current eval. \t  Best eval. \t        Exact EI: StdDev. x \t Approx EI: StdDev. x \n",
            "init\t [-2.41479839  1.04499887]\t 15.890475442873509\t 6.578088852480828\t    \t    \n",
            "init\t [-1.51837216 -1.44747325]\t 13.520839509777993\t 6.578088852480828\t    \t    \n",
            "init\t [-1.01132062 -1.66800174]\t 23.772158573571232\t 6.578088852480828\t    \t    \n",
            "init\t [1.03186249 1.22637519]\t 6.578088852480828\t 6.578088852480828\t    \t    \n",
            "init\t [2.89645149 0.54264294]\t 83.31828503667734\t 6.578088852480828\t    \t    \n",
            "1  \t [-0.06732654  2.        ]\t 47.883435261481274\t 6.578088852480828\t 1.797354758479782\t 1.9489966056383858\n",
            "2  \t [ 1.6601776 -2.       ]\t 46.73078880991421\t 6.578088852480828\t 1.6007675421946566\t 1.9452479921222432\n",
            "3  \t [-3. -2.]\t 162.89999999999998\t 6.578088852480828\t 1.3908864420026368\t 1.4637107498551578\n",
            "\u001b[1m\u001b[92m4\u001b[0m\t \u001b[1m\u001b[92m[-0.29980324 -0.24443928]\u001b[0m\t \u001b[1m\u001b[92m0.1913665272375651\u001b[0m\t \u001b[1m\u001b[92m0.1913665272375651\u001b[0m\t \u001b[1m\u001b[92m1.4001543785310886\u001b[0m\t \u001b[1m\u001b[92m1.4671649985267594\u001b[0m\n",
            "\u001b[1m\u001b[92m5\u001b[0m\t \u001b[1m\u001b[92m[-0.25485076 -0.22735444]\u001b[0m\t \u001b[1m\u001b[92m0.11289713311979496\u001b[0m\t \u001b[1m\u001b[92m0.11289713311979496\u001b[0m\t \u001b[1m\u001b[92m1.3376324789816956\u001b[0m\t \u001b[1m\u001b[92m1.3117398378543508\u001b[0m\n",
            "\u001b[1m\u001b[92m6\u001b[0m\t \u001b[1m\u001b[92m[-0.23412967 -0.22074958]\u001b[0m\t \u001b[1m\u001b[92m0.07927259518451213\u001b[0m\t \u001b[1m\u001b[92m0.07927259518451213\u001b[0m\t \u001b[1m\u001b[92m1.4825734400261008\u001b[0m\t \u001b[1m\u001b[92m1.5293908268342713\u001b[0m\n",
            "\u001b[1m\u001b[92m7\u001b[0m\t \u001b[1m\u001b[92m[-0.22124551 -0.21708434]\u001b[0m\t \u001b[1m\u001b[92m0.0592154495696946\u001b[0m\t \u001b[1m\u001b[92m0.0592154495696946\u001b[0m\t \u001b[1m\u001b[92m1.2590880884411078\u001b[0m\t \u001b[1m\u001b[92m1.4227493672624898\u001b[0m\n",
            "\u001b[1m\u001b[92m8\u001b[0m\t \u001b[1m\u001b[92m[-0.21203832 -0.21467778]\u001b[0m\t \u001b[1m\u001b[92m0.045295906518114604\u001b[0m\t \u001b[1m\u001b[92m0.045295906518114604\u001b[0m\t \u001b[1m\u001b[92m1.4368626108395188\u001b[0m\t \u001b[1m\u001b[92m1.572628851446679\u001b[0m\n",
            "\u001b[1m\u001b[92m9\u001b[0m\t \u001b[1m\u001b[92m[-0.20492552 -0.21293818]\u001b[0m\t \u001b[1m\u001b[92m0.03478875061887987\u001b[0m\t \u001b[1m\u001b[92m0.03478875061887987\u001b[0m\t \u001b[1m\u001b[92m1.5009001005367473\u001b[0m\t \u001b[1m\u001b[92m1.528667912306776\u001b[0m\n",
            "\u001b[1m\u001b[92m10\u001b[0m\t \u001b[1m\u001b[92m[-0.19915112 -0.21159985]\u001b[0m\t \u001b[1m\u001b[92m0.026423537177821615\u001b[0m\t \u001b[1m\u001b[92m0.026423537177821615\u001b[0m\t \u001b[1m\u001b[92m1.6327265315408253\u001b[0m\t \u001b[1m\u001b[92m1.5955266022637242\u001b[0m\n",
            "\u001b[1m\u001b[92m11\u001b[0m\t \u001b[1m\u001b[92m[-0.19430136 -0.2105258 ]\u001b[0m\t \u001b[1m\u001b[92m0.01951534632202989\u001b[0m\t \u001b[1m\u001b[92m0.01951534632202989\u001b[0m\t \u001b[1m\u001b[92m1.2096641260238583\u001b[0m\t \u001b[1m\u001b[92m1.158675914021074\u001b[0m\n",
            "\u001b[1m\u001b[92m12\u001b[0m\t \u001b[1m\u001b[92m[-0.19012378 -0.20963508]\u001b[0m\t \u001b[1m\u001b[92m0.013654521847517392\u001b[0m\t \u001b[1m\u001b[92m0.013654521847517392\u001b[0m\t \u001b[1m\u001b[92m1.414296529321382\u001b[0m\t \u001b[1m\u001b[92m1.4572838464721887\u001b[0m\n",
            "\u001b[1m\u001b[92m13\u001b[0m\t \u001b[1m\u001b[92m[-0.18645577 -0.20887846]\u001b[0m\t \u001b[1m\u001b[92m0.008578978688109501\u001b[0m\t \u001b[1m\u001b[92m0.008578978688109501\u001b[0m\t \u001b[1m\u001b[92m1.4883632031471516\u001b[0m\t \u001b[1m\u001b[92m1.537851216641309\u001b[0m\n",
            "\u001b[1m\u001b[92m14\u001b[0m\t \u001b[1m\u001b[92m[-0.18318719 -0.20822334]\u001b[0m\t \u001b[1m\u001b[92m0.00411327398390951\u001b[0m\t \u001b[1m\u001b[92m0.00411327398390951\u001b[0m\t \u001b[1m\u001b[92m1.3378711721139722\u001b[0m\t \u001b[1m\u001b[92m1.2622339648509173\u001b[0m\n",
            "\u001b[1m\u001b[92m15\u001b[0m\t \u001b[1m\u001b[92m[-0.18023772 -0.20764695]\u001b[0m\t \u001b[1m\u001b[92m0.0001309948311205289\u001b[0m\t \u001b[1m\u001b[92m0.0001309948311205289\u001b[0m\t \u001b[1m\u001b[92m1.4533271338333245\u001b[0m\t \u001b[1m\u001b[92m1.469021799247312\u001b[0m\n",
            "\u001b[1m\u001b[92m16\u001b[0m\t \u001b[1m\u001b[92m[-0.17755047 -0.20713381]\u001b[0m\t \u001b[1m\u001b[92m-0.0034576093134443264\u001b[0m\t \u001b[1m\u001b[92m-0.0034576093134443264\u001b[0m\t \u001b[1m\u001b[92m1.231217164495892\u001b[0m\t \u001b[1m\u001b[92m1.118230542808466\u001b[0m\n",
            "\u001b[1m\u001b[92m17\u001b[0m\t \u001b[1m\u001b[92m[-0.17508091 -0.20667174]\u001b[0m\t \u001b[1m\u001b[92m-0.006721204644408313\u001b[0m\t \u001b[1m\u001b[92m-0.006721204644408313\u001b[0m\t \u001b[1m\u001b[92m1.3106674987390212\u001b[0m\t \u001b[1m\u001b[92m1.2770249431945322\u001b[0m\n",
            "\u001b[1m\u001b[92m18\u001b[0m\t \u001b[1m\u001b[92m[-0.17279501 -0.2062519 ]\u001b[0m\t \u001b[1m\u001b[92m-0.009712349687822058\u001b[0m\t \u001b[1m\u001b[92m-0.009712349687822058\u001b[0m\t \u001b[1m\u001b[92m1.488252682214121\u001b[0m\t \u001b[1m\u001b[92m1.468230653523921\u001b[0m\n",
            "\u001b[1m\u001b[92m19\u001b[0m\t \u001b[1m\u001b[92m[-0.17066721 -0.20586777]\u001b[0m\t \u001b[1m\u001b[92m-0.012470717813991533\u001b[0m\t \u001b[1m\u001b[92m-0.012470717813991533\u001b[0m\t \u001b[1m\u001b[92m1.2266244957137709\u001b[0m\t \u001b[1m\u001b[92m1.1882333557526361\u001b[0m\n",
            "\u001b[1m\u001b[92m20\u001b[0m\t \u001b[1m\u001b[92m[-0.16867415 -0.20551336]\u001b[0m\t \u001b[1m\u001b[92m-0.015031046797912784\u001b[0m\t \u001b[1m\u001b[92m-0.015031046797912784\u001b[0m\t \u001b[1m\u001b[92m1.2264057099399472\u001b[0m\t \u001b[1m\u001b[92m1.1451217989489502\u001b[0m\n"
          ]
        }
      ],
      "source": [
        "### ESTIMATED GP EI GRADIENTS\n",
        "\n",
        "np.random.seed(run_num_19)\n",
        "surrogate_approx_19 = dGaussianProcess(cov_func, optimize=opt)\n",
        "\n",
        "approx_19 = GPGO_multi(surrogate_approx_19, Acquisition_grad(util), objfunc, param)\n",
        "approx_19.run(init_evals=n_init, max_iter=iters)\n"
      ]
    },
    {
      "cell_type": "code",
      "execution_count": 32,
      "metadata": {
        "id": "Aawd59dRIUYn",
        "colab": {
          "base_uri": "https://localhost:8080/"
        },
        "outputId": "75c17fc7-6964-4226-f438-1b0c94d3ca24"
      },
      "outputs": [
        {
          "output_type": "stream",
          "name": "stdout",
          "text": [
            "Evaluation \t Proposed point \t  Current eval. \t  Best eval. \t        Exact EI: StdDev. x \t Approx EI: StdDev. x \n",
            "init\t [0.52878481 1.59085491]\t 17.29968374481291\t 1.5037392797834441\t    \t    \n",
            "init\t [2.34918438 1.26334991]\t 20.91583049569433\t 1.5037392797834441\t    \t    \n",
            "init\t [-2.78466249  0.76703033]\t 57.06253405225224\t 1.5037392797834441\t    \t    \n",
            "init\t [-0.72791435  0.07404378]\t 1.5037392797834441\t 1.5037392797834441\t    \t    \n",
            "init\t [ 0.94770879 -1.22459913]\t 3.9766737661914173\t 1.5037392797834441\t    \t    \n",
            "1  \t [-1.16398621 -2.        ]\t 52.721571463784784\t 1.5037392797834441\t 1.3324272198238858\t 1.418126412193633\n",
            "2  \t [ 3. -2.]\t 150.89999999999998\t 1.5037392797834441\t 1.426996743005563\t 2.1729945285420658\n",
            "\u001b[1m\u001b[92m3\u001b[0m\t \u001b[1m\u001b[92m[ 0.4438744  -0.31812966]\u001b[0m\t \u001b[1m\u001b[92m0.20406365159544554\u001b[0m\t \u001b[1m\u001b[92m0.20406365159544554\u001b[0m\t \u001b[1m\u001b[92m1.4196483333820615\u001b[0m\t \u001b[1m\u001b[92m1.3969933944710704\u001b[0m\n",
            "4  \t [ 0.44429587 -0.31605691]\t 0.2102530037359901\t 0.20406365159544554\t 1.5676198509560149\t 1.543968111908451\n",
            "5  \t [ 0.44451909 -0.3150365 ]\t 0.2133357521618327\t 0.20406365159544554\t 1.3550969725954918\t 1.2869293424150337\n",
            "6  \t [ 0.44464918 -0.31442342]\t 0.21517635776930205\t 0.20406365159544554\t 1.6600083584065188\t 1.650352522297157\n",
            "7  \t [ 0.44473305 -0.31401295]\t 0.21639995543434432\t 0.20406365159544554\t 1.6699828836382484\t 1.6310092643277425\n",
            "8  \t [ 0.44479162 -0.3137185 ]\t 0.2172733392126749\t 0.20406365159544554\t 1.4269931352129128\t 1.3724998172504412\n",
            "9  \t [ 0.44483447 -0.3134966 ]\t 0.21792813469813238\t 0.20406365159544554\t 1.4285653059131818\t 1.4521548116198653\n",
            "10 \t [ 0.44486732 -0.3133233 ]\t 0.2184378165064481\t 0.20406365159544554\t 1.4451162161852371\t 1.4269266413073596\n",
            "11 \t [ 0.44489328 -0.31318433]\t 0.21884553032210752\t 0.20406365159544554\t 1.4631443743124866\t 1.4256215391297744\n",
            "12 \t [ 0.44491389 -0.31306969]\t 0.21917977803086452\t 0.20406365159544554\t 1.603715328608081\t 1.5334592590334084\n",
            "13 \t [ 0.44493126 -0.31297419]\t 0.21945867792429596\t 0.20406365159544554\t 1.7570896270657255\t 1.6919744516099342\n",
            "14 \t [ 0.44494547 -0.31289285]\t 0.2196947454194182\t 0.20406365159544554\t 1.3110277631271938\t 1.3325744071610457\n",
            "15 \t [ 0.44495772 -0.31282307]\t 0.21989739961508908\t 0.20406365159544554\t 1.2217794643003417\t 1.2190549242710864\n",
            "16 \t [ 0.44496823 -0.31276239]\t 0.22007325146471218\t 0.20406365159544554\t 1.3724875727521937\t 1.3098831945484841\n",
            "17 \t [ 0.44497721 -0.31270904]\t 0.22022717241552747\t 0.20406365159544554\t 1.4057628380717773\t 1.365233801484\n",
            "18 \t [ 0.44498503 -0.31266182]\t 0.22036306988278037\t 0.20406365159544554\t 1.377329549977917\t 1.364852975044023\n",
            "19 \t [ 0.44499217 -0.31261991]\t 0.2204842050145518\t 0.20406365159544554\t 1.475271336506971\t 1.477076275797019\n",
            "20 \t [ 0.44499841 -0.31258218]\t 0.22059277028859609\t 0.20406365159544554\t 1.198357358409604\t 1.097045280183965\n"
          ]
        }
      ],
      "source": [
        "### ESTIMATED GP EI GRADIENTS\n",
        "\n",
        "np.random.seed(run_num_20)\n",
        "surrogate_approx_20 = dGaussianProcess(cov_func, optimize=opt)\n",
        "\n",
        "approx_20 = GPGO_multi(surrogate_approx_20, Acquisition_grad(util), objfunc, param)\n",
        "approx_20.run(init_evals=n_init, max_iter=iters)\n"
      ]
    },
    {
      "cell_type": "code",
      "execution_count": 33,
      "metadata": {
        "id": "xkgzPRbBTHaq",
        "colab": {
          "base_uri": "https://localhost:8080/"
        },
        "outputId": "f1a33f7b-09e1-4a7a-ffba-08152b9ee594"
      },
      "outputs": [
        {
          "output_type": "execute_result",
          "data": {
            "text/plain": [
              "1659618985.8669708"
            ]
          },
          "metadata": {},
          "execution_count": 33
        }
      ],
      "source": [
        "end_approx = time.time()\n",
        "end_approx\n",
        "\n",
        "time_approx = end_approx - start_approx\n",
        "time_approx\n",
        "\n",
        "start_exact = time.time()\n",
        "start_exact"
      ]
    },
    {
      "cell_type": "code",
      "execution_count": 34,
      "metadata": {
        "id": "7CG3Ndvb16Rb",
        "colab": {
          "base_uri": "https://localhost:8080/"
        },
        "outputId": "bf1d79a3-7310-49af-dc50-38f15e094ccd"
      },
      "outputs": [
        {
          "output_type": "stream",
          "name": "stdout",
          "text": [
            "Evaluation \t Proposed point \t  Current eval. \t  Best eval. \t        Exact EI: StdDev. x \t Approx EI: StdDev. x \n",
            "init\t [-0.49786797  0.88129797]\t -0.2650082867644827\t -0.2650082867644827\t    \t    \n",
            "init\t [-2.99931375 -0.79066971]\t 110.13991869176735\t -0.2650082867644827\t    \t    \n",
            "init\t [-2.11946466 -1.63064562]\t 26.90935479429681\t -0.2650082867644827\t    \t    \n",
            "init\t [-1.88243873 -0.61775709]\t 2.8558363102363344\t -0.2650082867644827\t    \t    \n",
            "init\t [-0.61939515  0.15526694]\t 1.0540522096005847\t -0.2650082867644827\t    \t    \n",
            "1  \t [-1.34842186  0.02459082]\t 2.298488744298476\t -0.2650082867644827\t 1.645326235622079\t 1.6778193987387862\n",
            "2  \t [-0.50091151  1.78990154]\t 28.22112560802088\t -0.2650082867644827\t 1.3091139361101003\t 1.4932378657173417\n",
            "3  \t [0.85510059 0.00392344]\t 1.9356296333698189\t -0.2650082867644827\t 1.6930711638929417\t 1.8142089062061513\n",
            "4  \t [-1.12067199 -0.51675561]\t 2.167809393784526\t -0.2650082867644827\t 1.936062167041235\t 2.1689991709723113\n",
            "5  \t [3. 2.]\t 162.89999999999998\t -0.2650082867644827\t 1.6285790771270932\t 2.039459743388541\n",
            "6  \t [ 1.62245446 -2.        ]\t 46.81311522637849\t -0.2650082867644827\t 1.2070736942453313\t 2.136845076371286\n",
            "7  \t [ 3.         -0.35610001]\t 107.3887913775218\t -0.2650082867644827\t 1.5047563586651738\t 1.6424614605187935\n",
            "8  \t [-0.52181698 -0.37302855]\t 0.6557028255418851\t -0.2650082867644827\t 1.590232839479671\t 1.5741033209532367\n",
            "9  \t [-0.69617495 -0.1611455 ]\t 1.4943182803886503\t -0.2650082867644827\t 1.4689254648484777\t 1.416312230690488\n",
            "10 \t [-0.46684215 -0.44899254]\t 0.341262554261321\t -0.2650082867644827\t 1.5763429518955048\t 1.5474996193165895\n",
            "11 \t [-0.60103952 -0.27730032]\t 1.069395593135068\t -0.2650082867644827\t 1.3713436954436258\t 1.1968484034563531\n",
            "12 \t [-0.81813486 -0.02524856]\t 1.8546006877232946\t -0.2650082867644827\t 1.4759663081434988\t 1.4081885001125245\n",
            "13 \t [-0.82989536 -0.01615553]\t 1.8800443603748072\t -0.2650082867644827\t 1.2084153767202508\t 1.1414832641269381\n",
            "14 \t [-0.75129952 -0.11627529]\t 1.6826881660807826\t -0.2650082867644827\t 1.4328632221412179\t 1.4381854170523667\n",
            "15 \t [-0.57167579 -0.35032573]\t 0.8642027388015802\t -0.2650082867644827\t 1.352224057023567\t 1.3851131252737372\n",
            "16 \t [-0.83871339 -0.00985918]\t 1.8985292632881536\t -0.2650082867644827\t 1.385333710391237\t 1.3108172555220037\n",
            "17 \t [-0.4496271 -0.7749311]\t 0.11442993981103822\t -0.2650082867644827\t 1.4270314844290968\t 1.293919759597883\n",
            "18 \t [-0.46919819 -0.91656628]\t 0.6750746677973986\t -0.2650082867644827\t 1.473521887206535\t 1.3539244342573509\n",
            "19 \t [-0.49183676 -1.07429333]\t 2.0892422926582626\t -0.2650082867644827\t 1.6214298557124625\t 1.6771669370367845\n",
            "20 \t [-0.44623583 -0.57733042]\t 0.08463695369975122\t -0.2650082867644827\t 1.5224192629439244\t 1.8181091970356538\n"
          ]
        }
      ],
      "source": [
        "### EXACT GP EI GRADIENTS\n",
        "\n",
        "np.random.seed(run_num_1)\n",
        "surrogate_exact_1 = dGaussianProcess(cov_func, optimize=opt)\n",
        "\n",
        "exact_1 = dGPGO(surrogate_exact_1, Acquisition_grad(util), objfunc, param)\n",
        "exact_1.run(init_evals=n_init, max_iter=iters)\n"
      ]
    },
    {
      "cell_type": "code",
      "execution_count": 35,
      "metadata": {
        "id": "-ilCPSAu9SAg",
        "colab": {
          "base_uri": "https://localhost:8080/"
        },
        "outputId": "8cf48031-1964-464b-f2ef-9a5ba0330df1"
      },
      "outputs": [
        {
          "output_type": "stream",
          "name": "stdout",
          "text": [
            "Evaluation \t Proposed point \t  Current eval. \t  Best eval. \t        Exact EI: StdDev. x \t Approx EI: StdDev. x \n",
            "init\t [-0.38403059 -1.89629507]\t 38.61280125654363\t 0.011939608840498828\t    \t    \n",
            "init\t [ 0.29797487 -0.25871043]\t 0.011939608840498828\t 0.011939608840498828\t    \t    \n",
            "init\t [-0.47779319 -0.67866072]\t 0.1381453419305213\t 0.011939608840498828\t    \t    \n",
            "init\t [-1.7721082   0.47708387]\t 0.626144759281101\t 0.011939608840498828\t    \t    \n",
            "init\t [-1.20207196 -0.9326909 ]\t 3.0693811601417798\t 0.011939608840498828\t    \t    \n",
            "1  \t [-0.33284618 -0.15113291]\t 0.37885113965685036\t 0.011939608840498828\t 1.8271840313611294\t 1.9016469625565071\n",
            "2  \t [ 1.86163603 -0.17289443]\t 2.0772566578487015\t 0.011939608840498828\t 1.4682128416911657\t 1.8303063010698943\n",
            "3  \t [3. 2.]\t 162.89999999999998\t 0.011939608840498828\t 2.028166258363174\t 2.097879696877479\n",
            "4  \t [0.0453504 2.       ]\t 48.0989185461113\t 0.011939608840498828\t 1.7032759005762983\t 2.1125113748043156\n",
            "5  \t [-3. -2.]\t 162.89999999999998\t 0.011939608840498828\t 1.799595480108182\t 2.097789831936724\n",
            "6  \t [-1.38888576  0.23137782]\t 1.7704059942862713\t 0.011939608840498828\t 1.5120090409270415\t 1.9002325400280646\n",
            "7  \t [ 2.95949804 -1.71013206]\t 115.3572510288562\t 0.011939608840498828\t 1.4435523968854043\t 1.9382192855279772\n",
            "8  \t [-3.          1.26247211]\t 108.8984908909892\t 0.011939608840498828\t 1.278179140680791\t 1.460359984557387\n",
            "9  \t [0.71033136 0.15984124]\t 1.54041456953325\t 0.011939608840498828\t 1.4116868181800282\t 1.4227929932326666\n",
            "10 \t [ 1.16534891 -1.25524217]\t 4.559202048754839\t 0.011939608840498828\t 1.3954967666237534\t 1.3559729749056713\n",
            "11 \t [-0.39321652 -0.14404942]\t 0.5448681164382301\t 0.011939608840498828\t 1.4396351737575745\t 1.3785950200138237\n",
            "\u001b[1m\u001b[92m12\u001b[0m\t \u001b[1m\u001b[92m[-0.11437347 -0.26923973]\u001b[0m\t \u001b[1m\u001b[92m-0.18618046478841396\u001b[0m\t \u001b[1m\u001b[92m-0.18618046478841396\u001b[0m\t \u001b[1m\u001b[92m1.2526864326005878\u001b[0m\t \u001b[1m\u001b[92m1.0617665138187857\u001b[0m\n",
            "\u001b[1m\u001b[92m13\u001b[0m\t \u001b[1m\u001b[92m[-0.10315472 -0.27177603]\u001b[0m\t \u001b[1m\u001b[92m-0.20326514279651214\u001b[0m\t \u001b[1m\u001b[92m-0.20326514279651214\u001b[0m\t \u001b[1m\u001b[92m1.4544556963496267\u001b[0m\t \u001b[1m\u001b[92m1.4767119986594828\u001b[0m\n",
            "\u001b[1m\u001b[92m14\u001b[0m\t \u001b[1m\u001b[92m[-0.0183514  -0.30356533]\u001b[0m\t \u001b[1m\u001b[92m-0.3277220273996849\u001b[0m\t \u001b[1m\u001b[92m-0.3277220273996849\u001b[0m\t \u001b[1m\u001b[92m1.5003398318885743\u001b[0m\t \u001b[1m\u001b[92m1.5674063790109796\u001b[0m\n",
            "\u001b[1m\u001b[92m15\u001b[0m\t \u001b[1m\u001b[92m[ 0.04292948 -0.32912871]\u001b[0m\t \u001b[1m\u001b[92m-0.39312969940124765\u001b[0m\t \u001b[1m\u001b[92m-0.39312969940124765\u001b[0m\t \u001b[1m\u001b[92m1.4243980351112613\u001b[0m\t \u001b[1m\u001b[92m1.4528516294617315\u001b[0m\n",
            "16 \t [-0.08218628 -0.27443301]\t -0.22908816327244785\t -0.39312969940124765\t 1.3153021450689084\t 1.2419793711524902\n",
            "17 \t [-0.02054164 -0.30143818]\t -0.32255462764488574\t -0.39312969940124765\t 1.4638156568225817\t 1.3453117800053036\n",
            "18 \t [-0.29295921 -0.1650157 ]\t 0.2704307009342957\t -0.39312969940124765\t 1.3637193273215311\t 1.3212079105197096\n",
            "19 \t [-0.1194938  -0.25395206]\t -0.15429631637569163\t -0.39312969940124765\t 1.4062478585660234\t 1.3773807983544561\n",
            "20 \t [-0.19219136 -0.21894015]\t 0.0044319006283300155\t -0.39312969940124765\t 1.448576855964823\t 1.3610789797992975\n"
          ]
        }
      ],
      "source": [
        "### EXACT GP EI GRADIENTS\n",
        "\n",
        "np.random.seed(run_num_2)\n",
        "surrogate_exact_2 = dGaussianProcess(cov_func, optimize=opt)\n",
        "\n",
        "exact_2 = dGPGO(surrogate_exact_2, Acquisition_grad(util), objfunc, param)\n",
        "exact_2.run(init_evals=n_init, max_iter=iters)\n"
      ]
    },
    {
      "cell_type": "code",
      "execution_count": 36,
      "metadata": {
        "id": "XieJ158mIvlP",
        "colab": {
          "base_uri": "https://localhost:8080/"
        },
        "outputId": "e7c34523-e5f0-4c45-d2e3-fa0692444d78"
      },
      "outputs": [
        {
          "output_type": "stream",
          "name": "stdout",
          "text": [
            "Evaluation \t Proposed point \t  Current eval. \t  Best eval. \t        Exact EI: StdDev. x \t Approx EI: StdDev. x \n",
            "init\t [0.30478742 0.83259129]\t -0.2431922946563294\t -0.2431922946563294\t    \t    \n",
            "init\t [-1.25457157  0.04331042]\t 2.3313310458730996\t -0.2431922946563294\t    \t    \n",
            "init\t [2.35768173 1.58517236]\t 33.54152175045586\t -0.2431922946563294\t    \t    \n",
            "init\t [-2.24648814 -1.17102849]\t 14.214109412296352\t -0.2431922946563294\t    \t    \n",
            "init\t [-2.69119678 -0.23676063]\t 45.87579771712209\t -0.2431922946563294\t    \t    \n",
            "\u001b[1m\u001b[92m1\u001b[0m\t \u001b[1m\u001b[92m[-0.23427272  0.34276166]\u001b[0m\t \u001b[1m\u001b[92m-0.28176624140728523\u001b[0m\t \u001b[1m\u001b[92m-0.28176624140728523\u001b[0m\t \u001b[1m\u001b[92m1.070840000306685\u001b[0m\t \u001b[1m\u001b[92m1.0803297857748255\u001b[0m\n",
            "\u001b[1m\u001b[92m2\u001b[0m\t \u001b[1m\u001b[92m[-0.2597991   0.43414653]\u001b[0m\t \u001b[1m\u001b[92m-0.4641021017909768\u001b[0m\t \u001b[1m\u001b[92m-0.4641021017909768\u001b[0m\t \u001b[1m\u001b[92m1.2496869654375133\u001b[0m\t \u001b[1m\u001b[92m1.0065025485739965\u001b[0m\n",
            "3  \t [-0.22783909  0.34505678]\t -0.29613871080575577\t -0.4641021017909768\t 1.309458729150818\t 1.0498171545696888\n",
            "4  \t [-0.16526056  0.18129012]\t -0.0494191870160251\t -0.4641021017909768\t 1.118135364222944\t 1.1406784556018852\n",
            "5  \t [-0.41119437  0.94660749]\t -0.14386835097926326\t -0.4641021017909768\t 1.3875829904546781\t 1.5794570539025332\n",
            "6  \t [-0.23177476  0.37653567]\t -0.3651129771719712\t -0.4641021017909768\t 1.2808390417207753\t 1.4893294437508853\n",
            "7  \t [-0.18200394  0.22941545]\t -0.11099050547753977\t -0.4641021017909768\t 1.2469310485889522\t 1.2929518344970239\n",
            "\u001b[1m\u001b[92m8\u001b[0m\t \u001b[1m\u001b[92m[-0.28661488  0.57116672]\u001b[0m\t \u001b[1m\u001b[92m-0.7283171192388234\u001b[0m\t \u001b[1m\u001b[92m-0.7283171192388234\u001b[0m\t \u001b[1m\u001b[92m1.3080860148109854\u001b[0m\t \u001b[1m\u001b[92m1.6751110769442674\u001b[0m\n",
            "\u001b[1m\u001b[92m9\u001b[0m\t \u001b[1m\u001b[92m[-0.35275578  0.77046287]\u001b[0m\t \u001b[1m\u001b[92m-0.7708601961446222\u001b[0m\t \u001b[1m\u001b[92m-0.7708601961446222\u001b[0m\t \u001b[1m\u001b[92m1.2250706064515537\u001b[0m\t \u001b[1m\u001b[92m1.5305185734514406\u001b[0m\n",
            "10 \t [-0.3915737   0.89053069]\t -0.4400568302126271\t -0.7708601961446222\t 1.3563745892839518\t 1.9229848770028584\n",
            "11 \t [-0.40144978  0.90913512]\t -0.3469941020637188\t -0.7708601961446222\t 1.3574017782753949\t 1.9232859041400263\n",
            "12 \t [-0.35513199  0.77934914]\t -0.7589044523434066\t -0.7708601961446222\t 1.3442733397194564\t 1.7856840110615806\n",
            "13 \t [-0.41260848  0.93820382]\t -0.18706016512475854\t -0.7708601961446222\t 1.38676360749717\t 2.075369332089105\n",
            "\u001b[1m\u001b[92m14\u001b[0m\t \u001b[1m\u001b[92m[-0.29648284  0.61156741]\u001b[0m\t \u001b[1m\u001b[92m-0.7822215844106273\u001b[0m\t \u001b[1m\u001b[92m-0.7822215844106273\u001b[0m\t \u001b[1m\u001b[92m1.120004758242666\u001b[0m\t \u001b[1m\u001b[92m1.5101431540074404\u001b[0m\n",
            "\u001b[1m\u001b[92m15\u001b[0m\t \u001b[1m\u001b[92m[-0.30257678  0.62705502]\u001b[0m\t \u001b[1m\u001b[92m-0.7952409897270862\u001b[0m\t \u001b[1m\u001b[92m-0.7952409897270862\u001b[0m\t \u001b[1m\u001b[92m1.2243488125602588\u001b[0m\t \u001b[1m\u001b[92m1.4238654832433146\u001b[0m\n",
            "\u001b[1m\u001b[92m16\u001b[0m\t \u001b[1m\u001b[92m[-0.31938007  0.66788798]\u001b[0m\t \u001b[1m\u001b[92m-0.815159867835074\u001b[0m\t \u001b[1m\u001b[92m-0.815159867835074\u001b[0m\t \u001b[1m\u001b[92m1.3679014948104786\u001b[0m\t \u001b[1m\u001b[92m1.7351437794994122\u001b[0m\n",
            "17 \t [-0.36428782  0.77482547]\t -0.7473565273176985\t -0.815159867835074\t 1.0798900876643065\t 1.7635833641373821\n",
            "18 \t [-0.24595915  0.49917732]\t -0.6367585989428196\t -0.815159867835074\t 1.501224388981237\t 1.966390130411846\n",
            "\u001b[1m\u001b[92m19\u001b[0m\t \u001b[1m\u001b[92m[-0.32910388  0.69286004]\u001b[0m\t \u001b[1m\u001b[92m-0.8174056677888712\u001b[0m\t \u001b[1m\u001b[92m-0.8174056677888712\u001b[0m\t \u001b[1m\u001b[92m1.2612237420266348\u001b[0m\t \u001b[1m\u001b[92m1.5529622863115449\u001b[0m\n",
            "20 \t [-0.17439184  0.33071301]\t -0.32759279725108154\t -0.8174056677888712\t 1.0668849582981434\t 2.0140124983953074\n"
          ]
        }
      ],
      "source": [
        "### EXACT GP EI GRADIENTS\n",
        "\n",
        "np.random.seed(run_num_3)\n",
        "surrogate_exact_3 = dGaussianProcess(cov_func, optimize=opt)\n",
        "\n",
        "exact_3 = dGPGO(surrogate_exact_3, Acquisition_grad(util), objfunc, param)\n",
        "exact_3.run(init_evals=n_init, max_iter=iters)\n"
      ]
    },
    {
      "cell_type": "code",
      "execution_count": 37,
      "metadata": {
        "id": "PhLBVOIfIvol",
        "colab": {
          "base_uri": "https://localhost:8080/"
        },
        "outputId": "60f50f19-7095-4fca-da89-32297535d0cc"
      },
      "outputs": [
        {
          "output_type": "stream",
          "name": "stdout",
          "text": [
            "Evaluation \t Proposed point \t  Current eval. \t  Best eval. \t        Exact EI: StdDev. x \t Approx EI: StdDev. x \n",
            "init\t [2.80217903 0.188929  ]\t 63.70212732873661\t 2.3196402150601703\t    \t    \n",
            "init\t [2.83610616 0.85926397]\t 71.43837110827245\t 2.3196402150601703\t    \t    \n",
            "init\t [ 1.18637295 -1.13564202]\t 2.5463267765341566\t 2.3196402150601703\t    \t    \n",
            "init\t [ 2.85764673 -1.97507898]\t 113.76785286351424\t 2.3196402150601703\t    \t    \n",
            "init\t [-1.48210583 -0.26083387]\t 2.3196402150601703\t 2.3196402150601703\t    \t    \n",
            "\u001b[1m\u001b[92m1\u001b[0m\t \u001b[1m\u001b[92m[ 0.12488458 -1.04322159]\u001b[0m\t \u001b[1m\u001b[92m0.31603352375594995\u001b[0m\t \u001b[1m\u001b[92m0.31603352375594995\u001b[0m\t \u001b[1m\u001b[92m1.5620230230601773\u001b[0m\t \u001b[1m\u001b[92m1.8285561060845568\u001b[0m\n",
            "\u001b[1m\u001b[92m2\u001b[0m\t \u001b[1m\u001b[92m[ 0.11456054 -0.93096396]\u001b[0m\t \u001b[1m\u001b[92m-0.5166585597847311\u001b[0m\t \u001b[1m\u001b[92m-0.5166585597847311\u001b[0m\t \u001b[1m\u001b[92m1.652143398768551\u001b[0m\t \u001b[1m\u001b[92m1.7868907664860487\u001b[0m\n",
            "3  \t [ 0.16672343 -1.38827986]\t 7.027093319743217\t -0.5166585597847311\t 1.608181197007326\t 1.7467045555941367\n",
            "4  \t [-3. -2.]\t 162.89999999999998\t -0.5166585597847311\t 1.8275023195117854\t 2.0227574675120854\n",
            "5  \t [-0.80525712  0.54825643]\t 0.5192239812096271\t -0.5166585597847311\t 1.2420443288981042\t 0.9751913770385854\n",
            "6  \t [-0.8394837   0.51822898]\t 0.6718487397028993\t -0.5166585597847311\t 1.349352679356011\t 1.3163634158142257\n",
            "7  \t [-0.12792319 -0.10335402]\t 0.035846056194104886\t -0.5166585597847311\t 1.14734399734854\t 1.4811772189917725\n",
            "8  \t [-1.75308813  1.22634049]\t 3.0157628387994206\t -0.5166585597847311\t 1.2818491628865707\t 1.5856022505602303\n",
            "9  \t [-0.1032717  -0.13772724]\t -0.017790860263108388\t -0.5166585597847311\t 1.218468684197958\t 1.3109237852447235\n",
            "10 \t [-0.44747168  0.18813617]\t 0.4986502474843779\t -0.5166585597847311\t 1.727055487892312\t 1.9235331618044706\n",
            "11 \t [-0.08507476 -0.16408231]\t -0.06199238620673731\t -0.5166585597847311\t 1.6184006666932944\t 1.7360356459645039\n",
            "12 \t [-0.40143292  0.14064046]\t 0.4574423084817104\t -0.5166585597847311\t 1.4095670350468232\t 1.4912199820188168\n",
            "13 \t [ 0.05537925 -0.32905565]\t -0.3921894526461285\t -0.5166585597847311\t 1.2194132836940426\t 1.2453876735012461\n",
            "14 \t [-0.04370243 -0.2066166 ]\t -0.14681019112341182\t -0.5166585597847311\t 1.2655339043505154\t 1.358364130926885\n",
            "15 \t [-0.1070731  -0.13672337]\t -0.013152890026571704\t -0.5166585597847311\t 1.4798562679041605\t 1.414014989481029\n",
            "16 \t [ 0.01495883 -0.27423481]\t -0.2814031864999838\t -0.5166585597847311\t 1.337702552292974\t 1.4519359838356365\n",
            "17 \t [-0.17611554 -0.06444158]\t 0.11686368614276095\t -0.5166585597847311\t 1.2722334570228448\t 1.5475145572918534\n",
            "18 \t [-0.18608848 -0.05598099]\t 0.13393251266958395\t -0.5166585597847311\t 1.3546848257171666\t 1.2821818239967473\n",
            "19 \t [ 0.0212125  -0.28189694]\t -0.2967845191987135\t -0.5166585597847311\t 1.4317628139570915\t 1.5356800980646288\n",
            "20 \t [-0.31137395  0.06220581]\t 0.33359105488610413\t -0.5166585597847311\t 1.216343543486713\t 1.3916308421636305\n"
          ]
        }
      ],
      "source": [
        "### EXACT GP EI GRADIENTS\n",
        "\n",
        "np.random.seed(run_num_4)\n",
        "surrogate_exact_4 = dGaussianProcess(cov_func, optimize=opt)\n",
        "\n",
        "exact_4 = dGPGO(surrogate_exact_4, Acquisition_grad(util), objfunc, param)\n",
        "exact_4.run(init_evals=n_init, max_iter=iters)\n"
      ]
    },
    {
      "cell_type": "code",
      "execution_count": 38,
      "metadata": {
        "id": "arbiPyj2IvsJ",
        "colab": {
          "base_uri": "https://localhost:8080/"
        },
        "outputId": "e3a6122b-05bf-4855-8b3f-6de2127780aa"
      },
      "outputs": [
        {
          "output_type": "stream",
          "name": "stdout",
          "text": [
            "Evaluation \t Proposed point \t  Current eval. \t  Best eval. \t        Exact EI: StdDev. x \t Approx EI: StdDev. x \n",
            "init\t [-1.66804097  1.48292922]\t 10.126030408244933\t -0.6512780061070701\t    \t    \n",
            "init\t [-1.75968507  1.67444363]\t 19.4300499315822\t -0.6512780061070701\t    \t    \n",
            "init\t [-0.06953287  0.44697545]\t -0.6512780061070701\t -0.6512780061070701\t    \t    \n",
            "init\t [1.59544714 0.07367195]\t 2.168775388880503\t -0.6512780061070701\t    \t    \n",
            "init\t [-1.21919699 -1.24911509]\t 7.420330936884148\t -0.6512780061070701\t    \t    \n",
            "\u001b[1m\u001b[92m1\u001b[0m\t \u001b[1m\u001b[92m[0.05116232 0.51750735]\u001b[0m\t \u001b[1m\u001b[92m-0.7474255558912951\u001b[0m\t \u001b[1m\u001b[92m-0.7474255558912951\u001b[0m\t \u001b[1m\u001b[92m1.902985995553426\u001b[0m\t \u001b[1m\u001b[92m2.077654598203811\u001b[0m\n",
            "\u001b[1m\u001b[92m2\u001b[0m\t \u001b[1m\u001b[92m[0.04197673 0.52504891]\u001b[0m\t \u001b[1m\u001b[92m-0.7696341003545442\u001b[0m\t \u001b[1m\u001b[92m-0.7696341003545442\u001b[0m\t \u001b[1m\u001b[92m1.8844944739266878\u001b[0m\t \u001b[1m\u001b[92m1.789588445271941\u001b[0m\n",
            "3  \t [0.15776294 0.29933735]\t -0.18081153966523086\t -0.7696341003545442\t 1.9636179562149796\t 1.9377336680189998\n",
            "\u001b[1m\u001b[92m4\u001b[0m\t \u001b[1m\u001b[92m[0.05897232 0.64803745]\u001b[0m\t \u001b[1m\u001b[92m-0.9222677826244536\u001b[0m\t \u001b[1m\u001b[92m-0.9222677826244536\u001b[0m\t \u001b[1m\u001b[92m1.7256996804646831\u001b[0m\t \u001b[1m\u001b[92m2.039212619859009\u001b[0m\n",
            "5  \t [0.09282774 0.71363127]\t -0.8990992822043197\t -0.9222677826244536\t 1.8139553395548325\t 2.0068559912206316\n",
            "6  \t [0.11918539 0.72614446]\t -0.854078296531081\t -0.9222677826244536\t 1.9585120589914202\t 2.002214856259232\n",
            "7  \t [0.14742426 0.73179827]\t -0.801118919042952\t -0.9222677826244536\t 1.6516093996236232\t 1.7012724993035957\n",
            "8  \t [0.24716882 0.56130641]\t -0.48785067410981453\t -0.9222677826244536\t 1.7411400192611135\t 2.1504524035928894\n",
            "9  \t [0.20444538 0.61596418]\t -0.6523558149937141\t -0.9222677826244536\t 1.8329166992058825\t 1.908008466921289\n",
            "10 \t [0.14189997 0.77305559]\t -0.772495032138341\t -0.9222677826244536\t 1.783634763005051\t 1.7601493859258077\n",
            "11 \t [0.17607405 0.71116928]\t -0.7526489136594824\t -0.9222677826244536\t 1.6530264319399237\t 2.116567975364276\n",
            "12 \t [0.21128689 0.6430003 ]\t -0.6597653137534608\t -0.9222677826244536\t 1.7940313273084219\t 1.7563870453149981\n",
            "13 \t [0.11618954 0.95703783]\t -0.143221627001016\t -0.9222677826244536\t 1.7931803550537524\t 1.984645787015974\n",
            "14 \t [0.10032073 0.77572252]\t -0.8407257990200163\t -0.9222677826244536\t 1.5259445649176189\t 1.8696842456109954\n",
            "15 \t [0.10656677 1.1236759 ]\t 1.4914271476105263\t -0.9222677826244536\t 1.7174510747340161\t 1.8384947739406101\n",
            "16 \t [0.27583713 0.2260182 ]\t 0.1607798981297822\t -0.9222677826244536\t 2.024455683692949\t 2.0537641705048366\n",
            "\u001b[1m\u001b[92m17\u001b[0m\t \u001b[1m\u001b[92m[-0.08959482  0.76281912]\u001b[0m\t \u001b[1m\u001b[92m-1.0095450001362256\u001b[0m\t \u001b[1m\u001b[92m-1.0095450001362256\u001b[0m\t \u001b[1m\u001b[92m1.9062116808153602\u001b[0m\t \u001b[1m\u001b[92m2.0739695671223912\u001b[0m\n",
            "18 \t [0.0187384  0.50165683]\t -0.7425036369759588\t -1.0095450001362256\t 1.8936285140885425\t 2.126687019334606\n",
            "19 \t [0.14645264 0.36917634]\t -0.33196596601147754\t -1.0095450001362256\t 1.7531963019111847\t 2.013548813151301\n",
            "20 \t [-0.01263194  0.54152206]\t -0.835213633231056\t -1.0095450001362256\t 1.8252844493822649\t 1.9957317653650597\n"
          ]
        }
      ],
      "source": [
        "### EXACT GP EI GRADIENTS\n",
        "\n",
        "np.random.seed(run_num_5)\n",
        "surrogate_exact_5 = dGaussianProcess(cov_func, optimize=opt)\n",
        "\n",
        "exact_5 = dGPGO(surrogate_exact_5, Acquisition_grad(util), objfunc, param)\n",
        "exact_5.run(init_evals=n_init, max_iter=iters)\n"
      ]
    },
    {
      "cell_type": "code",
      "execution_count": 39,
      "metadata": {
        "id": "04KJCEm_Ivvf",
        "colab": {
          "base_uri": "https://localhost:8080/"
        },
        "outputId": "4d532683-a24e-4061-8ca1-5d67833b1c8a"
      },
      "outputs": [
        {
          "output_type": "stream",
          "name": "stdout",
          "text": [
            "Evaluation \t Proposed point \t  Current eval. \t  Best eval. \t        Exact EI: StdDev. x \t Approx EI: StdDev. x \n",
            "init\t [ 2.35716091 -0.67208078]\t 11.995980169715628\t -0.3096187466378422\t    \t    \n",
            "init\t [ 1.92737474 -1.8332135 ]\t 31.167927894156623\t -0.3096187466378422\t    \t    \n",
            "init\t [-2.35405992  0.38020826]\t 13.013381745677465\t -0.3096187466378422\t    \t    \n",
            "init\t [ 0.17890417 -0.32477029]\t -0.3096187466378422\t -0.3096187466378422\t    \t    \n",
            "init\t [-0.9875529   0.49007773]\t 0.9989196280666852\t -0.3096187466378422\t    \t    \n",
            "\u001b[1m\u001b[92m1\u001b[0m\t \u001b[1m\u001b[92m[0.14627217 0.59167743]\u001b[0m\t \u001b[1m\u001b[92m-0.7389285172760638\u001b[0m\t \u001b[1m\u001b[92m-0.7389285172760638\u001b[0m\t \u001b[1m\u001b[92m1.750761057780245\u001b[0m\t \u001b[1m\u001b[92m1.4586053131473808\u001b[0m\n",
            "2  \t [0.1734084  0.59105884]\t -0.6883323355176936\t -0.7389285172760638\t 1.9920736808346187\t 1.6610745542880345\n",
            "3  \t [0.10874721 1.04782015]\t 0.5910253160530531\t -0.7389285172760638\t 1.996803535981329\t 1.5828269301027864\n",
            "\u001b[1m\u001b[92m4\u001b[0m\t \u001b[1m\u001b[92m[-0.00815565  0.66103642]\u001b[0m\t \u001b[1m\u001b[92m-0.9892335809169472\u001b[0m\t \u001b[1m\u001b[92m-0.9892335809169472\u001b[0m\t \u001b[1m\u001b[92m2.058191234576618\u001b[0m\t \u001b[1m\u001b[92m1.9595258309341304\u001b[0m\n",
            "5  \t [0.04052365 0.39883655]\t -0.5123432514380764\t -0.9892335809169472\t 1.7994918046180466\t 1.5100013079173131\n",
            "6  \t [0.04274281 0.39027323]\t -0.49247338553476083\t -0.9892335809169472\t 2.033912280152179\t 1.7573003137852805\n",
            "7  \t [-0.02415808  0.7709483 ]\t -0.9806746865905359\t -0.9892335809169472\t 1.7662224463490337\t 1.8808590949233277\n",
            "8  \t [0.0130683  0.63009409]\t -0.9486619717056818\t -0.9892335809169472\t 1.9669817637643574\t 1.5576106097070272\n",
            "9  \t [0.04694897 0.4972894 ]\t -0.7124104210831732\t -0.9892335809169472\t 1.7713488218648001\t 1.3735041531775143\n",
            "10 \t [0.00519202 0.66818251]\t -0.984960198780195\t -0.9892335809169472\t 1.9400734559180535\t 1.694970882029068\n",
            "11 \t [-0.09988173  1.5031415 ]\t 11.27199779123628\t -0.9892335809169472\t 1.942691600861702\t 1.6763729860329437\n",
            "12 \t [-0.02776098  0.03271001]\t -0.002101819901591711\t -0.9892335809169472\t 1.8452172467742602\t 1.6043693672303014\n",
            "13 \t [-0.21389289  0.21580817]\t -0.045139130948777334\t -0.9892335809169472\t 1.7995344132693276\t 1.7784471967516517\n",
            "14 \t [0.01129732 0.10954801]\t -0.0456789117238104\t -0.9892335809169472\t 1.9304590212430768\t 1.9621953950295734\n",
            "15 \t [ 0.35007533 -0.03886675]\t 0.43964456816340214\t -0.9892335809169472\t 1.7751015069030005\t 1.8975427417540212\n",
            "16 \t [0.00021487 0.12537628]\t -0.061861350004203376\t -0.9892335809169472\t 1.8278358850720577\t 1.914245465956615\n",
            "17 \t [ 0.30598615 -0.01177648]\t 0.3522167348504515\t -0.9892335809169472\t 1.8245815231503866\t 1.9908731434476794\n",
            "18 \t [3. 2.]\t 162.89999999999998\t -0.9892335809169472\t 1.999308873334055\t 2.002277415056396\n",
            "19 \t [-0.40501562  0.44024999]\t -0.2022090896315606\t -0.9892335809169472\t 1.7077881617946509\t 1.677185163988274\n",
            "20 \t [-0.29034496  0.3386865 ]\t -0.18206113058803086\t -0.9892335809169472\t 1.8134499116556007\t 1.752099223667159\n"
          ]
        }
      ],
      "source": [
        "### EXACT GP EI GRADIENTS\n",
        "\n",
        "np.random.seed(run_num_6)\n",
        "surrogate_exact_6 = dGaussianProcess(cov_func, optimize=opt)\n",
        "\n",
        "exact_6 = dGPGO(surrogate_exact_6, Acquisition_grad(util), objfunc, param)\n",
        "exact_6.run(init_evals=n_init, max_iter=iters)\n"
      ]
    },
    {
      "cell_type": "code",
      "execution_count": 40,
      "metadata": {
        "id": "tAOkme3CIvyO",
        "colab": {
          "base_uri": "https://localhost:8080/"
        },
        "outputId": "291f7875-5c22-41d7-b0af-9a1d6dd7b1f5"
      },
      "outputs": [
        {
          "output_type": "stream",
          "name": "stdout",
          "text": [
            "Evaluation \t Proposed point \t  Current eval. \t  Best eval. \t        Exact EI: StdDev. x \t Approx EI: StdDev. x \n",
            "init\t [-2.54215026  1.11967517]\t 26.53843863832488\t -0.46481072558790276\t    \t    \n",
            "init\t [-0.36954461  0.89386071]\t -0.46481072558790276\t -0.46481072558790276\t    \t    \n",
            "init\t [2.86793707 0.15398348]\t 76.66051064695093\t -0.46481072558790276\t    \t    \n",
            "init\t [ 0.00672278 -1.71179547]\t 22.613010892757885\t -0.46481072558790276\t    \t    \n",
            "init\t [-1.38936612e+00 -4.69996698e-04]\t 2.294585534557751\t -0.46481072558790276\t    \t    \n",
            "1  \t [0.06568452 1.47221779]\t 10.235148188303466\t -0.46481072558790276\t 1.223210653889055\t 1.3454696632526462\n",
            "2  \t [-2.0069916  -0.34039291]\t 4.09787808897999\t -0.46481072558790276\t 1.476826716896781\t 1.476826716896781\n",
            "3  \t [-3. -2.]\t 162.89999999999998\t -0.46481072558790276\t 1.89813936957616\t 1.752984319847468\n",
            "4  \t [-0.59556936  0.75375508]\t -0.26086017634588554\t -0.46481072558790276\t 1.4210128852208173\t 1.6063129963996206\n",
            "5  \t [-0.73484118  0.49701105]\t 0.49088226812711555\t -0.46481072558790276\t 1.4887129959770067\t 1.6041143339887687\n",
            "6  \t [-0.69602696  0.4561847 ]\t 0.5061489263938882\t -0.46481072558790276\t 1.6639682884780966\t 1.6507527118917165\n",
            "7  \t [-0.2352707  0.1709119]\t 0.06139064085376425\t -0.46481072558790276\t 1.3686741323255651\t 1.492156344146474\n",
            "8  \t [-0.50247975  0.28973174]\t 0.4282601349239788\t -0.46481072558790276\t 1.5069474367381301\t 1.3991367587371621\n",
            "9  \t [-0.33798076  0.21238398]\t 0.18594755049668463\t -0.46481072558790276\t 1.507658038911307\t 1.4992882022577254\n",
            "10 \t [-0.49803509  0.29106513]\t 0.41291645258022464\t -0.46481072558790276\t 1.5770187236872646\t 1.6103478756070462\n",
            "11 \t [-0.56271993  0.34003837]\t 0.46625916273652623\t -0.46481072558790276\t 1.3420228856217544\t 1.3279213512089443\n",
            "12 \t [-0.51969228  0.31283629]\t 0.41797294983211236\t -0.46481072558790276\t 1.4246601467233495\t 1.7514888438877148\n",
            "13 \t [-0.24056599  0.19703062]\t 0.027864513411966968\t -0.46481072558790276\t 1.5311466057427074\t 1.7520841996414225\n",
            "14 \t [-0.50708558  0.31190885]\t 0.38590694643355766\t -0.46481072558790276\t 1.3371117508385157\t 1.537351297871695\n",
            "15 \t [-0.00447964  0.15816418]\t -0.09818869980019775\t -0.46481072558790276\t 1.5810644925359152\t 1.8324082684873122\n",
            "16 \t [-0.41031272  0.27940047]\t 0.21297079538432007\t -0.46481072558790276\t 1.1865083133150163\t 1.400013237165193\n",
            "17 \t [-0.53879334  0.35503093]\t 0.3604495716582027\t -0.46481072558790276\t 1.2610385986956367\t 1.3654406895367799\n",
            "18 \t [-0.40565675  0.27893371]\t 0.20269522425161207\t -0.46481072558790276\t 1.574124084996058\t 1.8599776202168377\n",
            "19 \t [ 2.14094529 -1.97500924]\t 47.34410540468956\t -0.46481072558790276\t 1.556527478909218\t 1.4959756944341784\n",
            "20 \t [-0.56968991  0.11718531]\t 0.9674526662487356\t -0.46481072558790276\t 1.4496753316999145\t 1.5234827290317532\n"
          ]
        }
      ],
      "source": [
        "### EXACT GP EI GRADIENTS\n",
        "\n",
        "np.random.seed(run_num_7)\n",
        "surrogate_exact_7 = dGaussianProcess(cov_func, optimize=opt)\n",
        "\n",
        "exact_7 = dGPGO(surrogate_exact_7, Acquisition_grad(util), objfunc, param)\n",
        "exact_7.run(init_evals=n_init, max_iter=iters)\n"
      ]
    },
    {
      "cell_type": "code",
      "execution_count": 41,
      "metadata": {
        "id": "69-J3EF4Iv1S",
        "colab": {
          "base_uri": "https://localhost:8080/"
        },
        "outputId": "b92d5643-8e81-41c8-878d-cd89d5dbae21"
      },
      "outputs": [
        {
          "output_type": "stream",
          "name": "stdout",
          "text": [
            "Evaluation \t Proposed point \t  Current eval. \t  Best eval. \t        Exact EI: StdDev. x \t Approx EI: StdDev. x \n",
            "init\t [2.24057642 1.87416265]\t 48.82879577505094\t 0.03190064766213015\t    \t    \n",
            "init\t [2.21516724 0.12342277]\t 8.660623551418242\t 0.03190064766213015\t    \t    \n",
            "init\t [-1.60363003 -1.95440478]\t 48.28332373939171\t 0.03190064766213015\t    \t    \n",
            "init\t [-0.41718709 -0.39059456]\t 0.2801229037700297\t 0.03190064766213015\t    \t    \n",
            "init\t [ 0.13604803 -0.08643282]\t 0.03190064766213015\t 0.03190064766213015\t    \t    \n",
            "\u001b[1m\u001b[92m1\u001b[0m\t \u001b[1m\u001b[92m[-0.57661982  0.64930021]\u001b[0m\t \u001b[1m\u001b[92m-0.23974816269246457\u001b[0m\t \u001b[1m\u001b[92m-0.23974816269246457\u001b[0m\t \u001b[1m\u001b[92m1.2401159296360502\u001b[0m\t \u001b[1m\u001b[92m1.6152266715770234\u001b[0m\n",
            "\u001b[1m\u001b[92m2\u001b[0m\t \u001b[1m\u001b[92m[-0.51915913  0.59284785]\u001b[0m\t \u001b[1m\u001b[92m-0.28745787718376437\u001b[0m\t \u001b[1m\u001b[92m-0.28745787718376437\u001b[0m\t \u001b[1m\u001b[92m1.341823798834006\u001b[0m\t \u001b[1m\u001b[92m1.6113270133041535\u001b[0m\n",
            "3  \t [-0.62485486  0.69341633]\t -0.17033610681071754\t -0.28745787718376437\t 1.1836554676166073\t 1.2611341847140582\n",
            "4  \t [-0.79873875  0.85724107]\t 0.3196734018426163\t -0.28745787718376437\t 1.5005166303696615\t 1.648219655200601\n",
            "\u001b[1m\u001b[92m5\u001b[0m\t \u001b[1m\u001b[92m[-0.34761448  0.42591906]\u001b[0m\t \u001b[1m\u001b[92m-0.288781039049949\u001b[0m\t \u001b[1m\u001b[92m-0.288781039049949\u001b[0m\t \u001b[1m\u001b[92m1.2679434690249782\u001b[0m\t \u001b[1m\u001b[92m1.8876719146377683\u001b[0m\n",
            "\u001b[1m\u001b[92m6\u001b[0m\t \u001b[1m\u001b[92m[-0.44358281  0.5200887 ]\u001b[0m\t \u001b[1m\u001b[92m-0.3117101410349851\u001b[0m\t \u001b[1m\u001b[92m-0.3117101410349851\u001b[0m\t \u001b[1m\u001b[92m1.399477328973825\u001b[0m\t \u001b[1m\u001b[92m1.981507367255897\u001b[0m\n",
            "7  \t [-0.40543319  0.4839493 ]\t -0.31138145503426923\t -0.3117101410349851\t 1.3348298373517666\t 2.170886102473948\n",
            "8  \t [-0.37388372  0.45331608]\t -0.30352519353198704\t -0.3117101410349851\t 1.2525559791653202\t 2.0482772045098363\n",
            "9  \t [-0.24200588  0.3242376 ]\t -0.2276470027045247\t -0.3117101410349851\t 1.1422732564219675\t 1.7728828995553652\n",
            "10 \t [-0.32591398  0.40682512]\t -0.283461307457074\t -0.3117101410349851\t 1.394683433309971\t 2.049719419962678\n",
            "11 \t [-0.33275803  0.41359094]\t -0.28719620618194375\t -0.3117101410349851\t 1.1360669229882647\t 1.8134785062656698\n",
            "12 \t [-0.33960997  0.42042689]\t -0.2909249569270934\t -0.3117101410349851\t 1.02338153641622\t 1.757756953996648\n",
            "13 \t [-0.3627813   0.44321138]\t -0.301358871716703\t -0.3117101410349851\t 1.1733174054360762\t 1.84329945701416\n",
            "14 \t [-0.28882881  0.37082527]\t -0.26224560042608874\t -0.3117101410349851\t 1.3438482414048205\t 2.2203398299062647\n",
            "\u001b[1m\u001b[92m15\u001b[0m\t \u001b[1m\u001b[92m[-0.46894763  0.54667476]\u001b[0m\t \u001b[1m\u001b[92m-0.31288786164140203\u001b[0m\t \u001b[1m\u001b[92m-0.31288786164140203\u001b[0m\t \u001b[1m\u001b[92m1.203915597945652\u001b[0m\t \u001b[1m\u001b[92m2.028437054012018\u001b[0m\n",
            "16 \t [-0.34942224  0.4303137 ]\t -0.2962044056821416\t -0.31288786164140203\t 1.270826069416899\t 1.9570189568500467\n",
            "\u001b[1m\u001b[92m17\u001b[0m\t \u001b[1m\u001b[92m[-0.43132805  0.5102842 ]\u001b[0m\t \u001b[1m\u001b[92m-0.3168119038030077\u001b[0m\t \u001b[1m\u001b[92m-0.3168119038030077\u001b[0m\t \u001b[1m\u001b[92m1.3766300812670926\u001b[0m\t \u001b[1m\u001b[92m2.0534756502801748\u001b[0m\n",
            "18 \t [-0.63791517  0.70964024]\t -0.15018637750338648\t -0.3168119038030077\t 1.3813510235268611\t 1.9322247386035827\n",
            "19 \t [-0.4789019   0.55667173]\t -0.311064669966873\t -0.3168119038030077\t 1.1422763732921921\t 1.987066453237305\n",
            "20 \t [-0.60984469  0.68292924]\t -0.19764010173016766\t -0.3168119038030077\t 1.233386345350876\t 1.8198039973454256\n"
          ]
        }
      ],
      "source": [
        "### EXACT GP EI GRADIENTS\n",
        "\n",
        "np.random.seed(run_num_8)\n",
        "surrogate_exact_8 = dGaussianProcess(cov_func, optimize=opt)\n",
        "\n",
        "exact_8 = dGPGO(surrogate_exact_8, Acquisition_grad(util), objfunc, param)\n",
        "exact_8.run(init_evals=n_init, max_iter=iters)\n"
      ]
    },
    {
      "cell_type": "code",
      "execution_count": 42,
      "metadata": {
        "id": "vonm9jyuIv4t",
        "colab": {
          "base_uri": "https://localhost:8080/"
        },
        "outputId": "e0026a8b-c0c8-4313-a97b-ebe89a37b4d3"
      },
      "outputs": [
        {
          "output_type": "stream",
          "name": "stdout",
          "text": [
            "Evaluation \t Proposed point \t  Current eval. \t  Best eval. \t        Exact EI: StdDev. x \t Approx EI: StdDev. x \n",
            "init\t [-2.93775508  0.00749837]\t 92.35857237145763\t 1.395407492769129\t    \t    \n",
            "init\t [-0.02536024 -1.46468188]\t 9.867672894921913\t 1.395407492769129\t    \t    \n",
            "init\t [-2.14733349 -1.1257653 ]\t 10.24680089963123\t 1.395407492769129\t    \t    \n",
            "init\t [-0.48895092 -1.00759533]\t 1.395407492769129\t 1.395407492769129\t    \t    \n",
            "init\t [-2.49564209 -0.61800544]\t 24.58298635463645\t 1.395407492769129\t    \t    \n",
            "1  \t [0.299861 2.      ]\t 48.94265230706076\t 1.395407492769129\t 1.6028529415144859\t 1.5334020088506013\n",
            "2  \t [3.         0.35932676]\t 109.52820087466704\t 1.395407492769129\t 1.789437611793631\t 1.796286677618943\n",
            "3  \t [ 1.71385892 -1.89527221]\t 36.07341000588457\t 1.395407492769129\t 1.444799357901786\t 1.4441517038365768\n",
            "4  \t [-1.91792062 -2.        ]\t 54.72551829834607\t 1.395407492769129\t 1.560235050787118\t 1.5579786056111324\n",
            "\u001b[1m\u001b[92m5\u001b[0m\t \u001b[1m\u001b[92m[-0.45843223 -0.269705  ]\u001b[0m\t \u001b[1m\u001b[92m0.604826431006305\u001b[0m\t \u001b[1m\u001b[92m0.604826431006305\u001b[0m\t \u001b[1m\u001b[92m1.4588909473380498\u001b[0m\t \u001b[1m\u001b[92m1.4564825086235071\u001b[0m\n",
            "\u001b[1m\u001b[92m6\u001b[0m\t \u001b[1m\u001b[92m[-0.32062964 -0.38121928]\u001b[0m\t \u001b[1m\u001b[92m0.01478042918736705\u001b[0m\t \u001b[1m\u001b[92m0.01478042918736705\u001b[0m\t \u001b[1m\u001b[92m1.3045848887050564\u001b[0m\t \u001b[1m\u001b[92m1.3003564241487007\u001b[0m\n",
            "7  \t [-0.72817418  0.09086676]\t 1.4813026941567946\t 0.01478042918736705\t 1.3846149663988505\t 1.4107443662406207\n",
            "8  \t [-1.5957401   1.64088487]\t 17.68248511101109\t 0.01478042918736705\t 1.2178934969119475\t 1.388688685201008\n",
            "\u001b[1m\u001b[92m9\u001b[0m\t \u001b[1m\u001b[92m[-0.13983725 -0.52041294]\u001b[0m\t \u001b[1m\u001b[92m-0.6397333290924963\u001b[0m\t \u001b[1m\u001b[92m-0.6397333290924963\u001b[0m\t \u001b[1m\u001b[92m1.5152378288103938\u001b[0m\t \u001b[1m\u001b[92m1.511872715776844\u001b[0m\n",
            "10 \t [-0.17514847 -0.47298362]\t -0.49107942569054747\t -0.6397333290924963\t 1.2634261774853457\t 1.2381411198266925\n",
            "11 \t [-0.32005361 -0.34625915]\t 0.07680019483672168\t -0.6397333290924963\t 1.4674657713970787\t 1.4496405607565819\n",
            "12 \t [-0.20742843 -0.43758698]\t -0.3602544146497914\t -0.6397333290924963\t 1.4687480519225853\t 1.4635304440021124\n",
            "13 \t [-0.360193   -0.30899519]\t 0.2501862947967777\t -0.6397333290924963\t 1.0803818171868784\t 1.0611158627054473\n",
            "14 \t [-0.65190557 -0.03099727]\t 1.362597887442942\t -0.6397333290924963\t 1.3669948244815644\t 1.3523624499614433\n",
            "15 \t [-0.54278187 -0.14672582]\t 1.0000802684291026\t -0.6397333290924963\t 1.2893269600372932\t 1.2439841354404153\n",
            "16 \t [-0.28216154 -0.3737519 ]\t -0.06993203346576626\t -0.6397333290924963\t 1.4396289773198157\t 1.4252765295515042\n",
            "17 \t [-0.33145579 -0.33273903]\t 0.1310057596298445\t -0.6397333290924963\t 1.3608484789806412\t 1.3572048375400216\n",
            "18 \t [-0.85267243  0.26391848]\t 1.4420017081587546\t -0.6397333290924963\t 1.3816004507056137\t 1.3672930842628057\n",
            "19 \t [-0.35845276 -0.30532039]\t 0.25131220250537967\t -0.6397333290924963\t 1.4596893949743648\t 1.4456461793731574\n",
            "\u001b[1m\u001b[92m20\u001b[0m\t \u001b[1m\u001b[92m[ 0.10053189 -0.70999741]\u001b[0m\t \u001b[1m\u001b[92m-1.031097777938389\u001b[0m\t \u001b[1m\u001b[92m-1.031097777938389\u001b[0m\t \u001b[1m\u001b[92m1.501265190116136\u001b[0m\t \u001b[1m\u001b[92m1.4863299834080772\u001b[0m\n"
          ]
        }
      ],
      "source": [
        "### EXACT GP EI GRADIENTS\n",
        "\n",
        "np.random.seed(run_num_9)\n",
        "surrogate_exact_9 = dGaussianProcess(cov_func, optimize=opt)\n",
        "\n",
        "exact_9 = dGPGO(surrogate_exact_9, Acquisition_grad(util), objfunc, param)\n",
        "exact_9.run(init_evals=n_init, max_iter=iters)\n"
      ]
    },
    {
      "cell_type": "code",
      "execution_count": 43,
      "metadata": {
        "id": "6amuYlUdIv7r",
        "colab": {
          "base_uri": "https://localhost:8080/"
        },
        "outputId": "9650d7ad-6550-410f-8be6-4974ee8337b1"
      },
      "outputs": [
        {
          "output_type": "stream",
          "name": "stdout",
          "text": [
            "Evaluation \t Proposed point \t  Current eval. \t  Best eval. \t        Exact EI: StdDev. x \t Approx EI: StdDev. x \n",
            "init\t [ 1.62792386 -1.9169922 ]\t 38.25414770674631\t 0.7775687473184012\t    \t    \n",
            "init\t [0.80188941 0.99521553]\t 2.552651714051803\t 0.7775687473184012\t    \t    \n",
            "init\t [-0.00895793 -1.10081342]\t 1.0367630165263393\t 0.7775687473184012\t    \t    \n",
            "init\t [-1.81162281  1.04212285]\t 0.7775687473184012\t 0.7775687473184012\t    \t    \n",
            "init\t [-1.98533498 -1.64664074]\t 25.383481436170044\t 0.7775687473184012\t    \t    \n",
            "1  \t [3. 2.]\t 162.89999999999998\t 0.7775687473184012\t 1.5535317759892684\t 1.8234846153220392\n",
            "2  \t [-2.52977022  2.        ]\t 69.90104466534112\t 0.7775687473184012\t 1.1327955542314734\t 1.4919944309386803\n",
            "3  \t [-0.96171223  0.29911408]\t 1.553379214091371\t 0.7775687473184012\t 1.458548979281606\t 1.7716309062541868\n",
            "4  \t [ 3.         -0.28412251]\t 107.75079657260198\t 0.7775687473184012\t 1.6555512448718572\t 1.9155457703307888\n",
            "\u001b[1m\u001b[92m5\u001b[0m\t \u001b[1m\u001b[92m[-0.3458568   0.78418785]\u001b[0m\t \u001b[1m\u001b[92m-0.7693711897773412\u001b[0m\t \u001b[1m\u001b[92m-0.7693711897773412\u001b[0m\t \u001b[1m\u001b[92m1.465979452706549\u001b[0m\t \u001b[1m\u001b[92m1.3803838159471054\u001b[0m\n",
            "\u001b[1m\u001b[92m6\u001b[0m\t \u001b[1m\u001b[92m[-0.3169596   0.72320412]\u001b[0m\t \u001b[1m\u001b[92m-0.8461095729191419\u001b[0m\t \u001b[1m\u001b[92m-0.8461095729191419\u001b[0m\t \u001b[1m\u001b[92m1.3692219704161286\u001b[0m\t \u001b[1m\u001b[92m1.216981940359783\u001b[0m\n",
            "7  \t [-0.21534545  1.66181029]\t 19.28272974917884\t -0.8461095729191419\t 1.4642330772120913\t 1.3530786968400372\n",
            "8  \t [-0.72628801  0.22181473]\t 1.2263515855266616\t -0.8461095729191419\t 1.316688634823599\t 1.2051280177151056\n",
            "9  \t [ 0.01975868 -0.15753506]\t -0.09835697536093721\t -0.8461095729191419\t 1.5784453225676789\t 1.5160471655480923\n",
            "10 \t [-0.93036071  0.28961732]\t 1.528283000582345\t -0.8461095729191419\t 1.5431127040063644\t 1.3658002491491916\n",
            "11 \t [-0.15518289  0.05840449]\t 0.07245254970319673\t -0.8461095729191419\t 1.2846642210103847\t 1.0880213737466244\n",
            "12 \t [-0.15724506  0.05800905]\t 0.07508864079839923\t -0.8461095729191419\t 1.4516505538272162\t 1.459362911718845\n",
            "13 \t [-0.27316341  0.12049541]\t 0.19677064104577485\t -0.8461095729191419\t 1.4756542629868392\t 1.5043888483965517\n",
            "14 \t [ 0.04083004 -0.15968742]\t -0.09925678486880528\t -0.8461095729191419\t 1.553025870407143\t 1.3857510661851387\n",
            "15 \t [-0.09470079  0.01145725]\t 0.034094283335114495\t -0.8461095729191419\t 1.4707184494238905\t 1.4058186902938814\n",
            "16 \t [-0.51890456  0.20307571]\t 0.6677679020015239\t -0.8461095729191419\t 1.5441735173794213\t 1.4740935439097915\n",
            "17 \t [-0.17379018  0.07744506]\t 0.08159937640079976\t -0.8461095729191419\t 1.547971028606201\t 1.419320924994692\n",
            "18 \t [-0.06989512 -0.00182332]\t 0.0196053722092649\t -0.8461095729191419\t 1.374451190641071\t 1.3870007450205941\n",
            "19 \t [-0.13639713  0.05156249]\t 0.05605254545393343\t -0.8461095729191419\t 1.1434666170475485\t 0.9369958521513874\n",
            "20 \t [-0.86021074  0.28003449]\t 1.4150931247324103\t -0.8461095729191419\t 1.5375010171761128\t 1.5365839054590902\n"
          ]
        }
      ],
      "source": [
        "### EXACT GP EI GRADIENTS\n",
        "\n",
        "np.random.seed(run_num_10)\n",
        "surrogate_exact_10 = dGaussianProcess(cov_func, optimize=opt)\n",
        "\n",
        "exact_10 = dGPGO(surrogate_exact_10, Acquisition_grad(util), objfunc, param)\n",
        "exact_10.run(init_evals=n_init, max_iter=iters)\n"
      ]
    },
    {
      "cell_type": "code",
      "execution_count": 44,
      "metadata": {
        "id": "VwbLIP9cIv-F",
        "colab": {
          "base_uri": "https://localhost:8080/"
        },
        "outputId": "dcbd7900-9929-4363-9bb9-486753e95254"
      },
      "outputs": [
        {
          "output_type": "stream",
          "name": "stdout",
          "text": [
            "Evaluation \t Proposed point \t  Current eval. \t  Best eval. \t        Exact EI: StdDev. x \t Approx EI: StdDev. x \n",
            "init\t [-1.91838187 -1.92209903]\t 46.39910375151002\t -0.6254688257880329\t    \t    \n",
            "init\t [-0.22068884  0.89973572]\t -0.6254688257880329\t -0.6254688257880329\t    \t    \n",
            "init\t [-0.47877837 -0.05829161]\t 0.8249470187639529\t -0.6254688257880329\t    \t    \n",
            "init\t [-2.92331511 -0.05051357]\t 88.99028404075307\t -0.6254688257880329\t    \t    \n",
            "init\t [2.65083991 1.40318036]\t 51.423425402262914\t -0.6254688257880329\t    \t    \n",
            "1  \t [0.1108851  0.21054466]\t -0.09724452396547847\t -0.6254688257880329\t 1.3731988451179113\t 1.4727004418808383\n",
            "\u001b[1m\u001b[92m2\u001b[0m\t \u001b[1m\u001b[92m[-0.01411733  0.52650467]\u001b[0m\t \u001b[1m\u001b[92m-0.8080891464325061\u001b[0m\t \u001b[1m\u001b[92m-0.8080891464325061\u001b[0m\t \u001b[1m\u001b[92m1.0567805943719621\u001b[0m\t \u001b[1m\u001b[92m1.2783212252492242\u001b[0m\n",
            "3  \t [0.13368504 0.17462429]\t -0.0240925402295855\t -0.8080891464325061\t 1.6081851918917613\t 1.672263439605719\n",
            "4  \t [-0.15335958  0.9861156 ]\t -0.16557326994928762\t -0.8080891464325061\t 1.2692429755151897\t 1.562448792959584\n",
            "5  \t [-0.00646387  0.51349329]\t -0.7797546925816526\t -0.8080891464325061\t 1.1794034653213237\t 1.4755640783459714\n",
            "6  \t [-0.00951154  0.52746556]\t -0.8079095222628295\t -0.8080891464325061\t 1.3259258209281368\t 1.5061292878212005\n",
            "7  \t [-0.1904441   1.10187234]\t 0.9723689133433353\t -0.8080891464325061\t 1.4791803325829422\t 1.6073210123334656\n",
            "8  \t [ 0.21642667 -0.00841542]\t 0.1806842182554068\t -0.8080891464325061\t 1.1181928065687177\t 1.3379289593265544\n",
            "9  \t [0.00374889 0.4538936 ]\t -0.6525438176646546\t -0.8080891464325061\t 1.3887779168212775\t 1.7211707617304959\n",
            "10 \t [0.06368067 0.31370738]\t -0.31874584904671804\t -0.8080891464325061\t 1.300507684478021\t 1.4382162231587088\n",
            "11 \t [ 1.87957642 -2.        ]\t 46.859884106334896\t -0.8080891464325061\t 1.4065179100779441\t 1.6193720141636396\n",
            "\u001b[1m\u001b[92m12\u001b[0m\t \u001b[1m\u001b[92m[-0.03365142  0.53790155]\u001b[0m\t \u001b[1m\u001b[92m-0.8360603803538894\u001b[0m\t \u001b[1m\u001b[92m-0.8360603803538894\u001b[0m\t \u001b[1m\u001b[92m1.4783303587120808\u001b[0m\t \u001b[1m\u001b[92m1.453532306548833\u001b[0m\n",
            "\u001b[1m\u001b[92m13\u001b[0m\t \u001b[1m\u001b[92m[-0.04519098  0.56808402]\u001b[0m\t \u001b[1m\u001b[92m-0.8917985692852628\u001b[0m\t \u001b[1m\u001b[92m-0.8917985692852628\u001b[0m\t \u001b[1m\u001b[92m1.3522323424483196\u001b[0m\t \u001b[1m\u001b[92m1.397894465326645\u001b[0m\n",
            "14 \t [-0.01741159  0.50408901]\t -0.7657085546513082\t -0.8917985692852628\t 1.3973737561694684\t 1.3806474563297542\n",
            "15 \t [-0.01582424  0.50144127]\t -0.759811799373406\t -0.8917985692852628\t 1.2682883035125672\t 1.3011817555743939\n",
            "16 \t [0.03122033 0.3984076 ]\t -0.517800105993071\t -0.8917985692852628\t 1.404231708123505\t 1.394895840606833\n",
            "\u001b[1m\u001b[92m17\u001b[0m\t \u001b[1m\u001b[92m[-0.09489988  0.69778623]\u001b[0m\t \u001b[1m\u001b[92m-1.0296801117312542\u001b[0m\t \u001b[1m\u001b[92m-1.0296801117312542\u001b[0m\t \u001b[1m\u001b[92m1.1595157969340193\u001b[0m\t \u001b[1m\u001b[92m1.1057156760788296\u001b[0m\n",
            "18 \t [0.16708224 0.14089003]\t 0.05575286723761144\t -1.0296801117312542\t 1.463580275424885\t 1.5013607674777965\n",
            "19 \t [-0.06544608  0.62789556]\t -0.9792691887287402\t -1.0296801117312542\t 1.3145683399600618\t 1.2125897651290884\n",
            "20 \t [0.02827158 0.41608449]\t -0.5576551906962223\t -1.0296801117312542\t 1.4108296022938267\t 1.4711047045405106\n"
          ]
        }
      ],
      "source": [
        "### EXACT GP EI GRADIENTS\n",
        "\n",
        "np.random.seed(run_num_11)\n",
        "surrogate_exact_11 = dGaussianProcess(cov_func, optimize=opt)\n",
        "\n",
        "exact_11 = dGPGO(surrogate_exact_11, Acquisition_grad(util), objfunc, param)\n",
        "exact_11.run(init_evals=n_init, max_iter=iters)\n"
      ]
    },
    {
      "cell_type": "code",
      "execution_count": 45,
      "metadata": {
        "id": "MlUNFjc-JTBY",
        "colab": {
          "base_uri": "https://localhost:8080/"
        },
        "outputId": "fde0ceab-733d-4f21-ee71-d1ae506e75b0"
      },
      "outputs": [
        {
          "output_type": "stream",
          "name": "stdout",
          "text": [
            "Evaluation \t Proposed point \t  Current eval. \t  Best eval. \t        Exact EI: StdDev. x \t Approx EI: StdDev. x \n",
            "init\t [-2.07502295  0.96019879]\t 2.6185857163917037\t 1.9967735906956543\t    \t    \n",
            "init\t [-1.42010991  0.13495757]\t 1.9967735906956543\t 1.9967735906956543\t    \t    \n",
            "init\t [-2.91255023  1.67498803]\t 101.67816714332157\t 1.9967735906956543\t    \t    \n",
            "init\t [ 2.40428912 -1.86631429]\t 47.44624883788006\t 1.9967735906956543\t    \t    \n",
            "init\t [ 2.74169602 -1.45116271]\t 58.32400185681089\t 1.9967735906956543\t    \t    \n",
            "\u001b[1m\u001b[92m1\u001b[0m\t \u001b[1m\u001b[92m[-1.14537813  0.75863095]\u001b[0m\t \u001b[1m\u001b[92m0.5398500572878063\u001b[0m\t \u001b[1m\u001b[92m0.5398500572878063\u001b[0m\t \u001b[1m\u001b[92m2.2356624069779105\u001b[0m\t \u001b[1m\u001b[92m1.9660165460960395\u001b[0m\n",
            "2  \t [1.84393639 2.        ]\t 54.1133359369617\t 0.5398500572878063\t 2.0593711984414753\t 1.8399055312663743\n",
            "3  \t [-3. -2.]\t 162.89999999999998\t 0.5398500572878063\t 1.7001961199338216\t 1.6557252090334214\n",
            "4  \t [-0.16308311 -2.        ]\t 48.431071442845486\t 0.5398500572878063\t 1.3099562342297335\t 1.3484199851973897\n",
            "\u001b[1m\u001b[92m5\u001b[0m\t \u001b[1m\u001b[92m[-1.49188576  0.76808293]\u001b[0m\t \u001b[1m\u001b[92m0.06158895456150104\u001b[0m\t \u001b[1m\u001b[92m0.06158895456150104\u001b[0m\t \u001b[1m\u001b[92m1.289928706647255\u001b[0m\t \u001b[1m\u001b[92m1.328248578938655\u001b[0m\n",
            "6  \t [-0.57376512  1.7666853 ]\t 26.569739313552343\t 0.06158895456150104\t 1.3083062425100453\t 1.3889131932216656\n",
            "7  \t [-1.66336779  0.43660738]\t 0.7080468527890493\t 0.06158895456150104\t 1.3345147856398598\t 1.3075721835263916\n",
            "8  \t [-1.5457742   0.51122463]\t 0.5529957295255157\t 0.06158895456150104\t 1.56007527737314\t 1.567383246527278\n",
            "9  \t [-1.35413804  0.37033823]\t 1.3540417452718634\t 0.06158895456150104\t 1.3557528114663944\t 1.3638229581272794\n",
            "10 \t [-1.10794623  0.21916741]\t 1.936608126885514\t 0.06158895456150104\t 1.3257121014624216\t 1.3629854318897952\n",
            "11 \t [-1.38955978  0.39032309]\t 1.234787139299151\t 0.06158895456150104\t 1.5015080154133837\t 1.5437693758859308\n",
            "12 \t [-1.0326669   0.18009814]\t 1.970187136388062\t 0.06158895456150104\t 1.391605221932929\t 1.4345755553095156\n",
            "13 \t [-0.80693376  0.09627967]\t 1.6917960678891613\t 0.06158895456150104\t 1.4081718264499954\t 1.4324487432324833\n",
            "14 \t [-1.48017929  0.45414012]\t 0.8619323472228458\t 0.06158895456150104\t 1.4320491722151276\t 1.424577662701403\n",
            "15 \t [0.26707453 0.0554639 ]\t 0.27729769163846696\t 0.06158895456150104\t 1.5034319582584332\t 1.5241437631530854\n",
            "16 \t [ 1.05936007 -0.11777953]\t 2.1358100898260006\t 0.06158895456150104\t 1.4007746348419496\t 1.341746602431713\n",
            "17 \t [0.21955472 0.07509702]\t 0.18203164348002576\t 0.06158895456150104\t 1.2913595884315157\t 1.2671167313152099\n",
            "18 \t [0.19439317 0.08439999]\t 0.1362903559089509\t 0.06158895456150104\t 1.6044553271523965\t 1.4530548080610675\n",
            "19 \t [0.34115022 0.00534529]\t 0.43932389642096087\t 0.06158895456150104\t 1.3030159567885595\t 1.3218276907538973\n",
            "20 \t [-1.73704605  0.49143878]\t 0.5208158117611071\t 0.06158895456150104\t 1.3416040464362926\t 1.2750413603540138\n"
          ]
        }
      ],
      "source": [
        "### EXACT GP EI GRADIENTS\n",
        "\n",
        "np.random.seed(run_num_12)\n",
        "surrogate_exact_12 = dGaussianProcess(cov_func, optimize=opt)\n",
        "\n",
        "exact_12 = dGPGO(surrogate_exact_12, Acquisition_grad(util), objfunc, param)\n",
        "exact_12.run(init_evals=n_init, max_iter=iters)\n"
      ]
    },
    {
      "cell_type": "code",
      "execution_count": 46,
      "metadata": {
        "id": "9BsKdU9eJTFL",
        "colab": {
          "base_uri": "https://localhost:8080/"
        },
        "outputId": "15f15f92-4722-4c55-eeb0-ba4e7278d98d"
      },
      "outputs": [
        {
          "output_type": "stream",
          "name": "stdout",
          "text": [
            "Evaluation \t Proposed point \t  Current eval. \t  Best eval. \t        Exact EI: StdDev. x \t Approx EI: StdDev. x \n",
            "init\t [ 1.66621446 -1.04983512]\t 0.752930921147986\t 0.752930921147986\t    \t    \n",
            "init\t [1.9456712  1.86299679]\t 41.05776363102951\t 0.752930921147986\t    \t    \n",
            "init\t [ 2.83560668 -0.18620301]\t 69.0134544723513\t 0.752930921147986\t    \t    \n",
            "init\t [0.65425478 1.10210606]\t 3.117452174069064\t 0.752930921147986\t    \t    \n",
            "init\t [0.84968007 0.88807292]\t 2.006601529383926\t 0.752930921147986\t    \t    \n",
            "1  \t [ 0.4944813  -1.24313508]\t 3.6139798591191274\t 0.752930921147986\t 1.1522187030072073\t 1.1909018888397176\n",
            "2  \t [-0.83327346  1.31575026]\t 5.843544316292857\t 0.752930921147986\t 1.8767506408227723\t 1.6477751543401735\n",
            "3  \t [-3. -2.]\t 162.89999999999998\t 0.752930921147986\t 1.8018863871119826\t 1.9620212542375508\n",
            "4  \t [ 1.13193748 -2.        ]\t 48.11487087116823\t 0.752930921147986\t 1.4908430683871885\t 1.9167817777003695\n",
            "5  \t [-2.63082437  0.351859  ]\t 36.24517060635224\t 0.752930921147986\t 1.6901329178358964\t 1.975234700781968\n",
            "6  \t [-0.95978643 -0.31152693]\t 2.111767312861627\t 0.752930921147986\t 1.3583746165169983\t 1.356260988388694\n",
            "7  \t [-0.40206045  1.54952378]\t 13.425708154176116\t 0.752930921147986\t 1.4710484044523278\t 1.5250286350362234\n",
            "\u001b[1m\u001b[92m8\u001b[0m\t \u001b[1m\u001b[92m[ 0.19598895 -0.10846581]\u001b[0m\t \u001b[1m\u001b[92m0.08280332498155088\u001b[0m\t \u001b[1m\u001b[92m0.08280332498155088\u001b[0m\t \u001b[1m\u001b[92m1.3970451230985321\u001b[0m\t \u001b[1m\u001b[92m1.4871727617299022\u001b[0m\n",
            "9  \t [-1.7898189  -0.79740437]\t 2.722475491014323\t 0.08280332498155088\t 1.4462836858217443\t 1.4462836858217443\n",
            "10 \t [-0.84813124 -2.        ]\t 51.61103154094557\t 0.08280332498155088\t 1.420926387207366\t 1.5237859143036094\n",
            "11 \t [0.25088794 0.00814519]\t 0.24532004440255276\t 0.08280332498155088\t 1.5493128278830994\t 1.68915695982568\n",
            "12 \t [ 0.85886581 -0.4834584 ]\t 0.8100934452979044\t 0.08280332498155088\t 1.4915286928031746\t 1.4451064979547914\n",
            "13 \t [-0.2229114   0.13344923]\t 0.09390032376658868\t 0.08280332498155088\t 1.523935442746855\t 1.6037799769812906\n",
            "14 \t [ 0.37647841 -0.06573305]\t 0.4837502718222435\t 0.08280332498155088\t 1.2006161808650322\t 1.281276487153756\n",
            "15 \t [ 0.48057963 -0.15101649]\t 0.6541985213153502\t 0.08280332498155088\t 1.439964875867412\t 1.6589922818012304\n",
            "16 \t [ 0.44770678 -0.12363895]\t 0.6045130254698466\t 0.08280332498155088\t 1.3083913944672114\t 1.438210035170938\n",
            "17 \t [-0.76571367  0.09482406]\t 1.5822912953957085\t 0.08280332498155088\t 1.629904956711735\t 1.76082458970342\n",
            "18 \t [0.25798472 0.00554142]\t 0.2583271048955234\t 0.08280332498155088\t 1.2221058079631144\t 1.2152814822698292\n",
            "19 \t [-0.79508832  0.0957067 ]\t 1.6612448169197496\t 0.08280332498155088\t 1.4411794038792967\t 1.4815513751389904\n",
            "20 \t [-0.41524492  0.08339733]\t 0.5667287182047692\t 0.08280332498155088\t 1.6738508515179895\t 1.8008998995544054\n"
          ]
        }
      ],
      "source": [
        "### EXACT GP EI GRADIENTS\n",
        "\n",
        "np.random.seed(run_num_13)\n",
        "surrogate_exact_13 = dGaussianProcess(cov_func, optimize=opt)\n",
        "\n",
        "exact_13 = dGPGO(surrogate_exact_13, Acquisition_grad(util), objfunc, param)\n",
        "exact_13.run(init_evals=n_init, max_iter=iters)\n"
      ]
    },
    {
      "cell_type": "code",
      "execution_count": 47,
      "metadata": {
        "id": "k6GjFBr1JTJf",
        "colab": {
          "base_uri": "https://localhost:8080/"
        },
        "outputId": "28af80eb-c079-4572-d229-43953ebfa1d2"
      },
      "outputs": [
        {
          "output_type": "stream",
          "name": "stdout",
          "text": [
            "Evaluation \t Proposed point \t  Current eval. \t  Best eval. \t        Exact EI: StdDev. x \t Approx EI: StdDev. x \n",
            "init\t [0.08366006 1.09266021]\t 1.0453292732107575\t -1.029299726828387\t    \t    \n",
            "init\t [ 2.22256611 -1.96781221]\t 48.81113313056442\t -1.029299726828387\t    \t    \n",
            "init\t [-1.14158445  1.83041496]\t 31.794043287944216\t -1.029299726828387\t    \t    \n",
            "init\t [ 0.07870027 -0.7268623 ]\t -1.029299726828387\t -1.029299726828387\t    \t    \n",
            "init\t [ 0.23519962 -1.11498023]\t 1.161934062902255\t -1.029299726828387\t    \t    \n",
            "1  \t [-1.4544454   0.80460528]\t 0.13632292703505466\t -1.029299726828387\t 1.503658355512916\t 1.503658355512916\n",
            "2  \t [-1.62889462 -1.85708112]\t 38.86111235771161\t -1.029299726828387\t 1.5374298505922563\t 1.5374298505922563\n",
            "3  \t [-0.15386684 -1.39029353]\t 7.520441668707877\t -1.029299726828387\t 1.3235846389965387\t 1.3235846389965387\n",
            "4  \t [0.42921709 0.75222473]\t 0.007928470491904593\t -1.029299726828387\t 1.4304797833357905\t 1.4304797833357905\n",
            "5  \t [ 0.12247563 -0.59455966]\t -0.9274417314611543\t -1.029299726828387\t 1.4222888461918506\t 1.4586446690184167\n",
            "6  \t [ 0.05394624 -0.53743996]\t -0.8390185539996693\t -1.029299726828387\t 1.548486679496517\t 1.5184049548239111\n",
            "7  \t [-0.11358333 -0.40270882]\t -0.44649854142337886\t -1.029299726828387\t 1.4094474388598546\t 1.388044499946998\n",
            "8  \t [ 0.22063693 -0.60588852]\t -0.8732482134487607\t -1.029299726828387\t 1.540573907823813\t 1.5620505791619008\n",
            "9  \t [-0.06365393 -0.38938812]\t -0.47357524465976075\t -1.029299726828387\t 1.6829505826701934\t 1.6871396533084597\n",
            "10 \t [-0.04266676 -0.40323917]\t -0.5201701272671928\t -1.029299726828387\t 1.4286506279651714\t 1.6514072708519354\n",
            "11 \t [ 0.43106247 -0.68806052]\t -0.6208816905155703\t -1.029299726828387\t 1.4943105820707374\t 1.6152217562836872\n",
            "12 \t [ 0.14178961 -0.49674696]\t -0.7343354922373241\t -1.029299726828387\t 1.4344358665857342\t 1.4334838414876594\n",
            "13 \t [ 0.34017083 -0.61262004]\t -0.7109366492186335\t -1.029299726828387\t 1.4471069634414133\t 1.5270467840487478\n",
            "14 \t [ 0.06402282 -0.42815075]\t -0.6098885362576776\t -1.029299726828387\t 1.4809846426881137\t 1.2734553954557633\n",
            "15 \t [-0.24365151 -0.23269576]\t 0.08196801079817442\t -1.029299726828387\t 1.5473178599305806\t 1.2759052729661151\n",
            "16 \t [-0.07549864 -0.30048723]\t -0.2831409122601592\t -1.029299726828387\t 1.4705191962002\t 1.250544552855111\n",
            "17 \t [ 0.00355506 -0.36713805]\t -0.4677422904492824\t -1.029299726828387\t 1.4913623934111528\t 1.3973335765343353\n",
            "18 \t [ 0.30019523 -0.56235776]\t -0.6900970290434733\t -1.029299726828387\t 1.3443226534603838\t 1.1851552968782721\n",
            "19 \t [ 0.20007677 -0.49779403]\t -0.6883963558702472\t -1.029299726828387\t 1.526398684507681\t 1.3780424023775477\n",
            "20 \t [ 0.07885728 -0.4144291 ]\t -0.5768996237448257\t -1.029299726828387\t 1.466734295977031\t 1.1677832795374923\n"
          ]
        }
      ],
      "source": [
        "### EXACT GP EI GRADIENTS\n",
        "\n",
        "np.random.seed(run_num_14)\n",
        "surrogate_exact_14 = dGaussianProcess(cov_func, optimize=opt)\n",
        "\n",
        "exact_14 = dGPGO(surrogate_exact_14, Acquisition_grad(util), objfunc, param)\n",
        "exact_14.run(init_evals=n_init, max_iter=iters)\n"
      ]
    },
    {
      "cell_type": "code",
      "execution_count": 48,
      "metadata": {
        "id": "dPS8WB3aJTN6",
        "colab": {
          "base_uri": "https://localhost:8080/"
        },
        "outputId": "75c95f7b-f52c-4c76-ca33-acb904c24162"
      },
      "outputs": [
        {
          "output_type": "stream",
          "name": "stdout",
          "text": [
            "Evaluation \t Proposed point \t  Current eval. \t  Best eval. \t        Exact EI: StdDev. x \t Approx EI: StdDev. x \n",
            "init\t [ 2.09290618 -1.2844163 ]\t 6.84252100896936\t 2.1163170846379233\t    \t    \n",
            "init\t [-2.67382071 -0.55384622]\t 43.69785230561242\t 2.1163170846379233\t    \t    \n",
            "init\t [-1.34759443  0.1200009 ]\t 2.1163170846379233\t 2.1163170846379233\t    \t    \n",
            "init\t [-1.16448651 -0.78210256]\t 2.3544087277459513\t 2.1163170846379233\t    \t    \n",
            "init\t [-2.32955234 -1.00040394]\t 15.469119251600274\t 2.1163170846379233\t    \t    \n",
            "\u001b[1m\u001b[92m1\u001b[0m\t \u001b[1m\u001b[92m[-0.19855441  1.10754727]\u001b[0m\t \u001b[1m\u001b[92m1.0466880791504247\u001b[0m\t \u001b[1m\u001b[92m1.0466880791504247\u001b[0m\t \u001b[1m\u001b[92m1.6652475909042934\u001b[0m\t \u001b[1m\u001b[92m1.3838769392479255\u001b[0m\n",
            "2  \t [3. 2.]\t 162.89999999999998\t 1.0466880791504247\t 1.9661846502184301\t 2.01715108424498\n",
            "3  \t [-2.05706328  2.        ]\t 48.466006141584465\t 1.0466880791504247\t 1.5524965927349155\t 1.7173801887975375\n",
            "4  \t [-0.21989238 -2.        ]\t 48.6283233242452\t 1.0466880791504247\t 1.3540069917375597\t 1.1226003206221553\n",
            "5  \t [0.96896012 0.23840099]\t 2.19683730428794\t 1.0466880791504247\t 1.5620180487902717\t 1.4920655206080247\n",
            "6  \t [0.4386738 2.       ]\t 49.57169640413086\t 1.0466880791504247\t 1.5342252772577853\t 1.6183344535626276\n",
            "\u001b[1m\u001b[92m7\u001b[0m\t \u001b[1m\u001b[92m[-0.35182413  0.1302815 ]\u001b[0m\t \u001b[1m\u001b[92m0.35100092731534893\u001b[0m\t \u001b[1m\u001b[92m0.35100092731534893\u001b[0m\t \u001b[1m\u001b[92m1.4003031110682864\u001b[0m\t \u001b[1m\u001b[92m1.5127815507693112\u001b[0m\n",
            "\u001b[1m\u001b[92m8\u001b[0m\t \u001b[1m\u001b[92m[-0.05863483  0.04415199]\u001b[0m\t \u001b[1m\u001b[92m0.0033561261049684585\u001b[0m\t \u001b[1m\u001b[92m0.0033561261049684585\u001b[0m\t \u001b[1m\u001b[92m1.7400389921202413\u001b[0m\t \u001b[1m\u001b[92m1.8337051645642621\u001b[0m\n",
            "9  \t [-0.61297696  0.26157824]\t 0.8088579750981119\t 0.0033561261049684585\t 1.3728829659024167\t 1.4121499947803737\n",
            "10 \t [-0.56160486  0.23289773]\t 0.7271629570734877\t 0.0033561261049684585\t 1.4611480205399596\t 1.4711991669636446\n",
            "11 \t [-0.17756237  0.08169558]\t 0.08301199359151884\t 0.0033561261049684585\t 1.3399970687630438\t 1.3406366161790477\n",
            "12 \t [-0.47618981  0.18758542]\t 0.5778077909772679\t 0.0033561261049684585\t 1.3113541936058044\t 1.4796669895331325\n",
            "13 \t [-0.67710541  0.3019006 ]\t 0.8888321364580885\t 0.0033561261049684585\t 1.6822476124439547\t 1.6474738390048096\n",
            "14 \t [-0.4080541   0.15928903]\t 0.4454336090194976\t 0.0033561261049684585\t 1.559525297863133\t 1.6931061178433602\n",
            "15 \t [-0.51302487  0.20654898]\t 0.644051159607743\t 0.0033561261049684585\t 1.1030663466367039\t 1.113531304732954\n",
            "16 \t [-0.4829475   0.19243915]\t 0.5873587480619848\t 0.0033561261049684585\t 1.5631941010267691\t 1.5038476354978882\n",
            "17 \t [-0.47578123  0.18933161]\t 0.5734022975534782\t 0.0033561261049684585\t 1.2750794211871816\t 1.2864222118392663\n",
            "18 \t [-0.12366588  0.07721827]\t 0.027425342029819517\t 0.0033561261049684585\t 1.3819091908009138\t 1.3254283322125002\n",
            "19 \t [-0.31914262  0.13011064]\t 0.27788256181943427\t 0.0033561261049684585\t 1.5634975794333594\t 1.6611472926360646\n",
            "20 \t [-0.32777015  0.13277546]\t 0.293114451729123\t 0.0033561261049684585\t 1.371450615369497\t 1.5537458685434693\n"
          ]
        }
      ],
      "source": [
        "### EXACT GP EI GRADIENTS\n",
        "\n",
        "np.random.seed(run_num_15)\n",
        "surrogate_exact_15 = dGaussianProcess(cov_func, optimize=opt)\n",
        "\n",
        "exact_15 = dGPGO(surrogate_exact_15, Acquisition_grad(util), objfunc, param)\n",
        "exact_15.run(init_evals=n_init, max_iter=iters)\n"
      ]
    },
    {
      "cell_type": "code",
      "execution_count": 49,
      "metadata": {
        "id": "lu8ki9XIQPPN",
        "colab": {
          "base_uri": "https://localhost:8080/"
        },
        "outputId": "5b3ab7ec-6b7e-4c47-c93e-98895fbe8e0b"
      },
      "outputs": [
        {
          "output_type": "stream",
          "name": "stdout",
          "text": [
            "Evaluation \t Proposed point \t  Current eval. \t  Best eval. \t        Exact EI: StdDev. x \t Approx EI: StdDev. x \n",
            "init\t [-1.66025353  0.09265337]\t 1.8632773736203017\t 1.8632773736203017\t    \t    \n",
            "init\t [ 0.30420874 -1.8175922 ]\t 30.24114424375299\t 1.8632773736203017\t    \t    \n",
            "init\t [-0.83562699 -1.10767623]\t 3.922061281476444\t 1.8632773736203017\t    \t    \n",
            "init\t [ 1.13235697 -1.3450743 ]\t 6.7121671493737685\t 1.8632773736203017\t    \t    \n",
            "init\t [-2.5780508   1.76404344]\t 53.42443470756798\t 1.8632773736203017\t    \t    \n",
            "1  \t [ 3.         -0.03183366]\t 108.80044958576823\t 1.8632773736203017\t 1.9114665365806804\t 2.093286322460776\n",
            "2  \t [-3. -2.]\t 162.89999999999998\t 1.8632773736203017\t 1.8520074982997594\t 1.7864824914232902\n",
            "3  \t [0.53273672 2.        ]\t 50.039177940457655\t 1.8632773736203017\t 1.512609404213625\t 1.5643442310577695\n",
            "4  \t [-1.07948665  0.09487703]\t 2.19891744142207\t 1.8632773736203017\t 1.5107668151560767\t 1.572660145155736\n",
            "\u001b[1m\u001b[92m5\u001b[0m\t \u001b[1m\u001b[92m[-0.3769774  -0.06651015]\u001b[0m\t \u001b[1m\u001b[92m0.5344500273981418\u001b[0m\t \u001b[1m\u001b[92m0.5344500273981418\u001b[0m\t \u001b[1m\u001b[92m1.6296901878546017\u001b[0m\t \u001b[1m\u001b[92m1.5966088017695066\u001b[0m\n",
            "6  \t [-0.42658339 -0.03439954]\t 0.6703087021189897\t 0.5344500273981418\t 1.6911342881123064\t 1.7396356588992725\n",
            "7  \t [-0.68910525 -0.00620065]\t 1.4657317305836757\t 0.5344500273981418\t 1.3132676597394475\t 1.4132656029223591\n",
            "8  \t [-0.73690439  0.00287904]\t 1.6040865886446212\t 0.5344500273981418\t 1.3464810673160061\t 1.2281980106108716\n",
            "9  \t [-0.81961096  0.00854655]\t 1.8331437904831238\t 0.5344500273981418\t 1.5437221588006607\t 1.5063576237377339\n",
            "\u001b[1m\u001b[92m10\u001b[0m\t \u001b[1m\u001b[92m[-0.30786426  0.02864926]\u001b[0m\t \u001b[1m\u001b[92m0.3484399329894422\u001b[0m\t \u001b[1m\u001b[92m0.3484399329894422\u001b[0m\t \u001b[1m\u001b[92m1.5081023266517002\u001b[0m\t \u001b[1m\u001b[92m1.6347975822697756\u001b[0m\n",
            "\u001b[1m\u001b[92m11\u001b[0m\t \u001b[1m\u001b[92m[-0.13830885  0.03268194]\u001b[0m\t \u001b[1m\u001b[92m0.06696315387577305\u001b[0m\t \u001b[1m\u001b[92m0.06696315387577305\u001b[0m\t \u001b[1m\u001b[92m1.5630949146465078\u001b[0m\t \u001b[1m\u001b[92m1.7394628571223496\u001b[0m\n",
            "\u001b[1m\u001b[92m12\u001b[0m\t \u001b[1m\u001b[92m[-0.01169121  0.0406623 ]\u001b[0m\t \u001b[1m\u001b[92m-0.006531449663065775\u001b[0m\t \u001b[1m\u001b[92m-0.006531449663065775\u001b[0m\t \u001b[1m\u001b[92m1.6321319853749154\u001b[0m\t \u001b[1m\u001b[92m1.6606695571368864\u001b[0m\n",
            "13 \t [ 0.37025782 -0.02065901]\t 0.5003994355425151\t -0.006531449663065775\t 1.282482450172051\t 1.0138372142937784\n",
            "14 \t [0.20150346 0.01385936]\t 0.16099923524033244\t -0.006531449663065775\t 1.1706430076427554\t 1.0504083545236476\n",
            "15 \t [0.14063972 0.02965072]\t 0.07895561611154779\t -0.006531449663065775\t 1.3241760221474885\t 1.1846157411783247\n",
            "16 \t [0.03838332 0.05596936]\t -0.004454176935209728\t -0.006531449663065775\t 1.373091056887168\t 1.3495826066490069\n",
            "17 \t [-0.15375567  0.11792685]\t 0.02040866658875347\t -0.006531449663065775\t 1.6373322059601694\t 1.579842795090907\n",
            "18 \t [0.24639061 0.01358689]\t 0.2377777702399709\t -0.006531449663065775\t 1.3485272639612058\t 1.4603913760084943\n",
            "19 \t [0.07913771 0.05319827]\t 0.017890625498382228\t -0.006531449663065775\t 1.2569373624817677\t 1.1712603309996181\n",
            "\u001b[1m\u001b[92m20\u001b[0m\t \u001b[1m\u001b[92m[-0.10388116  0.10913535]\u001b[0m\t \u001b[1m\u001b[92m-0.01549071390329923\u001b[0m\t \u001b[1m\u001b[92m-0.01549071390329923\u001b[0m\t \u001b[1m\u001b[92m1.4582341006870196\u001b[0m\t \u001b[1m\u001b[92m1.4770147386653845\u001b[0m\n"
          ]
        }
      ],
      "source": [
        "### EXACT GP EI GRADIENTS\n",
        "\n",
        "np.random.seed(run_num_16)\n",
        "surrogate_exact_16 = dGaussianProcess(cov_func, optimize=opt)\n",
        "\n",
        "exact_16 = dGPGO(surrogate_exact_16, Acquisition_grad(util), objfunc, param)\n",
        "exact_16.run(init_evals=n_init, max_iter=iters)\n"
      ]
    },
    {
      "cell_type": "code",
      "execution_count": 50,
      "metadata": {
        "id": "yU2SflSsJTUs",
        "colab": {
          "base_uri": "https://localhost:8080/"
        },
        "outputId": "23bf24dd-5a42-4232-c6ab-1efbe2054630"
      },
      "outputs": [
        {
          "output_type": "stream",
          "name": "stdout",
          "text": [
            "Evaluation \t Proposed point \t  Current eval. \t  Best eval. \t        Exact EI: StdDev. x \t Approx EI: StdDev. x \n",
            "init\t [-1.23200998  0.12234702]\t 2.189206652278967\t 1.7722768782964888\t    \t    \n",
            "init\t [-1.85087528 -1.72839857]\t 29.406067820453675\t 1.7722768782964888\t    \t    \n",
            "init\t [1.72191276 0.62533409]\t 2.2113401446731897\t 1.7722768782964888\t    \t    \n",
            "init\t [0.82512538 0.30241158]\t 1.7722768782964888\t 1.7722768782964888\t    \t    \n",
            "init\t [-2.7656225  -0.56874558]\t 57.5922315952177\t 1.7722768782964888\t    \t    \n",
            "1  \t [-0.95987171  1.79342537]\t 28.9567546944033\t 1.7722768782964888\t 1.7273412412490092\t 1.7355849654565598\n",
            "2  \t [ 2.16747806 -2.        ]\t 50.670774669928754\t 1.7722768782964888\t 1.5849846707161763\t 2.1978807244824146\n",
            "3  \t [3. 2.]\t 162.89999999999998\t 1.7722768782964888\t 1.782313521142144\t 1.7334557486971336\n",
            "4  \t [0.97883793 0.22139422]\t 2.2281363209479244\t 1.7722768782964888\t 1.5923389123731837\t 1.7273857989767107\n",
            "\u001b[1m\u001b[92m5\u001b[0m\t \u001b[1m\u001b[92m[-0.06466376 -0.35768017]\u001b[0m\t \u001b[1m\u001b[92m-0.40645299234271104\u001b[0m\t \u001b[1m\u001b[92m-0.40645299234271104\u001b[0m\t \u001b[1m\u001b[92m1.3462582375903818\u001b[0m\t \u001b[1m\u001b[92m1.2719104845054086\u001b[0m\n",
            "\u001b[1m\u001b[92m6\u001b[0m\t \u001b[1m\u001b[92m[-0.00195778 -0.44054093]\u001b[0m\t \u001b[1m\u001b[92m-0.6247649732737818\u001b[0m\t \u001b[1m\u001b[92m-0.6247649732737818\u001b[0m\t \u001b[1m\u001b[92m1.414450004413291\u001b[0m\t \u001b[1m\u001b[92m1.5758100067948466\u001b[0m\n",
            "7  \t [-0.16095811 -0.2847275 ]\t -0.14993424187459797\t -0.6247649732737818\t 1.2072440693117328\t 1.1581268153000082\n",
            "8  \t [-0.51737533  0.0174495 ]\t 0.9163892434182628\t -0.6247649732737818\t 1.520328608077723\t 1.4466601579649945\n",
            "9  \t [-0.24562463 -0.20651421]\t 0.12116322819900688\t -0.6247649732737818\t 1.5592371484443297\t 1.548446382984103\n",
            "10 \t [-0.1194848 -0.3240358]\t -0.2805006966972824\t -0.6247649732737818\t 1.2782153282893507\t 1.0732981502544576\n",
            "11 \t [-0.09060604 -0.35448179]\t -0.3746556266163533\t -0.6247649732737818\t 1.6118811940768802\t 1.4825108394087234\n",
            "\u001b[1m\u001b[92m12\u001b[0m\t \u001b[1m\u001b[92m[ 0.12769519 -0.6521529 ]\u001b[0m\t \u001b[1m\u001b[92m-0.9962911420468843\u001b[0m\t \u001b[1m\u001b[92m-0.9962911420468843\u001b[0m\t \u001b[1m\u001b[92m1.2724653258746426\u001b[0m\t \u001b[1m\u001b[92m1.2622425873563454\u001b[0m\n",
            "13 \t [-0.05700305 -0.41722003]\t -0.5383271630220482\t -0.9962911420468843\t 1.2033050863157913\t 1.3282284489518998\n",
            "14 \t [-0.222612   -0.24791559]\t 0.017558589966288424\t -0.9962911420468843\t 1.4377078685310283\t 1.1764923438283952\n",
            "15 \t [-0.15777511 -0.31085008]\t -0.2018431769768328\t -0.9962911420468843\t 1.2915689597576214\t 1.132991749237659\n",
            "16 \t [-0.14556302 -0.32297434]\t -0.2428975175341715\t -0.9962911420468843\t 1.1977100041166935\t 1.1220037222918384\n",
            "17 \t [-0.03167521 -0.44762407]\t -0.6226912599410502\t -0.9962911420468843\t 1.1488513513516383\t 0.9660845170039833\n",
            "18 \t [-0.05330911 -0.42472499]\t -0.5574089503499859\t -0.9962911420468843\t 1.3549719629340675\t 1.3030633065553292\n",
            "19 \t [-0.03032616 -0.45306771]\t -0.6351210078151479\t -0.9962911420468843\t 1.3102159712864407\t 1.1292151315761536\n",
            "20 \t [-0.14033224 -0.33338002]\t -0.27041392682669085\t -0.9962911420468843\t 1.4978388474026203\t 1.4560304652058258\n"
          ]
        }
      ],
      "source": [
        "### EXACT GP EI GRADIENTS\n",
        "\n",
        "np.random.seed(run_num_17)\n",
        "surrogate_exact_17 = dGaussianProcess(cov_func, optimize=opt)\n",
        "\n",
        "exact_17 = dGPGO(surrogate_exact_17, Acquisition_grad(util), objfunc, param)\n",
        "exact_17.run(init_evals=n_init, max_iter=iters)\n"
      ]
    },
    {
      "cell_type": "code",
      "execution_count": 51,
      "metadata": {
        "id": "eVEhyZ9BQS-1",
        "colab": {
          "base_uri": "https://localhost:8080/"
        },
        "outputId": "f06651d8-c327-4e0c-840a-c9b798585f7f"
      },
      "outputs": [
        {
          "output_type": "stream",
          "name": "stdout",
          "text": [
            "Evaluation \t Proposed point \t  Current eval. \t  Best eval. \t        Exact EI: StdDev. x \t Approx EI: StdDev. x \n",
            "init\t [0.90224545 0.02181349]\t 2.062169771852028\t 2.062169771852028\t    \t    \n",
            "init\t [ 2.27160883 -1.2726391 ]\t 11.64729291207819\t 2.062169771852028\t    \t    \n",
            "init\t [2.11339841 1.00054514]\t 7.792128760671214\t 2.062169771852028\t    \t    \n",
            "init\t [0.99661    1.95158179]\t 46.96206222999227\t 2.062169771852028\t    \t    \n",
            "init\t [-1.45818946 -1.8867763 ]\t 41.4190528039297\t 2.062169771852028\t    \t    \n",
            "1  \t [-2.66531792  1.40819293]\t 45.98308763417818\t 2.062169771852028\t 1.5684416146864366\t 1.9759773081772518\n",
            "\u001b[1m\u001b[92m2\u001b[0m\t \u001b[1m\u001b[92m[ 0.5741811  -0.50655714]\u001b[0m\t \u001b[1m\u001b[92m0.04854663195852238\u001b[0m\t \u001b[1m\u001b[92m0.04854663195852238\u001b[0m\t \u001b[1m\u001b[92m1.278055872234951\u001b[0m\t \u001b[1m\u001b[92m1.4304794331939976\u001b[0m\n",
            "\u001b[1m\u001b[92m3\u001b[0m\t \u001b[1m\u001b[92m[ 0.6418611 -0.6165422]\u001b[0m\t \u001b[1m\u001b[92m-0.023439537027996504\u001b[0m\t \u001b[1m\u001b[92m-0.023439537027996504\u001b[0m\t \u001b[1m\u001b[92m1.4916024133516284\u001b[0m\t \u001b[1m\u001b[92m1.446172000866761\u001b[0m\n",
            "\u001b[1m\u001b[92m4\u001b[0m\t \u001b[1m\u001b[92m[ 0.58790994 -0.58304031]\u001b[0m\t \u001b[1m\u001b[92m-0.09485487556609207\u001b[0m\t \u001b[1m\u001b[92m-0.09485487556609207\u001b[0m\t \u001b[1m\u001b[92m1.6785818217547424\u001b[0m\t \u001b[1m\u001b[92m1.6094661490433773\u001b[0m\n",
            "\u001b[1m\u001b[92m5\u001b[0m\t \u001b[1m\u001b[92m[ 0.56278385 -0.56506891]\u001b[0m\t \u001b[1m\u001b[92m-0.1205742082475243\u001b[0m\t \u001b[1m\u001b[92m-0.1205742082475243\u001b[0m\t \u001b[1m\u001b[92m1.4663813143561224\u001b[0m\t \u001b[1m\u001b[92m1.5501135005166937\u001b[0m\n",
            "\u001b[1m\u001b[92m6\u001b[0m\t \u001b[1m\u001b[92m[ 0.22651756 -0.28479035]\u001b[0m\t \u001b[1m\u001b[92m-0.1628626667112716\u001b[0m\t \u001b[1m\u001b[92m-0.1628626667112716\u001b[0m\t \u001b[1m\u001b[92m1.3217398556214428\u001b[0m\t \u001b[1m\u001b[92m1.3814602105241793\u001b[0m\n",
            "\u001b[1m\u001b[92m7\u001b[0m\t \u001b[1m\u001b[92m[ 0.48391442 -0.50633286]\u001b[0m\t \u001b[1m\u001b[92m-0.1817899637743926\u001b[0m\t \u001b[1m\u001b[92m-0.1817899637743926\u001b[0m\t \u001b[1m\u001b[92m1.5476382152126396\u001b[0m\t \u001b[1m\u001b[92m1.4930163763916546\u001b[0m\n",
            "\u001b[1m\u001b[92m8\u001b[0m\t \u001b[1m\u001b[92m[ 0.42683076 -0.45624571]\u001b[0m\t \u001b[1m\u001b[92m-0.1930055818518343\u001b[0m\t \u001b[1m\u001b[92m-0.1930055818518343\u001b[0m\t \u001b[1m\u001b[92m1.2941564692906977\u001b[0m\t \u001b[1m\u001b[92m1.4343985628626688\u001b[0m\n",
            "9  \t [ 0.21882929 -0.28960861]\t -0.1839624784615302\t -0.1930055818518343\t 1.574273378333945\t 1.655034149545182\n",
            "\u001b[1m\u001b[92m10\u001b[0m\t \u001b[1m\u001b[92m[ 0.57786897 -0.62261666]\u001b[0m\t \u001b[1m\u001b[92m-0.19533251977762378\u001b[0m\t \u001b[1m\u001b[92m-0.19533251977762378\u001b[0m\t \u001b[1m\u001b[92m1.6095654513828161\u001b[0m\t \u001b[1m\u001b[92m1.5844341240884654\u001b[0m\n",
            "\u001b[1m\u001b[92m11\u001b[0m\t \u001b[1m\u001b[92m[ 0.36966538 -0.41497405]\u001b[0m\t \u001b[1m\u001b[92m-0.21535388818524415\u001b[0m\t \u001b[1m\u001b[92m-0.21535388818524415\u001b[0m\t \u001b[1m\u001b[92m1.6482835162840248\u001b[0m\t \u001b[1m\u001b[92m1.58926964906835\u001b[0m\n",
            "\u001b[1m\u001b[92m12\u001b[0m\t \u001b[1m\u001b[92m[ 0.44684872 -0.4860964 ]\u001b[0m\t \u001b[1m\u001b[92m-0.22141652228262831\u001b[0m\t \u001b[1m\u001b[92m-0.22141652228262831\u001b[0m\t \u001b[1m\u001b[92m1.292363020774461\u001b[0m\t \u001b[1m\u001b[92m1.3260676980164119\u001b[0m\n",
            "13 \t [ 0.33378379 -0.38677296]\t -0.21791808599059237\t -0.22141652228262831\t 1.4105367078716835\t 1.3088156875828403\n",
            "\u001b[1m\u001b[92m14\u001b[0m\t \u001b[1m\u001b[92m[ 0.48743152 -0.52881909]\u001b[0m\t \u001b[1m\u001b[92m-0.22725987056867725\u001b[0m\t \u001b[1m\u001b[92m-0.22725987056867725\u001b[0m\t \u001b[1m\u001b[92m1.3179896945014824\u001b[0m\t \u001b[1m\u001b[92m1.3810344855223249\u001b[0m\n",
            "15 \t [ 0.55071031 -0.59943777]\t -0.2216912201799196\t -0.22725987056867725\t 1.4564787446429617\t 1.277737832232557\n",
            "16 \t [ 0.35003259 -0.4031647 ]\t -0.2264290755577194\t -0.22725987056867725\t 1.323808027244054\t 1.365121032329609\n",
            "17 \t [ 0.14865608 -0.24573137]\t -0.17610764314698793\t -0.22725987056867725\t 1.8311709469701127\t 1.6574258225282348\n",
            "\u001b[1m\u001b[92m18\u001b[0m\t \u001b[1m\u001b[92m[ 0.39520378 -0.44546974]\u001b[0m\t \u001b[1m\u001b[92m-0.2375189723029285\u001b[0m\t \u001b[1m\u001b[92m-0.2375189723029285\u001b[0m\t \u001b[1m\u001b[92m1.5155574388426465\u001b[0m\t \u001b[1m\u001b[92m1.5489929232470896\u001b[0m\n",
            "19 \t [ 0.36660326 -0.42069793]\t -0.23640989470230067\t -0.2375189723029285\t 1.378254378973671\t 1.302783335765387\n",
            "\u001b[1m\u001b[92m20\u001b[0m\t \u001b[1m\u001b[92m[ 0.42494498 -0.47401598]\u001b[0m\t \u001b[1m\u001b[92m-0.2424529867226703\u001b[0m\t \u001b[1m\u001b[92m-0.2424529867226703\u001b[0m\t \u001b[1m\u001b[92m1.3791931821189531\u001b[0m\t \u001b[1m\u001b[92m1.396278049810546\u001b[0m\n"
          ]
        }
      ],
      "source": [
        "### EXACT GP EI GRADIENTS\n",
        "\n",
        "np.random.seed(run_num_18)\n",
        "surrogate_exact_18 = dGaussianProcess(cov_func, optimize=opt)\n",
        "\n",
        "exact_18 = dGPGO(surrogate_exact_18, Acquisition_grad(util), objfunc, param)\n",
        "exact_18.run(init_evals=n_init, max_iter=iters)\n"
      ]
    },
    {
      "cell_type": "code",
      "execution_count": 52,
      "metadata": {
        "id": "B6gTz1ojQUxn",
        "colab": {
          "base_uri": "https://localhost:8080/"
        },
        "outputId": "f096c013-c19a-422b-978a-38c7310543f0"
      },
      "outputs": [
        {
          "output_type": "stream",
          "name": "stdout",
          "text": [
            "Evaluation \t Proposed point \t  Current eval. \t  Best eval. \t        Exact EI: StdDev. x \t Approx EI: StdDev. x \n",
            "init\t [-2.41479839  1.04499887]\t 15.890475442873509\t 6.578088852480828\t    \t    \n",
            "init\t [-1.51837216 -1.44747325]\t 13.520839509777993\t 6.578088852480828\t    \t    \n",
            "init\t [-1.01132062 -1.66800174]\t 23.772158573571232\t 6.578088852480828\t    \t    \n",
            "init\t [1.03186249 1.22637519]\t 6.578088852480828\t 6.578088852480828\t    \t    \n",
            "init\t [2.89645149 0.54264294]\t 83.31828503667734\t 6.578088852480828\t    \t    \n",
            "1  \t [-0.06396496  2.        ]\t 47.88840101526975\t 6.578088852480828\t 1.797354758479782\t 1.9489966056383858\n",
            "2  \t [ 1.35029139 -1.87435332]\t 35.11897263057656\t 6.578088852480828\t 1.6006633008449425\t 1.9451283431017983\n",
            "3  \t [-3. -2.]\t 162.89999999999998\t 6.578088852480828\t 1.4082534689255166\t 1.4970592459156793\n",
            "\u001b[1m\u001b[92m4\u001b[0m\t \u001b[1m\u001b[92m[-0.31676605 -0.19608176]\u001b[0m\t \u001b[1m\u001b[92m0.29478915686179186\u001b[0m\t \u001b[1m\u001b[92m0.29478915686179186\u001b[0m\t \u001b[1m\u001b[92m1.4069800228271687\u001b[0m\t \u001b[1m\u001b[92m1.4364867566638135\u001b[0m\n",
            "\u001b[1m\u001b[92m5\u001b[0m\t \u001b[1m\u001b[92m[ 0.15324001 -0.22292959]\u001b[0m\t \u001b[1m\u001b[92m-0.1302964246019529\u001b[0m\t \u001b[1m\u001b[92m-0.1302964246019529\u001b[0m\t \u001b[1m\u001b[92m1.3371559907383668\u001b[0m\t \u001b[1m\u001b[92m1.2172045781833931\u001b[0m\n",
            "6  \t [-0.31519427 -0.12689817]\t 0.353611994590017\t -0.1302964246019529\t 1.5165327487016829\t 1.5204586206720696\n",
            "7  \t [ 0.09697138 -0.18555825]\t -0.11355070614649526\t -0.1302964246019529\t 1.256283923988699\t 1.2780960185858266\n",
            "8  \t [-0.18528823 -0.12913412]\t 0.09320205306301282\t -0.1302964246019529\t 1.4149915842379053\t 1.391155175617394\n",
            "9  \t [-0.06096432 -0.14726062]\t -0.06104644181568732\t -0.1302964246019529\t 1.4957466539199333\t 1.5243377294750777\n",
            "10 \t [-0.35155743 -0.10097058]\t 0.4580544975683034\t -0.1302964246019529\t 1.6480952286314687\t 1.594690655717796\n",
            "11 \t [-0.28896501 -0.11035687]\t 0.3033231758176629\t -0.1302964246019529\t 1.200316274541362\t 1.215102930236754\n",
            "12 \t [-0.09178853 -0.14034906]\t -0.030805307182867038\t -0.1302964246019529\t 1.4097476264738191\t 1.5084758195083396\n",
            "13 \t [ 0.3006333  -0.22602869]\t 0.08274623142781357\t -0.1302964246019529\t 1.4917084770524132\t 1.6555920641384205\n",
            "14 \t [ 0.03653691 -0.1470194 ]\t -0.08462562876881354\t -0.1302964246019529\t 1.311503505415319\t 1.23053032577342\n",
            "15 \t [-0.45268809 -0.06886951]\t 0.7466797795584003\t -0.1302964246019529\t 1.4769887093140641\t 1.4730444752489111\n",
            "16 \t [ 0.12849021 -0.16316813]\t -0.059157507801813974\t -0.1302964246019529\t 1.2560174328028195\t 1.1805234988426796\n",
            "17 \t [ 0.0533331  -0.14309492]\t -0.07649853273136778\t -0.1302964246019529\t 1.3109607793116151\t 1.458087416946542\n",
            "18 \t [-0.60257178 -0.03995699]\t 1.209171851684336\t -0.1302964246019529\t 1.4874423505769965\t 1.4630619963036144\n",
            "19 \t [-0.03257501 -0.12151292]\t -0.049989047788308094\t -0.1302964246019529\t 1.2180776173534968\t 1.1707307916992018\n",
            "20 \t [-0.06632449 -0.114432  ]\t -0.026548065017258954\t -0.1302964246019529\t 1.2235582235395477\t 1.2571555020042924\n"
          ]
        }
      ],
      "source": [
        "### EXACT GP EI GRADIENTS\n",
        "\n",
        "np.random.seed(run_num_19)\n",
        "surrogate_exact_19 = dGaussianProcess(cov_func, optimize=opt)\n",
        "\n",
        "exact_19 = dGPGO(surrogate_exact_19, Acquisition_grad(util), objfunc, param)\n",
        "exact_19.run(init_evals=n_init, max_iter=iters)\n"
      ]
    },
    {
      "cell_type": "code",
      "execution_count": 53,
      "metadata": {
        "id": "aw3xvSryIwDi",
        "colab": {
          "base_uri": "https://localhost:8080/"
        },
        "outputId": "d6c280a5-9db2-4c5a-e371-bd4cdcb0a061"
      },
      "outputs": [
        {
          "output_type": "stream",
          "name": "stdout",
          "text": [
            "Evaluation \t Proposed point \t  Current eval. \t  Best eval. \t        Exact EI: StdDev. x \t Approx EI: StdDev. x \n",
            "init\t [0.52878481 1.59085491]\t 17.29968374481291\t 1.5037392797834441\t    \t    \n",
            "init\t [2.34918438 1.26334991]\t 20.91583049569433\t 1.5037392797834441\t    \t    \n",
            "init\t [-2.78466249  0.76703033]\t 57.06253405225224\t 1.5037392797834441\t    \t    \n",
            "init\t [-0.72791435  0.07404378]\t 1.5037392797834441\t 1.5037392797834441\t    \t    \n",
            "init\t [ 0.94770879 -1.22459913]\t 3.9766737661914173\t 1.5037392797834441\t    \t    \n",
            "1  \t [-1.36411624 -2.        ]\t 53.04773777420018\t 1.5037392797834441\t 1.3324272198238858\t 1.418126412193633\n",
            "2  \t [ 2.66772053 -1.57767932]\t 52.87235114975399\t 1.5037392797834441\t 1.3985042954760796\t 2.0789919677032977\n",
            "\u001b[1m\u001b[92m3\u001b[0m\t \u001b[1m\u001b[92m[ 0.20330716 -0.22564681]\u001b[0m\t \u001b[1m\u001b[92m-0.07740064932912896\u001b[0m\t \u001b[1m\u001b[92m-0.07740064932912896\u001b[0m\t \u001b[1m\u001b[92m1.3903103562634673\u001b[0m\t \u001b[1m\u001b[92m1.356955849186078\u001b[0m\n",
            "4  \t [-0.35517143  0.27430336]\t 0.09609038506592354\t -0.07740064932912896\t 1.5780783096568862\t 1.5467294521656862\n",
            "5  \t [ 0.03303374 -0.07398024]\t -0.01985391849682766\t -0.07740064932912896\t 1.3690342696889002\t 1.3135921376557442\n",
            "6  \t [ 0.21759447 -0.22857204]\t -0.06308141346345364\t -0.07740064932912896\t 1.6415243008667504\t 1.6030027175119215\n",
            "\u001b[1m\u001b[92m7\u001b[0m\t \u001b[1m\u001b[92m[ 0.63732005 -0.75262161]\u001b[0m\t \u001b[1m\u001b[92m-0.16141700564783923\u001b[0m\t \u001b[1m\u001b[92m-0.16141700564783923\u001b[0m\t \u001b[1m\u001b[92m1.6455325744984737\u001b[0m\t \u001b[1m\u001b[92m1.6196689981254502\u001b[0m\n",
            "8  \t [ 0.03642926 -0.07763022]\t -0.021483875196449186\t -0.16141700564783923\t 1.4244354127815224\t 1.3581460413748399\n",
            "9  \t [ 0.01338673 -0.05814443]\t -0.013538993306440986\t -0.16141700564783923\t 1.4395223012705054\t 1.3973556148772843\n",
            "10 \t [ 0.41866511 -0.43270633]\t -0.1514725399945573\t -0.16141700564783923\t 1.4879954583950157\t 1.4709665789845996\n",
            "11 \t [ 0.01092515 -0.0553177 ]\t -0.012329684649754114\t -0.16141700564783923\t 1.497731378764674\t 1.4405689897958172\n",
            "12 \t [ 0.45004401 -0.4625471 ]\t -0.15408656736713955\t -0.16141700564783923\t 1.6063453337669806\t 1.5723424230858496\n",
            "13 \t [ 0.07209879 -0.10564075]\t -0.031022020574351248\t -0.16141700564783923\t 1.7021310907851874\t 1.6259620521166078\n",
            "\u001b[1m\u001b[92m14\u001b[0m\t \u001b[1m\u001b[92m[ 0.51159281 -0.53806014]\u001b[0m\t \u001b[1m\u001b[92m-0.1890087428878684\u001b[0m\t \u001b[1m\u001b[92m-0.1890087428878684\u001b[0m\t \u001b[1m\u001b[92m1.3133553729743024\u001b[0m\t \u001b[1m\u001b[92m1.3197202776983652\u001b[0m\n",
            "15 \t [ 0.27886013 -0.28528615]\t -0.08010177165111387\t -0.1890087428878684\t 1.218357017342773\t 1.2009628142608608\n",
            "16 \t [ 0.08907385 -0.11968802]\t -0.035536538840506185\t -0.1890087428878684\t 1.3615749284975158\t 1.29007184357051\n",
            "17 \t [-0.06676149  0.01003143]\t 0.016714505406809146\t -0.1890087428878684\t 1.3735470408698378\t 1.2800784912724026\n",
            "18 \t [ 0.11989513 -0.14552704]\t -0.043299985262585786\t -0.1890087428878684\t 1.3773609768134203\t 1.3516106719762613\n",
            "19 \t [ 0.31301933 -0.31774069]\t -0.0904472431088732\t -0.1890087428878684\t 1.496906097733174\t 1.4866085267343083\n",
            "20 \t [ 0.22650498 -0.23793784]\t -0.06779548766487228\t -0.1890087428878684\t 1.1638293611047958\t 1.0361026446008172\n"
          ]
        }
      ],
      "source": [
        "### EXACT GP EI GRADIENTS\n",
        "\n",
        "np.random.seed(run_num_20)\n",
        "surrogate_exact_20 = dGaussianProcess(cov_func, optimize=opt)\n",
        "\n",
        "exact_20 = dGPGO(surrogate_exact_20, Acquisition_grad(util), objfunc, param)\n",
        "exact_20.run(init_evals=n_init, max_iter=iters)\n"
      ]
    },
    {
      "cell_type": "code",
      "execution_count": 54,
      "metadata": {
        "id": "5c8szjivRPme",
        "colab": {
          "base_uri": "https://localhost:8080/"
        },
        "outputId": "1cf7eea1-a682-4967-dcca-06f3f2ba611f"
      },
      "outputs": [
        {
          "output_type": "execute_result",
          "data": {
            "text/plain": [
              "682.8082439899445"
            ]
          },
          "metadata": {},
          "execution_count": 54
        }
      ],
      "source": [
        "end_exact = time.time()\n",
        "end_exact\n",
        "\n",
        "time_exact = end_exact - start_exact\n",
        "time_exact\n"
      ]
    },
    {
      "cell_type": "code",
      "execution_count": 55,
      "metadata": {
        "id": "f6gCKnp6RR8c",
        "colab": {
          "base_uri": "https://localhost:8080/"
        },
        "outputId": "7de55c03-b95f-4d38-cdf5-1279bc7111cd"
      },
      "outputs": [
        {
          "output_type": "execute_result",
          "data": {
            "text/plain": [
              "(-0.2658009358573259, -0.2658009358573259)"
            ]
          },
          "metadata": {},
          "execution_count": 55
        }
      ],
      "source": [
        "### Simple regret minimization: run number = 1\n",
        "\n",
        "approx_output_1 = np.append(np.min(-approx_1.GP.y[0:n_init]),-approx_1.GP.y[n_init:(n_init+iters)]) \n",
        "exact_output_1 = np.append(np.min(-exact_1.GP.y[0:n_init]),-exact_1.GP.y[n_init:(n_init+iters)]) \n",
        "\n",
        "regret_approx_1 = np.log(approx_output_1 - y_global_orig)\n",
        "regret_exact_1 = np.log(exact_output_1 - y_global_orig)\n",
        "\n",
        "simple_regret_approx_1 = min_max_array(regret_approx_1)\n",
        "simple_regret_exact_1 = min_max_array(regret_exact_1)\n",
        "\n",
        "min_simple_regret_approx_1 = min(simple_regret_approx_1)\n",
        "min_simple_regret_exact_1 = min(simple_regret_exact_1)\n",
        "\n",
        "min_simple_regret_approx_1, min_simple_regret_exact_1\n"
      ]
    },
    {
      "cell_type": "code",
      "execution_count": 56,
      "metadata": {
        "id": "94yBw5tqQxfk",
        "colab": {
          "base_uri": "https://localhost:8080/"
        },
        "outputId": "26546220-7292-4d61-e153-03d9995ffda6"
      },
      "outputs": [
        {
          "output_type": "execute_result",
          "data": {
            "text/plain": [
              "(0.04261840449610358, -0.4486801189237841)"
            ]
          },
          "metadata": {},
          "execution_count": 56
        }
      ],
      "source": [
        "### Simple regret minimization: run number = 2\n",
        "\n",
        "approx_output_2 = np.append(np.min(-approx_2.GP.y[0:n_init]),-approx_2.GP.y[n_init:(n_init+iters)]) \n",
        "exact_output_2 = np.append(np.min(-exact_2.GP.y[0:n_init]),-exact_2.GP.y[n_init:(n_init+iters)]) \n",
        "\n",
        "regret_approx_2 = np.log(approx_output_2 - y_global_orig)\n",
        "regret_exact_2 = np.log(exact_output_2 - y_global_orig)\n",
        "\n",
        "simple_regret_approx_2 = min_max_array(regret_approx_2)\n",
        "simple_regret_exact_2 = min_max_array(regret_exact_2)\n",
        "\n",
        "min_simple_regret_approx_2 = min(simple_regret_approx_2)\n",
        "min_simple_regret_exact_2 = min(simple_regret_exact_2)\n",
        "\n",
        "min_simple_regret_approx_2, min_simple_regret_exact_2\n"
      ]
    },
    {
      "cell_type": "code",
      "execution_count": 57,
      "metadata": {
        "id": "Bu6SBWALQxfl",
        "colab": {
          "base_uri": "https://localhost:8080/"
        },
        "outputId": "6b84510e-9982-421c-de0e-4ffd4678d0c2"
      },
      "outputs": [
        {
          "output_type": "execute_result",
          "data": {
            "text/plain": [
              "(-0.5639206957195025, -1.5408715815840728)"
            ]
          },
          "metadata": {},
          "execution_count": 57
        }
      ],
      "source": [
        "### Simple regret minimization: run number = 3\n",
        "\n",
        "approx_output_3 = np.append(np.min(-approx_3.GP.y[0:n_init]),-approx_3.GP.y[n_init:(n_init+iters)]) \n",
        "exact_output_3 = np.append(np.min(-exact_3.GP.y[0:n_init]),-exact_3.GP.y[n_init:(n_init+iters)]) \n",
        "\n",
        "regret_approx_3 = np.log(approx_output_3 - y_global_orig)\n",
        "regret_exact_3 = np.log(exact_output_3 - y_global_orig)\n",
        "\n",
        "simple_regret_approx_3 = min_max_array(regret_approx_3)\n",
        "simple_regret_exact_3 = min_max_array(regret_exact_3)\n",
        "\n",
        "min_simple_regret_approx_3 = min(simple_regret_approx_3)\n",
        "min_simple_regret_exact_3 = min(simple_regret_exact_3)\n",
        "\n",
        "min_simple_regret_approx_3, min_simple_regret_exact_3"
      ]
    },
    {
      "cell_type": "code",
      "execution_count": 58,
      "metadata": {
        "id": "AZm0jgxkQxfm",
        "colab": {
          "base_uri": "https://localhost:8080/"
        },
        "outputId": "1371aa0d-7c17-4edc-a2bf-af53652c61fc"
      },
      "outputs": [
        {
          "output_type": "execute_result",
          "data": {
            "text/plain": [
              "(-6.128866116436063, -0.663702093103548)"
            ]
          },
          "metadata": {},
          "execution_count": 58
        }
      ],
      "source": [
        "### Simple regret minimization: run number = 4\n",
        "\n",
        "approx_output_4 = np.append(np.min(-approx_4.GP.y[0:n_init]),-approx_4.GP.y[n_init:(n_init+iters)]) \n",
        "exact_output_4 = np.append(np.min(-exact_4.GP.y[0:n_init]),-exact_4.GP.y[n_init:(n_init+iters)]) \n",
        "\n",
        "regret_approx_4 = np.log(approx_output_4 - y_global_orig)\n",
        "regret_exact_4 = np.log(exact_output_4 - y_global_orig)\n",
        "\n",
        "simple_regret_approx_4 = min_max_array(regret_approx_4)\n",
        "simple_regret_exact_4 = min_max_array(regret_exact_4)\n",
        "\n",
        "min_simple_regret_approx_4 = min(simple_regret_approx_4)\n",
        "min_simple_regret_exact_4 = min(simple_regret_exact_4)\n",
        "\n",
        "min_simple_regret_approx_4, min_simple_regret_exact_4"
      ]
    },
    {
      "cell_type": "code",
      "execution_count": 59,
      "metadata": {
        "id": "NONPm8JIQxfn",
        "colab": {
          "base_uri": "https://localhost:8080/"
        },
        "outputId": "52d08dbb-81fe-4f06-92a9-cb1ddd04d7e4"
      },
      "outputs": [
        {
          "output_type": "execute_result",
          "data": {
            "text/plain": [
              "(-1.747577354888862, -3.8142159516018626)"
            ]
          },
          "metadata": {},
          "execution_count": 59
        }
      ],
      "source": [
        "### Simple regret minimization: run number = 5\n",
        "\n",
        "approx_output_5 = np.append(np.min(-approx_5.GP.y[0:n_init]),-approx_5.GP.y[n_init:(n_init+iters)]) \n",
        "exact_output_5 = np.append(np.min(-exact_5.GP.y[0:n_init]),-exact_5.GP.y[n_init:(n_init+iters)]) \n",
        "\n",
        "regret_approx_5 = np.log(approx_output_5 - y_global_orig)\n",
        "regret_exact_5 = np.log(exact_output_5 - y_global_orig)\n",
        "\n",
        "simple_regret_approx_5 = min_max_array(regret_approx_5)\n",
        "simple_regret_exact_5 = min_max_array(regret_exact_5)\n",
        "\n",
        "min_simple_regret_approx_5 = min(simple_regret_approx_5)\n",
        "min_simple_regret_exact_5 = min(simple_regret_exact_5)\n",
        "\n",
        "min_simple_regret_approx_5, min_simple_regret_exact_5"
      ]
    },
    {
      "cell_type": "code",
      "execution_count": 60,
      "metadata": {
        "id": "CJv3lPuSQxfp",
        "colab": {
          "base_uri": "https://localhost:8080/"
        },
        "outputId": "eefa6398-10a5-44c4-a198-2573cc990d0a"
      },
      "outputs": [
        {
          "output_type": "execute_result",
          "data": {
            "text/plain": [
              "(-1.2924189468108105, -3.161399233302295)"
            ]
          },
          "metadata": {},
          "execution_count": 60
        }
      ],
      "source": [
        "### Simple regret minimization: run number = 6\n",
        "\n",
        "approx_output_6 = np.append(np.min(-approx_6.GP.y[0:n_init]),-approx_6.GP.y[n_init:(n_init+iters)]) \n",
        "exact_output_6 = np.append(np.min(-exact_6.GP.y[0:n_init]),-exact_6.GP.y[n_init:(n_init+iters)]) \n",
        "\n",
        "regret_approx_6 = np.log(approx_output_6 - y_global_orig)\n",
        "regret_exact_6 = np.log(exact_output_6 - y_global_orig)\n",
        "\n",
        "simple_regret_approx_6 = min_max_array(regret_approx_6)\n",
        "simple_regret_exact_6 = min_max_array(regret_exact_6)\n",
        "\n",
        "min_simple_regret_approx_6 = min(simple_regret_approx_6)\n",
        "min_simple_regret_exact_6 = min(simple_regret_exact_6)\n",
        "\n",
        "min_simple_regret_approx_6, min_simple_regret_exact_6"
      ]
    },
    {
      "cell_type": "code",
      "execution_count": 61,
      "metadata": {
        "id": "quR2ZyApQxfq",
        "colab": {
          "base_uri": "https://localhost:8080/"
        },
        "outputId": "c8146891-b9f5-4d5b-b9c3-f21f8bec3c89"
      },
      "outputs": [
        {
          "output_type": "execute_result",
          "data": {
            "text/plain": [
              "(-0.567767694400235, -0.567767694400235)"
            ]
          },
          "metadata": {},
          "execution_count": 61
        }
      ],
      "source": [
        "### Simple regret minimization: run number = 7\n",
        "\n",
        "approx_output_7 = np.append(np.min(-approx_7.GP.y[0:n_init]),-approx_7.GP.y[n_init:(n_init+iters)]) \n",
        "exact_output_7 = np.append(np.min(-exact_7.GP.y[0:n_init]),-exact_7.GP.y[n_init:(n_init+iters)]) \n",
        "\n",
        "regret_approx_7 = np.log(approx_output_7 - y_global_orig)\n",
        "regret_exact_7 = np.log(exact_output_7 - y_global_orig)\n",
        "\n",
        "simple_regret_approx_7 = min_max_array(regret_approx_7)\n",
        "simple_regret_exact_7 = min_max_array(regret_exact_7)\n",
        "\n",
        "min_simple_regret_approx_7 = min(simple_regret_approx_7)\n",
        "min_simple_regret_exact_7 = min(simple_regret_exact_7)\n",
        "\n",
        "min_simple_regret_approx_7, min_simple_regret_exact_7"
      ]
    },
    {
      "cell_type": "code",
      "execution_count": 62,
      "metadata": {
        "id": "99wY5nK6Qxfr",
        "colab": {
          "base_uri": "https://localhost:8080/"
        },
        "outputId": "53a48bb5-5f50-433f-e448-57a9dccf62fd"
      },
      "outputs": [
        {
          "output_type": "execute_result",
          "data": {
            "text/plain": [
              "(-0.26794843654075157, -0.33576914916934275)"
            ]
          },
          "metadata": {},
          "execution_count": 62
        }
      ],
      "source": [
        "### Simple regret minimization: run number = 8\n",
        "\n",
        "approx_output_8 = np.append(np.min(-approx_8.GP.y[0:n_init]),-approx_8.GP.y[n_init:(n_init+iters)]) \n",
        "exact_output_8 = np.append(np.min(-exact_8.GP.y[0:n_init]),-exact_8.GP.y[n_init:(n_init+iters)]) \n",
        "\n",
        "regret_approx_8 = np.log(approx_output_8 - y_global_orig)\n",
        "regret_exact_8 = np.log(exact_output_8 - y_global_orig)\n",
        "\n",
        "simple_regret_approx_8 = min_max_array(regret_approx_8)\n",
        "simple_regret_exact_8 = min_max_array(regret_exact_8)\n",
        "\n",
        "min_simple_regret_approx_8 = min(simple_regret_approx_8)\n",
        "min_simple_regret_exact_8 = min(simple_regret_exact_8)\n",
        "\n",
        "min_simple_regret_approx_8, min_simple_regret_exact_8"
      ]
    },
    {
      "cell_type": "code",
      "execution_count": 63,
      "metadata": {
        "id": "qt0P5t9qQxfs",
        "colab": {
          "base_uri": "https://localhost:8080/"
        },
        "outputId": "ad5061d3-00e6-467b-9ef0-3cae2629d654"
      },
      "outputs": [
        {
          "output_type": "execute_result",
          "data": {
            "text/plain": [
              "(-0.035146882699508386, -7.596468182275172)"
            ]
          },
          "metadata": {},
          "execution_count": 63
        }
      ],
      "source": [
        "### Simple regret minimization: run number = 9\n",
        "\n",
        "approx_output_9 = np.append(np.min(-approx_9.GP.y[0:n_init]),-approx_9.GP.y[n_init:(n_init+iters)]) \n",
        "exact_output_9 = np.append(np.min(-exact_9.GP.y[0:n_init]),-exact_9.GP.y[n_init:(n_init+iters)]) \n",
        "\n",
        "regret_approx_9 = np.log(approx_output_9 - y_global_orig)\n",
        "regret_exact_9 = np.log(exact_output_9 - y_global_orig)\n",
        "\n",
        "simple_regret_approx_9 = min_max_array(regret_approx_9)\n",
        "simple_regret_exact_9 = min_max_array(regret_exact_9)\n",
        "\n",
        "min_simple_regret_approx_9 = min(simple_regret_approx_9)\n",
        "min_simple_regret_exact_9 = min(simple_regret_exact_9)\n",
        "\n",
        "min_simple_regret_approx_9, min_simple_regret_exact_9"
      ]
    },
    {
      "cell_type": "code",
      "execution_count": 64,
      "metadata": {
        "id": "vx8to9stQxft",
        "colab": {
          "base_uri": "https://localhost:8080/"
        },
        "outputId": "9930e3e0-3815-4385-a3bd-ce2217b5d81e"
      },
      "outputs": [
        {
          "output_type": "execute_result",
          "data": {
            "text/plain": [
              "(0.19133528535731859, -1.684752004299394)"
            ]
          },
          "metadata": {},
          "execution_count": 64
        }
      ],
      "source": [
        "### Simple regret minimization: run number = 10\n",
        "\n",
        "approx_output_10 = np.append(np.min(-approx_10.GP.y[0:n_init]),-approx_10.GP.y[n_init:(n_init+iters)]) \n",
        "exact_output_10 = np.append(np.min(-exact_10.GP.y[0:n_init]),-exact_10.GP.y[n_init:(n_init+iters)]) \n",
        "\n",
        "regret_approx_10 = np.log(approx_output_10 - y_global_orig)\n",
        "regret_exact_10 = np.log(exact_output_10 - y_global_orig)\n",
        "\n",
        "simple_regret_approx_10 = min_max_array(regret_approx_10)\n",
        "simple_regret_exact_10 = min_max_array(regret_exact_10)\n",
        "\n",
        "min_simple_regret_approx_10 = min(simple_regret_approx_10)\n",
        "min_simple_regret_exact_10 = min(simple_regret_exact_10)\n",
        "\n",
        "min_simple_regret_approx_10, min_simple_regret_exact_10"
      ]
    },
    {
      "cell_type": "code",
      "execution_count": 65,
      "metadata": {
        "id": "d-FGzWyHQxfu",
        "colab": {
          "base_uri": "https://localhost:8080/"
        },
        "outputId": "17fa1988-2ca0-4a73-9295-e46515d418dc"
      },
      "outputs": [
        {
          "output_type": "execute_result",
          "data": {
            "text/plain": [
              "(-0.9010790823704407, -6.2554882879972595)"
            ]
          },
          "metadata": {},
          "execution_count": 65
        }
      ],
      "source": [
        "### Simple regret minimization: run number = 11\n",
        "\n",
        "approx_output_11 = np.append(np.min(-approx_11.GP.y[0:n_init]),-approx_11.GP.y[n_init:(n_init+iters)]) \n",
        "exact_output_11 = np.append(np.min(-exact_11.GP.y[0:n_init]),-exact_11.GP.y[n_init:(n_init+iters)]) \n",
        "\n",
        "regret_approx_11 = np.log(approx_output_11 - y_global_orig)\n",
        "regret_exact_11 = np.log(exact_output_11 - y_global_orig)\n",
        "\n",
        "simple_regret_approx_11 = min_max_array(regret_approx_11)\n",
        "simple_regret_exact_11 = min_max_array(regret_exact_11)\n",
        "\n",
        "min_simple_regret_approx_11 = min(simple_regret_approx_11)\n",
        "min_simple_regret_exact_11 = min(simple_regret_exact_11)\n",
        "\n",
        "min_simple_regret_approx_11, min_simple_regret_exact_11"
      ]
    },
    {
      "cell_type": "code",
      "execution_count": 66,
      "metadata": {
        "id": "SvtsssyjQxfv",
        "colab": {
          "base_uri": "https://localhost:8080/"
        },
        "outputId": "14e03f52-c270-452e-e55f-42b25b158a56"
      },
      "outputs": [
        {
          "output_type": "execute_result",
          "data": {
            "text/plain": [
              "(0.2674311519134886, 0.08909907125335324)"
            ]
          },
          "metadata": {},
          "execution_count": 66
        }
      ],
      "source": [
        "### Simple regret minimization: run number = 12\n",
        "\n",
        "approx_output_12 = np.append(np.min(-approx_12.GP.y[0:n_init]),-approx_12.GP.y[n_init:(n_init+iters)]) \n",
        "exact_output_12 = np.append(np.min(-exact_12.GP.y[0:n_init]),-exact_12.GP.y[n_init:(n_init+iters)]) \n",
        "\n",
        "regret_approx_12 = np.log(approx_output_12 - y_global_orig)\n",
        "regret_exact_12 = np.log(exact_output_12 - y_global_orig)\n",
        "\n",
        "simple_regret_approx_12 = min_max_array(regret_approx_12)\n",
        "simple_regret_exact_12 = min_max_array(regret_exact_12)\n",
        "\n",
        "min_simple_regret_approx_12 = min(simple_regret_approx_12)\n",
        "min_simple_regret_exact_12 = min(simple_regret_exact_12)\n",
        "\n",
        "min_simple_regret_approx_12, min_simple_regret_exact_12"
      ]
    },
    {
      "cell_type": "code",
      "execution_count": 67,
      "metadata": {
        "id": "K6OiGcHkQxfw",
        "colab": {
          "base_uri": "https://localhost:8080/"
        },
        "outputId": "ae77be4a-d552-444a-81b8-f4794bbea95f"
      },
      "outputs": [
        {
          "output_type": "execute_result",
          "data": {
            "text/plain": [
              "(-1.9695839199978165, 0.10831912713079446)"
            ]
          },
          "metadata": {},
          "execution_count": 67
        }
      ],
      "source": [
        "### Simple regret minimization: run number = 13\n",
        "\n",
        "approx_output_13 = np.append(np.min(-approx_13.GP.y[0:n_init]),-approx_13.GP.y[n_init:(n_init+iters)]) \n",
        "exact_output_13 = np.append(np.min(-exact_13.GP.y[0:n_init]),-exact_13.GP.y[n_init:(n_init+iters)]) \n",
        "\n",
        "regret_approx_13 = np.log(approx_output_13 - y_global_orig)\n",
        "regret_exact_13 = np.log(exact_output_13 - y_global_orig)\n",
        "\n",
        "simple_regret_approx_13 = min_max_array(regret_approx_13)\n",
        "simple_regret_exact_13 = min_max_array(regret_exact_13)\n",
        "\n",
        "min_simple_regret_approx_13 = min(simple_regret_approx_13)\n",
        "min_simple_regret_exact_13 = min(simple_regret_exact_13)\n",
        "\n",
        "min_simple_regret_approx_13, min_simple_regret_exact_13"
      ]
    },
    {
      "cell_type": "code",
      "execution_count": 68,
      "metadata": {
        "id": "ogML73shQxfx",
        "colab": {
          "base_uri": "https://localhost:8080/"
        },
        "outputId": "e85c6a97-aa5b-4a3b-b148-b7610ee91178"
      },
      "outputs": [
        {
          "output_type": "execute_result",
          "data": {
            "text/plain": [
              "(-6.074727392833108, -6.074727392833108)"
            ]
          },
          "metadata": {},
          "execution_count": 68
        }
      ],
      "source": [
        "### Simple regret minimization: run number = 14\n",
        "\n",
        "approx_output_14 = np.append(np.min(-approx_14.GP.y[0:n_init]),-approx_14.GP.y[n_init:(n_init+iters)]) \n",
        "exact_output_14 = np.append(np.min(-exact_14.GP.y[0:n_init]),-exact_14.GP.y[n_init:(n_init+iters)]) \n",
        "\n",
        "regret_approx_14 = np.log(approx_output_14 - y_global_orig)\n",
        "regret_exact_14 = np.log(exact_output_14 - y_global_orig)\n",
        "\n",
        "simple_regret_approx_14 = min_max_array(regret_approx_14)\n",
        "simple_regret_exact_14 = min_max_array(regret_exact_14)\n",
        "\n",
        "min_simple_regret_approx_14 = min(simple_regret_approx_14)\n",
        "min_simple_regret_exact_14 = min(simple_regret_exact_14)\n",
        "\n",
        "min_simple_regret_approx_14, min_simple_regret_exact_14"
      ]
    },
    {
      "cell_type": "code",
      "execution_count": 69,
      "metadata": {
        "id": "9Eg7gFT9Qxfx",
        "colab": {
          "base_uri": "https://localhost:8080/"
        },
        "outputId": "5d933397-012b-4ce3-8f5d-c47c8f8ace12"
      },
      "outputs": [
        {
          "output_type": "execute_result",
          "data": {
            "text/plain": [
              "(-0.07146987797100222, 0.034359035582095465)"
            ]
          },
          "metadata": {},
          "execution_count": 69
        }
      ],
      "source": [
        "### Simple regret minimization: run number = 15\n",
        "\n",
        "approx_output_15 = np.append(np.min(-approx_15.GP.y[0:n_init]),-approx_15.GP.y[n_init:(n_init+iters)]) \n",
        "exact_output_15 = np.append(np.min(-exact_15.GP.y[0:n_init]),-exact_15.GP.y[n_init:(n_init+iters)]) \n",
        "\n",
        "regret_approx_15 = np.log(approx_output_15 - y_global_orig)\n",
        "regret_exact_15 = np.log(exact_output_15 - y_global_orig)\n",
        "\n",
        "simple_regret_approx_15 = min_max_array(regret_approx_15)\n",
        "simple_regret_exact_15 = min_max_array(regret_exact_15)\n",
        "\n",
        "min_simple_regret_approx_15 = min(simple_regret_approx_15)\n",
        "min_simple_regret_exact_15 = min(simple_regret_exact_15)\n",
        "\n",
        "min_simple_regret_approx_15, min_simple_regret_exact_15"
      ]
    },
    {
      "cell_type": "code",
      "execution_count": 70,
      "metadata": {
        "id": "lIAC1U7ZQxfy",
        "colab": {
          "base_uri": "https://localhost:8080/"
        },
        "outputId": "e203af7a-d05c-4163-c067-ebd5d6d88775"
      },
      "outputs": [
        {
          "output_type": "execute_result",
          "data": {
            "text/plain": [
              "(1.0629427521383006, 0.01598090842739235)"
            ]
          },
          "metadata": {},
          "execution_count": 70
        }
      ],
      "source": [
        "### Simple regret minimization: run number = 16\n",
        "\n",
        "approx_output_16 = np.append(np.min(-approx_16.GP.y[0:n_init]),-approx_16.GP.y[n_init:(n_init+iters)]) \n",
        "exact_output_16 = np.append(np.min(-exact_16.GP.y[0:n_init]),-exact_16.GP.y[n_init:(n_init+iters)]) \n",
        "\n",
        "regret_approx_16 = np.log(approx_output_16 - y_global_orig)\n",
        "regret_exact_16 = np.log(exact_output_16 - y_global_orig)\n",
        "\n",
        "simple_regret_approx_16 = min_max_array(regret_approx_16)\n",
        "simple_regret_exact_16 = min_max_array(regret_exact_16)\n",
        "\n",
        "min_simple_regret_approx_16 = min(simple_regret_approx_16)\n",
        "min_simple_regret_exact_16 = min(simple_regret_exact_16)\n",
        "\n",
        "min_simple_regret_approx_16, min_simple_regret_exact_16"
      ]
    },
    {
      "cell_type": "code",
      "execution_count": 71,
      "metadata": {
        "id": "bGott36OQxfz",
        "colab": {
          "base_uri": "https://localhost:8080/"
        },
        "outputId": "c8344e87-2c7f-46ea-9ed6-bd5621d04bec"
      },
      "outputs": [
        {
          "output_type": "execute_result",
          "data": {
            "text/plain": [
              "(-0.08635568888648985, -3.343621413005407)"
            ]
          },
          "metadata": {},
          "execution_count": 71
        }
      ],
      "source": [
        "### Simple regret minimization: run number = 17\n",
        "\n",
        "approx_output_17 = np.append(np.min(-approx_17.GP.y[0:n_init]),-approx_17.GP.y[n_init:(n_init+iters)]) \n",
        "exact_output_17 = np.append(np.min(-exact_17.GP.y[0:n_init]),-exact_17.GP.y[n_init:(n_init+iters)]) \n",
        "\n",
        "regret_approx_17 = np.log(approx_output_17 - y_global_orig)\n",
        "regret_exact_17 = np.log(exact_output_17 - y_global_orig)\n",
        "\n",
        "simple_regret_approx_17 = min_max_array(regret_approx_17)\n",
        "simple_regret_exact_17 = min_max_array(regret_exact_17)\n",
        "\n",
        "min_simple_regret_approx_17 = min(simple_regret_approx_17)\n",
        "min_simple_regret_exact_17 = min(simple_regret_exact_17)\n",
        "\n",
        "min_simple_regret_approx_17, min_simple_regret_exact_17"
      ]
    },
    {
      "cell_type": "code",
      "execution_count": 72,
      "metadata": {
        "id": "Cz9ZYMBMQxfz",
        "colab": {
          "base_uri": "https://localhost:8080/"
        },
        "outputId": "74fc5ee3-5b2d-4748-fd6b-dbbbf2330c39"
      },
      "outputs": [
        {
          "output_type": "execute_result",
          "data": {
            "text/plain": [
              "(-0.24114774090122626, -0.23680264687816313)"
            ]
          },
          "metadata": {},
          "execution_count": 72
        }
      ],
      "source": [
        "### Simple regret minimization: run number = 18\n",
        "\n",
        "approx_output_18 = np.append(np.min(-approx_18.GP.y[0:n_init]),-approx_18.GP.y[n_init:(n_init+iters)]) \n",
        "exact_output_18 = np.append(np.min(-exact_18.GP.y[0:n_init]),-exact_18.GP.y[n_init:(n_init+iters)]) \n",
        "\n",
        "regret_approx_18 = np.log(approx_output_18 - y_global_orig)\n",
        "regret_exact_18 = np.log(exact_output_18 - y_global_orig)\n",
        "\n",
        "simple_regret_approx_18 = min_max_array(regret_approx_18)\n",
        "simple_regret_exact_18 = min_max_array(regret_exact_18)\n",
        "\n",
        "min_simple_regret_approx_18 = min(simple_regret_approx_18)\n",
        "min_simple_regret_exact_18 = min(simple_regret_exact_18)\n",
        "\n",
        "min_simple_regret_approx_18, min_simple_regret_exact_18"
      ]
    },
    {
      "cell_type": "code",
      "execution_count": 73,
      "metadata": {
        "id": "OBfpWOHNQxf0",
        "colab": {
          "base_uri": "https://localhost:8080/"
        },
        "outputId": "1080de9c-a045-4587-8105-755d55e2826a"
      },
      "outputs": [
        {
          "output_type": "execute_result",
          "data": {
            "text/plain": [
              "(0.016433185727690144, -0.10391314649316083)"
            ]
          },
          "metadata": {},
          "execution_count": 73
        }
      ],
      "source": [
        "### Simple regret minimization: run number = 19\n",
        "\n",
        "approx_output_19 = np.append(np.min(-approx_19.GP.y[0:n_init]),-approx_19.GP.y[n_init:(n_init+iters)]) \n",
        "exact_output_19 = np.append(np.min(-exact_19.GP.y[0:n_init]),-exact_19.GP.y[n_init:(n_init+iters)]) \n",
        "\n",
        "regret_approx_19 = np.log(approx_output_19 - y_global_orig)\n",
        "regret_exact_19 = np.log(exact_output_19 - y_global_orig)\n",
        "\n",
        "simple_regret_approx_19 = min_max_array(regret_approx_19)\n",
        "simple_regret_exact_19 = min_max_array(regret_exact_19)\n",
        "\n",
        "min_simple_regret_approx_19 = min(simple_regret_approx_19)\n",
        "min_simple_regret_exact_19 = min(simple_regret_exact_19)\n",
        "\n",
        "min_simple_regret_approx_19, min_simple_regret_exact_19"
      ]
    },
    {
      "cell_type": "code",
      "execution_count": 74,
      "metadata": {
        "id": "BE1AJ7NsQxf0",
        "colab": {
          "base_uri": "https://localhost:8080/"
        },
        "outputId": "c05bb8f0-ca53-48ae-aa07-1cb814b8b366"
      },
      "outputs": [
        {
          "output_type": "execute_result",
          "data": {
            "text/plain": [
              "(0.21160819546145163, -0.17127330557444745)"
            ]
          },
          "metadata": {},
          "execution_count": 74
        }
      ],
      "source": [
        "### Simple regret minimization: run number = 20\n",
        "\n",
        "approx_output_20 = np.append(np.min(-approx_20.GP.y[0:n_init]),-approx_20.GP.y[n_init:(n_init+iters)]) \n",
        "exact_output_20 = np.append(np.min(-exact_20.GP.y[0:n_init]),-exact_20.GP.y[n_init:(n_init+iters)]) \n",
        "\n",
        "regret_approx_20 = np.log(approx_output_20 - y_global_orig)\n",
        "regret_exact_20 = np.log(exact_output_20 - y_global_orig)\n",
        "\n",
        "simple_regret_approx_20 = min_max_array(regret_approx_20)\n",
        "simple_regret_exact_20 = min_max_array(regret_exact_20)\n",
        "\n",
        "min_simple_regret_approx_20 = min(simple_regret_approx_20)\n",
        "min_simple_regret_exact_20 = min(simple_regret_exact_20)\n",
        "\n",
        "min_simple_regret_approx_20, min_simple_regret_exact_20"
      ]
    },
    {
      "cell_type": "code",
      "execution_count": 75,
      "metadata": {
        "id": "bpX-bKAHQxf1"
      },
      "outputs": [],
      "source": [
        "# Iteration1 :\n",
        "\n",
        "slice1 = 0\n",
        "\n",
        "approx1 = [simple_regret_approx_1[slice1],\n",
        "       simple_regret_approx_2[slice1],\n",
        "       simple_regret_approx_3[slice1],\n",
        "       simple_regret_approx_4[slice1],\n",
        "       simple_regret_approx_5[slice1],\n",
        "       simple_regret_approx_6[slice1],\n",
        "       simple_regret_approx_7[slice1],\n",
        "       simple_regret_approx_8[slice1],\n",
        "       simple_regret_approx_9[slice1],\n",
        "       simple_regret_approx_10[slice1],\n",
        "       simple_regret_approx_11[slice1],\n",
        "       simple_regret_approx_12[slice1],\n",
        "       simple_regret_approx_13[slice1],\n",
        "       simple_regret_approx_14[slice1],\n",
        "       simple_regret_approx_15[slice1],\n",
        "       simple_regret_approx_16[slice1],\n",
        "       simple_regret_approx_17[slice1],\n",
        "       simple_regret_approx_18[slice1],\n",
        "       simple_regret_approx_19[slice1],\n",
        "       simple_regret_approx_20[slice1]]\n",
        "\n",
        "exact1 = [simple_regret_exact_1[slice1],\n",
        "       simple_regret_exact_2[slice1],\n",
        "       simple_regret_exact_3[slice1],\n",
        "       simple_regret_exact_4[slice1],\n",
        "       simple_regret_exact_5[slice1],\n",
        "       simple_regret_exact_6[slice1],\n",
        "       simple_regret_exact_7[slice1],\n",
        "       simple_regret_exact_8[slice1],\n",
        "       simple_regret_exact_9[slice1],\n",
        "       simple_regret_exact_10[slice1],\n",
        "       simple_regret_exact_11[slice1],\n",
        "       simple_regret_exact_12[slice1],\n",
        "       simple_regret_exact_13[slice1],\n",
        "       simple_regret_exact_14[slice1],\n",
        "       simple_regret_exact_15[slice1],\n",
        "       simple_regret_exact_16[slice1],\n",
        "       simple_regret_exact_17[slice1],\n",
        "       simple_regret_exact_18[slice1],\n",
        "       simple_regret_exact_19[slice1],\n",
        "       simple_regret_exact_20[slice1]]\n",
        "\n",
        "approx1_results = pd.DataFrame(approx1).sort_values(by=[0], ascending=False)\n",
        "exact1_results = pd.DataFrame(exact1).sort_values(by=[0], ascending=False)\n",
        "\n",
        "### Best simple regret minimization IQR - approx:\n",
        "lower_approx1 = np.asarray(approx1_results[4:5][0])[0]\n",
        "median_approx1 = np.asarray(approx1_results[9:10][0])[0]\n",
        "upper_approx1 = np.asarray(approx1_results[14:15][0])[0]\n",
        "\n",
        "lower_exact1 = np.asarray(exact1_results[4:5][0])[0]\n",
        "median_exact1 = np.asarray(exact1_results[9:10][0])[0]\n",
        "upper_exact1 = np.asarray(exact1_results[14:15][0])[0]"
      ]
    },
    {
      "cell_type": "code",
      "execution_count": 76,
      "metadata": {
        "id": "CgIkJA1xQxf2"
      },
      "outputs": [],
      "source": [
        "# Iteration11 :\n",
        "\n",
        "slice11 = 10\n",
        "\n",
        "approx11 = [simple_regret_approx_1[slice11],\n",
        "       simple_regret_approx_2[slice11],\n",
        "       simple_regret_approx_3[slice11],\n",
        "       simple_regret_approx_4[slice11],\n",
        "       simple_regret_approx_5[slice11],\n",
        "       simple_regret_approx_6[slice11],\n",
        "       simple_regret_approx_7[slice11],\n",
        "       simple_regret_approx_8[slice11],\n",
        "       simple_regret_approx_9[slice11],\n",
        "       simple_regret_approx_10[slice11],\n",
        "       simple_regret_approx_11[slice11],\n",
        "       simple_regret_approx_12[slice11],\n",
        "       simple_regret_approx_13[slice11],\n",
        "       simple_regret_approx_14[slice11],\n",
        "       simple_regret_approx_15[slice11],\n",
        "       simple_regret_approx_16[slice11],\n",
        "       simple_regret_approx_17[slice11],\n",
        "       simple_regret_approx_18[slice11],\n",
        "       simple_regret_approx_19[slice11],\n",
        "       simple_regret_approx_20[slice11]]\n",
        "\n",
        "exact11 = [simple_regret_exact_1[slice11],\n",
        "       simple_regret_exact_2[slice11],\n",
        "       simple_regret_exact_3[slice11],\n",
        "       simple_regret_exact_4[slice11],\n",
        "       simple_regret_exact_5[slice11],\n",
        "       simple_regret_exact_6[slice11],\n",
        "       simple_regret_exact_7[slice11],\n",
        "       simple_regret_exact_8[slice11],\n",
        "       simple_regret_exact_9[slice11],\n",
        "       simple_regret_exact_10[slice11],\n",
        "       simple_regret_exact_11[slice11],\n",
        "       simple_regret_exact_12[slice11],\n",
        "       simple_regret_exact_13[slice11],\n",
        "       simple_regret_exact_14[slice11],\n",
        "       simple_regret_exact_15[slice11],\n",
        "       simple_regret_exact_16[slice11],\n",
        "       simple_regret_exact_17[slice11],\n",
        "       simple_regret_exact_18[slice11],\n",
        "       simple_regret_exact_19[slice11],\n",
        "       simple_regret_exact_20[slice11]]\n",
        "\n",
        "approx11_results = pd.DataFrame(approx11).sort_values(by=[0], ascending=False)\n",
        "exact11_results = pd.DataFrame(exact11).sort_values(by=[0], ascending=False)\n",
        "\n",
        "### Best simple regret minimization IQR - approx:\n",
        "lower_approx11 = np.asarray(approx11_results[4:5][0])[0]\n",
        "median_approx11 = np.asarray(approx11_results[9:10][0])[0]\n",
        "upper_approx11 = np.asarray(approx11_results[14:15][0])[0]\n",
        "\n",
        "lower_exact11 = np.asarray(exact11_results[4:5][0])[0]\n",
        "median_exact11 = np.asarray(exact11_results[9:10][0])[0]\n",
        "upper_exact11 = np.asarray(exact11_results[14:15][0])[0]"
      ]
    },
    {
      "cell_type": "code",
      "execution_count": 77,
      "metadata": {
        "id": "MFePDfGuQxf2"
      },
      "outputs": [],
      "source": [
        "# Iteration21 :\n",
        "\n",
        "slice21 = 20\n",
        "\n",
        "approx21 = [simple_regret_approx_1[slice21],\n",
        "       simple_regret_approx_2[slice21],\n",
        "       simple_regret_approx_3[slice21],\n",
        "       simple_regret_approx_4[slice21],\n",
        "       simple_regret_approx_5[slice21],\n",
        "       simple_regret_approx_6[slice21],\n",
        "       simple_regret_approx_7[slice21],\n",
        "       simple_regret_approx_8[slice21],\n",
        "       simple_regret_approx_9[slice21],\n",
        "       simple_regret_approx_10[slice21],\n",
        "       simple_regret_approx_11[slice21],\n",
        "       simple_regret_approx_12[slice21],\n",
        "       simple_regret_approx_13[slice21],\n",
        "       simple_regret_approx_14[slice21],\n",
        "       simple_regret_approx_15[slice21],\n",
        "       simple_regret_approx_16[slice21],\n",
        "       simple_regret_approx_17[slice21],\n",
        "       simple_regret_approx_18[slice21],\n",
        "       simple_regret_approx_19[slice21],\n",
        "       simple_regret_approx_20[slice21]]\n",
        "\n",
        "exact21 = [simple_regret_exact_1[slice21],\n",
        "       simple_regret_exact_2[slice21],\n",
        "       simple_regret_exact_3[slice21],\n",
        "       simple_regret_exact_4[slice21],\n",
        "       simple_regret_exact_5[slice21],\n",
        "       simple_regret_exact_6[slice21],\n",
        "       simple_regret_exact_7[slice21],\n",
        "       simple_regret_exact_8[slice21],\n",
        "       simple_regret_exact_9[slice21],\n",
        "       simple_regret_exact_10[slice21],\n",
        "       simple_regret_exact_11[slice21],\n",
        "       simple_regret_exact_12[slice21],\n",
        "       simple_regret_exact_13[slice21],\n",
        "       simple_regret_exact_14[slice21],\n",
        "       simple_regret_exact_15[slice21],\n",
        "       simple_regret_exact_16[slice21],\n",
        "       simple_regret_exact_17[slice21],\n",
        "       simple_regret_exact_18[slice21],\n",
        "       simple_regret_exact_19[slice21],\n",
        "       simple_regret_exact_20[slice21]]\n",
        "\n",
        "approx21_results = pd.DataFrame(approx21).sort_values(by=[0], ascending=False)\n",
        "exact21_results = pd.DataFrame(exact21).sort_values(by=[0], ascending=False)\n",
        "\n",
        "### Best simple regret minimization IQR - approx:\n",
        "lower_approx21 = np.asarray(approx21_results[4:5][0])[0]\n",
        "median_approx21 = np.asarray(approx21_results[9:10][0])[0]\n",
        "upper_approx21 = np.asarray(approx21_results[14:15][0])[0]\n",
        "\n",
        "lower_exact21 = np.asarray(exact21_results[4:5][0])[0]\n",
        "median_exact21 = np.asarray(exact21_results[9:10][0])[0]\n",
        "upper_exact21 = np.asarray(exact21_results[14:15][0])[0]"
      ]
    },
    {
      "cell_type": "code",
      "execution_count": 78,
      "metadata": {
        "id": "PrRDB1kfQxf3"
      },
      "outputs": [],
      "source": [
        "# Iteration2 :\n",
        "\n",
        "slice2 = 1\n",
        "\n",
        "approx2 = [simple_regret_approx_1[slice2],\n",
        "       simple_regret_approx_2[slice2],\n",
        "       simple_regret_approx_3[slice2],\n",
        "       simple_regret_approx_4[slice2],\n",
        "       simple_regret_approx_5[slice2],\n",
        "       simple_regret_approx_6[slice2],\n",
        "       simple_regret_approx_7[slice2],\n",
        "       simple_regret_approx_8[slice2],\n",
        "       simple_regret_approx_9[slice2],\n",
        "       simple_regret_approx_10[slice2],\n",
        "       simple_regret_approx_11[slice2],\n",
        "       simple_regret_approx_12[slice2],\n",
        "       simple_regret_approx_13[slice2],\n",
        "       simple_regret_approx_14[slice2],\n",
        "       simple_regret_approx_15[slice2],\n",
        "       simple_regret_approx_16[slice2],\n",
        "       simple_regret_approx_17[slice2],\n",
        "       simple_regret_approx_18[slice2],\n",
        "       simple_regret_approx_19[slice2],\n",
        "       simple_regret_approx_20[slice2]]\n",
        "\n",
        "exact2 = [simple_regret_exact_1[slice2],\n",
        "       simple_regret_exact_2[slice2],\n",
        "       simple_regret_exact_3[slice2],\n",
        "       simple_regret_exact_4[slice2],\n",
        "       simple_regret_exact_5[slice2],\n",
        "       simple_regret_exact_6[slice2],\n",
        "       simple_regret_exact_7[slice2],\n",
        "       simple_regret_exact_8[slice2],\n",
        "       simple_regret_exact_9[slice2],\n",
        "       simple_regret_exact_10[slice2],\n",
        "       simple_regret_exact_11[slice2],\n",
        "       simple_regret_exact_12[slice2],\n",
        "       simple_regret_exact_13[slice2],\n",
        "       simple_regret_exact_14[slice2],\n",
        "       simple_regret_exact_15[slice2],\n",
        "       simple_regret_exact_16[slice2],\n",
        "       simple_regret_exact_17[slice2],\n",
        "       simple_regret_exact_18[slice2],\n",
        "       simple_regret_exact_19[slice2],\n",
        "       simple_regret_exact_20[slice2]]\n",
        "\n",
        "approx2_results = pd.DataFrame(approx2).sort_values(by=[0], ascending=False)\n",
        "exact2_results = pd.DataFrame(exact2).sort_values(by=[0], ascending=False)\n",
        "\n",
        "### Best simple regret minimization IQR - approx:\n",
        "lower_approx2 = np.asarray(approx2_results[4:5][0])[0]\n",
        "median_approx2 = np.asarray(approx2_results[9:10][0])[0]\n",
        "upper_approx2 = np.asarray(approx2_results[14:15][0])[0]\n",
        "\n",
        "lower_exact2 = np.asarray(exact2_results[4:5][0])[0]\n",
        "median_exact2 = np.asarray(exact2_results[9:10][0])[0]\n",
        "upper_exact2 = np.asarray(exact2_results[14:15][0])[0]"
      ]
    },
    {
      "cell_type": "code",
      "execution_count": 79,
      "metadata": {
        "id": "B8ncJDYeQxf3"
      },
      "outputs": [],
      "source": [
        "# Iteration12 :\n",
        "\n",
        "slice12 = 11\n",
        "\n",
        "approx12 = [simple_regret_approx_1[slice12],\n",
        "       simple_regret_approx_2[slice12],\n",
        "       simple_regret_approx_3[slice12],\n",
        "       simple_regret_approx_4[slice12],\n",
        "       simple_regret_approx_5[slice12],\n",
        "       simple_regret_approx_6[slice12],\n",
        "       simple_regret_approx_7[slice12],\n",
        "       simple_regret_approx_8[slice12],\n",
        "       simple_regret_approx_9[slice12],\n",
        "       simple_regret_approx_10[slice12],\n",
        "       simple_regret_approx_11[slice12],\n",
        "       simple_regret_approx_12[slice12],\n",
        "       simple_regret_approx_13[slice12],\n",
        "       simple_regret_approx_14[slice12],\n",
        "       simple_regret_approx_15[slice12],\n",
        "       simple_regret_approx_16[slice12],\n",
        "       simple_regret_approx_17[slice12],\n",
        "       simple_regret_approx_18[slice12],\n",
        "       simple_regret_approx_19[slice12],\n",
        "       simple_regret_approx_20[slice12]]\n",
        "\n",
        "exact12 = [simple_regret_exact_1[slice12],\n",
        "       simple_regret_exact_2[slice12],\n",
        "       simple_regret_exact_3[slice12],\n",
        "       simple_regret_exact_4[slice12],\n",
        "       simple_regret_exact_5[slice12],\n",
        "       simple_regret_exact_6[slice12],\n",
        "       simple_regret_exact_7[slice12],\n",
        "       simple_regret_exact_8[slice12],\n",
        "       simple_regret_exact_9[slice12],\n",
        "       simple_regret_exact_10[slice12],\n",
        "       simple_regret_exact_11[slice12],\n",
        "       simple_regret_exact_12[slice12],\n",
        "       simple_regret_exact_13[slice12],\n",
        "       simple_regret_exact_14[slice12],\n",
        "       simple_regret_exact_15[slice12],\n",
        "       simple_regret_exact_16[slice12],\n",
        "       simple_regret_exact_17[slice12],\n",
        "       simple_regret_exact_18[slice12],\n",
        "       simple_regret_exact_19[slice12],\n",
        "       simple_regret_exact_20[slice12]]\n",
        "\n",
        "approx12_results = pd.DataFrame(approx12).sort_values(by=[0], ascending=False)\n",
        "exact12_results = pd.DataFrame(exact12).sort_values(by=[0], ascending=False)\n",
        "\n",
        "### Best simple regret minimization IQR - approx:\n",
        "lower_approx12 = np.asarray(approx12_results[4:5][0])[0]\n",
        "median_approx12 = np.asarray(approx12_results[9:10][0])[0]\n",
        "upper_approx12 = np.asarray(approx12_results[14:15][0])[0]\n",
        "\n",
        "lower_exact12 = np.asarray(exact12_results[4:5][0])[0]\n",
        "median_exact12 = np.asarray(exact12_results[9:10][0])[0]\n",
        "upper_exact12 = np.asarray(exact12_results[14:15][0])[0]"
      ]
    },
    {
      "cell_type": "code",
      "execution_count": 80,
      "metadata": {
        "id": "Jn4KpGvcQxf4"
      },
      "outputs": [],
      "source": [
        "# Iteration3 :\n",
        "\n",
        "slice3 = 2\n",
        "\n",
        "approx3 = [simple_regret_approx_1[slice3],\n",
        "       simple_regret_approx_2[slice3],\n",
        "       simple_regret_approx_3[slice3],\n",
        "       simple_regret_approx_4[slice3],\n",
        "       simple_regret_approx_5[slice3],\n",
        "       simple_regret_approx_6[slice3],\n",
        "       simple_regret_approx_7[slice3],\n",
        "       simple_regret_approx_8[slice3],\n",
        "       simple_regret_approx_9[slice3],\n",
        "       simple_regret_approx_10[slice3],\n",
        "       simple_regret_approx_11[slice3],\n",
        "       simple_regret_approx_12[slice3],\n",
        "       simple_regret_approx_13[slice3],\n",
        "       simple_regret_approx_14[slice3],\n",
        "       simple_regret_approx_15[slice3],\n",
        "       simple_regret_approx_16[slice3],\n",
        "       simple_regret_approx_17[slice3],\n",
        "       simple_regret_approx_18[slice3],\n",
        "       simple_regret_approx_19[slice3],\n",
        "       simple_regret_approx_20[slice3]]\n",
        "\n",
        "exact3 = [simple_regret_exact_1[slice3],\n",
        "       simple_regret_exact_2[slice3],\n",
        "       simple_regret_exact_3[slice3],\n",
        "       simple_regret_exact_4[slice3],\n",
        "       simple_regret_exact_5[slice3],\n",
        "       simple_regret_exact_6[slice3],\n",
        "       simple_regret_exact_7[slice3],\n",
        "       simple_regret_exact_8[slice3],\n",
        "       simple_regret_exact_9[slice3],\n",
        "       simple_regret_exact_10[slice3],\n",
        "       simple_regret_exact_11[slice3],\n",
        "       simple_regret_exact_12[slice3],\n",
        "       simple_regret_exact_13[slice3],\n",
        "       simple_regret_exact_14[slice3],\n",
        "       simple_regret_exact_15[slice3],\n",
        "       simple_regret_exact_16[slice3],\n",
        "       simple_regret_exact_17[slice3],\n",
        "       simple_regret_exact_18[slice3],\n",
        "       simple_regret_exact_19[slice3],\n",
        "       simple_regret_exact_20[slice3]]\n",
        "\n",
        "approx3_results = pd.DataFrame(approx3).sort_values(by=[0], ascending=False)\n",
        "exact3_results = pd.DataFrame(exact3).sort_values(by=[0], ascending=False)\n",
        "\n",
        "### Best simple regret minimization IQR - approx:\n",
        "lower_approx3 = np.asarray(approx3_results[4:5][0])[0]\n",
        "median_approx3 = np.asarray(approx3_results[9:10][0])[0]\n",
        "upper_approx3 = np.asarray(approx3_results[14:15][0])[0]\n",
        "\n",
        "lower_exact3 = np.asarray(exact3_results[4:5][0])[0]\n",
        "median_exact3 = np.asarray(exact3_results[9:10][0])[0]\n",
        "upper_exact3 = np.asarray(exact3_results[14:15][0])[0]"
      ]
    },
    {
      "cell_type": "code",
      "execution_count": 81,
      "metadata": {
        "id": "plf83wxrQxf4"
      },
      "outputs": [],
      "source": [
        "# Iteration13 :\n",
        "\n",
        "slice13 = 12\n",
        "\n",
        "approx13 = [simple_regret_approx_1[slice13],\n",
        "       simple_regret_approx_2[slice13],\n",
        "       simple_regret_approx_3[slice13],\n",
        "       simple_regret_approx_4[slice13],\n",
        "       simple_regret_approx_5[slice13],\n",
        "       simple_regret_approx_6[slice13],\n",
        "       simple_regret_approx_7[slice13],\n",
        "       simple_regret_approx_8[slice13],\n",
        "       simple_regret_approx_9[slice13],\n",
        "       simple_regret_approx_10[slice13],\n",
        "       simple_regret_approx_11[slice13],\n",
        "       simple_regret_approx_12[slice13],\n",
        "       simple_regret_approx_13[slice13],\n",
        "       simple_regret_approx_14[slice13],\n",
        "       simple_regret_approx_15[slice13],\n",
        "       simple_regret_approx_16[slice13],\n",
        "       simple_regret_approx_17[slice13],\n",
        "       simple_regret_approx_18[slice13],\n",
        "       simple_regret_approx_19[slice13],\n",
        "       simple_regret_approx_20[slice13]]\n",
        "\n",
        "exact13 = [simple_regret_exact_1[slice13],\n",
        "       simple_regret_exact_2[slice13],\n",
        "       simple_regret_exact_3[slice13],\n",
        "       simple_regret_exact_4[slice13],\n",
        "       simple_regret_exact_5[slice13],\n",
        "       simple_regret_exact_6[slice13],\n",
        "       simple_regret_exact_7[slice13],\n",
        "       simple_regret_exact_8[slice13],\n",
        "       simple_regret_exact_9[slice13],\n",
        "       simple_regret_exact_10[slice13],\n",
        "       simple_regret_exact_11[slice13],\n",
        "       simple_regret_exact_12[slice13],\n",
        "       simple_regret_exact_13[slice13],\n",
        "       simple_regret_exact_14[slice13],\n",
        "       simple_regret_exact_15[slice13],\n",
        "       simple_regret_exact_16[slice13],\n",
        "       simple_regret_exact_17[slice13],\n",
        "       simple_regret_exact_18[slice13],\n",
        "       simple_regret_exact_19[slice13],\n",
        "       simple_regret_exact_20[slice13]]\n",
        "\n",
        "approx13_results = pd.DataFrame(approx13).sort_values(by=[0], ascending=False)\n",
        "exact13_results = pd.DataFrame(exact13).sort_values(by=[0], ascending=False)\n",
        "\n",
        "### Best simple regret minimization IQR - approx:\n",
        "lower_approx13 = np.asarray(approx13_results[4:5][0])[0]\n",
        "median_approx13 = np.asarray(approx13_results[9:10][0])[0]\n",
        "upper_approx13 = np.asarray(approx13_results[14:15][0])[0]\n",
        "\n",
        "lower_exact13 = np.asarray(exact13_results[4:5][0])[0]\n",
        "median_exact13 = np.asarray(exact13_results[9:10][0])[0]\n",
        "upper_exact13 = np.asarray(exact13_results[14:15][0])[0]"
      ]
    },
    {
      "cell_type": "code",
      "execution_count": 82,
      "metadata": {
        "id": "9A7mlVvJQxf5"
      },
      "outputs": [],
      "source": [
        "# Iteration4 :\n",
        "\n",
        "slice4 = 3\n",
        "\n",
        "approx4 = [simple_regret_approx_1[slice4],\n",
        "       simple_regret_approx_2[slice4],\n",
        "       simple_regret_approx_3[slice4],\n",
        "       simple_regret_approx_4[slice4],\n",
        "       simple_regret_approx_5[slice4],\n",
        "       simple_regret_approx_6[slice4],\n",
        "       simple_regret_approx_7[slice4],\n",
        "       simple_regret_approx_8[slice4],\n",
        "       simple_regret_approx_9[slice4],\n",
        "       simple_regret_approx_10[slice4],\n",
        "       simple_regret_approx_11[slice4],\n",
        "       simple_regret_approx_12[slice4],\n",
        "       simple_regret_approx_13[slice4],\n",
        "       simple_regret_approx_14[slice4],\n",
        "       simple_regret_approx_15[slice4],\n",
        "       simple_regret_approx_16[slice4],\n",
        "       simple_regret_approx_17[slice4],\n",
        "       simple_regret_approx_18[slice4],\n",
        "       simple_regret_approx_19[slice4],\n",
        "       simple_regret_approx_20[slice4]]\n",
        "\n",
        "exact4 = [simple_regret_exact_1[slice4],\n",
        "       simple_regret_exact_2[slice4],\n",
        "       simple_regret_exact_3[slice4],\n",
        "       simple_regret_exact_4[slice4],\n",
        "       simple_regret_exact_5[slice4],\n",
        "       simple_regret_exact_6[slice4],\n",
        "       simple_regret_exact_7[slice4],\n",
        "       simple_regret_exact_8[slice4],\n",
        "       simple_regret_exact_9[slice4],\n",
        "       simple_regret_exact_10[slice4],\n",
        "       simple_regret_exact_11[slice4],\n",
        "       simple_regret_exact_12[slice4],\n",
        "       simple_regret_exact_13[slice4],\n",
        "       simple_regret_exact_14[slice4],\n",
        "       simple_regret_exact_15[slice4],\n",
        "       simple_regret_exact_16[slice4],\n",
        "       simple_regret_exact_17[slice4],\n",
        "       simple_regret_exact_18[slice4],\n",
        "       simple_regret_exact_19[slice4],\n",
        "       simple_regret_exact_20[slice4]]\n",
        "\n",
        "approx4_results = pd.DataFrame(approx4).sort_values(by=[0], ascending=False)\n",
        "exact4_results = pd.DataFrame(exact4).sort_values(by=[0], ascending=False)\n",
        "\n",
        "### Best simple regret minimization IQR - approx:\n",
        "lower_approx4 = np.asarray(approx4_results[4:5][0])[0]\n",
        "median_approx4 = np.asarray(approx4_results[9:10][0])[0]\n",
        "upper_approx4 = np.asarray(approx4_results[14:15][0])[0]\n",
        "\n",
        "lower_exact4 = np.asarray(exact4_results[4:5][0])[0]\n",
        "median_exact4 = np.asarray(exact4_results[9:10][0])[0]\n",
        "upper_exact4 = np.asarray(exact4_results[14:15][0])[0]"
      ]
    },
    {
      "cell_type": "code",
      "execution_count": 83,
      "metadata": {
        "id": "ijq-rioYQxf5"
      },
      "outputs": [],
      "source": [
        "# Iteration14 :\n",
        "\n",
        "slice14 = 13\n",
        "\n",
        "approx14 = [simple_regret_approx_1[slice14],\n",
        "       simple_regret_approx_2[slice14],\n",
        "       simple_regret_approx_3[slice14],\n",
        "       simple_regret_approx_4[slice14],\n",
        "       simple_regret_approx_5[slice14],\n",
        "       simple_regret_approx_6[slice14],\n",
        "       simple_regret_approx_7[slice14],\n",
        "       simple_regret_approx_8[slice14],\n",
        "       simple_regret_approx_9[slice14],\n",
        "       simple_regret_approx_10[slice14],\n",
        "       simple_regret_approx_11[slice14],\n",
        "       simple_regret_approx_12[slice14],\n",
        "       simple_regret_approx_13[slice14],\n",
        "       simple_regret_approx_14[slice14],\n",
        "       simple_regret_approx_15[slice14],\n",
        "       simple_regret_approx_16[slice14],\n",
        "       simple_regret_approx_17[slice14],\n",
        "       simple_regret_approx_18[slice14],\n",
        "       simple_regret_approx_19[slice14],\n",
        "       simple_regret_approx_20[slice14]]\n",
        "\n",
        "exact14 = [simple_regret_exact_1[slice14],\n",
        "       simple_regret_exact_2[slice14],\n",
        "       simple_regret_exact_3[slice14],\n",
        "       simple_regret_exact_4[slice14],\n",
        "       simple_regret_exact_5[slice14],\n",
        "       simple_regret_exact_6[slice14],\n",
        "       simple_regret_exact_7[slice14],\n",
        "       simple_regret_exact_8[slice14],\n",
        "       simple_regret_exact_9[slice14],\n",
        "       simple_regret_exact_10[slice14],\n",
        "       simple_regret_exact_11[slice14],\n",
        "       simple_regret_exact_12[slice14],\n",
        "       simple_regret_exact_13[slice14],\n",
        "       simple_regret_exact_14[slice14],\n",
        "       simple_regret_exact_15[slice14],\n",
        "       simple_regret_exact_16[slice14],\n",
        "       simple_regret_exact_17[slice14],\n",
        "       simple_regret_exact_18[slice14],\n",
        "       simple_regret_exact_19[slice14],\n",
        "       simple_regret_exact_20[slice14]]\n",
        "\n",
        "approx14_results = pd.DataFrame(approx14).sort_values(by=[0], ascending=False)\n",
        "exact14_results = pd.DataFrame(exact14).sort_values(by=[0], ascending=False)\n",
        "\n",
        "### Best simple regret minimization IQR - approx:\n",
        "lower_approx14 = np.asarray(approx14_results[4:5][0])[0]\n",
        "median_approx14 = np.asarray(approx14_results[9:10][0])[0]\n",
        "upper_approx14 = np.asarray(approx14_results[14:15][0])[0]\n",
        "\n",
        "lower_exact14 = np.asarray(exact14_results[4:5][0])[0]\n",
        "median_exact14 = np.asarray(exact14_results[9:10][0])[0]\n",
        "upper_exact14 = np.asarray(exact14_results[14:15][0])[0]"
      ]
    },
    {
      "cell_type": "code",
      "execution_count": 84,
      "metadata": {
        "id": "XINlZjoTd-ZK"
      },
      "outputs": [],
      "source": [
        "# Iteration5 :\n",
        "\n",
        "slice5 = 4\n",
        "\n",
        "approx5 = [simple_regret_approx_1[slice5],\n",
        "       simple_regret_approx_2[slice5],\n",
        "       simple_regret_approx_3[slice5],\n",
        "       simple_regret_approx_4[slice5],\n",
        "       simple_regret_approx_5[slice5],\n",
        "       simple_regret_approx_6[slice5],\n",
        "       simple_regret_approx_7[slice5],\n",
        "       simple_regret_approx_8[slice5],\n",
        "       simple_regret_approx_9[slice5],\n",
        "       simple_regret_approx_10[slice5],\n",
        "       simple_regret_approx_11[slice5],\n",
        "       simple_regret_approx_12[slice5],\n",
        "       simple_regret_approx_13[slice5],\n",
        "       simple_regret_approx_14[slice5],\n",
        "       simple_regret_approx_15[slice5],\n",
        "       simple_regret_approx_16[slice5],\n",
        "       simple_regret_approx_17[slice5],\n",
        "       simple_regret_approx_18[slice5],\n",
        "       simple_regret_approx_19[slice5],\n",
        "       simple_regret_approx_20[slice5]]\n",
        "\n",
        "exact5 = [simple_regret_exact_1[slice5],\n",
        "       simple_regret_exact_2[slice5],\n",
        "       simple_regret_exact_3[slice5],\n",
        "       simple_regret_exact_4[slice5],\n",
        "       simple_regret_exact_5[slice5],\n",
        "       simple_regret_exact_6[slice5],\n",
        "       simple_regret_exact_7[slice5],\n",
        "       simple_regret_exact_8[slice5],\n",
        "       simple_regret_exact_9[slice5],\n",
        "       simple_regret_exact_10[slice5],\n",
        "       simple_regret_exact_11[slice5],\n",
        "       simple_regret_exact_12[slice5],\n",
        "       simple_regret_exact_13[slice5],\n",
        "       simple_regret_exact_14[slice5],\n",
        "       simple_regret_exact_15[slice5],\n",
        "       simple_regret_exact_16[slice5],\n",
        "       simple_regret_exact_17[slice5],\n",
        "       simple_regret_exact_18[slice5],\n",
        "       simple_regret_exact_19[slice5],\n",
        "       simple_regret_exact_20[slice5]]\n",
        "\n",
        "approx5_results = pd.DataFrame(approx5).sort_values(by=[0], ascending=False)\n",
        "exact5_results = pd.DataFrame(exact5).sort_values(by=[0], ascending=False)\n",
        "\n",
        "### Best simple regret minimization IQR - approx:\n",
        "lower_approx5 = np.asarray(approx5_results[4:5][0])[0]\n",
        "median_approx5 = np.asarray(approx5_results[9:10][0])[0]\n",
        "upper_approx5 = np.asarray(approx5_results[14:15][0])[0]\n",
        "\n",
        "lower_exact5 = np.asarray(exact5_results[4:5][0])[0]\n",
        "median_exact5 = np.asarray(exact5_results[9:10][0])[0]\n",
        "upper_exact5 = np.asarray(exact5_results[14:15][0])[0]"
      ]
    },
    {
      "cell_type": "code",
      "execution_count": 85,
      "metadata": {
        "id": "4aZ7C8sOQxf6"
      },
      "outputs": [],
      "source": [
        "# Iteration15 :\n",
        "\n",
        "slice15 = 14\n",
        "\n",
        "approx15 = [simple_regret_approx_1[slice15],\n",
        "       simple_regret_approx_2[slice15],\n",
        "       simple_regret_approx_3[slice15],\n",
        "       simple_regret_approx_4[slice15],\n",
        "       simple_regret_approx_5[slice15],\n",
        "       simple_regret_approx_6[slice15],\n",
        "       simple_regret_approx_7[slice15],\n",
        "       simple_regret_approx_8[slice15],\n",
        "       simple_regret_approx_9[slice15],\n",
        "       simple_regret_approx_10[slice15],\n",
        "       simple_regret_approx_11[slice15],\n",
        "       simple_regret_approx_12[slice15],\n",
        "       simple_regret_approx_13[slice15],\n",
        "       simple_regret_approx_14[slice15],\n",
        "       simple_regret_approx_15[slice15],\n",
        "       simple_regret_approx_16[slice15],\n",
        "       simple_regret_approx_17[slice15],\n",
        "       simple_regret_approx_18[slice15],\n",
        "       simple_regret_approx_19[slice15],\n",
        "       simple_regret_approx_20[slice15]]\n",
        "\n",
        "exact15 = [simple_regret_exact_1[slice15],\n",
        "       simple_regret_exact_2[slice15],\n",
        "       simple_regret_exact_3[slice15],\n",
        "       simple_regret_exact_4[slice15],\n",
        "       simple_regret_exact_5[slice15],\n",
        "       simple_regret_exact_6[slice15],\n",
        "       simple_regret_exact_7[slice15],\n",
        "       simple_regret_exact_8[slice15],\n",
        "       simple_regret_exact_9[slice15],\n",
        "       simple_regret_exact_10[slice15],\n",
        "       simple_regret_exact_11[slice15],\n",
        "       simple_regret_exact_12[slice15],\n",
        "       simple_regret_exact_13[slice15],\n",
        "       simple_regret_exact_14[slice15],\n",
        "       simple_regret_exact_15[slice15],\n",
        "       simple_regret_exact_16[slice15],\n",
        "       simple_regret_exact_17[slice15],\n",
        "       simple_regret_exact_18[slice15],\n",
        "       simple_regret_exact_19[slice15],\n",
        "       simple_regret_exact_20[slice15]]\n",
        "\n",
        "approx15_results = pd.DataFrame(approx15).sort_values(by=[0], ascending=False)\n",
        "exact15_results = pd.DataFrame(exact15).sort_values(by=[0], ascending=False)\n",
        "\n",
        "### Best simple regret minimization IQR - approx:\n",
        "lower_approx15 = np.asarray(approx15_results[4:5][0])[0]\n",
        "median_approx15 = np.asarray(approx15_results[9:10][0])[0]\n",
        "upper_approx15 = np.asarray(approx15_results[14:15][0])[0]\n",
        "\n",
        "lower_exact15 = np.asarray(exact15_results[4:5][0])[0]\n",
        "median_exact15 = np.asarray(exact15_results[9:10][0])[0]\n",
        "upper_exact15 = np.asarray(exact15_results[14:15][0])[0]"
      ]
    },
    {
      "cell_type": "code",
      "execution_count": 86,
      "metadata": {
        "id": "KJINKhv1Qxf6"
      },
      "outputs": [],
      "source": [
        "# Iteration6 :\n",
        "\n",
        "slice6 = 5\n",
        "\n",
        "approx6 = [simple_regret_approx_1[slice6],\n",
        "       simple_regret_approx_2[slice6],\n",
        "       simple_regret_approx_3[slice6],\n",
        "       simple_regret_approx_4[slice6],\n",
        "       simple_regret_approx_5[slice6],\n",
        "       simple_regret_approx_6[slice6],\n",
        "       simple_regret_approx_7[slice6],\n",
        "       simple_regret_approx_8[slice6],\n",
        "       simple_regret_approx_9[slice6],\n",
        "       simple_regret_approx_10[slice6],\n",
        "       simple_regret_approx_11[slice6],\n",
        "       simple_regret_approx_12[slice6],\n",
        "       simple_regret_approx_13[slice6],\n",
        "       simple_regret_approx_14[slice6],\n",
        "       simple_regret_approx_15[slice6],\n",
        "       simple_regret_approx_16[slice6],\n",
        "       simple_regret_approx_17[slice6],\n",
        "       simple_regret_approx_18[slice6],\n",
        "       simple_regret_approx_19[slice6],\n",
        "       simple_regret_approx_20[slice6]]\n",
        "\n",
        "exact6 = [simple_regret_exact_1[slice6],\n",
        "       simple_regret_exact_2[slice6],\n",
        "       simple_regret_exact_3[slice6],\n",
        "       simple_regret_exact_4[slice6],\n",
        "       simple_regret_exact_5[slice6],\n",
        "       simple_regret_exact_6[slice6],\n",
        "       simple_regret_exact_7[slice6],\n",
        "       simple_regret_exact_8[slice6],\n",
        "       simple_regret_exact_9[slice6],\n",
        "       simple_regret_exact_10[slice6],\n",
        "       simple_regret_exact_11[slice6],\n",
        "       simple_regret_exact_12[slice6],\n",
        "       simple_regret_exact_13[slice6],\n",
        "       simple_regret_exact_14[slice6],\n",
        "       simple_regret_exact_15[slice6],\n",
        "       simple_regret_exact_16[slice6],\n",
        "       simple_regret_exact_17[slice6],\n",
        "       simple_regret_exact_18[slice6],\n",
        "       simple_regret_exact_19[slice6],\n",
        "       simple_regret_exact_20[slice6]]\n",
        "\n",
        "approx6_results = pd.DataFrame(approx6).sort_values(by=[0], ascending=False)\n",
        "exact6_results = pd.DataFrame(exact6).sort_values(by=[0], ascending=False)\n",
        "\n",
        "### Best simple regret minimization IQR - approx:\n",
        "lower_approx6 = np.asarray(approx6_results[4:5][0])[0]\n",
        "median_approx6 = np.asarray(approx6_results[9:10][0])[0]\n",
        "upper_approx6 = np.asarray(approx6_results[14:15][0])[0]\n",
        "\n",
        "lower_exact6 = np.asarray(exact6_results[4:5][0])[0]\n",
        "median_exact6 = np.asarray(exact6_results[9:10][0])[0]\n",
        "upper_exact6 = np.asarray(exact6_results[14:15][0])[0]"
      ]
    },
    {
      "cell_type": "code",
      "execution_count": 87,
      "metadata": {
        "id": "nwC5N1FsQxf7"
      },
      "outputs": [],
      "source": [
        "# Iteration16 :\n",
        "\n",
        "slice16 = 15\n",
        "\n",
        "approx16 = [simple_regret_approx_1[slice16],\n",
        "       simple_regret_approx_2[slice16],\n",
        "       simple_regret_approx_3[slice16],\n",
        "       simple_regret_approx_4[slice16],\n",
        "       simple_regret_approx_5[slice16],\n",
        "       simple_regret_approx_6[slice16],\n",
        "       simple_regret_approx_7[slice16],\n",
        "       simple_regret_approx_8[slice16],\n",
        "       simple_regret_approx_9[slice16],\n",
        "       simple_regret_approx_10[slice16],\n",
        "       simple_regret_approx_11[slice16],\n",
        "       simple_regret_approx_12[slice16],\n",
        "       simple_regret_approx_13[slice16],\n",
        "       simple_regret_approx_14[slice16],\n",
        "       simple_regret_approx_15[slice16],\n",
        "       simple_regret_approx_16[slice16],\n",
        "       simple_regret_approx_17[slice16],\n",
        "       simple_regret_approx_18[slice16],\n",
        "       simple_regret_approx_19[slice16],\n",
        "       simple_regret_approx_20[slice16]]\n",
        "\n",
        "exact16 = [simple_regret_exact_1[slice16],\n",
        "       simple_regret_exact_2[slice16],\n",
        "       simple_regret_exact_3[slice16],\n",
        "       simple_regret_exact_4[slice16],\n",
        "       simple_regret_exact_5[slice16],\n",
        "       simple_regret_exact_6[slice16],\n",
        "       simple_regret_exact_7[slice16],\n",
        "       simple_regret_exact_8[slice16],\n",
        "       simple_regret_exact_9[slice16],\n",
        "       simple_regret_exact_10[slice16],\n",
        "       simple_regret_exact_11[slice16],\n",
        "       simple_regret_exact_12[slice16],\n",
        "       simple_regret_exact_13[slice16],\n",
        "       simple_regret_exact_14[slice16],\n",
        "       simple_regret_exact_15[slice16],\n",
        "       simple_regret_exact_16[slice16],\n",
        "       simple_regret_exact_17[slice16],\n",
        "       simple_regret_exact_18[slice16],\n",
        "       simple_regret_exact_19[slice16],\n",
        "       simple_regret_exact_20[slice16]]\n",
        "\n",
        "approx16_results = pd.DataFrame(approx16).sort_values(by=[0], ascending=False)\n",
        "exact16_results = pd.DataFrame(exact16).sort_values(by=[0], ascending=False)\n",
        "\n",
        "### Best simple regret minimization IQR - approx:\n",
        "lower_approx16 = np.asarray(approx16_results[4:5][0])[0]\n",
        "median_approx16 = np.asarray(approx16_results[9:10][0])[0]\n",
        "upper_approx16 = np.asarray(approx16_results[14:15][0])[0]\n",
        "\n",
        "lower_exact16 = np.asarray(exact16_results[4:5][0])[0]\n",
        "median_exact16 = np.asarray(exact16_results[9:10][0])[0]\n",
        "upper_exact16 = np.asarray(exact16_results[14:15][0])[0]"
      ]
    },
    {
      "cell_type": "code",
      "execution_count": 88,
      "metadata": {
        "id": "TrPV0AfnQxf7"
      },
      "outputs": [],
      "source": [
        "# Iteration7 :\n",
        "\n",
        "slice7 = 6\n",
        "\n",
        "approx7 = [simple_regret_approx_1[slice7],\n",
        "       simple_regret_approx_2[slice7],\n",
        "       simple_regret_approx_3[slice7],\n",
        "       simple_regret_approx_4[slice7],\n",
        "       simple_regret_approx_5[slice7],\n",
        "       simple_regret_approx_6[slice7],\n",
        "       simple_regret_approx_7[slice7],\n",
        "       simple_regret_approx_8[slice7],\n",
        "       simple_regret_approx_9[slice7],\n",
        "       simple_regret_approx_10[slice7],\n",
        "       simple_regret_approx_11[slice7],\n",
        "       simple_regret_approx_12[slice7],\n",
        "       simple_regret_approx_13[slice7],\n",
        "       simple_regret_approx_14[slice7],\n",
        "       simple_regret_approx_15[slice7],\n",
        "       simple_regret_approx_16[slice7],\n",
        "       simple_regret_approx_17[slice7],\n",
        "       simple_regret_approx_18[slice7],\n",
        "       simple_regret_approx_19[slice7],\n",
        "       simple_regret_approx_20[slice7]]\n",
        "\n",
        "exact7 = [simple_regret_exact_1[slice7],\n",
        "       simple_regret_exact_2[slice7],\n",
        "       simple_regret_exact_3[slice7],\n",
        "       simple_regret_exact_4[slice7],\n",
        "       simple_regret_exact_5[slice7],\n",
        "       simple_regret_exact_6[slice7],\n",
        "       simple_regret_exact_7[slice7],\n",
        "       simple_regret_exact_8[slice7],\n",
        "       simple_regret_exact_9[slice7],\n",
        "       simple_regret_exact_10[slice7],\n",
        "       simple_regret_exact_11[slice7],\n",
        "       simple_regret_exact_12[slice7],\n",
        "       simple_regret_exact_13[slice7],\n",
        "       simple_regret_exact_14[slice7],\n",
        "       simple_regret_exact_15[slice7],\n",
        "       simple_regret_exact_16[slice7],\n",
        "       simple_regret_exact_17[slice7],\n",
        "       simple_regret_exact_18[slice7],\n",
        "       simple_regret_exact_19[slice7],\n",
        "       simple_regret_exact_20[slice7]]\n",
        "\n",
        "approx7_results = pd.DataFrame(approx7).sort_values(by=[0], ascending=False)\n",
        "exact7_results = pd.DataFrame(exact7).sort_values(by=[0], ascending=False)\n",
        "\n",
        "### Best simple regret minimization IQR - approx:\n",
        "lower_approx7 = np.asarray(approx7_results[4:5][0])[0]\n",
        "median_approx7 = np.asarray(approx7_results[9:10][0])[0]\n",
        "upper_approx7 = np.asarray(approx7_results[14:15][0])[0]\n",
        "\n",
        "lower_exact7 = np.asarray(exact7_results[4:5][0])[0]\n",
        "median_exact7 = np.asarray(exact7_results[9:10][0])[0]\n",
        "upper_exact7 = np.asarray(exact7_results[14:15][0])[0]"
      ]
    },
    {
      "cell_type": "code",
      "execution_count": 89,
      "metadata": {
        "id": "Ub_-wpK4Qxf8"
      },
      "outputs": [],
      "source": [
        "# Iteration17 :\n",
        "\n",
        "slice17 = 16\n",
        "\n",
        "approx17 = [simple_regret_approx_1[slice17],\n",
        "       simple_regret_approx_2[slice17],\n",
        "       simple_regret_approx_3[slice17],\n",
        "       simple_regret_approx_4[slice17],\n",
        "       simple_regret_approx_5[slice17],\n",
        "       simple_regret_approx_6[slice17],\n",
        "       simple_regret_approx_7[slice17],\n",
        "       simple_regret_approx_8[slice17],\n",
        "       simple_regret_approx_9[slice17],\n",
        "       simple_regret_approx_10[slice17],\n",
        "       simple_regret_approx_11[slice17],\n",
        "       simple_regret_approx_12[slice17],\n",
        "       simple_regret_approx_13[slice17],\n",
        "       simple_regret_approx_14[slice17],\n",
        "       simple_regret_approx_15[slice17],\n",
        "       simple_regret_approx_16[slice17],\n",
        "       simple_regret_approx_17[slice17],\n",
        "       simple_regret_approx_18[slice17],\n",
        "       simple_regret_approx_19[slice17],\n",
        "       simple_regret_approx_20[slice17]]\n",
        "\n",
        "exact17 = [simple_regret_exact_1[slice17],\n",
        "       simple_regret_exact_2[slice17],\n",
        "       simple_regret_exact_3[slice17],\n",
        "       simple_regret_exact_4[slice17],\n",
        "       simple_regret_exact_5[slice17],\n",
        "       simple_regret_exact_6[slice17],\n",
        "       simple_regret_exact_7[slice17],\n",
        "       simple_regret_exact_8[slice17],\n",
        "       simple_regret_exact_9[slice17],\n",
        "       simple_regret_exact_10[slice17],\n",
        "       simple_regret_exact_11[slice17],\n",
        "       simple_regret_exact_12[slice17],\n",
        "       simple_regret_exact_13[slice17],\n",
        "       simple_regret_exact_14[slice17],\n",
        "       simple_regret_exact_15[slice17],\n",
        "       simple_regret_exact_16[slice17],\n",
        "       simple_regret_exact_17[slice17],\n",
        "       simple_regret_exact_18[slice17],\n",
        "       simple_regret_exact_19[slice17],\n",
        "       simple_regret_exact_20[slice17]]\n",
        "\n",
        "approx17_results = pd.DataFrame(approx17).sort_values(by=[0], ascending=False)\n",
        "exact17_results = pd.DataFrame(exact17).sort_values(by=[0], ascending=False)\n",
        "\n",
        "### Best simple regret minimization IQR - approx:\n",
        "lower_approx17 = np.asarray(approx17_results[4:5][0])[0]\n",
        "median_approx17 = np.asarray(approx17_results[9:10][0])[0]\n",
        "upper_approx17 = np.asarray(approx17_results[14:15][0])[0]\n",
        "\n",
        "lower_exact17 = np.asarray(exact17_results[4:5][0])[0]\n",
        "median_exact17 = np.asarray(exact17_results[9:10][0])[0]\n",
        "upper_exact17 = np.asarray(exact17_results[14:15][0])[0]"
      ]
    },
    {
      "cell_type": "code",
      "execution_count": 90,
      "metadata": {
        "id": "-6VLo37PQxf8"
      },
      "outputs": [],
      "source": [
        "# Iteration8 :\n",
        "\n",
        "slice8 = 7\n",
        "\n",
        "approx8 = [simple_regret_approx_1[slice8],\n",
        "       simple_regret_approx_2[slice8],\n",
        "       simple_regret_approx_3[slice8],\n",
        "       simple_regret_approx_4[slice8],\n",
        "       simple_regret_approx_5[slice8],\n",
        "       simple_regret_approx_6[slice8],\n",
        "       simple_regret_approx_7[slice8],\n",
        "       simple_regret_approx_8[slice8],\n",
        "       simple_regret_approx_9[slice8],\n",
        "       simple_regret_approx_10[slice8],\n",
        "       simple_regret_approx_11[slice8],\n",
        "       simple_regret_approx_12[slice8],\n",
        "       simple_regret_approx_13[slice8],\n",
        "       simple_regret_approx_14[slice8],\n",
        "       simple_regret_approx_15[slice8],\n",
        "       simple_regret_approx_16[slice8],\n",
        "       simple_regret_approx_17[slice8],\n",
        "       simple_regret_approx_18[slice8],\n",
        "       simple_regret_approx_19[slice8],\n",
        "       simple_regret_approx_20[slice8]]\n",
        "\n",
        "exact8 = [simple_regret_exact_1[slice8],\n",
        "       simple_regret_exact_2[slice8],\n",
        "       simple_regret_exact_3[slice8],\n",
        "       simple_regret_exact_4[slice8],\n",
        "       simple_regret_exact_5[slice8],\n",
        "       simple_regret_exact_6[slice8],\n",
        "       simple_regret_exact_7[slice8],\n",
        "       simple_regret_exact_8[slice8],\n",
        "       simple_regret_exact_9[slice8],\n",
        "       simple_regret_exact_10[slice8],\n",
        "       simple_regret_exact_11[slice8],\n",
        "       simple_regret_exact_12[slice8],\n",
        "       simple_regret_exact_13[slice8],\n",
        "       simple_regret_exact_14[slice8],\n",
        "       simple_regret_exact_15[slice8],\n",
        "       simple_regret_exact_16[slice8],\n",
        "       simple_regret_exact_17[slice8],\n",
        "       simple_regret_exact_18[slice8],\n",
        "       simple_regret_exact_19[slice8],\n",
        "       simple_regret_exact_20[slice8]]\n",
        "\n",
        "approx8_results = pd.DataFrame(approx8).sort_values(by=[0], ascending=False)\n",
        "exact8_results = pd.DataFrame(exact8).sort_values(by=[0], ascending=False)\n",
        "\n",
        "### Best simple regret minimization IQR - approx:\n",
        "lower_approx8 = np.asarray(approx8_results[4:5][0])[0]\n",
        "median_approx8 = np.asarray(approx8_results[9:10][0])[0]\n",
        "upper_approx8 = np.asarray(approx8_results[14:15][0])[0]\n",
        "\n",
        "lower_exact8 = np.asarray(exact8_results[4:5][0])[0]\n",
        "median_exact8 = np.asarray(exact8_results[9:10][0])[0]\n",
        "upper_exact8 = np.asarray(exact8_results[14:15][0])[0]"
      ]
    },
    {
      "cell_type": "code",
      "execution_count": 91,
      "metadata": {
        "id": "2Dp-9CC2Qxf9"
      },
      "outputs": [],
      "source": [
        "# Iteration18 :\n",
        "\n",
        "slice18 = 17\n",
        "\n",
        "approx18 = [simple_regret_approx_1[slice18],\n",
        "       simple_regret_approx_2[slice18],\n",
        "       simple_regret_approx_3[slice18],\n",
        "       simple_regret_approx_4[slice18],\n",
        "       simple_regret_approx_5[slice18],\n",
        "       simple_regret_approx_6[slice18],\n",
        "       simple_regret_approx_7[slice18],\n",
        "       simple_regret_approx_8[slice18],\n",
        "       simple_regret_approx_9[slice18],\n",
        "       simple_regret_approx_10[slice18],\n",
        "       simple_regret_approx_11[slice18],\n",
        "       simple_regret_approx_12[slice18],\n",
        "       simple_regret_approx_13[slice18],\n",
        "       simple_regret_approx_14[slice18],\n",
        "       simple_regret_approx_15[slice18],\n",
        "       simple_regret_approx_16[slice18],\n",
        "       simple_regret_approx_17[slice18],\n",
        "       simple_regret_approx_18[slice18],\n",
        "       simple_regret_approx_19[slice18],\n",
        "       simple_regret_approx_20[slice18]]\n",
        "\n",
        "exact18 = [simple_regret_exact_1[slice18],\n",
        "       simple_regret_exact_2[slice18],\n",
        "       simple_regret_exact_3[slice18],\n",
        "       simple_regret_exact_4[slice18],\n",
        "       simple_regret_exact_5[slice18],\n",
        "       simple_regret_exact_6[slice18],\n",
        "       simple_regret_exact_7[slice18],\n",
        "       simple_regret_exact_8[slice18],\n",
        "       simple_regret_exact_9[slice18],\n",
        "       simple_regret_exact_10[slice18],\n",
        "       simple_regret_exact_11[slice18],\n",
        "       simple_regret_exact_12[slice18],\n",
        "       simple_regret_exact_13[slice18],\n",
        "       simple_regret_exact_14[slice18],\n",
        "       simple_regret_exact_15[slice18],\n",
        "       simple_regret_exact_16[slice18],\n",
        "       simple_regret_exact_17[slice18],\n",
        "       simple_regret_exact_18[slice18],\n",
        "       simple_regret_exact_19[slice18],\n",
        "       simple_regret_exact_20[slice18]]\n",
        "\n",
        "approx18_results = pd.DataFrame(approx18).sort_values(by=[0], ascending=False)\n",
        "exact18_results = pd.DataFrame(exact18).sort_values(by=[0], ascending=False)\n",
        "\n",
        "### Best simple regret minimization IQR - approx:\n",
        "lower_approx18 = np.asarray(approx18_results[4:5][0])[0]\n",
        "median_approx18 = np.asarray(approx18_results[9:10][0])[0]\n",
        "upper_approx18 = np.asarray(approx18_results[14:15][0])[0]\n",
        "\n",
        "lower_exact18 = np.asarray(exact18_results[4:5][0])[0]\n",
        "median_exact18 = np.asarray(exact18_results[9:10][0])[0]\n",
        "upper_exact18 = np.asarray(exact18_results[14:15][0])[0]"
      ]
    },
    {
      "cell_type": "code",
      "execution_count": 92,
      "metadata": {
        "id": "SqiaOpB7Qxf9"
      },
      "outputs": [],
      "source": [
        "# Iteration9 :\n",
        "\n",
        "slice9 = 8\n",
        "\n",
        "approx9 = [simple_regret_approx_1[slice9],\n",
        "       simple_regret_approx_2[slice9],\n",
        "       simple_regret_approx_3[slice9],\n",
        "       simple_regret_approx_4[slice9],\n",
        "       simple_regret_approx_5[slice9],\n",
        "       simple_regret_approx_6[slice9],\n",
        "       simple_regret_approx_7[slice9],\n",
        "       simple_regret_approx_8[slice9],\n",
        "       simple_regret_approx_9[slice9],\n",
        "       simple_regret_approx_10[slice9],\n",
        "       simple_regret_approx_11[slice9],\n",
        "       simple_regret_approx_12[slice9],\n",
        "       simple_regret_approx_13[slice9],\n",
        "       simple_regret_approx_14[slice9],\n",
        "       simple_regret_approx_15[slice9],\n",
        "       simple_regret_approx_16[slice9],\n",
        "       simple_regret_approx_17[slice9],\n",
        "       simple_regret_approx_18[slice9],\n",
        "       simple_regret_approx_19[slice9],\n",
        "       simple_regret_approx_20[slice9]]\n",
        "\n",
        "exact9 = [simple_regret_exact_1[slice9],\n",
        "       simple_regret_exact_2[slice9],\n",
        "       simple_regret_exact_3[slice9],\n",
        "       simple_regret_exact_4[slice9],\n",
        "       simple_regret_exact_5[slice9],\n",
        "       simple_regret_exact_6[slice9],\n",
        "       simple_regret_exact_7[slice9],\n",
        "       simple_regret_exact_8[slice9],\n",
        "       simple_regret_exact_9[slice9],\n",
        "       simple_regret_exact_10[slice9],\n",
        "       simple_regret_exact_11[slice9],\n",
        "       simple_regret_exact_12[slice9],\n",
        "       simple_regret_exact_13[slice9],\n",
        "       simple_regret_exact_14[slice9],\n",
        "       simple_regret_exact_15[slice9],\n",
        "       simple_regret_exact_16[slice9],\n",
        "       simple_regret_exact_17[slice9],\n",
        "       simple_regret_exact_18[slice9],\n",
        "       simple_regret_exact_19[slice9],\n",
        "       simple_regret_exact_20[slice9]]\n",
        "\n",
        "approx9_results = pd.DataFrame(approx9).sort_values(by=[0], ascending=False)\n",
        "exact9_results = pd.DataFrame(exact9).sort_values(by=[0], ascending=False)\n",
        "\n",
        "### Best simple regret minimization IQR - approx:\n",
        "lower_approx9 = np.asarray(approx9_results[4:5][0])[0]\n",
        "median_approx9 = np.asarray(approx9_results[9:10][0])[0]\n",
        "upper_approx9 = np.asarray(approx9_results[14:15][0])[0]\n",
        "\n",
        "lower_exact9 = np.asarray(exact9_results[4:5][0])[0]\n",
        "median_exact9 = np.asarray(exact9_results[9:10][0])[0]\n",
        "upper_exact9 = np.asarray(exact9_results[14:15][0])[0]"
      ]
    },
    {
      "cell_type": "code",
      "execution_count": 93,
      "metadata": {
        "id": "OQkCCOsPQxf9"
      },
      "outputs": [],
      "source": [
        "# Iteration19 :\n",
        "\n",
        "slice19 = 18\n",
        "\n",
        "approx19 = [simple_regret_approx_1[slice19],\n",
        "       simple_regret_approx_2[slice19],\n",
        "       simple_regret_approx_3[slice19],\n",
        "       simple_regret_approx_4[slice19],\n",
        "       simple_regret_approx_5[slice19],\n",
        "       simple_regret_approx_6[slice19],\n",
        "       simple_regret_approx_7[slice19],\n",
        "       simple_regret_approx_8[slice19],\n",
        "       simple_regret_approx_9[slice19],\n",
        "       simple_regret_approx_10[slice19],\n",
        "       simple_regret_approx_11[slice19],\n",
        "       simple_regret_approx_12[slice19],\n",
        "       simple_regret_approx_13[slice19],\n",
        "       simple_regret_approx_14[slice19],\n",
        "       simple_regret_approx_15[slice19],\n",
        "       simple_regret_approx_16[slice19],\n",
        "       simple_regret_approx_17[slice19],\n",
        "       simple_regret_approx_18[slice19],\n",
        "       simple_regret_approx_19[slice19],\n",
        "       simple_regret_approx_20[slice19]]\n",
        "\n",
        "exact19 = [simple_regret_exact_1[slice19],\n",
        "       simple_regret_exact_2[slice19],\n",
        "       simple_regret_exact_3[slice19],\n",
        "       simple_regret_exact_4[slice19],\n",
        "       simple_regret_exact_5[slice19],\n",
        "       simple_regret_exact_6[slice19],\n",
        "       simple_regret_exact_7[slice19],\n",
        "       simple_regret_exact_8[slice19],\n",
        "       simple_regret_exact_9[slice19],\n",
        "       simple_regret_exact_10[slice19],\n",
        "       simple_regret_exact_11[slice19],\n",
        "       simple_regret_exact_12[slice19],\n",
        "       simple_regret_exact_13[slice19],\n",
        "       simple_regret_exact_14[slice19],\n",
        "       simple_regret_exact_15[slice19],\n",
        "       simple_regret_exact_16[slice19],\n",
        "       simple_regret_exact_17[slice19],\n",
        "       simple_regret_exact_18[slice19],\n",
        "       simple_regret_exact_19[slice19],\n",
        "       simple_regret_exact_20[slice19]]\n",
        "\n",
        "approx19_results = pd.DataFrame(approx19).sort_values(by=[0], ascending=False)\n",
        "exact19_results = pd.DataFrame(exact19).sort_values(by=[0], ascending=False)\n",
        "\n",
        "### Best simple regret minimization IQR - approx:\n",
        "lower_approx19 = np.asarray(approx19_results[4:5][0])[0]\n",
        "median_approx19 = np.asarray(approx19_results[9:10][0])[0]\n",
        "upper_approx19 = np.asarray(approx19_results[14:15][0])[0]\n",
        "\n",
        "lower_exact19 = np.asarray(exact19_results[4:5][0])[0]\n",
        "median_exact19 = np.asarray(exact19_results[9:10][0])[0]\n",
        "upper_exact19 = np.asarray(exact19_results[14:15][0])[0]"
      ]
    },
    {
      "cell_type": "code",
      "execution_count": 94,
      "metadata": {
        "id": "h4vtWahcQxf-"
      },
      "outputs": [],
      "source": [
        "# Iteration10 :\n",
        "\n",
        "slice10 = 9\n",
        "\n",
        "approx10 = [simple_regret_approx_1[slice10],\n",
        "       simple_regret_approx_2[slice10],\n",
        "       simple_regret_approx_3[slice10],\n",
        "       simple_regret_approx_4[slice10],\n",
        "       simple_regret_approx_5[slice10],\n",
        "       simple_regret_approx_6[slice10],\n",
        "       simple_regret_approx_7[slice10],\n",
        "       simple_regret_approx_8[slice10],\n",
        "       simple_regret_approx_9[slice10],\n",
        "       simple_regret_approx_10[slice10],\n",
        "       simple_regret_approx_11[slice10],\n",
        "       simple_regret_approx_12[slice10],\n",
        "       simple_regret_approx_13[slice10],\n",
        "       simple_regret_approx_14[slice10],\n",
        "       simple_regret_approx_15[slice10],\n",
        "       simple_regret_approx_16[slice10],\n",
        "       simple_regret_approx_17[slice10],\n",
        "       simple_regret_approx_18[slice10],\n",
        "       simple_regret_approx_19[slice10],\n",
        "       simple_regret_approx_20[slice10]]\n",
        "\n",
        "exact10 = [simple_regret_exact_1[slice10],\n",
        "       simple_regret_exact_2[slice10],\n",
        "       simple_regret_exact_3[slice10],\n",
        "       simple_regret_exact_4[slice10],\n",
        "       simple_regret_exact_5[slice10],\n",
        "       simple_regret_exact_6[slice10],\n",
        "       simple_regret_exact_7[slice10],\n",
        "       simple_regret_exact_8[slice10],\n",
        "       simple_regret_exact_9[slice10],\n",
        "       simple_regret_exact_10[slice10],\n",
        "       simple_regret_exact_11[slice10],\n",
        "       simple_regret_exact_12[slice10],\n",
        "       simple_regret_exact_13[slice10],\n",
        "       simple_regret_exact_14[slice10],\n",
        "       simple_regret_exact_15[slice10],\n",
        "       simple_regret_exact_16[slice10],\n",
        "       simple_regret_exact_17[slice10],\n",
        "       simple_regret_exact_18[slice10],\n",
        "       simple_regret_exact_19[slice10],\n",
        "       simple_regret_exact_20[slice10]]\n",
        "\n",
        "approx10_results = pd.DataFrame(approx10).sort_values(by=[0], ascending=False)\n",
        "exact10_results = pd.DataFrame(exact10).sort_values(by=[0], ascending=False)\n",
        "\n",
        "### Best simple regret minimization IQR - approx:\n",
        "lower_approx10 = np.asarray(approx10_results[4:5][0])[0]\n",
        "median_approx10 = np.asarray(approx10_results[9:10][0])[0]\n",
        "upper_approx10 = np.asarray(approx10_results[14:15][0])[0]\n",
        "\n",
        "lower_exact10 = np.asarray(exact10_results[4:5][0])[0]\n",
        "median_exact10 = np.asarray(exact10_results[9:10][0])[0]\n",
        "upper_exact10 = np.asarray(exact10_results[14:15][0])[0]"
      ]
    },
    {
      "cell_type": "code",
      "execution_count": 95,
      "metadata": {
        "id": "Rsf240pWQxf-"
      },
      "outputs": [],
      "source": [
        "# Iteration20 :\n",
        "\n",
        "slice20 = 19\n",
        "\n",
        "approx20 = [simple_regret_approx_1[slice20],\n",
        "       simple_regret_approx_2[slice20],\n",
        "       simple_regret_approx_3[slice20],\n",
        "       simple_regret_approx_4[slice20],\n",
        "       simple_regret_approx_5[slice20],\n",
        "       simple_regret_approx_6[slice20],\n",
        "       simple_regret_approx_7[slice20],\n",
        "       simple_regret_approx_8[slice20],\n",
        "       simple_regret_approx_9[slice20],\n",
        "       simple_regret_approx_10[slice20],\n",
        "       simple_regret_approx_11[slice20],\n",
        "       simple_regret_approx_12[slice20],\n",
        "       simple_regret_approx_13[slice20],\n",
        "       simple_regret_approx_14[slice20],\n",
        "       simple_regret_approx_15[slice20],\n",
        "       simple_regret_approx_16[slice20],\n",
        "       simple_regret_approx_17[slice20],\n",
        "       simple_regret_approx_18[slice20],\n",
        "       simple_regret_approx_19[slice20],\n",
        "       simple_regret_approx_20[slice20]]\n",
        "\n",
        "exact20 = [simple_regret_exact_1[slice20],\n",
        "       simple_regret_exact_2[slice20],\n",
        "       simple_regret_exact_3[slice20],\n",
        "       simple_regret_exact_4[slice20],\n",
        "       simple_regret_exact_5[slice20],\n",
        "       simple_regret_exact_6[slice20],\n",
        "       simple_regret_exact_7[slice20],\n",
        "       simple_regret_exact_8[slice20],\n",
        "       simple_regret_exact_9[slice20],\n",
        "       simple_regret_exact_10[slice20],\n",
        "       simple_regret_exact_11[slice20],\n",
        "       simple_regret_exact_12[slice20],\n",
        "       simple_regret_exact_13[slice20],\n",
        "       simple_regret_exact_14[slice20],\n",
        "       simple_regret_exact_15[slice20],\n",
        "       simple_regret_exact_16[slice20],\n",
        "       simple_regret_exact_17[slice20],\n",
        "       simple_regret_exact_18[slice20],\n",
        "       simple_regret_exact_19[slice20],\n",
        "       simple_regret_exact_20[slice20]]\n",
        "\n",
        "approx20_results = pd.DataFrame(approx20).sort_values(by=[0], ascending=False)\n",
        "exact20_results = pd.DataFrame(exact20).sort_values(by=[0], ascending=False)\n",
        "\n",
        "### Best simple regret minimization IQR - approx:\n",
        "lower_approx20 = np.asarray(approx20_results[4:5][0])[0]\n",
        "median_approx20 = np.asarray(approx20_results[9:10][0])[0]\n",
        "upper_approx20 = np.asarray(approx20_results[14:15][0])[0]\n",
        "\n",
        "lower_exact20 = np.asarray(exact20_results[4:5][0])[0]\n",
        "median_exact20 = np.asarray(exact20_results[9:10][0])[0]\n",
        "upper_exact20 = np.asarray(exact20_results[14:15][0])[0]"
      ]
    },
    {
      "cell_type": "code",
      "execution_count": 96,
      "metadata": {
        "id": "gn36RejbQxf_"
      },
      "outputs": [],
      "source": [
        "### Summarize arrays: 'Loser'\n",
        "\n",
        "lower_approx = [lower_approx1,\n",
        "            lower_approx2,\n",
        "            lower_approx3,\n",
        "            lower_approx4,\n",
        "            lower_approx5,\n",
        "            lower_approx6,\n",
        "            lower_approx7,\n",
        "            lower_approx8,\n",
        "            lower_approx9,\n",
        "            lower_approx10,\n",
        "            lower_approx11,\n",
        "            lower_approx12,\n",
        "            lower_approx13,\n",
        "            lower_approx14,\n",
        "            lower_approx15,\n",
        "            lower_approx16,\n",
        "            lower_approx17,\n",
        "            lower_approx18,\n",
        "            lower_approx19,\n",
        "            lower_approx20,\n",
        "            lower_approx21]\n",
        "\n",
        "median_approx = [median_approx1,\n",
        "            median_approx2,\n",
        "            median_approx3,\n",
        "            median_approx4,\n",
        "            median_approx5,\n",
        "            median_approx6,\n",
        "            median_approx7,\n",
        "            median_approx8,\n",
        "            median_approx9,\n",
        "            median_approx10,\n",
        "            median_approx11,\n",
        "            median_approx12,\n",
        "            median_approx13,\n",
        "            median_approx14,\n",
        "            median_approx15,\n",
        "            median_approx16,\n",
        "            median_approx17,\n",
        "            median_approx18,\n",
        "            median_approx19,\n",
        "            median_approx20,\n",
        "            median_approx21]\n",
        "\n",
        "upper_approx = [upper_approx1,\n",
        "            upper_approx2,\n",
        "            upper_approx3,\n",
        "            upper_approx4,\n",
        "            upper_approx5,\n",
        "            upper_approx6,\n",
        "            upper_approx7,\n",
        "            upper_approx8,\n",
        "            upper_approx9,\n",
        "            upper_approx10,\n",
        "            upper_approx11,\n",
        "            upper_approx12,\n",
        "            upper_approx13,\n",
        "            upper_approx14,\n",
        "            upper_approx15,\n",
        "            upper_approx16,\n",
        "            upper_approx17,\n",
        "            upper_approx18,\n",
        "            upper_approx19,\n",
        "            upper_approx20,\n",
        "            upper_approx21]"
      ]
    },
    {
      "cell_type": "code",
      "execution_count": 97,
      "metadata": {
        "id": "wxtGTOYfQxf_"
      },
      "outputs": [],
      "source": [
        "### Summarize arrays: 'exact'\n",
        "\n",
        "lower_exact = [lower_exact1,\n",
        "            lower_exact2,\n",
        "            lower_exact3,\n",
        "            lower_exact4,\n",
        "            lower_exact5,\n",
        "            lower_exact6,\n",
        "            lower_exact7,\n",
        "            lower_exact8,\n",
        "            lower_exact9,\n",
        "            lower_exact10,\n",
        "            lower_exact11,\n",
        "            lower_exact12,\n",
        "            lower_exact13,\n",
        "            lower_exact14,\n",
        "            lower_exact15,\n",
        "            lower_exact16,\n",
        "            lower_exact17,\n",
        "            lower_exact18,\n",
        "            lower_exact19,\n",
        "            lower_exact20,\n",
        "            lower_exact21]\n",
        "\n",
        "median_exact = [median_exact1,\n",
        "            median_exact2,\n",
        "            median_exact3,\n",
        "            median_exact4,\n",
        "            median_exact5,\n",
        "            median_exact6,\n",
        "            median_exact7,\n",
        "            median_exact8,\n",
        "            median_exact9,\n",
        "            median_exact10,\n",
        "            median_exact11,\n",
        "            median_exact12,\n",
        "            median_exact13,\n",
        "            median_exact14,\n",
        "            median_exact15,\n",
        "            median_exact16,\n",
        "            median_exact17,\n",
        "            median_exact18,\n",
        "            median_exact19,\n",
        "            median_exact20,\n",
        "            median_exact21]\n",
        "\n",
        "upper_exact = [upper_exact1,\n",
        "            upper_exact2,\n",
        "            upper_exact3,\n",
        "            upper_exact4,\n",
        "            upper_exact5,\n",
        "            upper_exact6,\n",
        "            upper_exact7,\n",
        "            upper_exact8,\n",
        "            upper_exact9,\n",
        "            upper_exact10,\n",
        "            upper_exact11,\n",
        "            upper_exact12,\n",
        "            upper_exact13,\n",
        "            upper_exact14,\n",
        "            upper_exact15,\n",
        "            upper_exact16,\n",
        "            upper_exact17,\n",
        "            upper_exact18,\n",
        "            upper_exact19,\n",
        "            upper_exact20,\n",
        "            upper_exact21]"
      ]
    },
    {
      "cell_type": "code",
      "execution_count": 98,
      "metadata": {
        "id": "2MONq-BXQxgA",
        "colab": {
          "base_uri": "https://localhost:8080/",
          "height": 299
        },
        "outputId": "fde6f86e-f618-4794-9177-451af14afc19"
      },
      "outputs": [
        {
          "output_type": "display_data",
          "data": {
            "text/plain": [
              "<Figure size 432x288 with 1 Axes>"
            ],
            "image/png": "[encoded data removed]"
          },
          "metadata": {
            "needs_background": "light"
          }
        }
      ],
      "source": [
        "### Visualise!\n",
        "\n",
        "title = func\n",
        "plt.figure()\n",
        "\n",
        "plt.plot(median_approx, color = 'Green')\n",
        "plt.plot(median_exact, color = 'Blue')\n",
        "\n",
        "xstar = np.arange(0, iters+1, step=1)\n",
        "plt.fill_between(xstar, lower_approx, upper_approx, facecolor = 'Green', alpha=0.4, label='GP ERM Optimization: Approx GP ERM gradients')\n",
        "plt.fill_between(xstar, lower_exact, upper_exact, facecolor = 'Blue', alpha=0.4, label='GP ERM Optimization: Exact GP dERM gradients')\n",
        "\n",
        "plt.title(title, weight = 'bold')\n",
        "plt.xlabel('(Post-initialization) iteration $\\it{k}$', weight = 'bold')\n",
        "plt.ylabel('log(Regret)', weight = 'bold') \n",
        "plt.legend(loc=3) # add plot legend\n",
        "\n",
        "### Make the x-ticks integers, not floats:\n",
        "count = len(xstar)\n",
        "plt.xticks(np.arange(count), np.arange(0, count))\n",
        "plt.show() #visualize!"
      ]
    },
    {
      "cell_type": "code",
      "execution_count": 99,
      "metadata": {
        "id": "l5dkR2Id2oiu",
        "colab": {
          "base_uri": "https://localhost:8080/"
        },
        "outputId": "74f56f51-e021-4f41-9ab5-5c2e8b8f6081"
      },
      "outputs": [
        {
          "output_type": "execute_result",
          "data": {
            "text/plain": [
              "(674.4415962696075, 682.8082439899445)"
            ]
          },
          "metadata": {},
          "execution_count": 99
        }
      ],
      "source": [
        "time_approx, time_exact\n"
      ]
    },
    {
      "cell_type": "code",
      "source": [
        "### acqFunc attribute x, stddev: run number = 1\n",
        "\n",
        "acqFuncApprox_exact_1 = acqFuncApprox(exact_1.history)\n",
        "acqFuncExact_exact_1 = acqFuncExact(exact_1.history)\n",
        "\n",
        "e1 = np.mean(acqFuncExact_exact_1)\n",
        "a1 = np.mean(acqFuncApprox_exact_1)\n",
        "\n",
        "e1, a1\n"
      ],
      "metadata": {
        "colab": {
          "base_uri": "https://localhost:8080/"
        },
        "id": "uwxv4dmfGsLr",
        "outputId": "919b6345-5b94-4155-cf18-9234b31ac147"
      },
      "execution_count": 100,
      "outputs": [
        {
          "output_type": "execute_result",
          "data": {
            "text/plain": [
              "(1.4915016374541512, 1.576735154317256)"
            ]
          },
          "metadata": {},
          "execution_count": 100
        }
      ]
    },
    {
      "cell_type": "code",
      "source": [
        "### acqFunc attribute x, stddev: run number = 2\n",
        "\n",
        "acqFuncApprox_exact_2 = acqFuncApprox(exact_2.history)\n",
        "acqFuncExact_exact_2 = acqFuncExact(exact_2.history)\n",
        "\n",
        "e2 = np.mean(acqFuncExact_exact_2)\n",
        "a2 = np.mean(acqFuncApprox_exact_2)\n",
        "\n",
        "e2, a2\n"
      ],
      "metadata": {
        "colab": {
          "base_uri": "https://localhost:8080/"
        },
        "id": "0YSV00_pGsXe",
        "outputId": "9a28139e-7844-4805-f305-1c4f39d3a685"
      },
      "execution_count": 101,
      "outputs": [
        {
          "output_type": "execute_result",
          "data": {
            "text/plain": [
              "(1.496826784442423, 1.5851001163146374)"
            ]
          },
          "metadata": {},
          "execution_count": 101
        }
      ]
    },
    {
      "cell_type": "code",
      "source": [
        "### acqFunc attribute x, stddev: run number = 3\n",
        "\n",
        "acqFuncApprox_exact_3 = acqFuncApprox(exact_3.history)\n",
        "acqFuncExact_exact_3 = acqFuncExact(exact_3.history)\n",
        "\n",
        "e3 = np.mean(acqFuncExact_exact_3)\n",
        "a3 = np.mean(acqFuncApprox_exact_3)\n",
        "\n",
        "e3, a3\n"
      ],
      "metadata": {
        "colab": {
          "base_uri": "https://localhost:8080/"
        },
        "id": "HHVmsd2UGsjT",
        "outputId": "788cba0c-a885-4b8f-81ee-1c403508d8a1"
      },
      "execution_count": 102,
      "outputs": [
        {
          "output_type": "execute_result",
          "data": {
            "text/plain": [
              "(1.26314611592523, 1.575906037368318)"
            ]
          },
          "metadata": {},
          "execution_count": 102
        }
      ]
    },
    {
      "cell_type": "code",
      "source": [
        "### acqFunc attribute x, stddev: run number = 4\n",
        "\n",
        "acqFuncApprox_exact_4 = acqFuncApprox(exact_4.history)\n",
        "acqFuncExact_exact_4 = acqFuncExact(exact_4.history)\n",
        "\n",
        "e4 = np.mean(acqFuncExact_exact_4)\n",
        "a4 = np.mean(acqFuncApprox_exact_4)\n",
        "\n",
        "e4, a4\n"
      ],
      "metadata": {
        "colab": {
          "base_uri": "https://localhost:8080/"
        },
        "id": "r7O19S2eGsu7",
        "outputId": "2bef6562-115a-4ec1-fac8-5dfed1b3a045"
      },
      "execution_count": 103,
      "outputs": [
        {
          "output_type": "execute_result",
          "data": {
            "text/plain": [
              "(1.4110731314546483, 1.5215832916187906)"
            ]
          },
          "metadata": {},
          "execution_count": 103
        }
      ]
    },
    {
      "cell_type": "code",
      "source": [
        "### acqFunc attribute x, stddev: run number = 5\n",
        "\n",
        "acqFuncApprox_exact_5 = acqFuncApprox(exact_5.history)\n",
        "acqFuncExact_exact_5 = acqFuncExact(exact_5.history)\n",
        "\n",
        "e5 = np.mean(acqFuncExact_exact_5)\n",
        "a5 = np.mean(acqFuncApprox_exact_5)\n",
        "\n",
        "e5, a5\n"
      ],
      "metadata": {
        "colab": {
          "base_uri": "https://localhost:8080/"
        },
        "id": "sdb9o6NuGs5m",
        "outputId": "73f56765-4187-4867-b590-23d20455634b"
      },
      "execution_count": 104,
      "outputs": [
        {
          "output_type": "execute_result",
          "data": {
            "text/plain": [
              "(1.8072488384822865, 1.9601312048651125)"
            ]
          },
          "metadata": {},
          "execution_count": 104
        }
      ]
    },
    {
      "cell_type": "code",
      "source": [
        "### acqFunc attribute x, stddev: run number = 6\n",
        "\n",
        "acqFuncApprox_exact_6 = acqFuncApprox(exact_6.history)\n",
        "acqFuncExact_exact_6 = acqFuncExact(exact_6.history)\n",
        "\n",
        "e6 = np.mean(acqFuncExact_exact_6)\n",
        "a6 = np.mean(acqFuncApprox_exact_6)\n",
        "\n",
        "e6, a6\n"
      ],
      "metadata": {
        "colab": {
          "base_uri": "https://localhost:8080/"
        },
        "id": "COQl7LZ8GtE0",
        "outputId": "d5e03997-c9b7-4c04-a61c-439384cb588f"
      },
      "execution_count": 105,
      "outputs": [
        {
          "output_type": "execute_result",
          "data": {
            "text/plain": [
              "(1.8770914112948698, 1.7345943544463243)"
            ]
          },
          "metadata": {},
          "execution_count": 105
        }
      ]
    },
    {
      "cell_type": "code",
      "source": [
        "### acqFunc attribute x, stddev: run number = 7\n",
        "\n",
        "acqFuncApprox_exact_7 = acqFuncApprox(exact_7.history)\n",
        "acqFuncExact_exact_7 = acqFuncExact(exact_7.history)\n",
        "\n",
        "e7 = np.mean(acqFuncExact_exact_7)\n",
        "a7 = np.mean(acqFuncApprox_exact_7)\n",
        "\n",
        "e7, a7\n"
      ],
      "metadata": {
        "colab": {
          "base_uri": "https://localhost:8080/"
        },
        "id": "2gy9EtTzGtP7",
        "outputId": "5f54086e-b7e1-49d6-8914-18d3b36afcc2"
      },
      "execution_count": 106,
      "outputs": [
        {
          "output_type": "execute_result",
          "data": {
            "text/plain": [
              "(1.4688024465389136, 1.5641766927253618)"
            ]
          },
          "metadata": {},
          "execution_count": 106
        }
      ]
    },
    {
      "cell_type": "code",
      "source": [
        "### acqFunc attribute x, stddev: run number = 8\n",
        "\n",
        "acqFuncApprox_exact_8 = acqFuncApprox(exact_8.history)\n",
        "acqFuncExact_exact_8 = acqFuncExact(exact_8.history)\n",
        "\n",
        "e8 = np.mean(acqFuncExact_exact_8)\n",
        "a8 = np.mean(acqFuncApprox_exact_8)\n",
        "\n",
        "e8, a8\n"
      ],
      "metadata": {
        "colab": {
          "base_uri": "https://localhost:8080/"
        },
        "id": "S7mn0qoMGtbM",
        "outputId": "511652b3-ac0f-436a-f8a1-ea473c1d8869"
      },
      "execution_count": 107,
      "outputs": [
        {
          "output_type": "execute_result",
          "data": {
            "text/plain": [
              "(1.2671437363874554, 1.872987701535131)"
            ]
          },
          "metadata": {},
          "execution_count": 107
        }
      ]
    },
    {
      "cell_type": "code",
      "source": [
        "### acqFunc attribute x, stddev: run number = 9\n",
        "\n",
        "acqFuncApprox_exact_9 = acqFuncApprox(exact_9.history)\n",
        "acqFuncExact_exact_9 = acqFuncExact(exact_9.history)\n",
        "\n",
        "e9 = np.mean(acqFuncExact_exact_9)\n",
        "a9 = np.mean(acqFuncApprox_exact_9)\n",
        "\n",
        "e9, a9\n"
      ],
      "metadata": {
        "colab": {
          "base_uri": "https://localhost:8080/"
        },
        "id": "BhljmkNxGtms",
        "outputId": "c77808a6-58aa-487f-f84e-a8f4742e61ec"
      },
      "execution_count": 108,
      "outputs": [
        {
          "output_type": "execute_result",
          "data": {
            "text/plain": [
              "(1.4178961592384318, 1.4145244441368094)"
            ]
          },
          "metadata": {},
          "execution_count": 108
        }
      ]
    },
    {
      "cell_type": "code",
      "source": [
        "### acqFunc attribute x, stddev: run number = 10\n",
        "\n",
        "acqFuncApprox_exact_10 = acqFuncApprox(exact_10.history)\n",
        "acqFuncExact_exact_10 = acqFuncExact(exact_10.history)\n",
        "\n",
        "e10 = np.mean(acqFuncExact_exact_10)\n",
        "a10 = np.mean(acqFuncApprox_exact_10)\n",
        "\n",
        "e10, a10\n"
      ],
      "metadata": {
        "colab": {
          "base_uri": "https://localhost:8080/"
        },
        "id": "W5GZo6k3Gtx8",
        "outputId": "7675e05b-c858-43cc-ce1f-a3eee1ac42e5"
      },
      "execution_count": 109,
      "outputs": [
        {
          "output_type": "execute_result",
          "data": {
            "text/plain": [
              "(1.446069272230622, 1.4318706735140803)"
            ]
          },
          "metadata": {},
          "execution_count": 109
        }
      ]
    },
    {
      "cell_type": "code",
      "source": [
        "### acqFunc attribute x, stddev: run number = 11\n",
        "\n",
        "acqFuncApprox_exact_11 = acqFuncApprox(exact_11.history)\n",
        "acqFuncExact_exact_11 = acqFuncExact(exact_11.history)\n",
        "\n",
        "e11 = np.mean(acqFuncExact_exact_11)\n",
        "a11 = np.mean(acqFuncApprox_exact_11)\n",
        "\n",
        "e11, a11\n"
      ],
      "metadata": {
        "colab": {
          "base_uri": "https://localhost:8080/"
        },
        "id": "isKNhDk5Gt9D",
        "outputId": "668e03df-3f58-4026-aaa9-6af8fe004f64"
      },
      "execution_count": 110,
      "outputs": [
        {
          "output_type": "execute_result",
          "data": {
            "text/plain": [
              "(1.337743201362696, 1.4455179487094043)"
            ]
          },
          "metadata": {},
          "execution_count": 110
        }
      ]
    },
    {
      "cell_type": "code",
      "source": [
        "### acqFunc attribute x, stddev: run number = 12\n",
        "\n",
        "acqFuncApprox_exact_12 = acqFuncApprox(exact_12.history)\n",
        "acqFuncExact_exact_12 = acqFuncExact(exact_12.history)\n",
        "\n",
        "e12 = np.mean(acqFuncExact_exact_12)\n",
        "a12 = np.mean(acqFuncApprox_exact_12)\n",
        "\n",
        "e12, a12\n"
      ],
      "metadata": {
        "colab": {
          "base_uri": "https://localhost:8080/"
        },
        "id": "8ts-wrSuGuIm",
        "outputId": "61dc949d-e8f3-42c7-a28e-bb3a94530b47"
      },
      "execution_count": 111,
      "outputs": [
        {
          "output_type": "execute_result",
          "data": {
            "text/plain": [
              "(1.4828725816301318, 1.4573647578511304)"
            ]
          },
          "metadata": {},
          "execution_count": 111
        }
      ]
    },
    {
      "cell_type": "code",
      "source": [
        "### acqFunc attribute x, stddev: run number = 13\n",
        "\n",
        "acqFuncApprox_exact_13 = acqFuncApprox(exact_13.history)\n",
        "acqFuncExact_exact_13 = acqFuncExact(exact_13.history)\n",
        "\n",
        "e13 = np.mean(acqFuncExact_exact_13)\n",
        "a13 = np.mean(acqFuncApprox_exact_13)\n",
        "\n",
        "e13, a13\n"
      ],
      "metadata": {
        "colab": {
          "base_uri": "https://localhost:8080/"
        },
        "id": "n0drhEe3GuUL",
        "outputId": "30af8c4a-a51c-43d7-e846-d90fbd837d68"
      },
      "execution_count": 112,
      "outputs": [
        {
          "output_type": "execute_result",
          "data": {
            "text/plain": [
              "(1.4793150184483468, 1.5703163173367145)"
            ]
          },
          "metadata": {},
          "execution_count": 112
        }
      ]
    },
    {
      "cell_type": "code",
      "source": [
        "### acqFunc attribute x, stddev: run number = 14\n",
        "\n",
        "acqFuncApprox_exact_14 = acqFuncApprox(exact_14.history)\n",
        "acqFuncExact_exact_14 = acqFuncExact(exact_14.history)\n",
        "\n",
        "e14 = np.mean(acqFuncExact_exact_14)\n",
        "a14 = np.mean(acqFuncApprox_exact_14)\n",
        "\n",
        "e14, a14\n"
      ],
      "metadata": {
        "colab": {
          "base_uri": "https://localhost:8080/"
        },
        "id": "R0W3MZaVGues",
        "outputId": "f7632348-e04e-474c-f58b-5d55eadcb1b7"
      },
      "execution_count": 113,
      "outputs": [
        {
          "output_type": "execute_result",
          "data": {
            "text/plain": [
              "(1.4765521924858964, 1.4282408206986927)"
            ]
          },
          "metadata": {},
          "execution_count": 113
        }
      ]
    },
    {
      "cell_type": "code",
      "source": [
        "### acqFunc attribute x, stddev: run number = 15\n",
        "\n",
        "acqFuncApprox_exact_15 = acqFuncApprox(exact_15.history)\n",
        "acqFuncExact_exact_15 = acqFuncExact(exact_15.history)\n",
        "\n",
        "e15 = np.mean(acqFuncExact_exact_15)\n",
        "a15 = np.mean(acqFuncApprox_exact_15)\n",
        "\n",
        "e15, a15\n"
      ],
      "metadata": {
        "colab": {
          "base_uri": "https://localhost:8080/"
        },
        "id": "DoXdDFHoGup-",
        "outputId": "2ee17689-84b1-47fd-86bb-32a42c00e89e"
      },
      "execution_count": 114,
      "outputs": [
        {
          "output_type": "execute_result",
          "data": {
            "text/plain": [
              "(1.487993683420226, 1.5093125296091667)"
            ]
          },
          "metadata": {},
          "execution_count": 114
        }
      ]
    },
    {
      "cell_type": "code",
      "source": [
        "### acqFunc attribute x, stddev: run number = 16\n",
        "\n",
        "acqFuncApprox_exact_16 = acqFuncApprox(exact_16.history)\n",
        "acqFuncExact_exact_16 = acqFuncExact(exact_16.history)\n",
        "\n",
        "e16 = np.mean(acqFuncExact_exact_16)\n",
        "a16 = np.mean(acqFuncApprox_exact_16)\n",
        "\n",
        "e16, a16\n"
      ],
      "metadata": {
        "colab": {
          "base_uri": "https://localhost:8080/"
        },
        "id": "K_wAeqSoGu2j",
        "outputId": "0b107c3c-517d-4804-bdcc-9ab0ce1ef460"
      },
      "execution_count": 115,
      "outputs": [
        {
          "output_type": "execute_result",
          "data": {
            "text/plain": [
              "(1.4932949156342956, 1.4911361020987746)"
            ]
          },
          "metadata": {},
          "execution_count": 115
        }
      ]
    },
    {
      "cell_type": "code",
      "source": [
        "### acqFunc attribute x, stddev: run number = 17\n",
        "\n",
        "acqFuncApprox_exact_17 = acqFuncApprox(exact_17.history)\n",
        "acqFuncExact_exact_17 = acqFuncExact(exact_17.history)\n",
        "\n",
        "e17 = np.mean(acqFuncExact_exact_17)\n",
        "a17 = np.mean(acqFuncApprox_exact_17)\n",
        "\n",
        "e17, a17\n"
      ],
      "metadata": {
        "colab": {
          "base_uri": "https://localhost:8080/"
        },
        "id": "n6zy78fjGvBT",
        "outputId": "4e71379b-d4cb-4765-bea8-99ad8578e470"
      },
      "execution_count": 116,
      "outputs": [
        {
          "output_type": "execute_result",
          "data": {
            "text/plain": [
              "(1.4169614156627373, 1.3913711173416394)"
            ]
          },
          "metadata": {},
          "execution_count": 116
        }
      ]
    },
    {
      "cell_type": "code",
      "source": [
        "### acqFunc attribute x, stddev: run number = 18\n",
        "\n",
        "acqFuncApprox_exact_18 = acqFuncApprox(exact_18.history)\n",
        "acqFuncExact_exact_18 = acqFuncExact(exact_18.history)\n",
        "\n",
        "e18 = np.mean(acqFuncExact_exact_18)\n",
        "a18 = np.mean(acqFuncApprox_exact_18)\n",
        "\n",
        "e18, a18\n"
      ],
      "metadata": {
        "colab": {
          "base_uri": "https://localhost:8080/"
        },
        "id": "s_6_2K4iGvM-",
        "outputId": "464819e8-f3fc-4300-8a5e-59d67099bd1a"
      },
      "execution_count": 117,
      "outputs": [
        {
          "output_type": "execute_result",
          "data": {
            "text/plain": [
              "(1.4692036032224736, 1.4857039165656791)"
            ]
          },
          "metadata": {},
          "execution_count": 117
        }
      ]
    },
    {
      "cell_type": "code",
      "source": [
        "### acqFunc attribute x, stddev: run number = 19\n",
        "\n",
        "acqFuncApprox_exact_19 = acqFuncApprox(exact_19.history)\n",
        "acqFuncExact_exact_19 = acqFuncExact(exact_19.history)\n",
        "\n",
        "e19 = np.mean(acqFuncExact_exact_19)\n",
        "a19 = np.mean(acqFuncApprox_exact_19)\n",
        "\n",
        "e19, a19\n"
      ],
      "metadata": {
        "colab": {
          "base_uri": "https://localhost:8080/"
        },
        "id": "o8oO8pdBGvYk",
        "outputId": "460d8f59-4cad-431b-9b29-b3265421411b"
      },
      "execution_count": 118,
      "outputs": [
        {
          "output_type": "execute_result",
          "data": {
            "text/plain": [
              "(1.4134189338838459, 1.4482959275136704)"
            ]
          },
          "metadata": {},
          "execution_count": 118
        }
      ]
    },
    {
      "cell_type": "code",
      "source": [
        "### acqFunc attribute x, stddev: run number = 20\n",
        "\n",
        "acqFuncApprox_exact_20 = acqFuncApprox(exact_20.history)\n",
        "acqFuncExact_exact_20 = acqFuncExact(exact_20.history)\n",
        "\n",
        "e20 = np.mean(acqFuncExact_exact_20)\n",
        "a20 = np.mean(acqFuncApprox_exact_20)\n",
        "\n",
        "e20, a20\n"
      ],
      "metadata": {
        "colab": {
          "base_uri": "https://localhost:8080/"
        },
        "id": "b2w8oLc0IMzU",
        "outputId": "867ab9f4-1037-4558-d739-b374843e072e"
      },
      "execution_count": 119,
      "outputs": [
        {
          "output_type": "execute_result",
          "data": {
            "text/plain": [
              "(1.4409251548687074, 1.4383782252445168)"
            ]
          },
          "metadata": {},
          "execution_count": 119
        }
      ]
    },
    {
      "cell_type": "code",
      "source": [
        "### Summarize arrays: \n",
        "\n",
        "exact_stddev = np.sort([e1,e2,e3,e4,e5,e6,e7,e8,e9,e10,e11,e12,e13,e14,e15,e16,e17,e18,e19,e20])\n",
        "approx_stddev = np.sort([a1,a2,a3,a4,a5,a6,a7,a8,a9,a10,a11,a12,a13,a14,a15,a16,a17,a18,a19,a20])\n",
        "\n",
        "np.mean(exact_stddev), np.mean(approx_stddev)\n"
      ],
      "metadata": {
        "colab": {
          "base_uri": "https://localhost:8080/"
        },
        "id": "qAZs3yxMIZul",
        "outputId": "34c6340a-ebd6-4bb9-9a74-59d36fd4f1ce"
      },
      "execution_count": 120,
      "outputs": [
        {
          "output_type": "execute_result",
          "data": {
            "text/plain": [
              "(1.4722540117034193, 1.5451623666905607)"
            ]
          },
          "metadata": {},
          "execution_count": 120
        }
      ]
    },
    {
      "cell_type": "code",
      "source": [
        "### Visualise!\n",
        "\n",
        "title = func\n",
        "plt.figure()\n",
        "\n",
        "plt.plot(approx_stddev, color = 'Green', ls='-', label='Average $\\sigma$, attribute $\\mathbf{x}$: Approx GP ERM gradients')\n",
        "plt.plot(exact_stddev, color = 'Blue', ls='-.', label='Average $\\sigma$, attribute $\\mathbf{x}$: Exact GP dERM gradients')\n",
        "\n",
        "plt.title(title, weight = 'bold')\n",
        "plt.xlabel('Function evaluations: iteration $\\it{k}$', weight = 'bold')\n",
        "plt.ylabel('GP ERM: Average $\\sigma$, attribute $\\mathbf{x}$', weight = 'bold') \n",
        "plt.legend(loc=0) # add plot legend\n",
        "\n",
        "### Make the x-ticks integers, not floats:\n",
        "count = len(xstar)\n",
        "plt.xticks(np.arange(count), np.arange(1, count))\n",
        "plt.show() #visualize!\n"
      ],
      "metadata": {
        "colab": {
          "base_uri": "https://localhost:8080/",
          "height": 297
        },
        "id": "e_kpqYcMIZxu",
        "outputId": "6693e65b-d3ab-40ad-f7b2-f137a8eb3f6f"
      },
      "execution_count": 121,
      "outputs": [
        {
          "output_type": "display_data",
          "data": {
            "text/plain": [
              "<Figure size 432x288 with 1 Axes>"
            ],
            "image/png": "[encoded data removed]"
          },
          "metadata": {
            "needs_background": "light"
          }
        }
      ]
    },
    {
      "cell_type": "code",
      "source": [
        ""
      ],
      "metadata": {
        "id": "LToGd4vZIZ3I"
      },
      "execution_count": 121,
      "outputs": []
    }
  ],
  "metadata": {
    "colab": {
      "collapsed_sections": [],
      "name": "1_SixHumpCamel_GP_dERM.ipynb",
      "provenance": []
    },
    "kernelspec": {
      "display_name": "Python 3",
      "name": "python3"
    },
    "language_info": {
      "name": "python"
    }
  },
  "nbformat": 4,
  "nbformat_minor": 0
}