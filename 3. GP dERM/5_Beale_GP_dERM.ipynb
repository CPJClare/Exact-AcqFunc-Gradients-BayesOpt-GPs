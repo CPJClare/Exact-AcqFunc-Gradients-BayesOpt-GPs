{
  "cells": [
    {
      "cell_type": "markdown",
      "metadata": {
        "id": "Dqn4dFx7Z2Ir"
      },
      "source": [
        "\n",
        "Beale: 2D\n"
      ]
    },
    {
      "cell_type": "code",
      "execution_count": 1,
      "metadata": {
        "colab": {
          "base_uri": "https://localhost:8080/"
        },
        "id": "MJTM_GZZZb5x",
        "outputId": "0df3ed31-6bdf-4dff-81b1-9e31974fffe1"
      },
      "outputs": [
        {
          "output_type": "stream",
          "name": "stdout",
          "text": [
            "Looking in indexes: https://pypi.org/simple, https://us-python.pkg.dev/colab-wheels/public/simple/\n",
            "Collecting pyGPGO\n",
            "  Downloading pyGPGO-0.5.1.tar.gz (14 kB)\n",
            "Requirement already satisfied: numpy in /usr/local/lib/python3.7/dist-packages (from pyGPGO) (1.21.6)\n",
            "Requirement already satisfied: mkl in /usr/local/lib/python3.7/dist-packages (from pyGPGO) (2019.0)\n",
            "Requirement already satisfied: scipy in /usr/local/lib/python3.7/dist-packages (from pyGPGO) (1.7.3)\n",
            "Requirement already satisfied: joblib in /usr/local/lib/python3.7/dist-packages (from pyGPGO) (1.1.0)\n",
            "Requirement already satisfied: scikit-learn in /usr/local/lib/python3.7/dist-packages (from pyGPGO) (1.0.2)\n",
            "Requirement already satisfied: Theano-PyMC in /usr/local/lib/python3.7/dist-packages (from pyGPGO) (1.1.2)\n",
            "Requirement already satisfied: pyMC3 in /usr/local/lib/python3.7/dist-packages (from pyGPGO) (3.11.5)\n",
            "Requirement already satisfied: intel-openmp in /usr/local/lib/python3.7/dist-packages (from mkl->pyGPGO) (2022.1.0)\n",
            "Requirement already satisfied: fastprogress>=0.2.0 in /usr/local/lib/python3.7/dist-packages (from pyMC3->pyGPGO) (1.0.3)\n",
            "Requirement already satisfied: patsy>=0.5.1 in /usr/local/lib/python3.7/dist-packages (from pyMC3->pyGPGO) (0.5.2)\n",
            "Requirement already satisfied: semver>=2.13.0 in /usr/local/lib/python3.7/dist-packages (from pyMC3->pyGPGO) (2.13.0)\n",
            "Requirement already satisfied: typing-extensions>=3.7.4 in /usr/local/lib/python3.7/dist-packages (from pyMC3->pyGPGO) (4.1.1)\n",
            "Requirement already satisfied: cachetools>=4.2.1 in /usr/local/lib/python3.7/dist-packages (from pyMC3->pyGPGO) (4.2.4)\n",
            "Requirement already satisfied: dill in /usr/local/lib/python3.7/dist-packages (from pyMC3->pyGPGO) (0.3.5.1)\n",
            "Requirement already satisfied: deprecat in /usr/local/lib/python3.7/dist-packages (from pyMC3->pyGPGO) (2.1.1)\n",
            "Requirement already satisfied: arviz>=0.11.0 in /usr/local/lib/python3.7/dist-packages (from pyMC3->pyGPGO) (0.12.1)\n",
            "Requirement already satisfied: pandas>=0.24.0 in /usr/local/lib/python3.7/dist-packages (from pyMC3->pyGPGO) (1.3.5)\n",
            "Requirement already satisfied: filelock in /usr/local/lib/python3.7/dist-packages (from Theano-PyMC->pyGPGO) (3.7.1)\n",
            "Requirement already satisfied: setuptools>=38.4 in /usr/local/lib/python3.7/dist-packages (from arviz>=0.11.0->pyMC3->pyGPGO) (57.4.0)\n",
            "Requirement already satisfied: xarray>=0.16.1 in /usr/local/lib/python3.7/dist-packages (from arviz>=0.11.0->pyMC3->pyGPGO) (0.20.2)\n",
            "Requirement already satisfied: packaging in /usr/local/lib/python3.7/dist-packages (from arviz>=0.11.0->pyMC3->pyGPGO) (21.3)\n",
            "Requirement already satisfied: xarray-einstats>=0.2 in /usr/local/lib/python3.7/dist-packages (from arviz>=0.11.0->pyMC3->pyGPGO) (0.2.2)\n",
            "Requirement already satisfied: netcdf4 in /usr/local/lib/python3.7/dist-packages (from arviz>=0.11.0->pyMC3->pyGPGO) (1.6.0)\n",
            "Requirement already satisfied: matplotlib>=3.0 in /usr/local/lib/python3.7/dist-packages (from arviz>=0.11.0->pyMC3->pyGPGO) (3.2.2)\n",
            "Requirement already satisfied: kiwisolver>=1.0.1 in /usr/local/lib/python3.7/dist-packages (from matplotlib>=3.0->arviz>=0.11.0->pyMC3->pyGPGO) (1.4.4)\n",
            "Requirement already satisfied: pyparsing!=2.0.4,!=2.1.2,!=2.1.6,>=2.0.1 in /usr/local/lib/python3.7/dist-packages (from matplotlib>=3.0->arviz>=0.11.0->pyMC3->pyGPGO) (3.0.9)\n",
            "Requirement already satisfied: python-dateutil>=2.1 in /usr/local/lib/python3.7/dist-packages (from matplotlib>=3.0->arviz>=0.11.0->pyMC3->pyGPGO) (2.8.2)\n",
            "Requirement already satisfied: cycler>=0.10 in /usr/local/lib/python3.7/dist-packages (from matplotlib>=3.0->arviz>=0.11.0->pyMC3->pyGPGO) (0.11.0)\n",
            "Requirement already satisfied: pytz>=2017.3 in /usr/local/lib/python3.7/dist-packages (from pandas>=0.24.0->pyMC3->pyGPGO) (2022.1)\n",
            "Requirement already satisfied: six in /usr/local/lib/python3.7/dist-packages (from patsy>=0.5.1->pyMC3->pyGPGO) (1.15.0)\n",
            "Requirement already satisfied: importlib-metadata in /usr/local/lib/python3.7/dist-packages (from xarray>=0.16.1->arviz>=0.11.0->pyMC3->pyGPGO) (4.12.0)\n",
            "Requirement already satisfied: wrapt<2,>=1.10 in /usr/local/lib/python3.7/dist-packages (from deprecat->pyMC3->pyGPGO) (1.14.1)\n",
            "Requirement already satisfied: zipp>=0.5 in /usr/local/lib/python3.7/dist-packages (from importlib-metadata->xarray>=0.16.1->arviz>=0.11.0->pyMC3->pyGPGO) (3.8.1)\n",
            "Requirement already satisfied: cftime in /usr/local/lib/python3.7/dist-packages (from netcdf4->arviz>=0.11.0->pyMC3->pyGPGO) (1.6.1)\n",
            "Requirement already satisfied: threadpoolctl>=2.0.0 in /usr/local/lib/python3.7/dist-packages (from scikit-learn->pyGPGO) (3.1.0)\n",
            "Building wheels for collected packages: pyGPGO\n",
            "  Building wheel for pyGPGO (setup.py) ... \u001b[?25l\u001b[?25hdone\n",
            "  Created wheel for pyGPGO: filename=pyGPGO-0.5.1-py3-none-any.whl size=19879 sha256=d9c4939eceec1a601907ea64e8d90065ec4875e502d1070126ddb8ff2eb6247f\n",
            "  Stored in directory: /root/.cache/pip/wheels/c8/5d/0b/2160114e2f1b87791c51b66cf07f89831dbb6f49167950316f\n",
            "Successfully built pyGPGO\n",
            "Installing collected packages: pyGPGO\n",
            "Successfully installed pyGPGO-0.5.1\n"
          ]
        }
      ],
      "source": [
        "pip install pyGPGO\n"
      ]
    },
    {
      "cell_type": "code",
      "execution_count": 2,
      "metadata": {
        "id": "ZJSSPbwPaEUB"
      },
      "outputs": [],
      "source": [
        "### Import:\n",
        "\n",
        "import numpy as np\n",
        "import scipy as sp\n",
        "import pandas as pd\n",
        "import matplotlib.pyplot as plt\n",
        "import warnings\n",
        "import itertools\n",
        "\n",
        "from pyGPGO.GPGO import GPGO\n",
        "from pyGPGO.surrogates.GaussianProcess import GaussianProcess\n",
        "from pyGPGO.acquisition import Acquisition\n",
        "from pyGPGO.covfunc import squaredExponential\n",
        "\n",
        "from joblib import Parallel, delayed\n",
        "from numpy.linalg import solve, cholesky\n",
        "from scipy.spatial.distance import cdist\n",
        "from scipy.optimize import minimize\n",
        "from scipy.stats import norm\n",
        "import time\n",
        "\n",
        "warnings.filterwarnings(\"ignore\", category=RuntimeWarning)\n"
      ]
    },
    {
      "cell_type": "code",
      "execution_count": 3,
      "metadata": {
        "id": "OeYcTUNoaJWa"
      },
      "outputs": [],
      "source": [
        "### Inputs:\n",
        "\n",
        "func = 'Beale'\n",
        "n_test = 500\n",
        "eps = 1e-08\n",
        "\n",
        "util = 'ERM'\n",
        "\n",
        "n_init = 5 # random initialisations\n",
        "iters = 20\n",
        "opt = True"
      ]
    },
    {
      "cell_type": "code",
      "execution_count": 4,
      "metadata": {
        "id": "xpaEOjdzaPMS"
      },
      "outputs": [],
      "source": [
        "### Objective Function - Beale(x) 2-D:\n",
        "\n",
        "def objfunc(x1_training, x2_training):\n",
        "            return  operator * (\n",
        "                (1.500 - x1_training + x1_training * x2_training)**2 +\n",
        "                (2.250 - x1_training + x1_training * x2_training**2)**2 +\n",
        "                (2.625 - x1_training + x1_training * x2_training**3)**2 \n",
        "                )\n",
        "       \n",
        "# Constraints:\n",
        "lb = -4.5\n",
        "ub = +4.5\n",
        "\n",
        "# Input array dimension(s):\n",
        "dim = 2\n",
        "\n",
        "# 2-D inputs' parameter bounds:\n",
        "param = {'x1_training': ('cont', [lb, ub]),\n",
        "             'x2_training': ('cont', [lb, ub])}\n",
        "\n",
        "# True y bounds:\n",
        "operator = -1\n",
        "y_lb = 0 # targets global minimum\n",
        "y_global_orig = y_lb * operator # targets global minimum\n",
        "\n",
        "# Test data:\n",
        "x1_test = np.linspace(lb, ub, n_test)\n",
        "x2_test = np.linspace(lb, ub, n_test)\n",
        "  \n",
        "x_test = np.column_stack((x1_test,x2_test))\n"
      ]
    },
    {
      "cell_type": "code",
      "execution_count": 5,
      "metadata": {
        "id": "eYpI3Zm4aGxi"
      },
      "outputs": [],
      "source": [
        "n_start_AcqFunc = iters\n",
        "inverse = -1\n"
      ]
    },
    {
      "cell_type": "code",
      "execution_count": 6,
      "metadata": {
        "id": "oO_GUmOoaV0T"
      },
      "outputs": [],
      "source": [
        "### Cumulative Regret Calculators:\n",
        "\n",
        "def min_max_array(x):\n",
        "    new_list = []\n",
        "    for i, num in enumerate(x):\n",
        "            new_list.append(np.min(x[0:i+1]))\n",
        "    return new_list\n",
        "  \n",
        "def acqFuncExact(x):\n",
        "    new_array = []\n",
        "    x = np.array(x) \n",
        "    for i, num in enumerate(x):\n",
        "            new_array = x[:-2][::-3]\n",
        "    return new_array[::-1]\n",
        "\n",
        "def acqFuncApprox(x):\n",
        "    new_array = []\n",
        "    x = np.array(x) \n",
        "    for i, num in enumerate(x):\n",
        "            new_array = x[:-1][::-3]\n",
        "    return new_array[::-1]\n"
      ]
    },
    {
      "cell_type": "code",
      "execution_count": 7,
      "metadata": {
        "id": "kuuJx0IMam9S"
      },
      "outputs": [],
      "source": [
        "### Surrogate derivatives: \n",
        "\n",
        "cov_func = squaredExponential()\n",
        "\n",
        "def kronDelta(X, Xstar):                     # Kronecker's Delta method\n",
        "    return cdist(X, Xstar) < np.finfo(np.float32).eps\n",
        "\n",
        "def se(X, Xstar, sigmaf, l, sigman):         # S.E. kernel method\n",
        "    return sigmaf * np.exp(-0.5 * cdist(X, Xstar) ** 2 / l ** 2) + sigman * kronDelta(X, Xstar)\n",
        "\n",
        "def delta(X, Xstar):                         # Distance between training X and test Xstar vectors\n",
        "    return (X - Xstar)\n",
        "   \n",
        "def der_covmat(X, Xstar, sigmaf, l, sigman): # Covariance matrix derivative terms (i.e. exact, first-order)\n",
        "    nx = len(X)\n",
        "    ny = len(Xstar)\n",
        "    return np.round(np.array([(delta(np.atleast_2d(i), np.atleast_2d(j))[0] * se(np.atleast_2d(i), np.atleast_2d(j), sigmaf, l, sigman)[0]).sum() for (i, j) in itertools.product(X, Xstar)]).reshape(nx, ny), 8)\n",
        "\n",
        "class dGaussianProcess(GaussianProcess):    # Via inheritance, also optimises hyperparameters when opt = TRUE\n",
        "    \n",
        "    def AcqGrad(self, Xstar):               # Method returning exact, first-order derivatives of the GP's posterior mean and standard deviation\n",
        "        Xstar = np.atleast_2d(Xstar)\n",
        "        Kstar = self.covfunc.K(self.X, Xstar).T\n",
        "        \n",
        "        dKstar = der_covmat(self.X, Xstar, self.covfunc.sigmaf, self.covfunc.l, self.covfunc.sigman).T\n",
        "        alpha_Kstar = np.dot(np.linalg.inv(self.K + (self.covfunc.sigman**2) * np.eye(len(self.X))), Kstar.T)\n",
        "        \n",
        "        dm = np.dot(dKstar, self.alpha)\n",
        "        ds = -2 * np.dot(dKstar, alpha_Kstar)\n",
        "        \n",
        "        return dm, ds           \n"
      ]
    },
    {
      "cell_type": "code",
      "execution_count": 8,
      "metadata": {
        "id": "_Dc3YVHVaXz7"
      },
      "outputs": [],
      "source": [
        "### Add exact acquisition function gradient as attribute:\n",
        "\n",
        "class Acquisition_grad(Acquisition):    \n",
        "    def __init__(self, mode, eps=eps, **params):\n",
        "        \n",
        "        self.params = params\n",
        "        self.eps = eps\n",
        "\n",
        "        mode_dict = {\n",
        "            'ERM': self.ERM\n",
        "        }\n",
        "\n",
        "        self.f = mode_dict[mode]\n",
        "    \n",
        "    def ERM(self, y_global_orig, mean, std, ds, dm):\n",
        "        gamma = (mean - y_global_orig - self.eps) / (std + self.eps)\n",
        "        gamma_h = (mean - y_global_orig) / (std + self.eps)\n",
        "        dsdx = ds / (2 * (std + self.eps))\n",
        "        dmdx = (dm - gamma * dsdx) / (std + self.eps)\n",
        "        \n",
        "        f = (std + self.eps) * (gamma * norm.cdf(gamma) + norm.pdf(gamma))\n",
        "        df1 = f / (std + self.eps) * dsdx \n",
        "        df2 = (std + self.eps) * norm.cdf(gamma) * dmdx\n",
        "        df = (df1 + df2)[0]\n",
        "        df_arr = []\n",
        "\n",
        "        for j in range(0, dim):\n",
        "          df_arr.append(df)\n",
        "        return f, np.asarray(df_arr).transpose()\n",
        "        \n",
        "    def d_eval(self, y_global_orig, mean, std, ds, dm):\n",
        "    \n",
        "        return self.f(y_global_orig, mean, std, ds, dm, **self.params)\n",
        "        "
      ]
    },
    {
      "cell_type": "code",
      "execution_count": 9,
      "metadata": {
        "id": "PITEQC8YSl7i"
      },
      "outputs": [],
      "source": [
        "## GPGO_multi: \n",
        "\n",
        "class GPGO_multi(GPGO):\n",
        "    n_start = n_start_AcqFunc\n",
        "\n",
        "    def __init__(self, surrogate, acquisition, f, parameter_dict, n_jobs=1):\n",
        "        self.GP = surrogate\n",
        "        self.A = acquisition\n",
        "        self.f = f\n",
        "        self.parameters = parameter_dict\n",
        "        self.n_jobs = n_jobs\n",
        "\n",
        "        self.parameter_key = list(parameter_dict.keys())\n",
        "        self.parameter_value = list(parameter_dict.values())\n",
        "        self.parameter_type = [p[0] for p in self.parameter_value]\n",
        "        self.parameter_range = [p[1] for p in self.parameter_value]\n",
        "\n",
        "        self.history = []\n",
        "        self.header =   'Evaluation \\t Proposed point \\t  Current eval. \\t  Best eval. \\t        Exact EI: StdDev. x \\t Approx EI: StdDev. x '\n",
        "        self.template = '{:3}\\t {}\\t {:3}\\t {:3}\\t {:3}\\t {:3}'\n",
        " \n",
        "    def acqfuncExact(self, xnew, n_start=n_start_AcqFunc):\n",
        "        new_mean, new_var = self.GP.predict(xnew, return_std=True)\n",
        "        new_std = np.sqrt(new_var + eps)\n",
        "        dm, ds = self.GP.AcqGrad(xnew)\n",
        "        f, df = self.A.d_eval(y_global_orig, new_mean, new_std, ds=ds, dm=dm)\n",
        "\n",
        "        return -f, -df\n",
        "   \n",
        "    def acqfuncApprox(self, xnew, n_start=n_start_AcqFunc):\n",
        "        new_mean, new_var = self.GP.predict(xnew, return_std=True)\n",
        "        new_std = np.sqrt(new_var + eps)\n",
        "        dm, ds = self.GP.AcqGrad(xnew)\n",
        "        f, df = self.A.d_eval(y_global_orig, new_mean, new_std, ds=ds, dm=dm)\n",
        "\n",
        "        return -f\n",
        "   \n",
        "    def _optimizeAcq(self, method='L-BFGS-B', n_start=n_start_AcqFunc):\n",
        "        \n",
        "        start_points_dict = [self._sampleParam() for i in range(n_start)]\n",
        "        start_points_arr = np.array([list(s.values())\n",
        "                                     for s in start_points_dict])\n",
        "        x_best = np.empty((n_start, len(self.parameter_key)))\n",
        "        f_best = np.empty((n_start,))\n",
        "        opt = Parallel(n_jobs=self.n_jobs)(delayed(minimize)(self.acqfuncApprox,\n",
        "                                                                 x0=start_point,\n",
        "                                                                 method=method,\n",
        "                                                                 jac = False,\n",
        "                                                                 bounds=self.parameter_range) for start_point in\n",
        "                                               start_points_arr)\n",
        "        x_best = np.array([res.x for res in opt])\n",
        "        f_best = np.array([np.atleast_1d(res.fun)[0] for res in opt])\n",
        "        f_best_min = min(f_best)\n",
        "\n",
        "        self.x_best = x_best\n",
        "        self.f_best = f_best\n",
        "        self.f_best_min = f_best_min\n",
        "        self.x_best_std = np.std(x_best)\n",
        "        self.best = x_best[np.argmin(f_best)]\n",
        "        self.start_points_arr = start_points_arr        \n",
        "        self.history.append(self.x_best_std)\n",
        "\n",
        "        x_best_exact = np.empty((n_start, len(self.parameter_key)))\n",
        "        f_best_exact = np.empty((n_start,))\n",
        "        opt_exact = Parallel(n_jobs=self.n_jobs)(delayed(minimize)(self.acqfuncExact,\n",
        "                                                                 x0=start_point,\n",
        "                                                                 method=method,\n",
        "                                                                 jac = True,\n",
        "                                                                 bounds=self.parameter_range) for start_point in\n",
        "                                               start_points_arr)\n",
        "        x_best_exact = np.array([res.x for res in opt_exact])\n",
        "        f_best_exact = np.array([np.atleast_1d(res.fun)[0] for res in opt_exact])\n",
        "        f_best_min_exact = min(f_best_exact)\n",
        "\n",
        "        self.x_best_exact = x_best_exact\n",
        "        self.f_best_exact = f_best_exact\n",
        "        self.f_best_min_exact = f_best_min_exact\n",
        "        self.x_best_std_exact = np.std(x_best_exact)\n",
        "        self.best_exact = x_best_exact[np.argmin(f_best_exact)]\n",
        "        self.start_points_arr = start_points_arr\n",
        "        self.history.append(self.x_best_std_exact)\n",
        "\n",
        "    def _printInit(self):\n",
        "        print(self.header)\n",
        "        for init_eval in range(self.init_evals):\n",
        "            print(self.template.format('init', self.GP.X[init_eval], inverse * self.GP.y[init_eval], inverse * self.tau, '', ''))\n",
        "      \n",
        "    def _printCurrent(self):\n",
        "        OKGREEN = '\\033[92m'\n",
        "        ENDC = '\\033[0m'\n",
        "        BOLD = '\\033[1m'\n",
        "        eval = str(len(self.GP.y) - self.init_evals)\n",
        "        proposed = str(self.best)\n",
        "        curr_eval = str(inverse * self.GP.y[-1])\n",
        "        curr_best = str(inverse * self.tau)\n",
        "        min_acqfunc = str(self.f_best_min)\n",
        "        min_acqfunc_exact = str(self.f_best_min_exact)\n",
        "        x_best_std = str(self.x_best_std)\n",
        "        x_best_std_exact = str(self.x_best_std_exact)\n",
        "        if float(curr_eval) <= float(curr_best):\n",
        "            eval = BOLD + OKGREEN + eval + ENDC\n",
        "            proposed = BOLD + OKGREEN + proposed + ENDC\n",
        "            curr_eval = BOLD + OKGREEN + curr_eval + ENDC\n",
        "            curr_best = BOLD + OKGREEN + curr_best + ENDC\n",
        "            x_best_std = BOLD + OKGREEN + x_best_std + ENDC\n",
        "            x_best_std_exact = BOLD + OKGREEN + x_best_std_exact + ENDC\n",
        "        print(self.template.format(eval, proposed, curr_eval, curr_best, x_best_std_exact, x_best_std))\n",
        "        \n",
        "    def run(self, max_iter=10, init_evals=3, resume=False):\n",
        "        \n",
        "        if not resume:\n",
        "            self.init_evals = init_evals\n",
        "            self._firstRun(self.init_evals)\n",
        "            self._printInit()\n",
        "        for iteration in range(max_iter):\n",
        "            self._optimizeAcq()\n",
        "            self.updateGP()\n",
        "            self._printCurrent()\n"
      ]
    },
    {
      "cell_type": "code",
      "execution_count": 10,
      "metadata": {
        "id": "b_B-w81BJxKN"
      },
      "outputs": [],
      "source": [
        "## dGPGO:\n",
        "\n",
        "class dGPGO(GPGO):\n",
        "    n_start = n_start_AcqFunc\n",
        "\n",
        "    def __init__(self, surrogate, acquisition, f, parameter_dict, n_jobs=1):\n",
        "        self.GP = surrogate\n",
        "        self.A = acquisition\n",
        "        self.f = f\n",
        "        self.parameters = parameter_dict\n",
        "        self.n_jobs = n_jobs\n",
        "\n",
        "        self.parameter_key = list(parameter_dict.keys())\n",
        "        self.parameter_value = list(parameter_dict.values())\n",
        "        self.parameter_type = [p[0] for p in self.parameter_value]\n",
        "        self.parameter_range = [p[1] for p in self.parameter_value]\n",
        "\n",
        "        self.history = []\n",
        "        self.header =   'Evaluation \\t Proposed point \\t  Current eval. \\t  Best eval. \\t        Exact EI: StdDev. x \\t Approx EI: StdDev. x '\n",
        "        self.template = '{:3}\\t {}\\t {:3}\\t {:3}\\t {:3}\\t {:3}'\n",
        "\n",
        "    def acqfuncExact(self, xnew, n_start=n_start_AcqFunc):\n",
        "        new_mean, new_var = self.GP.predict(xnew, return_std=True)\n",
        "        new_std = np.sqrt(new_var + eps)\n",
        "        dm, ds = self.GP.AcqGrad(xnew)\n",
        "        f, df = self.A.d_eval(y_global_orig, new_mean, new_std, ds=ds, dm=dm)\n",
        "\n",
        "        return -f, -df\n",
        "   \n",
        "    def acqfuncApprox(self, xnew, n_start=n_start_AcqFunc):\n",
        "        new_mean, new_var = self.GP.predict(xnew, return_std=True)\n",
        "        new_std = np.sqrt(new_var + eps)\n",
        "        dm, ds = self.GP.AcqGrad(xnew)\n",
        "        f, df = self.A.d_eval(y_global_orig, new_mean, new_std, ds=ds, dm=dm)\n",
        "\n",
        "        return -f\n",
        "\n",
        "    def d_optimizeAcq(self, method='L-BFGS-B', n_start=n_start_AcqFunc):\n",
        "        start_points_dict = [self._sampleParam() for i in range(n_start)]\n",
        "        start_points_arr = np.array([list(s.values())\n",
        "                                     for s in start_points_dict])\n",
        "        x_best = np.empty((n_start, len(self.parameter_key)))\n",
        "        f_best = np.empty((n_start,))\n",
        "        opt = Parallel(n_jobs=self.n_jobs)(delayed(minimize)(self.acqfuncExact,\n",
        "                                                                 x0=start_point,\n",
        "                                                                 method=method,\n",
        "                                                                 jac = True,\n",
        "                                                                 bounds=self.parameter_range) for start_point in\n",
        "                                               start_points_arr)\n",
        "        x_best = np.array([res.x for res in opt])\n",
        "        f_best = np.array([np.atleast_1d(res.fun)[0] for res in opt])\n",
        "        f_best_min = min(f_best)\n",
        "\n",
        "        self.x_best = x_best\n",
        "        self.f_best = f_best\n",
        "        self.f_best_min = f_best_min\n",
        "        self.x_best_std = np.std(x_best)\n",
        "        self.best = x_best[np.argmin(f_best)]\n",
        "        self.start_points_arr = start_points_arr\n",
        "        self.history.append(self.x_best_std)\n",
        "\n",
        "        x_best_approx = np.empty((n_start, len(self.parameter_key)))\n",
        "        f_best_approx = np.empty((n_start,))\n",
        "        opt_approx = Parallel(n_jobs=self.n_jobs)(delayed(minimize)(self.acqfuncApprox,\n",
        "                                                                 x0=start_point,\n",
        "                                                                 method=method,\n",
        "                                                                 jac = False,\n",
        "                                                                 bounds=self.parameter_range) for start_point in\n",
        "                                               start_points_arr)\n",
        "        x_best_approx = np.array([res.x for res in opt_approx])\n",
        "        f_best_approx = np.array([np.atleast_1d(res.fun)[0] for res in opt_approx])\n",
        "        f_best_min_approx = min(f_best_approx)\n",
        "\n",
        "        self.x_best_approx = x_best_approx\n",
        "        self.f_best_approx = f_best_approx\n",
        "        self.f_best_min_approx = f_best_min_approx\n",
        "        self.x_best_std_approx = np.std(x_best_approx)\n",
        "        self.best_approx = x_best_approx[np.argmin(f_best_approx)]\n",
        "        self.start_points_arr = start_points_arr\n",
        "        self.history.append(self.x_best_std_approx)\n",
        "    \n",
        "    def _printInit(self):\n",
        "        print(self.header)\n",
        "        for init_eval in range(self.init_evals):\n",
        "            print(self.template.format('init', self.GP.X[init_eval], inverse * self.GP.y[init_eval], inverse * self.tau, '', ''))\n",
        "      \n",
        "    def _printCurrent(self):\n",
        "        OKGREEN = '\\033[92m'\n",
        "        ENDC = '\\033[0m'\n",
        "        BOLD = '\\033[1m'\n",
        "        eval = str(len(self.GP.y) - self.init_evals)\n",
        "        proposed = str(self.best)\n",
        "        curr_eval = str(inverse * self.GP.y[-1])\n",
        "        curr_best = str(inverse * self.tau)\n",
        "        min_acqfunc = str(self.f_best_min)\n",
        "        min_acqfunc_approx = str(self.f_best_min_approx)\n",
        "        x_best_std = str(self.x_best_std)\n",
        "        x_best_std_approx = str(self.x_best_std_approx)\n",
        "        if float(curr_eval) <= float(curr_best):\n",
        "            eval = BOLD + OKGREEN + eval + ENDC\n",
        "            proposed = BOLD + OKGREEN + proposed + ENDC\n",
        "            curr_eval = BOLD + OKGREEN + curr_eval + ENDC\n",
        "            curr_best = BOLD + OKGREEN + curr_best + ENDC\n",
        "            x_best_std = BOLD + OKGREEN + x_best_std + ENDC\n",
        "            x_best_std_approx = BOLD + OKGREEN + x_best_std_approx + ENDC\n",
        "        print(self.template.format(eval, proposed, curr_eval, curr_best, x_best_std, x_best_std_approx))\n",
        "\n",
        "    def run(self, max_iter=10, init_evals=3, resume=False):\n",
        "        \n",
        "        if not resume:\n",
        "            self.init_evals = init_evals\n",
        "            self._firstRun(self.init_evals)\n",
        "            self._printInit()\n",
        "        for iteration in range(max_iter):\n",
        "            self.d_optimizeAcq()\n",
        "            self.updateGP()\n",
        "            self._printCurrent()\n"
      ]
    },
    {
      "cell_type": "code",
      "execution_count": 11,
      "metadata": {
        "id": "qXIKGuXVGEg2"
      },
      "outputs": [],
      "source": [
        "###Reproducible set-seeds:\n",
        "\n",
        "run_num_1 = 1\n",
        "run_num_2 = 2\n",
        "run_num_3 = 3\n",
        "run_num_4 = 4\n",
        "run_num_5 = 5\n",
        "run_num_6 = 6\n",
        "run_num_7 = 7\n",
        "run_num_8 = 8\n",
        "run_num_9 = 9\n",
        "run_num_10 = 10\n",
        "run_num_11 = 11\n",
        "run_num_12 = 12\n",
        "run_num_13 = 13\n",
        "run_num_14 = 14\n",
        "run_num_15 = 15\n",
        "run_num_16 = 16\n",
        "run_num_17 = 17\n",
        "run_num_18 = 18\n",
        "run_num_19 = 19\n",
        "run_num_20 = 20\n"
      ]
    },
    {
      "cell_type": "code",
      "execution_count": 12,
      "metadata": {
        "colab": {
          "base_uri": "https://localhost:8080/"
        },
        "id": "JEhagQmnTVIK",
        "outputId": "b01bd433-ea10-4fdc-b8f3-1e0dd5681b74"
      },
      "outputs": [
        {
          "output_type": "execute_result",
          "data": {
            "text/plain": [
              "1659620213.9034805"
            ]
          },
          "metadata": {},
          "execution_count": 12
        }
      ],
      "source": [
        "start_approx = time.time()\n",
        "start_approx\n"
      ]
    },
    {
      "cell_type": "code",
      "execution_count": 13,
      "metadata": {
        "colab": {
          "base_uri": "https://localhost:8080/"
        },
        "id": "aH0YSTXufD1v",
        "outputId": "9d97fcd7-66db-4c29-ea67-0d704aff3cc7"
      },
      "outputs": [
        {
          "output_type": "stream",
          "name": "stdout",
          "text": [
            "Evaluation \t Proposed point \t  Current eval. \t  Best eval. \t        Exact EI: StdDev. x \t Approx EI: StdDev. x \n",
            "init\t [-0.74680196  1.98292044]\t 6.597029498756062\t 6.597029498756062\t    \t    \n",
            "init\t [-4.49897063 -1.77900685]\t 1305.4710589552556\t 6.597029498756062\t    \t    \n",
            "init\t [-3.17919698 -3.66895265]\t 28173.776013477825\t 6.597029498756062\t    \t    \n",
            "init\t [-2.8236581  -1.38995346]\t 237.9931764117774\t 6.597029498756062\t    \t    \n",
            "init\t [-0.92909273  0.34935061]\t 26.1790631757263\t 6.597029498756062\t    \t    \n",
            "1  \t [-2.52382181 -0.50243819]\t 75.02560376296583\t 6.597029498756062\t 3.2978783434865053\t 3.4035902288027806\n",
            "2  \t [4.30710061 4.5       ]\t 160253.78777695354\t 6.597029498756062\t 2.7539024226766666\t 3.3156788158036368\n",
            "3  \t [ 3.38561684 -2.60084398]\t 4227.065832155586\t 6.597029498756062\t 2.759551730795315\t 3.249851951199691\n",
            "4  \t [-2.50840694 -0.55073304]\t 75.86071973952123\t 6.597029498756062\t 2.936431836554072\t 3.2381457304535277\n",
            "5  \t [-4.5  4.5]\t 169680.83203125\t 6.597029498756062\t 2.278968805516251\t 2.612666644205721\n",
            "6  \t [1.20398802 0.84069103]\t 9.873901471185677\t 6.597029498756062\t 2.3892846823874834\t 2.379155115168525\n",
            "\u001b[1m\u001b[92m7\u001b[0m\t \u001b[1m\u001b[92m[-0.06356966  3.00245206]\u001b[0m\t \u001b[1m\u001b[92m5.850662028272972\u001b[0m\t \u001b[1m\u001b[92m5.850662028272972\u001b[0m\t \u001b[1m\u001b[92m2.6754148135758755\u001b[0m\t \u001b[1m\u001b[92m2.674334685870212\u001b[0m\n",
            "8  \t [-0.00227124 -1.12343633]\t 14.24379940409637\t 5.850662028272972\t 2.8221675384194844\t 2.8192049345023213\n",
            "9  \t [-0.09035033  4.5       ]\t 32.108568959325076\t 5.850662028272972\t 2.590061602119002\t 2.6193979892505452\n",
            "10 \t [0.19768884 2.12672806]\t 30.38884898318051\t 5.850662028272972\t 2.666222697719758\t 2.667845392680226\n",
            "11 \t [-0.65036404  2.76928568]\t 115.50146009089603\t 5.850662028272972\t 2.4105485924870558\t 2.4105485924870558\n",
            "12 \t [ 0.65164601 -4.09639199]\t 1993.974724363242\t 5.850662028272972\t 2.649348925724384\t 2.649348925724384\n",
            "13 \t [-0.38730869  1.40606399]\t 9.052573621230184\t 5.850662028272972\t 2.1865485862059058\t 2.1865485862059058\n",
            "\u001b[1m\u001b[92m14\u001b[0m\t \u001b[1m\u001b[92m[1.61437823 0.66819161]\u001b[0m\t \u001b[1m\u001b[92m4.996588206114933\u001b[0m\t \u001b[1m\u001b[92m4.996588206114933\u001b[0m\t \u001b[1m\u001b[92m2.6593182988919946\u001b[0m\t \u001b[1m\u001b[92m2.6535502047878787\u001b[0m\n",
            "15 \t [-2.57271181 -0.54123201]\t 77.84800235631958\t 4.996588206114933\t 2.331095858501152\t 2.335776928002453\n",
            "16 \t [0.59599329 0.13771169]\t 7.868800149841322\t 4.996588206114933\t 2.575115762078718\t 2.5736167055095285\n",
            "17 \t [ 0.24856895 -0.81818251]\t 10.816790898344008\t 4.996588206114933\t 2.547038768151501\t 2.547038768151501\n",
            "18 \t [-0.23394339 -1.35749328]\t 20.285171989683334\t 4.996588206114933\t 2.589360568831159\t 2.589360568831159\n",
            "19 \t [0.86267422 0.4123549 ]\t 6.6619938860014205\t 4.996588206114933\t 2.898385083080717\t 2.89834314219644\n",
            "20 \t [0.88617543 0.24542799]\t 5.768794655533524\t 4.996588206114933\t 2.604118984972797\t 2.6041188308404664\n"
          ]
        }
      ],
      "source": [
        "### ESTIMATED GP EI GRADIENTS\n",
        "\n",
        "np.random.seed(run_num_1)\n",
        "surrogate_approx_1 = dGaussianProcess(cov_func, optimize=opt)\n",
        "\n",
        "approx_1 = GPGO_multi(surrogate_approx_1, Acquisition_grad(util), objfunc, param)\n",
        "approx_1.run(init_evals=n_init, max_iter=iters)\n"
      ]
    },
    {
      "cell_type": "code",
      "execution_count": 14,
      "metadata": {
        "id": "wTxsSZxFGBB5",
        "colab": {
          "base_uri": "https://localhost:8080/"
        },
        "outputId": "cd0220f2-dcd2-4c29-dbd9-4f5435207fdc"
      },
      "outputs": [
        {
          "output_type": "stream",
          "name": "stdout",
          "text": [
            "Evaluation \t Proposed point \t  Current eval. \t  Best eval. \t        Exact EI: StdDev. x \t Approx EI: StdDev. x \n",
            "init\t [-0.57604588 -4.26666391]\t 2377.8441741808733\t 8.81624267140378\t    \t    \n",
            "init\t [ 0.4469623  -0.58209847]\t 8.81624267140378\t 8.81624267140378\t    \t    \n",
            "init\t [-0.71668978 -1.52698661]\t 47.3742628518178\t 8.81624267140378\t    \t    \n",
            "init\t [-2.65816229  1.0734387 ]\t 9.08861590265506\t 8.81624267140378\t    \t    \n",
            "init\t [-1.80310794 -2.09855452]\t 510.2220943696988\t 8.81624267140378\t    \t    \n",
            "1  \t [ 0.24985681 -0.61802135]\t 10.956669277182344\t 8.81624267140378\t 2.998538789286882\t 3.1022210661615732\n",
            "2  \t [2.76492634 4.5       ]\t 66612.67125562776\t 8.81624267140378\t 2.67791829255027\t 3.0047911587024396\n",
            "3  \t [ 4.5        -2.31841352]\t 4020.1447802656485\t 8.81624267140378\t 2.59722168522031\t 3.7327470638909808\n",
            "4  \t [-4.5  4.5]\t 169680.83203125\t 8.81624267140378\t 2.7167015174937434\t 3.1565276599271006\n",
            "5  \t [-2.00936545  0.7526723 ]\t 27.998757145816207\t 8.81624267140378\t 2.7500477114725763\t 2.8344455913615136\n",
            "6  \t [-4.5        -0.29233973]\t 146.41588626273517\t 8.81624267140378\t 2.6428957266885527\t 2.689315739049741\n",
            "7  \t [ 0.41292619 -0.78642993]\t 9.004590489343393\t 8.81624267140378\t 2.583628116956043\t 2.5864954681774592\n",
            "\u001b[1m\u001b[92m8\u001b[0m\t \u001b[1m\u001b[92m[-0.65514569  1.45488706]\u001b[0m\t \u001b[1m\u001b[92m5.3444357231570985\u001b[0m\t \u001b[1m\u001b[92m5.3444357231570985\u001b[0m\t \u001b[1m\u001b[92m2.422561855387983\u001b[0m\t \u001b[1m\u001b[92m2.4188698489354867\u001b[0m\n",
            "9  \t [-0.09516153  0.87425968]\t 14.507340302135116\t 5.3444357231570985\t 2.478635914185648\t 2.4763550119533\n",
            "10 \t [-0.24418429  1.12421158]\t 13.298337427900336\t 5.3444357231570985\t 2.527205513447223\t 2.527205513447223\n",
            "11 \t [ 0.74937738 -0.39393716]\t 6.170025847342892\t 5.3444357231570985\t 2.676516684951061\t 2.676516778645128\n",
            "12 \t [ 0.51150334 -0.89259417]\t 7.9499607787253845\t 5.3444357231570985\t 2.084785475488134\t 2.0890211859843215\n",
            "\u001b[1m\u001b[92m13\u001b[0m\t \u001b[1m\u001b[92m[ 0.8946007  -0.16263996]\u001b[0m\t \u001b[1m\u001b[92m5.094301351940828\u001b[0m\t \u001b[1m\u001b[92m5.094301351940828\u001b[0m\t \u001b[1m\u001b[92m2.6902581605396874\u001b[0m\t \u001b[1m\u001b[92m2.6902581605396874\u001b[0m\n",
            "14 \t [-0.45232074 -0.2699137 ]\t 20.953417854841803\t 5.094301351940828\t 2.7606059437569965\t 2.7606059437569965\n",
            "15 \t [ 0.7182384 -0.9610586]\t 6.437940892507614\t 5.094301351940828\t 2.4873670859165817\t 2.4917398812735985\n",
            "16 \t [-0.98098234  1.09966722]\t 11.443898308496951\t 5.094301351940828\t 2.3769114227716504\t 2.3769114227716504\n",
            "17 \t [-0.35770512  0.1922898 ]\t 18.812927262574632\t 5.094301351940828\t 2.5743162266503363\t 2.5743162266503363\n",
            "18 \t [ 0.32593988 -1.19235412]\t 9.367195411676493\t 5.094301351940828\t 2.5131202194360225\t 2.5131202194360225\n",
            "19 \t [-4.5 -4.5]\t 181853.61328125\t 5.094301351940828\t 2.535918282323324\t 2.535918282323324\n",
            "20 \t [0.61135815 0.85685245]\t 12.104349412384298\t 5.094301351940828\t 2.6053125115320728\t 2.6053125115320728\n"
          ]
        }
      ],
      "source": [
        "### ESTIMATED GP EI GRADIENTS\n",
        "\n",
        "np.random.seed(run_num_2)\n",
        "surrogate_approx_2 = dGaussianProcess(cov_func, optimize=opt)\n",
        "\n",
        "approx_2 = GPGO_multi(surrogate_approx_2, Acquisition_grad(util), objfunc, param)\n",
        "approx_2.run(init_evals=n_init, max_iter=iters)\n"
      ]
    },
    {
      "cell_type": "code",
      "execution_count": 15,
      "metadata": {
        "id": "-dgzIrUIGCGT",
        "colab": {
          "base_uri": "https://localhost:8080/"
        },
        "outputId": "f325a2e9-4642-4694-a581-de432d9f0f20"
      },
      "outputs": [
        {
          "output_type": "stream",
          "name": "stdout",
          "text": [
            "Evaluation \t Proposed point \t  Current eval. \t  Best eval. \t        Exact EI: StdDev. x \t Approx EI: StdDev. x \n",
            "init\t [0.45718112 1.8733304 ]\t 41.912714742005974\t 41.912714742005974\t    \t    \n",
            "init\t [-1.88185735  0.09744845]\t 47.451188393399434\t 41.912714742005974\t    \t    \n",
            "init\t [3.53652259 3.5666378 ]\t 27475.816689924115\t 41.912714742005974\t    \t    \n",
            "init\t [-3.36973221 -2.6348141 ]\t 5079.048973002421\t 41.912714742005974\t    \t    \n",
            "init\t [-4.03679517 -0.53271141]\t 138.4086524103332\t 41.912714742005974\t    \t    \n",
            "\u001b[1m\u001b[92m1\u001b[0m\t \u001b[1m\u001b[92m[-4.5         1.09206165]\u001b[0m\t \u001b[1m\u001b[92m4.6906305419188\u001b[0m\t \u001b[1m\u001b[92m4.6906305419188\u001b[0m\t \u001b[1m\u001b[92m2.096364503506925\u001b[0m\t \u001b[1m\u001b[92m2.775323208047297\u001b[0m\n",
            "2  \t [ 2.58173398 -3.43501681]\t 11947.37681078836\t 4.6906305419188\t 2.5108738981099\t 2.997670050128498\n",
            "3  \t [-2.97312455  4.5       ]\t 73501.27509213456\t 4.6906305419188\t 2.5705415031116656\t 3.1531393063650945\n",
            "4  \t [ 4.5        -0.25471473]\t 24.825065329969906\t 4.6906305419188\t 2.3653423474551043\t 2.3837695546308577\n",
            "5  \t [ 0.41694684 -0.203692  ]\t 9.280006633321474\t 4.6906305419188\t 2.5228844536029906\t 2.519910369449872\n",
            "\u001b[1m\u001b[92m6\u001b[0m\t \u001b[1m\u001b[92m[1.34450893 0.13746578]\u001b[0m\t \u001b[1m\u001b[92m2.6309994959181147\u001b[0m\t \u001b[1m\u001b[92m2.6309994959181147\u001b[0m\t \u001b[1m\u001b[92m2.53491635490148\u001b[0m\t \u001b[1m\u001b[92m2.5374755696852596\u001b[0m\n",
            "\u001b[1m\u001b[92m7\u001b[0m\t \u001b[1m\u001b[92m[1.34916149 0.13783908]\u001b[0m\t \u001b[1m\u001b[92m2.60858076826927\u001b[0m\t \u001b[1m\u001b[92m2.60858076826927\u001b[0m\t \u001b[1m\u001b[92m2.49560493673796\u001b[0m\t \u001b[1m\u001b[92m2.5017852021317224\u001b[0m\n",
            "\u001b[1m\u001b[92m8\u001b[0m\t \u001b[1m\u001b[92m[1.3516393  0.13795829]\u001b[0m\t \u001b[1m\u001b[92m2.59654431057353\u001b[0m\t \u001b[1m\u001b[92m2.59654431057353\u001b[0m\t \u001b[1m\u001b[92m2.600824887281703\u001b[0m\t \u001b[1m\u001b[92m2.5988834086499213\u001b[0m\n",
            "9  \t [0.05124139 4.5       ]\t 65.75740059591121\t 2.59654431057353\t 2.5712366480112374\t 2.5031243385805255\n",
            "10 \t [-0.24943384 -1.83970239]\t 27.21944749788556\t 2.59654431057353\t 2.623268433089555\t 2.623268033992001\n",
            "\u001b[1m\u001b[92m11\u001b[0m\t \u001b[1m\u001b[92m[1.81827583 0.11671529]\u001b[0m\t \u001b[1m\u001b[92m0.875110745030007\u001b[0m\t \u001b[1m\u001b[92m0.875110745030007\u001b[0m\t \u001b[1m\u001b[92m2.566898475116475\u001b[0m\t \u001b[1m\u001b[92m2.566669043805286\u001b[0m\n",
            "\u001b[1m\u001b[92m12\u001b[0m\t \u001b[1m\u001b[92m[1.83273102 0.1160936 ]\u001b[0m\t \u001b[1m\u001b[92m0.8419707816244119\u001b[0m\t \u001b[1m\u001b[92m0.8419707816244119\u001b[0m\t \u001b[1m\u001b[92m2.4824016295268954\u001b[0m\t \u001b[1m\u001b[92m2.4883414922922973\u001b[0m\n",
            "\u001b[1m\u001b[92m13\u001b[0m\t \u001b[1m\u001b[92m[1.84243028 0.11563356]\u001b[0m\t \u001b[1m\u001b[92m0.8204233821481377\u001b[0m\t \u001b[1m\u001b[92m0.8204233821481377\u001b[0m\t \u001b[1m\u001b[92m2.6072118753306137\u001b[0m\t \u001b[1m\u001b[92m2.6170794779782596\u001b[0m\n",
            "\u001b[1m\u001b[92m14\u001b[0m\t \u001b[1m\u001b[92m[1.84849941 0.11534013]\u001b[0m\t \u001b[1m\u001b[92m0.8072245756372239\u001b[0m\t \u001b[1m\u001b[92m0.8072245756372239\u001b[0m\t \u001b[1m\u001b[92m2.384485257116425\u001b[0m\t \u001b[1m\u001b[92m2.3975783646022535\u001b[0m\n",
            "15 \t [3.11283012 0.25854701]\t 1.2699699883399493\t 0.8072245756372239\t 2.526514376886212\t 2.526514376886212\n",
            "\u001b[1m\u001b[92m16\u001b[0m\t \u001b[1m\u001b[92m[2.32301403 0.08554685]\u001b[0m\t \u001b[1m\u001b[92m0.4849484073149676\u001b[0m\t \u001b[1m\u001b[92m0.4849484073149676\u001b[0m\t \u001b[1m\u001b[92m2.6768356816175984\u001b[0m\t \u001b[1m\u001b[92m2.690338148734375\u001b[0m\n",
            "17 \t [0.78279883 1.14906861]\t 18.047562471994674\t 0.4849484073149676\t 2.3828563608183195\t 2.3828563608183195\n",
            "\u001b[1m\u001b[92m18\u001b[0m\t \u001b[1m\u001b[92m[2.31220501 0.08396197]\u001b[0m\t \u001b[1m\u001b[92m0.48281373796811866\u001b[0m\t \u001b[1m\u001b[92m0.48281373796811866\u001b[0m\t \u001b[1m\u001b[92m2.852678569237175\u001b[0m\t \u001b[1m\u001b[92m2.863397584878749\u001b[0m\n",
            "\u001b[1m\u001b[92m19\u001b[0m\t \u001b[1m\u001b[92m[2.30445782 0.0849378 ]\u001b[0m\t \u001b[1m\u001b[92m0.47562864406249716\u001b[0m\t \u001b[1m\u001b[92m0.47562864406249716\u001b[0m\t \u001b[1m\u001b[92m2.5484437048381188\u001b[0m\t \u001b[1m\u001b[92m2.5467970377037603\u001b[0m\n",
            "20 \t [ 3.86707618 -0.09636613]\t 11.557572132673855\t 0.47562864406249716\t 2.260353625818895\t 2.260353625818895\n"
          ]
        }
      ],
      "source": [
        "### ESTIMATED GP EI GRADIENTS\n",
        "\n",
        "np.random.seed(run_num_3)\n",
        "surrogate_approx_3 = dGaussianProcess(cov_func, optimize=opt)\n",
        "\n",
        "approx_3 = GPGO_multi(surrogate_approx_3, Acquisition_grad(util), objfunc, param)\n",
        "approx_3.run(init_evals=n_init, max_iter=iters)\n"
      ]
    },
    {
      "cell_type": "code",
      "execution_count": 16,
      "metadata": {
        "id": "hOtG-2sCGCKS",
        "colab": {
          "base_uri": "https://localhost:8080/"
        },
        "outputId": "c514a6fa-5ba6-4bd7-f2b1-ff4a9e17eae8"
      },
      "outputs": [
        {
          "output_type": "stream",
          "name": "stdout",
          "text": [
            "Evaluation \t Proposed point \t  Current eval. \t  Best eval. \t        Exact EI: StdDev. x \t Approx EI: StdDev. x \n",
            "init\t [4.20326855 0.42509024]\t 3.8409856613776237\t 3.8409856613776237\t    \t    \n",
            "init\t [4.25415924 1.93334394]\t 1070.6518137934977\t 3.8409856613776237\t    \t    \n",
            "init\t [ 1.77955942 -2.55519454]\t 1001.3529311398922\t 3.8409856613776237\t    \t    \n",
            "init\t [ 4.28647009 -4.4439277 ]\t 150069.47442764963\t 3.8409856613776237\t    \t    \n",
            "init\t [-2.22315874 -0.58687621]\t 67.08861688517413\t 3.8409856613776237\t    \t    \n",
            "1  \t [-4.5  4.5]\t 169680.83203125\t 3.8409856613776237\t 2.2295734349716296\t 3.1540475618274812\n",
            "2  \t [-4.5 -4.5]\t 181853.61328125\t 3.8409856613776237\t 2.85500163605401\t 2.9548488750250406\n",
            "3  \t [0.88266793 4.5       ]\t 7144.095938895499\t 3.8409856613776237\t 2.740838311323469\t 2.773682692857841\n",
            "4  \t [0.32221556 0.44213347]\t 11.138075099025004\t 3.8409856613776237\t 2.6610224358704158\t 2.6604646004181345\n",
            "5  \t [-1.46538152  0.84733319]\t 20.29718280532362\t 3.8409856613776237\t 2.4163917405236504\t 2.4163917405236504\n",
            "6  \t [1.25164399 0.44590506]\t 4.409182864424804\t 3.8409856613776237\t 2.6121746585582213\t 2.603733010885029\n",
            "7  \t [ 4.10080366 -0.28245673]\t 18.91161614368657\t 3.8409856613776237\t 2.0926136930765926\t 2.1280773314375434\n",
            "8  \t [1.18211417 0.45660387]\t 4.882372386925376\t 3.8409856613776237\t 2.362658195672177\t 2.3567638742412247\n",
            "9  \t [-0.62508139 -1.01514705]\t 27.833781277805606\t 3.8409856613776237\t 2.374077306528876\t 2.374077306528876\n",
            "10 \t [-0.24989273 -4.33286195]\t 551.165043045646\t 3.8409856613776237\t 3.1888002798908994\t 3.1888002798908994\n",
            "11 \t [-3.72326935  0.00644478]\t 103.0110571124927\t 3.8409856613776237\t 2.85711078142276\t 2.85711078142276\n",
            "12 \t [ 4.5        -0.28068526]\t 25.665386818765533\t 3.8409856613776237\t 2.637531648124498\t 2.6861249010246193\n",
            "13 \t [1.2456583  0.46777372]\t 4.6016758037588374\t 3.8409856613776237\t 2.529100401717771\t 2.533073576413505\n",
            "14 \t [-0.75485471  1.04199996]\t 13.311114503878152\t 3.8409856613776237\t 2.3514660664150173\t 2.3514660664150173\n",
            "\u001b[1m\u001b[92m15\u001b[0m\t \u001b[1m\u001b[92m[2.40257192 0.32987742]\u001b[0m\t \u001b[1m\u001b[92m0.11923650225605985\u001b[0m\t \u001b[1m\u001b[92m0.11923650225605985\u001b[0m\t \u001b[1m\u001b[92m2.5893740779023227\u001b[0m\t \u001b[1m\u001b[92m2.5893740779023227\u001b[0m\n",
            "16 \t [1.78858194 0.27781738]\t 1.1679771898181572\t 0.11923650225605985\t 2.5063083258354366\t 2.515086749983365\n",
            "17 \t [1.90945783 0.23419912]\t 0.7473974646989017\t 0.11923650225605985\t 2.483809586494702\t 2.4890647663663357\n",
            "18 \t [ 2.79182462 -0.12454477]\t 2.966245185796089\t 0.11923650225605985\t 2.5642543054835216\t 2.5582146203544425\n",
            "19 \t [ 0.38233586 -0.14433148]\t 9.671236974025433\t 0.11923650225605985\t 2.663826507669348\t 2.663826507669348\n",
            "20 \t [-1.21095663 -0.25525958]\t 35.4285665154855\t 0.11923650225605985\t 2.4235096009377775\t 2.4235096009377775\n"
          ]
        }
      ],
      "source": [
        "### ESTIMATED GP EI GRADIENTS\n",
        "\n",
        "np.random.seed(run_num_4)\n",
        "surrogate_approx_4 = dGaussianProcess(cov_func, optimize=opt)\n",
        "\n",
        "approx_4= GPGO_multi(surrogate_approx_4, Acquisition_grad(util), objfunc, param)\n",
        "approx_4.run(init_evals=n_init, max_iter=iters)\n"
      ]
    },
    {
      "cell_type": "code",
      "execution_count": 17,
      "metadata": {
        "id": "JF_SxcEvGCOl",
        "colab": {
          "base_uri": "https://localhost:8080/"
        },
        "outputId": "a6951916-e32c-4f3a-8f96-4cbac8c89476"
      },
      "outputs": [
        {
          "output_type": "stream",
          "name": "stdout",
          "text": [
            "Evaluation \t Proposed point \t  Current eval. \t  Best eval. \t        Exact EI: StdDev. x \t Approx EI: StdDev. x \n",
            "init\t [-2.50206146  3.33659076]\t 8263.905568073349\t 0.311397019260738\t    \t    \n",
            "init\t [-2.6395276   3.76749817]\t 19560.15202528338\t 0.311397019260738\t    \t    \n",
            "init\t [-0.1042993   1.00569477]\t 14.186578993925806\t 0.311397019260738\t    \t    \n",
            "init\t [2.39317071 0.16576189]\t 0.311397019260738\t 0.311397019260738\t    \t    \n",
            "init\t [-1.82879549 -2.81050894]\t 2208.9823086257425\t 0.311397019260738\t    \t    \n",
            "1  \t [ 3.80474653 -4.48007209]\t 123826.98871542915\t 0.311397019260738\t 3.235221350975919\t 3.3364866041675123\n",
            "2  \t [3.79323509 4.08267455]\t 70009.93922772788\t 0.311397019260738\t 2.920163841178715\t 2.9539271792973527\n",
            "3  \t [-4.5        -0.03092059]\t 133.96102986168466\t 0.311397019260738\t 2.5466837123945565\t 2.785317405778088\n",
            "4  \t [ 4.5       -0.1580616]\t 21.925381775484748\t 0.311397019260738\t 2.5305313703819716\t 2.6272527018516536\n",
            "5  \t [ 1.51049686 -0.92045356]\t 6.043739905660396\t 0.311397019260738\t 2.4471811652315663\t 2.4010005968459995\n",
            "6  \t [2.11049424 0.60241664]\t 2.208957827151619\t 0.311397019260738\t 2.8341512742379735\t 2.8039185856016418\n",
            "7  \t [-1.83174874  0.29740032]\t 42.56707825499316\t 0.311397019260738\t 2.226534955474656\t 2.210174622651323\n",
            "\u001b[1m\u001b[92m8\u001b[0m\t \u001b[1m\u001b[92m[2.55128375 0.27965419]\u001b[0m\t \u001b[1m\u001b[92m0.14124180147453175\u001b[0m\t \u001b[1m\u001b[92m0.14124180147453175\u001b[0m\t \u001b[1m\u001b[92m2.7154167997798595\u001b[0m\t \u001b[1m\u001b[92m2.7186646322965062\u001b[0m\n",
            "9  \t [2.55920074 0.27618965]\t 0.15149297109123044\t 0.14124180147453175\t 2.451906227236322\t 2.421871063774288\n",
            "10 \t [-4.5 -4.5]\t 181853.61328125\t 0.14124180147453175\t 2.513382662169552\t 2.4723473684241295\n",
            "11 \t [1.85822548 0.03122373]\t 0.8330628607795494\t 0.14124180147453175\t 2.59079504453888\t 2.5802376044514226\n",
            "12 \t [3.24477582 0.26095772]\t 1.7212047921229925\t 0.14124180147453175\t 2.385766736706037\t 2.385766736706037\n",
            "13 \t [ 2.268332   -0.02589701]\t 0.8115196392302455\t 0.14124180147453175\t 2.579236207725732\t 2.600323503313153\n",
            "14 \t [ 2.26477317 -0.01508091]\t 0.7682470412157656\t 0.14124180147453175\t 2.137005946920267\t 2.16001442627013\n",
            "15 \t [ 2.26309273 -0.00800017]\t 0.7414137601636259\t 0.14124180147453175\t 2.4063114268426795\t 2.423242561923646\n",
            "16 \t [-0.05109101 -0.84556476]\t 14.997740659685217\t 0.14124180147453175\t 2.448290592429518\t 2.448290592429518\n",
            "17 \t [2.22451629 0.00421151]\t 0.6724750081409159\t 0.14124180147453175\t 2.3944715147082056\t 2.446913809746155\n",
            "18 \t [2.23449672 0.00600299]\t 0.6726968113309163\t 0.14124180147453175\t 2.498405587531259\t 2.540411766027325\n",
            "19 \t [2.240688   0.00765156]\t 0.6713004839076477\t 0.14124180147453175\t 2.3097328130690147\t 2.3574887551528994\n",
            "20 \t [2.24467571 0.00912536]\t 0.6691326473988662\t 0.14124180147453175\t 2.5404462790441125\t 2.5836685370189905\n"
          ]
        }
      ],
      "source": [
        "### ESTIMATED GP EI GRADIENTS\n",
        "\n",
        "np.random.seed(run_num_5)\n",
        "surrogate_approx_5 = dGaussianProcess(cov_func, optimize=opt)\n",
        "\n",
        "approx_5 = GPGO_multi(surrogate_approx_5, Acquisition_grad(util), objfunc, param)\n",
        "approx_5.run(init_evals=n_init, max_iter=iters)\n"
      ]
    },
    {
      "cell_type": "code",
      "execution_count": 18,
      "metadata": {
        "id": "-kDxZtJsGCR3",
        "colab": {
          "base_uri": "https://localhost:8080/"
        },
        "outputId": "91b54787-1db7-42bc-b8b9-00d67e63b15a"
      },
      "outputs": [
        {
          "output_type": "stream",
          "name": "stdout",
          "text": [
            "Evaluation \t Proposed point \t  Current eval. \t  Best eval. \t        Exact EI: StdDev. x \t Approx EI: StdDev. x \n",
            "init\t [ 3.53574136 -1.51218175]\t 273.3122030790333\t 10.038000709758428\t    \t    \n",
            "init\t [ 2.89106211 -4.12473037]\t 43803.250406689425\t 10.038000709758428\t    \t    \n",
            "init\t [-3.53108988  0.85546858]\t 29.828433746298536\t 10.038000709758428\t    \t    \n",
            "init\t [ 0.26835626 -0.73073314]\t 10.658925295067505\t 10.038000709758428\t    \t    \n",
            "init\t [-1.48132936  1.10267489]\t 10.038000709758428\t 10.038000709758428\t    \t    \n",
            "1  \t [4.5        1.29263238]\t 97.23139566253874\t 10.038000709758428\t 3.223006977636138\t 3.2408672774276694\n",
            "2  \t [-4.5        -4.16803842]\t 116581.92498978533\t 10.038000709758428\t 3.1441423483546456\t 3.5797655762997658\n",
            "3  \t [1.02963219 4.5       ]\t 9618.242479766748\t 10.038000709758428\t 2.922951149929568\t 2.922815638305594\n",
            "4  \t [-4.5  4.5]\t 169680.83203125\t 10.038000709758428\t 2.657626171750966\t 3.3516757600611826\n",
            "\u001b[1m\u001b[92m5\u001b[0m\t \u001b[1m\u001b[92m[1.80699008 0.38494507]\u001b[0m\t \u001b[1m\u001b[92m1.5046088016727486\u001b[0m\t \u001b[1m\u001b[92m1.5046088016727486\u001b[0m\t \u001b[1m\u001b[92m2.4578611774586356\u001b[0m\t \u001b[1m\u001b[92m2.4613600977715793\u001b[0m\n",
            "6  \t [-1.56086703 -0.8180158 ]\t 51.872605552950645\t 1.5046088016727486\t 2.7672815683268404\t 2.7467711560577635\n",
            "7  \t [1.71045891 0.35817876]\t 1.7241328302995478\t 1.5046088016727486\t 2.9106671113069416\t 2.8956124341058667\n",
            "\u001b[1m\u001b[92m8\u001b[0m\t \u001b[1m\u001b[92m[1.75531594 0.32630059]\u001b[0m\t \u001b[1m\u001b[92m1.4314584346303458\u001b[0m\t \u001b[1m\u001b[92m1.4314584346303458\u001b[0m\t \u001b[1m\u001b[92m2.7369325118618937\u001b[0m\t \u001b[1m\u001b[92m2.734750913669154\u001b[0m\n",
            "9  \t [1.7510774  0.33311158]\t 1.4719996412171201\t 1.4314584346303458\t 2.399059751350459\t 2.4111498293482576\n",
            "10 \t [4.5        4.41553515]\t 156224.04338675746\t 1.4314584346303458\t 2.730985542294924\t 2.9389514203644667\n",
            "11 \t [4.41118925 0.4456419 ]\t 4.493547131823641\t 1.4314584346303458\t 2.883259889149602\t 2.9057453157571955\n",
            "12 \t [-1.86582338e-04 -6.10943830e-01]\t 14.205756039509927\t 1.4314584346303458\t 2.4191803351129484\t 2.4191803351129484\n",
            "13 \t [4.44720204 0.49320652]\t 3.4729996309923554\t 1.4314584346303458\t 2.4081784657144705\t 2.453888712636827\n",
            "14 \t [ 3.58234579 -0.48753539]\t 16.775132297966096\t 1.4314584346303458\t 2.6394087959342776\t 2.7127107796616725\n",
            "15 \t [-3.38467948  0.2315893 ]\t 82.16627707575017\t 1.4314584346303458\t 2.5397785772117487\t 2.5320857891018993\n",
            "16 \t [4.5        0.53711768]\t 2.6326948544590776\t 1.4314584346303458\t 2.5183083743335315\t 2.5876913280346185\n",
            "17 \t [ 3.55516748 -0.52055011]\t 17.4217864764921\t 1.4314584346303458\t 2.912428757546635\t 2.9677640383812087\n",
            "18 \t [ 3.63712474 -0.54469526]\t 19.61456449527478\t 1.4314584346303458\t 2.628070024619823\t 2.652775043696583\n",
            "19 \t [ 3.62451788 -0.54114746]\t 19.269898486896743\t 1.4314584346303458\t 2.787521952982348\t 2.8177690428071482\n",
            "20 \t [4.5       0.5587906]\t 2.137236167903457\t 1.4314584346303458\t 2.650585617555768\t 2.673006696212083\n"
          ]
        }
      ],
      "source": [
        "### ESTIMATED GP EI GRADIENTS\n",
        "\n",
        "np.random.seed(run_num_6)\n",
        "surrogate_approx_6 = dGaussianProcess(cov_func, optimize=opt)\n",
        "\n",
        "approx_6 = GPGO_multi(surrogate_approx_6, Acquisition_grad(util), objfunc, param)\n",
        "approx_6.run(init_evals=n_init, max_iter=iters)\n"
      ]
    },
    {
      "cell_type": "code",
      "execution_count": 19,
      "metadata": {
        "id": "fKB8MCD_GCVI",
        "colab": {
          "base_uri": "https://localhost:8080/"
        },
        "outputId": "3153e1f5-6ef9-4dfe-b388-fa8f5aa9925b"
      },
      "outputs": [
        {
          "output_type": "stream",
          "name": "stdout",
          "text": [
            "Evaluation \t Proposed point \t  Current eval. \t  Best eval. \t        Exact EI: StdDev. x \t Approx EI: StdDev. x \n",
            "init\t [-3.8132254   2.51926913]\t 3321.1422834954587\t 2.9676923934097053\t    \t    \n",
            "init\t [-0.55431692  2.0111866 ]\t 2.9676923934097053\t 2.9676923934097053\t    \t    \n",
            "init\t [4.30190561 0.34646283]\t 6.32173172477085\t 2.9676923934097053\t    \t    \n",
            "init\t [ 0.01008417 -3.8515398 ]\t 11.971894461559128\t 2.9676923934097053\t    \t    \n",
            "init\t [-2.08404918e+00 -1.05749257e-03]\t 53.820317186435204\t 2.9676923934097053\t    \t    \n",
            "1  \t [0.33834345 2.08872434]\t 43.80309046817578\t 2.9676923934097053\t 2.1089068638997626\t 2.214332945692641\n",
            "2  \t [-4.5 -4.5]\t 181853.61328125\t 2.9676923934097053\t 3.5204856843681354\t 3.73907723093039\n",
            "3  \t [ 4.5 -4.5]\t 178131.83203125\t 2.9676923934097053\t 3.0969309336829562\t 3.4458440060521354\n",
            "4  \t [4.5 4.5]\t 174813.36328125\t 2.9676923934097053\t 2.9055604202572023\t 2.8788529027065657\n",
            "\u001b[1m\u001b[92m5\u001b[0m\t \u001b[1m\u001b[92m[2.62818790e+00 1.05595433e-03]\u001b[0m\t \u001b[1m\u001b[92m1.4095876632713527\u001b[0m\t \u001b[1m\u001b[92m1.4095876632713527\u001b[0m\t \u001b[1m\u001b[92m2.7289840173494855\u001b[0m\t \u001b[1m\u001b[92m2.751050270382366\u001b[0m\n",
            "6  \t [2.68335922 0.00461086]\t 1.562366200902216\t 1.4095876632713527\t 2.7926392393033073\t 2.7279192798475562\n",
            "7  \t [ 0.64806847 -1.08801622]\t 6.938906910084471\t 1.4095876632713527\t 2.346949492623086\t 2.2999189292925335\n",
            "8  \t [3.02532229 0.01593863]\t 2.942014274056478\t 1.4095876632713527\t 2.7343146554415445\t 2.7696621640402417\n",
            "\u001b[1m\u001b[92m9\u001b[0m\t \u001b[1m\u001b[92m[2.58556581 0.01184848]\u001b[0m\t \u001b[1m\u001b[92m1.2267952817796752\u001b[0m\t \u001b[1m\u001b[92m1.2267952817796752\u001b[0m\t \u001b[1m\u001b[92m2.7245628021616137\u001b[0m\t \u001b[1m\u001b[92m2.768739359750578\u001b[0m\n",
            "10 \t [2.61288988 0.01258559]\t 1.2979466963797082\t 1.2267952817796752\t 2.8882719419103586\t 2.8304890735399386\n",
            "11 \t [-0.7155874  4.5      ]\t 3961.400639245868\t 1.2267952817796752\t 2.471400055814793\t 2.525229455052651\n",
            "12 \t [-0.28365748  1.19336961]\t 12.51232265465183\t 1.2267952817796752\t 2.699270524170732\t 2.6999891717991775\n",
            "13 \t [-0.27120536  1.25083756]\t 12.04275904129409\t 1.2267952817796752\t 2.652286734943767\t 2.6533998816948468\n",
            "14 \t [-0.26570576  1.27129258]\t 11.889462370783033\t 1.2267952817796752\t 2.3026851353374522\t 2.2649914507056694\n",
            "\u001b[1m\u001b[92m15\u001b[0m\t \u001b[1m\u001b[92m[2.57872585 0.02228792]\u001b[0m\t \u001b[1m\u001b[92m1.1523185262061564\u001b[0m\t \u001b[1m\u001b[92m1.1523185262061564\u001b[0m\t \u001b[1m\u001b[92m2.854324693375835\u001b[0m\t \u001b[1m\u001b[92m2.839488662190097\u001b[0m\n",
            "16 \t [-1.27968358  2.17814424]\t 93.3089278976705\t 1.1523185262061564\t 2.478578715052803\t 2.402368377330479\n",
            "17 \t [-0.05279596 -2.12919041]\t 17.190341280032616\t 1.1523185262061564\t 2.1148897184743047\t 2.0951578068404335\n",
            "\u001b[1m\u001b[92m18\u001b[0m\t \u001b[1m\u001b[92m[2.45112471 0.00925386]\u001b[0m\t \u001b[1m\u001b[92m0.9326052437410076\u001b[0m\t \u001b[1m\u001b[92m0.9326052437410076\u001b[0m\t \u001b[1m\u001b[92m2.8785855400084257\u001b[0m\t \u001b[1m\u001b[92m2.8609050324928695\u001b[0m\n",
            "\u001b[1m\u001b[92m19\u001b[0m\t \u001b[1m\u001b[92m[2.40606495 0.00495876]\u001b[0m\t \u001b[1m\u001b[92m0.8717458224376238\u001b[0m\t \u001b[1m\u001b[92m0.8717458224376238\u001b[0m\t \u001b[1m\u001b[92m2.739008953704202\u001b[0m\t \u001b[1m\u001b[92m2.717380821683081\u001b[0m\n",
            "20 \t [-0.60827297  1.33015328]\t 8.109805918574184\t 0.8717458224376238\t 2.607181563298456\t 2.6225138556623335\n"
          ]
        }
      ],
      "source": [
        "### ESTIMATED GP EI GRADIENTS\n",
        "\n",
        "np.random.seed(run_num_7)\n",
        "surrogate_approx_7 = dGaussianProcess(cov_func, optimize=opt)\n",
        "\n",
        "approx_7 = GPGO_multi(surrogate_approx_7, Acquisition_grad(util), objfunc, param)\n",
        "approx_7.run(init_evals=n_init, max_iter=iters)\n"
      ]
    },
    {
      "cell_type": "code",
      "execution_count": 20,
      "metadata": {
        "id": "4unvifF-GCXp",
        "colab": {
          "base_uri": "https://localhost:8080/"
        },
        "outputId": "b14ab0cf-0280-4ca0-f478-b604fbba46d1"
      },
      "outputs": [
        {
          "output_type": "stream",
          "name": "stdout",
          "text": [
            "Evaluation \t Proposed point \t  Current eval. \t  Best eval. \t        Exact EI: StdDev. x \t Approx EI: StdDev. x \n",
            "init\t [3.36086463 4.21686597]\t 66731.07602386779\t 1.8693348557707412\t    \t    \n",
            "init\t [3.32275086 0.27770122]\t 1.8693348557707412\t 1.8693348557707412\t    \t    \n",
            "init\t [-2.40544505 -4.39741076]\t 45883.361726150484\t 1.8693348557707412\t    \t    \n",
            "init\t [-0.62578064 -0.87883776]\t 26.39306084619828\t 1.8693348557707412\t    \t    \n",
            "init\t [ 0.20407204 -0.19447384]\t 11.649230998110728\t 1.8693348557707412\t    \t    \n",
            "1  \t [ 3.33895665 -0.41537886]\t 11.578076879961156\t 1.8693348557707412\t 2.552841007231134\t 2.9450147720934727\n",
            "2  \t [-4.5  4.5]\t 169680.83203125\t 1.8693348557707412\t 2.595239689648254\t 3.6524116698352156\n",
            "3  \t [-4.5       -0.3528116]\t 149.507637905471\t 1.8693348557707412\t 2.354269285850228\t 2.4458285758243212\n",
            "4  \t [ 4.5 -4.5]\t 178131.83203125\t 1.8693348557707412\t 2.7672963273289874\t 3.2305683108168455\n",
            "\u001b[1m\u001b[92m5\u001b[0m\t \u001b[1m\u001b[92m[ 2.40415301 -0.16940815]\u001b[0m\t \u001b[1m\u001b[92m1.7708634667687329\u001b[0m\t \u001b[1m\u001b[92m1.7708634667687329\u001b[0m\t \u001b[1m\u001b[92m2.4798619076692825\u001b[0m\t \u001b[1m\u001b[92m2.4940332809334325\u001b[0m\n",
            "6  \t [ 2.48462286 -0.16120107]\t 1.964443192208577\t 1.7708634667687329\t 2.740144394109658\t 2.7545925247855645\n",
            "7  \t [-0.59989673  1.48439233]\t 5.392326522396667\t 1.7708634667687329\t 2.6913911224080302\t 2.6936887021573637\n",
            "8  \t [ 2.53058142 -0.15657903]\t 2.0907420485851977\t 1.7708634667687329\t 2.7271145861727613\t 2.751423939488767\n",
            "9  \t [ 2.56549206 -0.15295539]\t 2.1932648227470866\t 1.7708634667687329\t 2.4229962822150117\t 2.461660969850395\n",
            "10 \t [ 2.589507   -0.15046011]\t 2.2674171851461367\t 1.7708634667687329\t 2.58953906583856\t 2.5888050608889697\n",
            "11 \t [ 2.60584465 -0.1487632 ]\t 2.319558418671023\t 1.7708634667687329\t 2.4655623872711963\t 2.4852165793697063\n",
            "12 \t [ 2.61668961 -0.14764036]\t 2.354949204523709\t 1.7708634667687329\t 2.2676239354902794\t 2.3298823516711287\n",
            "13 \t [ 2.62364831 -0.14692396]\t 2.378004118569287\t 1.7708634667687329\t 2.303582367070136\t 2.3225455863847593\n",
            "14 \t [-0.600211    1.47526158]\t 5.544283500668637\t 1.7708634667687329\t 2.5453263400795776\t 2.553300636039013\n",
            "15 \t [-0.51464886  3.99390552]\t 908.6234597740421\t 1.7708634667687329\t 2.414134075989324\t 2.5515685627364753\n",
            "16 \t [-0.91994594  0.83444337]\t 18.190673213774545\t 1.7708634667687329\t 2.402989786410764\t 2.446754602106424\n",
            "17 \t [ 2.56526289 -0.15243217]\t 2.188711189907433\t 1.7708634667687329\t 2.716127099314354\t 2.720100535413521\n",
            "18 \t [ 2.59359681 -0.14952341]\t 2.2766372109094473\t 1.7708634667687329\t 2.6706126669276906\t 2.724649980683469\n",
            "19 \t [ 2.60929053 -0.14791357]\t 2.3271223552115288\t 1.7708634667687329\t 2.264859504131232\t 2.2795993307692415\n",
            "20 \t [0.25480754 0.83321964]\t 13.180567384678215\t 1.7708634667687329\t 2.339811929027145\t 2.339504736109233\n"
          ]
        }
      ],
      "source": [
        "### ESTIMATED GP EI GRADIENTS\n",
        "\n",
        "np.random.seed(run_num_8)\n",
        "surrogate_approx_8 = dGaussianProcess(cov_func, optimize=opt)\n",
        "\n",
        "approx_8 = GPGO_multi(surrogate_approx_8, Acquisition_grad(util), objfunc, param)\n",
        "approx_8.run(init_evals=n_init, max_iter=iters)\n"
      ]
    },
    {
      "cell_type": "code",
      "execution_count": 21,
      "metadata": {
        "id": "85OIXcg7GCaJ",
        "colab": {
          "base_uri": "https://localhost:8080/"
        },
        "outputId": "4e92253e-94e5-4023-faaf-64cb710d72e7"
      },
      "outputs": [
        {
          "output_type": "stream",
          "name": "stdout",
          "text": [
            "Evaluation \t Proposed point \t  Current eval. \t  Best eval. \t        Exact EI: StdDev. x \t Approx EI: StdDev. x \n",
            "init\t [-4.40663262  0.01687133]\t 127.7531900635415\t 22.479204656276803\t    \t    \n",
            "init\t [-0.03804036 -3.29553424]\t 22.479204656276803\t 22.479204656276803\t    \t    \n",
            "init\t [-3.22100023 -2.53297192]\t 3783.0538402600087\t 22.479204656276803\t    \t    \n",
            "init\t [-0.73342638 -2.26708948]\t 157.51337782244087\t 22.479204656276803\t    \t    \n",
            "init\t [-3.74346314 -1.39051224]\t 380.7730677650304\t 22.479204656276803\t    \t    \n",
            "1  \t [2.73365793 4.35023323]\t 53339.37070055468\t 22.479204656276803\t 2.5977975500167707\t 2.6514612319596913\n",
            "2  \t [-4.5  4.5]\t 169680.83203125\t 22.479204656276803\t 2.3949070100184984\t 2.871191917952304\n",
            "3  \t [ 3.3271251  -1.17763841]\t 83.16862189347123\t 22.479204656276803\t 2.350019356371865\t 2.399163478537647\n",
            "\u001b[1m\u001b[92m4\u001b[0m\t \u001b[1m\u001b[92m[-0.822369    1.56448145]\u001b[0m\t \u001b[1m\u001b[92m2.2844760639971846\u001b[0m\t \u001b[1m\u001b[92m2.2844760639971846\u001b[0m\t \u001b[1m\u001b[92m2.58853411731477\u001b[0m\t \u001b[1m\u001b[92m2.7652675829179088\u001b[0m\n",
            "5  \t [ 3.03008726 -4.5       ]\t 80364.128509832\t 2.2844760639971846\t 2.564696300379586\t 2.6807386100726527\n",
            "6  \t [1.10879332 0.66780432]\t 7.365411876005126\t 2.2844760639971846\t 2.357126543376985\t 2.292424446757849\n",
            "7  \t [4.5        1.13697443]\t 39.66217284342615\t 2.2844760639971846\t 2.443397879972316\t 2.56728873300361\n",
            "8  \t [-0.82238452  3.43712016]\t 941.1416377780713\t 2.2844760639971846\t 2.303623363812571\t 2.304060020437084\n",
            "9  \t [-0.86667327  0.96163622]\t 15.114777437530872\t 2.2844760639971846\t 2.5922075023141566\t 2.5604181197111036\n",
            "\u001b[1m\u001b[92m10\u001b[0m\t \u001b[1m\u001b[92m[-2.48528563  1.29529504]\u001b[0m\t \u001b[1m\u001b[92m0.9912855195787866\u001b[0m\t \u001b[1m\u001b[92m0.9912855195787866\u001b[0m\t \u001b[1m\u001b[92m2.2153668343593056\u001b[0m\t \u001b[1m\u001b[92m2.2843557281059184\u001b[0m\n",
            "11 \t [ 1.1233087  -0.86017726]\t 4.799677614441925\t 0.9912855195787866\t 2.6008822912203917\t 2.6063401707488314\n",
            "12 \t [-2.48423336  1.29466366]\t 0.9943679438363092\t 0.9912855195787866\t 2.578078596300401\t 2.5951559584601847\n",
            "13 \t [2.44089305 0.92085758]\t 9.606776367162562\t 0.9912855195787866\t 1.9612574761554613\t 1.9996161228232434\n",
            "14 \t [ 0.18537574 -0.21350586]\t 11.866345737857095\t 0.9912855195787866\t 2.2924023217350795\t 2.259288830380184\n",
            "15 \t [-3.25018272 -4.40181735]\t 83801.97187587353\t 0.9912855195787866\t 2.483332116151616\t 2.5882537053536576\n",
            "16 \t [1.83339791 0.42085626]\t 1.603274046880554\t 0.9912855195787866\t 2.629759655053037\t 2.618504681951496\n",
            "17 \t [-2.00347536  0.95894102]\t 16.50699351339281\t 0.9912855195787866\t 2.3482236874524003\t 2.380875915344746\n",
            "18 \t [1.83708621 0.41809172]\t 1.5749620109233764\t 0.9912855195787866\t 2.4912854029914384\t 2.4856028203461324\n",
            "19 \t [ 0.22313044 -0.29276427]\t 11.39604620408699\t 0.9912855195787866\t 2.5438732319571473\t 2.5438732319571473\n",
            "20 \t [1.85708527 0.42439322]\t 1.5427596698810913\t 0.9912855195787866\t 2.7320813210825503\t 2.732142073181745\n"
          ]
        }
      ],
      "source": [
        "### ESTIMATED GP EI GRADIENTS\n",
        "\n",
        "np.random.seed(run_num_9)\n",
        "surrogate_approx_9 = dGaussianProcess(cov_func, optimize=opt)\n",
        "\n",
        "approx_9 = GPGO_multi(surrogate_approx_9, Acquisition_grad(util), objfunc, param)\n",
        "approx_9.run(init_evals=n_init, max_iter=iters)\n"
      ]
    },
    {
      "cell_type": "code",
      "execution_count": 22,
      "metadata": {
        "id": "QQBR-qJPGCcp",
        "colab": {
          "base_uri": "https://localhost:8080/"
        },
        "outputId": "4e62fd1b-9969-4ce0-fcc7-3c4c4bfecd72"
      },
      "outputs": [
        {
          "output_type": "stream",
          "name": "stdout",
          "text": [
            "Evaluation \t Proposed point \t  Current eval. \t  Best eval. \t        Exact EI: StdDev. x \t Approx EI: StdDev. x \n",
            "init\t [ 2.44188579 -4.31323246]\t 40500.708995062356\t 15.229523981513257\t    \t    \n",
            "init\t [1.20283411 2.23923494]\t 281.8768699287936\t 15.229523981513257\t    \t    \n",
            "init\t [-0.01343689 -2.47683019]\t 15.229523981513257\t 15.229523981513257\t    \t    \n",
            "init\t [-2.71743422  2.34477641]\t 985.5637470908332\t 15.229523981513257\t    \t    \n",
            "init\t [-2.97800247 -3.70494167]\t 26177.1461164703\t 15.229523981513257\t    \t    \n",
            "1  \t [4.5 4.5]\t 174813.36328125\t 15.229523981513257\t 2.6146515176100737\t 2.592582163600887\n",
            "\u001b[1m\u001b[92m2\u001b[0m\t \u001b[1m\u001b[92m[-0.01727047 -1.49417589]\u001b[0m\t \u001b[1m\u001b[92m14.637606980287334\u001b[0m\t \u001b[1m\u001b[92m14.637606980287334\u001b[0m\t \u001b[1m\u001b[92m2.2866006553367852\u001b[0m\t \u001b[1m\u001b[92m2.301618243112465\u001b[0m\n",
            "3  \t [ 4.5        -0.27578331]\t 25.504275804524713\t 14.637606980287334\t 2.2520593854680877\t 2.785091596219536\n",
            "\u001b[1m\u001b[92m4\u001b[0m\t \u001b[1m\u001b[92m[ 2.16132983 -0.41522293]\u001b[0m\t \u001b[1m\u001b[92m2.7379923559710484\u001b[0m\t \u001b[1m\u001b[92m2.7379923559710484\u001b[0m\t \u001b[1m\u001b[92m2.7300881456348454\u001b[0m\t \u001b[1m\u001b[92m2.7082221836931066\u001b[0m\n",
            "5  \t [-4.5        -0.20602624]\t 142.33326280306113\t 2.7379923559710484\t 2.744321229687113\t 2.81862015678653\n",
            "6  \t [-0.41913126  4.5       ]\t 1269.320012829722\t 2.7379923559710484\t 2.6543471119083413\t 2.6574367838667032\n",
            "\u001b[1m\u001b[92m7\u001b[0m\t \u001b[1m\u001b[92m[ 2.41753711 -0.25318448]\u001b[0m\t \u001b[1m\u001b[92m2.368195557100493\u001b[0m\t \u001b[1m\u001b[92m2.368195557100493\u001b[0m\t \u001b[1m\u001b[92m2.5693930527430684\u001b[0m\t \u001b[1m\u001b[92m2.670846134263756\u001b[0m\n",
            "\u001b[1m\u001b[92m8\u001b[0m\t \u001b[1m\u001b[92m[ 2.38905077 -0.26196403]\u001b[0m\t \u001b[1m\u001b[92m2.3327794199942318\u001b[0m\t \u001b[1m\u001b[92m2.3327794199942318\u001b[0m\t \u001b[1m\u001b[92m2.4961483867028305\u001b[0m\t \u001b[1m\u001b[92m2.515372483570489\u001b[0m\n",
            "9  \t [1.71975555 0.56562342]\t 3.2140925370513385\t 2.3327794199942318\t 2.799361468501308\t 2.799361468501308\n",
            "\u001b[1m\u001b[92m10\u001b[0m\t \u001b[1m\u001b[92m[ 1.75326623 -0.17687774]\u001b[0m\t \u001b[1m\u001b[92m1.3647426609921132\u001b[0m\t \u001b[1m\u001b[92m1.3647426609921132\u001b[0m\t \u001b[1m\u001b[92m2.6906530365822943\u001b[0m\t \u001b[1m\u001b[92m2.6818872849542346\u001b[0m\n",
            "\u001b[1m\u001b[92m11\u001b[0m\t \u001b[1m\u001b[92m[ 1.8320793  -0.15629148]\u001b[0m\t \u001b[1m\u001b[92m1.2141868377509226\u001b[0m\t \u001b[1m\u001b[92m1.2141868377509226\u001b[0m\t \u001b[1m\u001b[92m2.3309988846315353\u001b[0m\t \u001b[1m\u001b[92m2.314686986834995\u001b[0m\n",
            "12 \t [ 3.57028693 -1.14052158]\t 87.73955942511631\t 1.2141868377509226\t 2.7658258722094997\t 2.7658258722094997\n",
            "\u001b[1m\u001b[92m13\u001b[0m\t \u001b[1m\u001b[92m[ 1.78272575 -0.12463087]\u001b[0m\t \u001b[1m\u001b[92m1.2035471372483157\u001b[0m\t \u001b[1m\u001b[92m1.2035471372483157\u001b[0m\t \u001b[1m\u001b[92m2.6392371442010942\u001b[0m\t \u001b[1m\u001b[92m2.6528323016941617\u001b[0m\n",
            "14 \t [-0.03577888 -1.60933196]\t 15.244124338186866\t 1.2035471372483157\t 2.514114678119405\t 2.5321522113966592\n",
            "15 \t [-4.5  4.5]\t 169680.83203125\t 1.2035471372483157\t 2.645314649600118\t 2.8316732582638493\n",
            "16 \t [3.06041778 0.84831095]\t 5.063497764203312\t 1.2035471372483157\t 2.7239476581118343\t 2.7239476581118343\n",
            "17 \t [-1.6477917   0.74899757]\t 25.322240727295046\t 1.2035471372483157\t 2.56525324839055\t 2.5620075531289137\n",
            "\u001b[1m\u001b[92m18\u001b[0m\t \u001b[1m\u001b[92m[2.34184296 0.16771594]\u001b[0m\t \u001b[1m\u001b[92m0.28890256564791406\u001b[0m\t \u001b[1m\u001b[92m0.28890256564791406\u001b[0m\t \u001b[1m\u001b[92m2.4073651810864307\u001b[0m\t \u001b[1m\u001b[92m2.404090609077196\u001b[0m\n",
            "19 \t [-0.03069659 -1.57655675]\t 15.058991351250178\t 0.28890256564791406\t 2.225568796133105\t 2.2277282812918857\n",
            "20 \t [-3.33796911  0.14924313]\t 84.6586736563986\t 0.28890256564791406\t 2.8461829251676027\t 2.8461829251676027\n"
          ]
        }
      ],
      "source": [
        "### ESTIMATED GP EI GRADIENTS\n",
        "\n",
        "np.random.seed(run_num_10)\n",
        "surrogate_approx_10 = dGaussianProcess(cov_func, optimize=opt)\n",
        "\n",
        "approx_10 = GPGO_multi(surrogate_approx_10, Acquisition_grad(util), objfunc, param)\n",
        "approx_10.run(init_evals=n_init, max_iter=iters)\n"
      ]
    },
    {
      "cell_type": "code",
      "execution_count": 23,
      "metadata": {
        "id": "JS8ejeQ2GCfi",
        "colab": {
          "base_uri": "https://localhost:8080/"
        },
        "outputId": "a940381f-f17b-4fea-8990-b1360daff846"
      },
      "outputs": [
        {
          "output_type": "stream",
          "name": "stdout",
          "text": [
            "Evaluation \t Proposed point \t  Current eval. \t  Best eval. \t        Exact EI: StdDev. x \t Approx EI: StdDev. x \n",
            "init\t [-2.8775728  -4.32472283]\t 59421.14819100274\t 2.8907294990196846\t    \t    \n",
            "init\t [-0.33103326  2.02440536]\t 2.8907294990196846\t 2.8907294990196846\t    \t    \n",
            "init\t [-0.71816756 -0.13115612]\t 25.271447350027046\t 2.8907294990196846\t    \t    \n",
            "init\t [-4.38497267 -0.11365553]\t 133.2515796886641\t 2.8907294990196846\t    \t    \n",
            "init\t [3.97625987 3.1571558 ]\t 16859.81677190551\t 2.8907294990196846\t    \t    \n",
            "1  \t [ 4.00173906 -3.90284785]\t 61086.54661768624\t 2.8907294990196846\t 2.6258061093297105\t 3.3921326129358236\n",
            "2  \t [-4.5  4.5]\t 169680.83203125\t 2.8907294990196846\t 2.15619407724756\t 3.029236217294971\n",
            "3  \t [ 1.21974802 -0.19425598]\t 3.1099374520293392\t 2.8907294990196846\t 2.8025134491574986\t 2.806365356933115\n",
            "4  \t [-0.23239813  2.13091241]\t 3.9378292206425836\t 2.8907294990196846\t 2.3453816749661076\t 2.341121886636105\n",
            "5  \t [-0.23809152  2.10851796]\t 3.969946257351235\t 2.8907294990196846\t 2.3343113485355755\t 2.3135709848919666\n",
            "6  \t [0.35254763 4.5       ]\t 1272.380229335533\t 2.8907294990196846\t 2.5579409178204515\t 2.658731531425255\n",
            "7  \t [-0.3958302   1.48029236]\t 7.895443698789479\t 2.8907294990196846\t 2.727731569131664\t 2.7112863849982887\n",
            "8  \t [-0.39091165  1.53087687]\t 7.24847946017382\t 2.8907294990196846\t 2.459306714016104\t 2.4570625906341745\n",
            "9  \t [-1.3286      0.45803471]\t 30.45549481223425\t 2.8907294990196846\t 2.68800962695376\t 2.68800962695376\n",
            "10 \t [-0.37393202 -0.37912693]\t 19.785120201119778\t 2.8907294990196846\t 2.4658521665896105\t 2.4658521665896105\n",
            "11 \t [-0.1084088   1.52107844]\t 12.057011869074977\t 2.8907294990196846\t 2.7600855838747576\t 2.7537476426076855\n",
            "\u001b[1m\u001b[92m12\u001b[0m\t \u001b[1m\u001b[92m[ 1.31656624 -0.22441153]\u001b[0m\t \u001b[1m\u001b[92m2.6853052892684532\u001b[0m\t \u001b[1m\u001b[92m2.6853052892684532\u001b[0m\t \u001b[1m\u001b[92m2.6520241007807495\u001b[0m\t \u001b[1m\u001b[92m2.6540062431595466\u001b[0m\n",
            "13 \t [ 1.31555978 -0.22442222]\t 2.689587210829449\t 2.6853052892684532\t 2.546575250646156\t 2.5472758829848967\n",
            "14 \t [ 1.3149546  -0.22441155]\t 2.692148867710464\t 2.6853052892684532\t 2.6851615264982662\t 2.684825632462846\n",
            "15 \t [ 0.02420108 -0.84465616]\t 13.83791364305034\t 2.6853052892684532\t 2.559376315280148\t 2.559376315280148\n",
            "16 \t [-0.40005146  1.6253185 ]\t 5.8098846481608515\t 2.6853052892684532\t 2.755106259124478\t 2.7611940538083517\n",
            "17 \t [-1.40485501  1.62355282]\t 4.321247489930679\t 2.6853052892684532\t 2.103179743923149\t 2.103179743923149\n",
            "\u001b[1m\u001b[92m18\u001b[0m\t \u001b[1m\u001b[92m[ 1.36767302 -0.19947964]\u001b[0m\t \u001b[1m\u001b[92m2.4509282936335945\u001b[0m\t \u001b[1m\u001b[92m2.4509282936335945\u001b[0m\t \u001b[1m\u001b[92m2.5167934225356556\u001b[0m\t \u001b[1m\u001b[92m2.524245320806156\u001b[0m\n",
            "\u001b[1m\u001b[92m19\u001b[0m\t \u001b[1m\u001b[92m[-0.68778729  1.68453017]\u001b[0m\t \u001b[1m\u001b[92m2.0322396017565243\u001b[0m\t \u001b[1m\u001b[92m2.0322396017565243\u001b[0m\t \u001b[1m\u001b[92m2.3794410675540063\u001b[0m\t \u001b[1m\u001b[92m2.3829532899689547\u001b[0m\n",
            "20 \t [ 1.36774199 -0.19906231]\t 2.4502374342821738\t 2.0322396017565243\t 2.5901860320995445\t 2.5906073799775315\n"
          ]
        }
      ],
      "source": [
        "### ESTIMATED GP EI GRADIENTS\n",
        "\n",
        "np.random.seed(run_num_11)\n",
        "surrogate_approx_11 = dGaussianProcess(cov_func, optimize=opt)\n",
        "\n",
        "approx_11 = GPGO_multi(surrogate_approx_11, Acquisition_grad(util), objfunc, param)\n",
        "approx_11.run(init_evals=n_init, max_iter=iters)\n"
      ]
    },
    {
      "cell_type": "code",
      "execution_count": 24,
      "metadata": {
        "id": "DXwjUVZ4GCii",
        "colab": {
          "base_uri": "https://localhost:8080/"
        },
        "outputId": "f9825d31-3143-4c22-bf4e-d725a2dc18f4"
      },
      "outputs": [
        {
          "output_type": "stream",
          "name": "stdout",
          "text": [
            "Evaluation \t Proposed point \t  Current eval. \t  Best eval. \t        Exact EI: StdDev. x \t Approx EI: StdDev. x \n",
            "init\t [-3.11253442  2.16044727]\t 746.3412720881302\t 48.45196617039589\t    \t    \n",
            "init\t [-2.13016486  0.30365454]\t 48.45196617039589\t 48.45196617039589\t    \t    \n",
            "init\t [-4.36882534  3.76872307]\t 54651.235607336355\t 48.45196617039589\t    \t    \n",
            "init\t [ 3.60643369 -4.19920715]\t 76007.68460600567\t 48.45196617039589\t    \t    \n",
            "init\t [ 4.11254403 -3.26511611]\t 22941.17826205435\t 48.45196617039589\t    \t    \n",
            "\u001b[1m\u001b[92m1\u001b[0m\t \u001b[1m\u001b[92m[-2.48353406  1.4130822 ]\u001b[0m\t \u001b[1m\u001b[92m3.8822990547852623\u001b[0m\t \u001b[1m\u001b[92m3.8822990547852623\u001b[0m\t \u001b[1m\u001b[92m3.0750156493090612\u001b[0m\t \u001b[1m\u001b[92m2.880845490499971\u001b[0m\n",
            "\u001b[1m\u001b[92m2\u001b[0m\t \u001b[1m\u001b[92m[-2.53250908  1.38558848]\u001b[0m\t \u001b[1m\u001b[92m2.7745395362435685\u001b[0m\t \u001b[1m\u001b[92m2.7745395362435685\u001b[0m\t \u001b[1m\u001b[92m3.145549439722147\u001b[0m\t \u001b[1m\u001b[92m3.138779993173785\u001b[0m\n",
            "3  \t [-2.53492172  1.38771448]\t 2.8830631176638883\t 2.7745395362435685\t 3.374953533289701\t 2.955150282559236\n",
            "4  \t [-2.53573729  1.3892819 ]\t 2.96028341110689\t 2.7745395362435685\t 2.6293141812675773\t 2.4280470959425475\n",
            "5  \t [-2.53626911  1.3902464 ]\t 3.008818476441066\t 2.7745395362435685\t 2.8308677921440166\t 2.4366087543548036\n",
            "6  \t [-2.53665018  1.39088573]\t 3.041510462680726\t 2.7745395362435685\t 2.858162491833338\t 2.7078304991489603\n",
            "7  \t [-2.53692658  1.39134351]\t 3.065119304020205\t 2.7745395362435685\t 2.8185567907394975\t 2.652272769923078\n",
            "8  \t [-2.53713542  1.39168531]\t 3.082858811647432\t 2.7745395362435685\t 2.8456155236546956\t 2.638358949073263\n",
            "9  \t [-2.53730264  1.39194598]\t 3.096488946359366\t 2.7745395362435685\t 2.552449765222875\t 2.3616402157791554\n",
            "10 \t [-2.53743528  1.39215295]\t 3.107345851784014\t 2.7745395362435685\t 2.747747902373782\t 2.5817696488370827\n",
            "11 \t [-2.53753985  1.39232121]\t 3.11617751570719\t 2.7745395362435685\t 2.78206802437174\t 2.5716739730772593\n",
            "12 \t [-2.53763577  1.39245795]\t 3.1234304684686998\t 2.7745395362435685\t 2.809249789144489\t 2.48726249584256\n",
            "13 \t [-2.53770981  1.39257541]\t 3.1296257053786976\t 2.7745395362435685\t 2.9189853338292147\t 2.485439139016937\n",
            "14 \t [-2.53777506  1.3926733 ]\t 3.1348159851297965\t 2.7745395362435685\t 2.4536909661639132\t 2.35871331587418\n",
            "15 \t [-2.53783045  1.392758  ]\t 3.1393066907128886\t 2.7745395362435685\t 2.97615867891632\t 2.772281671988811\n",
            "16 \t [-2.53788325  1.39282764]\t 3.1430435211622285\t 2.7745395362435685\t 2.6327115082191144\t 2.6397670253470467\n",
            "17 \t [-2.53791688  1.39289848]\t 3.146735650382028\t 2.7745395362435685\t 2.555464229990414\t 2.4683620815370144\n",
            "18 \t [-1.57216556 -1.34485849]\t 92.1981829745172\t 2.7745395362435685\t 2.84945226091182\t 2.739754472833258\n",
            "19 \t [-2.54793143  1.38423545]\t 2.790936545282107\t 2.7745395362435685\t 3.1829477892970313\t 3.107713524813692\n",
            "20 \t [-2.53626945  1.39354328]\t 3.1694005482575105\t 2.7745395362435685\t 2.6591081479087153\t 2.628827540946451\n"
          ]
        }
      ],
      "source": [
        "### ESTIMATED GP EI GRADIENTS\n",
        "\n",
        "np.random.seed(run_num_12)\n",
        "surrogate_approx_12 = dGaussianProcess(cov_func, optimize=opt)\n",
        "\n",
        "approx_12 = GPGO_multi(surrogate_approx_12, Acquisition_grad(util), objfunc, param)\n",
        "approx_12.run(init_evals=n_init, max_iter=iters)\n"
      ]
    },
    {
      "cell_type": "code",
      "execution_count": 25,
      "metadata": {
        "id": "CphOPndPGClX",
        "colab": {
          "base_uri": "https://localhost:8080/"
        },
        "outputId": "293b5293-5712-4560-b6e8-b6000969b1e8"
      },
      "outputs": [
        {
          "output_type": "stream",
          "name": "stdout",
          "text": [
            "Evaluation \t Proposed point \t  Current eval. \t  Best eval. \t        Exact EI: StdDev. x \t Approx EI: StdDev. x \n",
            "init\t [ 2.4993217  -2.36212902]\t 1312.0597023727128\t 25.917758071459016\t    \t    \n",
            "init\t [2.91850679 4.19174278]\t 48757.43948599124\t 25.917758071459016\t    \t    \n",
            "init\t [ 4.25341003 -0.41895677]\t 25.917758071459016\t 25.917758071459016\t    \t    \n",
            "init\t [0.98138216 2.47973863]\t 337.8750512678324\t 25.917758071459016\t    \t    \n",
            "init\t [1.2745201  1.99816407]\t 177.1374160884886\t 25.917758071459016\t    \t    \n",
            "\u001b[1m\u001b[92m1\u001b[0m\t \u001b[1m\u001b[92m[0.68880996 0.87740756]\u001b[0m\t \u001b[1m\u001b[92m12.145035584579611\u001b[0m\t \u001b[1m\u001b[92m12.145035584579611\u001b[0m\t \u001b[1m\u001b[92m2.763461550246\u001b[0m\t \u001b[1m\u001b[92m2.7584641379743386\u001b[0m\n",
            "2  \t [-3.51625583 -3.70571814]\t 36387.21686967412\t 12.145035584579611\t 2.8437645448898112\t 2.861358015304386\n",
            "3  \t [-3.85201707  3.24588655]\t 16928.724282585124\t 12.145035584579611\t 2.7149505897906834\t 2.894410333558891\n",
            "4  \t [-1.28825751 -0.09246331]\t 36.21582703812752\t 12.145035584579611\t 2.693330868977282\t 2.6916379194189943\n",
            "\u001b[1m\u001b[92m5\u001b[0m\t \u001b[1m\u001b[92m[3.59972445 0.5913731 ]\u001b[0m\t \u001b[1m\u001b[92m0.06210449740632006\u001b[0m\t \u001b[1m\u001b[92m0.06210449740632006\u001b[0m\t \u001b[1m\u001b[92m2.9245605623687636\u001b[0m\t \u001b[1m\u001b[92m2.9245619200823176\u001b[0m\n",
            "6  \t [-2.60369707 -0.27718579]\t 72.86320262241541\t 0.06210449740632006\t 2.4139373025164725\t 2.4139373025164725\n",
            "7  \t [1.60457214 0.58701892]\t 3.9462164373115685\t 0.06210449740632006\t 2.6622914458325533\t 2.6579743130287374\n",
            "8  \t [4.5        0.64687538]\t 0.5741590484445884\t 0.06210449740632006\t 2.561214985493494\t 2.5634490084033645\n",
            "9  \t [4.5        0.64834579]\t 0.5559384608741932\t 0.06210449740632006\t 2.5655732977864125\t 2.557016170179691\n",
            "10 \t [4.5        0.64914123]\t 0.5462111854248316\t 0.06210449740632006\t 2.464121585371279\t 2.520619963246864\n",
            "11 \t [-0.29657372  1.78628651]\t 5.681458224554332\t 0.06210449740632006\t 2.7080862213723917\t 2.711917257672841\n",
            "12 \t [4.5        0.64987297]\t 0.5373437420027151\t 0.06210449740632006\t 2.5648342259388204\t 2.564738056126532\n",
            "13 \t [-0.9578932   4.45015459]\t 6786.246295405555\t 0.06210449740632006\t 2.681770225109882\t 2.681770225109882\n",
            "14 \t [0.60436354 1.62172024]\t 35.12863503872366\t 0.06210449740632006\t 2.2068422682850386\t 2.207911325523937\n",
            "15 \t [2.12259221 0.25017213]\t 0.36303025813288053\t 0.06210449740632006\t 2.6368656801072485\t 2.6368656801072485\n",
            "16 \t [0.62065099 1.6176863 ]\t 35.58590409033995\t 0.06210449740632006\t 2.4224277829170133\t 2.425761123673144\n",
            "17 \t [-0.11266367 -3.80735533]\t 84.90514272100607\t 0.06210449740632006\t 3.0206645693569825\t 3.0206645693569825\n",
            "18 \t [0.62907024 1.61574064]\t 35.82740066111379\t 0.06210449740632006\t 2.2162131734038772\t 2.2162603809018147\n",
            "19 \t [-0.51098582  1.23781006]\t 10.508333975356788\t 0.06210449740632006\t 2.680941248730716\t 2.680941248730716\n",
            "20 \t [0.61976147 1.61782439]\t 35.55618779190027\t 0.06210449740632006\t 2.9230481727104207\t 2.936943747963506\n"
          ]
        }
      ],
      "source": [
        "### ESTIMATED GP EI GRADIENTS\n",
        "\n",
        "np.random.seed(run_num_13)\n",
        "surrogate_approx_13 = dGaussianProcess(cov_func, optimize=opt)\n",
        "\n",
        "approx_13 = GPGO_multi(surrogate_approx_13, Acquisition_grad(util), objfunc, param)\n",
        "approx_13.run(init_evals=n_init, max_iter=iters)\n"
      ]
    },
    {
      "cell_type": "code",
      "execution_count": 26,
      "metadata": {
        "id": "ojHTeARNGCoi",
        "colab": {
          "base_uri": "https://localhost:8080/"
        },
        "outputId": "5c9b8313-5362-4fcd-ccf2-3e6c7c8231bb"
      },
      "outputs": [
        {
          "output_type": "stream",
          "name": "stdout",
          "text": [
            "Evaluation \t Proposed point \t  Current eval. \t  Best eval. \t        Exact EI: StdDev. x \t Approx EI: StdDev. x \n",
            "init\t [0.12549009 2.45848547]\t 30.19066754742359\t 11.367015527968295\t    \t    \n",
            "init\t [ 3.33384917 -4.42757746]\t 88548.3950659154\t 11.367015527968295\t    \t    \n",
            "init\t [-1.71237667  4.11843365]\t 13933.414320383567\t 11.367015527968295\t    \t    \n",
            "init\t [ 0.11805041 -1.63544018]\t 11.367015527968295\t 11.367015527968295\t    \t    \n",
            "init\t [ 0.35279944 -2.50870552]\t 27.90050047415725\t 11.367015527968295\t    \t    \n",
            "1  \t [0.92726866 1.73546908]\t 64.52965178700373\t 11.367015527968295\t 2.8706352933131623\t 2.7249784851402086\n",
            "2  \t [4.5        4.34298262]\t 141601.4469214169\t 11.367015527968295\t 3.4585311141562736\t 3.350043716961049\n",
            "3  \t [-3.84291376 -0.28434227]\t 117.83567502290504\t 11.367015527968295\t 2.6678553063719423\t 2.849618606847631\n",
            "4  \t [-4.40794127 -4.5       ]\t 174527.04755885506\t 11.367015527968295\t 2.9761564119766653\t 3.1535265040791955\n",
            "5  \t [ 4.5        -0.15192245]\t 21.750238542535385\t 11.367015527968295\t 2.347228087123892\t 2.5523966821489665\n",
            "6  \t [-1.14575304  0.12897522]\t 31.84200848042441\t 11.367015527968295\t 2.423529862253442\t 2.391038607347312\n",
            "\u001b[1m\u001b[92m7\u001b[0m\t \u001b[1m\u001b[92m[ 2.14978935 -0.62405445]\u001b[0m\t \u001b[1m\u001b[92m4.846588787532702\u001b[0m\t \u001b[1m\u001b[92m4.846588787532702\u001b[0m\t \u001b[1m\u001b[92m2.334140570161894\u001b[0m\t \u001b[1m\u001b[92m2.397513562507616\u001b[0m\n",
            "8  \t [-0.53279725 -4.5       ]\t 2757.54510828197\t 4.846588787532702\t 2.634232114393828\t 2.6547136078312534\n",
            "9  \t [0.57236    1.81202931]\t 46.30219240007689\t 4.846588787532702\t 2.71980164463352\t 2.7231223051413664\n",
            "10 \t [ 0.28868198 -1.57633   ]\t 9.200468555828103\t 4.846588787532702\t 2.4058661078538828\t 2.4125780165333865\n",
            "11 \t [ 0.26959466 -1.59697709]\t 9.338849133755636\t 4.846588787532702\t 2.627753820358558\t 2.626596764632963\n",
            "\u001b[1m\u001b[92m12\u001b[0m\t \u001b[1m\u001b[92m[ 2.47458365 -0.09696639]\u001b[0m\t \u001b[1m\u001b[92m1.537575237403974\u001b[0m\t \u001b[1m\u001b[92m1.537575237403974\u001b[0m\t \u001b[1m\u001b[92m2.6245497372652964\u001b[0m\t \u001b[1m\u001b[92m2.6119199901673924\u001b[0m\n",
            "13 \t [ 2.4728163 -0.0978411]\t 1.537759096860172\t 1.537575237403974\t 2.556950397075466\t 2.557397501425905\n",
            "14 \t [0.6501494  1.90949676]\t 62.4063004705133\t 1.537575237403974\t 2.5228672033613972\t 2.52120926912697\n",
            "15 \t [-0.83606747 -0.80698939]\t 30.737930843686293\t 1.537575237403974\t 2.5395653131866354\t 2.5395653131866354\n",
            "16 \t [4.46293253 0.04395162]\t 15.890659809219166\t 1.537575237403974\t 2.5564213357753975\t 2.5564213357753975\n",
            "17 \t [ 2.22824392 -0.70449302]\t 6.698720440304952\t 1.537575237403974\t 2.725188190985658\t 2.725188190985658\n",
            "18 \t [ 0.30684275 -1.6082686 ]\t 9.064923187545752\t 1.537575237403974\t 2.316041089548449\t 2.322161581002727\n",
            "19 \t [ 2.37497907 -0.17103294]\t 1.701209816028224\t 1.537575237403974\t 2.5403409652423083\t 2.5475512400077447\n",
            "20 \t [ 0.35560285 -0.57649008]\t 9.778511763264916\t 1.537575237403974\t 2.401901633756444\t 2.401901633756444\n"
          ]
        }
      ],
      "source": [
        "### ESTIMATED GP EI GRADIENTS\n",
        "\n",
        "np.random.seed(run_num_14)\n",
        "surrogate_approx_14 = dGaussianProcess(cov_func, optimize=opt)\n",
        "\n",
        "approx_14 = GPGO_multi(surrogate_approx_14, Acquisition_grad(util), objfunc, param)\n",
        "approx_14.run(init_evals=n_init, max_iter=iters)\n"
      ]
    },
    {
      "cell_type": "code",
      "execution_count": 27,
      "metadata": {
        "id": "vCJzn4vWGCs3",
        "colab": {
          "base_uri": "https://localhost:8080/"
        },
        "outputId": "6096a21e-e07b-4881-cec3-cda170ee1f6a"
      },
      "outputs": [
        {
          "output_type": "stream",
          "name": "stdout",
          "text": [
            "Evaluation \t Proposed point \t  Current eval. \t  Best eval. \t        Exact EI: StdDev. x \t Approx EI: StdDev. x \n",
            "init\t [ 3.13935928 -2.88993668]\t 6575.875821208801\t 47.082686538130915\t    \t    \n",
            "init\t [-4.01073107 -1.24615399]\t 317.710908287677\t 47.082686538130915\t    \t    \n",
            "init\t [-2.02139164  0.27000202]\t 47.082686538130915\t 47.082686538130915\t    \t    \n",
            "init\t [-1.74672976 -1.75973077]\t 234.8792968363759\t 47.082686538130915\t    \t    \n",
            "init\t [-3.49432851 -2.25090888]\t 2421.671033348018\t 47.082686538130915\t    \t    \n",
            "1  \t [-4.5         0.13152586]\t 124.38537972216204\t 47.082686538130915\t 2.8032639754635253\t 2.8157699081678524\n",
            "2  \t [4.5        3.88693319]\t 73377.98977872163\t 47.082686538130915\t 2.770110025107169\t 2.9366311334713866\n",
            "3  \t [-3.14910492  4.4148011 ]\t 73547.85915680868\t 47.082686538130915\t 2.7898762840115747\t 3.0244948188442073\n",
            "\u001b[1m\u001b[92m4\u001b[0m\t \u001b[1m\u001b[92m[1.26908607 0.86034247]\u001b[0m\t \u001b[1m\u001b[92m10.120446011600613\u001b[0m\t \u001b[1m\u001b[92m10.120446011600613\u001b[0m\t \u001b[1m\u001b[92m2.466406102832444\u001b[0m\t \u001b[1m\u001b[92m2.26473904061604\u001b[0m\n",
            "5  \t [-0.29628194 -4.5       ]\t 916.9250648513754\t 10.120446011600613\t 2.8084601640773164\t 2.7756348517100995\n",
            "6  \t [0.59734981 3.21046133]\t 543.9316965655966\t 10.120446011600613\t 2.7921718534362356\t 2.811120665162899\n",
            "\u001b[1m\u001b[92m7\u001b[0m\t \u001b[1m\u001b[92m[3.3279462 0.3896405]\u001b[0m\t \u001b[1m\u001b[92m0.8663212929166817\u001b[0m\t \u001b[1m\u001b[92m0.8663212929166817\u001b[0m\t \u001b[1m\u001b[92m2.4882802371859785\u001b[0m\t \u001b[1m\u001b[92m2.5017311316484974\u001b[0m\n",
            "8  \t [ 0.60380559 -0.70989194]\t 7.281673825955057\t 0.8663212929166817\t 2.921002966453895\t 2.930427242941496\n",
            "9  \t [4.5        0.14329226]\t 13.668297235898052\t 0.8663212929166817\t 2.312547577377783\t 2.342835312233928\n",
            "10 \t [-0.11348706  0.55262345]\t 15.22311465495164\t 0.8663212929166817\t 2.526005362307539\t 2.509137866994546\n",
            "\u001b[1m\u001b[92m11\u001b[0m\t \u001b[1m\u001b[92m[2.764934   0.49870828]\u001b[0m\t \u001b[1m\u001b[92m0.0840372375214492\u001b[0m\t \u001b[1m\u001b[92m0.0840372375214492\u001b[0m\t \u001b[1m\u001b[92m2.363574024111714\u001b[0m\t \u001b[1m\u001b[92m2.3817490307587144\u001b[0m\n",
            "\u001b[1m\u001b[92m12\u001b[0m\t \u001b[1m\u001b[92m[2.771373   0.49774083]\u001b[0m\t \u001b[1m\u001b[92m0.0771451353626178\u001b[0m\t \u001b[1m\u001b[92m0.0771451353626178\u001b[0m\t \u001b[1m\u001b[92m2.4593231525374675\u001b[0m\t \u001b[1m\u001b[92m2.503623577580958\u001b[0m\n",
            "\u001b[1m\u001b[92m13\u001b[0m\t \u001b[1m\u001b[92m[2.77429147 0.4973059 ]\u001b[0m\t \u001b[1m\u001b[92m0.07412610629003749\u001b[0m\t \u001b[1m\u001b[92m0.07412610629003749\u001b[0m\t \u001b[1m\u001b[92m2.90342003633064\u001b[0m\t \u001b[1m\u001b[92m2.9003228992938754\u001b[0m\n",
            "\u001b[1m\u001b[92m14\u001b[0m\t \u001b[1m\u001b[92m[2.77585904 0.49703653]\u001b[0m\t \u001b[1m\u001b[92m0.07244918397409833\u001b[0m\t \u001b[1m\u001b[92m0.07244918397409833\u001b[0m\t \u001b[1m\u001b[92m2.6645688977101205\u001b[0m\t \u001b[1m\u001b[92m2.703398145241975\u001b[0m\n",
            "\u001b[1m\u001b[92m15\u001b[0m\t \u001b[1m\u001b[92m[2.77697858 0.49690025]\u001b[0m\t \u001b[1m\u001b[92m0.07138799559022341\u001b[0m\t \u001b[1m\u001b[92m0.07138799559022341\u001b[0m\t \u001b[1m\u001b[92m2.1604525682549887\u001b[0m\t \u001b[1m\u001b[92m2.1732750493170476\u001b[0m\n",
            "\u001b[1m\u001b[92m16\u001b[0m\t \u001b[1m\u001b[92m[2.77758312 0.49675455]\u001b[0m\t \u001b[1m\u001b[92m0.07065863079627993\u001b[0m\t \u001b[1m\u001b[92m0.07065863079627993\u001b[0m\t \u001b[1m\u001b[92m2.756043084981466\u001b[0m\t \u001b[1m\u001b[92m2.774212306696273\u001b[0m\n",
            "17 \t [ 0.43040253 -1.54467066]\t 8.636671196039483\t 0.07065863079627993\t 2.3485570494379497\t 2.349950382838099\n",
            "\u001b[1m\u001b[92m18\u001b[0m\t \u001b[1m\u001b[92m[2.77755989 0.49549412]\u001b[0m\t \u001b[1m\u001b[92m0.0679213588343296\u001b[0m\t \u001b[1m\u001b[92m0.0679213588343296\u001b[0m\t \u001b[1m\u001b[92m2.632265903235831\u001b[0m\t \u001b[1m\u001b[92m2.6539707942819084\u001b[0m\n",
            "\u001b[1m\u001b[92m19\u001b[0m\t \u001b[1m\u001b[92m[2.77789267 0.49544211]\u001b[0m\t \u001b[1m\u001b[92m0.06759060420733444\u001b[0m\t \u001b[1m\u001b[92m0.06759060420733444\u001b[0m\t \u001b[1m\u001b[92m2.7303643226074334\u001b[0m\t \u001b[1m\u001b[92m2.766371088868645\u001b[0m\n",
            "\u001b[1m\u001b[92m20\u001b[0m\t \u001b[1m\u001b[92m[2.77818282 0.4954091 ]\u001b[0m\t \u001b[1m\u001b[92m0.06732935096177223\u001b[0m\t \u001b[1m\u001b[92m0.06732935096177223\u001b[0m\t \u001b[1m\u001b[92m2.3995215242208916\u001b[0m\t \u001b[1m\u001b[92m2.3891847141491174\u001b[0m\n"
          ]
        }
      ],
      "source": [
        "### ESTIMATED GP EI GRADIENTS\n",
        "\n",
        "np.random.seed(run_num_15)\n",
        "surrogate_approx_15 = dGaussianProcess(cov_func, optimize=opt)\n",
        "\n",
        "approx_15 = GPGO_multi(surrogate_approx_15, Acquisition_grad(util), objfunc, param)\n",
        "approx_15.run(init_evals=n_init, max_iter=iters)\n"
      ]
    },
    {
      "cell_type": "code",
      "execution_count": 28,
      "metadata": {
        "id": "bGGkhp-kGCw6",
        "colab": {
          "base_uri": "https://localhost:8080/"
        },
        "outputId": "255400bd-3db5-4ad3-d8a3-83cc92a2c788"
      },
      "outputs": [
        {
          "output_type": "stream",
          "name": "stdout",
          "text": [
            "Evaluation \t Proposed point \t  Current eval. \t  Best eval. \t        Exact EI: StdDev. x \t Approx EI: StdDev. x \n",
            "init\t [-2.49038029  0.20847007]\t 59.442894178636664\t 59.442894178636664\t    \t    \n",
            "init\t [ 0.45631311 -4.08958245]\t 932.9374489641153\t 59.442894178636664\t    \t    \n",
            "init\t [-1.25344048 -2.49227152]\t 594.9494957841517\t 59.442894178636664\t    \t    \n",
            "init\t [ 1.69853546 -3.02641717]\t 2418.389440420566\t 59.442894178636664\t    \t    \n",
            "init\t [-3.8670762   3.96909774]\t 58473.38862292419\t 59.442894178636664\t    \t    \n",
            "1  \t [2.96318179 4.5       ]\t 76384.62699290056\t 59.442894178636664\t 2.9205052475364197\t 2.8967627816938912\n",
            "\u001b[1m\u001b[92m2\u001b[0m\t \u001b[1m\u001b[92m[ 4.5        -0.15525778]\u001b[0m\t \u001b[1m\u001b[92m21.845289314419617\u001b[0m\t \u001b[1m\u001b[92m21.845289314419617\u001b[0m\t \u001b[1m\u001b[92m2.769627966955908\u001b[0m\t \u001b[1m\u001b[92m2.770719229924027\u001b[0m\n",
            "\u001b[1m\u001b[92m3\u001b[0m\t \u001b[1m\u001b[92m[ 1.13760564 -0.03938479]\u001b[0m\t \u001b[1m\u001b[92m3.5543488872433397\u001b[0m\t \u001b[1m\u001b[92m3.5543488872433397\u001b[0m\t \u001b[1m\u001b[92m2.555113532016537\u001b[0m\t \u001b[1m\u001b[92m2.555113532016537\u001b[0m\n",
            "4  \t [0.57518181 0.54885548]\t 9.55496420381401\t 3.5543488872433397\t 2.8108603138303487\t 2.727812364574664\n",
            "5  \t [-4.5 -4.5]\t 181853.61328125\t 3.5543488872433397\t 2.7890070213973344\t 2.792167653236839\n",
            "6  \t [-4.1232832  -0.02446938]\t 118.89362436451063\t 3.5543488872433397\t 2.9288467474280133\t 2.9288467474280133\n",
            "7  \t [0.72620596 0.46688145]\t 7.959402643062864\t 3.5543488872433397\t 2.4320566627699325\t 2.397481263843226\n",
            "8  \t [-0.21681728  0.98029259]\t 14.320249463467576\t 3.5543488872433397\t 2.3501193991999187\t 2.3445414183013806\n",
            "9  \t [ 2.83248723 -0.38933245]\t 6.094334111486105\t 3.5543488872433397\t 2.711470537485038\t 2.711470537485038\n",
            "10 \t [ 4.25599603 -0.33977075]\t 23.18408548259329\t 3.5543488872433397\t 2.6579035300747105\t 2.6579035300747105\n",
            "11 \t [0.01012787 0.54576447]\t 14.112939263470498\t 3.5543488872433397\t 2.7979851371147024\t 2.7979851371147024\n",
            "12 \t [ 4.47678521 -3.19040158]\t 23853.291807642563\t 3.5543488872433397\t 2.7759457581168894\t 2.7759457581168894\n",
            "13 \t [4.1302643  0.37763677]\t 4.4590017689217\t 3.5543488872433397\t 2.2202931748147634\t 2.2833066060003158\n",
            "14 \t [4.19942094 0.35488588]\t 5.402845158874199\t 3.5543488872433397\t 2.274067717491764\t 2.347855664908815\n",
            "15 \t [4.18448284 0.33795679]\t 5.689531341465266\t 3.5543488872433397\t 2.4352652675209647\t 2.506218880059214\n",
            "\u001b[1m\u001b[92m16\u001b[0m\t \u001b[1m\u001b[92m[3.27828877 0.20978871]\u001b[0m\t \u001b[1m\u001b[92m2.3589016835973524\u001b[0m\t \u001b[1m\u001b[92m2.3589016835973524\u001b[0m\t \u001b[1m\u001b[92m2.4095867867295784\u001b[0m\t \u001b[1m\u001b[92m2.4513361022957536\u001b[0m\n",
            "17 \t [4.5        0.36584664]\t 7.285274533917175\t 2.3589016835973524\t 2.776425506062866\t 2.828936794915282\n",
            "\u001b[1m\u001b[92m18\u001b[0m\t \u001b[1m\u001b[92m[3.18217174 0.18819105]\u001b[0m\t \u001b[1m\u001b[92m2.132363475944443\u001b[0m\t \u001b[1m\u001b[92m2.132363475944443\u001b[0m\t \u001b[1m\u001b[92m2.491726435735119\u001b[0m\t \u001b[1m\u001b[92m2.5402719628101553\u001b[0m\n",
            "19 \t [0.11945744 0.66289395]\t 13.349782952127546\t 2.132363475944443\t 2.3110585031417648\t 2.3110585031417648\n",
            "20 \t [4.5        0.35773464]\t 7.5208226543474295\t 2.132363475944443\t 2.7635100200939386\t 2.8005681769829383\n"
          ]
        }
      ],
      "source": [
        "### ESTIMATED GP EI GRADIENTS\n",
        "\n",
        "np.random.seed(run_num_16)\n",
        "surrogate_approx_16 = dGaussianProcess(cov_func, optimize=opt)\n",
        "\n",
        "approx_16 = GPGO_multi(surrogate_approx_16, Acquisition_grad(util), objfunc, param)\n",
        "approx_16.run(init_evals=n_init, max_iter=iters)\n"
      ]
    },
    {
      "cell_type": "code",
      "execution_count": 29,
      "metadata": {
        "id": "Yrs2mp7hGC1Z",
        "colab": {
          "base_uri": "https://localhost:8080/"
        },
        "outputId": "af3c5f77-d1a0-45eb-d27c-8dab0b0d6094"
      },
      "outputs": [
        {
          "output_type": "stream",
          "name": "stdout",
          "text": [
            "Evaluation \t Proposed point \t  Current eval. \t  Best eval. \t        Exact EI: StdDev. x \t Approx EI: StdDev. x \n",
            "init\t [-1.84801498  0.2752808 ]\t 43.39160388622011\t 6.891623366037299\t    \t    \n",
            "init\t [-2.77631292 -3.88889678]\t 30048.58268621874\t 6.891623366037299\t    \t    \n",
            "init\t [2.58286914 1.4070017 ]\t 81.72560623465196\t 6.891623366037299\t    \t    \n",
            "init\t [1.23768806 0.68042604]\t 6.891623366037299\t 6.891623366037299\t    \t    \n",
            "init\t [-4.14843375 -1.27967756]\t 359.4343933746243\t 6.891623366037299\t    \t    \n",
            "1  \t [ 3.98081669 -4.5       ]\t 139212.5477636248\t 6.891623366037299\t 2.940589188202466\t 3.5552887153799113\n",
            "2  \t [-1.01247094  4.5       ]\t 8155.59976285041\t 6.891623366037299\t 2.6544378579394614\t 2.7036130241845147\n",
            "3  \t [4.5 4.5]\t 174813.36328125\t 6.891623366037299\t 2.6157043406888736\t 2.7732845494267764\n",
            "\u001b[1m\u001b[92m4\u001b[0m\t \u001b[1m\u001b[92m[2.38780268 0.4549012 ]\u001b[0m\t \u001b[1m\u001b[92m0.37974856347542085\u001b[0m\t \u001b[1m\u001b[92m0.37974856347542085\u001b[0m\t \u001b[1m\u001b[92m2.7983476179306694\u001b[0m\t \u001b[1m\u001b[92m2.8144028529932292\u001b[0m\n",
            "5  \t [2.31584814 0.50851298]\t 0.7915712759093785\t 0.37974856347542085\t 2.411076745706214\t 2.4205084501062384\n",
            "6  \t [2.28541868 0.53141338]\t 1.0220769141323898\t 0.37974856347542085\t 2.503683283866689\t 2.4806517895344147\n",
            "7  \t [2.27052992 0.54295086]\t 1.1500045027878731\t 0.37974856347542085\t 2.272644293307114\t 2.357100824865877\n",
            "8  \t [2.45293253 4.01434402]\t 26860.44714850753\t 0.37974856347542085\t 2.718938322108052\t 2.718938322108052\n",
            "9  \t [ 0.37224333 -0.99008404]\t 9.183576366932936\t 0.37974856347542085\t 2.888897246380824\t 2.889282804875186\n",
            "10 \t [2.77858746 0.57869907]\t 0.41820128818005864\t 0.37974856347542085\t 2.312016298106981\t 2.3240586915033656\n",
            "11 \t [2.66631318 0.59867726]\t 0.7574933008371276\t 0.37974856347542085\t 2.683773541301939\t 2.681702273679203\n",
            "12 \t [-4.5         2.06598251]\t 1226.0050534643958\t 0.37974856347542085\t 2.457279142571153\t 2.510484127042538\n",
            "13 \t [2.60862306 0.60731335]\t 0.9512870367108561\t 0.37974856347542085\t 2.2452751097007044\t 2.243511301061213\n",
            "14 \t [2.57462922 0.61180331]\t 1.0684890713618707\t 0.37974856347542085\t 2.4420124881085896\t 2.496523078676367\n",
            "15 \t [2.55322608 0.61434995]\t 1.142371328950714\t 0.37974856347542085\t 2.4588506730264634\t 2.490461656559493\n",
            "16 \t [2.23183456 0.77405012]\t 4.868353251477844\t 0.37974856347542085\t 2.2193368800613866\t 2.2462787916213958\n",
            "17 \t [2.58679277 0.60644694]\t 0.9884059711086821\t 0.37974856347542085\t 2.328713135263075\t 2.3850454392225204\n",
            "18 \t [0.36984851 0.54255209]\t 11.082879115517166\t 0.37974856347542085\t 2.58701040697835\t 2.594367115088332\n",
            "19 \t [2.56616573 0.60941319]\t 1.0624172202726996\t 0.37974856347542085\t 2.4123697119290837\t 2.4103131763401073\n",
            "20 \t [4.05394612 0.35906145]\t 4.388812929785919\t 0.37974856347542085\t 2.6342255849328593\t 2.6342255849328593\n"
          ]
        }
      ],
      "source": [
        "### ESTIMATED GP EI GRADIENTS\n",
        "\n",
        "np.random.seed(run_num_17)\n",
        "surrogate_approx_17 = dGaussianProcess(cov_func, optimize=opt)\n",
        "\n",
        "approx_17 = GPGO_multi(surrogate_approx_17, Acquisition_grad(util), objfunc, param)\n",
        "approx_17.run(init_evals=n_init, max_iter=iters)\n"
      ]
    },
    {
      "cell_type": "code",
      "execution_count": 30,
      "metadata": {
        "id": "f0HIEP3PIUEa",
        "colab": {
          "base_uri": "https://localhost:8080/"
        },
        "outputId": "721bf2be-9091-40c4-a554-ed3d04b27e84"
      },
      "outputs": [
        {
          "output_type": "stream",
          "name": "stdout",
          "text": [
            "Evaluation \t Proposed point \t  Current eval. \t  Best eval. \t        Exact EI: StdDev. x \t Approx EI: StdDev. x \n",
            "init\t [1.35336818 0.04908036]\t 2.472652645883837\t 2.472652645883837\t    \t    \n",
            "init\t [ 3.40741324 -2.86343797]\t 7379.017314590048\t 2.472652645883837\t    \t    \n",
            "init\t [3.17009762 2.25122657]\t 1528.3101419799655\t 2.472652645883837\t    \t    \n",
            "init\t [1.49491501 4.39105903]\t 17224.913295283764\t 2.472652645883837\t    \t    \n",
            "init\t [-2.1872842  -4.24524667]\t 31030.348242396165\t 2.472652645883837\t    \t    \n",
            "1  \t [-4.5         1.99012187]\t 934.7327635304221\t 2.472652645883837\t 2.71250571397205\t 2.8408449245778034\n",
            "2  \t [ 0.37193901 -0.06880556]\t 9.82490698124635\t 2.472652645883837\t 2.3426071423175787\t 2.3399894853608636\n",
            "3  \t [-1.19711927  0.49696174]\t 27.857993237483797\t 2.472652645883837\t 2.3886832102548397\t 2.3888198597966195\n",
            "4  \t [-2.64708445  4.5       ]\t 58101.93167837424\t 2.472652645883837\t 2.7324421535614034\t 2.747182214992526\n",
            "5  \t [-0.05787514  0.37788318]\t 14.828593431975197\t 2.472652645883837\t 2.4240321911661384\t 2.4240321911661384\n",
            "6  \t [-4.1381565  -0.45127798]\t 138.11500640149742\t 2.472652645883837\t 2.586644948466975\t 2.586644948466975\n",
            "7  \t [ 0.71834686 -0.13825225]\t 6.481889053732349\t 2.472652645883837\t 2.675859390080522\t 2.674701618412447\n",
            "8  \t [0.88484688 0.25663613]\t 5.815927378828901\t 2.472652645883837\t 2.5133065993442445\t 2.5133067966848848\n",
            "9  \t [ 0.72617475 -0.11889605]\t 6.426974803206567\t 2.472652645883837\t 2.582248556244178\t 2.5825921278171875\n",
            "\u001b[1m\u001b[92m10\u001b[0m\t \u001b[1m\u001b[92m[ 1.68704758 -0.1705213 ]\u001b[0m\t \u001b[1m\u001b[92m1.4640500663699316\u001b[0m\t \u001b[1m\u001b[92m1.4640500663699316\u001b[0m\t \u001b[1m\u001b[92m2.8034519024733697\u001b[0m\t \u001b[1m\u001b[92m2.8034519024733697\u001b[0m\n",
            "11 \t [1.0525273  0.35300975]\t 5.056500630981661\t 1.4640500663699316\t 2.6685295659499157\t 2.6685295659499157\n",
            "12 \t [-0.54364369  0.07017653]\t 21.850606399934932\t 1.4640500663699316\t 2.3904600590412497\t 2.3904600590412497\n",
            "13 \t [ 0.9860123  -0.08264358]\t 4.486247685396708\t 1.4640500663699316\t 2.5595451531178885\t 2.5582992488399174\n",
            "14 \t [-0.57437167 -0.50826398]\t 23.484564656428027\t 1.4640500663699316\t 2.3116859199537676\t 2.3116859199537676\n",
            "15 \t [0.3327509 0.0225011]\t 10.310918931451553\t 1.4640500663699316\t 2.490383782311085\t 2.490383782311085\n",
            "16 \t [ 1.00548349 -0.06770362]\t 4.363989889247905\t 1.4640500663699316\t 2.2981562764241867\t 2.2977179589866843\n",
            "17 \t [ 0.28131272 -0.46177715]\t 10.664762287939428\t 1.4640500663699316\t 3.02713941048763\t 3.02713941048763\n",
            "18 \t [ 1.00721887 -0.06237848]\t 4.3555454655487305\t 1.4640500663699316\t 2.6751612826882774\t 2.670692903227279\n",
            "19 \t [ 1.00565991 -0.06133097]\t 4.366518074352165\t 1.4640500663699316\t 2.411466204323538\t 2.4090481103567583\n",
            "20 \t [ 1.00436487 -0.06046221]\t 4.375651966617939\t 1.4640500663699316\t 2.615958781509462\t 2.6163352565067273\n"
          ]
        }
      ],
      "source": [
        "### ESTIMATED GP EI GRADIENTS\n",
        "\n",
        "np.random.seed(run_num_18)\n",
        "surrogate_approx_18 = dGaussianProcess(cov_func, optimize=opt)\n",
        "\n",
        "approx_18 = GPGO_multi(surrogate_approx_18, Acquisition_grad(util), objfunc, param)\n",
        "approx_18.run(init_evals=n_init, max_iter=iters)\n"
      ]
    },
    {
      "cell_type": "code",
      "execution_count": 31,
      "metadata": {
        "id": "S3mxRQDLIUPC",
        "colab": {
          "base_uri": "https://localhost:8080/"
        },
        "outputId": "651d9c27-ca79-4b49-8be3-cc96638a748f"
      },
      "outputs": [
        {
          "output_type": "stream",
          "name": "stdout",
          "text": [
            "Evaluation \t Proposed point \t  Current eval. \t  Best eval. \t        Exact EI: StdDev. x \t Approx EI: StdDev. x \n",
            "init\t [-3.62219758  2.35124745]\t 1879.409018573639\t 63.544086067314716\t    \t    \n",
            "init\t [-2.27755824 -3.25681481]\t 7496.243410303341\t 63.544086067314716\t    \t    \n",
            "init\t [-1.51698093 -3.75300391]\t 7497.407542620609\t 63.544086067314716\t    \t    \n",
            "init\t [1.54779373 2.75934418]\t 1302.4341957421634\t 63.544086067314716\t    \t    \n",
            "init\t [4.34467723 1.22094661]\t 63.544086067314716\t 63.544086067314716\t    \t    \n",
            "1  \t [ 4.5 -4.5]\t 178131.83203125\t 63.544086067314716\t 2.8239664078590048\t 3.4814812098695986\n",
            "2  \t [4.5 4.5]\t 174813.36328125\t 63.544086067314716\t 2.758819914076914\t 2.758819914076914\n",
            "\u001b[1m\u001b[92m3\u001b[0m\t \u001b[1m\u001b[92m[0.22919318 0.51697962]\u001b[0m\t \u001b[1m\u001b[92m12.157760687468183\u001b[0m\t \u001b[1m\u001b[92m12.157760687468183\u001b[0m\t \u001b[1m\u001b[92m2.2162167579249594\u001b[0m\t \u001b[1m\u001b[92m2.2162167579249594\u001b[0m\n",
            "\u001b[1m\u001b[92m4\u001b[0m\t \u001b[1m\u001b[92m[4.32861053 0.45401573]\u001b[0m\t \u001b[1m\u001b[92m3.8389438415376955\u001b[0m\t \u001b[1m\u001b[92m3.8389438415376955\u001b[0m\t \u001b[1m\u001b[92m2.6341345291709777\u001b[0m\t \u001b[1m\u001b[92m2.7562340230681914\u001b[0m\n",
            "\u001b[1m\u001b[92m5\u001b[0m\t \u001b[1m\u001b[92m[2.90517894 0.76881884]\u001b[0m\t \u001b[1m\u001b[92m2.895774918507258\u001b[0m\t \u001b[1m\u001b[92m2.895774918507258\u001b[0m\t \u001b[1m\u001b[92m2.341997184667731\u001b[0m\t \u001b[1m\u001b[92m2.341997184667731\u001b[0m\n",
            "6  \t [4.29075496 0.48749832]\t 2.896874358177345\t 2.895774918507258\t 2.7498081424546945\t 2.8421443472196\n",
            "7  \t [ 1.35233959 -0.65651329]\t 3.5319197186024525\t 2.895774918507258\t 2.4751340128075694\t 2.477471438939105\n",
            "8  \t [ 0.9667328  -1.30854697]\t 9.428693464672524\t 2.895774918507258\t 2.4859149560162486\t 2.4859149560162486\n",
            "9  \t [-0.32339996  0.12692308]\t 18.461546548942266\t 2.895774918507258\t 2.587956104458786\t 2.5883215144366716\n",
            "10 \t [ 3.62092155 -0.40557069]\t 15.01671241608022\t 2.895774918507258\t 2.7609781185509257\t 2.7609781185509257\n",
            "\u001b[1m\u001b[92m11\u001b[0m\t \u001b[1m\u001b[92m[4.26280865 0.49901631]\u001b[0m\t \u001b[1m\u001b[92m2.5368252039712966\u001b[0m\t \u001b[1m\u001b[92m2.5368252039712966\u001b[0m\t \u001b[1m\u001b[92m2.1797978142570282\u001b[0m\t \u001b[1m\u001b[92m2.232343999194627\u001b[0m\n",
            "\u001b[1m\u001b[92m12\u001b[0m\t \u001b[1m\u001b[92m[4.23455303 0.50236927]\u001b[0m\t \u001b[1m\u001b[92m2.3581697372512727\u001b[0m\t \u001b[1m\u001b[92m2.3581697372512727\u001b[0m\t \u001b[1m\u001b[92m2.485008282589914\u001b[0m\t \u001b[1m\u001b[92m2.503066673836631\u001b[0m\n",
            "\u001b[1m\u001b[92m13\u001b[0m\t \u001b[1m\u001b[92m[4.22838991 0.50398286]\u001b[0m\t \u001b[1m\u001b[92m2.3028191321863627\u001b[0m\t \u001b[1m\u001b[92m2.3028191321863627\u001b[0m\t \u001b[1m\u001b[92m2.578545782698297\u001b[0m\t \u001b[1m\u001b[92m2.6308539098843253\u001b[0m\n",
            "\u001b[1m\u001b[92m14\u001b[0m\t \u001b[1m\u001b[92m[4.227369   0.50497679]\u001b[0m\t \u001b[1m\u001b[92m2.2795070947359695\u001b[0m\t \u001b[1m\u001b[92m2.2795070947359695\u001b[0m\t \u001b[1m\u001b[92m2.344715347847568\u001b[0m\t \u001b[1m\u001b[92m2.400499425551437\u001b[0m\n",
            "\u001b[1m\u001b[92m15\u001b[0m\t \u001b[1m\u001b[92m[4.22736326 0.50567473]\u001b[0m\t \u001b[1m\u001b[92m2.2658647313040405\u001b[0m\t \u001b[1m\u001b[92m2.2658647313040405\u001b[0m\t \u001b[1m\u001b[92m2.5699609367433505\u001b[0m\t \u001b[1m\u001b[92m2.6534575927212036\u001b[0m\n",
            "\u001b[1m\u001b[92m16\u001b[0m\t \u001b[1m\u001b[92m[4.22746656 0.50619856]\u001b[0m\t \u001b[1m\u001b[92m2.25604515288817\u001b[0m\t \u001b[1m\u001b[92m2.25604515288817\u001b[0m\t \u001b[1m\u001b[92m2.377856378860228\u001b[0m\t \u001b[1m\u001b[92m2.412679243464233\u001b[0m\n",
            "17 \t [ 0.14892618 -0.21857378]\t 12.306203792857321\t 2.25604515288817\t 2.4601989482581508\t 2.4601989739077137\n",
            "\u001b[1m\u001b[92m18\u001b[0m\t \u001b[1m\u001b[92m[4.22781297 0.50660522]\u001b[0m\t \u001b[1m\u001b[92m2.2494250415935224\u001b[0m\t \u001b[1m\u001b[92m2.2494250415935224\u001b[0m\t \u001b[1m\u001b[92m2.608781751703453\u001b[0m\t \u001b[1m\u001b[92m2.622321073024213\u001b[0m\n",
            "19 \t [-0.92773697  0.38389658]\t 25.790931559195393\t 2.2494250415935224\t 2.1726356846811377\t 2.1726356846811377\n",
            "\u001b[1m\u001b[92m20\u001b[0m\t \u001b[1m\u001b[92m[4.22803941 0.50692116]\u001b[0m\t \u001b[1m\u001b[92m2.244124585110816\u001b[0m\t \u001b[1m\u001b[92m2.244124585110816\u001b[0m\t \u001b[1m\u001b[92m2.4798127585692606\u001b[0m\t \u001b[1m\u001b[92m2.5817152826616305\u001b[0m\n"
          ]
        }
      ],
      "source": [
        "### ESTIMATED GP EI GRADIENTS\n",
        "\n",
        "np.random.seed(run_num_19)\n",
        "surrogate_approx_19 = dGaussianProcess(cov_func, optimize=opt)\n",
        "\n",
        "approx_19 = GPGO_multi(surrogate_approx_19, Acquisition_grad(util), objfunc, param)\n",
        "approx_19.run(init_evals=n_init, max_iter=iters)\n"
      ]
    },
    {
      "cell_type": "code",
      "execution_count": 32,
      "metadata": {
        "id": "Aawd59dRIUYn",
        "colab": {
          "base_uri": "https://localhost:8080/"
        },
        "outputId": "d25ea46f-4ba0-48f6-8ae2-f17aabd3b394"
      },
      "outputs": [
        {
          "output_type": "stream",
          "name": "stdout",
          "text": [
            "Evaluation \t Proposed point \t  Current eval. \t  Best eval. \t        Exact EI: StdDev. x \t Approx EI: StdDev. x \n",
            "init\t [0.79317721 3.57942355]\t 1607.3829986954497\t 30.55204392634667\t    \t    \n",
            "init\t [3.52377657 2.8425373 ]\t 7209.150060592592\t 30.55204392634667\t    \t    \n",
            "init\t [-4.17699373  1.72581824]\t 253.68900136908488\t 30.55204392634667\t    \t    \n",
            "init\t [-1.09187152  0.16659851]\t 30.55204392634667\t 30.55204392634667\t    \t    \n",
            "init\t [ 1.42156319 -2.75534804]\t 963.9362838324588\t 30.55204392634667\t    \t    \n",
            "\u001b[1m\u001b[92m1\u001b[0m\t \u001b[1m\u001b[92m[0.122115   0.01132059]\u001b[0m\t \u001b[1m\u001b[92m12.694773939546916\u001b[0m\t \u001b[1m\u001b[92m12.694773939546916\u001b[0m\t \u001b[1m\u001b[92m1.9174222796820688\u001b[0m\t \u001b[1m\u001b[92m1.9174222796820688\u001b[0m\n",
            "2  \t [-4.5 -4.5]\t 181853.61328125\t 12.694773939546916\t 2.892435401186829\t 2.886054385426392\n",
            "3  \t [-2.05277526  4.11642488]\t 20137.758854356038\t 12.694773939546916\t 2.44188999320172\t 2.44188999320172\n",
            "4  \t [ 4.06603407 -2.50992755]\t 5050.284622909643\t 12.694773939546916\t 2.661010835851499\t 2.661010835851499\n",
            "5  \t [-1.02146841 -0.9112768 ]\t 37.322051987203025\t 12.694773939546916\t 2.548844940146761\t 2.548844940146761\n",
            "6  \t [2.27616857 4.16020093]\t 28599.17782975805\t 12.694773939546916\t 2.923324060576606\t 2.923324060576606\n",
            "7  \t [-2.98729135  0.25629281]\t 70.19904802092951\t 12.694773939546916\t 2.95493390637091\t 2.95493390637091\n",
            "8  \t [1.08512156 1.37104853]\t 32.695278621618264\t 12.694773939546916\t 2.7074492645630532\t 2.7074492645630532\n",
            "9  \t [0.24312803 1.87617163]\t 27.029809434956928\t 12.694773939546916\t 2.5745496284537026\t 2.5885582725011966\n",
            "\u001b[1m\u001b[92m10\u001b[0m\t \u001b[1m\u001b[92m[ 1.33697477 -0.11269899]\u001b[0m\t \u001b[1m\u001b[92m2.5191468481618386\u001b[0m\t \u001b[1m\u001b[92m2.5191468481618386\u001b[0m\t \u001b[1m\u001b[92m2.596413227386233\u001b[0m\t \u001b[1m\u001b[92m2.596413227386233\u001b[0m\n",
            "11 \t [-0.6374706  -1.10525233]\t 29.524403650524555\t 2.5191468481618386\t 2.7078377734609105\t 2.7078377734609105\n",
            "12 \t [0.25754682 1.85003687]\t 27.20017292451964\t 2.5191468481618386\t 2.7242699126350587\t 2.7340408096090427\n",
            "13 \t [-1.08014303  2.48027462]\t 174.21624767034155\t 2.5191468481618386\t 3.007032369470511\t 3.007032369470511\n",
            "14 \t [-0.2158129   2.03366017]\t 5.157661734763353\t 2.5191468481618386\t 2.3702154092670047\t 2.407205168084216\n",
            "15 \t [1.31037044 0.19436954]\t 2.9294557601914732\t 2.5191468481618386\t 2.2851194331879494\t 2.286892647527871\n",
            "16 \t [-0.15807668  2.07826259]\t 6.605246413877777\t 2.5191468481618386\t 2.5233428696830353\t 2.5372379447283806\n",
            "17 \t [-0.90093755  1.48095272]\t 2.877984625177997\t 2.5191468481618386\t 2.468808858576466\t 2.4830581050446647\n",
            "18 \t [ 0.29897303 -0.14874033]\t 10.575810812178716\t 2.5191468481618386\t 2.7070122141263697\t 2.7070122141263697\n",
            "19 \t [1.28005633 0.20112208]\t 3.1088121893730865\t 2.5191468481618386\t 2.5516556817147897\t 2.5541840213923437\n",
            "20 \t [1.27665068 0.1998    ]\t 3.123716311962998\t 2.5191468481618386\t 2.2200554136608126\t 2.2232025664542636\n"
          ]
        }
      ],
      "source": [
        "### ESTIMATED GP EI GRADIENTS\n",
        "\n",
        "np.random.seed(run_num_20)\n",
        "surrogate_approx_20 = dGaussianProcess(cov_func, optimize=opt)\n",
        "\n",
        "approx_20 = GPGO_multi(surrogate_approx_20, Acquisition_grad(util), objfunc, param)\n",
        "approx_20.run(init_evals=n_init, max_iter=iters)\n"
      ]
    },
    {
      "cell_type": "code",
      "execution_count": 33,
      "metadata": {
        "id": "xkgzPRbBTHaq",
        "colab": {
          "base_uri": "https://localhost:8080/"
        },
        "outputId": "e655bd8c-5bd2-4e37-ab49-431458bde57b"
      },
      "outputs": [
        {
          "output_type": "execute_result",
          "data": {
            "text/plain": [
              "1659620496.1718922"
            ]
          },
          "metadata": {},
          "execution_count": 33
        }
      ],
      "source": [
        "end_approx = time.time()\n",
        "end_approx\n",
        "\n",
        "time_approx = end_approx - start_approx\n",
        "time_approx\n",
        "\n",
        "start_exact = time.time()\n",
        "start_exact"
      ]
    },
    {
      "cell_type": "code",
      "execution_count": 34,
      "metadata": {
        "id": "7CG3Ndvb16Rb",
        "colab": {
          "base_uri": "https://localhost:8080/"
        },
        "outputId": "423877c5-0232-477f-be80-9f03facc6f16"
      },
      "outputs": [
        {
          "output_type": "stream",
          "name": "stdout",
          "text": [
            "Evaluation \t Proposed point \t  Current eval. \t  Best eval. \t        Exact EI: StdDev. x \t Approx EI: StdDev. x \n",
            "init\t [-0.74680196  1.98292044]\t 6.597029498756062\t 6.597029498756062\t    \t    \n",
            "init\t [-4.49897063 -1.77900685]\t 1305.4710589552556\t 6.597029498756062\t    \t    \n",
            "init\t [-3.17919698 -3.66895265]\t 28173.776013477825\t 6.597029498756062\t    \t    \n",
            "init\t [-2.8236581  -1.38995346]\t 237.9931764117774\t 6.597029498756062\t    \t    \n",
            "init\t [-0.92909273  0.34935061]\t 26.1790631757263\t 6.597029498756062\t    \t    \n",
            "1  \t [-2.37435633 -0.56506301]\t 71.61499686447547\t 6.597029498756062\t 3.2978783434865053\t 3.4035902288027806\n",
            "2  \t [4.27902821 4.5       ]\t 158187.71146813149\t 6.597029498756062\t 2.802649344689044\t 3.303266071903048\n",
            "3  \t [ 2.96086352 -3.08884203]\t 8543.563822192018\t 6.597029498756062\t 2.7571081298229\t 3.3313911644480396\n",
            "4  \t [-3.30370358 -0.02951185]\t 89.98398580456724\t 6.597029498756062\t 2.9492353574150054\t 3.24177157190795\n",
            "5  \t [-0.72272694  4.16926632]\t 2496.6162260805277\t 6.597029498756062\t 2.300266632494157\t 2.645408709120457\n",
            "6  \t [-0.44447367  1.25547987]\t 10.693428704798322\t 6.597029498756062\t 2.3815106380811866\t 2.5368868965792086\n",
            "7  \t [-2.70588737 -0.46893506]\t 80.46140997364832\t 6.597029498756062\t 2.6738602227713533\t 2.8385377197714576\n",
            "8  \t [-4.10533079  2.43837241]\t 3131.8724124340383\t 6.597029498756062\t 2.8148663993703575\t 2.846821986692154\n",
            "\u001b[1m\u001b[92m9\u001b[0m\t \u001b[1m\u001b[92m[3.11460139 0.40584646]\u001b[0m\t \u001b[1m\u001b[92m0.3256875337935473\u001b[0m\t \u001b[1m\u001b[92m0.3256875337935473\u001b[0m\t \u001b[1m\u001b[92m2.593185579783309\u001b[0m\t \u001b[1m\u001b[92m2.5973181143459407\u001b[0m\n",
            "10 \t [-0.29902766  1.22494088]\t 12.102019163180898\t 0.3256875337935473\t 2.658386620802742\t 2.6519790761977267\n",
            "11 \t [0.18939949 1.19019763]\t 15.372761843263978\t 0.3256875337935473\t 2.4023033109425405\t 2.419535661896451\n",
            "12 \t [-1.1686124   0.27627695]\t 30.792670793838237\t 0.3256875337935473\t 2.649348925724384\t 2.649348925724384\n",
            "13 \t [-0.55405432  1.23931836]\t 10.19747389745651\t 0.3256875337935473\t 2.1840323234106216\t 2.146879952340069\n",
            "14 \t [2.00284371 0.6398173 ]\t 3.059848821768207\t 0.3256875337935473\t 2.659799211120851\t 2.6622318931038658\n",
            "15 \t [1.66031518 0.81676401]\t 7.805060034276385\t 0.3256875337935473\t 2.3233445125371706\t 2.329161869654091\n",
            "16 \t [ 0.59094824 -0.28201823]\t 7.545382411452981\t 0.3256875337935473\t 2.5739150322738116\t 2.573915019955094\n",
            "17 \t [-0.12845407 -1.19520553]\t 16.830670491147806\t 0.3256875337935473\t 2.5480315903055435\t 2.5470709227642128\n",
            "18 \t [-0.23394339 -1.35749328]\t 20.285171989683334\t 0.3256875337935473\t 2.589360568831159\t 2.589360568831159\n",
            "19 \t [0.94607538 0.1085736 ]\t 4.983463830714236\t 0.3256875337935473\t 2.8983850116238523\t 2.898384985772543\n",
            "20 \t [4.00377365 0.28199968]\t 5.611626005516949\t 0.3256875337935473\t 2.6031280054136943\t 2.6214065411790113\n"
          ]
        }
      ],
      "source": [
        "### EXACT GP EI GRADIENTS\n",
        "\n",
        "np.random.seed(run_num_1)\n",
        "surrogate_exact_1 = dGaussianProcess(cov_func, optimize=opt)\n",
        "\n",
        "exact_1 = dGPGO(surrogate_exact_1, Acquisition_grad(util), objfunc, param)\n",
        "exact_1.run(init_evals=n_init, max_iter=iters)\n"
      ]
    },
    {
      "cell_type": "code",
      "execution_count": 35,
      "metadata": {
        "id": "-ilCPSAu9SAg",
        "colab": {
          "base_uri": "https://localhost:8080/"
        },
        "outputId": "35dc8015-c506-40fe-842e-81fb429f5dc1"
      },
      "outputs": [
        {
          "output_type": "stream",
          "name": "stdout",
          "text": [
            "Evaluation \t Proposed point \t  Current eval. \t  Best eval. \t        Exact EI: StdDev. x \t Approx EI: StdDev. x \n",
            "init\t [-0.57604588 -4.26666391]\t 2377.8441741808733\t 8.81624267140378\t    \t    \n",
            "init\t [ 0.4469623  -0.58209847]\t 8.81624267140378\t 8.81624267140378\t    \t    \n",
            "init\t [-0.71668978 -1.52698661]\t 47.3742628518178\t 8.81624267140378\t    \t    \n",
            "init\t [-2.65816229  1.0734387 ]\t 9.08861590265506\t 8.81624267140378\t    \t    \n",
            "init\t [-1.80310794 -2.09855452]\t 510.2220943696988\t 8.81624267140378\t    \t    \n",
            "1  \t [2.84062527 4.5       ]\t 70264.9431379411\t 8.81624267140378\t 2.998538789286882\t 3.1022210661615732\n",
            "2  \t [ 0.27343392 -0.64448675]\t 10.66286934440915\t 8.81624267140378\t 2.2759466180404235\t 2.8796376414950493\n",
            "3  \t [ 4.5        -2.00507963]\t 1850.9261121281302\t 8.81624267140378\t 2.6091589123328074\t 3.7331775640540457\n",
            "4  \t [-2.23881166  3.69109972]\t 12301.26143955591\t 8.81624267140378\t 2.7168619773809533\t 3.1565276599271006\n",
            "5  \t [-3.10575015  0.4508268 ]\t 62.2577826628917\t 8.81624267140378\t 2.739808861910063\t 2.779520938404757\n",
            "6  \t [-4.5 -4.5]\t 181853.61328125\t 8.81624267140378\t 2.7380849592954055\t 2.744785372237914\n",
            "7  \t [ 0.00340314 -0.21443521]\t 14.158113200102553\t 8.81624267140378\t 2.583602065305297\t 2.598587044162821\n",
            "\u001b[1m\u001b[92m8\u001b[0m\t \u001b[1m\u001b[92m[1.18899614 0.28890774]\u001b[0m\t \u001b[1m\u001b[92m3.9198362513979403\u001b[0m\t \u001b[1m\u001b[92m3.9198362513979403\u001b[0m\t \u001b[1m\u001b[92m2.4206024191414204\u001b[0m\t \u001b[1m\u001b[92m2.424573642714897\u001b[0m\n",
            "9  \t [ 0.21720901 -0.58386952]\t 11.36616248689489\t 3.9198362513979403\t 2.4788235459915438\t 2.4788238105202054\n",
            "10 \t [-1.3490516  -0.36475144]\t 39.174242198980195\t 3.9198362513979403\t 2.527205513447223\t 2.527205513447223\n",
            "\u001b[1m\u001b[92m11\u001b[0m\t \u001b[1m\u001b[92m[1.35620489 0.21291291]\u001b[0m\t \u001b[1m\u001b[92m2.7428763954615323\u001b[0m\t \u001b[1m\u001b[92m2.7428763954615323\u001b[0m\t \u001b[1m\u001b[92m2.6788961218259653\u001b[0m\t \u001b[1m\u001b[92m2.682841411040049\u001b[0m\n",
            "12 \t [ 0.27421969 -0.49664816]\t 10.732125770122106\t 2.7428763954615323\t 2.0855704908104373\t 2.0855704908104373\n",
            "13 \t [1.31579551 0.25855484]\t 3.093913363061002\t 2.7428763954615323\t 2.6972447971995037\t 2.700468502109771\n",
            "14 \t [-0.45232074 -0.2699137 ]\t 20.953417854841803\t 2.7428763954615323\t 2.7606059437569965\t 2.7606059437569965\n",
            "15 \t [ 0.33128123 -0.72207936]\t 9.942676605415704\t 2.7428763954615323\t 2.4873242885189786\t 2.4873242885189786\n",
            "16 \t [-2.96213926  0.42750764]\t 60.712769768510775\t 2.7428763954615323\t 2.3777189291847427\t 2.3662062970780995\n",
            "17 \t [-0.35770512  0.1922898 ]\t 18.812927262574632\t 2.7428763954615323\t 2.5743162266503363\t 2.5743162266503363\n",
            "18 \t [0.2245534  0.62470299]\t 12.497347395058213\t 2.7428763954615323\t 2.5131202194360225\t 2.5131202194360225\n",
            "19 \t [ 0.15709059 -0.06689519]\t 12.248849441682406\t 2.7428763954615323\t 2.485616114095252\t 2.485616114095252\n",
            "20 \t [0.61135815 0.85685245]\t 12.104349412384298\t 2.7428763954615323\t 2.6053125115320728\t 2.6053125115320728\n"
          ]
        }
      ],
      "source": [
        "### EXACT GP EI GRADIENTS\n",
        "\n",
        "np.random.seed(run_num_2)\n",
        "surrogate_exact_2 = dGaussianProcess(cov_func, optimize=opt)\n",
        "\n",
        "exact_2 = dGPGO(surrogate_exact_2, Acquisition_grad(util), objfunc, param)\n",
        "exact_2.run(init_evals=n_init, max_iter=iters)\n"
      ]
    },
    {
      "cell_type": "code",
      "execution_count": 36,
      "metadata": {
        "id": "XieJ158mIvlP",
        "colab": {
          "base_uri": "https://localhost:8080/"
        },
        "outputId": "3effb75e-05dc-4ca6-b5fb-2c3851a5c369"
      },
      "outputs": [
        {
          "output_type": "stream",
          "name": "stdout",
          "text": [
            "Evaluation \t Proposed point \t  Current eval. \t  Best eval. \t        Exact EI: StdDev. x \t Approx EI: StdDev. x \n",
            "init\t [0.45718112 1.8733304 ]\t 41.912714742005974\t 41.912714742005974\t    \t    \n",
            "init\t [-1.88185735  0.09744845]\t 47.451188393399434\t 41.912714742005974\t    \t    \n",
            "init\t [3.53652259 3.5666378 ]\t 27475.816689924115\t 41.912714742005974\t    \t    \n",
            "init\t [-3.36973221 -2.6348141 ]\t 5079.048973002421\t 41.912714742005974\t    \t    \n",
            "init\t [-4.03679517 -0.53271141]\t 138.4086524103332\t 41.912714742005974\t    \t    \n",
            "1  \t [ 2.02688874 -2.18292273]\t 541.8172707416593\t 41.912714742005974\t 2.096364503506925\t 2.775323208047297\n",
            "2  \t [-2.86892567  4.5       ]\t 68383.2060136583\t 41.912714742005974\t 2.5492796131405413\t 2.823312625003037\n",
            "\u001b[1m\u001b[92m3\u001b[0m\t \u001b[1m\u001b[92m[-0.6226648  0.3550185]\u001b[0m\t \u001b[1m\u001b[92m21.79071382156392\u001b[0m\t \u001b[1m\u001b[92m21.79071382156392\u001b[0m\t \u001b[1m\u001b[92m2.5940919570198315\u001b[0m\t \u001b[1m\u001b[92m2.5940919570198315\u001b[0m\n",
            "4  \t [-0.33264048 -4.08236422]\t 673.7438378493614\t 21.79071382156392\t 2.3646858794298686\t 2.4028627589584426\n",
            "\u001b[1m\u001b[92m5\u001b[0m\t \u001b[1m\u001b[92m[-0.2061753   0.00508999]\u001b[0m\t \u001b[1m\u001b[92m16.955778508006063\u001b[0m\t \u001b[1m\u001b[92m16.955778508006063\u001b[0m\t \u001b[1m\u001b[92m2.5241601120779027\u001b[0m\t \u001b[1m\u001b[92m2.5241601120779027\u001b[0m\n",
            "6  \t [ 4.46207675 -4.05849301]\t 95598.74424276894\t 16.955778508006063\t 2.539169769551123\t 2.5956411566584436\n",
            "\u001b[1m\u001b[92m7\u001b[0m\t \u001b[1m\u001b[92m[ 0.31432801 -0.31916718]\u001b[0m\t \u001b[1m\u001b[92m10.341874046655775\u001b[0m\t \u001b[1m\u001b[92m10.341874046655775\u001b[0m\t \u001b[1m\u001b[92m2.492043851875156\u001b[0m\t \u001b[1m\u001b[92m2.492043851875156\u001b[0m\n",
            "\u001b[1m\u001b[92m8\u001b[0m\t \u001b[1m\u001b[92m[1.65871501 0.24266029]\u001b[0m\t \u001b[1m\u001b[92m1.514167052297213\u001b[0m\t \u001b[1m\u001b[92m1.514167052297213\u001b[0m\t \u001b[1m\u001b[92m2.6023217939289727\u001b[0m\t \u001b[1m\u001b[92m2.6023217939289727\u001b[0m\n",
            "9  \t [0.25645299 0.43800457]\t 11.723774064607689\t 1.514167052297213\t 2.3722512092592822\t 2.3722512092592822\n",
            "10 \t [-0.24941589 -1.83972621]\t 27.218703433882453\t 1.514167052297213\t 2.623268433089555\t 2.623268433089555\n",
            "\u001b[1m\u001b[92m11\u001b[0m\t \u001b[1m\u001b[92m[ 1.63919516 -0.10000002]\u001b[0m\t \u001b[1m\u001b[92m1.4538363622025459\u001b[0m\t \u001b[1m\u001b[92m1.4538363622025459\u001b[0m\t \u001b[1m\u001b[92m2.5576367614321915\u001b[0m\t \u001b[1m\u001b[92m2.551744981045979\u001b[0m\n",
            "12 \t [1.29967638 0.03423749]\t 2.7225713271096708\t 1.4538363622025459\t 2.4792838553475702\t 2.479438514012535\n",
            "13 \t [-4.06246526  0.39746662]\t 89.11695093711485\t 1.4538363622025459\t 2.6091903643188807\t 2.6253544186444793\n",
            "14 \t [0.14759226 0.06759569]\t 12.416820499065905\t 1.4538363622025459\t 2.374695450303528\t 2.374695450303528\n",
            "15 \t [ 0.66998814 -1.17941873]\t 7.044089243447181\t 1.4538363622025459\t 2.526514376886212\t 2.526514376886212\n",
            "16 \t [1.17469173 0.06373557]\t 3.4309918005688633\t 1.4538363622025459\t 2.6749124274245335\t 2.676436617473169\n",
            "17 \t [0.16992995 1.48113172]\t 17.56177941278189\t 1.4538363622025459\t 2.3828563608183195\t 2.3828563608183195\n",
            "18 \t [ 1.30059241 -0.00396573]\t 2.693201850708828\t 1.4538363622025459\t 2.8507942413949823\t 2.8510867271718743\n",
            "\u001b[1m\u001b[92m19\u001b[0m\t \u001b[1m\u001b[92m[ 2.21640951 -0.10338718]\u001b[0m\t \u001b[1m\u001b[92m1.062311432950786\u001b[0m\t \u001b[1m\u001b[92m1.062311432950786\u001b[0m\t \u001b[1m\u001b[92m2.5460434336006\u001b[0m\t \u001b[1m\u001b[92m2.5460434336006\u001b[0m\n",
            "20 \t [ 1.15899661 -1.1259901 ]\t 7.520744782883107\t 1.062311432950786\t 2.260353625818895\t 2.260353625818895\n"
          ]
        }
      ],
      "source": [
        "### EXACT GP EI GRADIENTS\n",
        "\n",
        "np.random.seed(run_num_3)\n",
        "surrogate_exact_3 = dGaussianProcess(cov_func, optimize=opt)\n",
        "\n",
        "exact_3 = dGPGO(surrogate_exact_3, Acquisition_grad(util), objfunc, param)\n",
        "exact_3.run(init_evals=n_init, max_iter=iters)\n"
      ]
    },
    {
      "cell_type": "code",
      "execution_count": 37,
      "metadata": {
        "id": "PhLBVOIfIvol",
        "colab": {
          "base_uri": "https://localhost:8080/"
        },
        "outputId": "7267bcb9-5706-44dd-ec79-68e0624a0002"
      },
      "outputs": [
        {
          "output_type": "stream",
          "name": "stdout",
          "text": [
            "Evaluation \t Proposed point \t  Current eval. \t  Best eval. \t        Exact EI: StdDev. x \t Approx EI: StdDev. x \n",
            "init\t [4.20326855 0.42509024]\t 3.8409856613776237\t 3.8409856613776237\t    \t    \n",
            "init\t [4.25415924 1.93334394]\t 1070.6518137934977\t 3.8409856613776237\t    \t    \n",
            "init\t [ 1.77955942 -2.55519454]\t 1001.3529311398922\t 3.8409856613776237\t    \t    \n",
            "init\t [ 4.28647009 -4.4439277 ]\t 150069.47442764963\t 3.8409856613776237\t    \t    \n",
            "init\t [-2.22315874 -0.58687621]\t 67.08861688517413\t 3.8409856613776237\t    \t    \n",
            "1  \t [-1.14982733  4.5       ]\t 10603.397098545647\t 3.8409856613776237\t 2.2295734349716296\t 3.1540475618274812\n",
            "2  \t [-4.5 -4.5]\t 181853.61328125\t 3.8409856613776237\t 2.8227944726476055\t 2.8126903053853467\n",
            "3  \t [-4.34279638  0.44848394]\t 91.12669018583735\t 3.8409856613776237\t 2.798579536121982\t 2.8381283316587194\n",
            "4  \t [0.18688889 0.64582025]\t 12.83233207704502\t 3.8409856613776237\t 2.6609186293134983\t 2.660959549626435\n",
            "5  \t [-0.64660517  0.05226364]\t 23.546860358285628\t 3.8409856613776237\t 2.4163917405236504\t 2.4163917405236504\n",
            "\u001b[1m\u001b[92m6\u001b[0m\t \u001b[1m\u001b[92m[1.92144706 0.19082256]\u001b[0m\t \u001b[1m\u001b[92m0.6757710045027059\u001b[0m\t \u001b[1m\u001b[92m0.6757710045027059\u001b[0m\t \u001b[1m\u001b[92m2.612222903538823\u001b[0m\t \u001b[1m\u001b[92m2.6040146415025984\u001b[0m\n",
            "7  \t [ 3.03168448 -0.16458024]\t 4.789458730076892\t 0.6757710045027059\t 2.0929653519025284\t 2.1206560571978232\n",
            "8  \t [1.61057598 0.34123956]\t 2.0396008651982047\t 0.6757710045027059\t 2.359247642565754\t 2.359724070150379\n",
            "9  \t [-0.62508139 -1.01514705]\t 27.833781277805606\t 0.6757710045027059\t 2.374077306528876\t 2.374077306528876\n",
            "10 \t [2.00077025 0.89650121]\t 9.388851881869538\t 0.6757710045027059\t 3.1888002798908994\t 3.1888002798908994\n",
            "11 \t [1.68267174 1.60274265]\t 92.1687068186896\t 0.6757710045027059\t 2.85711078142276\t 2.85711078142276\n",
            "12 \t [ 3.26422703 -0.20931156]\t 7.196892019655629\t 0.6757710045027059\t 2.6402656377518947\t 2.7428901962785774\n",
            "13 \t [1.01783185 0.66176926]\t 7.769308187977419\t 0.6757710045027059\t 2.531493023694388\t 2.531493023694388\n",
            "14 \t [-0.75485471  1.04199996]\t 13.311114503878152\t 0.6757710045027059\t 2.3514660664150173\t 2.3514660664150173\n",
            "\u001b[1m\u001b[92m15\u001b[0m\t \u001b[1m\u001b[92m[2.40257192 0.32987742]\u001b[0m\t \u001b[1m\u001b[92m0.11923650225605985\u001b[0m\t \u001b[1m\u001b[92m0.11923650225605985\u001b[0m\t \u001b[1m\u001b[92m2.5893740779023227\u001b[0m\t \u001b[1m\u001b[92m2.5893740779023227\u001b[0m\n",
            "16 \t [0.96144196 0.79147725]\t 9.844694739291802\t 0.11923650225605985\t 2.506309135672555\t 2.506309135672555\n",
            "17 \t [1.23306047 0.25487931]\t 3.5360727119691293\t 0.11923650225605985\t 2.483292688009349\t 2.491143151996103\n",
            "18 \t [ 3.00915449 -0.1697513 ]\t 4.6915294526155655\t 0.11923650225605985\t 2.5645255852426394\t 2.6122783738748416\n",
            "19 \t [ 0.38233586 -0.14433148]\t 9.671236974025433\t 0.11923650225605985\t 2.663826507669348\t 2.663826507669348\n",
            "20 \t [-2.79167357  0.57016609]\t 48.38318149936555\t 0.11923650225605985\t 2.4235096009377775\t 2.4235096009377775\n"
          ]
        }
      ],
      "source": [
        "### EXACT GP EI GRADIENTS\n",
        "\n",
        "np.random.seed(run_num_4)\n",
        "surrogate_exact_4 = dGaussianProcess(cov_func, optimize=opt)\n",
        "\n",
        "exact_4 = dGPGO(surrogate_exact_4, Acquisition_grad(util), objfunc, param)\n",
        "exact_4.run(init_evals=n_init, max_iter=iters)\n"
      ]
    },
    {
      "cell_type": "code",
      "execution_count": 38,
      "metadata": {
        "id": "arbiPyj2IvsJ",
        "colab": {
          "base_uri": "https://localhost:8080/"
        },
        "outputId": "557952b4-736c-4708-bc58-32c54648f2b3"
      },
      "outputs": [
        {
          "output_type": "stream",
          "name": "stdout",
          "text": [
            "Evaluation \t Proposed point \t  Current eval. \t  Best eval. \t        Exact EI: StdDev. x \t Approx EI: StdDev. x \n",
            "init\t [-2.50206146  3.33659076]\t 8263.905568073349\t 0.311397019260738\t    \t    \n",
            "init\t [-2.6395276   3.76749817]\t 19560.15202528338\t 0.311397019260738\t    \t    \n",
            "init\t [-0.1042993   1.00569477]\t 14.186578993925806\t 0.311397019260738\t    \t    \n",
            "init\t [2.39317071 0.16576189]\t 0.311397019260738\t 0.311397019260738\t    \t    \n",
            "init\t [-1.82879549 -2.81050894]\t 2208.9823086257425\t 0.311397019260738\t    \t    \n",
            "1  \t [ 3.80474653 -4.48007209]\t 123826.98871542915\t 0.311397019260738\t 3.235221350975919\t 3.3364866041675123\n",
            "2  \t [3.79323509 4.08267455]\t 70009.93922772788\t 0.311397019260738\t 2.920163841178715\t 2.9539271792973527\n",
            "3  \t [-4.5       -0.2949202]\t 146.54263415905643\t 0.311397019260738\t 2.5466837123945565\t 2.785317405778088\n",
            "4  \t [ 1.73613187 -0.92222102]\t 7.560826073967701\t 0.311397019260738\t 2.530530870469891\t 2.6272540732523293\n",
            "5  \t [ 4.11451485 -0.10747773]\t 14.878957187216457\t 0.311397019260738\t 2.4386352328011154\t 2.5899728334654197\n",
            "6  \t [ 0.80139819 -1.30716732]\t 8.063690868992715\t 0.311397019260738\t 2.8345730317365003\t 2.783610023168169\n",
            "7  \t [2.11617465 0.59910775]\t 2.151842712071563\t 0.311397019260738\t 2.227596729747874\t 2.164726082773658\n",
            "\u001b[1m\u001b[92m8\u001b[0m\t \u001b[1m\u001b[92m[2.48726067 0.29494593]\u001b[0m\t \u001b[1m\u001b[92m0.10540187935648397\u001b[0m\t \u001b[1m\u001b[92m0.10540187935648397\u001b[0m\t \u001b[1m\u001b[92m2.7142902366688744\u001b[0m\t \u001b[1m\u001b[92m2.679883024993125\u001b[0m\n",
            "9  \t [2.3533394  0.45153547]\t 0.423974034390513\t 0.10540187935648397\t 2.456091544758261\t 2.5516658468597373\n",
            "10 \t [-4.5 -4.5]\t 181853.61328125\t 0.10540187935648397\t 2.5070847992382403\t 2.4902361675844897\n",
            "11 \t [ 1.96531956 -0.04500169]\t 0.8249195424912791\t 0.10540187935648397\t 2.592641191356515\t 2.57857472882228\n",
            "12 \t [-1.22510752  0.15056533]\t 33.13015678193803\t 0.10540187935648397\t 2.385766736706037\t 2.385766736706037\n",
            "13 \t [0.422653   1.11410042]\t 15.694989280514429\t 0.10540187935648397\t 2.580431409279173\t 2.590852193542516\n",
            "14 \t [1.44591505 0.27178076]\t 2.4891091623276016\t 0.10540187935648397\t 2.136835049279725\t 2.149088121678029\n",
            "15 \t [1.91446207 0.050737  ]\t 0.7218338553318574\t 0.10540187935648397\t 2.4058725318101555\t 2.415709184574102\n",
            "16 \t [-0.05109101 -0.84556476]\t 14.997740659685217\t 0.10540187935648397\t 2.448290592429518\t 2.448290592429518\n",
            "17 \t [ 2.37825939 -0.10404259]\t 1.3372753855389372\t 0.10540187935648397\t 2.3934143038007973\t 2.434539940655399\n",
            "18 \t [0.86889786 0.41558619]\t 6.6357824665953995\t 0.10540187935648397\t 2.498934574554095\t 2.5317683241461713\n",
            "19 \t [1.1692732  0.88723762]\t 11.04020170916695\t 0.10540187935648397\t 2.31397528544192\t 2.3139755283437653\n",
            "20 \t [ 2.18885052 -0.04421375]\t 0.8115533199561864\t 0.10540187935648397\t 2.5407013576414417\t 2.563764585194297\n"
          ]
        }
      ],
      "source": [
        "### EXACT GP EI GRADIENTS\n",
        "\n",
        "np.random.seed(run_num_5)\n",
        "surrogate_exact_5 = dGaussianProcess(cov_func, optimize=opt)\n",
        "\n",
        "exact_5 = dGPGO(surrogate_exact_5, Acquisition_grad(util), objfunc, param)\n",
        "exact_5.run(init_evals=n_init, max_iter=iters)\n"
      ]
    },
    {
      "cell_type": "code",
      "execution_count": 39,
      "metadata": {
        "id": "04KJCEm_Ivvf",
        "colab": {
          "base_uri": "https://localhost:8080/"
        },
        "outputId": "29cec2cf-666a-44a8-bcd7-8625a8d88c6e"
      },
      "outputs": [
        {
          "output_type": "stream",
          "name": "stdout",
          "text": [
            "Evaluation \t Proposed point \t  Current eval. \t  Best eval. \t        Exact EI: StdDev. x \t Approx EI: StdDev. x \n",
            "init\t [ 3.53574136 -1.51218175]\t 273.3122030790333\t 10.038000709758428\t    \t    \n",
            "init\t [ 2.89106211 -4.12473037]\t 43803.250406689425\t 10.038000709758428\t    \t    \n",
            "init\t [-3.53108988  0.85546858]\t 29.828433746298536\t 10.038000709758428\t    \t    \n",
            "init\t [ 0.26835626 -0.73073314]\t 10.658925295067505\t 10.038000709758428\t    \t    \n",
            "init\t [-1.48132936  1.10267489]\t 10.038000709758428\t 10.038000709758428\t    \t    \n",
            "1  \t [4.5       1.3205439]\t 112.02763582093375\t 10.038000709758428\t 3.223006977636138\t 3.2408672774276694\n",
            "2  \t [-4.5        -4.17695531]\t 118031.88383517302\t 10.038000709758428\t 3.1413174165864253\t 3.578622542246667\n",
            "3  \t [1.06382501 4.5       ]\t 10246.563496677638\t 10.038000709758428\t 2.923621147442441\t 2.9213539769690673\n",
            "4  \t [-2.97879762  3.45547868]\t 14713.577356333539\t 10.038000709758428\t 2.657923780631045\t 3.351722528746432\n",
            "5  \t [-0.38979381  0.02250729]\t 19.594662348806487\t 10.038000709758428\t 2.440906046580669\t 2.4596048119730294\n",
            "6  \t [-3.05386179 -0.01642811]\t 81.56893426163084\t 10.038000709758428\t 2.738513561460124\t 2.8073820062548736\n",
            "\u001b[1m\u001b[92m7\u001b[0m\t \u001b[1m\u001b[92m[ 2.55807322 -0.12507033]\u001b[0m\t \u001b[1m\u001b[92m1.9746074460893182\u001b[0m\t \u001b[1m\u001b[92m1.9746074460893182\u001b[0m\t \u001b[1m\u001b[92m2.9105906526045215\u001b[0m\t \u001b[1m\u001b[92m2.8976411861211546\u001b[0m\n",
            "8  \t [-0.43363635  0.61215388]\t 17.89562375826443\t 1.9746074460893182\t 2.7347587519416323\t 2.718322846055927\n",
            "\u001b[1m\u001b[92m9\u001b[0m\t \u001b[1m\u001b[92m[1.96725576 0.31508378]\u001b[0m\t \u001b[1m\u001b[92m0.7691820440430269\u001b[0m\t \u001b[1m\u001b[92m0.7691820440430269\u001b[0m\t \u001b[1m\u001b[92m2.410405891361737\u001b[0m\t \u001b[1m\u001b[92m2.4184602294872017\u001b[0m\n",
            "10 \t [-1.29768335  0.62847444]\t 26.104770871071914\t 0.7691820440430269\t 2.486140146926012\t 2.494302150609566\n",
            "11 \t [3.59227572 0.04673578]\t 6.418883599706605\t 0.7691820440430269\t 2.8802227040205435\t 2.8802227040205435\n",
            "12 \t [-0.81824152 -1.923485  ]\t 101.01376056878009\t 0.7691820440430269\t 2.4291726033564154\t 2.431370843413507\n",
            "13 \t [1.53304052 0.67669069]\t 5.477625329920663\t 0.7691820440430269\t 2.4213709511832935\t 2.40852295336672\n",
            "\u001b[1m\u001b[92m14\u001b[0m\t \u001b[1m\u001b[92m[2.09746059 0.18832258]\u001b[0m\t \u001b[1m\u001b[92m0.3857607997492314\u001b[0m\t \u001b[1m\u001b[92m0.3857607997492314\u001b[0m\t \u001b[1m\u001b[92m2.619632196325994\u001b[0m\t \u001b[1m\u001b[92m2.6127529012446793\u001b[0m\n",
            "15 \t [-0.80260178  1.08627855]\t 12.234645350239386\t 0.3857607997492314\t 2.5408619478627976\t 2.5408619478627976\n",
            "16 \t [2.68028473 1.6299965 ]\t 188.39063606079924\t 0.3857607997492314\t 2.5405893126149497\t 2.5405893126149497\n",
            "17 \t [1.20180789 0.03744014]\t 3.245674528277188\t 0.3857607997492314\t 2.91880961348657\t 2.922815934598774\n",
            "18 \t [ 3.64691005 -0.26269013]\t 12.135895398259319\t 0.3857607997492314\t 2.638474185838609\t 2.638474185838609\n",
            "19 \t [ 2.35775692 -0.37323702]\t 3.0894365025191872\t 0.3857607997492314\t 2.785064364164378\t 2.7728632046585537\n",
            "20 \t [ 1.49256628 -0.14838332]\t 1.941766634164635\t 0.3857607997492314\t 2.6513405255501725\t 2.6614737202644427\n"
          ]
        }
      ],
      "source": [
        "### EXACT GP EI GRADIENTS\n",
        "\n",
        "np.random.seed(run_num_6)\n",
        "surrogate_exact_6 = dGaussianProcess(cov_func, optimize=opt)\n",
        "\n",
        "exact_6 = dGPGO(surrogate_exact_6, Acquisition_grad(util), objfunc, param)\n",
        "exact_6.run(init_evals=n_init, max_iter=iters)\n"
      ]
    },
    {
      "cell_type": "code",
      "execution_count": 40,
      "metadata": {
        "id": "tAOkme3CIvyO",
        "colab": {
          "base_uri": "https://localhost:8080/"
        },
        "outputId": "49bdde68-872b-44d6-dba0-83b6b65718e0"
      },
      "outputs": [
        {
          "output_type": "stream",
          "name": "stdout",
          "text": [
            "Evaluation \t Proposed point \t  Current eval. \t  Best eval. \t        Exact EI: StdDev. x \t Approx EI: StdDev. x \n",
            "init\t [-3.8132254   2.51926913]\t 3321.1422834954587\t 2.9676923934097053\t    \t    \n",
            "init\t [-0.55431692  2.0111866 ]\t 2.9676923934097053\t 2.9676923934097053\t    \t    \n",
            "init\t [4.30190561 0.34646283]\t 6.32173172477085\t 2.9676923934097053\t    \t    \n",
            "init\t [ 0.01008417 -3.8515398 ]\t 11.971894461559128\t 2.9676923934097053\t    \t    \n",
            "init\t [-2.08404918e+00 -1.05749257e-03]\t 53.820317186435204\t 2.9676923934097053\t    \t    \n",
            "1  \t [0.30444534 2.175782  ]\t 44.694850353883496\t 2.9676923934097053\t 2.1089068638997626\t 2.214332945692641\n",
            "2  \t [-4.5 -4.5]\t 181853.61328125\t 2.9676923934097053\t 3.3751511602050486\t 3.73238200217368\n",
            "3  \t [4.5 4.5]\t 174813.36328125\t 2.9676923934097053\t 3.0976864204271384\t 3.4458440060521354\n",
            "4  \t [ 2.3497627  -2.80773064]\t 3071.4431889655943\t 2.9676923934097053\t 2.6896726915088927\t 2.578125511219795\n",
            "5  \t [-1.46669149  4.3669769 ]\t 14537.036444724683\t 2.9676923934097053\t 2.7118363072385714\t 2.758130909097338\n",
            "6  \t [3.53679304 0.21872779]\t 3.609913702626773\t 2.9676923934097053\t 2.7898393532015833\t 2.7898393532015833\n",
            "7  \t [0.68415965 0.74055929]\t 10.439357141267333\t 2.9676923934097053\t 2.364688233683451\t 2.362931079169811\n",
            "8  \t [-0.79083993  1.30956508]\t 7.102011838287176\t 2.9676923934097053\t 2.709572912708506\t 2.7086939677491513\n",
            "9  \t [0.05829455 1.24672666]\t 14.682944387918544\t 2.9676923934097053\t 2.7207622188234835\t 2.7175826113433765\n",
            "10 \t [0.85459815 1.29358747]\t 24.155489386001577\t 2.9676923934097053\t 2.8651468685514843\t 2.8585907057399185\n",
            "11 \t [-1.75933534 -0.40966037]\t 49.93294899528902\t 2.9676923934097053\t 2.5092915636476474\t 2.5092915636476474\n",
            "12 \t [-0.06383167  1.19804618]\t 13.802060233585383\t 2.9676923934097053\t 2.700340021826252\t 2.7016274201510164\n",
            "13 \t [0.20047674 1.31756058]\t 16.505305953041564\t 2.9676923934097053\t 2.630954998995273\t 2.6306494984151554\n",
            "14 \t [0.02599883 1.30171969]\t 14.473852838652828\t 2.9676923934097053\t 2.2955433258637132\t 2.2926394831565284\n",
            "15 \t [-1.17091733 -1.3904274 ]\t 68.03203609966735\t 2.9676923934097053\t 2.8459161012140153\t 2.8459161012140153\n",
            "16 \t [ 4.06121048 -0.31711445]\t 19.23476243363643\t 2.9676923934097053\t 2.293236397842105\t 2.293236397842105\n",
            "17 \t [ 3.9338529  -0.45831965]\t 21.533859628663823\t 2.9676923934097053\t 2.112523303008269\t 2.112523303008269\n",
            "18 \t [ 0.5053372 -4.4590609]\t 1962.55074481906\t 2.9676923934097053\t 2.8510949111895774\t 2.8510949111895774\n",
            "19 \t [0.86137076 0.67285866]\t 8.752261262934077\t 2.9676923934097053\t 2.7154632295142997\t 2.7154632295142997\n",
            "20 \t [0.07054407 1.31978414]\t 14.998970661019214\t 2.9676923934097053\t 2.6115043470236103\t 2.609346595775243\n"
          ]
        }
      ],
      "source": [
        "### EXACT GP EI GRADIENTS\n",
        "\n",
        "np.random.seed(run_num_7)\n",
        "surrogate_exact_7 = dGaussianProcess(cov_func, optimize=opt)\n",
        "\n",
        "exact_7 = dGPGO(surrogate_exact_7, Acquisition_grad(util), objfunc, param)\n",
        "exact_7.run(init_evals=n_init, max_iter=iters)\n"
      ]
    },
    {
      "cell_type": "code",
      "execution_count": 41,
      "metadata": {
        "id": "69-J3EF4Iv1S",
        "colab": {
          "base_uri": "https://localhost:8080/"
        },
        "outputId": "7ca92263-92cd-4bb9-f4d0-c5c0ac50c590"
      },
      "outputs": [
        {
          "output_type": "stream",
          "name": "stdout",
          "text": [
            "Evaluation \t Proposed point \t  Current eval. \t  Best eval. \t        Exact EI: StdDev. x \t Approx EI: StdDev. x \n",
            "init\t [3.36086463 4.21686597]\t 66731.07602386779\t 1.8693348557707412\t    \t    \n",
            "init\t [3.32275086 0.27770122]\t 1.8693348557707412\t 1.8693348557707412\t    \t    \n",
            "init\t [-2.40544505 -4.39741076]\t 45883.361726150484\t 1.8693348557707412\t    \t    \n",
            "init\t [-0.62578064 -0.87883776]\t 26.39306084619828\t 1.8693348557707412\t    \t    \n",
            "init\t [ 0.20407204 -0.19447384]\t 11.649230998110728\t 1.8693348557707412\t    \t    \n",
            "1  \t [ 3.30030709 -0.40533353]\t 10.906578144625676\t 1.8693348557707412\t 2.552841007231134\t 2.9450147720934727\n",
            "2  \t [-4.42522463  2.59724938]\t 5535.695265667181\t 1.8693348557707412\t 2.5798873743665345\t 3.4989477668585858\n",
            "3  \t [-0.32212611  1.42926201]\t 9.544557072351711\t 1.8693348557707412\t 2.3397197280368403\t 2.335474292826843\n",
            "4  \t [ 2.74362875 -3.64660397]\t 19153.78462232288\t 1.8693348557707412\t 2.7574002609725294\t 3.1016046831523285\n",
            "5  \t [-0.90749151  0.39981549]\t 25.327456725099676\t 1.8693348557707412\t 2.4773902510660744\t 2.480635975468865\n",
            "\u001b[1m\u001b[92m6\u001b[0m\t \u001b[1m\u001b[92m[2.54989502 0.14293917]\u001b[0m\t \u001b[1m\u001b[92m0.5380118818226212\u001b[0m\t \u001b[1m\u001b[92m0.5380118818226212\u001b[0m\t \u001b[1m\u001b[92m2.7243738325847873\u001b[0m\t \u001b[1m\u001b[92m2.7800768389434882\u001b[0m\n",
            "7  \t [3.15469311 0.09472182]\t 2.8841951294629884\t 0.5380118818226212\t 2.687418764544425\t 2.7178479202729022\n",
            "8  \t [0.05636795 0.95365394]\t 14.133141143125764\t 0.5380118818226212\t 2.721145720872613\t 2.721145720872613\n",
            "9  \t [ 0.4201085  -0.01463258]\t 9.36329952609649\t 0.5380118818226212\t 2.4125844727549333\t 2.4125844727549333\n",
            "10 \t [ 4.32943959 -0.02921729]\t 15.951740997266118\t 0.5380118818226212\t 2.5898903099511306\t 2.6208170328074614\n",
            "11 \t [0.2023308  1.69710118]\t 21.25141460009896\t 0.5380118818226212\t 2.464886829376934\t 2.464886829376934\n",
            "12 \t [3.0207557  0.08675489]\t 2.298901059571519\t 0.5380118818226212\t 2.225771178045627\t 2.2221226427029244\n",
            "13 \t [3.45752848 0.03921185]\t 5.457581501417061\t 0.5380118818226212\t 2.3159497227973884\t 2.300007684740994\n",
            "14 \t [0.09465198 0.58514818]\t 13.41901284314261\t 0.5380118818226212\t 2.5419588941453886\t 2.5419588941453886\n",
            "15 \t [-0.50325684  2.62856979]\t 37.128610945580434\t 0.5380118818226212\t 2.3701893025989658\t 2.3701893025989658\n",
            "16 \t [1.45133595 0.26472211]\t 2.439450418930805\t 0.5380118818226212\t 2.404626985182036\t 2.4262469986727244\n",
            "17 \t [-1.11343152 -0.03531676]\t 32.316673896109634\t 0.5380118818226212\t 2.7022557222287786\t 2.7022557222287786\n",
            "18 \t [1.39633408 0.2702268 ]\t 2.722669210364665\t 0.5380118818226212\t 2.6737485624097306\t 2.724400691920558\n",
            "19 \t [-0.7651602   3.46857658]\t 853.0266732589805\t 0.5380118818226212\t 2.2582369258795465\t 2.2582369258795465\n",
            "20 \t [-0.30286264  0.07519001]\t 18.248715926790425\t 0.5380118818226212\t 2.3292748178574127\t 2.3292748178574127\n"
          ]
        }
      ],
      "source": [
        "### EXACT GP EI GRADIENTS\n",
        "\n",
        "np.random.seed(run_num_8)\n",
        "surrogate_exact_8 = dGaussianProcess(cov_func, optimize=opt)\n",
        "\n",
        "exact_8 = dGPGO(surrogate_exact_8, Acquisition_grad(util), objfunc, param)\n",
        "exact_8.run(init_evals=n_init, max_iter=iters)\n"
      ]
    },
    {
      "cell_type": "code",
      "execution_count": 42,
      "metadata": {
        "id": "vonm9jyuIv4t",
        "colab": {
          "base_uri": "https://localhost:8080/"
        },
        "outputId": "9656dbc6-efcf-45b1-eefb-f6ba0cf0dfe2"
      },
      "outputs": [
        {
          "output_type": "stream",
          "name": "stdout",
          "text": [
            "Evaluation \t Proposed point \t  Current eval. \t  Best eval. \t        Exact EI: StdDev. x \t Approx EI: StdDev. x \n",
            "init\t [-4.40663262  0.01687133]\t 127.7531900635415\t 22.479204656276803\t    \t    \n",
            "init\t [-0.03804036 -3.29553424]\t 22.479204656276803\t 22.479204656276803\t    \t    \n",
            "init\t [-3.22100023 -2.53297192]\t 3783.0538402600087\t 22.479204656276803\t    \t    \n",
            "init\t [-0.73342638 -2.26708948]\t 157.51337782244087\t 22.479204656276803\t    \t    \n",
            "init\t [-3.74346314 -1.39051224]\t 380.7730677650304\t 22.479204656276803\t    \t    \n",
            "1  \t [2.73365793 4.35023323]\t 53339.37070055468\t 22.479204656276803\t 2.5977975500167707\t 2.6514612319596913\n",
            "2  \t [ 3.46076589 -1.88633632]\t 774.461562889617\t 22.479204656276803\t 2.3949070100184984\t 2.871191917952304\n",
            "3  \t [-1.95600364  3.25417297]\t 4227.800417674856\t 22.479204656276803\t 2.3417915802941573\t 2.4088676728558034\n",
            "\u001b[1m\u001b[92m4\u001b[0m\t \u001b[1m\u001b[92m[0.89265722 0.64926092]\u001b[0m\t \u001b[1m\u001b[92m8.321399259426006\u001b[0m\t \u001b[1m\u001b[92m8.321399259426006\u001b[0m\t \u001b[1m\u001b[92m2.5657297578524636\u001b[0m\t \u001b[1m\u001b[92m2.615454775815249\u001b[0m\n",
            "5  \t [3.41233874 0.93945795]\t 9.262664848979483\t 8.321399259426006\t 2.5421615790000094\t 2.849932777518225\n",
            "6  \t [-0.4280399  0.0111005]\t 20.191702646572274\t 8.321399259426006\t 2.3325116660720373\t 2.351417798831998\n",
            "7  \t [ 1.38128557 -4.13600314]\t 9940.95696948886\t 8.321399259426006\t 2.440229679154011\t 2.5869871351480707\n",
            "8  \t [-2.25048504  0.4987402 ]\t 43.56180381884162\t 8.321399259426006\t 2.286843951114763\t 2.335909654825973\n",
            "9  \t [4.45566975 2.06833451]\t 1736.6631462622202\t 8.321399259426006\t 2.6080547711758477\t 2.6220701689067005\n",
            "\u001b[1m\u001b[92m10\u001b[0m\t \u001b[1m\u001b[92m[3.31352599 0.30325268]\u001b[0m\t \u001b[1m\u001b[92m1.5851259656397745\u001b[0m\t \u001b[1m\u001b[92m1.5851259656397745\u001b[0m\t \u001b[1m\u001b[92m2.3194760747034917\u001b[0m\t \u001b[1m\u001b[92m2.3269381128087603\u001b[0m\n",
            "11 \t [1.47479729 2.42758236]\t 597.6223963678408\t 1.5851259656397745\t 2.6185203307652754\t 2.7476044796537766\n",
            "12 \t [0.8436752  0.14997838]\t 5.82761831331225\t 1.5851259656397745\t 2.541107549994663\t 2.5898051019165327\n",
            "13 \t [-0.76090842 -0.27763497]\t 26.402322218864064\t 1.5851259656397745\t 1.9900152368428012\t 1.9900152368428012\n",
            "\u001b[1m\u001b[92m14\u001b[0m\t \u001b[1m\u001b[92m[2.75779791 0.55918755]\u001b[0m\t \u001b[1m\u001b[92m0.32862893291388734\u001b[0m\t \u001b[1m\u001b[92m0.32862893291388734\u001b[0m\t \u001b[1m\u001b[92m2.3033624260706915\u001b[0m\t \u001b[1m\u001b[92m2.3126802628570524\u001b[0m\n",
            "15 \t [2.35307728 0.78818946]\t 4.8775304838314355\t 0.32862893291388734\t 2.4103854193321905\t 2.4223556444244583\n",
            "16 \t [2.60984603 0.62213929]\t 1.1011807212918188\t 0.32862893291388734\t 2.627484814802587\t 2.6343231387763177\n",
            "17 \t [0.8660087  0.05493622]\t 5.481761615594575\t 0.32862893291388734\t 2.3457785981825006\t 2.34996564395972\n",
            "18 \t [2.52854898 0.7365804 ]\t 3.1160997991686132\t 0.32862893291388734\t 2.493669816520935\t 2.5141974379967924\n",
            "19 \t [ 0.22313044 -0.29276427]\t 11.39604620408699\t 0.32862893291388734\t 2.5438732319571473\t 2.5438732319571473\n",
            "20 \t [-0.71895936 -3.24384987]\t 819.3923907035369\t 0.32862893291388734\t 2.7325279526309134\t 2.7344319260050707\n"
          ]
        }
      ],
      "source": [
        "### EXACT GP EI GRADIENTS\n",
        "\n",
        "np.random.seed(run_num_9)\n",
        "surrogate_exact_9 = dGaussianProcess(cov_func, optimize=opt)\n",
        "\n",
        "exact_9 = dGPGO(surrogate_exact_9, Acquisition_grad(util), objfunc, param)\n",
        "exact_9.run(init_evals=n_init, max_iter=iters)\n"
      ]
    },
    {
      "cell_type": "code",
      "execution_count": 43,
      "metadata": {
        "id": "6amuYlUdIv7r",
        "colab": {
          "base_uri": "https://localhost:8080/"
        },
        "outputId": "7b06156b-3438-4330-f8f3-d46c346d6f1f"
      },
      "outputs": [
        {
          "output_type": "stream",
          "name": "stdout",
          "text": [
            "Evaluation \t Proposed point \t  Current eval. \t  Best eval. \t        Exact EI: StdDev. x \t Approx EI: StdDev. x \n",
            "init\t [ 2.44188579 -4.31323246]\t 40500.708995062356\t 15.229523981513257\t    \t    \n",
            "init\t [1.20283411 2.23923494]\t 281.8768699287936\t 15.229523981513257\t    \t    \n",
            "init\t [-0.01343689 -2.47683019]\t 15.229523981513257\t 15.229523981513257\t    \t    \n",
            "init\t [-2.71743422  2.34477641]\t 985.5637470908332\t 15.229523981513257\t    \t    \n",
            "init\t [-2.97800247 -3.70494167]\t 26177.1461164703\t 15.229523981513257\t    \t    \n",
            "1  \t [4.5 4.5]\t 174813.36328125\t 15.229523981513257\t 2.6146515176100737\t 2.592582163600887\n",
            "\u001b[1m\u001b[92m2\u001b[0m\t \u001b[1m\u001b[92m[ 0.01162148 -1.54447788]\u001b[0m\t \u001b[1m\u001b[92m13.905165683454896\u001b[0m\t \u001b[1m\u001b[92m13.905165683454896\u001b[0m\t \u001b[1m\u001b[92m2.2866006553367852\u001b[0m\t \u001b[1m\u001b[92m2.301618243112465\u001b[0m\n",
            "\u001b[1m\u001b[92m3\u001b[0m\t \u001b[1m\u001b[92m[ 3.60165844 -0.04217479]\u001b[0m\t \u001b[1m\u001b[92m7.842614835435269\u001b[0m\t \u001b[1m\u001b[92m7.842614835435269\u001b[0m\t \u001b[1m\u001b[92m2.2515978754541446\u001b[0m\t \u001b[1m\u001b[92m2.7850909593520052\u001b[0m\n",
            "4  \t [ 3.01258524 -0.64521119]\t 13.62014312484009\t 7.842614835435269\t 2.731091695083198\t 2.701402304076441\n",
            "5  \t [-4.5        -0.45131159]\t 155.35567094439142\t 7.842614835435269\t 2.8106583619656744\t 2.995792185813596\n",
            "6  \t [0.09298606 4.45732906]\t 135.27309231382554\t 7.842614835435269\t 2.6678100055037945\t 2.814182162823944\n",
            "\u001b[1m\u001b[92m7\u001b[0m\t \u001b[1m\u001b[92m[ 1.31863805 -0.49589332]\u001b[0m\t \u001b[1m\u001b[92m3.1122071788448515\u001b[0m\t \u001b[1m\u001b[92m3.1122071788448515\u001b[0m\t \u001b[1m\u001b[92m2.568694011320115\u001b[0m\t \u001b[1m\u001b[92m2.587364877063556\u001b[0m\n",
            "8  \t [ 0.89460405 -0.42982833]\t 5.1146946052069175\t 3.1122071788448515\t 2.505766056787488\t 2.4956532279493\n",
            "9  \t [1.71975555 0.56562342]\t 3.2140925370513385\t 3.1122071788448515\t 2.799361468501308\t 2.799361468501308\n",
            "\u001b[1m\u001b[92m10\u001b[0m\t \u001b[1m\u001b[92m[ 2.23389868 -0.24275828]\u001b[0m\t \u001b[1m\u001b[92m1.7794896359709722\u001b[0m\t \u001b[1m\u001b[92m1.7794896359709722\u001b[0m\t \u001b[1m\u001b[92m2.687623085515994\u001b[0m\t \u001b[1m\u001b[92m2.687283967579394\u001b[0m\n",
            "11 \t [ 2.36808576 -0.27622464]\t 2.3638910333636063\t 1.7794896359709722\t 2.3276414827809373\t 2.3160567830709593\n",
            "12 \t [ 3.57028693 -1.14052158]\t 87.73955942511631\t 1.7794896359709722\t 2.7658258722094997\t 2.7658258722094997\n",
            "13 \t [-0.16323702 -0.29748594]\t 16.48269832554994\t 1.7794896359709722\t 2.640088480539179\t 2.6586532963815923\n",
            "\u001b[1m\u001b[92m14\u001b[0m\t \u001b[1m\u001b[92m[ 2.05924331 -0.03303288]\u001b[0m\t \u001b[1m\u001b[92m0.7507097781747369\u001b[0m\t \u001b[1m\u001b[92m0.7507097781747369\u001b[0m\t \u001b[1m\u001b[92m2.5114052414753947\u001b[0m\t \u001b[1m\u001b[92m2.5107730993940827\u001b[0m\n",
            "15 \t [-0.04180618 -0.57910515]\t 14.795941728429622\t 0.7507097781747369\t 2.6527832074759012\t 2.6527832074759012\n",
            "16 \t [ 2.16926598 -0.04284086]\t 0.795662365577679\t 0.7507097781747369\t 2.7042935430101664\t 2.7014346786842838\n",
            "17 \t [1.81054492 0.47776655]\t 2.058542772285935\t 0.7507097781747369\t 2.5619288661285817\t 2.5619291267034434\n",
            "18 \t [1.85324715 0.00246474]\t 0.8746015702918185\t 0.7507097781747369\t 2.4102677031878814\t 2.375075741927246\n",
            "19 \t [-0.1724713  -1.49863956]\t 19.280979999400806\t 0.7507097781747369\t 2.226286778195467\t 2.229473052521323\n",
            "20 \t [-0.13556438 -2.20445338]\t 24.471690148926058\t 0.7507097781747369\t 2.8461829251676027\t 2.8461829251676027\n"
          ]
        }
      ],
      "source": [
        "### EXACT GP EI GRADIENTS\n",
        "\n",
        "np.random.seed(run_num_10)\n",
        "surrogate_exact_10 = dGaussianProcess(cov_func, optimize=opt)\n",
        "\n",
        "exact_10 = dGPGO(surrogate_exact_10, Acquisition_grad(util), objfunc, param)\n",
        "exact_10.run(init_evals=n_init, max_iter=iters)\n"
      ]
    },
    {
      "cell_type": "code",
      "execution_count": 44,
      "metadata": {
        "id": "VwbLIP9cIv-F",
        "colab": {
          "base_uri": "https://localhost:8080/"
        },
        "outputId": "373c3aa7-622a-479b-8965-0373bc5b3362"
      },
      "outputs": [
        {
          "output_type": "stream",
          "name": "stdout",
          "text": [
            "Evaluation \t Proposed point \t  Current eval. \t  Best eval. \t        Exact EI: StdDev. x \t Approx EI: StdDev. x \n",
            "init\t [-2.8775728  -4.32472283]\t 59421.14819100274\t 2.8907294990196846\t    \t    \n",
            "init\t [-0.33103326  2.02440536]\t 2.8907294990196846\t 2.8907294990196846\t    \t    \n",
            "init\t [-0.71816756 -0.13115612]\t 25.271447350027046\t 2.8907294990196846\t    \t    \n",
            "init\t [-4.38497267 -0.11365553]\t 133.2515796886641\t 2.8907294990196846\t    \t    \n",
            "init\t [3.97625987 3.1571558 ]\t 16859.81677190551\t 2.8907294990196846\t    \t    \n",
            "1  \t [ 3.51851691 -3.076227  ]\t 11865.850136148398\t 2.8907294990196846\t 2.6258061093297105\t 3.3921326129358236\n",
            "2  \t [-2.52542843  2.64609896]\t 1907.5127549760878\t 2.8907294990196846\t 2.149709900598486\t 3.029393854258873\n",
            "3  \t [1.65111138 0.8567444 ]\t 8.924405612161141\t 2.8907294990196846\t 2.76448016818195\t 2.8910785405268684\n",
            "4  \t [-2.96288867 -1.80818793]\t 650.2698831293418\t 2.8907294990196846\t 2.3342962501296167\t 2.3342962501296167\n",
            "5  \t [0.37583607 1.66425771]\t 27.412540665989738\t 2.8907294990196846\t 2.342578909576988\t 2.3463985553645204\n",
            "6  \t [-2.04969349 -0.54921282]\t 60.55512791480363\t 2.8907294990196846\t 2.517227704810344\t 2.517227704810344\n",
            "7  \t [0.36116958 4.12160912]\t 830.3861029830259\t 2.8907294990196846\t 2.7448364419010733\t 2.7586783342537413\n",
            "\u001b[1m\u001b[92m8\u001b[0m\t \u001b[1m\u001b[92m[1.38295105 0.15601055]\u001b[0m\t \u001b[1m\u001b[92m2.4777931380630998\u001b[0m\t \u001b[1m\u001b[92m2.4777931380630998\u001b[0m\t \u001b[1m\u001b[92m2.455380463090209\u001b[0m\t \u001b[1m\u001b[92m2.4555152239401647\u001b[0m\n",
            "9  \t [-1.3286      0.45803471]\t 30.45549481223425\t 2.4777931380630998\t 2.68800962695376\t 2.68800962695376\n",
            "10 \t [-0.37393202 -0.37912693]\t 19.785120201119778\t 2.4777931380630998\t 2.4658521665896105\t 2.4658521665896105\n",
            "11 \t [ 0.27635596 -1.77900639]\t 9.276821739881237\t 2.4777931380630998\t 2.758839433431699\t 2.7533660179931663\n",
            "\u001b[1m\u001b[92m12\u001b[0m\t \u001b[1m\u001b[92m[1.41889576 0.21398727]\u001b[0m\t \u001b[1m\u001b[92m2.439387832550679\u001b[0m\t \u001b[1m\u001b[92m2.439387832550679\u001b[0m\t \u001b[1m\u001b[92m2.6557706292236647\u001b[0m\t \u001b[1m\u001b[92m2.6564503690657473\u001b[0m\n",
            "13 \t [1.36689805 0.2542694 ]\t 2.81466822308478\t 2.439387832550679\t 2.5539935748829836\t 2.5506592608034095\n",
            "14 \t [1.34042936 0.27839281]\t 3.036165086017717\t 2.439387832550679\t 2.6854063739122536\t 2.684729601137943\n",
            "15 \t [ 0.02420108 -0.84465616]\t 13.83791364305034\t 2.439387832550679\t 2.559376315280148\t 2.559376315280148\n",
            "16 \t [0.18710043 1.10100168]\t 14.773045852320802\t 2.439387832550679\t 2.753983202198338\t 2.7551648152067036\n",
            "17 \t [-0.13340453 -0.50668575]\t 16.116760763888237\t 2.439387832550679\t 2.103179743923149\t 2.103179743923149\n",
            "\u001b[1m\u001b[92m18\u001b[0m\t \u001b[1m\u001b[92m[1.79760069 0.06288808]\u001b[0m\t \u001b[1m\u001b[92m0.9305376899912051\u001b[0m\t \u001b[1m\u001b[92m0.9305376899912051\u001b[0m\t \u001b[1m\u001b[92m2.5044249430774137\u001b[0m\t \u001b[1m\u001b[92m2.50080880410886\u001b[0m\n",
            "\u001b[1m\u001b[92m19\u001b[0m\t \u001b[1m\u001b[92m[1.80488121 0.06147301]\u001b[0m\t \u001b[1m\u001b[92m0.9151406068097003\u001b[0m\t \u001b[1m\u001b[92m0.9151406068097003\u001b[0m\t \u001b[1m\u001b[92m2.3747296933488813\u001b[0m\t \u001b[1m\u001b[92m2.371621194525802\u001b[0m\n",
            "20 \t [ 0.54151008 -0.97164845]\t 7.631870016322614\t 0.9151406068097003\t 2.5855088551028134\t 2.5855088551028134\n"
          ]
        }
      ],
      "source": [
        "### EXACT GP EI GRADIENTS\n",
        "\n",
        "np.random.seed(run_num_11)\n",
        "surrogate_exact_11 = dGaussianProcess(cov_func, optimize=opt)\n",
        "\n",
        "exact_11 = dGPGO(surrogate_exact_11, Acquisition_grad(util), objfunc, param)\n",
        "exact_11.run(init_evals=n_init, max_iter=iters)\n"
      ]
    },
    {
      "cell_type": "code",
      "execution_count": 45,
      "metadata": {
        "id": "MlUNFjc-JTBY",
        "colab": {
          "base_uri": "https://localhost:8080/"
        },
        "outputId": "46963a01-1cea-4a2d-8a19-940b8f5ce832"
      },
      "outputs": [
        {
          "output_type": "stream",
          "name": "stdout",
          "text": [
            "Evaluation \t Proposed point \t  Current eval. \t  Best eval. \t        Exact EI: StdDev. x \t Approx EI: StdDev. x \n",
            "init\t [-3.11253442  2.16044727]\t 746.3412720881302\t 48.45196617039589\t    \t    \n",
            "init\t [-2.13016486  0.30365454]\t 48.45196617039589\t 48.45196617039589\t    \t    \n",
            "init\t [-4.36882534  3.76872307]\t 54651.235607336355\t 48.45196617039589\t    \t    \n",
            "init\t [ 3.60643369 -4.19920715]\t 76007.68460600567\t 48.45196617039589\t    \t    \n",
            "init\t [ 4.11254403 -3.26511611]\t 22941.17826205435\t 48.45196617039589\t    \t    \n",
            "\u001b[1m\u001b[92m1\u001b[0m\t \u001b[1m\u001b[92m[-2.42439457  1.3891593 ]\u001b[0m\t \u001b[1m\u001b[92m2.4116526218598064\u001b[0m\t \u001b[1m\u001b[92m2.4116526218598064\u001b[0m\t \u001b[1m\u001b[92m3.0750156493090612\u001b[0m\t \u001b[1m\u001b[92m2.880845490499971\u001b[0m\n",
            "2  \t [0.50569986 2.79505746]\t 211.4617713087273\t 2.4116526218598064\t 3.236713376062238\t 3.1405544691812453\n",
            "3  \t [-4.5 -4.5]\t 181853.61328125\t 2.4116526218598064\t 3.183151856697883\t 3.117394682786759\n",
            "4  \t [-2.45393311  0.80919831]\t 27.744282415517862\t 2.4116526218598064\t 2.477063807639531\t 2.5711793054785264\n",
            "5  \t [4.5 4.5]\t 174813.36328125\t 2.4116526218598064\t 2.6505499609541188\t 2.467810269440842\n",
            "6  \t [-2.53381018  1.43500779]\t 5.7693179139621575\t 2.4116526218598064\t 2.6120675854036315\t 2.6282034393039617\n",
            "7  \t [-2.55340598  0.55284142]\t 45.69718545916431\t 2.4116526218598064\t 2.548859581783021\t 2.5261811992809795\n",
            "\u001b[1m\u001b[92m8\u001b[0m\t \u001b[1m\u001b[92m[-2.37292737  1.37931937]\u001b[0m\t \u001b[1m\u001b[92m1.8822523472921397\u001b[0m\t \u001b[1m\u001b[92m1.8822523472921397\u001b[0m\t \u001b[1m\u001b[92m2.601935301638874\u001b[0m\t \u001b[1m\u001b[92m2.6332534313965397\u001b[0m\n",
            "9  \t [-1.56620052  1.53073384]\t 2.503121457589249\t 1.8822523472921397\t 2.45924041425641\t 2.394897250246492\n",
            "10 \t [-0.86924478 -0.58562767]\t 29.703682168584653\t 1.8822523472921397\t 2.4759686528492075\t 2.475968658593543\n",
            "\u001b[1m\u001b[92m11\u001b[0m\t \u001b[1m\u001b[92m[2.04074294 0.14577417]\u001b[0m\t \u001b[1m\u001b[92m0.4717747792796265\u001b[0m\t \u001b[1m\u001b[92m0.4717747792796265\u001b[0m\t \u001b[1m\u001b[92m2.56451395037648\u001b[0m\t \u001b[1m\u001b[92m2.559289787043327\u001b[0m\n",
            "12 \t [-3.06479379  1.20603945]\t 1.586980712383841\t 0.4717747792796265\t 2.347639348196566\t 2.3327055115704876\n",
            "\u001b[1m\u001b[92m13\u001b[0m\t \u001b[1m\u001b[92m[2.54183772 0.15832468]\u001b[0m\t \u001b[1m\u001b[92m0.46957031748278516\u001b[0m\t \u001b[1m\u001b[92m0.46957031748278516\u001b[0m\t \u001b[1m\u001b[92m2.488574410617999\u001b[0m\t \u001b[1m\u001b[92m2.4926423224533885\u001b[0m\n",
            "14 \t [-2.13028953  1.5443138 ]\t 10.15841234648779\t 0.46957031748278516\t 2.5175134720145094\t 2.527334990096606\n",
            "\u001b[1m\u001b[92m15\u001b[0m\t \u001b[1m\u001b[92m[2.06301556 0.16833424]\u001b[0m\t \u001b[1m\u001b[92m0.43376954196741546\u001b[0m\t \u001b[1m\u001b[92m0.43376954196741546\u001b[0m\t \u001b[1m\u001b[92m2.751908806882708\u001b[0m\t \u001b[1m\u001b[92m2.7512294533733144\u001b[0m\n",
            "16 \t [ 0.68964066 -1.61410312]\t 12.292576187564155\t 0.43376954196741546\t 2.647419982695006\t 2.647419982695006\n",
            "17 \t [1.85679279 0.07902438]\t 0.7995417400838907\t 0.43376954196741546\t 2.298001467898633\t 2.2987026694888373\n",
            "18 \t [0.74743156 0.01587554]\t 6.36791234576028\t 0.43376954196741546\t 2.7380102611354884\t 2.747342409376879\n",
            "19 \t [-2.65658927  1.19280662]\t 2.8430993621412606\t 0.43376954196741546\t 2.5055937356391964\t 2.5730238430937957\n",
            "20 \t [1.93094381 0.16323812]\t 0.6441165152242949\t 0.43376954196741546\t 2.3539960993897164\t 2.3738977162935653\n"
          ]
        }
      ],
      "source": [
        "### EXACT GP EI GRADIENTS\n",
        "\n",
        "np.random.seed(run_num_12)\n",
        "surrogate_exact_12 = dGaussianProcess(cov_func, optimize=opt)\n",
        "\n",
        "exact_12 = dGPGO(surrogate_exact_12, Acquisition_grad(util), objfunc, param)\n",
        "exact_12.run(init_evals=n_init, max_iter=iters)\n"
      ]
    },
    {
      "cell_type": "code",
      "execution_count": 46,
      "metadata": {
        "id": "9BsKdU9eJTFL",
        "colab": {
          "base_uri": "https://localhost:8080/"
        },
        "outputId": "8c950878-bafd-4612-e0bf-3ccf6eaad0cc"
      },
      "outputs": [
        {
          "output_type": "stream",
          "name": "stdout",
          "text": [
            "Evaluation \t Proposed point \t  Current eval. \t  Best eval. \t        Exact EI: StdDev. x \t Approx EI: StdDev. x \n",
            "init\t [ 2.4993217  -2.36212902]\t 1312.0597023727128\t 25.917758071459016\t    \t    \n",
            "init\t [2.91850679 4.19174278]\t 48757.43948599124\t 25.917758071459016\t    \t    \n",
            "init\t [ 4.25341003 -0.41895677]\t 25.917758071459016\t 25.917758071459016\t    \t    \n",
            "init\t [0.98138216 2.47973863]\t 337.8750512678324\t 25.917758071459016\t    \t    \n",
            "init\t [1.2745201  1.99816407]\t 177.1374160884886\t 25.917758071459016\t    \t    \n",
            "\u001b[1m\u001b[92m1\u001b[0m\t \u001b[1m\u001b[92m[0.87647947 0.76620066]\u001b[0m\t \u001b[1m\u001b[92m9.833494400239523\u001b[0m\t \u001b[1m\u001b[92m9.833494400239523\u001b[0m\t \u001b[1m\u001b[92m2.763461550246\u001b[0m\t \u001b[1m\u001b[92m2.7584641379743386\u001b[0m\n",
            "2  \t [-3.51625583 -3.70571814]\t 36387.21686967412\t 9.833494400239523\t 2.839480692232876\t 2.8836824006962494\n",
            "3  \t [-3.82268477  2.60106574]\t 4112.359870652412\t 9.833494400239523\t 2.7118708303879187\t 2.8882070886531404\n",
            "4  \t [-0.32452179 -1.35266965]\t 23.129583903638533\t 9.833494400239523\t 2.693297067803964\t 2.688952286514691\n",
            "\u001b[1m\u001b[92m5\u001b[0m\t \u001b[1m\u001b[92m[3.59970014 0.5913862 ]\u001b[0m\t \u001b[1m\u001b[92m0.06206315554276746\u001b[0m\t \u001b[1m\u001b[92m0.06206315554276746\u001b[0m\t \u001b[1m\u001b[92m2.9245607090130474\u001b[0m\t \u001b[1m\u001b[92m2.9245619413035167\u001b[0m\n",
            "6  \t [-0.37834098  1.51209901]\t 7.6894850397381305\t 0.06206315554276746\t 2.405722465114825\t 2.401716764703084\n",
            "7  \t [1.29559988 0.67398436]\t 6.521183451221242\t 0.06206315554276746\t 2.665813299455098\t 2.708487809027657\n",
            "8  \t [4.5        0.65636047]\t 0.46216537627776044\t 0.06206315554276746\t 2.5611201247607647\t 2.580157916644739\n",
            "9  \t [4.5        0.68015073]\t 0.24278564029623512\t 0.06206315554276746\t 2.560965509017698\t 2.571634744009398\n",
            "10 \t [-0.39072547  1.74076128]\t 4.498928217113136\t 0.06206315554276746\t 2.4634825393604927\t 2.5218023388748936\n",
            "11 \t [0.60395307 0.96134328]\t 13.580523152966057\t 0.06206315554276746\t 2.710235645305229\t 2.724987040264232\n",
            "12 \t [4.5        0.65392063]\t 0.4897064118562327\t 0.06206315554276746\t 2.564768602767333\t 2.564768425946894\n",
            "13 \t [-0.95528187  4.45276592]\t 6772.5720934920355\t 0.06206315554276746\t 2.6818816751977006\t 2.684450930906598\n",
            "14 \t [1.38580063 0.86225415]\t 9.829632549747869\t 0.06206315554276746\t 2.207596166019044\t 2.2069282970997763\n",
            "15 \t [2.12259221 0.25017213]\t 0.36303025813288053\t 0.06206315554276746\t 2.6368656801072485\t 2.6368656801072485\n",
            "16 \t [0.81889995 1.28555206]\t 23.332781326247336\t 0.06206315554276746\t 2.419494047646296\t 2.445962562012763\n",
            "17 \t [-0.11266367 -3.80735533]\t 84.90514272100607\t 0.06206315554276746\t 3.0206645693569825\t 3.0206645693569825\n",
            "18 \t [0.48975974 1.52735177]\t 26.57392726542595\t 0.06206315554276746\t 2.2147826233128476\t 2.212327956053855\n",
            "19 \t [-0.94807967  0.80071621]\t 19.08736214275322\t 0.06206315554276746\t 2.682390834613263\t 2.6821343849990367\n",
            "20 \t [4.26688416 0.56205341]\t 1.3653679376402157\t 0.06206315554276746\t 2.931080709069125\t 2.939729755172881\n"
          ]
        }
      ],
      "source": [
        "### EXACT GP EI GRADIENTS\n",
        "\n",
        "np.random.seed(run_num_13)\n",
        "surrogate_exact_13 = dGaussianProcess(cov_func, optimize=opt)\n",
        "\n",
        "exact_13 = dGPGO(surrogate_exact_13, Acquisition_grad(util), objfunc, param)\n",
        "exact_13.run(init_evals=n_init, max_iter=iters)\n"
      ]
    },
    {
      "cell_type": "code",
      "execution_count": 47,
      "metadata": {
        "id": "k6GjFBr1JTJf",
        "colab": {
          "base_uri": "https://localhost:8080/"
        },
        "outputId": "eb273f63-717d-40f5-f397-116b5558019a"
      },
      "outputs": [
        {
          "output_type": "stream",
          "name": "stdout",
          "text": [
            "Evaluation \t Proposed point \t  Current eval. \t  Best eval. \t        Exact EI: StdDev. x \t Approx EI: StdDev. x \n",
            "init\t [0.12549009 2.45848547]\t 30.19066754742359\t 11.367015527968295\t    \t    \n",
            "init\t [ 3.33384917 -4.42757746]\t 88548.3950659154\t 11.367015527968295\t    \t    \n",
            "init\t [-1.71237667  4.11843365]\t 13933.414320383567\t 11.367015527968295\t    \t    \n",
            "init\t [ 0.11805041 -1.63544018]\t 11.367015527968295\t 11.367015527968295\t    \t    \n",
            "init\t [ 0.35279944 -2.50870552]\t 27.90050047415725\t 11.367015527968295\t    \t    \n",
            "1  \t [1.53250016 1.11671435]\t 20.13948326146815\t 11.367015527968295\t 2.8706352933131623\t 2.7249784851402086\n",
            "2  \t [-4.29401928 -0.4119726 ]\t 143.1341716117721\t 11.367015527968295\t 3.354283536778157\t 3.4115333621714985\n",
            "3  \t [4.5        4.09993299]\t 100645.86599710982\t 11.367015527968295\t 2.7937744936511666\t 2.751689228339941\n",
            "4  \t [-3.29382121 -4.5       ]\t 97802.64298148586\t 11.367015527968295\t 2.8584025217435927\t 2.912966587583327\n",
            "5  \t [ 4.19389567 -0.6362805 ]\t 35.83422151565863\t 11.367015527968295\t 2.47499613665151\t 2.457657942488099\n",
            "6  \t [-1.35697992  0.35833481]\t 32.7668576027172\t 11.367015527968295\t 2.419406467047235\t 2.4075187486742164\n",
            "\u001b[1m\u001b[92m7\u001b[0m\t \u001b[1m\u001b[92m[ 1.6507874 -0.7367814]\u001b[0m\t \u001b[1m\u001b[92m4.203451845173339\u001b[0m\t \u001b[1m\u001b[92m4.203451845173339\u001b[0m\t \u001b[1m\u001b[92m2.29634957000022\u001b[0m\t \u001b[1m\u001b[92m2.4906513680346474\u001b[0m\n",
            "8  \t [-4.5         2.16038297]\t 1679.95663024367\t 4.203451845173339\t 2.613344262779622\t 2.6236946156385414\n",
            "9  \t [0.7146098 1.6819772]\t 44.80662319992762\t 4.203451845173339\t 2.7218658208397324\t 2.726128737487193\n",
            "10 \t [ 0.48598065 -0.49700551]\t 8.470151926398007\t 4.203451845173339\t 2.4118501998184456\t 2.404369015769446\n",
            "\u001b[1m\u001b[92m11\u001b[0m\t \u001b[1m\u001b[92m[ 1.7883079  -0.21492987]\u001b[0m\t \u001b[1m\u001b[92m1.4194057696122675\u001b[0m\t \u001b[1m\u001b[92m1.4194057696122675\u001b[0m\t \u001b[1m\u001b[92m2.639976019074728\u001b[0m\t \u001b[1m\u001b[92m2.6483011832963363\u001b[0m\n",
            "12 \t [ 2.54167286 -0.53667971]\t 6.0773428154174445\t 1.4194057696122675\t 2.609877796894018\t 2.6003550025167486\n",
            "13 \t [ 2.07606221 -0.46880971]\t 2.909876684991332\t 1.4194057696122675\t 2.5549374309953836\t 2.552716749363197\n",
            "14 \t [0.95541962 2.3476423 ]\t 247.69429072211213\t 1.4194057696122675\t 2.535527491484251\t 2.560470511098881\n",
            "15 \t [-2.24931943 -1.65887482]\t 288.11228339477896\t 1.4194057696122675\t 2.683994159014516\t 2.667919754846055\n",
            "16 \t [0.45488153 0.22176869]\t 9.347551638671058\t 1.4194057696122675\t 2.5555619251750685\t 2.5754664024075202\n",
            "17 \t [ 2.22824392 -0.70449302]\t 6.698720440304952\t 1.4194057696122675\t 2.725188190985658\t 2.725188190985658\n",
            "\u001b[1m\u001b[92m18\u001b[0m\t \u001b[1m\u001b[92m[ 2.27983697 -0.09011978]\u001b[0m\t \u001b[1m\u001b[92m1.0889235341276615\u001b[0m\t \u001b[1m\u001b[92m1.0889235341276615\u001b[0m\t \u001b[1m\u001b[92m2.3203836067947137\u001b[0m\t \u001b[1m\u001b[92m2.313751042633782\u001b[0m\n",
            "\u001b[1m\u001b[92m19\u001b[0m\t \u001b[1m\u001b[92m[ 2.12461071 -0.03808284]\u001b[0m\t \u001b[1m\u001b[92m0.7645378975268906\u001b[0m\t \u001b[1m\u001b[92m0.7645378975268906\u001b[0m\t \u001b[1m\u001b[92m2.5416868023459607\u001b[0m\t \u001b[1m\u001b[92m2.553325116392278\u001b[0m\n",
            "20 \t [ 0.3556337  -0.57645923]\t 9.778193520977748\t 0.7645378975268906\t 2.4019011390228986\t 2.4019016008158087\n"
          ]
        }
      ],
      "source": [
        "### EXACT GP EI GRADIENTS\n",
        "\n",
        "np.random.seed(run_num_14)\n",
        "surrogate_exact_14 = dGaussianProcess(cov_func, optimize=opt)\n",
        "\n",
        "exact_14 = dGPGO(surrogate_exact_14, Acquisition_grad(util), objfunc, param)\n",
        "exact_14.run(init_evals=n_init, max_iter=iters)\n"
      ]
    },
    {
      "cell_type": "code",
      "execution_count": 48,
      "metadata": {
        "id": "dPS8WB3aJTN6",
        "colab": {
          "base_uri": "https://localhost:8080/"
        },
        "outputId": "abd290d0-fa86-4e8e-e30b-1b40b139d208"
      },
      "outputs": [
        {
          "output_type": "stream",
          "name": "stdout",
          "text": [
            "Evaluation \t Proposed point \t  Current eval. \t  Best eval. \t        Exact EI: StdDev. x \t Approx EI: StdDev. x \n",
            "init\t [ 3.13935928 -2.88993668]\t 6575.875821208801\t 47.082686538130915\t    \t    \n",
            "init\t [-4.01073107 -1.24615399]\t 317.710908287677\t 47.082686538130915\t    \t    \n",
            "init\t [-2.02139164  0.27000202]\t 47.082686538130915\t 47.082686538130915\t    \t    \n",
            "init\t [-1.74672976 -1.75973077]\t 234.8792968363759\t 47.082686538130915\t    \t    \n",
            "init\t [-3.49432851 -2.25090888]\t 2421.671033348018\t 47.082686538130915\t    \t    \n",
            "1  \t [-4.5         0.10959261]\t 125.84224810265721\t 47.082686538130915\t 2.8032639754635253\t 2.8157699081678524\n",
            "2  \t [1.0386015  4.23847861]\t 6925.881538672311\t 47.082686538130915\t 2.7675576907194834\t 2.9368511978862246\n",
            "3  \t [-3.53556367  4.09869646]\t 59265.97796332804\t 47.082686538130915\t 2.9314724050083862\t 3.042588965964796\n",
            "4  \t [4.5       1.4133645]\t 173.9964511481253\t 47.082686538130915\t 2.5058427977268947\t 2.5354301924738065\n",
            "5  \t [4.5 4.5]\t 174813.36328125\t 47.082686538130915\t 2.8148092202674637\t 2.8522127267222324\n",
            "\u001b[1m\u001b[92m6\u001b[0m\t \u001b[1m\u001b[92m[3.84192042 0.66029793]\u001b[0m\t \u001b[1m\u001b[92m0.0571895630929507\u001b[0m\t \u001b[1m\u001b[92m0.0571895630929507\u001b[0m\t \u001b[1m\u001b[92m2.8092883394765535\u001b[0m\t \u001b[1m\u001b[92m2.8320519507832453\u001b[0m\n",
            "7  \t [-0.16986389 -3.23930299]\t 78.75587613378768\t 0.0571895630929507\t 2.4795716898431492\t 2.4795716898431492\n",
            "8  \t [-0.81090154 -0.66295282]\t 28.91312222893528\t 0.0571895630929507\t 2.933137604509307\t 2.933137604509307\n",
            "9  \t [3.70146057 0.7237661 ]\t 0.5725555595068627\t 0.0571895630929507\t 2.321731779429214\t 2.3547358827584657\n",
            "10 \t [0.66949399 0.22768884]\t 7.430065526242598\t 0.0571895630929507\t 2.534870764279553\t 2.5340220406865273\n",
            "11 \t [-0.30391727  0.12745448]\t 18.188037349141474\t 0.0571895630929507\t 2.3174256644305045\t 2.3174256644305045\n",
            "12 \t [0.67472524 0.57388565]\t 9.018370353583624\t 0.0571895630929507\t 2.4210562100556183\t 2.4210562100556183\n",
            "13 \t [-2.68531136 -1.59484909]\t 337.84938983843085\t 0.0571895630929507\t 2.890653847434994\t 2.890653847434994\n",
            "14 \t [3.99428179 0.76178398]\t 0.7871382054386193\t 0.0571895630929507\t 2.656662133803148\t 2.6763346913833512\n",
            "15 \t [-0.35088383  1.16086105]\t 12.502565158877681\t 0.0571895630929507\t 2.160839891991861\t 2.160839891991861\n",
            "16 \t [-0.11288538  0.46219057]\t 15.340777234518548\t 0.0571895630929507\t 2.7497905488955388\t 2.7497905488955388\n",
            "17 \t [-1.9242666  -4.33406393]\t 27148.18416504429\t 0.0571895630929507\t 2.344701023000334\t 2.344701023000334\n",
            "18 \t [-1.03718828 -1.12540573]\t 44.0432217866848\t 0.0571895630929507\t 2.6357743529518673\t 2.6720751771441416\n",
            "19 \t [ 0.73309758 -3.33231358]\t 732.8779297011877\t 0.0571895630929507\t 2.710713001832459\t 2.703839097509187\n",
            "20 \t [4.27429326 0.65657113]\t 0.22721068801317773\t 0.0571895630929507\t 2.411815746403885\t 2.4211512634240533\n"
          ]
        }
      ],
      "source": [
        "### EXACT GP EI GRADIENTS\n",
        "\n",
        "np.random.seed(run_num_15)\n",
        "surrogate_exact_15 = dGaussianProcess(cov_func, optimize=opt)\n",
        "\n",
        "exact_15 = dGPGO(surrogate_exact_15, Acquisition_grad(util), objfunc, param)\n",
        "exact_15.run(init_evals=n_init, max_iter=iters)\n"
      ]
    },
    {
      "cell_type": "code",
      "execution_count": 49,
      "metadata": {
        "id": "lu8ki9XIQPPN",
        "colab": {
          "base_uri": "https://localhost:8080/"
        },
        "outputId": "2867d1de-08ef-4318-af3f-964c92d6c6f3"
      },
      "outputs": [
        {
          "output_type": "stream",
          "name": "stdout",
          "text": [
            "Evaluation \t Proposed point \t  Current eval. \t  Best eval. \t        Exact EI: StdDev. x \t Approx EI: StdDev. x \n",
            "init\t [-2.49038029  0.20847007]\t 59.442894178636664\t 59.442894178636664\t    \t    \n",
            "init\t [ 0.45631311 -4.08958245]\t 932.9374489641153\t 59.442894178636664\t    \t    \n",
            "init\t [-1.25344048 -2.49227152]\t 594.9494957841517\t 59.442894178636664\t    \t    \n",
            "init\t [ 1.69853546 -3.02641717]\t 2418.389440420566\t 59.442894178636664\t    \t    \n",
            "init\t [-3.8670762   3.96909774]\t 58473.38862292419\t 59.442894178636664\t    \t    \n",
            "1  \t [3.10451809 4.5       ]\t 83759.28100779063\t 59.442894178636664\t 2.9205052475364197\t 2.8967627816938912\n",
            "\u001b[1m\u001b[92m2\u001b[0m\t \u001b[1m\u001b[92m[ 4.5        -0.05116121]\u001b[0m\t \u001b[1m\u001b[92m18.96187659301244\u001b[0m\t \u001b[1m\u001b[92m18.96187659301244\u001b[0m\t \u001b[1m\u001b[92m2.7699572826640524\u001b[0m\t \u001b[1m\u001b[92m2.7710617517370038\u001b[0m\n",
            "\u001b[1m\u001b[92m3\u001b[0m\t \u001b[1m\u001b[92m[ 1.13760564 -0.03938479]\u001b[0m\t \u001b[1m\u001b[92m3.5543488872433397\u001b[0m\t \u001b[1m\u001b[92m3.5543488872433397\u001b[0m\t \u001b[1m\u001b[92m2.555113532016537\u001b[0m\t \u001b[1m\u001b[92m2.555113532016537\u001b[0m\n",
            "4  \t [-4.5 -4.5]\t 181853.61328125\t 3.5543488872433397\t 2.8109909144756626\t 2.7282434544846224\n",
            "5  \t [0.22025152 0.78658601]\t 13.112685319486861\t 3.5543488872433397\t 2.621683584716782\t 2.621886353752114\n",
            "6  \t [-4.1232832  -0.02446938]\t 118.89362436451063\t 3.5543488872433397\t 2.9288467474280133\t 2.9288467474280133\n",
            "\u001b[1m\u001b[92m7\u001b[0m\t \u001b[1m\u001b[92m[2.66074281 0.15051034]\u001b[0m\t \u001b[1m\u001b[92m0.7015549970804659\u001b[0m\t \u001b[1m\u001b[92m0.7015549970804659\u001b[0m\t \u001b[1m\u001b[92m2.431835839303517\u001b[0m\t \u001b[1m\u001b[92m2.402392929230092\u001b[0m\n",
            "8  \t [-0.35909505  1.45133647]\t 8.780765925630682\t 0.7015549970804659\t 2.350863278855683\t 2.35086308072893\n",
            "9  \t [ 2.83248723 -0.38933245]\t 6.094334111486105\t 0.7015549970804659\t 2.711470537485038\t 2.711470537485038\n",
            "10 \t [ 4.25598556 -0.33978122]\t 23.184238632418733\t 0.7015549970804659\t 2.6579029920456563\t 2.6579035300747105\n",
            "11 \t [0.23280662 0.76844322]\t 12.972945840569391\t 0.7015549970804659\t 2.798988582067468\t 2.812608468266086\n",
            "12 \t [ 4.47678521 -3.19040158]\t 23853.291807642563\t 0.7015549970804659\t 2.7759457581168894\t 2.7759457581168894\n",
            "13 \t [0.04970148 0.46952413]\t 13.719935275114832\t 0.7015549970804659\t 2.2260377888732386\t 2.2260377888732386\n",
            "14 \t [ 1.16934599 -0.0100972 ]\t 3.388659197782456\t 0.7015549970804659\t 2.2694854679676904\t 2.269485349043748\n",
            "\u001b[1m\u001b[92m15\u001b[0m\t \u001b[1m\u001b[92m[2.38713659 0.28830728]\u001b[0m\t \u001b[1m\u001b[92m0.13038626593280997\u001b[0m\t \u001b[1m\u001b[92m0.13038626593280997\u001b[0m\t \u001b[1m\u001b[92m2.4363986148128314\u001b[0m\t \u001b[1m\u001b[92m2.504161910170934\u001b[0m\n",
            "16 \t [1.49836963 0.32314264]\t 2.446425209472035\t 0.13038626593280997\t 2.40913582800268\t 2.4835210660806806\n",
            "17 \t [2.94614573 0.28517185]\t 0.6395838132747578\t 0.13038626593280997\t 2.7809157599945427\t 2.8164053145699066\n",
            "18 \t [0.87476484 0.48361495]\t 7.0142218346659915\t 0.13038626593280997\t 2.4908068227739903\t 2.581589941788243\n",
            "19 \t [-0.37156824  1.36686678]\t 9.767317750028415\t 0.13038626593280997\t 2.3110585031417648\t 2.3110585031417648\n",
            "20 \t [3.48208244 0.35666276]\t 1.6592961291707078\t 0.13038626593280997\t 2.764653910680182\t 2.791126778458554\n"
          ]
        }
      ],
      "source": [
        "### EXACT GP EI GRADIENTS\n",
        "\n",
        "np.random.seed(run_num_16)\n",
        "surrogate_exact_16 = dGaussianProcess(cov_func, optimize=opt)\n",
        "\n",
        "exact_16 = dGPGO(surrogate_exact_16, Acquisition_grad(util), objfunc, param)\n",
        "exact_16.run(init_evals=n_init, max_iter=iters)\n"
      ]
    },
    {
      "cell_type": "code",
      "execution_count": 50,
      "metadata": {
        "id": "yU2SflSsJTUs",
        "colab": {
          "base_uri": "https://localhost:8080/"
        },
        "outputId": "4ad58334-6b0c-4a94-fb03-be45a72dbccd"
      },
      "outputs": [
        {
          "output_type": "stream",
          "name": "stdout",
          "text": [
            "Evaluation \t Proposed point \t  Current eval. \t  Best eval. \t        Exact EI: StdDev. x \t Approx EI: StdDev. x \n",
            "init\t [-1.84801498  0.2752808 ]\t 43.39160388622011\t 6.891623366037299\t    \t    \n",
            "init\t [-2.77631292 -3.88889678]\t 30048.58268621874\t 6.891623366037299\t    \t    \n",
            "init\t [2.58286914 1.4070017 ]\t 81.72560623465196\t 6.891623366037299\t    \t    \n",
            "init\t [1.23768806 0.68042604]\t 6.891623366037299\t 6.891623366037299\t    \t    \n",
            "init\t [-4.14843375 -1.27967756]\t 359.4343933746243\t 6.891623366037299\t    \t    \n",
            "1  \t [ 4.35944118 -3.9086897 ]\t 73233.21388237538\t 6.891623366037299\t 2.940589188202466\t 3.5552887153799113\n",
            "2  \t [-1.01137564  4.5       ]\t 8137.370382178279\t 6.891623366037299\t 2.6544356854713698\t 2.7032627022515823\n",
            "3  \t [4.5 4.5]\t 174813.36328125\t 6.891623366037299\t 2.616223172851188\t 2.6083242536615545\n",
            "\u001b[1m\u001b[92m4\u001b[0m\t \u001b[1m\u001b[92m[2.66729317 0.31194837]\u001b[0m\t \u001b[1m\u001b[92m0.13875864455600553\u001b[0m\t \u001b[1m\u001b[92m0.13875864455600553\u001b[0m\t \u001b[1m\u001b[92m2.8013908550113173\u001b[0m\t \u001b[1m\u001b[92m2.8122476911715424\u001b[0m\n",
            "5  \t [2.95003922 0.22334474]\t 1.016983879280688\t 0.13875864455600553\t 2.411839624048896\t 2.41775767773743\n",
            "\u001b[1m\u001b[92m6\u001b[0m\t \u001b[1m\u001b[92m[2.56222746 0.36418711]\u001b[0m\t \u001b[1m\u001b[92m0.052223787305529804\u001b[0m\t \u001b[1m\u001b[92m0.052223787305529804\u001b[0m\t \u001b[1m\u001b[92m2.508109316739736\u001b[0m\t \u001b[1m\u001b[92m2.5428669616803496\u001b[0m\n",
            "7  \t [ 0.45911652 -0.55305697]\t 8.70994158414534\t 0.052223787305529804\t 2.273663874641143\t 2.3555095610350603\n",
            "8  \t [2.45293253 4.01434402]\t 26860.44714850753\t 0.052223787305529804\t 2.718938322108052\t 2.718938322108052\n",
            "9  \t [0.26490369 0.48533839]\t 11.765737896084712\t 0.052223787305529804\t 2.893633783714169\t 2.8936334516450493\n",
            "10 \t [2.35160015 0.65587701]\t 2.182999365172665\t 0.052223787305529804\t 2.3115969561080534\t 2.314185795158352\n",
            "11 \t [-4.5         2.06296657]\t 1213.2536239722078\t 0.052223787305529804\t 2.676377202083695\t 2.7149016405953224\n",
            "12 \t [ 0.0386648  -1.82908244]\t 12.93389020483113\t 0.052223787305529804\t 2.455597065720619\t 2.455597065720619\n",
            "13 \t [2.67841092 0.58126922]\t 0.5937084227547363\t 0.052223787305529804\t 2.245029905917267\t 2.241719799155197\n",
            "14 \t [ 0.31837179 -1.15761343]\t 9.508563659150587\t 0.052223787305529804\t 2.4075559720625863\t 2.432712169595077\n",
            "15 \t [2.58808568 0.60503892]\t 0.971870585820362\t 0.052223787305529804\t 2.458829699623159\t 2.4562744756671493\n",
            "16 \t [ 2.94198092e-04 -3.98729079e-01]\t 14.199134954157335\t 0.052223787305529804\t 2.215676618962266\t 2.2156766214683525\n",
            "17 \t [2.33993554 0.64976311]\t 2.1286489524816563\t 0.052223787305529804\t 2.3266990768365905\t 2.330602163638153\n",
            "18 \t [ 0.25796276 -0.44874158]\t 10.939426295709087\t 0.052223787305529804\t 2.587812846752715\t 2.587812846752715\n",
            "19 \t [2.64217932 0.5890536 ]\t 0.7201718261046013\t 0.052223787305529804\t 2.4123187317668764\t 2.4094397916190755\n",
            "20 \t [1.69353905 0.71658402]\t 5.490988409519417\t 0.052223787305529804\t 2.6427671023651307\t 2.6586222198579037\n"
          ]
        }
      ],
      "source": [
        "### EXACT GP EI GRADIENTS\n",
        "\n",
        "np.random.seed(run_num_17)\n",
        "surrogate_exact_17 = dGaussianProcess(cov_func, optimize=opt)\n",
        "\n",
        "exact_17 = dGPGO(surrogate_exact_17, Acquisition_grad(util), objfunc, param)\n",
        "exact_17.run(init_evals=n_init, max_iter=iters)\n"
      ]
    },
    {
      "cell_type": "code",
      "execution_count": 51,
      "metadata": {
        "id": "eVEhyZ9BQS-1",
        "colab": {
          "base_uri": "https://localhost:8080/"
        },
        "outputId": "0ee348a9-303f-429e-cce9-972c24cebccb"
      },
      "outputs": [
        {
          "output_type": "stream",
          "name": "stdout",
          "text": [
            "Evaluation \t Proposed point \t  Current eval. \t  Best eval. \t        Exact EI: StdDev. x \t Approx EI: StdDev. x \n",
            "init\t [1.35336818 0.04908036]\t 2.472652645883837\t 2.472652645883837\t    \t    \n",
            "init\t [ 3.40741324 -2.86343797]\t 7379.017314590048\t 2.472652645883837\t    \t    \n",
            "init\t [3.17009762 2.25122657]\t 1528.3101419799655\t 2.472652645883837\t    \t    \n",
            "init\t [1.49491501 4.39105903]\t 17224.913295283764\t 2.472652645883837\t    \t    \n",
            "init\t [-2.1872842  -4.24524667]\t 31030.348242396165\t 2.472652645883837\t    \t    \n",
            "1  \t [-4.5         1.89837954]\t 655.9662187694001\t 2.472652645883837\t 2.71250571397205\t 2.8408449245778034\n",
            "2  \t [-0.2146781   0.24501381]\t 16.819632183495493\t 2.472652645883837\t 2.3426100972297204\t 2.3399891997212423\n",
            "3  \t [ 0.56108525 -0.04086563]\t 7.954214709285399\t 2.472652645883837\t 2.401927788570838\t 2.4037346506660078\n",
            "4  \t [-1.69126185  0.35787451]\t 38.527410638718635\t 2.472652645883837\t 2.7281789472766294\t 2.749876002713762\n",
            "5  \t [-0.05787514  0.37788318]\t 14.828593431975197\t 2.472652645883837\t 2.4240321911661384\t 2.4240321911661384\n",
            "6  \t [-1.54797203  1.79524183]\t 24.371667031491736\t 2.472652645883837\t 2.586644948466975\t 2.586644948466975\n",
            "7  \t [ 0.84113894 -0.26427299]\t 5.4714756191249005\t 2.472652645883837\t 2.6758266773710164\t 2.6747721637593194\n",
            "8  \t [0.88482248 0.25661173]\t 5.816024120430091\t 2.472652645883837\t 2.5133064308271527\t 2.5133066420038475\n",
            "9  \t [ 0.68189489 -0.0733756 ]\t 6.835024303048035\t 2.472652645883837\t 2.582251850748349\t 2.5826409004665534\n",
            "\u001b[1m\u001b[92m10\u001b[0m\t \u001b[1m\u001b[92m[-0.97734338  1.54078079]\u001b[0m\t \u001b[1m\u001b[92m1.7673828816160209\u001b[0m\t \u001b[1m\u001b[92m1.7673828816160209\u001b[0m\t \u001b[1m\u001b[92m2.8034519024733697\u001b[0m\t \u001b[1m\u001b[92m2.8034519024733697\u001b[0m\n",
            "11 \t [1.0525273  0.35300975]\t 5.056500630981661\t 1.7673828816160209\t 2.6685295659499157\t 2.6685295659499157\n",
            "12 \t [-0.54364369  0.07017653]\t 21.850606399934932\t 1.7673828816160209\t 2.3904600590412497\t 2.3904600590412497\n",
            "13 \t [-2.53236486  4.35643415]\t 43625.83709328215\t 1.7673828816160209\t 2.559844165011022\t 2.569960362426815\n",
            "14 \t [-0.84207885  0.95271284]\t 15.29105877853975\t 1.7673828816160209\t 2.3165208867636027\t 2.3270380156723545\n",
            "15 \t [0.3327509 0.0225011]\t 10.310918931451553\t 1.7673828816160209\t 2.490383782311085\t 2.490383782311085\n",
            "16 \t [-0.8170064   1.03371634]\t 13.430938915756784\t 1.7673828816160209\t 2.2992338757224844\t 2.302881236571142\n",
            "17 \t [ 0.28131272 -0.46177715]\t 10.664762287939428\t 1.7673828816160209\t 3.02713941048763\t 3.0271394360463786\n",
            "18 \t [-1.68977661  1.05362527]\t 11.713825764765822\t 1.7673828816160209\t 2.671797840773429\t 2.669478008152071\n",
            "19 \t [-1.20615645  1.12556624]\t 9.99323959771579\t 1.7673828816160209\t 2.4090654099878925\t 2.4195626100342924\n",
            "20 \t [ 0.86829006 -0.13390164]\t 5.296779129356741\t 1.7673828816160209\t 2.614473496030159\t 2.6142976127538113\n"
          ]
        }
      ],
      "source": [
        "### EXACT GP EI GRADIENTS\n",
        "\n",
        "np.random.seed(run_num_18)\n",
        "surrogate_exact_18 = dGaussianProcess(cov_func, optimize=opt)\n",
        "\n",
        "exact_18 = dGPGO(surrogate_exact_18, Acquisition_grad(util), objfunc, param)\n",
        "exact_18.run(init_evals=n_init, max_iter=iters)\n"
      ]
    },
    {
      "cell_type": "code",
      "execution_count": 52,
      "metadata": {
        "id": "B6gTz1ojQUxn",
        "colab": {
          "base_uri": "https://localhost:8080/"
        },
        "outputId": "7e9bbfab-0d77-43a3-e13a-91d80d252a65"
      },
      "outputs": [
        {
          "output_type": "stream",
          "name": "stdout",
          "text": [
            "Evaluation \t Proposed point \t  Current eval. \t  Best eval. \t        Exact EI: StdDev. x \t Approx EI: StdDev. x \n",
            "init\t [-3.62219758  2.35124745]\t 1879.409018573639\t 63.544086067314716\t    \t    \n",
            "init\t [-2.27755824 -3.25681481]\t 7496.243410303341\t 63.544086067314716\t    \t    \n",
            "init\t [-1.51698093 -3.75300391]\t 7497.407542620609\t 63.544086067314716\t    \t    \n",
            "init\t [1.54779373 2.75934418]\t 1302.4341957421634\t 63.544086067314716\t    \t    \n",
            "init\t [4.34467723 1.22094661]\t 63.544086067314716\t 63.544086067314716\t    \t    \n",
            "1  \t [ 4.07353862 -3.4478513 ]\t 30809.944231909627\t 63.544086067314716\t 2.8239664078590048\t 3.4814812098695986\n",
            "2  \t [4.5 4.5]\t 174813.36328125\t 63.544086067314716\t 2.758819914076914\t 2.758819914076914\n",
            "\u001b[1m\u001b[92m3\u001b[0m\t \u001b[1m\u001b[92m[0.22919318 0.51697962]\u001b[0m\t \u001b[1m\u001b[92m12.157760687468183\u001b[0m\t \u001b[1m\u001b[92m12.157760687468183\u001b[0m\t \u001b[1m\u001b[92m2.2162167579249594\u001b[0m\t \u001b[1m\u001b[92m2.2162167579249594\u001b[0m\n",
            "4  \t [ 0.00313462 -0.05150279]\t 14.16273986927354\t 12.157760687468183\t 2.6341337356493195\t 2.6424513866076746\n",
            "\u001b[1m\u001b[92m5\u001b[0m\t \u001b[1m\u001b[92m[2.88938771 0.75758331]\u001b[0m\t \u001b[1m\u001b[92m2.661423500629234\u001b[0m\t \u001b[1m\u001b[92m2.661423500629234\u001b[0m\t \u001b[1m\u001b[92m2.3414523389254454\u001b[0m\t \u001b[1m\u001b[92m2.3933649584956576\u001b[0m\n",
            "\u001b[1m\u001b[92m6\u001b[0m\t \u001b[1m\u001b[92m[3.1007216 0.6829004]\u001b[0m\t \u001b[1m\u001b[92m0.8833481994560184\u001b[0m\t \u001b[1m\u001b[92m0.8833481994560184\u001b[0m\t \u001b[1m\u001b[92m2.745326066842585\u001b[0m\t \u001b[1m\u001b[92m2.726142835890304\u001b[0m\n",
            "7  \t [ 1.62124624 -0.20774117]\t 1.6765705280646688\t 0.8833481994560184\t 2.481612305395861\t 2.481612305395861\n",
            "\u001b[1m\u001b[92m8\u001b[0m\t \u001b[1m\u001b[92m[3.33184893 0.68475738]\u001b[0m\t \u001b[1m\u001b[92m0.5647276747843459\u001b[0m\t \u001b[1m\u001b[92m0.5647276747843459\u001b[0m\t \u001b[1m\u001b[92m2.4675821126055184\u001b[0m\t \u001b[1m\u001b[92m2.5118737433944824\u001b[0m\n",
            "9  \t [-0.21196174 -0.04260197]\t 17.06961900568545\t 0.5647276747843459\t 2.5896804320623508\t 2.5896803752858197\n",
            "10 \t [-0.82582644 -0.67491925]\t 29.325823744357812\t 0.5647276747843459\t 2.7609781185509257\t 2.7609781185509257\n",
            "11 \t [ 0.73813732 -0.42299819]\t 6.257239957231111\t 0.5647276747843459\t 2.1350932161046505\t 2.1408294675792616\n",
            "\u001b[1m\u001b[92m12\u001b[0m\t \u001b[1m\u001b[92m[3.79295956 0.61760299]\u001b[0m\t \u001b[1m\u001b[92m0.08702725670624786\u001b[0m\t \u001b[1m\u001b[92m0.08702725670624786\u001b[0m\t \u001b[1m\u001b[92m2.4837964345666768\u001b[0m\t \u001b[1m\u001b[92m2.503283198654313\u001b[0m\n",
            "13 \t [3.02688387 0.62853801]\t 0.43889334432104593\t 0.08702725670624786\t 2.589503975527334\t 2.6421237202641965\n",
            "14 \t [2.1305891  0.02833699]\t 0.5843052675330623\t 0.08702725670624786\t 2.3469172973665278\t 2.3469172973665278\n",
            "15 \t [4.28200428 0.53088931]\t 1.9725431640773283\t 0.08702725670624786\t 2.5765378698286097\t 2.5877020904553056\n",
            "16 \t [-0.3976195 -0.2425133]\t 20.033376265919422\t 0.08702725670624786\t 2.3440591444770487\t 2.3440592402475056\n",
            "17 \t [ 0.14892618 -0.21857378]\t 12.306203792857321\t 0.08702725670624786\t 2.4601989739077137\t 2.4601989739077137\n",
            "18 \t [4.08237454 0.013588  ]\t 11.863985450050981\t 0.08702725670624786\t 2.5876901219760775\t 2.5876901219760775\n",
            "19 \t [-0.785203   0.1936794]\t 25.17535776115217\t 0.08702725670624786\t 2.1719597904539767\t 2.1725541747397137\n",
            "20 \t [ 1.64551002 -0.30335679]\t 1.8585551808945269\t 0.08702725670624786\t 2.4465992465337596\t 2.4420700575722702\n"
          ]
        }
      ],
      "source": [
        "### EXACT GP EI GRADIENTS\n",
        "\n",
        "np.random.seed(run_num_19)\n",
        "surrogate_exact_19 = dGaussianProcess(cov_func, optimize=opt)\n",
        "\n",
        "exact_19 = dGPGO(surrogate_exact_19, Acquisition_grad(util), objfunc, param)\n",
        "exact_19.run(init_evals=n_init, max_iter=iters)\n"
      ]
    },
    {
      "cell_type": "code",
      "execution_count": 53,
      "metadata": {
        "id": "aw3xvSryIwDi",
        "colab": {
          "base_uri": "https://localhost:8080/"
        },
        "outputId": "bb1baad0-7ba5-4227-df53-236d73f44d3a"
      },
      "outputs": [
        {
          "output_type": "stream",
          "name": "stdout",
          "text": [
            "Evaluation \t Proposed point \t  Current eval. \t  Best eval. \t        Exact EI: StdDev. x \t Approx EI: StdDev. x \n",
            "init\t [0.79317721 3.57942355]\t 1607.3829986954497\t 30.55204392634667\t    \t    \n",
            "init\t [3.52377657 2.8425373 ]\t 7209.150060592592\t 30.55204392634667\t    \t    \n",
            "init\t [-4.17699373  1.72581824]\t 253.68900136908488\t 30.55204392634667\t    \t    \n",
            "init\t [-1.09187152  0.16659851]\t 30.55204392634667\t 30.55204392634667\t    \t    \n",
            "init\t [ 1.42156319 -2.75534804]\t 963.9362838324588\t 30.55204392634667\t    \t    \n",
            "\u001b[1m\u001b[92m1\u001b[0m\t \u001b[1m\u001b[92m[0.122115   0.01132059]\u001b[0m\t \u001b[1m\u001b[92m12.694773939546916\u001b[0m\t \u001b[1m\u001b[92m12.694773939546916\u001b[0m\t \u001b[1m\u001b[92m1.9174222796820688\u001b[0m\t \u001b[1m\u001b[92m1.9174222796820688\u001b[0m\n",
            "2  \t [-4.5 -4.5]\t 181853.61328125\t 12.694773939546916\t 2.892435401186829\t 2.886054385426392\n",
            "3  \t [-2.05277526  4.11642488]\t 20137.758854356038\t 12.694773939546916\t 2.44188999320172\t 2.44188999320172\n",
            "4  \t [ 4.06603407 -2.50992755]\t 5050.284622909643\t 12.694773939546916\t 2.661010835851499\t 2.661010835851499\n",
            "5  \t [-1.02146841 -0.9112768 ]\t 37.322051987203025\t 12.694773939546916\t 2.548844940146761\t 2.548844940146761\n",
            "6  \t [2.27616857 4.16020093]\t 28599.17782975805\t 12.694773939546916\t 2.923324060576606\t 2.923324060576606\n",
            "7  \t [-2.98729135  0.25629281]\t 70.19904802092951\t 12.694773939546916\t 2.95493390637091\t 2.95493390637091\n",
            "8  \t [1.08512156 1.37104853]\t 32.695278621618264\t 12.694773939546916\t 2.7074492645630532\t 2.7074492645630532\n",
            "9  \t [0.64162327 0.97713022]\t 13.805590839306772\t 12.694773939546916\t 2.5745496284537026\t 2.5885582725011966\n",
            "\u001b[1m\u001b[92m10\u001b[0m\t \u001b[1m\u001b[92m[ 1.33697477 -0.11269899]\u001b[0m\t \u001b[1m\u001b[92m2.5191468481618386\u001b[0m\t \u001b[1m\u001b[92m2.5191468481618386\u001b[0m\t \u001b[1m\u001b[92m2.596413227386233\u001b[0m\t \u001b[1m\u001b[92m2.596413227386233\u001b[0m\n",
            "11 \t [-0.6374706  -1.10525233]\t 29.524403650524555\t 2.5191468481618386\t 2.7078377734609105\t 2.7078377734609105\n",
            "12 \t [0.55404007 1.18954049]\t 17.74727985093334\t 2.5191468481618386\t 2.7248617278397576\t 2.7350698875516817\n",
            "13 \t [-1.08014303  2.48027462]\t 174.21624767034155\t 2.5191468481618386\t 3.007032369470511\t 3.007032369470511\n",
            "14 \t [-0.03793499  1.80185861]\t 12.804446267343547\t 2.5191468481618386\t 2.376979542285558\t 2.4099937329405887\n",
            "15 \t [1.22978847 0.21792836]\t 3.4353884654205933\t 2.5191468481618386\t 2.288043346301541\t 2.288737284578036\n",
            "16 \t [-0.02280143  1.63267078]\t 13.595169289997955\t 2.5191468481618386\t 2.5449483686715815\t 2.5594018468717192\n",
            "17 \t [0.08934867 1.6854387 ]\t 17.049081439554726\t 2.5191468481618386\t 2.4796621125131435\t 2.501310698612849\n",
            "18 \t [ 0.29897303 -0.14874033]\t 10.575810812178716\t 2.5191468481618386\t 2.7070122141263697\t 2.7070122141263697\n",
            "19 \t [1.10845552 0.33428025]\t 4.609225443999144\t 2.5191468481618386\t 2.552224974908893\t 2.5545805520372378\n",
            "20 \t [1.09022052 0.34490264]\t 4.775064796236591\t 2.5191468481618386\t 2.220795875130943\t 2.2237320686919353\n"
          ]
        }
      ],
      "source": [
        "### EXACT GP EI GRADIENTS\n",
        "\n",
        "np.random.seed(run_num_20)\n",
        "surrogate_exact_20 = dGaussianProcess(cov_func, optimize=opt)\n",
        "\n",
        "exact_20 = dGPGO(surrogate_exact_20, Acquisition_grad(util), objfunc, param)\n",
        "exact_20.run(init_evals=n_init, max_iter=iters)\n"
      ]
    },
    {
      "cell_type": "code",
      "execution_count": 54,
      "metadata": {
        "id": "5c8szjivRPme",
        "colab": {
          "base_uri": "https://localhost:8080/"
        },
        "outputId": "1a9da443-722e-4f8b-9293-5e586abc394c"
      },
      "outputs": [
        {
          "output_type": "execute_result",
          "data": {
            "text/plain": [
              "213.54061722755432"
            ]
          },
          "metadata": {},
          "execution_count": 54
        }
      ],
      "source": [
        "end_exact = time.time()\n",
        "end_exact\n",
        "\n",
        "time_exact = end_exact - start_exact\n",
        "time_exact\n"
      ]
    },
    {
      "cell_type": "code",
      "execution_count": 55,
      "metadata": {
        "id": "f6gCKnp6RR8c",
        "colab": {
          "base_uri": "https://localhost:8080/"
        },
        "outputId": "1f6bf2e3-5f49-4985-c173-2f55ef58ff63"
      },
      "outputs": [
        {
          "output_type": "execute_result",
          "data": {
            "text/plain": [
              "(1.6087553207443774, -1.1218168425520572)"
            ]
          },
          "metadata": {},
          "execution_count": 55
        }
      ],
      "source": [
        "### Simple regret minimization: run number = 1\n",
        "\n",
        "approx_output_1 = np.append(np.min(-approx_1.GP.y[0:n_init]),-approx_1.GP.y[n_init:(n_init+iters)]) \n",
        "exact_output_1 = np.append(np.min(-exact_1.GP.y[0:n_init]),-exact_1.GP.y[n_init:(n_init+iters)]) \n",
        "\n",
        "regret_approx_1 = np.log(approx_output_1 - y_global_orig)\n",
        "regret_exact_1 = np.log(exact_output_1 - y_global_orig)\n",
        "\n",
        "simple_regret_approx_1 = min_max_array(regret_approx_1)\n",
        "simple_regret_exact_1 = min_max_array(regret_exact_1)\n",
        "\n",
        "min_simple_regret_approx_1 = min(simple_regret_approx_1)\n",
        "min_simple_regret_exact_1 = min(simple_regret_exact_1)\n",
        "\n",
        "min_simple_regret_approx_1, min_simple_regret_exact_1\n"
      ]
    },
    {
      "cell_type": "code",
      "execution_count": 56,
      "metadata": {
        "id": "94yBw5tqQxfk",
        "colab": {
          "base_uri": "https://localhost:8080/"
        },
        "outputId": "5c4d4e17-6ef2-4dc6-db77-f52670b841c1"
      },
      "outputs": [
        {
          "output_type": "execute_result",
          "data": {
            "text/plain": [
              "(1.6281225330212343, 1.009007149132472)"
            ]
          },
          "metadata": {},
          "execution_count": 56
        }
      ],
      "source": [
        "### Simple regret minimization: run number = 2\n",
        "\n",
        "approx_output_2 = np.append(np.min(-approx_2.GP.y[0:n_init]),-approx_2.GP.y[n_init:(n_init+iters)]) \n",
        "exact_output_2 = np.append(np.min(-exact_2.GP.y[0:n_init]),-exact_2.GP.y[n_init:(n_init+iters)]) \n",
        "\n",
        "regret_approx_2 = np.log(approx_output_2 - y_global_orig)\n",
        "regret_exact_2 = np.log(exact_output_2 - y_global_orig)\n",
        "\n",
        "simple_regret_approx_2 = min_max_array(regret_approx_2)\n",
        "simple_regret_exact_2 = min_max_array(regret_exact_2)\n",
        "\n",
        "min_simple_regret_approx_2 = min(simple_regret_approx_2)\n",
        "min_simple_regret_exact_2 = min(simple_regret_exact_2)\n",
        "\n",
        "min_simple_regret_approx_2, min_simple_regret_exact_2\n"
      ]
    },
    {
      "cell_type": "code",
      "execution_count": 57,
      "metadata": {
        "id": "Bu6SBWALQxfl",
        "colab": {
          "base_uri": "https://localhost:8080/"
        },
        "outputId": "8e276be7-489f-48d1-cc13-c12a4c21adf6"
      },
      "outputs": [
        {
          "output_type": "execute_result",
          "data": {
            "text/plain": [
              "(-0.743117888766108, 0.060447131196057984)"
            ]
          },
          "metadata": {},
          "execution_count": 57
        }
      ],
      "source": [
        "### Simple regret minimization: run number = 3\n",
        "\n",
        "approx_output_3 = np.append(np.min(-approx_3.GP.y[0:n_init]),-approx_3.GP.y[n_init:(n_init+iters)]) \n",
        "exact_output_3 = np.append(np.min(-exact_3.GP.y[0:n_init]),-exact_3.GP.y[n_init:(n_init+iters)]) \n",
        "\n",
        "regret_approx_3 = np.log(approx_output_3 - y_global_orig)\n",
        "regret_exact_3 = np.log(exact_output_3 - y_global_orig)\n",
        "\n",
        "simple_regret_approx_3 = min_max_array(regret_approx_3)\n",
        "simple_regret_exact_3 = min_max_array(regret_exact_3)\n",
        "\n",
        "min_simple_regret_approx_3 = min(simple_regret_approx_3)\n",
        "min_simple_regret_exact_3 = min(simple_regret_exact_3)\n",
        "\n",
        "min_simple_regret_approx_3, min_simple_regret_exact_3"
      ]
    },
    {
      "cell_type": "code",
      "execution_count": 58,
      "metadata": {
        "id": "AZm0jgxkQxfm",
        "colab": {
          "base_uri": "https://localhost:8080/"
        },
        "outputId": "3b197fc7-60c5-4b0e-a558-1c2d6e28ad05"
      },
      "outputs": [
        {
          "output_type": "execute_result",
          "data": {
            "text/plain": [
              "(-2.1266463442484316, -2.1266463442484316)"
            ]
          },
          "metadata": {},
          "execution_count": 58
        }
      ],
      "source": [
        "### Simple regret minimization: run number = 4\n",
        "\n",
        "approx_output_4 = np.append(np.min(-approx_4.GP.y[0:n_init]),-approx_4.GP.y[n_init:(n_init+iters)]) \n",
        "exact_output_4 = np.append(np.min(-exact_4.GP.y[0:n_init]),-exact_4.GP.y[n_init:(n_init+iters)]) \n",
        "\n",
        "regret_approx_4 = np.log(approx_output_4 - y_global_orig)\n",
        "regret_exact_4 = np.log(exact_output_4 - y_global_orig)\n",
        "\n",
        "simple_regret_approx_4 = min_max_array(regret_approx_4)\n",
        "simple_regret_exact_4 = min_max_array(regret_exact_4)\n",
        "\n",
        "min_simple_regret_approx_4 = min(simple_regret_approx_4)\n",
        "min_simple_regret_exact_4 = min(simple_regret_exact_4)\n",
        "\n",
        "min_simple_regret_approx_4, min_simple_regret_exact_4"
      ]
    },
    {
      "cell_type": "code",
      "execution_count": 59,
      "metadata": {
        "id": "NONPm8JIQxfn",
        "colab": {
          "base_uri": "https://localhost:8080/"
        },
        "outputId": "7091b161-98d7-413d-d6b4-5f5aa3166151"
      },
      "outputs": [
        {
          "output_type": "execute_result",
          "data": {
            "text/plain": [
              "(-1.9572819532983092, -2.249974812327161)"
            ]
          },
          "metadata": {},
          "execution_count": 59
        }
      ],
      "source": [
        "### Simple regret minimization: run number = 5\n",
        "\n",
        "approx_output_5 = np.append(np.min(-approx_5.GP.y[0:n_init]),-approx_5.GP.y[n_init:(n_init+iters)]) \n",
        "exact_output_5 = np.append(np.min(-exact_5.GP.y[0:n_init]),-exact_5.GP.y[n_init:(n_init+iters)]) \n",
        "\n",
        "regret_approx_5 = np.log(approx_output_5 - y_global_orig)\n",
        "regret_exact_5 = np.log(exact_output_5 - y_global_orig)\n",
        "\n",
        "simple_regret_approx_5 = min_max_array(regret_approx_5)\n",
        "simple_regret_exact_5 = min_max_array(regret_exact_5)\n",
        "\n",
        "min_simple_regret_approx_5 = min(simple_regret_approx_5)\n",
        "min_simple_regret_exact_5 = min(simple_regret_exact_5)\n",
        "\n",
        "min_simple_regret_approx_5, min_simple_regret_exact_5"
      ]
    },
    {
      "cell_type": "code",
      "execution_count": 60,
      "metadata": {
        "id": "CJv3lPuSQxfp",
        "colab": {
          "base_uri": "https://localhost:8080/"
        },
        "outputId": "b3d306f6-ee2f-402d-ad54-0bed3078ff6d"
      },
      "outputs": [
        {
          "output_type": "execute_result",
          "data": {
            "text/plain": [
              "(0.35869380889999586, -0.9525377913732019)"
            ]
          },
          "metadata": {},
          "execution_count": 60
        }
      ],
      "source": [
        "### Simple regret minimization: run number = 6\n",
        "\n",
        "approx_output_6 = np.append(np.min(-approx_6.GP.y[0:n_init]),-approx_6.GP.y[n_init:(n_init+iters)]) \n",
        "exact_output_6 = np.append(np.min(-exact_6.GP.y[0:n_init]),-exact_6.GP.y[n_init:(n_init+iters)]) \n",
        "\n",
        "regret_approx_6 = np.log(approx_output_6 - y_global_orig)\n",
        "regret_exact_6 = np.log(exact_output_6 - y_global_orig)\n",
        "\n",
        "simple_regret_approx_6 = min_max_array(regret_approx_6)\n",
        "simple_regret_exact_6 = min_max_array(regret_exact_6)\n",
        "\n",
        "min_simple_regret_approx_6 = min(simple_regret_approx_6)\n",
        "min_simple_regret_exact_6 = min(simple_regret_exact_6)\n",
        "\n",
        "min_simple_regret_approx_6, min_simple_regret_exact_6"
      ]
    },
    {
      "cell_type": "code",
      "execution_count": 61,
      "metadata": {
        "id": "quR2ZyApQxfq",
        "colab": {
          "base_uri": "https://localhost:8080/"
        },
        "outputId": "9a07485c-03df-4923-d5eb-b8196646d7ca"
      },
      "outputs": [
        {
          "output_type": "execute_result",
          "data": {
            "text/plain": [
              "(-0.13725738559429854, 1.087784678899565)"
            ]
          },
          "metadata": {},
          "execution_count": 61
        }
      ],
      "source": [
        "### Simple regret minimization: run number = 7\n",
        "\n",
        "approx_output_7 = np.append(np.min(-approx_7.GP.y[0:n_init]),-approx_7.GP.y[n_init:(n_init+iters)]) \n",
        "exact_output_7 = np.append(np.min(-exact_7.GP.y[0:n_init]),-exact_7.GP.y[n_init:(n_init+iters)]) \n",
        "\n",
        "regret_approx_7 = np.log(approx_output_7 - y_global_orig)\n",
        "regret_exact_7 = np.log(exact_output_7 - y_global_orig)\n",
        "\n",
        "simple_regret_approx_7 = min_max_array(regret_approx_7)\n",
        "simple_regret_exact_7 = min_max_array(regret_exact_7)\n",
        "\n",
        "min_simple_regret_approx_7 = min(simple_regret_approx_7)\n",
        "min_simple_regret_exact_7 = min(simple_regret_exact_7)\n",
        "\n",
        "min_simple_regret_approx_7, min_simple_regret_exact_7"
      ]
    },
    {
      "cell_type": "code",
      "execution_count": 62,
      "metadata": {
        "id": "99wY5nK6Qxfr",
        "colab": {
          "base_uri": "https://localhost:8080/"
        },
        "outputId": "99f1f679-8b9d-475c-8557-ed2c914b4f1b"
      },
      "outputs": [
        {
          "output_type": "execute_result",
          "data": {
            "text/plain": [
              "(0.5714672619658716, -0.6198746338920682)"
            ]
          },
          "metadata": {},
          "execution_count": 62
        }
      ],
      "source": [
        "### Simple regret minimization: run number = 8\n",
        "\n",
        "approx_output_8 = np.append(np.min(-approx_8.GP.y[0:n_init]),-approx_8.GP.y[n_init:(n_init+iters)]) \n",
        "exact_output_8 = np.append(np.min(-exact_8.GP.y[0:n_init]),-exact_8.GP.y[n_init:(n_init+iters)]) \n",
        "\n",
        "regret_approx_8 = np.log(approx_output_8 - y_global_orig)\n",
        "regret_exact_8 = np.log(exact_output_8 - y_global_orig)\n",
        "\n",
        "simple_regret_approx_8 = min_max_array(regret_approx_8)\n",
        "simple_regret_exact_8 = min_max_array(regret_exact_8)\n",
        "\n",
        "min_simple_regret_approx_8 = min(simple_regret_approx_8)\n",
        "min_simple_regret_exact_8 = min(simple_regret_exact_8)\n",
        "\n",
        "min_simple_regret_approx_8, min_simple_regret_exact_8"
      ]
    },
    {
      "cell_type": "code",
      "execution_count": 63,
      "metadata": {
        "id": "qt0P5t9qQxfs",
        "colab": {
          "base_uri": "https://localhost:8080/"
        },
        "outputId": "2cf76ad2-8078-45d3-8065-27ecdd0a1b59"
      },
      "outputs": [
        {
          "output_type": "execute_result",
          "data": {
            "text/plain": [
              "(-0.008752673556496011, -1.1128260282170568)"
            ]
          },
          "metadata": {},
          "execution_count": 63
        }
      ],
      "source": [
        "### Simple regret minimization: run number = 9\n",
        "\n",
        "approx_output_9 = np.append(np.min(-approx_9.GP.y[0:n_init]),-approx_9.GP.y[n_init:(n_init+iters)]) \n",
        "exact_output_9 = np.append(np.min(-exact_9.GP.y[0:n_init]),-exact_9.GP.y[n_init:(n_init+iters)]) \n",
        "\n",
        "regret_approx_9 = np.log(approx_output_9 - y_global_orig)\n",
        "regret_exact_9 = np.log(exact_output_9 - y_global_orig)\n",
        "\n",
        "simple_regret_approx_9 = min_max_array(regret_approx_9)\n",
        "simple_regret_exact_9 = min_max_array(regret_exact_9)\n",
        "\n",
        "min_simple_regret_approx_9 = min(simple_regret_approx_9)\n",
        "min_simple_regret_exact_9 = min(simple_regret_exact_9)\n",
        "\n",
        "min_simple_regret_approx_9, min_simple_regret_exact_9"
      ]
    },
    {
      "cell_type": "code",
      "execution_count": 64,
      "metadata": {
        "id": "vx8to9stQxft",
        "colab": {
          "base_uri": "https://localhost:8080/"
        },
        "outputId": "ac754e1d-6267-4424-bfd3-26f73451610f"
      },
      "outputs": [
        {
          "output_type": "execute_result",
          "data": {
            "text/plain": [
              "(-1.241665790802015, -0.286736149078743)"
            ]
          },
          "metadata": {},
          "execution_count": 64
        }
      ],
      "source": [
        "### Simple regret minimization: run number = 10\n",
        "\n",
        "approx_output_10 = np.append(np.min(-approx_10.GP.y[0:n_init]),-approx_10.GP.y[n_init:(n_init+iters)]) \n",
        "exact_output_10 = np.append(np.min(-exact_10.GP.y[0:n_init]),-exact_10.GP.y[n_init:(n_init+iters)]) \n",
        "\n",
        "regret_approx_10 = np.log(approx_output_10 - y_global_orig)\n",
        "regret_exact_10 = np.log(exact_output_10 - y_global_orig)\n",
        "\n",
        "simple_regret_approx_10 = min_max_array(regret_approx_10)\n",
        "simple_regret_exact_10 = min_max_array(regret_exact_10)\n",
        "\n",
        "min_simple_regret_approx_10 = min(simple_regret_approx_10)\n",
        "min_simple_regret_exact_10 = min(simple_regret_exact_10)\n",
        "\n",
        "min_simple_regret_approx_10, min_simple_regret_exact_10"
      ]
    },
    {
      "cell_type": "code",
      "execution_count": 65,
      "metadata": {
        "id": "d-FGzWyHQxfu",
        "colab": {
          "base_uri": "https://localhost:8080/"
        },
        "outputId": "2dbe801d-5a6d-40c8-b860-e253cfb2b468"
      },
      "outputs": [
        {
          "output_type": "execute_result",
          "data": {
            "text/plain": [
              "(0.7091384370151547, -0.08867755686795122)"
            ]
          },
          "metadata": {},
          "execution_count": 65
        }
      ],
      "source": [
        "### Simple regret minimization: run number = 11\n",
        "\n",
        "approx_output_11 = np.append(np.min(-approx_11.GP.y[0:n_init]),-approx_11.GP.y[n_init:(n_init+iters)]) \n",
        "exact_output_11 = np.append(np.min(-exact_11.GP.y[0:n_init]),-exact_11.GP.y[n_init:(n_init+iters)]) \n",
        "\n",
        "regret_approx_11 = np.log(approx_output_11 - y_global_orig)\n",
        "regret_exact_11 = np.log(exact_output_11 - y_global_orig)\n",
        "\n",
        "simple_regret_approx_11 = min_max_array(regret_approx_11)\n",
        "simple_regret_exact_11 = min_max_array(regret_exact_11)\n",
        "\n",
        "min_simple_regret_approx_11 = min(simple_regret_approx_11)\n",
        "min_simple_regret_exact_11 = min(simple_regret_exact_11)\n",
        "\n",
        "min_simple_regret_approx_11, min_simple_regret_exact_11"
      ]
    },
    {
      "cell_type": "code",
      "execution_count": 66,
      "metadata": {
        "id": "SvtsssyjQxfv",
        "colab": {
          "base_uri": "https://localhost:8080/"
        },
        "outputId": "5bcf7813-1935-4ae8-8ff7-fff64ed60cc4"
      },
      "outputs": [
        {
          "output_type": "execute_result",
          "data": {
            "text/plain": [
              "(1.020484800544813, -0.8352418952087651)"
            ]
          },
          "metadata": {},
          "execution_count": 66
        }
      ],
      "source": [
        "### Simple regret minimization: run number = 12\n",
        "\n",
        "approx_output_12 = np.append(np.min(-approx_12.GP.y[0:n_init]),-approx_12.GP.y[n_init:(n_init+iters)]) \n",
        "exact_output_12 = np.append(np.min(-exact_12.GP.y[0:n_init]),-exact_12.GP.y[n_init:(n_init+iters)]) \n",
        "\n",
        "regret_approx_12 = np.log(approx_output_12 - y_global_orig)\n",
        "regret_exact_12 = np.log(exact_output_12 - y_global_orig)\n",
        "\n",
        "simple_regret_approx_12 = min_max_array(regret_approx_12)\n",
        "simple_regret_exact_12 = min_max_array(regret_exact_12)\n",
        "\n",
        "min_simple_regret_approx_12 = min(simple_regret_approx_12)\n",
        "min_simple_regret_exact_12 = min(simple_regret_exact_12)\n",
        "\n",
        "min_simple_regret_approx_12, min_simple_regret_exact_12"
      ]
    },
    {
      "cell_type": "code",
      "execution_count": 67,
      "metadata": {
        "id": "K6OiGcHkQxfw",
        "colab": {
          "base_uri": "https://localhost:8080/"
        },
        "outputId": "071c44ed-72e5-47c1-a791-d7fcaf712938"
      },
      "outputs": [
        {
          "output_type": "execute_result",
          "data": {
            "text/plain": [
              "(-2.778936870663117, -2.779602774609892)"
            ]
          },
          "metadata": {},
          "execution_count": 67
        }
      ],
      "source": [
        "### Simple regret minimization: run number = 13\n",
        "\n",
        "approx_output_13 = np.append(np.min(-approx_13.GP.y[0:n_init]),-approx_13.GP.y[n_init:(n_init+iters)]) \n",
        "exact_output_13 = np.append(np.min(-exact_13.GP.y[0:n_init]),-exact_13.GP.y[n_init:(n_init+iters)]) \n",
        "\n",
        "regret_approx_13 = np.log(approx_output_13 - y_global_orig)\n",
        "regret_exact_13 = np.log(exact_output_13 - y_global_orig)\n",
        "\n",
        "simple_regret_approx_13 = min_max_array(regret_approx_13)\n",
        "simple_regret_exact_13 = min_max_array(regret_exact_13)\n",
        "\n",
        "min_simple_regret_approx_13 = min(simple_regret_approx_13)\n",
        "min_simple_regret_exact_13 = min(simple_regret_exact_13)\n",
        "\n",
        "min_simple_regret_approx_13, min_simple_regret_exact_13"
      ]
    },
    {
      "cell_type": "code",
      "execution_count": 68,
      "metadata": {
        "id": "ogML73shQxfx",
        "colab": {
          "base_uri": "https://localhost:8080/"
        },
        "outputId": "595f87cf-f550-49d4-cf66-1a1d5530a072"
      },
      "outputs": [
        {
          "output_type": "execute_result",
          "data": {
            "text/plain": [
              "(0.4302066543981565, -0.2684836831910447)"
            ]
          },
          "metadata": {},
          "execution_count": 68
        }
      ],
      "source": [
        "### Simple regret minimization: run number = 14\n",
        "\n",
        "approx_output_14 = np.append(np.min(-approx_14.GP.y[0:n_init]),-approx_14.GP.y[n_init:(n_init+iters)]) \n",
        "exact_output_14 = np.append(np.min(-exact_14.GP.y[0:n_init]),-exact_14.GP.y[n_init:(n_init+iters)]) \n",
        "\n",
        "regret_approx_14 = np.log(approx_output_14 - y_global_orig)\n",
        "regret_exact_14 = np.log(exact_output_14 - y_global_orig)\n",
        "\n",
        "simple_regret_approx_14 = min_max_array(regret_approx_14)\n",
        "simple_regret_exact_14 = min_max_array(regret_exact_14)\n",
        "\n",
        "min_simple_regret_approx_14 = min(simple_regret_approx_14)\n",
        "min_simple_regret_exact_14 = min(simple_regret_exact_14)\n",
        "\n",
        "min_simple_regret_approx_14, min_simple_regret_exact_14"
      ]
    },
    {
      "cell_type": "code",
      "execution_count": 69,
      "metadata": {
        "id": "9Eg7gFT9Qxfx",
        "colab": {
          "base_uri": "https://localhost:8080/"
        },
        "outputId": "5dec6833-a458-45d1-eac0-6e573a1693c7"
      },
      "outputs": [
        {
          "output_type": "execute_result",
          "data": {
            "text/plain": [
              "(-2.6981590161302207, -2.861383860654811)"
            ]
          },
          "metadata": {},
          "execution_count": 69
        }
      ],
      "source": [
        "### Simple regret minimization: run number = 15\n",
        "\n",
        "approx_output_15 = np.append(np.min(-approx_15.GP.y[0:n_init]),-approx_15.GP.y[n_init:(n_init+iters)]) \n",
        "exact_output_15 = np.append(np.min(-exact_15.GP.y[0:n_init]),-exact_15.GP.y[n_init:(n_init+iters)]) \n",
        "\n",
        "regret_approx_15 = np.log(approx_output_15 - y_global_orig)\n",
        "regret_exact_15 = np.log(exact_output_15 - y_global_orig)\n",
        "\n",
        "simple_regret_approx_15 = min_max_array(regret_approx_15)\n",
        "simple_regret_exact_15 = min_max_array(regret_exact_15)\n",
        "\n",
        "min_simple_regret_approx_15 = min(simple_regret_approx_15)\n",
        "min_simple_regret_exact_15 = min(simple_regret_exact_15)\n",
        "\n",
        "min_simple_regret_approx_15, min_simple_regret_exact_15"
      ]
    },
    {
      "cell_type": "code",
      "execution_count": 70,
      "metadata": {
        "id": "lIAC1U7ZQxfy",
        "colab": {
          "base_uri": "https://localhost:8080/"
        },
        "outputId": "402fb5a7-29f4-4b6f-c419-a55edca43ecc"
      },
      "outputs": [
        {
          "output_type": "execute_result",
          "data": {
            "text/plain": [
              "(0.757230977675175, -2.0372539576375495)"
            ]
          },
          "metadata": {},
          "execution_count": 70
        }
      ],
      "source": [
        "### Simple regret minimization: run number = 16\n",
        "\n",
        "approx_output_16 = np.append(np.min(-approx_16.GP.y[0:n_init]),-approx_16.GP.y[n_init:(n_init+iters)]) \n",
        "exact_output_16 = np.append(np.min(-exact_16.GP.y[0:n_init]),-exact_16.GP.y[n_init:(n_init+iters)]) \n",
        "\n",
        "regret_approx_16 = np.log(approx_output_16 - y_global_orig)\n",
        "regret_exact_16 = np.log(exact_output_16 - y_global_orig)\n",
        "\n",
        "simple_regret_approx_16 = min_max_array(regret_approx_16)\n",
        "simple_regret_exact_16 = min_max_array(regret_exact_16)\n",
        "\n",
        "min_simple_regret_approx_16 = min(simple_regret_approx_16)\n",
        "min_simple_regret_exact_16 = min(simple_regret_exact_16)\n",
        "\n",
        "min_simple_regret_approx_16, min_simple_regret_exact_16"
      ]
    },
    {
      "cell_type": "code",
      "execution_count": 71,
      "metadata": {
        "id": "bGott36OQxfz",
        "colab": {
          "base_uri": "https://localhost:8080/"
        },
        "outputId": "0cd7fe11-53e4-405d-f426-cdbef70c8dbe"
      },
      "outputs": [
        {
          "output_type": "execute_result",
          "data": {
            "text/plain": [
              "(-0.9682459203299446, -2.9522171923829763)"
            ]
          },
          "metadata": {},
          "execution_count": 71
        }
      ],
      "source": [
        "### Simple regret minimization: run number = 17\n",
        "\n",
        "approx_output_17 = np.append(np.min(-approx_17.GP.y[0:n_init]),-approx_17.GP.y[n_init:(n_init+iters)]) \n",
        "exact_output_17 = np.append(np.min(-exact_17.GP.y[0:n_init]),-exact_17.GP.y[n_init:(n_init+iters)]) \n",
        "\n",
        "regret_approx_17 = np.log(approx_output_17 - y_global_orig)\n",
        "regret_exact_17 = np.log(exact_output_17 - y_global_orig)\n",
        "\n",
        "simple_regret_approx_17 = min_max_array(regret_approx_17)\n",
        "simple_regret_exact_17 = min_max_array(regret_exact_17)\n",
        "\n",
        "min_simple_regret_approx_17 = min(simple_regret_approx_17)\n",
        "min_simple_regret_exact_17 = min(simple_regret_exact_17)\n",
        "\n",
        "min_simple_regret_approx_17, min_simple_regret_exact_17"
      ]
    },
    {
      "cell_type": "code",
      "execution_count": 72,
      "metadata": {
        "id": "Cz9ZYMBMQxfz",
        "colab": {
          "base_uri": "https://localhost:8080/"
        },
        "outputId": "59b9a8bc-257f-470b-b907-2947010a1287"
      },
      "outputs": [
        {
          "output_type": "execute_result",
          "data": {
            "text/plain": [
              "(0.38120661329448713, 0.5694998544240025)"
            ]
          },
          "metadata": {},
          "execution_count": 72
        }
      ],
      "source": [
        "### Simple regret minimization: run number = 18\n",
        "\n",
        "approx_output_18 = np.append(np.min(-approx_18.GP.y[0:n_init]),-approx_18.GP.y[n_init:(n_init+iters)]) \n",
        "exact_output_18 = np.append(np.min(-exact_18.GP.y[0:n_init]),-exact_18.GP.y[n_init:(n_init+iters)]) \n",
        "\n",
        "regret_approx_18 = np.log(approx_output_18 - y_global_orig)\n",
        "regret_exact_18 = np.log(exact_output_18 - y_global_orig)\n",
        "\n",
        "simple_regret_approx_18 = min_max_array(regret_approx_18)\n",
        "simple_regret_exact_18 = min_max_array(regret_exact_18)\n",
        "\n",
        "min_simple_regret_approx_18 = min(simple_regret_approx_18)\n",
        "min_simple_regret_exact_18 = min(simple_regret_exact_18)\n",
        "\n",
        "min_simple_regret_approx_18, min_simple_regret_exact_18"
      ]
    },
    {
      "cell_type": "code",
      "execution_count": 73,
      "metadata": {
        "id": "OBfpWOHNQxf0",
        "colab": {
          "base_uri": "https://localhost:8080/"
        },
        "outputId": "5cc1d0c6-14de-4085-c51b-8ed7fc126aff"
      },
      "outputs": [
        {
          "output_type": "execute_result",
          "data": {
            "text/plain": [
              "(0.8083155053309091, -2.4415339139202192)"
            ]
          },
          "metadata": {},
          "execution_count": 73
        }
      ],
      "source": [
        "### Simple regret minimization: run number = 19\n",
        "\n",
        "approx_output_19 = np.append(np.min(-approx_19.GP.y[0:n_init]),-approx_19.GP.y[n_init:(n_init+iters)]) \n",
        "exact_output_19 = np.append(np.min(-exact_19.GP.y[0:n_init]),-exact_19.GP.y[n_init:(n_init+iters)]) \n",
        "\n",
        "regret_approx_19 = np.log(approx_output_19 - y_global_orig)\n",
        "regret_exact_19 = np.log(exact_output_19 - y_global_orig)\n",
        "\n",
        "simple_regret_approx_19 = min_max_array(regret_approx_19)\n",
        "simple_regret_exact_19 = min_max_array(regret_exact_19)\n",
        "\n",
        "min_simple_regret_approx_19 = min(simple_regret_approx_19)\n",
        "min_simple_regret_exact_19 = min(simple_regret_exact_19)\n",
        "\n",
        "min_simple_regret_approx_19, min_simple_regret_exact_19"
      ]
    },
    {
      "cell_type": "code",
      "execution_count": 74,
      "metadata": {
        "id": "BE1AJ7NsQxf0",
        "colab": {
          "base_uri": "https://localhost:8080/"
        },
        "outputId": "45cecb04-1c61-42e0-dda1-6a340b902f5b"
      },
      "outputs": [
        {
          "output_type": "execute_result",
          "data": {
            "text/plain": [
              "(0.9239202918848277, 0.9239202918848277)"
            ]
          },
          "metadata": {},
          "execution_count": 74
        }
      ],
      "source": [
        "### Simple regret minimization: run number = 20\n",
        "\n",
        "approx_output_20 = np.append(np.min(-approx_20.GP.y[0:n_init]),-approx_20.GP.y[n_init:(n_init+iters)]) \n",
        "exact_output_20 = np.append(np.min(-exact_20.GP.y[0:n_init]),-exact_20.GP.y[n_init:(n_init+iters)]) \n",
        "\n",
        "regret_approx_20 = np.log(approx_output_20 - y_global_orig)\n",
        "regret_exact_20 = np.log(exact_output_20 - y_global_orig)\n",
        "\n",
        "simple_regret_approx_20 = min_max_array(regret_approx_20)\n",
        "simple_regret_exact_20 = min_max_array(regret_exact_20)\n",
        "\n",
        "min_simple_regret_approx_20 = min(simple_regret_approx_20)\n",
        "min_simple_regret_exact_20 = min(simple_regret_exact_20)\n",
        "\n",
        "min_simple_regret_approx_20, min_simple_regret_exact_20"
      ]
    },
    {
      "cell_type": "code",
      "execution_count": 75,
      "metadata": {
        "id": "bpX-bKAHQxf1"
      },
      "outputs": [],
      "source": [
        "# Iteration1 :\n",
        "\n",
        "slice1 = 0\n",
        "\n",
        "approx1 = [simple_regret_approx_1[slice1],\n",
        "       simple_regret_approx_2[slice1],\n",
        "       simple_regret_approx_3[slice1],\n",
        "       simple_regret_approx_4[slice1],\n",
        "       simple_regret_approx_5[slice1],\n",
        "       simple_regret_approx_6[slice1],\n",
        "       simple_regret_approx_7[slice1],\n",
        "       simple_regret_approx_8[slice1],\n",
        "       simple_regret_approx_9[slice1],\n",
        "       simple_regret_approx_10[slice1],\n",
        "       simple_regret_approx_11[slice1],\n",
        "       simple_regret_approx_12[slice1],\n",
        "       simple_regret_approx_13[slice1],\n",
        "       simple_regret_approx_14[slice1],\n",
        "       simple_regret_approx_15[slice1],\n",
        "       simple_regret_approx_16[slice1],\n",
        "       simple_regret_approx_17[slice1],\n",
        "       simple_regret_approx_18[slice1],\n",
        "       simple_regret_approx_19[slice1],\n",
        "       simple_regret_approx_20[slice1]]\n",
        "\n",
        "exact1 = [simple_regret_exact_1[slice1],\n",
        "       simple_regret_exact_2[slice1],\n",
        "       simple_regret_exact_3[slice1],\n",
        "       simple_regret_exact_4[slice1],\n",
        "       simple_regret_exact_5[slice1],\n",
        "       simple_regret_exact_6[slice1],\n",
        "       simple_regret_exact_7[slice1],\n",
        "       simple_regret_exact_8[slice1],\n",
        "       simple_regret_exact_9[slice1],\n",
        "       simple_regret_exact_10[slice1],\n",
        "       simple_regret_exact_11[slice1],\n",
        "       simple_regret_exact_12[slice1],\n",
        "       simple_regret_exact_13[slice1],\n",
        "       simple_regret_exact_14[slice1],\n",
        "       simple_regret_exact_15[slice1],\n",
        "       simple_regret_exact_16[slice1],\n",
        "       simple_regret_exact_17[slice1],\n",
        "       simple_regret_exact_18[slice1],\n",
        "       simple_regret_exact_19[slice1],\n",
        "       simple_regret_exact_20[slice1]]\n",
        "\n",
        "approx1_results = pd.DataFrame(approx1).sort_values(by=[0], ascending=False)\n",
        "exact1_results = pd.DataFrame(exact1).sort_values(by=[0], ascending=False)\n",
        "\n",
        "### Best simple regret minimization IQR - approx:\n",
        "lower_approx1 = np.asarray(approx1_results[4:5][0])[0]\n",
        "median_approx1 = np.asarray(approx1_results[9:10][0])[0]\n",
        "upper_approx1 = np.asarray(approx1_results[14:15][0])[0]\n",
        "\n",
        "lower_exact1 = np.asarray(exact1_results[4:5][0])[0]\n",
        "median_exact1 = np.asarray(exact1_results[9:10][0])[0]\n",
        "upper_exact1 = np.asarray(exact1_results[14:15][0])[0]"
      ]
    },
    {
      "cell_type": "code",
      "execution_count": 76,
      "metadata": {
        "id": "CgIkJA1xQxf2"
      },
      "outputs": [],
      "source": [
        "# Iteration11 :\n",
        "\n",
        "slice11 = 10\n",
        "\n",
        "approx11 = [simple_regret_approx_1[slice11],\n",
        "       simple_regret_approx_2[slice11],\n",
        "       simple_regret_approx_3[slice11],\n",
        "       simple_regret_approx_4[slice11],\n",
        "       simple_regret_approx_5[slice11],\n",
        "       simple_regret_approx_6[slice11],\n",
        "       simple_regret_approx_7[slice11],\n",
        "       simple_regret_approx_8[slice11],\n",
        "       simple_regret_approx_9[slice11],\n",
        "       simple_regret_approx_10[slice11],\n",
        "       simple_regret_approx_11[slice11],\n",
        "       simple_regret_approx_12[slice11],\n",
        "       simple_regret_approx_13[slice11],\n",
        "       simple_regret_approx_14[slice11],\n",
        "       simple_regret_approx_15[slice11],\n",
        "       simple_regret_approx_16[slice11],\n",
        "       simple_regret_approx_17[slice11],\n",
        "       simple_regret_approx_18[slice11],\n",
        "       simple_regret_approx_19[slice11],\n",
        "       simple_regret_approx_20[slice11]]\n",
        "\n",
        "exact11 = [simple_regret_exact_1[slice11],\n",
        "       simple_regret_exact_2[slice11],\n",
        "       simple_regret_exact_3[slice11],\n",
        "       simple_regret_exact_4[slice11],\n",
        "       simple_regret_exact_5[slice11],\n",
        "       simple_regret_exact_6[slice11],\n",
        "       simple_regret_exact_7[slice11],\n",
        "       simple_regret_exact_8[slice11],\n",
        "       simple_regret_exact_9[slice11],\n",
        "       simple_regret_exact_10[slice11],\n",
        "       simple_regret_exact_11[slice11],\n",
        "       simple_regret_exact_12[slice11],\n",
        "       simple_regret_exact_13[slice11],\n",
        "       simple_regret_exact_14[slice11],\n",
        "       simple_regret_exact_15[slice11],\n",
        "       simple_regret_exact_16[slice11],\n",
        "       simple_regret_exact_17[slice11],\n",
        "       simple_regret_exact_18[slice11],\n",
        "       simple_regret_exact_19[slice11],\n",
        "       simple_regret_exact_20[slice11]]\n",
        "\n",
        "approx11_results = pd.DataFrame(approx11).sort_values(by=[0], ascending=False)\n",
        "exact11_results = pd.DataFrame(exact11).sort_values(by=[0], ascending=False)\n",
        "\n",
        "### Best simple regret minimization IQR - approx:\n",
        "lower_approx11 = np.asarray(approx11_results[4:5][0])[0]\n",
        "median_approx11 = np.asarray(approx11_results[9:10][0])[0]\n",
        "upper_approx11 = np.asarray(approx11_results[14:15][0])[0]\n",
        "\n",
        "lower_exact11 = np.asarray(exact11_results[4:5][0])[0]\n",
        "median_exact11 = np.asarray(exact11_results[9:10][0])[0]\n",
        "upper_exact11 = np.asarray(exact11_results[14:15][0])[0]"
      ]
    },
    {
      "cell_type": "code",
      "execution_count": 77,
      "metadata": {
        "id": "MFePDfGuQxf2"
      },
      "outputs": [],
      "source": [
        "# Iteration21 :\n",
        "\n",
        "slice21 = 20\n",
        "\n",
        "approx21 = [simple_regret_approx_1[slice21],\n",
        "       simple_regret_approx_2[slice21],\n",
        "       simple_regret_approx_3[slice21],\n",
        "       simple_regret_approx_4[slice21],\n",
        "       simple_regret_approx_5[slice21],\n",
        "       simple_regret_approx_6[slice21],\n",
        "       simple_regret_approx_7[slice21],\n",
        "       simple_regret_approx_8[slice21],\n",
        "       simple_regret_approx_9[slice21],\n",
        "       simple_regret_approx_10[slice21],\n",
        "       simple_regret_approx_11[slice21],\n",
        "       simple_regret_approx_12[slice21],\n",
        "       simple_regret_approx_13[slice21],\n",
        "       simple_regret_approx_14[slice21],\n",
        "       simple_regret_approx_15[slice21],\n",
        "       simple_regret_approx_16[slice21],\n",
        "       simple_regret_approx_17[slice21],\n",
        "       simple_regret_approx_18[slice21],\n",
        "       simple_regret_approx_19[slice21],\n",
        "       simple_regret_approx_20[slice21]]\n",
        "\n",
        "exact21 = [simple_regret_exact_1[slice21],\n",
        "       simple_regret_exact_2[slice21],\n",
        "       simple_regret_exact_3[slice21],\n",
        "       simple_regret_exact_4[slice21],\n",
        "       simple_regret_exact_5[slice21],\n",
        "       simple_regret_exact_6[slice21],\n",
        "       simple_regret_exact_7[slice21],\n",
        "       simple_regret_exact_8[slice21],\n",
        "       simple_regret_exact_9[slice21],\n",
        "       simple_regret_exact_10[slice21],\n",
        "       simple_regret_exact_11[slice21],\n",
        "       simple_regret_exact_12[slice21],\n",
        "       simple_regret_exact_13[slice21],\n",
        "       simple_regret_exact_14[slice21],\n",
        "       simple_regret_exact_15[slice21],\n",
        "       simple_regret_exact_16[slice21],\n",
        "       simple_regret_exact_17[slice21],\n",
        "       simple_regret_exact_18[slice21],\n",
        "       simple_regret_exact_19[slice21],\n",
        "       simple_regret_exact_20[slice21]]\n",
        "\n",
        "approx21_results = pd.DataFrame(approx21).sort_values(by=[0], ascending=False)\n",
        "exact21_results = pd.DataFrame(exact21).sort_values(by=[0], ascending=False)\n",
        "\n",
        "### Best simple regret minimization IQR - approx:\n",
        "lower_approx21 = np.asarray(approx21_results[4:5][0])[0]\n",
        "median_approx21 = np.asarray(approx21_results[9:10][0])[0]\n",
        "upper_approx21 = np.asarray(approx21_results[14:15][0])[0]\n",
        "\n",
        "lower_exact21 = np.asarray(exact21_results[4:5][0])[0]\n",
        "median_exact21 = np.asarray(exact21_results[9:10][0])[0]\n",
        "upper_exact21 = np.asarray(exact21_results[14:15][0])[0]"
      ]
    },
    {
      "cell_type": "code",
      "execution_count": 78,
      "metadata": {
        "id": "PrRDB1kfQxf3"
      },
      "outputs": [],
      "source": [
        "# Iteration2 :\n",
        "\n",
        "slice2 = 1\n",
        "\n",
        "approx2 = [simple_regret_approx_1[slice2],\n",
        "       simple_regret_approx_2[slice2],\n",
        "       simple_regret_approx_3[slice2],\n",
        "       simple_regret_approx_4[slice2],\n",
        "       simple_regret_approx_5[slice2],\n",
        "       simple_regret_approx_6[slice2],\n",
        "       simple_regret_approx_7[slice2],\n",
        "       simple_regret_approx_8[slice2],\n",
        "       simple_regret_approx_9[slice2],\n",
        "       simple_regret_approx_10[slice2],\n",
        "       simple_regret_approx_11[slice2],\n",
        "       simple_regret_approx_12[slice2],\n",
        "       simple_regret_approx_13[slice2],\n",
        "       simple_regret_approx_14[slice2],\n",
        "       simple_regret_approx_15[slice2],\n",
        "       simple_regret_approx_16[slice2],\n",
        "       simple_regret_approx_17[slice2],\n",
        "       simple_regret_approx_18[slice2],\n",
        "       simple_regret_approx_19[slice2],\n",
        "       simple_regret_approx_20[slice2]]\n",
        "\n",
        "exact2 = [simple_regret_exact_1[slice2],\n",
        "       simple_regret_exact_2[slice2],\n",
        "       simple_regret_exact_3[slice2],\n",
        "       simple_regret_exact_4[slice2],\n",
        "       simple_regret_exact_5[slice2],\n",
        "       simple_regret_exact_6[slice2],\n",
        "       simple_regret_exact_7[slice2],\n",
        "       simple_regret_exact_8[slice2],\n",
        "       simple_regret_exact_9[slice2],\n",
        "       simple_regret_exact_10[slice2],\n",
        "       simple_regret_exact_11[slice2],\n",
        "       simple_regret_exact_12[slice2],\n",
        "       simple_regret_exact_13[slice2],\n",
        "       simple_regret_exact_14[slice2],\n",
        "       simple_regret_exact_15[slice2],\n",
        "       simple_regret_exact_16[slice2],\n",
        "       simple_regret_exact_17[slice2],\n",
        "       simple_regret_exact_18[slice2],\n",
        "       simple_regret_exact_19[slice2],\n",
        "       simple_regret_exact_20[slice2]]\n",
        "\n",
        "approx2_results = pd.DataFrame(approx2).sort_values(by=[0], ascending=False)\n",
        "exact2_results = pd.DataFrame(exact2).sort_values(by=[0], ascending=False)\n",
        "\n",
        "### Best simple regret minimization IQR - approx:\n",
        "lower_approx2 = np.asarray(approx2_results[4:5][0])[0]\n",
        "median_approx2 = np.asarray(approx2_results[9:10][0])[0]\n",
        "upper_approx2 = np.asarray(approx2_results[14:15][0])[0]\n",
        "\n",
        "lower_exact2 = np.asarray(exact2_results[4:5][0])[0]\n",
        "median_exact2 = np.asarray(exact2_results[9:10][0])[0]\n",
        "upper_exact2 = np.asarray(exact2_results[14:15][0])[0]"
      ]
    },
    {
      "cell_type": "code",
      "execution_count": 79,
      "metadata": {
        "id": "B8ncJDYeQxf3"
      },
      "outputs": [],
      "source": [
        "# Iteration12 :\n",
        "\n",
        "slice12 = 11\n",
        "\n",
        "approx12 = [simple_regret_approx_1[slice12],\n",
        "       simple_regret_approx_2[slice12],\n",
        "       simple_regret_approx_3[slice12],\n",
        "       simple_regret_approx_4[slice12],\n",
        "       simple_regret_approx_5[slice12],\n",
        "       simple_regret_approx_6[slice12],\n",
        "       simple_regret_approx_7[slice12],\n",
        "       simple_regret_approx_8[slice12],\n",
        "       simple_regret_approx_9[slice12],\n",
        "       simple_regret_approx_10[slice12],\n",
        "       simple_regret_approx_11[slice12],\n",
        "       simple_regret_approx_12[slice12],\n",
        "       simple_regret_approx_13[slice12],\n",
        "       simple_regret_approx_14[slice12],\n",
        "       simple_regret_approx_15[slice12],\n",
        "       simple_regret_approx_16[slice12],\n",
        "       simple_regret_approx_17[slice12],\n",
        "       simple_regret_approx_18[slice12],\n",
        "       simple_regret_approx_19[slice12],\n",
        "       simple_regret_approx_20[slice12]]\n",
        "\n",
        "exact12 = [simple_regret_exact_1[slice12],\n",
        "       simple_regret_exact_2[slice12],\n",
        "       simple_regret_exact_3[slice12],\n",
        "       simple_regret_exact_4[slice12],\n",
        "       simple_regret_exact_5[slice12],\n",
        "       simple_regret_exact_6[slice12],\n",
        "       simple_regret_exact_7[slice12],\n",
        "       simple_regret_exact_8[slice12],\n",
        "       simple_regret_exact_9[slice12],\n",
        "       simple_regret_exact_10[slice12],\n",
        "       simple_regret_exact_11[slice12],\n",
        "       simple_regret_exact_12[slice12],\n",
        "       simple_regret_exact_13[slice12],\n",
        "       simple_regret_exact_14[slice12],\n",
        "       simple_regret_exact_15[slice12],\n",
        "       simple_regret_exact_16[slice12],\n",
        "       simple_regret_exact_17[slice12],\n",
        "       simple_regret_exact_18[slice12],\n",
        "       simple_regret_exact_19[slice12],\n",
        "       simple_regret_exact_20[slice12]]\n",
        "\n",
        "approx12_results = pd.DataFrame(approx12).sort_values(by=[0], ascending=False)\n",
        "exact12_results = pd.DataFrame(exact12).sort_values(by=[0], ascending=False)\n",
        "\n",
        "### Best simple regret minimization IQR - approx:\n",
        "lower_approx12 = np.asarray(approx12_results[4:5][0])[0]\n",
        "median_approx12 = np.asarray(approx12_results[9:10][0])[0]\n",
        "upper_approx12 = np.asarray(approx12_results[14:15][0])[0]\n",
        "\n",
        "lower_exact12 = np.asarray(exact12_results[4:5][0])[0]\n",
        "median_exact12 = np.asarray(exact12_results[9:10][0])[0]\n",
        "upper_exact12 = np.asarray(exact12_results[14:15][0])[0]"
      ]
    },
    {
      "cell_type": "code",
      "execution_count": 80,
      "metadata": {
        "id": "Jn4KpGvcQxf4"
      },
      "outputs": [],
      "source": [
        "# Iteration3 :\n",
        "\n",
        "slice3 = 2\n",
        "\n",
        "approx3 = [simple_regret_approx_1[slice3],\n",
        "       simple_regret_approx_2[slice3],\n",
        "       simple_regret_approx_3[slice3],\n",
        "       simple_regret_approx_4[slice3],\n",
        "       simple_regret_approx_5[slice3],\n",
        "       simple_regret_approx_6[slice3],\n",
        "       simple_regret_approx_7[slice3],\n",
        "       simple_regret_approx_8[slice3],\n",
        "       simple_regret_approx_9[slice3],\n",
        "       simple_regret_approx_10[slice3],\n",
        "       simple_regret_approx_11[slice3],\n",
        "       simple_regret_approx_12[slice3],\n",
        "       simple_regret_approx_13[slice3],\n",
        "       simple_regret_approx_14[slice3],\n",
        "       simple_regret_approx_15[slice3],\n",
        "       simple_regret_approx_16[slice3],\n",
        "       simple_regret_approx_17[slice3],\n",
        "       simple_regret_approx_18[slice3],\n",
        "       simple_regret_approx_19[slice3],\n",
        "       simple_regret_approx_20[slice3]]\n",
        "\n",
        "exact3 = [simple_regret_exact_1[slice3],\n",
        "       simple_regret_exact_2[slice3],\n",
        "       simple_regret_exact_3[slice3],\n",
        "       simple_regret_exact_4[slice3],\n",
        "       simple_regret_exact_5[slice3],\n",
        "       simple_regret_exact_6[slice3],\n",
        "       simple_regret_exact_7[slice3],\n",
        "       simple_regret_exact_8[slice3],\n",
        "       simple_regret_exact_9[slice3],\n",
        "       simple_regret_exact_10[slice3],\n",
        "       simple_regret_exact_11[slice3],\n",
        "       simple_regret_exact_12[slice3],\n",
        "       simple_regret_exact_13[slice3],\n",
        "       simple_regret_exact_14[slice3],\n",
        "       simple_regret_exact_15[slice3],\n",
        "       simple_regret_exact_16[slice3],\n",
        "       simple_regret_exact_17[slice3],\n",
        "       simple_regret_exact_18[slice3],\n",
        "       simple_regret_exact_19[slice3],\n",
        "       simple_regret_exact_20[slice3]]\n",
        "\n",
        "approx3_results = pd.DataFrame(approx3).sort_values(by=[0], ascending=False)\n",
        "exact3_results = pd.DataFrame(exact3).sort_values(by=[0], ascending=False)\n",
        "\n",
        "### Best simple regret minimization IQR - approx:\n",
        "lower_approx3 = np.asarray(approx3_results[4:5][0])[0]\n",
        "median_approx3 = np.asarray(approx3_results[9:10][0])[0]\n",
        "upper_approx3 = np.asarray(approx3_results[14:15][0])[0]\n",
        "\n",
        "lower_exact3 = np.asarray(exact3_results[4:5][0])[0]\n",
        "median_exact3 = np.asarray(exact3_results[9:10][0])[0]\n",
        "upper_exact3 = np.asarray(exact3_results[14:15][0])[0]"
      ]
    },
    {
      "cell_type": "code",
      "execution_count": 81,
      "metadata": {
        "id": "plf83wxrQxf4"
      },
      "outputs": [],
      "source": [
        "# Iteration13 :\n",
        "\n",
        "slice13 = 12\n",
        "\n",
        "approx13 = [simple_regret_approx_1[slice13],\n",
        "       simple_regret_approx_2[slice13],\n",
        "       simple_regret_approx_3[slice13],\n",
        "       simple_regret_approx_4[slice13],\n",
        "       simple_regret_approx_5[slice13],\n",
        "       simple_regret_approx_6[slice13],\n",
        "       simple_regret_approx_7[slice13],\n",
        "       simple_regret_approx_8[slice13],\n",
        "       simple_regret_approx_9[slice13],\n",
        "       simple_regret_approx_10[slice13],\n",
        "       simple_regret_approx_11[slice13],\n",
        "       simple_regret_approx_12[slice13],\n",
        "       simple_regret_approx_13[slice13],\n",
        "       simple_regret_approx_14[slice13],\n",
        "       simple_regret_approx_15[slice13],\n",
        "       simple_regret_approx_16[slice13],\n",
        "       simple_regret_approx_17[slice13],\n",
        "       simple_regret_approx_18[slice13],\n",
        "       simple_regret_approx_19[slice13],\n",
        "       simple_regret_approx_20[slice13]]\n",
        "\n",
        "exact13 = [simple_regret_exact_1[slice13],\n",
        "       simple_regret_exact_2[slice13],\n",
        "       simple_regret_exact_3[slice13],\n",
        "       simple_regret_exact_4[slice13],\n",
        "       simple_regret_exact_5[slice13],\n",
        "       simple_regret_exact_6[slice13],\n",
        "       simple_regret_exact_7[slice13],\n",
        "       simple_regret_exact_8[slice13],\n",
        "       simple_regret_exact_9[slice13],\n",
        "       simple_regret_exact_10[slice13],\n",
        "       simple_regret_exact_11[slice13],\n",
        "       simple_regret_exact_12[slice13],\n",
        "       simple_regret_exact_13[slice13],\n",
        "       simple_regret_exact_14[slice13],\n",
        "       simple_regret_exact_15[slice13],\n",
        "       simple_regret_exact_16[slice13],\n",
        "       simple_regret_exact_17[slice13],\n",
        "       simple_regret_exact_18[slice13],\n",
        "       simple_regret_exact_19[slice13],\n",
        "       simple_regret_exact_20[slice13]]\n",
        "\n",
        "approx13_results = pd.DataFrame(approx13).sort_values(by=[0], ascending=False)\n",
        "exact13_results = pd.DataFrame(exact13).sort_values(by=[0], ascending=False)\n",
        "\n",
        "### Best simple regret minimization IQR - approx:\n",
        "lower_approx13 = np.asarray(approx13_results[4:5][0])[0]\n",
        "median_approx13 = np.asarray(approx13_results[9:10][0])[0]\n",
        "upper_approx13 = np.asarray(approx13_results[14:15][0])[0]\n",
        "\n",
        "lower_exact13 = np.asarray(exact13_results[4:5][0])[0]\n",
        "median_exact13 = np.asarray(exact13_results[9:10][0])[0]\n",
        "upper_exact13 = np.asarray(exact13_results[14:15][0])[0]"
      ]
    },
    {
      "cell_type": "code",
      "execution_count": 82,
      "metadata": {
        "id": "9A7mlVvJQxf5"
      },
      "outputs": [],
      "source": [
        "# Iteration4 :\n",
        "\n",
        "slice4 = 3\n",
        "\n",
        "approx4 = [simple_regret_approx_1[slice4],\n",
        "       simple_regret_approx_2[slice4],\n",
        "       simple_regret_approx_3[slice4],\n",
        "       simple_regret_approx_4[slice4],\n",
        "       simple_regret_approx_5[slice4],\n",
        "       simple_regret_approx_6[slice4],\n",
        "       simple_regret_approx_7[slice4],\n",
        "       simple_regret_approx_8[slice4],\n",
        "       simple_regret_approx_9[slice4],\n",
        "       simple_regret_approx_10[slice4],\n",
        "       simple_regret_approx_11[slice4],\n",
        "       simple_regret_approx_12[slice4],\n",
        "       simple_regret_approx_13[slice4],\n",
        "       simple_regret_approx_14[slice4],\n",
        "       simple_regret_approx_15[slice4],\n",
        "       simple_regret_approx_16[slice4],\n",
        "       simple_regret_approx_17[slice4],\n",
        "       simple_regret_approx_18[slice4],\n",
        "       simple_regret_approx_19[slice4],\n",
        "       simple_regret_approx_20[slice4]]\n",
        "\n",
        "exact4 = [simple_regret_exact_1[slice4],\n",
        "       simple_regret_exact_2[slice4],\n",
        "       simple_regret_exact_3[slice4],\n",
        "       simple_regret_exact_4[slice4],\n",
        "       simple_regret_exact_5[slice4],\n",
        "       simple_regret_exact_6[slice4],\n",
        "       simple_regret_exact_7[slice4],\n",
        "       simple_regret_exact_8[slice4],\n",
        "       simple_regret_exact_9[slice4],\n",
        "       simple_regret_exact_10[slice4],\n",
        "       simple_regret_exact_11[slice4],\n",
        "       simple_regret_exact_12[slice4],\n",
        "       simple_regret_exact_13[slice4],\n",
        "       simple_regret_exact_14[slice4],\n",
        "       simple_regret_exact_15[slice4],\n",
        "       simple_regret_exact_16[slice4],\n",
        "       simple_regret_exact_17[slice4],\n",
        "       simple_regret_exact_18[slice4],\n",
        "       simple_regret_exact_19[slice4],\n",
        "       simple_regret_exact_20[slice4]]\n",
        "\n",
        "approx4_results = pd.DataFrame(approx4).sort_values(by=[0], ascending=False)\n",
        "exact4_results = pd.DataFrame(exact4).sort_values(by=[0], ascending=False)\n",
        "\n",
        "### Best simple regret minimization IQR - approx:\n",
        "lower_approx4 = np.asarray(approx4_results[4:5][0])[0]\n",
        "median_approx4 = np.asarray(approx4_results[9:10][0])[0]\n",
        "upper_approx4 = np.asarray(approx4_results[14:15][0])[0]\n",
        "\n",
        "lower_exact4 = np.asarray(exact4_results[4:5][0])[0]\n",
        "median_exact4 = np.asarray(exact4_results[9:10][0])[0]\n",
        "upper_exact4 = np.asarray(exact4_results[14:15][0])[0]"
      ]
    },
    {
      "cell_type": "code",
      "execution_count": 83,
      "metadata": {
        "id": "ijq-rioYQxf5"
      },
      "outputs": [],
      "source": [
        "# Iteration14 :\n",
        "\n",
        "slice14 = 13\n",
        "\n",
        "approx14 = [simple_regret_approx_1[slice14],\n",
        "       simple_regret_approx_2[slice14],\n",
        "       simple_regret_approx_3[slice14],\n",
        "       simple_regret_approx_4[slice14],\n",
        "       simple_regret_approx_5[slice14],\n",
        "       simple_regret_approx_6[slice14],\n",
        "       simple_regret_approx_7[slice14],\n",
        "       simple_regret_approx_8[slice14],\n",
        "       simple_regret_approx_9[slice14],\n",
        "       simple_regret_approx_10[slice14],\n",
        "       simple_regret_approx_11[slice14],\n",
        "       simple_regret_approx_12[slice14],\n",
        "       simple_regret_approx_13[slice14],\n",
        "       simple_regret_approx_14[slice14],\n",
        "       simple_regret_approx_15[slice14],\n",
        "       simple_regret_approx_16[slice14],\n",
        "       simple_regret_approx_17[slice14],\n",
        "       simple_regret_approx_18[slice14],\n",
        "       simple_regret_approx_19[slice14],\n",
        "       simple_regret_approx_20[slice14]]\n",
        "\n",
        "exact14 = [simple_regret_exact_1[slice14],\n",
        "       simple_regret_exact_2[slice14],\n",
        "       simple_regret_exact_3[slice14],\n",
        "       simple_regret_exact_4[slice14],\n",
        "       simple_regret_exact_5[slice14],\n",
        "       simple_regret_exact_6[slice14],\n",
        "       simple_regret_exact_7[slice14],\n",
        "       simple_regret_exact_8[slice14],\n",
        "       simple_regret_exact_9[slice14],\n",
        "       simple_regret_exact_10[slice14],\n",
        "       simple_regret_exact_11[slice14],\n",
        "       simple_regret_exact_12[slice14],\n",
        "       simple_regret_exact_13[slice14],\n",
        "       simple_regret_exact_14[slice14],\n",
        "       simple_regret_exact_15[slice14],\n",
        "       simple_regret_exact_16[slice14],\n",
        "       simple_regret_exact_17[slice14],\n",
        "       simple_regret_exact_18[slice14],\n",
        "       simple_regret_exact_19[slice14],\n",
        "       simple_regret_exact_20[slice14]]\n",
        "\n",
        "approx14_results = pd.DataFrame(approx14).sort_values(by=[0], ascending=False)\n",
        "exact14_results = pd.DataFrame(exact14).sort_values(by=[0], ascending=False)\n",
        "\n",
        "### Best simple regret minimization IQR - approx:\n",
        "lower_approx14 = np.asarray(approx14_results[4:5][0])[0]\n",
        "median_approx14 = np.asarray(approx14_results[9:10][0])[0]\n",
        "upper_approx14 = np.asarray(approx14_results[14:15][0])[0]\n",
        "\n",
        "lower_exact14 = np.asarray(exact14_results[4:5][0])[0]\n",
        "median_exact14 = np.asarray(exact14_results[9:10][0])[0]\n",
        "upper_exact14 = np.asarray(exact14_results[14:15][0])[0]"
      ]
    },
    {
      "cell_type": "code",
      "execution_count": 84,
      "metadata": {
        "id": "XINlZjoTd-ZK"
      },
      "outputs": [],
      "source": [
        "# Iteration5 :\n",
        "\n",
        "slice5 = 4\n",
        "\n",
        "approx5 = [simple_regret_approx_1[slice5],\n",
        "       simple_regret_approx_2[slice5],\n",
        "       simple_regret_approx_3[slice5],\n",
        "       simple_regret_approx_4[slice5],\n",
        "       simple_regret_approx_5[slice5],\n",
        "       simple_regret_approx_6[slice5],\n",
        "       simple_regret_approx_7[slice5],\n",
        "       simple_regret_approx_8[slice5],\n",
        "       simple_regret_approx_9[slice5],\n",
        "       simple_regret_approx_10[slice5],\n",
        "       simple_regret_approx_11[slice5],\n",
        "       simple_regret_approx_12[slice5],\n",
        "       simple_regret_approx_13[slice5],\n",
        "       simple_regret_approx_14[slice5],\n",
        "       simple_regret_approx_15[slice5],\n",
        "       simple_regret_approx_16[slice5],\n",
        "       simple_regret_approx_17[slice5],\n",
        "       simple_regret_approx_18[slice5],\n",
        "       simple_regret_approx_19[slice5],\n",
        "       simple_regret_approx_20[slice5]]\n",
        "\n",
        "exact5 = [simple_regret_exact_1[slice5],\n",
        "       simple_regret_exact_2[slice5],\n",
        "       simple_regret_exact_3[slice5],\n",
        "       simple_regret_exact_4[slice5],\n",
        "       simple_regret_exact_5[slice5],\n",
        "       simple_regret_exact_6[slice5],\n",
        "       simple_regret_exact_7[slice5],\n",
        "       simple_regret_exact_8[slice5],\n",
        "       simple_regret_exact_9[slice5],\n",
        "       simple_regret_exact_10[slice5],\n",
        "       simple_regret_exact_11[slice5],\n",
        "       simple_regret_exact_12[slice5],\n",
        "       simple_regret_exact_13[slice5],\n",
        "       simple_regret_exact_14[slice5],\n",
        "       simple_regret_exact_15[slice5],\n",
        "       simple_regret_exact_16[slice5],\n",
        "       simple_regret_exact_17[slice5],\n",
        "       simple_regret_exact_18[slice5],\n",
        "       simple_regret_exact_19[slice5],\n",
        "       simple_regret_exact_20[slice5]]\n",
        "\n",
        "approx5_results = pd.DataFrame(approx5).sort_values(by=[0], ascending=False)\n",
        "exact5_results = pd.DataFrame(exact5).sort_values(by=[0], ascending=False)\n",
        "\n",
        "### Best simple regret minimization IQR - approx:\n",
        "lower_approx5 = np.asarray(approx5_results[4:5][0])[0]\n",
        "median_approx5 = np.asarray(approx5_results[9:10][0])[0]\n",
        "upper_approx5 = np.asarray(approx5_results[14:15][0])[0]\n",
        "\n",
        "lower_exact5 = np.asarray(exact5_results[4:5][0])[0]\n",
        "median_exact5 = np.asarray(exact5_results[9:10][0])[0]\n",
        "upper_exact5 = np.asarray(exact5_results[14:15][0])[0]"
      ]
    },
    {
      "cell_type": "code",
      "execution_count": 85,
      "metadata": {
        "id": "4aZ7C8sOQxf6"
      },
      "outputs": [],
      "source": [
        "# Iteration15 :\n",
        "\n",
        "slice15 = 14\n",
        "\n",
        "approx15 = [simple_regret_approx_1[slice15],\n",
        "       simple_regret_approx_2[slice15],\n",
        "       simple_regret_approx_3[slice15],\n",
        "       simple_regret_approx_4[slice15],\n",
        "       simple_regret_approx_5[slice15],\n",
        "       simple_regret_approx_6[slice15],\n",
        "       simple_regret_approx_7[slice15],\n",
        "       simple_regret_approx_8[slice15],\n",
        "       simple_regret_approx_9[slice15],\n",
        "       simple_regret_approx_10[slice15],\n",
        "       simple_regret_approx_11[slice15],\n",
        "       simple_regret_approx_12[slice15],\n",
        "       simple_regret_approx_13[slice15],\n",
        "       simple_regret_approx_14[slice15],\n",
        "       simple_regret_approx_15[slice15],\n",
        "       simple_regret_approx_16[slice15],\n",
        "       simple_regret_approx_17[slice15],\n",
        "       simple_regret_approx_18[slice15],\n",
        "       simple_regret_approx_19[slice15],\n",
        "       simple_regret_approx_20[slice15]]\n",
        "\n",
        "exact15 = [simple_regret_exact_1[slice15],\n",
        "       simple_regret_exact_2[slice15],\n",
        "       simple_regret_exact_3[slice15],\n",
        "       simple_regret_exact_4[slice15],\n",
        "       simple_regret_exact_5[slice15],\n",
        "       simple_regret_exact_6[slice15],\n",
        "       simple_regret_exact_7[slice15],\n",
        "       simple_regret_exact_8[slice15],\n",
        "       simple_regret_exact_9[slice15],\n",
        "       simple_regret_exact_10[slice15],\n",
        "       simple_regret_exact_11[slice15],\n",
        "       simple_regret_exact_12[slice15],\n",
        "       simple_regret_exact_13[slice15],\n",
        "       simple_regret_exact_14[slice15],\n",
        "       simple_regret_exact_15[slice15],\n",
        "       simple_regret_exact_16[slice15],\n",
        "       simple_regret_exact_17[slice15],\n",
        "       simple_regret_exact_18[slice15],\n",
        "       simple_regret_exact_19[slice15],\n",
        "       simple_regret_exact_20[slice15]]\n",
        "\n",
        "approx15_results = pd.DataFrame(approx15).sort_values(by=[0], ascending=False)\n",
        "exact15_results = pd.DataFrame(exact15).sort_values(by=[0], ascending=False)\n",
        "\n",
        "### Best simple regret minimization IQR - approx:\n",
        "lower_approx15 = np.asarray(approx15_results[4:5][0])[0]\n",
        "median_approx15 = np.asarray(approx15_results[9:10][0])[0]\n",
        "upper_approx15 = np.asarray(approx15_results[14:15][0])[0]\n",
        "\n",
        "lower_exact15 = np.asarray(exact15_results[4:5][0])[0]\n",
        "median_exact15 = np.asarray(exact15_results[9:10][0])[0]\n",
        "upper_exact15 = np.asarray(exact15_results[14:15][0])[0]"
      ]
    },
    {
      "cell_type": "code",
      "execution_count": 86,
      "metadata": {
        "id": "KJINKhv1Qxf6"
      },
      "outputs": [],
      "source": [
        "# Iteration6 :\n",
        "\n",
        "slice6 = 5\n",
        "\n",
        "approx6 = [simple_regret_approx_1[slice6],\n",
        "       simple_regret_approx_2[slice6],\n",
        "       simple_regret_approx_3[slice6],\n",
        "       simple_regret_approx_4[slice6],\n",
        "       simple_regret_approx_5[slice6],\n",
        "       simple_regret_approx_6[slice6],\n",
        "       simple_regret_approx_7[slice6],\n",
        "       simple_regret_approx_8[slice6],\n",
        "       simple_regret_approx_9[slice6],\n",
        "       simple_regret_approx_10[slice6],\n",
        "       simple_regret_approx_11[slice6],\n",
        "       simple_regret_approx_12[slice6],\n",
        "       simple_regret_approx_13[slice6],\n",
        "       simple_regret_approx_14[slice6],\n",
        "       simple_regret_approx_15[slice6],\n",
        "       simple_regret_approx_16[slice6],\n",
        "       simple_regret_approx_17[slice6],\n",
        "       simple_regret_approx_18[slice6],\n",
        "       simple_regret_approx_19[slice6],\n",
        "       simple_regret_approx_20[slice6]]\n",
        "\n",
        "exact6 = [simple_regret_exact_1[slice6],\n",
        "       simple_regret_exact_2[slice6],\n",
        "       simple_regret_exact_3[slice6],\n",
        "       simple_regret_exact_4[slice6],\n",
        "       simple_regret_exact_5[slice6],\n",
        "       simple_regret_exact_6[slice6],\n",
        "       simple_regret_exact_7[slice6],\n",
        "       simple_regret_exact_8[slice6],\n",
        "       simple_regret_exact_9[slice6],\n",
        "       simple_regret_exact_10[slice6],\n",
        "       simple_regret_exact_11[slice6],\n",
        "       simple_regret_exact_12[slice6],\n",
        "       simple_regret_exact_13[slice6],\n",
        "       simple_regret_exact_14[slice6],\n",
        "       simple_regret_exact_15[slice6],\n",
        "       simple_regret_exact_16[slice6],\n",
        "       simple_regret_exact_17[slice6],\n",
        "       simple_regret_exact_18[slice6],\n",
        "       simple_regret_exact_19[slice6],\n",
        "       simple_regret_exact_20[slice6]]\n",
        "\n",
        "approx6_results = pd.DataFrame(approx6).sort_values(by=[0], ascending=False)\n",
        "exact6_results = pd.DataFrame(exact6).sort_values(by=[0], ascending=False)\n",
        "\n",
        "### Best simple regret minimization IQR - approx:\n",
        "lower_approx6 = np.asarray(approx6_results[4:5][0])[0]\n",
        "median_approx6 = np.asarray(approx6_results[9:10][0])[0]\n",
        "upper_approx6 = np.asarray(approx6_results[14:15][0])[0]\n",
        "\n",
        "lower_exact6 = np.asarray(exact6_results[4:5][0])[0]\n",
        "median_exact6 = np.asarray(exact6_results[9:10][0])[0]\n",
        "upper_exact6 = np.asarray(exact6_results[14:15][0])[0]"
      ]
    },
    {
      "cell_type": "code",
      "execution_count": 87,
      "metadata": {
        "id": "nwC5N1FsQxf7"
      },
      "outputs": [],
      "source": [
        "# Iteration16 :\n",
        "\n",
        "slice16 = 15\n",
        "\n",
        "approx16 = [simple_regret_approx_1[slice16],\n",
        "       simple_regret_approx_2[slice16],\n",
        "       simple_regret_approx_3[slice16],\n",
        "       simple_regret_approx_4[slice16],\n",
        "       simple_regret_approx_5[slice16],\n",
        "       simple_regret_approx_6[slice16],\n",
        "       simple_regret_approx_7[slice16],\n",
        "       simple_regret_approx_8[slice16],\n",
        "       simple_regret_approx_9[slice16],\n",
        "       simple_regret_approx_10[slice16],\n",
        "       simple_regret_approx_11[slice16],\n",
        "       simple_regret_approx_12[slice16],\n",
        "       simple_regret_approx_13[slice16],\n",
        "       simple_regret_approx_14[slice16],\n",
        "       simple_regret_approx_15[slice16],\n",
        "       simple_regret_approx_16[slice16],\n",
        "       simple_regret_approx_17[slice16],\n",
        "       simple_regret_approx_18[slice16],\n",
        "       simple_regret_approx_19[slice16],\n",
        "       simple_regret_approx_20[slice16]]\n",
        "\n",
        "exact16 = [simple_regret_exact_1[slice16],\n",
        "       simple_regret_exact_2[slice16],\n",
        "       simple_regret_exact_3[slice16],\n",
        "       simple_regret_exact_4[slice16],\n",
        "       simple_regret_exact_5[slice16],\n",
        "       simple_regret_exact_6[slice16],\n",
        "       simple_regret_exact_7[slice16],\n",
        "       simple_regret_exact_8[slice16],\n",
        "       simple_regret_exact_9[slice16],\n",
        "       simple_regret_exact_10[slice16],\n",
        "       simple_regret_exact_11[slice16],\n",
        "       simple_regret_exact_12[slice16],\n",
        "       simple_regret_exact_13[slice16],\n",
        "       simple_regret_exact_14[slice16],\n",
        "       simple_regret_exact_15[slice16],\n",
        "       simple_regret_exact_16[slice16],\n",
        "       simple_regret_exact_17[slice16],\n",
        "       simple_regret_exact_18[slice16],\n",
        "       simple_regret_exact_19[slice16],\n",
        "       simple_regret_exact_20[slice16]]\n",
        "\n",
        "approx16_results = pd.DataFrame(approx16).sort_values(by=[0], ascending=False)\n",
        "exact16_results = pd.DataFrame(exact16).sort_values(by=[0], ascending=False)\n",
        "\n",
        "### Best simple regret minimization IQR - approx:\n",
        "lower_approx16 = np.asarray(approx16_results[4:5][0])[0]\n",
        "median_approx16 = np.asarray(approx16_results[9:10][0])[0]\n",
        "upper_approx16 = np.asarray(approx16_results[14:15][0])[0]\n",
        "\n",
        "lower_exact16 = np.asarray(exact16_results[4:5][0])[0]\n",
        "median_exact16 = np.asarray(exact16_results[9:10][0])[0]\n",
        "upper_exact16 = np.asarray(exact16_results[14:15][0])[0]"
      ]
    },
    {
      "cell_type": "code",
      "execution_count": 88,
      "metadata": {
        "id": "TrPV0AfnQxf7"
      },
      "outputs": [],
      "source": [
        "# Iteration7 :\n",
        "\n",
        "slice7 = 6\n",
        "\n",
        "approx7 = [simple_regret_approx_1[slice7],\n",
        "       simple_regret_approx_2[slice7],\n",
        "       simple_regret_approx_3[slice7],\n",
        "       simple_regret_approx_4[slice7],\n",
        "       simple_regret_approx_5[slice7],\n",
        "       simple_regret_approx_6[slice7],\n",
        "       simple_regret_approx_7[slice7],\n",
        "       simple_regret_approx_8[slice7],\n",
        "       simple_regret_approx_9[slice7],\n",
        "       simple_regret_approx_10[slice7],\n",
        "       simple_regret_approx_11[slice7],\n",
        "       simple_regret_approx_12[slice7],\n",
        "       simple_regret_approx_13[slice7],\n",
        "       simple_regret_approx_14[slice7],\n",
        "       simple_regret_approx_15[slice7],\n",
        "       simple_regret_approx_16[slice7],\n",
        "       simple_regret_approx_17[slice7],\n",
        "       simple_regret_approx_18[slice7],\n",
        "       simple_regret_approx_19[slice7],\n",
        "       simple_regret_approx_20[slice7]]\n",
        "\n",
        "exact7 = [simple_regret_exact_1[slice7],\n",
        "       simple_regret_exact_2[slice7],\n",
        "       simple_regret_exact_3[slice7],\n",
        "       simple_regret_exact_4[slice7],\n",
        "       simple_regret_exact_5[slice7],\n",
        "       simple_regret_exact_6[slice7],\n",
        "       simple_regret_exact_7[slice7],\n",
        "       simple_regret_exact_8[slice7],\n",
        "       simple_regret_exact_9[slice7],\n",
        "       simple_regret_exact_10[slice7],\n",
        "       simple_regret_exact_11[slice7],\n",
        "       simple_regret_exact_12[slice7],\n",
        "       simple_regret_exact_13[slice7],\n",
        "       simple_regret_exact_14[slice7],\n",
        "       simple_regret_exact_15[slice7],\n",
        "       simple_regret_exact_16[slice7],\n",
        "       simple_regret_exact_17[slice7],\n",
        "       simple_regret_exact_18[slice7],\n",
        "       simple_regret_exact_19[slice7],\n",
        "       simple_regret_exact_20[slice7]]\n",
        "\n",
        "approx7_results = pd.DataFrame(approx7).sort_values(by=[0], ascending=False)\n",
        "exact7_results = pd.DataFrame(exact7).sort_values(by=[0], ascending=False)\n",
        "\n",
        "### Best simple regret minimization IQR - approx:\n",
        "lower_approx7 = np.asarray(approx7_results[4:5][0])[0]\n",
        "median_approx7 = np.asarray(approx7_results[9:10][0])[0]\n",
        "upper_approx7 = np.asarray(approx7_results[14:15][0])[0]\n",
        "\n",
        "lower_exact7 = np.asarray(exact7_results[4:5][0])[0]\n",
        "median_exact7 = np.asarray(exact7_results[9:10][0])[0]\n",
        "upper_exact7 = np.asarray(exact7_results[14:15][0])[0]"
      ]
    },
    {
      "cell_type": "code",
      "execution_count": 89,
      "metadata": {
        "id": "Ub_-wpK4Qxf8"
      },
      "outputs": [],
      "source": [
        "# Iteration17 :\n",
        "\n",
        "slice17 = 16\n",
        "\n",
        "approx17 = [simple_regret_approx_1[slice17],\n",
        "       simple_regret_approx_2[slice17],\n",
        "       simple_regret_approx_3[slice17],\n",
        "       simple_regret_approx_4[slice17],\n",
        "       simple_regret_approx_5[slice17],\n",
        "       simple_regret_approx_6[slice17],\n",
        "       simple_regret_approx_7[slice17],\n",
        "       simple_regret_approx_8[slice17],\n",
        "       simple_regret_approx_9[slice17],\n",
        "       simple_regret_approx_10[slice17],\n",
        "       simple_regret_approx_11[slice17],\n",
        "       simple_regret_approx_12[slice17],\n",
        "       simple_regret_approx_13[slice17],\n",
        "       simple_regret_approx_14[slice17],\n",
        "       simple_regret_approx_15[slice17],\n",
        "       simple_regret_approx_16[slice17],\n",
        "       simple_regret_approx_17[slice17],\n",
        "       simple_regret_approx_18[slice17],\n",
        "       simple_regret_approx_19[slice17],\n",
        "       simple_regret_approx_20[slice17]]\n",
        "\n",
        "exact17 = [simple_regret_exact_1[slice17],\n",
        "       simple_regret_exact_2[slice17],\n",
        "       simple_regret_exact_3[slice17],\n",
        "       simple_regret_exact_4[slice17],\n",
        "       simple_regret_exact_5[slice17],\n",
        "       simple_regret_exact_6[slice17],\n",
        "       simple_regret_exact_7[slice17],\n",
        "       simple_regret_exact_8[slice17],\n",
        "       simple_regret_exact_9[slice17],\n",
        "       simple_regret_exact_10[slice17],\n",
        "       simple_regret_exact_11[slice17],\n",
        "       simple_regret_exact_12[slice17],\n",
        "       simple_regret_exact_13[slice17],\n",
        "       simple_regret_exact_14[slice17],\n",
        "       simple_regret_exact_15[slice17],\n",
        "       simple_regret_exact_16[slice17],\n",
        "       simple_regret_exact_17[slice17],\n",
        "       simple_regret_exact_18[slice17],\n",
        "       simple_regret_exact_19[slice17],\n",
        "       simple_regret_exact_20[slice17]]\n",
        "\n",
        "approx17_results = pd.DataFrame(approx17).sort_values(by=[0], ascending=False)\n",
        "exact17_results = pd.DataFrame(exact17).sort_values(by=[0], ascending=False)\n",
        "\n",
        "### Best simple regret minimization IQR - approx:\n",
        "lower_approx17 = np.asarray(approx17_results[4:5][0])[0]\n",
        "median_approx17 = np.asarray(approx17_results[9:10][0])[0]\n",
        "upper_approx17 = np.asarray(approx17_results[14:15][0])[0]\n",
        "\n",
        "lower_exact17 = np.asarray(exact17_results[4:5][0])[0]\n",
        "median_exact17 = np.asarray(exact17_results[9:10][0])[0]\n",
        "upper_exact17 = np.asarray(exact17_results[14:15][0])[0]"
      ]
    },
    {
      "cell_type": "code",
      "execution_count": 90,
      "metadata": {
        "id": "-6VLo37PQxf8"
      },
      "outputs": [],
      "source": [
        "# Iteration8 :\n",
        "\n",
        "slice8 = 7\n",
        "\n",
        "approx8 = [simple_regret_approx_1[slice8],\n",
        "       simple_regret_approx_2[slice8],\n",
        "       simple_regret_approx_3[slice8],\n",
        "       simple_regret_approx_4[slice8],\n",
        "       simple_regret_approx_5[slice8],\n",
        "       simple_regret_approx_6[slice8],\n",
        "       simple_regret_approx_7[slice8],\n",
        "       simple_regret_approx_8[slice8],\n",
        "       simple_regret_approx_9[slice8],\n",
        "       simple_regret_approx_10[slice8],\n",
        "       simple_regret_approx_11[slice8],\n",
        "       simple_regret_approx_12[slice8],\n",
        "       simple_regret_approx_13[slice8],\n",
        "       simple_regret_approx_14[slice8],\n",
        "       simple_regret_approx_15[slice8],\n",
        "       simple_regret_approx_16[slice8],\n",
        "       simple_regret_approx_17[slice8],\n",
        "       simple_regret_approx_18[slice8],\n",
        "       simple_regret_approx_19[slice8],\n",
        "       simple_regret_approx_20[slice8]]\n",
        "\n",
        "exact8 = [simple_regret_exact_1[slice8],\n",
        "       simple_regret_exact_2[slice8],\n",
        "       simple_regret_exact_3[slice8],\n",
        "       simple_regret_exact_4[slice8],\n",
        "       simple_regret_exact_5[slice8],\n",
        "       simple_regret_exact_6[slice8],\n",
        "       simple_regret_exact_7[slice8],\n",
        "       simple_regret_exact_8[slice8],\n",
        "       simple_regret_exact_9[slice8],\n",
        "       simple_regret_exact_10[slice8],\n",
        "       simple_regret_exact_11[slice8],\n",
        "       simple_regret_exact_12[slice8],\n",
        "       simple_regret_exact_13[slice8],\n",
        "       simple_regret_exact_14[slice8],\n",
        "       simple_regret_exact_15[slice8],\n",
        "       simple_regret_exact_16[slice8],\n",
        "       simple_regret_exact_17[slice8],\n",
        "       simple_regret_exact_18[slice8],\n",
        "       simple_regret_exact_19[slice8],\n",
        "       simple_regret_exact_20[slice8]]\n",
        "\n",
        "approx8_results = pd.DataFrame(approx8).sort_values(by=[0], ascending=False)\n",
        "exact8_results = pd.DataFrame(exact8).sort_values(by=[0], ascending=False)\n",
        "\n",
        "### Best simple regret minimization IQR - approx:\n",
        "lower_approx8 = np.asarray(approx8_results[4:5][0])[0]\n",
        "median_approx8 = np.asarray(approx8_results[9:10][0])[0]\n",
        "upper_approx8 = np.asarray(approx8_results[14:15][0])[0]\n",
        "\n",
        "lower_exact8 = np.asarray(exact8_results[4:5][0])[0]\n",
        "median_exact8 = np.asarray(exact8_results[9:10][0])[0]\n",
        "upper_exact8 = np.asarray(exact8_results[14:15][0])[0]"
      ]
    },
    {
      "cell_type": "code",
      "execution_count": 91,
      "metadata": {
        "id": "2Dp-9CC2Qxf9"
      },
      "outputs": [],
      "source": [
        "# Iteration18 :\n",
        "\n",
        "slice18 = 17\n",
        "\n",
        "approx18 = [simple_regret_approx_1[slice18],\n",
        "       simple_regret_approx_2[slice18],\n",
        "       simple_regret_approx_3[slice18],\n",
        "       simple_regret_approx_4[slice18],\n",
        "       simple_regret_approx_5[slice18],\n",
        "       simple_regret_approx_6[slice18],\n",
        "       simple_regret_approx_7[slice18],\n",
        "       simple_regret_approx_8[slice18],\n",
        "       simple_regret_approx_9[slice18],\n",
        "       simple_regret_approx_10[slice18],\n",
        "       simple_regret_approx_11[slice18],\n",
        "       simple_regret_approx_12[slice18],\n",
        "       simple_regret_approx_13[slice18],\n",
        "       simple_regret_approx_14[slice18],\n",
        "       simple_regret_approx_15[slice18],\n",
        "       simple_regret_approx_16[slice18],\n",
        "       simple_regret_approx_17[slice18],\n",
        "       simple_regret_approx_18[slice18],\n",
        "       simple_regret_approx_19[slice18],\n",
        "       simple_regret_approx_20[slice18]]\n",
        "\n",
        "exact18 = [simple_regret_exact_1[slice18],\n",
        "       simple_regret_exact_2[slice18],\n",
        "       simple_regret_exact_3[slice18],\n",
        "       simple_regret_exact_4[slice18],\n",
        "       simple_regret_exact_5[slice18],\n",
        "       simple_regret_exact_6[slice18],\n",
        "       simple_regret_exact_7[slice18],\n",
        "       simple_regret_exact_8[slice18],\n",
        "       simple_regret_exact_9[slice18],\n",
        "       simple_regret_exact_10[slice18],\n",
        "       simple_regret_exact_11[slice18],\n",
        "       simple_regret_exact_12[slice18],\n",
        "       simple_regret_exact_13[slice18],\n",
        "       simple_regret_exact_14[slice18],\n",
        "       simple_regret_exact_15[slice18],\n",
        "       simple_regret_exact_16[slice18],\n",
        "       simple_regret_exact_17[slice18],\n",
        "       simple_regret_exact_18[slice18],\n",
        "       simple_regret_exact_19[slice18],\n",
        "       simple_regret_exact_20[slice18]]\n",
        "\n",
        "approx18_results = pd.DataFrame(approx18).sort_values(by=[0], ascending=False)\n",
        "exact18_results = pd.DataFrame(exact18).sort_values(by=[0], ascending=False)\n",
        "\n",
        "### Best simple regret minimization IQR - approx:\n",
        "lower_approx18 = np.asarray(approx18_results[4:5][0])[0]\n",
        "median_approx18 = np.asarray(approx18_results[9:10][0])[0]\n",
        "upper_approx18 = np.asarray(approx18_results[14:15][0])[0]\n",
        "\n",
        "lower_exact18 = np.asarray(exact18_results[4:5][0])[0]\n",
        "median_exact18 = np.asarray(exact18_results[9:10][0])[0]\n",
        "upper_exact18 = np.asarray(exact18_results[14:15][0])[0]"
      ]
    },
    {
      "cell_type": "code",
      "execution_count": 92,
      "metadata": {
        "id": "SqiaOpB7Qxf9"
      },
      "outputs": [],
      "source": [
        "# Iteration9 :\n",
        "\n",
        "slice9 = 8\n",
        "\n",
        "approx9 = [simple_regret_approx_1[slice9],\n",
        "       simple_regret_approx_2[slice9],\n",
        "       simple_regret_approx_3[slice9],\n",
        "       simple_regret_approx_4[slice9],\n",
        "       simple_regret_approx_5[slice9],\n",
        "       simple_regret_approx_6[slice9],\n",
        "       simple_regret_approx_7[slice9],\n",
        "       simple_regret_approx_8[slice9],\n",
        "       simple_regret_approx_9[slice9],\n",
        "       simple_regret_approx_10[slice9],\n",
        "       simple_regret_approx_11[slice9],\n",
        "       simple_regret_approx_12[slice9],\n",
        "       simple_regret_approx_13[slice9],\n",
        "       simple_regret_approx_14[slice9],\n",
        "       simple_regret_approx_15[slice9],\n",
        "       simple_regret_approx_16[slice9],\n",
        "       simple_regret_approx_17[slice9],\n",
        "       simple_regret_approx_18[slice9],\n",
        "       simple_regret_approx_19[slice9],\n",
        "       simple_regret_approx_20[slice9]]\n",
        "\n",
        "exact9 = [simple_regret_exact_1[slice9],\n",
        "       simple_regret_exact_2[slice9],\n",
        "       simple_regret_exact_3[slice9],\n",
        "       simple_regret_exact_4[slice9],\n",
        "       simple_regret_exact_5[slice9],\n",
        "       simple_regret_exact_6[slice9],\n",
        "       simple_regret_exact_7[slice9],\n",
        "       simple_regret_exact_8[slice9],\n",
        "       simple_regret_exact_9[slice9],\n",
        "       simple_regret_exact_10[slice9],\n",
        "       simple_regret_exact_11[slice9],\n",
        "       simple_regret_exact_12[slice9],\n",
        "       simple_regret_exact_13[slice9],\n",
        "       simple_regret_exact_14[slice9],\n",
        "       simple_regret_exact_15[slice9],\n",
        "       simple_regret_exact_16[slice9],\n",
        "       simple_regret_exact_17[slice9],\n",
        "       simple_regret_exact_18[slice9],\n",
        "       simple_regret_exact_19[slice9],\n",
        "       simple_regret_exact_20[slice9]]\n",
        "\n",
        "approx9_results = pd.DataFrame(approx9).sort_values(by=[0], ascending=False)\n",
        "exact9_results = pd.DataFrame(exact9).sort_values(by=[0], ascending=False)\n",
        "\n",
        "### Best simple regret minimization IQR - approx:\n",
        "lower_approx9 = np.asarray(approx9_results[4:5][0])[0]\n",
        "median_approx9 = np.asarray(approx9_results[9:10][0])[0]\n",
        "upper_approx9 = np.asarray(approx9_results[14:15][0])[0]\n",
        "\n",
        "lower_exact9 = np.asarray(exact9_results[4:5][0])[0]\n",
        "median_exact9 = np.asarray(exact9_results[9:10][0])[0]\n",
        "upper_exact9 = np.asarray(exact9_results[14:15][0])[0]"
      ]
    },
    {
      "cell_type": "code",
      "execution_count": 93,
      "metadata": {
        "id": "OQkCCOsPQxf9"
      },
      "outputs": [],
      "source": [
        "# Iteration19 :\n",
        "\n",
        "slice19 = 18\n",
        "\n",
        "approx19 = [simple_regret_approx_1[slice19],\n",
        "       simple_regret_approx_2[slice19],\n",
        "       simple_regret_approx_3[slice19],\n",
        "       simple_regret_approx_4[slice19],\n",
        "       simple_regret_approx_5[slice19],\n",
        "       simple_regret_approx_6[slice19],\n",
        "       simple_regret_approx_7[slice19],\n",
        "       simple_regret_approx_8[slice19],\n",
        "       simple_regret_approx_9[slice19],\n",
        "       simple_regret_approx_10[slice19],\n",
        "       simple_regret_approx_11[slice19],\n",
        "       simple_regret_approx_12[slice19],\n",
        "       simple_regret_approx_13[slice19],\n",
        "       simple_regret_approx_14[slice19],\n",
        "       simple_regret_approx_15[slice19],\n",
        "       simple_regret_approx_16[slice19],\n",
        "       simple_regret_approx_17[slice19],\n",
        "       simple_regret_approx_18[slice19],\n",
        "       simple_regret_approx_19[slice19],\n",
        "       simple_regret_approx_20[slice19]]\n",
        "\n",
        "exact19 = [simple_regret_exact_1[slice19],\n",
        "       simple_regret_exact_2[slice19],\n",
        "       simple_regret_exact_3[slice19],\n",
        "       simple_regret_exact_4[slice19],\n",
        "       simple_regret_exact_5[slice19],\n",
        "       simple_regret_exact_6[slice19],\n",
        "       simple_regret_exact_7[slice19],\n",
        "       simple_regret_exact_8[slice19],\n",
        "       simple_regret_exact_9[slice19],\n",
        "       simple_regret_exact_10[slice19],\n",
        "       simple_regret_exact_11[slice19],\n",
        "       simple_regret_exact_12[slice19],\n",
        "       simple_regret_exact_13[slice19],\n",
        "       simple_regret_exact_14[slice19],\n",
        "       simple_regret_exact_15[slice19],\n",
        "       simple_regret_exact_16[slice19],\n",
        "       simple_regret_exact_17[slice19],\n",
        "       simple_regret_exact_18[slice19],\n",
        "       simple_regret_exact_19[slice19],\n",
        "       simple_regret_exact_20[slice19]]\n",
        "\n",
        "approx19_results = pd.DataFrame(approx19).sort_values(by=[0], ascending=False)\n",
        "exact19_results = pd.DataFrame(exact19).sort_values(by=[0], ascending=False)\n",
        "\n",
        "### Best simple regret minimization IQR - approx:\n",
        "lower_approx19 = np.asarray(approx19_results[4:5][0])[0]\n",
        "median_approx19 = np.asarray(approx19_results[9:10][0])[0]\n",
        "upper_approx19 = np.asarray(approx19_results[14:15][0])[0]\n",
        "\n",
        "lower_exact19 = np.asarray(exact19_results[4:5][0])[0]\n",
        "median_exact19 = np.asarray(exact19_results[9:10][0])[0]\n",
        "upper_exact19 = np.asarray(exact19_results[14:15][0])[0]"
      ]
    },
    {
      "cell_type": "code",
      "execution_count": 94,
      "metadata": {
        "id": "h4vtWahcQxf-"
      },
      "outputs": [],
      "source": [
        "# Iteration10 :\n",
        "\n",
        "slice10 = 9\n",
        "\n",
        "approx10 = [simple_regret_approx_1[slice10],\n",
        "       simple_regret_approx_2[slice10],\n",
        "       simple_regret_approx_3[slice10],\n",
        "       simple_regret_approx_4[slice10],\n",
        "       simple_regret_approx_5[slice10],\n",
        "       simple_regret_approx_6[slice10],\n",
        "       simple_regret_approx_7[slice10],\n",
        "       simple_regret_approx_8[slice10],\n",
        "       simple_regret_approx_9[slice10],\n",
        "       simple_regret_approx_10[slice10],\n",
        "       simple_regret_approx_11[slice10],\n",
        "       simple_regret_approx_12[slice10],\n",
        "       simple_regret_approx_13[slice10],\n",
        "       simple_regret_approx_14[slice10],\n",
        "       simple_regret_approx_15[slice10],\n",
        "       simple_regret_approx_16[slice10],\n",
        "       simple_regret_approx_17[slice10],\n",
        "       simple_regret_approx_18[slice10],\n",
        "       simple_regret_approx_19[slice10],\n",
        "       simple_regret_approx_20[slice10]]\n",
        "\n",
        "exact10 = [simple_regret_exact_1[slice10],\n",
        "       simple_regret_exact_2[slice10],\n",
        "       simple_regret_exact_3[slice10],\n",
        "       simple_regret_exact_4[slice10],\n",
        "       simple_regret_exact_5[slice10],\n",
        "       simple_regret_exact_6[slice10],\n",
        "       simple_regret_exact_7[slice10],\n",
        "       simple_regret_exact_8[slice10],\n",
        "       simple_regret_exact_9[slice10],\n",
        "       simple_regret_exact_10[slice10],\n",
        "       simple_regret_exact_11[slice10],\n",
        "       simple_regret_exact_12[slice10],\n",
        "       simple_regret_exact_13[slice10],\n",
        "       simple_regret_exact_14[slice10],\n",
        "       simple_regret_exact_15[slice10],\n",
        "       simple_regret_exact_16[slice10],\n",
        "       simple_regret_exact_17[slice10],\n",
        "       simple_regret_exact_18[slice10],\n",
        "       simple_regret_exact_19[slice10],\n",
        "       simple_regret_exact_20[slice10]]\n",
        "\n",
        "approx10_results = pd.DataFrame(approx10).sort_values(by=[0], ascending=False)\n",
        "exact10_results = pd.DataFrame(exact10).sort_values(by=[0], ascending=False)\n",
        "\n",
        "### Best simple regret minimization IQR - approx:\n",
        "lower_approx10 = np.asarray(approx10_results[4:5][0])[0]\n",
        "median_approx10 = np.asarray(approx10_results[9:10][0])[0]\n",
        "upper_approx10 = np.asarray(approx10_results[14:15][0])[0]\n",
        "\n",
        "lower_exact10 = np.asarray(exact10_results[4:5][0])[0]\n",
        "median_exact10 = np.asarray(exact10_results[9:10][0])[0]\n",
        "upper_exact10 = np.asarray(exact10_results[14:15][0])[0]"
      ]
    },
    {
      "cell_type": "code",
      "execution_count": 95,
      "metadata": {
        "id": "Rsf240pWQxf-"
      },
      "outputs": [],
      "source": [
        "# Iteration20 :\n",
        "\n",
        "slice20 = 19\n",
        "\n",
        "approx20 = [simple_regret_approx_1[slice20],\n",
        "       simple_regret_approx_2[slice20],\n",
        "       simple_regret_approx_3[slice20],\n",
        "       simple_regret_approx_4[slice20],\n",
        "       simple_regret_approx_5[slice20],\n",
        "       simple_regret_approx_6[slice20],\n",
        "       simple_regret_approx_7[slice20],\n",
        "       simple_regret_approx_8[slice20],\n",
        "       simple_regret_approx_9[slice20],\n",
        "       simple_regret_approx_10[slice20],\n",
        "       simple_regret_approx_11[slice20],\n",
        "       simple_regret_approx_12[slice20],\n",
        "       simple_regret_approx_13[slice20],\n",
        "       simple_regret_approx_14[slice20],\n",
        "       simple_regret_approx_15[slice20],\n",
        "       simple_regret_approx_16[slice20],\n",
        "       simple_regret_approx_17[slice20],\n",
        "       simple_regret_approx_18[slice20],\n",
        "       simple_regret_approx_19[slice20],\n",
        "       simple_regret_approx_20[slice20]]\n",
        "\n",
        "exact20 = [simple_regret_exact_1[slice20],\n",
        "       simple_regret_exact_2[slice20],\n",
        "       simple_regret_exact_3[slice20],\n",
        "       simple_regret_exact_4[slice20],\n",
        "       simple_regret_exact_5[slice20],\n",
        "       simple_regret_exact_6[slice20],\n",
        "       simple_regret_exact_7[slice20],\n",
        "       simple_regret_exact_8[slice20],\n",
        "       simple_regret_exact_9[slice20],\n",
        "       simple_regret_exact_10[slice20],\n",
        "       simple_regret_exact_11[slice20],\n",
        "       simple_regret_exact_12[slice20],\n",
        "       simple_regret_exact_13[slice20],\n",
        "       simple_regret_exact_14[slice20],\n",
        "       simple_regret_exact_15[slice20],\n",
        "       simple_regret_exact_16[slice20],\n",
        "       simple_regret_exact_17[slice20],\n",
        "       simple_regret_exact_18[slice20],\n",
        "       simple_regret_exact_19[slice20],\n",
        "       simple_regret_exact_20[slice20]]\n",
        "\n",
        "approx20_results = pd.DataFrame(approx20).sort_values(by=[0], ascending=False)\n",
        "exact20_results = pd.DataFrame(exact20).sort_values(by=[0], ascending=False)\n",
        "\n",
        "### Best simple regret minimization IQR - approx:\n",
        "lower_approx20 = np.asarray(approx20_results[4:5][0])[0]\n",
        "median_approx20 = np.asarray(approx20_results[9:10][0])[0]\n",
        "upper_approx20 = np.asarray(approx20_results[14:15][0])[0]\n",
        "\n",
        "lower_exact20 = np.asarray(exact20_results[4:5][0])[0]\n",
        "median_exact20 = np.asarray(exact20_results[9:10][0])[0]\n",
        "upper_exact20 = np.asarray(exact20_results[14:15][0])[0]"
      ]
    },
    {
      "cell_type": "code",
      "execution_count": 96,
      "metadata": {
        "id": "gn36RejbQxf_"
      },
      "outputs": [],
      "source": [
        "### Summarize arrays: 'Loser'\n",
        "\n",
        "lower_approx = [lower_approx1,\n",
        "            lower_approx2,\n",
        "            lower_approx3,\n",
        "            lower_approx4,\n",
        "            lower_approx5,\n",
        "            lower_approx6,\n",
        "            lower_approx7,\n",
        "            lower_approx8,\n",
        "            lower_approx9,\n",
        "            lower_approx10,\n",
        "            lower_approx11,\n",
        "            lower_approx12,\n",
        "            lower_approx13,\n",
        "            lower_approx14,\n",
        "            lower_approx15,\n",
        "            lower_approx16,\n",
        "            lower_approx17,\n",
        "            lower_approx18,\n",
        "            lower_approx19,\n",
        "            lower_approx20,\n",
        "            lower_approx21]\n",
        "\n",
        "median_approx = [median_approx1,\n",
        "            median_approx2,\n",
        "            median_approx3,\n",
        "            median_approx4,\n",
        "            median_approx5,\n",
        "            median_approx6,\n",
        "            median_approx7,\n",
        "            median_approx8,\n",
        "            median_approx9,\n",
        "            median_approx10,\n",
        "            median_approx11,\n",
        "            median_approx12,\n",
        "            median_approx13,\n",
        "            median_approx14,\n",
        "            median_approx15,\n",
        "            median_approx16,\n",
        "            median_approx17,\n",
        "            median_approx18,\n",
        "            median_approx19,\n",
        "            median_approx20,\n",
        "            median_approx21]\n",
        "\n",
        "upper_approx = [upper_approx1,\n",
        "            upper_approx2,\n",
        "            upper_approx3,\n",
        "            upper_approx4,\n",
        "            upper_approx5,\n",
        "            upper_approx6,\n",
        "            upper_approx7,\n",
        "            upper_approx8,\n",
        "            upper_approx9,\n",
        "            upper_approx10,\n",
        "            upper_approx11,\n",
        "            upper_approx12,\n",
        "            upper_approx13,\n",
        "            upper_approx14,\n",
        "            upper_approx15,\n",
        "            upper_approx16,\n",
        "            upper_approx17,\n",
        "            upper_approx18,\n",
        "            upper_approx19,\n",
        "            upper_approx20,\n",
        "            upper_approx21]"
      ]
    },
    {
      "cell_type": "code",
      "execution_count": 97,
      "metadata": {
        "id": "wxtGTOYfQxf_"
      },
      "outputs": [],
      "source": [
        "### Summarize arrays: 'exact'\n",
        "\n",
        "lower_exact = [lower_exact1,\n",
        "            lower_exact2,\n",
        "            lower_exact3,\n",
        "            lower_exact4,\n",
        "            lower_exact5,\n",
        "            lower_exact6,\n",
        "            lower_exact7,\n",
        "            lower_exact8,\n",
        "            lower_exact9,\n",
        "            lower_exact10,\n",
        "            lower_exact11,\n",
        "            lower_exact12,\n",
        "            lower_exact13,\n",
        "            lower_exact14,\n",
        "            lower_exact15,\n",
        "            lower_exact16,\n",
        "            lower_exact17,\n",
        "            lower_exact18,\n",
        "            lower_exact19,\n",
        "            lower_exact20,\n",
        "            lower_exact21]\n",
        "\n",
        "median_exact = [median_exact1,\n",
        "            median_exact2,\n",
        "            median_exact3,\n",
        "            median_exact4,\n",
        "            median_exact5,\n",
        "            median_exact6,\n",
        "            median_exact7,\n",
        "            median_exact8,\n",
        "            median_exact9,\n",
        "            median_exact10,\n",
        "            median_exact11,\n",
        "            median_exact12,\n",
        "            median_exact13,\n",
        "            median_exact14,\n",
        "            median_exact15,\n",
        "            median_exact16,\n",
        "            median_exact17,\n",
        "            median_exact18,\n",
        "            median_exact19,\n",
        "            median_exact20,\n",
        "            median_exact21]\n",
        "\n",
        "upper_exact = [upper_exact1,\n",
        "            upper_exact2,\n",
        "            upper_exact3,\n",
        "            upper_exact4,\n",
        "            upper_exact5,\n",
        "            upper_exact6,\n",
        "            upper_exact7,\n",
        "            upper_exact8,\n",
        "            upper_exact9,\n",
        "            upper_exact10,\n",
        "            upper_exact11,\n",
        "            upper_exact12,\n",
        "            upper_exact13,\n",
        "            upper_exact14,\n",
        "            upper_exact15,\n",
        "            upper_exact16,\n",
        "            upper_exact17,\n",
        "            upper_exact18,\n",
        "            upper_exact19,\n",
        "            upper_exact20,\n",
        "            upper_exact21]"
      ]
    },
    {
      "cell_type": "code",
      "execution_count": 98,
      "metadata": {
        "id": "2MONq-BXQxgA",
        "colab": {
          "base_uri": "https://localhost:8080/",
          "height": 299
        },
        "outputId": "3b943219-1c01-43fe-9668-5c397afec5c4"
      },
      "outputs": [
        {
          "output_type": "display_data",
          "data": {
            "text/plain": [
              "<Figure size 432x288 with 1 Axes>"
            ],
            "image/png": "[encoded data removed]"
          },
          "metadata": {
            "needs_background": "light"
          }
        }
      ],
      "source": [
        "### Visualise!\n",
        "\n",
        "title = func\n",
        "plt.figure()\n",
        "\n",
        "plt.plot(median_approx, color = 'Green')\n",
        "plt.plot(median_exact, color = 'Blue')\n",
        "\n",
        "xstar = np.arange(0, iters+1, step=1)\n",
        "plt.fill_between(xstar, lower_approx, upper_approx, facecolor = 'Green', alpha=0.4, label='GP ERM Optimization: Approx GP ERM gradients')\n",
        "plt.fill_between(xstar, lower_exact, upper_exact, facecolor = 'Blue', alpha=0.4, label='GP ERM Optimization: Exact GP dERM gradients')\n",
        "\n",
        "plt.title(title, weight = 'bold')\n",
        "plt.xlabel('(Post-initialization) iteration $\\it{k}$', weight = 'bold')\n",
        "plt.ylabel('log(Regret)', weight = 'bold') \n",
        "plt.legend(loc=3) # add plot legend\n",
        "\n",
        "### Make the x-ticks integers, not floats:\n",
        "count = len(xstar)\n",
        "plt.xticks(np.arange(count), np.arange(0, count))\n",
        "plt.show() #visualize!"
      ]
    },
    {
      "cell_type": "code",
      "execution_count": 99,
      "metadata": {
        "id": "l5dkR2Id2oiu",
        "colab": {
          "base_uri": "https://localhost:8080/"
        },
        "outputId": "4da191a6-7fab-4991-bca6-34d3e5f3bda8"
      },
      "outputs": [
        {
          "output_type": "execute_result",
          "data": {
            "text/plain": [
              "(282.26831555366516, 213.54061722755432)"
            ]
          },
          "metadata": {},
          "execution_count": 99
        }
      ],
      "source": [
        "time_approx, time_exact\n"
      ]
    },
    {
      "cell_type": "code",
      "source": [
        "### acqFunc attribute x, stddev: run number = 1\n",
        "\n",
        "acqFuncApprox_exact_1 = acqFuncApprox(exact_1.history)\n",
        "acqFuncExact_exact_1 = acqFuncExact(exact_1.history)\n",
        "\n",
        "e1 = np.mean(acqFuncExact_exact_1)\n",
        "a1 = np.mean(acqFuncApprox_exact_1)\n",
        "\n",
        "e1, a1\n"
      ],
      "metadata": {
        "colab": {
          "base_uri": "https://localhost:8080/"
        },
        "id": "uwxv4dmfGsLr",
        "outputId": "5d7afdec-1c9f-463d-9c59-05701ca71c81"
      },
      "execution_count": 100,
      "outputs": [
        {
          "output_type": "execute_result",
          "data": {
            "text/plain": [
              "(2.6330297880450098, 2.7417133940494827)"
            ]
          },
          "metadata": {},
          "execution_count": 100
        }
      ]
    },
    {
      "cell_type": "code",
      "source": [
        "### acqFunc attribute x, stddev: run number = 2\n",
        "\n",
        "acqFuncApprox_exact_2 = acqFuncApprox(exact_2.history)\n",
        "acqFuncExact_exact_2 = acqFuncExact(exact_2.history)\n",
        "\n",
        "e2 = np.mean(acqFuncExact_exact_2)\n",
        "a2 = np.mean(acqFuncApprox_exact_2)\n",
        "\n",
        "e2, a2\n"
      ],
      "metadata": {
        "colab": {
          "base_uri": "https://localhost:8080/"
        },
        "id": "0YSV00_pGsXe",
        "outputId": "78eed56b-df89-4632-9ffa-f5ce2b2b8481"
      },
      "execution_count": 101,
      "outputs": [
        {
          "output_type": "execute_result",
          "data": {
            "text/plain": [
              "(2.567717965257116, 2.6843221129076804)"
            ]
          },
          "metadata": {},
          "execution_count": 101
        }
      ]
    },
    {
      "cell_type": "code",
      "source": [
        "### acqFunc attribute x, stddev: run number = 3\n",
        "\n",
        "acqFuncApprox_exact_3 = acqFuncApprox(exact_3.history)\n",
        "acqFuncExact_exact_3 = acqFuncExact(exact_3.history)\n",
        "\n",
        "e3 = np.mean(acqFuncExact_exact_3)\n",
        "a3 = np.mean(acqFuncApprox_exact_3)\n",
        "\n",
        "e3, a3\n"
      ],
      "metadata": {
        "colab": {
          "base_uri": "https://localhost:8080/"
        },
        "id": "HHVmsd2UGsjT",
        "outputId": "3b26233f-188e-4fd2-c0cd-114bd66d3015"
      },
      "execution_count": 102,
      "outputs": [
        {
          "output_type": "execute_result",
          "data": {
            "text/plain": [
              "(2.500995901011243, 2.5539900805846756)"
            ]
          },
          "metadata": {},
          "execution_count": 102
        }
      ]
    },
    {
      "cell_type": "code",
      "source": [
        "### acqFunc attribute x, stddev: run number = 4\n",
        "\n",
        "acqFuncApprox_exact_4 = acqFuncApprox(exact_4.history)\n",
        "acqFuncExact_exact_4 = acqFuncExact(exact_4.history)\n",
        "\n",
        "e4 = np.mean(acqFuncExact_exact_4)\n",
        "a4 = np.mean(acqFuncApprox_exact_4)\n",
        "\n",
        "e4, a4\n"
      ],
      "metadata": {
        "colab": {
          "base_uri": "https://localhost:8080/"
        },
        "id": "r7O19S2eGsu7",
        "outputId": "1375b9e3-6038-41f2-bb2a-7eb1051fdfa1"
      },
      "execution_count": 103,
      "outputs": [
        {
          "output_type": "execute_result",
          "data": {
            "text/plain": [
              "(2.558337220136165, 2.614944538007795)"
            ]
          },
          "metadata": {},
          "execution_count": 103
        }
      ]
    },
    {
      "cell_type": "code",
      "source": [
        "### acqFunc attribute x, stddev: run number = 5\n",
        "\n",
        "acqFuncApprox_exact_5 = acqFuncApprox(exact_5.history)\n",
        "acqFuncExact_exact_5 = acqFuncExact(exact_5.history)\n",
        "\n",
        "e5 = np.mean(acqFuncExact_exact_5)\n",
        "a5 = np.mean(acqFuncApprox_exact_5)\n",
        "\n",
        "e5, a5\n"
      ],
      "metadata": {
        "colab": {
          "base_uri": "https://localhost:8080/"
        },
        "id": "sdb9o6NuGs5m",
        "outputId": "0a0b4114-01d0-4166-cb00-f852e26c3918"
      },
      "execution_count": 104,
      "outputs": [
        {
          "output_type": "execute_result",
          "data": {
            "text/plain": [
              "(2.5353867191134656, 2.5687704588716)"
            ]
          },
          "metadata": {},
          "execution_count": 104
        }
      ]
    },
    {
      "cell_type": "code",
      "source": [
        "### acqFunc attribute x, stddev: run number = 6\n",
        "\n",
        "acqFuncApprox_exact_6 = acqFuncApprox(exact_6.history)\n",
        "acqFuncExact_exact_6 = acqFuncExact(exact_6.history)\n",
        "\n",
        "e6 = np.mean(acqFuncExact_exact_6)\n",
        "a6 = np.mean(acqFuncApprox_exact_6)\n",
        "\n",
        "e6, a6\n"
      ],
      "metadata": {
        "colab": {
          "base_uri": "https://localhost:8080/"
        },
        "id": "COQl7LZ8GtE0",
        "outputId": "64828325-76e6-4e58-9684-5db3808232ad"
      },
      "execution_count": 105,
      "outputs": [
        {
          "output_type": "execute_result",
          "data": {
            "text/plain": [
              "(2.7046361388787235, 2.764911363188758)"
            ]
          },
          "metadata": {},
          "execution_count": 105
        }
      ]
    },
    {
      "cell_type": "code",
      "source": [
        "### acqFunc attribute x, stddev: run number = 7\n",
        "\n",
        "acqFuncApprox_exact_7 = acqFuncApprox(exact_7.history)\n",
        "acqFuncExact_exact_7 = acqFuncExact(exact_7.history)\n",
        "\n",
        "e7 = np.mean(acqFuncExact_exact_7)\n",
        "a7 = np.mean(acqFuncApprox_exact_7)\n",
        "\n",
        "e7, a7\n"
      ],
      "metadata": {
        "colab": {
          "base_uri": "https://localhost:8080/"
        },
        "id": "2gy9EtTzGtP7",
        "outputId": "70840806-7029-467c-a933-bc86226e2f34"
      },
      "execution_count": 106,
      "outputs": [
        {
          "output_type": "execute_result",
          "data": {
            "text/plain": [
              "(2.6499565615186342, 2.6864120797676643)"
            ]
          },
          "metadata": {},
          "execution_count": 106
        }
      ]
    },
    {
      "cell_type": "code",
      "source": [
        "### acqFunc attribute x, stddev: run number = 8\n",
        "\n",
        "acqFuncApprox_exact_8 = acqFuncApprox(exact_8.history)\n",
        "acqFuncExact_exact_8 = acqFuncExact(exact_8.history)\n",
        "\n",
        "e8 = np.mean(acqFuncExact_exact_8)\n",
        "a8 = np.mean(acqFuncApprox_exact_8)\n",
        "\n",
        "e8, a8\n"
      ],
      "metadata": {
        "colab": {
          "base_uri": "https://localhost:8080/"
        },
        "id": "S7mn0qoMGtbM",
        "outputId": "51768045-654f-4884-ef70-7cf9c768cafd"
      },
      "execution_count": 107,
      "outputs": [
        {
          "output_type": "execute_result",
          "data": {
            "text/plain": [
              "(2.50647753314514, 2.597686499308786)"
            ]
          },
          "metadata": {},
          "execution_count": 107
        }
      ]
    },
    {
      "cell_type": "code",
      "source": [
        "### acqFunc attribute x, stddev: run number = 9\n",
        "\n",
        "acqFuncApprox_exact_9 = acqFuncApprox(exact_9.history)\n",
        "acqFuncExact_exact_9 = acqFuncExact(exact_9.history)\n",
        "\n",
        "e9 = np.mean(acqFuncExact_exact_9)\n",
        "a9 = np.mean(acqFuncApprox_exact_9)\n",
        "\n",
        "e9, a9\n"
      ],
      "metadata": {
        "colab": {
          "base_uri": "https://localhost:8080/"
        },
        "id": "BhljmkNxGtms",
        "outputId": "e0ba012a-f277-4594-88ab-07c62c751776"
      },
      "execution_count": 108,
      "outputs": [
        {
          "output_type": "execute_result",
          "data": {
            "text/plain": [
              "(2.4518114498250876, 2.5229741675506228)"
            ]
          },
          "metadata": {},
          "execution_count": 108
        }
      ]
    },
    {
      "cell_type": "code",
      "source": [
        "### acqFunc attribute x, stddev: run number = 10\n",
        "\n",
        "acqFuncApprox_exact_10 = acqFuncApprox(exact_10.history)\n",
        "acqFuncExact_exact_10 = acqFuncExact(exact_10.history)\n",
        "\n",
        "e10 = np.mean(acqFuncExact_exact_10)\n",
        "a10 = np.mean(acqFuncApprox_exact_10)\n",
        "\n",
        "e10, a10\n"
      ],
      "metadata": {
        "colab": {
          "base_uri": "https://localhost:8080/"
        },
        "id": "W5GZo6k3Gtx8",
        "outputId": "fb23453a-1a5e-4e3a-e82b-ca445ba61250"
      },
      "execution_count": 109,
      "outputs": [
        {
          "output_type": "execute_result",
          "data": {
            "text/plain": [
              "(2.57852794166246, 2.618925967170442)"
            ]
          },
          "metadata": {},
          "execution_count": 109
        }
      ]
    },
    {
      "cell_type": "code",
      "source": [
        "### acqFunc attribute x, stddev: run number = 11\n",
        "\n",
        "acqFuncApprox_exact_11 = acqFuncApprox(exact_11.history)\n",
        "acqFuncExact_exact_11 = acqFuncExact(exact_11.history)\n",
        "\n",
        "e11 = np.mean(acqFuncExact_exact_11)\n",
        "a11 = np.mean(acqFuncApprox_exact_11)\n",
        "\n",
        "e11, a11\n"
      ],
      "metadata": {
        "colab": {
          "base_uri": "https://localhost:8080/"
        },
        "id": "isKNhDk5Gt9D",
        "outputId": "83724615-77e5-4b7d-facc-c4ab5585457a"
      },
      "execution_count": 110,
      "outputs": [
        {
          "output_type": "execute_result",
          "data": {
            "text/plain": [
              "(2.531169525277155, 2.619972392345553)"
            ]
          },
          "metadata": {},
          "execution_count": 110
        }
      ]
    },
    {
      "cell_type": "code",
      "source": [
        "### acqFunc attribute x, stddev: run number = 12\n",
        "\n",
        "acqFuncApprox_exact_12 = acqFuncApprox(exact_12.history)\n",
        "acqFuncExact_exact_12 = acqFuncExact(exact_12.history)\n",
        "\n",
        "e12 = np.mean(acqFuncExact_exact_12)\n",
        "a12 = np.mean(acqFuncApprox_exact_12)\n",
        "\n",
        "e12, a12\n"
      ],
      "metadata": {
        "colab": {
          "base_uri": "https://localhost:8080/"
        },
        "id": "8ts-wrSuGuIm",
        "outputId": "b662bcef-3a72-4f32-ba3e-592e17c62e58"
      },
      "execution_count": 111,
      "outputs": [
        {
          "output_type": "execute_result",
          "data": {
            "text/plain": [
              "(2.626686886072014, 2.606993844084703)"
            ]
          },
          "metadata": {},
          "execution_count": 111
        }
      ]
    },
    {
      "cell_type": "code",
      "source": [
        "### acqFunc attribute x, stddev: run number = 13\n",
        "\n",
        "acqFuncApprox_exact_13 = acqFuncApprox(exact_13.history)\n",
        "acqFuncExact_exact_13 = acqFuncExact(exact_13.history)\n",
        "\n",
        "e13 = np.mean(acqFuncExact_exact_13)\n",
        "a13 = np.mean(acqFuncApprox_exact_13)\n",
        "\n",
        "e13, a13\n"
      ],
      "metadata": {
        "colab": {
          "base_uri": "https://localhost:8080/"
        },
        "id": "n0drhEe3GuUL",
        "outputId": "ea6d61fd-6d6d-4a48-8aa5-1febb719f88b"
      },
      "execution_count": 112,
      "outputs": [
        {
          "output_type": "execute_result",
          "data": {
            "text/plain": [
              "(2.6329767670393878, 2.652324351516099)"
            ]
          },
          "metadata": {},
          "execution_count": 112
        }
      ]
    },
    {
      "cell_type": "code",
      "source": [
        "### acqFunc attribute x, stddev: run number = 14\n",
        "\n",
        "acqFuncApprox_exact_14 = acqFuncApprox(exact_14.history)\n",
        "acqFuncExact_exact_14 = acqFuncExact(exact_14.history)\n",
        "\n",
        "e14 = np.mean(acqFuncExact_exact_14)\n",
        "a14 = np.mean(acqFuncApprox_exact_14)\n",
        "\n",
        "e14, a14\n"
      ],
      "metadata": {
        "colab": {
          "base_uri": "https://localhost:8080/"
        },
        "id": "R0W3MZaVGues",
        "outputId": "c7167a9c-9a69-4f29-9473-2e7d2a669800"
      },
      "execution_count": 113,
      "outputs": [
        {
          "output_type": "execute_result",
          "data": {
            "text/plain": [
              "(2.6191971432205015, 2.6255291822841693)"
            ]
          },
          "metadata": {},
          "execution_count": 113
        }
      ]
    },
    {
      "cell_type": "code",
      "source": [
        "### acqFunc attribute x, stddev: run number = 15\n",
        "\n",
        "acqFuncApprox_exact_15 = acqFuncApprox(exact_15.history)\n",
        "acqFuncExact_exact_15 = acqFuncExact(exact_15.history)\n",
        "\n",
        "e15 = np.mean(acqFuncExact_exact_15)\n",
        "a15 = np.mean(acqFuncApprox_exact_15)\n",
        "\n",
        "e15, a15\n"
      ],
      "metadata": {
        "colab": {
          "base_uri": "https://localhost:8080/"
        },
        "id": "DoXdDFHoGup-",
        "outputId": "92877bc8-b45d-408c-8f65-934bc2cfaab3"
      },
      "execution_count": 114,
      "outputs": [
        {
          "output_type": "execute_result",
          "data": {
            "text/plain": [
              "(2.610048934376187, 2.6337119787532597)"
            ]
          },
          "metadata": {},
          "execution_count": 114
        }
      ]
    },
    {
      "cell_type": "code",
      "source": [
        "### acqFunc attribute x, stddev: run number = 16\n",
        "\n",
        "acqFuncApprox_exact_16 = acqFuncApprox(exact_16.history)\n",
        "acqFuncExact_exact_16 = acqFuncExact(exact_16.history)\n",
        "\n",
        "e16 = np.mean(acqFuncExact_exact_16)\n",
        "a16 = np.mean(acqFuncApprox_exact_16)\n",
        "\n",
        "e16, a16\n"
      ],
      "metadata": {
        "colab": {
          "base_uri": "https://localhost:8080/"
        },
        "id": "K_wAeqSoGu2j",
        "outputId": "e879acda-6180-4984-cadb-bf2e5ae8542c"
      },
      "execution_count": 115,
      "outputs": [
        {
          "output_type": "execute_result",
          "data": {
            "text/plain": [
              "(2.601129849647932, 2.60982427885705)"
            ]
          },
          "metadata": {},
          "execution_count": 115
        }
      ]
    },
    {
      "cell_type": "code",
      "source": [
        "### acqFunc attribute x, stddev: run number = 17\n",
        "\n",
        "acqFuncApprox_exact_17 = acqFuncApprox(exact_17.history)\n",
        "acqFuncExact_exact_17 = acqFuncExact(exact_17.history)\n",
        "\n",
        "e17 = np.mean(acqFuncExact_exact_17)\n",
        "a17 = np.mean(acqFuncApprox_exact_17)\n",
        "\n",
        "e17, a17\n"
      ],
      "metadata": {
        "colab": {
          "base_uri": "https://localhost:8080/"
        },
        "id": "n6zy78fjGvBT",
        "outputId": "833f9599-45f0-4e8f-e7d7-d0c303593a4b"
      },
      "execution_count": 116,
      "outputs": [
        {
          "output_type": "execute_result",
          "data": {
            "text/plain": [
              "(2.5279542500493646, 2.5712686962949225)"
            ]
          },
          "metadata": {},
          "execution_count": 116
        }
      ]
    },
    {
      "cell_type": "code",
      "source": [
        "### acqFunc attribute x, stddev: run number = 18\n",
        "\n",
        "acqFuncApprox_exact_18 = acqFuncApprox(exact_18.history)\n",
        "acqFuncExact_exact_18 = acqFuncExact(exact_18.history)\n",
        "\n",
        "e18 = np.mean(acqFuncExact_exact_18)\n",
        "a18 = np.mean(acqFuncApprox_exact_18)\n",
        "\n",
        "e18, a18\n"
      ],
      "metadata": {
        "colab": {
          "base_uri": "https://localhost:8080/"
        },
        "id": "s_6_2K4iGvM-",
        "outputId": "e950c906-f007-43a2-a8e8-8f777fb6b9a3"
      },
      "execution_count": 117,
      "outputs": [
        {
          "output_type": "execute_result",
          "data": {
            "text/plain": [
              "(2.560909252009035, 2.569951210748706)"
            ]
          },
          "metadata": {},
          "execution_count": 117
        }
      ]
    },
    {
      "cell_type": "code",
      "source": [
        "### acqFunc attribute x, stddev: run number = 19\n",
        "\n",
        "acqFuncApprox_exact_19 = acqFuncApprox(exact_19.history)\n",
        "acqFuncExact_exact_19 = acqFuncExact(exact_19.history)\n",
        "\n",
        "e19 = np.mean(acqFuncExact_exact_19)\n",
        "a19 = np.mean(acqFuncApprox_exact_19)\n",
        "\n",
        "e19, a19\n"
      ],
      "metadata": {
        "colab": {
          "base_uri": "https://localhost:8080/"
        },
        "id": "o8oO8pdBGvYk",
        "outputId": "0a44fbd5-1ccf-4f26-ca2b-d2102e617c20"
      },
      "execution_count": 118,
      "outputs": [
        {
          "output_type": "execute_result",
          "data": {
            "text/plain": [
              "(2.4981062130317624, 2.5395024974127547)"
            ]
          },
          "metadata": {},
          "execution_count": 118
        }
      ]
    },
    {
      "cell_type": "code",
      "source": [
        "### acqFunc attribute x, stddev: run number = 20\n",
        "\n",
        "acqFuncApprox_exact_20 = acqFuncApprox(exact_20.history)\n",
        "acqFuncExact_exact_20 = acqFuncExact(exact_20.history)\n",
        "\n",
        "e20 = np.mean(acqFuncExact_exact_20)\n",
        "a20 = np.mean(acqFuncApprox_exact_20)\n",
        "\n",
        "e20, a20\n"
      ],
      "metadata": {
        "colab": {
          "base_uri": "https://localhost:8080/"
        },
        "id": "b2w8oLc0IMzU",
        "outputId": "ca8e979f-e080-4bb5-9f2a-ccb0a962629a"
      },
      "execution_count": 119,
      "outputs": [
        {
          "output_type": "execute_result",
          "data": {
            "text/plain": [
              "(2.59138359210643, 2.596030479702414)"
            ]
          },
          "metadata": {},
          "execution_count": 119
        }
      ]
    },
    {
      "cell_type": "code",
      "source": [
        "### Summarize arrays: \n",
        "\n",
        "exact_stddev = np.sort([e1,e2,e3,e4,e5,e6,e7,e8,e9,e10,e11,e12,e13,e14,e15,e16,e17,e18,e19,e20])\n",
        "approx_stddev = np.sort([a1,a2,a3,a4,a5,a6,a7,a8,a9,a10,a11,a12,a13,a14,a15,a16,a17,a18,a19,a20])\n",
        "\n",
        "np.mean(exact_stddev), np.mean(approx_stddev)\n"
      ],
      "metadata": {
        "colab": {
          "base_uri": "https://localhost:8080/"
        },
        "id": "qAZs3yxMIZul",
        "outputId": "1e812764-9d7a-4241-de6b-2005a31f86ed"
      },
      "execution_count": 120,
      "outputs": [
        {
          "output_type": "execute_result",
          "data": {
            "text/plain": [
              "(2.574321981571141, 2.618987978670357)"
            ]
          },
          "metadata": {},
          "execution_count": 120
        }
      ]
    },
    {
      "cell_type": "code",
      "source": [
        "### Visualise!\n",
        "\n",
        "title = func\n",
        "plt.figure()\n",
        "\n",
        "plt.plot(approx_stddev, color = 'Green', ls='-', label='Average $\\sigma$, attribute $\\mathbf{x}$: Approx GP ERM gradients')\n",
        "plt.plot(exact_stddev, color = 'Blue', ls='-.', label='Average $\\sigma$, attribute $\\mathbf{x}$: Exact GP dERM gradients')\n",
        "\n",
        "plt.title(title, weight = 'bold')\n",
        "plt.xlabel('Function evaluations: iteration $\\it{k}$', weight = 'bold')\n",
        "plt.ylabel('GP ERM: Average $\\sigma$, attribute $\\mathbf{x}$', weight = 'bold') \n",
        "plt.legend(loc=0) # add plot legend\n",
        "\n",
        "### Make the x-ticks integers, not floats:\n",
        "count = len(xstar)\n",
        "plt.xticks(np.arange(count), np.arange(1, count))\n",
        "plt.show() #visualize!\n"
      ],
      "metadata": {
        "colab": {
          "base_uri": "https://localhost:8080/",
          "height": 297
        },
        "id": "e_kpqYcMIZxu",
        "outputId": "11b6bd4c-d77a-49ad-e22c-5b95819bfba5"
      },
      "execution_count": 121,
      "outputs": [
        {
          "output_type": "display_data",
          "data": {
            "text/plain": [
              "<Figure size 432x288 with 1 Axes>"
            ],
            "image/png": "[encoded data removed]"
          },
          "metadata": {
            "needs_background": "light"
          }
        }
      ]
    },
    {
      "cell_type": "code",
      "source": [
        ""
      ],
      "metadata": {
        "id": "LToGd4vZIZ3I"
      },
      "execution_count": 121,
      "outputs": []
    }
  ],
  "metadata": {
    "colab": {
      "collapsed_sections": [],
      "name": "5_Beale_GP_dERM.ipynb",
      "provenance": []
    },
    "kernelspec": {
      "display_name": "Python 3",
      "name": "python3"
    },
    "language_info": {
      "name": "python"
    }
  },
  "nbformat": 4,
  "nbformat_minor": 0
}