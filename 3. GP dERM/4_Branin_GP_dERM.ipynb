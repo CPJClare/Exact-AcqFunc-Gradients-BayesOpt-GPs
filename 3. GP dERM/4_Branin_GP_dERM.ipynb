{
  "cells": [
    {
      "cell_type": "markdown",
      "metadata": {
        "id": "Dqn4dFx7Z2Ir"
      },
      "source": [
        "\n",
        "Branin: 2D\n"
      ]
    },
    {
      "cell_type": "code",
      "execution_count": 1,
      "metadata": {
        "colab": {
          "base_uri": "https://localhost:8080/"
        },
        "id": "MJTM_GZZZb5x",
        "outputId": "2a2eaaf3-a934-43b4-d5bd-9c941ce4e4a8"
      },
      "outputs": [
        {
          "output_type": "stream",
          "name": "stdout",
          "text": [
            "Looking in indexes: https://pypi.org/simple, https://us-python.pkg.dev/colab-wheels/public/simple/\n",
            "Collecting pyGPGO\n",
            "  Downloading pyGPGO-0.5.1.tar.gz (14 kB)\n",
            "Requirement already satisfied: numpy in /usr/local/lib/python3.7/dist-packages (from pyGPGO) (1.21.6)\n",
            "Requirement already satisfied: mkl in /usr/local/lib/python3.7/dist-packages (from pyGPGO) (2019.0)\n",
            "Requirement already satisfied: scipy in /usr/local/lib/python3.7/dist-packages (from pyGPGO) (1.7.3)\n",
            "Requirement already satisfied: joblib in /usr/local/lib/python3.7/dist-packages (from pyGPGO) (1.1.0)\n",
            "Requirement already satisfied: scikit-learn in /usr/local/lib/python3.7/dist-packages (from pyGPGO) (1.0.2)\n",
            "Requirement already satisfied: Theano-PyMC in /usr/local/lib/python3.7/dist-packages (from pyGPGO) (1.1.2)\n",
            "Requirement already satisfied: pyMC3 in /usr/local/lib/python3.7/dist-packages (from pyGPGO) (3.11.5)\n",
            "Requirement already satisfied: intel-openmp in /usr/local/lib/python3.7/dist-packages (from mkl->pyGPGO) (2022.1.0)\n",
            "Requirement already satisfied: fastprogress>=0.2.0 in /usr/local/lib/python3.7/dist-packages (from pyMC3->pyGPGO) (1.0.3)\n",
            "Requirement already satisfied: dill in /usr/local/lib/python3.7/dist-packages (from pyMC3->pyGPGO) (0.3.5.1)\n",
            "Requirement already satisfied: patsy>=0.5.1 in /usr/local/lib/python3.7/dist-packages (from pyMC3->pyGPGO) (0.5.2)\n",
            "Requirement already satisfied: arviz>=0.11.0 in /usr/local/lib/python3.7/dist-packages (from pyMC3->pyGPGO) (0.12.1)\n",
            "Requirement already satisfied: pandas>=0.24.0 in /usr/local/lib/python3.7/dist-packages (from pyMC3->pyGPGO) (1.3.5)\n",
            "Requirement already satisfied: typing-extensions>=3.7.4 in /usr/local/lib/python3.7/dist-packages (from pyMC3->pyGPGO) (4.1.1)\n",
            "Requirement already satisfied: semver>=2.13.0 in /usr/local/lib/python3.7/dist-packages (from pyMC3->pyGPGO) (2.13.0)\n",
            "Requirement already satisfied: deprecat in /usr/local/lib/python3.7/dist-packages (from pyMC3->pyGPGO) (2.1.1)\n",
            "Requirement already satisfied: cachetools>=4.2.1 in /usr/local/lib/python3.7/dist-packages (from pyMC3->pyGPGO) (4.2.4)\n",
            "Requirement already satisfied: filelock in /usr/local/lib/python3.7/dist-packages (from Theano-PyMC->pyGPGO) (3.7.1)\n",
            "Requirement already satisfied: setuptools>=38.4 in /usr/local/lib/python3.7/dist-packages (from arviz>=0.11.0->pyMC3->pyGPGO) (57.4.0)\n",
            "Requirement already satisfied: netcdf4 in /usr/local/lib/python3.7/dist-packages (from arviz>=0.11.0->pyMC3->pyGPGO) (1.6.0)\n",
            "Requirement already satisfied: xarray>=0.16.1 in /usr/local/lib/python3.7/dist-packages (from arviz>=0.11.0->pyMC3->pyGPGO) (0.20.2)\n",
            "Requirement already satisfied: xarray-einstats>=0.2 in /usr/local/lib/python3.7/dist-packages (from arviz>=0.11.0->pyMC3->pyGPGO) (0.2.2)\n",
            "Requirement already satisfied: packaging in /usr/local/lib/python3.7/dist-packages (from arviz>=0.11.0->pyMC3->pyGPGO) (21.3)\n",
            "Requirement already satisfied: matplotlib>=3.0 in /usr/local/lib/python3.7/dist-packages (from arviz>=0.11.0->pyMC3->pyGPGO) (3.2.2)\n",
            "Requirement already satisfied: pyparsing!=2.0.4,!=2.1.2,!=2.1.6,>=2.0.1 in /usr/local/lib/python3.7/dist-packages (from matplotlib>=3.0->arviz>=0.11.0->pyMC3->pyGPGO) (3.0.9)\n",
            "Requirement already satisfied: python-dateutil>=2.1 in /usr/local/lib/python3.7/dist-packages (from matplotlib>=3.0->arviz>=0.11.0->pyMC3->pyGPGO) (2.8.2)\n",
            "Requirement already satisfied: kiwisolver>=1.0.1 in /usr/local/lib/python3.7/dist-packages (from matplotlib>=3.0->arviz>=0.11.0->pyMC3->pyGPGO) (1.4.4)\n",
            "Requirement already satisfied: cycler>=0.10 in /usr/local/lib/python3.7/dist-packages (from matplotlib>=3.0->arviz>=0.11.0->pyMC3->pyGPGO) (0.11.0)\n",
            "Requirement already satisfied: pytz>=2017.3 in /usr/local/lib/python3.7/dist-packages (from pandas>=0.24.0->pyMC3->pyGPGO) (2022.1)\n",
            "Requirement already satisfied: six in /usr/local/lib/python3.7/dist-packages (from patsy>=0.5.1->pyMC3->pyGPGO) (1.15.0)\n",
            "Requirement already satisfied: importlib-metadata in /usr/local/lib/python3.7/dist-packages (from xarray>=0.16.1->arviz>=0.11.0->pyMC3->pyGPGO) (4.12.0)\n",
            "Requirement already satisfied: wrapt<2,>=1.10 in /usr/local/lib/python3.7/dist-packages (from deprecat->pyMC3->pyGPGO) (1.14.1)\n",
            "Requirement already satisfied: zipp>=0.5 in /usr/local/lib/python3.7/dist-packages (from importlib-metadata->xarray>=0.16.1->arviz>=0.11.0->pyMC3->pyGPGO) (3.8.1)\n",
            "Requirement already satisfied: cftime in /usr/local/lib/python3.7/dist-packages (from netcdf4->arviz>=0.11.0->pyMC3->pyGPGO) (1.6.1)\n",
            "Requirement already satisfied: threadpoolctl>=2.0.0 in /usr/local/lib/python3.7/dist-packages (from scikit-learn->pyGPGO) (3.1.0)\n",
            "Building wheels for collected packages: pyGPGO\n",
            "  Building wheel for pyGPGO (setup.py) ... \u001b[?25l\u001b[?25hdone\n",
            "  Created wheel for pyGPGO: filename=pyGPGO-0.5.1-py3-none-any.whl size=19879 sha256=e5371bd220bb91a7f88f199e57896f8e5a049532056aa5364c7e248521a1e0b3\n",
            "  Stored in directory: /root/.cache/pip/wheels/c8/5d/0b/2160114e2f1b87791c51b66cf07f89831dbb6f49167950316f\n",
            "Successfully built pyGPGO\n",
            "Installing collected packages: pyGPGO\n",
            "Successfully installed pyGPGO-0.5.1\n"
          ]
        }
      ],
      "source": [
        "pip install pyGPGO\n"
      ]
    },
    {
      "cell_type": "code",
      "execution_count": 2,
      "metadata": {
        "id": "ZJSSPbwPaEUB"
      },
      "outputs": [],
      "source": [
        "### Import:\n",
        "\n",
        "import numpy as np\n",
        "import scipy as sp\n",
        "import pandas as pd\n",
        "import matplotlib.pyplot as plt\n",
        "import warnings\n",
        "import itertools\n",
        "\n",
        "from pyGPGO.GPGO import GPGO\n",
        "from pyGPGO.surrogates.GaussianProcess import GaussianProcess\n",
        "from pyGPGO.acquisition import Acquisition\n",
        "from pyGPGO.covfunc import squaredExponential\n",
        "\n",
        "from joblib import Parallel, delayed\n",
        "from numpy.linalg import solve, cholesky\n",
        "from scipy.spatial.distance import cdist\n",
        "from scipy.optimize import minimize\n",
        "from scipy.stats import norm\n",
        "import time\n",
        "\n",
        "warnings.filterwarnings(\"ignore\", category=RuntimeWarning)\n"
      ]
    },
    {
      "cell_type": "code",
      "execution_count": 3,
      "metadata": {
        "id": "OeYcTUNoaJWa"
      },
      "outputs": [],
      "source": [
        "### Inputs:\n",
        "\n",
        "func = 'Branin'\n",
        "n_test = 500\n",
        "eps = 1e-08\n",
        "\n",
        "util = 'ERM'\n",
        "\n",
        "n_init = 5 # random initialisations\n",
        "iters = 20\n",
        "opt = True"
      ]
    },
    {
      "cell_type": "code",
      "execution_count": 4,
      "metadata": {
        "id": "xpaEOjdzaPMS"
      },
      "outputs": [],
      "source": [
        "### Objective Function - Branin(x) 2-D:\n",
        "\n",
        "def objfunc(x1_training, x2_training, a = 1, b = (5.1 / (4 * (np.pi) ** 2)), c = (5 / (np.pi)), r = 6, s = 10, t = (1 / (8 * np.pi))):\n",
        "        return operator * ((a * (x2_training - b * x1_training ** 2 + c * x1_training - r) ** 2) + \n",
        "                 s * (1 - t) * np.cos(x1_training) + s)\n",
        "        \n",
        "# Constraints:\n",
        "lb_x1 = -5 \n",
        "ub_x1 = +10\n",
        "lb_x2 = +0 \n",
        "ub_x2 = +15\n",
        "\n",
        "# Input array dimension(s):\n",
        "dim = 2\n",
        "\n",
        "# 2-D inputs' parameter bounds:\n",
        "param = {'x1_training': ('cont', [lb_x1, ub_x1]),\n",
        "             'x2_training': ('cont', [lb_x2, ub_x2])}\n",
        "\n",
        "# True y bounds:\n",
        "operator = -1\n",
        "y_lb = 0.397887 # targets global minimum\n",
        "y_global_orig = y_lb * operator # targets global minimum\n",
        "\n",
        "\n",
        "# Test data:\n",
        "x1_test = np.linspace(lb_x1, ub_x1, n_test)\n",
        "x2_test = np.linspace(lb_x2, ub_x2, n_test)\n",
        "  \n",
        "x_test = np.column_stack((x1_test,x2_test))\n"
      ]
    },
    {
      "cell_type": "code",
      "execution_count": 5,
      "metadata": {
        "id": "eYpI3Zm4aGxi"
      },
      "outputs": [],
      "source": [
        "n_start_AcqFunc = iters\n",
        "inverse = -1\n"
      ]
    },
    {
      "cell_type": "code",
      "execution_count": 6,
      "metadata": {
        "id": "oO_GUmOoaV0T"
      },
      "outputs": [],
      "source": [
        "### Cumulative Regret Calculators:\n",
        "\n",
        "def min_max_array(x):\n",
        "    new_list = []\n",
        "    for i, num in enumerate(x):\n",
        "            new_list.append(np.min(x[0:i+1]))\n",
        "    return new_list\n",
        "  \n",
        "def acqFuncExact(x):\n",
        "    new_array = []\n",
        "    x = np.array(x) \n",
        "    for i, num in enumerate(x):\n",
        "            new_array = x[:-2][::-3]\n",
        "    return new_array[::-1]\n",
        "\n",
        "def acqFuncApprox(x):\n",
        "    new_array = []\n",
        "    x = np.array(x) \n",
        "    for i, num in enumerate(x):\n",
        "            new_array = x[:-1][::-3]\n",
        "    return new_array[::-1]\n"
      ]
    },
    {
      "cell_type": "code",
      "execution_count": 7,
      "metadata": {
        "id": "kuuJx0IMam9S"
      },
      "outputs": [],
      "source": [
        "### Surrogate derivatives: \n",
        "\n",
        "cov_func = squaredExponential()\n",
        "\n",
        "def kronDelta(X, Xstar):                     # Kronecker's Delta method\n",
        "    return cdist(X, Xstar) < np.finfo(np.float32).eps\n",
        "\n",
        "def se(X, Xstar, sigmaf, l, sigman):         # S.E. kernel method\n",
        "    return sigmaf * np.exp(-0.5 * cdist(X, Xstar) ** 2 / l ** 2) + sigman * kronDelta(X, Xstar)\n",
        "\n",
        "def delta(X, Xstar):                         # Distance between training X and test Xstar vectors\n",
        "    return (X - Xstar)\n",
        "   \n",
        "def der_covmat(X, Xstar, sigmaf, l, sigman): # Covariance matrix derivative terms (i.e. exact, first-order)\n",
        "    nx = len(X)\n",
        "    ny = len(Xstar)\n",
        "    return np.round(np.array([(delta(np.atleast_2d(i), np.atleast_2d(j))[0] * se(np.atleast_2d(i), np.atleast_2d(j), sigmaf, l, sigman)[0]).sum() for (i, j) in itertools.product(X, Xstar)]).reshape(nx, ny), 8)\n",
        "\n",
        "class dGaussianProcess(GaussianProcess):    # Via inheritance, also optimises hyperparameters when opt = TRUE\n",
        "    \n",
        "    def AcqGrad(self, Xstar):               # Method returning exact, first-order derivatives of the GP's posterior mean and standard deviation\n",
        "        Xstar = np.atleast_2d(Xstar)\n",
        "        Kstar = self.covfunc.K(self.X, Xstar).T\n",
        "        \n",
        "        dKstar = der_covmat(self.X, Xstar, self.covfunc.sigmaf, self.covfunc.l, self.covfunc.sigman).T\n",
        "        alpha_Kstar = np.dot(np.linalg.inv(self.K + (self.covfunc.sigman**2) * np.eye(len(self.X))), Kstar.T)\n",
        "        \n",
        "        dm = np.dot(dKstar, self.alpha)\n",
        "        ds = -2 * np.dot(dKstar, alpha_Kstar)\n",
        "        \n",
        "        return dm, ds           \n"
      ]
    },
    {
      "cell_type": "code",
      "execution_count": 8,
      "metadata": {
        "id": "_Dc3YVHVaXz7"
      },
      "outputs": [],
      "source": [
        "### Add exact acquisition function gradient as attribute:\n",
        "\n",
        "class Acquisition_grad(Acquisition):    \n",
        "    def __init__(self, mode, eps=eps, **params):\n",
        "        \n",
        "        self.params = params\n",
        "        self.eps = eps\n",
        "\n",
        "        mode_dict = {\n",
        "            'ERM': self.ERM\n",
        "        }\n",
        "\n",
        "        self.f = mode_dict[mode]\n",
        "    \n",
        "    def ERM(self, y_global_orig, mean, std, ds, dm):\n",
        "        gamma = (mean - y_global_orig - self.eps) / (std + self.eps)\n",
        "        gamma_h = (mean - y_global_orig) / (std + self.eps)\n",
        "        dsdx = ds / (2 * (std + self.eps))\n",
        "        dmdx = (dm - gamma * dsdx) / (std + self.eps)\n",
        "        \n",
        "        f = (std + self.eps) * (gamma * norm.cdf(gamma) + norm.pdf(gamma))\n",
        "        df1 = f / (std + self.eps) * dsdx \n",
        "        df2 = (std + self.eps) * norm.cdf(gamma) * dmdx\n",
        "        df = (df1 + df2)[0]\n",
        "        df_arr = []\n",
        "\n",
        "        for j in range(0, dim):\n",
        "          df_arr.append(df)\n",
        "        return f, np.asarray(df_arr).transpose()\n",
        "        \n",
        "    def d_eval(self, y_global_orig, mean, std, ds, dm):\n",
        "    \n",
        "        return self.f(y_global_orig, mean, std, ds, dm, **self.params)\n",
        "        "
      ]
    },
    {
      "cell_type": "code",
      "execution_count": 9,
      "metadata": {
        "id": "PITEQC8YSl7i"
      },
      "outputs": [],
      "source": [
        "## GPGO_multi: \n",
        "\n",
        "class GPGO_multi(GPGO):\n",
        "    n_start = n_start_AcqFunc\n",
        "\n",
        "    def __init__(self, surrogate, acquisition, f, parameter_dict, n_jobs=1):\n",
        "        self.GP = surrogate\n",
        "        self.A = acquisition\n",
        "        self.f = f\n",
        "        self.parameters = parameter_dict\n",
        "        self.n_jobs = n_jobs\n",
        "\n",
        "        self.parameter_key = list(parameter_dict.keys())\n",
        "        self.parameter_value = list(parameter_dict.values())\n",
        "        self.parameter_type = [p[0] for p in self.parameter_value]\n",
        "        self.parameter_range = [p[1] for p in self.parameter_value]\n",
        "\n",
        "        self.history = []\n",
        "        self.header =   'Evaluation \\t Proposed point \\t  Current eval. \\t  Best eval. \\t        Exact EI: StdDev. x \\t Approx EI: StdDev. x '\n",
        "        self.template = '{:3}\\t {}\\t {:3}\\t {:3}\\t {:3}\\t {:3}'\n",
        " \n",
        "    def acqfuncExact(self, xnew, n_start=n_start_AcqFunc):\n",
        "        new_mean, new_var = self.GP.predict(xnew, return_std=True)\n",
        "        new_std = np.sqrt(new_var + eps)\n",
        "        dm, ds = self.GP.AcqGrad(xnew)\n",
        "        f, df = self.A.d_eval(y_global_orig, new_mean, new_std, ds=ds, dm=dm)\n",
        "\n",
        "        return -f, -df\n",
        "   \n",
        "    def acqfuncApprox(self, xnew, n_start=n_start_AcqFunc):\n",
        "        new_mean, new_var = self.GP.predict(xnew, return_std=True)\n",
        "        new_std = np.sqrt(new_var + eps)\n",
        "        dm, ds = self.GP.AcqGrad(xnew)\n",
        "        f, df = self.A.d_eval(y_global_orig, new_mean, new_std, ds=ds, dm=dm)\n",
        "\n",
        "        return -f\n",
        "   \n",
        "    def _optimizeAcq(self, method='L-BFGS-B', n_start=n_start_AcqFunc):\n",
        "        \n",
        "        start_points_dict = [self._sampleParam() for i in range(n_start)]\n",
        "        start_points_arr = np.array([list(s.values())\n",
        "                                     for s in start_points_dict])\n",
        "        x_best = np.empty((n_start, len(self.parameter_key)))\n",
        "        f_best = np.empty((n_start,))\n",
        "        opt = Parallel(n_jobs=self.n_jobs)(delayed(minimize)(self.acqfuncApprox,\n",
        "                                                                 x0=start_point,\n",
        "                                                                 method=method,\n",
        "                                                                 jac = False,\n",
        "                                                                 bounds=self.parameter_range) for start_point in\n",
        "                                               start_points_arr)\n",
        "        x_best = np.array([res.x for res in opt])\n",
        "        f_best = np.array([np.atleast_1d(res.fun)[0] for res in opt])\n",
        "        f_best_min = min(f_best)\n",
        "\n",
        "        self.x_best = x_best\n",
        "        self.f_best = f_best\n",
        "        self.f_best_min = f_best_min\n",
        "        self.x_best_std = np.std(x_best)\n",
        "        self.best = x_best[np.argmin(f_best)]\n",
        "        self.start_points_arr = start_points_arr        \n",
        "        self.history.append(self.x_best_std)\n",
        "\n",
        "        x_best_exact = np.empty((n_start, len(self.parameter_key)))\n",
        "        f_best_exact = np.empty((n_start,))\n",
        "        opt_exact = Parallel(n_jobs=self.n_jobs)(delayed(minimize)(self.acqfuncExact,\n",
        "                                                                 x0=start_point,\n",
        "                                                                 method=method,\n",
        "                                                                 jac = True,\n",
        "                                                                 bounds=self.parameter_range) for start_point in\n",
        "                                               start_points_arr)\n",
        "        x_best_exact = np.array([res.x for res in opt_exact])\n",
        "        f_best_exact = np.array([np.atleast_1d(res.fun)[0] for res in opt_exact])\n",
        "        f_best_min_exact = min(f_best_exact)\n",
        "\n",
        "        self.x_best_exact = x_best_exact\n",
        "        self.f_best_exact = f_best_exact\n",
        "        self.f_best_min_exact = f_best_min_exact\n",
        "        self.x_best_std_exact = np.std(x_best_exact)\n",
        "        self.best_exact = x_best_exact[np.argmin(f_best_exact)]\n",
        "        self.start_points_arr = start_points_arr\n",
        "        self.history.append(self.x_best_std_exact)\n",
        "\n",
        "    def _printInit(self):\n",
        "        print(self.header)\n",
        "        for init_eval in range(self.init_evals):\n",
        "            print(self.template.format('init', self.GP.X[init_eval], inverse * self.GP.y[init_eval], inverse * self.tau, '', ''))\n",
        "      \n",
        "    def _printCurrent(self):\n",
        "        OKGREEN = '\\033[92m'\n",
        "        ENDC = '\\033[0m'\n",
        "        BOLD = '\\033[1m'\n",
        "        eval = str(len(self.GP.y) - self.init_evals)\n",
        "        proposed = str(self.best)\n",
        "        curr_eval = str(inverse * self.GP.y[-1])\n",
        "        curr_best = str(inverse * self.tau)\n",
        "        min_acqfunc = str(self.f_best_min)\n",
        "        min_acqfunc_exact = str(self.f_best_min_exact)\n",
        "        x_best_std = str(self.x_best_std)\n",
        "        x_best_std_exact = str(self.x_best_std_exact)\n",
        "        if float(curr_eval) <= float(curr_best):\n",
        "            eval = BOLD + OKGREEN + eval + ENDC\n",
        "            proposed = BOLD + OKGREEN + proposed + ENDC\n",
        "            curr_eval = BOLD + OKGREEN + curr_eval + ENDC\n",
        "            curr_best = BOLD + OKGREEN + curr_best + ENDC\n",
        "            x_best_std = BOLD + OKGREEN + x_best_std + ENDC\n",
        "            x_best_std_exact = BOLD + OKGREEN + x_best_std_exact + ENDC\n",
        "        print(self.template.format(eval, proposed, curr_eval, curr_best, x_best_std_exact, x_best_std))\n",
        "        \n",
        "    def run(self, max_iter=10, init_evals=3, resume=False):\n",
        "        \n",
        "        if not resume:\n",
        "            self.init_evals = init_evals\n",
        "            self._firstRun(self.init_evals)\n",
        "            self._printInit()\n",
        "        for iteration in range(max_iter):\n",
        "            self._optimizeAcq()\n",
        "            self.updateGP()\n",
        "            self._printCurrent()\n"
      ]
    },
    {
      "cell_type": "code",
      "execution_count": 10,
      "metadata": {
        "id": "b_B-w81BJxKN"
      },
      "outputs": [],
      "source": [
        "## dGPGO:\n",
        "\n",
        "class dGPGO(GPGO):\n",
        "    n_start = n_start_AcqFunc\n",
        "\n",
        "    def __init__(self, surrogate, acquisition, f, parameter_dict, n_jobs=1):\n",
        "        self.GP = surrogate\n",
        "        self.A = acquisition\n",
        "        self.f = f\n",
        "        self.parameters = parameter_dict\n",
        "        self.n_jobs = n_jobs\n",
        "\n",
        "        self.parameter_key = list(parameter_dict.keys())\n",
        "        self.parameter_value = list(parameter_dict.values())\n",
        "        self.parameter_type = [p[0] for p in self.parameter_value]\n",
        "        self.parameter_range = [p[1] for p in self.parameter_value]\n",
        "\n",
        "        self.history = []\n",
        "        self.header =   'Evaluation \\t Proposed point \\t  Current eval. \\t  Best eval. \\t        Exact EI: StdDev. x \\t Approx EI: StdDev. x '\n",
        "        self.template = '{:3}\\t {}\\t {:3}\\t {:3}\\t {:3}\\t {:3}'\n",
        "\n",
        "    def acqfuncExact(self, xnew, n_start=n_start_AcqFunc):\n",
        "        new_mean, new_var = self.GP.predict(xnew, return_std=True)\n",
        "        new_std = np.sqrt(new_var + eps)\n",
        "        dm, ds = self.GP.AcqGrad(xnew)\n",
        "        f, df = self.A.d_eval(y_global_orig, new_mean, new_std, ds=ds, dm=dm)\n",
        "\n",
        "        return -f, -df\n",
        "   \n",
        "    def acqfuncApprox(self, xnew, n_start=n_start_AcqFunc):\n",
        "        new_mean, new_var = self.GP.predict(xnew, return_std=True)\n",
        "        new_std = np.sqrt(new_var + eps)\n",
        "        dm, ds = self.GP.AcqGrad(xnew)\n",
        "        f, df = self.A.d_eval(y_global_orig, new_mean, new_std, ds=ds, dm=dm)\n",
        "\n",
        "        return -f\n",
        "\n",
        "    def d_optimizeAcq(self, method='L-BFGS-B', n_start=n_start_AcqFunc):\n",
        "        start_points_dict = [self._sampleParam() for i in range(n_start)]\n",
        "        start_points_arr = np.array([list(s.values())\n",
        "                                     for s in start_points_dict])\n",
        "        x_best = np.empty((n_start, len(self.parameter_key)))\n",
        "        f_best = np.empty((n_start,))\n",
        "        opt = Parallel(n_jobs=self.n_jobs)(delayed(minimize)(self.acqfuncExact,\n",
        "                                                                 x0=start_point,\n",
        "                                                                 method=method,\n",
        "                                                                 jac = True,\n",
        "                                                                 bounds=self.parameter_range) for start_point in\n",
        "                                               start_points_arr)\n",
        "        x_best = np.array([res.x for res in opt])\n",
        "        f_best = np.array([np.atleast_1d(res.fun)[0] for res in opt])\n",
        "        f_best_min = min(f_best)\n",
        "\n",
        "        self.x_best = x_best\n",
        "        self.f_best = f_best\n",
        "        self.f_best_min = f_best_min\n",
        "        self.x_best_std = np.std(x_best)\n",
        "        self.best = x_best[np.argmin(f_best)]\n",
        "        self.start_points_arr = start_points_arr\n",
        "        self.history.append(self.x_best_std)\n",
        "\n",
        "        x_best_approx = np.empty((n_start, len(self.parameter_key)))\n",
        "        f_best_approx = np.empty((n_start,))\n",
        "        opt_approx = Parallel(n_jobs=self.n_jobs)(delayed(minimize)(self.acqfuncApprox,\n",
        "                                                                 x0=start_point,\n",
        "                                                                 method=method,\n",
        "                                                                 jac = False,\n",
        "                                                                 bounds=self.parameter_range) for start_point in\n",
        "                                               start_points_arr)\n",
        "        x_best_approx = np.array([res.x for res in opt_approx])\n",
        "        f_best_approx = np.array([np.atleast_1d(res.fun)[0] for res in opt_approx])\n",
        "        f_best_min_approx = min(f_best_approx)\n",
        "\n",
        "        self.x_best_approx = x_best_approx\n",
        "        self.f_best_approx = f_best_approx\n",
        "        self.f_best_min_approx = f_best_min_approx\n",
        "        self.x_best_std_approx = np.std(x_best_approx)\n",
        "        self.best_approx = x_best_approx[np.argmin(f_best_approx)]\n",
        "        self.start_points_arr = start_points_arr\n",
        "        self.history.append(self.x_best_std_approx)\n",
        "    \n",
        "    def _printInit(self):\n",
        "        print(self.header)\n",
        "        for init_eval in range(self.init_evals):\n",
        "            print(self.template.format('init', self.GP.X[init_eval], inverse * self.GP.y[init_eval], inverse * self.tau, '', ''))\n",
        "      \n",
        "    def _printCurrent(self):\n",
        "        OKGREEN = '\\033[92m'\n",
        "        ENDC = '\\033[0m'\n",
        "        BOLD = '\\033[1m'\n",
        "        eval = str(len(self.GP.y) - self.init_evals)\n",
        "        proposed = str(self.best)\n",
        "        curr_eval = str(inverse * self.GP.y[-1])\n",
        "        curr_best = str(inverse * self.tau)\n",
        "        min_acqfunc = str(self.f_best_min)\n",
        "        min_acqfunc_approx = str(self.f_best_min_approx)\n",
        "        x_best_std = str(self.x_best_std)\n",
        "        x_best_std_approx = str(self.x_best_std_approx)\n",
        "        if float(curr_eval) <= float(curr_best):\n",
        "            eval = BOLD + OKGREEN + eval + ENDC\n",
        "            proposed = BOLD + OKGREEN + proposed + ENDC\n",
        "            curr_eval = BOLD + OKGREEN + curr_eval + ENDC\n",
        "            curr_best = BOLD + OKGREEN + curr_best + ENDC\n",
        "            x_best_std = BOLD + OKGREEN + x_best_std + ENDC\n",
        "            x_best_std_approx = BOLD + OKGREEN + x_best_std_approx + ENDC\n",
        "        print(self.template.format(eval, proposed, curr_eval, curr_best, x_best_std, x_best_std_approx))\n",
        "\n",
        "    def run(self, max_iter=10, init_evals=3, resume=False):\n",
        "        \n",
        "        if not resume:\n",
        "            self.init_evals = init_evals\n",
        "            self._firstRun(self.init_evals)\n",
        "            self._printInit()\n",
        "        for iteration in range(max_iter):\n",
        "            self.d_optimizeAcq()\n",
        "            self.updateGP()\n",
        "            self._printCurrent()\n"
      ]
    },
    {
      "cell_type": "code",
      "execution_count": 11,
      "metadata": {
        "id": "qXIKGuXVGEg2"
      },
      "outputs": [],
      "source": [
        "###Reproducible set-seeds:\n",
        "\n",
        "run_num_1 = 1\n",
        "run_num_2 = 2\n",
        "run_num_3 = 3\n",
        "run_num_4 = 4\n",
        "run_num_5 = 5\n",
        "run_num_6 = 6\n",
        "run_num_7 = 7\n",
        "run_num_8 = 8\n",
        "run_num_9 = 9\n",
        "run_num_10 = 10\n",
        "run_num_11 = 11\n",
        "run_num_12 = 12\n",
        "run_num_13 = 13\n",
        "run_num_14 = 14\n",
        "run_num_15 = 15\n",
        "run_num_16 = 16\n",
        "run_num_17 = 17\n",
        "run_num_18 = 18\n",
        "run_num_19 = 19\n",
        "run_num_20 = 20\n"
      ]
    },
    {
      "cell_type": "code",
      "execution_count": 12,
      "metadata": {
        "colab": {
          "base_uri": "https://localhost:8080/"
        },
        "id": "JEhagQmnTVIK",
        "outputId": "571d1ef3-b727-4e14-e7be-21be40975a55"
      },
      "outputs": [
        {
          "output_type": "execute_result",
          "data": {
            "text/plain": [
              "1659620139.274571"
            ]
          },
          "metadata": {},
          "execution_count": 12
        }
      ],
      "source": [
        "start_approx = time.time()\n",
        "start_approx\n"
      ]
    },
    {
      "cell_type": "code",
      "execution_count": 13,
      "metadata": {
        "colab": {
          "base_uri": "https://localhost:8080/"
        },
        "id": "aH0YSTXufD1v",
        "outputId": "682b28fb-5861-4591-b139-5d9fb50e8d43"
      },
      "outputs": [
        {
          "output_type": "stream",
          "name": "stdout",
          "text": [
            "Evaluation \t Proposed point \t  Current eval. \t  Best eval. \t        Exact EI: StdDev. x \t Approx EI: StdDev. x \n",
            "init\t [ 1.25533007 10.8048674 ]\t 56.52874004692151\t 27.68166689936483\t    \t    \n",
            "init\t [-4.99828438  4.53498859]\t 172.66531086516164\t 27.68166689936483\t    \t    \n",
            "init\t [-2.79866164  1.38507892]\t 102.58290348816024\t 27.68166689936483\t    \t    \n",
            "init\t [-2.20609683  5.18341091]\t 28.868064601155666\t 27.68166689936483\t    \t    \n",
            "init\t [0.95151211 8.08225101]\t 27.68166689936483\t 27.68166689936483\t    \t    \n",
            "\u001b[1m\u001b[92m1\u001b[0m\t \u001b[1m\u001b[92m[8.41909995 1.27566317]\u001b[0m\t \u001b[1m\u001b[92m5.089934878453152\u001b[0m\t \u001b[1m\u001b[92m5.089934878453152\u001b[0m\t \u001b[1m\u001b[92m5.024119661816372\u001b[0m\t \u001b[1m\u001b[92m5.448884175378119\u001b[0m\n",
            "2  \t [ 8.98893195 10.45227242]\t 70.52424256621515\t 5.089934878453152\t 5.614397129493898\t 5.837863716490593\n",
            "\u001b[1m\u001b[92m3\u001b[0m\t \u001b[1m\u001b[92m[-3.93913816 13.25450988]\u001b[0m\t \u001b[1m\u001b[92m4.332340868330181\u001b[0m\t \u001b[1m\u001b[92m4.332340868330181\u001b[0m\t \u001b[1m\u001b[92m5.319599347196216\u001b[0m\t \u001b[1m\u001b[92m4.8949857735864715\u001b[0m\n",
            "4  \t [3.29599266 0.        ]\t 5.167651547863415\t 4.332340868330181\t 6.004545027085774\t 6.436543653864118\n",
            "5  \t [ 5.36706161 15.        ]\t 206.85954361284146\t 4.332340868330181\t 4.358640875325972\t 4.3102234758181845\n",
            "6  \t [5.81441621 5.67095185]\t 39.33696093951659\t 4.332340868330181\t 4.926589810657647\t 5.640077606016834\n",
            "7  \t [-5.          9.41525827]\t 73.12931978232476\t 4.332340868330181\t 5.6769177011854195\t 6.151223979332649\n",
            "8  \t [10. 15.]\t 145.87219087939556\t 4.332340868330181\t 4.953689043229487\t 5.170247537190141\n",
            "9  \t [-0.27359727 15.        ]\t 92.43104233444579\t 4.332340868330181\t 5.271919548084963\t 5.6586305162743145\n",
            "10 \t [10.          5.16479862]\t 6.616701563031287\t 4.332340868330181\t 4.389380886019375\t 4.467156732557185\n",
            "11 \t [1.83231044 3.59372197]\t 7.523245211244141\t 4.332340868330181\t 4.39290836018455\t 4.364154817008183\n",
            "12 \t [5.0426809  9.66253049]\t 83.7282764427003\t 4.332340868330181\t 4.324123922161345\t 4.4595562752616775\n",
            "13 \t [5.44865122 2.01029597]\t 17.165261788692394\t 4.332340868330181\t 4.573486409011592\t 4.565768963501562\n",
            "14 \t [0.62190753 0.        ]\t 43.40959592923719\t 4.332340868330181\t 5.196335106378041\t 5.9115137946719845\n",
            "15 \t [-2.07574629 11.44015925]\t 7.850887431378666\t 4.332340868330181\t 4.87847471139536\t 5.199396608351374\n",
            "16 \t [-5. 15.]\t 17.508299515778166\t 4.332340868330181\t 4.686583628799432\t 4.594151711263755\n",
            "17 \t [10.  0.]\t 10.960889035651505\t 4.332340868330181\t 4.9394518347263245\t 4.938549691849735\n",
            "18 \t [8.70160661 7.17857777]\t 30.321998344876604\t 4.332340868330181\t 5.144028411298681\t 5.271372905408517\n",
            "19 \t [8.33381626 3.4733785 ]\t 8.682128700387857\t 4.332340868330181\t 5.5819158387959815\t 5.654017285493945\n",
            "20 \t [-1.93204606  8.3663796 ]\t 8.024169598603049\t 4.332340868330181\t 5.583571055208814\t 5.688118106008782\n"
          ]
        }
      ],
      "source": [
        "### ESTIMATED GP EI GRADIENTS\n",
        "\n",
        "np.random.seed(run_num_1)\n",
        "surrogate_approx_1 = dGaussianProcess(cov_func, optimize=opt)\n",
        "\n",
        "approx_1 = GPGO_multi(surrogate_approx_1, Acquisition_grad(util), objfunc, param)\n",
        "approx_1.run(init_evals=n_init, max_iter=iters)\n"
      ]
    },
    {
      "cell_type": "code",
      "execution_count": 14,
      "metadata": {
        "id": "wTxsSZxFGBB5",
        "colab": {
          "base_uri": "https://localhost:8080/"
        },
        "outputId": "f621b510-f8d2-4187-e6b0-465015918bda"
      },
      "outputs": [
        {
          "output_type": "stream",
          "name": "stdout",
          "text": [
            "Evaluation \t Proposed point \t  Current eval. \t  Best eval. \t        Exact EI: StdDev. x \t Approx EI: StdDev. x \n",
            "init\t [1.53992353 0.38889348]\t 22.31361308916297\t 6.692051508754487\t    \t    \n",
            "init\t [3.24493717 6.52983589]\t 19.233109967858276\t 6.692051508754487\t    \t    \n",
            "init\t [1.30551703 4.95502232]\t 13.177851563387286\t 6.692051508754487\t    \t    \n",
            "init\t [-1.93027049  9.2890645 ]\t 6.692051508754487\t 6.692051508754487\t    \t    \n",
            "init\t [-0.50517989  4.00240913]\t 26.437522758780958\t 6.692051508754487\t    \t    \n",
            "1  \t [ 9.5587047  12.00387527]\t 89.09951357262268\t 6.692051508754487\t 5.772985618646367\t 5.930681052750104\n",
            "\u001b[1m\u001b[92m2\u001b[0m\t \u001b[1m\u001b[92m[9.59366035 1.69164323]\u001b[0m\t \u001b[1m\u001b[92m1.3984593420568778\u001b[0m\t \u001b[1m\u001b[92m1.3984593420568778\u001b[0m\t \u001b[1m\u001b[92m4.9799088241008285\u001b[0m\t \u001b[1m\u001b[92m5.507042230845006\u001b[0m\n",
            "3  \t [ 2.76755096 13.40050708]\t 118.04188318131133\t 1.3984593420568778\t 5.619443017981148\t 6.039865021400427\n",
            "4  \t [-5.          0.74046522]\t 283.22410019841203\t 1.3984593420568778\t 4.853768416888316\t 5.1349828166886375\n",
            "5  \t [-3.1445835  14.56381425]\t 5.603744659327115\t 1.3984593420568778\t 5.190960535126636\t 5.777391850597274\n",
            "6  \t [8.93674152 6.44381716]\t 20.43892257959317\t 1.3984593420568778\t 5.027539936459698\t 5.443265858469063\n",
            "7  \t [-5.          6.09227993]\t 135.8245554079471\t 1.3984593420568778\t 4.314774452411172\t 4.986195291200729\n",
            "8  \t [5.72567078 2.4881919 ]\t 20.01345886326903\t 1.3984593420568778\t 5.266289116432148\t 5.08626365276518\n",
            "9  \t [5.70827049 9.76262347]\t 92.67738804640811\t 1.3984593420568778\t 4.841604937136927\t 4.852984357851232\n",
            "10 \t [ 6.72661181 15.        ]\t 210.78648246455657\t 1.3984593420568778\t 4.730236428610469\t 4.909826933038594\n",
            "11 \t [-5.         11.31325077]\t 47.2289141274199\t 1.3984593420568778\t 5.240500925348963\t 5.97464094231115\n",
            "12 \t [1.29059844 9.56158503]\t 41.82040100119034\t 1.3984593420568778\t 4.483789034694054\t 4.706781097764787\n",
            "13 \t [8.00191877 0.        ]\t 10.944963674392678\t 1.3984593420568778\t 4.996717864591448\t 4.938586332160089\n",
            "14 \t [-1.11764852 12.47276227]\t 34.748247528838455\t 1.3984593420568778\t 5.797078368837921\t 5.951490801869199\n",
            "15 \t [-1.33565231  0.        ]\t 82.06350172565648\t 1.3984593420568778\t 5.0448450120447275\t 5.145679630976485\n",
            "16 \t [6.07838911 5.59286163]\t 39.597149237340425\t 1.3984593420568778\t 4.695019279047072\t 5.602661305818146\n",
            "17 \t [10.          3.46543036]\t 2.1570226400607666\t 1.3984593420568778\t 4.4060077797811\t 4.791328408726049\n",
            "18 \t [-1.19998695  6.96171497]\t 14.76580214850916\t 1.3984593420568778\t 5.326739954032602\t 5.294047428646848\n",
            "19 \t [-5. 15.]\t 17.508299515778166\t 1.3984593420568778\t 5.297263156260253\t 5.829578363141087\n",
            "20 \t [4.56200694 0.        ]\t 10.600396598787237\t 1.3984593420568778\t 5.6837292395363335\t 5.874145256587498\n"
          ]
        }
      ],
      "source": [
        "### ESTIMATED GP EI GRADIENTS\n",
        "\n",
        "np.random.seed(run_num_2)\n",
        "surrogate_approx_2 = dGaussianProcess(cov_func, optimize=opt)\n",
        "\n",
        "approx_2 = GPGO_multi(surrogate_approx_2, Acquisition_grad(util), objfunc, param)\n",
        "approx_2.run(init_evals=n_init, max_iter=iters)\n"
      ]
    },
    {
      "cell_type": "code",
      "execution_count": 15,
      "metadata": {
        "id": "-dgzIrUIGCGT",
        "colab": {
          "base_uri": "https://localhost:8080/"
        },
        "outputId": "f4763a59-014c-4935-9d0b-8ff8e065f139"
      },
      "outputs": [
        {
          "output_type": "stream",
          "name": "stdout",
          "text": [
            "Evaluation \t Proposed point \t  Current eval. \t  Best eval. \t        Exact EI: StdDev. x \t Approx EI: StdDev. x \n",
            "init\t [ 3.26196854 10.62221734]\t 71.68783452098575\t 18.07886746449891\t    \t    \n",
            "init\t [-0.63642892  7.66241408]\t 18.07886746449891\t 18.07886746449891\t    \t    \n",
            "init\t [ 8.39420432 13.44439633]\t 141.98653529865882\t 18.07886746449891\t    \t    \n",
            "init\t [-3.11622034  3.10864317]\t 83.31045707266176\t 18.07886746449891\t    \t    \n",
            "init\t [-4.22799195  6.61214765]\t 76.5294170688398\t 18.07886746449891\t    \t    \n",
            "1  \t [6.70472147 4.59545299]\t 30.726791812855225\t 18.07886746449891\t 4.319872826546153\t 4.339813657593017\n",
            "\u001b[1m\u001b[92m2\u001b[0m\t \u001b[1m\u001b[92m[-3.89564496 13.38589781]\u001b[0m\t \u001b[1m\u001b[92m3.6010193697779265\u001b[0m\t \u001b[1m\u001b[92m3.6010193697779265\u001b[0m\t \u001b[1m\u001b[92m5.468214607201284\u001b[0m\t \u001b[1m\u001b[92m5.742969020471602\u001b[0m\n",
            "3  \t [2.67955274 0.824294  ]\t 4.785205288881451\t 3.6010193697779265\t 5.599638895038234\t 6.100991404415216\n",
            "4  \t [10.  0.]\t 10.960889035651505\t 3.6010193697779265\t 4.447267862354934\t 4.748726536805043\n",
            "5  \t [ 0.482241 15.      ]\t 113.3253444479278\t 3.6010193697779265\t 4.996590603001779\t 5.651767256779394\n",
            "6  \t [10.        8.344525]\t 30.475493551179227\t 3.6010193697779265\t 4.8481171926786475\t 4.582094323841331\n",
            "7  \t [6.16489248 0.2044065 ]\t 20.333593837587888\t 3.6010193697779265\t 4.548988363927593\t 4.310054658038399\n",
            "8  \t [2.30283681 4.71413737]\t 6.452176752307173\t 3.6010193697779265\t 5.1664281949163815\t 5.229457691007306\n",
            "9  \t [4.83137179 6.85898729]\t 41.75288224268701\t 3.6010193697779265\t 4.429862192870305\t 4.357731444469572\n",
            "10 \t [-0.53813417  0.        ]\t 65.77055884444212\t 3.6010193697779265\t 4.432161651962051\t 4.7965489616822845\n",
            "11 \t [-1.51751692 11.19637898]\t 16.68003047387903\t 3.6010193697779265\t 5.171839118336374\t 5.728328485103143\n",
            "12 \t [ 4.57456017 15.        ]\t 193.0223470506613\t 3.6010193697779265\t 4.640415921596033\t 5.604562614283769\n",
            "13 \t [-5.        10.5118527]\t 57.286152444092565\t 3.6010193697779265\t 5.368266962339526\t 5.474224346742765\n",
            "14 \t [6.91066894 9.82801766]\t 92.71974178016893\t 3.6010193697779265\t 5.287121827577507\t 5.366544437527337\n",
            "\u001b[1m\u001b[92m15\u001b[0m\t \u001b[1m\u001b[92m[10.          3.50911154]\u001b[0m\t \u001b[1m\u001b[92m2.199333481332282\u001b[0m\t \u001b[1m\u001b[92m2.199333481332282\u001b[0m\t \u001b[1m\u001b[92m5.383158804068487\u001b[0m\t \u001b[1m\u001b[92m6.194641150245485\u001b[0m\n",
            "16 \t [-5.  0.]\t 308.12909601160663\t 2.199333481332282\t 5.684755028785764\t 5.563032184888904\n",
            "17 \t [4.11057817 2.75613519]\t 5.808264403307089\t 2.199333481332282\t 5.172991500630996\t 4.9258055254544635\n",
            "18 \t [-5. 15.]\t 17.508299515778166\t 2.199333481332282\t 5.102907465641139\t 5.694480728978234\n",
            "19 \t [8.52441084 2.15825945]\t 4.1482458531921935\t 2.199333481332282\t 5.155971725126231\t 5.200810619410662\n",
            "20 \t [0.3297057  3.43668868]\t 23.298134442129058\t 2.199333481332282\t 3.9873871445067284\t 3.9092990595917936\n"
          ]
        }
      ],
      "source": [
        "### ESTIMATED GP EI GRADIENTS\n",
        "\n",
        "np.random.seed(run_num_3)\n",
        "surrogate_approx_3 = dGaussianProcess(cov_func, optimize=opt)\n",
        "\n",
        "approx_3 = GPGO_multi(surrogate_approx_3, Acquisition_grad(util), objfunc, param)\n",
        "approx_3.run(init_evals=n_init, max_iter=iters)\n"
      ]
    },
    {
      "cell_type": "code",
      "execution_count": 16,
      "metadata": {
        "id": "hOtG-2sCGCKS",
        "colab": {
          "base_uri": "https://localhost:8080/"
        },
        "outputId": "3173357f-b570-451f-f24c-6de03230b19e"
      },
      "outputs": [
        {
          "output_type": "stream",
          "name": "stdout",
          "text": [
            "Evaluation \t Proposed point \t  Current eval. \t  Best eval. \t        Exact EI: StdDev. x \t Approx EI: StdDev. x \n",
            "init\t [9.50544759 8.20848374]\t 32.51676744781521\t 7.247126865776948\t    \t    \n",
            "init\t [ 9.5902654  10.72223991]\t 66.20566674364716\t 7.247126865776948\t    \t    \n",
            "init\t [5.46593237 3.24134243]\t 20.90089401680587\t 7.247126865776948\t    \t    \n",
            "init\t [9.64411682 0.09345383]\t 7.247126865776948\t 7.247126865776948\t    \t    \n",
            "init\t [-1.20526456  6.52187299]\t 15.941376982363263\t 7.247126865776948\t    \t    \n",
            "1  \t [ 1.25164457 13.57001383]\t 100.61648848019335\t 7.247126865776948\t 5.245312208905975\t 5.779671792863304\n",
            "2  \t [0.4759818 0.       ]\t 46.32579784003957\t 7.247126865776948\t 5.709907985571528\t 5.739207017859388\n",
            "3  \t [-5.         10.47175259]\t 57.823137606712116\t 7.247126865776948\t 5.267641055431433\t 5.241277978918442\n",
            "4  \t [-4.89027388  1.98971168]\t 233.19740437455744\t 7.247126865776948\t 5.229514079072478\t 4.999258362611759\n",
            "5  \t [3.92778541 8.48375482]\t 48.67058835581439\t 7.247126865776948\t 5.4088049680548\t 5.53322242375707\n",
            "6  \t [ 6.50637725 15.        ]\t 212.1977205386274\t 7.247126865776948\t 4.879965196900861\t 4.982504616643129\n",
            "7  \t [1.67648372 4.0774352 ]\t 9.133415181981054\t 7.247126865776948\t 4.544917541516904\t 5.086754863640478\n",
            "\u001b[1m\u001b[92m8\u001b[0m\t \u001b[1m\u001b[92m[-3.63980264 15.        ]\u001b[0m\t \u001b[1m\u001b[92m3.8019959147251026\u001b[0m\t \u001b[1m\u001b[92m3.8019959147251026\u001b[0m\t \u001b[1m\u001b[92m4.097924457073722\u001b[0m\t \u001b[1m\u001b[92m4.478993603948951\u001b[0m\n",
            "\u001b[1m\u001b[92m9\u001b[0m\t \u001b[1m\u001b[92m[10.          3.97111788]\u001b[0m\t \u001b[1m\u001b[92m2.880476917565953\u001b[0m\t \u001b[1m\u001b[92m2.880476917565953\u001b[0m\t \u001b[1m\u001b[92m5.099946984415\u001b[0m\t \u001b[1m\u001b[92m5.074739546560056\u001b[0m\n",
            "10 \t [-5.          6.40109188]\t 129.06733369481782\t 2.880476917565953\t 5.737613755332253\t 5.832152248211422\n",
            "11 \t [4.45901867 0.        ]\t 9.759273444262915\t 2.880476917565953\t 4.97922816134472\t 5.11129734035336\n",
            "12 \t [-0.87788537 10.09611213]\t 22.890273846481737\t 2.880476917565953\t 4.949116704931214\t 4.997828845352384\n",
            "13 \t [-1.18217569  3.24468034]\t 36.845230323012075\t 2.880476917565953\t 5.205157180538314\t 5.700261171445221\n",
            "14 \t [ 5.92345463 11.19578349]\t 120.80602676765525\t 2.880476917565953\t 4.698931289442899\t 4.5228314428924685\n",
            "15 \t [6.83347472 6.16635521]\t 43.28187313246648\t 2.880476917565953\t 4.414058991870413\t 4.950224464779668\n",
            "16 \t [10.         14.43297911]\t 132.5885551588059\t 2.880476917565953\t 5.0953692647364095\t 5.907616658845494\n",
            "17 \t [-2.427518   12.97811236]\t 8.281865311541898\t 2.880476917565953\t 5.464815298021288\t 5.4000634410571084\n",
            "18 \t [7.13211293 0.        ]\t 17.83366414286371\t 2.880476917565953\t 4.5197054010172995\t 4.5692975553892765\n",
            "19 \t [8.51554478 2.72189402]\t 4.923679725469556\t 2.880476917565953\t 5.04634503706009\t 5.214151608881571\n",
            "20 \t [1.46475512 6.68292299]\t 18.5074092836093\t 2.880476917565953\t 4.765259134566638\t 4.730274141882709\n"
          ]
        }
      ],
      "source": [
        "### ESTIMATED GP EI GRADIENTS\n",
        "\n",
        "np.random.seed(run_num_4)\n",
        "surrogate_approx_4 = dGaussianProcess(cov_func, optimize=opt)\n",
        "\n",
        "approx_4= GPGO_multi(surrogate_approx_4, Acquisition_grad(util), objfunc, param)\n",
        "approx_4.run(init_evals=n_init, max_iter=iters)\n"
      ]
    },
    {
      "cell_type": "code",
      "execution_count": 17,
      "metadata": {
        "id": "JF_SxcEvGCOl",
        "colab": {
          "base_uri": "https://localhost:8080/"
        },
        "outputId": "b1ca5d17-5774-475f-981f-f6cffa8362bf"
      },
      "outputs": [
        {
          "output_type": "stream",
          "name": "stdout",
          "text": [
            "Evaluation \t Proposed point \t  Current eval. \t  Best eval. \t        Exact EI: StdDev. x \t Approx EI: StdDev. x \n",
            "init\t [-1.67010243 13.06098459]\t 25.390690545664548\t 25.311309190989615\t    \t    \n",
            "init\t [-1.89921267 13.77916362]\t 25.311309190989615\t 25.311309190989615\t    \t    \n",
            "init\t [2.32616783 9.17615794]\t 41.60147975414021\t 25.311309190989615\t    \t    \n",
            "init\t [6.48861785 7.77626982]\t 63.81281921768236\t 25.311309190989615\t    \t    \n",
            "init\t [-0.54799248  2.81581843]\t 34.966203644931994\t 25.311309190989615\t    \t    \n",
            "\u001b[1m\u001b[92m1\u001b[0m\t \u001b[1m\u001b[92m[8.84124421 0.03321319]\u001b[0m\t \u001b[1m\u001b[92m5.96108856337545\u001b[0m\t \u001b[1m\u001b[92m5.96108856337545\u001b[0m\t \u001b[1m\u001b[92m5.948183689630253\u001b[0m\t \u001b[1m\u001b[92m6.0486277841254426\u001b[0m\n",
            "2  \t [ 8.39476442 14.47736321]\t 167.21523769473345\t 5.96108856337545\t 5.749478620670972\t 5.384390780641253\n",
            "3  \t [-5.          8.52072414]\t 87.83433131864712\t 5.96108856337545\t 5.282482843937836\t 5.422031909351116\n",
            "4  \t [-5.  0.]\t 308.12909601160663\t 5.96108856337545\t 5.125757694012026\t 5.5735778310363875\n",
            "5  \t [3.88791578 0.        ]\t 6.065195699868971\t 5.96108856337545\t 4.8872137321190525\t 5.129615603102401\n",
            "6  \t [ 3.02987956 15.        ]\t 160.1329929544422\t 5.96108856337545\t 5.4533612727487615\t 5.644409721147461\n",
            "\u001b[1m\u001b[92m7\u001b[0m\t \u001b[1m\u001b[92m[10.          4.33638923]\u001b[0m\t \u001b[1m\u001b[92m3.7211832343947915\u001b[0m\t \u001b[1m\u001b[92m3.7211832343947915\u001b[0m\t \u001b[1m\u001b[92m4.0081843244561695\u001b[0m\t \u001b[1m\u001b[92m4.32482583102604\u001b[0m\n",
            "8  \t [3.80133795 4.0902208 ]\t 7.581708187137847\t 3.7211832343947915\t 4.557095766760548\t 4.310292139149547\n",
            "9  \t [10.         10.16732389]\t 53.27129922509078\t 3.7211832343947915\t 4.725045446978799\t 4.778855401882038\n",
            "10 \t [-1.05365158  6.84908728]\t 15.690651656331205\t 3.7211832343947915\t 5.372241380956395\t 5.431800046774178\n",
            "11 \t [-5.          4.41617479]\t 175.8269250285599\t 3.7211832343947915\t 4.336097681454805\t 4.622512723219752\n",
            "12 \t [6.99775476 2.92193739]\t 20.257283216112782\t 3.7211832343947915\t 5.131568549369422\t 5.3526793935452615\n",
            "13 \t [ 5.43140014 11.54550038]\t 124.04560408734892\t 3.7211832343947915\t 4.768435484673967\t 4.693957579807506\n",
            "14 \t [-5. 15.]\t 17.508299515778166\t 3.7211832343947915\t 4.5760438761967155\t 4.636325201674164\n",
            "15 \t [1.03876959 0.        ]\t 34.996442722580944\t 3.7211832343947915\t 4.733560040450642\t 4.840876050923172\n",
            "16 \t [-1.3073873   9.95055724]\t 15.219256294085522\t 3.7211832343947915\t 4.735528647084995\t 5.101295113795955\n",
            "17 \t [10.          6.70242534]\t 15.629209552635045\t 3.7211832343947915\t 4.244392209549636\t 4.4344964549166965\n",
            "18 \t [-5.         12.01071512]\t 39.521407312543175\t 3.7211832343947915\t 4.948634049643884\t 5.073936225258253\n",
            "19 \t [1.74422473 5.72392453]\t 12.782184194975583\t 3.7211832343947915\t 4.742131879755379\t 4.782222190125785\n",
            "20 \t [6.30335869 0.        ]\t 20.811687694399694\t 3.7211832343947915\t 4.659139251558379\t 4.648983674683485\n"
          ]
        }
      ],
      "source": [
        "### ESTIMATED GP EI GRADIENTS\n",
        "\n",
        "np.random.seed(run_num_5)\n",
        "surrogate_approx_5 = dGaussianProcess(cov_func, optimize=opt)\n",
        "\n",
        "approx_5 = GPGO_multi(surrogate_approx_5, Acquisition_grad(util), objfunc, param)\n",
        "approx_5.run(init_evals=n_init, max_iter=iters)\n"
      ]
    },
    {
      "cell_type": "code",
      "execution_count": 18,
      "metadata": {
        "id": "-kDxZtJsGCR3",
        "colab": {
          "base_uri": "https://localhost:8080/"
        },
        "outputId": "79a3e280-e872-4c75-9f27-34cdcbdb125a"
      },
      "outputs": [
        {
          "output_type": "stream",
          "name": "stdout",
          "text": [
            "Evaluation \t Proposed point \t  Current eval. \t  Best eval. \t        Exact EI: StdDev. x \t Approx EI: StdDev. x \n",
            "init\t [8.39290227 4.97969708]\t 15.553860636684597\t 15.31731051317483\t    \t    \n",
            "init\t [7.31843685 0.62544939]\t 15.31731051317483\t 15.31731051317483\t    \t    \n",
            "init\t [-3.3851498   8.92578096]\t 16.222288919361837\t 15.31731051317483\t    \t    \n",
            "init\t [2.94726043 6.28211143]\t 15.406373581304088\t 15.31731051317483\t    \t    \n",
            "init\t [0.03111774 9.33779148]\t 31.07053245856209\t 15.31731051317483\t    \t    \n",
            "1  \t [ 9.64829531 12.55362889]\t 98.32295673962142\t 15.31731051317483\t 5.157173025716337\t 5.689267794405934\n",
            "2  \t [-1.82404325  0.        ]\t 94.6966501209649\t 15.31731051317483\t 5.7216382806261725\t 6.527979283900396\n",
            "3  \t [ 4.34724927 14.59608757]\t 177.48889452505895\t 15.31731051317483\t 5.432849865771639\t 5.439376350141985\n",
            "4  \t [-2.04745772 14.64242428]\t 29.041710696784666\t 15.31731051317483\t 5.818460925686926\t 6.443756055086594\n",
            "5  \t [-5.          4.22939742]\t 180.6325473395425\t 15.31731051317483\t 5.323219359722601\t 5.389318097130347\n",
            "\u001b[1m\u001b[92m6\u001b[0m\t \u001b[1m\u001b[92m[2.86466554 1.58307698]\u001b[0m\t \u001b[1m\u001b[92m1.6060729308273825\u001b[0m\t \u001b[1m\u001b[92m1.6060729308273825\u001b[0m\t \u001b[1m\u001b[92m5.102428911555672\u001b[0m\t \u001b[1m\u001b[92m5.084285697494135\u001b[0m\n",
            "7  \t [5.85659362 9.56360268]\t 90.20616171426525\t 1.6060729308273825\t 5.903919384552909\t 5.712585542670025\n",
            "8  \t [-0.40464028  4.29015236]\t 24.46733155877557\t 1.6060729308273825\t 5.421274977500722\t 5.672759971160432\n",
            "9  \t [ 0.18638758 12.6865283 ]\t 68.1378550124482\t 1.6060729308273825\t 4.9435990020593295\t 4.717943495375468\n",
            "10 \t [-5.          0.19770419]\t 301.3721568037447\t 1.6060729308273825\t 5.158719369500651\t 5.1777491954257995\n",
            "11 \t [10.          8.30387714]\t 30.042899134875867\t 1.6060729308273825\t 5.534710518330463\t 5.919843719468751\n",
            "12 \t [-5.         12.27986476]\t 36.807264607704724\t 1.6060729308273825\t 5.555518629517522\t 5.8776730292088235\n",
            "13 \t [6.37355451 6.82019851]\t 52.23863916719892\t 1.6060729308273825\t 5.263514109906019\t 5.255343241101422\n",
            "14 \t [4.93837621 3.20359355]\t 15.810215152319788\t 1.6060729308273825\t 4.784635722524069\t 5.116584425474146\n",
            "15 \t [10.          2.13327333]\t 2.6994896576493472\t 1.6060729308273825\t 5.552169157948817\t 6.072443070449127\n",
            "16 \t [4.03842749 0.        ]\t 6.828173572537394\t 1.6060729308273825\t 4.754166942090226\t 5.041269195363029\n",
            "17 \t [1.3792882  1.55712027]\t 18.04490420288259\t 1.6060729308273825\t 5.254778031513762\t 5.4902745977366765\n",
            "18 \t [-1.97241289  6.64209676]\t 15.244530491013732\t 1.6060729308273825\t 5.257621224539204\t 5.52599896167906\n",
            "19 \t [ 2.87187388 10.86166146]\t 70.75040785542842\t 1.6060729308273825\t 6.069584011064806\t 6.238234994225832\n",
            "20 \t [10.  0.]\t 10.960889035651505\t 1.6060729308273825\t 5.816885463690688\t 6.019033054399148\n"
          ]
        }
      ],
      "source": [
        "### ESTIMATED GP EI GRADIENTS\n",
        "\n",
        "np.random.seed(run_num_6)\n",
        "surrogate_approx_6 = dGaussianProcess(cov_func, optimize=opt)\n",
        "\n",
        "approx_6 = GPGO_multi(surrogate_approx_6, Acquisition_grad(util), objfunc, param)\n",
        "approx_6.run(init_evals=n_init, max_iter=iters)\n"
      ]
    },
    {
      "cell_type": "code",
      "execution_count": 19,
      "metadata": {
        "id": "fKB8MCD_GCVI",
        "colab": {
          "base_uri": "https://localhost:8080/"
        },
        "outputId": "ef998d64-5d6f-4299-98c9-63b02de050dc"
      },
      "outputs": [
        {
          "output_type": "stream",
          "name": "stdout",
          "text": [
            "Evaluation \t Proposed point \t  Current eval. \t  Best eval. \t        Exact EI: StdDev. x \t Approx EI: StdDev. x \n",
            "init\t [-3.85537566 11.69878188]\t 8.299317850233932\t 5.211335324193094\t    \t    \n",
            "init\t [ 1.57613847 10.85197767]\t 59.50408380701259\t 5.211335324193094\t    \t    \n",
            "init\t [9.66984268 8.07743806]\t 29.714921414987273\t 5.211335324193094\t    \t    \n",
            "init\t [2.51680695 1.080767  ]\t 5.211335324193094\t 5.211335324193094\t    \t    \n",
            "init\t [-0.9734153   7.49823751]\t 15.431057204948033\t 5.211335324193094\t    \t    \n",
            "1  \t [-4.97859679  1.38393519]\t 260.3293952774437\t 5.211335324193094\t 4.218238789465274\t 4.244972226016435\n",
            "2  \t [ 7.42679792 14.12713902]\t 178.37635728719692\t 5.211335324193094\t 5.62388440549628\t 5.711002173363323\n",
            "3  \t [8.08940775 0.35854539]\t 9.249625108410735\t 5.211335324193094\t 5.360195792803128\t 5.647811409707666\n",
            "4  \t [-3.39684884  5.54228873]\t 54.79871094423047\t 5.211335324193094\t 4.515431540467075\t 4.488354410810848\n",
            "5  \t [4.52447278 5.91530334]\t 28.202382507784193\t 5.211335324193094\t 5.039720038817176\t 5.406797594551564\n",
            "6  \t [-0.8869762 15.       ]\t 72.11690603657522\t 5.211335324193094\t 5.9716221294040706\t 6.635025423373893\n",
            "\u001b[1m\u001b[92m7\u001b[0m\t \u001b[1m\u001b[92m[10.          3.80990051]\u001b[0m\t \u001b[1m\u001b[92m2.5942991296759317\u001b[0m\t \u001b[1m\u001b[92m2.5942991296759317\u001b[0m\t \u001b[1m\u001b[92m4.874530835601519\u001b[0m\t \u001b[1m\u001b[92m5.129655404192814\u001b[0m\n",
            "8  \t [0.58518241 3.93004086]\t 19.403564504568045\t 2.5942991296759317\t 5.4056965499523635\t 5.8130415426251645\n",
            "9  \t [5.84046512 9.85165609]\t 95.07145157229326\t 2.5942991296759317\t 5.57516481518177\t 5.7803753989194675\n",
            "10 \t [-0.7355476  0.       ]\t 69.54522438692183\t 2.5942991296759317\t 5.072058912641277\t 5.303337254233307\n",
            "11 \t [ 3.21159882 15.        ]\t 163.72327274005985\t 2.5942991296759317\t 4.641936651629184\t 5.223907928478898\n",
            "12 \t [-5. 15.]\t 17.508299515778166\t 2.5942991296759317\t 5.059848468098947\t 5.325657698104701\n",
            "13 \t [5.49962766 2.37665213]\t 18.29617019355647\t 2.5942991296759317\t 4.315842890952305\t 4.268060797507474\n",
            "14 \t [-5.          8.85119268]\t 82.21543983497156\t 2.5942991296759317\t 4.470746288567893\t 4.900643919752916\n",
            "15 \t [10.         11.37767957]\t 72.07912534600169\t 2.5942991296759317\t 5.455059494211192\t 5.145848882625664\n",
            "16 \t [1.9499348 7.8410889]\t 26.278080465003885\t 2.5942991296759317\t 5.250591774898015\t 4.8868744999070906\n",
            "17 \t [7.82808447 5.04198897]\t 23.097186005934432\t 2.5942991296759317\t 4.303596856077567\t 4.240119816750619\n",
            "18 \t [10.          1.88262109]\t 3.1982923402949073\t 2.5942991296759317\t 4.88250737895453\t 4.776479592359993\n",
            "19 \t [-1.66574417 10.49596698]\t 11.29906639824085\t 2.5942991296759317\t 5.092689907995036\t 4.839482126348061\n",
            "20 \t [4.565202 0.      ]\t 10.62697521719415\t 2.5942991296759317\t 4.542274160003342\t 4.6014657771976415\n"
          ]
        }
      ],
      "source": [
        "### ESTIMATED GP EI GRADIENTS\n",
        "\n",
        "np.random.seed(run_num_7)\n",
        "surrogate_approx_7 = dGaussianProcess(cov_func, optimize=opt)\n",
        "\n",
        "approx_7 = GPGO_multi(surrogate_approx_7, Acquisition_grad(util), objfunc, param)\n",
        "approx_7.run(init_evals=n_init, max_iter=iters)\n"
      ]
    },
    {
      "cell_type": "code",
      "execution_count": 20,
      "metadata": {
        "id": "4unvifF-GCXp",
        "colab": {
          "base_uri": "https://localhost:8080/"
        },
        "outputId": "7b6719de-7d25-4ff4-f6c3-fcfb75669601"
      },
      "outputs": [
        {
          "output_type": "stream",
          "name": "stdout",
          "text": [
            "Evaluation \t Proposed point \t  Current eval. \t  Best eval. \t        Exact EI: StdDev. x \t Approx EI: StdDev. x \n",
            "init\t [ 8.10144104 14.52810994]\t 175.17297136347514\t 15.416245468470875\t    \t    \n",
            "init\t [8.0379181  7.96283537]\t 49.32173799887473\t 15.416245468470875\t    \t    \n",
            "init\t [-1.50907508  0.17098206]\t 83.26753461673219\t 15.416245468470875\t    \t    \n",
            "init\t [1.45703227 6.0352704 ]\t 15.416245468470875\t 15.416245468470875\t    \t    \n",
            "init\t [2.84012007 7.17587694]\t 22.49093277852639\t 15.416245468470875\t    \t    \n",
            "\u001b[1m\u001b[92m1\u001b[0m\t \u001b[1m\u001b[92m[9.77124156 0.43098073]\u001b[0m\t \u001b[1m\u001b[92m6.499298445992174\u001b[0m\t \u001b[1m\u001b[92m6.499298445992174\u001b[0m\t \u001b[1m\u001b[92m5.08071803891309\u001b[0m\t \u001b[1m\u001b[92m5.609058862398624\u001b[0m\n",
            "2  \t [-4.87537438 11.82874897]\t 36.57081146531108\t 6.499298445992174\t 5.301343306569386\t 5.5138088881522425\n",
            "3  \t [-5.          6.18643904]\t 133.74401558397415\t 6.499298445992174\t 4.9887099462715065\t 5.690985281087296\n",
            "4  \t [ 2.00417134 12.66518309]\t 93.12908961359649\t 6.499298445992174\t 5.294261374177427\t 5.5031580547190035\n",
            "5  \t [4.49719462 1.43921156]\t 7.949846899550421\t 6.499298445992174\t 4.880627335213781\t 4.944988414598782\n",
            "6  \t [-1.26527245  9.27130061]\t 13.992308778046672\t 6.499298445992174\t 4.84889107209727\t 4.947442271865425\n",
            "7  \t [-1.95003136 15.        ]\t 35.66126827359362\t 6.499298445992174\t 5.010595300205902\t 5.270576260727359\n",
            "\u001b[1m\u001b[92m8\u001b[0m\t \u001b[1m\u001b[92m[10.          4.17864489]\u001b[0m\t \u001b[1m\u001b[92m3.3253836121255382\u001b[0m\t \u001b[1m\u001b[92m3.3253836121255382\u001b[0m\t \u001b[1m\u001b[92m5.041356380057945\u001b[0m\t \u001b[1m\u001b[92m5.053345925699057\u001b[0m\n",
            "9  \t [6.31193268 4.35987065]\t 30.21824099958308\t 3.3253836121255382\t 4.273878835277695\t 4.296784063610512\n",
            "10 \t [-5.          1.94165629]\t 245.15523436695386\t 3.3253836121255382\t 5.777362115684987\t 5.5588066450732105\n",
            "11 \t [ 5.62157675 10.9333822 ]\t 113.57485038788332\t 3.3253836121255382\t 5.065483615922514\t 5.155885477021566\n",
            "12 \t [-1.30018931  4.20482368]\t 29.236689261062093\t 3.3253836121255382\t 4.576584103416284\t 4.599851678565165\n",
            "13 \t [1.73953336 2.44291296]\t 9.778531347006664\t 3.3253836121255382\t 4.760760479527475\t 4.831570959980826\n",
            "14 \t [10.         11.01239708]\t 66.09427732476937\t 3.3253836121255382\t 5.358007965720779\t 5.518055056496625\n",
            "15 \t [6.96778603 0.        ]\t 18.8364058276573\t 3.3253836121255382\t 4.461377641237759\t 4.6116212130097685\n",
            "16 \t [-5. 15.]\t 17.508299515778166\t 3.3253836121255382\t 4.025496317485653\t 4.439478924226209\n",
            "17 \t [ 4.45097418 15.        ]\t 190.43448818175122\t 3.3253836121255382\t 5.483715036086417\t 5.569548858008064\n",
            "18 \t [2.24314403 0.        ]\t 13.505615050799975\t 3.3253836121255382\t 5.412017009764095\t 5.2099653915639275\n",
            "19 \t [-1.53469501 11.94312032]\t 20.562974597835435\t 3.3253836121255382\t 4.297691877513587\t 4.325788456990482\n",
            "20 \t [1.38882314 9.45404495]\t 41.06263970517813\t 3.3253836121255382\t 4.243921069727625\t 4.36245638216368\n"
          ]
        }
      ],
      "source": [
        "### ESTIMATED GP EI GRADIENTS\n",
        "\n",
        "np.random.seed(run_num_8)\n",
        "surrogate_approx_8 = dGaussianProcess(cov_func, optimize=opt)\n",
        "\n",
        "approx_8 = GPGO_multi(surrogate_approx_8, Acquisition_grad(util), objfunc, param)\n",
        "approx_8.run(init_evals=n_init, max_iter=iters)\n"
      ]
    },
    {
      "cell_type": "code",
      "execution_count": 21,
      "metadata": {
        "id": "85OIXcg7GCaJ",
        "colab": {
          "base_uri": "https://localhost:8080/"
        },
        "outputId": "d4cd2186-da03-4f30-8906-8ee3c8ca421f"
      },
      "outputs": [
        {
          "output_type": "stream",
          "name": "stdout",
          "text": [
            "Evaluation \t Proposed point \t  Current eval. \t  Best eval. \t        Exact EI: StdDev. x \t Approx EI: StdDev. x \n",
            "init\t [-4.84438769  7.52811888]\t 96.15564306553264\t 3.4640248583909496\t    \t    \n",
            "init\t [2.4365994  2.00744293]\t 3.4640248583909496\t 3.4640248583909496\t    \t    \n",
            "init\t [-2.86833372  3.27838013]\t 70.46930174488207\t 3.4640248583909496\t    \t    \n",
            "init\t [1.27762271 3.72151753]\t 12.982825924833865\t 3.4640248583909496\t    \t    \n",
            "init\t [-3.73910523  5.1824796 ]\t 75.58547400560856\t 3.4640248583909496\t    \t    \n",
            "1  \t [ 7.05609655 14.75038872]\t 200.4388688685465\t 3.4640248583909496\t 5.560611967332576\t 5.684402554204693\n",
            "2  \t [-0.46054038 14.56197292]\t 79.4666617606301\t 3.4640248583909496\t 5.192641788307269\t 4.908297246913737\n",
            "3  \t [8.28747407 1.2035024 ]\t 6.196385269800155\t 3.4640248583909496\t 4.870718318091647\t 4.684391875627888\n",
            "4  \t [5.09950015 9.09277915]\t 75.2388884244606\t 3.4640248583909496\t 5.2082206288114135\t 4.914757552051944\n",
            "5  \t [10.          6.16253177]\t 11.926055897003662\t 3.4640248583909496\t 5.1557118262997745\t 4.814044728693745\n",
            "6  \t [-2.47914216e-04  9.30127735e+00]\t 30.49793941516524\t 3.4640248583909496\t 4.997389962469146\t 5.094577214613054\n",
            "7  \t [-5.         12.67802271]\t 33.05787799609667\t 3.4640248583909496\t 5.242839313974883\t 5.77684772298977\n",
            "8  \t [10.         10.65341293]\t 60.472622580848544\t 3.4640248583909496\t 4.779678226561181\t 4.377041363214136\n",
            "9  \t [5.74909948 4.4348906 ]\t 29.254368370114364\t 3.4640248583909496\t 5.244976795043841\t 5.328955644657733\n",
            "10 \t [-0.29860728  0.        ]\t 61.25533981351769\t 3.4640248583909496\t 4.364146445064494\t 3.930418970568319\n",
            "11 \t [4.94230131 0.        ]\t 13.851283920630884\t 3.4640248583909496\t 5.469831946527732\t 5.572457824142039\n",
            "12 \t [-5.  0.]\t 308.12909601160663\t 3.4640248583909496\t 5.163891666013533\t 4.960021387219176\n",
            "13 \t [ 3.14373467 12.69627655]\t 109.03572160977001\t 3.4640248583909496\t 4.668957184571172\t 4.718073159564936\n",
            "14 \t [2.34029933 6.61685685]\t 16.525124613574704\t 3.4640248583909496\t 4.215702055397167\t 4.33104864647895\n",
            "\u001b[1m\u001b[92m15\u001b[0m\t \u001b[1m\u001b[92m[10.          3.16976868]\u001b[0m\t \u001b[1m\u001b[92m1.9709669321424812\u001b[0m\t \u001b[1m\u001b[92m1.9709669321424812\u001b[0m\t \u001b[1m\u001b[92m4.859144103828673\u001b[0m\t \u001b[1m\u001b[92m5.076289381494404\u001b[0m\n",
            "\u001b[1m\u001b[92m16\u001b[0m\t \u001b[1m\u001b[92m[-2.68434615 10.68904437]\u001b[0m\t \u001b[1m\u001b[92m1.648588362492264\u001b[0m\t \u001b[1m\u001b[92m1.648588362492264\u001b[0m\t \u001b[1m\u001b[92m5.36792302776773\u001b[0m\t \u001b[1m\u001b[92m5.490704026447143\u001b[0m\n",
            "17 \t [10.  0.]\t 10.960889035651505\t 1.648588362492264\t 5.417796111913959\t 5.5767567654626795\n",
            "18 \t [-0.54440141  6.18234322]\t 18.73584737676945\t 1.648588362492264\t 5.346167430252528\t 5.510250223512599\n",
            "19 \t [7.73196027 7.20964776]\t 44.720425237306934\t 1.648588362492264\t 4.240434877362803\t 4.502328273024911\n",
            "20 \t [8.59369193 3.68530273]\t 6.847562354836107\t 1.648588362492264\t 4.875861655244368\t 5.003035815642801\n"
          ]
        }
      ],
      "source": [
        "### ESTIMATED GP EI GRADIENTS\n",
        "\n",
        "np.random.seed(run_num_9)\n",
        "surrogate_approx_9 = dGaussianProcess(cov_func, optimize=opt)\n",
        "\n",
        "approx_9 = GPGO_multi(surrogate_approx_9, Acquisition_grad(util), objfunc, param)\n",
        "approx_9.run(init_evals=n_init, max_iter=iters)\n"
      ]
    },
    {
      "cell_type": "code",
      "execution_count": 22,
      "metadata": {
        "id": "QQBR-qJPGCcp",
        "colab": {
          "base_uri": "https://localhost:8080/"
        },
        "outputId": "226e95fa-698f-4b45-93bb-d04322bfae87"
      },
      "outputs": [
        {
          "output_type": "stream",
          "name": "stdout",
          "text": [
            "Evaluation \t Proposed point \t  Current eval. \t  Best eval. \t        Exact EI: StdDev. x \t Approx EI: StdDev. x \n",
            "init\t [6.56980965 0.31127924]\t 19.863985024602144\t 2.710610964564512\t    \t    \n",
            "init\t [ 4.50472352 11.23205824]\t 103.66999147252169\t 2.710610964564512\t    \t    \n",
            "init\t [2.47760518 3.37194968]\t 2.710610964564512\t 2.710610964564512\t    \t    \n",
            "init\t [-2.02905703 11.40796068]\t 8.463930835255017\t 2.710610964564512\t    \t    \n",
            "init\t [-2.46333745  1.32509721]\t 90.49481266026973\t 2.710610964564512\t    \t    \n",
            "1  \t [ 9.16391068 14.81438212]\t 158.2412724465548\t 2.710610964564512\t 4.640275832564628\t 4.85471248254164\n",
            "2  \t [9.65621089 6.61160737]\t 16.1339423373336\t 2.710610964564512\t 4.478646410962929\t 4.742455524474485\n",
            "3  \t [-3.43070383  6.59407857]\t 41.58407101130534\t 2.710610964564512\t 4.522319955366268\t 4.612620045670789\n",
            "4  \t [-5.         14.87308868]\t 18.079607456458163\t 2.710610964564512\t 5.4727984622340395\t 5.646797550884301\n",
            "5  \t [ 0.92449114 15.        ]\t 123.1323068545943\t 2.710610964564512\t 5.527377102157545\t 5.850149071916167\n",
            "6  \t [1.30728696 7.43275526]\t 23.342220474875504\t 2.710610964564512\t 5.09145583056975\t 4.887999720514551\n",
            "7  \t [5.4907333  5.83991954]\t 38.681688581301934\t 2.710610964564512\t 4.8011242286579145\t 5.004592771876001\n",
            "\u001b[1m\u001b[92m8\u001b[0m\t \u001b[1m\u001b[92m[10.          2.46600724]\u001b[0m\t \u001b[1m\u001b[92m2.231455285792988\u001b[0m\t \u001b[1m\u001b[92m2.231455285792988\u001b[0m\t \u001b[1m\u001b[92m5.405638507742556\u001b[0m\t \u001b[1m\u001b[92m5.606405704896488\u001b[0m\n",
            "9  \t [ 8.84186945 10.50881882]\t 73.92140645979491\t 2.231455285792988\t 5.297630920697542\t 5.428234201533609\n",
            "10 \t [2.04069155 0.        ]\t 16.47710398435641\t 2.231455285792988\t 5.240620997095807\t 5.465960191589671\n",
            "11 \t [-5.          9.84067161]\t 66.69758484071149\t 2.231455285792988\t 4.351938842340693\t 4.507700608002736\n",
            "12 \t [ 5.05848806 15.        ]\t 202.18844987953727\t 2.231455285792988\t 5.156724854591468\t 5.251683717116204\n",
            "13 \t [10.  0.]\t 10.960889035651505\t 2.231455285792988\t 4.757190816479982\t 5.189034282196805\n",
            "14 \t [7.92584457 3.43694438]\t 13.058942462176699\t 2.231455285792988\t 5.299804027813276\t 5.088369338602228\n",
            "15 \t [ 0.78249757 10.84708926]\t 52.970037308284084\t 2.231455285792988\t 5.700386168924235\t 5.65506684159368\n",
            "16 \t [-0.21682168  4.37688157]\t 23.275047888721026\t 2.231455285792988\t 5.452817110420928\t 5.701856959983714\n",
            "17 \t [-2.08261003 14.22917559]\t 24.257129238207316\t 2.231455285792988\t 5.329877174417952\t 5.592787073569511\n",
            "18 \t [-5.          3.69168609]\t 194.85696739199162\t 2.231455285792988\t 3.9106148360856707\t 3.888018690993656\n",
            "19 \t [4.46705018 2.50512363]\t 8.74282335628859\t 2.231455285792988\t 3.847835967722994\t 3.8943913818979454\n",
            "20 \t [2.68077132 4.93731063]\t 6.57741515830572\t 2.231455285792988\t 5.2131161326949504\t 5.24299426367606\n"
          ]
        }
      ],
      "source": [
        "### ESTIMATED GP EI GRADIENTS\n",
        "\n",
        "np.random.seed(run_num_10)\n",
        "surrogate_approx_10 = dGaussianProcess(cov_func, optimize=opt)\n",
        "\n",
        "approx_10 = GPGO_multi(surrogate_approx_10, Acquisition_grad(util), objfunc, param)\n",
        "approx_10.run(init_evals=n_init, max_iter=iters)\n"
      ]
    },
    {
      "cell_type": "code",
      "execution_count": 23,
      "metadata": {
        "id": "JS8ejeQ2GCfi",
        "colab": {
          "base_uri": "https://localhost:8080/"
        },
        "outputId": "15eb9935-cd97-4521-9d17-b708828ce78a"
      },
      "outputs": [
        {
          "output_type": "stream",
          "name": "stdout",
          "text": [
            "Evaluation \t Proposed point \t  Current eval. \t  Best eval. \t        Exact EI: StdDev. x \t Approx EI: StdDev. x \n",
            "init\t [-2.29595467  0.29212862]\t 104.49282729548965\t 22.37435843952312\t    \t    \n",
            "init\t [ 1.9482779  10.87400894]\t 62.47758067812407\t 22.37435843952312\t    \t    \n",
            "init\t [1.30305407 7.28140647]\t 22.37435843952312\t 22.37435843952312\t    \t    \n",
            "init\t [-4.80828778  7.31057411]\t 97.94503054415523\t 22.37435843952312\t    \t    \n",
            "init\t [ 9.12709979 12.76192634]\t 111.62900800771942\t 22.37435843952312\t    \t    \n",
            "\u001b[1m\u001b[92m1\u001b[0m\t \u001b[1m\u001b[92m[6.94653631 0.95529646]\u001b[0m\t \u001b[1m\u001b[92m17.615403152614682\u001b[0m\t \u001b[1m\u001b[92m17.615403152614682\u001b[0m\t \u001b[1m\u001b[92m4.664336634742871\u001b[0m\t \u001b[1m\u001b[92m4.7277614894283575\u001b[0m\n",
            "\u001b[1m\u001b[92m2\u001b[0m\t \u001b[1m\u001b[92m[9.95854213 6.93474539]\u001b[0m\t \u001b[1m\u001b[92m17.515895642519936\u001b[0m\t \u001b[1m\u001b[92m17.515895642519936\u001b[0m\t \u001b[1m\u001b[92m4.430379443281257\u001b[0m\t \u001b[1m\u001b[92m5.37772792986339\u001b[0m\n",
            "3  \t [-2.04998894 15.        ]\t 32.55512511454222\t 17.515895642519936\t 5.359847363332645\t 5.681625144629597\n",
            "\u001b[1m\u001b[92m4\u001b[0m\t \u001b[1m\u001b[92m[2.4101777  2.49067351]\u001b[0m\t \u001b[1m\u001b[92m3.0334566321047474\u001b[0m\t \u001b[1m\u001b[92m3.0334566321047474\u001b[0m\t \u001b[1m\u001b[92m4.020666287904617\u001b[0m\t \u001b[1m\u001b[92m4.20779402589627\u001b[0m\n",
            "5  \t [ 4.54020749 15.        ]\t 192.3104119521503\t 3.0334566321047474\t 4.972087844065405\t 4.811799170974095\n",
            "6  \t [5.61106285 5.52650808]\t 36.78176323936159\t 3.0334566321047474\t 5.003493940309963\t 4.908615823509613\n",
            "7  \t [-5.         11.91403817]\t 40.53167818869679\t 3.0334566321047474\t 5.106062699699448\t 5.708562677883779\n",
            "8  \t [6.09612733 9.61653634]\t 91.9904282174679\t 3.0334566321047474\t 4.945808410753682\t 4.926111614451453\n",
            "9  \t [-1.43271195  4.48383191]\t 27.818061869566638\t 3.0334566321047474\t 4.977167214495972\t 5.106161574387823\n",
            "\u001b[1m\u001b[92m10\u001b[0m\t \u001b[1m\u001b[92m[10.          3.06359274]\u001b[0m\t \u001b[1m\u001b[92m1.9468174034002583\u001b[0m\t \u001b[1m\u001b[92m1.9468174034002583\u001b[0m\t \u001b[1m\u001b[92m5.184766933484827\u001b[0m\t \u001b[1m\u001b[92m5.2912786203502264\u001b[0m\n",
            "11 \t [-1.74218947  9.91261597]\t 8.921411512778667\t 1.9468174034002583\t 5.337176993873873\t 5.547432672908975\n",
            "12 \t [-5.        3.204387]\t 208.24728704461137\t 1.9468174034002583\t 5.5380698516138285\t 5.510479901238318\n",
            "13 \t [10.  0.]\t 10.960889035651505\t 1.9468174034002583\t 5.54735287292262\t 5.466792673067896\n",
            "14 \t [3.43861356 0.        ]\t 5.040386914910343\t 1.9468174034002583\t 5.2812720700233715\t 5.503624799156619\n",
            "15 \t [ 0.92632292 14.2913264 ]\t 108.98322546917157\t 1.9468174034002583\t 5.503293439152823\t 5.216942001260404\n",
            "16 \t [1.14829511 0.        ]\t 32.79694685361041\t 1.9468174034002583\t 5.68886886737425\t 5.723534285074923\n",
            "17 \t [8.41222252 3.97926509]\t 9.868565891493738\t 1.9468174034002583\t 4.362615169336652\t 4.178708088193732\n",
            "18 \t [2.32247016 4.45442351]\t 5.557034363956582\t 1.9468174034002583\t 4.722903557624339\t 4.896535101036825\n",
            "19 \t [-5. 15.]\t 17.508299515778166\t 1.9468174034002583\t 4.916074907732303\t 4.96966404607283\n",
            "20 \t [4.47522812 2.45907843]\t 8.732795684262838\t 1.9468174034002583\t 5.4101947069759015\t 5.4258494629563385\n"
          ]
        }
      ],
      "source": [
        "### ESTIMATED GP EI GRADIENTS\n",
        "\n",
        "np.random.seed(run_num_11)\n",
        "surrogate_approx_11 = dGaussianProcess(cov_func, optimize=opt)\n",
        "\n",
        "approx_11 = GPGO_multi(surrogate_approx_11, Acquisition_grad(util), objfunc, param)\n",
        "approx_11.run(init_evals=n_init, max_iter=iters)\n"
      ]
    },
    {
      "cell_type": "code",
      "execution_count": 24,
      "metadata": {
        "id": "DXwjUVZ4GCii",
        "colab": {
          "base_uri": "https://localhost:8080/"
        },
        "outputId": "8da4a8a5-1262-4979-c07e-3cc2a7569984"
      },
      "outputs": [
        {
          "output_type": "stream",
          "name": "stdout",
          "text": [
            "Evaluation \t Proposed point \t  Current eval. \t  Best eval. \t        Exact EI: StdDev. x \t Approx EI: StdDev. x \n",
            "init\t [-2.68755736 11.10074545]\t 1.3827702760021356\t 0.5499315281120278\t    \t    \n",
            "init\t [-1.05027477  8.0060909 ]\t 14.81231853080056\t 0.5499315281120278\t    \t    \n",
            "init\t [-4.78137556 13.78120512]\t 18.401131000214548\t 0.5499315281120278\t    \t    \n",
            "init\t [8.51072281 0.50132141]\t 5.855172364344769\t 0.5499315281120278\t    \t    \n",
            "init\t [9.35424004 2.05813982]\t 0.5499315281120278\t 0.5499315281120278\t    \t    \n",
            "1  \t [10.          4.44081576]\t 4.010579607936306\t 0.5499315281120278\t 4.81045063367269\t 4.248269942946071\n",
            "2  \t [ 8.50155249 13.79797306]\t 148.00655208378976\t 0.5499315281120278\t 5.15138033979821\t 4.447523776399771\n",
            "3  \t [-4.8799499   0.15657603]\t 290.0404981832191\t 0.5499315281120278\t 5.393616841095594\t 5.2878181782792915\n",
            "4  \t [4.43295522 8.80602226]\t 60.97316690113995\t 0.5499315281120278\t 4.5433296139446515\t 4.225792743401223\n",
            "5  \t [3.16250439 0.61220479]\t 3.1110922603744786\t 0.5499315281120278\t 4.897327533303596\t 4.778719727692702\n",
            "6  \t [ 1.68951053 13.94374485]\t 114.21111336902953\t 0.5499315281120278\t 5.714946347011398\t 5.773591340147835\n",
            "7  \t [-0.40484172  3.26411269]\t 30.39534917160595\t 0.5499315281120278\t 5.1986729848747295\t 5.209653761476657\n",
            "8  \t [10.          8.84109047]\t 36.02694773797444\t 0.5499315281120278\t 5.397071714972145\t 5.543934051816833\n",
            "9  \t [-5.          5.57533268]\t 147.56293206559985\t 0.5499315281120278\t 4.305466765750732\t 3.954789220210606\n",
            "10 \t [5.61176527 4.05786854]\t 26.050130361730695\t 0.5499315281120278\t 5.17877610840404\t 5.188233876533872\n",
            "11 \t [-5.          9.81551201]\t 67.06789730740137\t 0.5499315281120278\t 5.24045480177843\t 5.309516985128895\n",
            "12 \t [2.14355078 5.77383121]\t 11.513675597539759\t 0.5499315281120278\t 4.429366175298524\t 4.5502556355090755\n",
            "13 \t [0.0906875 0.       ]\t 53.86392709499007\t 0.5499315281120278\t 4.242038602955911\t 4.363865225086086\n",
            "14 \t [5.67245008 0.        ]\t 19.14037190532802\t 0.5499315281120278\t 5.039059954839311\t 5.174614825804471\n",
            "15 \t [-1.0423277 11.3313177]\t 27.316869114407034\t 0.5499315281120278\t 4.957131189147833\t 5.043547221845696\n",
            "16 \t [-1.89869934 15.        ]\t 37.29420408092209\t 0.5499315281120278\t 5.034587632932705\t 5.053827472637504\n",
            "17 \t [ 5.04287708 12.32380188]\t 135.5401812336606\t 0.5499315281120278\t 5.259769814195735\t 5.290039669786153\n",
            "18 \t [2.77855863 2.75162369]\t 1.0548635399669042\t 0.5499315281120278\t 6.123550463595378\t 6.1195415159841176\n",
            "19 \t [7.56680667 6.60255199]\t 40.27003944011234\t 0.5499315281120278\t 4.96584522098791\t 4.8575882106094985\n",
            "20 \t [1.41954914 9.73323594]\t 44.30483631003295\t 0.5499315281120278\t 4.135260969422037\t 4.29673886561808\n"
          ]
        }
      ],
      "source": [
        "### ESTIMATED GP EI GRADIENTS\n",
        "\n",
        "np.random.seed(run_num_12)\n",
        "surrogate_approx_12 = dGaussianProcess(cov_func, optimize=opt)\n",
        "\n",
        "approx_12 = GPGO_multi(surrogate_approx_12, Acquisition_grad(util), objfunc, param)\n",
        "approx_12.run(init_evals=n_init, max_iter=iters)\n"
      ]
    },
    {
      "cell_type": "code",
      "execution_count": 25,
      "metadata": {
        "id": "CphOPndPGClX",
        "colab": {
          "base_uri": "https://localhost:8080/"
        },
        "outputId": "3e4930bc-bd88-4b29-95ab-f8db09c6c6a2"
      },
      "outputs": [
        {
          "output_type": "stream",
          "name": "stdout",
          "text": [
            "Evaluation \t Proposed point \t  Current eval. \t  Best eval. \t        Exact EI: StdDev. x \t Approx EI: StdDev. x \n",
            "init\t [6.66553616 3.5631183 ]\t 24.823670200298267\t 18.038943061558626\t    \t    \n",
            "init\t [ 7.36417799 14.48623797]\t 188.7803334745195\t 18.038943061558626\t    \t    \n",
            "init\t [9.58901671 6.80173871]\t 18.038943061558626\t 18.038943061558626\t    \t    \n",
            "init\t [ 4.13563694 11.63289772]\t 104.87319703906111\t 18.038943061558626\t    \t    \n",
            "init\t [ 4.62420017 10.83027344]\t 98.03271225790056\t 18.038943061558626\t    \t    \n",
            "1  \t [-3.51870171  3.68338658]\t 91.63196166423945\t 18.038943061558626\t 5.375628511615252\t 5.409772224917\n",
            "\u001b[1m\u001b[92m2\u001b[0m\t \u001b[1m\u001b[92m[-3.06562888 11.40851515]\u001b[0m\t \u001b[1m\u001b[92m0.8943531028899869\u001b[0m\t \u001b[1m\u001b[92m0.8943531028899869\u001b[0m\t \u001b[1m\u001b[92m4.66272995057891\u001b[0m\t \u001b[1m\u001b[92m4.563640555712185\u001b[0m\n",
            "3  \t [2.37196124 0.        ]\t 11.816754175218747\t 0.8943531028899869\t 5.356184381872098\t 5.594340251511384\n",
            "4  \t [1.73412411 5.9148652 ]\t 13.6659651447382\t 0.8943531028899869\t 5.545599469437226\t 5.94495498650353\n",
            "5  \t [-0.2630384 15.       ]\t 92.75828189968277\t 0.8943531028899869\t 4.858783523713692\t 5.661508084289738\n",
            "6  \t [10.  0.]\t 10.960889035651505\t 0.8943531028899869\t 4.8585024751627435\t 5.719436793687776\n",
            "7  \t [-5. 15.]\t 17.508299515778166\t 0.8943531028899869\t 5.675617626575124\t 6.044786430511849\n",
            "8  \t [-0.22311199  9.61750533]\t 29.965522383345622\t 0.8943531028899869\t 4.886655042369947\t 4.590739310601844\n",
            "9  \t [-5.         8.2976155]\t 91.75131152164512\t 0.8943531028899869\t 5.172512999617021\t 5.1785364165890435\n",
            "10 \t [10.         10.78928775]\t 62.570093323545365\t 0.8943531028899869\t 5.266253998258616\t 4.933481094664362\n",
            "11 \t [-1.4860413  0.       ]\t 85.6420789997449\t 0.8943531028899869\t 5.54515166169902\t 5.55522942936485\n",
            "12 \t [5.45616324 6.98818135]\t 50.44531181562311\t 0.8943531028899869\t 4.6834519253386455\t 5.134011356952903\n",
            "13 \t [10.          3.30740301]\t 2.0358282788795856\t 0.8943531028899869\t 5.762038293090653\t 5.719446180636232\n",
            "14 \t [6.09987186 0.        ]\t 20.647945615440005\t 0.8943531028899869\t 4.929732503311888\t 4.996760658038131\n",
            "15 \t [3.17088869 3.04733875]\t 1.0341513127451307\t 0.8943531028899869\t 5.333308930631912\t 5.371238878782988\n",
            "16 \t [0.57775513 3.0631977 ]\t 22.288842709355784\t 0.8943531028899869\t 4.817055456718122\t 4.79801308458654\n",
            "17 \t [-5.         11.94210084]\t 40.23649865280005\t 0.8943531028899869\t 5.608361277366342\t 5.713911978862845\n",
            "18 \t [-5.  0.]\t 308.12909601160663\t 0.8943531028899869\t 4.5272343370921515\t 4.62599305582369\n",
            "19 \t [-2.10603924 11.89634602]\t 8.989236234702373\t 0.8943531028899869\t 5.3988870415376535\t 5.313099464817773\n",
            "20 \t [-1.40779949  6.58052616]\t 15.229582324103031\t 0.8943531028899869\t 5.977727742034558\t 5.7518669995512015\n"
          ]
        }
      ],
      "source": [
        "### ESTIMATED GP EI GRADIENTS\n",
        "\n",
        "np.random.seed(run_num_13)\n",
        "surrogate_approx_13 = dGaussianProcess(cov_func, optimize=opt)\n",
        "\n",
        "approx_13 = GPGO_multi(surrogate_approx_13, Acquisition_grad(util), objfunc, param)\n",
        "approx_13.run(init_evals=n_init, max_iter=iters)\n"
      ]
    },
    {
      "cell_type": "code",
      "execution_count": 26,
      "metadata": {
        "id": "ojHTeARNGCoi",
        "colab": {
          "base_uri": "https://localhost:8080/"
        },
        "outputId": "2cb26f23-23e0-4542-9013-af8d398d27c6"
      },
      "outputs": [
        {
          "output_type": "stream",
          "name": "stdout",
          "text": [
            "Evaluation \t Proposed point \t  Current eval. \t  Best eval. \t        Exact EI: StdDev. x \t Approx EI: StdDev. x \n",
            "init\t [ 2.70915016 11.59747578]\t 81.58264375064097\t 1.4149920024014744\t    \t    \n",
            "init\t [8.05641529 0.12070423]\t 10.148649076616518\t 1.4149920024014744\t    \t    \n",
            "init\t [-0.35396112 14.36405609]\t 79.6056658956529\t 1.4149920024014744\t    \t    \n",
            "init\t [2.69675068 4.77426637]\t 5.855607664288365\t 1.4149920024014744\t    \t    \n",
            "init\t [3.08799906 3.31882414]\t 1.4149920024014744\t 1.4149920024014744\t    \t    \n",
            "1  \t [-5.  0.]\t 308.12909601160663\t 1.4149920024014744\t 5.43536005449988\t 5.692888383988993\n",
            "2  \t [-3.61083748  7.85924032]\t 32.481990179851884\t 1.4149920024014744\t 5.650968850635788\t 5.580748410489977\n",
            "3  \t [8.4415984  6.61360555]\t 28.132050221972662\t 1.4149920024014744\t 5.290338347745385\t 4.86177948510883\n",
            "4  \t [0.61684624 0.        ]\t 43.51118692181512\t 1.4149920024014744\t 3.9145780256046714\t 4.508018236902807\n",
            "5  \t [ 9.81482319 14.16972583]\t 129.85218172547337\t 1.4149920024014744\t 4.890681516891686\t 4.6868693534333286\n",
            "6  \t [-5. 15.]\t 17.508299515778166\t 1.4149920024014744\t 4.73709232045711\t 4.858012024656474\n",
            "7  \t [ 5.35729188 15.        ]\t 206.72919022994392\t 1.4149920024014744\t 3.835444549634222\t 4.376473074789165\n",
            "8  \t [-1.60014029  3.93528802]\t 34.14346593986854\t 1.4149920024014744\t 5.179889967366091\t 5.013263105712725\n",
            "9  \t [ 7.06439457 10.48100123]\t 102.88630006489666\t 1.4149920024014744\t 5.116239036697773\t 5.145987598996116\n",
            "10 \t [0.56304314 7.81657359]\t 25.258025399141534\t 1.4149920024014744\t 4.613716298928643\t 4.834074195540762\n",
            "11 \t [6.09472911 3.27880326]\t 24.185436392264627\t 1.4149920024014744\t 4.774742336566415\t 4.974361418441442\n",
            "12 \t [10.          3.07164879]\t 1.9478592789606566\t 1.4149920024014744\t 4.850239410031791\t 5.103548783591425\n",
            "13 \t [-3.60041811 11.62645115]\t 4.553752665375552\t 1.4149920024014744\t 4.869128295325991\t 4.83365884404792\n",
            "14 \t [4.46040349 0.        ]\t 9.770358009495531\t 1.4149920024014744\t 5.153467990146763\t 5.306508049522785\n",
            "15 \t [4.47728125 7.39769754]\t 42.97406027201018\t 1.4149920024014744\t 5.197454432077161\t 5.2339465651710375\n",
            "16 \t [-1.09380133 10.66298124]\t 22.067973295436\t 1.4149920024014744\t 5.052989349853937\t 5.058706680972107\n",
            "17 \t [-5.         4.4338364]\t 175.37611760358655\t 1.4149920024014744\t 5.463704426362856\t 5.564724989901232\n",
            "\u001b[1m\u001b[92m18\u001b[0m\t \u001b[1m\u001b[92m[2.84398785 2.24363916]\u001b[0m\t \u001b[1m\u001b[92m0.895546903322046\u001b[0m\t \u001b[1m\u001b[92m0.895546903322046\u001b[0m\t \u001b[1m\u001b[92m4.498767078950634\u001b[0m\t \u001b[1m\u001b[92m4.449329358814315\u001b[0m\n",
            "19 \t [10.          9.18984427]\t 40.2207196010643\t 0.895546903322046\t 4.884940349676888\t 5.077064242230974\n",
            "20 \t [10.          1.38818057]\t 4.550642311885878\t 0.895546903322046\t 5.051014669682039\t 5.004488102753177\n"
          ]
        }
      ],
      "source": [
        "### ESTIMATED GP EI GRADIENTS\n",
        "\n",
        "np.random.seed(run_num_14)\n",
        "surrogate_approx_14 = dGaussianProcess(cov_func, optimize=opt)\n",
        "\n",
        "approx_14 = GPGO_multi(surrogate_approx_14, Acquisition_grad(util), objfunc, param)\n",
        "approx_14.run(init_evals=n_init, max_iter=iters)\n"
      ]
    },
    {
      "cell_type": "code",
      "execution_count": 27,
      "metadata": {
        "id": "vCJzn4vWGCs3",
        "colab": {
          "base_uri": "https://localhost:8080/"
        },
        "outputId": "5d4981f6-02ce-40ec-b1d7-0e30a5d90b40"
      },
      "outputs": [
        {
          "output_type": "stream",
          "name": "stdout",
          "text": [
            "Evaluation \t Proposed point \t  Current eval. \t  Best eval. \t        Exact EI: StdDev. x \t Approx EI: StdDev. x \n",
            "init\t [7.73226546 2.68343887]\t 12.768724532005583\t 12.768724532005583\t    \t    \n",
            "init\t [-4.18455179  5.42307669]\t 95.39334176626551\t 12.768724532005583\t    \t    \n",
            "init\t [-0.86898607  7.95000337]\t 16.419487782111716\t 12.768724532005583\t    \t    \n",
            "init\t [-0.41121626  4.56711539]\t 23.250362743740954\t 12.768724532005583\t    \t    \n",
            "init\t [-3.32388086  3.74848521]\t 80.99796277938532\t 12.768724532005583\t    \t    \n",
            "1  \t [ 6.5655417  11.87699252]\t 134.95011349993544\t 12.768724532005583\t 5.229098297114108\t 4.888615086638568\n",
            "2  \t [-4.77493765 13.49591113]\t 19.896906503438096\t 12.768724532005583\t 5.302274617094189\t 5.918363841144785\n",
            "3  \t [ 0.49796424 15.        ]\t 113.70338119340991\t 12.768724532005583\t 5.459485089686377\t 5.76103591727659\n",
            "\u001b[1m\u001b[92m4\u001b[0m\t \u001b[1m\u001b[92m[2.54642543 0.        ]\u001b[0m\t \u001b[1m\u001b[92m9.80463140869968\u001b[0m\t \u001b[1m\u001b[92m9.80463140869968\u001b[0m\t \u001b[1m\u001b[92m5.338712404111577\u001b[0m\t \u001b[1m\u001b[92m5.240627049502242\u001b[0m\n",
            "5  \t [10.          7.39595132]\t 21.241543205800212\t 9.80463140869968\t 6.056513020198034\t 5.697842871923117\n",
            "6  \t [4.44282611 6.68468361]\t 34.54244557040569\t 9.80463140869968\t 5.118670720198839\t 5.1663868526271\n",
            "7  \t [ 2.13172298 10.67417165]\t 60.84038439852989\t 9.80463140869968\t 4.459101582580647\t 4.375722752972074\n",
            "8  \t [-5.  0.]\t 308.12909601160663\t 9.80463140869968\t 6.0213795164197546\t 5.732220415151121\n",
            "9  \t [10. 15.]\t 145.87219087939556\t 9.80463140869968\t 4.686147637627971\t 5.109412157604834\n",
            "10 \t [10.  0.]\t 10.960889035651505\t 9.80463140869968\t 5.068675750820754\t 5.139985072948835\n",
            "11 \t [-5.         9.6212445]\t 69.9698582553293\t 9.80463140869968\t 4.879432657139515\t 5.37551859725296\n",
            "\u001b[1m\u001b[92m12\u001b[0m\t \u001b[1m\u001b[92m[4.01903385 2.97615726]\u001b[0m\t \u001b[1m\u001b[92m5.516826281851307\u001b[0m\t \u001b[1m\u001b[92m5.516826281851307\u001b[0m\t \u001b[1m\u001b[92m4.8940466126338125\u001b[0m\t \u001b[1m\u001b[92m4.530169806335974\u001b[0m\n",
            "13 \t [-0.72963575  0.        ]\t 69.43084355306345\t 5.516826281851307\t 5.838610225767567\t 5.763291655487093\n",
            "14 \t [-1.65292414 11.5874192 ]\t 15.991832062245319\t 5.516826281851307\t 4.961497225952892\t 4.823696891228974\n",
            "15 \t [ 4.40551847 15.        ]\t 189.46583594879016\t 5.516826281851307\t 4.525435007247348\t 4.541732670859164\n",
            "16 \t [10.         10.71701357]\t 61.44981555682288\t 5.516826281851307\t 5.789354848730756\t 5.988632887607521\n",
            "17 \t [7.52064661 5.59246573]\t 31.24896666138876\t 5.516826281851307\t 4.973581555411623\t 5.07706220407687\n",
            "18 \t [5.91855951 0.        ]\t 20.193126192884872\t 5.516826281851307\t 5.014935964078073\t 5.1745206011252\n",
            "\u001b[1m\u001b[92m19\u001b[0m\t \u001b[1m\u001b[92m[10.          3.77600747]\u001b[0m\t \u001b[1m\u001b[92m2.540748306469494\u001b[0m\t \u001b[1m\u001b[92m2.540748306469494\u001b[0m\t \u001b[1m\u001b[92m4.835422980971864\u001b[0m\t \u001b[1m\u001b[92m4.913006261590243\u001b[0m\n",
            "20 \t [7.0295672  8.52918441]\t 70.82902168297252\t 2.540748306469494\t 4.631040495412391\t 4.618927646581255\n"
          ]
        }
      ],
      "source": [
        "### ESTIMATED GP EI GRADIENTS\n",
        "\n",
        "np.random.seed(run_num_15)\n",
        "surrogate_approx_15 = dGaussianProcess(cov_func, optimize=opt)\n",
        "\n",
        "approx_15 = GPGO_multi(surrogate_approx_15, Acquisition_grad(util), objfunc, param)\n",
        "approx_15.run(init_evals=n_init, max_iter=iters)\n"
      ]
    },
    {
      "cell_type": "code",
      "execution_count": 28,
      "metadata": {
        "id": "bGGkhp-kGCw6",
        "colab": {
          "base_uri": "https://localhost:8080/"
        },
        "outputId": "dc9c5e66-e1b0-474f-8afb-c872ee62047a"
      },
      "outputs": [
        {
          "output_type": "stream",
          "name": "stdout",
          "text": [
            "Evaluation \t Proposed point \t  Current eval. \t  Best eval. \t        Exact EI: StdDev. x \t Approx EI: StdDev. x \n",
            "init\t [-1.65063381  7.84745012]\t 10.514702126319445\t 2.715864006988424\t    \t    \n",
            "init\t [3.26052185 0.68402925]\t 2.715864006988424\t 2.715864006988424\t    \t    \n",
            "init\t [0.41093253 3.34621413]\t 22.889515127492515\t 2.715864006988424\t    \t    \n",
            "init\t [5.33089243 2.45597138]\t 17.178157611778595\t 2.715864006988424\t    \t    \n",
            "init\t [-3.945127  14.1151629]\t 3.3649224341694195\t 2.715864006988424\t    \t    \n",
            "1  \t [ 5.63879248 14.58068289]\t 198.51319639462758\t 2.715864006988424\t 5.410561144923152\t 5.5393645132027105\n",
            "2  \t [-5.  0.]\t 308.12909601160663\t 2.715864006988424\t 5.833148349613304\t 5.332073435864266\n",
            "3  \t [10.          6.89294188]\t 17.075126079597375\t 2.715864006988424\t 5.107621792212889\t 5.625509914789926\n",
            "4  \t [4.39618564 8.73847518]\t 59.41064575104704\t 2.715864006988424\t 4.711075657443834\t 5.490587793588523\n",
            "5  \t [10.  0.]\t 10.960889035651505\t 2.715864006988424\t 5.496664876539179\t 5.71684148081366\n",
            "6  \t [ 0.47694759 12.54063358]\t 71.38825446452496\t 2.715864006988424\t 5.9457039779302425\t 6.003375606020769\n",
            "7  \t [10.        11.7216726]\t 77.95914933684139\t 2.715864006988424\t 4.498916343996333\t 4.3786238901139045\n",
            "8  \t [-5.          5.15163905]\t 157.5823323405111\t 2.715864006988424\t 4.880542969319283\t 5.091858797072342\n",
            "9  \t [-5.         10.32880508]\t 59.76353019728204\t 2.715864006988424\t 4.749594904477014\t 4.808423257626305\n",
            "\u001b[1m\u001b[92m10\u001b[0m\t \u001b[1m\u001b[92m[9.02814753 3.39907118]\u001b[0m\t \u001b[1m\u001b[92m2.6767422843383724\u001b[0m\t \u001b[1m\u001b[92m2.6767422843383724\u001b[0m\t \u001b[1m\u001b[92m5.105762943884973\u001b[0m\t \u001b[1m\u001b[92m5.067558648280436\u001b[0m\n",
            "11 \t [-0.50698227  0.        ]\t 65.181154085164\t 2.6767422843383724\t 4.987975129662641\t 5.001280152133723\n",
            "12 \t [6.68809992 5.66328445]\t 39.33943680407833\t 2.6767422843383724\t 4.615872371712703\t 4.621935660583313\n",
            "13 \t [1.38966219 6.63408262]\t 18.470666224892078\t 2.6767422843383724\t 4.449005053923436\t 4.177713570574738\n",
            "14 \t [10. 15.]\t 145.87219087939556\t 2.6767422843383724\t 4.715565630881484\t 4.949727323424325\n",
            "15 \t [6.99028512 0.        ]\t 18.709200978558123\t 2.6767422843383724\t 4.83370756531007\t 4.633383505803332\n",
            "16 \t [ 6.74979102 10.93392854]\t 114.43834941296062\t 2.6767422843383724\t 4.555723183845676\t 4.48730961909887\n",
            "17 \t [-1.85048059 15.        ]\t 38.849527628732176\t 2.6767422843383724\t 5.5467236535524105\t 5.792224070695982\n",
            "18 \t [3.43977559 4.60960111]\t 7.352986162861664\t 2.6767422843383724\t 5.141460198839945\t 5.559770156972506\n",
            "19 \t [0.84333555 9.35690729]\t 37.61182432133397\t 2.6767422843383724\t 4.419338191317912\t 4.93494448852424\n",
            "20 \t [-5. 15.]\t 17.508299515778166\t 2.6767422843383724\t 5.674515397905099\t 5.673142743365273\n"
          ]
        }
      ],
      "source": [
        "### ESTIMATED GP EI GRADIENTS\n",
        "\n",
        "np.random.seed(run_num_16)\n",
        "surrogate_approx_16 = dGaussianProcess(cov_func, optimize=opt)\n",
        "\n",
        "approx_16 = GPGO_multi(surrogate_approx_16, Acquisition_grad(util), objfunc, param)\n",
        "approx_16.run(init_evals=n_init, max_iter=iters)\n"
      ]
    },
    {
      "cell_type": "code",
      "execution_count": 29,
      "metadata": {
        "id": "Yrs2mp7hGC1Z",
        "colab": {
          "base_uri": "https://localhost:8080/"
        },
        "outputId": "cdb6bc1e-0b74-4ce8-e47b-e5bd17801e00"
      },
      "outputs": [
        {
          "output_type": "stream",
          "name": "stdout",
          "text": [
            "Evaluation \t Proposed point \t  Current eval. \t  Best eval. \t        Exact EI: StdDev. x \t Approx EI: StdDev. x \n",
            "init\t [-0.58002496  7.95880133]\t 19.016141117164256\t 19.016141117164256\t    \t    \n",
            "init\t [-2.1271882   1.01850537]\t 85.05949339404415\t 19.016141117164256\t    \t    \n",
            "init\t [6.8047819  9.84500283]\t 93.89792695202516\t 19.016141117164256\t    \t    \n",
            "init\t [4.56281344 8.63404341]\t 60.50217141122736\t 19.016141117164256\t    \t    \n",
            "init\t [-4.41405626  5.36720407]\t 110.70834086593878\t 19.016141117164256\t    \t    \n",
            "\u001b[1m\u001b[92m1\u001b[0m\t \u001b[1m\u001b[92m[9.76575296 0.98553483]\u001b[0m\t \u001b[1m\u001b[92m4.1623278326263815\u001b[0m\t \u001b[1m\u001b[92m4.1623278326263815\u001b[0m\t \u001b[1m\u001b[92m6.2106230096475326\u001b[0m\t \u001b[1m\u001b[92m6.393209536511405\u001b[0m\n",
            "2  \t [-0.36591853 14.49945231]\t 81.3728947682288\t 4.1623278326263815\t 5.216215013912565\t 5.116096090716837\n",
            "\u001b[1m\u001b[92m3\u001b[0m\t \u001b[1m\u001b[92m[3.74599703 2.35814314]\u001b[0m\t \u001b[1m\u001b[92m2.3563457989420957\u001b[0m\t \u001b[1m\u001b[92m2.3563457989420957\u001b[0m\t \u001b[1m\u001b[92m4.735952348940336\u001b[0m\t \u001b[1m\u001b[92m4.797045298621163\u001b[0m\n",
            "4  \t [10.         14.64047493]\t 137.3749734857216\t 2.3563457989420957\t 5.785721789142651\t 5.806814569147859\n",
            "5  \t [-5.         11.17254624]\t 48.901739454240335\t 2.3563457989420957\t 4.960439172041696\t 5.335837841206296\n",
            "6  \t [10.          5.64911382]\t 8.945288664712486\t 2.3563457989420957\t 5.174525201765891\t 5.370572445148982\n",
            "7  \t [6.38337401 4.48264796]\t 30.96594034590401\t 2.3563457989420957\t 5.16394874173035\t 4.879025560811392\n",
            "8  \t [ 4.75286539 15.        ]\t 196.60670240471507\t 2.3563457989420957\t 5.630706843136439\t 6.0526263284880875\n",
            "9  \t [6.21395509 0.        ]\t 20.785627814968688\t 2.3563457989420957\t 5.308477629835428\t 5.793294137238538\n",
            "10 \t [0.97396909 4.29283067]\t 15.474763140563262\t 2.3563457989420957\t 4.678289534343029\t 4.8136120502332265\n",
            "11 \t [-5. 15.]\t 17.508299515778166\t 2.3563457989420957\t 5.550482256397164\t 5.7624263629814525\n",
            "12 \t [1.92214782 0.        ]\t 18.378666976002595\t 2.3563457989420957\t 5.734113053734484\t 5.292939409997336\n",
            "13 \t [ 1.56751431 11.08048912]\t 62.70784598805213\t 2.3563457989420957\t 4.809937421381736\t 4.731111398369805\n",
            "14 \t [10.          8.61631707]\t 33.45295633416969\t 2.3563457989420957\t 4.572747492459556\t 4.760449926124024\n",
            "15 \t [-1.80123787 10.97763708]\t 10.668804924177268\t 2.3563457989420957\t 5.15805312964076\t 5.034258460267495\n",
            "\u001b[1m\u001b[92m16\u001b[0m\t \u001b[1m\u001b[92m[10.         3.1118565]\u001b[0m\t \u001b[1m\u001b[92m1.9549998505953337\u001b[0m\t \u001b[1m\u001b[92m1.9549998505953337\u001b[0m\t \u001b[1m\u001b[92m4.717486394133319\u001b[0m\t \u001b[1m\u001b[92m4.339480337725838\u001b[0m\n",
            "17 \t [-5.  0.]\t 308.12909601160663\t 1.9549998505953337\t 4.01556715472056\t 4.06774406176314\n",
            "18 \t [3.40862861 5.51709271]\t 12.579596730278633\t 1.9549998505953337\t 4.92920443410441\t 4.96344320996562\n",
            "19 \t [-3.38792473  8.54999543]\t 19.391970200630084\t 1.9549998505953337\t 5.058299343714232\t 5.317712328176565\n",
            "20 \t [10.         11.38717809]\t 72.23831050098983\t 1.9549998505953337\t 4.884173220814343\t 4.9359884004005945\n"
          ]
        }
      ],
      "source": [
        "### ESTIMATED GP EI GRADIENTS\n",
        "\n",
        "np.random.seed(run_num_17)\n",
        "surrogate_approx_17 = dGaussianProcess(cov_func, optimize=opt)\n",
        "\n",
        "approx_17 = GPGO_multi(surrogate_approx_17, Acquisition_grad(util), objfunc, param)\n",
        "approx_17.run(init_evals=n_init, max_iter=iters)\n"
      ]
    },
    {
      "cell_type": "code",
      "execution_count": 30,
      "metadata": {
        "id": "f0HIEP3PIUEa",
        "colab": {
          "base_uri": "https://localhost:8080/"
        },
        "outputId": "b342a85c-9d20-461e-e4e3-34b5ddb4c8e6"
      },
      "outputs": [
        {
          "output_type": "stream",
          "name": "stdout",
          "text": [
            "Evaluation \t Proposed point \t  Current eval. \t  Best eval. \t        Exact EI: StdDev. x \t Approx EI: StdDev. x \n",
            "init\t [4.75561363 7.58180061]\t 49.215059064668324\t 8.150075223157177\t    \t    \n",
            "init\t [8.17902206 2.72760338]\t 8.150075223157177\t 8.150075223157177\t    \t    \n",
            "init\t [ 7.78349603 11.25204429]\t 106.98107856533271\t 8.150075223157177\t    \t    \n",
            "init\t [ 4.99152501 14.81843172]\t 196.08601750690153\t 8.150075223157177\t    \t    \n",
            "init\t [-1.14547366  0.42458888]\t 71.23649635555944\t 8.150075223157177\t    \t    \n",
            "1  \t [-4.83474958 11.77354131]\t 35.58412906267954\t 8.150075223157177\t 5.057184276951297\t 5.155761413869055\n",
            "2  \t [-1.52279001  7.08877197]\t 13.132009770155712\t 8.150075223157177\t 5.075507459560602\t 5.118697565376318\n",
            "3  \t [-0.55604441 11.73326175]\t 41.2757576629176\t 8.150075223157177\t 4.728921886827038\t 4.554579853559862\n",
            "\u001b[1m\u001b[92m4\u001b[0m\t \u001b[1m\u001b[92m[4.16804461 0.        ]\u001b[0m\t \u001b[1m\u001b[92m7.6215763252273785\u001b[0m\t \u001b[1m\u001b[92m7.6215763252273785\u001b[0m\t \u001b[1m\u001b[92m5.3590564366275055\u001b[0m\t \u001b[1m\u001b[92m5.873456273471432\u001b[0m\n",
            "\u001b[1m\u001b[92m5\u001b[0m\t \u001b[1m\u001b[92m[3.25546602 4.08596317]\u001b[0m\t \u001b[1m\u001b[92m4.062833948519026\u001b[0m\t \u001b[1m\u001b[92m4.062833948519026\u001b[0m\t \u001b[1m\u001b[92m4.700719769430469\u001b[0m\t \u001b[1m\u001b[92m4.246227066787328\u001b[0m\n",
            "6  \t [-5.          3.80741266]\t 191.7467438493914\t 4.062833948519026\t 5.068197522858279\t 5.166646185306828\n",
            "7  \t [10.          6.76719847]\t 16.112657452293355\t 4.062833948519026\t 5.6141573700409975\t 5.38769346473096\n",
            "8  \t [10. 15.]\t 145.87219087939556\t 4.062833948519026\t 4.719342197774221\t 4.636035886025832\n",
            "9  \t [-5.         8.0401738]\t 96.39476941127032\t 4.062833948519026\t 5.658740744033787\t 5.803323817213927\n",
            "10 \t [-2.70104046 15.        ]\t 15.442404305291006\t 4.062833948519026\t 5.426771122688255\t 5.6116256439664065\n",
            "11 \t [10.  0.]\t 10.960889035651505\t 4.062833948519026\t 5.3698767385436925\t 5.519149365349718\n",
            "12 \t [ 3.15937716 11.02324971]\t 77.1734213319969\t 4.062833948519026\t 4.973307421763364\t 4.936764365698856\n",
            "13 \t [0.17527129 4.13301725]\t 21.989460130064828\t 4.062833948519026\t 4.495494767550154\t 4.191040608767832\n",
            "14 \t [ 0.89747147 15.        ]\t 122.57930846540103\t 4.062833948519026\t 4.398655780936944\t 4.53107000334111\n",
            "15 \t [1.8144647  8.16050005]\t 29.055468250913368\t 4.062833948519026\t 5.060218707665255\t 4.825652168034931\n",
            "16 \t [6.95529378 0.        ]\t 18.905565777378833\t 4.062833948519026\t 4.532113417238832\t 4.6089937700506605\n",
            "17 \t [5.87446242 4.21122034]\t 28.4376126850338\t 4.062833948519026\t 5.911050036523071\t 5.981191300276644\n",
            "18 \t [-5.  0.]\t 308.12909601160663\t 4.062833948519026\t 4.141210017482893\t 4.467719247864881\n",
            "\u001b[1m\u001b[92m19\u001b[0m\t \u001b[1m\u001b[92m[10.          3.95542078]\u001b[0m\t \u001b[1m\u001b[92m2.8503286687197944\u001b[0m\t \u001b[1m\u001b[92m2.8503286687197944\u001b[0m\t \u001b[1m\u001b[92m4.366612338127504\u001b[0m\t \u001b[1m\u001b[92m5.039202757830969\u001b[0m\n",
            "20 \t [2.21705575 1.67476443]\t 6.267236416699044\t 2.8503286687197944\t 5.104690360894618\t 5.092621643277161\n"
          ]
        }
      ],
      "source": [
        "### ESTIMATED GP EI GRADIENTS\n",
        "\n",
        "np.random.seed(run_num_18)\n",
        "surrogate_approx_18 = dGaussianProcess(cov_func, optimize=opt)\n",
        "\n",
        "approx_18 = GPGO_multi(surrogate_approx_18, Acquisition_grad(util), objfunc, param)\n",
        "approx_18.run(init_evals=n_init, max_iter=iters)\n"
      ]
    },
    {
      "cell_type": "code",
      "execution_count": 31,
      "metadata": {
        "id": "S3mxRQDLIUPC",
        "colab": {
          "base_uri": "https://localhost:8080/"
        },
        "outputId": "f6b5137f-93a3-490c-f0ad-999a178e476a"
      },
      "outputs": [
        {
          "output_type": "stream",
          "name": "stdout",
          "text": [
            "Evaluation \t Proposed point \t  Current eval. \t  Best eval. \t        Exact EI: StdDev. x \t Approx EI: StdDev. x \n",
            "init\t [-3.53699597 11.41874575]\t 4.475608269502271\t 4.475608269502271\t    \t    \n",
            "init\t [-1.2959304   2.07197531]\t 51.13947793770689\t 4.475608269502271\t    \t    \n",
            "init\t [-0.02830155  1.24499348]\t 42.63973921760034\t 4.475608269502271\t    \t    \n",
            "init\t [ 5.07965622 12.09890697]\t 131.17235664506808\t 4.475608269502271\t    \t    \n",
            "init\t [9.74112872 9.53491102]\t 46.84458913925112\t 4.475608269502271\t    \t    \n",
            "\u001b[1m\u001b[92m1\u001b[0m\t \u001b[1m\u001b[92m[9.57054653 2.03489665]\u001b[0m\t \u001b[1m\u001b[92m0.8198597583535783\u001b[0m\t \u001b[1m\u001b[92m0.8198597583535783\u001b[0m\t \u001b[1m\u001b[92m5.264363816634271\u001b[0m\t \u001b[1m\u001b[92m5.530288424406532\u001b[0m\n",
            "2  \t [4.44106216 4.73337076]\t 18.012648781142765\t 0.8198597583535783\t 5.588793985197896\t 5.986875118175558\n",
            "3  \t [-5.          6.34886514]\t 130.19672463182678\t 0.8198597583535783\t 4.968572922757579\t 5.491442363046983\n",
            "4  \t [ 0.06568525 15.        ]\t 102.4639295599266\t 0.8198597583535783\t 5.556950733462682\t 5.4694951518564565\n",
            "5  \t [10. 15.]\t 145.87219087939556\t 0.8198597583535783\t 4.756447624137632\t 4.426806815838615\n",
            "6  \t [0.56544303 8.36429717]\t 28.494796019635665\t 0.8198597583535783\t 4.888637784647469\t 4.922812228791078\n",
            "7  \t [5.62740155 0.        ]\t 18.897851732750183\t 0.8198597583535783\t 5.115664101175446\t 5.41371636538457\n",
            "8  \t [-5. 15.]\t 17.508299515778166\t 0.8198597583535783\t 5.181711107721288\t 5.35716769828841\n",
            "9  \t [-5.  0.]\t 308.12909601160663\t 0.8198597583535783\t 5.8692673145716965\t 5.865509944507569\n",
            "10 \t [8.78242317 5.23346858]\t 12.854748193243811\t 0.8198597583535783\t 5.0280801968996025\t 4.537854842819456\n",
            "11 \t [5.96516645 8.00632311]\t 66.77729750419533\t 0.8198597583535783\t 4.499014854990726\t 4.821791038613995\n",
            "12 \t [10.  0.]\t 10.960889035651505\t 0.8198597583535783\t 4.532302658922397\t 4.606535531713833\n",
            "13 \t [1.02585885 4.93026574]\t 15.159740580600072\t 0.8198597583535783\t 5.465981688980132\t 5.480202923704809\n",
            "14 \t [-0.74337534 11.38062434]\t 34.09380957996087\t 0.8198597583535783\t 4.847023489147966\t 4.832044569927351\n",
            "15 \t [7.55956743 2.48515051]\t 14.07242851760267\t 0.8198597583535783\t 4.319088635125271\t 4.40730129192828\n",
            "\u001b[1m\u001b[92m16\u001b[0m\t \u001b[1m\u001b[92m[3.18271847 1.85956919]\u001b[0m\t \u001b[1m\u001b[92m0.5531376803932169\u001b[0m\t \u001b[1m\u001b[92m0.5531376803932169\u001b[0m\t \u001b[1m\u001b[92m4.282255642927842\u001b[0m\t \u001b[1m\u001b[92m4.389045180315129\u001b[0m\n",
            "17 \t [-1.58567379  5.80562231]\t 19.11622290598888\t 0.5531376803932169\t 5.155940487603026\t 5.257131925290942\n",
            "18 \t [-5.          9.94703435]\t 65.14607007162718\t 0.5531376803932169\t 4.825115256089571\t 5.033016458159268\n",
            "19 \t [2.76484912 0.        ]\t 7.764614495932114\t 0.5531376803932169\t 3.953535873517151\t 4.0701625222722555\n",
            "20 \t [ 3.52155139 15.        ]\t 170.1519850708978\t 0.5531376803932169\t 5.158191257753835\t 5.10324830655567\n"
          ]
        }
      ],
      "source": [
        "### ESTIMATED GP EI GRADIENTS\n",
        "\n",
        "np.random.seed(run_num_19)\n",
        "surrogate_approx_19 = dGaussianProcess(cov_func, optimize=opt)\n",
        "\n",
        "approx_19 = GPGO_multi(surrogate_approx_19, Acquisition_grad(util), objfunc, param)\n",
        "approx_19.run(init_evals=n_init, max_iter=iters)\n"
      ]
    },
    {
      "cell_type": "code",
      "execution_count": 32,
      "metadata": {
        "id": "Aawd59dRIUYn",
        "colab": {
          "base_uri": "https://localhost:8080/"
        },
        "outputId": "80a33c62-8a1e-4423-bba4-8575b2cd3466"
      },
      "outputs": [
        {
          "output_type": "stream",
          "name": "stdout",
          "text": [
            "Evaluation \t Proposed point \t  Current eval. \t  Best eval. \t        Exact EI: StdDev. x \t Approx EI: StdDev. x \n",
            "init\t [ 3.82196202 13.46570592]\t 138.5264349938869\t 14.042667401507376\t    \t    \n",
            "init\t [ 8.37296094 12.23756216]\t 115.63178540512689\t 14.042667401507376\t    \t    \n",
            "init\t [-4.46165622 10.37636373]\t 35.66708529307584\t 14.042667401507376\t    \t    \n",
            "init\t [0.68021413 7.77766418]\t 25.307769914281764\t 14.042667401507376\t    \t    \n",
            "init\t [4.86927198 2.90775327]\t 14.042667401507376\t 14.042667401507376\t    \t    \n",
            "1  \t [-0.18872806  0.75508859]\t 50.23281300595461\t 14.042667401507376\t 4.756048162008917\t 5.198976167051431\n",
            "\u001b[1m\u001b[92m2\u001b[0m\t \u001b[1m\u001b[92m[10.          5.90658205]\u001b[0m\t \u001b[1m\u001b[92m10.374181397318237\u001b[0m\t \u001b[1m\u001b[92m10.374181397318237\u001b[0m\t \u001b[1m\u001b[92m4.87336450575376\u001b[0m\t \u001b[1m\u001b[92m5.309945373467859\u001b[0m\n",
            "3  \t [-5.          3.72652377]\t 193.91786501001073\t 10.374181397318237\t 4.9036643774834285\t 5.282941383680906\n",
            "4  \t [-0.52472104 12.8987901 ]\t 54.64829362109232\t 10.374181397318237\t 5.606556539008837\t 6.144747126360307\n",
            "5  \t [5.58671923 7.79017885]\t 61.58422809980737\t 10.374181397318237\t 5.287813878826503\t 5.719911435225256\n",
            "\u001b[1m\u001b[92m6\u001b[0m\t \u001b[1m\u001b[92m[9.89650871 0.38151078]\u001b[0m\t \u001b[1m\u001b[92m7.7977638763661705\u001b[0m\t \u001b[1m\u001b[92m7.7977638763661705\u001b[0m\t \u001b[1m\u001b[92m5.036632516293554\u001b[0m\t \u001b[1m\u001b[92m5.264420917644453\u001b[0m\n",
            "7  \t [-5. 15.]\t 17.508299515778166\t 7.7977638763661705\t 5.92301296825175\t 6.058559270293516\n",
            "8  \t [6.53354928 0.        ]\t 20.548346257933428\t 7.7977638763661705\t 5.129212886961847\t 5.069577289672898\n",
            "9  \t [1.53444463 4.24258158]\t 10.493801006099261\t 7.7977638763661705\t 4.942757350989145\t 5.335050524704024\n",
            "10 \t [-2.76663368  7.11870654]\t 19.32644969448919\t 7.7977638763661705\t 5.002069130816007\t 5.434794391329998\n",
            "11 \t [8.27718829 3.25256812]\t 8.538596645559174\t 7.7977638763661705\t 5.350272355706046\t 5.4324332635783525\n",
            "12 \t [10.          8.88193391]\t 36.50551476474032\t 7.7977638763661705\t 5.371729600706531\t 5.322301218257117\n",
            "13 \t [-3.96707978  0.        ]\t 209.3206341583389\t 7.7977638763661705\t 5.684687635296871\t 5.586894985883107\n",
            "\u001b[1m\u001b[92m14\u001b[0m\t \u001b[1m\u001b[92m[3.22897379 0.        ]\u001b[0m\t \u001b[1m\u001b[92m5.3090859677454745\u001b[0m\t \u001b[1m\u001b[92m5.3090859677454745\u001b[0m\t \u001b[1m\u001b[92m4.835335663231959\u001b[0m\t \u001b[1m\u001b[92m4.820998313910192\u001b[0m\n",
            "15 \t [-1.24306268  4.24493507]\t 28.559997999123603\t 5.3090859677454745\t 4.614413075459233\t 4.734129613233419\n",
            "16 \t [ 2.77039885 10.01912006]\t 56.35845064865315\t 5.3090859677454745\t 4.843550494509969\t 5.028373809711363\n",
            "17 \t [-1.38093625  9.84117817]\t 13.763725524324919\t 5.3090859677454745\t 4.661508619998844\t 4.80305794172415\n",
            "18 \t [3.5195353  5.50712039]\t 13.384487189744805\t 5.3090859677454745\t 5.180016196125768\t 5.204281788167329\n",
            "19 \t [7.03061474 5.08864824]\t 32.19557879785795\t 5.3090859677454745\t 5.483895485018741\t 5.575259425148775\n",
            "20 \t [-2.4625509 15.       ]\t 20.994951242634315\t 5.3090859677454745\t 4.153596546537829\t 4.8919006802957785\n"
          ]
        }
      ],
      "source": [
        "### ESTIMATED GP EI GRADIENTS\n",
        "\n",
        "np.random.seed(run_num_20)\n",
        "surrogate_approx_20 = dGaussianProcess(cov_func, optimize=opt)\n",
        "\n",
        "approx_20 = GPGO_multi(surrogate_approx_20, Acquisition_grad(util), objfunc, param)\n",
        "approx_20.run(init_evals=n_init, max_iter=iters)\n"
      ]
    },
    {
      "cell_type": "code",
      "execution_count": 33,
      "metadata": {
        "id": "xkgzPRbBTHaq",
        "colab": {
          "base_uri": "https://localhost:8080/"
        },
        "outputId": "3839ba22-cbf2-48f8-babc-7762822efc66"
      },
      "outputs": [
        {
          "output_type": "execute_result",
          "data": {
            "text/plain": [
              "1659620877.265699"
            ]
          },
          "metadata": {},
          "execution_count": 33
        }
      ],
      "source": [
        "end_approx = time.time()\n",
        "end_approx\n",
        "\n",
        "time_approx = end_approx - start_approx\n",
        "time_approx\n",
        "\n",
        "start_exact = time.time()\n",
        "start_exact"
      ]
    },
    {
      "cell_type": "code",
      "execution_count": 34,
      "metadata": {
        "id": "7CG3Ndvb16Rb",
        "colab": {
          "base_uri": "https://localhost:8080/"
        },
        "outputId": "99554ef1-cdd2-4d55-83eb-1404f75bdcb2"
      },
      "outputs": [
        {
          "output_type": "stream",
          "name": "stdout",
          "text": [
            "Evaluation \t Proposed point \t  Current eval. \t  Best eval. \t        Exact EI: StdDev. x \t Approx EI: StdDev. x \n",
            "init\t [ 1.25533007 10.8048674 ]\t 56.52874004692151\t 27.68166689936483\t    \t    \n",
            "init\t [-4.99828438  4.53498859]\t 172.66531086516164\t 27.68166689936483\t    \t    \n",
            "init\t [-2.79866164  1.38507892]\t 102.58290348816024\t 27.68166689936483\t    \t    \n",
            "init\t [-2.20609683  5.18341091]\t 28.868064601155666\t 27.68166689936483\t    \t    \n",
            "init\t [0.95151211 8.08225101]\t 27.68166689936483\t 27.68166689936483\t    \t    \n",
            "\u001b[1m\u001b[92m1\u001b[0m\t \u001b[1m\u001b[92m[8.41909995 1.27566317]\u001b[0m\t \u001b[1m\u001b[92m5.089934878453152\u001b[0m\t \u001b[1m\u001b[92m5.089934878453152\u001b[0m\t \u001b[1m\u001b[92m5.024119661816372\u001b[0m\t \u001b[1m\u001b[92m5.448884175378119\u001b[0m\n",
            "2  \t [ 8.98893195 10.45227242]\t 70.52424256621515\t 5.089934878453152\t 5.614397129493898\t 5.837863716490593\n",
            "3  \t [3.24709681 0.02115122]\t 5.173244296289956\t 5.089934878453152\t 5.319599347196216\t 4.8949857735864715\n",
            "4  \t [-4.67712792 14.21955317]\t 13.865244792739254\t 5.089934878453152\t 6.061931265013673\t 6.54256969996361\n",
            "5  \t [ 5.28828699 15.        ]\t 205.7740594331423\t 5.089934878453152\t 4.360191011679411\t 4.2826841198237755\n",
            "6  \t [5.68448723 6.090452  ]\t 42.565414798707565\t 5.089934878453152\t 5.156942148536775\t 5.519615438903843\n",
            "7  \t [-3.81415702  9.67323954]\t 20.77767614983764\t 5.089934878453152\t 5.786607197678524\t 5.960780252785663\n",
            "8  \t [10. 15.]\t 145.87219087939556\t 5.089934878453152\t 5.146805421095319\t 5.054166492799744\n",
            "9  \t [-0.28894486 15.        ]\t 91.95377472918068\t 5.089934878453152\t 5.21182698820842\t 5.3670743239930125\n",
            "10 \t [10.          5.31332201]\t 7.280928959044602\t 5.089934878453152\t 4.45615838254183\t 4.362085657024052\n",
            "\u001b[1m\u001b[92m11\u001b[0m\t \u001b[1m\u001b[92m[2.20595829 3.46545894]\u001b[0m\t \u001b[1m\u001b[92m4.423890368648928\u001b[0m\t \u001b[1m\u001b[92m4.423890368648928\u001b[0m\t \u001b[1m\u001b[92m4.394127032979463\u001b[0m\t \u001b[1m\u001b[92m4.728798645603241\u001b[0m\n",
            "12 \t [5.45503956 2.25954717]\t 17.697449549498952\t 4.423890368648928\t 4.311822601129956\t 4.171177028259008\n",
            "13 \t [5.14202597 9.84655287]\t 88.21181932878149\t 4.423890368648928\t 4.458777133821803\t 4.501198056607848\n",
            "14 \t [0.50195469 0.        ]\t 45.80886498078063\t 4.423890368648928\t 5.161255997363949\t 5.231800672147785\n",
            "15 \t [-1.82801883 11.75457757]\t 13.382275156388781\t 4.423890368648928\t 4.8516939900477665\t 4.903073544812718\n",
            "16 \t [1.90770052 5.4527564 ]\t 10.901461730978797\t 4.423890368648928\t 4.62331174752614\t 4.84725443965996\n",
            "\u001b[1m\u001b[92m17\u001b[0m\t \u001b[1m\u001b[92m[10.          2.78751054]\u001b[0m\t \u001b[1m\u001b[92m1.9895576691576817\u001b[0m\t \u001b[1m\u001b[92m1.9895576691576817\u001b[0m\t \u001b[1m\u001b[92m4.800970059094403\u001b[0m\t \u001b[1m\u001b[92m4.900328246134111\u001b[0m\n",
            "18 \t [8.14521415 3.64536851]\t 11.39715911315373\t 1.9895576691576817\t 5.119279253522574\t 5.360164582614928\n",
            "19 \t [6.47232727 0.        ]\t 20.664393704567026\t 1.9895576691576817\t 5.590113868409192\t 5.717929491521459\n",
            "20 \t [8.52154187 7.31858526]\t 34.30660101428078\t 1.9895576691576817\t 5.541950709747272\t 5.771007854349433\n"
          ]
        }
      ],
      "source": [
        "### EXACT GP EI GRADIENTS\n",
        "\n",
        "np.random.seed(run_num_1)\n",
        "surrogate_exact_1 = dGaussianProcess(cov_func, optimize=opt)\n",
        "\n",
        "exact_1 = dGPGO(surrogate_exact_1, Acquisition_grad(util), objfunc, param)\n",
        "exact_1.run(init_evals=n_init, max_iter=iters)\n"
      ]
    },
    {
      "cell_type": "code",
      "execution_count": 35,
      "metadata": {
        "id": "-ilCPSAu9SAg",
        "colab": {
          "base_uri": "https://localhost:8080/"
        },
        "outputId": "61c9e34f-257b-4c21-ac94-f7ad594966dc"
      },
      "outputs": [
        {
          "output_type": "stream",
          "name": "stdout",
          "text": [
            "Evaluation \t Proposed point \t  Current eval. \t  Best eval. \t        Exact EI: StdDev. x \t Approx EI: StdDev. x \n",
            "init\t [1.53992353 0.38889348]\t 22.31361308916297\t 6.692051508754487\t    \t    \n",
            "init\t [3.24493717 6.52983589]\t 19.233109967858276\t 6.692051508754487\t    \t    \n",
            "init\t [1.30551703 4.95502232]\t 13.177851563387286\t 6.692051508754487\t    \t    \n",
            "init\t [-1.93027049  9.2890645 ]\t 6.692051508754487\t 6.692051508754487\t    \t    \n",
            "init\t [-0.50517989  4.00240913]\t 26.437522758780958\t 6.692051508754487\t    \t    \n",
            "1  \t [ 9.5587047  12.00387527]\t 89.09951357262268\t 6.692051508754487\t 5.772985618646367\t 5.930681052750104\n",
            "\u001b[1m\u001b[92m2\u001b[0m\t \u001b[1m\u001b[92m[9.59366035 1.69164323]\u001b[0m\t \u001b[1m\u001b[92m1.3984593420568778\u001b[0m\t \u001b[1m\u001b[92m1.3984593420568778\u001b[0m\t \u001b[1m\u001b[92m4.9799088241008285\u001b[0m\t \u001b[1m\u001b[92m5.507042230845006\u001b[0m\n",
            "3  \t [ 3.24245232 12.67669673]\t 110.25694222671481\t 1.3984593420568778\t 5.619443017981148\t 6.039865021400427\n",
            "4  \t [-5.  0.]\t 308.12909601160663\t 1.3984593420568778\t 4.882224798385331\t 5.110701318446632\n",
            "5  \t [9.02394693 6.38201831]\t 19.00430028763514\t 1.3984593420568778\t 5.276760188740036\t 5.7442595253783235\n",
            "6  \t [-3.95509114 14.02730345]\t 3.48680055844817\t 1.3984593420568778\t 4.994294617471335\t 5.639419787052207\n",
            "7  \t [6.10821742 0.        ]\t 20.661959366791898\t 1.3984593420568778\t 4.404716741827221\t 4.918920151600742\n",
            "8  \t [-0.52939792 15.        ]\t 84.24209321185434\t 1.3984593420568778\t 5.192251151511941\t 5.267136344355727\n",
            "9  \t [-5.          5.74689705]\t 143.6079459962207\t 1.3984593420568778\t 5.147943078444317\t 5.449338977948849\n",
            "10 \t [6.29613152 3.73513195]\t 26.542942639106734\t 1.3984593420568778\t 4.4794413982996115\t 4.693437209558955\n",
            "11 \t [6.15104183 9.24555519]\t 85.90024718469762\t 1.3984593420568778\t 5.3420228393700855\t 5.153941348471957\n",
            "12 \t [0.99587189 9.48835588]\t 39.67650619445164\t 1.3984593420568778\t 4.470704415954809\t 5.186556695099488\n",
            "13 \t [10.         3.4781198]\t 2.16892072692493\t 1.3984593420568778\t 5.098749276455708\t 5.523723668469071\n",
            "14 \t [-5.         10.71185428]\t 54.655929076061824\t 1.3984593420568778\t 5.805707008960602\t 6.374328154858585\n",
            "15 \t [-1.91684373 11.96023032]\t 12.671470538919952\t 1.3984593420568778\t 5.015810438767936\t 4.978947933217996\n",
            "16 \t [-1.28382847  0.        ]\t 80.8826784532322\t 1.3984593420568778\t 4.735980460604976\t 4.888838446523289\n",
            "17 \t [ 6.80588314 15.        ]\t 210.08895858513765\t 1.3984593420568778\t 4.416663535021594\t 5.536951402730443\n",
            "18 \t [3.56892961 2.50509999]\t 1.552732848461659\t 1.3984593420568778\t 5.29587092055343\t 5.25097028679053\n",
            "19 \t [-1.79335679  7.16267079]\t 12.320078008742804\t 1.3984593420568778\t 5.403978789547145\t 5.2828919425056275\n",
            "20 \t [10.          8.80162357]\t 35.567679199058844\t 1.3984593420568778\t 5.576073513252025\t 5.970979802413873\n"
          ]
        }
      ],
      "source": [
        "### EXACT GP EI GRADIENTS\n",
        "\n",
        "np.random.seed(run_num_2)\n",
        "surrogate_exact_2 = dGaussianProcess(cov_func, optimize=opt)\n",
        "\n",
        "exact_2 = dGPGO(surrogate_exact_2, Acquisition_grad(util), objfunc, param)\n",
        "exact_2.run(init_evals=n_init, max_iter=iters)\n"
      ]
    },
    {
      "cell_type": "code",
      "execution_count": 36,
      "metadata": {
        "id": "XieJ158mIvlP",
        "colab": {
          "base_uri": "https://localhost:8080/"
        },
        "outputId": "ba510874-da0e-44c1-d351-39b6128687c2"
      },
      "outputs": [
        {
          "output_type": "stream",
          "name": "stdout",
          "text": [
            "Evaluation \t Proposed point \t  Current eval. \t  Best eval. \t        Exact EI: StdDev. x \t Approx EI: StdDev. x \n",
            "init\t [ 3.26196854 10.62221734]\t 71.68783452098575\t 18.07886746449891\t    \t    \n",
            "init\t [-0.63642892  7.66241408]\t 18.07886746449891\t 18.07886746449891\t    \t    \n",
            "init\t [ 8.39420432 13.44439633]\t 141.98653529865882\t 18.07886746449891\t    \t    \n",
            "init\t [-3.11622034  3.10864317]\t 83.31045707266176\t 18.07886746449891\t    \t    \n",
            "init\t [-4.22799195  6.61214765]\t 76.5294170688398\t 18.07886746449891\t    \t    \n",
            "1  \t [6.70472147 4.59545299]\t 30.726791812855225\t 18.07886746449891\t 4.319872826546153\t 4.339813657593017\n",
            "\u001b[1m\u001b[92m2\u001b[0m\t \u001b[1m\u001b[92m[-3.89564496 13.38589781]\u001b[0m\t \u001b[1m\u001b[92m3.6010193697779265\u001b[0m\t \u001b[1m\u001b[92m3.6010193697779265\u001b[0m\t \u001b[1m\u001b[92m5.468214607201284\u001b[0m\t \u001b[1m\u001b[92m5.742969020471602\u001b[0m\n",
            "3  \t [ 0.49219244 15.        ]\t 113.5648734358273\t 3.6010193697779265\t 5.599638895038234\t 6.100991404415216\n",
            "4  \t [3.31497689 0.        ]\t 5.137169559364589\t 3.6010193697779265\t 4.237031950366765\t 4.45259519702195\n",
            "5  \t [10.          8.34527826]\t 30.48354136249052\t 3.6010193697779265\t 5.004249133602336\t 5.484025010027688\n",
            "6  \t [9.93677706 0.73582747]\t 6.490866332170537\t 3.6010193697779265\t 4.7728238486551895\t 4.687510175620072\n",
            "7  \t [-0.6195202  11.33294215]\t 36.28496106529289\t 3.6010193697779265\t 4.4836731239038174\t 4.238960836022024\n",
            "8  \t [1.55084112 4.19074992]\t 10.312903587616654\t 3.6010193697779265\t 5.199209904859056\t 5.136034296623501\n",
            "9  \t [-2.53287617  0.2265116 ]\t 115.19315667597515\t 3.6010193697779265\t 4.43326955047697\t 4.183256696790566\n",
            "10 \t [6.62898669 0.        ]\t 20.302607831612985\t 3.6010193697779265\t 4.235758308878211\t 4.3701488472324\n",
            "11 \t [6.30222741 8.37756624]\t 72.55383850865258\t 3.6010193697779265\t 5.228509752200375\t 5.3319472172268805\n",
            "12 \t [ 4.66696535 15.        ]\t 194.90482997646194\t 3.6010193697779265\t 4.622190344502776\t 4.875490114266488\n",
            "13 \t [-5.         10.54206463]\t 56.88370528440957\t 3.6010193697779265\t 5.246151608568989\t 5.168691015752815\n",
            "14 \t [2.36704157 7.23371396]\t 21.43122994218093\t 3.6010193697779265\t 5.381811358553251\t 5.540289356100471\n",
            "15 \t [10.         4.4598571]\t 4.065699703086047\t 3.6010193697779265\t 5.28643880827029\t 6.15799908425847\n",
            "16 \t [0.95569447 1.3506071 ]\t 26.079600235845575\t 3.6010193697779265\t 5.544317856451283\t 5.56922216505393\n",
            "17 \t [3.89541448 3.17590794]\t 5.002590666259948\t 3.6010193697779265\t 5.308780866177423\t 5.131890783180758\n",
            "18 \t [8.49637958 2.48707996]\t 4.714869817448361\t 3.6010193697779265\t 5.075498850112996\t 5.338451706323686\n",
            "19 \t [4.79911922 1.80045791]\t 11.04628051153771\t 3.6010193697779265\t 5.1560465186519835\t 5.011894236848285\n",
            "20 \t [-0.77426771  5.19337229]\t 21.343840345869474\t 3.6010193697779265\t 4.143735033751674\t 3.942999078660958\n"
          ]
        }
      ],
      "source": [
        "### EXACT GP EI GRADIENTS\n",
        "\n",
        "np.random.seed(run_num_3)\n",
        "surrogate_exact_3 = dGaussianProcess(cov_func, optimize=opt)\n",
        "\n",
        "exact_3 = dGPGO(surrogate_exact_3, Acquisition_grad(util), objfunc, param)\n",
        "exact_3.run(init_evals=n_init, max_iter=iters)\n"
      ]
    },
    {
      "cell_type": "code",
      "execution_count": 37,
      "metadata": {
        "id": "PhLBVOIfIvol",
        "colab": {
          "base_uri": "https://localhost:8080/"
        },
        "outputId": "8ce706fd-d6bb-47e7-beeb-ce6fc3af63dd"
      },
      "outputs": [
        {
          "output_type": "stream",
          "name": "stdout",
          "text": [
            "Evaluation \t Proposed point \t  Current eval. \t  Best eval. \t        Exact EI: StdDev. x \t Approx EI: StdDev. x \n",
            "init\t [9.50544759 8.20848374]\t 32.51676744781521\t 7.247126865776948\t    \t    \n",
            "init\t [ 9.5902654  10.72223991]\t 66.20566674364716\t 7.247126865776948\t    \t    \n",
            "init\t [5.46593237 3.24134243]\t 20.90089401680587\t 7.247126865776948\t    \t    \n",
            "init\t [9.64411682 0.09345383]\t 7.247126865776948\t 7.247126865776948\t    \t    \n",
            "init\t [-1.20526456  6.52187299]\t 15.941376982363263\t 7.247126865776948\t    \t    \n",
            "1  \t [ 1.25164457 13.57001383]\t 100.61648848019335\t 7.247126865776948\t 5.245312208905975\t 5.779671792863304\n",
            "2  \t [-4.27198795  1.64727177]\t 188.41076037632916\t 7.247126865776948\t 5.709907985571528\t 5.739207017859388\n",
            "3  \t [1.24680796 0.        ]\t 30.835406601599388\t 7.247126865776948\t 5.129184249146725\t 5.414193387400524\n",
            "4  \t [ 6.62356632 15.        ]\t 211.54458919378212\t 7.247126865776948\t 4.79187004820975\t 5.33664328912155\n",
            "5  \t [-4.73699493 13.33053872]\t 19.892240270122997\t 7.247126865776948\t 5.101819976159066\t 6.22778884498817\n",
            "6  \t [-5.          8.03524818]\t 96.48490483669138\t 7.247126865776948\t 4.603325447088546\t 4.527557606420717\n",
            "7  \t [4.23328895 8.18288921]\t 49.20355213513324\t 7.247126865776948\t 4.3783188825788715\t 4.4153256210456195\n",
            "\u001b[1m\u001b[92m8\u001b[0m\t \u001b[1m\u001b[92m[9.02535142 4.41775683]\u001b[0m\t \u001b[1m\u001b[92m6.257128851106306\u001b[0m\t \u001b[1m\u001b[92m6.257128851106306\u001b[0m\t \u001b[1m\u001b[92m3.9924670809806617\u001b[0m\t \u001b[1m\u001b[92m4.006649033312735\u001b[0m\n",
            "9  \t [-1.92146775 10.86858645]\t 8.47968037948363\t 6.257128851106306\t 5.014363390904273\t 4.858919755657194\n",
            "10 \t [5.1636724 0.       ]\t 15.691426583918854\t 6.257128851106306\t 5.780288334546477\t 5.916839320980295\n",
            "11 \t [1.66288432 4.12232952]\t 9.286484731045467\t 6.257128851106306\t 4.996876034971974\t 5.2366451130664124\n",
            "12 \t [0.59561762 9.84746133]\t 40.507223068709756\t 6.257128851106306\t 4.807020745812573\t 4.940172650763941\n",
            "13 \t [-0.94772975  3.28436387]\t 34.43894115831414\t 6.257128851106306\t 5.049180117018316\t 5.8128299258698775\n",
            "14 \t [ 4.68589558 11.6113786 ]\t 114.45233383195297\t 6.257128851106306\t 4.876792343843822\t 4.741643096696795\n",
            "15 \t [10. 15.]\t 145.87219087939556\t 6.257128851106306\t 4.803766307201115\t 4.633502944250412\n",
            "16 \t [-1.91388197 15.        ]\t 36.80870442793804\t 6.257128851106306\t 5.05928856749884\t 5.185383199073464\n",
            "17 \t [-3.22408271  4.86511071]\t 58.32759744823859\t 6.257128851106306\t 5.402150526504825\t 5.36398424964251\n",
            "18 \t [6.7186221  6.42044578]\t 46.60658891288536\t 6.257128851106306\t 4.4697603016126735\t 4.601570228766013\n",
            "19 \t [8.23619301 1.86318179]\t 6.462047954580447\t 6.257128851106306\t 5.1419168962849\t 5.2622754716733535\n",
            "\u001b[1m\u001b[92m20\u001b[0m\t \u001b[1m\u001b[92m[2.67437637 2.53019316]\u001b[0m\t \u001b[1m\u001b[92m1.4458589997135203\u001b[0m\t \u001b[1m\u001b[92m1.4458589997135203\u001b[0m\t \u001b[1m\u001b[92m4.8256844918846555\u001b[0m\t \u001b[1m\u001b[92m4.808429963666361\u001b[0m\n"
          ]
        }
      ],
      "source": [
        "### EXACT GP EI GRADIENTS\n",
        "\n",
        "np.random.seed(run_num_4)\n",
        "surrogate_exact_4 = dGaussianProcess(cov_func, optimize=opt)\n",
        "\n",
        "exact_4 = dGPGO(surrogate_exact_4, Acquisition_grad(util), objfunc, param)\n",
        "exact_4.run(init_evals=n_init, max_iter=iters)\n"
      ]
    },
    {
      "cell_type": "code",
      "execution_count": 38,
      "metadata": {
        "id": "arbiPyj2IvsJ",
        "colab": {
          "base_uri": "https://localhost:8080/"
        },
        "outputId": "7a604ee6-a4cb-4f4b-e72d-d69de2afdf1f"
      },
      "outputs": [
        {
          "output_type": "stream",
          "name": "stdout",
          "text": [
            "Evaluation \t Proposed point \t  Current eval. \t  Best eval. \t        Exact EI: StdDev. x \t Approx EI: StdDev. x \n",
            "init\t [-1.67010243 13.06098459]\t 25.390690545664548\t 25.311309190989615\t    \t    \n",
            "init\t [-1.89921267 13.77916362]\t 25.311309190989615\t 25.311309190989615\t    \t    \n",
            "init\t [2.32616783 9.17615794]\t 41.60147975414021\t 25.311309190989615\t    \t    \n",
            "init\t [6.48861785 7.77626982]\t 63.81281921768236\t 25.311309190989615\t    \t    \n",
            "init\t [-0.54799248  2.81581843]\t 34.966203644931994\t 25.311309190989615\t    \t    \n",
            "\u001b[1m\u001b[92m1\u001b[0m\t \u001b[1m\u001b[92m[8.84124421 0.03321319]\u001b[0m\t \u001b[1m\u001b[92m5.96108856337545\u001b[0m\t \u001b[1m\u001b[92m5.96108856337545\u001b[0m\t \u001b[1m\u001b[92m5.948183689630253\u001b[0m\t \u001b[1m\u001b[92m6.0486277841254426\u001b[0m\n",
            "2  \t [ 8.39476442 14.47736321]\t 167.21523769473345\t 5.96108856337545\t 5.749478620670972\t 5.384390780641253\n",
            "3  \t [-5.          8.50731558]\t 88.06692538826472\t 5.96108856337545\t 5.282482843937836\t 5.422031909351116\n",
            "4  \t [-5.  0.]\t 308.12909601160663\t 5.96108856337545\t 5.125813475204832\t 5.573332613754421\n",
            "5  \t [4.68269035 2.64603605]\t 11.31779144014903\t 5.96108856337545\t 4.887184362685607\t 5.1287832668649\n",
            "6  \t [ 3.03229916 15.        ]\t 160.17986849640116\t 5.96108856337545\t 5.466207811952167\t 5.748101487685947\n",
            "\u001b[1m\u001b[92m7\u001b[0m\t \u001b[1m\u001b[92m[10.          4.33968607]\u001b[0m\t \u001b[1m\u001b[92m3.7299863204283366\u001b[0m\t \u001b[1m\u001b[92m3.7299863204283366\u001b[0m\t \u001b[1m\u001b[92m4.117304594676447\u001b[0m\t \u001b[1m\u001b[92m4.487006341980283\u001b[0m\n",
            "8  \t [-1.19617761  7.56956282]\t 13.783001649930567\t 3.7299863204283366\t 4.558031886634856\t 4.421688921606737\n",
            "9  \t [10.        10.1798307]\t 53.45066238084503\t 3.7299863204283366\t 4.8616544121513785\t 4.87676178314306\n",
            "10 \t [-5.          4.41014881]\t 175.98087898480938\t 3.7299863204283366\t 5.520559255098481\t 5.9189406088249426\n",
            "11 \t [1.98335614 0.        ]\t 17.38295944488382\t 3.7299863204283366\t 4.420646094272399\t 4.4543146103604\n",
            "12 \t [-5.         12.41096768]\t 35.537678769674024\t 3.7299863204283366\t 5.107713283519485\t 5.398717157339738\n",
            "13 \t [2.309834   5.39008025]\t 9.182618476742036\t 3.7299863204283366\t 4.8406251115430186\t 4.845223376679968\n",
            "14 \t [-1.35035272  0.        ]\t 82.40306629847964\t 3.7299863204283366\t 4.69149541838166\t 4.752697805604609\n",
            "15 \t [ 6.72025666 11.05679399]\t 117.07022441470544\t 3.7299863204283366\t 4.708486636066626\t 4.763589675231014\n",
            "16 \t [7.54361305 3.60368616]\t 18.032645206797653\t 3.7299863204283366\t 4.693850199211674\t 4.6877058973155075\n",
            "17 \t [10.          6.77805233]\t 16.194488427683186\t 3.7299863204283366\t 4.197464953852885\t 4.41770255193554\n",
            "18 \t [ 0.77973082 12.24527003]\t 71.70223533673263\t 3.7299863204283366\t 4.911437968535191\t 4.7985753012448855\n",
            "\u001b[1m\u001b[92m19\u001b[0m\t \u001b[1m\u001b[92m[-2.65597849 10.67708855]\u001b[0m\t \u001b[1m\u001b[92m1.7208265991945755\u001b[0m\t \u001b[1m\u001b[92m1.7208265991945755\u001b[0m\t \u001b[1m\u001b[92m4.732085748045711\u001b[0m\t \u001b[1m\u001b[92m5.228917792820762\u001b[0m\n",
            "20 \t [5.87412081 0.        ]\t 20.038859308291798\t 1.7208265991945755\t 4.653573012285696\t 4.758571895152496\n"
          ]
        }
      ],
      "source": [
        "### EXACT GP EI GRADIENTS\n",
        "\n",
        "np.random.seed(run_num_5)\n",
        "surrogate_exact_5 = dGaussianProcess(cov_func, optimize=opt)\n",
        "\n",
        "exact_5 = dGPGO(surrogate_exact_5, Acquisition_grad(util), objfunc, param)\n",
        "exact_5.run(init_evals=n_init, max_iter=iters)\n"
      ]
    },
    {
      "cell_type": "code",
      "execution_count": 39,
      "metadata": {
        "id": "04KJCEm_Ivvf",
        "colab": {
          "base_uri": "https://localhost:8080/"
        },
        "outputId": "02aef8d2-fee2-41ff-ebd5-f9060919fecb"
      },
      "outputs": [
        {
          "output_type": "stream",
          "name": "stdout",
          "text": [
            "Evaluation \t Proposed point \t  Current eval. \t  Best eval. \t        Exact EI: StdDev. x \t Approx EI: StdDev. x \n",
            "init\t [8.39290227 4.97969708]\t 15.553860636684597\t 15.31731051317483\t    \t    \n",
            "init\t [7.31843685 0.62544939]\t 15.31731051317483\t 15.31731051317483\t    \t    \n",
            "init\t [-3.3851498   8.92578096]\t 16.222288919361837\t 15.31731051317483\t    \t    \n",
            "init\t [2.94726043 6.28211143]\t 15.406373581304088\t 15.31731051317483\t    \t    \n",
            "init\t [0.03111774 9.33779148]\t 31.07053245856209\t 15.31731051317483\t    \t    \n",
            "1  \t [ 9.64829531 12.55362889]\t 98.32295673962142\t 15.31731051317483\t 5.157173025716337\t 5.689267794405934\n",
            "2  \t [-1.22578785  0.62063252]\t 69.8637190838968\t 15.31731051317483\t 5.7216382806261725\t 6.527979283900396\n",
            "3  \t [ 1.3395746  14.83539323]\t 127.45307783921733\t 15.31731051317483\t 5.597058130481164\t 6.600995008910992\n",
            "4  \t [-5.          4.21567906]\t 180.98825955860133\t 15.31731051317483\t 5.757202760095788\t 7.001816355625583\n",
            "5  \t [ 4.82185171 10.81025099]\t 100.93632097217323\t 15.31731051317483\t 5.4446129766157725\t 5.94886058400813\n",
            "\u001b[1m\u001b[92m6\u001b[0m\t \u001b[1m\u001b[92m[-3.4990027  13.45496615]\u001b[0m\t \u001b[1m\u001b[92m1.0974162749042282\u001b[0m\t \u001b[1m\u001b[92m1.0974162749042282\u001b[0m\t \u001b[1m\u001b[92m5.1577607775372645\u001b[0m\t \u001b[1m\u001b[92m5.246768730382566\u001b[0m\n",
            "7  \t [3.23889405 0.70631865]\t 2.6754106017511115\t 1.0974162749042282\t 5.996107145025477\t 6.223478811660525\n",
            "8  \t [ 5.97912759 15.        ]\t 212.30870276210814\t 1.0974162749042282\t 5.230179714367552\t 5.389801726497043\n",
            "9  \t [8.34883414 8.35730852]\t 49.534038736142236\t 1.0974162749042282\t 4.622836069525781\t 4.687596089720044\n",
            "10 \t [-2.21942625  5.40496174]\t 26.892331361844676\t 1.0974162749042282\t 5.063447927857349\t 4.89856627915538\n",
            "11 \t [4.20035488 3.37428137]\t 8.464378677935738\t 1.0974162749042282\t 5.450506490083603\t 5.676645944464469\n",
            "12 \t [-5.  0.]\t 308.12909601160663\t 1.0974162749042282\t 5.664406254464226\t 5.40755678165217\n",
            "13 \t [-0.87068685 12.31324987]\t 39.51144463993649\t 1.0974162749042282\t 5.104881329495373\t 5.050102396482068\n",
            "14 \t [1.0236397  3.55073207]\t 15.908507754981796\t 1.0974162749042282\t 4.832836519470203\t 4.743932385038633\n",
            "15 \t [-5.         11.92114602]\t 40.45676468894391\t 1.0974162749042282\t 5.496238487064255\t 6.194132450403385\n",
            "\u001b[1m\u001b[92m16\u001b[0m\t \u001b[1m\u001b[92m[9.73321    2.69423766]\u001b[0m\t \u001b[1m\u001b[92m0.8538365738479072\u001b[0m\t \u001b[1m\u001b[92m0.8538365738479072\u001b[0m\t \u001b[1m\u001b[92m4.835807359580811\u001b[0m\t \u001b[1m\u001b[92m5.168378010529173\u001b[0m\n",
            "17 \t [4.69809732 0.        ]\t 11.750984882957855\t 0.8538365738479072\t 5.31661109693875\t 5.61980649292287\n",
            "18 \t [5.83842016 5.46405697]\t 37.613584630458405\t 0.8538365738479072\t 5.05092933056661\t 5.107212937196246\n",
            "19 \t [-3.50933351 15.        ]\t 4.365968792912589\t 0.8538365738479072\t 6.120351470660483\t 6.590940713888887\n",
            "20 \t [9.7275565  2.88311544]\t 0.8545162706160028\t 0.8538365738479072\t 5.512562425926731\t 5.4625868290304505\n"
          ]
        }
      ],
      "source": [
        "### EXACT GP EI GRADIENTS\n",
        "\n",
        "np.random.seed(run_num_6)\n",
        "surrogate_exact_6 = dGaussianProcess(cov_func, optimize=opt)\n",
        "\n",
        "exact_6 = dGPGO(surrogate_exact_6, Acquisition_grad(util), objfunc, param)\n",
        "exact_6.run(init_evals=n_init, max_iter=iters)\n"
      ]
    },
    {
      "cell_type": "code",
      "execution_count": 40,
      "metadata": {
        "id": "tAOkme3CIvyO",
        "colab": {
          "base_uri": "https://localhost:8080/"
        },
        "outputId": "fe6be2ee-604b-41ba-8126-ba3b3fa5a03b"
      },
      "outputs": [
        {
          "output_type": "stream",
          "name": "stdout",
          "text": [
            "Evaluation \t Proposed point \t  Current eval. \t  Best eval. \t        Exact EI: StdDev. x \t Approx EI: StdDev. x \n",
            "init\t [-3.85537566 11.69878188]\t 8.299317850233932\t 5.211335324193094\t    \t    \n",
            "init\t [ 1.57613847 10.85197767]\t 59.50408380701259\t 5.211335324193094\t    \t    \n",
            "init\t [9.66984268 8.07743806]\t 29.714921414987273\t 5.211335324193094\t    \t    \n",
            "init\t [2.51680695 1.080767  ]\t 5.211335324193094\t 5.211335324193094\t    \t    \n",
            "init\t [-0.9734153   7.49823751]\t 15.431057204948033\t 5.211335324193094\t    \t    \n",
            "1  \t [-4.97859679  1.38393519]\t 260.3293952774437\t 5.211335324193094\t 4.218238789465274\t 4.244972226016435\n",
            "2  \t [ 7.42679792 14.12713902]\t 178.37635728719692\t 5.211335324193094\t 5.62388440549628\t 5.711002173363323\n",
            "3  \t [8.08940775 0.35854539]\t 9.249625108410735\t 5.211335324193094\t 5.360195792803128\t 5.647811409707666\n",
            "4  \t [-3.39684884  5.54228873]\t 54.79871094423047\t 5.211335324193094\t 4.515431540467075\t 4.488354410810848\n",
            "5  \t [4.94544954 5.5071879 ]\t 30.014161847547594\t 5.211335324193094\t 5.039720038817176\t 5.406797594551564\n",
            "6  \t [-0.82354444 15.        ]\t 74.31125853225242\t 5.211335324193094\t 5.941782002113737\t 6.581015703445586\n",
            "\u001b[1m\u001b[92m7\u001b[0m\t \u001b[1m\u001b[92m[10.          3.82267853]\u001b[0m\t \u001b[1m\u001b[92m2.615084703275878\u001b[0m\t \u001b[1m\u001b[92m2.615084703275878\u001b[0m\t \u001b[1m\u001b[92m4.878943723833807\u001b[0m\t \u001b[1m\u001b[92m5.048969942785637\u001b[0m\n",
            "8  \t [0.41578037 4.08275839]\t 20.416899017503518\t 2.615084703275878\t 5.409033339217121\t 5.818913281948617\n",
            "9  \t [-0.81528439  0.        ]\t 71.0988792898282\t 2.615084703275878\t 5.574718272899476\t 6.125369630888985\n",
            "10 \t [5.65977331 9.92202418]\t 95.0891813332579\t 2.615084703275878\t 5.176582895855235\t 5.357415025007113\n",
            "11 \t [5.38372711 1.39077826]\t 16.01902331528769\t 2.615084703275878\t 4.6262987844110555\t 5.089476227968764\n",
            "12 \t [-4.98229363 14.89324408]\t 17.591808856439044\t 2.615084703275878\t 5.2277732046884475\t 5.691862060191091\n",
            "13 \t [10.         11.67100202]\t 77.07815195790475\t 2.615084703275878\t 4.283524303927733\t 4.502206869090253\n",
            "14 \t [2.23150369 7.18295044]\t 20.84542249983378\t 2.615084703275878\t 4.6269440011238805\t 5.254807269000916\n",
            "15 \t [ 3.29534001 15.        ]\t 165.4242021890356\t 2.615084703275878\t 5.543902511042914\t 5.776106159841602\n",
            "16 \t [8.03417665 5.73696844]\t 25.79463246995277\t 2.615084703275878\t 5.374819513197265\t 5.197575730394822\n",
            "17 \t [-5.          8.65734926]\t 85.48483742812796\t 2.615084703275878\t 3.9979364077269213\t 4.739536388547843\n",
            "\u001b[1m\u001b[92m18\u001b[0m\t \u001b[1m\u001b[92m[3.19912787 3.1497985 ]\u001b[0m\t \u001b[1m\u001b[92m1.2587785285412991\u001b[0m\t \u001b[1m\u001b[92m1.2587785285412991\u001b[0m\t \u001b[1m\u001b[92m4.897533317639956\u001b[0m\t \u001b[1m\u001b[92m4.99581298943011\u001b[0m\n",
            "19 \t [-1.59794127 11.39902639]\t 16.119867447672302\t 1.2587785285412991\t 5.049032362614302\t 5.180513930433549\n",
            "20 \t [10.         1.8862291]\t 3.1902209750140624\t 1.2587785285412991\t 4.490633848931321\t 4.6968867646546\n"
          ]
        }
      ],
      "source": [
        "### EXACT GP EI GRADIENTS\n",
        "\n",
        "np.random.seed(run_num_7)\n",
        "surrogate_exact_7 = dGaussianProcess(cov_func, optimize=opt)\n",
        "\n",
        "exact_7 = dGPGO(surrogate_exact_7, Acquisition_grad(util), objfunc, param)\n",
        "exact_7.run(init_evals=n_init, max_iter=iters)\n"
      ]
    },
    {
      "cell_type": "code",
      "execution_count": 41,
      "metadata": {
        "id": "69-J3EF4Iv1S",
        "colab": {
          "base_uri": "https://localhost:8080/"
        },
        "outputId": "3bc3a44f-d24d-44eb-dda6-e68bc763e9de"
      },
      "outputs": [
        {
          "output_type": "stream",
          "name": "stdout",
          "text": [
            "Evaluation \t Proposed point \t  Current eval. \t  Best eval. \t        Exact EI: StdDev. x \t Approx EI: StdDev. x \n",
            "init\t [ 8.10144104 14.52810994]\t 175.17297136347514\t 15.416245468470875\t    \t    \n",
            "init\t [8.0379181  7.96283537]\t 49.32173799887473\t 15.416245468470875\t    \t    \n",
            "init\t [-1.50907508  0.17098206]\t 83.26753461673219\t 15.416245468470875\t    \t    \n",
            "init\t [1.45703227 6.0352704 ]\t 15.416245468470875\t 15.416245468470875\t    \t    \n",
            "init\t [2.84012007 7.17587694]\t 22.49093277852639\t 15.416245468470875\t    \t    \n",
            "\u001b[1m\u001b[92m1\u001b[0m\t \u001b[1m\u001b[92m[9.77124156 0.43098073]\u001b[0m\t \u001b[1m\u001b[92m6.499298445992174\u001b[0m\t \u001b[1m\u001b[92m6.499298445992174\u001b[0m\t \u001b[1m\u001b[92m5.08071803891309\u001b[0m\t \u001b[1m\u001b[92m5.609058862398624\u001b[0m\n",
            "2  \t [-4.87537438 11.82874897]\t 36.57081146531108\t 6.499298445992174\t 5.301343306569386\t 5.5138088881522425\n",
            "3  \t [ 0.45081738 13.94638662]\t 93.25142611098795\t 6.499298445992174\t 4.9887099462715065\t 5.690985281087296\n",
            "4  \t [4.47251591 0.866383  ]\t 8.078155973488538\t 6.499298445992174\t 5.266370388166795\t 5.410309806033254\n",
            "5  \t [-4.06875054  6.05187677]\t 77.55161170327132\t 6.499298445992174\t 4.957848160655365\t 5.384903125086395\n",
            "6  \t [-1.07541354  9.60963765]\t 17.62235362551366\t 6.499298445992174\t 4.877905489442827\t 5.100316847046667\n",
            "7  \t [ 4.66367209 11.11979984]\t 104.25439279342791\t 6.499298445992174\t 5.0161907345522225\t 5.088256245585906\n",
            "8  \t [7.41184625 3.61717364]\t 19.475477310242354\t 6.499298445992174\t 4.9798620943094\t 4.996017888810808\n",
            "9  \t [1.15417919 2.89031937]\t 15.973236463891121\t 6.499298445992174\t 4.145865647519381\t 4.264853532363493\n",
            "10 \t [-4.98803444  1.24288722]\t 265.74116183756587\t 6.499298445992174\t 5.812240168675374\t 5.950879050394311\n",
            "11 \t [ 4.14432739 15.        ]\t 183.78087339910962\t 6.499298445992174\t 5.223308403951025\t 5.123203953011319\n",
            "12 \t [ 1.35087848 10.59290154]\t 54.43764639419132\t 6.499298445992174\t 4.496117724741767\t 4.380305252544255\n",
            "13 \t [4.35471987 3.82379628]\t 11.950236751154993\t 6.499298445992174\t 4.672530413138719\t 4.917453511421489\n",
            "\u001b[1m\u001b[92m14\u001b[0m\t \u001b[1m\u001b[92m[-3.40174572 15.        ]\u001b[0m\t \u001b[1m\u001b[92m5.0934687541721155\u001b[0m\t \u001b[1m\u001b[92m5.0934687541721155\u001b[0m\t \u001b[1m\u001b[92m5.451221070021519\u001b[0m\t \u001b[1m\u001b[92m5.791529926732194\u001b[0m\n",
            "15 \t [7.09340796 0.        ]\t 18.084632591119856\t 5.0934687541721155\t 4.514364055880066\t 4.711215472381987\n",
            "16 \t [10.         11.02646334]\t 66.3198009259072\t 5.0934687541721155\t 4.0831904891461415\t 4.394616181371933\n",
            "17 \t [10.          5.48301729]\t 8.093841641334354\t 5.0934687541721155\t 5.50445530321192\t 5.7543264092790105\n",
            "\u001b[1m\u001b[92m18\u001b[0m\t \u001b[1m\u001b[92m[10.          2.81715921]\u001b[0m\t \u001b[1m\u001b[92m1.9776613337857079\u001b[0m\t \u001b[1m\u001b[92m1.9776613337857079\u001b[0m\t \u001b[1m\u001b[92m5.597988559282746\u001b[0m\t \u001b[1m\u001b[92m5.45819463050061\u001b[0m\n",
            "19 \t [1.83318844e+00 2.97660841e-18]\t 19.87524031936838\t 1.9776613337857079\t 4.275847940567206\t 4.3606858040128\n",
            "20 \t [-0.97283901  6.83170099]\t 16.10928521204263\t 1.9776613337857079\t 4.214013693883664\t 4.317759096542606\n"
          ]
        }
      ],
      "source": [
        "### EXACT GP EI GRADIENTS\n",
        "\n",
        "np.random.seed(run_num_8)\n",
        "surrogate_exact_8 = dGaussianProcess(cov_func, optimize=opt)\n",
        "\n",
        "exact_8 = dGPGO(surrogate_exact_8, Acquisition_grad(util), objfunc, param)\n",
        "exact_8.run(init_evals=n_init, max_iter=iters)\n"
      ]
    },
    {
      "cell_type": "code",
      "execution_count": 42,
      "metadata": {
        "id": "vonm9jyuIv4t",
        "colab": {
          "base_uri": "https://localhost:8080/"
        },
        "outputId": "5124be12-0c78-4d9e-aa88-7365dc2646df"
      },
      "outputs": [
        {
          "output_type": "stream",
          "name": "stdout",
          "text": [
            "Evaluation \t Proposed point \t  Current eval. \t  Best eval. \t        Exact EI: StdDev. x \t Approx EI: StdDev. x \n",
            "init\t [-4.84438769  7.52811888]\t 96.15564306553264\t 3.4640248583909496\t    \t    \n",
            "init\t [2.4365994  2.00744293]\t 3.4640248583909496\t 3.4640248583909496\t    \t    \n",
            "init\t [-2.86833372  3.27838013]\t 70.46930174488207\t 3.4640248583909496\t    \t    \n",
            "init\t [1.27762271 3.72151753]\t 12.982825924833865\t 3.4640248583909496\t    \t    \n",
            "init\t [-3.73910523  5.1824796 ]\t 75.58547400560856\t 3.4640248583909496\t    \t    \n",
            "1  \t [ 7.05609655 14.75038872]\t 200.4388688685465\t 3.4640248583909496\t 5.560611967332576\t 5.684402554204693\n",
            "2  \t [-0.46054038 14.56197292]\t 79.4666617606301\t 3.4640248583909496\t 5.192641788307269\t 4.908297246913737\n",
            "3  \t [8.28747407 1.2035024 ]\t 6.196385269800155\t 3.4640248583909496\t 4.870718318091647\t 4.684391875627888\n",
            "4  \t [4.00818884 9.58112639]\t 65.95553030943105\t 3.4640248583909496\t 5.2082206288114135\t 4.914757552051944\n",
            "5  \t [10.          7.36889848]\t 21.004589149340347\t 3.4640248583909496\t 5.217349479454739\t 5.043147801377161\n",
            "6  \t [6.12749834 4.72723949]\t 32.65608244198498\t 3.4640248583909496\t 5.005836063890732\t 5.317074353776708\n",
            "7  \t [-0.4808683   9.13001502]\t 23.964544433750902\t 3.4640248583909496\t 5.160708857803785\t 5.6463142841165475\n",
            "8  \t [-0.31392797  0.        ]\t 61.54371115276555\t 3.4640248583909496\t 4.6972900080493085\t 5.299435491293272\n",
            "9  \t [10.         11.36476855]\t 71.8630396479476\t 3.4640248583909496\t 5.189093697867227\t 5.727186151253231\n",
            "10 \t [4.86893462 0.        ]\t 13.221965999904889\t 3.4640248583909496\t 4.111119557621612\t 4.573149062235315\n",
            "11 \t [-5.         12.67015985]\t 33.12885243260634\t 3.4640248583909496\t 5.4358406199277\t 5.894184651913018\n",
            "12 \t [-5.  0.]\t 308.12909601160663\t 3.4640248583909496\t 5.374269570163849\t 4.731847521136791\n",
            "13 \t [ 3.1701245  14.75050555]\t 156.59308127815763\t 3.4640248583909496\t 4.582835052524164\t 4.6257492536614295\n",
            "\u001b[1m\u001b[92m14\u001b[0m\t \u001b[1m\u001b[92m[9.56260129 4.13137922]\u001b[0m\t \u001b[1m\u001b[92m2.8533646447146195\u001b[0m\t \u001b[1m\u001b[92m2.8533646447146195\u001b[0m\t \u001b[1m\u001b[92m4.183093314262209\u001b[0m\t \u001b[1m\u001b[92m4.167322356278677\u001b[0m\n",
            "15 \t [3.27807164 5.86280817]\t 14.116830881896266\t 2.8533646447146195\t 4.851703498506599\t 4.816788994685553\n",
            "16 \t [7.27580604 8.74916126]\t 71.35182284977571\t 2.8533646447146195\t 5.341346631895573\t 5.302716390194395\n",
            "17 \t [-0.27550593  6.15628205]\t 19.32526160975053\t 2.8533646447146195\t 5.446633011059333\t 5.494377323673579\n",
            "18 \t [-2.34571897 11.75460368]\t 4.9990611969732885\t 2.8533646447146195\t 5.305859715127285\t 5.831112831326521\n",
            "19 \t [ 1.24841408 11.55646842]\t 66.947792105816\t 2.8533646447146195\t 4.107672972638944\t 5.057372809108703\n",
            "\u001b[1m\u001b[92m20\u001b[0m\t \u001b[1m\u001b[92m[10.          2.48694864]\u001b[0m\t \u001b[1m\u001b[92m2.209404885743255\u001b[0m\t \u001b[1m\u001b[92m2.209404885743255\u001b[0m\t \u001b[1m\u001b[92m4.8959661742299625\u001b[0m\t \u001b[1m\u001b[92m5.14329300706963\u001b[0m\n"
          ]
        }
      ],
      "source": [
        "### EXACT GP EI GRADIENTS\n",
        "\n",
        "np.random.seed(run_num_9)\n",
        "surrogate_exact_9 = dGaussianProcess(cov_func, optimize=opt)\n",
        "\n",
        "exact_9 = dGPGO(surrogate_exact_9, Acquisition_grad(util), objfunc, param)\n",
        "exact_9.run(init_evals=n_init, max_iter=iters)\n"
      ]
    },
    {
      "cell_type": "code",
      "execution_count": 43,
      "metadata": {
        "id": "6amuYlUdIv7r",
        "colab": {
          "base_uri": "https://localhost:8080/"
        },
        "outputId": "04b55c1b-baa6-4805-9a63-05ff893ebaf2"
      },
      "outputs": [
        {
          "output_type": "stream",
          "name": "stdout",
          "text": [
            "Evaluation \t Proposed point \t  Current eval. \t  Best eval. \t        Exact EI: StdDev. x \t Approx EI: StdDev. x \n",
            "init\t [6.56980965 0.31127924]\t 19.863985024602144\t 2.710610964564512\t    \t    \n",
            "init\t [ 4.50472352 11.23205824]\t 103.66999147252169\t 2.710610964564512\t    \t    \n",
            "init\t [2.47760518 3.37194968]\t 2.710610964564512\t 2.710610964564512\t    \t    \n",
            "init\t [-2.02905703 11.40796068]\t 8.463930835255017\t 2.710610964564512\t    \t    \n",
            "init\t [-2.46333745  1.32509721]\t 90.49481266026973\t 2.710610964564512\t    \t    \n",
            "1  \t [ 9.16391068 14.81438212]\t 158.2412724465548\t 2.710610964564512\t 4.640275832564628\t 4.85471248254164\n",
            "2  \t [9.65621089 6.61160737]\t 16.1339423373336\t 2.710610964564512\t 4.478646410962929\t 4.742455524474485\n",
            "3  \t [-3.43070383  6.59407857]\t 41.58407101130534\t 2.710610964564512\t 4.522319955366268\t 4.612620045670789\n",
            "4  \t [ 0.88935901 15.        ]\t 122.4121928003227\t 2.710610964564512\t 5.4727984622340395\t 5.646797550884301\n",
            "5  \t [5.26536588 6.20072713]\t 40.03620701930768\t 2.710610964564512\t 5.671002314426542\t 5.702380773140737\n",
            "6  \t [1.92213987 0.        ]\t 18.37879825106846\t 2.710610964564512\t 5.2178214586445995\t 5.210904165978974\n",
            "7  \t [1.01053924 7.61607154]\t 24.665989186486094\t 2.710610964564512\t 4.678981436849713\t 5.492568733772889\n",
            "8  \t [-5.         10.21830808]\t 61.2914393258614\t 2.710610964564512\t 5.348462382929646\t 5.639938589071926\n",
            "9  \t [8.66639002 3.24709157]\t 4.818313385776877\t 2.710610964564512\t 5.067715534725681\t 5.722759690730263\n",
            "10 \t [ 9.65909394 10.45045292]\t 61.044209445884725\t 2.710610964564512\t 5.3322151731126075\t 5.460947033965495\n",
            "11 \t [-0.11813422  4.32819926]\t 23.00081768658695\t 2.710610964564512\t 4.320136931234756\t 4.536693636497892\n",
            "12 \t [-2.81079911 14.03406775]\t 7.369599263057522\t 2.710610964564512\t 5.057193066857981\t 5.832469324102154\n",
            "13 \t [-5.          3.68736668]\t 194.97357280690673\t 2.710610964564512\t 4.798724839092771\t 5.316145049010967\n",
            "14 \t [ 5.07149261 15.        ]\t 202.40679295701207\t 2.710610964564512\t 4.638778331653029\t 5.458746208275323\n",
            "15 \t [ 0.65270233 11.25448685]\t 56.544238300787555\t 2.710610964564512\t 5.604242846421887\t 5.7346638237743655\n",
            "16 \t [4.22496607 3.13230536]\t 7.90708389899906\t 2.710610964564512\t 5.598311552116825\t 5.678720487094517\n",
            "17 \t [-5.  0.]\t 308.12909601160663\t 2.710610964564512\t 5.384087753222172\t 5.407391494239537\n",
            "18 \t [7.47449495 8.16356843]\t 60.37420468929715\t 2.710610964564512\t 3.8441934980948607\t 3.912151448658618\n",
            "19 \t [-1.60357815  8.90766039]\t 9.685824227051759\t 2.710610964564512\t 3.8292134696301505\t 3.9802479346107837\n",
            "\u001b[1m\u001b[92m20\u001b[0m\t \u001b[1m\u001b[92m[8.74931877 1.75530217]\u001b[0m\t \u001b[1m\u001b[92m2.5499481461498386\u001b[0m\t \u001b[1m\u001b[92m2.5499481461498386\u001b[0m\t \u001b[1m\u001b[92m5.203510128358224\u001b[0m\t \u001b[1m\u001b[92m5.2560002493609215\u001b[0m\n"
          ]
        }
      ],
      "source": [
        "### EXACT GP EI GRADIENTS\n",
        "\n",
        "np.random.seed(run_num_10)\n",
        "surrogate_exact_10 = dGaussianProcess(cov_func, optimize=opt)\n",
        "\n",
        "exact_10 = dGPGO(surrogate_exact_10, Acquisition_grad(util), objfunc, param)\n",
        "exact_10.run(init_evals=n_init, max_iter=iters)\n"
      ]
    },
    {
      "cell_type": "code",
      "execution_count": 44,
      "metadata": {
        "id": "VwbLIP9cIv-F",
        "colab": {
          "base_uri": "https://localhost:8080/"
        },
        "outputId": "10730ef7-9b27-4a91-ab77-b7ec0b7cce31"
      },
      "outputs": [
        {
          "output_type": "stream",
          "name": "stdout",
          "text": [
            "Evaluation \t Proposed point \t  Current eval. \t  Best eval. \t        Exact EI: StdDev. x \t Approx EI: StdDev. x \n",
            "init\t [-2.29595467  0.29212862]\t 104.49282729548965\t 22.37435843952312\t    \t    \n",
            "init\t [ 1.9482779  10.87400894]\t 62.47758067812407\t 22.37435843952312\t    \t    \n",
            "init\t [1.30305407 7.28140647]\t 22.37435843952312\t 22.37435843952312\t    \t    \n",
            "init\t [-4.80828778  7.31057411]\t 97.94503054415523\t 22.37435843952312\t    \t    \n",
            "init\t [ 9.12709979 12.76192634]\t 111.62900800771942\t 22.37435843952312\t    \t    \n",
            "\u001b[1m\u001b[92m1\u001b[0m\t \u001b[1m\u001b[92m[6.94653631 0.95529646]\u001b[0m\t \u001b[1m\u001b[92m17.615403152614682\u001b[0m\t \u001b[1m\u001b[92m17.615403152614682\u001b[0m\t \u001b[1m\u001b[92m4.664336634742871\u001b[0m\t \u001b[1m\u001b[92m4.7277614894283575\u001b[0m\n",
            "\u001b[1m\u001b[92m2\u001b[0m\t \u001b[1m\u001b[92m[9.18257738 6.04096973]\u001b[0m\t \u001b[1m\u001b[92m14.836006875517853\u001b[0m\t \u001b[1m\u001b[92m14.836006875517853\u001b[0m\t \u001b[1m\u001b[92m4.430379443281257\u001b[0m\t \u001b[1m\u001b[92m5.37772792986339\u001b[0m\n",
            "\u001b[1m\u001b[92m3\u001b[0m\t \u001b[1m\u001b[92m[2.57274635 0.        ]\u001b[0m\t \u001b[1m\u001b[92m9.529930973982662\u001b[0m\t \u001b[1m\u001b[92m9.529930973982662\u001b[0m\t \u001b[1m\u001b[92m5.335355604046608\u001b[0m\t \u001b[1m\u001b[92m5.788580200470712\u001b[0m\n",
            "4  \t [6.00460921 9.21015297]\t 84.98773163386197\t 9.529930973982662\t 3.9716403865577443\t 4.368938769582523\n",
            "5  \t [ 4.56481756 15.        ]\t 192.82106325520704\t 9.529930973982662\t 4.864980608477392\t 5.235140847576637\n",
            "\u001b[1m\u001b[92m6\u001b[0m\t \u001b[1m\u001b[92m[-2.55282032 11.48893614]\u001b[0m\t \u001b[1m\u001b[92m2.355851786361387\u001b[0m\t \u001b[1m\u001b[92m2.355851786361387\u001b[0m\t \u001b[1m\u001b[92m4.917064777128129\u001b[0m\t \u001b[1m\u001b[92m5.28065761956942\u001b[0m\n",
            "7  \t [-0.17856056 14.6938284 ]\t 90.10223500036446\t 2.355851786361387\t 5.165251082231057\t 5.496917439526647\n",
            "8  \t [4.98150475 4.49910886]\t 22.93206870691391\t 2.355851786361387\t 4.703214253420864\t 4.644529876396244\n",
            "9  \t [0.35411845 3.60553491]\t 22.417985420590657\t 2.355851786361387\t 4.931419490036561\t 5.266026093193219\n",
            "10 \t [-5.         11.10474342]\t 49.72197927526792\t 2.355851786361387\t 5.203645644195877\t 6.671593304003534\n",
            "\u001b[1m\u001b[92m11\u001b[0m\t \u001b[1m\u001b[92m[10.          2.60885792]\u001b[0m\t \u001b[1m\u001b[92m2.0984544353776142\u001b[0m\t \u001b[1m\u001b[92m2.0984544353776142\u001b[0m\t \u001b[1m\u001b[92m5.58967570138582\u001b[0m\t \u001b[1m\u001b[92m6.0385164172223496\u001b[0m\n",
            "12 \t [-3.93034229 14.58689661]\t 3.345952665427367\t 2.0984544353776142\t 5.391072350435887\t 5.817501169795143\n",
            "13 \t [-3.67846269  3.72242941]\t 99.36381932774619\t 2.0984544353776142\t 5.507779326051343\t 5.42084058001024\n",
            "14 \t [9.6504002  9.27928699]\t 44.29890300478732\t 2.0984544353776142\t 5.282834580049\t 5.273006045456599\n",
            "15 \t [-1.47451292  9.21418425]\t 11.26714025987707\t 2.0984544353776142\t 5.271514611197227\t 4.621437994214856\n",
            "16 \t [8.05899975 3.55094938]\t 11.993474519446421\t 2.0984544353776142\t 5.546456940622915\t 5.135893720953244\n",
            "17 \t [-1.42176738  6.34606861]\t 16.168866953280066\t 2.0984544353776142\t 4.129463911146832\t 4.667930551728639\n",
            "18 \t [4.44287258 1.40854061]\t 7.448245934603296\t 2.0984544353776142\t 4.766889244356146\t 5.367007281909567\n",
            "19 \t [-1.33026405 11.65190507]\t 23.217833506409043\t 2.0984544353776142\t 4.865636984941275\t 5.354598109131326\n",
            "\u001b[1m\u001b[92m20\u001b[0m\t \u001b[1m\u001b[92m[9.54178163 1.51942402]\u001b[0m\t \u001b[1m\u001b[92m1.5787577809316495\u001b[0m\t \u001b[1m\u001b[92m1.5787577809316495\u001b[0m\t \u001b[1m\u001b[92m5.542070586589082\u001b[0m\t \u001b[1m\u001b[92m5.368444727110686\u001b[0m\n"
          ]
        }
      ],
      "source": [
        "### EXACT GP EI GRADIENTS\n",
        "\n",
        "np.random.seed(run_num_11)\n",
        "surrogate_exact_11 = dGaussianProcess(cov_func, optimize=opt)\n",
        "\n",
        "exact_11 = dGPGO(surrogate_exact_11, Acquisition_grad(util), objfunc, param)\n",
        "exact_11.run(init_evals=n_init, max_iter=iters)\n"
      ]
    },
    {
      "cell_type": "code",
      "execution_count": 45,
      "metadata": {
        "id": "MlUNFjc-JTBY",
        "colab": {
          "base_uri": "https://localhost:8080/"
        },
        "outputId": "d29b7a7c-52f6-4b00-a7d8-c0545dd9750a"
      },
      "outputs": [
        {
          "output_type": "stream",
          "name": "stdout",
          "text": [
            "Evaluation \t Proposed point \t  Current eval. \t  Best eval. \t        Exact EI: StdDev. x \t Approx EI: StdDev. x \n",
            "init\t [-2.68755736 11.10074545]\t 1.3827702760021356\t 0.5499315281120278\t    \t    \n",
            "init\t [-1.05027477  8.0060909 ]\t 14.81231853080056\t 0.5499315281120278\t    \t    \n",
            "init\t [-4.78137556 13.78120512]\t 18.401131000214548\t 0.5499315281120278\t    \t    \n",
            "init\t [8.51072281 0.50132141]\t 5.855172364344769\t 0.5499315281120278\t    \t    \n",
            "init\t [9.35424004 2.05813982]\t 0.5499315281120278\t 0.5499315281120278\t    \t    \n",
            "1  \t [10.          4.30416863]\t 3.636293400304428\t 0.5499315281120278\t 4.81045063367269\t 4.248269942946071\n",
            "2  \t [ 9.19833734 12.85785838]\t 112.3096138370831\t 0.5499315281120278\t 4.990703655979911\t 4.448044711008259\n",
            "3  \t [-4.8799499   0.15657603]\t 290.0404981832191\t 0.5499315281120278\t 5.370774739253261\t 5.008660403252024\n",
            "4  \t [1.89159848 0.57192205]\t 15.265125065800465\t 0.5499315281120278\t 4.380025858707267\t 4.259318414291637\n",
            "5  \t [ 0.90630086 15.        ]\t 122.76062232846587\t 0.5499315281120278\t 4.8289058542017145\t 4.769404913283852\n",
            "6  \t [5.12931711 8.56003383]\t 67.54059008909404\t 0.5499315281120278\t 5.493458052673787\t 5.197946579854174\n",
            "7  \t [-5.          5.52173819]\t 148.8104858093234\t 0.5499315281120278\t 5.200097593843569\t 5.112317698893317\n",
            "8  \t [9.89973767 8.26181859]\t 30.15858706623289\t 0.5499315281120278\t 5.490525131449252\t 4.980492115309678\n",
            "9  \t [5.3711041 3.6471751]\t 21.972142678374716\t 0.5499315281120278\t 4.152203216257991\t 3.7311789820873824\n",
            "10 \t [ 1.0975917  10.91270085]\t 56.677348483015344\t 0.5499315281120278\t 5.348453905672212\t 4.999202292545685\n",
            "11 \t [1.62502615 4.29265053]\t 9.768785933920945\t 0.5499315281120278\t 5.398750273159368\t 5.495303798755676\n",
            "12 \t [ 5.30353031 14.57708987]\t 194.4906108937172\t 0.5499315281120278\t 4.472315909703841\t 4.907885149451197\n",
            "13 \t [-5.          9.75464779]\t 67.96896529781029\t 0.5499315281120278\t 4.060671219805441\t 4.585362683109389\n",
            "14 \t [-1.49813353  2.93113609]\t 43.680986001062564\t 0.5499315281120278\t 5.035022261389345\t 5.018807294170706\n",
            "15 \t [5.35281414 0.        ]\t 17.135223483959912\t 0.5499315281120278\t 4.766698760950164\t 4.912144142475531\n",
            "16 \t [-2.18048368 13.40127771]\t 15.502362687957127\t 0.5499315281120278\t 5.052063519185922\t 4.6901751369476985\n",
            "17 \t [8.16055712 4.87103455]\t 17.703413008644127\t 0.5499315281120278\t 5.268696361710848\t 5.014750760847361\n",
            "18 \t [1.87550812 7.20048732]\t 21.039855805356773\t 0.5499315281120278\t 6.144701459694467\t 5.641825961273462\n",
            "19 \t [-1.28941592e+00  8.61136440e-18]\t 81.00880459524187\t 0.5499315281120278\t 5.063435697257383\t 5.110949595371458\n",
            "20 \t [8.6086809  2.39288741]\t 3.6925379571576524\t 0.5499315281120278\t 4.14542379366917\t 4.201650284084833\n"
          ]
        }
      ],
      "source": [
        "### EXACT GP EI GRADIENTS\n",
        "\n",
        "np.random.seed(run_num_12)\n",
        "surrogate_exact_12 = dGaussianProcess(cov_func, optimize=opt)\n",
        "\n",
        "exact_12 = dGPGO(surrogate_exact_12, Acquisition_grad(util), objfunc, param)\n",
        "exact_12.run(init_evals=n_init, max_iter=iters)\n"
      ]
    },
    {
      "cell_type": "code",
      "execution_count": 46,
      "metadata": {
        "id": "9BsKdU9eJTFL",
        "colab": {
          "base_uri": "https://localhost:8080/"
        },
        "outputId": "261c41b9-c6d3-4968-f03c-941024372298"
      },
      "outputs": [
        {
          "output_type": "stream",
          "name": "stdout",
          "text": [
            "Evaluation \t Proposed point \t  Current eval. \t  Best eval. \t        Exact EI: StdDev. x \t Approx EI: StdDev. x \n",
            "init\t [6.66553616 3.5631183 ]\t 24.823670200298267\t 18.038943061558626\t    \t    \n",
            "init\t [ 7.36417799 14.48623797]\t 188.7803334745195\t 18.038943061558626\t    \t    \n",
            "init\t [9.58901671 6.80173871]\t 18.038943061558626\t 18.038943061558626\t    \t    \n",
            "init\t [ 4.13563694 11.63289772]\t 104.87319703906111\t 18.038943061558626\t    \t    \n",
            "init\t [ 4.62420017 10.83027344]\t 98.03271225790056\t 18.038943061558626\t    \t    \n",
            "1  \t [-3.51870171  3.68338658]\t 91.63196166423945\t 18.038943061558626\t 5.375628511615252\t 5.409772224917\n",
            "\u001b[1m\u001b[92m2\u001b[0m\t \u001b[1m\u001b[92m[-3.06562888 11.40851515]\u001b[0m\t \u001b[1m\u001b[92m0.8943531028899869\u001b[0m\t \u001b[1m\u001b[92m0.8943531028899869\u001b[0m\t \u001b[1m\u001b[92m4.66272995057891\u001b[0m\t \u001b[1m\u001b[92m4.563640555712185\u001b[0m\n",
            "3  \t [2.22555486 0.        ]\t 13.748879685908804\t 0.8943531028899869\t 5.356184381872098\t 5.594340251511384\n",
            "4  \t [1.45066852 6.21135436]\t 16.205579709602702\t 0.8943531028899869\t 5.5439210984147165\t 5.944817764581863\n",
            "5  \t [-0.02228696 13.86809438]\t 80.94871489112535\t 0.8943531028899869\t 4.846254879734471\t 5.663767967528674\n",
            "6  \t [-5.          8.23487072]\t 92.87081848692483\t 0.8943531028899869\t 4.972106705396418\t 5.620717179943787\n",
            "7  \t [-4.02680902 13.16145731]\t 5.722083744228451\t 0.8943531028899869\t 5.507136860129554\t 5.994286342141361\n",
            "8  \t [10.         10.91369438]\t 64.52291284160813\t 0.8943531028899869\t 5.0393265650998185\t 4.758652221078816\n",
            "9  \t [-0.28061215  9.49941466]\t 28.48415902721704\t 0.8943531028899869\t 4.8592349055779245\t 5.1319119215988005\n",
            "10 \t [-5.  0.]\t 308.12909601160663\t 0.8943531028899869\t 4.805470453294415\t 4.578482614186562\n",
            "11 \t [10.          2.34599735]\t 2.3747361223132604\t 0.8943531028899869\t 5.344540357756377\t 5.670666295083109\n",
            "12 \t [6.24187398 0.        ]\t 20.801513474250925\t 0.8943531028899869\t 4.585800429331194\t 4.9323184410030985\n",
            "13 \t [-0.91853332  0.05417786]\t 72.32923195798782\t 0.8943531028899869\t 5.817180758832207\t 5.897068429792421\n",
            "14 \t [4.95892483 6.96208799]\t 44.57956724195149\t 0.8943531028899869\t 4.6538746170463625\t 4.910852561155546\n",
            "15 \t [1.79106437 3.11774465]\t 8.101028442109984\t 0.8943531028899869\t 5.45310573918411\t 5.46381779581124\n",
            "16 \t [-1.53081736  6.53301352]\t 15.250609815920178\t 0.8943531028899869\t 4.841710281472824\t 5.367213168566173\n",
            "17 \t [ 3.57262446 15.        ]\t 171.24324454941942\t 0.8943531028899869\t 5.639245757536017\t 6.104969568959006\n",
            "18 \t [4.09160302 2.18729777]\t 4.702613105021491\t 0.8943531028899869\t 4.535224824818258\t 4.391583016900758\n",
            "19 \t [-2.82270992 14.23183665]\t 8.226347310518324\t 0.8943531028899869\t 5.422700374463\t 5.559356263269152\n",
            "20 \t [-5.         11.52895879]\t 44.74125915221332\t 0.8943531028899869\t 6.037739070751172\t 6.088649707315205\n"
          ]
        }
      ],
      "source": [
        "### EXACT GP EI GRADIENTS\n",
        "\n",
        "np.random.seed(run_num_13)\n",
        "surrogate_exact_13 = dGaussianProcess(cov_func, optimize=opt)\n",
        "\n",
        "exact_13 = dGPGO(surrogate_exact_13, Acquisition_grad(util), objfunc, param)\n",
        "exact_13.run(init_evals=n_init, max_iter=iters)\n"
      ]
    },
    {
      "cell_type": "code",
      "execution_count": 47,
      "metadata": {
        "id": "k6GjFBr1JTJf",
        "colab": {
          "base_uri": "https://localhost:8080/"
        },
        "outputId": "b0c662f1-16a8-4796-d4f9-0839e20ca886"
      },
      "outputs": [
        {
          "output_type": "stream",
          "name": "stdout",
          "text": [
            "Evaluation \t Proposed point \t  Current eval. \t  Best eval. \t        Exact EI: StdDev. x \t Approx EI: StdDev. x \n",
            "init\t [ 2.70915016 11.59747578]\t 81.58264375064097\t 1.4149920024014744\t    \t    \n",
            "init\t [8.05641529 0.12070423]\t 10.148649076616518\t 1.4149920024014744\t    \t    \n",
            "init\t [-0.35396112 14.36405609]\t 79.6056658956529\t 1.4149920024014744\t    \t    \n",
            "init\t [2.69675068 4.77426637]\t 5.855607664288365\t 1.4149920024014744\t    \t    \n",
            "init\t [3.08799906 3.31882414]\t 1.4149920024014744\t 1.4149920024014744\t    \t    \n",
            "1  \t [10.          9.77645093]\t 47.823366031636674\t 1.4149920024014744\t 5.43536005449988\t 5.692888383988993\n",
            "2  \t [-3.61083748  7.85924032]\t 32.481990179851884\t 1.4149920024014744\t 5.572928491144988\t 5.839876276575841\n",
            "3  \t [-0.5369506  0.       ]\t 65.74814342277702\t 1.4149920024014744\t 5.477547764190026\t 5.201215889106549\n",
            "4  \t [-5.          2.79941019]\t 219.73685262933344\t 1.4149920024014744\t 4.010737678499898\t 4.8154794078708125\n",
            "5  \t [ 7.44802367 15.        ]\t 201.14330599451029\t 1.4149920024014744\t 4.525799981147764\t 4.46345423976556\n",
            "6  \t [10.          4.59999645]\t 4.493676938063431\t 1.4149920024014744\t 4.574928744672902\t 4.685270255421051\n",
            "7  \t [5.98587267 7.36093484]\t 58.35566375359257\t 1.4149920024014744\t 3.7646214535465115\t 4.212785803940777\n",
            "8  \t [-5.         12.63504155]\t 33.447358508988735\t 1.4149920024014744\t 5.2846130915092795\t 5.118248958988369\n",
            "9  \t [3.62913725 0.78504437]\t 2.8172885458466723\t 1.4149920024014744\t 5.236796413978345\t 5.0006166147359865\n",
            "10 \t [-0.92286882  5.02927481]\t 22.29537400672306\t 1.4149920024014744\t 4.6178640183681905\t 4.750167750740302\n",
            "11 \t [5.66520582 3.51148633]\t 23.499284691946368\t 1.4149920024014744\t 4.698003979535928\t 4.658178155589163\n",
            "12 \t [5.47902682e-03 8.75633362e+00]\t 27.247469367505488\t 1.4149920024014744\t 4.979736249805629\t 4.965277158142024\n",
            "13 \t [ 7.06079375 10.44373538]\t 102.23605689435959\t 1.4149920024014744\t 4.943903976283274\t 4.945871371778639\n",
            "14 \t [ 3.47985314 15.        ]\t 169.26705261180817\t 1.4149920024014744\t 5.4144447278030485\t 5.257047888685235\n",
            "15 \t [2.69495007 7.36669637]\t 23.595648177659196\t 1.4149920024014744\t 5.3619580572664285\t 5.376954297449609\n",
            "16 \t [9.95207006 2.25709482]\t 2.190164430445259\t 1.4149920024014744\t 4.984800183584256\t 5.665486914677847\n",
            "17 \t [5.39395526 0.        ]\t 17.427340475391695\t 1.4149920024014744\t 5.39945576451395\t 5.612803769688348\n",
            "18 \t [1.19664153 2.88197951]\t 15.46521753634183\t 1.4149920024014744\t 4.5156081341862855\t 4.7430314191179885\n",
            "19 \t [2.52291363e+00 5.55111512e-17]\t 10.056538545250168\t 1.4149920024014744\t 4.811685284035999\t 4.878546918399089\n",
            "20 \t [-1.75327579 10.99715305]\t 11.5322366774762\t 1.4149920024014744\t 4.808230315379711\t 4.911126186626188\n"
          ]
        }
      ],
      "source": [
        "### EXACT GP EI GRADIENTS\n",
        "\n",
        "np.random.seed(run_num_14)\n",
        "surrogate_exact_14 = dGaussianProcess(cov_func, optimize=opt)\n",
        "\n",
        "exact_14 = dGPGO(surrogate_exact_14, Acquisition_grad(util), objfunc, param)\n",
        "exact_14.run(init_evals=n_init, max_iter=iters)\n"
      ]
    },
    {
      "cell_type": "code",
      "execution_count": 48,
      "metadata": {
        "id": "dPS8WB3aJTN6",
        "colab": {
          "base_uri": "https://localhost:8080/"
        },
        "outputId": "2d816856-6944-4c8d-bd12-2aede6f3a20d"
      },
      "outputs": [
        {
          "output_type": "stream",
          "name": "stdout",
          "text": [
            "Evaluation \t Proposed point \t  Current eval. \t  Best eval. \t        Exact EI: StdDev. x \t Approx EI: StdDev. x \n",
            "init\t [7.73226546 2.68343887]\t 12.768724532005583\t 12.768724532005583\t    \t    \n",
            "init\t [-4.18455179  5.42307669]\t 95.39334176626551\t 12.768724532005583\t    \t    \n",
            "init\t [-0.86898607  7.95000337]\t 16.419487782111716\t 12.768724532005583\t    \t    \n",
            "init\t [-0.41121626  4.56711539]\t 23.250362743740954\t 12.768724532005583\t    \t    \n",
            "init\t [-3.32388086  3.74848521]\t 80.99796277938532\t 12.768724532005583\t    \t    \n",
            "1  \t [ 6.5655417  11.87699252]\t 134.95011349993544\t 12.768724532005583\t 5.229098297114108\t 4.888615086638568\n",
            "2  \t [-4.77493765 13.49591113]\t 19.896906503438096\t 12.768724532005583\t 5.302274617094189\t 5.918363841144785\n",
            "3  \t [ 1.21146284 15.        ]\t 128.69210522895327\t 12.768724532005583\t 5.459485089686377\t 5.76103591727659\n",
            "\u001b[1m\u001b[92m4\u001b[0m\t \u001b[1m\u001b[92m[2.54720482 0.07864599]\u001b[0m\t \u001b[1m\u001b[92m9.364642237420483\u001b[0m\t \u001b[1m\u001b[92m9.364642237420483\u001b[0m\t \u001b[1m\u001b[92m5.206880910560678\u001b[0m\t \u001b[1m\u001b[92m5.232289820884126\u001b[0m\n",
            "5  \t [9.99501649 7.39458825]\t 21.247060417486146\t 9.364642237420483\t 5.928196350289883\t 5.6087816373322275\n",
            "6  \t [4.31404749 6.82491505]\t 34.22443290077146\t 9.364642237420483\t 5.236792309383744\t 5.140930237630988\n",
            "7  \t [10. 15.]\t 145.87219087939556\t 9.364642237420483\t 4.45337183745326\t 4.356430372174781\n",
            "8  \t [-5.  0.]\t 308.12909601160663\t 9.364642237420483\t 5.735921514460599\t 5.707824828760534\n",
            "9  \t [ 2.66617257 10.11516454]\t 56.819406694928674\t 9.364642237420483\t 4.47191952130371\t 4.986529385830498\n",
            "10 \t [-1.72610592 11.93913724]\t 16.394254941736527\t 9.364642237420483\t 4.920439712183617\t 5.3107070225314486\n",
            "11 \t [-5.          9.57986674]\t 70.5977081150132\t 9.364642237420483\t 4.903193187515277\t 5.140249084441264\n",
            "\u001b[1m\u001b[92m12\u001b[0m\t \u001b[1m\u001b[92m[3.04659233 3.38882768]\u001b[0m\t \u001b[1m\u001b[92m1.5198224356961507\u001b[0m\t \u001b[1m\u001b[92m1.5198224356961507\u001b[0m\t \u001b[1m\u001b[92m4.5772125565880035\u001b[0m\t \u001b[1m\u001b[92m5.136924364556199\u001b[0m\n",
            "13 \t [4.79604945 2.05583199]\t 11.317140877221311\t 1.5198224356961507\t 5.951121222054921\t 5.748758649112735\n",
            "14 \t [-0.7917398   0.79845457]\t 59.55237534570689\t 1.5198224356961507\t 5.097845486587103\t 5.084775979684428\n",
            "15 \t [ 5.04585578 15.        ]\t 201.97470559337938\t 1.5198224356961507\t 4.526013156995378\t 4.631561644558632\n",
            "16 \t [7.85524398 5.33587102]\t 24.938229358955226\t 1.5198224356961507\t 5.8143912316671775\t 5.837316978127119\n",
            "17 \t [4.62657048 4.196267  ]\t 16.986025033527365\t 1.5198224356961507\t 4.9819648975177016\t 5.173958478052245\n",
            "18 \t [6.49499436 8.65173676]\t 76.22704893754486\t 1.5198224356961507\t 5.013239388437018\t 5.3324830249999255\n",
            "19 \t [10.         10.74804169]\t 61.92948364647507\t 1.5198224356961507\t 4.941758710196496\t 5.051819242379457\n",
            "20 \t [5.91090547 0.        ]\t 20.167728032626272\t 1.5198224356961507\t 4.632617359441643\t 4.713279977021766\n"
          ]
        }
      ],
      "source": [
        "### EXACT GP EI GRADIENTS\n",
        "\n",
        "np.random.seed(run_num_15)\n",
        "surrogate_exact_15 = dGaussianProcess(cov_func, optimize=opt)\n",
        "\n",
        "exact_15 = dGPGO(surrogate_exact_15, Acquisition_grad(util), objfunc, param)\n",
        "exact_15.run(init_evals=n_init, max_iter=iters)\n"
      ]
    },
    {
      "cell_type": "code",
      "execution_count": 49,
      "metadata": {
        "id": "lu8ki9XIQPPN",
        "colab": {
          "base_uri": "https://localhost:8080/"
        },
        "outputId": "55db1e5f-3c04-4176-ae39-5f223acc6288"
      },
      "outputs": [
        {
          "output_type": "stream",
          "name": "stdout",
          "text": [
            "Evaluation \t Proposed point \t  Current eval. \t  Best eval. \t        Exact EI: StdDev. x \t Approx EI: StdDev. x \n",
            "init\t [-1.65063381  7.84745012]\t 10.514702126319445\t 2.715864006988424\t    \t    \n",
            "init\t [3.26052185 0.68402925]\t 2.715864006988424\t 2.715864006988424\t    \t    \n",
            "init\t [0.41093253 3.34621413]\t 22.889515127492515\t 2.715864006988424\t    \t    \n",
            "init\t [5.33089243 2.45597138]\t 17.178157611778595\t 2.715864006988424\t    \t    \n",
            "init\t [-3.945127  14.1151629]\t 3.3649224341694195\t 2.715864006988424\t    \t    \n",
            "1  \t [ 5.63879248 14.58068289]\t 198.51319639462758\t 2.715864006988424\t 5.410561144923152\t 5.5393645132027105\n",
            "2  \t [-5.          0.77723009]\t 282.01611609418495\t 2.715864006988424\t 5.833148349613304\t 5.332073435864266\n",
            "3  \t [10.          5.64059168]\t 8.900259472871072\t 2.715864006988424\t 5.0983624811193655\t 5.631489293253166\n",
            "4  \t [4.11243132 8.80009307]\t 55.85062737292832\t 2.715864006988424\t 4.724306931768137\t 5.4747327024705275\n",
            "5  \t [-5.         10.28108353]\t 60.42040928471862\t 2.715864006988424\t 5.544619074622109\t 5.545576505817304\n",
            "6  \t [10.         10.86618331]\t 63.773474833133626\t 2.715864006988424\t 5.945505694131927\t 5.995039332125745\n",
            "7  \t [ 0.36855248 15.        ]\t 110.52351557994749\t 2.715864006988424\t 3.9010129667121043\t 4.4977213353465535\n",
            "8  \t [10. 15.]\t 145.87219087939556\t 2.715864006988424\t 4.9857177216238835\t 5.332981048636464\n",
            "\u001b[1m\u001b[92m9\u001b[0m\t \u001b[1m\u001b[92m[9.23747248 1.84803799]\u001b[0m\t \u001b[1m\u001b[92m0.7900330342927973\u001b[0m\t \u001b[1m\u001b[92m0.7900330342927973\u001b[0m\t \u001b[1m\u001b[92m4.879900204610705\u001b[0m\t \u001b[1m\u001b[92m5.15957319184036\u001b[0m\n",
            "10 \t [-5.          5.59824037]\t 147.03144724540155\t 0.7900330342927973\t 5.089672218463749\t 5.0062932063273715\n",
            "11 \t [-0.83842475  0.        ]\t 71.5539846868843\t 0.7900330342927973\t 4.82387076539334\t 4.6830064907865205\n",
            "12 \t [-0.80051684 11.14198641]\t 31.013575234537665\t 0.7900330342927973\t 4.596574735708116\t 4.454189891255559\n",
            "13 \t [5.77977349 5.80762428]\t 40.415527850035076\t 0.7900330342927973\t 4.254003482365982\t 4.114931975413594\n",
            "14 \t [1.78699717 6.19323831]\t 14.82972604925502\t 0.7900330342927973\t 4.710559611552577\t 4.788055924650616\n",
            "15 \t [ 2.6304753  11.96989331]\t 87.41979978821439\t 0.7900330342927973\t 4.836826557035497\t 4.677868211280059\n",
            "16 \t [ 6.20068477 11.22115843]\t 122.04266385940957\t 0.7900330342927973\t 4.550539341480504\t 4.837246896359868\n",
            "17 \t [8.52761474 3.1386196 ]\t 5.742866303239097\t 0.7900330342927973\t 5.6129428084331305\t 5.534225148633576\n",
            "18 \t [10.          7.81186739]\t 25.068763583409776\t 0.7900330342927973\t 5.058275694224403\t 5.238638602624752\n",
            "19 \t [-1.5732743   5.36355986]\t 21.948777977241452\t 0.7900330342927973\t 4.452253706960372\t 4.833785506622898\n",
            "20 \t [6.82576035 0.        ]\t 19.557796077699543\t 0.7900330342927973\t 5.512897063507817\t 5.670046209086297\n"
          ]
        }
      ],
      "source": [
        "### EXACT GP EI GRADIENTS\n",
        "\n",
        "np.random.seed(run_num_16)\n",
        "surrogate_exact_16 = dGaussianProcess(cov_func, optimize=opt)\n",
        "\n",
        "exact_16 = dGPGO(surrogate_exact_16, Acquisition_grad(util), objfunc, param)\n",
        "exact_16.run(init_evals=n_init, max_iter=iters)\n"
      ]
    },
    {
      "cell_type": "code",
      "execution_count": 50,
      "metadata": {
        "id": "yU2SflSsJTUs",
        "colab": {
          "base_uri": "https://localhost:8080/"
        },
        "outputId": "634fde63-9842-44df-f3d3-4681164f7ac5"
      },
      "outputs": [
        {
          "output_type": "stream",
          "name": "stdout",
          "text": [
            "Evaluation \t Proposed point \t  Current eval. \t  Best eval. \t        Exact EI: StdDev. x \t Approx EI: StdDev. x \n",
            "init\t [-0.58002496  7.95880133]\t 19.016141117164256\t 19.016141117164256\t    \t    \n",
            "init\t [-2.1271882   1.01850537]\t 85.05949339404415\t 19.016141117164256\t    \t    \n",
            "init\t [6.8047819  9.84500283]\t 93.89792695202516\t 19.016141117164256\t    \t    \n",
            "init\t [4.56281344 8.63404341]\t 60.50217141122736\t 19.016141117164256\t    \t    \n",
            "init\t [-4.41405626  5.36720407]\t 110.70834086593878\t 19.016141117164256\t    \t    \n",
            "\u001b[1m\u001b[92m1\u001b[0m\t \u001b[1m\u001b[92m[9.76575296 0.98553483]\u001b[0m\t \u001b[1m\u001b[92m4.1623278326263815\u001b[0m\t \u001b[1m\u001b[92m4.1623278326263815\u001b[0m\t \u001b[1m\u001b[92m6.2106230096475326\u001b[0m\t \u001b[1m\u001b[92m6.393209536511405\u001b[0m\n",
            "2  \t [-0.36591853 14.49945231]\t 81.3728947682288\t 4.1623278326263815\t 5.216215013912565\t 5.116096090716837\n",
            "\u001b[1m\u001b[92m3\u001b[0m\t \u001b[1m\u001b[92m[3.74599703 2.35814314]\u001b[0m\t \u001b[1m\u001b[92m2.3563457989420957\u001b[0m\t \u001b[1m\u001b[92m2.3563457989420957\u001b[0m\t \u001b[1m\u001b[92m4.735952348940336\u001b[0m\t \u001b[1m\u001b[92m4.797045298621163\u001b[0m\n",
            "4  \t [10.         14.83591807]\t 141.96211758268552\t 2.3563457989420957\t 5.785721789142651\t 5.806814569147859\n",
            "5  \t [9.40340415 5.54620471]\t 9.943082500300157\t 2.3563457989420957\t 4.963489617552288\t 5.355295576146952\n",
            "6  \t [-5.         11.25245434]\t 47.946860113766995\t 2.3563457989420957\t 5.252930679566411\t 5.612004677995332\n",
            "7  \t [ 4.99405377 14.31114788]\t 182.64524954946458\t 2.3563457989420957\t 5.159571696635687\t 4.98734187389152\n",
            "8  \t [6.74191484 3.08550618]\t 22.38745217867914\t 2.3563457989420957\t 5.379858471775466\t 5.5341892148994525\n",
            "9  \t [1.94926006 0.        ]\t 17.934067106924132\t 2.3563457989420957\t 5.251199721002724\t 5.633747222672948\n",
            "10 \t [1.4338906  4.08437962]\t 11.32065797283982\t 2.3563457989420957\t 4.671494175678604\t 4.7079437760760925\n",
            "11 \t [5.4647046 0.       ]\t 17.908158366978736\t 2.3563457989420957\t 5.860645462072595\t 5.764188384402852\n",
            "12 \t [ 1.66730529 10.98834972]\t 62.11432572852553\t 2.3563457989420957\t 5.775788299340796\t 5.646499154942839\n",
            "13 \t [-1.88173451 11.37504081]\t 10.759123501853288\t 2.3563457989420957\t 4.956911260291174\t 4.768919432183457\n",
            "14 \t [10.          8.76832234]\t 35.182582675394706\t 2.3563457989420957\t 4.572606847406638\t 5.090323276840713\n",
            "15 \t [4.74574555 4.91239588]\t 22.965213501188845\t 2.3563457989420957\t 5.097087231637567\t 5.1675127837802295\n",
            "16 \t [-3.78333242 14.35012882]\t 2.5382597946685763\t 2.3563457989420957\t 4.728428522518361\t 4.665557551094077\n",
            "17 \t [-1.05480413  4.73365754]\t 24.278643545451946\t 2.3563457989420957\t 3.9090591098679\t 4.584112273040066\n",
            "18 \t [2.42421895 6.24637839]\t 13.956484270822592\t 2.3563457989420957\t 4.954300967416556\t 5.170576144079973\n",
            "19 \t [-5.          1.80053186]\t 249.47823277397916\t 2.3563457989420957\t 5.086761074367863\t 5.4466205170756465\n",
            "\u001b[1m\u001b[92m20\u001b[0m\t \u001b[1m\u001b[92m[9.9683401  3.23455468]\u001b[0m\t \u001b[1m\u001b[92m1.8509281105180317\u001b[0m\t \u001b[1m\u001b[92m1.8509281105180317\u001b[0m\t \u001b[1m\u001b[92m4.966765487681353\u001b[0m\t \u001b[1m\u001b[92m4.870208831727565\u001b[0m\n"
          ]
        }
      ],
      "source": [
        "### EXACT GP EI GRADIENTS\n",
        "\n",
        "np.random.seed(run_num_17)\n",
        "surrogate_exact_17 = dGaussianProcess(cov_func, optimize=opt)\n",
        "\n",
        "exact_17 = dGPGO(surrogate_exact_17, Acquisition_grad(util), objfunc, param)\n",
        "exact_17.run(init_evals=n_init, max_iter=iters)\n"
      ]
    },
    {
      "cell_type": "code",
      "execution_count": 51,
      "metadata": {
        "id": "eVEhyZ9BQS-1",
        "colab": {
          "base_uri": "https://localhost:8080/"
        },
        "outputId": "dd7ff6d0-c489-4ea9-a7ad-4afc77a24cdc"
      },
      "outputs": [
        {
          "output_type": "stream",
          "name": "stdout",
          "text": [
            "Evaluation \t Proposed point \t  Current eval. \t  Best eval. \t        Exact EI: StdDev. x \t Approx EI: StdDev. x \n",
            "init\t [4.75561363 7.58180061]\t 49.215059064668324\t 8.150075223157177\t    \t    \n",
            "init\t [8.17902206 2.72760338]\t 8.150075223157177\t 8.150075223157177\t    \t    \n",
            "init\t [ 7.78349603 11.25204429]\t 106.98107856533271\t 8.150075223157177\t    \t    \n",
            "init\t [ 4.99152501 14.81843172]\t 196.08601750690153\t 8.150075223157177\t    \t    \n",
            "init\t [-1.14547366  0.42458888]\t 71.23649635555944\t 8.150075223157177\t    \t    \n",
            "1  \t [-4.83474958 11.77354131]\t 35.58412906267954\t 8.150075223157177\t 5.057184276951297\t 5.155761413869055\n",
            "2  \t [-0.88714687  6.68331353]\t 16.754341712767037\t 8.150075223157177\t 5.075507459560602\t 5.118697565376318\n",
            "3  \t [9.35887108 6.57464965]\t 17.680119729213096\t 8.150075223157177\t 4.743364812398619\t 4.540537172535264\n",
            "4  \t [-0.63498014 15.        ]\t 80.73140113884219\t 8.150075223157177\t 5.403681316810754\t 5.869053753940788\n",
            "5  \t [-0.12756076 10.65515995]\t 39.32694072953375\t 8.150075223157177\t 4.9078739926935615\t 4.558219005564233\n",
            "\u001b[1m\u001b[92m6\u001b[0m\t \u001b[1m\u001b[92m[4.16504649 0.        ]\u001b[0m\t \u001b[1m\u001b[92m7.601947803668464\u001b[0m\t \u001b[1m\u001b[92m7.601947803668464\u001b[0m\t \u001b[1m\u001b[92m5.085282357814381\u001b[0m\t \u001b[1m\u001b[92m5.110331399039754\u001b[0m\n",
            "7  \t [-5.          3.99491174]\t 186.76444432328384\t 7.601947803668464\t 5.111225836562359\t 5.524723038456916\n",
            "8  \t [10. 15.]\t 145.87219087939556\t 7.601947803668464\t 4.745770376934164\t 5.077567362519782\n",
            "\u001b[1m\u001b[92m9\u001b[0m\t \u001b[1m\u001b[92m[4.04288989 3.52229312]\u001b[0m\t \u001b[1m\u001b[92m7.445892086973834\u001b[0m\t \u001b[1m\u001b[92m7.445892086973834\u001b[0m\t \u001b[1m\u001b[92m5.662387227402091\u001b[0m\t \u001b[1m\u001b[92m5.570944370946155\u001b[0m\n",
            "10 \t [-4.73937452  8.11274109]\t 79.67977183840433\t 7.445892086973834\t 5.562910345592445\t 5.725954000644134\n",
            "11 \t [ 3.16299936 11.39289595]\t 83.83974329676161\t 7.445892086973834\t 5.436183376695503\t 5.4733294672935795\n",
            "12 \t [-5.  0.]\t 308.12909601160663\t 7.445892086973834\t 5.144624409380325\t 4.969800697255191\n",
            "\u001b[1m\u001b[92m13\u001b[0m\t \u001b[1m\u001b[92m[9.03261402 0.        ]\u001b[0m\t \u001b[1m\u001b[92m5.810034234100348\u001b[0m\t \u001b[1m\u001b[92m5.810034234100348\u001b[0m\t \u001b[1m\u001b[92m4.564585603765389\u001b[0m\t \u001b[1m\u001b[92m4.483392871547311\u001b[0m\n",
            "14 \t [1.28760753 3.12753761]\t 13.759107656156424\t 5.810034234100348\t 4.496512560194493\t 4.287352506122094\n",
            "15 \t [-4.42535272 14.61247769]\t 8.204301440997101\t 5.810034234100348\t 5.126052221279701\t 5.278679460647742\n",
            "16 \t [6.63724656 0.        ]\t 20.277692837610786\t 5.810034234100348\t 4.6608701495603215\t 4.5661146923508555\n",
            "17 \t [2.06470708 5.82622396]\t 12.009651469610098\t 5.810034234100348\t 5.855967025048912\t 5.808586403212089\n",
            "\u001b[1m\u001b[92m18\u001b[0m\t \u001b[1m\u001b[92m[10.         3.8933149]\u001b[0m\t \u001b[1m\u001b[92m2.735878551786099\u001b[0m\t \u001b[1m\u001b[92m2.735878551786099\u001b[0m\t \u001b[1m\u001b[92m4.244330196477601\u001b[0m\t \u001b[1m\u001b[92m4.476337194964755\u001b[0m\n",
            "19 \t [7.27898092 4.49690635]\t 25.70084123255058\t 2.735878551786099\t 4.352145730434068\t 4.362937974053026\n",
            "20 \t [1.96722186 0.71296413]\t 13.346968728316085\t 2.735878551786099\t 5.200741562544574\t 5.2391082113297776\n"
          ]
        }
      ],
      "source": [
        "### EXACT GP EI GRADIENTS\n",
        "\n",
        "np.random.seed(run_num_18)\n",
        "surrogate_exact_18 = dGaussianProcess(cov_func, optimize=opt)\n",
        "\n",
        "exact_18 = dGPGO(surrogate_exact_18, Acquisition_grad(util), objfunc, param)\n",
        "exact_18.run(init_evals=n_init, max_iter=iters)\n"
      ]
    },
    {
      "cell_type": "code",
      "execution_count": 52,
      "metadata": {
        "id": "B6gTz1ojQUxn",
        "colab": {
          "base_uri": "https://localhost:8080/"
        },
        "outputId": "63eb008e-8082-4634-c84a-15992cc98993"
      },
      "outputs": [
        {
          "output_type": "stream",
          "name": "stdout",
          "text": [
            "Evaluation \t Proposed point \t  Current eval. \t  Best eval. \t        Exact EI: StdDev. x \t Approx EI: StdDev. x \n",
            "init\t [-3.53699597 11.41874575]\t 4.475608269502271\t 4.475608269502271\t    \t    \n",
            "init\t [-1.2959304   2.07197531]\t 51.13947793770689\t 4.475608269502271\t    \t    \n",
            "init\t [-0.02830155  1.24499348]\t 42.63973921760034\t 4.475608269502271\t    \t    \n",
            "init\t [ 5.07965622 12.09890697]\t 131.17235664506808\t 4.475608269502271\t    \t    \n",
            "init\t [9.74112872 9.53491102]\t 46.84458913925112\t 4.475608269502271\t    \t    \n",
            "\u001b[1m\u001b[92m1\u001b[0m\t \u001b[1m\u001b[92m[9.57054653 2.03489665]\u001b[0m\t \u001b[1m\u001b[92m0.8198597583535783\u001b[0m\t \u001b[1m\u001b[92m0.8198597583535783\u001b[0m\t \u001b[1m\u001b[92m5.264363816634271\u001b[0m\t \u001b[1m\u001b[92m5.530288424406532\u001b[0m\n",
            "2  \t [4.94894051 4.56545987]\t 22.995257753719198\t 0.8198597583535783\t 5.588793985197896\t 5.986875118175558\n",
            "3  \t [-5.          6.36422973]\t 129.86390264478524\t 0.8198597583535783\t 4.956266668251157\t 5.45017680070392\n",
            "4  \t [ 0.09498041 15.        ]\t 103.28134455168016\t 0.8198597583535783\t 5.268203561071366\t 5.441372029545118\n",
            "5  \t [10. 15.]\t 145.87219087939556\t 0.8198597583535783\t 4.764258706087841\t 4.526255023944184\n",
            "6  \t [0.40358398 9.24732989]\t 33.79683336886079\t 0.8198597583535783\t 4.89879063708023\t 4.895917603199117\n",
            "7  \t [-5.  0.]\t 308.12909601160663\t 0.8198597583535783\t 5.115476473663529\t 5.31513659581071\n",
            "8  \t [5.68108845 0.        ]\t 19.185211663897224\t 0.8198597583535783\t 5.05375041556865\t 5.344878840394085\n",
            "9  \t [0.30159816 5.57804262]\t 19.170845607213394\t 0.8198597583535783\t 5.540353411746815\t 5.595142217913356\n",
            "10 \t [10.          5.20709057]\t 6.80134717884335\t 0.8198597583535783\t 5.06737260879014\t 5.010089703126629\n",
            "11 \t [5.01936262 8.08413677]\t 59.386995797350664\t 0.8198597583535783\t 4.523578181380393\t 5.062985828354138\n",
            "12 \t [9.07231429e+00 4.81250788e-03]\t 5.77957173802523\t 0.8198597583535783\t 4.53832236617042\t 4.940113841606479\n",
            "13 \t [3.26301061 1.54093348]\t 0.8798218733731975\t 0.8198597583535783\t 5.512584471026479\t 5.796491084836902\n",
            "14 \t [7.86401324 2.93253008]\t 12.033456692617728\t 0.8198597583535783\t 4.827600349221801\t 4.813177281971758\n",
            "15 \t [-3.64416928 14.12327325]\t 1.9547017806646618\t 0.8198597583535783\t 4.455246389163562\t 4.635718083087073\n",
            "16 \t [2.57574717 2.93460874]\t 1.9258318767428388\t 0.8198597583535783\t 4.488169501262287\t 4.849453991382028\n",
            "17 \t [-2.7304674   9.10988432]\t 6.03325741544623\t 0.8198597583535783\t 5.167654835160578\t 5.356424914151309\n",
            "18 \t [2.77491735 0.        ]\t 7.6839480534918145\t 0.8198597583535783\t 4.639591783036706\t 5.433691629626112\n",
            "19 \t [ 1.56525369 11.98953179]\t 76.70747871433095\t 0.8198597583535783\t 4.02012747253176\t 4.326487360515834\n",
            "20 \t [ 6.49261328 15.        ]\t 212.2596194543408\t 0.8198597583535783\t 5.142232929278456\t 5.20320752184217\n"
          ]
        }
      ],
      "source": [
        "### EXACT GP EI GRADIENTS\n",
        "\n",
        "np.random.seed(run_num_19)\n",
        "surrogate_exact_19 = dGaussianProcess(cov_func, optimize=opt)\n",
        "\n",
        "exact_19 = dGPGO(surrogate_exact_19, Acquisition_grad(util), objfunc, param)\n",
        "exact_19.run(init_evals=n_init, max_iter=iters)\n"
      ]
    },
    {
      "cell_type": "code",
      "execution_count": 53,
      "metadata": {
        "id": "aw3xvSryIwDi",
        "colab": {
          "base_uri": "https://localhost:8080/"
        },
        "outputId": "96d4a59f-5170-4892-8e4f-3882a0bccfb2"
      },
      "outputs": [
        {
          "output_type": "stream",
          "name": "stdout",
          "text": [
            "Evaluation \t Proposed point \t  Current eval. \t  Best eval. \t        Exact EI: StdDev. x \t Approx EI: StdDev. x \n",
            "init\t [ 3.82196202 13.46570592]\t 138.5264349938869\t 14.042667401507376\t    \t    \n",
            "init\t [ 8.37296094 12.23756216]\t 115.63178540512689\t 14.042667401507376\t    \t    \n",
            "init\t [-4.46165622 10.37636373]\t 35.66708529307584\t 14.042667401507376\t    \t    \n",
            "init\t [0.68021413 7.77766418]\t 25.307769914281764\t 14.042667401507376\t    \t    \n",
            "init\t [4.86927198 2.90775327]\t 14.042667401507376\t 14.042667401507376\t    \t    \n",
            "1  \t [0.14992375 0.        ]\t 52.72147028896617\t 14.042667401507376\t 4.756048162008917\t 5.198976167051431\n",
            "\u001b[1m\u001b[92m2\u001b[0m\t \u001b[1m\u001b[92m[10.          5.64843486]\u001b[0m\t \u001b[1m\u001b[92m8.941695868504478\u001b[0m\t \u001b[1m\u001b[92m8.941695868504478\u001b[0m\t \u001b[1m\u001b[92m4.779979709327234\u001b[0m\t \u001b[1m\u001b[92m5.19648670392523\u001b[0m\n",
            "3  \t [-5.          4.78158886]\t 166.62691093349147\t 8.941695868504478\t 4.9106317983637435\t 5.257575073923963\n",
            "4  \t [-2.33773731 13.96321458]\t 15.844251775381395\t 8.941695868504478\t 5.599055299435761\t 6.166479540394654\n",
            "5  \t [-5.  0.]\t 308.12909601160663\t 8.941695868504478\t 5.738671321365932\t 5.6984326696873735\n",
            "\u001b[1m\u001b[92m6\u001b[0m\t \u001b[1m\u001b[92m[9.19905437 0.83066952]\u001b[0m\t \u001b[1m\u001b[92m2.7745590618899953\u001b[0m\t \u001b[1m\u001b[92m2.7745590618899953\u001b[0m\t \u001b[1m\u001b[92m4.804728987391762\u001b[0m\t \u001b[1m\u001b[92m5.152585185403995\u001b[0m\n",
            "7  \t [5.49750575 7.93367069]\t 62.74176825810233\t 2.7745590618899953\t 5.855604239191715\t 5.902157922410549\n",
            "8  \t [-0.10894803 11.47761654]\t 47.66367128034553\t 2.7745590618899953\t 5.134382522875399\t 5.354042660243576\n",
            "9  \t [0.88466782 3.96968559]\t 16.60673108539687\t 2.7745590618899953\t 4.830419891728843\t 4.902992234442298\n",
            "10 \t [5.55724611 0.        ]\t 18.49215148208436\t 2.7745590618899953\t 5.340790235275928\t 5.409458830303012\n",
            "11 \t [9.74424848 8.75814955]\t 36.88955250229134\t 2.7745590618899953\t 5.073332285961341\t 5.006488429941223\n",
            "12 \t [-2.60076717  7.78568928]\t 12.18413421587125\t 2.7745590618899953\t 5.305348800172934\t 5.339207663832022\n",
            "13 \t [8.05345736 3.33842411]\t 11.255828236849988\t 2.7745590618899953\t 5.301202291183487\t 5.596131248116886\n",
            "14 \t [ 0.75894508 14.91028497]\t 117.84431980561553\t 2.7745590618899953\t 5.0245710179956715\t 5.308276778845977\n",
            "15 \t [10. 15.]\t 145.87219087939556\t 2.7745590618899953\t 4.5801973762782175\t 4.797640573833742\n",
            "16 \t [-1.48347269  5.07214322]\t 23.604985086318358\t 2.7745590618899953\t 4.851402862397518\t 4.9978830455652234\n",
            "17 \t [ 2.67778201 10.17463543]\t 57.814485579990446\t 2.7745590618899953\t 4.7704043813026304\t 5.019720806657705\n",
            "18 \t [-2.28461777  2.46100624]\t 65.32555801169701\t 2.7745590618899953\t 5.31410852808173\t 5.377525048507114\n",
            "19 \t [3.59289592 5.22099756]\t 12.062877632429643\t 2.7745590618899953\t 5.432374523711956\t 5.63759138596556\n",
            "20 \t [2.53167525 1.90301761]\t 2.9314512071140273\t 2.7745590618899953\t 4.129558410246586\t 4.318122972438944\n"
          ]
        }
      ],
      "source": [
        "### EXACT GP EI GRADIENTS\n",
        "\n",
        "np.random.seed(run_num_20)\n",
        "surrogate_exact_20 = dGaussianProcess(cov_func, optimize=opt)\n",
        "\n",
        "exact_20 = dGPGO(surrogate_exact_20, Acquisition_grad(util), objfunc, param)\n",
        "exact_20.run(init_evals=n_init, max_iter=iters)\n"
      ]
    },
    {
      "cell_type": "code",
      "execution_count": 54,
      "metadata": {
        "id": "5c8szjivRPme",
        "colab": {
          "base_uri": "https://localhost:8080/"
        },
        "outputId": "3105dd5c-1c8b-4c16-b541-06d9f41666bd"
      },
      "outputs": [
        {
          "output_type": "execute_result",
          "data": {
            "text/plain": [
              "710.3946735858917"
            ]
          },
          "metadata": {},
          "execution_count": 54
        }
      ],
      "source": [
        "end_exact = time.time()\n",
        "end_exact\n",
        "\n",
        "time_exact = end_exact - start_exact\n",
        "time_exact\n"
      ]
    },
    {
      "cell_type": "code",
      "execution_count": 55,
      "metadata": {
        "id": "f6gCKnp6RR8c",
        "colab": {
          "base_uri": "https://localhost:8080/"
        },
        "outputId": "d61a4127-a561-44e2-bbf7-f883bce8529b"
      },
      "outputs": [
        {
          "output_type": "execute_result",
          "data": {
            "text/plain": [
              "(1.5539733764661174, 0.8702236178822852)"
            ]
          },
          "metadata": {},
          "execution_count": 55
        }
      ],
      "source": [
        "### Simple regret minimization: run number = 1\n",
        "\n",
        "approx_output_1 = np.append(np.min(-approx_1.GP.y[0:n_init]),-approx_1.GP.y[n_init:(n_init+iters)]) \n",
        "exact_output_1 = np.append(np.min(-exact_1.GP.y[0:n_init]),-exact_1.GP.y[n_init:(n_init+iters)]) \n",
        "\n",
        "regret_approx_1 = np.log(approx_output_1 - y_global_orig)\n",
        "regret_exact_1 = np.log(exact_output_1 - y_global_orig)\n",
        "\n",
        "simple_regret_approx_1 = min_max_array(regret_approx_1)\n",
        "simple_regret_exact_1 = min_max_array(regret_exact_1)\n",
        "\n",
        "min_simple_regret_approx_1 = min(simple_regret_approx_1)\n",
        "min_simple_regret_exact_1 = min(simple_regret_exact_1)\n",
        "\n",
        "min_simple_regret_approx_1, min_simple_regret_exact_1\n"
      ]
    },
    {
      "cell_type": "code",
      "execution_count": 56,
      "metadata": {
        "id": "94yBw5tqQxfk",
        "colab": {
          "base_uri": "https://localhost:8080/"
        },
        "outputId": "2eed281d-63fc-412d-8630-98eb94e48536"
      },
      "outputs": [
        {
          "output_type": "execute_result",
          "data": {
            "text/plain": [
              "(0.5857547920775205, 0.5857547920775205)"
            ]
          },
          "metadata": {},
          "execution_count": 56
        }
      ],
      "source": [
        "### Simple regret minimization: run number = 2\n",
        "\n",
        "approx_output_2 = np.append(np.min(-approx_2.GP.y[0:n_init]),-approx_2.GP.y[n_init:(n_init+iters)]) \n",
        "exact_output_2 = np.append(np.min(-exact_2.GP.y[0:n_init]),-exact_2.GP.y[n_init:(n_init+iters)]) \n",
        "\n",
        "regret_approx_2 = np.log(approx_output_2 - y_global_orig)\n",
        "regret_exact_2 = np.log(exact_output_2 - y_global_orig)\n",
        "\n",
        "simple_regret_approx_2 = min_max_array(regret_approx_2)\n",
        "simple_regret_exact_2 = min_max_array(regret_exact_2)\n",
        "\n",
        "min_simple_regret_approx_2 = min(simple_regret_approx_2)\n",
        "min_simple_regret_exact_2 = min(simple_regret_exact_2)\n",
        "\n",
        "min_simple_regret_approx_2, min_simple_regret_exact_2\n"
      ]
    },
    {
      "cell_type": "code",
      "execution_count": 57,
      "metadata": {
        "id": "Bu6SBWALQxfl",
        "colab": {
          "base_uri": "https://localhost:8080/"
        },
        "outputId": "8bfbd54e-e292-4f8f-dd76-290b73bafb9c"
      },
      "outputs": [
        {
          "output_type": "execute_result",
          "data": {
            "text/plain": [
              "(0.9544418275491316, 1.3860209161817125)"
            ]
          },
          "metadata": {},
          "execution_count": 57
        }
      ],
      "source": [
        "### Simple regret minimization: run number = 3\n",
        "\n",
        "approx_output_3 = np.append(np.min(-approx_3.GP.y[0:n_init]),-approx_3.GP.y[n_init:(n_init+iters)]) \n",
        "exact_output_3 = np.append(np.min(-exact_3.GP.y[0:n_init]),-exact_3.GP.y[n_init:(n_init+iters)]) \n",
        "\n",
        "regret_approx_3 = np.log(approx_output_3 - y_global_orig)\n",
        "regret_exact_3 = np.log(exact_output_3 - y_global_orig)\n",
        "\n",
        "simple_regret_approx_3 = min_max_array(regret_approx_3)\n",
        "simple_regret_exact_3 = min_max_array(regret_exact_3)\n",
        "\n",
        "min_simple_regret_approx_3 = min(simple_regret_approx_3)\n",
        "min_simple_regret_exact_3 = min(simple_regret_exact_3)\n",
        "\n",
        "min_simple_regret_approx_3, min_simple_regret_exact_3"
      ]
    },
    {
      "cell_type": "code",
      "execution_count": 58,
      "metadata": {
        "id": "AZm0jgxkQxfm",
        "colab": {
          "base_uri": "https://localhost:8080/"
        },
        "outputId": "d60761eb-ecb8-48ae-f888-b3e77efec268"
      },
      "outputs": [
        {
          "output_type": "execute_result",
          "data": {
            "text/plain": [
              "(1.1873444923310084, 0.6117993714567349)"
            ]
          },
          "metadata": {},
          "execution_count": 58
        }
      ],
      "source": [
        "### Simple regret minimization: run number = 4\n",
        "\n",
        "approx_output_4 = np.append(np.min(-approx_4.GP.y[0:n_init]),-approx_4.GP.y[n_init:(n_init+iters)]) \n",
        "exact_output_4 = np.append(np.min(-exact_4.GP.y[0:n_init]),-exact_4.GP.y[n_init:(n_init+iters)]) \n",
        "\n",
        "regret_approx_4 = np.log(approx_output_4 - y_global_orig)\n",
        "regret_exact_4 = np.log(exact_output_4 - y_global_orig)\n",
        "\n",
        "simple_regret_approx_4 = min_max_array(regret_approx_4)\n",
        "simple_regret_exact_4 = min_max_array(regret_exact_4)\n",
        "\n",
        "min_simple_regret_approx_4 = min(simple_regret_approx_4)\n",
        "min_simple_regret_exact_4 = min(simple_regret_exact_4)\n",
        "\n",
        "min_simple_regret_approx_4, min_simple_regret_exact_4"
      ]
    },
    {
      "cell_type": "code",
      "execution_count": 59,
      "metadata": {
        "id": "NONPm8JIQxfn",
        "colab": {
          "base_uri": "https://localhost:8080/"
        },
        "outputId": "16926be9-f7ae-444b-9268-32e569526b3e"
      },
      "outputs": [
        {
          "output_type": "execute_result",
          "data": {
            "text/plain": [
              "(1.4156274666304436, 0.7508091116778955)"
            ]
          },
          "metadata": {},
          "execution_count": 59
        }
      ],
      "source": [
        "### Simple regret minimization: run number = 5\n",
        "\n",
        "approx_output_5 = np.append(np.min(-approx_5.GP.y[0:n_init]),-approx_5.GP.y[n_init:(n_init+iters)]) \n",
        "exact_output_5 = np.append(np.min(-exact_5.GP.y[0:n_init]),-exact_5.GP.y[n_init:(n_init+iters)]) \n",
        "\n",
        "regret_approx_5 = np.log(approx_output_5 - y_global_orig)\n",
        "regret_exact_5 = np.log(exact_output_5 - y_global_orig)\n",
        "\n",
        "simple_regret_approx_5 = min_max_array(regret_approx_5)\n",
        "simple_regret_exact_5 = min_max_array(regret_exact_5)\n",
        "\n",
        "min_simple_regret_approx_5 = min(simple_regret_approx_5)\n",
        "min_simple_regret_exact_5 = min(simple_regret_exact_5)\n",
        "\n",
        "min_simple_regret_approx_5, min_simple_regret_exact_5"
      ]
    },
    {
      "cell_type": "code",
      "execution_count": 60,
      "metadata": {
        "id": "CJv3lPuSQxfp",
        "colab": {
          "base_uri": "https://localhost:8080/"
        },
        "outputId": "59c944b7-5ac1-40c9-d423-b3bfad0d96a5"
      },
      "outputs": [
        {
          "output_type": "execute_result",
          "data": {
            "text/plain": [
              "(0.6951251884256091, 0.22452146063930684)"
            ]
          },
          "metadata": {},
          "execution_count": 60
        }
      ],
      "source": [
        "### Simple regret minimization: run number = 6\n",
        "\n",
        "approx_output_6 = np.append(np.min(-approx_6.GP.y[0:n_init]),-approx_6.GP.y[n_init:(n_init+iters)]) \n",
        "exact_output_6 = np.append(np.min(-exact_6.GP.y[0:n_init]),-exact_6.GP.y[n_init:(n_init+iters)]) \n",
        "\n",
        "regret_approx_6 = np.log(approx_output_6 - y_global_orig)\n",
        "regret_exact_6 = np.log(exact_output_6 - y_global_orig)\n",
        "\n",
        "simple_regret_approx_6 = min_max_array(regret_approx_6)\n",
        "simple_regret_exact_6 = min_max_array(regret_exact_6)\n",
        "\n",
        "min_simple_regret_approx_6 = min(simple_regret_approx_6)\n",
        "min_simple_regret_exact_6 = min(simple_regret_exact_6)\n",
        "\n",
        "min_simple_regret_approx_6, min_simple_regret_exact_6"
      ]
    },
    {
      "cell_type": "code",
      "execution_count": 61,
      "metadata": {
        "id": "quR2ZyApQxfq",
        "colab": {
          "base_uri": "https://localhost:8080/"
        },
        "outputId": "aea91855-0090-46be-a6bc-36351d43dfec"
      },
      "outputs": [
        {
          "output_type": "execute_result",
          "data": {
            "text/plain": [
              "(1.0960042672936112, 0.5048068644429878)"
            ]
          },
          "metadata": {},
          "execution_count": 61
        }
      ],
      "source": [
        "### Simple regret minimization: run number = 7\n",
        "\n",
        "approx_output_7 = np.append(np.min(-approx_7.GP.y[0:n_init]),-approx_7.GP.y[n_init:(n_init+iters)]) \n",
        "exact_output_7 = np.append(np.min(-exact_7.GP.y[0:n_init]),-exact_7.GP.y[n_init:(n_init+iters)]) \n",
        "\n",
        "regret_approx_7 = np.log(approx_output_7 - y_global_orig)\n",
        "regret_exact_7 = np.log(exact_output_7 - y_global_orig)\n",
        "\n",
        "simple_regret_approx_7 = min_max_array(regret_approx_7)\n",
        "simple_regret_exact_7 = min_max_array(regret_exact_7)\n",
        "\n",
        "min_simple_regret_approx_7 = min(simple_regret_approx_7)\n",
        "min_simple_regret_exact_7 = min(simple_regret_exact_7)\n",
        "\n",
        "min_simple_regret_approx_7, min_simple_regret_exact_7"
      ]
    },
    {
      "cell_type": "code",
      "execution_count": 62,
      "metadata": {
        "id": "99wY5nK6Qxfr",
        "colab": {
          "base_uri": "https://localhost:8080/"
        },
        "outputId": "17af3fe7-5ba8-4814-b876-552bbe699fa6"
      },
      "outputs": [
        {
          "output_type": "execute_result",
          "data": {
            "text/plain": [
              "(1.3146024788258686, 0.8652282882219788)"
            ]
          },
          "metadata": {},
          "execution_count": 62
        }
      ],
      "source": [
        "### Simple regret minimization: run number = 8\n",
        "\n",
        "approx_output_8 = np.append(np.min(-approx_8.GP.y[0:n_init]),-approx_8.GP.y[n_init:(n_init+iters)]) \n",
        "exact_output_8 = np.append(np.min(-exact_8.GP.y[0:n_init]),-exact_8.GP.y[n_init:(n_init+iters)]) \n",
        "\n",
        "regret_approx_8 = np.log(approx_output_8 - y_global_orig)\n",
        "regret_exact_8 = np.log(exact_output_8 - y_global_orig)\n",
        "\n",
        "simple_regret_approx_8 = min_max_array(regret_approx_8)\n",
        "simple_regret_exact_8 = min_max_array(regret_exact_8)\n",
        "\n",
        "min_simple_regret_approx_8 = min(simple_regret_approx_8)\n",
        "min_simple_regret_exact_8 = min(simple_regret_exact_8)\n",
        "\n",
        "min_simple_regret_approx_8, min_simple_regret_exact_8"
      ]
    },
    {
      "cell_type": "code",
      "execution_count": 63,
      "metadata": {
        "id": "qt0P5t9qQxfs",
        "colab": {
          "base_uri": "https://localhost:8080/"
        },
        "outputId": "4fe0c4c4-638a-49f2-a463-81bdd5f08c80"
      },
      "outputs": [
        {
          "output_type": "execute_result",
          "data": {
            "text/plain": [
              "(0.7161189780272612, 0.9583120909944691)"
            ]
          },
          "metadata": {},
          "execution_count": 63
        }
      ],
      "source": [
        "### Simple regret minimization: run number = 9\n",
        "\n",
        "approx_output_9 = np.append(np.min(-approx_9.GP.y[0:n_init]),-approx_9.GP.y[n_init:(n_init+iters)]) \n",
        "exact_output_9 = np.append(np.min(-exact_9.GP.y[0:n_init]),-exact_9.GP.y[n_init:(n_init+iters)]) \n",
        "\n",
        "regret_approx_9 = np.log(approx_output_9 - y_global_orig)\n",
        "regret_exact_9 = np.log(exact_output_9 - y_global_orig)\n",
        "\n",
        "simple_regret_approx_9 = min_max_array(regret_approx_9)\n",
        "simple_regret_exact_9 = min_max_array(regret_exact_9)\n",
        "\n",
        "min_simple_regret_approx_9 = min(simple_regret_approx_9)\n",
        "min_simple_regret_exact_9 = min(simple_regret_exact_9)\n",
        "\n",
        "min_simple_regret_approx_9, min_simple_regret_exact_9"
      ]
    },
    {
      "cell_type": "code",
      "execution_count": 64,
      "metadata": {
        "id": "vx8to9stQxft",
        "colab": {
          "base_uri": "https://localhost:8080/"
        },
        "outputId": "ca9769b1-b76f-4505-a935-0ffd283b9f29"
      },
      "outputs": [
        {
          "output_type": "execute_result",
          "data": {
            "text/plain": [
              "(0.9667337334665604, 1.0810710521901519)"
            ]
          },
          "metadata": {},
          "execution_count": 64
        }
      ],
      "source": [
        "### Simple regret minimization: run number = 10\n",
        "\n",
        "approx_output_10 = np.append(np.min(-approx_10.GP.y[0:n_init]),-approx_10.GP.y[n_init:(n_init+iters)]) \n",
        "exact_output_10 = np.append(np.min(-exact_10.GP.y[0:n_init]),-exact_10.GP.y[n_init:(n_init+iters)]) \n",
        "\n",
        "regret_approx_10 = np.log(approx_output_10 - y_global_orig)\n",
        "regret_exact_10 = np.log(exact_output_10 - y_global_orig)\n",
        "\n",
        "simple_regret_approx_10 = min_max_array(regret_approx_10)\n",
        "simple_regret_exact_10 = min_max_array(regret_exact_10)\n",
        "\n",
        "min_simple_regret_approx_10 = min(simple_regret_approx_10)\n",
        "min_simple_regret_exact_10 = min(simple_regret_exact_10)\n",
        "\n",
        "min_simple_regret_approx_10, min_simple_regret_exact_10"
      ]
    },
    {
      "cell_type": "code",
      "execution_count": 65,
      "metadata": {
        "id": "d-FGzWyHQxfu",
        "colab": {
          "base_uri": "https://localhost:8080/"
        },
        "outputId": "b985e189-b0ff-44d5-93f7-03557dcf9069"
      },
      "outputs": [
        {
          "output_type": "execute_result",
          "data": {
            "text/plain": [
              "(0.8521593399656744, 0.6814008522389048)"
            ]
          },
          "metadata": {},
          "execution_count": 65
        }
      ],
      "source": [
        "### Simple regret minimization: run number = 11\n",
        "\n",
        "approx_output_11 = np.append(np.min(-approx_11.GP.y[0:n_init]),-approx_11.GP.y[n_init:(n_init+iters)]) \n",
        "exact_output_11 = np.append(np.min(-exact_11.GP.y[0:n_init]),-exact_11.GP.y[n_init:(n_init+iters)]) \n",
        "\n",
        "regret_approx_11 = np.log(approx_output_11 - y_global_orig)\n",
        "regret_exact_11 = np.log(exact_output_11 - y_global_orig)\n",
        "\n",
        "simple_regret_approx_11 = min_max_array(regret_approx_11)\n",
        "simple_regret_exact_11 = min_max_array(regret_exact_11)\n",
        "\n",
        "min_simple_regret_approx_11 = min(simple_regret_approx_11)\n",
        "min_simple_regret_exact_11 = min(simple_regret_exact_11)\n",
        "\n",
        "min_simple_regret_approx_11, min_simple_regret_exact_11"
      ]
    },
    {
      "cell_type": "code",
      "execution_count": 66,
      "metadata": {
        "id": "SvtsssyjQxfv",
        "colab": {
          "base_uri": "https://localhost:8080/"
        },
        "outputId": "9938b674-2383-4096-f621-637700089cb4"
      },
      "outputs": [
        {
          "output_type": "execute_result",
          "data": {
            "text/plain": [
              "(-0.05359222109358334, -0.05359222109358334)"
            ]
          },
          "metadata": {},
          "execution_count": 66
        }
      ],
      "source": [
        "### Simple regret minimization: run number = 12\n",
        "\n",
        "approx_output_12 = np.append(np.min(-approx_12.GP.y[0:n_init]),-approx_12.GP.y[n_init:(n_init+iters)]) \n",
        "exact_output_12 = np.append(np.min(-exact_12.GP.y[0:n_init]),-exact_12.GP.y[n_init:(n_init+iters)]) \n",
        "\n",
        "regret_approx_12 = np.log(approx_output_12 - y_global_orig)\n",
        "regret_exact_12 = np.log(exact_output_12 - y_global_orig)\n",
        "\n",
        "simple_regret_approx_12 = min_max_array(regret_approx_12)\n",
        "simple_regret_exact_12 = min_max_array(regret_exact_12)\n",
        "\n",
        "min_simple_regret_approx_12 = min(simple_regret_approx_12)\n",
        "min_simple_regret_exact_12 = min(simple_regret_exact_12)\n",
        "\n",
        "min_simple_regret_approx_12, min_simple_regret_exact_12"
      ]
    },
    {
      "cell_type": "code",
      "execution_count": 67,
      "metadata": {
        "id": "K6OiGcHkQxfw",
        "colab": {
          "base_uri": "https://localhost:8080/"
        },
        "outputId": "00f8e87b-78de-4f9c-8f02-4b7e2eae1fd7"
      },
      "outputs": [
        {
          "output_type": "execute_result",
          "data": {
            "text/plain": [
              "(0.2563772262447847, 0.2563772262447847)"
            ]
          },
          "metadata": {},
          "execution_count": 67
        }
      ],
      "source": [
        "### Simple regret minimization: run number = 13\n",
        "\n",
        "approx_output_13 = np.append(np.min(-approx_13.GP.y[0:n_init]),-approx_13.GP.y[n_init:(n_init+iters)]) \n",
        "exact_output_13 = np.append(np.min(-exact_13.GP.y[0:n_init]),-exact_13.GP.y[n_init:(n_init+iters)]) \n",
        "\n",
        "regret_approx_13 = np.log(approx_output_13 - y_global_orig)\n",
        "regret_exact_13 = np.log(exact_output_13 - y_global_orig)\n",
        "\n",
        "simple_regret_approx_13 = min_max_array(regret_approx_13)\n",
        "simple_regret_exact_13 = min_max_array(regret_exact_13)\n",
        "\n",
        "min_simple_regret_approx_13 = min(simple_regret_approx_13)\n",
        "min_simple_regret_exact_13 = min(simple_regret_exact_13)\n",
        "\n",
        "min_simple_regret_approx_13, min_simple_regret_exact_13"
      ]
    },
    {
      "cell_type": "code",
      "execution_count": 68,
      "metadata": {
        "id": "ogML73shQxfx",
        "colab": {
          "base_uri": "https://localhost:8080/"
        },
        "outputId": "fe0d690e-3521-4424-b68b-9fb4cd5381d6"
      },
      "outputs": [
        {
          "output_type": "execute_result",
          "data": {
            "text/plain": [
              "(0.2573006222444479, 0.5949161906605641)"
            ]
          },
          "metadata": {},
          "execution_count": 68
        }
      ],
      "source": [
        "### Simple regret minimization: run number = 14\n",
        "\n",
        "approx_output_14 = np.append(np.min(-approx_14.GP.y[0:n_init]),-approx_14.GP.y[n_init:(n_init+iters)]) \n",
        "exact_output_14 = np.append(np.min(-exact_14.GP.y[0:n_init]),-exact_14.GP.y[n_init:(n_init+iters)]) \n",
        "\n",
        "regret_approx_14 = np.log(approx_output_14 - y_global_orig)\n",
        "regret_exact_14 = np.log(exact_output_14 - y_global_orig)\n",
        "\n",
        "simple_regret_approx_14 = min_max_array(regret_approx_14)\n",
        "simple_regret_exact_14 = min_max_array(regret_exact_14)\n",
        "\n",
        "min_simple_regret_approx_14 = min(simple_regret_approx_14)\n",
        "min_simple_regret_exact_14 = min(simple_regret_exact_14)\n",
        "\n",
        "min_simple_regret_approx_14, min_simple_regret_exact_14"
      ]
    },
    {
      "cell_type": "code",
      "execution_count": 69,
      "metadata": {
        "id": "9Eg7gFT9Qxfx",
        "colab": {
          "base_uri": "https://localhost:8080/"
        },
        "outputId": "7bc41052-6255-46bf-c79c-364b36465ee3"
      },
      "outputs": [
        {
          "output_type": "execute_result",
          "data": {
            "text/plain": [
              "(1.0779452921120594, 0.651131471604439)"
            ]
          },
          "metadata": {},
          "execution_count": 69
        }
      ],
      "source": [
        "### Simple regret minimization: run number = 15\n",
        "\n",
        "approx_output_15 = np.append(np.min(-approx_15.GP.y[0:n_init]),-approx_15.GP.y[n_init:(n_init+iters)]) \n",
        "exact_output_15 = np.append(np.min(-exact_15.GP.y[0:n_init]),-exact_15.GP.y[n_init:(n_init+iters)]) \n",
        "\n",
        "regret_approx_15 = np.log(approx_output_15 - y_global_orig)\n",
        "regret_exact_15 = np.log(exact_output_15 - y_global_orig)\n",
        "\n",
        "simple_regret_approx_15 = min_max_array(regret_approx_15)\n",
        "simple_regret_exact_15 = min_max_array(regret_exact_15)\n",
        "\n",
        "min_simple_regret_approx_15 = min(simple_regret_approx_15)\n",
        "min_simple_regret_exact_15 = min(simple_regret_exact_15)\n",
        "\n",
        "min_simple_regret_approx_15, min_simple_regret_exact_15"
      ]
    },
    {
      "cell_type": "code",
      "execution_count": 70,
      "metadata": {
        "id": "lIAC1U7ZQxfy",
        "colab": {
          "base_uri": "https://localhost:8080/"
        },
        "outputId": "fd0bf93c-25c3-4f03-d6dc-849900b73829"
      },
      "outputs": [
        {
          "output_type": "execute_result",
          "data": {
            "text/plain": [
              "(1.123184336052048, 0.1722039074736034)"
            ]
          },
          "metadata": {},
          "execution_count": 70
        }
      ],
      "source": [
        "### Simple regret minimization: run number = 16\n",
        "\n",
        "approx_output_16 = np.append(np.min(-approx_16.GP.y[0:n_init]),-approx_16.GP.y[n_init:(n_init+iters)]) \n",
        "exact_output_16 = np.append(np.min(-exact_16.GP.y[0:n_init]),-exact_16.GP.y[n_init:(n_init+iters)]) \n",
        "\n",
        "regret_approx_16 = np.log(approx_output_16 - y_global_orig)\n",
        "regret_exact_16 = np.log(exact_output_16 - y_global_orig)\n",
        "\n",
        "simple_regret_approx_16 = min_max_array(regret_approx_16)\n",
        "simple_regret_exact_16 = min_max_array(regret_exact_16)\n",
        "\n",
        "min_simple_regret_approx_16 = min(simple_regret_approx_16)\n",
        "min_simple_regret_exact_16 = min(simple_regret_exact_16)\n",
        "\n",
        "min_simple_regret_approx_16, min_simple_regret_exact_16"
      ]
    },
    {
      "cell_type": "code",
      "execution_count": 71,
      "metadata": {
        "id": "bGott36OQxfz",
        "colab": {
          "base_uri": "https://localhost:8080/"
        },
        "outputId": "f0ec9706-d0ab-4332-a760-33991141a257"
      },
      "outputs": [
        {
          "output_type": "execute_result",
          "data": {
            "text/plain": [
              "(0.8556430212941936, 0.8104034599570658)"
            ]
          },
          "metadata": {},
          "execution_count": 71
        }
      ],
      "source": [
        "### Simple regret minimization: run number = 17\n",
        "\n",
        "approx_output_17 = np.append(np.min(-approx_17.GP.y[0:n_init]),-approx_17.GP.y[n_init:(n_init+iters)]) \n",
        "exact_output_17 = np.append(np.min(-exact_17.GP.y[0:n_init]),-exact_17.GP.y[n_init:(n_init+iters)]) \n",
        "\n",
        "regret_approx_17 = np.log(approx_output_17 - y_global_orig)\n",
        "regret_exact_17 = np.log(exact_output_17 - y_global_orig)\n",
        "\n",
        "simple_regret_approx_17 = min_max_array(regret_approx_17)\n",
        "simple_regret_exact_17 = min_max_array(regret_exact_17)\n",
        "\n",
        "min_simple_regret_approx_17 = min(simple_regret_approx_17)\n",
        "min_simple_regret_exact_17 = min(simple_regret_exact_17)\n",
        "\n",
        "min_simple_regret_approx_17, min_simple_regret_exact_17"
      ]
    },
    {
      "cell_type": "code",
      "execution_count": 72,
      "metadata": {
        "id": "Cz9ZYMBMQxfz",
        "colab": {
          "base_uri": "https://localhost:8080/"
        },
        "outputId": "91a990aa-9097-4f80-a45b-5618b234175d"
      },
      "outputs": [
        {
          "output_type": "execute_result",
          "data": {
            "text/plain": [
              "(1.178105820562935, 1.1422353331541109)"
            ]
          },
          "metadata": {},
          "execution_count": 72
        }
      ],
      "source": [
        "### Simple regret minimization: run number = 18\n",
        "\n",
        "approx_output_18 = np.append(np.min(-approx_18.GP.y[0:n_init]),-approx_18.GP.y[n_init:(n_init+iters)]) \n",
        "exact_output_18 = np.append(np.min(-exact_18.GP.y[0:n_init]),-exact_18.GP.y[n_init:(n_init+iters)]) \n",
        "\n",
        "regret_approx_18 = np.log(approx_output_18 - y_global_orig)\n",
        "regret_exact_18 = np.log(exact_output_18 - y_global_orig)\n",
        "\n",
        "simple_regret_approx_18 = min_max_array(regret_approx_18)\n",
        "simple_regret_exact_18 = min_max_array(regret_exact_18)\n",
        "\n",
        "min_simple_regret_approx_18 = min(simple_regret_approx_18)\n",
        "min_simple_regret_exact_18 = min(simple_regret_exact_18)\n",
        "\n",
        "min_simple_regret_approx_18, min_simple_regret_exact_18"
      ]
    },
    {
      "cell_type": "code",
      "execution_count": 73,
      "metadata": {
        "id": "OBfpWOHNQxf0",
        "colab": {
          "base_uri": "https://localhost:8080/"
        },
        "outputId": "0f84b537-435e-4106-9b51-feb43743529e"
      },
      "outputs": [
        {
          "output_type": "execute_result",
          "data": {
            "text/plain": [
              "(-0.050215264730154655, 0.1970022317043208)"
            ]
          },
          "metadata": {},
          "execution_count": 73
        }
      ],
      "source": [
        "### Simple regret minimization: run number = 19\n",
        "\n",
        "approx_output_19 = np.append(np.min(-approx_19.GP.y[0:n_init]),-approx_19.GP.y[n_init:(n_init+iters)]) \n",
        "exact_output_19 = np.append(np.min(-exact_19.GP.y[0:n_init]),-exact_19.GP.y[n_init:(n_init+iters)]) \n",
        "\n",
        "regret_approx_19 = np.log(approx_output_19 - y_global_orig)\n",
        "regret_exact_19 = np.log(exact_output_19 - y_global_orig)\n",
        "\n",
        "simple_regret_approx_19 = min_max_array(regret_approx_19)\n",
        "simple_regret_exact_19 = min_max_array(regret_exact_19)\n",
        "\n",
        "min_simple_regret_approx_19 = min(simple_regret_approx_19)\n",
        "min_simple_regret_exact_19 = min(simple_regret_exact_19)\n",
        "\n",
        "min_simple_regret_approx_19, min_simple_regret_exact_19"
      ]
    },
    {
      "cell_type": "code",
      "execution_count": 74,
      "metadata": {
        "id": "BE1AJ7NsQxf0",
        "colab": {
          "base_uri": "https://localhost:8080/"
        },
        "outputId": "c41d5f10-67ef-4818-c8b7-e99ed1a42a7f"
      },
      "outputs": [
        {
          "output_type": "execute_result",
          "data": {
            "text/plain": [
              "(1.741688754859539, 1.154502918693551)"
            ]
          },
          "metadata": {},
          "execution_count": 74
        }
      ],
      "source": [
        "### Simple regret minimization: run number = 20\n",
        "\n",
        "approx_output_20 = np.append(np.min(-approx_20.GP.y[0:n_init]),-approx_20.GP.y[n_init:(n_init+iters)]) \n",
        "exact_output_20 = np.append(np.min(-exact_20.GP.y[0:n_init]),-exact_20.GP.y[n_init:(n_init+iters)]) \n",
        "\n",
        "regret_approx_20 = np.log(approx_output_20 - y_global_orig)\n",
        "regret_exact_20 = np.log(exact_output_20 - y_global_orig)\n",
        "\n",
        "simple_regret_approx_20 = min_max_array(regret_approx_20)\n",
        "simple_regret_exact_20 = min_max_array(regret_exact_20)\n",
        "\n",
        "min_simple_regret_approx_20 = min(simple_regret_approx_20)\n",
        "min_simple_regret_exact_20 = min(simple_regret_exact_20)\n",
        "\n",
        "min_simple_regret_approx_20, min_simple_regret_exact_20"
      ]
    },
    {
      "cell_type": "code",
      "execution_count": 75,
      "metadata": {
        "id": "bpX-bKAHQxf1"
      },
      "outputs": [],
      "source": [
        "# Iteration1 :\n",
        "\n",
        "slice1 = 0\n",
        "\n",
        "approx1 = [simple_regret_approx_1[slice1],\n",
        "       simple_regret_approx_2[slice1],\n",
        "       simple_regret_approx_3[slice1],\n",
        "       simple_regret_approx_4[slice1],\n",
        "       simple_regret_approx_5[slice1],\n",
        "       simple_regret_approx_6[slice1],\n",
        "       simple_regret_approx_7[slice1],\n",
        "       simple_regret_approx_8[slice1],\n",
        "       simple_regret_approx_9[slice1],\n",
        "       simple_regret_approx_10[slice1],\n",
        "       simple_regret_approx_11[slice1],\n",
        "       simple_regret_approx_12[slice1],\n",
        "       simple_regret_approx_13[slice1],\n",
        "       simple_regret_approx_14[slice1],\n",
        "       simple_regret_approx_15[slice1],\n",
        "       simple_regret_approx_16[slice1],\n",
        "       simple_regret_approx_17[slice1],\n",
        "       simple_regret_approx_18[slice1],\n",
        "       simple_regret_approx_19[slice1],\n",
        "       simple_regret_approx_20[slice1]]\n",
        "\n",
        "exact1 = [simple_regret_exact_1[slice1],\n",
        "       simple_regret_exact_2[slice1],\n",
        "       simple_regret_exact_3[slice1],\n",
        "       simple_regret_exact_4[slice1],\n",
        "       simple_regret_exact_5[slice1],\n",
        "       simple_regret_exact_6[slice1],\n",
        "       simple_regret_exact_7[slice1],\n",
        "       simple_regret_exact_8[slice1],\n",
        "       simple_regret_exact_9[slice1],\n",
        "       simple_regret_exact_10[slice1],\n",
        "       simple_regret_exact_11[slice1],\n",
        "       simple_regret_exact_12[slice1],\n",
        "       simple_regret_exact_13[slice1],\n",
        "       simple_regret_exact_14[slice1],\n",
        "       simple_regret_exact_15[slice1],\n",
        "       simple_regret_exact_16[slice1],\n",
        "       simple_regret_exact_17[slice1],\n",
        "       simple_regret_exact_18[slice1],\n",
        "       simple_regret_exact_19[slice1],\n",
        "       simple_regret_exact_20[slice1]]\n",
        "\n",
        "approx1_results = pd.DataFrame(approx1).sort_values(by=[0], ascending=False)\n",
        "exact1_results = pd.DataFrame(exact1).sort_values(by=[0], ascending=False)\n",
        "\n",
        "### Best simple regret minimization IQR - approx:\n",
        "lower_approx1 = np.asarray(approx1_results[4:5][0])[0]\n",
        "median_approx1 = np.asarray(approx1_results[9:10][0])[0]\n",
        "upper_approx1 = np.asarray(approx1_results[14:15][0])[0]\n",
        "\n",
        "lower_exact1 = np.asarray(exact1_results[4:5][0])[0]\n",
        "median_exact1 = np.asarray(exact1_results[9:10][0])[0]\n",
        "upper_exact1 = np.asarray(exact1_results[14:15][0])[0]"
      ]
    },
    {
      "cell_type": "code",
      "execution_count": 76,
      "metadata": {
        "id": "CgIkJA1xQxf2"
      },
      "outputs": [],
      "source": [
        "# Iteration11 :\n",
        "\n",
        "slice11 = 10\n",
        "\n",
        "approx11 = [simple_regret_approx_1[slice11],\n",
        "       simple_regret_approx_2[slice11],\n",
        "       simple_regret_approx_3[slice11],\n",
        "       simple_regret_approx_4[slice11],\n",
        "       simple_regret_approx_5[slice11],\n",
        "       simple_regret_approx_6[slice11],\n",
        "       simple_regret_approx_7[slice11],\n",
        "       simple_regret_approx_8[slice11],\n",
        "       simple_regret_approx_9[slice11],\n",
        "       simple_regret_approx_10[slice11],\n",
        "       simple_regret_approx_11[slice11],\n",
        "       simple_regret_approx_12[slice11],\n",
        "       simple_regret_approx_13[slice11],\n",
        "       simple_regret_approx_14[slice11],\n",
        "       simple_regret_approx_15[slice11],\n",
        "       simple_regret_approx_16[slice11],\n",
        "       simple_regret_approx_17[slice11],\n",
        "       simple_regret_approx_18[slice11],\n",
        "       simple_regret_approx_19[slice11],\n",
        "       simple_regret_approx_20[slice11]]\n",
        "\n",
        "exact11 = [simple_regret_exact_1[slice11],\n",
        "       simple_regret_exact_2[slice11],\n",
        "       simple_regret_exact_3[slice11],\n",
        "       simple_regret_exact_4[slice11],\n",
        "       simple_regret_exact_5[slice11],\n",
        "       simple_regret_exact_6[slice11],\n",
        "       simple_regret_exact_7[slice11],\n",
        "       simple_regret_exact_8[slice11],\n",
        "       simple_regret_exact_9[slice11],\n",
        "       simple_regret_exact_10[slice11],\n",
        "       simple_regret_exact_11[slice11],\n",
        "       simple_regret_exact_12[slice11],\n",
        "       simple_regret_exact_13[slice11],\n",
        "       simple_regret_exact_14[slice11],\n",
        "       simple_regret_exact_15[slice11],\n",
        "       simple_regret_exact_16[slice11],\n",
        "       simple_regret_exact_17[slice11],\n",
        "       simple_regret_exact_18[slice11],\n",
        "       simple_regret_exact_19[slice11],\n",
        "       simple_regret_exact_20[slice11]]\n",
        "\n",
        "approx11_results = pd.DataFrame(approx11).sort_values(by=[0], ascending=False)\n",
        "exact11_results = pd.DataFrame(exact11).sort_values(by=[0], ascending=False)\n",
        "\n",
        "### Best simple regret minimization IQR - approx:\n",
        "lower_approx11 = np.asarray(approx11_results[4:5][0])[0]\n",
        "median_approx11 = np.asarray(approx11_results[9:10][0])[0]\n",
        "upper_approx11 = np.asarray(approx11_results[14:15][0])[0]\n",
        "\n",
        "lower_exact11 = np.asarray(exact11_results[4:5][0])[0]\n",
        "median_exact11 = np.asarray(exact11_results[9:10][0])[0]\n",
        "upper_exact11 = np.asarray(exact11_results[14:15][0])[0]"
      ]
    },
    {
      "cell_type": "code",
      "execution_count": 77,
      "metadata": {
        "id": "MFePDfGuQxf2"
      },
      "outputs": [],
      "source": [
        "# Iteration21 :\n",
        "\n",
        "slice21 = 20\n",
        "\n",
        "approx21 = [simple_regret_approx_1[slice21],\n",
        "       simple_regret_approx_2[slice21],\n",
        "       simple_regret_approx_3[slice21],\n",
        "       simple_regret_approx_4[slice21],\n",
        "       simple_regret_approx_5[slice21],\n",
        "       simple_regret_approx_6[slice21],\n",
        "       simple_regret_approx_7[slice21],\n",
        "       simple_regret_approx_8[slice21],\n",
        "       simple_regret_approx_9[slice21],\n",
        "       simple_regret_approx_10[slice21],\n",
        "       simple_regret_approx_11[slice21],\n",
        "       simple_regret_approx_12[slice21],\n",
        "       simple_regret_approx_13[slice21],\n",
        "       simple_regret_approx_14[slice21],\n",
        "       simple_regret_approx_15[slice21],\n",
        "       simple_regret_approx_16[slice21],\n",
        "       simple_regret_approx_17[slice21],\n",
        "       simple_regret_approx_18[slice21],\n",
        "       simple_regret_approx_19[slice21],\n",
        "       simple_regret_approx_20[slice21]]\n",
        "\n",
        "exact21 = [simple_regret_exact_1[slice21],\n",
        "       simple_regret_exact_2[slice21],\n",
        "       simple_regret_exact_3[slice21],\n",
        "       simple_regret_exact_4[slice21],\n",
        "       simple_regret_exact_5[slice21],\n",
        "       simple_regret_exact_6[slice21],\n",
        "       simple_regret_exact_7[slice21],\n",
        "       simple_regret_exact_8[slice21],\n",
        "       simple_regret_exact_9[slice21],\n",
        "       simple_regret_exact_10[slice21],\n",
        "       simple_regret_exact_11[slice21],\n",
        "       simple_regret_exact_12[slice21],\n",
        "       simple_regret_exact_13[slice21],\n",
        "       simple_regret_exact_14[slice21],\n",
        "       simple_regret_exact_15[slice21],\n",
        "       simple_regret_exact_16[slice21],\n",
        "       simple_regret_exact_17[slice21],\n",
        "       simple_regret_exact_18[slice21],\n",
        "       simple_regret_exact_19[slice21],\n",
        "       simple_regret_exact_20[slice21]]\n",
        "\n",
        "approx21_results = pd.DataFrame(approx21).sort_values(by=[0], ascending=False)\n",
        "exact21_results = pd.DataFrame(exact21).sort_values(by=[0], ascending=False)\n",
        "\n",
        "### Best simple regret minimization IQR - approx:\n",
        "lower_approx21 = np.asarray(approx21_results[4:5][0])[0]\n",
        "median_approx21 = np.asarray(approx21_results[9:10][0])[0]\n",
        "upper_approx21 = np.asarray(approx21_results[14:15][0])[0]\n",
        "\n",
        "lower_exact21 = np.asarray(exact21_results[4:5][0])[0]\n",
        "median_exact21 = np.asarray(exact21_results[9:10][0])[0]\n",
        "upper_exact21 = np.asarray(exact21_results[14:15][0])[0]"
      ]
    },
    {
      "cell_type": "code",
      "execution_count": 78,
      "metadata": {
        "id": "PrRDB1kfQxf3"
      },
      "outputs": [],
      "source": [
        "# Iteration2 :\n",
        "\n",
        "slice2 = 1\n",
        "\n",
        "approx2 = [simple_regret_approx_1[slice2],\n",
        "       simple_regret_approx_2[slice2],\n",
        "       simple_regret_approx_3[slice2],\n",
        "       simple_regret_approx_4[slice2],\n",
        "       simple_regret_approx_5[slice2],\n",
        "       simple_regret_approx_6[slice2],\n",
        "       simple_regret_approx_7[slice2],\n",
        "       simple_regret_approx_8[slice2],\n",
        "       simple_regret_approx_9[slice2],\n",
        "       simple_regret_approx_10[slice2],\n",
        "       simple_regret_approx_11[slice2],\n",
        "       simple_regret_approx_12[slice2],\n",
        "       simple_regret_approx_13[slice2],\n",
        "       simple_regret_approx_14[slice2],\n",
        "       simple_regret_approx_15[slice2],\n",
        "       simple_regret_approx_16[slice2],\n",
        "       simple_regret_approx_17[slice2],\n",
        "       simple_regret_approx_18[slice2],\n",
        "       simple_regret_approx_19[slice2],\n",
        "       simple_regret_approx_20[slice2]]\n",
        "\n",
        "exact2 = [simple_regret_exact_1[slice2],\n",
        "       simple_regret_exact_2[slice2],\n",
        "       simple_regret_exact_3[slice2],\n",
        "       simple_regret_exact_4[slice2],\n",
        "       simple_regret_exact_5[slice2],\n",
        "       simple_regret_exact_6[slice2],\n",
        "       simple_regret_exact_7[slice2],\n",
        "       simple_regret_exact_8[slice2],\n",
        "       simple_regret_exact_9[slice2],\n",
        "       simple_regret_exact_10[slice2],\n",
        "       simple_regret_exact_11[slice2],\n",
        "       simple_regret_exact_12[slice2],\n",
        "       simple_regret_exact_13[slice2],\n",
        "       simple_regret_exact_14[slice2],\n",
        "       simple_regret_exact_15[slice2],\n",
        "       simple_regret_exact_16[slice2],\n",
        "       simple_regret_exact_17[slice2],\n",
        "       simple_regret_exact_18[slice2],\n",
        "       simple_regret_exact_19[slice2],\n",
        "       simple_regret_exact_20[slice2]]\n",
        "\n",
        "approx2_results = pd.DataFrame(approx2).sort_values(by=[0], ascending=False)\n",
        "exact2_results = pd.DataFrame(exact2).sort_values(by=[0], ascending=False)\n",
        "\n",
        "### Best simple regret minimization IQR - approx:\n",
        "lower_approx2 = np.asarray(approx2_results[4:5][0])[0]\n",
        "median_approx2 = np.asarray(approx2_results[9:10][0])[0]\n",
        "upper_approx2 = np.asarray(approx2_results[14:15][0])[0]\n",
        "\n",
        "lower_exact2 = np.asarray(exact2_results[4:5][0])[0]\n",
        "median_exact2 = np.asarray(exact2_results[9:10][0])[0]\n",
        "upper_exact2 = np.asarray(exact2_results[14:15][0])[0]"
      ]
    },
    {
      "cell_type": "code",
      "execution_count": 79,
      "metadata": {
        "id": "B8ncJDYeQxf3"
      },
      "outputs": [],
      "source": [
        "# Iteration12 :\n",
        "\n",
        "slice12 = 11\n",
        "\n",
        "approx12 = [simple_regret_approx_1[slice12],\n",
        "       simple_regret_approx_2[slice12],\n",
        "       simple_regret_approx_3[slice12],\n",
        "       simple_regret_approx_4[slice12],\n",
        "       simple_regret_approx_5[slice12],\n",
        "       simple_regret_approx_6[slice12],\n",
        "       simple_regret_approx_7[slice12],\n",
        "       simple_regret_approx_8[slice12],\n",
        "       simple_regret_approx_9[slice12],\n",
        "       simple_regret_approx_10[slice12],\n",
        "       simple_regret_approx_11[slice12],\n",
        "       simple_regret_approx_12[slice12],\n",
        "       simple_regret_approx_13[slice12],\n",
        "       simple_regret_approx_14[slice12],\n",
        "       simple_regret_approx_15[slice12],\n",
        "       simple_regret_approx_16[slice12],\n",
        "       simple_regret_approx_17[slice12],\n",
        "       simple_regret_approx_18[slice12],\n",
        "       simple_regret_approx_19[slice12],\n",
        "       simple_regret_approx_20[slice12]]\n",
        "\n",
        "exact12 = [simple_regret_exact_1[slice12],\n",
        "       simple_regret_exact_2[slice12],\n",
        "       simple_regret_exact_3[slice12],\n",
        "       simple_regret_exact_4[slice12],\n",
        "       simple_regret_exact_5[slice12],\n",
        "       simple_regret_exact_6[slice12],\n",
        "       simple_regret_exact_7[slice12],\n",
        "       simple_regret_exact_8[slice12],\n",
        "       simple_regret_exact_9[slice12],\n",
        "       simple_regret_exact_10[slice12],\n",
        "       simple_regret_exact_11[slice12],\n",
        "       simple_regret_exact_12[slice12],\n",
        "       simple_regret_exact_13[slice12],\n",
        "       simple_regret_exact_14[slice12],\n",
        "       simple_regret_exact_15[slice12],\n",
        "       simple_regret_exact_16[slice12],\n",
        "       simple_regret_exact_17[slice12],\n",
        "       simple_regret_exact_18[slice12],\n",
        "       simple_regret_exact_19[slice12],\n",
        "       simple_regret_exact_20[slice12]]\n",
        "\n",
        "approx12_results = pd.DataFrame(approx12).sort_values(by=[0], ascending=False)\n",
        "exact12_results = pd.DataFrame(exact12).sort_values(by=[0], ascending=False)\n",
        "\n",
        "### Best simple regret minimization IQR - approx:\n",
        "lower_approx12 = np.asarray(approx12_results[4:5][0])[0]\n",
        "median_approx12 = np.asarray(approx12_results[9:10][0])[0]\n",
        "upper_approx12 = np.asarray(approx12_results[14:15][0])[0]\n",
        "\n",
        "lower_exact12 = np.asarray(exact12_results[4:5][0])[0]\n",
        "median_exact12 = np.asarray(exact12_results[9:10][0])[0]\n",
        "upper_exact12 = np.asarray(exact12_results[14:15][0])[0]"
      ]
    },
    {
      "cell_type": "code",
      "execution_count": 80,
      "metadata": {
        "id": "Jn4KpGvcQxf4"
      },
      "outputs": [],
      "source": [
        "# Iteration3 :\n",
        "\n",
        "slice3 = 2\n",
        "\n",
        "approx3 = [simple_regret_approx_1[slice3],\n",
        "       simple_regret_approx_2[slice3],\n",
        "       simple_regret_approx_3[slice3],\n",
        "       simple_regret_approx_4[slice3],\n",
        "       simple_regret_approx_5[slice3],\n",
        "       simple_regret_approx_6[slice3],\n",
        "       simple_regret_approx_7[slice3],\n",
        "       simple_regret_approx_8[slice3],\n",
        "       simple_regret_approx_9[slice3],\n",
        "       simple_regret_approx_10[slice3],\n",
        "       simple_regret_approx_11[slice3],\n",
        "       simple_regret_approx_12[slice3],\n",
        "       simple_regret_approx_13[slice3],\n",
        "       simple_regret_approx_14[slice3],\n",
        "       simple_regret_approx_15[slice3],\n",
        "       simple_regret_approx_16[slice3],\n",
        "       simple_regret_approx_17[slice3],\n",
        "       simple_regret_approx_18[slice3],\n",
        "       simple_regret_approx_19[slice3],\n",
        "       simple_regret_approx_20[slice3]]\n",
        "\n",
        "exact3 = [simple_regret_exact_1[slice3],\n",
        "       simple_regret_exact_2[slice3],\n",
        "       simple_regret_exact_3[slice3],\n",
        "       simple_regret_exact_4[slice3],\n",
        "       simple_regret_exact_5[slice3],\n",
        "       simple_regret_exact_6[slice3],\n",
        "       simple_regret_exact_7[slice3],\n",
        "       simple_regret_exact_8[slice3],\n",
        "       simple_regret_exact_9[slice3],\n",
        "       simple_regret_exact_10[slice3],\n",
        "       simple_regret_exact_11[slice3],\n",
        "       simple_regret_exact_12[slice3],\n",
        "       simple_regret_exact_13[slice3],\n",
        "       simple_regret_exact_14[slice3],\n",
        "       simple_regret_exact_15[slice3],\n",
        "       simple_regret_exact_16[slice3],\n",
        "       simple_regret_exact_17[slice3],\n",
        "       simple_regret_exact_18[slice3],\n",
        "       simple_regret_exact_19[slice3],\n",
        "       simple_regret_exact_20[slice3]]\n",
        "\n",
        "approx3_results = pd.DataFrame(approx3).sort_values(by=[0], ascending=False)\n",
        "exact3_results = pd.DataFrame(exact3).sort_values(by=[0], ascending=False)\n",
        "\n",
        "### Best simple regret minimization IQR - approx:\n",
        "lower_approx3 = np.asarray(approx3_results[4:5][0])[0]\n",
        "median_approx3 = np.asarray(approx3_results[9:10][0])[0]\n",
        "upper_approx3 = np.asarray(approx3_results[14:15][0])[0]\n",
        "\n",
        "lower_exact3 = np.asarray(exact3_results[4:5][0])[0]\n",
        "median_exact3 = np.asarray(exact3_results[9:10][0])[0]\n",
        "upper_exact3 = np.asarray(exact3_results[14:15][0])[0]"
      ]
    },
    {
      "cell_type": "code",
      "execution_count": 81,
      "metadata": {
        "id": "plf83wxrQxf4"
      },
      "outputs": [],
      "source": [
        "# Iteration13 :\n",
        "\n",
        "slice13 = 12\n",
        "\n",
        "approx13 = [simple_regret_approx_1[slice13],\n",
        "       simple_regret_approx_2[slice13],\n",
        "       simple_regret_approx_3[slice13],\n",
        "       simple_regret_approx_4[slice13],\n",
        "       simple_regret_approx_5[slice13],\n",
        "       simple_regret_approx_6[slice13],\n",
        "       simple_regret_approx_7[slice13],\n",
        "       simple_regret_approx_8[slice13],\n",
        "       simple_regret_approx_9[slice13],\n",
        "       simple_regret_approx_10[slice13],\n",
        "       simple_regret_approx_11[slice13],\n",
        "       simple_regret_approx_12[slice13],\n",
        "       simple_regret_approx_13[slice13],\n",
        "       simple_regret_approx_14[slice13],\n",
        "       simple_regret_approx_15[slice13],\n",
        "       simple_regret_approx_16[slice13],\n",
        "       simple_regret_approx_17[slice13],\n",
        "       simple_regret_approx_18[slice13],\n",
        "       simple_regret_approx_19[slice13],\n",
        "       simple_regret_approx_20[slice13]]\n",
        "\n",
        "exact13 = [simple_regret_exact_1[slice13],\n",
        "       simple_regret_exact_2[slice13],\n",
        "       simple_regret_exact_3[slice13],\n",
        "       simple_regret_exact_4[slice13],\n",
        "       simple_regret_exact_5[slice13],\n",
        "       simple_regret_exact_6[slice13],\n",
        "       simple_regret_exact_7[slice13],\n",
        "       simple_regret_exact_8[slice13],\n",
        "       simple_regret_exact_9[slice13],\n",
        "       simple_regret_exact_10[slice13],\n",
        "       simple_regret_exact_11[slice13],\n",
        "       simple_regret_exact_12[slice13],\n",
        "       simple_regret_exact_13[slice13],\n",
        "       simple_regret_exact_14[slice13],\n",
        "       simple_regret_exact_15[slice13],\n",
        "       simple_regret_exact_16[slice13],\n",
        "       simple_regret_exact_17[slice13],\n",
        "       simple_regret_exact_18[slice13],\n",
        "       simple_regret_exact_19[slice13],\n",
        "       simple_regret_exact_20[slice13]]\n",
        "\n",
        "approx13_results = pd.DataFrame(approx13).sort_values(by=[0], ascending=False)\n",
        "exact13_results = pd.DataFrame(exact13).sort_values(by=[0], ascending=False)\n",
        "\n",
        "### Best simple regret minimization IQR - approx:\n",
        "lower_approx13 = np.asarray(approx13_results[4:5][0])[0]\n",
        "median_approx13 = np.asarray(approx13_results[9:10][0])[0]\n",
        "upper_approx13 = np.asarray(approx13_results[14:15][0])[0]\n",
        "\n",
        "lower_exact13 = np.asarray(exact13_results[4:5][0])[0]\n",
        "median_exact13 = np.asarray(exact13_results[9:10][0])[0]\n",
        "upper_exact13 = np.asarray(exact13_results[14:15][0])[0]"
      ]
    },
    {
      "cell_type": "code",
      "execution_count": 82,
      "metadata": {
        "id": "9A7mlVvJQxf5"
      },
      "outputs": [],
      "source": [
        "# Iteration4 :\n",
        "\n",
        "slice4 = 3\n",
        "\n",
        "approx4 = [simple_regret_approx_1[slice4],\n",
        "       simple_regret_approx_2[slice4],\n",
        "       simple_regret_approx_3[slice4],\n",
        "       simple_regret_approx_4[slice4],\n",
        "       simple_regret_approx_5[slice4],\n",
        "       simple_regret_approx_6[slice4],\n",
        "       simple_regret_approx_7[slice4],\n",
        "       simple_regret_approx_8[slice4],\n",
        "       simple_regret_approx_9[slice4],\n",
        "       simple_regret_approx_10[slice4],\n",
        "       simple_regret_approx_11[slice4],\n",
        "       simple_regret_approx_12[slice4],\n",
        "       simple_regret_approx_13[slice4],\n",
        "       simple_regret_approx_14[slice4],\n",
        "       simple_regret_approx_15[slice4],\n",
        "       simple_regret_approx_16[slice4],\n",
        "       simple_regret_approx_17[slice4],\n",
        "       simple_regret_approx_18[slice4],\n",
        "       simple_regret_approx_19[slice4],\n",
        "       simple_regret_approx_20[slice4]]\n",
        "\n",
        "exact4 = [simple_regret_exact_1[slice4],\n",
        "       simple_regret_exact_2[slice4],\n",
        "       simple_regret_exact_3[slice4],\n",
        "       simple_regret_exact_4[slice4],\n",
        "       simple_regret_exact_5[slice4],\n",
        "       simple_regret_exact_6[slice4],\n",
        "       simple_regret_exact_7[slice4],\n",
        "       simple_regret_exact_8[slice4],\n",
        "       simple_regret_exact_9[slice4],\n",
        "       simple_regret_exact_10[slice4],\n",
        "       simple_regret_exact_11[slice4],\n",
        "       simple_regret_exact_12[slice4],\n",
        "       simple_regret_exact_13[slice4],\n",
        "       simple_regret_exact_14[slice4],\n",
        "       simple_regret_exact_15[slice4],\n",
        "       simple_regret_exact_16[slice4],\n",
        "       simple_regret_exact_17[slice4],\n",
        "       simple_regret_exact_18[slice4],\n",
        "       simple_regret_exact_19[slice4],\n",
        "       simple_regret_exact_20[slice4]]\n",
        "\n",
        "approx4_results = pd.DataFrame(approx4).sort_values(by=[0], ascending=False)\n",
        "exact4_results = pd.DataFrame(exact4).sort_values(by=[0], ascending=False)\n",
        "\n",
        "### Best simple regret minimization IQR - approx:\n",
        "lower_approx4 = np.asarray(approx4_results[4:5][0])[0]\n",
        "median_approx4 = np.asarray(approx4_results[9:10][0])[0]\n",
        "upper_approx4 = np.asarray(approx4_results[14:15][0])[0]\n",
        "\n",
        "lower_exact4 = np.asarray(exact4_results[4:5][0])[0]\n",
        "median_exact4 = np.asarray(exact4_results[9:10][0])[0]\n",
        "upper_exact4 = np.asarray(exact4_results[14:15][0])[0]"
      ]
    },
    {
      "cell_type": "code",
      "execution_count": 83,
      "metadata": {
        "id": "ijq-rioYQxf5"
      },
      "outputs": [],
      "source": [
        "# Iteration14 :\n",
        "\n",
        "slice14 = 13\n",
        "\n",
        "approx14 = [simple_regret_approx_1[slice14],\n",
        "       simple_regret_approx_2[slice14],\n",
        "       simple_regret_approx_3[slice14],\n",
        "       simple_regret_approx_4[slice14],\n",
        "       simple_regret_approx_5[slice14],\n",
        "       simple_regret_approx_6[slice14],\n",
        "       simple_regret_approx_7[slice14],\n",
        "       simple_regret_approx_8[slice14],\n",
        "       simple_regret_approx_9[slice14],\n",
        "       simple_regret_approx_10[slice14],\n",
        "       simple_regret_approx_11[slice14],\n",
        "       simple_regret_approx_12[slice14],\n",
        "       simple_regret_approx_13[slice14],\n",
        "       simple_regret_approx_14[slice14],\n",
        "       simple_regret_approx_15[slice14],\n",
        "       simple_regret_approx_16[slice14],\n",
        "       simple_regret_approx_17[slice14],\n",
        "       simple_regret_approx_18[slice14],\n",
        "       simple_regret_approx_19[slice14],\n",
        "       simple_regret_approx_20[slice14]]\n",
        "\n",
        "exact14 = [simple_regret_exact_1[slice14],\n",
        "       simple_regret_exact_2[slice14],\n",
        "       simple_regret_exact_3[slice14],\n",
        "       simple_regret_exact_4[slice14],\n",
        "       simple_regret_exact_5[slice14],\n",
        "       simple_regret_exact_6[slice14],\n",
        "       simple_regret_exact_7[slice14],\n",
        "       simple_regret_exact_8[slice14],\n",
        "       simple_regret_exact_9[slice14],\n",
        "       simple_regret_exact_10[slice14],\n",
        "       simple_regret_exact_11[slice14],\n",
        "       simple_regret_exact_12[slice14],\n",
        "       simple_regret_exact_13[slice14],\n",
        "       simple_regret_exact_14[slice14],\n",
        "       simple_regret_exact_15[slice14],\n",
        "       simple_regret_exact_16[slice14],\n",
        "       simple_regret_exact_17[slice14],\n",
        "       simple_regret_exact_18[slice14],\n",
        "       simple_regret_exact_19[slice14],\n",
        "       simple_regret_exact_20[slice14]]\n",
        "\n",
        "approx14_results = pd.DataFrame(approx14).sort_values(by=[0], ascending=False)\n",
        "exact14_results = pd.DataFrame(exact14).sort_values(by=[0], ascending=False)\n",
        "\n",
        "### Best simple regret minimization IQR - approx:\n",
        "lower_approx14 = np.asarray(approx14_results[4:5][0])[0]\n",
        "median_approx14 = np.asarray(approx14_results[9:10][0])[0]\n",
        "upper_approx14 = np.asarray(approx14_results[14:15][0])[0]\n",
        "\n",
        "lower_exact14 = np.asarray(exact14_results[4:5][0])[0]\n",
        "median_exact14 = np.asarray(exact14_results[9:10][0])[0]\n",
        "upper_exact14 = np.asarray(exact14_results[14:15][0])[0]"
      ]
    },
    {
      "cell_type": "code",
      "execution_count": 84,
      "metadata": {
        "id": "XINlZjoTd-ZK"
      },
      "outputs": [],
      "source": [
        "# Iteration5 :\n",
        "\n",
        "slice5 = 4\n",
        "\n",
        "approx5 = [simple_regret_approx_1[slice5],\n",
        "       simple_regret_approx_2[slice5],\n",
        "       simple_regret_approx_3[slice5],\n",
        "       simple_regret_approx_4[slice5],\n",
        "       simple_regret_approx_5[slice5],\n",
        "       simple_regret_approx_6[slice5],\n",
        "       simple_regret_approx_7[slice5],\n",
        "       simple_regret_approx_8[slice5],\n",
        "       simple_regret_approx_9[slice5],\n",
        "       simple_regret_approx_10[slice5],\n",
        "       simple_regret_approx_11[slice5],\n",
        "       simple_regret_approx_12[slice5],\n",
        "       simple_regret_approx_13[slice5],\n",
        "       simple_regret_approx_14[slice5],\n",
        "       simple_regret_approx_15[slice5],\n",
        "       simple_regret_approx_16[slice5],\n",
        "       simple_regret_approx_17[slice5],\n",
        "       simple_regret_approx_18[slice5],\n",
        "       simple_regret_approx_19[slice5],\n",
        "       simple_regret_approx_20[slice5]]\n",
        "\n",
        "exact5 = [simple_regret_exact_1[slice5],\n",
        "       simple_regret_exact_2[slice5],\n",
        "       simple_regret_exact_3[slice5],\n",
        "       simple_regret_exact_4[slice5],\n",
        "       simple_regret_exact_5[slice5],\n",
        "       simple_regret_exact_6[slice5],\n",
        "       simple_regret_exact_7[slice5],\n",
        "       simple_regret_exact_8[slice5],\n",
        "       simple_regret_exact_9[slice5],\n",
        "       simple_regret_exact_10[slice5],\n",
        "       simple_regret_exact_11[slice5],\n",
        "       simple_regret_exact_12[slice5],\n",
        "       simple_regret_exact_13[slice5],\n",
        "       simple_regret_exact_14[slice5],\n",
        "       simple_regret_exact_15[slice5],\n",
        "       simple_regret_exact_16[slice5],\n",
        "       simple_regret_exact_17[slice5],\n",
        "       simple_regret_exact_18[slice5],\n",
        "       simple_regret_exact_19[slice5],\n",
        "       simple_regret_exact_20[slice5]]\n",
        "\n",
        "approx5_results = pd.DataFrame(approx5).sort_values(by=[0], ascending=False)\n",
        "exact5_results = pd.DataFrame(exact5).sort_values(by=[0], ascending=False)\n",
        "\n",
        "### Best simple regret minimization IQR - approx:\n",
        "lower_approx5 = np.asarray(approx5_results[4:5][0])[0]\n",
        "median_approx5 = np.asarray(approx5_results[9:10][0])[0]\n",
        "upper_approx5 = np.asarray(approx5_results[14:15][0])[0]\n",
        "\n",
        "lower_exact5 = np.asarray(exact5_results[4:5][0])[0]\n",
        "median_exact5 = np.asarray(exact5_results[9:10][0])[0]\n",
        "upper_exact5 = np.asarray(exact5_results[14:15][0])[0]"
      ]
    },
    {
      "cell_type": "code",
      "execution_count": 85,
      "metadata": {
        "id": "4aZ7C8sOQxf6"
      },
      "outputs": [],
      "source": [
        "# Iteration15 :\n",
        "\n",
        "slice15 = 14\n",
        "\n",
        "approx15 = [simple_regret_approx_1[slice15],\n",
        "       simple_regret_approx_2[slice15],\n",
        "       simple_regret_approx_3[slice15],\n",
        "       simple_regret_approx_4[slice15],\n",
        "       simple_regret_approx_5[slice15],\n",
        "       simple_regret_approx_6[slice15],\n",
        "       simple_regret_approx_7[slice15],\n",
        "       simple_regret_approx_8[slice15],\n",
        "       simple_regret_approx_9[slice15],\n",
        "       simple_regret_approx_10[slice15],\n",
        "       simple_regret_approx_11[slice15],\n",
        "       simple_regret_approx_12[slice15],\n",
        "       simple_regret_approx_13[slice15],\n",
        "       simple_regret_approx_14[slice15],\n",
        "       simple_regret_approx_15[slice15],\n",
        "       simple_regret_approx_16[slice15],\n",
        "       simple_regret_approx_17[slice15],\n",
        "       simple_regret_approx_18[slice15],\n",
        "       simple_regret_approx_19[slice15],\n",
        "       simple_regret_approx_20[slice15]]\n",
        "\n",
        "exact15 = [simple_regret_exact_1[slice15],\n",
        "       simple_regret_exact_2[slice15],\n",
        "       simple_regret_exact_3[slice15],\n",
        "       simple_regret_exact_4[slice15],\n",
        "       simple_regret_exact_5[slice15],\n",
        "       simple_regret_exact_6[slice15],\n",
        "       simple_regret_exact_7[slice15],\n",
        "       simple_regret_exact_8[slice15],\n",
        "       simple_regret_exact_9[slice15],\n",
        "       simple_regret_exact_10[slice15],\n",
        "       simple_regret_exact_11[slice15],\n",
        "       simple_regret_exact_12[slice15],\n",
        "       simple_regret_exact_13[slice15],\n",
        "       simple_regret_exact_14[slice15],\n",
        "       simple_regret_exact_15[slice15],\n",
        "       simple_regret_exact_16[slice15],\n",
        "       simple_regret_exact_17[slice15],\n",
        "       simple_regret_exact_18[slice15],\n",
        "       simple_regret_exact_19[slice15],\n",
        "       simple_regret_exact_20[slice15]]\n",
        "\n",
        "approx15_results = pd.DataFrame(approx15).sort_values(by=[0], ascending=False)\n",
        "exact15_results = pd.DataFrame(exact15).sort_values(by=[0], ascending=False)\n",
        "\n",
        "### Best simple regret minimization IQR - approx:\n",
        "lower_approx15 = np.asarray(approx15_results[4:5][0])[0]\n",
        "median_approx15 = np.asarray(approx15_results[9:10][0])[0]\n",
        "upper_approx15 = np.asarray(approx15_results[14:15][0])[0]\n",
        "\n",
        "lower_exact15 = np.asarray(exact15_results[4:5][0])[0]\n",
        "median_exact15 = np.asarray(exact15_results[9:10][0])[0]\n",
        "upper_exact15 = np.asarray(exact15_results[14:15][0])[0]"
      ]
    },
    {
      "cell_type": "code",
      "execution_count": 86,
      "metadata": {
        "id": "KJINKhv1Qxf6"
      },
      "outputs": [],
      "source": [
        "# Iteration6 :\n",
        "\n",
        "slice6 = 5\n",
        "\n",
        "approx6 = [simple_regret_approx_1[slice6],\n",
        "       simple_regret_approx_2[slice6],\n",
        "       simple_regret_approx_3[slice6],\n",
        "       simple_regret_approx_4[slice6],\n",
        "       simple_regret_approx_5[slice6],\n",
        "       simple_regret_approx_6[slice6],\n",
        "       simple_regret_approx_7[slice6],\n",
        "       simple_regret_approx_8[slice6],\n",
        "       simple_regret_approx_9[slice6],\n",
        "       simple_regret_approx_10[slice6],\n",
        "       simple_regret_approx_11[slice6],\n",
        "       simple_regret_approx_12[slice6],\n",
        "       simple_regret_approx_13[slice6],\n",
        "       simple_regret_approx_14[slice6],\n",
        "       simple_regret_approx_15[slice6],\n",
        "       simple_regret_approx_16[slice6],\n",
        "       simple_regret_approx_17[slice6],\n",
        "       simple_regret_approx_18[slice6],\n",
        "       simple_regret_approx_19[slice6],\n",
        "       simple_regret_approx_20[slice6]]\n",
        "\n",
        "exact6 = [simple_regret_exact_1[slice6],\n",
        "       simple_regret_exact_2[slice6],\n",
        "       simple_regret_exact_3[slice6],\n",
        "       simple_regret_exact_4[slice6],\n",
        "       simple_regret_exact_5[slice6],\n",
        "       simple_regret_exact_6[slice6],\n",
        "       simple_regret_exact_7[slice6],\n",
        "       simple_regret_exact_8[slice6],\n",
        "       simple_regret_exact_9[slice6],\n",
        "       simple_regret_exact_10[slice6],\n",
        "       simple_regret_exact_11[slice6],\n",
        "       simple_regret_exact_12[slice6],\n",
        "       simple_regret_exact_13[slice6],\n",
        "       simple_regret_exact_14[slice6],\n",
        "       simple_regret_exact_15[slice6],\n",
        "       simple_regret_exact_16[slice6],\n",
        "       simple_regret_exact_17[slice6],\n",
        "       simple_regret_exact_18[slice6],\n",
        "       simple_regret_exact_19[slice6],\n",
        "       simple_regret_exact_20[slice6]]\n",
        "\n",
        "approx6_results = pd.DataFrame(approx6).sort_values(by=[0], ascending=False)\n",
        "exact6_results = pd.DataFrame(exact6).sort_values(by=[0], ascending=False)\n",
        "\n",
        "### Best simple regret minimization IQR - approx:\n",
        "lower_approx6 = np.asarray(approx6_results[4:5][0])[0]\n",
        "median_approx6 = np.asarray(approx6_results[9:10][0])[0]\n",
        "upper_approx6 = np.asarray(approx6_results[14:15][0])[0]\n",
        "\n",
        "lower_exact6 = np.asarray(exact6_results[4:5][0])[0]\n",
        "median_exact6 = np.asarray(exact6_results[9:10][0])[0]\n",
        "upper_exact6 = np.asarray(exact6_results[14:15][0])[0]"
      ]
    },
    {
      "cell_type": "code",
      "execution_count": 87,
      "metadata": {
        "id": "nwC5N1FsQxf7"
      },
      "outputs": [],
      "source": [
        "# Iteration16 :\n",
        "\n",
        "slice16 = 15\n",
        "\n",
        "approx16 = [simple_regret_approx_1[slice16],\n",
        "       simple_regret_approx_2[slice16],\n",
        "       simple_regret_approx_3[slice16],\n",
        "       simple_regret_approx_4[slice16],\n",
        "       simple_regret_approx_5[slice16],\n",
        "       simple_regret_approx_6[slice16],\n",
        "       simple_regret_approx_7[slice16],\n",
        "       simple_regret_approx_8[slice16],\n",
        "       simple_regret_approx_9[slice16],\n",
        "       simple_regret_approx_10[slice16],\n",
        "       simple_regret_approx_11[slice16],\n",
        "       simple_regret_approx_12[slice16],\n",
        "       simple_regret_approx_13[slice16],\n",
        "       simple_regret_approx_14[slice16],\n",
        "       simple_regret_approx_15[slice16],\n",
        "       simple_regret_approx_16[slice16],\n",
        "       simple_regret_approx_17[slice16],\n",
        "       simple_regret_approx_18[slice16],\n",
        "       simple_regret_approx_19[slice16],\n",
        "       simple_regret_approx_20[slice16]]\n",
        "\n",
        "exact16 = [simple_regret_exact_1[slice16],\n",
        "       simple_regret_exact_2[slice16],\n",
        "       simple_regret_exact_3[slice16],\n",
        "       simple_regret_exact_4[slice16],\n",
        "       simple_regret_exact_5[slice16],\n",
        "       simple_regret_exact_6[slice16],\n",
        "       simple_regret_exact_7[slice16],\n",
        "       simple_regret_exact_8[slice16],\n",
        "       simple_regret_exact_9[slice16],\n",
        "       simple_regret_exact_10[slice16],\n",
        "       simple_regret_exact_11[slice16],\n",
        "       simple_regret_exact_12[slice16],\n",
        "       simple_regret_exact_13[slice16],\n",
        "       simple_regret_exact_14[slice16],\n",
        "       simple_regret_exact_15[slice16],\n",
        "       simple_regret_exact_16[slice16],\n",
        "       simple_regret_exact_17[slice16],\n",
        "       simple_regret_exact_18[slice16],\n",
        "       simple_regret_exact_19[slice16],\n",
        "       simple_regret_exact_20[slice16]]\n",
        "\n",
        "approx16_results = pd.DataFrame(approx16).sort_values(by=[0], ascending=False)\n",
        "exact16_results = pd.DataFrame(exact16).sort_values(by=[0], ascending=False)\n",
        "\n",
        "### Best simple regret minimization IQR - approx:\n",
        "lower_approx16 = np.asarray(approx16_results[4:5][0])[0]\n",
        "median_approx16 = np.asarray(approx16_results[9:10][0])[0]\n",
        "upper_approx16 = np.asarray(approx16_results[14:15][0])[0]\n",
        "\n",
        "lower_exact16 = np.asarray(exact16_results[4:5][0])[0]\n",
        "median_exact16 = np.asarray(exact16_results[9:10][0])[0]\n",
        "upper_exact16 = np.asarray(exact16_results[14:15][0])[0]"
      ]
    },
    {
      "cell_type": "code",
      "execution_count": 88,
      "metadata": {
        "id": "TrPV0AfnQxf7"
      },
      "outputs": [],
      "source": [
        "# Iteration7 :\n",
        "\n",
        "slice7 = 6\n",
        "\n",
        "approx7 = [simple_regret_approx_1[slice7],\n",
        "       simple_regret_approx_2[slice7],\n",
        "       simple_regret_approx_3[slice7],\n",
        "       simple_regret_approx_4[slice7],\n",
        "       simple_regret_approx_5[slice7],\n",
        "       simple_regret_approx_6[slice7],\n",
        "       simple_regret_approx_7[slice7],\n",
        "       simple_regret_approx_8[slice7],\n",
        "       simple_regret_approx_9[slice7],\n",
        "       simple_regret_approx_10[slice7],\n",
        "       simple_regret_approx_11[slice7],\n",
        "       simple_regret_approx_12[slice7],\n",
        "       simple_regret_approx_13[slice7],\n",
        "       simple_regret_approx_14[slice7],\n",
        "       simple_regret_approx_15[slice7],\n",
        "       simple_regret_approx_16[slice7],\n",
        "       simple_regret_approx_17[slice7],\n",
        "       simple_regret_approx_18[slice7],\n",
        "       simple_regret_approx_19[slice7],\n",
        "       simple_regret_approx_20[slice7]]\n",
        "\n",
        "exact7 = [simple_regret_exact_1[slice7],\n",
        "       simple_regret_exact_2[slice7],\n",
        "       simple_regret_exact_3[slice7],\n",
        "       simple_regret_exact_4[slice7],\n",
        "       simple_regret_exact_5[slice7],\n",
        "       simple_regret_exact_6[slice7],\n",
        "       simple_regret_exact_7[slice7],\n",
        "       simple_regret_exact_8[slice7],\n",
        "       simple_regret_exact_9[slice7],\n",
        "       simple_regret_exact_10[slice7],\n",
        "       simple_regret_exact_11[slice7],\n",
        "       simple_regret_exact_12[slice7],\n",
        "       simple_regret_exact_13[slice7],\n",
        "       simple_regret_exact_14[slice7],\n",
        "       simple_regret_exact_15[slice7],\n",
        "       simple_regret_exact_16[slice7],\n",
        "       simple_regret_exact_17[slice7],\n",
        "       simple_regret_exact_18[slice7],\n",
        "       simple_regret_exact_19[slice7],\n",
        "       simple_regret_exact_20[slice7]]\n",
        "\n",
        "approx7_results = pd.DataFrame(approx7).sort_values(by=[0], ascending=False)\n",
        "exact7_results = pd.DataFrame(exact7).sort_values(by=[0], ascending=False)\n",
        "\n",
        "### Best simple regret minimization IQR - approx:\n",
        "lower_approx7 = np.asarray(approx7_results[4:5][0])[0]\n",
        "median_approx7 = np.asarray(approx7_results[9:10][0])[0]\n",
        "upper_approx7 = np.asarray(approx7_results[14:15][0])[0]\n",
        "\n",
        "lower_exact7 = np.asarray(exact7_results[4:5][0])[0]\n",
        "median_exact7 = np.asarray(exact7_results[9:10][0])[0]\n",
        "upper_exact7 = np.asarray(exact7_results[14:15][0])[0]"
      ]
    },
    {
      "cell_type": "code",
      "execution_count": 89,
      "metadata": {
        "id": "Ub_-wpK4Qxf8"
      },
      "outputs": [],
      "source": [
        "# Iteration17 :\n",
        "\n",
        "slice17 = 16\n",
        "\n",
        "approx17 = [simple_regret_approx_1[slice17],\n",
        "       simple_regret_approx_2[slice17],\n",
        "       simple_regret_approx_3[slice17],\n",
        "       simple_regret_approx_4[slice17],\n",
        "       simple_regret_approx_5[slice17],\n",
        "       simple_regret_approx_6[slice17],\n",
        "       simple_regret_approx_7[slice17],\n",
        "       simple_regret_approx_8[slice17],\n",
        "       simple_regret_approx_9[slice17],\n",
        "       simple_regret_approx_10[slice17],\n",
        "       simple_regret_approx_11[slice17],\n",
        "       simple_regret_approx_12[slice17],\n",
        "       simple_regret_approx_13[slice17],\n",
        "       simple_regret_approx_14[slice17],\n",
        "       simple_regret_approx_15[slice17],\n",
        "       simple_regret_approx_16[slice17],\n",
        "       simple_regret_approx_17[slice17],\n",
        "       simple_regret_approx_18[slice17],\n",
        "       simple_regret_approx_19[slice17],\n",
        "       simple_regret_approx_20[slice17]]\n",
        "\n",
        "exact17 = [simple_regret_exact_1[slice17],\n",
        "       simple_regret_exact_2[slice17],\n",
        "       simple_regret_exact_3[slice17],\n",
        "       simple_regret_exact_4[slice17],\n",
        "       simple_regret_exact_5[slice17],\n",
        "       simple_regret_exact_6[slice17],\n",
        "       simple_regret_exact_7[slice17],\n",
        "       simple_regret_exact_8[slice17],\n",
        "       simple_regret_exact_9[slice17],\n",
        "       simple_regret_exact_10[slice17],\n",
        "       simple_regret_exact_11[slice17],\n",
        "       simple_regret_exact_12[slice17],\n",
        "       simple_regret_exact_13[slice17],\n",
        "       simple_regret_exact_14[slice17],\n",
        "       simple_regret_exact_15[slice17],\n",
        "       simple_regret_exact_16[slice17],\n",
        "       simple_regret_exact_17[slice17],\n",
        "       simple_regret_exact_18[slice17],\n",
        "       simple_regret_exact_19[slice17],\n",
        "       simple_regret_exact_20[slice17]]\n",
        "\n",
        "approx17_results = pd.DataFrame(approx17).sort_values(by=[0], ascending=False)\n",
        "exact17_results = pd.DataFrame(exact17).sort_values(by=[0], ascending=False)\n",
        "\n",
        "### Best simple regret minimization IQR - approx:\n",
        "lower_approx17 = np.asarray(approx17_results[4:5][0])[0]\n",
        "median_approx17 = np.asarray(approx17_results[9:10][0])[0]\n",
        "upper_approx17 = np.asarray(approx17_results[14:15][0])[0]\n",
        "\n",
        "lower_exact17 = np.asarray(exact17_results[4:5][0])[0]\n",
        "median_exact17 = np.asarray(exact17_results[9:10][0])[0]\n",
        "upper_exact17 = np.asarray(exact17_results[14:15][0])[0]"
      ]
    },
    {
      "cell_type": "code",
      "execution_count": 90,
      "metadata": {
        "id": "-6VLo37PQxf8"
      },
      "outputs": [],
      "source": [
        "# Iteration8 :\n",
        "\n",
        "slice8 = 7\n",
        "\n",
        "approx8 = [simple_regret_approx_1[slice8],\n",
        "       simple_regret_approx_2[slice8],\n",
        "       simple_regret_approx_3[slice8],\n",
        "       simple_regret_approx_4[slice8],\n",
        "       simple_regret_approx_5[slice8],\n",
        "       simple_regret_approx_6[slice8],\n",
        "       simple_regret_approx_7[slice8],\n",
        "       simple_regret_approx_8[slice8],\n",
        "       simple_regret_approx_9[slice8],\n",
        "       simple_regret_approx_10[slice8],\n",
        "       simple_regret_approx_11[slice8],\n",
        "       simple_regret_approx_12[slice8],\n",
        "       simple_regret_approx_13[slice8],\n",
        "       simple_regret_approx_14[slice8],\n",
        "       simple_regret_approx_15[slice8],\n",
        "       simple_regret_approx_16[slice8],\n",
        "       simple_regret_approx_17[slice8],\n",
        "       simple_regret_approx_18[slice8],\n",
        "       simple_regret_approx_19[slice8],\n",
        "       simple_regret_approx_20[slice8]]\n",
        "\n",
        "exact8 = [simple_regret_exact_1[slice8],\n",
        "       simple_regret_exact_2[slice8],\n",
        "       simple_regret_exact_3[slice8],\n",
        "       simple_regret_exact_4[slice8],\n",
        "       simple_regret_exact_5[slice8],\n",
        "       simple_regret_exact_6[slice8],\n",
        "       simple_regret_exact_7[slice8],\n",
        "       simple_regret_exact_8[slice8],\n",
        "       simple_regret_exact_9[slice8],\n",
        "       simple_regret_exact_10[slice8],\n",
        "       simple_regret_exact_11[slice8],\n",
        "       simple_regret_exact_12[slice8],\n",
        "       simple_regret_exact_13[slice8],\n",
        "       simple_regret_exact_14[slice8],\n",
        "       simple_regret_exact_15[slice8],\n",
        "       simple_regret_exact_16[slice8],\n",
        "       simple_regret_exact_17[slice8],\n",
        "       simple_regret_exact_18[slice8],\n",
        "       simple_regret_exact_19[slice8],\n",
        "       simple_regret_exact_20[slice8]]\n",
        "\n",
        "approx8_results = pd.DataFrame(approx8).sort_values(by=[0], ascending=False)\n",
        "exact8_results = pd.DataFrame(exact8).sort_values(by=[0], ascending=False)\n",
        "\n",
        "### Best simple regret minimization IQR - approx:\n",
        "lower_approx8 = np.asarray(approx8_results[4:5][0])[0]\n",
        "median_approx8 = np.asarray(approx8_results[9:10][0])[0]\n",
        "upper_approx8 = np.asarray(approx8_results[14:15][0])[0]\n",
        "\n",
        "lower_exact8 = np.asarray(exact8_results[4:5][0])[0]\n",
        "median_exact8 = np.asarray(exact8_results[9:10][0])[0]\n",
        "upper_exact8 = np.asarray(exact8_results[14:15][0])[0]"
      ]
    },
    {
      "cell_type": "code",
      "execution_count": 91,
      "metadata": {
        "id": "2Dp-9CC2Qxf9"
      },
      "outputs": [],
      "source": [
        "# Iteration18 :\n",
        "\n",
        "slice18 = 17\n",
        "\n",
        "approx18 = [simple_regret_approx_1[slice18],\n",
        "       simple_regret_approx_2[slice18],\n",
        "       simple_regret_approx_3[slice18],\n",
        "       simple_regret_approx_4[slice18],\n",
        "       simple_regret_approx_5[slice18],\n",
        "       simple_regret_approx_6[slice18],\n",
        "       simple_regret_approx_7[slice18],\n",
        "       simple_regret_approx_8[slice18],\n",
        "       simple_regret_approx_9[slice18],\n",
        "       simple_regret_approx_10[slice18],\n",
        "       simple_regret_approx_11[slice18],\n",
        "       simple_regret_approx_12[slice18],\n",
        "       simple_regret_approx_13[slice18],\n",
        "       simple_regret_approx_14[slice18],\n",
        "       simple_regret_approx_15[slice18],\n",
        "       simple_regret_approx_16[slice18],\n",
        "       simple_regret_approx_17[slice18],\n",
        "       simple_regret_approx_18[slice18],\n",
        "       simple_regret_approx_19[slice18],\n",
        "       simple_regret_approx_20[slice18]]\n",
        "\n",
        "exact18 = [simple_regret_exact_1[slice18],\n",
        "       simple_regret_exact_2[slice18],\n",
        "       simple_regret_exact_3[slice18],\n",
        "       simple_regret_exact_4[slice18],\n",
        "       simple_regret_exact_5[slice18],\n",
        "       simple_regret_exact_6[slice18],\n",
        "       simple_regret_exact_7[slice18],\n",
        "       simple_regret_exact_8[slice18],\n",
        "       simple_regret_exact_9[slice18],\n",
        "       simple_regret_exact_10[slice18],\n",
        "       simple_regret_exact_11[slice18],\n",
        "       simple_regret_exact_12[slice18],\n",
        "       simple_regret_exact_13[slice18],\n",
        "       simple_regret_exact_14[slice18],\n",
        "       simple_regret_exact_15[slice18],\n",
        "       simple_regret_exact_16[slice18],\n",
        "       simple_regret_exact_17[slice18],\n",
        "       simple_regret_exact_18[slice18],\n",
        "       simple_regret_exact_19[slice18],\n",
        "       simple_regret_exact_20[slice18]]\n",
        "\n",
        "approx18_results = pd.DataFrame(approx18).sort_values(by=[0], ascending=False)\n",
        "exact18_results = pd.DataFrame(exact18).sort_values(by=[0], ascending=False)\n",
        "\n",
        "### Best simple regret minimization IQR - approx:\n",
        "lower_approx18 = np.asarray(approx18_results[4:5][0])[0]\n",
        "median_approx18 = np.asarray(approx18_results[9:10][0])[0]\n",
        "upper_approx18 = np.asarray(approx18_results[14:15][0])[0]\n",
        "\n",
        "lower_exact18 = np.asarray(exact18_results[4:5][0])[0]\n",
        "median_exact18 = np.asarray(exact18_results[9:10][0])[0]\n",
        "upper_exact18 = np.asarray(exact18_results[14:15][0])[0]"
      ]
    },
    {
      "cell_type": "code",
      "execution_count": 92,
      "metadata": {
        "id": "SqiaOpB7Qxf9"
      },
      "outputs": [],
      "source": [
        "# Iteration9 :\n",
        "\n",
        "slice9 = 8\n",
        "\n",
        "approx9 = [simple_regret_approx_1[slice9],\n",
        "       simple_regret_approx_2[slice9],\n",
        "       simple_regret_approx_3[slice9],\n",
        "       simple_regret_approx_4[slice9],\n",
        "       simple_regret_approx_5[slice9],\n",
        "       simple_regret_approx_6[slice9],\n",
        "       simple_regret_approx_7[slice9],\n",
        "       simple_regret_approx_8[slice9],\n",
        "       simple_regret_approx_9[slice9],\n",
        "       simple_regret_approx_10[slice9],\n",
        "       simple_regret_approx_11[slice9],\n",
        "       simple_regret_approx_12[slice9],\n",
        "       simple_regret_approx_13[slice9],\n",
        "       simple_regret_approx_14[slice9],\n",
        "       simple_regret_approx_15[slice9],\n",
        "       simple_regret_approx_16[slice9],\n",
        "       simple_regret_approx_17[slice9],\n",
        "       simple_regret_approx_18[slice9],\n",
        "       simple_regret_approx_19[slice9],\n",
        "       simple_regret_approx_20[slice9]]\n",
        "\n",
        "exact9 = [simple_regret_exact_1[slice9],\n",
        "       simple_regret_exact_2[slice9],\n",
        "       simple_regret_exact_3[slice9],\n",
        "       simple_regret_exact_4[slice9],\n",
        "       simple_regret_exact_5[slice9],\n",
        "       simple_regret_exact_6[slice9],\n",
        "       simple_regret_exact_7[slice9],\n",
        "       simple_regret_exact_8[slice9],\n",
        "       simple_regret_exact_9[slice9],\n",
        "       simple_regret_exact_10[slice9],\n",
        "       simple_regret_exact_11[slice9],\n",
        "       simple_regret_exact_12[slice9],\n",
        "       simple_regret_exact_13[slice9],\n",
        "       simple_regret_exact_14[slice9],\n",
        "       simple_regret_exact_15[slice9],\n",
        "       simple_regret_exact_16[slice9],\n",
        "       simple_regret_exact_17[slice9],\n",
        "       simple_regret_exact_18[slice9],\n",
        "       simple_regret_exact_19[slice9],\n",
        "       simple_regret_exact_20[slice9]]\n",
        "\n",
        "approx9_results = pd.DataFrame(approx9).sort_values(by=[0], ascending=False)\n",
        "exact9_results = pd.DataFrame(exact9).sort_values(by=[0], ascending=False)\n",
        "\n",
        "### Best simple regret minimization IQR - approx:\n",
        "lower_approx9 = np.asarray(approx9_results[4:5][0])[0]\n",
        "median_approx9 = np.asarray(approx9_results[9:10][0])[0]\n",
        "upper_approx9 = np.asarray(approx9_results[14:15][0])[0]\n",
        "\n",
        "lower_exact9 = np.asarray(exact9_results[4:5][0])[0]\n",
        "median_exact9 = np.asarray(exact9_results[9:10][0])[0]\n",
        "upper_exact9 = np.asarray(exact9_results[14:15][0])[0]"
      ]
    },
    {
      "cell_type": "code",
      "execution_count": 93,
      "metadata": {
        "id": "OQkCCOsPQxf9"
      },
      "outputs": [],
      "source": [
        "# Iteration19 :\n",
        "\n",
        "slice19 = 18\n",
        "\n",
        "approx19 = [simple_regret_approx_1[slice19],\n",
        "       simple_regret_approx_2[slice19],\n",
        "       simple_regret_approx_3[slice19],\n",
        "       simple_regret_approx_4[slice19],\n",
        "       simple_regret_approx_5[slice19],\n",
        "       simple_regret_approx_6[slice19],\n",
        "       simple_regret_approx_7[slice19],\n",
        "       simple_regret_approx_8[slice19],\n",
        "       simple_regret_approx_9[slice19],\n",
        "       simple_regret_approx_10[slice19],\n",
        "       simple_regret_approx_11[slice19],\n",
        "       simple_regret_approx_12[slice19],\n",
        "       simple_regret_approx_13[slice19],\n",
        "       simple_regret_approx_14[slice19],\n",
        "       simple_regret_approx_15[slice19],\n",
        "       simple_regret_approx_16[slice19],\n",
        "       simple_regret_approx_17[slice19],\n",
        "       simple_regret_approx_18[slice19],\n",
        "       simple_regret_approx_19[slice19],\n",
        "       simple_regret_approx_20[slice19]]\n",
        "\n",
        "exact19 = [simple_regret_exact_1[slice19],\n",
        "       simple_regret_exact_2[slice19],\n",
        "       simple_regret_exact_3[slice19],\n",
        "       simple_regret_exact_4[slice19],\n",
        "       simple_regret_exact_5[slice19],\n",
        "       simple_regret_exact_6[slice19],\n",
        "       simple_regret_exact_7[slice19],\n",
        "       simple_regret_exact_8[slice19],\n",
        "       simple_regret_exact_9[slice19],\n",
        "       simple_regret_exact_10[slice19],\n",
        "       simple_regret_exact_11[slice19],\n",
        "       simple_regret_exact_12[slice19],\n",
        "       simple_regret_exact_13[slice19],\n",
        "       simple_regret_exact_14[slice19],\n",
        "       simple_regret_exact_15[slice19],\n",
        "       simple_regret_exact_16[slice19],\n",
        "       simple_regret_exact_17[slice19],\n",
        "       simple_regret_exact_18[slice19],\n",
        "       simple_regret_exact_19[slice19],\n",
        "       simple_regret_exact_20[slice19]]\n",
        "\n",
        "approx19_results = pd.DataFrame(approx19).sort_values(by=[0], ascending=False)\n",
        "exact19_results = pd.DataFrame(exact19).sort_values(by=[0], ascending=False)\n",
        "\n",
        "### Best simple regret minimization IQR - approx:\n",
        "lower_approx19 = np.asarray(approx19_results[4:5][0])[0]\n",
        "median_approx19 = np.asarray(approx19_results[9:10][0])[0]\n",
        "upper_approx19 = np.asarray(approx19_results[14:15][0])[0]\n",
        "\n",
        "lower_exact19 = np.asarray(exact19_results[4:5][0])[0]\n",
        "median_exact19 = np.asarray(exact19_results[9:10][0])[0]\n",
        "upper_exact19 = np.asarray(exact19_results[14:15][0])[0]"
      ]
    },
    {
      "cell_type": "code",
      "execution_count": 94,
      "metadata": {
        "id": "h4vtWahcQxf-"
      },
      "outputs": [],
      "source": [
        "# Iteration10 :\n",
        "\n",
        "slice10 = 9\n",
        "\n",
        "approx10 = [simple_regret_approx_1[slice10],\n",
        "       simple_regret_approx_2[slice10],\n",
        "       simple_regret_approx_3[slice10],\n",
        "       simple_regret_approx_4[slice10],\n",
        "       simple_regret_approx_5[slice10],\n",
        "       simple_regret_approx_6[slice10],\n",
        "       simple_regret_approx_7[slice10],\n",
        "       simple_regret_approx_8[slice10],\n",
        "       simple_regret_approx_9[slice10],\n",
        "       simple_regret_approx_10[slice10],\n",
        "       simple_regret_approx_11[slice10],\n",
        "       simple_regret_approx_12[slice10],\n",
        "       simple_regret_approx_13[slice10],\n",
        "       simple_regret_approx_14[slice10],\n",
        "       simple_regret_approx_15[slice10],\n",
        "       simple_regret_approx_16[slice10],\n",
        "       simple_regret_approx_17[slice10],\n",
        "       simple_regret_approx_18[slice10],\n",
        "       simple_regret_approx_19[slice10],\n",
        "       simple_regret_approx_20[slice10]]\n",
        "\n",
        "exact10 = [simple_regret_exact_1[slice10],\n",
        "       simple_regret_exact_2[slice10],\n",
        "       simple_regret_exact_3[slice10],\n",
        "       simple_regret_exact_4[slice10],\n",
        "       simple_regret_exact_5[slice10],\n",
        "       simple_regret_exact_6[slice10],\n",
        "       simple_regret_exact_7[slice10],\n",
        "       simple_regret_exact_8[slice10],\n",
        "       simple_regret_exact_9[slice10],\n",
        "       simple_regret_exact_10[slice10],\n",
        "       simple_regret_exact_11[slice10],\n",
        "       simple_regret_exact_12[slice10],\n",
        "       simple_regret_exact_13[slice10],\n",
        "       simple_regret_exact_14[slice10],\n",
        "       simple_regret_exact_15[slice10],\n",
        "       simple_regret_exact_16[slice10],\n",
        "       simple_regret_exact_17[slice10],\n",
        "       simple_regret_exact_18[slice10],\n",
        "       simple_regret_exact_19[slice10],\n",
        "       simple_regret_exact_20[slice10]]\n",
        "\n",
        "approx10_results = pd.DataFrame(approx10).sort_values(by=[0], ascending=False)\n",
        "exact10_results = pd.DataFrame(exact10).sort_values(by=[0], ascending=False)\n",
        "\n",
        "### Best simple regret minimization IQR - approx:\n",
        "lower_approx10 = np.asarray(approx10_results[4:5][0])[0]\n",
        "median_approx10 = np.asarray(approx10_results[9:10][0])[0]\n",
        "upper_approx10 = np.asarray(approx10_results[14:15][0])[0]\n",
        "\n",
        "lower_exact10 = np.asarray(exact10_results[4:5][0])[0]\n",
        "median_exact10 = np.asarray(exact10_results[9:10][0])[0]\n",
        "upper_exact10 = np.asarray(exact10_results[14:15][0])[0]"
      ]
    },
    {
      "cell_type": "code",
      "execution_count": 95,
      "metadata": {
        "id": "Rsf240pWQxf-"
      },
      "outputs": [],
      "source": [
        "# Iteration20 :\n",
        "\n",
        "slice20 = 19\n",
        "\n",
        "approx20 = [simple_regret_approx_1[slice20],\n",
        "       simple_regret_approx_2[slice20],\n",
        "       simple_regret_approx_3[slice20],\n",
        "       simple_regret_approx_4[slice20],\n",
        "       simple_regret_approx_5[slice20],\n",
        "       simple_regret_approx_6[slice20],\n",
        "       simple_regret_approx_7[slice20],\n",
        "       simple_regret_approx_8[slice20],\n",
        "       simple_regret_approx_9[slice20],\n",
        "       simple_regret_approx_10[slice20],\n",
        "       simple_regret_approx_11[slice20],\n",
        "       simple_regret_approx_12[slice20],\n",
        "       simple_regret_approx_13[slice20],\n",
        "       simple_regret_approx_14[slice20],\n",
        "       simple_regret_approx_15[slice20],\n",
        "       simple_regret_approx_16[slice20],\n",
        "       simple_regret_approx_17[slice20],\n",
        "       simple_regret_approx_18[slice20],\n",
        "       simple_regret_approx_19[slice20],\n",
        "       simple_regret_approx_20[slice20]]\n",
        "\n",
        "exact20 = [simple_regret_exact_1[slice20],\n",
        "       simple_regret_exact_2[slice20],\n",
        "       simple_regret_exact_3[slice20],\n",
        "       simple_regret_exact_4[slice20],\n",
        "       simple_regret_exact_5[slice20],\n",
        "       simple_regret_exact_6[slice20],\n",
        "       simple_regret_exact_7[slice20],\n",
        "       simple_regret_exact_8[slice20],\n",
        "       simple_regret_exact_9[slice20],\n",
        "       simple_regret_exact_10[slice20],\n",
        "       simple_regret_exact_11[slice20],\n",
        "       simple_regret_exact_12[slice20],\n",
        "       simple_regret_exact_13[slice20],\n",
        "       simple_regret_exact_14[slice20],\n",
        "       simple_regret_exact_15[slice20],\n",
        "       simple_regret_exact_16[slice20],\n",
        "       simple_regret_exact_17[slice20],\n",
        "       simple_regret_exact_18[slice20],\n",
        "       simple_regret_exact_19[slice20],\n",
        "       simple_regret_exact_20[slice20]]\n",
        "\n",
        "approx20_results = pd.DataFrame(approx20).sort_values(by=[0], ascending=False)\n",
        "exact20_results = pd.DataFrame(exact20).sort_values(by=[0], ascending=False)\n",
        "\n",
        "### Best simple regret minimization IQR - approx:\n",
        "lower_approx20 = np.asarray(approx20_results[4:5][0])[0]\n",
        "median_approx20 = np.asarray(approx20_results[9:10][0])[0]\n",
        "upper_approx20 = np.asarray(approx20_results[14:15][0])[0]\n",
        "\n",
        "lower_exact20 = np.asarray(exact20_results[4:5][0])[0]\n",
        "median_exact20 = np.asarray(exact20_results[9:10][0])[0]\n",
        "upper_exact20 = np.asarray(exact20_results[14:15][0])[0]"
      ]
    },
    {
      "cell_type": "code",
      "execution_count": 96,
      "metadata": {
        "id": "gn36RejbQxf_"
      },
      "outputs": [],
      "source": [
        "### Summarize arrays: 'Loser'\n",
        "\n",
        "lower_approx = [lower_approx1,\n",
        "            lower_approx2,\n",
        "            lower_approx3,\n",
        "            lower_approx4,\n",
        "            lower_approx5,\n",
        "            lower_approx6,\n",
        "            lower_approx7,\n",
        "            lower_approx8,\n",
        "            lower_approx9,\n",
        "            lower_approx10,\n",
        "            lower_approx11,\n",
        "            lower_approx12,\n",
        "            lower_approx13,\n",
        "            lower_approx14,\n",
        "            lower_approx15,\n",
        "            lower_approx16,\n",
        "            lower_approx17,\n",
        "            lower_approx18,\n",
        "            lower_approx19,\n",
        "            lower_approx20,\n",
        "            lower_approx21]\n",
        "\n",
        "median_approx = [median_approx1,\n",
        "            median_approx2,\n",
        "            median_approx3,\n",
        "            median_approx4,\n",
        "            median_approx5,\n",
        "            median_approx6,\n",
        "            median_approx7,\n",
        "            median_approx8,\n",
        "            median_approx9,\n",
        "            median_approx10,\n",
        "            median_approx11,\n",
        "            median_approx12,\n",
        "            median_approx13,\n",
        "            median_approx14,\n",
        "            median_approx15,\n",
        "            median_approx16,\n",
        "            median_approx17,\n",
        "            median_approx18,\n",
        "            median_approx19,\n",
        "            median_approx20,\n",
        "            median_approx21]\n",
        "\n",
        "upper_approx = [upper_approx1,\n",
        "            upper_approx2,\n",
        "            upper_approx3,\n",
        "            upper_approx4,\n",
        "            upper_approx5,\n",
        "            upper_approx6,\n",
        "            upper_approx7,\n",
        "            upper_approx8,\n",
        "            upper_approx9,\n",
        "            upper_approx10,\n",
        "            upper_approx11,\n",
        "            upper_approx12,\n",
        "            upper_approx13,\n",
        "            upper_approx14,\n",
        "            upper_approx15,\n",
        "            upper_approx16,\n",
        "            upper_approx17,\n",
        "            upper_approx18,\n",
        "            upper_approx19,\n",
        "            upper_approx20,\n",
        "            upper_approx21]"
      ]
    },
    {
      "cell_type": "code",
      "execution_count": 97,
      "metadata": {
        "id": "wxtGTOYfQxf_"
      },
      "outputs": [],
      "source": [
        "### Summarize arrays: 'exact'\n",
        "\n",
        "lower_exact = [lower_exact1,\n",
        "            lower_exact2,\n",
        "            lower_exact3,\n",
        "            lower_exact4,\n",
        "            lower_exact5,\n",
        "            lower_exact6,\n",
        "            lower_exact7,\n",
        "            lower_exact8,\n",
        "            lower_exact9,\n",
        "            lower_exact10,\n",
        "            lower_exact11,\n",
        "            lower_exact12,\n",
        "            lower_exact13,\n",
        "            lower_exact14,\n",
        "            lower_exact15,\n",
        "            lower_exact16,\n",
        "            lower_exact17,\n",
        "            lower_exact18,\n",
        "            lower_exact19,\n",
        "            lower_exact20,\n",
        "            lower_exact21]\n",
        "\n",
        "median_exact = [median_exact1,\n",
        "            median_exact2,\n",
        "            median_exact3,\n",
        "            median_exact4,\n",
        "            median_exact5,\n",
        "            median_exact6,\n",
        "            median_exact7,\n",
        "            median_exact8,\n",
        "            median_exact9,\n",
        "            median_exact10,\n",
        "            median_exact11,\n",
        "            median_exact12,\n",
        "            median_exact13,\n",
        "            median_exact14,\n",
        "            median_exact15,\n",
        "            median_exact16,\n",
        "            median_exact17,\n",
        "            median_exact18,\n",
        "            median_exact19,\n",
        "            median_exact20,\n",
        "            median_exact21]\n",
        "\n",
        "upper_exact = [upper_exact1,\n",
        "            upper_exact2,\n",
        "            upper_exact3,\n",
        "            upper_exact4,\n",
        "            upper_exact5,\n",
        "            upper_exact6,\n",
        "            upper_exact7,\n",
        "            upper_exact8,\n",
        "            upper_exact9,\n",
        "            upper_exact10,\n",
        "            upper_exact11,\n",
        "            upper_exact12,\n",
        "            upper_exact13,\n",
        "            upper_exact14,\n",
        "            upper_exact15,\n",
        "            upper_exact16,\n",
        "            upper_exact17,\n",
        "            upper_exact18,\n",
        "            upper_exact19,\n",
        "            upper_exact20,\n",
        "            upper_exact21]"
      ]
    },
    {
      "cell_type": "code",
      "execution_count": 122,
      "metadata": {
        "id": "2MONq-BXQxgA",
        "colab": {
          "base_uri": "https://localhost:8080/",
          "height": 299
        },
        "outputId": "7ffc7f3d-ba79-4191-e1f3-4526fad50443"
      },
      "outputs": [
        {
          "output_type": "display_data",
          "data": {
            "text/plain": [
              "<Figure size 432x288 with 1 Axes>"
            ],
            "image/png": "[encoded data removed]"
          },
          "metadata": {
            "needs_background": "light"
          }
        }
      ],
      "source": [
        "### Visualise!\n",
        "\n",
        "title = func\n",
        "plt.figure()\n",
        "\n",
        "plt.plot(median_approx, color = 'Green')\n",
        "plt.plot(median_exact, color = 'Blue')\n",
        "\n",
        "xstar = np.arange(0, iters+1, step=1)\n",
        "plt.fill_between(xstar, lower_approx, upper_approx, facecolor = 'Green', alpha=0.4, label='GP ERM Optimization: Approx GP ERM gradients')\n",
        "plt.fill_between(xstar, lower_exact, upper_exact, facecolor = 'Blue', alpha=0.4, label='GP ERM Optimization: Exact GP dERM gradients')\n",
        "\n",
        "plt.title(title, weight = 'bold')\n",
        "plt.xlabel('(Post-initialization) iteration $\\it{k}$', weight = 'bold')\n",
        "plt.ylabel('log(Regret)', weight = 'bold') \n",
        "plt.legend(loc=0) # add plot legend\n",
        "\n",
        "### Make the x-ticks integers, not floats:\n",
        "count = len(xstar)\n",
        "plt.xticks(np.arange(count), np.arange(0, count))\n",
        "plt.show() #visualize!"
      ]
    },
    {
      "cell_type": "code",
      "execution_count": 99,
      "metadata": {
        "id": "l5dkR2Id2oiu",
        "colab": {
          "base_uri": "https://localhost:8080/"
        },
        "outputId": "1555d812-4180-4d8f-f382-528fec1e6a1e"
      },
      "outputs": [
        {
          "output_type": "execute_result",
          "data": {
            "text/plain": [
              "(737.9910154342651, 710.3946735858917)"
            ]
          },
          "metadata": {},
          "execution_count": 99
        }
      ],
      "source": [
        "time_approx, time_exact\n"
      ]
    },
    {
      "cell_type": "code",
      "source": [
        "### acqFunc attribute x, stddev: run number = 1\n",
        "\n",
        "acqFuncApprox_exact_1 = acqFuncApprox(exact_1.history)\n",
        "acqFuncExact_exact_1 = acqFuncExact(exact_1.history)\n",
        "\n",
        "e1 = np.mean(acqFuncExact_exact_1)\n",
        "a1 = np.mean(acqFuncApprox_exact_1)\n",
        "\n",
        "e1, a1\n"
      ],
      "metadata": {
        "colab": {
          "base_uri": "https://localhost:8080/"
        },
        "id": "uwxv4dmfGsLr",
        "outputId": "3d2594ff-6b6b-4c0e-cbbd-dad17db6fbdf"
      },
      "execution_count": 100,
      "outputs": [
        {
          "output_type": "execute_result",
          "data": {
            "text/plain": [
              "(5.049594047345147, 5.1701721106229686)"
            ]
          },
          "metadata": {},
          "execution_count": 100
        }
      ]
    },
    {
      "cell_type": "code",
      "source": [
        "### acqFunc attribute x, stddev: run number = 2\n",
        "\n",
        "acqFuncApprox_exact_2 = acqFuncApprox(exact_2.history)\n",
        "acqFuncExact_exact_2 = acqFuncExact(exact_2.history)\n",
        "\n",
        "e2 = np.mean(acqFuncExact_exact_2)\n",
        "a2 = np.mean(acqFuncApprox_exact_2)\n",
        "\n",
        "e2, a2\n"
      ],
      "metadata": {
        "colab": {
          "base_uri": "https://localhost:8080/"
        },
        "id": "0YSV00_pGsXe",
        "outputId": "c1807610-cf57-4a20-c2d7-4d5d36aa8ef0"
      },
      "execution_count": 101,
      "outputs": [
        {
          "output_type": "execute_result",
          "data": {
            "text/plain": [
              "(5.095576531694823, 5.422446565020891)"
            ]
          },
          "metadata": {},
          "execution_count": 101
        }
      ]
    },
    {
      "cell_type": "code",
      "source": [
        "### acqFunc attribute x, stddev: run number = 3\n",
        "\n",
        "acqFuncApprox_exact_3 = acqFuncApprox(exact_3.history)\n",
        "acqFuncExact_exact_3 = acqFuncExact(exact_3.history)\n",
        "\n",
        "e3 = np.mean(acqFuncExact_exact_3)\n",
        "a3 = np.mean(acqFuncApprox_exact_3)\n",
        "\n",
        "e3, a3\n"
      ],
      "metadata": {
        "colab": {
          "base_uri": "https://localhost:8080/"
        },
        "id": "HHVmsd2UGsjT",
        "outputId": "944fd002-636a-404e-f39a-c906e3c997df"
      },
      "execution_count": 102,
      "outputs": [
        {
          "output_type": "execute_result",
          "data": {
            "text/plain": [
              "(4.937361157338453, 5.040258994974538)"
            ]
          },
          "metadata": {},
          "execution_count": 102
        }
      ]
    },
    {
      "cell_type": "code",
      "source": [
        "### acqFunc attribute x, stddev: run number = 4\n",
        "\n",
        "acqFuncApprox_exact_4 = acqFuncApprox(exact_4.history)\n",
        "acqFuncExact_exact_4 = acqFuncExact(exact_4.history)\n",
        "\n",
        "e4 = np.mean(acqFuncExact_exact_4)\n",
        "a4 = np.mean(acqFuncApprox_exact_4)\n",
        "\n",
        "e4, a4\n"
      ],
      "metadata": {
        "colab": {
          "base_uri": "https://localhost:8080/"
        },
        "id": "r7O19S2eGsu7",
        "outputId": "70448e42-49a0-4bb3-8cef-2ff04c1ea2de"
      },
      "execution_count": 103,
      "outputs": [
        {
          "output_type": "execute_result",
          "data": {
            "text/plain": [
              "(4.958964696836278, 5.140461625655932)"
            ]
          },
          "metadata": {},
          "execution_count": 103
        }
      ]
    },
    {
      "cell_type": "code",
      "source": [
        "### acqFunc attribute x, stddev: run number = 5\n",
        "\n",
        "acqFuncApprox_exact_5 = acqFuncApprox(exact_5.history)\n",
        "acqFuncExact_exact_5 = acqFuncExact(exact_5.history)\n",
        "\n",
        "e5 = np.mean(acqFuncExact_exact_5)\n",
        "a5 = np.mean(acqFuncApprox_exact_5)\n",
        "\n",
        "e5, a5\n"
      ],
      "metadata": {
        "colab": {
          "base_uri": "https://localhost:8080/"
        },
        "id": "sdb9o6NuGs5m",
        "outputId": "bb3af238-af63-49b1-99a5-e198ecd09ad5"
      },
      "execution_count": 104,
      "outputs": [
        {
          "output_type": "execute_result",
          "data": {
            "text/plain": [
              "(4.923713968917858, 5.055784078083151)"
            ]
          },
          "metadata": {},
          "execution_count": 104
        }
      ]
    },
    {
      "cell_type": "code",
      "source": [
        "### acqFunc attribute x, stddev: run number = 6\n",
        "\n",
        "acqFuncApprox_exact_6 = acqFuncApprox(exact_6.history)\n",
        "acqFuncExact_exact_6 = acqFuncExact(exact_6.history)\n",
        "\n",
        "e6 = np.mean(acqFuncExact_exact_6)\n",
        "a6 = np.mean(acqFuncApprox_exact_6)\n",
        "\n",
        "e6, a6\n"
      ],
      "metadata": {
        "colab": {
          "base_uri": "https://localhost:8080/"
        },
        "id": "COQl7LZ8GtE0",
        "outputId": "171fec0c-bff5-48f4-9f60-74aff9d2cfeb"
      },
      "execution_count": 105,
      "outputs": [
        {
          "output_type": "execute_result",
          "data": {
            "text/plain": [
              "(5.356657378604985, 5.661821280293748)"
            ]
          },
          "metadata": {},
          "execution_count": 105
        }
      ]
    },
    {
      "cell_type": "code",
      "source": [
        "### acqFunc attribute x, stddev: run number = 7\n",
        "\n",
        "acqFuncApprox_exact_7 = acqFuncApprox(exact_7.history)\n",
        "acqFuncExact_exact_7 = acqFuncExact(exact_7.history)\n",
        "\n",
        "e7 = np.mean(acqFuncExact_exact_7)\n",
        "a7 = np.mean(acqFuncApprox_exact_7)\n",
        "\n",
        "e7, a7\n"
      ],
      "metadata": {
        "colab": {
          "base_uri": "https://localhost:8080/"
        },
        "id": "2gy9EtTzGtP7",
        "outputId": "39569939-73f1-49e5-992a-2d71a0d4aa98"
      },
      "execution_count": 106,
      "outputs": [
        {
          "output_type": "execute_result",
          "data": {
            "text/plain": [
              "(4.992846452813606, 5.277770289403966)"
            ]
          },
          "metadata": {},
          "execution_count": 106
        }
      ]
    },
    {
      "cell_type": "code",
      "source": [
        "### acqFunc attribute x, stddev: run number = 8\n",
        "\n",
        "acqFuncApprox_exact_8 = acqFuncApprox(exact_8.history)\n",
        "acqFuncExact_exact_8 = acqFuncExact(exact_8.history)\n",
        "\n",
        "e8 = np.mean(acqFuncExact_exact_8)\n",
        "a8 = np.mean(acqFuncApprox_exact_8)\n",
        "\n",
        "e8, a8\n"
      ],
      "metadata": {
        "colab": {
          "base_uri": "https://localhost:8080/"
        },
        "id": "S7mn0qoMGtbM",
        "outputId": "457fb1d1-91b1-4a7f-a1dd-5c8c4b83b776"
      },
      "execution_count": 107,
      "outputs": [
        {
          "output_type": "execute_result",
          "data": {
            "text/plain": [
              "(4.923004581445005, 5.110933988237861)"
            ]
          },
          "metadata": {},
          "execution_count": 107
        }
      ]
    },
    {
      "cell_type": "code",
      "source": [
        "### acqFunc attribute x, stddev: run number = 9\n",
        "\n",
        "acqFuncApprox_exact_9 = acqFuncApprox(exact_9.history)\n",
        "acqFuncExact_exact_9 = acqFuncExact(exact_9.history)\n",
        "\n",
        "e9 = np.mean(acqFuncExact_exact_9)\n",
        "a9 = np.mean(acqFuncApprox_exact_9)\n",
        "\n",
        "e9, a9\n"
      ],
      "metadata": {
        "colab": {
          "base_uri": "https://localhost:8080/"
        },
        "id": "BhljmkNxGtms",
        "outputId": "7f373dbe-9eff-42ca-90c4-32daebed99c0"
      },
      "execution_count": 108,
      "outputs": [
        {
          "output_type": "execute_result",
          "data": {
            "text/plain": [
              "(4.986940546378296, 5.14314607559494)"
            ]
          },
          "metadata": {},
          "execution_count": 108
        }
      ]
    },
    {
      "cell_type": "code",
      "source": [
        "### acqFunc attribute x, stddev: run number = 10\n",
        "\n",
        "acqFuncApprox_exact_10 = acqFuncApprox(exact_10.history)\n",
        "acqFuncExact_exact_10 = acqFuncExact(exact_10.history)\n",
        "\n",
        "e10 = np.mean(acqFuncExact_exact_10)\n",
        "a10 = np.mean(acqFuncApprox_exact_10)\n",
        "\n",
        "e10, a10\n"
      ],
      "metadata": {
        "colab": {
          "base_uri": "https://localhost:8080/"
        },
        "id": "W5GZo6k3Gtx8",
        "outputId": "bcfbff64-3c8b-49ea-ee2e-88fbfd4d38ac"
      },
      "execution_count": 109,
      "outputs": [
        {
          "output_type": "execute_result",
          "data": {
            "text/plain": [
              "(4.935431568924966, 5.20996571229283)"
            ]
          },
          "metadata": {},
          "execution_count": 109
        }
      ]
    },
    {
      "cell_type": "code",
      "source": [
        "### acqFunc attribute x, stddev: run number = 11\n",
        "\n",
        "acqFuncApprox_exact_11 = acqFuncApprox(exact_11.history)\n",
        "acqFuncExact_exact_11 = acqFuncExact(exact_11.history)\n",
        "\n",
        "e11 = np.mean(acqFuncExact_exact_11)\n",
        "a11 = np.mean(acqFuncApprox_exact_11)\n",
        "\n",
        "e11, a11\n"
      ],
      "metadata": {
        "colab": {
          "base_uri": "https://localhost:8080/"
        },
        "id": "isKNhDk5Gt9D",
        "outputId": "59a0cffc-b7dd-4176-95f6-be0938cb078d"
      },
      "execution_count": 110,
      "outputs": [
        {
          "output_type": "execute_result",
          "data": {
            "text/plain": [
              "(5.004034108044694, 5.296152508357167)"
            ]
          },
          "metadata": {},
          "execution_count": 110
        }
      ]
    },
    {
      "cell_type": "code",
      "source": [
        "### acqFunc attribute x, stddev: run number = 12\n",
        "\n",
        "acqFuncApprox_exact_12 = acqFuncApprox(exact_12.history)\n",
        "acqFuncExact_exact_12 = acqFuncExact(exact_12.history)\n",
        "\n",
        "e12 = np.mean(acqFuncExact_exact_12)\n",
        "a12 = np.mean(acqFuncApprox_exact_12)\n",
        "\n",
        "e12, a12\n"
      ],
      "metadata": {
        "colab": {
          "base_uri": "https://localhost:8080/"
        },
        "id": "8ts-wrSuGuIm",
        "outputId": "e056d804-709d-4702-e796-12e08810bc66"
      },
      "execution_count": 111,
      "outputs": [
        {
          "output_type": "execute_result",
          "data": {
            "text/plain": [
              "(4.97366889491188, 4.8166845429979706)"
            ]
          },
          "metadata": {},
          "execution_count": 111
        }
      ]
    },
    {
      "cell_type": "code",
      "source": [
        "### acqFunc attribute x, stddev: run number = 13\n",
        "\n",
        "acqFuncApprox_exact_13 = acqFuncApprox(exact_13.history)\n",
        "acqFuncExact_exact_13 = acqFuncExact(exact_13.history)\n",
        "\n",
        "e13 = np.mean(acqFuncExact_exact_13)\n",
        "a13 = np.mean(acqFuncApprox_exact_13)\n",
        "\n",
        "e13, a13\n"
      ],
      "metadata": {
        "colab": {
          "base_uri": "https://localhost:8080/"
        },
        "id": "n0drhEe3GuUL",
        "outputId": "4ea3e7d3-075e-46ee-b471-4c0493fa0ede"
      },
      "execution_count": 112,
      "outputs": [
        {
          "output_type": "execute_result",
          "data": {
            "text/plain": [
              "(5.164955826145255, 5.382344214552806)"
            ]
          },
          "metadata": {},
          "execution_count": 112
        }
      ]
    },
    {
      "cell_type": "code",
      "source": [
        "### acqFunc attribute x, stddev: run number = 14\n",
        "\n",
        "acqFuncApprox_exact_14 = acqFuncApprox(exact_14.history)\n",
        "acqFuncExact_exact_14 = acqFuncExact(exact_14.history)\n",
        "\n",
        "e14 = np.mean(acqFuncExact_exact_14)\n",
        "a14 = np.mean(acqFuncApprox_exact_14)\n",
        "\n",
        "e14, a14\n"
      ],
      "metadata": {
        "colab": {
          "base_uri": "https://localhost:8080/"
        },
        "id": "R0W3MZaVGues",
        "outputId": "decfcfae-6e26-4a84-fb20-65d47086d53c"
      },
      "execution_count": 113,
      "outputs": [
        {
          "output_type": "execute_result",
          "data": {
            "text/plain": [
              "(4.920951218197615, 5.039716383064419)"
            ]
          },
          "metadata": {},
          "execution_count": 113
        }
      ]
    },
    {
      "cell_type": "code",
      "source": [
        "### acqFunc attribute x, stddev: run number = 15\n",
        "\n",
        "acqFuncApprox_exact_15 = acqFuncApprox(exact_15.history)\n",
        "acqFuncExact_exact_15 = acqFuncExact(exact_15.history)\n",
        "\n",
        "e15 = np.mean(acqFuncExact_exact_15)\n",
        "a15 = np.mean(acqFuncApprox_exact_15)\n",
        "\n",
        "e15, a15\n"
      ],
      "metadata": {
        "colab": {
          "base_uri": "https://localhost:8080/"
        },
        "id": "DoXdDFHoGup-",
        "outputId": "1399eb38-16dc-4da4-d50e-389d4532c814"
      },
      "execution_count": 114,
      "outputs": [
        {
          "output_type": "execute_result",
          "data": {
            "text/plain": [
              "(5.119186867826544, 5.238131778656916)"
            ]
          },
          "metadata": {},
          "execution_count": 114
        }
      ]
    },
    {
      "cell_type": "code",
      "source": [
        "### acqFunc attribute x, stddev: run number = 16\n",
        "\n",
        "acqFuncApprox_exact_16 = acqFuncApprox(exact_16.history)\n",
        "acqFuncExact_exact_16 = acqFuncExact(exact_16.history)\n",
        "\n",
        "e16 = np.mean(acqFuncExact_exact_16)\n",
        "a16 = np.mean(acqFuncApprox_exact_16)\n",
        "\n",
        "e16, a16\n"
      ],
      "metadata": {
        "colab": {
          "base_uri": "https://localhost:8080/"
        },
        "id": "K_wAeqSoGu2j",
        "outputId": "60447a78-3f1f-418a-83a1-52e5c3456ede"
      },
      "execution_count": 115,
      "outputs": [
        {
          "output_type": "execute_result",
          "data": {
            "text/plain": [
              "(4.99107752771251, 5.11734197107991)"
            ]
          },
          "metadata": {},
          "execution_count": 115
        }
      ]
    },
    {
      "cell_type": "code",
      "source": [
        "### acqFunc attribute x, stddev: run number = 17\n",
        "\n",
        "acqFuncApprox_exact_17 = acqFuncApprox(exact_17.history)\n",
        "acqFuncExact_exact_17 = acqFuncExact(exact_17.history)\n",
        "\n",
        "e17 = np.mean(acqFuncExact_exact_17)\n",
        "a17 = np.mean(acqFuncApprox_exact_17)\n",
        "\n",
        "e17, a17\n"
      ],
      "metadata": {
        "colab": {
          "base_uri": "https://localhost:8080/"
        },
        "id": "n6zy78fjGvBT",
        "outputId": "6510dbbb-f0a2-48ec-da5e-4ff5de66d6b1"
      },
      "execution_count": 116,
      "outputs": [
        {
          "output_type": "execute_result",
          "data": {
            "text/plain": [
              "(5.126770539322754, 5.255910309292348)"
            ]
          },
          "metadata": {},
          "execution_count": 116
        }
      ]
    },
    {
      "cell_type": "code",
      "source": [
        "### acqFunc attribute x, stddev: run number = 18\n",
        "\n",
        "acqFuncApprox_exact_18 = acqFuncApprox(exact_18.history)\n",
        "acqFuncExact_exact_18 = acqFuncExact(exact_18.history)\n",
        "\n",
        "e18 = np.mean(acqFuncExact_exact_18)\n",
        "a18 = np.mean(acqFuncApprox_exact_18)\n",
        "\n",
        "e18, a18\n"
      ],
      "metadata": {
        "colab": {
          "base_uri": "https://localhost:8080/"
        },
        "id": "s_6_2K4iGvM-",
        "outputId": "41aaf21b-2cad-453e-e40b-3b6fd07b46b3"
      },
      "execution_count": 117,
      "outputs": [
        {
          "output_type": "execute_result",
          "data": {
            "text/plain": [
              "(5.021860041905059, 5.059871428083441)"
            ]
          },
          "metadata": {},
          "execution_count": 117
        }
      ]
    },
    {
      "cell_type": "code",
      "source": [
        "### acqFunc attribute x, stddev: run number = 19\n",
        "\n",
        "acqFuncApprox_exact_19 = acqFuncApprox(exact_19.history)\n",
        "acqFuncExact_exact_19 = acqFuncExact(exact_19.history)\n",
        "\n",
        "e19 = np.mean(acqFuncExact_exact_19)\n",
        "a19 = np.mean(acqFuncApprox_exact_19)\n",
        "\n",
        "e19, a19\n"
      ],
      "metadata": {
        "colab": {
          "base_uri": "https://localhost:8080/"
        },
        "id": "o8oO8pdBGvYk",
        "outputId": "38ab6b46-eb72-4374-c6b2-c31682fba28c"
      },
      "execution_count": 118,
      "outputs": [
        {
          "output_type": "execute_result",
          "data": {
            "text/plain": [
              "(4.941636928116216, 5.17569419472965)"
            ]
          },
          "metadata": {},
          "execution_count": 118
        }
      ]
    },
    {
      "cell_type": "code",
      "source": [
        "### acqFunc attribute x, stddev: run number = 20\n",
        "\n",
        "acqFuncApprox_exact_20 = acqFuncApprox(exact_20.history)\n",
        "acqFuncExact_exact_20 = acqFuncExact(exact_20.history)\n",
        "\n",
        "e20 = np.mean(acqFuncExact_exact_20)\n",
        "a20 = np.mean(acqFuncApprox_exact_20)\n",
        "\n",
        "e20, a20\n"
      ],
      "metadata": {
        "colab": {
          "base_uri": "https://localhost:8080/"
        },
        "id": "b2w8oLc0IMzU",
        "outputId": "50f4e86d-49c2-4342-e186-87da037fcc4e"
      },
      "execution_count": 119,
      "outputs": [
        {
          "output_type": "execute_result",
          "data": {
            "text/plain": [
              "(5.076640632214865, 5.2818887470745235)"
            ]
          },
          "metadata": {},
          "execution_count": 119
        }
      ]
    },
    {
      "cell_type": "code",
      "source": [
        "### Summarize arrays: \n",
        "\n",
        "exact_stddev = np.sort([e1,e2,e3,e4,e5,e6,e7,e8,e9,e10,e11,e12,e13,e14,e15,e16,e17,e18,e19,e20])\n",
        "approx_stddev = np.sort([a1,a2,a3,a4,a5,a6,a7,a8,a9,a10,a11,a12,a13,a14,a15,a16,a17,a18,a19,a20])\n",
        "\n",
        "np.mean(exact_stddev), np.mean(approx_stddev)\n"
      ],
      "metadata": {
        "colab": {
          "base_uri": "https://localhost:8080/"
        },
        "id": "qAZs3yxMIZul",
        "outputId": "6a160b54-a7ca-4812-a074-6abd13814e6b"
      },
      "execution_count": 120,
      "outputs": [
        {
          "output_type": "execute_result",
          "data": {
            "text/plain": [
              "(5.025043675734841, 5.194824839903498)"
            ]
          },
          "metadata": {},
          "execution_count": 120
        }
      ]
    },
    {
      "cell_type": "code",
      "source": [
        "### Visualise!\n",
        "\n",
        "title = func\n",
        "plt.figure()\n",
        "\n",
        "plt.plot(approx_stddev, color = 'Green', ls='-', label='Average $\\sigma$, attribute $\\mathbf{x}$: Approx GP ERM gradients')\n",
        "plt.plot(exact_stddev, color = 'Blue', ls='-.', label='Average $\\sigma$, attribute $\\mathbf{x}$: Exact GP dERM gradients')\n",
        "\n",
        "plt.title(title, weight = 'bold')\n",
        "plt.xlabel('Function evaluations: iteration $\\it{k}$', weight = 'bold')\n",
        "plt.ylabel('GP ERM: Average $\\sigma$, attribute $\\mathbf{x}$', weight = 'bold') \n",
        "plt.legend(loc=0) # add plot legend\n",
        "\n",
        "### Make the x-ticks integers, not floats:\n",
        "count = len(xstar)\n",
        "plt.xticks(np.arange(count), np.arange(1, count))\n",
        "plt.show() #visualize!\n"
      ],
      "metadata": {
        "colab": {
          "base_uri": "https://localhost:8080/",
          "height": 297
        },
        "id": "e_kpqYcMIZxu",
        "outputId": "b070dde7-87c1-4140-a080-f92819406571"
      },
      "execution_count": 121,
      "outputs": [
        {
          "output_type": "display_data",
          "data": {
            "text/plain": [
              "<Figure size 432x288 with 1 Axes>"
            ],
            "image/png": "[encoded data removed]"
          },
          "metadata": {
            "needs_background": "light"
          }
        }
      ]
    },
    {
      "cell_type": "code",
      "source": [
        ""
      ],
      "metadata": {
        "id": "LToGd4vZIZ3I"
      },
      "execution_count": 121,
      "outputs": []
    }
  ],
  "metadata": {
    "colab": {
      "collapsed_sections": [],
      "name": "4_Branin_GP_dERM.ipynb",
      "provenance": []
    },
    "kernelspec": {
      "display_name": "Python 3",
      "name": "python3"
    },
    "language_info": {
      "name": "python"
    }
  },
  "nbformat": 4,
  "nbformat_minor": 0
}