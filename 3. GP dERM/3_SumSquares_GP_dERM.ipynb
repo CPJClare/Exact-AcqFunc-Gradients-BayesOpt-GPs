{
  "cells": [
    {
      "cell_type": "markdown",
      "metadata": {
        "id": "Dqn4dFx7Z2Ir"
      },
      "source": [
        "\n",
        "SumSquares: 2D\n"
      ]
    },
    {
      "cell_type": "code",
      "execution_count": 1,
      "metadata": {
        "colab": {
          "base_uri": "https://localhost:8080/"
        },
        "id": "MJTM_GZZZb5x",
        "outputId": "ebf8a1e0-b245-409a-b8e3-9b744aa4626a"
      },
      "outputs": [
        {
          "output_type": "stream",
          "name": "stdout",
          "text": [
            "Looking in indexes: https://pypi.org/simple, https://us-python.pkg.dev/colab-wheels/public/simple/\n",
            "Collecting pyGPGO\n",
            "  Downloading pyGPGO-0.5.1.tar.gz (14 kB)\n",
            "Requirement already satisfied: numpy in /usr/local/lib/python3.7/dist-packages (from pyGPGO) (1.21.6)\n",
            "Requirement already satisfied: mkl in /usr/local/lib/python3.7/dist-packages (from pyGPGO) (2019.0)\n",
            "Requirement already satisfied: scipy in /usr/local/lib/python3.7/dist-packages (from pyGPGO) (1.7.3)\n",
            "Requirement already satisfied: joblib in /usr/local/lib/python3.7/dist-packages (from pyGPGO) (1.1.0)\n",
            "Requirement already satisfied: scikit-learn in /usr/local/lib/python3.7/dist-packages (from pyGPGO) (1.0.2)\n",
            "Requirement already satisfied: Theano-PyMC in /usr/local/lib/python3.7/dist-packages (from pyGPGO) (1.1.2)\n",
            "Requirement already satisfied: pyMC3 in /usr/local/lib/python3.7/dist-packages (from pyGPGO) (3.11.5)\n",
            "Requirement already satisfied: intel-openmp in /usr/local/lib/python3.7/dist-packages (from mkl->pyGPGO) (2022.1.0)\n",
            "Requirement already satisfied: semver>=2.13.0 in /usr/local/lib/python3.7/dist-packages (from pyMC3->pyGPGO) (2.13.0)\n",
            "Requirement already satisfied: fastprogress>=0.2.0 in /usr/local/lib/python3.7/dist-packages (from pyMC3->pyGPGO) (1.0.3)\n",
            "Requirement already satisfied: pandas>=0.24.0 in /usr/local/lib/python3.7/dist-packages (from pyMC3->pyGPGO) (1.3.5)\n",
            "Requirement already satisfied: arviz>=0.11.0 in /usr/local/lib/python3.7/dist-packages (from pyMC3->pyGPGO) (0.12.1)\n",
            "Requirement already satisfied: dill in /usr/local/lib/python3.7/dist-packages (from pyMC3->pyGPGO) (0.3.5.1)\n",
            "Requirement already satisfied: typing-extensions>=3.7.4 in /usr/local/lib/python3.7/dist-packages (from pyMC3->pyGPGO) (4.1.1)\n",
            "Requirement already satisfied: patsy>=0.5.1 in /usr/local/lib/python3.7/dist-packages (from pyMC3->pyGPGO) (0.5.2)\n",
            "Requirement already satisfied: cachetools>=4.2.1 in /usr/local/lib/python3.7/dist-packages (from pyMC3->pyGPGO) (4.2.4)\n",
            "Requirement already satisfied: deprecat in /usr/local/lib/python3.7/dist-packages (from pyMC3->pyGPGO) (2.1.1)\n",
            "Requirement already satisfied: filelock in /usr/local/lib/python3.7/dist-packages (from Theano-PyMC->pyGPGO) (3.7.1)\n",
            "Requirement already satisfied: netcdf4 in /usr/local/lib/python3.7/dist-packages (from arviz>=0.11.0->pyMC3->pyGPGO) (1.6.0)\n",
            "Requirement already satisfied: xarray>=0.16.1 in /usr/local/lib/python3.7/dist-packages (from arviz>=0.11.0->pyMC3->pyGPGO) (0.20.2)\n",
            "Requirement already satisfied: xarray-einstats>=0.2 in /usr/local/lib/python3.7/dist-packages (from arviz>=0.11.0->pyMC3->pyGPGO) (0.2.2)\n",
            "Requirement already satisfied: matplotlib>=3.0 in /usr/local/lib/python3.7/dist-packages (from arviz>=0.11.0->pyMC3->pyGPGO) (3.2.2)\n",
            "Requirement already satisfied: setuptools>=38.4 in /usr/local/lib/python3.7/dist-packages (from arviz>=0.11.0->pyMC3->pyGPGO) (57.4.0)\n",
            "Requirement already satisfied: packaging in /usr/local/lib/python3.7/dist-packages (from arviz>=0.11.0->pyMC3->pyGPGO) (21.3)\n",
            "Requirement already satisfied: pyparsing!=2.0.4,!=2.1.2,!=2.1.6,>=2.0.1 in /usr/local/lib/python3.7/dist-packages (from matplotlib>=3.0->arviz>=0.11.0->pyMC3->pyGPGO) (3.0.9)\n",
            "Requirement already satisfied: kiwisolver>=1.0.1 in /usr/local/lib/python3.7/dist-packages (from matplotlib>=3.0->arviz>=0.11.0->pyMC3->pyGPGO) (1.4.4)\n",
            "Requirement already satisfied: cycler>=0.10 in /usr/local/lib/python3.7/dist-packages (from matplotlib>=3.0->arviz>=0.11.0->pyMC3->pyGPGO) (0.11.0)\n",
            "Requirement already satisfied: python-dateutil>=2.1 in /usr/local/lib/python3.7/dist-packages (from matplotlib>=3.0->arviz>=0.11.0->pyMC3->pyGPGO) (2.8.2)\n",
            "Requirement already satisfied: pytz>=2017.3 in /usr/local/lib/python3.7/dist-packages (from pandas>=0.24.0->pyMC3->pyGPGO) (2022.1)\n",
            "Requirement already satisfied: six in /usr/local/lib/python3.7/dist-packages (from patsy>=0.5.1->pyMC3->pyGPGO) (1.15.0)\n",
            "Requirement already satisfied: importlib-metadata in /usr/local/lib/python3.7/dist-packages (from xarray>=0.16.1->arviz>=0.11.0->pyMC3->pyGPGO) (4.12.0)\n",
            "Requirement already satisfied: wrapt<2,>=1.10 in /usr/local/lib/python3.7/dist-packages (from deprecat->pyMC3->pyGPGO) (1.14.1)\n",
            "Requirement already satisfied: zipp>=0.5 in /usr/local/lib/python3.7/dist-packages (from importlib-metadata->xarray>=0.16.1->arviz>=0.11.0->pyMC3->pyGPGO) (3.8.1)\n",
            "Requirement already satisfied: cftime in /usr/local/lib/python3.7/dist-packages (from netcdf4->arviz>=0.11.0->pyMC3->pyGPGO) (1.6.1)\n",
            "Requirement already satisfied: threadpoolctl>=2.0.0 in /usr/local/lib/python3.7/dist-packages (from scikit-learn->pyGPGO) (3.1.0)\n",
            "Building wheels for collected packages: pyGPGO\n",
            "  Building wheel for pyGPGO (setup.py) ... \u001b[?25l\u001b[?25hdone\n",
            "  Created wheel for pyGPGO: filename=pyGPGO-0.5.1-py3-none-any.whl size=19879 sha256=d7e587c15ca26fc11a156e1e027d72903b06bc3ea5e48674e47c9d2b82749dda\n",
            "  Stored in directory: /root/.cache/pip/wheels/c8/5d/0b/2160114e2f1b87791c51b66cf07f89831dbb6f49167950316f\n",
            "Successfully built pyGPGO\n",
            "Installing collected packages: pyGPGO\n",
            "Successfully installed pyGPGO-0.5.1\n"
          ]
        }
      ],
      "source": [
        "pip install pyGPGO\n"
      ]
    },
    {
      "cell_type": "code",
      "execution_count": 2,
      "metadata": {
        "id": "ZJSSPbwPaEUB"
      },
      "outputs": [],
      "source": [
        "### Import:\n",
        "\n",
        "import numpy as np\n",
        "import scipy as sp\n",
        "import pandas as pd\n",
        "import matplotlib.pyplot as plt\n",
        "import warnings\n",
        "import itertools\n",
        "\n",
        "from pyGPGO.GPGO import GPGO\n",
        "from pyGPGO.surrogates.GaussianProcess import GaussianProcess\n",
        "from pyGPGO.acquisition import Acquisition\n",
        "from pyGPGO.covfunc import squaredExponential\n",
        "\n",
        "from joblib import Parallel, delayed\n",
        "from numpy.linalg import solve, cholesky\n",
        "from scipy.spatial.distance import cdist\n",
        "from scipy.optimize import minimize\n",
        "from scipy.stats import norm\n",
        "import time\n",
        "\n",
        "warnings.filterwarnings(\"ignore\", category=RuntimeWarning)\n"
      ]
    },
    {
      "cell_type": "code",
      "execution_count": 3,
      "metadata": {
        "id": "OeYcTUNoaJWa"
      },
      "outputs": [],
      "source": [
        "### Inputs:\n",
        "\n",
        "func = 'SumSquares'\n",
        "n_test = 500\n",
        "eps = 1e-08\n",
        "\n",
        "util = 'ERM'\n",
        "\n",
        "n_init = 5 # random initialisations\n",
        "iters = 20\n",
        "opt = True"
      ]
    },
    {
      "cell_type": "code",
      "execution_count": 4,
      "metadata": {
        "id": "xpaEOjdzaPMS"
      },
      "outputs": [],
      "source": [
        "### Objective Function - Sum Squares(x) 2-D:\n",
        "\n",
        "def objfunc(x1_training, x2_training):\n",
        "            return  operator * (  1 * x1_training ** 2\n",
        "                            + 2 * x2_training ** 2\n",
        "                            )\n",
        "        \n",
        "# Constraints:\n",
        "lb = -5.12\n",
        "ub = +5.12\n",
        "    \n",
        "# Input array dimension(s):\n",
        "dim = 2\n",
        "\n",
        "# 2-D inputs' parameter bounds:\n",
        "param = {'x1_training': ('cont', [lb, ub]),\n",
        "                 'x2_training': ('cont', [lb, ub])\n",
        "                 }\n",
        "    \n",
        "# True y bounds:\n",
        "y_lb = 0\n",
        "operator = -1 # targets global minimum \n",
        "y_global_orig = y_lb * operator # targets global minimum\n",
        "    \n",
        "# Test data:\n",
        "x1_test = np.linspace(lb, ub, n_test)\n",
        "x2_test = np.linspace(lb, ub, n_test)\n",
        "x_test = np.column_stack((x1_test, x2_test))\n"
      ]
    },
    {
      "cell_type": "code",
      "execution_count": 5,
      "metadata": {
        "id": "eYpI3Zm4aGxi"
      },
      "outputs": [],
      "source": [
        "n_start_AcqFunc = iters\n",
        "inverse = -1\n"
      ]
    },
    {
      "cell_type": "code",
      "execution_count": 6,
      "metadata": {
        "id": "oO_GUmOoaV0T"
      },
      "outputs": [],
      "source": [
        "### Cumulative Regret Calculators:\n",
        "\n",
        "def min_max_array(x):\n",
        "    new_list = []\n",
        "    for i, num in enumerate(x):\n",
        "            new_list.append(np.min(x[0:i+1]))\n",
        "    return new_list\n",
        "  \n",
        "def acqFuncExact(x):\n",
        "    new_array = []\n",
        "    x = np.array(x) \n",
        "    for i, num in enumerate(x):\n",
        "            new_array = x[:-2][::-3]\n",
        "    return new_array[::-1]\n",
        "\n",
        "def acqFuncApprox(x):\n",
        "    new_array = []\n",
        "    x = np.array(x) \n",
        "    for i, num in enumerate(x):\n",
        "            new_array = x[:-1][::-3]\n",
        "    return new_array[::-1]\n"
      ]
    },
    {
      "cell_type": "code",
      "execution_count": 7,
      "metadata": {
        "id": "kuuJx0IMam9S"
      },
      "outputs": [],
      "source": [
        "### Surrogate derivatives: \n",
        "\n",
        "cov_func = squaredExponential()\n",
        "\n",
        "def kronDelta(X, Xstar):                     # Kronecker's Delta method\n",
        "    return cdist(X, Xstar) < np.finfo(np.float32).eps\n",
        "\n",
        "def se(X, Xstar, sigmaf, l, sigman):         # S.E. kernel method\n",
        "    return sigmaf * np.exp(-0.5 * cdist(X, Xstar) ** 2 / l ** 2) + sigman * kronDelta(X, Xstar)\n",
        "\n",
        "def delta(X, Xstar):                         # Distance between training X and test Xstar vectors\n",
        "    return (X - Xstar)\n",
        "   \n",
        "def der_covmat(X, Xstar, sigmaf, l, sigman): # Covariance matrix derivative terms (i.e. exact, first-order)\n",
        "    nx = len(X)\n",
        "    ny = len(Xstar)\n",
        "    return np.round(np.array([(delta(np.atleast_2d(i), np.atleast_2d(j))[0] * se(np.atleast_2d(i), np.atleast_2d(j), sigmaf, l, sigman)[0]).sum() for (i, j) in itertools.product(X, Xstar)]).reshape(nx, ny), 8)\n",
        "\n",
        "class dGaussianProcess(GaussianProcess):    # Via inheritance, also optimises hyperparameters when opt = TRUE\n",
        "    \n",
        "    def AcqGrad(self, Xstar):               # Method returning exact, first-order derivatives of the GP's posterior mean and standard deviation\n",
        "        Xstar = np.atleast_2d(Xstar)\n",
        "        Kstar = self.covfunc.K(self.X, Xstar).T\n",
        "        \n",
        "        dKstar = der_covmat(self.X, Xstar, self.covfunc.sigmaf, self.covfunc.l, self.covfunc.sigman).T\n",
        "        alpha_Kstar = np.dot(np.linalg.inv(self.K + (self.covfunc.sigman**2) * np.eye(len(self.X))), Kstar.T)\n",
        "        \n",
        "        dm = np.dot(dKstar, self.alpha)\n",
        "        ds = -2 * np.dot(dKstar, alpha_Kstar)\n",
        "        \n",
        "        return dm, ds           \n"
      ]
    },
    {
      "cell_type": "code",
      "execution_count": 8,
      "metadata": {
        "id": "_Dc3YVHVaXz7"
      },
      "outputs": [],
      "source": [
        "### Add exact acquisition function gradient as attribute:\n",
        "\n",
        "class Acquisition_grad(Acquisition):    \n",
        "    def __init__(self, mode, eps=eps, **params):\n",
        "        \n",
        "        self.params = params\n",
        "        self.eps = eps\n",
        "\n",
        "        mode_dict = {\n",
        "            'ERM': self.ERM\n",
        "        }\n",
        "\n",
        "        self.f = mode_dict[mode]\n",
        "    \n",
        "    def ERM(self, y_global_orig, mean, std, ds, dm):\n",
        "        gamma = (mean - y_global_orig - self.eps) / (std + self.eps)\n",
        "        gamma_h = (mean - y_global_orig) / (std + self.eps)\n",
        "        dsdx = ds / (2 * (std + self.eps))\n",
        "        dmdx = (dm - gamma * dsdx) / (std + self.eps)\n",
        "        \n",
        "        f = (std + self.eps) * (gamma * norm.cdf(gamma) + norm.pdf(gamma))\n",
        "        df1 = f / (std + self.eps) * dsdx \n",
        "        df2 = (std + self.eps) * norm.cdf(gamma) * dmdx\n",
        "        df = (df1 + df2)[0]\n",
        "        df_arr = []\n",
        "\n",
        "        for j in range(0, dim):\n",
        "          df_arr.append(df)\n",
        "        return f, np.asarray(df_arr).transpose()\n",
        "        \n",
        "    def d_eval(self, y_global_orig, mean, std, ds, dm):\n",
        "    \n",
        "        return self.f(y_global_orig, mean, std, ds, dm, **self.params)\n",
        "        "
      ]
    },
    {
      "cell_type": "code",
      "execution_count": 9,
      "metadata": {
        "id": "PITEQC8YSl7i"
      },
      "outputs": [],
      "source": [
        "## GPGO_multi: \n",
        "\n",
        "class GPGO_multi(GPGO):\n",
        "    n_start = n_start_AcqFunc\n",
        "\n",
        "    def __init__(self, surrogate, acquisition, f, parameter_dict, n_jobs=1):\n",
        "        self.GP = surrogate\n",
        "        self.A = acquisition\n",
        "        self.f = f\n",
        "        self.parameters = parameter_dict\n",
        "        self.n_jobs = n_jobs\n",
        "\n",
        "        self.parameter_key = list(parameter_dict.keys())\n",
        "        self.parameter_value = list(parameter_dict.values())\n",
        "        self.parameter_type = [p[0] for p in self.parameter_value]\n",
        "        self.parameter_range = [p[1] for p in self.parameter_value]\n",
        "\n",
        "        self.history = []\n",
        "        self.header =   'Evaluation \\t Proposed point \\t  Current eval. \\t  Best eval. \\t        Exact EI: StdDev. x \\t Approx EI: StdDev. x '\n",
        "        self.template = '{:3}\\t {}\\t {:3}\\t {:3}\\t {:3}\\t {:3}'\n",
        " \n",
        "    def acqfuncExact(self, xnew, n_start=n_start_AcqFunc):\n",
        "        new_mean, new_var = self.GP.predict(xnew, return_std=True)\n",
        "        new_std = np.sqrt(new_var + eps)\n",
        "        dm, ds = self.GP.AcqGrad(xnew)\n",
        "        f, df = self.A.d_eval(y_global_orig, new_mean, new_std, ds=ds, dm=dm)\n",
        "\n",
        "        return -f, -df\n",
        "   \n",
        "    def acqfuncApprox(self, xnew, n_start=n_start_AcqFunc):\n",
        "        new_mean, new_var = self.GP.predict(xnew, return_std=True)\n",
        "        new_std = np.sqrt(new_var + eps)\n",
        "        dm, ds = self.GP.AcqGrad(xnew)\n",
        "        f, df = self.A.d_eval(y_global_orig, new_mean, new_std, ds=ds, dm=dm)\n",
        "\n",
        "        return -f\n",
        "   \n",
        "    def _optimizeAcq(self, method='L-BFGS-B', n_start=n_start_AcqFunc):\n",
        "        \n",
        "        start_points_dict = [self._sampleParam() for i in range(n_start)]\n",
        "        start_points_arr = np.array([list(s.values())\n",
        "                                     for s in start_points_dict])\n",
        "        x_best = np.empty((n_start, len(self.parameter_key)))\n",
        "        f_best = np.empty((n_start,))\n",
        "        opt = Parallel(n_jobs=self.n_jobs)(delayed(minimize)(self.acqfuncApprox,\n",
        "                                                                 x0=start_point,\n",
        "                                                                 method=method,\n",
        "                                                                 jac = False,\n",
        "                                                                 bounds=self.parameter_range) for start_point in\n",
        "                                               start_points_arr)\n",
        "        x_best = np.array([res.x for res in opt])\n",
        "        f_best = np.array([np.atleast_1d(res.fun)[0] for res in opt])\n",
        "        f_best_min = min(f_best)\n",
        "\n",
        "        self.x_best = x_best\n",
        "        self.f_best = f_best\n",
        "        self.f_best_min = f_best_min\n",
        "        self.x_best_std = np.std(x_best)\n",
        "        self.best = x_best[np.argmin(f_best)]\n",
        "        self.start_points_arr = start_points_arr        \n",
        "        self.history.append(self.x_best_std)\n",
        "\n",
        "        x_best_exact = np.empty((n_start, len(self.parameter_key)))\n",
        "        f_best_exact = np.empty((n_start,))\n",
        "        opt_exact = Parallel(n_jobs=self.n_jobs)(delayed(minimize)(self.acqfuncExact,\n",
        "                                                                 x0=start_point,\n",
        "                                                                 method=method,\n",
        "                                                                 jac = True,\n",
        "                                                                 bounds=self.parameter_range) for start_point in\n",
        "                                               start_points_arr)\n",
        "        x_best_exact = np.array([res.x for res in opt_exact])\n",
        "        f_best_exact = np.array([np.atleast_1d(res.fun)[0] for res in opt_exact])\n",
        "        f_best_min_exact = min(f_best_exact)\n",
        "\n",
        "        self.x_best_exact = x_best_exact\n",
        "        self.f_best_exact = f_best_exact\n",
        "        self.f_best_min_exact = f_best_min_exact\n",
        "        self.x_best_std_exact = np.std(x_best_exact)\n",
        "        self.best_exact = x_best_exact[np.argmin(f_best_exact)]\n",
        "        self.start_points_arr = start_points_arr\n",
        "        self.history.append(self.x_best_std_exact)\n",
        "\n",
        "    def _printInit(self):\n",
        "        print(self.header)\n",
        "        for init_eval in range(self.init_evals):\n",
        "            print(self.template.format('init', self.GP.X[init_eval], inverse * self.GP.y[init_eval], inverse * self.tau, '', ''))\n",
        "      \n",
        "    def _printCurrent(self):\n",
        "        OKGREEN = '\\033[92m'\n",
        "        ENDC = '\\033[0m'\n",
        "        BOLD = '\\033[1m'\n",
        "        eval = str(len(self.GP.y) - self.init_evals)\n",
        "        proposed = str(self.best)\n",
        "        curr_eval = str(inverse * self.GP.y[-1])\n",
        "        curr_best = str(inverse * self.tau)\n",
        "        min_acqfunc = str(self.f_best_min)\n",
        "        min_acqfunc_exact = str(self.f_best_min_exact)\n",
        "        x_best_std = str(self.x_best_std)\n",
        "        x_best_std_exact = str(self.x_best_std_exact)\n",
        "        if float(curr_eval) <= float(curr_best):\n",
        "            eval = BOLD + OKGREEN + eval + ENDC\n",
        "            proposed = BOLD + OKGREEN + proposed + ENDC\n",
        "            curr_eval = BOLD + OKGREEN + curr_eval + ENDC\n",
        "            curr_best = BOLD + OKGREEN + curr_best + ENDC\n",
        "            x_best_std = BOLD + OKGREEN + x_best_std + ENDC\n",
        "            x_best_std_exact = BOLD + OKGREEN + x_best_std_exact + ENDC\n",
        "        print(self.template.format(eval, proposed, curr_eval, curr_best, x_best_std_exact, x_best_std))\n",
        "        \n",
        "    def run(self, max_iter=10, init_evals=3, resume=False):\n",
        "        \n",
        "        if not resume:\n",
        "            self.init_evals = init_evals\n",
        "            self._firstRun(self.init_evals)\n",
        "            self._printInit()\n",
        "        for iteration in range(max_iter):\n",
        "            self._optimizeAcq()\n",
        "            self.updateGP()\n",
        "            self._printCurrent()\n"
      ]
    },
    {
      "cell_type": "code",
      "execution_count": 10,
      "metadata": {
        "id": "b_B-w81BJxKN"
      },
      "outputs": [],
      "source": [
        "## dGPGO:\n",
        "\n",
        "class dGPGO(GPGO):\n",
        "    n_start = n_start_AcqFunc\n",
        "\n",
        "    def __init__(self, surrogate, acquisition, f, parameter_dict, n_jobs=1):\n",
        "        self.GP = surrogate\n",
        "        self.A = acquisition\n",
        "        self.f = f\n",
        "        self.parameters = parameter_dict\n",
        "        self.n_jobs = n_jobs\n",
        "\n",
        "        self.parameter_key = list(parameter_dict.keys())\n",
        "        self.parameter_value = list(parameter_dict.values())\n",
        "        self.parameter_type = [p[0] for p in self.parameter_value]\n",
        "        self.parameter_range = [p[1] for p in self.parameter_value]\n",
        "\n",
        "        self.history = []\n",
        "        self.header =   'Evaluation \\t Proposed point \\t  Current eval. \\t  Best eval. \\t        Exact EI: StdDev. x \\t Approx EI: StdDev. x '\n",
        "        self.template = '{:3}\\t {}\\t {:3}\\t {:3}\\t {:3}\\t {:3}'\n",
        "\n",
        "    def acqfuncExact(self, xnew, n_start=n_start_AcqFunc):\n",
        "        new_mean, new_var = self.GP.predict(xnew, return_std=True)\n",
        "        new_std = np.sqrt(new_var + eps)\n",
        "        dm, ds = self.GP.AcqGrad(xnew)\n",
        "        f, df = self.A.d_eval(y_global_orig, new_mean, new_std, ds=ds, dm=dm)\n",
        "\n",
        "        return -f, -df\n",
        "   \n",
        "    def acqfuncApprox(self, xnew, n_start=n_start_AcqFunc):\n",
        "        new_mean, new_var = self.GP.predict(xnew, return_std=True)\n",
        "        new_std = np.sqrt(new_var + eps)\n",
        "        dm, ds = self.GP.AcqGrad(xnew)\n",
        "        f, df = self.A.d_eval(y_global_orig, new_mean, new_std, ds=ds, dm=dm)\n",
        "\n",
        "        return -f\n",
        "\n",
        "    def d_optimizeAcq(self, method='L-BFGS-B', n_start=n_start_AcqFunc):\n",
        "        start_points_dict = [self._sampleParam() for i in range(n_start)]\n",
        "        start_points_arr = np.array([list(s.values())\n",
        "                                     for s in start_points_dict])\n",
        "        x_best = np.empty((n_start, len(self.parameter_key)))\n",
        "        f_best = np.empty((n_start,))\n",
        "        opt = Parallel(n_jobs=self.n_jobs)(delayed(minimize)(self.acqfuncExact,\n",
        "                                                                 x0=start_point,\n",
        "                                                                 method=method,\n",
        "                                                                 jac = True,\n",
        "                                                                 bounds=self.parameter_range) for start_point in\n",
        "                                               start_points_arr)\n",
        "        x_best = np.array([res.x for res in opt])\n",
        "        f_best = np.array([np.atleast_1d(res.fun)[0] for res in opt])\n",
        "        f_best_min = min(f_best)\n",
        "\n",
        "        self.x_best = x_best\n",
        "        self.f_best = f_best\n",
        "        self.f_best_min = f_best_min\n",
        "        self.x_best_std = np.std(x_best)\n",
        "        self.best = x_best[np.argmin(f_best)]\n",
        "        self.start_points_arr = start_points_arr\n",
        "        self.history.append(self.x_best_std)\n",
        "\n",
        "        x_best_approx = np.empty((n_start, len(self.parameter_key)))\n",
        "        f_best_approx = np.empty((n_start,))\n",
        "        opt_approx = Parallel(n_jobs=self.n_jobs)(delayed(minimize)(self.acqfuncApprox,\n",
        "                                                                 x0=start_point,\n",
        "                                                                 method=method,\n",
        "                                                                 jac = False,\n",
        "                                                                 bounds=self.parameter_range) for start_point in\n",
        "                                               start_points_arr)\n",
        "        x_best_approx = np.array([res.x for res in opt_approx])\n",
        "        f_best_approx = np.array([np.atleast_1d(res.fun)[0] for res in opt_approx])\n",
        "        f_best_min_approx = min(f_best_approx)\n",
        "\n",
        "        self.x_best_approx = x_best_approx\n",
        "        self.f_best_approx = f_best_approx\n",
        "        self.f_best_min_approx = f_best_min_approx\n",
        "        self.x_best_std_approx = np.std(x_best_approx)\n",
        "        self.best_approx = x_best_approx[np.argmin(f_best_approx)]\n",
        "        self.start_points_arr = start_points_arr\n",
        "        self.history.append(self.x_best_std_approx)\n",
        "    \n",
        "    def _printInit(self):\n",
        "        print(self.header)\n",
        "        for init_eval in range(self.init_evals):\n",
        "            print(self.template.format('init', self.GP.X[init_eval], inverse * self.GP.y[init_eval], inverse * self.tau, '', ''))\n",
        "      \n",
        "    def _printCurrent(self):\n",
        "        OKGREEN = '\\033[92m'\n",
        "        ENDC = '\\033[0m'\n",
        "        BOLD = '\\033[1m'\n",
        "        eval = str(len(self.GP.y) - self.init_evals)\n",
        "        proposed = str(self.best)\n",
        "        curr_eval = str(inverse * self.GP.y[-1])\n",
        "        curr_best = str(inverse * self.tau)\n",
        "        min_acqfunc = str(self.f_best_min)\n",
        "        min_acqfunc_approx = str(self.f_best_min_approx)\n",
        "        x_best_std = str(self.x_best_std)\n",
        "        x_best_std_approx = str(self.x_best_std_approx)\n",
        "        if float(curr_eval) <= float(curr_best):\n",
        "            eval = BOLD + OKGREEN + eval + ENDC\n",
        "            proposed = BOLD + OKGREEN + proposed + ENDC\n",
        "            curr_eval = BOLD + OKGREEN + curr_eval + ENDC\n",
        "            curr_best = BOLD + OKGREEN + curr_best + ENDC\n",
        "            x_best_std = BOLD + OKGREEN + x_best_std + ENDC\n",
        "            x_best_std_approx = BOLD + OKGREEN + x_best_std_approx + ENDC\n",
        "        print(self.template.format(eval, proposed, curr_eval, curr_best, x_best_std, x_best_std_approx))\n",
        "\n",
        "    def run(self, max_iter=10, init_evals=3, resume=False):\n",
        "        \n",
        "        if not resume:\n",
        "            self.init_evals = init_evals\n",
        "            self._firstRun(self.init_evals)\n",
        "            self._printInit()\n",
        "        for iteration in range(max_iter):\n",
        "            self.d_optimizeAcq()\n",
        "            self.updateGP()\n",
        "            self._printCurrent()\n"
      ]
    },
    {
      "cell_type": "code",
      "execution_count": 11,
      "metadata": {
        "id": "qXIKGuXVGEg2"
      },
      "outputs": [],
      "source": [
        "###Reproducible set-seeds:\n",
        "\n",
        "run_num_1 = 1\n",
        "run_num_2 = 2\n",
        "run_num_3 = 3\n",
        "run_num_4 = 4\n",
        "run_num_5 = 5\n",
        "run_num_6 = 6\n",
        "run_num_7 = 7\n",
        "run_num_8 = 8\n",
        "run_num_9 = 9\n",
        "run_num_10 = 10\n",
        "run_num_11 = 11\n",
        "run_num_12 = 12\n",
        "run_num_13 = 13\n",
        "run_num_14 = 14\n",
        "run_num_15 = 15\n",
        "run_num_16 = 16\n",
        "run_num_17 = 17\n",
        "run_num_18 = 18\n",
        "run_num_19 = 19\n",
        "run_num_20 = 20\n"
      ]
    },
    {
      "cell_type": "code",
      "execution_count": 12,
      "metadata": {
        "colab": {
          "base_uri": "https://localhost:8080/"
        },
        "id": "JEhagQmnTVIK",
        "outputId": "28cf2ff9-0d27-400d-8f14-196a2234b4b4"
      },
      "outputs": [
        {
          "output_type": "execute_result",
          "data": {
            "text/plain": [
              "1659620050.0444283"
            ]
          },
          "metadata": {},
          "execution_count": 12
        }
      ],
      "source": [
        "start_approx = time.time()\n",
        "start_approx\n"
      ]
    },
    {
      "cell_type": "code",
      "execution_count": 13,
      "metadata": {
        "colab": {
          "base_uri": "https://localhost:8080/"
        },
        "id": "aH0YSTXufD1v",
        "outputId": "04997306-2f0b-4db3-898f-9d58890795b7"
      },
      "outputs": [
        {
          "output_type": "stream",
          "name": "stdout",
          "text": [
            "Evaluation \t Proposed point \t  Current eval. \t  Best eval. \t        Exact EI: StdDev. x \t Approx EI: StdDev. x \n",
            "init\t [-0.84969467  2.25612281]\t 10.902161328666502\t 1.4334486961549602\t    \t    \n",
            "init\t [-5.1188288  -2.02411446]\t 34.396486966857985\t 1.4334486961549602\t    \t    \n",
            "init\t [-3.61721968 -4.17445279]\t 47.936390383803385\t 1.4334486961549602\t    \t    \n",
            "init\t [-3.21269544 -1.58145816]\t 15.323431753768267\t 1.4334486961549602\t    \t    \n",
            "init\t [-1.05710106  0.39748336]\t 1.4334486961549602\t 1.4334486961549602\t    \t    \n",
            "1  \t [ 5.12 -5.12]\t 78.64320000000001\t 1.4334486961549602\t 3.6014928257239807\t 4.255026526242912\n",
            "2  \t [5.12 5.12]\t 78.64320000000001\t 1.4334486961549602\t 3.3746799846436524\t 3.6750454154401067\n",
            "3  \t [-5.12  5.12]\t 78.64320000000001\t 1.4334486961549602\t 3.1704582125936387\t 3.4930137976936186\n",
            "4  \t [ 3.66241092 -0.0326552 ]\t 13.415386444303417\t 1.4334486961549602\t 3.2755885081235987\t 3.4431050125407094\n",
            "5  \t [ 0.83756863 -3.37796086]\t 23.522760331685035\t 1.4334486961549602\t 2.7127616298860544\t 3.1616273275648608\n",
            "6  \t [0.97991464 5.12      ]\t 53.389032707136835\t 1.4334486961549602\t 2.7282584929397307\t 3.1474653790274667\n",
            "7  \t [-5.12       1.4449365]\t 30.390082978629874\t 1.4334486961549602\t 3.0407290311123387\t 3.423987525769889\n",
            "\u001b[1m\u001b[92m8\u001b[0m\t \u001b[1m\u001b[92m[ 0.64353778 -0.22108231]\u001b[0m\t \u001b[1m\u001b[92m0.5118956488597225\u001b[0m\t \u001b[1m\u001b[92m0.5118956488597225\u001b[0m\t \u001b[1m\u001b[92m3.2018849408536187\u001b[0m\t \u001b[1m\u001b[92m3.2786731630303017\u001b[0m\n",
            "9  \t [2.36840303 2.23953501]\t 15.640366992401688\t 0.5118956488597225\t 2.7868583119147163\t 2.812121467674723\n",
            "10 \t [-0.40250085 -0.68831484]\t 1.1095615721994896\t 0.5118956488597225\t 3.0940322276801027\t 3.259068688728591\n",
            "11 \t [-2.00893247  5.12      ]\t 56.46460968656525\t 0.5118956488597225\t 2.761899112053906\t 3.1751100389829965\n",
            "12 \t [ 5.12       -1.91178641]\t 33.524254589657474\t 0.5118956488597225\t 3.1415182760545743\t 3.0471678138676213\n",
            "13 \t [5.12       1.86938114]\t 33.20357169043983\t 0.5118956488597225\t 2.4895465986122893\t 2.5053759529447635\n",
            "14 \t [ 0.9402361  -0.37607144]\t 1.166903389500021\t 0.5118956488597225\t 2.936452315722999\t 3.0126879654522396\n",
            "\u001b[1m\u001b[92m15\u001b[0m\t \u001b[1m\u001b[92m[ 0.21323529 -0.16378921]\u001b[0m\t \u001b[1m\u001b[92m0.09912310091117484\u001b[0m\t \u001b[1m\u001b[92m0.09912310091117484\u001b[0m\t \u001b[1m\u001b[92m2.4444866321588195\u001b[0m\t \u001b[1m\u001b[92m2.0487350094173498\u001b[0m\n",
            "16 \t [-0.89072527 -5.12      ]\t 53.22219151055173\t 0.09912310091117484\t 2.8711890575433925\t 2.8148440704998983\n",
            "\u001b[1m\u001b[92m17\u001b[0m\t \u001b[1m\u001b[92m[ 0.19963738 -0.17166274]\u001b[0m\t \u001b[1m\u001b[92m0.09879127771913318\u001b[0m\t \u001b[1m\u001b[92m0.09879127771913318\u001b[0m\t \u001b[1m\u001b[92m2.8647329312246326\u001b[0m\t \u001b[1m\u001b[92m2.4803028586079927\u001b[0m\n",
            "\u001b[1m\u001b[92m18\u001b[0m\t \u001b[1m\u001b[92m[ 0.1957991  -0.16736486]\u001b[0m\t \u001b[1m\u001b[92m0.09435927598941474\u001b[0m\t \u001b[1m\u001b[92m0.09435927598941474\u001b[0m\t \u001b[1m\u001b[92m2.890668915314901\u001b[0m\t \u001b[1m\u001b[92m2.65352176792826\u001b[0m\n",
            "\u001b[1m\u001b[92m19\u001b[0m\t \u001b[1m\u001b[92m[ 0.19316001 -0.16407864]\u001b[0m\t \u001b[1m\u001b[92m0.09115439309913742\u001b[0m\t \u001b[1m\u001b[92m0.09115439309913742\u001b[0m\t \u001b[1m\u001b[92m3.160537642336323\u001b[0m\t \u001b[1m\u001b[92m3.1544689729143567\u001b[0m\n",
            "\u001b[1m\u001b[92m20\u001b[0m\t \u001b[1m\u001b[92m[ 0.1912201  -0.16145674]\u001b[0m\t \u001b[1m\u001b[92m0.08870168635548581\u001b[0m\t \u001b[1m\u001b[92m0.08870168635548581\u001b[0m\t \u001b[1m\u001b[92m2.951675918796551\u001b[0m\t \u001b[1m\u001b[92m2.6408686620789155\u001b[0m\n"
          ]
        }
      ],
      "source": [
        "### ESTIMATED GP EI GRADIENTS\n",
        "\n",
        "np.random.seed(run_num_1)\n",
        "surrogate_approx_1 = dGaussianProcess(cov_func, optimize=opt)\n",
        "\n",
        "approx_1 = GPGO_multi(surrogate_approx_1, Acquisition_grad(util), objfunc, param)\n",
        "approx_1.run(init_evals=n_init, max_iter=iters)\n"
      ]
    },
    {
      "cell_type": "code",
      "execution_count": 14,
      "metadata": {
        "id": "wTxsSZxFGBB5",
        "colab": {
          "base_uri": "https://localhost:8080/"
        },
        "outputId": "071dd83d-383b-43fa-d3c3-24dc2656c5df"
      },
      "outputs": [
        {
          "output_type": "stream",
          "name": "stdout",
          "text": [
            "Evaluation \t Proposed point \t  Current eval. \t  Best eval. \t        Exact EI: StdDev. x \t Approx EI: StdDev. x \n",
            "init\t [-0.6554122  -4.85451539]\t 47.562204422038214\t 1.1358959044973735\t    \t    \n",
            "init\t [ 0.50854377 -0.6622987 ]\t 1.1358959044973735\t 1.1358959044973735\t    \t    \n",
            "init\t [-0.81543371 -1.73737143]\t 6.7018511217540135\t 1.1358959044973735\t    \t    \n",
            "init\t [-3.02439799  1.2213347 ]\t 12.13030006303276\t 1.1358959044973735\t    \t    \n",
            "init\t [-2.05153614 -2.3876887 ]\t 15.610915224537823\t 1.1358959044973735\t    \t    \n",
            "1  \t [2.55580587 5.12      ]\t 58.960943648405\t 1.1358959044973735\t 3.7549177066784476\t 3.824076174999771\n",
            "2  \t [ 5.12 -5.12]\t 78.64320000000001\t 1.1358959044973735\t 3.1137524197353432\t 3.7799617424522647\n",
            "3  \t [5.12       0.36666213]\t 26.483282234297494\t 1.1358959044973735\t 3.612986547850491\t 3.702414183500997\n",
            "4  \t [-2.19203119  5.12      ]\t 57.233800730807246\t 1.1358959044973735\t 3.7124206410269798\t 3.187489022128116\n",
            "5  \t [-5.12 -5.12]\t 78.64320000000001\t 1.1358959044973735\t 3.9339858541457935\t 3.452487268505297\n",
            "6  \t [0.69482979 1.70587984]\t 6.302840495543892\t 1.1358959044973735\t 3.176995984841653\t 3.1400825785057016\n",
            "7  \t [ 2.41854908 -2.19273008]\t 15.465510085307876\t 1.1358959044973735\t 2.940588799652401\t 3.2996437544830055\n",
            "8  \t [-5.12        3.35826242]\t 48.77025295601197\t 1.1358959044973735\t 2.6894515677899333\t 2.751002773783384\n",
            "9  \t [-5.12       -1.15328248]\t 28.874520969577297\t 1.1358959044973735\t 3.0089499300950306\t 3.0466404788962698\n",
            "10 \t [2.86598793 1.93010249]\t 15.664478065663605\t 1.1358959044973735\t 3.202622430281976\t 3.09109513442349\n",
            "11 \t [5.12       3.56173226]\t 51.58627333706802\t 1.1358959044973735\t 3.1820950561271477\t 3.0630379829906618\n",
            "\u001b[1m\u001b[92m12\u001b[0m\t \u001b[1m\u001b[92m[-0.62853005  0.25078673]\u001b[0m\t \u001b[1m\u001b[92m0.5208379936320461\u001b[0m\t \u001b[1m\u001b[92m0.5208379936320461\u001b[0m\t \u001b[1m\u001b[92m2.416176061907838\u001b[0m\t \u001b[1m\u001b[92m2.407144451553867\u001b[0m\n",
            "13 \t [ 2.12145929 -5.12      ]\t 56.92938950477399\t 0.5208379936320461\t 2.99341125832832\t 2.8692913195880787\n",
            "\u001b[1m\u001b[92m14\u001b[0m\t \u001b[1m\u001b[92m[-0.59426627  0.22860061]\u001b[0m\t \u001b[1m\u001b[92m0.4576688819583636\u001b[0m\t \u001b[1m\u001b[92m0.4576688819583636\u001b[0m\t \u001b[1m\u001b[92m3.06634698884656\u001b[0m\t \u001b[1m\u001b[92m3.083904472278065\u001b[0m\n",
            "\u001b[1m\u001b[92m15\u001b[0m\t \u001b[1m\u001b[92m[-0.57855361  0.21861805]\u001b[0m\t \u001b[1m\u001b[92m0.43031197731541676\u001b[0m\t \u001b[1m\u001b[92m0.43031197731541676\u001b[0m\t \u001b[1m\u001b[92m2.636601182915537\u001b[0m\t \u001b[1m\u001b[92m2.6008792750206564\u001b[0m\n",
            "\u001b[1m\u001b[92m16\u001b[0m\t \u001b[1m\u001b[92m[-0.57190806  0.21439058]\u001b[0m\t \u001b[1m\u001b[92m0.4190054776262102\u001b[0m\t \u001b[1m\u001b[92m0.4190054776262102\u001b[0m\t \u001b[1m\u001b[92m2.63595697594023\u001b[0m\t \u001b[1m\u001b[92m2.4189908143705927\u001b[0m\n",
            "\u001b[1m\u001b[92m17\u001b[0m\t \u001b[1m\u001b[92m[-0.5689462   0.21247676]\u001b[0m\t \u001b[1m\u001b[92m0.4139925344421843\u001b[0m\t \u001b[1m\u001b[92m0.4139925344421843\u001b[0m\t \u001b[1m\u001b[92m2.742657513841487\u001b[0m\t \u001b[1m\u001b[92m2.619675226755178\u001b[0m\n",
            "\u001b[1m\u001b[92m18\u001b[0m\t \u001b[1m\u001b[92m[-0.56756164  0.21155536]\u001b[0m\t \u001b[1m\u001b[92m0.41163755514397926\u001b[0m\t \u001b[1m\u001b[92m0.41163755514397926\u001b[0m\t \u001b[1m\u001b[92m2.716497640014132\u001b[0m\t \u001b[1m\u001b[92m2.8035257857811584\u001b[0m\n",
            "\u001b[1m\u001b[92m19\u001b[0m\t \u001b[1m\u001b[92m[-0.56690985  0.21109887]\u001b[0m\t \u001b[1m\u001b[92m0.41051224358503297\u001b[0m\t \u001b[1m\u001b[92m0.41051224358503297\u001b[0m\t \u001b[1m\u001b[92m2.6872657185585656\u001b[0m\t \u001b[1m\u001b[92m2.4708777365418273\u001b[0m\n",
            "\u001b[1m\u001b[92m20\u001b[0m\t \u001b[1m\u001b[92m[-0.56658398  0.21085264]\u001b[0m\t \u001b[1m\u001b[92m0.40993508343520946\u001b[0m\t \u001b[1m\u001b[92m0.40993508343520946\u001b[0m\t \u001b[1m\u001b[92m2.833577776340218\u001b[0m\t \u001b[1m\u001b[92m2.529645164078806\u001b[0m\n"
          ]
        }
      ],
      "source": [
        "### ESTIMATED GP EI GRADIENTS\n",
        "\n",
        "np.random.seed(run_num_2)\n",
        "surrogate_approx_2 = dGaussianProcess(cov_func, optimize=opt)\n",
        "\n",
        "approx_2 = GPGO_multi(surrogate_approx_2, Acquisition_grad(util), objfunc, param)\n",
        "approx_2.run(init_evals=n_init, max_iter=iters)\n"
      ]
    },
    {
      "cell_type": "code",
      "execution_count": 15,
      "metadata": {
        "id": "-dgzIrUIGCGT",
        "colab": {
          "base_uri": "https://localhost:8080/"
        },
        "outputId": "7b030ccc-b506-4c96-a77a-267b4d6f6d31"
      },
      "outputs": [
        {
          "output_type": "stream",
          "name": "stdout",
          "text": [
            "Evaluation \t Proposed point \t  Current eval. \t  Best eval. \t        Exact EI: StdDev. x \t Approx EI: StdDev. x \n",
            "init\t [0.52017052 2.1314337 ]\t 9.356596638100186\t 4.609047504113831\t    \t    \n",
            "init\t [-2.14113547  0.11087468]\t 4.609047504113831\t 4.609047504113831\t    \t    \n",
            "init\t [4.02377681 4.05804123]\t 49.12617709674532\t 4.609047504113831\t    \t    \n",
            "init\t [-3.83400642 -2.99783293]\t 32.673609761904345\t 4.609047504113831\t    \t    \n",
            "init\t [-4.59297584 -0.6061072 ]\t 21.83015892853491\t 4.609047504113831\t    \t    \n",
            "1  \t [ 5.12       -1.96172695]\t 33.911145252274196\t 4.609047504113831\t 2.076472279670827\t 3.4770087682704136\n",
            "2  \t [-4.55668705  4.96211408]\t 70.0085491438454\t 4.609047504113831\t 3.1058782132575247\t 3.8652437337642604\n",
            "3  \t [ 0.95791725 -5.12      ]\t 53.34640546708224\t 4.609047504113831\t 2.7860247967321237\t 3.3671152935691517\n",
            "\u001b[1m\u001b[92m4\u001b[0m\t \u001b[1m\u001b[92m[ 1.20804017 -1.20237275]\u001b[0m\t \u001b[1m\u001b[92m4.350761500345232\u001b[0m\t \u001b[1m\u001b[92m4.350761500345232\u001b[0m\t \u001b[1m\u001b[92m2.98303015238514\u001b[0m\t \u001b[1m\u001b[92m2.817906558685606\u001b[0m\n",
            "5  \t [-0.48242719  5.12      ]\t 52.66153599056306\t 4.350761500345232\t 2.78681739981247\t 3.248740746258877\n",
            "6  \t [ 5.12 -5.12]\t 78.64320000000001\t 4.350761500345232\t 3.242000848738644\t 3.0010172775474926\n",
            "7  \t [3.24134214 0.7247389 ]\t 11.556791833887438\t 4.350761500345232\t 2.8727004352219074\t 2.8891585763499754\n",
            "8  \t [-2.582566    2.25609663]\t 16.849591199721814\t 4.350761500345232\t 3.167652122315488\t 3.1623272141266634\n",
            "9  \t [-0.83672473 -2.14331548]\t 9.887710746900806\t 4.350761500345232\t 2.762268868541787\t 2.706502166138283\n",
            "10 \t [-5.12 -5.12]\t 78.64320000000001\t 4.350761500345232\t 2.9133534147881877\t 2.9649179088258353\n",
            "11 \t [-1.92325284 -5.12      ]\t 56.12770146744243\t 4.350761500345232\t 2.973924172393341\t 3.075858817493587\n",
            "12 \t [-5.12        1.91284415]\t 33.53234551528491\t 4.350761500345232\t 2.716275537673837\t 2.8599011073083305\n",
            "13 \t [ 2.37685777 -2.47458756]\t 17.896620101768118\t 4.350761500345232\t 2.9925245541914194\t 2.90290012760826\n",
            "14 \t [5.12       1.26270085]\t 29.40322684913472\t 4.350761500345232\t 2.7730578234177234\t 2.8032820885474177\n",
            "\u001b[1m\u001b[92m15\u001b[0m\t \u001b[1m\u001b[92m[0.0514291  0.03676231]\u001b[0m\t \u001b[1m\u001b[92m0.005347886513274014\u001b[0m\t \u001b[1m\u001b[92m0.005347886513274014\u001b[0m\t \u001b[1m\u001b[92m2.8625533896889026\u001b[0m\t \u001b[1m\u001b[92m2.552084599951479\u001b[0m\n",
            "16 \t [0.05188379 0.03659453]\t 0.005370246588282454\t 0.005347886513274014\t 2.993285608370966\t 2.8929012871652358\n",
            "17 \t [0.05187348 0.03659882]\t 0.005369805045397883\t 0.005347886513274014\t 2.525380140947933\t 2.5027410424711496\n",
            "18 \t [0.05181405 0.03662116]\t 0.00536691432787419\t 0.005347886513274014\t 3.2027044745559863\t 3.1080105093123995\n",
            "19 \t [0.05175467 0.03664349]\t 0.005364036168776521\t 0.005347886513274014\t 2.9269557837837548\t 2.80419560934222\n",
            "20 \t [0.0517037  0.03666281]\t 0.005361596711864764\t 0.005347886513274014\t 2.295044210549371\t 2.2893045214873355\n"
          ]
        }
      ],
      "source": [
        "### ESTIMATED GP EI GRADIENTS\n",
        "\n",
        "np.random.seed(run_num_3)\n",
        "surrogate_approx_3 = dGaussianProcess(cov_func, optimize=opt)\n",
        "\n",
        "approx_3 = GPGO_multi(surrogate_approx_3, Acquisition_grad(util), objfunc, param)\n",
        "approx_3.run(init_evals=n_init, max_iter=iters)\n"
      ]
    },
    {
      "cell_type": "code",
      "execution_count": 16,
      "metadata": {
        "id": "hOtG-2sCGCKS",
        "colab": {
          "base_uri": "https://localhost:8080/"
        },
        "outputId": "f8951fe3-b28d-4a76-c1da-a71df6c91c3d"
      },
      "outputs": [
        {
          "output_type": "stream",
          "name": "stdout",
          "text": [
            "Evaluation \t Proposed point \t  Current eval. \t  Best eval. \t        Exact EI: StdDev. x \t Approx EI: StdDev. x \n",
            "init\t [4.78238555 0.48365823]\t 23.33906213310676\t 7.289910254474112\t    \t    \n",
            "init\t [4.84028785 2.19971578]\t 33.10588541607836\t 7.289910254474112\t    \t    \n",
            "init\t [ 2.02474316 -2.90724357]\t 21.003715175118646\t 7.289910254474112\t    \t    \n",
            "init\t [ 4.87705042 -5.05620219]\t 74.91598187475032\t 7.289910254474112\t    \t    \n",
            "init\t [-2.52946061 -0.66773471]\t 7.289910254474112\t 7.289910254474112\t    \t    \n",
            "1  \t [-2.49835819  4.71060577]\t 50.62140701156874\t 7.289910254474112\t 3.0300311369906727\t 3.7073631838685097\n",
            "2  \t [-5.12 -5.12]\t 78.64320000000001\t 7.289910254474112\t 3.8189574247045774\t 3.742210602393905\n",
            "3  \t [1.85973713 5.12      ]\t 55.8874222015877\t 7.289910254474112\t 3.387853577303881\t 3.4348498209844713\n",
            "\u001b[1m\u001b[92m4\u001b[0m\t \u001b[1m\u001b[92m[0.63967219 1.05910255]\u001b[0m\t \u001b[1m\u001b[92m2.652576938297688\u001b[0m\t \u001b[1m\u001b[92m2.652576938297688\u001b[0m\t \u001b[1m\u001b[92m3.156698442065427\u001b[0m\t \u001b[1m\u001b[92m3.456127805990181\u001b[0m\n",
            "5  \t [-5.12       1.6203145]\t 31.465238178119566\t 2.652576938297688\t 3.0137133247965946\t 3.126124403846898\n",
            "6  \t [-0.97408615 -5.12      ]\t 53.37764382995702\t 2.652576938297688\t 3.0574922879174706\t 2.7972278006768567\n",
            "7  \t [-5.12       -1.64452681]\t 31.623336886217505\t 2.652576938297688\t 2.393508696499226\t 2.236018056086981\n",
            "8  \t [5.12 5.12]\t 78.64320000000001\t 2.652576938297688\t 2.7254479794317286\t 2.486409293566777\n",
            "9  \t [-1.33908158  1.64970553]\t 7.236196142028508\t 2.652576938297688\t 2.634281723244023\t 2.4242247345454024\n",
            "\u001b[1m\u001b[92m10\u001b[0m\t \u001b[1m\u001b[92m[-0.13030014 -1.07259593]\u001b[0m\t \u001b[1m\u001b[92m2.3179021746224597\u001b[0m\t \u001b[1m\u001b[92m2.3179021746224597\u001b[0m\t \u001b[1m\u001b[92m3.524607671481946\u001b[0m\t \u001b[1m\u001b[92m3.461395327636822\u001b[0m\n",
            "11 \t [1.94885408 0.06393216]\t 3.8062068767537083\t 2.3179021746224597\t 3.0889672840293803\t 3.164870794055009\n",
            "12 \t [-5.12  5.12]\t 78.64320000000001\t 2.3179021746224597\t 2.9806354724589372\t 3.235648985933222\n",
            "13 \t [1.66112399 2.08844103]\t 11.482504785172058\t 2.3179021746224597\t 2.8484827304833478\t 2.780130441778693\n",
            "14 \t [-1.1173624 -2.1680876]\t 10.649706401400248\t 2.3179021746224597\t 2.5539699208246573\t 2.4821846366485785\n",
            "15 \t [ 5.12       -1.99709742]\t 34.19119620426043\t 2.3179021746224597\t 2.9699934171572737\t 3.1475240728636735\n",
            "\u001b[1m\u001b[92m16\u001b[0m\t \u001b[1m\u001b[92m[ 0.22341613 -0.13442043]\u001b[0m\t \u001b[1m\u001b[92m0.08605247154318149\u001b[0m\t \u001b[1m\u001b[92m0.08605247154318149\u001b[0m\t \u001b[1m\u001b[92m2.8002843816648504\u001b[0m\t \u001b[1m\u001b[92m2.8514336745668483\u001b[0m\n",
            "\u001b[1m\u001b[92m17\u001b[0m\t \u001b[1m\u001b[92m[ 0.22304273 -0.13380043]\u001b[0m\t \u001b[1m\u001b[92m0.08555316844821503\u001b[0m\t \u001b[1m\u001b[92m0.08555316844821503\u001b[0m\t \u001b[1m\u001b[92m2.671517785112667\u001b[0m\t \u001b[1m\u001b[92m2.5234287316345516\u001b[0m\n",
            "\u001b[1m\u001b[92m18\u001b[0m\t \u001b[1m\u001b[92m[ 0.2227902  -0.13337074]\u001b[0m\t \u001b[1m\u001b[92m0.0852109822183548\u001b[0m\t \u001b[1m\u001b[92m0.0852109822183548\u001b[0m\t \u001b[1m\u001b[92m2.872335825520566\u001b[0m\t \u001b[1m\u001b[92m2.9991045803452065\u001b[0m\n",
            "\u001b[1m\u001b[92m19\u001b[0m\t \u001b[1m\u001b[92m[ 0.22260459 -0.13307168]\u001b[0m\t \u001b[1m\u001b[92m0.08496894398955117\u001b[0m\t \u001b[1m\u001b[92m0.08496894398955117\u001b[0m\t \u001b[1m\u001b[92m2.9590573895737817\u001b[0m\t \u001b[1m\u001b[92m3.018412110137867\u001b[0m\n",
            "\u001b[1m\u001b[92m20\u001b[0m\t \u001b[1m\u001b[92m[ 0.22247168 -0.13285341]\u001b[0m\t \u001b[1m\u001b[92m0.08479370357182844\u001b[0m\t \u001b[1m\u001b[92m0.08479370357182844\u001b[0m\t \u001b[1m\u001b[92m2.6409875829370684\u001b[0m\t \u001b[1m\u001b[92m2.6407448238655826\u001b[0m\n"
          ]
        }
      ],
      "source": [
        "### ESTIMATED GP EI GRADIENTS\n",
        "\n",
        "np.random.seed(run_num_4)\n",
        "surrogate_approx_4 = dGaussianProcess(cov_func, optimize=opt)\n",
        "\n",
        "approx_4= GPGO_multi(surrogate_approx_4, Acquisition_grad(util), objfunc, param)\n",
        "approx_4.run(init_evals=n_init, max_iter=iters)\n"
      ]
    },
    {
      "cell_type": "code",
      "execution_count": 17,
      "metadata": {
        "id": "JF_SxcEvGCOl",
        "colab": {
          "base_uri": "https://localhost:8080/"
        },
        "outputId": "38d54691-d3f6-4faf-9a35-24c54a244aa7"
      },
      "outputs": [
        {
          "output_type": "stream",
          "name": "stdout",
          "text": [
            "Evaluation \t Proposed point \t  Current eval. \t  Best eval. \t        Exact EI: StdDev. x \t Approx EI: StdDev. x \n",
            "init\t [-2.84678993  3.79629882]\t 36.927982283829365\t 2.6327313115208373\t    \t    \n",
            "init\t [-3.00319585  4.2865757 ]\t 45.76864772649561\t 2.6327313115208373\t    \t    \n",
            "init\t [-0.11866943  1.14425716]\t 2.6327313115208373\t 2.6327313115208373\t    \t    \n",
            "init\t [2.72289645 0.1886002 ]\t 7.485305147100433\t 2.6327313115208373\t    \t    \n",
            "init\t [-2.08076286 -3.19773462]\t 24.780587476435763\t 2.6327313115208373\t    \t    \n",
            "1  \t [ 4.32895605 -5.09732646]\t 70.70533460957368\t 2.6327313115208373\t 4.382642715147303\t 4.314736178097342\n",
            "2  \t [4.56350686 5.12      ]\t 73.25439483781128\t 2.6327313115208373\t 4.187047443019686\t 3.7471099157330143\n",
            "3  \t [-5.12       -0.04096093]\t 26.2177555951696\t 2.6327313115208373\t 3.3513918681531525\t 3.635159044050866\n",
            "4  \t [-5.12 -5.12]\t 78.64320000000001\t 2.6327313115208373\t 3.3110650148567453\t 3.3474766170251384\n",
            "5  \t [0.69662239 5.12      ]\t 52.914082754035675\t 2.6327313115208373\t 2.9268015386172506\t 3.1608335687263622\n",
            "6  \t [ 1.35741813 -2.67716957]\t 16.177057831303475\t 2.6327313115208373\t 3.215779528592649\t 3.4120370905473405\n",
            "7  \t [ 5.12       -1.37170736]\t 29.977562147107545\t 2.6327313115208373\t 2.555477044082777\t 2.7841970877310556\n",
            "8  \t [5.12       1.79038167]\t 32.625333064255365\t 2.6327313115208373\t 2.978900228008679\t 2.8373035082065203\n",
            "9  \t [-1.93210762  0.0968527 ]\t 3.7518007593904312\t 2.6327313115208373\t 2.6418711839026643\t 2.9347433166010606\n",
            "10 \t [ 0.27718147 -5.12      ]\t 52.50562956578481\t 2.6327313115208373\t 2.7629891384691865\t 2.7769361729626922\n",
            "11 \t [1.76473846 2.23632733]\t 13.11662167552579\t 2.6327313115208373\t 2.774864551043142\t 2.91781753617752\n",
            "\u001b[1m\u001b[92m12\u001b[0m\t \u001b[1m\u001b[92m[-0.04496036 -0.50718358]\u001b[0m\t \u001b[1m\u001b[92m0.5164918047086798\u001b[0m\t \u001b[1m\u001b[92m0.5164918047086798\u001b[0m\t \u001b[1m\u001b[92m2.445809931677237\u001b[0m\t \u001b[1m\u001b[92m2.5699077759812483\u001b[0m\n",
            "\u001b[1m\u001b[92m13\u001b[0m\t \u001b[1m\u001b[92m[-0.03920083 -0.49259992]\u001b[0m\t \u001b[1m\u001b[92m0.48684607708342126\u001b[0m\t \u001b[1m\u001b[92m0.48684607708342126\u001b[0m\t \u001b[1m\u001b[92m2.838137648825177\u001b[0m\t \u001b[1m\u001b[92m3.0811672805138826\u001b[0m\n",
            "\u001b[1m\u001b[92m14\u001b[0m\t \u001b[1m\u001b[92m[-0.03856149 -0.48790568]\u001b[0m\t \u001b[1m\u001b[92m0.4775909000001064\u001b[0m\t \u001b[1m\u001b[92m0.4775909000001064\u001b[0m\t \u001b[1m\u001b[92m2.462179648815588\u001b[0m\t \u001b[1m\u001b[92m2.4697398745257932\u001b[0m\n",
            "\u001b[1m\u001b[92m15\u001b[0m\t \u001b[1m\u001b[92m[-0.03941407 -0.48627892]\u001b[0m\t \u001b[1m\u001b[92m0.474487845336299\u001b[0m\t \u001b[1m\u001b[92m0.474487845336299\u001b[0m\t \u001b[1m\u001b[92m2.4704016209945525\u001b[0m\t \u001b[1m\u001b[92m2.718516526455144\u001b[0m\n",
            "\u001b[1m\u001b[92m16\u001b[0m\t \u001b[1m\u001b[92m[-0.03998465 -0.48535492]\u001b[0m\t \u001b[1m\u001b[92m0.47273756785252286\u001b[0m\t \u001b[1m\u001b[92m0.47273756785252286\u001b[0m\t \u001b[1m\u001b[92m2.9861300418894654\u001b[0m\t \u001b[1m\u001b[92m3.006431846897359\u001b[0m\n",
            "\u001b[1m\u001b[92m17\u001b[0m\t \u001b[1m\u001b[92m[-0.04025078 -0.48469579]\u001b[0m\t \u001b[1m\u001b[92m0.4714801393294664\u001b[0m\t \u001b[1m\u001b[92m0.4714801393294664\u001b[0m\t \u001b[1m\u001b[92m2.6415606061283197\u001b[0m\t \u001b[1m\u001b[92m2.841754195460686\u001b[0m\n",
            "18 \t [-0.15316043 -0.56396776]\t 0.659577375140669\t 0.4714801393294664\t 2.6406647717327183\t 2.9377815612045515\n",
            "\u001b[1m\u001b[92m19\u001b[0m\t \u001b[1m\u001b[92m[ 0.185899   -0.34992672]\u001b[0m\t \u001b[1m\u001b[92m0.2794558617471301\u001b[0m\t \u001b[1m\u001b[92m0.2794558617471301\u001b[0m\t \u001b[1m\u001b[92m2.533644455082276\u001b[0m\t \u001b[1m\u001b[92m2.9843155799981247\u001b[0m\n",
            "\u001b[1m\u001b[92m20\u001b[0m\t \u001b[1m\u001b[92m[ 0.20212387 -0.34219219]\u001b[0m\t \u001b[1m\u001b[92m0.2750450459870175\u001b[0m\t \u001b[1m\u001b[92m0.2750450459870175\u001b[0m\t \u001b[1m\u001b[92m2.7759924439135757\u001b[0m\t \u001b[1m\u001b[92m2.929061381280423\u001b[0m\n"
          ]
        }
      ],
      "source": [
        "### ESTIMATED GP EI GRADIENTS\n",
        "\n",
        "np.random.seed(run_num_5)\n",
        "surrogate_approx_5 = dGaussianProcess(cov_func, optimize=opt)\n",
        "\n",
        "approx_5 = GPGO_multi(surrogate_approx_5, Acquisition_grad(util), objfunc, param)\n",
        "approx_5.run(init_evals=n_init, max_iter=iters)\n"
      ]
    },
    {
      "cell_type": "code",
      "execution_count": 18,
      "metadata": {
        "id": "-kDxZtJsGCR3",
        "colab": {
          "base_uri": "https://localhost:8080/"
        },
        "outputId": "80fc100b-61dc-4bfd-8750-d13b1940dc8e"
      },
      "outputs": [
        {
          "output_type": "stream",
          "name": "stdout",
          "text": [
            "Evaluation \t Proposed point \t  Current eval. \t  Best eval. \t        Exact EI: StdDev. x \t Approx EI: StdDev. x \n",
            "init\t [ 4.02288795 -1.72052679]\t 22.104052359713652\t 1.4757178799086357\t    \t    \n",
            "init\t [ 3.28938622 -4.69302655]\t 54.869058151382724\t 1.4757178799086357\t    \t    \n",
            "init\t [-4.0175956   0.97333314]\t 18.035829177697114\t 1.4757178799086357\t    \t    \n",
            "init\t [ 0.30532979 -0.83141193]\t 1.4757178799086357\t 1.4757178799086357\t    \t    \n",
            "init\t [-1.68542362  1.25459899]\t 5.988690020231891\t 1.4757178799086357\t    \t    \n",
            "1  \t [5.12       4.73870044]\t 71.12496377333353\t 1.4757178799086357\t 3.8416770012664117\t 3.8468393088124397\n",
            "2  \t [-5.12 -5.12]\t 78.64320000000001\t 1.4757178799086357\t 3.6234173764043343\t 3.6907051837708407\n",
            "3  \t [0.10155641 5.12      ]\t 52.43911370455796\t 1.4757178799086357\t 3.4718425305876517\t 3.5646296771964057\n",
            "4  \t [-5.12  5.12]\t 78.64320000000001\t 1.4757178799086357\t 3.2127306729155984\t 4.034748738600675\n",
            "5  \t [-0.93409209 -4.0743267 ]\t 34.072804166050915\t 1.4757178799086357\t 2.856228494193032\t 2.8846975981123744\n",
            "6  \t [2.24616005 1.6559547 ]\t 10.529606896099054\t 1.4757178799086357\t 3.1018283628816334\t 3.1232370832215692\n",
            "7  \t [5.12       1.17826354]\t 28.99100995194725\t 1.4757178799086357\t 3.2956090313072894\t 3.284970457404944\n",
            "8  \t [-3.51233123 -1.9319216 ]\t 19.801112813344346\t 1.4757178799086357\t 3.03218653659227\t 3.100232638197869\n",
            "9  \t [ 1.16998367 -1.7648853 ]\t 7.598502053370327\t 1.4757178799086357\t 2.688604491706606\t 2.7606090942654316\n",
            "10 \t [-0.82055281 -0.64746302]\t 1.5117236261769071\t 1.4757178799086357\t 2.9669088646281816\t 2.9566174688200446\n",
            "11 \t [-2.39640999  3.36945095]\t 28.449180230906652\t 1.4757178799086357\t 3.276709050204741\t 3.3088850106552967\n",
            "\u001b[1m\u001b[92m12\u001b[0m\t \u001b[1m\u001b[92m[0.14673923 0.47226545]\u001b[0m\t \u001b[1m\u001b[92m0.46760170482637586\u001b[0m\t \u001b[1m\u001b[92m0.46760170482637586\u001b[0m\t \u001b[1m\u001b[92m2.851339702323436\u001b[0m\t \u001b[1m\u001b[92m2.559875637478491\u001b[0m\n",
            "\u001b[1m\u001b[92m13\u001b[0m\t \u001b[1m\u001b[92m[0.14032022 0.41992171]\u001b[0m\t \u001b[1m\u001b[92m0.37235824445593413\u001b[0m\t \u001b[1m\u001b[92m0.37235824445593413\u001b[0m\t \u001b[1m\u001b[92m2.5721587148068346\u001b[0m\t \u001b[1m\u001b[92m2.4642606217259706\u001b[0m\n",
            "\u001b[1m\u001b[92m14\u001b[0m\t \u001b[1m\u001b[92m[0.13747967 0.40364695]\u001b[0m\t \u001b[1m\u001b[92m0.3447623756502736\u001b[0m\t \u001b[1m\u001b[92m0.3447623756502736\u001b[0m\t \u001b[1m\u001b[92m2.8901195651328133\u001b[0m\t \u001b[1m\u001b[92m2.8699549158614293\u001b[0m\n",
            "\u001b[1m\u001b[92m15\u001b[0m\t \u001b[1m\u001b[92m[0.13601861 0.39631304]\u001b[0m\t \u001b[1m\u001b[92m0.3326291097961403\u001b[0m\t \u001b[1m\u001b[92m0.3326291097961403\u001b[0m\t \u001b[1m\u001b[92m2.9815926852608565\u001b[0m\t \u001b[1m\u001b[92m2.7956783101367138\u001b[0m\n",
            "\u001b[1m\u001b[92m16\u001b[0m\t \u001b[1m\u001b[92m[0.1351675  0.39234409]\u001b[0m\t \u001b[1m\u001b[92m0.3261380266396178\u001b[0m\t \u001b[1m\u001b[92m0.3261380266396178\u001b[0m\t \u001b[1m\u001b[92m2.981185130450867\u001b[0m\t \u001b[1m\u001b[92m3.1042617019457617\u001b[0m\n",
            "\u001b[1m\u001b[92m17\u001b[0m\t \u001b[1m\u001b[92m[0.13462328 0.38993887]\u001b[0m\t \u001b[1m\u001b[92m0.3222280668856775\u001b[0m\t \u001b[1m\u001b[92m0.3222280668856775\u001b[0m\t \u001b[1m\u001b[92m3.306108698206723\u001b[0m\t \u001b[1m\u001b[92m3.3622499913558785\u001b[0m\n",
            "\u001b[1m\u001b[92m18\u001b[0m\t \u001b[1m\u001b[92m[0.13425435 0.38836329]\u001b[0m\t \u001b[1m\u001b[92m0.31967631576730543\u001b[0m\t \u001b[1m\u001b[92m0.31967631576730543\u001b[0m\t \u001b[1m\u001b[92m3.088353836893573\u001b[0m\t \u001b[1m\u001b[92m2.9087227173779464\u001b[0m\n",
            "\u001b[1m\u001b[92m19\u001b[0m\t \u001b[1m\u001b[92m[0.13399026 0.38727034]\u001b[0m\t \u001b[1m\u001b[92m0.3179100188885832\u001b[0m\t \u001b[1m\u001b[92m0.3179100188885832\u001b[0m\t \u001b[1m\u001b[92m3.118421897069701\u001b[0m\t \u001b[1m\u001b[92m3.008005291413454\u001b[0m\n",
            "\u001b[1m\u001b[92m20\u001b[0m\t \u001b[1m\u001b[92m[0.13379477 0.38647997]\u001b[0m\t \u001b[1m\u001b[92m0.3166345698750527\u001b[0m\t \u001b[1m\u001b[92m0.3166345698750527\u001b[0m\t \u001b[1m\u001b[92m2.9778647550320194\u001b[0m\t \u001b[1m\u001b[92m3.079572080110513\u001b[0m\n"
          ]
        }
      ],
      "source": [
        "### ESTIMATED GP EI GRADIENTS\n",
        "\n",
        "np.random.seed(run_num_6)\n",
        "surrogate_approx_6 = dGaussianProcess(cov_func, optimize=opt)\n",
        "\n",
        "approx_6 = GPGO_multi(surrogate_approx_6, Acquisition_grad(util), objfunc, param)\n",
        "approx_6.run(init_evals=n_init, max_iter=iters)\n"
      ]
    },
    {
      "cell_type": "code",
      "execution_count": 19,
      "metadata": {
        "id": "fKB8MCD_GCVI",
        "colab": {
          "base_uri": "https://localhost:8080/"
        },
        "outputId": "e4ce4b73-ff66-49e4-acec-fb1769b90d00"
      },
      "outputs": [
        {
          "output_type": "stream",
          "name": "stdout",
          "text": [
            "Evaluation \t Proposed point \t  Current eval. \t  Best eval. \t        Exact EI: StdDev. x \t Approx EI: StdDev. x \n",
            "init\t [-4.33860312  2.86636843]\t 35.25561298730891\t 5.622520458601941\t    \t    \n",
            "init\t [-0.63068947  2.28828342]\t 10.870251237170722\t 5.622520458601941\t    \t    \n",
            "init\t [4.8946126  0.39419771]\t 24.268016205804518\t 5.622520458601941\t    \t    \n",
            "init\t [ 0.01147355 -4.38219639]\t 38.407422120416236\t 5.622520458601941\t    \t    \n",
            "init\t [-2.37118484e+00 -1.20319155e-03]\t 5.622520458601941\t 5.622520458601941\t    \t    \n",
            "1  \t [-5.12 -5.12]\t 78.64320000000001\t 5.622520458601941\t 2.8691555916355957\t 3.3352192661956352\n",
            "2  \t [ 5.12 -5.12]\t 78.64320000000001\t 5.622520458601941\t 3.815054832944287\t 3.889017718257724\n",
            "3  \t [3.47394726 5.12      ]\t 64.49710954180716\t 5.622520458601941\t 3.899575588863101\t 3.7584304397945174\n",
            "4  \t [-4.02558214 -1.33646422]\t 19.777584798449002\t 5.622520458601941\t 2.8896328280322723\t 2.9112198792603814\n",
            "\u001b[1m\u001b[92m5\u001b[0m\t \u001b[1m\u001b[92m[ 1.31199036 -0.73518144]\u001b[0m\t \u001b[1m\u001b[92m2.8023022199910184\u001b[0m\t \u001b[1m\u001b[92m2.8023022199910184\u001b[0m\t \u001b[1m\u001b[92m3.1544055411032064\u001b[0m\t \u001b[1m\u001b[92m3.1753845501738547\u001b[0m\n",
            "6  \t [-1.42325187  5.12      ]\t 54.45444589635937\t 2.8023022199910184\t 3.179186694557819\t 3.523508169119339\n",
            "7  \t [ 2.95822458 -2.3380303 ]\t 19.68386398872228\t 2.8023022199910184\t 2.485991458461762\t 2.417206966140202\n",
            "8  \t [2.10135418 1.78330786]\t 10.776063207909393\t 2.8023022199910184\t 2.9003198676006225\t 3.1269505331331153\n",
            "9  \t [-0.5045579  -1.20795092]\t 3.172869536685039\t 2.8023022199910184\t 3.225454848181254\t 3.208356404591425\n",
            "10 \t [-5.12  5.12]\t 78.64320000000001\t 2.8023022199910184\t 3.0872035247404974\t 3.419482609750341\n",
            "11 \t [-2.46682958 -3.28304316]\t 27.641992916466915\t 2.8023022199910184\t 2.9999835762946927\t 2.9952290378424484\n",
            "\u001b[1m\u001b[92m12\u001b[0m\t \u001b[1m\u001b[92m[0.13728358 0.06248369]\u001b[0m\t \u001b[1m\u001b[92m0.026655204632003007\u001b[0m\t \u001b[1m\u001b[92m0.026655204632003007\u001b[0m\t \u001b[1m\u001b[92m3.1591567069393274\u001b[0m\t \u001b[1m\u001b[92m3.009146489120334\u001b[0m\n",
            "13 \t [0.13552627 0.06571879]\t 0.027005288108979696\t 0.026655204632003007\t 3.0910402274491364\t 3.129722484435022\n",
            "14 \t [0.13458454 0.06746745]\t 0.027216712689162613\t 0.026655204632003007\t 2.710581641881915\t 2.8336483407756603\n",
            "15 \t [0.1339962  0.06855817]\t 0.027355426015309485\t 0.026655204632003007\t 3.233490395442703\t 3.1415757311473467\n",
            "16 \t [0.13358977 0.06930315]\t 0.027452079373987658\t 0.026655204632003007\t 2.441824259652017\t 2.343424390366576\n",
            "17 \t [0.13329193 0.06984613]\t 0.02752370260976522\t 0.026655204632003007\t 2.5275407814075757\t 2.727306397528086\n",
            "18 \t [0.1330624  0.07026023]\t 0.027578600309272106\t 0.026655204632003007\t 3.306573561401994\t 3.29784393038058\n",
            "19 \t [0.13287996 0.07058662]\t 0.02762202680806683\t 0.026655204632003007\t 3.0391423462229556\t 3.0680932613324896\n",
            "20 \t [0.13273086 0.07085129]\t 0.02765729389919963\t 0.026655204632003007\t 2.916567857705709\t 2.8075713700373295\n"
          ]
        }
      ],
      "source": [
        "### ESTIMATED GP EI GRADIENTS\n",
        "\n",
        "np.random.seed(run_num_7)\n",
        "surrogate_approx_7 = dGaussianProcess(cov_func, optimize=opt)\n",
        "\n",
        "approx_7 = GPGO_multi(surrogate_approx_7, Acquisition_grad(util), objfunc, param)\n",
        "approx_7.run(init_evals=n_init, max_iter=iters)\n"
      ]
    },
    {
      "cell_type": "code",
      "execution_count": 20,
      "metadata": {
        "id": "4unvifF-GCXp",
        "colab": {
          "base_uri": "https://localhost:8080/"
        },
        "outputId": "67d7416e-7d80-4b0c-86e3-a5189134bc36"
      },
      "outputs": [
        {
          "output_type": "stream",
          "name": "stdout",
          "text": [
            "Evaluation \t Proposed point \t  Current eval. \t  Best eval. \t        Exact EI: StdDev. x \t Approx EI: StdDev. x \n",
            "init\t [3.82391708 4.79785639]\t 60.661193695854244\t 0.1518306274298758\t    \t    \n",
            "init\t [3.78055209 0.31596228]\t 14.492238445440277\t 0.1518306274298758\t    \t    \n",
            "init\t [-2.73686192 -5.00327624]\t 57.555959528959804\t 0.1518306274298758\t    \t    \n",
            "init\t [-0.7119993  -0.99992207]\t 2.506631309190485\t 0.1518306274298758\t    \t    \n",
            "init\t [ 0.23218863 -0.22126801]\t 0.1518306274298758\t 0.1518306274298758\t    \t    \n",
            "1  \t [0.18492214 1.85385962]\t 6.907787161554434\t 0.1518306274298758\t 3.008513641429898\t 3.7504054262196407\n",
            "2  \t [-5.03492225  2.95509263]\t 42.81558690689544\t 0.1518306274298758\t 3.049057538826788\t 3.3840382141847907\n",
            "3  \t [ 3.72193139 -5.12      ]\t 66.2815732799199\t 0.1518306274298758\t 2.6490817025598274\t 3.251248839268278\n",
            "4  \t [-5.12    -1.88931]\t 33.35338454257045\t 0.1518306274298758\t 3.234748889703276\t 3.455611354198131\n",
            "5  \t [-1.58111052  5.12      ]\t 54.92871048045947\t 0.1518306274298758\t 2.9952369378317756\t 2.999845941022063\n",
            "6  \t [ 1.43500473 -2.108452  ]\t 10.950378228637433\t 0.1518306274298758\t 2.885091543807744\t 2.9444124577534985\n",
            "7  \t [-2.52730376  0.55571633]\t 7.004905574169604\t 0.1518306274298758\t 2.9519460577602135\t 3.061556647243956\n",
            "8  \t [ 5.12       -2.09537743]\t 34.99561311732681\t 0.1518306274298758\t 3.0489121451931664\t 3.25464189211212\n",
            "9  \t [ 0.45617792 -5.12      ]\t 52.636898299046265\t 0.1518306274298758\t 2.7730940676750566\t 2.7531204242919394\n",
            "10 \t [-1.89815684 -1.97644657]\t 11.415681508982228\t 0.1518306274298758\t 3.011802517504046\t 2.9920087150856136\n",
            "11 \t [5.12       2.13721175]\t 35.34974810636621\t 0.1518306274298758\t 2.777718677207501\t 2.712586925250591\n",
            "12 \t [0.79077627 0.03106158]\t 0.6272567499373537\t 0.1518306274298758\t 2.5877156808939814\t 2.788471654180235\n",
            "\u001b[1m\u001b[92m13\u001b[0m\t \u001b[1m\u001b[92m[ 0.18724383 -0.12468984]\u001b[0m\t \u001b[1m\u001b[92m0.06615536544853629\u001b[0m\t \u001b[1m\u001b[92m0.06615536544853629\u001b[0m\t \u001b[1m\u001b[92m2.6383138832770103\u001b[0m\t \u001b[1m\u001b[92m2.711940703362918\u001b[0m\n",
            "\u001b[1m\u001b[92m14\u001b[0m\t \u001b[1m\u001b[92m[ 0.18253152 -0.12438605]\u001b[0m\t \u001b[1m\u001b[92m0.06426153329299086\u001b[0m\t \u001b[1m\u001b[92m0.06426153329299086\u001b[0m\t \u001b[1m\u001b[92m3.0991956507228577\u001b[0m\t \u001b[1m\u001b[92m3.146458037224481\u001b[0m\n",
            "\u001b[1m\u001b[92m15\u001b[0m\t \u001b[1m\u001b[92m[ 0.17933881 -0.12415463]\u001b[0m\t \u001b[1m\u001b[92m0.06299115434697412\u001b[0m\t \u001b[1m\u001b[92m0.06299115434697412\u001b[0m\t \u001b[1m\u001b[92m2.6452776573296037\u001b[0m\t \u001b[1m\u001b[92m2.627543258464195\u001b[0m\n",
            "\u001b[1m\u001b[92m16\u001b[0m\t \u001b[1m\u001b[92m[ 0.17701884 -0.12397594]\u001b[0m\t \u001b[1m\u001b[92m0.0620757365261522\u001b[0m\t \u001b[1m\u001b[92m0.0620757365261522\u001b[0m\t \u001b[1m\u001b[92m2.5369464869330725\u001b[0m\t \u001b[1m\u001b[92m2.2574944450236845\u001b[0m\n",
            "\u001b[1m\u001b[92m17\u001b[0m\t \u001b[1m\u001b[92m[ 0.17524497 -0.1238337 ]\u001b[0m\t \u001b[1m\u001b[92m0.0613803718437744\u001b[0m\t \u001b[1m\u001b[92m0.0613803718437744\u001b[0m\t \u001b[1m\u001b[92m3.0366969775916073\u001b[0m\t \u001b[1m\u001b[92m3.3613734471820105\u001b[0m\n",
            "\u001b[1m\u001b[92m18\u001b[0m\t \u001b[1m\u001b[92m[ 0.17383746 -0.12371819]\u001b[0m\t \u001b[1m\u001b[92m0.06083184114312753\u001b[0m\t \u001b[1m\u001b[92m0.06083184114312753\u001b[0m\t \u001b[1m\u001b[92m3.0867205618241877\u001b[0m\t \u001b[1m\u001b[92m3.12830780790354\u001b[0m\n",
            "\u001b[1m\u001b[92m19\u001b[0m\t \u001b[1m\u001b[92m[ 0.17268848 -0.1236227 ]\u001b[0m\t \u001b[1m\u001b[92m0.060386456984022716\u001b[0m\t \u001b[1m\u001b[92m0.060386456984022716\u001b[0m\t \u001b[1m\u001b[92m2.3674561811579493\u001b[0m\t \u001b[1m\u001b[92m1.9412498004367025\u001b[0m\n",
            "\u001b[1m\u001b[92m20\u001b[0m\t \u001b[1m\u001b[92m[ 0.17173018 -0.12354166]\u001b[0m\t \u001b[1m\u001b[92m0.06001633649000121\u001b[0m\t \u001b[1m\u001b[92m0.06001633649000121\u001b[0m\t \u001b[1m\u001b[92m2.5885132754468474\u001b[0m\t \u001b[1m\u001b[92m2.870640507196171\u001b[0m\n"
          ]
        }
      ],
      "source": [
        "### ESTIMATED GP EI GRADIENTS\n",
        "\n",
        "np.random.seed(run_num_8)\n",
        "surrogate_approx_8 = dGaussianProcess(cov_func, optimize=opt)\n",
        "\n",
        "approx_8 = GPGO_multi(surrogate_approx_8, Acquisition_grad(util), objfunc, param)\n",
        "approx_8.run(init_evals=n_init, max_iter=iters)\n"
      ]
    },
    {
      "cell_type": "code",
      "execution_count": 21,
      "metadata": {
        "id": "85OIXcg7GCaJ",
        "colab": {
          "base_uri": "https://localhost:8080/"
        },
        "outputId": "13b2e55f-9dc1-4d5f-bd6e-0a1eb57ccd66"
      },
      "outputs": [
        {
          "output_type": "stream",
          "name": "stdout",
          "text": [
            "Evaluation \t Proposed point \t  Current eval. \t  Best eval. \t        Exact EI: StdDev. x \t Approx EI: StdDev. x \n",
            "init\t [-5.01376866  0.01919582]\t 25.138613177506063\t 14.00341364504739\t    \t    \n",
            "init\t [-0.04328148 -3.74958562]\t 28.12065798163534\t 14.00341364504739\t    \t    \n",
            "init\t [-3.66478248 -2.88195916]\t 30.04200788009657\t 14.00341364504739\t    \t    \n",
            "init\t [-0.83447623 -2.57944404]\t 14.00341364504739\t 14.00341364504739\t    \t    \n",
            "init\t [-4.25922917 -1.58209393]\t 23.14707552082245\t 14.00341364504739\t    \t    \n",
            "1  \t [3.69491889 4.82146316]\t 60.145439711826235\t 14.00341364504739\t 2.9505328174728866\t 3.0903516416444137\n",
            "2  \t [-2.44310729  5.12      ]\t 58.397573235935326\t 14.00341364504739\t 3.125045339429184\t 3.890513451691863\n",
            "3  \t [ 5.12     -0.654027]\t 27.06990263406569\t 14.00341364504739\t 2.621609807265278\t 2.9923860078890945\n",
            "4  \t [ 4.80877105 -5.12      ]\t 75.55307900816007\t 14.00341364504739\t 2.911864761088114\t 3.2663350968196316\n",
            "\u001b[1m\u001b[92m5\u001b[0m\t \u001b[1m\u001b[92m[0.53593664 1.37259721]\u001b[0m\t \u001b[1m\u001b[92m4.055274266691276\u001b[0m\t \u001b[1m\u001b[92m4.055274266691276\u001b[0m\t \u001b[1m\u001b[92m2.9681755758700827\u001b[0m\t \u001b[1m\u001b[92m2.760577358245194\u001b[0m\n",
            "6  \t [-2.0466617   1.41880294]\t 8.214827652633254\t 4.055274266691276\t 2.7712514143172093\t 2.542424242851876\n",
            "7  \t [ 1.88339908 -0.91337439]\t 5.21569766570851\t 4.055274266691276\t 2.682423978659351\t 3.060008115324892\n",
            "8  \t [-5.12        3.20163797]\t 46.715371438247416\t 4.055274266691276\t 2.7107164736299447\t 2.595951061404042\n",
            "9  \t [0.56610999 3.73564271]\t 28.230533451758664\t 4.055274266691276\t 3.0214691162678533\t 3.1862607754131305\n",
            "10 \t [3.05320899 1.5343106 ]\t 14.030303141210496\t 4.055274266691276\t 2.818838626397363\t 2.4967441050334593\n",
            "11 \t [-5.12 -5.12]\t 78.64320000000001\t 4.055274266691276\t 2.888085195319604\t 3.1588141647850962\n",
            "12 \t [ 2.74505742 -2.73830106]\t 22.531925610746747\t 4.055274266691276\t 2.8419345694106823\t 2.94129468350478\n",
            "\u001b[1m\u001b[92m13\u001b[0m\t \u001b[1m\u001b[92m[-0.33994799 -0.26644045]\u001b[0m\t \u001b[1m\u001b[92m0.25754566857792605\u001b[0m\t \u001b[1m\u001b[92m0.25754566857792605\u001b[0m\t \u001b[1m\u001b[92m2.0730960093859268\u001b[0m\t \u001b[1m\u001b[92m2.042536402720257\u001b[0m\n",
            "\u001b[1m\u001b[92m14\u001b[0m\t \u001b[1m\u001b[92m[-0.33381356 -0.2641475 ]\u001b[0m\t \u001b[1m\u001b[92m0.2509792983229841\u001b[0m\t \u001b[1m\u001b[92m0.2509792983229841\u001b[0m\t \u001b[1m\u001b[92m2.786677561740725\u001b[0m\t \u001b[1m\u001b[92m2.624819170207962\u001b[0m\n",
            "\u001b[1m\u001b[92m15\u001b[0m\t \u001b[1m\u001b[92m[-0.33176614 -0.26326208]\u001b[0m\t \u001b[1m\u001b[92m0.24868261749882836\u001b[0m\t \u001b[1m\u001b[92m0.24868261749882836\u001b[0m\t \u001b[1m\u001b[92m2.7185149693743105\u001b[0m\t \u001b[1m\u001b[92m2.738863478304345\u001b[0m\n",
            "\u001b[1m\u001b[92m16\u001b[0m\t \u001b[1m\u001b[92m[-0.33092573 -0.26281484]\u001b[0m\t \u001b[1m\u001b[92m0.2476551154680126\u001b[0m\t \u001b[1m\u001b[92m0.2476551154680126\u001b[0m\t \u001b[1m\u001b[92m2.9457378409294392\u001b[0m\t \u001b[1m\u001b[92m3.098784030969375\u001b[0m\n",
            "\u001b[1m\u001b[92m17\u001b[0m\t \u001b[1m\u001b[92m[-0.33053323 -0.26255218]\u001b[0m\t \u001b[1m\u001b[92m0.24711950966776786\u001b[0m\t \u001b[1m\u001b[92m0.24711950966776786\u001b[0m\t \u001b[1m\u001b[92m2.7187434641422956\u001b[0m\t \u001b[1m\u001b[92m2.5149677587248385\u001b[0m\n",
            "\u001b[1m\u001b[92m18\u001b[0m\t \u001b[1m\u001b[92m[-0.33032967 -0.26238219]\u001b[0m\t \u001b[1m\u001b[92m0.24680651321506247\u001b[0m\t \u001b[1m\u001b[92m0.24680651321506247\u001b[0m\t \u001b[1m\u001b[92m2.6065108322246378\u001b[0m\t \u001b[1m\u001b[92m2.4827102267960717\u001b[0m\n",
            "\u001b[1m\u001b[92m19\u001b[0m\t \u001b[1m\u001b[92m[-0.33021871 -0.26226399]\u001b[0m\t \u001b[1m\u001b[92m0.24660920015681248\u001b[0m\t \u001b[1m\u001b[92m0.24660920015681248\u001b[0m\t \u001b[1m\u001b[92m2.9082617716390997\u001b[0m\t \u001b[1m\u001b[92m2.92578716422994\u001b[0m\n",
            "\u001b[1m\u001b[92m20\u001b[0m\t \u001b[1m\u001b[92m[-0.33015373 -0.26217825]\u001b[0m\t \u001b[1m\u001b[92m0.24647635405603713\u001b[0m\t \u001b[1m\u001b[92m0.24647635405603713\u001b[0m\t \u001b[1m\u001b[92m3.116062514711048\u001b[0m\t \u001b[1m\u001b[92m3.0046309710876606\u001b[0m\n"
          ]
        }
      ],
      "source": [
        "### ESTIMATED GP EI GRADIENTS\n",
        "\n",
        "np.random.seed(run_num_9)\n",
        "surrogate_approx_9 = dGaussianProcess(cov_func, optimize=opt)\n",
        "\n",
        "approx_9 = GPGO_multi(surrogate_approx_9, Acquisition_grad(util), objfunc, param)\n",
        "approx_9.run(init_evals=n_init, max_iter=iters)\n"
      ]
    },
    {
      "cell_type": "code",
      "execution_count": 22,
      "metadata": {
        "id": "QQBR-qJPGCcp",
        "colab": {
          "base_uri": "https://localhost:8080/"
        },
        "outputId": "4483c3db-8e16-4c5b-b4fb-12a877ac1b4a"
      },
      "outputs": [
        {
          "output_type": "stream",
          "name": "stdout",
          "text": [
            "Evaluation \t Proposed point \t  Current eval. \t  Best eval. \t        Exact EI: StdDev. x \t Approx EI: StdDev. x \n",
            "init\t [ 2.77832339 -4.90750004]\t 55.886194099964676\t 14.855028828430257\t    \t    \n",
            "init\t [1.36855793 2.54775176]\t 14.855028828430257\t 14.855028828430257\t    \t    \n",
            "init\t [-0.01528819 -2.81808235]\t 15.883409988980564\t 14.855028828430257\t    \t    \n",
            "init\t [-3.09183626  2.66783449]\t 23.79413325191142\t 14.855028828430257\t    \t    \n",
            "init\t [-3.38830503 -4.2154003 ]\t 47.019810427389544\t 14.855028828430257\t    \t    \n",
            "1  \t [ 5.12       -0.36706426]\t 26.4838723459007\t 14.855028828430257\t 3.47443556369513\t 3.6228821944794967\n",
            "2  \t [5.12 5.12]\t 78.64320000000001\t 14.855028828430257\t 3.1452746076080755\t 3.4020113739084263\n",
            "3  \t [-5.12       -0.57727107]\t 26.880883786381823\t 14.855028828430257\t 2.8110938752760846\t 3.3389060632788157\n",
            "4  \t [-0.64479039  5.12      ]\t 52.84455465011505\t 14.855028828430257\t 3.3339289323666303\t 3.5580538322219133\n",
            "5  \t [-5.12  5.12]\t 78.64320000000001\t 14.855028828430257\t 3.0910075312927723\t 2.9903200481884396\n",
            "\u001b[1m\u001b[92m6\u001b[0m\t \u001b[1m\u001b[92m[-1.00581798  0.12344127]\u001b[0m\t \u001b[1m\u001b[92m1.0421453098774531\u001b[0m\t \u001b[1m\u001b[92m1.0421453098774531\u001b[0m\t \u001b[1m\u001b[92m3.096944536171782\u001b[0m\t \u001b[1m\u001b[92m2.774616978664718\u001b[0m\n",
            "7  \t [ 1.86677711 -0.48420859]\t 3.9537726950888548\t 1.0421453098774531\t 2.957338032205245\t 3.178311013146152\n",
            "8  \t [-2.10271185 -0.73966682]\t 5.515611124547087\t 1.0421453098774531\t 2.9168763566624754\t 2.8724939312076665\n",
            "9  \t [ 5.12       -3.18546078]\t 46.50872072983342\t 1.0421453098774531\t 3.1868120235524686\t 3.2214854838630926\n",
            "10 \t [-0.40705569  0.68111316]\t 1.093524604984986\t 1.0421453098774531\t 3.059364873325094\t 3.0921177332119156\n",
            "11 \t [3.96833743 2.12081825]\t 24.743442038627833\t 1.0421453098774531\t 2.6031126988149524\t 2.6073692781651543\n",
            "12 \t [-0.48365698 -5.12      ]\t 52.66272407044726\t 1.0421453098774531\t 3.0504735352498655\t 3.2322364364609864\n",
            "\u001b[1m\u001b[92m13\u001b[0m\t \u001b[1m\u001b[92m[-0.01006499  0.06134371]\u001b[0m\t \u001b[1m\u001b[92m0.007627405343933063\u001b[0m\t \u001b[1m\u001b[92m0.007627405343933063\u001b[0m\t \u001b[1m\u001b[92m2.8469763379938735\u001b[0m\t \u001b[1m\u001b[92m2.9215019542849023\u001b[0m\n",
            "\u001b[1m\u001b[92m14\u001b[0m\t \u001b[1m\u001b[92m[-0.00684857  0.05792308]\u001b[0m\t \u001b[1m\u001b[92m0.006757068290287939\u001b[0m\t \u001b[1m\u001b[92m0.006757068290287939\u001b[0m\t \u001b[1m\u001b[92m2.840717617808531\u001b[0m\t \u001b[1m\u001b[92m2.8493716748504907\u001b[0m\n",
            "\u001b[1m\u001b[92m15\u001b[0m\t \u001b[1m\u001b[92m[-0.00459297  0.0555314 ]\u001b[0m\t \u001b[1m\u001b[92m0.006188568225027926\u001b[0m\t \u001b[1m\u001b[92m0.006188568225027926\u001b[0m\t \u001b[1m\u001b[92m3.1436216827702883\u001b[0m\t \u001b[1m\u001b[92m2.901356370244724\u001b[0m\n",
            "\u001b[1m\u001b[92m16\u001b[0m\t \u001b[1m\u001b[92m[-0.00301293  0.05385546]\u001b[0m\t \u001b[1m\u001b[92m0.005809899879452584\u001b[0m\t \u001b[1m\u001b[92m0.005809899879452584\u001b[0m\t \u001b[1m\u001b[92m3.083091384362933\u001b[0m\t \u001b[1m\u001b[92m2.992430494019166\u001b[0m\n",
            "\u001b[1m\u001b[92m17\u001b[0m\t \u001b[1m\u001b[92m[-0.00185731  0.05262842]\u001b[0m\t \u001b[1m\u001b[92m0.0055429514437169945\u001b[0m\t \u001b[1m\u001b[92m0.0055429514437169945\u001b[0m\t \u001b[1m\u001b[92m2.7496191734777686\u001b[0m\t \u001b[1m\u001b[92m2.7892831741872053\u001b[0m\n",
            "\u001b[1m\u001b[92m18\u001b[0m\t \u001b[1m\u001b[92m[-0.00097551  0.05168935]\u001b[0m\t \u001b[1m\u001b[92m0.005344529977616878\u001b[0m\t \u001b[1m\u001b[92m0.005344529977616878\u001b[0m\t \u001b[1m\u001b[92m2.724672137049009\u001b[0m\t \u001b[1m\u001b[92m2.6307290675609787\u001b[0m\n",
            "\u001b[1m\u001b[92m19\u001b[0m\t \u001b[1m\u001b[92m[-0.00028381  0.0509495 ]\u001b[0m\t \u001b[1m\u001b[92m0.005191783594853888\u001b[0m\t \u001b[1m\u001b[92m0.005191783594853888\u001b[0m\t \u001b[1m\u001b[92m2.57864415761335\u001b[0m\t \u001b[1m\u001b[92m2.4657951949072228\u001b[0m\n",
            "\u001b[1m\u001b[92m20\u001b[0m\t \u001b[1m\u001b[92m[0.00027623 0.05035048]\u001b[0m\t \u001b[1m\u001b[92m0.005070418693954018\u001b[0m\t \u001b[1m\u001b[92m0.005070418693954018\u001b[0m\t \u001b[1m\u001b[92m3.2921559885363\u001b[0m\t \u001b[1m\u001b[92m3.137250870380178\u001b[0m\n"
          ]
        }
      ],
      "source": [
        "### ESTIMATED GP EI GRADIENTS\n",
        "\n",
        "np.random.seed(run_num_10)\n",
        "surrogate_approx_10 = dGaussianProcess(cov_func, optimize=opt)\n",
        "\n",
        "approx_10 = GPGO_multi(surrogate_approx_10, Acquisition_grad(util), objfunc, param)\n",
        "approx_10.run(init_evals=n_init, max_iter=iters)\n"
      ]
    },
    {
      "cell_type": "code",
      "execution_count": 23,
      "metadata": {
        "id": "JS8ejeQ2GCfi",
        "colab": {
          "base_uri": "https://localhost:8080/"
        },
        "outputId": "06c55a1e-c0c3-4c6d-f7b8-3331fbf8ff21"
      },
      "outputs": [
        {
          "output_type": "stream",
          "name": "stdout",
          "text": [
            "Evaluation \t Proposed point \t  Current eval. \t  Best eval. \t        Exact EI: StdDev. x \t Approx EI: StdDev. x \n",
            "init\t [-3.27403839 -4.92057353]\t 59.14341502486697\t 0.7122141741228657\t    \t    \n",
            "init\t [-0.37664229  2.30332343]\t 10.752457105378047\t 0.7122141741228657\t    \t    \n",
            "init\t [-0.81711509 -0.14922651]\t 0.7122141741228657\t 0.7122141741228657\t    \t    \n",
            "init\t [-4.98912446 -0.12931474]\t 24.924807467825406\t 0.7122141741228657\t    \t    \n",
            "init\t [4.52410012 3.59214172]\t 46.27444610017016\t 0.7122141741228657\t    \t    \n",
            "1  \t [ 3.03550212 -4.46785095]\t 49.13765732819627\t 0.7122141741228657\t 2.7853058687911303\t 3.8323100482295045\n",
            "2  \t [-5.12  5.12]\t 78.64320000000001\t 0.7122141741228657\t 2.3373856767179495\t 3.2393593486887156\n",
            "3  \t [ 5.12      -0.6936942]\t 27.176823286068128\t 0.7122141741228657\t 3.0636267447030368\t 3.2935594532458428\n",
            "4  \t [-0.2024659  -2.29281731]\t 10.555014857282323\t 0.7122141741228657\t 2.41785473753936\t 2.398498126047603\n",
            "5  \t [1.01630178 5.12      ]\t 53.46166931663334\t 0.7122141741228657\t 2.8011482100096643\t 2.3614775163658046\n",
            "6  \t [1.8867985  0.22946721]\t 3.665318961161706\t 0.7122141741228657\t 2.761085935664952\t 2.707515816057984\n",
            "7  \t [-3.06708537  2.29601474]\t 19.95038002714978\t 0.7122141741228657\t 3.1608300802563196\t 3.1492313503127\n",
            "8  \t [-0.04763167 -5.12      ]\t 52.43106877634905\t 0.7122141741228657\t 2.752509500673738\t 2.8015231631834325\n",
            "9  \t [-2.10563664 -0.69766729]\t 5.407184944860271\t 0.7122141741228657\t 2.985359056391999\t 3.1219069603974807\n",
            "10 \t [-1.96801966  5.12      ]\t 56.301901365041935\t 0.7122141741228657\t 2.7367430935522785\t 3.095642405992317\n",
            "11 \t [ 2.22432782 -1.50416191]\t 9.472640322806688\t 0.7122141741228657\t 3.005249396335039\t 3.204048842749472\n",
            "12 \t [-5.12       -2.73649997]\t 41.191264135781694\t 0.7122141741228657\t 2.901023873956086\t 3.038865978022112\n",
            "13 \t [2.13399017 1.78446999]\t 10.922580344031807\t 0.7122141741228657\t 2.902394363314883\t 2.6518744439044672\n",
            "\u001b[1m\u001b[92m14\u001b[0m\t \u001b[1m\u001b[92m[-0.04828781  0.04641434]\u001b[0m\t \u001b[1m\u001b[92m0.006640293848127615\u001b[0m\t \u001b[1m\u001b[92m0.006640293848127615\u001b[0m\t \u001b[1m\u001b[92m2.9719830463391212\u001b[0m\t \u001b[1m\u001b[92m3.03750291080203\u001b[0m\n",
            "15 \t [-0.05005137  0.04634267]\t 0.006800426363960884\t 0.006640293848127615\t 2.91057119649666\t 3.1993635375314353\n",
            "16 \t [-0.05040137  0.04632744]\t 0.006832762294272156\t 0.006640293848127615\t 3.160829651427093\t 3.189533917537926\n",
            "17 \t [-0.05044908  0.046326  ]\t 0.006837305859565505\t 0.006640293848127615\t 2.3023147523885235\t 2.6968052136092675\n",
            "18 \t [-0.05041368  0.04632756]\t 0.006834024562439648\t 0.006640293848127615\t 2.869859752958426\t 2.7623663878030884\n",
            "19 \t [-0.05035604  0.0463308 ]\t 0.0068288166562905095\t 0.006640293848127615\t 2.6919300072958365\t 2.7918543687409603\n",
            "20 \t [-0.05029422  0.04633268]\t 0.00682294421146904\t 0.006640293848127615\t 3.009212029477015\t 2.7654580968768\n"
          ]
        }
      ],
      "source": [
        "### ESTIMATED GP EI GRADIENTS\n",
        "\n",
        "np.random.seed(run_num_11)\n",
        "surrogate_approx_11 = dGaussianProcess(cov_func, optimize=opt)\n",
        "\n",
        "approx_11 = GPGO_multi(surrogate_approx_11, Acquisition_grad(util), objfunc, param)\n",
        "approx_11.run(init_evals=n_init, max_iter=iters)\n"
      ]
    },
    {
      "cell_type": "code",
      "execution_count": 24,
      "metadata": {
        "id": "DXwjUVZ4GCii",
        "colab": {
          "base_uri": "https://localhost:8080/"
        },
        "outputId": "f6c3afc5-09ca-4998-8507-82fccf705b36"
      },
      "outputs": [
        {
          "output_type": "stream",
          "name": "stdout",
          "text": [
            "Evaluation \t Proposed point \t  Current eval. \t  Best eval. \t        Exact EI: StdDev. x \t Approx EI: StdDev. x \n",
            "init\t [-3.54137249  2.45810889]\t 24.62591779447066\t 6.112828495563743\t    \t    \n",
            "init\t [-2.42365424  0.34549139]\t 6.112828495563743\t 6.112828495563743\t    \t    \n",
            "init\t [-4.97075238  4.28796936]\t 61.48174177959852\t 6.112828495563743\t    \t    \n",
            "init\t [ 4.10332011 -4.77776458]\t 62.49130467854858\t 6.112828495563743\t    \t    \n",
            "init\t [ 4.6791612  -3.71497655]\t 49.4966510918416\t 6.112828495563743\t    \t    \n",
            "1  \t [2.82787363 4.04040872]\t 40.64667444742731\t 6.112828495563743\t 3.8085669867440655\t 3.422833527731226\n",
            "2  \t [-1.78039328 -5.12      ]\t 55.59860023241111\t 6.112828495563743\t 3.6539473870867236\t 3.4183188119559955\n",
            "\u001b[1m\u001b[92m3\u001b[0m\t \u001b[1m\u001b[92m[ 1.57342538 -0.42074431]\u001b[0m\t \u001b[1m\u001b[92m2.8297189564312637\u001b[0m\t \u001b[1m\u001b[92m2.8297189564312637\u001b[0m\t \u001b[1m\u001b[92m3.2832460757485835\u001b[0m\t \u001b[1m\u001b[92m2.951530136662109\u001b[0m\n",
            "4  \t [-5.12      -2.3139323]\t 36.922965354672186\t 2.8297189564312637\t 2.845326274772194\t 2.9908599855293176\n",
            "5  \t [5.12       0.52111803]\t 26.757527995771813\t 2.8297189564312637\t 2.723353973492708\t 2.6330641355583797\n",
            "6  \t [-0.8732496  5.12     ]\t 53.19136486375483\t 2.8297189564312637\t 3.0708820720085113\t 3.099838105126532\n",
            "7  \t [ 0.85666088 -2.75802765]\t 15.947300896356316\t 2.8297189564312637\t 3.0025450760221837\t 2.9060989765533343\n",
            "8  \t [0.18685188 1.57870207]\t 5.019514094731729\t 2.8297189564312637\t 2.9551793219298785\t 2.809471062597967\n",
            "9  \t [-5.12 -5.12]\t 78.64320000000001\t 2.8297189564312637\t 3.418337759284066\t 2.8146699954770495\n",
            "10 \t [-1.82389937 -1.77836993]\t 9.651808081726713\t 2.8297189564312637\t 2.888365435645708\t 2.8232893706505044\n",
            "11 \t [5.12 5.12]\t 78.64320000000001\t 2.8297189564312637\t 3.068454916490839\t 2.988383517923902\n",
            "12 \t [-5.12        0.49184382]\t 26.69822069157266\t 2.8297189564312637\t 2.618604397683157\t 2.778756531523708\n",
            "13 \t [2.31099469 0.99557156]\t 7.32302192807818\t 2.8297189564312637\t 2.7187490038188162\t 2.868459818247038\n",
            "14 \t [ 1.19781166 -5.12      ]\t 53.86355277663\t 2.8297189564312637\t 2.8650855788465868\t 2.8201001839137243\n",
            "\u001b[1m\u001b[92m15\u001b[0m\t \u001b[1m\u001b[92m[-0.09696611 -0.23252118]\u001b[0m\t \u001b[1m\u001b[92m0.11753462686303841\u001b[0m\t \u001b[1m\u001b[92m0.11753462686303841\u001b[0m\t \u001b[1m\u001b[92m3.147345532660058\u001b[0m\t \u001b[1m\u001b[92m3.1065385031168864\u001b[0m\n",
            "\u001b[1m\u001b[92m16\u001b[0m\t \u001b[1m\u001b[92m[-0.09642551 -0.2324754 ]\u001b[0m\t \u001b[1m\u001b[92m0.11738749958666905\u001b[0m\t \u001b[1m\u001b[92m0.11738749958666905\u001b[0m\t \u001b[1m\u001b[92m2.9588528101310954\u001b[0m\t \u001b[1m\u001b[92m2.8746058480259182\u001b[0m\n",
            "\u001b[1m\u001b[92m17\u001b[0m\t \u001b[1m\u001b[92m[-0.09632228 -0.23246555]\u001b[0m\t \u001b[1m\u001b[92m0.11735844407938113\u001b[0m\t \u001b[1m\u001b[92m0.11735844407938113\u001b[0m\t \u001b[1m\u001b[92m2.608755209498347\u001b[0m\t \u001b[1m\u001b[92m2.6198529995673656\u001b[0m\n",
            "\u001b[1m\u001b[92m18\u001b[0m\t \u001b[1m\u001b[92m[-0.09630007 -0.23246348]\u001b[0m\t \u001b[1m\u001b[92m0.11735224325997762\u001b[0m\t \u001b[1m\u001b[92m0.11735224325997762\u001b[0m\t \u001b[1m\u001b[92m3.119112861480097\u001b[0m\t \u001b[1m\u001b[92m3.039277425766873\u001b[0m\n",
            "\u001b[1m\u001b[92m19\u001b[0m\t \u001b[1m\u001b[92m[-0.09630055 -0.23246301]\u001b[0m\t \u001b[1m\u001b[92m0.11735190193784856\u001b[0m\t \u001b[1m\u001b[92m0.11735190193784856\u001b[0m\t \u001b[1m\u001b[92m2.769612222080946\u001b[0m\t \u001b[1m\u001b[92m2.8257989952623204\u001b[0m\n",
            "20 \t [-0.09630732 -0.23246406]\t 0.11735418129457945\t 0.11735190193784856\t 2.6177195963356166\t 2.384136449269122\n"
          ]
        }
      ],
      "source": [
        "### ESTIMATED GP EI GRADIENTS\n",
        "\n",
        "np.random.seed(run_num_12)\n",
        "surrogate_approx_12 = dGaussianProcess(cov_func, optimize=opt)\n",
        "\n",
        "approx_12 = GPGO_multi(surrogate_approx_12, Acquisition_grad(util), objfunc, param)\n",
        "approx_12.run(init_evals=n_init, max_iter=iters)\n"
      ]
    },
    {
      "cell_type": "code",
      "execution_count": 25,
      "metadata": {
        "id": "CphOPndPGClX",
        "colab": {
          "base_uri": "https://localhost:8080/"
        },
        "outputId": "5c818e47-556f-4b90-8d53-714e194dcd3b"
      },
      "outputs": [
        {
          "output_type": "stream",
          "name": "stdout",
          "text": [
            "Evaluation \t Proposed point \t  Current eval. \t  Best eval. \t        Exact EI: StdDev. x \t Approx EI: StdDev. x \n",
            "init\t [ 2.84367268 -2.68757791]\t 22.532624345992815\t 12.440151302029248\t    \t    \n",
            "init\t [3.32061217 4.76927179]\t 56.51837198799\t 12.440151302029248\t    \t    \n",
            "init\t [ 4.83943541 -0.47667971]\t 23.87458213765974\t 12.440151302029248\t    \t    \n",
            "init\t [1.11659482 2.82139151]\t 17.16728408945556\t 12.440151302029248\t    \t    \n",
            "init\t [1.45012065 2.27346667]\t 12.440151302029248\t 12.440151302029248\t    \t    \n",
            "1  \t [-5.12      -2.7017091]\t 40.812864070622474\t 12.440151302029248\t 3.1417842776187035\t 3.223525105605274\n",
            "2  \t [-4.375573    2.98848335]\t 37.00770447781185\t 12.440151302029248\t 2.9998354217191068\t 3.4313505642269653\n",
            "3  \t [-1.05308122 -5.12      ]\t 53.53778006554027\t 12.440151302029248\t 2.997066788626303\t 3.028917365689551\n",
            "\u001b[1m\u001b[92m4\u001b[0m\t \u001b[1m\u001b[92m[-1.31738985 -0.59327586]\u001b[0m\t \u001b[1m\u001b[92m2.439468512848749\u001b[0m\t \u001b[1m\u001b[92m2.439468512848749\u001b[0m\t \u001b[1m\u001b[92m2.867237036894144\u001b[0m\t \u001b[1m\u001b[92m2.919919210937494\u001b[0m\n",
            "5  \t [ 5.12 -5.12]\t 78.64320000000001\t 2.439468512848749\t 3.3235371715174016\t 3.6574508378057944\n",
            "6  \t [-1.36799071  5.12      ]\t 54.30019858354084\t 2.439468512848749\t 2.721876443824288\t 3.0145119984273845\n",
            "\u001b[1m\u001b[92m7\u001b[0m\t \u001b[1m\u001b[92m[ 0.77734993 -0.46484373]\u001b[0m\t \u001b[1m\u001b[92m1.0364323009911796\u001b[0m\t \u001b[1m\u001b[92m1.0364323009911796\u001b[0m\t \u001b[1m\u001b[92m2.963376452265269\u001b[0m\t \u001b[1m\u001b[92m3.006738238410261\u001b[0m\n",
            "8  \t [-1.60278235  1.35744954]\t 6.254249759203715\t 1.0364323009911796\t 2.955861921803857\t 2.95465949196184\n",
            "9  \t [-0.16288258 -1.95828726]\t 7.696308728720624\t 1.0364323009911796\t 2.928435229740704\t 3.034641203867148\n",
            "10 \t [5.12       2.30549062]\t 36.84497402849544\t 1.0364323009911796\t 2.7820611657775016\t 2.941816481539712\n",
            "11 \t [-3.55579049 -0.10582928]\t 12.666045689587513\t 1.0364323009911796\t 3.1400788698744164\t 3.5622510316145957\n",
            "12 \t [ 1.74844942 -0.04270651]\t 3.0607230574984574\t 1.0364323009911796\t 2.8370136998327857\t 2.8263840505784934\n",
            "13 \t [-4.16176633 -5.12      ]\t 69.74909897191709\t 1.0364323009911796\t 3.114153492178472\t 3.208592825545463\n",
            "14 \t [ 1.88985887 -5.12      ]\t 56.00036653898519\t 1.0364323009911796\t 2.507199933349724\t 2.4831069296194817\n",
            "15 \t [-2.20532032 -2.18663697]\t 14.426200149293123\t 1.0364323009911796\t 2.8974414945162095\t 3.264096516272514\n",
            "\u001b[1m\u001b[92m16\u001b[0m\t \u001b[1m\u001b[92m[0.00420539 0.12124332]\u001b[0m\t \u001b[1m\u001b[92m0.029417572449444703\u001b[0m\t \u001b[1m\u001b[92m0.029417572449444703\u001b[0m\t \u001b[1m\u001b[92m2.586092550694039\u001b[0m\t \u001b[1m\u001b[92m2.45444446420948\u001b[0m\n",
            "17 \t [0.00348934 0.12198044]\t 0.029770631917181763\t 0.029417572449444703\t 3.5381348617761517\t 3.4053864765377124\n",
            "18 \t [0.002921   0.12256938]\t 0.03005503618957892\t 0.029417572449444703\t 2.420327425013128\t 2.5698078527834474\n",
            "19 \t [0.00252047 0.12298681]\t 0.030257864087306713\t 0.029417572449444703\t 3.0364154003811445\t 2.9777672024079833\n",
            "20 \t [0.00222897 0.12329082]\t 0.030406218500085073\t 0.029417572449444703\t 3.310644910937609\t 3.312105058125771\n"
          ]
        }
      ],
      "source": [
        "### ESTIMATED GP EI GRADIENTS\n",
        "\n",
        "np.random.seed(run_num_13)\n",
        "surrogate_approx_13 = dGaussianProcess(cov_func, optimize=opt)\n",
        "\n",
        "approx_13 = GPGO_multi(surrogate_approx_13, Acquisition_grad(util), objfunc, param)\n",
        "approx_13.run(init_evals=n_init, max_iter=iters)\n"
      ]
    },
    {
      "cell_type": "code",
      "execution_count": 26,
      "metadata": {
        "id": "ojHTeARNGCoi",
        "colab": {
          "base_uri": "https://localhost:8080/"
        },
        "outputId": "50ea44d9-247c-4d68-ed6d-3c0af6dfb758"
      },
      "outputs": [
        {
          "output_type": "stream",
          "name": "stdout",
          "text": [
            "Evaluation \t Proposed point \t  Current eval. \t  Best eval. \t        Exact EI: StdDev. x \t Approx EI: StdDev. x \n",
            "init\t [0.14277984 2.79721013]\t 15.669155142359655\t 6.942951853664133\t    \t    \n",
            "init\t [ 3.7931795  -5.03759925]\t 65.14302308089468\t 6.942951853664133\t    \t    \n",
            "init\t [-1.94830412  4.68586229]\t 47.71049977745547\t 6.942951853664133\t    \t    \n",
            "init\t [ 0.13431513 -1.86076749]\t 6.942951853664133\t 6.942951853664133\t    \t    \n",
            "init\t [ 0.40140736 -2.85434939]\t 16.455748743182696\t 6.942951853664133\t    \t    \n",
            "1  \t [-5.05363554 -1.15896548]\t 28.225634170910265\t 6.942951853664133\t 3.9481174031498063\t 3.82316001934479\n",
            "2  \t [5.12 5.12]\t 78.64320000000001\t 6.942951853664133\t 3.8120560492446924\t 3.6935607319525627\n",
            "3  \t [ 5.12      -0.0658234]\t 26.223065440650586\t 6.942951853664133\t 2.9820920965063578\t 3.1803796033236544\n",
            "4  \t [-3.33324562 -5.12      ]\t 63.53932639101651\t 6.942951853664133\t 2.8875228947121543\t 3.0245590467777417\n",
            "\u001b[1m\u001b[92m5\u001b[0m\t \u001b[1m\u001b[92m[-1.90749858  0.25186518]\u001b[0m\t \u001b[1m\u001b[92m3.7654229668150347\u001b[0m\t \u001b[1m\u001b[92m3.7654229668150347\u001b[0m\t \u001b[1m\u001b[92m2.6106877548998777\u001b[0m\t \u001b[1m\u001b[92m2.497254471348788\u001b[0m\n",
            "6  \t [-5.12        2.64741703]\t 40.23203382155329\t 3.7654229668150347\t 2.6092825783681604\t 2.8440515809996545\n",
            "\u001b[1m\u001b[92m7\u001b[0m\t \u001b[1m\u001b[92m[1.85576519 0.20520527]\u001b[0m\t \u001b[1m\u001b[92m3.5280828461192604\u001b[0m\t \u001b[1m\u001b[92m3.5280828461192604\u001b[0m\t \u001b[1m\u001b[92m2.440443519894243\u001b[0m\t \u001b[1m\u001b[92m2.2900573866591842\u001b[0m\n",
            "8  \t [1.6718671 5.12     ]\t 55.22393960722788\t 3.5280828461192604\t 3.0539508464241556\t 3.2120537378032723\n",
            "9  \t [3.19057365 2.1597729 ]\t 19.508998205396825\t 3.5280828461192604\t 3.1878339233709516\t 3.109294593145522\n",
            "10 \t [-2.22256478 -1.94586597]\t 12.512582918016717\t 3.5280828461192604\t 2.7759318371458592\t 2.7588719205478034\n",
            "11 \t [ 2.929949   -1.85054339]\t 15.433622837101792\t 3.5280828461192604\t 2.9467507818269287\t 3.3302565008333826\n",
            "12 \t [ 0.10036694 -5.12      ]\t 52.438873521822835\t 3.5280828461192604\t 2.9736936471827673\t 3.2503848380926996\n",
            "\u001b[1m\u001b[92m13\u001b[0m\t \u001b[1m\u001b[92m[0.06169644 0.16298924]\u001b[0m\t \u001b[1m\u001b[92m0.05693743543639953\u001b[0m\t \u001b[1m\u001b[92m0.05693743543639953\u001b[0m\t \u001b[1m\u001b[92m2.8636227687806017\u001b[0m\t \u001b[1m\u001b[92m2.840509257614929\u001b[0m\n",
            "\u001b[1m\u001b[92m14\u001b[0m\t \u001b[1m\u001b[92m[0.06295509 0.16230393]\u001b[0m\t \u001b[1m\u001b[92m0.056648476595260885\u001b[0m\t \u001b[1m\u001b[92m0.056648476595260885\u001b[0m\t \u001b[1m\u001b[92m2.872737966003027\u001b[0m\t \u001b[1m\u001b[92m2.8386541233644498\u001b[0m\n",
            "\u001b[1m\u001b[92m15\u001b[0m\t \u001b[1m\u001b[92m[0.06342433 0.16204898]\u001b[0m\t \u001b[1m\u001b[92m0.05654239178459063\u001b[0m\t \u001b[1m\u001b[92m0.05654239178459063\u001b[0m\t \u001b[1m\u001b[92m2.7265657909771694\u001b[0m\t \u001b[1m\u001b[92m2.8872265492439357\u001b[0m\n",
            "\u001b[1m\u001b[92m16\u001b[0m\t \u001b[1m\u001b[92m[0.06366238 0.16191933]\u001b[0m\t \u001b[1m\u001b[92m0.05648863615486763\u001b[0m\t \u001b[1m\u001b[92m0.05648863615486763\u001b[0m\t \u001b[1m\u001b[92m2.9590766575574396\u001b[0m\t \u001b[1m\u001b[92m3.017172195735972\u001b[0m\n",
            "\u001b[1m\u001b[92m17\u001b[0m\t \u001b[1m\u001b[92m[0.06380392 0.16184152]\u001b[0m\t \u001b[1m\u001b[92m0.05645629848520978\u001b[0m\t \u001b[1m\u001b[92m0.05645629848520978\u001b[0m\t \u001b[1m\u001b[92m3.1155458551207227\u001b[0m\t \u001b[1m\u001b[92m3.376453521023753\u001b[0m\n",
            "\u001b[1m\u001b[92m18\u001b[0m\t \u001b[1m\u001b[92m[0.06389782 0.16178976]\u001b[0m\t \u001b[1m\u001b[92m0.05643478110258534\u001b[0m\t \u001b[1m\u001b[92m0.05643478110258534\u001b[0m\t \u001b[1m\u001b[92m2.4972776410906885\u001b[0m\t \u001b[1m\u001b[92m2.581121566888547\u001b[0m\n",
            "\u001b[1m\u001b[92m19\u001b[0m\t \u001b[1m\u001b[92m[0.06396239 0.1617539 ]\u001b[0m\t \u001b[1m\u001b[92m0.056419834488893914\u001b[0m\t \u001b[1m\u001b[92m0.056419834488893914\u001b[0m\t \u001b[1m\u001b[92m2.871205911773569\u001b[0m\t \u001b[1m\u001b[92m2.8734630014972695\u001b[0m\n",
            "\u001b[1m\u001b[92m20\u001b[0m\t \u001b[1m\u001b[92m[0.06401056 0.1617268 ]\u001b[0m\t \u001b[1m\u001b[92m0.05640846648850354\u001b[0m\t \u001b[1m\u001b[92m0.05640846648850354\u001b[0m\t \u001b[1m\u001b[92m2.4942643985858597\u001b[0m\t \u001b[1m\u001b[92m2.7108321705531906\u001b[0m\n"
          ]
        }
      ],
      "source": [
        "### ESTIMATED GP EI GRADIENTS\n",
        "\n",
        "np.random.seed(run_num_14)\n",
        "surrogate_approx_14 = dGaussianProcess(cov_func, optimize=opt)\n",
        "\n",
        "approx_14 = GPGO_multi(surrogate_approx_14, Acquisition_grad(util), objfunc, param)\n",
        "approx_14.run(init_evals=n_init, max_iter=iters)\n"
      ]
    },
    {
      "cell_type": "code",
      "execution_count": 27,
      "metadata": {
        "id": "vCJzn4vWGCs3",
        "colab": {
          "base_uri": "https://localhost:8080/"
        },
        "outputId": "aeef2579-159a-4d35-ed83-97345e1256dc"
      },
      "outputs": [
        {
          "output_type": "stream",
          "name": "stdout",
          "text": [
            "Evaluation \t Proposed point \t  Current eval. \t  Best eval. \t        Exact EI: StdDev. x \t Approx EI: StdDev. x \n",
            "init\t [ 3.57189322 -3.28810573]\t 34.38169974295086\t 5.478261179905657\t    \t    \n",
            "init\t [-4.56332069 -1.41784631]\t 24.84447200795673\t 5.478261179905657\t    \t    \n",
            "init\t [-2.29989449  0.3072023 ]\t 5.478261179905657\t 5.478261179905657\t    \t    \n",
            "init\t [-1.9873903  -2.00218256]\t 11.967190241167383\t 5.478261179905657\t    \t    \n",
            "init\t [-3.97576933 -2.5610341 ]\t 28.924533081850157\t 5.478261179905657\t    \t    \n",
            "1  \t [5.12 5.12]\t 78.64320000000001\t 5.478261179905657\t 3.675061225753849\t 3.7372043947695324\n",
            "2  \t [-5.12        4.75753495]\t 71.48267758957982\t 5.478261179905657\t 3.070743110144152\t 3.529895203602967\n",
            "3  \t [-0.01524466  5.12      ]\t 52.429032399657345\t 5.478261179905657\t 3.0674748892196186\t 3.2969758719373403\n",
            "4  \t [2.3033125  1.05852802]\t 7.546211590586796\t 5.478261179905657\t 2.861912754890925\t 2.8628437958549653\n",
            "5  \t [-0.10796703 -5.12      ]\t 52.44045688026993\t 5.478261179905657\t 3.283514398382444\t 3.327011686338161\n",
            "6  \t [5.12       0.18205541]\t 26.280688342525597\t 5.478261179905657\t 3.2107323549456925\t 3.2306794557811602\n",
            "\u001b[1m\u001b[92m7\u001b[0m\t \u001b[1m\u001b[92m[ 0.79329393 -1.26658267]\u001b[0m\t \u001b[1m\u001b[92m3.8377785859129707\u001b[0m\t \u001b[1m\u001b[92m3.8377785859129707\u001b[0m\t \u001b[1m\u001b[92m3.038697069806865\u001b[0m\t \u001b[1m\u001b[92m2.9656525782950696\u001b[0m\n",
            "8  \t [-5.12 -5.12]\t 78.64320000000001\t 3.8377785859129707\t 3.410118624396672\t 3.381763468864869\n",
            "9  \t [-0.36189834  1.75070978]\t 6.260939849856398\t 3.8377785859129707\t 2.4027814099208267\t 2.5631766664050586\n",
            "10 \t [-5.12        1.42179286]\t 30.257389848189447\t 3.8377785859129707\t 2.7987914801552645\t 3.0005085985140236\n",
            "11 \t [-2.38205858  2.92349595]\t 22.767860219925943\t 3.8377785859129707\t 2.579012712266976\t 2.950052173218866\n",
            "12 \t [2.50201503 3.2399207 ]\t 27.254251553421913\t 3.8377785859129707\t 2.716908405438697\t 2.7789268936995937\n",
            "\u001b[1m\u001b[92m13\u001b[0m\t \u001b[1m\u001b[92m[-0.13287403 -0.11072303]\u001b[0m\t \u001b[1m\u001b[92m0.04217468450452849\u001b[0m\t \u001b[1m\u001b[92m0.04217468450452849\u001b[0m\t \u001b[1m\u001b[92m3.287767131486366\u001b[0m\t \u001b[1m\u001b[92m3.313739612220924\u001b[0m\n",
            "14 \t [ 5.12 -5.12]\t 78.64320000000001\t 0.04217468450452849\t 2.9651049873396893\t 3.217696137132955\n",
            "15 \t [-0.13488704 -0.10986633]\t 0.042335731361771434\t 0.04217468450452849\t 2.288789698240919\t 2.489895793493409\n",
            "16 \t [-0.13581734 -0.10952236]\t 0.042436644136642374\t 0.04217468450452849\t 3.1292270082023546\t 3.048369537751331\n",
            "17 \t [-0.1363986 -0.109312 ]\t 0.042502808037861474\t 0.04217468450452849\t 2.633607452493979\t 2.4115374328442387\n",
            "18 \t [-0.136799  -0.1091708]\t 0.04255049338726232\t 0.04217468450452849\t 2.9508618748759186\t 2.7910813928365474\n",
            "19 \t [-0.13708998 -0.10906852]\t 0.04258554904332569\t 0.04217468450452849\t 3.0334561690696837\t 3.044259832815579\n",
            "20 \t [-0.1373209  -0.10899508]\t 0.04261688492669809\t 0.04217468450452849\t 2.679297742025647\t 2.701482075794665\n"
          ]
        }
      ],
      "source": [
        "### ESTIMATED GP EI GRADIENTS\n",
        "\n",
        "np.random.seed(run_num_15)\n",
        "surrogate_approx_15 = dGaussianProcess(cov_func, optimize=opt)\n",
        "\n",
        "approx_15 = GPGO_multi(surrogate_approx_15, Acquisition_grad(util), objfunc, param)\n",
        "approx_15.run(init_evals=n_init, max_iter=iters)\n"
      ]
    },
    {
      "cell_type": "code",
      "execution_count": 28,
      "metadata": {
        "id": "bGGkhp-kGCw6",
        "colab": {
          "base_uri": "https://localhost:8080/"
        },
        "outputId": "1f27f700-3ec8-49eb-8d4f-5c17197bda17"
      },
      "outputs": [
        {
          "output_type": "stream",
          "name": "stdout",
          "text": [
            "Evaluation \t Proposed point \t  Current eval. \t  Best eval. \t        Exact EI: StdDev. x \t Approx EI: StdDev. x \n",
            "init\t [-2.83349935  0.23719262]\t 8.141239237549925\t 8.141239237549925\t    \t    \n",
            "init\t [ 0.51918292 -4.65303603]\t 43.571039504503474\t 8.141239237549925\t    \t    \n",
            "init\t [-1.42613673 -2.83565116]\t 18.11570093066862\t 8.141239237549925\t    \t    \n",
            "init\t [ 1.9325559  -3.44339021]\t 27.448644544199137\t 8.141239237549925\t    \t    \n",
            "init\t [-4.39987336  4.51595121]\t 60.146516261103784\t 8.141239237549925\t    \t    \n",
            "1  \t [2.142749   4.83374619]\t 51.32157765102846\t 8.141239237549925\t 3.8160279993886808\t 3.815116828603813\n",
            "2  \t [5.12       0.51223998]\t 26.739179590151362\t 8.141239237549925\t 3.3502024400459276\t 3.20727609765976\n",
            "3  \t [-5.12 -5.12]\t 78.64320000000001\t 8.141239237549925\t 3.57088476487374\t 3.431150802966916\n",
            "\u001b[1m\u001b[92m4\u001b[0m\t \u001b[1m\u001b[92m[0.94247032 0.714626  ]\u001b[0m\t \u001b[1m\u001b[92m1.90963093610807\u001b[0m\t \u001b[1m\u001b[92m1.90963093610807\u001b[0m\t \u001b[1m\u001b[92m2.857545921989671\u001b[0m\t \u001b[1m\u001b[92m2.9767003526288014\u001b[0m\n",
            "5  \t [-0.97668479  2.86558966]\t 17.37712139692669\t 1.90963093610807\t 3.138246173676212\t 3.1749074304015257\n",
            "6  \t [ 5.12 -5.12]\t 78.64320000000001\t 1.90963093610807\t 3.536312440011515\t 3.752341294639722\n",
            "7  \t [-5.12       -1.36242859]\t 29.926823320353257\t 1.90963093610807\t 2.870850187600438\t 2.704811575273104\n",
            "8  \t [5.12       3.82199323]\t 55.42966447582046\t 1.90963093610807\t 2.835870527902205\t 2.784510147154762\n",
            "9  \t [ 2.17983821 -0.43817164]\t 5.135683391560249\t 1.90963093610807\t 3.01342712433396\t 3.109713170449693\n",
            "10 \t [-5.12        1.53362036]\t 30.91838284655556\t 1.90963093610807\t 3.06204103843782\t 3.4779685578570567\n",
            "\u001b[1m\u001b[92m11\u001b[0m\t \u001b[1m\u001b[92m[-0.3042497  -0.22750004]\u001b[0m\t \u001b[1m\u001b[92m0.1960804166743753\u001b[0m\t \u001b[1m\u001b[92m0.1960804166743753\u001b[0m\t \u001b[1m\u001b[92m3.084640963505829\u001b[0m\t \u001b[1m\u001b[92m3.1522290458936393\u001b[0m\n",
            "\u001b[1m\u001b[92m12\u001b[0m\t \u001b[1m\u001b[92m[-0.29612901 -0.22084475]\u001b[0m\t \u001b[1m\u001b[92m0.1852371961884638\u001b[0m\t \u001b[1m\u001b[92m0.1852371961884638\u001b[0m\t \u001b[1m\u001b[92m3.208233576934289\u001b[0m\t \u001b[1m\u001b[92m3.2395929312881973\u001b[0m\n",
            "\u001b[1m\u001b[92m13\u001b[0m\t \u001b[1m\u001b[92m[-0.29291086 -0.21819728]\u001b[0m\t \u001b[1m\u001b[92m0.18101687875299355\u001b[0m\t \u001b[1m\u001b[92m0.18101687875299355\u001b[0m\t \u001b[1m\u001b[92m2.621061411796988\u001b[0m\t \u001b[1m\u001b[92m2.744377418747807\u001b[0m\n",
            "\u001b[1m\u001b[92m14\u001b[0m\t \u001b[1m\u001b[92m[-0.29125299 -0.21685101]\u001b[0m\t \u001b[1m\u001b[92m0.17887701992069888\u001b[0m\t \u001b[1m\u001b[92m0.17887701992069888\u001b[0m\t \u001b[1m\u001b[92m2.5231164236251304\u001b[0m\t \u001b[1m\u001b[92m2.6295716306342087\u001b[0m\n",
            "\u001b[1m\u001b[92m15\u001b[0m\t \u001b[1m\u001b[92m[-0.29026995 -0.21606483]\u001b[0m\t \u001b[1m\u001b[92m0.1776246680375676\u001b[0m\t \u001b[1m\u001b[92m0.1776246680375676\u001b[0m\t \u001b[1m\u001b[92m2.7983352246351956\u001b[0m\t \u001b[1m\u001b[92m2.922141176872931\u001b[0m\n",
            "\u001b[1m\u001b[92m16\u001b[0m\t \u001b[1m\u001b[92m[-0.28963089 -0.21556393]\u001b[0m\t \u001b[1m\u001b[92m0.17682166347856165\u001b[0m\t \u001b[1m\u001b[92m0.17682166347856165\u001b[0m\t \u001b[1m\u001b[92m2.751552295161915\u001b[0m\t \u001b[1m\u001b[92m3.073321181838724\u001b[0m\n",
            "\u001b[1m\u001b[92m17\u001b[0m\t \u001b[1m\u001b[92m[-0.28919172 -0.21521924]\u001b[0m\t \u001b[1m\u001b[92m0.17627049382283633\u001b[0m\t \u001b[1m\u001b[92m0.17627049382283633\u001b[0m\t \u001b[1m\u001b[92m3.075763435704409\u001b[0m\t \u001b[1m\u001b[92m3.216326889649322\u001b[0m\n",
            "\u001b[1m\u001b[92m18\u001b[0m\t \u001b[1m\u001b[92m[-0.2888726  -0.21497386]\u001b[0m\t \u001b[1m\u001b[92m0.1758748983099827\u001b[0m\t \u001b[1m\u001b[92m0.1758748983099827\u001b[0m\t \u001b[1m\u001b[92m2.6140278501467513\u001b[0m\t \u001b[1m\u001b[92m2.755949306933782\u001b[0m\n",
            "\u001b[1m\u001b[92m19\u001b[0m\t \u001b[1m\u001b[92m[-0.28863313 -0.21479131]\u001b[0m\t \u001b[1m\u001b[92m0.17557969911619303\u001b[0m\t \u001b[1m\u001b[92m0.17557969911619303\u001b[0m\t \u001b[1m\u001b[92m2.6707200678843295\u001b[0m\t \u001b[1m\u001b[92m2.801464898607951\u001b[0m\n",
            "\u001b[1m\u001b[92m20\u001b[0m\t \u001b[1m\u001b[92m[-0.28844788 -0.21465176]\u001b[0m\t \u001b[1m\u001b[92m0.1753529396674279\u001b[0m\t \u001b[1m\u001b[92m0.1753529396674279\u001b[0m\t \u001b[1m\u001b[92m3.051599263272723\u001b[0m\t \u001b[1m\u001b[92m3.124121977409554\u001b[0m\n"
          ]
        }
      ],
      "source": [
        "### ESTIMATED GP EI GRADIENTS\n",
        "\n",
        "np.random.seed(run_num_16)\n",
        "surrogate_approx_16 = dGaussianProcess(cov_func, optimize=opt)\n",
        "\n",
        "approx_16 = GPGO_multi(surrogate_approx_16, Acquisition_grad(util), objfunc, param)\n",
        "approx_16.run(init_evals=n_init, max_iter=iters)\n"
      ]
    },
    {
      "cell_type": "code",
      "execution_count": 29,
      "metadata": {
        "id": "Yrs2mp7hGC1Z",
        "colab": {
          "base_uri": "https://localhost:8080/"
        },
        "outputId": "8cdb18db-1bdf-424d-a499-78a81b8cb34f"
      },
      "outputs": [
        {
          "output_type": "stream",
          "name": "stdout",
          "text": [
            "Evaluation \t Proposed point \t  Current eval. \t  Best eval. \t        Exact EI: StdDev. x \t Approx EI: StdDev. x \n",
            "init\t [-2.10263037  0.31320838]\t 4.617253458637031\t 3.1817562258207746\t    \t    \n",
            "init\t [-3.15882714 -4.42470033]\t 49.134134969019556\t 3.1817562258207746\t    \t    \n",
            "init\t [2.93873111 1.60085526]\t 13.761615685279608\t 3.1817562258207746\t    \t    \n",
            "init\t [1.40821398 0.77417363]\t 3.1817562258207746\t 3.1817562258207746\t    \t    \n",
            "init\t [-4.71999574 -1.45598869]\t 26.518165900202685\t 3.1817562258207746\t    \t    \n",
            "1  \t [ 5.12 -5.12]\t 78.64320000000001\t 3.1817562258207746\t 3.4213278145590715\t 4.400175744829222\n",
            "2  \t [-4.59242108  5.12      ]\t 73.51913137536815\t 3.1817562258207746\t 3.220576564109164\t 3.352405066634448\n",
            "3  \t [0.29730014 5.12      ]\t 52.51718737373617\t 3.1817562258207746\t 3.499724602380592\t 3.181069902692811\n",
            "4  \t [5.12 5.12]\t 78.64320000000001\t 3.1817562258207746\t 3.6106799883364658\t 3.6699778309610727\n",
            "5  \t [ 1.08172286 -2.91757552]\t 18.19461811738776\t 3.1817562258207746\t 2.8034450479108357\t 2.982523832660881\n",
            "6  \t [ 5.12       -1.08130945]\t 28.552860242277383\t 3.1817562258207746\t 2.794347940286688\t 2.8544911106715007\n",
            "7  \t [-5.12        1.67788386]\t 31.844988521400133\t 3.1817562258207746\t 2.581158736184222\t 2.693812810929142\n",
            "8  \t [-1.78736261  2.60576769]\t 16.774715608836125\t 3.1817562258207746\t 3.1006193482836837\t 2.9426247043024714\n",
            "\u001b[1m\u001b[92m9\u001b[0m\t \u001b[1m\u001b[92m[-0.07493499 -0.32085537]\u001b[0m\t \u001b[1m\u001b[92m0.21151159088286065\u001b[0m\t \u001b[1m\u001b[92m0.21151159088286065\u001b[0m\t \u001b[1m\u001b[92m3.332631078069103\u001b[0m\t \u001b[1m\u001b[92m3.2427082941598124\u001b[0m\n",
            "10 \t [-1.30984041 -1.54455422]\t 6.486977392153938\t 0.21151159088286065\t 2.5580163815107078\t 2.4339388997226865\n",
            "\u001b[1m\u001b[92m11\u001b[0m\t \u001b[1m\u001b[92m[0.19869227 0.19082239]\u001b[0m\t \u001b[1m\u001b[92m0.11230498894319486\u001b[0m\t \u001b[1m\u001b[92m0.11230498894319486\u001b[0m\t \u001b[1m\u001b[92m3.234805397691132\u001b[0m\t \u001b[1m\u001b[92m3.0238861130820083\u001b[0m\n",
            "12 \t [-0.04973877 -5.12      ]\t 52.43127394483276\t 0.11230498894319486\t 2.8069960418111353\t 2.81909152510369\n",
            "\u001b[1m\u001b[92m13\u001b[0m\t \u001b[1m\u001b[92m[0.23188951 0.12484583]\u001b[0m\t \u001b[1m\u001b[92m0.08494570901463001\u001b[0m\t \u001b[1m\u001b[92m0.08494570901463001\u001b[0m\t \u001b[1m\u001b[92m2.413600764905005\u001b[0m\t \u001b[1m\u001b[92m2.440165845834211\u001b[0m\n",
            "\u001b[1m\u001b[92m14\u001b[0m\t \u001b[1m\u001b[92m[0.23459504 0.11510648]\u001b[0m\t \u001b[1m\u001b[92m0.08153383628718625\u001b[0m\t \u001b[1m\u001b[92m0.08153383628718625\u001b[0m\t \u001b[1m\u001b[92m2.7319790569302667\u001b[0m\t \u001b[1m\u001b[92m2.6184851619035916\u001b[0m\n",
            "\u001b[1m\u001b[92m15\u001b[0m\t \u001b[1m\u001b[92m[0.23526029 0.11075451]\u001b[0m\t \u001b[1m\u001b[92m0.07988052842679896\u001b[0m\t \u001b[1m\u001b[92m0.07988052842679896\u001b[0m\t \u001b[1m\u001b[92m2.718764497401041\u001b[0m\t \u001b[1m\u001b[92m2.584734827213467\u001b[0m\n",
            "\u001b[1m\u001b[92m16\u001b[0m\t \u001b[1m\u001b[92m[0.23528718 0.10850468]\u001b[0m\t \u001b[1m\u001b[92m0.07890658504127145\u001b[0m\t \u001b[1m\u001b[92m0.07890658504127145\u001b[0m\t \u001b[1m\u001b[92m2.6081072864553603\u001b[0m\t \u001b[1m\u001b[92m2.493254614412308\u001b[0m\n",
            "\u001b[1m\u001b[92m17\u001b[0m\t \u001b[1m\u001b[92m[0.23511287 0.10720495]\u001b[0m\t \u001b[1m\u001b[92m0.07826386339252187\u001b[0m\t \u001b[1m\u001b[92m0.07826386339252187\u001b[0m\t \u001b[1m\u001b[92m2.491279882099658\u001b[0m\t \u001b[1m\u001b[92m2.2725387495828473\u001b[0m\n",
            "\u001b[1m\u001b[92m18\u001b[0m\t \u001b[1m\u001b[92m[0.23488699 0.10638878]\u001b[0m\t \u001b[1m\u001b[92m0.07780904115312476\u001b[0m\t \u001b[1m\u001b[92m0.07780904115312476\u001b[0m\t \u001b[1m\u001b[92m2.6184437908293234\u001b[0m\t \u001b[1m\u001b[92m2.5626231054400814\u001b[0m\n",
            "\u001b[1m\u001b[92m19\u001b[0m\t \u001b[1m\u001b[92m[0.23466168 0.10583983]\u001b[0m\t \u001b[1m\u001b[92m0.07747024261354382\u001b[0m\t \u001b[1m\u001b[92m0.07747024261354382\u001b[0m\t \u001b[1m\u001b[92m2.7490197678978654\u001b[0m\t \u001b[1m\u001b[92m2.6464482366360933\u001b[0m\n",
            "\u001b[1m\u001b[92m20\u001b[0m\t \u001b[1m\u001b[92m[0.2344545  0.10545081]\u001b[0m\t \u001b[1m\u001b[92m0.07720865824204809\u001b[0m\t \u001b[1m\u001b[92m0.07720865824204809\u001b[0m\t \u001b[1m\u001b[92m2.991291826995438\u001b[0m\t \u001b[1m\u001b[92m2.8171922423388667\u001b[0m\n"
          ]
        }
      ],
      "source": [
        "### ESTIMATED GP EI GRADIENTS\n",
        "\n",
        "np.random.seed(run_num_17)\n",
        "surrogate_approx_17 = dGaussianProcess(cov_func, optimize=opt)\n",
        "\n",
        "approx_17 = GPGO_multi(surrogate_approx_17, Acquisition_grad(util), objfunc, param)\n",
        "approx_17.run(init_evals=n_init, max_iter=iters)\n"
      ]
    },
    {
      "cell_type": "code",
      "execution_count": 30,
      "metadata": {
        "id": "f0HIEP3PIUEa",
        "colab": {
          "base_uri": "https://localhost:8080/"
        },
        "outputId": "39284577-3a52-4f56-e5ef-acdc08eb499d"
      },
      "outputs": [
        {
          "output_type": "stream",
          "name": "stdout",
          "text": [
            "Evaluation \t Proposed point \t  Current eval. \t  Best eval. \t        Exact EI: StdDev. x \t Approx EI: StdDev. x \n",
            "init\t [1.53983224 0.05584255]\t 2.3773200933391867\t 2.3773200933391867\t    \t    \n",
            "init\t [ 3.87687906 -3.25795609]\t 36.25874706055664\t 2.3773200933391867\t    \t    \n",
            "init\t [3.60686662 2.56139557]\t 26.130981366974602\t 2.3773200933391867\t    \t    \n",
            "init\t [1.70088108 4.99604939]\t 52.81401545301259\t 2.3773200933391867\t    \t    \n",
            "init\t [-2.48864335 -4.83014733]\t 52.85399210258478\t 2.3773200933391867\t    \t    \n",
            "1  \t [-5.12        2.60552043]\t 39.79187341643815\t 2.3773200933391867\t 3.1051536478388098\t 3.7780778369227748\n",
            "2  \t [-2.03749518 -0.41679815]\t 4.498828016479792\t 2.3773200933391867\t 2.5997716047241983\t 2.524747670367092\n",
            "3  \t [-5.12       -1.69661405]\t 31.971398486602755\t 2.3773200933391867\t 2.8487836140516873\t 2.85584235927476\n",
            "4  \t [-2.26094485  5.12      ]\t 57.540671624868516\t 2.3773200933391867\t 3.0743992327512886\t 3.5646497405832505\n",
            "5  \t [ 0.34847784 -2.47646192]\t 12.387164046037201\t 2.3773200933391867\t 2.710379893746306\t 2.7795123139612437\n",
            "6  \t [-0.41205431  1.87321947]\t 7.187691082679822\t 2.3773200933391867\t 2.98697891925634\t 3.266031526086458\n",
            "7  \t [ 5.12       -0.21064261]\t 26.30314061742494\t 2.3773200933391867\t 3.0955284409991295\t 3.310247750042498\n",
            "8  \t [5.12 5.12]\t 78.64320000000001\t 2.3773200933391867\t 2.7951835272084544\t 3.016551160827781\n",
            "9  \t [ 1.17309767 -5.12      ]\t 53.80495815020037\t 2.3773200933391867\t 2.904505385172671\t 3.3942531340959827\n",
            "10 \t [-2.52932123  1.4375666 ]\t 10.53066139381658\t 2.3773200933391867\t 3.1448138190289097\t 3.1929808091264587\n",
            "11 \t [ 2.30477922 -0.67395512]\t 6.220438237130015\t 2.3773200933391867\t 3.0822087706302828\t 2.977506969017867\n",
            "12 \t [-5.12 -5.12]\t 78.64320000000001\t 2.3773200933391867\t 2.8360394912440317\t 3.116542028066949\n",
            "\u001b[1m\u001b[92m13\u001b[0m\t \u001b[1m\u001b[92m[ 0.06264018 -0.09792949]\u001b[0m\t \u001b[1m\u001b[92m0.02310416061243323\u001b[0m\t \u001b[1m\u001b[92m0.02310416061243323\u001b[0m\t \u001b[1m\u001b[92m2.936636301331286\u001b[0m\t \u001b[1m\u001b[92m2.9091202957193247\u001b[0m\n",
            "14 \t [ 0.06194962 -0.09825822]\t 0.023147109312868046\t 0.02310416061243323\t 2.521728840598606\t 2.486554088146648\n",
            "15 \t [ 0.06132416 -0.09855518]\t 0.023186898684342955\t 0.02310416061243323\t 2.753581295352292\t 2.584850564666263\n",
            "16 \t [ 0.06087942 -0.09876691]\t 0.023216108607055693\t 0.02310416061243323\t 2.6120994190648226\t 2.681996590812192\n",
            "17 \t [ 0.06055593 -0.09892088]\t 0.023237702297570363\t 0.02310416061243323\t 3.4454924662294912\t 3.383773436180778\n",
            "18 \t [ 0.06031131 -0.09903725]\t 0.023254208274327767\t 0.02310416061243323\t 3.042251432415043\t 3.0241928937013527\n",
            "19 \t [ 0.06012082 -0.09912818]\t 0.023267304141030364\t 0.02310416061243323\t 2.771188818570138\t 2.5230297410776292\n",
            "20 \t [ 0.05996782 -0.09920118]\t 0.023277889343743533\t 0.02310416061243323\t 2.913582625906288\t 2.7274106425151574\n"
          ]
        }
      ],
      "source": [
        "### ESTIMATED GP EI GRADIENTS\n",
        "\n",
        "np.random.seed(run_num_18)\n",
        "surrogate_approx_18 = dGaussianProcess(cov_func, optimize=opt)\n",
        "\n",
        "approx_18 = GPGO_multi(surrogate_approx_18, Acquisition_grad(util), objfunc, param)\n",
        "approx_18.run(init_evals=n_init, max_iter=iters)\n"
      ]
    },
    {
      "cell_type": "code",
      "execution_count": 31,
      "metadata": {
        "id": "S3mxRQDLIUPC",
        "colab": {
          "base_uri": "https://localhost:8080/"
        },
        "outputId": "2517358b-f43d-4714-b4c8-3742d39a4853"
      },
      "outputs": [
        {
          "output_type": "stream",
          "name": "stdout",
          "text": [
            "Evaluation \t Proposed point \t  Current eval. \t  Best eval. \t        Exact EI: StdDev. x \t Approx EI: StdDev. x \n",
            "init\t [-4.12125592  2.6751971 ]\t 31.298109376682206\t 22.814458446152262\t    \t    \n",
            "init\t [-2.59135515 -3.70553152]\t 34.17704923320956\t 22.814458446152262\t    \t    \n",
            "init\t [-1.72598719 -4.27008445]\t 39.4462742815243\t 22.814458446152262\t    \t    \n",
            "init\t [1.76104531 3.13952049]\t 22.814458446152262\t 22.814458446152262\t    \t    \n",
            "init\t [4.9432772  1.38916592]\t 28.295553455390152\t 22.814458446152262\t    \t    \n",
            "1  \t [ 5.12       -4.66333906]\t 69.70786229061933\t 22.814458446152262\t 3.43668175360514\t 4.447053424851714\n",
            "\u001b[1m\u001b[92m2\u001b[0m\t \u001b[1m\u001b[92m[ 1.55351711 -1.37986303]\u001b[0m\t \u001b[1m\u001b[92m6.221459368683137\u001b[0m\t \u001b[1m\u001b[92m6.221459368683137\u001b[0m\t \u001b[1m\u001b[92m3.4538439244916734\u001b[0m\t \u001b[1m\u001b[92m3.300065146506736\u001b[0m\n",
            "3  \t [5.12 5.12]\t 78.64320000000001\t 6.221459368683137\t 2.9276797978641236\t 3.037892897465635\n",
            "4  \t [-5.12       -1.02162032]\t 28.3018161764818\t 6.221459368683137\t 3.035679377250558\t 3.116125055515949\n",
            "5  \t [-1.3165577  5.12     ]\t 54.16212416756489\t 6.221459368683137\t 2.868216950729112\t 2.938641039707417\n",
            "\u001b[1m\u001b[92m6\u001b[0m\t \u001b[1m\u001b[92m[-1.21527661  0.29438551]\u001b[0m\t \u001b[1m\u001b[92m1.6502228826867782\u001b[0m\t \u001b[1m\u001b[92m1.6502228826867782\u001b[0m\t \u001b[1m\u001b[92m3.075103204668811\u001b[0m\t \u001b[1m\u001b[92m2.943735322378673\u001b[0m\n",
            "7  \t [ 1.53589206 -5.12      ]\t 54.78776441745589\t 1.6502228826867782\t 2.923240579525304\t 3.110144124840257\n",
            "8  \t [-5.12 -5.12]\t 78.64320000000001\t 1.6502228826867782\t 2.80822611323026\t 2.616757340826832\n",
            "9  \t [ 4.17064834 -1.50099088]\t 21.900254787206006\t 1.6502228826867782\t 2.5652283359590466\t 3.051122678700382\n",
            "10 \t [-5.12  5.12]\t 78.64320000000001\t 1.6502228826867782\t 2.9437235873023413\t 3.442033015631674\n",
            "11 \t [-0.91768263  1.72532333]\t 6.795622585577826\t 1.6502228826867782\t 2.374108994574592\t 2.0876467689572693\n",
            "12 \t [-1.12444079 -0.97143964]\t 3.151757048140875\t 1.6502228826867782\t 2.7756572391606245\t 2.4852564869556564\n",
            "13 \t [-2.51125223  0.00629819]\t 6.306467098168823\t 1.6502228826867782\t 2.938996345079756\t 2.7739646934425846\n",
            "\u001b[1m\u001b[92m14\u001b[0m\t \u001b[1m\u001b[92m[0.93700982 0.45508655]\u001b[0m\t \u001b[1m\u001b[92m1.2921949492573157\u001b[0m\t \u001b[1m\u001b[92m1.2921949492573157\u001b[0m\t \u001b[1m\u001b[92m2.624077592868175\u001b[0m\t \u001b[1m\u001b[92m2.534096001781341\u001b[0m\n",
            "15 \t [2.00906508 0.53653705]\t 4.61208650809213\t 1.2921949492573157\t 2.8137385889234054\t 2.5019149913013767\n",
            "\u001b[1m\u001b[92m16\u001b[0m\t \u001b[1m\u001b[92m[ 0.02829712 -0.04177615]\u001b[0m\t \u001b[1m\u001b[92m0.004291220841439582\u001b[0m\t \u001b[1m\u001b[92m0.004291220841439582\u001b[0m\t \u001b[1m\u001b[92m2.6438076047021073\u001b[0m\t \u001b[1m\u001b[92m2.3943263750692485\u001b[0m\n",
            "17 \t [ 0.02739571 -0.04495453]\t 0.004792345495357639\t 0.004291220841439582\t 2.721511688710963\t 2.297147350943327\n",
            "18 \t [ 0.02691291 -0.04672483]\t 0.005090723828724791\t 0.004291220841439582\t 2.927505073031898\t 2.3778261761929556\n",
            "19 \t [ 0.0266106  -0.04785708]\t 0.005288723663224452\t 0.004291220841439582\t 2.433870842368905\t 2.3230204598063273\n",
            "20 \t [ 0.02640249 -0.04864799]\t 0.00543034472753817\t 0.004291220841439582\t 2.7006079032630637\t 2.4112412027186694\n"
          ]
        }
      ],
      "source": [
        "### ESTIMATED GP EI GRADIENTS\n",
        "\n",
        "np.random.seed(run_num_19)\n",
        "surrogate_approx_19 = dGaussianProcess(cov_func, optimize=opt)\n",
        "\n",
        "approx_19 = GPGO_multi(surrogate_approx_19, Acquisition_grad(util), objfunc, param)\n",
        "approx_19.run(init_evals=n_init, max_iter=iters)\n"
      ]
    },
    {
      "cell_type": "code",
      "execution_count": 32,
      "metadata": {
        "id": "Aawd59dRIUYn",
        "colab": {
          "base_uri": "https://localhost:8080/"
        },
        "outputId": "f967e973-238f-40e8-b469-7392d0323153"
      },
      "outputs": [
        {
          "output_type": "stream",
          "name": "stdout",
          "text": [
            "Evaluation \t Proposed point \t  Current eval. \t  Best eval. \t        Exact EI: StdDev. x \t Approx EI: StdDev. x \n",
            "init\t [0.9024594  4.07258857]\t 33.98638835688907\t 1.615187047660523\t    \t    \n",
            "init\t [4.00927467 3.23417577]\t 36.994069169927414\t 1.615187047660523\t    \t    \n",
            "init\t [-4.75249064  1.96359764]\t 30.297598676217497\t 1.615187047660523\t    \t    \n",
            "init\t [-1.24230715  0.18955208]\t 1.615187047660523\t 1.615187047660523\t    \t    \n",
            "init\t [ 1.61742301 -3.13497377]\t 22.27217824772924\t 1.615187047660523\t    \t    \n",
            "1  \t [-5.12 -5.12]\t 78.64320000000001\t 1.615187047660523\t 2.9649228313265534\t 3.1527956838998676\n",
            "2  \t [ 5.12 -5.12]\t 78.64320000000001\t 1.615187047660523\t 3.005785617078456\t 3.460636328070422\n",
            "3  \t [ 5.12       -0.73703713]\t 27.300847452984424\t 1.615187047660523\t 2.777122441940532\t 2.889040036519476\n",
            "4  \t [-2.84862398  5.12      ]\t 60.54345855853012\t 1.615187047660523\t 3.006937059463755\t 3.0100103413636035\n",
            "5  \t [-2.15286072 -2.46234367]\t 16.761081967441847\t 1.615187047660523\t 2.808106172095222\t 2.906661814453536\n",
            "6  \t [1.43098977 0.38298928]\t 2.341093282701517\t 1.615187047660523\t 3.5415702074124664\t 3.418786838694588\n",
            "7  \t [-5.12       -1.36050068]\t 29.91632418045304\t 1.615187047660523\t 3.478113160451811\t 3.473411535829385\n",
            "8  \t [-0.90524735 -5.12      ]\t 53.24827276506152\t 1.615187047660523\t 3.1677640550462556\t 3.197096129292882\n",
            "9  \t [-1.42736054  1.81898869]\t 8.654797865649645\t 1.615187047660523\t 2.81466383555526\t 2.907275261775108\n",
            "\u001b[1m\u001b[92m10\u001b[0m\t \u001b[1m\u001b[92m[-0.01998708 -0.58874732]\u001b[0m\t \u001b[1m\u001b[92m0.6936462873826141\u001b[0m\t \u001b[1m\u001b[92m0.6936462873826141\u001b[0m\t \u001b[1m\u001b[92m3.0745111372205636\u001b[0m\t \u001b[1m\u001b[92m2.859517733544478\u001b[0m\n",
            "\u001b[1m\u001b[92m11\u001b[0m\t \u001b[1m\u001b[92m[-0.0488181  -0.55024402]\u001b[0m\t \u001b[1m\u001b[92m0.6079201729478911\u001b[0m\t \u001b[1m\u001b[92m0.6079201729478911\u001b[0m\t \u001b[1m\u001b[92m2.963736551925052\u001b[0m\t \u001b[1m\u001b[92m2.78293925018165\u001b[0m\n",
            "\u001b[1m\u001b[92m12\u001b[0m\t \u001b[1m\u001b[92m[-0.06036705 -0.53765633]\u001b[0m\t \u001b[1m\u001b[92m0.5817928304743508\u001b[0m\t \u001b[1m\u001b[92m0.5817928304743508\u001b[0m\t \u001b[1m\u001b[92m3.1683233297797644\u001b[0m\t \u001b[1m\u001b[92m3.0948882782305596\u001b[0m\n",
            "13 \t [2.57839367 0.45361693]\t 7.0596505368792934\t 0.5817928304743508\t 3.1881315341771814\t 3.350733191390959\n",
            "\u001b[1m\u001b[92m14\u001b[0m\t \u001b[1m\u001b[92m[ 0.16649944 -0.13443836]\u001b[0m\t \u001b[1m\u001b[92m0.06386940966574645\u001b[0m\t \u001b[1m\u001b[92m0.06386940966574645\u001b[0m\t \u001b[1m\u001b[92m2.632140704963869\u001b[0m\t \u001b[1m\u001b[92m2.605238970939026\u001b[0m\n",
            "\u001b[1m\u001b[92m15\u001b[0m\t \u001b[1m\u001b[92m[ 0.1734904  -0.10129365]\u001b[0m\t \u001b[1m\u001b[92m0.050619725870623064\u001b[0m\t \u001b[1m\u001b[92m0.050619725870623064\u001b[0m\t \u001b[1m\u001b[92m2.5558255556043554\u001b[0m\t \u001b[1m\u001b[92m2.457518120499234\u001b[0m\n",
            "\u001b[1m\u001b[92m16\u001b[0m\t \u001b[1m\u001b[92m[ 0.17794176 -0.07937278]\u001b[0m\t \u001b[1m\u001b[92m0.04426334712571503\u001b[0m\t \u001b[1m\u001b[92m0.04426334712571503\u001b[0m\t \u001b[1m\u001b[92m2.749106191659881\u001b[0m\t \u001b[1m\u001b[92m2.674306403763614\u001b[0m\n",
            "\u001b[1m\u001b[92m17\u001b[0m\t \u001b[1m\u001b[92m[ 0.18097978 -0.06387224]\u001b[0m\t \u001b[1m\u001b[92m0.0409130041259983\u001b[0m\t \u001b[1m\u001b[92m0.0409130041259983\u001b[0m\t \u001b[1m\u001b[92m2.875378260566945\u001b[0m\t \u001b[1m\u001b[92m2.7367107758648093\u001b[0m\n",
            "\u001b[1m\u001b[92m18\u001b[0m\t \u001b[1m\u001b[92m[ 0.18317395 -0.05235048]\u001b[0m\t \u001b[1m\u001b[92m0.039033843542423736\u001b[0m\t \u001b[1m\u001b[92m0.039033843542423736\u001b[0m\t \u001b[1m\u001b[92m3.3134711403281423\u001b[0m\t \u001b[1m\u001b[92m3.1898439299505967\u001b[0m\n",
            "\u001b[1m\u001b[92m19\u001b[0m\t \u001b[1m\u001b[92m[ 0.18482106 -0.04346021]\u001b[0m\t \u001b[1m\u001b[92m0.037936405402230276\u001b[0m\t \u001b[1m\u001b[92m0.037936405402230276\u001b[0m\t \u001b[1m\u001b[92m2.8803349670286926\u001b[0m\t \u001b[1m\u001b[92m2.8290313217432734\u001b[0m\n",
            "\u001b[1m\u001b[92m20\u001b[0m\t \u001b[1m\u001b[92m[ 0.1861001  -0.03639651]\u001b[0m\t \u001b[1m\u001b[92m0.03728265974782166\u001b[0m\t \u001b[1m\u001b[92m0.03728265974782166\u001b[0m\t \u001b[1m\u001b[92m2.453504004413866\u001b[0m\t \u001b[1m\u001b[92m2.2196204536351196\u001b[0m\n"
          ]
        }
      ],
      "source": [
        "### ESTIMATED GP EI GRADIENTS\n",
        "\n",
        "np.random.seed(run_num_20)\n",
        "surrogate_approx_20 = dGaussianProcess(cov_func, optimize=opt)\n",
        "\n",
        "approx_20 = GPGO_multi(surrogate_approx_20, Acquisition_grad(util), objfunc, param)\n",
        "approx_20.run(init_evals=n_init, max_iter=iters)\n"
      ]
    },
    {
      "cell_type": "code",
      "execution_count": 33,
      "metadata": {
        "id": "xkgzPRbBTHaq",
        "colab": {
          "base_uri": "https://localhost:8080/"
        },
        "outputId": "06281487-922f-4f23-92e0-0e61ffdc5fea"
      },
      "outputs": [
        {
          "output_type": "execute_result",
          "data": {
            "text/plain": [
              "1659620986.1436582"
            ]
          },
          "metadata": {},
          "execution_count": 33
        }
      ],
      "source": [
        "end_approx = time.time()\n",
        "end_approx\n",
        "\n",
        "time_approx = end_approx - start_approx\n",
        "time_approx\n",
        "\n",
        "start_exact = time.time()\n",
        "start_exact"
      ]
    },
    {
      "cell_type": "code",
      "execution_count": 34,
      "metadata": {
        "id": "7CG3Ndvb16Rb",
        "colab": {
          "base_uri": "https://localhost:8080/"
        },
        "outputId": "c1e746d2-fe7f-4a23-8b7e-4f6fc094b4e2"
      },
      "outputs": [
        {
          "output_type": "stream",
          "name": "stdout",
          "text": [
            "Evaluation \t Proposed point \t  Current eval. \t  Best eval. \t        Exact EI: StdDev. x \t Approx EI: StdDev. x \n",
            "init\t [-0.84969467  2.25612281]\t 10.902161328666502\t 1.4334486961549602\t    \t    \n",
            "init\t [-5.1188288  -2.02411446]\t 34.396486966857985\t 1.4334486961549602\t    \t    \n",
            "init\t [-3.61721968 -4.17445279]\t 47.936390383803385\t 1.4334486961549602\t    \t    \n",
            "init\t [-3.21269544 -1.58145816]\t 15.323431753768267\t 1.4334486961549602\t    \t    \n",
            "init\t [-1.05710106  0.39748336]\t 1.4334486961549602\t 1.4334486961549602\t    \t    \n",
            "1  \t [ 4.04077223 -4.24914728]\t 52.43834538835027\t 1.4334486961549602\t 3.6014928257239807\t 4.255026526242912\n",
            "2  \t [5.12       3.36783542]\t 48.89903079756381\t 1.4334486961549602\t 3.3998905855573858\t 3.69948524875067\n",
            "3  \t [2.1345648  0.17993918]\t 4.621123110047914\t 1.4334486961549602\t 3.0618833652925597\t 3.4026311280814023\n",
            "4  \t [-5.12        4.36680096]\t 64.35230119367392\t 1.4334486961549602\t 3.3158144689765168\t 4.0120683818190415\n",
            "5  \t [1.64363816 5.12      ]\t 55.13034641230635\t 1.4334486961549602\t 2.5807853349244416\t 3.2343869581219655\n",
            "6  \t [ 0.17947643 -5.12      ]\t 52.461011789660574\t 1.4334486961549602\t 2.685329259941689\t 3.0117460943932017\n",
            "7  \t [ 5.12       -0.52020271]\t 26.755621715313485\t 1.4334486961549602\t 3.0733976038502613\t 3.2268696827901078\n",
            "8  \t [-4.15656332  1.21706096]\t 20.239493428735315\t 1.4334486961549602\t 3.14282177449378\t 3.0554680505508593\n",
            "9  \t [ 0.32552793 -1.68214117]\t 5.7651662478972066\t 1.4334486961549602\t 2.8004631760833054\t 2.9099855852914596\n",
            "10 \t [ 2.51523748 -1.97321484]\t 14.113573227151608\t 1.4334486961549602\t 3.043887949777156\t 3.005654157605277\n",
            "11 \t [1.90797196 2.02294755]\t 11.824990620067116\t 1.4334486961549602\t 2.6769231502133284\t 2.8523520808091707\n",
            "12 \t [-1.20019891  4.23888607]\t 37.37678766157775\t 1.4334486961549602\t 3.077777369923846\t 3.2552893643677625\n",
            "13 \t [-1.3429102   0.02127951]\t 1.8043134405159658\t 1.4334486961549602\t 2.3682955889635426\t 2.169933516784289\n",
            "\u001b[1m\u001b[92m14\u001b[0m\t \u001b[1m\u001b[92m[-1.09659396  0.00678015]\u001b[0m\t \u001b[1m\u001b[92m1.202610250500343\u001b[0m\t \u001b[1m\u001b[92m1.202610250500343\u001b[0m\t \u001b[1m\u001b[92m2.9441683465578685\u001b[0m\t \u001b[1m\u001b[92m2.850560691018229\u001b[0m\n",
            "\u001b[1m\u001b[92m15\u001b[0m\t \u001b[1m\u001b[92m[-0.48550847  0.2683863 ]\u001b[0m\t \u001b[1m\u001b[92m0.37978088045733205\u001b[0m\t \u001b[1m\u001b[92m0.37978088045733205\u001b[0m\t \u001b[1m\u001b[92m2.5746076072956887\u001b[0m\t \u001b[1m\u001b[92m2.359121474602643\u001b[0m\n",
            "\u001b[1m\u001b[92m16\u001b[0m\t \u001b[1m\u001b[92m[ 0.30917217 -0.04987462]\u001b[0m\t \u001b[1m\u001b[92m0.10056238883939071\u001b[0m\t \u001b[1m\u001b[92m0.10056238883939071\u001b[0m\t \u001b[1m\u001b[92m2.7990985346674404\u001b[0m\t \u001b[1m\u001b[92m2.719196459122104\u001b[0m\n",
            "17 \t [ 0.86273113 -0.35099498]\t 0.9906999526944799\t 0.10056238883939071\t 2.939004196555946\t 2.7150200857981246\n",
            "\u001b[1m\u001b[92m18\u001b[0m\t \u001b[1m\u001b[92m[-0.0292938   0.17784046]\u001b[0m\t \u001b[1m\u001b[92m0.0641125848544843\u001b[0m\t \u001b[1m\u001b[92m0.0641125848544843\u001b[0m\t \u001b[1m\u001b[92m2.972629515167331\u001b[0m\t \u001b[1m\u001b[92m2.750378428991439\u001b[0m\n",
            "19 \t [ 0.69432833 -0.25856259]\t 0.6158010442281462\t 0.0641125848544843\t 3.1964076338356424\t 3.120151942402985\n",
            "\u001b[1m\u001b[92m20\u001b[0m\t \u001b[1m\u001b[92m[0.00113525 0.17233779]\u001b[0m\t \u001b[1m\u001b[92m0.0594019174016072\u001b[0m\t \u001b[1m\u001b[92m0.0594019174016072\u001b[0m\t \u001b[1m\u001b[92m2.9005685623889947\u001b[0m\t \u001b[1m\u001b[92m2.4345670657460894\u001b[0m\n"
          ]
        }
      ],
      "source": [
        "### EXACT GP EI GRADIENTS\n",
        "\n",
        "np.random.seed(run_num_1)\n",
        "surrogate_exact_1 = dGaussianProcess(cov_func, optimize=opt)\n",
        "\n",
        "exact_1 = dGPGO(surrogate_exact_1, Acquisition_grad(util), objfunc, param)\n",
        "exact_1.run(init_evals=n_init, max_iter=iters)\n"
      ]
    },
    {
      "cell_type": "code",
      "execution_count": 35,
      "metadata": {
        "id": "-ilCPSAu9SAg",
        "colab": {
          "base_uri": "https://localhost:8080/"
        },
        "outputId": "458eecf2-02d7-42d6-fa42-c3b8e7c08947"
      },
      "outputs": [
        {
          "output_type": "stream",
          "name": "stdout",
          "text": [
            "Evaluation \t Proposed point \t  Current eval. \t  Best eval. \t        Exact EI: StdDev. x \t Approx EI: StdDev. x \n",
            "init\t [-0.6554122  -4.85451539]\t 47.562204422038214\t 1.1358959044973735\t    \t    \n",
            "init\t [ 0.50854377 -0.6622987 ]\t 1.1358959044973735\t 1.1358959044973735\t    \t    \n",
            "init\t [-0.81543371 -1.73737143]\t 6.7018511217540135\t 1.1358959044973735\t    \t    \n",
            "init\t [-3.02439799  1.2213347 ]\t 12.13030006303276\t 1.1358959044973735\t    \t    \n",
            "init\t [-2.05153614 -2.3876887 ]\t 15.610915224537823\t 1.1358959044973735\t    \t    \n",
            "1  \t [3.32213215 4.53005483]\t 52.07935549907307\t 1.1358959044973735\t 3.7549177066784476\t 3.824076174999771\n",
            "2  \t [ 4.84261948 -3.96515754]\t 54.895912066626664\t 1.1358959044973735\t 2.746411032496547\t 3.7424570408825257\n",
            "3  \t [-1.42046015  5.12      ]\t 54.446507034589075\t 1.1358959044973735\t 3.57545859209576\t 3.8606651655040913\n",
            "4  \t [-5.12 -5.12]\t 78.64320000000001\t 1.1358959044973735\t 3.381334591836835\t 3.712096888414012\n",
            "5  \t [5.12       0.51820891]\t 26.751480941030657\t 1.1358959044973735\t 3.229914954379799\t 3.566006364746847\n",
            "6  \t [-5.12        3.73844898]\t 54.16640155282927\t 1.1358959044973735\t 3.2364484973912195\t 3.2771563602947085\n",
            "7  \t [0.81110922 1.59440336]\t 5.74214228674765\t 1.1358959044973735\t 3.0405786022650534\t 2.9698568508631897\n",
            "8  \t [ 2.15113138 -1.56921556]\t 9.552241136058461\t 1.1358959044973735\t 2.6685241403171562\t 2.738941250148392\n",
            "9  \t [-5.12       -1.18717779]\t 29.0331822062705\t 1.1358959044973735\t 2.9313541154842433\t 3.086710806527488\n",
            "\u001b[1m\u001b[92m10\u001b[0m\t \u001b[1m\u001b[92m[-0.73850598  0.38140888]\u001b[0m\t \u001b[1m\u001b[92m0.8363365455875953\u001b[0m\t \u001b[1m\u001b[92m0.8363365455875953\u001b[0m\t \u001b[1m\u001b[92m2.980373249865847\u001b[0m\t \u001b[1m\u001b[92m2.881453231410641\u001b[0m\n",
            "11 \t [ 2.06629386 -4.71795967]\t 48.78785729939686\t 0.8363365455875953\t 2.9875838477530285\t 3.08430690776773\n",
            "12 \t [2.56307951 1.1881276 ]\t 9.39267095075799\t 0.8363365455875953\t 2.507671788534995\t 2.339458662177216\n",
            "13 \t [ 0.43734525 -0.5717122 ]\t 0.8449805469932683\t 0.8363365455875953\t 3.125919175278187\t 2.86477434651069\n",
            "\u001b[1m\u001b[92m14\u001b[0m\t \u001b[1m\u001b[92m[-0.21787543 -0.01033675]\u001b[0m\t \u001b[1m\u001b[92m0.04768340180630195\u001b[0m\t \u001b[1m\u001b[92m0.04768340180630195\u001b[0m\t \u001b[1m\u001b[92m3.093985028098366\u001b[0m\t \u001b[1m\u001b[92m2.984724485995476\u001b[0m\n",
            "15 \t [-0.55255926  0.25298393]\t 0.433323478697519\t 0.04768340180630195\t 2.852102878578495\t 2.8633354766677366\n",
            "16 \t [-0.52160595  0.22521518]\t 0.37351651665076835\t 0.04768340180630195\t 2.7397680987789284\t 2.6749964056235265\n",
            "17 \t [-0.45563569  0.17013631]\t 0.2654966066174864\t 0.04768340180630195\t 2.8467919905151744\t 2.756996264028083\n",
            "18 \t [-0.35878383  0.09649748]\t 0.14734936257086062\t 0.04768340180630195\t 2.6181093164082827\t 2.62908061524928\n",
            "19 \t [-0.41239972  0.13697158]\t 0.2075959554154746\t 0.04768340180630195\t 2.712395793889497\t 2.4711572021824746\n",
            "20 \t [-0.25645081  0.02286715]\t 0.06681283119498298\t 0.04768340180630195\t 2.874644948291448\t 2.5584113318726964\n"
          ]
        }
      ],
      "source": [
        "### EXACT GP EI GRADIENTS\n",
        "\n",
        "np.random.seed(run_num_2)\n",
        "surrogate_exact_2 = dGaussianProcess(cov_func, optimize=opt)\n",
        "\n",
        "exact_2 = dGPGO(surrogate_exact_2, Acquisition_grad(util), objfunc, param)\n",
        "exact_2.run(init_evals=n_init, max_iter=iters)\n"
      ]
    },
    {
      "cell_type": "code",
      "execution_count": 36,
      "metadata": {
        "id": "XieJ158mIvlP",
        "colab": {
          "base_uri": "https://localhost:8080/"
        },
        "outputId": "439388f6-591d-4ff3-ee09-c37026202821"
      },
      "outputs": [
        {
          "output_type": "stream",
          "name": "stdout",
          "text": [
            "Evaluation \t Proposed point \t  Current eval. \t  Best eval. \t        Exact EI: StdDev. x \t Approx EI: StdDev. x \n",
            "init\t [0.52017052 2.1314337 ]\t 9.356596638100186\t 4.609047504113831\t    \t    \n",
            "init\t [-2.14113547  0.11087468]\t 4.609047504113831\t 4.609047504113831\t    \t    \n",
            "init\t [4.02377681 4.05804123]\t 49.12617709674532\t 4.609047504113831\t    \t    \n",
            "init\t [-3.83400642 -2.99783293]\t 32.673609761904345\t 4.609047504113831\t    \t    \n",
            "init\t [-4.59297584 -0.6061072 ]\t 21.83015892853491\t 4.609047504113831\t    \t    \n",
            "1  \t [ 1.89417319 -2.95908743]\t 21.10028891518985\t 4.609047504113831\t 2.076472279670827\t 3.4770087682704136\n",
            "2  \t [-3.59288772  4.79131215]\t 58.82218642653305\t 4.609047504113831\t 3.269461946470041\t 3.6612521728101846\n",
            "3  \t [ 5.12       -0.24379158]\t 26.33326867139035\t 4.609047504113831\t 2.8939378789490577\t 3.016809830527889\n",
            "4  \t [-0.89244396 -5.11752943]\t 53.17467106486786\t 4.609047504113831\t 2.9203551363192686\t 3.01024921425249\n",
            "\u001b[1m\u001b[92m5\u001b[0m\t \u001b[1m\u001b[92m[1.97581731 0.02041657]\u001b[0m\t \u001b[1m\u001b[92m3.9046877330684198\u001b[0m\t \u001b[1m\u001b[92m3.9046877330684198\u001b[0m\t \u001b[1m\u001b[92m2.7325997271293194\u001b[0m\t \u001b[1m\u001b[92m3.231526428015147\u001b[0m\n",
            "6  \t [ 5.12       -4.57451492]\t 68.06677358046802\t 3.9046877330684198\t 3.15637569337634\t 3.7152941598634173\n",
            "7  \t [0.4021684 5.12     ]\t 52.59053941990048\t 3.9046877330684198\t 2.9189028019496583\t 2.7907661791248217\n",
            "8  \t [-5.12       2.0852461]\t 34.910902566555855\t 3.9046877330684198\t 3.0760085924924865\t 2.949457629346019\n",
            "9  \t [-5.12 -5.12]\t 78.64320000000001\t 3.9046877330684198\t 2.6292963302671657\t 2.8273945240418006\n",
            "10 \t [-1.70528903  1.89666118]\t 10.102657908046616\t 3.9046877330684198\t 2.9166333722591546\t 2.7852438665202386\n",
            "\u001b[1m\u001b[92m11\u001b[0m\t \u001b[1m\u001b[92m[-1.12510544 -0.81850386]\u001b[0m\t \u001b[1m\u001b[92m2.60575938456111\u001b[0m\t \u001b[1m\u001b[92m2.60575938456111\u001b[0m\t \u001b[1m\u001b[92m2.942458531305537\u001b[0m\t \u001b[1m\u001b[92m2.871784039889951\u001b[0m\n",
            "12 \t [-0.76095335 -1.86988975]\t 7.572025329100405\t 2.60575938456111\t 2.7125169166759058\t 2.586168569776157\n",
            "13 \t [2.69058636 1.5031059 ]\t 11.757909693073028\t 2.60575938456111\t 3.086696318051201\t 2.95941912069403\n",
            "\u001b[1m\u001b[92m14\u001b[0m\t \u001b[1m\u001b[92m[ 0.47098132 -0.27583827]\u001b[0m\t \u001b[1m\u001b[92m0.3739969043157803\u001b[0m\t \u001b[1m\u001b[92m0.3739969043157803\u001b[0m\t \u001b[1m\u001b[92m2.6712540898990396\u001b[0m\t \u001b[1m\u001b[92m2.772776253163935\u001b[0m\n",
            "15 \t [ 1.33513949 -0.76907454]\t 2.965548770740433\t 0.3739969043157803\t 2.8818234176254927\t 2.888417763443685\n",
            "16 \t [-0.53147119  0.31488499]\t 0.48076674111349504\t 0.3739969043157803\t 3.017846034693014\t 3.01839803168936\n",
            "\u001b[1m\u001b[92m17\u001b[0m\t \u001b[1m\u001b[92m[-0.10654241  0.08534302]\u001b[0m\t \u001b[1m\u001b[92m0.02591814586982811\u001b[0m\t \u001b[1m\u001b[92m0.02591814586982811\u001b[0m\t \u001b[1m\u001b[92m2.730986057114424\u001b[0m\t \u001b[1m\u001b[92m2.642288553582169\u001b[0m\n",
            "18 \t [ 0.86619125 -0.61810601]\t 1.5143973568475995\t 0.02591814586982811\t 3.2313602270581443\t 3.132758960624522\n",
            "\u001b[1m\u001b[92m19\u001b[0m\t \u001b[1m\u001b[92m[-0.05050809  0.05237761]\u001b[0m\t \u001b[1m\u001b[92m0.008037895715098942\u001b[0m\t \u001b[1m\u001b[92m0.008037895715098942\u001b[0m\t \u001b[1m\u001b[92m2.8634389400746803\u001b[0m\t \u001b[1m\u001b[92m2.6739845033044807\u001b[0m\n",
            "20 \t [ 0.22919831 -0.13956523]\t 0.09148877124501584\t 0.008037895715098942\t 2.3430602135256136\t 2.309628725207793\n"
          ]
        }
      ],
      "source": [
        "### EXACT GP EI GRADIENTS\n",
        "\n",
        "np.random.seed(run_num_3)\n",
        "surrogate_exact_3 = dGaussianProcess(cov_func, optimize=opt)\n",
        "\n",
        "exact_3 = dGPGO(surrogate_exact_3, Acquisition_grad(util), objfunc, param)\n",
        "exact_3.run(init_evals=n_init, max_iter=iters)\n"
      ]
    },
    {
      "cell_type": "code",
      "execution_count": 37,
      "metadata": {
        "id": "PhLBVOIfIvol",
        "colab": {
          "base_uri": "https://localhost:8080/"
        },
        "outputId": "1ef3b7d8-627b-4932-f274-db4c2629cc60"
      },
      "outputs": [
        {
          "output_type": "stream",
          "name": "stdout",
          "text": [
            "Evaluation \t Proposed point \t  Current eval. \t  Best eval. \t        Exact EI: StdDev. x \t Approx EI: StdDev. x \n",
            "init\t [4.78238555 0.48365823]\t 23.33906213310676\t 7.289910254474112\t    \t    \n",
            "init\t [4.84028785 2.19971578]\t 33.10588541607836\t 7.289910254474112\t    \t    \n",
            "init\t [ 2.02474316 -2.90724357]\t 21.003715175118646\t 7.289910254474112\t    \t    \n",
            "init\t [ 4.87705042 -5.05620219]\t 74.91598187475032\t 7.289910254474112\t    \t    \n",
            "init\t [-2.52946061 -0.66773471]\t 7.289910254474112\t 7.289910254474112\t    \t    \n",
            "1  \t [-1.24991102  4.53986673]\t 42.78305745034991\t 7.289910254474112\t 3.0300311369906727\t 3.7073631838685097\n",
            "2  \t [-5.12 -5.12]\t 78.64320000000001\t 7.289910254474112\t 3.813590662761409\t 3.6894233665992053\n",
            "3  \t [-1.03298682 -5.12      ]\t 53.49586176321017\t 7.289910254474112\t 3.3310275742285533\t 3.489742175939754\n",
            "\u001b[1m\u001b[92m4\u001b[0m\t \u001b[1m\u001b[92m[0.61188352 1.13404542]\u001b[0m\t \u001b[1m\u001b[92m2.9465194622747575\u001b[0m\t \u001b[1m\u001b[92m2.9465194622747575\u001b[0m\t \u001b[1m\u001b[92m3.1459565210753504\u001b[0m\t \u001b[1m\u001b[92m3.3771653696918156\u001b[0m\n",
            "5  \t [-5.12        2.27420577]\t 36.55842376168446\t 2.9465194622747575\t 2.9005585331485464\t 3.328422488599067\n",
            "6  \t [2.64525079 5.12      ]\t 59.426151719409404\t 2.9465194622747575\t 3.0693881332596087\t 3.1757795379496483\n",
            "7  \t [-5.12       -1.48654685]\t 30.6340430501509\t 2.9465194622747575\t 2.50236387917042\t 2.406927560782789\n",
            "8  \t [-0.30498694 -1.74920972]\t 6.2124862966596215\t 2.9465194622747575\t 2.7294998320857853\t 2.4127309919741493\n",
            "9  \t [-2.01826754  1.61985137]\t 9.321240771615262\t 2.9465194622747575\t 2.851530244155692\t 2.938991441504919\n",
            "10 \t [1.85305707 0.5966443 ]\t 4.1457893369956995\t 2.9465194622747575\t 3.599577567826428\t 3.5704970935959635\n",
            "11 \t [-4.06702641  5.07708366]\t 68.09426083322894\t 2.9465194622747575\t 3.2144453756882\t 3.3001409917838416\n",
            "12 \t [ 5.08861082 -1.95805329]\t 33.561905506651755\t 2.9465194622747575\t 2.9465336596781753\t 3.007087921507436\n",
            "13 \t [-2.28009394 -2.80431803]\t 20.927227578765894\t 2.9465194622747575\t 2.855386337288465\t 2.9019340399084346\n",
            "14 \t [1.13708321 2.45154629]\t 13.313116633775984\t 2.9465194622747575\t 2.6755731808152428\t 2.746174978325833\n",
            "\u001b[1m\u001b[92m15\u001b[0m\t \u001b[1m\u001b[92m[ 0.37458699 -0.13848438]\u001b[0m\t \u001b[1m\u001b[92m0.1786712600389923\u001b[0m\t \u001b[1m\u001b[92m0.1786712600389923\u001b[0m\t \u001b[1m\u001b[92m2.9405202643750576\u001b[0m\t \u001b[1m\u001b[92m2.853908521428852\u001b[0m\n",
            "\u001b[1m\u001b[92m16\u001b[0m\t \u001b[1m\u001b[92m[-0.08344305  0.14879102]\u001b[0m\t \u001b[1m\u001b[92m0.05124027608774704\u001b[0m\t \u001b[1m\u001b[92m0.05124027608774704\u001b[0m\t \u001b[1m\u001b[92m2.8509485637512872\u001b[0m\t \u001b[1m\u001b[92m2.580776878948345\u001b[0m\n",
            "17 \t [ 0.74771234 -0.36524045]\t 0.8258749068852241\t 0.05124027608774704\t 2.743365160377969\t 2.587316853025159\n",
            "18 \t [ 0.30641259 -0.13250134]\t 0.1290018852124749\t 0.05124027608774704\t 2.8578247023620893\t 2.878729778421817\n",
            "19 \t [ 0.40596949 -0.19326091]\t 0.2395107823408528\t 0.05124027608774704\t 3.1346993657336983\t 2.866723483626412\n",
            "20 \t [-0.53105803  0.55631284]\t 0.9009905744057543\t 0.05124027608774704\t 2.689475365087545\t 2.6866295815550347\n"
          ]
        }
      ],
      "source": [
        "### EXACT GP EI GRADIENTS\n",
        "\n",
        "np.random.seed(run_num_4)\n",
        "surrogate_exact_4 = dGaussianProcess(cov_func, optimize=opt)\n",
        "\n",
        "exact_4 = dGPGO(surrogate_exact_4, Acquisition_grad(util), objfunc, param)\n",
        "exact_4.run(init_evals=n_init, max_iter=iters)\n"
      ]
    },
    {
      "cell_type": "code",
      "execution_count": 38,
      "metadata": {
        "id": "arbiPyj2IvsJ",
        "colab": {
          "base_uri": "https://localhost:8080/"
        },
        "outputId": "8e0c5df3-7910-4ef1-cb50-dee640d037b8"
      },
      "outputs": [
        {
          "output_type": "stream",
          "name": "stdout",
          "text": [
            "Evaluation \t Proposed point \t  Current eval. \t  Best eval. \t        Exact EI: StdDev. x \t Approx EI: StdDev. x \n",
            "init\t [-2.84678993  3.79629882]\t 36.927982283829365\t 2.6327313115208373\t    \t    \n",
            "init\t [-3.00319585  4.2865757 ]\t 45.76864772649561\t 2.6327313115208373\t    \t    \n",
            "init\t [-0.11866943  1.14425716]\t 2.6327313115208373\t 2.6327313115208373\t    \t    \n",
            "init\t [2.72289645 0.1886002 ]\t 7.485305147100433\t 2.6327313115208373\t    \t    \n",
            "init\t [-2.08076286 -3.19773462]\t 24.780587476435763\t 2.6327313115208373\t    \t    \n",
            "1  \t [ 4.32895605 -5.09732646]\t 70.70533460957368\t 2.6327313115208373\t 4.382642715147303\t 4.314736178097342\n",
            "2  \t [5.12 5.12]\t 78.64320000000001\t 2.6327313115208373\t 4.187047443019686\t 3.7471099157330143\n",
            "3  \t [-5.12      -0.2720871]\t 26.362462780890347\t 2.6327313115208373\t 3.370221960227219\t 3.6379310081303258\n",
            "4  \t [0.98695828 5.12      ]\t 53.402886638448244\t 2.6327313115208373\t 3.380308301808934\t 3.352766226937258\n",
            "5  \t [-5.12 -5.12]\t 78.64320000000001\t 2.6327313115208373\t 3.2208964161067057\t 3.3712023701295255\n",
            "6  \t [ 1.33363578 -2.6316441 ]\t 15.62968573247111\t 2.6327313115208373\t 3.227438194224578\t 3.394841834503498\n",
            "7  \t [5.12       1.38617846]\t 30.05738143437875\t 2.6327313115208373\t 2.5427685436811847\t 2.822850032333535\n",
            "8  \t [ 5.12       -1.71134082]\t 32.07177479311785\t 2.6327313115208373\t 3.101351540551788\t 3.166130122198281\n",
            "9  \t [-1.94551102  0.1205563 ]\t 3.814080782387692\t 2.6327313115208373\t 2.7167701914354487\t 2.9381929998624488\n",
            "10 \t [0.67966555 2.17368731]\t 9.91177831942241\t 2.6327313115208373\t 2.8014076633123137\t 2.8875247012583913\n",
            "11 \t [ 0.29915066 -5.12      ]\t 52.51829112015228\t 2.6327313115208373\t 2.884433107873771\t 2.726846690366102\n",
            "12 \t [-5.12        2.15916285]\t 35.53836840785803\t 2.6327313115208373\t 2.510348793444955\t 2.566267979528888\n",
            "\u001b[1m\u001b[92m13\u001b[0m\t \u001b[1m\u001b[92m[ 0.70450423 -0.60604767]\u001b[0m\t \u001b[1m\u001b[92m1.2309137582583518\u001b[0m\t \u001b[1m\u001b[92m1.2309137582583518\u001b[0m\t \u001b[1m\u001b[92m2.9253557863711843\u001b[0m\t \u001b[1m\u001b[92m2.8082391054919156\u001b[0m\n",
            "\u001b[1m\u001b[92m14\u001b[0m\t \u001b[1m\u001b[92m[-0.1131331  -0.56221932]\u001b[0m\t \u001b[1m\u001b[92m0.6449802262049787\u001b[0m\t \u001b[1m\u001b[92m0.6449802262049787\u001b[0m\t \u001b[1m\u001b[92m2.420022535730126\u001b[0m\t \u001b[1m\u001b[92m2.1357541235852104\u001b[0m\n",
            "\u001b[1m\u001b[92m15\u001b[0m\t \u001b[1m\u001b[92m[-0.03405597 -0.48823203]\u001b[0m\t \u001b[1m\u001b[92m0.47790084208818784\u001b[0m\t \u001b[1m\u001b[92m0.47790084208818784\u001b[0m\t \u001b[1m\u001b[92m2.714343899628183\u001b[0m\t \u001b[1m\u001b[92m2.5942858385723584\u001b[0m\n",
            "16 \t [ 0.03605949 -0.5115688 ]\t 0.5247055535505905\t 0.47790084208818784\t 2.678363136316511\t 2.8706241546484215\n",
            "\u001b[1m\u001b[92m17\u001b[0m\t \u001b[1m\u001b[92m[-0.13516652 -0.41974692]\u001b[0m\t \u001b[1m\u001b[92m0.3706449471408033\u001b[0m\t \u001b[1m\u001b[92m0.3706449471408033\u001b[0m\t \u001b[1m\u001b[92m2.701920470951438\u001b[0m\t \u001b[1m\u001b[92m2.4534915021039256\u001b[0m\n",
            "18 \t [ 0.0196557  -0.49611226]\t 0.4926410902655736\t 0.3706449471408033\t 2.5938755664660555\t 2.6917371521522364\n",
            "19 \t [-0.1172293  -0.43812311]\t 0.39764643404003114\t 0.3706449471408033\t 2.6250891820558007\t 2.7029282535841546\n",
            "20 \t [ 0.03373299 -0.49548623]\t 0.4921511290298315\t 0.3706449471408033\t 2.9028041562695246\t 3.0142994616322847\n"
          ]
        }
      ],
      "source": [
        "### EXACT GP EI GRADIENTS\n",
        "\n",
        "np.random.seed(run_num_5)\n",
        "surrogate_exact_5 = dGaussianProcess(cov_func, optimize=opt)\n",
        "\n",
        "exact_5 = dGPGO(surrogate_exact_5, Acquisition_grad(util), objfunc, param)\n",
        "exact_5.run(init_evals=n_init, max_iter=iters)\n"
      ]
    },
    {
      "cell_type": "code",
      "execution_count": 39,
      "metadata": {
        "id": "04KJCEm_Ivvf",
        "colab": {
          "base_uri": "https://localhost:8080/"
        },
        "outputId": "f0b20cd4-f510-4a93-f23e-64da4393f367"
      },
      "outputs": [
        {
          "output_type": "stream",
          "name": "stdout",
          "text": [
            "Evaluation \t Proposed point \t  Current eval. \t  Best eval. \t        Exact EI: StdDev. x \t Approx EI: StdDev. x \n",
            "init\t [ 4.02288795 -1.72052679]\t 22.104052359713652\t 1.4757178799086357\t    \t    \n",
            "init\t [ 3.28938622 -4.69302655]\t 54.869058151382724\t 1.4757178799086357\t    \t    \n",
            "init\t [-4.0175956   0.97333314]\t 18.035829177697114\t 1.4757178799086357\t    \t    \n",
            "init\t [ 0.30532979 -0.83141193]\t 1.4757178799086357\t 1.4757178799086357\t    \t    \n",
            "init\t [-1.68542362  1.25459899]\t 5.988690020231891\t 1.4757178799086357\t    \t    \n",
            "1  \t [2.06086637 5.12      ]\t 56.675970205485946\t 1.4757178799086357\t 3.8416770012664117\t 3.8468393088124397\n",
            "2  \t [-3.28823637 -5.12      ]\t 63.24129840140817\t 1.4757178799086357\t 3.685868671612894\t 3.7900022947837626\n",
            "3  \t [-3.02006475  5.12      ]\t 61.54959106817005\t 1.4757178799086357\t 3.4459536931153427\t 3.43661427680899\n",
            "4  \t [5.12       2.19976289]\t 35.89231352133247\t 1.4757178799086357\t 3.2284238570212485\t 3.2852742636183305\n",
            "5  \t [1.70975205 1.11324075]\t 5.401862013601672\t 1.4757178799086357\t 2.693197127919279\t 2.4036078209239835\n",
            "6  \t [-5.12       -2.03797587]\t 34.521091286838\t 1.4757178799086357\t 3.2254431738377414\t 3.412280167059101\n",
            "7  \t [-0.11854786 -3.17136897]\t 20.12921583065242\t 1.4757178799086357\t 3.127004749466169\t 3.2079673576618326\n",
            "8  \t [5.12 5.12]\t 78.64320000000001\t 1.4757178799086357\t 3.040978593674266\t 3.2646318012231816\n",
            "9  \t [-0.09309569  2.75988927]\t 15.242644330521294\t 1.4757178799086357\t 2.7880845703736017\t 2.5458388778885954\n",
            "10 \t [-2.0775632  -1.08159603]\t 6.655968791417602\t 1.4757178799086357\t 2.7826051260856755\t 2.7748764867885094\n",
            "11 \t [ 1.5863199  -1.13915055]\t 5.111738758004513\t 1.4757178799086357\t 3.1605568430075963\t 3.1669071544703624\n",
            "\u001b[1m\u001b[92m12\u001b[0m\t \u001b[1m\u001b[92m[ 0.23040909 -0.46449694]\u001b[0m\t \u001b[1m\u001b[92m0.48460315674371524\u001b[0m\t \u001b[1m\u001b[92m0.48460315674371524\u001b[0m\t \u001b[1m\u001b[92m2.7921458482391506\u001b[0m\t \u001b[1m\u001b[92m3.1057315686567204\u001b[0m\n",
            "\u001b[1m\u001b[92m13\u001b[0m\t \u001b[1m\u001b[92m[-0.10710437 -0.11000362]\u001b[0m\t \u001b[1m\u001b[92m0.035672937944424304\u001b[0m\t \u001b[1m\u001b[92m0.035672937944424304\u001b[0m\t \u001b[1m\u001b[92m2.6281652481449154\u001b[0m\t \u001b[1m\u001b[92m2.8013032745368016\u001b[0m\n",
            "14 \t [-4.81175402  2.6928045 ]\t 37.65536886656009\t 0.035672937944424304\t 2.990410499712659\t 2.9995746360102338\n",
            "15 \t [ 0.58256838 -0.65795193]\t 1.2051874083080047\t 0.035672937944424304\t 2.946715547030425\t 2.8646393313415914\n",
            "16 \t [-0.54352858  0.28124737]\t 0.4536234852108084\t 0.035672937944424304\t 2.833225612693064\t 2.741492554873845\n",
            "17 \t [ 0.28608807 -0.48350849]\t 0.5494073042813525\t 0.035672937944424304\t 3.3750779082919022\t 3.399299287807381\n",
            "18 \t [-1.01276296  0.54681409]\t 1.623700114794455\t 0.035672937944424304\t 2.936325628596479\t 3.0551446092482712\n",
            "19 \t [ 0.20937508 -5.12      ]\t 52.47263792485873\t 0.035672937944424304\t 3.0762745235323985\t 3.199024016810104\n",
            "20 \t [ 0.02299309 -0.2791795 ]\t 0.15641106594170734\t 0.035672937944424304\t 2.8203727218885217\t 3.0285073529646613\n"
          ]
        }
      ],
      "source": [
        "### EXACT GP EI GRADIENTS\n",
        "\n",
        "np.random.seed(run_num_6)\n",
        "surrogate_exact_6 = dGaussianProcess(cov_func, optimize=opt)\n",
        "\n",
        "exact_6 = dGPGO(surrogate_exact_6, Acquisition_grad(util), objfunc, param)\n",
        "exact_6.run(init_evals=n_init, max_iter=iters)\n"
      ]
    },
    {
      "cell_type": "code",
      "execution_count": 40,
      "metadata": {
        "id": "tAOkme3CIvyO",
        "colab": {
          "base_uri": "https://localhost:8080/"
        },
        "outputId": "b25de752-2137-4e24-bde7-7a91de2548a4"
      },
      "outputs": [
        {
          "output_type": "stream",
          "name": "stdout",
          "text": [
            "Evaluation \t Proposed point \t  Current eval. \t  Best eval. \t        Exact EI: StdDev. x \t Approx EI: StdDev. x \n",
            "init\t [-4.33860312  2.86636843]\t 35.25561298730891\t 5.622520458601941\t    \t    \n",
            "init\t [-0.63068947  2.28828342]\t 10.870251237170722\t 5.622520458601941\t    \t    \n",
            "init\t [4.8946126  0.39419771]\t 24.268016205804518\t 5.622520458601941\t    \t    \n",
            "init\t [ 0.01147355 -4.38219639]\t 38.407422120416236\t 5.622520458601941\t    \t    \n",
            "init\t [-2.37118484e+00 -1.20319155e-03]\t 5.622520458601941\t 5.622520458601941\t    \t    \n",
            "1  \t [-5.12 -5.12]\t 78.64320000000001\t 5.622520458601941\t 2.8691555916355957\t 3.3352192661956352\n",
            "2  \t [3.4880754 5.12     ]\t 64.59546999369124\t 5.622520458601941\t 3.815054832944287\t 3.889017718257724\n",
            "3  \t [ 4.6010169  -4.08991847]\t 54.624222677334075\t 5.622520458601941\t 3.365457943913466\t 3.598294309052849\n",
            "4  \t [-4.02558214 -1.33646422]\t 19.777584798449002\t 5.622520458601941\t 2.8896328280322723\t 2.9112198792603814\n",
            "\u001b[1m\u001b[92m5\u001b[0m\t \u001b[1m\u001b[92m[ 1.26775569 -0.69604963]\u001b[0m\t \u001b[1m\u001b[92m2.5761746467908044\u001b[0m\t \u001b[1m\u001b[92m2.5761746467908044\u001b[0m\t \u001b[1m\u001b[92m3.16225106883148\u001b[0m\t \u001b[1m\u001b[92m3.1729372101100646\u001b[0m\n",
            "6  \t [0.29698982 4.69031975]\t 44.08640159390478\t 2.5761746467908044\t 3.201009367838643\t 3.385781205497253\n",
            "7  \t [1.9005175 1.9714942]\t 11.385545542240559\t 2.5761746467908044\t 2.455441786364721\t 2.7077289065889425\n",
            "8  \t [-2.67219689  5.12      ]\t 59.56943624080254\t 2.5761746467908044\t 2.8531656010670634\t 2.9451048574229217\n",
            "\u001b[1m\u001b[92m9\u001b[0m\t \u001b[1m\u001b[92m[-0.65777892 -0.72650695]\u001b[0m\t \u001b[1m\u001b[92m1.4882977918844604\u001b[0m\t \u001b[1m\u001b[92m1.4882977918844604\u001b[0m\t \u001b[1m\u001b[92m3.102106846533938\u001b[0m\t \u001b[1m\u001b[92m3.202432760254692\u001b[0m\n",
            "10 \t [ 2.04273011 -1.60617634]\t 9.332351141555382\t 1.4882977918844604\t 3.0025868198029073\t 3.0668303416265434\n",
            "11 \t [-0.10210749 -1.65253683]\t 5.472181902755103\t 1.4882977918844604\t 2.871220370411327\t 2.9529282719844283\n",
            "12 \t [-1.18169562  0.48877794]\t 1.8742122936314032\t 1.4882977918844604\t 3.156253614884622\t 3.255712075765948\n",
            "13 \t [5.12      2.8456549]\t 42.40990363600052\t 1.4882977918844604\t 3.1331621344194183\t 3.06014996436397\n",
            "14 \t [-2.46995415 -3.35422077]\t 28.602267391691854\t 1.4882977918844604\t 2.5313733787639663\t 2.6734884094170974\n",
            "\u001b[1m\u001b[92m15\u001b[0m\t \u001b[1m\u001b[92m[0.27466322 0.0828577 ]\u001b[0m\t \u001b[1m\u001b[92m0.08917067957118488\u001b[0m\t \u001b[1m\u001b[92m0.08917067957118488\u001b[0m\t \u001b[1m\u001b[92m3.195527470098522\u001b[0m\t \u001b[1m\u001b[92m3.3880391812586574\u001b[0m\n",
            "16 \t [-0.15008931  0.22553877]\t 0.1242622770024361\t 0.08917067957118488\t 2.4934736102161206\t 2.4702958106443873\n",
            "17 \t [ 0.70392718 -0.05582599]\t 0.501746558828016\t 0.08917067957118488\t 2.3564140059952634\t 2.189598627917331\n",
            "18 \t [-0.34601519  0.29419679]\t 0.2928300135822294\t 0.08917067957118488\t 3.2067203177874832\t 3.340794623611633\n",
            "\u001b[1m\u001b[92m19\u001b[0m\t \u001b[1m\u001b[92m[0.282299   0.06781412]\u001b[0m\t \u001b[1m\u001b[92m0.0888902357439401\u001b[0m\t \u001b[1m\u001b[92m0.0888902357439401\u001b[0m\t \u001b[1m\u001b[92m3.060371823004365\u001b[0m\t \u001b[1m\u001b[92m2.9834260739529594\u001b[0m\n",
            "20 \t [0.35996265 0.0404819 ]\t 0.1328506801364836\t 0.0888902357439401\t 2.9417842785917663\t 2.8460770943000453\n"
          ]
        }
      ],
      "source": [
        "### EXACT GP EI GRADIENTS\n",
        "\n",
        "np.random.seed(run_num_7)\n",
        "surrogate_exact_7 = dGaussianProcess(cov_func, optimize=opt)\n",
        "\n",
        "exact_7 = dGPGO(surrogate_exact_7, Acquisition_grad(util), objfunc, param)\n",
        "exact_7.run(init_evals=n_init, max_iter=iters)\n"
      ]
    },
    {
      "cell_type": "code",
      "execution_count": 41,
      "metadata": {
        "id": "69-J3EF4Iv1S",
        "colab": {
          "base_uri": "https://localhost:8080/"
        },
        "outputId": "1bd52e96-2d00-4d72-89da-976577314c05"
      },
      "outputs": [
        {
          "output_type": "stream",
          "name": "stdout",
          "text": [
            "Evaluation \t Proposed point \t  Current eval. \t  Best eval. \t        Exact EI: StdDev. x \t Approx EI: StdDev. x \n",
            "init\t [3.82391708 4.79785639]\t 60.661193695854244\t 0.1518306274298758\t    \t    \n",
            "init\t [3.78055209 0.31596228]\t 14.492238445440277\t 0.1518306274298758\t    \t    \n",
            "init\t [-2.73686192 -5.00327624]\t 57.555959528959804\t 0.1518306274298758\t    \t    \n",
            "init\t [-0.7119993  -0.99992207]\t 2.506631309190485\t 0.1518306274298758\t    \t    \n",
            "init\t [ 0.23218863 -0.22126801]\t 0.1518306274298758\t 0.1518306274298758\t    \t    \n",
            "1  \t [0.01531251 1.98067655]\t 7.84639365364787\t 0.1518306274298758\t 3.008513641429898\t 3.7504054262196407\n",
            "2  \t [-5.03492225  2.95509263]\t 42.81558690689544\t 0.1518306274298758\t 3.0714161315400514\t 3.586426589113463\n",
            "3  \t [-4.82654641 -0.9188738 ]\t 24.984208427964198\t 0.1518306274298758\t 2.854548772224619\t 3.2035685288678355\n",
            "4  \t [ 2.61809782 -4.65256696]\t 50.14719479954936\t 0.1518306274298758\t 3.1315949102678755\t 3.6148137113952705\n",
            "5  \t [-0.10067376  5.12      ]\t 52.43893520684074\t 0.1518306274298758\t 3.0534382829989855\t 3.0175225321270225\n",
            "6  \t [ 5.12      -2.4063047]\t 37.79500460046856\t 0.1518306274298758\t 3.0560502369377778\t 2.9797954488761516\n",
            "7  \t [ 1.54947592 -1.64018332]\t 7.781278289947883\t 0.1518306274298758\t 2.9112630253372243\t 2.894270505919087\n",
            "8  \t [-2.153243    0.63258616]\t 5.436785926452743\t 0.1518306274298758\t 3.18168896282675\t 3.0873197901591425\n",
            "9  \t [-0.56793814 -2.79606644]\t 15.958528839983463\t 0.1518306274298758\t 2.690199599775076\t 3.0027671358712937\n",
            "10 \t [0.8467903  0.16392612]\t 0.7707973552415908\t 0.1518306274298758\t 3.147102890385261\t 2.968191295418179\n",
            "11 \t [5.12       2.32583242]\t 37.03339292285835\t 0.1518306274298758\t 2.7907423003647542\t 3.005512510904049\n",
            "12 \t [-2.2298213   3.04697106]\t 23.54016834631083\t 0.1518306274298758\t 2.4590145766805236\t 2.4135766641643626\n",
            "13 \t [-5.12       -3.69402485]\t 53.50603912331401\t 0.1518306274298758\t 2.7042795314423222\t 2.60949474086755\n",
            "14 \t [-0.45760461  0.10047107]\t 0.2295908480323312\t 0.1518306274298758\t 2.920893437287385\t 2.843021689147751\n",
            "15 \t [1.98019013 2.05073078]\t 12.33214645681\t 0.1518306274298758\t 2.7637127275130493\t 2.5205879671155405\n",
            "16 \t [-0.42524558  0.12287033]\t 0.21102804284752408\t 0.1518306274298758\t 2.775909330163613\t 2.995338967448432\n",
            "17 \t [-0.91125302  0.31540199]\t 1.0293389031686728\t 0.1518306274298758\t 3.0338669303129717\t 3.109062811076599\n",
            "18 \t [ 0.33756574 -0.15528262]\t 0.16217601455855007\t 0.1518306274298758\t 3.025626518099316\t 3.2094613121245317\n",
            "\u001b[1m\u001b[92m19\u001b[0m\t \u001b[1m\u001b[92m[ 0.12064317 -0.08489069]\u001b[0m\t \u001b[1m\u001b[92m0.028967632594888597\u001b[0m\t \u001b[1m\u001b[92m0.028967632594888597\u001b[0m\t \u001b[1m\u001b[92m2.4821507162324337\u001b[0m\t \u001b[1m\u001b[92m2.588290124506071\u001b[0m\n",
            "20 \t [-0.30239517  0.08344858]\t 0.10537017259637738\t 0.028967632594888597\t 2.602677554719808\t 3.1123027074155285\n"
          ]
        }
      ],
      "source": [
        "### EXACT GP EI GRADIENTS\n",
        "\n",
        "np.random.seed(run_num_8)\n",
        "surrogate_exact_8 = dGaussianProcess(cov_func, optimize=opt)\n",
        "\n",
        "exact_8 = dGPGO(surrogate_exact_8, Acquisition_grad(util), objfunc, param)\n",
        "exact_8.run(init_evals=n_init, max_iter=iters)\n"
      ]
    },
    {
      "cell_type": "code",
      "execution_count": 42,
      "metadata": {
        "id": "vonm9jyuIv4t",
        "colab": {
          "base_uri": "https://localhost:8080/"
        },
        "outputId": "18a68a16-7a6c-46ae-dd83-69b670bc871b"
      },
      "outputs": [
        {
          "output_type": "stream",
          "name": "stdout",
          "text": [
            "Evaluation \t Proposed point \t  Current eval. \t  Best eval. \t        Exact EI: StdDev. x \t Approx EI: StdDev. x \n",
            "init\t [-5.01376866  0.01919582]\t 25.138613177506063\t 14.00341364504739\t    \t    \n",
            "init\t [-0.04328148 -3.74958562]\t 28.12065798163534\t 14.00341364504739\t    \t    \n",
            "init\t [-3.66478248 -2.88195916]\t 30.04200788009657\t 14.00341364504739\t    \t    \n",
            "init\t [-0.83447623 -2.57944404]\t 14.00341364504739\t 14.00341364504739\t    \t    \n",
            "init\t [-4.25922917 -1.58209393]\t 23.14707552082245\t 14.00341364504739\t    \t    \n",
            "1  \t [3.69491889 4.82146316]\t 60.145439711826235\t 14.00341364504739\t 2.9505328174728866\t 3.0903516416444137\n",
            "2  \t [ 4.96406013 -1.11975394]\t 27.149590733517183\t 14.00341364504739\t 3.125045339429184\t 3.890513451691863\n",
            "3  \t [-1.78855616  4.30395515]\t 40.2469929926409\t 14.00341364504739\t 2.564197338123061\t 3.9629867202101767\n",
            "\u001b[1m\u001b[92m4\u001b[0m\t \u001b[1m\u001b[92m[1.20597829 0.92904739]\u001b[0m\t \u001b[1m\u001b[92m3.1806417260870576\u001b[0m\t \u001b[1m\u001b[92m3.1806417260870576\u001b[0m\t \u001b[1m\u001b[92m2.940507408538067\u001b[0m\t \u001b[1m\u001b[92m3.203062346965135\u001b[0m\n",
            "5  \t [3.24331757 1.57701132]\t 15.493038254202258\t 3.1806417260870576\t 3.0768797014035187\t 3.3858662928095\n",
            "6  \t [-4.83300001  3.04452038]\t 41.89609780347092\t 3.1806417260870576\t 2.6700159266624834\t 2.807532153409731\n",
            "\u001b[1m\u001b[92m7\u001b[0m\t \u001b[1m\u001b[92m[-1.16219089  0.42149569]\u001b[0m\t \u001b[1m\u001b[92m1.7060049137692128\u001b[0m\t \u001b[1m\u001b[92m1.7060049137692128\u001b[0m\t \u001b[1m\u001b[92m2.599433392369127\u001b[0m\t \u001b[1m\u001b[92m2.8776136683643903\u001b[0m\n",
            "8  \t [ 2.90769468 -3.39147545]\t 31.45889982632032\t 1.7060049137692128\t 2.6581693204908468\t 2.9804027764638996\n",
            "9  \t [ 1.01151437 -0.67563639]\t 1.936130385775885\t 1.7060049137692128\t 2.9442621293193594\t 2.8455526798887503\n",
            "10 \t [-5.12 -5.12]\t 78.64320000000001\t 1.7060049137692128\t 2.656363291971722\t 2.886066028651805\n",
            "11 \t [0.82629683 2.79696006]\t 16.328737617890503\t 1.7060049137692128\t 2.8300995564674754\t 3.249098996856381\n",
            "12 \t [-2.27210735  1.21396486]\t 8.109893197731036\t 1.7060049137692128\t 2.8985269815066084\t 2.9637403521851438\n",
            "\u001b[1m\u001b[92m13\u001b[0m\t \u001b[1m\u001b[92m[-0.06426169 -0.20306701]\u001b[0m\t \u001b[1m\u001b[92m0.08660198705077539\u001b[0m\t \u001b[1m\u001b[92m0.08660198705077539\u001b[0m\t \u001b[1m\u001b[92m2.184220703146063\u001b[0m\t \u001b[1m\u001b[92m2.128546629264971\u001b[0m\n",
            "14 \t [-0.04413687 -0.21868018]\t 0.09759010530436724\t 0.08660198705077539\t 2.6629967368832763\t 2.7666144108764006\n",
            "15 \t [-0.46223561  0.10515469]\t 0.23577677868260818\t 0.08660198705077539\t 2.8679537934083625\t 2.584532718828139\n",
            "\u001b[1m\u001b[92m16\u001b[0m\t \u001b[1m\u001b[92m[-0.08449805 -0.19583221]\u001b[0m\t \u001b[1m\u001b[92m0.08384042847086241\u001b[0m\t \u001b[1m\u001b[92m0.08384042847086241\u001b[0m\t \u001b[1m\u001b[92m2.895118996112492\u001b[0m\t \u001b[1m\u001b[92m3.4144202773617987\u001b[0m\n",
            "17 \t [ 0.09092446 -0.29372045]\t 0.18081066726972075\t 0.08384042847086241\t 2.7215276506851063\t 3.1082521606812294\n",
            "18 \t [-0.28746879 -0.05982011]\t 0.08979519546266895\t 0.08384042847086241\t 2.7456199956240988\t 3.0128338552557494\n",
            "19 \t [-0.04124462 -0.22222927]\t 0.10047281703542135\t 0.08384042847086241\t 3.015958143732529\t 3.132565693187625\n",
            "20 \t [ 0.09897686 -0.29623344]\t 0.18530492212359395\t 0.08384042847086241\t 3.151025894749049\t 3.4945271833591045\n"
          ]
        }
      ],
      "source": [
        "### EXACT GP EI GRADIENTS\n",
        "\n",
        "np.random.seed(run_num_9)\n",
        "surrogate_exact_9 = dGaussianProcess(cov_func, optimize=opt)\n",
        "\n",
        "exact_9 = dGPGO(surrogate_exact_9, Acquisition_grad(util), objfunc, param)\n",
        "exact_9.run(init_evals=n_init, max_iter=iters)\n"
      ]
    },
    {
      "cell_type": "code",
      "execution_count": 43,
      "metadata": {
        "id": "6amuYlUdIv7r",
        "colab": {
          "base_uri": "https://localhost:8080/"
        },
        "outputId": "fe648833-8e27-434b-a1f2-7b2c2e53bd7a"
      },
      "outputs": [
        {
          "output_type": "stream",
          "name": "stdout",
          "text": [
            "Evaluation \t Proposed point \t  Current eval. \t  Best eval. \t        Exact EI: StdDev. x \t Approx EI: StdDev. x \n",
            "init\t [ 2.77832339 -4.90750004]\t 55.886194099964676\t 14.855028828430257\t    \t    \n",
            "init\t [1.36855793 2.54775176]\t 14.855028828430257\t 14.855028828430257\t    \t    \n",
            "init\t [-0.01528819 -2.81808235]\t 15.883409988980564\t 14.855028828430257\t    \t    \n",
            "init\t [-3.09183626  2.66783449]\t 23.79413325191142\t 14.855028828430257\t    \t    \n",
            "init\t [-3.38830503 -4.2154003 ]\t 47.019810427389544\t 14.855028828430257\t    \t    \n",
            "1  \t [ 5.12       -0.35866086]\t 26.471675222199902\t 14.855028828430257\t 3.47443556369513\t 3.6228821944794967\n",
            "2  \t [5.12 5.12]\t 78.64320000000001\t 14.855028828430257\t 3.1453174079829935\t 3.402034441322415\n",
            "3  \t [-4.19726897 -0.7077178 ]\t 18.618795755747122\t 14.855028828430257\t 2.8112628003698763\t 3.3386494667637794\n",
            "4  \t [-0.62861629  5.12      ]\t 52.82395844246955\t 14.855028828430257\t 3.338826959189299\t 3.465584635320978\n",
            "\u001b[1m\u001b[92m5\u001b[0m\t \u001b[1m\u001b[92m[ 2.04769915 -0.72709423]\u001b[0m\t \u001b[1m\u001b[92m5.250403860510397\u001b[0m\t \u001b[1m\u001b[92m5.250403860510397\u001b[0m\t \u001b[1m\u001b[92m3.103052267324103\u001b[0m\t \u001b[1m\u001b[92m2.979055767830308\u001b[0m\n",
            "\u001b[1m\u001b[92m6\u001b[0m\t \u001b[1m\u001b[92m[-1.18540838  0.5293246 ]\u001b[0m\t \u001b[1m\u001b[92m1.9655620897449992\u001b[0m\t \u001b[1m\u001b[92m1.9655620897449992\u001b[0m\t \u001b[1m\u001b[92m3.106582304484976\u001b[0m\t \u001b[1m\u001b[92m3.1169447572741014\u001b[0m\n",
            "7  \t [4.14434501 2.07981155]\t 25.82682771245281\t 1.9655620897449992\t 3.0480119431723383\t 2.965860070573865\n",
            "\u001b[1m\u001b[92m8\u001b[0m\t \u001b[1m\u001b[92m[ 0.05567542 -0.08630905]\u001b[0m\t \u001b[1m\u001b[92m0.017998256149381397\u001b[0m\t \u001b[1m\u001b[92m0.017998256149381397\u001b[0m\t \u001b[1m\u001b[92m2.8662713875685575\u001b[0m\t \u001b[1m\u001b[92m3.4559229654287202\u001b[0m\n",
            "9  \t [-0.87162822 -5.12      ]\t 53.188535759404665\t 0.017998256149381397\t 3.2066250949610935\t 3.2990818772568704\n",
            "10 \t [ 0.47011379 -0.41624592]\t 0.5675283121761305\t 0.017998256149381397\t 3.029367028048619\t 3.192913864486296\n",
            "11 \t [ 0.15234252 -0.18788466]\t 0.09380953518517304\t 0.017998256149381397\t 2.5632376307829206\t 2.9757221300278682\n",
            "\u001b[1m\u001b[92m12\u001b[0m\t \u001b[1m\u001b[92m[-0.04480602 -0.04182286]\u001b[0m\t \u001b[1m\u001b[92m0.005505883378946771\u001b[0m\t \u001b[1m\u001b[92m0.005505883378946771\u001b[0m\t \u001b[1m\u001b[92m3.0445517245124933\u001b[0m\t \u001b[1m\u001b[92m3.3785657612785363\u001b[0m\n",
            "13 \t [ 5.11041102 -3.14442505]\t 45.89111854774538\t 0.005505883378946771\t 2.8348960171958177\t 3.379036035110434\n",
            "14 \t [ 0.10385362 -0.15498806]\t 0.058828168921487366\t 0.005505883378946771\t 2.8509797232962155\t 3.31996389063396\n",
            "15 \t [-0.26052842  0.17085   ]\t 0.12625450501710048\t 0.005505883378946771\t 3.139078672947763\t 3.0342864311297633\n",
            "16 \t [-0.19041568  0.10472997]\t 0.05819486443609398\t 0.005505883378946771\t 3.1731920979868002\t 3.019615897588052\n",
            "17 \t [-0.10604992  0.00523637]\t 0.011301424213691118\t 0.005505883378946771\t 2.892736055090614\t 3.3667836648342147\n",
            "18 \t [-0.21772537  0.11843583]\t 0.07545842824592594\t 0.005505883378946771\t 2.7522598696780882\t 2.835703324473796\n",
            "19 \t [-0.08905188 -0.00478462]\t 0.007976022626016275\t 0.005505883378946771\t 2.5549358172703527\t 2.471067442671808\n",
            "20 \t [ 0.03067055 -0.09779255]\t 0.020067448443376698\t 0.005505883378946771\t 3.1952521115197468\t 3.3532106974330906\n"
          ]
        }
      ],
      "source": [
        "### EXACT GP EI GRADIENTS\n",
        "\n",
        "np.random.seed(run_num_10)\n",
        "surrogate_exact_10 = dGaussianProcess(cov_func, optimize=opt)\n",
        "\n",
        "exact_10 = dGPGO(surrogate_exact_10, Acquisition_grad(util), objfunc, param)\n",
        "exact_10.run(init_evals=n_init, max_iter=iters)\n"
      ]
    },
    {
      "cell_type": "code",
      "execution_count": 44,
      "metadata": {
        "id": "VwbLIP9cIv-F",
        "colab": {
          "base_uri": "https://localhost:8080/"
        },
        "outputId": "93b017bc-bb71-48ca-f5fb-59cf117cc31a"
      },
      "outputs": [
        {
          "output_type": "stream",
          "name": "stdout",
          "text": [
            "Evaluation \t Proposed point \t  Current eval. \t  Best eval. \t        Exact EI: StdDev. x \t Approx EI: StdDev. x \n",
            "init\t [-3.27403839 -4.92057353]\t 59.14341502486697\t 0.7122141741228657\t    \t    \n",
            "init\t [-0.37664229  2.30332343]\t 10.752457105378047\t 0.7122141741228657\t    \t    \n",
            "init\t [-0.81711509 -0.14922651]\t 0.7122141741228657\t 0.7122141741228657\t    \t    \n",
            "init\t [-4.98912446 -0.12931474]\t 24.924807467825406\t 0.7122141741228657\t    \t    \n",
            "init\t [4.52410012 3.59214172]\t 46.27444610017016\t 0.7122141741228657\t    \t    \n",
            "1  \t [ 3.03550212 -4.46785095]\t 49.13765732819627\t 0.7122141741228657\t 2.7853058687911303\t 3.8323100482295045\n",
            "2  \t [ 4.96322751 -0.59477664]\t 25.341145829973858\t 0.7122141741228657\t 2.3373856767179495\t 3.2393593486887156\n",
            "3  \t [-1.19896852  5.12      ]\t 53.86632550764566\t 0.7122141741228657\t 3.1455023906221657\t 3.48298761775087\n",
            "4  \t [ 1.28276129 -1.21579272]\t 4.60178040345148\t 0.7122141741228657\t 2.4553682653146263\t 2.358498137490537\n",
            "5  \t [-1.69920169 -1.61823485]\t 8.124654421345673\t 0.7122141741228657\t 2.7892250995889905\t 2.9291656611485823\n",
            "6  \t [-3.56030189  2.61220386]\t 26.322967523874496\t 0.7122141741228657\t 2.8196899187329807\t 3.784864387375264\n",
            "7  \t [-0.09948104 -5.12      ]\t 52.43869647827384\t 0.7122141741228657\t 3.169147469542732\t 3.3096839819089423\n",
            "8  \t [2.35210849 0.95612286]\t 7.360756198442704\t 0.7122141741228657\t 2.8414919079757683\t 2.8506258930215\n",
            "9  \t [1.69649364 3.88360155]\t 33.04281269257835\t 0.7122141741228657\t 3.0506792633238344\t 3.468924154005726\n",
            "10 \t [-1.50156867  0.38070241]\t 2.5445771181641934\t 0.7122141741228657\t 2.5673782879398996\t 3.2730151618283614\n",
            "11 \t [-4.11145235  5.01529374]\t 67.2103829317441\t 0.7122141741228657\t 3.135254590255195\t 3.188284815141461\n",
            "12 \t [-5.12      -3.0904668]\t 45.31637009798327\t 0.7122141741228657\t 3.045650710366251\t 2.961221637873082\n",
            "\u001b[1m\u001b[92m13\u001b[0m\t \u001b[1m\u001b[92m[-0.15278026  0.07436663]\u001b[0m\t \u001b[1m\u001b[92m0.03440260047740706\u001b[0m\t \u001b[1m\u001b[92m0.03440260047740706\u001b[0m\t \u001b[1m\u001b[92m2.7751602607449555\u001b[0m\t \u001b[1m\u001b[92m2.6884784471586594\u001b[0m\n",
            "14 \t [ 0.23809344 -0.97026815]\t 1.9395290449570946\t 0.03440260047740706\t 2.9709557648023788\t 3.058338557074019\n",
            "15 \t [ 0.51510622 -0.47346023]\t 0.7136636083623895\t 0.03440260047740706\t 2.9105575378734665\t 2.7368798525402154\n",
            "16 \t [-0.67912187  0.36069466]\t 0.7214077879208303\t 0.03440260047740706\t 3.1576979368149316\t 3.1210655121932662\n",
            "\u001b[1m\u001b[92m17\u001b[0m\t \u001b[1m\u001b[92m[0.04389653 0.04407803]\u001b[0m\t \u001b[1m\u001b[92m0.005812651891971155\u001b[0m\t \u001b[1m\u001b[92m0.005812651891971155\u001b[0m\t \u001b[1m\u001b[92m2.142469150140567\u001b[0m\t \u001b[1m\u001b[92m1.9358559927710643\u001b[0m\n",
            "18 \t [0.03019078 0.05554809]\t 0.007082663245231391\t 0.005812651891971155\t 2.8024786562485238\t 2.701687468644023\n",
            "19 \t [ 0.16255147 -0.03492289]\t 0.02886219601592574\t 0.005812651891971155\t 2.6994409800830055\t 2.601635395887252\n",
            "20 \t [ 5.12       -3.01987118]\t 44.453643864406914\t 0.005812651891971155\t 2.91510927597243\t 2.745977805184437\n"
          ]
        }
      ],
      "source": [
        "### EXACT GP EI GRADIENTS\n",
        "\n",
        "np.random.seed(run_num_11)\n",
        "surrogate_exact_11 = dGaussianProcess(cov_func, optimize=opt)\n",
        "\n",
        "exact_11 = dGPGO(surrogate_exact_11, Acquisition_grad(util), objfunc, param)\n",
        "exact_11.run(init_evals=n_init, max_iter=iters)\n"
      ]
    },
    {
      "cell_type": "code",
      "execution_count": 45,
      "metadata": {
        "id": "MlUNFjc-JTBY",
        "colab": {
          "base_uri": "https://localhost:8080/"
        },
        "outputId": "e447aa78-8604-432b-922b-b042c3b9923d"
      },
      "outputs": [
        {
          "output_type": "stream",
          "name": "stdout",
          "text": [
            "Evaluation \t Proposed point \t  Current eval. \t  Best eval. \t        Exact EI: StdDev. x \t Approx EI: StdDev. x \n",
            "init\t [-3.54137249  2.45810889]\t 24.62591779447066\t 6.112828495563743\t    \t    \n",
            "init\t [-2.42365424  0.34549139]\t 6.112828495563743\t 6.112828495563743\t    \t    \n",
            "init\t [-4.97075238  4.28796936]\t 61.48174177959852\t 6.112828495563743\t    \t    \n",
            "init\t [ 4.10332011 -4.77776458]\t 62.49130467854858\t 6.112828495563743\t    \t    \n",
            "init\t [ 4.6791612  -3.71497655]\t 49.4966510918416\t 6.112828495563743\t    \t    \n",
            "1  \t [5.12 5.12]\t 78.64320000000001\t 6.112828495563743\t 3.8085669867440655\t 3.422833527731226\n",
            "2  \t [-5.12       -4.85983818]\t 73.45045425611377\t 6.112828495563743\t 3.518779872266228\t 3.1860466992035414\n",
            "3  \t [2.20904818 0.79092059]\t 6.13100463839322\t 6.112828495563743\t 3.0945292565139835\t 2.933996366291285\n",
            "4  \t [-0.45561862 -4.17827725]\t 35.12358990752138\t 6.112828495563743\t 3.0750026961794963\t 3.0886226722311414\n",
            "5  \t [5.12       0.30245187]\t 26.397354267709822\t 6.112828495563743\t 2.8033563890488367\t 3.3514132625727795\n",
            "6  \t [0.3598135  4.87544639]\t 47.669420734025245\t 6.112828495563743\t 3.2091567852571563\t 3.557797393103925\n",
            "7  \t [-4.79171652 -1.25749726]\t 26.123145941904113\t 6.112828495563743\t 3.0140377247066015\t 3.0190193430741132\n",
            "\u001b[1m\u001b[92m8\u001b[0m\t \u001b[1m\u001b[92m[ 1.26892183 -1.48976451]\u001b[0m\t \u001b[1m\u001b[92m6.048959202400567\u001b[0m\t \u001b[1m\u001b[92m6.048959202400567\u001b[0m\t \u001b[1m\u001b[92m2.7336652596310893\u001b[0m\t \u001b[1m\u001b[92m2.669494370572425\u001b[0m\n",
            "\u001b[1m\u001b[92m9\u001b[0m\t \u001b[1m\u001b[92m[-1.00913166 -1.19469742]\u001b[0m\t \u001b[1m\u001b[92m3.872950548353454\u001b[0m\t \u001b[1m\u001b[92m3.872950548353454\u001b[0m\t \u001b[1m\u001b[92m2.8159003340908204\u001b[0m\t \u001b[1m\u001b[92m2.6374305706582333\u001b[0m\n",
            "\u001b[1m\u001b[92m10\u001b[0m\t \u001b[1m\u001b[92m[0.00607921 1.24674495]\u001b[0m\t \u001b[1m\u001b[92m3.1087828862235583\u001b[0m\t \u001b[1m\u001b[92m3.1087828862235583\u001b[0m\t \u001b[1m\u001b[92m2.8168793353626187\u001b[0m\t \u001b[1m\u001b[92m2.8484354127986333\u001b[0m\n",
            "11 \t [3.73262117 2.327155  ]\t 24.76376153450388\t 3.1087828862235583\t 2.9018870463006614\t 2.969134627139535\n",
            "12 \t [-0.6587911   2.03255424]\t 8.696559187095247\t 3.1087828862235583\t 2.546981350299476\t 2.5537030346819516\n",
            "13 \t [ 2.8097832  -1.09566695]\t 10.295853775404238\t 3.1087828862235583\t 2.718054307669989\t 2.7618412586248846\n",
            "14 \t [-2.56963836 -2.53009194]\t 19.40577177755172\t 3.1087828862235583\t 2.805144281398835\t 3.0555699530948512\n",
            "\u001b[1m\u001b[92m15\u001b[0m\t \u001b[1m\u001b[92m[ 0.30781193 -0.40454659]\u001b[0m\t \u001b[1m\u001b[92m0.42206407545190255\u001b[0m\t \u001b[1m\u001b[92m0.42206407545190255\u001b[0m\t \u001b[1m\u001b[92m3.06225644540552\u001b[0m\t \u001b[1m\u001b[92m3.0722229562357057\u001b[0m\n",
            "\u001b[1m\u001b[92m16\u001b[0m\t \u001b[1m\u001b[92m[-0.11224857 -0.00294263]\u001b[0m\t \u001b[1m\u001b[92m0.012617059750193697\u001b[0m\t \u001b[1m\u001b[92m0.012617059750193697\u001b[0m\t \u001b[1m\u001b[92m2.918067599964696\u001b[0m\t \u001b[1m\u001b[92m2.890711403553061\u001b[0m\n",
            "17 \t [ 0.21471749 -0.25933519]\t 0.18061308376312257\t 0.012617059750193697\t 2.6352875465110004\t 2.7014543131496698\n",
            "18 \t [-0.19076168  0.03109079]\t 0.038323293697825694\t 0.012617059750193697\t 3.1353573060989537\t 3.159619218961766\n",
            "19 \t [ 0.26858256 -0.32986439]\t 0.289757616462587\t 0.012617059750193697\t 2.8501284667645796\t 3.055030394123539\n",
            "20 \t [ 0.24328427 -0.29218563]\t 0.22993211805800928\t 0.012617059750193697\t 2.6721355407332736\t 2.817811525043446\n"
          ]
        }
      ],
      "source": [
        "### EXACT GP EI GRADIENTS\n",
        "\n",
        "np.random.seed(run_num_12)\n",
        "surrogate_exact_12 = dGaussianProcess(cov_func, optimize=opt)\n",
        "\n",
        "exact_12 = dGPGO(surrogate_exact_12, Acquisition_grad(util), objfunc, param)\n",
        "exact_12.run(init_evals=n_init, max_iter=iters)\n"
      ]
    },
    {
      "cell_type": "code",
      "execution_count": 46,
      "metadata": {
        "id": "9BsKdU9eJTFL",
        "colab": {
          "base_uri": "https://localhost:8080/"
        },
        "outputId": "1bfc6725-b70e-4a96-cfa4-dc7ad618f3af"
      },
      "outputs": [
        {
          "output_type": "stream",
          "name": "stdout",
          "text": [
            "Evaluation \t Proposed point \t  Current eval. \t  Best eval. \t        Exact EI: StdDev. x \t Approx EI: StdDev. x \n",
            "init\t [ 2.84367268 -2.68757791]\t 22.532624345992815\t 12.440151302029248\t    \t    \n",
            "init\t [3.32061217 4.76927179]\t 56.51837198799\t 12.440151302029248\t    \t    \n",
            "init\t [ 4.83943541 -0.47667971]\t 23.87458213765974\t 12.440151302029248\t    \t    \n",
            "init\t [1.11659482 2.82139151]\t 17.16728408945556\t 12.440151302029248\t    \t    \n",
            "init\t [1.45012065 2.27346667]\t 12.440151302029248\t 12.440151302029248\t    \t    \n",
            "1  \t [-4.10876704 -2.60547476]\t 30.458964016081993\t 12.440151302029248\t 3.1417842776187035\t 3.223525105605274\n",
            "2  \t [-3.90589915  2.56178318]\t 28.38151426356727\t 12.440151302029248\t 3.1516800051833735\t 3.4362464566353035\n",
            "3  \t [-0.63126123 -5.12      ]\t 52.82729074643095\t 12.440151302029248\t 3.012533887530779\t 3.32070224340098\n",
            "\u001b[1m\u001b[92m4\u001b[0m\t \u001b[1m\u001b[92m[-0.60166674 -0.76503854]\u001b[0m\t \u001b[1m\u001b[92m1.5325708200593515\u001b[0m\t \u001b[1m\u001b[92m1.5325708200593515\u001b[0m\t \u001b[1m\u001b[92m2.9118910886392295\u001b[0m\t \u001b[1m\u001b[92m3.2340866552948286\u001b[0m\n",
            "5  \t [-1.00434964  5.06481735]\t 52.31346785726045\t 1.5325708200593515\t 3.387731035551005\t 3.8079616775410376\n",
            "6  \t [-1.43438387  0.71651674]\t 3.0842495735609248\t 1.5325708200593515\t 2.5985401459511923\t 2.9377785949304145\n",
            "7  \t [ 1.14292847 -0.39211423]\t 1.6137926086279633\t 1.5325708200593515\t 2.9124258751935916\t 3.501109776186389\n",
            "8  \t [-5.12 -5.12]\t 78.64320000000001\t 1.5325708200593515\t 3.1810297322753103\t 3.2572994216305613\n",
            "9  \t [-0.74084222 -1.95807857]\t 8.216990532356085\t 1.5325708200593515\t 2.8736083112908783\t 3.5167215090635335\n",
            "10 \t [-5.08401687 -0.16288692]\t 25.900291822556845\t 1.5325708200593515\t 2.93239476776959\t 3.1891751184260504\n",
            "11 \t [ 5.12       -3.51846581]\t 50.9736032729875\t 1.5325708200593515\t 3.093220978500076\t 3.611471964056073\n",
            "12 \t [5.12       2.30929256]\t 36.88006425271183\t 1.5325708200593515\t 2.989903418814348\t 3.0717762469109555\n",
            "\u001b[1m\u001b[92m13\u001b[0m\t \u001b[1m\u001b[92m[ 0.4914347  -0.07606248]\u001b[0m\t \u001b[1m\u001b[92m0.253079066721768\u001b[0m\t \u001b[1m\u001b[92m0.253079066721768\u001b[0m\t \u001b[1m\u001b[92m2.9806684232207568\u001b[0m\t \u001b[1m\u001b[92m3.060047675798162\u001b[0m\n",
            "14 \t [ 2.44055898 -5.12      ]\t 58.38512813713726\t 0.253079066721768\t 2.440715224657182\t 2.7302182016865952\n",
            "15 \t [-3.93224305  5.04397665]\t 66.3459363243402\t 0.253079066721768\t 2.750211624506189\t 3.014014126194983\n",
            "\u001b[1m\u001b[92m16\u001b[0m\t \u001b[1m\u001b[92m[0.10204381 0.14659828]\u001b[0m\t \u001b[1m\u001b[92m0.05339505319270424\u001b[0m\t \u001b[1m\u001b[92m0.05339505319270424\u001b[0m\t \u001b[1m\u001b[92m2.6126439061067788\u001b[0m\t \u001b[1m\u001b[92m2.411620987284698\u001b[0m\n",
            "17 \t [1.89645405 0.04393156]\t 3.600397911518396\t 0.05339505319270424\t 3.411409982596258\t 3.222700797170729\n",
            "18 \t [-0.19346572  0.30830945]\t 0.22753841365070876\t 0.05339505319270424\t 2.1888642327121133\t 2.072680159766933\n",
            "19 \t [-0.81417586  1.17556524]\t 3.426789581849306\t 0.05339505319270424\t 3.045777205639645\t 2.9537742156064644\n",
            "20 \t [-0.37508435  0.25731958]\t 0.2731150010865271\t 0.05339505319270424\t 3.2542682569484804\t 3.132162896356166\n"
          ]
        }
      ],
      "source": [
        "### EXACT GP EI GRADIENTS\n",
        "\n",
        "np.random.seed(run_num_13)\n",
        "surrogate_exact_13 = dGaussianProcess(cov_func, optimize=opt)\n",
        "\n",
        "exact_13 = dGPGO(surrogate_exact_13, Acquisition_grad(util), objfunc, param)\n",
        "exact_13.run(init_evals=n_init, max_iter=iters)\n"
      ]
    },
    {
      "cell_type": "code",
      "execution_count": 47,
      "metadata": {
        "id": "k6GjFBr1JTJf",
        "colab": {
          "base_uri": "https://localhost:8080/"
        },
        "outputId": "bcbf4a05-c048-4f20-fd29-e276c0f566e3"
      },
      "outputs": [
        {
          "output_type": "stream",
          "name": "stdout",
          "text": [
            "Evaluation \t Proposed point \t  Current eval. \t  Best eval. \t        Exact EI: StdDev. x \t Approx EI: StdDev. x \n",
            "init\t [0.14277984 2.79721013]\t 15.669155142359655\t 6.942951853664133\t    \t    \n",
            "init\t [ 3.7931795  -5.03759925]\t 65.14302308089468\t 6.942951853664133\t    \t    \n",
            "init\t [-1.94830412  4.68586229]\t 47.71049977745547\t 6.942951853664133\t    \t    \n",
            "init\t [ 0.13431513 -1.86076749]\t 6.942951853664133\t 6.942951853664133\t    \t    \n",
            "init\t [ 0.40140736 -2.85434939]\t 16.455748743182696\t 6.942951853664133\t    \t    \n",
            "1  \t [-5.12       -0.18178648]\t 26.28049264977537\t 6.942951853664133\t 3.9481174031498063\t 3.82316001934479\n",
            "2  \t [5.12 5.12]\t 78.64320000000001\t 6.942951853664133\t 4.048291152416258\t 3.9417622684151206\n",
            "3  \t [-4.35130084 -5.12      ]\t 71.36261900328188\t 6.942951853664133\t 3.0312086128363567\t 3.4103888155970017\n",
            "4  \t [4.78669944 0.00971528]\t 22.912680265725204\t 6.942951853664133\t 2.8823750791655893\t 3.4462839196141384\n",
            "\u001b[1m\u001b[92m5\u001b[0m\t \u001b[1m\u001b[92m[-1.82953105  0.26681333]\u001b[0m\t \u001b[1m\u001b[92m3.489562556322717\u001b[0m\t \u001b[1m\u001b[92m3.489562556322717\u001b[0m\t \u001b[1m\u001b[92m2.789530700438064\u001b[0m\t \u001b[1m\u001b[92m2.5539502227522504\u001b[0m\n",
            "\u001b[1m\u001b[92m6\u001b[0m\t \u001b[1m\u001b[92m[1.56052878 0.2623932 ]\u001b[0m\t \u001b[1m\u001b[92m2.5729504686729636\u001b[0m\t \u001b[1m\u001b[92m2.5729504686729636\u001b[0m\t \u001b[1m\u001b[92m2.6700469985580946\u001b[0m\t \u001b[1m\u001b[92m2.6466028564167474\u001b[0m\n",
            "7  \t [1.83760373 5.08523923]\t 55.09610355132179\t 2.5729504686729636\t 2.630839289742097\t 2.842978909852041\n",
            "8  \t [-5.12        3.33367916]\t 48.44123341999298\t 2.5729504686729636\t 2.9312484173634523\t 3.2074030285928368\n",
            "9  \t [-2.92515773 -1.78650144]\t 14.939722526796931\t 2.5729504686729636\t 3.077604453676786\t 3.0418619575728276\n",
            "10 \t [-1.14057535 -5.12      ]\t 53.729712119725114\t 2.5729504686729636\t 2.8173327430617534\t 2.8594578745394847\n",
            "11 \t [ 2.93449009 -1.94911575]\t 16.209336477771117\t 2.5729504686729636\t 2.90009839319531\t 2.986180459305989\n",
            "12 \t [3.1277552  2.08444859]\t 18.472704453655293\t 2.5729504686729636\t 2.959425212799435\t 3.1666441916615073\n",
            "\u001b[1m\u001b[92m13\u001b[0m\t \u001b[1m\u001b[92m[0.13869509 0.03373817]\u001b[0m\t \u001b[1m\u001b[92m0.021512856690252023\u001b[0m\t \u001b[1m\u001b[92m0.021512856690252023\u001b[0m\t \u001b[1m\u001b[92m2.8009584159611998\u001b[0m\t \u001b[1m\u001b[92m2.8764333304243896\u001b[0m\n",
            "14 \t [-0.01106827  0.11972917]\t 0.028792652457493455\t 0.021512856690252023\t 2.820445995546951\t 2.8572703057675803\n",
            "\u001b[1m\u001b[92m15\u001b[0m\t \u001b[1m\u001b[92m[0.0487483 0.0818327]\u001b[0m\t \u001b[1m\u001b[92m0.015769577498313023\u001b[0m\t \u001b[1m\u001b[92m0.015769577498313023\u001b[0m\t \u001b[1m\u001b[92m2.8301825959557076\u001b[0m\t \u001b[1m\u001b[92m2.9195841323169263\u001b[0m\n",
            "16 \t [-0.09699889  0.16709142]\t 0.06524786979477477\t 0.015769577498313023\t 2.7434125802118796\t 2.680643939561592\n",
            "17 \t [-1.98830356  1.33688992]\t 7.527900348451853\t 0.015769577498313023\t 3.088173065364007\t 3.0578886763141386\n",
            "18 \t [-0.2751133   0.19909997]\t 0.1549689276981313\t 0.015769577498313023\t 2.413095928239261\t 2.705822436101016\n",
            "19 \t [ 0.84048362 -0.2892636 ]\t 0.8737595833775771\t 0.015769577498313023\t 2.8647681249434362\t 3.016797834988462\n",
            "20 \t [ 0.13986064 -0.03095233]\t 0.021477092598172057\t 0.015769577498313023\t 2.523566969491315\t 2.519818578295321\n"
          ]
        }
      ],
      "source": [
        "### EXACT GP EI GRADIENTS\n",
        "\n",
        "np.random.seed(run_num_14)\n",
        "surrogate_exact_14 = dGaussianProcess(cov_func, optimize=opt)\n",
        "\n",
        "exact_14 = dGPGO(surrogate_exact_14, Acquisition_grad(util), objfunc, param)\n",
        "exact_14.run(init_evals=n_init, max_iter=iters)\n"
      ]
    },
    {
      "cell_type": "code",
      "execution_count": 48,
      "metadata": {
        "id": "dPS8WB3aJTN6",
        "colab": {
          "base_uri": "https://localhost:8080/"
        },
        "outputId": "0f2e6adb-6051-4814-e3ad-0d6eb9874bd7"
      },
      "outputs": [
        {
          "output_type": "stream",
          "name": "stdout",
          "text": [
            "Evaluation \t Proposed point \t  Current eval. \t  Best eval. \t        Exact EI: StdDev. x \t Approx EI: StdDev. x \n",
            "init\t [ 3.57189322 -3.28810573]\t 34.38169974295086\t 5.478261179905657\t    \t    \n",
            "init\t [-4.56332069 -1.41784631]\t 24.84447200795673\t 5.478261179905657\t    \t    \n",
            "init\t [-2.29989449  0.3072023 ]\t 5.478261179905657\t 5.478261179905657\t    \t    \n",
            "init\t [-1.9873903  -2.00218256]\t 11.967190241167383\t 5.478261179905657\t    \t    \n",
            "init\t [-3.97576933 -2.5610341 ]\t 28.924533081850157\t 5.478261179905657\t    \t    \n",
            "1  \t [5.12       2.66905492]\t 40.46210831140709\t 5.478261179905657\t 3.675061225753849\t 3.7372043947695324\n",
            "2  \t [-0.08827245  5.12      ]\t 52.436592024811056\t 5.478261179905657\t 3.10662510507117\t 3.5378814842214914\n",
            "3  \t [-5.05713728  3.62895424]\t 51.913255284121924\t 5.478261179905657\t 3.045676478981226\t 3.4617852716609483\n",
            "4  \t [-0.11286219 -5.12      ]\t 52.44153787401408\t 5.478261179905657\t 2.9838368825070267\t 2.406090625848592\n",
            "\u001b[1m\u001b[92m5\u001b[0m\t \u001b[1m\u001b[92m[1.34472324 0.72094579]\u001b[0m\t \u001b[1m\u001b[92m2.847806269035918\u001b[0m\t \u001b[1m\u001b[92m2.847806269035918\u001b[0m\t \u001b[1m\u001b[92m3.1768846403062803\u001b[0m\t \u001b[1m\u001b[92m2.974174110965936\u001b[0m\n",
            "6  \t [-5.12 -5.12]\t 78.64320000000001\t 2.847806269035918\t 3.3266043540737695\t 3.2334194539456727\n",
            "7  \t [ 5.12       -0.49017401]\t 26.694941125062552\t 2.847806269035918\t 2.933961704373277\t 2.9619137139781335\n",
            "8  \t [3.45067901 5.12      ]\t 64.33598566044037\t 2.847806269035918\t 3.4531819009839095\t 3.299515813781239\n",
            "9  \t [-0.43477636  1.80236659]\t 6.686081125432191\t 2.847806269035918\t 2.177203921445603\t 2.2815541695198633\n",
            "\u001b[1m\u001b[92m10\u001b[0m\t \u001b[1m\u001b[92m[ 0.50858668 -1.06731487]\u001b[0m\t \u001b[1m\u001b[92m2.5369824922466053\u001b[0m\t \u001b[1m\u001b[92m2.5369824922466053\u001b[0m\t \u001b[1m\u001b[92m2.8473202397795543\u001b[0m\t \u001b[1m\u001b[92m3.168635766195376\u001b[0m\n",
            "11 \t [1.96043078 2.21965572]\t 13.697031850892323\t 2.5369824922466053\t 2.7206457572601397\t 3.070704906648557\n",
            "12 \t [-2.25165705  2.60853936]\t 18.6789146656664\t 2.5369824922466053\t 2.620790251603648\t 2.6148173476102357\n",
            "13 \t [ 2.20212745 -0.72738877]\t 5.90755412504764\t 2.5369824922466053\t 3.3033282638338206\t 3.5300452208610316\n",
            "14 \t [ 0.8915942  -2.42740578]\t 12.579537815389292\t 2.5369824922466053\t 2.966217855177087\t 3.0451781925994514\n",
            "\u001b[1m\u001b[92m15\u001b[0m\t \u001b[1m\u001b[92m[ 0.08719627 -0.20889809]\u001b[0m\t \u001b[1m\u001b[92m0.09488001332650228\u001b[0m\t \u001b[1m\u001b[92m0.09488001332650228\u001b[0m\t \u001b[1m\u001b[92m2.266565200825156\u001b[0m\t \u001b[1m\u001b[92m2.5705243397814987\u001b[0m\n",
            "16 \t [-0.51440237  0.13990627]\t 0.30375731926235805\t 0.09488001332650228\t 3.1987410570262296\t 3.255034459274396\n",
            "17 \t [-0.70528907  0.24103264]\t 0.6136261423201388\t 0.09488001332650228\t 2.713581997238168\t 3.0486104878806963\n",
            "\u001b[1m\u001b[92m18\u001b[0m\t \u001b[1m\u001b[92m[-0.12933495 -0.11581319]\u001b[0m\t \u001b[1m\u001b[92m0.04355292124340548\u001b[0m\t \u001b[1m\u001b[92m0.04355292124340548\u001b[0m\t \u001b[1m\u001b[92m2.910160240001829\u001b[0m\t \u001b[1m\u001b[92m2.9661940852162525\u001b[0m\n",
            "19 \t [-0.36747513  0.0330291 ]\t 0.13721981501082892\t 0.04355292124340548\t 3.007461667336962\t 3.1379914452700226\n",
            "20 \t [-0.06082923 -0.15869548]\t 0.054068708013457464\t 0.04355292124340548\t 2.7005575719310335\t 2.9279120628754174\n"
          ]
        }
      ],
      "source": [
        "### EXACT GP EI GRADIENTS\n",
        "\n",
        "np.random.seed(run_num_15)\n",
        "surrogate_exact_15 = dGaussianProcess(cov_func, optimize=opt)\n",
        "\n",
        "exact_15 = dGPGO(surrogate_exact_15, Acquisition_grad(util), objfunc, param)\n",
        "exact_15.run(init_evals=n_init, max_iter=iters)\n"
      ]
    },
    {
      "cell_type": "code",
      "execution_count": 49,
      "metadata": {
        "id": "lu8ki9XIQPPN",
        "colab": {
          "base_uri": "https://localhost:8080/"
        },
        "outputId": "1a6a3d7e-7306-4ca2-b6a3-cf7b1fb97182"
      },
      "outputs": [
        {
          "output_type": "stream",
          "name": "stdout",
          "text": [
            "Evaluation \t Proposed point \t  Current eval. \t  Best eval. \t        Exact EI: StdDev. x \t Approx EI: StdDev. x \n",
            "init\t [-2.83349935  0.23719262]\t 8.141239237549925\t 8.141239237549925\t    \t    \n",
            "init\t [ 0.51918292 -4.65303603]\t 43.571039504503474\t 8.141239237549925\t    \t    \n",
            "init\t [-1.42613673 -2.83565116]\t 18.11570093066862\t 8.141239237549925\t    \t    \n",
            "init\t [ 1.9325559  -3.44339021]\t 27.448644544199137\t 8.141239237549925\t    \t    \n",
            "init\t [-4.39987336  4.51595121]\t 60.146516261103784\t 8.141239237549925\t    \t    \n",
            "1  \t [2.142749   4.83374619]\t 51.32157765102846\t 8.141239237549925\t 3.8160279993886808\t 3.815116828603813\n",
            "2  \t [5.12       0.52420177]\t 26.763974987406172\t 8.141239237549925\t 3.3502024400459276\t 3.20727609765976\n",
            "3  \t [-5.12 -5.12]\t 78.64320000000001\t 8.141239237549925\t 3.571125504168344\t 3.431111922554898\n",
            "\u001b[1m\u001b[92m4\u001b[0m\t \u001b[1m\u001b[92m[0.93525108 0.72202817]\u001b[0m\t \u001b[1m\u001b[92m1.9173439328149267\u001b[0m\t \u001b[1m\u001b[92m1.9173439328149267\u001b[0m\t \u001b[1m\u001b[92m2.8579821446300246\u001b[0m\t \u001b[1m\u001b[92m2.977083195119856\u001b[0m\n",
            "5  \t [-1.00466878  2.9146897 ]\t 18.00019149486689\t 1.9173439328149267\t 3.138430661155758\t 3.1758613655163765\n",
            "6  \t [ 5.12       -3.15861892]\t 46.1681469405583\t 1.9173439328149267\t 3.562483478972456\t 3.8599460124428195\n",
            "7  \t [5.12       3.83808595]\t 55.67620757213296\t 1.9173439328149267\t 2.838857855873722\t 2.6721568297998766\n",
            "8  \t [-4.32338298 -1.90537193]\t 25.952524758058743\t 1.9173439328149267\t 2.75689084692393\t 2.8415306730168806\n",
            "9  \t [ 2.32045286 -0.55278647]\t 5.995647268831808\t 1.9173439328149267\t 3.0059964971768793\t 3.1519276758352075\n",
            "\u001b[1m\u001b[92m10\u001b[0m\t \u001b[1m\u001b[92m[-0.48259081  0.05356607]\u001b[0m\t \u001b[1m\u001b[92m0.23863254114138868\u001b[0m\t \u001b[1m\u001b[92m0.23863254114138868\u001b[0m\t \u001b[1m\u001b[92m2.973919156418809\u001b[0m\t \u001b[1m\u001b[92m3.208294804378065\u001b[0m\n",
            "11 \t [-0.5188154   0.09062003]\t 0.28559339567069136\t 0.23863254114138868\t 3.0867031310701507\t 3.302608822604433\n",
            "12 \t [-5.12        1.10055256]\t 28.636831894385033\t 0.23863254114138868\t 3.1576825724995112\t 3.2647087999745006\n",
            "\u001b[1m\u001b[92m13\u001b[0m\t \u001b[1m\u001b[92m[-4.78064437e-01 -3.99548931e-04]\u001b[0m\t \u001b[1m\u001b[92m0.22854592499245419\u001b[0m\t \u001b[1m\u001b[92m0.22854592499245419\u001b[0m\t \u001b[1m\u001b[92m2.6215429323116495\u001b[0m\t \u001b[1m\u001b[92m2.560874753601979\u001b[0m\n",
            "14 \t [-0.06079979 -0.46613917]\t 0.4382680735436929\t 0.22854592499245419\t 2.5262016163511256\t 2.603886134395977\n",
            "\u001b[1m\u001b[92m15\u001b[0m\t \u001b[1m\u001b[92m[-0.27436483 -0.22757706]\u001b[0m\t \u001b[1m\u001b[92m0.17885869753167696\u001b[0m\t \u001b[1m\u001b[92m0.17885869753167696\u001b[0m\t \u001b[1m\u001b[92m2.791177533643707\u001b[0m\t \u001b[1m\u001b[92m2.820322946839456\u001b[0m\n",
            "16 \t [-0.44059316 -0.03233616]\t 0.19621358471271902\t 0.17885869753167696\t 2.85390069886728\t 2.964556561302035\n",
            "\u001b[1m\u001b[92m17\u001b[0m\t \u001b[1m\u001b[92m[-0.37133321 -0.11518696]\u001b[0m\t \u001b[1m\u001b[92m0.16442441886581596\u001b[0m\t \u001b[1m\u001b[92m0.16442441886581596\u001b[0m\t \u001b[1m\u001b[92m3.1009283263948553\u001b[0m\t \u001b[1m\u001b[92m3.087476685808319\u001b[0m\n",
            "18 \t [-0.04031061 -0.48535226]\t 0.4727585779002173\t 0.16442441886581596\t 2.8601863367773515\t 2.9082159558615057\n",
            "19 \t [-0.5307329  0.0875771]\t 0.2970169016754281\t 0.16442441886581596\t 2.6657371478413316\t 2.5777871430831567\n",
            "20 \t [-0.69619515  0.26936033]\t 0.629797670037689\t 0.16442441886581596\t 3.2001080457102593\t 3.233232723544586\n"
          ]
        }
      ],
      "source": [
        "### EXACT GP EI GRADIENTS\n",
        "\n",
        "np.random.seed(run_num_16)\n",
        "surrogate_exact_16 = dGaussianProcess(cov_func, optimize=opt)\n",
        "\n",
        "exact_16 = dGPGO(surrogate_exact_16, Acquisition_grad(util), objfunc, param)\n",
        "exact_16.run(init_evals=n_init, max_iter=iters)\n"
      ]
    },
    {
      "cell_type": "code",
      "execution_count": 50,
      "metadata": {
        "id": "yU2SflSsJTUs",
        "colab": {
          "base_uri": "https://localhost:8080/"
        },
        "outputId": "69eb3cb2-67b3-4f93-86d0-e4f44523f078"
      },
      "outputs": [
        {
          "output_type": "stream",
          "name": "stdout",
          "text": [
            "Evaluation \t Proposed point \t  Current eval. \t  Best eval. \t        Exact EI: StdDev. x \t Approx EI: StdDev. x \n",
            "init\t [-2.10263037  0.31320838]\t 4.617253458637031\t 3.1817562258207746\t    \t    \n",
            "init\t [-3.15882714 -4.42470033]\t 49.134134969019556\t 3.1817562258207746\t    \t    \n",
            "init\t [2.93873111 1.60085526]\t 13.761615685279608\t 3.1817562258207746\t    \t    \n",
            "init\t [1.40821398 0.77417363]\t 3.1817562258207746\t 3.1817562258207746\t    \t    \n",
            "init\t [-4.71999574 -1.45598869]\t 26.518165900202685\t 3.1817562258207746\t    \t    \n",
            "1  \t [ 4.96008736 -4.44720822]\t 64.15778856025273\t 3.1817562258207746\t 3.4213278145590715\t 4.400175744829222\n",
            "2  \t [-1.25897024  5.12      ]\t 54.01380606268188\t 3.1817562258207746\t 3.246947236709479\t 3.392922183207403\n",
            "3  \t [5.12 5.12]\t 78.64320000000001\t 3.1817562258207746\t 3.386592727235738\t 3.2860309274384822\n",
            "4  \t [ 0.93265997 -3.01502589]\t 19.050616879345\t 3.1817562258207746\t 3.342014006451231\t 3.685413397396135\n",
            "5  \t [ 5.12      -0.6781414]\t 27.134151518158085\t 3.1817562258207746\t 2.7682645992289117\t 3.30409982496603\n",
            "6  \t [-5.12        2.95221798]\t 43.64558194917203\t 3.1817562258207746\t 2.791657892998887\t 3.1510277840346235\n",
            "7  \t [-0.20955182  1.89146028]\t 7.199155908024261\t 3.1817562258207746\t 2.719361028054792\t 2.7788689004160942\n",
            "8  \t [2.0880022  3.86454149]\t 34.22911496802537\t 3.1817562258207746\t 3.052330308577427\t 2.89753171764304\n",
            "9  \t [-1.63445038 -1.38364469]\t 6.500373292728078\t 3.1817562258207746\t 3.303666056930865\t 3.3770870586492743\n",
            "\u001b[1m\u001b[92m10\u001b[0m\t \u001b[1m\u001b[92m[ 1.51411706 -0.5685061 ]\u001b[0m\t \u001b[1m\u001b[92m2.9389488421765217\u001b[0m\t \u001b[1m\u001b[92m2.9389488421765217\u001b[0m\t \u001b[1m\u001b[92m2.495724668807659\u001b[0m\t \u001b[1m\u001b[92m2.631865436069403\u001b[0m\n",
            "11 \t [ 1.84166256 -5.12      ]\t 55.820520981343144\t 2.9389488421765217\t 3.203504519742873\t 3.1067887404376067\n",
            "12 \t [-2.33632758  2.02340451]\t 13.646758140970185\t 2.9389488421765217\t 2.733153976481967\t 2.8062983097749012\n",
            "13 \t [ 2.67555126 -1.3865157 ]\t 11.003426117371221\t 2.9389488421765217\t 2.51164483549837\t 3.0527390180348504\n",
            "\u001b[1m\u001b[92m14\u001b[0m\t \u001b[1m\u001b[92m[-0.14195564  0.01825125]\u001b[0m\t \u001b[1m\u001b[92m0.02081762145334831\u001b[0m\t \u001b[1m\u001b[92m0.02081762145334831\u001b[0m\t \u001b[1m\u001b[92m2.8616407169776013\u001b[0m\t \u001b[1m\u001b[92m2.7664443313621683\u001b[0m\n",
            "15 \t [ 0.06311173 -0.14140849]\t 0.043975814838101784\t 0.02081762145334831\t 2.747163489651323\t 2.8249147522084264\n",
            "16 \t [ 0.19362328 -0.26037654]\t 0.1730818579350591\t 0.02081762145334831\t 2.5413842875984907\t 2.6160343927814904\n",
            "17 \t [ 0.12846554 -0.2010245 ]\t 0.09732509488930575\t 0.02081762145334831\t 2.526419655001575\t 2.467543077807392\n",
            "18 \t [ 0.37460828 -0.42946421]\t 0.5092103849189125\t 0.02081762145334831\t 2.8327939526432733\t 3.133269082995454\n",
            "19 \t [5.12       2.04979118]\t 34.61768777433174\t 0.02081762145334831\t 2.654545371841957\t 2.7568379356056263\n",
            "20 \t [ 0.52980907 -0.58174865]\t 0.9575606390973523\t 0.02081762145334831\t 2.977963762971408\t 3.11813355725593\n"
          ]
        }
      ],
      "source": [
        "### EXACT GP EI GRADIENTS\n",
        "\n",
        "np.random.seed(run_num_17)\n",
        "surrogate_exact_17 = dGaussianProcess(cov_func, optimize=opt)\n",
        "\n",
        "exact_17 = dGPGO(surrogate_exact_17, Acquisition_grad(util), objfunc, param)\n",
        "exact_17.run(init_evals=n_init, max_iter=iters)\n"
      ]
    },
    {
      "cell_type": "code",
      "execution_count": 51,
      "metadata": {
        "id": "eVEhyZ9BQS-1",
        "colab": {
          "base_uri": "https://localhost:8080/"
        },
        "outputId": "003a517c-f553-4f8b-d54e-708479f251a4"
      },
      "outputs": [
        {
          "output_type": "stream",
          "name": "stdout",
          "text": [
            "Evaluation \t Proposed point \t  Current eval. \t  Best eval. \t        Exact EI: StdDev. x \t Approx EI: StdDev. x \n",
            "init\t [1.53983224 0.05584255]\t 2.3773200933391867\t 2.3773200933391867\t    \t    \n",
            "init\t [ 3.87687906 -3.25795609]\t 36.25874706055664\t 2.3773200933391867\t    \t    \n",
            "init\t [3.60686662 2.56139557]\t 26.130981366974602\t 2.3773200933391867\t    \t    \n",
            "init\t [1.70088108 4.99604939]\t 52.81401545301259\t 2.3773200933391867\t    \t    \n",
            "init\t [-2.48864335 -4.83014733]\t 52.85399210258478\t 2.3773200933391867\t    \t    \n",
            "1  \t [-5.00718904  2.9174042 ]\t 42.09443666312248\t 2.3773200933391867\t 3.1051536478388098\t 3.7780778369227748\n",
            "2  \t [-2.12752259 -0.37275496]\t 4.804244891752311\t 2.3773200933391867\t 2.6515035947897485\t 2.419906965545574\n",
            "3  \t [-1.38388015  2.93402717]\t 19.132155119522842\t 2.3773200933391867\t 2.852937558050711\t 2.997213655080083\n",
            "4  \t [-5.12       -1.71173775]\t 32.07449222798404\t 2.3773200933391867\t 3.1245196751724706\t 3.719594143089795\n",
            "5  \t [ 0.2389321 -2.3154724]\t 10.779913391277804\t 2.3773200933391867\t 2.8237379847485853\t 3.1931848745010636\n",
            "6  \t [ 1.08930177 -5.12      ]\t 53.61537833704918\t 2.3773200933391867\t 2.899868880534373\t 3.089100975452599\n",
            "7  \t [5.12 5.12]\t 78.64320000000001\t 2.3773200933391867\t 3.2816568465126688\t 3.3082519057398634\n",
            "8  \t [-5.12 -5.12]\t 78.64320000000001\t 2.3773200933391867\t 2.862357878050312\t 3.00180622690952\n",
            "9  \t [ 5.12       -0.15381135]\t 26.26171586024277\t 2.3773200933391867\t 3.0755331232723537\t 3.0880763756165313\n",
            "10 \t [-2.89278739  5.12      ]\t 60.79701890711061\t 2.3773200933391867\t 3.1406071968045177\t 3.30076228279311\n",
            "\u001b[1m\u001b[92m11\u001b[0m\t \u001b[1m\u001b[92m[0.26008558 0.68097239]\u001b[0m\t \u001b[1m\u001b[92m0.9950912910084366\u001b[0m\t \u001b[1m\u001b[92m0.9950912910084366\u001b[0m\t \u001b[1m\u001b[92m2.950676045190814\u001b[0m\t \u001b[1m\u001b[92m2.765305654896958\u001b[0m\n",
            "\u001b[1m\u001b[92m12\u001b[0m\t \u001b[1m\u001b[92m[-0.16855818  0.52983283]\u001b[0m\t \u001b[1m\u001b[92m0.5898575122145776\u001b[0m\t \u001b[1m\u001b[92m0.5898575122145776\u001b[0m\t \u001b[1m\u001b[92m2.7426588815928183\u001b[0m\t \u001b[1m\u001b[92m2.6461938668630256\u001b[0m\n",
            "\u001b[1m\u001b[92m13\u001b[0m\t \u001b[1m\u001b[92m[-0.11210703  0.47779032]\u001b[0m\t \u001b[1m\u001b[92m0.46913517049104153\u001b[0m\t \u001b[1m\u001b[92m0.46913517049104153\u001b[0m\t \u001b[1m\u001b[92m2.900509496200088\u001b[0m\t \u001b[1m\u001b[92m2.8194450263530664\u001b[0m\n",
            "14 \t [0.97223812 1.1801033 ]\t 3.7305345667589735\t 0.46913517049104153\t 2.612414667430386\t 2.7088122394956526\n",
            "\u001b[1m\u001b[92m15\u001b[0m\t \u001b[1m\u001b[92m[-0.13753982 -0.07869965]\u001b[0m\t \u001b[1m\u001b[92m0.03130447344197586\u001b[0m\t \u001b[1m\u001b[92m0.03130447344197586\u001b[0m\t \u001b[1m\u001b[92m2.6979651057126146\u001b[0m\t \u001b[1m\u001b[92m2.825765006911403\u001b[0m\n",
            "16 \t [-0.27688261  0.03440482]\t 0.07903136269505602\t 0.03130447344197586\t 2.5494347990202986\t 2.6052153755181364\n",
            "17 \t [ 0.49362462 -0.35184652]\t 0.4912572154950561\t 0.03130447344197586\t 3.430499790469375\t 3.376051812143797\n",
            "18 \t [-3.26404424  0.64949116]\t 11.497662330968547\t 0.03130447344197586\t 3.0079595931283882\t 3.114403648367488\n",
            "19 \t [-0.22605976 -0.08579152]\t 0.06582338376138351\t 0.03130447344197586\t 2.6897592057072206\t 2.584874019621988\n",
            "20 \t [-0.10057636 -0.1688814 ]\t 0.06715745629195499\t 0.03130447344197586\t 2.9123512525526887\t 2.856009976290662\n"
          ]
        }
      ],
      "source": [
        "### EXACT GP EI GRADIENTS\n",
        "\n",
        "np.random.seed(run_num_18)\n",
        "surrogate_exact_18 = dGaussianProcess(cov_func, optimize=opt)\n",
        "\n",
        "exact_18 = dGPGO(surrogate_exact_18, Acquisition_grad(util), objfunc, param)\n",
        "exact_18.run(init_evals=n_init, max_iter=iters)\n"
      ]
    },
    {
      "cell_type": "code",
      "execution_count": 52,
      "metadata": {
        "id": "B6gTz1ojQUxn",
        "colab": {
          "base_uri": "https://localhost:8080/"
        },
        "outputId": "28a7e753-19f8-4fa8-cf13-2d29e4fcf334"
      },
      "outputs": [
        {
          "output_type": "stream",
          "name": "stdout",
          "text": [
            "Evaluation \t Proposed point \t  Current eval. \t  Best eval. \t        Exact EI: StdDev. x \t Approx EI: StdDev. x \n",
            "init\t [-4.12125592  2.6751971 ]\t 31.298109376682206\t 22.814458446152262\t    \t    \n",
            "init\t [-2.59135515 -3.70553152]\t 34.17704923320956\t 22.814458446152262\t    \t    \n",
            "init\t [-1.72598719 -4.27008445]\t 39.4462742815243\t 22.814458446152262\t    \t    \n",
            "init\t [1.76104531 3.13952049]\t 22.814458446152262\t 22.814458446152262\t    \t    \n",
            "init\t [4.9432772  1.38916592]\t 28.295553455390152\t 22.814458446152262\t    \t    \n",
            "1  \t [ 4.41065168 -4.14701863]\t 53.84937534916405\t 22.814458446152262\t 3.43668175360514\t 4.447053424851714\n",
            "\u001b[1m\u001b[92m2\u001b[0m\t \u001b[1m\u001b[92m[-0.65210487 -0.05763914]\u001b[0m\t \u001b[1m\u001b[92m0.43188530670499253\u001b[0m\t \u001b[1m\u001b[92m0.43188530670499253\u001b[0m\t \u001b[1m\u001b[92m3.400128208428673\u001b[0m\t \u001b[1m\u001b[92m3.40811507179027\u001b[0m\n",
            "3  \t [5.12 5.12]\t 78.64320000000001\t 0.43188530670499253\t 3.2365417777071723\t 3.0605808577061064\n",
            "4  \t [-5.12       -1.17954949]\t 28.997073985896378\t 0.43188530670499253\t 3.0327157358629444\t 3.046978192907352\n",
            "5  \t [ 1.4709378  -0.95976524]\t 4.005956648088539\t 0.43188530670499253\t 2.7919617856607286\t 2.7842898847394064\n",
            "6  \t [-1.31627479  5.12      ]\t 54.16137932868132\t 0.43188530670499253\t 3.083334070003886\t 3.234655120443854\n",
            "7  \t [-5.12 -5.12]\t 78.64320000000001\t 0.43188530670499253\t 2.9165625089099216\t 3.0103954771137555\n",
            "8  \t [-0.85099567  1.01573807]\t 2.7876412965072324\t 0.43188530670499253\t 2.695255937305949\t 2.9041780195661926\n",
            "9  \t [-1.14354592 -0.95085214]\t 3.1159368601701978\t 0.43188530670499253\t 2.626306550914193\t 2.8836534708323525\n",
            "10 \t [ 1.22734158 -3.41230354]\t 24.79399827453773\t 0.43188530670499253\t 2.9896418826630295\t 3.0164478881012573\n",
            "11 \t [ 4.73102394 -1.23909079]\t 25.453279527127222\t 0.43188530670499253\t 2.503967190505865\t 2.6645433265887846\n",
            "12 \t [0.57898023 0.5263636 ]\t 0.88933538031123\t 0.43188530670499253\t 2.690561290280877\t 2.9510798966860174\n",
            "13 \t [-2.435635    0.12788322]\t 5.965026098581062\t 0.43188530670499253\t 3.016534769888875\t 2.8859244697149657\n",
            "\u001b[1m\u001b[92m14\u001b[0m\t \u001b[1m\u001b[92m[0.45051199 0.20273089]\u001b[0m\t \u001b[1m\u001b[92m0.2851606787141485\u001b[0m\t \u001b[1m\u001b[92m0.2851606787141485\u001b[0m\t \u001b[1m\u001b[92m2.6061696097697387\u001b[0m\t \u001b[1m\u001b[92m2.564468896802013\u001b[0m\n",
            "15 \t [0.25791539 0.36654328]\t 0.3352283033185618\t 0.2851606787141485\t 2.826722256528989\t 2.6262704783606643\n",
            "16 \t [0.24063808 0.41711447]\t 0.40587564013369787\t 0.2851606787141485\t 2.6733620139150522\t 2.5044382751917804\n",
            "\u001b[1m\u001b[92m17\u001b[0m\t \u001b[1m\u001b[92m[0.38439011 0.11219956]\u001b[0m\t \u001b[1m\u001b[92m0.17293324466954932\u001b[0m\t \u001b[1m\u001b[92m0.17293324466954932\u001b[0m\t \u001b[1m\u001b[92m2.7589248593731974\u001b[0m\t \u001b[1m\u001b[92m2.789634202025286\u001b[0m\n",
            "18 \t [-0.01829992  0.99242207]\t 1.9701380032047693\t 0.17293324466954932\t 2.8796182776687225\t 2.5779892723194218\n",
            "\u001b[1m\u001b[92m19\u001b[0m\t \u001b[1m\u001b[92m[ 0.09361981 -0.03120792]\u001b[0m\t \u001b[1m\u001b[92m0.010712536985495015\u001b[0m\t \u001b[1m\u001b[92m0.010712536985495015\u001b[0m\t \u001b[1m\u001b[92m2.3833165208423255\u001b[0m\t \u001b[1m\u001b[92m2.4555655428191385\u001b[0m\n",
            "20 \t [1.95980097 0.41297687]\t 4.181919624139574\t 0.010712536985495015\t 2.697786333189973\t 2.5417059449651753\n"
          ]
        }
      ],
      "source": [
        "### EXACT GP EI GRADIENTS\n",
        "\n",
        "np.random.seed(run_num_19)\n",
        "surrogate_exact_19 = dGaussianProcess(cov_func, optimize=opt)\n",
        "\n",
        "exact_19 = dGPGO(surrogate_exact_19, Acquisition_grad(util), objfunc, param)\n",
        "exact_19.run(init_evals=n_init, max_iter=iters)\n"
      ]
    },
    {
      "cell_type": "code",
      "execution_count": 53,
      "metadata": {
        "id": "aw3xvSryIwDi",
        "colab": {
          "base_uri": "https://localhost:8080/"
        },
        "outputId": "6011cf83-d129-44fe-f243-1416eec224d5"
      },
      "outputs": [
        {
          "output_type": "stream",
          "name": "stdout",
          "text": [
            "Evaluation \t Proposed point \t  Current eval. \t  Best eval. \t        Exact EI: StdDev. x \t Approx EI: StdDev. x \n",
            "init\t [0.9024594  4.07258857]\t 33.98638835688907\t 1.615187047660523\t    \t    \n",
            "init\t [4.00927467 3.23417577]\t 36.994069169927414\t 1.615187047660523\t    \t    \n",
            "init\t [-4.75249064  1.96359764]\t 30.297598676217497\t 1.615187047660523\t    \t    \n",
            "init\t [-1.24230715  0.18955208]\t 1.615187047660523\t 1.615187047660523\t    \t    \n",
            "init\t [ 1.61742301 -3.13497377]\t 22.27217824772924\t 1.615187047660523\t    \t    \n",
            "1  \t [-5.12 -5.12]\t 78.64320000000001\t 1.615187047660523\t 2.9649228313265534\t 3.1527956838998676\n",
            "2  \t [ 5.12       -0.99988713]\t 28.213948553581037\t 1.615187047660523\t 3.005785617078456\t 3.460636328070422\n",
            "3  \t [-2.65980207 -2.04264104]\t 15.41931192181563\t 1.615187047660523\t 2.721806349324616\t 2.902216275020439\n",
            "4  \t [-2.84845899  5.12      ]\t 60.542518591579245\t 1.615187047660523\t 3.0158985699338547\t 3.2276245839602096\n",
            "5  \t [0.99054494 0.5937421 ]\t 1.6862386379966017\t 1.615187047660523\t 2.866549245315683\t 3.0335023267834202\n",
            "6  \t [ 4.53945094 -4.58669978]\t 62.682244630568206\t 1.615187047660523\t 3.3487848946328334\t 3.8580993475942136\n",
            "7  \t [-1.3444158 -5.12     ]\t 54.236253853481635\t 1.615187047660523\t 3.475182712192399\t 3.488887002891661\n",
            "8  \t [-1.4216181   1.77428281]\t 8.317157012424259\t 1.615187047660523\t 3.073903278743244\t 3.1237869621437513\n",
            "\u001b[1m\u001b[92m9\u001b[0m\t \u001b[1m\u001b[92m[-0.20831352 -0.59779519]\u001b[0m\t \u001b[1m\u001b[92m0.75811269354263\u001b[0m\t \u001b[1m\u001b[92m0.75811269354263\u001b[0m\t \u001b[1m\u001b[92m2.8418527984901836\u001b[0m\t \u001b[1m\u001b[92m2.859273583367732\u001b[0m\n",
            "10 \t [-5.12       -1.31143032]\t 29.654098982025875\t 0.75811269354263\t 2.897783635352395\t 3.2720984589644946\n",
            "11 \t [2.34079155 0.26935115]\t 5.6244051494231035\t 0.75811269354263\t 3.010094438666492\t 2.6824548083384014\n",
            "12 \t [-0.90552004 -0.16910331]\t 0.8771584004454188\t 0.75811269354263\t 3.319559234162949\t 3.125939576155647\n",
            "\u001b[1m\u001b[92m13\u001b[0m\t \u001b[1m\u001b[92m[-0.62950771 -0.1473108 ]\u001b[0m\t \u001b[1m\u001b[92m0.4396809010192197\u001b[0m\t \u001b[1m\u001b[92m0.4396809010192197\u001b[0m\t \u001b[1m\u001b[92m3.198595210849311\u001b[0m\t \u001b[1m\u001b[92m3.543623198074766\u001b[0m\n",
            "14 \t [ 0.63117788 -0.99390348]\t 2.3740737902385036\t 0.4396809010192197\t 2.8170872621669614\t 2.427823449158179\n",
            "15 \t [-0.38496541 -0.61426235]\t 0.9028348217525594\t 0.4396809010192197\t 2.5157013071186833\t 2.3235069856580015\n",
            "\u001b[1m\u001b[92m16\u001b[0m\t \u001b[1m\u001b[92m[-0.4801116  -0.18384572]\u001b[0m\t \u001b[1m\u001b[92m0.298105640785986\u001b[0m\t \u001b[1m\u001b[92m0.298105640785986\u001b[0m\t \u001b[1m\u001b[92m2.683217580169019\u001b[0m\t \u001b[1m\u001b[92m2.8682485539386207\u001b[0m\n",
            "\u001b[1m\u001b[92m17\u001b[0m\t \u001b[1m\u001b[92m[-0.31580785 -0.17212569]\u001b[0m\t \u001b[1m\u001b[92m0.1589891062086185\u001b[0m\t \u001b[1m\u001b[92m0.1589891062086185\u001b[0m\t \u001b[1m\u001b[92m2.863925433389355\u001b[0m\t \u001b[1m\u001b[92m2.4673326711302828\u001b[0m\n",
            "18 \t [-0.16442069 -0.673819  ]\t 0.9350982635463267\t 0.1589891062086185\t 3.270647685981255\t 3.2359357473160193\n",
            "\u001b[1m\u001b[92m19\u001b[0m\t \u001b[1m\u001b[92m[-0.09205667  0.01388275]\u001b[0m\t \u001b[1m\u001b[92m0.008859891077910822\u001b[0m\t \u001b[1m\u001b[92m0.008859891077910822\u001b[0m\t \u001b[1m\u001b[92m3.231914369554147\u001b[0m\t \u001b[1m\u001b[92m2.5432827754891436\u001b[0m\n",
            "20 \t [ 0.311343   -0.53666312]\t 0.6729490744742852\t 0.008859891077910822\t 2.5249540792088414\t 2.742411451144541\n"
          ]
        }
      ],
      "source": [
        "### EXACT GP EI GRADIENTS\n",
        "\n",
        "np.random.seed(run_num_20)\n",
        "surrogate_exact_20 = dGaussianProcess(cov_func, optimize=opt)\n",
        "\n",
        "exact_20 = dGPGO(surrogate_exact_20, Acquisition_grad(util), objfunc, param)\n",
        "exact_20.run(init_evals=n_init, max_iter=iters)\n"
      ]
    },
    {
      "cell_type": "code",
      "execution_count": 54,
      "metadata": {
        "id": "5c8szjivRPme",
        "colab": {
          "base_uri": "https://localhost:8080/"
        },
        "outputId": "2db4ef8d-6d41-4d48-a59d-aec0098ff245"
      },
      "outputs": [
        {
          "output_type": "execute_result",
          "data": {
            "text/plain": [
              "846.3889565467834"
            ]
          },
          "metadata": {},
          "execution_count": 54
        }
      ],
      "source": [
        "end_exact = time.time()\n",
        "end_exact\n",
        "\n",
        "time_exact = end_exact - start_exact\n",
        "time_exact\n"
      ]
    },
    {
      "cell_type": "code",
      "execution_count": 55,
      "metadata": {
        "id": "f6gCKnp6RR8c",
        "colab": {
          "base_uri": "https://localhost:8080/"
        },
        "outputId": "7a0147ab-b647-4733-8108-9c9aa5a49575"
      },
      "outputs": [
        {
          "output_type": "execute_result",
          "data": {
            "text/plain": [
              "(-2.422476377947825, -2.8234287736461727)"
            ]
          },
          "metadata": {},
          "execution_count": 55
        }
      ],
      "source": [
        "### Simple regret minimization: run number = 1\n",
        "\n",
        "approx_output_1 = np.append(np.min(-approx_1.GP.y[0:n_init]),-approx_1.GP.y[n_init:(n_init+iters)]) \n",
        "exact_output_1 = np.append(np.min(-exact_1.GP.y[0:n_init]),-exact_1.GP.y[n_init:(n_init+iters)]) \n",
        "\n",
        "regret_approx_1 = np.log(approx_output_1 - y_global_orig)\n",
        "regret_exact_1 = np.log(exact_output_1 - y_global_orig)\n",
        "\n",
        "simple_regret_approx_1 = min_max_array(regret_approx_1)\n",
        "simple_regret_exact_1 = min_max_array(regret_exact_1)\n",
        "\n",
        "min_simple_regret_approx_1 = min(simple_regret_approx_1)\n",
        "min_simple_regret_exact_1 = min(simple_regret_exact_1)\n",
        "\n",
        "min_simple_regret_approx_1, min_simple_regret_exact_1\n"
      ]
    },
    {
      "cell_type": "code",
      "execution_count": 56,
      "metadata": {
        "id": "94yBw5tqQxfk",
        "colab": {
          "base_uri": "https://localhost:8080/"
        },
        "outputId": "3b52dc58-ce82-4f93-800c-6063ab6a7502"
      },
      "outputs": [
        {
          "output_type": "execute_result",
          "data": {
            "text/plain": [
              "(-0.8917564649046447, -3.043171912161409)"
            ]
          },
          "metadata": {},
          "execution_count": 56
        }
      ],
      "source": [
        "### Simple regret minimization: run number = 2\n",
        "\n",
        "approx_output_2 = np.append(np.min(-approx_2.GP.y[0:n_init]),-approx_2.GP.y[n_init:(n_init+iters)]) \n",
        "exact_output_2 = np.append(np.min(-exact_2.GP.y[0:n_init]),-exact_2.GP.y[n_init:(n_init+iters)]) \n",
        "\n",
        "regret_approx_2 = np.log(approx_output_2 - y_global_orig)\n",
        "regret_exact_2 = np.log(exact_output_2 - y_global_orig)\n",
        "\n",
        "simple_regret_approx_2 = min_max_array(regret_approx_2)\n",
        "simple_regret_exact_2 = min_max_array(regret_exact_2)\n",
        "\n",
        "min_simple_regret_approx_2 = min(simple_regret_approx_2)\n",
        "min_simple_regret_exact_2 = min(simple_regret_exact_2)\n",
        "\n",
        "min_simple_regret_approx_2, min_simple_regret_exact_2\n"
      ]
    },
    {
      "cell_type": "code",
      "execution_count": 57,
      "metadata": {
        "id": "Bu6SBWALQxfl",
        "colab": {
          "base_uri": "https://localhost:8080/"
        },
        "outputId": "94f47e3c-e515-4110-90cd-c363c5fb71be"
      },
      "outputs": [
        {
          "output_type": "execute_result",
          "data": {
            "text/plain": [
              "(-5.231053840372605, -4.823587957025488)"
            ]
          },
          "metadata": {},
          "execution_count": 57
        }
      ],
      "source": [
        "### Simple regret minimization: run number = 3\n",
        "\n",
        "approx_output_3 = np.append(np.min(-approx_3.GP.y[0:n_init]),-approx_3.GP.y[n_init:(n_init+iters)]) \n",
        "exact_output_3 = np.append(np.min(-exact_3.GP.y[0:n_init]),-exact_3.GP.y[n_init:(n_init+iters)]) \n",
        "\n",
        "regret_approx_3 = np.log(approx_output_3 - y_global_orig)\n",
        "regret_exact_3 = np.log(exact_output_3 - y_global_orig)\n",
        "\n",
        "simple_regret_approx_3 = min_max_array(regret_approx_3)\n",
        "simple_regret_exact_3 = min_max_array(regret_exact_3)\n",
        "\n",
        "min_simple_regret_approx_3 = min(simple_regret_approx_3)\n",
        "min_simple_regret_exact_3 = min(simple_regret_exact_3)\n",
        "\n",
        "min_simple_regret_approx_3, min_simple_regret_exact_3"
      ]
    },
    {
      "cell_type": "code",
      "execution_count": 58,
      "metadata": {
        "id": "AZm0jgxkQxfm",
        "colab": {
          "base_uri": "https://localhost:8080/"
        },
        "outputId": "17d3aef5-c935-40d7-8f09-b7fd1e9966d0"
      },
      "outputs": [
        {
          "output_type": "execute_result",
          "data": {
            "text/plain": [
              "(-2.467533989273184, -2.971229413838786)"
            ]
          },
          "metadata": {},
          "execution_count": 58
        }
      ],
      "source": [
        "### Simple regret minimization: run number = 4\n",
        "\n",
        "approx_output_4 = np.append(np.min(-approx_4.GP.y[0:n_init]),-approx_4.GP.y[n_init:(n_init+iters)]) \n",
        "exact_output_4 = np.append(np.min(-exact_4.GP.y[0:n_init]),-exact_4.GP.y[n_init:(n_init+iters)]) \n",
        "\n",
        "regret_approx_4 = np.log(approx_output_4 - y_global_orig)\n",
        "regret_exact_4 = np.log(exact_output_4 - y_global_orig)\n",
        "\n",
        "simple_regret_approx_4 = min_max_array(regret_approx_4)\n",
        "simple_regret_exact_4 = min_max_array(regret_exact_4)\n",
        "\n",
        "min_simple_regret_approx_4 = min(simple_regret_approx_4)\n",
        "min_simple_regret_exact_4 = min(simple_regret_exact_4)\n",
        "\n",
        "min_simple_regret_approx_4, min_simple_regret_exact_4"
      ]
    },
    {
      "cell_type": "code",
      "execution_count": 59,
      "metadata": {
        "id": "NONPm8JIQxfn",
        "colab": {
          "base_uri": "https://localhost:8080/"
        },
        "outputId": "99cbd9c8-ad8b-4f2d-d91b-08d80ca829de"
      },
      "outputs": [
        {
          "output_type": "execute_result",
          "data": {
            "text/plain": [
              "(-1.2908203911407543, -0.9925106903996791)"
            ]
          },
          "metadata": {},
          "execution_count": 59
        }
      ],
      "source": [
        "### Simple regret minimization: run number = 5\n",
        "\n",
        "approx_output_5 = np.append(np.min(-approx_5.GP.y[0:n_init]),-approx_5.GP.y[n_init:(n_init+iters)]) \n",
        "exact_output_5 = np.append(np.min(-exact_5.GP.y[0:n_init]),-exact_5.GP.y[n_init:(n_init+iters)]) \n",
        "\n",
        "regret_approx_5 = np.log(approx_output_5 - y_global_orig)\n",
        "regret_exact_5 = np.log(exact_output_5 - y_global_orig)\n",
        "\n",
        "simple_regret_approx_5 = min_max_array(regret_approx_5)\n",
        "simple_regret_exact_5 = min_max_array(regret_exact_5)\n",
        "\n",
        "min_simple_regret_approx_5 = min(simple_regret_approx_5)\n",
        "min_simple_regret_exact_5 = min(simple_regret_exact_5)\n",
        "\n",
        "min_simple_regret_approx_5, min_simple_regret_exact_5"
      ]
    },
    {
      "cell_type": "code",
      "execution_count": 60,
      "metadata": {
        "id": "CJv3lPuSQxfp",
        "colab": {
          "base_uri": "https://localhost:8080/"
        },
        "outputId": "2f887eee-ec54-43af-ba00-f7465bf1135b"
      },
      "outputs": [
        {
          "output_type": "execute_result",
          "data": {
            "text/plain": [
              "(-1.1500069464820661, -3.3333629184271576)"
            ]
          },
          "metadata": {},
          "execution_count": 60
        }
      ],
      "source": [
        "### Simple regret minimization: run number = 6\n",
        "\n",
        "approx_output_6 = np.append(np.min(-approx_6.GP.y[0:n_init]),-approx_6.GP.y[n_init:(n_init+iters)]) \n",
        "exact_output_6 = np.append(np.min(-exact_6.GP.y[0:n_init]),-exact_6.GP.y[n_init:(n_init+iters)]) \n",
        "\n",
        "regret_approx_6 = np.log(approx_output_6 - y_global_orig)\n",
        "regret_exact_6 = np.log(exact_output_6 - y_global_orig)\n",
        "\n",
        "simple_regret_approx_6 = min_max_array(regret_approx_6)\n",
        "simple_regret_exact_6 = min_max_array(regret_exact_6)\n",
        "\n",
        "min_simple_regret_approx_6 = min(simple_regret_approx_6)\n",
        "min_simple_regret_exact_6 = min(simple_regret_exact_6)\n",
        "\n",
        "min_simple_regret_approx_6, min_simple_regret_exact_6"
      ]
    },
    {
      "cell_type": "code",
      "execution_count": 61,
      "metadata": {
        "id": "quR2ZyApQxfq",
        "colab": {
          "base_uri": "https://localhost:8080/"
        },
        "outputId": "20fb8a9f-8331-4f73-b354-23acbf991eb0"
      },
      "outputs": [
        {
          "output_type": "execute_result",
          "data": {
            "text/plain": [
              "(-3.624770851678055, -2.420352976645895)"
            ]
          },
          "metadata": {},
          "execution_count": 61
        }
      ],
      "source": [
        "### Simple regret minimization: run number = 7\n",
        "\n",
        "approx_output_7 = np.append(np.min(-approx_7.GP.y[0:n_init]),-approx_7.GP.y[n_init:(n_init+iters)]) \n",
        "exact_output_7 = np.append(np.min(-exact_7.GP.y[0:n_init]),-exact_7.GP.y[n_init:(n_init+iters)]) \n",
        "\n",
        "regret_approx_7 = np.log(approx_output_7 - y_global_orig)\n",
        "regret_exact_7 = np.log(exact_output_7 - y_global_orig)\n",
        "\n",
        "simple_regret_approx_7 = min_max_array(regret_approx_7)\n",
        "simple_regret_exact_7 = min_max_array(regret_exact_7)\n",
        "\n",
        "min_simple_regret_approx_7 = min(simple_regret_approx_7)\n",
        "min_simple_regret_exact_7 = min(simple_regret_exact_7)\n",
        "\n",
        "min_simple_regret_approx_7, min_simple_regret_exact_7"
      ]
    },
    {
      "cell_type": "code",
      "execution_count": 62,
      "metadata": {
        "id": "99wY5nK6Qxfr",
        "colab": {
          "base_uri": "https://localhost:8080/"
        },
        "outputId": "4012662e-a691-4fac-bcee-cb46dbb4622e"
      },
      "outputs": [
        {
          "output_type": "execute_result",
          "data": {
            "text/plain": [
              "(-2.8131384789867484, -3.541576189736187)"
            ]
          },
          "metadata": {},
          "execution_count": 62
        }
      ],
      "source": [
        "### Simple regret minimization: run number = 8\n",
        "\n",
        "approx_output_8 = np.append(np.min(-approx_8.GP.y[0:n_init]),-approx_8.GP.y[n_init:(n_init+iters)]) \n",
        "exact_output_8 = np.append(np.min(-exact_8.GP.y[0:n_init]),-exact_8.GP.y[n_init:(n_init+iters)]) \n",
        "\n",
        "regret_approx_8 = np.log(approx_output_8 - y_global_orig)\n",
        "regret_exact_8 = np.log(exact_output_8 - y_global_orig)\n",
        "\n",
        "simple_regret_approx_8 = min_max_array(regret_approx_8)\n",
        "simple_regret_exact_8 = min_max_array(regret_exact_8)\n",
        "\n",
        "min_simple_regret_approx_8 = min(simple_regret_approx_8)\n",
        "min_simple_regret_exact_8 = min(simple_regret_exact_8)\n",
        "\n",
        "min_simple_regret_approx_8, min_simple_regret_exact_8"
      ]
    },
    {
      "cell_type": "code",
      "execution_count": 63,
      "metadata": {
        "id": "qt0P5t9qQxfs",
        "colab": {
          "base_uri": "https://localhost:8080/"
        },
        "outputId": "903691d2-cd5b-4529-9696-bf3358bb2712"
      },
      "outputs": [
        {
          "output_type": "execute_result",
          "data": {
            "text/plain": [
              "(-1.4004892168510137, -2.4788399478444294)"
            ]
          },
          "metadata": {},
          "execution_count": 63
        }
      ],
      "source": [
        "### Simple regret minimization: run number = 9\n",
        "\n",
        "approx_output_9 = np.append(np.min(-approx_9.GP.y[0:n_init]),-approx_9.GP.y[n_init:(n_init+iters)]) \n",
        "exact_output_9 = np.append(np.min(-exact_9.GP.y[0:n_init]),-exact_9.GP.y[n_init:(n_init+iters)]) \n",
        "\n",
        "regret_approx_9 = np.log(approx_output_9 - y_global_orig)\n",
        "regret_exact_9 = np.log(exact_output_9 - y_global_orig)\n",
        "\n",
        "simple_regret_approx_9 = min_max_array(regret_approx_9)\n",
        "simple_regret_exact_9 = min_max_array(regret_exact_9)\n",
        "\n",
        "min_simple_regret_approx_9 = min(simple_regret_approx_9)\n",
        "min_simple_regret_exact_9 = min(simple_regret_exact_9)\n",
        "\n",
        "min_simple_regret_approx_9, min_simple_regret_exact_9"
      ]
    },
    {
      "cell_type": "code",
      "execution_count": 64,
      "metadata": {
        "id": "vx8to9stQxft",
        "colab": {
          "base_uri": "https://localhost:8080/"
        },
        "outputId": "25bb38e3-5cdf-42bb-f5a2-9dca268af2a2"
      },
      "outputs": [
        {
          "output_type": "execute_result",
          "data": {
            "text/plain": [
              "(-5.284331882154874, -5.2019380532076545)"
            ]
          },
          "metadata": {},
          "execution_count": 64
        }
      ],
      "source": [
        "### Simple regret minimization: run number = 10\n",
        "\n",
        "approx_output_10 = np.append(np.min(-approx_10.GP.y[0:n_init]),-approx_10.GP.y[n_init:(n_init+iters)]) \n",
        "exact_output_10 = np.append(np.min(-exact_10.GP.y[0:n_init]),-exact_10.GP.y[n_init:(n_init+iters)]) \n",
        "\n",
        "regret_approx_10 = np.log(approx_output_10 - y_global_orig)\n",
        "regret_exact_10 = np.log(exact_output_10 - y_global_orig)\n",
        "\n",
        "simple_regret_approx_10 = min_max_array(regret_approx_10)\n",
        "simple_regret_exact_10 = min_max_array(regret_exact_10)\n",
        "\n",
        "min_simple_regret_approx_10 = min(simple_regret_approx_10)\n",
        "min_simple_regret_exact_10 = min(simple_regret_exact_10)\n",
        "\n",
        "min_simple_regret_approx_10, min_simple_regret_exact_10"
      ]
    },
    {
      "cell_type": "code",
      "execution_count": 65,
      "metadata": {
        "id": "d-FGzWyHQxfu",
        "colab": {
          "base_uri": "https://localhost:8080/"
        },
        "outputId": "146c5215-8b16-49cf-899b-12cf0d93cb02"
      },
      "outputs": [
        {
          "output_type": "execute_result",
          "data": {
            "text/plain": [
              "(-5.014599062236898, -5.147718376458069)"
            ]
          },
          "metadata": {},
          "execution_count": 65
        }
      ],
      "source": [
        "### Simple regret minimization: run number = 11\n",
        "\n",
        "approx_output_11 = np.append(np.min(-approx_11.GP.y[0:n_init]),-approx_11.GP.y[n_init:(n_init+iters)]) \n",
        "exact_output_11 = np.append(np.min(-exact_11.GP.y[0:n_init]),-exact_11.GP.y[n_init:(n_init+iters)]) \n",
        "\n",
        "regret_approx_11 = np.log(approx_output_11 - y_global_orig)\n",
        "regret_exact_11 = np.log(exact_output_11 - y_global_orig)\n",
        "\n",
        "simple_regret_approx_11 = min_max_array(regret_approx_11)\n",
        "simple_regret_exact_11 = min_max_array(regret_exact_11)\n",
        "\n",
        "min_simple_regret_approx_11 = min(simple_regret_approx_11)\n",
        "min_simple_regret_exact_11 = min(simple_regret_exact_11)\n",
        "\n",
        "min_simple_regret_approx_11, min_simple_regret_exact_11"
      ]
    },
    {
      "cell_type": "code",
      "execution_count": 66,
      "metadata": {
        "id": "SvtsssyjQxfv",
        "colab": {
          "base_uri": "https://localhost:8080/"
        },
        "outputId": "265b7ac6-be4f-4b68-a3bb-1ce691fc9ff8"
      },
      "outputs": [
        {
          "output_type": "execute_result",
          "data": {
            "text/plain": [
              "(-2.1425781494210567, -4.372705432358304)"
            ]
          },
          "metadata": {},
          "execution_count": 66
        }
      ],
      "source": [
        "### Simple regret minimization: run number = 12\n",
        "\n",
        "approx_output_12 = np.append(np.min(-approx_12.GP.y[0:n_init]),-approx_12.GP.y[n_init:(n_init+iters)]) \n",
        "exact_output_12 = np.append(np.min(-exact_12.GP.y[0:n_init]),-exact_12.GP.y[n_init:(n_init+iters)]) \n",
        "\n",
        "regret_approx_12 = np.log(approx_output_12 - y_global_orig)\n",
        "regret_exact_12 = np.log(exact_output_12 - y_global_orig)\n",
        "\n",
        "simple_regret_approx_12 = min_max_array(regret_approx_12)\n",
        "simple_regret_exact_12 = min_max_array(regret_exact_12)\n",
        "\n",
        "min_simple_regret_approx_12 = min(simple_regret_approx_12)\n",
        "min_simple_regret_exact_12 = min(simple_regret_exact_12)\n",
        "\n",
        "min_simple_regret_approx_12, min_simple_regret_exact_12"
      ]
    },
    {
      "cell_type": "code",
      "execution_count": 67,
      "metadata": {
        "id": "K6OiGcHkQxfw",
        "colab": {
          "base_uri": "https://localhost:8080/"
        },
        "outputId": "bf67f63e-650c-47e7-9d10-05412023c72b"
      },
      "outputs": [
        {
          "output_type": "execute_result",
          "data": {
            "text/plain": [
              "(-3.5261630808283493, -2.9300371741477895)"
            ]
          },
          "metadata": {},
          "execution_count": 67
        }
      ],
      "source": [
        "### Simple regret minimization: run number = 13\n",
        "\n",
        "approx_output_13 = np.append(np.min(-approx_13.GP.y[0:n_init]),-approx_13.GP.y[n_init:(n_init+iters)]) \n",
        "exact_output_13 = np.append(np.min(-exact_13.GP.y[0:n_init]),-exact_13.GP.y[n_init:(n_init+iters)]) \n",
        "\n",
        "regret_approx_13 = np.log(approx_output_13 - y_global_orig)\n",
        "regret_exact_13 = np.log(exact_output_13 - y_global_orig)\n",
        "\n",
        "simple_regret_approx_13 = min_max_array(regret_approx_13)\n",
        "simple_regret_exact_13 = min_max_array(regret_exact_13)\n",
        "\n",
        "min_simple_regret_approx_13 = min(simple_regret_approx_13)\n",
        "min_simple_regret_exact_13 = min(simple_regret_exact_13)\n",
        "\n",
        "min_simple_regret_approx_13, min_simple_regret_exact_13"
      ]
    },
    {
      "cell_type": "code",
      "execution_count": 68,
      "metadata": {
        "id": "ogML73shQxfx",
        "colab": {
          "base_uri": "https://localhost:8080/"
        },
        "outputId": "6e4a4881-0046-43ad-d55e-ab27f3891497"
      },
      "outputs": [
        {
          "output_type": "execute_result",
          "data": {
            "text/plain": [
              "(-2.8751360166998707, -4.149672669849092)"
            ]
          },
          "metadata": {},
          "execution_count": 68
        }
      ],
      "source": [
        "### Simple regret minimization: run number = 14\n",
        "\n",
        "approx_output_14 = np.append(np.min(-approx_14.GP.y[0:n_init]),-approx_14.GP.y[n_init:(n_init+iters)]) \n",
        "exact_output_14 = np.append(np.min(-exact_14.GP.y[0:n_init]),-exact_14.GP.y[n_init:(n_init+iters)]) \n",
        "\n",
        "regret_approx_14 = np.log(approx_output_14 - y_global_orig)\n",
        "regret_exact_14 = np.log(exact_output_14 - y_global_orig)\n",
        "\n",
        "simple_regret_approx_14 = min_max_array(regret_approx_14)\n",
        "simple_regret_exact_14 = min_max_array(regret_exact_14)\n",
        "\n",
        "min_simple_regret_approx_14 = min(simple_regret_approx_14)\n",
        "min_simple_regret_exact_14 = min(simple_regret_exact_14)\n",
        "\n",
        "min_simple_regret_approx_14, min_simple_regret_exact_14"
      ]
    },
    {
      "cell_type": "code",
      "execution_count": 69,
      "metadata": {
        "id": "9Eg7gFT9Qxfx",
        "colab": {
          "base_uri": "https://localhost:8080/"
        },
        "outputId": "e60f482c-c16f-45e5-8f18-01d974c02293"
      },
      "outputs": [
        {
          "output_type": "execute_result",
          "data": {
            "text/plain": [
              "(-3.1659351312057438, -3.13377850001349)"
            ]
          },
          "metadata": {},
          "execution_count": 69
        }
      ],
      "source": [
        "### Simple regret minimization: run number = 15\n",
        "\n",
        "approx_output_15 = np.append(np.min(-approx_15.GP.y[0:n_init]),-approx_15.GP.y[n_init:(n_init+iters)]) \n",
        "exact_output_15 = np.append(np.min(-exact_15.GP.y[0:n_init]),-exact_15.GP.y[n_init:(n_init+iters)]) \n",
        "\n",
        "regret_approx_15 = np.log(approx_output_15 - y_global_orig)\n",
        "regret_exact_15 = np.log(exact_output_15 - y_global_orig)\n",
        "\n",
        "simple_regret_approx_15 = min_max_array(regret_approx_15)\n",
        "simple_regret_exact_15 = min_max_array(regret_exact_15)\n",
        "\n",
        "min_simple_regret_approx_15 = min(simple_regret_approx_15)\n",
        "min_simple_regret_exact_15 = min(simple_regret_exact_15)\n",
        "\n",
        "min_simple_regret_approx_15, min_simple_regret_exact_15"
      ]
    },
    {
      "cell_type": "code",
      "execution_count": 70,
      "metadata": {
        "id": "lIAC1U7ZQxfy",
        "colab": {
          "base_uri": "https://localhost:8080/"
        },
        "outputId": "a6ad187b-e605-417e-ef52-7bca1126354c"
      },
      "outputs": [
        {
          "output_type": "execute_result",
          "data": {
            "text/plain": [
              "(-1.7409545379660267, -1.8053042741429723)"
            ]
          },
          "metadata": {},
          "execution_count": 70
        }
      ],
      "source": [
        "### Simple regret minimization: run number = 16\n",
        "\n",
        "approx_output_16 = np.append(np.min(-approx_16.GP.y[0:n_init]),-approx_16.GP.y[n_init:(n_init+iters)]) \n",
        "exact_output_16 = np.append(np.min(-exact_16.GP.y[0:n_init]),-exact_16.GP.y[n_init:(n_init+iters)]) \n",
        "\n",
        "regret_approx_16 = np.log(approx_output_16 - y_global_orig)\n",
        "regret_exact_16 = np.log(exact_output_16 - y_global_orig)\n",
        "\n",
        "simple_regret_approx_16 = min_max_array(regret_approx_16)\n",
        "simple_regret_exact_16 = min_max_array(regret_exact_16)\n",
        "\n",
        "min_simple_regret_approx_16 = min(simple_regret_approx_16)\n",
        "min_simple_regret_exact_16 = min(simple_regret_exact_16)\n",
        "\n",
        "min_simple_regret_approx_16, min_simple_regret_exact_16"
      ]
    },
    {
      "cell_type": "code",
      "execution_count": 71,
      "metadata": {
        "id": "bGott36OQxfz",
        "colab": {
          "base_uri": "https://localhost:8080/"
        },
        "outputId": "0d865a05-6fa4-4ff1-b5ce-e65fe6b0f3fe"
      },
      "outputs": [
        {
          "output_type": "execute_result",
          "data": {
            "text/plain": [
              "(-2.561243674845723, -3.8719554656766118)"
            ]
          },
          "metadata": {},
          "execution_count": 71
        }
      ],
      "source": [
        "### Simple regret minimization: run number = 17\n",
        "\n",
        "approx_output_17 = np.append(np.min(-approx_17.GP.y[0:n_init]),-approx_17.GP.y[n_init:(n_init+iters)]) \n",
        "exact_output_17 = np.append(np.min(-exact_17.GP.y[0:n_init]),-exact_17.GP.y[n_init:(n_init+iters)]) \n",
        "\n",
        "regret_approx_17 = np.log(approx_output_17 - y_global_orig)\n",
        "regret_exact_17 = np.log(exact_output_17 - y_global_orig)\n",
        "\n",
        "simple_regret_approx_17 = min_max_array(regret_approx_17)\n",
        "simple_regret_exact_17 = min_max_array(regret_exact_17)\n",
        "\n",
        "min_simple_regret_approx_17 = min(simple_regret_approx_17)\n",
        "min_simple_regret_exact_17 = min(simple_regret_exact_17)\n",
        "\n",
        "min_simple_regret_approx_17, min_simple_regret_exact_17"
      ]
    },
    {
      "cell_type": "code",
      "execution_count": 72,
      "metadata": {
        "id": "Cz9ZYMBMQxfz",
        "colab": {
          "base_uri": "https://localhost:8080/"
        },
        "outputId": "d64cc034-3596-4907-cd0f-d9db3257d849"
      },
      "outputs": [
        {
          "output_type": "execute_result",
          "data": {
            "text/plain": [
              "(-3.767742564580457, -3.463994270179452)"
            ]
          },
          "metadata": {},
          "execution_count": 72
        }
      ],
      "source": [
        "### Simple regret minimization: run number = 18\n",
        "\n",
        "approx_output_18 = np.append(np.min(-approx_18.GP.y[0:n_init]),-approx_18.GP.y[n_init:(n_init+iters)]) \n",
        "exact_output_18 = np.append(np.min(-exact_18.GP.y[0:n_init]),-exact_18.GP.y[n_init:(n_init+iters)]) \n",
        "\n",
        "regret_approx_18 = np.log(approx_output_18 - y_global_orig)\n",
        "regret_exact_18 = np.log(exact_output_18 - y_global_orig)\n",
        "\n",
        "simple_regret_approx_18 = min_max_array(regret_approx_18)\n",
        "simple_regret_exact_18 = min_max_array(regret_exact_18)\n",
        "\n",
        "min_simple_regret_approx_18 = min(simple_regret_approx_18)\n",
        "min_simple_regret_exact_18 = min(simple_regret_exact_18)\n",
        "\n",
        "min_simple_regret_approx_18, min_simple_regret_exact_18"
      ]
    },
    {
      "cell_type": "code",
      "execution_count": 73,
      "metadata": {
        "id": "OBfpWOHNQxf0",
        "colab": {
          "base_uri": "https://localhost:8080/"
        },
        "outputId": "c9aa54a5-cf8c-4be7-9fdf-ca29a9ee8552"
      },
      "outputs": [
        {
          "output_type": "execute_result",
          "data": {
            "text/plain": [
              "(-5.4511840081028256, -4.5363405425092385)"
            ]
          },
          "metadata": {},
          "execution_count": 73
        }
      ],
      "source": [
        "### Simple regret minimization: run number = 19\n",
        "\n",
        "approx_output_19 = np.append(np.min(-approx_19.GP.y[0:n_init]),-approx_19.GP.y[n_init:(n_init+iters)]) \n",
        "exact_output_19 = np.append(np.min(-exact_19.GP.y[0:n_init]),-exact_19.GP.y[n_init:(n_init+iters)]) \n",
        "\n",
        "regret_approx_19 = np.log(approx_output_19 - y_global_orig)\n",
        "regret_exact_19 = np.log(exact_output_19 - y_global_orig)\n",
        "\n",
        "simple_regret_approx_19 = min_max_array(regret_approx_19)\n",
        "simple_regret_exact_19 = min_max_array(regret_exact_19)\n",
        "\n",
        "min_simple_regret_approx_19 = min(simple_regret_approx_19)\n",
        "min_simple_regret_exact_19 = min(simple_regret_exact_19)\n",
        "\n",
        "min_simple_regret_approx_19, min_simple_regret_exact_19"
      ]
    },
    {
      "cell_type": "code",
      "execution_count": 74,
      "metadata": {
        "id": "BE1AJ7NsQxf0",
        "colab": {
          "base_uri": "https://localhost:8080/"
        },
        "outputId": "f85850a1-36e9-4b6c-b420-f8cd4b82ccec"
      },
      "outputs": [
        {
          "output_type": "execute_result",
          "data": {
            "text/plain": [
              "(-3.289226946542802, -4.726220808130239)"
            ]
          },
          "metadata": {},
          "execution_count": 74
        }
      ],
      "source": [
        "### Simple regret minimization: run number = 20\n",
        "\n",
        "approx_output_20 = np.append(np.min(-approx_20.GP.y[0:n_init]),-approx_20.GP.y[n_init:(n_init+iters)]) \n",
        "exact_output_20 = np.append(np.min(-exact_20.GP.y[0:n_init]),-exact_20.GP.y[n_init:(n_init+iters)]) \n",
        "\n",
        "regret_approx_20 = np.log(approx_output_20 - y_global_orig)\n",
        "regret_exact_20 = np.log(exact_output_20 - y_global_orig)\n",
        "\n",
        "simple_regret_approx_20 = min_max_array(regret_approx_20)\n",
        "simple_regret_exact_20 = min_max_array(regret_exact_20)\n",
        "\n",
        "min_simple_regret_approx_20 = min(simple_regret_approx_20)\n",
        "min_simple_regret_exact_20 = min(simple_regret_exact_20)\n",
        "\n",
        "min_simple_regret_approx_20, min_simple_regret_exact_20"
      ]
    },
    {
      "cell_type": "code",
      "execution_count": 75,
      "metadata": {
        "id": "bpX-bKAHQxf1"
      },
      "outputs": [],
      "source": [
        "# Iteration1 :\n",
        "\n",
        "slice1 = 0\n",
        "\n",
        "approx1 = [simple_regret_approx_1[slice1],\n",
        "       simple_regret_approx_2[slice1],\n",
        "       simple_regret_approx_3[slice1],\n",
        "       simple_regret_approx_4[slice1],\n",
        "       simple_regret_approx_5[slice1],\n",
        "       simple_regret_approx_6[slice1],\n",
        "       simple_regret_approx_7[slice1],\n",
        "       simple_regret_approx_8[slice1],\n",
        "       simple_regret_approx_9[slice1],\n",
        "       simple_regret_approx_10[slice1],\n",
        "       simple_regret_approx_11[slice1],\n",
        "       simple_regret_approx_12[slice1],\n",
        "       simple_regret_approx_13[slice1],\n",
        "       simple_regret_approx_14[slice1],\n",
        "       simple_regret_approx_15[slice1],\n",
        "       simple_regret_approx_16[slice1],\n",
        "       simple_regret_approx_17[slice1],\n",
        "       simple_regret_approx_18[slice1],\n",
        "       simple_regret_approx_19[slice1],\n",
        "       simple_regret_approx_20[slice1]]\n",
        "\n",
        "exact1 = [simple_regret_exact_1[slice1],\n",
        "       simple_regret_exact_2[slice1],\n",
        "       simple_regret_exact_3[slice1],\n",
        "       simple_regret_exact_4[slice1],\n",
        "       simple_regret_exact_5[slice1],\n",
        "       simple_regret_exact_6[slice1],\n",
        "       simple_regret_exact_7[slice1],\n",
        "       simple_regret_exact_8[slice1],\n",
        "       simple_regret_exact_9[slice1],\n",
        "       simple_regret_exact_10[slice1],\n",
        "       simple_regret_exact_11[slice1],\n",
        "       simple_regret_exact_12[slice1],\n",
        "       simple_regret_exact_13[slice1],\n",
        "       simple_regret_exact_14[slice1],\n",
        "       simple_regret_exact_15[slice1],\n",
        "       simple_regret_exact_16[slice1],\n",
        "       simple_regret_exact_17[slice1],\n",
        "       simple_regret_exact_18[slice1],\n",
        "       simple_regret_exact_19[slice1],\n",
        "       simple_regret_exact_20[slice1]]\n",
        "\n",
        "approx1_results = pd.DataFrame(approx1).sort_values(by=[0], ascending=False)\n",
        "exact1_results = pd.DataFrame(exact1).sort_values(by=[0], ascending=False)\n",
        "\n",
        "### Best simple regret minimization IQR - approx:\n",
        "lower_approx1 = np.asarray(approx1_results[4:5][0])[0]\n",
        "median_approx1 = np.asarray(approx1_results[9:10][0])[0]\n",
        "upper_approx1 = np.asarray(approx1_results[14:15][0])[0]\n",
        "\n",
        "lower_exact1 = np.asarray(exact1_results[4:5][0])[0]\n",
        "median_exact1 = np.asarray(exact1_results[9:10][0])[0]\n",
        "upper_exact1 = np.asarray(exact1_results[14:15][0])[0]"
      ]
    },
    {
      "cell_type": "code",
      "execution_count": 76,
      "metadata": {
        "id": "CgIkJA1xQxf2"
      },
      "outputs": [],
      "source": [
        "# Iteration11 :\n",
        "\n",
        "slice11 = 10\n",
        "\n",
        "approx11 = [simple_regret_approx_1[slice11],\n",
        "       simple_regret_approx_2[slice11],\n",
        "       simple_regret_approx_3[slice11],\n",
        "       simple_regret_approx_4[slice11],\n",
        "       simple_regret_approx_5[slice11],\n",
        "       simple_regret_approx_6[slice11],\n",
        "       simple_regret_approx_7[slice11],\n",
        "       simple_regret_approx_8[slice11],\n",
        "       simple_regret_approx_9[slice11],\n",
        "       simple_regret_approx_10[slice11],\n",
        "       simple_regret_approx_11[slice11],\n",
        "       simple_regret_approx_12[slice11],\n",
        "       simple_regret_approx_13[slice11],\n",
        "       simple_regret_approx_14[slice11],\n",
        "       simple_regret_approx_15[slice11],\n",
        "       simple_regret_approx_16[slice11],\n",
        "       simple_regret_approx_17[slice11],\n",
        "       simple_regret_approx_18[slice11],\n",
        "       simple_regret_approx_19[slice11],\n",
        "       simple_regret_approx_20[slice11]]\n",
        "\n",
        "exact11 = [simple_regret_exact_1[slice11],\n",
        "       simple_regret_exact_2[slice11],\n",
        "       simple_regret_exact_3[slice11],\n",
        "       simple_regret_exact_4[slice11],\n",
        "       simple_regret_exact_5[slice11],\n",
        "       simple_regret_exact_6[slice11],\n",
        "       simple_regret_exact_7[slice11],\n",
        "       simple_regret_exact_8[slice11],\n",
        "       simple_regret_exact_9[slice11],\n",
        "       simple_regret_exact_10[slice11],\n",
        "       simple_regret_exact_11[slice11],\n",
        "       simple_regret_exact_12[slice11],\n",
        "       simple_regret_exact_13[slice11],\n",
        "       simple_regret_exact_14[slice11],\n",
        "       simple_regret_exact_15[slice11],\n",
        "       simple_regret_exact_16[slice11],\n",
        "       simple_regret_exact_17[slice11],\n",
        "       simple_regret_exact_18[slice11],\n",
        "       simple_regret_exact_19[slice11],\n",
        "       simple_regret_exact_20[slice11]]\n",
        "\n",
        "approx11_results = pd.DataFrame(approx11).sort_values(by=[0], ascending=False)\n",
        "exact11_results = pd.DataFrame(exact11).sort_values(by=[0], ascending=False)\n",
        "\n",
        "### Best simple regret minimization IQR - approx:\n",
        "lower_approx11 = np.asarray(approx11_results[4:5][0])[0]\n",
        "median_approx11 = np.asarray(approx11_results[9:10][0])[0]\n",
        "upper_approx11 = np.asarray(approx11_results[14:15][0])[0]\n",
        "\n",
        "lower_exact11 = np.asarray(exact11_results[4:5][0])[0]\n",
        "median_exact11 = np.asarray(exact11_results[9:10][0])[0]\n",
        "upper_exact11 = np.asarray(exact11_results[14:15][0])[0]"
      ]
    },
    {
      "cell_type": "code",
      "execution_count": 77,
      "metadata": {
        "id": "MFePDfGuQxf2"
      },
      "outputs": [],
      "source": [
        "# Iteration21 :\n",
        "\n",
        "slice21 = 20\n",
        "\n",
        "approx21 = [simple_regret_approx_1[slice21],\n",
        "       simple_regret_approx_2[slice21],\n",
        "       simple_regret_approx_3[slice21],\n",
        "       simple_regret_approx_4[slice21],\n",
        "       simple_regret_approx_5[slice21],\n",
        "       simple_regret_approx_6[slice21],\n",
        "       simple_regret_approx_7[slice21],\n",
        "       simple_regret_approx_8[slice21],\n",
        "       simple_regret_approx_9[slice21],\n",
        "       simple_regret_approx_10[slice21],\n",
        "       simple_regret_approx_11[slice21],\n",
        "       simple_regret_approx_12[slice21],\n",
        "       simple_regret_approx_13[slice21],\n",
        "       simple_regret_approx_14[slice21],\n",
        "       simple_regret_approx_15[slice21],\n",
        "       simple_regret_approx_16[slice21],\n",
        "       simple_regret_approx_17[slice21],\n",
        "       simple_regret_approx_18[slice21],\n",
        "       simple_regret_approx_19[slice21],\n",
        "       simple_regret_approx_20[slice21]]\n",
        "\n",
        "exact21 = [simple_regret_exact_1[slice21],\n",
        "       simple_regret_exact_2[slice21],\n",
        "       simple_regret_exact_3[slice21],\n",
        "       simple_regret_exact_4[slice21],\n",
        "       simple_regret_exact_5[slice21],\n",
        "       simple_regret_exact_6[slice21],\n",
        "       simple_regret_exact_7[slice21],\n",
        "       simple_regret_exact_8[slice21],\n",
        "       simple_regret_exact_9[slice21],\n",
        "       simple_regret_exact_10[slice21],\n",
        "       simple_regret_exact_11[slice21],\n",
        "       simple_regret_exact_12[slice21],\n",
        "       simple_regret_exact_13[slice21],\n",
        "       simple_regret_exact_14[slice21],\n",
        "       simple_regret_exact_15[slice21],\n",
        "       simple_regret_exact_16[slice21],\n",
        "       simple_regret_exact_17[slice21],\n",
        "       simple_regret_exact_18[slice21],\n",
        "       simple_regret_exact_19[slice21],\n",
        "       simple_regret_exact_20[slice21]]\n",
        "\n",
        "approx21_results = pd.DataFrame(approx21).sort_values(by=[0], ascending=False)\n",
        "exact21_results = pd.DataFrame(exact21).sort_values(by=[0], ascending=False)\n",
        "\n",
        "### Best simple regret minimization IQR - approx:\n",
        "lower_approx21 = np.asarray(approx21_results[4:5][0])[0]\n",
        "median_approx21 = np.asarray(approx21_results[9:10][0])[0]\n",
        "upper_approx21 = np.asarray(approx21_results[14:15][0])[0]\n",
        "\n",
        "lower_exact21 = np.asarray(exact21_results[4:5][0])[0]\n",
        "median_exact21 = np.asarray(exact21_results[9:10][0])[0]\n",
        "upper_exact21 = np.asarray(exact21_results[14:15][0])[0]"
      ]
    },
    {
      "cell_type": "code",
      "execution_count": 78,
      "metadata": {
        "id": "PrRDB1kfQxf3"
      },
      "outputs": [],
      "source": [
        "# Iteration2 :\n",
        "\n",
        "slice2 = 1\n",
        "\n",
        "approx2 = [simple_regret_approx_1[slice2],\n",
        "       simple_regret_approx_2[slice2],\n",
        "       simple_regret_approx_3[slice2],\n",
        "       simple_regret_approx_4[slice2],\n",
        "       simple_regret_approx_5[slice2],\n",
        "       simple_regret_approx_6[slice2],\n",
        "       simple_regret_approx_7[slice2],\n",
        "       simple_regret_approx_8[slice2],\n",
        "       simple_regret_approx_9[slice2],\n",
        "       simple_regret_approx_10[slice2],\n",
        "       simple_regret_approx_11[slice2],\n",
        "       simple_regret_approx_12[slice2],\n",
        "       simple_regret_approx_13[slice2],\n",
        "       simple_regret_approx_14[slice2],\n",
        "       simple_regret_approx_15[slice2],\n",
        "       simple_regret_approx_16[slice2],\n",
        "       simple_regret_approx_17[slice2],\n",
        "       simple_regret_approx_18[slice2],\n",
        "       simple_regret_approx_19[slice2],\n",
        "       simple_regret_approx_20[slice2]]\n",
        "\n",
        "exact2 = [simple_regret_exact_1[slice2],\n",
        "       simple_regret_exact_2[slice2],\n",
        "       simple_regret_exact_3[slice2],\n",
        "       simple_regret_exact_4[slice2],\n",
        "       simple_regret_exact_5[slice2],\n",
        "       simple_regret_exact_6[slice2],\n",
        "       simple_regret_exact_7[slice2],\n",
        "       simple_regret_exact_8[slice2],\n",
        "       simple_regret_exact_9[slice2],\n",
        "       simple_regret_exact_10[slice2],\n",
        "       simple_regret_exact_11[slice2],\n",
        "       simple_regret_exact_12[slice2],\n",
        "       simple_regret_exact_13[slice2],\n",
        "       simple_regret_exact_14[slice2],\n",
        "       simple_regret_exact_15[slice2],\n",
        "       simple_regret_exact_16[slice2],\n",
        "       simple_regret_exact_17[slice2],\n",
        "       simple_regret_exact_18[slice2],\n",
        "       simple_regret_exact_19[slice2],\n",
        "       simple_regret_exact_20[slice2]]\n",
        "\n",
        "approx2_results = pd.DataFrame(approx2).sort_values(by=[0], ascending=False)\n",
        "exact2_results = pd.DataFrame(exact2).sort_values(by=[0], ascending=False)\n",
        "\n",
        "### Best simple regret minimization IQR - approx:\n",
        "lower_approx2 = np.asarray(approx2_results[4:5][0])[0]\n",
        "median_approx2 = np.asarray(approx2_results[9:10][0])[0]\n",
        "upper_approx2 = np.asarray(approx2_results[14:15][0])[0]\n",
        "\n",
        "lower_exact2 = np.asarray(exact2_results[4:5][0])[0]\n",
        "median_exact2 = np.asarray(exact2_results[9:10][0])[0]\n",
        "upper_exact2 = np.asarray(exact2_results[14:15][0])[0]"
      ]
    },
    {
      "cell_type": "code",
      "execution_count": 79,
      "metadata": {
        "id": "B8ncJDYeQxf3"
      },
      "outputs": [],
      "source": [
        "# Iteration12 :\n",
        "\n",
        "slice12 = 11\n",
        "\n",
        "approx12 = [simple_regret_approx_1[slice12],\n",
        "       simple_regret_approx_2[slice12],\n",
        "       simple_regret_approx_3[slice12],\n",
        "       simple_regret_approx_4[slice12],\n",
        "       simple_regret_approx_5[slice12],\n",
        "       simple_regret_approx_6[slice12],\n",
        "       simple_regret_approx_7[slice12],\n",
        "       simple_regret_approx_8[slice12],\n",
        "       simple_regret_approx_9[slice12],\n",
        "       simple_regret_approx_10[slice12],\n",
        "       simple_regret_approx_11[slice12],\n",
        "       simple_regret_approx_12[slice12],\n",
        "       simple_regret_approx_13[slice12],\n",
        "       simple_regret_approx_14[slice12],\n",
        "       simple_regret_approx_15[slice12],\n",
        "       simple_regret_approx_16[slice12],\n",
        "       simple_regret_approx_17[slice12],\n",
        "       simple_regret_approx_18[slice12],\n",
        "       simple_regret_approx_19[slice12],\n",
        "       simple_regret_approx_20[slice12]]\n",
        "\n",
        "exact12 = [simple_regret_exact_1[slice12],\n",
        "       simple_regret_exact_2[slice12],\n",
        "       simple_regret_exact_3[slice12],\n",
        "       simple_regret_exact_4[slice12],\n",
        "       simple_regret_exact_5[slice12],\n",
        "       simple_regret_exact_6[slice12],\n",
        "       simple_regret_exact_7[slice12],\n",
        "       simple_regret_exact_8[slice12],\n",
        "       simple_regret_exact_9[slice12],\n",
        "       simple_regret_exact_10[slice12],\n",
        "       simple_regret_exact_11[slice12],\n",
        "       simple_regret_exact_12[slice12],\n",
        "       simple_regret_exact_13[slice12],\n",
        "       simple_regret_exact_14[slice12],\n",
        "       simple_regret_exact_15[slice12],\n",
        "       simple_regret_exact_16[slice12],\n",
        "       simple_regret_exact_17[slice12],\n",
        "       simple_regret_exact_18[slice12],\n",
        "       simple_regret_exact_19[slice12],\n",
        "       simple_regret_exact_20[slice12]]\n",
        "\n",
        "approx12_results = pd.DataFrame(approx12).sort_values(by=[0], ascending=False)\n",
        "exact12_results = pd.DataFrame(exact12).sort_values(by=[0], ascending=False)\n",
        "\n",
        "### Best simple regret minimization IQR - approx:\n",
        "lower_approx12 = np.asarray(approx12_results[4:5][0])[0]\n",
        "median_approx12 = np.asarray(approx12_results[9:10][0])[0]\n",
        "upper_approx12 = np.asarray(approx12_results[14:15][0])[0]\n",
        "\n",
        "lower_exact12 = np.asarray(exact12_results[4:5][0])[0]\n",
        "median_exact12 = np.asarray(exact12_results[9:10][0])[0]\n",
        "upper_exact12 = np.asarray(exact12_results[14:15][0])[0]"
      ]
    },
    {
      "cell_type": "code",
      "execution_count": 80,
      "metadata": {
        "id": "Jn4KpGvcQxf4"
      },
      "outputs": [],
      "source": [
        "# Iteration3 :\n",
        "\n",
        "slice3 = 2\n",
        "\n",
        "approx3 = [simple_regret_approx_1[slice3],\n",
        "       simple_regret_approx_2[slice3],\n",
        "       simple_regret_approx_3[slice3],\n",
        "       simple_regret_approx_4[slice3],\n",
        "       simple_regret_approx_5[slice3],\n",
        "       simple_regret_approx_6[slice3],\n",
        "       simple_regret_approx_7[slice3],\n",
        "       simple_regret_approx_8[slice3],\n",
        "       simple_regret_approx_9[slice3],\n",
        "       simple_regret_approx_10[slice3],\n",
        "       simple_regret_approx_11[slice3],\n",
        "       simple_regret_approx_12[slice3],\n",
        "       simple_regret_approx_13[slice3],\n",
        "       simple_regret_approx_14[slice3],\n",
        "       simple_regret_approx_15[slice3],\n",
        "       simple_regret_approx_16[slice3],\n",
        "       simple_regret_approx_17[slice3],\n",
        "       simple_regret_approx_18[slice3],\n",
        "       simple_regret_approx_19[slice3],\n",
        "       simple_regret_approx_20[slice3]]\n",
        "\n",
        "exact3 = [simple_regret_exact_1[slice3],\n",
        "       simple_regret_exact_2[slice3],\n",
        "       simple_regret_exact_3[slice3],\n",
        "       simple_regret_exact_4[slice3],\n",
        "       simple_regret_exact_5[slice3],\n",
        "       simple_regret_exact_6[slice3],\n",
        "       simple_regret_exact_7[slice3],\n",
        "       simple_regret_exact_8[slice3],\n",
        "       simple_regret_exact_9[slice3],\n",
        "       simple_regret_exact_10[slice3],\n",
        "       simple_regret_exact_11[slice3],\n",
        "       simple_regret_exact_12[slice3],\n",
        "       simple_regret_exact_13[slice3],\n",
        "       simple_regret_exact_14[slice3],\n",
        "       simple_regret_exact_15[slice3],\n",
        "       simple_regret_exact_16[slice3],\n",
        "       simple_regret_exact_17[slice3],\n",
        "       simple_regret_exact_18[slice3],\n",
        "       simple_regret_exact_19[slice3],\n",
        "       simple_regret_exact_20[slice3]]\n",
        "\n",
        "approx3_results = pd.DataFrame(approx3).sort_values(by=[0], ascending=False)\n",
        "exact3_results = pd.DataFrame(exact3).sort_values(by=[0], ascending=False)\n",
        "\n",
        "### Best simple regret minimization IQR - approx:\n",
        "lower_approx3 = np.asarray(approx3_results[4:5][0])[0]\n",
        "median_approx3 = np.asarray(approx3_results[9:10][0])[0]\n",
        "upper_approx3 = np.asarray(approx3_results[14:15][0])[0]\n",
        "\n",
        "lower_exact3 = np.asarray(exact3_results[4:5][0])[0]\n",
        "median_exact3 = np.asarray(exact3_results[9:10][0])[0]\n",
        "upper_exact3 = np.asarray(exact3_results[14:15][0])[0]"
      ]
    },
    {
      "cell_type": "code",
      "execution_count": 81,
      "metadata": {
        "id": "plf83wxrQxf4"
      },
      "outputs": [],
      "source": [
        "# Iteration13 :\n",
        "\n",
        "slice13 = 12\n",
        "\n",
        "approx13 = [simple_regret_approx_1[slice13],\n",
        "       simple_regret_approx_2[slice13],\n",
        "       simple_regret_approx_3[slice13],\n",
        "       simple_regret_approx_4[slice13],\n",
        "       simple_regret_approx_5[slice13],\n",
        "       simple_regret_approx_6[slice13],\n",
        "       simple_regret_approx_7[slice13],\n",
        "       simple_regret_approx_8[slice13],\n",
        "       simple_regret_approx_9[slice13],\n",
        "       simple_regret_approx_10[slice13],\n",
        "       simple_regret_approx_11[slice13],\n",
        "       simple_regret_approx_12[slice13],\n",
        "       simple_regret_approx_13[slice13],\n",
        "       simple_regret_approx_14[slice13],\n",
        "       simple_regret_approx_15[slice13],\n",
        "       simple_regret_approx_16[slice13],\n",
        "       simple_regret_approx_17[slice13],\n",
        "       simple_regret_approx_18[slice13],\n",
        "       simple_regret_approx_19[slice13],\n",
        "       simple_regret_approx_20[slice13]]\n",
        "\n",
        "exact13 = [simple_regret_exact_1[slice13],\n",
        "       simple_regret_exact_2[slice13],\n",
        "       simple_regret_exact_3[slice13],\n",
        "       simple_regret_exact_4[slice13],\n",
        "       simple_regret_exact_5[slice13],\n",
        "       simple_regret_exact_6[slice13],\n",
        "       simple_regret_exact_7[slice13],\n",
        "       simple_regret_exact_8[slice13],\n",
        "       simple_regret_exact_9[slice13],\n",
        "       simple_regret_exact_10[slice13],\n",
        "       simple_regret_exact_11[slice13],\n",
        "       simple_regret_exact_12[slice13],\n",
        "       simple_regret_exact_13[slice13],\n",
        "       simple_regret_exact_14[slice13],\n",
        "       simple_regret_exact_15[slice13],\n",
        "       simple_regret_exact_16[slice13],\n",
        "       simple_regret_exact_17[slice13],\n",
        "       simple_regret_exact_18[slice13],\n",
        "       simple_regret_exact_19[slice13],\n",
        "       simple_regret_exact_20[slice13]]\n",
        "\n",
        "approx13_results = pd.DataFrame(approx13).sort_values(by=[0], ascending=False)\n",
        "exact13_results = pd.DataFrame(exact13).sort_values(by=[0], ascending=False)\n",
        "\n",
        "### Best simple regret minimization IQR - approx:\n",
        "lower_approx13 = np.asarray(approx13_results[4:5][0])[0]\n",
        "median_approx13 = np.asarray(approx13_results[9:10][0])[0]\n",
        "upper_approx13 = np.asarray(approx13_results[14:15][0])[0]\n",
        "\n",
        "lower_exact13 = np.asarray(exact13_results[4:5][0])[0]\n",
        "median_exact13 = np.asarray(exact13_results[9:10][0])[0]\n",
        "upper_exact13 = np.asarray(exact13_results[14:15][0])[0]"
      ]
    },
    {
      "cell_type": "code",
      "execution_count": 82,
      "metadata": {
        "id": "9A7mlVvJQxf5"
      },
      "outputs": [],
      "source": [
        "# Iteration4 :\n",
        "\n",
        "slice4 = 3\n",
        "\n",
        "approx4 = [simple_regret_approx_1[slice4],\n",
        "       simple_regret_approx_2[slice4],\n",
        "       simple_regret_approx_3[slice4],\n",
        "       simple_regret_approx_4[slice4],\n",
        "       simple_regret_approx_5[slice4],\n",
        "       simple_regret_approx_6[slice4],\n",
        "       simple_regret_approx_7[slice4],\n",
        "       simple_regret_approx_8[slice4],\n",
        "       simple_regret_approx_9[slice4],\n",
        "       simple_regret_approx_10[slice4],\n",
        "       simple_regret_approx_11[slice4],\n",
        "       simple_regret_approx_12[slice4],\n",
        "       simple_regret_approx_13[slice4],\n",
        "       simple_regret_approx_14[slice4],\n",
        "       simple_regret_approx_15[slice4],\n",
        "       simple_regret_approx_16[slice4],\n",
        "       simple_regret_approx_17[slice4],\n",
        "       simple_regret_approx_18[slice4],\n",
        "       simple_regret_approx_19[slice4],\n",
        "       simple_regret_approx_20[slice4]]\n",
        "\n",
        "exact4 = [simple_regret_exact_1[slice4],\n",
        "       simple_regret_exact_2[slice4],\n",
        "       simple_regret_exact_3[slice4],\n",
        "       simple_regret_exact_4[slice4],\n",
        "       simple_regret_exact_5[slice4],\n",
        "       simple_regret_exact_6[slice4],\n",
        "       simple_regret_exact_7[slice4],\n",
        "       simple_regret_exact_8[slice4],\n",
        "       simple_regret_exact_9[slice4],\n",
        "       simple_regret_exact_10[slice4],\n",
        "       simple_regret_exact_11[slice4],\n",
        "       simple_regret_exact_12[slice4],\n",
        "       simple_regret_exact_13[slice4],\n",
        "       simple_regret_exact_14[slice4],\n",
        "       simple_regret_exact_15[slice4],\n",
        "       simple_regret_exact_16[slice4],\n",
        "       simple_regret_exact_17[slice4],\n",
        "       simple_regret_exact_18[slice4],\n",
        "       simple_regret_exact_19[slice4],\n",
        "       simple_regret_exact_20[slice4]]\n",
        "\n",
        "approx4_results = pd.DataFrame(approx4).sort_values(by=[0], ascending=False)\n",
        "exact4_results = pd.DataFrame(exact4).sort_values(by=[0], ascending=False)\n",
        "\n",
        "### Best simple regret minimization IQR - approx:\n",
        "lower_approx4 = np.asarray(approx4_results[4:5][0])[0]\n",
        "median_approx4 = np.asarray(approx4_results[9:10][0])[0]\n",
        "upper_approx4 = np.asarray(approx4_results[14:15][0])[0]\n",
        "\n",
        "lower_exact4 = np.asarray(exact4_results[4:5][0])[0]\n",
        "median_exact4 = np.asarray(exact4_results[9:10][0])[0]\n",
        "upper_exact4 = np.asarray(exact4_results[14:15][0])[0]"
      ]
    },
    {
      "cell_type": "code",
      "execution_count": 83,
      "metadata": {
        "id": "ijq-rioYQxf5"
      },
      "outputs": [],
      "source": [
        "# Iteration14 :\n",
        "\n",
        "slice14 = 13\n",
        "\n",
        "approx14 = [simple_regret_approx_1[slice14],\n",
        "       simple_regret_approx_2[slice14],\n",
        "       simple_regret_approx_3[slice14],\n",
        "       simple_regret_approx_4[slice14],\n",
        "       simple_regret_approx_5[slice14],\n",
        "       simple_regret_approx_6[slice14],\n",
        "       simple_regret_approx_7[slice14],\n",
        "       simple_regret_approx_8[slice14],\n",
        "       simple_regret_approx_9[slice14],\n",
        "       simple_regret_approx_10[slice14],\n",
        "       simple_regret_approx_11[slice14],\n",
        "       simple_regret_approx_12[slice14],\n",
        "       simple_regret_approx_13[slice14],\n",
        "       simple_regret_approx_14[slice14],\n",
        "       simple_regret_approx_15[slice14],\n",
        "       simple_regret_approx_16[slice14],\n",
        "       simple_regret_approx_17[slice14],\n",
        "       simple_regret_approx_18[slice14],\n",
        "       simple_regret_approx_19[slice14],\n",
        "       simple_regret_approx_20[slice14]]\n",
        "\n",
        "exact14 = [simple_regret_exact_1[slice14],\n",
        "       simple_regret_exact_2[slice14],\n",
        "       simple_regret_exact_3[slice14],\n",
        "       simple_regret_exact_4[slice14],\n",
        "       simple_regret_exact_5[slice14],\n",
        "       simple_regret_exact_6[slice14],\n",
        "       simple_regret_exact_7[slice14],\n",
        "       simple_regret_exact_8[slice14],\n",
        "       simple_regret_exact_9[slice14],\n",
        "       simple_regret_exact_10[slice14],\n",
        "       simple_regret_exact_11[slice14],\n",
        "       simple_regret_exact_12[slice14],\n",
        "       simple_regret_exact_13[slice14],\n",
        "       simple_regret_exact_14[slice14],\n",
        "       simple_regret_exact_15[slice14],\n",
        "       simple_regret_exact_16[slice14],\n",
        "       simple_regret_exact_17[slice14],\n",
        "       simple_regret_exact_18[slice14],\n",
        "       simple_regret_exact_19[slice14],\n",
        "       simple_regret_exact_20[slice14]]\n",
        "\n",
        "approx14_results = pd.DataFrame(approx14).sort_values(by=[0], ascending=False)\n",
        "exact14_results = pd.DataFrame(exact14).sort_values(by=[0], ascending=False)\n",
        "\n",
        "### Best simple regret minimization IQR - approx:\n",
        "lower_approx14 = np.asarray(approx14_results[4:5][0])[0]\n",
        "median_approx14 = np.asarray(approx14_results[9:10][0])[0]\n",
        "upper_approx14 = np.asarray(approx14_results[14:15][0])[0]\n",
        "\n",
        "lower_exact14 = np.asarray(exact14_results[4:5][0])[0]\n",
        "median_exact14 = np.asarray(exact14_results[9:10][0])[0]\n",
        "upper_exact14 = np.asarray(exact14_results[14:15][0])[0]"
      ]
    },
    {
      "cell_type": "code",
      "execution_count": 84,
      "metadata": {
        "id": "XINlZjoTd-ZK"
      },
      "outputs": [],
      "source": [
        "# Iteration5 :\n",
        "\n",
        "slice5 = 4\n",
        "\n",
        "approx5 = [simple_regret_approx_1[slice5],\n",
        "       simple_regret_approx_2[slice5],\n",
        "       simple_regret_approx_3[slice5],\n",
        "       simple_regret_approx_4[slice5],\n",
        "       simple_regret_approx_5[slice5],\n",
        "       simple_regret_approx_6[slice5],\n",
        "       simple_regret_approx_7[slice5],\n",
        "       simple_regret_approx_8[slice5],\n",
        "       simple_regret_approx_9[slice5],\n",
        "       simple_regret_approx_10[slice5],\n",
        "       simple_regret_approx_11[slice5],\n",
        "       simple_regret_approx_12[slice5],\n",
        "       simple_regret_approx_13[slice5],\n",
        "       simple_regret_approx_14[slice5],\n",
        "       simple_regret_approx_15[slice5],\n",
        "       simple_regret_approx_16[slice5],\n",
        "       simple_regret_approx_17[slice5],\n",
        "       simple_regret_approx_18[slice5],\n",
        "       simple_regret_approx_19[slice5],\n",
        "       simple_regret_approx_20[slice5]]\n",
        "\n",
        "exact5 = [simple_regret_exact_1[slice5],\n",
        "       simple_regret_exact_2[slice5],\n",
        "       simple_regret_exact_3[slice5],\n",
        "       simple_regret_exact_4[slice5],\n",
        "       simple_regret_exact_5[slice5],\n",
        "       simple_regret_exact_6[slice5],\n",
        "       simple_regret_exact_7[slice5],\n",
        "       simple_regret_exact_8[slice5],\n",
        "       simple_regret_exact_9[slice5],\n",
        "       simple_regret_exact_10[slice5],\n",
        "       simple_regret_exact_11[slice5],\n",
        "       simple_regret_exact_12[slice5],\n",
        "       simple_regret_exact_13[slice5],\n",
        "       simple_regret_exact_14[slice5],\n",
        "       simple_regret_exact_15[slice5],\n",
        "       simple_regret_exact_16[slice5],\n",
        "       simple_regret_exact_17[slice5],\n",
        "       simple_regret_exact_18[slice5],\n",
        "       simple_regret_exact_19[slice5],\n",
        "       simple_regret_exact_20[slice5]]\n",
        "\n",
        "approx5_results = pd.DataFrame(approx5).sort_values(by=[0], ascending=False)\n",
        "exact5_results = pd.DataFrame(exact5).sort_values(by=[0], ascending=False)\n",
        "\n",
        "### Best simple regret minimization IQR - approx:\n",
        "lower_approx5 = np.asarray(approx5_results[4:5][0])[0]\n",
        "median_approx5 = np.asarray(approx5_results[9:10][0])[0]\n",
        "upper_approx5 = np.asarray(approx5_results[14:15][0])[0]\n",
        "\n",
        "lower_exact5 = np.asarray(exact5_results[4:5][0])[0]\n",
        "median_exact5 = np.asarray(exact5_results[9:10][0])[0]\n",
        "upper_exact5 = np.asarray(exact5_results[14:15][0])[0]"
      ]
    },
    {
      "cell_type": "code",
      "execution_count": 85,
      "metadata": {
        "id": "4aZ7C8sOQxf6"
      },
      "outputs": [],
      "source": [
        "# Iteration15 :\n",
        "\n",
        "slice15 = 14\n",
        "\n",
        "approx15 = [simple_regret_approx_1[slice15],\n",
        "       simple_regret_approx_2[slice15],\n",
        "       simple_regret_approx_3[slice15],\n",
        "       simple_regret_approx_4[slice15],\n",
        "       simple_regret_approx_5[slice15],\n",
        "       simple_regret_approx_6[slice15],\n",
        "       simple_regret_approx_7[slice15],\n",
        "       simple_regret_approx_8[slice15],\n",
        "       simple_regret_approx_9[slice15],\n",
        "       simple_regret_approx_10[slice15],\n",
        "       simple_regret_approx_11[slice15],\n",
        "       simple_regret_approx_12[slice15],\n",
        "       simple_regret_approx_13[slice15],\n",
        "       simple_regret_approx_14[slice15],\n",
        "       simple_regret_approx_15[slice15],\n",
        "       simple_regret_approx_16[slice15],\n",
        "       simple_regret_approx_17[slice15],\n",
        "       simple_regret_approx_18[slice15],\n",
        "       simple_regret_approx_19[slice15],\n",
        "       simple_regret_approx_20[slice15]]\n",
        "\n",
        "exact15 = [simple_regret_exact_1[slice15],\n",
        "       simple_regret_exact_2[slice15],\n",
        "       simple_regret_exact_3[slice15],\n",
        "       simple_regret_exact_4[slice15],\n",
        "       simple_regret_exact_5[slice15],\n",
        "       simple_regret_exact_6[slice15],\n",
        "       simple_regret_exact_7[slice15],\n",
        "       simple_regret_exact_8[slice15],\n",
        "       simple_regret_exact_9[slice15],\n",
        "       simple_regret_exact_10[slice15],\n",
        "       simple_regret_exact_11[slice15],\n",
        "       simple_regret_exact_12[slice15],\n",
        "       simple_regret_exact_13[slice15],\n",
        "       simple_regret_exact_14[slice15],\n",
        "       simple_regret_exact_15[slice15],\n",
        "       simple_regret_exact_16[slice15],\n",
        "       simple_regret_exact_17[slice15],\n",
        "       simple_regret_exact_18[slice15],\n",
        "       simple_regret_exact_19[slice15],\n",
        "       simple_regret_exact_20[slice15]]\n",
        "\n",
        "approx15_results = pd.DataFrame(approx15).sort_values(by=[0], ascending=False)\n",
        "exact15_results = pd.DataFrame(exact15).sort_values(by=[0], ascending=False)\n",
        "\n",
        "### Best simple regret minimization IQR - approx:\n",
        "lower_approx15 = np.asarray(approx15_results[4:5][0])[0]\n",
        "median_approx15 = np.asarray(approx15_results[9:10][0])[0]\n",
        "upper_approx15 = np.asarray(approx15_results[14:15][0])[0]\n",
        "\n",
        "lower_exact15 = np.asarray(exact15_results[4:5][0])[0]\n",
        "median_exact15 = np.asarray(exact15_results[9:10][0])[0]\n",
        "upper_exact15 = np.asarray(exact15_results[14:15][0])[0]"
      ]
    },
    {
      "cell_type": "code",
      "execution_count": 86,
      "metadata": {
        "id": "KJINKhv1Qxf6"
      },
      "outputs": [],
      "source": [
        "# Iteration6 :\n",
        "\n",
        "slice6 = 5\n",
        "\n",
        "approx6 = [simple_regret_approx_1[slice6],\n",
        "       simple_regret_approx_2[slice6],\n",
        "       simple_regret_approx_3[slice6],\n",
        "       simple_regret_approx_4[slice6],\n",
        "       simple_regret_approx_5[slice6],\n",
        "       simple_regret_approx_6[slice6],\n",
        "       simple_regret_approx_7[slice6],\n",
        "       simple_regret_approx_8[slice6],\n",
        "       simple_regret_approx_9[slice6],\n",
        "       simple_regret_approx_10[slice6],\n",
        "       simple_regret_approx_11[slice6],\n",
        "       simple_regret_approx_12[slice6],\n",
        "       simple_regret_approx_13[slice6],\n",
        "       simple_regret_approx_14[slice6],\n",
        "       simple_regret_approx_15[slice6],\n",
        "       simple_regret_approx_16[slice6],\n",
        "       simple_regret_approx_17[slice6],\n",
        "       simple_regret_approx_18[slice6],\n",
        "       simple_regret_approx_19[slice6],\n",
        "       simple_regret_approx_20[slice6]]\n",
        "\n",
        "exact6 = [simple_regret_exact_1[slice6],\n",
        "       simple_regret_exact_2[slice6],\n",
        "       simple_regret_exact_3[slice6],\n",
        "       simple_regret_exact_4[slice6],\n",
        "       simple_regret_exact_5[slice6],\n",
        "       simple_regret_exact_6[slice6],\n",
        "       simple_regret_exact_7[slice6],\n",
        "       simple_regret_exact_8[slice6],\n",
        "       simple_regret_exact_9[slice6],\n",
        "       simple_regret_exact_10[slice6],\n",
        "       simple_regret_exact_11[slice6],\n",
        "       simple_regret_exact_12[slice6],\n",
        "       simple_regret_exact_13[slice6],\n",
        "       simple_regret_exact_14[slice6],\n",
        "       simple_regret_exact_15[slice6],\n",
        "       simple_regret_exact_16[slice6],\n",
        "       simple_regret_exact_17[slice6],\n",
        "       simple_regret_exact_18[slice6],\n",
        "       simple_regret_exact_19[slice6],\n",
        "       simple_regret_exact_20[slice6]]\n",
        "\n",
        "approx6_results = pd.DataFrame(approx6).sort_values(by=[0], ascending=False)\n",
        "exact6_results = pd.DataFrame(exact6).sort_values(by=[0], ascending=False)\n",
        "\n",
        "### Best simple regret minimization IQR - approx:\n",
        "lower_approx6 = np.asarray(approx6_results[4:5][0])[0]\n",
        "median_approx6 = np.asarray(approx6_results[9:10][0])[0]\n",
        "upper_approx6 = np.asarray(approx6_results[14:15][0])[0]\n",
        "\n",
        "lower_exact6 = np.asarray(exact6_results[4:5][0])[0]\n",
        "median_exact6 = np.asarray(exact6_results[9:10][0])[0]\n",
        "upper_exact6 = np.asarray(exact6_results[14:15][0])[0]"
      ]
    },
    {
      "cell_type": "code",
      "execution_count": 87,
      "metadata": {
        "id": "nwC5N1FsQxf7"
      },
      "outputs": [],
      "source": [
        "# Iteration16 :\n",
        "\n",
        "slice16 = 15\n",
        "\n",
        "approx16 = [simple_regret_approx_1[slice16],\n",
        "       simple_regret_approx_2[slice16],\n",
        "       simple_regret_approx_3[slice16],\n",
        "       simple_regret_approx_4[slice16],\n",
        "       simple_regret_approx_5[slice16],\n",
        "       simple_regret_approx_6[slice16],\n",
        "       simple_regret_approx_7[slice16],\n",
        "       simple_regret_approx_8[slice16],\n",
        "       simple_regret_approx_9[slice16],\n",
        "       simple_regret_approx_10[slice16],\n",
        "       simple_regret_approx_11[slice16],\n",
        "       simple_regret_approx_12[slice16],\n",
        "       simple_regret_approx_13[slice16],\n",
        "       simple_regret_approx_14[slice16],\n",
        "       simple_regret_approx_15[slice16],\n",
        "       simple_regret_approx_16[slice16],\n",
        "       simple_regret_approx_17[slice16],\n",
        "       simple_regret_approx_18[slice16],\n",
        "       simple_regret_approx_19[slice16],\n",
        "       simple_regret_approx_20[slice16]]\n",
        "\n",
        "exact16 = [simple_regret_exact_1[slice16],\n",
        "       simple_regret_exact_2[slice16],\n",
        "       simple_regret_exact_3[slice16],\n",
        "       simple_regret_exact_4[slice16],\n",
        "       simple_regret_exact_5[slice16],\n",
        "       simple_regret_exact_6[slice16],\n",
        "       simple_regret_exact_7[slice16],\n",
        "       simple_regret_exact_8[slice16],\n",
        "       simple_regret_exact_9[slice16],\n",
        "       simple_regret_exact_10[slice16],\n",
        "       simple_regret_exact_11[slice16],\n",
        "       simple_regret_exact_12[slice16],\n",
        "       simple_regret_exact_13[slice16],\n",
        "       simple_regret_exact_14[slice16],\n",
        "       simple_regret_exact_15[slice16],\n",
        "       simple_regret_exact_16[slice16],\n",
        "       simple_regret_exact_17[slice16],\n",
        "       simple_regret_exact_18[slice16],\n",
        "       simple_regret_exact_19[slice16],\n",
        "       simple_regret_exact_20[slice16]]\n",
        "\n",
        "approx16_results = pd.DataFrame(approx16).sort_values(by=[0], ascending=False)\n",
        "exact16_results = pd.DataFrame(exact16).sort_values(by=[0], ascending=False)\n",
        "\n",
        "### Best simple regret minimization IQR - approx:\n",
        "lower_approx16 = np.asarray(approx16_results[4:5][0])[0]\n",
        "median_approx16 = np.asarray(approx16_results[9:10][0])[0]\n",
        "upper_approx16 = np.asarray(approx16_results[14:15][0])[0]\n",
        "\n",
        "lower_exact16 = np.asarray(exact16_results[4:5][0])[0]\n",
        "median_exact16 = np.asarray(exact16_results[9:10][0])[0]\n",
        "upper_exact16 = np.asarray(exact16_results[14:15][0])[0]"
      ]
    },
    {
      "cell_type": "code",
      "execution_count": 88,
      "metadata": {
        "id": "TrPV0AfnQxf7"
      },
      "outputs": [],
      "source": [
        "# Iteration7 :\n",
        "\n",
        "slice7 = 6\n",
        "\n",
        "approx7 = [simple_regret_approx_1[slice7],\n",
        "       simple_regret_approx_2[slice7],\n",
        "       simple_regret_approx_3[slice7],\n",
        "       simple_regret_approx_4[slice7],\n",
        "       simple_regret_approx_5[slice7],\n",
        "       simple_regret_approx_6[slice7],\n",
        "       simple_regret_approx_7[slice7],\n",
        "       simple_regret_approx_8[slice7],\n",
        "       simple_regret_approx_9[slice7],\n",
        "       simple_regret_approx_10[slice7],\n",
        "       simple_regret_approx_11[slice7],\n",
        "       simple_regret_approx_12[slice7],\n",
        "       simple_regret_approx_13[slice7],\n",
        "       simple_regret_approx_14[slice7],\n",
        "       simple_regret_approx_15[slice7],\n",
        "       simple_regret_approx_16[slice7],\n",
        "       simple_regret_approx_17[slice7],\n",
        "       simple_regret_approx_18[slice7],\n",
        "       simple_regret_approx_19[slice7],\n",
        "       simple_regret_approx_20[slice7]]\n",
        "\n",
        "exact7 = [simple_regret_exact_1[slice7],\n",
        "       simple_regret_exact_2[slice7],\n",
        "       simple_regret_exact_3[slice7],\n",
        "       simple_regret_exact_4[slice7],\n",
        "       simple_regret_exact_5[slice7],\n",
        "       simple_regret_exact_6[slice7],\n",
        "       simple_regret_exact_7[slice7],\n",
        "       simple_regret_exact_8[slice7],\n",
        "       simple_regret_exact_9[slice7],\n",
        "       simple_regret_exact_10[slice7],\n",
        "       simple_regret_exact_11[slice7],\n",
        "       simple_regret_exact_12[slice7],\n",
        "       simple_regret_exact_13[slice7],\n",
        "       simple_regret_exact_14[slice7],\n",
        "       simple_regret_exact_15[slice7],\n",
        "       simple_regret_exact_16[slice7],\n",
        "       simple_regret_exact_17[slice7],\n",
        "       simple_regret_exact_18[slice7],\n",
        "       simple_regret_exact_19[slice7],\n",
        "       simple_regret_exact_20[slice7]]\n",
        "\n",
        "approx7_results = pd.DataFrame(approx7).sort_values(by=[0], ascending=False)\n",
        "exact7_results = pd.DataFrame(exact7).sort_values(by=[0], ascending=False)\n",
        "\n",
        "### Best simple regret minimization IQR - approx:\n",
        "lower_approx7 = np.asarray(approx7_results[4:5][0])[0]\n",
        "median_approx7 = np.asarray(approx7_results[9:10][0])[0]\n",
        "upper_approx7 = np.asarray(approx7_results[14:15][0])[0]\n",
        "\n",
        "lower_exact7 = np.asarray(exact7_results[4:5][0])[0]\n",
        "median_exact7 = np.asarray(exact7_results[9:10][0])[0]\n",
        "upper_exact7 = np.asarray(exact7_results[14:15][0])[0]"
      ]
    },
    {
      "cell_type": "code",
      "execution_count": 89,
      "metadata": {
        "id": "Ub_-wpK4Qxf8"
      },
      "outputs": [],
      "source": [
        "# Iteration17 :\n",
        "\n",
        "slice17 = 16\n",
        "\n",
        "approx17 = [simple_regret_approx_1[slice17],\n",
        "       simple_regret_approx_2[slice17],\n",
        "       simple_regret_approx_3[slice17],\n",
        "       simple_regret_approx_4[slice17],\n",
        "       simple_regret_approx_5[slice17],\n",
        "       simple_regret_approx_6[slice17],\n",
        "       simple_regret_approx_7[slice17],\n",
        "       simple_regret_approx_8[slice17],\n",
        "       simple_regret_approx_9[slice17],\n",
        "       simple_regret_approx_10[slice17],\n",
        "       simple_regret_approx_11[slice17],\n",
        "       simple_regret_approx_12[slice17],\n",
        "       simple_regret_approx_13[slice17],\n",
        "       simple_regret_approx_14[slice17],\n",
        "       simple_regret_approx_15[slice17],\n",
        "       simple_regret_approx_16[slice17],\n",
        "       simple_regret_approx_17[slice17],\n",
        "       simple_regret_approx_18[slice17],\n",
        "       simple_regret_approx_19[slice17],\n",
        "       simple_regret_approx_20[slice17]]\n",
        "\n",
        "exact17 = [simple_regret_exact_1[slice17],\n",
        "       simple_regret_exact_2[slice17],\n",
        "       simple_regret_exact_3[slice17],\n",
        "       simple_regret_exact_4[slice17],\n",
        "       simple_regret_exact_5[slice17],\n",
        "       simple_regret_exact_6[slice17],\n",
        "       simple_regret_exact_7[slice17],\n",
        "       simple_regret_exact_8[slice17],\n",
        "       simple_regret_exact_9[slice17],\n",
        "       simple_regret_exact_10[slice17],\n",
        "       simple_regret_exact_11[slice17],\n",
        "       simple_regret_exact_12[slice17],\n",
        "       simple_regret_exact_13[slice17],\n",
        "       simple_regret_exact_14[slice17],\n",
        "       simple_regret_exact_15[slice17],\n",
        "       simple_regret_exact_16[slice17],\n",
        "       simple_regret_exact_17[slice17],\n",
        "       simple_regret_exact_18[slice17],\n",
        "       simple_regret_exact_19[slice17],\n",
        "       simple_regret_exact_20[slice17]]\n",
        "\n",
        "approx17_results = pd.DataFrame(approx17).sort_values(by=[0], ascending=False)\n",
        "exact17_results = pd.DataFrame(exact17).sort_values(by=[0], ascending=False)\n",
        "\n",
        "### Best simple regret minimization IQR - approx:\n",
        "lower_approx17 = np.asarray(approx17_results[4:5][0])[0]\n",
        "median_approx17 = np.asarray(approx17_results[9:10][0])[0]\n",
        "upper_approx17 = np.asarray(approx17_results[14:15][0])[0]\n",
        "\n",
        "lower_exact17 = np.asarray(exact17_results[4:5][0])[0]\n",
        "median_exact17 = np.asarray(exact17_results[9:10][0])[0]\n",
        "upper_exact17 = np.asarray(exact17_results[14:15][0])[0]"
      ]
    },
    {
      "cell_type": "code",
      "execution_count": 90,
      "metadata": {
        "id": "-6VLo37PQxf8"
      },
      "outputs": [],
      "source": [
        "# Iteration8 :\n",
        "\n",
        "slice8 = 7\n",
        "\n",
        "approx8 = [simple_regret_approx_1[slice8],\n",
        "       simple_regret_approx_2[slice8],\n",
        "       simple_regret_approx_3[slice8],\n",
        "       simple_regret_approx_4[slice8],\n",
        "       simple_regret_approx_5[slice8],\n",
        "       simple_regret_approx_6[slice8],\n",
        "       simple_regret_approx_7[slice8],\n",
        "       simple_regret_approx_8[slice8],\n",
        "       simple_regret_approx_9[slice8],\n",
        "       simple_regret_approx_10[slice8],\n",
        "       simple_regret_approx_11[slice8],\n",
        "       simple_regret_approx_12[slice8],\n",
        "       simple_regret_approx_13[slice8],\n",
        "       simple_regret_approx_14[slice8],\n",
        "       simple_regret_approx_15[slice8],\n",
        "       simple_regret_approx_16[slice8],\n",
        "       simple_regret_approx_17[slice8],\n",
        "       simple_regret_approx_18[slice8],\n",
        "       simple_regret_approx_19[slice8],\n",
        "       simple_regret_approx_20[slice8]]\n",
        "\n",
        "exact8 = [simple_regret_exact_1[slice8],\n",
        "       simple_regret_exact_2[slice8],\n",
        "       simple_regret_exact_3[slice8],\n",
        "       simple_regret_exact_4[slice8],\n",
        "       simple_regret_exact_5[slice8],\n",
        "       simple_regret_exact_6[slice8],\n",
        "       simple_regret_exact_7[slice8],\n",
        "       simple_regret_exact_8[slice8],\n",
        "       simple_regret_exact_9[slice8],\n",
        "       simple_regret_exact_10[slice8],\n",
        "       simple_regret_exact_11[slice8],\n",
        "       simple_regret_exact_12[slice8],\n",
        "       simple_regret_exact_13[slice8],\n",
        "       simple_regret_exact_14[slice8],\n",
        "       simple_regret_exact_15[slice8],\n",
        "       simple_regret_exact_16[slice8],\n",
        "       simple_regret_exact_17[slice8],\n",
        "       simple_regret_exact_18[slice8],\n",
        "       simple_regret_exact_19[slice8],\n",
        "       simple_regret_exact_20[slice8]]\n",
        "\n",
        "approx8_results = pd.DataFrame(approx8).sort_values(by=[0], ascending=False)\n",
        "exact8_results = pd.DataFrame(exact8).sort_values(by=[0], ascending=False)\n",
        "\n",
        "### Best simple regret minimization IQR - approx:\n",
        "lower_approx8 = np.asarray(approx8_results[4:5][0])[0]\n",
        "median_approx8 = np.asarray(approx8_results[9:10][0])[0]\n",
        "upper_approx8 = np.asarray(approx8_results[14:15][0])[0]\n",
        "\n",
        "lower_exact8 = np.asarray(exact8_results[4:5][0])[0]\n",
        "median_exact8 = np.asarray(exact8_results[9:10][0])[0]\n",
        "upper_exact8 = np.asarray(exact8_results[14:15][0])[0]"
      ]
    },
    {
      "cell_type": "code",
      "execution_count": 91,
      "metadata": {
        "id": "2Dp-9CC2Qxf9"
      },
      "outputs": [],
      "source": [
        "# Iteration18 :\n",
        "\n",
        "slice18 = 17\n",
        "\n",
        "approx18 = [simple_regret_approx_1[slice18],\n",
        "       simple_regret_approx_2[slice18],\n",
        "       simple_regret_approx_3[slice18],\n",
        "       simple_regret_approx_4[slice18],\n",
        "       simple_regret_approx_5[slice18],\n",
        "       simple_regret_approx_6[slice18],\n",
        "       simple_regret_approx_7[slice18],\n",
        "       simple_regret_approx_8[slice18],\n",
        "       simple_regret_approx_9[slice18],\n",
        "       simple_regret_approx_10[slice18],\n",
        "       simple_regret_approx_11[slice18],\n",
        "       simple_regret_approx_12[slice18],\n",
        "       simple_regret_approx_13[slice18],\n",
        "       simple_regret_approx_14[slice18],\n",
        "       simple_regret_approx_15[slice18],\n",
        "       simple_regret_approx_16[slice18],\n",
        "       simple_regret_approx_17[slice18],\n",
        "       simple_regret_approx_18[slice18],\n",
        "       simple_regret_approx_19[slice18],\n",
        "       simple_regret_approx_20[slice18]]\n",
        "\n",
        "exact18 = [simple_regret_exact_1[slice18],\n",
        "       simple_regret_exact_2[slice18],\n",
        "       simple_regret_exact_3[slice18],\n",
        "       simple_regret_exact_4[slice18],\n",
        "       simple_regret_exact_5[slice18],\n",
        "       simple_regret_exact_6[slice18],\n",
        "       simple_regret_exact_7[slice18],\n",
        "       simple_regret_exact_8[slice18],\n",
        "       simple_regret_exact_9[slice18],\n",
        "       simple_regret_exact_10[slice18],\n",
        "       simple_regret_exact_11[slice18],\n",
        "       simple_regret_exact_12[slice18],\n",
        "       simple_regret_exact_13[slice18],\n",
        "       simple_regret_exact_14[slice18],\n",
        "       simple_regret_exact_15[slice18],\n",
        "       simple_regret_exact_16[slice18],\n",
        "       simple_regret_exact_17[slice18],\n",
        "       simple_regret_exact_18[slice18],\n",
        "       simple_regret_exact_19[slice18],\n",
        "       simple_regret_exact_20[slice18]]\n",
        "\n",
        "approx18_results = pd.DataFrame(approx18).sort_values(by=[0], ascending=False)\n",
        "exact18_results = pd.DataFrame(exact18).sort_values(by=[0], ascending=False)\n",
        "\n",
        "### Best simple regret minimization IQR - approx:\n",
        "lower_approx18 = np.asarray(approx18_results[4:5][0])[0]\n",
        "median_approx18 = np.asarray(approx18_results[9:10][0])[0]\n",
        "upper_approx18 = np.asarray(approx18_results[14:15][0])[0]\n",
        "\n",
        "lower_exact18 = np.asarray(exact18_results[4:5][0])[0]\n",
        "median_exact18 = np.asarray(exact18_results[9:10][0])[0]\n",
        "upper_exact18 = np.asarray(exact18_results[14:15][0])[0]"
      ]
    },
    {
      "cell_type": "code",
      "execution_count": 92,
      "metadata": {
        "id": "SqiaOpB7Qxf9"
      },
      "outputs": [],
      "source": [
        "# Iteration9 :\n",
        "\n",
        "slice9 = 8\n",
        "\n",
        "approx9 = [simple_regret_approx_1[slice9],\n",
        "       simple_regret_approx_2[slice9],\n",
        "       simple_regret_approx_3[slice9],\n",
        "       simple_regret_approx_4[slice9],\n",
        "       simple_regret_approx_5[slice9],\n",
        "       simple_regret_approx_6[slice9],\n",
        "       simple_regret_approx_7[slice9],\n",
        "       simple_regret_approx_8[slice9],\n",
        "       simple_regret_approx_9[slice9],\n",
        "       simple_regret_approx_10[slice9],\n",
        "       simple_regret_approx_11[slice9],\n",
        "       simple_regret_approx_12[slice9],\n",
        "       simple_regret_approx_13[slice9],\n",
        "       simple_regret_approx_14[slice9],\n",
        "       simple_regret_approx_15[slice9],\n",
        "       simple_regret_approx_16[slice9],\n",
        "       simple_regret_approx_17[slice9],\n",
        "       simple_regret_approx_18[slice9],\n",
        "       simple_regret_approx_19[slice9],\n",
        "       simple_regret_approx_20[slice9]]\n",
        "\n",
        "exact9 = [simple_regret_exact_1[slice9],\n",
        "       simple_regret_exact_2[slice9],\n",
        "       simple_regret_exact_3[slice9],\n",
        "       simple_regret_exact_4[slice9],\n",
        "       simple_regret_exact_5[slice9],\n",
        "       simple_regret_exact_6[slice9],\n",
        "       simple_regret_exact_7[slice9],\n",
        "       simple_regret_exact_8[slice9],\n",
        "       simple_regret_exact_9[slice9],\n",
        "       simple_regret_exact_10[slice9],\n",
        "       simple_regret_exact_11[slice9],\n",
        "       simple_regret_exact_12[slice9],\n",
        "       simple_regret_exact_13[slice9],\n",
        "       simple_regret_exact_14[slice9],\n",
        "       simple_regret_exact_15[slice9],\n",
        "       simple_regret_exact_16[slice9],\n",
        "       simple_regret_exact_17[slice9],\n",
        "       simple_regret_exact_18[slice9],\n",
        "       simple_regret_exact_19[slice9],\n",
        "       simple_regret_exact_20[slice9]]\n",
        "\n",
        "approx9_results = pd.DataFrame(approx9).sort_values(by=[0], ascending=False)\n",
        "exact9_results = pd.DataFrame(exact9).sort_values(by=[0], ascending=False)\n",
        "\n",
        "### Best simple regret minimization IQR - approx:\n",
        "lower_approx9 = np.asarray(approx9_results[4:5][0])[0]\n",
        "median_approx9 = np.asarray(approx9_results[9:10][0])[0]\n",
        "upper_approx9 = np.asarray(approx9_results[14:15][0])[0]\n",
        "\n",
        "lower_exact9 = np.asarray(exact9_results[4:5][0])[0]\n",
        "median_exact9 = np.asarray(exact9_results[9:10][0])[0]\n",
        "upper_exact9 = np.asarray(exact9_results[14:15][0])[0]"
      ]
    },
    {
      "cell_type": "code",
      "execution_count": 93,
      "metadata": {
        "id": "OQkCCOsPQxf9"
      },
      "outputs": [],
      "source": [
        "# Iteration19 :\n",
        "\n",
        "slice19 = 18\n",
        "\n",
        "approx19 = [simple_regret_approx_1[slice19],\n",
        "       simple_regret_approx_2[slice19],\n",
        "       simple_regret_approx_3[slice19],\n",
        "       simple_regret_approx_4[slice19],\n",
        "       simple_regret_approx_5[slice19],\n",
        "       simple_regret_approx_6[slice19],\n",
        "       simple_regret_approx_7[slice19],\n",
        "       simple_regret_approx_8[slice19],\n",
        "       simple_regret_approx_9[slice19],\n",
        "       simple_regret_approx_10[slice19],\n",
        "       simple_regret_approx_11[slice19],\n",
        "       simple_regret_approx_12[slice19],\n",
        "       simple_regret_approx_13[slice19],\n",
        "       simple_regret_approx_14[slice19],\n",
        "       simple_regret_approx_15[slice19],\n",
        "       simple_regret_approx_16[slice19],\n",
        "       simple_regret_approx_17[slice19],\n",
        "       simple_regret_approx_18[slice19],\n",
        "       simple_regret_approx_19[slice19],\n",
        "       simple_regret_approx_20[slice19]]\n",
        "\n",
        "exact19 = [simple_regret_exact_1[slice19],\n",
        "       simple_regret_exact_2[slice19],\n",
        "       simple_regret_exact_3[slice19],\n",
        "       simple_regret_exact_4[slice19],\n",
        "       simple_regret_exact_5[slice19],\n",
        "       simple_regret_exact_6[slice19],\n",
        "       simple_regret_exact_7[slice19],\n",
        "       simple_regret_exact_8[slice19],\n",
        "       simple_regret_exact_9[slice19],\n",
        "       simple_regret_exact_10[slice19],\n",
        "       simple_regret_exact_11[slice19],\n",
        "       simple_regret_exact_12[slice19],\n",
        "       simple_regret_exact_13[slice19],\n",
        "       simple_regret_exact_14[slice19],\n",
        "       simple_regret_exact_15[slice19],\n",
        "       simple_regret_exact_16[slice19],\n",
        "       simple_regret_exact_17[slice19],\n",
        "       simple_regret_exact_18[slice19],\n",
        "       simple_regret_exact_19[slice19],\n",
        "       simple_regret_exact_20[slice19]]\n",
        "\n",
        "approx19_results = pd.DataFrame(approx19).sort_values(by=[0], ascending=False)\n",
        "exact19_results = pd.DataFrame(exact19).sort_values(by=[0], ascending=False)\n",
        "\n",
        "### Best simple regret minimization IQR - approx:\n",
        "lower_approx19 = np.asarray(approx19_results[4:5][0])[0]\n",
        "median_approx19 = np.asarray(approx19_results[9:10][0])[0]\n",
        "upper_approx19 = np.asarray(approx19_results[14:15][0])[0]\n",
        "\n",
        "lower_exact19 = np.asarray(exact19_results[4:5][0])[0]\n",
        "median_exact19 = np.asarray(exact19_results[9:10][0])[0]\n",
        "upper_exact19 = np.asarray(exact19_results[14:15][0])[0]"
      ]
    },
    {
      "cell_type": "code",
      "execution_count": 94,
      "metadata": {
        "id": "h4vtWahcQxf-"
      },
      "outputs": [],
      "source": [
        "# Iteration10 :\n",
        "\n",
        "slice10 = 9\n",
        "\n",
        "approx10 = [simple_regret_approx_1[slice10],\n",
        "       simple_regret_approx_2[slice10],\n",
        "       simple_regret_approx_3[slice10],\n",
        "       simple_regret_approx_4[slice10],\n",
        "       simple_regret_approx_5[slice10],\n",
        "       simple_regret_approx_6[slice10],\n",
        "       simple_regret_approx_7[slice10],\n",
        "       simple_regret_approx_8[slice10],\n",
        "       simple_regret_approx_9[slice10],\n",
        "       simple_regret_approx_10[slice10],\n",
        "       simple_regret_approx_11[slice10],\n",
        "       simple_regret_approx_12[slice10],\n",
        "       simple_regret_approx_13[slice10],\n",
        "       simple_regret_approx_14[slice10],\n",
        "       simple_regret_approx_15[slice10],\n",
        "       simple_regret_approx_16[slice10],\n",
        "       simple_regret_approx_17[slice10],\n",
        "       simple_regret_approx_18[slice10],\n",
        "       simple_regret_approx_19[slice10],\n",
        "       simple_regret_approx_20[slice10]]\n",
        "\n",
        "exact10 = [simple_regret_exact_1[slice10],\n",
        "       simple_regret_exact_2[slice10],\n",
        "       simple_regret_exact_3[slice10],\n",
        "       simple_regret_exact_4[slice10],\n",
        "       simple_regret_exact_5[slice10],\n",
        "       simple_regret_exact_6[slice10],\n",
        "       simple_regret_exact_7[slice10],\n",
        "       simple_regret_exact_8[slice10],\n",
        "       simple_regret_exact_9[slice10],\n",
        "       simple_regret_exact_10[slice10],\n",
        "       simple_regret_exact_11[slice10],\n",
        "       simple_regret_exact_12[slice10],\n",
        "       simple_regret_exact_13[slice10],\n",
        "       simple_regret_exact_14[slice10],\n",
        "       simple_regret_exact_15[slice10],\n",
        "       simple_regret_exact_16[slice10],\n",
        "       simple_regret_exact_17[slice10],\n",
        "       simple_regret_exact_18[slice10],\n",
        "       simple_regret_exact_19[slice10],\n",
        "       simple_regret_exact_20[slice10]]\n",
        "\n",
        "approx10_results = pd.DataFrame(approx10).sort_values(by=[0], ascending=False)\n",
        "exact10_results = pd.DataFrame(exact10).sort_values(by=[0], ascending=False)\n",
        "\n",
        "### Best simple regret minimization IQR - approx:\n",
        "lower_approx10 = np.asarray(approx10_results[4:5][0])[0]\n",
        "median_approx10 = np.asarray(approx10_results[9:10][0])[0]\n",
        "upper_approx10 = np.asarray(approx10_results[14:15][0])[0]\n",
        "\n",
        "lower_exact10 = np.asarray(exact10_results[4:5][0])[0]\n",
        "median_exact10 = np.asarray(exact10_results[9:10][0])[0]\n",
        "upper_exact10 = np.asarray(exact10_results[14:15][0])[0]"
      ]
    },
    {
      "cell_type": "code",
      "execution_count": 95,
      "metadata": {
        "id": "Rsf240pWQxf-"
      },
      "outputs": [],
      "source": [
        "# Iteration20 :\n",
        "\n",
        "slice20 = 19\n",
        "\n",
        "approx20 = [simple_regret_approx_1[slice20],\n",
        "       simple_regret_approx_2[slice20],\n",
        "       simple_regret_approx_3[slice20],\n",
        "       simple_regret_approx_4[slice20],\n",
        "       simple_regret_approx_5[slice20],\n",
        "       simple_regret_approx_6[slice20],\n",
        "       simple_regret_approx_7[slice20],\n",
        "       simple_regret_approx_8[slice20],\n",
        "       simple_regret_approx_9[slice20],\n",
        "       simple_regret_approx_10[slice20],\n",
        "       simple_regret_approx_11[slice20],\n",
        "       simple_regret_approx_12[slice20],\n",
        "       simple_regret_approx_13[slice20],\n",
        "       simple_regret_approx_14[slice20],\n",
        "       simple_regret_approx_15[slice20],\n",
        "       simple_regret_approx_16[slice20],\n",
        "       simple_regret_approx_17[slice20],\n",
        "       simple_regret_approx_18[slice20],\n",
        "       simple_regret_approx_19[slice20],\n",
        "       simple_regret_approx_20[slice20]]\n",
        "\n",
        "exact20 = [simple_regret_exact_1[slice20],\n",
        "       simple_regret_exact_2[slice20],\n",
        "       simple_regret_exact_3[slice20],\n",
        "       simple_regret_exact_4[slice20],\n",
        "       simple_regret_exact_5[slice20],\n",
        "       simple_regret_exact_6[slice20],\n",
        "       simple_regret_exact_7[slice20],\n",
        "       simple_regret_exact_8[slice20],\n",
        "       simple_regret_exact_9[slice20],\n",
        "       simple_regret_exact_10[slice20],\n",
        "       simple_regret_exact_11[slice20],\n",
        "       simple_regret_exact_12[slice20],\n",
        "       simple_regret_exact_13[slice20],\n",
        "       simple_regret_exact_14[slice20],\n",
        "       simple_regret_exact_15[slice20],\n",
        "       simple_regret_exact_16[slice20],\n",
        "       simple_regret_exact_17[slice20],\n",
        "       simple_regret_exact_18[slice20],\n",
        "       simple_regret_exact_19[slice20],\n",
        "       simple_regret_exact_20[slice20]]\n",
        "\n",
        "approx20_results = pd.DataFrame(approx20).sort_values(by=[0], ascending=False)\n",
        "exact20_results = pd.DataFrame(exact20).sort_values(by=[0], ascending=False)\n",
        "\n",
        "### Best simple regret minimization IQR - approx:\n",
        "lower_approx20 = np.asarray(approx20_results[4:5][0])[0]\n",
        "median_approx20 = np.asarray(approx20_results[9:10][0])[0]\n",
        "upper_approx20 = np.asarray(approx20_results[14:15][0])[0]\n",
        "\n",
        "lower_exact20 = np.asarray(exact20_results[4:5][0])[0]\n",
        "median_exact20 = np.asarray(exact20_results[9:10][0])[0]\n",
        "upper_exact20 = np.asarray(exact20_results[14:15][0])[0]"
      ]
    },
    {
      "cell_type": "code",
      "execution_count": 96,
      "metadata": {
        "id": "gn36RejbQxf_"
      },
      "outputs": [],
      "source": [
        "### Summarize arrays: 'Loser'\n",
        "\n",
        "lower_approx = [lower_approx1,\n",
        "            lower_approx2,\n",
        "            lower_approx3,\n",
        "            lower_approx4,\n",
        "            lower_approx5,\n",
        "            lower_approx6,\n",
        "            lower_approx7,\n",
        "            lower_approx8,\n",
        "            lower_approx9,\n",
        "            lower_approx10,\n",
        "            lower_approx11,\n",
        "            lower_approx12,\n",
        "            lower_approx13,\n",
        "            lower_approx14,\n",
        "            lower_approx15,\n",
        "            lower_approx16,\n",
        "            lower_approx17,\n",
        "            lower_approx18,\n",
        "            lower_approx19,\n",
        "            lower_approx20,\n",
        "            lower_approx21]\n",
        "\n",
        "median_approx = [median_approx1,\n",
        "            median_approx2,\n",
        "            median_approx3,\n",
        "            median_approx4,\n",
        "            median_approx5,\n",
        "            median_approx6,\n",
        "            median_approx7,\n",
        "            median_approx8,\n",
        "            median_approx9,\n",
        "            median_approx10,\n",
        "            median_approx11,\n",
        "            median_approx12,\n",
        "            median_approx13,\n",
        "            median_approx14,\n",
        "            median_approx15,\n",
        "            median_approx16,\n",
        "            median_approx17,\n",
        "            median_approx18,\n",
        "            median_approx19,\n",
        "            median_approx20,\n",
        "            median_approx21]\n",
        "\n",
        "upper_approx = [upper_approx1,\n",
        "            upper_approx2,\n",
        "            upper_approx3,\n",
        "            upper_approx4,\n",
        "            upper_approx5,\n",
        "            upper_approx6,\n",
        "            upper_approx7,\n",
        "            upper_approx8,\n",
        "            upper_approx9,\n",
        "            upper_approx10,\n",
        "            upper_approx11,\n",
        "            upper_approx12,\n",
        "            upper_approx13,\n",
        "            upper_approx14,\n",
        "            upper_approx15,\n",
        "            upper_approx16,\n",
        "            upper_approx17,\n",
        "            upper_approx18,\n",
        "            upper_approx19,\n",
        "            upper_approx20,\n",
        "            upper_approx21]"
      ]
    },
    {
      "cell_type": "code",
      "execution_count": 97,
      "metadata": {
        "id": "wxtGTOYfQxf_"
      },
      "outputs": [],
      "source": [
        "### Summarize arrays: 'exact'\n",
        "\n",
        "lower_exact = [lower_exact1,\n",
        "            lower_exact2,\n",
        "            lower_exact3,\n",
        "            lower_exact4,\n",
        "            lower_exact5,\n",
        "            lower_exact6,\n",
        "            lower_exact7,\n",
        "            lower_exact8,\n",
        "            lower_exact9,\n",
        "            lower_exact10,\n",
        "            lower_exact11,\n",
        "            lower_exact12,\n",
        "            lower_exact13,\n",
        "            lower_exact14,\n",
        "            lower_exact15,\n",
        "            lower_exact16,\n",
        "            lower_exact17,\n",
        "            lower_exact18,\n",
        "            lower_exact19,\n",
        "            lower_exact20,\n",
        "            lower_exact21]\n",
        "\n",
        "median_exact = [median_exact1,\n",
        "            median_exact2,\n",
        "            median_exact3,\n",
        "            median_exact4,\n",
        "            median_exact5,\n",
        "            median_exact6,\n",
        "            median_exact7,\n",
        "            median_exact8,\n",
        "            median_exact9,\n",
        "            median_exact10,\n",
        "            median_exact11,\n",
        "            median_exact12,\n",
        "            median_exact13,\n",
        "            median_exact14,\n",
        "            median_exact15,\n",
        "            median_exact16,\n",
        "            median_exact17,\n",
        "            median_exact18,\n",
        "            median_exact19,\n",
        "            median_exact20,\n",
        "            median_exact21]\n",
        "\n",
        "upper_exact = [upper_exact1,\n",
        "            upper_exact2,\n",
        "            upper_exact3,\n",
        "            upper_exact4,\n",
        "            upper_exact5,\n",
        "            upper_exact6,\n",
        "            upper_exact7,\n",
        "            upper_exact8,\n",
        "            upper_exact9,\n",
        "            upper_exact10,\n",
        "            upper_exact11,\n",
        "            upper_exact12,\n",
        "            upper_exact13,\n",
        "            upper_exact14,\n",
        "            upper_exact15,\n",
        "            upper_exact16,\n",
        "            upper_exact17,\n",
        "            upper_exact18,\n",
        "            upper_exact19,\n",
        "            upper_exact20,\n",
        "            upper_exact21]"
      ]
    },
    {
      "cell_type": "code",
      "execution_count": 98,
      "metadata": {
        "id": "2MONq-BXQxgA",
        "colab": {
          "base_uri": "https://localhost:8080/",
          "height": 299
        },
        "outputId": "3183d6e6-f6d0-4b72-aa96-4fc3ee03c44f"
      },
      "outputs": [
        {
          "output_type": "display_data",
          "data": {
            "text/plain": [
              "<Figure size 432x288 with 1 Axes>"
            ],
            "image/png": "[encoded data removed]"
          },
          "metadata": {
            "needs_background": "light"
          }
        }
      ],
      "source": [
        "### Visualise!\n",
        "\n",
        "title = func\n",
        "plt.figure()\n",
        "\n",
        "plt.plot(median_approx, color = 'Green')\n",
        "plt.plot(median_exact, color = 'Blue')\n",
        "\n",
        "xstar = np.arange(0, iters+1, step=1)\n",
        "plt.fill_between(xstar, lower_approx, upper_approx, facecolor = 'Green', alpha=0.4, label='GP ERM Optimization: Approx GP ERM gradients')\n",
        "plt.fill_between(xstar, lower_exact, upper_exact, facecolor = 'Blue', alpha=0.4, label='GP ERM Optimization: Exact GP dERM gradients')\n",
        "\n",
        "plt.title(title, weight = 'bold')\n",
        "plt.xlabel('(Post-initialization) iteration $\\it{k}$', weight = 'bold')\n",
        "plt.ylabel('log(Regret)', weight = 'bold') \n",
        "plt.legend(loc=3) # add plot legend\n",
        "\n",
        "### Make the x-ticks integers, not floats:\n",
        "count = len(xstar)\n",
        "plt.xticks(np.arange(count), np.arange(0, count))\n",
        "plt.show() #visualize!"
      ]
    },
    {
      "cell_type": "code",
      "execution_count": 99,
      "metadata": {
        "id": "l5dkR2Id2oiu",
        "colab": {
          "base_uri": "https://localhost:8080/"
        },
        "outputId": "84cb96b9-867c-4f24-9684-c7cc7a4ea94e"
      },
      "outputs": [
        {
          "output_type": "execute_result",
          "data": {
            "text/plain": [
              "(936.0991289615631, 846.3889565467834)"
            ]
          },
          "metadata": {},
          "execution_count": 99
        }
      ],
      "source": [
        "time_approx, time_exact\n"
      ]
    },
    {
      "cell_type": "code",
      "source": [
        "### acqFunc attribute x, stddev: run number = 1\n",
        "\n",
        "acqFuncApprox_exact_1 = acqFuncApprox(exact_1.history)\n",
        "acqFuncExact_exact_1 = acqFuncExact(exact_1.history)\n",
        "\n",
        "e1 = np.mean(acqFuncExact_exact_1)\n",
        "a1 = np.mean(acqFuncApprox_exact_1)\n",
        "\n",
        "e1, a1\n"
      ],
      "metadata": {
        "colab": {
          "base_uri": "https://localhost:8080/"
        },
        "id": "uwxv4dmfGsLr",
        "outputId": "68e26a95-df1b-443d-cf14-218d42282abd"
      },
      "execution_count": 100,
      "outputs": [
        {
          "output_type": "execute_result",
          "data": {
            "text/plain": [
              "(2.9577623425095356, 3.0519946461644865)"
            ]
          },
          "metadata": {},
          "execution_count": 100
        }
      ]
    },
    {
      "cell_type": "code",
      "source": [
        "### acqFunc attribute x, stddev: run number = 2\n",
        "\n",
        "acqFuncApprox_exact_2 = acqFuncApprox(exact_2.history)\n",
        "acqFuncExact_exact_2 = acqFuncExact(exact_2.history)\n",
        "\n",
        "e2 = np.mean(acqFuncExact_exact_2)\n",
        "a2 = np.mean(acqFuncApprox_exact_2)\n",
        "\n",
        "e2, a2\n"
      ],
      "metadata": {
        "colab": {
          "base_uri": "https://localhost:8080/"
        },
        "id": "0YSV00_pGsXe",
        "outputId": "0c60e3fd-d4c2-4a69-b539-bb14ecb3c6e7"
      },
      "execution_count": 101,
      "outputs": [
        {
          "output_type": "execute_result",
          "data": {
            "text/plain": [
              "(2.995214417446865, 3.0443330915933284)"
            ]
          },
          "metadata": {},
          "execution_count": 101
        }
      ]
    },
    {
      "cell_type": "code",
      "source": [
        "### acqFunc attribute x, stddev: run number = 3\n",
        "\n",
        "acqFuncApprox_exact_3 = acqFuncApprox(exact_3.history)\n",
        "acqFuncExact_exact_3 = acqFuncExact(exact_3.history)\n",
        "\n",
        "e3 = np.mean(acqFuncExact_exact_3)\n",
        "a3 = np.mean(acqFuncApprox_exact_3)\n",
        "\n",
        "e3, a3\n"
      ],
      "metadata": {
        "colab": {
          "base_uri": "https://localhost:8080/"
        },
        "id": "HHVmsd2UGsjT",
        "outputId": "e51b7d99-41eb-4ff6-a125-3024841ee509"
      },
      "execution_count": 102,
      "outputs": [
        {
          "output_type": "execute_result",
          "data": {
            "text/plain": [
              "(2.8535742252453185, 2.9660313647074252)"
            ]
          },
          "metadata": {},
          "execution_count": 102
        }
      ]
    },
    {
      "cell_type": "code",
      "source": [
        "### acqFunc attribute x, stddev: run number = 4\n",
        "\n",
        "acqFuncApprox_exact_4 = acqFuncApprox(exact_4.history)\n",
        "acqFuncExact_exact_4 = acqFuncExact(exact_4.history)\n",
        "\n",
        "e4 = np.mean(acqFuncExact_exact_4)\n",
        "a4 = np.mean(acqFuncApprox_exact_4)\n",
        "\n",
        "e4, a4\n"
      ],
      "metadata": {
        "colab": {
          "base_uri": "https://localhost:8080/"
        },
        "id": "r7O19S2eGsu7",
        "outputId": "a7e1e373-297f-48ff-baeb-8e2618b6165d"
      },
      "execution_count": 103,
      "outputs": [
        {
          "output_type": "execute_result",
          "data": {
            "text/plain": [
              "(2.9941148029930096, 3.0253233119518486)"
            ]
          },
          "metadata": {},
          "execution_count": 103
        }
      ]
    },
    {
      "cell_type": "code",
      "source": [
        "### acqFunc attribute x, stddev: run number = 5\n",
        "\n",
        "acqFuncApprox_exact_5 = acqFuncApprox(exact_5.history)\n",
        "acqFuncExact_exact_5 = acqFuncExact(exact_5.history)\n",
        "\n",
        "e5 = np.mean(acqFuncExact_exact_5)\n",
        "a5 = np.mean(acqFuncApprox_exact_5)\n",
        "\n",
        "e5, a5\n"
      ],
      "metadata": {
        "colab": {
          "base_uri": "https://localhost:8080/"
        },
        "id": "sdb9o6NuGs5m",
        "outputId": "735a1247-db34-48d0-8cab-cfd32ef67ba4"
      },
      "execution_count": 104,
      "outputs": [
        {
          "output_type": "execute_result",
          "data": {
            "text/plain": [
              "(2.9943704802311353, 3.0098879825424554)"
            ]
          },
          "metadata": {},
          "execution_count": 104
        }
      ]
    },
    {
      "cell_type": "code",
      "source": [
        "### acqFunc attribute x, stddev: run number = 6\n",
        "\n",
        "acqFuncApprox_exact_6 = acqFuncApprox(exact_6.history)\n",
        "acqFuncExact_exact_6 = acqFuncExact(exact_6.history)\n",
        "\n",
        "e6 = np.mean(acqFuncExact_exact_6)\n",
        "a6 = np.mean(acqFuncApprox_exact_6)\n",
        "\n",
        "e6, a6\n"
      ],
      "metadata": {
        "colab": {
          "base_uri": "https://localhost:8080/"
        },
        "id": "COQl7LZ8GtE0",
        "outputId": "6ebc7724-17db-46ed-86d2-66f5766e8630"
      },
      "execution_count": 105,
      "outputs": [
        {
          "output_type": "execute_result",
          "data": {
            "text/plain": [
              "(3.070925347275487, 3.1164778221144354)"
            ]
          },
          "metadata": {},
          "execution_count": 105
        }
      ]
    },
    {
      "cell_type": "code",
      "source": [
        "### acqFunc attribute x, stddev: run number = 7\n",
        "\n",
        "acqFuncApprox_exact_7 = acqFuncApprox(exact_7.history)\n",
        "acqFuncExact_exact_7 = acqFuncExact(exact_7.history)\n",
        "\n",
        "e7 = np.mean(acqFuncExact_exact_7)\n",
        "a7 = np.mean(acqFuncApprox_exact_7)\n",
        "\n",
        "e7, a7\n"
      ],
      "metadata": {
        "colab": {
          "base_uri": "https://localhost:8080/"
        },
        "id": "2gy9EtTzGtP7",
        "outputId": "f4e65a67-648c-469d-aa8b-2e67d96c0325"
      },
      "execution_count": 106,
      "outputs": [
        {
          "output_type": "execute_result",
          "data": {
            "text/plain": [
              "(2.9831081845568614, 3.068753829374174)"
            ]
          },
          "metadata": {},
          "execution_count": 106
        }
      ]
    },
    {
      "cell_type": "code",
      "source": [
        "### acqFunc attribute x, stddev: run number = 8\n",
        "\n",
        "acqFuncApprox_exact_8 = acqFuncApprox(exact_8.history)\n",
        "acqFuncExact_exact_8 = acqFuncExact(exact_8.history)\n",
        "\n",
        "e8 = np.mean(acqFuncExact_exact_8)\n",
        "a8 = np.mean(acqFuncApprox_exact_8)\n",
        "\n",
        "e8, a8\n"
      ],
      "metadata": {
        "colab": {
          "base_uri": "https://localhost:8080/"
        },
        "id": "S7mn0qoMGtbM",
        "outputId": "df8308cc-a342-4f28-d6e8-40de10062a16"
      },
      "execution_count": 107,
      "outputs": [
        {
          "output_type": "execute_result",
          "data": {
            "text/plain": [
              "(2.883234503826985, 3.0255865229368757)"
            ]
          },
          "metadata": {},
          "execution_count": 107
        }
      ]
    },
    {
      "cell_type": "code",
      "source": [
        "### acqFunc attribute x, stddev: run number = 9\n",
        "\n",
        "acqFuncApprox_exact_9 = acqFuncApprox(exact_9.history)\n",
        "acqFuncExact_exact_9 = acqFuncExact(exact_9.history)\n",
        "\n",
        "e9 = np.mean(acqFuncExact_exact_9)\n",
        "a9 = np.mean(acqFuncApprox_exact_9)\n",
        "\n",
        "e9, a9\n"
      ],
      "metadata": {
        "colab": {
          "base_uri": "https://localhost:8080/"
        },
        "id": "BhljmkNxGtms",
        "outputId": "18d198fc-77cc-403e-d6a3-086ef01963ee"
      },
      "execution_count": 108,
      "outputs": [
        {
          "output_type": "execute_result",
          "data": {
            "text/plain": [
              "(2.8079227559047655, 3.0892540018978103)"
            ]
          },
          "metadata": {},
          "execution_count": 108
        }
      ]
    },
    {
      "cell_type": "code",
      "source": [
        "### acqFunc attribute x, stddev: run number = 10\n",
        "\n",
        "acqFuncApprox_exact_10 = acqFuncApprox(exact_10.history)\n",
        "acqFuncExact_exact_10 = acqFuncExact(exact_10.history)\n",
        "\n",
        "e10 = np.mean(acqFuncExact_exact_10)\n",
        "a10 = np.mean(acqFuncApprox_exact_10)\n",
        "\n",
        "e10, a10\n"
      ],
      "metadata": {
        "colab": {
          "base_uri": "https://localhost:8080/"
        },
        "id": "W5GZo6k3Gtx8",
        "outputId": "49bb7245-127c-4901-d045-10bfd09ad9f3"
      },
      "execution_count": 109,
      "outputs": [
        {
          "output_type": "execute_result",
          "data": {
            "text/plain": [
              "(3.0065436238538905, 3.198644265795918)"
            ]
          },
          "metadata": {},
          "execution_count": 109
        }
      ]
    },
    {
      "cell_type": "code",
      "source": [
        "### acqFunc attribute x, stddev: run number = 11\n",
        "\n",
        "acqFuncApprox_exact_11 = acqFuncApprox(exact_11.history)\n",
        "acqFuncExact_exact_11 = acqFuncExact(exact_11.history)\n",
        "\n",
        "e11 = np.mean(acqFuncExact_exact_11)\n",
        "a11 = np.mean(acqFuncApprox_exact_11)\n",
        "\n",
        "e11, a11\n"
      ],
      "metadata": {
        "colab": {
          "base_uri": "https://localhost:8080/"
        },
        "id": "isKNhDk5Gt9D",
        "outputId": "79160a6d-4fcd-4b73-c968-1629e062cb1d"
      },
      "execution_count": 110,
      "outputs": [
        {
          "output_type": "execute_result",
          "data": {
            "text/plain": [
              "(2.8257974505925896, 3.0134429937957745)"
            ]
          },
          "metadata": {},
          "execution_count": 110
        }
      ]
    },
    {
      "cell_type": "code",
      "source": [
        "### acqFunc attribute x, stddev: run number = 12\n",
        "\n",
        "acqFuncApprox_exact_12 = acqFuncApprox(exact_12.history)\n",
        "acqFuncExact_exact_12 = acqFuncExact(exact_12.history)\n",
        "\n",
        "e12 = np.mean(acqFuncExact_exact_12)\n",
        "a12 = np.mean(acqFuncApprox_exact_12)\n",
        "\n",
        "e12, a12\n"
      ],
      "metadata": {
        "colab": {
          "base_uri": "https://localhost:8080/"
        },
        "id": "8ts-wrSuGuIm",
        "outputId": "98b18390-8314-486e-bcca-66ece861973b"
      },
      "execution_count": 111,
      "outputs": [
        {
          "output_type": "execute_result",
          "data": {
            "text/plain": [
              "(2.956758726547394, 2.9876094151422854)"
            ]
          },
          "metadata": {},
          "execution_count": 111
        }
      ]
    },
    {
      "cell_type": "code",
      "source": [
        "### acqFunc attribute x, stddev: run number = 13\n",
        "\n",
        "acqFuncApprox_exact_13 = acqFuncApprox(exact_13.history)\n",
        "acqFuncExact_exact_13 = acqFuncExact(exact_13.history)\n",
        "\n",
        "e13 = np.mean(acqFuncExact_exact_13)\n",
        "a13 = np.mean(acqFuncApprox_exact_13)\n",
        "\n",
        "e13, a13\n"
      ],
      "metadata": {
        "colab": {
          "base_uri": "https://localhost:8080/"
        },
        "id": "n0drhEe3GuUL",
        "outputId": "5bc4efe2-5f7f-417a-bf21-f400e5f1bbb1"
      },
      "execution_count": 112,
      "outputs": [
        {
          "output_type": "execute_result",
          "data": {
            "text/plain": [
              "(2.943565119035274, 3.1352536914773066)"
            ]
          },
          "metadata": {},
          "execution_count": 112
        }
      ]
    },
    {
      "cell_type": "code",
      "source": [
        "### acqFunc attribute x, stddev: run number = 14\n",
        "\n",
        "acqFuncApprox_exact_14 = acqFuncApprox(exact_14.history)\n",
        "acqFuncExact_exact_14 = acqFuncExact(exact_14.history)\n",
        "\n",
        "e14 = np.mean(acqFuncExact_exact_14)\n",
        "a14 = np.mean(acqFuncApprox_exact_14)\n",
        "\n",
        "e14, a14\n"
      ],
      "metadata": {
        "colab": {
          "base_uri": "https://localhost:8080/"
        },
        "id": "R0W3MZaVGues",
        "outputId": "ced72db0-5080-4b45-90dc-89afa015cf8b"
      },
      "execution_count": 113,
      "outputs": [
        {
          "output_type": "execute_result",
          "data": {
            "text/plain": [
              "(2.938536106605838, 3.028046687871708)"
            ]
          },
          "metadata": {},
          "execution_count": 113
        }
      ]
    },
    {
      "cell_type": "code",
      "source": [
        "### acqFunc attribute x, stddev: run number = 15\n",
        "\n",
        "acqFuncApprox_exact_15 = acqFuncApprox(exact_15.history)\n",
        "acqFuncExact_exact_15 = acqFuncExact(exact_15.history)\n",
        "\n",
        "e15 = np.mean(acqFuncExact_exact_15)\n",
        "a15 = np.mean(acqFuncApprox_exact_15)\n",
        "\n",
        "e15, a15\n"
      ],
      "metadata": {
        "colab": {
          "base_uri": "https://localhost:8080/"
        },
        "id": "DoXdDFHoGup-",
        "outputId": "bae08ced-b308-46c3-935d-68f053994bc7"
      },
      "execution_count": 114,
      "outputs": [
        {
          "output_type": "execute_result",
          "data": {
            "text/plain": [
              "(2.956720315775487, 3.061459367645217)"
            ]
          },
          "metadata": {},
          "execution_count": 114
        }
      ]
    },
    {
      "cell_type": "code",
      "source": [
        "### acqFunc attribute x, stddev: run number = 16\n",
        "\n",
        "acqFuncApprox_exact_16 = acqFuncApprox(exact_16.history)\n",
        "acqFuncExact_exact_16 = acqFuncExact(exact_16.history)\n",
        "\n",
        "e16 = np.mean(acqFuncExact_exact_16)\n",
        "a16 = np.mean(acqFuncApprox_exact_16)\n",
        "\n",
        "e16, a16\n"
      ],
      "metadata": {
        "colab": {
          "base_uri": "https://localhost:8080/"
        },
        "id": "K_wAeqSoGu2j",
        "outputId": "3519c8c7-831b-4846-f9ed-711409391a37"
      },
      "execution_count": 115,
      "outputs": [
        {
          "output_type": "execute_result",
          "data": {
            "text/plain": [
              "(3.036804246311088, 3.083198796597175)"
            ]
          },
          "metadata": {},
          "execution_count": 115
        }
      ]
    },
    {
      "cell_type": "code",
      "source": [
        "### acqFunc attribute x, stddev: run number = 17\n",
        "\n",
        "acqFuncApprox_exact_17 = acqFuncApprox(exact_17.history)\n",
        "acqFuncExact_exact_17 = acqFuncExact(exact_17.history)\n",
        "\n",
        "e17 = np.mean(acqFuncExact_exact_17)\n",
        "a17 = np.mean(acqFuncApprox_exact_17)\n",
        "\n",
        "e17, a17\n"
      ],
      "metadata": {
        "colab": {
          "base_uri": "https://localhost:8080/"
        },
        "id": "n6zy78fjGvBT",
        "outputId": "97a87ad0-d55e-4a9a-84c8-f826edbb0f0a"
      },
      "execution_count": 116,
      "outputs": [
        {
          "output_type": "execute_result",
          "data": {
            "text/plain": [
              "(2.905905045398145, 3.0777013086456777)"
            ]
          },
          "metadata": {},
          "execution_count": 116
        }
      ]
    },
    {
      "cell_type": "code",
      "source": [
        "### acqFunc attribute x, stddev: run number = 18\n",
        "\n",
        "acqFuncApprox_exact_18 = acqFuncApprox(exact_18.history)\n",
        "acqFuncExact_exact_18 = acqFuncExact(exact_18.history)\n",
        "\n",
        "e18 = np.mean(acqFuncExact_exact_18)\n",
        "a18 = np.mean(acqFuncApprox_exact_18)\n",
        "\n",
        "e18, a18\n"
      ],
      "metadata": {
        "colab": {
          "base_uri": "https://localhost:8080/"
        },
        "id": "s_6_2K4iGvM-",
        "outputId": "1c69e16d-23ba-4da0-cdf1-80740b9202d7"
      },
      "execution_count": 117,
      "outputs": [
        {
          "output_type": "execute_result",
          "data": {
            "text/plain": [
              "(2.9156052611389622, 3.0099025934056547)"
            ]
          },
          "metadata": {},
          "execution_count": 117
        }
      ]
    },
    {
      "cell_type": "code",
      "source": [
        "### acqFunc attribute x, stddev: run number = 19\n",
        "\n",
        "acqFuncApprox_exact_19 = acqFuncApprox(exact_19.history)\n",
        "acqFuncExact_exact_19 = acqFuncExact(exact_19.history)\n",
        "\n",
        "e19 = np.mean(acqFuncExact_exact_19)\n",
        "a19 = np.mean(acqFuncApprox_exact_19)\n",
        "\n",
        "e19, a19\n"
      ],
      "metadata": {
        "colab": {
          "base_uri": "https://localhost:8080/"
        },
        "id": "o8oO8pdBGvYk",
        "outputId": "3c4a4878-8749-4c8e-c27d-a7e852883ed4"
      },
      "execution_count": 118,
      "outputs": [
        {
          "output_type": "execute_result",
          "data": {
            "text/plain": [
              "(2.8623046666512626, 2.917898385676275)"
            ]
          },
          "metadata": {},
          "execution_count": 118
        }
      ]
    },
    {
      "cell_type": "code",
      "source": [
        "### acqFunc attribute x, stddev: run number = 20\n",
        "\n",
        "acqFuncApprox_exact_20 = acqFuncApprox(exact_20.history)\n",
        "acqFuncExact_exact_20 = acqFuncExact(exact_20.history)\n",
        "\n",
        "e20 = np.mean(acqFuncExact_exact_20)\n",
        "a20 = np.mean(acqFuncApprox_exact_20)\n",
        "\n",
        "e20, a20\n"
      ],
      "metadata": {
        "colab": {
          "base_uri": "https://localhost:8080/"
        },
        "id": "b2w8oLc0IMzU",
        "outputId": "a1ead26d-2ca8-4290-d04d-4e132332026e"
      },
      "execution_count": 119,
      "outputs": [
        {
          "output_type": "execute_result",
          "data": {
            "text/plain": [
              "(2.982408326682861, 3.016973988454991)"
            ]
          },
          "metadata": {},
          "execution_count": 119
        }
      ]
    },
    {
      "cell_type": "code",
      "source": [
        "### Summarize arrays: \n",
        "\n",
        "exact_stddev = np.sort([e1,e2,e3,e4,e5,e6,e7,e8,e9,e10,e11,e12,e13,e14,e15,e16,e17,e18,e19,e20])\n",
        "approx_stddev = np.sort([a1,a2,a3,a4,a5,a6,a7,a8,a9,a10,a11,a12,a13,a14,a15,a16,a17,a18,a19,a20])\n",
        "\n",
        "np.mean(exact_stddev), np.mean(approx_stddev)\n"
      ],
      "metadata": {
        "colab": {
          "base_uri": "https://localhost:8080/"
        },
        "id": "qAZs3yxMIZul",
        "outputId": "b70f8012-d440-4e92-e7a4-97d70d9d2bfb"
      },
      "execution_count": 120,
      "outputs": [
        {
          "output_type": "execute_result",
          "data": {
            "text/plain": [
              "(2.943558797429138, 3.0463887033895416)"
            ]
          },
          "metadata": {},
          "execution_count": 120
        }
      ]
    },
    {
      "cell_type": "code",
      "source": [
        "### Visualise!\n",
        "\n",
        "title = func\n",
        "plt.figure()\n",
        "\n",
        "plt.plot(approx_stddev, color = 'Green', ls='-', label='Average $\\sigma$, attribute $\\mathbf{x}$: Approx GP ERM gradients')\n",
        "plt.plot(exact_stddev, color = 'Blue', ls='-.', label='Average $\\sigma$, attribute $\\mathbf{x}$: Exact GP dERM gradients')\n",
        "\n",
        "plt.title(title, weight = 'bold')\n",
        "plt.xlabel('Function evaluations: iteration $\\it{k}$', weight = 'bold')\n",
        "plt.ylabel('GP ERM: Average $\\sigma$, attribute $\\mathbf{x}$', weight = 'bold') \n",
        "plt.legend(loc=0) # add plot legend\n",
        "\n",
        "### Make the x-ticks integers, not floats:\n",
        "count = len(xstar)\n",
        "plt.xticks(np.arange(count), np.arange(1, count))\n",
        "plt.show() #visualize!\n"
      ],
      "metadata": {
        "colab": {
          "base_uri": "https://localhost:8080/",
          "height": 297
        },
        "id": "e_kpqYcMIZxu",
        "outputId": "4765d673-812f-43ad-e1b1-38e4686a77fd"
      },
      "execution_count": 121,
      "outputs": [
        {
          "output_type": "display_data",
          "data": {
            "text/plain": [
              "<Figure size 432x288 with 1 Axes>"
            ],
            "image/png": "[encoded data removed]"
          },
          "metadata": {
            "needs_background": "light"
          }
        }
      ]
    },
    {
      "cell_type": "code",
      "source": [
        ""
      ],
      "metadata": {
        "id": "LToGd4vZIZ3I"
      },
      "execution_count": 121,
      "outputs": []
    }
  ],
  "metadata": {
    "colab": {
      "collapsed_sections": [],
      "name": "3_SumSquares_GP_dERM.ipynb",
      "provenance": []
    },
    "kernelspec": {
      "display_name": "Python 3",
      "name": "python3"
    },
    "language_info": {
      "name": "python"
    }
  },
  "nbformat": 4,
  "nbformat_minor": 0
}