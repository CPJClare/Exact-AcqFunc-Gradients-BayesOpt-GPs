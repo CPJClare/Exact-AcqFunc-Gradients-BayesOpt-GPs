{
  "cells": [
    {
      "cell_type": "markdown",
      "metadata": {
        "id": "Dqn4dFx7Z2Ir"
      },
      "source": [
        "\n",
        "Booth: 2D\n"
      ]
    },
    {
      "cell_type": "code",
      "execution_count": 1,
      "metadata": {
        "colab": {
          "base_uri": "https://localhost:8080/"
        },
        "id": "MJTM_GZZZb5x",
        "outputId": "59a9abe4-a7bb-431e-8bb2-cb8a4bf01d7b"
      },
      "outputs": [
        {
          "output_type": "stream",
          "name": "stdout",
          "text": [
            "Looking in indexes: https://pypi.org/simple, https://us-python.pkg.dev/colab-wheels/public/simple/\n",
            "Collecting pyGPGO\n",
            "  Downloading pyGPGO-0.5.1.tar.gz (14 kB)\n",
            "Requirement already satisfied: numpy in /usr/local/lib/python3.7/dist-packages (from pyGPGO) (1.21.6)\n",
            "Requirement already satisfied: mkl in /usr/local/lib/python3.7/dist-packages (from pyGPGO) (2019.0)\n",
            "Requirement already satisfied: scipy in /usr/local/lib/python3.7/dist-packages (from pyGPGO) (1.7.3)\n",
            "Requirement already satisfied: joblib in /usr/local/lib/python3.7/dist-packages (from pyGPGO) (1.1.0)\n",
            "Requirement already satisfied: scikit-learn in /usr/local/lib/python3.7/dist-packages (from pyGPGO) (1.0.2)\n",
            "Requirement already satisfied: Theano-PyMC in /usr/local/lib/python3.7/dist-packages (from pyGPGO) (1.1.2)\n",
            "Requirement already satisfied: pyMC3 in /usr/local/lib/python3.7/dist-packages (from pyGPGO) (3.11.5)\n",
            "Requirement already satisfied: intel-openmp in /usr/local/lib/python3.7/dist-packages (from mkl->pyGPGO) (2022.1.0)\n",
            "Requirement already satisfied: arviz>=0.11.0 in /usr/local/lib/python3.7/dist-packages (from pyMC3->pyGPGO) (0.12.1)\n",
            "Requirement already satisfied: dill in /usr/local/lib/python3.7/dist-packages (from pyMC3->pyGPGO) (0.3.5.1)\n",
            "Requirement already satisfied: patsy>=0.5.1 in /usr/local/lib/python3.7/dist-packages (from pyMC3->pyGPGO) (0.5.2)\n",
            "Requirement already satisfied: typing-extensions>=3.7.4 in /usr/local/lib/python3.7/dist-packages (from pyMC3->pyGPGO) (4.1.1)\n",
            "Requirement already satisfied: semver>=2.13.0 in /usr/local/lib/python3.7/dist-packages (from pyMC3->pyGPGO) (2.13.0)\n",
            "Requirement already satisfied: fastprogress>=0.2.0 in /usr/local/lib/python3.7/dist-packages (from pyMC3->pyGPGO) (1.0.3)\n",
            "Requirement already satisfied: deprecat in /usr/local/lib/python3.7/dist-packages (from pyMC3->pyGPGO) (2.1.1)\n",
            "Requirement already satisfied: cachetools>=4.2.1 in /usr/local/lib/python3.7/dist-packages (from pyMC3->pyGPGO) (4.2.4)\n",
            "Requirement already satisfied: pandas>=0.24.0 in /usr/local/lib/python3.7/dist-packages (from pyMC3->pyGPGO) (1.3.5)\n",
            "Requirement already satisfied: filelock in /usr/local/lib/python3.7/dist-packages (from Theano-PyMC->pyGPGO) (3.7.1)\n",
            "Requirement already satisfied: matplotlib>=3.0 in /usr/local/lib/python3.7/dist-packages (from arviz>=0.11.0->pyMC3->pyGPGO) (3.2.2)\n",
            "Requirement already satisfied: xarray>=0.16.1 in /usr/local/lib/python3.7/dist-packages (from arviz>=0.11.0->pyMC3->pyGPGO) (0.20.2)\n",
            "Requirement already satisfied: netcdf4 in /usr/local/lib/python3.7/dist-packages (from arviz>=0.11.0->pyMC3->pyGPGO) (1.6.0)\n",
            "Requirement already satisfied: setuptools>=38.4 in /usr/local/lib/python3.7/dist-packages (from arviz>=0.11.0->pyMC3->pyGPGO) (57.4.0)\n",
            "Requirement already satisfied: packaging in /usr/local/lib/python3.7/dist-packages (from arviz>=0.11.0->pyMC3->pyGPGO) (21.3)\n",
            "Requirement already satisfied: xarray-einstats>=0.2 in /usr/local/lib/python3.7/dist-packages (from arviz>=0.11.0->pyMC3->pyGPGO) (0.2.2)\n",
            "Requirement already satisfied: kiwisolver>=1.0.1 in /usr/local/lib/python3.7/dist-packages (from matplotlib>=3.0->arviz>=0.11.0->pyMC3->pyGPGO) (1.4.4)\n",
            "Requirement already satisfied: pyparsing!=2.0.4,!=2.1.2,!=2.1.6,>=2.0.1 in /usr/local/lib/python3.7/dist-packages (from matplotlib>=3.0->arviz>=0.11.0->pyMC3->pyGPGO) (3.0.9)\n",
            "Requirement already satisfied: cycler>=0.10 in /usr/local/lib/python3.7/dist-packages (from matplotlib>=3.0->arviz>=0.11.0->pyMC3->pyGPGO) (0.11.0)\n",
            "Requirement already satisfied: python-dateutil>=2.1 in /usr/local/lib/python3.7/dist-packages (from matplotlib>=3.0->arviz>=0.11.0->pyMC3->pyGPGO) (2.8.2)\n",
            "Requirement already satisfied: pytz>=2017.3 in /usr/local/lib/python3.7/dist-packages (from pandas>=0.24.0->pyMC3->pyGPGO) (2022.1)\n",
            "Requirement already satisfied: six in /usr/local/lib/python3.7/dist-packages (from patsy>=0.5.1->pyMC3->pyGPGO) (1.15.0)\n",
            "Requirement already satisfied: importlib-metadata in /usr/local/lib/python3.7/dist-packages (from xarray>=0.16.1->arviz>=0.11.0->pyMC3->pyGPGO) (4.12.0)\n",
            "Requirement already satisfied: wrapt<2,>=1.10 in /usr/local/lib/python3.7/dist-packages (from deprecat->pyMC3->pyGPGO) (1.14.1)\n",
            "Requirement already satisfied: zipp>=0.5 in /usr/local/lib/python3.7/dist-packages (from importlib-metadata->xarray>=0.16.1->arviz>=0.11.0->pyMC3->pyGPGO) (3.8.1)\n",
            "Requirement already satisfied: cftime in /usr/local/lib/python3.7/dist-packages (from netcdf4->arviz>=0.11.0->pyMC3->pyGPGO) (1.6.1)\n",
            "Requirement already satisfied: threadpoolctl>=2.0.0 in /usr/local/lib/python3.7/dist-packages (from scikit-learn->pyGPGO) (3.1.0)\n",
            "Building wheels for collected packages: pyGPGO\n",
            "  Building wheel for pyGPGO (setup.py) ... \u001b[?25l\u001b[?25hdone\n",
            "  Created wheel for pyGPGO: filename=pyGPGO-0.5.1-py3-none-any.whl size=19879 sha256=cd31ac0ead43f23dc8522dba983d732495095aa143df5cb338207552d96fae8e\n",
            "  Stored in directory: /root/.cache/pip/wheels/c8/5d/0b/2160114e2f1b87791c51b66cf07f89831dbb6f49167950316f\n",
            "Successfully built pyGPGO\n",
            "Installing collected packages: pyGPGO\n",
            "Successfully installed pyGPGO-0.5.1\n"
          ]
        }
      ],
      "source": [
        "pip install pyGPGO\n"
      ]
    },
    {
      "cell_type": "code",
      "execution_count": 2,
      "metadata": {
        "id": "ZJSSPbwPaEUB"
      },
      "outputs": [],
      "source": [
        "### Import:\n",
        "\n",
        "import numpy as np\n",
        "import scipy as sp\n",
        "import pandas as pd\n",
        "import matplotlib.pyplot as plt\n",
        "import warnings\n",
        "import itertools\n",
        "\n",
        "from pyGPGO.GPGO import GPGO\n",
        "from pyGPGO.surrogates.GaussianProcess import GaussianProcess\n",
        "from pyGPGO.acquisition import Acquisition\n",
        "from pyGPGO.covfunc import squaredExponential\n",
        "\n",
        "from joblib import Parallel, delayed\n",
        "from numpy.linalg import solve, cholesky\n",
        "from scipy.spatial.distance import cdist\n",
        "from scipy.optimize import minimize\n",
        "from scipy.stats import norm\n",
        "import time\n",
        "\n",
        "warnings.filterwarnings(\"ignore\", category=RuntimeWarning)\n"
      ]
    },
    {
      "cell_type": "code",
      "execution_count": 3,
      "metadata": {
        "id": "OeYcTUNoaJWa"
      },
      "outputs": [],
      "source": [
        "### Inputs:\n",
        "\n",
        "func = 'Booth'\n",
        "n_test = 500\n",
        "eps = 1e-08\n",
        "\n",
        "util = 'ERM'\n",
        "\n",
        "n_init = 5 # random initialisations\n",
        "iters = 20\n",
        "opt = True"
      ]
    },
    {
      "cell_type": "code",
      "execution_count": 4,
      "metadata": {
        "id": "xpaEOjdzaPMS"
      },
      "outputs": [],
      "source": [
        "### Objective Function - Booth(x) 2-D:\n",
        "\n",
        "def objfunc(x1_training, x2_training):\n",
        "            return  operator * ( (x1_training + 2 * x2_training -7) ** 2 +\n",
        "                                 (2 * x1_training + x2_training -5) ** 2\n",
        "                            )\n",
        "        \n",
        "# Constraints:\n",
        "lb = -10\n",
        "ub = +10\n",
        "    \n",
        "# Input array dimension(s):\n",
        "dim = 2\n",
        "\n",
        "# 2-D inputs' parameter bounds:\n",
        "param = {'x1_training': ('cont', [lb, ub]),\n",
        "                 'x2_training': ('cont', [lb, ub])\n",
        "                 }\n",
        "    \n",
        "# True y bounds:\n",
        "y_lb = 0\n",
        "operator = -1 # targets global minimum \n",
        "y_global_orig = y_lb * operator # targets global minimum\n",
        "    \n",
        "# Test data:\n",
        "x1_test = np.linspace(lb, ub, n_test)\n",
        "x2_test = np.linspace(lb, ub, n_test)\n",
        "x_test = np.column_stack((x1_test, x2_test))\n"
      ]
    },
    {
      "cell_type": "code",
      "execution_count": 5,
      "metadata": {
        "id": "eYpI3Zm4aGxi"
      },
      "outputs": [],
      "source": [
        "n_start_AcqFunc = iters\n",
        "inverse = -1\n"
      ]
    },
    {
      "cell_type": "code",
      "execution_count": 6,
      "metadata": {
        "id": "oO_GUmOoaV0T"
      },
      "outputs": [],
      "source": [
        "### Cumulative Regret Calculators:\n",
        "\n",
        "def min_max_array(x):\n",
        "    new_list = []\n",
        "    for i, num in enumerate(x):\n",
        "            new_list.append(np.min(x[0:i+1]))\n",
        "    return new_list\n",
        "  \n",
        "def acqFuncExact(x):\n",
        "    new_array = []\n",
        "    x = np.array(x) \n",
        "    for i, num in enumerate(x):\n",
        "            new_array = x[:-2][::-3]\n",
        "    return new_array[::-1]\n",
        "\n",
        "def acqFuncApprox(x):\n",
        "    new_array = []\n",
        "    x = np.array(x) \n",
        "    for i, num in enumerate(x):\n",
        "            new_array = x[:-1][::-3]\n",
        "    return new_array[::-1]\n"
      ]
    },
    {
      "cell_type": "code",
      "execution_count": 7,
      "metadata": {
        "id": "kuuJx0IMam9S"
      },
      "outputs": [],
      "source": [
        "### Surrogate derivatives: \n",
        "\n",
        "cov_func = squaredExponential()\n",
        "\n",
        "def kronDelta(X, Xstar):                     # Kronecker's Delta method\n",
        "    return cdist(X, Xstar) < np.finfo(np.float32).eps\n",
        "\n",
        "def se(X, Xstar, sigmaf, l, sigman):         # S.E. kernel method\n",
        "    return sigmaf * np.exp(-0.5 * cdist(X, Xstar) ** 2 / l ** 2) + sigman * kronDelta(X, Xstar)\n",
        "\n",
        "def delta(X, Xstar):                         # Distance between training X and test Xstar vectors\n",
        "    return (X - Xstar)\n",
        "   \n",
        "def der_covmat(X, Xstar, sigmaf, l, sigman): # Covariance matrix derivative terms (i.e. exact, first-order)\n",
        "    nx = len(X)\n",
        "    ny = len(Xstar)\n",
        "    return np.round(np.array([(delta(np.atleast_2d(i), np.atleast_2d(j))[0] * se(np.atleast_2d(i), np.atleast_2d(j), sigmaf, l, sigman)[0]).sum() for (i, j) in itertools.product(X, Xstar)]).reshape(nx, ny), 8)\n",
        "\n",
        "class dGaussianProcess(GaussianProcess):    # Via inheritance, also optimises hyperparameters when opt = TRUE\n",
        "    \n",
        "    def AcqGrad(self, Xstar):               # Method returning exact, first-order derivatives of the GP's posterior mean and standard deviation\n",
        "        Xstar = np.atleast_2d(Xstar)\n",
        "        Kstar = self.covfunc.K(self.X, Xstar).T\n",
        "        \n",
        "        dKstar = der_covmat(self.X, Xstar, self.covfunc.sigmaf, self.covfunc.l, self.covfunc.sigman).T\n",
        "        alpha_Kstar = np.dot(np.linalg.inv(self.K + (self.covfunc.sigman**2) * np.eye(len(self.X))), Kstar.T)\n",
        "        \n",
        "        dm = np.dot(dKstar, self.alpha)\n",
        "        ds = -2 * np.dot(dKstar, alpha_Kstar)\n",
        "        \n",
        "        return dm, ds           \n"
      ]
    },
    {
      "cell_type": "code",
      "execution_count": 8,
      "metadata": {
        "id": "_Dc3YVHVaXz7"
      },
      "outputs": [],
      "source": [
        "### Add exact acquisition function gradient as attribute:\n",
        "\n",
        "class Acquisition_grad(Acquisition):    \n",
        "    def __init__(self, mode, eps=eps, **params):\n",
        "        \n",
        "        self.params = params\n",
        "        self.eps = eps\n",
        "\n",
        "        mode_dict = {\n",
        "            'ERM': self.ERM\n",
        "        }\n",
        "\n",
        "        self.f = mode_dict[mode]\n",
        "    \n",
        "    def ERM(self, y_global_orig, mean, std, ds, dm):\n",
        "        gamma = (mean - y_global_orig - self.eps) / (std + self.eps)\n",
        "        gamma_h = (mean - y_global_orig) / (std + self.eps)\n",
        "        dsdx = ds / (2 * (std + self.eps))\n",
        "        dmdx = (dm - gamma * dsdx) / (std + self.eps)\n",
        "        \n",
        "        f = (std + self.eps) * (gamma * norm.cdf(gamma) + norm.pdf(gamma))\n",
        "        df1 = f / (std + self.eps) * dsdx \n",
        "        df2 = (std + self.eps) * norm.cdf(gamma) * dmdx\n",
        "        df = (df1 + df2)[0]\n",
        "        df_arr = []\n",
        "\n",
        "        for j in range(0, dim):\n",
        "          df_arr.append(df)\n",
        "        return f, np.asarray(df_arr).transpose()\n",
        "        \n",
        "    def d_eval(self, y_global_orig, mean, std, ds, dm):\n",
        "    \n",
        "        return self.f(y_global_orig, mean, std, ds, dm, **self.params)\n",
        "        "
      ]
    },
    {
      "cell_type": "code",
      "execution_count": 9,
      "metadata": {
        "id": "PITEQC8YSl7i"
      },
      "outputs": [],
      "source": [
        "## GPGO_multi: \n",
        "\n",
        "class GPGO_multi(GPGO):\n",
        "    n_start = n_start_AcqFunc\n",
        "\n",
        "    def __init__(self, surrogate, acquisition, f, parameter_dict, n_jobs=1):\n",
        "        self.GP = surrogate\n",
        "        self.A = acquisition\n",
        "        self.f = f\n",
        "        self.parameters = parameter_dict\n",
        "        self.n_jobs = n_jobs\n",
        "\n",
        "        self.parameter_key = list(parameter_dict.keys())\n",
        "        self.parameter_value = list(parameter_dict.values())\n",
        "        self.parameter_type = [p[0] for p in self.parameter_value]\n",
        "        self.parameter_range = [p[1] for p in self.parameter_value]\n",
        "\n",
        "        self.history = []\n",
        "        self.header =   'Evaluation \\t Proposed point \\t  Current eval. \\t  Best eval. \\t        Exact EI: StdDev. x \\t Approx EI: StdDev. x '\n",
        "        self.template = '{:3}\\t {}\\t {:3}\\t {:3}\\t {:3}\\t {:3}'\n",
        " \n",
        "    def acqfuncExact(self, xnew, n_start=n_start_AcqFunc):\n",
        "        new_mean, new_var = self.GP.predict(xnew, return_std=True)\n",
        "        new_std = np.sqrt(new_var + eps)\n",
        "        dm, ds = self.GP.AcqGrad(xnew)\n",
        "        f, df = self.A.d_eval(y_global_orig, new_mean, new_std, ds=ds, dm=dm)\n",
        "\n",
        "        return -f, -df\n",
        "   \n",
        "    def acqfuncApprox(self, xnew, n_start=n_start_AcqFunc):\n",
        "        new_mean, new_var = self.GP.predict(xnew, return_std=True)\n",
        "        new_std = np.sqrt(new_var + eps)\n",
        "        dm, ds = self.GP.AcqGrad(xnew)\n",
        "        f, df = self.A.d_eval(y_global_orig, new_mean, new_std, ds=ds, dm=dm)\n",
        "\n",
        "        return -f\n",
        "   \n",
        "    def _optimizeAcq(self, method='L-BFGS-B', n_start=n_start_AcqFunc):\n",
        "        \n",
        "        start_points_dict = [self._sampleParam() for i in range(n_start)]\n",
        "        start_points_arr = np.array([list(s.values())\n",
        "                                     for s in start_points_dict])\n",
        "        x_best = np.empty((n_start, len(self.parameter_key)))\n",
        "        f_best = np.empty((n_start,))\n",
        "        opt = Parallel(n_jobs=self.n_jobs)(delayed(minimize)(self.acqfuncApprox,\n",
        "                                                                 x0=start_point,\n",
        "                                                                 method=method,\n",
        "                                                                 jac = False,\n",
        "                                                                 bounds=self.parameter_range) for start_point in\n",
        "                                               start_points_arr)\n",
        "        x_best = np.array([res.x for res in opt])\n",
        "        f_best = np.array([np.atleast_1d(res.fun)[0] for res in opt])\n",
        "        f_best_min = min(f_best)\n",
        "\n",
        "        self.x_best = x_best\n",
        "        self.f_best = f_best\n",
        "        self.f_best_min = f_best_min\n",
        "        self.x_best_std = np.std(x_best)\n",
        "        self.best = x_best[np.argmin(f_best)]\n",
        "        self.start_points_arr = start_points_arr        \n",
        "        self.history.append(self.x_best_std)\n",
        "\n",
        "        x_best_exact = np.empty((n_start, len(self.parameter_key)))\n",
        "        f_best_exact = np.empty((n_start,))\n",
        "        opt_exact = Parallel(n_jobs=self.n_jobs)(delayed(minimize)(self.acqfuncExact,\n",
        "                                                                 x0=start_point,\n",
        "                                                                 method=method,\n",
        "                                                                 jac = True,\n",
        "                                                                 bounds=self.parameter_range) for start_point in\n",
        "                                               start_points_arr)\n",
        "        x_best_exact = np.array([res.x for res in opt_exact])\n",
        "        f_best_exact = np.array([np.atleast_1d(res.fun)[0] for res in opt_exact])\n",
        "        f_best_min_exact = min(f_best_exact)\n",
        "\n",
        "        self.x_best_exact = x_best_exact\n",
        "        self.f_best_exact = f_best_exact\n",
        "        self.f_best_min_exact = f_best_min_exact\n",
        "        self.x_best_std_exact = np.std(x_best_exact)\n",
        "        self.best_exact = x_best_exact[np.argmin(f_best_exact)]\n",
        "        self.start_points_arr = start_points_arr\n",
        "        self.history.append(self.x_best_std_exact)\n",
        "\n",
        "    def _printInit(self):\n",
        "        print(self.header)\n",
        "        for init_eval in range(self.init_evals):\n",
        "            print(self.template.format('init', self.GP.X[init_eval], inverse * self.GP.y[init_eval], inverse * self.tau, '', ''))\n",
        "      \n",
        "    def _printCurrent(self):\n",
        "        OKGREEN = '\\033[92m'\n",
        "        ENDC = '\\033[0m'\n",
        "        BOLD = '\\033[1m'\n",
        "        eval = str(len(self.GP.y) - self.init_evals)\n",
        "        proposed = str(self.best)\n",
        "        curr_eval = str(inverse * self.GP.y[-1])\n",
        "        curr_best = str(inverse * self.tau)\n",
        "        min_acqfunc = str(self.f_best_min)\n",
        "        min_acqfunc_exact = str(self.f_best_min_exact)\n",
        "        x_best_std = str(self.x_best_std)\n",
        "        x_best_std_exact = str(self.x_best_std_exact)\n",
        "        if float(curr_eval) <= float(curr_best):\n",
        "            eval = BOLD + OKGREEN + eval + ENDC\n",
        "            proposed = BOLD + OKGREEN + proposed + ENDC\n",
        "            curr_eval = BOLD + OKGREEN + curr_eval + ENDC\n",
        "            curr_best = BOLD + OKGREEN + curr_best + ENDC\n",
        "            x_best_std = BOLD + OKGREEN + x_best_std + ENDC\n",
        "            x_best_std_exact = BOLD + OKGREEN + x_best_std_exact + ENDC\n",
        "        print(self.template.format(eval, proposed, curr_eval, curr_best, x_best_std_exact, x_best_std))\n",
        "        \n",
        "    def run(self, max_iter=10, init_evals=3, resume=False):\n",
        "        \n",
        "        if not resume:\n",
        "            self.init_evals = init_evals\n",
        "            self._firstRun(self.init_evals)\n",
        "            self._printInit()\n",
        "        for iteration in range(max_iter):\n",
        "            self._optimizeAcq()\n",
        "            self.updateGP()\n",
        "            self._printCurrent()\n"
      ]
    },
    {
      "cell_type": "code",
      "execution_count": 10,
      "metadata": {
        "id": "b_B-w81BJxKN"
      },
      "outputs": [],
      "source": [
        "## dGPGO:\n",
        "\n",
        "class dGPGO(GPGO):\n",
        "    n_start = n_start_AcqFunc\n",
        "\n",
        "    def __init__(self, surrogate, acquisition, f, parameter_dict, n_jobs=1):\n",
        "        self.GP = surrogate\n",
        "        self.A = acquisition\n",
        "        self.f = f\n",
        "        self.parameters = parameter_dict\n",
        "        self.n_jobs = n_jobs\n",
        "\n",
        "        self.parameter_key = list(parameter_dict.keys())\n",
        "        self.parameter_value = list(parameter_dict.values())\n",
        "        self.parameter_type = [p[0] for p in self.parameter_value]\n",
        "        self.parameter_range = [p[1] for p in self.parameter_value]\n",
        "\n",
        "        self.history = []\n",
        "        self.header =   'Evaluation \\t Proposed point \\t  Current eval. \\t  Best eval. \\t        Exact EI: StdDev. x \\t Approx EI: StdDev. x '\n",
        "        self.template = '{:3}\\t {}\\t {:3}\\t {:3}\\t {:3}\\t {:3}'\n",
        "\n",
        "    def acqfuncExact(self, xnew, n_start=n_start_AcqFunc):\n",
        "        new_mean, new_var = self.GP.predict(xnew, return_std=True)\n",
        "        new_std = np.sqrt(new_var + eps)\n",
        "        dm, ds = self.GP.AcqGrad(xnew)\n",
        "        f, df = self.A.d_eval(y_global_orig, new_mean, new_std, ds=ds, dm=dm)\n",
        "\n",
        "        return -f, -df\n",
        "   \n",
        "    def acqfuncApprox(self, xnew, n_start=n_start_AcqFunc):\n",
        "        new_mean, new_var = self.GP.predict(xnew, return_std=True)\n",
        "        new_std = np.sqrt(new_var + eps)\n",
        "        dm, ds = self.GP.AcqGrad(xnew)\n",
        "        f, df = self.A.d_eval(y_global_orig, new_mean, new_std, ds=ds, dm=dm)\n",
        "\n",
        "        return -f\n",
        "\n",
        "    def d_optimizeAcq(self, method='L-BFGS-B', n_start=n_start_AcqFunc):\n",
        "        start_points_dict = [self._sampleParam() for i in range(n_start)]\n",
        "        start_points_arr = np.array([list(s.values())\n",
        "                                     for s in start_points_dict])\n",
        "        x_best = np.empty((n_start, len(self.parameter_key)))\n",
        "        f_best = np.empty((n_start,))\n",
        "        opt = Parallel(n_jobs=self.n_jobs)(delayed(minimize)(self.acqfuncExact,\n",
        "                                                                 x0=start_point,\n",
        "                                                                 method=method,\n",
        "                                                                 jac = True,\n",
        "                                                                 bounds=self.parameter_range) for start_point in\n",
        "                                               start_points_arr)\n",
        "        x_best = np.array([res.x for res in opt])\n",
        "        f_best = np.array([np.atleast_1d(res.fun)[0] for res in opt])\n",
        "        f_best_min = min(f_best)\n",
        "\n",
        "        self.x_best = x_best\n",
        "        self.f_best = f_best\n",
        "        self.f_best_min = f_best_min\n",
        "        self.x_best_std = np.std(x_best)\n",
        "        self.best = x_best[np.argmin(f_best)]\n",
        "        self.start_points_arr = start_points_arr\n",
        "        self.history.append(self.x_best_std)\n",
        "\n",
        "        x_best_approx = np.empty((n_start, len(self.parameter_key)))\n",
        "        f_best_approx = np.empty((n_start,))\n",
        "        opt_approx = Parallel(n_jobs=self.n_jobs)(delayed(minimize)(self.acqfuncApprox,\n",
        "                                                                 x0=start_point,\n",
        "                                                                 method=method,\n",
        "                                                                 jac = False,\n",
        "                                                                 bounds=self.parameter_range) for start_point in\n",
        "                                               start_points_arr)\n",
        "        x_best_approx = np.array([res.x for res in opt_approx])\n",
        "        f_best_approx = np.array([np.atleast_1d(res.fun)[0] for res in opt_approx])\n",
        "        f_best_min_approx = min(f_best_approx)\n",
        "\n",
        "        self.x_best_approx = x_best_approx\n",
        "        self.f_best_approx = f_best_approx\n",
        "        self.f_best_min_approx = f_best_min_approx\n",
        "        self.x_best_std_approx = np.std(x_best_approx)\n",
        "        self.best_approx = x_best_approx[np.argmin(f_best_approx)]\n",
        "        self.start_points_arr = start_points_arr\n",
        "        self.history.append(self.x_best_std_approx)\n",
        "    \n",
        "    def _printInit(self):\n",
        "        print(self.header)\n",
        "        for init_eval in range(self.init_evals):\n",
        "            print(self.template.format('init', self.GP.X[init_eval], inverse * self.GP.y[init_eval], inverse * self.tau, '', ''))\n",
        "      \n",
        "    def _printCurrent(self):\n",
        "        OKGREEN = '\\033[92m'\n",
        "        ENDC = '\\033[0m'\n",
        "        BOLD = '\\033[1m'\n",
        "        eval = str(len(self.GP.y) - self.init_evals)\n",
        "        proposed = str(self.best)\n",
        "        curr_eval = str(inverse * self.GP.y[-1])\n",
        "        curr_best = str(inverse * self.tau)\n",
        "        min_acqfunc = str(self.f_best_min)\n",
        "        min_acqfunc_approx = str(self.f_best_min_approx)\n",
        "        x_best_std = str(self.x_best_std)\n",
        "        x_best_std_approx = str(self.x_best_std_approx)\n",
        "        if float(curr_eval) <= float(curr_best):\n",
        "            eval = BOLD + OKGREEN + eval + ENDC\n",
        "            proposed = BOLD + OKGREEN + proposed + ENDC\n",
        "            curr_eval = BOLD + OKGREEN + curr_eval + ENDC\n",
        "            curr_best = BOLD + OKGREEN + curr_best + ENDC\n",
        "            x_best_std = BOLD + OKGREEN + x_best_std + ENDC\n",
        "            x_best_std_approx = BOLD + OKGREEN + x_best_std_approx + ENDC\n",
        "        print(self.template.format(eval, proposed, curr_eval, curr_best, x_best_std, x_best_std_approx))\n",
        "\n",
        "    def run(self, max_iter=10, init_evals=3, resume=False):\n",
        "        \n",
        "        if not resume:\n",
        "            self.init_evals = init_evals\n",
        "            self._firstRun(self.init_evals)\n",
        "            self._printInit()\n",
        "        for iteration in range(max_iter):\n",
        "            self.d_optimizeAcq()\n",
        "            self.updateGP()\n",
        "            self._printCurrent()\n"
      ]
    },
    {
      "cell_type": "code",
      "execution_count": 11,
      "metadata": {
        "id": "qXIKGuXVGEg2"
      },
      "outputs": [],
      "source": [
        "###Reproducible set-seeds:\n",
        "\n",
        "run_num_1 = 1\n",
        "run_num_2 = 2\n",
        "run_num_3 = 3\n",
        "run_num_4 = 4\n",
        "run_num_5 = 5\n",
        "run_num_6 = 6\n",
        "run_num_7 = 7\n",
        "run_num_8 = 8\n",
        "run_num_9 = 9\n",
        "run_num_10 = 10\n",
        "run_num_11 = 11\n",
        "run_num_12 = 12\n",
        "run_num_13 = 13\n",
        "run_num_14 = 14\n",
        "run_num_15 = 15\n",
        "run_num_16 = 16\n",
        "run_num_17 = 17\n",
        "run_num_18 = 18\n",
        "run_num_19 = 19\n",
        "run_num_20 = 20\n"
      ]
    },
    {
      "cell_type": "code",
      "execution_count": 12,
      "metadata": {
        "colab": {
          "base_uri": "https://localhost:8080/"
        },
        "id": "JEhagQmnTVIK",
        "outputId": "bc12ad3c-aefa-42fc-b928-b08d9eed3b58"
      },
      "outputs": [
        {
          "output_type": "execute_result",
          "data": {
            "text/plain": [
              "1659620995.1721795"
            ]
          },
          "metadata": {},
          "execution_count": 12
        }
      ],
      "source": [
        "start_approx = time.time()\n",
        "start_approx\n"
      ]
    },
    {
      "cell_type": "code",
      "execution_count": 13,
      "metadata": {
        "colab": {
          "base_uri": "https://localhost:8080/"
        },
        "id": "aH0YSTXufD1v",
        "outputId": "f248dc15-7f62-41d6-8997-154b9aa96ece"
      },
      "outputs": [
        {
          "output_type": "stream",
          "name": "stdout",
          "text": [
            "Evaluation \t Proposed point \t  Current eval. \t  Best eval. \t        Exact EI: StdDev. x \t Approx EI: StdDev. x \n",
            "init\t [-1.65955991  4.40648987]\t 15.332210716052247\t 15.332210716052247\t    \t    \n",
            "init\t [-9.9977125  -3.95334855]\t 1458.2611077633842\t 15.332210716052247\t    \t    \n",
            "init\t [-7.06488218 -8.1532281 ]\t 1666.779874000304\t 15.332210716052247\t    \t    \n",
            "init\t [-6.27479577 -3.08878546]\t 804.3371752309802\t 15.332210716052247\t    \t    \n",
            "init\t [-2.06465052  0.77633468]\t 126.2019077328938\t 15.332210716052247\t    \t    \n",
            "1  \t [ 7.89213327 -8.29911577]\t 252.857497365554\t 15.332210716052247\t 6.237438278276306\t 6.607371581636167\n",
            "2  \t [7.66612182 2.47344414]\t 195.49152221204983\t 15.332210716052247\t 6.088170479233594\t 6.024951175660776\n",
            "3  \t [1.62717855 9.40039978]\t 238.9058988758153\t 15.332210716052247\t 6.281380258320998\t 6.035140829796363\n",
            "4  \t [-9.56950389  8.95940422]\t 232.24098716076017\t 15.332210716052247\t 6.463264295048612\t 6.670400156207803\n",
            "5  \t [ 2.56152397 -4.28847437]\t 186.75205921539708\t 15.332210716052247\t 5.710675028692215\t 5.869825385320868\n",
            "6  \t [ -0.35451896 -10.        ]\t 995.043580030899\t 15.332210716052247\t 5.347771141043292\t 5.860479002766833\n",
            "7  \t [-9.46434607  2.31291221]\t 607.3925374323708\t 15.332210716052247\t 5.997726044496945\t 6.4968495498776635\n",
            "8  \t [7.47962278 8.42803099]\t 638.6179053493643\t 15.332210716052247\t 6.827299954130832\t 6.824574781463811\n",
            "9  \t [10.         -2.89251045]\t 154.34764462810216\t 15.332210716052247\t 5.797802509154589\t 6.2055211424195\n",
            "10 \t [2.89356956 4.20654462]\t 43.48418721514007\t 15.332210716052247\t 6.0753926138466365\t 6.031608829194421\n",
            "11 \t [-3.98023192  9.58648468]\t 78.5046821913274\t 15.332210716052247\t 5.361163020067785\t 5.699083645446657\n",
            "12 \t [-5.70809644  5.44459664]\t 123.6843329748773\t 15.332210716052247\t 5.98011027037803\t 5.982031777197937\n",
            "13 \t [-1.93609136 -5.26106617]\t 578.3711946055045\t 15.332210716052247\t 4.987391311506303\t 5.096351265209881\n",
            "14 \t [3.63957292 0.07006405]\t 15.889112649286224\t 15.332210716052247\t 5.717304083728741\t 5.860971612937341\n",
            "15 \t [  4.13173585 -10.        ]\t 568.3383188396137\t 15.332210716052247\t 5.135569605426183\t 5.134994295004445\n",
            "16 \t [ 6.12773931 -2.21861126]\t 53.56064473153805\t 15.332210716052247\t 5.793043957615794\t 5.69102641299705\n",
            "17 \t [-5.58236084  1.30953317]\t 319.943863140127\t 15.332210716052247\t 5.725120870369004\t 5.764507613622033\n",
            "18 \t [10.          5.31233749]\t 598.2228230354799\t 15.332210716052247\t 5.758771372343876\t 5.662326284421606\n",
            "19 \t [-1.46234423  7.19974595]\t 35.77526399571534\t 15.332210716052247\t 6.496941082278432\t 6.502475593600826\n",
            "\u001b[1m\u001b[92m20\u001b[0m\t \u001b[1m\u001b[92m[1.26649552 1.47388773]\u001b[0m\t \u001b[1m\u001b[92m8.746575917571962\u001b[0m\t \u001b[1m\u001b[92m8.746575917571962\u001b[0m\t \u001b[1m\u001b[92m5.704388363907733\u001b[0m\t \u001b[1m\u001b[92m5.852247000762169\u001b[0m\n"
          ]
        }
      ],
      "source": [
        "### ESTIMATED GP EI GRADIENTS\n",
        "\n",
        "np.random.seed(run_num_1)\n",
        "surrogate_approx_1 = dGaussianProcess(cov_func, optimize=opt)\n",
        "\n",
        "approx_1 = GPGO_multi(surrogate_approx_1, Acquisition_grad(util), objfunc, param)\n",
        "approx_1.run(init_evals=n_init, max_iter=iters)\n"
      ]
    },
    {
      "cell_type": "code",
      "execution_count": 14,
      "metadata": {
        "id": "wTxsSZxFGBB5",
        "colab": {
          "base_uri": "https://localhost:8080/"
        },
        "outputId": "0f0e6b10-3332-4058-94e8-14e7c55525ed"
      },
      "outputs": [
        {
          "output_type": "stream",
          "name": "stdout",
          "text": [
            "Evaluation \t Proposed point \t  Current eval. \t  Best eval. \t        Exact EI: StdDev. x \t Approx EI: StdDev. x \n",
            "init\t [-1.28010196 -9.48147536]\t 1032.6027521517153\t 92.40504507724606\t    \t    \n",
            "init\t [ 0.99324956 -1.29355215]\t 92.40504507724606\t 92.40504507724606\t    \t    \n",
            "init\t [-1.59264396 -3.39330358]\t 370.5851459944721\t 92.40504507724606\t    \t    \n",
            "init\t [-5.90702732  2.38541933]\t 274.38308294748543\t 92.40504507724606\t    \t    \n",
            "init\t [-4.00690653 -4.6634545 ]\t 725.9498417670716\t 92.40504507724606\t    \t    \n",
            "1  \t [1.68844283 8.58193032]\t 188.90221765875108\t 92.40504507724606\t 5.814216361023266\t 5.908535075716898\n",
            "2  \t [ 9.68964477 -9.50954073]\t 290.3649561247974\t 92.40504507724606\t 5.560668865981574\t 5.784713814104981\n",
            "3  \t [ 9.07319925 -1.03970567]\t 146.57204976774406\t 92.40504507724606\t 5.912627004974677\t 6.153806459968129\n",
            "4  \t [8.82231747 6.32038304]\t 568.8526928912049\t 92.40504507724606\t 6.583938953341235\t 6.274712903095132\n",
            "5  \t [-9.89771828 -6.47882576]\t 1869.4225885534543\t 92.40504507724606\t 6.5641371542962785\t 6.231697739036998\n",
            "6  \t [-8.60678819  8.70307127]\t 185.77142455141157\t 92.40504507724606\t 5.981519878126308\t 6.089681652880935\n",
            "7  \t [ 4.16767136 -6.40533289]\t 254.12811369081552\t 92.40504507724606\t 5.736862213321335\t 5.922434797817121\n",
            "\u001b[1m\u001b[92m8\u001b[0m\t \u001b[1m\u001b[92m[3.89143413 3.30119504]\u001b[0m\t \u001b[1m\u001b[92m49.22263407661791\u001b[0m\t \u001b[1m\u001b[92m49.22263407661791\u001b[0m\t \u001b[1m\u001b[92m5.399311626890995\u001b[0m\t \u001b[1m\u001b[92m5.266423286096098\u001b[0m\n",
            "9  \t [-3.44952545 10.        ]\t 94.81795848445734\t 49.22263407661791\t 5.789543324275789\t 5.594608348522956\n",
            "10 \t [-10.          -0.82267287]\t 1014.459352273536\t 49.22263407661791\t 5.610867456969832\t 5.70643581399847\n",
            "\u001b[1m\u001b[92m11\u001b[0m\t \u001b[1m\u001b[92m[-0.97858708  4.04963857]\u001b[0m\t \u001b[1m\u001b[92m8.468329379777185\u001b[0m\t \u001b[1m\u001b[92m8.468329379777185\u001b[0m\t \u001b[1m\u001b[92m5.9355884662633684\u001b[0m\t \u001b[1m\u001b[92m5.782125201942578\u001b[0m\n",
            "12 \t [ -6.26082201 -10.        ]\t 1863.7231695545556\t 8.468329379777185\t 4.702110366067866\t 4.702705393428952\n",
            "13 \t [ 5.9654333 10.       ]\t 646.3419042165111\t 8.468329379777185\t 5.93016104016181\t 6.09593180718953\n",
            "14 \t [-3.81473291  6.08217671]\t 44.68847032442361\t 8.468329379777185\t 6.153215345865093\t 5.9948935192452\n",
            "15 \t [-10.           4.36588442]\t 494.1303720607515\t 8.468329379777185\t 5.514839214267632\t 5.773924847785853\n",
            "16 \t [ 5.00709701 -1.94484025]\t 44.025721015658974\t 8.468329379777185\t 5.24488607599564\t 5.233700930422147\n",
            "17 \t [ 8.63292382 -5.23728247]\t 127.57534607586028\t 8.468329379777185\t 5.743910776823931\t 5.728523370200391\n",
            "18 \t [-2.05607926  1.01091508]\t 115.11080555579875\t 8.468329379777185\t 5.564802422037854\t 5.932047961912047\n",
            "19 \t [7.33500191 2.34564256]\t 169.63931966577263\t 8.468329379777185\t 5.654795565354658\t 5.593024522578815\n",
            "20 \t [  3.12745889 -10.        ]\t 646.3746821929224\t 8.468329379777185\t 5.8530827683090525\t 5.890430591904152\n"
          ]
        }
      ],
      "source": [
        "### ESTIMATED GP EI GRADIENTS\n",
        "\n",
        "np.random.seed(run_num_2)\n",
        "surrogate_approx_2 = dGaussianProcess(cov_func, optimize=opt)\n",
        "\n",
        "approx_2 = GPGO_multi(surrogate_approx_2, Acquisition_grad(util), objfunc, param)\n",
        "approx_2.run(init_evals=n_init, max_iter=iters)\n"
      ]
    },
    {
      "cell_type": "code",
      "execution_count": 15,
      "metadata": {
        "id": "-dgzIrUIGCGT",
        "colab": {
          "base_uri": "https://localhost:8080/"
        },
        "outputId": "02452e51-0b29-453c-b24e-8460abe2eb3a"
      },
      "outputs": [
        {
          "output_type": "stream",
          "name": "stdout",
          "text": [
            "Evaluation \t Proposed point \t  Current eval. \t  Best eval. \t        Exact EI: StdDev. x \t Approx EI: StdDev. x \n",
            "init\t [1.01595805 4.16295645]\t 6.912079999083602\t 6.912079999083602\t    \t    \n",
            "init\t [-4.18190522  0.2165521 ]\t 288.3871250813255\t 6.912079999083602\t    \t    \n",
            "init\t [7.85893909 7.92586178]\t 626.8352854305291\t 6.912079999083602\t    \t    \n",
            "init\t [-7.48829379 -5.85514244]\t 1353.6437998345716\t 6.912079999083602\t    \t    \n",
            "init\t [-8.97065593 -1.18380313]\t 918.3130335940459\t 6.912079999083602\t    \t    \n",
            "1  \t [ 5.60629529 -3.87272935]\t 88.9992584872525\t 6.912079999083602\t 4.717150437873575\t 4.717150437873575\n",
            "2  \t [-6.2437035   9.04202486]\t 94.75343105833329\t 6.912079999083602\t 5.758744089347273\t 5.823848717968371\n",
            "3  \t [-0.19796924 10.        ]\t 185.08937386263815\t 6.912079999083602\t 5.651105982559964\t 5.872783867271844\n",
            "4  \t [-0.42169096 -8.75441039]\t 834.625955715487\t 6.912079999083602\t 5.529645381702348\t 5.4390877378714935\n",
            "5  \t [ 6.72466428 -9.57660147]\t 378.73885897256895\t 6.912079999083602\t 5.533312506387837\t 5.915298244815316\n",
            "6  \t [-9.21277105  4.93342182]\t 382.22930688812016\t 6.912079999083602\t 5.588890113624149\t 5.464278888442168\n",
            "7  \t [ 0.69850669 -0.70926041]\t 78.19409262167642\t 6.912079999083602\t 5.85535230032022\t 5.310223504332644\n",
            "8  \t [8.49616767 0.98473736]\t 180.41509291465\t 6.912079999083602\t 5.767228992454331\t 5.683645387223074\n",
            "9  \t [-6.71050156 -9.69798454]\t 1886.7158648970099\t 6.912079999083602\t 5.100988763093437\t 5.114200725116388\n",
            "10 \t [-3.15177931  5.29609348]\t 36.283596377983514\t 6.912079999083602\t 5.715685365420742\t 5.929423326178261\n",
            "11 \t [4.20857238 2.34374897]\t 36.78297919851972\t 6.912079999083602\t 5.637090109351651\t 5.671988001005527\n",
            "12 \t [10.         -5.56834397]\t 155.16182616231177\t 6.912079999083602\t 5.420695916742701\t 5.508009852090269\n",
            "13 \t [-2.44680434 -4.22500898]\t 519.631612911465\t 6.912079999083602\t 5.806405747794247\t 5.751670409703905\n",
            "14 \t [3.22652559 7.05191726]\t 179.05082800475685\t 6.912079999083602\t 5.409841293019626\t 5.3700082218324665\n",
            "15 \t [ 1.90478959 -4.85173328]\t 255.5084656704367\t 6.912079999083602\t 5.623925548257371\t 5.8173697472070796\n",
            "16 \t [-10.  10.]\t 234.0\t 6.912079999083602\t 6.038871612872643\t 6.367196770058339\n",
            "17 \t [10.         4.4420857]\t 519.2282262737065\t 6.912079999083602\t 5.351072741369873\t 5.3022886839020025\n",
            "18 \t [ 4.34906322 -0.74708359]\t 25.890540689463435\t 6.912079999083602\t 6.408563870714737\t 6.470141539811697\n",
            "19 \t [-1.0337944   2.54279357]\t 29.165697952775957\t 6.912079999083602\t 5.594980967720351\t 6.039614732879204\n",
            "20 \t [-5.72866456  3.58772692]\t 196.46481003233163\t 6.912079999083602\t 4.952199923029602\t 4.934624821682517\n"
          ]
        }
      ],
      "source": [
        "### ESTIMATED GP EI GRADIENTS\n",
        "\n",
        "np.random.seed(run_num_3)\n",
        "surrogate_approx_3 = dGaussianProcess(cov_func, optimize=opt)\n",
        "\n",
        "approx_3 = GPGO_multi(surrogate_approx_3, Acquisition_grad(util), objfunc, param)\n",
        "approx_3.run(init_evals=n_init, max_iter=iters)\n"
      ]
    },
    {
      "cell_type": "code",
      "execution_count": 16,
      "metadata": {
        "id": "hOtG-2sCGCKS",
        "colab": {
          "base_uri": "https://localhost:8080/"
        },
        "outputId": "a319e329-93fe-48a3-fd33-c64d5ac183e1"
      },
      "outputs": [
        {
          "output_type": "stream",
          "name": "stdout",
          "text": [
            "Evaluation \t Proposed point \t  Current eval. \t  Best eval. \t        Exact EI: StdDev. x \t Approx EI: StdDev. x \n",
            "init\t [9.34059678 0.94464498]\t 231.80709501196006\t 215.08077877054313\t    \t    \n",
            "init\t [9.4536872  4.29631987]\t 453.3958241553961\t 215.08077877054313\t    \t    \n",
            "init\t [ 3.95457649 -5.67821009]\t 215.08077877054313\t 215.08077877054313\t    \t    \n",
            "init\t [ 9.5254891 -9.8753949]\t 314.14647993232734\t 215.08077877054313\t    \t    \n",
            "init\t [-4.94035275 -1.30416935]\t 473.61459720928724\t 215.08077877054313\t    \t    \n",
            "\u001b[1m\u001b[92m1\u001b[0m\t \u001b[1m\u001b[92m[-6.35109191  8.36766078]\u001b[0m\t \u001b[1m\u001b[92m98.58633065034904\u001b[0m\t \u001b[1m\u001b[92m98.58633065034904\u001b[0m\t \u001b[1m\u001b[92m5.034578933672668\u001b[0m\t \u001b[1m\u001b[92m4.854084731116943\u001b[0m\n",
            "\u001b[1m\u001b[92m2\u001b[0m\t \u001b[1m\u001b[92m[1.43282743 6.87413988]\u001b[0m\t \u001b[1m\u001b[92m89.39616910477575\u001b[0m\t \u001b[1m\u001b[92m89.39616910477575\u001b[0m\t \u001b[1m\u001b[92m5.778361741619166\u001b[0m\t \u001b[1m\u001b[92m5.603625966018169\u001b[0m\n",
            "\u001b[1m\u001b[92m3\u001b[0m\t \u001b[1m\u001b[92m[2.24586725 0.07202747]\u001b[0m\t \u001b[1m\u001b[92m21.443120962514637\u001b[0m\t \u001b[1m\u001b[92m21.443120962514637\u001b[0m\t \u001b[1m\u001b[92m6.570387839490589\u001b[0m\t \u001b[1m\u001b[92m6.655091842714692\u001b[0m\n",
            "4  \t [-5.38508117 -8.95130243]\t 1528.494744063797\t 21.443120962514637\t 6.356497315877572\t 6.677809313150089\n",
            "5  \t [-9.84322046  3.7168003 ]\t 528.2667739060598\t 21.443120962514637\t 5.528084244984847\t 5.578050686720383\n",
            "6  \t [6.70123903 9.7389078 ]\t 696.9460174749963\t 21.443120962514637\t 5.955450563252938\t 6.090064890744789\n",
            "7  \t [-10.          -4.59128779]\t 1561.1715764341443\t 21.443120962514637\t 5.030716589940948\t 5.443767264144725\n",
            "8  \t [  0.49479606 -10.        ]\t 898.8173647871771\t 21.443120962514637\t 5.379197970576283\t 6.043521924257664\n",
            "9  \t [-3.09974219  4.02418327]\t 55.69308807674303\t 21.443120962514637\t 5.377855188743962\t 5.4892154158427955\n",
            "10 \t [10.         -4.42572365]\t 146.05475582284163\t 21.443120962514637\t 7.0708162758787045\t 7.02981700615553\n",
            "11 \t [-1.10337303 -4.80665992]\t 458.2031295190255\t 21.443120962514637\t 6.46554238685222\t 6.58209507147764\n",
            "12 \t [-9.07728468 -0.735896  ]\t 878.7244274064078\t 21.443120962514637\t 5.791276745010898\t 5.822926034898932\n",
            "13 \t [-1.95695309 10.        ]\t 123.12848495453136\t 21.443120962514637\t 5.772795930803243\t 6.013033121550594\n",
            "14 \t [4.61532652 3.57384638]\t 83.59656365385956\t 21.443120962514637\t 5.090403378384135\t 5.264974387779816\n",
            "15 \t [-10. -10.]\t 2594.0\t 21.443120962514637\t 5.87958462960315\t 6.129808133704249\n",
            "16 \t [-10.  10.]\t 234.0\t 21.443120962514637\t 5.516581207722999\t 5.578913969811557\n",
            "17 \t [-1.10152978  0.75259938]\t 85.12001933949242\t 21.443120962514637\t 5.515617946128777\t 5.555566397467173\n",
            "18 \t [ 5.80380288 -1.67272424]\t 44.97960035674872\t 21.443120962514637\t 5.704089989749565\t 5.515810766677826\n",
            "19 \t [  5.14802275 -10.        ]\t 499.6360975382948\t 21.443120962514637\t 5.9183097633582715\t 6.013056644584547\n",
            "20 \t [ 2.51005944 10.        ]\t 340.96472592790263\t 21.443120962514637\t 5.392415532843782\t 5.452864503159596\n"
          ]
        }
      ],
      "source": [
        "### ESTIMATED GP EI GRADIENTS\n",
        "\n",
        "np.random.seed(run_num_4)\n",
        "surrogate_approx_4 = dGaussianProcess(cov_func, optimize=opt)\n",
        "\n",
        "approx_4= GPGO_multi(surrogate_approx_4, Acquisition_grad(util), objfunc, param)\n",
        "approx_4.run(init_evals=n_init, max_iter=iters)\n"
      ]
    },
    {
      "cell_type": "code",
      "execution_count": 17,
      "metadata": {
        "id": "JF_SxcEvGCOl",
        "colab": {
          "base_uri": "https://localhost:8080/"
        },
        "outputId": "a2b3fb2c-f30d-42d2-fc76-08ceb3996d63"
      },
      "outputs": [
        {
          "output_type": "stream",
          "name": "stdout",
          "text": [
            "Evaluation \t Proposed point \t  Current eval. \t  Best eval. \t        Exact EI: StdDev. x \t Approx EI: StdDev. x \n",
            "init\t [-5.56013658  7.41464612]\t 80.93700948496809\t 18.053107398965345\t    \t    \n",
            "init\t [-5.86561689  8.37221816]\t 84.91838238990834\t 18.053107398965345\t    \t    \n",
            "init\t [-0.23177622  2.23487726]\t 18.053107398965345\t 18.053107398965345\t    \t    \n",
            "init\t [5.31815713 0.36835976]\t 36.94936820355582\t 18.053107398965345\t    \t    \n",
            "init\t [-4.06398997 -6.24557543]\t 930.179306576812\t 18.053107398965345\t    \t    \n",
            "1  \t [9.27861058 9.20453431]\t 946.0775823883291\t 18.053107398965345\t 7.220443667786553\t 7.21198683753953\n",
            "2  \t [ 8.87080164 -7.76615146]\t 211.3917378701312\t 18.053107398965345\t 6.285934693703363\t 6.408933568746129\n",
            "3  \t [0.54357666 9.2242228 ]\t 172.01931432813362\t 18.053107398965345\t 6.22979128839377\t 6.215507824513133\n",
            "4  \t [ 2.49508934 -6.80638133]\t 374.71070519582787\t 18.053107398965345\t 6.247798045315539\t 6.132955058848621\n",
            "5  \t [ -9.00641436 -10.        ]\t 2386.3087359113883\t 18.053107398965345\t 6.217821194038504\t 5.984454800673522\n",
            "6  \t [-8.62367183  0.50898962]\t 685.8822920729167\t 18.053107398965345\t 6.438429830452129\t 6.509108543562971\n",
            "7  \t [10.          3.09533536]\t 411.9095901005039\t 18.053107398965345\t 5.007532489249204\t 5.4055593238132875\n",
            "8  \t [4.60966143 5.53452665]\t 170.45766938155901\t 18.053107398965345\t 6.165041931532462\t 6.29185695428331\n",
            "9  \t [10.         -2.46659751]\t 160.8234210169461\t 18.053107398965345\t 5.559421739893974\t 5.91739987607666\n",
            "10 \t [-10.          -4.57736174]\t 1558.8898882490162\t 18.053107398965345\t 5.572667249258856\t 5.9003713589209905\n",
            "11 \t [-0.23391958 -2.30935176]\t 200.96937298482135\t 18.053107398965345\t 5.686245251512229\t 5.749839265886786\n",
            "12 \t [-10.           5.68035962]\t 405.04999192433775\t 18.053107398965345\t 5.248958635543462\t 5.502872411150548\n",
            "13 \t [-4.30651947  3.04842536]\t 138.75170858026266\t 18.053107398965345\t 5.969100855071591\t 5.935901812197178\n",
            "14 \t [ -0.95911483 -10.        ]\t 1067.938596319875\t 18.053107398965345\t 4.672763730572351\t 4.783961878086023\n",
            "15 \t [ 5.81173913 -3.73245603]\t 83.235411391578\t 18.053107398965345\t 5.268692029608117\t 5.223835459293335\n",
            "\u001b[1m\u001b[92m16\u001b[0m\t \u001b[1m\u001b[92m[2.68297589 2.23164798]\u001b[0m\t \u001b[1m\u001b[92m6.768919922568128\u001b[0m\t \u001b[1m\u001b[92m6.768919922568128\u001b[0m\t \u001b[1m\u001b[92m5.383283715666704\u001b[0m\t \u001b[1m\u001b[92m5.490287237369811\u001b[0m\n",
            "17 \t [-4.48466105 -1.46920953]\t 446.37349835127725\t 6.768919922568128\t 5.369945858075141\t 5.375088101028019\n",
            "18 \t [-10.  10.]\t 234.0\t 6.768919922568128\t 5.871410175553429\t 6.189833180892393\n",
            "19 \t [-1.2594119   5.66444365]\t 12.860405008955277\t 6.768919922568128\t 5.147158119635257\t 5.485499329390948\n",
            "20 \t [  5.32929285 -10.        ]\t 488.4674262352817\t 6.768919922568128\t 5.601834450789529\t 5.92068322786878\n"
          ]
        }
      ],
      "source": [
        "### ESTIMATED GP EI GRADIENTS\n",
        "\n",
        "np.random.seed(run_num_5)\n",
        "surrogate_approx_5 = dGaussianProcess(cov_func, optimize=opt)\n",
        "\n",
        "approx_5 = GPGO_multi(surrogate_approx_5, Acquisition_grad(util), objfunc, param)\n",
        "approx_5.run(init_evals=n_init, max_iter=iters)\n"
      ]
    },
    {
      "cell_type": "code",
      "execution_count": 18,
      "metadata": {
        "id": "-kDxZtJsGCR3",
        "colab": {
          "base_uri": "https://localhost:8080/"
        },
        "outputId": "aabf285a-f9f0-4251-f88c-8f5be8b63d4c"
      },
      "outputs": [
        {
          "output_type": "stream",
          "name": "stdout",
          "text": [
            "Evaluation \t Proposed point \t  Current eval. \t  Best eval. \t        Exact EI: StdDev. x \t Approx EI: StdDev. x \n",
            "init\t [ 7.85720303 -3.36040389]\t 88.46320859272592\t 88.46320859272592\t    \t    \n",
            "init\t [ 6.42458246 -9.16606749]\t 359.2297742730208\t 88.46320859272592\t    \t    \n",
            "init\t [-7.8468664   1.90104128]\t 475.1525044254979\t 88.46320859272592\t    \t    \n",
            "init\t [ 0.59634724 -1.62385143]\t 122.64613090496854\t 88.46320859272592\t    \t    \n",
            "init\t [-3.29184301  2.45038864]\t 112.48071079498652\t 88.46320859272592\t    \t    \n",
            "1  \t [4.34664291 8.74699069]\t 375.00460929454164\t 88.46320859272592\t 5.745472400874282\t 6.112362811747245\n",
            "2  \t [-4.96771714 -9.17248997]\t 1500.0516160468933\t 88.46320859272592\t 6.230967263697959\t 5.971870672223122\n",
            "3  \t [9.57427611 1.74148842]\t 289.1837050334585\t 88.46320859272592\t 6.318872472870888\t 6.430974145486029\n",
            "\u001b[1m\u001b[92m4\u001b[0m\t \u001b[1m\u001b[92m[-5.6935267   8.60486508]\u001b[0m\t \u001b[1m\u001b[92m80.95854876086956\u001b[0m\t \u001b[1m\u001b[92m80.95854876086956\u001b[0m\t \u001b[1m\u001b[92m6.126838114010799\u001b[0m\t \u001b[1m\u001b[92m5.983343448378927\u001b[0m\n",
            "5  \t [-9.40690828 -4.78443579]\t 1492.601177610003\t 80.95854876086956\t 5.821076969076757\t 5.890365767449788\n",
            "6  \t [10.          7.60748297]\t 842.8832698633148\t 80.95854876086956\t 6.373191300527733\t 6.165508426871966\n",
            "\u001b[1m\u001b[92m7\u001b[0m\t \u001b[1m\u001b[92m[-0.45748598  7.70980473]\u001b[0m\t \u001b[1m\u001b[92m66.61683514378223\u001b[0m\t \u001b[1m\u001b[92m66.61683514378223\u001b[0m\t \u001b[1m\u001b[92m6.249222466147929\u001b[0m\t \u001b[1m\u001b[92m6.537761730653782\u001b[0m\n",
            "\u001b[1m\u001b[92m8\u001b[0m\t \u001b[1m\u001b[92m[2.665561   2.73410399]\u001b[0m\t \u001b[1m\u001b[92m10.6810423761423\u001b[0m\t \u001b[1m\u001b[92m10.6810423761423\u001b[0m\t \u001b[1m\u001b[92m6.16650452411347\u001b[0m\t \u001b[1m\u001b[92m5.986571936214248\u001b[0m\n",
            "\u001b[1m\u001b[92m9\u001b[0m\t \u001b[1m\u001b[92m[-1.22868843  4.34354782]\u001b[0m\t \u001b[1m\u001b[92m9.906068482791387\u001b[0m\t \u001b[1m\u001b[92m9.906068482791387\u001b[0m\t \u001b[1m\u001b[92m5.295370820766307\u001b[0m\t \u001b[1m\u001b[92m5.29404679705823\u001b[0m\n",
            "10 \t [-1.38629601 -7.30554564]\t 756.2300575131685\t 9.906068482791387\t 5.547607245724827\t 5.573568169100922\n",
            "11 \t [-10.           6.69342947]\t 348.1853126515431\t 9.906068482791387\t 6.454178040689513\t 6.4202851709183095\n",
            "12 \t [-4.37199906 -2.58595847]\t 540.3686389184415\t 9.906068482791387\t 5.438511081059431\t 5.701169110626516\n",
            "13 \t [ 5.21347435 -0.8833208 ]\t 33.269551998031815\t 9.906068482791387\t 5.359170812888976\t 5.340831486431856\n",
            "14 \t [5.98436469 4.45702557]\t 192.93284871020302\t 9.906068482791387\t 5.881391278870751\t 6.085295635150618\n",
            "15 \t [ 3.42988647 -5.32457725]\t 214.19245209079497\t 9.906068482791387\t 5.633776872546917\t 5.7589013253100925\n",
            "16 \t [10.         -6.79061721]\t 179.35648760579957\t 9.906068482791387\t 5.600950345304205\t 5.940360105707441\n",
            "17 \t [-5.58914872  5.23551419]\t 124.23093893084062\t 9.906068482791387\t 6.439586644159343\t 6.363911622050595\n",
            "18 \t [-10. -10.]\t 2594.0\t 9.906068482791387\t 5.918701462160911\t 5.914101269317415\n",
            "19 \t [  2.16896977 -10.        ]\t 730.2595952453414\t 9.906068482791387\t 6.197885271192622\t 6.199533372722159\n",
            "20 \t [2.03424209 5.3816489 ]\t 53.415153423989125\t 9.906068482791387\t 5.983092717879339\t 5.892472150582684\n"
          ]
        }
      ],
      "source": [
        "### ESTIMATED GP EI GRADIENTS\n",
        "\n",
        "np.random.seed(run_num_6)\n",
        "surrogate_approx_6 = dGaussianProcess(cov_func, optimize=opt)\n",
        "\n",
        "approx_6 = GPGO_multi(surrogate_approx_6, Acquisition_grad(util), objfunc, param)\n",
        "approx_6.run(init_evals=n_init, max_iter=iters)\n"
      ]
    },
    {
      "cell_type": "code",
      "execution_count": 19,
      "metadata": {
        "id": "fKB8MCD_GCVI",
        "colab": {
          "base_uri": "https://localhost:8080/"
        },
        "outputId": "abeacfd2-66ac-4247-f813-a81cbddbb132"
      },
      "outputs": [
        {
          "output_type": "stream",
          "name": "stdout",
          "text": [
            "Evaluation \t Proposed point \t  Current eval. \t  Best eval. \t        Exact EI: StdDev. x \t Approx EI: StdDev. x \n",
            "init\t [-8.47383421  5.59837584]\t 285.59280278210764\t 9.465549861932052\t    \t    \n",
            "init\t [-1.23181537  4.46930356]\t 9.465549861932052\t 9.465549861932052\t    \t    \n",
            "init\t [9.55979024 0.76991741]\t 238.50407296157155\t 9.465549861932052\t    \t    \n",
            "init\t [ 0.02240927 -8.55897733]\t 763.2277954619568\t 9.465549861932052\t    \t    \n",
            "init\t [-4.63122040e+00 -2.34998349e-03]\t 338.87889871968287\t 9.465549861932052\t    \t    \n",
            "1  \t [ 8.12846538 -6.39096762]\t 159.48095689562982\t 9.465549861932052\t 4.552360697942601\t 4.749648526683351\n",
            "2  \t [ 5.16456497 10.        ]\t 564.9336454338677\t 9.465549861932052\t 6.046167828424476\t 6.067489099429687\n",
            "3  \t [-9.10467478 -9.8356699 ]\t 2371.896530806677\t 9.465549861932052\t 6.64512339357403\t 6.588825157592715\n",
            "4  \t [-7.86246511 -2.61028169]\t 947.860148457175\t 9.465549861932052\t 5.652279189468704\t 5.652279189468704\n",
            "5  \t [-3.25931441  9.70439311]\t 87.00428551859866\t 9.465549861932052\t 6.114947828046391\t 6.545301873329078\n",
            "6  \t [4.23325984 3.21012514]\t 57.92572251101367\t 9.465549861932052\t 6.013200992400314\t 6.364751738499453\n",
            "7  \t [ 1.27622403 -2.48827033]\t 138.85911771577983\t 9.465549861932052\t 5.225347360103371\t 5.522287049174255\n",
            "8  \t [10.        6.614043]\t 730.5176301417594\t 9.465549861932052\t 6.272828358128526\t 6.068591472473289\n",
            "9  \t [  5.00125271 -10.        ]\t 508.9198341138839\t 9.465549861932052\t 5.9936216421787005\t 6.103084260562269\n",
            "10 \t [-10.  10.]\t 234.0\t 9.465549861932052\t 6.230725606934422\t 6.41741500177674\n",
            "11 \t [ 5.8707743  -2.21017723]\t 51.33116636990127\t 9.465549861932052\t 5.606610539036331\t 5.698962359665639\n",
            "12 \t [0.88007897 7.75228303]\t 108.43368570133956\t 9.465549861932052\t 6.083573915472346\t 6.138415841149759\n",
            "13 \t [-4.68729264 -6.66996948]\t 1069.2356060309628\t 9.465549861932052\t 5.916595877096459\t 5.736485661577125\n",
            "14 \t [-10.          1.5045056]\t 747.7860248715309\t 9.465549861932052\t 5.187831683179162\t 5.320889038257552\n",
            "15 \t [ 3.83016908 -5.7085662 ]\t 222.07119288782687\t 9.465549861932052\t 6.306712137413694\t 6.268223049523688\n",
            "16 \t [-0.8177092   0.71116755]\t 75.99755808703596\t 9.465549861932052\t 5.063275706771627\t 5.058311092613126\n",
            "17 \t [-4.25108567  5.65981333]\t 61.507276977353776\t 9.465549861932052\t 4.70683043155358\t 4.750158280153221\n",
            "18 \t [-2.28834248 -3.23192272]\t 412.1918544870091\t 9.465549861932052\t 6.3584245405555535\t 6.258056310469267\n",
            "19 \t [10.         -3.12429108]\t 151.58574838340496\t 9.465549861932052\t 6.014406735254217\t 6.016301284712633\n",
            "20 \t [ 10. -10.]\t 314.0\t 9.465549861932052\t 5.834706135423822\t 5.855441774834331\n"
          ]
        }
      ],
      "source": [
        "### ESTIMATED GP EI GRADIENTS\n",
        "\n",
        "np.random.seed(run_num_7)\n",
        "surrogate_approx_7 = dGaussianProcess(cov_func, optimize=opt)\n",
        "\n",
        "approx_7 = GPGO_multi(surrogate_approx_7, Acquisition_grad(util), objfunc, param)\n",
        "approx_7.run(init_evals=n_init, max_iter=iters)\n"
      ]
    },
    {
      "cell_type": "code",
      "execution_count": 20,
      "metadata": {
        "id": "4unvifF-GCXp",
        "colab": {
          "base_uri": "https://localhost:8080/"
        },
        "outputId": "348c8b39-08af-44cc-e62e-767e2512cdf0"
      },
      "outputs": [
        {
          "output_type": "stream",
          "name": "stdout",
          "text": [
            "Evaluation \t Proposed point \t  Current eval. \t  Best eval. \t        Exact EI: StdDev. x \t Approx EI: StdDev. x \n",
            "init\t [7.46858806 9.37081326]\t 741.8307972128058\t 75.39770051777191\t    \t    \n",
            "init\t [7.3838908  0.61711383]\t 110.46436066448925\t 75.39770051777191\t    \t    \n",
            "init\t [-5.34543344 -9.77202391]\t 1665.297823285088\t 75.39770051777191\t    \t    \n",
            "init\t [-1.39062363 -1.9529728 ]\t 245.96065521704543\t 75.39770051777191\t    \t    \n",
            "init\t [ 0.45349343 -0.43216408]\t 75.39770051777191\t 75.39770051777191\t    \t    \n",
            "1  \t [ 9.69498875 -9.42535902]\t 285.65502563735186\t 75.39770051777191\t 6.0359928029535865\t 6.391575685707884\n",
            "2  \t [-9.83383251  5.77166529]\t 385.04821658618386\t 75.39770051777191\t 5.831962339167811\t 5.7197947467084225\n",
            "3  \t [-3.97152767  9.51013426]\t 76.56717653580492\t 75.39770051777191\t 5.128233752238179\t 5.388985545579816\n",
            "\u001b[1m\u001b[92m4\u001b[0m\t \u001b[1m\u001b[92m[1.72009108 6.00420692]\u001b[0m\t \u001b[1m\u001b[92m65.02537283633187\u001b[0m\t \u001b[1m\u001b[92m65.02537283633187\u001b[0m\t \u001b[1m\u001b[92m6.186228696379374\u001b[0m\t \u001b[1m\u001b[92m6.062782174306013\u001b[0m\n",
            "5  \t [-8.75833406 -1.93083097]\t 982.6244552064903\t 65.02537283633187\t 5.74836212490712\t 5.381848479241786\n",
            "6  \t [ 2.24708155 -7.31761247]\t 437.1064641074941\t 65.02537283633187\t 6.30959511735188\t 5.972748764488895\n",
            "7  \t [-3.95080907  3.43499891]\t 106.26990039976658\t 65.02537283633187\t 5.863860119902122\t 5.92859144300801\n",
            "8  \t [10.         -3.95566371]\t 146.09850111066234\t 65.02537283633187\t 6.2051261168283345\t 6.481954104250215\n",
            "9  \t [ 0.51595311 10.        ]\t 219.06488089456053\t 65.02537283633187\t 5.466874166425549\t 5.585179992833144\n",
            "10 \t [10.          4.73826065]\t 545.2625174682909\t 65.02537283633187\t 5.946639171369895\t 5.8758461968320574\n",
            "11 \t [ 4.58209451 -3.01824848]\t 72.79010072156993\t 65.02537283633187\t 5.454587657429961\t 5.512529969656973\n",
            "12 \t [-10.          -7.15663209]\t 2014.5695006954938\t 65.02537283633187\t 5.13732011890921\t 4.836451829335711\n",
            "13 \t [-8.31005661 10.        ]\t 157.0226004229066\t 65.02537283633187\t 5.113640211952553\t 5.255393551286404\n",
            "14 \t [-4.84923857 -4.86915081]\t 848.913954372129\t 65.02537283633187\t 5.848625736846222\t 5.794082157609119\n",
            "\u001b[1m\u001b[92m15\u001b[0m\t \u001b[1m\u001b[92m[3.56814935 2.37117611]\u001b[0m\t \u001b[1m\u001b[92m22.03474352205847\u001b[0m\t \u001b[1m\u001b[92m22.03474352205847\u001b[0m\t \u001b[1m\u001b[92m5.324061313665996\u001b[0m\t \u001b[1m\u001b[92m5.3552467383233235\u001b[0m\n",
            "16 \t [5.60332879 5.2700282 ]\t 215.31580969403655\t 22.03474352205847\t 5.257967671763207\t 5.37743059224491\n",
            "17 \t [ 6.58309582 -6.51724601]\t 183.6590815780425\t 22.03474352205847\t 6.039431574631394\t 5.948600670077836\n",
            "18 \t [-7.61048267  2.26484775]\t 424.0444288093437\t 22.03474352205847\t 5.946796361945625\t 5.7900692401956615\n",
            "19 \t [  5.32830986 -10.        ]\t 488.52710579502286\t 22.03474352205847\t 5.0752861899350075\t 5.085043425762558\n",
            "\u001b[1m\u001b[92m20\u001b[0m\t \u001b[1m\u001b[92m[-0.24130837  3.07257833]\u001b[0m\t \u001b[1m\u001b[92m7.009833712218281\u001b[0m\t \u001b[1m\u001b[92m7.009833712218281\u001b[0m\t \u001b[1m\u001b[92m5.155334010256719\u001b[0m\t \u001b[1m\u001b[92m5.257676835468677\u001b[0m\n"
          ]
        }
      ],
      "source": [
        "### ESTIMATED GP EI GRADIENTS\n",
        "\n",
        "np.random.seed(run_num_8)\n",
        "surrogate_approx_8 = dGaussianProcess(cov_func, optimize=opt)\n",
        "\n",
        "approx_8 = GPGO_multi(surrogate_approx_8, Acquisition_grad(util), objfunc, param)\n",
        "approx_8.run(init_evals=n_init, max_iter=iters)\n"
      ]
    },
    {
      "cell_type": "code",
      "execution_count": 21,
      "metadata": {
        "id": "85OIXcg7GCaJ",
        "colab": {
          "base_uri": "https://localhost:8080/"
        },
        "outputId": "c06eded0-10d9-40d2-e275-26936a782940"
      },
      "outputs": [
        {
          "output_type": "stream",
          "name": "stdout",
          "text": [
            "Evaluation \t Proposed point \t  Current eval. \t  Best eval. \t        Exact EI: StdDev. x \t Approx EI: StdDev. x \n",
            "init\t [-9.79251692  0.03749184]\t 882.0577358281939\t 526.7340464177141\t    \t    \n",
            "init\t [-0.08453414 -7.32340942]\t 628.3137012668271\t 526.7340464177141\t    \t    \n",
            "init\t [-7.15777829 -5.62882649]\t 1268.1663931377898\t 526.7340464177141\t    \t    \n",
            "init\t [-1.62983639 -5.03797663]\t 526.7340464177141\t 526.7340464177141\t    \t    \n",
            "init\t [-8.31880698 -3.0900272 ]\t 1073.657277368356\t 526.7340464177141\t    \t    \n",
            "1  \t [6.0747954  9.66718496]\t 621.7013152481403\t 526.7340464177141\t 5.820595101171571\t 5.915904310451135\n",
            "\u001b[1m\u001b[92m2\u001b[0m\t \u001b[1m\u001b[92m[-3.94738717  9.4159639 ]\u001b[0m\t \u001b[1m\u001b[92m74.26810293779924\u001b[0m\t \u001b[1m\u001b[92m74.26810293779924\u001b[0m\t \u001b[1m\u001b[92m5.516513116520331\u001b[0m\t \u001b[1m\u001b[92m5.601510037142492\u001b[0m\n",
            "\u001b[1m\u001b[92m3\u001b[0m\t \u001b[1m\u001b[92m[4.07561386 0.71776482]\u001b[0m\t \u001b[1m\u001b[92m17.18579694471387\u001b[0m\t \u001b[1m\u001b[92m17.18579694471387\u001b[0m\t \u001b[1m\u001b[92m5.155762470978105\u001b[0m\t \u001b[1m\u001b[92m5.011927821325335\u001b[0m\n",
            "4  \t [ 8.66970884 -6.33785621]\t 157.1508550483091\t 17.18579694471387\t 5.538965137560448\t 5.628049451936151\n",
            "5  \t [-1.43825787  3.36613024]\t 23.25400436436152\t 17.18579694471387\t 6.2054374239891334\t 6.066436099201974\n",
            "6  \t [10.          0.87994147]\t 274.82902682018624\t 17.18579694471387\t 5.250220713365991\t 5.620580050169867\n",
            "7  \t [-9.46150879  7.67399619]\t 265.2706151218541\t 17.18579694471387\t 5.302423911560674\t 5.822555909145847\n",
            "8  \t [  4.84284693 -10.        ]\t 519.1812821626893\t 17.18579694471387\t 5.567081844054529\t 4.708333169723719\n",
            "9  \t [0.9366428  7.69726521]\t 107.96072823370277\t 17.18579694471387\t 5.832059678989736\t 5.551863548771679\n",
            "10 \t [ 4.1252156  -3.92603892]\t 115.52201904690614\t 17.18579694471387\t 5.320534524942029\t 4.839126104989963\n",
            "11 \t [-10. -10.]\t 2594.0\t 17.18579694471387\t 5.943487651441581\t 5.984682409692001\n",
            "12 \t [10.          6.10065946]\t 676.3179270386586\t 17.18579694471387\t 5.569428002241006\t 5.8826937469958125\n",
            "13 \t [-5.97976701  3.88424213]\t 198.12072561222934\t 17.18579694471387\t 4.357137932778373\t 4.35499782140364\n",
            "14 \t [-3.6974867  -0.45690782]\t 299.99319277064126\t 17.18579694471387\t 5.542483777172592\t 5.3271751433740535\n",
            "15 \t [4.86471254 4.79166512]\t 146.12449951260908\t 17.18579694471387\t 5.3752352756273964\t 5.3389376720457005\n",
            "16 \t [ 0.75308577 -0.90563083]\t 84.2894407007299\t 17.18579694471387\t 5.844241915786889\t 5.902378016191791\n",
            "\u001b[1m\u001b[92m17\u001b[0m\t \u001b[1m\u001b[92m[1.62988321 2.89194481]\u001b[0m\t \u001b[1m\u001b[92m1.4976466940351583\u001b[0m\t \u001b[1m\u001b[92m1.4976466940351583\u001b[0m\t \u001b[1m\u001b[92m5.136280225427231\u001b[0m\t \u001b[1m\u001b[92m5.163714665039716\u001b[0m\n",
            "18 \t [ -4.3841435 -10.       ]\t 1549.8959302799321\t 1.4976466940351583\t 5.676120006957886\t 5.732029093194398\n",
            "19 \t [ 10. -10.]\t 314.0\t 1.4976466940351583\t 5.6664908559799105\t 6.166321102463275\n",
            "20 \t [ 7.68387507 -2.41555916]\t 80.4369679218873\t 1.4976466940351583\t 6.094729834023979\t 6.07169265787233\n"
          ]
        }
      ],
      "source": [
        "### ESTIMATED GP EI GRADIENTS\n",
        "\n",
        "np.random.seed(run_num_9)\n",
        "surrogate_approx_9 = dGaussianProcess(cov_func, optimize=opt)\n",
        "\n",
        "approx_9 = GPGO_multi(surrogate_approx_9, Acquisition_grad(util), objfunc, param)\n",
        "approx_9.run(init_evals=n_init, max_iter=iters)\n"
      ]
    },
    {
      "cell_type": "code",
      "execution_count": 22,
      "metadata": {
        "id": "QQBR-qJPGCcp",
        "colab": {
          "base_uri": "https://localhost:8080/"
        },
        "outputId": "5ff59429-4303-4f9e-f67c-9dd350014994"
      },
      "outputs": [
        {
          "output_type": "stream",
          "name": "stdout",
          "text": [
            "Evaluation \t Proposed point \t  Current eval. \t  Best eval. \t        Exact EI: StdDev. x \t Approx EI: StdDev. x \n",
            "init\t [ 5.42641287 -9.58496101]\t 444.22200604720473\t 59.96573403226766\t    \t    \n",
            "init\t [2.6729647  4.97607765]\t 59.96573403226766\t 59.96573403226766\t    \t    \n",
            "init\t [-0.02985975 -5.50406709]\t 436.96281238949786\t 59.96573403226766\t    \t    \n",
            "init\t [-6.0387427   5.21061424]\t 147.67401193720747\t 59.96573403226766\t    \t    \n",
            "init\t [-6.61778327 -8.23320372]\t 1605.6543289416081\t 59.96573403226766\t    \t    \n",
            "1  \t [ 7.13700605 -2.96694721]\t 73.38298230374753\t 59.96573403226766\t 5.732335046691093\t 5.807395956982085\n",
            "\u001b[1m\u001b[92m2\u001b[0m\t \u001b[1m\u001b[92m[2.11155129 0.26933255]\u001b[0m\t \u001b[1m\u001b[92m19.17823960765822\u001b[0m\t \u001b[1m\u001b[92m19.17823960765822\u001b[0m\t \u001b[1m\u001b[92m5.1169962545131655\u001b[0m\t \u001b[1m\u001b[92m5.148385824248928\u001b[0m\n",
            "3  \t [-7.90760511 -1.20789524]\t 785.117209324771\t 19.17823960765822\t 5.4469078872022925\t 5.613445031012105\n",
            "4  \t [7.5882141  5.96267765]\t 417.06015671653745\t 19.17823960765822\t 6.363138008872442\t 6.56622982114081\n",
            "5  \t [-1.4468731 10.       ]\t 137.91104622484045\t 19.17823960765822\t 6.332757076612283\t 6.368686544804758\n",
            "6  \t [3.81204383 9.96723497]\t 438.98712908370976\t 19.17823960765822\t 6.417222563677855\t 5.978536129797172\n",
            "7  \t [-2.69322652  0.97358082]\t 148.60368479028483\t 19.17823960765822\t 5.781363618570477\t 5.864647408114093\n",
            "8  \t [10. 10.]\t 1154.0\t 19.17823960765822\t 5.7284064929188645\t 5.770614696683189\n",
            "9  \t [10.         -7.03484779]\t 185.98180996584716\t 19.17823960765822\t 6.303244209995467\t 6.406152668710797\n",
            "10 \t [-10.  10.]\t 234.0\t 19.17823960765822\t 5.951468264645701\t 6.199180025656995\n",
            "11 \t [-6.06716473  9.22601338]\t 91.5382023829747\t 19.17823960765822\t 5.1070688485559765\t 5.204534678365756\n",
            "12 \t [-10.           3.27369939]\t 581.2890104056671\t 19.17823960765822\t 6.166490624410135\t 6.084820334923859\n",
            "13 \t [10.          1.15276408]\t 289.0604163926279\t 19.17823960765822\t 5.897341239122496\t 6.04594462278757\n",
            "14 \t [ -2.45588147 -10.        ]\t 1264.127256966521\t 19.17823960765822\t 5.501467304950804\t 5.5307300211235715\n",
            "\u001b[1m\u001b[92m15\u001b[0m\t \u001b[1m\u001b[92m[-1.54888719  5.4521599 ]\u001b[0m\t \u001b[1m\u001b[92m12.547338735928863\u001b[0m\t \u001b[1m\u001b[92m12.547338735928863\u001b[0m\t \u001b[1m\u001b[92m5.904123923894566\u001b[0m\t \u001b[1m\u001b[92m6.177540535717728\u001b[0m\n",
            "16 \t [5.57291356 1.66103129]\t 64.53797284917607\t 12.547338735928863\t 6.054680351319962\t 6.09084623583689\n",
            "17 \t [-2.84347281 -2.62611678]\t 405.1179816084599\t 12.547338735928863\t 5.672802561641972\t 5.835962284267624\n",
            "18 \t [-10.          -5.15680599]\t 1655.466347244599\t 12.547338735928863\t 5.512365462239662\t 5.4282210847403665\n",
            "19 \t [ 4.23458698 -5.38496208]\t 186.8755967727699\t 12.547338735928863\t 4.977453044118047\t 4.8521750329161595\n",
            "\u001b[1m\u001b[92m20\u001b[0m\t \u001b[1m\u001b[92m[0.28620074 2.82633722]\u001b[0m\t \u001b[1m\u001b[92m3.6900236722473294\u001b[0m\t \u001b[1m\u001b[92m3.6900236722473294\u001b[0m\t \u001b[1m\u001b[92m6.3192023789922915\u001b[0m\t \u001b[1m\u001b[92m6.2753417963748594\u001b[0m\n"
          ]
        }
      ],
      "source": [
        "### ESTIMATED GP EI GRADIENTS\n",
        "\n",
        "np.random.seed(run_num_10)\n",
        "surrogate_approx_10 = dGaussianProcess(cov_func, optimize=opt)\n",
        "\n",
        "approx_10 = GPGO_multi(surrogate_approx_10, Acquisition_grad(util), objfunc, param)\n",
        "approx_10.run(init_evals=n_init, max_iter=iters)\n"
      ]
    },
    {
      "cell_type": "code",
      "execution_count": 23,
      "metadata": {
        "id": "JS8ejeQ2GCfi",
        "colab": {
          "base_uri": "https://localhost:8080/"
        },
        "outputId": "bde11677-b9ee-49c8-c9af-294df5b76dee"
      },
      "outputs": [
        {
          "output_type": "stream",
          "name": "stdout",
          "text": [
            "Evaluation \t Proposed point \t  Current eval. \t  Best eval. \t        Exact EI: StdDev. x \t Approx EI: StdDev. x \n",
            "init\t [-6.39460622 -9.61049517]\t 1814.521116554919\t 5.483030044782123\t    \t    \n",
            "init\t [-0.73562947  4.49867858]\t 5.483030044782123\t 5.483030044782123\t    \t    \n",
            "init\t [-1.59592791 -0.29145804]\t 156.21779076814232\t 5.483030044782123\t    \t    \n",
            "init\t [-9.74438371 -0.25256785]\t 909.6795910034871\t 5.483030044782123\t    \t    \n",
            "init\t [8.83613305 7.01590179]\t 639.4153671589368\t 5.483030044782123\t    \t    \n",
            "1  \t [ 1.99086793 -8.88652641]\t 617.1328244256196\t 5.483030044782123\t 5.785150658748622\t 5.926104635191776\n",
            "2  \t [ 9.95934789 -1.08192015]\t 192.0891923366814\t 5.483030044782123\t 4.777868720975009\t 4.993276932795679\n",
            "3  \t [-3.72641694  8.61531845]\t 57.03140194376866\t 5.483030044782123\t 6.341492595701357\t 6.124882729073667\n",
            "4  \t [3.79734225 1.77560921]\t 19.22096176216232\t 5.483030044782123\t 4.894944090732314\t 5.063198861669909\n",
            "5  \t [-7.89611862  5.10567265]\t 268.0154091266694\t 5.483030044782123\t 5.404829122844783\t 5.040532258512859\n",
            "6  \t [2.61312532 6.41911564]\t 115.58632127677228\t 5.483030044782123\t 5.863118692995764\t 5.800048990143399\n",
            "7  \t [ 8.69087926 -7.76523114]\t 212.84638298156062\t 5.483030044782123\t 6.073647305564665\t 6.223843601890151\n",
            "8  \t [ 4.51420817 -3.48886556]\t 89.84938157751158\t 5.483030044782123\t 5.4461114679577785\t 5.808997934709324\n",
            "9  \t [-5.41760527 -3.96391221]\t 805.9417710155067\t 5.483030044782123\t 6.1551724598514035\t 6.190968571116946\n",
            "10 \t [-10.  10.]\t 234.0\t 5.483030044782123\t 5.529911993160159\t 5.665344942379132\n",
            "11 \t [-0.3455941 -4.6680164]\t 385.5897961944284\t 5.483030044782123\t 6.434183942794263\t 6.133276084230197\n",
            "12 \t [7.5308342  2.55851368]\t 191.16733599681478\t 5.483030044782123\t 5.878928075538924\t 5.833835562348276\n",
            "13 \t [ 5.06587947 10.        ]\t 555.3461299663488\t 5.483030044782123\t 5.597125349637606\t 5.91584220193572\n",
            "14 \t [-10.          -5.83031501]\t 1771.940035878854\t 5.483030044782123\t 6.027649179327556\t 6.03836470238324\n",
            "15 \t [-3.9538293   3.28725504]\t 111.73060157579985\t 5.483030044782123\t 5.725940560511914\t 5.662872969783134\n",
            "16 \t [ 0.17925205 10.        ]\t 202.40625091492822\t 5.483030044782123\t 6.1650686397623335\t 6.3979823044071145\n",
            "17 \t [ -1.99672233 -10.        ]\t 1201.5608463605395\t 5.483030044782123\t 4.798871613326687\t 5.064289553949824\n",
            "18 \t [ 2.08398429 -0.86221409]\t 46.965962855024436\t 5.483030044782123\t 5.5569415242584315\t 5.579003334593381\n",
            "19 \t [-5.58243554  0.17126265]\t 405.61091325779216\t 5.483030044782123\t 5.294864546276956\t 5.3073678574919585\n",
            "20 \t [  5.82318107 -10.        ]\t 459.7045470245633\t 5.483030044782123\t 5.687704772862746\t 5.733563395182915\n"
          ]
        }
      ],
      "source": [
        "### ESTIMATED GP EI GRADIENTS\n",
        "\n",
        "np.random.seed(run_num_11)\n",
        "surrogate_approx_11 = dGaussianProcess(cov_func, optimize=opt)\n",
        "\n",
        "approx_11 = GPGO_multi(surrogate_approx_11, Acquisition_grad(util), objfunc, param)\n",
        "approx_11.run(init_evals=n_init, max_iter=iters)\n"
      ]
    },
    {
      "cell_type": "code",
      "execution_count": 24,
      "metadata": {
        "id": "DXwjUVZ4GCii",
        "colab": {
          "base_uri": "https://localhost:8080/"
        },
        "outputId": "e3770497-c237-493e-9432-a6713e50c0f9"
      },
      "outputs": [
        {
          "output_type": "stream",
          "name": "stdout",
          "text": [
            "Evaluation \t Proposed point \t  Current eval. \t  Best eval. \t        Exact EI: StdDev. x \t Approx EI: StdDev. x \n",
            "init\t [-6.91674315  4.80099393]\t 215.5279554685742\t 189.34864056663108\t    \t    \n",
            "init\t [-4.7336997   0.67478787]\t 298.0661631184378\t 189.34864056663108\t    \t    \n",
            "init\t [-9.70850075  8.37494016]\t 257.3494442600599\t 189.34864056663108\t    \t    \n",
            "init\t [ 8.01429708 -9.33157145]\t 314.3616446198572\t 189.34864056663108\t    \t    \n",
            "init\t [ 9.13898673 -7.25581357]\t 189.34864056663108\t 189.34864056663108\t    \t    \n",
            "\u001b[1m\u001b[92m1\u001b[0m\t \u001b[1m\u001b[92m[4.66251955 4.05244711]\u001b[0m\t \u001b[1m\u001b[92m103.44533669968575\u001b[0m\t \u001b[1m\u001b[92m103.44533669968575\u001b[0m\t \u001b[1m\u001b[92m5.7760782586906005\u001b[0m\t \u001b[1m\u001b[92m5.435232398491137\u001b[0m\n",
            "2  \t [-3.75432006 -8.6025265 ]\t 1227.4078991356632\t 103.44533669968575\t 6.308466348224362\t 5.885159975876424\n",
            "3  \t [ 0.87886819 -1.89091226]\t 124.41803854882284\t 103.44533669968575\t 6.172322937586065\t 6.0374284836388705\n",
            "4  \t [0.62006076 8.91956245]\t 157.93527468112498\t 103.44533669968575\t 6.0816998331973995\t 6.115990148791569\n",
            "5  \t [ 8.15269188 -0.957369  ]\t 107.66212394211308\t 103.44533669968575\t 5.729589416182244\t 5.775513991519202\n",
            "6  \t [9.82022544 8.00293105]\t 867.1443168044325\t 103.44533669968575\t 6.3418790292472\t 6.194469157049843\n",
            "7  \t [-9.85571194 -2.29584651]\t 1189.383832402616\t 103.44533669968575\t 6.099291344473789\t 5.865756322150614\n",
            "8  \t [ 2.3876496  -7.40925491]\t 435.83560861762425\t 103.44533669968575\t 5.943770232513515\t 6.14290621621469\n",
            "9  \t [-9.92412295 -9.80895551]\t 2536.4418565267715\t 103.44533669968575\t 5.768977109969972\t 5.72316968485016\n",
            "\u001b[1m\u001b[92m10\u001b[0m\t \u001b[1m\u001b[92m[-4.56304288 10.        ]\u001b[0m\t \u001b[1m\u001b[92m88.20682914210636\u001b[0m\t \u001b[1m\u001b[92m88.20682914210636\u001b[0m\t \u001b[1m\u001b[92m5.7539001931505025\u001b[0m\t \u001b[1m\u001b[92m5.676046182480072\u001b[0m\n",
            "\u001b[1m\u001b[92m11\u001b[0m\t \u001b[1m\u001b[92m[-0.47171086  3.78021252]\u001b[0m\t \u001b[1m\u001b[92m4.68734420942446\u001b[0m\t \u001b[1m\u001b[92m4.68734420942446\u001b[0m\t \u001b[1m\u001b[92m5.953769742645494\u001b[0m\t \u001b[1m\u001b[92m5.857645819914242\u001b[0m\n",
            "12 \t [ 5.18677789 10.        ]\t 567.1051068562601\t 4.68734420942446\t 5.418783750922837\t 5.6195744538692205\n",
            "13 \t [10.          3.07896316]\t 410.716523587521\t 4.68734420942446\t 5.64440372550539\t 5.604986329733344\n",
            "14 \t [-3.34490281 -3.7230742 ]\t 554.0783681445754\t 4.68734420942446\t 5.4793262527985265\t 5.528285220553138\n",
            "15 \t [ 5.05902004 -3.75452606]\t 91.1622769500233\t 4.68734420942446\t 6.132155526019758\t 5.9874256336072165\n",
            "16 \t [-2.76525374  6.14424388]\t 25.60601824023152\t 4.68734420942446\t 5.845848900670315\t 5.707063940772012\n",
            "17 \t [-10.           2.24241115]\t 674.5375233961846\t 4.68734420942446\t 5.059081797430741\t 5.154780299254579\n",
            "18 \t [-0.74980157  1.36738994]\t 51.490055007971804\t 4.68734420942446\t 6.0745182757754606\t 6.235942475148635\n",
            "19 \t [4.2597553  0.21041415]\t 19.292031120951606\t 4.68734420942446\t 5.674723167738675\t 5.721914290842938\n",
            "20 \t [1.27940976 5.25551764]\t 30.86885726428162\t 4.68734420942446\t 5.185154953232002\t 5.254694676960474\n"
          ]
        }
      ],
      "source": [
        "### ESTIMATED GP EI GRADIENTS\n",
        "\n",
        "np.random.seed(run_num_12)\n",
        "surrogate_approx_12 = dGaussianProcess(cov_func, optimize=opt)\n",
        "\n",
        "approx_12 = GPGO_multi(surrogate_approx_12, Acquisition_grad(util), objfunc, param)\n",
        "approx_12.run(init_evals=n_init, max_iter=iters)\n"
      ]
    },
    {
      "cell_type": "code",
      "execution_count": 25,
      "metadata": {
        "id": "CphOPndPGClX",
        "colab": {
          "base_uri": "https://localhost:8080/"
        },
        "outputId": "5925a838-dd04-4116-d39b-dd28703c6b38"
      },
      "outputs": [
        {
          "output_type": "stream",
          "name": "stdout",
          "text": [
            "Evaluation \t Proposed point \t  Current eval. \t  Best eval. \t        Exact EI: StdDev. x \t Approx EI: StdDev. x \n",
            "init\t [ 5.55404821 -5.2491756 ]\t 143.4041188295949\t 48.27231948835582\t    \t    \n",
            "init\t [6.48557065 9.31498396]\t 626.9828646177026\t 48.27231948835582\t    \t    \n",
            "init\t [ 9.45202228 -0.93101505]\t 168.64758529203058\t 48.27231948835582\t    \t    \n",
            "init\t [2.18084926 5.51053029]\t 62.202299160666314\t 48.27231948835582\t    \t    \n",
            "init\t [2.8322669  4.44036459]\t 48.27231948835582\t 48.27231948835582\t    \t    \n",
            "1  \t [-8.69830926  2.59657998]\t 502.3996877395562\t 48.27231948835582\t 5.766998463243095\t 6.010939283490951\n",
            "2  \t [-5.9673185  -6.48540274]\t 1221.284536050755\t 48.27231948835582\t 6.147038382297057\t 6.410667112027696\n",
            "3  \t [ 0.49660104 -1.21716539]\t 107.17280546058115\t 48.27231948835582\t 6.2561931721607476\t 6.27545921686131\n",
            "4  \t [-5.68974606  9.11900061]\t 83.49787226161779\t 48.27231948835582\t 6.312029682046665\t 6.656980423527374\n",
            "5  \t [ 10. -10.]\t 314.0\t 48.27231948835582\t 6.742692412329566\t 7.368932478385535\n",
            "6  \t [ 0.1408828 -7.1668213]\t 590.3876171326006\t 48.27231948835582\t 5.974076780067766\t 5.804824188526636\n",
            "7  \t [-2.87655017  3.34758126]\t 64.96294033379053\t 48.27231948835582\t 6.3202725271495535\t 6.261697881863245\n",
            "8  \t [10.          4.67074455]\t 539.2505440643746\t 48.27231948835582\t 6.074401906241817\t 6.149105312985673\n",
            "9  \t [-0.37708725 10.        ]\t 177.36496063207596\t 48.27231948835582\t 5.83433573919007\t 5.887501597732999\n",
            "10 \t [-10.          -2.68465513]\t 1266.8261714648006\t 48.27231948835582\t 5.6331431413622335\t 5.748896550039524\n",
            "11 \t [-10. -10.]\t 2594.0\t 48.27231948835582\t 6.256616214033787\t 6.628188740217083\n",
            "12 \t [-4.60652086 -1.19747376]\t 433.52510419701514\t 48.27231948835582\t 5.741524028155655\t 6.070943522799489\n",
            "13 \t [-10.           7.61149481]\t 305.5178784537793\t 48.27231948835582\t 5.994352702284728\t 6.084503506774232\n",
            "14 \t [  4.63046171 -10.        ]\t 533.3332430870739\t 48.27231948835582\t 4.995456031768158\t 4.781700808879107\n",
            "\u001b[1m\u001b[92m15\u001b[0m\t \u001b[1m\u001b[92m[4.91147306 0.4455121 ]\u001b[0m\t \u001b[1m\u001b[92m29.190664885498872\u001b[0m\t \u001b[1m\u001b[92m29.190664885498872\u001b[0m\t \u001b[1m\u001b[92m5.9733756974739345\u001b[0m\t \u001b[1m\u001b[92m6.011244083232507\u001b[0m\n",
            "16 \t [ -3.17659603 -10.        ]\t 1366.5857595709235\t 29.190664885498872\t 5.319845018126234\t 5.20032827473809\n",
            "17 \t [10.         -5.37937435]\t 152.75461924362054\t 29.190664885498872\t 6.71492424698543\t 6.730383454035566\n",
            "\u001b[1m\u001b[92m18\u001b[0m\t \u001b[1m\u001b[92m[-2.64788989  6.86621786]\u001b[0m\t \u001b[1m\u001b[92m28.445409584214136\u001b[0m\t \u001b[1m\u001b[92m28.445409584214136\u001b[0m\t \u001b[1m\u001b[92m4.79111624201163\u001b[0m\t \u001b[1m\u001b[92m4.827652132905453\u001b[0m\n",
            "\u001b[1m\u001b[92m19\u001b[0m\t \u001b[1m\u001b[92m[0.39230138 2.29609332]\u001b[0m\t \u001b[1m\u001b[92m7.746016061591101\u001b[0m\t \u001b[1m\u001b[92m7.746016061591101\u001b[0m\t \u001b[1m\u001b[92m5.992989999006536\u001b[0m\t \u001b[1m\u001b[92m5.931761049633027\u001b[0m\n",
            "20 \t [6.07093034 3.67243378]\t 158.11142741924652\t 7.746016061591101\t 6.6503066287357875\t 6.470977477511178\n"
          ]
        }
      ],
      "source": [
        "### ESTIMATED GP EI GRADIENTS\n",
        "\n",
        "np.random.seed(run_num_13)\n",
        "surrogate_approx_13 = dGaussianProcess(cov_func, optimize=opt)\n",
        "\n",
        "approx_13 = GPGO_multi(surrogate_approx_13, Acquisition_grad(util), objfunc, param)\n",
        "approx_13.run(init_evals=n_init, max_iter=iters)\n"
      ]
    },
    {
      "cell_type": "code",
      "execution_count": 26,
      "metadata": {
        "id": "ojHTeARNGCoi",
        "colab": {
          "base_uri": "https://localhost:8080/"
        },
        "outputId": "aa561d08-c9a8-49b4-c23b-75f28143a7db"
      },
      "outputs": [
        {
          "output_type": "stream",
          "name": "stdout",
          "text": [
            "Evaluation \t Proposed point \t  Current eval. \t  Best eval. \t        Exact EI: StdDev. x \t Approx EI: StdDev. x \n",
            "init\t [0.27886688 5.46330104]\t 18.728481209446468\t 18.728481209446468\t    \t    \n",
            "init\t [ 7.40855371 -9.83906103]\t 371.31674613664467\t 18.728481209446468\t    \t    \n",
            "init\t [-3.80528149  9.15207479]\t 68.19416312981014\t 18.728481209446468\t    \t    \n",
            "init\t [ 0.26233425 -3.6343115 ]\t 261.94243460125864\t 18.728481209446468\t    \t    \n",
            "init\t [ 0.78399875 -5.57490115]\t 382.6954465291845\t 18.728481209446468\t    \t    \n",
            "1  \t [ 9.82765998 -0.95725402]\t 188.47085669712428\t 18.728481209446468\t 5.933662205655635\t 5.989224966848049\n",
            "2  \t [-8.1477833   0.47898709]\t 634.6806661127735\t 18.728481209446468\t 6.19951445104324\t 6.244983495902671\n",
            "3  \t [8.67962677 6.0907395 ]\t 532.5324962468142\t 18.728481209446468\t 5.221011201126815\t 5.208776578076424\n",
            "4  \t [-5.95883701 -6.51588743]\t 1224.643707474525\t 18.728481209446468\t 5.546310940908483\t 5.607284205211509\n",
            "5  \t [4.3677149 1.4337214]\t 26.77542333436035\t 18.728481209446468\t 5.256008163055953\t 5.254229424024048\n",
            "6  \t [ 3.66106765 10.        ]\t 429.42619383336546\t 18.728481209446468\t 5.447690994213876\t 5.757712732756359\n",
            "7  \t [-9.00398425  6.84535852]\t 266.5811663201056\t 18.728481209446468\t 5.015176518929053\t 5.618680138198422\n",
            "8  \t [-2.47778421  1.23853734]\t 124.99656479185698\t 18.728481209446468\t 5.9584378864571494\t 5.998157032774352\n",
            "9  \t [ 6.05956028 -4.55421511]\t 107.55852704808431\t 18.728481209446468\t 5.957186194973922\t 5.960599513079144\n",
            "10 \t [ -1.78575904 -10.        ]\t 1173.5212068302194\t 18.728481209446468\t 5.409707262414644\t 5.548962115721034\n",
            "11 \t [-4.81265934  4.92070069]\t 98.06546826759782\t 18.728481209446468\t 5.843512199266142\t 5.798632141442247\n",
            "12 \t [-10. -10.]\t 2594.0\t 18.728481209446468\t 5.83545758576232\t 5.986779343673007\n",
            "13 \t [10.         -5.96190119]\t 161.32147908441368\t 18.728481209446468\t 5.925637116160037\t 6.003370643206951\n",
            "14 \t [  2.95056674 -10.        ]\t 661.1646119042326\t 18.728481209446468\t 5.545402306827984\t 5.6874262213907265\n",
            "15 \t [-10.          -3.92148637]\t 1453.6256684433345\t 18.728481209446468\t 6.146703777359903\t 6.235786231053335\n",
            "16 \t [4.09067621 5.35294189]\t 133.6205271596277\t 18.728481209446468\t 5.661824586454444\t 5.636515475019339\n",
            "17 \t [ 8.02969902 10.        ]\t 885.7464864448943\t 18.728481209446468\t 6.204871774555744\t 6.10778769043866\n",
            "18 \t [-4.26335798 -2.31320594]\t 503.3879122308557\t 18.728481209446468\t 5.099798526596867\t 5.19749978946965\n",
            "19 \t [1.24430348 0.36665861]\t 29.82417957869172\t 18.728481209446468\t 5.737311486210454\t 5.7232316324640555\n",
            "20 \t [-0.389623 10.      ]\t 176.8363725792329\t 18.728481209446468\t 5.389519385257075\t 5.524945548133798\n"
          ]
        }
      ],
      "source": [
        "### ESTIMATED GP EI GRADIENTS\n",
        "\n",
        "np.random.seed(run_num_14)\n",
        "surrogate_approx_14 = dGaussianProcess(cov_func, optimize=opt)\n",
        "\n",
        "approx_14 = GPGO_multi(surrogate_approx_14, Acquisition_grad(util), objfunc, param)\n",
        "approx_14.run(init_evals=n_init, max_iter=iters)\n"
      ]
    },
    {
      "cell_type": "code",
      "execution_count": 27,
      "metadata": {
        "id": "vCJzn4vWGCs3",
        "colab": {
          "base_uri": "https://localhost:8080/"
        },
        "outputId": "aeead109-2284-4811-c267-d8344615b84a"
      },
      "outputs": [
        {
          "output_type": "stream",
          "name": "stdout",
          "text": [
            "Evaluation \t Proposed point \t  Current eval. \t  Best eval. \t        Exact EI: StdDev. x \t Approx EI: StdDev. x \n",
            "init\t [ 6.97635395 -6.4220815 ]\t 171.98457986923216\t 171.98457986923216\t    \t    \n",
            "init\t [-8.91273571 -2.76923108]\t 1115.2426864421157\t 171.98457986923216\t    \t    \n",
            "init\t [-4.49198143  0.6000045 ]\t 285.0550378664367\t 171.98457986923216\t    \t    \n",
            "init\t [-3.88162169 -3.91051282]\t 627.8031621427792\t 171.98457986923216\t    \t    \n",
            "init\t [-7.76517448 -5.00201972]\t 1265.415808453521\t 171.98457986923216\t    \t    \n",
            "\u001b[1m\u001b[92m1\u001b[0m\t \u001b[1m\u001b[92m[-1.08003705  9.49213271]\u001b[0m\t \u001b[1m\u001b[92m124.34069392980017\u001b[0m\t \u001b[1m\u001b[92m124.34069392980017\u001b[0m\t \u001b[1m\u001b[92m5.754026069332429\u001b[0m\t \u001b[1m\u001b[92m5.60465375175779\u001b[0m\n",
            "2  \t [-9.69991687  7.99454818]\t 269.63866043864715\t 124.34069392980017\t 6.260438518819442\t 6.195923997475768\n",
            "3  \t [9.38262114 9.37010501]\t 981.4182912387284\t 124.34069392980017\t 6.048373793400697\t 6.052223962799681\n",
            "4  \t [8.17696818 1.09984692]\t 166.4985641578168\t 124.34069392980017\t 5.414573978938111\t 5.008115843818987\n",
            "5  \t [4.22042603 5.99517844]\t 173.87719342070667\t 124.34069392980017\t 6.165900282639978\t 6.1143687220262635\n",
            "6  \t [-0.62952455 -9.52479128]\t 960.9043734412453\t 124.34069392980017\t 6.2297937245473785\t 6.226011941428258\n",
            "\u001b[1m\u001b[92m7\u001b[0m\t \u001b[1m\u001b[92m[ 2.43646809 -0.28805723]\u001b[0m\t \u001b[1m\u001b[92m26.588290261609824\u001b[0m\t \u001b[1m\u001b[92m26.588290261609824\u001b[0m\t \u001b[1m\u001b[92m5.71049779477338\u001b[0m\t \u001b[1m\u001b[92m5.725953492066104\u001b[0m\n",
            "8  \t [-10. -10.]\t 2594.0\t 26.588290261609824\t 6.588354982918997\t 6.5987649151195455\n",
            "\u001b[1m\u001b[92m9\u001b[0m\t \u001b[1m\u001b[92m[-0.69504797  4.24992789]\u001b[0m\t \u001b[1m\u001b[92m5.228034924777485\u001b[0m\t \u001b[1m\u001b[92m5.228034924777485\u001b[0m\t \u001b[1m\u001b[92m5.112150299499233\u001b[0m\t \u001b[1m\u001b[92m5.112018054428298\u001b[0m\n",
            "10 \t [-4.88948582  5.9431522 ]\t 78.07171523119828\t 5.228034924777485\t 5.641886214274524\t 5.867227267146417\n",
            "11 \t [-10.           2.69559414]\t 632.2510306170835\t 5.228034924777485\t 5.193327419542655\t 5.606185206455468\n",
            "12 \t [ 2.03606017 -4.87738593]\t 250.34158217028457\t 5.228034924777485\t 5.293322787299996\t 5.53220219122252\n",
            "13 \t [-5.21627248 -9.29874037]\t 1561.1238610766313\t 5.228034924777485\t 6.514869298912613\t 6.6539403859639545\n",
            "14 \t [ 10. -10.]\t 314.0\t 5.228034924777485\t 5.886397766033112\t 6.1728311576854535\n",
            "15 \t [10.         -3.07283764]\t 152.15247497456284\t 5.228034924777485\t 4.70561957424019\t 4.834310052986038\n",
            "16 \t [10.          4.81811744]\t 552.4322105427243\t 5.228034924777485\t 6.229437043010167\t 6.08167669731085\n",
            "17 \t [ 3.28622493 10.        ]\t 399.16271790976856\t 5.228034924777485\t 5.2182750931629345\t 5.075481833898149\n",
            "18 \t [  4.30666473 -10.        ]\t 555.7770262208684\t 5.228034924777485\t 5.801656869352153\t 5.959806689453185\n",
            "19 \t [ 5.65404745 -2.31963623]\t 51.73072102515622\t 5.228034924777485\t 5.985955770654165\t 5.922045354198117\n",
            "20 \t [-0.72267579 -1.02243632]\t 151.17285795602086\t 5.228034924777485\t 5.269336004819161\t 5.25799412411614\n"
          ]
        }
      ],
      "source": [
        "### ESTIMATED GP EI GRADIENTS\n",
        "\n",
        "np.random.seed(run_num_15)\n",
        "surrogate_approx_15 = dGaussianProcess(cov_func, optimize=opt)\n",
        "\n",
        "approx_15 = GPGO_multi(surrogate_approx_15, Acquisition_grad(util), objfunc, param)\n",
        "approx_15.run(init_evals=n_init, max_iter=iters)\n"
      ]
    },
    {
      "cell_type": "code",
      "execution_count": 28,
      "metadata": {
        "id": "bGGkhp-kGCw6",
        "colab": {
          "base_uri": "https://localhost:8080/"
        },
        "outputId": "a13a8544-23bf-4a6b-99b5-925568337b89"
      },
      "outputs": [
        {
          "output_type": "stream",
          "name": "stdout",
          "text": [
            "Evaluation \t Proposed point \t  Current eval. \t  Best eval. \t        Exact EI: StdDev. x \t Approx EI: StdDev. x \n",
            "init\t [-5.53417842  0.46326683]\t 378.2562509858209\t 182.86095429406956\t    \t    \n",
            "init\t [ 1.01402913 -9.087961  ]\t 729.2383206820605\t 182.86095429406956\t    \t    \n",
            "init\t [-2.78542329 -5.53838117]\t 694.7380078426447\t 182.86095429406956\t    \t    \n",
            "init\t [ 3.77452324 -6.7253715 ]\t 295.53799633399245\t 182.86095429406956\t    \t    \n",
            "init\t [-8.59350266  8.8202172 ]\t 182.86095429406956\t 182.86095429406956\t    \t    \n",
            "1  \t [4.18505664 9.44091052]\t 422.2668893394708\t 182.86095429406956\t 6.229668795711202\t 6.181936645057876\n",
            "2  \t [9.22704387 3.02362854]\t 339.97919009954177\t 182.86095429406956\t 6.611060689119399\t 6.383383836082135\n",
            "\u001b[1m\u001b[92m3\u001b[0m\t \u001b[1m\u001b[92m[ 2.52801252 -0.08752176]\u001b[0m\t \u001b[1m\u001b[92m21.595889051827275\u001b[0m\t \u001b[1m\u001b[92m21.595889051827275\u001b[0m\t \u001b[1m\u001b[92m5.688199102439102\u001b[0m\t \u001b[1m\u001b[92m5.898485105934304\u001b[0m\n",
            "4  \t [ -8.3875295 -10.       ]\t 2261.9316187222266\t 21.595889051827275\t 6.043423746723257\t 6.3234501147217514\n",
            "\u001b[1m\u001b[92m5\u001b[0m\t \u001b[1m\u001b[92m[-2.22531694  5.42968011]\u001b[0m\t \u001b[1m\u001b[92m18.838166667692633\u001b[0m\t \u001b[1m\u001b[92m18.838166667692633\u001b[0m\t \u001b[1m\u001b[92m5.8814046517546705\u001b[0m\t \u001b[1m\u001b[92m5.799698919698443\u001b[0m\n",
            "6  \t [ 9.61786158 -8.09704194]\t 221.99721927783827\t 18.838166667692633\t 6.73738728073879\t 6.889087889049468\n",
            "7  \t [-9.78960194 -3.81929178]\t 1403.2108022343755\t 18.838166667692633\t 5.636382085057889\t 5.7895410895837855\n",
            "8  \t [10.          9.37982801]\t 1067.8586439320752\t 18.838166667692633\t 5.684196625351439\t 5.968132643263845\n",
            "9  \t [ 7.88165549 -2.58051272]\t 85.27119441975948\t 18.838166667692633\t 6.146780266107236\t 6.352432311477545\n",
            "10 \t [-10.           3.59234137]\t 554.6283005324498\t 18.838166667692633\t 6.00673404233564\t 6.299040291983194\n",
            "11 \t [-1.39407681 10.        ]\t 139.58971747045237\t 18.838166667692633\t 6.183111191758669\t 6.132358159009754\n",
            "12 \t [2.49156334 4.50149236]\t 40.312770205887006\t 18.838166667692633\t 6.0702823507997135\t 6.015519956382574\n",
            "13 \t [-1.01335206  1.58579464]\t 53.04616283268207\t 18.838166667692633\t 4.981860840884216\t 4.797100341516772\n",
            "14 \t [ -3.54136031 -10.        ]\t 1420.4212402563576\t 18.838166667692633\t 4.994536845947829\t 5.013728430120719\n",
            "15 \t [-5.82358756  5.40730444]\t 130.37068823133282\t 18.838166667692633\t 5.4591144914230725\t 5.821185557928188\n",
            "16 \t [ 1.07850245 -3.28824144]\t 193.79157659926403\t 18.838166667692633\t 5.258033210576743\t 5.489079132857151\n",
            "17 \t [6.08708043 5.68477354]\t 274.6932527898975\t 18.838166667692633\t 6.166298209104905\t 6.283502247440431\n",
            "18 \t [-5.05743542 10.        ]\t 89.24623582822878\t 18.838166667692633\t 5.584844979104614\t 5.55330165806432\n",
            "19 \t [5.70164911 0.86723692]\t 53.050884646031264\t 18.838166667692633\t 5.19965475162252\t 5.294152185817679\n",
            "20 \t [  6.0674336 -10.       ]\t 446.38132220584396\t 18.838166667692633\t 6.143001093504558\t 6.3101799487298855\n"
          ]
        }
      ],
      "source": [
        "### ESTIMATED GP EI GRADIENTS\n",
        "\n",
        "np.random.seed(run_num_16)\n",
        "surrogate_approx_16 = dGaussianProcess(cov_func, optimize=opt)\n",
        "\n",
        "approx_16 = GPGO_multi(surrogate_approx_16, Acquisition_grad(util), objfunc, param)\n",
        "approx_16.run(init_evals=n_init, max_iter=iters)\n"
      ]
    },
    {
      "cell_type": "code",
      "execution_count": 29,
      "metadata": {
        "id": "Yrs2mp7hGC1Z",
        "colab": {
          "base_uri": "https://localhost:8080/"
        },
        "outputId": "5f313309-9250-46ca-a234-3451e3a4848f"
      },
      "outputs": [
        {
          "output_type": "stream",
          "name": "stdout",
          "text": [
            "Evaluation \t Proposed point \t  Current eval. \t  Best eval. \t        Exact EI: StdDev. x \t Approx EI: StdDev. x \n",
            "init\t [-4.10669995  0.61173511]\t 256.4801849765532\t 5.553508838684786\t    \t    \n",
            "init\t [-6.16958426 -8.64199284]\t 1602.4406672130797\t 5.553508838684786\t    \t    \n",
            "init\t [5.7397092  3.12667044]\t 117.20749172761734\t 5.553508838684786\t    \t    \n",
            "init\t [2.75041792 1.51205788]\t 5.553508838684786\t 5.553508838684786\t    \t    \n",
            "init\t [-9.21874168 -2.84372791]\t 1170.583554210921\t 5.553508838684786\t    \t    \n",
            "1  \t [-8.64042543  9.21575513]\t 178.4868811929342\t 5.553508838684786\t 6.554453658543142\t 6.8067471905015\n",
            "2  \t [ 4.54825031 -8.71744454]\t 416.8315243674168\t 5.553508838684786\t 5.72023066572475\t 5.871058189575279\n",
            "3  \t [9.12376544 9.73620918]\t 994.6474624709882\t 5.553508838684786\t 5.783743219853422\t 6.057795699612523\n",
            "4  \t [-0.05385845  7.96254756]\t 86.84889828641981\t 5.553508838684786\t 6.405816154442385\t 6.602773130761394\n",
            "5  \t [ 9.06636127 -2.74323799]\t 119.63857371103694\t 5.553508838684786\t 5.406298430757683\t 5.878988584125465\n",
            "6  \t [ 0.5090344  -3.74636692]\t 255.27044210796\t 5.553508838684786\t 5.856290691089125\t 5.587427485282962\n",
            "7  \t [-9.59943539  3.30106414]\t 536.664471669429\t 5.553508838684786\t 5.087803638321932\t 5.755277276085497\n",
            "8  \t [-1.02859872 -9.21677652]\t 965.0877045352898\t 5.553508838684786\t 6.18014503814704\t 6.156323976622383\n",
            "9  \t [10.         -8.87766647]\t 255.2028180967216\t 5.553508838684786\t 6.477674592637204\t 6.498218153778538\n",
            "10 \t [-4.23743167 10.        ]\t 88.85727897621331\t 5.553508838684786\t 5.103528654568081\t 4.8330039572792876\n",
            "11 \t [-5.34307141  5.91978222]\t 95.63531874971927\t 5.553508838684786\t 6.359146598217882\t 5.978927029902572\n",
            "12 \t [10.         4.6046692]\t 533.4109982167731\t 5.553508838684786\t 5.543084240005479\t 5.441243595705493\n",
            "13 \t [4.46831151 7.73191178]\t 303.39482164746835\t 5.553508838684786\t 5.010052675790064\t 4.894690958164018\n",
            "\u001b[1m\u001b[92m14\u001b[0m\t \u001b[1m\u001b[92m[-0.43635147  3.5450544 ]\u001b[0m\t \u001b[1m\u001b[92m5.5378317373961705\u001b[0m\t \u001b[1m\u001b[92m5.5378317373961705\u001b[0m\t \u001b[1m\u001b[92m5.474260110611795\u001b[0m\t \u001b[1m\u001b[92m5.3322423884712835\u001b[0m\n",
            "15 \t [ 4.73358743 -1.73382175]\t 40.350618269740664\t 5.5378317373961705\t 5.421597850208792\t 5.383638576009542\n",
            "16 \t [-4.1753931  -4.04754032]\t 674.052923754162\t 5.5378317373961705\t 5.07027490182453\t 5.053758777000628\n",
            "17 \t [-10.          -6.63415268]\t 1916.8899249944925\t 5.5378317373961705\t 5.315518592310442\t 5.780947045962526\n",
            "18 \t [0.03179598 0.37355956]\t 59.52148367471142\t 5.5378317373961705\t 5.76839666956649\t 5.749998217612585\n",
            "19 \t [ 6.06124793 -5.0007763 ]\t 124.19196018070727\t 5.5378317373961705\t 5.40443956102137\t 5.372911892500111\n",
            "20 \t [8.69642071 0.77851659]\t 184.06963421749265\t 5.5378317373961705\t 5.845281137797222\t 5.851100357715267\n"
          ]
        }
      ],
      "source": [
        "### ESTIMATED GP EI GRADIENTS\n",
        "\n",
        "np.random.seed(run_num_17)\n",
        "surrogate_approx_17 = dGaussianProcess(cov_func, optimize=opt)\n",
        "\n",
        "approx_17 = GPGO_multi(surrogate_approx_17, Acquisition_grad(util), objfunc, param)\n",
        "approx_17.run(init_evals=n_init, max_iter=iters)\n"
      ]
    },
    {
      "cell_type": "code",
      "execution_count": 30,
      "metadata": {
        "id": "f0HIEP3PIUEa",
        "colab": {
          "base_uri": "https://localhost:8080/"
        },
        "outputId": "d7a2a036-8d54-45e8-d473-d3b5bc7d7d09"
      },
      "outputs": [
        {
          "output_type": "stream",
          "name": "stdout",
          "text": [
            "Evaluation \t Proposed point \t  Current eval. \t  Best eval. \t        Exact EI: StdDev. x \t Approx EI: StdDev. x \n",
            "init\t [3.00748483 0.10906747]\t 15.509405515253864\t 15.509405515253864\t    \t    \n",
            "init\t [ 7.57202942 -6.36319549]\t 162.0234327224751\t 15.509405515253864\t    \t    \n",
            "init\t [7.04466137 5.00272572]\t 299.59059770472754\t 15.509405515253864\t    \t    \n",
            "init\t [3.32203335 9.75790897]\t 380.8425822546991\t 15.509405515253864\t    \t    \n",
            "init\t [-4.86063155 -9.43388149]\t 1527.7052410059514\t 15.509405515253864\t    \t    \n",
            "1  \t [-6.1664519   4.28513481]\t 191.3691670751314\t 15.509405515253864\t 6.252592403603096\t 6.331270706589588\n",
            "2  \t [-6.07110106 -2.27098711]\t 687.0923366704285\t 15.509405515253864\t 5.21641234204312\t 5.415661713553996\n",
            "3  \t [-9.84572665 -7.72302303]\t 2093.4568612086086\t 15.509405515253864\t 5.536439716680577\t 5.542603767097451\n",
            "4  \t [-0.30046486 -5.1119512 ]\t 421.8692656980095\t 15.509405515253864\t 5.933917971672022\t 6.413749532300645\n",
            "5  \t [ 4.59940623 -9.59713586]\t 495.48011107282537\t 15.509405515253864\t 5.398385911615159\t 5.383812444818041\n",
            "6  \t [-10.  10.]\t 234.0\t 15.509405515253864\t 5.713798319987964\t 5.8498542662896975\n",
            "\u001b[1m\u001b[92m7\u001b[0m\t \u001b[1m\u001b[92m[0.09962888 4.74594807]\u001b[0m\t \u001b[1m\u001b[92m6.719004347075452\u001b[0m\t \u001b[1m\u001b[92m6.719004347075452\u001b[0m\t \u001b[1m\u001b[92m6.243976343740082\u001b[0m\t \u001b[1m\u001b[92m6.75562722280727\u001b[0m\n",
            "8  \t [-2.90982047  9.21542902]\t 75.18157718066291\t 6.719004347075452\t 5.606483695076117\t 5.88249920551511\n",
            "9  \t [ 9.394807   -0.75746941]\t 170.61096051667758\t 6.719004347075452\t 5.741070997937429\t 5.722939439662173\n",
            "10 \t [10. 10.]\t 1154.0\t 6.719004347075452\t 6.45189735796609\t 6.42267147424432\n",
            "11 \t [-1.61550736  0.66439202]\t 110.35011549081463\t 6.719004347075452\t 5.871204024213927\t 5.91858327925212\n",
            "12 \t [ 4.19811773 -3.53640541]\t 97.52921133300532\t 6.719004347075452\t 5.258904815563802\t 5.207336920227679\n",
            "13 \t [ 10. -10.]\t 314.0\t 6.719004347075452\t 5.711259676493773\t 5.9102668971531545\n",
            "14 \t [5.95387903 1.06796737]\t 64.79989023325466\t 6.719004347075452\t 5.133404308896523\t 5.003591075894552\n",
            "15 \t [-8.89018434 -0.25764721]\t 799.8899091095016\t 6.719004347075452\t 5.752310343241147\t 5.651873295601866\n",
            "16 \t [ -0.01310539 -10.        ]\t 955.4948734256084\t 6.719004347075452\t 5.026477416295623\t 5.337117224554393\n",
            "17 \t [2.96994241 3.8048619 ]\t 35.32663166676493\t 6.719004347075452\t 6.718007228642684\t 6.66571615177347\n",
            "18 \t [-6.44902316  8.27771049]\t 102.20056892063528\t 6.719004347075452\t 5.922255571574561\t 5.9108558749384335\n",
            "19 \t [-2.50069438  5.50356408]\t 22.49976958995176\t 6.719004347075452\t 5.37374527501123\t 5.478338566610296\n",
            "20 \t [-10.           5.56921188]\t 411.9136029758161\t 6.719004347075452\t 5.738376745599252\t 6.1306791947149755\n"
          ]
        }
      ],
      "source": [
        "### ESTIMATED GP EI GRADIENTS\n",
        "\n",
        "np.random.seed(run_num_18)\n",
        "surrogate_approx_18 = dGaussianProcess(cov_func, optimize=opt)\n",
        "\n",
        "approx_18 = GPGO_multi(surrogate_approx_18, Acquisition_grad(util), objfunc, param)\n",
        "approx_18.run(init_evals=n_init, max_iter=iters)\n"
      ]
    },
    {
      "cell_type": "code",
      "execution_count": 31,
      "metadata": {
        "id": "S3mxRQDLIUPC",
        "colab": {
          "base_uri": "https://localhost:8080/"
        },
        "outputId": "980271da-c31f-4b70-d135-9602956ea78e"
      },
      "outputs": [
        {
          "output_type": "stream",
          "name": "stdout",
          "text": [
            "Evaluation \t Proposed point \t  Current eval. \t  Best eval. \t        Exact EI: StdDev. x \t Approx EI: StdDev. x \n",
            "init\t [-8.04932797  5.22499433]\t 273.1270544592675\t 139.9227861892117\t    \t    \n",
            "init\t [-5.06124054 -7.23736625]\t 1204.1206373978957\t 139.9227861892117\t    \t    \n",
            "init\t [-3.37106873 -8.3400087 ]\t 1135.0538557997047\t 139.9227861892117\t    \t    \n",
            "init\t [3.43954163 6.13187596]\t 139.9227861892117\t 139.9227861892117\t    \t    \n",
            "init\t [9.65483829 2.7132147 ]\t 355.08571481298065\t 139.9227861892117\t    \t    \n",
            "1  \t [ 9.42739537 -7.28680447]\t 190.6689475777885\t 139.9227861892117\t 6.638163501680065\t 6.812701681347482\n",
            "\u001b[1m\u001b[92m2\u001b[0m\t \u001b[1m\u001b[92m[ 4.81772344 -2.77685984]\u001b[0m\t \u001b[1m\u001b[92m63.29998354966632\u001b[0m\t \u001b[1m\u001b[92m63.29998354966632\u001b[0m\t \u001b[1m\u001b[92m6.377081881165755\u001b[0m\t \u001b[1m\u001b[92m6.219294001728577\u001b[0m\n",
            "3  \t [-9.02376258 -0.72057486]\t 869.9457399443589\t 63.29998354966632\t 5.402328403813305\t 5.279455346826996\n",
            "4  \t [8.78383037 9.07140371]\t 865.3200043326287\t 63.29998354966632\t 6.0414721563399265\t 5.800283245258892\n",
            "5  \t [-2.76238399  2.38976039]\t 91.00727446269367\t 63.29998354966632\t 5.096059297138169\t 5.428252226601663\n",
            "\u001b[1m\u001b[92m6\u001b[0m\t \u001b[1m\u001b[92m[-2.2233185   8.40664734]\u001b[0m\t \u001b[1m\u001b[92m58.68931693407148\u001b[0m\t \u001b[1m\u001b[92m58.68931693407148\u001b[0m\t \u001b[1m\u001b[92m6.2322276730671\u001b[0m\t \u001b[1m\u001b[92m6.146499354172139\u001b[0m\n",
            "7  \t [ 2.79652523 -8.76680122]\t 539.3107269507802\t 58.68931693407148\t 5.501886378211418\t 5.602945921186153\n",
            "8  \t [-0.7230593  -2.82396247]\t 264.71762226585304\t 58.68931693407148\t 5.596298173902591\t 5.350826963149874\n",
            "9  \t [-10. -10.]\t 2594.0\t 58.68931693407148\t 6.047942431785439\t 6.0508821300583895\n",
            "10 \t [10.        -2.3615857]\t 162.69883567509757\t 58.68931693407148\t 6.074813232022216\t 6.517986948624156\n",
            "\u001b[1m\u001b[92m11\u001b[0m\t \u001b[1m\u001b[92m[2.28317299 1.35662065]\u001b[0m\t \u001b[1m\u001b[92m4.866223094440637\u001b[0m\t \u001b[1m\u001b[92m4.866223094440637\u001b[0m\t \u001b[1m\u001b[92m5.035388580284911\u001b[0m\t \u001b[1m\u001b[92m5.288276666948642\u001b[0m\n",
            "12 \t [-6.84119966 10.        ]\t 113.31487968105446\t 4.866223094440637\t 5.656275221363954\t 5.571717081213128\n",
            "13 \t [5.46714797 1.43676312]\t 56.12991906121186\t 4.866223094440637\t 5.811428545395256\t 5.878447333051096\n",
            "14 \t [-4.89947471 -2.43965623]\t 578.6972236167087\t 4.866223094440637\t 5.230941687472749\t 5.1197765359673495\n",
            "\u001b[1m\u001b[92m15\u001b[0m\t \u001b[1m\u001b[92m[0.48326723 3.89190302]\u001b[0m\t \u001b[1m\u001b[92m1.625514604119394\u001b[0m\t \u001b[1m\u001b[92m1.625514604119394\u001b[0m\t \u001b[1m\u001b[92m5.7235978704324895\u001b[0m\t \u001b[1m\u001b[92m5.781243940031363\u001b[0m\n",
            "16 \t [ 1.69424841 10.        ]\t 286.2878155128795\t 1.625514604119394\t 5.397580651327965\t 5.188958233422215\n",
            "17 \t [ 5.86316454 -6.06695512]\t 176.54746554778345\t 1.625514604119394\t 5.453262200736531\t 5.116728213760286\n",
            "18 \t [-10.          -5.18163328]\t 1659.6793448235906\t 1.625514604119394\t 5.703843224014497\t 5.954589747743405\n",
            "19 \t [-0.49689408  5.50570462]\t 12.590042275226693\t 1.625514604119394\t 4.825813539388557\t 4.8157734451516925\n",
            "20 \t [-4.22690583  5.68430858]\t 60.38526027894331\t 1.625514604119394\t 5.411679120261334\t 5.603195207153852\n"
          ]
        }
      ],
      "source": [
        "### ESTIMATED GP EI GRADIENTS\n",
        "\n",
        "np.random.seed(run_num_19)\n",
        "surrogate_approx_19 = dGaussianProcess(cov_func, optimize=opt)\n",
        "\n",
        "approx_19 = GPGO_multi(surrogate_approx_19, Acquisition_grad(util), objfunc, param)\n",
        "approx_19.run(init_evals=n_init, max_iter=iters)\n"
      ]
    },
    {
      "cell_type": "code",
      "execution_count": 32,
      "metadata": {
        "id": "Aawd59dRIUYn",
        "colab": {
          "base_uri": "https://localhost:8080/"
        },
        "outputId": "5bf6e07c-77ad-444b-8c30-a1bbdef4a04f"
      },
      "outputs": [
        {
          "output_type": "stream",
          "name": "stdout",
          "text": [
            "Evaluation \t Proposed point \t  Current eval. \t  Best eval. \t        Exact EI: StdDev. x \t Approx EI: StdDev. x \n",
            "init\t [1.76261602 7.95427456]\t 155.85777119682857\t 155.85777119682857\t    \t    \n",
            "init\t [7.83061459 6.31674955]\t 469.53411882784934\t 155.85777119682857\t    \t    \n",
            "init\t [-9.28220829  3.83515164]\t 463.4088031056881\t 155.85777119682857\t    \t    \n",
            "init\t [-2.42638116  0.37021891]\t 165.36424127801376\t 155.85777119682857\t    \t    \n",
            "init\t [ 3.15902931 -6.12299564]\t 281.877765303078\t 155.85777119682857\t    \t    \n",
            "\u001b[1m\u001b[92m1\u001b[0m\t \u001b[1m\u001b[92m[ 6.78995846 -0.77921207]\u001b[0m\t \u001b[1m\u001b[92m63.97846693500219\u001b[0m\t \u001b[1m\u001b[92m63.97846693500219\u001b[0m\t \u001b[1m\u001b[92m4.345984368378012\u001b[0m\t \u001b[1m\u001b[92m4.276595491552684\u001b[0m\n",
            "2  \t [-7.8478547 -7.6599646]\t 1714.1394331594895\t 63.97846693500219\t 5.624871462478811\t 5.939480955127336\n",
            "3  \t [-4.56172279  9.14761084]\t 70.09893873088411\t 63.97846693500219\t 5.564210908133837\t 6.018881081837893\n",
            "4  \t [ 9.03563127 -5.57761678]\t 139.32187278779242\t 63.97846693500219\t 5.9839718654324265\t 6.026270283281196\n",
            "5  \t [ -2.00908151 -10.        ]\t 1203.2173350601145\t 63.97846693500219\t 5.554738311512026\t 5.993781713359159\n",
            "6  \t [-7.74018678 -1.69560521]\t 820.521598747596\t 63.97846693500219\t 6.568747198076258\t 6.463231322412375\n",
            "7  \t [-9.59889345 10.        ]\t 213.144678784939\t 63.97846693500219\t 6.483616084071318\t 6.867549230543959\n",
            "\u001b[1m\u001b[92m8\u001b[0m\t \u001b[1m\u001b[92m[2.67767109 2.5530934 ]\u001b[0m\t \u001b[1m\u001b[92m9.0734307986575\u001b[0m\t \u001b[1m\u001b[92m9.0734307986575\u001b[0m\t \u001b[1m\u001b[92m5.924848099991834\u001b[0m\t \u001b[1m\u001b[92m5.957684683599416\u001b[0m\n",
            "9  \t [  6.66474891 -10.        ]\t 416.3130144309781\t 9.0734307986575\t 6.176756578273775\t 5.917252084533395\n",
            "10 \t [-1.03270802 -4.4878118 ]\t 422.76041816876966\t 9.0734307986575\t 6.056747672666619\t 5.823116051150567\n",
            "11 \t [-4.2162779   4.68343747]\t 79.967362913231\t 9.0734307986575\t 6.088009188279493\t 6.062196784527164\n",
            "12 \t [10.          2.03421749]\t 340.1273383691376\t 9.0734307986575\t 6.330879072051757\t 6.256231920050156\n",
            "13 \t [ 5.46128592 10.        ]\t 594.3473717501785\t 9.0734307986575\t 6.835812809615572\t 6.642030558919253\n",
            "14 \t [  2.50911312 -10.        ]\t 699.4393475629848\t 9.0734307986575\t 5.226904896971172\t 5.447708225978501\n",
            "15 \t [ 2.43196794 -1.25889866]\t 52.154899070223294\t 9.0734307986575\t 5.170219886327735\t 5.152541056691087\n",
            "\u001b[1m\u001b[92m16\u001b[0m\t \u001b[1m\u001b[92m[-0.25035391  4.2275742 ]\u001b[0m\t \u001b[1m\u001b[92m3.0723989876087723\u001b[0m\t \u001b[1m\u001b[92m3.0723989876087723\u001b[0m\t \u001b[1m\u001b[92m5.669652862854671\u001b[0m\t \u001b[1m\u001b[92m5.76092616835825\u001b[0m\n",
            "17 \t [-7.15138158  7.06173785]\t 149.84347934014679\t 3.0723989876087723\t 5.479218236239919\t 5.512275520355542\n",
            "18 \t [-1.23681012 10.        ]\t 144.75523078536352\t 3.0723989876087723\t 5.962805758711403\t 6.16930101626742\n",
            "19 \t [5.64345853 2.75162264]\t 98.89035247371098\t 3.0723989876087723\t 5.771079999333602\t 5.72457091977315\n",
            "20 \t [-5.84867779  1.80446903]\t 307.1708602982245\t 3.0723989876087723\t 4.923889772037311\t 4.926952700644682\n"
          ]
        }
      ],
      "source": [
        "### ESTIMATED GP EI GRADIENTS\n",
        "\n",
        "np.random.seed(run_num_20)\n",
        "surrogate_approx_20 = dGaussianProcess(cov_func, optimize=opt)\n",
        "\n",
        "approx_20 = GPGO_multi(surrogate_approx_20, Acquisition_grad(util), objfunc, param)\n",
        "approx_20.run(init_evals=n_init, max_iter=iters)\n"
      ]
    },
    {
      "cell_type": "code",
      "execution_count": 33,
      "metadata": {
        "id": "xkgzPRbBTHaq",
        "colab": {
          "base_uri": "https://localhost:8080/"
        },
        "outputId": "0d389fa8-10d5-4bca-f54d-833554571bf7"
      },
      "outputs": [
        {
          "output_type": "execute_result",
          "data": {
            "text/plain": [
              "1659621565.2670164"
            ]
          },
          "metadata": {},
          "execution_count": 33
        }
      ],
      "source": [
        "end_approx = time.time()\n",
        "end_approx\n",
        "\n",
        "time_approx = end_approx - start_approx\n",
        "time_approx\n",
        "\n",
        "start_exact = time.time()\n",
        "start_exact"
      ]
    },
    {
      "cell_type": "code",
      "execution_count": 34,
      "metadata": {
        "id": "7CG3Ndvb16Rb",
        "colab": {
          "base_uri": "https://localhost:8080/"
        },
        "outputId": "5902aa20-118f-4733-9d9f-dc1f26f6a520"
      },
      "outputs": [
        {
          "output_type": "stream",
          "name": "stdout",
          "text": [
            "Evaluation \t Proposed point \t  Current eval. \t  Best eval. \t        Exact EI: StdDev. x \t Approx EI: StdDev. x \n",
            "init\t [-1.65955991  4.40648987]\t 15.332210716052247\t 15.332210716052247\t    \t    \n",
            "init\t [-9.9977125  -3.95334855]\t 1458.2611077633842\t 15.332210716052247\t    \t    \n",
            "init\t [-7.06488218 -8.1532281 ]\t 1666.779874000304\t 15.332210716052247\t    \t    \n",
            "init\t [-6.27479577 -3.08878546]\t 804.3371752309802\t 15.332210716052247\t    \t    \n",
            "init\t [-2.06465052  0.77633468]\t 126.2019077328938\t 15.332210716052247\t    \t    \n",
            "1  \t [ 7.89213327 -8.29911577]\t 252.857497365554\t 15.332210716052247\t 6.237438278276306\t 6.607371581636167\n",
            "2  \t [7.66612182 2.47344414]\t 195.49152221204983\t 15.332210716052247\t 6.088170479233594\t 6.024951175660776\n",
            "3  \t [1.62717855 9.40039978]\t 238.9058988758153\t 15.332210716052247\t 6.281380258320998\t 6.035140829796363\n",
            "4  \t [-9.56950389  8.95940422]\t 232.24098716076017\t 15.332210716052247\t 6.463264295048612\t 6.670400156207803\n",
            "5  \t [ 2.56152397 -4.28847437]\t 186.75205921539708\t 15.332210716052247\t 5.710675028692215\t 5.869825385320868\n",
            "6  \t [  0.54461918 -10.        ]\t 893.3964642159477\t 15.332210716052247\t 5.347771141043292\t 5.860479002766833\n",
            "7  \t [-8.78531742  2.53121133]\t 516.5589665632596\t 15.332210716052247\t 5.999449925190098\t 6.513760648480695\n",
            "8  \t [10.         9.9186284]\t 1142.4783390469568\t 15.332210716052247\t 6.818818133318852\t 6.93460555065291\n",
            "9  \t [-3.97144881  9.46515514]\t 75.43816858667081\t 15.332210716052247\t 5.746434220526741\t 5.933171006720351\n",
            "10 \t [10.         -2.83983745]\t 155.05021078305066\t 15.332210716052247\t 5.9675351382023525\t 6.077788945591672\n",
            "\u001b[1m\u001b[92m11\u001b[0m\t \u001b[1m\u001b[92m[2.64033043 2.86489214]\u001b[0m\t \u001b[1m\u001b[92m11.771718085596584\u001b[0m\t \u001b[1m\u001b[92m11.771718085596584\u001b[0m\t \u001b[1m\u001b[92m5.299919929291651\u001b[0m\t \u001b[1m\u001b[92m5.393628833485177\u001b[0m\n",
            "12 \t [-5.32399201  5.52758481]\t 104.03239052162719\t 11.771718085596584\t 5.92393471234918\t 5.9353370452495575\n",
            "13 \t [-1.95609459 -5.00569732]\t 553.473212015733\t 11.771718085596584\t 5.086028361760612\t 5.192389643564696\n",
            "14 \t [ 5.87728459 -1.55002757]\t 44.91904446000021\t 11.771718085596584\t 5.760529689838521\t 6.009530643239816\n",
            "15 \t [5.63053943 7.10299014]\t 343.3745790488717\t 11.771718085596584\t 5.453514071349201\t 5.281638536962811\n",
            "16 \t [ 1.71975439 -0.2201711 ]\t 35.89588317891169\t 11.771718085596584\t 5.729967482738703\t 5.833056627068916\n",
            "17 \t [ 4.26372128 -8.40610334]\t 405.9446125850294\t 11.771718085596584\t 5.7307546370927325\t 5.793220139006856\n",
            "18 \t [-1.41747077  7.1905161 ]\t 35.979349016348095\t 11.771718085596584\t 5.717850862340913\t 5.744960799596179\n",
            "19 \t [2.03552847 5.37155833]\t 53.129569834240094\t 11.771718085596584\t 6.402643869583377\t 6.544309487419498\n",
            "20 \t [-5.12956994  2.25005447]\t 227.44497835487124\t 11.771718085596584\t 5.77595972173836\t 5.930645922390924\n"
          ]
        }
      ],
      "source": [
        "### EXACT GP EI GRADIENTS\n",
        "\n",
        "np.random.seed(run_num_1)\n",
        "surrogate_exact_1 = dGaussianProcess(cov_func, optimize=opt)\n",
        "\n",
        "exact_1 = dGPGO(surrogate_exact_1, Acquisition_grad(util), objfunc, param)\n",
        "exact_1.run(init_evals=n_init, max_iter=iters)\n"
      ]
    },
    {
      "cell_type": "code",
      "execution_count": 35,
      "metadata": {
        "id": "-ilCPSAu9SAg",
        "colab": {
          "base_uri": "https://localhost:8080/"
        },
        "outputId": "61c84ee7-3849-4ef8-f29d-965052f964d4"
      },
      "outputs": [
        {
          "output_type": "stream",
          "name": "stdout",
          "text": [
            "Evaluation \t Proposed point \t  Current eval. \t  Best eval. \t        Exact EI: StdDev. x \t Approx EI: StdDev. x \n",
            "init\t [-1.28010196 -9.48147536]\t 1032.6027521517153\t 92.40504507724606\t    \t    \n",
            "init\t [ 0.99324956 -1.29355215]\t 92.40504507724606\t 92.40504507724606\t    \t    \n",
            "init\t [-1.59264396 -3.39330358]\t 370.5851459944721\t 92.40504507724606\t    \t    \n",
            "init\t [-5.90702732  2.38541933]\t 274.38308294748543\t 92.40504507724606\t    \t    \n",
            "init\t [-4.00690653 -4.6634545 ]\t 725.9498417670716\t 92.40504507724606\t    \t    \n",
            "1  \t [4.01504693 9.2910216 ]\t 395.07910702982895\t 92.40504507724606\t 5.814216361023266\t 5.908535075716898\n",
            "2  \t [ 9.4582138 -7.7444757]\t 207.8931124700012\t 92.40504507724606\t 5.533484792680509\t 5.910111378429694\n",
            "3  \t [ 9.07319925 -1.03970567]\t 146.57204976774406\t 92.40504507724606\t 5.9546507043377215\t 6.148619230183657\n",
            "4  \t [ -7.56384365 -10.        ]\t 2102.33682977397\t 92.40504507724606\t 6.325725159882285\t 6.316786737957348\n",
            "\u001b[1m\u001b[92m5\u001b[0m\t \u001b[1m\u001b[92m[-3.14256595  7.73723833]\u001b[0m\t \u001b[1m\u001b[92m41.016820548272385\u001b[0m\t \u001b[1m\u001b[92m41.016820548272385\u001b[0m\t \u001b[1m\u001b[92m6.241349930322626\u001b[0m\t \u001b[1m\u001b[92m6.296306097134206\u001b[0m\n",
            "6  \t [10.          4.80907698]\t 551.6173400421978\t 41.016820548272385\t 6.3369138773323455\t 6.68214111383799\n",
            "7  \t [-8.62969127  7.47785944]\t 218.94766401530188\t 41.016820548272385\t 5.674949371733825\t 5.8600737841151\n",
            "\u001b[1m\u001b[92m8\u001b[0m\t \u001b[1m\u001b[92m[0.83371982 4.37923731]\u001b[0m\t \u001b[1m\u001b[92m7.815004631661804\u001b[0m\t \u001b[1m\u001b[92m7.815004631661804\u001b[0m\t \u001b[1m\u001b[92m5.266980356729515\u001b[0m\t \u001b[1m\u001b[92m5.235948556450502\u001b[0m\n",
            "9  \t [4.96070071 2.44335791]\t 62.347460835047315\t 7.815004631661804\t 5.691905096782676\t 5.904327025062733\n",
            "10 \t [-9.81062151 -2.3795047 ]\t 1194.2893556004992\t 7.815004631661804\t 5.72009789661805\t 5.506863222350243\n",
            "11 \t [ 4.29064708 -8.95984811]\t 454.486510790495\t 7.815004631661804\t 5.981924705620504\t 5.929191956367433\n",
            "12 \t [ 5.72777077 -4.29130283]\t 101.8016999738614\t 7.815004631661804\t 4.689025955280202\t 4.517435684656103\n",
            "13 \t [ 9.63090571 10.        ]\t 1100.7933867529819\t 7.815004631661804\t 6.221789053351369\t 6.299038155935185\n",
            "14 \t [-0.13836423  9.96619957]\t 185.67846877693066\t 7.815004631661804\t 6.138508089653307\t 6.221396561142611\n",
            "15 \t [-10.          3.1695937]\t 590.2195644500355\t 7.815004631661804\t 5.494839838007573\t 5.595151699846517\n",
            "16 \t [-1.82704972  2.79661596]\t 44.76769053970145\t 7.815004631661804\t 5.305544224512578\t 5.212013078093036\n",
            "17 \t [ 1.90121206 -5.30964061]\t 289.40156443990173\t 7.815004631661804\t 5.5747545874897035\t 5.721269574701357\n",
            "18 \t [-5.14195156 10.        ]\t 89.66855745403734\t 7.815004631661804\t 5.457733834373768\t 5.662604012341853\n",
            "19 \t [3.4380188  5.43289912]\t 106.76629959079308\t 7.815004631661804\t 5.670305973564244\t 5.52580629658238\n",
            "20 \t [ 5.13944797 -0.92908408]\t 32.74974302907321\t 7.815004631661804\t 5.963718530368425\t 5.609082814495754\n"
          ]
        }
      ],
      "source": [
        "### EXACT GP EI GRADIENTS\n",
        "\n",
        "np.random.seed(run_num_2)\n",
        "surrogate_exact_2 = dGaussianProcess(cov_func, optimize=opt)\n",
        "\n",
        "exact_2 = dGPGO(surrogate_exact_2, Acquisition_grad(util), objfunc, param)\n",
        "exact_2.run(init_evals=n_init, max_iter=iters)\n"
      ]
    },
    {
      "cell_type": "code",
      "execution_count": 36,
      "metadata": {
        "id": "XieJ158mIvlP",
        "colab": {
          "base_uri": "https://localhost:8080/"
        },
        "outputId": "1a444782-50a9-41a7-8cfc-1dd53735361b"
      },
      "outputs": [
        {
          "output_type": "stream",
          "name": "stdout",
          "text": [
            "Evaluation \t Proposed point \t  Current eval. \t  Best eval. \t        Exact EI: StdDev. x \t Approx EI: StdDev. x \n",
            "init\t [1.01595805 4.16295645]\t 6.912079999083602\t 6.912079999083602\t    \t    \n",
            "init\t [-4.18190522  0.2165521 ]\t 288.3871250813255\t 6.912079999083602\t    \t    \n",
            "init\t [7.85893909 7.92586178]\t 626.8352854305291\t 6.912079999083602\t    \t    \n",
            "init\t [-7.48829379 -5.85514244]\t 1353.6437998345716\t 6.912079999083602\t    \t    \n",
            "init\t [-8.97065593 -1.18380313]\t 918.3130335940459\t 6.912079999083602\t    \t    \n",
            "1  \t [ 5.60629529 -3.87272935]\t 88.9992584872525\t 6.912079999083602\t 4.717150437873575\t 4.717150437873575\n",
            "2  \t [-6.2437035   9.04202486]\t 94.75343105833329\t 6.912079999083602\t 5.758744089347273\t 5.823848717968371\n",
            "3  \t [10.         -0.01942304]\t 233.18611841795757\t 6.912079999083602\t 5.651105982559964\t 5.872783867271844\n",
            "4  \t [-0.42169096 -8.75441039]\t 834.625955715487\t 6.912079999083602\t 5.471652573706451\t 5.404587517939396\n",
            "5  \t [ 6.13487092 -9.59237706]\t 407.3924507645944\t 6.912079999083602\t 5.520035386613079\t 6.065222357054632\n",
            "6  \t [-9.21277105  4.93342182]\t 382.22930688812016\t 6.912079999083602\t 5.641687961962538\t 5.668617928953237\n",
            "7  \t [ 0.69850669 -0.70926041]\t 78.19409262167642\t 6.912079999083602\t 5.722105148184437\t 5.615283626164946\n",
            "8  \t [ -9.74200822 -10.        ]\t 2539.122557620937\t 6.912079999083602\t 6.048784589075852\t 5.690602427410508\n",
            "9  \t [-1.57247283  7.36334462]\t 38.48527983691483\t 6.912079999083602\t 5.207592705214347\t 5.149324828552942\n",
            "10 \t [5.25204843 3.19327887]\t 97.16101190690118\t 6.912079999083602\t 5.845900836341356\t 5.9114602846475\n",
            "11 \t [-4.67617006 -9.97354931]\t 1591.7800200785114\t 6.912079999083602\t 5.564158173734567\t 5.422649440865183\n",
            "12 \t [ 2.69591126 10.        ]\t 354.3516052512931\t 6.912079999083602\t 5.451326084025147\t 5.7520475414400645\n",
            "13 \t [-2.3721694  -4.23239816]\t 513.5065222716992\t 6.912079999083602\t 5.817666435254497\t 5.851978414206077\n",
            "14 \t [-3.71923574  4.36373123]\t 69.16859073421912\t 6.912079999083602\t 5.271001510960888\t 5.694840523543966\n",
            "15 \t [ 9.72201001 -4.45930027]\t 138.09236261155615\t 6.912079999083602\t 5.592711253616058\t 5.92462642689769\n",
            "16 \t [ 4.21614455 -0.24838769]\t 20.89976681971472\t 6.912079999083602\t 6.0015308776584275\t 6.093517354633562\n",
            "17 \t [ 2.24855242 -5.37745631]\t 275.02574013268594\t 6.912079999083602\t 5.287413325223375\t 5.5405482492488884\n",
            "18 \t [2.99049109 6.11429749]\t 117.89636945307747\t 6.912079999083602\t 6.280679371702528\t 6.708982024702872\n",
            "19 \t [9.18091888 4.0037394 ]\t 405.3667175536642\t 6.912079999083602\t 5.716527029981071\t 5.8917322400618115\n",
            "20 \t [-6.91356954  2.44822607]\t 349.5771975613333\t 6.912079999083602\t 4.990535895371955\t 5.535550109554184\n"
          ]
        }
      ],
      "source": [
        "### EXACT GP EI GRADIENTS\n",
        "\n",
        "np.random.seed(run_num_3)\n",
        "surrogate_exact_3 = dGaussianProcess(cov_func, optimize=opt)\n",
        "\n",
        "exact_3 = dGPGO(surrogate_exact_3, Acquisition_grad(util), objfunc, param)\n",
        "exact_3.run(init_evals=n_init, max_iter=iters)\n"
      ]
    },
    {
      "cell_type": "code",
      "execution_count": 37,
      "metadata": {
        "id": "PhLBVOIfIvol",
        "colab": {
          "base_uri": "https://localhost:8080/"
        },
        "outputId": "c0e39d8a-cb96-4e5a-981e-f9b5e8888fea"
      },
      "outputs": [
        {
          "output_type": "stream",
          "name": "stdout",
          "text": [
            "Evaluation \t Proposed point \t  Current eval. \t  Best eval. \t        Exact EI: StdDev. x \t Approx EI: StdDev. x \n",
            "init\t [9.34059678 0.94464498]\t 231.80709501196006\t 215.08077877054313\t    \t    \n",
            "init\t [9.4536872  4.29631987]\t 453.3958241553961\t 215.08077877054313\t    \t    \n",
            "init\t [ 3.95457649 -5.67821009]\t 215.08077877054313\t 215.08077877054313\t    \t    \n",
            "init\t [ 9.5254891 -9.8753949]\t 314.14647993232734\t 215.08077877054313\t    \t    \n",
            "init\t [-4.94035275 -1.30416935]\t 473.61459720928724\t 215.08077877054313\t    \t    \n",
            "1  \t [-10. -10.]\t 2594.0\t 215.08077877054313\t 5.034578933672668\t 4.854084731116943\n",
            "\u001b[1m\u001b[92m2\u001b[0m\t \u001b[1m\u001b[92m[0.20487259 8.53441386]\u001b[0m\t \u001b[1m\u001b[92m121.10530867890083\u001b[0m\t \u001b[1m\u001b[92m121.10530867890083\u001b[0m\t \u001b[1m\u001b[92m5.633678987915601\u001b[0m\t \u001b[1m\u001b[92m5.641403668486205\u001b[0m\n",
            "3  \t [-7.30494786  4.8008946 ]\t 241.4262155489889\t 121.10530867890083\t 6.479510547544394\t 6.577631534755348\n",
            "\u001b[1m\u001b[92m4\u001b[0m\t \u001b[1m\u001b[92m[0.97610237 1.99594982]\u001b[0m\t \u001b[1m\u001b[92m5.2353946583457915\u001b[0m\t \u001b[1m\u001b[92m5.2353946583457915\u001b[0m\t \u001b[1m\u001b[92m6.457260735542802\u001b[0m\t \u001b[1m\u001b[92m6.4005948543798326\u001b[0m\n",
            "5  \t [ -0.1835586 -10.       ]\t 975.0941489447889\t 5.2353946583457915\t 5.75467394051456\t 5.5829760929304\n",
            "6  \t [ 8.13164692 10.        ]\t 898.6741661444657\t 5.2353946583457915\t 6.061178911868081\t 6.119642519145991\n",
            "7  \t [-10.          -0.09446251]\t 925.1911916520894\t 5.2353946583457915\t 4.645838580296919\t 4.68490229001116\n",
            "8  \t [ 8.74731768 -4.06280844]\t 111.77840578703834\t 5.2353946583457915\t 5.587493641069585\t 5.505146950662811\n",
            "9  \t [-4.92171052  9.78001339]\t 83.98197237838527\t 5.2353946583457915\t 5.245142697346889\t 4.851349820480055\n",
            "10 \t [4.33584728 4.5265707 ]\t 108.03072984233611\t 5.2353946583457915\t 6.819335387801208\t 6.993870412008901\n",
            "11 \t [-5.01237974 -6.8667559 ]\t 1142.0893776130579\t 5.2353946583457915\t 6.4509178680465755\t 6.450730127827494\n",
            "12 \t [3.69315145 0.06337631]\t 16.113938351144867\t 5.2353946583457915\t 5.814070807726761\t 5.916018765765007\n",
            "13 \t [-2.41041725  4.41293108]\t 29.587123961518923\t 5.2353946583457915\t 5.690304890099058\t 5.570289421418863\n",
            "14 \t [-0.47229384 -4.60442914]\t 389.54259246639845\t 5.2353946583457915\t 5.135679444802615\t 5.29706561421136\n",
            "15 \t [3.84470503 9.67561781]\t 415.20240795850464\t 5.2353946583457915\t 5.844860101157124\t 6.138902459807013\n",
            "16 \t [-10.          -4.93495946]\t 1618.09434083798\t 5.2353946583457915\t 5.729859872486454\t 5.81742221531719\n",
            "17 \t [0.75233689 4.8278138 ]\t 13.38974507951601\t 5.2353946583457915\t 5.444367174486664\t 6.13089063343773\n",
            "18 \t [  4.72945603 -10.        ]\t 526.6807841621165\t 5.2353946583457915\t 5.691537036438258\t 5.7686498071005\n",
            "19 \t [ 0.45914845 -0.71122341]\t 86.38626544965372\t 5.2353946583457915\t 5.935941657678\t 6.110033887978677\n",
            "20 \t [-2.92412238  7.07073639]\t 32.05561389952461\t 5.2353946583457915\t 5.3350102903796675\t 5.266215297377921\n"
          ]
        }
      ],
      "source": [
        "### EXACT GP EI GRADIENTS\n",
        "\n",
        "np.random.seed(run_num_4)\n",
        "surrogate_exact_4 = dGaussianProcess(cov_func, optimize=opt)\n",
        "\n",
        "exact_4 = dGPGO(surrogate_exact_4, Acquisition_grad(util), objfunc, param)\n",
        "exact_4.run(init_evals=n_init, max_iter=iters)\n"
      ]
    },
    {
      "cell_type": "code",
      "execution_count": 38,
      "metadata": {
        "id": "arbiPyj2IvsJ",
        "colab": {
          "base_uri": "https://localhost:8080/"
        },
        "outputId": "8071f638-073a-4301-edd7-25375b0d65ca"
      },
      "outputs": [
        {
          "output_type": "stream",
          "name": "stdout",
          "text": [
            "Evaluation \t Proposed point \t  Current eval. \t  Best eval. \t        Exact EI: StdDev. x \t Approx EI: StdDev. x \n",
            "init\t [-5.56013658  7.41464612]\t 80.93700948496809\t 18.053107398965345\t    \t    \n",
            "init\t [-5.86561689  8.37221816]\t 84.91838238990834\t 18.053107398965345\t    \t    \n",
            "init\t [-0.23177622  2.23487726]\t 18.053107398965345\t 18.053107398965345\t    \t    \n",
            "init\t [5.31815713 0.36835976]\t 36.94936820355582\t 18.053107398965345\t    \t    \n",
            "init\t [-4.06398997 -6.24557543]\t 930.179306576812\t 18.053107398965345\t    \t    \n",
            "1  \t [9.27861058 9.20453431]\t 946.0775823883291\t 18.053107398965345\t 7.220443667786553\t 7.21198683753953\n",
            "2  \t [ 8.87080164 -7.76615146]\t 211.3917378701312\t 18.053107398965345\t 6.285934693703363\t 6.408933568746129\n",
            "3  \t [0.54357666 9.2242228 ]\t 172.01931432813362\t 18.053107398965345\t 6.22979128839377\t 6.215507824513133\n",
            "4  \t [ 2.49508934 -6.80638133]\t 374.71070519582787\t 18.053107398965345\t 6.247798045315539\t 6.132955058848621\n",
            "5  \t [-10. -10.]\t 2594.0\t 18.053107398965345\t 6.217821194038504\t 5.984454800673522\n",
            "6  \t [-8.62367183  0.50898962]\t 685.8822920729167\t 18.053107398965345\t 6.463778852330393\t 6.5312865547294585\n",
            "7  \t [10.         3.2123408]\t 420.5139809546748\t 18.053107398965345\t 5.007588427885599\t 5.404081476242214\n",
            "8  \t [10.         -2.41114733]\t 161.79996936574312\t 18.053107398965345\t 6.205496968396549\t 6.309253463334585\n",
            "9  \t [-0.07611084 -2.32875929]\t 193.64313576846757\t 18.053107398965345\t 5.602790820822475\t 5.3579330002225145\n",
            "10 \t [-10.         -4.5408345]\t 1552.9143599705944\t 18.053107398965345\t 5.626013961069033\t 5.643886295729065\n",
            "11 \t [-10.           5.65964937]\t 406.3195292140566\t 18.053107398965345\t 5.758844690943261\t 6.060509528992652\n",
            "12 \t [-3.82226743  0.28959214]\t 257.56536217728444\t 18.053107398965345\t 5.260127077364907\t 5.238710895042017\n",
            "13 \t [4.40918428 5.94573409]\t 181.83983656499498\t 18.053107398965345\t 5.931617959850209\t 5.849359767950583\n",
            "14 \t [ -0.98058483 -10.        ]\t 1070.594403256101\t 18.053107398965345\t 4.809421761263997\t 4.98098831932148\n",
            "15 \t [ 4.36071854 -3.02474012]\t 75.9799664806515\t 18.053107398965345\t 5.271314372252114\t 5.478477875275089\n",
            "16 \t [-6.54420644  4.28518154]\t 215.26831297485833\t 18.053107398965345\t 5.376932080656381\t 5.402117095856923\n",
            "\u001b[1m\u001b[92m17\u001b[0m\t \u001b[1m\u001b[92m[0.38754879 5.29009526]\u001b[0m\t \u001b[1m\u001b[92m16.8775909140947\u001b[0m\t \u001b[1m\u001b[92m16.8775909140947\u001b[0m\t \u001b[1m\u001b[92m5.368745623573499\u001b[0m\t \u001b[1m\u001b[92m5.380860969489272\u001b[0m\n",
            "18 \t [ 4.72760165 10.        ]\t 523.220762304799\t 16.8775909140947\t 5.773315985102332\t 6.002410351168291\n",
            "19 \t [-2.64443534  4.59443043]\t 32.63419774058379\t 16.8775909140947\t 5.181318205210493\t 5.116038589219888\n",
            "\u001b[1m\u001b[92m20\u001b[0m\t \u001b[1m\u001b[92m[2.85089434 2.21972797]\u001b[0m\t \u001b[1m\u001b[92m8.619562741411329\u001b[0m\t \u001b[1m\u001b[92m8.619562741411329\u001b[0m\t \u001b[1m\u001b[92m5.663417049255632\u001b[0m\t \u001b[1m\u001b[92m5.6942745143049915\u001b[0m\n"
          ]
        }
      ],
      "source": [
        "### EXACT GP EI GRADIENTS\n",
        "\n",
        "np.random.seed(run_num_5)\n",
        "surrogate_exact_5 = dGaussianProcess(cov_func, optimize=opt)\n",
        "\n",
        "exact_5 = dGPGO(surrogate_exact_5, Acquisition_grad(util), objfunc, param)\n",
        "exact_5.run(init_evals=n_init, max_iter=iters)\n"
      ]
    },
    {
      "cell_type": "code",
      "execution_count": 39,
      "metadata": {
        "id": "04KJCEm_Ivvf",
        "colab": {
          "base_uri": "https://localhost:8080/"
        },
        "outputId": "0c4b7ad6-83e5-46d7-d33f-fc0da7b79f50"
      },
      "outputs": [
        {
          "output_type": "stream",
          "name": "stdout",
          "text": [
            "Evaluation \t Proposed point \t  Current eval. \t  Best eval. \t        Exact EI: StdDev. x \t Approx EI: StdDev. x \n",
            "init\t [ 7.85720303 -3.36040389]\t 88.46320859272592\t 88.46320859272592\t    \t    \n",
            "init\t [ 6.42458246 -9.16606749]\t 359.2297742730208\t 88.46320859272592\t    \t    \n",
            "init\t [-7.8468664   1.90104128]\t 475.1525044254979\t 88.46320859272592\t    \t    \n",
            "init\t [ 0.59634724 -1.62385143]\t 122.64613090496854\t 88.46320859272592\t    \t    \n",
            "init\t [-3.29184301  2.45038864]\t 112.48071079498652\t 88.46320859272592\t    \t    \n",
            "1  \t [4.34664291 8.74699069]\t 375.00460929454164\t 88.46320859272592\t 5.745472400874282\t 6.112362811747245\n",
            "2  \t [-4.96771714 -9.17248997]\t 1500.0516160468933\t 88.46320859272592\t 6.230967263697959\t 5.971870672223122\n",
            "3  \t [9.57427611 1.74148842]\t 289.1837050334585\t 88.46320859272592\t 6.318872472870888\t 6.430974145486029\n",
            "\u001b[1m\u001b[92m4\u001b[0m\t \u001b[1m\u001b[92m[-5.6935267   8.60486508]\u001b[0m\t \u001b[1m\u001b[92m80.95854876086956\u001b[0m\t \u001b[1m\u001b[92m80.95854876086956\u001b[0m\t \u001b[1m\u001b[92m6.126838114010799\u001b[0m\t \u001b[1m\u001b[92m5.983343448378927\u001b[0m\n",
            "5  \t [10. 10.]\t 1154.0\t 80.95854876086956\t 5.821076969076757\t 5.890365767449788\n",
            "\u001b[1m\u001b[92m6\u001b[0m\t \u001b[1m\u001b[92m[3.81152968 2.95314753]\u001b[0m\t \u001b[1m\u001b[92m38.48065462689877\u001b[0m\t \u001b[1m\u001b[92m38.48065462689877\u001b[0m\t \u001b[1m\u001b[92m6.278627472420388\u001b[0m\t \u001b[1m\u001b[92m6.132519417176391\u001b[0m\n",
            "7  \t [-8.36917733 -4.79039395]\t 1326.2752690543525\t 38.48065462689877\t 6.2977944441618545\t 6.529662327668104\n",
            "8  \t [ 3.5673304  -4.92248886]\t 184.06790353861803\t 38.48065462689877\t 6.176772393235965\t 6.197653401440894\n",
            "\u001b[1m\u001b[92m9\u001b[0m\t \u001b[1m\u001b[92m[-1.22868843  4.34354782]\u001b[0m\t \u001b[1m\u001b[92m9.906068482791387\u001b[0m\t \u001b[1m\u001b[92m9.906068482791387\u001b[0m\t \u001b[1m\u001b[92m5.295370820766307\u001b[0m\t \u001b[1m\u001b[92m5.29404679705823\u001b[0m\n",
            "10 \t [-1.38629601 -7.30554564]\t 756.2300575131685\t 9.906068482791387\t 5.717695612466022\t 5.6986037089487525\n",
            "11 \t [-9.71836261  6.32941292]\t 344.3545973397409\t 9.906068482791387\t 6.438463191599783\t 6.791458430971795\n",
            "12 \t [-0.81750138 10.        ]\t 159.73647903423526\t 9.906068482791387\t 5.57236615014613\t 6.014242238998789\n",
            "13 \t [ 5.21347435 -0.8833208 ]\t 33.269551998031815\t 9.906068482791387\t 5.198290630385697\t 5.206718055189801\n",
            "14 \t [8.98591965 5.68870947]\t 526.7948994285579\t 9.906068482791387\t 5.910459700242458\t 5.879302034335614\n",
            "15 \t [-4.30938168 -1.87484158]\t 466.8272283989494\t 9.906068482791387\t 5.679263778454914\t 5.842686512580436\n",
            "16 \t [ 9.6842888  -6.36767431]\t 165.03825701586226\t 9.906068482791387\t 5.6356662229661065\t 6.068688751793502\n",
            "17 \t [-2.09943947  6.5326265 ]\t 22.836579066600052\t 9.906068482791387\t 6.434732265135559\t 6.418617373396624\n",
            "18 \t [-10. -10.]\t 2594.0\t 9.906068482791387\t 5.907693523605805\t 6.056660354555397\n",
            "19 \t [  2.12249884 -10.        ]\t 734.5601385431053\t 9.906068482791387\t 6.214986853219234\t 6.239520262757342\n",
            "20 \t [0.9323805  6.68465342]\t 65.91298074365649\t 9.906068482791387\t 5.908745740179427\t 5.848109504312171\n"
          ]
        }
      ],
      "source": [
        "### EXACT GP EI GRADIENTS\n",
        "\n",
        "np.random.seed(run_num_6)\n",
        "surrogate_exact_6 = dGaussianProcess(cov_func, optimize=opt)\n",
        "\n",
        "exact_6 = dGPGO(surrogate_exact_6, Acquisition_grad(util), objfunc, param)\n",
        "exact_6.run(init_evals=n_init, max_iter=iters)\n"
      ]
    },
    {
      "cell_type": "code",
      "execution_count": 40,
      "metadata": {
        "id": "tAOkme3CIvyO",
        "colab": {
          "base_uri": "https://localhost:8080/"
        },
        "outputId": "b44b6d62-dbcb-4269-e63f-bff5739e1207"
      },
      "outputs": [
        {
          "output_type": "stream",
          "name": "stdout",
          "text": [
            "Evaluation \t Proposed point \t  Current eval. \t  Best eval. \t        Exact EI: StdDev. x \t Approx EI: StdDev. x \n",
            "init\t [-8.47383421  5.59837584]\t 285.59280278210764\t 9.465549861932052\t    \t    \n",
            "init\t [-1.23181537  4.46930356]\t 9.465549861932052\t 9.465549861932052\t    \t    \n",
            "init\t [9.55979024 0.76991741]\t 238.50407296157155\t 9.465549861932052\t    \t    \n",
            "init\t [ 0.02240927 -8.55897733]\t 763.2277954619568\t 9.465549861932052\t    \t    \n",
            "init\t [-4.63122040e+00 -2.34998349e-03]\t 338.87889871968287\t 9.465549861932052\t    \t    \n",
            "1  \t [ 8.12846538 -6.39096762]\t 159.48095689562982\t 9.465549861932052\t 4.552360697942601\t 4.749648526683351\n",
            "2  \t [6.00958098 8.78222707]\t 524.3825358880508\t 9.465549861932052\t 6.046167828424476\t 6.067489099429687\n",
            "3  \t [-9.10467478 -9.8356699 ]\t 2371.896530806677\t 9.465549861932052\t 6.636164572111583\t 6.682716370189747\n",
            "4  \t [-7.86246511 -2.61028169]\t 947.860148457175\t 9.465549861932052\t 5.652279189468704\t 5.652279189468704\n",
            "5  \t [-3.25931441  9.70439311]\t 87.00428551859866\t 9.465549861932052\t 6.152003822019759\t 6.5417633881879595\n",
            "6  \t [ 3.74884259 -0.52566682]\t 22.40028569434172\t 9.465549861932052\t 6.19167479879316\t 6.321567197985951\n",
            "7  \t [-0.42921951 -2.9268989 ]\t 253.6207112897563\t 9.465549861932052\t 5.162731939079523\t 5.2946583733168096\n",
            "8  \t [-4.75584291 -6.53320556]\t 1059.0317495797674\t 9.465549861932052\t 6.15858623036191\t 6.424587460488673\n",
            "9  \t [3.77093893 4.01752218]\t 66.12320422244431\t 9.465549861932052\t 6.046727295890833\t 6.148102865480628\n",
            "10 \t [  4.99446428 -10.        ]\t 509.35443905847364\t 9.465549861932052\t 6.297428760595478\t 6.474957371915348\n",
            "11 \t [1.05563427 8.19962444]\t 137.51016605549484\t 9.465549861932052\t 5.769701918773782\t 5.926791895863465\n",
            "12 \t [-9.48547774 10.        ]\t 207.53946387748115\t 9.465549861932052\t 5.939465561828859\t 5.974035382723818\n",
            "13 \t [10.          5.76021058]\t 641.8289735270484\t 9.465549861932052\t 6.261026668121709\t 6.107350280192067\n",
            "14 \t [-0.14354791  1.43712043]\t 33.04929314174402\t 9.465549861932052\t 5.144892905445965\t 5.019144915882371\n",
            "15 \t [ 3.79157763 -4.91352863]\t 175.35436961749164\t 9.465549861932052\t 6.402589261563313\t 6.389490307674696\n",
            "16 \t [-4.83756634  3.4506174 ]\t 150.35711260728644\t 9.465549861932052\t 5.135739642915815\t 5.126666751674992\n",
            "17 \t [-1.50687812  6.17650295]\t 18.168198535019595\t 9.465549861932052\t 4.71197808701811\t 4.742737263777633\n",
            "18 \t [ 6.24038235 -0.14711984]\t 54.89296226843458\t 9.465549861932052\t 6.392929616762894\t 6.530498586107792\n",
            "19 \t [ 9.33188004 -2.94044973]\t 127.58492363219072\t 9.465549861932052\t 6.090956170678891\t 6.041931238974706\n",
            "20 \t [10. 10.]\t 1154.0\t 9.465549861932052\t 5.875834144804187\t 5.8533281552268885\n"
          ]
        }
      ],
      "source": [
        "### EXACT GP EI GRADIENTS\n",
        "\n",
        "np.random.seed(run_num_7)\n",
        "surrogate_exact_7 = dGaussianProcess(cov_func, optimize=opt)\n",
        "\n",
        "exact_7 = dGPGO(surrogate_exact_7, Acquisition_grad(util), objfunc, param)\n",
        "exact_7.run(init_evals=n_init, max_iter=iters)\n"
      ]
    },
    {
      "cell_type": "code",
      "execution_count": 41,
      "metadata": {
        "id": "69-J3EF4Iv1S",
        "colab": {
          "base_uri": "https://localhost:8080/"
        },
        "outputId": "ad0d1ffb-1fdd-40a9-a9d2-971ac8a14307"
      },
      "outputs": [
        {
          "output_type": "stream",
          "name": "stdout",
          "text": [
            "Evaluation \t Proposed point \t  Current eval. \t  Best eval. \t        Exact EI: StdDev. x \t Approx EI: StdDev. x \n",
            "init\t [7.46858806 9.37081326]\t 741.8307972128058\t 75.39770051777191\t    \t    \n",
            "init\t [7.3838908  0.61711383]\t 110.46436066448925\t 75.39770051777191\t    \t    \n",
            "init\t [-5.34543344 -9.77202391]\t 1665.297823285088\t 75.39770051777191\t    \t    \n",
            "init\t [-1.39062363 -1.9529728 ]\t 245.96065521704543\t 75.39770051777191\t    \t    \n",
            "init\t [ 0.45349343 -0.43216408]\t 75.39770051777191\t 75.39770051777191\t    \t    \n",
            "1  \t [ 9.69498875 -9.42535902]\t 285.65502563735186\t 75.39770051777191\t 6.0359928029535865\t 6.391575685707884\n",
            "2  \t [-9.83383251  5.77166529]\t 385.04821658618386\t 75.39770051777191\t 5.831962339167811\t 5.7197947467084225\n",
            "3  \t [-3.97152767  9.51013426]\t 76.56717653580492\t 75.39770051777191\t 5.128233752238179\t 5.388985545579816\n",
            "4  \t [-9.65586204 -5.07440767]\t 1582.0354694335447\t 75.39770051777191\t 6.186228696379374\t 6.062782174306013\n",
            "\u001b[1m\u001b[92m5\u001b[0m\t \u001b[1m\u001b[92m[1.10947828 5.5318851 ]\u001b[0m\t \u001b[1m\u001b[92m34.329629696240445\u001b[0m\t \u001b[1m\u001b[92m34.329629696240445\u001b[0m\t \u001b[1m\u001b[92m5.573863526005084\u001b[0m\t \u001b[1m\u001b[92m5.3061755873126115\u001b[0m\n",
            "6  \t [  3.77138647 -10.        ]\t 595.1787219875553\t 34.329629696240445\t 6.105803726761821\t 6.057978785637123\n",
            "7  \t [-4.32435872  3.5668711 ]\t 119.20489236572945\t 34.329629696240445\t 5.803378581408626\t 5.781285213125196\n",
            "8  \t [ 6.96253828 -4.76369187]\t 108.8033912463586\t 34.329629696240445\t 6.143456067614281\t 6.329822498700459\n",
            "9  \t [-1.94248256 -6.29429566]\t 693.9970997146276\t 34.329629696240445\t 5.41662842699394\t 5.757928157556609\n",
            "10 \t [-10.           0.47729697]\t 858.8180191039196\t 34.329629696240445\t 5.908419764877532\t 6.06392713820313\n",
            "11 \t [ 2.10222877 10.        ]\t 312.7993523021379\t 34.329629696240445\t 5.641799193048956\t 5.693537134923243\n",
            "12 \t [5.12922906 5.10622224]\t 177.01011663006707\t 34.329629696240445\t 5.25467642108262\t 5.1923631942277595\n",
            "13 \t [ 2.62846771 -4.74609709]\t 212.3554838321907\t 34.329629696240445\t 5.153458982240485\t 5.661009460461234\n",
            "14 \t [10.          4.72735364]\t 544.2882152747461\t 34.329629696240445\t 5.681375040597751\t 5.818453497950998\n",
            "15 \t [-10. -10.]\t 2594.0\t 34.329629696240445\t 5.287707006546243\t 5.325063286805835\n",
            "\u001b[1m\u001b[92m16\u001b[0m\t \u001b[1m\u001b[92m[3.72153826 1.08461862]\u001b[0m\t \u001b[1m\u001b[92m13.675012016957645\u001b[0m\t \u001b[1m\u001b[92m13.675012016957645\u001b[0m\t \u001b[1m\u001b[92m5.311529918875252\u001b[0m\t \u001b[1m\u001b[92m5.490234633861803\u001b[0m\n",
            "17 \t [10.         -2.24637607]\t 164.88323237892777\t 13.675012016957645\t 5.9849277216549925\t 6.289276388475027\n",
            "18 \t [-5.81440407 -1.90805957]\t 620.1897658220369\t 13.675012016957645\t 5.863427051180276\t 5.847256305512882\n",
            "19 \t [-5.85255077  6.63145967]\t 101.64666292088661\t 13.675012016957645\t 4.970322316885128\t 5.34064161162943\n",
            "\u001b[1m\u001b[92m20\u001b[0m\t \u001b[1m\u001b[92m[0.95694688 2.66534628]\u001b[0m\t \u001b[1m\u001b[92m0.6844965095354316\u001b[0m\t \u001b[1m\u001b[92m0.6844965095354316\u001b[0m\t \u001b[1m\u001b[92m5.208384162439358\u001b[0m\t \u001b[1m\u001b[92m5.247847770388974\u001b[0m\n"
          ]
        }
      ],
      "source": [
        "### EXACT GP EI GRADIENTS\n",
        "\n",
        "np.random.seed(run_num_8)\n",
        "surrogate_exact_8 = dGaussianProcess(cov_func, optimize=opt)\n",
        "\n",
        "exact_8 = dGPGO(surrogate_exact_8, Acquisition_grad(util), objfunc, param)\n",
        "exact_8.run(init_evals=n_init, max_iter=iters)\n"
      ]
    },
    {
      "cell_type": "code",
      "execution_count": 42,
      "metadata": {
        "id": "vonm9jyuIv4t",
        "colab": {
          "base_uri": "https://localhost:8080/"
        },
        "outputId": "ba3e212d-da13-4455-9baa-d7f52cd7cd12"
      },
      "outputs": [
        {
          "output_type": "stream",
          "name": "stdout",
          "text": [
            "Evaluation \t Proposed point \t  Current eval. \t  Best eval. \t        Exact EI: StdDev. x \t Approx EI: StdDev. x \n",
            "init\t [-9.79251692  0.03749184]\t 882.0577358281939\t 526.7340464177141\t    \t    \n",
            "init\t [-0.08453414 -7.32340942]\t 628.3137012668271\t 526.7340464177141\t    \t    \n",
            "init\t [-7.15777829 -5.62882649]\t 1268.1663931377898\t 526.7340464177141\t    \t    \n",
            "init\t [-1.62983639 -5.03797663]\t 526.7340464177141\t 526.7340464177141\t    \t    \n",
            "init\t [-8.31880698 -3.0900272 ]\t 1073.657277368356\t 526.7340464177141\t    \t    \n",
            "1  \t [6.0747954  9.66718496]\t 621.7013152481403\t 526.7340464177141\t 5.820595101171571\t 5.915904310451135\n",
            "\u001b[1m\u001b[92m2\u001b[0m\t \u001b[1m\u001b[92m[-3.94738717  9.4159639 ]\u001b[0m\t \u001b[1m\u001b[92m74.26810293779924\u001b[0m\t \u001b[1m\u001b[92m74.26810293779924\u001b[0m\t \u001b[1m\u001b[92m5.516513116520331\u001b[0m\t \u001b[1m\u001b[92m5.601510037142492\u001b[0m\n",
            "\u001b[1m\u001b[92m3\u001b[0m\t \u001b[1m\u001b[92m[4.07561386 0.71776482]\u001b[0m\t \u001b[1m\u001b[92m17.18579694471387\u001b[0m\t \u001b[1m\u001b[92m17.18579694471387\u001b[0m\t \u001b[1m\u001b[92m5.155762470978105\u001b[0m\t \u001b[1m\u001b[92m5.011927821325335\u001b[0m\n",
            "4  \t [ 8.66970884 -6.33785621]\t 157.1508550483091\t 17.18579694471387\t 5.538965137560448\t 5.628049451936151\n",
            "5  \t [10.         -0.56988411]\t 211.6887070171101\t 17.18579694471387\t 6.2054374239891334\t 6.066436099201974\n",
            "6  \t [1.30031429 5.82563878]\t 47.16075372183949\t 17.18579694471387\t 5.059641291179554\t 5.104391956727447\n",
            "7  \t [-3.96256605  2.18527837]\t 158.79904489313822\t 17.18579694471387\t 5.373649337948993\t 5.539693683885914\n",
            "8  \t [6.85704029 4.43654649]\t 249.15421944596199\t 17.18579694471387\t 5.1682896572407735\t 5.264965809532046\n",
            "9  \t [-8.00154905  5.62667085]\t 250.4835735774236\t 17.18579694471387\t 5.787899445474622\t 5.996157850019208\n",
            "10 \t [  4.79817464 -10.        ]\t 522.1204902281601\t 17.18579694471387\t 5.30755985496651\t 4.737092382696419\n",
            "11 \t [-10. -10.]\t 2594.0\t 17.18579694471387\t 5.8022014019556405\t 5.683226571916072\n",
            "12 \t [-0.03045754 -0.09337436]\t 78.6547655740649\t 17.18579694471387\t 5.936161664871336\t 5.616495897214899\n",
            "13 \t [ 3.11937074 -3.295643  ]\t 113.89185331850119\t 17.18579694471387\t 4.384951358170588\t 4.417229435911438\n",
            "14 \t [10.          7.48456248]\t 828.4450013437586\t 17.18579694471387\t 5.15737007974143\t 6.097253911672615\n",
            "15 \t [ 0.7616909 10.       ]\t 231.93864634201833\t 17.18579694471387\t 5.439422580820008\t 5.648742513371569\n",
            "16 \t [-2.37342716  5.85694467]\t 20.609160296932952\t 17.18579694471387\t 5.811427464574688\t 6.753266070718508\n",
            "17 \t [-7.47500986  9.51418513]\t 129.6397344563938\t 17.18579694471387\t 5.227146438045464\t 5.380546939840926\n",
            "18 \t [-5.30469053 -9.57356774]\t 1623.3982704972293\t 17.18579694471387\t 5.593565062670802\t 5.624914157220248\n",
            "19 \t [ 6.77294403 -2.74505099]\t 66.33560576241737\t 17.18579694471387\t 5.649235067572953\t 5.705606545768379\n",
            "20 \t [ 5.21986874 -6.24376891]\t 204.2128477837307\t 17.18579694471387\t 6.096174582577354\t 6.132039525795694\n"
          ]
        }
      ],
      "source": [
        "### EXACT GP EI GRADIENTS\n",
        "\n",
        "np.random.seed(run_num_9)\n",
        "surrogate_exact_9 = dGaussianProcess(cov_func, optimize=opt)\n",
        "\n",
        "exact_9 = dGPGO(surrogate_exact_9, Acquisition_grad(util), objfunc, param)\n",
        "exact_9.run(init_evals=n_init, max_iter=iters)\n"
      ]
    },
    {
      "cell_type": "code",
      "execution_count": 43,
      "metadata": {
        "id": "6amuYlUdIv7r",
        "colab": {
          "base_uri": "https://localhost:8080/"
        },
        "outputId": "ddb91e7e-10bf-4ea3-f55f-a6da1eef2c00"
      },
      "outputs": [
        {
          "output_type": "stream",
          "name": "stdout",
          "text": [
            "Evaluation \t Proposed point \t  Current eval. \t  Best eval. \t        Exact EI: StdDev. x \t Approx EI: StdDev. x \n",
            "init\t [ 5.42641287 -9.58496101]\t 444.22200604720473\t 59.96573403226766\t    \t    \n",
            "init\t [2.6729647  4.97607765]\t 59.96573403226766\t 59.96573403226766\t    \t    \n",
            "init\t [-0.02985975 -5.50406709]\t 436.96281238949786\t 59.96573403226766\t    \t    \n",
            "init\t [-6.0387427   5.21061424]\t 147.67401193720747\t 59.96573403226766\t    \t    \n",
            "init\t [-6.61778327 -8.23320372]\t 1605.6543289416081\t 59.96573403226766\t    \t    \n",
            "1  \t [ 7.13700605 -2.96694721]\t 73.38298230374753\t 59.96573403226766\t 5.732335046691093\t 5.807395956982085\n",
            "\u001b[1m\u001b[92m2\u001b[0m\t \u001b[1m\u001b[92m[2.11155129 0.26933255]\u001b[0m\t \u001b[1m\u001b[92m19.17823960765822\u001b[0m\t \u001b[1m\u001b[92m19.17823960765822\u001b[0m\t \u001b[1m\u001b[92m5.1169962545131655\u001b[0m\t \u001b[1m\u001b[92m5.148385824248928\u001b[0m\n",
            "3  \t [-7.90760511 -1.20789524]\t 785.117209324771\t 19.17823960765822\t 5.4469078872022925\t 5.613445031012105\n",
            "4  \t [-3.43700567  9.68512049]\t 84.59393620352427\t 19.17823960765822\t 6.363138008872442\t 6.56622982114081\n",
            "5  \t [9.49624999 3.61148749]\t 404.3637085933776\t 19.17823960765822\t 6.31213467968015\t 6.138029009175569\n",
            "6  \t [9.26715011 9.50785434]\t 983.9009660937372\t 19.17823960765822\t 6.346583075890733\t 6.117349219399521\n",
            "7  \t [ -1.68261002 -10.        ]\t 1159.973425236081\t 19.17823960765822\t 5.697609371895372\t 5.875459708567688\n",
            "8  \t [ 3.3152383 10.       ]\t 401.4549865135457\t 19.17823960765822\t 5.5250271545843574\t 5.422488961849015\n",
            "9  \t [-3.02024817e+00 -5.84165528e-04]\t 222.33424769520502\t 19.17823960765822\t 5.990376152787447\t 6.230018905237541\n",
            "10 \t [-10.           3.24558067]\t 583.690450081319\t 19.17823960765822\t 6.058023826604872\t 6.189710119207762\n",
            "11 \t [ 3.25104005 -3.34890179]\t 112.54561856427831\t 19.17823960765822\t 5.255709207603691\t 5.276456490784264\n",
            "12 \t [-4.20766004 -4.20183357]\t 694.9682572494246\t 19.17823960765822\t 6.1796328118825405\t 6.205656134763864\n",
            "13 \t [10.         -6.82804578]\t 180.33312321757245\t 19.17823960765822\t 5.910198076656302\t 6.060303118542561\n",
            "\u001b[1m\u001b[92m14\u001b[0m\t \u001b[1m\u001b[92m[-1.57360219  5.08423583]\u001b[0m\t \u001b[1m\u001b[92m11.925384931973372\u001b[0m\t \u001b[1m\u001b[92m11.925384931973372\u001b[0m\t \u001b[1m\u001b[92m5.545226352758175\u001b[0m\t \u001b[1m\u001b[92m5.73232138938383\u001b[0m\n",
            "15 \t [0.08357422 7.55262025]\t 74.45382816917936\t 11.925384931973372\t 5.9334954288911925\t 5.988733207935221\n",
            "16 \t [5.86581058 0.95001762]\t 59.59409409044342\t 11.925384931973372\t 6.110041385691941\t 6.023412147934895\n",
            "17 \t [5.74074853 6.23074296]\t 287.09110249064116\t 11.925384931973372\t 5.742471316013205\t 5.819637657789243\n",
            "18 \t [-10.          -5.17006829]\t 1657.7160885553092\t 11.925384931973372\t 5.445968074092361\t 5.43847329538517\n",
            "19 \t [-0.47360205  2.84496661]\t 12.805351964845734\t 11.925384931973372\t 4.941253480002949\t 4.868809327872099\n",
            "20 \t [ 3.29303775 -6.41358663]\t 296.68250082989573\t 11.925384931973372\t 6.323001507670679\t 6.509603830860744\n"
          ]
        }
      ],
      "source": [
        "### EXACT GP EI GRADIENTS\n",
        "\n",
        "np.random.seed(run_num_10)\n",
        "surrogate_exact_10 = dGaussianProcess(cov_func, optimize=opt)\n",
        "\n",
        "exact_10 = dGPGO(surrogate_exact_10, Acquisition_grad(util), objfunc, param)\n",
        "exact_10.run(init_evals=n_init, max_iter=iters)\n"
      ]
    },
    {
      "cell_type": "code",
      "execution_count": 44,
      "metadata": {
        "id": "VwbLIP9cIv-F",
        "colab": {
          "base_uri": "https://localhost:8080/"
        },
        "outputId": "ca038820-5f79-4ff4-863c-7514e3b5862e"
      },
      "outputs": [
        {
          "output_type": "stream",
          "name": "stdout",
          "text": [
            "Evaluation \t Proposed point \t  Current eval. \t  Best eval. \t        Exact EI: StdDev. x \t Approx EI: StdDev. x \n",
            "init\t [-6.39460622 -9.61049517]\t 1814.521116554919\t 5.483030044782123\t    \t    \n",
            "init\t [-0.73562947  4.49867858]\t 5.483030044782123\t 5.483030044782123\t    \t    \n",
            "init\t [-1.59592791 -0.29145804]\t 156.21779076814232\t 5.483030044782123\t    \t    \n",
            "init\t [-9.74438371 -0.25256785]\t 909.6795910034871\t 5.483030044782123\t    \t    \n",
            "init\t [8.83613305 7.01590179]\t 639.4153671589368\t 5.483030044782123\t    \t    \n",
            "1  \t [ 1.99086793 -8.88652641]\t 617.1328244256196\t 5.483030044782123\t 5.785150658748622\t 5.926104635191776\n",
            "2  \t [ 6.89877062 -3.95670624]\t 87.66816772781804\t 5.483030044782123\t 4.777868720975009\t 4.993276932795679\n",
            "3  \t [-0.30753936 10.        ]\t 180.32609179164137\t 5.483030044782123\t 6.2715032941364175\t 6.363971580791296\n",
            "4  \t [3.75873643 1.36612811]\t 15.341444936161384\t 5.483030044782123\t 5.156724547700536\t 5.249095069680919\n",
            "5  \t [-7.89611862  5.10567265]\t 268.0154091266694\t 5.483030044782123\t 5.463349564901163\t 5.567431113495279\n",
            "6  \t [10.        -1.0856443]\t 194.29605698624192\t 5.483030044782123\t 5.9394253663192655\t 5.982785835402182\n",
            "7  \t [-5.40920929 -3.96755805]\t 805.3764464201099\t 5.483030044782123\t 6.08710112584133\t 6.616561191532458\n",
            "8  \t [-5.7461464 10.       ]\t 94.76825784202715\t 5.483030044782123\t 5.644921979984494\t 6.062788016718308\n",
            "9  \t [3.8392123  5.68880157]\t 137.52652959733112\t 5.483030044782123\t 5.903921242162528\t 6.623022589672736\n",
            "10 \t [ 2.74397219 -4.29751177]\t 179.66232433374722\t 5.483030044782123\t 5.423857437360819\t 5.694321168262837\n",
            "11 \t [ 7.77557537 -9.3044783 ]\t 319.5836785603639\t 5.483030044782123\t 6.259531045977226\t 6.392162813248427\n",
            "12 \t [7.62553678 2.4419093 ]\t 191.46481057086442\t 5.483030044782123\t 5.894565297260883\t 5.794321430097923\n",
            "13 \t [ 5.15439851 10.        ]\t 563.9414512544907\t 5.483030044782123\t 5.633532342779665\t 5.883774228357235\n",
            "14 \t [-10.          -5.82652426]\t 1771.2717870457811\t 5.483030044782123\t 6.038870837293633\t 6.095477494221272\n",
            "15 \t [-5.33530103  1.54662804]\t 284.9020369107491\t 5.483030044782123\t 5.7217049398042095\t 6.055334416838447\n",
            "16 \t [-3.09686145  4.79121762]\t 41.256708209108574\t 5.483030044782123\t 5.909922983823978\t 5.968275551175972\n",
            "17 \t [-2.09687761 -8.36866475]\t 975.8448523523239\t 5.483030044782123\t 4.679861361431959\t 4.665782212216083\n",
            "18 \t [10.         -5.84038896]\t 159.25437978138606\t 5.483030044782123\t 5.488607701492259\t 5.722953812752306\n",
            "19 \t [-9.2983538   8.68968437]\t 223.38793479193083\t 5.483030044782123\t 5.2382026174207095\t 5.38678776780684\n",
            "20 \t [ 4.82647118 -1.05012742]\t 31.245502232005947\t 5.483030044782123\t 5.755007121419723\t 5.69785966149034\n"
          ]
        }
      ],
      "source": [
        "### EXACT GP EI GRADIENTS\n",
        "\n",
        "np.random.seed(run_num_11)\n",
        "surrogate_exact_11 = dGaussianProcess(cov_func, optimize=opt)\n",
        "\n",
        "exact_11 = dGPGO(surrogate_exact_11, Acquisition_grad(util), objfunc, param)\n",
        "exact_11.run(init_evals=n_init, max_iter=iters)\n"
      ]
    },
    {
      "cell_type": "code",
      "execution_count": 45,
      "metadata": {
        "id": "MlUNFjc-JTBY",
        "colab": {
          "base_uri": "https://localhost:8080/"
        },
        "outputId": "1942becf-9fe2-4c82-f1d8-b83e39b8bfe4"
      },
      "outputs": [
        {
          "output_type": "stream",
          "name": "stdout",
          "text": [
            "Evaluation \t Proposed point \t  Current eval. \t  Best eval. \t        Exact EI: StdDev. x \t Approx EI: StdDev. x \n",
            "init\t [-6.91674315  4.80099393]\t 215.5279554685742\t 189.34864056663108\t    \t    \n",
            "init\t [-4.7336997   0.67478787]\t 298.0661631184378\t 189.34864056663108\t    \t    \n",
            "init\t [-9.70850075  8.37494016]\t 257.3494442600599\t 189.34864056663108\t    \t    \n",
            "init\t [ 8.01429708 -9.33157145]\t 314.3616446198572\t 189.34864056663108\t    \t    \n",
            "init\t [ 9.13898673 -7.25581357]\t 189.34864056663108\t 189.34864056663108\t    \t    \n",
            "\u001b[1m\u001b[92m1\u001b[0m\t \u001b[1m\u001b[92m[4.66251955 4.05244711]\u001b[0m\t \u001b[1m\u001b[92m103.44533669968575\u001b[0m\t \u001b[1m\u001b[92m103.44533669968575\u001b[0m\t \u001b[1m\u001b[92m5.7760782586906005\u001b[0m\t \u001b[1m\u001b[92m5.435232398491137\u001b[0m\n",
            "2  \t [-3.75432006 -8.6025265 ]\t 1227.4078991356632\t 103.44533669968575\t 6.308466348224362\t 5.885159975876424\n",
            "3  \t [ 0.87886819 -1.89091226]\t 124.41803854882284\t 103.44533669968575\t 6.172322937586065\t 6.0374284836388705\n",
            "4  \t [0.62006076 8.91956245]\t 157.93527468112498\t 103.44533669968575\t 6.0816998331973995\t 6.115990148791569\n",
            "5  \t [ 8.15269188 -0.957369  ]\t 107.66212394211308\t 103.44533669968575\t 5.729589416182244\t 5.775513991519202\n",
            "6  \t [9.82022544 8.00293105]\t 867.1443168044325\t 103.44533669968575\t 6.3418790292472\t 6.194469157049843\n",
            "7  \t [-9.59027802 -2.9379488 ]\t 1240.14235115578\t 103.44533669968575\t 6.099291344473789\t 5.865756322150614\n",
            "8  \t [ 2.37504576 -8.10190143]\t 503.5898510121697\t 103.44533669968575\t 5.958718790620251\t 6.174541088099018\n",
            "9  \t [ -9.91106591 -10.        ]\t 2575.0076508635043\t 103.44533669968575\t 5.778080377010896\t 5.658106535810204\n",
            "\u001b[1m\u001b[92m10\u001b[0m\t \u001b[1m\u001b[92m[-0.65412412  3.95979921]\u001b[0m\t \u001b[1m\u001b[92m5.585689488255548\u001b[0m\t \u001b[1m\u001b[92m5.585689488255548\u001b[0m\t \u001b[1m\u001b[92m5.5837311055286545\u001b[0m\t \u001b[1m\u001b[92m5.688267808867157\u001b[0m\n",
            "11 \t [-4.52258073 10.        ]\t 88.2299687156005\t 5.585689488255548\t 5.873349301906768\t 5.926934612573905\n",
            "12 \t [ 5.1992279 10.       ]\t 568.3243372673783\t 5.585689488255548\t 5.409246798876016\t 5.586840329084406\n",
            "13 \t [10.          3.11753103]\t 413.5313020928104\t 5.585689488255548\t 5.641907610375502\t 5.62747669657977\n",
            "14 \t [-3.43407197 -3.71373213]\t 561.8293382275758\t 5.585689488255548\t 5.3900918265800835\t 5.450647833893343\n",
            "15 \t [-8.99141238  1.36839889]\t 642.8682136296285\t 5.585689488255548\t 6.092118567645628\t 5.976383007082358\n",
            "16 \t [ 5.64071466 -4.64964021]\t 116.2677599273751\t 5.585689488255548\t 5.8205891176726405\t 5.525009221047052\n",
            "17 \t [3.77426119 0.50008216]\t 14.247171481299613\t 5.585689488255548\t 5.0506944593059355\t 5.052148075409676\n",
            "18 \t [-3.52936566  6.71994261]\t 36.973788993405265\t 5.585689488255548\t 6.060632778234341\t 6.23497689891792\n",
            "19 \t [-1.63363005  2.4012808 ]\t 49.086798616747906\t 5.585689488255548\t 5.628959502278672\t 5.686395260669396\n",
            "20 \t [ 9.45705304 -3.71446083]\t 128.75224073893378\t 5.585689488255548\t 5.155409440209291\t 5.037676119708744\n"
          ]
        }
      ],
      "source": [
        "### EXACT GP EI GRADIENTS\n",
        "\n",
        "np.random.seed(run_num_12)\n",
        "surrogate_exact_12 = dGaussianProcess(cov_func, optimize=opt)\n",
        "\n",
        "exact_12 = dGPGO(surrogate_exact_12, Acquisition_grad(util), objfunc, param)\n",
        "exact_12.run(init_evals=n_init, max_iter=iters)\n"
      ]
    },
    {
      "cell_type": "code",
      "execution_count": 46,
      "metadata": {
        "id": "9BsKdU9eJTFL",
        "colab": {
          "base_uri": "https://localhost:8080/"
        },
        "outputId": "5f19d3a6-987c-4a9a-ba22-ac54ec0432dc"
      },
      "outputs": [
        {
          "output_type": "stream",
          "name": "stdout",
          "text": [
            "Evaluation \t Proposed point \t  Current eval. \t  Best eval. \t        Exact EI: StdDev. x \t Approx EI: StdDev. x \n",
            "init\t [ 5.55404821 -5.2491756 ]\t 143.4041188295949\t 48.27231948835582\t    \t    \n",
            "init\t [6.48557065 9.31498396]\t 626.9828646177026\t 48.27231948835582\t    \t    \n",
            "init\t [ 9.45202228 -0.93101505]\t 168.64758529203058\t 48.27231948835582\t    \t    \n",
            "init\t [2.18084926 5.51053029]\t 62.202299160666314\t 48.27231948835582\t    \t    \n",
            "init\t [2.8322669  4.44036459]\t 48.27231948835582\t 48.27231948835582\t    \t    \n",
            "1  \t [-8.69830926  2.59657998]\t 502.3996877395562\t 48.27231948835582\t 5.766998463243095\t 6.010939283490951\n",
            "2  \t [-5.9673185  -6.48540274]\t 1221.284536050755\t 48.27231948835582\t 6.147038382297057\t 6.410667112027696\n",
            "3  \t [ 1.27140344 -9.80309118]\t 792.165594807452\t 48.27231948835582\t 6.2561931721607476\t 6.27545921686131\n",
            "4  \t [-5.68974606  9.11900061]\t 83.49787226161779\t 48.27231948835582\t 6.067038381055474\t 6.492520627701627\n",
            "5  \t [-2.21552706 -1.50525724]\t 269.07899795768526\t 48.27231948835582\t 6.695776907148745\t 7.106685421338211\n",
            "6  \t [-0.36908482 10.        ]\t 177.703216477284\t 48.27231948835582\t 5.761765770768854\t 6.309925296685853\n",
            "7  \t [-10.          -2.68699355]\t 1267.1649107443818\t 48.27231948835582\t 6.068079438970988\t 6.191072723675924\n",
            "8  \t [10.         4.6707482]\t 539.2508683780023\t 48.27231948835582\t 6.055941940416357\t 6.5230020942649\n",
            "\u001b[1m\u001b[92m9\u001b[0m\t \u001b[1m\u001b[92m[-2.58005241  3.79331668]\u001b[0m\t \u001b[1m\u001b[92m44.50971072517452\u001b[0m\t \u001b[1m\u001b[92m44.50971072517452\u001b[0m\t \u001b[1m\u001b[92m5.494443873484025\u001b[0m\t \u001b[1m\u001b[92m5.503675450887529\u001b[0m\n",
            "10 \t [-10. -10.]\t 2594.0\t 44.50971072517452\t 5.574322611833346\t 5.786034921252367\n",
            "11 \t [ 9.9911475  -6.88085603]\t 181.63837430938605\t 44.50971072517452\t 6.050603063087863\t 6.735561368920515\n",
            "\u001b[1m\u001b[92m12\u001b[0m\t \u001b[1m\u001b[92m[ 4.46898362 -0.45203697]\u001b[0m\t \u001b[1m\u001b[92m23.951555347823295\u001b[0m\t \u001b[1m\u001b[92m23.951555347823295\u001b[0m\t \u001b[1m\u001b[92m5.72110551316297\u001b[0m\t \u001b[1m\u001b[92m5.660920940212062\u001b[0m\n",
            "13 \t [-9.76885533  7.24240121]\t 304.34462676402353\t 23.951555347823295\t 5.870597305188057\t 6.059555570440031\n",
            "14 \t [-1.19943975 -5.71583396]\t 557.3760978055361\t 23.951555347823295\t 5.026207560495438\t 4.97544594325559\n",
            "15 \t [6.46051846 2.29958496]\t 120.94218151320443\t 23.951555347823295\t 6.1249394531584525\t 6.299867222959683\n",
            "\u001b[1m\u001b[92m16\u001b[0m\t \u001b[1m\u001b[92m[1.06407406 1.15109452]\u001b[0m\t \u001b[1m\u001b[92m16.16504970346392\u001b[0m\t \u001b[1m\u001b[92m16.16504970346392\u001b[0m\t \u001b[1m\u001b[92m5.373899928712222\u001b[0m\t \u001b[1m\u001b[92m5.1944177458289165\u001b[0m\n",
            "17 \t [ 5.58243428 -9.14006717]\t 396.8511940160204\t 16.16504970346392\t 6.706080119250522\t 6.766381716792759\n",
            "18 \t [ 1.75325621 -2.47165232]\t 119.55942118677328\t 16.16504970346392\t 5.331874430624575\t 5.100643288976757\n",
            "19 \t [-2.75153942  7.07015672]\t 31.046291694315393\t 16.16504970346392\t 5.994106525737449\t 6.006683509069771\n",
            "20 \t [ -3.99809322 -10.        ]\t 1489.7063734711637\t 16.16504970346392\t 6.7157769823990545\t 6.644312072896892\n"
          ]
        }
      ],
      "source": [
        "### EXACT GP EI GRADIENTS\n",
        "\n",
        "np.random.seed(run_num_13)\n",
        "surrogate_exact_13 = dGaussianProcess(cov_func, optimize=opt)\n",
        "\n",
        "exact_13 = dGPGO(surrogate_exact_13, Acquisition_grad(util), objfunc, param)\n",
        "exact_13.run(init_evals=n_init, max_iter=iters)\n"
      ]
    },
    {
      "cell_type": "code",
      "execution_count": 47,
      "metadata": {
        "id": "k6GjFBr1JTJf",
        "colab": {
          "base_uri": "https://localhost:8080/"
        },
        "outputId": "cfcad3d4-37cd-4ad9-e9b6-797a4d0c8e97"
      },
      "outputs": [
        {
          "output_type": "stream",
          "name": "stdout",
          "text": [
            "Evaluation \t Proposed point \t  Current eval. \t  Best eval. \t        Exact EI: StdDev. x \t Approx EI: StdDev. x \n",
            "init\t [0.27886688 5.46330104]\t 18.728481209446468\t 18.728481209446468\t    \t    \n",
            "init\t [ 7.40855371 -9.83906103]\t 371.31674613664467\t 18.728481209446468\t    \t    \n",
            "init\t [-3.80528149  9.15207479]\t 68.19416312981014\t 18.728481209446468\t    \t    \n",
            "init\t [ 0.26233425 -3.6343115 ]\t 261.94243460125864\t 18.728481209446468\t    \t    \n",
            "init\t [ 0.78399875 -5.57490115]\t 382.6954465291845\t 18.728481209446468\t    \t    \n",
            "1  \t [ 9.82765998 -0.95725402]\t 188.47085669712428\t 18.728481209446468\t 5.933662205655635\t 5.989224966848049\n",
            "2  \t [-8.1477833   0.47898709]\t 634.6806661127735\t 18.728481209446468\t 6.19951445104324\t 6.244983495902671\n",
            "3  \t [8.67962677 6.0907395 ]\t 532.5324962468142\t 18.728481209446468\t 5.221011201126815\t 5.208776578076424\n",
            "4  \t [ -6.10893174 -10.        ]\t 1837.0134525514432\t 18.728481209446468\t 5.546310940908483\t 5.607284205211509\n",
            "5  \t [ 3.42495564 10.        ]\t 410.19956531272885\t 18.728481209446468\t 5.378782505885244\t 5.409961363739929\n",
            "6  \t [-9.02932172  6.71333273]\t 273.94300197708134\t 18.728481209446468\t 5.390668258821488\t 5.320734522364261\n",
            "7  \t [4.1704008  0.92605338]\t 19.161542818566897\t 18.728481209446468\t 4.960446374852462\t 4.680875916316322\n",
            "8  \t [-6.27639451 -4.43860758]\t 974.4039461652309\t 18.728481209446468\t 5.692511573041489\t 5.878137894708375\n",
            "9  \t [ 6.03573415 -4.5207542 ]\t 106.62166061513112\t 18.728481209446468\t 5.9449248447159855\t 5.794974035091527\n",
            "10 \t [-3.31252487  2.64425706]\t 105.89532136312995\t 18.728481209446468\t 5.3143602840926025\t 5.5159599656579825\n",
            "11 \t [ 9.88138503 -5.02299308]\t 146.1947649729683\t 18.728481209446468\t 5.835073675316084\t 5.832190992782955\n",
            "12 \t [0.57005141 0.68125101]\t 35.78280616758717\t 18.728481209446468\t 5.825367684168974\t 6.004334780227489\n",
            "13 \t [  2.45482128 -10.        ]\t 704.28111184104\t 18.728481209446468\t 5.837157442342635\t 6.1565885658122\n",
            "14 \t [4.14102997 4.93479718]\t 116.66559417747045\t 18.728481209446468\t 5.586929867414347\t 6.160153867588008\n",
            "15 \t [-9.99579386 -8.09651838]\t 2196.3212427550707\t 18.728481209446468\t 5.8289646923370455\t 5.830839451978626\n",
            "16 \t [-3.77367568 -0.94600558]\t 342.4903047481793\t 18.728481209446468\t 5.652222295441991\t 5.814309324417607\n",
            "17 \t [10. 10.]\t 1154.0\t 18.728481209446468\t 6.153187826177282\t 6.0425401183733864\n",
            "18 \t [-2.78041955 -7.19996892]\t 900.1359846595259\t 18.728481209446468\t 5.140596608569286\t 5.651807064845326\n",
            "19 \t [-0.22782832  8.40862199]\t 100.6768968908992\t 18.728481209446468\t 5.737399018980716\t 5.851298133335163\n",
            "20 \t [-4.55888701  5.7750181 ]\t 69.60165470402345\t 18.728481209446468\t 5.3739685679259255\t 5.489115793875776\n"
          ]
        }
      ],
      "source": [
        "### EXACT GP EI GRADIENTS\n",
        "\n",
        "np.random.seed(run_num_14)\n",
        "surrogate_exact_14 = dGaussianProcess(cov_func, optimize=opt)\n",
        "\n",
        "exact_14 = dGPGO(surrogate_exact_14, Acquisition_grad(util), objfunc, param)\n",
        "exact_14.run(init_evals=n_init, max_iter=iters)\n"
      ]
    },
    {
      "cell_type": "code",
      "execution_count": 48,
      "metadata": {
        "id": "dPS8WB3aJTN6",
        "colab": {
          "base_uri": "https://localhost:8080/"
        },
        "outputId": "f486659e-7860-41af-ca2a-558d2d82398e"
      },
      "outputs": [
        {
          "output_type": "stream",
          "name": "stdout",
          "text": [
            "Evaluation \t Proposed point \t  Current eval. \t  Best eval. \t        Exact EI: StdDev. x \t Approx EI: StdDev. x \n",
            "init\t [ 6.97635395 -6.4220815 ]\t 171.98457986923216\t 171.98457986923216\t    \t    \n",
            "init\t [-8.91273571 -2.76923108]\t 1115.2426864421157\t 171.98457986923216\t    \t    \n",
            "init\t [-4.49198143  0.6000045 ]\t 285.0550378664367\t 171.98457986923216\t    \t    \n",
            "init\t [-3.88162169 -3.91051282]\t 627.8031621427792\t 171.98457986923216\t    \t    \n",
            "init\t [-7.76517448 -5.00201972]\t 1265.415808453521\t 171.98457986923216\t    \t    \n",
            "\u001b[1m\u001b[92m1\u001b[0m\t \u001b[1m\u001b[92m[-1.08003705  9.49213271]\u001b[0m\t \u001b[1m\u001b[92m124.34069392980017\u001b[0m\t \u001b[1m\u001b[92m124.34069392980017\u001b[0m\t \u001b[1m\u001b[92m5.754026069332429\u001b[0m\t \u001b[1m\u001b[92m5.60465375175779\u001b[0m\n",
            "2  \t [-9.69991687  7.99454818]\t 269.63866043864715\t 124.34069392980017\t 6.260438518819442\t 6.195923997475768\n",
            "3  \t [9.38262114 9.37010501]\t 981.4182912387284\t 124.34069392980017\t 6.048373793400697\t 6.052223962799681\n",
            "4  \t [8.11447115 1.16048398]\t 165.30012546103967\t 124.34069392980017\t 5.414573978938111\t 5.008115843818987\n",
            "\u001b[1m\u001b[92m5\u001b[0m\t \u001b[1m\u001b[92m[ 1.85422145 -1.76537838]\u001b[0m\t \u001b[1m\u001b[92m84.62711978686384\u001b[0m\t \u001b[1m\u001b[92m84.62711978686384\u001b[0m\t \u001b[1m\u001b[92m6.168954026339016\u001b[0m\t \u001b[1m\u001b[92m6.093450789409377\u001b[0m\n",
            "6  \t [-0.62952455 -9.52479128]\t 960.9043734412453\t 84.62711978686384\t 6.334744123967674\t 6.457782782290149\n",
            "\u001b[1m\u001b[92m7\u001b[0m\t \u001b[1m\u001b[92m[1.83276135 4.00163464]\u001b[0m\t \u001b[1m\u001b[92m15.156797981267193\u001b[0m\t \u001b[1m\u001b[92m15.156797981267193\u001b[0m\t \u001b[1m\u001b[92m5.705942908543761\u001b[0m\t \u001b[1m\u001b[92m5.908657221184342\u001b[0m\n",
            "8  \t [-10. -10.]\t 2594.0\t 15.156797981267193\t 6.680659175260908\t 6.717516370900742\n",
            "9  \t [4.25341539 7.80359368]\t 293.32080476181983\t 15.156797981267193\t 5.068923310300872\t 5.247050519061919\n",
            "10 \t [-5.00509053  6.54856702]\t 72.7914711110551\t 15.156797981267193\t 5.56183646751573\t 5.849092841268424\n",
            "11 \t [-10.           2.68697361]\t 633.0362500409999\t 15.156797981267193\t 5.255502083631138\t 5.436712405066902\n",
            "12 \t [-1.66694148  3.97658918]\t 19.495466825606577\t 15.156797981267193\t 5.286708415636285\t 5.058977474016145\n",
            "13 \t [ 2.87689746 -6.55933087]\t 330.9826831282783\t 15.156797981267193\t 6.52595921493781\t 6.466832723817679\n",
            "14 \t [10.         -2.97094993]\t 153.35282037662637\t 15.156797981267193\t 5.886648492517339\t 6.374419963057024\n",
            "15 \t [5.12690462 3.74379675]\t 112.47950283314738\t 15.156797981267193\t 5.0461546639414845\t 4.720919738014602\n",
            "16 \t [ -5.19989157 -10.        ]\t 1681.9820000248135\t 15.156797981267193\t 6.11337401228027\t 6.10948733669841\n",
            "17 \t [10.          4.83178219]\t 553.6654480449125\t 15.156797981267193\t 5.390404326946081\t 5.336684642525528\n",
            "18 \t [ 5.47020539 -1.71398304]\t 42.44208252622349\t 15.156797981267193\t 5.858300290896949\t 5.995177494132246\n",
            "\u001b[1m\u001b[92m19\u001b[0m\t \u001b[1m\u001b[92m[2.20105392 1.43312851]\u001b[0m\t \u001b[1m\u001b[92m4.432906757514877\u001b[0m\t \u001b[1m\u001b[92m4.432906757514877\u001b[0m\t \u001b[1m\u001b[92m5.994985466948715\u001b[0m\t \u001b[1m\u001b[92m5.936616997691572\u001b[0m\n",
            "20 \t [  4.97285599 -10.        ]\t 510.7409009386887\t 4.432906757514877\t 5.390988795189984\t 5.692587723664566\n"
          ]
        }
      ],
      "source": [
        "### EXACT GP EI GRADIENTS\n",
        "\n",
        "np.random.seed(run_num_15)\n",
        "surrogate_exact_15 = dGaussianProcess(cov_func, optimize=opt)\n",
        "\n",
        "exact_15 = dGPGO(surrogate_exact_15, Acquisition_grad(util), objfunc, param)\n",
        "exact_15.run(init_evals=n_init, max_iter=iters)\n"
      ]
    },
    {
      "cell_type": "code",
      "execution_count": 49,
      "metadata": {
        "id": "lu8ki9XIQPPN",
        "colab": {
          "base_uri": "https://localhost:8080/"
        },
        "outputId": "1e73e62f-15d1-4abd-a5a5-2dd73fd911fb"
      },
      "outputs": [
        {
          "output_type": "stream",
          "name": "stdout",
          "text": [
            "Evaluation \t Proposed point \t  Current eval. \t  Best eval. \t        Exact EI: StdDev. x \t Approx EI: StdDev. x \n",
            "init\t [-5.53417842  0.46326683]\t 378.2562509858209\t 182.86095429406956\t    \t    \n",
            "init\t [ 1.01402913 -9.087961  ]\t 729.2383206820605\t 182.86095429406956\t    \t    \n",
            "init\t [-2.78542329 -5.53838117]\t 694.7380078426447\t 182.86095429406956\t    \t    \n",
            "init\t [ 3.77452324 -6.7253715 ]\t 295.53799633399245\t 182.86095429406956\t    \t    \n",
            "init\t [-8.59350266  8.8202172 ]\t 182.86095429406956\t 182.86095429406956\t    \t    \n",
            "1  \t [4.18505664 9.44091052]\t 422.2668893394708\t 182.86095429406956\t 6.229668795711202\t 6.181936645057876\n",
            "2  \t [9.22704387 3.02362854]\t 339.97919009954177\t 182.86095429406956\t 6.611060689119399\t 6.383383836082135\n",
            "\u001b[1m\u001b[92m3\u001b[0m\t \u001b[1m\u001b[92m[ 2.52801252 -0.08752176]\u001b[0m\t \u001b[1m\u001b[92m21.595889051827275\u001b[0m\t \u001b[1m\u001b[92m21.595889051827275\u001b[0m\t \u001b[1m\u001b[92m5.688199102439102\u001b[0m\t \u001b[1m\u001b[92m5.898485105934304\u001b[0m\n",
            "4  \t [-10.          -5.82158127]\t 1770.400632484148\t 21.595889051827275\t 6.043423746723257\t 6.3234501147217514\n",
            "\u001b[1m\u001b[92m5\u001b[0m\t \u001b[1m\u001b[92m[-2.22531694  5.42968011]\u001b[0m\t \u001b[1m\u001b[92m18.838166667692633\u001b[0m\t \u001b[1m\u001b[92m18.838166667692633\u001b[0m\t \u001b[1m\u001b[92m6.088710329380665\u001b[0m\t \u001b[1m\u001b[92m5.859958514451431\u001b[0m\n",
            "6  \t [ 9.72381018 -7.17701478]\t 188.12370842995196\t 18.838166667692633\t 6.878534409455149\t 6.934396066330783\n",
            "7  \t [ 7.05373114 -2.068694  ]\t 66.22051220649979\t 18.838166667692633\t 5.7591664194501035\t 5.671447823123144\n",
            "8  \t [10. 10.]\t 1154.0\t 18.838166667692633\t 5.556361351431029\t 5.396862430119104\n",
            "9  \t [-0.54636836  9.11369381]\t 123.21035421151706\t 18.838166667692633\t 6.082539244665429\t 6.232984347870596\n",
            "10 \t [-10.          -0.70291581]\t 999.414518268564\t 18.838166667692633\t 5.911914287367177\t 6.023403403038544\n",
            "11 \t [ -6.07707146 -10.        ]\t 1831.440134731367\t 18.838166667692633\t 6.288527282487256\t 6.292837367102421\n",
            "12 \t [4.02434336 4.22960807]\t 83.04299976205044\t 18.838166667692633\t 6.064732434733472\t 6.071922809308842\n",
            "13 \t [-1.18423591 -0.25129667]\t 133.52187422612374\t 18.838166667692633\t 4.950652682153142\t 4.718163443951528\n",
            "14 \t [-7.38508402  4.57619513]\t 258.23789643072007\t 18.838166667692633\t 4.958252616584022\t 4.873416249909212\n",
            "\u001b[1m\u001b[92m15\u001b[0m\t \u001b[1m\u001b[92m[0.47376095 3.24335431]\u001b[0m\t \u001b[1m\u001b[92m0.6562439697523799\u001b[0m\t \u001b[1m\u001b[92m0.6562439697523799\u001b[0m\t \u001b[1m\u001b[92m5.449281313876168\u001b[0m\t \u001b[1m\u001b[92m5.27669426274089\u001b[0m\n",
            "16 \t [ 2.05702316 -3.33647367]\t 152.75858766173576\t 0.6562439697523799\t 5.238873561892818\t 5.885048550399793\n",
            "17 \t [10.         -0.84334542]\t 202.1356499982625\t 0.6562439697523799\t 6.122069167140245\t 6.322986377350671\n",
            "18 \t [-4.49596618  9.80450609]\t 83.35605427981818\t 0.6562439697523799\t 5.529824500951681\t 5.771960972494857\n",
            "19 \t [5.69247184 1.02999915]\t 55.547588464171234\t 0.6562439697523799\t 5.186158147059674\t 5.159259450884664\n",
            "20 \t [  5.76768047 -10.        ]\t 462.81511632906097\t 0.6562439697523799\t 6.153189626204929\t 6.121909309055516\n"
          ]
        }
      ],
      "source": [
        "### EXACT GP EI GRADIENTS\n",
        "\n",
        "np.random.seed(run_num_16)\n",
        "surrogate_exact_16 = dGaussianProcess(cov_func, optimize=opt)\n",
        "\n",
        "exact_16 = dGPGO(surrogate_exact_16, Acquisition_grad(util), objfunc, param)\n",
        "exact_16.run(init_evals=n_init, max_iter=iters)\n"
      ]
    },
    {
      "cell_type": "code",
      "execution_count": 50,
      "metadata": {
        "id": "yU2SflSsJTUs",
        "colab": {
          "base_uri": "https://localhost:8080/"
        },
        "outputId": "6963ef44-6fd7-4be7-ae7e-4fc2a4bc2a03"
      },
      "outputs": [
        {
          "output_type": "stream",
          "name": "stdout",
          "text": [
            "Evaluation \t Proposed point \t  Current eval. \t  Best eval. \t        Exact EI: StdDev. x \t Approx EI: StdDev. x \n",
            "init\t [-4.10669995  0.61173511]\t 256.4801849765532\t 5.553508838684786\t    \t    \n",
            "init\t [-6.16958426 -8.64199284]\t 1602.4406672130797\t 5.553508838684786\t    \t    \n",
            "init\t [5.7397092  3.12667044]\t 117.20749172761734\t 5.553508838684786\t    \t    \n",
            "init\t [2.75041792 1.51205788]\t 5.553508838684786\t 5.553508838684786\t    \t    \n",
            "init\t [-9.21874168 -2.84372791]\t 1170.583554210921\t 5.553508838684786\t    \t    \n",
            "1  \t [-8.64042543  9.21575513]\t 178.4868811929342\t 5.553508838684786\t 6.554453658543142\t 6.8067471905015\n",
            "2  \t [ 4.54825031 -8.71744454]\t 416.8315243674168\t 5.553508838684786\t 5.72023066572475\t 5.871058189575279\n",
            "3  \t [9.12376544 9.73620918]\t 994.6474624709882\t 5.553508838684786\t 5.783743219853422\t 6.057795699612523\n",
            "4  \t [-0.05385845  7.96254756]\t 86.84889828641981\t 5.553508838684786\t 6.405816154442385\t 6.602773130761394\n",
            "5  \t [ 9.06636127 -2.74323799]\t 119.63857371103694\t 5.553508838684786\t 5.406298430757683\t 5.878988584125465\n",
            "6  \t [ 1.42145796 -3.54967033]\t 193.29575528077314\t 5.553508838684786\t 5.856290691089125\t 5.587427485282962\n",
            "7  \t [-10.          3.4087437]\t 569.865911876241\t 5.553508838684786\t 5.065271707231749\t 5.45424561068149\n",
            "8  \t [-1.02859872 -9.21677652]\t 965.0877045352898\t 5.553508838684786\t 6.180219230865839\t 6.1822588565632355\n",
            "9  \t [10.         -8.42312294]\t 234.9738366643099\t 5.553508838684786\t 6.4840939527340655\t 6.526386641447554\n",
            "10 \t [-4.24096855  5.58534988]\t 62.36102729888384\t 5.553508838684786\t 5.112571607030575\t 4.879197254162965\n",
            "11 \t [-10. -10.]\t 2594.0\t 5.553508838684786\t 6.344132691036086\t 6.068804816497183\n",
            "12 \t [-3.82684397 -4.05917448]\t 638.2401056300042\t 5.553508838684786\t 5.536642311872286\t 5.529790499614717\n",
            "\u001b[1m\u001b[92m13\u001b[0m\t \u001b[1m\u001b[92m[-0.25251386  3.41551526]\u001b[0m\t \u001b[1m\u001b[92m4.543710515067977\u001b[0m\t \u001b[1m\u001b[92m4.543710515067977\u001b[0m\t \u001b[1m\u001b[92m4.909384420228724\u001b[0m\t \u001b[1m\u001b[92m5.167453177392469\u001b[0m\n",
            "14 \t [10.          1.89325472]\t 331.438765128231\t 4.543710515067977\t 5.470815034246786\t 5.594986119812877\n",
            "15 \t [4.21236994 9.13686033]\t 397.61280142659734\t 4.543710515067977\t 5.567290626442465\t 5.704497501430012\n",
            "16 \t [ 5.27080293 -2.27100433]\t 50.02485574693754\t 4.543710515067977\t 4.9148834097271\t 5.063956355258299\n",
            "17 \t [-0.58210253  0.39837638]\t 79.2857516912274\t 4.543710515067977\t 5.298471634301479\t 5.429930507453867\n",
            "18 \t [-3.50971245  9.37177429]\t 74.80611109579303\t 4.543710515067977\t 5.73750475486199\t 5.725460692678286\n",
            "19 \t [2.42916194 4.37400788]\t 35.36144574152133\t 4.543710515067977\t 5.427854279601999\t 5.4000673733289455\n",
            "20 \t [9.66284225 5.68587878]\t 597.432656899278\t 4.543710515067977\t 5.943975066215285\t 5.953730191849232\n"
          ]
        }
      ],
      "source": [
        "### EXACT GP EI GRADIENTS\n",
        "\n",
        "np.random.seed(run_num_17)\n",
        "surrogate_exact_17 = dGaussianProcess(cov_func, optimize=opt)\n",
        "\n",
        "exact_17 = dGPGO(surrogate_exact_17, Acquisition_grad(util), objfunc, param)\n",
        "exact_17.run(init_evals=n_init, max_iter=iters)\n"
      ]
    },
    {
      "cell_type": "code",
      "execution_count": 51,
      "metadata": {
        "id": "eVEhyZ9BQS-1",
        "colab": {
          "base_uri": "https://localhost:8080/"
        },
        "outputId": "3e43a952-678c-4e9d-ce0c-c8afa645ff83"
      },
      "outputs": [
        {
          "output_type": "stream",
          "name": "stdout",
          "text": [
            "Evaluation \t Proposed point \t  Current eval. \t  Best eval. \t        Exact EI: StdDev. x \t Approx EI: StdDev. x \n",
            "init\t [3.00748483 0.10906747]\t 15.509405515253864\t 15.509405515253864\t    \t    \n",
            "init\t [ 7.57202942 -6.36319549]\t 162.0234327224751\t 15.509405515253864\t    \t    \n",
            "init\t [7.04466137 5.00272572]\t 299.59059770472754\t 15.509405515253864\t    \t    \n",
            "init\t [3.32203335 9.75790897]\t 380.8425822546991\t 15.509405515253864\t    \t    \n",
            "init\t [-4.86063155 -9.43388149]\t 1527.7052410059514\t 15.509405515253864\t    \t    \n",
            "1  \t [-6.1664519   4.28513481]\t 191.3691670751314\t 15.509405515253864\t 6.252592403603096\t 6.331270706589588\n",
            "2  \t [-6.07110106 -2.27098711]\t 687.0923366704285\t 15.509405515253864\t 5.21641234204312\t 5.415661713553996\n",
            "3  \t [-9.84572665 -7.72302303]\t 2093.4568612086086\t 15.509405515253864\t 5.536439716680577\t 5.542603767097451\n",
            "4  \t [ 0.7883291  -4.97781851]\t 331.9613401385774\t 15.509405515253864\t 5.933917971672022\t 6.413749532300645\n",
            "5  \t [ 4.59940623 -9.59713586]\t 495.48011107282537\t 15.509405515253864\t 5.392550976342419\t 5.366836325964749\n",
            "\u001b[1m\u001b[92m6\u001b[0m\t \u001b[1m\u001b[92m[-0.4236852  5.1602576]\u001b[0m\t \u001b[1m\u001b[92m8.863748044576141\u001b[0m\t \u001b[1m\u001b[92m8.863748044576141\u001b[0m\t \u001b[1m\u001b[92m5.789232191139917\u001b[0m\t \u001b[1m\u001b[92m5.960031835628488\u001b[0m\n",
            "7  \t [10. 10.]\t 1154.0\t 8.863748044576141\t 6.198837751517962\t 6.892290673960882\n",
            "8  \t [-0.90541731 -0.71069881]\t 143.5629415422624\t 8.863748044576141\t 5.61732469633343\t 5.857193817661972\n",
            "9  \t [10.         -0.95269955]\t 198.52480117721683\t 8.863748044576141\t 5.899502881611814\t 6.291974309399234\n",
            "10 \t [-7.46773283 10.        ]\t 129.31945801620452\t 8.863748044576141\t 6.319301672218496\t 6.94789371916595\n",
            "11 \t [-10.           1.15901097]\t 783.9532372025292\t 8.863748044576141\t 5.876324431077704\t 6.347064727800992\n",
            "12 \t [-1.82858297  9.13997362]\t 89.56138987080527\t 8.863748044576141\t 5.2945756234579635\t 5.426637328152351\n",
            "13 \t [ 5.92910446 -2.59221214]\t 57.32775449566954\t 8.863748044576141\t 5.765067195013404\t 5.8305257337549214\n",
            "14 \t [6.77707086 0.82780535]\t 90.07350724336953\t 8.863748044576141\t 5.171032777087826\t 5.336245074983153\n",
            "15 \t [3.87157936 3.29377057]\t 48.410029900282\t 8.863748044576141\t 5.769138631601391\t 5.6357982307061425\n",
            "16 \t [-10.           6.41273769]\t 362.9129758929628\t 8.863748044576141\t 4.958386974467779\t 5.210399604906059\n",
            "17 \t [-1.64928455  2.72907275]\t 41.20265798662898\t 8.863748044576141\t 6.6836036782251265\t 6.73131609577115\n",
            "18 \t [-0.04752205 -9.85479184]\t 939.4403020336301\t 8.863748044576141\t 6.005520005709326\t 6.271715761645957\n",
            "19 \t [10.          3.92899203]\t 476.2025572117785\t 8.863748044576141\t 5.425951695371251\t 5.474947189640176\n",
            "20 \t [-4.90381872  7.70200458]\t 62.74135144092334\t 8.863748044576141\t 5.741543467347343\t 5.700200869630465\n"
          ]
        }
      ],
      "source": [
        "### EXACT GP EI GRADIENTS\n",
        "\n",
        "np.random.seed(run_num_18)\n",
        "surrogate_exact_18 = dGaussianProcess(cov_func, optimize=opt)\n",
        "\n",
        "exact_18 = dGPGO(surrogate_exact_18, Acquisition_grad(util), objfunc, param)\n",
        "exact_18.run(init_evals=n_init, max_iter=iters)\n"
      ]
    },
    {
      "cell_type": "code",
      "execution_count": 52,
      "metadata": {
        "id": "B6gTz1ojQUxn",
        "colab": {
          "base_uri": "https://localhost:8080/"
        },
        "outputId": "75cf06d4-ef0f-4501-daa7-c5e4bc5cad38"
      },
      "outputs": [
        {
          "output_type": "stream",
          "name": "stdout",
          "text": [
            "Evaluation \t Proposed point \t  Current eval. \t  Best eval. \t        Exact EI: StdDev. x \t Approx EI: StdDev. x \n",
            "init\t [-8.04932797  5.22499433]\t 273.1270544592675\t 139.9227861892117\t    \t    \n",
            "init\t [-5.06124054 -7.23736625]\t 1204.1206373978957\t 139.9227861892117\t    \t    \n",
            "init\t [-3.37106873 -8.3400087 ]\t 1135.0538557997047\t 139.9227861892117\t    \t    \n",
            "init\t [3.43954163 6.13187596]\t 139.9227861892117\t 139.9227861892117\t    \t    \n",
            "init\t [9.65483829 2.7132147 ]\t 355.08571481298065\t 139.9227861892117\t    \t    \n",
            "1  \t [ 9.42739537 -7.28680447]\t 190.6689475777885\t 139.9227861892117\t 6.638163501680065\t 6.812701681347482\n",
            "\u001b[1m\u001b[92m2\u001b[0m\t \u001b[1m\u001b[92m[ 4.81772344 -2.77685984]\u001b[0m\t \u001b[1m\u001b[92m63.29998354966632\u001b[0m\t \u001b[1m\u001b[92m63.29998354966632\u001b[0m\t \u001b[1m\u001b[92m6.377081881165755\u001b[0m\t \u001b[1m\u001b[92m6.219294001728577\u001b[0m\n",
            "3  \t [-10.          -0.53692261]\t 978.7982971450366\t 63.29998354966632\t 5.402328403813305\t 5.279455346826996\n",
            "4  \t [8.78383037 9.07140371]\t 865.3200043326287\t 63.29998354966632\t 6.043190330889641\t 5.8098307438266374\n",
            "\u001b[1m\u001b[92m5\u001b[0m\t \u001b[1m\u001b[92m[-2.69333527  7.93798122]\u001b[0m\t \u001b[1m\u001b[92m44.22095814180932\u001b[0m\t \u001b[1m\u001b[92m44.22095814180932\u001b[0m\t \u001b[1m\u001b[92m5.090517041595785\u001b[0m\t \u001b[1m\u001b[92m5.426618370210553\u001b[0m\n",
            "6  \t [-0.7867522 -0.2386478]\t 114.69990365316548\t 44.22095814180932\t 6.109717010448794\t 5.75301847736781\n",
            "7  \t [ 1.89431803 -6.77870403]\t 412.152116164418\t 44.22095814180932\t 5.496414523686932\t 5.666429888706329\n",
            "8  \t [-10. -10.]\t 2594.0\t 44.22095814180932\t 5.827666754930189\t 5.393682193172454\n",
            "\u001b[1m\u001b[92m9\u001b[0m\t \u001b[1m\u001b[92m[3.62235553 1.55189734]\u001b[0m\t \u001b[1m\u001b[92m14.489229024609845\u001b[0m\t \u001b[1m\u001b[92m14.489229024609845\u001b[0m\t \u001b[1m\u001b[92m5.596096611525412\u001b[0m\t \u001b[1m\u001b[92m5.749597958825408\u001b[0m\n",
            "10 \t [10.        -2.3608575]\t 162.71222568092176\t 14.489229024609845\t 6.093008263000188\t 6.516884473897828\n",
            "11 \t [-4.61613445 -2.39346507]\t 545.4755588172814\t 14.489229024609845\t 4.927413233243404\t 4.920851090606354\n",
            "12 \t [  5.53936152 -10.        ]\t 475.93541705250715\t 14.489229024609845\t 5.478405373381632\t 5.351884069528802\n",
            "13 \t [-3.60837506  3.58807408]\t 86.23423144876887\t 14.489229024609845\t 5.6708049238092\t 5.724244471697037\n",
            "14 \t [ 1.14308021 10.        ]\t 253.1148515460087\t 14.489229024609845\t 5.254206575405434\t 5.988293092914611\n",
            "15 \t [-7.02325672 10.        ]\t 117.56086553595142\t 14.489229024609845\t 5.758756645053261\t 5.840903717839032\n",
            "\u001b[1m\u001b[92m16\u001b[0m\t \u001b[1m\u001b[92m[-0.11903225  4.73573102]\u001b[0m\t \u001b[1m\u001b[92m5.7862648783578425\u001b[0m\t \u001b[1m\u001b[92m5.7862648783578425\u001b[0m\t \u001b[1m\u001b[92m5.321745881668412\u001b[0m\t \u001b[1m\u001b[92m5.395881852702078\u001b[0m\n",
            "17 \t [6.81945918 5.43972467]\t 312.6748334387201\t 5.7862648783578425\t 5.549347767039955\t 5.290116007073484\n",
            "18 \t [-9.19378707 -5.21397938]\t 1526.7662153058507\t 5.7862648783578425\t 5.753532025539663\t 5.859597967239304\n",
            "19 \t [-0.89851855 -4.04763402]\t 373.4081014630114\t 5.7862648783578425\t 4.920724444903392\t 4.947027790168597\n",
            "20 \t [-6.13573115  1.2435417 ]\t 370.28793776066976\t 5.7862648783578425\t 5.493301078707507\t 5.607508863009564\n"
          ]
        }
      ],
      "source": [
        "### EXACT GP EI GRADIENTS\n",
        "\n",
        "np.random.seed(run_num_19)\n",
        "surrogate_exact_19 = dGaussianProcess(cov_func, optimize=opt)\n",
        "\n",
        "exact_19 = dGPGO(surrogate_exact_19, Acquisition_grad(util), objfunc, param)\n",
        "exact_19.run(init_evals=n_init, max_iter=iters)\n"
      ]
    },
    {
      "cell_type": "code",
      "execution_count": 53,
      "metadata": {
        "id": "aw3xvSryIwDi",
        "colab": {
          "base_uri": "https://localhost:8080/"
        },
        "outputId": "b643e31b-d539-48b7-9592-dcdf7d43d043"
      },
      "outputs": [
        {
          "output_type": "stream",
          "name": "stdout",
          "text": [
            "Evaluation \t Proposed point \t  Current eval. \t  Best eval. \t        Exact EI: StdDev. x \t Approx EI: StdDev. x \n",
            "init\t [1.76261602 7.95427456]\t 155.85777119682857\t 155.85777119682857\t    \t    \n",
            "init\t [7.83061459 6.31674955]\t 469.53411882784934\t 155.85777119682857\t    \t    \n",
            "init\t [-9.28220829  3.83515164]\t 463.4088031056881\t 155.85777119682857\t    \t    \n",
            "init\t [-2.42638116  0.37021891]\t 165.36424127801376\t 155.85777119682857\t    \t    \n",
            "init\t [ 3.15902931 -6.12299564]\t 281.877765303078\t 155.85777119682857\t    \t    \n",
            "\u001b[1m\u001b[92m1\u001b[0m\t \u001b[1m\u001b[92m[ 6.78995846 -0.77921207]\u001b[0m\t \u001b[1m\u001b[92m63.97846693500219\u001b[0m\t \u001b[1m\u001b[92m63.97846693500219\u001b[0m\t \u001b[1m\u001b[92m4.345984368378012\u001b[0m\t \u001b[1m\u001b[92m4.276595491552684\u001b[0m\n",
            "2  \t [-7.8478547 -7.6599646]\t 1714.1394331594895\t 63.97846693500219\t 5.624871462478811\t 5.939480955127336\n",
            "3  \t [-4.56172279  9.14761084]\t 70.09893873088411\t 63.97846693500219\t 5.564210908133837\t 6.018881081837893\n",
            "4  \t [ 9.03563127 -5.57761678]\t 139.32187278779242\t 63.97846693500219\t 5.9839718654324265\t 6.026270283281196\n",
            "5  \t [-2.32623542 -5.64051637]\t 658.5349593563641\t 63.97846693500219\t 5.554738311512026\t 5.993781713359159\n",
            "\u001b[1m\u001b[92m6\u001b[0m\t \u001b[1m\u001b[92m[2.71497326 2.49849668]\u001b[0m\t \u001b[1m\u001b[92m9.082676055031467\u001b[0m\t \u001b[1m\u001b[92m9.082676055031467\u001b[0m\t \u001b[1m\u001b[92m6.495469638922182\u001b[0m\t \u001b[1m\u001b[92m6.72053967302313\u001b[0m\n",
            "7  \t [-8.71389593 -1.50593111]\t 923.4771138252895\t 9.082676055031467\t 6.600152236450037\t 6.592247131868972\n",
            "8  \t [  6.54788296 -10.        ]\t 421.9151989212073\t 9.082676055031467\t 6.180737849292367\t 6.2463392218100235\n",
            "9  \t [  0.09452708 -10.        ]\t 943.2685900653464\t 9.082676055031467\t 5.856026006538265\t 5.844577388683871\n",
            "10 \t [ 1.83317084 -1.38832642]\t 70.50810710031126\t 9.082676055031467\t 6.016419274195524\t 6.009693887386196\n",
            "11 \t [10.          2.03474959]\t 340.16051219130924\t 9.082676055031467\t 6.091704277185616\t 6.131038498216888\n",
            "12 \t [-9.16631267  8.84971483]\t 212.10514478100274\t 9.082676055031467\t 6.580088301444524\t 6.240480299919505\n",
            "13 \t [-2.82899012  5.08304909]\t 31.193499223362263\t 9.082676055031467\t 6.830504152588215\t 6.790945685168332\n",
            "14 \t [-5.62072571  2.83926128]\t 227.81288537151713\t 9.082676055031467\t 5.179381372441105\t 5.366961713221733\n",
            "15 \t [10. 10.]\t 1154.0\t 9.082676055031467\t 5.207200897496328\t 5.280223667444038\n",
            "\u001b[1m\u001b[92m16\u001b[0m\t \u001b[1m\u001b[92m[0.32197968 3.94923325]\u001b[0m\t \u001b[1m\u001b[92m1.6549811529762706\u001b[0m\t \u001b[1m\u001b[92m1.6549811529762706\u001b[0m\t \u001b[1m\u001b[92m5.707114816170308\u001b[0m\t \u001b[1m\u001b[92m5.8405844296424\u001b[0m\n",
            "17 \t [-5.77595239  6.25658177]\t 106.06273359185498\t 1.6549811529762706\t 5.615289549743984\t 5.632946379832948\n",
            "18 \t [ 5.28948581 10.        ]\t 577.209648109012\t 1.6549811529762706\t 6.096895570605834\t 6.250715668091415\n",
            "19 \t [-1.55081991  8.45844105]\t 70.11830373825529\t 1.6549811529762706\t 5.700381777531606\t 5.907194120871779\n",
            "20 \t [ -4.29662599 -10.        ]\t 1536.1203372383484\t 1.6549811529762706\t 5.023905800897246\t 5.176060203790156\n"
          ]
        }
      ],
      "source": [
        "### EXACT GP EI GRADIENTS\n",
        "\n",
        "np.random.seed(run_num_20)\n",
        "surrogate_exact_20 = dGaussianProcess(cov_func, optimize=opt)\n",
        "\n",
        "exact_20 = dGPGO(surrogate_exact_20, Acquisition_grad(util), objfunc, param)\n",
        "exact_20.run(init_evals=n_init, max_iter=iters)\n"
      ]
    },
    {
      "cell_type": "code",
      "execution_count": 54,
      "metadata": {
        "id": "5c8szjivRPme",
        "colab": {
          "base_uri": "https://localhost:8080/"
        },
        "outputId": "752bf11b-b778-4771-ea8d-d37c3228485e"
      },
      "outputs": [
        {
          "output_type": "execute_result",
          "data": {
            "text/plain": [
              "550.8903005123138"
            ]
          },
          "metadata": {},
          "execution_count": 54
        }
      ],
      "source": [
        "end_exact = time.time()\n",
        "end_exact\n",
        "\n",
        "time_exact = end_exact - start_exact\n",
        "time_exact\n"
      ]
    },
    {
      "cell_type": "code",
      "execution_count": 55,
      "metadata": {
        "id": "f6gCKnp6RR8c",
        "colab": {
          "base_uri": "https://localhost:8080/"
        },
        "outputId": "ab1b6088-73e1-4e04-82b0-72c35fd9dd8c"
      },
      "outputs": [
        {
          "output_type": "execute_result",
          "data": {
            "text/plain": [
              "(2.168662300076359, 2.4656998822078644)"
            ]
          },
          "metadata": {},
          "execution_count": 55
        }
      ],
      "source": [
        "### Simple regret minimization: run number = 1\n",
        "\n",
        "approx_output_1 = np.append(np.min(-approx_1.GP.y[0:n_init]),-approx_1.GP.y[n_init:(n_init+iters)]) \n",
        "exact_output_1 = np.append(np.min(-exact_1.GP.y[0:n_init]),-exact_1.GP.y[n_init:(n_init+iters)]) \n",
        "\n",
        "regret_approx_1 = np.log(approx_output_1 - y_global_orig)\n",
        "regret_exact_1 = np.log(exact_output_1 - y_global_orig)\n",
        "\n",
        "simple_regret_approx_1 = min_max_array(regret_approx_1)\n",
        "simple_regret_exact_1 = min_max_array(regret_exact_1)\n",
        "\n",
        "min_simple_regret_approx_1 = min(simple_regret_approx_1)\n",
        "min_simple_regret_exact_1 = min(simple_regret_exact_1)\n",
        "\n",
        "min_simple_regret_approx_1, min_simple_regret_exact_1\n"
      ]
    },
    {
      "cell_type": "code",
      "execution_count": 56,
      "metadata": {
        "id": "94yBw5tqQxfk",
        "colab": {
          "base_uri": "https://localhost:8080/"
        },
        "outputId": "2d413663-265b-4030-ff2a-c65a77e38be0"
      },
      "outputs": [
        {
          "output_type": "execute_result",
          "data": {
            "text/plain": [
              "(2.1363332495139282, 2.056045556536323)"
            ]
          },
          "metadata": {},
          "execution_count": 56
        }
      ],
      "source": [
        "### Simple regret minimization: run number = 2\n",
        "\n",
        "approx_output_2 = np.append(np.min(-approx_2.GP.y[0:n_init]),-approx_2.GP.y[n_init:(n_init+iters)]) \n",
        "exact_output_2 = np.append(np.min(-exact_2.GP.y[0:n_init]),-exact_2.GP.y[n_init:(n_init+iters)]) \n",
        "\n",
        "regret_approx_2 = np.log(approx_output_2 - y_global_orig)\n",
        "regret_exact_2 = np.log(exact_output_2 - y_global_orig)\n",
        "\n",
        "simple_regret_approx_2 = min_max_array(regret_approx_2)\n",
        "simple_regret_exact_2 = min_max_array(regret_exact_2)\n",
        "\n",
        "min_simple_regret_approx_2 = min(simple_regret_approx_2)\n",
        "min_simple_regret_exact_2 = min(simple_regret_exact_2)\n",
        "\n",
        "min_simple_regret_approx_2, min_simple_regret_exact_2\n"
      ]
    },
    {
      "cell_type": "code",
      "execution_count": 57,
      "metadata": {
        "id": "Bu6SBWALQxfl",
        "colab": {
          "base_uri": "https://localhost:8080/"
        },
        "outputId": "f477726d-c8d5-4d15-b839-1e4d01d36e54"
      },
      "outputs": [
        {
          "output_type": "execute_result",
          "data": {
            "text/plain": [
              "(1.9332706053762703, 1.9332706053762703)"
            ]
          },
          "metadata": {},
          "execution_count": 57
        }
      ],
      "source": [
        "### Simple regret minimization: run number = 3\n",
        "\n",
        "approx_output_3 = np.append(np.min(-approx_3.GP.y[0:n_init]),-approx_3.GP.y[n_init:(n_init+iters)]) \n",
        "exact_output_3 = np.append(np.min(-exact_3.GP.y[0:n_init]),-exact_3.GP.y[n_init:(n_init+iters)]) \n",
        "\n",
        "regret_approx_3 = np.log(approx_output_3 - y_global_orig)\n",
        "regret_exact_3 = np.log(exact_output_3 - y_global_orig)\n",
        "\n",
        "simple_regret_approx_3 = min_max_array(regret_approx_3)\n",
        "simple_regret_exact_3 = min_max_array(regret_exact_3)\n",
        "\n",
        "min_simple_regret_approx_3 = min(simple_regret_approx_3)\n",
        "min_simple_regret_exact_3 = min(simple_regret_exact_3)\n",
        "\n",
        "min_simple_regret_approx_3, min_simple_regret_exact_3"
      ]
    },
    {
      "cell_type": "code",
      "execution_count": 58,
      "metadata": {
        "id": "AZm0jgxkQxfm",
        "colab": {
          "base_uri": "https://localhost:8080/"
        },
        "outputId": "54c73342-556c-4df3-c0b8-e81a8fc89843"
      },
      "outputs": [
        {
          "output_type": "execute_result",
          "data": {
            "text/plain": [
              "(3.065403892890179, 1.6554422298946503)"
            ]
          },
          "metadata": {},
          "execution_count": 58
        }
      ],
      "source": [
        "### Simple regret minimization: run number = 4\n",
        "\n",
        "approx_output_4 = np.append(np.min(-approx_4.GP.y[0:n_init]),-approx_4.GP.y[n_init:(n_init+iters)]) \n",
        "exact_output_4 = np.append(np.min(-exact_4.GP.y[0:n_init]),-exact_4.GP.y[n_init:(n_init+iters)]) \n",
        "\n",
        "regret_approx_4 = np.log(approx_output_4 - y_global_orig)\n",
        "regret_exact_4 = np.log(exact_output_4 - y_global_orig)\n",
        "\n",
        "simple_regret_approx_4 = min_max_array(regret_approx_4)\n",
        "simple_regret_exact_4 = min_max_array(regret_exact_4)\n",
        "\n",
        "min_simple_regret_approx_4 = min(simple_regret_approx_4)\n",
        "min_simple_regret_exact_4 = min(simple_regret_exact_4)\n",
        "\n",
        "min_simple_regret_approx_4, min_simple_regret_exact_4"
      ]
    },
    {
      "cell_type": "code",
      "execution_count": 59,
      "metadata": {
        "id": "NONPm8JIQxfn",
        "colab": {
          "base_uri": "https://localhost:8080/"
        },
        "outputId": "bf3b0b4b-7341-4245-be01-383f85c5dedd"
      },
      "outputs": [
        {
          "output_type": "execute_result",
          "data": {
            "text/plain": [
              "(1.9123415354325817, 2.1540343573346217)"
            ]
          },
          "metadata": {},
          "execution_count": 59
        }
      ],
      "source": [
        "### Simple regret minimization: run number = 5\n",
        "\n",
        "approx_output_5 = np.append(np.min(-approx_5.GP.y[0:n_init]),-approx_5.GP.y[n_init:(n_init+iters)]) \n",
        "exact_output_5 = np.append(np.min(-exact_5.GP.y[0:n_init]),-exact_5.GP.y[n_init:(n_init+iters)]) \n",
        "\n",
        "regret_approx_5 = np.log(approx_output_5 - y_global_orig)\n",
        "regret_exact_5 = np.log(exact_output_5 - y_global_orig)\n",
        "\n",
        "simple_regret_approx_5 = min_max_array(regret_approx_5)\n",
        "simple_regret_exact_5 = min_max_array(regret_exact_5)\n",
        "\n",
        "min_simple_regret_approx_5 = min(simple_regret_approx_5)\n",
        "min_simple_regret_exact_5 = min(simple_regret_exact_5)\n",
        "\n",
        "min_simple_regret_approx_5, min_simple_regret_exact_5"
      ]
    },
    {
      "cell_type": "code",
      "execution_count": 60,
      "metadata": {
        "id": "CJv3lPuSQxfp",
        "colab": {
          "base_uri": "https://localhost:8080/"
        },
        "outputId": "0d22fb98-7906-495e-e9f2-b83f73878c06"
      },
      "outputs": [
        {
          "output_type": "execute_result",
          "data": {
            "text/plain": [
              "(2.293147547405968, 2.293147547405968)"
            ]
          },
          "metadata": {},
          "execution_count": 60
        }
      ],
      "source": [
        "### Simple regret minimization: run number = 6\n",
        "\n",
        "approx_output_6 = np.append(np.min(-approx_6.GP.y[0:n_init]),-approx_6.GP.y[n_init:(n_init+iters)]) \n",
        "exact_output_6 = np.append(np.min(-exact_6.GP.y[0:n_init]),-exact_6.GP.y[n_init:(n_init+iters)]) \n",
        "\n",
        "regret_approx_6 = np.log(approx_output_6 - y_global_orig)\n",
        "regret_exact_6 = np.log(exact_output_6 - y_global_orig)\n",
        "\n",
        "simple_regret_approx_6 = min_max_array(regret_approx_6)\n",
        "simple_regret_exact_6 = min_max_array(regret_exact_6)\n",
        "\n",
        "min_simple_regret_approx_6 = min(simple_regret_approx_6)\n",
        "min_simple_regret_exact_6 = min(simple_regret_exact_6)\n",
        "\n",
        "min_simple_regret_approx_6, min_simple_regret_exact_6"
      ]
    },
    {
      "cell_type": "code",
      "execution_count": 61,
      "metadata": {
        "id": "quR2ZyApQxfq",
        "colab": {
          "base_uri": "https://localhost:8080/"
        },
        "outputId": "6808d8ce-7248-422b-fb4a-450f497ed618"
      },
      "outputs": [
        {
          "output_type": "execute_result",
          "data": {
            "text/plain": [
              "(2.2476588772086465, 2.2476588772086465)"
            ]
          },
          "metadata": {},
          "execution_count": 61
        }
      ],
      "source": [
        "### Simple regret minimization: run number = 7\n",
        "\n",
        "approx_output_7 = np.append(np.min(-approx_7.GP.y[0:n_init]),-approx_7.GP.y[n_init:(n_init+iters)]) \n",
        "exact_output_7 = np.append(np.min(-exact_7.GP.y[0:n_init]),-exact_7.GP.y[n_init:(n_init+iters)]) \n",
        "\n",
        "regret_approx_7 = np.log(approx_output_7 - y_global_orig)\n",
        "regret_exact_7 = np.log(exact_output_7 - y_global_orig)\n",
        "\n",
        "simple_regret_approx_7 = min_max_array(regret_approx_7)\n",
        "simple_regret_exact_7 = min_max_array(regret_exact_7)\n",
        "\n",
        "min_simple_regret_approx_7 = min(simple_regret_approx_7)\n",
        "min_simple_regret_exact_7 = min(simple_regret_exact_7)\n",
        "\n",
        "min_simple_regret_approx_7, min_simple_regret_exact_7"
      ]
    },
    {
      "cell_type": "code",
      "execution_count": 62,
      "metadata": {
        "id": "99wY5nK6Qxfr",
        "colab": {
          "base_uri": "https://localhost:8080/"
        },
        "outputId": "38dee4ff-0b06-43e9-99cc-b5d86373f43a"
      },
      "outputs": [
        {
          "output_type": "execute_result",
          "data": {
            "text/plain": [
              "(1.9473139792556216, -0.37907173355745793)"
            ]
          },
          "metadata": {},
          "execution_count": 62
        }
      ],
      "source": [
        "### Simple regret minimization: run number = 8\n",
        "\n",
        "approx_output_8 = np.append(np.min(-approx_8.GP.y[0:n_init]),-approx_8.GP.y[n_init:(n_init+iters)]) \n",
        "exact_output_8 = np.append(np.min(-exact_8.GP.y[0:n_init]),-exact_8.GP.y[n_init:(n_init+iters)]) \n",
        "\n",
        "regret_approx_8 = np.log(approx_output_8 - y_global_orig)\n",
        "regret_exact_8 = np.log(exact_output_8 - y_global_orig)\n",
        "\n",
        "simple_regret_approx_8 = min_max_array(regret_approx_8)\n",
        "simple_regret_exact_8 = min_max_array(regret_exact_8)\n",
        "\n",
        "min_simple_regret_approx_8 = min(simple_regret_approx_8)\n",
        "min_simple_regret_exact_8 = min(simple_regret_exact_8)\n",
        "\n",
        "min_simple_regret_approx_8, min_simple_regret_exact_8"
      ]
    },
    {
      "cell_type": "code",
      "execution_count": 63,
      "metadata": {
        "id": "qt0P5t9qQxfs",
        "colab": {
          "base_uri": "https://localhost:8080/"
        },
        "outputId": "1a38dd56-2bc2-44e9-ce8f-558a3bf962a7"
      },
      "outputs": [
        {
          "output_type": "execute_result",
          "data": {
            "text/plain": [
              "(0.4038950054986899, 2.8440832836643524)"
            ]
          },
          "metadata": {},
          "execution_count": 63
        }
      ],
      "source": [
        "### Simple regret minimization: run number = 9\n",
        "\n",
        "approx_output_9 = np.append(np.min(-approx_9.GP.y[0:n_init]),-approx_9.GP.y[n_init:(n_init+iters)]) \n",
        "exact_output_9 = np.append(np.min(-exact_9.GP.y[0:n_init]),-exact_9.GP.y[n_init:(n_init+iters)]) \n",
        "\n",
        "regret_approx_9 = np.log(approx_output_9 - y_global_orig)\n",
        "regret_exact_9 = np.log(exact_output_9 - y_global_orig)\n",
        "\n",
        "simple_regret_approx_9 = min_max_array(regret_approx_9)\n",
        "simple_regret_exact_9 = min_max_array(regret_exact_9)\n",
        "\n",
        "min_simple_regret_approx_9 = min(simple_regret_approx_9)\n",
        "min_simple_regret_exact_9 = min(simple_regret_exact_9)\n",
        "\n",
        "min_simple_regret_approx_9, min_simple_regret_exact_9"
      ]
    },
    {
      "cell_type": "code",
      "execution_count": 64,
      "metadata": {
        "id": "vx8to9stQxft",
        "colab": {
          "base_uri": "https://localhost:8080/"
        },
        "outputId": "2b80f7b8-9936-4a9a-bdd0-71832e119581"
      },
      "outputs": [
        {
          "output_type": "execute_result",
          "data": {
            "text/plain": [
              "(1.3056328732750369, 2.478669315664201)"
            ]
          },
          "metadata": {},
          "execution_count": 64
        }
      ],
      "source": [
        "### Simple regret minimization: run number = 10\n",
        "\n",
        "approx_output_10 = np.append(np.min(-approx_10.GP.y[0:n_init]),-approx_10.GP.y[n_init:(n_init+iters)]) \n",
        "exact_output_10 = np.append(np.min(-exact_10.GP.y[0:n_init]),-exact_10.GP.y[n_init:(n_init+iters)]) \n",
        "\n",
        "regret_approx_10 = np.log(approx_output_10 - y_global_orig)\n",
        "regret_exact_10 = np.log(exact_output_10 - y_global_orig)\n",
        "\n",
        "simple_regret_approx_10 = min_max_array(regret_approx_10)\n",
        "simple_regret_exact_10 = min_max_array(regret_exact_10)\n",
        "\n",
        "min_simple_regret_approx_10 = min(simple_regret_approx_10)\n",
        "min_simple_regret_exact_10 = min(simple_regret_exact_10)\n",
        "\n",
        "min_simple_regret_approx_10, min_simple_regret_exact_10"
      ]
    },
    {
      "cell_type": "code",
      "execution_count": 65,
      "metadata": {
        "id": "d-FGzWyHQxfu",
        "colab": {
          "base_uri": "https://localhost:8080/"
        },
        "outputId": "a9467d0a-d084-4704-f8cd-9a101f428d13"
      },
      "outputs": [
        {
          "output_type": "execute_result",
          "data": {
            "text/plain": [
              "(1.7016578760315788, 1.7016578760315788)"
            ]
          },
          "metadata": {},
          "execution_count": 65
        }
      ],
      "source": [
        "### Simple regret minimization: run number = 11\n",
        "\n",
        "approx_output_11 = np.append(np.min(-approx_11.GP.y[0:n_init]),-approx_11.GP.y[n_init:(n_init+iters)]) \n",
        "exact_output_11 = np.append(np.min(-exact_11.GP.y[0:n_init]),-exact_11.GP.y[n_init:(n_init+iters)]) \n",
        "\n",
        "regret_approx_11 = np.log(approx_output_11 - y_global_orig)\n",
        "regret_exact_11 = np.log(exact_output_11 - y_global_orig)\n",
        "\n",
        "simple_regret_approx_11 = min_max_array(regret_approx_11)\n",
        "simple_regret_exact_11 = min_max_array(regret_exact_11)\n",
        "\n",
        "min_simple_regret_approx_11 = min(simple_regret_approx_11)\n",
        "min_simple_regret_exact_11 = min(simple_regret_exact_11)\n",
        "\n",
        "min_simple_regret_approx_11, min_simple_regret_exact_11"
      ]
    },
    {
      "cell_type": "code",
      "execution_count": 66,
      "metadata": {
        "id": "SvtsssyjQxfv",
        "colab": {
          "base_uri": "https://localhost:8080/"
        },
        "outputId": "49977e7c-79a7-451e-be1d-6dd7aea8aa49"
      },
      "outputs": [
        {
          "output_type": "execute_result",
          "data": {
            "text/plain": [
              "(1.5448661554214418, 1.7202078784834116)"
            ]
          },
          "metadata": {},
          "execution_count": 66
        }
      ],
      "source": [
        "### Simple regret minimization: run number = 12\n",
        "\n",
        "approx_output_12 = np.append(np.min(-approx_12.GP.y[0:n_init]),-approx_12.GP.y[n_init:(n_init+iters)]) \n",
        "exact_output_12 = np.append(np.min(-exact_12.GP.y[0:n_init]),-exact_12.GP.y[n_init:(n_init+iters)]) \n",
        "\n",
        "regret_approx_12 = np.log(approx_output_12 - y_global_orig)\n",
        "regret_exact_12 = np.log(exact_output_12 - y_global_orig)\n",
        "\n",
        "simple_regret_approx_12 = min_max_array(regret_approx_12)\n",
        "simple_regret_exact_12 = min_max_array(regret_exact_12)\n",
        "\n",
        "min_simple_regret_approx_12 = min(simple_regret_approx_12)\n",
        "min_simple_regret_exact_12 = min(simple_regret_exact_12)\n",
        "\n",
        "min_simple_regret_approx_12, min_simple_regret_exact_12"
      ]
    },
    {
      "cell_type": "code",
      "execution_count": 67,
      "metadata": {
        "id": "K6OiGcHkQxfw",
        "colab": {
          "base_uri": "https://localhost:8080/"
        },
        "outputId": "d0c83dc4-6944-4e98-d98b-201277041162"
      },
      "outputs": [
        {
          "output_type": "execute_result",
          "data": {
            "text/plain": [
              "(2.0471786546239894, 2.782851485930722)"
            ]
          },
          "metadata": {},
          "execution_count": 67
        }
      ],
      "source": [
        "### Simple regret minimization: run number = 13\n",
        "\n",
        "approx_output_13 = np.append(np.min(-approx_13.GP.y[0:n_init]),-approx_13.GP.y[n_init:(n_init+iters)]) \n",
        "exact_output_13 = np.append(np.min(-exact_13.GP.y[0:n_init]),-exact_13.GP.y[n_init:(n_init+iters)]) \n",
        "\n",
        "regret_approx_13 = np.log(approx_output_13 - y_global_orig)\n",
        "regret_exact_13 = np.log(exact_output_13 - y_global_orig)\n",
        "\n",
        "simple_regret_approx_13 = min_max_array(regret_approx_13)\n",
        "simple_regret_exact_13 = min_max_array(regret_exact_13)\n",
        "\n",
        "min_simple_regret_approx_13 = min(simple_regret_approx_13)\n",
        "min_simple_regret_exact_13 = min(simple_regret_exact_13)\n",
        "\n",
        "min_simple_regret_approx_13, min_simple_regret_exact_13"
      ]
    },
    {
      "cell_type": "code",
      "execution_count": 68,
      "metadata": {
        "id": "ogML73shQxfx",
        "colab": {
          "base_uri": "https://localhost:8080/"
        },
        "outputId": "88591a1a-312a-40b1-883f-5783f7f599b8"
      },
      "outputs": [
        {
          "output_type": "execute_result",
          "data": {
            "text/plain": [
              "(2.9300454245107113, 2.9300454245107113)"
            ]
          },
          "metadata": {},
          "execution_count": 68
        }
      ],
      "source": [
        "### Simple regret minimization: run number = 14\n",
        "\n",
        "approx_output_14 = np.append(np.min(-approx_14.GP.y[0:n_init]),-approx_14.GP.y[n_init:(n_init+iters)]) \n",
        "exact_output_14 = np.append(np.min(-exact_14.GP.y[0:n_init]),-exact_14.GP.y[n_init:(n_init+iters)]) \n",
        "\n",
        "regret_approx_14 = np.log(approx_output_14 - y_global_orig)\n",
        "regret_exact_14 = np.log(exact_output_14 - y_global_orig)\n",
        "\n",
        "simple_regret_approx_14 = min_max_array(regret_approx_14)\n",
        "simple_regret_exact_14 = min_max_array(regret_exact_14)\n",
        "\n",
        "min_simple_regret_approx_14 = min(simple_regret_approx_14)\n",
        "min_simple_regret_exact_14 = min(simple_regret_exact_14)\n",
        "\n",
        "min_simple_regret_approx_14, min_simple_regret_exact_14"
      ]
    },
    {
      "cell_type": "code",
      "execution_count": 69,
      "metadata": {
        "id": "9Eg7gFT9Qxfx",
        "colab": {
          "base_uri": "https://localhost:8080/"
        },
        "outputId": "93d7168f-5bf4-471d-9502-4b39675f0e0e"
      },
      "outputs": [
        {
          "output_type": "execute_result",
          "data": {
            "text/plain": [
              "(1.6540354760720044, 1.4890555218207204)"
            ]
          },
          "metadata": {},
          "execution_count": 69
        }
      ],
      "source": [
        "### Simple regret minimization: run number = 15\n",
        "\n",
        "approx_output_15 = np.append(np.min(-approx_15.GP.y[0:n_init]),-approx_15.GP.y[n_init:(n_init+iters)]) \n",
        "exact_output_15 = np.append(np.min(-exact_15.GP.y[0:n_init]),-exact_15.GP.y[n_init:(n_init+iters)]) \n",
        "\n",
        "regret_approx_15 = np.log(approx_output_15 - y_global_orig)\n",
        "regret_exact_15 = np.log(exact_output_15 - y_global_orig)\n",
        "\n",
        "simple_regret_approx_15 = min_max_array(regret_approx_15)\n",
        "simple_regret_exact_15 = min_max_array(regret_exact_15)\n",
        "\n",
        "min_simple_regret_approx_15 = min(simple_regret_approx_15)\n",
        "min_simple_regret_exact_15 = min(simple_regret_exact_15)\n",
        "\n",
        "min_simple_regret_approx_15, min_simple_regret_exact_15"
      ]
    },
    {
      "cell_type": "code",
      "execution_count": 70,
      "metadata": {
        "id": "lIAC1U7ZQxfy",
        "colab": {
          "base_uri": "https://localhost:8080/"
        },
        "outputId": "ee19a5f5-babf-4299-a4e8-b21a3d04894d"
      },
      "outputs": [
        {
          "output_type": "execute_result",
          "data": {
            "text/plain": [
              "(2.9358849537812044, -0.4212226540672767)"
            ]
          },
          "metadata": {},
          "execution_count": 70
        }
      ],
      "source": [
        "### Simple regret minimization: run number = 16\n",
        "\n",
        "approx_output_16 = np.append(np.min(-approx_16.GP.y[0:n_init]),-approx_16.GP.y[n_init:(n_init+iters)]) \n",
        "exact_output_16 = np.append(np.min(-exact_16.GP.y[0:n_init]),-exact_16.GP.y[n_init:(n_init+iters)]) \n",
        "\n",
        "regret_approx_16 = np.log(approx_output_16 - y_global_orig)\n",
        "regret_exact_16 = np.log(exact_output_16 - y_global_orig)\n",
        "\n",
        "simple_regret_approx_16 = min_max_array(regret_approx_16)\n",
        "simple_regret_exact_16 = min_max_array(regret_exact_16)\n",
        "\n",
        "min_simple_regret_approx_16 = min(simple_regret_approx_16)\n",
        "min_simple_regret_exact_16 = min(simple_regret_exact_16)\n",
        "\n",
        "min_simple_regret_approx_16, min_simple_regret_exact_16"
      ]
    },
    {
      "cell_type": "code",
      "execution_count": 71,
      "metadata": {
        "id": "bGott36OQxfz",
        "colab": {
          "base_uri": "https://localhost:8080/"
        },
        "outputId": "54d7d688-6c43-4d76-a9c7-2f7bdd19b49f"
      },
      "outputs": [
        {
          "output_type": "execute_result",
          "data": {
            "text/plain": [
              "(1.7116030410073353, 1.5137439723181607)"
            ]
          },
          "metadata": {},
          "execution_count": 71
        }
      ],
      "source": [
        "### Simple regret minimization: run number = 17\n",
        "\n",
        "approx_output_17 = np.append(np.min(-approx_17.GP.y[0:n_init]),-approx_17.GP.y[n_init:(n_init+iters)]) \n",
        "exact_output_17 = np.append(np.min(-exact_17.GP.y[0:n_init]),-exact_17.GP.y[n_init:(n_init+iters)]) \n",
        "\n",
        "regret_approx_17 = np.log(approx_output_17 - y_global_orig)\n",
        "regret_exact_17 = np.log(exact_output_17 - y_global_orig)\n",
        "\n",
        "simple_regret_approx_17 = min_max_array(regret_approx_17)\n",
        "simple_regret_exact_17 = min_max_array(regret_exact_17)\n",
        "\n",
        "min_simple_regret_approx_17 = min(simple_regret_approx_17)\n",
        "min_simple_regret_exact_17 = min(simple_regret_exact_17)\n",
        "\n",
        "min_simple_regret_approx_17, min_simple_regret_exact_17"
      ]
    },
    {
      "cell_type": "code",
      "execution_count": 72,
      "metadata": {
        "id": "Cz9ZYMBMQxfz",
        "colab": {
          "base_uri": "https://localhost:8080/"
        },
        "outputId": "7bbe2de3-2f48-435f-f918-fc8f9ca9a9ce"
      },
      "outputs": [
        {
          "output_type": "execute_result",
          "data": {
            "text/plain": [
              "(1.9049399809203087, 2.1819697050269506)"
            ]
          },
          "metadata": {},
          "execution_count": 72
        }
      ],
      "source": [
        "### Simple regret minimization: run number = 18\n",
        "\n",
        "approx_output_18 = np.append(np.min(-approx_18.GP.y[0:n_init]),-approx_18.GP.y[n_init:(n_init+iters)]) \n",
        "exact_output_18 = np.append(np.min(-exact_18.GP.y[0:n_init]),-exact_18.GP.y[n_init:(n_init+iters)]) \n",
        "\n",
        "regret_approx_18 = np.log(approx_output_18 - y_global_orig)\n",
        "regret_exact_18 = np.log(exact_output_18 - y_global_orig)\n",
        "\n",
        "simple_regret_approx_18 = min_max_array(regret_approx_18)\n",
        "simple_regret_exact_18 = min_max_array(regret_exact_18)\n",
        "\n",
        "min_simple_regret_approx_18 = min(simple_regret_approx_18)\n",
        "min_simple_regret_exact_18 = min(simple_regret_exact_18)\n",
        "\n",
        "min_simple_regret_approx_18, min_simple_regret_exact_18"
      ]
    },
    {
      "cell_type": "code",
      "execution_count": 73,
      "metadata": {
        "id": "OBfpWOHNQxf0",
        "colab": {
          "base_uri": "https://localhost:8080/"
        },
        "outputId": "89081a9b-2a92-4150-9069-3b3823ba53a4"
      },
      "outputs": [
        {
          "output_type": "execute_result",
          "data": {
            "text/plain": [
              "(0.48582444510743344, 1.7554869846899734)"
            ]
          },
          "metadata": {},
          "execution_count": 73
        }
      ],
      "source": [
        "### Simple regret minimization: run number = 19\n",
        "\n",
        "approx_output_19 = np.append(np.min(-approx_19.GP.y[0:n_init]),-approx_19.GP.y[n_init:(n_init+iters)]) \n",
        "exact_output_19 = np.append(np.min(-exact_19.GP.y[0:n_init]),-exact_19.GP.y[n_init:(n_init+iters)]) \n",
        "\n",
        "regret_approx_19 = np.log(approx_output_19 - y_global_orig)\n",
        "regret_exact_19 = np.log(exact_output_19 - y_global_orig)\n",
        "\n",
        "simple_regret_approx_19 = min_max_array(regret_approx_19)\n",
        "simple_regret_exact_19 = min_max_array(regret_exact_19)\n",
        "\n",
        "min_simple_regret_approx_19 = min(simple_regret_approx_19)\n",
        "min_simple_regret_exact_19 = min(simple_regret_exact_19)\n",
        "\n",
        "min_simple_regret_approx_19, min_simple_regret_exact_19"
      ]
    },
    {
      "cell_type": "code",
      "execution_count": 74,
      "metadata": {
        "id": "BE1AJ7NsQxf0",
        "colab": {
          "base_uri": "https://localhost:8080/"
        },
        "outputId": "0c216114-14d2-4c5b-b137-2eb1dd6b9810"
      },
      "outputs": [
        {
          "output_type": "execute_result",
          "data": {
            "text/plain": [
              "(1.1224586856308045, 0.5037896208344373)"
            ]
          },
          "metadata": {},
          "execution_count": 74
        }
      ],
      "source": [
        "### Simple regret minimization: run number = 20\n",
        "\n",
        "approx_output_20 = np.append(np.min(-approx_20.GP.y[0:n_init]),-approx_20.GP.y[n_init:(n_init+iters)]) \n",
        "exact_output_20 = np.append(np.min(-exact_20.GP.y[0:n_init]),-exact_20.GP.y[n_init:(n_init+iters)]) \n",
        "\n",
        "regret_approx_20 = np.log(approx_output_20 - y_global_orig)\n",
        "regret_exact_20 = np.log(exact_output_20 - y_global_orig)\n",
        "\n",
        "simple_regret_approx_20 = min_max_array(regret_approx_20)\n",
        "simple_regret_exact_20 = min_max_array(regret_exact_20)\n",
        "\n",
        "min_simple_regret_approx_20 = min(simple_regret_approx_20)\n",
        "min_simple_regret_exact_20 = min(simple_regret_exact_20)\n",
        "\n",
        "min_simple_regret_approx_20, min_simple_regret_exact_20"
      ]
    },
    {
      "cell_type": "code",
      "execution_count": 75,
      "metadata": {
        "id": "bpX-bKAHQxf1"
      },
      "outputs": [],
      "source": [
        "# Iteration1 :\n",
        "\n",
        "slice1 = 0\n",
        "\n",
        "approx1 = [simple_regret_approx_1[slice1],\n",
        "       simple_regret_approx_2[slice1],\n",
        "       simple_regret_approx_3[slice1],\n",
        "       simple_regret_approx_4[slice1],\n",
        "       simple_regret_approx_5[slice1],\n",
        "       simple_regret_approx_6[slice1],\n",
        "       simple_regret_approx_7[slice1],\n",
        "       simple_regret_approx_8[slice1],\n",
        "       simple_regret_approx_9[slice1],\n",
        "       simple_regret_approx_10[slice1],\n",
        "       simple_regret_approx_11[slice1],\n",
        "       simple_regret_approx_12[slice1],\n",
        "       simple_regret_approx_13[slice1],\n",
        "       simple_regret_approx_14[slice1],\n",
        "       simple_regret_approx_15[slice1],\n",
        "       simple_regret_approx_16[slice1],\n",
        "       simple_regret_approx_17[slice1],\n",
        "       simple_regret_approx_18[slice1],\n",
        "       simple_regret_approx_19[slice1],\n",
        "       simple_regret_approx_20[slice1]]\n",
        "\n",
        "exact1 = [simple_regret_exact_1[slice1],\n",
        "       simple_regret_exact_2[slice1],\n",
        "       simple_regret_exact_3[slice1],\n",
        "       simple_regret_exact_4[slice1],\n",
        "       simple_regret_exact_5[slice1],\n",
        "       simple_regret_exact_6[slice1],\n",
        "       simple_regret_exact_7[slice1],\n",
        "       simple_regret_exact_8[slice1],\n",
        "       simple_regret_exact_9[slice1],\n",
        "       simple_regret_exact_10[slice1],\n",
        "       simple_regret_exact_11[slice1],\n",
        "       simple_regret_exact_12[slice1],\n",
        "       simple_regret_exact_13[slice1],\n",
        "       simple_regret_exact_14[slice1],\n",
        "       simple_regret_exact_15[slice1],\n",
        "       simple_regret_exact_16[slice1],\n",
        "       simple_regret_exact_17[slice1],\n",
        "       simple_regret_exact_18[slice1],\n",
        "       simple_regret_exact_19[slice1],\n",
        "       simple_regret_exact_20[slice1]]\n",
        "\n",
        "approx1_results = pd.DataFrame(approx1).sort_values(by=[0], ascending=False)\n",
        "exact1_results = pd.DataFrame(exact1).sort_values(by=[0], ascending=False)\n",
        "\n",
        "### Best simple regret minimization IQR - approx:\n",
        "lower_approx1 = np.asarray(approx1_results[4:5][0])[0]\n",
        "median_approx1 = np.asarray(approx1_results[9:10][0])[0]\n",
        "upper_approx1 = np.asarray(approx1_results[14:15][0])[0]\n",
        "\n",
        "lower_exact1 = np.asarray(exact1_results[4:5][0])[0]\n",
        "median_exact1 = np.asarray(exact1_results[9:10][0])[0]\n",
        "upper_exact1 = np.asarray(exact1_results[14:15][0])[0]"
      ]
    },
    {
      "cell_type": "code",
      "execution_count": 76,
      "metadata": {
        "id": "CgIkJA1xQxf2"
      },
      "outputs": [],
      "source": [
        "# Iteration11 :\n",
        "\n",
        "slice11 = 10\n",
        "\n",
        "approx11 = [simple_regret_approx_1[slice11],\n",
        "       simple_regret_approx_2[slice11],\n",
        "       simple_regret_approx_3[slice11],\n",
        "       simple_regret_approx_4[slice11],\n",
        "       simple_regret_approx_5[slice11],\n",
        "       simple_regret_approx_6[slice11],\n",
        "       simple_regret_approx_7[slice11],\n",
        "       simple_regret_approx_8[slice11],\n",
        "       simple_regret_approx_9[slice11],\n",
        "       simple_regret_approx_10[slice11],\n",
        "       simple_regret_approx_11[slice11],\n",
        "       simple_regret_approx_12[slice11],\n",
        "       simple_regret_approx_13[slice11],\n",
        "       simple_regret_approx_14[slice11],\n",
        "       simple_regret_approx_15[slice11],\n",
        "       simple_regret_approx_16[slice11],\n",
        "       simple_regret_approx_17[slice11],\n",
        "       simple_regret_approx_18[slice11],\n",
        "       simple_regret_approx_19[slice11],\n",
        "       simple_regret_approx_20[slice11]]\n",
        "\n",
        "exact11 = [simple_regret_exact_1[slice11],\n",
        "       simple_regret_exact_2[slice11],\n",
        "       simple_regret_exact_3[slice11],\n",
        "       simple_regret_exact_4[slice11],\n",
        "       simple_regret_exact_5[slice11],\n",
        "       simple_regret_exact_6[slice11],\n",
        "       simple_regret_exact_7[slice11],\n",
        "       simple_regret_exact_8[slice11],\n",
        "       simple_regret_exact_9[slice11],\n",
        "       simple_regret_exact_10[slice11],\n",
        "       simple_regret_exact_11[slice11],\n",
        "       simple_regret_exact_12[slice11],\n",
        "       simple_regret_exact_13[slice11],\n",
        "       simple_regret_exact_14[slice11],\n",
        "       simple_regret_exact_15[slice11],\n",
        "       simple_regret_exact_16[slice11],\n",
        "       simple_regret_exact_17[slice11],\n",
        "       simple_regret_exact_18[slice11],\n",
        "       simple_regret_exact_19[slice11],\n",
        "       simple_regret_exact_20[slice11]]\n",
        "\n",
        "approx11_results = pd.DataFrame(approx11).sort_values(by=[0], ascending=False)\n",
        "exact11_results = pd.DataFrame(exact11).sort_values(by=[0], ascending=False)\n",
        "\n",
        "### Best simple regret minimization IQR - approx:\n",
        "lower_approx11 = np.asarray(approx11_results[4:5][0])[0]\n",
        "median_approx11 = np.asarray(approx11_results[9:10][0])[0]\n",
        "upper_approx11 = np.asarray(approx11_results[14:15][0])[0]\n",
        "\n",
        "lower_exact11 = np.asarray(exact11_results[4:5][0])[0]\n",
        "median_exact11 = np.asarray(exact11_results[9:10][0])[0]\n",
        "upper_exact11 = np.asarray(exact11_results[14:15][0])[0]"
      ]
    },
    {
      "cell_type": "code",
      "execution_count": 77,
      "metadata": {
        "id": "MFePDfGuQxf2"
      },
      "outputs": [],
      "source": [
        "# Iteration21 :\n",
        "\n",
        "slice21 = 20\n",
        "\n",
        "approx21 = [simple_regret_approx_1[slice21],\n",
        "       simple_regret_approx_2[slice21],\n",
        "       simple_regret_approx_3[slice21],\n",
        "       simple_regret_approx_4[slice21],\n",
        "       simple_regret_approx_5[slice21],\n",
        "       simple_regret_approx_6[slice21],\n",
        "       simple_regret_approx_7[slice21],\n",
        "       simple_regret_approx_8[slice21],\n",
        "       simple_regret_approx_9[slice21],\n",
        "       simple_regret_approx_10[slice21],\n",
        "       simple_regret_approx_11[slice21],\n",
        "       simple_regret_approx_12[slice21],\n",
        "       simple_regret_approx_13[slice21],\n",
        "       simple_regret_approx_14[slice21],\n",
        "       simple_regret_approx_15[slice21],\n",
        "       simple_regret_approx_16[slice21],\n",
        "       simple_regret_approx_17[slice21],\n",
        "       simple_regret_approx_18[slice21],\n",
        "       simple_regret_approx_19[slice21],\n",
        "       simple_regret_approx_20[slice21]]\n",
        "\n",
        "exact21 = [simple_regret_exact_1[slice21],\n",
        "       simple_regret_exact_2[slice21],\n",
        "       simple_regret_exact_3[slice21],\n",
        "       simple_regret_exact_4[slice21],\n",
        "       simple_regret_exact_5[slice21],\n",
        "       simple_regret_exact_6[slice21],\n",
        "       simple_regret_exact_7[slice21],\n",
        "       simple_regret_exact_8[slice21],\n",
        "       simple_regret_exact_9[slice21],\n",
        "       simple_regret_exact_10[slice21],\n",
        "       simple_regret_exact_11[slice21],\n",
        "       simple_regret_exact_12[slice21],\n",
        "       simple_regret_exact_13[slice21],\n",
        "       simple_regret_exact_14[slice21],\n",
        "       simple_regret_exact_15[slice21],\n",
        "       simple_regret_exact_16[slice21],\n",
        "       simple_regret_exact_17[slice21],\n",
        "       simple_regret_exact_18[slice21],\n",
        "       simple_regret_exact_19[slice21],\n",
        "       simple_regret_exact_20[slice21]]\n",
        "\n",
        "approx21_results = pd.DataFrame(approx21).sort_values(by=[0], ascending=False)\n",
        "exact21_results = pd.DataFrame(exact21).sort_values(by=[0], ascending=False)\n",
        "\n",
        "### Best simple regret minimization IQR - approx:\n",
        "lower_approx21 = np.asarray(approx21_results[4:5][0])[0]\n",
        "median_approx21 = np.asarray(approx21_results[9:10][0])[0]\n",
        "upper_approx21 = np.asarray(approx21_results[14:15][0])[0]\n",
        "\n",
        "lower_exact21 = np.asarray(exact21_results[4:5][0])[0]\n",
        "median_exact21 = np.asarray(exact21_results[9:10][0])[0]\n",
        "upper_exact21 = np.asarray(exact21_results[14:15][0])[0]"
      ]
    },
    {
      "cell_type": "code",
      "execution_count": 78,
      "metadata": {
        "id": "PrRDB1kfQxf3"
      },
      "outputs": [],
      "source": [
        "# Iteration2 :\n",
        "\n",
        "slice2 = 1\n",
        "\n",
        "approx2 = [simple_regret_approx_1[slice2],\n",
        "       simple_regret_approx_2[slice2],\n",
        "       simple_regret_approx_3[slice2],\n",
        "       simple_regret_approx_4[slice2],\n",
        "       simple_regret_approx_5[slice2],\n",
        "       simple_regret_approx_6[slice2],\n",
        "       simple_regret_approx_7[slice2],\n",
        "       simple_regret_approx_8[slice2],\n",
        "       simple_regret_approx_9[slice2],\n",
        "       simple_regret_approx_10[slice2],\n",
        "       simple_regret_approx_11[slice2],\n",
        "       simple_regret_approx_12[slice2],\n",
        "       simple_regret_approx_13[slice2],\n",
        "       simple_regret_approx_14[slice2],\n",
        "       simple_regret_approx_15[slice2],\n",
        "       simple_regret_approx_16[slice2],\n",
        "       simple_regret_approx_17[slice2],\n",
        "       simple_regret_approx_18[slice2],\n",
        "       simple_regret_approx_19[slice2],\n",
        "       simple_regret_approx_20[slice2]]\n",
        "\n",
        "exact2 = [simple_regret_exact_1[slice2],\n",
        "       simple_regret_exact_2[slice2],\n",
        "       simple_regret_exact_3[slice2],\n",
        "       simple_regret_exact_4[slice2],\n",
        "       simple_regret_exact_5[slice2],\n",
        "       simple_regret_exact_6[slice2],\n",
        "       simple_regret_exact_7[slice2],\n",
        "       simple_regret_exact_8[slice2],\n",
        "       simple_regret_exact_9[slice2],\n",
        "       simple_regret_exact_10[slice2],\n",
        "       simple_regret_exact_11[slice2],\n",
        "       simple_regret_exact_12[slice2],\n",
        "       simple_regret_exact_13[slice2],\n",
        "       simple_regret_exact_14[slice2],\n",
        "       simple_regret_exact_15[slice2],\n",
        "       simple_regret_exact_16[slice2],\n",
        "       simple_regret_exact_17[slice2],\n",
        "       simple_regret_exact_18[slice2],\n",
        "       simple_regret_exact_19[slice2],\n",
        "       simple_regret_exact_20[slice2]]\n",
        "\n",
        "approx2_results = pd.DataFrame(approx2).sort_values(by=[0], ascending=False)\n",
        "exact2_results = pd.DataFrame(exact2).sort_values(by=[0], ascending=False)\n",
        "\n",
        "### Best simple regret minimization IQR - approx:\n",
        "lower_approx2 = np.asarray(approx2_results[4:5][0])[0]\n",
        "median_approx2 = np.asarray(approx2_results[9:10][0])[0]\n",
        "upper_approx2 = np.asarray(approx2_results[14:15][0])[0]\n",
        "\n",
        "lower_exact2 = np.asarray(exact2_results[4:5][0])[0]\n",
        "median_exact2 = np.asarray(exact2_results[9:10][0])[0]\n",
        "upper_exact2 = np.asarray(exact2_results[14:15][0])[0]"
      ]
    },
    {
      "cell_type": "code",
      "execution_count": 79,
      "metadata": {
        "id": "B8ncJDYeQxf3"
      },
      "outputs": [],
      "source": [
        "# Iteration12 :\n",
        "\n",
        "slice12 = 11\n",
        "\n",
        "approx12 = [simple_regret_approx_1[slice12],\n",
        "       simple_regret_approx_2[slice12],\n",
        "       simple_regret_approx_3[slice12],\n",
        "       simple_regret_approx_4[slice12],\n",
        "       simple_regret_approx_5[slice12],\n",
        "       simple_regret_approx_6[slice12],\n",
        "       simple_regret_approx_7[slice12],\n",
        "       simple_regret_approx_8[slice12],\n",
        "       simple_regret_approx_9[slice12],\n",
        "       simple_regret_approx_10[slice12],\n",
        "       simple_regret_approx_11[slice12],\n",
        "       simple_regret_approx_12[slice12],\n",
        "       simple_regret_approx_13[slice12],\n",
        "       simple_regret_approx_14[slice12],\n",
        "       simple_regret_approx_15[slice12],\n",
        "       simple_regret_approx_16[slice12],\n",
        "       simple_regret_approx_17[slice12],\n",
        "       simple_regret_approx_18[slice12],\n",
        "       simple_regret_approx_19[slice12],\n",
        "       simple_regret_approx_20[slice12]]\n",
        "\n",
        "exact12 = [simple_regret_exact_1[slice12],\n",
        "       simple_regret_exact_2[slice12],\n",
        "       simple_regret_exact_3[slice12],\n",
        "       simple_regret_exact_4[slice12],\n",
        "       simple_regret_exact_5[slice12],\n",
        "       simple_regret_exact_6[slice12],\n",
        "       simple_regret_exact_7[slice12],\n",
        "       simple_regret_exact_8[slice12],\n",
        "       simple_regret_exact_9[slice12],\n",
        "       simple_regret_exact_10[slice12],\n",
        "       simple_regret_exact_11[slice12],\n",
        "       simple_regret_exact_12[slice12],\n",
        "       simple_regret_exact_13[slice12],\n",
        "       simple_regret_exact_14[slice12],\n",
        "       simple_regret_exact_15[slice12],\n",
        "       simple_regret_exact_16[slice12],\n",
        "       simple_regret_exact_17[slice12],\n",
        "       simple_regret_exact_18[slice12],\n",
        "       simple_regret_exact_19[slice12],\n",
        "       simple_regret_exact_20[slice12]]\n",
        "\n",
        "approx12_results = pd.DataFrame(approx12).sort_values(by=[0], ascending=False)\n",
        "exact12_results = pd.DataFrame(exact12).sort_values(by=[0], ascending=False)\n",
        "\n",
        "### Best simple regret minimization IQR - approx:\n",
        "lower_approx12 = np.asarray(approx12_results[4:5][0])[0]\n",
        "median_approx12 = np.asarray(approx12_results[9:10][0])[0]\n",
        "upper_approx12 = np.asarray(approx12_results[14:15][0])[0]\n",
        "\n",
        "lower_exact12 = np.asarray(exact12_results[4:5][0])[0]\n",
        "median_exact12 = np.asarray(exact12_results[9:10][0])[0]\n",
        "upper_exact12 = np.asarray(exact12_results[14:15][0])[0]"
      ]
    },
    {
      "cell_type": "code",
      "execution_count": 80,
      "metadata": {
        "id": "Jn4KpGvcQxf4"
      },
      "outputs": [],
      "source": [
        "# Iteration3 :\n",
        "\n",
        "slice3 = 2\n",
        "\n",
        "approx3 = [simple_regret_approx_1[slice3],\n",
        "       simple_regret_approx_2[slice3],\n",
        "       simple_regret_approx_3[slice3],\n",
        "       simple_regret_approx_4[slice3],\n",
        "       simple_regret_approx_5[slice3],\n",
        "       simple_regret_approx_6[slice3],\n",
        "       simple_regret_approx_7[slice3],\n",
        "       simple_regret_approx_8[slice3],\n",
        "       simple_regret_approx_9[slice3],\n",
        "       simple_regret_approx_10[slice3],\n",
        "       simple_regret_approx_11[slice3],\n",
        "       simple_regret_approx_12[slice3],\n",
        "       simple_regret_approx_13[slice3],\n",
        "       simple_regret_approx_14[slice3],\n",
        "       simple_regret_approx_15[slice3],\n",
        "       simple_regret_approx_16[slice3],\n",
        "       simple_regret_approx_17[slice3],\n",
        "       simple_regret_approx_18[slice3],\n",
        "       simple_regret_approx_19[slice3],\n",
        "       simple_regret_approx_20[slice3]]\n",
        "\n",
        "exact3 = [simple_regret_exact_1[slice3],\n",
        "       simple_regret_exact_2[slice3],\n",
        "       simple_regret_exact_3[slice3],\n",
        "       simple_regret_exact_4[slice3],\n",
        "       simple_regret_exact_5[slice3],\n",
        "       simple_regret_exact_6[slice3],\n",
        "       simple_regret_exact_7[slice3],\n",
        "       simple_regret_exact_8[slice3],\n",
        "       simple_regret_exact_9[slice3],\n",
        "       simple_regret_exact_10[slice3],\n",
        "       simple_regret_exact_11[slice3],\n",
        "       simple_regret_exact_12[slice3],\n",
        "       simple_regret_exact_13[slice3],\n",
        "       simple_regret_exact_14[slice3],\n",
        "       simple_regret_exact_15[slice3],\n",
        "       simple_regret_exact_16[slice3],\n",
        "       simple_regret_exact_17[slice3],\n",
        "       simple_regret_exact_18[slice3],\n",
        "       simple_regret_exact_19[slice3],\n",
        "       simple_regret_exact_20[slice3]]\n",
        "\n",
        "approx3_results = pd.DataFrame(approx3).sort_values(by=[0], ascending=False)\n",
        "exact3_results = pd.DataFrame(exact3).sort_values(by=[0], ascending=False)\n",
        "\n",
        "### Best simple regret minimization IQR - approx:\n",
        "lower_approx3 = np.asarray(approx3_results[4:5][0])[0]\n",
        "median_approx3 = np.asarray(approx3_results[9:10][0])[0]\n",
        "upper_approx3 = np.asarray(approx3_results[14:15][0])[0]\n",
        "\n",
        "lower_exact3 = np.asarray(exact3_results[4:5][0])[0]\n",
        "median_exact3 = np.asarray(exact3_results[9:10][0])[0]\n",
        "upper_exact3 = np.asarray(exact3_results[14:15][0])[0]"
      ]
    },
    {
      "cell_type": "code",
      "execution_count": 81,
      "metadata": {
        "id": "plf83wxrQxf4"
      },
      "outputs": [],
      "source": [
        "# Iteration13 :\n",
        "\n",
        "slice13 = 12\n",
        "\n",
        "approx13 = [simple_regret_approx_1[slice13],\n",
        "       simple_regret_approx_2[slice13],\n",
        "       simple_regret_approx_3[slice13],\n",
        "       simple_regret_approx_4[slice13],\n",
        "       simple_regret_approx_5[slice13],\n",
        "       simple_regret_approx_6[slice13],\n",
        "       simple_regret_approx_7[slice13],\n",
        "       simple_regret_approx_8[slice13],\n",
        "       simple_regret_approx_9[slice13],\n",
        "       simple_regret_approx_10[slice13],\n",
        "       simple_regret_approx_11[slice13],\n",
        "       simple_regret_approx_12[slice13],\n",
        "       simple_regret_approx_13[slice13],\n",
        "       simple_regret_approx_14[slice13],\n",
        "       simple_regret_approx_15[slice13],\n",
        "       simple_regret_approx_16[slice13],\n",
        "       simple_regret_approx_17[slice13],\n",
        "       simple_regret_approx_18[slice13],\n",
        "       simple_regret_approx_19[slice13],\n",
        "       simple_regret_approx_20[slice13]]\n",
        "\n",
        "exact13 = [simple_regret_exact_1[slice13],\n",
        "       simple_regret_exact_2[slice13],\n",
        "       simple_regret_exact_3[slice13],\n",
        "       simple_regret_exact_4[slice13],\n",
        "       simple_regret_exact_5[slice13],\n",
        "       simple_regret_exact_6[slice13],\n",
        "       simple_regret_exact_7[slice13],\n",
        "       simple_regret_exact_8[slice13],\n",
        "       simple_regret_exact_9[slice13],\n",
        "       simple_regret_exact_10[slice13],\n",
        "       simple_regret_exact_11[slice13],\n",
        "       simple_regret_exact_12[slice13],\n",
        "       simple_regret_exact_13[slice13],\n",
        "       simple_regret_exact_14[slice13],\n",
        "       simple_regret_exact_15[slice13],\n",
        "       simple_regret_exact_16[slice13],\n",
        "       simple_regret_exact_17[slice13],\n",
        "       simple_regret_exact_18[slice13],\n",
        "       simple_regret_exact_19[slice13],\n",
        "       simple_regret_exact_20[slice13]]\n",
        "\n",
        "approx13_results = pd.DataFrame(approx13).sort_values(by=[0], ascending=False)\n",
        "exact13_results = pd.DataFrame(exact13).sort_values(by=[0], ascending=False)\n",
        "\n",
        "### Best simple regret minimization IQR - approx:\n",
        "lower_approx13 = np.asarray(approx13_results[4:5][0])[0]\n",
        "median_approx13 = np.asarray(approx13_results[9:10][0])[0]\n",
        "upper_approx13 = np.asarray(approx13_results[14:15][0])[0]\n",
        "\n",
        "lower_exact13 = np.asarray(exact13_results[4:5][0])[0]\n",
        "median_exact13 = np.asarray(exact13_results[9:10][0])[0]\n",
        "upper_exact13 = np.asarray(exact13_results[14:15][0])[0]"
      ]
    },
    {
      "cell_type": "code",
      "execution_count": 82,
      "metadata": {
        "id": "9A7mlVvJQxf5"
      },
      "outputs": [],
      "source": [
        "# Iteration4 :\n",
        "\n",
        "slice4 = 3\n",
        "\n",
        "approx4 = [simple_regret_approx_1[slice4],\n",
        "       simple_regret_approx_2[slice4],\n",
        "       simple_regret_approx_3[slice4],\n",
        "       simple_regret_approx_4[slice4],\n",
        "       simple_regret_approx_5[slice4],\n",
        "       simple_regret_approx_6[slice4],\n",
        "       simple_regret_approx_7[slice4],\n",
        "       simple_regret_approx_8[slice4],\n",
        "       simple_regret_approx_9[slice4],\n",
        "       simple_regret_approx_10[slice4],\n",
        "       simple_regret_approx_11[slice4],\n",
        "       simple_regret_approx_12[slice4],\n",
        "       simple_regret_approx_13[slice4],\n",
        "       simple_regret_approx_14[slice4],\n",
        "       simple_regret_approx_15[slice4],\n",
        "       simple_regret_approx_16[slice4],\n",
        "       simple_regret_approx_17[slice4],\n",
        "       simple_regret_approx_18[slice4],\n",
        "       simple_regret_approx_19[slice4],\n",
        "       simple_regret_approx_20[slice4]]\n",
        "\n",
        "exact4 = [simple_regret_exact_1[slice4],\n",
        "       simple_regret_exact_2[slice4],\n",
        "       simple_regret_exact_3[slice4],\n",
        "       simple_regret_exact_4[slice4],\n",
        "       simple_regret_exact_5[slice4],\n",
        "       simple_regret_exact_6[slice4],\n",
        "       simple_regret_exact_7[slice4],\n",
        "       simple_regret_exact_8[slice4],\n",
        "       simple_regret_exact_9[slice4],\n",
        "       simple_regret_exact_10[slice4],\n",
        "       simple_regret_exact_11[slice4],\n",
        "       simple_regret_exact_12[slice4],\n",
        "       simple_regret_exact_13[slice4],\n",
        "       simple_regret_exact_14[slice4],\n",
        "       simple_regret_exact_15[slice4],\n",
        "       simple_regret_exact_16[slice4],\n",
        "       simple_regret_exact_17[slice4],\n",
        "       simple_regret_exact_18[slice4],\n",
        "       simple_regret_exact_19[slice4],\n",
        "       simple_regret_exact_20[slice4]]\n",
        "\n",
        "approx4_results = pd.DataFrame(approx4).sort_values(by=[0], ascending=False)\n",
        "exact4_results = pd.DataFrame(exact4).sort_values(by=[0], ascending=False)\n",
        "\n",
        "### Best simple regret minimization IQR - approx:\n",
        "lower_approx4 = np.asarray(approx4_results[4:5][0])[0]\n",
        "median_approx4 = np.asarray(approx4_results[9:10][0])[0]\n",
        "upper_approx4 = np.asarray(approx4_results[14:15][0])[0]\n",
        "\n",
        "lower_exact4 = np.asarray(exact4_results[4:5][0])[0]\n",
        "median_exact4 = np.asarray(exact4_results[9:10][0])[0]\n",
        "upper_exact4 = np.asarray(exact4_results[14:15][0])[0]"
      ]
    },
    {
      "cell_type": "code",
      "execution_count": 83,
      "metadata": {
        "id": "ijq-rioYQxf5"
      },
      "outputs": [],
      "source": [
        "# Iteration14 :\n",
        "\n",
        "slice14 = 13\n",
        "\n",
        "approx14 = [simple_regret_approx_1[slice14],\n",
        "       simple_regret_approx_2[slice14],\n",
        "       simple_regret_approx_3[slice14],\n",
        "       simple_regret_approx_4[slice14],\n",
        "       simple_regret_approx_5[slice14],\n",
        "       simple_regret_approx_6[slice14],\n",
        "       simple_regret_approx_7[slice14],\n",
        "       simple_regret_approx_8[slice14],\n",
        "       simple_regret_approx_9[slice14],\n",
        "       simple_regret_approx_10[slice14],\n",
        "       simple_regret_approx_11[slice14],\n",
        "       simple_regret_approx_12[slice14],\n",
        "       simple_regret_approx_13[slice14],\n",
        "       simple_regret_approx_14[slice14],\n",
        "       simple_regret_approx_15[slice14],\n",
        "       simple_regret_approx_16[slice14],\n",
        "       simple_regret_approx_17[slice14],\n",
        "       simple_regret_approx_18[slice14],\n",
        "       simple_regret_approx_19[slice14],\n",
        "       simple_regret_approx_20[slice14]]\n",
        "\n",
        "exact14 = [simple_regret_exact_1[slice14],\n",
        "       simple_regret_exact_2[slice14],\n",
        "       simple_regret_exact_3[slice14],\n",
        "       simple_regret_exact_4[slice14],\n",
        "       simple_regret_exact_5[slice14],\n",
        "       simple_regret_exact_6[slice14],\n",
        "       simple_regret_exact_7[slice14],\n",
        "       simple_regret_exact_8[slice14],\n",
        "       simple_regret_exact_9[slice14],\n",
        "       simple_regret_exact_10[slice14],\n",
        "       simple_regret_exact_11[slice14],\n",
        "       simple_regret_exact_12[slice14],\n",
        "       simple_regret_exact_13[slice14],\n",
        "       simple_regret_exact_14[slice14],\n",
        "       simple_regret_exact_15[slice14],\n",
        "       simple_regret_exact_16[slice14],\n",
        "       simple_regret_exact_17[slice14],\n",
        "       simple_regret_exact_18[slice14],\n",
        "       simple_regret_exact_19[slice14],\n",
        "       simple_regret_exact_20[slice14]]\n",
        "\n",
        "approx14_results = pd.DataFrame(approx14).sort_values(by=[0], ascending=False)\n",
        "exact14_results = pd.DataFrame(exact14).sort_values(by=[0], ascending=False)\n",
        "\n",
        "### Best simple regret minimization IQR - approx:\n",
        "lower_approx14 = np.asarray(approx14_results[4:5][0])[0]\n",
        "median_approx14 = np.asarray(approx14_results[9:10][0])[0]\n",
        "upper_approx14 = np.asarray(approx14_results[14:15][0])[0]\n",
        "\n",
        "lower_exact14 = np.asarray(exact14_results[4:5][0])[0]\n",
        "median_exact14 = np.asarray(exact14_results[9:10][0])[0]\n",
        "upper_exact14 = np.asarray(exact14_results[14:15][0])[0]"
      ]
    },
    {
      "cell_type": "code",
      "execution_count": 84,
      "metadata": {
        "id": "XINlZjoTd-ZK"
      },
      "outputs": [],
      "source": [
        "# Iteration5 :\n",
        "\n",
        "slice5 = 4\n",
        "\n",
        "approx5 = [simple_regret_approx_1[slice5],\n",
        "       simple_regret_approx_2[slice5],\n",
        "       simple_regret_approx_3[slice5],\n",
        "       simple_regret_approx_4[slice5],\n",
        "       simple_regret_approx_5[slice5],\n",
        "       simple_regret_approx_6[slice5],\n",
        "       simple_regret_approx_7[slice5],\n",
        "       simple_regret_approx_8[slice5],\n",
        "       simple_regret_approx_9[slice5],\n",
        "       simple_regret_approx_10[slice5],\n",
        "       simple_regret_approx_11[slice5],\n",
        "       simple_regret_approx_12[slice5],\n",
        "       simple_regret_approx_13[slice5],\n",
        "       simple_regret_approx_14[slice5],\n",
        "       simple_regret_approx_15[slice5],\n",
        "       simple_regret_approx_16[slice5],\n",
        "       simple_regret_approx_17[slice5],\n",
        "       simple_regret_approx_18[slice5],\n",
        "       simple_regret_approx_19[slice5],\n",
        "       simple_regret_approx_20[slice5]]\n",
        "\n",
        "exact5 = [simple_regret_exact_1[slice5],\n",
        "       simple_regret_exact_2[slice5],\n",
        "       simple_regret_exact_3[slice5],\n",
        "       simple_regret_exact_4[slice5],\n",
        "       simple_regret_exact_5[slice5],\n",
        "       simple_regret_exact_6[slice5],\n",
        "       simple_regret_exact_7[slice5],\n",
        "       simple_regret_exact_8[slice5],\n",
        "       simple_regret_exact_9[slice5],\n",
        "       simple_regret_exact_10[slice5],\n",
        "       simple_regret_exact_11[slice5],\n",
        "       simple_regret_exact_12[slice5],\n",
        "       simple_regret_exact_13[slice5],\n",
        "       simple_regret_exact_14[slice5],\n",
        "       simple_regret_exact_15[slice5],\n",
        "       simple_regret_exact_16[slice5],\n",
        "       simple_regret_exact_17[slice5],\n",
        "       simple_regret_exact_18[slice5],\n",
        "       simple_regret_exact_19[slice5],\n",
        "       simple_regret_exact_20[slice5]]\n",
        "\n",
        "approx5_results = pd.DataFrame(approx5).sort_values(by=[0], ascending=False)\n",
        "exact5_results = pd.DataFrame(exact5).sort_values(by=[0], ascending=False)\n",
        "\n",
        "### Best simple regret minimization IQR - approx:\n",
        "lower_approx5 = np.asarray(approx5_results[4:5][0])[0]\n",
        "median_approx5 = np.asarray(approx5_results[9:10][0])[0]\n",
        "upper_approx5 = np.asarray(approx5_results[14:15][0])[0]\n",
        "\n",
        "lower_exact5 = np.asarray(exact5_results[4:5][0])[0]\n",
        "median_exact5 = np.asarray(exact5_results[9:10][0])[0]\n",
        "upper_exact5 = np.asarray(exact5_results[14:15][0])[0]"
      ]
    },
    {
      "cell_type": "code",
      "execution_count": 85,
      "metadata": {
        "id": "4aZ7C8sOQxf6"
      },
      "outputs": [],
      "source": [
        "# Iteration15 :\n",
        "\n",
        "slice15 = 14\n",
        "\n",
        "approx15 = [simple_regret_approx_1[slice15],\n",
        "       simple_regret_approx_2[slice15],\n",
        "       simple_regret_approx_3[slice15],\n",
        "       simple_regret_approx_4[slice15],\n",
        "       simple_regret_approx_5[slice15],\n",
        "       simple_regret_approx_6[slice15],\n",
        "       simple_regret_approx_7[slice15],\n",
        "       simple_regret_approx_8[slice15],\n",
        "       simple_regret_approx_9[slice15],\n",
        "       simple_regret_approx_10[slice15],\n",
        "       simple_regret_approx_11[slice15],\n",
        "       simple_regret_approx_12[slice15],\n",
        "       simple_regret_approx_13[slice15],\n",
        "       simple_regret_approx_14[slice15],\n",
        "       simple_regret_approx_15[slice15],\n",
        "       simple_regret_approx_16[slice15],\n",
        "       simple_regret_approx_17[slice15],\n",
        "       simple_regret_approx_18[slice15],\n",
        "       simple_regret_approx_19[slice15],\n",
        "       simple_regret_approx_20[slice15]]\n",
        "\n",
        "exact15 = [simple_regret_exact_1[slice15],\n",
        "       simple_regret_exact_2[slice15],\n",
        "       simple_regret_exact_3[slice15],\n",
        "       simple_regret_exact_4[slice15],\n",
        "       simple_regret_exact_5[slice15],\n",
        "       simple_regret_exact_6[slice15],\n",
        "       simple_regret_exact_7[slice15],\n",
        "       simple_regret_exact_8[slice15],\n",
        "       simple_regret_exact_9[slice15],\n",
        "       simple_regret_exact_10[slice15],\n",
        "       simple_regret_exact_11[slice15],\n",
        "       simple_regret_exact_12[slice15],\n",
        "       simple_regret_exact_13[slice15],\n",
        "       simple_regret_exact_14[slice15],\n",
        "       simple_regret_exact_15[slice15],\n",
        "       simple_regret_exact_16[slice15],\n",
        "       simple_regret_exact_17[slice15],\n",
        "       simple_regret_exact_18[slice15],\n",
        "       simple_regret_exact_19[slice15],\n",
        "       simple_regret_exact_20[slice15]]\n",
        "\n",
        "approx15_results = pd.DataFrame(approx15).sort_values(by=[0], ascending=False)\n",
        "exact15_results = pd.DataFrame(exact15).sort_values(by=[0], ascending=False)\n",
        "\n",
        "### Best simple regret minimization IQR - approx:\n",
        "lower_approx15 = np.asarray(approx15_results[4:5][0])[0]\n",
        "median_approx15 = np.asarray(approx15_results[9:10][0])[0]\n",
        "upper_approx15 = np.asarray(approx15_results[14:15][0])[0]\n",
        "\n",
        "lower_exact15 = np.asarray(exact15_results[4:5][0])[0]\n",
        "median_exact15 = np.asarray(exact15_results[9:10][0])[0]\n",
        "upper_exact15 = np.asarray(exact15_results[14:15][0])[0]"
      ]
    },
    {
      "cell_type": "code",
      "execution_count": 86,
      "metadata": {
        "id": "KJINKhv1Qxf6"
      },
      "outputs": [],
      "source": [
        "# Iteration6 :\n",
        "\n",
        "slice6 = 5\n",
        "\n",
        "approx6 = [simple_regret_approx_1[slice6],\n",
        "       simple_regret_approx_2[slice6],\n",
        "       simple_regret_approx_3[slice6],\n",
        "       simple_regret_approx_4[slice6],\n",
        "       simple_regret_approx_5[slice6],\n",
        "       simple_regret_approx_6[slice6],\n",
        "       simple_regret_approx_7[slice6],\n",
        "       simple_regret_approx_8[slice6],\n",
        "       simple_regret_approx_9[slice6],\n",
        "       simple_regret_approx_10[slice6],\n",
        "       simple_regret_approx_11[slice6],\n",
        "       simple_regret_approx_12[slice6],\n",
        "       simple_regret_approx_13[slice6],\n",
        "       simple_regret_approx_14[slice6],\n",
        "       simple_regret_approx_15[slice6],\n",
        "       simple_regret_approx_16[slice6],\n",
        "       simple_regret_approx_17[slice6],\n",
        "       simple_regret_approx_18[slice6],\n",
        "       simple_regret_approx_19[slice6],\n",
        "       simple_regret_approx_20[slice6]]\n",
        "\n",
        "exact6 = [simple_regret_exact_1[slice6],\n",
        "       simple_regret_exact_2[slice6],\n",
        "       simple_regret_exact_3[slice6],\n",
        "       simple_regret_exact_4[slice6],\n",
        "       simple_regret_exact_5[slice6],\n",
        "       simple_regret_exact_6[slice6],\n",
        "       simple_regret_exact_7[slice6],\n",
        "       simple_regret_exact_8[slice6],\n",
        "       simple_regret_exact_9[slice6],\n",
        "       simple_regret_exact_10[slice6],\n",
        "       simple_regret_exact_11[slice6],\n",
        "       simple_regret_exact_12[slice6],\n",
        "       simple_regret_exact_13[slice6],\n",
        "       simple_regret_exact_14[slice6],\n",
        "       simple_regret_exact_15[slice6],\n",
        "       simple_regret_exact_16[slice6],\n",
        "       simple_regret_exact_17[slice6],\n",
        "       simple_regret_exact_18[slice6],\n",
        "       simple_regret_exact_19[slice6],\n",
        "       simple_regret_exact_20[slice6]]\n",
        "\n",
        "approx6_results = pd.DataFrame(approx6).sort_values(by=[0], ascending=False)\n",
        "exact6_results = pd.DataFrame(exact6).sort_values(by=[0], ascending=False)\n",
        "\n",
        "### Best simple regret minimization IQR - approx:\n",
        "lower_approx6 = np.asarray(approx6_results[4:5][0])[0]\n",
        "median_approx6 = np.asarray(approx6_results[9:10][0])[0]\n",
        "upper_approx6 = np.asarray(approx6_results[14:15][0])[0]\n",
        "\n",
        "lower_exact6 = np.asarray(exact6_results[4:5][0])[0]\n",
        "median_exact6 = np.asarray(exact6_results[9:10][0])[0]\n",
        "upper_exact6 = np.asarray(exact6_results[14:15][0])[0]"
      ]
    },
    {
      "cell_type": "code",
      "execution_count": 87,
      "metadata": {
        "id": "nwC5N1FsQxf7"
      },
      "outputs": [],
      "source": [
        "# Iteration16 :\n",
        "\n",
        "slice16 = 15\n",
        "\n",
        "approx16 = [simple_regret_approx_1[slice16],\n",
        "       simple_regret_approx_2[slice16],\n",
        "       simple_regret_approx_3[slice16],\n",
        "       simple_regret_approx_4[slice16],\n",
        "       simple_regret_approx_5[slice16],\n",
        "       simple_regret_approx_6[slice16],\n",
        "       simple_regret_approx_7[slice16],\n",
        "       simple_regret_approx_8[slice16],\n",
        "       simple_regret_approx_9[slice16],\n",
        "       simple_regret_approx_10[slice16],\n",
        "       simple_regret_approx_11[slice16],\n",
        "       simple_regret_approx_12[slice16],\n",
        "       simple_regret_approx_13[slice16],\n",
        "       simple_regret_approx_14[slice16],\n",
        "       simple_regret_approx_15[slice16],\n",
        "       simple_regret_approx_16[slice16],\n",
        "       simple_regret_approx_17[slice16],\n",
        "       simple_regret_approx_18[slice16],\n",
        "       simple_regret_approx_19[slice16],\n",
        "       simple_regret_approx_20[slice16]]\n",
        "\n",
        "exact16 = [simple_regret_exact_1[slice16],\n",
        "       simple_regret_exact_2[slice16],\n",
        "       simple_regret_exact_3[slice16],\n",
        "       simple_regret_exact_4[slice16],\n",
        "       simple_regret_exact_5[slice16],\n",
        "       simple_regret_exact_6[slice16],\n",
        "       simple_regret_exact_7[slice16],\n",
        "       simple_regret_exact_8[slice16],\n",
        "       simple_regret_exact_9[slice16],\n",
        "       simple_regret_exact_10[slice16],\n",
        "       simple_regret_exact_11[slice16],\n",
        "       simple_regret_exact_12[slice16],\n",
        "       simple_regret_exact_13[slice16],\n",
        "       simple_regret_exact_14[slice16],\n",
        "       simple_regret_exact_15[slice16],\n",
        "       simple_regret_exact_16[slice16],\n",
        "       simple_regret_exact_17[slice16],\n",
        "       simple_regret_exact_18[slice16],\n",
        "       simple_regret_exact_19[slice16],\n",
        "       simple_regret_exact_20[slice16]]\n",
        "\n",
        "approx16_results = pd.DataFrame(approx16).sort_values(by=[0], ascending=False)\n",
        "exact16_results = pd.DataFrame(exact16).sort_values(by=[0], ascending=False)\n",
        "\n",
        "### Best simple regret minimization IQR - approx:\n",
        "lower_approx16 = np.asarray(approx16_results[4:5][0])[0]\n",
        "median_approx16 = np.asarray(approx16_results[9:10][0])[0]\n",
        "upper_approx16 = np.asarray(approx16_results[14:15][0])[0]\n",
        "\n",
        "lower_exact16 = np.asarray(exact16_results[4:5][0])[0]\n",
        "median_exact16 = np.asarray(exact16_results[9:10][0])[0]\n",
        "upper_exact16 = np.asarray(exact16_results[14:15][0])[0]"
      ]
    },
    {
      "cell_type": "code",
      "execution_count": 88,
      "metadata": {
        "id": "TrPV0AfnQxf7"
      },
      "outputs": [],
      "source": [
        "# Iteration7 :\n",
        "\n",
        "slice7 = 6\n",
        "\n",
        "approx7 = [simple_regret_approx_1[slice7],\n",
        "       simple_regret_approx_2[slice7],\n",
        "       simple_regret_approx_3[slice7],\n",
        "       simple_regret_approx_4[slice7],\n",
        "       simple_regret_approx_5[slice7],\n",
        "       simple_regret_approx_6[slice7],\n",
        "       simple_regret_approx_7[slice7],\n",
        "       simple_regret_approx_8[slice7],\n",
        "       simple_regret_approx_9[slice7],\n",
        "       simple_regret_approx_10[slice7],\n",
        "       simple_regret_approx_11[slice7],\n",
        "       simple_regret_approx_12[slice7],\n",
        "       simple_regret_approx_13[slice7],\n",
        "       simple_regret_approx_14[slice7],\n",
        "       simple_regret_approx_15[slice7],\n",
        "       simple_regret_approx_16[slice7],\n",
        "       simple_regret_approx_17[slice7],\n",
        "       simple_regret_approx_18[slice7],\n",
        "       simple_regret_approx_19[slice7],\n",
        "       simple_regret_approx_20[slice7]]\n",
        "\n",
        "exact7 = [simple_regret_exact_1[slice7],\n",
        "       simple_regret_exact_2[slice7],\n",
        "       simple_regret_exact_3[slice7],\n",
        "       simple_regret_exact_4[slice7],\n",
        "       simple_regret_exact_5[slice7],\n",
        "       simple_regret_exact_6[slice7],\n",
        "       simple_regret_exact_7[slice7],\n",
        "       simple_regret_exact_8[slice7],\n",
        "       simple_regret_exact_9[slice7],\n",
        "       simple_regret_exact_10[slice7],\n",
        "       simple_regret_exact_11[slice7],\n",
        "       simple_regret_exact_12[slice7],\n",
        "       simple_regret_exact_13[slice7],\n",
        "       simple_regret_exact_14[slice7],\n",
        "       simple_regret_exact_15[slice7],\n",
        "       simple_regret_exact_16[slice7],\n",
        "       simple_regret_exact_17[slice7],\n",
        "       simple_regret_exact_18[slice7],\n",
        "       simple_regret_exact_19[slice7],\n",
        "       simple_regret_exact_20[slice7]]\n",
        "\n",
        "approx7_results = pd.DataFrame(approx7).sort_values(by=[0], ascending=False)\n",
        "exact7_results = pd.DataFrame(exact7).sort_values(by=[0], ascending=False)\n",
        "\n",
        "### Best simple regret minimization IQR - approx:\n",
        "lower_approx7 = np.asarray(approx7_results[4:5][0])[0]\n",
        "median_approx7 = np.asarray(approx7_results[9:10][0])[0]\n",
        "upper_approx7 = np.asarray(approx7_results[14:15][0])[0]\n",
        "\n",
        "lower_exact7 = np.asarray(exact7_results[4:5][0])[0]\n",
        "median_exact7 = np.asarray(exact7_results[9:10][0])[0]\n",
        "upper_exact7 = np.asarray(exact7_results[14:15][0])[0]"
      ]
    },
    {
      "cell_type": "code",
      "execution_count": 89,
      "metadata": {
        "id": "Ub_-wpK4Qxf8"
      },
      "outputs": [],
      "source": [
        "# Iteration17 :\n",
        "\n",
        "slice17 = 16\n",
        "\n",
        "approx17 = [simple_regret_approx_1[slice17],\n",
        "       simple_regret_approx_2[slice17],\n",
        "       simple_regret_approx_3[slice17],\n",
        "       simple_regret_approx_4[slice17],\n",
        "       simple_regret_approx_5[slice17],\n",
        "       simple_regret_approx_6[slice17],\n",
        "       simple_regret_approx_7[slice17],\n",
        "       simple_regret_approx_8[slice17],\n",
        "       simple_regret_approx_9[slice17],\n",
        "       simple_regret_approx_10[slice17],\n",
        "       simple_regret_approx_11[slice17],\n",
        "       simple_regret_approx_12[slice17],\n",
        "       simple_regret_approx_13[slice17],\n",
        "       simple_regret_approx_14[slice17],\n",
        "       simple_regret_approx_15[slice17],\n",
        "       simple_regret_approx_16[slice17],\n",
        "       simple_regret_approx_17[slice17],\n",
        "       simple_regret_approx_18[slice17],\n",
        "       simple_regret_approx_19[slice17],\n",
        "       simple_regret_approx_20[slice17]]\n",
        "\n",
        "exact17 = [simple_regret_exact_1[slice17],\n",
        "       simple_regret_exact_2[slice17],\n",
        "       simple_regret_exact_3[slice17],\n",
        "       simple_regret_exact_4[slice17],\n",
        "       simple_regret_exact_5[slice17],\n",
        "       simple_regret_exact_6[slice17],\n",
        "       simple_regret_exact_7[slice17],\n",
        "       simple_regret_exact_8[slice17],\n",
        "       simple_regret_exact_9[slice17],\n",
        "       simple_regret_exact_10[slice17],\n",
        "       simple_regret_exact_11[slice17],\n",
        "       simple_regret_exact_12[slice17],\n",
        "       simple_regret_exact_13[slice17],\n",
        "       simple_regret_exact_14[slice17],\n",
        "       simple_regret_exact_15[slice17],\n",
        "       simple_regret_exact_16[slice17],\n",
        "       simple_regret_exact_17[slice17],\n",
        "       simple_regret_exact_18[slice17],\n",
        "       simple_regret_exact_19[slice17],\n",
        "       simple_regret_exact_20[slice17]]\n",
        "\n",
        "approx17_results = pd.DataFrame(approx17).sort_values(by=[0], ascending=False)\n",
        "exact17_results = pd.DataFrame(exact17).sort_values(by=[0], ascending=False)\n",
        "\n",
        "### Best simple regret minimization IQR - approx:\n",
        "lower_approx17 = np.asarray(approx17_results[4:5][0])[0]\n",
        "median_approx17 = np.asarray(approx17_results[9:10][0])[0]\n",
        "upper_approx17 = np.asarray(approx17_results[14:15][0])[0]\n",
        "\n",
        "lower_exact17 = np.asarray(exact17_results[4:5][0])[0]\n",
        "median_exact17 = np.asarray(exact17_results[9:10][0])[0]\n",
        "upper_exact17 = np.asarray(exact17_results[14:15][0])[0]"
      ]
    },
    {
      "cell_type": "code",
      "execution_count": 90,
      "metadata": {
        "id": "-6VLo37PQxf8"
      },
      "outputs": [],
      "source": [
        "# Iteration8 :\n",
        "\n",
        "slice8 = 7\n",
        "\n",
        "approx8 = [simple_regret_approx_1[slice8],\n",
        "       simple_regret_approx_2[slice8],\n",
        "       simple_regret_approx_3[slice8],\n",
        "       simple_regret_approx_4[slice8],\n",
        "       simple_regret_approx_5[slice8],\n",
        "       simple_regret_approx_6[slice8],\n",
        "       simple_regret_approx_7[slice8],\n",
        "       simple_regret_approx_8[slice8],\n",
        "       simple_regret_approx_9[slice8],\n",
        "       simple_regret_approx_10[slice8],\n",
        "       simple_regret_approx_11[slice8],\n",
        "       simple_regret_approx_12[slice8],\n",
        "       simple_regret_approx_13[slice8],\n",
        "       simple_regret_approx_14[slice8],\n",
        "       simple_regret_approx_15[slice8],\n",
        "       simple_regret_approx_16[slice8],\n",
        "       simple_regret_approx_17[slice8],\n",
        "       simple_regret_approx_18[slice8],\n",
        "       simple_regret_approx_19[slice8],\n",
        "       simple_regret_approx_20[slice8]]\n",
        "\n",
        "exact8 = [simple_regret_exact_1[slice8],\n",
        "       simple_regret_exact_2[slice8],\n",
        "       simple_regret_exact_3[slice8],\n",
        "       simple_regret_exact_4[slice8],\n",
        "       simple_regret_exact_5[slice8],\n",
        "       simple_regret_exact_6[slice8],\n",
        "       simple_regret_exact_7[slice8],\n",
        "       simple_regret_exact_8[slice8],\n",
        "       simple_regret_exact_9[slice8],\n",
        "       simple_regret_exact_10[slice8],\n",
        "       simple_regret_exact_11[slice8],\n",
        "       simple_regret_exact_12[slice8],\n",
        "       simple_regret_exact_13[slice8],\n",
        "       simple_regret_exact_14[slice8],\n",
        "       simple_regret_exact_15[slice8],\n",
        "       simple_regret_exact_16[slice8],\n",
        "       simple_regret_exact_17[slice8],\n",
        "       simple_regret_exact_18[slice8],\n",
        "       simple_regret_exact_19[slice8],\n",
        "       simple_regret_exact_20[slice8]]\n",
        "\n",
        "approx8_results = pd.DataFrame(approx8).sort_values(by=[0], ascending=False)\n",
        "exact8_results = pd.DataFrame(exact8).sort_values(by=[0], ascending=False)\n",
        "\n",
        "### Best simple regret minimization IQR - approx:\n",
        "lower_approx8 = np.asarray(approx8_results[4:5][0])[0]\n",
        "median_approx8 = np.asarray(approx8_results[9:10][0])[0]\n",
        "upper_approx8 = np.asarray(approx8_results[14:15][0])[0]\n",
        "\n",
        "lower_exact8 = np.asarray(exact8_results[4:5][0])[0]\n",
        "median_exact8 = np.asarray(exact8_results[9:10][0])[0]\n",
        "upper_exact8 = np.asarray(exact8_results[14:15][0])[0]"
      ]
    },
    {
      "cell_type": "code",
      "execution_count": 91,
      "metadata": {
        "id": "2Dp-9CC2Qxf9"
      },
      "outputs": [],
      "source": [
        "# Iteration18 :\n",
        "\n",
        "slice18 = 17\n",
        "\n",
        "approx18 = [simple_regret_approx_1[slice18],\n",
        "       simple_regret_approx_2[slice18],\n",
        "       simple_regret_approx_3[slice18],\n",
        "       simple_regret_approx_4[slice18],\n",
        "       simple_regret_approx_5[slice18],\n",
        "       simple_regret_approx_6[slice18],\n",
        "       simple_regret_approx_7[slice18],\n",
        "       simple_regret_approx_8[slice18],\n",
        "       simple_regret_approx_9[slice18],\n",
        "       simple_regret_approx_10[slice18],\n",
        "       simple_regret_approx_11[slice18],\n",
        "       simple_regret_approx_12[slice18],\n",
        "       simple_regret_approx_13[slice18],\n",
        "       simple_regret_approx_14[slice18],\n",
        "       simple_regret_approx_15[slice18],\n",
        "       simple_regret_approx_16[slice18],\n",
        "       simple_regret_approx_17[slice18],\n",
        "       simple_regret_approx_18[slice18],\n",
        "       simple_regret_approx_19[slice18],\n",
        "       simple_regret_approx_20[slice18]]\n",
        "\n",
        "exact18 = [simple_regret_exact_1[slice18],\n",
        "       simple_regret_exact_2[slice18],\n",
        "       simple_regret_exact_3[slice18],\n",
        "       simple_regret_exact_4[slice18],\n",
        "       simple_regret_exact_5[slice18],\n",
        "       simple_regret_exact_6[slice18],\n",
        "       simple_regret_exact_7[slice18],\n",
        "       simple_regret_exact_8[slice18],\n",
        "       simple_regret_exact_9[slice18],\n",
        "       simple_regret_exact_10[slice18],\n",
        "       simple_regret_exact_11[slice18],\n",
        "       simple_regret_exact_12[slice18],\n",
        "       simple_regret_exact_13[slice18],\n",
        "       simple_regret_exact_14[slice18],\n",
        "       simple_regret_exact_15[slice18],\n",
        "       simple_regret_exact_16[slice18],\n",
        "       simple_regret_exact_17[slice18],\n",
        "       simple_regret_exact_18[slice18],\n",
        "       simple_regret_exact_19[slice18],\n",
        "       simple_regret_exact_20[slice18]]\n",
        "\n",
        "approx18_results = pd.DataFrame(approx18).sort_values(by=[0], ascending=False)\n",
        "exact18_results = pd.DataFrame(exact18).sort_values(by=[0], ascending=False)\n",
        "\n",
        "### Best simple regret minimization IQR - approx:\n",
        "lower_approx18 = np.asarray(approx18_results[4:5][0])[0]\n",
        "median_approx18 = np.asarray(approx18_results[9:10][0])[0]\n",
        "upper_approx18 = np.asarray(approx18_results[14:15][0])[0]\n",
        "\n",
        "lower_exact18 = np.asarray(exact18_results[4:5][0])[0]\n",
        "median_exact18 = np.asarray(exact18_results[9:10][0])[0]\n",
        "upper_exact18 = np.asarray(exact18_results[14:15][0])[0]"
      ]
    },
    {
      "cell_type": "code",
      "execution_count": 92,
      "metadata": {
        "id": "SqiaOpB7Qxf9"
      },
      "outputs": [],
      "source": [
        "# Iteration9 :\n",
        "\n",
        "slice9 = 8\n",
        "\n",
        "approx9 = [simple_regret_approx_1[slice9],\n",
        "       simple_regret_approx_2[slice9],\n",
        "       simple_regret_approx_3[slice9],\n",
        "       simple_regret_approx_4[slice9],\n",
        "       simple_regret_approx_5[slice9],\n",
        "       simple_regret_approx_6[slice9],\n",
        "       simple_regret_approx_7[slice9],\n",
        "       simple_regret_approx_8[slice9],\n",
        "       simple_regret_approx_9[slice9],\n",
        "       simple_regret_approx_10[slice9],\n",
        "       simple_regret_approx_11[slice9],\n",
        "       simple_regret_approx_12[slice9],\n",
        "       simple_regret_approx_13[slice9],\n",
        "       simple_regret_approx_14[slice9],\n",
        "       simple_regret_approx_15[slice9],\n",
        "       simple_regret_approx_16[slice9],\n",
        "       simple_regret_approx_17[slice9],\n",
        "       simple_regret_approx_18[slice9],\n",
        "       simple_regret_approx_19[slice9],\n",
        "       simple_regret_approx_20[slice9]]\n",
        "\n",
        "exact9 = [simple_regret_exact_1[slice9],\n",
        "       simple_regret_exact_2[slice9],\n",
        "       simple_regret_exact_3[slice9],\n",
        "       simple_regret_exact_4[slice9],\n",
        "       simple_regret_exact_5[slice9],\n",
        "       simple_regret_exact_6[slice9],\n",
        "       simple_regret_exact_7[slice9],\n",
        "       simple_regret_exact_8[slice9],\n",
        "       simple_regret_exact_9[slice9],\n",
        "       simple_regret_exact_10[slice9],\n",
        "       simple_regret_exact_11[slice9],\n",
        "       simple_regret_exact_12[slice9],\n",
        "       simple_regret_exact_13[slice9],\n",
        "       simple_regret_exact_14[slice9],\n",
        "       simple_regret_exact_15[slice9],\n",
        "       simple_regret_exact_16[slice9],\n",
        "       simple_regret_exact_17[slice9],\n",
        "       simple_regret_exact_18[slice9],\n",
        "       simple_regret_exact_19[slice9],\n",
        "       simple_regret_exact_20[slice9]]\n",
        "\n",
        "approx9_results = pd.DataFrame(approx9).sort_values(by=[0], ascending=False)\n",
        "exact9_results = pd.DataFrame(exact9).sort_values(by=[0], ascending=False)\n",
        "\n",
        "### Best simple regret minimization IQR - approx:\n",
        "lower_approx9 = np.asarray(approx9_results[4:5][0])[0]\n",
        "median_approx9 = np.asarray(approx9_results[9:10][0])[0]\n",
        "upper_approx9 = np.asarray(approx9_results[14:15][0])[0]\n",
        "\n",
        "lower_exact9 = np.asarray(exact9_results[4:5][0])[0]\n",
        "median_exact9 = np.asarray(exact9_results[9:10][0])[0]\n",
        "upper_exact9 = np.asarray(exact9_results[14:15][0])[0]"
      ]
    },
    {
      "cell_type": "code",
      "execution_count": 93,
      "metadata": {
        "id": "OQkCCOsPQxf9"
      },
      "outputs": [],
      "source": [
        "# Iteration19 :\n",
        "\n",
        "slice19 = 18\n",
        "\n",
        "approx19 = [simple_regret_approx_1[slice19],\n",
        "       simple_regret_approx_2[slice19],\n",
        "       simple_regret_approx_3[slice19],\n",
        "       simple_regret_approx_4[slice19],\n",
        "       simple_regret_approx_5[slice19],\n",
        "       simple_regret_approx_6[slice19],\n",
        "       simple_regret_approx_7[slice19],\n",
        "       simple_regret_approx_8[slice19],\n",
        "       simple_regret_approx_9[slice19],\n",
        "       simple_regret_approx_10[slice19],\n",
        "       simple_regret_approx_11[slice19],\n",
        "       simple_regret_approx_12[slice19],\n",
        "       simple_regret_approx_13[slice19],\n",
        "       simple_regret_approx_14[slice19],\n",
        "       simple_regret_approx_15[slice19],\n",
        "       simple_regret_approx_16[slice19],\n",
        "       simple_regret_approx_17[slice19],\n",
        "       simple_regret_approx_18[slice19],\n",
        "       simple_regret_approx_19[slice19],\n",
        "       simple_regret_approx_20[slice19]]\n",
        "\n",
        "exact19 = [simple_regret_exact_1[slice19],\n",
        "       simple_regret_exact_2[slice19],\n",
        "       simple_regret_exact_3[slice19],\n",
        "       simple_regret_exact_4[slice19],\n",
        "       simple_regret_exact_5[slice19],\n",
        "       simple_regret_exact_6[slice19],\n",
        "       simple_regret_exact_7[slice19],\n",
        "       simple_regret_exact_8[slice19],\n",
        "       simple_regret_exact_9[slice19],\n",
        "       simple_regret_exact_10[slice19],\n",
        "       simple_regret_exact_11[slice19],\n",
        "       simple_regret_exact_12[slice19],\n",
        "       simple_regret_exact_13[slice19],\n",
        "       simple_regret_exact_14[slice19],\n",
        "       simple_regret_exact_15[slice19],\n",
        "       simple_regret_exact_16[slice19],\n",
        "       simple_regret_exact_17[slice19],\n",
        "       simple_regret_exact_18[slice19],\n",
        "       simple_regret_exact_19[slice19],\n",
        "       simple_regret_exact_20[slice19]]\n",
        "\n",
        "approx19_results = pd.DataFrame(approx19).sort_values(by=[0], ascending=False)\n",
        "exact19_results = pd.DataFrame(exact19).sort_values(by=[0], ascending=False)\n",
        "\n",
        "### Best simple regret minimization IQR - approx:\n",
        "lower_approx19 = np.asarray(approx19_results[4:5][0])[0]\n",
        "median_approx19 = np.asarray(approx19_results[9:10][0])[0]\n",
        "upper_approx19 = np.asarray(approx19_results[14:15][0])[0]\n",
        "\n",
        "lower_exact19 = np.asarray(exact19_results[4:5][0])[0]\n",
        "median_exact19 = np.asarray(exact19_results[9:10][0])[0]\n",
        "upper_exact19 = np.asarray(exact19_results[14:15][0])[0]"
      ]
    },
    {
      "cell_type": "code",
      "execution_count": 94,
      "metadata": {
        "id": "h4vtWahcQxf-"
      },
      "outputs": [],
      "source": [
        "# Iteration10 :\n",
        "\n",
        "slice10 = 9\n",
        "\n",
        "approx10 = [simple_regret_approx_1[slice10],\n",
        "       simple_regret_approx_2[slice10],\n",
        "       simple_regret_approx_3[slice10],\n",
        "       simple_regret_approx_4[slice10],\n",
        "       simple_regret_approx_5[slice10],\n",
        "       simple_regret_approx_6[slice10],\n",
        "       simple_regret_approx_7[slice10],\n",
        "       simple_regret_approx_8[slice10],\n",
        "       simple_regret_approx_9[slice10],\n",
        "       simple_regret_approx_10[slice10],\n",
        "       simple_regret_approx_11[slice10],\n",
        "       simple_regret_approx_12[slice10],\n",
        "       simple_regret_approx_13[slice10],\n",
        "       simple_regret_approx_14[slice10],\n",
        "       simple_regret_approx_15[slice10],\n",
        "       simple_regret_approx_16[slice10],\n",
        "       simple_regret_approx_17[slice10],\n",
        "       simple_regret_approx_18[slice10],\n",
        "       simple_regret_approx_19[slice10],\n",
        "       simple_regret_approx_20[slice10]]\n",
        "\n",
        "exact10 = [simple_regret_exact_1[slice10],\n",
        "       simple_regret_exact_2[slice10],\n",
        "       simple_regret_exact_3[slice10],\n",
        "       simple_regret_exact_4[slice10],\n",
        "       simple_regret_exact_5[slice10],\n",
        "       simple_regret_exact_6[slice10],\n",
        "       simple_regret_exact_7[slice10],\n",
        "       simple_regret_exact_8[slice10],\n",
        "       simple_regret_exact_9[slice10],\n",
        "       simple_regret_exact_10[slice10],\n",
        "       simple_regret_exact_11[slice10],\n",
        "       simple_regret_exact_12[slice10],\n",
        "       simple_regret_exact_13[slice10],\n",
        "       simple_regret_exact_14[slice10],\n",
        "       simple_regret_exact_15[slice10],\n",
        "       simple_regret_exact_16[slice10],\n",
        "       simple_regret_exact_17[slice10],\n",
        "       simple_regret_exact_18[slice10],\n",
        "       simple_regret_exact_19[slice10],\n",
        "       simple_regret_exact_20[slice10]]\n",
        "\n",
        "approx10_results = pd.DataFrame(approx10).sort_values(by=[0], ascending=False)\n",
        "exact10_results = pd.DataFrame(exact10).sort_values(by=[0], ascending=False)\n",
        "\n",
        "### Best simple regret minimization IQR - approx:\n",
        "lower_approx10 = np.asarray(approx10_results[4:5][0])[0]\n",
        "median_approx10 = np.asarray(approx10_results[9:10][0])[0]\n",
        "upper_approx10 = np.asarray(approx10_results[14:15][0])[0]\n",
        "\n",
        "lower_exact10 = np.asarray(exact10_results[4:5][0])[0]\n",
        "median_exact10 = np.asarray(exact10_results[9:10][0])[0]\n",
        "upper_exact10 = np.asarray(exact10_results[14:15][0])[0]"
      ]
    },
    {
      "cell_type": "code",
      "execution_count": 95,
      "metadata": {
        "id": "Rsf240pWQxf-"
      },
      "outputs": [],
      "source": [
        "# Iteration20 :\n",
        "\n",
        "slice20 = 19\n",
        "\n",
        "approx20 = [simple_regret_approx_1[slice20],\n",
        "       simple_regret_approx_2[slice20],\n",
        "       simple_regret_approx_3[slice20],\n",
        "       simple_regret_approx_4[slice20],\n",
        "       simple_regret_approx_5[slice20],\n",
        "       simple_regret_approx_6[slice20],\n",
        "       simple_regret_approx_7[slice20],\n",
        "       simple_regret_approx_8[slice20],\n",
        "       simple_regret_approx_9[slice20],\n",
        "       simple_regret_approx_10[slice20],\n",
        "       simple_regret_approx_11[slice20],\n",
        "       simple_regret_approx_12[slice20],\n",
        "       simple_regret_approx_13[slice20],\n",
        "       simple_regret_approx_14[slice20],\n",
        "       simple_regret_approx_15[slice20],\n",
        "       simple_regret_approx_16[slice20],\n",
        "       simple_regret_approx_17[slice20],\n",
        "       simple_regret_approx_18[slice20],\n",
        "       simple_regret_approx_19[slice20],\n",
        "       simple_regret_approx_20[slice20]]\n",
        "\n",
        "exact20 = [simple_regret_exact_1[slice20],\n",
        "       simple_regret_exact_2[slice20],\n",
        "       simple_regret_exact_3[slice20],\n",
        "       simple_regret_exact_4[slice20],\n",
        "       simple_regret_exact_5[slice20],\n",
        "       simple_regret_exact_6[slice20],\n",
        "       simple_regret_exact_7[slice20],\n",
        "       simple_regret_exact_8[slice20],\n",
        "       simple_regret_exact_9[slice20],\n",
        "       simple_regret_exact_10[slice20],\n",
        "       simple_regret_exact_11[slice20],\n",
        "       simple_regret_exact_12[slice20],\n",
        "       simple_regret_exact_13[slice20],\n",
        "       simple_regret_exact_14[slice20],\n",
        "       simple_regret_exact_15[slice20],\n",
        "       simple_regret_exact_16[slice20],\n",
        "       simple_regret_exact_17[slice20],\n",
        "       simple_regret_exact_18[slice20],\n",
        "       simple_regret_exact_19[slice20],\n",
        "       simple_regret_exact_20[slice20]]\n",
        "\n",
        "approx20_results = pd.DataFrame(approx20).sort_values(by=[0], ascending=False)\n",
        "exact20_results = pd.DataFrame(exact20).sort_values(by=[0], ascending=False)\n",
        "\n",
        "### Best simple regret minimization IQR - approx:\n",
        "lower_approx20 = np.asarray(approx20_results[4:5][0])[0]\n",
        "median_approx20 = np.asarray(approx20_results[9:10][0])[0]\n",
        "upper_approx20 = np.asarray(approx20_results[14:15][0])[0]\n",
        "\n",
        "lower_exact20 = np.asarray(exact20_results[4:5][0])[0]\n",
        "median_exact20 = np.asarray(exact20_results[9:10][0])[0]\n",
        "upper_exact20 = np.asarray(exact20_results[14:15][0])[0]"
      ]
    },
    {
      "cell_type": "code",
      "execution_count": 96,
      "metadata": {
        "id": "gn36RejbQxf_"
      },
      "outputs": [],
      "source": [
        "### Summarize arrays: 'Loser'\n",
        "\n",
        "lower_approx = [lower_approx1,\n",
        "            lower_approx2,\n",
        "            lower_approx3,\n",
        "            lower_approx4,\n",
        "            lower_approx5,\n",
        "            lower_approx6,\n",
        "            lower_approx7,\n",
        "            lower_approx8,\n",
        "            lower_approx9,\n",
        "            lower_approx10,\n",
        "            lower_approx11,\n",
        "            lower_approx12,\n",
        "            lower_approx13,\n",
        "            lower_approx14,\n",
        "            lower_approx15,\n",
        "            lower_approx16,\n",
        "            lower_approx17,\n",
        "            lower_approx18,\n",
        "            lower_approx19,\n",
        "            lower_approx20,\n",
        "            lower_approx21]\n",
        "\n",
        "median_approx = [median_approx1,\n",
        "            median_approx2,\n",
        "            median_approx3,\n",
        "            median_approx4,\n",
        "            median_approx5,\n",
        "            median_approx6,\n",
        "            median_approx7,\n",
        "            median_approx8,\n",
        "            median_approx9,\n",
        "            median_approx10,\n",
        "            median_approx11,\n",
        "            median_approx12,\n",
        "            median_approx13,\n",
        "            median_approx14,\n",
        "            median_approx15,\n",
        "            median_approx16,\n",
        "            median_approx17,\n",
        "            median_approx18,\n",
        "            median_approx19,\n",
        "            median_approx20,\n",
        "            median_approx21]\n",
        "\n",
        "upper_approx = [upper_approx1,\n",
        "            upper_approx2,\n",
        "            upper_approx3,\n",
        "            upper_approx4,\n",
        "            upper_approx5,\n",
        "            upper_approx6,\n",
        "            upper_approx7,\n",
        "            upper_approx8,\n",
        "            upper_approx9,\n",
        "            upper_approx10,\n",
        "            upper_approx11,\n",
        "            upper_approx12,\n",
        "            upper_approx13,\n",
        "            upper_approx14,\n",
        "            upper_approx15,\n",
        "            upper_approx16,\n",
        "            upper_approx17,\n",
        "            upper_approx18,\n",
        "            upper_approx19,\n",
        "            upper_approx20,\n",
        "            upper_approx21]"
      ]
    },
    {
      "cell_type": "code",
      "execution_count": 97,
      "metadata": {
        "id": "wxtGTOYfQxf_"
      },
      "outputs": [],
      "source": [
        "### Summarize arrays: 'exact'\n",
        "\n",
        "lower_exact = [lower_exact1,\n",
        "            lower_exact2,\n",
        "            lower_exact3,\n",
        "            lower_exact4,\n",
        "            lower_exact5,\n",
        "            lower_exact6,\n",
        "            lower_exact7,\n",
        "            lower_exact8,\n",
        "            lower_exact9,\n",
        "            lower_exact10,\n",
        "            lower_exact11,\n",
        "            lower_exact12,\n",
        "            lower_exact13,\n",
        "            lower_exact14,\n",
        "            lower_exact15,\n",
        "            lower_exact16,\n",
        "            lower_exact17,\n",
        "            lower_exact18,\n",
        "            lower_exact19,\n",
        "            lower_exact20,\n",
        "            lower_exact21]\n",
        "\n",
        "median_exact = [median_exact1,\n",
        "            median_exact2,\n",
        "            median_exact3,\n",
        "            median_exact4,\n",
        "            median_exact5,\n",
        "            median_exact6,\n",
        "            median_exact7,\n",
        "            median_exact8,\n",
        "            median_exact9,\n",
        "            median_exact10,\n",
        "            median_exact11,\n",
        "            median_exact12,\n",
        "            median_exact13,\n",
        "            median_exact14,\n",
        "            median_exact15,\n",
        "            median_exact16,\n",
        "            median_exact17,\n",
        "            median_exact18,\n",
        "            median_exact19,\n",
        "            median_exact20,\n",
        "            median_exact21]\n",
        "\n",
        "upper_exact = [upper_exact1,\n",
        "            upper_exact2,\n",
        "            upper_exact3,\n",
        "            upper_exact4,\n",
        "            upper_exact5,\n",
        "            upper_exact6,\n",
        "            upper_exact7,\n",
        "            upper_exact8,\n",
        "            upper_exact9,\n",
        "            upper_exact10,\n",
        "            upper_exact11,\n",
        "            upper_exact12,\n",
        "            upper_exact13,\n",
        "            upper_exact14,\n",
        "            upper_exact15,\n",
        "            upper_exact16,\n",
        "            upper_exact17,\n",
        "            upper_exact18,\n",
        "            upper_exact19,\n",
        "            upper_exact20,\n",
        "            upper_exact21]"
      ]
    },
    {
      "cell_type": "code",
      "execution_count": 122,
      "metadata": {
        "id": "2MONq-BXQxgA",
        "colab": {
          "base_uri": "https://localhost:8080/",
          "height": 299
        },
        "outputId": "1ea72ff3-27b3-4668-8845-57a584b33b5a"
      },
      "outputs": [
        {
          "output_type": "display_data",
          "data": {
            "text/plain": [
              "<Figure size 432x288 with 1 Axes>"
            ],
            "image/png": "[encoded data removed]"
          },
          "metadata": {
            "needs_background": "light"
          }
        }
      ],
      "source": [
        "### Visualise!\n",
        "\n",
        "title = func\n",
        "plt.figure()\n",
        "\n",
        "plt.plot(median_approx, color = 'Green')\n",
        "plt.plot(median_exact, color = 'Blue')\n",
        "\n",
        "xstar = np.arange(0, iters+1, step=1)\n",
        "plt.fill_between(xstar, lower_approx, upper_approx, facecolor = 'Green', alpha=0.4, label='GP ERM Optimization: Approx GP ERM gradients')\n",
        "plt.fill_between(xstar, lower_exact, upper_exact, facecolor = 'Blue', alpha=0.4, label='GP ERM Optimization: Exact GP dERM gradients')\n",
        "\n",
        "plt.title(title, weight = 'bold')\n",
        "plt.xlabel('(Post-initialization) iteration $\\it{k}$', weight = 'bold')\n",
        "plt.ylabel('log(Regret)', weight = 'bold') \n",
        "plt.legend(loc=0) # add plot legend\n",
        "\n",
        "### Make the x-ticks integers, not floats:\n",
        "count = len(xstar)\n",
        "plt.xticks(np.arange(count), np.arange(0, count))\n",
        "plt.show() #visualize!"
      ]
    },
    {
      "cell_type": "code",
      "execution_count": 99,
      "metadata": {
        "id": "l5dkR2Id2oiu",
        "colab": {
          "base_uri": "https://localhost:8080/"
        },
        "outputId": "b6e7fbda-57ca-441c-e6ee-3380f9e668b9"
      },
      "outputs": [
        {
          "output_type": "execute_result",
          "data": {
            "text/plain": [
              "(570.0947334766388, 550.8903005123138)"
            ]
          },
          "metadata": {},
          "execution_count": 99
        }
      ],
      "source": [
        "time_approx, time_exact\n"
      ]
    },
    {
      "cell_type": "code",
      "source": [
        "### acqFunc attribute x, stddev: run number = 1\n",
        "\n",
        "acqFuncApprox_exact_1 = acqFuncApprox(exact_1.history)\n",
        "acqFuncExact_exact_1 = acqFuncExact(exact_1.history)\n",
        "\n",
        "e1 = np.mean(acqFuncExact_exact_1)\n",
        "a1 = np.mean(acqFuncApprox_exact_1)\n",
        "\n",
        "e1, a1\n"
      ],
      "metadata": {
        "colab": {
          "base_uri": "https://localhost:8080/"
        },
        "id": "uwxv4dmfGsLr",
        "outputId": "f46c0805-c1d5-47ae-e4ca-cff493197d63"
      },
      "execution_count": 100,
      "outputs": [
        {
          "output_type": "execute_result",
          "data": {
            "text/plain": [
              "(5.877102011796815, 6.009310598040944)"
            ]
          },
          "metadata": {},
          "execution_count": 100
        }
      ]
    },
    {
      "cell_type": "code",
      "source": [
        "### acqFunc attribute x, stddev: run number = 2\n",
        "\n",
        "acqFuncApprox_exact_2 = acqFuncApprox(exact_2.history)\n",
        "acqFuncExact_exact_2 = acqFuncExact(exact_2.history)\n",
        "\n",
        "e2 = np.mean(acqFuncExact_exact_2)\n",
        "a2 = np.mean(acqFuncApprox_exact_2)\n",
        "\n",
        "e2, a2\n"
      ],
      "metadata": {
        "colab": {
          "base_uri": "https://localhost:8080/"
        },
        "id": "0YSV00_pGsXe",
        "outputId": "f64f67e4-d10f-438f-f489-eb51034c544d"
      },
      "execution_count": 101,
      "outputs": [
        {
          "output_type": "execute_result",
          "data": {
            "text/plain": [
              "(5.752920916983225, 5.80313510277003)"
            ]
          },
          "metadata": {},
          "execution_count": 101
        }
      ]
    },
    {
      "cell_type": "code",
      "source": [
        "### acqFunc attribute x, stddev: run number = 3\n",
        "\n",
        "acqFuncApprox_exact_3 = acqFuncApprox(exact_3.history)\n",
        "acqFuncExact_exact_3 = acqFuncExact(exact_3.history)\n",
        "\n",
        "e3 = np.mean(acqFuncExact_exact_3)\n",
        "a3 = np.mean(acqFuncApprox_exact_3)\n",
        "\n",
        "e3, a3\n"
      ],
      "metadata": {
        "colab": {
          "base_uri": "https://localhost:8080/"
        },
        "id": "HHVmsd2UGsjT",
        "outputId": "0ef569af-1103-40c0-a873-4cff43d3137f"
      },
      "execution_count": 102,
      "outputs": [
        {
          "output_type": "execute_result",
          "data": {
            "text/plain": [
              "(5.577915483420369, 5.716767715949563)"
            ]
          },
          "metadata": {},
          "execution_count": 102
        }
      ]
    },
    {
      "cell_type": "code",
      "source": [
        "### acqFunc attribute x, stddev: run number = 4\n",
        "\n",
        "acqFuncApprox_exact_4 = acqFuncApprox(exact_4.history)\n",
        "acqFuncExact_exact_4 = acqFuncExact(exact_4.history)\n",
        "\n",
        "e4 = np.mean(acqFuncExact_exact_4)\n",
        "a4 = np.mean(acqFuncApprox_exact_4)\n",
        "\n",
        "e4, a4\n"
      ],
      "metadata": {
        "colab": {
          "base_uri": "https://localhost:8080/"
        },
        "id": "r7O19S2eGsu7",
        "outputId": "449d80d9-2599-421e-cb56-e93f8dceabcf"
      },
      "execution_count": 103,
      "outputs": [
        {
          "output_type": "execute_result",
          "data": {
            "text/plain": [
              "(5.739562075343695, 5.783891055210971)"
            ]
          },
          "metadata": {},
          "execution_count": 103
        }
      ]
    },
    {
      "cell_type": "code",
      "source": [
        "### acqFunc attribute x, stddev: run number = 5\n",
        "\n",
        "acqFuncApprox_exact_5 = acqFuncApprox(exact_5.history)\n",
        "acqFuncExact_exact_5 = acqFuncExact(exact_5.history)\n",
        "\n",
        "e5 = np.mean(acqFuncExact_exact_5)\n",
        "a5 = np.mean(acqFuncApprox_exact_5)\n",
        "\n",
        "e5, a5\n"
      ],
      "metadata": {
        "colab": {
          "base_uri": "https://localhost:8080/"
        },
        "id": "sdb9o6NuGs5m",
        "outputId": "65bd0436-3ee9-4086-e007-6e67c0f02657"
      },
      "execution_count": 104,
      "outputs": [
        {
          "output_type": "execute_result",
          "data": {
            "text/plain": [
              "(5.77512563626073, 5.820201339359998)"
            ]
          },
          "metadata": {},
          "execution_count": 104
        }
      ]
    },
    {
      "cell_type": "code",
      "source": [
        "### acqFunc attribute x, stddev: run number = 6\n",
        "\n",
        "acqFuncApprox_exact_6 = acqFuncApprox(exact_6.history)\n",
        "acqFuncExact_exact_6 = acqFuncExact(exact_6.history)\n",
        "\n",
        "e6 = np.mean(acqFuncExact_exact_6)\n",
        "a6 = np.mean(acqFuncApprox_exact_6)\n",
        "\n",
        "e6, a6\n"
      ],
      "metadata": {
        "colab": {
          "base_uri": "https://localhost:8080/"
        },
        "id": "COQl7LZ8GtE0",
        "outputId": "89364349-7ebb-4198-daa4-9922ab1c6919"
      },
      "execution_count": 105,
      "outputs": [
        {
          "output_type": "execute_result",
          "data": {
            "text/plain": [
              "(5.945507800975816, 6.030370300823448)"
            ]
          },
          "metadata": {},
          "execution_count": 105
        }
      ]
    },
    {
      "cell_type": "code",
      "source": [
        "### acqFunc attribute x, stddev: run number = 7\n",
        "\n",
        "acqFuncApprox_exact_7 = acqFuncApprox(exact_7.history)\n",
        "acqFuncExact_exact_7 = acqFuncExact(exact_7.history)\n",
        "\n",
        "e7 = np.mean(acqFuncExact_exact_7)\n",
        "a7 = np.mean(acqFuncApprox_exact_7)\n",
        "\n",
        "e7, a7\n"
      ],
      "metadata": {
        "colab": {
          "base_uri": "https://localhost:8080/"
        },
        "id": "2gy9EtTzGtP7",
        "outputId": "ddbc7cf7-4f37-44de-ff9d-55fed7bcafd2"
      },
      "execution_count": 106,
      "outputs": [
        {
          "output_type": "execute_result",
          "data": {
            "text/plain": [
              "(5.831061955630078, 5.903487231062264)"
            ]
          },
          "metadata": {},
          "execution_count": 106
        }
      ]
    },
    {
      "cell_type": "code",
      "source": [
        "### acqFunc attribute x, stddev: run number = 8\n",
        "\n",
        "acqFuncApprox_exact_8 = acqFuncApprox(exact_8.history)\n",
        "acqFuncExact_exact_8 = acqFuncExact(exact_8.history)\n",
        "\n",
        "e8 = np.mean(acqFuncExact_exact_8)\n",
        "a8 = np.mean(acqFuncApprox_exact_8)\n",
        "\n",
        "e8, a8\n"
      ],
      "metadata": {
        "colab": {
          "base_uri": "https://localhost:8080/"
        },
        "id": "S7mn0qoMGtbM",
        "outputId": "49f9ad34-d31b-40f3-f30d-203a0608072d"
      },
      "execution_count": 107,
      "outputs": [
        {
          "output_type": "execute_result",
          "data": {
            "text/plain": [
              "(5.624578774947565, 5.738296940853723)"
            ]
          },
          "metadata": {},
          "execution_count": 107
        }
      ]
    },
    {
      "cell_type": "code",
      "source": [
        "### acqFunc attribute x, stddev: run number = 9\n",
        "\n",
        "acqFuncApprox_exact_9 = acqFuncApprox(exact_9.history)\n",
        "acqFuncExact_exact_9 = acqFuncExact(exact_9.history)\n",
        "\n",
        "e9 = np.mean(acqFuncExact_exact_9)\n",
        "a9 = np.mean(acqFuncApprox_exact_9)\n",
        "\n",
        "e9, a9\n"
      ],
      "metadata": {
        "colab": {
          "base_uri": "https://localhost:8080/"
        },
        "id": "BhljmkNxGtms",
        "outputId": "b5bcce19-0836-4b6d-bccc-75569d9b225a"
      },
      "execution_count": 108,
      "outputs": [
        {
          "output_type": "execute_result",
          "data": {
            "text/plain": [
              "(5.5015984269015155, 5.5962725486174225)"
            ]
          },
          "metadata": {},
          "execution_count": 108
        }
      ]
    },
    {
      "cell_type": "code",
      "source": [
        "### acqFunc attribute x, stddev: run number = 10\n",
        "\n",
        "acqFuncApprox_exact_10 = acqFuncApprox(exact_10.history)\n",
        "acqFuncExact_exact_10 = acqFuncExact(exact_10.history)\n",
        "\n",
        "e10 = np.mean(acqFuncExact_exact_10)\n",
        "a10 = np.mean(acqFuncApprox_exact_10)\n",
        "\n",
        "e10, a10\n"
      ],
      "metadata": {
        "colab": {
          "base_uri": "https://localhost:8080/"
        },
        "id": "W5GZo6k3Gtx8",
        "outputId": "0563f846-01a1-4ca1-86dd-84001e9bdcdc"
      },
      "execution_count": 109,
      "outputs": [
        {
          "output_type": "execute_result",
          "data": {
            "text/plain": [
              "(5.798806454999249, 5.851595957903646)"
            ]
          },
          "metadata": {},
          "execution_count": 109
        }
      ]
    },
    {
      "cell_type": "code",
      "source": [
        "### acqFunc attribute x, stddev: run number = 11\n",
        "\n",
        "acqFuncApprox_exact_11 = acqFuncApprox(exact_11.history)\n",
        "acqFuncExact_exact_11 = acqFuncExact(exact_11.history)\n",
        "\n",
        "e11 = np.mean(acqFuncExact_exact_11)\n",
        "a11 = np.mean(acqFuncApprox_exact_11)\n",
        "\n",
        "e11, a11\n"
      ],
      "metadata": {
        "colab": {
          "base_uri": "https://localhost:8080/"
        },
        "id": "isKNhDk5Gt9D",
        "outputId": "25334ee2-d6b7-4e95-fe50-24a471857317"
      },
      "execution_count": 110,
      "outputs": [
        {
          "output_type": "execute_result",
          "data": {
            "text/plain": [
              "(5.653681509341721, 5.8371043760874155)"
            ]
          },
          "metadata": {},
          "execution_count": 110
        }
      ]
    },
    {
      "cell_type": "code",
      "source": [
        "### acqFunc attribute x, stddev: run number = 12\n",
        "\n",
        "acqFuncApprox_exact_12 = acqFuncApprox(exact_12.history)\n",
        "acqFuncExact_exact_12 = acqFuncExact(exact_12.history)\n",
        "\n",
        "e12 = np.mean(acqFuncExact_exact_12)\n",
        "a12 = np.mean(acqFuncApprox_exact_12)\n",
        "\n",
        "e12, a12\n"
      ],
      "metadata": {
        "colab": {
          "base_uri": "https://localhost:8080/"
        },
        "id": "8ts-wrSuGuIm",
        "outputId": "32cf4517-fc1e-4c10-a6b7-eb71b337aaaf"
      },
      "execution_count": 111,
      "outputs": [
        {
          "output_type": "execute_result",
          "data": {
            "text/plain": [
              "(5.7976428421923165, 5.746747698263031)"
            ]
          },
          "metadata": {},
          "execution_count": 111
        }
      ]
    },
    {
      "cell_type": "code",
      "source": [
        "### acqFunc attribute x, stddev: run number = 13\n",
        "\n",
        "acqFuncApprox_exact_13 = acqFuncApprox(exact_13.history)\n",
        "acqFuncExact_exact_13 = acqFuncExact(exact_13.history)\n",
        "\n",
        "e13 = np.mean(acqFuncExact_exact_13)\n",
        "a13 = np.mean(acqFuncApprox_exact_13)\n",
        "\n",
        "e13, a13\n"
      ],
      "metadata": {
        "colab": {
          "base_uri": "https://localhost:8080/"
        },
        "id": "n0drhEe3GuUL",
        "outputId": "2f3e8285-6649-456f-d9d0-1b7109d216cc"
      },
      "execution_count": 112,
      "outputs": [
        {
          "output_type": "execute_result",
          "data": {
            "text/plain": [
              "(5.940139491159764, 6.102688576376968)"
            ]
          },
          "metadata": {},
          "execution_count": 112
        }
      ]
    },
    {
      "cell_type": "code",
      "source": [
        "### acqFunc attribute x, stddev: run number = 14\n",
        "\n",
        "acqFuncApprox_exact_14 = acqFuncApprox(exact_14.history)\n",
        "acqFuncExact_exact_14 = acqFuncExact(exact_14.history)\n",
        "\n",
        "e14 = np.mean(acqFuncExact_exact_14)\n",
        "a14 = np.mean(acqFuncApprox_exact_14)\n",
        "\n",
        "e14, a14\n"
      ],
      "metadata": {
        "colab": {
          "base_uri": "https://localhost:8080/"
        },
        "id": "R0W3MZaVGues",
        "outputId": "eefc3228-25ea-4788-999b-350530ef46be"
      },
      "execution_count": 113,
      "outputs": [
        {
          "output_type": "execute_result",
          "data": {
            "text/plain": [
              "(5.627653015940886, 5.724204551857679)"
            ]
          },
          "metadata": {},
          "execution_count": 113
        }
      ]
    },
    {
      "cell_type": "code",
      "source": [
        "### acqFunc attribute x, stddev: run number = 15\n",
        "\n",
        "acqFuncApprox_exact_15 = acqFuncApprox(exact_15.history)\n",
        "acqFuncExact_exact_15 = acqFuncExact(exact_15.history)\n",
        "\n",
        "e15 = np.mean(acqFuncExact_exact_15)\n",
        "a15 = np.mean(acqFuncApprox_exact_15)\n",
        "\n",
        "e15, a15\n"
      ],
      "metadata": {
        "colab": {
          "base_uri": "https://localhost:8080/"
        },
        "id": "DoXdDFHoGup-",
        "outputId": "aa34e06b-cf9e-422b-98cd-1c1da613aad0"
      },
      "execution_count": 114,
      "outputs": [
        {
          "output_type": "execute_result",
          "data": {
            "text/plain": [
              "(5.787374906767235, 5.813144228932593)"
            ]
          },
          "metadata": {},
          "execution_count": 114
        }
      ]
    },
    {
      "cell_type": "code",
      "source": [
        "### acqFunc attribute x, stddev: run number = 16\n",
        "\n",
        "acqFuncApprox_exact_16 = acqFuncApprox(exact_16.history)\n",
        "acqFuncExact_exact_16 = acqFuncExact(exact_16.history)\n",
        "\n",
        "e16 = np.mean(acqFuncExact_exact_16)\n",
        "a16 = np.mean(acqFuncApprox_exact_16)\n",
        "\n",
        "e16, a16\n"
      ],
      "metadata": {
        "colab": {
          "base_uri": "https://localhost:8080/"
        },
        "id": "K_wAeqSoGu2j",
        "outputId": "a0b3fe7f-3fbd-476f-94c1-eba64a152fe1"
      },
      "execution_count": 115,
      "outputs": [
        {
          "output_type": "execute_result",
          "data": {
            "text/plain": [
              "(5.839556985441296, 5.870025353996402)"
            ]
          },
          "metadata": {},
          "execution_count": 115
        }
      ]
    },
    {
      "cell_type": "code",
      "source": [
        "### acqFunc attribute x, stddev: run number = 17\n",
        "\n",
        "acqFuncApprox_exact_17 = acqFuncApprox(exact_17.history)\n",
        "acqFuncExact_exact_17 = acqFuncExact(exact_17.history)\n",
        "\n",
        "e17 = np.mean(acqFuncExact_exact_17)\n",
        "a17 = np.mean(acqFuncApprox_exact_17)\n",
        "\n",
        "e17, a17\n"
      ],
      "metadata": {
        "colab": {
          "base_uri": "https://localhost:8080/"
        },
        "id": "n6zy78fjGvBT",
        "outputId": "3480595d-bb75-41bd-d794-447804700395"
      },
      "execution_count": 116,
      "outputs": [
        {
          "output_type": "execute_result",
          "data": {
            "text/plain": [
              "(5.685997177340346, 5.774277793901512)"
            ]
          },
          "metadata": {},
          "execution_count": 116
        }
      ]
    },
    {
      "cell_type": "code",
      "source": [
        "### acqFunc attribute x, stddev: run number = 18\n",
        "\n",
        "acqFuncApprox_exact_18 = acqFuncApprox(exact_18.history)\n",
        "acqFuncExact_exact_18 = acqFuncExact(exact_18.history)\n",
        "\n",
        "e18 = np.mean(acqFuncExact_exact_18)\n",
        "a18 = np.mean(acqFuncApprox_exact_18)\n",
        "\n",
        "e18, a18\n"
      ],
      "metadata": {
        "colab": {
          "base_uri": "https://localhost:8080/"
        },
        "id": "s_6_2K4iGvM-",
        "outputId": "3165971d-1db0-4951-c329-b1e29977d627"
      },
      "execution_count": 117,
      "outputs": [
        {
          "output_type": "execute_result",
          "data": {
            "text/plain": [
              "(5.742362854126099, 5.949217850915716)"
            ]
          },
          "metadata": {},
          "execution_count": 117
        }
      ]
    },
    {
      "cell_type": "code",
      "source": [
        "### acqFunc attribute x, stddev: run number = 19\n",
        "\n",
        "acqFuncApprox_exact_19 = acqFuncApprox(exact_19.history)\n",
        "acqFuncExact_exact_19 = acqFuncExact(exact_19.history)\n",
        "\n",
        "e19 = np.mean(acqFuncExact_exact_19)\n",
        "a19 = np.mean(acqFuncApprox_exact_19)\n",
        "\n",
        "e19, a19\n"
      ],
      "metadata": {
        "colab": {
          "base_uri": "https://localhost:8080/"
        },
        "id": "o8oO8pdBGvYk",
        "outputId": "1fa2e522-f14b-4afd-ff54-73c06bd23a62"
      },
      "execution_count": 118,
      "outputs": [
        {
          "output_type": "execute_result",
          "data": {
            "text/plain": [
              "(5.640121113574397, 5.677691102934447)"
            ]
          },
          "metadata": {},
          "execution_count": 118
        }
      ]
    },
    {
      "cell_type": "code",
      "source": [
        "### acqFunc attribute x, stddev: run number = 20\n",
        "\n",
        "acqFuncApprox_exact_20 = acqFuncApprox(exact_20.history)\n",
        "acqFuncExact_exact_20 = acqFuncExact(exact_20.history)\n",
        "\n",
        "e20 = np.mean(acqFuncExact_exact_20)\n",
        "a20 = np.mean(acqFuncApprox_exact_20)\n",
        "\n",
        "e20, a20\n"
      ],
      "metadata": {
        "colab": {
          "base_uri": "https://localhost:8080/"
        },
        "id": "b2w8oLc0IMzU",
        "outputId": "9d93ecb7-60de-4c8c-9400-44e1c2cfaa20"
      },
      "execution_count": 119,
      "outputs": [
        {
          "output_type": "execute_result",
          "data": {
            "text/plain": [
              "(5.812752421871913, 5.914277874706483)"
            ]
          },
          "metadata": {},
          "execution_count": 119
        }
      ]
    },
    {
      "cell_type": "code",
      "source": [
        "### Summarize arrays: \n",
        "\n",
        "exact_stddev = np.sort([e1,e2,e3,e4,e5,e6,e7,e8,e9,e10,e11,e12,e13,e14,e15,e16,e17,e18,e19,e20])\n",
        "approx_stddev = np.sort([a1,a2,a3,a4,a5,a6,a7,a8,a9,a10,a11,a12,a13,a14,a15,a16,a17,a18,a19,a20])\n",
        "\n",
        "np.mean(exact_stddev), np.mean(approx_stddev)\n"
      ],
      "metadata": {
        "colab": {
          "base_uri": "https://localhost:8080/"
        },
        "id": "qAZs3yxMIZul",
        "outputId": "fa1685d8-f07b-44bf-c6d0-253bf7dc306e"
      },
      "execution_count": 120,
      "outputs": [
        {
          "output_type": "execute_result",
          "data": {
            "text/plain": [
              "(5.747573092750753, 5.833135409928213)"
            ]
          },
          "metadata": {},
          "execution_count": 120
        }
      ]
    },
    {
      "cell_type": "code",
      "source": [
        "### Visualise!\n",
        "\n",
        "title = func\n",
        "plt.figure()\n",
        "\n",
        "plt.plot(approx_stddev, color = 'Green', ls='-', label='Average $\\sigma$, attribute $\\mathbf{x}$: Approx GP ERM gradients')\n",
        "plt.plot(exact_stddev, color = 'Blue', ls='-.', label='Average $\\sigma$, attribute $\\mathbf{x}$: Exact GP dERM gradients')\n",
        "\n",
        "plt.title(title, weight = 'bold')\n",
        "plt.xlabel('Function evaluations: iteration $\\it{k}$', weight = 'bold')\n",
        "plt.ylabel('GP ERM: Average $\\sigma$, attribute $\\mathbf{x}$', weight = 'bold') \n",
        "plt.legend(loc=2) # add plot legend\n",
        "\n",
        "### Make the x-ticks integers, not floats:\n",
        "count = len(xstar)\n",
        "plt.xticks(np.arange(count), np.arange(1, count))\n",
        "plt.show() #visualize!\n"
      ],
      "metadata": {
        "colab": {
          "base_uri": "https://localhost:8080/",
          "height": 297
        },
        "id": "e_kpqYcMIZxu",
        "outputId": "06f5c200-6158-4814-e29d-0d7ab20e58aa"
      },
      "execution_count": 131,
      "outputs": [
        {
          "output_type": "display_data",
          "data": {
            "text/plain": [
              "<Figure size 432x288 with 1 Axes>"
            ],
            "image/png": "[encoded data removed]"
          },
          "metadata": {
            "needs_background": "light"
          }
        }
      ]
    },
    {
      "cell_type": "code",
      "source": [
        ""
      ],
      "metadata": {
        "id": "LToGd4vZIZ3I"
      },
      "execution_count": 121,
      "outputs": []
    }
  ],
  "metadata": {
    "colab": {
      "collapsed_sections": [],
      "name": "7_Booth_GP_dERM.ipynb",
      "provenance": []
    },
    "kernelspec": {
      "display_name": "Python 3",
      "name": "python3"
    },
    "language_info": {
      "name": "python"
    }
  },
  "nbformat": 4,
  "nbformat_minor": 0
}