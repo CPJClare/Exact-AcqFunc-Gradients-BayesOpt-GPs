{
  "nbformat": 4,
  "nbformat_minor": 0,
  "metadata": {
    "colab": {
      "name": "3. Branin_GP_dERM_2D.ipynb",
      "provenance": [],
      "collapsed_sections": []
    },
    "kernelspec": {
      "name": "python3",
      "display_name": "Python 3"
    },
    "language_info": {
      "name": "python"
    }
  },
  "cells": [
    {
      "cell_type": "markdown",
      "metadata": {
        "id": "Dqn4dFx7Z2Ir"
      },
      "source": [
        "\n",
        "Branin: 2D\n"
      ]
    },
    {
      "cell_type": "code",
      "metadata": {
        "id": "MJTM_GZZZb5x",
        "colab": {
          "base_uri": "https://localhost:8080/"
        },
        "outputId": "aecf7c6d-cf92-490c-d7d6-ba3256b56237"
      },
      "source": [
        "pip install pyGPGO\n"
      ],
      "execution_count": null,
      "outputs": [
        {
          "output_type": "stream",
          "name": "stdout",
          "text": [
            "Requirement already satisfied: pyGPGO in /usr/local/lib/python3.7/dist-packages (0.5.1)\n",
            "Requirement already satisfied: joblib in /usr/local/lib/python3.7/dist-packages (from pyGPGO) (1.1.0)\n",
            "Requirement already satisfied: pyMC3 in /usr/local/lib/python3.7/dist-packages (from pyGPGO) (3.11.4)\n",
            "Requirement already satisfied: numpy in /usr/local/lib/python3.7/dist-packages (from pyGPGO) (1.19.5)\n",
            "Requirement already satisfied: mkl in /usr/local/lib/python3.7/dist-packages (from pyGPGO) (2019.0)\n",
            "Requirement already satisfied: scikit-learn in /usr/local/lib/python3.7/dist-packages (from pyGPGO) (1.0.1)\n",
            "Requirement already satisfied: scipy in /usr/local/lib/python3.7/dist-packages (from pyGPGO) (1.4.1)\n",
            "Requirement already satisfied: Theano-PyMC in /usr/local/lib/python3.7/dist-packages (from pyGPGO) (1.1.2)\n",
            "Requirement already satisfied: intel-openmp in /usr/local/lib/python3.7/dist-packages (from mkl->pyGPGO) (2021.4.0)\n",
            "Requirement already satisfied: cachetools>=4.2.1 in /usr/local/lib/python3.7/dist-packages (from pyMC3->pyGPGO) (4.2.4)\n",
            "Requirement already satisfied: semver>=2.13.0 in /usr/local/lib/python3.7/dist-packages (from pyMC3->pyGPGO) (2.13.0)\n",
            "Requirement already satisfied: patsy>=0.5.1 in /usr/local/lib/python3.7/dist-packages (from pyMC3->pyGPGO) (0.5.2)\n",
            "Requirement already satisfied: fastprogress>=0.2.0 in /usr/local/lib/python3.7/dist-packages (from pyMC3->pyGPGO) (1.0.0)\n",
            "Requirement already satisfied: arviz>=0.11.0 in /usr/local/lib/python3.7/dist-packages (from pyMC3->pyGPGO) (0.11.4)\n",
            "Requirement already satisfied: typing-extensions>=3.7.4 in /usr/local/lib/python3.7/dist-packages (from pyMC3->pyGPGO) (3.10.0.2)\n",
            "Requirement already satisfied: dill in /usr/local/lib/python3.7/dist-packages (from pyMC3->pyGPGO) (0.3.4)\n",
            "Requirement already satisfied: pandas>=0.24.0 in /usr/local/lib/python3.7/dist-packages (from pyMC3->pyGPGO) (1.1.5)\n",
            "Requirement already satisfied: filelock in /usr/local/lib/python3.7/dist-packages (from Theano-PyMC->pyGPGO) (3.3.2)\n",
            "Requirement already satisfied: setuptools>=38.4 in /usr/local/lib/python3.7/dist-packages (from arviz>=0.11.0->pyMC3->pyGPGO) (57.4.0)\n",
            "Requirement already satisfied: xarray>=0.16.1 in /usr/local/lib/python3.7/dist-packages (from arviz>=0.11.0->pyMC3->pyGPGO) (0.18.2)\n",
            "Requirement already satisfied: netcdf4 in /usr/local/lib/python3.7/dist-packages (from arviz>=0.11.0->pyMC3->pyGPGO) (1.5.8)\n",
            "Requirement already satisfied: packaging in /usr/local/lib/python3.7/dist-packages (from arviz>=0.11.0->pyMC3->pyGPGO) (21.2)\n",
            "Requirement already satisfied: matplotlib>=3.0 in /usr/local/lib/python3.7/dist-packages (from arviz>=0.11.0->pyMC3->pyGPGO) (3.2.2)\n",
            "Requirement already satisfied: cycler>=0.10 in /usr/local/lib/python3.7/dist-packages (from matplotlib>=3.0->arviz>=0.11.0->pyMC3->pyGPGO) (0.11.0)\n",
            "Requirement already satisfied: python-dateutil>=2.1 in /usr/local/lib/python3.7/dist-packages (from matplotlib>=3.0->arviz>=0.11.0->pyMC3->pyGPGO) (2.8.2)\n",
            "Requirement already satisfied: kiwisolver>=1.0.1 in /usr/local/lib/python3.7/dist-packages (from matplotlib>=3.0->arviz>=0.11.0->pyMC3->pyGPGO) (1.3.2)\n",
            "Requirement already satisfied: pyparsing!=2.0.4,!=2.1.2,!=2.1.6,>=2.0.1 in /usr/local/lib/python3.7/dist-packages (from matplotlib>=3.0->arviz>=0.11.0->pyMC3->pyGPGO) (2.4.7)\n",
            "Requirement already satisfied: pytz>=2017.2 in /usr/local/lib/python3.7/dist-packages (from pandas>=0.24.0->pyMC3->pyGPGO) (2018.9)\n",
            "Requirement already satisfied: six in /usr/local/lib/python3.7/dist-packages (from patsy>=0.5.1->pyMC3->pyGPGO) (1.15.0)\n",
            "Requirement already satisfied: cftime in /usr/local/lib/python3.7/dist-packages (from netcdf4->arviz>=0.11.0->pyMC3->pyGPGO) (1.5.1.1)\n",
            "Requirement already satisfied: threadpoolctl>=2.0.0 in /usr/local/lib/python3.7/dist-packages (from scikit-learn->pyGPGO) (3.0.0)\n"
          ]
        }
      ]
    },
    {
      "cell_type": "code",
      "metadata": {
        "id": "ZJSSPbwPaEUB"
      },
      "source": [
        "### Import:\n",
        "\n",
        "import numpy as np\n",
        "import scipy as sp\n",
        "import pandas as pd\n",
        "import matplotlib.pyplot as plt\n",
        "import warnings\n",
        "import itertools\n",
        "\n",
        "from pyGPGO.GPGO import GPGO\n",
        "from pyGPGO.surrogates.GaussianProcess import GaussianProcess\n",
        "from pyGPGO.acquisition import Acquisition\n",
        "from pyGPGO.covfunc import squaredExponential\n",
        "\n",
        "from joblib import Parallel, delayed\n",
        "from numpy.linalg import solve, cholesky\n",
        "from scipy.spatial.distance import cdist\n",
        "from scipy.optimize import minimize\n",
        "from scipy.stats import norm\n",
        "import time\n",
        "\n",
        "warnings.filterwarnings(\"ignore\", category=RuntimeWarning)\n"
      ],
      "execution_count": null,
      "outputs": []
    },
    {
      "cell_type": "code",
      "metadata": {
        "id": "OeYcTUNoaJWa"
      },
      "source": [
        "### Inputs:\n",
        "\n",
        "func = 'Branin'\n",
        "n_test = 500\n",
        "eps = 1e-08\n",
        "\n",
        "util_grad_exact = 'dERM_GP'\n",
        "util_grad_approx = 'ExpectedRegret'\n",
        "\n",
        "n_init = 5 # random initialisations\n",
        "iters = 20\n",
        "opt = True"
      ],
      "execution_count": null,
      "outputs": []
    },
    {
      "cell_type": "code",
      "metadata": {
        "id": "xpaEOjdzaPMS"
      },
      "source": [
        "### Objective Function - Branin(x) 2-D:\n",
        "\n",
        "def objfunc(x1_training, x2_training, a = 1, b = (5.1 / (4 * (np.pi) ** 2)), c = (5 / (np.pi)), r = 6, s = 10, t = (1 / (8 * np.pi))):\n",
        "        return operator * ((a * (x2_training - b * x1_training ** 2 + c * x1_training - r) ** 2) + \n",
        "                 s * (1 - t) * np.cos(x1_training) + s)\n",
        "        \n",
        "# Constraints:\n",
        "lb_x1 = -5 \n",
        "ub_x1 = +10\n",
        "lb_x2 = +0 \n",
        "ub_x2 = +15\n",
        "\n",
        "# Input array dimension(s):\n",
        "dim = 2\n",
        "\n",
        "# 2-D inputs' parameter bounds:\n",
        "param = {'x1_training': ('cont', [lb_x1, ub_x1]),\n",
        "             'x2_training': ('cont', [lb_x2, ub_x2])}\n",
        "\n",
        "# True y bounds:\n",
        "operator = -1\n",
        "y_lb = 0.397887 # targets global minimum\n",
        "y_global_orig = y_lb * operator # targets global minimum\n",
        "\n",
        "\n",
        "# Test data:\n",
        "x1_test = np.linspace(lb_x1, ub_x1, n_test)\n",
        "x2_test = np.linspace(lb_x2, ub_x2, n_test)\n",
        "  \n",
        "x_test = np.column_stack((x1_test,x2_test))\n"
      ],
      "execution_count": null,
      "outputs": []
    },
    {
      "cell_type": "code",
      "metadata": {
        "id": "eYpI3Zm4aGxi"
      },
      "source": [
        "n_start_AcqFunc = iters\n"
      ],
      "execution_count": null,
      "outputs": []
    },
    {
      "cell_type": "code",
      "metadata": {
        "id": "oO_GUmOoaV0T"
      },
      "source": [
        "### Cumulative Regret Calculator:\n",
        "\n",
        "def min_max_array(x):\n",
        "    new_list = []\n",
        "    for i, num in enumerate(x):\n",
        "            new_list.append(np.min(x[0:i+1]))\n",
        "    return new_list\n",
        "  "
      ],
      "execution_count": null,
      "outputs": []
    },
    {
      "cell_type": "code",
      "metadata": {
        "id": "kuuJx0IMam9S"
      },
      "source": [
        "### Surrogate derivatives: \n",
        "\n",
        "cov_func = squaredExponential()\n",
        "\n",
        "def kronDelta(X, Xstar):\n",
        "    return cdist(X, Xstar) < np.finfo(np.float32).eps\n",
        "\n",
        "def se(X, Xstar, sigmaf, l, sigman):\n",
        "    return sigmaf * np.exp(-0.5 * cdist(X, Xstar) ** 2 / l ** 2) + sigman * kronDelta(X, Xstar)\n",
        "\n",
        "def deriv_se(X, Xstar, sigmaf, l, sigman):\n",
        "    return cdist(X, Xstar) / (l ** 2) * se(X, Xstar, sigmaf, l, sigman)\n",
        "\n",
        "def der_covmat(X, Xstar, sigmaf, l, sigman):\n",
        "      nx = len(X)\n",
        "      ny = len(Xstar)\n",
        "      return np.round(np.array([deriv_se(np.atleast_2d(i), np.atleast_2d(j), sigmaf, l, sigman) for (i, j) in itertools.product(X, Xstar)]).reshape(nx, ny), 8)\n",
        "\n",
        "class dGaussianProcess(GaussianProcess):\n",
        "    l = GaussianProcess(cov_func, optimize=opt).getcovparams()['l']\n",
        "    sigmaf = GaussianProcess(cov_func, optimize=opt).getcovparams()['sigmaf']\n",
        "    sigman = GaussianProcess(cov_func, optimize=opt).getcovparams()['sigman']\n",
        "\n",
        "    def AcqGrad(self, Xstar):\n",
        "        Xstar = np.atleast_2d(Xstar)\n",
        "        Kstar = self.covfunc.K(self.X, Xstar).T\n",
        "        dKstar = der_covmat(self.X, Xstar, self.sigmaf, self.l, self.sigman).T\n",
        "        \n",
        "        alpha_Kstar = np.dot(np.linalg.inv(self.K + (self.sigman**2) * np.eye(len(self.X))), Kstar.T)\n",
        "        \n",
        "        dm = np.dot(dKstar, self.alpha)\n",
        "        ds = -2 * np.dot(dKstar, alpha_Kstar)\n",
        "        \n",
        "        return dm, ds\n",
        "        "
      ],
      "execution_count": null,
      "outputs": []
    },
    {
      "cell_type": "code",
      "metadata": {
        "id": "_Dc3YVHVaXz7"
      },
      "source": [
        "class Acquisition_new(Acquisition):    \n",
        "    def __init__(self, mode, eps=eps, **params):\n",
        "        \n",
        "        self.params = params\n",
        "        self.eps = eps\n",
        "\n",
        "        mode_dict = {\n",
        "            'ExpectedRegret': self.ExpectedRegret,\n",
        "            'dERM_GP': self.dERM_GP\n",
        "        }\n",
        "\n",
        "        self.f = mode_dict[mode]\n",
        "    \n",
        "    def ExpectedRegret(self, tau, mean, std):\n",
        "        z = (mean - y_global_orig - self.eps) / (std + self.eps)\n",
        "        return (mean - y_global_orig) * norm.cdf(z) + std * norm.pdf(z)[0]\n",
        "\n",
        "\n",
        "    def dERM_GP(self, tau, mean, std, ds, dm):\n",
        "        gamma = (mean - y_global_orig - self.eps) / (std + self.eps)\n",
        "        gamma_h = (mean - tau) / (std + self.eps)\n",
        "        dsdx = ds / (2 * (std + self.eps))\n",
        "        dmdx = (dm - gamma * dsdx) / (std + self.eps)\n",
        "        \n",
        "        f = (std + self.eps) * (gamma * norm.cdf(gamma) + norm.pdf(gamma))\n",
        "        df1 = f / (std + self.eps) * dsdx \n",
        "        df2 = (std + self.eps) * norm.cdf(gamma) * dmdx\n",
        "        df = (df1 + df2)[0]\n",
        "        df_arr = []\n",
        "\n",
        "        for j in range(0, dim):\n",
        "          df_arr.append(df)\n",
        "        return f, np.asarray(df_arr).transpose()\n",
        "        \n",
        "    def d_eval(self, tau, mean, std, ds, dm):\n",
        "    \n",
        "        return self.f(tau, mean, std, ds, dm, **self.params)\n",
        "        "
      ],
      "execution_count": null,
      "outputs": []
    },
    {
      "cell_type": "code",
      "metadata": {
        "id": "PITEQC8YSl7i"
      },
      "source": [
        "## GPGO_multi: Multistart changed to variable 'n_start_AcqFunc'\n",
        "\n",
        "class GPGO_multi(GPGO):\n",
        "    n_start = n_start_AcqFunc\n",
        "\n",
        "    def _optimizeAcq(self, method='L-BFGS-B', n_start=n_start_AcqFunc):\n",
        "        \n",
        "        start_points_dict = [self._sampleParam() for i in range(n_start)]\n",
        "        start_points_arr = np.array([list(s.values())\n",
        "                                     for s in start_points_dict])\n",
        "        x_best = np.empty((n_start, len(self.parameter_key)))\n",
        "        f_best = np.empty((n_start,))\n",
        "        if self.n_jobs == 1:\n",
        "            for index, start_point in enumerate(start_points_arr):\n",
        "                res = minimize(self._acqWrapper, x0=start_point, method=method,\n",
        "                               bounds=self.parameter_range)\n",
        "                x_best[index], f_best[index] = res.x, np.atleast_1d(res.fun)[0]\n",
        "        else:\n",
        "            opt = Parallel(n_jobs=self.n_jobs)(delayed(minimize)(self._acqWrapper,\n",
        "                                                                 x0=start_point,\n",
        "                                                                 method=method,\n",
        "                                                                 bounds=self.parameter_range) for start_point in\n",
        "                                               start_points_arr)\n",
        "            x_best = np.array([res.x for res in opt])\n",
        "            f_best = np.array([np.atleast_1d(res.fun)[0] for res in opt])\n",
        "\n",
        "        self.best = x_best[np.argmin(f_best)]"
      ],
      "execution_count": null,
      "outputs": []
    },
    {
      "cell_type": "code",
      "metadata": {
        "id": "b_B-w81BJxKN"
      },
      "source": [
        "## dGPGO:\n",
        "\n",
        "grad = 1\n",
        "\n",
        "class dGPGO(GPGO):\n",
        "    n_start = n_start_AcqFunc\n",
        "\n",
        "    def d_optimizeAcq(self, method='L-BFGS-B', n_start=n_start_AcqFunc):\n",
        "        start_points_dict = [self._sampleParam() for i in range(n_start)]\n",
        "        start_points_arr = np.array([list(s.values())\n",
        "                                     for s in start_points_dict])\n",
        "        x_best = np.empty((n_start, len(self.parameter_key)))\n",
        "        f_best = np.empty((n_start,))\n",
        "        opt = Parallel(n_jobs=self.n_jobs)(delayed(minimize)(self.acqfunc,\n",
        "                                                                 x0=start_point,\n",
        "                                                                 method=method,\n",
        "                                                                 jac = True,\n",
        "                                                                 bounds=self.parameter_range) for start_point in\n",
        "                                               start_points_arr)\n",
        "        x_best = np.array([res.x for res in opt])\n",
        "        f_best = np.array([np.atleast_1d(res.fun)[0] for res in opt])\n",
        "\n",
        "        self.x_best = x_best\n",
        "        self.f_best = f_best\n",
        "        self.best = x_best[np.argmin(f_best)]\n",
        "        self.start_points_arr = start_points_arr\n",
        "\n",
        "        return x_best, f_best\n",
        "    \n",
        "    def run(self, max_iter=10, init_evals=3, resume=False):\n",
        "        \n",
        "        if not resume:\n",
        "            self.init_evals = init_evals\n",
        "            self._firstRun(self.init_evals)\n",
        "            self.logger._printInit(self)\n",
        "        for iteration in range(max_iter):\n",
        "            self.d_optimizeAcq()\n",
        "            self.updateGP()\n",
        "            self.logger._printCurrent(self)\n",
        "\n",
        "    def acqfunc(self, xnew, n_start=n_start_AcqFunc):\n",
        "        new_mean, new_var = self.GP.predict(xnew, return_std=True)\n",
        "        new_std = np.sqrt(new_var + eps)\n",
        "        dm, ds = self.GP.AcqGrad(xnew)\n",
        "        f, df = self.A.d_eval(self.tau, new_mean, new_std, ds=ds, dm=dm)\n",
        "\n",
        "        return -f, -df * grad\n"
      ],
      "execution_count": null,
      "outputs": []
    },
    {
      "cell_type": "code",
      "metadata": {
        "id": "qXIKGuXVGEg2"
      },
      "source": [
        "###Reproducible set-seeds:\n",
        "\n",
        "run_num_1 = 1\n",
        "run_num_2 = 2\n",
        "run_num_3 = 3\n",
        "run_num_4 = 4\n",
        "run_num_5 = 5\n",
        "run_num_6 = 6\n",
        "run_num_7 = 7\n",
        "run_num_8 = 8\n",
        "run_num_9 = 9\n",
        "run_num_10 = 10\n",
        "run_num_11 = 11\n",
        "run_num_12 = 12\n",
        "run_num_13 = 13\n",
        "run_num_14 = 14\n",
        "run_num_15 = 15\n",
        "run_num_16 = 16\n",
        "run_num_17 = 17\n",
        "run_num_18 = 18\n",
        "run_num_19 = 19\n",
        "run_num_20 = 20\n"
      ],
      "execution_count": null,
      "outputs": []
    },
    {
      "cell_type": "code",
      "metadata": {
        "colab": {
          "base_uri": "https://localhost:8080/"
        },
        "id": "JEhagQmnTVIK",
        "outputId": "be3ac8d7-5ff2-4fd6-a3f5-aae94eccb9a0"
      },
      "source": [
        "start_approx = time.time()\n",
        "start_approx\n"
      ],
      "execution_count": null,
      "outputs": [
        {
          "output_type": "execute_result",
          "data": {
            "text/plain": [
              "1637144629.9423244"
            ]
          },
          "metadata": {},
          "execution_count": 15
        }
      ]
    },
    {
      "cell_type": "code",
      "metadata": {
        "colab": {
          "base_uri": "https://localhost:8080/"
        },
        "id": "aH0YSTXufD1v",
        "outputId": "c9e9b068-1ba2-454a-d261-d5af1cb37b32"
      },
      "source": [
        "### ESTIMATED GP EI GRADIENTS\n",
        "\n",
        "np.random.seed(run_num_1)\n",
        "surrogate_approx_1 = GaussianProcess(cov_func, optimize=opt)\n",
        "\n",
        "approx_1 = GPGO_multi(surrogate_approx_1, Acquisition_new(util_grad_approx), objfunc, param)\n",
        "approx_1.run(init_evals=n_init, max_iter=iters)\n"
      ],
      "execution_count": null,
      "outputs": [
        {
          "output_type": "stream",
          "name": "stdout",
          "text": [
            "Evaluation \t Proposed point \t  Current eval. \t Best eval.\n",
            "init   \t [ 1.25533007 10.8048674 ]. \t  -56.52874004692151 \t -27.68166689936483\n",
            "init   \t [-4.99828438  4.53498859]. \t  -172.66531086516164 \t -27.68166689936483\n",
            "init   \t [-2.79866164  1.38507892]. \t  -102.58290348816024 \t -27.68166689936483\n",
            "init   \t [-2.20609683  5.18341091]. \t  -28.868064601155666 \t -27.68166689936483\n",
            "init   \t [0.95151211 8.08225101]. \t  -27.68166689936483 \t -27.68166689936483\n",
            "1      \t [8.41909995 1.27566317]. \t  \u001b[92m-5.089934878453152\u001b[0m \t -5.089934878453152\n",
            "2      \t [ 8.98893195 10.45227242]. \t  -70.52424256621515 \t -5.089934878453152\n",
            "3      \t [-3.93920149 13.25441417]. \t  \u001b[92m-4.333308116197517\u001b[0m \t -4.333308116197517\n",
            "4      \t [3.29585328 0.        ]. \t  -5.167890908848676 \t -4.333308116197517\n",
            "5      \t [ 5.36701892 15.        ]. \t  -206.8589766877631 \t -4.333308116197517\n",
            "6      \t [5.81444645 5.67080203]. \t  -39.335751165739254 \t -4.333308116197517\n",
            "7      \t [-5.          9.41518323]. \t  -73.13048618123008 \t -4.333308116197517\n",
            "8      \t [10. 15.]. \t  -145.87219087939556 \t -4.333308116197517\n",
            "9      \t [-0.27363981 15.        ]. \t  -92.4297222170607 \t -4.333308116197517\n",
            "10     \t [10.          5.16485257]. \t  -6.61693483912137 \t -4.333308116197517\n",
            "11     \t [1.83229107 3.59375554]. \t  -7.523426670974667 \t -4.333308116197517\n",
            "12     \t [5.04267609 9.66237011]. \t  -83.72551412214018 \t -4.333308116197517\n",
            "13     \t [5.44864397 2.0101498 ]. \t  -17.164960408693208 \t -4.333308116197517\n",
            "14     \t [0.62183987 0.        ]. \t  -43.4109542772486 \t -4.333308116197517\n",
            "15     \t [-2.07573393 11.44006718]. \t  -7.850783428874916 \t -4.333308116197517\n",
            "16     \t [-5. 15.]. \t  -17.508299515778166 \t -4.333308116197517\n",
            "17     \t [10.  0.]. \t  -10.960889035651505 \t -4.333308116197517\n",
            "18     \t [8.70149169 7.17859504]. \t  -30.32370156094638 \t -4.333308116197517\n",
            "19     \t [8.33388888 3.47333313]. \t  -8.681206020105318 \t -4.333308116197517\n",
            "20     \t [-1.93203235  8.36635752]. \t  -8.024277023965489 \t -4.333308116197517\n"
          ]
        }
      ]
    },
    {
      "cell_type": "code",
      "metadata": {
        "colab": {
          "base_uri": "https://localhost:8080/"
        },
        "id": "wTxsSZxFGBB5",
        "outputId": "ee9c8632-59de-4414-fce4-df401af5bcf5"
      },
      "source": [
        "### ESTIMATED GP EI GRADIENTS\n",
        "\n",
        "np.random.seed(run_num_2)\n",
        "surrogate_approx_2 = GaussianProcess(cov_func, optimize=opt)\n",
        "\n",
        "approx_2 = GPGO_multi(surrogate_approx_2, Acquisition_new(util_grad_approx), objfunc, param)\n",
        "approx_2.run(init_evals=n_init, max_iter=iters)\n"
      ],
      "execution_count": null,
      "outputs": [
        {
          "output_type": "stream",
          "name": "stdout",
          "text": [
            "Evaluation \t Proposed point \t  Current eval. \t Best eval.\n",
            "init   \t [1.53992353 0.38889348]. \t  -22.31361308916297 \t -6.692051508754487\n",
            "init   \t [3.24493717 6.52983589]. \t  -19.233109967858276 \t -6.692051508754487\n",
            "init   \t [1.30551703 4.95502232]. \t  -13.177851563387286 \t -6.692051508754487\n",
            "init   \t [-1.93027049  9.2890645 ]. \t  -6.692051508754487 \t -6.692051508754487\n",
            "init   \t [-0.50517989  4.00240913]. \t  -26.437522758780958 \t -6.692051508754487\n",
            "1      \t [ 9.5587047  12.00387527]. \t  -89.09951357262268 \t -6.692051508754487\n",
            "2      \t [9.59366035 1.69164323]. \t  \u001b[92m-1.3984593420568778\u001b[0m \t -1.3984593420568778\n",
            "3      \t [ 2.76755193 13.40050896]. \t  -118.04193885354222 \t -1.3984593420568778\n",
            "4      \t [-5.          0.73986183]. \t  -283.24394841613446 \t -1.3984593420568778\n",
            "5      \t [-3.14464907 14.56432333]. \t  -5.605350427804851 \t -1.3984593420568778\n",
            "6      \t [8.93672669 6.44382594]. \t  -20.439158338984655 \t -1.3984593420568778\n",
            "7      \t [-5.          6.09195487]. \t  -135.83176862127195 \t -1.3984593420568778\n",
            "8      \t [5.72568685 2.48816548]. \t  -20.013473270501635 \t -1.3984593420568778\n",
            "9      \t [5.70826882 9.7626265 ]. \t  -92.67742827181968 \t -1.3984593420568778\n",
            "10     \t [ 6.72661289 15.        ]. \t  -210.78647365422145 \t -1.3984593420568778\n",
            "11     \t [-5.         11.31346797]. \t  -47.22636251834995 \t -1.3984593420568778\n",
            "12     \t [1.29059912 9.56158624]. \t  -41.82041697882437 \t -1.3984593420568778\n",
            "13     \t [8.00195222 0.        ]. \t  -10.944694895674045 \t -1.3984593420568778\n",
            "14     \t [-1.11773522 12.47287207]. \t  -34.74701642919589 \t -1.3984593420568778\n",
            "15     \t [-1.33556481  0.        ]. \t  -82.06148679969857 \t -1.3984593420568778\n",
            "16     \t [6.07837922 5.5928334 ]. \t  -39.59687428134272 \t -1.3984593420568778\n",
            "17     \t [10.          3.46543508]. \t  -2.157027000433093 \t -1.3984593420568778\n",
            "18     \t [-1.2000353  6.9617066]. \t  -14.765596983185526 \t -1.3984593420568778\n",
            "19     \t [-5. 15.]. \t  -17.508299515778166 \t -1.3984593420568778\n",
            "20     \t [4.56199614 0.        ]. \t  -10.600306830027334 \t -1.3984593420568778\n"
          ]
        }
      ]
    },
    {
      "cell_type": "code",
      "metadata": {
        "colab": {
          "base_uri": "https://localhost:8080/"
        },
        "id": "-dgzIrUIGCGT",
        "outputId": "22d105fe-8977-44fe-91de-b4df8474ded7"
      },
      "source": [
        "### ESTIMATED GP EI GRADIENTS\n",
        "\n",
        "np.random.seed(run_num_3)\n",
        "surrogate_approx_3 = GaussianProcess(cov_func, optimize=opt)\n",
        "\n",
        "approx_3 = GPGO_multi(surrogate_approx_3, Acquisition_new(util_grad_approx), objfunc, param)\n",
        "approx_3.run(init_evals=n_init, max_iter=iters)\n"
      ],
      "execution_count": null,
      "outputs": [
        {
          "output_type": "stream",
          "name": "stdout",
          "text": [
            "Evaluation \t Proposed point \t  Current eval. \t Best eval.\n",
            "init   \t [ 3.26196854 10.62221734]. \t  -71.68783452098575 \t -18.07886746449891\n",
            "init   \t [-0.63642892  7.66241408]. \t  -18.07886746449891 \t -18.07886746449891\n",
            "init   \t [ 8.39420432 13.44439633]. \t  -141.98653529865882 \t -18.07886746449891\n",
            "init   \t [-3.11622034  3.10864317]. \t  -83.31045707266176 \t -18.07886746449891\n",
            "init   \t [-4.22799195  6.61214765]. \t  -76.5294170688398 \t -18.07886746449891\n",
            "1      \t [6.70472147 4.59545299]. \t  -30.726791812855225 \t -18.07886746449891\n",
            "2      \t [-3.89564496 13.38589781]. \t  \u001b[92m-3.6010193697779265\u001b[0m \t -3.6010193697779265\n",
            "3      \t [2.67993826 0.82315258]. \t  -4.786478981860064 \t -3.6010193697779265\n",
            "4      \t [10.  0.]. \t  -10.960889035651505 \t -3.6010193697779265\n",
            "5      \t [ 0.48224098 15.        ]. \t  -113.32534391424977 \t -3.6010193697779265\n",
            "6      \t [10.          8.34455279]. \t  -30.47579050396284 \t -3.6010193697779265\n",
            "7      \t [6.14184152 0.24227011]. \t  -20.2387699483704 \t -3.6010193697779265\n",
            "8      \t [2.30263666 4.7134918 ]. \t  -6.450743843059607 \t -3.6010193697779265\n",
            "9      \t [4.82276109 6.82480457]. \t  -41.26105022561197 \t -3.6010193697779265\n",
            "10     \t [-0.53806736  0.        ]. \t  -65.76929340283174 \t -3.6010193697779265\n",
            "11     \t [-1.51751729 11.19637871]. \t  -16.680021979189135 \t -3.6010193697779265\n",
            "12     \t [ 4.57455946 15.        ]. \t  -193.0223324814087 \t -3.6010193697779265\n",
            "13     \t [-5.         10.51185264]. \t  -57.28615314956362 \t -3.6010193697779265\n",
            "14     \t [10.          3.50930337]. \t  \u001b[92m-2.199527712174585\u001b[0m \t -2.199527712174585\n",
            "15     \t [-5.  0.]. \t  -308.12909601160663 \t -2.199527712174585\n",
            "16     \t [6.90343532 9.81341296]. \t  -92.53179563919325 \t -2.199527712174585\n",
            "17     \t [0.3354831  3.42568543]. \t  -23.28948868391931 \t -2.199527712174585\n",
            "18     \t [4.09985039 2.78244221]. \t  -5.770077203892551 \t -2.199527712174585\n",
            "19     \t [10.          5.30270417]. \t  -7.231979516087 \t -2.199527712174585\n",
            "20     \t [-5. 15.]. \t  -17.508299515778166 \t -2.199527712174585\n"
          ]
        }
      ]
    },
    {
      "cell_type": "code",
      "metadata": {
        "colab": {
          "base_uri": "https://localhost:8080/"
        },
        "id": "hOtG-2sCGCKS",
        "outputId": "8e0e5b6c-e6c6-4544-f102-dfa57a1d07cc"
      },
      "source": [
        "### ESTIMATED GP EI GRADIENTS\n",
        "\n",
        "np.random.seed(run_num_4)\n",
        "surrogate_approx_4 = GaussianProcess(cov_func, optimize=opt)\n",
        "\n",
        "approx_4 = GPGO_multi(surrogate_approx_4, Acquisition_new(util_grad_approx), objfunc, param)\n",
        "approx_4.run(init_evals=n_init, max_iter=iters)\n"
      ],
      "execution_count": null,
      "outputs": [
        {
          "output_type": "stream",
          "name": "stdout",
          "text": [
            "Evaluation \t Proposed point \t  Current eval. \t Best eval.\n",
            "init   \t [9.50544759 8.20848374]. \t  -32.51676744781521 \t -7.247126865776948\n",
            "init   \t [ 9.5902654  10.72223991]. \t  -66.20566674364716 \t -7.247126865776948\n",
            "init   \t [5.46593237 3.24134243]. \t  -20.90089401680587 \t -7.247126865776948\n",
            "init   \t [9.64411682 0.09345383]. \t  -7.247126865776948 \t -7.247126865776948\n",
            "init   \t [-1.20526456  6.52187299]. \t  -15.941376982363263 \t -7.247126865776948\n",
            "1      \t [ 1.25164457 13.57001383]. \t  -100.61648848019335 \t -7.247126865776948\n",
            "2      \t [0.47714304 0.        ]. \t  -46.30270712048601 \t -7.247126865776948\n",
            "3      \t [-5.        10.4721139]. \t  -57.81828491041938 \t -7.247126865776948\n",
            "4      \t [-4.88521651  1.98881641]. \t  -232.74673062582045 \t -7.247126865776948\n",
            "5      \t [3.92795196 8.48388558]. \t  -48.67477858971573 \t -7.247126865776948\n",
            "6      \t [ 6.50636809 15.        ]. \t  -212.19776277207015 \t -7.247126865776948\n",
            "7      \t [1.67655135 4.0775761 ]. \t  -9.132937223241916 \t -7.247126865776948\n",
            "8      \t [-3.63961844 15.        ]. \t  \u001b[92m-3.8025461424129317\u001b[0m \t -3.8025461424129317\n",
            "9      \t [10.          3.97111771]. \t  \u001b[92m-2.880476589564182\u001b[0m \t -2.880476589564182\n",
            "10     \t [-5.          6.40046849]. \t  -129.08078209501429 \t -2.880476589564182\n",
            "11     \t [4.4600403 0.       ]. \t  -9.76745030457051 \t -2.880476589564182\n",
            "12     \t [-0.87793498 10.09612337]. \t  -22.88949681913462 \t -2.880476589564182\n",
            "13     \t [-1.17951603  3.24517015]. \t  -36.81556138509788 \t -2.880476589564182\n",
            "14     \t [ 5.92357318 11.19585627]. \t  -120.80804225892128 \t -2.880476589564182\n",
            "15     \t [6.83353431 6.16629986]. \t  -43.280915435353585 \t -2.880476589564182\n",
            "16     \t [10.         14.43299394]. \t  -132.58889404527758 \t -2.880476589564182\n",
            "17     \t [-2.42739089 12.97812967]. \t  -8.28407355234081 \t -2.880476589564182\n",
            "18     \t [7.1328024 0.       ]. \t  -17.829116311062243 \t -2.880476589564182\n",
            "19     \t [8.51553641 2.72200894]. \t  -4.923960828185676 \t -2.880476589564182\n",
            "20     \t [1.46479087 6.68312253]. \t  -18.508397681683356 \t -2.880476589564182\n"
          ]
        }
      ]
    },
    {
      "cell_type": "code",
      "metadata": {
        "colab": {
          "base_uri": "https://localhost:8080/"
        },
        "id": "JF_SxcEvGCOl",
        "outputId": "9e1cf681-9481-4f30-c4ed-6ffe14030fc0"
      },
      "source": [
        "### ESTIMATED GP EI GRADIENTS\n",
        "\n",
        "np.random.seed(run_num_5)\n",
        "surrogate_approx_5 = GaussianProcess(cov_func, optimize=opt)\n",
        "\n",
        "approx_5 = GPGO_multi(surrogate_approx_5, Acquisition_new(util_grad_approx), objfunc, param)\n",
        "approx_5.run(init_evals=n_init, max_iter=iters)\n"
      ],
      "execution_count": null,
      "outputs": [
        {
          "output_type": "stream",
          "name": "stdout",
          "text": [
            "Evaluation \t Proposed point \t  Current eval. \t Best eval.\n",
            "init   \t [-1.67010243 13.06098459]. \t  -25.390690545664548 \t -25.311309190989615\n",
            "init   \t [-1.89921267 13.77916362]. \t  -25.311309190989615 \t -25.311309190989615\n",
            "init   \t [2.32616783 9.17615794]. \t  -41.60147975414021 \t -25.311309190989615\n",
            "init   \t [6.48861785 7.77626982]. \t  -63.81281921768236 \t -25.311309190989615\n",
            "init   \t [-0.54799248  2.81581843]. \t  -34.966203644931994 \t -25.311309190989615\n",
            "1      \t [8.84124421 0.03321319]. \t  \u001b[92m-5.96108856337545\u001b[0m \t -5.96108856337545\n",
            "2      \t [ 8.39476442 14.47736321]. \t  -167.21523769473345 \t -5.96108856337545\n",
            "3      \t [-5.          8.52071661]. \t  -87.83446181212865 \t -5.96108856337545\n",
            "4      \t [-5.  0.]. \t  -308.12909601160663 \t -5.96108856337545\n",
            "5      \t [3.88784136 0.        ]. \t  -6.06486474045351 \t -5.96108856337545\n",
            "6      \t [ 3.02988302 15.        ]. \t  -160.1330600826706 \t -5.96108856337545\n",
            "7      \t [10.          4.33638034]. \t  \u001b[92m-3.721159508797653\u001b[0m \t -3.721159508797653\n",
            "8      \t [3.80134979 4.09020716]. \t  -7.581748582845293 \t -3.721159508797653\n",
            "9      \t [10.         10.16732364]. \t  -53.271295632675226 \t -3.721159508797653\n",
            "10     \t [-1.05364887  6.8490862 ]. \t  -15.690666579763583 \t -3.721159508797653\n",
            "11     \t [-5.          4.41617102]. \t  -175.82702119135052 \t -3.721159508797653\n",
            "12     \t [6.99776114 2.92193038]. \t  -20.25721396850724 \t -3.721159508797653\n",
            "13     \t [ 5.43140095 11.54549955]. \t  -124.04559582312592 \t -3.721159508797653\n",
            "14     \t [-5. 15.]. \t  -17.508299515778166 \t -3.721159508797653\n",
            "15     \t [1.03873146 0.        ]. \t  -34.9972109423886 \t -3.721159508797653\n",
            "16     \t [-1.3073895   9.95055651]. \t  -15.219219452750249 \t -3.721159508797653\n",
            "17     \t [10.          6.70242007]. \t  -15.629170578074241 \t -3.721159508797653\n",
            "18     \t [-5.         12.01071107]. \t  -39.521449192926724 \t -3.721159508797653\n",
            "19     \t [1.7442339  5.72392085]. \t  -12.782126049451538 \t -3.721159508797653\n",
            "20     \t [6.30329786 0.        ]. \t  -20.811694499646258 \t -3.721159508797653\n"
          ]
        }
      ]
    },
    {
      "cell_type": "code",
      "metadata": {
        "colab": {
          "base_uri": "https://localhost:8080/"
        },
        "id": "-kDxZtJsGCR3",
        "outputId": "aaa61d0f-4c98-4590-bf9e-18b10634d4e2"
      },
      "source": [
        "### ESTIMATED GP EI GRADIENTS\n",
        "\n",
        "np.random.seed(run_num_6)\n",
        "surrogate_approx_6 = GaussianProcess(cov_func, optimize=opt)\n",
        "\n",
        "approx_6 = GPGO_multi(surrogate_approx_6, Acquisition_new(util_grad_approx), objfunc, param)\n",
        "approx_6.run(init_evals=n_init, max_iter=iters)\n"
      ],
      "execution_count": null,
      "outputs": [
        {
          "output_type": "stream",
          "name": "stdout",
          "text": [
            "Evaluation \t Proposed point \t  Current eval. \t Best eval.\n",
            "init   \t [8.39290227 4.97969708]. \t  -15.553860636684597 \t -15.31731051317483\n",
            "init   \t [7.31843685 0.62544939]. \t  -15.31731051317483 \t -15.31731051317483\n",
            "init   \t [-3.3851498   8.92578096]. \t  -16.222288919361837 \t -15.31731051317483\n",
            "init   \t [2.94726043 6.28211143]. \t  -15.406373581304088 \t -15.31731051317483\n",
            "init   \t [0.03111774 9.33779148]. \t  -31.07053245856209 \t -15.31731051317483\n",
            "1      \t [ 9.64829531 12.55362889]. \t  -98.32295673962142 \t -15.31731051317483\n",
            "2      \t [-1.82404332  0.        ]. \t  -94.69665209951235 \t -15.31731051317483\n",
            "3      \t [-5. 15.]. \t  -17.508299515778166 \t -15.31731051317483\n",
            "4      \t [ 2.93119716 15.        ]. \t  -158.24274224443167 \t -15.31731051317483\n",
            "5      \t [-5.          4.22937653]. \t  -180.63308889086397 \t -15.31731051317483\n",
            "6      \t [ 5.17635766 10.29129859]. \t  -96.53047826357314 \t -15.31731051317483\n",
            "7      \t [2.86396934 1.5860754 ]. \t  \u001b[92m-1.6034929380337442\u001b[0m \t -1.6034929380337442\n",
            "8      \t [-1.36837236 13.33495332]. \t  -36.0899412803695 \t -1.6034929380337442\n",
            "9      \t [-1.00824757  4.06594156]. \t  -28.59055776793365 \t -1.6034929380337442\n",
            "10     \t [-5.  0.]. \t  -308.12909601160663 \t -1.6034929380337442\n",
            "11     \t [10.          8.32963545]. \t  -30.316648196504687 \t -1.6034929380337442\n",
            "12     \t [5.07353133 3.44603547]. \t  -18.213100621556855 \t -1.6034929380337442\n",
            "13     \t [6.42657523 7.057975  ]. \t  -54.91504948897935 \t -1.6034929380337442\n",
            "14     \t [ 6.85719301 15.        ]. \t  -209.58566889416846 \t -1.6034929380337442\n",
            "15     \t [-5.         11.69228027]. \t  -42.91965623165271 \t -1.6034929380337442\n",
            "16     \t [10.          2.13030949]. \t  -2.7046536526029232 \t -1.6034929380337442\n",
            "17     \t [1.9614553 0.       ]. \t  -17.735912389370903 \t -1.6034929380337442\n",
            "18     \t [2.02735943 3.10183002]. \t  -5.807762524486733 \t -1.6034929380337442\n",
            "19     \t [4.69675979 0.        ]. \t  -11.739532552869532 \t -1.6034929380337442\n",
            "20     \t [10.  0.]. \t  -10.960889035651505 \t -1.6034929380337442\n"
          ]
        }
      ]
    },
    {
      "cell_type": "code",
      "metadata": {
        "colab": {
          "base_uri": "https://localhost:8080/"
        },
        "id": "fKB8MCD_GCVI",
        "outputId": "6ba61dcd-2b04-481a-950d-72102a0257d8"
      },
      "source": [
        "### ESTIMATED GP EI GRADIENTS\n",
        "\n",
        "np.random.seed(run_num_7)\n",
        "surrogate_approx_7 = GaussianProcess(cov_func, optimize=opt)\n",
        "\n",
        "approx_7 = GPGO_multi(surrogate_approx_7, Acquisition_new(util_grad_approx), objfunc, param)\n",
        "approx_7.run(init_evals=n_init, max_iter=iters)\n"
      ],
      "execution_count": null,
      "outputs": [
        {
          "output_type": "stream",
          "name": "stdout",
          "text": [
            "Evaluation \t Proposed point \t  Current eval. \t Best eval.\n",
            "init   \t [-3.85537566 11.69878188]. \t  -8.299317850233932 \t -5.211335324193094\n",
            "init   \t [ 1.57613847 10.85197767]. \t  -59.50408380701259 \t -5.211335324193094\n",
            "init   \t [9.66984268 8.07743806]. \t  -29.714921414987273 \t -5.211335324193094\n",
            "init   \t [2.51680695 1.080767  ]. \t  -5.211335324193094 \t -5.211335324193094\n",
            "init   \t [-0.9734153   7.49823751]. \t  -15.431057204948033 \t -5.211335324193094\n",
            "1      \t [-4.97859679  1.38393519]. \t  -260.3293952774437 \t -5.211335324193094\n",
            "2      \t [ 7.42679792 14.12713902]. \t  -178.37635728719692 \t -5.211335324193094\n",
            "3      \t [8.08940775 0.35854539]. \t  -9.249625108410735 \t -5.211335324193094\n",
            "4      \t [-3.39684884  5.54228873]. \t  -54.79871094423047 \t -5.211335324193094\n",
            "5      \t [4.4720934  5.93920773]. \t  -27.723638017330405 \t -5.211335324193094\n",
            "6      \t [-0.88698611 15.        ]. \t  -72.11656179914581 \t -5.211335324193094\n",
            "7      \t [10.          3.80989492]. \t  \u001b[92m-2.5942901078331397\u001b[0m \t -2.5942901078331397\n",
            "8      \t [0.56401225 3.91273659]. \t  -19.62954357650336 \t -2.5942901078331397\n",
            "9      \t [5.8427834  9.85142979]. \t  -95.08034205535142 \t -2.5942901078331397\n",
            "10     \t [-0.73680654  0.        ]. \t  -69.56959547081203 \t -2.5942901078331397\n",
            "11     \t [ 3.21159363 15.        ]. \t  -163.72316823916321 \t -2.5942901078331397\n",
            "12     \t [-5. 15.]. \t  -17.508299515778166 \t -2.5942901078331397\n",
            "13     \t [5.51304516 2.41535773]. \t  -18.488324532897025 \t -2.5942901078331397\n",
            "14     \t [-5.          8.85119243]. \t  -82.21544409578101 \t -2.5942901078331397\n",
            "15     \t [10.         11.37771394]. \t  -72.07970110629344 \t -2.5942901078331397\n",
            "16     \t [2.0221157  7.84910624]. \t  -26.416109422855953 \t -2.5942901078331397\n",
            "17     \t [7.80174784 5.07707835]. \t  -23.684306707705428 \t -2.5942901078331397\n",
            "18     \t [10.          1.87958712]. \t  -3.20509965348809 \t -2.5942901078331397\n",
            "19     \t [-1.66560362 10.49621718]. \t  -11.301998812143513 \t -2.5942901078331397\n",
            "20     \t [4.60676525 0.        ]. \t  -10.974916586246778 \t -2.5942901078331397\n"
          ]
        }
      ]
    },
    {
      "cell_type": "code",
      "metadata": {
        "colab": {
          "base_uri": "https://localhost:8080/"
        },
        "id": "4unvifF-GCXp",
        "outputId": "6e279cae-a6db-418c-ed79-32aad44b0fa6"
      },
      "source": [
        "### ESTIMATED GP EI GRADIENTS\n",
        "\n",
        "np.random.seed(run_num_8)\n",
        "surrogate_approx_8 = GaussianProcess(cov_func, optimize=opt)\n",
        "\n",
        "approx_8 = GPGO_multi(surrogate_approx_8, Acquisition_new(util_grad_approx), objfunc, param)\n",
        "approx_8.run(init_evals=n_init, max_iter=iters)\n"
      ],
      "execution_count": null,
      "outputs": [
        {
          "output_type": "stream",
          "name": "stdout",
          "text": [
            "Evaluation \t Proposed point \t  Current eval. \t Best eval.\n",
            "init   \t [ 8.10144104 14.52810994]. \t  -175.17297136347514 \t -15.416245468470875\n",
            "init   \t [8.0379181  7.96283537]. \t  -49.32173799887473 \t -15.416245468470875\n",
            "init   \t [-1.50907508  0.17098206]. \t  -83.26753461673219 \t -15.416245468470875\n",
            "init   \t [1.45703227 6.0352704 ]. \t  -15.416245468470875 \t -15.416245468470875\n",
            "init   \t [2.84012007 7.17587694]. \t  -22.49093277852639 \t -15.416245468470875\n",
            "1      \t [9.77124156 0.43098073]. \t  \u001b[92m-6.499298445992174\u001b[0m \t -6.499298445992174\n",
            "2      \t [-4.87537438 11.82874897]. \t  -36.57081146531108 \t -6.499298445992174\n",
            "3      \t [-5.          6.18626546]. \t  -133.74783473476617 \t -6.499298445992174\n",
            "4      \t [ 2.00490905 12.66503403]. \t  -93.13466791376042 \t -6.499298445992174\n",
            "5      \t [4.49710607 1.43886209]. \t  -7.949028807737028 \t -6.499298445992174\n",
            "6      \t [-1.26517273  9.27145837]. \t  -13.993955682370324 \t -6.499298445992174\n",
            "7      \t [-1.94955274 15.        ]. \t  -35.676380167837124 \t -6.499298445992174\n",
            "8      \t [10.          4.17864478]. \t  \u001b[92m-3.3253833511255646\u001b[0m \t -3.3253833511255646\n",
            "9      \t [6.3116386  4.35983873]. \t  -30.21818883554431 \t -3.3253833511255646\n",
            "10     \t [-5.          1.94151748]. \t  -245.15946674831835 \t -3.3253833511255646\n",
            "11     \t [ 5.62210029 10.93339946]. \t  -113.57970242741673 \t -3.3253833511255646\n",
            "12     \t [-1.30016533  4.20477707]. \t  -29.236914320664393 \t -3.3253833511255646\n",
            "13     \t [1.73961562 2.44297051]. \t  -9.777395453266605 \t -3.3253833511255646\n",
            "14     \t [10.         11.01239798]. \t  -66.09429174324563 \t -3.3253833511255646\n",
            "15     \t [6.96783477 0.        ]. \t  -18.83613392078943 \t -3.3253833511255646\n",
            "16     \t [-5. 15.]. \t  -17.508299515778166 \t -3.3253833511255646\n",
            "17     \t [ 4.45120176 15.        ]. \t  -190.4393172774525 \t -3.3253833511255646\n",
            "18     \t [2.24291241 0.        ]. \t  -13.508799072317071 \t -3.3253833511255646\n",
            "19     \t [-1.53429817 11.94317231]. \t  -20.572158887580024 \t -3.3253833511255646\n",
            "20     \t [1.38886281 9.45403225]. \t  -41.06265712216991 \t -3.3253833511255646\n"
          ]
        }
      ]
    },
    {
      "cell_type": "code",
      "metadata": {
        "colab": {
          "base_uri": "https://localhost:8080/"
        },
        "id": "85OIXcg7GCaJ",
        "outputId": "e8a6edfb-853a-41db-e905-02268576ae66"
      },
      "source": [
        "### ESTIMATED GP EI GRADIENTS\n",
        "\n",
        "np.random.seed(run_num_9)\n",
        "surrogate_approx_9 = GaussianProcess(cov_func, optimize=opt)\n",
        "\n",
        "approx_9 = GPGO_multi(surrogate_approx_9, Acquisition_new(util_grad_approx), objfunc, param)\n",
        "approx_9.run(init_evals=n_init, max_iter=iters)\n"
      ],
      "execution_count": null,
      "outputs": [
        {
          "output_type": "stream",
          "name": "stdout",
          "text": [
            "Evaluation \t Proposed point \t  Current eval. \t Best eval.\n",
            "init   \t [-4.84438769  7.52811888]. \t  -96.15564306553264 \t -3.4640248583909496\n",
            "init   \t [2.4365994  2.00744293]. \t  -3.4640248583909496 \t -3.4640248583909496\n",
            "init   \t [-2.86833372  3.27838013]. \t  -70.46930174488207 \t -3.4640248583909496\n",
            "init   \t [1.27762271 3.72151753]. \t  -12.982825924833865 \t -3.4640248583909496\n",
            "init   \t [-3.73910523  5.1824796 ]. \t  -75.58547400560856 \t -3.4640248583909496\n",
            "1      \t [ 7.05609655 14.75038872]. \t  -200.4388688685465 \t -3.4640248583909496\n",
            "2      \t [-0.46054038 14.56197292]. \t  -79.4666617606301 \t -3.4640248583909496\n",
            "3      \t [8.28747407 1.2035024 ]. \t  -6.196385269800155 \t -3.4640248583909496\n",
            "4      \t [5.09988923 9.09295299]. \t  -75.24675017972764 \t -3.4640248583909496\n",
            "5      \t [10.          6.16249821]. \t  -11.925843837802418 \t -3.4640248583909496\n",
            "6      \t [4.22157467e-05 9.30120175e+00]. \t  -30.50048925898127 \t -3.4640248583909496\n",
            "7      \t [-5.         12.67802287]. \t  -33.0578765236372 \t -3.4640248583909496\n",
            "8      \t [10.         10.65342543]. \t  -60.472813879659356 \t -3.4640248583909496\n",
            "9      \t [5.7490845  4.43494484]. \t  -29.254644247798986 \t -3.4640248583909496\n",
            "10     \t [-0.2986073  0.       ]. \t  -61.25534008678423 \t -3.4640248583909496\n",
            "11     \t [4.94230298 0.        ]. \t  -13.851298180924825 \t -3.4640248583909496\n",
            "12     \t [-5.  0.]. \t  -308.12909601160663 \t -3.4640248583909496\n",
            "13     \t [ 3.14371993 12.69625885]. \t  -109.03511293319843 \t -3.4640248583909496\n",
            "14     \t [2.3407674  6.61679495]. \t  -16.52480460168311 \t -3.4640248583909496\n",
            "15     \t [10.          3.16975148]. \t  \u001b[92m-1.9709611934160218\u001b[0m \t -1.9709611934160218\n",
            "16     \t [-2.30997135 11.23752807]. \t  -4.2912466679075525 \t -1.9709611934160218\n",
            "17     \t [-0.54425268  6.18240776]. \t  -18.736121553718775 \t -1.9709611934160218\n",
            "18     \t [7.73175919 7.20897944]. \t  -44.715545636108565 \t -1.9709611934160218\n",
            "19     \t [10.  0.]. \t  -10.960889035651505 \t -1.9709611934160218\n",
            "20     \t [8.59366408 3.68511787]. \t  -6.84715013911709 \t -1.9709611934160218\n"
          ]
        }
      ]
    },
    {
      "cell_type": "code",
      "metadata": {
        "colab": {
          "base_uri": "https://localhost:8080/"
        },
        "id": "QQBR-qJPGCcp",
        "outputId": "a2a2d824-e030-44ed-deb7-3f0d7c780d14"
      },
      "source": [
        "### ESTIMATED GP EI GRADIENTS\n",
        "\n",
        "np.random.seed(run_num_10)\n",
        "surrogate_approx_10 = GaussianProcess(cov_func, optimize=opt)\n",
        "\n",
        "approx_10 = GPGO_multi(surrogate_approx_10, Acquisition_new(util_grad_approx), objfunc, param)\n",
        "approx_10.run(init_evals=n_init, max_iter=iters)\n"
      ],
      "execution_count": null,
      "outputs": [
        {
          "output_type": "stream",
          "name": "stdout",
          "text": [
            "Evaluation \t Proposed point \t  Current eval. \t Best eval.\n",
            "init   \t [6.56980965 0.31127924]. \t  -19.863985024602144 \t -2.710610964564512\n",
            "init   \t [ 4.50472352 11.23205824]. \t  -103.66999147252169 \t -2.710610964564512\n",
            "init   \t [2.47760518 3.37194968]. \t  -2.710610964564512 \t -2.710610964564512\n",
            "init   \t [-2.02905703 11.40796068]. \t  -8.463930835255017 \t -2.710610964564512\n",
            "init   \t [-2.46333745  1.32509721]. \t  -90.49481266026973 \t -2.710610964564512\n",
            "1      \t [ 9.16391068 14.81438212]. \t  -158.2412724465548 \t -2.710610964564512\n",
            "2      \t [9.65621089 6.61160737]. \t  -16.1339423373336 \t -2.710610964564512\n",
            "3      \t [-3.43070383  6.59407857]. \t  -41.58407101130534 \t -2.710610964564512\n",
            "4      \t [-5.         14.87293215]. \t  -18.080332001739464 \t -2.710610964564512\n",
            "5      \t [ 0.92449322 15.        ]. \t  -123.13234915138221 \t -2.710610964564512\n",
            "6      \t [1.30728865 7.43276202]. \t  -23.342263281989574 \t -2.710610964564512\n",
            "7      \t [5.49073155 5.83993012]. \t  -38.681772916454804 \t -2.710610964564512\n",
            "8      \t [10.          2.46599948]. \t  \u001b[92m-2.231463613688609\u001b[0m \t -2.231463613688609\n",
            "9      \t [2.04115262 0.        ]. \t  -16.469928477470493 \t -2.231463613688609\n",
            "10     \t [10.         10.45460155]. \t  -57.47015308878887 \t -2.231463613688609\n",
            "11     \t [-5.          9.84163536]. \t  -66.6834249830624 \t -2.231463613688609\n",
            "12     \t [ 5.0584624 15.       ]. \t  -202.1880173491354 \t -2.231463613688609\n",
            "13     \t [10.  0.]. \t  -10.960889035651505 \t -2.231463613688609\n",
            "14     \t [7.92585989 3.43696862]. \t  -13.058862427388412 \t -2.231463613688609\n",
            "15     \t [ 0.78249033 10.84709388]. \t  -52.97002093687147 \t -2.231463613688609\n",
            "16     \t [-0.21682018  4.37688372]. \t  -23.27503272154084 \t -2.231463613688609\n",
            "17     \t [-5.          3.69168525]. \t  -194.85699002709484 \t -2.231463613688609\n",
            "18     \t [7.0840296  8.68873331]. \t  -72.6402572645568 \t -2.231463613688609\n",
            "19     \t [4.46773888 2.50620045]. \t  -8.752098288376835 \t -2.231463613688609\n",
            "20     \t [-2.39878657 14.00865238]. \t  -14.812693733073168 \t -2.231463613688609\n"
          ]
        }
      ]
    },
    {
      "cell_type": "code",
      "metadata": {
        "colab": {
          "base_uri": "https://localhost:8080/"
        },
        "id": "JS8ejeQ2GCfi",
        "outputId": "74c02596-4325-49da-e870-d6c8ccec4f2c"
      },
      "source": [
        "### ESTIMATED GP EI GRADIENTS\n",
        "\n",
        "np.random.seed(run_num_11)\n",
        "surrogate_approx_11 = GaussianProcess(cov_func, optimize=opt)\n",
        "\n",
        "approx_11 = GPGO_multi(surrogate_approx_11, Acquisition_new(util_grad_approx), objfunc, param)\n",
        "approx_11.run(init_evals=n_init, max_iter=iters)\n"
      ],
      "execution_count": null,
      "outputs": [
        {
          "output_type": "stream",
          "name": "stdout",
          "text": [
            "Evaluation \t Proposed point \t  Current eval. \t Best eval.\n",
            "init   \t [-2.29595467  0.29212862]. \t  -104.49282729548965 \t -22.37435843952312\n",
            "init   \t [ 1.9482779  10.87400894]. \t  -62.47758067812407 \t -22.37435843952312\n",
            "init   \t [1.30305407 7.28140647]. \t  -22.37435843952312 \t -22.37435843952312\n",
            "init   \t [-4.80828778  7.31057411]. \t  -97.94503054415523 \t -22.37435843952312\n",
            "init   \t [ 9.12709979 12.76192634]. \t  -111.62900800771942 \t -22.37435843952312\n",
            "1      \t [6.94653631 0.95529646]. \t  \u001b[92m-17.615403152614682\u001b[0m \t -17.615403152614682\n",
            "2      \t [9.95799301 6.93425723]. \t  \u001b[92m-17.51361722617643\u001b[0m \t -17.51361722617643\n",
            "3      \t [-2.04991594 15.        ]. \t  -32.5573558333363 \t -17.51361722617643\n",
            "4      \t [2.40807729 2.49081214]. \t  \u001b[92m-3.048554877803756\u001b[0m \t -3.048554877803756\n",
            "5      \t [ 4.54021213 15.        ]. \t  -192.31050872160282 \t -3.048554877803756\n",
            "6      \t [5.61068086 5.52610486]. \t  -36.77546338781394 \t -3.048554877803756\n",
            "7      \t [-5.         11.91405806]. \t  -40.5314683386421 \t -3.048554877803756\n",
            "8      \t [6.09623145 9.61620517]. \t  -91.98500162343561 \t -3.048554877803756\n",
            "9      \t [-1.43282079  4.48386943]. \t  -27.818456315607232 \t -3.048554877803756\n",
            "10     \t [10.          3.06328878]. \t  \u001b[92m-1.946780634007908\u001b[0m \t -1.946780634007908\n",
            "11     \t [-1.74219436  9.91262506]. \t  -8.921363890942736 \t -1.946780634007908\n",
            "12     \t [-5.          3.20437144]. \t  -208.2477219550214 \t -1.946780634007908\n",
            "13     \t [10.  0.]. \t  -10.960889035651505 \t -1.946780634007908\n",
            "14     \t [3.43996741 0.        ]. \t  -5.04028997721643 \t -1.946780634007908\n",
            "15     \t [ 0.92636827 14.29128378]. \t  -108.98323834650083 \t -1.946780634007908\n",
            "16     \t [1.1486788 0.       ]. \t  -32.7892716319421 \t -1.946780634007908\n",
            "17     \t [8.41200286 3.97901851]. \t  -9.869826336726579 \t -1.946780634007908\n",
            "18     \t [2.32356328 4.45606268]. \t  -5.557295405376951 \t -1.946780634007908\n",
            "19     \t [-5. 15.]. \t  -17.508299515778166 \t -1.946780634007908\n",
            "20     \t [4.47573422 2.4590865 ]. \t  -8.737973802933164 \t -1.946780634007908\n"
          ]
        }
      ]
    },
    {
      "cell_type": "code",
      "metadata": {
        "colab": {
          "base_uri": "https://localhost:8080/"
        },
        "id": "DXwjUVZ4GCii",
        "outputId": "d443175d-7d78-4e6a-f314-386f7d16100b"
      },
      "source": [
        "### ESTIMATED GP EI GRADIENTS\n",
        "\n",
        "np.random.seed(run_num_12)\n",
        "surrogate_approx_12 = GaussianProcess(cov_func, optimize=opt)\n",
        "\n",
        "approx_12 = GPGO_multi(surrogate_approx_12, Acquisition_new(util_grad_approx), objfunc, param)\n",
        "approx_12.run(init_evals=n_init, max_iter=iters)\n"
      ],
      "execution_count": null,
      "outputs": [
        {
          "output_type": "stream",
          "name": "stdout",
          "text": [
            "Evaluation \t Proposed point \t  Current eval. \t Best eval.\n",
            "init   \t [-2.68755736 11.10074545]. \t  -1.3827702760021356 \t -0.5499315281120278\n",
            "init   \t [-1.05027477  8.0060909 ]. \t  -14.81231853080056 \t -0.5499315281120278\n",
            "init   \t [-4.78137556 13.78120512]. \t  -18.401131000214548 \t -0.5499315281120278\n",
            "init   \t [8.51072281 0.50132141]. \t  -5.855172364344769 \t -0.5499315281120278\n",
            "init   \t [9.35424004 2.05813982]. \t  -0.5499315281120278 \t -0.5499315281120278\n",
            "1      \t [10.          4.44128644]. \t  -4.011933380719501 \t -0.5499315281120278\n",
            "2      \t [ 8.50155249 13.79797306]. \t  -148.00655208378976 \t -0.5499315281120278\n",
            "3      \t [-4.8799499   0.15657603]. \t  -290.0404981832191 \t -0.5499315281120278\n",
            "4      \t [4.4336702  8.80667229]. \t  -60.99395871160691 \t -0.5499315281120278\n",
            "5      \t [3.16173281 0.58781787]. \t  -3.1938407385388565 \t -0.5499315281120278\n",
            "6      \t [ 1.68953656 13.94416005]. \t  -114.2200057097559 \t -0.5499315281120278\n",
            "7      \t [-0.39788844  3.26316746]. \t  -30.347792772205334 \t -0.5499315281120278\n",
            "8      \t [10.          8.84134351]. \t  -36.029902349160615 \t -0.5499315281120278\n",
            "9      \t [-5.          5.57450726]. \t  -147.58210230612235 \t -0.5499315281120278\n",
            "10     \t [5.60386021 4.0530326 ]. \t  -25.967870966767656 \t -0.5499315281120278\n",
            "11     \t [-5.         9.8149548]. \t  -67.076112981441 \t -0.5499315281120278\n",
            "12     \t [2.1410047  5.77949623]. \t  -11.549913042603599 \t -0.5499315281120278\n",
            "13     \t [0.06108626 0.        ]. \t  -54.43268449916202 \t -0.5499315281120278\n",
            "14     \t [-1.88969558 15.        ]. \t  -37.583093247065825 \t -0.5499315281120278\n",
            "15     \t [5.68227984 0.        ]. \t  -19.191353260509416 \t -0.5499315281120278\n",
            "16     \t [-0.91925464 11.19771764]. \t  -28.967195937661856 \t -0.5499315281120278\n",
            "17     \t [ 5.04276733 12.32454881]. \t  -135.555012914158 \t -0.5499315281120278\n",
            "18     \t [2.77691937 2.74527182]. \t  -1.0577781782468065 \t -0.5499315281120278\n",
            "19     \t [7.56718974 6.59560386]. \t  -40.19216072689032 \t -0.5499315281120278\n",
            "20     \t [8.45510716 2.88076344]. \t  -5.784243051094533 \t -0.5499315281120278\n"
          ]
        }
      ]
    },
    {
      "cell_type": "code",
      "metadata": {
        "colab": {
          "base_uri": "https://localhost:8080/"
        },
        "id": "CphOPndPGClX",
        "outputId": "7c41d389-73a2-4fac-c03a-a7dcb2b808e9"
      },
      "source": [
        "### ESTIMATED GP EI GRADIENTS\n",
        "\n",
        "np.random.seed(run_num_13)\n",
        "surrogate_approx_13 = GaussianProcess(cov_func, optimize=opt)\n",
        "\n",
        "approx_13 = GPGO_multi(surrogate_approx_13, Acquisition_new(util_grad_approx), objfunc, param)\n",
        "approx_13.run(init_evals=n_init, max_iter=iters)\n"
      ],
      "execution_count": null,
      "outputs": [
        {
          "output_type": "stream",
          "name": "stdout",
          "text": [
            "Evaluation \t Proposed point \t  Current eval. \t Best eval.\n",
            "init   \t [6.66553616 3.5631183 ]. \t  -24.823670200298267 \t -18.038943061558626\n",
            "init   \t [ 7.36417799 14.48623797]. \t  -188.7803334745195 \t -18.038943061558626\n",
            "init   \t [9.58901671 6.80173871]. \t  -18.038943061558626 \t -18.038943061558626\n",
            "init   \t [ 4.13563694 11.63289772]. \t  -104.87319703906111 \t -18.038943061558626\n",
            "init   \t [ 4.62420017 10.83027344]. \t  -98.03271225790056 \t -18.038943061558626\n",
            "1      \t [-3.51870171  3.68338658]. \t  -91.63196166423945 \t -18.038943061558626\n",
            "2      \t [-3.06562888 11.40851515]. \t  \u001b[92m-0.8943531028899869\u001b[0m \t -0.8943531028899869\n",
            "3      \t [2.3685613 0.       ]. \t  -11.859175693404021 \t -0.8943531028899869\n",
            "4      \t [1.73680198 5.92713917]. \t  -13.710957542040685 \t -0.8943531028899869\n",
            "5      \t [-0.26301224 15.        ]. \t  -92.75909151223124 \t -0.8943531028899869\n",
            "6      \t [10.  0.]. \t  -10.960889035651505 \t -0.8943531028899869\n",
            "7      \t [-5. 15.]. \t  -17.508299515778166 \t -0.8943531028899869\n",
            "8      \t [-0.22304301  9.62592143]. \t  -30.021287788448696 \t -0.8943531028899869\n",
            "9      \t [-5.          8.29779684]. \t  -91.748087292661 \t -0.8943531028899869\n",
            "10     \t [10.         10.78928678]. \t  -62.570078267496235 \t -0.8943531028899869\n",
            "11     \t [-1.48911985  0.        ]. \t  -85.71789639678529 \t -0.8943531028899869\n",
            "12     \t [5.4636203  6.99033882]. \t  -50.53869390526182 \t -0.8943531028899869\n",
            "13     \t [10.          3.30740433]. \t  -2.0358290809065807 \t -0.8943531028899869\n",
            "14     \t [6.09813129 0.        ]. \t  -20.644944965212034 \t -0.8943531028899869\n",
            "15     \t [3.1663196  3.05176867]. \t  -1.0343960397377199 \t -0.8943531028899869\n",
            "16     \t [0.57380612 3.07030836]. \t  -22.30366806284289 \t -0.8943531028899869\n",
            "17     \t [-5.         11.94217972]. \t  -40.23567119249759 \t -0.8943531028899869\n",
            "18     \t [-5.  0.]. \t  -308.12909601160663 \t -0.8943531028899869\n",
            "19     \t [-2.10763693 11.90078067]. \t  -8.980078417525508 \t -0.8943531028899869\n",
            "20     \t [-1.40881993  6.58484295]. \t  -15.211022370970216 \t -0.8943531028899869\n"
          ]
        }
      ]
    },
    {
      "cell_type": "code",
      "metadata": {
        "colab": {
          "base_uri": "https://localhost:8080/"
        },
        "id": "ojHTeARNGCoi",
        "outputId": "188f0ee9-c4e2-487a-cbbf-6c4a9204fa79"
      },
      "source": [
        "### ESTIMATED GP EI GRADIENTS\n",
        "\n",
        "np.random.seed(run_num_14)\n",
        "surrogate_approx_14 = GaussianProcess(cov_func, optimize=opt)\n",
        "\n",
        "approx_14 = GPGO_multi(surrogate_approx_14, Acquisition_new(util_grad_approx), objfunc, param)\n",
        "approx_14.run(init_evals=n_init, max_iter=iters)\n"
      ],
      "execution_count": null,
      "outputs": [
        {
          "output_type": "stream",
          "name": "stdout",
          "text": [
            "Evaluation \t Proposed point \t  Current eval. \t Best eval.\n",
            "init   \t [ 2.70915016 11.59747578]. \t  -81.58264375064097 \t -1.4149920024014744\n",
            "init   \t [8.05641529 0.12070423]. \t  -10.148649076616518 \t -1.4149920024014744\n",
            "init   \t [-0.35396112 14.36405609]. \t  -79.6056658956529 \t -1.4149920024014744\n",
            "init   \t [2.69675068 4.77426637]. \t  -5.855607664288365 \t -1.4149920024014744\n",
            "init   \t [3.08799906 3.31882414]. \t  -1.4149920024014744 \t -1.4149920024014744\n",
            "1      \t [-5.  0.]. \t  -308.1290960116068 \t -1.4149920024014744\n",
            "2      \t [-3.61083748  7.85924032]. \t  -32.481990179851884 \t -1.4149920024014744\n",
            "3      \t [8.4415984  6.61360555]. \t  -28.132050221972662 \t -1.4149920024014744\n",
            "4      \t [0.61707243 0.        ]. \t  -43.506647353554065 \t -1.4149920024014744\n",
            "5      \t [ 9.81482319 14.16972583]. \t  -129.85218172547337 \t -1.4149920024014744\n",
            "6      \t [-5. 15.]. \t  -17.508299515778166 \t -1.4149920024014744\n",
            "7      \t [ 5.3572922 15.       ]. \t  -206.7291945187916 \t -1.4149920024014744\n",
            "8      \t [-1.6001112   3.93523419]. \t  -34.143700674352274 \t -1.4149920024014744\n",
            "9      \t [ 7.06439517 10.48100107]. \t  -102.8862904189859 \t -1.4149920024014744\n",
            "10     \t [0.56303957 7.81656861]. \t  -25.257989486570953 \t -1.4149920024014744\n",
            "11     \t [6.09472826 3.27880265]. \t  -24.185432132423898 \t -1.4149920024014744\n",
            "12     \t [10.          3.07164872]. \t  -1.9478592697621373 \t -1.4149920024014744\n",
            "13     \t [-3.60041849 11.62645115]. \t  -4.553757720417551 \t -1.4149920024014744\n",
            "14     \t [4.46052367 0.        ]. \t  -9.771320333173707 \t -1.4149920024014744\n",
            "15     \t [4.4772795  7.39769893]. \t  -42.974051475605535 \t -1.4149920024014744\n",
            "16     \t [-1.09380001 10.66298011]. \t  -22.067992035075836 \t -1.4149920024014744\n",
            "17     \t [-5.          4.43383567]. \t  -175.37613605789585 \t -1.4149920024014744\n",
            "18     \t [2.84410032 2.24366515]. \t  \u001b[92m-0.8951630400207762\u001b[0m \t -0.8951630400207762\n",
            "19     \t [10.          9.18984358]. \t  -40.22071113063707 \t -0.8951630400207762\n",
            "20     \t [10.          1.38818028]. \t  -4.550643235129128 \t -0.8951630400207762\n"
          ]
        }
      ]
    },
    {
      "cell_type": "code",
      "metadata": {
        "colab": {
          "base_uri": "https://localhost:8080/"
        },
        "id": "vCJzn4vWGCs3",
        "outputId": "10a0e2ab-dff5-405e-9fd7-30d2c3ee6ed9"
      },
      "source": [
        "### ESTIMATED GP EI GRADIENTS\n",
        "\n",
        "np.random.seed(run_num_15)\n",
        "surrogate_approx_15 = GaussianProcess(cov_func, optimize=opt)\n",
        "\n",
        "approx_15 = GPGO_multi(surrogate_approx_15, Acquisition_new(util_grad_approx), objfunc, param)\n",
        "approx_15.run(init_evals=n_init, max_iter=iters)\n"
      ],
      "execution_count": null,
      "outputs": [
        {
          "output_type": "stream",
          "name": "stdout",
          "text": [
            "Evaluation \t Proposed point \t  Current eval. \t Best eval.\n",
            "init   \t [7.73226546 2.68343887]. \t  -12.768724532005583 \t -12.768724532005583\n",
            "init   \t [-4.18455179  5.42307669]. \t  -95.39334176626551 \t -12.768724532005583\n",
            "init   \t [-0.86898607  7.95000337]. \t  -16.419487782111716 \t -12.768724532005583\n",
            "init   \t [-0.41121626  4.56711539]. \t  -23.250362743740954 \t -12.768724532005583\n",
            "init   \t [-3.32388086  3.74848521]. \t  -80.99796277938532 \t -12.768724532005583\n",
            "1      \t [ 6.5655417  11.87699252]. \t  -134.95011349993544 \t -12.768724532005583\n",
            "2      \t [-4.77493765 13.49591113]. \t  -19.896906503438096 \t -12.768724532005583\n",
            "3      \t [ 0.49807252 15.        ]. \t  -113.70597669512716 \t -12.768724532005583\n",
            "4      \t [2.5472886 0.       ]. \t  \u001b[92m-9.795500118061007\u001b[0m \t -9.795500118061007\n",
            "5      \t [10.          7.39573963]. \t  -21.239683331520574 \t -9.795500118061007\n",
            "6      \t [4.44361813 6.68446945]. \t  -34.551204730283004 \t -9.795500118061007\n",
            "7      \t [ 2.13180408 10.67402786]. \t  -60.838836699892866 \t -9.795500118061007\n",
            "8      \t [-5.  0.]. \t  -308.12909601160663 \t -9.795500118061007\n",
            "9      \t [10. 15.]. \t  -145.87219087939556 \t -9.795500118061007\n",
            "10     \t [10.  0.]. \t  -10.960889035651505 \t -9.795500118061007\n",
            "11     \t [-5.          9.62124415]. \t  -69.96986350377678 \t -9.795500118061007\n",
            "12     \t [4.01870934 2.97619348]. \t  \u001b[92m-5.514061521343878\u001b[0m \t -5.514061521343878\n",
            "13     \t [-0.72913137  0.        ]. \t  -69.42108955989443 \t -5.514061521343878\n",
            "14     \t [-1.65286883 11.58742578]. \t  -15.992977166406162 \t -5.514061521343878\n",
            "15     \t [ 4.40559526 15.        ]. \t  -189.46747903141255 \t -5.514061521343878\n",
            "16     \t [10.         10.71683956]. \t  -61.44713090245589 \t -5.514061521343878\n",
            "17     \t [7.52122691 5.59209746]. \t  -31.238830454825695 \t -5.514061521343878\n",
            "18     \t [5.9188642 0.       ]. \t  -20.194127063111914 \t -5.514061521343878\n",
            "19     \t [10.          3.77530028]. \t  \u001b[92m-2.539655411805625\u001b[0m \t -2.539655411805625\n",
            "20     \t [7.03004665 8.52907975]. \t  -70.82277970530538 \t -2.539655411805625\n"
          ]
        }
      ]
    },
    {
      "cell_type": "code",
      "metadata": {
        "colab": {
          "base_uri": "https://localhost:8080/"
        },
        "id": "bGGkhp-kGCw6",
        "outputId": "fbffb42a-e400-4eaa-a0ce-4e1ab0bf1adf"
      },
      "source": [
        "### ESTIMATED GP EI GRADIENTS\n",
        "\n",
        "np.random.seed(run_num_16)\n",
        "surrogate_approx_16 = GaussianProcess(cov_func, optimize=opt)\n",
        "\n",
        "approx_16 = GPGO_multi(surrogate_approx_16, Acquisition_new(util_grad_approx), objfunc, param)\n",
        "approx_16.run(init_evals=n_init, max_iter=iters)\n"
      ],
      "execution_count": null,
      "outputs": [
        {
          "output_type": "stream",
          "name": "stdout",
          "text": [
            "Evaluation \t Proposed point \t  Current eval. \t Best eval.\n",
            "init   \t [-1.65063381  7.84745012]. \t  -10.514702126319445 \t -2.715864006988424\n",
            "init   \t [3.26052185 0.68402925]. \t  -2.715864006988424 \t -2.715864006988424\n",
            "init   \t [0.41093253 3.34621413]. \t  -22.889515127492515 \t -2.715864006988424\n",
            "init   \t [5.33089243 2.45597138]. \t  -17.178157611778595 \t -2.715864006988424\n",
            "init   \t [-3.945127  14.1151629]. \t  -3.3649224341694195 \t -2.715864006988424\n",
            "1      \t [ 5.63879248 14.58068289]. \t  -198.51319639462758 \t -2.715864006988424\n",
            "2      \t [10.          9.72351059]. \t  -47.108986579541174 \t -2.715864006988424\n",
            "3      \t [4.24604327 7.89508499]. \t  -45.673350938361665 \t -2.715864006988424\n",
            "4      \t [-5.          2.46874265]. \t  -229.36144957428314 \t -2.715864006988424\n",
            "5      \t [10.  0.]. \t  -10.960889035651505 \t -2.715864006988424\n",
            "6      \t [ 0.5294212 12.4046176]. \t  -70.28622813394162 \t -2.715864006988424\n",
            "7      \t [10.          4.71265256]. \t  -4.866200912762386 \t -2.715864006988424\n",
            "8      \t [10. 15.]. \t  -145.87219087939556 \t -2.715864006988424\n",
            "9      \t [-5.         10.28558751]. \t  -60.35821819884923 \t -2.715864006988424\n",
            "10     \t [-1.24808754  0.        ]. \t  -80.0824120267238 \t -2.715864006988424\n",
            "11     \t [7.22158502 5.70501173]. \t  -35.5795460175879 \t -2.715864006988424\n",
            "12     \t [-5.          6.54644504]. \t  -125.95282486286656 \t -2.715864006988424\n",
            "13     \t [ 6.49803493 10.68336335]. \t  -110.97698841317428 \t -2.715864006988424\n",
            "14     \t [1.05986029 6.59217078]. \t  -19.24880763008518 \t -2.715864006988424\n",
            "15     \t [ 6.99222906e+00 -1.11022302e-16]. \t  -18.698052614987766 \t -2.715864006988424\n",
            "16     \t [3.41925236 4.57568664]. \t  -7.052018490747977 \t -2.715864006988424\n",
            "17     \t [-1.72282258 15.        ]. \t  -43.056861057231835 \t -2.715864006988424\n",
            "18     \t [8.78387726 2.60812149]. \t  \u001b[92m-2.688587717058474\u001b[0m \t -2.688587717058474\n",
            "19     \t [-1.92988056  4.89977447]. \t  -28.274812994357454 \t -2.688587717058474\n",
            "20     \t [ 2.0980986 15.       ]. \t  -143.714147777092 \t -2.688587717058474\n"
          ]
        }
      ]
    },
    {
      "cell_type": "code",
      "metadata": {
        "id": "Yrs2mp7hGC1Z",
        "colab": {
          "base_uri": "https://localhost:8080/"
        },
        "outputId": "bbf96727-7fe7-4871-b7ce-e75692c81f05"
      },
      "source": [
        "### ESTIMATED GP EI GRADIENTS\n",
        "\n",
        "np.random.seed(run_num_17)\n",
        "surrogate_approx_17 = GaussianProcess(cov_func, optimize=opt)\n",
        "\n",
        "approx_17 = GPGO_multi(surrogate_approx_17, Acquisition_new(util_grad_approx), objfunc, param)\n",
        "approx_17.run(init_evals=n_init, max_iter=iters)\n"
      ],
      "execution_count": null,
      "outputs": [
        {
          "output_type": "stream",
          "name": "stdout",
          "text": [
            "Evaluation \t Proposed point \t  Current eval. \t Best eval.\n",
            "init   \t [-0.58002496  7.95880133]. \t  -19.016141117164256 \t -19.016141117164256\n",
            "init   \t [-2.1271882   1.01850537]. \t  -85.05949339404415 \t -19.016141117164256\n",
            "init   \t [6.8047819  9.84500283]. \t  -93.89792695202516 \t -19.016141117164256\n",
            "init   \t [4.56281344 8.63404341]. \t  -60.50217141122736 \t -19.016141117164256\n",
            "init   \t [-4.41405626  5.36720407]. \t  -110.70834086593878 \t -19.016141117164256\n",
            "1      \t [9.76575296 0.98553483]. \t  \u001b[92m-4.1623278326263815\u001b[0m \t -4.1623278326263815\n",
            "2      \t [-0.36591853 14.49945231]. \t  -81.3728947682288 \t -4.1623278326263815\n",
            "3      \t [3.74599703 2.35814314]. \t  \u001b[92m-2.3563457989420957\u001b[0m \t -2.3563457989420957\n",
            "4      \t [10.         14.64086749]. \t  -137.38411051487694 \t -2.3563457989420957\n",
            "5      \t [-5.         11.17262384]. \t  -48.90080592714383 \t -2.3563457989420957\n",
            "6      \t [10.          5.64908461]. \t  -8.945134101750817 \t -2.3563457989420957\n",
            "7      \t [6.38336468 4.48266709]. \t  -30.966082230959298 \t -2.3563457989420957\n",
            "8      \t [ 4.75286349 15.        ]. \t  -196.60666538638264 \t -2.3563457989420957\n",
            "9      \t [6.21395596 0.        ]. \t  -20.785628414040104 \t -2.3563457989420957\n",
            "10     \t [0.97396926 4.29283071]. \t  -15.474761651700288 \t -2.3563457989420957\n",
            "11     \t [-5. 15.]. \t  -17.508299515778166 \t -2.3563457989420957\n",
            "12     \t [1.9221481 0.       ]. \t  -18.378662419673923 \t -2.3563457989420957\n",
            "13     \t [ 1.56751395 11.08048882]. \t  -62.70783903551884 \t -2.3563457989420957\n",
            "14     \t [10.          8.61628614]. \t  -33.452609147370815 \t -2.3563457989420957\n",
            "15     \t [-1.80124511 10.97761435]. \t  -10.668609982710503 \t -2.3563457989420957\n",
            "16     \t [10.          3.11184521]. \t  \u001b[92m-1.9549973921293926\u001b[0m \t -1.9549973921293926\n",
            "17     \t [-5.  0.]. \t  -308.12909601160663 \t -1.9549973921293926\n",
            "18     \t [3.40861166 5.51711401]. \t  -12.579617437511216 \t -1.9549973921293926\n",
            "19     \t [-3.38797549  8.55002153]. \t  -19.392946591048247 \t -1.9549973921293926\n",
            "20     \t [10.         11.38737501]. \t  -72.24161271345434 \t -1.9549973921293926\n"
          ]
        }
      ]
    },
    {
      "cell_type": "code",
      "metadata": {
        "id": "f0HIEP3PIUEa",
        "colab": {
          "base_uri": "https://localhost:8080/"
        },
        "outputId": "c9783c24-52b5-48b1-c9e6-81096382df81"
      },
      "source": [
        "### ESTIMATED GP EI GRADIENTS\n",
        "\n",
        "np.random.seed(run_num_18)\n",
        "surrogate_approx_18 = GaussianProcess(cov_func, optimize=opt)\n",
        "\n",
        "approx_18 = GPGO_multi(surrogate_approx_18, Acquisition_new(util_grad_approx), objfunc, param)\n",
        "approx_18.run(init_evals=n_init, max_iter=iters)\n"
      ],
      "execution_count": null,
      "outputs": [
        {
          "output_type": "stream",
          "name": "stdout",
          "text": [
            "Evaluation \t Proposed point \t  Current eval. \t Best eval.\n",
            "init   \t [4.75561363 7.58180061]. \t  -49.215059064668324 \t -8.150075223157177\n",
            "init   \t [8.17902206 2.72760338]. \t  -8.150075223157177 \t -8.150075223157177\n",
            "init   \t [ 7.78349603 11.25204429]. \t  -106.98107856533271 \t -8.150075223157177\n",
            "init   \t [ 4.99152501 14.81843172]. \t  -196.08601750690153 \t -8.150075223157177\n",
            "init   \t [-1.14547366  0.42458888]. \t  -71.23649635555944 \t -8.150075223157177\n",
            "1      \t [-4.83474958 11.77354131]. \t  -35.58412906267954 \t -8.150075223157177\n",
            "2      \t [-1.52468598  7.08270423]. \t  -13.146058885158528 \t -8.150075223157177\n",
            "3      \t [ 0.43344746 11.75516361]. \t  -59.940118096716546 \t -8.150075223157177\n",
            "4      \t [4.16808622 0.        ]. \t  \u001b[92m-7.621849182200764\u001b[0m \t -7.621849182200764\n",
            "5      \t [3.25051177 4.09052476]. \t  \u001b[92m-4.0607372492488985\u001b[0m \t -4.0607372492488985\n",
            "6      \t [-5.          3.80328804]. \t  -191.85713523908967 \t -4.0607372492488985\n",
            "7      \t [10.          6.76719706]. \t  -16.112646836437207 \t -4.0607372492488985\n",
            "8      \t [10. 15.]. \t  -145.87219087939556 \t -4.0607372492488985\n",
            "9      \t [-2.303121 15.      ]. \t  -25.19533925061528 \t -4.0607372492488985\n",
            "10     \t [-5.          8.03838027]. \t  -96.4275841877422 \t -4.0607372492488985\n",
            "11     \t [10.  0.]. \t  -10.960889035651505 \t -4.0607372492488985\n",
            "12     \t [0.17412352 4.13030337]. \t  -22.00568813666045 \t -4.0607372492488985\n",
            "13     \t [1.33458884 8.14779926]. \t  -28.582957820727746 \t -4.0607372492488985\n",
            "14     \t [-5.  0.]. \t  -308.12909601160663 \t -4.0607372492488985\n",
            "15     \t [ 1.13537878 14.69891914]. \t  -120.95327425363145 \t -4.0607372492488985\n",
            "16     \t [6.95532402 0.        ]. \t  -18.905399671427062 \t -4.0607372492488985\n",
            "17     \t [ 3.92679437 11.00193015]. \t  -88.94968225556791 \t -4.0607372492488985\n",
            "18     \t [5.86818879 4.20450497]. \t  -28.368975039532398 \t -4.0607372492488985\n",
            "19     \t [-5. 15.]. \t  -17.508299515778166 \t -4.0607372492488985\n",
            "20     \t [2.21837  1.675328]. \t  -6.251723573929738 \t -4.0607372492488985\n"
          ]
        }
      ]
    },
    {
      "cell_type": "code",
      "metadata": {
        "id": "S3mxRQDLIUPC",
        "colab": {
          "base_uri": "https://localhost:8080/"
        },
        "outputId": "2fa9e2b1-8677-4956-8dc5-d095eaf29c0d"
      },
      "source": [
        "### ESTIMATED GP EI GRADIENTS\n",
        "\n",
        "np.random.seed(run_num_19)\n",
        "surrogate_approx_19 = GaussianProcess(cov_func, optimize=opt)\n",
        "\n",
        "approx_19 = GPGO_multi(surrogate_approx_19, Acquisition_new(util_grad_approx), objfunc, param)\n",
        "approx_19.run(init_evals=n_init, max_iter=iters)\n"
      ],
      "execution_count": null,
      "outputs": [
        {
          "output_type": "stream",
          "name": "stdout",
          "text": [
            "Evaluation \t Proposed point \t  Current eval. \t Best eval.\n",
            "init   \t [-3.53699597 11.41874575]. \t  -4.475608269502271 \t -4.475608269502271\n",
            "init   \t [-1.2959304   2.07197531]. \t  -51.13947793770689 \t -4.475608269502271\n",
            "init   \t [-0.02830155  1.24499348]. \t  -42.63973921760034 \t -4.475608269502271\n",
            "init   \t [ 5.07965622 12.09890697]. \t  -131.17235664506808 \t -4.475608269502271\n",
            "init   \t [9.74112872 9.53491102]. \t  -46.84458913925112 \t -4.475608269502271\n",
            "1      \t [9.57054653 2.03489665]. \t  \u001b[92m-0.8198597583535783\u001b[0m \t -0.8198597583535783\n",
            "2      \t [4.40529125 4.87644674]. \t  -18.52616991036314 \t -0.8198597583535783\n",
            "3      \t [-5.          6.34895594]. \t  -130.19475625502412 \t -0.8198597583535783\n",
            "4      \t [ 0.06514599 15.        ]. \t  -102.44880734859521 \t -0.8198597583535783\n",
            "5      \t [10. 15.]. \t  -145.87219087939556 \t -0.8198597583535783\n",
            "6      \t [0.56335389 8.5053089 ]. \t  -29.414039626479212 \t -0.8198597583535783\n",
            "7      \t [5.44748404 0.        ]. \t  -17.793743915872703 \t -0.8198597583535783\n",
            "8      \t [-5. 15.]. \t  -17.508299515778166 \t -0.8198597583535783\n",
            "9      \t [-5.  0.]. \t  -308.12909601160663 \t -0.8198597583535783\n",
            "10     \t [8.76775098 5.23171605]. \t  -12.993037429104914 \t -0.8198597583535783\n",
            "11     \t [6.02683154 8.05284522]. \t  -67.62579710672159 \t -0.8198597583535783\n",
            "12     \t [10.  0.]. \t  -10.960889035651505 \t -0.8198597583535783\n",
            "13     \t [0.92877427 5.01985374]. \t  -15.899364263919368 \t -0.8198597583535783\n",
            "14     \t [7.47623152 2.44566728]. \t  -14.80450976391589 \t -0.8198597583535783\n",
            "15     \t [-0.83674092 11.44380886]. \t  -32.60597215282455 \t -0.8198597583535783\n",
            "16     \t [3.15611147 2.0275171 ]. \t  \u001b[92m-0.45468391553970733\u001b[0m \t -0.45468391553970733\n",
            "17     \t [-2.69412461  8.91946703]. \t  -6.66101573873732 \t -0.45468391553970733\n",
            "18     \t [ 3.52109269 15.        ]. \t  -170.14222018771042 \t -0.45468391553970733\n",
            "19     \t [10.          2.81155651]. \t  -1.9797746601622066 \t -0.45468391553970733\n",
            "20     \t [2.68999656 0.        ]. \t  -8.401688998538113 \t -0.45468391553970733\n"
          ]
        }
      ]
    },
    {
      "cell_type": "code",
      "metadata": {
        "id": "Aawd59dRIUYn",
        "colab": {
          "base_uri": "https://localhost:8080/"
        },
        "outputId": "67c04756-c29b-4a82-afa6-f6614dd88c4e"
      },
      "source": [
        "### ESTIMATED GP EI GRADIENTS\n",
        "\n",
        "np.random.seed(run_num_20)\n",
        "surrogate_approx_20 = GaussianProcess(cov_func, optimize=opt)\n",
        "\n",
        "approx_20 = GPGO_multi(surrogate_approx_20, Acquisition_new(util_grad_approx), objfunc, param)\n",
        "approx_20.run(init_evals=n_init, max_iter=iters)\n"
      ],
      "execution_count": null,
      "outputs": [
        {
          "output_type": "stream",
          "name": "stdout",
          "text": [
            "Evaluation \t Proposed point \t  Current eval. \t Best eval.\n",
            "init   \t [ 3.82196202 13.46570592]. \t  -138.5264349938869 \t -14.042667401507376\n",
            "init   \t [ 8.37296094 12.23756216]. \t  -115.63178540512689 \t -14.042667401507376\n",
            "init   \t [-4.46165622 10.37636373]. \t  -35.66708529307584 \t -14.042667401507376\n",
            "init   \t [0.68021413 7.77766418]. \t  -25.307769914281764 \t -14.042667401507376\n",
            "init   \t [4.86927198 2.90775327]. \t  -14.042667401507376 \t -14.042667401507376\n",
            "1      \t [-0.18867118  0.75465687]. \t  -50.23667197430394 \t -14.042667401507376\n",
            "2      \t [10.         5.9079623]. \t  \u001b[92m-10.382198762189898\u001b[0m \t -10.382198762189898\n",
            "3      \t [-5.          3.81449004]. \t  -191.5574040002248 \t -10.382198762189898\n",
            "4      \t [-0.52181708 12.89618994]. \t  -54.69134022398591 \t -10.382198762189898\n",
            "5      \t [5.58659234 7.78970481]. \t  -61.57689219668029 \t -10.382198762189898\n",
            "6      \t [9.52692193 0.        ]. \t  \u001b[92m-7.01438462309541\u001b[0m \t -7.01438462309541\n",
            "7      \t [-5. 15.]. \t  -17.508299515778166 \t -7.01438462309541\n",
            "8      \t [1.53351775 4.24249412]. \t  -10.501786609564816 \t -7.01438462309541\n",
            "9      \t [-4.0644519  0.       ]. \t  -217.4486541338815 \t -7.01438462309541\n",
            "10     \t [6.25480605 0.        ]. \t  -20.806488400509295 \t -7.01438462309541\n",
            "11     \t [8.42788371 3.08294332]. \t  \u001b[92m-6.530505701345037\u001b[0m \t -6.530505701345037\n",
            "12     \t [-2.74247848  7.16078344]. \t  -18.58842590413811 \t -6.530505701345037\n",
            "13     \t [10.          8.88289027]. \t  -36.516760587522725 \t -6.530505701345037\n",
            "14     \t [-1.24311078  4.26045934]. \t  -28.438406314538 \t -6.530505701345037\n",
            "15     \t [3.10983832 0.        ]. \t  \u001b[92m-5.692241219003881\u001b[0m \t -5.692241219003881\n",
            "16     \t [ 2.77087718 10.01886371]. \t  -56.35920302738711 \t -5.692241219003881\n",
            "17     \t [10. 15.]. \t  -145.87219087939556 \t -5.692241219003881\n",
            "18     \t [7.08753476 4.96849603]. \t  -30.79226960700921 \t -5.692241219003881\n",
            "19     \t [-1.37465475  9.84948689]. \t  -13.880737767109778 \t -5.692241219003881\n",
            "20     \t [3.41689493 5.60213904]. \t  -13.234815257137688 \t -5.692241219003881\n"
          ]
        }
      ]
    },
    {
      "cell_type": "code",
      "metadata": {
        "id": "xkgzPRbBTHaq",
        "colab": {
          "base_uri": "https://localhost:8080/"
        },
        "outputId": "2015d760-4695-4337-fa85-f9ed90a0ef1c"
      },
      "source": [
        "end_approx = time.time()\n",
        "end_approx\n",
        "\n",
        "time_approx = end_approx - start_approx\n",
        "time_approx\n",
        "\n",
        "start_exact = time.time()\n",
        "start_exact"
      ],
      "execution_count": null,
      "outputs": [
        {
          "output_type": "execute_result",
          "data": {
            "text/plain": [
              "1637144793.2002194"
            ]
          },
          "metadata": {},
          "execution_count": 36
        }
      ]
    },
    {
      "cell_type": "code",
      "metadata": {
        "id": "7CG3Ndvb16Rb",
        "colab": {
          "base_uri": "https://localhost:8080/"
        },
        "outputId": "9b65dc6e-83e2-4fdc-eeba-04b8fc74cf9a"
      },
      "source": [
        "### EXACT GP EI GRADIENTS\n",
        "\n",
        "np.random.seed(run_num_1)\n",
        "surrogate_exact_1 = dGaussianProcess(cov_func, optimize=opt)\n",
        "\n",
        "exact_1 = dGPGO(surrogate_exact_1, Acquisition_new(util_grad_exact), objfunc, param)\n",
        "exact_1.run(init_evals=n_init, max_iter=iters)\n"
      ],
      "execution_count": null,
      "outputs": [
        {
          "output_type": "stream",
          "name": "stdout",
          "text": [
            "Evaluation \t Proposed point \t  Current eval. \t Best eval.\n",
            "init   \t [ 1.25533007 10.8048674 ]. \t  -56.52874004692151 \t -27.68166689936483\n",
            "init   \t [-4.99828438  4.53498859]. \t  -172.66531086516164 \t -27.68166689936483\n",
            "init   \t [-2.79866164  1.38507892]. \t  -102.58290348816024 \t -27.68166689936483\n",
            "init   \t [-2.20609683  5.18341091]. \t  -28.868064601155666 \t -27.68166689936483\n",
            "init   \t [0.95151211 8.08225101]. \t  -27.68166689936483 \t -27.68166689936483\n",
            "1      \t [8.41909995 1.27566317]. \t  \u001b[92m-5.089934878453152\u001b[0m \t -5.089934878453152\n",
            "2      \t [ 8.98893195 10.45227242]. \t  -70.52424256621515 \t -5.089934878453152\n",
            "3      \t [3.38718802 0.        ]. \t  \u001b[92m-5.0593980998135075\u001b[0m \t -5.0593980998135075\n",
            "4      \t [-4.67712792 14.21955317]. \t  -13.865244792739254 \t -5.0593980998135075\n",
            "5      \t [4.42114297 4.28364423]. \t  -15.054851223732111 \t -5.0593980998135075\n",
            "6      \t [-4.390766    9.66380875]. \t  -40.77704906098703 \t -5.0593980998135075\n",
            "7      \t [ 4.549066   14.90869537]. \t  -190.02550896454528 \t -5.0593980998135075\n",
            "8      \t [7.65945871 6.40321809]. \t  -37.003469279735015 \t -5.0593980998135075\n",
            "9      \t [-0.34119122 14.73626174]. \t  -85.93157875380474 \t -5.0593980998135075\n",
            "10     \t [0.94922018 3.07488984]. \t  -17.934753891552717 \t -5.0593980998135075\n",
            "11     \t [ 5.02202751 10.19044879]. \t  -92.5837094253774 \t -5.0593980998135075\n",
            "12     \t [5.87564001 0.72939489]. \t  -18.95937487494757 \t -5.0593980998135075\n",
            "13     \t [0.64892898 0.        ]. \t  -42.8667541297675 \t -5.0593980998135075\n",
            "14     \t [ 8.91773489 13.43954951]. \t  -130.6337448549462 \t -5.0593980998135075\n",
            "15     \t [8.02361874 3.38045751]. \t  -11.741543166463847 \t -5.0593980998135075\n",
            "16     \t [3.48493169 7.02998756]. \t  -26.033514505057163 \t -5.0593980998135075\n",
            "17     \t [2.92800235 2.26176598]. \t  \u001b[92m-0.6505677537865004\u001b[0m \t -0.6505677537865004\n",
            "18     \t [-1.91949326  8.23674004]. \t  -8.394173890883264 \t -0.6505677537865004\n",
            "19     \t [-3.11685335 11.59328403]. \t  -0.7881333909938171 \t -0.6505677537865004\n",
            "20     \t [-2.47369203 11.86900851]. \t  -3.7641897669216924 \t -0.6505677537865004\n"
          ]
        }
      ]
    },
    {
      "cell_type": "code",
      "metadata": {
        "id": "-ilCPSAu9SAg",
        "colab": {
          "base_uri": "https://localhost:8080/"
        },
        "outputId": "3cd2eeca-744c-434f-8fbd-0ab382470051"
      },
      "source": [
        "### EXACT GP EI GRADIENTS\n",
        "\n",
        "np.random.seed(run_num_2)\n",
        "surrogate_exact_2 = dGaussianProcess(cov_func, optimize=opt)\n",
        "\n",
        "exact_2 = dGPGO(surrogate_exact_2, Acquisition_new(util_grad_exact), objfunc, param)\n",
        "exact_2.run(init_evals=n_init, max_iter=iters)\n"
      ],
      "execution_count": null,
      "outputs": [
        {
          "output_type": "stream",
          "name": "stdout",
          "text": [
            "Evaluation \t Proposed point \t  Current eval. \t Best eval.\n",
            "init   \t [1.53992353 0.38889348]. \t  -22.31361308916297 \t -6.692051508754487\n",
            "init   \t [3.24493717 6.52983589]. \t  -19.233109967858276 \t -6.692051508754487\n",
            "init   \t [1.30551703 4.95502232]. \t  -13.177851563387286 \t -6.692051508754487\n",
            "init   \t [-1.93027049  9.2890645 ]. \t  -6.692051508754487 \t -6.692051508754487\n",
            "init   \t [-0.50517989  4.00240913]. \t  -26.437522758780958 \t -6.692051508754487\n",
            "1      \t [ 9.5587047  12.00387527]. \t  -89.09951357262268 \t -6.692051508754487\n",
            "2      \t [9.59366035 1.69164323]. \t  \u001b[92m-1.3984593420568778\u001b[0m \t -1.3984593420568778\n",
            "3      \t [ 3.24245232 12.67669673]. \t  -110.25694222671481 \t -1.3984593420568778\n",
            "4      \t [-5.  0.]. \t  -308.12909601160663 \t -1.3984593420568778\n",
            "5      \t [-5.          5.77963107]. \t  -142.8600329551978 \t -1.3984593420568778\n",
            "6      \t [-3.95509114 14.02730345]. \t  -3.48680055844817 \t -1.3984593420568778\n",
            "7      \t [6.07997041 0.        ]. \t  -20.61203534900828 \t -1.3984593420568778\n",
            "8      \t [8.07978391 7.01346195]. \t  -37.436150703428666 \t -1.3984593420568778\n",
            "9      \t [-5.         10.69014922]. \t  -54.937502646726244 \t -1.3984593420568778\n",
            "10     \t [-1.35561365 14.30537323]. \t  -46.98367439861934 \t -1.3984593420568778\n",
            "11     \t [5.34310455 9.56691407]. \t  -85.93175333686779 \t -1.3984593420568778\n",
            "12     \t [5.93359713 3.41929192]. \t  -24.378838038516605 \t -1.3984593420568778\n",
            "13     \t [-1.89370022  7.18512381]. \t  -12.206590930296855 \t -1.3984593420568778\n",
            "14     \t [ 7.02402671 14.84002777]. \t  -203.28626964173617 \t -1.3984593420568778\n",
            "15     \t [-1.53827193  0.        ]. \t  -86.94340889517304 \t -1.3984593420568778\n",
            "16     \t [0.86502943 9.33277869]. \t  -37.506486752236526 \t -1.3984593420568778\n",
            "17     \t [8.47515947 1.90422684]. \t  -4.424574222612798 \t -1.3984593420568778\n",
            "18     \t [0.73415663 6.40107261]. \t  -19.37824205449102 \t -1.3984593420568778\n",
            "19     \t [3.07328493 2.67531427]. \t  \u001b[92m-0.5403015489870544\u001b[0m \t -0.5403015489870544\n",
            "20     \t [-1.95858668 11.36570967]. \t  -9.441898144900867 \t -0.5403015489870544\n"
          ]
        }
      ]
    },
    {
      "cell_type": "code",
      "metadata": {
        "id": "XieJ158mIvlP",
        "colab": {
          "base_uri": "https://localhost:8080/"
        },
        "outputId": "29ea55ab-0ef9-4fc4-9690-aa16016a154c"
      },
      "source": [
        "### EXACT GP EI GRADIENTS\n",
        "\n",
        "np.random.seed(run_num_3)\n",
        "surrogate_exact_3 = dGaussianProcess(cov_func, optimize=opt)\n",
        "\n",
        "exact_3 = dGPGO(surrogate_exact_3, Acquisition_new(util_grad_exact), objfunc, param)\n",
        "exact_3.run(init_evals=n_init, max_iter=iters)\n"
      ],
      "execution_count": null,
      "outputs": [
        {
          "output_type": "stream",
          "name": "stdout",
          "text": [
            "Evaluation \t Proposed point \t  Current eval. \t Best eval.\n",
            "init   \t [ 3.26196854 10.62221734]. \t  -71.68783452098575 \t -18.07886746449891\n",
            "init   \t [-0.63642892  7.66241408]. \t  -18.07886746449891 \t -18.07886746449891\n",
            "init   \t [ 8.39420432 13.44439633]. \t  -141.98653529865882 \t -18.07886746449891\n",
            "init   \t [-3.11622034  3.10864317]. \t  -83.31045707266176 \t -18.07886746449891\n",
            "init   \t [-4.22799195  6.61214765]. \t  -76.5294170688398 \t -18.07886746449891\n",
            "1      \t [6.70472147 4.59545299]. \t  -30.726791812855225 \t -18.07886746449891\n",
            "2      \t [-3.89564496 13.38589781]. \t  \u001b[92m-3.6010193697779265\u001b[0m \t -3.6010193697779265\n",
            "3      \t [1.81549557 3.88378641]. \t  -7.794464644280723 \t -3.6010193697779265\n",
            "4      \t [4.52510097 0.        ]. \t  -10.295335207846547 \t -3.6010193697779265\n",
            "5      \t [7.30433025 8.82548091]. \t  -72.14351396080065 \t -3.6010193697779265\n",
            "6      \t [9.93672163 0.73577203]. \t  -6.49061146894648 \t -3.6010193697779265\n",
            "7      \t [ 0.7273756  14.67607729]. \t  -112.53473754745858 \t -3.6010193697779265\n",
            "8      \t [-5.        10.5433086]. \t  -56.86717370457947 \t -3.6010193697779265\n",
            "9      \t [-2.53287617  0.2265116 ]. \t  -115.19315667597515 \t -3.6010193697779265\n",
            "10     \t [1.28705738 0.        ]. \t  -30.040146881535275 \t -3.6010193697779265\n",
            "11     \t [-1.69205297 11.76015179]. \t  -16.113985558184183 \t -3.6010193697779265\n",
            "12     \t [3.67014559 6.56108078]. \t  -23.444207058887578 \t -3.6010193697779265\n",
            "13     \t [3.88672115 3.16226335]. \t  -4.893024332703511 \t -3.6010193697779265\n",
            "14     \t [ 4.49105071 13.89176449]. \t  -162.493915317688 \t -3.6010193697779265\n",
            "15     \t [9.97819911 4.3422164 ]. \t  -3.683034505878166 \t -3.6010193697779265\n",
            "16     \t [5.18972972 2.23748741]. \t  -15.447377796949462 \t -3.6010193697779265\n",
            "17     \t [-0.15466593  4.3874319 ]. \t  -22.953854727630677 \t -3.6010193697779265\n",
            "18     \t [7.46770294 1.45840333]. \t  -13.636981734793833 \t -3.6010193697779265\n",
            "19     \t [0.31483886 9.86797671]. \t  -38.10707419256275 \t -3.6010193697779265\n",
            "20     \t [-2.68135196  9.33999475]. \t  -4.842881276297815 \t -3.6010193697779265\n"
          ]
        }
      ]
    },
    {
      "cell_type": "code",
      "metadata": {
        "id": "PhLBVOIfIvol",
        "colab": {
          "base_uri": "https://localhost:8080/"
        },
        "outputId": "7f5bd5f3-5f91-4a04-c151-a03f357d5f2e"
      },
      "source": [
        "### EXACT GP EI GRADIENTS\n",
        "\n",
        "np.random.seed(run_num_4)\n",
        "surrogate_exact_4 = dGaussianProcess(cov_func, optimize=opt)\n",
        "\n",
        "exact_4 = dGPGO(surrogate_exact_4, Acquisition_new(util_grad_exact), objfunc, param)\n",
        "exact_4.run(init_evals=n_init, max_iter=iters)\n"
      ],
      "execution_count": null,
      "outputs": [
        {
          "output_type": "stream",
          "name": "stdout",
          "text": [
            "Evaluation \t Proposed point \t  Current eval. \t Best eval.\n",
            "init   \t [9.50544759 8.20848374]. \t  -32.51676744781521 \t -7.247126865776948\n",
            "init   \t [ 9.5902654  10.72223991]. \t  -66.20566674364716 \t -7.247126865776948\n",
            "init   \t [5.46593237 3.24134243]. \t  -20.90089401680587 \t -7.247126865776948\n",
            "init   \t [9.64411682 0.09345383]. \t  -7.247126865776948 \t -7.247126865776948\n",
            "init   \t [-1.20526456  6.52187299]. \t  -15.941376982363263 \t -7.247126865776948\n",
            "1      \t [ 1.25164457 13.57001383]. \t  -100.61648848019335 \t -7.247126865776948\n",
            "2      \t [-4.27198795  1.64727177]. \t  -188.41076037632916 \t -7.247126865776948\n",
            "3      \t [1.24886104 0.        ]. \t  -30.794745512786793 \t -7.247126865776948\n",
            "4      \t [3.06500715 8.82989275]. \t  -42.603383320434965 \t -7.247126865776948\n",
            "5      \t [-4.73699493 13.33053872]. \t  -19.892240270122997 \t -7.247126865776948\n",
            "6      \t [-5.          7.74203423]. \t  -101.93793286086269 \t -7.247126865776948\n",
            "7      \t [ 7.15995113 14.45073253]. \t  -191.00332078453908 \t -7.247126865776948\n",
            "8      \t [1.59211278 3.45399273]. \t  -9.9106205977724 \t -7.247126865776948\n",
            "9      \t [-2.01195657 10.77809764]. \t  \u001b[92m-7.008885862769731\u001b[0m \t -7.008885862769731\n",
            "10     \t [8.92771524 3.76404284]. \t  \u001b[92m-4.370211743563413\u001b[0m \t -4.370211743563413\n",
            "11     \t [6.07093454 6.73445828]. \t  -51.144306449651936 \t -4.370211743563413\n",
            "12     \t [4.49771445 0.21175329]. \t  -9.50011671245051 \t -4.370211743563413\n",
            "13     \t [-1.0103046   3.22178902]. \t  -35.51702608529534 \t -4.370211743563413\n",
            "14     \t [3.1306712  5.03156973]. \t  -7.950168075539014 \t -4.370211743563413\n",
            "15     \t [-0.17687042 10.06494647]. \t  -33.73623015480432 \t -4.370211743563413\n",
            "16     \t [ 5.0153329  11.14977229]. \t  -110.52785785231352 \t -4.370211743563413\n",
            "17     \t [-2.49955769 12.91307087]. \t  -6.837334971757676 \t -4.370211743563413\n",
            "18     \t [6.54934891 0.48337303]. \t  -19.666268691051656 \t -4.370211743563413\n",
            "19     \t [-5.          4.58409334]. \t  -171.566083833212 \t -4.370211743563413\n",
            "20     \t [0.48173895 7.07456737]. \t  -21.790104152469674 \t -4.370211743563413\n"
          ]
        }
      ]
    },
    {
      "cell_type": "code",
      "metadata": {
        "id": "arbiPyj2IvsJ",
        "colab": {
          "base_uri": "https://localhost:8080/"
        },
        "outputId": "20c2f9b3-a132-4627-f855-edfeead8207c"
      },
      "source": [
        "### EXACT GP EI GRADIENTS\n",
        "\n",
        "np.random.seed(run_num_5)\n",
        "surrogate_exact_5 = dGaussianProcess(cov_func, optimize=opt)\n",
        "\n",
        "exact_5 = dGPGO(surrogate_exact_5, Acquisition_new(util_grad_exact), objfunc, param)\n",
        "exact_5.run(init_evals=n_init, max_iter=iters)\n"
      ],
      "execution_count": null,
      "outputs": [
        {
          "output_type": "stream",
          "name": "stdout",
          "text": [
            "Evaluation \t Proposed point \t  Current eval. \t Best eval.\n",
            "init   \t [-1.67010243 13.06098459]. \t  -25.390690545664548 \t -25.311309190989615\n",
            "init   \t [-1.89921267 13.77916362]. \t  -25.311309190989615 \t -25.311309190989615\n",
            "init   \t [2.32616783 9.17615794]. \t  -41.60147975414021 \t -25.311309190989615\n",
            "init   \t [6.48861785 7.77626982]. \t  -63.81281921768236 \t -25.311309190989615\n",
            "init   \t [-0.54799248  2.81581843]. \t  -34.966203644931994 \t -25.311309190989615\n",
            "1      \t [8.84124421 0.03321319]. \t  \u001b[92m-5.96108856337545\u001b[0m \t -5.96108856337545\n",
            "2      \t [ 8.39476442 14.47736321]. \t  -167.21523769473345 \t -5.96108856337545\n",
            "3      \t [-3.98474739  8.11668752]. \t  -43.007409247434076 \t -5.96108856337545\n",
            "4      \t [-5.  0.]. \t  -308.12909601160663 \t -5.96108856337545\n",
            "5      \t [4.61112248 2.57446817]. \t  -10.390053653436548 \t -5.96108856337545\n",
            "6      \t [1.92360986 0.        ]. \t  -18.354550502133165 \t -5.96108856337545\n",
            "7      \t [ 2.56483621 13.11275581]. \t  -108.97006652165066 \t -5.96108856337545\n",
            "8      \t [8.73101102 3.79074418]. \t  -5.998572066391249 \t -5.96108856337545\n",
            "9      \t [2.14041185 5.45092551]. \t  -9.95469633697577 \t -5.96108856337545\n",
            "10     \t [-5.          4.38418587]. \t  -176.64502119160133 \t -5.96108856337545\n",
            "11     \t [-5.         11.55134966]. \t  -44.48836747042502 \t -5.96108856337545\n",
            "12     \t [-0.82113093  6.47165715]. \t  -17.393489114604648 \t -5.96108856337545\n",
            "13     \t [ 7.49336104 10.86834131]. \t  -104.41170226128688 \t -5.96108856337545\n",
            "14     \t [-0.80178956  9.51116649]. \t  -21.3087536329416 \t -5.96108856337545\n",
            "15     \t [5.38105618 4.84196218]. \t  -29.388944376277998 \t -5.96108856337545\n",
            "16     \t [6.22143952 2.28151263]. \t  -20.983269013758168 \t -5.96108856337545\n",
            "17     \t [9.9136638  8.43845852]. \t  -31.99528183328896 \t -5.96108856337545\n",
            "18     \t [ 5.20428414 14.43162504]. \t  -189.18695404638058 \t -5.96108856337545\n",
            "19     \t [8.99528331 2.00771988]. \t  \u001b[92m-1.2865819879754827\u001b[0m \t -1.2865819879754827\n",
            "20     \t [-1.63606005  0.20376872]. \t  -85.86434824306191 \t -1.2865819879754827\n"
          ]
        }
      ]
    },
    {
      "cell_type": "code",
      "metadata": {
        "id": "04KJCEm_Ivvf",
        "colab": {
          "base_uri": "https://localhost:8080/"
        },
        "outputId": "8be5b9c3-19cf-412a-885c-fa68ea673374"
      },
      "source": [
        "### EXACT GP EI GRADIENTS\n",
        "\n",
        "np.random.seed(run_num_6)\n",
        "surrogate_exact_6 = dGaussianProcess(cov_func, optimize=opt)\n",
        "\n",
        "exact_6 = dGPGO(surrogate_exact_6, Acquisition_new(util_grad_exact), objfunc, param)\n",
        "exact_6.run(init_evals=n_init, max_iter=iters)\n"
      ],
      "execution_count": null,
      "outputs": [
        {
          "output_type": "stream",
          "name": "stdout",
          "text": [
            "Evaluation \t Proposed point \t  Current eval. \t Best eval.\n",
            "init   \t [8.39290227 4.97969708]. \t  -15.553860636684597 \t -15.31731051317483\n",
            "init   \t [7.31843685 0.62544939]. \t  -15.31731051317483 \t -15.31731051317483\n",
            "init   \t [-3.3851498   8.92578096]. \t  -16.222288919361837 \t -15.31731051317483\n",
            "init   \t [2.94726043 6.28211143]. \t  -15.406373581304088 \t -15.31731051317483\n",
            "init   \t [0.03111774 9.33779148]. \t  -31.07053245856209 \t -15.31731051317483\n",
            "1      \t [ 9.64829531 12.55362889]. \t  -98.32295673962142 \t -15.31731051317483\n",
            "2      \t [-1.22578785  0.62063252]. \t  -69.8637190838968 \t -15.31731051317483\n",
            "3      \t [ 4.34724927 14.59608757]. \t  -177.48889452505895 \t -15.31731051317483\n",
            "4      \t [-5.          4.21034228]. \t  -181.1267421699523 \t -15.31731051317483\n",
            "5      \t [6.97224117 8.73076067]. \t  -74.37597568481661 \t -15.31731051317483\n",
            "6      \t [-2.88144405 14.07252479]. \t  \u001b[92m-6.548287566158158\u001b[0m \t -6.548287566158158\n",
            "7      \t [3.23249588 0.        ]. \t  \u001b[92m-5.30033331869239\u001b[0m \t -5.30033331869239\n",
            "8      \t [-1.05340478  5.68957894]. \t  -19.28760136602989 \t -5.30033331869239\n",
            "9      \t [-5.  0.]. \t  -308.12909601160663 \t -5.30033331869239\n",
            "10     \t [ 7.81795063 14.9264498 ]. \t  -191.8757654797541 \t -5.30033331869239\n",
            "11     \t [3.91225276 3.08617925]. \t  \u001b[92m-4.894410231537867\u001b[0m \t -4.894410231537867\n",
            "12     \t [ 0.51104176 12.97028896]. \t  -78.43623600827175 \t -4.894410231537867\n",
            "13     \t [-5.          7.00577388]. \t  -116.38844980001237 \t -4.894410231537867\n",
            "14     \t [-4.69942472 11.29358092]. \t  -35.264753517088835 \t -4.894410231537867\n",
            "15     \t [5.65080299 4.1885727 ]. \t  -27.090767149898983 \t -4.894410231537867\n",
            "16     \t [ 3.17166365 10.84739293]. \t  -74.28875561801466 \t -4.894410231537867\n",
            "17     \t [0.97855013 3.34282082]. \t  -16.85702902007261 \t -4.894410231537867\n",
            "18     \t [4.84625481 0.94067966]. \t  -11.426200624919861 \t -4.894410231537867\n",
            "19     \t [-4.90092502 13.91082295]. \t  -20.752496648494645 \t -4.894410231537867\n",
            "20     \t [9.48052126 2.6360802 ]. \t  \u001b[92m-0.4257200593211543\u001b[0m \t -0.4257200593211543\n"
          ]
        }
      ]
    },
    {
      "cell_type": "code",
      "metadata": {
        "id": "tAOkme3CIvyO",
        "colab": {
          "base_uri": "https://localhost:8080/"
        },
        "outputId": "5b3e3025-deec-445e-c838-d63c6aea43ac"
      },
      "source": [
        "### EXACT GP EI GRADIENTS\n",
        "\n",
        "np.random.seed(run_num_7)\n",
        "surrogate_exact_7 = dGaussianProcess(cov_func, optimize=opt)\n",
        "\n",
        "exact_7 = dGPGO(surrogate_exact_7, Acquisition_new(util_grad_exact), objfunc, param)\n",
        "exact_7.run(init_evals=n_init, max_iter=iters)\n"
      ],
      "execution_count": null,
      "outputs": [
        {
          "output_type": "stream",
          "name": "stdout",
          "text": [
            "Evaluation \t Proposed point \t  Current eval. \t Best eval.\n",
            "init   \t [-3.85537566 11.69878188]. \t  -8.299317850233932 \t -5.211335324193094\n",
            "init   \t [ 1.57613847 10.85197767]. \t  -59.50408380701259 \t -5.211335324193094\n",
            "init   \t [9.66984268 8.07743806]. \t  -29.714921414987273 \t -5.211335324193094\n",
            "init   \t [2.51680695 1.080767  ]. \t  -5.211335324193094 \t -5.211335324193094\n",
            "init   \t [-0.9734153   7.49823751]. \t  -15.431057204948033 \t -5.211335324193094\n",
            "1      \t [-5.          2.65190826]. \t  -224.0031100533308 \t -5.211335324193094\n",
            "2      \t [ 7.42679792 14.12713902]. \t  -178.37635728719692 \t -5.211335324193094\n",
            "3      \t [8.08940775 0.35854539]. \t  -9.249625108410735 \t -5.211335324193094\n",
            "4      \t [-3.39684884  5.54228873]. \t  -54.79871094423047 \t -5.211335324193094\n",
            "5      \t [4.93106932 5.49280768]. \t  -29.72032114718932 \t -5.211335324193094\n",
            "6      \t [-1.18248519  0.        ]. \t  -78.64142677081142 \t -5.211335324193094\n",
            "7      \t [ 0.41036662 14.84871201]. \t  -108.67673451031358 \t -5.211335324193094\n",
            "8      \t [4.85057021 1.61386698]. \t  -11.40924465014373 \t -5.211335324193094\n",
            "9      \t [ 5.29326214 10.47819958]. \t  -101.44543618326065 \t -5.211335324193094\n",
            "10     \t [-4.85386246 14.71769028]. \t  -15.56074922910528 \t -5.211335324193094\n",
            "11     \t [1.24133982 3.9711714 ]. \t  -13.17018439933503 \t -5.211335324193094\n",
            "12     \t [-3.34786053  8.89249084]. \t  -15.684686933556062 \t -5.211335324193094\n",
            "13     \t [8.64510495 4.22024843]. \t  -8.574305335073518 \t -5.211335324193094\n",
            "14     \t [1.52261715 6.4740639 ]. \t  -17.21146381650008 \t -5.211335324193094\n",
            "15     \t [ 8.42426694 10.96048354]. \t  -89.45827976303572 \t -5.211335324193094\n",
            "16     \t [ 3.80559917 14.2487133 ]. \t  -157.0570038010977 \t -5.211335324193094\n",
            "17     \t [-1.36831837  3.17366264]. \t  -39.451004839693184 \t -5.211335324193094\n",
            "18     \t [6.61399393 2.80765058]. \t  -21.91391921963728 \t -5.211335324193094\n",
            "19     \t [9.72391456 2.16580427]. \t  \u001b[92m-1.152729601530302\u001b[0m \t -1.152729601530302\n",
            "20     \t [6.89968178 7.398649  ]. \t  -56.646434609531184 \t -1.152729601530302\n"
          ]
        }
      ]
    },
    {
      "cell_type": "code",
      "metadata": {
        "id": "69-J3EF4Iv1S",
        "colab": {
          "base_uri": "https://localhost:8080/"
        },
        "outputId": "b0a32e9a-a8b3-41a2-ed85-e547f2c5e930"
      },
      "source": [
        "### EXACT GP EI GRADIENTS\n",
        "\n",
        "np.random.seed(run_num_8)\n",
        "surrogate_exact_8 = dGaussianProcess(cov_func, optimize=opt)\n",
        "\n",
        "exact_8 = dGPGO(surrogate_exact_8, Acquisition_new(util_grad_exact), objfunc, param)\n",
        "exact_8.run(init_evals=n_init, max_iter=iters)\n"
      ],
      "execution_count": null,
      "outputs": [
        {
          "output_type": "stream",
          "name": "stdout",
          "text": [
            "Evaluation \t Proposed point \t  Current eval. \t Best eval.\n",
            "init   \t [ 8.10144104 14.52810994]. \t  -175.17297136347514 \t -15.416245468470875\n",
            "init   \t [8.0379181  7.96283537]. \t  -49.32173799887473 \t -15.416245468470875\n",
            "init   \t [-1.50907508  0.17098206]. \t  -83.26753461673219 \t -15.416245468470875\n",
            "init   \t [1.45703227 6.0352704 ]. \t  -15.416245468470875 \t -15.416245468470875\n",
            "init   \t [2.84012007 7.17587694]. \t  -22.49093277852639 \t -15.416245468470875\n",
            "1      \t [9.77124156 0.43098073]. \t  \u001b[92m-6.499298445992174\u001b[0m \t -6.499298445992174\n",
            "2      \t [-4.87537438 11.82874897]. \t  -36.57081146531108 \t -6.499298445992174\n",
            "3      \t [-4.45701815  6.26711165]. \t  -95.79736776302217 \t -6.499298445992174\n",
            "4      \t [4.54610188 0.93996897]. \t  -8.655217490029118 \t -6.499298445992174\n",
            "5      \t [-0.10664759 12.3093941 ]. \t  -57.22493359528667 \t -6.499298445992174\n",
            "6      \t [7.40087489 3.51127056]. \t  -19.106608006620732 \t -6.499298445992174\n",
            "7      \t [ 4.79164746 10.26335952]. \t  -90.3880656137853 \t -6.499298445992174\n",
            "8      \t [-5.          1.49547664]. \t  -258.95895588585904 \t -6.499298445992174\n",
            "9      \t [-1.1226136   3.65992621]. \t  -32.56132294810073 \t -6.499298445992174\n",
            "10     \t [-1.21694082  8.59127599]. \t  -13.541793389805022 \t -6.499298445992174\n",
            "11     \t [4.24359525 3.51435183]. \t  -9.432546412339175 \t -6.499298445992174\n",
            "12     \t [1.26956761 3.06300462]. \t  -14.11369278510075 \t -6.499298445992174\n",
            "13     \t [ 2.3013469  14.36268361]. \t  -132.2156185987359 \t -6.499298445992174\n",
            "14     \t [ 9.99795209 10.82692064]. \t  -63.17866230338867 \t -6.499298445992174\n",
            "15     \t [1.82212985 0.        ]. \t  -20.065152348800662 \t -6.499298445992174\n",
            "16     \t [9.26480724 5.45063933]. \t  -10.175627581394151 \t -6.499298445992174\n",
            "17     \t [-2.13214779 14.61457022]. \t  -26.361268350224336 \t -6.499298445992174\n",
            "18     \t [6.68999489 0.68290998]. \t  -19.022242523925357 \t -6.499298445992174\n",
            "19     \t [5.27130617 6.54083751]. \t  -43.615571795542486 \t -6.499298445992174\n",
            "20     \t [-1.58672442  6.21781558]. \t  -16.778603573453395 \t -6.499298445992174\n"
          ]
        }
      ]
    },
    {
      "cell_type": "code",
      "metadata": {
        "id": "vonm9jyuIv4t",
        "colab": {
          "base_uri": "https://localhost:8080/"
        },
        "outputId": "de324f32-313b-4beb-fa31-9cd1875c0b4e"
      },
      "source": [
        "### EXACT GP EI GRADIENTS\n",
        "\n",
        "np.random.seed(run_num_9)\n",
        "surrogate_exact_9 = dGaussianProcess(cov_func, optimize=opt)\n",
        "\n",
        "exact_9 = dGPGO(surrogate_exact_9, Acquisition_new(util_grad_exact), objfunc, param)\n",
        "exact_9.run(init_evals=n_init, max_iter=iters)\n"
      ],
      "execution_count": null,
      "outputs": [
        {
          "output_type": "stream",
          "name": "stdout",
          "text": [
            "Evaluation \t Proposed point \t  Current eval. \t Best eval.\n",
            "init   \t [-4.84438769  7.52811888]. \t  -96.15564306553264 \t -3.4640248583909496\n",
            "init   \t [2.4365994  2.00744293]. \t  -3.4640248583909496 \t -3.4640248583909496\n",
            "init   \t [-2.86833372  3.27838013]. \t  -70.46930174488207 \t -3.4640248583909496\n",
            "init   \t [1.27762271 3.72151753]. \t  -12.982825924833865 \t -3.4640248583909496\n",
            "init   \t [-3.73910523  5.1824796 ]. \t  -75.58547400560856 \t -3.4640248583909496\n",
            "1      \t [ 7.05609655 14.75038872]. \t  -200.4388688685465 \t -3.4640248583909496\n",
            "2      \t [-0.46054038 14.56197292]. \t  -79.4666617606301 \t -3.4640248583909496\n",
            "3      \t [8.28747407 1.2035024 ]. \t  -6.196385269800155 \t -3.4640248583909496\n",
            "4      \t [4.74860988 9.34294938]. \t  -74.1491079038336 \t -3.4640248583909496\n",
            "5      \t [9.67993735 5.53971063]. \t  -8.780439004071868 \t -3.4640248583909496\n",
            "6      \t [5.69614675 4.2958879 ]. \t  -28.043820974801463 \t -3.4640248583909496\n",
            "7      \t [0.42414727 7.74400067]. \t  -24.491182719292794 \t -3.4640248583909496\n",
            "8      \t [-0.29847767  0.        ]. \t  -61.25289994169689 \t -3.4640248583909496\n",
            "9      \t [ 9.534761   10.55586893]. \t  -64.24061719354862 \t -3.4640248583909496\n",
            "10     \t [4.93883475 0.        ]. \t  -13.821678552790608 \t -3.4640248583909496\n",
            "11     \t [-5.         12.67620443]. \t  -33.07427981544148 \t -3.4640248583909496\n",
            "12     \t [-5.  0.]. \t  -308.12909601160663 \t -3.4640248583909496\n",
            "13     \t [-1.95585068 10.79130248]. \t  -7.7959056207130315 \t -3.4640248583909496\n",
            "14     \t [ 0.72803603 10.57019039]. \t  -49.20820174592244 \t -3.4640248583909496\n",
            "15     \t [2.86011364 5.44485016]. \t  -9.419965022760543 \t -3.4640248583909496\n",
            "16     \t [7.30717581 0.        ]. \t  -16.60068407146539 \t -3.4640248583909496\n",
            "17     \t [-1.86654089  8.16020633]. \t  -8.790458373529502 \t -3.4640248583909496\n",
            "18     \t [ 3.16270785 13.81441078]. \t  -133.93700517761113 \t -3.4640248583909496\n",
            "19     \t [2.66862445 0.        ]. \t  -8.595583034331067 \t -3.4640248583909496\n",
            "20     \t [7.74303964 6.61043155]. \t  -37.98516354885881 \t -3.4640248583909496\n"
          ]
        }
      ]
    },
    {
      "cell_type": "code",
      "metadata": {
        "id": "6amuYlUdIv7r",
        "colab": {
          "base_uri": "https://localhost:8080/"
        },
        "outputId": "691fc84d-db5e-4e6f-a54c-fdac9dd94d0a"
      },
      "source": [
        "### EXACT GP EI GRADIENTS\n",
        "\n",
        "np.random.seed(run_num_10)\n",
        "surrogate_exact_10 = dGaussianProcess(cov_func, optimize=opt)\n",
        "\n",
        "exact_10 = dGPGO(surrogate_exact_10, Acquisition_new(util_grad_exact), objfunc, param)\n",
        "exact_10.run(init_evals=n_init, max_iter=iters)\n"
      ],
      "execution_count": null,
      "outputs": [
        {
          "output_type": "stream",
          "name": "stdout",
          "text": [
            "Evaluation \t Proposed point \t  Current eval. \t Best eval.\n",
            "init   \t [6.56980965 0.31127924]. \t  -19.863985024602144 \t -2.710610964564512\n",
            "init   \t [ 4.50472352 11.23205824]. \t  -103.66999147252169 \t -2.710610964564512\n",
            "init   \t [2.47760518 3.37194968]. \t  -2.710610964564512 \t -2.710610964564512\n",
            "init   \t [-2.02905703 11.40796068]. \t  -8.463930835255017 \t -2.710610964564512\n",
            "init   \t [-2.46333745  1.32509721]. \t  -90.49481266026973 \t -2.710610964564512\n",
            "1      \t [ 9.16391068 14.81438212]. \t  -158.2412724465548 \t -2.710610964564512\n",
            "2      \t [9.65621089 6.61160737]. \t  -16.1339423373336 \t -2.710610964564512\n",
            "3      \t [-3.43070383  6.59407857]. \t  -41.584071053022164 \t -2.710610964564512\n",
            "4      \t [0.96274719 8.01363279]. \t  -27.223902729168035 \t -2.710610964564512\n",
            "5      \t [5.28809946 6.22346071]. \t  -40.50060051055487 \t -2.710610964564512\n",
            "6      \t [2.03789631 0.        ]. \t  -16.520643618334798 \t -2.710610964564512\n",
            "7      \t [-5.          9.81287724]. \t  -67.1067505709128 \t -2.710610964564512\n",
            "8      \t [ 2.5536211  14.48329073]. \t  -139.01964869201439 \t -2.710610964564512\n",
            "9      \t [8.66509782 3.24579937]. \t  -4.825634131688521 \t -2.710610964564512\n",
            "10     \t [9.00022474 9.81897305]. \t  -60.21442427279082 \t -2.710610964564512\n",
            "11     \t [-2.05037355 14.41951004]. \t  -26.850637653147004 \t -2.710610964564512\n",
            "12     \t [-0.17475484  4.56047343]. \t  -22.41978071695843 \t -2.710610964564512\n",
            "13     \t [-5.          2.91734472]. \t  -216.35708911319537 \t -2.710610964564512\n",
            "14     \t [4.05387544 3.30871238]. \t  -6.805960805778499 \t -2.710610964564512\n",
            "15     \t [ 0.64873912 11.25052364]. \t  -56.447551679897195 \t -2.710610964564512\n",
            "16     \t [6.84408469 8.15723997]. \t  -67.113258880859 \t -2.710610964564512\n",
            "17     \t [8.61167411 1.82638854]. \t  -3.403294929338953 \t -2.710610964564512\n",
            "18     \t [6.41447317 3.22990462]. \t  -24.02872564232035 \t -2.710610964564512\n",
            "19     \t [-1.72761637  8.78362217]. \t  -8.62393840960051 \t -2.710610964564512\n",
            "20     \t [3.80178491 1.52181663]. \t  \u001b[92m-2.5023455727216053\u001b[0m \t -2.5023455727216053\n"
          ]
        }
      ]
    },
    {
      "cell_type": "code",
      "metadata": {
        "id": "VwbLIP9cIv-F",
        "colab": {
          "base_uri": "https://localhost:8080/"
        },
        "outputId": "d50a8ee6-a5c1-436c-cae4-a5923262e1ed"
      },
      "source": [
        "### EXACT GP EI GRADIENTS\n",
        "\n",
        "np.random.seed(run_num_11)\n",
        "surrogate_exact_11 = dGaussianProcess(cov_func, optimize=opt)\n",
        "\n",
        "exact_11 = dGPGO(surrogate_exact_11, Acquisition_new(util_grad_exact), objfunc, param)\n",
        "exact_11.run(init_evals=n_init, max_iter=iters)\n"
      ],
      "execution_count": null,
      "outputs": [
        {
          "output_type": "stream",
          "name": "stdout",
          "text": [
            "Evaluation \t Proposed point \t  Current eval. \t Best eval.\n",
            "init   \t [-2.29595467  0.29212862]. \t  -104.49282729548965 \t -22.37435843952312\n",
            "init   \t [ 1.9482779  10.87400894]. \t  -62.47758067812407 \t -22.37435843952312\n",
            "init   \t [1.30305407 7.28140647]. \t  -22.37435843952312 \t -22.37435843952312\n",
            "init   \t [-4.80828778  7.31057411]. \t  -97.94503054415523 \t -22.37435843952312\n",
            "init   \t [ 9.12709979 12.76192634]. \t  -111.62900800771942 \t -22.37435843952312\n",
            "1      \t [6.94653631 0.95529646]. \t  \u001b[92m-17.615403152614682\u001b[0m \t -17.615403152614682\n",
            "2      \t [7.49824569 7.26709445]. \t  -48.60043130614873 \t -17.615403152614682\n",
            "3      \t [2.42708472 2.24786382]. \t  \u001b[92m-3.169307171991125\u001b[0m \t -3.169307171991125\n",
            "4      \t [-0.61006551  4.0649659 ]. \t  -26.596482779337297 \t -3.169307171991125\n",
            "5      \t [-3.42208896 11.32925449]. \t  -3.4300860679630905 \t -3.169307171991125\n",
            "6      \t [-5.          3.03362246]. \t  -213.05203933468084 \t -3.169307171991125\n",
            "7      \t [-0.77255064 14.09983832]. \t  -63.023736455229056 \t -3.169307171991125\n",
            "8      \t [ 4.80906692 13.89146164]. \t  -168.62177007704105 \t -3.169307171991125\n",
            "9      \t [8.0895503  3.94010766]. \t  -13.333633074605729 \t -3.169307171991125\n",
            "10     \t [4.9491983  3.06115393]. \t  -15.398792932621983 \t -3.169307171991125\n",
            "11     \t [-4.75415634 13.61510062]. \t  -18.644743848491714 \t -3.169307171991125\n",
            "12     \t [-1.38431993  8.95399729]. \t  -12.033440448896176 \t -3.169307171991125\n",
            "13     \t [2.57562333 0.        ]. \t  -9.500375668132204 \t -3.169307171991125\n",
            "14     \t [4.17658595 6.53434265]. \t  -29.38406390600892 \t -3.169307171991125\n",
            "15     \t [ 4.71481338e+00 -1.11022302e-16]. \t  -11.894276550764058 \t -3.169307171991125\n",
            "16     \t [-4.20675995 10.07879447]. \t  -29.384903930809184 \t -3.169307171991125\n",
            "17     \t [ 5.11030616 10.11057203]. \t  -92.40114878611516 \t -3.169307171991125\n",
            "18     \t [9.94720983 1.8640597 ]. \t  \u001b[92m-2.8600415406395783\u001b[0m \t -2.8600415406395783\n",
            "19     \t [-1.96022005  6.43713526]. \t  -16.460792345091914 \t -2.8600415406395783\n",
            "20     \t [0.77415934 1.51636501]. \t  -27.94747412434825 \t -2.8600415406395783\n"
          ]
        }
      ]
    },
    {
      "cell_type": "code",
      "metadata": {
        "id": "MlUNFjc-JTBY",
        "colab": {
          "base_uri": "https://localhost:8080/"
        },
        "outputId": "19191e70-f467-4fd8-cbb5-95085fd48cf4"
      },
      "source": [
        "### EXACT GP EI GRADIENTS\n",
        "\n",
        "np.random.seed(run_num_12)\n",
        "surrogate_exact_12 = dGaussianProcess(cov_func, optimize=opt)\n",
        "\n",
        "exact_12 = dGPGO(surrogate_exact_12, Acquisition_new(util_grad_exact), objfunc, param)\n",
        "exact_12.run(init_evals=n_init, max_iter=iters)\n"
      ],
      "execution_count": null,
      "outputs": [
        {
          "output_type": "stream",
          "name": "stdout",
          "text": [
            "Evaluation \t Proposed point \t  Current eval. \t Best eval.\n",
            "init   \t [-2.68755736 11.10074545]. \t  -1.3827702760021356 \t -0.5499315281120278\n",
            "init   \t [-1.05027477  8.0060909 ]. \t  -14.81231853080056 \t -0.5499315281120278\n",
            "init   \t [-4.78137556 13.78120512]. \t  -18.401131000214548 \t -0.5499315281120278\n",
            "init   \t [8.51072281 0.50132141]. \t  -5.855172364344769 \t -0.5499315281120278\n",
            "init   \t [9.35424004 2.05813982]. \t  -0.5499315281120278 \t -0.5499315281120278\n",
            "1      \t [9.43895355 6.28875405]. \t  -14.852312468115107 \t -0.5499315281120278\n",
            "2      \t [ 5.04936449 13.86496049]. \t  -172.12573102553992 \t -0.5499315281120278\n",
            "3      \t [-4.56313632  0.        ]. \t  -263.050103585265 \t -0.5499315281120278\n",
            "4      \t [3.20516942 0.45821173]. \t  -3.542154334189336 \t -0.5499315281120278\n",
            "5      \t [4.20804395 8.14007051]. \t  -48.260184648260896 \t -0.5499315281120278\n",
            "6      \t [-5.         5.4160296]. \t  -151.28797294097743 \t -0.5499315281120278\n",
            "7      \t [ 9.98185613 14.45397276]. \t  -133.3870781696882 \t -0.5499315281120278\n",
            "8      \t [ 0.23678872 13.3754592 ]. \t  -79.32039457253262 \t -0.5499315281120278\n",
            "9      \t [-0.0051907   2.84222122]. \t  -29.625814788579863 \t -0.5499315281120278\n",
            "10     \t [5.17798117 3.81340531]. \t  -21.023076877289196 \t -0.5499315281120278\n",
            "11     \t [ 7.97394095 10.21483397]. \t  -84.39692306291354 \t -0.5499315281120278\n",
            "12     \t [5.41592816 0.        ]. \t  -17.579671276491446 \t -0.5499315281120278\n",
            "13     \t [-5.          9.70741397]. \t  -68.67334710353919 \t -0.5499315281120278\n",
            "14     \t [0.52072829 0.        ]. \t  -45.43461165409096 \t -0.5499315281120278\n",
            "15     \t [1.71514189 5.67164797]. \t  -12.704671793512112 \t -0.5499315281120278\n",
            "16     \t [7.84111286 4.08041563]. \t  -16.973700740512477 \t -0.5499315281120278\n",
            "17     \t [1.4352574  8.34384825]. \t  -30.32466194277184 \t -0.5499315281120278\n",
            "18     \t [-2.15547312 11.04460089]. \t  -5.728217750031557 \t -0.5499315281120278\n",
            "19     \t [-1.84609561  5.60910421]. \t  -21.59756774994358 \t -0.5499315281120278\n",
            "20     \t [7.1578892  6.23580748]. \t  -41.248437672793656 \t -0.5499315281120278\n"
          ]
        }
      ]
    },
    {
      "cell_type": "code",
      "metadata": {
        "id": "9BsKdU9eJTFL",
        "colab": {
          "base_uri": "https://localhost:8080/"
        },
        "outputId": "0108cf31-6e89-412b-c404-406aab307af4"
      },
      "source": [
        "### EXACT GP EI GRADIENTS\n",
        "\n",
        "np.random.seed(run_num_13)\n",
        "surrogate_exact_13 = dGaussianProcess(cov_func, optimize=opt)\n",
        "\n",
        "exact_13 = dGPGO(surrogate_exact_13, Acquisition_new(util_grad_exact), objfunc, param)\n",
        "exact_13.run(init_evals=n_init, max_iter=iters)\n"
      ],
      "execution_count": null,
      "outputs": [
        {
          "output_type": "stream",
          "name": "stdout",
          "text": [
            "Evaluation \t Proposed point \t  Current eval. \t Best eval.\n",
            "init   \t [6.66553616 3.5631183 ]. \t  -24.823670200298267 \t -18.038943061558626\n",
            "init   \t [ 7.36417799 14.48623797]. \t  -188.7803334745195 \t -18.038943061558626\n",
            "init   \t [9.58901671 6.80173871]. \t  -18.038943061558626 \t -18.038943061558626\n",
            "init   \t [ 4.13563694 11.63289772]. \t  -104.87319703906111 \t -18.038943061558626\n",
            "init   \t [ 4.62420017 10.83027344]. \t  -98.03271225790056 \t -18.038943061558626\n",
            "1      \t [-3.51870171  3.68338658]. \t  -91.63196166423945 \t -18.038943061558626\n",
            "2      \t [-3.06562888 11.40851515]. \t  \u001b[92m-0.8943531028899869\u001b[0m \t -0.8943531028899869\n",
            "3      \t [2.50126004 0.        ]. \t  -10.293935734443487 \t -0.8943531028899869\n",
            "4      \t [1.77403168 5.06045191]. \t  -10.244460220886948 \t -0.8943531028899869\n",
            "5      \t [8.57494485 0.        ]. \t  -7.089419329860927 \t -0.8943531028899869\n",
            "6      \t [-0.41766712  8.86639134]. \t  -23.52524736032078 \t -0.8943531028899869\n",
            "7      \t [-5.          8.28447684]. \t  -91.98508281441575 \t -0.8943531028899869\n",
            "8      \t [-1.37632593  0.        ]. \t  -83.0082031411046 \t -0.8943531028899869\n",
            "9      \t [-1.3679854  14.98914354]. \t  -55.10126826249105 \t -0.8943531028899869\n",
            "10     \t [5.92302828 6.97641666]. \t  -53.456151209943094 \t -0.8943531028899869\n",
            "11     \t [ 9.12066286 10.58136739]. \t  -70.57682468704874 \t -0.8943531028899869\n",
            "12     \t [-5.  0.]. \t  -308.12909601160663 \t -0.8943531028899869\n",
            "13     \t [-5.         12.66579227]. \t  -33.168329904812666 \t -0.8943531028899869\n",
            "14     \t [5.3085122 0.4949847]. \t  -15.87640723978718 \t -0.8943531028899869\n",
            "15     \t [ 2.48346276 14.33847826]. \t  -134.52177308426045 \t -0.8943531028899869\n",
            "16     \t [-0.05618226  3.22930514]. \t  -27.769533950778676 \t -0.8943531028899869\n",
            "17     \t [9.38814117 2.42710199]. \t  \u001b[92m-0.4046255997461081\u001b[0m \t -0.4046255997461081\n",
            "18     \t [3.18163052 2.8854534 ]. \t  -0.8170666118494498 \t -0.4046255997461081\n",
            "19     \t [-0.59403225 11.77223985]. \t  -40.81726629719398 \t -0.4046255997461081\n",
            "20     \t [3.72721429 4.90841059]. \t  -11.274851753961377 \t -0.4046255997461081\n"
          ]
        }
      ]
    },
    {
      "cell_type": "code",
      "metadata": {
        "id": "k6GjFBr1JTJf",
        "colab": {
          "base_uri": "https://localhost:8080/"
        },
        "outputId": "4b93f25c-2014-4c2a-e8da-b4c0cd372fcb"
      },
      "source": [
        "### EXACT GP EI GRADIENTS\n",
        "\n",
        "np.random.seed(run_num_14)\n",
        "surrogate_exact_14 = dGaussianProcess(cov_func, optimize=opt)\n",
        "\n",
        "exact_14 = dGPGO(surrogate_exact_14, Acquisition_new(util_grad_exact), objfunc, param)\n",
        "exact_14.run(init_evals=n_init, max_iter=iters)\n"
      ],
      "execution_count": null,
      "outputs": [
        {
          "output_type": "stream",
          "name": "stdout",
          "text": [
            "Evaluation \t Proposed point \t  Current eval. \t Best eval.\n",
            "init   \t [ 2.70915016 11.59747578]. \t  -81.58264375064097 \t -1.4149920024014744\n",
            "init   \t [8.05641529 0.12070423]. \t  -10.148649076616518 \t -1.4149920024014744\n",
            "init   \t [-0.35396112 14.36405609]. \t  -79.6056658956529 \t -1.4149920024014744\n",
            "init   \t [2.69675068 4.77426637]. \t  -5.855607664288365 \t -1.4149920024014744\n",
            "init   \t [3.08799906 3.31882414]. \t  -1.4149920024014744 \t -1.4149920024014744\n",
            "1      \t [-4.22572169  4.73878507]. \t  -111.46482334173054 \t -1.4149920024014744\n",
            "2      \t [ 9.02510452 14.92575454]. \t  -164.15736583327134 \t -1.4149920024014744\n",
            "3      \t [8.4415984  6.61360555]. \t  -28.132050221972662 \t -1.4149920024014744\n",
            "4      \t [-0.28129203  0.        ]. \t  -60.92935277649973 \t -1.4149920024014744\n",
            "5      \t [-2.50407204  9.50550211]. \t  -3.947802937246821 \t -1.4149920024014744\n",
            "6      \t [-5.  0.]. \t  -308.12909601160663 \t -1.4149920024014744\n",
            "7      \t [ 7.00823659 10.77355664]. \t  -109.01240733833406 \t -1.4149920024014744\n",
            "8      \t [-5.         13.11467135]. \t  -29.310548126738183 \t -1.4149920024014744\n",
            "9      \t [6.06194093 2.80934849]. \t  -22.29239313392849 \t -1.4149920024014744\n",
            "10     \t [0.98975761 7.37512741]. \t  -23.244508479900254 \t -1.4149920024014744\n",
            "11     \t [3.75172836 0.        ]. \t  -5.542804059363574 \t -1.4149920024014744\n",
            "12     \t [-5.          8.59010117]. \t  -86.63661364815358 \t -1.4149920024014744\n",
            "13     \t [-0.85682591  3.9894286 ]. \t  -28.322450747294944 \t -1.4149920024014744\n",
            "14     \t [3.4764444  8.47352748]. \t  -42.471540590308955 \t -1.4149920024014744\n",
            "15     \t [2.71718449 1.55273988]. \t  -2.408630762747846 \t -1.4149920024014744\n",
            "16     \t [-1.60787794 11.14874264]. \t  -14.732420558694784 \t -1.4149920024014744\n",
            "17     \t [5.53015333 5.64225844]. \t  -37.192689980773 \t -1.4149920024014744\n",
            "18     \t [-1.85267673  8.11561832]. \t  -8.958308653107006 \t -1.4149920024014744\n",
            "19     \t [5.52647283 0.14989255]. \t  -17.981653394253907 \t -1.4149920024014744\n",
            "20     \t [ 5.23804075 14.29009318]. \t  -185.96336804322019 \t -1.4149920024014744\n"
          ]
        }
      ]
    },
    {
      "cell_type": "code",
      "metadata": {
        "id": "dPS8WB3aJTN6",
        "colab": {
          "base_uri": "https://localhost:8080/"
        },
        "outputId": "48a60559-b9e6-4137-b574-afc62135a7f3"
      },
      "source": [
        "### EXACT GP EI GRADIENTS\n",
        "\n",
        "np.random.seed(run_num_15)\n",
        "surrogate_exact_15 = dGaussianProcess(cov_func, optimize=opt)\n",
        "\n",
        "exact_15 = dGPGO(surrogate_exact_15, Acquisition_new(util_grad_exact), objfunc, param)\n",
        "exact_15.run(init_evals=n_init, max_iter=iters)\n"
      ],
      "execution_count": null,
      "outputs": [
        {
          "output_type": "stream",
          "name": "stdout",
          "text": [
            "Evaluation \t Proposed point \t  Current eval. \t Best eval.\n",
            "init   \t [7.73226546 2.68343887]. \t  -12.768724532005583 \t -12.768724532005583\n",
            "init   \t [-4.18455179  5.42307669]. \t  -95.39334176626551 \t -12.768724532005583\n",
            "init   \t [-0.86898607  7.95000337]. \t  -16.419487782111716 \t -12.768724532005583\n",
            "init   \t [-0.41121626  4.56711539]. \t  -23.250362743740954 \t -12.768724532005583\n",
            "init   \t [-3.32388086  3.74848521]. \t  -80.99796277938532 \t -12.768724532005583\n",
            "1      \t [ 6.5655417  11.87699252]. \t  -134.95011349993544 \t -12.768724532005583\n",
            "2      \t [-4.77493765 13.49591113]. \t  -19.896906503438096 \t -12.768724532005583\n",
            "3      \t [3.02212362 0.        ]. \t  \u001b[92m-6.083291596856743\u001b[0m \t -6.083291596856743\n",
            "4      \t [4.35171178 6.82765368]. \t  -34.77770964446557 \t -6.083291596856743\n",
            "5      \t [-0.95276022  0.        ]. \t  -73.83615148837168 \t -6.083291596856743\n",
            "6      \t [ 0.88141399 12.8616488 ]. \t  -82.76006345674953 \t -6.083291596856743\n",
            "7      \t [9.8673558  5.57328662]. \t  -8.611202245125636 \t -6.083291596856743\n",
            "8      \t [-5.          9.47291954]. \t  -72.23634612363816 \t -6.083291596856743\n",
            "9      \t [-5.  0.]. \t  -308.12909601160663 \t -6.083291596856743\n",
            "10     \t [3.44171537 3.17116949]. \t  \u001b[92m-2.078336243804074\u001b[0m \t -2.078336243804074\n",
            "11     \t [5.81294127 0.08736714]. \t  -19.613027746530964 \t -2.078336243804074\n",
            "12     \t [1.55889542 1.74934629]. \t  -14.45538082954686 \t -2.078336243804074\n",
            "13     \t [ 9.9505216  13.43399879]. \t  -111.52117530928861 \t -2.078336243804074\n",
            "14     \t [9.45003777 8.95107782]. \t  -42.06395037319377 \t -2.078336243804074\n",
            "15     \t [2.1256102 9.3166618]. \t  -42.3471038208598 \t -2.078336243804074\n",
            "16     \t [-2.44198356 11.93566658]. \t  -4.288721947669445 \t -2.078336243804074\n",
            "17     \t [4.14127555 4.01341598]. \t  -10.516358620089619 \t -2.078336243804074\n",
            "18     \t [4.71970606 1.81358616]. \t  -10.270574103606705 \t -2.078336243804074\n",
            "19     \t [7.18230925 5.67217929]. \t  -35.68117293646128 \t -2.078336243804074\n",
            "20     \t [ 3.5702815  14.76405073]. \t  -165.09721658802542 \t -2.078336243804074\n"
          ]
        }
      ]
    },
    {
      "cell_type": "code",
      "metadata": {
        "id": "SHWdp2giJTRm",
        "colab": {
          "base_uri": "https://localhost:8080/"
        },
        "outputId": "beb493c1-662a-4b54-ef77-5dab77bf13b4"
      },
      "source": [
        "### EXACT GP EI GRADIENTS\n",
        "\n",
        "np.random.seed(run_num_16)\n",
        "surrogate_exact_16 = dGaussianProcess(cov_func, optimize=opt)\n",
        "\n",
        "exact_16 = dGPGO(surrogate_exact_16, Acquisition_new(util_grad_exact), objfunc, param)\n",
        "exact_16.run(init_evals=n_init, max_iter=iters)\n"
      ],
      "execution_count": null,
      "outputs": [
        {
          "output_type": "stream",
          "name": "stdout",
          "text": [
            "Evaluation \t Proposed point \t  Current eval. \t Best eval.\n",
            "init   \t [-1.65063381  7.84745012]. \t  -10.514702126319445 \t -2.715864006988424\n",
            "init   \t [3.26052185 0.68402925]. \t  -2.715864006988424 \t -2.715864006988424\n",
            "init   \t [0.41093253 3.34621413]. \t  -22.889515127492515 \t -2.715864006988424\n",
            "init   \t [5.33089243 2.45597138]. \t  -17.178157611778595 \t -2.715864006988424\n",
            "init   \t [-3.945127  14.1151629]. \t  -3.3649224341694195 \t -2.715864006988424\n",
            "1      \t [ 5.63879248 14.58068289]. \t  -198.51319639462758 \t -2.715864006988424\n",
            "2      \t [9.4202829  9.76772141]. \t  -53.637049482645274 \t -2.715864006988424\n",
            "3      \t [-5.          2.97904462]. \t  -214.599978788139 \t -2.715864006988424\n",
            "4      \t [3.94595588 8.63361763]. \t  -50.9823562707124 \t -2.715864006988424\n",
            "5      \t [-5.         10.25045351]. \t  -60.84442629231879 \t -2.715864006988424\n",
            "6      \t [ 0.37481671 13.2972156 ]. \t  -80.96065502264867 \t -2.715864006988424\n",
            "7      \t [9.25810749 0.8143285 ]. \t  -2.8525180892544473 \t -2.715864006988424\n",
            "8      \t [7.59242497 5.7896689 ]. \t  -32.07737625541662 \t -2.715864006988424\n",
            "9      \t [-1.67294403  0.        ]. \t  -90.45574260370171 \t -2.715864006988424\n",
            "10     \t [-5.          6.79349233]. \t  -120.75623903175178 \t -2.715864006988424\n",
            "11     \t [ 9.20004865 14.84302025]. \t  -158.1684434279309 \t -2.715864006988424\n",
            "12     \t [6.62535116 0.05871059]. \t  -20.18462081285302 \t -2.715864006988424\n",
            "13     \t [2.60841922 5.55039909]. \t  -9.699299195088187 \t -2.715864006988424\n",
            "14     \t [0.85705063 7.56260495]. \t  -24.305036656170365 \t -2.715864006988424\n",
            "15     \t [9.2162404 3.20128  ]. \t  \u001b[92m-1.409753702479545\u001b[0m \t -1.409753702479545\n",
            "16     \t [ 5.85148815 10.87196181]. \t  -114.01056710603525 \t -1.409753702479545\n",
            "17     \t [ 0.5259478 10.1439037]. \t  -42.75977591688675 \t -1.409753702479545\n",
            "18     \t [-2.95566296 12.76969125]. \t  -1.4414611113251539 \t -1.409753702479545\n",
            "19     \t [-1.82001815  5.11681602]. \t  -25.336817924429575 \t -1.409753702479545\n",
            "20     \t [4.77270681 4.93516873]. \t  -23.45622035657165 \t -1.409753702479545\n"
          ]
        }
      ]
    },
    {
      "cell_type": "code",
      "metadata": {
        "id": "yU2SflSsJTUs",
        "colab": {
          "base_uri": "https://localhost:8080/"
        },
        "outputId": "8e05389c-335e-4d3c-c5a5-8b544704ad1c"
      },
      "source": [
        "### EXACT GP EI GRADIENTS\n",
        "\n",
        "np.random.seed(run_num_17)\n",
        "surrogate_exact_17 = dGaussianProcess(cov_func, optimize=opt)\n",
        "\n",
        "exact_17 = dGPGO(surrogate_exact_17, Acquisition_new(util_grad_exact), objfunc, param)\n",
        "exact_17.run(init_evals=n_init, max_iter=iters)\n"
      ],
      "execution_count": null,
      "outputs": [
        {
          "output_type": "stream",
          "name": "stdout",
          "text": [
            "Evaluation \t Proposed point \t  Current eval. \t Best eval.\n",
            "init   \t [-0.58002496  7.95880133]. \t  -19.016141117164256 \t -19.016141117164256\n",
            "init   \t [-2.1271882   1.01850537]. \t  -85.05949339404415 \t -19.016141117164256\n",
            "init   \t [6.8047819  9.84500283]. \t  -93.89792695202516 \t -19.016141117164256\n",
            "init   \t [4.56281344 8.63404341]. \t  -60.50217141122736 \t -19.016141117164256\n",
            "init   \t [-4.41405626  5.36720407]. \t  -110.70834086593878 \t -19.016141117164256\n",
            "1      \t [9.76575296 0.98553483]. \t  \u001b[92m-4.1623278326263815\u001b[0m \t -4.1623278326263815\n",
            "2      \t [-0.36591853 14.49945231]. \t  -81.3728947682288 \t -4.1623278326263815\n",
            "3      \t [3.74599703 2.35814314]. \t  \u001b[92m-2.3563457989420957\u001b[0m \t -2.3563457989420957\n",
            "4      \t [-4.55592013 10.78104721]. \t  -35.03990542982294 \t -2.3563457989420957\n",
            "5      \t [ 4.90329936 14.65548099]. \t  -190.13600881699344 \t -2.3563457989420957\n",
            "6      \t [0.90202099 4.10045519]. \t  -16.277366428872963 \t -2.3563457989420957\n",
            "7      \t [7.03357696 4.77025982]. \t  -29.794040014128484 \t -2.3563457989420957\n",
            "8      \t [1.9521864 0.       ]. \t  -17.88641401751432 \t -2.3563457989420957\n",
            "9      \t [6.27556031 0.        ]. \t  -20.8113161213993 \t -2.3563457989420957\n",
            "10     \t [ 1.79771912 10.8908491 ]. \t  -61.634754102813396 \t -2.3563457989420957\n",
            "11     \t [8.846131   7.38283807]. \t  -30.612303731026714 \t -2.3563457989420957\n",
            "12     \t [-4.399394   13.62172657]. \t  -10.579509385491784 \t -2.3563457989420957\n",
            "13     \t [ 9.27506985 14.41868491]. \t  -146.11950538577977 \t -2.3563457989420957\n",
            "14     \t [3.9431054  4.65646102]. \t  -11.867640322485382 \t -2.3563457989420957\n",
            "15     \t [1.92018042 6.62059025]. \t  -16.955169769130418 \t -2.3563457989420957\n",
            "16     \t [-5.  0.]. \t  -308.12909601160663 \t -2.3563457989420957\n",
            "17     \t [-1.42695661  4.36132053]. \t  -28.788647369019156 \t -2.3563457989420957\n",
            "18     \t [-1.46157297 10.87826757]. \t  -16.227497660462404 \t -2.3563457989420957\n",
            "19     \t [7.37952128 2.25770156]. \t  -15.322921723861967 \t -2.3563457989420957\n",
            "20     \t [9.9683401  3.23455468]. \t  \u001b[92m-1.8509281105180317\u001b[0m \t -1.8509281105180317\n"
          ]
        }
      ]
    },
    {
      "cell_type": "code",
      "metadata": {
        "id": "es0KCh_0JTgY",
        "colab": {
          "base_uri": "https://localhost:8080/"
        },
        "outputId": "7fd37df4-5fa0-46bd-aa6d-ea95d671a1a6"
      },
      "source": [
        "### EXACT GP EI GRADIENTS\n",
        "\n",
        "np.random.seed(run_num_18)\n",
        "surrogate_exact_18 = dGaussianProcess(cov_func, optimize=opt)\n",
        "\n",
        "exact_18 = dGPGO(surrogate_exact_18, Acquisition_new(util_grad_exact), objfunc, param)\n",
        "exact_18.run(init_evals=n_init, max_iter=iters)\n"
      ],
      "execution_count": null,
      "outputs": [
        {
          "output_type": "stream",
          "name": "stdout",
          "text": [
            "Evaluation \t Proposed point \t  Current eval. \t Best eval.\n",
            "init   \t [4.75561363 7.58180061]. \t  -49.215059064668324 \t -8.150075223157177\n",
            "init   \t [8.17902206 2.72760338]. \t  -8.150075223157177 \t -8.150075223157177\n",
            "init   \t [ 7.78349603 11.25204429]. \t  -106.98107856533271 \t -8.150075223157177\n",
            "init   \t [ 4.99152501 14.81843172]. \t  -196.08601750690153 \t -8.150075223157177\n",
            "init   \t [-1.14547366  0.42458888]. \t  -71.23649635555944 \t -8.150075223157177\n",
            "1      \t [-4.83474958 11.77354131]. \t  -35.58412906267954 \t -8.150075223157177\n",
            "2      \t [-0.81273809  6.75772231]. \t  -16.987367428186804 \t -8.150075223157177\n",
            "3      \t [-5.          1.59202772]. \t  -255.93814160760837 \t -8.150075223157177\n",
            "4      \t [4.09807515 0.        ]. \t  \u001b[92m-7.178840366251819\u001b[0m \t -7.178840366251819\n",
            "5      \t [-0.12756076 10.65515995]. \t  -39.32694072921518 \t -7.178840366251819\n",
            "6      \t [-4.9478767   6.19692083]. \t  -129.75673551258598 \t -7.178840366251819\n",
            "7      \t [3.63433759 3.53328753]. \t  \u001b[92m-4.136121365909651\u001b[0m \t -4.136121365909651\n",
            "8      \t [ 9.16130626 14.89382603]. \t  -160.29925030784023 \t -4.136121365909651\n",
            "9      \t [-0.51657686 14.28710066]. \t  -73.5610643915935 \t -4.136121365909651\n",
            "10     \t [7.13414828 5.37074986]. \t  -33.55374113116462 \t -4.136121365909651\n",
            "11     \t [6.87707421 0.11511098]. \t  -19.059100363173943 \t -4.136121365909651\n",
            "12     \t [0.49941445 3.84380035]. \t  -20.371398645814608 \t -4.136121365909651\n",
            "13     \t [9.68749597 0.65488194]. \t  -4.932493670356733 \t -4.136121365909651\n",
            "14     \t [9.97771313 6.68669409]. \t  -15.561572752775657 \t -4.136121365909651\n",
            "15     \t [ 2.96618976 12.52927164]. \t  -102.82825445036525 \t -4.136121365909651\n",
            "16     \t [1.71257457 7.16856201]. \t  -21.000676721894568 \t -4.136121365909651\n",
            "17     \t [-3.73906589 14.71091056]. \t  \u001b[92m-2.9713305816493936\u001b[0m \t -2.9713305816493936\n",
            "18     \t [2.12107974 1.38178927]. \t  -8.30431700222905 \t -2.9713305816493936\n",
            "19     \t [-3.41484408  9.35756705]. \t  -13.597528105840384 \t -2.9713305816493936\n",
            "20     \t [4.95699633 3.57816124]. \t  -17.584016565775595 \t -2.9713305816493936\n"
          ]
        }
      ]
    },
    {
      "cell_type": "code",
      "metadata": {
        "id": "Pput2LHPIwBM",
        "colab": {
          "base_uri": "https://localhost:8080/"
        },
        "outputId": "b4bb7bd8-f514-493b-87e1-0f54999981f6"
      },
      "source": [
        "### EXACT GP EI GRADIENTS\n",
        "\n",
        "np.random.seed(run_num_19)\n",
        "surrogate_exact_19 = dGaussianProcess(cov_func, optimize=opt)\n",
        "\n",
        "exact_19 = dGPGO(surrogate_exact_19, Acquisition_new(util_grad_exact), objfunc, param)\n",
        "exact_19.run(init_evals=n_init, max_iter=iters)\n"
      ],
      "execution_count": null,
      "outputs": [
        {
          "output_type": "stream",
          "name": "stdout",
          "text": [
            "Evaluation \t Proposed point \t  Current eval. \t Best eval.\n",
            "init   \t [-3.53699597 11.41874575]. \t  -4.475608269502271 \t -4.475608269502271\n",
            "init   \t [-1.2959304   2.07197531]. \t  -51.13947793770689 \t -4.475608269502271\n",
            "init   \t [-0.02830155  1.24499348]. \t  -42.63973921760034 \t -4.475608269502271\n",
            "init   \t [ 5.07965622 12.09890697]. \t  -131.17235664506808 \t -4.475608269502271\n",
            "init   \t [9.74112872 9.53491102]. \t  -46.84458913925112 \t -4.475608269502271\n",
            "1      \t [9.57054653 2.03489665]. \t  \u001b[92m-0.8198597583535783\u001b[0m \t -0.8198597583535783\n",
            "2      \t [-5.          6.54240853]. \t  -126.03874562590048 \t -0.8198597583535783\n",
            "3      \t [1.88138812 7.36103219]. \t  -22.260488293127565 \t -0.8198597583535783\n",
            "4      \t [5.21307192 0.        ]. \t  -16.082736923380203 \t -0.8198597583535783\n",
            "5      \t [6.89304699 4.9685997 ]. \t  -32.319774400947445 \t -0.8198597583535783\n",
            "6      \t [ 0.31300644 13.28548082]. \t  -79.52384335078895 \t -0.8198597583535783\n",
            "7      \t [-5.  0.]. \t  -308.12909601160663 \t -0.8198597583535783\n",
            "8      \t [2.72758269 3.93544973]. \t  -2.9394971415203157 \t -0.8198597583535783\n",
            "9      \t [4.91279558 8.35995194]. \t  -61.768746630173375 \t -0.8198597583535783\n",
            "10     \t [9.7443578 4.1118297]. \t  -2.7175544112089245 \t -0.8198597583535783\n",
            "11     \t [-1.71595687  9.03384192]. \t  -8.617059615268671 \t -0.8198597583535783\n",
            "12     \t [8.89959955 0.        ]. \t  -5.9670210937757115 \t -0.8198597583535783\n",
            "13     \t [ 9.95156532 14.49046213]. \t  -134.76181959877127 \t -0.8198597583535783\n",
            "14     \t [0.25694315 4.89398255]. \t  -19.78477125196528 \t -0.8198597583535783\n",
            "15     \t [-4.8663682  12.90107433]. \t  -26.708279309065674 \t -0.8198597583535783\n",
            "16     \t [4.50575437 2.75516139]. \t  -9.729362976119578 \t -0.8198597583535783\n",
            "17     \t [7.48148105 2.00988446]. \t  -13.965577814022371 \t -0.8198597583535783\n",
            "18     \t [0.6103655  9.92694001]. \t  -41.39316663915125 \t -0.8198597583535783\n",
            "19     \t [9.68721619 3.33511031]. \t  -1.1233602325747238 \t -0.8198597583535783\n",
            "20     \t [-3.75530332  3.41298185]. \t  -110.01013762492266 \t -0.8198597583535783\n"
          ]
        }
      ]
    },
    {
      "cell_type": "code",
      "metadata": {
        "id": "aw3xvSryIwDi",
        "colab": {
          "base_uri": "https://localhost:8080/"
        },
        "outputId": "7c75e354-6e9d-449e-8f68-b2b012edf8d1"
      },
      "source": [
        "### EXACT GP EI GRADIENTS\n",
        "\n",
        "np.random.seed(run_num_20)\n",
        "surrogate_exact_20 = dGaussianProcess(cov_func, optimize=opt)\n",
        "\n",
        "exact_20 = dGPGO(surrogate_exact_20, Acquisition_new(util_grad_exact), objfunc, param)\n",
        "exact_20.run(init_evals=n_init, max_iter=iters)\n"
      ],
      "execution_count": null,
      "outputs": [
        {
          "output_type": "stream",
          "name": "stdout",
          "text": [
            "Evaluation \t Proposed point \t  Current eval. \t Best eval.\n",
            "init   \t [ 3.82196202 13.46570592]. \t  -138.5264349938869 \t -14.042667401507376\n",
            "init   \t [ 8.37296094 12.23756216]. \t  -115.63178540512689 \t -14.042667401507376\n",
            "init   \t [-4.46165622 10.37636373]. \t  -35.66708529307584 \t -14.042667401507376\n",
            "init   \t [0.68021413 7.77766418]. \t  -25.307769914281764 \t -14.042667401507376\n",
            "init   \t [4.86927198 2.90775327]. \t  -14.042667401507376 \t -14.042667401507376\n",
            "1      \t [-0.55245589  2.17087824]. \t  -40.71539242209087 \t -14.042667401507376\n",
            "2      \t [7.53979655 6.90105923]. \t  -43.84846144433857 \t -14.042667401507376\n",
            "3      \t [-5.  0.]. \t  -308.12909601160663 \t -14.042667401507376\n",
            "4      \t [-4.04599663  5.55984253]. \t  -84.96225972165362 \t -14.042667401507376\n",
            "5      \t [-1.8272025  14.05429763]. \t  -29.795226417857446 \t -14.042667401507376\n",
            "6      \t [8.57377587 0.20539103]. \t  \u001b[92m-6.3770995162900785\u001b[0m \t -6.3770995162900785\n",
            "7      \t [2.78616162 0.        ]. \t  -7.595276359645523 \t -6.3770995162900785\n",
            "8      \t [3.8726305  9.34917545]. \t  -60.235718663139956 \t -6.3770995162900785\n",
            "9      \t [5.7180333 0.       ]. \t  -19.370792762444275 \t -6.3770995162900785\n",
            "10     \t [2.16416881 4.74804586]. \t  -7.15064187808985 \t -6.3770995162900785\n",
            "11     \t [9.51045252 2.13838302]. \t  \u001b[92m-0.6010696989169553\u001b[0m \t -0.6010696989169553\n",
            "12     \t [-5.         13.19647551]. \t  -28.650914321560983 \t -0.6010696989169553\n",
            "13     \t [ 0.18630747 11.12033688]. \t  -48.72970022450014 \t -0.6010696989169553\n",
            "14     \t [6.74817345 4.23104671]. \t  -28.120310894164987 \t -0.6010696989169553\n",
            "15     \t [ 0.64846343 14.82049302]. \t  -113.65835507107008 \t -0.6010696989169553\n",
            "16     \t [-1.7825099   7.42291089]. \t  -11.311073673011823 \t -0.6010696989169553\n",
            "17     \t [9.3356287  4.01328396]. \t  -3.0360350460060594 \t -0.6010696989169553\n",
            "18     \t [0.77470821 0.        ]. \t  -40.33154327417555 \t -0.6010696989169553\n",
            "19     \t [-0.76410313  5.03226427]. \t  -22.037049914881763 \t -0.6010696989169553\n",
            "20     \t [2.36395502 2.48216777]. \t  -3.385705551202866 \t -0.6010696989169553\n"
          ]
        }
      ]
    },
    {
      "cell_type": "code",
      "metadata": {
        "id": "qNqAB3vBTPqb",
        "colab": {
          "base_uri": "https://localhost:8080/"
        },
        "outputId": "6c8f7e97-00e8-46dc-fb8b-3090c1a51ab9"
      },
      "source": [
        "end_exact = time.time()\n",
        "end_exact\n",
        "\n",
        "time_exact = end_exact - start_exact\n",
        "time_exact"
      ],
      "execution_count": null,
      "outputs": [
        {
          "output_type": "execute_result",
          "data": {
            "text/plain": [
              "643.4609100818634"
            ]
          },
          "metadata": {},
          "execution_count": 57
        }
      ]
    },
    {
      "cell_type": "code",
      "metadata": {
        "id": "JPQzjdBZQxfg",
        "colab": {
          "base_uri": "https://localhost:8080/"
        },
        "outputId": "48a9e384-de74-4b54-8ebd-a94e278eb107"
      },
      "source": [
        "### Simple regret minimization: run number = 1\n",
        "\n",
        "approx_output_1 = np.append(np.min(approx_1.GP.y[0:n_init]),approx_1.GP.y[n_init:(n_init+iters)]) \n",
        "exact_output_1 = np.append(np.min(exact_1.GP.y[0:n_init]),exact_1.GP.y[n_init:(n_init+iters)]) \n",
        "\n",
        "regret_approx_1 = np.log(-approx_output_1 + y_global_orig)\n",
        "regret_exact_1 = np.log(-exact_output_1 + y_global_orig)\n",
        "\n",
        "simple_regret_approx_1 = min_max_array(regret_approx_1)\n",
        "simple_regret_exact_1 = min_max_array(regret_exact_1)\n",
        "\n",
        "min_simple_regret_approx_1 = min(simple_regret_approx_1)\n",
        "min_simple_regret_exact_1 = min(simple_regret_exact_1)\n",
        "\n",
        "min_simple_regret_approx_1, min_simple_regret_exact_1"
      ],
      "execution_count": null,
      "outputs": [
        {
          "output_type": "execute_result",
          "data": {
            "text/plain": [
              "(1.3700178942367358, -1.3756284297896297)"
            ]
          },
          "metadata": {},
          "execution_count": 58
        }
      ]
    },
    {
      "cell_type": "code",
      "metadata": {
        "id": "94yBw5tqQxfk",
        "colab": {
          "base_uri": "https://localhost:8080/"
        },
        "outputId": "a073ddb0-611a-48a4-e0e8-79be4b23b8e5"
      },
      "source": [
        "### Simple regret minimization: run number = 2\n",
        "\n",
        "approx_output_2 = np.append(np.min(approx_2.GP.y[0:n_init]),approx_2.GP.y[n_init:(n_init+iters)]) \n",
        "exact_output_2 = np.append(np.min(exact_2.GP.y[0:n_init]),exact_2.GP.y[n_init:(n_init+iters)]) \n",
        "\n",
        "regret_approx_2 = np.log(-approx_output_2 + y_global_orig)\n",
        "regret_exact_2 = np.log(-exact_output_2 + y_global_orig)\n",
        "\n",
        "simple_regret_approx_2 = min_max_array(regret_approx_2)\n",
        "simple_regret_exact_2 = min_max_array(regret_exact_2)\n",
        "\n",
        "min_simple_regret_approx_2 = min(simple_regret_approx_2)\n",
        "min_simple_regret_exact_2 = min(simple_regret_exact_2)\n",
        "\n",
        "min_simple_regret_approx_2, min_simple_regret_exact_2"
      ],
      "execution_count": null,
      "outputs": [
        {
          "output_type": "execute_result",
          "data": {
            "text/plain": [
              "(0.0005721783316311656, -1.9490131153703354)"
            ]
          },
          "metadata": {},
          "execution_count": 59
        }
      ]
    },
    {
      "cell_type": "code",
      "metadata": {
        "id": "Bu6SBWALQxfl",
        "colab": {
          "base_uri": "https://localhost:8080/"
        },
        "outputId": "1b37d19c-206b-4cf6-be53-57ba499787f8"
      },
      "source": [
        "### Simple regret minimization: run number = 3\n",
        "\n",
        "approx_output_3 = np.append(np.min(approx_3.GP.y[0:n_init]),approx_3.GP.y[n_init:(n_init+iters)]) \n",
        "exact_output_3 = np.append(np.min(exact_3.GP.y[0:n_init]),exact_3.GP.y[n_init:(n_init+iters)]) \n",
        "\n",
        "regret_approx_3 = np.log(-approx_output_3 + y_global_orig)\n",
        "regret_exact_3 = np.log(-exact_output_3 + y_global_orig)\n",
        "\n",
        "simple_regret_approx_3 = min_max_array(regret_approx_3)\n",
        "simple_regret_exact_3 = min_max_array(regret_exact_3)\n",
        "\n",
        "min_simple_regret_approx_3 = min(simple_regret_approx_3)\n",
        "min_simple_regret_exact_3 = min(simple_regret_exact_3)\n",
        "\n",
        "min_simple_regret_approx_3, min_simple_regret_exact_3"
      ],
      "execution_count": null,
      "outputs": [
        {
          "output_type": "execute_result",
          "data": {
            "text/plain": [
              "(0.588697756495755, 1.164129196584808)"
            ]
          },
          "metadata": {},
          "execution_count": 60
        }
      ]
    },
    {
      "cell_type": "code",
      "metadata": {
        "id": "AZm0jgxkQxfm",
        "colab": {
          "base_uri": "https://localhost:8080/"
        },
        "outputId": "ffa79e1a-f0ea-49e8-b657-1338a4f66e45"
      },
      "source": [
        "### Simple regret minimization: run number = 4\n",
        "\n",
        "approx_output_4 = np.append(np.min(approx_4.GP.y[0:n_init]),approx_4.GP.y[n_init:(n_init+iters)]) \n",
        "exact_output_4 = np.append(np.min(exact_4.GP.y[0:n_init]),exact_4.GP.y[n_init:(n_init+iters)]) \n",
        "\n",
        "regret_approx_4 = np.log(-approx_output_4 + y_global_orig)\n",
        "regret_exact_4 = np.log(-exact_output_4 + y_global_orig)\n",
        "\n",
        "simple_regret_approx_4 = min_max_array(regret_approx_4)\n",
        "simple_regret_exact_4 = min_max_array(regret_exact_4)\n",
        "\n",
        "min_simple_regret_approx_4 = min(simple_regret_approx_4)\n",
        "min_simple_regret_exact_4 = min(simple_regret_exact_4)\n",
        "\n",
        "min_simple_regret_approx_4, min_simple_regret_exact_4"
      ],
      "execution_count": null,
      "outputs": [
        {
          "output_type": "execute_result",
          "data": {
            "text/plain": [
              "(0.9093022047308048, 1.3793515010391477)"
            ]
          },
          "metadata": {},
          "execution_count": 61
        }
      ]
    },
    {
      "cell_type": "code",
      "metadata": {
        "id": "NONPm8JIQxfn",
        "colab": {
          "base_uri": "https://localhost:8080/"
        },
        "outputId": "b7f7bf60-f9ab-498d-eec7-1252c3040999"
      },
      "source": [
        "### Simple regret minimization: run number = 5\n",
        "\n",
        "approx_output_5 = np.append(np.min(approx_5.GP.y[0:n_init]),approx_5.GP.y[n_init:(n_init+iters)]) \n",
        "exact_output_5 = np.append(np.min(exact_5.GP.y[0:n_init]),exact_5.GP.y[n_init:(n_init+iters)]) \n",
        "\n",
        "regret_approx_5 = np.log(-approx_output_5 + y_global_orig)\n",
        "regret_exact_5 = np.log(-exact_output_5 + y_global_orig)\n",
        "\n",
        "simple_regret_approx_5 = min_max_array(regret_approx_5)\n",
        "simple_regret_exact_5 = min_max_array(regret_exact_5)\n",
        "\n",
        "min_simple_regret_approx_5 = min(simple_regret_approx_5)\n",
        "min_simple_regret_exact_5 = min(simple_regret_exact_5)\n",
        "\n",
        "min_simple_regret_approx_5, min_simple_regret_exact_5"
      ],
      "execution_count": null,
      "outputs": [
        {
          "output_type": "execute_result",
          "data": {
            "text/plain": [
              "(1.2009499928706422, -0.11800119797963454)"
            ]
          },
          "metadata": {},
          "execution_count": 62
        }
      ]
    },
    {
      "cell_type": "code",
      "metadata": {
        "id": "CJv3lPuSQxfp",
        "colab": {
          "base_uri": "https://localhost:8080/"
        },
        "outputId": "256bdbcd-b598-46df-ecbb-e0e11db945be"
      },
      "source": [
        "### Simple regret minimization: run number = 6\n",
        "\n",
        "approx_output_6 = np.append(np.min(approx_6.GP.y[0:n_init]),approx_6.GP.y[n_init:(n_init+iters)]) \n",
        "exact_output_6 = np.append(np.min(exact_6.GP.y[0:n_init]),exact_6.GP.y[n_init:(n_init+iters)]) \n",
        "\n",
        "regret_approx_6 = np.log(-approx_output_6 + y_global_orig)\n",
        "regret_exact_6 = np.log(-exact_output_6 + y_global_orig)\n",
        "\n",
        "simple_regret_approx_6 = min_max_array(regret_approx_6)\n",
        "simple_regret_exact_6 = min_max_array(regret_exact_6)\n",
        "\n",
        "min_simple_regret_approx_6 = min(simple_regret_approx_6)\n",
        "min_simple_regret_exact_6 = min(simple_regret_exact_6)\n",
        "\n",
        "min_simple_regret_approx_6, min_simple_regret_exact_6"
      ],
      "execution_count": null,
      "outputs": [
        {
          "output_type": "execute_result",
          "data": {
            "text/plain": [
              "(0.18698229369438288, -3.5815307805908434)"
            ]
          },
          "metadata": {},
          "execution_count": 63
        }
      ]
    },
    {
      "cell_type": "code",
      "metadata": {
        "id": "quR2ZyApQxfq",
        "colab": {
          "base_uri": "https://localhost:8080/"
        },
        "outputId": "5d1a1785-66a7-471c-8f43-fffe1e8f559e"
      },
      "source": [
        "### Simple regret minimization: run number = 7\n",
        "\n",
        "approx_output_7 = np.append(np.min(approx_7.GP.y[0:n_init]),approx_7.GP.y[n_init:(n_init+iters)]) \n",
        "exact_output_7 = np.append(np.min(exact_7.GP.y[0:n_init]),exact_7.GP.y[n_init:(n_init+iters)]) \n",
        "\n",
        "regret_approx_7 = np.log(-approx_output_7 + y_global_orig)\n",
        "regret_exact_7 = np.log(-exact_output_7 + y_global_orig)\n",
        "\n",
        "simple_regret_approx_7 = min_max_array(regret_approx_7)\n",
        "simple_regret_exact_7 = min_max_array(regret_exact_7)\n",
        "\n",
        "min_simple_regret_approx_7 = min(simple_regret_approx_7)\n",
        "min_simple_regret_exact_7 = min(simple_regret_exact_7)\n",
        "\n",
        "min_simple_regret_approx_7, min_simple_regret_exact_7"
      ],
      "execution_count": null,
      "outputs": [
        {
          "output_type": "execute_result",
          "data": {
            "text/plain": [
              "(0.786821071388407, -0.28124602626130507)"
            ]
          },
          "metadata": {},
          "execution_count": 64
        }
      ]
    },
    {
      "cell_type": "code",
      "metadata": {
        "id": "99wY5nK6Qxfr",
        "colab": {
          "base_uri": "https://localhost:8080/"
        },
        "outputId": "a0e7bc4e-2433-427b-9c7d-56c4ac07a8a0"
      },
      "source": [
        "### Simple regret minimization: run number = 8\n",
        "\n",
        "approx_output_8 = np.append(np.min(approx_8.GP.y[0:n_init]),approx_8.GP.y[n_init:(n_init+iters)]) \n",
        "exact_output_8 = np.append(np.min(exact_8.GP.y[0:n_init]),exact_8.GP.y[n_init:(n_init+iters)]) \n",
        "\n",
        "regret_approx_8 = np.log(-approx_output_8 + y_global_orig)\n",
        "regret_exact_8 = np.log(-exact_output_8 + y_global_orig)\n",
        "\n",
        "simple_regret_approx_8 = min_max_array(regret_approx_8)\n",
        "simple_regret_exact_8 = min_max_array(regret_exact_8)\n",
        "\n",
        "min_simple_regret_approx_8 = min(simple_regret_approx_8)\n",
        "min_simple_regret_exact_8 = min(simple_regret_exact_8)\n",
        "\n",
        "min_simple_regret_approx_8, min_simple_regret_exact_8"
      ],
      "execution_count": null,
      "outputs": [
        {
          "output_type": "execute_result",
          "data": {
            "text/plain": [
              "(1.0741475700758296, 1.8085201290028612)"
            ]
          },
          "metadata": {},
          "execution_count": 65
        }
      ]
    },
    {
      "cell_type": "code",
      "metadata": {
        "id": "qt0P5t9qQxfs",
        "colab": {
          "base_uri": "https://localhost:8080/"
        },
        "outputId": "5c9d9dc4-b6d9-46f2-8edb-78d6c830595d"
      },
      "source": [
        "### Simple regret minimization: run number = 9\n",
        "\n",
        "approx_output_9 = np.append(np.min(approx_9.GP.y[0:n_init]),approx_9.GP.y[n_init:(n_init+iters)]) \n",
        "exact_output_9 = np.append(np.min(exact_9.GP.y[0:n_init]),exact_9.GP.y[n_init:(n_init+iters)]) \n",
        "\n",
        "regret_approx_9 = np.log(-approx_output_9 + y_global_orig)\n",
        "regret_exact_9 = np.log(-exact_output_9 + y_global_orig)\n",
        "\n",
        "simple_regret_approx_9 = min_max_array(regret_approx_9)\n",
        "simple_regret_exact_9 = min_max_array(regret_exact_9)\n",
        "\n",
        "min_simple_regret_approx_9 = min(simple_regret_approx_9)\n",
        "min_simple_regret_exact_9 = min(simple_regret_exact_9)\n",
        "\n",
        "min_simple_regret_approx_9, min_simple_regret_exact_9"
      ],
      "execution_count": null,
      "outputs": [
        {
          "output_type": "execute_result",
          "data": {
            "text/plain": [
              "(0.4530317897890098, 1.7575989650270891)"
            ]
          },
          "metadata": {},
          "execution_count": 66
        }
      ]
    },
    {
      "cell_type": "code",
      "metadata": {
        "id": "vx8to9stQxft",
        "colab": {
          "base_uri": "https://localhost:8080/"
        },
        "outputId": "c68ac274-c780-4d43-fded-8012393a3316"
      },
      "source": [
        "### Simple regret minimization: run number = 10\n",
        "\n",
        "approx_output_10 = np.append(np.min(approx_10.GP.y[0:n_init]),approx_10.GP.y[n_init:(n_init+iters)]) \n",
        "exact_output_10 = np.append(np.min(exact_10.GP.y[0:n_init]),exact_10.GP.y[n_init:(n_init+iters)]) \n",
        "\n",
        "regret_approx_10 = np.log(-approx_output_10 + y_global_orig)\n",
        "regret_exact_10 = np.log(-exact_output_10 + y_global_orig)\n",
        "\n",
        "simple_regret_approx_10 = min_max_array(regret_approx_10)\n",
        "simple_regret_exact_10 = min_max_array(regret_exact_10)\n",
        "\n",
        "min_simple_regret_approx_10 = min(simple_regret_approx_10)\n",
        "min_simple_regret_exact_10 = min(simple_regret_exact_10)\n",
        "\n",
        "min_simple_regret_approx_10, min_simple_regret_exact_10"
      ],
      "execution_count": null,
      "outputs": [
        {
          "output_type": "execute_result",
          "data": {
            "text/plain": [
              "(0.6062684931422699, 0.7440582239416507)"
            ]
          },
          "metadata": {},
          "execution_count": 67
        }
      ]
    },
    {
      "cell_type": "code",
      "metadata": {
        "id": "d-FGzWyHQxfu",
        "colab": {
          "base_uri": "https://localhost:8080/"
        },
        "outputId": "548c08eb-50a0-4c52-ca83-9a734cb6d9b6"
      },
      "source": [
        "### Simple regret minimization: run number = 11\n",
        "\n",
        "approx_output_11 = np.append(np.min(approx_11.GP.y[0:n_init]),approx_11.GP.y[n_init:(n_init+iters)]) \n",
        "exact_output_11 = np.append(np.min(exact_11.GP.y[0:n_init]),exact_11.GP.y[n_init:(n_init+iters)]) \n",
        "\n",
        "regret_approx_11 = np.log(-approx_output_11 + y_global_orig)\n",
        "regret_exact_11 = np.log(-exact_output_11 + y_global_orig)\n",
        "\n",
        "simple_regret_approx_11 = min_max_array(regret_approx_11)\n",
        "simple_regret_exact_11 = min_max_array(regret_exact_11)\n",
        "\n",
        "min_simple_regret_approx_11 = min(simple_regret_approx_11)\n",
        "min_simple_regret_exact_11 = min(simple_regret_exact_11)\n",
        "\n",
        "min_simple_regret_approx_11, min_simple_regret_exact_11"
      ],
      "execution_count": null,
      "outputs": [
        {
          "output_type": "execute_result",
          "data": {
            "text/plain": [
              "(0.4375408915546775, 0.9010367961576701)"
            ]
          },
          "metadata": {},
          "execution_count": 68
        }
      ]
    },
    {
      "cell_type": "code",
      "metadata": {
        "id": "SvtsssyjQxfv",
        "colab": {
          "base_uri": "https://localhost:8080/"
        },
        "outputId": "6eca86a9-5e40-4c68-ed4b-fb8a9bc16dd1"
      },
      "source": [
        "### Simple regret minimization: run number = 12\n",
        "\n",
        "approx_output_12 = np.append(np.min(approx_12.GP.y[0:n_init]),approx_12.GP.y[n_init:(n_init+iters)]) \n",
        "exact_output_12 = np.append(np.min(exact_12.GP.y[0:n_init]),exact_12.GP.y[n_init:(n_init+iters)]) \n",
        "\n",
        "regret_approx_12 = np.log(-approx_output_12 + y_global_orig)\n",
        "regret_exact_12 = np.log(-exact_output_12 + y_global_orig)\n",
        "\n",
        "simple_regret_approx_12 = min_max_array(regret_approx_12)\n",
        "simple_regret_exact_12 = min_max_array(regret_exact_12)\n",
        "\n",
        "min_simple_regret_approx_12 = min(simple_regret_approx_12)\n",
        "min_simple_regret_exact_12 = min(simple_regret_exact_12)\n",
        "\n",
        "min_simple_regret_approx_12, min_simple_regret_exact_12"
      ],
      "execution_count": null,
      "outputs": [
        {
          "output_type": "execute_result",
          "data": {
            "text/plain": [
              "(-0.415680339000338, 1.1455809009105582)"
            ]
          },
          "metadata": {},
          "execution_count": 69
        }
      ]
    },
    {
      "cell_type": "code",
      "metadata": {
        "id": "K6OiGcHkQxfw",
        "colab": {
          "base_uri": "https://localhost:8080/"
        },
        "outputId": "05c083c9-41f4-4b35-db1d-d0cc43169970"
      },
      "source": [
        "### Simple regret minimization: run number = 13\n",
        "\n",
        "approx_output_13 = np.append(np.min(approx_13.GP.y[0:n_init]),approx_13.GP.y[n_init:(n_init+iters)]) \n",
        "exact_output_13 = np.append(np.min(exact_13.GP.y[0:n_init]),exact_13.GP.y[n_init:(n_init+iters)]) \n",
        "\n",
        "regret_approx_13 = np.log(-approx_output_13 + y_global_orig)\n",
        "regret_exact_13 = np.log(-exact_output_13 + y_global_orig)\n",
        "\n",
        "simple_regret_approx_13 = min_max_array(regret_approx_13)\n",
        "simple_regret_exact_13 = min_max_array(regret_exact_13)\n",
        "\n",
        "min_simple_regret_approx_13 = min(simple_regret_approx_13)\n",
        "min_simple_regret_exact_13 = min(simple_regret_exact_13)\n",
        "\n",
        "min_simple_regret_approx_13, min_simple_regret_exact_13"
      ],
      "execution_count": null,
      "outputs": [
        {
          "output_type": "execute_result",
          "data": {
            "text/plain": [
              "(-0.7002400699524578, -4.999903128444473)"
            ]
          },
          "metadata": {},
          "execution_count": 70
        }
      ]
    },
    {
      "cell_type": "code",
      "metadata": {
        "id": "ogML73shQxfx",
        "colab": {
          "base_uri": "https://localhost:8080/"
        },
        "outputId": "72298eb6-a64e-4361-fc2e-3ed64df6ebb1"
      },
      "source": [
        "### Simple regret minimization: run number = 14\n",
        "\n",
        "approx_output_14 = np.append(np.min(approx_14.GP.y[0:n_init]),approx_14.GP.y[n_init:(n_init+iters)]) \n",
        "exact_output_14 = np.append(np.min(exact_14.GP.y[0:n_init]),exact_14.GP.y[n_init:(n_init+iters)]) \n",
        "\n",
        "regret_approx_14 = np.log(-approx_output_14 + y_global_orig)\n",
        "regret_exact_14 = np.log(-exact_output_14 + y_global_orig)\n",
        "\n",
        "simple_regret_approx_14 = min_max_array(regret_approx_14)\n",
        "simple_regret_exact_14 = min_max_array(regret_exact_14)\n",
        "\n",
        "min_simple_regret_approx_14 = min(simple_regret_approx_14)\n",
        "min_simple_regret_exact_14 = min(simple_regret_exact_14)\n",
        "\n",
        "min_simple_regret_approx_14, min_simple_regret_exact_14"
      ],
      "execution_count": null,
      "outputs": [
        {
          "output_type": "execute_result",
          "data": {
            "text/plain": [
              "(-0.6986099945532999, 0.6985046848441511)"
            ]
          },
          "metadata": {},
          "execution_count": 71
        }
      ]
    },
    {
      "cell_type": "code",
      "metadata": {
        "id": "9Eg7gFT9Qxfx",
        "colab": {
          "base_uri": "https://localhost:8080/"
        },
        "outputId": "15367995-b6f7-434d-b549-82bf30b8f38a"
      },
      "source": [
        "### Simple regret minimization: run number = 15\n",
        "\n",
        "approx_output_15 = np.append(np.min(approx_15.GP.y[0:n_init]),approx_15.GP.y[n_init:(n_init+iters)]) \n",
        "exact_output_15 = np.append(np.min(exact_15.GP.y[0:n_init]),exact_15.GP.y[n_init:(n_init+iters)]) \n",
        "\n",
        "regret_approx_15 = np.log(-approx_output_15 + y_global_orig)\n",
        "regret_exact_15 = np.log(-exact_output_15 + y_global_orig)\n",
        "\n",
        "simple_regret_approx_15 = min_max_array(regret_approx_15)\n",
        "simple_regret_exact_15 = min_max_array(regret_exact_15)\n",
        "\n",
        "min_simple_regret_approx_15 = min(simple_regret_approx_15)\n",
        "min_simple_regret_exact_15 = min(simple_regret_exact_15)\n",
        "\n",
        "min_simple_regret_approx_15, min_simple_regret_exact_15"
      ],
      "execution_count": null,
      "outputs": [
        {
          "output_type": "execute_result",
          "data": {
            "text/plain": [
              "(0.7616318484426097, 0.5190611646945158)"
            ]
          },
          "metadata": {},
          "execution_count": 72
        }
      ]
    },
    {
      "cell_type": "code",
      "metadata": {
        "id": "lIAC1U7ZQxfy",
        "colab": {
          "base_uri": "https://localhost:8080/"
        },
        "outputId": "4a656f05-c7d4-4198-ea99-607ac9b35750"
      },
      "source": [
        "### Simple regret minimization: run number = 16\n",
        "\n",
        "approx_output_16 = np.append(np.min(approx_16.GP.y[0:n_init]),approx_16.GP.y[n_init:(n_init+iters)]) \n",
        "exact_output_16 = np.append(np.min(exact_16.GP.y[0:n_init]),exact_16.GP.y[n_init:(n_init+iters)]) \n",
        "\n",
        "regret_approx_16 = np.log(-approx_output_16 + y_global_orig)\n",
        "regret_exact_16 = np.log(-exact_output_16 + y_global_orig)\n",
        "\n",
        "simple_regret_approx_16 = min_max_array(regret_approx_16)\n",
        "simple_regret_exact_16 = min_max_array(regret_exact_16)\n",
        "\n",
        "min_simple_regret_approx_16 = min(simple_regret_approx_16)\n",
        "min_simple_regret_exact_16 = min(simple_regret_exact_16)\n",
        "\n",
        "min_simple_regret_approx_16, min_simple_regret_exact_16"
      ],
      "execution_count": null,
      "outputs": [
        {
          "output_type": "execute_result",
          "data": {
            "text/plain": [
              "(0.828857760742628, 0.011796845272393301)"
            ]
          },
          "metadata": {},
          "execution_count": 73
        }
      ]
    },
    {
      "cell_type": "code",
      "metadata": {
        "id": "bGott36OQxfz",
        "colab": {
          "base_uri": "https://localhost:8080/"
        },
        "outputId": "b7ec116b-b36f-4f15-f0dc-d2555cba1dd7"
      },
      "source": [
        "### Simple regret minimization: run number = 17\n",
        "\n",
        "approx_output_17 = np.append(np.min(approx_17.GP.y[0:n_init]),approx_17.GP.y[n_init:(n_init+iters)]) \n",
        "exact_output_17 = np.append(np.min(exact_17.GP.y[0:n_init]),exact_17.GP.y[n_init:(n_init+iters)]) \n",
        "\n",
        "regret_approx_17 = np.log(-approx_output_17 + y_global_orig)\n",
        "regret_exact_17 = np.log(-exact_output_17 + y_global_orig)\n",
        "\n",
        "simple_regret_approx_17 = min_max_array(regret_approx_17)\n",
        "simple_regret_exact_17 = min_max_array(regret_exact_17)\n",
        "\n",
        "min_simple_regret_approx_17 = min(simple_regret_approx_17)\n",
        "min_simple_regret_exact_17 = min(simple_regret_exact_17)\n",
        "\n",
        "min_simple_regret_approx_17, min_simple_regret_exact_17"
      ],
      "execution_count": null,
      "outputs": [
        {
          "output_type": "execute_result",
          "data": {
            "text/plain": [
              "(0.4428317908712237, 0.3736586777309275)"
            ]
          },
          "metadata": {},
          "execution_count": 74
        }
      ]
    },
    {
      "cell_type": "code",
      "metadata": {
        "id": "Cz9ZYMBMQxfz",
        "colab": {
          "base_uri": "https://localhost:8080/"
        },
        "outputId": "45fa6646-3847-4d0d-ab10-66152940f494"
      },
      "source": [
        "### Simple regret minimization: run number = 18\n",
        "\n",
        "approx_output_18 = np.append(np.min(approx_18.GP.y[0:n_init]),approx_18.GP.y[n_init:(n_init+iters)]) \n",
        "exact_output_18 = np.append(np.min(exact_18.GP.y[0:n_init]),exact_18.GP.y[n_init:(n_init+iters)]) \n",
        "\n",
        "regret_approx_18 = np.log(-approx_output_18 + y_global_orig)\n",
        "regret_exact_18 = np.log(-exact_output_18 + y_global_orig)\n",
        "\n",
        "simple_regret_approx_18 = min_max_array(regret_approx_18)\n",
        "simple_regret_exact_18 = min_max_array(regret_exact_18)\n",
        "\n",
        "min_simple_regret_approx_18 = min(simple_regret_approx_18)\n",
        "min_simple_regret_exact_18 = min(simple_regret_exact_18)\n",
        "\n",
        "min_simple_regret_approx_18, min_simple_regret_exact_18"
      ],
      "execution_count": null,
      "outputs": [
        {
          "output_type": "execute_result",
          "data": {
            "text/plain": [
              "(1.298241600965053, 0.9452449170607248)"
            ]
          },
          "metadata": {},
          "execution_count": 75
        }
      ]
    },
    {
      "cell_type": "code",
      "metadata": {
        "id": "OBfpWOHNQxf0",
        "colab": {
          "base_uri": "https://localhost:8080/"
        },
        "outputId": "09eb14e0-8f0f-4b36-e629-df5f699ec8a5"
      },
      "source": [
        "### Simple regret minimization: run number = 19\n",
        "\n",
        "approx_output_19 = np.append(np.min(approx_19.GP.y[0:n_init]),approx_19.GP.y[n_init:(n_init+iters)]) \n",
        "exact_output_19 = np.append(np.min(exact_19.GP.y[0:n_init]),exact_19.GP.y[n_init:(n_init+iters)]) \n",
        "\n",
        "regret_approx_19 = np.log(-approx_output_19 + y_global_orig)\n",
        "regret_exact_19 = np.log(-exact_output_19 + y_global_orig)\n",
        "\n",
        "simple_regret_approx_19 = min_max_array(regret_approx_19)\n",
        "simple_regret_exact_19 = min_max_array(regret_exact_19)\n",
        "\n",
        "min_simple_regret_approx_19 = min(simple_regret_approx_19)\n",
        "min_simple_regret_exact_19 = min(simple_regret_exact_19)\n",
        "\n",
        "min_simple_regret_approx_19, min_simple_regret_exact_19"
      ],
      "execution_count": null,
      "outputs": [
        {
          "output_type": "execute_result",
          "data": {
            "text/plain": [
              "(-2.8682732586079323, -0.8628145206943092)"
            ]
          },
          "metadata": {},
          "execution_count": 76
        }
      ]
    },
    {
      "cell_type": "code",
      "metadata": {
        "id": "BE1AJ7NsQxf0",
        "colab": {
          "base_uri": "https://localhost:8080/"
        },
        "outputId": "08103640-42f0-49dd-a364-cf460157c482"
      },
      "source": [
        "### Simple regret minimization: run number = 20\n",
        "\n",
        "approx_output_20 = np.append(np.min(approx_20.GP.y[0:n_init]),approx_20.GP.y[n_init:(n_init+iters)]) \n",
        "exact_output_20 = np.append(np.min(exact_20.GP.y[0:n_init]),exact_20.GP.y[n_init:(n_init+iters)]) \n",
        "\n",
        "regret_approx_20 = np.log(-approx_output_20 + y_global_orig)\n",
        "regret_exact_20 = np.log(-exact_output_20 + y_global_orig)\n",
        "\n",
        "simple_regret_approx_20 = min_max_array(regret_approx_20)\n",
        "simple_regret_exact_20 = min_max_array(regret_exact_20)\n",
        "\n",
        "min_simple_regret_approx_20 = min(simple_regret_approx_20)\n",
        "min_simple_regret_exact_20 = min(simple_regret_exact_20)\n",
        "\n",
        "min_simple_regret_approx_20, min_simple_regret_exact_20"
      ],
      "execution_count": null,
      "outputs": [
        {
          "output_type": "execute_result",
          "data": {
            "text/plain": [
              "(1.666641011087512, -1.593649710027912)"
            ]
          },
          "metadata": {},
          "execution_count": 77
        }
      ]
    },
    {
      "cell_type": "code",
      "metadata": {
        "id": "bpX-bKAHQxf1"
      },
      "source": [
        "# Iteration1 :\n",
        "\n",
        "slice1 = 0\n",
        "\n",
        "approx1 = [simple_regret_approx_1[slice1],\n",
        "       simple_regret_approx_2[slice1],\n",
        "       simple_regret_approx_3[slice1],\n",
        "       simple_regret_approx_4[slice1],\n",
        "       simple_regret_approx_5[slice1],\n",
        "       simple_regret_approx_6[slice1],\n",
        "       simple_regret_approx_7[slice1],\n",
        "       simple_regret_approx_8[slice1],\n",
        "       simple_regret_approx_9[slice1],\n",
        "       simple_regret_approx_10[slice1],\n",
        "       simple_regret_approx_11[slice1],\n",
        "       simple_regret_approx_12[slice1],\n",
        "       simple_regret_approx_13[slice1],\n",
        "       simple_regret_approx_14[slice1],\n",
        "       simple_regret_approx_15[slice1],\n",
        "       simple_regret_approx_16[slice1],\n",
        "       simple_regret_approx_17[slice1],\n",
        "       simple_regret_approx_18[slice1],\n",
        "       simple_regret_approx_19[slice1],\n",
        "       simple_regret_approx_20[slice1]]\n",
        "\n",
        "exact1 = [simple_regret_exact_1[slice1],\n",
        "       simple_regret_exact_2[slice1],\n",
        "       simple_regret_exact_3[slice1],\n",
        "       simple_regret_exact_4[slice1],\n",
        "       simple_regret_exact_5[slice1],\n",
        "       simple_regret_exact_6[slice1],\n",
        "       simple_regret_exact_7[slice1],\n",
        "       simple_regret_exact_8[slice1],\n",
        "       simple_regret_exact_9[slice1],\n",
        "       simple_regret_exact_10[slice1],\n",
        "       simple_regret_exact_11[slice1],\n",
        "       simple_regret_exact_12[slice1],\n",
        "       simple_regret_exact_13[slice1],\n",
        "       simple_regret_exact_14[slice1],\n",
        "       simple_regret_exact_15[slice1],\n",
        "       simple_regret_exact_16[slice1],\n",
        "       simple_regret_exact_17[slice1],\n",
        "       simple_regret_exact_18[slice1],\n",
        "       simple_regret_exact_19[slice1],\n",
        "       simple_regret_exact_20[slice1]]\n",
        "\n",
        "approx1_results = pd.DataFrame(approx1).sort_values(by=[0], ascending=False)\n",
        "exact1_results = pd.DataFrame(exact1).sort_values(by=[0], ascending=False)\n",
        "\n",
        "### Best simple regret minimization IQR - approx:\n",
        "lower_approx1 = np.asarray(approx1_results[4:5][0])[0]\n",
        "median_approx1 = np.asarray(approx1_results[9:10][0])[0]\n",
        "upper_approx1 = np.asarray(approx1_results[14:15][0])[0]\n",
        "\n",
        "lower_exact1 = np.asarray(exact1_results[4:5][0])[0]\n",
        "median_exact1 = np.asarray(exact1_results[9:10][0])[0]\n",
        "upper_exact1 = np.asarray(exact1_results[14:15][0])[0]"
      ],
      "execution_count": null,
      "outputs": []
    },
    {
      "cell_type": "code",
      "metadata": {
        "id": "CgIkJA1xQxf2"
      },
      "source": [
        "# Iteration11 :\n",
        "\n",
        "slice11 = 10\n",
        "\n",
        "approx11 = [simple_regret_approx_1[slice11],\n",
        "       simple_regret_approx_2[slice11],\n",
        "       simple_regret_approx_3[slice11],\n",
        "       simple_regret_approx_4[slice11],\n",
        "       simple_regret_approx_5[slice11],\n",
        "       simple_regret_approx_6[slice11],\n",
        "       simple_regret_approx_7[slice11],\n",
        "       simple_regret_approx_8[slice11],\n",
        "       simple_regret_approx_9[slice11],\n",
        "       simple_regret_approx_10[slice11],\n",
        "       simple_regret_approx_11[slice11],\n",
        "       simple_regret_approx_12[slice11],\n",
        "       simple_regret_approx_13[slice11],\n",
        "       simple_regret_approx_14[slice11],\n",
        "       simple_regret_approx_15[slice11],\n",
        "       simple_regret_approx_16[slice11],\n",
        "       simple_regret_approx_17[slice11],\n",
        "       simple_regret_approx_18[slice11],\n",
        "       simple_regret_approx_19[slice11],\n",
        "       simple_regret_approx_20[slice11]]\n",
        "\n",
        "exact11 = [simple_regret_exact_1[slice11],\n",
        "       simple_regret_exact_2[slice11],\n",
        "       simple_regret_exact_3[slice11],\n",
        "       simple_regret_exact_4[slice11],\n",
        "       simple_regret_exact_5[slice11],\n",
        "       simple_regret_exact_6[slice11],\n",
        "       simple_regret_exact_7[slice11],\n",
        "       simple_regret_exact_8[slice11],\n",
        "       simple_regret_exact_9[slice11],\n",
        "       simple_regret_exact_10[slice11],\n",
        "       simple_regret_exact_11[slice11],\n",
        "       simple_regret_exact_12[slice11],\n",
        "       simple_regret_exact_13[slice11],\n",
        "       simple_regret_exact_14[slice11],\n",
        "       simple_regret_exact_15[slice11],\n",
        "       simple_regret_exact_16[slice11],\n",
        "       simple_regret_exact_17[slice11],\n",
        "       simple_regret_exact_18[slice11],\n",
        "       simple_regret_exact_19[slice11],\n",
        "       simple_regret_exact_20[slice11]]\n",
        "\n",
        "approx11_results = pd.DataFrame(approx11).sort_values(by=[0], ascending=False)\n",
        "exact11_results = pd.DataFrame(exact11).sort_values(by=[0], ascending=False)\n",
        "\n",
        "### Best simple regret minimization IQR - approx:\n",
        "lower_approx11 = np.asarray(approx11_results[4:5][0])[0]\n",
        "median_approx11 = np.asarray(approx11_results[9:10][0])[0]\n",
        "upper_approx11 = np.asarray(approx11_results[14:15][0])[0]\n",
        "\n",
        "lower_exact11 = np.asarray(exact11_results[4:5][0])[0]\n",
        "median_exact11 = np.asarray(exact11_results[9:10][0])[0]\n",
        "upper_exact11 = np.asarray(exact11_results[14:15][0])[0]"
      ],
      "execution_count": null,
      "outputs": []
    },
    {
      "cell_type": "code",
      "metadata": {
        "id": "MFePDfGuQxf2"
      },
      "source": [
        "# Iteration21 :\n",
        "\n",
        "slice21 = 20\n",
        "\n",
        "approx21 = [simple_regret_approx_1[slice21],\n",
        "       simple_regret_approx_2[slice21],\n",
        "       simple_regret_approx_3[slice21],\n",
        "       simple_regret_approx_4[slice21],\n",
        "       simple_regret_approx_5[slice21],\n",
        "       simple_regret_approx_6[slice21],\n",
        "       simple_regret_approx_7[slice21],\n",
        "       simple_regret_approx_8[slice21],\n",
        "       simple_regret_approx_9[slice21],\n",
        "       simple_regret_approx_10[slice21],\n",
        "       simple_regret_approx_11[slice21],\n",
        "       simple_regret_approx_12[slice21],\n",
        "       simple_regret_approx_13[slice21],\n",
        "       simple_regret_approx_14[slice21],\n",
        "       simple_regret_approx_15[slice21],\n",
        "       simple_regret_approx_16[slice21],\n",
        "       simple_regret_approx_17[slice21],\n",
        "       simple_regret_approx_18[slice21],\n",
        "       simple_regret_approx_19[slice21],\n",
        "       simple_regret_approx_20[slice21]]\n",
        "\n",
        "exact21 = [simple_regret_exact_1[slice21],\n",
        "       simple_regret_exact_2[slice21],\n",
        "       simple_regret_exact_3[slice21],\n",
        "       simple_regret_exact_4[slice21],\n",
        "       simple_regret_exact_5[slice21],\n",
        "       simple_regret_exact_6[slice21],\n",
        "       simple_regret_exact_7[slice21],\n",
        "       simple_regret_exact_8[slice21],\n",
        "       simple_regret_exact_9[slice21],\n",
        "       simple_regret_exact_10[slice21],\n",
        "       simple_regret_exact_11[slice21],\n",
        "       simple_regret_exact_12[slice21],\n",
        "       simple_regret_exact_13[slice21],\n",
        "       simple_regret_exact_14[slice21],\n",
        "       simple_regret_exact_15[slice21],\n",
        "       simple_regret_exact_16[slice21],\n",
        "       simple_regret_exact_17[slice21],\n",
        "       simple_regret_exact_18[slice21],\n",
        "       simple_regret_exact_19[slice21],\n",
        "       simple_regret_exact_20[slice21]]\n",
        "\n",
        "approx21_results = pd.DataFrame(approx21).sort_values(by=[0], ascending=False)\n",
        "exact21_results = pd.DataFrame(exact21).sort_values(by=[0], ascending=False)\n",
        "\n",
        "### Best simple regret minimization IQR - approx:\n",
        "lower_approx21 = np.asarray(approx21_results[4:5][0])[0]\n",
        "median_approx21 = np.asarray(approx21_results[9:10][0])[0]\n",
        "upper_approx21 = np.asarray(approx21_results[14:15][0])[0]\n",
        "\n",
        "lower_exact21 = np.asarray(exact21_results[4:5][0])[0]\n",
        "median_exact21 = np.asarray(exact21_results[9:10][0])[0]\n",
        "upper_exact21 = np.asarray(exact21_results[14:15][0])[0]"
      ],
      "execution_count": null,
      "outputs": []
    },
    {
      "cell_type": "code",
      "metadata": {
        "id": "PrRDB1kfQxf3"
      },
      "source": [
        "# Iteration2 :\n",
        "\n",
        "slice2 = 1\n",
        "\n",
        "approx2 = [simple_regret_approx_1[slice2],\n",
        "       simple_regret_approx_2[slice2],\n",
        "       simple_regret_approx_3[slice2],\n",
        "       simple_regret_approx_4[slice2],\n",
        "       simple_regret_approx_5[slice2],\n",
        "       simple_regret_approx_6[slice2],\n",
        "       simple_regret_approx_7[slice2],\n",
        "       simple_regret_approx_8[slice2],\n",
        "       simple_regret_approx_9[slice2],\n",
        "       simple_regret_approx_10[slice2],\n",
        "       simple_regret_approx_11[slice2],\n",
        "       simple_regret_approx_12[slice2],\n",
        "       simple_regret_approx_13[slice2],\n",
        "       simple_regret_approx_14[slice2],\n",
        "       simple_regret_approx_15[slice2],\n",
        "       simple_regret_approx_16[slice2],\n",
        "       simple_regret_approx_17[slice2],\n",
        "       simple_regret_approx_18[slice2],\n",
        "       simple_regret_approx_19[slice2],\n",
        "       simple_regret_approx_20[slice2]]\n",
        "\n",
        "exact2 = [simple_regret_exact_1[slice2],\n",
        "       simple_regret_exact_2[slice2],\n",
        "       simple_regret_exact_3[slice2],\n",
        "       simple_regret_exact_4[slice2],\n",
        "       simple_regret_exact_5[slice2],\n",
        "       simple_regret_exact_6[slice2],\n",
        "       simple_regret_exact_7[slice2],\n",
        "       simple_regret_exact_8[slice2],\n",
        "       simple_regret_exact_9[slice2],\n",
        "       simple_regret_exact_10[slice2],\n",
        "       simple_regret_exact_11[slice2],\n",
        "       simple_regret_exact_12[slice2],\n",
        "       simple_regret_exact_13[slice2],\n",
        "       simple_regret_exact_14[slice2],\n",
        "       simple_regret_exact_15[slice2],\n",
        "       simple_regret_exact_16[slice2],\n",
        "       simple_regret_exact_17[slice2],\n",
        "       simple_regret_exact_18[slice2],\n",
        "       simple_regret_exact_19[slice2],\n",
        "       simple_regret_exact_20[slice2]]\n",
        "\n",
        "approx2_results = pd.DataFrame(approx2).sort_values(by=[0], ascending=False)\n",
        "exact2_results = pd.DataFrame(exact2).sort_values(by=[0], ascending=False)\n",
        "\n",
        "### Best simple regret minimization IQR - approx:\n",
        "lower_approx2 = np.asarray(approx2_results[4:5][0])[0]\n",
        "median_approx2 = np.asarray(approx2_results[9:10][0])[0]\n",
        "upper_approx2 = np.asarray(approx2_results[14:15][0])[0]\n",
        "\n",
        "lower_exact2 = np.asarray(exact2_results[4:5][0])[0]\n",
        "median_exact2 = np.asarray(exact2_results[9:10][0])[0]\n",
        "upper_exact2 = np.asarray(exact2_results[14:15][0])[0]"
      ],
      "execution_count": null,
      "outputs": []
    },
    {
      "cell_type": "code",
      "metadata": {
        "id": "B8ncJDYeQxf3"
      },
      "source": [
        "# Iteration12 :\n",
        "\n",
        "slice12 = 11\n",
        "\n",
        "approx12 = [simple_regret_approx_1[slice12],\n",
        "       simple_regret_approx_2[slice12],\n",
        "       simple_regret_approx_3[slice12],\n",
        "       simple_regret_approx_4[slice12],\n",
        "       simple_regret_approx_5[slice12],\n",
        "       simple_regret_approx_6[slice12],\n",
        "       simple_regret_approx_7[slice12],\n",
        "       simple_regret_approx_8[slice12],\n",
        "       simple_regret_approx_9[slice12],\n",
        "       simple_regret_approx_10[slice12],\n",
        "       simple_regret_approx_11[slice12],\n",
        "       simple_regret_approx_12[slice12],\n",
        "       simple_regret_approx_13[slice12],\n",
        "       simple_regret_approx_14[slice12],\n",
        "       simple_regret_approx_15[slice12],\n",
        "       simple_regret_approx_16[slice12],\n",
        "       simple_regret_approx_17[slice12],\n",
        "       simple_regret_approx_18[slice12],\n",
        "       simple_regret_approx_19[slice12],\n",
        "       simple_regret_approx_20[slice12]]\n",
        "\n",
        "exact12 = [simple_regret_exact_1[slice12],\n",
        "       simple_regret_exact_2[slice12],\n",
        "       simple_regret_exact_3[slice12],\n",
        "       simple_regret_exact_4[slice12],\n",
        "       simple_regret_exact_5[slice12],\n",
        "       simple_regret_exact_6[slice12],\n",
        "       simple_regret_exact_7[slice12],\n",
        "       simple_regret_exact_8[slice12],\n",
        "       simple_regret_exact_9[slice12],\n",
        "       simple_regret_exact_10[slice12],\n",
        "       simple_regret_exact_11[slice12],\n",
        "       simple_regret_exact_12[slice12],\n",
        "       simple_regret_exact_13[slice12],\n",
        "       simple_regret_exact_14[slice12],\n",
        "       simple_regret_exact_15[slice12],\n",
        "       simple_regret_exact_16[slice12],\n",
        "       simple_regret_exact_17[slice12],\n",
        "       simple_regret_exact_18[slice12],\n",
        "       simple_regret_exact_19[slice12],\n",
        "       simple_regret_exact_20[slice12]]\n",
        "\n",
        "approx12_results = pd.DataFrame(approx12).sort_values(by=[0], ascending=False)\n",
        "exact12_results = pd.DataFrame(exact12).sort_values(by=[0], ascending=False)\n",
        "\n",
        "### Best simple regret minimization IQR - approx:\n",
        "lower_approx12 = np.asarray(approx12_results[4:5][0])[0]\n",
        "median_approx12 = np.asarray(approx12_results[9:10][0])[0]\n",
        "upper_approx12 = np.asarray(approx12_results[14:15][0])[0]\n",
        "\n",
        "lower_exact12 = np.asarray(exact12_results[4:5][0])[0]\n",
        "median_exact12 = np.asarray(exact12_results[9:10][0])[0]\n",
        "upper_exact12 = np.asarray(exact12_results[14:15][0])[0]"
      ],
      "execution_count": null,
      "outputs": []
    },
    {
      "cell_type": "code",
      "metadata": {
        "id": "Jn4KpGvcQxf4"
      },
      "source": [
        "# Iteration3 :\n",
        "\n",
        "slice3 = 2\n",
        "\n",
        "approx3 = [simple_regret_approx_1[slice3],\n",
        "       simple_regret_approx_2[slice3],\n",
        "       simple_regret_approx_3[slice3],\n",
        "       simple_regret_approx_4[slice3],\n",
        "       simple_regret_approx_5[slice3],\n",
        "       simple_regret_approx_6[slice3],\n",
        "       simple_regret_approx_7[slice3],\n",
        "       simple_regret_approx_8[slice3],\n",
        "       simple_regret_approx_9[slice3],\n",
        "       simple_regret_approx_10[slice3],\n",
        "       simple_regret_approx_11[slice3],\n",
        "       simple_regret_approx_12[slice3],\n",
        "       simple_regret_approx_13[slice3],\n",
        "       simple_regret_approx_14[slice3],\n",
        "       simple_regret_approx_15[slice3],\n",
        "       simple_regret_approx_16[slice3],\n",
        "       simple_regret_approx_17[slice3],\n",
        "       simple_regret_approx_18[slice3],\n",
        "       simple_regret_approx_19[slice3],\n",
        "       simple_regret_approx_20[slice3]]\n",
        "\n",
        "exact3 = [simple_regret_exact_1[slice3],\n",
        "       simple_regret_exact_2[slice3],\n",
        "       simple_regret_exact_3[slice3],\n",
        "       simple_regret_exact_4[slice3],\n",
        "       simple_regret_exact_5[slice3],\n",
        "       simple_regret_exact_6[slice3],\n",
        "       simple_regret_exact_7[slice3],\n",
        "       simple_regret_exact_8[slice3],\n",
        "       simple_regret_exact_9[slice3],\n",
        "       simple_regret_exact_10[slice3],\n",
        "       simple_regret_exact_11[slice3],\n",
        "       simple_regret_exact_12[slice3],\n",
        "       simple_regret_exact_13[slice3],\n",
        "       simple_regret_exact_14[slice3],\n",
        "       simple_regret_exact_15[slice3],\n",
        "       simple_regret_exact_16[slice3],\n",
        "       simple_regret_exact_17[slice3],\n",
        "       simple_regret_exact_18[slice3],\n",
        "       simple_regret_exact_19[slice3],\n",
        "       simple_regret_exact_20[slice3]]\n",
        "\n",
        "approx3_results = pd.DataFrame(approx3).sort_values(by=[0], ascending=False)\n",
        "exact3_results = pd.DataFrame(exact3).sort_values(by=[0], ascending=False)\n",
        "\n",
        "### Best simple regret minimization IQR - approx:\n",
        "lower_approx3 = np.asarray(approx3_results[4:5][0])[0]\n",
        "median_approx3 = np.asarray(approx3_results[9:10][0])[0]\n",
        "upper_approx3 = np.asarray(approx3_results[14:15][0])[0]\n",
        "\n",
        "lower_exact3 = np.asarray(exact3_results[4:5][0])[0]\n",
        "median_exact3 = np.asarray(exact3_results[9:10][0])[0]\n",
        "upper_exact3 = np.asarray(exact3_results[14:15][0])[0]"
      ],
      "execution_count": null,
      "outputs": []
    },
    {
      "cell_type": "code",
      "metadata": {
        "id": "plf83wxrQxf4"
      },
      "source": [
        "# Iteration13 :\n",
        "\n",
        "slice13 = 12\n",
        "\n",
        "approx13 = [simple_regret_approx_1[slice13],\n",
        "       simple_regret_approx_2[slice13],\n",
        "       simple_regret_approx_3[slice13],\n",
        "       simple_regret_approx_4[slice13],\n",
        "       simple_regret_approx_5[slice13],\n",
        "       simple_regret_approx_6[slice13],\n",
        "       simple_regret_approx_7[slice13],\n",
        "       simple_regret_approx_8[slice13],\n",
        "       simple_regret_approx_9[slice13],\n",
        "       simple_regret_approx_10[slice13],\n",
        "       simple_regret_approx_11[slice13],\n",
        "       simple_regret_approx_12[slice13],\n",
        "       simple_regret_approx_13[slice13],\n",
        "       simple_regret_approx_14[slice13],\n",
        "       simple_regret_approx_15[slice13],\n",
        "       simple_regret_approx_16[slice13],\n",
        "       simple_regret_approx_17[slice13],\n",
        "       simple_regret_approx_18[slice13],\n",
        "       simple_regret_approx_19[slice13],\n",
        "       simple_regret_approx_20[slice13]]\n",
        "\n",
        "exact13 = [simple_regret_exact_1[slice13],\n",
        "       simple_regret_exact_2[slice13],\n",
        "       simple_regret_exact_3[slice13],\n",
        "       simple_regret_exact_4[slice13],\n",
        "       simple_regret_exact_5[slice13],\n",
        "       simple_regret_exact_6[slice13],\n",
        "       simple_regret_exact_7[slice13],\n",
        "       simple_regret_exact_8[slice13],\n",
        "       simple_regret_exact_9[slice13],\n",
        "       simple_regret_exact_10[slice13],\n",
        "       simple_regret_exact_11[slice13],\n",
        "       simple_regret_exact_12[slice13],\n",
        "       simple_regret_exact_13[slice13],\n",
        "       simple_regret_exact_14[slice13],\n",
        "       simple_regret_exact_15[slice13],\n",
        "       simple_regret_exact_16[slice13],\n",
        "       simple_regret_exact_17[slice13],\n",
        "       simple_regret_exact_18[slice13],\n",
        "       simple_regret_exact_19[slice13],\n",
        "       simple_regret_exact_20[slice13]]\n",
        "\n",
        "approx13_results = pd.DataFrame(approx13).sort_values(by=[0], ascending=False)\n",
        "exact13_results = pd.DataFrame(exact13).sort_values(by=[0], ascending=False)\n",
        "\n",
        "### Best simple regret minimization IQR - approx:\n",
        "lower_approx13 = np.asarray(approx13_results[4:5][0])[0]\n",
        "median_approx13 = np.asarray(approx13_results[9:10][0])[0]\n",
        "upper_approx13 = np.asarray(approx13_results[14:15][0])[0]\n",
        "\n",
        "lower_exact13 = np.asarray(exact13_results[4:5][0])[0]\n",
        "median_exact13 = np.asarray(exact13_results[9:10][0])[0]\n",
        "upper_exact13 = np.asarray(exact13_results[14:15][0])[0]"
      ],
      "execution_count": null,
      "outputs": []
    },
    {
      "cell_type": "code",
      "metadata": {
        "id": "9A7mlVvJQxf5"
      },
      "source": [
        "# Iteration4 :\n",
        "\n",
        "slice4 = 3\n",
        "\n",
        "approx4 = [simple_regret_approx_1[slice4],\n",
        "       simple_regret_approx_2[slice4],\n",
        "       simple_regret_approx_3[slice4],\n",
        "       simple_regret_approx_4[slice4],\n",
        "       simple_regret_approx_5[slice4],\n",
        "       simple_regret_approx_6[slice4],\n",
        "       simple_regret_approx_7[slice4],\n",
        "       simple_regret_approx_8[slice4],\n",
        "       simple_regret_approx_9[slice4],\n",
        "       simple_regret_approx_10[slice4],\n",
        "       simple_regret_approx_11[slice4],\n",
        "       simple_regret_approx_12[slice4],\n",
        "       simple_regret_approx_13[slice4],\n",
        "       simple_regret_approx_14[slice4],\n",
        "       simple_regret_approx_15[slice4],\n",
        "       simple_regret_approx_16[slice4],\n",
        "       simple_regret_approx_17[slice4],\n",
        "       simple_regret_approx_18[slice4],\n",
        "       simple_regret_approx_19[slice4],\n",
        "       simple_regret_approx_20[slice4]]\n",
        "\n",
        "exact4 = [simple_regret_exact_1[slice4],\n",
        "       simple_regret_exact_2[slice4],\n",
        "       simple_regret_exact_3[slice4],\n",
        "       simple_regret_exact_4[slice4],\n",
        "       simple_regret_exact_5[slice4],\n",
        "       simple_regret_exact_6[slice4],\n",
        "       simple_regret_exact_7[slice4],\n",
        "       simple_regret_exact_8[slice4],\n",
        "       simple_regret_exact_9[slice4],\n",
        "       simple_regret_exact_10[slice4],\n",
        "       simple_regret_exact_11[slice4],\n",
        "       simple_regret_exact_12[slice4],\n",
        "       simple_regret_exact_13[slice4],\n",
        "       simple_regret_exact_14[slice4],\n",
        "       simple_regret_exact_15[slice4],\n",
        "       simple_regret_exact_16[slice4],\n",
        "       simple_regret_exact_17[slice4],\n",
        "       simple_regret_exact_18[slice4],\n",
        "       simple_regret_exact_19[slice4],\n",
        "       simple_regret_exact_20[slice4]]\n",
        "\n",
        "approx4_results = pd.DataFrame(approx4).sort_values(by=[0], ascending=False)\n",
        "exact4_results = pd.DataFrame(exact4).sort_values(by=[0], ascending=False)\n",
        "\n",
        "### Best simple regret minimization IQR - approx:\n",
        "lower_approx4 = np.asarray(approx4_results[4:5][0])[0]\n",
        "median_approx4 = np.asarray(approx4_results[9:10][0])[0]\n",
        "upper_approx4 = np.asarray(approx4_results[14:15][0])[0]\n",
        "\n",
        "lower_exact4 = np.asarray(exact4_results[4:5][0])[0]\n",
        "median_exact4 = np.asarray(exact4_results[9:10][0])[0]\n",
        "upper_exact4 = np.asarray(exact4_results[14:15][0])[0]"
      ],
      "execution_count": null,
      "outputs": []
    },
    {
      "cell_type": "code",
      "metadata": {
        "id": "ijq-rioYQxf5"
      },
      "source": [
        "# Iteration14 :\n",
        "\n",
        "slice14 = 13\n",
        "\n",
        "approx14 = [simple_regret_approx_1[slice14],\n",
        "       simple_regret_approx_2[slice14],\n",
        "       simple_regret_approx_3[slice14],\n",
        "       simple_regret_approx_4[slice14],\n",
        "       simple_regret_approx_5[slice14],\n",
        "       simple_regret_approx_6[slice14],\n",
        "       simple_regret_approx_7[slice14],\n",
        "       simple_regret_approx_8[slice14],\n",
        "       simple_regret_approx_9[slice14],\n",
        "       simple_regret_approx_10[slice14],\n",
        "       simple_regret_approx_11[slice14],\n",
        "       simple_regret_approx_12[slice14],\n",
        "       simple_regret_approx_13[slice14],\n",
        "       simple_regret_approx_14[slice14],\n",
        "       simple_regret_approx_15[slice14],\n",
        "       simple_regret_approx_16[slice14],\n",
        "       simple_regret_approx_17[slice14],\n",
        "       simple_regret_approx_18[slice14],\n",
        "       simple_regret_approx_19[slice14],\n",
        "       simple_regret_approx_20[slice14]]\n",
        "\n",
        "exact14 = [simple_regret_exact_1[slice14],\n",
        "       simple_regret_exact_2[slice14],\n",
        "       simple_regret_exact_3[slice14],\n",
        "       simple_regret_exact_4[slice14],\n",
        "       simple_regret_exact_5[slice14],\n",
        "       simple_regret_exact_6[slice14],\n",
        "       simple_regret_exact_7[slice14],\n",
        "       simple_regret_exact_8[slice14],\n",
        "       simple_regret_exact_9[slice14],\n",
        "       simple_regret_exact_10[slice14],\n",
        "       simple_regret_exact_11[slice14],\n",
        "       simple_regret_exact_12[slice14],\n",
        "       simple_regret_exact_13[slice14],\n",
        "       simple_regret_exact_14[slice14],\n",
        "       simple_regret_exact_15[slice14],\n",
        "       simple_regret_exact_16[slice14],\n",
        "       simple_regret_exact_17[slice14],\n",
        "       simple_regret_exact_18[slice14],\n",
        "       simple_regret_exact_19[slice14],\n",
        "       simple_regret_exact_20[slice14]]\n",
        "\n",
        "approx14_results = pd.DataFrame(approx14).sort_values(by=[0], ascending=False)\n",
        "exact14_results = pd.DataFrame(exact14).sort_values(by=[0], ascending=False)\n",
        "\n",
        "### Best simple regret minimization IQR - approx:\n",
        "lower_approx14 = np.asarray(approx14_results[4:5][0])[0]\n",
        "median_approx14 = np.asarray(approx14_results[9:10][0])[0]\n",
        "upper_approx14 = np.asarray(approx14_results[14:15][0])[0]\n",
        "\n",
        "lower_exact14 = np.asarray(exact14_results[4:5][0])[0]\n",
        "median_exact14 = np.asarray(exact14_results[9:10][0])[0]\n",
        "upper_exact14 = np.asarray(exact14_results[14:15][0])[0]"
      ],
      "execution_count": null,
      "outputs": []
    },
    {
      "cell_type": "code",
      "metadata": {
        "id": "XINlZjoTd-ZK"
      },
      "source": [
        "# Iteration5 :\n",
        "\n",
        "slice5 = 4\n",
        "\n",
        "approx5 = [simple_regret_approx_1[slice5],\n",
        "       simple_regret_approx_2[slice5],\n",
        "       simple_regret_approx_3[slice5],\n",
        "       simple_regret_approx_4[slice5],\n",
        "       simple_regret_approx_5[slice5],\n",
        "       simple_regret_approx_6[slice5],\n",
        "       simple_regret_approx_7[slice5],\n",
        "       simple_regret_approx_8[slice5],\n",
        "       simple_regret_approx_9[slice5],\n",
        "       simple_regret_approx_10[slice5],\n",
        "       simple_regret_approx_11[slice5],\n",
        "       simple_regret_approx_12[slice5],\n",
        "       simple_regret_approx_13[slice5],\n",
        "       simple_regret_approx_14[slice5],\n",
        "       simple_regret_approx_15[slice5],\n",
        "       simple_regret_approx_16[slice5],\n",
        "       simple_regret_approx_17[slice5],\n",
        "       simple_regret_approx_18[slice5],\n",
        "       simple_regret_approx_19[slice5],\n",
        "       simple_regret_approx_20[slice5]]\n",
        "\n",
        "exact5 = [simple_regret_exact_1[slice5],\n",
        "       simple_regret_exact_2[slice5],\n",
        "       simple_regret_exact_3[slice5],\n",
        "       simple_regret_exact_4[slice5],\n",
        "       simple_regret_exact_5[slice5],\n",
        "       simple_regret_exact_6[slice5],\n",
        "       simple_regret_exact_7[slice5],\n",
        "       simple_regret_exact_8[slice5],\n",
        "       simple_regret_exact_9[slice5],\n",
        "       simple_regret_exact_10[slice5],\n",
        "       simple_regret_exact_11[slice5],\n",
        "       simple_regret_exact_12[slice5],\n",
        "       simple_regret_exact_13[slice5],\n",
        "       simple_regret_exact_14[slice5],\n",
        "       simple_regret_exact_15[slice5],\n",
        "       simple_regret_exact_16[slice5],\n",
        "       simple_regret_exact_17[slice5],\n",
        "       simple_regret_exact_18[slice5],\n",
        "       simple_regret_exact_19[slice5],\n",
        "       simple_regret_exact_20[slice5]]\n",
        "\n",
        "approx5_results = pd.DataFrame(approx5).sort_values(by=[0], ascending=False)\n",
        "exact5_results = pd.DataFrame(exact5).sort_values(by=[0], ascending=False)\n",
        "\n",
        "### Best simple regret minimization IQR - approx:\n",
        "lower_approx5 = np.asarray(approx5_results[4:5][0])[0]\n",
        "median_approx5 = np.asarray(approx5_results[9:10][0])[0]\n",
        "upper_approx5 = np.asarray(approx5_results[14:15][0])[0]\n",
        "\n",
        "lower_exact5 = np.asarray(exact5_results[4:5][0])[0]\n",
        "median_exact5 = np.asarray(exact5_results[9:10][0])[0]\n",
        "upper_exact5 = np.asarray(exact5_results[14:15][0])[0]"
      ],
      "execution_count": null,
      "outputs": []
    },
    {
      "cell_type": "code",
      "metadata": {
        "id": "4aZ7C8sOQxf6"
      },
      "source": [
        "# Iteration15 :\n",
        "\n",
        "slice15 = 14\n",
        "\n",
        "approx15 = [simple_regret_approx_1[slice15],\n",
        "       simple_regret_approx_2[slice15],\n",
        "       simple_regret_approx_3[slice15],\n",
        "       simple_regret_approx_4[slice15],\n",
        "       simple_regret_approx_5[slice15],\n",
        "       simple_regret_approx_6[slice15],\n",
        "       simple_regret_approx_7[slice15],\n",
        "       simple_regret_approx_8[slice15],\n",
        "       simple_regret_approx_9[slice15],\n",
        "       simple_regret_approx_10[slice15],\n",
        "       simple_regret_approx_11[slice15],\n",
        "       simple_regret_approx_12[slice15],\n",
        "       simple_regret_approx_13[slice15],\n",
        "       simple_regret_approx_14[slice15],\n",
        "       simple_regret_approx_15[slice15],\n",
        "       simple_regret_approx_16[slice15],\n",
        "       simple_regret_approx_17[slice15],\n",
        "       simple_regret_approx_18[slice15],\n",
        "       simple_regret_approx_19[slice15],\n",
        "       simple_regret_approx_20[slice15]]\n",
        "\n",
        "exact15 = [simple_regret_exact_1[slice15],\n",
        "       simple_regret_exact_2[slice15],\n",
        "       simple_regret_exact_3[slice15],\n",
        "       simple_regret_exact_4[slice15],\n",
        "       simple_regret_exact_5[slice15],\n",
        "       simple_regret_exact_6[slice15],\n",
        "       simple_regret_exact_7[slice15],\n",
        "       simple_regret_exact_8[slice15],\n",
        "       simple_regret_exact_9[slice15],\n",
        "       simple_regret_exact_10[slice15],\n",
        "       simple_regret_exact_11[slice15],\n",
        "       simple_regret_exact_12[slice15],\n",
        "       simple_regret_exact_13[slice15],\n",
        "       simple_regret_exact_14[slice15],\n",
        "       simple_regret_exact_15[slice15],\n",
        "       simple_regret_exact_16[slice15],\n",
        "       simple_regret_exact_17[slice15],\n",
        "       simple_regret_exact_18[slice15],\n",
        "       simple_regret_exact_19[slice15],\n",
        "       simple_regret_exact_20[slice15]]\n",
        "\n",
        "approx15_results = pd.DataFrame(approx15).sort_values(by=[0], ascending=False)\n",
        "exact15_results = pd.DataFrame(exact15).sort_values(by=[0], ascending=False)\n",
        "\n",
        "### Best simple regret minimization IQR - approx:\n",
        "lower_approx15 = np.asarray(approx15_results[4:5][0])[0]\n",
        "median_approx15 = np.asarray(approx15_results[9:10][0])[0]\n",
        "upper_approx15 = np.asarray(approx15_results[14:15][0])[0]\n",
        "\n",
        "lower_exact15 = np.asarray(exact15_results[4:5][0])[0]\n",
        "median_exact15 = np.asarray(exact15_results[9:10][0])[0]\n",
        "upper_exact15 = np.asarray(exact15_results[14:15][0])[0]"
      ],
      "execution_count": null,
      "outputs": []
    },
    {
      "cell_type": "code",
      "metadata": {
        "id": "KJINKhv1Qxf6"
      },
      "source": [
        "# Iteration6 :\n",
        "\n",
        "slice6 = 5\n",
        "\n",
        "approx6 = [simple_regret_approx_1[slice6],\n",
        "       simple_regret_approx_2[slice6],\n",
        "       simple_regret_approx_3[slice6],\n",
        "       simple_regret_approx_4[slice6],\n",
        "       simple_regret_approx_5[slice6],\n",
        "       simple_regret_approx_6[slice6],\n",
        "       simple_regret_approx_7[slice6],\n",
        "       simple_regret_approx_8[slice6],\n",
        "       simple_regret_approx_9[slice6],\n",
        "       simple_regret_approx_10[slice6],\n",
        "       simple_regret_approx_11[slice6],\n",
        "       simple_regret_approx_12[slice6],\n",
        "       simple_regret_approx_13[slice6],\n",
        "       simple_regret_approx_14[slice6],\n",
        "       simple_regret_approx_15[slice6],\n",
        "       simple_regret_approx_16[slice6],\n",
        "       simple_regret_approx_17[slice6],\n",
        "       simple_regret_approx_18[slice6],\n",
        "       simple_regret_approx_19[slice6],\n",
        "       simple_regret_approx_20[slice6]]\n",
        "\n",
        "exact6 = [simple_regret_exact_1[slice6],\n",
        "       simple_regret_exact_2[slice6],\n",
        "       simple_regret_exact_3[slice6],\n",
        "       simple_regret_exact_4[slice6],\n",
        "       simple_regret_exact_5[slice6],\n",
        "       simple_regret_exact_6[slice6],\n",
        "       simple_regret_exact_7[slice6],\n",
        "       simple_regret_exact_8[slice6],\n",
        "       simple_regret_exact_9[slice6],\n",
        "       simple_regret_exact_10[slice6],\n",
        "       simple_regret_exact_11[slice6],\n",
        "       simple_regret_exact_12[slice6],\n",
        "       simple_regret_exact_13[slice6],\n",
        "       simple_regret_exact_14[slice6],\n",
        "       simple_regret_exact_15[slice6],\n",
        "       simple_regret_exact_16[slice6],\n",
        "       simple_regret_exact_17[slice6],\n",
        "       simple_regret_exact_18[slice6],\n",
        "       simple_regret_exact_19[slice6],\n",
        "       simple_regret_exact_20[slice6]]\n",
        "\n",
        "approx6_results = pd.DataFrame(approx6).sort_values(by=[0], ascending=False)\n",
        "exact6_results = pd.DataFrame(exact6).sort_values(by=[0], ascending=False)\n",
        "\n",
        "### Best simple regret minimization IQR - approx:\n",
        "lower_approx6 = np.asarray(approx6_results[4:5][0])[0]\n",
        "median_approx6 = np.asarray(approx6_results[9:10][0])[0]\n",
        "upper_approx6 = np.asarray(approx6_results[14:15][0])[0]\n",
        "\n",
        "lower_exact6 = np.asarray(exact6_results[4:5][0])[0]\n",
        "median_exact6 = np.asarray(exact6_results[9:10][0])[0]\n",
        "upper_exact6 = np.asarray(exact6_results[14:15][0])[0]"
      ],
      "execution_count": null,
      "outputs": []
    },
    {
      "cell_type": "code",
      "metadata": {
        "id": "nwC5N1FsQxf7"
      },
      "source": [
        "# Iteration16 :\n",
        "\n",
        "slice16 = 15\n",
        "\n",
        "approx16 = [simple_regret_approx_1[slice16],\n",
        "       simple_regret_approx_2[slice16],\n",
        "       simple_regret_approx_3[slice16],\n",
        "       simple_regret_approx_4[slice16],\n",
        "       simple_regret_approx_5[slice16],\n",
        "       simple_regret_approx_6[slice16],\n",
        "       simple_regret_approx_7[slice16],\n",
        "       simple_regret_approx_8[slice16],\n",
        "       simple_regret_approx_9[slice16],\n",
        "       simple_regret_approx_10[slice16],\n",
        "       simple_regret_approx_11[slice16],\n",
        "       simple_regret_approx_12[slice16],\n",
        "       simple_regret_approx_13[slice16],\n",
        "       simple_regret_approx_14[slice16],\n",
        "       simple_regret_approx_15[slice16],\n",
        "       simple_regret_approx_16[slice16],\n",
        "       simple_regret_approx_17[slice16],\n",
        "       simple_regret_approx_18[slice16],\n",
        "       simple_regret_approx_19[slice16],\n",
        "       simple_regret_approx_20[slice16]]\n",
        "\n",
        "exact16 = [simple_regret_exact_1[slice16],\n",
        "       simple_regret_exact_2[slice16],\n",
        "       simple_regret_exact_3[slice16],\n",
        "       simple_regret_exact_4[slice16],\n",
        "       simple_regret_exact_5[slice16],\n",
        "       simple_regret_exact_6[slice16],\n",
        "       simple_regret_exact_7[slice16],\n",
        "       simple_regret_exact_8[slice16],\n",
        "       simple_regret_exact_9[slice16],\n",
        "       simple_regret_exact_10[slice16],\n",
        "       simple_regret_exact_11[slice16],\n",
        "       simple_regret_exact_12[slice16],\n",
        "       simple_regret_exact_13[slice16],\n",
        "       simple_regret_exact_14[slice16],\n",
        "       simple_regret_exact_15[slice16],\n",
        "       simple_regret_exact_16[slice16],\n",
        "       simple_regret_exact_17[slice16],\n",
        "       simple_regret_exact_18[slice16],\n",
        "       simple_regret_exact_19[slice16],\n",
        "       simple_regret_exact_20[slice16]]\n",
        "\n",
        "approx16_results = pd.DataFrame(approx16).sort_values(by=[0], ascending=False)\n",
        "exact16_results = pd.DataFrame(exact16).sort_values(by=[0], ascending=False)\n",
        "\n",
        "### Best simple regret minimization IQR - approx:\n",
        "lower_approx16 = np.asarray(approx16_results[4:5][0])[0]\n",
        "median_approx16 = np.asarray(approx16_results[9:10][0])[0]\n",
        "upper_approx16 = np.asarray(approx16_results[14:15][0])[0]\n",
        "\n",
        "lower_exact16 = np.asarray(exact16_results[4:5][0])[0]\n",
        "median_exact16 = np.asarray(exact16_results[9:10][0])[0]\n",
        "upper_exact16 = np.asarray(exact16_results[14:15][0])[0]"
      ],
      "execution_count": null,
      "outputs": []
    },
    {
      "cell_type": "code",
      "metadata": {
        "id": "TrPV0AfnQxf7"
      },
      "source": [
        "# Iteration7 :\n",
        "\n",
        "slice7 = 6\n",
        "\n",
        "approx7 = [simple_regret_approx_1[slice7],\n",
        "       simple_regret_approx_2[slice7],\n",
        "       simple_regret_approx_3[slice7],\n",
        "       simple_regret_approx_4[slice7],\n",
        "       simple_regret_approx_5[slice7],\n",
        "       simple_regret_approx_6[slice7],\n",
        "       simple_regret_approx_7[slice7],\n",
        "       simple_regret_approx_8[slice7],\n",
        "       simple_regret_approx_9[slice7],\n",
        "       simple_regret_approx_10[slice7],\n",
        "       simple_regret_approx_11[slice7],\n",
        "       simple_regret_approx_12[slice7],\n",
        "       simple_regret_approx_13[slice7],\n",
        "       simple_regret_approx_14[slice7],\n",
        "       simple_regret_approx_15[slice7],\n",
        "       simple_regret_approx_16[slice7],\n",
        "       simple_regret_approx_17[slice7],\n",
        "       simple_regret_approx_18[slice7],\n",
        "       simple_regret_approx_19[slice7],\n",
        "       simple_regret_approx_20[slice7]]\n",
        "\n",
        "exact7 = [simple_regret_exact_1[slice7],\n",
        "       simple_regret_exact_2[slice7],\n",
        "       simple_regret_exact_3[slice7],\n",
        "       simple_regret_exact_4[slice7],\n",
        "       simple_regret_exact_5[slice7],\n",
        "       simple_regret_exact_6[slice7],\n",
        "       simple_regret_exact_7[slice7],\n",
        "       simple_regret_exact_8[slice7],\n",
        "       simple_regret_exact_9[slice7],\n",
        "       simple_regret_exact_10[slice7],\n",
        "       simple_regret_exact_11[slice7],\n",
        "       simple_regret_exact_12[slice7],\n",
        "       simple_regret_exact_13[slice7],\n",
        "       simple_regret_exact_14[slice7],\n",
        "       simple_regret_exact_15[slice7],\n",
        "       simple_regret_exact_16[slice7],\n",
        "       simple_regret_exact_17[slice7],\n",
        "       simple_regret_exact_18[slice7],\n",
        "       simple_regret_exact_19[slice7],\n",
        "       simple_regret_exact_20[slice7]]\n",
        "\n",
        "approx7_results = pd.DataFrame(approx7).sort_values(by=[0], ascending=False)\n",
        "exact7_results = pd.DataFrame(exact7).sort_values(by=[0], ascending=False)\n",
        "\n",
        "### Best simple regret minimization IQR - approx:\n",
        "lower_approx7 = np.asarray(approx7_results[4:5][0])[0]\n",
        "median_approx7 = np.asarray(approx7_results[9:10][0])[0]\n",
        "upper_approx7 = np.asarray(approx7_results[14:15][0])[0]\n",
        "\n",
        "lower_exact7 = np.asarray(exact7_results[4:5][0])[0]\n",
        "median_exact7 = np.asarray(exact7_results[9:10][0])[0]\n",
        "upper_exact7 = np.asarray(exact7_results[14:15][0])[0]"
      ],
      "execution_count": null,
      "outputs": []
    },
    {
      "cell_type": "code",
      "metadata": {
        "id": "Ub_-wpK4Qxf8"
      },
      "source": [
        "# Iteration17 :\n",
        "\n",
        "slice17 = 16\n",
        "\n",
        "approx17 = [simple_regret_approx_1[slice17],\n",
        "       simple_regret_approx_2[slice17],\n",
        "       simple_regret_approx_3[slice17],\n",
        "       simple_regret_approx_4[slice17],\n",
        "       simple_regret_approx_5[slice17],\n",
        "       simple_regret_approx_6[slice17],\n",
        "       simple_regret_approx_7[slice17],\n",
        "       simple_regret_approx_8[slice17],\n",
        "       simple_regret_approx_9[slice17],\n",
        "       simple_regret_approx_10[slice17],\n",
        "       simple_regret_approx_11[slice17],\n",
        "       simple_regret_approx_12[slice17],\n",
        "       simple_regret_approx_13[slice17],\n",
        "       simple_regret_approx_14[slice17],\n",
        "       simple_regret_approx_15[slice17],\n",
        "       simple_regret_approx_16[slice17],\n",
        "       simple_regret_approx_17[slice17],\n",
        "       simple_regret_approx_18[slice17],\n",
        "       simple_regret_approx_19[slice17],\n",
        "       simple_regret_approx_20[slice17]]\n",
        "\n",
        "exact17 = [simple_regret_exact_1[slice17],\n",
        "       simple_regret_exact_2[slice17],\n",
        "       simple_regret_exact_3[slice17],\n",
        "       simple_regret_exact_4[slice17],\n",
        "       simple_regret_exact_5[slice17],\n",
        "       simple_regret_exact_6[slice17],\n",
        "       simple_regret_exact_7[slice17],\n",
        "       simple_regret_exact_8[slice17],\n",
        "       simple_regret_exact_9[slice17],\n",
        "       simple_regret_exact_10[slice17],\n",
        "       simple_regret_exact_11[slice17],\n",
        "       simple_regret_exact_12[slice17],\n",
        "       simple_regret_exact_13[slice17],\n",
        "       simple_regret_exact_14[slice17],\n",
        "       simple_regret_exact_15[slice17],\n",
        "       simple_regret_exact_16[slice17],\n",
        "       simple_regret_exact_17[slice17],\n",
        "       simple_regret_exact_18[slice17],\n",
        "       simple_regret_exact_19[slice17],\n",
        "       simple_regret_exact_20[slice17]]\n",
        "\n",
        "approx17_results = pd.DataFrame(approx17).sort_values(by=[0], ascending=False)\n",
        "exact17_results = pd.DataFrame(exact17).sort_values(by=[0], ascending=False)\n",
        "\n",
        "### Best simple regret minimization IQR - approx:\n",
        "lower_approx17 = np.asarray(approx17_results[4:5][0])[0]\n",
        "median_approx17 = np.asarray(approx17_results[9:10][0])[0]\n",
        "upper_approx17 = np.asarray(approx17_results[14:15][0])[0]\n",
        "\n",
        "lower_exact17 = np.asarray(exact17_results[4:5][0])[0]\n",
        "median_exact17 = np.asarray(exact17_results[9:10][0])[0]\n",
        "upper_exact17 = np.asarray(exact17_results[14:15][0])[0]"
      ],
      "execution_count": null,
      "outputs": []
    },
    {
      "cell_type": "code",
      "metadata": {
        "id": "-6VLo37PQxf8"
      },
      "source": [
        "# Iteration8 :\n",
        "\n",
        "slice8 = 7\n",
        "\n",
        "approx8 = [simple_regret_approx_1[slice8],\n",
        "       simple_regret_approx_2[slice8],\n",
        "       simple_regret_approx_3[slice8],\n",
        "       simple_regret_approx_4[slice8],\n",
        "       simple_regret_approx_5[slice8],\n",
        "       simple_regret_approx_6[slice8],\n",
        "       simple_regret_approx_7[slice8],\n",
        "       simple_regret_approx_8[slice8],\n",
        "       simple_regret_approx_9[slice8],\n",
        "       simple_regret_approx_10[slice8],\n",
        "       simple_regret_approx_11[slice8],\n",
        "       simple_regret_approx_12[slice8],\n",
        "       simple_regret_approx_13[slice8],\n",
        "       simple_regret_approx_14[slice8],\n",
        "       simple_regret_approx_15[slice8],\n",
        "       simple_regret_approx_16[slice8],\n",
        "       simple_regret_approx_17[slice8],\n",
        "       simple_regret_approx_18[slice8],\n",
        "       simple_regret_approx_19[slice8],\n",
        "       simple_regret_approx_20[slice8]]\n",
        "\n",
        "exact8 = [simple_regret_exact_1[slice8],\n",
        "       simple_regret_exact_2[slice8],\n",
        "       simple_regret_exact_3[slice8],\n",
        "       simple_regret_exact_4[slice8],\n",
        "       simple_regret_exact_5[slice8],\n",
        "       simple_regret_exact_6[slice8],\n",
        "       simple_regret_exact_7[slice8],\n",
        "       simple_regret_exact_8[slice8],\n",
        "       simple_regret_exact_9[slice8],\n",
        "       simple_regret_exact_10[slice8],\n",
        "       simple_regret_exact_11[slice8],\n",
        "       simple_regret_exact_12[slice8],\n",
        "       simple_regret_exact_13[slice8],\n",
        "       simple_regret_exact_14[slice8],\n",
        "       simple_regret_exact_15[slice8],\n",
        "       simple_regret_exact_16[slice8],\n",
        "       simple_regret_exact_17[slice8],\n",
        "       simple_regret_exact_18[slice8],\n",
        "       simple_regret_exact_19[slice8],\n",
        "       simple_regret_exact_20[slice8]]\n",
        "\n",
        "approx8_results = pd.DataFrame(approx8).sort_values(by=[0], ascending=False)\n",
        "exact8_results = pd.DataFrame(exact8).sort_values(by=[0], ascending=False)\n",
        "\n",
        "### Best simple regret minimization IQR - approx:\n",
        "lower_approx8 = np.asarray(approx8_results[4:5][0])[0]\n",
        "median_approx8 = np.asarray(approx8_results[9:10][0])[0]\n",
        "upper_approx8 = np.asarray(approx8_results[14:15][0])[0]\n",
        "\n",
        "lower_exact8 = np.asarray(exact8_results[4:5][0])[0]\n",
        "median_exact8 = np.asarray(exact8_results[9:10][0])[0]\n",
        "upper_exact8 = np.asarray(exact8_results[14:15][0])[0]"
      ],
      "execution_count": null,
      "outputs": []
    },
    {
      "cell_type": "code",
      "metadata": {
        "id": "2Dp-9CC2Qxf9"
      },
      "source": [
        "# Iteration18 :\n",
        "\n",
        "slice18 = 17\n",
        "\n",
        "approx18 = [simple_regret_approx_1[slice18],\n",
        "       simple_regret_approx_2[slice18],\n",
        "       simple_regret_approx_3[slice18],\n",
        "       simple_regret_approx_4[slice18],\n",
        "       simple_regret_approx_5[slice18],\n",
        "       simple_regret_approx_6[slice18],\n",
        "       simple_regret_approx_7[slice18],\n",
        "       simple_regret_approx_8[slice18],\n",
        "       simple_regret_approx_9[slice18],\n",
        "       simple_regret_approx_10[slice18],\n",
        "       simple_regret_approx_11[slice18],\n",
        "       simple_regret_approx_12[slice18],\n",
        "       simple_regret_approx_13[slice18],\n",
        "       simple_regret_approx_14[slice18],\n",
        "       simple_regret_approx_15[slice18],\n",
        "       simple_regret_approx_16[slice18],\n",
        "       simple_regret_approx_17[slice18],\n",
        "       simple_regret_approx_18[slice18],\n",
        "       simple_regret_approx_19[slice18],\n",
        "       simple_regret_approx_20[slice18]]\n",
        "\n",
        "exact18 = [simple_regret_exact_1[slice18],\n",
        "       simple_regret_exact_2[slice18],\n",
        "       simple_regret_exact_3[slice18],\n",
        "       simple_regret_exact_4[slice18],\n",
        "       simple_regret_exact_5[slice18],\n",
        "       simple_regret_exact_6[slice18],\n",
        "       simple_regret_exact_7[slice18],\n",
        "       simple_regret_exact_8[slice18],\n",
        "       simple_regret_exact_9[slice18],\n",
        "       simple_regret_exact_10[slice18],\n",
        "       simple_regret_exact_11[slice18],\n",
        "       simple_regret_exact_12[slice18],\n",
        "       simple_regret_exact_13[slice18],\n",
        "       simple_regret_exact_14[slice18],\n",
        "       simple_regret_exact_15[slice18],\n",
        "       simple_regret_exact_16[slice18],\n",
        "       simple_regret_exact_17[slice18],\n",
        "       simple_regret_exact_18[slice18],\n",
        "       simple_regret_exact_19[slice18],\n",
        "       simple_regret_exact_20[slice18]]\n",
        "\n",
        "approx18_results = pd.DataFrame(approx18).sort_values(by=[0], ascending=False)\n",
        "exact18_results = pd.DataFrame(exact18).sort_values(by=[0], ascending=False)\n",
        "\n",
        "### Best simple regret minimization IQR - approx:\n",
        "lower_approx18 = np.asarray(approx18_results[4:5][0])[0]\n",
        "median_approx18 = np.asarray(approx18_results[9:10][0])[0]\n",
        "upper_approx18 = np.asarray(approx18_results[14:15][0])[0]\n",
        "\n",
        "lower_exact18 = np.asarray(exact18_results[4:5][0])[0]\n",
        "median_exact18 = np.asarray(exact18_results[9:10][0])[0]\n",
        "upper_exact18 = np.asarray(exact18_results[14:15][0])[0]"
      ],
      "execution_count": null,
      "outputs": []
    },
    {
      "cell_type": "code",
      "metadata": {
        "id": "SqiaOpB7Qxf9"
      },
      "source": [
        "# Iteration9 :\n",
        "\n",
        "slice9 = 8\n",
        "\n",
        "approx9 = [simple_regret_approx_1[slice9],\n",
        "       simple_regret_approx_2[slice9],\n",
        "       simple_regret_approx_3[slice9],\n",
        "       simple_regret_approx_4[slice9],\n",
        "       simple_regret_approx_5[slice9],\n",
        "       simple_regret_approx_6[slice9],\n",
        "       simple_regret_approx_7[slice9],\n",
        "       simple_regret_approx_8[slice9],\n",
        "       simple_regret_approx_9[slice9],\n",
        "       simple_regret_approx_10[slice9],\n",
        "       simple_regret_approx_11[slice9],\n",
        "       simple_regret_approx_12[slice9],\n",
        "       simple_regret_approx_13[slice9],\n",
        "       simple_regret_approx_14[slice9],\n",
        "       simple_regret_approx_15[slice9],\n",
        "       simple_regret_approx_16[slice9],\n",
        "       simple_regret_approx_17[slice9],\n",
        "       simple_regret_approx_18[slice9],\n",
        "       simple_regret_approx_19[slice9],\n",
        "       simple_regret_approx_20[slice9]]\n",
        "\n",
        "exact9 = [simple_regret_exact_1[slice9],\n",
        "       simple_regret_exact_2[slice9],\n",
        "       simple_regret_exact_3[slice9],\n",
        "       simple_regret_exact_4[slice9],\n",
        "       simple_regret_exact_5[slice9],\n",
        "       simple_regret_exact_6[slice9],\n",
        "       simple_regret_exact_7[slice9],\n",
        "       simple_regret_exact_8[slice9],\n",
        "       simple_regret_exact_9[slice9],\n",
        "       simple_regret_exact_10[slice9],\n",
        "       simple_regret_exact_11[slice9],\n",
        "       simple_regret_exact_12[slice9],\n",
        "       simple_regret_exact_13[slice9],\n",
        "       simple_regret_exact_14[slice9],\n",
        "       simple_regret_exact_15[slice9],\n",
        "       simple_regret_exact_16[slice9],\n",
        "       simple_regret_exact_17[slice9],\n",
        "       simple_regret_exact_18[slice9],\n",
        "       simple_regret_exact_19[slice9],\n",
        "       simple_regret_exact_20[slice9]]\n",
        "\n",
        "approx9_results = pd.DataFrame(approx9).sort_values(by=[0], ascending=False)\n",
        "exact9_results = pd.DataFrame(exact9).sort_values(by=[0], ascending=False)\n",
        "\n",
        "### Best simple regret minimization IQR - approx:\n",
        "lower_approx9 = np.asarray(approx9_results[4:5][0])[0]\n",
        "median_approx9 = np.asarray(approx9_results[9:10][0])[0]\n",
        "upper_approx9 = np.asarray(approx9_results[14:15][0])[0]\n",
        "\n",
        "lower_exact9 = np.asarray(exact9_results[4:5][0])[0]\n",
        "median_exact9 = np.asarray(exact9_results[9:10][0])[0]\n",
        "upper_exact9 = np.asarray(exact9_results[14:15][0])[0]"
      ],
      "execution_count": null,
      "outputs": []
    },
    {
      "cell_type": "code",
      "metadata": {
        "id": "OQkCCOsPQxf9"
      },
      "source": [
        "# Iteration19 :\n",
        "\n",
        "slice19 = 18\n",
        "\n",
        "approx19 = [simple_regret_approx_1[slice19],\n",
        "       simple_regret_approx_2[slice19],\n",
        "       simple_regret_approx_3[slice19],\n",
        "       simple_regret_approx_4[slice19],\n",
        "       simple_regret_approx_5[slice19],\n",
        "       simple_regret_approx_6[slice19],\n",
        "       simple_regret_approx_7[slice19],\n",
        "       simple_regret_approx_8[slice19],\n",
        "       simple_regret_approx_9[slice19],\n",
        "       simple_regret_approx_10[slice19],\n",
        "       simple_regret_approx_11[slice19],\n",
        "       simple_regret_approx_12[slice19],\n",
        "       simple_regret_approx_13[slice19],\n",
        "       simple_regret_approx_14[slice19],\n",
        "       simple_regret_approx_15[slice19],\n",
        "       simple_regret_approx_16[slice19],\n",
        "       simple_regret_approx_17[slice19],\n",
        "       simple_regret_approx_18[slice19],\n",
        "       simple_regret_approx_19[slice19],\n",
        "       simple_regret_approx_20[slice19]]\n",
        "\n",
        "exact19 = [simple_regret_exact_1[slice19],\n",
        "       simple_regret_exact_2[slice19],\n",
        "       simple_regret_exact_3[slice19],\n",
        "       simple_regret_exact_4[slice19],\n",
        "       simple_regret_exact_5[slice19],\n",
        "       simple_regret_exact_6[slice19],\n",
        "       simple_regret_exact_7[slice19],\n",
        "       simple_regret_exact_8[slice19],\n",
        "       simple_regret_exact_9[slice19],\n",
        "       simple_regret_exact_10[slice19],\n",
        "       simple_regret_exact_11[slice19],\n",
        "       simple_regret_exact_12[slice19],\n",
        "       simple_regret_exact_13[slice19],\n",
        "       simple_regret_exact_14[slice19],\n",
        "       simple_regret_exact_15[slice19],\n",
        "       simple_regret_exact_16[slice19],\n",
        "       simple_regret_exact_17[slice19],\n",
        "       simple_regret_exact_18[slice19],\n",
        "       simple_regret_exact_19[slice19],\n",
        "       simple_regret_exact_20[slice19]]\n",
        "\n",
        "approx19_results = pd.DataFrame(approx19).sort_values(by=[0], ascending=False)\n",
        "exact19_results = pd.DataFrame(exact19).sort_values(by=[0], ascending=False)\n",
        "\n",
        "### Best simple regret minimization IQR - approx:\n",
        "lower_approx19 = np.asarray(approx19_results[4:5][0])[0]\n",
        "median_approx19 = np.asarray(approx19_results[9:10][0])[0]\n",
        "upper_approx19 = np.asarray(approx19_results[14:15][0])[0]\n",
        "\n",
        "lower_exact19 = np.asarray(exact19_results[4:5][0])[0]\n",
        "median_exact19 = np.asarray(exact19_results[9:10][0])[0]\n",
        "upper_exact19 = np.asarray(exact19_results[14:15][0])[0]"
      ],
      "execution_count": null,
      "outputs": []
    },
    {
      "cell_type": "code",
      "metadata": {
        "id": "h4vtWahcQxf-"
      },
      "source": [
        "# Iteration10 :\n",
        "\n",
        "slice10 = 9\n",
        "\n",
        "approx10 = [simple_regret_approx_1[slice10],\n",
        "       simple_regret_approx_2[slice10],\n",
        "       simple_regret_approx_3[slice10],\n",
        "       simple_regret_approx_4[slice10],\n",
        "       simple_regret_approx_5[slice10],\n",
        "       simple_regret_approx_6[slice10],\n",
        "       simple_regret_approx_7[slice10],\n",
        "       simple_regret_approx_8[slice10],\n",
        "       simple_regret_approx_9[slice10],\n",
        "       simple_regret_approx_10[slice10],\n",
        "       simple_regret_approx_11[slice10],\n",
        "       simple_regret_approx_12[slice10],\n",
        "       simple_regret_approx_13[slice10],\n",
        "       simple_regret_approx_14[slice10],\n",
        "       simple_regret_approx_15[slice10],\n",
        "       simple_regret_approx_16[slice10],\n",
        "       simple_regret_approx_17[slice10],\n",
        "       simple_regret_approx_18[slice10],\n",
        "       simple_regret_approx_19[slice10],\n",
        "       simple_regret_approx_20[slice10]]\n",
        "\n",
        "exact10 = [simple_regret_exact_1[slice10],\n",
        "       simple_regret_exact_2[slice10],\n",
        "       simple_regret_exact_3[slice10],\n",
        "       simple_regret_exact_4[slice10],\n",
        "       simple_regret_exact_5[slice10],\n",
        "       simple_regret_exact_6[slice10],\n",
        "       simple_regret_exact_7[slice10],\n",
        "       simple_regret_exact_8[slice10],\n",
        "       simple_regret_exact_9[slice10],\n",
        "       simple_regret_exact_10[slice10],\n",
        "       simple_regret_exact_11[slice10],\n",
        "       simple_regret_exact_12[slice10],\n",
        "       simple_regret_exact_13[slice10],\n",
        "       simple_regret_exact_14[slice10],\n",
        "       simple_regret_exact_15[slice10],\n",
        "       simple_regret_exact_16[slice10],\n",
        "       simple_regret_exact_17[slice10],\n",
        "       simple_regret_exact_18[slice10],\n",
        "       simple_regret_exact_19[slice10],\n",
        "       simple_regret_exact_20[slice10]]\n",
        "\n",
        "approx10_results = pd.DataFrame(approx10).sort_values(by=[0], ascending=False)\n",
        "exact10_results = pd.DataFrame(exact10).sort_values(by=[0], ascending=False)\n",
        "\n",
        "### Best simple regret minimization IQR - approx:\n",
        "lower_approx10 = np.asarray(approx10_results[4:5][0])[0]\n",
        "median_approx10 = np.asarray(approx10_results[9:10][0])[0]\n",
        "upper_approx10 = np.asarray(approx10_results[14:15][0])[0]\n",
        "\n",
        "lower_exact10 = np.asarray(exact10_results[4:5][0])[0]\n",
        "median_exact10 = np.asarray(exact10_results[9:10][0])[0]\n",
        "upper_exact10 = np.asarray(exact10_results[14:15][0])[0]"
      ],
      "execution_count": null,
      "outputs": []
    },
    {
      "cell_type": "code",
      "metadata": {
        "id": "Rsf240pWQxf-"
      },
      "source": [
        "# Iteration20 :\n",
        "\n",
        "slice20 = 19\n",
        "\n",
        "approx20 = [simple_regret_approx_1[slice20],\n",
        "       simple_regret_approx_2[slice20],\n",
        "       simple_regret_approx_3[slice20],\n",
        "       simple_regret_approx_4[slice20],\n",
        "       simple_regret_approx_5[slice20],\n",
        "       simple_regret_approx_6[slice20],\n",
        "       simple_regret_approx_7[slice20],\n",
        "       simple_regret_approx_8[slice20],\n",
        "       simple_regret_approx_9[slice20],\n",
        "       simple_regret_approx_10[slice20],\n",
        "       simple_regret_approx_11[slice20],\n",
        "       simple_regret_approx_12[slice20],\n",
        "       simple_regret_approx_13[slice20],\n",
        "       simple_regret_approx_14[slice20],\n",
        "       simple_regret_approx_15[slice20],\n",
        "       simple_regret_approx_16[slice20],\n",
        "       simple_regret_approx_17[slice20],\n",
        "       simple_regret_approx_18[slice20],\n",
        "       simple_regret_approx_19[slice20],\n",
        "       simple_regret_approx_20[slice20]]\n",
        "\n",
        "exact20 = [simple_regret_exact_1[slice20],\n",
        "       simple_regret_exact_2[slice20],\n",
        "       simple_regret_exact_3[slice20],\n",
        "       simple_regret_exact_4[slice20],\n",
        "       simple_regret_exact_5[slice20],\n",
        "       simple_regret_exact_6[slice20],\n",
        "       simple_regret_exact_7[slice20],\n",
        "       simple_regret_exact_8[slice20],\n",
        "       simple_regret_exact_9[slice20],\n",
        "       simple_regret_exact_10[slice20],\n",
        "       simple_regret_exact_11[slice20],\n",
        "       simple_regret_exact_12[slice20],\n",
        "       simple_regret_exact_13[slice20],\n",
        "       simple_regret_exact_14[slice20],\n",
        "       simple_regret_exact_15[slice20],\n",
        "       simple_regret_exact_16[slice20],\n",
        "       simple_regret_exact_17[slice20],\n",
        "       simple_regret_exact_18[slice20],\n",
        "       simple_regret_exact_19[slice20],\n",
        "       simple_regret_exact_20[slice20]]\n",
        "\n",
        "approx20_results = pd.DataFrame(approx20).sort_values(by=[0], ascending=False)\n",
        "exact20_results = pd.DataFrame(exact20).sort_values(by=[0], ascending=False)\n",
        "\n",
        "### Best simple regret minimization IQR - approx:\n",
        "lower_approx20 = np.asarray(approx20_results[4:5][0])[0]\n",
        "median_approx20 = np.asarray(approx20_results[9:10][0])[0]\n",
        "upper_approx20 = np.asarray(approx20_results[14:15][0])[0]\n",
        "\n",
        "lower_exact20 = np.asarray(exact20_results[4:5][0])[0]\n",
        "median_exact20 = np.asarray(exact20_results[9:10][0])[0]\n",
        "upper_exact20 = np.asarray(exact20_results[14:15][0])[0]"
      ],
      "execution_count": null,
      "outputs": []
    },
    {
      "cell_type": "code",
      "metadata": {
        "id": "gn36RejbQxf_"
      },
      "source": [
        "### Summarize arrays: 'Loser'\n",
        "\n",
        "lower_approx = [lower_approx1,\n",
        "            lower_approx2,\n",
        "            lower_approx3,\n",
        "            lower_approx4,\n",
        "            lower_approx5,\n",
        "            lower_approx6,\n",
        "            lower_approx7,\n",
        "            lower_approx8,\n",
        "            lower_approx9,\n",
        "            lower_approx10,\n",
        "            lower_approx11,\n",
        "            lower_approx12,\n",
        "            lower_approx13,\n",
        "            lower_approx14,\n",
        "            lower_approx15,\n",
        "            lower_approx16,\n",
        "            lower_approx17,\n",
        "            lower_approx18,\n",
        "            lower_approx19,\n",
        "            lower_approx20,\n",
        "            lower_approx21]\n",
        "\n",
        "median_approx = [median_approx1,\n",
        "            median_approx2,\n",
        "            median_approx3,\n",
        "            median_approx4,\n",
        "            median_approx5,\n",
        "            median_approx6,\n",
        "            median_approx7,\n",
        "            median_approx8,\n",
        "            median_approx9,\n",
        "            median_approx10,\n",
        "            median_approx11,\n",
        "            median_approx12,\n",
        "            median_approx13,\n",
        "            median_approx14,\n",
        "            median_approx15,\n",
        "            median_approx16,\n",
        "            median_approx17,\n",
        "            median_approx18,\n",
        "            median_approx19,\n",
        "            median_approx20,\n",
        "            median_approx21]\n",
        "\n",
        "upper_approx = [upper_approx1,\n",
        "            upper_approx2,\n",
        "            upper_approx3,\n",
        "            upper_approx4,\n",
        "            upper_approx5,\n",
        "            upper_approx6,\n",
        "            upper_approx7,\n",
        "            upper_approx8,\n",
        "            upper_approx9,\n",
        "            upper_approx10,\n",
        "            upper_approx11,\n",
        "            upper_approx12,\n",
        "            upper_approx13,\n",
        "            upper_approx14,\n",
        "            upper_approx15,\n",
        "            upper_approx16,\n",
        "            upper_approx17,\n",
        "            upper_approx18,\n",
        "            upper_approx19,\n",
        "            upper_approx20,\n",
        "            upper_approx21]"
      ],
      "execution_count": null,
      "outputs": []
    },
    {
      "cell_type": "code",
      "metadata": {
        "id": "wxtGTOYfQxf_"
      },
      "source": [
        "### Summarize arrays: 'exact'\n",
        "\n",
        "lower_exact = [lower_exact1,\n",
        "            lower_exact2,\n",
        "            lower_exact3,\n",
        "            lower_exact4,\n",
        "            lower_exact5,\n",
        "            lower_exact6,\n",
        "            lower_exact7,\n",
        "            lower_exact8,\n",
        "            lower_exact9,\n",
        "            lower_exact10,\n",
        "            lower_exact11,\n",
        "            lower_exact12,\n",
        "            lower_exact13,\n",
        "            lower_exact14,\n",
        "            lower_exact15,\n",
        "            lower_exact16,\n",
        "            lower_exact17,\n",
        "            lower_exact18,\n",
        "            lower_exact19,\n",
        "            lower_exact20,\n",
        "            lower_exact21]\n",
        "\n",
        "median_exact = [median_exact1,\n",
        "            median_exact2,\n",
        "            median_exact3,\n",
        "            median_exact4,\n",
        "            median_exact5,\n",
        "            median_exact6,\n",
        "            median_exact7,\n",
        "            median_exact8,\n",
        "            median_exact9,\n",
        "            median_exact10,\n",
        "            median_exact11,\n",
        "            median_exact12,\n",
        "            median_exact13,\n",
        "            median_exact14,\n",
        "            median_exact15,\n",
        "            median_exact16,\n",
        "            median_exact17,\n",
        "            median_exact18,\n",
        "            median_exact19,\n",
        "            median_exact20,\n",
        "            median_exact21]\n",
        "\n",
        "upper_exact = [upper_exact1,\n",
        "            upper_exact2,\n",
        "            upper_exact3,\n",
        "            upper_exact4,\n",
        "            upper_exact5,\n",
        "            upper_exact6,\n",
        "            upper_exact7,\n",
        "            upper_exact8,\n",
        "            upper_exact9,\n",
        "            upper_exact10,\n",
        "            upper_exact11,\n",
        "            upper_exact12,\n",
        "            upper_exact13,\n",
        "            upper_exact14,\n",
        "            upper_exact15,\n",
        "            upper_exact16,\n",
        "            upper_exact17,\n",
        "            upper_exact18,\n",
        "            upper_exact19,\n",
        "            upper_exact20,\n",
        "            upper_exact21]"
      ],
      "execution_count": null,
      "outputs": []
    },
    {
      "cell_type": "code",
      "metadata": {
        "id": "2MONq-BXQxgA",
        "colab": {
          "base_uri": "https://localhost:8080/",
          "height": 299
        },
        "outputId": "c29aa556-8a84-42fd-ffe0-594466060c56"
      },
      "source": [
        "### Visualise!\n",
        "\n",
        "title = func\n",
        "plt.figure()\n",
        "\n",
        "plt.plot(median_approx, color = 'Green')\n",
        "plt.plot(median_exact, color = 'Blue')\n",
        "\n",
        "xstar = np.arange(0, iters+1, step=1)\n",
        "plt.fill_between(xstar, lower_approx, upper_approx, facecolor = 'Green', alpha=0.4, label='GP ERM Optimization: Approx GP ERM gradients')\n",
        "plt.fill_between(xstar, lower_exact, upper_exact, facecolor = 'Blue', alpha=0.4, label='GP ERM Optimization: Exact GP dERM gradients')\n",
        "\n",
        "plt.title(title, weight = 'bold')\n",
        "plt.xlabel('(Post-initialization) iteration $\\it{k}$', weight = 'bold')\n",
        "plt.ylabel('log(Regret)', weight = 'bold') \n",
        "plt.legend(loc=1) # add plot legend\n",
        "\n",
        "### Make the x-ticks integers, not floats:\n",
        "count = len(xstar)\n",
        "plt.xticks(np.arange(count), np.arange(0, count))\n",
        "plt.show() #visualize!"
      ],
      "execution_count": 103,
      "outputs": [
        {
          "output_type": "display_data",
          "data": {
            "image/png": "[encoded data removed]",
            "text/plain": [
              "<Figure size 432x288 with 1 Axes>"
            ]
          },
          "metadata": {
            "needs_background": "light"
          }
        }
      ]
    },
    {
      "cell_type": "code",
      "metadata": {
        "id": "l5dkR2Id2oiu",
        "colab": {
          "base_uri": "https://localhost:8080/"
        },
        "outputId": "a414cbc3-daa5-4270-9f47-e6b85ed53bc0"
      },
      "source": [
        "time_approx, time_exact\n"
      ],
      "execution_count": null,
      "outputs": [
        {
          "output_type": "execute_result",
          "data": {
            "text/plain": [
              "(163.2577896118164, 643.4609100818634)"
            ]
          },
          "metadata": {},
          "execution_count": 102
        }
      ]
    },
    {
      "cell_type": "code",
      "metadata": {
        "id": "77BffxK2Fe61"
      },
      "source": [
        ""
      ],
      "execution_count": null,
      "outputs": []
    }
  ]
}