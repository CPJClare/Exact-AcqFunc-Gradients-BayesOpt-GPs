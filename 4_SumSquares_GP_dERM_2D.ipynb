{
  "nbformat": 4,
  "nbformat_minor": 0,
  "metadata": {
    "colab": {
      "name": "4. SumSquares_GP_dERM_2D.ipynb",
      "provenance": [],
      "collapsed_sections": []
    },
    "kernelspec": {
      "name": "python3",
      "display_name": "Python 3"
    },
    "language_info": {
      "name": "python"
    }
  },
  "cells": [
    {
      "cell_type": "markdown",
      "metadata": {
        "id": "Dqn4dFx7Z2Ir"
      },
      "source": [
        "\n",
        "SumSquares: 2D\n"
      ]
    },
    {
      "cell_type": "code",
      "metadata": {
        "id": "MJTM_GZZZb5x",
        "colab": {
          "base_uri": "https://localhost:8080/"
        },
        "outputId": "d80783e9-580e-4444-8760-1b394565e125"
      },
      "source": [
        "pip install pyGPGO\n"
      ],
      "execution_count": null,
      "outputs": [
        {
          "output_type": "stream",
          "name": "stdout",
          "text": [
            "Collecting pyGPGO\n",
            "  Downloading pyGPGO-0.5.1.tar.gz (14 kB)\n",
            "Requirement already satisfied: numpy in /usr/local/lib/python3.7/dist-packages (from pyGPGO) (1.19.5)\n",
            "Requirement already satisfied: mkl in /usr/local/lib/python3.7/dist-packages (from pyGPGO) (2019.0)\n",
            "Requirement already satisfied: scipy in /usr/local/lib/python3.7/dist-packages (from pyGPGO) (1.4.1)\n",
            "Requirement already satisfied: joblib in /usr/local/lib/python3.7/dist-packages (from pyGPGO) (1.1.0)\n",
            "Requirement already satisfied: scikit-learn in /usr/local/lib/python3.7/dist-packages (from pyGPGO) (1.0.1)\n",
            "Requirement already satisfied: Theano-PyMC in /usr/local/lib/python3.7/dist-packages (from pyGPGO) (1.1.2)\n",
            "Requirement already satisfied: pyMC3 in /usr/local/lib/python3.7/dist-packages (from pyGPGO) (3.11.4)\n",
            "Requirement already satisfied: intel-openmp in /usr/local/lib/python3.7/dist-packages (from mkl->pyGPGO) (2021.4.0)\n",
            "Requirement already satisfied: cachetools>=4.2.1 in /usr/local/lib/python3.7/dist-packages (from pyMC3->pyGPGO) (4.2.4)\n",
            "Requirement already satisfied: arviz>=0.11.0 in /usr/local/lib/python3.7/dist-packages (from pyMC3->pyGPGO) (0.11.4)\n",
            "Requirement already satisfied: fastprogress>=0.2.0 in /usr/local/lib/python3.7/dist-packages (from pyMC3->pyGPGO) (1.0.0)\n",
            "Requirement already satisfied: semver>=2.13.0 in /usr/local/lib/python3.7/dist-packages (from pyMC3->pyGPGO) (2.13.0)\n",
            "Requirement already satisfied: typing-extensions>=3.7.4 in /usr/local/lib/python3.7/dist-packages (from pyMC3->pyGPGO) (3.10.0.2)\n",
            "Requirement already satisfied: dill in /usr/local/lib/python3.7/dist-packages (from pyMC3->pyGPGO) (0.3.4)\n",
            "Requirement already satisfied: pandas>=0.24.0 in /usr/local/lib/python3.7/dist-packages (from pyMC3->pyGPGO) (1.1.5)\n",
            "Requirement already satisfied: patsy>=0.5.1 in /usr/local/lib/python3.7/dist-packages (from pyMC3->pyGPGO) (0.5.2)\n",
            "Requirement already satisfied: filelock in /usr/local/lib/python3.7/dist-packages (from Theano-PyMC->pyGPGO) (3.3.2)\n",
            "Requirement already satisfied: xarray>=0.16.1 in /usr/local/lib/python3.7/dist-packages (from arviz>=0.11.0->pyMC3->pyGPGO) (0.18.2)\n",
            "Requirement already satisfied: matplotlib>=3.0 in /usr/local/lib/python3.7/dist-packages (from arviz>=0.11.0->pyMC3->pyGPGO) (3.2.2)\n",
            "Requirement already satisfied: setuptools>=38.4 in /usr/local/lib/python3.7/dist-packages (from arviz>=0.11.0->pyMC3->pyGPGO) (57.4.0)\n",
            "Requirement already satisfied: packaging in /usr/local/lib/python3.7/dist-packages (from arviz>=0.11.0->pyMC3->pyGPGO) (21.2)\n",
            "Requirement already satisfied: netcdf4 in /usr/local/lib/python3.7/dist-packages (from arviz>=0.11.0->pyMC3->pyGPGO) (1.5.8)\n",
            "Requirement already satisfied: pyparsing!=2.0.4,!=2.1.2,!=2.1.6,>=2.0.1 in /usr/local/lib/python3.7/dist-packages (from matplotlib>=3.0->arviz>=0.11.0->pyMC3->pyGPGO) (2.4.7)\n",
            "Requirement already satisfied: python-dateutil>=2.1 in /usr/local/lib/python3.7/dist-packages (from matplotlib>=3.0->arviz>=0.11.0->pyMC3->pyGPGO) (2.8.2)\n",
            "Requirement already satisfied: cycler>=0.10 in /usr/local/lib/python3.7/dist-packages (from matplotlib>=3.0->arviz>=0.11.0->pyMC3->pyGPGO) (0.11.0)\n",
            "Requirement already satisfied: kiwisolver>=1.0.1 in /usr/local/lib/python3.7/dist-packages (from matplotlib>=3.0->arviz>=0.11.0->pyMC3->pyGPGO) (1.3.2)\n",
            "Requirement already satisfied: pytz>=2017.2 in /usr/local/lib/python3.7/dist-packages (from pandas>=0.24.0->pyMC3->pyGPGO) (2018.9)\n",
            "Requirement already satisfied: six in /usr/local/lib/python3.7/dist-packages (from patsy>=0.5.1->pyMC3->pyGPGO) (1.15.0)\n",
            "Requirement already satisfied: cftime in /usr/local/lib/python3.7/dist-packages (from netcdf4->arviz>=0.11.0->pyMC3->pyGPGO) (1.5.1.1)\n",
            "Requirement already satisfied: threadpoolctl>=2.0.0 in /usr/local/lib/python3.7/dist-packages (from scikit-learn->pyGPGO) (3.0.0)\n",
            "Building wheels for collected packages: pyGPGO\n",
            "  Building wheel for pyGPGO (setup.py) ... \u001b[?25l\u001b[?25hdone\n",
            "  Created wheel for pyGPGO: filename=pyGPGO-0.5.1-py3-none-any.whl size=19880 sha256=190b7659cd4936417ee5b90b21c267a8c095cf5dc6a63826f8e437b04e867d32\n",
            "  Stored in directory: /root/.cache/pip/wheels/c8/5d/0b/2160114e2f1b87791c51b66cf07f89831dbb6f49167950316f\n",
            "Successfully built pyGPGO\n",
            "Installing collected packages: pyGPGO\n",
            "Successfully installed pyGPGO-0.5.1\n"
          ]
        }
      ]
    },
    {
      "cell_type": "code",
      "metadata": {
        "id": "ZJSSPbwPaEUB"
      },
      "source": [
        "### Import:\n",
        "\n",
        "import numpy as np\n",
        "import scipy as sp\n",
        "import pandas as pd\n",
        "import matplotlib.pyplot as plt\n",
        "import warnings\n",
        "import itertools\n",
        "\n",
        "from pyGPGO.GPGO import GPGO\n",
        "from pyGPGO.surrogates.GaussianProcess import GaussianProcess\n",
        "from pyGPGO.acquisition import Acquisition\n",
        "from pyGPGO.covfunc import squaredExponential\n",
        "\n",
        "from joblib import Parallel, delayed\n",
        "from numpy.linalg import solve, cholesky\n",
        "from scipy.spatial.distance import cdist\n",
        "from scipy.optimize import minimize\n",
        "from scipy.stats import norm\n",
        "import time\n",
        "\n",
        "warnings.filterwarnings(\"ignore\", category=RuntimeWarning)\n"
      ],
      "execution_count": null,
      "outputs": []
    },
    {
      "cell_type": "code",
      "metadata": {
        "id": "OeYcTUNoaJWa"
      },
      "source": [
        "### Inputs:\n",
        "\n",
        "func = 'SumSquares'\n",
        "n_test = 500\n",
        "eps = 1e-08\n",
        "\n",
        "util_grad_exact = 'dERM_GP'\n",
        "util_grad_approx = 'ExpectedRegret'\n",
        "\n",
        "n_init = 5 # random initialisations\n",
        "iters = 20\n",
        "opt = True"
      ],
      "execution_count": null,
      "outputs": []
    },
    {
      "cell_type": "code",
      "metadata": {
        "id": "xpaEOjdzaPMS"
      },
      "source": [
        "### Objective Function - Sum Squares(x) 2-D:\n",
        "\n",
        "def objfunc(x1_training, x2_training):\n",
        "            return  operator * (  1 * x1_training ** 2\n",
        "                            + 2 * x2_training ** 2\n",
        "                            )\n",
        "        \n",
        "# Constraints:\n",
        "lb = -10\n",
        "ub = +10\n",
        "    \n",
        "# Input array dimension(s):\n",
        "dim = 2\n",
        "\n",
        "# 2-D inputs' parameter bounds:\n",
        "param = {'x1_training': ('cont', [lb, ub]),\n",
        "                 'x2_training': ('cont', [lb, ub])\n",
        "                 }\n",
        "    \n",
        "# True y bounds:\n",
        "y_lb = 0\n",
        "operator = -1 # targets global minimum \n",
        "y_global_orig = y_lb * operator # targets global minimum\n",
        "    \n",
        "# Test data:\n",
        "x1_test = np.linspace(lb, ub, n_test)\n",
        "x2_test = np.linspace(lb, ub, n_test)\n",
        "x_test = np.column_stack((x1_test, x2_test))\n"
      ],
      "execution_count": null,
      "outputs": []
    },
    {
      "cell_type": "code",
      "metadata": {
        "id": "eYpI3Zm4aGxi"
      },
      "source": [
        "n_start_AcqFunc = iters\n"
      ],
      "execution_count": null,
      "outputs": []
    },
    {
      "cell_type": "code",
      "metadata": {
        "id": "oO_GUmOoaV0T"
      },
      "source": [
        "### Cumulative Regret Calculator:\n",
        "\n",
        "def min_max_array(x):\n",
        "    new_list = []\n",
        "    for i, num in enumerate(x):\n",
        "            new_list.append(np.min(x[0:i+1]))\n",
        "    return new_list\n",
        "  "
      ],
      "execution_count": null,
      "outputs": []
    },
    {
      "cell_type": "code",
      "metadata": {
        "id": "kuuJx0IMam9S"
      },
      "source": [
        "### Surrogate derivatives: \n",
        "\n",
        "cov_func = squaredExponential()\n",
        "\n",
        "def kronDelta(X, Xstar):\n",
        "    return cdist(X, Xstar) < np.finfo(np.float32).eps\n",
        "\n",
        "def se(X, Xstar, sigmaf, l, sigman):\n",
        "    return sigmaf * np.exp(-0.5 * cdist(X, Xstar) ** 2 / l ** 2) + sigman * kronDelta(X, Xstar)\n",
        "\n",
        "def deriv_se(X, Xstar, sigmaf, l, sigman):\n",
        "    return cdist(X, Xstar) / (l ** 2) * se(X, Xstar, sigmaf, l, sigman)\n",
        "\n",
        "def der_covmat(X, Xstar, sigmaf, l, sigman):\n",
        "      nx = len(X)\n",
        "      ny = len(Xstar)\n",
        "      return np.round(np.array([deriv_se(np.atleast_2d(i), np.atleast_2d(j), sigmaf, l, sigman) for (i, j) in itertools.product(X, Xstar)]).reshape(nx, ny), 8)\n",
        "\n",
        "class dGaussianProcess(GaussianProcess):\n",
        "    l = GaussianProcess(cov_func, optimize=opt).getcovparams()['l']\n",
        "    sigmaf = GaussianProcess(cov_func, optimize=opt).getcovparams()['sigmaf']\n",
        "    sigman = GaussianProcess(cov_func, optimize=opt).getcovparams()['sigman']\n",
        "\n",
        "    def AcqGrad(self, Xstar):\n",
        "        Xstar = np.atleast_2d(Xstar)\n",
        "        Kstar = self.covfunc.K(self.X, Xstar).T\n",
        "        dKstar = der_covmat(self.X, Xstar, self.sigmaf, self.l, self.sigman).T\n",
        "        \n",
        "        alpha_Kstar = np.dot(np.linalg.inv(self.K + (self.sigman**2) * np.eye(len(self.X))), Kstar.T)\n",
        "        \n",
        "        dm = np.dot(dKstar, self.alpha)\n",
        "        ds = -2 * np.dot(dKstar, alpha_Kstar)\n",
        "        \n",
        "        return dm, ds\n",
        "        "
      ],
      "execution_count": null,
      "outputs": []
    },
    {
      "cell_type": "code",
      "metadata": {
        "id": "_Dc3YVHVaXz7"
      },
      "source": [
        "class Acquisition_new(Acquisition):    \n",
        "    def __init__(self, mode, eps=eps, **params):\n",
        "        \n",
        "        self.params = params\n",
        "        self.eps = eps\n",
        "\n",
        "        mode_dict = {\n",
        "            'ExpectedRegret': self.ExpectedRegret,\n",
        "            'dERM_GP': self.dERM_GP\n",
        "        }\n",
        "\n",
        "        self.f = mode_dict[mode]\n",
        "    \n",
        "    def ExpectedRegret(self, tau, mean, std):\n",
        "        z = (mean - y_global_orig - self.eps) / (std + self.eps)\n",
        "        return (mean - y_global_orig) * norm.cdf(z) + std * norm.pdf(z)[0]\n",
        "\n",
        "\n",
        "    def dERM_GP(self, tau, mean, std, ds, dm):\n",
        "        gamma = (mean - y_global_orig - self.eps) / (std + self.eps)\n",
        "        gamma_h = (mean - tau) / (std + self.eps)\n",
        "        dsdx = ds / (2 * (std + self.eps))\n",
        "        dmdx = (dm - gamma * dsdx) / (std + self.eps)\n",
        "        \n",
        "        f = (std + self.eps) * (gamma * norm.cdf(gamma) + norm.pdf(gamma))\n",
        "        df1 = f / (std + self.eps) * dsdx \n",
        "        df2 = (std + self.eps) * norm.cdf(gamma) * dmdx\n",
        "        df = (df1 + df2)[0]\n",
        "        df_arr = []\n",
        "\n",
        "        for j in range(0, dim):\n",
        "          df_arr.append(df)\n",
        "        return f, np.asarray(df_arr).transpose()\n",
        "        \n",
        "    def d_eval(self, tau, mean, std, ds, dm):\n",
        "    \n",
        "        return self.f(tau, mean, std, ds, dm, **self.params)\n",
        "        "
      ],
      "execution_count": null,
      "outputs": []
    },
    {
      "cell_type": "code",
      "metadata": {
        "id": "PITEQC8YSl7i"
      },
      "source": [
        "## GPGO_multi: Multistart changed to variable 'n_start_AcqFunc'\n",
        "\n",
        "class GPGO_multi(GPGO):\n",
        "    n_start = n_start_AcqFunc\n",
        "\n",
        "    def _optimizeAcq(self, method='L-BFGS-B', n_start=n_start_AcqFunc):\n",
        "        \n",
        "        start_points_dict = [self._sampleParam() for i in range(n_start)]\n",
        "        start_points_arr = np.array([list(s.values())\n",
        "                                     for s in start_points_dict])\n",
        "        x_best = np.empty((n_start, len(self.parameter_key)))\n",
        "        f_best = np.empty((n_start,))\n",
        "        if self.n_jobs == 1:\n",
        "            for index, start_point in enumerate(start_points_arr):\n",
        "                res = minimize(self._acqWrapper, x0=start_point, method=method,\n",
        "                               bounds=self.parameter_range)\n",
        "                x_best[index], f_best[index] = res.x, np.atleast_1d(res.fun)[0]\n",
        "        else:\n",
        "            opt = Parallel(n_jobs=self.n_jobs)(delayed(minimize)(self._acqWrapper,\n",
        "                                                                 x0=start_point,\n",
        "                                                                 method=method,\n",
        "                                                                 bounds=self.parameter_range) for start_point in\n",
        "                                               start_points_arr)\n",
        "            x_best = np.array([res.x for res in opt])\n",
        "            f_best = np.array([np.atleast_1d(res.fun)[0] for res in opt])\n",
        "\n",
        "        self.best = x_best[np.argmin(f_best)]"
      ],
      "execution_count": null,
      "outputs": []
    },
    {
      "cell_type": "code",
      "metadata": {
        "id": "b_B-w81BJxKN"
      },
      "source": [
        "## dGPGO:\n",
        "\n",
        "grad = 1\n",
        "\n",
        "class dGPGO(GPGO):\n",
        "    n_start = n_start_AcqFunc\n",
        "\n",
        "    def d_optimizeAcq(self, method='L-BFGS-B', n_start=n_start_AcqFunc):\n",
        "        start_points_dict = [self._sampleParam() for i in range(n_start)]\n",
        "        start_points_arr = np.array([list(s.values())\n",
        "                                     for s in start_points_dict])\n",
        "        x_best = np.empty((n_start, len(self.parameter_key)))\n",
        "        f_best = np.empty((n_start,))\n",
        "        opt = Parallel(n_jobs=self.n_jobs)(delayed(minimize)(self.acqfunc,\n",
        "                                                                 x0=start_point,\n",
        "                                                                 method=method,\n",
        "                                                                 jac = True,\n",
        "                                                                 bounds=self.parameter_range) for start_point in\n",
        "                                               start_points_arr)\n",
        "        x_best = np.array([res.x for res in opt])\n",
        "        f_best = np.array([np.atleast_1d(res.fun)[0] for res in opt])\n",
        "\n",
        "        self.x_best = x_best\n",
        "        self.f_best = f_best\n",
        "        self.best = x_best[np.argmin(f_best)]\n",
        "        self.start_points_arr = start_points_arr\n",
        "\n",
        "        return x_best, f_best\n",
        "    \n",
        "    def run(self, max_iter=10, init_evals=3, resume=False):\n",
        "        \n",
        "        if not resume:\n",
        "            self.init_evals = init_evals\n",
        "            self._firstRun(self.init_evals)\n",
        "            self.logger._printInit(self)\n",
        "        for iteration in range(max_iter):\n",
        "            self.d_optimizeAcq()\n",
        "            self.updateGP()\n",
        "            self.logger._printCurrent(self)\n",
        "\n",
        "    def acqfunc(self, xnew, n_start=n_start_AcqFunc):\n",
        "        new_mean, new_var = self.GP.predict(xnew, return_std=True)\n",
        "        new_std = np.sqrt(new_var + eps)\n",
        "        dm, ds = self.GP.AcqGrad(xnew)\n",
        "        f, df = self.A.d_eval(self.tau, new_mean, new_std, ds=ds, dm=dm)\n",
        "\n",
        "        return -f, -df * grad\n"
      ],
      "execution_count": null,
      "outputs": []
    },
    {
      "cell_type": "code",
      "metadata": {
        "id": "qXIKGuXVGEg2"
      },
      "source": [
        "###Reproducible set-seeds:\n",
        "\n",
        "run_num_1 = 1\n",
        "run_num_2 = 2\n",
        "run_num_3 = 3\n",
        "run_num_4 = 4\n",
        "run_num_5 = 5\n",
        "run_num_6 = 6\n",
        "run_num_7 = 7\n",
        "run_num_8 = 8\n",
        "run_num_9 = 9\n",
        "run_num_10 = 10\n",
        "run_num_11 = 11\n",
        "run_num_12 = 12\n",
        "run_num_13 = 13\n",
        "run_num_14 = 14\n",
        "run_num_15 = 15\n",
        "run_num_16 = 16\n",
        "run_num_17 = 17\n",
        "run_num_18 = 18\n",
        "run_num_19 = 19\n",
        "run_num_20 = 20\n"
      ],
      "execution_count": null,
      "outputs": []
    },
    {
      "cell_type": "code",
      "metadata": {
        "colab": {
          "base_uri": "https://localhost:8080/"
        },
        "id": "JEhagQmnTVIK",
        "outputId": "73490855-3445-4366-c10d-7db644daa804"
      },
      "source": [
        "start_approx = time.time()\n",
        "start_approx\n"
      ],
      "execution_count": null,
      "outputs": [
        {
          "output_type": "execute_result",
          "data": {
            "text/plain": [
              "1637145829.8150449"
            ]
          },
          "metadata": {},
          "execution_count": 12
        }
      ]
    },
    {
      "cell_type": "code",
      "metadata": {
        "colab": {
          "base_uri": "https://localhost:8080/"
        },
        "id": "aH0YSTXufD1v",
        "outputId": "03c0dc93-c699-453a-a38d-b1c36bf7297e"
      },
      "source": [
        "### ESTIMATED GP EI GRADIENTS\n",
        "\n",
        "np.random.seed(run_num_1)\n",
        "surrogate_approx_1 = GaussianProcess(cov_func, optimize=opt)\n",
        "\n",
        "approx_1 = GPGO_multi(surrogate_approx_1, Acquisition_new(util_grad_approx), objfunc, param)\n",
        "approx_1.run(init_evals=n_init, max_iter=iters)\n"
      ],
      "execution_count": null,
      "outputs": [
        {
          "output_type": "stream",
          "name": "stdout",
          "text": [
            "Evaluation \t Proposed point \t  Current eval. \t Best eval.\n",
            "init   \t [-1.65955991  4.40648987]. \t  -41.5884450098667 \t -5.468172821636052\n",
            "init   \t [-9.9977125  -3.95334855]. \t  -131.21218477957908 \t -5.468172821636052\n",
            "init   \t [-7.06488218 -8.1532281 ]. \t  -182.86281732102734 \t -5.468172821636052\n",
            "init   \t [-6.27479577 -3.08878546]. \t  -58.4542532110911 \t -5.468172821636052\n",
            "init   \t [-2.06465052  0.77633468]. \t  -5.468172821636052 \t -5.468172821636052\n",
            "1      \t [ 7.89213327 -8.29911577]. \t  -200.03641276683908 \t -5.468172821636052\n",
            "2      \t [7.66612182 2.47344414]. \t  -71.00527566059496 \t -5.468172821636052\n",
            "3      \t [1.62717855 9.40039978]. \t  -179.3827421328839 \t -5.468172821636052\n",
            "4      \t [-9.56950389  8.95940422]. \t  -252.11725289788865 \t -5.468172821636052\n",
            "5      \t [ 2.56152397 -4.28847437]. \t  -43.34342980630102 \t -5.468172821636052\n",
            "6      \t [  1.1169921 -10.       ]. \t  -201.2476713447619 \t -5.468172821636052\n",
            "7      \t [-7.49060555  3.35024517]. \t  -78.55745694801789 \t -5.468172821636052\n",
            "8      \t [9.02387571 8.10804067]. \t  -212.91097997027106 \t -5.468172821636052\n",
            "9      \t [10.         -2.85188157]. \t  -116.26645702057576 \t -5.468172821636052\n",
            "10     \t [2.64920007 1.04053183]. \t  -9.183673986517087 \t -5.468172821636052\n",
            "11     \t [-3.97569829 10.        ]. \t  -215.80617686500926 \t -5.468172821636052\n",
            "12     \t [-2.16296243 -5.88048627]. \t  -73.83864392235628 \t -5.468172821636052\n",
            "13     \t [3.84774591 5.14667419]. \t  -67.78165896257919 \t -5.468172821636052\n",
            "14     \t [ 5.72317451 -1.50577622]. \t  -37.28945056003628 \t -5.468172821636052\n",
            "15     \t [ -3.2240126 -10.       ]. \t  -210.39425723570147 \t -5.468172821636052\n",
            "16     \t [-0.60182702 -2.03278925]. \t  -8.626660068368503 \t -5.468172821636052\n",
            "17     \t [-10.           0.24203807]. \t  -100.11716485912413 \t -5.468172821636052\n",
            "18     \t [ 5.53549278 10.        ]. \t  -230.6416803362896 \t -5.468172821636052\n",
            "19     \t [-5.00571267  6.12611485]. \t  -100.11572564430831 \t -5.468172821636052\n",
            "20     \t [-5.00908085  0.4486467 ]. \t  -25.493458665905877 \t -5.468172821636052\n"
          ]
        }
      ]
    },
    {
      "cell_type": "code",
      "metadata": {
        "colab": {
          "base_uri": "https://localhost:8080/"
        },
        "id": "wTxsSZxFGBB5",
        "outputId": "4bd39072-392e-4649-b514-463e90df28c7"
      },
      "source": [
        "### ESTIMATED GP EI GRADIENTS\n",
        "\n",
        "np.random.seed(run_num_2)\n",
        "surrogate_approx_2 = GaussianProcess(cov_func, optimize=opt)\n",
        "\n",
        "approx_2 = GPGO_multi(surrogate_approx_2, Acquisition_new(util_grad_approx), objfunc, param)\n",
        "approx_2.run(init_evals=n_init, max_iter=iters)\n"
      ],
      "execution_count": null,
      "outputs": [
        {
          "output_type": "stream",
          "name": "stdout",
          "text": [
            "Evaluation \t Proposed point \t  Current eval. \t Best eval.\n",
            "init   \t [-1.28010196 -9.48147536]. \t  -181.43541115584648 \t -4.333099000920773\n",
            "init   \t [ 0.99324956 -1.29355215]. \t  -4.333099000920773 \t -4.333099000920773\n",
            "init   \t [-1.59264396 -3.39330358]. \t  -25.565533148780872 \t -4.333099000920773\n",
            "init   \t [-5.90702732  2.38541933]. \t  -46.27342248166184 \t -4.333099000920773\n",
            "init   \t [-4.00690653 -4.6634545 ]. \t  -59.55091562094812 \t -4.333099000920773\n",
            "1      \t [4.01504693 9.2910216 ]. \t  -188.7667666769868 \t -4.333099000920773\n",
            "2      \t [ 9.4582138 -7.7444757]. \t  -209.411615827435 \t -4.333099000920773\n",
            "3      \t [ 9.07319925 -1.03970567]. \t  -84.48492034594878 \t -4.333099000920773\n",
            "4      \t [-9.13741927 -7.85625192]. \t  -206.93381928482216 \t -4.333099000920773\n",
            "5      \t [9.90347629 4.73174783]. \t  -142.85771782951963 \t -4.333099000920773\n",
            "6      \t [-3.25263411  9.0402141 ]. \t  -174.03057068772284 \t -4.333099000920773\n",
            "7      \t [-9.01290675  7.88655796]. \t  -205.6280811546718 \t -4.333099000920773\n",
            "8      \t [0.91788639 4.23601693]. \t  -36.73019421136183 \t -4.333099000920773\n",
            "9      \t [-10.         -2.0092948]. \t  -108.07453115940625 \t -4.333099000920773\n",
            "10     \t [ 4.05372345 -5.55729273]. \t  -78.19967873298117 \t -4.333099000920773\n",
            "11     \t [ 9.79314554 10.        ]. \t  -295.9056995837332 \t -4.333099000920773\n",
            "12     \t [  4.90993564 -10.        ]. \t  -224.1074679872196 \t -4.333099000920773\n",
            "13     \t [5.22523872 2.14432117]. \t  -36.49934622793148 \t -4.333099000920773\n",
            "14     \t [-1.9173604   0.96512813]. \t  -5.539215544867245 \t -4.333099000920773\n",
            "15     \t [-10.           3.12110763]. \t  -119.48262571759297 \t -4.333099000920773\n",
            "16     \t [ -5.48533293 -10.        ]. \t  -230.08887731188327 \t -4.333099000920773\n",
            "17     \t [ 4.66227134 -1.60941391]. \t  -26.917200307308196 \t -4.333099000920773\n",
            "18     \t [-2.88871747  4.79717148]. \t  -54.370397151668584 \t -4.333099000920773\n",
            "19     \t [-5.90531859 -1.36494395]. \t  -38.59893158457583 \t -4.333099000920773\n",
            "20     \t [5.94717819 5.74230615]. \t  -101.31708827349968 \t -4.333099000920773\n"
          ]
        }
      ]
    },
    {
      "cell_type": "code",
      "metadata": {
        "colab": {
          "base_uri": "https://localhost:8080/"
        },
        "id": "-dgzIrUIGCGT",
        "outputId": "94f8cddd-8d40-425b-cff4-3056cca209df"
      },
      "source": [
        "### ESTIMATED GP EI GRADIENTS\n",
        "\n",
        "np.random.seed(run_num_3)\n",
        "surrogate_approx_3 = GaussianProcess(cov_func, optimize=opt)\n",
        "\n",
        "approx_3 = GPGO_multi(surrogate_approx_3, Acquisition_new(util_grad_approx), objfunc, param)\n",
        "approx_3.run(init_evals=n_init, max_iter=iters)\n"
      ],
      "execution_count": null,
      "outputs": [
        {
          "output_type": "stream",
          "name": "stdout",
          "text": [
            "Evaluation \t Proposed point \t  Current eval. \t Best eval.\n",
            "init   \t [1.01595805 4.16295645]. \t  -35.692583610916834 \t -17.582120911078754\n",
            "init   \t [-4.18190522  0.2165521 ]. \t  -17.582120911078754 \t -17.582120911078754\n",
            "init   \t [7.85893909 7.92586178]. \t  -187.4014934415638 \t -17.582120911078754\n",
            "init   \t [-7.48829379 -5.85514244]. \t  -124.63992981683481 \t -17.582120911078754\n",
            "init   \t [-8.97065593 -1.18380313]. \t  -83.2754475728413 \t -17.582120911078754\n",
            "1      \t [ 5.60629529 -3.87272935]. \t  -61.42661215628989 \t -17.582120911078754\n",
            "2      \t [-8.52752662  7.84786375]. \t  -195.89664111179286 \t -17.582120911078754\n",
            "3      \t [-0.35005916 -4.25900471]. \t  -36.40078359655554 \t -17.582120911078754\n",
            "4      \t [9.55904819 0.05502095]. \t  -91.38145696941282 \t -17.582120911078754\n",
            "5      \t [ 1.26866936 10.        ]. \t  -201.60952194488695 \t -17.582120911078754\n",
            "6      \t [ 9.91572611 -9.01887335]. \t  -261.00177731356047 \t -17.582120911078754\n",
            "7      \t [-2.10496259 -9.55536227]. \t  -187.04076369171705 \t -17.582120911078754\n",
            "8      \t [3.68603336 0.5392451 ]. \t  \u001b[92m-14.168412517260489\u001b[0m \t -14.168412517260489\n",
            "9      \t [-3.563219    6.69074367]. \t  -102.22863138699154 \t -14.168412517260489\n",
            "10     \t [-10. -10.]. \t  -300.0 \t -14.168412517260489\n",
            "11     \t [ 3.06806496 -8.28975197]. \t  -146.8529981945441 \t -14.168412517260489\n",
            "12     \t [-7.03293338  3.63874118]. \t  -75.94302669048102 \t -14.168412517260489\n",
            "13     \t [-4.11685903 -3.45936685]. \t  -40.88296634218152 \t -14.168412517260489\n",
            "14     \t [6.42223715 3.51632256]. \t  -65.9741787539397 \t -14.168412517260489\n",
            "15     \t [10.         -4.35832049]. \t  -137.9899149113921 \t -14.168412517260489\n",
            "16     \t [-0.21902957  0.01157051]. \t  \u001b[92m-0.04824170710537467\u001b[0m \t -0.04824170710537467\n",
            "17     \t [3.84712986 6.65963936]. \t  -103.50200094363754 \t -0.04824170710537467\n",
            "18     \t [10.          4.32195614]. \t  -137.3586097290018 \t -0.04824170710537467\n",
            "19     \t [-2.32874402  2.91707656]. \t  -22.44172006867606 \t -0.04824170710537467\n",
            "20     \t [-0.99242418 -0.82206136]. \t  -2.3364755194101416 \t -0.04824170710537467\n"
          ]
        }
      ]
    },
    {
      "cell_type": "code",
      "metadata": {
        "colab": {
          "base_uri": "https://localhost:8080/"
        },
        "id": "hOtG-2sCGCKS",
        "outputId": "9e0ec6b0-69ba-4a03-9e32-74c79b56928f"
      },
      "source": [
        "### ESTIMATED GP EI GRADIENTS\n",
        "\n",
        "np.random.seed(run_num_4)\n",
        "surrogate_approx_4 = GaussianProcess(cov_func, optimize=opt)\n",
        "\n",
        "approx_4 = GPGO_multi(surrogate_approx_4, Acquisition_new(util_grad_approx), objfunc, param)\n",
        "approx_4.run(init_evals=n_init, max_iter=iters)\n"
      ],
      "execution_count": null,
      "outputs": [
        {
          "output_type": "stream",
          "name": "stdout",
          "text": [
            "Evaluation \t Proposed point \t  Current eval. \t Best eval.\n",
            "init   \t [9.34059678 0.94464498]. \t  -89.0314565014143 \t -27.80880071439404\n",
            "init   \t [9.4536872  4.29631987]. \t  -126.28893057280868 \t -27.80880071439404\n",
            "init   \t [ 3.95457649 -5.67821009]. \t  -80.12281484649141 \t -27.80880071439404\n",
            "init   \t [ 9.5254891 -9.8753949]. \t  -285.78179120922215 \t -27.80880071439404\n",
            "init   \t [-4.94035275 -1.30416935]. \t  -27.80880071439404 \t -27.80880071439404\n",
            "1      \t [-6.35109191  8.36766078]. \t  -180.3718623830372 \t -27.80880071439404\n",
            "2      \t [1.43282743 6.87413988]. \t  -96.56059262521096 \t -27.80880071439404\n",
            "3      \t [ -1.01718283 -10.        ]. \t  -201.03466091024856 \t -27.80880071439404\n",
            "4      \t [-10.           1.63643071]. \t  -105.35581092429686 \t -27.80880071439404\n",
            "5      \t [6.76296991 9.58289924]. \t  -229.40167778295262 \t -27.80880071439404\n",
            "6      \t [1.38816048 0.71187876]. \t  \u001b[92m-2.9405322508945897\u001b[0m \t -2.9405322508945897\n",
            "7      \t [-9.17779306 -4.93993421]. \t  -133.03778559310527 \t -2.9405322508945897\n",
            "8      \t [-3.15300854  3.66085957]. \t  -36.7452484549982 \t -2.9405322508945897\n",
            "9      \t [10.        -4.3434752]. \t  -137.73155354120775 \t -2.9405322508945897\n",
            "10     \t [ -6.83016895 -10.        ]. \t  -246.65120788230308 \t -2.9405322508945897\n",
            "11     \t [-1.14749924 -4.50718319]. \t  -41.946155170252034 \t -2.9405322508945897\n",
            "12     \t [ 2.71135264 -9.66992891]. \t  -194.36648322470168 \t -2.9405322508945897\n",
            "13     \t [4.67081978 3.08524574]. \t  -40.85403992333572 \t -2.9405322508945897\n",
            "14     \t [ 5.21746036 -1.33324213]. \t  -30.776961734279176 \t -2.9405322508945897\n",
            "15     \t [-1.88418574 10.        ]. \t  -203.55015589508906 \t -2.9405322508945897\n",
            "16     \t [-4.90060357 -5.87436548]. \t  -93.03225494386083 \t -2.9405322508945897\n",
            "17     \t [-1.38394636 -0.26706859]. \t  \u001b[92m-2.0579587798891454\u001b[0m \t -2.0579587798891454\n",
            "18     \t [ 1.6667071  -2.17242666]. \t  -12.216787765780694 \t -2.0579587798891454\n",
            "19     \t [-10.  10.]. \t  -300.0 \t -2.0579587798891454\n",
            "20     \t [0.46403079 3.14498382]. \t  -19.997170973965115 \t -2.0579587798891454\n"
          ]
        }
      ]
    },
    {
      "cell_type": "code",
      "metadata": {
        "colab": {
          "base_uri": "https://localhost:8080/"
        },
        "id": "JF_SxcEvGCOl",
        "outputId": "914edeb8-af69-494e-b2da-e98ac06dbd59"
      },
      "source": [
        "### ESTIMATED GP EI GRADIENTS\n",
        "\n",
        "np.random.seed(run_num_5)\n",
        "surrogate_approx_5 = GaussianProcess(cov_func, optimize=opt)\n",
        "\n",
        "approx_5 = GPGO_multi(surrogate_approx_5, Acquisition_new(util_grad_approx), objfunc, param)\n",
        "approx_5.run(init_evals=n_init, max_iter=iters)\n"
      ],
      "execution_count": null,
      "outputs": [
        {
          "output_type": "stream",
          "name": "stdout",
          "text": [
            "Evaluation \t Proposed point \t  Current eval. \t Best eval.\n",
            "init   \t [-5.56013658  7.41464612]. \t  -140.86907304317228 \t -10.04307293518387\n",
            "init   \t [-5.86561689  8.37221816]. \t  -174.59353533361667 \t -10.04307293518387\n",
            "init   \t [-0.23177622  2.23487726]. \t  -10.04307293518387 \t -10.04307293518387\n",
            "init   \t [5.31815713 0.36835976]. \t  -28.554173077012745 \t -10.04307293518387\n",
            "init   \t [-4.06398997 -6.24557543]. \t  -94.53043928694063 \t -10.04307293518387\n",
            "1      \t [9.27861058 9.20453431]. \t  -255.5395178906315 \t -10.04307293518387\n",
            "2      \t [ 8.87080164 -7.76615146]. \t  -199.31733862713008 \t -10.04307293518387\n",
            "3      \t [0.54357666 9.2242228 ]. \t  -170.4680482407008 \t -10.04307293518387\n",
            "4      \t [ 2.49508934 -6.80638133]. \t  -98.87912454627462 \t -10.04307293518387\n",
            "5      \t [-10.          -5.51410504]. \t  -160.81070873939112 \t -10.04307293518387\n",
            "6      \t [-8.62367183  0.50898962]. \t  -74.88585667581904 \t -10.04307293518387\n",
            "7      \t [10.          3.37456894]. \t  -122.77543106733403 \t -10.04307293518387\n",
            "8      \t [10.        -2.2421238]. \t  -110.05423826130482 \t -10.04307293518387\n",
            "9      \t [4.76089451 5.59371431]. \t  -85.24539623594852 \t -10.04307293518387\n",
            "10     \t [-3.63307563 -1.04626143]. \t  -15.38856448586747 \t -10.04307293518387\n",
            "11     \t [ -7.49970684 -10.        ]. \t  -256.2456027149143 \t -10.04307293518387\n",
            "12     \t [-10.          5.2559953]. \t  -155.25097324151815 \t -10.04307293518387\n",
            "13     \t [ 1.02692531 -2.0835358 ]. \t  \u001b[92m-9.736818446334702\u001b[0m \t -9.736818446334702\n",
            "14     \t [ -1.11930922 -10.        ]. \t  -201.2528531322303 \t -9.736818446334702\n",
            "15     \t [ 5.79628138 -3.87245825]. \t  -63.58874362519282 \t -9.736818446334702\n",
            "16     \t [-4.49165603  2.99945462]. \t  -38.16842997327295 \t -9.736818446334702\n",
            "17     \t [-1.52573059  5.56595369]. \t  -64.28753469621154 \t -9.736818446334702\n",
            "18     \t [ 4.86540253 10.        ]. \t  -223.67214181854663 \t -9.736818446334702\n",
            "19     \t [-10.  10.]. \t  -300.0 \t -9.736818446334702\n",
            "20     \t [  5.10722481 -10.        ]. \t  -226.08374522373168 \t -9.736818446334702\n"
          ]
        }
      ]
    },
    {
      "cell_type": "code",
      "metadata": {
        "colab": {
          "base_uri": "https://localhost:8080/"
        },
        "id": "-kDxZtJsGCR3",
        "outputId": "bed78b0a-adc7-49d0-cdb2-9c3ad0862ff8"
      },
      "source": [
        "### ESTIMATED GP EI GRADIENTS\n",
        "\n",
        "np.random.seed(run_num_6)\n",
        "surrogate_approx_6 = GaussianProcess(cov_func, optimize=opt)\n",
        "\n",
        "approx_6 = GPGO_multi(surrogate_approx_6, Acquisition_new(util_grad_approx), objfunc, param)\n",
        "approx_6.run(init_evals=n_init, max_iter=iters)\n"
      ],
      "execution_count": null,
      "outputs": [
        {
          "output_type": "stream",
          "name": "stdout",
          "text": [
            "Evaluation \t Proposed point \t  Current eval. \t Best eval.\n",
            "init   \t [ 7.85720303 -3.36040389]. \t  -84.32026809583151 \t -5.629416961321397\n",
            "init   \t [ 6.42458246 -9.16606749]. \t  -209.30884609749882 \t -5.629416961321397\n",
            "init   \t [-7.8468664   1.90104128]. \t  -68.80122824744078 \t -5.629416961321397\n",
            "init   \t [ 0.59634724 -1.62385143]. \t  -5.629416961321397 \t -5.629416961321397\n",
            "init   \t [-3.29184301  2.45038864]. \t  -22.84503944485431 \t -5.629416961321397\n",
            "1      \t [4.34664291 8.74699069]. \t  -171.91299695999675 \t -5.629416961321397\n",
            "2      \t [-4.96771714 -9.17248997]. \t  -192.94735819477367 \t -5.629416961321397\n",
            "3      \t [9.57427611 1.74148842]. \t  -97.73232691305284 \t -5.629416961321397\n",
            "4      \t [-5.6935267   8.60486508]. \t  -180.50365249520243 \t -5.629416961321397\n",
            "5      \t [3.70615819 2.88302382]. \t  -30.359261199656586 \t -5.629416961321397\n",
            "6      \t [-8.88129971 -3.75034449]. \t  -107.00765218794083 \t -5.629416961321397\n",
            "7      \t [-0.45748598  7.70980473]. \t  -119.09147150685489 \t -5.629416961321397\n",
            "8      \t [-3.42355456 -4.755711  ]. \t  -56.95430008511229 \t -5.629416961321397\n",
            "9      \t [-1.22868843  4.34354782]. \t  -39.24249056209099 \t -5.629416961321397\n",
            "10     \t [9.10343891 6.83055529]. \t  -176.18557108785902 \t -5.629416961321397\n",
            "11     \t [ 0.74228331 -9.90226801]. \t  -196.66080803876721 \t -5.629416961321397\n",
            "12     \t [ 3.05663185 -5.18713297]. \t  -63.15569510835169 \t -5.629416961321397\n",
            "13     \t [ 5.21347435 -0.8833208 ]. \t  -28.74082607218724 \t -5.629416961321397\n",
            "14     \t [-10.           6.23653908]. \t  -177.7888393020141 \t -5.629416961321397\n",
            "15     \t [-5.02082642 -1.09402022]. \t  -27.602458399818406 \t -5.629416961321397\n",
            "16     \t [-10. -10.]. \t  -300.0 \t -5.629416961321397\n",
            "17     \t [10.         -6.88733866]. \t  -194.87086763499562 \t -5.629416961321397\n",
            "18     \t [0.48159057 1.20913262]. \t  \u001b[92m-3.1559328843417425\u001b[0m \t -3.1559328843417425\n",
            "19     \t [-10.  10.]. \t  -300.0 \t -3.1559328843417425\n",
            "20     \t [-5.63261428  4.79101032]. \t  -77.6339035045583 \t -3.1559328843417425\n"
          ]
        }
      ]
    },
    {
      "cell_type": "code",
      "metadata": {
        "colab": {
          "base_uri": "https://localhost:8080/"
        },
        "id": "fKB8MCD_GCVI",
        "outputId": "c437a189-68c6-45d1-f685-f7185e0c45e2"
      },
      "source": [
        "### ESTIMATED GP EI GRADIENTS\n",
        "\n",
        "np.random.seed(run_num_7)\n",
        "surrogate_approx_7 = GaussianProcess(cov_func, optimize=opt)\n",
        "\n",
        "approx_7 = GPGO_multi(surrogate_approx_7, Acquisition_new(util_grad_approx), objfunc, param)\n",
        "approx_7.run(init_evals=n_init, max_iter=iters)\n"
      ],
      "execution_count": null,
      "outputs": [
        {
          "output_type": "stream",
          "name": "stdout",
          "text": [
            "Evaluation \t Proposed point \t  Current eval. \t Best eval.\n",
            "init   \t [-8.47383421  5.59837584]. \t  -134.48949046062052 \t -21.448213419349443\n",
            "init   \t [-1.23181537  4.46930356]. \t  -41.46671767109191 \t -21.448213419349443\n",
            "init   \t [9.55979024 0.76991741]. \t  -92.57513506242564 \t -21.448213419349443\n",
            "init   \t [ 0.02240927 -8.55897733]. \t  -146.51268814245697 \t -21.448213419349443\n",
            "init   \t [-4.63122040e+00 -2.34998349e-03]. \t  -21.448213419349443 \t -21.448213419349443\n",
            "1      \t [ 8.12846538 -6.39096762]. \t  -147.76088362344177 \t -21.448213419349443\n",
            "2      \t [6.00958098 8.78222707]. \t  -190.37008833601834 \t -21.448213419349443\n",
            "3      \t [-9.10467478 -9.8356699 ]. \t  -276.3759076385656 \t -21.448213419349443\n",
            "4      \t [-7.86246511 -2.61028169]. \t  -75.44549865130998 \t -21.448213419349443\n",
            "5      \t [3.74742604 0.87382913]. \t  \u001b[92m-15.570356662761933\u001b[0m \t -15.570356662761933\n",
            "6      \t [-3.1239147   9.75028194]. \t  -199.89483890589167 \t -15.570356662761933\n",
            "7      \t [-0.0500435  -2.86050177]. \t  -16.367445143602104 \t -15.570356662761933\n",
            "8      \t [-4.75358716 -6.6001154 ]. \t  -109.71963756756875 \t -15.570356662761933\n",
            "9      \t [  4.79557059 -10.        ]. \t  -222.99749730486081 \t -15.570356662761933\n",
            "10     \t [-10.  10.]. \t  -300.0 \t -15.570356662761933\n",
            "11     \t [ 4.2514677  -3.55951142]. \t  -43.41522074761165 \t -15.570356662761933\n",
            "12     \t [1.36225245 8.16134697]. \t  -135.07090046001494 \t -15.570356662761933\n",
            "13     \t [10.          5.72808962]. \t  -165.6220213893555 \t -15.570356662761933\n",
            "14     \t [-10.           1.27418153]. \t  -103.24707714327275 \t -15.570356662761933\n",
            "15     \t [5.59055404 4.2507105 ]. \t  -67.39137396898613 \t -15.570356662761933\n",
            "16     \t [-0.8177092   0.71116755]. \t  \u001b[92m-1.680166903504158\u001b[0m \t -1.680166903504158\n",
            "17     \t [-4.92090944  3.64309304]. \t  -50.75960351016103 \t -1.680166903504158\n",
            "18     \t [10. 10.]. \t  -300.0 \t -1.680166903504158\n",
            "19     \t [-10.          -5.74573073]. \t  -166.02684331645838 \t -1.680166903504158\n",
            "20     \t [ 10. -10.]. \t  -300.0 \t -1.680166903504158\n"
          ]
        }
      ]
    },
    {
      "cell_type": "code",
      "metadata": {
        "colab": {
          "base_uri": "https://localhost:8080/"
        },
        "id": "4unvifF-GCXp",
        "outputId": "acacfc01-4aed-4e23-9468-626a3fe1ff25"
      },
      "source": [
        "### ESTIMATED GP EI GRADIENTS\n",
        "\n",
        "np.random.seed(run_num_8)\n",
        "surrogate_approx_8 = GaussianProcess(cov_func, optimize=opt)\n",
        "\n",
        "approx_8 = GPGO_multi(surrogate_approx_8, Acquisition_new(util_grad_approx), objfunc, param)\n",
        "approx_8.run(init_evals=n_init, max_iter=iters)\n"
      ],
      "execution_count": null,
      "outputs": [
        {
          "output_type": "stream",
          "name": "stdout",
          "text": [
            "Evaluation \t Proposed point \t  Current eval. \t Best eval.\n",
            "init   \t [7.46858806 9.37081326]. \t  -231.40408972112363 \t -0.5791878792948744\n",
            "init   \t [7.3838908  0.61711383]. \t  -55.28350237060649 \t -0.5791878792948744\n",
            "init   \t [-5.34543344 -9.77202391]. \t  -219.5585614355461 \t -0.5791878792948744\n",
            "init   \t [-1.39062363 -1.9529728 ]. \t  -9.562039601098967 \t -0.5791878792948744\n",
            "init   \t [ 0.45349343 -0.43216408]. \t  -0.5791878792948744 \t -0.5791878792948744\n",
            "1      \t [ 9.69498875 -9.42535902]. \t  -271.6675921188219 \t -0.5791878792948744\n",
            "2      \t [-9.83383251  5.77166529]. \t  -163.3285022998636 \t -0.5791878792948744\n",
            "3      \t [-3.97152767  9.51013426]. \t  -196.65833950916016 \t -0.5791878792948744\n",
            "4      \t [-9.65586204 -5.07440767]. \t  -144.73489822426617 \t -0.5791878792948744\n",
            "5      \t [1.10947828 5.5318851 ]. \t  -62.4344475515165 \t -0.5791878792948744\n",
            "6      \t [ 3.77011518 -4.40569277]. \t  -53.034026014752534 \t -0.5791878792948744\n",
            "7      \t [  1.33298478 -10.        ]. \t  -201.77684843349064 \t -0.5791878792948744\n",
            "8      \t [-4.05723001  3.23001544]. \t  -37.3271147365377 \t -0.5791878792948744\n",
            "9      \t [-10.           0.33333175]. \t  -100.22222011503789 \t -0.5791878792948744\n",
            "10     \t [10.         -3.88683509]. \t  -130.21497402913457 \t -0.5791878792948744\n",
            "11     \t [10.          4.79401285]. \t  -145.96511832863257 \t -0.5791878792948744\n",
            "12     \t [-4.6781494  -4.70944364]. \t  -66.24280062778274 \t -0.5791878792948744\n",
            "13     \t [ 2.31770483 10.        ]. \t  -205.37175569938 \t -0.5791878792948744\n",
            "14     \t [-10. -10.]. \t  -300.0 \t -0.5791878792948744\n",
            "15     \t [2.9523608  1.32353925]. \t  -12.219946601915982 \t -0.5791878792948744\n",
            "16     \t [5.41928865 4.86992082]. \t  -76.80094716447906 \t -0.5791878792948744\n",
            "17     \t [-8.67823716 10.        ]. \t  -275.311800267538 \t -0.5791878792948744\n",
            "18     \t [-0.429724   -5.77843001]. \t  -66.96516936764596 \t -0.5791878792948744\n",
            "19     \t [-5.64205663 -0.57304873]. \t  -32.48957270407703 \t -0.5791878792948744\n",
            "20     \t [ 5.40614409 -8.23488306]. \t  -164.85299181799303 \t -0.5791878792948744\n"
          ]
        }
      ]
    },
    {
      "cell_type": "code",
      "metadata": {
        "colab": {
          "base_uri": "https://localhost:8080/"
        },
        "id": "85OIXcg7GCaJ",
        "outputId": "e7bbfdf8-d914-48fb-ae75-9f8b9ebca9ef"
      },
      "source": [
        "### ESTIMATED GP EI GRADIENTS\n",
        "\n",
        "np.random.seed(run_num_9)\n",
        "surrogate_approx_9 = GaussianProcess(cov_func, optimize=opt)\n",
        "\n",
        "approx_9 = GPGO_multi(surrogate_approx_9, Acquisition_new(util_grad_approx), objfunc, param)\n",
        "approx_9.run(init_evals=n_init, max_iter=iters)\n"
      ],
      "execution_count": null,
      "outputs": [
        {
          "output_type": "stream",
          "name": "stdout",
          "text": [
            "Evaluation \t Proposed point \t  Current eval. \t Best eval.\n",
            "init   \t [-9.79251692  0.03749184]. \t  -95.896198949837 \t -53.418783741178075\n",
            "init   \t [-0.08453414 -7.32340942]. \t  -107.27179711012016 \t -53.418783741178075\n",
            "init   \t [-7.15777829 -5.62882649]. \t  -114.6011653140891 \t -53.418783741178075\n",
            "init   \t [-1.62983639 -5.03797663]. \t  -53.418783741178075 \t -53.418783741178075\n",
            "init   \t [-8.31880698 -3.0900272 ]. \t  -88.29908569649677 \t -53.418783741178075\n",
            "1      \t [6.0747954  9.66718496]. \t  -223.8120694300478 \t -53.418783741178075\n",
            "2      \t [-3.94738717  9.4159639 ]. \t  -192.90261763630335 \t -53.418783741178075\n",
            "3      \t [4.07561386 0.71776482]. \t  \u001b[92m-17.64100099927903\u001b[0m \t -17.64100099927903\n",
            "4      \t [ 8.66970884 -6.33785621]. \t  -155.50069423954056 \t -17.64100099927903\n",
            "5      \t [-1.19250765  3.24798733]. \t  -22.52091788262156 \t -17.64100099927903\n",
            "6      \t [10.          0.63541414]. \t  -100.8075022541351 \t -17.64100099927903\n",
            "7      \t [-9.63856619  7.6177572 ]. \t  -208.9624076098196 \t -17.64100099927903\n",
            "8      \t [  4.6233663 -10.       ]. \t  -221.3755159002408 \t -17.64100099927903\n",
            "9      \t [-10. -10.]. \t  -300.0 \t -17.64100099927903\n",
            "10     \t [-6.02359955  3.65530082]. \t  -63.00619975388076 \t -17.64100099927903\n",
            "11     \t [ -4.45841359 -10.        ]. \t  -219.8774517818635 \t -17.64100099927903\n",
            "12     \t [10.          5.95498747]. \t  -170.92375150910425 \t -17.64100099927903\n",
            "13     \t [1.14518836 7.61880769]. \t  -117.40391763752856 \t -17.64100099927903\n",
            "14     \t [ 3.9193509  -4.06027424]. \t  -48.33296520981442 \t -17.64100099927903\n",
            "15     \t [-3.80627704 -0.74006088]. \t  \u001b[92m-15.583125090036772\u001b[0m \t -15.583125090036772\n",
            "16     \t [5.18404488 4.8215028 ]. \t  -73.36809981548653 \t -15.583125090036772\n",
            "17     \t [ 0.34294873 -0.99719053]. \t  \u001b[92m-2.1063917310562994\u001b[0m \t -2.1063917310562994\n",
            "18     \t [-10.           3.72380986]. \t  -127.73351976035708 \t -2.1063917310562994\n",
            "19     \t [ 7.24665126 -2.22344715]. \t  -62.40138892769335 \t -2.1063917310562994\n",
            "20     \t [ 10. -10.]. \t  -300.0 \t -2.1063917310562994\n"
          ]
        }
      ]
    },
    {
      "cell_type": "code",
      "metadata": {
        "colab": {
          "base_uri": "https://localhost:8080/"
        },
        "id": "QQBR-qJPGCcp",
        "outputId": "cff3878e-d358-4637-d548-e1be1992abd5"
      },
      "source": [
        "### ESTIMATED GP EI GRADIENTS\n",
        "\n",
        "np.random.seed(run_num_10)\n",
        "surrogate_approx_10 = GaussianProcess(cov_func, optimize=opt)\n",
        "\n",
        "approx_10 = GPGO_multi(surrogate_approx_10, Acquisition_new(util_grad_approx), objfunc, param)\n",
        "approx_10.run(init_evals=n_init, max_iter=iters)\n"
      ],
      "execution_count": null,
      "outputs": [
        {
          "output_type": "stream",
          "name": "stdout",
          "text": [
            "Evaluation \t Proposed point \t  Current eval. \t Best eval.\n",
            "init   \t [ 5.42641287 -9.58496101]. \t  -213.18891181932327 \t -56.66743785259343\n",
            "init   \t [2.6729647  4.97607765]. \t  -56.66743785259343 \t -56.66743785259343\n",
            "init   \t [-0.02985975 -5.50406709]. \t  -60.59040065376497 \t -56.66743785259343\n",
            "init   \t [-6.0387427   5.21061424]. \t  -90.76741505398337 \t -56.66743785259343\n",
            "init   \t [-6.61778327 -8.23320372]. \t  -179.36634226756874 \t -56.66743785259343\n",
            "1      \t [ 7.13700605 -2.96694721]. \t  -68.54240685564316 \t -56.66743785259343\n",
            "2      \t [2.11155129 0.26933255]. \t  \u001b[92m-4.603728884330075\u001b[0m \t -4.603728884330075\n",
            "3      \t [-7.90760511 -1.20789524]. \t  -65.44824041188056 \t -4.603728884330075\n",
            "4      \t [-4.25638812  9.80221347]. \t  -210.283617571058 \t -4.603728884330075\n",
            "5      \t [9.49624999 3.61148749]. \t  -116.26444759812676 \t -4.603728884330075\n",
            "6      \t [9.26715011 9.50785434]. \t  -266.67865967653205 \t -4.603728884330075\n",
            "7      \t [-2.74553241  0.60885862]. \t  -8.279365876019959 \t -4.603728884330075\n",
            "8      \t [-10.           9.25270269]. \t  -271.2250140814526 \t -4.603728884330075\n",
            "9      \t [-0.44833939 -9.85031703]. \t  -194.258499367196 \t -4.603728884330075\n",
            "10     \t [10.         -7.14928247]. \t  -202.22447977963031 \t -4.603728884330075\n",
            "11     \t [ 3.93611191 -5.96501725]. \t  -86.65583866217152 \t -4.603728884330075\n",
            "12     \t [ 1.44528921 10.        ]. \t  -202.08886090207835 \t -4.603728884330075\n",
            "13     \t [-4.21766618 -3.83416201]. \t  -47.19030464088253 \t -4.603728884330075\n",
            "14     \t [-10.           2.92353182]. \t  -117.09407664197573 \t -4.603728884330075\n",
            "15     \t [-10.          -5.11149799]. \t  -152.2548234820797 \t -4.603728884330075\n",
            "16     \t [-1.59464399  5.65462355]. \t  -66.49242447976006 \t -4.603728884330075\n",
            "17     \t [5.74074853 6.23074296]. \t  -110.60050921632208 \t -4.603728884330075\n",
            "18     \t [5.63569215 1.29457667]. \t  -35.1128834937846 \t -4.603728884330075\n",
            "19     \t [-0.35343426 -1.66772721]. \t  -5.687543876579795 \t -4.603728884330075\n",
            "20     \t [ 3.19627573 -2.26171513]. \t  -20.446889263193 \t -4.603728884330075\n"
          ]
        }
      ]
    },
    {
      "cell_type": "code",
      "metadata": {
        "colab": {
          "base_uri": "https://localhost:8080/"
        },
        "id": "JS8ejeQ2GCfi",
        "outputId": "d747b08b-41e8-439a-a12e-9f63639f6a62"
      },
      "source": [
        "### ESTIMATED GP EI GRADIENTS\n",
        "\n",
        "np.random.seed(run_num_11)\n",
        "surrogate_approx_11 = GaussianProcess(cov_func, optimize=opt)\n",
        "\n",
        "approx_11 = GPGO_multi(surrogate_approx_11, Acquisition_new(util_grad_approx), objfunc, param)\n",
        "approx_11.run(init_evals=n_init, max_iter=iters)\n"
      ],
      "execution_count": null,
      "outputs": [
        {
          "output_type": "stream",
          "name": "stdout",
          "text": [
            "Evaluation \t Proposed point \t  Current eval. \t Best eval.\n",
            "init   \t [-6.39460622 -9.61049517]. \t  -225.61422357508457 \t -2.716881462565864\n",
            "init   \t [-0.73562947  4.49867858]. \t  -41.01736871863572 \t -2.716881462565864\n",
            "init   \t [-1.59592791 -0.29145804]. \t  -2.716881462565864 \t -2.716881462565864\n",
            "init   \t [-9.74438371 -0.25256785]. \t  -95.08059489374317 \t -2.716881462565864\n",
            "init   \t [8.83613305 7.01590179]. \t  -176.5230030066306 \t -2.716881462565864\n",
            "1      \t [ 1.99086793 -8.88652641]. \t  -161.90425830617428 \t -2.716881462565864\n",
            "2      \t [ 6.89877062 -3.95670624]. \t  -78.9040846386408 \t -2.716881462565864\n",
            "3      \t [  9.77656535 -10.        ]. \t  -295.58123009301335 \t -2.716881462565864\n",
            "4      \t [-6.50299346  4.89457725]. \t  -90.20269683532382 \t -2.716881462565864\n",
            "5      \t [0.0385348 9.4899039]. \t  -180.1180369987594 \t -2.716881462565864\n",
            "6      \t [5.24860912 2.85966119]. \t  -43.90322199383101 \t -2.716881462565864\n",
            "7      \t [-5.24921908 -3.83688198]. \t  -56.99762762300915 \t -2.716881462565864\n",
            "8      \t [-10.  10.]. \t  -300.0 \t -2.716881462565864\n",
            "9      \t [ 1.62053379 -3.44378451]. \t  -26.34543322615212 \t -2.716881462565864\n",
            "10     \t [-10.          -5.63825297]. \t  -163.57979318273883 \t -2.716881462565864\n",
            "11     \t [10.          0.53319857]. \t  -100.56860142436716 \t -2.716881462565864\n",
            "12     \t [-4.76434926  9.50911778]. \t  -203.54566581916194 \t -2.716881462565864\n",
            "13     \t [-1.69377784 -6.26330499]. \t  -81.32686220663481 \t -2.716881462565864\n",
            "14     \t [4.12133696 7.23501963]. \t  -121.67643646973636 \t -2.716881462565864\n",
            "15     \t [-5.12263438  0.62674215]. \t  -27.026994383511912 \t -2.716881462565864\n",
            "16     \t [1.68073489 0.74801607]. \t  -3.9439258570761444 \t -2.716881462565864\n",
            "17     \t [ 6.01300722 -7.90168512]. \t  -161.02951143864112 \t -2.716881462565864\n",
            "18     \t [ 4.46569959 -0.86968918]. \t  -21.455191347534125 \t -2.716881462565864\n",
            "19     \t [-10.           3.75774372]. \t  -128.2412756772489 \t -2.716881462565864\n",
            "20     \t [2.21567238 3.6001735 ]. \t  -30.831702611634654 \t -2.716881462565864\n"
          ]
        }
      ]
    },
    {
      "cell_type": "code",
      "metadata": {
        "colab": {
          "base_uri": "https://localhost:8080/"
        },
        "id": "DXwjUVZ4GCii",
        "outputId": "8be67a9a-7d0e-4c30-a29e-d499b0fd979e"
      },
      "source": [
        "### ESTIMATED GP EI GRADIENTS\n",
        "\n",
        "np.random.seed(run_num_12)\n",
        "surrogate_approx_12 = GaussianProcess(cov_func, optimize=opt)\n",
        "\n",
        "approx_12 = GPGO_multi(surrogate_approx_12, Acquisition_new(util_grad_approx), objfunc, param)\n",
        "approx_12.run(init_evals=n_init, max_iter=iters)\n"
      ],
      "execution_count": null,
      "outputs": [
        {
          "output_type": "stream",
          "name": "stdout",
          "text": [
            "Evaluation \t Proposed point \t  Current eval. \t Best eval.\n",
            "init   \t [-6.91674315  4.80099393]. \t  -93.94042127407329 \t -23.318590147261595\n",
            "init   \t [-4.7336997   0.67478787]. \t  -23.318590147261595 \t -23.318590147261595\n",
            "init   \t [-9.70850075  8.37494016]. \t  -234.53423225249676 \t -23.318590147261595\n",
            "init   \t [ 8.01429708 -9.33157145]. \t  -238.38540908259807 \t -23.318590147261595\n",
            "init   \t [ 9.13898673 -7.25581357]. \t  -188.8147395776428 \t -23.318590147261595\n",
            "1      \t [4.66251955 4.05244711]. \t  -54.583743654491954 \t -23.318590147261595\n",
            "2      \t [-3.75432006 -8.6025265 ]. \t  -162.1018436659056 \t -23.318590147261595\n",
            "3      \t [ 0.87886819 -1.89091226]. \t  \u001b[92m-7.923507634979323\u001b[0m \t -7.923507634979323\n",
            "4      \t [0.62006076 8.91956245]. \t  -159.50166406148657 \t -7.923507634979323\n",
            "5      \t [ 8.15269188 -0.957369  ]. \t  -68.2994957298121 \t -7.923507634979323\n",
            "6      \t [9.82022544 8.00293105]. \t  -224.53063835529863 \t -7.923507634979323\n",
            "7      \t [ 2.19678836 -7.64250659]. \t  -121.6416931867226 \t -7.923507634979323\n",
            "8      \t [-9.97962139 -0.91408336]. \t  -101.26393987966128 \t -7.923507634979323\n",
            "9      \t [-9.54191923 -9.73433667]. \t  -280.5628434097156 \t -7.923507634979323\n",
            "10     \t [-0.58737005  3.51970401]. \t  -25.12163620018947 \t -7.923507634979323\n",
            "11     \t [-4.57653921 10.        ]. \t  -220.9447111805711 \t -7.923507634979323\n",
            "12     \t [-5.95791283 -4.0068286 ]. \t  -67.60607614341308 \t -7.923507634979323\n",
            "13     \t [10.          3.18419936]. \t  -120.27825115126487 \t -7.923507634979323\n",
            "14     \t [ 4.6554306  -3.73099661]. \t  -49.51370541293447 \t -7.923507634979323\n",
            "15     \t [ 5.34205758 10.        ]. \t  -228.53757920596985 \t -7.923507634979323\n",
            "16     \t [-1.53993361 -4.66231986]. \t  -45.8458484466392 \t -7.923507634979323\n",
            "17     \t [3.73149919 0.21515733]. \t  -14.016671534516744 \t -7.923507634979323\n",
            "18     \t [-3.00669774  6.11625047]. \t  -83.8572709741695 \t -7.923507634979323\n",
            "19     \t [-10.           2.91142206]. \t  -116.9527568295334 \t -7.923507634979323\n",
            "20     \t [-1.4077737   0.01331025]. \t  \u001b[92m-1.9821811277667274\u001b[0m \t -1.9821811277667274\n"
          ]
        }
      ]
    },
    {
      "cell_type": "code",
      "metadata": {
        "colab": {
          "base_uri": "https://localhost:8080/"
        },
        "id": "CphOPndPGClX",
        "outputId": "7eb68aee-7cb4-41e0-a2bd-2c54df240702"
      },
      "source": [
        "### ESTIMATED GP EI GRADIENTS\n",
        "\n",
        "np.random.seed(run_num_13)\n",
        "surrogate_approx_13 = GaussianProcess(cov_func, optimize=opt)\n",
        "\n",
        "approx_13 = GPGO_multi(surrogate_approx_13, Acquisition_new(util_grad_approx), objfunc, param)\n",
        "approx_13.run(init_evals=n_init, max_iter=iters)\n"
      ],
      "execution_count": null,
      "outputs": [
        {
          "output_type": "stream",
          "name": "stdout",
          "text": [
            "Evaluation \t Proposed point \t  Current eval. \t Best eval.\n",
            "init   \t [ 5.55404821 -5.2491756 ]. \t  -85.95514048001408 \t -47.45541115581226\n",
            "init   \t [6.48557065 9.31498396]. \t  -215.600479080162 \t -47.45541115581226\n",
            "init   \t [ 9.45202228 -0.93101505]. \t  -91.0743031984701 \t -47.45541115581226\n",
            "init   \t [2.18084926 5.51053029]. \t  -65.48799167425372 \t -47.45541115581226\n",
            "init   \t [2.8322669  4.44036459]. \t  -47.45541115581226 \t -47.45541115581226\n",
            "1      \t [-8.69830926  2.59657998]. \t  -89.14503917528086 \t -47.45541115581226\n",
            "2      \t [-5.9673185  -6.48540274]. \t  -119.72978734259729 \t -47.45541115581226\n",
            "3      \t [-0.60899509 -1.54249972]. \t  \u001b[92m-5.129485779327708\u001b[0m \t -5.129485779327708\n",
            "4      \t [-5.68974606  9.11900061]. \t  -198.68555458020188 \t -5.129485779327708\n",
            "5      \t [ 10. -10.]. \t  -300.0 \t -5.129485779327708\n",
            "6      \t [ 0.15011013 -7.2604606 ]. \t  -105.45110920148105 \t -5.129485779327708\n",
            "7      \t [-3.0447625   3.58748022]. \t  -35.010607380285535 \t -5.129485779327708\n",
            "8      \t [10.          4.69649227]. \t  -144.1140792408632 \t -5.129485779327708\n",
            "9      \t [-0.26923334 10.        ]. \t  -200.07248659079318 \t -5.129485779327708\n",
            "10     \t [-10.          -2.74724633]. \t  -115.0947248401968 \t -5.129485779327708\n",
            "11     \t [-10. -10.]. \t  -300.0 \t -5.129485779327708\n",
            "12     \t [ 4.03890084 -0.33883334]. \t  -16.542336068707183 \t -5.129485779327708\n",
            "13     \t [-5.05700441 -1.1627069 ]. \t  -28.277068310218823 \t -5.129485779327708\n",
            "14     \t [  4.45603123 -10.        ]. \t  -219.85621435080517 \t -5.129485779327708\n",
            "15     \t [-10.           7.15936396]. \t  -202.51298475528608 \t -5.129485779327708\n",
            "16     \t [ -3.32927964 -10.        ]. \t  -211.08410291572184 \t -5.129485779327708\n",
            "17     \t [10.         -5.31119198]. \t  -156.4175204747204 \t -5.129485779327708\n",
            "18     \t [6.39249258 2.49952912]. \t  -53.35925302285833 \t -5.129485779327708\n",
            "19     \t [0.35681252 1.50027523]. \t  \u001b[92m-4.628966674645916\u001b[0m \t -4.628966674645916\n",
            "20     \t [-2.5435048  -4.12978766]. \t  -40.57970886520815 \t -4.628966674645916\n"
          ]
        }
      ]
    },
    {
      "cell_type": "code",
      "metadata": {
        "colab": {
          "base_uri": "https://localhost:8080/"
        },
        "id": "ojHTeARNGCoi",
        "outputId": "54311a37-19d6-45d8-e17c-492caf2f685f"
      },
      "source": [
        "### ESTIMATED GP EI GRADIENTS\n",
        "\n",
        "np.random.seed(run_num_14)\n",
        "surrogate_approx_14 = GaussianProcess(cov_func, optimize=opt)\n",
        "\n",
        "approx_14 = GPGO_multi(surrogate_approx_14, Acquisition_new(util_grad_approx), objfunc, param)\n",
        "approx_14.run(init_evals=n_init, max_iter=iters)\n"
      ],
      "execution_count": null,
      "outputs": [
        {
          "output_type": "stream",
          "name": "stdout",
          "text": [
            "Evaluation \t Proposed point \t  Current eval. \t Best eval.\n",
            "init   \t [0.27886688 5.46330104]. \t  -59.77308327621332 \t -26.48525945153859\n",
            "init   \t [ 7.40855371 -9.83906103]. \t  -248.5009120212351 \t -26.48525945153859\n",
            "init   \t [-3.80528149  9.15207479]. \t  -182.0011130426615 \t -26.48525945153859\n",
            "init   \t [ 0.26233425 -3.6343115 ]. \t  -26.48525945153859 \t -26.48525945153859\n",
            "init   \t [ 0.78399875 -5.57490115]. \t  -62.773699734431055 \t -26.48525945153859\n",
            "1      \t [ 9.82765998 -0.95725402]. \t  -98.41557117870066 \t -26.48525945153859\n",
            "2      \t [-8.1477833   0.47898709]. \t  -66.84523003287876 \t -26.48525945153859\n",
            "3      \t [8.67962677 6.0907395 ]. \t  -149.53013618236548 \t -26.48525945153859\n",
            "4      \t [-9.25408911 -6.01411438]. \t  -157.97730888889856 \t -26.48525945153859\n",
            "5      \t [3.94559911 9.92556197]. \t  -212.60131300730995 \t -26.48525945153859\n",
            "6      \t [-9.75754005  9.59310368]. \t  -279.26486406789826 \t -26.48525945153859\n",
            "7      \t [4.1704008  0.92605338]. \t  \u001b[92m-19.10739251607991\u001b[0m \t -19.10739251607991\n",
            "8      \t [ -2.78953393 -10.        ]. \t  -207.78149955759292 \t -19.10739251607991\n",
            "9      \t [-2.62895609  0.80657027]. \t  \u001b[92m-8.212521345598777\u001b[0m \t -8.212521345598777\n",
            "10     \t [-4.60864618 -3.59929001]. \t  -47.1493967091112 \t -8.212521345598777\n",
            "11     \t [ 5.88103079 -4.46604175]. \t  -74.47758100213446 \t -8.212521345598777\n",
            "12     \t [-5.4372221   4.43993003]. \t  -68.98934161030874 \t -8.212521345598777\n",
            "13     \t [  2.35337815 -10.        ]. \t  -205.53838869599886 \t -8.212521345598777\n",
            "14     \t [-10.           4.68440247]. \t  -143.8872530852006 \t -8.212521345598777\n",
            "15     \t [10.         -5.83611047]. \t  -168.12037074288116 \t -8.212521345598777\n",
            "16     \t [4.43189865 4.98213488]. \t  -69.28506162268005 \t -8.212521345598777\n",
            "17     \t [ -7.43844703 -10.        ]. \t  -255.33049420772522 \t -8.212521345598777\n",
            "18     \t [10. 10.]. \t  -300.0 \t -8.212521345598777\n",
            "19     \t [0.65175609 0.280381  ]. \t  \u001b[92m-0.5820130132641685\u001b[0m \t -0.5820130132641685\n",
            "20     \t [-8.44824732e-04  1.00000000e+01]. \t  -200.00000071372884 \t -0.5820130132641685\n"
          ]
        }
      ]
    },
    {
      "cell_type": "code",
      "metadata": {
        "colab": {
          "base_uri": "https://localhost:8080/"
        },
        "id": "vCJzn4vWGCs3",
        "outputId": "9fd3c73c-c6f4-4be7-d5f7-9f822fdb4f09"
      },
      "source": [
        "### ESTIMATED GP EI GRADIENTS\n",
        "\n",
        "np.random.seed(run_num_15)\n",
        "surrogate_approx_15 = GaussianProcess(cov_func, optimize=opt)\n",
        "\n",
        "approx_15 = GPGO_multi(surrogate_approx_15, Acquisition_new(util_grad_approx), objfunc, param)\n",
        "approx_15.run(init_evals=n_init, max_iter=iters)\n"
      ],
      "execution_count": null,
      "outputs": [
        {
          "output_type": "stream",
          "name": "stdout",
          "text": [
            "Evaluation \t Proposed point \t  Current eval. \t Best eval.\n",
            "init   \t [ 6.97635395 -6.4220815 ]. \t  -131.15577599697437 \t -20.897907943365695\n",
            "init   \t [-8.91273571 -2.76923108]. \t  -94.77413943464936 \t -20.897907943365695\n",
            "init   \t [-4.49198143  0.6000045 ]. \t  -20.897907943365695 \t -20.897907943365695\n",
            "init   \t [-3.88162169 -3.91051282]. \t  -45.651207890195394 \t -20.897907943365695\n",
            "init   \t [-7.76517448 -5.00201972]. \t  -110.33833725681367 \t -20.897907943365695\n",
            "1      \t [-1.08003705  9.49213271]. \t  -181.3676469637466 \t -20.897907943365695\n",
            "2      \t [-9.69991687  7.99454818]. \t  -221.91398842692476 \t -20.897907943365695\n",
            "3      \t [9.38262114 9.37010501]. \t  -263.6313154484096 \t -20.897907943365695\n",
            "4      \t [8.17696818 1.09984692]. \t  -69.28213505909017 \t -20.897907943365695\n",
            "5      \t [2.257132  4.5118262]. \t  -45.807796139453394 \t -20.897907943365695\n",
            "6      \t [-0.62952455 -9.52479128]. \t  -181.8395990317211 \t -20.897907943365695\n",
            "7      \t [ 1.71306533 -3.010363  ]. \t  -21.05916367366614 \t -20.897907943365695\n",
            "8      \t [-10. -10.]. \t  -300.0 \t -20.897907943365695\n",
            "9      \t [-10.           2.47488352]. \t  -112.25009684735582 \t -20.897907943365695\n",
            "10     \t [-4.78869212  5.55195007]. \t  -84.57987134466518 \t -20.897907943365695\n",
            "11     \t [6.6227306  5.42684969]. \t  -102.76195555864709 \t -20.897907943365695\n",
            "12     \t [  4.10905181 -10.        ]. \t  -216.88430674476487 \t -20.897907943365695\n",
            "13     \t [-0.22706529  0.82057283]. \t  \u001b[92m-1.3982381723479924\u001b[0m \t -1.3982381723479924\n",
            "14     \t [ 10. -10.]. \t  -300.0 \t -1.3982381723479924\n",
            "15     \t [ 4.09417372 10.        ]. \t  -216.76225847341726 \t -1.3982381723479924\n",
            "16     \t [-5.27495697 -9.14858369]. \t  -195.2183379205127 \t -1.3982381723479924\n",
            "17     \t [10.         -2.98624101]. \t  -117.83527073213793 \t -1.3982381723479924\n",
            "18     \t [3.81976872 0.47271086]. \t  -15.037544176180589 \t -1.3982381723479924\n",
            "19     \t [ 5.6845523  -2.50245949]. \t  -44.838741833082885 \t -1.3982381723479924\n",
            "20     \t [-1.48387118  3.30284257]. \t  -24.019411729261897 \t -1.3982381723479924\n"
          ]
        }
      ]
    },
    {
      "cell_type": "code",
      "metadata": {
        "colab": {
          "base_uri": "https://localhost:8080/"
        },
        "id": "bGGkhp-kGCw6",
        "outputId": "32de1d6b-288b-4940-b0e1-b06fc098f4fc"
      },
      "source": [
        "### ESTIMATED GP EI GRADIENTS\n",
        "\n",
        "np.random.seed(run_num_16)\n",
        "surrogate_approx_16 = GaussianProcess(cov_func, optimize=opt)\n",
        "\n",
        "approx_16 = GPGO_multi(surrogate_approx_16, Acquisition_new(util_grad_approx), objfunc, param)\n",
        "approx_16.run(init_evals=n_init, max_iter=iters)\n"
      ],
      "execution_count": null,
      "outputs": [
        {
          "output_type": "stream",
          "name": "stdout",
          "text": [
            "Evaluation \t Proposed point \t  Current eval. \t Best eval.\n",
            "init   \t [-5.53417842  0.46326683]. \t  -31.056363058280656 \t -31.056363058280656\n",
            "init   \t [ 1.01402913 -9.087961  ]. \t  -166.21032525826828 \t -31.056363058280656\n",
            "init   \t [-2.78542329 -5.53838117]. \t  -69.10591480510183 \t -31.056363058280656\n",
            "init   \t [ 3.77452324 -6.7253715 ]. \t  -104.70826928786903 \t -31.056363058280656\n",
            "init   \t [-8.59350266  8.8202172 ]. \t  -229.44075111810224 \t -31.056363058280656\n",
            "1      \t [4.18505664 9.44091052]. \t  -195.7762819329394 \t -31.056363058280656\n",
            "2      \t [9.22704387 3.02362854]. \t  -103.4229976843265 \t -31.056363058280656\n",
            "3      \t [ 2.52801252 -0.08752176]. \t  \u001b[92m-6.406167436310099\u001b[0m \t -6.406167436310099\n",
            "4      \t [-9.70734262 -5.57457736]. \t  -156.3843262924271 \t -6.406167436310099\n",
            "5      \t [-2.22531694  5.42968011]. \t  -63.91488757640133 \t -6.406167436310099\n",
            "6      \t [ 9.50240599 -7.92690057]. \t  -215.96722489311375 \t -6.406167436310099\n",
            "7      \t [ -6.03233077 -10.        ]. \t  -236.3890144904139 \t -6.406167436310099\n",
            "8      \t [10.          9.09679803]. \t  -265.5034689781211 \t -6.406167436310099\n",
            "9      \t [ 7.60792203 -2.35074952]. \t  -68.93252418240124 \t -6.406167436310099\n",
            "10     \t [-10.           3.24562202]. \t  -121.06812457274138 \t -6.406167436310099\n",
            "11     \t [3.99501499 4.19080335]. \t  -51.08581018198591 \t -6.406167436310099\n",
            "12     \t [-1.02326306 10.        ]. \t  -201.04706729203278 \t -6.406167436310099\n",
            "13     \t [-1.35877496 -1.03847853]. \t  \u001b[92m-4.003144713847291\u001b[0m \t -4.003144713847291\n",
            "14     \t [ 1.0650637  -3.46113765]. \t  -25.093308290960625 \t -4.003144713847291\n",
            "15     \t [-10.         -1.1411649]. \t  -102.6045146417056 \t -4.003144713847291\n",
            "16     \t [0.01523375 2.14273508]. \t  -9.182859315745693 \t -4.003144713847291\n",
            "17     \t [-6.18127478  4.94801461]. \t  -87.17385513952829 \t -4.003144713847291\n",
            "18     \t [-6.11364741 -3.30576314]. \t  -59.232824559100095 \t -4.003144713847291\n",
            "19     \t [-10. -10.]. \t  -300.0 \t -4.003144713847291\n",
            "20     \t [  5.85986036 -10.        ]. \t  -234.3379634869117 \t -4.003144713847291\n"
          ]
        }
      ]
    },
    {
      "cell_type": "code",
      "metadata": {
        "id": "Yrs2mp7hGC1Z",
        "colab": {
          "base_uri": "https://localhost:8080/"
        },
        "outputId": "9639a0be-7b6c-4937-a249-e31409485766"
      },
      "source": [
        "### ESTIMATED GP EI GRADIENTS\n",
        "\n",
        "np.random.seed(run_num_17)\n",
        "surrogate_approx_17 = GaussianProcess(cov_func, optimize=opt)\n",
        "\n",
        "approx_17 = GPGO_multi(surrogate_approx_17, Acquisition_new(util_grad_approx), objfunc, param)\n",
        "approx_17.run(init_evals=n_init, max_iter=iters)\n"
      ],
      "execution_count": null,
      "outputs": [
        {
          "output_type": "stream",
          "name": "stdout",
          "text": [
            "Evaluation \t Proposed point \t  Current eval. \t Best eval.\n",
            "init   \t [-4.10669995  0.61173511]. \t  -17.613424143360255 \t -12.137436774523842\n",
            "init   \t [-6.16958426 -8.64199284]. \t  -187.43185031516856 \t -12.137436774523842\n",
            "init   \t [5.7397092  3.12667044]. \t  -52.49639772521824 \t -12.137436774523842\n",
            "init   \t [2.75041792 1.51205788]. \t  -12.137436774523842 \t -12.137436774523842\n",
            "init   \t [-9.21874168 -2.84372791]. \t  -101.1587749488933 \t -12.137436774523842\n",
            "1      \t [-8.64042543  9.21575513]. \t  -244.5172369008349 \t -12.137436774523842\n",
            "2      \t [ 4.54825031 -8.71744454]. \t  -172.6742595800706 \t -12.137436774523842\n",
            "3      \t [9.12376544 9.73620918]. \t  -272.83063435528607 \t -12.137436774523842\n",
            "4      \t [-0.05385845  7.96254756]. \t  -126.80722802594437 \t -12.137436774523842\n",
            "5      \t [ 9.06636127 -2.74323799]. \t  -97.24961590065784 \t -12.137436774523842\n",
            "6      \t [-1.84454977 -4.4849694 ]. \t  -43.632264824752426 \t -12.137436774523842\n",
            "7      \t [-10.           2.88771422]. \t  -116.67778678443698 \t -12.137436774523842\n",
            "8      \t [ 3.72738553 -3.7457176 ]. \t  -41.95420359005249 \t -12.137436774523842\n",
            "9      \t [10.         -8.88274834]. \t  -257.80643599789903 \t -12.137436774523842\n",
            "10     \t [ -0.81012176 -10.        ]. \t  -200.65629726596472 \t -12.137436774523842\n",
            "11     \t [-4.76991749  5.43860063]. \t  -81.90886644614886 \t -12.137436774523842\n",
            "12     \t [10.          4.69184926]. \t  -144.02689886820087 \t -12.137436774523842\n",
            "13     \t [4.66738154 7.70007411]. \t  -140.36673313374172 \t -12.137436774523842\n",
            "14     \t [-0.78961958  3.27778668]. \t  -22.111270082328417 \t -12.137436774523842\n",
            "15     \t [-4.0406605 10.       ]. \t  -216.32693727098632 \t -12.137436774523842\n",
            "16     \t [-0.16417727 -0.81660348]. \t  \u001b[92m-1.3606366689840417\u001b[0m \t -1.3606366689840417\n",
            "17     \t [-10.          -6.97159023]. \t  -197.20614066639314 \t -1.3606366689840417\n",
            "18     \t [-5.25522435 -2.94864649]. \t  -45.0064151756159 \t -1.3606366689840417\n",
            "19     \t [ 5.72857391 -0.61232171]. \t  -33.566434739491605 \t -1.3606366689840417\n",
            "20     \t [ 1.16397884 -6.45060991]. \t  -84.57558306857887 \t -1.3606366689840417\n"
          ]
        }
      ]
    },
    {
      "cell_type": "code",
      "metadata": {
        "id": "f0HIEP3PIUEa",
        "colab": {
          "base_uri": "https://localhost:8080/"
        },
        "outputId": "e1df1c2d-31e0-494d-b3bd-6bca14f4ade7"
      },
      "source": [
        "### ESTIMATED GP EI GRADIENTS\n",
        "\n",
        "np.random.seed(run_num_18)\n",
        "surrogate_approx_18 = GaussianProcess(cov_func, optimize=opt)\n",
        "\n",
        "approx_18 = GPGO_multi(surrogate_approx_18, Acquisition_new(util_grad_approx), objfunc, param)\n",
        "approx_18.run(init_evals=n_init, max_iter=iters)\n"
      ],
      "execution_count": null,
      "outputs": [
        {
          "output_type": "stream",
          "name": "stdout",
          "text": [
            "Evaluation \t Proposed point \t  Current eval. \t Best eval.\n",
            "init   \t [3.00748483 0.10906747]. \t  -9.068756459576363 \t -9.068756459576363\n",
            "init   \t [ 7.57202942 -6.36319549]. \t  -138.3161432668939 \t -9.068756459576363\n",
            "init   \t [7.04466137 5.00272572]. \t  -99.6817831686958 \t -9.068756459576363\n",
            "init   \t [3.32203335 9.75790897]. \t  -201.4694803352836 \t -9.068756459576363\n",
            "init   \t [-4.86063155 -9.43388149]. \t  -201.6219791510955 \t -9.068756459576363\n",
            "1      \t [-6.1664519   4.28513481]. \t  -74.74988979878172 \t -9.068756459576363\n",
            "2      \t [-6.07110106 -2.27098711]. \t  -47.173032968123124 \t -9.068756459576363\n",
            "3      \t [-9.84572665 -7.72302303]. \t  -216.22850278173115 \t -9.068756459576363\n",
            "4      \t [-2.71031407  8.72898701]. \t  -159.73623091515915 \t -9.068756459576363\n",
            "5      \t [ 4.59940623 -9.59713586]. \t  -205.36457092968183 \t -9.068756459576363\n",
            "6      \t [-10.           8.58489681]. \t  -247.40090632779086 \t -9.068756459576363\n",
            "7      \t [-0.89479378 -4.83468881]. \t  -47.54908774924074 \t -9.068756459576363\n",
            "8      \t [ 9.69581737 -0.20760296]. \t  -94.09507236538145 \t -9.068756459576363\n",
            "9      \t [-0.76981591  3.38950963]. \t  -23.570167665883265 \t -9.068756459576363\n",
            "10     \t [ 9.70481012 10.        ]. \t  -294.1833395501443 \t -9.068756459576363\n",
            "11     \t [-10.           0.86907348]. \t  -101.51057743214099 \t -9.068756459576363\n",
            "12     \t [ -0.14099199 -10.        ]. \t  -200.01987874129009 \t -9.068756459576363\n",
            "13     \t [ 3.52435282 -3.99394377]. \t  -44.32423656795839 \t -9.068756459576363\n",
            "14     \t [-1.92716988 -0.58534275]. \t  \u001b[92m-4.399236025738473\u001b[0m \t -4.399236025738473\n",
            "15     \t [-5.99047409  9.73183458]. \t  -225.30298859781234 \t -4.399236025738473\n",
            "16     \t [ 10. -10.]. \t  -300.0 \t -4.399236025738473\n",
            "17     \t [2.71242773 5.17821408]. \t  -60.9850663784743 \t -4.399236025738473\n",
            "18     \t [-10.          -3.36040658]. \t  -122.58466481266946 \t -4.399236025738473\n",
            "19     \t [5.99760978 1.11783602]. \t  -38.47043779150258 \t -4.399236025738473\n",
            "20     \t [-4.58855389 -5.48522033]. \t  -81.23011081010893 \t -4.399236025738473\n"
          ]
        }
      ]
    },
    {
      "cell_type": "code",
      "metadata": {
        "id": "S3mxRQDLIUPC",
        "colab": {
          "base_uri": "https://localhost:8080/"
        },
        "outputId": "b6324697-122c-4e13-d263-258259907ca3"
      },
      "source": [
        "### ESTIMATED GP EI GRADIENTS\n",
        "\n",
        "np.random.seed(run_num_19)\n",
        "surrogate_approx_19 = GaussianProcess(cov_func, optimize=opt)\n",
        "\n",
        "approx_19 = GPGO_multi(surrogate_approx_19, Acquisition_new(util_grad_approx), objfunc, param)\n",
        "approx_19.run(init_evals=n_init, max_iter=iters)\n"
      ],
      "execution_count": null,
      "outputs": [
        {
          "output_type": "stream",
          "name": "stdout",
          "text": [
            "Evaluation \t Proposed point \t  Current eval. \t Best eval.\n",
            "init   \t [-8.04932797  5.22499433]. \t  -119.39281225846176 \t -87.03025225125222\n",
            "init   \t [-5.06124054 -7.23736625]. \t  -130.3750962570555 \t -87.03025225125222\n",
            "init   \t [-3.37106873 -8.3400087 ]. \t  -150.4755946408245 \t -87.03025225125222\n",
            "init   \t [3.43954163 6.13187596]. \t  -87.03025225125222 \t -87.03025225125222\n",
            "init   \t [9.65483829 2.7132147 ]. \t  -107.93897039562282 \t -87.03025225125222\n",
            "1      \t [ 9.42739537 -7.28680447]. \t  -195.07082209920037 \t -87.03025225125222\n",
            "2      \t [9.66871562 9.18398599]. \t  -262.1752591189437 \t -87.03025225125222\n",
            "3      \t [ 0.34213444 -2.30324413]. \t  \u001b[92m-10.726923037011083\u001b[0m \t -10.726923037011083\n",
            "4      \t [-9.64931371 -1.76781368]. \t  -99.35958538505903 \t -10.726923037011083\n",
            "5      \t [-2.69333527  7.93798122]. \t  -133.2771466359215 \t -10.726923037011083\n",
            "6      \t [ 2.8549083  -7.36368238]. \t  -116.59813782006927 \t -10.726923037011083\n",
            "7      \t [ 6.14459838 -2.28562974]. \t  -48.20429580735531 \t -10.726923037011083\n",
            "8      \t [-4.17118482  0.52099786]. \t  -17.941660348474503 \t -10.726923037011083\n",
            "9      \t [-10. -10.]. \t  -300.0 \t -10.726923037011083\n",
            "10     \t [0.14780724 2.39177263]. \t  -11.4629995902349 \t -10.726923037011083\n",
            "11     \t [4.48907176 1.74051305]. \t  -26.21053662355976 \t -10.726923037011083\n",
            "12     \t [-7.53836583 10.        ]. \t  -256.8269593237209 \t -10.726923037011083\n",
            "13     \t [ 5.0620697 10.       ]. \t  -225.62454963579162 \t -10.726923037011083\n",
            "14     \t [-3.36110639 -3.26597478]. \t  -32.630218745440374 \t -10.726923037011083\n",
            "15     \t [10.         -1.91983698]. \t  -107.37154802437695 \t -10.726923037011083\n",
            "16     \t [ 0.81310472 10.        ]. \t  -200.66113928049134 \t -10.726923037011083\n",
            "17     \t [-9.16317338 -5.75648232]. \t  -150.23792381217947 \t -10.726923037011083\n",
            "18     \t [  6.08933967 -10.        ]. \t  -237.0800575702159 \t -10.726923037011083\n",
            "19     \t [-3.7679882   4.00458751]. \t  -46.27117727506109 \t -10.726923037011083\n",
            "20     \t [-10.           1.98672936]. \t  -107.89418708101371 \t -10.726923037011083\n"
          ]
        }
      ]
    },
    {
      "cell_type": "code",
      "metadata": {
        "id": "Aawd59dRIUYn",
        "colab": {
          "base_uri": "https://localhost:8080/"
        },
        "outputId": "580017c4-ddf3-4dee-be84-cecb538575cc"
      },
      "source": [
        "### ESTIMATED GP EI GRADIENTS\n",
        "\n",
        "np.random.seed(run_num_20)\n",
        "surrogate_approx_20 = GaussianProcess(cov_func, optimize=opt)\n",
        "\n",
        "approx_20 = GPGO_multi(surrogate_approx_20, Acquisition_new(util_grad_approx), objfunc, param)\n",
        "approx_20.run(init_evals=n_init, max_iter=iters)\n"
      ],
      "execution_count": null,
      "outputs": [
        {
          "output_type": "stream",
          "name": "stdout",
          "text": [
            "Evaluation \t Proposed point \t  Current eval. \t Best eval.\n",
            "init   \t [1.76261602 7.95427456]. \t  -129.64778273349407 \t -6.161449614183514\n",
            "init   \t [7.83061459 6.31674955]. \t  -141.12117450686426 \t -6.161449614183514\n",
            "init   \t [-9.28220829  3.83515164]. \t  -115.57616682517047 \t -6.161449614183514\n",
            "init   \t [-2.42638116  0.37021891]. \t  -6.161449614183514 \t -6.161449614183514\n",
            "init   \t [ 3.15902931 -6.12299564]. \t  -84.96161746112533 \t -6.161449614183514\n",
            "1      \t [ 6.78995846 -0.77921207]. \t  -47.31787877809484 \t -6.161449614183514\n",
            "2      \t [-7.8478547 -7.6599646]. \t  -178.938938646232 \t -6.161449614183514\n",
            "3      \t [-4.56172279  9.14761084]. \t  -188.16688311626407 \t -6.161449614183514\n",
            "4      \t [ 9.03563127 -5.57761678]. \t  -143.86225043765864 \t -6.161449614183514\n",
            "5      \t [-2.23929329 -9.39947652]. \t  -181.71475206043087 \t -6.161449614183514\n",
            "6      \t [-7.23080999 -1.7613864 ]. \t  -58.4895771997922 \t -6.161449614183514\n",
            "7      \t [-9.72357016 10.        ]. \t  -294.54781656397256 \t -6.161449614183514\n",
            "8      \t [2.30470956 2.31233042]. \t  -16.00543007836067 \t -6.161449614183514\n",
            "9      \t [-1.8832815  -4.13624569]. \t  -37.76380610818517 \t -6.161449614183514\n",
            "10     \t [-3.32383434  4.34973508]. \t  -48.88826528807644 \t -6.161449614183514\n",
            "11     \t [ 10. -10.]. \t  -300.0 \t -6.161449614183514\n",
            "12     \t [10.          2.17263584]. \t  -109.44069296137755 \t -6.161449614183514\n",
            "13     \t [ 5.65101752 10.        ]. \t  -231.93399898616812 \t -6.161449614183514\n",
            "14     \t [ 4.92766676 -9.54465892]. \t  -206.48292738749677 \t -6.161449614183514\n",
            "15     \t [ 1.93248423 -1.75193553]. \t  -9.87305151419917 \t -6.161449614183514\n",
            "16     \t [-10.          -4.20498245]. \t  -135.36375480306248 \t -6.161449614183514\n",
            "17     \t [-5.81279018  1.66376206]. \t  -39.32473807359128 \t -6.161449614183514\n",
            "18     \t [-5.19713467 -4.84231409]. \t  -73.90622028704149 \t -6.161449614183514\n",
            "19     \t [-10.           0.17936775]. \t  -100.06434557849178 \t -6.161449614183514\n",
            "20     \t [5.67997793 2.90108155]. \t  -49.094697590411336 \t -6.161449614183514\n"
          ]
        }
      ]
    },
    {
      "cell_type": "code",
      "metadata": {
        "id": "xkgzPRbBTHaq",
        "colab": {
          "base_uri": "https://localhost:8080/"
        },
        "outputId": "df9db2d1-2117-47b0-c67c-af12c00d70cc"
      },
      "source": [
        "end_approx = time.time()\n",
        "end_approx\n",
        "\n",
        "time_approx = end_approx - start_approx\n",
        "time_approx\n",
        "\n",
        "start_exact = time.time()\n",
        "start_exact"
      ],
      "execution_count": null,
      "outputs": [
        {
          "output_type": "execute_result",
          "data": {
            "text/plain": [
              "1637145982.5360112"
            ]
          },
          "metadata": {},
          "execution_count": 33
        }
      ]
    },
    {
      "cell_type": "code",
      "metadata": {
        "id": "7CG3Ndvb16Rb",
        "colab": {
          "base_uri": "https://localhost:8080/"
        },
        "outputId": "974661be-1d5a-4843-a673-996eb46f3862"
      },
      "source": [
        "### EXACT GP EI GRADIENTS\n",
        "\n",
        "np.random.seed(run_num_1)\n",
        "surrogate_exact_1 = dGaussianProcess(cov_func, optimize=opt)\n",
        "\n",
        "exact_1 = dGPGO(surrogate_exact_1, Acquisition_new(util_grad_exact), objfunc, param)\n",
        "exact_1.run(init_evals=n_init, max_iter=iters)\n"
      ],
      "execution_count": null,
      "outputs": [
        {
          "output_type": "stream",
          "name": "stdout",
          "text": [
            "Evaluation \t Proposed point \t  Current eval. \t Best eval.\n",
            "init   \t [-1.65955991  4.40648987]. \t  -41.5884450098667 \t -5.468172821636052\n",
            "init   \t [-9.9977125  -3.95334855]. \t  -131.21218477957908 \t -5.468172821636052\n",
            "init   \t [-7.06488218 -8.1532281 ]. \t  -182.86281732102734 \t -5.468172821636052\n",
            "init   \t [-6.27479577 -3.08878546]. \t  -58.4542532110911 \t -5.468172821636052\n",
            "init   \t [-2.06465052  0.77633468]. \t  -5.468172821636052 \t -5.468172821636052\n",
            "1      \t [ 7.89213327 -8.29911577]. \t  -200.03641276683908 \t -5.468172821636052\n",
            "2      \t [7.66612182 2.47344414]. \t  -71.00527566059496 \t -5.468172821636052\n",
            "3      \t [1.62717855 9.40039978]. \t  -179.3827421328839 \t -5.468172821636052\n",
            "4      \t [-9.56950389  8.95940422]. \t  -252.11725289788865 \t -5.468172821636052\n",
            "5      \t [ 2.56152397 -4.28847437]. \t  -43.34342980630102 \t -5.468172821636052\n",
            "6      \t [8.32611107 8.1927105 ]. \t  -203.5651361813062 \t -5.468172821636052\n",
            "7      \t [-0.86049345 -8.86141123]. \t  -157.78966701707245 \t -5.468172821636052\n",
            "8      \t [-7.81962472  2.67573521]. \t  -75.4656486076953 \t -5.468172821636052\n",
            "9      \t [-3.93231904  9.50428491]. \t  -196.12599637226378 \t -5.468172821636052\n",
            "10     \t [-1.82211199 -3.34807831]. \t  -25.739348795604982 \t -5.468172821636052\n",
            "11     \t [2.82526286 3.04982457]. \t  -26.58497002114598 \t -5.468172821636052\n",
            "12     \t [ 7.5966134  -2.79832759]. \t  -73.36980981884369 \t -5.468172821636052\n",
            "13     \t [  3.4941421 -10.       ]. \t  -212.2090290082869 \t -5.468172821636052\n",
            "14     \t [-5.33450027  5.60438625]. \t  -91.27518353841688 \t -5.468172821636052\n",
            "15     \t [ 0.88242767 -0.24157016]. \t  \u001b[92m-0.8953908839639271\u001b[0m \t -0.8953908839639271\n",
            "16     \t [-10. -10.]. \t  -300.0 \t -0.8953908839639271\n",
            "17     \t [ 4.32505492 -0.67256026]. \t  -19.610774651346894 \t -0.8953908839639271\n",
            "18     \t [-4.77383204 -0.38977443]. \t  -23.093320591556655 \t -0.8953908839639271\n",
            "19     \t [2.66787911 6.00390896]. \t  -79.21142464259076 \t -0.8953908839639271\n",
            "20     \t [0.53928966 0.87366963]. \t  -1.8174305770682837 \t -0.8953908839639271\n"
          ]
        }
      ]
    },
    {
      "cell_type": "code",
      "metadata": {
        "id": "-ilCPSAu9SAg",
        "colab": {
          "base_uri": "https://localhost:8080/"
        },
        "outputId": "0a56b091-1669-4fd6-f44e-c794be02c5f1"
      },
      "source": [
        "### EXACT GP EI GRADIENTS\n",
        "\n",
        "np.random.seed(run_num_2)\n",
        "surrogate_exact_2 = dGaussianProcess(cov_func, optimize=opt)\n",
        "\n",
        "exact_2 = dGPGO(surrogate_exact_2, Acquisition_new(util_grad_exact), objfunc, param)\n",
        "exact_2.run(init_evals=n_init, max_iter=iters)\n"
      ],
      "execution_count": null,
      "outputs": [
        {
          "output_type": "stream",
          "name": "stdout",
          "text": [
            "Evaluation \t Proposed point \t  Current eval. \t Best eval.\n",
            "init   \t [-1.28010196 -9.48147536]. \t  -181.43541115584648 \t -4.333099000920773\n",
            "init   \t [ 0.99324956 -1.29355215]. \t  -4.333099000920773 \t -4.333099000920773\n",
            "init   \t [-1.59264396 -3.39330358]. \t  -25.565533148780872 \t -4.333099000920773\n",
            "init   \t [-5.90702732  2.38541933]. \t  -46.27342248166184 \t -4.333099000920773\n",
            "init   \t [-4.00690653 -4.6634545 ]. \t  -59.55091562094812 \t -4.333099000920773\n",
            "1      \t [4.01504693 9.2910216 ]. \t  -188.7667666769868 \t -4.333099000920773\n",
            "2      \t [ 9.4582138 -7.7444757]. \t  -209.411615827435 \t -4.333099000920773\n",
            "3      \t [-10. -10.]. \t  -300.0 \t -4.333099000920773\n",
            "4      \t [8.51803193 1.4054842 ]. \t  -76.50763960826586 \t -4.333099000920773\n",
            "5      \t [9.77724187 9.8990052 ]. \t  -291.575066387719 \t -4.333099000920773\n",
            "6      \t [-3.25263411  9.0402141 ]. \t  -174.03057068772284 \t -4.333099000920773\n",
            "7      \t [-8.78437763  7.32317308]. \t  -184.42301819707023 \t -4.333099000920773\n",
            "8      \t [-10.          -3.79489885]. \t  -128.80251460972983 \t -4.333099000920773\n",
            "9      \t [2.40456537 3.64430139]. \t  -32.34379988780754 \t -4.333099000920773\n",
            "10     \t [ 4.04322973 -6.03810302]. \t  -89.26508287967712 \t -4.333099000920773\n",
            "11     \t [8.56491397 5.5374389 ]. \t  -134.68421051186118 \t -4.333099000920773\n",
            "12     \t [-1.50809285  1.36173003]. \t  -5.982961397593462 \t -4.333099000920773\n",
            "13     \t [  5.19235798 -10.        ]. \t  -226.96058134338335 \t -4.333099000920773\n",
            "14     \t [ 7.28804503 -2.88127442]. \t  -69.71908495192496 \t -4.333099000920773\n",
            "15     \t [-10.           1.01926029]. \t  -102.0777830604381 \t -4.333099000920773\n",
            "16     \t [-5.59422052 -9.63163367]. \t  -216.8320375247841 \t -4.333099000920773\n",
            "17     \t [ 3.96611519 -1.31314901]. \t  -19.178790346242863 \t -4.333099000920773\n",
            "18     \t [-6.24498853 -1.54511076]. \t  -43.774616294709034 \t -4.333099000920773\n",
            "19     \t [-2.3798903   3.66949785]. \t  -32.5943067782563 \t -4.333099000920773\n",
            "20     \t [0.15070919 9.59119908]. \t  -184.00491278325495 \t -4.333099000920773\n"
          ]
        }
      ]
    },
    {
      "cell_type": "code",
      "metadata": {
        "id": "XieJ158mIvlP",
        "colab": {
          "base_uri": "https://localhost:8080/"
        },
        "outputId": "e50d92d3-c200-4487-ce15-eccdf679ee78"
      },
      "source": [
        "### EXACT GP EI GRADIENTS\n",
        "\n",
        "np.random.seed(run_num_3)\n",
        "surrogate_exact_3 = dGaussianProcess(cov_func, optimize=opt)\n",
        "\n",
        "exact_3 = dGPGO(surrogate_exact_3, Acquisition_new(util_grad_exact), objfunc, param)\n",
        "exact_3.run(init_evals=n_init, max_iter=iters)\n"
      ],
      "execution_count": null,
      "outputs": [
        {
          "output_type": "stream",
          "name": "stdout",
          "text": [
            "Evaluation \t Proposed point \t  Current eval. \t Best eval.\n",
            "init   \t [1.01595805 4.16295645]. \t  -35.692583610916834 \t -17.582120911078754\n",
            "init   \t [-4.18190522  0.2165521 ]. \t  -17.582120911078754 \t -17.582120911078754\n",
            "init   \t [7.85893909 7.92586178]. \t  -187.4014934415638 \t -17.582120911078754\n",
            "init   \t [-7.48829379 -5.85514244]. \t  -124.63992981683481 \t -17.582120911078754\n",
            "init   \t [-8.97065593 -1.18380313]. \t  -83.2754475728413 \t -17.582120911078754\n",
            "1      \t [ 5.60629529 -3.87272935]. \t  -61.42661215628989 \t -17.582120911078754\n",
            "2      \t [-8.52752662  7.84786375]. \t  -195.89664111179286 \t -17.582120911078754\n",
            "3      \t [-0.35005916 -4.25900471]. \t  -36.40078359655554 \t -17.582120911078754\n",
            "4      \t [9.55904819 0.05502095]. \t  -91.38145696941282 \t -17.582120911078754\n",
            "5      \t [ 4.41265469 -9.27830892]. \t  -191.64555424171775 \t -17.582120911078754\n",
            "6      \t [ 9.91572611 -9.01887335]. \t  -261.0017773258461 \t -17.582120911078754\n",
            "7      \t [-2.10496259 -9.55536227]. \t  -187.04076369171705 \t -17.582120911078754\n",
            "8      \t [-2.16996483  9.54788454]. \t  -187.03294569475068 \t -17.582120911078754\n",
            "9      \t [-10.          -9.06308081]. \t  -264.27886750037163 \t -17.582120911078754\n",
            "10     \t [5.25204843 3.19327887]. \t  -47.978072618373574 \t -17.582120911078754\n",
            "11     \t [ 3.53466267 -0.36488555]. \t  \u001b[92m-12.76012314968246\u001b[0m \t -12.76012314968246\n",
            "12     \t [-10.           3.13965009]. \t  -119.714805341199 \t -12.76012314968246\n",
            "13     \t [-3.82444287 -4.53156388]. \t  -55.69650561088697 \t -12.76012314968246\n",
            "14     \t [2.65473428 8.52235265]. \t  -152.30860346487748 \t -12.76012314968246\n",
            "15     \t [ 9.94099009 -4.24032019]. \t  -134.7839146162758 \t -12.76012314968246\n",
            "16     \t [ -6.56790372 -10.        ]. \t  -243.1373592515319 \t -12.76012314968246\n",
            "17     \t [-3.63720861  4.61144364]. \t  -55.76011143372487 \t -12.76012314968246\n",
            "18     \t [ 1.07663014 -1.82238794]. \t  \u001b[92m-7.801328050256446\u001b[0m \t -7.801328050256446\n",
            "19     \t [0.52080912 0.72175776]. \t  \u001b[92m-1.3131106610021408\u001b[0m \t -1.3131106610021408\n",
            "20     \t [-6.53897461  2.82282101]. \t  -58.69482577062668 \t -1.3131106610021408\n"
          ]
        }
      ]
    },
    {
      "cell_type": "code",
      "metadata": {
        "id": "PhLBVOIfIvol",
        "colab": {
          "base_uri": "https://localhost:8080/"
        },
        "outputId": "096f0ee0-e1ce-4537-b2de-514b4b79bc76"
      },
      "source": [
        "### EXACT GP EI GRADIENTS\n",
        "\n",
        "np.random.seed(run_num_4)\n",
        "surrogate_exact_4 = dGaussianProcess(cov_func, optimize=opt)\n",
        "\n",
        "exact_4 = dGPGO(surrogate_exact_4, Acquisition_new(util_grad_exact), objfunc, param)\n",
        "exact_4.run(init_evals=n_init, max_iter=iters)\n"
      ],
      "execution_count": null,
      "outputs": [
        {
          "output_type": "stream",
          "name": "stdout",
          "text": [
            "Evaluation \t Proposed point \t  Current eval. \t Best eval.\n",
            "init   \t [9.34059678 0.94464498]. \t  -89.0314565014143 \t -27.80880071439404\n",
            "init   \t [9.4536872  4.29631987]. \t  -126.28893057280868 \t -27.80880071439404\n",
            "init   \t [ 3.95457649 -5.67821009]. \t  -80.12281484649141 \t -27.80880071439404\n",
            "init   \t [ 9.5254891 -9.8753949]. \t  -285.78179120922215 \t -27.80880071439404\n",
            "init   \t [-4.94035275 -1.30416935]. \t  -27.80880071439404 \t -27.80880071439404\n",
            "1      \t [-6.35109191  8.36766078]. \t  -180.3718623830372 \t -27.80880071439404\n",
            "2      \t [1.43282743 6.87413988]. \t  -96.56059262521096 \t -27.80880071439404\n",
            "3      \t [ -3.60174694 -10.        ]. \t  -212.97258101140636 \t -27.80880071439404\n",
            "4      \t [-10. -10.]. \t  -300.0 \t -27.80880071439404\n",
            "5      \t [-9.2450964   2.86617043]. \t  -101.9016732569988 \t -27.80880071439404\n",
            "6      \t [-10.          -3.40812843]. \t  -123.23067874908001 \t -27.80880071439404\n",
            "7      \t [1.45162335 0.05109036]. \t  \u001b[92m-2.112430794758758\u001b[0m \t -2.112430794758758\n",
            "8      \t [-1.2105163  -5.39467636]. \t  -59.670415682439476 \t -2.112430794758758\n",
            "9      \t [-3.3737153   3.73198569]. \t  -39.237389307447 \t -2.112430794758758\n",
            "10     \t [9.53194013 9.98728079]. \t  -290.3494379163273 \t -2.112430794758758\n",
            "11     \t [  1.60049611 -10.        ]. \t  -202.56158778241598 \t -2.112430794758758\n",
            "12     \t [ 9.86977702 -4.16110409]. \t  -132.04207291208405 \t -2.112430794758758\n",
            "13     \t [4.31107619 2.43758835]. \t  -30.469051837072477 \t -2.112430794758758\n",
            "14     \t [-5.84175498 -6.52903025]. \t  -119.38257324942285 \t -2.112430794758758\n",
            "15     \t [5.50599937 7.74673589]. \t  -150.33986294016952 \t -2.112430794758758\n",
            "16     \t [-1.42907701  0.08350884]. \t  \u001b[92m-2.056208555575172\u001b[0m \t -2.056208555575172\n",
            "17     \t [0.39797673 2.48960183]. \t  -12.554620027202208 \t -2.056208555575172\n",
            "18     \t [ 5.44776088 -1.61647422]. \t  -34.9040764272055 \t -2.056208555575172\n",
            "19     \t [-2.71108376  8.70942717]. \t  -159.05821848443824 \t -2.056208555575172\n",
            "20     \t [  5.40535962 -10.        ]. \t  -229.21791267423248 \t -2.056208555575172\n"
          ]
        }
      ]
    },
    {
      "cell_type": "code",
      "metadata": {
        "id": "arbiPyj2IvsJ",
        "colab": {
          "base_uri": "https://localhost:8080/"
        },
        "outputId": "1306ff2d-3c85-48b7-934a-35d1df3ae5f5"
      },
      "source": [
        "### EXACT GP EI GRADIENTS\n",
        "\n",
        "np.random.seed(run_num_5)\n",
        "surrogate_exact_5 = dGaussianProcess(cov_func, optimize=opt)\n",
        "\n",
        "exact_5 = dGPGO(surrogate_exact_5, Acquisition_new(util_grad_exact), objfunc, param)\n",
        "exact_5.run(init_evals=n_init, max_iter=iters)\n"
      ],
      "execution_count": null,
      "outputs": [
        {
          "output_type": "stream",
          "name": "stdout",
          "text": [
            "Evaluation \t Proposed point \t  Current eval. \t Best eval.\n",
            "init   \t [-5.56013658  7.41464612]. \t  -140.86907304317228 \t -10.04307293518387\n",
            "init   \t [-5.86561689  8.37221816]. \t  -174.59353533361667 \t -10.04307293518387\n",
            "init   \t [-0.23177622  2.23487726]. \t  -10.04307293518387 \t -10.04307293518387\n",
            "init   \t [5.31815713 0.36835976]. \t  -28.554173077012745 \t -10.04307293518387\n",
            "init   \t [-4.06398997 -6.24557543]. \t  -94.53043928694063 \t -10.04307293518387\n",
            "1      \t [9.27861058 9.20453431]. \t  -255.5395178906315 \t -10.04307293518387\n",
            "2      \t [ 8.87080164 -7.76615146]. \t  -199.31733862713008 \t -10.04307293518387\n",
            "3      \t [0.54357666 9.2242228 ]. \t  -170.4680482407008 \t -10.04307293518387\n",
            "4      \t [ 2.49508934 -6.80638133]. \t  -98.87912454627462 \t -10.04307293518387\n",
            "5      \t [-9.51645493 -7.97673238]. \t  -217.81943333528216 \t -10.04307293518387\n",
            "6      \t [-8.62367183  0.50898962]. \t  -74.88585667581904 \t -10.04307293518387\n",
            "7      \t [5.37272879 5.32885086]. \t  -85.65951756559215 \t -10.04307293518387\n",
            "8      \t [-1.55570083 -1.98610022]. \t  -10.30939320131034 \t -10.04307293518387\n",
            "9      \t [-9.91589159  5.089816  ]. \t  -150.13735993584675 \t -10.04307293518387\n",
            "10     \t [-9.66884935 -3.67194006]. \t  -120.45293544982148 \t -10.04307293518387\n",
            "11     \t [ -1.22656914 -10.        ]. \t  -201.50447184508144 \t -10.04307293518387\n",
            "12     \t [ 8.20061259 -2.69742324]. \t  -81.80223120238888 \t -10.04307293518387\n",
            "13     \t [-5.80854019 -2.22435878]. \t  -43.634683087089854 \t -10.04307293518387\n",
            "14     \t [-4.4281803  2.6557611]. \t  -33.71491476132461 \t -10.04307293518387\n",
            "15     \t [ 2.09612886 -2.0454824 ]. \t  -12.761752732967622 \t -10.04307293518387\n",
            "16     \t [9.34103116 2.98084349]. \t  -105.0257188774645 \t -10.04307293518387\n",
            "17     \t [0.50288211 5.26751029]. \t  -55.746219688741505 \t -10.04307293518387\n",
            "18     \t [3.76482808 8.35731447]. \t  -153.86334065607812 \t -10.04307293518387\n",
            "19     \t [-0.52388995 -5.04648886]. \t  -51.20856038004248 \t -10.04307293518387\n",
            "20     \t [2.7298778  2.09871143]. \t  -16.261412188363344 \t -10.04307293518387\n"
          ]
        }
      ]
    },
    {
      "cell_type": "code",
      "metadata": {
        "id": "04KJCEm_Ivvf",
        "colab": {
          "base_uri": "https://localhost:8080/"
        },
        "outputId": "0c8a5c4e-b0eb-49b6-f98e-a5724b1f8dcf"
      },
      "source": [
        "### EXACT GP EI GRADIENTS\n",
        "\n",
        "np.random.seed(run_num_6)\n",
        "surrogate_exact_6 = dGaussianProcess(cov_func, optimize=opt)\n",
        "\n",
        "exact_6 = dGPGO(surrogate_exact_6, Acquisition_new(util_grad_exact), objfunc, param)\n",
        "exact_6.run(init_evals=n_init, max_iter=iters)\n"
      ],
      "execution_count": null,
      "outputs": [
        {
          "output_type": "stream",
          "name": "stdout",
          "text": [
            "Evaluation \t Proposed point \t  Current eval. \t Best eval.\n",
            "init   \t [ 7.85720303 -3.36040389]. \t  -84.32026809583151 \t -5.629416961321397\n",
            "init   \t [ 6.42458246 -9.16606749]. \t  -209.30884609749882 \t -5.629416961321397\n",
            "init   \t [-7.8468664   1.90104128]. \t  -68.80122824744078 \t -5.629416961321397\n",
            "init   \t [ 0.59634724 -1.62385143]. \t  -5.629416961321397 \t -5.629416961321397\n",
            "init   \t [-3.29184301  2.45038864]. \t  -22.84503944485431 \t -5.629416961321397\n",
            "1      \t [4.34664291 8.74699069]. \t  -171.91299695999675 \t -5.629416961321397\n",
            "2      \t [-4.96771714 -9.17248997]. \t  -192.94735819477367 \t -5.629416961321397\n",
            "3      \t [9.57427611 1.74148842]. \t  -97.73232688990717 \t -5.629416961321397\n",
            "4      \t [-5.6935267   8.60486508]. \t  -180.50365249520243 \t -5.629416961321397\n",
            "5      \t [ 0.39796255 -6.86784128]. \t  -94.49286187509264 \t -5.629416961321397\n",
            "6      \t [-10.          -3.32752084]. \t  -122.14478990758644 \t -5.629416961321397\n",
            "7      \t [-4.31987013 -2.195769  ]. \t  -28.30408094608856 \t -5.629416961321397\n",
            "8      \t [0.15057157 6.22875612]. \t  -77.61747745528682 \t -5.629416961321397\n",
            "9      \t [-1.22868843  4.34354782]. \t  -39.24249056209099 \t -5.629416961321397\n",
            "10     \t [-10. -10.]. \t  -300.0 \t -5.629416961321397\n",
            "11     \t [4.01948    3.44505906]. \t  -39.89308328589672 \t -5.629416961321397\n",
            "12     \t [-3.19809359 -5.52403277]. \t  -71.25767863822489 \t -5.629416961321397\n",
            "13     \t [9.44644886 8.42355392]. \t  -231.14791735271888 \t -5.629416961321397\n",
            "14     \t [ 3.78072102 -0.4618079 ]. \t  -14.72038452113644 \t -5.629416961321397\n",
            "15     \t [-10.           6.21960318]. \t  -177.36692749644027 \t -5.629416961321397\n",
            "16     \t [ 4.35678147 -5.82932296]. \t  -86.94355719019504 \t -5.629416961321397\n",
            "17     \t [-0.9175467   9.82595978]. \t  -193.94086300199058 \t -5.629416961321397\n",
            "18     \t [-5.56703291  4.44752288]. \t  -70.55277504062201 \t -5.629416961321397\n",
            "19     \t [  2.2691555 -10.       ]. \t  -205.1490666735535 \t -5.629416961321397\n",
            "20     \t [ 9.31556934 -6.47701875]. \t  -170.6833757269569 \t -5.629416961321397\n"
          ]
        }
      ]
    },
    {
      "cell_type": "code",
      "metadata": {
        "id": "tAOkme3CIvyO",
        "colab": {
          "base_uri": "https://localhost:8080/"
        },
        "outputId": "b573f3ec-ea48-4e0e-f519-a27058c95267"
      },
      "source": [
        "### EXACT GP EI GRADIENTS\n",
        "\n",
        "np.random.seed(run_num_7)\n",
        "surrogate_exact_7 = dGaussianProcess(cov_func, optimize=opt)\n",
        "\n",
        "exact_7 = dGPGO(surrogate_exact_7, Acquisition_new(util_grad_exact), objfunc, param)\n",
        "exact_7.run(init_evals=n_init, max_iter=iters)\n"
      ],
      "execution_count": null,
      "outputs": [
        {
          "output_type": "stream",
          "name": "stdout",
          "text": [
            "Evaluation \t Proposed point \t  Current eval. \t Best eval.\n",
            "init   \t [-8.47383421  5.59837584]. \t  -134.48949046062052 \t -21.448213419349443\n",
            "init   \t [-1.23181537  4.46930356]. \t  -41.46671767109191 \t -21.448213419349443\n",
            "init   \t [9.55979024 0.76991741]. \t  -92.57513506242564 \t -21.448213419349443\n",
            "init   \t [ 0.02240927 -8.55897733]. \t  -146.51268814245697 \t -21.448213419349443\n",
            "init   \t [-4.63122040e+00 -2.34998349e-03]. \t  -21.448213419349443 \t -21.448213419349443\n",
            "1      \t [ 8.12846538 -6.39096762]. \t  -147.76088362344177 \t -21.448213419349443\n",
            "2      \t [6.00958098 8.78222707]. \t  -190.37008833601834 \t -21.448213419349443\n",
            "3      \t [-9.10467478 -9.8356699 ]. \t  -276.3759076385656 \t -21.448213419349443\n",
            "4      \t [-7.86246511 -2.61028169]. \t  -75.44549865130998 \t -21.448213419349443\n",
            "5      \t [-3.25931441  9.70439311]. \t  -198.97362160564154 \t -21.448213419349443\n",
            "6      \t [ 4.02604261 -0.24846681]. \t  \u001b[92m-16.332490580928336\u001b[0m \t -16.332490580928336\n",
            "7      \t [-0.4422779 -2.9399573]. \t  -17.482307584820397 \t -16.332490580928336\n",
            "8      \t [-4.77625431 -6.55361696]. \t  -108.71239585305712 \t -16.332490580928336\n",
            "9      \t [  4.79137031 -10.        ]. \t  -222.95722942115773 \t -16.332490580928336\n",
            "10     \t [-9.80514994  9.62358704]. \t  -281.36782050933255 \t -16.332490580928336\n",
            "11     \t [3.61102573 4.17792932]. \t  -47.949693579203675 \t -16.332490580928336\n",
            "12     \t [ 3.76495439 -5.47842713]. \t  -74.20120927153111 \t -16.332490580928336\n",
            "13     \t [-10.          -5.87607821]. \t  -169.05659031040136 \t -16.332490580928336\n",
            "14     \t [-9.18511544  1.14933169]. \t  -87.00827231263843 \t -16.332490580928336\n",
            "15     \t [8.32918171 5.04413718]. \t  -120.26190778302407 \t -16.332490580928336\n",
            "16     \t [2.23165943 9.48914494]. \t  -185.06804707843273 \t -16.332490580928336\n",
            "17     \t [ 7.20994073 -2.55044272]. \t  -64.99276145621265 \t -16.332490580928336\n",
            "18     \t [-4.34507656 -3.09466254]. \t  -38.03356279781919 \t -16.332490580928336\n",
            "19     \t [0.75215477 0.333239  ]. \t  \u001b[92m-0.787833262124287\u001b[0m \t -0.787833262124287\n",
            "20     \t [  9.11192994 -10.        ]. \t  -283.0272673064772 \t -0.787833262124287\n"
          ]
        }
      ]
    },
    {
      "cell_type": "code",
      "metadata": {
        "id": "69-J3EF4Iv1S",
        "colab": {
          "base_uri": "https://localhost:8080/"
        },
        "outputId": "14eea835-9580-4666-e161-0b84f20a6d27"
      },
      "source": [
        "### EXACT GP EI GRADIENTS\n",
        "\n",
        "np.random.seed(run_num_8)\n",
        "surrogate_exact_8 = dGaussianProcess(cov_func, optimize=opt)\n",
        "\n",
        "exact_8 = dGPGO(surrogate_exact_8, Acquisition_new(util_grad_exact), objfunc, param)\n",
        "exact_8.run(init_evals=n_init, max_iter=iters)\n"
      ],
      "execution_count": null,
      "outputs": [
        {
          "output_type": "stream",
          "name": "stdout",
          "text": [
            "Evaluation \t Proposed point \t  Current eval. \t Best eval.\n",
            "init   \t [7.46858806 9.37081326]. \t  -231.40408972112363 \t -0.5791878792948744\n",
            "init   \t [7.3838908  0.61711383]. \t  -55.28350237060649 \t -0.5791878792948744\n",
            "init   \t [-5.34543344 -9.77202391]. \t  -219.5585614355461 \t -0.5791878792948744\n",
            "init   \t [-1.39062363 -1.9529728 ]. \t  -9.562039601098967 \t -0.5791878792948744\n",
            "init   \t [ 0.45349343 -0.43216408]. \t  -0.5791878792948744 \t -0.5791878792948744\n",
            "1      \t [ 9.69498875 -9.42535902]. \t  -271.6675921188219 \t -0.5791878792948744\n",
            "2      \t [-9.83383251  5.77166529]. \t  -163.3285022998636 \t -0.5791878792948744\n",
            "3      \t [-7.89608811 -2.77250278]. \t  -77.72175080472833 \t -0.5791878792948744\n",
            "4      \t [-4.20358332  9.04028189]. \t  -181.12350594590396 \t -0.5791878792948744\n",
            "5      \t [2.18140819 4.64561701]. \t  -47.922056395607754 \t -0.5791878792948744\n",
            "6      \t [ 3.13047136 -9.68982524]. \t  -197.58527742267148 \t -0.5791878792948744\n",
            "7      \t [ 8.97094021 -4.11848091]. \t  -114.4015383262889 \t -0.5791878792948744\n",
            "8      \t [-2.83033134  2.61074124]. \t  -21.642715145850943 \t -0.5791878792948744\n",
            "9      \t [-2.36777977 -5.97663337]. \t  -77.0466739777031 \t -0.5791878792948744\n",
            "10     \t [-10.          -7.47783406]. \t  -211.83600450564393 \t -0.5791878792948744\n",
            "11     \t [ 3.5189533  -4.18038569]. \t  -47.334281370951054 \t -0.5791878792948744\n",
            "12     \t [-7.10177591  1.38808601]. \t  -54.288786610613435 \t -0.5791878792948744\n",
            "13     \t [-0.26487079  9.15024481]. \t  -167.52411668703698 \t -0.5791878792948744\n",
            "14     \t [9.99726945 4.43589418]. \t  -139.29971082016272 \t -0.5791878792948744\n",
            "15     \t [ -1.07618088 -10.        ]. \t  -201.158165279883 \t -0.5791878792948744\n",
            "16     \t [ 2.58302215 -0.05389749]. \t  -6.677813318319144 \t -0.5791878792948744\n",
            "17     \t [-4.62929991 -2.00154042]. \t  -29.44274577970637 \t -0.5791878792948744\n",
            "18     \t [5.96048714 4.29123592]. \t  -72.3568183076567 \t -0.5791878792948744\n",
            "19     \t [ 6.08854954 -6.86107521]. \t  -131.21914148856158 \t -0.5791878792948744\n",
            "20     \t [-5.47501203  5.00234492]. \t  -80.02266612960321 \t -0.5791878792948744\n"
          ]
        }
      ]
    },
    {
      "cell_type": "code",
      "metadata": {
        "id": "vonm9jyuIv4t",
        "colab": {
          "base_uri": "https://localhost:8080/"
        },
        "outputId": "af010cda-8444-4ed7-f341-121a0c6233ec"
      },
      "source": [
        "### EXACT GP EI GRADIENTS\n",
        "\n",
        "np.random.seed(run_num_9)\n",
        "surrogate_exact_9 = dGaussianProcess(cov_func, optimize=opt)\n",
        "\n",
        "exact_9 = dGPGO(surrogate_exact_9, Acquisition_new(util_grad_exact), objfunc, param)\n",
        "exact_9.run(init_evals=n_init, max_iter=iters)\n"
      ],
      "execution_count": null,
      "outputs": [
        {
          "output_type": "stream",
          "name": "stdout",
          "text": [
            "Evaluation \t Proposed point \t  Current eval. \t Best eval.\n",
            "init   \t [-9.79251692  0.03749184]. \t  -95.896198949837 \t -53.418783741178075\n",
            "init   \t [-0.08453414 -7.32340942]. \t  -107.27179711012016 \t -53.418783741178075\n",
            "init   \t [-7.15777829 -5.62882649]. \t  -114.6011653140891 \t -53.418783741178075\n",
            "init   \t [-1.62983639 -5.03797663]. \t  -53.418783741178075 \t -53.418783741178075\n",
            "init   \t [-8.31880698 -3.0900272 ]. \t  -88.29908569649677 \t -53.418783741178075\n",
            "1      \t [6.0747954  9.66718496]. \t  -223.8120694300478 \t -53.418783741178075\n",
            "2      \t [-3.94738717  9.4159639 ]. \t  -192.90261763630335 \t -53.418783741178075\n",
            "3      \t [4.07561386 0.71776482]. \t  \u001b[92m-17.64100099927903\u001b[0m \t -17.64100099927903\n",
            "4      \t [ 8.66970884 -6.33785621]. \t  -155.50069423954056 \t -17.64100099927903\n",
            "5      \t [-5.36875248  3.7462202 ]. \t  -56.891834781024926 \t -17.64100099927903\n",
            "6      \t [1.47058978 5.99591428]. \t  -74.06461033278075 \t -17.64100099927903\n",
            "7      \t [-0.7618409  -0.10117969]. \t  \u001b[92m-0.6008762195762174\u001b[0m \t -0.6008762195762174\n",
            "8      \t [-10. -10.]. \t  -300.0 \t -0.6008762195762174\n",
            "9      \t [9.61196338 4.30677396]. \t  -129.48644391246773 \t -0.6008762195762174\n",
            "10     \t [  4.62323474 -10.        ]. \t  -221.3742994716261 \t -0.6008762195762174\n",
            "11     \t [-9.50568774  7.86646734]. \t  -214.12071640242488 \t -0.6008762195762174\n",
            "12     \t [-3.39862396 -1.53597641]. \t  -16.26909189157987 \t -0.6008762195762174\n",
            "13     \t [ 2.93814621 -3.47686753]. \t  -32.80991885050236 \t -0.6008762195762174\n",
            "14     \t [7.21207984 1.28119738]. \t  -55.29702903468225 \t -0.6008762195762174\n",
            "15     \t [ 7.10329329 -3.06147556]. \t  -69.20204076881177 \t -0.6008762195762174\n",
            "16     \t [5.53686275 4.63577509]. \t  -73.63767050551522 \t -0.6008762195762174\n",
            "17     \t [-0.69327573  2.26136287]. \t  -10.708155319120092 \t -0.6008762195762174\n",
            "18     \t [-5.39904107 -9.66791827]. \t  -216.08693187392535 \t -0.6008762195762174\n",
            "19     \t [ 0.46753802 -0.67889465]. \t  -1.1403876973891967 \t -0.6008762195762174\n",
            "20     \t [-2.52975976  5.59705135]. \t  -69.05365199869856 \t -0.6008762195762174\n"
          ]
        }
      ]
    },
    {
      "cell_type": "code",
      "metadata": {
        "id": "6amuYlUdIv7r",
        "colab": {
          "base_uri": "https://localhost:8080/"
        },
        "outputId": "fe68e00f-c762-4e9f-bcea-f51819e486aa"
      },
      "source": [
        "### EXACT GP EI GRADIENTS\n",
        "\n",
        "np.random.seed(run_num_10)\n",
        "surrogate_exact_10 = dGaussianProcess(cov_func, optimize=opt)\n",
        "\n",
        "exact_10 = dGPGO(surrogate_exact_10, Acquisition_new(util_grad_exact), objfunc, param)\n",
        "exact_10.run(init_evals=n_init, max_iter=iters)\n"
      ],
      "execution_count": null,
      "outputs": [
        {
          "output_type": "stream",
          "name": "stdout",
          "text": [
            "Evaluation \t Proposed point \t  Current eval. \t Best eval.\n",
            "init   \t [ 5.42641287 -9.58496101]. \t  -213.18891181932327 \t -56.66743785259343\n",
            "init   \t [2.6729647  4.97607765]. \t  -56.66743785259343 \t -56.66743785259343\n",
            "init   \t [-0.02985975 -5.50406709]. \t  -60.59040065376497 \t -56.66743785259343\n",
            "init   \t [-6.0387427   5.21061424]. \t  -90.76741505398337 \t -56.66743785259343\n",
            "init   \t [-6.61778327 -8.23320372]. \t  -179.36634226756874 \t -56.66743785259343\n",
            "1      \t [ 7.13700605 -2.96694721]. \t  -68.54240685564316 \t -56.66743785259343\n",
            "2      \t [2.11155129 0.26933255]. \t  \u001b[92m-4.603728884016107\u001b[0m \t -4.603728884016107\n",
            "3      \t [-7.90760511 -1.20789524]. \t  -65.44824041188056 \t -4.603728884016107\n",
            "4      \t [-2.76819548 -0.03368134]. \t  -7.665175089721417 \t -4.603728884016107\n",
            "5      \t [9.49624999 3.61148749]. \t  -116.26444759812676 \t -4.603728884016107\n",
            "6      \t [9.26715011 9.50785434]. \t  -266.67865967653205 \t -4.603728884016107\n",
            "7      \t [ -1.70550154 -10.        ]. \t  -202.90873548617134 \t -4.603728884016107\n",
            "8      \t [0.07149479 9.31105431]. \t  -173.3965763238819 \t -4.603728884016107\n",
            "9      \t [-10.          -5.12902117]. \t  -152.61371622325998 \t -4.603728884016107\n",
            "10     \t [-10.           2.92262356]. \t  -117.08345696862656 \t -4.603728884016107\n",
            "11     \t [-6.06716473  9.22601338]. \t  -207.0491337581326 \t -4.603728884016107\n",
            "12     \t [-4.21739342 -4.57042239]. \t  -59.563928931382236 \t -4.603728884016107\n",
            "13     \t [ 9.96155329 -6.86649249]. \t  -193.52998227112602 \t -4.603728884016107\n",
            "14     \t [5.69594252 1.15876272]. \t  -35.12922328737686 \t -4.603728884016107\n",
            "15     \t [-1.77919735  4.63348714]. \t  -46.103949264184486 \t -4.603728884016107\n",
            "16     \t [-10. -10.]. \t  -300.0 \t -4.603728884016107\n",
            "17     \t [5.74074853 6.23074296]. \t  -110.60050921632208 \t -4.603728884016107\n",
            "18     \t [ 1.73754045 -2.37530935]. \t  -14.303235869741835 \t -4.603728884016107\n",
            "19     \t [ 3.60479676 -4.62447378]. \t  -55.76607511220594 \t -4.603728884016107\n",
            "20     \t [ 1.60248972 -8.10413465]. \t  -133.92197023159048 \t -4.603728884016107\n"
          ]
        }
      ]
    },
    {
      "cell_type": "code",
      "metadata": {
        "id": "VwbLIP9cIv-F",
        "colab": {
          "base_uri": "https://localhost:8080/"
        },
        "outputId": "8e26ffd7-38fa-42ad-bcda-ce9a55ea79f4"
      },
      "source": [
        "### EXACT GP EI GRADIENTS\n",
        "\n",
        "np.random.seed(run_num_11)\n",
        "surrogate_exact_11 = dGaussianProcess(cov_func, optimize=opt)\n",
        "\n",
        "exact_11 = dGPGO(surrogate_exact_11, Acquisition_new(util_grad_exact), objfunc, param)\n",
        "exact_11.run(init_evals=n_init, max_iter=iters)\n"
      ],
      "execution_count": null,
      "outputs": [
        {
          "output_type": "stream",
          "name": "stdout",
          "text": [
            "Evaluation \t Proposed point \t  Current eval. \t Best eval.\n",
            "init   \t [-6.39460622 -9.61049517]. \t  -225.61422357508457 \t -2.716881462565864\n",
            "init   \t [-0.73562947  4.49867858]. \t  -41.01736871863572 \t -2.716881462565864\n",
            "init   \t [-1.59592791 -0.29145804]. \t  -2.716881462565864 \t -2.716881462565864\n",
            "init   \t [-9.74438371 -0.25256785]. \t  -95.08059489374317 \t -2.716881462565864\n",
            "init   \t [8.83613305 7.01590179]. \t  -176.5230030066306 \t -2.716881462565864\n",
            "1      \t [ 1.99086793 -8.88652641]. \t  -161.90425830617428 \t -2.716881462565864\n",
            "2      \t [ 6.89877062 -3.95670624]. \t  -78.9040846386408 \t -2.716881462565864\n",
            "3      \t [4.72617918 2.96091921]. \t  -39.870854759036106 \t -2.716881462565864\n",
            "4      \t [-4.0480895  -4.48138097]. \t  -56.55257933020414 \t -2.716881462565864\n",
            "5      \t [-7.89611862  5.10567265]. \t  -114.48447569496835 \t -2.716881462565864\n",
            "6      \t [-8.47917244 -4.4343425 ]. \t  -111.223152041855 \t -2.716881462565864\n",
            "7      \t [0.94237194 9.29890425]. \t  -173.827305205474 \t -2.716881462565864\n",
            "8      \t [ 6.91634986 -8.72325028]. \t  -200.02608618025457 \t -2.716881462565864\n",
            "9      \t [-4.88039765  9.04700498]. \t  -187.5148795048255 \t -2.716881462565864\n",
            "10     \t [-6.00207905  0.08789346]. \t  -36.04040339090662 \t -2.716881462565864\n",
            "11     \t [ 0.41361756 -4.15385434]. \t  -34.68009119659495 \t -2.716881462565864\n",
            "12     \t [-9.50340749  8.51957772]. \t  -235.4811628496264 \t -2.716881462565864\n",
            "13     \t [ 9.86584116 -1.02673156]. \t  -99.44317717344929 \t -2.716881462565864\n",
            "14     \t [ 2.02975458 -0.33032666]. \t  -4.338135042136164 \t -2.716881462565864\n",
            "15     \t [ -2.0977883 -10.       ]. \t  -204.40071574259397 \t -2.716881462565864\n",
            "16     \t [-10.          -8.77671567]. \t  -254.06147607774 \t -2.716881462565864\n",
            "17     \t [-3.86401033  2.86578485]. \t  -31.356021416095942 \t -2.716881462565864\n",
            "18     \t [5.44608353 9.4191086 ]. \t  -207.09903944768098 \t -2.716881462565864\n",
            "19     \t [3.9278157  0.05357526]. \t  -15.433476772625614 \t -2.716881462565864\n",
            "20     \t [ 3.16664101 -2.70995759]. \t  -24.715355562177564 \t -2.716881462565864\n"
          ]
        }
      ]
    },
    {
      "cell_type": "code",
      "metadata": {
        "id": "MlUNFjc-JTBY",
        "colab": {
          "base_uri": "https://localhost:8080/"
        },
        "outputId": "6f44196b-1d0f-4fd7-8e20-ed24bb80b67a"
      },
      "source": [
        "### EXACT GP EI GRADIENTS\n",
        "\n",
        "np.random.seed(run_num_12)\n",
        "surrogate_exact_12 = dGaussianProcess(cov_func, optimize=opt)\n",
        "\n",
        "exact_12 = dGPGO(surrogate_exact_12, Acquisition_new(util_grad_exact), objfunc, param)\n",
        "exact_12.run(init_evals=n_init, max_iter=iters)\n"
      ],
      "execution_count": null,
      "outputs": [
        {
          "output_type": "stream",
          "name": "stdout",
          "text": [
            "Evaluation \t Proposed point \t  Current eval. \t Best eval.\n",
            "init   \t [-6.91674315  4.80099393]. \t  -93.94042127407329 \t -23.318590147261595\n",
            "init   \t [-4.7336997   0.67478787]. \t  -23.318590147261595 \t -23.318590147261595\n",
            "init   \t [-9.70850075  8.37494016]. \t  -234.53423225249676 \t -23.318590147261595\n",
            "init   \t [ 8.01429708 -9.33157145]. \t  -238.38540908259807 \t -23.318590147261595\n",
            "init   \t [ 9.13898673 -7.25581357]. \t  -188.8147395776428 \t -23.318590147261595\n",
            "1      \t [4.66251955 4.05244711]. \t  -54.583743654491954 \t -23.318590147261595\n",
            "2      \t [-3.75432006 -8.6025265 ]. \t  -162.1018436659056 \t -23.318590147261595\n",
            "3      \t [-9.62530855 -4.64181386]. \t  -135.73943647493655 \t -23.318590147261595\n",
            "4      \t [0.62006076 8.91956245]. \t  -159.50166406148657 \t -23.318590147261595\n",
            "5      \t [ 8.15269188 -0.957369  ]. \t  -68.2994957298121 \t -23.318590147261595\n",
            "6      \t [9.82022544 8.00293105]. \t  -224.53063835529863 \t -23.318590147261595\n",
            "7      \t [ 2.4307639  -2.13199137]. \t  \u001b[92m-14.999387546945627\u001b[0m \t -14.999387546945627\n",
            "8      \t [ 2.25474895 -8.22219825]. \t  -140.29298085415385 \t -14.999387546945627\n",
            "9      \t [-10. -10.]. \t  -300.0 \t -14.999387546945627\n",
            "10     \t [-0.11589896  2.30727632]. \t  \u001b[92m-10.660480583208528\u001b[0m \t -10.660480583208528\n",
            "11     \t [-10.           0.62132861]. \t  -100.77209849018108 \t -10.660480583208528\n",
            "12     \t [9.53209789 3.30234536]. \t  -112.67185983456383 \t -10.660480583208528\n",
            "13     \t [-2.09447705 -3.63347233]. \t  -30.791076465231804 \t -10.660480583208528\n",
            "14     \t [-4.41132699  9.2434461 ]. \t  -190.3423974954185 \t -10.660480583208528\n",
            "15     \t [-7.10961668 -7.26903567]. \t  -156.22440851997737 \t -10.660480583208528\n",
            "16     \t [ 5.48785876 -5.8566138 ]. \t  -98.71644406795778 \t -10.660480583208528\n",
            "17     \t [-2.18206005  5.14689387]. \t  -57.74241903330331 \t -10.660480583208528\n",
            "18     \t [5.72791313 7.65982471]. \t  -150.15481815299816 \t -10.660480583208528\n",
            "19     \t [-6.00582008 -2.73844174]. \t  -51.06800106371629 \t -10.660480583208528\n",
            "20     \t [ 4.49066798 -0.25887929]. \t  -20.300135906780785 \t -10.660480583208528\n"
          ]
        }
      ]
    },
    {
      "cell_type": "code",
      "metadata": {
        "id": "9BsKdU9eJTFL",
        "colab": {
          "base_uri": "https://localhost:8080/"
        },
        "outputId": "89e58e70-4291-45eb-b666-ac25607efd2c"
      },
      "source": [
        "### EXACT GP EI GRADIENTS\n",
        "\n",
        "np.random.seed(run_num_13)\n",
        "surrogate_exact_13 = dGaussianProcess(cov_func, optimize=opt)\n",
        "\n",
        "exact_13 = dGPGO(surrogate_exact_13, Acquisition_new(util_grad_exact), objfunc, param)\n",
        "exact_13.run(init_evals=n_init, max_iter=iters)\n"
      ],
      "execution_count": null,
      "outputs": [
        {
          "output_type": "stream",
          "name": "stdout",
          "text": [
            "Evaluation \t Proposed point \t  Current eval. \t Best eval.\n",
            "init   \t [ 5.55404821 -5.2491756 ]. \t  -85.95514048001408 \t -47.45541115581226\n",
            "init   \t [6.48557065 9.31498396]. \t  -215.600479080162 \t -47.45541115581226\n",
            "init   \t [ 9.45202228 -0.93101505]. \t  -91.0743031984701 \t -47.45541115581226\n",
            "init   \t [2.18084926 5.51053029]. \t  -65.48799167425372 \t -47.45541115581226\n",
            "init   \t [2.8322669  4.44036459]. \t  -47.45541115581226 \t -47.45541115581226\n",
            "1      \t [-8.69830926  2.59657998]. \t  -89.14503917528086 \t -47.45541115581226\n",
            "2      \t [-5.9673185  -6.48540274]. \t  -119.72978734259729 \t -47.45541115581226\n",
            "3      \t [ 1.27140344 -9.80309118]. \t  -193.81766022446593 \t -47.45541115581226\n",
            "4      \t [-5.68974606  9.11900061]. \t  -198.68555458020188 \t -47.45541115581226\n",
            "5      \t [-10.          -2.75387582]. \t  -115.16766406843543 \t -47.45541115581226\n",
            "6      \t [-2.801531    1.39944676]. \t  \u001b[92m-11.76547841476793\u001b[0m \t -11.76547841476793\n",
            "7      \t [-0.99600432 -3.7816034 ]. \t  -29.593073158065426 \t -11.76547841476793\n",
            "8      \t [-10. -10.]. \t  -300.0 \t -11.76547841476793\n",
            "9      \t [ 2.14489105 -0.23252369]. \t  \u001b[92m-4.70869215998103\u001b[0m \t -4.70869215998103\n",
            "10     \t [-2.05335436  5.09015781]. \t  -56.035677221423434 \t -4.70869215998103\n",
            "11     \t [8.82755048 4.10848985]. \t  -111.6850250736155 \t -4.70869215998103\n",
            "12     \t [ 8.56375539 -7.57425748]. \t  -188.07665898649216 \t -4.70869215998103\n",
            "13     \t [-10.          6.9454801]. \t  -196.47938761879163 \t -4.70869215998103\n",
            "14     \t [-6.13453943 -1.77320739]. \t  -43.92110285244728 \t -4.70869215998103\n",
            "15     \t [-0.02204965  9.11797101]. \t  -166.27527687813804 \t -4.70869215998103\n",
            "16     \t [0.28578103 1.47790677]. \t  \u001b[92m-4.450087664994024\u001b[0m \t -4.450087664994024\n",
            "17     \t [ 4.77080388 -0.5609313 ]. \t  -23.38985753072879 \t -4.450087664994024\n",
            "18     \t [ 0.9088407 -6.1527288]. \t  -76.53813469738212 \t -4.450087664994024\n",
            "19     \t [ -4.19096706 -10.        ]. \t  -217.56420486045192 \t -4.450087664994024\n",
            "20     \t [-6.08039476  5.14048875]. \t  -89.82044950681531 \t -4.450087664994024\n"
          ]
        }
      ]
    },
    {
      "cell_type": "code",
      "metadata": {
        "id": "k6GjFBr1JTJf",
        "colab": {
          "base_uri": "https://localhost:8080/"
        },
        "outputId": "6b0966fc-1658-4853-b4e4-ae50ee6345f0"
      },
      "source": [
        "### EXACT GP EI GRADIENTS\n",
        "\n",
        "np.random.seed(run_num_14)\n",
        "surrogate_exact_14 = dGaussianProcess(cov_func, optimize=opt)\n",
        "\n",
        "exact_14 = dGPGO(surrogate_exact_14, Acquisition_new(util_grad_exact), objfunc, param)\n",
        "exact_14.run(init_evals=n_init, max_iter=iters)\n"
      ],
      "execution_count": null,
      "outputs": [
        {
          "output_type": "stream",
          "name": "stdout",
          "text": [
            "Evaluation \t Proposed point \t  Current eval. \t Best eval.\n",
            "init   \t [0.27886688 5.46330104]. \t  -59.77308327621332 \t -26.48525945153859\n",
            "init   \t [ 7.40855371 -9.83906103]. \t  -248.5009120212351 \t -26.48525945153859\n",
            "init   \t [-3.80528149  9.15207479]. \t  -182.0011130426615 \t -26.48525945153859\n",
            "init   \t [ 0.26233425 -3.6343115 ]. \t  -26.48525945153859 \t -26.48525945153859\n",
            "init   \t [ 0.78399875 -5.57490115]. \t  -62.773699734431055 \t -26.48525945153859\n",
            "1      \t [ 9.82765998 -0.95725402]. \t  -98.41557117870066 \t -26.48525945153859\n",
            "2      \t [-8.1477833   0.47898709]. \t  -66.84523003287876 \t -26.48525945153859\n",
            "3      \t [ -7.13923969 -10.        ]. \t  -250.96874334973603 \t -26.48525945153859\n",
            "4      \t [-10.          -4.86561476]. \t  -147.34841391579118 \t -26.48525945153859\n",
            "5      \t [9.75309759 8.89296777]. \t  -253.29266403870446 \t -26.48525945153859\n",
            "6      \t [5.49339985 2.95797879]. \t  -47.67671901585399 \t -26.48525945153859\n",
            "7      \t [2.98098342 9.69567172]. \t  -196.89836245966433 \t -26.48525945153859\n",
            "8      \t [-9.64177644  6.15475675]. \t  -168.7259141575829 \t -26.48525945153859\n",
            "9      \t [ 5.97273442 -4.58375392]. \t  -77.69515651912803 \t -26.48525945153859\n",
            "10     \t [-4.88824669 -3.61872185]. \t  -50.08525130480302 \t -26.48525945153859\n",
            "11     \t [ -1.66225669 -10.        ]. \t  -202.76309730436833 \t -26.48525945153859\n",
            "12     \t [-3.24683509  1.75430436]. \t  \u001b[92m-16.69710571375797\u001b[0m \t -16.69710571375797\n",
            "13     \t [  2.84833985 -10.        ]. \t  -208.1130399098228 \t -16.69710571375797\n",
            "14     \t [0.95780251 0.95391328]. \t  \u001b[92m-2.7372867538006393\u001b[0m \t -2.7372867538006393\n",
            "15     \t [6.60297247 6.33363443]. \t  -123.82909564587423 \t -2.7372867538006393\n",
            "16     \t [-5.41312009  4.92904068]. \t  -77.89275314069337 \t -2.7372867538006393\n",
            "17     \t [-4.15742739 -7.29697334]. \t  -123.77584243310307 \t -2.7372867538006393\n",
            "18     \t [ 3.64952003 -1.61705051]. \t  -18.548701199652736 \t -2.7372867538006393\n",
            "19     \t [ 6.17050359 -1.17800367]. \t  -40.850499822245624 \t -2.7372867538006393\n",
            "20     \t [-2.13323309 -1.23939305]. \t  -7.622873688876625 \t -2.7372867538006393\n"
          ]
        }
      ]
    },
    {
      "cell_type": "code",
      "metadata": {
        "id": "dPS8WB3aJTN6",
        "colab": {
          "base_uri": "https://localhost:8080/"
        },
        "outputId": "0f79a8a4-6683-4568-f069-2897ebf4cba7"
      },
      "source": [
        "### EXACT GP EI GRADIENTS\n",
        "\n",
        "np.random.seed(run_num_15)\n",
        "surrogate_exact_15 = dGaussianProcess(cov_func, optimize=opt)\n",
        "\n",
        "exact_15 = dGPGO(surrogate_exact_15, Acquisition_new(util_grad_exact), objfunc, param)\n",
        "exact_15.run(init_evals=n_init, max_iter=iters)\n"
      ],
      "execution_count": null,
      "outputs": [
        {
          "output_type": "stream",
          "name": "stdout",
          "text": [
            "Evaluation \t Proposed point \t  Current eval. \t Best eval.\n",
            "init   \t [ 6.97635395 -6.4220815 ]. \t  -131.15577599697437 \t -20.897907943365695\n",
            "init   \t [-8.91273571 -2.76923108]. \t  -94.77413943464936 \t -20.897907943365695\n",
            "init   \t [-4.49198143  0.6000045 ]. \t  -20.897907943365695 \t -20.897907943365695\n",
            "init   \t [-3.88162169 -3.91051282]. \t  -45.651207890195394 \t -20.897907943365695\n",
            "init   \t [-7.76517448 -5.00201972]. \t  -110.33833725681367 \t -20.897907943365695\n",
            "1      \t [-1.08003705  9.49213271]. \t  -181.3676469637466 \t -20.897907943365695\n",
            "2      \t [-9.69991687  7.99454818]. \t  -221.91398842692476 \t -20.897907943365695\n",
            "3      \t [9.38262114 9.37010501]. \t  -263.6313154484096 \t -20.897907943365695\n",
            "4      \t [8.17696818 1.09984692]. \t  -69.28213505909017 \t -20.897907943365695\n",
            "5      \t [ -1.64887613 -10.        ]. \t  -202.71879249573237 \t -20.897907943365695\n",
            "6      \t [3.92042972 6.60837824]. \t  -102.71109510587918 \t -20.897907943365695\n",
            "7      \t [ 2.82544788 -0.73175028]. \t  \u001b[92m-9.054072653988692\u001b[0m \t -9.054072653988692\n",
            "8      \t [-10. -10.]. \t  -300.0 \t -9.054072653988692\n",
            "9      \t [ 1.71789489 -5.72480585]. \t  -68.49796691024954 \t -9.054072653988692\n",
            "10     \t [-0.87413831  3.90806061]. \t  -31.309993317660034 \t -9.054072653988692\n",
            "11     \t [-10.           2.47641114]. \t  -112.26522427970966 \t -9.054072653988692\n",
            "12     \t [ 7.03275861 -2.59691099]. \t  -62.947587047306605 \t -9.054072653988692\n",
            "13     \t [-5.12862431  6.21234242]. \t  -103.48918402759067 \t -9.054072653988692\n",
            "14     \t [-0.77923554 -1.12152933]. \t  \u001b[92m-3.122864113182852\u001b[0m \t -3.122864113182852\n",
            "15     \t [3.85853896 2.47543108]. \t  -27.14384100035717 \t -3.122864113182852\n",
            "16     \t [8.89115371 4.94646035]. \t  -127.98755430377548 \t -3.122864113182852\n",
            "17     \t [ -5.77483819 -10.        ]. \t  -233.34875612657282 \t -3.122864113182852\n",
            "18     \t [ 3.14317097 -9.99238265]. \t  -209.57494571809895 \t -3.122864113182852\n",
            "19     \t [0.8008805 0.0329551]. \t  \u001b[92m-0.6435816577688955\u001b[0m \t -0.6435816577688955\n",
            "20     \t [-2.32495529 -1.23254953]. \t  -8.443773750119544 \t -0.6435816577688955\n"
          ]
        }
      ]
    },
    {
      "cell_type": "code",
      "metadata": {
        "id": "SHWdp2giJTRm",
        "colab": {
          "base_uri": "https://localhost:8080/"
        },
        "outputId": "46315965-d3bc-464e-d938-2f26563cfe10"
      },
      "source": [
        "### EXACT GP EI GRADIENTS\n",
        "\n",
        "np.random.seed(run_num_16)\n",
        "surrogate_exact_16 = dGaussianProcess(cov_func, optimize=opt)\n",
        "\n",
        "exact_16 = dGPGO(surrogate_exact_16, Acquisition_new(util_grad_exact), objfunc, param)\n",
        "exact_16.run(init_evals=n_init, max_iter=iters)\n"
      ],
      "execution_count": null,
      "outputs": [
        {
          "output_type": "stream",
          "name": "stdout",
          "text": [
            "Evaluation \t Proposed point \t  Current eval. \t Best eval.\n",
            "init   \t [-5.53417842  0.46326683]. \t  -31.056363058280656 \t -31.056363058280656\n",
            "init   \t [ 1.01402913 -9.087961  ]. \t  -166.21032525826828 \t -31.056363058280656\n",
            "init   \t [-2.78542329 -5.53838117]. \t  -69.10591480510183 \t -31.056363058280656\n",
            "init   \t [ 3.77452324 -6.7253715 ]. \t  -104.70826928786903 \t -31.056363058280656\n",
            "init   \t [-8.59350266  8.8202172 ]. \t  -229.44075111810224 \t -31.056363058280656\n",
            "1      \t [4.18505664 9.44091052]. \t  -195.7762819329394 \t -31.056363058280656\n",
            "2      \t [9.22704387 3.02362854]. \t  -103.4229976843265 \t -31.056363058280656\n",
            "3      \t [ 2.52801252 -0.08752176]. \t  \u001b[92m-6.406167436310099\u001b[0m \t -6.406167436310099\n",
            "4      \t [-9.70734262 -5.57457736]. \t  -156.3843262924271 \t -6.406167436310099\n",
            "5      \t [-2.22531694  5.42968011]. \t  -63.91488757640133 \t -6.406167436310099\n",
            "6      \t [ 9.30199512 -7.37818674]. \t  -195.4023921751255 \t -6.406167436310099\n",
            "7      \t [ -6.0924979 -10.       ]. \t  -237.11853060555447 \t -6.406167436310099\n",
            "8      \t [ 6.78989996 -2.28044146]. \t  -56.503567929157434 \t -6.406167436310099\n",
            "9      \t [-10.         -0.3346516]. \t  -100.22398338206894 \t -6.406167436310099\n",
            "10     \t [-1.36420872 -0.31702731]. \t  \u001b[92m-2.0620780651126385\u001b[0m \t -2.0620780651126385\n",
            "11     \t [8.93339821 9.79069367]. \t  -271.5209685757852 \t -2.0620780651126385\n",
            "12     \t [3.92930328 4.134568  ]. \t  -49.62872936744524 \t -2.0620780651126385\n",
            "13     \t [ 0.47783891 -2.96275612]. \t  -17.78417762285419 \t -2.0620780651126385\n",
            "14     \t [-1.59321032  9.84617866]. \t  -196.43278764609067 \t -2.0620780651126385\n",
            "15     \t [-10. -10.]. \t  -300.0 \t -2.0620780651126385\n",
            "16     \t [-6.37803203  4.20666167]. \t  -76.07129744580921 \t -2.0620780651126385\n",
            "17     \t [0.05348751 2.41529983]. \t  -11.670207445491629 \t -2.0620780651126385\n",
            "18     \t [-6.04572217 -4.70883884]. \t  -80.89708293585007 \t -2.0620780651126385\n",
            "19     \t [-3.18466933 -1.97703263]. \t  -17.959434753769045 \t -2.0620780651126385\n",
            "20     \t [  5.76768047 -10.        ]. \t  -233.26613802676042 \t -2.0620780651126385\n"
          ]
        }
      ]
    },
    {
      "cell_type": "code",
      "metadata": {
        "id": "yU2SflSsJTUs",
        "colab": {
          "base_uri": "https://localhost:8080/"
        },
        "outputId": "c8507992-c73e-45f5-8e28-0f2026684add"
      },
      "source": [
        "### EXACT GP EI GRADIENTS\n",
        "\n",
        "np.random.seed(run_num_17)\n",
        "surrogate_exact_17 = dGaussianProcess(cov_func, optimize=opt)\n",
        "\n",
        "exact_17 = dGPGO(surrogate_exact_17, Acquisition_new(util_grad_exact), objfunc, param)\n",
        "exact_17.run(init_evals=n_init, max_iter=iters)\n"
      ],
      "execution_count": null,
      "outputs": [
        {
          "output_type": "stream",
          "name": "stdout",
          "text": [
            "Evaluation \t Proposed point \t  Current eval. \t Best eval.\n",
            "init   \t [-4.10669995  0.61173511]. \t  -17.613424143360255 \t -12.137436774523842\n",
            "init   \t [-6.16958426 -8.64199284]. \t  -187.43185031516856 \t -12.137436774523842\n",
            "init   \t [5.7397092  3.12667044]. \t  -52.49639772521824 \t -12.137436774523842\n",
            "init   \t [2.75041792 1.51205788]. \t  -12.137436774523842 \t -12.137436774523842\n",
            "init   \t [-9.21874168 -2.84372791]. \t  -101.1587749488933 \t -12.137436774523842\n",
            "1      \t [-8.64042543  9.21575513]. \t  -244.5172369008349 \t -12.137436774523842\n",
            "2      \t [ 4.54825031 -8.71744454]. \t  -172.6742595800706 \t -12.137436774523842\n",
            "3      \t [9.12376544 9.73620918]. \t  -272.83063435528607 \t -12.137436774523842\n",
            "4      \t [-0.05385845  7.96254756]. \t  -126.80722802594437 \t -12.137436774523842\n",
            "5      \t [ 9.06636127 -2.74323799]. \t  -97.24961590065784 \t -12.137436774523842\n",
            "6      \t [ 1.2966788  -3.67444949]. \t  -28.68453396690754 \t -12.137436774523842\n",
            "7      \t [-10.           3.52486351]. \t  -124.84932548015908 \t -12.137436774523842\n",
            "8      \t [-1.02859872 -9.21677652]. \t  -170.95595419535692 \t -12.137436774523842\n",
            "9      \t [ 9.72653374 -8.86896618]. \t  -251.92258082795712 \t -12.137436774523842\n",
            "10     \t [-4.52312559  5.30319284]. \t  -76.70637372797454 \t -12.137436774523842\n",
            "11     \t [-3.01400173 -4.92521742]. \t  -57.59973967546647 \t -12.137436774523842\n",
            "12     \t [-10. -10.]. \t  -300.0 \t -12.137436774523842\n",
            "13     \t [5.20115607 7.23723124]. \t  -131.8070564501394 \t -12.137436774523842\n",
            "14     \t [-0.50912723 -0.19622314]. \t  \u001b[92m-0.3362175784977317\u001b[0m \t -0.3362175784977317\n",
            "15     \t [-0.70449748  3.41801076]. \t  -23.861911787285287 \t -0.3362175784977317\n",
            "16     \t [ 4.96811195 -2.57369532]. \t  -37.92995151366379 \t -0.3362175784977317\n",
            "17     \t [-10.          -6.22012424]. \t  -177.37989114035483 \t -0.3362175784977317\n",
            "18     \t [-4.15626664  8.72522009]. \t  -169.533483677539 \t -0.3362175784977317\n",
            "19     \t [9.17018127 0.91818832]. \t  -85.77836412761846 \t -0.3362175784977317\n",
            "20     \t [-7.261334   0.2723258]. \t  -52.875294149658465 \t -0.3362175784977317\n"
          ]
        }
      ]
    },
    {
      "cell_type": "code",
      "metadata": {
        "id": "es0KCh_0JTgY",
        "colab": {
          "base_uri": "https://localhost:8080/"
        },
        "outputId": "51d3c711-b4ab-4e29-ed5f-d5433917e0a1"
      },
      "source": [
        "### EXACT GP EI GRADIENTS\n",
        "\n",
        "np.random.seed(run_num_18)\n",
        "surrogate_exact_18 = dGaussianProcess(cov_func, optimize=opt)\n",
        "\n",
        "exact_18 = dGPGO(surrogate_exact_18, Acquisition_new(util_grad_exact), objfunc, param)\n",
        "exact_18.run(init_evals=n_init, max_iter=iters)\n"
      ],
      "execution_count": null,
      "outputs": [
        {
          "output_type": "stream",
          "name": "stdout",
          "text": [
            "Evaluation \t Proposed point \t  Current eval. \t Best eval.\n",
            "init   \t [3.00748483 0.10906747]. \t  -9.068756459576363 \t -9.068756459576363\n",
            "init   \t [ 7.57202942 -6.36319549]. \t  -138.3161432668939 \t -9.068756459576363\n",
            "init   \t [7.04466137 5.00272572]. \t  -99.6817831686958 \t -9.068756459576363\n",
            "init   \t [3.32203335 9.75790897]. \t  -201.4694803352836 \t -9.068756459576363\n",
            "init   \t [-4.86063155 -9.43388149]. \t  -201.6219791510955 \t -9.068756459576363\n",
            "1      \t [-6.1664519   4.28513481]. \t  -74.74988979878172 \t -9.068756459576363\n",
            "2      \t [-6.07110106 -2.27098711]. \t  -47.173032968123124 \t -9.068756459576363\n",
            "3      \t [-9.84572665 -7.72302303]. \t  -216.22850279300553 \t -9.068756459576363\n",
            "4      \t [  3.21478792 -10.        ]. \t  -210.33486134933645 \t -9.068756459576363\n",
            "5      \t [ 1.30038511 -3.68868616]. \t  -28.903812632435532 \t -9.068756459576363\n",
            "6      \t [-0.38377842  5.20016438]. \t  -54.230705112382026 \t -9.068756459576363\n",
            "7      \t [-10.           0.86683636]. \t  -101.50281056621509 \t -9.068756459576363\n",
            "8      \t [8.88174167 9.85843471]. \t  -273.26280488246675 \t -9.068756459576363\n",
            "9      \t [-4.02210248  9.04946754]. \t  -179.9630339453313 \t -9.068756459576363\n",
            "10     \t [-9.69292307  8.48933577]. \t  -238.09040126211687 \t -9.068756459576363\n",
            "11     \t [-3.02187374  1.28465505]. \t  -12.432398078681576 \t -9.068756459576363\n",
            "12     \t [ 7.81657705 -0.25403391]. \t  -61.22794325356302 \t -9.068756459576363\n",
            "13     \t [-2.68180736 -4.23667447]. \t  -43.0909119336048 \t -9.068756459576363\n",
            "14     \t [-1.27638148 -1.1294755 ]. \t  \u001b[92m-4.18057951168706\u001b[0m \t -4.18057951168706\n",
            "15     \t [-0.73957701 -7.75009086]. \t  -120.67479089818892 \t -4.18057951168706\n",
            "16     \t [-9.51693663 -3.71516762]. \t  -118.17702372880446 \t -4.18057951168706\n",
            "17     \t [ 4.66216672 -3.32473936]. \t  -43.84358215223432 \t -4.18057951168706\n",
            "18     \t [  7.85942683 -10.        ]. \t  -261.7705900879467 \t -4.18057951168706\n",
            "19     \t [2.89566219 3.16962359]. \t  -28.477886855861243 \t -4.18057951168706\n",
            "20     \t [-10.           4.54214073]. \t  -141.26208475874148 \t -4.18057951168706\n"
          ]
        }
      ]
    },
    {
      "cell_type": "code",
      "metadata": {
        "id": "Pput2LHPIwBM",
        "colab": {
          "base_uri": "https://localhost:8080/"
        },
        "outputId": "f1b1d472-2330-413d-ab98-f2022d8c5459"
      },
      "source": [
        "### EXACT GP EI GRADIENTS\n",
        "\n",
        "np.random.seed(run_num_19)\n",
        "surrogate_exact_19 = dGaussianProcess(cov_func, optimize=opt)\n",
        "\n",
        "exact_19 = dGPGO(surrogate_exact_19, Acquisition_new(util_grad_exact), objfunc, param)\n",
        "exact_19.run(init_evals=n_init, max_iter=iters)\n"
      ],
      "execution_count": null,
      "outputs": [
        {
          "output_type": "stream",
          "name": "stdout",
          "text": [
            "Evaluation \t Proposed point \t  Current eval. \t Best eval.\n",
            "init   \t [-8.04932797  5.22499433]. \t  -119.39281225846176 \t -87.03025225125222\n",
            "init   \t [-5.06124054 -7.23736625]. \t  -130.3750962570555 \t -87.03025225125222\n",
            "init   \t [-3.37106873 -8.3400087 ]. \t  -150.4755946408245 \t -87.03025225125222\n",
            "init   \t [3.43954163 6.13187596]. \t  -87.03025225125222 \t -87.03025225125222\n",
            "init   \t [9.65483829 2.7132147 ]. \t  -107.93897039562282 \t -87.03025225125222\n",
            "1      \t [ 9.42739537 -7.28680447]. \t  -195.07082209920037 \t -87.03025225125222\n",
            "2      \t [9.66871562 9.18398599]. \t  -262.1752591189437 \t -87.03025225125222\n",
            "3      \t [ 1.19601233 -3.03912179]. \t  \u001b[92m-19.902968034583196\u001b[0m \t -19.902968034583196\n",
            "4      \t [-9.64931371 -1.76781368]. \t  -99.35958538505903 \t -19.902968034583196\n",
            "5      \t [-2.69333527  7.93798122]. \t  -133.2771466359215 \t -19.902968034583196\n",
            "6      \t [ 4.03880269 -9.43301673]. \t  -194.27553640457447 \t -19.902968034583196\n",
            "7      \t [-1.23669935  2.33536021]. \t  \u001b[92m-12.437239929968149\u001b[0m \t -12.437239929968149\n",
            "8      \t [-10. -10.]. \t  -300.0 \t -12.437239929968149\n",
            "9      \t [-4.76208524 -0.8316767 ]. \t  -24.06082811656843 \t -12.437239929968149\n",
            "10     \t [ 6.71131414 -2.23644638]. \t  -55.04512239149719 \t -12.437239929968149\n",
            "11     \t [ 0.1482038  -6.33765227]. \t  -80.35363702514209 \t -12.437239929968149\n",
            "12     \t [3.43567246 1.17247354]. \t  -14.553233668946433 \t -12.437239929968149\n",
            "13     \t [-5.08562411  2.61564526]. \t  -39.54677282622403 \t -12.437239929968149\n",
            "14     \t [-3.14813604 -3.62689777]. \t  -36.21953545739717 \t -12.437239929968149\n",
            "15     \t [ 5.63427388 -5.78720082]. \t  -98.7284287724188 \t -12.437239929968149\n",
            "16     \t [3.33901016 9.83124411]. \t  -204.4557105026939 \t -12.437239929968149\n",
            "17     \t [-1.13858346 -0.65019114]. \t  \u001b[92m-2.1418693225668406\u001b[0m \t -2.1418693225668406\n",
            "18     \t [-9.73248688 -5.75267918]. \t  -160.9079364381568 \t -2.1418693225668406\n",
            "19     \t [5.8722029  3.54787851]. \t  -59.65765076474824 \t -2.1418693225668406\n",
            "20     \t [-0.18792027  5.12194761]. \t  -52.50400863659365 \t -2.1418693225668406\n"
          ]
        }
      ]
    },
    {
      "cell_type": "code",
      "metadata": {
        "id": "aw3xvSryIwDi",
        "colab": {
          "base_uri": "https://localhost:8080/"
        },
        "outputId": "024c8c07-90e8-44c2-9e24-5b12f1bd2b92"
      },
      "source": [
        "### EXACT GP EI GRADIENTS\n",
        "\n",
        "np.random.seed(run_num_20)\n",
        "surrogate_exact_20 = dGaussianProcess(cov_func, optimize=opt)\n",
        "\n",
        "exact_20 = dGPGO(surrogate_exact_20, Acquisition_new(util_grad_exact), objfunc, param)\n",
        "exact_20.run(init_evals=n_init, max_iter=iters)\n"
      ],
      "execution_count": null,
      "outputs": [
        {
          "output_type": "stream",
          "name": "stdout",
          "text": [
            "Evaluation \t Proposed point \t  Current eval. \t Best eval.\n",
            "init   \t [1.76261602 7.95427456]. \t  -129.64778273349407 \t -6.161449614183514\n",
            "init   \t [7.83061459 6.31674955]. \t  -141.12117450686426 \t -6.161449614183514\n",
            "init   \t [-9.28220829  3.83515164]. \t  -115.57616682517047 \t -6.161449614183514\n",
            "init   \t [-2.42638116  0.37021891]. \t  -6.161449614183514 \t -6.161449614183514\n",
            "init   \t [ 3.15902931 -6.12299564]. \t  -84.96161746112533 \t -6.161449614183514\n",
            "1      \t [ -8.5852329 -10.       ]. \t  -273.70622402628305 \t -6.161449614183514\n",
            "2      \t [ 9.25348277 -7.34677508]. \t  -193.57715164214193 \t -6.161449614183514\n",
            "3      \t [-4.56172279  9.14761084]. \t  -188.16688311626407 \t -6.161449614183514\n",
            "4      \t [6.75943299 0.83853385]. \t  -47.096212334958445 \t -6.161449614183514\n",
            "5      \t [-6.31483961 -3.98498003]. \t  -71.6373311121329 \t -6.161449614183514\n",
            "6      \t [1.83537729 1.6189007 ]. \t  -8.610288766348766 \t -6.161449614183514\n",
            "7      \t [ -0.91713128 -10.        ]. \t  -200.84112977686783 \t -6.161449614183514\n",
            "8      \t [-4.52175817  4.26032792]. \t  -56.747084887118966 \t -6.161449614183514\n",
            "9      \t [  5.29664032 -10.        ]. \t  -228.05439864116917 \t -6.161449614183514\n",
            "10     \t [-1.45533068 -4.67682794]. \t  -45.863426515614734 \t -6.161449614183514\n",
            "11     \t [-10.          -1.04391137]. \t  -102.17950191616835 \t -6.161449614183514\n",
            "12     \t [-9.52807906  8.48794844]. \t  -234.8748279745225 \t -6.161449614183514\n",
            "13     \t [ 6.66263247 -3.37036315]. \t  -67.10936705948995 \t -6.161449614183514\n",
            "14     \t [-4.38894619 -7.56293323]. \t  -133.65876661843814 \t -6.161449614183514\n",
            "15     \t [-0.76626799  4.10353686]. \t  -34.26519607714726 \t -6.161449614183514\n",
            "16     \t [-5.64792026 -0.04069254]. \t  -31.902315025425043 \t -6.161449614183514\n",
            "17     \t [-1.06603292 -0.78540369]. \t  \u001b[92m-2.3701441195686574\u001b[0m \t -2.3701441195686574\n",
            "18     \t [ 0.43461151 -0.56030708]. \t  \u001b[92m-0.8167752014938701\u001b[0m \t -0.8167752014938701\n",
            "19     \t [-10.          -5.72587969]. \t  -165.5713964547681 \t -0.8167752014938701\n",
            "20     \t [4.33547789 3.890003  ]. \t  -49.060615292623744 \t -0.8167752014938701\n"
          ]
        }
      ]
    },
    {
      "cell_type": "code",
      "metadata": {
        "id": "qNqAB3vBTPqb",
        "colab": {
          "base_uri": "https://localhost:8080/"
        },
        "outputId": "2cdd5975-7661-4b99-c014-f31225b90964"
      },
      "source": [
        "end_exact = time.time()\n",
        "end_exact\n",
        "\n",
        "time_exact = end_exact - start_exact\n",
        "time_exact"
      ],
      "execution_count": null,
      "outputs": [
        {
          "output_type": "execute_result",
          "data": {
            "text/plain": [
              "628.0443766117096"
            ]
          },
          "metadata": {},
          "execution_count": 54
        }
      ]
    },
    {
      "cell_type": "code",
      "metadata": {
        "id": "JPQzjdBZQxfg",
        "colab": {
          "base_uri": "https://localhost:8080/"
        },
        "outputId": "04a5c333-106f-4f77-e037-ff8e42e12c95"
      },
      "source": [
        "### Simple regret minimization: run number = 1\n",
        "\n",
        "approx_output_1 = np.append(np.min(approx_1.GP.y[0:n_init]),approx_1.GP.y[n_init:(n_init+iters)]) \n",
        "exact_output_1 = np.append(np.min(exact_1.GP.y[0:n_init]),exact_1.GP.y[n_init:(n_init+iters)]) \n",
        "\n",
        "regret_approx_1 = np.log(-approx_output_1 + y_global_orig)\n",
        "regret_exact_1 = np.log(-exact_output_1 + y_global_orig)\n",
        "\n",
        "simple_regret_approx_1 = min_max_array(regret_approx_1)\n",
        "simple_regret_exact_1 = min_max_array(regret_exact_1)\n",
        "\n",
        "min_simple_regret_approx_1 = min(simple_regret_approx_1)\n",
        "min_simple_regret_exact_1 = min(simple_regret_exact_1)\n",
        "\n",
        "min_simple_regret_approx_1, min_simple_regret_exact_1"
      ],
      "execution_count": null,
      "outputs": [
        {
          "output_type": "execute_result",
          "data": {
            "text/plain": [
              "(2.154857416092022, -0.11049491419211159)"
            ]
          },
          "metadata": {},
          "execution_count": 55
        }
      ]
    },
    {
      "cell_type": "code",
      "metadata": {
        "id": "94yBw5tqQxfk",
        "colab": {
          "base_uri": "https://localhost:8080/"
        },
        "outputId": "986dc3d8-00f6-4f7c-a980-97f23523b23b"
      },
      "source": [
        "### Simple regret minimization: run number = 2\n",
        "\n",
        "approx_output_2 = np.append(np.min(approx_2.GP.y[0:n_init]),approx_2.GP.y[n_init:(n_init+iters)]) \n",
        "exact_output_2 = np.append(np.min(exact_2.GP.y[0:n_init]),exact_2.GP.y[n_init:(n_init+iters)]) \n",
        "\n",
        "regret_approx_2 = np.log(-approx_output_2 + y_global_orig)\n",
        "regret_exact_2 = np.log(-exact_output_2 + y_global_orig)\n",
        "\n",
        "simple_regret_approx_2 = min_max_array(regret_approx_2)\n",
        "simple_regret_exact_2 = min_max_array(regret_exact_2)\n",
        "\n",
        "min_simple_regret_approx_2 = min(simple_regret_approx_2)\n",
        "min_simple_regret_exact_2 = min(simple_regret_exact_2)\n",
        "\n",
        "min_simple_regret_approx_2, min_simple_regret_exact_2"
      ],
      "execution_count": null,
      "outputs": [
        {
          "output_type": "execute_result",
          "data": {
            "text/plain": [
              "(1.7118528923337784, 1.7889156623719478)"
            ]
          },
          "metadata": {},
          "execution_count": 56
        }
      ]
    },
    {
      "cell_type": "code",
      "metadata": {
        "id": "Bu6SBWALQxfl",
        "colab": {
          "base_uri": "https://localhost:8080/"
        },
        "outputId": "e81f1369-433f-4791-9ee2-765c28f53215"
      },
      "source": [
        "### Simple regret minimization: run number = 3\n",
        "\n",
        "approx_output_3 = np.append(np.min(approx_3.GP.y[0:n_init]),approx_3.GP.y[n_init:(n_init+iters)]) \n",
        "exact_output_3 = np.append(np.min(exact_3.GP.y[0:n_init]),exact_3.GP.y[n_init:(n_init+iters)]) \n",
        "\n",
        "regret_approx_3 = np.log(-approx_output_3 + y_global_orig)\n",
        "regret_exact_3 = np.log(-exact_output_3 + y_global_orig)\n",
        "\n",
        "simple_regret_approx_3 = min_max_array(regret_approx_3)\n",
        "simple_regret_exact_3 = min_max_array(regret_exact_3)\n",
        "\n",
        "min_simple_regret_approx_3 = min(simple_regret_approx_3)\n",
        "min_simple_regret_exact_3 = min(simple_regret_exact_3)\n",
        "\n",
        "min_simple_regret_approx_3, min_simple_regret_exact_3"
      ],
      "execution_count": null,
      "outputs": [
        {
          "output_type": "execute_result",
          "data": {
            "text/plain": [
              "(-3.031531339432816, 0.2723988728066384)"
            ]
          },
          "metadata": {},
          "execution_count": 57
        }
      ]
    },
    {
      "cell_type": "code",
      "metadata": {
        "id": "AZm0jgxkQxfm",
        "colab": {
          "base_uri": "https://localhost:8080/"
        },
        "outputId": "3297ca85-dbd4-4b5a-af3a-f4044e79516a"
      },
      "source": [
        "### Simple regret minimization: run number = 4\n",
        "\n",
        "approx_output_4 = np.append(np.min(approx_4.GP.y[0:n_init]),approx_4.GP.y[n_init:(n_init+iters)]) \n",
        "exact_output_4 = np.append(np.min(exact_4.GP.y[0:n_init]),exact_4.GP.y[n_init:(n_init+iters)]) \n",
        "\n",
        "regret_approx_4 = np.log(-approx_output_4 + y_global_orig)\n",
        "regret_exact_4 = np.log(-exact_output_4 + y_global_orig)\n",
        "\n",
        "simple_regret_approx_4 = min_max_array(regret_approx_4)\n",
        "simple_regret_exact_4 = min_max_array(regret_exact_4)\n",
        "\n",
        "min_simple_regret_approx_4 = min(simple_regret_approx_4)\n",
        "min_simple_regret_exact_4 = min(simple_regret_exact_4)\n",
        "\n",
        "min_simple_regret_approx_4, min_simple_regret_exact_4"
      ],
      "execution_count": null,
      "outputs": [
        {
          "output_type": "execute_result",
          "data": {
            "text/plain": [
              "(0.7217146080028864, 0.7208637799850418)"
            ]
          },
          "metadata": {},
          "execution_count": 58
        }
      ]
    },
    {
      "cell_type": "code",
      "metadata": {
        "id": "NONPm8JIQxfn",
        "colab": {
          "base_uri": "https://localhost:8080/"
        },
        "outputId": "03e066dc-adb2-4b30-8136-7f82f9ee3edf"
      },
      "source": [
        "### Simple regret minimization: run number = 5\n",
        "\n",
        "approx_output_5 = np.append(np.min(approx_5.GP.y[0:n_init]),approx_5.GP.y[n_init:(n_init+iters)]) \n",
        "exact_output_5 = np.append(np.min(exact_5.GP.y[0:n_init]),exact_5.GP.y[n_init:(n_init+iters)]) \n",
        "\n",
        "regret_approx_5 = np.log(-approx_output_5 + y_global_orig)\n",
        "regret_exact_5 = np.log(-exact_output_5 + y_global_orig)\n",
        "\n",
        "simple_regret_approx_5 = min_max_array(regret_approx_5)\n",
        "simple_regret_exact_5 = min_max_array(regret_exact_5)\n",
        "\n",
        "min_simple_regret_approx_5 = min(simple_regret_approx_5)\n",
        "min_simple_regret_exact_5 = min(simple_regret_exact_5)\n",
        "\n",
        "min_simple_regret_approx_5, min_simple_regret_exact_5"
      ],
      "execution_count": null,
      "outputs": [
        {
          "output_type": "execute_result",
          "data": {
            "text/plain": [
              "(2.2759144160730367, 2.3330554409438022)"
            ]
          },
          "metadata": {},
          "execution_count": 59
        }
      ]
    },
    {
      "cell_type": "code",
      "metadata": {
        "id": "CJv3lPuSQxfp",
        "colab": {
          "base_uri": "https://localhost:8080/"
        },
        "outputId": "6f528e30-8168-467a-9291-e250bccaef2b"
      },
      "source": [
        "### Simple regret minimization: run number = 6\n",
        "\n",
        "approx_output_6 = np.append(np.min(approx_6.GP.y[0:n_init]),approx_6.GP.y[n_init:(n_init+iters)]) \n",
        "exact_output_6 = np.append(np.min(exact_6.GP.y[0:n_init]),exact_6.GP.y[n_init:(n_init+iters)]) \n",
        "\n",
        "regret_approx_6 = np.log(-approx_output_6 + y_global_orig)\n",
        "regret_exact_6 = np.log(-exact_output_6 + y_global_orig)\n",
        "\n",
        "simple_regret_approx_6 = min_max_array(regret_approx_6)\n",
        "simple_regret_exact_6 = min_max_array(regret_exact_6)\n",
        "\n",
        "min_simple_regret_approx_6 = min(simple_regret_approx_6)\n",
        "min_simple_regret_exact_6 = min(simple_regret_exact_6)\n",
        "\n",
        "min_simple_regret_approx_6, min_simple_regret_exact_6"
      ],
      "execution_count": null,
      "outputs": [
        {
          "output_type": "execute_result",
          "data": {
            "text/plain": [
              "(1.1492841367060898, 2.6892332353193598)"
            ]
          },
          "metadata": {},
          "execution_count": 60
        }
      ]
    },
    {
      "cell_type": "code",
      "metadata": {
        "id": "quR2ZyApQxfq",
        "colab": {
          "base_uri": "https://localhost:8080/"
        },
        "outputId": "6de7cf09-dc05-4bae-fe4c-63edc1edc4ef"
      },
      "source": [
        "### Simple regret minimization: run number = 7\n",
        "\n",
        "approx_output_7 = np.append(np.min(approx_7.GP.y[0:n_init]),approx_7.GP.y[n_init:(n_init+iters)]) \n",
        "exact_output_7 = np.append(np.min(exact_7.GP.y[0:n_init]),exact_7.GP.y[n_init:(n_init+iters)]) \n",
        "\n",
        "regret_approx_7 = np.log(-approx_output_7 + y_global_orig)\n",
        "regret_exact_7 = np.log(-exact_output_7 + y_global_orig)\n",
        "\n",
        "simple_regret_approx_7 = min_max_array(regret_approx_7)\n",
        "simple_regret_exact_7 = min_max_array(regret_exact_7)\n",
        "\n",
        "min_simple_regret_approx_7 = min(simple_regret_approx_7)\n",
        "min_simple_regret_exact_7 = min(simple_regret_exact_7)\n",
        "\n",
        "min_simple_regret_approx_7, min_simple_regret_exact_7"
      ],
      "execution_count": null,
      "outputs": [
        {
          "output_type": "execute_result",
          "data": {
            "text/plain": [
              "(0.5188931358044525, -0.23846880780288707)"
            ]
          },
          "metadata": {},
          "execution_count": 61
        }
      ]
    },
    {
      "cell_type": "code",
      "metadata": {
        "id": "99wY5nK6Qxfr",
        "colab": {
          "base_uri": "https://localhost:8080/"
        },
        "outputId": "c7bdf89d-8e11-4456-a317-03bb4f180fe5"
      },
      "source": [
        "### Simple regret minimization: run number = 8\n",
        "\n",
        "approx_output_8 = np.append(np.min(approx_8.GP.y[0:n_init]),approx_8.GP.y[n_init:(n_init+iters)]) \n",
        "exact_output_8 = np.append(np.min(exact_8.GP.y[0:n_init]),exact_8.GP.y[n_init:(n_init+iters)]) \n",
        "\n",
        "regret_approx_8 = np.log(-approx_output_8 + y_global_orig)\n",
        "regret_exact_8 = np.log(-exact_output_8 + y_global_orig)\n",
        "\n",
        "simple_regret_approx_8 = min_max_array(regret_approx_8)\n",
        "simple_regret_exact_8 = min_max_array(regret_exact_8)\n",
        "\n",
        "min_simple_regret_approx_8 = min(simple_regret_approx_8)\n",
        "min_simple_regret_exact_8 = min(simple_regret_exact_8)\n",
        "\n",
        "min_simple_regret_approx_8, min_simple_regret_exact_8"
      ],
      "execution_count": null,
      "outputs": [
        {
          "output_type": "execute_result",
          "data": {
            "text/plain": [
              "(2.503069584005259, 1.898790586401633)"
            ]
          },
          "metadata": {},
          "execution_count": 62
        }
      ]
    },
    {
      "cell_type": "code",
      "metadata": {
        "id": "qt0P5t9qQxfs",
        "colab": {
          "base_uri": "https://localhost:8080/"
        },
        "outputId": "4868ee38-8f5c-4daa-e214-6f8c3898783a"
      },
      "source": [
        "### Simple regret minimization: run number = 9\n",
        "\n",
        "approx_output_9 = np.append(np.min(approx_9.GP.y[0:n_init]),approx_9.GP.y[n_init:(n_init+iters)]) \n",
        "exact_output_9 = np.append(np.min(exact_9.GP.y[0:n_init]),exact_9.GP.y[n_init:(n_init+iters)]) \n",
        "\n",
        "regret_approx_9 = np.log(-approx_output_9 + y_global_orig)\n",
        "regret_exact_9 = np.log(-exact_output_9 + y_global_orig)\n",
        "\n",
        "simple_regret_approx_9 = min_max_array(regret_approx_9)\n",
        "simple_regret_exact_9 = min_max_array(regret_exact_9)\n",
        "\n",
        "min_simple_regret_approx_9 = min(simple_regret_approx_9)\n",
        "min_simple_regret_exact_9 = min(simple_regret_exact_9)\n",
        "\n",
        "min_simple_regret_approx_9, min_simple_regret_exact_9"
      ],
      "execution_count": null,
      "outputs": [
        {
          "output_type": "execute_result",
          "data": {
            "text/plain": [
              "(0.7449764035638389, -0.5093663231029742)"
            ]
          },
          "metadata": {},
          "execution_count": 63
        }
      ]
    },
    {
      "cell_type": "code",
      "metadata": {
        "id": "vx8to9stQxft",
        "colab": {
          "base_uri": "https://localhost:8080/"
        },
        "outputId": "f831de21-0b19-446f-871a-f90ca835d1b5"
      },
      "source": [
        "### Simple regret minimization: run number = 10\n",
        "\n",
        "approx_output_10 = np.append(np.min(approx_10.GP.y[0:n_init]),approx_10.GP.y[n_init:(n_init+iters)]) \n",
        "exact_output_10 = np.append(np.min(exact_10.GP.y[0:n_init]),exact_10.GP.y[n_init:(n_init+iters)]) \n",
        "\n",
        "regret_approx_10 = np.log(-approx_output_10 + y_global_orig)\n",
        "regret_exact_10 = np.log(-exact_output_10 + y_global_orig)\n",
        "\n",
        "simple_regret_approx_10 = min_max_array(regret_approx_10)\n",
        "simple_regret_exact_10 = min_max_array(regret_exact_10)\n",
        "\n",
        "min_simple_regret_approx_10 = min(simple_regret_approx_10)\n",
        "min_simple_regret_exact_10 = min(simple_regret_exact_10)\n",
        "\n",
        "min_simple_regret_approx_10, min_simple_regret_exact_10"
      ],
      "execution_count": null,
      "outputs": [
        {
          "output_type": "execute_result",
          "data": {
            "text/plain": [
              "(1.526866602142688, 1.5268666020744892)"
            ]
          },
          "metadata": {},
          "execution_count": 64
        }
      ]
    },
    {
      "cell_type": "code",
      "metadata": {
        "id": "d-FGzWyHQxfu",
        "colab": {
          "base_uri": "https://localhost:8080/"
        },
        "outputId": "8afd7ebd-da97-4c2e-ed8f-3074c47f18b6"
      },
      "source": [
        "### Simple regret minimization: run number = 11\n",
        "\n",
        "approx_output_11 = np.append(np.min(approx_11.GP.y[0:n_init]),approx_11.GP.y[n_init:(n_init+iters)]) \n",
        "exact_output_11 = np.append(np.min(exact_11.GP.y[0:n_init]),exact_11.GP.y[n_init:(n_init+iters)]) \n",
        "\n",
        "regret_approx_11 = np.log(-approx_output_11 + y_global_orig)\n",
        "regret_exact_11 = np.log(-exact_output_11 + y_global_orig)\n",
        "\n",
        "simple_regret_approx_11 = min_max_array(regret_approx_11)\n",
        "simple_regret_exact_11 = min_max_array(regret_exact_11)\n",
        "\n",
        "min_simple_regret_approx_11 = min(simple_regret_approx_11)\n",
        "min_simple_regret_exact_11 = min(simple_regret_exact_11)\n",
        "\n",
        "min_simple_regret_approx_11, min_simple_regret_exact_11"
      ],
      "execution_count": null,
      "outputs": [
        {
          "output_type": "execute_result",
          "data": {
            "text/plain": [
              "(1.3721766376479023, 1.4674445419653728)"
            ]
          },
          "metadata": {},
          "execution_count": 65
        }
      ]
    },
    {
      "cell_type": "code",
      "metadata": {
        "id": "SvtsssyjQxfv",
        "colab": {
          "base_uri": "https://localhost:8080/"
        },
        "outputId": "ef2d6a91-c7d1-49df-b8db-1eb139e5b989"
      },
      "source": [
        "### Simple regret minimization: run number = 12\n",
        "\n",
        "approx_output_12 = np.append(np.min(approx_12.GP.y[0:n_init]),approx_12.GP.y[n_init:(n_init+iters)]) \n",
        "exact_output_12 = np.append(np.min(exact_12.GP.y[0:n_init]),exact_12.GP.y[n_init:(n_init+iters)]) \n",
        "\n",
        "regret_approx_12 = np.log(-approx_output_12 + y_global_orig)\n",
        "regret_exact_12 = np.log(-exact_output_12 + y_global_orig)\n",
        "\n",
        "simple_regret_approx_12 = min_max_array(regret_approx_12)\n",
        "simple_regret_exact_12 = min_max_array(regret_exact_12)\n",
        "\n",
        "min_simple_regret_approx_12 = min(simple_regret_approx_12)\n",
        "min_simple_regret_exact_12 = min(simple_regret_exact_12)\n",
        "\n",
        "min_simple_regret_approx_12, min_simple_regret_exact_12"
      ],
      "execution_count": null,
      "outputs": [
        {
          "output_type": "execute_result",
          "data": {
            "text/plain": [
              "(0.6841978180929263, 2.3665435005740796)"
            ]
          },
          "metadata": {},
          "execution_count": 66
        }
      ]
    },
    {
      "cell_type": "code",
      "metadata": {
        "id": "K6OiGcHkQxfw",
        "colab": {
          "base_uri": "https://localhost:8080/"
        },
        "outputId": "7710464c-d8a0-4cd2-9bb4-bb8ca72860d3"
      },
      "source": [
        "### Simple regret minimization: run number = 13\n",
        "\n",
        "approx_output_13 = np.append(np.min(approx_13.GP.y[0:n_init]),approx_13.GP.y[n_init:(n_init+iters)]) \n",
        "exact_output_13 = np.append(np.min(exact_13.GP.y[0:n_init]),exact_13.GP.y[n_init:(n_init+iters)]) \n",
        "\n",
        "regret_approx_13 = np.log(-approx_output_13 + y_global_orig)\n",
        "regret_exact_13 = np.log(-exact_output_13 + y_global_orig)\n",
        "\n",
        "simple_regret_approx_13 = min_max_array(regret_approx_13)\n",
        "simple_regret_exact_13 = min_max_array(regret_exact_13)\n",
        "\n",
        "min_simple_regret_approx_13 = min(simple_regret_approx_13)\n",
        "min_simple_regret_exact_13 = min(simple_regret_exact_13)\n",
        "\n",
        "min_simple_regret_approx_13, min_simple_regret_exact_13"
      ],
      "execution_count": null,
      "outputs": [
        {
          "output_type": "execute_result",
          "data": {
            "text/plain": [
              "(1.5323336627676378, 1.4929237959827635)"
            ]
          },
          "metadata": {},
          "execution_count": 67
        }
      ]
    },
    {
      "cell_type": "code",
      "metadata": {
        "id": "ogML73shQxfx",
        "colab": {
          "base_uri": "https://localhost:8080/"
        },
        "outputId": "80fc2974-e602-4f38-c553-61665b1bf3b8"
      },
      "source": [
        "### Simple regret minimization: run number = 14\n",
        "\n",
        "approx_output_14 = np.append(np.min(approx_14.GP.y[0:n_init]),approx_14.GP.y[n_init:(n_init+iters)]) \n",
        "exact_output_14 = np.append(np.min(exact_14.GP.y[0:n_init]),exact_14.GP.y[n_init:(n_init+iters)]) \n",
        "\n",
        "regret_approx_14 = np.log(-approx_output_14 + y_global_orig)\n",
        "regret_exact_14 = np.log(-exact_output_14 + y_global_orig)\n",
        "\n",
        "simple_regret_approx_14 = min_max_array(regret_approx_14)\n",
        "simple_regret_exact_14 = min_max_array(regret_exact_14)\n",
        "\n",
        "min_simple_regret_approx_14 = min(simple_regret_approx_14)\n",
        "min_simple_regret_exact_14 = min(simple_regret_exact_14)\n",
        "\n",
        "min_simple_regret_approx_14, min_simple_regret_exact_14"
      ],
      "execution_count": null,
      "outputs": [
        {
          "output_type": "execute_result",
          "data": {
            "text/plain": [
              "(-0.5412624719402435, 1.0069671939533829)"
            ]
          },
          "metadata": {},
          "execution_count": 68
        }
      ]
    },
    {
      "cell_type": "code",
      "metadata": {
        "id": "9Eg7gFT9Qxfx",
        "colab": {
          "base_uri": "https://localhost:8080/"
        },
        "outputId": "22646597-7609-4b23-90d0-bfd3ae877f1d"
      },
      "source": [
        "### Simple regret minimization: run number = 15\n",
        "\n",
        "approx_output_15 = np.append(np.min(approx_15.GP.y[0:n_init]),approx_15.GP.y[n_init:(n_init+iters)]) \n",
        "exact_output_15 = np.append(np.min(exact_15.GP.y[0:n_init]),exact_15.GP.y[n_init:(n_init+iters)]) \n",
        "\n",
        "regret_approx_15 = np.log(-approx_output_15 + y_global_orig)\n",
        "regret_exact_15 = np.log(-exact_output_15 + y_global_orig)\n",
        "\n",
        "simple_regret_approx_15 = min_max_array(regret_approx_15)\n",
        "simple_regret_exact_15 = min_max_array(regret_exact_15)\n",
        "\n",
        "min_simple_regret_approx_15 = min(simple_regret_approx_15)\n",
        "min_simple_regret_exact_15 = min(simple_regret_exact_15)\n",
        "\n",
        "min_simple_regret_approx_15, min_simple_regret_exact_15"
      ],
      "execution_count": null,
      "outputs": [
        {
          "output_type": "execute_result",
          "data": {
            "text/plain": [
              "(0.33521299578730046, -0.4407063636968501)"
            ]
          },
          "metadata": {},
          "execution_count": 69
        }
      ]
    },
    {
      "cell_type": "code",
      "metadata": {
        "id": "lIAC1U7ZQxfy",
        "colab": {
          "base_uri": "https://localhost:8080/"
        },
        "outputId": "d0969394-5b77-4e7f-a998-98f6fd4d72e2"
      },
      "source": [
        "### Simple regret minimization: run number = 16\n",
        "\n",
        "approx_output_16 = np.append(np.min(approx_16.GP.y[0:n_init]),approx_16.GP.y[n_init:(n_init+iters)]) \n",
        "exact_output_16 = np.append(np.min(exact_16.GP.y[0:n_init]),exact_16.GP.y[n_init:(n_init+iters)]) \n",
        "\n",
        "regret_approx_16 = np.log(-approx_output_16 + y_global_orig)\n",
        "regret_exact_16 = np.log(-exact_output_16 + y_global_orig)\n",
        "\n",
        "simple_regret_approx_16 = min_max_array(regret_approx_16)\n",
        "simple_regret_exact_16 = min_max_array(regret_exact_16)\n",
        "\n",
        "min_simple_regret_approx_16 = min(simple_regret_approx_16)\n",
        "min_simple_regret_exact_16 = min(simple_regret_exact_16)\n",
        "\n",
        "min_simple_regret_approx_16, min_simple_regret_exact_16"
      ],
      "execution_count": null,
      "outputs": [
        {
          "output_type": "execute_result",
          "data": {
            "text/plain": [
              "(1.3870802307053038, 0.7237142438076416)"
            ]
          },
          "metadata": {},
          "execution_count": 70
        }
      ]
    },
    {
      "cell_type": "code",
      "metadata": {
        "id": "bGott36OQxfz",
        "colab": {
          "base_uri": "https://localhost:8080/"
        },
        "outputId": "ef383e55-15ae-43cb-ce9f-2ecb4e3295ec"
      },
      "source": [
        "### Simple regret minimization: run number = 17\n",
        "\n",
        "approx_output_17 = np.append(np.min(approx_17.GP.y[0:n_init]),approx_17.GP.y[n_init:(n_init+iters)]) \n",
        "exact_output_17 = np.append(np.min(exact_17.GP.y[0:n_init]),exact_17.GP.y[n_init:(n_init+iters)]) \n",
        "\n",
        "regret_approx_17 = np.log(-approx_output_17 + y_global_orig)\n",
        "regret_exact_17 = np.log(-exact_output_17 + y_global_orig)\n",
        "\n",
        "simple_regret_approx_17 = min_max_array(regret_approx_17)\n",
        "simple_regret_exact_17 = min_max_array(regret_exact_17)\n",
        "\n",
        "min_simple_regret_approx_17 = min(simple_regret_approx_17)\n",
        "min_simple_regret_exact_17 = min(simple_regret_exact_17)\n",
        "\n",
        "min_simple_regret_approx_17, min_simple_regret_exact_17"
      ],
      "execution_count": null,
      "outputs": [
        {
          "output_type": "execute_result",
          "data": {
            "text/plain": [
              "(0.3079527291639586, -1.0899967735394644)"
            ]
          },
          "metadata": {},
          "execution_count": 71
        }
      ]
    },
    {
      "cell_type": "code",
      "metadata": {
        "id": "Cz9ZYMBMQxfz",
        "colab": {
          "base_uri": "https://localhost:8080/"
        },
        "outputId": "c1195c01-d7b7-476d-de40-cb0cd5a70ea5"
      },
      "source": [
        "### Simple regret minimization: run number = 18\n",
        "\n",
        "approx_output_18 = np.append(np.min(approx_18.GP.y[0:n_init]),approx_18.GP.y[n_init:(n_init+iters)]) \n",
        "exact_output_18 = np.append(np.min(exact_18.GP.y[0:n_init]),exact_18.GP.y[n_init:(n_init+iters)]) \n",
        "\n",
        "regret_approx_18 = np.log(-approx_output_18 + y_global_orig)\n",
        "regret_exact_18 = np.log(-exact_output_18 + y_global_orig)\n",
        "\n",
        "simple_regret_approx_18 = min_max_array(regret_approx_18)\n",
        "simple_regret_exact_18 = min_max_array(regret_exact_18)\n",
        "\n",
        "min_simple_regret_approx_18 = min(simple_regret_approx_18)\n",
        "min_simple_regret_exact_18 = min(simple_regret_exact_18)\n",
        "\n",
        "min_simple_regret_approx_18, min_simple_regret_exact_18"
      ],
      "execution_count": null,
      "outputs": [
        {
          "output_type": "execute_result",
          "data": {
            "text/plain": [
              "(1.4814308953347093, 1.4304498760867286)"
            ]
          },
          "metadata": {},
          "execution_count": 72
        }
      ]
    },
    {
      "cell_type": "code",
      "metadata": {
        "id": "OBfpWOHNQxf0",
        "colab": {
          "base_uri": "https://localhost:8080/"
        },
        "outputId": "71a6da2b-6972-4409-9931-9e57407290b1"
      },
      "source": [
        "### Simple regret minimization: run number = 19\n",
        "\n",
        "approx_output_19 = np.append(np.min(approx_19.GP.y[0:n_init]),approx_19.GP.y[n_init:(n_init+iters)]) \n",
        "exact_output_19 = np.append(np.min(exact_19.GP.y[0:n_init]),exact_19.GP.y[n_init:(n_init+iters)]) \n",
        "\n",
        "regret_approx_19 = np.log(-approx_output_19 + y_global_orig)\n",
        "regret_exact_19 = np.log(-exact_output_19 + y_global_orig)\n",
        "\n",
        "simple_regret_approx_19 = min_max_array(regret_approx_19)\n",
        "simple_regret_exact_19 = min_max_array(regret_exact_19)\n",
        "\n",
        "min_simple_regret_approx_19 = min(simple_regret_approx_19)\n",
        "min_simple_regret_exact_19 = min(simple_regret_exact_19)\n",
        "\n",
        "min_simple_regret_approx_19, min_simple_regret_exact_19"
      ],
      "execution_count": null,
      "outputs": [
        {
          "output_type": "execute_result",
          "data": {
            "text/plain": [
              "(2.3727567528912306, 0.7616789629595188)"
            ]
          },
          "metadata": {},
          "execution_count": 73
        }
      ]
    },
    {
      "cell_type": "code",
      "metadata": {
        "id": "BE1AJ7NsQxf0",
        "colab": {
          "base_uri": "https://localhost:8080/"
        },
        "outputId": "27f00566-7fee-41f3-9fd0-d8fc2809eaca"
      },
      "source": [
        "### Simple regret minimization: run number = 20\n",
        "\n",
        "approx_output_20 = np.append(np.min(approx_20.GP.y[0:n_init]),approx_20.GP.y[n_init:(n_init+iters)]) \n",
        "exact_output_20 = np.append(np.min(exact_20.GP.y[0:n_init]),exact_20.GP.y[n_init:(n_init+iters)]) \n",
        "\n",
        "regret_approx_20 = np.log(-approx_output_20 + y_global_orig)\n",
        "regret_exact_20 = np.log(-exact_output_20 + y_global_orig)\n",
        "\n",
        "simple_regret_approx_20 = min_max_array(regret_approx_20)\n",
        "simple_regret_exact_20 = min_max_array(regret_exact_20)\n",
        "\n",
        "min_simple_regret_approx_20 = min(simple_regret_approx_20)\n",
        "min_simple_regret_exact_20 = min(simple_regret_exact_20)\n",
        "\n",
        "min_simple_regret_approx_20, min_simple_regret_exact_20"
      ],
      "execution_count": null,
      "outputs": [
        {
          "output_type": "execute_result",
          "data": {
            "text/plain": [
              "(2.2898089763002107, -0.20239137315345626)"
            ]
          },
          "metadata": {},
          "execution_count": 74
        }
      ]
    },
    {
      "cell_type": "code",
      "metadata": {
        "id": "bpX-bKAHQxf1"
      },
      "source": [
        "# Iteration1 :\n",
        "\n",
        "slice1 = 0\n",
        "\n",
        "approx1 = [simple_regret_approx_1[slice1],\n",
        "       simple_regret_approx_2[slice1],\n",
        "       simple_regret_approx_3[slice1],\n",
        "       simple_regret_approx_4[slice1],\n",
        "       simple_regret_approx_5[slice1],\n",
        "       simple_regret_approx_6[slice1],\n",
        "       simple_regret_approx_7[slice1],\n",
        "       simple_regret_approx_8[slice1],\n",
        "       simple_regret_approx_9[slice1],\n",
        "       simple_regret_approx_10[slice1],\n",
        "       simple_regret_approx_11[slice1],\n",
        "       simple_regret_approx_12[slice1],\n",
        "       simple_regret_approx_13[slice1],\n",
        "       simple_regret_approx_14[slice1],\n",
        "       simple_regret_approx_15[slice1],\n",
        "       simple_regret_approx_16[slice1],\n",
        "       simple_regret_approx_17[slice1],\n",
        "       simple_regret_approx_18[slice1],\n",
        "       simple_regret_approx_19[slice1],\n",
        "       simple_regret_approx_20[slice1]]\n",
        "\n",
        "exact1 = [simple_regret_exact_1[slice1],\n",
        "       simple_regret_exact_2[slice1],\n",
        "       simple_regret_exact_3[slice1],\n",
        "       simple_regret_exact_4[slice1],\n",
        "       simple_regret_exact_5[slice1],\n",
        "       simple_regret_exact_6[slice1],\n",
        "       simple_regret_exact_7[slice1],\n",
        "       simple_regret_exact_8[slice1],\n",
        "       simple_regret_exact_9[slice1],\n",
        "       simple_regret_exact_10[slice1],\n",
        "       simple_regret_exact_11[slice1],\n",
        "       simple_regret_exact_12[slice1],\n",
        "       simple_regret_exact_13[slice1],\n",
        "       simple_regret_exact_14[slice1],\n",
        "       simple_regret_exact_15[slice1],\n",
        "       simple_regret_exact_16[slice1],\n",
        "       simple_regret_exact_17[slice1],\n",
        "       simple_regret_exact_18[slice1],\n",
        "       simple_regret_exact_19[slice1],\n",
        "       simple_regret_exact_20[slice1]]\n",
        "\n",
        "approx1_results = pd.DataFrame(approx1).sort_values(by=[0], ascending=False)\n",
        "exact1_results = pd.DataFrame(exact1).sort_values(by=[0], ascending=False)\n",
        "\n",
        "### Best simple regret minimization IQR - approx:\n",
        "lower_approx1 = np.asarray(approx1_results[4:5][0])[0]\n",
        "median_approx1 = np.asarray(approx1_results[9:10][0])[0]\n",
        "upper_approx1 = np.asarray(approx1_results[14:15][0])[0]\n",
        "\n",
        "lower_exact1 = np.asarray(exact1_results[4:5][0])[0]\n",
        "median_exact1 = np.asarray(exact1_results[9:10][0])[0]\n",
        "upper_exact1 = np.asarray(exact1_results[14:15][0])[0]"
      ],
      "execution_count": null,
      "outputs": []
    },
    {
      "cell_type": "code",
      "metadata": {
        "id": "CgIkJA1xQxf2"
      },
      "source": [
        "# Iteration11 :\n",
        "\n",
        "slice11 = 10\n",
        "\n",
        "approx11 = [simple_regret_approx_1[slice11],\n",
        "       simple_regret_approx_2[slice11],\n",
        "       simple_regret_approx_3[slice11],\n",
        "       simple_regret_approx_4[slice11],\n",
        "       simple_regret_approx_5[slice11],\n",
        "       simple_regret_approx_6[slice11],\n",
        "       simple_regret_approx_7[slice11],\n",
        "       simple_regret_approx_8[slice11],\n",
        "       simple_regret_approx_9[slice11],\n",
        "       simple_regret_approx_10[slice11],\n",
        "       simple_regret_approx_11[slice11],\n",
        "       simple_regret_approx_12[slice11],\n",
        "       simple_regret_approx_13[slice11],\n",
        "       simple_regret_approx_14[slice11],\n",
        "       simple_regret_approx_15[slice11],\n",
        "       simple_regret_approx_16[slice11],\n",
        "       simple_regret_approx_17[slice11],\n",
        "       simple_regret_approx_18[slice11],\n",
        "       simple_regret_approx_19[slice11],\n",
        "       simple_regret_approx_20[slice11]]\n",
        "\n",
        "exact11 = [simple_regret_exact_1[slice11],\n",
        "       simple_regret_exact_2[slice11],\n",
        "       simple_regret_exact_3[slice11],\n",
        "       simple_regret_exact_4[slice11],\n",
        "       simple_regret_exact_5[slice11],\n",
        "       simple_regret_exact_6[slice11],\n",
        "       simple_regret_exact_7[slice11],\n",
        "       simple_regret_exact_8[slice11],\n",
        "       simple_regret_exact_9[slice11],\n",
        "       simple_regret_exact_10[slice11],\n",
        "       simple_regret_exact_11[slice11],\n",
        "       simple_regret_exact_12[slice11],\n",
        "       simple_regret_exact_13[slice11],\n",
        "       simple_regret_exact_14[slice11],\n",
        "       simple_regret_exact_15[slice11],\n",
        "       simple_regret_exact_16[slice11],\n",
        "       simple_regret_exact_17[slice11],\n",
        "       simple_regret_exact_18[slice11],\n",
        "       simple_regret_exact_19[slice11],\n",
        "       simple_regret_exact_20[slice11]]\n",
        "\n",
        "approx11_results = pd.DataFrame(approx11).sort_values(by=[0], ascending=False)\n",
        "exact11_results = pd.DataFrame(exact11).sort_values(by=[0], ascending=False)\n",
        "\n",
        "### Best simple regret minimization IQR - approx:\n",
        "lower_approx11 = np.asarray(approx11_results[4:5][0])[0]\n",
        "median_approx11 = np.asarray(approx11_results[9:10][0])[0]\n",
        "upper_approx11 = np.asarray(approx11_results[14:15][0])[0]\n",
        "\n",
        "lower_exact11 = np.asarray(exact11_results[4:5][0])[0]\n",
        "median_exact11 = np.asarray(exact11_results[9:10][0])[0]\n",
        "upper_exact11 = np.asarray(exact11_results[14:15][0])[0]"
      ],
      "execution_count": null,
      "outputs": []
    },
    {
      "cell_type": "code",
      "metadata": {
        "id": "MFePDfGuQxf2"
      },
      "source": [
        "# Iteration21 :\n",
        "\n",
        "slice21 = 20\n",
        "\n",
        "approx21 = [simple_regret_approx_1[slice21],\n",
        "       simple_regret_approx_2[slice21],\n",
        "       simple_regret_approx_3[slice21],\n",
        "       simple_regret_approx_4[slice21],\n",
        "       simple_regret_approx_5[slice21],\n",
        "       simple_regret_approx_6[slice21],\n",
        "       simple_regret_approx_7[slice21],\n",
        "       simple_regret_approx_8[slice21],\n",
        "       simple_regret_approx_9[slice21],\n",
        "       simple_regret_approx_10[slice21],\n",
        "       simple_regret_approx_11[slice21],\n",
        "       simple_regret_approx_12[slice21],\n",
        "       simple_regret_approx_13[slice21],\n",
        "       simple_regret_approx_14[slice21],\n",
        "       simple_regret_approx_15[slice21],\n",
        "       simple_regret_approx_16[slice21],\n",
        "       simple_regret_approx_17[slice21],\n",
        "       simple_regret_approx_18[slice21],\n",
        "       simple_regret_approx_19[slice21],\n",
        "       simple_regret_approx_20[slice21]]\n",
        "\n",
        "exact21 = [simple_regret_exact_1[slice21],\n",
        "       simple_regret_exact_2[slice21],\n",
        "       simple_regret_exact_3[slice21],\n",
        "       simple_regret_exact_4[slice21],\n",
        "       simple_regret_exact_5[slice21],\n",
        "       simple_regret_exact_6[slice21],\n",
        "       simple_regret_exact_7[slice21],\n",
        "       simple_regret_exact_8[slice21],\n",
        "       simple_regret_exact_9[slice21],\n",
        "       simple_regret_exact_10[slice21],\n",
        "       simple_regret_exact_11[slice21],\n",
        "       simple_regret_exact_12[slice21],\n",
        "       simple_regret_exact_13[slice21],\n",
        "       simple_regret_exact_14[slice21],\n",
        "       simple_regret_exact_15[slice21],\n",
        "       simple_regret_exact_16[slice21],\n",
        "       simple_regret_exact_17[slice21],\n",
        "       simple_regret_exact_18[slice21],\n",
        "       simple_regret_exact_19[slice21],\n",
        "       simple_regret_exact_20[slice21]]\n",
        "\n",
        "approx21_results = pd.DataFrame(approx21).sort_values(by=[0], ascending=False)\n",
        "exact21_results = pd.DataFrame(exact21).sort_values(by=[0], ascending=False)\n",
        "\n",
        "### Best simple regret minimization IQR - approx:\n",
        "lower_approx21 = np.asarray(approx21_results[4:5][0])[0]\n",
        "median_approx21 = np.asarray(approx21_results[9:10][0])[0]\n",
        "upper_approx21 = np.asarray(approx21_results[14:15][0])[0]\n",
        "\n",
        "lower_exact21 = np.asarray(exact21_results[4:5][0])[0]\n",
        "median_exact21 = np.asarray(exact21_results[9:10][0])[0]\n",
        "upper_exact21 = np.asarray(exact21_results[14:15][0])[0]"
      ],
      "execution_count": null,
      "outputs": []
    },
    {
      "cell_type": "code",
      "metadata": {
        "id": "PrRDB1kfQxf3"
      },
      "source": [
        "# Iteration2 :\n",
        "\n",
        "slice2 = 1\n",
        "\n",
        "approx2 = [simple_regret_approx_1[slice2],\n",
        "       simple_regret_approx_2[slice2],\n",
        "       simple_regret_approx_3[slice2],\n",
        "       simple_regret_approx_4[slice2],\n",
        "       simple_regret_approx_5[slice2],\n",
        "       simple_regret_approx_6[slice2],\n",
        "       simple_regret_approx_7[slice2],\n",
        "       simple_regret_approx_8[slice2],\n",
        "       simple_regret_approx_9[slice2],\n",
        "       simple_regret_approx_10[slice2],\n",
        "       simple_regret_approx_11[slice2],\n",
        "       simple_regret_approx_12[slice2],\n",
        "       simple_regret_approx_13[slice2],\n",
        "       simple_regret_approx_14[slice2],\n",
        "       simple_regret_approx_15[slice2],\n",
        "       simple_regret_approx_16[slice2],\n",
        "       simple_regret_approx_17[slice2],\n",
        "       simple_regret_approx_18[slice2],\n",
        "       simple_regret_approx_19[slice2],\n",
        "       simple_regret_approx_20[slice2]]\n",
        "\n",
        "exact2 = [simple_regret_exact_1[slice2],\n",
        "       simple_regret_exact_2[slice2],\n",
        "       simple_regret_exact_3[slice2],\n",
        "       simple_regret_exact_4[slice2],\n",
        "       simple_regret_exact_5[slice2],\n",
        "       simple_regret_exact_6[slice2],\n",
        "       simple_regret_exact_7[slice2],\n",
        "       simple_regret_exact_8[slice2],\n",
        "       simple_regret_exact_9[slice2],\n",
        "       simple_regret_exact_10[slice2],\n",
        "       simple_regret_exact_11[slice2],\n",
        "       simple_regret_exact_12[slice2],\n",
        "       simple_regret_exact_13[slice2],\n",
        "       simple_regret_exact_14[slice2],\n",
        "       simple_regret_exact_15[slice2],\n",
        "       simple_regret_exact_16[slice2],\n",
        "       simple_regret_exact_17[slice2],\n",
        "       simple_regret_exact_18[slice2],\n",
        "       simple_regret_exact_19[slice2],\n",
        "       simple_regret_exact_20[slice2]]\n",
        "\n",
        "approx2_results = pd.DataFrame(approx2).sort_values(by=[0], ascending=False)\n",
        "exact2_results = pd.DataFrame(exact2).sort_values(by=[0], ascending=False)\n",
        "\n",
        "### Best simple regret minimization IQR - approx:\n",
        "lower_approx2 = np.asarray(approx2_results[4:5][0])[0]\n",
        "median_approx2 = np.asarray(approx2_results[9:10][0])[0]\n",
        "upper_approx2 = np.asarray(approx2_results[14:15][0])[0]\n",
        "\n",
        "lower_exact2 = np.asarray(exact2_results[4:5][0])[0]\n",
        "median_exact2 = np.asarray(exact2_results[9:10][0])[0]\n",
        "upper_exact2 = np.asarray(exact2_results[14:15][0])[0]"
      ],
      "execution_count": null,
      "outputs": []
    },
    {
      "cell_type": "code",
      "metadata": {
        "id": "B8ncJDYeQxf3"
      },
      "source": [
        "# Iteration12 :\n",
        "\n",
        "slice12 = 11\n",
        "\n",
        "approx12 = [simple_regret_approx_1[slice12],\n",
        "       simple_regret_approx_2[slice12],\n",
        "       simple_regret_approx_3[slice12],\n",
        "       simple_regret_approx_4[slice12],\n",
        "       simple_regret_approx_5[slice12],\n",
        "       simple_regret_approx_6[slice12],\n",
        "       simple_regret_approx_7[slice12],\n",
        "       simple_regret_approx_8[slice12],\n",
        "       simple_regret_approx_9[slice12],\n",
        "       simple_regret_approx_10[slice12],\n",
        "       simple_regret_approx_11[slice12],\n",
        "       simple_regret_approx_12[slice12],\n",
        "       simple_regret_approx_13[slice12],\n",
        "       simple_regret_approx_14[slice12],\n",
        "       simple_regret_approx_15[slice12],\n",
        "       simple_regret_approx_16[slice12],\n",
        "       simple_regret_approx_17[slice12],\n",
        "       simple_regret_approx_18[slice12],\n",
        "       simple_regret_approx_19[slice12],\n",
        "       simple_regret_approx_20[slice12]]\n",
        "\n",
        "exact12 = [simple_regret_exact_1[slice12],\n",
        "       simple_regret_exact_2[slice12],\n",
        "       simple_regret_exact_3[slice12],\n",
        "       simple_regret_exact_4[slice12],\n",
        "       simple_regret_exact_5[slice12],\n",
        "       simple_regret_exact_6[slice12],\n",
        "       simple_regret_exact_7[slice12],\n",
        "       simple_regret_exact_8[slice12],\n",
        "       simple_regret_exact_9[slice12],\n",
        "       simple_regret_exact_10[slice12],\n",
        "       simple_regret_exact_11[slice12],\n",
        "       simple_regret_exact_12[slice12],\n",
        "       simple_regret_exact_13[slice12],\n",
        "       simple_regret_exact_14[slice12],\n",
        "       simple_regret_exact_15[slice12],\n",
        "       simple_regret_exact_16[slice12],\n",
        "       simple_regret_exact_17[slice12],\n",
        "       simple_regret_exact_18[slice12],\n",
        "       simple_regret_exact_19[slice12],\n",
        "       simple_regret_exact_20[slice12]]\n",
        "\n",
        "approx12_results = pd.DataFrame(approx12).sort_values(by=[0], ascending=False)\n",
        "exact12_results = pd.DataFrame(exact12).sort_values(by=[0], ascending=False)\n",
        "\n",
        "### Best simple regret minimization IQR - approx:\n",
        "lower_approx12 = np.asarray(approx12_results[4:5][0])[0]\n",
        "median_approx12 = np.asarray(approx12_results[9:10][0])[0]\n",
        "upper_approx12 = np.asarray(approx12_results[14:15][0])[0]\n",
        "\n",
        "lower_exact12 = np.asarray(exact12_results[4:5][0])[0]\n",
        "median_exact12 = np.asarray(exact12_results[9:10][0])[0]\n",
        "upper_exact12 = np.asarray(exact12_results[14:15][0])[0]"
      ],
      "execution_count": null,
      "outputs": []
    },
    {
      "cell_type": "code",
      "metadata": {
        "id": "Jn4KpGvcQxf4"
      },
      "source": [
        "# Iteration3 :\n",
        "\n",
        "slice3 = 2\n",
        "\n",
        "approx3 = [simple_regret_approx_1[slice3],\n",
        "       simple_regret_approx_2[slice3],\n",
        "       simple_regret_approx_3[slice3],\n",
        "       simple_regret_approx_4[slice3],\n",
        "       simple_regret_approx_5[slice3],\n",
        "       simple_regret_approx_6[slice3],\n",
        "       simple_regret_approx_7[slice3],\n",
        "       simple_regret_approx_8[slice3],\n",
        "       simple_regret_approx_9[slice3],\n",
        "       simple_regret_approx_10[slice3],\n",
        "       simple_regret_approx_11[slice3],\n",
        "       simple_regret_approx_12[slice3],\n",
        "       simple_regret_approx_13[slice3],\n",
        "       simple_regret_approx_14[slice3],\n",
        "       simple_regret_approx_15[slice3],\n",
        "       simple_regret_approx_16[slice3],\n",
        "       simple_regret_approx_17[slice3],\n",
        "       simple_regret_approx_18[slice3],\n",
        "       simple_regret_approx_19[slice3],\n",
        "       simple_regret_approx_20[slice3]]\n",
        "\n",
        "exact3 = [simple_regret_exact_1[slice3],\n",
        "       simple_regret_exact_2[slice3],\n",
        "       simple_regret_exact_3[slice3],\n",
        "       simple_regret_exact_4[slice3],\n",
        "       simple_regret_exact_5[slice3],\n",
        "       simple_regret_exact_6[slice3],\n",
        "       simple_regret_exact_7[slice3],\n",
        "       simple_regret_exact_8[slice3],\n",
        "       simple_regret_exact_9[slice3],\n",
        "       simple_regret_exact_10[slice3],\n",
        "       simple_regret_exact_11[slice3],\n",
        "       simple_regret_exact_12[slice3],\n",
        "       simple_regret_exact_13[slice3],\n",
        "       simple_regret_exact_14[slice3],\n",
        "       simple_regret_exact_15[slice3],\n",
        "       simple_regret_exact_16[slice3],\n",
        "       simple_regret_exact_17[slice3],\n",
        "       simple_regret_exact_18[slice3],\n",
        "       simple_regret_exact_19[slice3],\n",
        "       simple_regret_exact_20[slice3]]\n",
        "\n",
        "approx3_results = pd.DataFrame(approx3).sort_values(by=[0], ascending=False)\n",
        "exact3_results = pd.DataFrame(exact3).sort_values(by=[0], ascending=False)\n",
        "\n",
        "### Best simple regret minimization IQR - approx:\n",
        "lower_approx3 = np.asarray(approx3_results[4:5][0])[0]\n",
        "median_approx3 = np.asarray(approx3_results[9:10][0])[0]\n",
        "upper_approx3 = np.asarray(approx3_results[14:15][0])[0]\n",
        "\n",
        "lower_exact3 = np.asarray(exact3_results[4:5][0])[0]\n",
        "median_exact3 = np.asarray(exact3_results[9:10][0])[0]\n",
        "upper_exact3 = np.asarray(exact3_results[14:15][0])[0]"
      ],
      "execution_count": null,
      "outputs": []
    },
    {
      "cell_type": "code",
      "metadata": {
        "id": "plf83wxrQxf4"
      },
      "source": [
        "# Iteration13 :\n",
        "\n",
        "slice13 = 12\n",
        "\n",
        "approx13 = [simple_regret_approx_1[slice13],\n",
        "       simple_regret_approx_2[slice13],\n",
        "       simple_regret_approx_3[slice13],\n",
        "       simple_regret_approx_4[slice13],\n",
        "       simple_regret_approx_5[slice13],\n",
        "       simple_regret_approx_6[slice13],\n",
        "       simple_regret_approx_7[slice13],\n",
        "       simple_regret_approx_8[slice13],\n",
        "       simple_regret_approx_9[slice13],\n",
        "       simple_regret_approx_10[slice13],\n",
        "       simple_regret_approx_11[slice13],\n",
        "       simple_regret_approx_12[slice13],\n",
        "       simple_regret_approx_13[slice13],\n",
        "       simple_regret_approx_14[slice13],\n",
        "       simple_regret_approx_15[slice13],\n",
        "       simple_regret_approx_16[slice13],\n",
        "       simple_regret_approx_17[slice13],\n",
        "       simple_regret_approx_18[slice13],\n",
        "       simple_regret_approx_19[slice13],\n",
        "       simple_regret_approx_20[slice13]]\n",
        "\n",
        "exact13 = [simple_regret_exact_1[slice13],\n",
        "       simple_regret_exact_2[slice13],\n",
        "       simple_regret_exact_3[slice13],\n",
        "       simple_regret_exact_4[slice13],\n",
        "       simple_regret_exact_5[slice13],\n",
        "       simple_regret_exact_6[slice13],\n",
        "       simple_regret_exact_7[slice13],\n",
        "       simple_regret_exact_8[slice13],\n",
        "       simple_regret_exact_9[slice13],\n",
        "       simple_regret_exact_10[slice13],\n",
        "       simple_regret_exact_11[slice13],\n",
        "       simple_regret_exact_12[slice13],\n",
        "       simple_regret_exact_13[slice13],\n",
        "       simple_regret_exact_14[slice13],\n",
        "       simple_regret_exact_15[slice13],\n",
        "       simple_regret_exact_16[slice13],\n",
        "       simple_regret_exact_17[slice13],\n",
        "       simple_regret_exact_18[slice13],\n",
        "       simple_regret_exact_19[slice13],\n",
        "       simple_regret_exact_20[slice13]]\n",
        "\n",
        "approx13_results = pd.DataFrame(approx13).sort_values(by=[0], ascending=False)\n",
        "exact13_results = pd.DataFrame(exact13).sort_values(by=[0], ascending=False)\n",
        "\n",
        "### Best simple regret minimization IQR - approx:\n",
        "lower_approx13 = np.asarray(approx13_results[4:5][0])[0]\n",
        "median_approx13 = np.asarray(approx13_results[9:10][0])[0]\n",
        "upper_approx13 = np.asarray(approx13_results[14:15][0])[0]\n",
        "\n",
        "lower_exact13 = np.asarray(exact13_results[4:5][0])[0]\n",
        "median_exact13 = np.asarray(exact13_results[9:10][0])[0]\n",
        "upper_exact13 = np.asarray(exact13_results[14:15][0])[0]"
      ],
      "execution_count": null,
      "outputs": []
    },
    {
      "cell_type": "code",
      "metadata": {
        "id": "9A7mlVvJQxf5"
      },
      "source": [
        "# Iteration4 :\n",
        "\n",
        "slice4 = 3\n",
        "\n",
        "approx4 = [simple_regret_approx_1[slice4],\n",
        "       simple_regret_approx_2[slice4],\n",
        "       simple_regret_approx_3[slice4],\n",
        "       simple_regret_approx_4[slice4],\n",
        "       simple_regret_approx_5[slice4],\n",
        "       simple_regret_approx_6[slice4],\n",
        "       simple_regret_approx_7[slice4],\n",
        "       simple_regret_approx_8[slice4],\n",
        "       simple_regret_approx_9[slice4],\n",
        "       simple_regret_approx_10[slice4],\n",
        "       simple_regret_approx_11[slice4],\n",
        "       simple_regret_approx_12[slice4],\n",
        "       simple_regret_approx_13[slice4],\n",
        "       simple_regret_approx_14[slice4],\n",
        "       simple_regret_approx_15[slice4],\n",
        "       simple_regret_approx_16[slice4],\n",
        "       simple_regret_approx_17[slice4],\n",
        "       simple_regret_approx_18[slice4],\n",
        "       simple_regret_approx_19[slice4],\n",
        "       simple_regret_approx_20[slice4]]\n",
        "\n",
        "exact4 = [simple_regret_exact_1[slice4],\n",
        "       simple_regret_exact_2[slice4],\n",
        "       simple_regret_exact_3[slice4],\n",
        "       simple_regret_exact_4[slice4],\n",
        "       simple_regret_exact_5[slice4],\n",
        "       simple_regret_exact_6[slice4],\n",
        "       simple_regret_exact_7[slice4],\n",
        "       simple_regret_exact_8[slice4],\n",
        "       simple_regret_exact_9[slice4],\n",
        "       simple_regret_exact_10[slice4],\n",
        "       simple_regret_exact_11[slice4],\n",
        "       simple_regret_exact_12[slice4],\n",
        "       simple_regret_exact_13[slice4],\n",
        "       simple_regret_exact_14[slice4],\n",
        "       simple_regret_exact_15[slice4],\n",
        "       simple_regret_exact_16[slice4],\n",
        "       simple_regret_exact_17[slice4],\n",
        "       simple_regret_exact_18[slice4],\n",
        "       simple_regret_exact_19[slice4],\n",
        "       simple_regret_exact_20[slice4]]\n",
        "\n",
        "approx4_results = pd.DataFrame(approx4).sort_values(by=[0], ascending=False)\n",
        "exact4_results = pd.DataFrame(exact4).sort_values(by=[0], ascending=False)\n",
        "\n",
        "### Best simple regret minimization IQR - approx:\n",
        "lower_approx4 = np.asarray(approx4_results[4:5][0])[0]\n",
        "median_approx4 = np.asarray(approx4_results[9:10][0])[0]\n",
        "upper_approx4 = np.asarray(approx4_results[14:15][0])[0]\n",
        "\n",
        "lower_exact4 = np.asarray(exact4_results[4:5][0])[0]\n",
        "median_exact4 = np.asarray(exact4_results[9:10][0])[0]\n",
        "upper_exact4 = np.asarray(exact4_results[14:15][0])[0]"
      ],
      "execution_count": null,
      "outputs": []
    },
    {
      "cell_type": "code",
      "metadata": {
        "id": "ijq-rioYQxf5"
      },
      "source": [
        "# Iteration14 :\n",
        "\n",
        "slice14 = 13\n",
        "\n",
        "approx14 = [simple_regret_approx_1[slice14],\n",
        "       simple_regret_approx_2[slice14],\n",
        "       simple_regret_approx_3[slice14],\n",
        "       simple_regret_approx_4[slice14],\n",
        "       simple_regret_approx_5[slice14],\n",
        "       simple_regret_approx_6[slice14],\n",
        "       simple_regret_approx_7[slice14],\n",
        "       simple_regret_approx_8[slice14],\n",
        "       simple_regret_approx_9[slice14],\n",
        "       simple_regret_approx_10[slice14],\n",
        "       simple_regret_approx_11[slice14],\n",
        "       simple_regret_approx_12[slice14],\n",
        "       simple_regret_approx_13[slice14],\n",
        "       simple_regret_approx_14[slice14],\n",
        "       simple_regret_approx_15[slice14],\n",
        "       simple_regret_approx_16[slice14],\n",
        "       simple_regret_approx_17[slice14],\n",
        "       simple_regret_approx_18[slice14],\n",
        "       simple_regret_approx_19[slice14],\n",
        "       simple_regret_approx_20[slice14]]\n",
        "\n",
        "exact14 = [simple_regret_exact_1[slice14],\n",
        "       simple_regret_exact_2[slice14],\n",
        "       simple_regret_exact_3[slice14],\n",
        "       simple_regret_exact_4[slice14],\n",
        "       simple_regret_exact_5[slice14],\n",
        "       simple_regret_exact_6[slice14],\n",
        "       simple_regret_exact_7[slice14],\n",
        "       simple_regret_exact_8[slice14],\n",
        "       simple_regret_exact_9[slice14],\n",
        "       simple_regret_exact_10[slice14],\n",
        "       simple_regret_exact_11[slice14],\n",
        "       simple_regret_exact_12[slice14],\n",
        "       simple_regret_exact_13[slice14],\n",
        "       simple_regret_exact_14[slice14],\n",
        "       simple_regret_exact_15[slice14],\n",
        "       simple_regret_exact_16[slice14],\n",
        "       simple_regret_exact_17[slice14],\n",
        "       simple_regret_exact_18[slice14],\n",
        "       simple_regret_exact_19[slice14],\n",
        "       simple_regret_exact_20[slice14]]\n",
        "\n",
        "approx14_results = pd.DataFrame(approx14).sort_values(by=[0], ascending=False)\n",
        "exact14_results = pd.DataFrame(exact14).sort_values(by=[0], ascending=False)\n",
        "\n",
        "### Best simple regret minimization IQR - approx:\n",
        "lower_approx14 = np.asarray(approx14_results[4:5][0])[0]\n",
        "median_approx14 = np.asarray(approx14_results[9:10][0])[0]\n",
        "upper_approx14 = np.asarray(approx14_results[14:15][0])[0]\n",
        "\n",
        "lower_exact14 = np.asarray(exact14_results[4:5][0])[0]\n",
        "median_exact14 = np.asarray(exact14_results[9:10][0])[0]\n",
        "upper_exact14 = np.asarray(exact14_results[14:15][0])[0]"
      ],
      "execution_count": null,
      "outputs": []
    },
    {
      "cell_type": "code",
      "metadata": {
        "id": "XINlZjoTd-ZK"
      },
      "source": [
        "# Iteration5 :\n",
        "\n",
        "slice5 = 4\n",
        "\n",
        "approx5 = [simple_regret_approx_1[slice5],\n",
        "       simple_regret_approx_2[slice5],\n",
        "       simple_regret_approx_3[slice5],\n",
        "       simple_regret_approx_4[slice5],\n",
        "       simple_regret_approx_5[slice5],\n",
        "       simple_regret_approx_6[slice5],\n",
        "       simple_regret_approx_7[slice5],\n",
        "       simple_regret_approx_8[slice5],\n",
        "       simple_regret_approx_9[slice5],\n",
        "       simple_regret_approx_10[slice5],\n",
        "       simple_regret_approx_11[slice5],\n",
        "       simple_regret_approx_12[slice5],\n",
        "       simple_regret_approx_13[slice5],\n",
        "       simple_regret_approx_14[slice5],\n",
        "       simple_regret_approx_15[slice5],\n",
        "       simple_regret_approx_16[slice5],\n",
        "       simple_regret_approx_17[slice5],\n",
        "       simple_regret_approx_18[slice5],\n",
        "       simple_regret_approx_19[slice5],\n",
        "       simple_regret_approx_20[slice5]]\n",
        "\n",
        "exact5 = [simple_regret_exact_1[slice5],\n",
        "       simple_regret_exact_2[slice5],\n",
        "       simple_regret_exact_3[slice5],\n",
        "       simple_regret_exact_4[slice5],\n",
        "       simple_regret_exact_5[slice5],\n",
        "       simple_regret_exact_6[slice5],\n",
        "       simple_regret_exact_7[slice5],\n",
        "       simple_regret_exact_8[slice5],\n",
        "       simple_regret_exact_9[slice5],\n",
        "       simple_regret_exact_10[slice5],\n",
        "       simple_regret_exact_11[slice5],\n",
        "       simple_regret_exact_12[slice5],\n",
        "       simple_regret_exact_13[slice5],\n",
        "       simple_regret_exact_14[slice5],\n",
        "       simple_regret_exact_15[slice5],\n",
        "       simple_regret_exact_16[slice5],\n",
        "       simple_regret_exact_17[slice5],\n",
        "       simple_regret_exact_18[slice5],\n",
        "       simple_regret_exact_19[slice5],\n",
        "       simple_regret_exact_20[slice5]]\n",
        "\n",
        "approx5_results = pd.DataFrame(approx5).sort_values(by=[0], ascending=False)\n",
        "exact5_results = pd.DataFrame(exact5).sort_values(by=[0], ascending=False)\n",
        "\n",
        "### Best simple regret minimization IQR - approx:\n",
        "lower_approx5 = np.asarray(approx5_results[4:5][0])[0]\n",
        "median_approx5 = np.asarray(approx5_results[9:10][0])[0]\n",
        "upper_approx5 = np.asarray(approx5_results[14:15][0])[0]\n",
        "\n",
        "lower_exact5 = np.asarray(exact5_results[4:5][0])[0]\n",
        "median_exact5 = np.asarray(exact5_results[9:10][0])[0]\n",
        "upper_exact5 = np.asarray(exact5_results[14:15][0])[0]"
      ],
      "execution_count": null,
      "outputs": []
    },
    {
      "cell_type": "code",
      "metadata": {
        "id": "4aZ7C8sOQxf6"
      },
      "source": [
        "# Iteration15 :\n",
        "\n",
        "slice15 = 14\n",
        "\n",
        "approx15 = [simple_regret_approx_1[slice15],\n",
        "       simple_regret_approx_2[slice15],\n",
        "       simple_regret_approx_3[slice15],\n",
        "       simple_regret_approx_4[slice15],\n",
        "       simple_regret_approx_5[slice15],\n",
        "       simple_regret_approx_6[slice15],\n",
        "       simple_regret_approx_7[slice15],\n",
        "       simple_regret_approx_8[slice15],\n",
        "       simple_regret_approx_9[slice15],\n",
        "       simple_regret_approx_10[slice15],\n",
        "       simple_regret_approx_11[slice15],\n",
        "       simple_regret_approx_12[slice15],\n",
        "       simple_regret_approx_13[slice15],\n",
        "       simple_regret_approx_14[slice15],\n",
        "       simple_regret_approx_15[slice15],\n",
        "       simple_regret_approx_16[slice15],\n",
        "       simple_regret_approx_17[slice15],\n",
        "       simple_regret_approx_18[slice15],\n",
        "       simple_regret_approx_19[slice15],\n",
        "       simple_regret_approx_20[slice15]]\n",
        "\n",
        "exact15 = [simple_regret_exact_1[slice15],\n",
        "       simple_regret_exact_2[slice15],\n",
        "       simple_regret_exact_3[slice15],\n",
        "       simple_regret_exact_4[slice15],\n",
        "       simple_regret_exact_5[slice15],\n",
        "       simple_regret_exact_6[slice15],\n",
        "       simple_regret_exact_7[slice15],\n",
        "       simple_regret_exact_8[slice15],\n",
        "       simple_regret_exact_9[slice15],\n",
        "       simple_regret_exact_10[slice15],\n",
        "       simple_regret_exact_11[slice15],\n",
        "       simple_regret_exact_12[slice15],\n",
        "       simple_regret_exact_13[slice15],\n",
        "       simple_regret_exact_14[slice15],\n",
        "       simple_regret_exact_15[slice15],\n",
        "       simple_regret_exact_16[slice15],\n",
        "       simple_regret_exact_17[slice15],\n",
        "       simple_regret_exact_18[slice15],\n",
        "       simple_regret_exact_19[slice15],\n",
        "       simple_regret_exact_20[slice15]]\n",
        "\n",
        "approx15_results = pd.DataFrame(approx15).sort_values(by=[0], ascending=False)\n",
        "exact15_results = pd.DataFrame(exact15).sort_values(by=[0], ascending=False)\n",
        "\n",
        "### Best simple regret minimization IQR - approx:\n",
        "lower_approx15 = np.asarray(approx15_results[4:5][0])[0]\n",
        "median_approx15 = np.asarray(approx15_results[9:10][0])[0]\n",
        "upper_approx15 = np.asarray(approx15_results[14:15][0])[0]\n",
        "\n",
        "lower_exact15 = np.asarray(exact15_results[4:5][0])[0]\n",
        "median_exact15 = np.asarray(exact15_results[9:10][0])[0]\n",
        "upper_exact15 = np.asarray(exact15_results[14:15][0])[0]"
      ],
      "execution_count": null,
      "outputs": []
    },
    {
      "cell_type": "code",
      "metadata": {
        "id": "KJINKhv1Qxf6"
      },
      "source": [
        "# Iteration6 :\n",
        "\n",
        "slice6 = 5\n",
        "\n",
        "approx6 = [simple_regret_approx_1[slice6],\n",
        "       simple_regret_approx_2[slice6],\n",
        "       simple_regret_approx_3[slice6],\n",
        "       simple_regret_approx_4[slice6],\n",
        "       simple_regret_approx_5[slice6],\n",
        "       simple_regret_approx_6[slice6],\n",
        "       simple_regret_approx_7[slice6],\n",
        "       simple_regret_approx_8[slice6],\n",
        "       simple_regret_approx_9[slice6],\n",
        "       simple_regret_approx_10[slice6],\n",
        "       simple_regret_approx_11[slice6],\n",
        "       simple_regret_approx_12[slice6],\n",
        "       simple_regret_approx_13[slice6],\n",
        "       simple_regret_approx_14[slice6],\n",
        "       simple_regret_approx_15[slice6],\n",
        "       simple_regret_approx_16[slice6],\n",
        "       simple_regret_approx_17[slice6],\n",
        "       simple_regret_approx_18[slice6],\n",
        "       simple_regret_approx_19[slice6],\n",
        "       simple_regret_approx_20[slice6]]\n",
        "\n",
        "exact6 = [simple_regret_exact_1[slice6],\n",
        "       simple_regret_exact_2[slice6],\n",
        "       simple_regret_exact_3[slice6],\n",
        "       simple_regret_exact_4[slice6],\n",
        "       simple_regret_exact_5[slice6],\n",
        "       simple_regret_exact_6[slice6],\n",
        "       simple_regret_exact_7[slice6],\n",
        "       simple_regret_exact_8[slice6],\n",
        "       simple_regret_exact_9[slice6],\n",
        "       simple_regret_exact_10[slice6],\n",
        "       simple_regret_exact_11[slice6],\n",
        "       simple_regret_exact_12[slice6],\n",
        "       simple_regret_exact_13[slice6],\n",
        "       simple_regret_exact_14[slice6],\n",
        "       simple_regret_exact_15[slice6],\n",
        "       simple_regret_exact_16[slice6],\n",
        "       simple_regret_exact_17[slice6],\n",
        "       simple_regret_exact_18[slice6],\n",
        "       simple_regret_exact_19[slice6],\n",
        "       simple_regret_exact_20[slice6]]\n",
        "\n",
        "approx6_results = pd.DataFrame(approx6).sort_values(by=[0], ascending=False)\n",
        "exact6_results = pd.DataFrame(exact6).sort_values(by=[0], ascending=False)\n",
        "\n",
        "### Best simple regret minimization IQR - approx:\n",
        "lower_approx6 = np.asarray(approx6_results[4:5][0])[0]\n",
        "median_approx6 = np.asarray(approx6_results[9:10][0])[0]\n",
        "upper_approx6 = np.asarray(approx6_results[14:15][0])[0]\n",
        "\n",
        "lower_exact6 = np.asarray(exact6_results[4:5][0])[0]\n",
        "median_exact6 = np.asarray(exact6_results[9:10][0])[0]\n",
        "upper_exact6 = np.asarray(exact6_results[14:15][0])[0]"
      ],
      "execution_count": null,
      "outputs": []
    },
    {
      "cell_type": "code",
      "metadata": {
        "id": "nwC5N1FsQxf7"
      },
      "source": [
        "# Iteration16 :\n",
        "\n",
        "slice16 = 15\n",
        "\n",
        "approx16 = [simple_regret_approx_1[slice16],\n",
        "       simple_regret_approx_2[slice16],\n",
        "       simple_regret_approx_3[slice16],\n",
        "       simple_regret_approx_4[slice16],\n",
        "       simple_regret_approx_5[slice16],\n",
        "       simple_regret_approx_6[slice16],\n",
        "       simple_regret_approx_7[slice16],\n",
        "       simple_regret_approx_8[slice16],\n",
        "       simple_regret_approx_9[slice16],\n",
        "       simple_regret_approx_10[slice16],\n",
        "       simple_regret_approx_11[slice16],\n",
        "       simple_regret_approx_12[slice16],\n",
        "       simple_regret_approx_13[slice16],\n",
        "       simple_regret_approx_14[slice16],\n",
        "       simple_regret_approx_15[slice16],\n",
        "       simple_regret_approx_16[slice16],\n",
        "       simple_regret_approx_17[slice16],\n",
        "       simple_regret_approx_18[slice16],\n",
        "       simple_regret_approx_19[slice16],\n",
        "       simple_regret_approx_20[slice16]]\n",
        "\n",
        "exact16 = [simple_regret_exact_1[slice16],\n",
        "       simple_regret_exact_2[slice16],\n",
        "       simple_regret_exact_3[slice16],\n",
        "       simple_regret_exact_4[slice16],\n",
        "       simple_regret_exact_5[slice16],\n",
        "       simple_regret_exact_6[slice16],\n",
        "       simple_regret_exact_7[slice16],\n",
        "       simple_regret_exact_8[slice16],\n",
        "       simple_regret_exact_9[slice16],\n",
        "       simple_regret_exact_10[slice16],\n",
        "       simple_regret_exact_11[slice16],\n",
        "       simple_regret_exact_12[slice16],\n",
        "       simple_regret_exact_13[slice16],\n",
        "       simple_regret_exact_14[slice16],\n",
        "       simple_regret_exact_15[slice16],\n",
        "       simple_regret_exact_16[slice16],\n",
        "       simple_regret_exact_17[slice16],\n",
        "       simple_regret_exact_18[slice16],\n",
        "       simple_regret_exact_19[slice16],\n",
        "       simple_regret_exact_20[slice16]]\n",
        "\n",
        "approx16_results = pd.DataFrame(approx16).sort_values(by=[0], ascending=False)\n",
        "exact16_results = pd.DataFrame(exact16).sort_values(by=[0], ascending=False)\n",
        "\n",
        "### Best simple regret minimization IQR - approx:\n",
        "lower_approx16 = np.asarray(approx16_results[4:5][0])[0]\n",
        "median_approx16 = np.asarray(approx16_results[9:10][0])[0]\n",
        "upper_approx16 = np.asarray(approx16_results[14:15][0])[0]\n",
        "\n",
        "lower_exact16 = np.asarray(exact16_results[4:5][0])[0]\n",
        "median_exact16 = np.asarray(exact16_results[9:10][0])[0]\n",
        "upper_exact16 = np.asarray(exact16_results[14:15][0])[0]"
      ],
      "execution_count": null,
      "outputs": []
    },
    {
      "cell_type": "code",
      "metadata": {
        "id": "TrPV0AfnQxf7"
      },
      "source": [
        "# Iteration7 :\n",
        "\n",
        "slice7 = 6\n",
        "\n",
        "approx7 = [simple_regret_approx_1[slice7],\n",
        "       simple_regret_approx_2[slice7],\n",
        "       simple_regret_approx_3[slice7],\n",
        "       simple_regret_approx_4[slice7],\n",
        "       simple_regret_approx_5[slice7],\n",
        "       simple_regret_approx_6[slice7],\n",
        "       simple_regret_approx_7[slice7],\n",
        "       simple_regret_approx_8[slice7],\n",
        "       simple_regret_approx_9[slice7],\n",
        "       simple_regret_approx_10[slice7],\n",
        "       simple_regret_approx_11[slice7],\n",
        "       simple_regret_approx_12[slice7],\n",
        "       simple_regret_approx_13[slice7],\n",
        "       simple_regret_approx_14[slice7],\n",
        "       simple_regret_approx_15[slice7],\n",
        "       simple_regret_approx_16[slice7],\n",
        "       simple_regret_approx_17[slice7],\n",
        "       simple_regret_approx_18[slice7],\n",
        "       simple_regret_approx_19[slice7],\n",
        "       simple_regret_approx_20[slice7]]\n",
        "\n",
        "exact7 = [simple_regret_exact_1[slice7],\n",
        "       simple_regret_exact_2[slice7],\n",
        "       simple_regret_exact_3[slice7],\n",
        "       simple_regret_exact_4[slice7],\n",
        "       simple_regret_exact_5[slice7],\n",
        "       simple_regret_exact_6[slice7],\n",
        "       simple_regret_exact_7[slice7],\n",
        "       simple_regret_exact_8[slice7],\n",
        "       simple_regret_exact_9[slice7],\n",
        "       simple_regret_exact_10[slice7],\n",
        "       simple_regret_exact_11[slice7],\n",
        "       simple_regret_exact_12[slice7],\n",
        "       simple_regret_exact_13[slice7],\n",
        "       simple_regret_exact_14[slice7],\n",
        "       simple_regret_exact_15[slice7],\n",
        "       simple_regret_exact_16[slice7],\n",
        "       simple_regret_exact_17[slice7],\n",
        "       simple_regret_exact_18[slice7],\n",
        "       simple_regret_exact_19[slice7],\n",
        "       simple_regret_exact_20[slice7]]\n",
        "\n",
        "approx7_results = pd.DataFrame(approx7).sort_values(by=[0], ascending=False)\n",
        "exact7_results = pd.DataFrame(exact7).sort_values(by=[0], ascending=False)\n",
        "\n",
        "### Best simple regret minimization IQR - approx:\n",
        "lower_approx7 = np.asarray(approx7_results[4:5][0])[0]\n",
        "median_approx7 = np.asarray(approx7_results[9:10][0])[0]\n",
        "upper_approx7 = np.asarray(approx7_results[14:15][0])[0]\n",
        "\n",
        "lower_exact7 = np.asarray(exact7_results[4:5][0])[0]\n",
        "median_exact7 = np.asarray(exact7_results[9:10][0])[0]\n",
        "upper_exact7 = np.asarray(exact7_results[14:15][0])[0]"
      ],
      "execution_count": null,
      "outputs": []
    },
    {
      "cell_type": "code",
      "metadata": {
        "id": "Ub_-wpK4Qxf8"
      },
      "source": [
        "# Iteration17 :\n",
        "\n",
        "slice17 = 16\n",
        "\n",
        "approx17 = [simple_regret_approx_1[slice17],\n",
        "       simple_regret_approx_2[slice17],\n",
        "       simple_regret_approx_3[slice17],\n",
        "       simple_regret_approx_4[slice17],\n",
        "       simple_regret_approx_5[slice17],\n",
        "       simple_regret_approx_6[slice17],\n",
        "       simple_regret_approx_7[slice17],\n",
        "       simple_regret_approx_8[slice17],\n",
        "       simple_regret_approx_9[slice17],\n",
        "       simple_regret_approx_10[slice17],\n",
        "       simple_regret_approx_11[slice17],\n",
        "       simple_regret_approx_12[slice17],\n",
        "       simple_regret_approx_13[slice17],\n",
        "       simple_regret_approx_14[slice17],\n",
        "       simple_regret_approx_15[slice17],\n",
        "       simple_regret_approx_16[slice17],\n",
        "       simple_regret_approx_17[slice17],\n",
        "       simple_regret_approx_18[slice17],\n",
        "       simple_regret_approx_19[slice17],\n",
        "       simple_regret_approx_20[slice17]]\n",
        "\n",
        "exact17 = [simple_regret_exact_1[slice17],\n",
        "       simple_regret_exact_2[slice17],\n",
        "       simple_regret_exact_3[slice17],\n",
        "       simple_regret_exact_4[slice17],\n",
        "       simple_regret_exact_5[slice17],\n",
        "       simple_regret_exact_6[slice17],\n",
        "       simple_regret_exact_7[slice17],\n",
        "       simple_regret_exact_8[slice17],\n",
        "       simple_regret_exact_9[slice17],\n",
        "       simple_regret_exact_10[slice17],\n",
        "       simple_regret_exact_11[slice17],\n",
        "       simple_regret_exact_12[slice17],\n",
        "       simple_regret_exact_13[slice17],\n",
        "       simple_regret_exact_14[slice17],\n",
        "       simple_regret_exact_15[slice17],\n",
        "       simple_regret_exact_16[slice17],\n",
        "       simple_regret_exact_17[slice17],\n",
        "       simple_regret_exact_18[slice17],\n",
        "       simple_regret_exact_19[slice17],\n",
        "       simple_regret_exact_20[slice17]]\n",
        "\n",
        "approx17_results = pd.DataFrame(approx17).sort_values(by=[0], ascending=False)\n",
        "exact17_results = pd.DataFrame(exact17).sort_values(by=[0], ascending=False)\n",
        "\n",
        "### Best simple regret minimization IQR - approx:\n",
        "lower_approx17 = np.asarray(approx17_results[4:5][0])[0]\n",
        "median_approx17 = np.asarray(approx17_results[9:10][0])[0]\n",
        "upper_approx17 = np.asarray(approx17_results[14:15][0])[0]\n",
        "\n",
        "lower_exact17 = np.asarray(exact17_results[4:5][0])[0]\n",
        "median_exact17 = np.asarray(exact17_results[9:10][0])[0]\n",
        "upper_exact17 = np.asarray(exact17_results[14:15][0])[0]"
      ],
      "execution_count": null,
      "outputs": []
    },
    {
      "cell_type": "code",
      "metadata": {
        "id": "-6VLo37PQxf8"
      },
      "source": [
        "# Iteration8 :\n",
        "\n",
        "slice8 = 7\n",
        "\n",
        "approx8 = [simple_regret_approx_1[slice8],\n",
        "       simple_regret_approx_2[slice8],\n",
        "       simple_regret_approx_3[slice8],\n",
        "       simple_regret_approx_4[slice8],\n",
        "       simple_regret_approx_5[slice8],\n",
        "       simple_regret_approx_6[slice8],\n",
        "       simple_regret_approx_7[slice8],\n",
        "       simple_regret_approx_8[slice8],\n",
        "       simple_regret_approx_9[slice8],\n",
        "       simple_regret_approx_10[slice8],\n",
        "       simple_regret_approx_11[slice8],\n",
        "       simple_regret_approx_12[slice8],\n",
        "       simple_regret_approx_13[slice8],\n",
        "       simple_regret_approx_14[slice8],\n",
        "       simple_regret_approx_15[slice8],\n",
        "       simple_regret_approx_16[slice8],\n",
        "       simple_regret_approx_17[slice8],\n",
        "       simple_regret_approx_18[slice8],\n",
        "       simple_regret_approx_19[slice8],\n",
        "       simple_regret_approx_20[slice8]]\n",
        "\n",
        "exact8 = [simple_regret_exact_1[slice8],\n",
        "       simple_regret_exact_2[slice8],\n",
        "       simple_regret_exact_3[slice8],\n",
        "       simple_regret_exact_4[slice8],\n",
        "       simple_regret_exact_5[slice8],\n",
        "       simple_regret_exact_6[slice8],\n",
        "       simple_regret_exact_7[slice8],\n",
        "       simple_regret_exact_8[slice8],\n",
        "       simple_regret_exact_9[slice8],\n",
        "       simple_regret_exact_10[slice8],\n",
        "       simple_regret_exact_11[slice8],\n",
        "       simple_regret_exact_12[slice8],\n",
        "       simple_regret_exact_13[slice8],\n",
        "       simple_regret_exact_14[slice8],\n",
        "       simple_regret_exact_15[slice8],\n",
        "       simple_regret_exact_16[slice8],\n",
        "       simple_regret_exact_17[slice8],\n",
        "       simple_regret_exact_18[slice8],\n",
        "       simple_regret_exact_19[slice8],\n",
        "       simple_regret_exact_20[slice8]]\n",
        "\n",
        "approx8_results = pd.DataFrame(approx8).sort_values(by=[0], ascending=False)\n",
        "exact8_results = pd.DataFrame(exact8).sort_values(by=[0], ascending=False)\n",
        "\n",
        "### Best simple regret minimization IQR - approx:\n",
        "lower_approx8 = np.asarray(approx8_results[4:5][0])[0]\n",
        "median_approx8 = np.asarray(approx8_results[9:10][0])[0]\n",
        "upper_approx8 = np.asarray(approx8_results[14:15][0])[0]\n",
        "\n",
        "lower_exact8 = np.asarray(exact8_results[4:5][0])[0]\n",
        "median_exact8 = np.asarray(exact8_results[9:10][0])[0]\n",
        "upper_exact8 = np.asarray(exact8_results[14:15][0])[0]"
      ],
      "execution_count": null,
      "outputs": []
    },
    {
      "cell_type": "code",
      "metadata": {
        "id": "2Dp-9CC2Qxf9"
      },
      "source": [
        "# Iteration18 :\n",
        "\n",
        "slice18 = 17\n",
        "\n",
        "approx18 = [simple_regret_approx_1[slice18],\n",
        "       simple_regret_approx_2[slice18],\n",
        "       simple_regret_approx_3[slice18],\n",
        "       simple_regret_approx_4[slice18],\n",
        "       simple_regret_approx_5[slice18],\n",
        "       simple_regret_approx_6[slice18],\n",
        "       simple_regret_approx_7[slice18],\n",
        "       simple_regret_approx_8[slice18],\n",
        "       simple_regret_approx_9[slice18],\n",
        "       simple_regret_approx_10[slice18],\n",
        "       simple_regret_approx_11[slice18],\n",
        "       simple_regret_approx_12[slice18],\n",
        "       simple_regret_approx_13[slice18],\n",
        "       simple_regret_approx_14[slice18],\n",
        "       simple_regret_approx_15[slice18],\n",
        "       simple_regret_approx_16[slice18],\n",
        "       simple_regret_approx_17[slice18],\n",
        "       simple_regret_approx_18[slice18],\n",
        "       simple_regret_approx_19[slice18],\n",
        "       simple_regret_approx_20[slice18]]\n",
        "\n",
        "exact18 = [simple_regret_exact_1[slice18],\n",
        "       simple_regret_exact_2[slice18],\n",
        "       simple_regret_exact_3[slice18],\n",
        "       simple_regret_exact_4[slice18],\n",
        "       simple_regret_exact_5[slice18],\n",
        "       simple_regret_exact_6[slice18],\n",
        "       simple_regret_exact_7[slice18],\n",
        "       simple_regret_exact_8[slice18],\n",
        "       simple_regret_exact_9[slice18],\n",
        "       simple_regret_exact_10[slice18],\n",
        "       simple_regret_exact_11[slice18],\n",
        "       simple_regret_exact_12[slice18],\n",
        "       simple_regret_exact_13[slice18],\n",
        "       simple_regret_exact_14[slice18],\n",
        "       simple_regret_exact_15[slice18],\n",
        "       simple_regret_exact_16[slice18],\n",
        "       simple_regret_exact_17[slice18],\n",
        "       simple_regret_exact_18[slice18],\n",
        "       simple_regret_exact_19[slice18],\n",
        "       simple_regret_exact_20[slice18]]\n",
        "\n",
        "approx18_results = pd.DataFrame(approx18).sort_values(by=[0], ascending=False)\n",
        "exact18_results = pd.DataFrame(exact18).sort_values(by=[0], ascending=False)\n",
        "\n",
        "### Best simple regret minimization IQR - approx:\n",
        "lower_approx18 = np.asarray(approx18_results[4:5][0])[0]\n",
        "median_approx18 = np.asarray(approx18_results[9:10][0])[0]\n",
        "upper_approx18 = np.asarray(approx18_results[14:15][0])[0]\n",
        "\n",
        "lower_exact18 = np.asarray(exact18_results[4:5][0])[0]\n",
        "median_exact18 = np.asarray(exact18_results[9:10][0])[0]\n",
        "upper_exact18 = np.asarray(exact18_results[14:15][0])[0]"
      ],
      "execution_count": null,
      "outputs": []
    },
    {
      "cell_type": "code",
      "metadata": {
        "id": "SqiaOpB7Qxf9"
      },
      "source": [
        "# Iteration9 :\n",
        "\n",
        "slice9 = 8\n",
        "\n",
        "approx9 = [simple_regret_approx_1[slice9],\n",
        "       simple_regret_approx_2[slice9],\n",
        "       simple_regret_approx_3[slice9],\n",
        "       simple_regret_approx_4[slice9],\n",
        "       simple_regret_approx_5[slice9],\n",
        "       simple_regret_approx_6[slice9],\n",
        "       simple_regret_approx_7[slice9],\n",
        "       simple_regret_approx_8[slice9],\n",
        "       simple_regret_approx_9[slice9],\n",
        "       simple_regret_approx_10[slice9],\n",
        "       simple_regret_approx_11[slice9],\n",
        "       simple_regret_approx_12[slice9],\n",
        "       simple_regret_approx_13[slice9],\n",
        "       simple_regret_approx_14[slice9],\n",
        "       simple_regret_approx_15[slice9],\n",
        "       simple_regret_approx_16[slice9],\n",
        "       simple_regret_approx_17[slice9],\n",
        "       simple_regret_approx_18[slice9],\n",
        "       simple_regret_approx_19[slice9],\n",
        "       simple_regret_approx_20[slice9]]\n",
        "\n",
        "exact9 = [simple_regret_exact_1[slice9],\n",
        "       simple_regret_exact_2[slice9],\n",
        "       simple_regret_exact_3[slice9],\n",
        "       simple_regret_exact_4[slice9],\n",
        "       simple_regret_exact_5[slice9],\n",
        "       simple_regret_exact_6[slice9],\n",
        "       simple_regret_exact_7[slice9],\n",
        "       simple_regret_exact_8[slice9],\n",
        "       simple_regret_exact_9[slice9],\n",
        "       simple_regret_exact_10[slice9],\n",
        "       simple_regret_exact_11[slice9],\n",
        "       simple_regret_exact_12[slice9],\n",
        "       simple_regret_exact_13[slice9],\n",
        "       simple_regret_exact_14[slice9],\n",
        "       simple_regret_exact_15[slice9],\n",
        "       simple_regret_exact_16[slice9],\n",
        "       simple_regret_exact_17[slice9],\n",
        "       simple_regret_exact_18[slice9],\n",
        "       simple_regret_exact_19[slice9],\n",
        "       simple_regret_exact_20[slice9]]\n",
        "\n",
        "approx9_results = pd.DataFrame(approx9).sort_values(by=[0], ascending=False)\n",
        "exact9_results = pd.DataFrame(exact9).sort_values(by=[0], ascending=False)\n",
        "\n",
        "### Best simple regret minimization IQR - approx:\n",
        "lower_approx9 = np.asarray(approx9_results[4:5][0])[0]\n",
        "median_approx9 = np.asarray(approx9_results[9:10][0])[0]\n",
        "upper_approx9 = np.asarray(approx9_results[14:15][0])[0]\n",
        "\n",
        "lower_exact9 = np.asarray(exact9_results[4:5][0])[0]\n",
        "median_exact9 = np.asarray(exact9_results[9:10][0])[0]\n",
        "upper_exact9 = np.asarray(exact9_results[14:15][0])[0]"
      ],
      "execution_count": null,
      "outputs": []
    },
    {
      "cell_type": "code",
      "metadata": {
        "id": "OQkCCOsPQxf9"
      },
      "source": [
        "# Iteration19 :\n",
        "\n",
        "slice19 = 18\n",
        "\n",
        "approx19 = [simple_regret_approx_1[slice19],\n",
        "       simple_regret_approx_2[slice19],\n",
        "       simple_regret_approx_3[slice19],\n",
        "       simple_regret_approx_4[slice19],\n",
        "       simple_regret_approx_5[slice19],\n",
        "       simple_regret_approx_6[slice19],\n",
        "       simple_regret_approx_7[slice19],\n",
        "       simple_regret_approx_8[slice19],\n",
        "       simple_regret_approx_9[slice19],\n",
        "       simple_regret_approx_10[slice19],\n",
        "       simple_regret_approx_11[slice19],\n",
        "       simple_regret_approx_12[slice19],\n",
        "       simple_regret_approx_13[slice19],\n",
        "       simple_regret_approx_14[slice19],\n",
        "       simple_regret_approx_15[slice19],\n",
        "       simple_regret_approx_16[slice19],\n",
        "       simple_regret_approx_17[slice19],\n",
        "       simple_regret_approx_18[slice19],\n",
        "       simple_regret_approx_19[slice19],\n",
        "       simple_regret_approx_20[slice19]]\n",
        "\n",
        "exact19 = [simple_regret_exact_1[slice19],\n",
        "       simple_regret_exact_2[slice19],\n",
        "       simple_regret_exact_3[slice19],\n",
        "       simple_regret_exact_4[slice19],\n",
        "       simple_regret_exact_5[slice19],\n",
        "       simple_regret_exact_6[slice19],\n",
        "       simple_regret_exact_7[slice19],\n",
        "       simple_regret_exact_8[slice19],\n",
        "       simple_regret_exact_9[slice19],\n",
        "       simple_regret_exact_10[slice19],\n",
        "       simple_regret_exact_11[slice19],\n",
        "       simple_regret_exact_12[slice19],\n",
        "       simple_regret_exact_13[slice19],\n",
        "       simple_regret_exact_14[slice19],\n",
        "       simple_regret_exact_15[slice19],\n",
        "       simple_regret_exact_16[slice19],\n",
        "       simple_regret_exact_17[slice19],\n",
        "       simple_regret_exact_18[slice19],\n",
        "       simple_regret_exact_19[slice19],\n",
        "       simple_regret_exact_20[slice19]]\n",
        "\n",
        "approx19_results = pd.DataFrame(approx19).sort_values(by=[0], ascending=False)\n",
        "exact19_results = pd.DataFrame(exact19).sort_values(by=[0], ascending=False)\n",
        "\n",
        "### Best simple regret minimization IQR - approx:\n",
        "lower_approx19 = np.asarray(approx19_results[4:5][0])[0]\n",
        "median_approx19 = np.asarray(approx19_results[9:10][0])[0]\n",
        "upper_approx19 = np.asarray(approx19_results[14:15][0])[0]\n",
        "\n",
        "lower_exact19 = np.asarray(exact19_results[4:5][0])[0]\n",
        "median_exact19 = np.asarray(exact19_results[9:10][0])[0]\n",
        "upper_exact19 = np.asarray(exact19_results[14:15][0])[0]"
      ],
      "execution_count": null,
      "outputs": []
    },
    {
      "cell_type": "code",
      "metadata": {
        "id": "h4vtWahcQxf-"
      },
      "source": [
        "# Iteration10 :\n",
        "\n",
        "slice10 = 9\n",
        "\n",
        "approx10 = [simple_regret_approx_1[slice10],\n",
        "       simple_regret_approx_2[slice10],\n",
        "       simple_regret_approx_3[slice10],\n",
        "       simple_regret_approx_4[slice10],\n",
        "       simple_regret_approx_5[slice10],\n",
        "       simple_regret_approx_6[slice10],\n",
        "       simple_regret_approx_7[slice10],\n",
        "       simple_regret_approx_8[slice10],\n",
        "       simple_regret_approx_9[slice10],\n",
        "       simple_regret_approx_10[slice10],\n",
        "       simple_regret_approx_11[slice10],\n",
        "       simple_regret_approx_12[slice10],\n",
        "       simple_regret_approx_13[slice10],\n",
        "       simple_regret_approx_14[slice10],\n",
        "       simple_regret_approx_15[slice10],\n",
        "       simple_regret_approx_16[slice10],\n",
        "       simple_regret_approx_17[slice10],\n",
        "       simple_regret_approx_18[slice10],\n",
        "       simple_regret_approx_19[slice10],\n",
        "       simple_regret_approx_20[slice10]]\n",
        "\n",
        "exact10 = [simple_regret_exact_1[slice10],\n",
        "       simple_regret_exact_2[slice10],\n",
        "       simple_regret_exact_3[slice10],\n",
        "       simple_regret_exact_4[slice10],\n",
        "       simple_regret_exact_5[slice10],\n",
        "       simple_regret_exact_6[slice10],\n",
        "       simple_regret_exact_7[slice10],\n",
        "       simple_regret_exact_8[slice10],\n",
        "       simple_regret_exact_9[slice10],\n",
        "       simple_regret_exact_10[slice10],\n",
        "       simple_regret_exact_11[slice10],\n",
        "       simple_regret_exact_12[slice10],\n",
        "       simple_regret_exact_13[slice10],\n",
        "       simple_regret_exact_14[slice10],\n",
        "       simple_regret_exact_15[slice10],\n",
        "       simple_regret_exact_16[slice10],\n",
        "       simple_regret_exact_17[slice10],\n",
        "       simple_regret_exact_18[slice10],\n",
        "       simple_regret_exact_19[slice10],\n",
        "       simple_regret_exact_20[slice10]]\n",
        "\n",
        "approx10_results = pd.DataFrame(approx10).sort_values(by=[0], ascending=False)\n",
        "exact10_results = pd.DataFrame(exact10).sort_values(by=[0], ascending=False)\n",
        "\n",
        "### Best simple regret minimization IQR - approx:\n",
        "lower_approx10 = np.asarray(approx10_results[4:5][0])[0]\n",
        "median_approx10 = np.asarray(approx10_results[9:10][0])[0]\n",
        "upper_approx10 = np.asarray(approx10_results[14:15][0])[0]\n",
        "\n",
        "lower_exact10 = np.asarray(exact10_results[4:5][0])[0]\n",
        "median_exact10 = np.asarray(exact10_results[9:10][0])[0]\n",
        "upper_exact10 = np.asarray(exact10_results[14:15][0])[0]"
      ],
      "execution_count": null,
      "outputs": []
    },
    {
      "cell_type": "code",
      "metadata": {
        "id": "Rsf240pWQxf-"
      },
      "source": [
        "# Iteration20 :\n",
        "\n",
        "slice20 = 19\n",
        "\n",
        "approx20 = [simple_regret_approx_1[slice20],\n",
        "       simple_regret_approx_2[slice20],\n",
        "       simple_regret_approx_3[slice20],\n",
        "       simple_regret_approx_4[slice20],\n",
        "       simple_regret_approx_5[slice20],\n",
        "       simple_regret_approx_6[slice20],\n",
        "       simple_regret_approx_7[slice20],\n",
        "       simple_regret_approx_8[slice20],\n",
        "       simple_regret_approx_9[slice20],\n",
        "       simple_regret_approx_10[slice20],\n",
        "       simple_regret_approx_11[slice20],\n",
        "       simple_regret_approx_12[slice20],\n",
        "       simple_regret_approx_13[slice20],\n",
        "       simple_regret_approx_14[slice20],\n",
        "       simple_regret_approx_15[slice20],\n",
        "       simple_regret_approx_16[slice20],\n",
        "       simple_regret_approx_17[slice20],\n",
        "       simple_regret_approx_18[slice20],\n",
        "       simple_regret_approx_19[slice20],\n",
        "       simple_regret_approx_20[slice20]]\n",
        "\n",
        "exact20 = [simple_regret_exact_1[slice20],\n",
        "       simple_regret_exact_2[slice20],\n",
        "       simple_regret_exact_3[slice20],\n",
        "       simple_regret_exact_4[slice20],\n",
        "       simple_regret_exact_5[slice20],\n",
        "       simple_regret_exact_6[slice20],\n",
        "       simple_regret_exact_7[slice20],\n",
        "       simple_regret_exact_8[slice20],\n",
        "       simple_regret_exact_9[slice20],\n",
        "       simple_regret_exact_10[slice20],\n",
        "       simple_regret_exact_11[slice20],\n",
        "       simple_regret_exact_12[slice20],\n",
        "       simple_regret_exact_13[slice20],\n",
        "       simple_regret_exact_14[slice20],\n",
        "       simple_regret_exact_15[slice20],\n",
        "       simple_regret_exact_16[slice20],\n",
        "       simple_regret_exact_17[slice20],\n",
        "       simple_regret_exact_18[slice20],\n",
        "       simple_regret_exact_19[slice20],\n",
        "       simple_regret_exact_20[slice20]]\n",
        "\n",
        "approx20_results = pd.DataFrame(approx20).sort_values(by=[0], ascending=False)\n",
        "exact20_results = pd.DataFrame(exact20).sort_values(by=[0], ascending=False)\n",
        "\n",
        "### Best simple regret minimization IQR - approx:\n",
        "lower_approx20 = np.asarray(approx20_results[4:5][0])[0]\n",
        "median_approx20 = np.asarray(approx20_results[9:10][0])[0]\n",
        "upper_approx20 = np.asarray(approx20_results[14:15][0])[0]\n",
        "\n",
        "lower_exact20 = np.asarray(exact20_results[4:5][0])[0]\n",
        "median_exact20 = np.asarray(exact20_results[9:10][0])[0]\n",
        "upper_exact20 = np.asarray(exact20_results[14:15][0])[0]"
      ],
      "execution_count": null,
      "outputs": []
    },
    {
      "cell_type": "code",
      "metadata": {
        "id": "gn36RejbQxf_"
      },
      "source": [
        "### Summarize arrays: 'Loser'\n",
        "\n",
        "lower_approx = [lower_approx1,\n",
        "            lower_approx2,\n",
        "            lower_approx3,\n",
        "            lower_approx4,\n",
        "            lower_approx5,\n",
        "            lower_approx6,\n",
        "            lower_approx7,\n",
        "            lower_approx8,\n",
        "            lower_approx9,\n",
        "            lower_approx10,\n",
        "            lower_approx11,\n",
        "            lower_approx12,\n",
        "            lower_approx13,\n",
        "            lower_approx14,\n",
        "            lower_approx15,\n",
        "            lower_approx16,\n",
        "            lower_approx17,\n",
        "            lower_approx18,\n",
        "            lower_approx19,\n",
        "            lower_approx20,\n",
        "            lower_approx21]\n",
        "\n",
        "median_approx = [median_approx1,\n",
        "            median_approx2,\n",
        "            median_approx3,\n",
        "            median_approx4,\n",
        "            median_approx5,\n",
        "            median_approx6,\n",
        "            median_approx7,\n",
        "            median_approx8,\n",
        "            median_approx9,\n",
        "            median_approx10,\n",
        "            median_approx11,\n",
        "            median_approx12,\n",
        "            median_approx13,\n",
        "            median_approx14,\n",
        "            median_approx15,\n",
        "            median_approx16,\n",
        "            median_approx17,\n",
        "            median_approx18,\n",
        "            median_approx19,\n",
        "            median_approx20,\n",
        "            median_approx21]\n",
        "\n",
        "upper_approx = [upper_approx1,\n",
        "            upper_approx2,\n",
        "            upper_approx3,\n",
        "            upper_approx4,\n",
        "            upper_approx5,\n",
        "            upper_approx6,\n",
        "            upper_approx7,\n",
        "            upper_approx8,\n",
        "            upper_approx9,\n",
        "            upper_approx10,\n",
        "            upper_approx11,\n",
        "            upper_approx12,\n",
        "            upper_approx13,\n",
        "            upper_approx14,\n",
        "            upper_approx15,\n",
        "            upper_approx16,\n",
        "            upper_approx17,\n",
        "            upper_approx18,\n",
        "            upper_approx19,\n",
        "            upper_approx20,\n",
        "            upper_approx21]"
      ],
      "execution_count": null,
      "outputs": []
    },
    {
      "cell_type": "code",
      "metadata": {
        "id": "wxtGTOYfQxf_"
      },
      "source": [
        "### Summarize arrays: 'exact'\n",
        "\n",
        "lower_exact = [lower_exact1,\n",
        "            lower_exact2,\n",
        "            lower_exact3,\n",
        "            lower_exact4,\n",
        "            lower_exact5,\n",
        "            lower_exact6,\n",
        "            lower_exact7,\n",
        "            lower_exact8,\n",
        "            lower_exact9,\n",
        "            lower_exact10,\n",
        "            lower_exact11,\n",
        "            lower_exact12,\n",
        "            lower_exact13,\n",
        "            lower_exact14,\n",
        "            lower_exact15,\n",
        "            lower_exact16,\n",
        "            lower_exact17,\n",
        "            lower_exact18,\n",
        "            lower_exact19,\n",
        "            lower_exact20,\n",
        "            lower_exact21]\n",
        "\n",
        "median_exact = [median_exact1,\n",
        "            median_exact2,\n",
        "            median_exact3,\n",
        "            median_exact4,\n",
        "            median_exact5,\n",
        "            median_exact6,\n",
        "            median_exact7,\n",
        "            median_exact8,\n",
        "            median_exact9,\n",
        "            median_exact10,\n",
        "            median_exact11,\n",
        "            median_exact12,\n",
        "            median_exact13,\n",
        "            median_exact14,\n",
        "            median_exact15,\n",
        "            median_exact16,\n",
        "            median_exact17,\n",
        "            median_exact18,\n",
        "            median_exact19,\n",
        "            median_exact20,\n",
        "            median_exact21]\n",
        "\n",
        "upper_exact = [upper_exact1,\n",
        "            upper_exact2,\n",
        "            upper_exact3,\n",
        "            upper_exact4,\n",
        "            upper_exact5,\n",
        "            upper_exact6,\n",
        "            upper_exact7,\n",
        "            upper_exact8,\n",
        "            upper_exact9,\n",
        "            upper_exact10,\n",
        "            upper_exact11,\n",
        "            upper_exact12,\n",
        "            upper_exact13,\n",
        "            upper_exact14,\n",
        "            upper_exact15,\n",
        "            upper_exact16,\n",
        "            upper_exact17,\n",
        "            upper_exact18,\n",
        "            upper_exact19,\n",
        "            upper_exact20,\n",
        "            upper_exact21]"
      ],
      "execution_count": null,
      "outputs": []
    },
    {
      "cell_type": "code",
      "metadata": {
        "id": "2MONq-BXQxgA",
        "colab": {
          "base_uri": "https://localhost:8080/",
          "height": 299
        },
        "outputId": "fba83959-dd48-42b1-f26b-cfffcdb204a9"
      },
      "source": [
        "### Visualise!\n",
        "\n",
        "title = func\n",
        "plt.figure()\n",
        "\n",
        "plt.plot(median_approx, color = 'Green')\n",
        "plt.plot(median_exact, color = 'Blue')\n",
        "\n",
        "xstar = np.arange(0, iters+1, step=1)\n",
        "plt.fill_between(xstar, lower_approx, upper_approx, facecolor = 'Green', alpha=0.4, label='GP ERM Optimization: Approx GP ERM gradients')\n",
        "plt.fill_between(xstar, lower_exact, upper_exact, facecolor = 'Blue', alpha=0.4, label='GP ERM Optimization: Exact GP dERM gradients')\n",
        "\n",
        "plt.title(title, weight = 'bold')\n",
        "plt.xlabel('(Post-initialization) iteration $\\it{k}$', weight = 'bold')\n",
        "plt.ylabel('log(Regret)', weight = 'bold') \n",
        "plt.legend(loc=1) # add plot legend\n",
        "\n",
        "### Make the x-ticks integers, not floats:\n",
        "count = len(xstar)\n",
        "plt.xticks(np.arange(count), np.arange(0, count))\n",
        "plt.show() #visualize!"
      ],
      "execution_count": 100,
      "outputs": [
        {
          "output_type": "display_data",
          "data": {
            "image/png": "[encoded data removed]",
            "text/plain": [
              "<Figure size 432x288 with 1 Axes>"
            ]
          },
          "metadata": {
            "needs_background": "light"
          }
        }
      ]
    },
    {
      "cell_type": "code",
      "metadata": {
        "id": "l5dkR2Id2oiu",
        "colab": {
          "base_uri": "https://localhost:8080/"
        },
        "outputId": "aeb7c905-eacb-47aa-b4fa-c9b7448f8a2f"
      },
      "source": [
        "time_approx, time_exact\n"
      ],
      "execution_count": null,
      "outputs": [
        {
          "output_type": "execute_result",
          "data": {
            "text/plain": [
              "(152.720853805542, 628.0443766117096)"
            ]
          },
          "metadata": {},
          "execution_count": 99
        }
      ]
    },
    {
      "cell_type": "code",
      "metadata": {
        "id": "77BffxK2Fe61"
      },
      "source": [
        ""
      ],
      "execution_count": null,
      "outputs": []
    }
  ]
}