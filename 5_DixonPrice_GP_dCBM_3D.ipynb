{
  "nbformat": 4,
  "nbformat_minor": 0,
  "metadata": {
    "colab": {
      "name": "5. DixonPrice_GP_dCBM_3D.ipynb",
      "provenance": [],
      "collapsed_sections": []
    },
    "kernelspec": {
      "name": "python3",
      "display_name": "Python 3"
    },
    "language_info": {
      "name": "python"
    }
  },
  "cells": [
    {
      "cell_type": "markdown",
      "metadata": {
        "id": "Dqn4dFx7Z2Ir"
      },
      "source": [
        "\n",
        "DixonPrice: 3D\n"
      ]
    },
    {
      "cell_type": "code",
      "metadata": {
        "id": "MJTM_GZZZb5x",
        "colab": {
          "base_uri": "https://localhost:8080/"
        },
        "outputId": "39964769-0eaa-4f98-9fee-380e87aa89e6"
      },
      "source": [
        "pip install pyGPGO\n"
      ],
      "execution_count": 1,
      "outputs": [
        {
          "output_type": "stream",
          "name": "stdout",
          "text": [
            "Requirement already satisfied: pyGPGO in /usr/local/lib/python3.7/dist-packages (0.5.1)\n",
            "Requirement already satisfied: pyMC3 in /usr/local/lib/python3.7/dist-packages (from pyGPGO) (3.11.4)\n",
            "Requirement already satisfied: scikit-learn in /usr/local/lib/python3.7/dist-packages (from pyGPGO) (1.0.1)\n",
            "Requirement already satisfied: mkl in /usr/local/lib/python3.7/dist-packages (from pyGPGO) (2019.0)\n",
            "Requirement already satisfied: Theano-PyMC in /usr/local/lib/python3.7/dist-packages (from pyGPGO) (1.1.2)\n",
            "Requirement already satisfied: scipy in /usr/local/lib/python3.7/dist-packages (from pyGPGO) (1.4.1)\n",
            "Requirement already satisfied: numpy in /usr/local/lib/python3.7/dist-packages (from pyGPGO) (1.19.5)\n",
            "Requirement already satisfied: joblib in /usr/local/lib/python3.7/dist-packages (from pyGPGO) (1.1.0)\n",
            "Requirement already satisfied: intel-openmp in /usr/local/lib/python3.7/dist-packages (from mkl->pyGPGO) (2021.4.0)\n",
            "Requirement already satisfied: arviz>=0.11.0 in /usr/local/lib/python3.7/dist-packages (from pyMC3->pyGPGO) (0.11.4)\n",
            "Requirement already satisfied: patsy>=0.5.1 in /usr/local/lib/python3.7/dist-packages (from pyMC3->pyGPGO) (0.5.2)\n",
            "Requirement already satisfied: typing-extensions>=3.7.4 in /usr/local/lib/python3.7/dist-packages (from pyMC3->pyGPGO) (3.10.0.2)\n",
            "Requirement already satisfied: fastprogress>=0.2.0 in /usr/local/lib/python3.7/dist-packages (from pyMC3->pyGPGO) (1.0.0)\n",
            "Requirement already satisfied: semver>=2.13.0 in /usr/local/lib/python3.7/dist-packages (from pyMC3->pyGPGO) (2.13.0)\n",
            "Requirement already satisfied: dill in /usr/local/lib/python3.7/dist-packages (from pyMC3->pyGPGO) (0.3.4)\n",
            "Requirement already satisfied: pandas>=0.24.0 in /usr/local/lib/python3.7/dist-packages (from pyMC3->pyGPGO) (1.1.5)\n",
            "Requirement already satisfied: cachetools>=4.2.1 in /usr/local/lib/python3.7/dist-packages (from pyMC3->pyGPGO) (4.2.4)\n",
            "Requirement already satisfied: filelock in /usr/local/lib/python3.7/dist-packages (from Theano-PyMC->pyGPGO) (3.3.2)\n",
            "Requirement already satisfied: netcdf4 in /usr/local/lib/python3.7/dist-packages (from arviz>=0.11.0->pyMC3->pyGPGO) (1.5.8)\n",
            "Requirement already satisfied: xarray>=0.16.1 in /usr/local/lib/python3.7/dist-packages (from arviz>=0.11.0->pyMC3->pyGPGO) (0.18.2)\n",
            "Requirement already satisfied: matplotlib>=3.0 in /usr/local/lib/python3.7/dist-packages (from arviz>=0.11.0->pyMC3->pyGPGO) (3.2.2)\n",
            "Requirement already satisfied: packaging in /usr/local/lib/python3.7/dist-packages (from arviz>=0.11.0->pyMC3->pyGPGO) (21.2)\n",
            "Requirement already satisfied: setuptools>=38.4 in /usr/local/lib/python3.7/dist-packages (from arviz>=0.11.0->pyMC3->pyGPGO) (57.4.0)\n",
            "Requirement already satisfied: python-dateutil>=2.1 in /usr/local/lib/python3.7/dist-packages (from matplotlib>=3.0->arviz>=0.11.0->pyMC3->pyGPGO) (2.8.2)\n",
            "Requirement already satisfied: kiwisolver>=1.0.1 in /usr/local/lib/python3.7/dist-packages (from matplotlib>=3.0->arviz>=0.11.0->pyMC3->pyGPGO) (1.3.2)\n",
            "Requirement already satisfied: cycler>=0.10 in /usr/local/lib/python3.7/dist-packages (from matplotlib>=3.0->arviz>=0.11.0->pyMC3->pyGPGO) (0.11.0)\n",
            "Requirement already satisfied: pyparsing!=2.0.4,!=2.1.2,!=2.1.6,>=2.0.1 in /usr/local/lib/python3.7/dist-packages (from matplotlib>=3.0->arviz>=0.11.0->pyMC3->pyGPGO) (2.4.7)\n",
            "Requirement already satisfied: pytz>=2017.2 in /usr/local/lib/python3.7/dist-packages (from pandas>=0.24.0->pyMC3->pyGPGO) (2018.9)\n",
            "Requirement already satisfied: six in /usr/local/lib/python3.7/dist-packages (from patsy>=0.5.1->pyMC3->pyGPGO) (1.15.0)\n",
            "Requirement already satisfied: cftime in /usr/local/lib/python3.7/dist-packages (from netcdf4->arviz>=0.11.0->pyMC3->pyGPGO) (1.5.1.1)\n",
            "Requirement already satisfied: threadpoolctl>=2.0.0 in /usr/local/lib/python3.7/dist-packages (from scikit-learn->pyGPGO) (3.0.0)\n"
          ]
        }
      ]
    },
    {
      "cell_type": "code",
      "metadata": {
        "id": "ZJSSPbwPaEUB"
      },
      "source": [
        "### Import:\n",
        "\n",
        "import numpy as np\n",
        "import scipy as sp\n",
        "import pandas as pd\n",
        "import matplotlib.pyplot as plt\n",
        "import warnings\n",
        "import itertools\n",
        "\n",
        "from pyGPGO.GPGO import GPGO\n",
        "from pyGPGO.surrogates.GaussianProcess import GaussianProcess\n",
        "from pyGPGO.acquisition import Acquisition\n",
        "from pyGPGO.covfunc import squaredExponential\n",
        "\n",
        "from joblib import Parallel, delayed\n",
        "from numpy.linalg import solve, cholesky\n",
        "from scipy.spatial.distance import cdist\n",
        "from scipy.optimize import minimize\n",
        "from scipy.stats import norm\n",
        "import time\n",
        "\n",
        "warnings.filterwarnings(\"ignore\", category=RuntimeWarning)\n"
      ],
      "execution_count": 2,
      "outputs": []
    },
    {
      "cell_type": "code",
      "metadata": {
        "id": "OeYcTUNoaJWa"
      },
      "source": [
        "### Inputs:\n",
        "\n",
        "func = 'DixonPrice'\n",
        "Beta_CBM = 1.5 # Default UCB Acquisition function parameter in pyGPGO https://github.com/josejimenezluna/pyGPGO/blob/master/pyGPGO/acquisition.py#L83\n",
        "n_test = 500\n",
        "eps = 1e-08\n",
        "\n",
        "util_grad_exact = 'dCBM_GP'\n",
        "util_grad_approx = 'CBM'\n",
        "\n",
        "n_init = 5 # random initialisations\n",
        "iters = 30\n",
        "opt = True"
      ],
      "execution_count": 3,
      "outputs": []
    },
    {
      "cell_type": "code",
      "metadata": {
        "id": "xpaEOjdzaPMS"
      },
      "source": [
        "### Objective Function - DixonPrice(x) 3-D:\n",
        "\n",
        "def objfunc(x1_training, x2_training, x3_training):\n",
        "            return  operator * ((x1_training - 1)**2\n",
        "                            + 2 * (2 * x2_training ** 2 - x1_training)**2\n",
        "                            + 3 * (2 * x3_training ** 2 - x2_training)**2      \n",
        "                           )\n",
        "        \n",
        "# Constraints:\n",
        "lb = -10\n",
        "ub = +10\n",
        "    \n",
        "# Input array dimension(s):\n",
        "dim = 3\n",
        "\n",
        "# 3-D inputs' parameter bounds:\n",
        "param = {'x1_training': ('cont', [lb, ub]),\n",
        "                 'x2_training': ('cont', [lb, ub]),\n",
        "                'x3_training': ('cont', [lb, ub])\n",
        "                 }\n",
        "    \n",
        "# True y bounds:\n",
        "y_lb = 0\n",
        "operator = -1 # targets global minimum \n",
        "y_global_orig = y_lb * operator # targets global minimum\n",
        "    \n",
        "# Test data:\n",
        "x1_test = np.linspace(lb, ub, n_test)\n",
        "x2_test = np.linspace(lb, ub, n_test)\n",
        "x3_test = np.linspace(lb, ub, n_test)\n",
        "Xstar = np.column_stack((x1_test, x2_test, x3_test))\n"
      ],
      "execution_count": 4,
      "outputs": []
    },
    {
      "cell_type": "code",
      "metadata": {
        "id": "eYpI3Zm4aGxi"
      },
      "source": [
        "n_start_AcqFunc = iters\n"
      ],
      "execution_count": 5,
      "outputs": []
    },
    {
      "cell_type": "code",
      "metadata": {
        "id": "oO_GUmOoaV0T"
      },
      "source": [
        "### Cumulative Regret Calculator:\n",
        "\n",
        "def min_max_array(x):\n",
        "    new_list = []\n",
        "    for i, num in enumerate(x):\n",
        "            new_list.append(np.min(x[0:i+1]))\n",
        "    return new_list\n",
        "  "
      ],
      "execution_count": 6,
      "outputs": []
    },
    {
      "cell_type": "code",
      "metadata": {
        "id": "kuuJx0IMam9S"
      },
      "source": [
        "### Surrogate derivatives: \n",
        "\n",
        "cov_func = squaredExponential()\n",
        "\n",
        "def kronDelta(X, Xstar):\n",
        "    return cdist(X, Xstar) < np.finfo(np.float32).eps\n",
        "\n",
        "def se(X, Xstar, sigmaf, l, sigman):\n",
        "    return sigmaf * np.exp(-0.5 * cdist(X, Xstar) ** 2 / l ** 2) + sigman * kronDelta(X, Xstar)\n",
        "\n",
        "def deriv_se(X, Xstar, sigmaf, l, sigman):\n",
        "    return cdist(X, Xstar) / (l ** 2) * se(X, Xstar, sigmaf, l, sigman)\n",
        "\n",
        "def der_covmat(X, Xstar, sigmaf, l, sigman):\n",
        "      nx = len(X)\n",
        "      ny = len(Xstar)\n",
        "      return np.round(np.array([deriv_se(np.atleast_2d(i), np.atleast_2d(j), sigmaf, l, sigman) for (i, j) in itertools.product(X, Xstar)]).reshape(nx, ny), 8)\n",
        "\n",
        "class dGaussianProcess(GaussianProcess):\n",
        "    l = GaussianProcess(cov_func, optimize=opt).getcovparams()['l']\n",
        "    sigmaf = GaussianProcess(cov_func, optimize=opt).getcovparams()['sigmaf']\n",
        "    sigman = GaussianProcess(cov_func, optimize=opt).getcovparams()['sigman']\n",
        "\n",
        "    def AcqGrad(self, Xstar):\n",
        "        Xstar = np.atleast_2d(Xstar)\n",
        "        Kstar = self.covfunc.K(self.X, Xstar).T\n",
        "        dKstar = der_covmat(self.X, Xstar, self.sigmaf, self.l, self.sigman).T\n",
        "        \n",
        "        alpha_Kstar = np.dot(np.linalg.inv(self.K + (self.sigman**2) * np.eye(len(self.X))), Kstar.T)\n",
        "        \n",
        "        dm = np.dot(dKstar, self.alpha)\n",
        "        ds = -2 * np.dot(dKstar, alpha_Kstar)\n",
        "        \n",
        "        return dm, ds\n",
        "        "
      ],
      "execution_count": 7,
      "outputs": []
    },
    {
      "cell_type": "code",
      "metadata": {
        "id": "_Dc3YVHVaXz7"
      },
      "source": [
        "class Acquisition_new(Acquisition):    \n",
        "    def __init__(self, mode, eps=eps, **params):\n",
        "        \n",
        "        self.params = params\n",
        "        self.eps = eps\n",
        "\n",
        "        mode_dict = {\n",
        "            'CBM': self.CBM,\n",
        "            'dCBM_GP': self.dCBM_GP\n",
        "        }\n",
        "\n",
        "        self.f = mode_dict[mode]\n",
        "\n",
        "    def CBM(self, tau, mean, std):\n",
        "        z = (mean - y_global_orig - self.eps) / (std + self.eps)\n",
        "        return (std + self.eps) * (z + np.sqrt(Beta_CBM))\n",
        "\n",
        "    def dCBM_GP(self, tau, mean, std, ds, dm):\n",
        "        gamma = (mean - y_global_orig - self.eps) / (std + self.eps)\n",
        "        gamma_h = (mean - tau) / (std + self.eps)\n",
        "        dsdx = ds / (2 * (std + self.eps))\n",
        "        dmdx = (dm - gamma * dsdx) / (std + self.eps)\n",
        "\n",
        "        f = (std + self.eps) * (gamma + np.sqrt(Beta_CBM))\n",
        "        df = dsdx * (gamma + np.sqrt(Beta_CBM)) + (std + self.eps) * dmdx\n",
        "        df_arr = []\n",
        "\n",
        "        for j in range(0, dim):\n",
        "          df_arr.append(df)\n",
        "        return f, np.asarray(df_arr).transpose()\n",
        "        \n",
        "    def d_eval(self, tau, mean, std, ds, dm):\n",
        "    \n",
        "        return self.f(tau, mean, std, ds, dm, **self.params)\n",
        "        "
      ],
      "execution_count": 8,
      "outputs": []
    },
    {
      "cell_type": "code",
      "metadata": {
        "id": "PITEQC8YSl7i"
      },
      "source": [
        "## GPGO_multi: Multistart changed to variable 'n_start_AcqFunc'\n",
        "\n",
        "class GPGO_multi(GPGO):\n",
        "    n_start = n_start_AcqFunc\n",
        "\n",
        "    def _optimizeAcq(self, method='L-BFGS-B', n_start=n_start_AcqFunc):\n",
        "        \n",
        "        start_points_dict = [self._sampleParam() for i in range(n_start)]\n",
        "        start_points_arr = np.array([list(s.values())\n",
        "                                     for s in start_points_dict])\n",
        "        x_best = np.empty((n_start, len(self.parameter_key)))\n",
        "        f_best = np.empty((n_start,))\n",
        "        if self.n_jobs == 1:\n",
        "            for index, start_point in enumerate(start_points_arr):\n",
        "                res = minimize(self._acqWrapper, x0=start_point, method=method,\n",
        "                               bounds=self.parameter_range)\n",
        "                x_best[index], f_best[index] = res.x, np.atleast_1d(res.fun)[0]\n",
        "        else:\n",
        "            opt = Parallel(n_jobs=self.n_jobs)(delayed(minimize)(self._acqWrapper,\n",
        "                                                                 x0=start_point,\n",
        "                                                                 method=method,\n",
        "                                                                 bounds=self.parameter_range) for start_point in\n",
        "                                               start_points_arr)\n",
        "            x_best = np.array([res.x for res in opt])\n",
        "            f_best = np.array([np.atleast_1d(res.fun)[0] for res in opt])\n",
        "\n",
        "        self.best = x_best[np.argmin(f_best)]"
      ],
      "execution_count": 9,
      "outputs": []
    },
    {
      "cell_type": "code",
      "metadata": {
        "id": "b_B-w81BJxKN"
      },
      "source": [
        "## dGPGO:\n",
        "\n",
        "grad = 1\n",
        "\n",
        "class dGPGO(GPGO):\n",
        "    n_start = n_start_AcqFunc\n",
        "\n",
        "    def d_optimizeAcq(self, method='L-BFGS-B', n_start=n_start_AcqFunc):\n",
        "        start_points_dict = [self._sampleParam() for i in range(n_start)]\n",
        "        start_points_arr = np.array([list(s.values())\n",
        "                                     for s in start_points_dict])\n",
        "        x_best = np.empty((n_start, len(self.parameter_key)))\n",
        "        f_best = np.empty((n_start,))\n",
        "        opt = Parallel(n_jobs=self.n_jobs)(delayed(minimize)(self.acqfunc,\n",
        "                                                                 x0=start_point,\n",
        "                                                                 method=method,\n",
        "                                                                 jac = True,\n",
        "                                                                 bounds=self.parameter_range) for start_point in\n",
        "                                               start_points_arr)\n",
        "        x_best = np.array([res.x for res in opt])\n",
        "        f_best = np.array([np.atleast_1d(res.fun)[0] for res in opt])\n",
        "\n",
        "        self.x_best = x_best\n",
        "        self.f_best = f_best\n",
        "        self.best = x_best[np.argmin(f_best)]\n",
        "        self.start_points_arr = start_points_arr\n",
        "\n",
        "        return x_best, f_best\n",
        "    \n",
        "    def run(self, max_iter=10, init_evals=3, resume=False):\n",
        "        \n",
        "        if not resume:\n",
        "            self.init_evals = init_evals\n",
        "            self._firstRun(self.init_evals)\n",
        "            self.logger._printInit(self)\n",
        "        for iteration in range(max_iter):\n",
        "            self.d_optimizeAcq()\n",
        "            self.updateGP()\n",
        "            self.logger._printCurrent(self)\n",
        "\n",
        "    def acqfunc(self, xnew, n_start=n_start_AcqFunc):\n",
        "        new_mean, new_var = self.GP.predict(xnew, return_std=True)\n",
        "        new_std = np.sqrt(new_var + eps)\n",
        "        dm, ds = self.GP.AcqGrad(xnew)\n",
        "        f, df = self.A.d_eval(self.tau, new_mean, new_std, ds=ds, dm=dm)\n",
        "\n",
        "        return -f, -df * grad\n"
      ],
      "execution_count": 10,
      "outputs": []
    },
    {
      "cell_type": "code",
      "metadata": {
        "id": "qXIKGuXVGEg2"
      },
      "source": [
        "###Reproducible set-seeds:\n",
        "\n",
        "run_num_1 = 1\n",
        "run_num_2 = 2\n",
        "run_num_3 = 3\n",
        "run_num_4 = 4\n",
        "run_num_5 = 5\n",
        "run_num_6 = 6\n",
        "run_num_7 = 7\n",
        "run_num_8 = 8\n",
        "run_num_9 = 9\n",
        "run_num_10 = 10\n",
        "run_num_11 = 11\n",
        "run_num_12 = 12\n",
        "run_num_13 = 13\n",
        "run_num_14 = 14\n",
        "run_num_15 = 15\n",
        "run_num_16 = 16\n",
        "run_num_17 = 17\n",
        "run_num_18 = 18\n",
        "run_num_19 = 19\n",
        "run_num_20 = 20\n"
      ],
      "execution_count": 11,
      "outputs": []
    },
    {
      "cell_type": "code",
      "metadata": {
        "colab": {
          "base_uri": "https://localhost:8080/"
        },
        "id": "JEhagQmnTVIK",
        "outputId": "d7938de9-b6e6-40f1-9cf0-59a2a7fa6ac4"
      },
      "source": [
        "start_approx = time.time()\n",
        "start_approx\n"
      ],
      "execution_count": 12,
      "outputs": [
        {
          "output_type": "execute_result",
          "data": {
            "text/plain": [
              "1637164867.5756965"
            ]
          },
          "metadata": {},
          "execution_count": 12
        }
      ]
    },
    {
      "cell_type": "code",
      "metadata": {
        "colab": {
          "base_uri": "https://localhost:8080/"
        },
        "id": "aH0YSTXufD1v",
        "outputId": "21c67c12-e4d1-4f3c-c38e-1a43a8589451"
      },
      "source": [
        "### ESTIMATED GP EI GRADIENTS\n",
        "\n",
        "np.random.seed(run_num_1)\n",
        "surrogate_approx_1 = GaussianProcess(cov_func, optimize=opt)\n",
        "\n",
        "approx_1 = GPGO_multi(surrogate_approx_1, Acquisition_new(util_grad_approx), objfunc, param)\n",
        "approx_1.run(init_evals=n_init, max_iter=iters)\n"
      ],
      "execution_count": 13,
      "outputs": [
        {
          "output_type": "stream",
          "name": "stdout",
          "text": [
            "Evaluation \t Proposed point \t  Current eval. \t Best eval.\n",
            "init   \t [-1.65955991  4.40648987 -9.9977125 ]. \t  -117949.69994259246 \t -1743.4541121077734\n",
            "init   \t [-3.95334855 -7.06488218 -8.1532281 ]. \t  -80377.19459880023 \t -1743.4541121077734\n",
            "init   \t [-6.27479577 -3.08878546 -2.06465052]. \t  -1743.4541121077734 \t -1743.4541121077734\n",
            "init   \t [ 0.77633468 -1.61610971  3.70439001]. \t  -2573.2528931184784 \t -1743.4541121077734\n",
            "init   \t [-5.91095501  7.56234873 -9.45224814]. \t  -116840.74897847573 \t -1743.4541121077734\n",
            "1      \t [-8.03306332 -1.5778475   9.1577906 ]. \t  -86415.93772353831 \t -1743.4541121077734\n",
            "2      \t [-5.34051452  6.14210391 -2.24278712]. \t  -13140.755438034004 \t -1743.4541121077734\n",
            "3      \t [ 8.37203556 -9.9919595   9.53518298]. \t  -183648.52554820437 \t -1743.4541121077734\n",
            "4      \t [-1.07707536  5.6549883   9.80943567]. \t  -113140.57286302134 \t -1743.4541121077734\n",
            "5      \t [9.79910357 4.22244918 4.63600818]. \t  -5922.444680450715 \t -1743.4541121077734\n",
            "6      \t [ 5.40299913 -7.39328438 -9.54169737]. \t  -129326.8620412511 \t -1743.4541121077734\n",
            "7      \t [-10.  10.  10.]. \t  -196621.0 \t -1743.4541121077734\n",
            "8      \t [ 7.14968998  2.39173479 -4.9593384 ]. \t  -6644.899625650721 \t -1743.4541121077734\n",
            "9      \t [ 9.90104645 -8.83274708  0.3341272 ]. \t  -43035.435934238885 \t -1743.4541121077734\n",
            "10     \t [10.         10.         -1.75917473]. \t  -72324.56221209819 \t -1743.4541121077734\n",
            "11     \t [-10. -10.  10.]. \t  -220621.0 \t -1743.4541121077734\n",
            "12     \t [ 10.  10. -10.]. \t  -180581.0 \t -1743.4541121077734\n",
            "13     \t [-10. -10. -10.]. \t  -220621.0 \t -1743.4541121077734\n",
            "14     \t [-9.79655087 -0.19609376 -9.09035709]. \t  -82447.81014507987 \t -1743.4541121077734\n",
            "15     \t [-0.05480801 -6.45799828 10.        ]. \t  -141809.071441502 \t -1743.4541121077734\n",
            "16     \t [10. 10. 10.]. \t  -180581.0 \t -1743.4541121077734\n",
            "17     \t [ 0.10732278 -9.42284864  2.95914126]. \t  -65170.63320267272 \t -1743.4541121077734\n",
            "18     \t [ 0.38761796 -1.24519719 -4.52884665]. \t  -5374.370171419455 \t -1743.4541121077734\n",
            "19     \t [-0.99240715  8.70840228 -2.94641345]. \t  -46841.83303685055 \t -1743.4541121077734\n",
            "20     \t [  1.81387797  10.         -10.        ]. \t  -186856.1403240867 \t -1743.4541121077734\n",
            "21     \t [-6.5567489  -9.62637988 -0.26099507]. \t  -73987.44059117726 \t -1743.4541121077734\n",
            "22     \t [4.72220295 8.68135508 4.83524359]. \t  -47001.24797567851 \t -1743.4541121077734\n",
            "23     \t [-4.42991656  2.29563782  3.30336709]. \t  \u001b[92m-1621.8008277392858\u001b[0m \t -1621.8008277392858\n",
            "24     \t [-4.76277953  9.66490606  4.77394982]. \t  -77311.69863168921 \t -1621.8008277392858\n",
            "25     \t [ 9.68535255 -1.88050578 10.        ]. \t  -122356.30410058911 \t -1621.8008277392858\n",
            "26     \t [5.80191042 0.29550857 0.62289389]. \t  \u001b[92m-87.08304690748001\u001b[0m \t -87.08304690748001\n",
            "27     \t [ 1.40858804 -9.38441133 -4.08754798]. \t  -66554.00276582706 \t -87.08304690748001\n",
            "28     \t [ 9.09202072 -4.09320755 -4.60396999]. \t  -7740.753501713642 \t -87.08304690748001\n",
            "29     \t [-9.74744562  1.56767344 -1.88894561]. \t  -638.5204437489416 \t -87.08304690748001\n",
            "30     \t [-10.           4.84226422   4.96235026]. \t  -12511.19086320629 \t -87.08304690748001\n"
          ]
        }
      ]
    },
    {
      "cell_type": "code",
      "metadata": {
        "colab": {
          "base_uri": "https://localhost:8080/"
        },
        "id": "wTxsSZxFGBB5",
        "outputId": "334df35d-8119-466c-b4f0-1787b4a5b1a4"
      },
      "source": [
        "### ESTIMATED GP EI GRADIENTS\n",
        "\n",
        "np.random.seed(run_num_2)\n",
        "surrogate_approx_2 = GaussianProcess(cov_func, optimize=opt)\n",
        "\n",
        "approx_2 = GPGO_multi(surrogate_approx_2, Acquisition_new(util_grad_approx), objfunc, param)\n",
        "approx_2.run(init_evals=n_init, max_iter=iters)\n"
      ],
      "execution_count": 14,
      "outputs": [
        {
          "output_type": "stream",
          "name": "stdout",
          "text": [
            "Evaluation \t Proposed point \t  Current eval. \t Best eval.\n",
            "init   \t [-1.28010196 -9.48147536  0.99324956]. \t  -65976.47275174354 \t -579.2546019074869\n",
            "init   \t [-1.29355215 -1.59264396 -3.39330358]. \t  -1905.0058741906205 \t -579.2546019074869\n",
            "init   \t [-5.90702732  2.38541933 -4.00690653]. \t  -3296.179887891325 \t -579.2546019074869\n",
            "init   \t [-4.6634545   2.42267666  0.58284189]. \t  -579.2546019074869 \t -579.2546019074869\n",
            "init   \t [-7.30840109  0.27156243 -6.31120269]. \t  -19089.001096649215 \t -579.2546019074869\n",
            "1      \t [ 6.17490542 10.         10.        ]. \t  -183463.11422352164 \t -579.2546019074869\n",
            "2      \t [0.98993642 6.90226231 9.77019402]. \t  -119362.43308455861 \t -579.2546019074869\n",
            "3      \t [ 9.60970158 -5.07492822  5.80487605]. \t  -19340.238894145325 \t -579.2546019074869\n",
            "4      \t [ 2.89052379 -3.76941193  7.60597912]. \t  -44126.90703116023 \t -579.2546019074869\n",
            "5      \t [9.47735243 3.96398709 2.5157724 ]. \t  -1262.1549087902345 \t -579.2546019074869\n",
            "6      \t [ 8.77937768 -3.87353549 -6.37757103]. \t  -22749.403915268038 \t -579.2546019074869\n",
            "7      \t [-10. -10. -10.]. \t  -220621.0 \t -579.2546019074869\n",
            "8      \t [-10.  10. -10.]. \t  -196621.0 \t -579.2546019074869\n",
            "9      \t [-10.          -4.42398775   6.89135535]. \t  -34595.52190849363 \t -579.2546019074869\n",
            "10     \t [ 2.90787822  8.64101201 -5.34154591]. \t  -49919.38480768621 \t -579.2546019074869\n",
            "11     \t [-7.57429365  8.14400589  8.47455737]. \t  -94473.47583875206 \t -579.2546019074869\n",
            "12     \t [ 10.  10. -10.]. \t  -180581.0 \t -579.2546019074869\n",
            "13     \t [ 1.31216908 -9.4098302  -9.23218389]. \t  -158862.0710975185 \t -579.2546019074869\n",
            "14     \t [ -2.46200235   4.74826916 -10.        ]. \t  -118904.48976759556 \t -579.2546019074869\n",
            "15     \t [-10.          10.          -0.44021378]. \t  -88598.19606534562 \t -579.2546019074869\n",
            "16     \t [-9.06110355 -9.56744783 -1.99396877]. \t  -74852.34852606223 \t -579.2546019074869\n",
            "17     \t [ 8.68396904 -9.83826017 -1.64087352]. \t  -69129.3809603587 \t -579.2546019074869\n",
            "18     \t [-2.30038092  9.0759962   3.50312086]. \t  -56538.57476800338 \t -579.2546019074869\n",
            "19     \t [-3.62913944 -1.44676708  8.27943168]. \t  -57727.529246001155 \t -579.2546019074869\n",
            "20     \t [ -1.71374148 -10.          10.        ]. \t  -213684.23139811435 \t -579.2546019074869\n",
            "21     \t [10.          4.86704143 -4.38729802]. \t  -6267.833835126321 \t -579.2546019074869\n",
            "22     \t [ 10. -10. -10.]. \t  -204581.0 \t -579.2546019074869\n",
            "23     \t [ 4.4671417   2.06590647 -7.08928068]. \t  -29122.27663633434 \t -579.2546019074869\n",
            "24     \t [ 3.92357756 -4.54897391 -0.56436562]. \t  -2896.1460578205165 \t -579.2546019074869\n",
            "25     \t [1.47033985 1.67619875 1.74794642]. \t  \u001b[92m-93.64133502430755\u001b[0m \t -93.64133502430755\n",
            "26     \t [ 9.72303567  0.26659165 10.        ]. \t  -119939.98161845985 \t -93.64133502430755\n",
            "27     \t [ 2.00842262 -9.87438548 -1.49428301]. \t  -75114.820765863 \t -93.64133502430755\n",
            "28     \t [4.31407819 9.91559929 1.32987734]. \t  -74110.18709600053 \t -93.64133502430755\n",
            "29     \t [4.9287331  0.42158613 7.75499536]. \t  -43155.31509984878 \t -93.64133502430755\n",
            "30     \t [ 10. -10.  10.]. \t  -204581.0 \t -93.64133502430755\n"
          ]
        }
      ]
    },
    {
      "cell_type": "code",
      "metadata": {
        "colab": {
          "base_uri": "https://localhost:8080/"
        },
        "id": "-dgzIrUIGCGT",
        "outputId": "d455a9d2-13d9-4f86-900c-f9b6c80880c7"
      },
      "source": [
        "### ESTIMATED GP EI GRADIENTS\n",
        "\n",
        "np.random.seed(run_num_3)\n",
        "surrogate_approx_3 = GaussianProcess(cov_func, optimize=opt)\n",
        "\n",
        "approx_3 = GPGO_multi(surrogate_approx_3, Acquisition_new(util_grad_approx), objfunc, param)\n",
        "approx_3.run(init_evals=n_init, max_iter=iters)\n"
      ],
      "execution_count": 15,
      "outputs": [
        {
          "output_type": "stream",
          "name": "stdout",
          "text": [
            "Evaluation \t Proposed point \t  Current eval. \t Best eval.\n",
            "init   \t [ 1.01595805  4.16295645 -4.18190522]. \t  -5112.352385443115 \t -5112.352385443115\n",
            "init   \t [0.2165521  7.85893909 7.92586178]. \t  -72027.10255913956 \t -5112.352385443115\n",
            "init   \t [-7.48829379 -5.85514244 -8.97065593]. \t  -95107.57411907075 \t -5112.352385443115\n",
            "init   \t [-1.18380313 -9.40247578 -0.86333551]. \t  -63726.548838065995 \t -5112.352385443115\n",
            "init   \t [ 2.98288095 -4.43025435  3.52509804]. \t  -5207.626899787465 \t -5112.352385443115\n",
            "1      \t [9.51990845 3.44767352 8.05668217]. \t  -48388.97288671367 \t -5112.352385443115\n",
            "2      \t [-4.79309855  3.83955024  7.91140656]. \t  -46554.468417027776 \t -5112.352385443115\n",
            "3      \t [ 9.76225506  9.4244446  -0.36307223]. \t  -56694.622124347436 \t -5112.352385443115\n",
            "4      \t [ 1.06865668 -1.61214113  9.66323576]. \t  -106482.0605763776 \t -5112.352385443115\n",
            "5      \t [-7.84297806  5.69391695 -0.02389563]. \t  -10741.453238983686 \t -5112.352385443115\n",
            "6      \t [ 10. -10. -10.]. \t  -204581.0 \t -5112.352385443115\n",
            "7      \t [-10. -10.  10.]. \t  -220621.0 \t -5112.352385443115\n",
            "8      \t [ 7.17786075 -7.83402432  1.19325839]. \t  -27091.47249706207 \t -5112.352385443115\n",
            "9      \t [-10.          10.          -8.97853697]. \t  -156930.95271978463 \t -5112.352385443115\n",
            "10     \t [ 10.  10. -10.]. \t  -180581.0 \t -5112.352385443115\n",
            "11     \t [5.35390255 4.3873483  2.58263819]. \t  \u001b[92m-2456.424548745716\u001b[0m \t -2456.424548745716\n",
            "12     \t [-9.50907307 -3.90957298  0.74240852]. \t  -3398.3859955587673 \t -2456.424548745716\n",
            "13     \t [-9.48830419  5.80360482  0.06290394]. \t  -12023.222732258779 \t -2456.424548745716\n",
            "14     \t [ 10. -10.  10.]. \t  -204581.0 \t -2456.424548745716\n",
            "15     \t [ 9.69640151 -2.35649489 -5.86950199]. \t  -15312.967216807909 \t -2456.424548745716\n",
            "16     \t [ 1.96147151 -7.03234903 -8.53738144]. \t  -88847.25536077026 \t -2456.424548745716\n",
            "17     \t [-10.          -0.98446949  10.        ]. \t  -121590.31982492722 \t -2456.424548745716\n",
            "18     \t [-0.39121266 10.         -9.63043872]. \t  -172706.16903724728 \t -2456.424548745716\n",
            "19     \t [ 2.07861159 10.         -0.22336035]. \t  -78640.95846728804 \t -2456.424548745716\n",
            "20     \t [-10.  10.  10.]. \t  -196621.0 \t -2456.424548745716\n",
            "21     \t [-1.81793152 -9.92268212  6.99846349]. \t  -113914.93438470445 \t -2456.424548745716\n",
            "22     \t [-6.15425984  2.22536379 -9.33261637]. \t  -89288.08883023603 \t -2456.424548745716\n",
            "23     \t [  5.90554875   3.92075864 -10.        ]. \t  -116599.23762200579 \t -2456.424548745716\n",
            "24     \t [ 7.45195203 10.         10.        ]. \t  -182491.12923804644 \t -2456.424548745716\n",
            "25     \t [-3.12970548 -0.64167882  1.01169223]. \t  \u001b[92m-69.99785317554218\u001b[0m \t -69.99785317554218\n",
            "26     \t [ 8.78881629 -3.71964707  6.77058483]. \t  -28077.99639878682 \t -69.99785317554218\n",
            "27     \t [1.00000000e+01 6.95389653e-04 1.12328838e+00]. \t  -300.09440144010756 \t -69.99785317554218\n",
            "28     \t [ 1.93034684 -2.90128557 -2.93947455]. \t  -1667.1344340294138 \t -69.99785317554218\n",
            "29     \t [-10.         -10.          -2.44474931]. \t  -89766.881447113 \t -69.99785317554218\n",
            "30     \t [-5.55039919 10.          4.50391329]. \t  -87348.50181269179 \t -69.99785317554218\n"
          ]
        }
      ]
    },
    {
      "cell_type": "code",
      "metadata": {
        "colab": {
          "base_uri": "https://localhost:8080/"
        },
        "id": "hOtG-2sCGCKS",
        "outputId": "264ed75c-d75d-4314-e91a-1f12cc9006ab"
      },
      "source": [
        "### ESTIMATED GP EI GRADIENTS\n",
        "\n",
        "np.random.seed(run_num_4)\n",
        "surrogate_approx_4 = GaussianProcess(cov_func, optimize=opt)\n",
        "\n",
        "approx_4 = GPGO_multi(surrogate_approx_4, Acquisition_new(util_grad_approx), objfunc, param)\n",
        "approx_4.run(init_evals=n_init, max_iter=iters)\n"
      ],
      "execution_count": 16,
      "outputs": [
        {
          "output_type": "stream",
          "name": "stdout",
          "text": [
            "Evaluation \t Proposed point \t  Current eval. \t Best eval.\n",
            "init   \t [9.34059678 0.94464498 9.4536872 ]. \t  -95022.01065457039 \t -12458.30178377884\n",
            "init   \t [ 4.29631987  3.95457649 -5.67821009]. \t  -12458.30178377884 \t -12458.30178377884\n",
            "init   \t [ 9.5254891  -9.8753949  -4.94035275]. \t  -79242.42901009263 \t -12458.30178377884\n",
            "init   \t [-1.30416935  5.58765844 -6.04629851]. \t  -21812.938480423 \t -12458.30178377884\n",
            "init   \t [ 7.25986471  9.66801354 -6.72315517]. \t  -84163.5372919417 \t -12458.30178377884\n",
            "1      \t [-7.83613234 -6.83553186  0.90405303]. \t  -20810.660474524404 \t -12458.30178377884\n",
            "2      \t [-1.80817221  5.2576358   9.81593637]. \t  -111937.03674660696 \t -12458.30178377884\n",
            "3      \t [-10. -10.  10.]. \t  -220621.0 \t -12458.30178377884\n",
            "4      \t [ 1.00294855 -4.92774948  4.0625976 ]. \t  \u001b[92m-8842.060885265299\u001b[0m \t -8842.060885265299\n",
            "5      \t [-10.  10. -10.]. \t  -196621.0 \t -8842.060885265299\n",
            "6      \t [9.81335626 8.39300429 2.56386853]. \t  -34505.04579158221 \t -8842.060885265299\n",
            "7      \t [-0.44581558  2.04164357  3.82391297]. \t  \u001b[92m-2376.3585358713694\u001b[0m \t -2376.3585358713694\n",
            "8      \t [-4.88169358  2.09221169  3.73549934]. \t  -2405.8476927363427 \t -2376.3585358713694\n",
            "9      \t [ 9.67631723 -2.81961879 -7.99372919]. \t  -51336.753667240206 \t -2376.3585358713694\n",
            "10     \t [-8.80278927  8.86702731  2.17180871]. \t  -55243.01694824641 \t -2376.3585358713694\n",
            "11     \t [-10.          -7.88494085 -10.        ]. \t  -165866.38055288693 \t -2376.3585358713694\n",
            "12     \t [10. 10. 10.]. \t  -180581.0 \t -2376.3585358713694\n",
            "13     \t [ 10. -10.  10.]. \t  -204581.0 \t -2376.3585358713694\n",
            "14     \t [-5.43872084 -1.85967035 -7.2845491 ]. \t  -35331.63269033139 \t -2376.3585358713694\n",
            "15     \t [  2.48900091 -10.         -10.        ]. \t  -210323.40664888272 \t -2376.3585358713694\n",
            "16     \t [ 1.44437514 10.          0.91111731]. \t  -79057.52311143278 \t -2376.3585358713694\n",
            "17     \t [-3.30941509 -9.26130841 -4.50582054]. \t  -68625.66917226328 \t -2376.3585358713694\n",
            "18     \t [-2.51043559  1.35162156  9.66083615]. \t  -103109.80608941417 \t -2376.3585358713694\n",
            "19     \t [ 7.33203662 -5.93822437 -2.31489621]. \t  -8859.038660403776 \t -2376.3585358713694\n",
            "20     \t [-7.87097064  4.68615483 -3.69035606]. \t  -6969.006414387881 \t -2376.3585358713694\n",
            "21     \t [ -3.10942881 -10.           5.97139358]. \t  -102360.19553775231 \t -2376.3585358713694\n",
            "22     \t [-7.01501903 10.          9.31053168]. \t  -165845.9082699499 \t -2376.3585358713694\n",
            "23     \t [-10.           0.19673551  10.        ]. \t  -120088.14187494232 \t -2376.3585358713694\n",
            "24     \t [ 1.20154702 -3.44551649 -4.69775462]. \t  -7808.805083541518 \t -2376.3585358713694\n",
            "25     \t [ 9.4488383   1.06500051 -2.25171292]. \t  \u001b[92m-421.5885930260664\u001b[0m \t -421.5885930260664\n",
            "26     \t [ 3.29815427 -3.12869439 10.        ]. \t  -124319.11236497364 \t -421.5885930260664\n",
            "27     \t [10.         -2.47534706  2.89157526]. \t  -1196.8294201798742 \t -421.5885930260664\n",
            "28     \t [ 10.         -10.           2.26056708]. \t  -73507.58487545412 \t -421.5885930260664\n",
            "29     \t [ 10.           3.79561092 -10.        ]. \t  -116277.3692412417 \t -421.5885930260664\n",
            "30     \t [-9.96630454  2.70780548 -9.72239082]. \t  -105503.5846457204 \t -421.5885930260664\n"
          ]
        }
      ]
    },
    {
      "cell_type": "code",
      "metadata": {
        "colab": {
          "base_uri": "https://localhost:8080/"
        },
        "id": "JF_SxcEvGCOl",
        "outputId": "87edfa5e-8149-4947-cbad-275b0872f8c4"
      },
      "source": [
        "### ESTIMATED GP EI GRADIENTS\n",
        "\n",
        "np.random.seed(run_num_5)\n",
        "surrogate_approx_5 = GaussianProcess(cov_func, optimize=opt)\n",
        "\n",
        "approx_5 = GPGO_multi(surrogate_approx_5, Acquisition_new(util_grad_approx), objfunc, param)\n",
        "approx_5.run(init_evals=n_init, max_iter=iters)\n"
      ],
      "execution_count": 17,
      "outputs": [
        {
          "output_type": "stream",
          "name": "stdout",
          "text": [
            "Evaluation \t Proposed point \t  Current eval. \t Best eval.\n",
            "init   \t [-5.56013658  7.41464612 -5.86561689]. \t  -38038.55423396639 \t -504.37713268919686\n",
            "init   \t [ 8.37221816 -0.23177622  2.23487726]. \t  -504.37713268919686 \t -504.37713268919686\n",
            "init   \t [ 5.31815713  0.36835976 -4.06398997]. \t  -3270.33229475548 \t -504.37713268919686\n",
            "init   \t [-6.24557543 -8.38517462  4.76880592]. \t  -51898.195262717614 \t -504.37713268919686\n",
            "init   \t [-1.17381554 -6.83380265  7.59874062]. \t  -62777.04813872957 \t -504.37713268919686\n",
            "1      \t [ 7.40966174  8.45499228 -9.95571575]. \t  -144842.91560178908 \t -504.37713268919686\n",
            "2      \t [10. 10. 10.]. \t  -180581.0 \t -504.37713268919686\n",
            "3      \t [ 10. -10.  10.]. \t  -204581.0 \t -504.37713268919686\n",
            "4      \t [ 3.14692525  9.50918422 -2.23413701]. \t  -63161.457005708806 \t -504.37713268919686\n",
            "5      \t [ 4.56139684 -4.673529    0.23379905]. \t  -3142.4271112122515 \t -504.37713268919686\n",
            "6      \t [-8.35759819 -3.57642182 -5.67300392]. \t  -16239.797542075969 \t -504.37713268919686\n",
            "7      \t [-9.15027025  5.52072129  4.29521813]. \t  -12886.572889318548 \t -504.37713268919686\n",
            "8      \t [-2.25567448 -8.98357177 -4.3364777 ]. \t  -60095.83602661969 \t -504.37713268919686\n",
            "9      \t [-10. -10. -10.]. \t  -220621.0 \t -504.37713268919686\n",
            "10     \t [0.16060364 8.39891606 6.76793435]. \t  -60491.465260348225 \t -504.37713268919686\n",
            "11     \t [-0.06367084  0.88414797  2.94086157]. \t  -814.6043239128834 \t -504.37713268919686\n",
            "12     \t [ 10. -10. -10.]. \t  -204581.0 \t -504.37713268919686\n",
            "13     \t [-9.54259734 -1.43539662  9.21612098]. \t  -88525.01266929683 \t -504.37713268919686\n",
            "14     \t [-10.  10.  10.]. \t  -196621.0 \t -504.37713268919686\n",
            "15     \t [-0.99166892  1.58387929 -5.06673238]. \t  -7504.2589961468575 \t -504.37713268919686\n",
            "16     \t [ 1.32848513 -6.26033632 -9.93252775]. \t  -136198.00417429968 \t -504.37713268919686\n",
            "17     \t [-8.43217072  4.48011232 -2.92997914]. \t  -5291.089806819518 \t -504.37713268919686\n",
            "18     \t [4.54625784 1.64404814 7.63816202]. \t  -39715.96114706488 \t -504.37713268919686\n",
            "19     \t [-3.48410009 -3.68542923 -6.33751434]. \t  -23073.672070863027 \t -504.37713268919686\n",
            "20     \t [ 8.55515795 -8.83885458  4.54935016]. \t  -51254.797088975276 \t -504.37713268919686\n",
            "21     \t [10.          6.19882643 -2.51796612]. \t  -9145.113941536336 \t -504.37713268919686\n",
            "22     \t [-10. -10.  10.]. \t  -220621.0 \t -504.37713268919686\n",
            "23     \t [-6.98749516 -1.57975207  2.05997683]. \t  -654.7989884215308 \t -504.37713268919686\n",
            "24     \t [-10.         -10.          -1.08139026]. \t  -88777.73868058807 \t -504.37713268919686\n",
            "25     \t [-10.  10. -10.]. \t  -196621.0 \t -504.37713268919686\n",
            "26     \t [ 8.4539034  -4.81864478 -5.40476928]. \t  -14939.786800262178 \t -504.37713268919686\n",
            "27     \t [  0.01640867  10.         -10.        ]. \t  -188287.84105401966 \t -504.37713268919686\n",
            "28     \t [-2.67079422 10.          0.51588325]. \t  -82433.29006248384 \t -504.37713268919686\n",
            "29     \t [-10.           2.50094707 -10.        ]. \t  -118151.98042800422 \t -504.37713268919686\n",
            "30     \t [ -3.6154001 -10.        -10.       ]. \t  -215239.76423270025 \t -504.37713268919686\n"
          ]
        }
      ]
    },
    {
      "cell_type": "code",
      "metadata": {
        "colab": {
          "base_uri": "https://localhost:8080/"
        },
        "id": "-kDxZtJsGCR3",
        "outputId": "7b39b909-342e-4f53-9f7e-d9e9c156297f"
      },
      "source": [
        "### ESTIMATED GP EI GRADIENTS\n",
        "\n",
        "np.random.seed(run_num_6)\n",
        "surrogate_approx_6 = GaussianProcess(cov_func, optimize=opt)\n",
        "\n",
        "approx_6 = GPGO_multi(surrogate_approx_6, Acquisition_new(util_grad_approx), objfunc, param)\n",
        "approx_6.run(init_evals=n_init, max_iter=iters)\n"
      ],
      "execution_count": 18,
      "outputs": [
        {
          "output_type": "stream",
          "name": "stdout",
          "text": [
            "Evaluation \t Proposed point \t  Current eval. \t Best eval.\n",
            "init   \t [ 7.85720303 -3.36040389  6.42458246]. \t  -22622.875691874993 \t -747.5861078277044\n",
            "init   \t [-9.16606749 -7.8468664   1.90104128]. \t  -35798.39310944817 \t -747.5861078277044\n",
            "init   \t [ 0.59634724 -1.62385143 -3.29184301]. \t  -1672.0743189422471 \t -747.5861078277044\n",
            "init   \t [ 2.45038864 -1.23717148  4.71764213]. \t  -6281.890680624871 \t -747.5861078277044\n",
            "init   \t [0.36072824 1.577172   2.90710192]. \t  -747.5861078277044 \t -747.5861078277044\n",
            "1      \t [ 4.34551693  9.88414877 -4.88771889]. \t  -77317.5102677862 \t -747.5861078277044\n",
            "2      \t [-1.98503052 -5.08370297  0.47544376]. \t  -5862.449371750896 \t -747.5861078277044\n",
            "3      \t [10. 10. 10.]. \t  -180581.0 \t -747.5861078277044\n",
            "4      \t [-8.30089272  8.76464152 -3.7028615 ]. \t  -53579.172270173985 \t -747.5861078277044\n",
            "5      \t [  9.02513933 -10.         -10.        ]. \t  -205307.19767899875 \t -747.5861078277044\n",
            "6      \t [ 6.83055529 -7.02538607 -5.07603057]. \t  -27205.394503821604 \t -747.5861078277044\n",
            "7      \t [-9.66056066 -7.16632862  9.74146832]. \t  -141747.30545515707 \t -747.5861078277044\n",
            "8      \t [-10.           2.90545791  10.        ]. \t  -118105.20687340775 \t -747.5861078277044\n",
            "9      \t [5.95618828 3.62221445 9.57953935]. \t  -97953.49211296115 \t -747.5861078277044\n",
            "10     \t [-5.91078796  1.78771313 -3.76759999]. \t  -2473.4523782297706 \t -747.5861078277044\n",
            "11     \t [-2.95260572 -8.08108944 -7.89731927]. \t  -88613.08353932237 \t -747.5861078277044\n",
            "12     \t [-8.12416811  9.77114499 -9.4537219 ]. \t  -165001.95305563457 \t -747.5861078277044\n",
            "13     \t [-3.43814158  8.86058719  2.89457629]. \t  -51700.40119621108 \t -747.5861078277044\n",
            "14     \t [ 10.         4.395823 -10.      ]. \t  -116505.22836243296 \t -747.5861078277044\n",
            "15     \t [ 0.19531588 -7.74530203  9.60360643]. \t  -139524.0237475551 \t -747.5861078277044\n",
            "16     \t [ 10. -10.  10.]. \t  -204581.0 \t -747.5861078277044\n",
            "17     \t [7.6617884  6.42053673 3.51931849]. \t  -12240.151748142602 \t -747.5861078277044\n",
            "18     \t [ 10.         -10.           2.42189567]. \t  -73697.72958402599 \t -747.5861078277044\n",
            "19     \t [-8.77555957  1.48716176  2.84256716]. \t  -1089.8910220348698 \t -747.5861078277044\n",
            "20     \t [-9.88318195 -3.87390211 -4.0037223 ]. \t  -7175.697812790049 \t -747.5861078277044\n",
            "21     \t [-2.0301401  -4.92207598 -4.38926331]. \t  -10770.98915286436 \t -747.5861078277044\n",
            "22     \t [ 8.37161609  1.52256748 -3.15774581]. \t  -1100.1497929722439 \t -747.5861078277044\n",
            "23     \t [ 1.13909579 10.          9.21645029]. \t  -155781.85239780453 \t -747.5861078277044\n",
            "24     \t [-10. -10. -10.]. \t  -220621.0 \t -747.5861078277044\n",
            "25     \t [-3.30821682 -2.11292008  6.71502701]. \t  -25873.76070196301 \t -747.5861078277044\n",
            "26     \t [-10.  10.  10.]. \t  -196621.0 \t -747.5861078277044\n",
            "27     \t [ 2.83585479  2.61427406 -8.90361819]. \t  -73184.83908819802 \t -747.5861078277044\n",
            "28     \t [-7.91006318 -0.16730032 -9.60017544]. \t  -102320.45427876181 \t -747.5861078277044\n",
            "29     \t [  2.28090076 -10.           0.56934118]. \t  -78527.48391600486 \t -747.5861078277044\n",
            "30     \t [ 3.82879224 -4.49013866 -0.06577889]. \t  -2732.328668802001 \t -747.5861078277044\n"
          ]
        }
      ]
    },
    {
      "cell_type": "code",
      "metadata": {
        "colab": {
          "base_uri": "https://localhost:8080/"
        },
        "id": "fKB8MCD_GCVI",
        "outputId": "fd810a1e-9999-40ea-e860-5a7c58bc40c6"
      },
      "source": [
        "### ESTIMATED GP EI GRADIENTS\n",
        "\n",
        "np.random.seed(run_num_7)\n",
        "surrogate_approx_7 = GaussianProcess(cov_func, optimize=opt)\n",
        "\n",
        "approx_7 = GPGO_multi(surrogate_approx_7, Acquisition_new(util_grad_approx), objfunc, param)\n",
        "approx_7.run(init_evals=n_init, max_iter=iters)\n"
      ],
      "execution_count": 19,
      "outputs": [
        {
          "output_type": "stream",
          "name": "stdout",
          "text": [
            "Evaluation \t Proposed point \t  Current eval. \t Best eval.\n",
            "init   \t [-8.47383421  5.59837584 -1.23181537]. \t  -10236.238023609843 \t -10236.238023609843\n",
            "init   \t [4.46930356 9.55979024 0.76991741]. \t  -63811.243249036976 \t -10236.238023609843\n",
            "init   \t [ 0.02240927 -8.55897733 -4.6312204 ]. \t  -50862.43407074502 \t -10236.238023609843\n",
            "init   \t [-2.34998349e-03  3.58459992e+00  6.07478072e+00]. \t  -16115.196076305741 \t -10236.238023609843\n",
            "init   \t [-2.38117734 -8.68127306 -4.23708801]. \t  -52860.9167787799 \t -10236.238023609843\n",
            "1      \t [ 10. -10. -10.]. \t  -204581.0 \t -10236.238023609843\n",
            "2      \t [-10. -10.  10.]. \t  -220621.0 \t -10236.238023609843\n",
            "3      \t [ 6.70937122 -8.01304972  2.92508219]. \t  -31552.380495254474 \t -10236.238023609843\n",
            "4      \t [10. 10. 10.]. \t  -180581.0 \t -10236.238023609843\n",
            "5      \t [-8.22186059 -2.09445948 -8.51624651]. \t  -65619.77292042035 \t -10236.238023609843\n",
            "6      \t [-10.  10. -10.]. \t  -196621.0 \t -10236.238023609843\n",
            "7      \t [ 0.64949272  3.16222212 -5.80553909]. \t  -13131.731745588819 \t -10236.238023609843\n",
            "8      \t [ 8.70233855 -0.88933042 -5.32180505]. \t  \u001b[92m-10090.712079055007\u001b[0m \t -10090.712079055007\n",
            "9      \t [-7.6472347   0.36120503  9.43153837]. \t  -94768.2672423226 \t -10090.712079055007\n",
            "10     \t [-10.  10.  10.]. \t  -196621.0 \t -10090.712079055007\n",
            "11     \t [  0.35198567 -10.          10.        ]. \t  -212019.07917700073 \t -10090.712079055007\n",
            "12     \t [ 10.  10. -10.]. \t  -180581.0 \t -10090.712079055007\n",
            "13     \t [ 8.12168052 -1.65200659  9.93099537]. \t  -118750.14092821421 \t -10090.712079055007\n",
            "14     \t [-10. -10. -10.]. \t  -220621.0 \t -10090.712079055007\n",
            "15     \t [ 2.12256335 -0.58827357  0.23889405]. \t  \u001b[92m-6.832576058969283\u001b[0m \t -6.832576058969283\n",
            "16     \t [-7.45118122 -4.049178    1.83864688]. \t  -3660.994722864476 \t -6.832576058969283\n",
            "17     \t [-10.         -10.          -0.74707776]. \t  -88691.71306697113 \t -6.832576058969283\n",
            "18     \t [-1.82782551 10.         10.        ]. \t  -189776.93890118017 \t -6.832576058969283\n",
            "19     \t [ 1.43454677 -3.0054087   6.02637618]. \t  -17717.481254840663 \t -6.832576058969283\n",
            "20     \t [ 10. -10.  10.]. \t  -204581.0 \t -6.832576058969283\n",
            "21     \t [  0.38381117  -2.48999099 -10.        ]. \t  -123295.751928153 \t -6.832576058969283\n",
            "22     \t [-1.93099489 -8.50783372  2.7164457 ]. \t  -44672.80135218479 \t -6.832576058969283\n",
            "23     \t [-1.60658604  9.74308379 -2.65384867]. \t  -73378.72880608868 \t -6.832576058969283\n",
            "24     \t [6.58473518 1.54987441 3.18278777]. \t  -1087.7671015998949 \t -6.832576058969283\n",
            "25     \t [ 8.26738752  5.66350708 -3.60400368]. \t  -7536.684870737244 \t -6.832576058969283\n",
            "26     \t [-2.94016542 -1.33519193 -1.96140213]. \t  -344.7611896494623 \t -6.832576058969283\n",
            "27     \t [-6.18845714 10.          3.50521576]. \t  -85716.15718573314 \t -6.832576058969283\n",
            "28     \t [ -3.95722502   5.63325795 -10.        ]. \t  -122451.96888192113 \t -6.832576058969283\n",
            "29     \t [ 6.96220403 -7.18060635 -3.91695823]. \t  -22830.483886829556 \t -6.832576058969283\n",
            "30     \t [ 3.10371252  9.40473551 -7.72918113]. \t  -96763.41367221483 \t -6.832576058969283\n"
          ]
        }
      ]
    },
    {
      "cell_type": "code",
      "metadata": {
        "colab": {
          "base_uri": "https://localhost:8080/"
        },
        "id": "4unvifF-GCXp",
        "outputId": "d05ab302-fed2-4adb-80c0-3b5dc772b1d1"
      },
      "source": [
        "### ESTIMATED GP EI GRADIENTS\n",
        "\n",
        "np.random.seed(run_num_8)\n",
        "surrogate_approx_8 = GaussianProcess(cov_func, optimize=opt)\n",
        "\n",
        "approx_8 = GPGO_multi(surrogate_approx_8, Acquisition_new(util_grad_approx), objfunc, param)\n",
        "approx_8.run(init_evals=n_init, max_iter=iters)\n"
      ],
      "execution_count": 20,
      "outputs": [
        {
          "output_type": "stream",
          "name": "stdout",
          "text": [
            "Evaluation \t Proposed point \t  Current eval. \t Best eval.\n",
            "init   \t [7.46858806 9.37081326 7.3838908 ]. \t  -86398.56273239222 \t -19.158799931573643\n",
            "init   \t [ 0.61711383 -5.34543344 -9.77202391]. \t  -122028.27716628066 \t -19.158799931573643\n",
            "init   \t [-1.39062363 -1.9529728   0.45349343]. \t  -185.16317561320295 \t -19.158799931573643\n",
            "init   \t [-0.43216408  1.10712948  0.86772035]. \t  -19.158799931573643 \t -19.158799931573643\n",
            "init   \t [5.21791151 4.24749148 2.39364192]. \t  -2079.039537100791 \t -19.158799931573643\n",
            "1      \t [ 5.91149117 -9.35983687 -0.89104356]. \t  -57709.74714740788 \t -19.158799931573643\n",
            "2      \t [-4.01894503  7.30848062  6.93893087]. \t  -48356.33098205576 \t -19.158799931573643\n",
            "3      \t [-6.23415159 -2.85576708  4.59444715]. \t  -7163.787122326564 \t -19.158799931573643\n",
            "4      \t [-0.33954819  6.5470211  -9.44447867]. \t  -103413.2661047698 \t -19.158799931573643\n",
            "5      \t [-10. -10. -10.]. \t  -220621.0 \t -19.158799931573643\n",
            "6      \t [ 10.  10. -10.]. \t  -180581.0 \t -19.158799931573643\n",
            "7      \t [-10. -10.  10.]. \t  -220621.0 \t -19.158799931573643\n",
            "8      \t [-9.29486377 -6.88958424  5.69557689]. \t  -37285.04360880313 \t -19.158799931573643\n",
            "9      \t [ 9.93191874 -6.48819782  8.25144342]. \t  -72165.66228753423 \t -19.158799931573643\n",
            "10     \t [-8.95219212  1.6420083  -8.61750852]. \t  -65232.57426438632 \t -19.158799931573643\n",
            "11     \t [-4.47948963  5.99786732 -0.24312572]. \t  -11816.310068361841 \t -19.158799931573643\n",
            "12     \t [-10.  10. -10.]. \t  -196621.0 \t -19.158799931573643\n",
            "13     \t [-8.60558124e+00  1.01479470e+00 -5.03529082e-03]. \t  -322.84919586402293 \t -19.158799931573643\n",
            "14     \t [ 9.25705011  0.14402992 -7.94817345]. \t  -48019.542267675366 \t -19.158799931573643\n",
            "15     \t [ 8.22100509 -8.64643551 -9.60155389]. \t  -151761.14913680343 \t -19.158799931573643\n",
            "16     \t [ 4.50184336 -2.26786091  2.15283875]. \t  -478.5119793244565 \t -19.158799931573643\n",
            "17     \t [ 7.42704428 -6.30046155  8.41770504]. \t  -76125.29945778343 \t -19.158799931573643\n",
            "18     \t [  0.17457351 -10.          10.        ]. \t  -212161.08346964853 \t -19.158799931573643\n",
            "19     \t [-7.97530381 -6.04260086 -1.22141284]. \t  -13447.41707982804 \t -19.158799931573643\n",
            "20     \t [-10.  10.  10.]. \t  -196621.0 \t -19.158799931573643\n",
            "21     \t [-1.37433958 -1.59585952 10.        ]. \t  -122011.97601792924 \t -19.158799931573643\n",
            "22     \t [6.98526465 1.39903925 9.90344793]. \t  -113846.15867472783 \t -19.158799931573643\n",
            "23     \t [ -3.61555967 -10.          -5.5442112 ]. \t  -98266.5896560924 \t -19.158799931573643\n",
            "24     \t [ 5.71369206 10.         -3.46546207]. \t  -76106.14266207295 \t -19.158799931573643\n",
            "25     \t [-0.74882156 -8.22705272  2.94502495]. \t  -39021.06410490612 \t -19.158799931573643\n",
            "26     \t [-9.22384552 10.          2.15108959]. \t  -87655.42996078459 \t -19.158799931573643\n",
            "27     \t [-2.5619464   0.66970805 -5.76777079]. \t  -13051.073370192873 \t -19.158799931573643\n",
            "28     \t [ 0.48446368 10.          1.82534988]. \t  -79646.55484822077 \t -19.158799931573643\n",
            "29     \t [-7.49693902  2.10016901 10.        ]. \t  -118097.80495765452 \t -19.158799931573643\n",
            "30     \t [ 3.57269391  3.36447173 -4.1269439 ]. \t  -3560.9528006359424 \t -19.158799931573643\n"
          ]
        }
      ]
    },
    {
      "cell_type": "code",
      "metadata": {
        "colab": {
          "base_uri": "https://localhost:8080/"
        },
        "id": "85OIXcg7GCaJ",
        "outputId": "8a7c96c0-0969-4b5d-8c37-40805006c43a"
      },
      "source": [
        "### ESTIMATED GP EI GRADIENTS\n",
        "\n",
        "np.random.seed(run_num_9)\n",
        "surrogate_approx_9 = GaussianProcess(cov_func, optimize=opt)\n",
        "\n",
        "approx_9 = GPGO_multi(surrogate_approx_9, Acquisition_new(util_grad_approx), objfunc, param)\n",
        "approx_9.run(init_evals=n_init, max_iter=iters)\n"
      ],
      "execution_count": 21,
      "outputs": [
        {
          "output_type": "stream",
          "name": "stdout",
          "text": [
            "Evaluation \t Proposed point \t  Current eval. \t Best eval.\n",
            "init   \t [-9.79251692  0.03749184 -0.08453414]. \t  -308.3769452572715 \t -308.3769452572715\n",
            "init   \t [-7.32340942 -7.15777829 -5.62882649]. \t  -39098.793761550274 \t -308.3769452572715\n",
            "init   \t [-1.62983639 -5.03797663 -8.31880698]. \t  -67224.5603542052 \t -308.3769452572715\n",
            "init   \t [-3.0900272  -6.66447307  7.57118171]. \t  -61063.84970572342 \t -308.3769452572715\n",
            "init   \t [ 9.01928063 -9.22503248  3.98214783]. \t  -57052.59558792292 \t -308.3769452572715\n",
            "1      \t [2.99080926 7.21663846 9.41692024]. \t  -107317.26583764593 \t -308.3769452572715\n",
            "2      \t [ 6.86233684  2.90237997 -3.94602224]. \t  -2626.2381369461364 \t -308.3769452572715\n",
            "3      \t [-9.77584307 -9.02200933  2.98685213]. \t  -61841.45747865176 \t -308.3769452572715\n",
            "4      \t [-2.00413361  1.08900426  2.95561752]. \t  -852.467214273503 \t -308.3769452572715\n",
            "5      \t [-4.78366291  9.89454735 -5.84814606]. \t  -90773.6139043633 \t -308.3769452572715\n",
            "6      \t [ 7.08809023 -0.77927986  8.97599599]. \t  -78756.71445675654 \t -308.3769452572715\n",
            "7      \t [ 10.  10. -10.]. \t  -180581.0 \t -308.3769452572715\n",
            "8      \t [-8.88335986 10.          9.66066937]. \t  -180985.353120844 \t -308.3769452572715\n",
            "9      \t [-10.          -1.00259606   8.35657039]. \t  -59771.22652071526 \t -308.3769452572715\n",
            "10     \t [ 6.11629874 -8.74204803 -0.96542318]. \t  -43423.330956225946 \t -308.3769452572715\n",
            "11     \t [-3.68375612  9.41134101  3.13351293]. \t  -65734.97192601097 \t -308.3769452572715\n",
            "12     \t [3.01277451 9.9078286  1.97878079]. \t  -74760.19292573501 \t -308.3769452572715\n",
            "13     \t [-8.22545226  0.94352057 -9.98576062]. \t  -118476.9822257634 \t -308.3769452572715\n",
            "14     \t [ 0.44220267  4.50851033 -6.70718937]. \t  -25146.604153165645 \t -308.3769452572715\n",
            "15     \t [ 10. -10. -10.]. \t  -204581.0 \t -308.3769452572715\n",
            "16     \t [-4.03608807  4.70420508  1.44305851]. \t  -4691.083547721373 \t -308.3769452572715\n",
            "17     \t [9.18884834 5.371142   5.62581791]. \t  -14840.535031823034 \t -308.3769452572715\n",
            "18     \t [-4.52770155  3.38415911 10.        ]. \t  -117509.03559717785 \t -308.3769452572715\n",
            "19     \t [-10.  10. -10.]. \t  -196621.0 \t -308.3769452572715\n",
            "20     \t [-10. -10.  10.]. \t  -220621.0 \t -308.3769452572715\n",
            "21     \t [ 2.35781057 -3.41542509  2.50186577]. \t  -1643.2163196046088 \t -308.3769452572715\n",
            "22     \t [-10.          10.          -1.18672946]. \t  -88475.80139466506 \t -308.3769452572715\n",
            "23     \t [ 7.51577187 -2.7378072  -7.97825362]. \t  -50887.66177819751 \t -308.3769452572715\n",
            "24     \t [ 3.28394895 -8.6133445   9.52359929]. \t  -150423.4042669566 \t -308.3769452572715\n",
            "25     \t [-4.52609274  0.22854012 -3.51422086]. \t  -1869.9048808379864 \t -308.3769452572715\n",
            "26     \t [-9.85126982  5.06959159  4.47032002]. \t  -11275.15470775295 \t -308.3769452572715\n",
            "27     \t [10. 10. 10.]. \t  -180581.0 \t -308.3769452572715\n",
            "28     \t [ 10. -10.  10.]. \t  -204581.0 \t -308.3769452572715\n",
            "29     \t [-10. -10. -10.]. \t  -220621.0 \t -308.3769452572715\n",
            "30     \t [ 8.46168039 -2.17064711  0.78347425]. \t  \u001b[92m-92.17210284870518\u001b[0m \t -92.17210284870518\n"
          ]
        }
      ]
    },
    {
      "cell_type": "code",
      "metadata": {
        "colab": {
          "base_uri": "https://localhost:8080/"
        },
        "id": "QQBR-qJPGCcp",
        "outputId": "8064e21b-7244-44d6-ed9a-8215743ccb2d"
      },
      "source": [
        "### ESTIMATED GP EI GRADIENTS\n",
        "\n",
        "np.random.seed(run_num_10)\n",
        "surrogate_approx_10 = GaussianProcess(cov_func, optimize=opt)\n",
        "\n",
        "approx_10 = GPGO_multi(surrogate_approx_10, Acquisition_new(util_grad_approx), objfunc, param)\n",
        "approx_10.run(init_evals=n_init, max_iter=iters)\n"
      ],
      "execution_count": 22,
      "outputs": [
        {
          "output_type": "stream",
          "name": "stdout",
          "text": [
            "Evaluation \t Proposed point \t  Current eval. \t Best eval.\n",
            "init   \t [ 5.42641287 -9.58496101  2.6729647 ]. \t  -65323.138576781035 \t -11089.42002600802\n",
            "init   \t [ 4.97607765 -0.02985975 -5.50406709]. \t  -11089.42002600802 \t -11089.42002600802\n",
            "init   \t [-6.0387427   5.21061424 -6.61778327]. \t  -27690.457734888914 \t -11089.42002600802\n",
            "init   \t [-8.23320372  3.70719637  9.06786692]. \t  -80154.14403008527 \t -11089.42002600802\n",
            "init   \t [-9.92103467  0.24384527  6.25241923]. \t  -18545.57155390516 \t -11089.42002600802\n",
            "1      \t [6.10446394 0.43294305 8.17297762]. \t  -53288.212919444646 \t -11089.42002600802\n",
            "2      \t [10. 10. 10.]. \t  -180581.0 \t -11089.42002600802\n",
            "3      \t [-2.9726724  -7.13226058 10.        ]. \t  -150655.87022522473 \t -11089.42002600802\n",
            "4      \t [3.25643503 8.71340004 2.25458364]. \t  -44169.54631375984 \t -11089.42002600802\n",
            "5      \t [-4.51864821 -4.41820786 -7.58640717]. \t  -46684.2942823814 \t -11089.42002600802\n",
            "6      \t [ 8.09627953 -9.91552173 -8.52992239]. \t  -143623.97605290846 \t -11089.42002600802\n",
            "7      \t [ 10.  10. -10.]. \t  -180581.0 \t -11089.42002600802\n",
            "8      \t [-10. -10. -10.]. \t  -220621.0 \t -11089.42002600802\n",
            "9      \t [-2.62611678  4.02345805  1.06172834]. \t  \u001b[92m-2472.892474081595\u001b[0m \t -2472.892474081595\n",
            "10     \t [ 10. -10.  10.]. \t  -204581.0 \t -2472.892474081595\n",
            "11     \t [-10.         -10.           5.15724651]. \t  -100301.59016453935 \t -2472.892474081595\n",
            "12     \t [4.46588649 0.41056736 4.72710494]. \t  -5928.386985062376 \t -2472.892474081595\n",
            "13     \t [-10.          10.          -0.48182449]. \t  -88593.78817015109 \t -2472.892474081595\n",
            "14     \t [-4.47185473  9.81338461  6.19550375]. \t  -91157.51812623827 \t -2472.892474081595\n",
            "15     \t [ 0.24009394 -4.2583773  -0.17910105]. \t  -2652.586112496535 \t -2472.892474081595\n",
            "16     \t [ 0.95530338  8.7616668  -7.43967209]. \t  -77732.98782373544 \t -2472.892474081595\n",
            "17     \t [-10.  10. -10.]. \t  -196621.0 \t -2472.892474081595\n",
            "18     \t [10.          5.08994008 -1.53035904]. \t  -3578.4794793000174 \t -2472.892474081595\n",
            "19     \t [-8.87916609 -0.77879581 -2.17159724]. \t  \u001b[92m-614.0641895215111\u001b[0m \t -614.0641895215111\n",
            "20     \t [2.85295713 8.88794756 9.47942193]. \t  -135688.81964229376 \t -614.0641895215111\n",
            "21     \t [  1.96647323  -4.32296337 -10.        ]. \t  -127752.22681069486 \t -614.0641895215111\n",
            "22     \t [-2.32920352 -0.33795702  6.66475247]. \t  -23881.140729947387 \t -614.0641895215111\n",
            "23     \t [ 10.           2.85656525 -10.        ]. \t  -116757.48462351138 \t -614.0641895215111\n",
            "24     \t [10.         -1.85131961  0.94399076]. \t  \u001b[92m-140.39316399743134\u001b[0m \t -140.39316399743134\n",
            "25     \t [-6.41522866 -9.36379388 -1.26693803]. \t  -66614.69851860056 \t -140.39316399743134\n",
            "26     \t [-2.95203474 10.         -1.39035523]. \t  -82507.54680271176 \t -140.39316399743134\n",
            "27     \t [  0.34242189 -10.          -5.39724451]. \t  -93705.21556800326 \t -140.39316399743134\n",
            "28     \t [ -0.47866424   2.4334385  -10.        ]. \t  -117403.48405176621 \t -140.39316399743134\n",
            "29     \t [ 9.86832269 -7.03646675 -1.16157646]. \t  -16260.329894886263 \t -140.39316399743134\n",
            "30     \t [-10.           0.37462403 -10.        ]. \t  -119883.25721831692 \t -140.39316399743134\n"
          ]
        }
      ]
    },
    {
      "cell_type": "code",
      "metadata": {
        "colab": {
          "base_uri": "https://localhost:8080/"
        },
        "id": "JS8ejeQ2GCfi",
        "outputId": "0dff890c-2d57-4111-a27c-8d43d937495d"
      },
      "source": [
        "### ESTIMATED GP EI GRADIENTS\n",
        "\n",
        "np.random.seed(run_num_11)\n",
        "surrogate_approx_11 = GaussianProcess(cov_func, optimize=opt)\n",
        "\n",
        "approx_11 = GPGO_multi(surrogate_approx_11, Acquisition_new(util_grad_approx), objfunc, param)\n",
        "approx_11.run(init_evals=n_init, max_iter=iters)\n"
      ],
      "execution_count": 23,
      "outputs": [
        {
          "output_type": "stream",
          "name": "stdout",
          "text": [
            "Evaluation \t Proposed point \t  Current eval. \t Best eval.\n",
            "init   \t [-6.39460622 -9.61049517 -0.73562947]. \t  -73449.7462395723 \t -22.303897517794855\n",
            "init   \t [ 4.49867858 -1.59592791 -0.29145804]. \t  -22.303897517794855 \t -22.303897517794855\n",
            "init   \t [-9.74438371 -0.25256785  8.83613305]. \t  -73699.8605668882 \t -22.303897517794855\n",
            "init   \t [ 7.01590179  4.5992894  -7.82527856]. \t  -44207.59530328671 \t -22.303897517794855\n",
            "init   \t [ 7.87808341  7.14308494 -6.69826765]. \t  -38246.569253964415 \t -22.303897517794855\n",
            "1      \t [-1.96647039  6.95957995  4.35698359]. \t  -22430.99927361658 \t -22.303897517794855\n",
            "2      \t [-3.72641694  8.61531845 -5.23307798]. \t  -52726.91681995238 \t -22.303897517794855\n",
            "3      \t [  4.61331014 -10.         -10.        ]. \t  -208664.97316107762 \t -22.303897517794855\n",
            "4      \t [8.79978443 9.21187338 4.01322808]. \t  -53436.69770955808 \t -22.303897517794855\n",
            "5      \t [ 5.40088552 -8.93292028  7.72280751]. \t  -96888.8410801737 \t -22.303897517794855\n",
            "6      \t [-10. -10. -10.]. \t  -220621.0 \t -22.303897517794855\n",
            "7      \t [-9.91700398  2.82413986 -1.82953825]. \t  -1502.4804901611444 \t -22.303897517794855\n",
            "8      \t [9.19882162 0.03064205 8.95268462]. \t  -77296.27028686141 \t -22.303897517794855\n",
            "9      \t [-10.  10.  10.]. \t  -196621.0 \t -22.303897517794855\n",
            "10     \t [-1.96545086 -1.97359411 -9.02310706]. \t  -81682.70067891656 \t -22.303897517794855\n",
            "11     \t [-10. -10.  10.]. \t  -220621.0 \t -22.303897517794855\n",
            "12     \t [ 9.51210692 -3.77811071 -6.62262265]. \t  -25911.963175652418 \t -22.303897517794855\n",
            "13     \t [-1.168663   -1.26752222  5.50685239]. \t  -11544.758109851899 \t -22.303897517794855\n",
            "14     \t [ 1.3925504  -7.5833256  -1.12331643]. \t  -26126.11925624919 \t -22.303897517794855\n",
            "15     \t [ 10.         -10.          -1.28196489]. \t  -72810.62258028943 \t -22.303897517794855\n",
            "16     \t [-10.  10. -10.]. \t  -196621.0 \t -22.303897517794855\n",
            "17     \t [ -2.1130387 -10.         10.       ]. \t  -214009.05183125642 \t -22.303897517794855\n",
            "18     \t [  0.12693098   5.15875306 -10.        ]. \t  -119529.00568049468 \t -22.303897517794855\n",
            "19     \t [4.32747811 2.91897659 3.41806042]. \t  -1588.6076203626196 \t -22.303897517794855\n",
            "20     \t [-10.          10.          -0.21307477]. \t  -88615.5766320945 \t -22.303897517794855\n",
            "21     \t [-1.20785097  0.31138189 -1.29876097]. \t  -36.93532149308824 \t -22.303897517794855\n",
            "22     \t [-6.12631494 -2.78958821 -2.63686625]. \t  -1827.9303427141288 \t -22.303897517794855\n",
            "23     \t [-10.           2.77946243  -8.77349999]. \t  -69972.81709413444 \t -22.303897517794855\n",
            "24     \t [-3.08867458 -9.33713157 -7.79278504]. \t  -114315.40037974225 \t -22.303897517794855\n",
            "25     \t [ 2.69741318  0.07454158 -4.85036223]. \t  -6637.966211909346 \t -22.303897517794855\n",
            "26     \t [10.          2.19360018 -2.04051875]. \t  -194.1548421713497 \t -22.303897517794855\n",
            "27     \t [ 3.62282104  9.9624909  -1.36398564]. \t  -76079.89040467892 \t -22.303897517794855\n",
            "28     \t [ 9.38980336 -3.87812418  2.49833366]. \t  -1729.6247211715158 \t -22.303897517794855\n",
            "29     \t [-4.48707248  4.40854495 10.        ]. \t  -118557.92446558988 \t -22.303897517794855\n",
            "30     \t [-6.73320298 -5.70614097  5.06205742]. \t  -20117.20691149625 \t -22.303897517794855\n"
          ]
        }
      ]
    },
    {
      "cell_type": "code",
      "metadata": {
        "colab": {
          "base_uri": "https://localhost:8080/"
        },
        "id": "DXwjUVZ4GCii",
        "outputId": "d3b34f96-7fa6-4527-f12a-b403621e3970"
      },
      "source": [
        "### ESTIMATED GP EI GRADIENTS\n",
        "\n",
        "np.random.seed(run_num_12)\n",
        "surrogate_approx_12 = GaussianProcess(cov_func, optimize=opt)\n",
        "\n",
        "approx_12 = GPGO_multi(surrogate_approx_12, Acquisition_new(util_grad_approx), objfunc, param)\n",
        "approx_12.run(init_evals=n_init, max_iter=iters)\n"
      ],
      "execution_count": 24,
      "outputs": [
        {
          "output_type": "stream",
          "name": "stdout",
          "text": [
            "Evaluation \t Proposed point \t  Current eval. \t Best eval.\n",
            "init   \t [-6.91674315  4.80099393 -4.7336997 ]. \t  -10487.591252066548 \t -4586.38475927115\n",
            "init   \t [ 0.67478787 -9.70850075  8.37494016]. \t  -138053.19180525147 \t -4586.38475927115\n",
            "init   \t [ 8.01429708 -9.33157145  9.13898673]. \t  -148578.70720060062 \t -4586.38475927115\n",
            "init   \t [-7.25581357 -4.32343294  2.12166369]. \t  -4586.38475927115 \t -4586.38475927115\n",
            "init   \t [ 8.88450272  7.05471082 -9.95481533]. \t  -126104.01453704505 \t -4586.38475927115\n",
            "1      \t [ 4.05244711 -3.44861047 -3.30704942]. \t  \u001b[92m-2711.705028601448\u001b[0m \t -2711.705028601448\n",
            "2      \t [-9.8399332  -9.79123196  1.94917609]. \t  -82290.79401902205 \t -2711.705028601448\n",
            "3      \t [-9.24117561 -6.89977426 -6.58701988]. \t  -48252.938906954136 \t -2711.705028601448\n",
            "4      \t [-9.90274624 -5.05558204  6.5981439 ]. \t  -33027.813423262836 \t -2711.705028601448\n",
            "5      \t [8.11179655 4.25164412 2.83994041]. \t  \u001b[92m-2046.5141241551942\u001b[0m \t -2046.5141241551942\n",
            "6      \t [-1.0203127   6.70305372  2.93327516]. \t  -16854.29441646725 \t -2046.5141241551942\n",
            "7      \t [-5.42414735 10.         10.        ]. \t  -192739.4303007897 \t -2046.5141241551942\n",
            "8      \t [-3.39588922 -3.70052717  9.95424593]. \t  -124174.59831589606 \t -2046.5141241551942\n",
            "9      \t [ 9.85622862 10.         10.        ]. \t  -180687.74037755502 \t -2046.5141241551942\n",
            "10     \t [ 1.62129934 -1.02214826  3.1747845 ]. \t  \u001b[92m-1346.6858399430973\u001b[0m \t -1346.6858399430973\n",
            "11     \t [ 10.          -9.68473645 -10.        ]. \t  -195059.23228490114 \t -1346.6858399430973\n",
            "12     \t [ 10.         -1.3108988 -10.       ]. \t  -121745.38219646411 \t -1346.6858399430973\n",
            "13     \t [-0.1062215   0.88504267 -9.50278409]. \t  -96905.48414226453 \t -1346.6858399430973\n",
            "14     \t [-1.52361308  8.92528175 -8.84260182]. \t  -116980.07166015083 \t -1346.6858399430973\n",
            "15     \t [-0.47370456 -9.97762256  0.31387618]. \t  -79976.78296998542 \t -1346.6858399430973\n",
            "16     \t [-10.  10. -10.]. \t  -196621.0 \t -1346.6858399430973\n",
            "17     \t [-0.16968381 -8.11405766 -9.04896018]. \t  -123397.5308195758 \t -1346.6858399430973\n",
            "18     \t [ 9.98959263 -3.47289247  0.74989442]. \t  \u001b[92m-543.673734881878\u001b[0m \t -543.673734881878\n",
            "19     \t [ -7.61479008   0.32084746 -10.        ]. \t  -119811.83243782865 \t -543.673734881878\n",
            "20     \t [ 4.52874965  8.03034915 -3.11785973]. \t  -31375.886547675673 \t -543.673734881878\n",
            "21     \t [-0.4303725   4.55837918  9.74714145]. \t  -106708.8747453606 \t -543.673734881878\n",
            "22     \t [ 6.72999519 -9.85288555  3.98217806]. \t  -75475.66507226418 \t -543.673734881878\n",
            "23     \t [-8.10098369  0.61845424  8.65164439]. \t  -66917.66088073654 \t -543.673734881878\n",
            "24     \t [ 9.43339296 -1.12600839  6.30586064]. \t  -19681.365480912948 \t -543.673734881878\n",
            "25     \t [-10.          10.           0.48148545]. \t  -88593.82554328408 \t -543.673734881878\n",
            "26     \t [-7.78147157  3.46637642  1.99101335]. \t  -2160.9739442116324 \t -543.673734881878\n",
            "27     \t [-2.40167932 -3.47786338 -2.79615081]. \t  -2522.0444474386723 \t -543.673734881878\n",
            "28     \t [10.          1.83188637 -2.82872388]. \t  -705.1187338717451 \t -543.673734881878\n",
            "29     \t [ 0.82655294  0.84917855 -3.31070482]. \t  -1332.9204930727701 \t -543.673734881878\n",
            "30     \t [-10. -10.  10.]. \t  -220621.0 \t -543.673734881878\n"
          ]
        }
      ]
    },
    {
      "cell_type": "code",
      "metadata": {
        "colab": {
          "base_uri": "https://localhost:8080/"
        },
        "id": "CphOPndPGClX",
        "outputId": "5a9b4def-5b70-4abc-ce51-f2610a010d23"
      },
      "source": [
        "### ESTIMATED GP EI GRADIENTS\n",
        "\n",
        "np.random.seed(run_num_13)\n",
        "surrogate_approx_13 = GaussianProcess(cov_func, optimize=opt)\n",
        "\n",
        "approx_13 = GPGO_multi(surrogate_approx_13, Acquisition_new(util_grad_approx), objfunc, param)\n",
        "approx_13.run(init_evals=n_init, max_iter=iters)\n"
      ],
      "execution_count": 25,
      "outputs": [
        {
          "output_type": "stream",
          "name": "stdout",
          "text": [
            "Evaluation \t Proposed point \t  Current eval. \t Best eval.\n",
            "init   \t [ 5.55404821 -5.2491756   6.48557065]. \t  -28895.231649642476 \t -7190.67128147545\n",
            "init   \t [ 9.31498396  9.45202228 -0.93101505]. \t  -57617.86193657745 \t -7190.67128147545\n",
            "init   \t [2.18084926 5.51053029 2.8322669 ]. \t  -7190.67128147545 \t -7190.67128147545\n",
            "init   \t [ 4.44036459 -9.29926952 -4.03101058]. \t  -62045.794621798595 \t -7190.67128147545\n",
            "init   \t [-8.82975016  7.14121885 -2.54291944]. \t  -24761.06708561053 \t -7190.67128147545\n",
            "1      \t [ 0.185244   -0.40233217  9.1114829 ]. \t  -83108.09560590271 \t -7190.67128147545\n",
            "2      \t [-2.55507975  5.16954611 -8.57852975]. \t  -66788.32667697628 \t -7190.67128147545\n",
            "3      \t [-4.04492519 -9.41811807  2.86360578]. \t  -67871.1485238979 \t -7190.67128147545\n",
            "4      \t [ 5.82685351 -2.07230908 -7.09410447]. \t  -31695.800000421277 \t -7190.67128147545\n",
            "5      \t [-9.72135464 -7.69244795 -6.22844507]. \t  -54735.99736938843 \t -7190.67128147545\n",
            "6      \t [ 1.70981611 -7.96842051  6.63640935]. \t  -59069.60046239685 \t -7190.67128147545\n",
            "7      \t [10. 10. 10.]. \t  -180581.0 \t -7190.67128147545\n",
            "8      \t [-10. -10.  10.]. \t  -220621.0 \t -7190.67128147545\n",
            "9      \t [-2.06134886  9.83003215  6.16274698]. \t  -89428.5811113947 \t -7190.67128147545\n",
            "10     \t [-9.07950825  4.05883741  9.39334859]. \t  -92811.09564931945 \t -7190.67128147545\n",
            "11     \t [ 10.  10. -10.]. \t  -180581.0 \t -7190.67128147545\n",
            "12     \t [  7.24529481   3.47197157 -10.        ]. \t  -116477.58237035536 \t -7190.67128147545\n",
            "13     \t [-0.82148405 -2.10242859 -4.54051038]. \t  \u001b[92m-5823.762334442238\u001b[0m \t -5823.762334442238\n",
            "14     \t [-8.38082518 -2.64602889  2.11985023]. \t  \u001b[92m-1496.0846497224004\u001b[0m \t -1496.0846497224004\n",
            "15     \t [ 10. -10. -10.]. \t  -204581.0 \t -1496.0846497224004\n",
            "16     \t [ -2.76193825 -10.         -10.        ]. \t  -214538.95938526784 \t -1496.0846497224004\n",
            "17     \t [-10.  10. -10.]. \t  -196621.0 \t -1496.0846497224004\n",
            "18     \t [ 10. -10.  10.]. \t  -204581.0 \t -1496.0846497224004\n",
            "19     \t [6.28948877 1.1576258  7.72507096]. \t  -41964.78613282861 \t -1496.0846497224004\n",
            "20     \t [4.84759227 0.35590622 3.48973611]. \t  -1785.1061528226342 \t -1496.0846497224004\n",
            "21     \t [ -5.28861825  -1.42005135 -10.        ]. \t  -121923.44652622809 \t -1496.0846497224004\n",
            "22     \t [-3.22530397  2.64826847  0.31329859]. \t  \u001b[92m-631.1494169884314\u001b[0m \t -631.1494169884314\n",
            "23     \t [ 3.21798739  9.44684592 -4.51345585]. \t  -64380.7952238696 \t -631.1494169884314\n",
            "24     \t [-5.72607296 -6.87463942  6.90169012]. \t  -51442.85628267613 \t -631.1494169884314\n",
            "25     \t [ 9.51650739 -7.45265382  0.55396087]. \t  -20899.682211133037 \t -631.1494169884314\n",
            "26     \t [10.          2.0281976  -1.09883716]. \t  \u001b[92m-87.73442932964942\u001b[0m \t -87.73442932964942\n",
            "27     \t [-0.5812114  -2.86605021  2.53793913]. \t  -1325.1887255243537 \t -87.73442932964942\n",
            "28     \t [ 3.08244943  7.20370875 10.        ]. \t  -131798.31472734787 \t -87.73442932964942\n",
            "29     \t [-7.53329135  0.39955566 -3.69982415]. \t  -2379.55497120382 \t -87.73442932964942\n",
            "30     \t [-2.56923486  9.47404909 -0.87632637]. \t  -66511.27402663742 \t -87.73442932964942\n"
          ]
        }
      ]
    },
    {
      "cell_type": "code",
      "metadata": {
        "colab": {
          "base_uri": "https://localhost:8080/"
        },
        "id": "ojHTeARNGCoi",
        "outputId": "8873087a-42c2-43a2-92b8-f03eada4d43a"
      },
      "source": [
        "### ESTIMATED GP EI GRADIENTS\n",
        "\n",
        "np.random.seed(run_num_14)\n",
        "surrogate_approx_14 = GaussianProcess(cov_func, optimize=opt)\n",
        "\n",
        "approx_14 = GPGO_multi(surrogate_approx_14, Acquisition_new(util_grad_approx), objfunc, param)\n",
        "approx_14.run(init_evals=n_init, max_iter=iters)\n"
      ],
      "execution_count": 26,
      "outputs": [
        {
          "output_type": "stream",
          "name": "stdout",
          "text": [
            "Evaluation \t Proposed point \t  Current eval. \t Best eval.\n",
            "init   \t [0.27886688 5.46330104 7.40855371]. \t  -39702.89936997373 \t -1439.5830530376063\n",
            "init   \t [-9.83906103 -3.80528149  9.15207479]. \t  -91186.29991894927 \t -1439.5830530376063\n",
            "init   \t [ 0.26233425 -3.6343115   0.78399875]. \t  -1439.5830530376063 \t -1439.5830530376063\n",
            "init   \t [-5.57490115  6.12962716 -3.15490749]. \t  -13643.962145478023 \t -1439.5830530376063\n",
            "init   \t [ 0.77777698 -9.88252429  3.46304956]. \t  -79141.18744713577 \t -1439.5830530376063\n",
            "1      \t [ 7.75074914 -8.33301678  4.9312824 ]. \t  -44170.557703432896 \t -1439.5830530376063\n",
            "2      \t [ 2.4133841   6.9805318  -1.42862351]. \t  -18093.267359135454 \t -1439.5830530376063\n",
            "3      \t [ 0.20170278 -6.14709147 -9.49686071]. \t  -115740.3239857176 \t -1439.5830530376063\n",
            "4      \t [ 9.06294459  1.2992097  -8.82658009]. \t  -71756.96862893569 \t -1439.5830530376063\n",
            "5      \t [-10.          -9.67608451  -1.39470707]. \t  -78490.8175635322 \t -1439.5830530376063\n",
            "6      \t [10. 10. 10.]. \t  -180581.0 \t -1439.5830530376063\n",
            "7      \t [-9.98486983  5.65195322  8.85829998]. \t  -79698.68163272133 \t -1439.5830530376063\n",
            "8      \t [-10.  10. -10.]. \t  -196621.0 \t -1439.5830530376063\n",
            "9      \t [8.03566973 2.7583499  4.26213982]. \t  -3534.1471433950155 \t -1439.5830530376063\n",
            "10     \t [-7.47179403 -0.71296606 -3.68301312]. \t  -2541.432189840287 \t -1439.5830530376063\n",
            "11     \t [ 10.  10. -10.]. \t  -180581.0 \t -1439.5830530376063\n",
            "12     \t [ 4.41565709 -2.51625723 -4.8900489 ]. \t  -7750.48116422293 \t -1439.5830530376063\n",
            "13     \t [-3.36390978  3.12902366  6.11942711]. \t  -16523.004276481952 \t -1439.5830530376063\n",
            "14     \t [-1.09561874  1.18907994 -9.15027414]. \t  -82968.28063735437 \t -1439.5830530376063\n",
            "15     \t [0.89026243 7.74449105 2.59197279]. \t  -28449.696044348027 \t -1439.5830530376063\n",
            "16     \t [ 2.85949821 -9.98935033 -4.12664889]. \t  -83217.46643077736 \t -1439.5830530376063\n",
            "17     \t [ 10. -10. -10.]. \t  -204581.0 \t -1439.5830530376063\n",
            "18     \t [ 2.24496432 -3.39912563 -6.205258  ]. \t  -20269.19299563198 \t -1439.5830530376063\n",
            "19     \t [  0.01107635  10.         -10.        ]. \t  -188292.11713851982 \t -1439.5830530376063\n",
            "20     \t [ 9.11704147  8.11686007 -1.28688085]. \t  -30221.086342978495 \t -1439.5830530376063\n",
            "21     \t [10.         -6.82088129 -2.28930336]. \t  -14773.371071121785 \t -1439.5830530376063\n",
            "22     \t [-10. -10. -10.]. \t  -220621.0 \t -1439.5830530376063\n",
            "23     \t [ 6.66736482 -2.10806493  8.76035782]. \t  -72672.14237973142 \t -1439.5830530376063\n",
            "24     \t [-2.95354338 -3.98996586  7.95024535]. \t  -53451.409707959625 \t -1439.5830530376063\n",
            "25     \t [-10.           2.21371793 -10.        ]. \t  -118263.40678369 \t -1439.5830530376063\n",
            "26     \t [-5.72171004  9.17409769  3.63315056]. \t  -61522.030174831045 \t -1439.5830530376063\n",
            "27     \t [10.          0.56797638 -1.62484172]. \t  \u001b[92m-322.6405329981218\u001b[0m \t -322.6405329981218\n",
            "28     \t [-7.53645057 -9.49972259  5.12846309]. \t  -82350.32743769948 \t -322.6405329981218\n",
            "29     \t [-9.6873172   2.95685055  2.43227052]. \t  -1827.287947208513 \t -322.6405329981218\n",
            "30     \t [-3.71467361 -6.00310651 -3.50746123]. \t  -14320.738016105928 \t -322.6405329981218\n"
          ]
        }
      ]
    },
    {
      "cell_type": "code",
      "metadata": {
        "colab": {
          "base_uri": "https://localhost:8080/"
        },
        "id": "vCJzn4vWGCs3",
        "outputId": "26048004-8457-4af7-e20b-4ae133a80ac0"
      },
      "source": [
        "### ESTIMATED GP EI GRADIENTS\n",
        "\n",
        "np.random.seed(run_num_15)\n",
        "surrogate_approx_15 = GaussianProcess(cov_func, optimize=opt)\n",
        "\n",
        "approx_15 = GPGO_multi(surrogate_approx_15, Acquisition_new(util_grad_approx), objfunc, param)\n",
        "approx_15.run(init_evals=n_init, max_iter=iters)\n"
      ],
      "execution_count": 27,
      "outputs": [
        {
          "output_type": "stream",
          "name": "stdout",
          "text": [
            "Evaluation \t Proposed point \t  Current eval. \t Best eval.\n",
            "init   \t [ 6.97635395 -6.4220815  -8.91273571]. \t  -93407.31094956005 \t -3815.237318891498\n",
            "init   \t [-2.76923108 -4.49198143  0.6000045 ]. \t  -3815.237318891498 \t -3815.237318891498\n",
            "init   \t [-3.88162169 -3.91051282 -7.76517448]. \t  -48905.136415868226 \t -3815.237318891498\n",
            "init   \t [-5.00201972  8.35259796 -4.71706293]. \t  -45736.265979350435 \t -3815.237318891498\n",
            "init   \t [4.35547375 7.31430068 6.14158964]. \t  -35004.84714820178 \t -3815.237318891498\n",
            "1      \t [-4.02002687  0.75490439  3.31255076]. \t  \u001b[92m-1425.6331932181074\u001b[0m \t -1425.6331932181074\n",
            "2      \t [ 2.60405856  6.24027381 -8.67997755]. \t  -73928.10815893668 \t -1425.6331932181074\n",
            "3      \t [-10. -10.  10.]. \t  -220621.0 \t -1425.6331932181074\n",
            "4      \t [ 5.05406978 -4.8669869   5.11668062]. \t  -13423.651465814419 \t -1425.6331932181074\n",
            "5      \t [ 9.6912661   3.58725193 -5.40327777]. \t  -9600.747023774824 \t -1425.6331932181074\n",
            "6      \t [ 3.08146014  2.69442923 -0.59029664]. \t  \u001b[92m-277.9785514012049\u001b[0m \t -277.9785514012049\n",
            "7      \t [-8.19638088  7.14691904  8.96231951]. \t  -95126.48688189717 \t -277.9785514012049\n",
            "8      \t [ 10. -10.  10.]. \t  -204581.0 \t -277.9785514012049\n",
            "9      \t [-0.25085639  1.02709015  9.44666885]. \t  -94480.36267714304 \t -277.9785514012049\n",
            "10     \t [ 10.  10. -10.]. \t  -180581.0 \t -277.9785514012049\n",
            "11     \t [-3.38742675  9.02974145  2.77021806]. \t  -55556.80748053861 \t -277.9785514012049\n",
            "12     \t [10.          1.72420506  4.09119014]. \t  -3138.340869256356 \t -277.9785514012049\n",
            "13     \t [-8.49611629 -0.73181514  8.95868757]. \t  -78275.97397070796 \t -277.9785514012049\n",
            "14     \t [-10. -10. -10.]. \t  -220621.0 \t -277.9785514012049\n",
            "15     \t [-9.72970835  1.63019389 -8.98385101]. \t  -77165.35620565368 \t -277.9785514012049\n",
            "16     \t [-5.32591819 -7.29907843  9.27044003]. \t  -121391.54496541593 \t -277.9785514012049\n",
            "17     \t [ 3.18306572 -9.35162255 -2.19739649]. \t  -60066.07915978792 \t -277.9785514012049\n",
            "18     \t [ 5.11932394 -4.93502407  1.09823596]. \t  -3979.022555380835 \t -277.9785514012049\n",
            "19     \t [-10.  10. -10.]. \t  -196621.0 \t -277.9785514012049\n",
            "20     \t [10.         10.         -0.68354092]. \t  -72527.55224270976 \t -277.9785514012049\n",
            "21     \t [10. 10. 10.]. \t  -180581.0 \t -277.9785514012049\n",
            "22     \t [ 6.46112784 -2.66874154 -4.01838062]. \t  -3818.321914637139 \t -277.9785514012049\n",
            "23     \t [  1.89040779 -10.          10.        ]. \t  -210795.6138797133 \t -277.9785514012049\n",
            "24     \t [  4.23741443  -0.24382384 -10.        ]. \t  -120337.17213266982 \t -277.9785514012049\n",
            "25     \t [-8.44074462 -9.4847566   1.72009177]. \t  -71761.26584332652 \t -277.9785514012049\n",
            "26     \t [-10.          -1.76390782   1.1444673 ]. \t  -705.0003976905192 \t -277.9785514012049\n",
            "27     \t [ 2.50944919 10.         -1.0722264 ]. \t  -78185.21429683467 \t -277.9785514012049\n",
            "28     \t [-0.75985865 10.          9.86883304]. \t  -183051.65539923904 \t -277.9785514012049\n",
            "29     \t [10.         -2.77489977 10.        ]. \t  -123492.30290420832 \t -277.9785514012049\n",
            "30     \t [ 10.         -10.          -3.90150584]. \t  -77188.02902714368 \t -277.9785514012049\n"
          ]
        }
      ]
    },
    {
      "cell_type": "code",
      "metadata": {
        "colab": {
          "base_uri": "https://localhost:8080/"
        },
        "id": "bGGkhp-kGCw6",
        "outputId": "2cc1aa32-1dd3-44e9-c6b0-cde3bbefa286"
      },
      "source": [
        "### ESTIMATED GP EI GRADIENTS\n",
        "\n",
        "np.random.seed(run_num_16)\n",
        "surrogate_approx_16 = GaussianProcess(cov_func, optimize=opt)\n",
        "\n",
        "approx_16 = GPGO_multi(surrogate_approx_16, Acquisition_new(util_grad_approx), objfunc, param)\n",
        "approx_16.run(init_evals=n_init, max_iter=iters)\n"
      ],
      "execution_count": 28,
      "outputs": [
        {
          "output_type": "stream",
          "name": "stdout",
          "text": [
            "Evaluation \t Proposed point \t  Current eval. \t Best eval.\n",
            "init   \t [-5.53417842  0.46326683  1.01402913]. \t  -121.43529547027163 \t -121.43529547027163\n",
            "init   \t [-9.087961   -2.78542329 -5.53838117]. \t  -13651.622350397936 \t -121.43529547027163\n",
            "init   \t [ 3.77452324 -6.7253715  -8.59350266]. \t  -86575.28663542298 \t -121.43529547027163\n",
            "init   \t [ 8.8202172   1.2736276  -8.44015321]. \t  -59934.59518842736 \t -121.43529547027163\n",
            "init   \t [ 4.45281022 -6.83095653 -4.99437387]. \t  -25459.039011491368 \t -121.43529547027163\n",
            "1      \t [4.18505664 9.44091052 6.20078235]. \t  -74267.36337655598 \t -121.43529547027163\n",
            "2      \t [ 5.46645324 -3.10791558  7.00820468]. \t  -31211.732976445848 \t -121.43529547027163\n",
            "3      \t [-10.  10.  10.]. \t  -196621.0 \t -121.43529547027163\n",
            "4      \t [-2.61755868 -8.2924165   4.84857415]. \t  -48472.3424987587 \t -121.43529547027163\n",
            "5      \t [-3.40441603  9.0441433  -4.42822156]. \t  -58527.14818017682 \t -121.43529547027163\n",
            "6      \t [-10. -10.  10.]. \t  -220621.0 \t -121.43529547027163\n",
            "7      \t [ 10.  10. -10.]. \t  -180581.0 \t -121.43529547027163\n",
            "8      \t [-10.  10. -10.]. \t  -196621.0 \t -121.43529547027163\n",
            "9      \t [ 10. -10.  10.]. \t  -204581.0 \t -121.43529547027163\n",
            "10     \t [ 9.98852149 -7.93099291 -5.611128  ]. \t  -41986.637450421564 \t -121.43529547027163\n",
            "11     \t [-10. -10. -10.]. \t  -220621.0 \t -121.43529547027163\n",
            "12     \t [-6.70295985 -0.04314245  9.76940108]. \t  -109506.97739819076 \t -121.43529547027163\n",
            "13     \t [2.19961654 2.78945804 0.93295817]. \t  -361.85271982770576 \t -121.43529547027163\n",
            "14     \t [ 0.63794182  2.82092093 -9.10305012]. \t  -80086.04334971186 \t -121.43529547027163\n",
            "15     \t [-1.41974346 -4.23498454 -1.06925942]. \t  -2914.5275838549464 \t -121.43529547027163\n",
            "16     \t [-2.99904029 10.          3.74837125]. \t  -83416.10538742958 \t -121.43529547027163\n",
            "17     \t [ 6.28965542 -9.07104084  2.13178207]. \t  -51121.13321252578 \t -121.43529547027163\n",
            "18     \t [ 5.0665034   9.1123723  -1.44259043]. \t  -51934.72655193542 \t -121.43529547027163\n",
            "19     \t [10.          2.65288918 10.        ]. \t  -116951.86816469861 \t -121.43529547027163\n",
            "20     \t [10.         -1.29178242 -0.41721443]. \t  -177.84837542892168 \t -121.43529547027163\n",
            "21     \t [  2.64355064  10.         -10.        ]. \t  -186201.83746568038 \t -121.43529547027163\n",
            "22     \t [-10.         -10.           0.68015142]. \t  -88679.0807648964 \t -121.43529547027163\n",
            "23     \t [ 1.52758579  3.56604812 10.        ]. \t  -116902.14645194798 \t -121.43529547027163\n",
            "24     \t [-10.           4.720412    -2.88046758]. \t  -6498.546137643794 \t -121.43529547027163\n",
            "25     \t [ -7.04697402   2.19912608 -10.        ]. \t  -117999.37994395349 \t -121.43529547027163\n",
            "26     \t [8.77221009 4.45394018 2.63431738]. \t  -2236.9023931606534 \t -121.43529547027163\n",
            "27     \t [-9.83301814 -3.39581463  4.42078081]. \t  -7695.933476633805 \t -121.43529547027163\n",
            "28     \t [ -2.80830777 -10.         -10.        ]. \t  -214576.92260633223 \t -121.43529547027163\n",
            "29     \t [10. 10. 10.]. \t  -180581.0 \t -121.43529547027163\n",
            "30     \t [-1.28438459 -1.48435254  5.17878436]. \t  -9185.948483199845 \t -121.43529547027163\n"
          ]
        }
      ]
    },
    {
      "cell_type": "code",
      "metadata": {
        "id": "Yrs2mp7hGC1Z",
        "colab": {
          "base_uri": "https://localhost:8080/"
        },
        "outputId": "ab071aad-318e-44f7-9a97-06aee986fb89"
      },
      "source": [
        "### ESTIMATED GP EI GRADIENTS\n",
        "\n",
        "np.random.seed(run_num_17)\n",
        "surrogate_approx_17 = GaussianProcess(cov_func, optimize=opt)\n",
        "\n",
        "approx_17 = GPGO_multi(surrogate_approx_17, Acquisition_new(util_grad_approx), objfunc, param)\n",
        "approx_17.run(init_evals=n_init, max_iter=iters)\n"
      ],
      "execution_count": 29,
      "outputs": [
        {
          "output_type": "stream",
          "name": "stdout",
          "text": [
            "Evaluation \t Proposed point \t  Current eval. \t Best eval.\n",
            "init   \t [-4.10669995  0.61173511 -6.16958426]. \t  -17181.1334683022 \t -11774.913131399897\n",
            "init   \t [-8.64199284  5.7397092   3.12667044]. \t  -11774.913131399897 \t -11774.913131399897\n",
            "init   \t [ 2.75041792  1.51205788 -9.21874168]. \t  -85144.34017448343 \t -11774.913131399897\n",
            "init   \t [-2.84372791  8.91366374 -8.79910639]. \t  -116232.21251957516 \t -11774.913131399897\n",
            "init   \t [ 7.28084207  7.54581052 -8.97612669]. \t  -93540.66819534874 \t -11774.913131399897\n",
            "1      \t [ 3.53524771 -7.6305547  -1.10007868]. \t  -25809.301647344466 \t -11774.913131399897\n",
            "2      \t [9.06605384 1.70871417 1.66132937]. \t  \u001b[92m-129.46210636737467\u001b[0m \t -129.46210636737467\n",
            "3      \t [5.27601463 9.99566767 6.35850193]. \t  -90783.98305117982 \t -129.46210636737467\n",
            "4      \t [-8.52512993 -8.03930931 -1.75006035]. \t  -38662.67579605237 \t -129.46210636737467\n",
            "5      \t [0.15625771 0.16541122 1.58122263]. \t  \u001b[92m-70.86764058592647\u001b[0m \t -70.86764058592647\n",
            "6      \t [0.77793961 2.17142302 2.23437955]. \t  -332.9224565238143 \t -70.86764058592647\n",
            "7      \t [  7.12760651 -10.          10.        ]. \t  -206737.0679024568 \t -70.86764058592647\n",
            "8      \t [-6.17878165 -8.81449665  8.90115876]. \t  -136204.46206638045 \t -70.86764058592647\n",
            "9      \t [ 5.55941333  5.00707289 -2.04022336]. \t  -4028.949859384822 \t -70.86764058592647\n",
            "10     \t [-3.26691993 -8.47611685 -8.60217547]. \t  -116659.8446216239 \t -70.86764058592647\n",
            "11     \t [9.00876915 0.79791433 2.81059692]. \t  -858.903901979533 \t -70.86764058592647\n",
            "12     \t [-3.773484    1.89286097  9.69074558]. \t  -103970.0539578572 \t -70.86764058592647\n",
            "13     \t [-10.  10.  10.]. \t  -196621.0 \t -70.86764058592647\n",
            "14     \t [ 10. -10. -10.]. \t  -204581.0 \t -70.86764058592647\n",
            "15     \t [10.         -0.33605966 -8.82916323]. \t  -73508.9168450371 \t -70.86764058592647\n",
            "16     \t [ 7.90047648  3.58319541 10.        ]. \t  -116418.42178900015 \t -70.86764058592647\n",
            "17     \t [-8.05501836  9.91462754 -5.73696897]. \t  -93227.20230280404 \t -70.86764058592647\n",
            "18     \t [ 2.79486045 -3.78680801  5.85414641]. \t  -17037.680421919216 \t -70.86764058592647\n",
            "19     \t [ 9.49806312  3.07555832 -0.10628427]. \t  -277.65373988554927 \t -70.86764058592647\n",
            "20     \t [10.         10.         -1.98645203]. \t  -72294.33120277792 \t -70.86764058592647\n",
            "21     \t [-9.29284485 -0.82691655  6.17168679]. \t  -18123.166948298905 \t -70.86764058592647\n",
            "22     \t [ 10.         -10.           1.83574828]. \t  -73121.6771238751 \t -70.86764058592647\n",
            "23     \t [-2.77714698  8.91916167  2.81131136]. \t  -52566.88397801562 \t -70.86764058592647\n",
            "24     \t [  4.20267652  -5.66472214 -10.        ]. \t  -134098.30667676817 \t -70.86764058592647\n",
            "25     \t [-2.63300648 -7.81043315  2.76687511]. \t  -32686.658232137095 \t -70.86764058592647\n",
            "26     \t [-10. -10. -10.]. \t  -220621.0 \t -70.86764058592647\n",
            "27     \t [-10.           0.44111215  -1.21900889]. \t  -356.0849392292537 \t -70.86764058592647\n",
            "28     \t [-10.           3.55710542  -8.51236308]. \t  -62564.98264229719 \t -70.86764058592647\n",
            "29     \t [ 9.33787483 -5.53897022 -3.86262718]. \t  -9237.17009504105 \t -70.86764058592647\n",
            "30     \t [ 9.94548832 -3.66608525  8.8425447 ]. \t  -77498.99600424143 \t -70.86764058592647\n"
          ]
        }
      ]
    },
    {
      "cell_type": "code",
      "metadata": {
        "id": "f0HIEP3PIUEa",
        "colab": {
          "base_uri": "https://localhost:8080/"
        },
        "outputId": "b2ee5a29-61e5-491e-d5f2-0f71389c2d64"
      },
      "source": [
        "### ESTIMATED GP EI GRADIENTS\n",
        "\n",
        "np.random.seed(run_num_18)\n",
        "surrogate_approx_18 = GaussianProcess(cov_func, optimize=opt)\n",
        "\n",
        "approx_18 = GPGO_multi(surrogate_approx_18, Acquisition_new(util_grad_approx), objfunc, param)\n",
        "approx_18.run(init_evals=n_init, max_iter=iters)\n"
      ],
      "execution_count": 30,
      "outputs": [
        {
          "output_type": "stream",
          "name": "stdout",
          "text": [
            "Evaluation \t Proposed point \t  Current eval. \t Best eval.\n",
            "init   \t [3.00748483 0.10906747 7.57202942]. \t  -39395.322047969305 \t -27664.83628190573\n",
            "init   \t [-6.36319549  7.04466137  5.00272572]. \t  -27913.961335277138 \t -27664.83628190573\n",
            "init   \t [ 3.32203335  9.75790897 -4.86063155]. \t  -74244.15287271979 \t -27664.83628190573\n",
            "init   \t [-9.43388149  2.71438231  6.94624775]. \t  -27664.83628190573 \t -27664.83628190573\n",
            "init   \t [ 4.7234925  -9.58385776 -7.76793739]. \t  -114986.86534587143 \t -27664.83628190573\n",
            "1      \t [-3.60627759 -4.12128051 -3.96163645]. \t  \u001b[92m-6628.123996844119\u001b[0m \t -6628.123996844119\n",
            "2      \t [5.67048604 7.63464912 6.38781301]. \t  -41038.069289207284 \t -6628.123996844119\n",
            "3      \t [ 8.98418483 -5.51984113  1.59973658]. \t  \u001b[92m-5801.508998849156\u001b[0m \t -5801.508998849156\n",
            "4      \t [-9.82664426 -9.19265651  7.01964259]. \t  -98908.14619333696 \t -5801.508998849156\n",
            "5      \t [ 5.61099687  3.24280582 -9.3946128 ]. \t  -90569.20808162971 \t -5801.508998849156\n",
            "6      \t [-8.41638891  3.62928904 -8.37899504]. \t  -58636.25217955298 \t -5801.508998849156\n",
            "7      \t [4.76859313 6.53506599 3.93926051]. \t  -14822.442752768635 \t -5801.508998849156\n",
            "8      \t [-2.48970949 -2.08372282  3.35998783]. \t  \u001b[92m-2086.6278426367617\u001b[0m \t -2086.6278426367617\n",
            "9      \t [ 10. -10.  10.]. \t  -204581.0 \t -2086.6278426367617\n",
            "10     \t [-10. -10. -10.]. \t  -220621.0 \t -2086.6278426367617\n",
            "11     \t [ 1.25118837 -9.83776577  5.34103365]. \t  -87391.17353637467 \t -2086.6278426367617\n",
            "12     \t [-4.74409325  9.6660462  -2.60459944]. \t  -73506.67877916363 \t -2086.6278426367617\n",
            "13     \t [ 9.33197039 -3.0654831  -6.27616745]. \t  -20344.818102039768 \t -2086.6278426367617\n",
            "14     \t [ 6.57635151  1.69482794 -0.9051947 ]. \t  \u001b[92m-32.4878069678712\u001b[0m \t -32.4878069678712\n",
            "15     \t [ 10.  10. -10.]. \t  -180581.0 \t -32.4878069678712\n",
            "16     \t [-9.42592623 -4.04478437 -0.1929319 ]. \t  -3712.2569125854898 \t -32.4878069678712\n",
            "17     \t [-1.08625363  4.18333996  0.26296217]. \t  -2657.9711449377596 \t -32.4878069678712\n",
            "18     \t [-5.07433423 -9.72898178  0.18401387]. \t  -75892.3869297386 \t -32.4878069678712\n",
            "19     \t [-0.33935855 10.          9.03018913]. \t  -150581.89836085314 \t -32.4878069678712\n",
            "20     \t [ -2.52014465  10.         -10.        ]. \t  -190341.20940017726 \t -32.4878069678712\n",
            "21     \t [ 2.95303674 -3.28276823 -0.84216068]. \t  -762.0465278657464 \t -32.4878069678712\n",
            "22     \t [-5.26627073 -2.63601527 10.        ]. \t  -123957.80382695743 \t -32.4878069678712\n",
            "23     \t [-10.  10.  10.]. \t  -196621.0 \t -32.4878069678712\n",
            "24     \t [-7.3219826   2.31031684 -0.41216998]. \t  -728.6965488471252 \t -32.4878069678712\n",
            "25     \t [ 1.72678464 -2.19871603 -7.31861314]. \t  -35981.17408295852 \t -32.4878069678712\n",
            "26     \t [ -1.97717129 -10.         -10.        ]. \t  -213898.41899630363 \t -32.4878069678712\n",
            "27     \t [ 9.24774036  7.99293519 -1.71511777]. \t  -28178.338201144834 \t -32.4878069678712\n",
            "28     \t [-10.          -2.94705479  -6.59722376]. \t  -25915.902628780794 \t -32.4878069678712\n",
            "29     \t [ 8.87101665 -2.66332653  9.92697504]. \t  -119822.23912981607 \t -32.4878069678712\n",
            "30     \t [9.67468203 1.2300553  4.13591513]. \t  -3427.002627787612 \t -32.4878069678712\n"
          ]
        }
      ]
    },
    {
      "cell_type": "code",
      "metadata": {
        "id": "S3mxRQDLIUPC",
        "colab": {
          "base_uri": "https://localhost:8080/"
        },
        "outputId": "325f097e-277b-47b8-a99d-7f131a71c91f"
      },
      "source": [
        "### ESTIMATED GP EI GRADIENTS\n",
        "\n",
        "np.random.seed(run_num_19)\n",
        "surrogate_approx_19 = GaussianProcess(cov_func, optimize=opt)\n",
        "\n",
        "approx_19 = GPGO_multi(surrogate_approx_19, Acquisition_new(util_grad_approx), objfunc, param)\n",
        "approx_19.run(init_evals=n_init, max_iter=iters)\n"
      ],
      "execution_count": 31,
      "outputs": [
        {
          "output_type": "stream",
          "name": "stdout",
          "text": [
            "Evaluation \t Proposed point \t  Current eval. \t Best eval.\n",
            "init   \t [-8.04932797  5.22499433 -5.06124054]. \t  -14282.07020620917 \t -7826.389573301183\n",
            "init   \t [-7.23736625 -3.37106873 -8.3400087 ]. \t  -62767.56440733103 \t -7826.389573301183\n",
            "init   \t [3.43954163 6.13187596 9.65483829]. \t  -107829.21541670273 \t -7826.389573301183\n",
            "init   \t [ 2.7132147  -5.68153488  0.98054864]. \t  -7826.389573301183 \t -7826.389573301183\n",
            "init   \t [ 0.91119916 -5.31847854 -7.72548314]. \t  -52835.14449570301 \t -7826.389573301183\n",
            "1      \t [-8.70426449  3.79716958  1.04335667]. \t  \u001b[92m-2920.737921781948\u001b[0m \t -2920.737921781948\n",
            "2      \t [-10.         -10.           4.74030092]. \t  -97376.50934755208 \t -2920.737921781948\n",
            "3      \t [-5.92264612  1.94070459  8.81541711]. \t  -71080.60419246902 \t -2920.737921781948\n",
            "4      \t [ 9.93826046 -7.57727549 -3.12538868]. \t  -24289.940560273273 \t -2920.737921781948\n",
            "5      \t [4.34392457 2.27346638 1.2612486 ]. \t  \u001b[92m-85.49645374375444\u001b[0m \t -85.49645374375444\n",
            "6      \t [ 10.           5.31607738 -10.        ]. \t  -118114.96256534685 \t -85.49645374375444\n",
            "7      \t [8.88477717 1.65383617 9.09628062]. \t  -80607.08552314134 \t -85.49645374375444\n",
            "8      \t [ 10. -10.  10.]. \t  -204581.0 \t -85.49645374375444\n",
            "9      \t [-0.88364342 -0.53896298  9.12024958]. \t  -83571.53151095378 \t -85.49645374375444\n",
            "10     \t [ 0.03019555  8.90705493 -3.30673295]. \t  -50838.945400386634 \t -85.49645374375444\n",
            "11     \t [-0.82658611  0.86505746 -3.68328665]. \t  -2084.1773688952567 \t -85.49645374375444\n",
            "12     \t [ 0.19609949  8.62619954 -7.40348118]. \t  -74781.44337676886 \t -85.49645374375444\n",
            "13     \t [  0.91329603 -10.          10.        ]. \t  -211571.0389161579 \t -85.49645374375444\n",
            "14     \t [-10. -10. -10.]. \t  -220621.0 \t -85.49645374375444\n",
            "15     \t [-10.  10.  10.]. \t  -196621.0 \t -85.49645374375444\n",
            "16     \t [-2.98021645  8.48376798  8.10983789]. \t  -88619.74592585312 \t -85.49645374375444\n",
            "17     \t [ 4.87354767 -0.83030448 -8.23000576]. \t  -55769.47006687408 \t -85.49645374375444\n",
            "18     \t [1.9799272  3.81156677 6.02897636]. \t  -15702.85164015473 \t -85.49645374375444\n",
            "19     \t [-7.45233836 -7.0498697  -2.77159179]. \t  -24413.922608466655 \t -85.49645374375444\n",
            "20     \t [5.85399307 8.46132843 0.51499492]. \t  -37933.60369042322 \t -85.49645374375444\n",
            "21     \t [ 10. -10. -10.]. \t  -204581.0 \t -85.49645374375444\n",
            "22     \t [10. 10. 10.]. \t  -180581.0 \t -85.49645374375444\n",
            "23     \t [ -7.46553347  10.         -10.        ]. \t  -194455.5604148535 \t -85.49645374375444\n",
            "24     \t [10.         -4.57617929  4.85980117]. \t  -10167.329180505416 \t -85.49645374375444\n",
            "25     \t [10.          2.46000657 -2.68697101]. \t  -520.3813167769207 \t -85.49645374375444\n",
            "26     \t [-6.96155964 -2.80218108  3.0160609 ]. \t  -2413.3052466190484 \t -85.49645374375444\n",
            "27     \t [-6.62667451 -5.04870609  9.28977202]. \t  -101371.86179171849 \t -85.49645374375444\n",
            "28     \t [-10.         10.         -0.4758492]. \t  -88594.44336483163 \t -85.49645374375444\n",
            "29     \t [-2.39219186 -9.12550475  3.59460091]. \t  -60762.459506337684 \t -85.49645374375444\n",
            "30     \t [ 5.41548298 -4.37681439  9.6290608 ]. \t  -110272.55355250674 \t -85.49645374375444\n"
          ]
        }
      ]
    },
    {
      "cell_type": "code",
      "metadata": {
        "id": "Aawd59dRIUYn",
        "colab": {
          "base_uri": "https://localhost:8080/"
        },
        "outputId": "c3f30f08-4098-425b-ccfa-cc45c7da3062"
      },
      "source": [
        "### ESTIMATED GP EI GRADIENTS\n",
        "\n",
        "np.random.seed(run_num_20)\n",
        "surrogate_approx_20 = GaussianProcess(cov_func, optimize=opt)\n",
        "\n",
        "approx_20 = GPGO_multi(surrogate_approx_20, Acquisition_new(util_grad_approx), objfunc, param)\n",
        "approx_20.run(init_evals=n_init, max_iter=iters)\n"
      ],
      "execution_count": 32,
      "outputs": [
        {
          "output_type": "stream",
          "name": "stdout",
          "text": [
            "Evaluation \t Proposed point \t  Current eval. \t Best eval.\n",
            "init   \t [1.76261602 7.95427456 7.83061459]. \t  -70596.27231718504 \t -1177.4786310520467\n",
            "init   \t [ 6.31674955 -9.28220829  3.83515164]. \t  -59634.45116383437 \t -1177.4786310520467\n",
            "init   \t [-2.42638116  0.37021891  3.15902931]. \t  -1177.4786310520467 \t -1177.4786310520467\n",
            "init   \t [-6.12299564 -4.55367196  4.37211867]. \t  -10072.821243906226 \t -1177.4786310520467\n",
            "init   \t [5.66007219 7.0065528  5.50489788]. \t  -25762.190938183892 \t -1177.4786310520467\n",
            "1      \t [ 3.58822235  3.01571828 -4.62409523]. \t  -5172.971057172382 \t -1177.4786310520467\n",
            "2      \t [ 6.90281047 -9.84449703 -8.45927451]. \t  -140110.25172511325 \t -1177.4786310520467\n",
            "3      \t [-2.02505955 -3.84087805 -8.90073734]. \t  -81008.7373034749 \t -1177.4786310520467\n",
            "4      \t [-9.03422809  7.69291444  7.37966897]. \t  -63300.39318700283 \t -1177.4786310520467\n",
            "5      \t [-10.           3.69602036 -10.        ]. \t  -118512.49120568803 \t -1177.4786310520467\n",
            "6      \t [ 10.  10. -10.]. \t  -180581.0 \t -1177.4786310520467\n",
            "7      \t [-10. -10. -10.]. \t  -220621.0 \t -1177.4786310520467\n",
            "8      \t [-3.18535569  9.23676145 -3.72486711]. \t  -61473.052744828026 \t -1177.4786310520467\n",
            "9      \t [-10. -10.  10.]. \t  -220621.0 \t -1177.4786310520467\n",
            "10     \t [-3.52149428 -8.89742927  7.42875864]. \t  -95087.52343618331 \t -1177.4786310520467\n",
            "11     \t [-0.23723427 -9.19126844 -0.83968818]. \t  -57593.31830274371 \t -1177.4786310520467\n",
            "12     \t [ 5.4450004  -2.89162526  8.68121897]. \t  -71070.3061195951 \t -1177.4786310520467\n",
            "13     \t [-10.          -1.60444827  10.        ]. \t  -122513.01529929333 \t -1177.4786310520467\n",
            "14     \t [ 9.24622151 -3.35477385 -2.10855021]. \t  \u001b[92m-869.7516226289016\u001b[0m \t -869.7516226289016\n",
            "15     \t [-9.00282641 -1.57116883 -3.69009838]. \t  -2977.855163229338 \t -869.7516226289016\n",
            "16     \t [ 8.71567352 -9.23552071 -1.77855208]. \t  -53192.45226100789 \t -869.7516226289016\n",
            "17     \t [-1.38810201  0.0803476  10.        ]. \t  -119913.2309582739 \t -869.7516226289016\n",
            "18     \t [ 9.96295485  4.76303122 -2.19254493]. \t  -2658.6780875775535 \t -869.7516226289016\n",
            "19     \t [-10.          10.          -2.37895629]. \t  -88326.21822271576 \t -869.7516226289016\n",
            "20     \t [10.          2.93747854 10.        ]. \t  -116687.25645649283 \t -869.7516226289016\n",
            "21     \t [ 10.           1.18185895 -10.        ]. \t  -118770.82457342082 \t -869.7516226289016\n",
            "22     \t [  1.21327208  10.         -10.        ]. \t  -187332.3718776417 \t -869.7516226289016\n",
            "23     \t [ 10. -10.  10.]. \t  -204581.0 \t -869.7516226289016\n",
            "24     \t [-10.           0.6488612    2.74241658]. \t  -977.5609366558125 \t -869.7516226289016\n",
            "25     \t [-8.03926695 -7.53443312 -0.61714208]. \t  -29848.96944248592 \t -869.7516226289016\n",
            "26     \t [10. 10. 10.]. \t  -180581.0 \t -869.7516226289016\n",
            "27     \t [-4.32384266  6.26033035  1.14573172]. \t  -13748.981244274537 \t -869.7516226289016\n",
            "28     \t [ 3.54590747 -1.38481704  1.81605529]. \t  \u001b[92m-197.7350606026358\u001b[0m \t -197.7350606026358\n",
            "29     \t [ -0.66038337   2.93972205 -10.        ]. \t  -117145.01318023716 \t -197.7350606026358\n",
            "30     \t [-10.  10. -10.]. \t  -196621.0 \t -197.7350606026358\n"
          ]
        }
      ]
    },
    {
      "cell_type": "code",
      "metadata": {
        "id": "xkgzPRbBTHaq",
        "colab": {
          "base_uri": "https://localhost:8080/"
        },
        "outputId": "59939b28-f847-4f3f-9822-55fac700fcc7"
      },
      "source": [
        "end_approx = time.time()\n",
        "end_approx\n",
        "\n",
        "time_approx = end_approx - start_approx\n",
        "time_approx\n",
        "\n",
        "start_exact = time.time()\n",
        "start_exact"
      ],
      "execution_count": 33,
      "outputs": [
        {
          "output_type": "execute_result",
          "data": {
            "text/plain": [
              "1637165157.1408606"
            ]
          },
          "metadata": {},
          "execution_count": 33
        }
      ]
    },
    {
      "cell_type": "code",
      "metadata": {
        "id": "7CG3Ndvb16Rb",
        "colab": {
          "base_uri": "https://localhost:8080/"
        },
        "outputId": "01fd6d8f-d35c-45e7-cfab-ca147713acbe"
      },
      "source": [
        "### EXACT GP EI GRADIENTS\n",
        "\n",
        "np.random.seed(run_num_1)\n",
        "surrogate_exact_1 = dGaussianProcess(cov_func, optimize=opt)\n",
        "\n",
        "exact_1 = dGPGO(surrogate_exact_1, Acquisition_new(util_grad_exact), objfunc, param)\n",
        "exact_1.run(init_evals=n_init, max_iter=iters)\n"
      ],
      "execution_count": 34,
      "outputs": [
        {
          "output_type": "stream",
          "name": "stdout",
          "text": [
            "Evaluation \t Proposed point \t  Current eval. \t Best eval.\n",
            "init   \t [-1.65955991  4.40648987 -9.9977125 ]. \t  -117949.69994259246 \t -1743.4541121077734\n",
            "init   \t [-3.95334855 -7.06488218 -8.1532281 ]. \t  -80377.19459880023 \t -1743.4541121077734\n",
            "init   \t [-6.27479577 -3.08878546 -2.06465052]. \t  -1743.4541121077734 \t -1743.4541121077734\n",
            "init   \t [ 0.77633468 -1.61610971  3.70439001]. \t  -2573.2528931184784 \t -1743.4541121077734\n",
            "init   \t [-5.91095501  7.56234873 -9.45224814]. \t  -116840.74897847573 \t -1743.4541121077734\n",
            "1      \t [-8.03306332 -1.5778475   9.1577906 ]. \t  -86415.93772353831 \t -1743.4541121077734\n",
            "2      \t [-5.34051452  6.14210391 -2.24278712]. \t  -13140.755438034004 \t -1743.4541121077734\n",
            "3      \t [ 8.37203556 -9.9919595   9.53518298]. \t  -183648.52554820437 \t -1743.4541121077734\n",
            "4      \t [-1.07707536  5.6549883   9.80943567]. \t  -113140.57286302134 \t -1743.4541121077734\n",
            "5      \t [9.79910357 4.22244918 4.63600818]. \t  -5922.444680450715 \t -1743.4541121077734\n",
            "6      \t [ 5.40299913 -7.39328438 -9.54169737]. \t  -129326.8620412511 \t -1743.4541121077734\n",
            "7      \t [ 8.85525151  0.35720096 -6.11068381]. \t  -16781.669881019214 \t -1743.4541121077734\n",
            "8      \t [ 3.91528429  5.55696954 -1.87034262]. \t  -6706.695269773627 \t -1743.4541121077734\n",
            "9      \t [ 9.90104645 -8.83274708  0.3341272 ]. \t  -43035.435934238885 \t -1743.4541121077734\n",
            "10     \t [-3.28672398 -8.95374107  2.10233561]. \t  -54514.91599686387 \t -1743.4541121077734\n",
            "11     \t [-10.          -8.86824462  -1.48862021]. \t  -56624.59687401234 \t -1743.4541121077734\n",
            "12     \t [-10.          -2.18194001 -10.        ]. \t  -123515.80604687218 \t -1743.4541121077734\n",
            "13     \t [ 9.65179578  8.27479249 -3.0526116 ]. \t  -32803.77664245247 \t -1743.4541121077734\n",
            "14     \t [ 7.26452963  9.68253088 -9.80254049]. \t  -164926.45955596212 \t -1743.4541121077734\n",
            "15     \t [-9.45682341  6.0171871   6.11969865]. \t  -27749.821615060286 \t -1743.4541121077734\n",
            "16     \t [ 7.12318476 -2.7126904   7.84547859]. \t  -47641.65249064557 \t -1743.4541121077734\n",
            "17     \t [ 1.73663101 -8.75975545 -3.36580778]. \t  -49005.627045554 \t -1743.4541121077734\n",
            "18     \t [-10. -10. -10.]. \t  -220621.0 \t -1743.4541121077734\n",
            "19     \t [-0.99240715  8.70840228 -2.94641345]. \t  -46841.83303685055 \t -1743.4541121077734\n",
            "20     \t [ 0.5245933   0.01239146 -4.92628386]. \t  -7064.556305809962 \t -1743.4541121077734\n",
            "21     \t [ 8.39907154 -1.17296509  0.55930968]. \t  \u001b[92m-128.23709968267707\u001b[0m \t -128.23709968267707\n",
            "22     \t [-3.62027987 -7.56160372  9.26036479]. \t  -124056.54553150738 \t -128.23709968267707\n",
            "23     \t [-4.42991656  2.29563782  3.30336709]. \t  -1621.8008277392858 \t -128.23709968267707\n",
            "24     \t [-7.00987346 -4.22698354  3.42440325]. \t  -6016.925780302379 \t -128.23709968267707\n",
            "25     \t [-10.           3.36693051  -5.93657142]. \t  -15770.788938770593 \t -128.23709968267707\n",
            "26     \t [4.11619602 9.58254982 5.70330526]. \t  -73706.56438752098 \t -128.23709968267707\n",
            "27     \t [-9.51142221  0.83211278  0.72509997]. \t  -348.0907766345705 \t -128.23709968267707\n",
            "28     \t [-0.80147062  6.61162229  3.0901536 ]. \t  -16039.542432017557 \t -128.23709968267707\n",
            "29     \t [ 4.74560053 -6.93858724  4.30546533]. \t  -22585.386345736282 \t -128.23709968267707\n",
            "30     \t [ 4.3876801   2.78893477 -9.26993762]. \t  -86019.56579000466 \t -128.23709968267707\n"
          ]
        }
      ]
    },
    {
      "cell_type": "code",
      "metadata": {
        "id": "-ilCPSAu9SAg",
        "colab": {
          "base_uri": "https://localhost:8080/"
        },
        "outputId": "5e70a414-b3e1-4590-bc18-3d28b20e7f11"
      },
      "source": [
        "### EXACT GP EI GRADIENTS\n",
        "\n",
        "np.random.seed(run_num_2)\n",
        "surrogate_exact_2 = dGaussianProcess(cov_func, optimize=opt)\n",
        "\n",
        "exact_2 = dGPGO(surrogate_exact_2, Acquisition_new(util_grad_exact), objfunc, param)\n",
        "exact_2.run(init_evals=n_init, max_iter=iters)\n"
      ],
      "execution_count": 35,
      "outputs": [
        {
          "output_type": "stream",
          "name": "stdout",
          "text": [
            "Evaluation \t Proposed point \t  Current eval. \t Best eval.\n",
            "init   \t [-1.28010196 -9.48147536  0.99324956]. \t  -65976.47275174354 \t -579.2546019074869\n",
            "init   \t [-1.29355215 -1.59264396 -3.39330358]. \t  -1905.0058741906205 \t -579.2546019074869\n",
            "init   \t [-5.90702732  2.38541933 -4.00690653]. \t  -3296.179887891325 \t -579.2546019074869\n",
            "init   \t [-4.6634545   2.42267666  0.58284189]. \t  -579.2546019074869 \t -579.2546019074869\n",
            "init   \t [-7.30840109  0.27156243 -6.31120269]. \t  -19089.001096649215 \t -579.2546019074869\n",
            "1      \t [-10. -10. -10.]. \t  -220621.0 \t -579.2546019074869\n",
            "2      \t [0.98993642 6.90226231 9.77019402]. \t  -119362.43308455861 \t -579.2546019074869\n",
            "3      \t [ 9.60970158 -5.07492822  5.80487605]. \t  -19340.238894145325 \t -579.2546019074869\n",
            "4      \t [ 2.89052379 -3.76941193  7.60597912]. \t  -44126.90703116023 \t -579.2546019074869\n",
            "5      \t [9.47735243 3.96398709 2.5157724 ]. \t  -1262.1549087902345 \t -579.2546019074869\n",
            "6      \t [ 8.77937768 -3.87353549 -6.37757103]. \t  -22749.403915268038 \t -579.2546019074869\n",
            "7      \t [-0.14977032  8.06290903 -9.76998211]. \t  -134183.98409022478 \t -579.2546019074869\n",
            "8      \t [-8.27467123  0.9107896   8.40893121]. \t  -59512.10208629255 \t -579.2546019074869\n",
            "9      \t [-5.94698988  9.91314075  4.47886914]. \t  -84788.26554655223 \t -579.2546019074869\n",
            "10     \t [-9.84632636  9.29795823 -5.29784912]. \t  -73494.00610427922 \t -579.2546019074869\n",
            "11     \t [8.66194618 9.45587635 8.23716848]. \t  -105785.29651813887 \t -579.2546019074869\n",
            "12     \t [-7.95126067 -7.68342168  9.50213863]. \t  -138173.6002193863 \t -579.2546019074869\n",
            "13     \t [ 1.31216908 -9.4098302  -9.23218389]. \t  -158862.0710975185 \t -579.2546019074869\n",
            "14     \t [-10.          -3.24555393  -0.31174379]. \t  -2086.8460702281654 \t -579.2546019074869\n",
            "15     \t [ 9.2899141   9.40152854 -2.86449957]. \t  -56320.27675873182 \t -579.2546019074869\n",
            "16     \t [-9.06110355 -9.56744783 -1.99396877]. \t  -74852.34852606223 \t -579.2546019074869\n",
            "17     \t [ 8.68396904 -9.83826017 -1.64087352]. \t  -69129.3809603587 \t -579.2546019074869\n",
            "18     \t [-0.47497186 -5.75625501 -3.13046353]. \t  -10840.434725745177 \t -579.2546019074869\n",
            "19     \t [ 6.13521786e-01  8.56756371e+00 -8.27118862e-03]. \t  -42965.00621736707 \t -579.2546019074869\n",
            "20     \t [2.98454186 0.55504793 1.35837871]. \t  \u001b[92m-44.647929477044386\u001b[0m \t -44.647929477044386\n",
            "21     \t [ 9.86128636  2.73741105 -8.77847696]. \t  -68884.14112678247 \t -44.647929477044386\n",
            "22     \t [-1.09258745 -9.17420367  8.68013856]. \t  -134083.09547422078 \t -44.647929477044386\n",
            "23     \t [ 3.21970358  1.35740727 -8.27508158]. \t  -55164.627666321045 \t -44.647929477044386\n",
            "24     \t [  5.33920347 -10.           4.70522976]. \t  -84642.90583999202 \t -44.647929477044386\n",
            "25     \t [7.81947034 2.89189962 8.54947012]. \t  -61805.516680200024 \t -44.647929477044386\n",
            "26     \t [-0.93380289 -3.31546016  2.58840183]. \t  -1892.4261206376575 \t -44.647929477044386\n",
            "27     \t [ 2.00842262 -9.87438548 -1.49428301]. \t  -75114.820765863 \t -44.647929477044386\n",
            "28     \t [ -1.83007685  -2.43466168 -10.        ]. \t  -123321.95723191445 \t -44.647929477044386\n",
            "29     \t [ 5.88504343 -2.3272041  -1.7206298 ]. \t  -276.9088504741531 \t -44.647929477044386\n",
            "30     \t [4.32021474 6.52301121 4.20921202]. \t  -15569.258795632872 \t -44.647929477044386\n"
          ]
        }
      ]
    },
    {
      "cell_type": "code",
      "metadata": {
        "id": "XieJ158mIvlP",
        "colab": {
          "base_uri": "https://localhost:8080/"
        },
        "outputId": "f654dbbf-b3b3-40d1-e4a1-0f13ab35cfef"
      },
      "source": [
        "### EXACT GP EI GRADIENTS\n",
        "\n",
        "np.random.seed(run_num_3)\n",
        "surrogate_exact_3 = dGaussianProcess(cov_func, optimize=opt)\n",
        "\n",
        "exact_3 = dGPGO(surrogate_exact_3, Acquisition_new(util_grad_exact), objfunc, param)\n",
        "exact_3.run(init_evals=n_init, max_iter=iters)\n"
      ],
      "execution_count": 36,
      "outputs": [
        {
          "output_type": "stream",
          "name": "stdout",
          "text": [
            "Evaluation \t Proposed point \t  Current eval. \t Best eval.\n",
            "init   \t [ 1.01595805  4.16295645 -4.18190522]. \t  -5112.352385443115 \t -5112.352385443115\n",
            "init   \t [0.2165521  7.85893909 7.92586178]. \t  -72027.10255913956 \t -5112.352385443115\n",
            "init   \t [-7.48829379 -5.85514244 -8.97065593]. \t  -95107.57411907075 \t -5112.352385443115\n",
            "init   \t [-1.18380313 -9.40247578 -0.86333551]. \t  -63726.548838065995 \t -5112.352385443115\n",
            "init   \t [ 2.98288095 -4.43025435  3.52509804]. \t  -5207.626899787465 \t -5112.352385443115\n",
            "1      \t [9.51990845 3.44767352 8.05668217]. \t  -48388.97288671367 \t -5112.352385443115\n",
            "2      \t [-4.79309855  3.83955024  7.91140656]. \t  -46554.46840736758 \t -5112.352385443115\n",
            "3      \t [ 9.76225506  9.4244446  -0.36307223]. \t  -56694.622124347436 \t -5112.352385443115\n",
            "4      \t [ 1.06865668 -1.61214113  9.66323576]. \t  -106482.0605763776 \t -5112.352385443115\n",
            "5      \t [-7.84297806  5.69391695 -0.02389563]. \t  -10741.453238983686 \t -5112.352385443115\n",
            "6      \t [ 8.83706845 -0.31089701 -6.2913012 ]. \t  -19158.168049739656 \t -5112.352385443115\n",
            "7      \t [-9.62151318  6.49791858 -9.62921632]. \t  -113874.85565922041 \t -5112.352385443115\n",
            "8      \t [ 7.17786075 -7.83402432  1.19325839]. \t  -27091.472501636174 \t -5112.352385443115\n",
            "9      \t [  0.47669751  -6.12475795 -10.        ]. \t  -138577.5155794574 \t -5112.352385443115\n",
            "10     \t [-4.37393827 -8.80738373  8.15285327]. \t  -111193.57204036717 \t -5112.352385443115\n",
            "11     \t [5.35390255 4.3873483  2.58263819]. \t  \u001b[92m-2456.424548745716\u001b[0m \t -2456.424548745716\n",
            "12     \t [-9.50907307 -3.90957298  0.74240852]. \t  -3398.3859955587673 \t -2456.424548745716\n",
            "13     \t [-9.48830419  5.80360482  0.06290394]. \t  -12023.222732258779 \t -2456.424548745716\n",
            "14     \t [-2.01128955  6.67234486 -9.52369958]. \t  -108180.92819926853 \t -2456.424548745716\n",
            "15     \t [ 9.78697548 -6.97337287 -8.7782584 ]. \t  -93227.83299544013 \t -2456.424548745716\n",
            "16     \t [-3.27672855 -1.14627965 -3.58164178]. \t  \u001b[92m-2243.1573708342817\u001b[0m \t -2243.1573708342817\n",
            "17     \t [ 8.52167155  9.23347015 -7.56145408]. \t  -85688.76307045243 \t -2243.1573708342817\n",
            "18     \t [-1.90609231  1.22516686  2.63320009]. \t  \u001b[92m-536.1100959789103\u001b[0m \t -536.1100959789103\n",
            "19     \t [-10.          -0.24817273   6.88428178]. \t  -27420.822188106977 \t -536.1100959789103\n",
            "20     \t [-10.         -10.           4.11076044]. \t  -94075.4535426682 \t -536.1100959789103\n",
            "21     \t [-3.26000502  9.75286463 -2.89965294]. \t  -75049.78858655748 \t -536.1100959789103\n",
            "22     \t [-10.         -10.          -3.96814729]. \t  -93485.85422955849 \t -536.1100959789103\n",
            "23     \t [ 8.54131636 -6.29606902  9.6421356 ]. \t  -120930.98434214697 \t -536.1100959789103\n",
            "24     \t [ 3.24669597 -4.60768692 -2.96825074]. \t  -4563.005262720109 \t -536.1100959789103\n",
            "25     \t [-3.49165293  7.26879379  3.22373586]. \t  -24401.084192843035 \t -536.1100959789103\n",
            "26     \t [-7.52328433  0.50706642 -9.52779655]. \t  -98539.96970723043 \t -536.1100959789103\n",
            "27     \t [ 5.78177902 -0.54629355  0.14693374]. \t  \u001b[92m-77.67433928930977\u001b[0m \t -77.67433928930977\n",
            "28     \t [ 3.34788032 -9.83624486  7.29577736]. \t  -112895.94685668402 \t -77.67433928930977\n",
            "29     \t [ 3.67141573  8.7186425  -1.56966855]. \t  -44070.46490949858 \t -77.67433928930977\n",
            "30     \t [-8.8720474   9.58407596  4.34615296]. \t  -76657.1030581219 \t -77.67433928930977\n"
          ]
        }
      ]
    },
    {
      "cell_type": "code",
      "metadata": {
        "id": "PhLBVOIfIvol",
        "colab": {
          "base_uri": "https://localhost:8080/"
        },
        "outputId": "24800fc1-8e21-4473-cf9c-094dcbd4c822"
      },
      "source": [
        "### EXACT GP EI GRADIENTS\n",
        "\n",
        "np.random.seed(run_num_4)\n",
        "surrogate_exact_4 = dGaussianProcess(cov_func, optimize=opt)\n",
        "\n",
        "exact_4 = dGPGO(surrogate_exact_4, Acquisition_new(util_grad_exact), objfunc, param)\n",
        "exact_4.run(init_evals=n_init, max_iter=iters)\n"
      ],
      "execution_count": 37,
      "outputs": [
        {
          "output_type": "stream",
          "name": "stdout",
          "text": [
            "Evaluation \t Proposed point \t  Current eval. \t Best eval.\n",
            "init   \t [9.34059678 0.94464498 9.4536872 ]. \t  -95022.01065457039 \t -12458.30178377884\n",
            "init   \t [ 4.29631987  3.95457649 -5.67821009]. \t  -12458.30178377884 \t -12458.30178377884\n",
            "init   \t [ 9.5254891  -9.8753949  -4.94035275]. \t  -79242.42901009263 \t -12458.30178377884\n",
            "init   \t [-1.30416935  5.58765844 -6.04629851]. \t  -21812.938480423 \t -12458.30178377884\n",
            "init   \t [ 7.25986471  9.66801354 -6.72315517]. \t  -84163.5372919417 \t -12458.30178377884\n",
            "1      \t [-7.83613234 -6.83553186  0.90405303]. \t  -20810.660474524404 \t -12458.30178377884\n",
            "2      \t [-10. -10. -10.]. \t  -220621.0 \t -12458.30178377884\n",
            "3      \t [-1.92379477  1.34737929  2.7226803 ]. \t  \u001b[92m-615.2747034779208\u001b[0m \t -615.2747034779208\n",
            "4      \t [6.21326818 9.26764337 3.86688981]. \t  -56128.60684411135 \t -615.2747034779208\n",
            "5      \t [ 5.30486793 -6.47973031  3.69857697]. \t  -15831.304205760465 \t -615.2747034779208\n",
            "6      \t [-8.44881662  9.55992352  0.68180215]. \t  -73452.9129380725 \t -615.2747034779208\n",
            "7      \t [-0.44581558  2.04164357  3.82391297]. \t  -2376.3585358713694 \t -615.2747034779208\n",
            "8      \t [-2.33389024 -4.6358588  -7.26766175]. \t  -40599.0914312595 \t -615.2747034779208\n",
            "9      \t [-9.78890738  1.07284078 -8.10797379]. \t  -51425.66998692605 \t -615.2747034779208\n",
            "10     \t [-7.28602097 -6.35764751  9.10201445]. \t  -104405.44573764168 \t -615.2747034779208\n",
            "11     \t [ 9.86189589 -2.31654531 -4.87978482]. \t  -7562.403940263847 \t -615.2747034779208\n",
            "12     \t [-9.29185553  9.8572357  -8.01820394]. \t  -125317.35416043762 \t -615.2747034779208\n",
            "13     \t [-9.19987139  2.06269584  3.77448886]. \t  -2827.043319795628 \t -615.2747034779208\n",
            "14     \t [2.06366534 5.52344223 9.50309005]. \t  -98925.80744037892 \t -615.2747034779208\n",
            "15     \t [ 0.04066887 -6.69639535 -0.56184667]. \t  -16233.653698854438 \t -615.2747034779208\n",
            "16     \t [9.34483237 2.47341722 0.16955031]. \t  \u001b[92m-103.85918112412527\u001b[0m \t -103.85918112412527\n",
            "17     \t [ 1.70612191 -9.81422161 -8.15289369]. \t  -134046.1275565375 \t -103.85918112412527\n",
            "18     \t [-9.57253107  4.5253832   9.98588234]. \t  -119188.57066707758 \t -103.85918112412527\n",
            "19     \t [-7.55237102  3.67037267 -2.39953674]. \t  -2637.682257419133 \t -103.85918112412527\n",
            "20     \t [ 2.05802796 -2.37786644  8.25655677]. \t  -57901.41574612627 \t -103.85918112412527\n",
            "21     \t [-2.93345677  7.73048423  3.76868319]. \t  -31287.97300497877 \t -103.85918112412527\n",
            "22     \t [ 6.21202014 -4.89896846 -9.32674346]. \t  -99508.67082159099 \t -103.85918112412527\n",
            "23     \t [ 1.84260577  6.52057043 -0.34854192]. \t  -13961.109394197321 \t -103.85918112412527\n",
            "24     \t [ 0.17749855 -8.72294078  7.0072967 ]. \t  -80510.20505755964 \t -103.85918112412527\n",
            "25     \t [-9.06883652 -5.48056309 -5.14282086]. \t  -19886.50243021061 \t -103.85918112412527\n",
            "26     \t [-0.75291212  0.08577406 -3.40364105]. \t  -1602.8326200016193 \t -103.85918112412527\n",
            "27     \t [ 9.21153356 -7.83173718  9.88606108]. \t  -149806.92777221845 \t -103.85918112412527\n",
            "28     \t [-3.44945196 -3.97188228  4.72956333]. \t  -9587.781591884293 \t -103.85918112412527\n",
            "29     \t [ -4.80200835 -10.          -3.9273423 ]. \t  -88927.0744653286 \t -103.85918112412527\n",
            "30     \t [-5.33992552 -2.11759936 -2.21878293]. \t  -879.0369054705133 \t -103.85918112412527\n"
          ]
        }
      ]
    },
    {
      "cell_type": "code",
      "metadata": {
        "id": "arbiPyj2IvsJ",
        "colab": {
          "base_uri": "https://localhost:8080/"
        },
        "outputId": "1f792a51-e365-4326-8ffc-cf234c136b96"
      },
      "source": [
        "### EXACT GP EI GRADIENTS\n",
        "\n",
        "np.random.seed(run_num_5)\n",
        "surrogate_exact_5 = dGaussianProcess(cov_func, optimize=opt)\n",
        "\n",
        "exact_5 = dGPGO(surrogate_exact_5, Acquisition_new(util_grad_exact), objfunc, param)\n",
        "exact_5.run(init_evals=n_init, max_iter=iters)\n"
      ],
      "execution_count": 38,
      "outputs": [
        {
          "output_type": "stream",
          "name": "stdout",
          "text": [
            "Evaluation \t Proposed point \t  Current eval. \t Best eval.\n",
            "init   \t [-5.56013658  7.41464612 -5.86561689]. \t  -38038.55423396639 \t -504.37713268919686\n",
            "init   \t [ 8.37221816 -0.23177622  2.23487726]. \t  -504.37713268919686 \t -504.37713268919686\n",
            "init   \t [ 5.31815713  0.36835976 -4.06398997]. \t  -3270.33229475548 \t -504.37713268919686\n",
            "init   \t [-6.24557543 -8.38517462  4.76880592]. \t  -51898.195262717614 \t -504.37713268919686\n",
            "init   \t [-1.17381554 -6.83380265  7.59874062]. \t  -62777.04813872957 \t -504.37713268919686\n",
            "1      \t [-10.         -10.          -4.97814207]. \t  -98964.53773974029 \t -504.37713268919686\n",
            "2      \t [ -1.27700023  -4.28217349 -10.        ]. \t  -128079.36376069883 \t -504.37713268919686\n",
            "3      \t [-9.80583383  0.98926919  4.15052451]. \t  -3753.1148757271385 \t -504.37713268919686\n",
            "4      \t [ 3.14692525  9.50918422 -2.23413701]. \t  -63161.457005708806 \t -504.37713268919686\n",
            "5      \t [ 4.56139684 -4.673529    0.23379905]. \t  -3142.4271112122515 \t -504.37713268919686\n",
            "6      \t [7.66353164 8.73934279 5.42915838]. \t  -49709.64902528966 \t -504.37713268919686\n",
            "7      \t [-2.72246116  0.33458962 -3.06664082]. \t  -1055.0828610350513 \t -504.37713268919686\n",
            "8      \t [-4.85473955  8.25254073  2.2510599 ]. \t  -39842.78029114217 \t -504.37713268919686\n",
            "9      \t [-8.02042689  0.63721006 -8.91475546]. \t  -75422.15642857552 \t -504.37713268919686\n",
            "10     \t [-0.96496228  6.39545847  9.46542277]. \t  -103277.4502143539 \t -504.37713268919686\n",
            "11     \t [ 8.93630394  6.87034717 -7.52532124]. \t  -48629.075116084015 \t -504.37713268919686\n",
            "12     \t [ 9.33721648 -1.25993305  9.75780579]. \t  -110380.02940456654 \t -504.37713268919686\n",
            "13     \t [ 9.17269786 -9.06481945  3.70968542]. \t  -52237.87993400469 \t -504.37713268919686\n",
            "14     \t [-9.5570026  -3.96281221 -1.13698906]. \t  -3596.3147700662485 \t -504.37713268919686\n",
            "15     \t [ 4.92817365 -9.79847336 -6.08133372]. \t  -91071.3322965164 \t -504.37713268919686\n",
            "16     \t [-5.63840042 -1.53686852  8.51037031]. \t  -64548.63415483153 \t -504.37713268919686\n",
            "17     \t [-9.35801008  7.98220289  3.79498813]. \t  -38830.44934073891 \t -504.37713268919686\n",
            "18     \t [3.44266327 0.54977389 6.52463794]. \t  -21489.509830064602 \t -504.37713268919686\n",
            "19     \t [-3.48410009 -3.68542923 -6.33751434]. \t  -23073.672070863027 \t -504.37713268919686\n",
            "20     \t [4.3088617  3.52153921 1.70426169]. \t  -866.6227341116446 \t -504.37713268919686\n",
            "21     \t [ 0.85522456  3.07548795 -6.96622089]. \t  -27149.767959750305 \t -504.37713268919686\n",
            "22     \t [-0.55033471 -8.78320382  0.78785255]. \t  -48254.53184597922 \t -504.37713268919686\n",
            "23     \t [-10.           4.37333948  -1.88985127]. \t  -4800.5632402284355 \t -504.37713268919686\n",
            "24     \t [ -3.32990731 -10.          -5.04164103]. \t  -93808.01252953988 \t -504.37713268919686\n",
            "25     \t [ 9.17472028 -5.09063141 -8.09560868]. \t  -59331.103213514485 \t -504.37713268919686\n",
            "26     \t [ 9.81164135  6.05174621 -0.13013967]. \t  -8234.445947782293 \t -504.37713268919686\n",
            "27     \t [ 9.24948969 -6.68924284  8.59259   ]. \t  -84421.64291102225 \t -504.37713268919686\n",
            "28     \t [  5.42089018   0.69686245 -10.        ]. \t  -119224.36505517323 \t -504.37713268919686\n",
            "29     \t [-10.          -5.54905589 -10.        ]. \t  -137120.79345661664 \t -504.37713268919686\n",
            "30     \t [0.7190843  0.34799    2.09139521]. \t  \u001b[92m-212.20760797955896\u001b[0m \t -212.20760797955896\n"
          ]
        }
      ]
    },
    {
      "cell_type": "code",
      "metadata": {
        "id": "04KJCEm_Ivvf",
        "colab": {
          "base_uri": "https://localhost:8080/"
        },
        "outputId": "8fa01ce3-2962-431b-995d-d1c77765d199"
      },
      "source": [
        "### EXACT GP EI GRADIENTS\n",
        "\n",
        "np.random.seed(run_num_6)\n",
        "surrogate_exact_6 = dGaussianProcess(cov_func, optimize=opt)\n",
        "\n",
        "exact_6 = dGPGO(surrogate_exact_6, Acquisition_new(util_grad_exact), objfunc, param)\n",
        "exact_6.run(init_evals=n_init, max_iter=iters)\n"
      ],
      "execution_count": 39,
      "outputs": [
        {
          "output_type": "stream",
          "name": "stdout",
          "text": [
            "Evaluation \t Proposed point \t  Current eval. \t Best eval.\n",
            "init   \t [ 7.85720303 -3.36040389  6.42458246]. \t  -22622.875691874993 \t -747.5861078277044\n",
            "init   \t [-9.16606749 -7.8468664   1.90104128]. \t  -35798.39310944817 \t -747.5861078277044\n",
            "init   \t [ 0.59634724 -1.62385143 -3.29184301]. \t  -1672.0743189422471 \t -747.5861078277044\n",
            "init   \t [ 2.45038864 -1.23717148  4.71764213]. \t  -6281.890680624871 \t -747.5861078277044\n",
            "init   \t [0.36072824 1.577172   2.90710192]. \t  -747.5861078277044 \t -747.5861078277044\n",
            "1      \t [ 4.34551693  9.88414877 -4.88771889]. \t  -77317.5102677862 \t -747.5861078277044\n",
            "2      \t [-1.98503052 -5.08370297  0.47544376]. \t  -5862.449373561379 \t -747.5861078277044\n",
            "3      \t [-10. -10. -10.]. \t  -220621.0 \t -747.5861078277044\n",
            "4      \t [-8.30089272  8.76464152 -3.7028615 ]. \t  -53579.172270173985 \t -747.5861078277044\n",
            "5      \t [-1.92136443  7.09060084  9.90193306]. \t  -128180.37776723201 \t -747.5861078277044\n",
            "6      \t [ 6.83055529 -7.02538607 -5.07603057]. \t  -27205.394503821604 \t -747.5861078277044\n",
            "7      \t [-9.66056066 -7.16632862  9.74146832]. \t  -141747.30545515707 \t -747.5861078277044\n",
            "8      \t [5.9985337  9.53791599 4.87346611]. \t  -66262.04186181795 \t -747.5861078277044\n",
            "9      \t [5.95618828 3.62221445 9.57953935]. \t  -97953.49211296115 \t -747.5861078277044\n",
            "10     \t [-7.41175926 -1.8295649  -8.07396848]. \t  -52905.20559446976 \t -747.5861078277044\n",
            "11     \t [ 5.84223091  1.20858429 -9.77151834]. \t  -108063.16292509792 \t -747.5861078277044\n",
            "12     \t [-8.12416811  9.77114499 -9.4537219 ]. \t  -165001.95305563457 \t -747.5861078277044\n",
            "13     \t [-9.84061017  1.77538187  9.90806162]. \t  -114204.24958242645 \t -747.5861078277044\n",
            "14     \t [ 0.09301524 -9.59226206 -9.13826948]. \t  -161232.6576257501 \t -747.5861078277044\n",
            "15     \t [ 0.19531588 -7.74530203  9.60360643]. \t  -139524.0237475551 \t -747.5861078277044\n",
            "16     \t [ -5.35256873 -10.          -3.87330691]. \t  -89180.91326165879 \t -747.5861078277044\n",
            "17     \t [-3.61732632  6.02805397  0.93404125]. \t  -11717.355005292655 \t -747.5861078277044\n",
            "18     \t [ 7.71075755 -9.34161901  3.63737803]. \t  -59548.97287656334 \t -747.5861078277044\n",
            "19     \t [-8.77555957  1.48716176  2.84256716]. \t  -1089.8910220348698 \t -747.5861078277044\n",
            "20     \t [ 0.29822964  8.72534344 -9.84962352]. \t  -149200.85166268394 \t -747.5861078277044\n",
            "21     \t [-2.0301401  -4.92207598 -4.38926331]. \t  -10770.98915286436 \t -747.5861078277044\n",
            "22     \t [ 8.37161609  1.52256748 -3.15774581]. \t  -1100.1497929722439 \t -747.5861078277044\n",
            "23     \t [-7.57631456 -2.15991243 -1.68981062]. \t  -831.0801080561853 \t -747.5861078277044\n",
            "24     \t [-2.16784367  2.75566281 -6.7818681 ]. \t  -24499.387305582102 \t -747.5861078277044\n",
            "25     \t [-0.24421179  9.85691128 -1.69427702]. \t  -75760.80796360424 \t -747.5861078277044\n",
            "26     \t [ 8.54842608  9.65079803 -9.93682527]. \t  -169071.56755330515 \t -747.5861078277044\n",
            "27     \t [5.5821722  3.32026089 3.44779501]. \t  -1818.3983203945602 \t -747.5861078277044\n",
            "28     \t [  0.13039912  -2.39982299 -10.        ]. \t  -123157.18985259502 \t -747.5861078277044\n",
            "29     \t [ 2.88462846  3.87050808 -3.69752491]. \t  -3122.810973698958 \t -747.5861078277044\n",
            "30     \t [ 8.40259513 -8.31291714 -9.79976681]. \t  -154215.2719297319 \t -747.5861078277044\n"
          ]
        }
      ]
    },
    {
      "cell_type": "code",
      "metadata": {
        "id": "tAOkme3CIvyO",
        "colab": {
          "base_uri": "https://localhost:8080/"
        },
        "outputId": "2064713b-51d7-4a49-e348-ce27cf40499f"
      },
      "source": [
        "### EXACT GP EI GRADIENTS\n",
        "\n",
        "np.random.seed(run_num_7)\n",
        "surrogate_exact_7 = dGaussianProcess(cov_func, optimize=opt)\n",
        "\n",
        "exact_7 = dGPGO(surrogate_exact_7, Acquisition_new(util_grad_exact), objfunc, param)\n",
        "exact_7.run(init_evals=n_init, max_iter=iters)\n"
      ],
      "execution_count": 40,
      "outputs": [
        {
          "output_type": "stream",
          "name": "stdout",
          "text": [
            "Evaluation \t Proposed point \t  Current eval. \t Best eval.\n",
            "init   \t [-8.47383421  5.59837584 -1.23181537]. \t  -10236.238023609843 \t -10236.238023609843\n",
            "init   \t [4.46930356 9.55979024 0.76991741]. \t  -63811.243249036976 \t -10236.238023609843\n",
            "init   \t [ 0.02240927 -8.55897733 -4.6312204 ]. \t  -50862.43407074502 \t -10236.238023609843\n",
            "init   \t [-2.34998349e-03  3.58459992e+00  6.07478072e+00]. \t  -16115.196076305741 \t -10236.238023609843\n",
            "init   \t [-2.38117734 -8.68127306 -4.23708801]. \t  -52860.9167787799 \t -10236.238023609843\n",
            "1      \t [-10. -10. -10.]. \t  -220621.0 \t -10236.238023609843\n",
            "2      \t [-5.16794167 -9.78840186  6.61280652]. \t  -105864.29006834452 \t -10236.238023609843\n",
            "3      \t [ 6.70937122 -8.01304972  2.92508219]. \t  -31552.380495254474 \t -10236.238023609843\n",
            "4      \t [ 1.15127802  3.13409361 -7.84817735]. \t  -43922.72435837149 \t -10236.238023609843\n",
            "5      \t [-9.80514994  9.62358704  9.38552191]. \t  -159410.87903326433 \t -10236.238023609843\n",
            "6      \t [-8.32125705  0.96206725  5.95689238]. \t  -14996.809492771568 \t -10236.238023609843\n",
            "7      \t [ 2.60005424 -8.85713712  9.79392453]. \t  -168458.45063088578 \t -10236.238023609843\n",
            "8      \t [8.66522451 5.38017998 9.74494226]. \t  -107078.9104872437 \t -10236.238023609843\n",
            "9      \t [ 9.02491218 -0.70469877 -3.36700283]. \t  \u001b[92m-1833.0247693282868\u001b[0m \t -1833.0247693282868\n",
            "10     \t [-8.90956519  3.61951594 -9.74008684]. \t  -106484.73572265934 \t -1833.0247693282868\n",
            "11     \t [-9.67318068 -9.02149493 -0.26786193]. \t  -59842.47996633247 \t -1833.0247693282868\n",
            "12     \t [ 8.65509283  5.49142818 -6.90629918]. \t  -29642.766167532078 \t -1833.0247693282868\n",
            "13     \t [ -3.73023305  -2.32436476 -10.        ]. \t  -123250.38677825891 \t -1833.0247693282868\n",
            "14     \t [-4.41297956  9.8059798   3.59629778]. \t  -78206.52842403264 \t -1833.0247693282868\n",
            "15     \t [ 2.12256335 -0.58827357  0.23889405]. \t  \u001b[92m-6.832576058969283\u001b[0m \t -6.832576058969283\n",
            "16     \t [-4.5394054  -0.5450872  -1.75003947]. \t  -216.87489261389192 \t -6.832576058969283\n",
            "17     \t [ 6.49619114 -6.77105    -5.73555168]. \t  -30344.292102559622 \t -6.832576058969283\n",
            "18     \t [-10.          -2.39487307  -2.97500676]. \t  -2254.565615009634 \t -6.832576058969283\n",
            "19     \t [-0.36888002 -2.76502796  4.59896094]. \t  -6585.131551862414 \t -6.832576058969283\n",
            "20     \t [9.83459634 0.20376561 3.53923801]. \t  -2120.6013566152346 \t -6.832576058969283\n",
            "21     \t [-2.13427107  8.02058628 -2.45013219]. \t  -34271.559108814516 \t -6.832576058969283\n",
            "22     \t [5.16088907 3.01402317 0.32553192]. \t  -379.27277141520415 \t -6.832576058969283\n",
            "23     \t [-8.85293205 -4.89096697  9.26147383]. \t  -99919.9913854413 \t -6.832576058969283\n",
            "24     \t [ 7.11428911 -0.49932635 -9.71658137]. \t  -107654.77799708246 \t -6.832576058969283\n",
            "25     \t [ 7.79708716 -2.70089073  9.41735628]. \t  -97418.51021097467 \t -6.832576058969283\n",
            "26     \t [3.59937202 8.89533814 7.75811155]. \t  -85127.12328281789 \t -6.832576058969283\n",
            "27     \t [-3.48052556  3.59941929  1.13048922]. \t  -1751.1398164931277 \t -6.832576058969283\n",
            "28     \t [-3.10335    -1.99248291  9.9865889 ]. \t  -122014.7892994684 \t -6.832576058969283\n",
            "29     \t [ 3.85182192 -2.67228237 -2.93225826]. \t  -1409.9968389926678 \t -6.832576058969283\n",
            "30     \t [  0.78303105 -10.           1.62014883]. \t  -80072.51445381607 \t -6.832576058969283\n"
          ]
        }
      ]
    },
    {
      "cell_type": "code",
      "metadata": {
        "id": "69-J3EF4Iv1S",
        "colab": {
          "base_uri": "https://localhost:8080/"
        },
        "outputId": "cff25d3d-29a8-4d38-9288-a4d5bdc7f2c1"
      },
      "source": [
        "### EXACT GP EI GRADIENTS\n",
        "\n",
        "np.random.seed(run_num_8)\n",
        "surrogate_exact_8 = dGaussianProcess(cov_func, optimize=opt)\n",
        "\n",
        "exact_8 = dGPGO(surrogate_exact_8, Acquisition_new(util_grad_exact), objfunc, param)\n",
        "exact_8.run(init_evals=n_init, max_iter=iters)\n"
      ],
      "execution_count": 41,
      "outputs": [
        {
          "output_type": "stream",
          "name": "stdout",
          "text": [
            "Evaluation \t Proposed point \t  Current eval. \t Best eval.\n",
            "init   \t [7.46858806 9.37081326 7.3838908 ]. \t  -86398.56273239222 \t -19.158799931573643\n",
            "init   \t [ 0.61711383 -5.34543344 -9.77202391]. \t  -122028.27716628066 \t -19.158799931573643\n",
            "init   \t [-1.39062363 -1.9529728   0.45349343]. \t  -185.16317561320295 \t -19.158799931573643\n",
            "init   \t [-0.43216408  1.10712948  0.86772035]. \t  -19.158799931573643 \t -19.158799931573643\n",
            "init   \t [5.21791151 4.24749148 2.39364192]. \t  -2079.039537100791 \t -19.158799931573643\n",
            "1      \t [ 5.91149117 -9.35983687 -0.89104356]. \t  -57709.74714740788 \t -19.158799931573643\n",
            "2      \t [-4.01894503  7.30848062  6.93893087]. \t  -48356.33098205576 \t -19.158799931573643\n",
            "3      \t [-6.23415159 -2.85576708  4.59444715]. \t  -7163.787122326564 \t -19.158799931573643\n",
            "4      \t [-10. -10. -10.]. \t  -220621.0 \t -19.158799931573643\n",
            "5      \t [ 8.88043753 -3.47867257 -6.48954407]. \t  -23609.194785088257 \t -19.158799931573643\n",
            "6      \t [ 3.22546284 -3.22818606  7.56495417]. \t  -42175.11719566289 \t -19.158799931573643\n",
            "7      \t [-8.86376377  2.19322462 -9.29644966]. \t  -88149.73616258331 \t -19.158799931573643\n",
            "8      \t [-9.29486377 -6.88958424  5.69557689]. \t  -37285.04360881652 \t -19.158799931573643\n",
            "9      \t [ 9.93191874 -6.48819782  8.25144342]. \t  -72165.66228753423 \t -19.158799931573643\n",
            "10     \t [ 3.59906412  8.7065713  -7.88671496]. \t  -83975.78705455337 \t -19.158799931573643\n",
            "11     \t [-4.47948963  5.99786732 -0.24312572]. \t  -11816.310068361841 \t -19.158799931573643\n",
            "12     \t [-8.46261454 -4.24780485 -4.50234997]. \t  -10077.463987413059 \t -19.158799931573643\n",
            "13     \t [-8.60558124e+00  1.01479470e+00 -5.03529228e-03]. \t  -322.8491956935241 \t -19.158799931573643\n",
            "14     \t [-3.93170548  7.89380631 -9.48112979]. \t  -121715.99264395752 \t -19.158799931573643\n",
            "15     \t [ 0.59052587  1.08173618 -5.38117506]. \t  -9696.04047143286 \t -19.158799931573643\n",
            "16     \t [-3.70740588  1.81466834  9.77653024]. \t  -107790.2686515189 \t -19.158799931573643\n",
            "17     \t [ 7.42704428 -6.30046155  8.41770504]. \t  -76125.29945778343 \t -19.158799931573643\n",
            "18     \t [-4.76305655 -7.78977662  0.55743036]. \t  -32060.13550189752 \t -19.158799931573643\n",
            "19     \t [ 0.44576118  9.42970212 -1.8151668 ]. \t  -62960.917685261295 \t -19.158799931573643\n",
            "20     \t [ -2.6619824  -10.          -5.31037126]. \t  -95384.08251939798 \t -19.158799931573643\n",
            "21     \t [-10.           6.88895973  -3.79507467]. \t  -23576.50047919537 \t -19.158799931573643\n",
            "22     \t [-2.34011278 -9.46975214  8.16615122]. \t  -127246.84547978008 \t -19.158799931573643\n",
            "23     \t [2.80391394 4.52494434 9.24935264]. \t  -86156.33434232303 \t -19.158799931573643\n",
            "24     \t [ 9.49980134 -1.13709533  4.6453721 ]. \t  -6054.271314714312 \t -19.158799931573643\n",
            "25     \t [  5.30266652   2.5333457  -10.        ]. \t  -117111.24422767614 \t -19.158799931573643\n",
            "26     \t [-9.29189142  9.63438375  3.27961322]. \t  -76528.12691743656 \t -19.158799931573643\n",
            "27     \t [  8.2625404  -10.          -7.59666549]. \t  -120768.76689110309 \t -19.158799931573643\n",
            "28     \t [ 4.36019048 -1.06272332 -0.64543654]. \t  -30.90619588320476 \t -19.158799931573643\n",
            "29     \t [-10.         -10.          -2.61632611]. \t  -90004.6944487473 \t -19.158799931573643\n",
            "30     \t [-9.81515229 -0.26364081  8.42987668]. \t  -61139.26172052042 \t -19.158799931573643\n"
          ]
        }
      ]
    },
    {
      "cell_type": "code",
      "metadata": {
        "id": "vonm9jyuIv4t",
        "colab": {
          "base_uri": "https://localhost:8080/"
        },
        "outputId": "064b95c4-2c8e-4b5f-eed0-e2e4aad2a663"
      },
      "source": [
        "### EXACT GP EI GRADIENTS\n",
        "\n",
        "np.random.seed(run_num_9)\n",
        "surrogate_exact_9 = dGaussianProcess(cov_func, optimize=opt)\n",
        "\n",
        "exact_9 = dGPGO(surrogate_exact_9, Acquisition_new(util_grad_exact), objfunc, param)\n",
        "exact_9.run(init_evals=n_init, max_iter=iters)\n"
      ],
      "execution_count": 42,
      "outputs": [
        {
          "output_type": "stream",
          "name": "stdout",
          "text": [
            "Evaluation \t Proposed point \t  Current eval. \t Best eval.\n",
            "init   \t [-9.79251692  0.03749184 -0.08453414]. \t  -308.3769452572715 \t -308.3769452572715\n",
            "init   \t [-7.32340942 -7.15777829 -5.62882649]. \t  -39098.793761550274 \t -308.3769452572715\n",
            "init   \t [-1.62983639 -5.03797663 -8.31880698]. \t  -67224.5603542052 \t -308.3769452572715\n",
            "init   \t [-3.0900272  -6.66447307  7.57118171]. \t  -61063.84970572342 \t -308.3769452572715\n",
            "init   \t [ 9.01928063 -9.22503248  3.98214783]. \t  -57052.59558792292 \t -308.3769452572715\n",
            "1      \t [2.99080926 7.21663846 9.41692024]. \t  -107317.26583764593 \t -308.3769452572715\n",
            "2      \t [ 6.86233684  2.90237997 -3.94602224]. \t  -2626.2381369461364 \t -308.3769452572715\n",
            "3      \t [-9.77584307 -9.02200933  2.98685213]. \t  -61841.45747865176 \t -308.3769452572715\n",
            "4      \t [-2.00413361  1.08900426  2.95561752]. \t  -852.467214273503 \t -308.3769452572715\n",
            "5      \t [ 0.47363479  9.30843577 -8.60467824]. \t  -117507.45495400687 \t -308.3769452572715\n",
            "6      \t [ 7.08809023 -0.77927986  8.97599599]. \t  -78756.71445675654 \t -308.3769452572715\n",
            "7      \t [-8.38555052  3.98138274 -6.84585142]. \t  -27467.420044115126 \t -308.3769452572715\n",
            "8      \t [-5.61730476  8.51392682  5.68306534]. \t  -54834.29015625984 \t -308.3769452572715\n",
            "9      \t [ 1.55836861 -1.77809853 -2.28997058]. \t  -497.086726862544 \t -308.3769452572715\n",
            "10     \t [ 6.11629874 -8.74204803 -0.96542318]. \t  -43423.330956225946 \t -308.3769452572715\n",
            "11     \t [ -2.14215511 -10.           0.15099597]. \t  -82035.51709801618 \t -308.3769452572715\n",
            "12     \t [3.01277451 9.9078286  1.97878079]. \t  -74760.19292573501 \t -308.3769452572715\n",
            "13     \t [-8.22545226  0.94352057 -9.98576062]. \t  -118476.9822257634 \t -308.3769452572715\n",
            "14     \t [-5.90445064  4.76769725 -0.44902029]. \t  -5381.815569866414 \t -308.3769452572715\n",
            "15     \t [-7.96511569 -0.14524422  8.92186616]. \t  -76380.74596584775 \t -308.3769452572715\n",
            "16     \t [ 9.07435034 -0.73867801  0.56904183]. \t  \u001b[92m-198.41906833715552\u001b[0m \t -198.41906833715552\n",
            "17     \t [9.18884834 5.371142   5.62581791]. \t  -14840.535031823034 \t -198.41906833715552\n",
            "18     \t [ 9.39804768  7.24650959 -9.67349605]. \t  -115458.18884345451 \t -198.41906833715552\n",
            "19     \t [ 2.67397609 -9.60699355 -6.74252583]. \t  -96507.72486463335 \t -198.41906833715552\n",
            "20     \t [ 3.40740174 -4.6442811   3.10265561]. \t  -4876.178783599948 \t -198.41906833715552\n",
            "21     \t [  1.67075862   0.88105197 -10.        ]. \t  -118945.54427793321 \t -198.41906833715552\n",
            "22     \t [ 6.48889597 -3.46760059 -5.29137599]. \t  -11255.038139110817 \t -198.41906833715552\n",
            "23     \t [-4.58609709 -3.31824607 -0.53742102]. \t  -1492.6682660970741 \t -198.41906833715552\n",
            "24     \t [ 2.18741158  3.34390211 -0.03112169]. \t  -849.054143613173 \t -198.41906833715552\n",
            "25     \t [-10. -10. -10.]. \t  -220621.0 \t -198.41906833715552\n",
            "26     \t [-1.69609075  2.4846758   8.64256995]. \t  -65143.48537695178 \t -198.41906833715552\n",
            "27     \t [ 1.64068134  4.53690018 -5.67028227]. \t  -13841.449674297011 \t -198.41906833715552\n",
            "28     \t [3.34206373 2.19226953 5.1105223 ]. \t  -7596.899219796758 \t -198.41906833715552\n",
            "29     \t [-9.46827942 -3.3727254   4.20834155]. \t  -6700.382378906773 \t -198.41906833715552\n",
            "30     \t [-2.13406081  8.92740185 -0.49181832]. \t  -52408.279161709695 \t -198.41906833715552\n"
          ]
        }
      ]
    },
    {
      "cell_type": "code",
      "metadata": {
        "id": "6amuYlUdIv7r",
        "colab": {
          "base_uri": "https://localhost:8080/"
        },
        "outputId": "fbce8b99-b5d3-45ab-a7be-3ab6e4c19718"
      },
      "source": [
        "### EXACT GP EI GRADIENTS\n",
        "\n",
        "np.random.seed(run_num_10)\n",
        "surrogate_exact_10 = dGaussianProcess(cov_func, optimize=opt)\n",
        "\n",
        "exact_10 = dGPGO(surrogate_exact_10, Acquisition_new(util_grad_exact), objfunc, param)\n",
        "exact_10.run(init_evals=n_init, max_iter=iters)\n"
      ],
      "execution_count": 43,
      "outputs": [
        {
          "output_type": "stream",
          "name": "stdout",
          "text": [
            "Evaluation \t Proposed point \t  Current eval. \t Best eval.\n",
            "init   \t [ 5.42641287 -9.58496101  2.6729647 ]. \t  -65323.138576781035 \t -11089.42002600802\n",
            "init   \t [ 4.97607765 -0.02985975 -5.50406709]. \t  -11089.42002600802 \t -11089.42002600802\n",
            "init   \t [-6.0387427   5.21061424 -6.61778327]. \t  -27690.457734888914 \t -11089.42002600802\n",
            "init   \t [-8.23320372  3.70719637  9.06786692]. \t  -80154.14403008527 \t -11089.42002600802\n",
            "init   \t [-9.92103467  0.24384527  6.25241923]. \t  -18545.57155390516 \t -11089.42002600802\n",
            "1      \t [6.10446394 0.43294305 8.17297762]. \t  -53288.212919444646 \t -11089.42002600802\n",
            "2      \t [-9.70279951  9.55798527  1.46057808]. \t  -74244.04457503722 \t -11089.42002600802\n",
            "3      \t [-10. -10. -10.]. \t  -220621.0 \t -11089.42002600802\n",
            "4      \t [3.25643503 8.71340004 2.25458364]. \t  -44169.54631375984 \t -11089.42002600802\n",
            "5      \t [ 2.79258297 -9.89687304 -9.50522433]. \t  -183561.10016043443 \t -11089.42002600802\n",
            "6      \t [-4.98308838 -5.45122172 -0.08367683]. \t  \u001b[92m-8423.916974996884\u001b[0m \t -8423.916974996884\n",
            "7      \t [8.36592595 9.69243692 9.9409429 ]. \t  -170487.79984656384 \t -8423.916974996884\n",
            "8      \t [-8.10627237 -7.68484846  9.39376664]. \t  -133702.30988488309 \t -8423.916974996884\n",
            "9      \t [ 4.75956805  9.80240257 -8.62327379]. \t  -128158.33219601207 \t -8423.916974996884\n",
            "10     \t [-2.21455043 -2.04456708 -9.95584243]. \t  -120572.83304525595 \t -8423.916974996884\n",
            "11     \t [ 9.83225873 -6.8445066  -1.70517289]. \t  -14624.58036951033 \t -8423.916974996884\n",
            "12     \t [4.46588649 0.41056736 4.72710494]. \t  \u001b[92m-5928.386985062376\u001b[0m \t -5928.386985062376\n",
            "13     \t [0.13669514 7.60924004 9.42572017]. \t  -113538.00276881627 \t -5928.386985062376\n",
            "14     \t [-4.28724281  3.94774388  1.49012921]. \t  \u001b[92m-2543.026603093098\u001b[0m \t -2543.026603093098\n",
            "15     \t [-9.49008293  1.73444558 -1.55934911]. \t  \u001b[92m-620.3226263026012\u001b[0m \t -620.3226263026012\n",
            "16     \t [-9.70289656 -1.91145949 -9.31901018]. \t  -93198.65589580404 \t -620.3226263026012\n",
            "17     \t [-10.         -10.          -1.81642932]. \t  -89147.56356806979 \t -620.3226263026012\n",
            "18     \t [ 2.45837756 -7.78211666  9.96377535]. \t  -155887.89128362524 \t -620.3226263026012\n",
            "19     \t [-0.02482335 -4.179395    3.83397745]. \t  -5827.863453359933 \t -620.3226263026012\n",
            "20     \t [-3.11948844 -9.72126164 -5.14104695]. \t  -85590.78195687437 \t -620.3226263026012\n",
            "21     \t [ 8.12668726  3.30597218 -0.16423575]. \t  \u001b[92m-459.6642386808646\u001b[0m \t -459.6642386808646\n",
            "22     \t [ 1.71849052 -5.79281282 -3.0329156 ]. \t  -10308.95780960949 \t -459.6642386808646\n",
            "23     \t [-4.54001558 -0.6760189  -3.24143636]. \t  -1501.531665669899 \t -459.6642386808646\n",
            "24     \t [-2.53545263  0.24667187  9.50763802]. \t  -97814.69194917093 \t -459.6642386808646\n",
            "25     \t [-5.76687194  9.63201948  7.5367579 ]. \t  -105682.72094071432 \t -459.6642386808646\n",
            "26     \t [ 0.72244472  4.71669657 -5.96255248]. \t  -17053.902167002227 \t -459.6642386808646\n",
            "27     \t [ 8.20579494  8.23207077 -1.88433219]. \t  -32480.69118363844 \t -459.6642386808646\n",
            "28     \t [0.02437154 0.48225675 0.33883578]. \t  \u001b[92m-1.531887033891798\u001b[0m \t -1.531887033891798\n",
            "29     \t [-1.55015738 -9.27601231  6.31018941]. \t  -84024.04550690287 \t -1.531887033891798\n",
            "30     \t [-0.11278605 -9.88770569 -0.11475605]. \t  -76851.00054287295 \t -1.531887033891798\n"
          ]
        }
      ]
    },
    {
      "cell_type": "code",
      "metadata": {
        "id": "VwbLIP9cIv-F",
        "colab": {
          "base_uri": "https://localhost:8080/"
        },
        "outputId": "7bb8d547-9a15-4699-c13a-1fa82aa10051"
      },
      "source": [
        "### EXACT GP EI GRADIENTS\n",
        "\n",
        "np.random.seed(run_num_11)\n",
        "surrogate_exact_11 = dGaussianProcess(cov_func, optimize=opt)\n",
        "\n",
        "exact_11 = dGPGO(surrogate_exact_11, Acquisition_new(util_grad_exact), objfunc, param)\n",
        "exact_11.run(init_evals=n_init, max_iter=iters)\n"
      ],
      "execution_count": 44,
      "outputs": [
        {
          "output_type": "stream",
          "name": "stdout",
          "text": [
            "Evaluation \t Proposed point \t  Current eval. \t Best eval.\n",
            "init   \t [-6.39460622 -9.61049517 -0.73562947]. \t  -73449.7462395723 \t -22.303897517794855\n",
            "init   \t [ 4.49867858 -1.59592791 -0.29145804]. \t  -22.303897517794855 \t -22.303897517794855\n",
            "init   \t [-9.74438371 -0.25256785  8.83613305]. \t  -73699.8605668882 \t -22.303897517794855\n",
            "init   \t [ 7.01590179  4.5992894  -7.82527856]. \t  -44207.59530328671 \t -22.303897517794855\n",
            "init   \t [ 7.87808341  7.14308494 -6.69826765]. \t  -38246.569253964415 \t -22.303897517794855\n",
            "1      \t [-1.96647039  6.95957995  4.35698359]. \t  -22430.99927361658 \t -22.303897517794855\n",
            "2      \t [-3.72641694  8.61531845 -5.23307798]. \t  -52726.91681995238 \t -22.303897517794855\n",
            "3      \t [-10. -10. -10.]. \t  -220621.0 \t -22.303897517794855\n",
            "4      \t [ 4.43147963 -5.55301844 -8.46208901]. \t  -72959.52458628741 \t -22.303897517794855\n",
            "5      \t [ 5.40088552 -8.93292028  7.72280751]. \t  -96888.8410801737 \t -22.303897517794855\n",
            "6      \t [5.83565357 7.48319456 8.81597125]. \t  -88239.63646454494 \t -22.303897517794855\n",
            "7      \t [-9.91700398  2.82413986 -1.82953825]. \t  -1502.4804901611444 \t -22.303897517794855\n",
            "8      \t [-10.           2.78580583 -10.        ]. \t  -118104.00174572099 \t -22.303897517794855\n",
            "9      \t [-0.1949367  -2.43324167  7.75375352]. \t  -45438.36504414475 \t -22.303897517794855\n",
            "10     \t [-9.59976122  8.38827695  9.33640652]. \t  -127925.16238139631 \t -22.303897517794855\n",
            "11     \t [ 9.94586593 -2.0428196   8.80292621]. \t  -74056.48899898017 \t -22.303897517794855\n",
            "12     \t [-4.41714463 -8.33150362  7.94479248]. \t  -95395.66273479555 \t -22.303897517794855\n",
            "13     \t [-3.45752721 -5.4121219  -5.86814825]. \t  -24271.353946298736 \t -22.303897517794855\n",
            "14     \t [6.77380477 5.51762182 1.08852084]. \t  -5919.82142765174 \t -22.303897517794855\n",
            "15     \t [ -0.26369276   0.94356864 -10.        ]. \t  -118880.34413531271 \t -22.303897517794855\n",
            "16     \t [-1.82997254  1.52462311  0.21400556]. \t  -98.12234470389576 \t -22.303897517794855\n",
            "17     \t [-5.50417646 -2.86129737 -0.03137646]. \t  -1024.212365994609 \t -22.303897517794855\n",
            "18     \t [-9.83685201 -2.74243305 -4.79430233]. \t  -8474.238902661504 \t -22.303897517794855\n",
            "19     \t [  5.7036937  -10.           0.45884117]. \t  -75850.03014258256 \t -22.303897517794855\n",
            "20     \t [ 2.2623977   9.71703066 -8.80160564]. \t  -132891.1228025034 \t -22.303897517794855\n",
            "21     \t [-8.27620771  3.88740446  3.554273  ]. \t  -4421.6495942112415 \t -22.303897517794855\n",
            "22     \t [4.20993569 1.44857412 4.880601  ]. \t  -6411.394999429953 \t -22.303897517794855\n",
            "23     \t [-7.84060504  8.71489766 -9.93078474]. \t  -157737.8050227429 \t -22.303897517794855\n",
            "24     \t [ 1.87863069  5.10921982 -3.29530154]. \t  -5894.471187017387 \t -22.303897517794855\n",
            "25     \t [ 2.69741318  0.07454158 -4.85036223]. \t  -6637.966211909346 \t -22.303897517794855\n",
            "26     \t [ -1.46627405 -10.         -10.        ]. \t  -213483.40166839905 \t -22.303897517794855\n",
            "27     \t [-4.00148531  1.01806004 -4.76545148]. \t  -6013.156187458651 \t -22.303897517794855\n",
            "28     \t [ 0.55114438 -5.44982672  0.63887055]. \t  -7044.658328783841 \t -22.303897517794855\n",
            "29     \t [-8.31002106  9.96009525  1.34161829]. \t  -85671.8828037108 \t -22.303897517794855\n",
            "30     \t [ 0.54624301 -9.55415909 -3.76552415]. \t  -70573.14303596377 \t -22.303897517794855\n"
          ]
        }
      ]
    },
    {
      "cell_type": "code",
      "metadata": {
        "id": "MlUNFjc-JTBY",
        "colab": {
          "base_uri": "https://localhost:8080/"
        },
        "outputId": "3d2d2787-1576-4b12-96a9-8cb7423613ba"
      },
      "source": [
        "### EXACT GP EI GRADIENTS\n",
        "\n",
        "np.random.seed(run_num_12)\n",
        "surrogate_exact_12 = dGaussianProcess(cov_func, optimize=opt)\n",
        "\n",
        "exact_12 = dGPGO(surrogate_exact_12, Acquisition_new(util_grad_exact), objfunc, param)\n",
        "exact_12.run(init_evals=n_init, max_iter=iters)\n"
      ],
      "execution_count": 45,
      "outputs": [
        {
          "output_type": "stream",
          "name": "stdout",
          "text": [
            "Evaluation \t Proposed point \t  Current eval. \t Best eval.\n",
            "init   \t [-6.91674315  4.80099393 -4.7336997 ]. \t  -10487.591252066548 \t -4586.38475927115\n",
            "init   \t [ 0.67478787 -9.70850075  8.37494016]. \t  -138053.19180525147 \t -4586.38475927115\n",
            "init   \t [ 8.01429708 -9.33157145  9.13898673]. \t  -148578.70720060062 \t -4586.38475927115\n",
            "init   \t [-7.25581357 -4.32343294  2.12166369]. \t  -4586.38475927115 \t -4586.38475927115\n",
            "init   \t [ 8.88450272  7.05471082 -9.95481533]. \t  -126104.01453704505 \t -4586.38475927115\n",
            "1      \t [ 4.05244711 -3.44861047 -3.30704942]. \t  \u001b[92m-2711.705028601448\u001b[0m \t -2711.705028601448\n",
            "2      \t [-9.83993321 -9.79123196  1.94917609]. \t  -82290.79404809132 \t -2711.705028601448\n",
            "3      \t [-9.24117561 -6.89977426 -6.58701988]. \t  -48252.938906954136 \t -2711.705028601448\n",
            "4      \t [-9.90274624 -5.05558204  6.5981439 ]. \t  -33027.81342315861 \t -2711.705028601448\n",
            "5      \t [8.11179655 4.25164412 2.83994041]. \t  \u001b[92m-2046.5141241551942\u001b[0m \t -2046.5141241551942\n",
            "6      \t [-1.0203127   6.70305372  2.93327516]. \t  -16854.29441646725 \t -2046.5141241551942\n",
            "7      \t [2.24146714 3.87396922 9.57204863]. \t  -98069.68646479683 \t -2046.5141241551942\n",
            "8      \t [-3.39588922 -3.70052717  9.95424593]. \t  -124174.59831589606 \t -2046.5141241551942\n",
            "9      \t [-0.02778373  2.51700407 -8.18845817]. \t  -52267.14736837279 \t -2046.5141241551942\n",
            "10     \t [-9.79176428  7.36536448  5.25320924]. \t  -34963.294709396985 \t -2046.5141241551942\n",
            "11     \t [-0.53373012 -1.61529331  2.18643426]. \t  \u001b[92m-443.25295788399114\u001b[0m \t -443.25295788399114\n",
            "12     \t [ -0.52836038 -10.         -10.        ]. \t  -212725.58251934033 \t -443.25295788399114\n",
            "13     \t [-2.3327113  -6.10833514 -1.76271163]. \t  -12311.171273777029 \t -443.25295788399114\n",
            "14     \t [ 9.35895679 -7.79847857  1.281155  ]. \t  -25648.963979411732 \t -443.25295788399114\n",
            "15     \t [9.72058271 7.89080656 9.56612543]. \t  -118450.58666630497 \t -443.25295788399114\n",
            "16     \t [ 9.96439472 -4.89952072 -7.88213526]. \t  -53018.92173962747 \t -443.25295788399114\n",
            "17     \t [ -9.82924261   2.04327992 -10.        ]. \t  -118338.83024928217 \t -443.25295788399114\n",
            "18     \t [ 6.37172418 -1.60507134  7.83761682]. \t  -46503.85779285467 \t -443.25295788399114\n",
            "19     \t [  3.32740196  -2.81999318 -10.        ]. \t  -123729.64372152484 \t -443.25295788399114\n",
            "20     \t [ 4.52874965  8.03034915 -3.11785973]. \t  -31375.886547675673 \t -443.25295788399114\n",
            "21     \t [-3.09077863  2.02860625 -1.10864485]. \t  \u001b[92m-273.63018273914633\u001b[0m \t -273.63018273914633\n",
            "22     \t [ 6.72999519 -9.85288555  3.98217806]. \t  -75475.66507226418 \t -273.63018273914633\n",
            "23     \t [-8.10098369  0.61845424  8.65164439]. \t  -66917.6608684197 \t -273.63018273914633\n",
            "24     \t [8.93016367 9.34534294 3.75261049]. \t  -56065.29536785501 \t -273.63018273914633\n",
            "25     \t [ 5.60025924 -9.4786315  -4.58508299]. \t  -68599.23346324619 \t -273.63018273914633\n",
            "26     \t [-10.          -0.61996034  -2.95419073]. \t  -1332.9866682126767 \t -273.63018273914633\n",
            "27     \t [-0.24794376  9.14821148 -9.57675165]. \t  -147320.20240691642 \t -273.63018273914633\n",
            "28     \t [ 9.16948584  3.76306214 -3.231132  ]. \t  -1679.3350651457527 \t -273.63018273914633\n",
            "29     \t [-7.53564299  3.35178712  1.77184365]. \t  -1899.112119414021 \t -273.63018273914633\n",
            "30     \t [-4.66044993 -3.30765764 -9.19280293]. \t  -90526.51378961373 \t -273.63018273914633\n"
          ]
        }
      ]
    },
    {
      "cell_type": "code",
      "metadata": {
        "id": "9BsKdU9eJTFL",
        "colab": {
          "base_uri": "https://localhost:8080/"
        },
        "outputId": "b112fe22-30ca-4c13-872b-b9756bacc288"
      },
      "source": [
        "### EXACT GP EI GRADIENTS\n",
        "\n",
        "np.random.seed(run_num_13)\n",
        "surrogate_exact_13 = dGaussianProcess(cov_func, optimize=opt)\n",
        "\n",
        "exact_13 = dGPGO(surrogate_exact_13, Acquisition_new(util_grad_exact), objfunc, param)\n",
        "exact_13.run(init_evals=n_init, max_iter=iters)\n"
      ],
      "execution_count": 46,
      "outputs": [
        {
          "output_type": "stream",
          "name": "stdout",
          "text": [
            "Evaluation \t Proposed point \t  Current eval. \t Best eval.\n",
            "init   \t [ 5.55404821 -5.2491756   6.48557065]. \t  -28895.231649642476 \t -7190.67128147545\n",
            "init   \t [ 9.31498396  9.45202228 -0.93101505]. \t  -57617.86193657745 \t -7190.67128147545\n",
            "init   \t [2.18084926 5.51053029 2.8322669 ]. \t  -7190.67128147545 \t -7190.67128147545\n",
            "init   \t [ 4.44036459 -9.29926952 -4.03101058]. \t  -62045.794621798595 \t -7190.67128147545\n",
            "init   \t [-8.82975016  7.14121885 -2.54291944]. \t  -24761.06708561053 \t -7190.67128147545\n",
            "1      \t [ 0.185244   -0.40233217  9.1114829 ]. \t  -83108.09560590271 \t -7190.67128147545\n",
            "2      \t [-2.55507975  5.16954611 -8.57852975]. \t  -66788.32667697628 \t -7190.67128147545\n",
            "3      \t [-4.04492519 -9.41811807  2.86360578]. \t  -67871.1485238979 \t -7190.67128147545\n",
            "4      \t [ 5.82685351 -2.07230908 -7.09410447]. \t  -31695.800000421277 \t -7190.67128147545\n",
            "5      \t [-9.72135464 -7.69244795 -6.22844507]. \t  -54735.99736938843 \t -7190.67128147545\n",
            "6      \t [ 1.70981611 -7.96842051  6.63640935]. \t  -59069.60046239685 \t -7190.67128147545\n",
            "7      \t [-6.89693512  7.89224447  6.75048422]. \t  -55421.72956910572 \t -7190.67128147545\n",
            "8      \t [7.79388742 5.66497036 7.57468992]. \t  -42105.64148230834 \t -7190.67128147545\n",
            "9      \t [ 1.6639904   1.75101086 -5.56192983]. \t  -10883.292818686088 \t -7190.67128147545\n",
            "10     \t [ 0.71676649 -3.50814205  0.69632921]. \t  \u001b[92m-1202.401865042869\u001b[0m \t -1202.401865042869\n",
            "11     \t [-7.33037661 -5.43830137  9.80324356]. \t  -126099.93632971952 \t -1202.401865042869\n",
            "12     \t [-8.01313564 -2.54697856  2.63441906]. \t  -1771.7422457954754 \t -1202.401865042869\n",
            "13     \t [-4.97534813 -0.47854967 -2.75809964]. \t  \u001b[92m-833.5375014555372\u001b[0m \t -833.5375014555372\n",
            "14     \t [-0.33580928 -8.46313836 -9.58914318]. \t  -152249.80067087663 \t -833.5375014555372\n",
            "15     \t [1.16791617 8.90731968 9.7376148 ]. \t  -147615.9565299587 \t -833.5375014555372\n",
            "16     \t [-7.02932367 -1.51277489 -9.24443588]. \t  -89532.22926823726 \t -833.5375014555372\n",
            "17     \t [ 7.35590662 -4.18949281 -0.40660182]. \t  -1641.5727083194456 \t -833.5375014555372\n",
            "18     \t [ 7.6080448   8.49246997 -8.49971853]. \t  -92868.82082788214 \t -833.5375014555372\n",
            "19     \t [6.28948877 1.1576258  7.72507096]. \t  -41964.78613282861 \t -833.5375014555372\n",
            "20     \t [4.84759227 0.35590622 3.48973611]. \t  -1785.1061528226342 \t -833.5375014555372\n",
            "21     \t [ 0.97704632  7.74945115 -3.17516104]. \t  -28846.672843064996 \t -833.5375014555372\n",
            "22     \t [-8.82859559  7.62795782 -9.89307628]. \t  -137611.81884131514 \t -833.5375014555372\n",
            "23     \t [-8.29298953  1.46543017  6.92684074]. \t  -27192.217325005393 \t -833.5375014555372\n",
            "24     \t [-0.76641043  4.04361467  7.54919418]. \t  -38501.806298536794 \t -833.5375014555372\n",
            "25     \t [-1.32728119 -6.63684227 -3.55511569]. \t  -19053.843459955842 \t -833.5375014555372\n",
            "26     \t [-3.74993169  6.84480689  1.20453504]. \t  -19063.25889044354 \t -833.5375014555372\n",
            "27     \t [ 9.32247434 -6.6501672   9.42343523]. \t  -114438.29356832757 \t -833.5375014555372\n",
            "28     \t [-10.           0.27506645  -2.04410211]. \t  \u001b[92m-523.0374561992666\u001b[0m \t -523.0374561992666\n",
            "29     \t [ 9.47942229  1.53954207 -4.74957971]. \t  -5813.806037611841 \t -523.0374561992666\n",
            "30     \t [-10.          -7.95267861   2.74002095]. \t  -38962.7482291062 \t -523.0374561992666\n"
          ]
        }
      ]
    },
    {
      "cell_type": "code",
      "metadata": {
        "id": "k6GjFBr1JTJf",
        "colab": {
          "base_uri": "https://localhost:8080/"
        },
        "outputId": "1113415e-bff9-4401-a3ac-b0fcda62b90e"
      },
      "source": [
        "### EXACT GP EI GRADIENTS\n",
        "\n",
        "np.random.seed(run_num_14)\n",
        "surrogate_exact_14 = dGaussianProcess(cov_func, optimize=opt)\n",
        "\n",
        "exact_14 = dGPGO(surrogate_exact_14, Acquisition_new(util_grad_exact), objfunc, param)\n",
        "exact_14.run(init_evals=n_init, max_iter=iters)\n"
      ],
      "execution_count": 47,
      "outputs": [
        {
          "output_type": "stream",
          "name": "stdout",
          "text": [
            "Evaluation \t Proposed point \t  Current eval. \t Best eval.\n",
            "init   \t [0.27886688 5.46330104 7.40855371]. \t  -39702.89936997373 \t -1439.5830530376063\n",
            "init   \t [-9.83906103 -3.80528149  9.15207479]. \t  -91186.29991894927 \t -1439.5830530376063\n",
            "init   \t [ 0.26233425 -3.6343115   0.78399875]. \t  -1439.5830530376063 \t -1439.5830530376063\n",
            "init   \t [-5.57490115  6.12962716 -3.15490749]. \t  -13643.962145478023 \t -1439.5830530376063\n",
            "init   \t [ 0.77777698 -9.88252429  3.46304956]. \t  -79141.18744713577 \t -1439.5830530376063\n",
            "1      \t [ 7.75074914 -8.33301678  4.9312824 ]. \t  -44170.557703432896 \t -1439.5830530376063\n",
            "2      \t [-10. -10. -10.]. \t  -220621.0 \t -1439.5830530376063\n",
            "3      \t [ 0.20170278 -6.14709147 -9.49686071]. \t  -115740.3239857176 \t -1439.5830530376063\n",
            "4      \t [ 4.83739385  9.19757376 -4.23327137]. \t  -56168.40540313773 \t -1439.5830530376063\n",
            "5      \t [-9.55982645 -2.40648449 -1.49955998]. \t  \u001b[92m-1148.4811474641567\u001b[0m \t -1148.4811474641567\n",
            "6      \t [ 8.91311706  0.5903175  -5.94911306]. \t  -14979.042140174126 \t -1148.4811474641567\n",
            "7      \t [-9.98486983  5.65195322  8.85829998]. \t  -79698.68163272133 \t -1148.4811474641567\n",
            "8      \t [7.59629527 3.16066194 9.26099949]. \t  -85397.14985949233 \t -1148.4811474641567\n",
            "9      \t [ -4.16856678 -10.          -2.80752392]. \t  -85387.73140996444 \t -1148.4811474641567\n",
            "10     \t [-4.76065837 -6.01957255  5.24376667]. \t  -23130.52422954533 \t -1148.4811474641567\n",
            "11     \t [6.07674427 9.60748687 3.65072101]. \t  -64644.21910094508 \t -1148.4811474641567\n",
            "12     \t [-6.98452656  0.74550078 -9.19401505]. \t  -85183.98118751567 \t -1148.4811474641567\n",
            "13     \t [-3.36390978  3.12902366  6.11942711]. \t  -16523.004276481952 \t -1148.4811474641567\n",
            "14     \t [ 3.3917737   1.42270619 -9.26246341]. \t  -86873.68837026687 \t -1148.4811474641567\n",
            "15     \t [0.89026243 7.74449105 2.59197279]. \t  -28449.696044348027 \t -1148.4811474641567\n",
            "16     \t [ 2.85949821 -9.98935033 -4.12664889]. \t  -83217.46643077736 \t -1148.4811474641567\n",
            "17     \t [ 9.90614776 -2.19870759  0.40228013]. \t  \u001b[92m-98.51929076584533\u001b[0m \t -98.51929076584533\n",
            "18     \t [ 1.67962554  7.86219489 -1.3554492 ]. \t  -29795.99050124337 \t -98.51929076584533\n",
            "19     \t [-10.          -8.69516153   1.75280986]. \t  -52760.0669803885 \t -98.51929076584533\n",
            "20     \t [ 3.98830036 -0.08710796  4.51468451]. \t  -5047.124887126176 \t -98.51929076584533\n",
            "21     \t [ 0.63770632 -9.911869    9.98408417]. \t  -208105.61274985876 \t -98.51929076584533\n",
            "22     \t [ 7.34335328  3.38134628 -0.53802626]. \t  -545.7660452564704 \t -98.51929076584533\n",
            "23     \t [ 9.45748281 -8.7979638  -6.96320159]. \t  -75887.34858395637 \t -98.51929076584533\n",
            "24     \t [-0.94548274  0.08058695 -4.04723695]. \t  -3209.504116636766 \t -98.51929076584533\n",
            "25     \t [ 0.91820555  9.36077434 -9.48458808]. \t  -148047.94497424073 \t -98.51929076584533\n",
            "26     \t [-6.97895    -5.15744126 -6.6512769 ]. \t  -33609.622649196186 \t -98.51929076584533\n",
            "27     \t [-7.72181104  9.99501962  6.55114109]. \t  -103462.42869219532 \t -98.51929076584533\n",
            "28     \t [-1.66906746  2.03917241  0.85916091]. \t  -207.49539588527054 \t -98.51929076584533\n",
            "29     \t [-10.           2.56906688   3.07638619]. \t  -2000.373331134129 \t -98.51929076584533\n",
            "30     \t [-9.35545162  8.15709151 -8.27877565]. \t  -90541.2840371175 \t -98.51929076584533\n"
          ]
        }
      ]
    },
    {
      "cell_type": "code",
      "metadata": {
        "id": "dPS8WB3aJTN6",
        "colab": {
          "base_uri": "https://localhost:8080/"
        },
        "outputId": "9adb0ef3-9834-4a5c-84af-ecf75dcb0563"
      },
      "source": [
        "### EXACT GP EI GRADIENTS\n",
        "\n",
        "np.random.seed(run_num_15)\n",
        "surrogate_exact_15 = dGaussianProcess(cov_func, optimize=opt)\n",
        "\n",
        "exact_15 = dGPGO(surrogate_exact_15, Acquisition_new(util_grad_exact), objfunc, param)\n",
        "exact_15.run(init_evals=n_init, max_iter=iters)\n"
      ],
      "execution_count": 48,
      "outputs": [
        {
          "output_type": "stream",
          "name": "stdout",
          "text": [
            "Evaluation \t Proposed point \t  Current eval. \t Best eval.\n",
            "init   \t [ 6.97635395 -6.4220815  -8.91273571]. \t  -93407.31094956005 \t -3815.237318891498\n",
            "init   \t [-2.76923108 -4.49198143  0.6000045 ]. \t  -3815.237318891498 \t -3815.237318891498\n",
            "init   \t [-3.88162169 -3.91051282 -7.76517448]. \t  -48905.136415868226 \t -3815.237318891498\n",
            "init   \t [-5.00201972  8.35259796 -4.71706293]. \t  -45736.265979350435 \t -3815.237318891498\n",
            "init   \t [4.35547375 7.31430068 6.14158964]. \t  -35004.84714820178 \t -3815.237318891498\n",
            "1      \t [-4.02002687  0.75490439  3.31255076]. \t  \u001b[92m-1425.6331914740956\u001b[0m \t -1425.6331914740956\n",
            "2      \t [ 2.60405856  6.24027381 -8.67997755]. \t  -73928.10815893668 \t -1425.6331914740956\n",
            "3      \t [-8.34831929 -8.92943781  6.10252726]. \t  -77285.42186452134 \t -1425.6331914740956\n",
            "4      \t [-10. -10. -10.]. \t  -220621.0 \t -1425.6331914740956\n",
            "5      \t [ 9.6912661   3.58725193 -5.40327777]. \t  -9600.747023774824 \t -1425.6331914740956\n",
            "6      \t [5.03726127 0.04872615 0.67891557]. \t  \u001b[92m-69.23889854019542\u001b[0m \t -69.23889854019542\n",
            "7      \t [ 6.26789159 -7.73785259  5.12220104]. \t  -36659.91077858748 \t -69.23889854019542\n",
            "8      \t [-5.79117971  5.04067968  9.03266882]. \t  -81477.5076954023 \t -69.23889854019542\n",
            "9      \t [ 4.223123    8.63767022 -1.17549929]. \t  -42161.33369318762 \t -69.23889854019542\n",
            "10     \t [ 3.88893442 -8.06801926 -1.99385928]. \t  -32679.999648494555 \t -69.23889854019542\n",
            "11     \t [-3.9588039  -4.14994892  9.90335147]. \t  -123337.66597005507 \t -69.23889854019542\n",
            "12     \t [-8.59426797  2.49371296 -9.06982069]. \t  -79737.45200071954 \t -69.23889854019542\n",
            "13     \t [ 7.02800564 -0.15078844  8.19640245]. \t  -54414.940367805386 \t -69.23889854019542\n",
            "14     \t [ 0.47077014  0.0775676  -3.8908473 ]. \t  -2736.7879529847564 \t -69.23889854019542\n",
            "15     \t [ -9.66466693 -10.          -1.51013965]. \t  -88668.35220619664 \t -69.23889854019542\n",
            "16     \t [-6.33602258  2.48371092 -1.61488012]. \t  -773.6194606629865 \t -69.23889854019542\n",
            "17     \t [ -2.93358968 -10.          -2.56060044]. \t  -83982.23751264914 \t -69.23889854019542\n",
            "18     \t [-3.174519    0.81752231  7.37357542]. \t  -34999.41291503981 \t -69.23889854019542\n",
            "19     \t [ 0.78150884 -8.76229671 -9.61343142]. \t  -159120.99620092596 \t -69.23889854019542\n",
            "20     \t [-8.859301    5.79486712  3.3505479 ]. \t  -12487.783449284983 \t -69.23889854019542\n",
            "21     \t [-9.88459716 -1.41258822  2.84048722]. \t  -1427.464618434596 \t -69.23889854019542\n",
            "22     \t [ 6.46112784 -2.66874154 -4.01838062]. \t  -3818.321914983342 \t -69.23889854019542\n",
            "23     \t [  0.12325698 -10.           4.28078859]. \t  -86430.94548075687 \t -69.23889854019542\n",
            "24     \t [-1.70193777  9.37378469  4.15712764]. \t  -64879.069267398736 \t -69.23889854019542\n",
            "25     \t [9.78031818 5.49542041 3.30637543]. \t  -6005.469266457228 \t -69.23889854019542\n",
            "26     \t [-10.          -1.78844971  -3.99125152]. \t  -4055.4203977391007 \t -69.23889854019542\n",
            "27     \t [ 2.18990958 -3.30354292  2.59751254]. \t  -1619.1168915461951 \t -69.23889854019542\n",
            "28     \t [ 5.92051539 -0.14488156 -9.21307149]. \t  -86697.73130725362 \t -69.23889854019542\n",
            "29     \t [ 9.98880023 -6.69041984 -0.03015265]. \t  -12866.673025750388 \t -69.23889854019542\n",
            "30     \t [-0.29389741  2.7522869   0.52686765]. \t  -493.19423095425174 \t -69.23889854019542\n"
          ]
        }
      ]
    },
    {
      "cell_type": "code",
      "metadata": {
        "id": "SHWdp2giJTRm",
        "colab": {
          "base_uri": "https://localhost:8080/"
        },
        "outputId": "5616d893-8785-4796-ea64-f566e6c1113c"
      },
      "source": [
        "### EXACT GP EI GRADIENTS\n",
        "\n",
        "np.random.seed(run_num_16)\n",
        "surrogate_exact_16 = dGaussianProcess(cov_func, optimize=opt)\n",
        "\n",
        "exact_16 = dGPGO(surrogate_exact_16, Acquisition_new(util_grad_exact), objfunc, param)\n",
        "exact_16.run(init_evals=n_init, max_iter=iters)\n"
      ],
      "execution_count": 49,
      "outputs": [
        {
          "output_type": "stream",
          "name": "stdout",
          "text": [
            "Evaluation \t Proposed point \t  Current eval. \t Best eval.\n",
            "init   \t [-5.53417842  0.46326683  1.01402913]. \t  -121.43529547027163 \t -121.43529547027163\n",
            "init   \t [-9.087961   -2.78542329 -5.53838117]. \t  -13651.622350397936 \t -121.43529547027163\n",
            "init   \t [ 3.77452324 -6.7253715  -8.59350266]. \t  -86575.28663542298 \t -121.43529547027163\n",
            "init   \t [ 8.8202172   1.2736276  -8.44015321]. \t  -59934.59518842736 \t -121.43529547027163\n",
            "init   \t [ 4.45281022 -6.83095653 -4.99437387]. \t  -25459.039011491368 \t -121.43529547027163\n",
            "1      \t [4.18505664 9.44091052 6.20078235]. \t  -74267.36337655598 \t -121.43529547027163\n",
            "2      \t [ 5.46645324 -3.10791558  7.00820468]. \t  -31211.732976445848 \t -121.43529547027163\n",
            "3      \t [-7.02365822  9.22395096  6.80716026]. \t  -83746.44219511922 \t -121.43529547027163\n",
            "4      \t [-2.61755868 -8.2924165   4.84857415]. \t  -48472.3424987587 \t -121.43529547027163\n",
            "5      \t [-3.40441603  9.0441433  -4.42822156]. \t  -58527.14818017682 \t -121.43529547027163\n",
            "6      \t [-10. -10. -10.]. \t  -220621.0 \t -121.43529547027163\n",
            "7      \t [-7.92323047 -1.59321032  9.84617866]. \t  -115063.9149436472 \t -121.43529547027163\n",
            "8      \t [1.64592968 3.95024291 0.10559626]. \t  -1794.6345031550625 \t -121.43529547027163\n",
            "9      \t [ 4.59095304  8.93102522 -9.48029099]. \t  -135562.14140581357 \t -121.43529547027163\n",
            "10     \t [ 9.98852149 -7.93099291 -5.611128  ]. \t  -41986.6374509122 \t -121.43529547027163\n",
            "11     \t [-9.64442768 -5.12694362  2.33258491]. \t  -8623.697730678545 \t -121.43529547027163\n",
            "12     \t [ -1.12993008   1.14851687 -10.        ]. \t  -118658.67096763979 \t -121.43529547027163\n",
            "13     \t [-7.03423644  5.95463662 -9.57497573]. \t  -106635.1688965348 \t -121.43529547027163\n",
            "14     \t [0.10891334 1.56046664 8.01019464]. \t  -48254.96523285606 \t -121.43529547027163\n",
            "15     \t [ 7.37339138  8.46346377 -0.25411789]. \t  -37179.581230164 \t -121.43529547027163\n",
            "16     \t [-10.           6.29671773  -0.22417453]. \t  -16184.197620940224 \t -121.43529547027163\n",
            "17     \t [ 4.07610394 -9.70946194  8.69119197]. \t  -145622.32190589595 \t -121.43529547027163\n",
            "18     \t [-3.29034873 -9.52100183 -6.4021811 ]. \t  -93279.84587265234 \t -121.43529547027163\n",
            "19     \t [-0.92240347 -2.92584447 -3.38968398]. \t  -2668.159085404936 \t -121.43529547027163\n",
            "20     \t [-10.         -10.          -2.40718431]. \t  -89719.2641615814 \t -121.43529547027163\n",
            "21     \t [9.00191999 1.0157277  2.543172  ]. \t  -586.5558575315193 \t -121.43529547027163\n",
            "22     \t [ 4.75084203 -0.42505585 -2.80177875]. \t  -832.6495324527849 \t -121.43529547027163\n",
            "23     \t [-8.20260538 -9.47655742  9.8984399 ]. \t  -197242.39770505737 \t -121.43529547027163\n",
            "24     \t [ 1.17874544  2.70815156 -4.81154074]. \t  -6065.192349335275 \t -121.43529547027163\n",
            "25     \t [ 9.65754555 -7.537943    3.77797829]. \t  -25606.345952716118 \t -121.43529547027163\n",
            "26     \t [-4.69371134  1.42162704 -4.35360536]. \t  -4178.758836797387 \t -121.43529547027163\n",
            "27     \t [-5.02962497  3.48671562  5.0734105 ]. \t  -8668.27135381557 \t -121.43529547027163\n",
            "28     \t [-3.65572636  5.1348729  -0.19786416]. \t  -6457.948814501091 \t -121.43529547027163\n",
            "29     \t [ 3.37322703 -5.49564891  1.34731865]. \t  -6760.5836270941745 \t -121.43529547027163\n",
            "30     \t [ -3.71946662  -4.69319632 -10.        ]. \t  -130284.44830373704 \t -121.43529547027163\n"
          ]
        }
      ]
    },
    {
      "cell_type": "code",
      "metadata": {
        "id": "yU2SflSsJTUs",
        "colab": {
          "base_uri": "https://localhost:8080/"
        },
        "outputId": "50bc435c-0eec-4da7-8c05-1c11acd9b588"
      },
      "source": [
        "### EXACT GP EI GRADIENTS\n",
        "\n",
        "np.random.seed(run_num_17)\n",
        "surrogate_exact_17 = dGaussianProcess(cov_func, optimize=opt)\n",
        "\n",
        "exact_17 = dGPGO(surrogate_exact_17, Acquisition_new(util_grad_exact), objfunc, param)\n",
        "exact_17.run(init_evals=n_init, max_iter=iters)\n"
      ],
      "execution_count": 50,
      "outputs": [
        {
          "output_type": "stream",
          "name": "stdout",
          "text": [
            "Evaluation \t Proposed point \t  Current eval. \t Best eval.\n",
            "init   \t [-4.10669995  0.61173511 -6.16958426]. \t  -17181.1334683022 \t -11774.913131399897\n",
            "init   \t [-8.64199284  5.7397092   3.12667044]. \t  -11774.913131399897 \t -11774.913131399897\n",
            "init   \t [ 2.75041792  1.51205788 -9.21874168]. \t  -85144.34017448343 \t -11774.913131399897\n",
            "init   \t [-2.84372791  8.91366374 -8.79910639]. \t  -116232.21251957516 \t -11774.913131399897\n",
            "init   \t [ 7.28084207  7.54581052 -8.97612669]. \t  -93540.66819534874 \t -11774.913131399897\n",
            "1      \t [ 3.53524771 -7.6305547  -1.10007868]. \t  -25809.301647344466 \t -11774.913131399897\n",
            "2      \t [9.06605384 1.70871417 1.66132937]. \t  \u001b[92m-129.46210636737467\u001b[0m \t -129.46210636737467\n",
            "3      \t [5.27601463 9.99566767 6.35850193]. \t  -90783.98305117982 \t -129.46210636737467\n",
            "4      \t [-8.52512993 -8.03930931 -1.75006035]. \t  -38662.67579605237 \t -129.46210636737467\n",
            "5      \t [0.15625771 0.16541122 1.58122263]. \t  \u001b[92m-70.86764058592647\u001b[0m \t -70.86764058592647\n",
            "6      \t [0.77793961 2.17142302 2.23437955]. \t  -332.9224565238143 \t -70.86764058592647\n",
            "7      \t [-10. -10. -10.]. \t  -220621.0 \t -70.86764058592647\n",
            "8      \t [-6.17878165 -8.81449665  8.90115876]. \t  -136204.46206638045 \t -70.86764058592647\n",
            "9      \t [ 5.55941333  5.00707289 -2.04022336]. \t  -4028.949859384822 \t -70.86764058592647\n",
            "10     \t [ 1.20851895 -3.69858992  6.4930848 ]. \t  -24609.72800790296 \t -70.86764058592647\n",
            "11     \t [9.00876915 0.79791433 2.81059692]. \t  -858.903901979533 \t -70.86764058592647\n",
            "12     \t [-3.773484    1.89286097  9.69074558]. \t  -103970.0539578572 \t -70.86764058592647\n",
            "13     \t [ 8.75512142 -9.27101119  6.32186279]. \t  -77166.27358383928 \t -70.86764058592647\n",
            "14     \t [-9.68339094  4.15935608 -9.90703575]. \t  -114788.85760041163 \t -70.86764058592647\n",
            "15     \t [ -3.17533807  -7.05491844 -10.        ]. \t  -149735.0726257593 \t -70.86764058592647\n",
            "16     \t [-7.6340207  -0.3659375   0.80824852]. \t  -207.81595822059012 \t -70.86764058592647\n",
            "17     \t [-1.55256616 -9.93104392 -7.69587118]. \t  -128499.72883516757 \t -70.86764058592647\n",
            "18     \t [-1.06012783  8.76943389  8.91775652]. \t  -115726.47983309739 \t -70.86764058592647\n",
            "19     \t [ 5.68651827 -4.72581278 -9.80949079]. \t  -119698.38784937475 \t -70.86764058592647\n",
            "20     \t [-1.98546158 -8.81442857  3.86378814]. \t  -54028.52065558951 \t -70.86764058592647\n",
            "21     \t [-9.08107827  9.62586846 -3.33139286]. \t  -76155.10685998733 \t -70.86764058592647\n",
            "22     \t [ 9.42197955  1.3857022  -4.54003497]. \t  -4894.469617412709 \t -70.86764058592647\n",
            "23     \t [4.01451679 1.84479452 8.38499832]. \t  -57797.34831529516 \t -70.86764058592647\n",
            "24     \t [-9.5654217  -2.27480012  8.77324094]. \t  -74113.56590220306 \t -70.86764058592647\n",
            "25     \t [-1.74000528  9.22119905 -0.11278331]. \t  -59292.38090121092 \t -70.86764058592647\n",
            "26     \t [-8.78934996 -3.75888616 -7.76928576]. \t  -49328.58019685581 \t -70.86764058592647\n",
            "27     \t [ 9.78294655  9.39434954 -0.62599416]. \t  -55893.792571713035 \t -70.86764058592647\n",
            "28     \t [ 9.76790673 -7.75803852 -2.83037289]. \t  -26240.90873152016 \t -70.86764058592647\n",
            "29     \t [-10.           0.65004489  -3.56185508]. \t  -2189.999082377701 \t -70.86764058592647\n",
            "30     \t [ 8.00292238 -3.25682363  6.52364712]. \t  -23827.333381156805 \t -70.86764058592647\n"
          ]
        }
      ]
    },
    {
      "cell_type": "code",
      "metadata": {
        "id": "es0KCh_0JTgY",
        "colab": {
          "base_uri": "https://localhost:8080/"
        },
        "outputId": "2be7ae01-5aa4-47a8-cd70-7c180b23368a"
      },
      "source": [
        "### EXACT GP EI GRADIENTS\n",
        "\n",
        "np.random.seed(run_num_18)\n",
        "surrogate_exact_18 = dGaussianProcess(cov_func, optimize=opt)\n",
        "\n",
        "exact_18 = dGPGO(surrogate_exact_18, Acquisition_new(util_grad_exact), objfunc, param)\n",
        "exact_18.run(init_evals=n_init, max_iter=iters)\n"
      ],
      "execution_count": 51,
      "outputs": [
        {
          "output_type": "stream",
          "name": "stdout",
          "text": [
            "Evaluation \t Proposed point \t  Current eval. \t Best eval.\n",
            "init   \t [3.00748483 0.10906747 7.57202942]. \t  -39395.322047969305 \t -27664.83628190573\n",
            "init   \t [-6.36319549  7.04466137  5.00272572]. \t  -27913.961335277138 \t -27664.83628190573\n",
            "init   \t [ 3.32203335  9.75790897 -4.86063155]. \t  -74244.15287271979 \t -27664.83628190573\n",
            "init   \t [-9.43388149  2.71438231  6.94624775]. \t  -27664.83628190573 \t -27664.83628190573\n",
            "init   \t [ 4.7234925  -9.58385776 -7.76793739]. \t  -114986.86534587143 \t -27664.83628190573\n",
            "1      \t [-3.60627759 -4.12128051 -3.96163645]. \t  \u001b[92m-6628.123996844119\u001b[0m \t -6628.123996844119\n",
            "2      \t [ 6.31975365  3.18761398 -5.14286127]. \t  -7833.7930593098545 \t -6628.123996844119\n",
            "3      \t [ 8.98418483 -5.51984113  1.59973658]. \t  \u001b[92m-5801.508998849156\u001b[0m \t -5801.508998849156\n",
            "4      \t [-9.82664426 -9.19265651  7.01964259]. \t  -98908.14619333696 \t -5801.508998849156\n",
            "5      \t [ 9.64278327 -8.01514669  8.76537572]. \t  -106741.78906814221 \t -5801.508998849156\n",
            "6      \t [-10. -10. -10.]. \t  -220621.0 \t -5801.508998849156\n",
            "7      \t [4.76859313 6.53506599 3.93926051]. \t  -14822.442752768635 \t -5801.508998849156\n",
            "8      \t [ 1.54007968 -2.49510305  7.62800693]. \t  -42627.25456372583 \t -5801.508998849156\n",
            "9      \t [8.43438379 7.67975763 9.80916293]. \t  -126454.15858804133 \t -5801.508998849156\n",
            "10     \t [-7.8288346   4.63366488 -9.94486376]. \t  -117173.67246254408 \t -5801.508998849156\n",
            "11     \t [ 1.25118837 -9.83776577  5.34103365]. \t  -87391.17353637467 \t -5801.508998849156\n",
            "12     \t [-4.74409325  9.6660462  -2.60459944]. \t  -73506.67877916363 \t -5801.508998849156\n",
            "13     \t [ 0.71612401  0.72479636 -9.68187435]. \t  -104629.88885686785 \t -5801.508998849156\n",
            "14     \t [-2.59730257  3.2378471   0.13731686]. \t  \u001b[92m-1154.244894905568\u001b[0m \t -1154.244894905568\n",
            "15     \t [-9.93581462 -8.88515324 -1.9323835 ]. \t  -57254.17065227144 \t -1154.244894905568\n",
            "16     \t [-5.66808288 -2.48608651  4.67085528]. \t  -7075.7029141468265 \t -1154.244894905568\n",
            "17     \t [-9.95845103 -2.40065731 -4.88293266]. \t  -8569.316226367973 \t -1154.244894905568\n",
            "18     \t [ -4.22611433  -6.18644473 -10.        ]. \t  -140613.54857536196 \t -1154.244894905568\n",
            "19     \t [ 5.82004451 -3.26793236 -5.22033905]. \t  -10518.883200416925 \t -1154.244894905568\n",
            "20     \t [ 9.43419314  8.84848633 -1.39422812]. \t  -43455.46173412186 \t -1154.244894905568\n",
            "21     \t [-8.57481781  3.12173889 -1.49990606]. \t  -1672.6962484520368 \t -1154.244894905568\n",
            "22     \t [-1.21548543  7.91313676 -9.63203154]. \t  -126651.35951829734 \t -1154.244894905568\n",
            "23     \t [  1.00561652 -10.          -1.91274261]. \t  -80097.18232860534 \t -1154.244894905568\n",
            "24     \t [-2.86098813 -6.73494306  1.59879366]. \t  -17950.374415278136 \t -1154.244894905568\n",
            "25     \t [ 0.36003587 -3.18694237 -7.02536117]. \t  -31946.483269497032 \t -1154.244894905568\n",
            "26     \t [0.054387   9.11899404 7.93245275]. \t  -96160.86329571955 \t -1154.244894905568\n",
            "27     \t [6.5570092  1.37947022 0.59943394]. \t  \u001b[92m-47.32789865258407\u001b[0m \t -47.32789865258407\n",
            "28     \t [ 1.27841865 -1.71261975  0.5501645 ]. \t  -58.29087699537004 \t -47.32789865258407\n",
            "29     \t [ 8.32859409  8.12272821 -7.48344694]. \t  -62995.81352569927 \t -47.32789865258407\n",
            "30     \t [  9.01350292 -10.          -2.59798056]. \t  -74672.51020712653 \t -47.32789865258407\n"
          ]
        }
      ]
    },
    {
      "cell_type": "code",
      "metadata": {
        "id": "Pput2LHPIwBM",
        "colab": {
          "base_uri": "https://localhost:8080/"
        },
        "outputId": "fc993bfc-bb72-45b5-f45c-23f62e6e5942"
      },
      "source": [
        "### EXACT GP EI GRADIENTS\n",
        "\n",
        "np.random.seed(run_num_19)\n",
        "surrogate_exact_19 = dGaussianProcess(cov_func, optimize=opt)\n",
        "\n",
        "exact_19 = dGPGO(surrogate_exact_19, Acquisition_new(util_grad_exact), objfunc, param)\n",
        "exact_19.run(init_evals=n_init, max_iter=iters)\n"
      ],
      "execution_count": 52,
      "outputs": [
        {
          "output_type": "stream",
          "name": "stdout",
          "text": [
            "Evaluation \t Proposed point \t  Current eval. \t Best eval.\n",
            "init   \t [-8.04932797  5.22499433 -5.06124054]. \t  -14282.07020620917 \t -7826.389573301183\n",
            "init   \t [-7.23736625 -3.37106873 -8.3400087 ]. \t  -62767.56440733103 \t -7826.389573301183\n",
            "init   \t [3.43954163 6.13187596 9.65483829]. \t  -107829.21541670273 \t -7826.389573301183\n",
            "init   \t [ 2.7132147  -5.68153488  0.98054864]. \t  -7826.389573301183 \t -7826.389573301183\n",
            "init   \t [ 0.91119916 -5.31847854 -7.72548314]. \t  -52835.14449570301 \t -7826.389573301183\n",
            "1      \t [-8.70426449  3.79716958  1.04335667]. \t  \u001b[92m-2920.7379176497325\u001b[0m \t -2920.7379176497325\n",
            "2      \t [-8.35936332 -7.87340876  5.68625832]. \t  -50901.97248850908 \t -2920.7379176497325\n",
            "3      \t [-5.92264612  1.94070459  8.81541711]. \t  -71080.60419246902 \t -2920.7379176497325\n",
            "4      \t [ 9.93826046 -7.57727549 -3.12538868]. \t  -24289.940560273273 \t -2920.7379176497325\n",
            "5      \t [ 9.17884072e+00  3.81026586e-03 -4.90936423e+00]. \t  -7205.086830676541 \t -2920.7379176497325\n",
            "6      \t [6.53768271 8.27261557 0.88726414]. \t  -34139.50528106757 \t -2920.7379176497325\n",
            "7      \t [8.88477717 1.65383617 9.09628062]. \t  -80607.08552314134 \t -2920.7379176497325\n",
            "8      \t [-1.21815419  9.44528432 -0.09986763]. \t  -64816.04428405123 \t -2920.7379176497325\n",
            "9      \t [-0.88364342 -0.53896298  9.12024958]. \t  -83571.53151076334 \t -2920.7379176497325\n",
            "10     \t [ 3.35389857 -9.96203876  9.07194342]. \t  -167573.4372796627 \t -2920.7379176497325\n",
            "11     \t [ 1.64498819  5.37434199 -7.63204452]. \t  -43344.006456290146 \t -2920.7379176497325\n",
            "12     \t [-4.44606735  0.16196254 -7.8173877 ]. \t  -44766.89761417516 \t -2920.7379176497325\n",
            "13     \t [-7.58121334  9.18213727  8.05424112]. \t  -105773.44328562071 \t -2920.7379176497325\n",
            "14     \t [-8.59588899 -2.19080697  1.97632378]. \t  \u001b[92m-1054.3598475396177\u001b[0m \t -1054.3598475396177\n",
            "15     \t [-10. -10. -10.]. \t  -220621.0 \t -1054.3598475396177\n",
            "16     \t [-4.02103307  8.26866547 -9.05286829]. \t  -112325.08052489415 \t -1054.3598475396177\n",
            "17     \t [-5.08300326 -1.1010475  -5.07909516]. \t  -8480.166872631129 \t -1054.3598475396177\n",
            "18     \t [1.9799272  3.81156677 6.02897636]. \t  -15702.85164015473 \t -1054.3598475396177\n",
            "19     \t [ -1.47401906 -10.          -2.47398179]. \t  -82673.6906452743 \t -1054.3598475396177\n",
            "20     \t [-8.1906442  -8.09450542 -3.40682879]. \t  -41796.41951852791 \t -1054.3598475396177\n",
            "21     \t [-5.13231457e-04  1.50818202e+00 -2.61095371e-02]. \t  \u001b[92m-49.21278755500208\u001b[0m \t -49.21278755500208\n",
            "22     \t [ 8.52766551 -5.13868171 -9.0828492 ]. \t  -90816.62316300404 \t -49.21278755500208\n",
            "23     \t [ 7.35018723 -0.79794815  0.90295883]. \t  -131.8730787456494 \t -49.21278755500208\n",
            "24     \t [ 6.50966656 -4.64935195  6.42480808]. \t  -25542.04156512538 \t -49.21278755500208\n",
            "25     \t [ -2.96519271 -10.         -10.        ]. \t  -214705.46165287128 \t -49.21278755500208\n",
            "26     \t [ 7.90819844  6.67605908 -7.75495801]. \t  -51961.494083441605 \t -49.21278755500208\n",
            "27     \t [  3.35482755  -0.01584534 -10.        ]. \t  -120047.06337225919 \t -49.21278755500208\n",
            "28     \t [-2.43066308 -2.84551382  2.76964485]. \t  -1697.8602521577814 \t -49.21278755500208\n",
            "29     \t [-2.04396199 -8.48035713  3.72821205]. \t  -46517.99526162761 \t -49.21278755500208\n",
            "30     \t [ 3.72697015 -1.67217792 -3.59475417]. \t  -2285.900887945903 \t -49.21278755500208\n"
          ]
        }
      ]
    },
    {
      "cell_type": "code",
      "metadata": {
        "id": "aw3xvSryIwDi",
        "colab": {
          "base_uri": "https://localhost:8080/"
        },
        "outputId": "41e94ceb-2065-4713-fb7f-4e1e51c487d8"
      },
      "source": [
        "### EXACT GP EI GRADIENTS\n",
        "\n",
        "np.random.seed(run_num_20)\n",
        "surrogate_exact_20 = dGaussianProcess(cov_func, optimize=opt)\n",
        "\n",
        "exact_20 = dGPGO(surrogate_exact_20, Acquisition_new(util_grad_exact), objfunc, param)\n",
        "exact_20.run(init_evals=n_init, max_iter=iters)\n"
      ],
      "execution_count": 53,
      "outputs": [
        {
          "output_type": "stream",
          "name": "stdout",
          "text": [
            "Evaluation \t Proposed point \t  Current eval. \t Best eval.\n",
            "init   \t [1.76261602 7.95427456 7.83061459]. \t  -70596.27231718504 \t -1177.4786310520467\n",
            "init   \t [ 6.31674955 -9.28220829  3.83515164]. \t  -59634.45116383437 \t -1177.4786310520467\n",
            "init   \t [-2.42638116  0.37021891  3.15902931]. \t  -1177.4786310520467 \t -1177.4786310520467\n",
            "init   \t [-6.12299564 -4.55367196  4.37211867]. \t  -10072.821243906226 \t -1177.4786310520467\n",
            "init   \t [5.66007219 7.0065528  5.50489788]. \t  -25762.190938183892 \t -1177.4786310520467\n",
            "1      \t [ 3.58822235  3.01571828 -4.62409523]. \t  -5172.971057172382 \t -1177.4786310520467\n",
            "2      \t [ 6.90281047 -9.84449703 -8.45927451]. \t  -140110.25172511325 \t -1177.4786310520467\n",
            "3      \t [-2.02505955 -3.84087805 -8.90073734]. \t  -81008.7373034749 \t -1177.4786310520467\n",
            "4      \t [-9.03422809  7.69291444  7.37966897]. \t  -63300.39318700283 \t -1177.4786310520467\n",
            "5      \t [-10. -10. -10.]. \t  -220621.0 \t -1177.4786310520467\n",
            "6      \t [-9.45784592  0.99639036 -4.976674  ]. \t  -7439.13499767879 \t -1177.4786310520467\n",
            "7      \t [ 3.4937907  -2.5103687   9.37110948]. \t  -95379.93666021542 \t -1177.4786310520467\n",
            "8      \t [-2.46871542  9.76065736 -3.02050331]. \t  -74733.47554640117 \t -1177.4786310520467\n",
            "9      \t [ 9.64468651  7.21321542 -9.95696397]. \t  -127425.73651668694 \t -1177.4786310520467\n",
            "10     \t [-3.52149428 -8.89742927  7.42875864]. \t  -95087.52343678838 \t -1177.4786310520467\n",
            "11     \t [-0.23723427 -9.19126844 -0.83968818]. \t  -57593.31830274371 \t -1177.4786310520467\n",
            "12     \t [ 5.00126639 -3.3363309  -0.45648549]. \t  \u001b[92m-654.1473571166752\u001b[0m \t -654.1473571166752\n",
            "13     \t [-1.77488279  7.71307977 -9.87550486]. \t  -134459.43409987114 \t -654.1473571166752\n",
            "14     \t [ 9.59685045  8.83742447 -0.69841768]. \t  -43244.382355533104 \t -654.1473571166752\n",
            "15     \t [ -9.48744009 -10.          -2.60776793]. \t  -89550.96996884586 \t -654.1473571166752\n",
            "16     \t [ 8.71567352 -9.23552071 -1.77855208]. \t  -53192.45226351771 \t -654.1473571166752\n",
            "17     \t [-10.           3.80451491   1.96667431]. \t  -3201.3580460349854 \t -654.1473571166752\n",
            "18     \t [  3.97564079  -0.6018083  -10.        ]. \t  -120753.25274339471 \t -654.1473571166752\n",
            "19     \t [0.30553803 5.4261645  3.41450322]. \t  -7824.263053625887 \t -654.1473571166752\n",
            "20     \t [-1.48074345 -9.97724426 -7.53747372]. \t  -126298.08957241912 \t -654.1473571166752\n",
            "21     \t [-10.          -3.06064822 -10.        ]. \t  -125473.29653132237 \t -654.1473571166752\n",
            "22     \t [-1.68218418 -1.10189851 -2.75416018]. \t  -835.3890918479544 \t -654.1473571166752\n",
            "23     \t [-5.04804204  2.40957639  9.89761502]. \t  -112937.01528269825 \t -654.1473571166752\n",
            "24     \t [ -9.8030905  -10.           5.13422591]. \t  -99952.98301212837 \t -654.1473571166752\n",
            "25     \t [9.41035246 3.61333584 2.50903423]. \t  -870.4189940049539 \t -654.1473571166752\n",
            "26     \t [-3.24042207  3.54275286 -5.02917027]. \t  -8263.538427584639 \t -654.1473571166752\n",
            "27     \t [-4.32384266  6.26033035  1.14573172]. \t  -13748.981244274537 \t -654.1473571166752\n",
            "28     \t [ 9.92972863 -1.34903033 -4.35880272]. \t  -4803.509794255387 \t -654.1473571166752\n",
            "29     \t [ 2.46401145 -5.16902198 -4.84171661]. \t  -13327.440536716922 \t -654.1473571166752\n",
            "30     \t [ 7.09789186 -1.25396526  4.40326681]. \t  -4875.996005885781 \t -654.1473571166752\n"
          ]
        }
      ]
    },
    {
      "cell_type": "code",
      "metadata": {
        "id": "qNqAB3vBTPqb",
        "colab": {
          "base_uri": "https://localhost:8080/"
        },
        "outputId": "da2560c2-0ecd-427f-a557-005c04b3a703"
      },
      "source": [
        "end_exact = time.time()\n",
        "end_exact\n",
        "\n",
        "time_exact = end_exact - start_exact\n",
        "time_exact"
      ],
      "execution_count": 54,
      "outputs": [
        {
          "output_type": "execute_result",
          "data": {
            "text/plain": [
              "1888.2539882659912"
            ]
          },
          "metadata": {},
          "execution_count": 54
        }
      ]
    },
    {
      "cell_type": "code",
      "metadata": {
        "id": "JPQzjdBZQxfg",
        "colab": {
          "base_uri": "https://localhost:8080/"
        },
        "outputId": "080eac2f-e4d3-4301-c2dc-be9be0f15cdc"
      },
      "source": [
        "### Simple regret minimization: run number = 1\n",
        "\n",
        "approx_output_1 = np.append(np.min(approx_1.GP.y[0:n_init]),approx_1.GP.y[n_init:(n_init+iters)]) \n",
        "exact_output_1 = np.append(np.min(exact_1.GP.y[0:n_init]),exact_1.GP.y[n_init:(n_init+iters)]) \n",
        "\n",
        "regret_approx_1 = np.log(-approx_output_1 + y_global_orig)\n",
        "regret_exact_1 = np.log(-exact_output_1 + y_global_orig)\n",
        "\n",
        "simple_regret_approx_1 = min_max_array(regret_approx_1)\n",
        "simple_regret_exact_1 = min_max_array(regret_exact_1)\n",
        "\n",
        "min_simple_regret_approx_1 = min(simple_regret_approx_1)\n",
        "min_simple_regret_exact_1 = min(simple_regret_exact_1)\n",
        "\n",
        "min_simple_regret_approx_1, min_simple_regret_exact_1"
      ],
      "execution_count": 55,
      "outputs": [
        {
          "output_type": "execute_result",
          "data": {
            "text/plain": [
              "(4.466862225504794, 4.853880891722066)"
            ]
          },
          "metadata": {},
          "execution_count": 55
        }
      ]
    },
    {
      "cell_type": "code",
      "metadata": {
        "id": "94yBw5tqQxfk",
        "colab": {
          "base_uri": "https://localhost:8080/"
        },
        "outputId": "c6e63dd0-9f20-4d56-dab0-0517edfc7bea"
      },
      "source": [
        "### Simple regret minimization: run number = 2\n",
        "\n",
        "approx_output_2 = np.append(np.min(approx_2.GP.y[0:n_init]),approx_2.GP.y[n_init:(n_init+iters)]) \n",
        "exact_output_2 = np.append(np.min(exact_2.GP.y[0:n_init]),exact_2.GP.y[n_init:(n_init+iters)]) \n",
        "\n",
        "regret_approx_2 = np.log(-approx_output_2 + y_global_orig)\n",
        "regret_exact_2 = np.log(-exact_output_2 + y_global_orig)\n",
        "\n",
        "simple_regret_approx_2 = min_max_array(regret_approx_2)\n",
        "simple_regret_exact_2 = min_max_array(regret_exact_2)\n",
        "\n",
        "min_simple_regret_approx_2 = min(simple_regret_approx_2)\n",
        "min_simple_regret_exact_2 = min(simple_regret_exact_2)\n",
        "\n",
        "min_simple_regret_approx_2, min_simple_regret_exact_2"
      ],
      "execution_count": 56,
      "outputs": [
        {
          "output_type": "execute_result",
          "data": {
            "text/plain": [
              "(4.539471899508559, 3.7988079339526415)"
            ]
          },
          "metadata": {},
          "execution_count": 56
        }
      ]
    },
    {
      "cell_type": "code",
      "metadata": {
        "id": "Bu6SBWALQxfl",
        "colab": {
          "base_uri": "https://localhost:8080/"
        },
        "outputId": "8aa128bd-ff14-4ed3-c93d-a23741e10220"
      },
      "source": [
        "### Simple regret minimization: run number = 3\n",
        "\n",
        "approx_output_3 = np.append(np.min(approx_3.GP.y[0:n_init]),approx_3.GP.y[n_init:(n_init+iters)]) \n",
        "exact_output_3 = np.append(np.min(exact_3.GP.y[0:n_init]),exact_3.GP.y[n_init:(n_init+iters)]) \n",
        "\n",
        "regret_approx_3 = np.log(-approx_output_3 + y_global_orig)\n",
        "regret_exact_3 = np.log(-exact_output_3 + y_global_orig)\n",
        "\n",
        "simple_regret_approx_3 = min_max_array(regret_approx_3)\n",
        "simple_regret_exact_3 = min_max_array(regret_exact_3)\n",
        "\n",
        "min_simple_regret_approx_3 = min(simple_regret_approx_3)\n",
        "min_simple_regret_exact_3 = min(simple_regret_exact_3)\n",
        "\n",
        "min_simple_regret_approx_3, min_simple_regret_exact_3"
      ],
      "execution_count": 57,
      "outputs": [
        {
          "output_type": "execute_result",
          "data": {
            "text/plain": [
              "(4.248464572658232, 4.35252494915101)"
            ]
          },
          "metadata": {},
          "execution_count": 57
        }
      ]
    },
    {
      "cell_type": "code",
      "metadata": {
        "id": "AZm0jgxkQxfm",
        "colab": {
          "base_uri": "https://localhost:8080/"
        },
        "outputId": "90297dbe-bd3e-419b-c1f0-3e19546d8e0d"
      },
      "source": [
        "### Simple regret minimization: run number = 4\n",
        "\n",
        "approx_output_4 = np.append(np.min(approx_4.GP.y[0:n_init]),approx_4.GP.y[n_init:(n_init+iters)]) \n",
        "exact_output_4 = np.append(np.min(exact_4.GP.y[0:n_init]),exact_4.GP.y[n_init:(n_init+iters)]) \n",
        "\n",
        "regret_approx_4 = np.log(-approx_output_4 + y_global_orig)\n",
        "regret_exact_4 = np.log(-exact_output_4 + y_global_orig)\n",
        "\n",
        "simple_regret_approx_4 = min_max_array(regret_approx_4)\n",
        "simple_regret_exact_4 = min_max_array(regret_exact_4)\n",
        "\n",
        "min_simple_regret_approx_4 = min(simple_regret_approx_4)\n",
        "min_simple_regret_exact_4 = min(simple_regret_exact_4)\n",
        "\n",
        "min_simple_regret_approx_4, min_simple_regret_exact_4"
      ],
      "execution_count": 58,
      "outputs": [
        {
          "output_type": "execute_result",
          "data": {
            "text/plain": [
              "(6.0440299404713365, 4.643035953964961)"
            ]
          },
          "metadata": {},
          "execution_count": 58
        }
      ]
    },
    {
      "cell_type": "code",
      "metadata": {
        "id": "NONPm8JIQxfn",
        "colab": {
          "base_uri": "https://localhost:8080/"
        },
        "outputId": "943da084-6068-4e6e-e1a7-9d8644a43045"
      },
      "source": [
        "### Simple regret minimization: run number = 5\n",
        "\n",
        "approx_output_5 = np.append(np.min(approx_5.GP.y[0:n_init]),approx_5.GP.y[n_init:(n_init+iters)]) \n",
        "exact_output_5 = np.append(np.min(exact_5.GP.y[0:n_init]),exact_5.GP.y[n_init:(n_init+iters)]) \n",
        "\n",
        "regret_approx_5 = np.log(-approx_output_5 + y_global_orig)\n",
        "regret_exact_5 = np.log(-exact_output_5 + y_global_orig)\n",
        "\n",
        "simple_regret_approx_5 = min_max_array(regret_approx_5)\n",
        "simple_regret_exact_5 = min_max_array(regret_exact_5)\n",
        "\n",
        "min_simple_regret_approx_5 = min(simple_regret_approx_5)\n",
        "min_simple_regret_exact_5 = min(simple_regret_exact_5)\n",
        "\n",
        "min_simple_regret_approx_5, min_simple_regret_exact_5"
      ],
      "execution_count": 59,
      "outputs": [
        {
          "output_type": "execute_result",
          "data": {
            "text/plain": [
              "(6.484328300629462, 5.357565078409752)"
            ]
          },
          "metadata": {},
          "execution_count": 59
        }
      ]
    },
    {
      "cell_type": "code",
      "metadata": {
        "id": "CJv3lPuSQxfp",
        "colab": {
          "base_uri": "https://localhost:8080/"
        },
        "outputId": "db11dfeb-24ee-4eaf-b404-9569928334e5"
      },
      "source": [
        "### Simple regret minimization: run number = 6\n",
        "\n",
        "approx_output_6 = np.append(np.min(approx_6.GP.y[0:n_init]),approx_6.GP.y[n_init:(n_init+iters)]) \n",
        "exact_output_6 = np.append(np.min(exact_6.GP.y[0:n_init]),exact_6.GP.y[n_init:(n_init+iters)]) \n",
        "\n",
        "regret_approx_6 = np.log(-approx_output_6 + y_global_orig)\n",
        "regret_exact_6 = np.log(-exact_output_6 + y_global_orig)\n",
        "\n",
        "simple_regret_approx_6 = min_max_array(regret_approx_6)\n",
        "simple_regret_exact_6 = min_max_array(regret_exact_6)\n",
        "\n",
        "min_simple_regret_approx_6 = min(simple_regret_approx_6)\n",
        "min_simple_regret_exact_6 = min(simple_regret_exact_6)\n",
        "\n",
        "min_simple_regret_approx_6, min_simple_regret_exact_6"
      ],
      "execution_count": 60,
      "outputs": [
        {
          "output_type": "execute_result",
          "data": {
            "text/plain": [
              "(6.993832990440355, 6.72272618979557)"
            ]
          },
          "metadata": {},
          "execution_count": 60
        }
      ]
    },
    {
      "cell_type": "code",
      "metadata": {
        "id": "quR2ZyApQxfq",
        "colab": {
          "base_uri": "https://localhost:8080/"
        },
        "outputId": "48a4003f-1564-4f5c-96ff-17ac65551358"
      },
      "source": [
        "### Simple regret minimization: run number = 7\n",
        "\n",
        "approx_output_7 = np.append(np.min(approx_7.GP.y[0:n_init]),approx_7.GP.y[n_init:(n_init+iters)]) \n",
        "exact_output_7 = np.append(np.min(exact_7.GP.y[0:n_init]),exact_7.GP.y[n_init:(n_init+iters)]) \n",
        "\n",
        "regret_approx_7 = np.log(-approx_output_7 + y_global_orig)\n",
        "regret_exact_7 = np.log(-exact_output_7 + y_global_orig)\n",
        "\n",
        "simple_regret_approx_7 = min_max_array(regret_approx_7)\n",
        "simple_regret_exact_7 = min_max_array(regret_exact_7)\n",
        "\n",
        "min_simple_regret_approx_7 = min(simple_regret_approx_7)\n",
        "min_simple_regret_exact_7 = min(simple_regret_exact_7)\n",
        "\n",
        "min_simple_regret_approx_7, min_simple_regret_exact_7"
      ],
      "execution_count": 61,
      "outputs": [
        {
          "output_type": "execute_result",
          "data": {
            "text/plain": [
              "(1.9217017706965507, 1.9217017706965507)"
            ]
          },
          "metadata": {},
          "execution_count": 61
        }
      ]
    },
    {
      "cell_type": "code",
      "metadata": {
        "id": "99wY5nK6Qxfr",
        "colab": {
          "base_uri": "https://localhost:8080/"
        },
        "outputId": "b73a5bfd-d4a0-4c67-f80c-a2613b398e98"
      },
      "source": [
        "### Simple regret minimization: run number = 8\n",
        "\n",
        "approx_output_8 = np.append(np.min(approx_8.GP.y[0:n_init]),approx_8.GP.y[n_init:(n_init+iters)]) \n",
        "exact_output_8 = np.append(np.min(exact_8.GP.y[0:n_init]),exact_8.GP.y[n_init:(n_init+iters)]) \n",
        "\n",
        "regret_approx_8 = np.log(-approx_output_8 + y_global_orig)\n",
        "regret_exact_8 = np.log(-exact_output_8 + y_global_orig)\n",
        "\n",
        "simple_regret_approx_8 = min_max_array(regret_approx_8)\n",
        "simple_regret_exact_8 = min_max_array(regret_exact_8)\n",
        "\n",
        "min_simple_regret_approx_8 = min(simple_regret_approx_8)\n",
        "min_simple_regret_exact_8 = min(simple_regret_exact_8)\n",
        "\n",
        "min_simple_regret_approx_8, min_simple_regret_exact_8"
      ],
      "execution_count": 62,
      "outputs": [
        {
          "output_type": "execute_result",
          "data": {
            "text/plain": [
              "(5.777185328327614, 3.4309566778230223)"
            ]
          },
          "metadata": {},
          "execution_count": 62
        }
      ]
    },
    {
      "cell_type": "code",
      "metadata": {
        "id": "qt0P5t9qQxfs",
        "colab": {
          "base_uri": "https://localhost:8080/"
        },
        "outputId": "68ca8816-657a-4f76-f708-0bf6f94d05ec"
      },
      "source": [
        "### Simple regret minimization: run number = 9\n",
        "\n",
        "approx_output_9 = np.append(np.min(approx_9.GP.y[0:n_init]),approx_9.GP.y[n_init:(n_init+iters)]) \n",
        "exact_output_9 = np.append(np.min(exact_9.GP.y[0:n_init]),exact_9.GP.y[n_init:(n_init+iters)]) \n",
        "\n",
        "regret_approx_9 = np.log(-approx_output_9 + y_global_orig)\n",
        "regret_exact_9 = np.log(-exact_output_9 + y_global_orig)\n",
        "\n",
        "simple_regret_approx_9 = min_max_array(regret_approx_9)\n",
        "simple_regret_exact_9 = min_max_array(regret_exact_9)\n",
        "\n",
        "min_simple_regret_approx_9 = min(simple_regret_approx_9)\n",
        "min_simple_regret_exact_9 = min(simple_regret_exact_9)\n",
        "\n",
        "min_simple_regret_approx_9, min_simple_regret_exact_9"
      ],
      "execution_count": 63,
      "outputs": [
        {
          "output_type": "execute_result",
          "data": {
            "text/plain": [
              "(4.523657512638506, 5.290381300802788)"
            ]
          },
          "metadata": {},
          "execution_count": 63
        }
      ]
    },
    {
      "cell_type": "code",
      "metadata": {
        "id": "vx8to9stQxft",
        "colab": {
          "base_uri": "https://localhost:8080/"
        },
        "outputId": "e58f635b-40a2-4305-d518-b4fb4163fcdd"
      },
      "source": [
        "### Simple regret minimization: run number = 10\n",
        "\n",
        "approx_output_10 = np.append(np.min(approx_10.GP.y[0:n_init]),approx_10.GP.y[n_init:(n_init+iters)]) \n",
        "exact_output_10 = np.append(np.min(exact_10.GP.y[0:n_init]),exact_10.GP.y[n_init:(n_init+iters)]) \n",
        "\n",
        "regret_approx_10 = np.log(-approx_output_10 + y_global_orig)\n",
        "regret_exact_10 = np.log(-exact_output_10 + y_global_orig)\n",
        "\n",
        "simple_regret_approx_10 = min_max_array(regret_approx_10)\n",
        "simple_regret_exact_10 = min_max_array(regret_exact_10)\n",
        "\n",
        "min_simple_regret_approx_10 = min(simple_regret_approx_10)\n",
        "min_simple_regret_exact_10 = min(simple_regret_exact_10)\n",
        "\n",
        "min_simple_regret_approx_10, min_simple_regret_exact_10"
      ],
      "execution_count": 64,
      "outputs": [
        {
          "output_type": "execute_result",
          "data": {
            "text/plain": [
              "(4.944446800929355, 0.4265003309311049)"
            ]
          },
          "metadata": {},
          "execution_count": 64
        }
      ]
    },
    {
      "cell_type": "code",
      "metadata": {
        "id": "d-FGzWyHQxfu",
        "colab": {
          "base_uri": "https://localhost:8080/"
        },
        "outputId": "41921f23-abf2-43d1-90d4-06b00c2537d9"
      },
      "source": [
        "### Simple regret minimization: run number = 11\n",
        "\n",
        "approx_output_11 = np.append(np.min(approx_11.GP.y[0:n_init]),approx_11.GP.y[n_init:(n_init+iters)]) \n",
        "exact_output_11 = np.append(np.min(exact_11.GP.y[0:n_init]),exact_11.GP.y[n_init:(n_init+iters)]) \n",
        "\n",
        "regret_approx_11 = np.log(-approx_output_11 + y_global_orig)\n",
        "regret_exact_11 = np.log(-exact_output_11 + y_global_orig)\n",
        "\n",
        "simple_regret_approx_11 = min_max_array(regret_approx_11)\n",
        "simple_regret_exact_11 = min_max_array(regret_exact_11)\n",
        "\n",
        "min_simple_regret_approx_11 = min(simple_regret_approx_11)\n",
        "min_simple_regret_exact_11 = min(simple_regret_exact_11)\n",
        "\n",
        "min_simple_regret_approx_11, min_simple_regret_exact_11"
      ],
      "execution_count": 65,
      "outputs": [
        {
          "output_type": "execute_result",
          "data": {
            "text/plain": [
              "(3.6091683152365306, 4.586215115393971)"
            ]
          },
          "metadata": {},
          "execution_count": 65
        }
      ]
    },
    {
      "cell_type": "code",
      "metadata": {
        "id": "SvtsssyjQxfv",
        "colab": {
          "base_uri": "https://localhost:8080/"
        },
        "outputId": "28a4e841-2634-4916-bc97-eaf6341e0e51"
      },
      "source": [
        "### Simple regret minimization: run number = 12\n",
        "\n",
        "approx_output_12 = np.append(np.min(approx_12.GP.y[0:n_init]),approx_12.GP.y[n_init:(n_init+iters)]) \n",
        "exact_output_12 = np.append(np.min(exact_12.GP.y[0:n_init]),exact_12.GP.y[n_init:(n_init+iters)]) \n",
        "\n",
        "regret_approx_12 = np.log(-approx_output_12 + y_global_orig)\n",
        "regret_exact_12 = np.log(-exact_output_12 + y_global_orig)\n",
        "\n",
        "simple_regret_approx_12 = min_max_array(regret_approx_12)\n",
        "simple_regret_exact_12 = min_max_array(regret_exact_12)\n",
        "\n",
        "min_simple_regret_approx_12 = min(simple_regret_approx_12)\n",
        "min_simple_regret_exact_12 = min(simple_regret_exact_12)\n",
        "\n",
        "min_simple_regret_approx_12, min_simple_regret_exact_12"
      ],
      "execution_count": 66,
      "outputs": [
        {
          "output_type": "execute_result",
          "data": {
            "text/plain": [
              "(6.298349314877364, 5.611777496692963)"
            ]
          },
          "metadata": {},
          "execution_count": 66
        }
      ]
    },
    {
      "cell_type": "code",
      "metadata": {
        "id": "K6OiGcHkQxfw",
        "colab": {
          "base_uri": "https://localhost:8080/"
        },
        "outputId": "cf73373b-420e-4672-a611-7b7436c14cf2"
      },
      "source": [
        "### Simple regret minimization: run number = 13\n",
        "\n",
        "approx_output_13 = np.append(np.min(approx_13.GP.y[0:n_init]),approx_13.GP.y[n_init:(n_init+iters)]) \n",
        "exact_output_13 = np.append(np.min(exact_13.GP.y[0:n_init]),exact_13.GP.y[n_init:(n_init+iters)]) \n",
        "\n",
        "regret_approx_13 = np.log(-approx_output_13 + y_global_orig)\n",
        "regret_exact_13 = np.log(-exact_output_13 + y_global_orig)\n",
        "\n",
        "simple_regret_approx_13 = min_max_array(regret_approx_13)\n",
        "simple_regret_exact_13 = min_max_array(regret_exact_13)\n",
        "\n",
        "min_simple_regret_approx_13 = min(simple_regret_approx_13)\n",
        "min_simple_regret_exact_13 = min(simple_regret_exact_13)\n",
        "\n",
        "min_simple_regret_approx_13, min_simple_regret_exact_13"
      ],
      "execution_count": 67,
      "outputs": [
        {
          "output_type": "execute_result",
          "data": {
            "text/plain": [
              "(4.474314403064249, 6.259653079472307)"
            ]
          },
          "metadata": {},
          "execution_count": 67
        }
      ]
    },
    {
      "cell_type": "code",
      "metadata": {
        "id": "ogML73shQxfx",
        "colab": {
          "base_uri": "https://localhost:8080/"
        },
        "outputId": "22fdb876-6f2d-4f3b-b72a-c363d6318ca9"
      },
      "source": [
        "### Simple regret minimization: run number = 14\n",
        "\n",
        "approx_output_14 = np.append(np.min(approx_14.GP.y[0:n_init]),approx_14.GP.y[n_init:(n_init+iters)]) \n",
        "exact_output_14 = np.append(np.min(exact_14.GP.y[0:n_init]),exact_14.GP.y[n_init:(n_init+iters)]) \n",
        "\n",
        "regret_approx_14 = np.log(-approx_output_14 + y_global_orig)\n",
        "regret_exact_14 = np.log(-exact_output_14 + y_global_orig)\n",
        "\n",
        "simple_regret_approx_14 = min_max_array(regret_approx_14)\n",
        "simple_regret_exact_14 = min_max_array(regret_exact_14)\n",
        "\n",
        "min_simple_regret_approx_14 = min(simple_regret_approx_14)\n",
        "min_simple_regret_exact_14 = min(simple_regret_exact_14)\n",
        "\n",
        "min_simple_regret_approx_14, min_simple_regret_exact_14"
      ],
      "execution_count": 68,
      "outputs": [
        {
          "output_type": "execute_result",
          "data": {
            "text/plain": [
              "(5.77653880255396, 4.59025237434138)"
            ]
          },
          "metadata": {},
          "execution_count": 68
        }
      ]
    },
    {
      "cell_type": "code",
      "metadata": {
        "id": "9Eg7gFT9Qxfx",
        "colab": {
          "base_uri": "https://localhost:8080/"
        },
        "outputId": "772af00b-c887-44c3-d184-40bd5797aeef"
      },
      "source": [
        "### Simple regret minimization: run number = 15\n",
        "\n",
        "approx_output_15 = np.append(np.min(approx_15.GP.y[0:n_init]),approx_15.GP.y[n_init:(n_init+iters)]) \n",
        "exact_output_15 = np.append(np.min(exact_15.GP.y[0:n_init]),exact_15.GP.y[n_init:(n_init+iters)]) \n",
        "\n",
        "regret_approx_15 = np.log(-approx_output_15 + y_global_orig)\n",
        "regret_exact_15 = np.log(-exact_output_15 + y_global_orig)\n",
        "\n",
        "simple_regret_approx_15 = min_max_array(regret_approx_15)\n",
        "simple_regret_exact_15 = min_max_array(regret_exact_15)\n",
        "\n",
        "min_simple_regret_approx_15 = min(simple_regret_approx_15)\n",
        "min_simple_regret_exact_15 = min(simple_regret_exact_15)\n",
        "\n",
        "min_simple_regret_approx_15, min_simple_regret_exact_15"
      ],
      "execution_count": 69,
      "outputs": [
        {
          "output_type": "execute_result",
          "data": {
            "text/plain": [
              "(5.627543957481097, 4.237562822327569)"
            ]
          },
          "metadata": {},
          "execution_count": 69
        }
      ]
    },
    {
      "cell_type": "code",
      "metadata": {
        "id": "lIAC1U7ZQxfy",
        "colab": {
          "base_uri": "https://localhost:8080/"
        },
        "outputId": "613e4470-e173-4ce9-fe8a-ae33627ef033"
      },
      "source": [
        "### Simple regret minimization: run number = 16\n",
        "\n",
        "approx_output_16 = np.append(np.min(approx_16.GP.y[0:n_init]),approx_16.GP.y[n_init:(n_init+iters)]) \n",
        "exact_output_16 = np.append(np.min(exact_16.GP.y[0:n_init]),exact_16.GP.y[n_init:(n_init+iters)]) \n",
        "\n",
        "regret_approx_16 = np.log(-approx_output_16 + y_global_orig)\n",
        "regret_exact_16 = np.log(-exact_output_16 + y_global_orig)\n",
        "\n",
        "simple_regret_approx_16 = min_max_array(regret_approx_16)\n",
        "simple_regret_exact_16 = min_max_array(regret_exact_16)\n",
        "\n",
        "min_simple_regret_approx_16 = min(simple_regret_approx_16)\n",
        "min_simple_regret_exact_16 = min(simple_regret_exact_16)\n",
        "\n",
        "min_simple_regret_approx_16, min_simple_regret_exact_16"
      ],
      "execution_count": 70,
      "outputs": [
        {
          "output_type": "execute_result",
          "data": {
            "text/plain": [
              "(5.18093136385132, 6.374267902316526)"
            ]
          },
          "metadata": {},
          "execution_count": 70
        }
      ]
    },
    {
      "cell_type": "code",
      "metadata": {
        "id": "bGott36OQxfz",
        "colab": {
          "base_uri": "https://localhost:8080/"
        },
        "outputId": "1224890c-a3a8-475c-8632-08617d658216"
      },
      "source": [
        "### Simple regret minimization: run number = 17\n",
        "\n",
        "approx_output_17 = np.append(np.min(approx_17.GP.y[0:n_init]),approx_17.GP.y[n_init:(n_init+iters)]) \n",
        "exact_output_17 = np.append(np.min(exact_17.GP.y[0:n_init]),exact_17.GP.y[n_init:(n_init+iters)]) \n",
        "\n",
        "regret_approx_17 = np.log(-approx_output_17 + y_global_orig)\n",
        "regret_exact_17 = np.log(-exact_output_17 + y_global_orig)\n",
        "\n",
        "simple_regret_approx_17 = min_max_array(regret_approx_17)\n",
        "simple_regret_exact_17 = min_max_array(regret_exact_17)\n",
        "\n",
        "min_simple_regret_approx_17 = min(simple_regret_approx_17)\n",
        "min_simple_regret_exact_17 = min(simple_regret_exact_17)\n",
        "\n",
        "min_simple_regret_approx_17, min_simple_regret_exact_17"
      ],
      "execution_count": 71,
      "outputs": [
        {
          "output_type": "execute_result",
          "data": {
            "text/plain": [
              "(4.260813920126393, 4.260813920126393)"
            ]
          },
          "metadata": {},
          "execution_count": 71
        }
      ]
    },
    {
      "cell_type": "code",
      "metadata": {
        "id": "Cz9ZYMBMQxfz",
        "colab": {
          "base_uri": "https://localhost:8080/"
        },
        "outputId": "5e5bc1cf-d266-4501-9441-b47e7b8142c0"
      },
      "source": [
        "### Simple regret minimization: run number = 18\n",
        "\n",
        "approx_output_18 = np.append(np.min(approx_18.GP.y[0:n_init]),approx_18.GP.y[n_init:(n_init+iters)]) \n",
        "exact_output_18 = np.append(np.min(exact_18.GP.y[0:n_init]),exact_18.GP.y[n_init:(n_init+iters)]) \n",
        "\n",
        "regret_approx_18 = np.log(-approx_output_18 + y_global_orig)\n",
        "regret_exact_18 = np.log(-exact_output_18 + y_global_orig)\n",
        "\n",
        "simple_regret_approx_18 = min_max_array(regret_approx_18)\n",
        "simple_regret_exact_18 = min_max_array(regret_exact_18)\n",
        "\n",
        "min_simple_regret_approx_18 = min(simple_regret_approx_18)\n",
        "min_simple_regret_exact_18 = min(simple_regret_exact_18)\n",
        "\n",
        "min_simple_regret_approx_18, min_simple_regret_exact_18"
      ],
      "execution_count": 72,
      "outputs": [
        {
          "output_type": "execute_result",
          "data": {
            "text/plain": [
              "(3.4808648487223905, 3.857099945142224)"
            ]
          },
          "metadata": {},
          "execution_count": 72
        }
      ]
    },
    {
      "cell_type": "code",
      "metadata": {
        "id": "OBfpWOHNQxf0",
        "colab": {
          "base_uri": "https://localhost:8080/"
        },
        "outputId": "8efe5303-65c4-4397-8a7e-75e846ea3904"
      },
      "source": [
        "### Simple regret minimization: run number = 19\n",
        "\n",
        "approx_output_19 = np.append(np.min(approx_19.GP.y[0:n_init]),approx_19.GP.y[n_init:(n_init+iters)]) \n",
        "exact_output_19 = np.append(np.min(exact_19.GP.y[0:n_init]),exact_19.GP.y[n_init:(n_init+iters)]) \n",
        "\n",
        "regret_approx_19 = np.log(-approx_output_19 + y_global_orig)\n",
        "regret_exact_19 = np.log(-exact_output_19 + y_global_orig)\n",
        "\n",
        "simple_regret_approx_19 = min_max_array(regret_approx_19)\n",
        "simple_regret_exact_19 = min_max_array(regret_exact_19)\n",
        "\n",
        "min_simple_regret_approx_19 = min(simple_regret_approx_19)\n",
        "min_simple_regret_exact_19 = min(simple_regret_exact_19)\n",
        "\n",
        "min_simple_regret_approx_19, min_simple_regret_exact_19"
      ],
      "execution_count": 73,
      "outputs": [
        {
          "output_type": "execute_result",
          "data": {
            "text/plain": [
              "(4.448474898401298, 3.8961534993821134)"
            ]
          },
          "metadata": {},
          "execution_count": 73
        }
      ]
    },
    {
      "cell_type": "code",
      "metadata": {
        "id": "BE1AJ7NsQxf0",
        "colab": {
          "base_uri": "https://localhost:8080/"
        },
        "outputId": "32c813cf-953e-493a-e0a8-561413c2b913"
      },
      "source": [
        "### Simple regret minimization: run number = 20\n",
        "\n",
        "approx_output_20 = np.append(np.min(approx_20.GP.y[0:n_init]),approx_20.GP.y[n_init:(n_init+iters)]) \n",
        "exact_output_20 = np.append(np.min(exact_20.GP.y[0:n_init]),exact_20.GP.y[n_init:(n_init+iters)]) \n",
        "\n",
        "regret_approx_20 = np.log(-approx_output_20 + y_global_orig)\n",
        "regret_exact_20 = np.log(-exact_output_20 + y_global_orig)\n",
        "\n",
        "simple_regret_approx_20 = min_max_array(regret_approx_20)\n",
        "simple_regret_exact_20 = min_max_array(regret_exact_20)\n",
        "\n",
        "min_simple_regret_approx_20 = min(simple_regret_approx_20)\n",
        "min_simple_regret_exact_20 = min(simple_regret_exact_20)\n",
        "\n",
        "min_simple_regret_approx_20, min_simple_regret_exact_20"
      ],
      "execution_count": 74,
      "outputs": [
        {
          "output_type": "execute_result",
          "data": {
            "text/plain": [
              "(5.286928056904627, 6.483332642769369)"
            ]
          },
          "metadata": {},
          "execution_count": 74
        }
      ]
    },
    {
      "cell_type": "code",
      "metadata": {
        "id": "XHo_0G2fJhBb"
      },
      "source": [
        "# Iteration1 :\n",
        "\n",
        "slice1 = 0\n",
        "\n",
        "approx1 = [simple_regret_approx_1[slice1],\n",
        "       simple_regret_approx_2[slice1],\n",
        "       simple_regret_approx_3[slice1],\n",
        "       simple_regret_approx_4[slice1],\n",
        "       simple_regret_approx_5[slice1],\n",
        "       simple_regret_approx_6[slice1],\n",
        "       simple_regret_approx_7[slice1],\n",
        "       simple_regret_approx_8[slice1],\n",
        "       simple_regret_approx_9[slice1],\n",
        "       simple_regret_approx_10[slice1],\n",
        "       simple_regret_approx_11[slice1],\n",
        "       simple_regret_approx_12[slice1],\n",
        "       simple_regret_approx_13[slice1],\n",
        "       simple_regret_approx_14[slice1],\n",
        "       simple_regret_approx_15[slice1],\n",
        "       simple_regret_approx_16[slice1],\n",
        "       simple_regret_approx_17[slice1],\n",
        "       simple_regret_approx_18[slice1],\n",
        "       simple_regret_approx_19[slice1],\n",
        "       simple_regret_approx_20[slice1]]\n",
        "\n",
        "exact1 = [simple_regret_exact_1[slice1],\n",
        "       simple_regret_exact_2[slice1],\n",
        "       simple_regret_exact_3[slice1],\n",
        "       simple_regret_exact_4[slice1],\n",
        "       simple_regret_exact_5[slice1],\n",
        "       simple_regret_exact_6[slice1],\n",
        "       simple_regret_exact_7[slice1],\n",
        "       simple_regret_exact_8[slice1],\n",
        "       simple_regret_exact_9[slice1],\n",
        "       simple_regret_exact_10[slice1],\n",
        "       simple_regret_exact_11[slice1],\n",
        "       simple_regret_exact_12[slice1],\n",
        "       simple_regret_exact_13[slice1],\n",
        "       simple_regret_exact_14[slice1],\n",
        "       simple_regret_exact_15[slice1],\n",
        "       simple_regret_exact_16[slice1],\n",
        "       simple_regret_exact_17[slice1],\n",
        "       simple_regret_exact_18[slice1],\n",
        "       simple_regret_exact_19[slice1],\n",
        "       simple_regret_exact_20[slice1]]\n",
        "\n",
        "approx1_results = pd.DataFrame(approx1).sort_values(by=[0], ascending=False)\n",
        "exact1_results = pd.DataFrame(exact1).sort_values(by=[0], ascending=False)\n",
        "\n",
        "### Best simple regret minimization IQR - approx:\n",
        "lower_approx1 = np.asarray(approx1_results[4:5][0])[0]\n",
        "median_approx1 = np.asarray(approx1_results[9:10][0])[0]\n",
        "upper_approx1 = np.asarray(approx1_results[14:15][0])[0]\n",
        "\n",
        "lower_exact1 = np.asarray(exact1_results[4:5][0])[0]\n",
        "median_exact1 = np.asarray(exact1_results[9:10][0])[0]\n",
        "upper_exact1 = np.asarray(exact1_results[14:15][0])[0]"
      ],
      "execution_count": 75,
      "outputs": []
    },
    {
      "cell_type": "code",
      "metadata": {
        "id": "IZYT5m85JhBb"
      },
      "source": [
        "# Iteration11 :\n",
        "\n",
        "slice11 = 10\n",
        "\n",
        "approx11 = [simple_regret_approx_1[slice11],\n",
        "       simple_regret_approx_2[slice11],\n",
        "       simple_regret_approx_3[slice11],\n",
        "       simple_regret_approx_4[slice11],\n",
        "       simple_regret_approx_5[slice11],\n",
        "       simple_regret_approx_6[slice11],\n",
        "       simple_regret_approx_7[slice11],\n",
        "       simple_regret_approx_8[slice11],\n",
        "       simple_regret_approx_9[slice11],\n",
        "       simple_regret_approx_10[slice11],\n",
        "       simple_regret_approx_11[slice11],\n",
        "       simple_regret_approx_12[slice11],\n",
        "       simple_regret_approx_13[slice11],\n",
        "       simple_regret_approx_14[slice11],\n",
        "       simple_regret_approx_15[slice11],\n",
        "       simple_regret_approx_16[slice11],\n",
        "       simple_regret_approx_17[slice11],\n",
        "       simple_regret_approx_18[slice11],\n",
        "       simple_regret_approx_19[slice11],\n",
        "       simple_regret_approx_20[slice11]]\n",
        "\n",
        "exact11 = [simple_regret_exact_1[slice11],\n",
        "       simple_regret_exact_2[slice11],\n",
        "       simple_regret_exact_3[slice11],\n",
        "       simple_regret_exact_4[slice11],\n",
        "       simple_regret_exact_5[slice11],\n",
        "       simple_regret_exact_6[slice11],\n",
        "       simple_regret_exact_7[slice11],\n",
        "       simple_regret_exact_8[slice11],\n",
        "       simple_regret_exact_9[slice11],\n",
        "       simple_regret_exact_10[slice11],\n",
        "       simple_regret_exact_11[slice11],\n",
        "       simple_regret_exact_12[slice11],\n",
        "       simple_regret_exact_13[slice11],\n",
        "       simple_regret_exact_14[slice11],\n",
        "       simple_regret_exact_15[slice11],\n",
        "       simple_regret_exact_16[slice11],\n",
        "       simple_regret_exact_17[slice11],\n",
        "       simple_regret_exact_18[slice11],\n",
        "       simple_regret_exact_19[slice11],\n",
        "       simple_regret_exact_20[slice11]]\n",
        "\n",
        "approx11_results = pd.DataFrame(approx11).sort_values(by=[0], ascending=False)\n",
        "exact11_results = pd.DataFrame(exact11).sort_values(by=[0], ascending=False)\n",
        "\n",
        "### Best simple regret minimization IQR - approx:\n",
        "lower_approx11 = np.asarray(approx11_results[4:5][0])[0]\n",
        "median_approx11 = np.asarray(approx11_results[9:10][0])[0]\n",
        "upper_approx11 = np.asarray(approx11_results[14:15][0])[0]\n",
        "\n",
        "lower_exact11 = np.asarray(exact11_results[4:5][0])[0]\n",
        "median_exact11 = np.asarray(exact11_results[9:10][0])[0]\n",
        "upper_exact11 = np.asarray(exact11_results[14:15][0])[0]"
      ],
      "execution_count": 76,
      "outputs": []
    },
    {
      "cell_type": "code",
      "metadata": {
        "id": "R_vbmbaeJhBc"
      },
      "source": [
        "# Iteration21 :\n",
        "\n",
        "slice21 = 20\n",
        "\n",
        "approx21 = [simple_regret_approx_1[slice21],\n",
        "       simple_regret_approx_2[slice21],\n",
        "       simple_regret_approx_3[slice21],\n",
        "       simple_regret_approx_4[slice21],\n",
        "       simple_regret_approx_5[slice21],\n",
        "       simple_regret_approx_6[slice21],\n",
        "       simple_regret_approx_7[slice21],\n",
        "       simple_regret_approx_8[slice21],\n",
        "       simple_regret_approx_9[slice21],\n",
        "       simple_regret_approx_10[slice21],\n",
        "       simple_regret_approx_11[slice21],\n",
        "       simple_regret_approx_12[slice21],\n",
        "       simple_regret_approx_13[slice21],\n",
        "       simple_regret_approx_14[slice21],\n",
        "       simple_regret_approx_15[slice21],\n",
        "       simple_regret_approx_16[slice21],\n",
        "       simple_regret_approx_17[slice21],\n",
        "       simple_regret_approx_18[slice21],\n",
        "       simple_regret_approx_19[slice21],\n",
        "       simple_regret_approx_20[slice21]]\n",
        "\n",
        "exact21 = [simple_regret_exact_1[slice21],\n",
        "       simple_regret_exact_2[slice21],\n",
        "       simple_regret_exact_3[slice21],\n",
        "       simple_regret_exact_4[slice21],\n",
        "       simple_regret_exact_5[slice21],\n",
        "       simple_regret_exact_6[slice21],\n",
        "       simple_regret_exact_7[slice21],\n",
        "       simple_regret_exact_8[slice21],\n",
        "       simple_regret_exact_9[slice21],\n",
        "       simple_regret_exact_10[slice21],\n",
        "       simple_regret_exact_11[slice21],\n",
        "       simple_regret_exact_12[slice21],\n",
        "       simple_regret_exact_13[slice21],\n",
        "       simple_regret_exact_14[slice21],\n",
        "       simple_regret_exact_15[slice21],\n",
        "       simple_regret_exact_16[slice21],\n",
        "       simple_regret_exact_17[slice21],\n",
        "       simple_regret_exact_18[slice21],\n",
        "       simple_regret_exact_19[slice21],\n",
        "       simple_regret_exact_20[slice21]]\n",
        "\n",
        "approx21_results = pd.DataFrame(approx21).sort_values(by=[0], ascending=False)\n",
        "exact21_results = pd.DataFrame(exact21).sort_values(by=[0], ascending=False)\n",
        "\n",
        "### Best simple regret minimization IQR - approx:\n",
        "lower_approx21 = np.asarray(approx21_results[4:5][0])[0]\n",
        "median_approx21 = np.asarray(approx21_results[9:10][0])[0]\n",
        "upper_approx21 = np.asarray(approx21_results[14:15][0])[0]\n",
        "\n",
        "lower_exact21 = np.asarray(exact21_results[4:5][0])[0]\n",
        "median_exact21 = np.asarray(exact21_results[9:10][0])[0]\n",
        "upper_exact21 = np.asarray(exact21_results[14:15][0])[0]"
      ],
      "execution_count": 77,
      "outputs": []
    },
    {
      "cell_type": "code",
      "metadata": {
        "id": "F9FU4ttiaQOJ"
      },
      "source": [
        "# Iteration31 :\n",
        "\n",
        "slice31 = 30\n",
        "\n",
        "approx31 = [simple_regret_approx_1[slice31],\n",
        "       simple_regret_approx_2[slice31],\n",
        "       simple_regret_approx_3[slice31],\n",
        "       simple_regret_approx_4[slice31],\n",
        "       simple_regret_approx_5[slice31],\n",
        "       simple_regret_approx_6[slice31],\n",
        "       simple_regret_approx_7[slice31],\n",
        "       simple_regret_approx_8[slice31],\n",
        "       simple_regret_approx_9[slice31],\n",
        "       simple_regret_approx_10[slice31],\n",
        "       simple_regret_approx_11[slice31],\n",
        "       simple_regret_approx_12[slice31],\n",
        "       simple_regret_approx_13[slice31],\n",
        "       simple_regret_approx_14[slice31],\n",
        "       simple_regret_approx_15[slice31],\n",
        "       simple_regret_approx_16[slice31],\n",
        "       simple_regret_approx_17[slice31],\n",
        "       simple_regret_approx_18[slice31],\n",
        "       simple_regret_approx_19[slice31],\n",
        "       simple_regret_approx_20[slice31]]\n",
        "\n",
        "exact31 = [simple_regret_exact_1[slice31],\n",
        "       simple_regret_exact_2[slice31],\n",
        "       simple_regret_exact_3[slice31],\n",
        "       simple_regret_exact_4[slice31],\n",
        "       simple_regret_exact_5[slice31],\n",
        "       simple_regret_exact_6[slice31],\n",
        "       simple_regret_exact_7[slice31],\n",
        "       simple_regret_exact_8[slice31],\n",
        "       simple_regret_exact_9[slice31],\n",
        "       simple_regret_exact_10[slice31],\n",
        "       simple_regret_exact_11[slice31],\n",
        "       simple_regret_exact_12[slice31],\n",
        "       simple_regret_exact_13[slice31],\n",
        "       simple_regret_exact_14[slice31],\n",
        "       simple_regret_exact_15[slice31],\n",
        "       simple_regret_exact_16[slice31],\n",
        "       simple_regret_exact_17[slice31],\n",
        "       simple_regret_exact_18[slice31],\n",
        "       simple_regret_exact_19[slice31],\n",
        "       simple_regret_exact_20[slice31]]\n",
        "\n",
        "approx31_results = pd.DataFrame(approx31).sort_values(by=[0], ascending=False)\n",
        "exact31_results = pd.DataFrame(exact31).sort_values(by=[0], ascending=False)\n",
        "\n",
        "### Best simple regret minimization IQR - approx:\n",
        "lower_approx31 = np.asarray(approx31_results[4:5][0])[0]\n",
        "median_approx31 = np.asarray(approx31_results[9:10][0])[0]\n",
        "upper_approx31 = np.asarray(approx31_results[14:15][0])[0]\n",
        "\n",
        "lower_exact31 = np.asarray(exact31_results[4:5][0])[0]\n",
        "median_exact31 = np.asarray(exact31_results[9:10][0])[0]\n",
        "upper_exact31 = np.asarray(exact31_results[14:15][0])[0]\n"
      ],
      "execution_count": 78,
      "outputs": []
    },
    {
      "cell_type": "code",
      "metadata": {
        "id": "nAnT4CmSJhBd"
      },
      "source": [
        "# Iteration2 :\n",
        "\n",
        "slice2 = 1\n",
        "\n",
        "approx2 = [simple_regret_approx_1[slice2],\n",
        "       simple_regret_approx_2[slice2],\n",
        "       simple_regret_approx_3[slice2],\n",
        "       simple_regret_approx_4[slice2],\n",
        "       simple_regret_approx_5[slice2],\n",
        "       simple_regret_approx_6[slice2],\n",
        "       simple_regret_approx_7[slice2],\n",
        "       simple_regret_approx_8[slice2],\n",
        "       simple_regret_approx_9[slice2],\n",
        "       simple_regret_approx_10[slice2],\n",
        "       simple_regret_approx_11[slice2],\n",
        "       simple_regret_approx_12[slice2],\n",
        "       simple_regret_approx_13[slice2],\n",
        "       simple_regret_approx_14[slice2],\n",
        "       simple_regret_approx_15[slice2],\n",
        "       simple_regret_approx_16[slice2],\n",
        "       simple_regret_approx_17[slice2],\n",
        "       simple_regret_approx_18[slice2],\n",
        "       simple_regret_approx_19[slice2],\n",
        "       simple_regret_approx_20[slice2]]\n",
        "\n",
        "exact2 = [simple_regret_exact_1[slice2],\n",
        "       simple_regret_exact_2[slice2],\n",
        "       simple_regret_exact_3[slice2],\n",
        "       simple_regret_exact_4[slice2],\n",
        "       simple_regret_exact_5[slice2],\n",
        "       simple_regret_exact_6[slice2],\n",
        "       simple_regret_exact_7[slice2],\n",
        "       simple_regret_exact_8[slice2],\n",
        "       simple_regret_exact_9[slice2],\n",
        "       simple_regret_exact_10[slice2],\n",
        "       simple_regret_exact_11[slice2],\n",
        "       simple_regret_exact_12[slice2],\n",
        "       simple_regret_exact_13[slice2],\n",
        "       simple_regret_exact_14[slice2],\n",
        "       simple_regret_exact_15[slice2],\n",
        "       simple_regret_exact_16[slice2],\n",
        "       simple_regret_exact_17[slice2],\n",
        "       simple_regret_exact_18[slice2],\n",
        "       simple_regret_exact_19[slice2],\n",
        "       simple_regret_exact_20[slice2]]\n",
        "\n",
        "approx2_results = pd.DataFrame(approx2).sort_values(by=[0], ascending=False)\n",
        "exact2_results = pd.DataFrame(exact2).sort_values(by=[0], ascending=False)\n",
        "\n",
        "### Best simple regret minimization IQR - approx:\n",
        "lower_approx2 = np.asarray(approx2_results[4:5][0])[0]\n",
        "median_approx2 = np.asarray(approx2_results[9:10][0])[0]\n",
        "upper_approx2 = np.asarray(approx2_results[14:15][0])[0]\n",
        "\n",
        "lower_exact2 = np.asarray(exact2_results[4:5][0])[0]\n",
        "median_exact2 = np.asarray(exact2_results[9:10][0])[0]\n",
        "upper_exact2 = np.asarray(exact2_results[14:15][0])[0]"
      ],
      "execution_count": 79,
      "outputs": []
    },
    {
      "cell_type": "code",
      "metadata": {
        "id": "ilHQoAhBJhBd"
      },
      "source": [
        "# Iteration12 :\n",
        "\n",
        "slice12 = 11\n",
        "\n",
        "approx12 = [simple_regret_approx_1[slice12],\n",
        "       simple_regret_approx_2[slice12],\n",
        "       simple_regret_approx_3[slice12],\n",
        "       simple_regret_approx_4[slice12],\n",
        "       simple_regret_approx_5[slice12],\n",
        "       simple_regret_approx_6[slice12],\n",
        "       simple_regret_approx_7[slice12],\n",
        "       simple_regret_approx_8[slice12],\n",
        "       simple_regret_approx_9[slice12],\n",
        "       simple_regret_approx_10[slice12],\n",
        "       simple_regret_approx_11[slice12],\n",
        "       simple_regret_approx_12[slice12],\n",
        "       simple_regret_approx_13[slice12],\n",
        "       simple_regret_approx_14[slice12],\n",
        "       simple_regret_approx_15[slice12],\n",
        "       simple_regret_approx_16[slice12],\n",
        "       simple_regret_approx_17[slice12],\n",
        "       simple_regret_approx_18[slice12],\n",
        "       simple_regret_approx_19[slice12],\n",
        "       simple_regret_approx_20[slice12]]\n",
        "\n",
        "exact12 = [simple_regret_exact_1[slice12],\n",
        "       simple_regret_exact_2[slice12],\n",
        "       simple_regret_exact_3[slice12],\n",
        "       simple_regret_exact_4[slice12],\n",
        "       simple_regret_exact_5[slice12],\n",
        "       simple_regret_exact_6[slice12],\n",
        "       simple_regret_exact_7[slice12],\n",
        "       simple_regret_exact_8[slice12],\n",
        "       simple_regret_exact_9[slice12],\n",
        "       simple_regret_exact_10[slice12],\n",
        "       simple_regret_exact_11[slice12],\n",
        "       simple_regret_exact_12[slice12],\n",
        "       simple_regret_exact_13[slice12],\n",
        "       simple_regret_exact_14[slice12],\n",
        "       simple_regret_exact_15[slice12],\n",
        "       simple_regret_exact_16[slice12],\n",
        "       simple_regret_exact_17[slice12],\n",
        "       simple_regret_exact_18[slice12],\n",
        "       simple_regret_exact_19[slice12],\n",
        "       simple_regret_exact_20[slice12]]\n",
        "\n",
        "approx12_results = pd.DataFrame(approx12).sort_values(by=[0], ascending=False)\n",
        "exact12_results = pd.DataFrame(exact12).sort_values(by=[0], ascending=False)\n",
        "\n",
        "### Best simple regret minimization IQR - approx:\n",
        "lower_approx12 = np.asarray(approx12_results[4:5][0])[0]\n",
        "median_approx12 = np.asarray(approx12_results[9:10][0])[0]\n",
        "upper_approx12 = np.asarray(approx12_results[14:15][0])[0]\n",
        "\n",
        "lower_exact12 = np.asarray(exact12_results[4:5][0])[0]\n",
        "median_exact12 = np.asarray(exact12_results[9:10][0])[0]\n",
        "upper_exact12 = np.asarray(exact12_results[14:15][0])[0]"
      ],
      "execution_count": 80,
      "outputs": []
    },
    {
      "cell_type": "code",
      "metadata": {
        "id": "H13IwWE5axxK"
      },
      "source": [
        "# Iteration22 :\n",
        "\n",
        "slice22 = 21\n",
        "\n",
        "approx22 = [simple_regret_approx_1[slice22],\n",
        "       simple_regret_approx_2[slice22],\n",
        "       simple_regret_approx_3[slice22],\n",
        "       simple_regret_approx_4[slice22],\n",
        "       simple_regret_approx_5[slice22],\n",
        "       simple_regret_approx_6[slice22],\n",
        "       simple_regret_approx_7[slice22],\n",
        "       simple_regret_approx_8[slice22],\n",
        "       simple_regret_approx_9[slice22],\n",
        "       simple_regret_approx_10[slice22],\n",
        "       simple_regret_approx_11[slice22],\n",
        "       simple_regret_approx_12[slice22],\n",
        "       simple_regret_approx_13[slice22],\n",
        "       simple_regret_approx_14[slice22],\n",
        "       simple_regret_approx_15[slice22],\n",
        "       simple_regret_approx_16[slice22],\n",
        "       simple_regret_approx_17[slice22],\n",
        "       simple_regret_approx_18[slice22],\n",
        "       simple_regret_approx_19[slice22],\n",
        "       simple_regret_approx_20[slice22]]\n",
        "\n",
        "exact22 = [simple_regret_exact_1[slice22],\n",
        "       simple_regret_exact_2[slice22],\n",
        "       simple_regret_exact_3[slice22],\n",
        "       simple_regret_exact_4[slice22],\n",
        "       simple_regret_exact_5[slice22],\n",
        "       simple_regret_exact_6[slice22],\n",
        "       simple_regret_exact_7[slice22],\n",
        "       simple_regret_exact_8[slice22],\n",
        "       simple_regret_exact_9[slice22],\n",
        "       simple_regret_exact_10[slice22],\n",
        "       simple_regret_exact_11[slice22],\n",
        "       simple_regret_exact_12[slice22],\n",
        "       simple_regret_exact_13[slice22],\n",
        "       simple_regret_exact_14[slice22],\n",
        "       simple_regret_exact_15[slice22],\n",
        "       simple_regret_exact_16[slice22],\n",
        "       simple_regret_exact_17[slice22],\n",
        "       simple_regret_exact_18[slice22],\n",
        "       simple_regret_exact_19[slice22],\n",
        "       simple_regret_exact_20[slice22]]\n",
        "\n",
        "approx22_results = pd.DataFrame(approx22).sort_values(by=[0], ascending=False)\n",
        "exact22_results = pd.DataFrame(exact22).sort_values(by=[0], ascending=False)\n",
        "\n",
        "### Best simple regret minimization IQR - approx:\n",
        "lower_approx22 = np.asarray(approx22_results[4:5][0])[0]\n",
        "median_approx22 = np.asarray(approx22_results[9:10][0])[0]\n",
        "upper_approx22 = np.asarray(approx22_results[14:15][0])[0]\n",
        "\n",
        "lower_exact22 = np.asarray(exact22_results[4:5][0])[0]\n",
        "median_exact22 = np.asarray(exact22_results[9:10][0])[0]\n",
        "upper_exact22 = np.asarray(exact22_results[14:15][0])[0]"
      ],
      "execution_count": 81,
      "outputs": []
    },
    {
      "cell_type": "code",
      "metadata": {
        "id": "bGJ_fhZ7JhBe"
      },
      "source": [
        "# Iteration3 :\n",
        "\n",
        "slice3 = 2\n",
        "\n",
        "approx3 = [simple_regret_approx_1[slice3],\n",
        "       simple_regret_approx_2[slice3],\n",
        "       simple_regret_approx_3[slice3],\n",
        "       simple_regret_approx_4[slice3],\n",
        "       simple_regret_approx_5[slice3],\n",
        "       simple_regret_approx_6[slice3],\n",
        "       simple_regret_approx_7[slice3],\n",
        "       simple_regret_approx_8[slice3],\n",
        "       simple_regret_approx_9[slice3],\n",
        "       simple_regret_approx_10[slice3],\n",
        "       simple_regret_approx_11[slice3],\n",
        "       simple_regret_approx_12[slice3],\n",
        "       simple_regret_approx_13[slice3],\n",
        "       simple_regret_approx_14[slice3],\n",
        "       simple_regret_approx_15[slice3],\n",
        "       simple_regret_approx_16[slice3],\n",
        "       simple_regret_approx_17[slice3],\n",
        "       simple_regret_approx_18[slice3],\n",
        "       simple_regret_approx_19[slice3],\n",
        "       simple_regret_approx_20[slice3]]\n",
        "\n",
        "exact3 = [simple_regret_exact_1[slice3],\n",
        "       simple_regret_exact_2[slice3],\n",
        "       simple_regret_exact_3[slice3],\n",
        "       simple_regret_exact_4[slice3],\n",
        "       simple_regret_exact_5[slice3],\n",
        "       simple_regret_exact_6[slice3],\n",
        "       simple_regret_exact_7[slice3],\n",
        "       simple_regret_exact_8[slice3],\n",
        "       simple_regret_exact_9[slice3],\n",
        "       simple_regret_exact_10[slice3],\n",
        "       simple_regret_exact_11[slice3],\n",
        "       simple_regret_exact_12[slice3],\n",
        "       simple_regret_exact_13[slice3],\n",
        "       simple_regret_exact_14[slice3],\n",
        "       simple_regret_exact_15[slice3],\n",
        "       simple_regret_exact_16[slice3],\n",
        "       simple_regret_exact_17[slice3],\n",
        "       simple_regret_exact_18[slice3],\n",
        "       simple_regret_exact_19[slice3],\n",
        "       simple_regret_exact_20[slice3]]\n",
        "\n",
        "approx3_results = pd.DataFrame(approx3).sort_values(by=[0], ascending=False)\n",
        "exact3_results = pd.DataFrame(exact3).sort_values(by=[0], ascending=False)\n",
        "\n",
        "### Best simple regret minimization IQR - approx:\n",
        "lower_approx3 = np.asarray(approx3_results[4:5][0])[0]\n",
        "median_approx3 = np.asarray(approx3_results[9:10][0])[0]\n",
        "upper_approx3 = np.asarray(approx3_results[14:15][0])[0]\n",
        "\n",
        "lower_exact3 = np.asarray(exact3_results[4:5][0])[0]\n",
        "median_exact3 = np.asarray(exact3_results[9:10][0])[0]\n",
        "upper_exact3 = np.asarray(exact3_results[14:15][0])[0]"
      ],
      "execution_count": 82,
      "outputs": []
    },
    {
      "cell_type": "code",
      "metadata": {
        "id": "jUpV9Q1LJhBe"
      },
      "source": [
        "# Iteration13 :\n",
        "\n",
        "slice13 = 12\n",
        "\n",
        "approx13 = [simple_regret_approx_1[slice13],\n",
        "       simple_regret_approx_2[slice13],\n",
        "       simple_regret_approx_3[slice13],\n",
        "       simple_regret_approx_4[slice13],\n",
        "       simple_regret_approx_5[slice13],\n",
        "       simple_regret_approx_6[slice13],\n",
        "       simple_regret_approx_7[slice13],\n",
        "       simple_regret_approx_8[slice13],\n",
        "       simple_regret_approx_9[slice13],\n",
        "       simple_regret_approx_10[slice13],\n",
        "       simple_regret_approx_11[slice13],\n",
        "       simple_regret_approx_12[slice13],\n",
        "       simple_regret_approx_13[slice13],\n",
        "       simple_regret_approx_14[slice13],\n",
        "       simple_regret_approx_15[slice13],\n",
        "       simple_regret_approx_16[slice13],\n",
        "       simple_regret_approx_17[slice13],\n",
        "       simple_regret_approx_18[slice13],\n",
        "       simple_regret_approx_19[slice13],\n",
        "       simple_regret_approx_20[slice13]]\n",
        "\n",
        "exact13 = [simple_regret_exact_1[slice13],\n",
        "       simple_regret_exact_2[slice13],\n",
        "       simple_regret_exact_3[slice13],\n",
        "       simple_regret_exact_4[slice13],\n",
        "       simple_regret_exact_5[slice13],\n",
        "       simple_regret_exact_6[slice13],\n",
        "       simple_regret_exact_7[slice13],\n",
        "       simple_regret_exact_8[slice13],\n",
        "       simple_regret_exact_9[slice13],\n",
        "       simple_regret_exact_10[slice13],\n",
        "       simple_regret_exact_11[slice13],\n",
        "       simple_regret_exact_12[slice13],\n",
        "       simple_regret_exact_13[slice13],\n",
        "       simple_regret_exact_14[slice13],\n",
        "       simple_regret_exact_15[slice13],\n",
        "       simple_regret_exact_16[slice13],\n",
        "       simple_regret_exact_17[slice13],\n",
        "       simple_regret_exact_18[slice13],\n",
        "       simple_regret_exact_19[slice13],\n",
        "       simple_regret_exact_20[slice13]]\n",
        "\n",
        "approx13_results = pd.DataFrame(approx13).sort_values(by=[0], ascending=False)\n",
        "exact13_results = pd.DataFrame(exact13).sort_values(by=[0], ascending=False)\n",
        "\n",
        "### Best simple regret minimization IQR - approx:\n",
        "lower_approx13 = np.asarray(approx13_results[4:5][0])[0]\n",
        "median_approx13 = np.asarray(approx13_results[9:10][0])[0]\n",
        "upper_approx13 = np.asarray(approx13_results[14:15][0])[0]\n",
        "\n",
        "lower_exact13 = np.asarray(exact13_results[4:5][0])[0]\n",
        "median_exact13 = np.asarray(exact13_results[9:10][0])[0]\n",
        "upper_exact13 = np.asarray(exact13_results[14:15][0])[0]"
      ],
      "execution_count": 83,
      "outputs": []
    },
    {
      "cell_type": "code",
      "metadata": {
        "id": "ql0sW6uwbZ2w"
      },
      "source": [
        "# Iteration23 :\n",
        "\n",
        "slice23 = 22\n",
        "\n",
        "approx23 = [simple_regret_approx_1[slice23],\n",
        "       simple_regret_approx_2[slice23],\n",
        "       simple_regret_approx_3[slice23],\n",
        "       simple_regret_approx_4[slice23],\n",
        "       simple_regret_approx_5[slice23],\n",
        "       simple_regret_approx_6[slice23],\n",
        "       simple_regret_approx_7[slice23],\n",
        "       simple_regret_approx_8[slice23],\n",
        "       simple_regret_approx_9[slice23],\n",
        "       simple_regret_approx_10[slice23],\n",
        "       simple_regret_approx_11[slice23],\n",
        "       simple_regret_approx_12[slice23],\n",
        "       simple_regret_approx_13[slice23],\n",
        "       simple_regret_approx_14[slice23],\n",
        "       simple_regret_approx_15[slice23],\n",
        "       simple_regret_approx_16[slice23],\n",
        "       simple_regret_approx_17[slice23],\n",
        "       simple_regret_approx_18[slice23],\n",
        "       simple_regret_approx_19[slice23],\n",
        "       simple_regret_approx_20[slice23]]\n",
        "\n",
        "exact23 = [simple_regret_exact_1[slice23],\n",
        "       simple_regret_exact_2[slice23],\n",
        "       simple_regret_exact_3[slice23],\n",
        "       simple_regret_exact_4[slice23],\n",
        "       simple_regret_exact_5[slice23],\n",
        "       simple_regret_exact_6[slice23],\n",
        "       simple_regret_exact_7[slice23],\n",
        "       simple_regret_exact_8[slice23],\n",
        "       simple_regret_exact_9[slice23],\n",
        "       simple_regret_exact_10[slice23],\n",
        "       simple_regret_exact_11[slice23],\n",
        "       simple_regret_exact_12[slice23],\n",
        "       simple_regret_exact_13[slice23],\n",
        "       simple_regret_exact_14[slice23],\n",
        "       simple_regret_exact_15[slice23],\n",
        "       simple_regret_exact_16[slice23],\n",
        "       simple_regret_exact_17[slice23],\n",
        "       simple_regret_exact_18[slice23],\n",
        "       simple_regret_exact_19[slice23],\n",
        "       simple_regret_exact_20[slice23]]\n",
        "\n",
        "approx23_results = pd.DataFrame(approx23).sort_values(by=[0], ascending=False)\n",
        "exact23_results = pd.DataFrame(exact23).sort_values(by=[0], ascending=False)\n",
        "\n",
        "### Best simple regret minimization IQR - approx:\n",
        "lower_approx23 = np.asarray(approx23_results[4:5][0])[0]\n",
        "median_approx23 = np.asarray(approx23_results[9:10][0])[0]\n",
        "upper_approx23 = np.asarray(approx23_results[14:15][0])[0]\n",
        "\n",
        "lower_exact23 = np.asarray(exact23_results[4:5][0])[0]\n",
        "median_exact23 = np.asarray(exact23_results[9:10][0])[0]\n",
        "upper_exact23 = np.asarray(exact23_results[14:15][0])[0]"
      ],
      "execution_count": 84,
      "outputs": []
    },
    {
      "cell_type": "code",
      "metadata": {
        "id": "ZD6EnITCJhBf"
      },
      "source": [
        "# Iteration4 :\n",
        "\n",
        "slice4 = 3\n",
        "\n",
        "approx4 = [simple_regret_approx_1[slice4],\n",
        "       simple_regret_approx_2[slice4],\n",
        "       simple_regret_approx_3[slice4],\n",
        "       simple_regret_approx_4[slice4],\n",
        "       simple_regret_approx_5[slice4],\n",
        "       simple_regret_approx_6[slice4],\n",
        "       simple_regret_approx_7[slice4],\n",
        "       simple_regret_approx_8[slice4],\n",
        "       simple_regret_approx_9[slice4],\n",
        "       simple_regret_approx_10[slice4],\n",
        "       simple_regret_approx_11[slice4],\n",
        "       simple_regret_approx_12[slice4],\n",
        "       simple_regret_approx_13[slice4],\n",
        "       simple_regret_approx_14[slice4],\n",
        "       simple_regret_approx_15[slice4],\n",
        "       simple_regret_approx_16[slice4],\n",
        "       simple_regret_approx_17[slice4],\n",
        "       simple_regret_approx_18[slice4],\n",
        "       simple_regret_approx_19[slice4],\n",
        "       simple_regret_approx_20[slice4]]\n",
        "\n",
        "exact4 = [simple_regret_exact_1[slice4],\n",
        "       simple_regret_exact_2[slice4],\n",
        "       simple_regret_exact_3[slice4],\n",
        "       simple_regret_exact_4[slice4],\n",
        "       simple_regret_exact_5[slice4],\n",
        "       simple_regret_exact_6[slice4],\n",
        "       simple_regret_exact_7[slice4],\n",
        "       simple_regret_exact_8[slice4],\n",
        "       simple_regret_exact_9[slice4],\n",
        "       simple_regret_exact_10[slice4],\n",
        "       simple_regret_exact_11[slice4],\n",
        "       simple_regret_exact_12[slice4],\n",
        "       simple_regret_exact_13[slice4],\n",
        "       simple_regret_exact_14[slice4],\n",
        "       simple_regret_exact_15[slice4],\n",
        "       simple_regret_exact_16[slice4],\n",
        "       simple_regret_exact_17[slice4],\n",
        "       simple_regret_exact_18[slice4],\n",
        "       simple_regret_exact_19[slice4],\n",
        "       simple_regret_exact_20[slice4]]\n",
        "\n",
        "approx4_results = pd.DataFrame(approx4).sort_values(by=[0], ascending=False)\n",
        "exact4_results = pd.DataFrame(exact4).sort_values(by=[0], ascending=False)\n",
        "\n",
        "### Best simple regret minimization IQR - approx:\n",
        "lower_approx4 = np.asarray(approx4_results[4:5][0])[0]\n",
        "median_approx4 = np.asarray(approx4_results[9:10][0])[0]\n",
        "upper_approx4 = np.asarray(approx4_results[14:15][0])[0]\n",
        "\n",
        "lower_exact4 = np.asarray(exact4_results[4:5][0])[0]\n",
        "median_exact4 = np.asarray(exact4_results[9:10][0])[0]\n",
        "upper_exact4 = np.asarray(exact4_results[14:15][0])[0]"
      ],
      "execution_count": 85,
      "outputs": []
    },
    {
      "cell_type": "code",
      "metadata": {
        "id": "EpaLyNtBJhBg"
      },
      "source": [
        "# Iteration14 :\n",
        "\n",
        "slice14 = 13\n",
        "\n",
        "approx14 = [simple_regret_approx_1[slice14],\n",
        "       simple_regret_approx_2[slice14],\n",
        "       simple_regret_approx_3[slice14],\n",
        "       simple_regret_approx_4[slice14],\n",
        "       simple_regret_approx_5[slice14],\n",
        "       simple_regret_approx_6[slice14],\n",
        "       simple_regret_approx_7[slice14],\n",
        "       simple_regret_approx_8[slice14],\n",
        "       simple_regret_approx_9[slice14],\n",
        "       simple_regret_approx_10[slice14],\n",
        "       simple_regret_approx_11[slice14],\n",
        "       simple_regret_approx_12[slice14],\n",
        "       simple_regret_approx_13[slice14],\n",
        "       simple_regret_approx_14[slice14],\n",
        "       simple_regret_approx_15[slice14],\n",
        "       simple_regret_approx_16[slice14],\n",
        "       simple_regret_approx_17[slice14],\n",
        "       simple_regret_approx_18[slice14],\n",
        "       simple_regret_approx_19[slice14],\n",
        "       simple_regret_approx_20[slice14]]\n",
        "\n",
        "exact14 = [simple_regret_exact_1[slice14],\n",
        "       simple_regret_exact_2[slice14],\n",
        "       simple_regret_exact_3[slice14],\n",
        "       simple_regret_exact_4[slice14],\n",
        "       simple_regret_exact_5[slice14],\n",
        "       simple_regret_exact_6[slice14],\n",
        "       simple_regret_exact_7[slice14],\n",
        "       simple_regret_exact_8[slice14],\n",
        "       simple_regret_exact_9[slice14],\n",
        "       simple_regret_exact_10[slice14],\n",
        "       simple_regret_exact_11[slice14],\n",
        "       simple_regret_exact_12[slice14],\n",
        "       simple_regret_exact_13[slice14],\n",
        "       simple_regret_exact_14[slice14],\n",
        "       simple_regret_exact_15[slice14],\n",
        "       simple_regret_exact_16[slice14],\n",
        "       simple_regret_exact_17[slice14],\n",
        "       simple_regret_exact_18[slice14],\n",
        "       simple_regret_exact_19[slice14],\n",
        "       simple_regret_exact_20[slice14]]\n",
        "\n",
        "approx14_results = pd.DataFrame(approx14).sort_values(by=[0], ascending=False)\n",
        "exact14_results = pd.DataFrame(exact14).sort_values(by=[0], ascending=False)\n",
        "\n",
        "### Best simple regret minimization IQR - approx:\n",
        "lower_approx14 = np.asarray(approx14_results[4:5][0])[0]\n",
        "median_approx14 = np.asarray(approx14_results[9:10][0])[0]\n",
        "upper_approx14 = np.asarray(approx14_results[14:15][0])[0]\n",
        "\n",
        "lower_exact14 = np.asarray(exact14_results[4:5][0])[0]\n",
        "median_exact14 = np.asarray(exact14_results[9:10][0])[0]\n",
        "upper_exact14 = np.asarray(exact14_results[14:15][0])[0]"
      ],
      "execution_count": 86,
      "outputs": []
    },
    {
      "cell_type": "code",
      "metadata": {
        "id": "R9whJAg4b6L6"
      },
      "source": [
        "# Iteration24 :\n",
        "\n",
        "slice24 = 23\n",
        "\n",
        "approx24 = [simple_regret_approx_1[slice24],\n",
        "       simple_regret_approx_2[slice24],\n",
        "       simple_regret_approx_3[slice24],\n",
        "       simple_regret_approx_4[slice24],\n",
        "       simple_regret_approx_5[slice24],\n",
        "       simple_regret_approx_6[slice24],\n",
        "       simple_regret_approx_7[slice24],\n",
        "       simple_regret_approx_8[slice24],\n",
        "       simple_regret_approx_9[slice24],\n",
        "       simple_regret_approx_10[slice24],\n",
        "       simple_regret_approx_11[slice24],\n",
        "       simple_regret_approx_12[slice24],\n",
        "       simple_regret_approx_13[slice24],\n",
        "       simple_regret_approx_14[slice24],\n",
        "       simple_regret_approx_15[slice24],\n",
        "       simple_regret_approx_16[slice24],\n",
        "       simple_regret_approx_17[slice24],\n",
        "       simple_regret_approx_18[slice24],\n",
        "       simple_regret_approx_19[slice24],\n",
        "       simple_regret_approx_20[slice24]]\n",
        "\n",
        "exact24 = [simple_regret_exact_1[slice24],\n",
        "       simple_regret_exact_2[slice24],\n",
        "       simple_regret_exact_3[slice24],\n",
        "       simple_regret_exact_4[slice24],\n",
        "       simple_regret_exact_5[slice24],\n",
        "       simple_regret_exact_6[slice24],\n",
        "       simple_regret_exact_7[slice24],\n",
        "       simple_regret_exact_8[slice24],\n",
        "       simple_regret_exact_9[slice24],\n",
        "       simple_regret_exact_10[slice24],\n",
        "       simple_regret_exact_11[slice24],\n",
        "       simple_regret_exact_12[slice24],\n",
        "       simple_regret_exact_13[slice24],\n",
        "       simple_regret_exact_14[slice24],\n",
        "       simple_regret_exact_15[slice24],\n",
        "       simple_regret_exact_16[slice24],\n",
        "       simple_regret_exact_17[slice24],\n",
        "       simple_regret_exact_18[slice24],\n",
        "       simple_regret_exact_19[slice24],\n",
        "       simple_regret_exact_20[slice24]]\n",
        "\n",
        "approx24_results = pd.DataFrame(approx24).sort_values(by=[0], ascending=False)\n",
        "exact24_results = pd.DataFrame(exact24).sort_values(by=[0], ascending=False)\n",
        "\n",
        "### Best simple regret minimization IQR - approx:\n",
        "lower_approx24 = np.asarray(approx24_results[4:5][0])[0]\n",
        "median_approx24 = np.asarray(approx24_results[9:10][0])[0]\n",
        "upper_approx24 = np.asarray(approx24_results[14:15][0])[0]\n",
        "\n",
        "lower_exact24 = np.asarray(exact24_results[4:5][0])[0]\n",
        "median_exact24 = np.asarray(exact24_results[9:10][0])[0]\n",
        "upper_exact24 = np.asarray(exact24_results[14:15][0])[0]"
      ],
      "execution_count": 87,
      "outputs": []
    },
    {
      "cell_type": "code",
      "metadata": {
        "id": "WkaNBGB9JhBg"
      },
      "source": [
        "# Iteration5 :\n",
        "\n",
        "slice5 = 4\n",
        "\n",
        "approx5 = [simple_regret_approx_1[slice5],\n",
        "       simple_regret_approx_2[slice5],\n",
        "       simple_regret_approx_3[slice5],\n",
        "       simple_regret_approx_4[slice5],\n",
        "       simple_regret_approx_5[slice5],\n",
        "       simple_regret_approx_6[slice5],\n",
        "       simple_regret_approx_7[slice5],\n",
        "       simple_regret_approx_8[slice5],\n",
        "       simple_regret_approx_9[slice5],\n",
        "       simple_regret_approx_10[slice5],\n",
        "       simple_regret_approx_11[slice5],\n",
        "       simple_regret_approx_12[slice5],\n",
        "       simple_regret_approx_13[slice5],\n",
        "       simple_regret_approx_14[slice5],\n",
        "       simple_regret_approx_15[slice5],\n",
        "       simple_regret_approx_16[slice5],\n",
        "       simple_regret_approx_17[slice5],\n",
        "       simple_regret_approx_18[slice5],\n",
        "       simple_regret_approx_19[slice5],\n",
        "       simple_regret_approx_20[slice5]]\n",
        "\n",
        "exact5 = [simple_regret_exact_1[slice5],\n",
        "       simple_regret_exact_2[slice5],\n",
        "       simple_regret_exact_3[slice5],\n",
        "       simple_regret_exact_4[slice5],\n",
        "       simple_regret_exact_5[slice5],\n",
        "       simple_regret_exact_6[slice5],\n",
        "       simple_regret_exact_7[slice5],\n",
        "       simple_regret_exact_8[slice5],\n",
        "       simple_regret_exact_9[slice5],\n",
        "       simple_regret_exact_10[slice5],\n",
        "       simple_regret_exact_11[slice5],\n",
        "       simple_regret_exact_12[slice5],\n",
        "       simple_regret_exact_13[slice5],\n",
        "       simple_regret_exact_14[slice5],\n",
        "       simple_regret_exact_15[slice5],\n",
        "       simple_regret_exact_16[slice5],\n",
        "       simple_regret_exact_17[slice5],\n",
        "       simple_regret_exact_18[slice5],\n",
        "       simple_regret_exact_19[slice5],\n",
        "       simple_regret_exact_20[slice5]]\n",
        "\n",
        "approx5_results = pd.DataFrame(approx5).sort_values(by=[0], ascending=False)\n",
        "exact5_results = pd.DataFrame(exact5).sort_values(by=[0], ascending=False)\n",
        "\n",
        "### Best simple regret minimization IQR - approx:\n",
        "lower_approx5 = np.asarray(approx5_results[4:5][0])[0]\n",
        "median_approx5 = np.asarray(approx5_results[9:10][0])[0]\n",
        "upper_approx5 = np.asarray(approx5_results[14:15][0])[0]\n",
        "\n",
        "lower_exact5 = np.asarray(exact5_results[4:5][0])[0]\n",
        "median_exact5 = np.asarray(exact5_results[9:10][0])[0]\n",
        "upper_exact5 = np.asarray(exact5_results[14:15][0])[0]"
      ],
      "execution_count": 88,
      "outputs": []
    },
    {
      "cell_type": "code",
      "metadata": {
        "id": "tb9ICEuOJhBh"
      },
      "source": [
        "# Iteration15 :\n",
        "\n",
        "slice15 = 14\n",
        "\n",
        "approx15 = [simple_regret_approx_1[slice15],\n",
        "       simple_regret_approx_2[slice15],\n",
        "       simple_regret_approx_3[slice15],\n",
        "       simple_regret_approx_4[slice15],\n",
        "       simple_regret_approx_5[slice15],\n",
        "       simple_regret_approx_6[slice15],\n",
        "       simple_regret_approx_7[slice15],\n",
        "       simple_regret_approx_8[slice15],\n",
        "       simple_regret_approx_9[slice15],\n",
        "       simple_regret_approx_10[slice15],\n",
        "       simple_regret_approx_11[slice15],\n",
        "       simple_regret_approx_12[slice15],\n",
        "       simple_regret_approx_13[slice15],\n",
        "       simple_regret_approx_14[slice15],\n",
        "       simple_regret_approx_15[slice15],\n",
        "       simple_regret_approx_16[slice15],\n",
        "       simple_regret_approx_17[slice15],\n",
        "       simple_regret_approx_18[slice15],\n",
        "       simple_regret_approx_19[slice15],\n",
        "       simple_regret_approx_20[slice15]]\n",
        "\n",
        "exact15 = [simple_regret_exact_1[slice15],\n",
        "       simple_regret_exact_2[slice15],\n",
        "       simple_regret_exact_3[slice15],\n",
        "       simple_regret_exact_4[slice15],\n",
        "       simple_regret_exact_5[slice15],\n",
        "       simple_regret_exact_6[slice15],\n",
        "       simple_regret_exact_7[slice15],\n",
        "       simple_regret_exact_8[slice15],\n",
        "       simple_regret_exact_9[slice15],\n",
        "       simple_regret_exact_10[slice15],\n",
        "       simple_regret_exact_11[slice15],\n",
        "       simple_regret_exact_12[slice15],\n",
        "       simple_regret_exact_13[slice15],\n",
        "       simple_regret_exact_14[slice15],\n",
        "       simple_regret_exact_15[slice15],\n",
        "       simple_regret_exact_16[slice15],\n",
        "       simple_regret_exact_17[slice15],\n",
        "       simple_regret_exact_18[slice15],\n",
        "       simple_regret_exact_19[slice15],\n",
        "       simple_regret_exact_20[slice15]]\n",
        "\n",
        "approx15_results = pd.DataFrame(approx15).sort_values(by=[0], ascending=False)\n",
        "exact15_results = pd.DataFrame(exact15).sort_values(by=[0], ascending=False)\n",
        "\n",
        "### Best simple regret minimization IQR - approx:\n",
        "lower_approx15 = np.asarray(approx15_results[4:5][0])[0]\n",
        "median_approx15 = np.asarray(approx15_results[9:10][0])[0]\n",
        "upper_approx15 = np.asarray(approx15_results[14:15][0])[0]\n",
        "\n",
        "lower_exact15 = np.asarray(exact15_results[4:5][0])[0]\n",
        "median_exact15 = np.asarray(exact15_results[9:10][0])[0]\n",
        "upper_exact15 = np.asarray(exact15_results[14:15][0])[0]"
      ],
      "execution_count": 89,
      "outputs": []
    },
    {
      "cell_type": "code",
      "metadata": {
        "id": "OiDV2XD6cYAt"
      },
      "source": [
        "# Iteration25 :\n",
        "\n",
        "slice25 = 24\n",
        "\n",
        "approx25 = [simple_regret_approx_1[slice25],\n",
        "       simple_regret_approx_2[slice25],\n",
        "       simple_regret_approx_3[slice25],\n",
        "       simple_regret_approx_4[slice25],\n",
        "       simple_regret_approx_5[slice25],\n",
        "       simple_regret_approx_6[slice25],\n",
        "       simple_regret_approx_7[slice25],\n",
        "       simple_regret_approx_8[slice25],\n",
        "       simple_regret_approx_9[slice25],\n",
        "       simple_regret_approx_10[slice25],\n",
        "       simple_regret_approx_11[slice25],\n",
        "       simple_regret_approx_12[slice25],\n",
        "       simple_regret_approx_13[slice25],\n",
        "       simple_regret_approx_14[slice25],\n",
        "       simple_regret_approx_15[slice25],\n",
        "       simple_regret_approx_16[slice25],\n",
        "       simple_regret_approx_17[slice25],\n",
        "       simple_regret_approx_18[slice25],\n",
        "       simple_regret_approx_19[slice25],\n",
        "       simple_regret_approx_20[slice25]]\n",
        "\n",
        "exact25 = [simple_regret_exact_1[slice25],\n",
        "       simple_regret_exact_2[slice25],\n",
        "       simple_regret_exact_3[slice25],\n",
        "       simple_regret_exact_4[slice25],\n",
        "       simple_regret_exact_5[slice25],\n",
        "       simple_regret_exact_6[slice25],\n",
        "       simple_regret_exact_7[slice25],\n",
        "       simple_regret_exact_8[slice25],\n",
        "       simple_regret_exact_9[slice25],\n",
        "       simple_regret_exact_10[slice25],\n",
        "       simple_regret_exact_11[slice25],\n",
        "       simple_regret_exact_12[slice25],\n",
        "       simple_regret_exact_13[slice25],\n",
        "       simple_regret_exact_14[slice25],\n",
        "       simple_regret_exact_15[slice25],\n",
        "       simple_regret_exact_16[slice25],\n",
        "       simple_regret_exact_17[slice25],\n",
        "       simple_regret_exact_18[slice25],\n",
        "       simple_regret_exact_19[slice25],\n",
        "       simple_regret_exact_20[slice25]]\n",
        "\n",
        "approx25_results = pd.DataFrame(approx25).sort_values(by=[0], ascending=False)\n",
        "exact25_results = pd.DataFrame(exact25).sort_values(by=[0], ascending=False)\n",
        "\n",
        "### Best simple regret minimization IQR - approx:\n",
        "lower_approx25 = np.asarray(approx25_results[4:5][0])[0]\n",
        "median_approx25 = np.asarray(approx25_results[9:10][0])[0]\n",
        "upper_approx25 = np.asarray(approx25_results[14:15][0])[0]\n",
        "\n",
        "lower_exact25 = np.asarray(exact25_results[4:5][0])[0]\n",
        "median_exact25 = np.asarray(exact25_results[9:10][0])[0]\n",
        "upper_exact25 = np.asarray(exact25_results[14:15][0])[0]"
      ],
      "execution_count": 90,
      "outputs": []
    },
    {
      "cell_type": "code",
      "metadata": {
        "id": "tcoCxQrvJhBi"
      },
      "source": [
        "# Iteration6 :\n",
        "\n",
        "slice6 = 5\n",
        "\n",
        "approx6 = [simple_regret_approx_1[slice6],\n",
        "       simple_regret_approx_2[slice6],\n",
        "       simple_regret_approx_3[slice6],\n",
        "       simple_regret_approx_4[slice6],\n",
        "       simple_regret_approx_5[slice6],\n",
        "       simple_regret_approx_6[slice6],\n",
        "       simple_regret_approx_7[slice6],\n",
        "       simple_regret_approx_8[slice6],\n",
        "       simple_regret_approx_9[slice6],\n",
        "       simple_regret_approx_10[slice6],\n",
        "       simple_regret_approx_11[slice6],\n",
        "       simple_regret_approx_12[slice6],\n",
        "       simple_regret_approx_13[slice6],\n",
        "       simple_regret_approx_14[slice6],\n",
        "       simple_regret_approx_15[slice6],\n",
        "       simple_regret_approx_16[slice6],\n",
        "       simple_regret_approx_17[slice6],\n",
        "       simple_regret_approx_18[slice6],\n",
        "       simple_regret_approx_19[slice6],\n",
        "       simple_regret_approx_20[slice6]]\n",
        "\n",
        "exact6 = [simple_regret_exact_1[slice6],\n",
        "       simple_regret_exact_2[slice6],\n",
        "       simple_regret_exact_3[slice6],\n",
        "       simple_regret_exact_4[slice6],\n",
        "       simple_regret_exact_5[slice6],\n",
        "       simple_regret_exact_6[slice6],\n",
        "       simple_regret_exact_7[slice6],\n",
        "       simple_regret_exact_8[slice6],\n",
        "       simple_regret_exact_9[slice6],\n",
        "       simple_regret_exact_10[slice6],\n",
        "       simple_regret_exact_11[slice6],\n",
        "       simple_regret_exact_12[slice6],\n",
        "       simple_regret_exact_13[slice6],\n",
        "       simple_regret_exact_14[slice6],\n",
        "       simple_regret_exact_15[slice6],\n",
        "       simple_regret_exact_16[slice6],\n",
        "       simple_regret_exact_17[slice6],\n",
        "       simple_regret_exact_18[slice6],\n",
        "       simple_regret_exact_19[slice6],\n",
        "       simple_regret_exact_20[slice6]]\n",
        "\n",
        "approx6_results = pd.DataFrame(approx6).sort_values(by=[0], ascending=False)\n",
        "exact6_results = pd.DataFrame(exact6).sort_values(by=[0], ascending=False)\n",
        "\n",
        "### Best simple regret minimization IQR - approx:\n",
        "lower_approx6 = np.asarray(approx6_results[4:5][0])[0]\n",
        "median_approx6 = np.asarray(approx6_results[9:10][0])[0]\n",
        "upper_approx6 = np.asarray(approx6_results[14:15][0])[0]\n",
        "\n",
        "lower_exact6 = np.asarray(exact6_results[4:5][0])[0]\n",
        "median_exact6 = np.asarray(exact6_results[9:10][0])[0]\n",
        "upper_exact6 = np.asarray(exact6_results[14:15][0])[0]"
      ],
      "execution_count": 91,
      "outputs": []
    },
    {
      "cell_type": "code",
      "metadata": {
        "id": "bM_uWU2HJhBi"
      },
      "source": [
        "# Iteration16 :\n",
        "\n",
        "slice16 = 15\n",
        "\n",
        "approx16 = [simple_regret_approx_1[slice16],\n",
        "       simple_regret_approx_2[slice16],\n",
        "       simple_regret_approx_3[slice16],\n",
        "       simple_regret_approx_4[slice16],\n",
        "       simple_regret_approx_5[slice16],\n",
        "       simple_regret_approx_6[slice16],\n",
        "       simple_regret_approx_7[slice16],\n",
        "       simple_regret_approx_8[slice16],\n",
        "       simple_regret_approx_9[slice16],\n",
        "       simple_regret_approx_10[slice16],\n",
        "       simple_regret_approx_11[slice16],\n",
        "       simple_regret_approx_12[slice16],\n",
        "       simple_regret_approx_13[slice16],\n",
        "       simple_regret_approx_14[slice16],\n",
        "       simple_regret_approx_15[slice16],\n",
        "       simple_regret_approx_16[slice16],\n",
        "       simple_regret_approx_17[slice16],\n",
        "       simple_regret_approx_18[slice16],\n",
        "       simple_regret_approx_19[slice16],\n",
        "       simple_regret_approx_20[slice16]]\n",
        "\n",
        "exact16 = [simple_regret_exact_1[slice16],\n",
        "       simple_regret_exact_2[slice16],\n",
        "       simple_regret_exact_3[slice16],\n",
        "       simple_regret_exact_4[slice16],\n",
        "       simple_regret_exact_5[slice16],\n",
        "       simple_regret_exact_6[slice16],\n",
        "       simple_regret_exact_7[slice16],\n",
        "       simple_regret_exact_8[slice16],\n",
        "       simple_regret_exact_9[slice16],\n",
        "       simple_regret_exact_10[slice16],\n",
        "       simple_regret_exact_11[slice16],\n",
        "       simple_regret_exact_12[slice16],\n",
        "       simple_regret_exact_13[slice16],\n",
        "       simple_regret_exact_14[slice16],\n",
        "       simple_regret_exact_15[slice16],\n",
        "       simple_regret_exact_16[slice16],\n",
        "       simple_regret_exact_17[slice16],\n",
        "       simple_regret_exact_18[slice16],\n",
        "       simple_regret_exact_19[slice16],\n",
        "       simple_regret_exact_20[slice16]]\n",
        "\n",
        "approx16_results = pd.DataFrame(approx16).sort_values(by=[0], ascending=False)\n",
        "exact16_results = pd.DataFrame(exact16).sort_values(by=[0], ascending=False)\n",
        "\n",
        "### Best simple regret minimization IQR - approx:\n",
        "lower_approx16 = np.asarray(approx16_results[4:5][0])[0]\n",
        "median_approx16 = np.asarray(approx16_results[9:10][0])[0]\n",
        "upper_approx16 = np.asarray(approx16_results[14:15][0])[0]\n",
        "\n",
        "lower_exact16 = np.asarray(exact16_results[4:5][0])[0]\n",
        "median_exact16 = np.asarray(exact16_results[9:10][0])[0]\n",
        "upper_exact16 = np.asarray(exact16_results[14:15][0])[0]"
      ],
      "execution_count": 92,
      "outputs": []
    },
    {
      "cell_type": "code",
      "metadata": {
        "id": "LJTTDX12cs-4"
      },
      "source": [
        "# Iteration26 :\n",
        "\n",
        "slice26 = 25\n",
        "\n",
        "approx26 = [simple_regret_approx_1[slice26],\n",
        "       simple_regret_approx_2[slice26],\n",
        "       simple_regret_approx_3[slice26],\n",
        "       simple_regret_approx_4[slice26],\n",
        "       simple_regret_approx_5[slice26],\n",
        "       simple_regret_approx_6[slice26],\n",
        "       simple_regret_approx_7[slice26],\n",
        "       simple_regret_approx_8[slice26],\n",
        "       simple_regret_approx_9[slice26],\n",
        "       simple_regret_approx_10[slice26],\n",
        "       simple_regret_approx_11[slice26],\n",
        "       simple_regret_approx_12[slice26],\n",
        "       simple_regret_approx_13[slice26],\n",
        "       simple_regret_approx_14[slice26],\n",
        "       simple_regret_approx_15[slice26],\n",
        "       simple_regret_approx_16[slice26],\n",
        "       simple_regret_approx_17[slice26],\n",
        "       simple_regret_approx_18[slice26],\n",
        "       simple_regret_approx_19[slice26],\n",
        "       simple_regret_approx_20[slice26]]\n",
        "\n",
        "exact26 = [simple_regret_exact_1[slice26],\n",
        "       simple_regret_exact_2[slice26],\n",
        "       simple_regret_exact_3[slice26],\n",
        "       simple_regret_exact_4[slice26],\n",
        "       simple_regret_exact_5[slice26],\n",
        "       simple_regret_exact_6[slice26],\n",
        "       simple_regret_exact_7[slice26],\n",
        "       simple_regret_exact_8[slice26],\n",
        "       simple_regret_exact_9[slice26],\n",
        "       simple_regret_exact_10[slice26],\n",
        "       simple_regret_exact_11[slice26],\n",
        "       simple_regret_exact_12[slice26],\n",
        "       simple_regret_exact_13[slice26],\n",
        "       simple_regret_exact_14[slice26],\n",
        "       simple_regret_exact_15[slice26],\n",
        "       simple_regret_exact_16[slice26],\n",
        "       simple_regret_exact_17[slice26],\n",
        "       simple_regret_exact_18[slice26],\n",
        "       simple_regret_exact_19[slice26],\n",
        "       simple_regret_exact_20[slice26]]\n",
        "\n",
        "approx26_results = pd.DataFrame(approx26).sort_values(by=[0], ascending=False)\n",
        "exact26_results = pd.DataFrame(exact26).sort_values(by=[0], ascending=False)\n",
        "\n",
        "### Best simple regret minimization IQR - approx:\n",
        "lower_approx26 = np.asarray(approx26_results[4:5][0])[0]\n",
        "median_approx26 = np.asarray(approx26_results[9:10][0])[0]\n",
        "upper_approx26 = np.asarray(approx26_results[14:15][0])[0]\n",
        "\n",
        "lower_exact26 = np.asarray(exact26_results[4:5][0])[0]\n",
        "median_exact26 = np.asarray(exact26_results[9:10][0])[0]\n",
        "upper_exact26 = np.asarray(exact26_results[14:15][0])[0]"
      ],
      "execution_count": 93,
      "outputs": []
    },
    {
      "cell_type": "code",
      "metadata": {
        "id": "e7_CnIe5JhBj"
      },
      "source": [
        "# Iteration7 :\n",
        "\n",
        "slice7 = 6\n",
        "\n",
        "approx7 = [simple_regret_approx_1[slice7],\n",
        "       simple_regret_approx_2[slice7],\n",
        "       simple_regret_approx_3[slice7],\n",
        "       simple_regret_approx_4[slice7],\n",
        "       simple_regret_approx_5[slice7],\n",
        "       simple_regret_approx_6[slice7],\n",
        "       simple_regret_approx_7[slice7],\n",
        "       simple_regret_approx_8[slice7],\n",
        "       simple_regret_approx_9[slice7],\n",
        "       simple_regret_approx_10[slice7],\n",
        "       simple_regret_approx_11[slice7],\n",
        "       simple_regret_approx_12[slice7],\n",
        "       simple_regret_approx_13[slice7],\n",
        "       simple_regret_approx_14[slice7],\n",
        "       simple_regret_approx_15[slice7],\n",
        "       simple_regret_approx_16[slice7],\n",
        "       simple_regret_approx_17[slice7],\n",
        "       simple_regret_approx_18[slice7],\n",
        "       simple_regret_approx_19[slice7],\n",
        "       simple_regret_approx_20[slice7]]\n",
        "\n",
        "exact7 = [simple_regret_exact_1[slice7],\n",
        "       simple_regret_exact_2[slice7],\n",
        "       simple_regret_exact_3[slice7],\n",
        "       simple_regret_exact_4[slice7],\n",
        "       simple_regret_exact_5[slice7],\n",
        "       simple_regret_exact_6[slice7],\n",
        "       simple_regret_exact_7[slice7],\n",
        "       simple_regret_exact_8[slice7],\n",
        "       simple_regret_exact_9[slice7],\n",
        "       simple_regret_exact_10[slice7],\n",
        "       simple_regret_exact_11[slice7],\n",
        "       simple_regret_exact_12[slice7],\n",
        "       simple_regret_exact_13[slice7],\n",
        "       simple_regret_exact_14[slice7],\n",
        "       simple_regret_exact_15[slice7],\n",
        "       simple_regret_exact_16[slice7],\n",
        "       simple_regret_exact_17[slice7],\n",
        "       simple_regret_exact_18[slice7],\n",
        "       simple_regret_exact_19[slice7],\n",
        "       simple_regret_exact_20[slice7]]\n",
        "\n",
        "approx7_results = pd.DataFrame(approx7).sort_values(by=[0], ascending=False)\n",
        "exact7_results = pd.DataFrame(exact7).sort_values(by=[0], ascending=False)\n",
        "\n",
        "### Best simple regret minimization IQR - approx:\n",
        "lower_approx7 = np.asarray(approx7_results[4:5][0])[0]\n",
        "median_approx7 = np.asarray(approx7_results[9:10][0])[0]\n",
        "upper_approx7 = np.asarray(approx7_results[14:15][0])[0]\n",
        "\n",
        "lower_exact7 = np.asarray(exact7_results[4:5][0])[0]\n",
        "median_exact7 = np.asarray(exact7_results[9:10][0])[0]\n",
        "upper_exact7 = np.asarray(exact7_results[14:15][0])[0]"
      ],
      "execution_count": 94,
      "outputs": []
    },
    {
      "cell_type": "code",
      "metadata": {
        "id": "GfheCfteJhBk"
      },
      "source": [
        "# Iteration17 :\n",
        "\n",
        "slice17 = 16\n",
        "\n",
        "approx17 = [simple_regret_approx_1[slice17],\n",
        "       simple_regret_approx_2[slice17],\n",
        "       simple_regret_approx_3[slice17],\n",
        "       simple_regret_approx_4[slice17],\n",
        "       simple_regret_approx_5[slice17],\n",
        "       simple_regret_approx_6[slice17],\n",
        "       simple_regret_approx_7[slice17],\n",
        "       simple_regret_approx_8[slice17],\n",
        "       simple_regret_approx_9[slice17],\n",
        "       simple_regret_approx_10[slice17],\n",
        "       simple_regret_approx_11[slice17],\n",
        "       simple_regret_approx_12[slice17],\n",
        "       simple_regret_approx_13[slice17],\n",
        "       simple_regret_approx_14[slice17],\n",
        "       simple_regret_approx_15[slice17],\n",
        "       simple_regret_approx_16[slice17],\n",
        "       simple_regret_approx_17[slice17],\n",
        "       simple_regret_approx_18[slice17],\n",
        "       simple_regret_approx_19[slice17],\n",
        "       simple_regret_approx_20[slice17]]\n",
        "\n",
        "exact17 = [simple_regret_exact_1[slice17],\n",
        "       simple_regret_exact_2[slice17],\n",
        "       simple_regret_exact_3[slice17],\n",
        "       simple_regret_exact_4[slice17],\n",
        "       simple_regret_exact_5[slice17],\n",
        "       simple_regret_exact_6[slice17],\n",
        "       simple_regret_exact_7[slice17],\n",
        "       simple_regret_exact_8[slice17],\n",
        "       simple_regret_exact_9[slice17],\n",
        "       simple_regret_exact_10[slice17],\n",
        "       simple_regret_exact_11[slice17],\n",
        "       simple_regret_exact_12[slice17],\n",
        "       simple_regret_exact_13[slice17],\n",
        "       simple_regret_exact_14[slice17],\n",
        "       simple_regret_exact_15[slice17],\n",
        "       simple_regret_exact_16[slice17],\n",
        "       simple_regret_exact_17[slice17],\n",
        "       simple_regret_exact_18[slice17],\n",
        "       simple_regret_exact_19[slice17],\n",
        "       simple_regret_exact_20[slice17]]\n",
        "\n",
        "approx17_results = pd.DataFrame(approx17).sort_values(by=[0], ascending=False)\n",
        "exact17_results = pd.DataFrame(exact17).sort_values(by=[0], ascending=False)\n",
        "\n",
        "### Best simple regret minimization IQR - approx:\n",
        "lower_approx17 = np.asarray(approx17_results[4:5][0])[0]\n",
        "median_approx17 = np.asarray(approx17_results[9:10][0])[0]\n",
        "upper_approx17 = np.asarray(approx17_results[14:15][0])[0]\n",
        "\n",
        "lower_exact17 = np.asarray(exact17_results[4:5][0])[0]\n",
        "median_exact17 = np.asarray(exact17_results[9:10][0])[0]\n",
        "upper_exact17 = np.asarray(exact17_results[14:15][0])[0]"
      ],
      "execution_count": 95,
      "outputs": []
    },
    {
      "cell_type": "code",
      "metadata": {
        "id": "qLNJO_U1dE_Q"
      },
      "source": [
        "# Iteration27 :\n",
        "\n",
        "slice27 = 26\n",
        "\n",
        "approx27 = [simple_regret_approx_1[slice27],\n",
        "       simple_regret_approx_2[slice27],\n",
        "       simple_regret_approx_3[slice27],\n",
        "       simple_regret_approx_4[slice27],\n",
        "       simple_regret_approx_5[slice27],\n",
        "       simple_regret_approx_6[slice27],\n",
        "       simple_regret_approx_7[slice27],\n",
        "       simple_regret_approx_8[slice27],\n",
        "       simple_regret_approx_9[slice27],\n",
        "       simple_regret_approx_10[slice27],\n",
        "       simple_regret_approx_11[slice27],\n",
        "       simple_regret_approx_12[slice27],\n",
        "       simple_regret_approx_13[slice27],\n",
        "       simple_regret_approx_14[slice27],\n",
        "       simple_regret_approx_15[slice27],\n",
        "       simple_regret_approx_16[slice27],\n",
        "       simple_regret_approx_17[slice27],\n",
        "       simple_regret_approx_18[slice27],\n",
        "       simple_regret_approx_19[slice27],\n",
        "       simple_regret_approx_20[slice27]]\n",
        "\n",
        "exact27 = [simple_regret_exact_1[slice27],\n",
        "       simple_regret_exact_2[slice27],\n",
        "       simple_regret_exact_3[slice27],\n",
        "       simple_regret_exact_4[slice27],\n",
        "       simple_regret_exact_5[slice27],\n",
        "       simple_regret_exact_6[slice27],\n",
        "       simple_regret_exact_7[slice27],\n",
        "       simple_regret_exact_8[slice27],\n",
        "       simple_regret_exact_9[slice27],\n",
        "       simple_regret_exact_10[slice27],\n",
        "       simple_regret_exact_11[slice27],\n",
        "       simple_regret_exact_12[slice27],\n",
        "       simple_regret_exact_13[slice27],\n",
        "       simple_regret_exact_14[slice27],\n",
        "       simple_regret_exact_15[slice27],\n",
        "       simple_regret_exact_16[slice27],\n",
        "       simple_regret_exact_17[slice27],\n",
        "       simple_regret_exact_18[slice27],\n",
        "       simple_regret_exact_19[slice27],\n",
        "       simple_regret_exact_20[slice27]]\n",
        "\n",
        "approx27_results = pd.DataFrame(approx27).sort_values(by=[0], ascending=False)\n",
        "exact27_results = pd.DataFrame(exact27).sort_values(by=[0], ascending=False)\n",
        "\n",
        "### Best simple regret minimization IQR - approx:\n",
        "lower_approx27 = np.asarray(approx27_results[4:5][0])[0]\n",
        "median_approx27 = np.asarray(approx27_results[9:10][0])[0]\n",
        "upper_approx27 = np.asarray(approx27_results[14:15][0])[0]\n",
        "\n",
        "lower_exact27 = np.asarray(exact27_results[4:5][0])[0]\n",
        "median_exact27 = np.asarray(exact27_results[9:10][0])[0]\n",
        "upper_exact27 = np.asarray(exact27_results[14:15][0])[0]"
      ],
      "execution_count": 96,
      "outputs": []
    },
    {
      "cell_type": "code",
      "metadata": {
        "id": "zOm21ADKJhBl"
      },
      "source": [
        "# Iteration8 :\n",
        "\n",
        "slice8 = 7\n",
        "\n",
        "approx8 = [simple_regret_approx_1[slice8],\n",
        "       simple_regret_approx_2[slice8],\n",
        "       simple_regret_approx_3[slice8],\n",
        "       simple_regret_approx_4[slice8],\n",
        "       simple_regret_approx_5[slice8],\n",
        "       simple_regret_approx_6[slice8],\n",
        "       simple_regret_approx_7[slice8],\n",
        "       simple_regret_approx_8[slice8],\n",
        "       simple_regret_approx_9[slice8],\n",
        "       simple_regret_approx_10[slice8],\n",
        "       simple_regret_approx_11[slice8],\n",
        "       simple_regret_approx_12[slice8],\n",
        "       simple_regret_approx_13[slice8],\n",
        "       simple_regret_approx_14[slice8],\n",
        "       simple_regret_approx_15[slice8],\n",
        "       simple_regret_approx_16[slice8],\n",
        "       simple_regret_approx_17[slice8],\n",
        "       simple_regret_approx_18[slice8],\n",
        "       simple_regret_approx_19[slice8],\n",
        "       simple_regret_approx_20[slice8]]\n",
        "\n",
        "exact8 = [simple_regret_exact_1[slice8],\n",
        "       simple_regret_exact_2[slice8],\n",
        "       simple_regret_exact_3[slice8],\n",
        "       simple_regret_exact_4[slice8],\n",
        "       simple_regret_exact_5[slice8],\n",
        "       simple_regret_exact_6[slice8],\n",
        "       simple_regret_exact_7[slice8],\n",
        "       simple_regret_exact_8[slice8],\n",
        "       simple_regret_exact_9[slice8],\n",
        "       simple_regret_exact_10[slice8],\n",
        "       simple_regret_exact_11[slice8],\n",
        "       simple_regret_exact_12[slice8],\n",
        "       simple_regret_exact_13[slice8],\n",
        "       simple_regret_exact_14[slice8],\n",
        "       simple_regret_exact_15[slice8],\n",
        "       simple_regret_exact_16[slice8],\n",
        "       simple_regret_exact_17[slice8],\n",
        "       simple_regret_exact_18[slice8],\n",
        "       simple_regret_exact_19[slice8],\n",
        "       simple_regret_exact_20[slice8]]\n",
        "\n",
        "approx8_results = pd.DataFrame(approx8).sort_values(by=[0], ascending=False)\n",
        "exact8_results = pd.DataFrame(exact8).sort_values(by=[0], ascending=False)\n",
        "\n",
        "### Best simple regret minimization IQR - approx:\n",
        "lower_approx8 = np.asarray(approx8_results[4:5][0])[0]\n",
        "median_approx8 = np.asarray(approx8_results[9:10][0])[0]\n",
        "upper_approx8 = np.asarray(approx8_results[14:15][0])[0]\n",
        "\n",
        "lower_exact8 = np.asarray(exact8_results[4:5][0])[0]\n",
        "median_exact8 = np.asarray(exact8_results[9:10][0])[0]\n",
        "upper_exact8 = np.asarray(exact8_results[14:15][0])[0]"
      ],
      "execution_count": 97,
      "outputs": []
    },
    {
      "cell_type": "code",
      "metadata": {
        "id": "230iMI5jJhBl"
      },
      "source": [
        "# Iteration18 :\n",
        "\n",
        "slice18 = 17\n",
        "\n",
        "approx18 = [simple_regret_approx_1[slice18],\n",
        "       simple_regret_approx_2[slice18],\n",
        "       simple_regret_approx_3[slice18],\n",
        "       simple_regret_approx_4[slice18],\n",
        "       simple_regret_approx_5[slice18],\n",
        "       simple_regret_approx_6[slice18],\n",
        "       simple_regret_approx_7[slice18],\n",
        "       simple_regret_approx_8[slice18],\n",
        "       simple_regret_approx_9[slice18],\n",
        "       simple_regret_approx_10[slice18],\n",
        "       simple_regret_approx_11[slice18],\n",
        "       simple_regret_approx_12[slice18],\n",
        "       simple_regret_approx_13[slice18],\n",
        "       simple_regret_approx_14[slice18],\n",
        "       simple_regret_approx_15[slice18],\n",
        "       simple_regret_approx_16[slice18],\n",
        "       simple_regret_approx_17[slice18],\n",
        "       simple_regret_approx_18[slice18],\n",
        "       simple_regret_approx_19[slice18],\n",
        "       simple_regret_approx_20[slice18]]\n",
        "\n",
        "exact18 = [simple_regret_exact_1[slice18],\n",
        "       simple_regret_exact_2[slice18],\n",
        "       simple_regret_exact_3[slice18],\n",
        "       simple_regret_exact_4[slice18],\n",
        "       simple_regret_exact_5[slice18],\n",
        "       simple_regret_exact_6[slice18],\n",
        "       simple_regret_exact_7[slice18],\n",
        "       simple_regret_exact_8[slice18],\n",
        "       simple_regret_exact_9[slice18],\n",
        "       simple_regret_exact_10[slice18],\n",
        "       simple_regret_exact_11[slice18],\n",
        "       simple_regret_exact_12[slice18],\n",
        "       simple_regret_exact_13[slice18],\n",
        "       simple_regret_exact_14[slice18],\n",
        "       simple_regret_exact_15[slice18],\n",
        "       simple_regret_exact_16[slice18],\n",
        "       simple_regret_exact_17[slice18],\n",
        "       simple_regret_exact_18[slice18],\n",
        "       simple_regret_exact_19[slice18],\n",
        "       simple_regret_exact_20[slice18]]\n",
        "\n",
        "approx18_results = pd.DataFrame(approx18).sort_values(by=[0], ascending=False)\n",
        "exact18_results = pd.DataFrame(exact18).sort_values(by=[0], ascending=False)\n",
        "\n",
        "### Best simple regret minimization IQR - approx:\n",
        "lower_approx18 = np.asarray(approx18_results[4:5][0])[0]\n",
        "median_approx18 = np.asarray(approx18_results[9:10][0])[0]\n",
        "upper_approx18 = np.asarray(approx18_results[14:15][0])[0]\n",
        "\n",
        "lower_exact18 = np.asarray(exact18_results[4:5][0])[0]\n",
        "median_exact18 = np.asarray(exact18_results[9:10][0])[0]\n",
        "upper_exact18 = np.asarray(exact18_results[14:15][0])[0]"
      ],
      "execution_count": 98,
      "outputs": []
    },
    {
      "cell_type": "code",
      "metadata": {
        "id": "5KUd4afKdgT6"
      },
      "source": [
        "# Iteration28 :\n",
        "\n",
        "slice28 = 27\n",
        "\n",
        "approx28 = [simple_regret_approx_1[slice28],\n",
        "       simple_regret_approx_2[slice28],\n",
        "       simple_regret_approx_3[slice28],\n",
        "       simple_regret_approx_4[slice28],\n",
        "       simple_regret_approx_5[slice28],\n",
        "       simple_regret_approx_6[slice28],\n",
        "       simple_regret_approx_7[slice28],\n",
        "       simple_regret_approx_8[slice28],\n",
        "       simple_regret_approx_9[slice28],\n",
        "       simple_regret_approx_10[slice28],\n",
        "       simple_regret_approx_11[slice28],\n",
        "       simple_regret_approx_12[slice28],\n",
        "       simple_regret_approx_13[slice28],\n",
        "       simple_regret_approx_14[slice28],\n",
        "       simple_regret_approx_15[slice28],\n",
        "       simple_regret_approx_16[slice28],\n",
        "       simple_regret_approx_17[slice28],\n",
        "       simple_regret_approx_18[slice28],\n",
        "       simple_regret_approx_19[slice28],\n",
        "       simple_regret_approx_20[slice28]]\n",
        "\n",
        "exact28 = [simple_regret_exact_1[slice28],\n",
        "       simple_regret_exact_2[slice28],\n",
        "       simple_regret_exact_3[slice28],\n",
        "       simple_regret_exact_4[slice28],\n",
        "       simple_regret_exact_5[slice28],\n",
        "       simple_regret_exact_6[slice28],\n",
        "       simple_regret_exact_7[slice28],\n",
        "       simple_regret_exact_8[slice28],\n",
        "       simple_regret_exact_9[slice28],\n",
        "       simple_regret_exact_10[slice28],\n",
        "       simple_regret_exact_11[slice28],\n",
        "       simple_regret_exact_12[slice28],\n",
        "       simple_regret_exact_13[slice28],\n",
        "       simple_regret_exact_14[slice28],\n",
        "       simple_regret_exact_15[slice28],\n",
        "       simple_regret_exact_16[slice28],\n",
        "       simple_regret_exact_17[slice28],\n",
        "       simple_regret_exact_18[slice28],\n",
        "       simple_regret_exact_19[slice28],\n",
        "       simple_regret_exact_20[slice28]]\n",
        "\n",
        "approx28_results = pd.DataFrame(approx28).sort_values(by=[0], ascending=False)\n",
        "exact28_results = pd.DataFrame(exact28).sort_values(by=[0], ascending=False)\n",
        "\n",
        "### Best simple regret minimization IQR - approx:\n",
        "lower_approx28 = np.asarray(approx28_results[4:5][0])[0]\n",
        "median_approx28 = np.asarray(approx28_results[9:10][0])[0]\n",
        "upper_approx28 = np.asarray(approx28_results[14:15][0])[0]\n",
        "\n",
        "lower_exact28 = np.asarray(exact28_results[4:5][0])[0]\n",
        "median_exact28 = np.asarray(exact28_results[9:10][0])[0]\n",
        "upper_exact28 = np.asarray(exact28_results[14:15][0])[0]"
      ],
      "execution_count": 99,
      "outputs": []
    },
    {
      "cell_type": "code",
      "metadata": {
        "id": "AR2mg161JhBm"
      },
      "source": [
        "# Iteration9 :\n",
        "\n",
        "slice9 = 8\n",
        "\n",
        "approx9 = [simple_regret_approx_1[slice9],\n",
        "       simple_regret_approx_2[slice9],\n",
        "       simple_regret_approx_3[slice9],\n",
        "       simple_regret_approx_4[slice9],\n",
        "       simple_regret_approx_5[slice9],\n",
        "       simple_regret_approx_6[slice9],\n",
        "       simple_regret_approx_7[slice9],\n",
        "       simple_regret_approx_8[slice9],\n",
        "       simple_regret_approx_9[slice9],\n",
        "       simple_regret_approx_10[slice9],\n",
        "       simple_regret_approx_11[slice9],\n",
        "       simple_regret_approx_12[slice9],\n",
        "       simple_regret_approx_13[slice9],\n",
        "       simple_regret_approx_14[slice9],\n",
        "       simple_regret_approx_15[slice9],\n",
        "       simple_regret_approx_16[slice9],\n",
        "       simple_regret_approx_17[slice9],\n",
        "       simple_regret_approx_18[slice9],\n",
        "       simple_regret_approx_19[slice9],\n",
        "       simple_regret_approx_20[slice9]]\n",
        "\n",
        "exact9 = [simple_regret_exact_1[slice9],\n",
        "       simple_regret_exact_2[slice9],\n",
        "       simple_regret_exact_3[slice9],\n",
        "       simple_regret_exact_4[slice9],\n",
        "       simple_regret_exact_5[slice9],\n",
        "       simple_regret_exact_6[slice9],\n",
        "       simple_regret_exact_7[slice9],\n",
        "       simple_regret_exact_8[slice9],\n",
        "       simple_regret_exact_9[slice9],\n",
        "       simple_regret_exact_10[slice9],\n",
        "       simple_regret_exact_11[slice9],\n",
        "       simple_regret_exact_12[slice9],\n",
        "       simple_regret_exact_13[slice9],\n",
        "       simple_regret_exact_14[slice9],\n",
        "       simple_regret_exact_15[slice9],\n",
        "       simple_regret_exact_16[slice9],\n",
        "       simple_regret_exact_17[slice9],\n",
        "       simple_regret_exact_18[slice9],\n",
        "       simple_regret_exact_19[slice9],\n",
        "       simple_regret_exact_20[slice9]]\n",
        "\n",
        "approx9_results = pd.DataFrame(approx9).sort_values(by=[0], ascending=False)\n",
        "exact9_results = pd.DataFrame(exact9).sort_values(by=[0], ascending=False)\n",
        "\n",
        "### Best simple regret minimization IQR - approx:\n",
        "lower_approx9 = np.asarray(approx9_results[4:5][0])[0]\n",
        "median_approx9 = np.asarray(approx9_results[9:10][0])[0]\n",
        "upper_approx9 = np.asarray(approx9_results[14:15][0])[0]\n",
        "\n",
        "lower_exact9 = np.asarray(exact9_results[4:5][0])[0]\n",
        "median_exact9 = np.asarray(exact9_results[9:10][0])[0]\n",
        "upper_exact9 = np.asarray(exact9_results[14:15][0])[0]"
      ],
      "execution_count": 100,
      "outputs": []
    },
    {
      "cell_type": "code",
      "metadata": {
        "id": "sAYcBTpTJhBp"
      },
      "source": [
        "# Iteration19 :\n",
        "\n",
        "slice19 = 18\n",
        "\n",
        "approx19 = [simple_regret_approx_1[slice19],\n",
        "       simple_regret_approx_2[slice19],\n",
        "       simple_regret_approx_3[slice19],\n",
        "       simple_regret_approx_4[slice19],\n",
        "       simple_regret_approx_5[slice19],\n",
        "       simple_regret_approx_6[slice19],\n",
        "       simple_regret_approx_7[slice19],\n",
        "       simple_regret_approx_8[slice19],\n",
        "       simple_regret_approx_9[slice19],\n",
        "       simple_regret_approx_10[slice19],\n",
        "       simple_regret_approx_11[slice19],\n",
        "       simple_regret_approx_12[slice19],\n",
        "       simple_regret_approx_13[slice19],\n",
        "       simple_regret_approx_14[slice19],\n",
        "       simple_regret_approx_15[slice19],\n",
        "       simple_regret_approx_16[slice19],\n",
        "       simple_regret_approx_17[slice19],\n",
        "       simple_regret_approx_18[slice19],\n",
        "       simple_regret_approx_19[slice19],\n",
        "       simple_regret_approx_20[slice19]]\n",
        "\n",
        "exact19 = [simple_regret_exact_1[slice19],\n",
        "       simple_regret_exact_2[slice19],\n",
        "       simple_regret_exact_3[slice19],\n",
        "       simple_regret_exact_4[slice19],\n",
        "       simple_regret_exact_5[slice19],\n",
        "       simple_regret_exact_6[slice19],\n",
        "       simple_regret_exact_7[slice19],\n",
        "       simple_regret_exact_8[slice19],\n",
        "       simple_regret_exact_9[slice19],\n",
        "       simple_regret_exact_10[slice19],\n",
        "       simple_regret_exact_11[slice19],\n",
        "       simple_regret_exact_12[slice19],\n",
        "       simple_regret_exact_13[slice19],\n",
        "       simple_regret_exact_14[slice19],\n",
        "       simple_regret_exact_15[slice19],\n",
        "       simple_regret_exact_16[slice19],\n",
        "       simple_regret_exact_17[slice19],\n",
        "       simple_regret_exact_18[slice19],\n",
        "       simple_regret_exact_19[slice19],\n",
        "       simple_regret_exact_20[slice19]]\n",
        "\n",
        "approx19_results = pd.DataFrame(approx19).sort_values(by=[0], ascending=False)\n",
        "exact19_results = pd.DataFrame(exact19).sort_values(by=[0], ascending=False)\n",
        "\n",
        "### Best simple regret minimization IQR - approx:\n",
        "lower_approx19 = np.asarray(approx19_results[4:5][0])[0]\n",
        "median_approx19 = np.asarray(approx19_results[9:10][0])[0]\n",
        "upper_approx19 = np.asarray(approx19_results[14:15][0])[0]\n",
        "\n",
        "lower_exact19 = np.asarray(exact19_results[4:5][0])[0]\n",
        "median_exact19 = np.asarray(exact19_results[9:10][0])[0]\n",
        "upper_exact19 = np.asarray(exact19_results[14:15][0])[0]"
      ],
      "execution_count": 101,
      "outputs": []
    },
    {
      "cell_type": "code",
      "metadata": {
        "id": "yyESs9KHd1vl"
      },
      "source": [
        "# Iteration29 :\n",
        "\n",
        "slice29 = 28\n",
        "\n",
        "approx29 = [simple_regret_approx_1[slice29],\n",
        "       simple_regret_approx_2[slice29],\n",
        "       simple_regret_approx_3[slice29],\n",
        "       simple_regret_approx_4[slice29],\n",
        "       simple_regret_approx_5[slice29],\n",
        "       simple_regret_approx_6[slice29],\n",
        "       simple_regret_approx_7[slice29],\n",
        "       simple_regret_approx_8[slice29],\n",
        "       simple_regret_approx_9[slice29],\n",
        "       simple_regret_approx_10[slice29],\n",
        "       simple_regret_approx_11[slice29],\n",
        "       simple_regret_approx_12[slice29],\n",
        "       simple_regret_approx_13[slice29],\n",
        "       simple_regret_approx_14[slice29],\n",
        "       simple_regret_approx_15[slice29],\n",
        "       simple_regret_approx_16[slice29],\n",
        "       simple_regret_approx_17[slice29],\n",
        "       simple_regret_approx_18[slice29],\n",
        "       simple_regret_approx_19[slice29],\n",
        "       simple_regret_approx_20[slice29]]\n",
        "\n",
        "exact29 = [simple_regret_exact_1[slice29],\n",
        "       simple_regret_exact_2[slice29],\n",
        "       simple_regret_exact_3[slice29],\n",
        "       simple_regret_exact_4[slice29],\n",
        "       simple_regret_exact_5[slice29],\n",
        "       simple_regret_exact_6[slice29],\n",
        "       simple_regret_exact_7[slice29],\n",
        "       simple_regret_exact_8[slice29],\n",
        "       simple_regret_exact_9[slice29],\n",
        "       simple_regret_exact_10[slice29],\n",
        "       simple_regret_exact_11[slice29],\n",
        "       simple_regret_exact_12[slice29],\n",
        "       simple_regret_exact_13[slice29],\n",
        "       simple_regret_exact_14[slice29],\n",
        "       simple_regret_exact_15[slice29],\n",
        "       simple_regret_exact_16[slice29],\n",
        "       simple_regret_exact_17[slice29],\n",
        "       simple_regret_exact_18[slice29],\n",
        "       simple_regret_exact_19[slice29],\n",
        "       simple_regret_exact_20[slice29]]\n",
        "\n",
        "approx29_results = pd.DataFrame(approx29).sort_values(by=[0], ascending=False)\n",
        "exact29_results = pd.DataFrame(exact29).sort_values(by=[0], ascending=False)\n",
        "\n",
        "### Best simple regret minimization IQR - approx:\n",
        "lower_approx29 = np.asarray(approx29_results[4:5][0])[0]\n",
        "median_approx29 = np.asarray(approx29_results[9:10][0])[0]\n",
        "upper_approx29 = np.asarray(approx29_results[14:15][0])[0]\n",
        "\n",
        "lower_exact29 = np.asarray(exact29_results[4:5][0])[0]\n",
        "median_exact29 = np.asarray(exact29_results[9:10][0])[0]\n",
        "upper_exact29 = np.asarray(exact29_results[14:15][0])[0]"
      ],
      "execution_count": 102,
      "outputs": []
    },
    {
      "cell_type": "code",
      "metadata": {
        "id": "WWSn_TIsJhBq"
      },
      "source": [
        "# Iteration10 :\n",
        "\n",
        "slice10 = 9\n",
        "\n",
        "approx10 = [simple_regret_approx_1[slice10],\n",
        "       simple_regret_approx_2[slice10],\n",
        "       simple_regret_approx_3[slice10],\n",
        "       simple_regret_approx_4[slice10],\n",
        "       simple_regret_approx_5[slice10],\n",
        "       simple_regret_approx_6[slice10],\n",
        "       simple_regret_approx_7[slice10],\n",
        "       simple_regret_approx_8[slice10],\n",
        "       simple_regret_approx_9[slice10],\n",
        "       simple_regret_approx_10[slice10],\n",
        "       simple_regret_approx_11[slice10],\n",
        "       simple_regret_approx_12[slice10],\n",
        "       simple_regret_approx_13[slice10],\n",
        "       simple_regret_approx_14[slice10],\n",
        "       simple_regret_approx_15[slice10],\n",
        "       simple_regret_approx_16[slice10],\n",
        "       simple_regret_approx_17[slice10],\n",
        "       simple_regret_approx_18[slice10],\n",
        "       simple_regret_approx_19[slice10],\n",
        "       simple_regret_approx_20[slice10]]\n",
        "\n",
        "exact10 = [simple_regret_exact_1[slice10],\n",
        "       simple_regret_exact_2[slice10],\n",
        "       simple_regret_exact_3[slice10],\n",
        "       simple_regret_exact_4[slice10],\n",
        "       simple_regret_exact_5[slice10],\n",
        "       simple_regret_exact_6[slice10],\n",
        "       simple_regret_exact_7[slice10],\n",
        "       simple_regret_exact_8[slice10],\n",
        "       simple_regret_exact_9[slice10],\n",
        "       simple_regret_exact_10[slice10],\n",
        "       simple_regret_exact_11[slice10],\n",
        "       simple_regret_exact_12[slice10],\n",
        "       simple_regret_exact_13[slice10],\n",
        "       simple_regret_exact_14[slice10],\n",
        "       simple_regret_exact_15[slice10],\n",
        "       simple_regret_exact_16[slice10],\n",
        "       simple_regret_exact_17[slice10],\n",
        "       simple_regret_exact_18[slice10],\n",
        "       simple_regret_exact_19[slice10],\n",
        "       simple_regret_exact_20[slice10]]\n",
        "\n",
        "approx10_results = pd.DataFrame(approx10).sort_values(by=[0], ascending=False)\n",
        "exact10_results = pd.DataFrame(exact10).sort_values(by=[0], ascending=False)\n",
        "\n",
        "### Best simple regret minimization IQR - approx:\n",
        "lower_approx10 = np.asarray(approx10_results[4:5][0])[0]\n",
        "median_approx10 = np.asarray(approx10_results[9:10][0])[0]\n",
        "upper_approx10 = np.asarray(approx10_results[14:15][0])[0]\n",
        "\n",
        "lower_exact10 = np.asarray(exact10_results[4:5][0])[0]\n",
        "median_exact10 = np.asarray(exact10_results[9:10][0])[0]\n",
        "upper_exact10 = np.asarray(exact10_results[14:15][0])[0]"
      ],
      "execution_count": 103,
      "outputs": []
    },
    {
      "cell_type": "code",
      "metadata": {
        "id": "sMLjJRd5JhBq"
      },
      "source": [
        "# Iteration20 :\n",
        "\n",
        "slice20 = 19\n",
        "\n",
        "approx20 = [simple_regret_approx_1[slice20],\n",
        "       simple_regret_approx_2[slice20],\n",
        "       simple_regret_approx_3[slice20],\n",
        "       simple_regret_approx_4[slice20],\n",
        "       simple_regret_approx_5[slice20],\n",
        "       simple_regret_approx_6[slice20],\n",
        "       simple_regret_approx_7[slice20],\n",
        "       simple_regret_approx_8[slice20],\n",
        "       simple_regret_approx_9[slice20],\n",
        "       simple_regret_approx_10[slice20],\n",
        "       simple_regret_approx_11[slice20],\n",
        "       simple_regret_approx_12[slice20],\n",
        "       simple_regret_approx_13[slice20],\n",
        "       simple_regret_approx_14[slice20],\n",
        "       simple_regret_approx_15[slice20],\n",
        "       simple_regret_approx_16[slice20],\n",
        "       simple_regret_approx_17[slice20],\n",
        "       simple_regret_approx_18[slice20],\n",
        "       simple_regret_approx_19[slice20],\n",
        "       simple_regret_approx_20[slice20]]\n",
        "\n",
        "exact20 = [simple_regret_exact_1[slice20],\n",
        "       simple_regret_exact_2[slice20],\n",
        "       simple_regret_exact_3[slice20],\n",
        "       simple_regret_exact_4[slice20],\n",
        "       simple_regret_exact_5[slice20],\n",
        "       simple_regret_exact_6[slice20],\n",
        "       simple_regret_exact_7[slice20],\n",
        "       simple_regret_exact_8[slice20],\n",
        "       simple_regret_exact_9[slice20],\n",
        "       simple_regret_exact_10[slice20],\n",
        "       simple_regret_exact_11[slice20],\n",
        "       simple_regret_exact_12[slice20],\n",
        "       simple_regret_exact_13[slice20],\n",
        "       simple_regret_exact_14[slice20],\n",
        "       simple_regret_exact_15[slice20],\n",
        "       simple_regret_exact_16[slice20],\n",
        "       simple_regret_exact_17[slice20],\n",
        "       simple_regret_exact_18[slice20],\n",
        "       simple_regret_exact_19[slice20],\n",
        "       simple_regret_exact_20[slice20]]\n",
        "\n",
        "approx20_results = pd.DataFrame(approx20).sort_values(by=[0], ascending=False)\n",
        "exact20_results = pd.DataFrame(exact20).sort_values(by=[0], ascending=False)\n",
        "\n",
        "### Best simple regret minimization IQR - approx:\n",
        "lower_approx20 = np.asarray(approx20_results[4:5][0])[0]\n",
        "median_approx20 = np.asarray(approx20_results[9:10][0])[0]\n",
        "upper_approx20 = np.asarray(approx20_results[14:15][0])[0]\n",
        "\n",
        "lower_exact20 = np.asarray(exact20_results[4:5][0])[0]\n",
        "median_exact20 = np.asarray(exact20_results[9:10][0])[0]\n",
        "upper_exact20 = np.asarray(exact20_results[14:15][0])[0]"
      ],
      "execution_count": 104,
      "outputs": []
    },
    {
      "cell_type": "code",
      "metadata": {
        "id": "M0j8Qyp-eKu_"
      },
      "source": [
        "# Iteration30 :\n",
        "\n",
        "slice30 = 29\n",
        "\n",
        "approx30 = [simple_regret_approx_1[slice30],\n",
        "       simple_regret_approx_2[slice30],\n",
        "       simple_regret_approx_3[slice30],\n",
        "       simple_regret_approx_4[slice30],\n",
        "       simple_regret_approx_5[slice30],\n",
        "       simple_regret_approx_6[slice30],\n",
        "       simple_regret_approx_7[slice30],\n",
        "       simple_regret_approx_8[slice30],\n",
        "       simple_regret_approx_9[slice30],\n",
        "       simple_regret_approx_10[slice30],\n",
        "       simple_regret_approx_11[slice30],\n",
        "       simple_regret_approx_12[slice30],\n",
        "       simple_regret_approx_13[slice30],\n",
        "       simple_regret_approx_14[slice30],\n",
        "       simple_regret_approx_15[slice30],\n",
        "       simple_regret_approx_16[slice30],\n",
        "       simple_regret_approx_17[slice30],\n",
        "       simple_regret_approx_18[slice30],\n",
        "       simple_regret_approx_19[slice30],\n",
        "       simple_regret_approx_20[slice30]]\n",
        "\n",
        "exact30 = [simple_regret_exact_1[slice30],\n",
        "       simple_regret_exact_2[slice30],\n",
        "       simple_regret_exact_3[slice30],\n",
        "       simple_regret_exact_4[slice30],\n",
        "       simple_regret_exact_5[slice30],\n",
        "       simple_regret_exact_6[slice30],\n",
        "       simple_regret_exact_7[slice30],\n",
        "       simple_regret_exact_8[slice30],\n",
        "       simple_regret_exact_9[slice30],\n",
        "       simple_regret_exact_10[slice30],\n",
        "       simple_regret_exact_11[slice30],\n",
        "       simple_regret_exact_12[slice30],\n",
        "       simple_regret_exact_13[slice30],\n",
        "       simple_regret_exact_14[slice30],\n",
        "       simple_regret_exact_15[slice30],\n",
        "       simple_regret_exact_16[slice30],\n",
        "       simple_regret_exact_17[slice30],\n",
        "       simple_regret_exact_18[slice30],\n",
        "       simple_regret_exact_19[slice30],\n",
        "       simple_regret_exact_20[slice30]]\n",
        "\n",
        "approx30_results = pd.DataFrame(approx30).sort_values(by=[0], ascending=False)\n",
        "exact30_results = pd.DataFrame(exact30).sort_values(by=[0], ascending=False)\n",
        "\n",
        "### Best simple regret minimization IQR - approx:\n",
        "lower_approx30 = np.asarray(approx30_results[4:5][0])[0]\n",
        "median_approx30 = np.asarray(approx30_results[9:10][0])[0]\n",
        "upper_approx30 = np.asarray(approx30_results[14:15][0])[0]\n",
        "\n",
        "lower_exact30 = np.asarray(exact30_results[4:5][0])[0]\n",
        "median_exact30 = np.asarray(exact30_results[9:10][0])[0]\n",
        "upper_exact30 = np.asarray(exact30_results[14:15][0])[0]"
      ],
      "execution_count": 105,
      "outputs": []
    },
    {
      "cell_type": "code",
      "metadata": {
        "id": "N-MMOUFcJhBr"
      },
      "source": [
        "### Summarize arrays: 'Loser'\n",
        "\n",
        "lower_approx = [lower_approx1,\n",
        "            lower_approx2,\n",
        "            lower_approx3,\n",
        "            lower_approx4,\n",
        "            lower_approx5,\n",
        "            lower_approx6,\n",
        "            lower_approx7,\n",
        "            lower_approx8,\n",
        "            lower_approx9,\n",
        "            lower_approx10,\n",
        "            lower_approx11,\n",
        "            lower_approx12,\n",
        "            lower_approx13,\n",
        "            lower_approx14,\n",
        "            lower_approx15,\n",
        "            lower_approx16,\n",
        "            lower_approx17,\n",
        "            lower_approx18,\n",
        "            lower_approx19,\n",
        "            lower_approx20,\n",
        "            lower_approx21,\n",
        "            lower_approx22,\n",
        "            lower_approx23,\n",
        "            lower_approx24,\n",
        "            lower_approx25,\n",
        "            lower_approx26,\n",
        "            lower_approx27,\n",
        "            lower_approx28,\n",
        "            lower_approx29,\n",
        "            lower_approx30,\n",
        "            lower_approx31]\n",
        "\n",
        "median_approx = [median_approx1,\n",
        "            median_approx2,\n",
        "            median_approx3,\n",
        "            median_approx4,\n",
        "            median_approx5,\n",
        "            median_approx6,\n",
        "            median_approx7,\n",
        "            median_approx8,\n",
        "            median_approx9,\n",
        "            median_approx10,\n",
        "            median_approx11,\n",
        "            median_approx12,\n",
        "            median_approx13,\n",
        "            median_approx14,\n",
        "            median_approx15,\n",
        "            median_approx16,\n",
        "            median_approx17,\n",
        "            median_approx18,\n",
        "            median_approx19,\n",
        "            median_approx20,\n",
        "            median_approx21,\n",
        "            median_approx22,\n",
        "            median_approx23,\n",
        "            median_approx24,\n",
        "            median_approx25,\n",
        "            median_approx26,\n",
        "            median_approx27,\n",
        "            median_approx28,\n",
        "            median_approx29,\n",
        "            median_approx30,\n",
        "            median_approx31]\n",
        "\n",
        "upper_approx = [upper_approx1,\n",
        "            upper_approx2,\n",
        "            upper_approx3,\n",
        "            upper_approx4,\n",
        "            upper_approx5,\n",
        "            upper_approx6,\n",
        "            upper_approx7,\n",
        "            upper_approx8,\n",
        "            upper_approx9,\n",
        "            upper_approx10,\n",
        "            upper_approx11,\n",
        "            upper_approx12,\n",
        "            upper_approx13,\n",
        "            upper_approx14,\n",
        "            upper_approx15,\n",
        "            upper_approx16,\n",
        "            upper_approx17,\n",
        "            upper_approx18,\n",
        "            upper_approx19,\n",
        "            upper_approx20,\n",
        "            upper_approx21,\n",
        "            upper_approx22,\n",
        "            upper_approx23,\n",
        "            upper_approx24,\n",
        "            upper_approx25,\n",
        "            upper_approx26,\n",
        "            upper_approx27,\n",
        "            upper_approx28,\n",
        "            upper_approx29,\n",
        "            upper_approx30,\n",
        "            upper_approx31]"
      ],
      "execution_count": 106,
      "outputs": []
    },
    {
      "cell_type": "code",
      "metadata": {
        "id": "XdKURkqUJhBs"
      },
      "source": [
        "### Summarize arrays: 'exact'\n",
        "\n",
        "lower_exact = [lower_exact1,\n",
        "            lower_exact2,\n",
        "            lower_exact3,\n",
        "            lower_exact4,\n",
        "            lower_exact5,\n",
        "            lower_exact6,\n",
        "            lower_exact7,\n",
        "            lower_exact8,\n",
        "            lower_exact9,\n",
        "            lower_exact10,\n",
        "            lower_exact11,\n",
        "            lower_exact12,\n",
        "            lower_exact13,\n",
        "            lower_exact14,\n",
        "            lower_exact15,\n",
        "            lower_exact16,\n",
        "            lower_exact17,\n",
        "            lower_exact18,\n",
        "            lower_exact19,\n",
        "            lower_exact20,\n",
        "            lower_exact21,\n",
        "            lower_exact22,\n",
        "            lower_exact23,\n",
        "            lower_exact24,\n",
        "            lower_exact25,\n",
        "            lower_exact26,\n",
        "            lower_exact27,\n",
        "            lower_exact28,\n",
        "            lower_exact29,\n",
        "            lower_exact30,\n",
        "            lower_exact31]\n",
        "\n",
        "median_exact = [median_exact1,\n",
        "            median_exact2,\n",
        "            median_exact3,\n",
        "            median_exact4,\n",
        "            median_exact5,\n",
        "            median_exact6,\n",
        "            median_exact7,\n",
        "            median_exact8,\n",
        "            median_exact9,\n",
        "            median_exact10,\n",
        "            median_exact11,\n",
        "            median_exact12,\n",
        "            median_exact13,\n",
        "            median_exact14,\n",
        "            median_exact15,\n",
        "            median_exact16,\n",
        "            median_exact17,\n",
        "            median_exact18,\n",
        "            median_exact19,\n",
        "            median_exact20,\n",
        "            median_exact21,\n",
        "            median_exact22,\n",
        "            median_exact23,\n",
        "            median_exact24,\n",
        "            median_exact25,\n",
        "            median_exact26,\n",
        "            median_exact27,\n",
        "            median_exact28,\n",
        "            median_exact29,\n",
        "            median_exact30,\n",
        "            median_exact31]\n",
        "\n",
        "upper_exact = [upper_exact1,\n",
        "            upper_exact2,\n",
        "            upper_exact3,\n",
        "            upper_exact4,\n",
        "            upper_exact5,\n",
        "            upper_exact6,\n",
        "            upper_exact7,\n",
        "            upper_exact8,\n",
        "            upper_exact9,\n",
        "            upper_exact10,\n",
        "            upper_exact11,\n",
        "            upper_exact12,\n",
        "            upper_exact13,\n",
        "            upper_exact14,\n",
        "            upper_exact15,\n",
        "            upper_exact16,\n",
        "            upper_exact17,\n",
        "            upper_exact18,\n",
        "            upper_exact19,\n",
        "            upper_exact20,\n",
        "            upper_exact21,\n",
        "            upper_exact22,\n",
        "            upper_exact23,\n",
        "            upper_exact24,\n",
        "            upper_exact25,\n",
        "            upper_exact26,\n",
        "            upper_exact27,\n",
        "            upper_exact28,\n",
        "            upper_exact29,\n",
        "            upper_exact30,\n",
        "            upper_exact31]"
      ],
      "execution_count": 107,
      "outputs": []
    },
    {
      "cell_type": "code",
      "metadata": {
        "id": "2MONq-BXQxgA",
        "colab": {
          "base_uri": "https://localhost:8080/",
          "height": 299
        },
        "outputId": "40c7ecf1-89b2-48b8-c2f6-17f0abc51e5c"
      },
      "source": [
        "### Visualise!\n",
        "\n",
        "title = func\n",
        "plt.figure()\n",
        "\n",
        "plt.plot(median_approx, color = 'Purple')\n",
        "plt.plot(median_exact, color = 'Orange')\n",
        "\n",
        "xstar = np.arange(0, iters+1, step=1)\n",
        "plt.fill_between(xstar, lower_approx, upper_approx, facecolor = 'Purple', alpha=0.4, label='GP CBM Optimization: Approx GP CBM gradients')\n",
        "plt.fill_between(xstar, lower_exact, upper_exact, facecolor = 'Orange', alpha=0.4, label='GP CBM Optimization: Exact GP dCBM gradients')\n",
        "\n",
        "plt.title(title, weight = 'bold')\n",
        "plt.xlabel('(Post-initialization) iteration $\\it{k}$', weight = 'bold')\n",
        "plt.ylabel('log(Regret)', weight = 'bold') \n",
        "plt.legend(loc=1) # add plot legend\n",
        "\n",
        "### Make the x-ticks integers, not floats:\n",
        "count = len(xstar)\n",
        "plt.xticks(np.arange(0, count, 5))\n",
        "plt.show() #visualise!"
      ],
      "execution_count": 108,
      "outputs": [
        {
          "output_type": "display_data",
          "data": {
            "image/png": "[encoded data removed]",
            "text/plain": [
              "<Figure size 432x288 with 1 Axes>"
            ]
          },
          "metadata": {
            "needs_background": "light"
          }
        }
      ]
    },
    {
      "cell_type": "code",
      "metadata": {
        "id": "l5dkR2Id2oiu",
        "colab": {
          "base_uri": "https://localhost:8080/"
        },
        "outputId": "e6f08364-117a-4394-f2ac-86d3e46dcc49"
      },
      "source": [
        "time_approx, time_exact\n"
      ],
      "execution_count": 109,
      "outputs": [
        {
          "output_type": "execute_result",
          "data": {
            "text/plain": [
              "(289.5650544166565, 1888.2539882659912)"
            ]
          },
          "metadata": {},
          "execution_count": 109
        }
      ]
    },
    {
      "cell_type": "code",
      "metadata": {
        "id": "77BffxK2Fe61"
      },
      "source": [
        ""
      ],
      "execution_count": 109,
      "outputs": []
    }
  ]
}