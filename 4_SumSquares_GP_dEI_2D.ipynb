{
  "nbformat": 4,
  "nbformat_minor": 0,
  "metadata": {
    "colab": {
      "name": "4. SumSquares_GP_dEI_2D.ipynb",
      "provenance": [],
      "collapsed_sections": []
    },
    "kernelspec": {
      "name": "python3",
      "display_name": "Python 3"
    },
    "language_info": {
      "name": "python"
    }
  },
  "cells": [
    {
      "cell_type": "markdown",
      "metadata": {
        "id": "Dqn4dFx7Z2Ir"
      },
      "source": [
        "\n",
        "SumSquares: 2D\n"
      ]
    },
    {
      "cell_type": "code",
      "metadata": {
        "id": "MJTM_GZZZb5x",
        "colab": {
          "base_uri": "https://localhost:8080/"
        },
        "outputId": "f79ef583-15cc-4298-8455-0d69fb0c410a"
      },
      "source": [
        "pip install pyGPGO\n"
      ],
      "execution_count": 1,
      "outputs": [
        {
          "output_type": "stream",
          "name": "stdout",
          "text": [
            "Collecting pyGPGO\n",
            "  Downloading pyGPGO-0.5.1.tar.gz (14 kB)\n",
            "Requirement already satisfied: numpy in /usr/local/lib/python3.7/dist-packages (from pyGPGO) (1.19.5)\n",
            "Requirement already satisfied: mkl in /usr/local/lib/python3.7/dist-packages (from pyGPGO) (2019.0)\n",
            "Requirement already satisfied: scipy in /usr/local/lib/python3.7/dist-packages (from pyGPGO) (1.4.1)\n",
            "Requirement already satisfied: joblib in /usr/local/lib/python3.7/dist-packages (from pyGPGO) (1.1.0)\n",
            "Requirement already satisfied: scikit-learn in /usr/local/lib/python3.7/dist-packages (from pyGPGO) (1.0.2)\n",
            "Requirement already satisfied: Theano-PyMC in /usr/local/lib/python3.7/dist-packages (from pyGPGO) (1.1.2)\n",
            "Requirement already satisfied: pyMC3 in /usr/local/lib/python3.7/dist-packages (from pyGPGO) (3.11.4)\n",
            "Requirement already satisfied: intel-openmp in /usr/local/lib/python3.7/dist-packages (from mkl->pyGPGO) (2022.0.1)\n",
            "Requirement already satisfied: semver>=2.13.0 in /usr/local/lib/python3.7/dist-packages (from pyMC3->pyGPGO) (2.13.0)\n",
            "Requirement already satisfied: arviz>=0.11.0 in /usr/local/lib/python3.7/dist-packages (from pyMC3->pyGPGO) (0.11.4)\n",
            "Requirement already satisfied: dill in /usr/local/lib/python3.7/dist-packages (from pyMC3->pyGPGO) (0.3.4)\n",
            "Requirement already satisfied: fastprogress>=0.2.0 in /usr/local/lib/python3.7/dist-packages (from pyMC3->pyGPGO) (1.0.0)\n",
            "Requirement already satisfied: typing-extensions>=3.7.4 in /usr/local/lib/python3.7/dist-packages (from pyMC3->pyGPGO) (3.10.0.2)\n",
            "Requirement already satisfied: patsy>=0.5.1 in /usr/local/lib/python3.7/dist-packages (from pyMC3->pyGPGO) (0.5.2)\n",
            "Requirement already satisfied: cachetools>=4.2.1 in /usr/local/lib/python3.7/dist-packages (from pyMC3->pyGPGO) (4.2.4)\n",
            "Requirement already satisfied: pandas>=0.24.0 in /usr/local/lib/python3.7/dist-packages (from pyMC3->pyGPGO) (1.1.5)\n",
            "Requirement already satisfied: filelock in /usr/local/lib/python3.7/dist-packages (from Theano-PyMC->pyGPGO) (3.4.2)\n",
            "Requirement already satisfied: setuptools>=38.4 in /usr/local/lib/python3.7/dist-packages (from arviz>=0.11.0->pyMC3->pyGPGO) (57.4.0)\n",
            "Requirement already satisfied: packaging in /usr/local/lib/python3.7/dist-packages (from arviz>=0.11.0->pyMC3->pyGPGO) (21.3)\n",
            "Requirement already satisfied: matplotlib>=3.0 in /usr/local/lib/python3.7/dist-packages (from arviz>=0.11.0->pyMC3->pyGPGO) (3.2.2)\n",
            "Requirement already satisfied: xarray>=0.16.1 in /usr/local/lib/python3.7/dist-packages (from arviz>=0.11.0->pyMC3->pyGPGO) (0.18.2)\n",
            "Requirement already satisfied: netcdf4 in /usr/local/lib/python3.7/dist-packages (from arviz>=0.11.0->pyMC3->pyGPGO) (1.5.8)\n",
            "Requirement already satisfied: cycler>=0.10 in /usr/local/lib/python3.7/dist-packages (from matplotlib>=3.0->arviz>=0.11.0->pyMC3->pyGPGO) (0.11.0)\n",
            "Requirement already satisfied: pyparsing!=2.0.4,!=2.1.2,!=2.1.6,>=2.0.1 in /usr/local/lib/python3.7/dist-packages (from matplotlib>=3.0->arviz>=0.11.0->pyMC3->pyGPGO) (3.0.6)\n",
            "Requirement already satisfied: kiwisolver>=1.0.1 in /usr/local/lib/python3.7/dist-packages (from matplotlib>=3.0->arviz>=0.11.0->pyMC3->pyGPGO) (1.3.2)\n",
            "Requirement already satisfied: python-dateutil>=2.1 in /usr/local/lib/python3.7/dist-packages (from matplotlib>=3.0->arviz>=0.11.0->pyMC3->pyGPGO) (2.8.2)\n",
            "Requirement already satisfied: pytz>=2017.2 in /usr/local/lib/python3.7/dist-packages (from pandas>=0.24.0->pyMC3->pyGPGO) (2018.9)\n",
            "Requirement already satisfied: six in /usr/local/lib/python3.7/dist-packages (from patsy>=0.5.1->pyMC3->pyGPGO) (1.15.0)\n",
            "Requirement already satisfied: cftime in /usr/local/lib/python3.7/dist-packages (from netcdf4->arviz>=0.11.0->pyMC3->pyGPGO) (1.5.1.1)\n",
            "Requirement already satisfied: threadpoolctl>=2.0.0 in /usr/local/lib/python3.7/dist-packages (from scikit-learn->pyGPGO) (3.0.0)\n",
            "Building wheels for collected packages: pyGPGO\n",
            "  Building wheel for pyGPGO (setup.py) ... \u001b[?25l\u001b[?25hdone\n",
            "  Created wheel for pyGPGO: filename=pyGPGO-0.5.1-py3-none-any.whl size=19879 sha256=123aea0bbd936b7701bf995c5f41339c04a358de307008e83e08bf1efde7e859\n",
            "  Stored in directory: /root/.cache/pip/wheels/c8/5d/0b/2160114e2f1b87791c51b66cf07f89831dbb6f49167950316f\n",
            "Successfully built pyGPGO\n",
            "Installing collected packages: pyGPGO\n",
            "Successfully installed pyGPGO-0.5.1\n"
          ]
        }
      ]
    },
    {
      "cell_type": "code",
      "metadata": {
        "id": "ZJSSPbwPaEUB"
      },
      "source": [
        "### Import:\n",
        "\n",
        "import numpy as np\n",
        "import scipy as sp\n",
        "import pandas as pd\n",
        "import matplotlib.pyplot as plt\n",
        "import warnings\n",
        "import itertools\n",
        "\n",
        "from pyGPGO.GPGO import GPGO\n",
        "from pyGPGO.surrogates.GaussianProcess import GaussianProcess\n",
        "from pyGPGO.acquisition import Acquisition\n",
        "from pyGPGO.covfunc import squaredExponential\n",
        "\n",
        "from joblib import Parallel, delayed\n",
        "from numpy.linalg import solve, cholesky\n",
        "from scipy.spatial.distance import cdist\n",
        "from scipy.optimize import minimize\n",
        "from scipy.stats import norm\n",
        "import time\n",
        "\n",
        "warnings.filterwarnings(\"ignore\", category=RuntimeWarning)\n"
      ],
      "execution_count": 2,
      "outputs": []
    },
    {
      "cell_type": "code",
      "metadata": {
        "id": "OeYcTUNoaJWa"
      },
      "source": [
        "### Inputs:\n",
        "\n",
        "func = 'SumSquares'\n",
        "n_test = 500\n",
        "eps = 1e-08\n",
        "\n",
        "util_grad_exact = 'dEI_GP'\n",
        "util_grad_approx = 'ExpectedImprovement'\n",
        "\n",
        "n_init = 5 # random initialisations\n",
        "iters = 20\n",
        "opt = True"
      ],
      "execution_count": 3,
      "outputs": []
    },
    {
      "cell_type": "code",
      "metadata": {
        "id": "xpaEOjdzaPMS"
      },
      "source": [
        "### Objective Function - Sum Squares(x) 2-D:\n",
        "\n",
        "def objfunc(x1_training, x2_training):\n",
        "            return  operator * (  1 * x1_training ** 2\n",
        "                            + 2 * x2_training ** 2\n",
        "                            )\n",
        "        \n",
        "# Constraints:\n",
        "lb = -10\n",
        "ub = +10\n",
        "    \n",
        "# Input array dimension(s):\n",
        "dim = 2\n",
        "\n",
        "# 2-D inputs' parameter bounds:\n",
        "param = {'x1_training': ('cont', [lb, ub]),\n",
        "                 'x2_training': ('cont', [lb, ub])\n",
        "                 }\n",
        "    \n",
        "# True y bounds:\n",
        "y_lb = 0\n",
        "operator = -1 # targets global minimum \n",
        "y_global_orig = y_lb * operator # targets global minimum\n",
        "    \n",
        "# Test data:\n",
        "x1_test = np.linspace(lb, ub, n_test)\n",
        "x2_test = np.linspace(lb, ub, n_test)\n",
        "x_test = np.column_stack((x1_test, x2_test))\n"
      ],
      "execution_count": 4,
      "outputs": []
    },
    {
      "cell_type": "code",
      "metadata": {
        "id": "eYpI3Zm4aGxi"
      },
      "source": [
        "n_start_AcqFunc = iters #multi-start iterations to avoid local optima in AcqFunc optimization\n"
      ],
      "execution_count": 5,
      "outputs": []
    },
    {
      "cell_type": "code",
      "metadata": {
        "id": "oO_GUmOoaV0T"
      },
      "source": [
        "### Cumulative Regret Calculator:\n",
        "\n",
        "def min_max_array(x):\n",
        "    new_list = []\n",
        "    for i, num in enumerate(x):\n",
        "            new_list.append(np.min(x[0:i+1]))\n",
        "    return new_list\n",
        "  "
      ],
      "execution_count": 6,
      "outputs": []
    },
    {
      "cell_type": "code",
      "metadata": {
        "id": "kuuJx0IMam9S"
      },
      "source": [
        "### Surrogate derivatives: \n",
        "\n",
        "cov_func = squaredExponential()\n",
        "\n",
        "def kronDelta(X, Xstar):                     # Kronecker's Delta method\n",
        "    return cdist(X, Xstar) < np.finfo(np.float32).eps\n",
        "\n",
        "def se(X, Xstar, sigmaf, l, sigman):         # S.E. kernel method\n",
        "    return sigmaf * np.exp(-0.5 * cdist(X, Xstar) ** 2 / l ** 2) + sigman * kronDelta(X, Xstar)\n",
        "\n",
        "def delta(X, Xstar):                         # Distance between training X and test Xstar vectors\n",
        "    return (X - Xstar)\n",
        "   \n",
        "def der_covmat(X, Xstar, sigmaf, l, sigman): # Covariance matrix derivative terms (i.e. exact, first-order)\n",
        "    nx = len(X)\n",
        "    ny = len(Xstar)\n",
        "    return np.round(np.array([(delta(np.atleast_2d(i), np.atleast_2d(j))[0] * se(np.atleast_2d(i), np.atleast_2d(j), sigmaf, l, sigman)[0]).sum() for (i, j) in itertools.product(X, Xstar)]).reshape(nx, ny), 8)\n",
        "\n",
        "class dGaussianProcess(GaussianProcess):    # Via inheritance, also optimises hyperparameters when opt = TRUE\n",
        "    \n",
        "    def AcqGrad(self, Xstar):               # Method returning exact, first-order derivatives of the GP's posterior mean and standard deviation\n",
        "        Xstar = np.atleast_2d(Xstar)\n",
        "        Kstar = self.covfunc.K(self.X, Xstar).T\n",
        "        \n",
        "        dKstar = der_covmat(self.X, Xstar, self.covfunc.sigmaf, self.covfunc.l, self.covfunc.sigman).T\n",
        "        alpha_Kstar = np.dot(np.linalg.inv(self.K + (self.covfunc.sigman**2) * np.eye(len(self.X))), Kstar.T)\n",
        "        \n",
        "        dm = np.dot(dKstar, self.alpha)\n",
        "        ds = -2 * np.dot(dKstar, alpha_Kstar)\n",
        "        \n",
        "        return dm, ds           \n",
        "        "
      ],
      "execution_count": 7,
      "outputs": []
    },
    {
      "cell_type": "code",
      "metadata": {
        "id": "_Dc3YVHVaXz7"
      },
      "source": [
        "class Acquisition_new(Acquisition):    \n",
        "    def __init__(self, mode, eps=eps, **params):\n",
        "        \n",
        "        self.params = params\n",
        "        self.eps = eps\n",
        "\n",
        "        mode_dict = {\n",
        "            'dEI_GP': self.dEI_GP\n",
        "        }\n",
        "\n",
        "        self.f = mode_dict[mode]\n",
        "    \n",
        "    def dEI_GP(self, tau, mean, std, ds, dm):\n",
        "        gamma = (mean - tau - self.eps) / (std + self.eps)\n",
        "        gamma_h = (mean - tau) / (std + self.eps)\n",
        "        dsdx = ds / (2 * (std + self.eps))\n",
        "        dmdx = (dm - gamma * dsdx) / (std + self.eps)\n",
        "        \n",
        "        f = (std + self.eps) * (gamma * norm.cdf(gamma) + norm.pdf(gamma))\n",
        "        df1 = f / (std + self.eps) * dsdx \n",
        "        df2 = (std + self.eps) * norm.cdf(gamma) * dmdx\n",
        "        df = (df1 + df2)[0]\n",
        "        df_arr = []\n",
        "\n",
        "        for j in range(0, dim):\n",
        "          df_arr.append(df)\n",
        "        return f, np.asarray(df_arr).transpose()\n",
        "        \n",
        "    def d_eval(self, tau, mean, std, ds, dm):\n",
        "    \n",
        "        return self.f(tau, mean, std, ds, dm, **self.params)\n",
        "        "
      ],
      "execution_count": 8,
      "outputs": []
    },
    {
      "cell_type": "code",
      "metadata": {
        "id": "PITEQC8YSl7i"
      },
      "source": [
        "## GPGO_multi: Multistart changed to variable 'n_start_AcqFunc'\n",
        "\n",
        "class GPGO_multi(GPGO):\n",
        "    n_start = n_start_AcqFunc\n",
        "\n",
        "    def _optimizeAcq(self, method='L-BFGS-B', n_start=n_start_AcqFunc):\n",
        "        \n",
        "        start_points_dict = [self._sampleParam() for i in range(n_start)]\n",
        "        start_points_arr = np.array([list(s.values())\n",
        "                                     for s in start_points_dict])\n",
        "        x_best = np.empty((n_start, len(self.parameter_key)))\n",
        "        f_best = np.empty((n_start,))\n",
        "        if self.n_jobs == 1:\n",
        "            for index, start_point in enumerate(start_points_arr):\n",
        "                res = minimize(self._acqWrapper, x0=start_point, method=method,\n",
        "                               bounds=self.parameter_range)\n",
        "                x_best[index], f_best[index] = res.x, np.atleast_1d(res.fun)[0]\n",
        "        else:\n",
        "            opt = Parallel(n_jobs=self.n_jobs)(delayed(minimize)(self._acqWrapper,\n",
        "                                                                 x0=start_point,\n",
        "                                                                 method=method,\n",
        "                                                                 bounds=self.parameter_range) for start_point in\n",
        "                                               start_points_arr)\n",
        "            x_best = np.array([res.x for res in opt])\n",
        "            f_best = np.array([np.atleast_1d(res.fun)[0] for res in opt])\n",
        "\n",
        "        self.best = x_best[np.argmin(f_best)]"
      ],
      "execution_count": 9,
      "outputs": []
    },
    {
      "cell_type": "code",
      "metadata": {
        "id": "b_B-w81BJxKN"
      },
      "source": [
        "## dGPGO:\n",
        "\n",
        "grad = 1\n",
        "\n",
        "class dGPGO(GPGO):\n",
        "    n_start = n_start_AcqFunc\n",
        "\n",
        "    def d_optimizeAcq(self, method='L-BFGS-B', n_start=n_start_AcqFunc):\n",
        "        start_points_dict = [self._sampleParam() for i in range(n_start)]\n",
        "        start_points_arr = np.array([list(s.values())\n",
        "                                     for s in start_points_dict])\n",
        "        x_best = np.empty((n_start, len(self.parameter_key)))\n",
        "        f_best = np.empty((n_start,))\n",
        "        opt = Parallel(n_jobs=self.n_jobs)(delayed(minimize)(self.acqfunc,\n",
        "                                                                 x0=start_point,\n",
        "                                                                 method=method,\n",
        "                                                                 jac = True,\n",
        "                                                                 bounds=self.parameter_range) for start_point in\n",
        "                                               start_points_arr)\n",
        "        x_best = np.array([res.x for res in opt])\n",
        "        f_best = np.array([np.atleast_1d(res.fun)[0] for res in opt])\n",
        "\n",
        "        self.x_best = x_best\n",
        "        self.f_best = f_best\n",
        "        self.best = x_best[np.argmin(f_best)]\n",
        "        self.start_points_arr = start_points_arr\n",
        "\n",
        "        return x_best, f_best\n",
        "    \n",
        "    def run(self, max_iter=10, init_evals=3, resume=False):\n",
        "        \n",
        "        if not resume:\n",
        "            self.init_evals = init_evals\n",
        "            self._firstRun(self.init_evals)\n",
        "            self.logger._printInit(self)\n",
        "        for iteration in range(max_iter):\n",
        "            self.d_optimizeAcq()\n",
        "            self.updateGP()\n",
        "            self.logger._printCurrent(self)\n",
        "\n",
        "    def acqfunc(self, xnew, n_start=n_start_AcqFunc):\n",
        "        new_mean, new_var = self.GP.predict(xnew, return_std=True)\n",
        "        new_std = np.sqrt(new_var + eps)\n",
        "        dm, ds = self.GP.AcqGrad(xnew)\n",
        "        f, df = self.A.d_eval(self.tau, new_mean, new_std, ds=ds, dm=dm)\n",
        "\n",
        "        return -f, -df * grad\n"
      ],
      "execution_count": 10,
      "outputs": []
    },
    {
      "cell_type": "code",
      "metadata": {
        "id": "qXIKGuXVGEg2"
      },
      "source": [
        "###Reproducible set-seeds:\n",
        "\n",
        "run_num_1 = 1\n",
        "run_num_2 = 2\n",
        "run_num_3 = 3\n",
        "run_num_4 = 4\n",
        "run_num_5 = 5\n",
        "run_num_6 = 6\n",
        "run_num_7 = 7\n",
        "run_num_8 = 8\n",
        "run_num_9 = 9\n",
        "run_num_10 = 10\n",
        "run_num_11 = 11\n",
        "run_num_12 = 12\n",
        "run_num_13 = 13\n",
        "run_num_14 = 14\n",
        "run_num_15 = 15\n",
        "run_num_16 = 16\n",
        "run_num_17 = 17\n",
        "run_num_18 = 18\n",
        "run_num_19 = 19\n",
        "run_num_20 = 20\n"
      ],
      "execution_count": 11,
      "outputs": []
    },
    {
      "cell_type": "code",
      "metadata": {
        "colab": {
          "base_uri": "https://localhost:8080/"
        },
        "id": "JEhagQmnTVIK",
        "outputId": "a65ea24d-bc30-4aef-a88f-32fb623c09f6"
      },
      "source": [
        "start_approx = time.time()\n",
        "start_approx\n"
      ],
      "execution_count": 12,
      "outputs": [
        {
          "output_type": "execute_result",
          "data": {
            "text/plain": [
              "1643197659.9912527"
            ]
          },
          "metadata": {},
          "execution_count": 12
        }
      ]
    },
    {
      "cell_type": "code",
      "metadata": {
        "colab": {
          "base_uri": "https://localhost:8080/"
        },
        "id": "aH0YSTXufD1v",
        "outputId": "d1c27fc0-d89e-4a58-843f-324391028b2d"
      },
      "source": [
        "### ESTIMATED GP EI GRADIENTS\n",
        "\n",
        "np.random.seed(run_num_1)\n",
        "surrogate_approx_1 = GaussianProcess(cov_func, optimize=opt)\n",
        "\n",
        "approx_1 = GPGO_multi(surrogate_approx_1, Acquisition(util_grad_approx), objfunc, param)\n",
        "approx_1.run(init_evals=n_init, max_iter=iters)\n"
      ],
      "execution_count": 13,
      "outputs": [
        {
          "output_type": "stream",
          "name": "stdout",
          "text": [
            "Evaluation \t Proposed point \t  Current eval. \t Best eval.\n",
            "init   \t [-1.65955991  4.40648987]. \t  -41.5884450098667 \t -5.468172821636052\n",
            "init   \t [-9.9977125  -3.95334855]. \t  -131.21218477957908 \t -5.468172821636052\n",
            "init   \t [-7.06488218 -8.1532281 ]. \t  -182.86281732102734 \t -5.468172821636052\n",
            "init   \t [-6.27479577 -3.08878546]. \t  -58.4542532110911 \t -5.468172821636052\n",
            "init   \t [-2.06465052  0.77633468]. \t  -5.468172821636052 \t -5.468172821636052\n",
            "1      \t [ 7.89213327 -8.29911577]. \t  -200.03641276683908 \t -5.468172821636052\n",
            "2      \t [7.66612182 2.47344414]. \t  -71.00527566059496 \t -5.468172821636052\n",
            "3      \t [1.62717855 9.40039978]. \t  -179.3827421328839 \t -5.468172821636052\n",
            "4      \t [-9.56950389  8.95940422]. \t  -252.11725289788865 \t -5.468172821636052\n",
            "5      \t [ 2.56152397 -4.28847437]. \t  -43.34342980630102 \t -5.468172821636052\n",
            "6      \t [ -1.05892337 -10.        ]. \t  -201.1213186930317 \t -5.468172821636052\n",
            "7      \t [10.          7.85113619]. \t  -223.280678850504 \t -5.468172821636052\n",
            "8      \t [-7.81962472  2.67573521]. \t  -75.4656486076953 \t -5.468172821636052\n",
            "9      \t [10.         -2.78162523]. \t  -115.47487781388813 \t -5.468172821636052\n",
            "10     \t [2.64550153 1.04898526]. \t  -9.199418494629265 \t -5.468172821636052\n",
            "11     \t [-3.97311954 10.        ]. \t  -215.78567887617132 \t -5.468172821636052\n",
            "12     \t [-2.027337   -5.03098885]. \t  -54.73179291371235 \t -5.468172821636052\n",
            "13     \t [3.85607581 5.15315303]. \t  -67.97929305444237 \t -5.468172821636052\n",
            "14     \t [  3.58735192 -10.        ]. \t  -212.86909379366668 \t -5.468172821636052\n",
            "15     \t [ 6.05591067 10.        ]. \t  -236.67405403604516 \t -5.468172821636052\n",
            "16     \t [ 5.71009049 -1.49873373]. \t  -37.097538965418664 \t -5.468172821636052\n",
            "17     \t [ 0.04922903 -1.47078951]. \t  \u001b[92m-4.328867048091607\u001b[0m \t -4.328867048091607\n",
            "18     \t [-5.55186733  5.99956067]. \t  -102.81268734996509 \t -4.328867048091607\n",
            "19     \t [-10.         -0.1511463]. \t  -100.04569040886305 \t -4.328867048091607\n",
            "20     \t [-4.86645777  0.36189242]. \t  -23.944343494098206 \t -4.328867048091607\n"
          ]
        }
      ]
    },
    {
      "cell_type": "code",
      "metadata": {
        "colab": {
          "base_uri": "https://localhost:8080/"
        },
        "id": "wTxsSZxFGBB5",
        "outputId": "dcf6b24c-7201-4069-c878-d765554eb589"
      },
      "source": [
        "### ESTIMATED GP EI GRADIENTS\n",
        "\n",
        "np.random.seed(run_num_2)\n",
        "surrogate_approx_2 = GaussianProcess(cov_func, optimize=opt)\n",
        "\n",
        "approx_2 = GPGO_multi(surrogate_approx_2, Acquisition(util_grad_approx), objfunc, param)\n",
        "approx_2.run(init_evals=n_init, max_iter=iters)\n"
      ],
      "execution_count": 14,
      "outputs": [
        {
          "output_type": "stream",
          "name": "stdout",
          "text": [
            "Evaluation \t Proposed point \t  Current eval. \t Best eval.\n",
            "init   \t [-1.28010196 -9.48147536]. \t  -181.43541115584648 \t -4.333099000920773\n",
            "init   \t [ 0.99324956 -1.29355215]. \t  -4.333099000920773 \t -4.333099000920773\n",
            "init   \t [-1.59264396 -3.39330358]. \t  -25.565533148780872 \t -4.333099000920773\n",
            "init   \t [-5.90702732  2.38541933]. \t  -46.27342248166184 \t -4.333099000920773\n",
            "init   \t [-4.00690653 -4.6634545 ]. \t  -59.55091562094812 \t -4.333099000920773\n",
            "1      \t [4.01504693 9.2910216 ]. \t  -188.7667666769868 \t -4.333099000920773\n",
            "2      \t [ 9.4582138 -7.7444757]. \t  -209.411615827435 \t -4.333099000920773\n",
            "3      \t [ 9.07319925 -1.03970567]. \t  -84.48492034594878 \t -4.333099000920773\n",
            "4      \t [-9.13741927 -7.85625192]. \t  -206.93381928482216 \t -4.333099000920773\n",
            "5      \t [9.5985819  6.97740137]. \t  -189.5010342975437 \t -4.333099000920773\n",
            "6      \t [-3.25263411  9.0402141 ]. \t  -174.03057068772284 \t -4.333099000920773\n",
            "7      \t [-9.13361372  7.86376943]. \t  -207.10063872633899 \t -4.333099000920773\n",
            "8      \t [4.39615564 2.88265596]. \t  -35.94559520445725 \t -4.333099000920773\n",
            "9      \t [-10.          -1.89507383]. \t  -107.1826096424068 \t -4.333099000920773\n",
            "10     \t [ 3.64494734 -6.06810768]. \t  -86.92950269622102 \t -4.333099000920773\n",
            "11     \t [-0.76817857  3.8996684 ]. \t  -31.004925514004757 \t -4.333099000920773\n",
            "12     \t [-10.           3.09864263]. \t  -119.20317225338674 \t -4.333099000920773\n",
            "13     \t [  5.35809613 -10.        ]. \t  -228.70919409455004 \t -4.333099000920773\n",
            "14     \t [ 4.67495616 -1.60210944]. \t  -26.988724365250214 \t -4.333099000920773\n",
            "15     \t [-2.44444394  0.31372084]. \t  -6.172147687944214 \t -4.333099000920773\n",
            "16     \t [ -5.48532982 -10.        ]. \t  -230.08884320880006 \t -4.333099000920773\n",
            "17     \t [8.39868699 2.92759121]. \t  -87.67952371993744 \t -4.333099000920773\n",
            "18     \t [-5.92690489 -1.37780799]. \t  -38.92491129869055 \t -4.333099000920773\n",
            "19     \t [0.50046599 7.27076326]. \t  -105.97846305785977 \t -4.333099000920773\n",
            "20     \t [ 7.15958773 -4.37606224]. \t  -89.55953788657456 \t -4.333099000920773\n"
          ]
        }
      ]
    },
    {
      "cell_type": "code",
      "metadata": {
        "colab": {
          "base_uri": "https://localhost:8080/"
        },
        "id": "-dgzIrUIGCGT",
        "outputId": "7e44db77-0dbc-4060-a2b4-604dc019e5f6"
      },
      "source": [
        "### ESTIMATED GP EI GRADIENTS\n",
        "\n",
        "np.random.seed(run_num_3)\n",
        "surrogate_approx_3 = GaussianProcess(cov_func, optimize=opt)\n",
        "\n",
        "approx_3 = GPGO_multi(surrogate_approx_3, Acquisition(util_grad_approx), objfunc, param)\n",
        "approx_3.run(init_evals=n_init, max_iter=iters)\n"
      ],
      "execution_count": 15,
      "outputs": [
        {
          "output_type": "stream",
          "name": "stdout",
          "text": [
            "Evaluation \t Proposed point \t  Current eval. \t Best eval.\n",
            "init   \t [1.01595805 4.16295645]. \t  -35.692583610916834 \t -17.582120911078754\n",
            "init   \t [-4.18190522  0.2165521 ]. \t  -17.582120911078754 \t -17.582120911078754\n",
            "init   \t [7.85893909 7.92586178]. \t  -187.4014934415638 \t -17.582120911078754\n",
            "init   \t [-7.48829379 -5.85514244]. \t  -124.63992981683481 \t -17.582120911078754\n",
            "init   \t [-8.97065593 -1.18380313]. \t  -83.2754475728413 \t -17.582120911078754\n",
            "1      \t [ 5.60629529 -3.87272935]. \t  -61.42661215628989 \t -17.582120911078754\n",
            "2      \t [-6.2437035   9.04202486]. \t  -202.50026057521436 \t -17.582120911078754\n",
            "3      \t [ 0.20293337 10.        ]. \t  -200.0411819510794 \t -17.582120911078754\n",
            "4      \t [-0.42169096 -8.75441039]. \t  -153.45722588114134 \t -17.582120911078754\n",
            "5      \t [ 8.49805726 -8.91732988]. \t  -231.2545217289155 \t -17.582120911078754\n",
            "6      \t [-9.21277105  4.93342182]. \t  -133.55245206852663 \t -17.582120911078754\n",
            "7      \t [ 0.69850669 -0.70926041]. \t  \u001b[92m-1.4940122574729555\u001b[0m \t -1.4940122574729555\n",
            "8      \t [8.49616767 0.98473736]. \t  -74.12428040932187 \t -1.4940122574729555\n",
            "9      \t [-6.71050156 -9.69798454]. \t  -233.13263931875917 \t -1.4940122574729555\n",
            "10     \t [-2.31609135 -4.03103432]. \t  -37.86275452469825 \t -1.4940122574729555\n",
            "11     \t [-3.68921689  4.7230242 ]. \t  -58.22423638664816 \t -1.4940122574729555\n",
            "12     \t [10.         -3.82716584]. \t  -129.29439666671396 \t -1.4940122574729555\n",
            "13     \t [3.96695769 0.75330163]. \t  -16.871679991869264 \t -1.4940122574729555\n",
            "14     \t [5.21705335 4.40325963]. \t  -65.99503634773308 \t -1.4940122574729555\n",
            "15     \t [ 1.62603992 -4.73122397]. \t  -47.41296639226305 \t -1.4940122574729555\n",
            "16     \t [  3.96743102 -10.        ]. \t  -215.74050888605134 \t -1.4940122574729555\n",
            "17     \t [ 4.34167013 10.        ]. \t  -218.85009948227537 \t -1.4940122574729555\n",
            "18     \t [10.          4.49211045]. \t  -140.3581125091661 \t -1.4940122574729555\n",
            "19     \t [-0.97808683  1.17801232]. \t  -3.7320798712346015 \t -1.4940122574729555\n",
            "20     \t [-6.76787634  2.048495  ]. \t  -54.196813758821065 \t -1.4940122574729555\n"
          ]
        }
      ]
    },
    {
      "cell_type": "code",
      "metadata": {
        "colab": {
          "base_uri": "https://localhost:8080/"
        },
        "id": "hOtG-2sCGCKS",
        "outputId": "b5cb8e7f-083c-4f50-eadd-facc91d74309"
      },
      "source": [
        "### ESTIMATED GP EI GRADIENTS\n",
        "\n",
        "np.random.seed(run_num_4)\n",
        "surrogate_approx_4 = GaussianProcess(cov_func, optimize=opt)\n",
        "\n",
        "approx_4 = GPGO_multi(surrogate_approx_4, Acquisition(util_grad_approx), objfunc, param)\n",
        "approx_4.run(init_evals=n_init, max_iter=iters)\n"
      ],
      "execution_count": 16,
      "outputs": [
        {
          "output_type": "stream",
          "name": "stdout",
          "text": [
            "Evaluation \t Proposed point \t  Current eval. \t Best eval.\n",
            "init   \t [9.34059678 0.94464498]. \t  -89.0314565014143 \t -27.80880071439404\n",
            "init   \t [9.4536872  4.29631987]. \t  -126.28893057280868 \t -27.80880071439404\n",
            "init   \t [ 3.95457649 -5.67821009]. \t  -80.12281484649141 \t -27.80880071439404\n",
            "init   \t [ 9.5254891 -9.8753949]. \t  -285.78179120922215 \t -27.80880071439404\n",
            "init   \t [-4.94035275 -1.30416935]. \t  -27.80880071439404 \t -27.80880071439404\n",
            "1      \t [-6.35109191  8.36766078]. \t  -180.3718623830372 \t -27.80880071439404\n",
            "2      \t [ -4.8985823 -10.       ]. \t  -223.99610851724944 \t -27.80880071439404\n",
            "3      \t [2.73697346 9.11609188]. \t  -173.69728602361354 \t -27.80880071439404\n",
            "4      \t [0.97610237 1.99594982]. \t  \u001b[92m-8.92040722633793\u001b[0m \t -8.92040722633793\n",
            "5      \t [-10.           3.33491649]. \t  -122.24333601759977 \t -8.92040722633793\n",
            "6      \t [-10.          -3.63804623]. \t  -126.47076079179283 \t -8.92040722633793\n",
            "7      \t [ 8.66285389 10.        ]. \t  -275.0450375850186 \t -8.92040722633793\n",
            "8      \t [-1.520507   -5.36452642]. \t  -59.86822885656996 \t -8.92040722633793\n",
            "9      \t [10.         -4.33851292]. \t  -137.64538875943222 \t -8.92040722633793\n",
            "10     \t [  0.92271962 -10.        ]. \t  -200.85141149884566 \t -8.92040722633793\n",
            "11     \t [-3.61794567  3.67715446]. \t  -40.132460707027505 \t -8.92040722633793\n",
            "12     \t [-9.70814071 -7.49026796]. \t  -206.45622413219547 \t -8.92040722633793\n",
            "13     \t [ 4.59481148 -0.70504019]. \t  -22.10645589284514 \t -8.92040722633793\n",
            "14     \t [4.55646161 4.3990786 ]. \t  -59.46512746991902 \t -8.92040722633793\n",
            "15     \t [-1.68903527  7.72770058]. \t  -122.28755258862111 \t -8.92040722633793\n",
            "16     \t [ 0.55978202 -1.72590432]. \t  \u001b[92m-6.270847328721226\u001b[0m \t -6.270847328721226\n",
            "17     \t [-5.72845129 -5.33419904]. \t  -89.72251304649761 \t -6.270847328721226\n",
            "18     \t [  5.18679072 -10.        ]. \t  -226.90279798948666 \t -6.270847328721226\n",
            "19     \t [-1.8240247   0.34770332]. \t  \u001b[92m-3.568861283531412\u001b[0m \t -3.568861283531412\n",
            "20     \t [-8.20584309 -0.08527706]. \t  -67.35040518728323 \t -3.568861283531412\n"
          ]
        }
      ]
    },
    {
      "cell_type": "code",
      "metadata": {
        "colab": {
          "base_uri": "https://localhost:8080/"
        },
        "id": "JF_SxcEvGCOl",
        "outputId": "c4876ffd-748c-43fc-c296-1c2737addff4"
      },
      "source": [
        "### ESTIMATED GP EI GRADIENTS\n",
        "\n",
        "np.random.seed(run_num_5)\n",
        "surrogate_approx_5 = GaussianProcess(cov_func, optimize=opt)\n",
        "\n",
        "approx_5 = GPGO_multi(surrogate_approx_5, Acquisition(util_grad_approx), objfunc, param)\n",
        "approx_5.run(init_evals=n_init, max_iter=iters)\n"
      ],
      "execution_count": 17,
      "outputs": [
        {
          "output_type": "stream",
          "name": "stdout",
          "text": [
            "Evaluation \t Proposed point \t  Current eval. \t Best eval.\n",
            "init   \t [-5.56013658  7.41464612]. \t  -140.86907304317228 \t -10.04307293518387\n",
            "init   \t [-5.86561689  8.37221816]. \t  -174.59353533361667 \t -10.04307293518387\n",
            "init   \t [-0.23177622  2.23487726]. \t  -10.04307293518387 \t -10.04307293518387\n",
            "init   \t [5.31815713 0.36835976]. \t  -28.554173077012745 \t -10.04307293518387\n",
            "init   \t [-4.06398997 -6.24557543]. \t  -94.53043928694063 \t -10.04307293518387\n",
            "1      \t [9.27861058 9.20453431]. \t  -255.5395178906315 \t -10.04307293518387\n",
            "2      \t [ 8.87080164 -7.76615146]. \t  -199.31733862713008 \t -10.04307293518387\n",
            "3      \t [0.54357666 9.2242228 ]. \t  -170.4680482407008 \t -10.04307293518387\n",
            "4      \t [ 2.49508934 -6.80638133]. \t  -98.87912454627462 \t -10.04307293518387\n",
            "5      \t [-10.         -8.9060044]. \t  -258.63382876957485 \t -10.04307293518387\n",
            "6      \t [-8.62367183  0.50898962]. \t  -74.88585667581904 \t -10.04307293518387\n",
            "7      \t [10.          3.26578106]. \t  -121.33065180090271 \t -10.04307293518387\n",
            "8      \t [10.         -2.28602443]. \t  -110.45181543102282 \t -10.04307293518387\n",
            "9      \t [4.77262266 5.59507275]. \t  -85.38760523188871 \t -10.04307293518387\n",
            "10     \t [-3.63338944 -1.04539473]. \t  -15.38721911652941 \t -10.04307293518387\n",
            "11     \t [ 1.02719131 -2.08338104]. \t  \u001b[92m-9.736075067806567\u001b[0m \t -9.736075067806567\n",
            "12     \t [-10.           5.25690083]. \t  -155.2700127538469 \t -9.736075067806567\n",
            "13     \t [ -1.11957581 -10.        ]. \t  -201.25344999256143 \t -9.736075067806567\n",
            "14     \t [-10.          -3.95527846]. \t  -131.2884553598501 \t -9.736075067806567\n",
            "15     \t [-4.49166682  2.99987062]. \t  -38.173518349278226 \t -9.736075067806567\n",
            "16     \t [ 5.78435179 -3.86838282]. \t  -63.38749689249986 \t -9.736075067806567\n",
            "17     \t [ -5.70474774 -10.        ]. \t  -232.54414682760148 \t -9.736075067806567\n",
            "18     \t [ 4.8652603 10.       ]. \t  -223.67075776685112 \t -9.736075067806567\n",
            "19     \t [-10.  10.]. \t  -300.0 \t -9.736075067806567\n",
            "20     \t [  5.10721313 -10.        ]. \t  -226.08362597121044 \t -9.736075067806567\n"
          ]
        }
      ]
    },
    {
      "cell_type": "code",
      "metadata": {
        "colab": {
          "base_uri": "https://localhost:8080/"
        },
        "id": "-kDxZtJsGCR3",
        "outputId": "71033d2f-4687-4d79-f877-bc90cfc186ff"
      },
      "source": [
        "### ESTIMATED GP EI GRADIENTS\n",
        "\n",
        "np.random.seed(run_num_6)\n",
        "surrogate_approx_6 = GaussianProcess(cov_func, optimize=opt)\n",
        "\n",
        "approx_6 = GPGO_multi(surrogate_approx_6, Acquisition(util_grad_approx), objfunc, param)\n",
        "approx_6.run(init_evals=n_init, max_iter=iters)\n"
      ],
      "execution_count": 18,
      "outputs": [
        {
          "output_type": "stream",
          "name": "stdout",
          "text": [
            "Evaluation \t Proposed point \t  Current eval. \t Best eval.\n",
            "init   \t [ 7.85720303 -3.36040389]. \t  -84.32026809583151 \t -5.629416961321397\n",
            "init   \t [ 6.42458246 -9.16606749]. \t  -209.30884609749882 \t -5.629416961321397\n",
            "init   \t [-7.8468664   1.90104128]. \t  -68.80122824744078 \t -5.629416961321397\n",
            "init   \t [ 0.59634724 -1.62385143]. \t  -5.629416961321397 \t -5.629416961321397\n",
            "init   \t [-3.29184301  2.45038864]. \t  -22.84503944485431 \t -5.629416961321397\n",
            "1      \t [4.34664291 8.74699069]. \t  -171.91299695999675 \t -5.629416961321397\n",
            "2      \t [-4.96771714 -9.17248997]. \t  -192.94735819477367 \t -5.629416961321397\n",
            "3      \t [9.57427611 1.74148842]. \t  -97.73232691305284 \t -5.629416961321397\n",
            "4      \t [-5.6935267   8.60486508]. \t  -180.50365249520243 \t -5.629416961321397\n",
            "5      \t [-10.          -5.66019356]. \t  -164.0755823122173 \t -5.629416961321397\n",
            "6      \t [3.82796271 2.69284027]. \t  -29.156075898516452 \t -5.629416961321397\n",
            "7      \t [-0.45748598  7.70980473]. \t  -119.09147150685489 \t -5.629416961321397\n",
            "8      \t [-5.2160087  -2.20998074]. \t  -36.974776478354485 \t -5.629416961321397\n",
            "9      \t [-1.22868843  4.34354782]. \t  -39.24249056209099 \t -5.629416961321397\n",
            "10     \t [ 0.78454011 -7.20627858]. \t  -104.47640509674082 \t -5.629416961321397\n",
            "11     \t [10. 10.]. \t  -300.0 \t -5.629416961321397\n",
            "12     \t [-10.           6.23718989]. \t  -177.80507557060267 \t -5.629416961321397\n",
            "13     \t [-10.  10.]. \t  -300.0 \t -5.629416961321397\n",
            "14     \t [7.7681153  5.72890864]. \t  -125.98440388900005 \t -5.629416961321397\n",
            "15     \t [ 3.57822923 -3.74049783]. \t  -40.7863724914361 \t -5.629416961321397\n",
            "16     \t [10.         -6.88739146]. \t  -194.8723222920234 \t -5.629416961321397\n",
            "17     \t [-2.83814943 -5.21535756]. \t  -62.45500112872654 \t -5.629416961321397\n",
            "18     \t [-10. -10.]. \t  -300.0 \t -5.629416961321397\n",
            "19     \t [ 5.63856516 -0.26237074]. \t  -31.931093913926638 \t -5.629416961321397\n",
            "20     \t [-10.          -1.42584013]. \t  -104.06604015265839 \t -5.629416961321397\n"
          ]
        }
      ]
    },
    {
      "cell_type": "code",
      "metadata": {
        "colab": {
          "base_uri": "https://localhost:8080/"
        },
        "id": "fKB8MCD_GCVI",
        "outputId": "bd4aefd0-d311-496b-cc3a-f9a9b56c9635"
      },
      "source": [
        "### ESTIMATED GP EI GRADIENTS\n",
        "\n",
        "np.random.seed(run_num_7)\n",
        "surrogate_approx_7 = GaussianProcess(cov_func, optimize=opt)\n",
        "\n",
        "approx_7 = GPGO_multi(surrogate_approx_7, Acquisition(util_grad_approx), objfunc, param)\n",
        "approx_7.run(init_evals=n_init, max_iter=iters)\n"
      ],
      "execution_count": 19,
      "outputs": [
        {
          "output_type": "stream",
          "name": "stdout",
          "text": [
            "Evaluation \t Proposed point \t  Current eval. \t Best eval.\n",
            "init   \t [-8.47383421  5.59837584]. \t  -134.48949046062052 \t -21.448213419349443\n",
            "init   \t [-1.23181537  4.46930356]. \t  -41.46671767109191 \t -21.448213419349443\n",
            "init   \t [9.55979024 0.76991741]. \t  -92.57513506242564 \t -21.448213419349443\n",
            "init   \t [ 0.02240927 -8.55897733]. \t  -146.51268814245697 \t -21.448213419349443\n",
            "init   \t [-4.63122040e+00 -2.34998349e-03]. \t  -21.448213419349443 \t -21.448213419349443\n",
            "1      \t [ 8.12846538 -6.39096762]. \t  -147.76088362344177 \t -21.448213419349443\n",
            "2      \t [ 4.06516126 10.        ]. \t  -216.52553605840973 \t -21.448213419349443\n",
            "3      \t [-9.10467478 -9.8356699 ]. \t  -276.3759076385656 \t -21.448213419349443\n",
            "4      \t [-7.86246511 -2.61028169]. \t  -75.44549865130998 \t -21.448213419349443\n",
            "5      \t [3.63197518 0.86181451]. \t  \u001b[92m-14.676692185809095\u001b[0m \t -14.676692185809095\n",
            "6      \t [-3.16848977  9.87018565]. \t  -204.88045702297123 \t -14.676692185809095\n",
            "7      \t [10.         6.6265899]. \t  -187.82338743940096 \t -14.676692185809095\n",
            "8      \t [-0.08482908 -2.88008113]. \t  -16.596930573818884 \t -14.676692185809095\n",
            "9      \t [-4.7532867  -6.60023171]. \t  -109.71985177058446 \t -14.676692185809095\n",
            "10     \t [  4.79396707 -10.        ]. \t  -222.98212024631835 \t -14.676692185809095\n",
            "11     \t [5.44466868 5.04798189]. \t  -80.60865945359268 \t -14.676692185809095\n",
            "12     \t [-10.  10.]. \t  -300.0 \t -14.676692185809095\n",
            "13     \t [ 4.24237503 -3.55211408]. \t  -43.232774790187925 \t -14.676692185809095\n",
            "14     \t [-10.           1.27418514]. \t  -103.2470955314268 \t -14.676692185809095\n",
            "15     \t [-0.33031934  0.71582239]. \t  \u001b[92m-1.1339142398911628\u001b[0m \t -1.1339142398911628\n",
            "16     \t [-4.83756634  3.4506174 ]. \t  -47.21556893390472 \t -1.1339142398911628\n",
            "17     \t [0.5926894  7.72677917]. \t  -119.75751348393891 \t -1.1339142398911628\n",
            "18     \t [ 10. -10.]. \t  -300.0 \t -1.1339142398911628\n",
            "19     \t [-10.          -5.74573073]. \t  -166.02684321989545 \t -1.1339142398911628\n",
            "20     \t [ 8.14856622 10.        ]. \t  -266.3991314718667 \t -1.1339142398911628\n"
          ]
        }
      ]
    },
    {
      "cell_type": "code",
      "metadata": {
        "colab": {
          "base_uri": "https://localhost:8080/"
        },
        "id": "4unvifF-GCXp",
        "outputId": "19cdbdc8-9a55-495f-c828-bebb951af257"
      },
      "source": [
        "### ESTIMATED GP EI GRADIENTS\n",
        "\n",
        "np.random.seed(run_num_8)\n",
        "surrogate_approx_8 = GaussianProcess(cov_func, optimize=opt)\n",
        "\n",
        "approx_8 = GPGO_multi(surrogate_approx_8, Acquisition(util_grad_approx), objfunc, param)\n",
        "approx_8.run(init_evals=n_init, max_iter=iters)\n"
      ],
      "execution_count": 20,
      "outputs": [
        {
          "output_type": "stream",
          "name": "stdout",
          "text": [
            "Evaluation \t Proposed point \t  Current eval. \t Best eval.\n",
            "init   \t [7.46858806 9.37081326]. \t  -231.40408972112363 \t -0.5791878792948744\n",
            "init   \t [7.3838908  0.61711383]. \t  -55.28350237060649 \t -0.5791878792948744\n",
            "init   \t [-5.34543344 -9.77202391]. \t  -219.5585614355461 \t -0.5791878792948744\n",
            "init   \t [-1.39062363 -1.9529728 ]. \t  -9.562039601098967 \t -0.5791878792948744\n",
            "init   \t [ 0.45349343 -0.43216408]. \t  -0.5791878792948744 \t -0.5791878792948744\n",
            "1      \t [ 9.69498875 -9.42535902]. \t  -271.6675921188219 \t -0.5791878792948744\n",
            "2      \t [-9.83383251  5.77166529]. \t  -163.3285022998636 \t -0.5791878792948744\n",
            "3      \t [-3.97152767  9.51013426]. \t  -196.65833950916016 \t -0.5791878792948744\n",
            "4      \t [-9.65586204 -5.07440767]. \t  -144.73489822426617 \t -0.5791878792948744\n",
            "5      \t [1.10947828 5.5318851 ]. \t  -62.4344475515165 \t -0.5791878792948744\n",
            "6      \t [ 3.77011518 -4.40569277]. \t  -53.034026014752534 \t -0.5791878792948744\n",
            "7      \t [  1.83021021 -10.        ]. \t  -203.34966941173178 \t -0.5791878792948744\n",
            "8      \t [-6.306457    0.82958772]. \t  -41.14783143761312 \t -0.5791878792948744\n",
            "9      \t [10.        -3.8821353]. \t  -130.14194900068395 \t -0.5791878792948744\n",
            "10     \t [10.          4.79505147]. \t  -145.9850371821162 \t -0.5791878792948744\n",
            "11     \t [ 2.31617624 10.        ]. \t  -205.3646723606006 \t -0.5791878792948744\n",
            "12     \t [-4.6788184  -4.71119031]. \t  -66.28196997087227 \t -0.5791878792948744\n",
            "13     \t [-3.55317029  4.50491305]. \t  -53.21350239191737 \t -0.5791878792948744\n",
            "14     \t [-10. -10.]. \t  -300.0 \t -0.5791878792948744\n",
            "15     \t [2.95157711 1.32239773]. \t  -12.209278971150543 \t -0.5791878792948744\n",
            "16     \t [5.41915108 4.86924717]. \t  -76.78633441942151 \t -0.5791878792948744\n",
            "17     \t [-0.44601378 -5.94693251]. \t  -70.9309408935066 \t -0.5791878792948744\n",
            "18     \t [-8.67833546 10.        ]. \t  -275.31350640708087 \t -0.5791878792948744\n",
            "19     \t [ 5.64775772 -7.90914682]. \t  -157.00637414249516 \t -0.5791878792948744\n",
            "20     \t [-10.          -0.56538393]. \t  -100.63931797570056 \t -0.5791878792948744\n"
          ]
        }
      ]
    },
    {
      "cell_type": "code",
      "metadata": {
        "colab": {
          "base_uri": "https://localhost:8080/"
        },
        "id": "85OIXcg7GCaJ",
        "outputId": "aaa7437b-ad14-4f25-e64f-b15a9738c7cf"
      },
      "source": [
        "### ESTIMATED GP EI GRADIENTS\n",
        "\n",
        "np.random.seed(run_num_9)\n",
        "surrogate_approx_9 = GaussianProcess(cov_func, optimize=opt)\n",
        "\n",
        "approx_9 = GPGO_multi(surrogate_approx_9, Acquisition(util_grad_approx), objfunc, param)\n",
        "approx_9.run(init_evals=n_init, max_iter=iters)\n"
      ],
      "execution_count": 21,
      "outputs": [
        {
          "output_type": "stream",
          "name": "stdout",
          "text": [
            "Evaluation \t Proposed point \t  Current eval. \t Best eval.\n",
            "init   \t [-9.79251692  0.03749184]. \t  -95.896198949837 \t -53.418783741178075\n",
            "init   \t [-0.08453414 -7.32340942]. \t  -107.27179711012016 \t -53.418783741178075\n",
            "init   \t [-7.15777829 -5.62882649]. \t  -114.6011653140891 \t -53.418783741178075\n",
            "init   \t [-1.62983639 -5.03797663]. \t  -53.418783741178075 \t -53.418783741178075\n",
            "init   \t [-8.31880698 -3.0900272 ]. \t  -88.29908569649677 \t -53.418783741178075\n",
            "1      \t [6.0747954  9.66718496]. \t  -223.8120694300478 \t -53.418783741178075\n",
            "2      \t [-3.94738717  9.4159639 ]. \t  -192.90261763630335 \t -53.418783741178075\n",
            "3      \t [ 10. -10.]. \t  -300.0 \t -53.418783741178075\n",
            "4      \t [6.86954826 0.80695555]. \t  \u001b[92m-48.49304774759942\u001b[0m \t -48.49304774759942\n",
            "5      \t [-3.39160102  2.55645019]. \t  \u001b[92m-24.573832641307632\u001b[0m \t -24.573832641307632\n",
            "6      \t [-9.77111876  7.12537089]. \t  -197.01658247649232 \t -24.573832641307632\n",
            "7      \t [ 6.15812588 -5.13549413]. \t  -90.66911414544604 \t -24.573832641307632\n",
            "8      \t [1.7656986  4.78808874]. \t  -48.96927906292815 \t -24.573832641307632\n",
            "9      \t [10.          5.37128484]. \t  -157.70140158171824 \t -24.573832641307632\n",
            "10     \t [ 1.59897774 -0.69609415]. \t  \u001b[92m-3.5258239489091197\u001b[0m \t -3.5258239489091197\n",
            "11     \t [-10. -10.]. \t  -300.0 \t -3.5258239489091197\n",
            "12     \t [ 1.03519023 10.        ]. \t  -201.07161881606083 \t -3.5258239489091197\n",
            "13     \t [ -4.46066774 -10.        ]. \t  -219.89755670012818 \t -3.5258239489091197\n",
            "14     \t [  4.41339419 -10.        ]. \t  -219.47804828087544 \t -3.5258239489091197\n",
            "15     \t [10.         -2.51686873]. \t  -112.66925644902291 \t -3.5258239489091197\n",
            "16     \t [-4.10625246 -1.48446793]. \t  -21.268599344618096 \t -3.5258239489091197\n",
            "17     \t [-7.17540333  3.52026713]. \t  -76.2709742685295 \t -3.5258239489091197\n",
            "18     \t [5.72933479 4.9623848 ]. \t  -82.07580290600049 \t -3.5258239489091197\n",
            "19     \t [ 2.30944631 -3.75156916]. \t  -33.48208456258349 \t -3.5258239489091197\n",
            "20     \t [-1.87389017  5.86353394]. \t  -72.27352493934106 \t -3.5258239489091197\n"
          ]
        }
      ]
    },
    {
      "cell_type": "code",
      "metadata": {
        "colab": {
          "base_uri": "https://localhost:8080/"
        },
        "id": "QQBR-qJPGCcp",
        "outputId": "f89914b1-303e-48fe-f744-40bfc062d01b"
      },
      "source": [
        "### ESTIMATED GP EI GRADIENTS\n",
        "\n",
        "np.random.seed(run_num_10)\n",
        "surrogate_approx_10 = GaussianProcess(cov_func, optimize=opt)\n",
        "\n",
        "approx_10 = GPGO_multi(surrogate_approx_10, Acquisition(util_grad_approx), objfunc, param)\n",
        "approx_10.run(init_evals=n_init, max_iter=iters)\n"
      ],
      "execution_count": 22,
      "outputs": [
        {
          "output_type": "stream",
          "name": "stdout",
          "text": [
            "Evaluation \t Proposed point \t  Current eval. \t Best eval.\n",
            "init   \t [ 5.42641287 -9.58496101]. \t  -213.18891181932327 \t -56.66743785259343\n",
            "init   \t [2.6729647  4.97607765]. \t  -56.66743785259343 \t -56.66743785259343\n",
            "init   \t [-0.02985975 -5.50406709]. \t  -60.59040065376497 \t -56.66743785259343\n",
            "init   \t [-6.0387427   5.21061424]. \t  -90.76741505398337 \t -56.66743785259343\n",
            "init   \t [-6.61778327 -8.23320372]. \t  -179.36634226756874 \t -56.66743785259343\n",
            "1      \t [10. 10.]. \t  -300.0 \t -56.66743785259343\n",
            "2      \t [2.11155129 0.26933255]. \t  \u001b[92m-4.603728884330075\u001b[0m \t -4.603728884330075\n",
            "3      \t [8.50713746 1.33499849]. \t  -75.93582966295617 \t -4.603728884330075\n",
            "4      \t [ 7.31105236 -3.79432586]. \t  -82.24530415903486 \t -4.603728884330075\n",
            "5      \t [-7.55328158 -0.82551542]. \t  -58.415013996797406 \t -4.603728884330075\n",
            "6      \t [-0.33763749 10.        ]. \t  -200.11399907575498 \t -4.603728884330075\n",
            "7      \t [-10.          9.5824911]. \t  -283.64827140632167 \t -4.603728884330075\n",
            "8      \t [-2.55016496  1.00536235]. \t  -8.524848245188199 \t -4.603728884330075\n",
            "9      \t [-10.          -4.58478595]. \t  -142.04052444537683 \t -4.603728884330075\n",
            "10     \t [ 4.79260827 10.        ]. \t  -222.9690940376095 \t -4.603728884330075\n",
            "11     \t [-6.00999735 10.        ]. \t  -236.1200680871411 \t -4.603728884330075\n",
            "12     \t [ -1.69817603 -10.        ]. \t  -202.8838018316942 \t -4.603728884330075\n",
            "13     \t [10.         -7.85311266]. \t  -223.34275703381286 \t -4.603728884330075\n",
            "14     \t [-10.          3.0163024]. \t  -118.1961603339097 \t -4.603728884330075\n",
            "15     \t [7.3777616  5.77482704]. \t  -121.12862081256702 \t -4.603728884330075\n",
            "16     \t [-4.23848552 -3.87135002]. \t  -47.939461469284964 \t -4.603728884330075\n",
            "17     \t [3.84916597 2.23654981]. \t  -24.820388773083906 \t -4.603728884330075\n",
            "18     \t [-1.62467079  5.22204351]. \t  -57.1790321057727 \t -4.603728884330075\n",
            "19     \t [ 3.21348828 -2.949223  ]. \t  -27.722339493197353 \t -4.603728884330075\n",
            "20     \t [-10. -10.]. \t  -300.0 \t -4.603728884330075\n"
          ]
        }
      ]
    },
    {
      "cell_type": "code",
      "metadata": {
        "colab": {
          "base_uri": "https://localhost:8080/"
        },
        "id": "JS8ejeQ2GCfi",
        "outputId": "582d4ab8-91b6-43d4-8639-91204eda2804"
      },
      "source": [
        "### ESTIMATED GP EI GRADIENTS\n",
        "\n",
        "np.random.seed(run_num_11)\n",
        "surrogate_approx_11 = GaussianProcess(cov_func, optimize=opt)\n",
        "\n",
        "approx_11 = GPGO_multi(surrogate_approx_11, Acquisition(util_grad_approx), objfunc, param)\n",
        "approx_11.run(init_evals=n_init, max_iter=iters)\n"
      ],
      "execution_count": 23,
      "outputs": [
        {
          "output_type": "stream",
          "name": "stdout",
          "text": [
            "Evaluation \t Proposed point \t  Current eval. \t Best eval.\n",
            "init   \t [-6.39460622 -9.61049517]. \t  -225.61422357508457 \t -2.716881462565864\n",
            "init   \t [-0.73562947  4.49867858]. \t  -41.01736871863572 \t -2.716881462565864\n",
            "init   \t [-1.59592791 -0.29145804]. \t  -2.716881462565864 \t -2.716881462565864\n",
            "init   \t [-9.74438371 -0.25256785]. \t  -95.08059489374317 \t -2.716881462565864\n",
            "init   \t [8.83613305 7.01590179]. \t  -176.5230030066306 \t -2.716881462565864\n",
            "1      \t [ 1.99086793 -8.88652641]. \t  -161.90425830617428 \t -2.716881462565864\n",
            "2      \t [ 4.79903036 -1.6267314 ]. \t  -28.32320242923278 \t -2.716881462565864\n",
            "3      \t [ 10. -10.]. \t  -300.0 \t -2.716881462565864\n",
            "4      \t [-6.71873568  4.84048266]. \t  -92.0019537550583 \t -2.716881462565864\n",
            "5      \t [-2.65295416 -4.86020404]. \t  -54.28133238320795 \t -2.716881462565864\n",
            "6      \t [8.67395685 1.65576717]. \t  -80.72065735027714 \t -2.716881462565864\n",
            "7      \t [-3.29285138 10.        ]. \t  -210.84287019787428 \t -2.716881462565864\n",
            "8      \t [3.30283197 9.33927306]. \t  -185.35274163864426 \t -2.716881462565864\n",
            "9      \t [10.         -4.01049942]. \t  -132.16821114225687 \t -2.716881462565864\n",
            "10     \t [-10.           9.74955777]. \t  -290.10775346484826 \t -2.716881462565864\n",
            "11     \t [-10.          -5.56259051]. \t  -161.88482631458714 \t -2.716881462565864\n",
            "12     \t [3.89817824 3.80412059]. \t  -44.138460490957854 \t -2.716881462565864\n",
            "13     \t [ 5.37998892 -5.78497769]. \t  -95.87621440815623 \t -2.716881462565864\n",
            "14     \t [-5.24010353 -0.98483116]. \t  -29.39846981613453 \t -2.716881462565864\n",
            "15     \t [ 1.30494452 -3.61693095]. \t  -27.86725916447446 \t -2.716881462565864\n",
            "16     \t [1.43762464 0.61219905]. \t  -2.8163399439095333 \t -2.716881462565864\n",
            "17     \t [ -2.09104465 -10.        ]. \t  -204.37246773557777 \t -2.716881462565864\n",
            "18     \t [-3.6540172   2.24641386]. \t  -23.444592098937832 \t -2.716881462565864\n",
            "19     \t [-6.25227852 -4.53049421]. \t  -80.14174220245789 \t -2.716881462565864\n",
            "20     \t [  5.83418784 -10.        ]. \t  -234.0377477749081 \t -2.716881462565864\n"
          ]
        }
      ]
    },
    {
      "cell_type": "code",
      "metadata": {
        "colab": {
          "base_uri": "https://localhost:8080/"
        },
        "id": "DXwjUVZ4GCii",
        "outputId": "9e2acf6e-a41e-46b7-b69f-8ae97fd51aa7"
      },
      "source": [
        "### ESTIMATED GP EI GRADIENTS\n",
        "\n",
        "np.random.seed(run_num_12)\n",
        "surrogate_approx_12 = GaussianProcess(cov_func, optimize=opt)\n",
        "\n",
        "approx_12 = GPGO_multi(surrogate_approx_12, Acquisition(util_grad_approx), objfunc, param)\n",
        "approx_12.run(init_evals=n_init, max_iter=iters)\n"
      ],
      "execution_count": 24,
      "outputs": [
        {
          "output_type": "stream",
          "name": "stdout",
          "text": [
            "Evaluation \t Proposed point \t  Current eval. \t Best eval.\n",
            "init   \t [-6.91674315  4.80099393]. \t  -93.94042127407329 \t -23.318590147261595\n",
            "init   \t [-4.7336997   0.67478787]. \t  -23.318590147261595 \t -23.318590147261595\n",
            "init   \t [-9.70850075  8.37494016]. \t  -234.53423225249676 \t -23.318590147261595\n",
            "init   \t [ 8.01429708 -9.33157145]. \t  -238.38540908259807 \t -23.318590147261595\n",
            "init   \t [ 9.13898673 -7.25581357]. \t  -188.8147395776428 \t -23.318590147261595\n",
            "1      \t [4.66251955 4.05244711]. \t  -54.583743654491954 \t -23.318590147261595\n",
            "2      \t [-3.75432006 -8.6025265 ]. \t  -162.1018436659056 \t -23.318590147261595\n",
            "3      \t [ 1.18531109 -4.18637783]. \t  -36.45648099230573 \t -23.318590147261595\n",
            "4      \t [10. 10.]. \t  -300.0 \t -23.318590147261595\n",
            "5      \t [ 2.83533899 10.        ]. \t  -208.03914718063447 \t -23.318590147261595\n",
            "6      \t [-10. -10.]. \t  -300.0 \t -23.318590147261595\n",
            "7      \t [-9.64612869 -2.17170995]. \t  -102.48044690598128 \t -23.318590147261595\n",
            "8      \t [-3.21780806 10.        ]. \t  -210.35428873359277 \t -23.318590147261595\n",
            "9      \t [10.          0.83013818]. \t  -101.37825878618573 \t -23.318590147261595\n",
            "10     \t [ 2.01463473 -9.99440189]. \t  -203.83489142656586 \t -23.318590147261595\n",
            "11     \t [-0.90375474  4.55638054]. \t  -42.33797978714411 \t -23.318590147261595\n",
            "12     \t [ 6.02010845 -2.64907454]. \t  -50.2768975901846 \t -23.318590147261595\n",
            "13     \t [1.44826649 0.43222768]. \t  \u001b[92m-2.4711173615183704\u001b[0m \t -2.4711173615183704\n",
            "14     \t [-3.67231602 -3.67831778]. \t  -40.54594836467632 \t -2.4711173615183704\n",
            "15     \t [9.10850647 5.30335273]. \t  -139.21599054184236 \t -2.4711173615183704\n",
            "16     \t [ 4.56424242 -6.41995794]. \t  -103.26402884813592 \t -2.4711173615183704\n",
            "17     \t [10.         -3.19362368]. \t  -120.39846442242273 \t -2.4711173615183704\n",
            "18     \t [-1.21300415 -0.62673555]. \t  \u001b[92m-2.2569739665932076\u001b[0m \t -2.2569739665932076\n",
            "19     \t [-7.4978258  -5.99666006]. \t  -128.1372554803591 \t -2.2569739665932076\n",
            "20     \t [4.13517824 0.41926057]. \t  -17.4512579372992 \t -2.2569739665932076\n"
          ]
        }
      ]
    },
    {
      "cell_type": "code",
      "metadata": {
        "colab": {
          "base_uri": "https://localhost:8080/"
        },
        "id": "CphOPndPGClX",
        "outputId": "4634c7be-ec38-4934-c712-db694e66a99f"
      },
      "source": [
        "### ESTIMATED GP EI GRADIENTS\n",
        "\n",
        "np.random.seed(run_num_13)\n",
        "surrogate_approx_13 = GaussianProcess(cov_func, optimize=opt)\n",
        "\n",
        "approx_13 = GPGO_multi(surrogate_approx_13, Acquisition(util_grad_approx), objfunc, param)\n",
        "approx_13.run(init_evals=n_init, max_iter=iters)\n"
      ],
      "execution_count": 25,
      "outputs": [
        {
          "output_type": "stream",
          "name": "stdout",
          "text": [
            "Evaluation \t Proposed point \t  Current eval. \t Best eval.\n",
            "init   \t [ 5.55404821 -5.2491756 ]. \t  -85.95514048001408 \t -47.45541115581226\n",
            "init   \t [6.48557065 9.31498396]. \t  -215.600479080162 \t -47.45541115581226\n",
            "init   \t [ 9.45202228 -0.93101505]. \t  -91.0743031984701 \t -47.45541115581226\n",
            "init   \t [2.18084926 5.51053029]. \t  -65.48799167425372 \t -47.45541115581226\n",
            "init   \t [2.8322669  4.44036459]. \t  -47.45541115581226 \t -47.45541115581226\n",
            "1      \t [-8.69830926  2.59657998]. \t  -89.14503917528086 \t -47.45541115581226\n",
            "2      \t [-5.9673185  -6.48540274]. \t  -119.72978734259729 \t -47.45541115581226\n",
            "3      \t [  0.08552322 -10.        ]. \t  -200.0073142220086 \t -47.45541115581226\n",
            "4      \t [-10.  10.]. \t  -300.0 \t -47.45541115581226\n",
            "5      \t [ 0.01120601 -1.79277298]. \t  \u001b[92m-6.428195520869893\u001b[0m \t -6.428195520869893\n",
            "6      \t [-4.23807502  7.90243497]. \t  -142.85823662231138 \t -6.428195520869893\n",
            "7      \t [ 10. -10.]. \t  -300.0 \t -6.428195520869893\n",
            "8      \t [10.          4.72475467]. \t  -144.64661331568422 \t -6.428195520869893\n",
            "9      \t [-2.9927451   2.30727759]. \t  -19.603582996483016 \t -6.428195520869893\n",
            "10     \t [-10.          -2.74071616]. \t  -115.02305010351395 \t -6.428195520869893\n",
            "11     \t [-10. -10.]. \t  -300.0 \t -6.428195520869893\n",
            "12     \t [ 4.35426426 -0.21223921]. \t  -19.049708189446612 \t -6.428195520869893\n",
            "13     \t [ 0.49676408 10.        ]. \t  -200.2467745462434 \t -6.428195520869893\n",
            "14     \t [-5.00272334 -1.67849873]. \t  -30.661956804046447 \t -6.428195520869893\n",
            "15     \t [-1.34777065 -5.44603567]. \t  -61.13509465756355 \t -6.428195520869893\n",
            "16     \t [  4.99037735 -10.        ]. \t  -224.90386608306918 \t -6.428195520869893\n",
            "17     \t [10.         -5.31127259]. \t  -156.4192330609077 \t -6.428195520869893\n",
            "18     \t [ -4.19126596 -10.        ]. \t  -217.56671030614663 \t -6.428195520869893\n",
            "19     \t [6.37925615 2.77685715]. \t  -56.11678020869892 \t -6.428195520869893\n",
            "20     \t [-7.98263674  6.33834272]. \t  -144.07166617735163 \t -6.428195520869893\n"
          ]
        }
      ]
    },
    {
      "cell_type": "code",
      "metadata": {
        "colab": {
          "base_uri": "https://localhost:8080/"
        },
        "id": "ojHTeARNGCoi",
        "outputId": "52742278-ca29-4cd7-9f1d-eaf2e449611c"
      },
      "source": [
        "### ESTIMATED GP EI GRADIENTS\n",
        "\n",
        "np.random.seed(run_num_14)\n",
        "surrogate_approx_14 = GaussianProcess(cov_func, optimize=opt)\n",
        "\n",
        "approx_14 = GPGO_multi(surrogate_approx_14, Acquisition(util_grad_approx), objfunc, param)\n",
        "approx_14.run(init_evals=n_init, max_iter=iters)\n"
      ],
      "execution_count": 26,
      "outputs": [
        {
          "output_type": "stream",
          "name": "stdout",
          "text": [
            "Evaluation \t Proposed point \t  Current eval. \t Best eval.\n",
            "init   \t [0.27886688 5.46330104]. \t  -59.77308327621332 \t -26.48525945153859\n",
            "init   \t [ 7.40855371 -9.83906103]. \t  -248.5009120212351 \t -26.48525945153859\n",
            "init   \t [-3.80528149  9.15207479]. \t  -182.0011130426615 \t -26.48525945153859\n",
            "init   \t [ 0.26233425 -3.6343115 ]. \t  -26.48525945153859 \t -26.48525945153859\n",
            "init   \t [ 0.78399875 -5.57490115]. \t  -62.773699734431055 \t -26.48525945153859\n",
            "1      \t [ 9.82765998 -0.95725402]. \t  -98.41557117870066 \t -26.48525945153859\n",
            "2      \t [-8.1477833   0.47898709]. \t  -66.84523003287876 \t -26.48525945153859\n",
            "3      \t [ -7.18460402 -10.        ]. \t  -251.61853499539058 \t -26.48525945153859\n",
            "4      \t [10.          9.25482849]. \t  -271.3037008127159 \t -26.48525945153859\n",
            "5      \t [-10.  10.]. \t  -300.0 \t -26.48525945153859\n",
            "6      \t [3.93552436 0.90552567]. \t  \u001b[92m-17.128305452787583\u001b[0m \t -17.128305452787583\n",
            "7      \t [ 3.75097782 10.        ]. \t  -214.06983463902367 \t -17.128305452787583\n",
            "8      \t [-10.          -4.85205139]. \t  -147.08480546193425 \t -17.128305452787583\n",
            "9      \t [8.07494064 4.08030743]. \t  -98.50248373686033 \t -17.128305452787583\n",
            "10     \t [-2.65700209  0.81845566]. \t  \u001b[92m-8.399399449963648\u001b[0m \t -8.399399449963648\n",
            "11     \t [-4.62908341 -4.82741089]. \t  -68.03620505597543 \t -8.399399449963648\n",
            "12     \t [ 5.8816756  -4.46726148]. \t  -74.506958037266 \t -8.399399449963648\n",
            "13     \t [-7.38165187  5.34704555]. \t  -111.67057638489499 \t -8.399399449963648\n",
            "14     \t [  2.21556956 -10.        ]. \t  -204.9087484554286 \t -8.399399449963648\n",
            "15     \t [-2.46588101 -9.15409114]. \t  -173.67533837239114 \t -8.399399449963648\n",
            "16     \t [10.         -5.83671004]. \t  -168.13436813263382 \t -8.399399449963648\n",
            "17     \t [4.25774341 5.52318802]. \t  -79.13959064695538 \t -8.399399449963648\n",
            "18     \t [-3.46619853  4.20635464]. \t  -47.401370996760434 \t -8.399399449963648\n",
            "19     \t [0.53390021 0.18491715]. \t  \u001b[92m-0.3534381406853866\u001b[0m \t -0.3534381406853866\n",
            "20     \t [0.54244496 1.81834501]. \t  -6.907003703639837 \t -0.3534381406853866\n"
          ]
        }
      ]
    },
    {
      "cell_type": "code",
      "metadata": {
        "colab": {
          "base_uri": "https://localhost:8080/"
        },
        "id": "vCJzn4vWGCs3",
        "outputId": "0ce2d26a-65d6-44b2-8483-1996ddf5083d"
      },
      "source": [
        "### ESTIMATED GP EI GRADIENTS\n",
        "\n",
        "np.random.seed(run_num_15)\n",
        "surrogate_approx_15 = GaussianProcess(cov_func, optimize=opt)\n",
        "\n",
        "approx_15 = GPGO_multi(surrogate_approx_15, Acquisition(util_grad_approx), objfunc, param)\n",
        "approx_15.run(init_evals=n_init, max_iter=iters)\n"
      ],
      "execution_count": 27,
      "outputs": [
        {
          "output_type": "stream",
          "name": "stdout",
          "text": [
            "Evaluation \t Proposed point \t  Current eval. \t Best eval.\n",
            "init   \t [ 6.97635395 -6.4220815 ]. \t  -131.15577599697437 \t -20.897907943365695\n",
            "init   \t [-8.91273571 -2.76923108]. \t  -94.77413943464936 \t -20.897907943365695\n",
            "init   \t [-4.49198143  0.6000045 ]. \t  -20.897907943365695 \t -20.897907943365695\n",
            "init   \t [-3.88162169 -3.91051282]. \t  -45.651207890195394 \t -20.897907943365695\n",
            "init   \t [-7.76517448 -5.00201972]. \t  -110.33833725681367 \t -20.897907943365695\n",
            "1      \t [-1.08003705  9.49213271]. \t  -181.3676469637466 \t -20.897907943365695\n",
            "2      \t [-9.69991687  7.99454818]. \t  -221.91398842692476 \t -20.897907943365695\n",
            "3      \t [6.77579855 5.22553342]. \t  -100.52384513514872 \t -20.897907943365695\n",
            "4      \t [ 2.46902528 -0.89638552]. \t  \u001b[92m-7.7030998277605995\u001b[0m \t -7.7030998277605995\n",
            "5      \t [-3.24248106 -9.76286703]. \t  -201.14082883334697 \t -7.7030998277605995\n",
            "6      \t [ 8.91031271 -0.30844092]. \t  -79.58394412611301 \t -7.7030998277605995\n",
            "7      \t [0.14773612 3.77329305]. \t  -28.49730683528925 \t -7.7030998277605995\n",
            "8      \t [  2.56003188 -10.        ]. \t  -206.55376324062496 \t -7.7030998277605995\n",
            "9      \t [10. 10.]. \t  -300.0 \t -7.7030998277605995\n",
            "10     \t [-10. -10.]. \t  -300.0 \t -7.7030998277605995\n",
            "11     \t [-10.           2.47604224]. \t  -112.26157032625254 \t -7.7030998277605995\n",
            "12     \t [-4.83168837  5.56711275]. \t  -85.33070122326319 \t -7.7030998277605995\n",
            "13     \t [ 4.34997553 10.        ]. \t  -218.92228715441007 \t -7.7030998277605995\n",
            "14     \t [ 0.91834338 -5.10523613]. \t  -52.970226427879645 \t -7.7030998277605995\n",
            "15     \t [-5.6081284 10.       ]. \t  -231.45110414566506 \t -7.7030998277605995\n",
            "16     \t [ 10. -10.]. \t  -300.0 \t -7.7030998277605995\n",
            "17     \t [-0.97845205 -0.84025255]. \t  \u001b[92m-2.369417098040162\u001b[0m \t -2.369417098040162\n",
            "18     \t [3.96254352 2.18842802]. \t  -25.280185503551575 \t -2.369417098040162\n",
            "19     \t [ 5.40029319 -2.533296  ]. \t  -41.99834379216061 \t -2.369417098040162\n",
            "20     \t [2.7224499 6.1999883]. \t  -84.29144326830945 \t -2.369417098040162\n"
          ]
        }
      ]
    },
    {
      "cell_type": "code",
      "metadata": {
        "colab": {
          "base_uri": "https://localhost:8080/"
        },
        "id": "bGGkhp-kGCw6",
        "outputId": "739451e5-7eaa-440d-a34c-b9cd17bfe1c0"
      },
      "source": [
        "### ESTIMATED GP EI GRADIENTS\n",
        "\n",
        "np.random.seed(run_num_16)\n",
        "surrogate_approx_16 = GaussianProcess(cov_func, optimize=opt)\n",
        "\n",
        "approx_16 = GPGO_multi(surrogate_approx_16, Acquisition(util_grad_approx), objfunc, param)\n",
        "approx_16.run(init_evals=n_init, max_iter=iters)\n"
      ],
      "execution_count": 28,
      "outputs": [
        {
          "output_type": "stream",
          "name": "stdout",
          "text": [
            "Evaluation \t Proposed point \t  Current eval. \t Best eval.\n",
            "init   \t [-5.53417842  0.46326683]. \t  -31.056363058280656 \t -31.056363058280656\n",
            "init   \t [ 1.01402913 -9.087961  ]. \t  -166.21032525826828 \t -31.056363058280656\n",
            "init   \t [-2.78542329 -5.53838117]. \t  -69.10591480510183 \t -31.056363058280656\n",
            "init   \t [ 3.77452324 -6.7253715 ]. \t  -104.70826928786903 \t -31.056363058280656\n",
            "init   \t [-8.59350266  8.8202172 ]. \t  -229.44075111810224 \t -31.056363058280656\n",
            "1      \t [3.97807748 9.58934138]. \t  -199.7360368183673 \t -31.056363058280656\n",
            "2      \t [-10. -10.]. \t  -300.0 \t -31.056363058280656\n",
            "3      \t [ 10. -10.]. \t  -300.0 \t -31.056363058280656\n",
            "4      \t [ 8.8300141  -0.10570929]. \t  -77.99149800000582 \t -31.056363058280656\n",
            "5      \t [-2.22531694  5.42968011]. \t  -63.91488757640133 \t -31.056363058280656\n",
            "6      \t [10.          9.06367121]. \t  -264.3002714457817 \t -31.056363058280656\n",
            "7      \t [3.59831847 3.26649101]. \t  -34.287822884607664 \t -31.056363058280656\n",
            "8      \t [-8.80462948 -4.08195164]. \t  -110.8461586030564 \t -31.056363058280656\n",
            "9      \t [ 1.11818902 -1.55861194]. \t  \u001b[92m-6.108889056722611\u001b[0m \t -6.108889056722611\n",
            "10     \t [-10.           3.23646336]. \t  -120.94939021307559 \t -6.108889056722611\n",
            "11     \t [ -4.67397017 -10.        ]. \t  -221.84599713529047 \t -6.108889056722611\n",
            "12     \t [10.         -4.83878047]. \t  -146.8275929091181 \t -6.108889056722611\n",
            "13     \t [-1.24717813 10.        ]. \t  -201.55545329018156 \t -6.108889056722611\n",
            "14     \t [8.02884543 4.54596087]. \t  -105.79387944795678 \t -6.108889056722611\n",
            "15     \t [ 4.93367817 -2.25102916]. \t  -34.47544477466453 \t -6.108889056722611\n",
            "16     \t [-1.30338209  1.19368681]. \t  \u001b[92m-4.548581261481097\u001b[0m \t -4.548581261481097\n",
            "17     \t [-6.18297049  4.94656516]. \t  -87.16613785598682 \t -4.548581261481097\n",
            "18     \t [-2.40089835 -1.70348696]. \t  -11.568048525343977 \t -4.548581261481097\n",
            "19     \t [1.488023   6.30009601]. \t  -81.59663202788668 \t -4.548581261481097\n",
            "20     \t [  5.74078964 -10.        ]. \t  -232.9566656773152 \t -4.548581261481097\n"
          ]
        }
      ]
    },
    {
      "cell_type": "code",
      "metadata": {
        "id": "Yrs2mp7hGC1Z",
        "colab": {
          "base_uri": "https://localhost:8080/"
        },
        "outputId": "38be706f-df4a-4ec8-9169-a5b0c737c4e8"
      },
      "source": [
        "### ESTIMATED GP EI GRADIENTS\n",
        "\n",
        "np.random.seed(run_num_17)\n",
        "surrogate_approx_17 = GaussianProcess(cov_func, optimize=opt)\n",
        "\n",
        "approx_17 = GPGO_multi(surrogate_approx_17, Acquisition(util_grad_approx), objfunc, param)\n",
        "approx_17.run(init_evals=n_init, max_iter=iters)\n"
      ],
      "execution_count": 29,
      "outputs": [
        {
          "output_type": "stream",
          "name": "stdout",
          "text": [
            "Evaluation \t Proposed point \t  Current eval. \t Best eval.\n",
            "init   \t [-4.10669995  0.61173511]. \t  -17.613424143360255 \t -12.137436774523842\n",
            "init   \t [-6.16958426 -8.64199284]. \t  -187.43185031516856 \t -12.137436774523842\n",
            "init   \t [5.7397092  3.12667044]. \t  -52.49639772521824 \t -12.137436774523842\n",
            "init   \t [2.75041792 1.51205788]. \t  -12.137436774523842 \t -12.137436774523842\n",
            "init   \t [-9.21874168 -2.84372791]. \t  -101.1587749488933 \t -12.137436774523842\n",
            "1      \t [ 9.93745831 -5.20505887]. \t  -152.93835326221776 \t -12.137436774523842\n",
            "2      \t [-3.82122471  9.33260309]. \t  -188.79671899962287 \t -12.137436774523842\n",
            "3      \t [ 1.66132937 -6.85580915]. \t  -96.76425352595389 \t -12.137436774523842\n",
            "4      \t [10.          7.55919555]. \t  -214.282874639876 \t -12.137436774523842\n",
            "5      \t [3.20439915 9.54064132]. \t  -192.31584760495312 \t -12.137436774523842\n",
            "6      \t [-9.58803875  7.45814352]. \t  -203.17829655686515 \t -12.137436774523842\n",
            "7      \t [  6.65341186 -10.        ]. \t  -244.26788941217293 \t -12.137436774523842\n",
            "8      \t [0.59497739 5.1282014 ]. \t  -52.950897275473906 \t -12.137436774523842\n",
            "9      \t [10.          0.25805991]. \t  -100.13318983450213 \t -12.137436774523842\n",
            "10     \t [-2.9666336  -4.19527256]. \t  -44.00153853464825 \t -12.137436774523842\n",
            "11     \t [ 5.12808353 -2.74637825]. \t  -41.38242766876177 \t -12.137436774523842\n",
            "12     \t [-10.           2.21470378]. \t  -109.8098256820709 \t -12.137436774523842\n",
            "13     \t [-5.43721707  4.69820701]. \t  -73.709627566946 \t -12.137436774523842\n",
            "14     \t [ -1.61410277 -10.        ]. \t  -202.60532774290468 \t -12.137436774523842\n",
            "15     \t [ 0.70855766 -1.95812565]. \t  \u001b[92m-8.170566105163735\u001b[0m \t -8.170566105163735\n",
            "16     \t [-0.71297678  1.35057321]. \t  \u001b[92m-4.156431864137297\u001b[0m \t -4.156431864137297\n",
            "17     \t [-10.          -6.48638873]. \t  -184.1464776171998 \t -4.156431864137297\n",
            "18     \t [6.02595402 6.75502307]. \t  -127.57279522398176 \t -4.156431864137297\n",
            "19     \t [ 5.71873329 -6.14675588]. \t  -108.26912623622238 \t -4.156431864137297\n",
            "20     \t [10.          3.79629757]. \t  -128.82375047372892 \t -4.156431864137297\n"
          ]
        }
      ]
    },
    {
      "cell_type": "code",
      "metadata": {
        "id": "f0HIEP3PIUEa",
        "colab": {
          "base_uri": "https://localhost:8080/"
        },
        "outputId": "6530823a-67f8-4fe2-c03c-caec8193a5aa"
      },
      "source": [
        "### ESTIMATED GP EI GRADIENTS\n",
        "\n",
        "np.random.seed(run_num_18)\n",
        "surrogate_approx_18 = GaussianProcess(cov_func, optimize=opt)\n",
        "\n",
        "approx_18 = GPGO_multi(surrogate_approx_18, Acquisition(util_grad_approx), objfunc, param)\n",
        "approx_18.run(init_evals=n_init, max_iter=iters)\n"
      ],
      "execution_count": 30,
      "outputs": [
        {
          "output_type": "stream",
          "name": "stdout",
          "text": [
            "Evaluation \t Proposed point \t  Current eval. \t Best eval.\n",
            "init   \t [3.00748483 0.10906747]. \t  -9.068756459576363 \t -9.068756459576363\n",
            "init   \t [ 7.57202942 -6.36319549]. \t  -138.3161432668939 \t -9.068756459576363\n",
            "init   \t [7.04466137 5.00272572]. \t  -99.6817831686958 \t -9.068756459576363\n",
            "init   \t [3.32203335 9.75790897]. \t  -201.4694803352836 \t -9.068756459576363\n",
            "init   \t [-4.86063155 -9.43388149]. \t  -201.6219791510955 \t -9.068756459576363\n",
            "1      \t [-6.1664519   4.28513481]. \t  -74.74988979878172 \t -9.068756459576363\n",
            "2      \t [-6.07110106 -2.27098711]. \t  -47.173032968123124 \t -9.068756459576363\n",
            "3      \t [-10.  10.]. \t  -300.0 \t -9.068756459576363\n",
            "4      \t [-2.33775535  8.28880862]. \t  -142.8737966101193 \t -9.068756459576363\n",
            "5      \t [ 4.59940623 -9.59713586]. \t  -205.36457092968183 \t -9.068756459576363\n",
            "6      \t [-0.77788299 -4.73427196]. \t  -45.431763852455845 \t -9.068756459576363\n",
            "7      \t [10. 10.]. \t  -300.0 \t -9.068756459576363\n",
            "8      \t [ 9.48968703 -0.30330646]. \t  -90.23814953204177 \t -9.068756459576363\n",
            "9      \t [-10.          -6.28129572]. \t  -178.90935181639236 \t -9.068756459576363\n",
            "10     \t [-1.8150177   1.10450276]. \t  \u001b[92m-5.734141920432893\u001b[0m \t -5.734141920432893\n",
            "11     \t [-10.           0.86675761]. \t  -101.50253749681444 \t -5.734141920432893\n",
            "12     \t [1.55961268 4.61251488]. \t  -44.98297870570375 \t -5.734141920432893\n",
            "13     \t [ 3.60484529 -3.9354396 ]. \t  -43.970279264309994 \t -5.734141920432893\n",
            "14     \t [ -9.05867374 -10.        ]. \t  -282.0595698415638 \t -5.734141920432893\n",
            "15     \t [-5.99047409  9.73183458]. \t  -225.30298859781234 \t -5.734141920432893\n",
            "16     \t [ 10. -10.]. \t  -300.0 \t -5.734141920432893\n",
            "17     \t [ -0.14119625 -10.        ]. \t  -200.0199363815411 \t -5.734141920432893\n",
            "18     \t [5.90779189 1.21528101]. \t  -37.85582084292731 \t -5.734141920432893\n",
            "19     \t [-2.23963319  4.17974311]. \t  -39.95646176370147 \t -5.734141920432893\n",
            "20     \t [-9.74695034  5.53052038]. \t  -156.17635227665565 \t -5.734141920432893\n"
          ]
        }
      ]
    },
    {
      "cell_type": "code",
      "metadata": {
        "id": "S3mxRQDLIUPC",
        "colab": {
          "base_uri": "https://localhost:8080/"
        },
        "outputId": "0739ae26-655c-4f80-c923-e110760527a7"
      },
      "source": [
        "### ESTIMATED GP EI GRADIENTS\n",
        "\n",
        "np.random.seed(run_num_19)\n",
        "surrogate_approx_19 = GaussianProcess(cov_func, optimize=opt)\n",
        "\n",
        "approx_19 = GPGO_multi(surrogate_approx_19, Acquisition(util_grad_approx), objfunc, param)\n",
        "approx_19.run(init_evals=n_init, max_iter=iters)\n"
      ],
      "execution_count": 31,
      "outputs": [
        {
          "output_type": "stream",
          "name": "stdout",
          "text": [
            "Evaluation \t Proposed point \t  Current eval. \t Best eval.\n",
            "init   \t [-8.04932797  5.22499433]. \t  -119.39281225846176 \t -87.03025225125222\n",
            "init   \t [-5.06124054 -7.23736625]. \t  -130.3750962570555 \t -87.03025225125222\n",
            "init   \t [-3.37106873 -8.3400087 ]. \t  -150.4755946408245 \t -87.03025225125222\n",
            "init   \t [3.43954163 6.13187596]. \t  -87.03025225125222 \t -87.03025225125222\n",
            "init   \t [9.65483829 2.7132147 ]. \t  -107.93897039562282 \t -87.03025225125222\n",
            "1      \t [ 10. -10.]. \t  -300.0 \t -87.03025225125222\n",
            "2      \t [ 4.81772344 -2.77685984]. \t  \u001b[92m-38.632360201328204\u001b[0m \t -38.632360201328204\n",
            "3      \t [10. 10.]. \t  -300.0 \t -38.632360201328204\n",
            "4      \t [-9.64931371 -1.76781368]. \t  -99.35958538505903 \t -38.632360201328204\n",
            "5      \t [-1.5588856  -0.21683274]. \t  \u001b[92m-2.524157178764308\u001b[0m \t -2.524157178764308\n",
            "6      \t [-2.2233185   8.40664734]. \t  -146.2865841157912 \t -2.524157178764308\n",
            "7      \t [ 2.6329587  -8.75723308]. \t  -160.31073385623222 \t -2.524157178764308\n",
            "8      \t [-10. -10.]. \t  -300.0 \t -2.524157178764308\n",
            "9      \t [-0.06294001 -4.2260638 ]. \t  -35.723191887677444 \t -2.524157178764308\n",
            "10     \t [10.         -3.99071098]. \t  -131.8515481797443 \t -2.524157178764308\n",
            "11     \t [2.34077615 1.32689792]. \t  -9.000549178116794 \t -2.524157178764308\n",
            "12     \t [-7.21306942 10.        ]. \t  -252.02837052690163 \t -2.524157178764308\n",
            "13     \t [-3.31179043  3.4471975 ]. \t  -34.73429708631966 \t -2.524157178764308\n",
            "14     \t [-4.85792757 -2.29928496]. \t  -34.17288294995451 \t -2.524157178764308\n",
            "15     \t [ 6.57136176 -6.76598932]. \t  -134.74001828186346 \t -2.524157178764308\n",
            "16     \t [ 1.98422095 10.        ]. \t  -203.93713279789492 \t -2.524157178764308\n",
            "17     \t [5.81844244 1.18805085]. \t  -36.67720202937391 \t -2.524157178764308\n",
            "18     \t [-6.66316746  1.22769813]. \t  -47.41228602570125 \t -2.524157178764308\n",
            "19     \t [7.54067587 6.33129262]. \t  -137.03232500113273 \t -2.524157178764308\n",
            "20     \t [-9.16362022 -5.75654014]. \t  -150.24744445003546 \t -2.524157178764308\n"
          ]
        }
      ]
    },
    {
      "cell_type": "code",
      "metadata": {
        "id": "Aawd59dRIUYn",
        "colab": {
          "base_uri": "https://localhost:8080/"
        },
        "outputId": "3a7df186-1ff9-454d-dd5b-560898a9e2c3"
      },
      "source": [
        "### ESTIMATED GP EI GRADIENTS\n",
        "\n",
        "np.random.seed(run_num_20)\n",
        "surrogate_approx_20 = GaussianProcess(cov_func, optimize=opt)\n",
        "\n",
        "approx_20 = GPGO_multi(surrogate_approx_20, Acquisition(util_grad_approx), objfunc, param)\n",
        "approx_20.run(init_evals=n_init, max_iter=iters)\n"
      ],
      "execution_count": 32,
      "outputs": [
        {
          "output_type": "stream",
          "name": "stdout",
          "text": [
            "Evaluation \t Proposed point \t  Current eval. \t Best eval.\n",
            "init   \t [1.76261602 7.95427456]. \t  -129.64778273349407 \t -6.161449614183514\n",
            "init   \t [7.83061459 6.31674955]. \t  -141.12117450686426 \t -6.161449614183514\n",
            "init   \t [-9.28220829  3.83515164]. \t  -115.57616682517047 \t -6.161449614183514\n",
            "init   \t [-2.42638116  0.37021891]. \t  -6.161449614183514 \t -6.161449614183514\n",
            "init   \t [ 3.15902931 -6.12299564]. \t  -84.96161746112533 \t -6.161449614183514\n",
            "1      \t [-4.19925206 -9.25460107]. \t  -188.9289997061697 \t -6.161449614183514\n",
            "2      \t [-10.          -4.06585617]. \t  -133.06237275844177 \t -6.161449614183514\n",
            "3      \t [-4.56172279  9.14761084]. \t  -188.16688311626407 \t -6.161449614183514\n",
            "4      \t [ 9.03563127 -5.57761678]. \t  -143.86225043765864 \t -6.161449614183514\n",
            "5      \t [9.73284756 0.68872827]. \t  -95.67701492801461 \t -6.161449614183514\n",
            "6      \t [ 2.9365067  -0.38705087]. \t  -8.922688329003975 \t -6.161449614183514\n",
            "7      \t [-9.96159228  9.21778082]. \t  -269.1682870951902 \t -6.161449614183514\n",
            "8      \t [-1.91724646 -4.31713334]. \t  -40.95111458902799 \t -6.161449614183514\n",
            "9      \t [-10. -10.]. \t  -300.0 \t -6.161449614183514\n",
            "10     \t [-3.62444214  4.27708712]. \t  -49.72352919952227 \t -6.161449614183514\n",
            "11     \t [-6.6130336  -0.43418888]. \t  -44.10925341737123 \t -6.161449614183514\n",
            "12     \t [  6.4297412 -10.       ]. \t  -241.3415719405954 \t -6.161449614183514\n",
            "13     \t [3.80843102 3.60528787]. \t  -40.50034810775807 \t -6.161449614183514\n",
            "14     \t [ 6.58706708 -2.39712962]. \t  -54.881913519331455 \t -6.161449614183514\n",
            "15     \t [  0.66034502 -10.        ]. \t  -200.43605553897726 \t -6.161449614183514\n",
            "16     \t [ 5.65109566 10.        ]. \t  -231.93488213114767 \t -6.161449614183514\n",
            "17     \t [0.08353489 2.67751909]. \t  -14.345195048898788 \t -6.161449614183514\n",
            "18     \t [-5.85557493 -5.04410393]. \t  -85.17372671042284 \t -6.161449614183514\n",
            "19     \t [-10.          -0.01979347]. \t  -100.00078356254147 \t -6.161449614183514\n",
            "20     \t [ 0.10441693 -1.37879062]. \t  \u001b[92m-3.8130300257417873\u001b[0m \t -3.8130300257417873\n"
          ]
        }
      ]
    },
    {
      "cell_type": "code",
      "metadata": {
        "id": "xkgzPRbBTHaq",
        "colab": {
          "base_uri": "https://localhost:8080/"
        },
        "outputId": "3d2721c0-fbb9-4676-a34c-fff9eabcf763"
      },
      "source": [
        "end_approx = time.time()\n",
        "end_approx\n",
        "\n",
        "time_approx = end_approx - start_approx\n",
        "time_approx\n",
        "\n",
        "start_exact = time.time()\n",
        "start_exact"
      ],
      "execution_count": 33,
      "outputs": [
        {
          "output_type": "execute_result",
          "data": {
            "text/plain": [
              "1643197853.632382"
            ]
          },
          "metadata": {},
          "execution_count": 33
        }
      ]
    },
    {
      "cell_type": "code",
      "metadata": {
        "id": "7CG3Ndvb16Rb",
        "colab": {
          "base_uri": "https://localhost:8080/"
        },
        "outputId": "53d5b17e-4464-4325-daee-f9e0bfc32aba"
      },
      "source": [
        "### EXACT GP EI GRADIENTS\n",
        "\n",
        "np.random.seed(run_num_1)\n",
        "surrogate_exact_1 = dGaussianProcess(cov_func, optimize=opt)\n",
        "\n",
        "exact_1 = dGPGO(surrogate_exact_1, Acquisition_new(util_grad_exact), objfunc, param)\n",
        "exact_1.run(init_evals=n_init, max_iter=iters)\n"
      ],
      "execution_count": 34,
      "outputs": [
        {
          "output_type": "stream",
          "name": "stdout",
          "text": [
            "Evaluation \t Proposed point \t  Current eval. \t Best eval.\n",
            "init   \t [-1.65955991  4.40648987]. \t  -41.5884450098667 \t -5.468172821636052\n",
            "init   \t [-9.9977125  -3.95334855]. \t  -131.21218477957908 \t -5.468172821636052\n",
            "init   \t [-7.06488218 -8.1532281 ]. \t  -182.86281732102734 \t -5.468172821636052\n",
            "init   \t [-6.27479577 -3.08878546]. \t  -58.4542532110911 \t -5.468172821636052\n",
            "init   \t [-2.06465052  0.77633468]. \t  -5.468172821636052 \t -5.468172821636052\n",
            "1      \t [ 7.89213327 -8.29911577]. \t  -200.03641276683908 \t -5.468172821636052\n",
            "2      \t [7.66612182 2.47344414]. \t  -71.00527566059496 \t -5.468172821636052\n",
            "3      \t [1.62717855 9.40039978]. \t  -179.3827421328839 \t -5.468172821636052\n",
            "4      \t [-9.56950389  8.95940422]. \t  -252.11725289788865 \t -5.468172821636052\n",
            "5      \t [ 2.56152397 -4.28847437]. \t  -43.34342980630102 \t -5.468172821636052\n",
            "6      \t [-7.86674599  2.6652697 ]. \t  -76.09301765139438 \t -5.468172821636052\n",
            "7      \t [  1.7520112 -10.       ]. \t  -203.0695432281605 \t -5.468172821636052\n",
            "8      \t [ 7.63227824 10.        ]. \t  -258.251671139238 \t -5.468172821636052\n",
            "9      \t [-3.94391545  9.7746777 ]. \t  -206.64311729506667 \t -5.468172821636052\n",
            "10     \t [10.         -2.73214576]. \t  -114.9292409003368 \t -5.468172821636052\n",
            "11     \t [2.59748279 2.11594981]. \t  -15.701404073086259 \t -5.468172821636052\n",
            "12     \t [-1.98896471 -6.91640767]. \t  -99.62937071579132 \t -5.468172821636052\n",
            "13     \t [ 5.50167143 -1.29557014]. \t  -33.62539248396942 \t -5.468172821636052\n",
            "14     \t [10.          6.08875264]. \t  -174.1458173887483 \t -5.468172821636052\n",
            "15     \t [4.50311384 5.97556456]. \t  -91.6927778070434 \t -5.468172821636052\n",
            "16     \t [ 0.85378836 -1.08613714]. \t  \u001b[92m-3.0883423221235793\u001b[0m \t -3.0883423221235793\n",
            "17     \t [-0.92252778 -3.29308659]. \t  -22.539896113108043 \t -3.0883423221235793\n",
            "18     \t [ 5.99522769 -4.57888169]. \t  -77.87507018887402 \t -3.0883423221235793\n",
            "19     \t [-6.50569659  6.44115325]. \t  -125.3009986404355 \t -3.0883423221235793\n",
            "20     \t [-4.77052877  0.22838893]. \t  -22.862267734219998 \t -3.0883423221235793\n"
          ]
        }
      ]
    },
    {
      "cell_type": "code",
      "metadata": {
        "id": "-ilCPSAu9SAg",
        "colab": {
          "base_uri": "https://localhost:8080/"
        },
        "outputId": "be3a9a91-07ed-41d1-d61b-996f47a390f1"
      },
      "source": [
        "### EXACT GP EI GRADIENTS\n",
        "\n",
        "np.random.seed(run_num_2)\n",
        "surrogate_exact_2 = dGaussianProcess(cov_func, optimize=opt)\n",
        "\n",
        "exact_2 = dGPGO(surrogate_exact_2, Acquisition_new(util_grad_exact), objfunc, param)\n",
        "exact_2.run(init_evals=n_init, max_iter=iters)\n"
      ],
      "execution_count": 35,
      "outputs": [
        {
          "output_type": "stream",
          "name": "stdout",
          "text": [
            "Evaluation \t Proposed point \t  Current eval. \t Best eval.\n",
            "init   \t [-1.28010196 -9.48147536]. \t  -181.43541115584648 \t -4.333099000920773\n",
            "init   \t [ 0.99324956 -1.29355215]. \t  -4.333099000920773 \t -4.333099000920773\n",
            "init   \t [-1.59264396 -3.39330358]. \t  -25.565533148780872 \t -4.333099000920773\n",
            "init   \t [-5.90702732  2.38541933]. \t  -46.27342248166184 \t -4.333099000920773\n",
            "init   \t [-4.00690653 -4.6634545 ]. \t  -59.55091562094812 \t -4.333099000920773\n",
            "1      \t [4.01504693 9.2910216 ]. \t  -188.7667666769868 \t -4.333099000920773\n",
            "2      \t [ 9.4582138 -7.7444757]. \t  -209.411615827435 \t -4.333099000920773\n",
            "3      \t [ 9.07319925 -1.03970567]. \t  -84.48492034594878 \t -4.333099000920773\n",
            "4      \t [-9.13741927 -7.85625192]. \t  -206.93381928482216 \t -4.333099000920773\n",
            "5      \t [10.          4.84840058]. \t  -147.013976383371 \t -4.333099000920773\n",
            "6      \t [-3.25263411  9.0402141 ]. \t  -174.03057068772284 \t -4.333099000920773\n",
            "7      \t [3.70932267 3.22523744]. \t  -34.56338778550402 \t -4.333099000920773\n",
            "8      \t [-9.26806074  8.02979989]. \t  -214.8523224182643 \t -4.333099000920773\n",
            "9      \t [10. 10.]. \t  -300.0 \t -4.333099000920773\n",
            "10     \t [-9.42684684 -1.99573003]. \t  -96.83131809147802 \t -4.333099000920773\n",
            "11     \t [ 4.14422901 -9.10626618]. \t  -183.02280146799882 \t -4.333099000920773\n",
            "12     \t [-1.10466788  3.55197743]. \t  -26.453378517724605 \t -4.333099000920773\n",
            "13     \t [ 6.16286541 -4.74840208]. \t  -83.07555471980265 \t -4.333099000920773\n",
            "14     \t [-10.           2.33414662]. \t  -110.89648092093529 \t -4.333099000920773\n",
            "15     \t [ 4.3394147 -0.630663 ]. \t  -19.62599159906992 \t -4.333099000920773\n",
            "16     \t [ 1.86481698 -5.39715018]. \t  -61.73600245894069 \t -4.333099000920773\n",
            "17     \t [ -5.48570766 -10.        ]. \t  -230.09298856678288 \t -4.333099000920773\n",
            "18     \t [-3.97859693 -0.63227759]. \t  -16.628783451794273 \t -4.333099000920773\n",
            "19     \t [-5.93291269  6.09546362]. \t  -109.50880651222808 \t -4.333099000920773\n",
            "20     \t [0.39618067 9.80120866]. \t  -192.28434134359767 \t -4.333099000920773\n"
          ]
        }
      ]
    },
    {
      "cell_type": "code",
      "metadata": {
        "id": "XieJ158mIvlP",
        "colab": {
          "base_uri": "https://localhost:8080/"
        },
        "outputId": "c2f3774a-c087-41ef-9468-efe79bf87961"
      },
      "source": [
        "### EXACT GP EI GRADIENTS\n",
        "\n",
        "np.random.seed(run_num_3)\n",
        "surrogate_exact_3 = dGaussianProcess(cov_func, optimize=opt)\n",
        "\n",
        "exact_3 = dGPGO(surrogate_exact_3, Acquisition_new(util_grad_exact), objfunc, param)\n",
        "exact_3.run(init_evals=n_init, max_iter=iters)\n"
      ],
      "execution_count": 36,
      "outputs": [
        {
          "output_type": "stream",
          "name": "stdout",
          "text": [
            "Evaluation \t Proposed point \t  Current eval. \t Best eval.\n",
            "init   \t [1.01595805 4.16295645]. \t  -35.692583610916834 \t -17.582120911078754\n",
            "init   \t [-4.18190522  0.2165521 ]. \t  -17.582120911078754 \t -17.582120911078754\n",
            "init   \t [7.85893909 7.92586178]. \t  -187.4014934415638 \t -17.582120911078754\n",
            "init   \t [-7.48829379 -5.85514244]. \t  -124.63992981683481 \t -17.582120911078754\n",
            "init   \t [-8.97065593 -1.18380313]. \t  -83.2754475728413 \t -17.582120911078754\n",
            "1      \t [ 5.60629529 -3.87272935]. \t  -61.42661215628989 \t -17.582120911078754\n",
            "2      \t [-6.2437035   9.04202486]. \t  -202.50026057521436 \t -17.582120911078754\n",
            "3      \t [10.          1.90794774]. \t  -107.28052915914924 \t -17.582120911078754\n",
            "4      \t [-0.42169096 -8.75441039]. \t  -153.45722588114134 \t -17.582120911078754\n",
            "5      \t [ 6.56856688 -9.15868109]. \t  -210.90894961542799 \t -17.582120911078754\n",
            "6      \t [-9.21277105  4.93342182]. \t  -133.55245206852663 \t -17.582120911078754\n",
            "7      \t [ 0.69850669 -0.70926041]. \t  \u001b[92m-1.4940122574729555\u001b[0m \t -1.4940122574729555\n",
            "8      \t [3.95456883 9.31512515]. \t  -189.181727618252 \t -1.4940122574729555\n",
            "9      \t [-6.71050156 -9.69798454]. \t  -233.13263931875917 \t -1.4940122574729555\n",
            "10     \t [10.         -5.37644463]. \t  -157.81231364189844 \t -1.4940122574729555\n",
            "11     \t [5.89979258 2.00024435]. \t  -42.80950741915642 \t -1.4940122574729555\n",
            "12     \t [-1.80258918 -3.96848059]. \t  -34.74700413631243 \t -1.4940122574729555\n",
            "13     \t [-1.136251   9.0473158]. \t  -164.9989127262502 \t -1.4940122574729555\n",
            "14     \t [-3.55632759  4.52663938]. \t  -53.62839405321356 \t -1.4940122574729555\n",
            "15     \t [ 1.78920457 -4.5536468 ]. \t  -44.67265131504399 \t -1.4940122574729555\n",
            "16     \t [ 3.5607614  -0.90377083]. \t  -14.312625215178084 \t -1.4940122574729555\n",
            "17     \t [-1.31413551  1.59964621]. \t  -6.844688145731961 \t -1.4940122574729555\n",
            "18     \t [ 7.727437   -1.05634488]. \t  -61.94501157620206 \t -1.4940122574729555\n",
            "19     \t [4.9763894  5.17733804]. \t  -78.37410979407774 \t -1.4940122574729555\n",
            "20     \t [-7.21097807  2.15081754]. \t  -61.25023695838773 \t -1.4940122574729555\n"
          ]
        }
      ]
    },
    {
      "cell_type": "code",
      "metadata": {
        "id": "PhLBVOIfIvol",
        "colab": {
          "base_uri": "https://localhost:8080/"
        },
        "outputId": "f2579a15-dc81-411e-cf82-1449e51f94e6"
      },
      "source": [
        "### EXACT GP EI GRADIENTS\n",
        "\n",
        "np.random.seed(run_num_4)\n",
        "surrogate_exact_4 = dGaussianProcess(cov_func, optimize=opt)\n",
        "\n",
        "exact_4 = dGPGO(surrogate_exact_4, Acquisition_new(util_grad_exact), objfunc, param)\n",
        "exact_4.run(init_evals=n_init, max_iter=iters)\n"
      ],
      "execution_count": 37,
      "outputs": [
        {
          "output_type": "stream",
          "name": "stdout",
          "text": [
            "Evaluation \t Proposed point \t  Current eval. \t Best eval.\n",
            "init   \t [9.34059678 0.94464498]. \t  -89.0314565014143 \t -27.80880071439404\n",
            "init   \t [9.4536872  4.29631987]. \t  -126.28893057280868 \t -27.80880071439404\n",
            "init   \t [ 3.95457649 -5.67821009]. \t  -80.12281484649141 \t -27.80880071439404\n",
            "init   \t [ 9.5254891 -9.8753949]. \t  -285.78179120922215 \t -27.80880071439404\n",
            "init   \t [-4.94035275 -1.30416935]. \t  -27.80880071439404 \t -27.80880071439404\n",
            "1      \t [-10. -10.]. \t  -300.0 \t -27.80880071439404\n",
            "2      \t [-0.24524722  6.20288844]. \t  -77.01179625821773 \t -27.80880071439404\n",
            "3      \t [-7.30494786  4.8008946 ]. \t  -99.45944115815726 \t -27.80880071439404\n",
            "4      \t [-4.25130186 -7.81752312]. \t  -140.30090315659 \t -27.80880071439404\n",
            "5      \t [-10.          -3.79567241]. \t  -128.81425813368875 \t -27.80880071439404\n",
            "6      \t [ 4.38370575 10.        ]. \t  -219.21687606218097 \t -27.80880071439404\n",
            "7      \t [1.45162335 0.05109036]. \t  \u001b[92m-2.112430794758758\u001b[0m \t -2.112430794758758\n",
            "8      \t [10. 10.]. \t  -300.0 \t -2.112430794758758\n",
            "9      \t [-4.66445094 10.        ]. \t  -221.75710253952587 \t -2.112430794758758\n",
            "10     \t [ 9.23550968 -4.31605352]. \t  -122.55127499567106 \t -2.112430794758758\n",
            "11     \t [  0.8253914 -10.       ]. \t  -200.68127096170468 \t -2.112430794758758\n",
            "12     \t [-9.07728468 -0.735896  ]. \t  -83.48018297218148 \t -2.112430794758758\n",
            "13     \t [4.27019218 3.47894198]. \t  -42.440615753807535 \t -2.112430794758758\n",
            "14     \t [-0.90828931 -3.43914745]. \t  -24.480459823214762 \t -2.112430794758758\n",
            "15     \t [ 4.64614277 -0.7202926 ]. \t  -22.624285499363722 \t -2.112430794758758\n",
            "16     \t [-2.41178339  2.19592189]. \t  -15.46084501102398 \t -2.112430794758758\n",
            "17     \t [6.44723472 6.55155195]. \t  -127.41250139588092 \t -2.112430794758758\n",
            "18     \t [ 5.07987853 -9.67475599]. \t  -213.0069726526418 \t -2.112430794758758\n",
            "19     \t [ 0.05789496 10.        ]. \t  -200.00335182663505 \t -2.112430794758758\n",
            "20     \t [-3.89895678  6.09590199]. \t  -89.52190619960692 \t -2.112430794758758\n"
          ]
        }
      ]
    },
    {
      "cell_type": "code",
      "metadata": {
        "id": "arbiPyj2IvsJ",
        "colab": {
          "base_uri": "https://localhost:8080/"
        },
        "outputId": "89421883-68b3-4b7a-9ff9-77389105ba77"
      },
      "source": [
        "### EXACT GP EI GRADIENTS\n",
        "\n",
        "np.random.seed(run_num_5)\n",
        "surrogate_exact_5 = dGaussianProcess(cov_func, optimize=opt)\n",
        "\n",
        "exact_5 = dGPGO(surrogate_exact_5, Acquisition_new(util_grad_exact), objfunc, param)\n",
        "exact_5.run(init_evals=n_init, max_iter=iters)\n"
      ],
      "execution_count": 38,
      "outputs": [
        {
          "output_type": "stream",
          "name": "stdout",
          "text": [
            "Evaluation \t Proposed point \t  Current eval. \t Best eval.\n",
            "init   \t [-5.56013658  7.41464612]. \t  -140.86907304317228 \t -10.04307293518387\n",
            "init   \t [-5.86561689  8.37221816]. \t  -174.59353533361667 \t -10.04307293518387\n",
            "init   \t [-0.23177622  2.23487726]. \t  -10.04307293518387 \t -10.04307293518387\n",
            "init   \t [5.31815713 0.36835976]. \t  -28.554173077012745 \t -10.04307293518387\n",
            "init   \t [-4.06398997 -6.24557543]. \t  -94.53043928694063 \t -10.04307293518387\n",
            "1      \t [9.27861058 9.20453431]. \t  -255.5395178906315 \t -10.04307293518387\n",
            "2      \t [ 8.87080164 -7.76615146]. \t  -199.31733862713008 \t -10.04307293518387\n",
            "3      \t [-10. -10.]. \t  -300.0 \t -10.04307293518387\n",
            "4      \t [2.82929545 9.76335526]. \t  -198.65112458457682 \t -10.04307293518387\n",
            "5      \t [-7.37525617  1.74211335]. \t  -60.46432136962966 \t -10.04307293518387\n",
            "6      \t [ 2.20974633 -4.79362796]. \t  -50.84071693420902 \t -10.04307293518387\n",
            "7      \t [-9.26464909 -3.77649026]. \t  -114.35748010219106 \t -10.04307293518387\n",
            "8      \t [10.          3.25437967]. \t  -121.18197410659958 \t -10.04307293518387\n",
            "9      \t [ 9.55536392 -2.08007107]. \t  -99.95837090306216 \t -10.04307293518387\n",
            "10     \t [-2.02900964 -1.78450211]. \t  -10.485775655356363 \t -10.04307293518387\n",
            "11     \t [  0.33014697 -10.        ]. \t  -200.1089970189956 \t -10.04307293518387\n",
            "12     \t [-10.           5.48457009]. \t  -160.16101816550542 \t -10.04307293518387\n",
            "13     \t [3.30631658 4.8428664 ]. \t  -57.838439191502665 \t -10.04307293518387\n",
            "14     \t [-1.42082704  8.7508021 ]. \t  -155.17182435635803 \t -10.04307293518387\n",
            "15     \t [ 2.19733455 -1.20768728]. \t  \u001b[92m-7.7452962508061525\u001b[0m \t -7.7452962508061525\n",
            "16     \t [ 4.06449646 -7.85540605]. \t  -139.93493992493708 \t -7.7452962508061525\n",
            "17     \t [-3.54565553  3.4427099 ]. \t  -36.27617605231511 \t -7.7452962508061525\n",
            "18     \t [-5.7008536  -1.68072056]. \t  -38.149374963362085 \t -7.7452962508061525\n",
            "19     \t [ 5.30889725 -2.96805919]. \t  -45.80314067840212 \t -7.7452962508061525\n",
            "20     \t [6.35244589 6.56576171]. \t  -126.57202237681776 \t -7.7452962508061525\n"
          ]
        }
      ]
    },
    {
      "cell_type": "code",
      "metadata": {
        "id": "04KJCEm_Ivvf",
        "colab": {
          "base_uri": "https://localhost:8080/"
        },
        "outputId": "1e38e9bd-a467-460c-8246-f463a5f06723"
      },
      "source": [
        "### EXACT GP EI GRADIENTS\n",
        "\n",
        "np.random.seed(run_num_6)\n",
        "surrogate_exact_6 = dGaussianProcess(cov_func, optimize=opt)\n",
        "\n",
        "exact_6 = dGPGO(surrogate_exact_6, Acquisition_new(util_grad_exact), objfunc, param)\n",
        "exact_6.run(init_evals=n_init, max_iter=iters)\n"
      ],
      "execution_count": 39,
      "outputs": [
        {
          "output_type": "stream",
          "name": "stdout",
          "text": [
            "Evaluation \t Proposed point \t  Current eval. \t Best eval.\n",
            "init   \t [ 7.85720303 -3.36040389]. \t  -84.32026809583151 \t -5.629416961321397\n",
            "init   \t [ 6.42458246 -9.16606749]. \t  -209.30884609749882 \t -5.629416961321397\n",
            "init   \t [-7.8468664   1.90104128]. \t  -68.80122824744078 \t -5.629416961321397\n",
            "init   \t [ 0.59634724 -1.62385143]. \t  -5.629416961321397 \t -5.629416961321397\n",
            "init   \t [-3.29184301  2.45038864]. \t  -22.84503944485431 \t -5.629416961321397\n",
            "1      \t [4.34664291 8.74699069]. \t  -171.91299695999675 \t -5.629416961321397\n",
            "2      \t [-4.96771714 -9.17248997]. \t  -192.94735819477367 \t -5.629416961321397\n",
            "3      \t [9.57427611 1.74148842]. \t  -97.73232691305284 \t -5.629416961321397\n",
            "4      \t [-5.6935267   8.60486508]. \t  -180.50365249520243 \t -5.629416961321397\n",
            "5      \t [-10.        -3.570446]. \t  -125.49616930227866 \t -5.629416961321397\n",
            "6      \t [3.60136858 2.74298644]. \t  -28.0178048493259 \t -5.629416961321397\n",
            "7      \t [-0.45748598  7.70980473]. \t  -119.09147150685489 \t -5.629416961321397\n",
            "8      \t [-5.2160087  -2.20998074]. \t  -36.974776478354485 \t -5.629416961321397\n",
            "9      \t [-1.22868843  4.34354782]. \t  -39.24249056209099 \t -5.629416961321397\n",
            "10     \t [10. 10.]. \t  -300.0 \t -5.629416961321397\n",
            "11     \t [ 0.75849862 -7.00959939]. \t  -98.8442873489463 \t -5.629416961321397\n",
            "12     \t [-10. -10.]. \t  -300.0 \t -5.629416961321397\n",
            "13     \t [ 5.21347435 -0.8833208 ]. \t  -28.74082607218724 \t -5.629416961321397\n",
            "14     \t [-8.95821117  5.68664846]. \t  -144.92548883789567 \t -5.629416961321397\n",
            "15     \t [-2.88434482 -5.30723605]. \t  -64.65295395745896 \t -5.629416961321397\n",
            "16     \t [8.05128119 5.71730735]. \t  -130.1983355259054 \t -5.629416961321397\n",
            "17     \t [-5.26475536  4.88334842]. \t  -75.41183267799954 \t -5.629416961321397\n",
            "18     \t [ 3.2461629  -3.91965469]. \t  -41.26495928517661 \t -5.629416961321397\n",
            "19     \t [ -1.17259792 -10.        ]. \t  -201.37498588081758 \t -5.629416961321397\n",
            "20     \t [ 9.35960937 -6.43297871]. \t  -170.368717779 \t -5.629416961321397\n"
          ]
        }
      ]
    },
    {
      "cell_type": "code",
      "metadata": {
        "id": "tAOkme3CIvyO",
        "colab": {
          "base_uri": "https://localhost:8080/"
        },
        "outputId": "2af6213f-c4ad-49af-84c2-c7737331f219"
      },
      "source": [
        "### EXACT GP EI GRADIENTS\n",
        "\n",
        "np.random.seed(run_num_7)\n",
        "surrogate_exact_7 = dGaussianProcess(cov_func, optimize=opt)\n",
        "\n",
        "exact_7 = dGPGO(surrogate_exact_7, Acquisition_new(util_grad_exact), objfunc, param)\n",
        "exact_7.run(init_evals=n_init, max_iter=iters)\n"
      ],
      "execution_count": 40,
      "outputs": [
        {
          "output_type": "stream",
          "name": "stdout",
          "text": [
            "Evaluation \t Proposed point \t  Current eval. \t Best eval.\n",
            "init   \t [-8.47383421  5.59837584]. \t  -134.48949046062052 \t -21.448213419349443\n",
            "init   \t [-1.23181537  4.46930356]. \t  -41.46671767109191 \t -21.448213419349443\n",
            "init   \t [9.55979024 0.76991741]. \t  -92.57513506242564 \t -21.448213419349443\n",
            "init   \t [ 0.02240927 -8.55897733]. \t  -146.51268814245697 \t -21.448213419349443\n",
            "init   \t [-4.63122040e+00 -2.34998349e-03]. \t  -21.448213419349443 \t -21.448213419349443\n",
            "1      \t [ 8.12846538 -6.39096762]. \t  -147.76088362344177 \t -21.448213419349443\n",
            "2      \t [10. 10.]. \t  -300.0 \t -21.448213419349443\n",
            "3      \t [-9.10467478 -9.8356699 ]. \t  -276.3759076385656 \t -21.448213419349443\n",
            "4      \t [-7.86246511 -2.61028169]. \t  -75.44549865130998 \t -21.448213419349443\n",
            "5      \t [ 0.93827392 10.        ]. \t  -200.880357952664 \t -21.448213419349443\n",
            "6      \t [ 2.12009958 -2.883797  ]. \t  \u001b[92m-21.127392562729895\u001b[0m \t -21.127392562729895\n",
            "7      \t [4.53631942 4.67494579]. \t  -64.28843015884733 \t -21.127392562729895\n",
            "8      \t [-4.85691176 10.        ]. \t  -223.58959188124285 \t -21.127392562729895\n",
            "9      \t [  4.79302045 -10.        ]. \t  -222.97304503162187 \t -21.127392562729895\n",
            "10     \t [-3.64822394 -4.09292158]. \t  -46.81355211559528 \t -21.127392562729895\n",
            "11     \t [10.          5.25161584]. \t  -155.15893788577884 \t -21.127392562729895\n",
            "12     \t [-9.78539131  9.99966467]. \t  -295.7404700096461 \t -21.127392562729895\n",
            "13     \t [-4.39575679 -9.90454913]. \t  -215.5228647107965 \t -21.127392562729895\n",
            "14     \t [1.25692266 1.19218499]. \t  \u001b[92m-4.422464682679482\u001b[0m \t -4.422464682679482\n",
            "15     \t [ 5.78877875 -1.39491248]. \t  -37.40152107913453 \t -4.422464682679482\n",
            "16     \t [-4.83756634  3.4506174 ]. \t  -47.21556893390472 \t -4.422464682679482\n",
            "17     \t [ 3.86203165 -5.8983518 ]. \t  -84.49639643183195 \t -4.422464682679482\n",
            "18     \t [5.41888548 9.90984137]. \t  -225.77423181785028 \t -4.422464682679482\n",
            "19     \t [-0.89580898 -1.44871394]. \t  -5.000017896409407 \t -4.422464682679482\n",
            "20     \t [  9.06505712 -10.        ]. \t  -282.175260630773 \t -4.422464682679482\n"
          ]
        }
      ]
    },
    {
      "cell_type": "code",
      "metadata": {
        "id": "69-J3EF4Iv1S",
        "colab": {
          "base_uri": "https://localhost:8080/"
        },
        "outputId": "d32daeee-7e5d-40dd-8dc9-237a5b5e7fae"
      },
      "source": [
        "### EXACT GP EI GRADIENTS\n",
        "\n",
        "np.random.seed(run_num_8)\n",
        "surrogate_exact_8 = dGaussianProcess(cov_func, optimize=opt)\n",
        "\n",
        "exact_8 = dGPGO(surrogate_exact_8, Acquisition_new(util_grad_exact), objfunc, param)\n",
        "exact_8.run(init_evals=n_init, max_iter=iters)\n"
      ],
      "execution_count": 41,
      "outputs": [
        {
          "output_type": "stream",
          "name": "stdout",
          "text": [
            "Evaluation \t Proposed point \t  Current eval. \t Best eval.\n",
            "init   \t [7.46858806 9.37081326]. \t  -231.40408972112363 \t -0.5791878792948744\n",
            "init   \t [7.3838908  0.61711383]. \t  -55.28350237060649 \t -0.5791878792948744\n",
            "init   \t [-5.34543344 -9.77202391]. \t  -219.5585614355461 \t -0.5791878792948744\n",
            "init   \t [-1.39062363 -1.9529728 ]. \t  -9.562039601098967 \t -0.5791878792948744\n",
            "init   \t [ 0.45349343 -0.43216408]. \t  -0.5791878792948744 \t -0.5791878792948744\n",
            "1      \t [ 9.69498875 -9.42535902]. \t  -271.6675921188219 \t -0.5791878792948744\n",
            "2      \t [-9.83383251  5.77166529]. \t  -163.3285022998636 \t -0.5791878792948744\n",
            "3      \t [-3.97152767  9.51013426]. \t  -196.65833950916016 \t -0.5791878792948744\n",
            "4      \t [-9.65586204 -5.07440767]. \t  -144.73489822426617 \t -0.5791878792948744\n",
            "5      \t [1.10947828 5.5318851 ]. \t  -62.4344475515165 \t -0.5791878792948744\n",
            "6      \t [  2.83392277 -10.        ]. \t  -208.03111829045724 \t -0.5791878792948744\n",
            "7      \t [-4.39528282  3.495947  ]. \t  -43.761801867281854 \t -0.5791878792948744\n",
            "8      \t [ 4.12919583 -4.19989122]. \t  -52.32843075893513 \t -0.5791878792948744\n",
            "9      \t [ 9.5546161  -3.90419331]. \t  -121.77613961435563 \t -0.5791878792948744\n",
            "10     \t [-10.           0.32855742]. \t  -100.21589995981398 \t -0.5791878792948744\n",
            "11     \t [10.          4.79521804]. \t  -145.9882320441642 \t -0.5791878792948744\n",
            "12     \t [-1.47238314 -6.35952179]. \t  -83.05494683705412 \t -0.5791878792948744\n",
            "13     \t [ 2.33182892 10.        ]. \t  -205.4374261024572 \t -0.5791878792948744\n",
            "14     \t [-10. -10.]. \t  -300.0 \t -0.5791878792948744\n",
            "15     \t [-5.66860273 -0.72423365]. \t  -33.18208563986603 \t -0.5791878792948744\n",
            "16     \t [2.79903199 1.47996204]. \t  -12.215155328390125 \t -0.5791878792948744\n",
            "17     \t [-0.88891252  1.73884697]. \t  -6.837343067273986 \t -0.5791878792948744\n",
            "18     \t [5.80525246 4.13600124]. \t  -67.91396872115529 \t -0.5791878792948744\n",
            "19     \t [-5.1953867  -5.60421288]. \t  -89.80644707877823 \t -0.5791878792948744\n",
            "20     \t [ 5.86379994 -7.14298806]. \t  -136.42870667652622 \t -0.5791878792948744\n"
          ]
        }
      ]
    },
    {
      "cell_type": "code",
      "metadata": {
        "id": "vonm9jyuIv4t",
        "colab": {
          "base_uri": "https://localhost:8080/"
        },
        "outputId": "0ee24716-bd38-4e42-cd99-9dd16d7d0c57"
      },
      "source": [
        "### EXACT GP EI GRADIENTS\n",
        "\n",
        "np.random.seed(run_num_9)\n",
        "surrogate_exact_9 = dGaussianProcess(cov_func, optimize=opt)\n",
        "\n",
        "exact_9 = dGPGO(surrogate_exact_9, Acquisition_new(util_grad_exact), objfunc, param)\n",
        "exact_9.run(init_evals=n_init, max_iter=iters)\n"
      ],
      "execution_count": 42,
      "outputs": [
        {
          "output_type": "stream",
          "name": "stdout",
          "text": [
            "Evaluation \t Proposed point \t  Current eval. \t Best eval.\n",
            "init   \t [-9.79251692  0.03749184]. \t  -95.896198949837 \t -53.418783741178075\n",
            "init   \t [-0.08453414 -7.32340942]. \t  -107.27179711012016 \t -53.418783741178075\n",
            "init   \t [-7.15777829 -5.62882649]. \t  -114.6011653140891 \t -53.418783741178075\n",
            "init   \t [-1.62983639 -5.03797663]. \t  -53.418783741178075 \t -53.418783741178075\n",
            "init   \t [-8.31880698 -3.0900272 ]. \t  -88.29908569649677 \t -53.418783741178075\n",
            "1      \t [6.0747954  9.66718496]. \t  -223.8120694300478 \t -53.418783741178075\n",
            "2      \t [-3.94738717  9.4159639 ]. \t  -192.90261763630335 \t -53.418783741178075\n",
            "3      \t [4.07561386 0.71776482]. \t  \u001b[92m-17.64100099927903\u001b[0m \t -17.64100099927903\n",
            "4      \t [ 8.66970884 -6.33785621]. \t  -155.50069423954056 \t -17.64100099927903\n",
            "5      \t [10.          1.04076242]. \t  -102.16637283827707 \t -17.64100099927903\n",
            "6      \t [-9.43535893  5.95042309]. \t  -159.84106794164182 \t -17.64100099927903\n",
            "7      \t [-2.00413361  1.08900426]. \t  \u001b[92m-6.388412071319043\u001b[0m \t -6.388412071319043\n",
            "8      \t [1.26345081 5.5601271 ]. \t  -63.426334752464676 \t -6.388412071319043\n",
            "9      \t [-10. -10.]. \t  -300.0 \t -6.388412071319043\n",
            "10     \t [ -4.45844011 -10.        ]. \t  -219.87768822210666 \t -6.388412071319043\n",
            "11     \t [ 2.27343475 -2.96838887]. \t  -22.791170470125277 \t -6.388412071319043\n",
            "12     \t [6.36774227 4.66379432]. \t  -84.05009663629764 \t -6.388412071319043\n",
            "13     \t [-4.44450653  4.29878108]. \t  -56.712675937599485 \t -6.388412071319043\n",
            "14     \t [10.         7.2304471]. \t  -204.55873047416753 \t -6.388412071319043\n",
            "15     \t [ 1.1411134 10.       ]. \t  -201.3021397824938 \t -6.388412071319043\n",
            "16     \t [  4.56242198 -10.        ]. \t  -220.8156943458824 \t -6.388412071319043\n",
            "17     \t [-4.27873165 -1.65004372]. \t  -23.75283309217484 \t -6.388412071319043\n",
            "18     \t [ 4.52850244 -5.72758867]. \t  -86.11787829845082 \t -6.388412071319043\n",
            "19     \t [ 7.27052134 -2.24747368]. \t  -62.96275646021514 \t -6.388412071319043\n",
            "20     \t [0.11492786 2.40434061]. \t  -11.574915975571084 \t -6.388412071319043\n"
          ]
        }
      ]
    },
    {
      "cell_type": "code",
      "metadata": {
        "id": "6amuYlUdIv7r",
        "colab": {
          "base_uri": "https://localhost:8080/"
        },
        "outputId": "97164e95-636c-4575-a708-8663b6ab2adf"
      },
      "source": [
        "### EXACT GP EI GRADIENTS\n",
        "\n",
        "np.random.seed(run_num_10)\n",
        "surrogate_exact_10 = dGaussianProcess(cov_func, optimize=opt)\n",
        "\n",
        "exact_10 = dGPGO(surrogate_exact_10, Acquisition_new(util_grad_exact), objfunc, param)\n",
        "exact_10.run(init_evals=n_init, max_iter=iters)\n"
      ],
      "execution_count": 43,
      "outputs": [
        {
          "output_type": "stream",
          "name": "stdout",
          "text": [
            "Evaluation \t Proposed point \t  Current eval. \t Best eval.\n",
            "init   \t [ 5.42641287 -9.58496101]. \t  -213.18891181932327 \t -56.66743785259343\n",
            "init   \t [2.6729647  4.97607765]. \t  -56.66743785259343 \t -56.66743785259343\n",
            "init   \t [-0.02985975 -5.50406709]. \t  -60.59040065376497 \t -56.66743785259343\n",
            "init   \t [-6.0387427   5.21061424]. \t  -90.76741505398337 \t -56.66743785259343\n",
            "init   \t [-6.61778327 -8.23320372]. \t  -179.36634226756874 \t -56.66743785259343\n",
            "1      \t [10. 10.]. \t  -300.0 \t -56.66743785259343\n",
            "2      \t [2.11155129 0.26933255]. \t  \u001b[92m-4.603728884330075\u001b[0m \t -4.603728884330075\n",
            "3      \t [8.50713746 1.33499849]. \t  -75.93582966295617 \t -4.603728884330075\n",
            "4      \t [-10.           0.55304546]. \t  -100.61171856127051 \t -4.603728884330075\n",
            "5      \t [-8.79899589  9.77833948]. \t  -268.65417478008544 \t -4.603728884330075\n",
            "6      \t [0.20663569 9.9051757 ]. \t  -196.2677094620948 \t -4.603728884330075\n",
            "7      \t [ 5.8842062  -3.75974161]. \t  -62.895196477687904 \t -4.603728884330075\n",
            "8      \t [-3.50908855 -0.08515579]. \t  -12.328205440765773 \t -4.603728884330075\n",
            "9      \t [-9.90330118 -4.63547947]. \t  -141.05071417433885 \t -4.603728884330075\n",
            "10     \t [-1.9974219 -9.9662226]. \t  -202.64087999374271 \t -4.603728884330075\n",
            "11     \t [-3.63989452  9.22519827]. \t  -183.45739823370283 \t -4.603728884330075\n",
            "12     \t [5.56292321 8.28716469]. \t  -168.30031177840357 \t -4.603728884330075\n",
            "13     \t [10.         -6.70758543]. \t  -189.983404580459 \t -4.603728884330075\n",
            "14     \t [-1.68122508  4.97661294]. \t  -52.359870423421434 \t -4.603728884330075\n",
            "15     \t [10.          5.36341154]. \t  -157.5323666339752 \t -4.603728884330075\n",
            "16     \t [-5.61145838 -3.32925786]. \t  -53.65638096889942 \t -4.603728884330075\n",
            "17     \t [3.84916597 2.23654981]. \t  -24.820388773083906 \t -4.603728884330075\n",
            "18     \t [-0.23672953 -1.68171946]. \t  -5.71240156922591 \t -4.603728884330075\n",
            "19     \t [-6.22889429  1.11942376]. \t  -41.30534316585582 \t -4.603728884330075\n",
            "20     \t [ 3.37209516 -6.33452922]. \t  -91.62354659226332 \t -4.603728884330075\n"
          ]
        }
      ]
    },
    {
      "cell_type": "code",
      "metadata": {
        "id": "VwbLIP9cIv-F",
        "colab": {
          "base_uri": "https://localhost:8080/"
        },
        "outputId": "be49d711-d273-44b8-be8a-b8abcb710866"
      },
      "source": [
        "### EXACT GP EI GRADIENTS\n",
        "\n",
        "np.random.seed(run_num_11)\n",
        "surrogate_exact_11 = dGaussianProcess(cov_func, optimize=opt)\n",
        "\n",
        "exact_11 = dGPGO(surrogate_exact_11, Acquisition_new(util_grad_exact), objfunc, param)\n",
        "exact_11.run(init_evals=n_init, max_iter=iters)\n"
      ],
      "execution_count": 44,
      "outputs": [
        {
          "output_type": "stream",
          "name": "stdout",
          "text": [
            "Evaluation \t Proposed point \t  Current eval. \t Best eval.\n",
            "init   \t [-6.39460622 -9.61049517]. \t  -225.61422357508457 \t -2.716881462565864\n",
            "init   \t [-0.73562947  4.49867858]. \t  -41.01736871863572 \t -2.716881462565864\n",
            "init   \t [-1.59592791 -0.29145804]. \t  -2.716881462565864 \t -2.716881462565864\n",
            "init   \t [-9.74438371 -0.25256785]. \t  -95.08059489374317 \t -2.716881462565864\n",
            "init   \t [8.83613305 7.01590179]. \t  -176.5230030066306 \t -2.716881462565864\n",
            "1      \t [ 1.99086793 -8.88652641]. \t  -161.90425830617428 \t -2.716881462565864\n",
            "2      \t [ 4.79903036 -1.6267314 ]. \t  -28.32320242923278 \t -2.716881462565864\n",
            "3      \t [10.          0.64072548]. \t  -100.8210582892276 \t -2.716881462565864\n",
            "4      \t [-5.48830044 -3.86327632]. \t  -59.97124960839432 \t -2.716881462565864\n",
            "5      \t [-7.89611862  5.10567265]. \t  -114.48447569496835 \t -2.716881462565864\n",
            "6      \t [5.60568888 3.09856241]. \t  -50.62592590895312 \t -2.716881462565864\n",
            "7      \t [ 8.69087926 -7.76523114]. \t  -196.12901149535702 \t -2.716881462565864\n",
            "8      \t [-4.41659412 10.        ]. \t  -219.50630357668402 \t -2.716881462565864\n",
            "9      \t [ 1.65331402 10.        ]. \t  -202.73344726049157 \t -2.716881462565864\n",
            "10     \t [-5.07434884  1.01562367]. \t  -27.811999029565342 \t -2.716881462565864\n",
            "11     \t [ 0.52401317 -4.04345872]. \t  -32.973706698181715 \t -2.716881462565864\n",
            "12     \t [-8.81363394  9.20935126]. \t  -247.3044446293412 \t -2.716881462565864\n",
            "13     \t [-10.          -5.82603251]. \t  -167.88530950968266 \t -2.716881462565864\n",
            "14     \t [ 8.98373967 -3.43495751]. \t  -104.3054446505991 \t -2.716881462565864\n",
            "15     \t [ 4.55612475 -5.40846968]. \t  -79.26136132906612 \t -2.716881462565864\n",
            "16     \t [ 1.6494328  -0.58887217]. \t  -3.4141694229448376 \t -2.716881462565864\n",
            "17     \t [-2.18837853 -8.46016566]. \t  -147.93780667216797 \t -2.716881462565864\n",
            "18     \t [ 6.1674939 10.       ]. \t  -238.0379810510907 \t -2.716881462565864\n",
            "19     \t [2.55116567 6.14180003]. \t  -81.9518614091724 \t -2.716881462565864\n",
            "20     \t [-3.76518339  3.74177431]. \t  -42.17835596355942 \t -2.716881462565864\n"
          ]
        }
      ]
    },
    {
      "cell_type": "code",
      "metadata": {
        "id": "MlUNFjc-JTBY",
        "colab": {
          "base_uri": "https://localhost:8080/"
        },
        "outputId": "d28c8807-c531-4db7-9832-6ce44b815032"
      },
      "source": [
        "### EXACT GP EI GRADIENTS\n",
        "\n",
        "np.random.seed(run_num_12)\n",
        "surrogate_exact_12 = dGaussianProcess(cov_func, optimize=opt)\n",
        "\n",
        "exact_12 = dGPGO(surrogate_exact_12, Acquisition_new(util_grad_exact), objfunc, param)\n",
        "exact_12.run(init_evals=n_init, max_iter=iters)\n"
      ],
      "execution_count": 45,
      "outputs": [
        {
          "output_type": "stream",
          "name": "stdout",
          "text": [
            "Evaluation \t Proposed point \t  Current eval. \t Best eval.\n",
            "init   \t [-6.91674315  4.80099393]. \t  -93.94042127407329 \t -23.318590147261595\n",
            "init   \t [-4.7336997   0.67478787]. \t  -23.318590147261595 \t -23.318590147261595\n",
            "init   \t [-9.70850075  8.37494016]. \t  -234.53423225249676 \t -23.318590147261595\n",
            "init   \t [ 8.01429708 -9.33157145]. \t  -238.38540908259807 \t -23.318590147261595\n",
            "init   \t [ 9.13898673 -7.25581357]. \t  -188.8147395776428 \t -23.318590147261595\n",
            "1      \t [4.66251955 4.05244711]. \t  -54.583743654491954 \t -23.318590147261595\n",
            "2      \t [-3.75432006 -8.6025265 ]. \t  -162.1018436659056 \t -23.318590147261595\n",
            "3      \t [ 0.87886819 -1.89091226]. \t  \u001b[92m-7.923507634979323\u001b[0m \t -7.923507634979323\n",
            "4      \t [-1.79527765  9.66374168]. \t  -189.99882837241026 \t -7.923507634979323\n",
            "5      \t [ 8.15269188 -0.957369  ]. \t  -68.2994957298121 \t -7.923507634979323\n",
            "6      \t [10. 10.]. \t  -300.0 \t -7.923507634979323\n",
            "7      \t [-10. -10.]. \t  -300.0 \t -7.923507634979323\n",
            "8      \t [-10.          -1.85157259]. \t  -106.85664214847412 \t -7.923507634979323\n",
            "9      \t [ 2.02503636 -9.52490868]. \t  -185.5485431083383 \t -7.923507634979323\n",
            "10     \t [-0.67851333  3.93541001]. \t  -31.435284164569307 \t -7.923507634979323\n",
            "11     \t [ 4.05207368 10.        ]. \t  -216.4193010962186 \t -7.923507634979323\n",
            "12     \t [10.          4.23757697]. \t  -135.9141171749349 \t -7.923507634979323\n",
            "13     \t [-2.51116648 -4.05016177]. \t  -39.11357782128145 \t -7.923507634979323\n",
            "14     \t [ 4.01084401 -0.14710933]. \t  -16.130151975726594 \t -7.923507634979323\n",
            "15     \t [-9.54957478 -5.76180064]. \t  -157.59107180661908 \t -7.923507634979323\n",
            "16     \t [ 4.80355632 -5.48679855]. \t  -83.2840700101714 \t -7.923507634979323\n",
            "17     \t [-9.99165973  2.15118812]. \t  -109.08848488348119 \t -7.923507634979323\n",
            "18     \t [1.26716825 6.9607055 ]. \t  -98.5085575958966 \t -7.923507634979323\n",
            "19     \t [-6.13617443 -2.86257467]. \t  -54.04130418816921 \t -7.923507634979323\n",
            "20     \t [-1.25389373  0.34636287]. \t  \u001b[92m-1.8121839738384051\u001b[0m \t -1.8121839738384051\n"
          ]
        }
      ]
    },
    {
      "cell_type": "code",
      "metadata": {
        "id": "9BsKdU9eJTFL",
        "colab": {
          "base_uri": "https://localhost:8080/"
        },
        "outputId": "2cba1e27-e9a3-4a13-959b-91cdda57cf21"
      },
      "source": [
        "### EXACT GP EI GRADIENTS\n",
        "\n",
        "np.random.seed(run_num_13)\n",
        "surrogate_exact_13 = dGaussianProcess(cov_func, optimize=opt)\n",
        "\n",
        "exact_13 = dGPGO(surrogate_exact_13, Acquisition_new(util_grad_exact), objfunc, param)\n",
        "exact_13.run(init_evals=n_init, max_iter=iters)\n"
      ],
      "execution_count": 46,
      "outputs": [
        {
          "output_type": "stream",
          "name": "stdout",
          "text": [
            "Evaluation \t Proposed point \t  Current eval. \t Best eval.\n",
            "init   \t [ 5.55404821 -5.2491756 ]. \t  -85.95514048001408 \t -47.45541115581226\n",
            "init   \t [6.48557065 9.31498396]. \t  -215.600479080162 \t -47.45541115581226\n",
            "init   \t [ 9.45202228 -0.93101505]. \t  -91.0743031984701 \t -47.45541115581226\n",
            "init   \t [2.18084926 5.51053029]. \t  -65.48799167425372 \t -47.45541115581226\n",
            "init   \t [2.8322669  4.44036459]. \t  -47.45541115581226 \t -47.45541115581226\n",
            "1      \t [-8.69830926  2.59657998]. \t  -89.14503917528086 \t -47.45541115581226\n",
            "2      \t [ -2.75180213 -10.        ]. \t  -207.57241495341816 \t -47.45541115581226\n",
            "3      \t [-10. -10.]. \t  -300.0 \t -47.45541115581226\n",
            "4      \t [-5.68974606  9.11900061]. \t  -198.68555458020188 \t -47.45541115581226\n",
            "5      \t [-4.36156556 -3.65129573]. \t  \u001b[92m-45.68717513432111\u001b[0m \t -45.68717513432111\n",
            "6      \t [-2.84643721  2.02451754]. \t  \u001b[92m-16.29954731287083\u001b[0m \t -16.29954731287083\n",
            "7      \t [-10.          -3.61016784]. \t  -126.06662367992534 \t -16.29954731287083\n",
            "8      \t [10.          4.72314511]. \t  -144.61619945737507 \t -16.29954731287083\n",
            "9      \t [ 1.39986739 -0.97754735]. \t  \u001b[92m-3.870826368245811\u001b[0m \t -3.870826368245811\n",
            "10     \t [ 0.76516798 -6.28266817]. \t  -79.52932078338688 \t -3.870826368245811\n",
            "11     \t [10.         -6.87200353]. \t  -194.44886502451948 \t -3.870826368245811\n",
            "12     \t [5.07012192 0.19538562]. \t  -25.782487339047506 \t -3.870826368245811\n",
            "13     \t [-0.26008957 10.        ]. \t  -200.06764658247556 \t -3.870826368245811\n",
            "14     \t [  4.21875764 -10.        ]. \t  -217.79791600131298 \t -3.870826368245811\n",
            "15     \t [-9.37477506  6.64871539]. \t  -176.29724004235715 \t -3.870826368245811\n",
            "16     \t [-3.30525597  5.77192219]. \t  -77.55488862214771 \t -3.870826368245811\n",
            "17     \t [-6.81313103 -6.83801101]. \t  -139.93554362197298 \t -3.870826368245811\n",
            "18     \t [-0.83171292 -2.65058704]. \t  -14.742969702105787 \t -3.870826368245811\n",
            "19     \t [-0.45586517  3.43034791]. \t  -23.74238662023197 \t -3.870826368245811\n",
            "20     \t [6.12790209 5.31371001]. \t  -94.02221206308502 \t -3.870826368245811\n"
          ]
        }
      ]
    },
    {
      "cell_type": "code",
      "metadata": {
        "id": "k6GjFBr1JTJf",
        "colab": {
          "base_uri": "https://localhost:8080/"
        },
        "outputId": "eafe22bd-c1a2-4dfb-b30f-25f1048639ff"
      },
      "source": [
        "### EXACT GP EI GRADIENTS\n",
        "\n",
        "np.random.seed(run_num_14)\n",
        "surrogate_exact_14 = dGaussianProcess(cov_func, optimize=opt)\n",
        "\n",
        "exact_14 = dGPGO(surrogate_exact_14, Acquisition_new(util_grad_exact), objfunc, param)\n",
        "exact_14.run(init_evals=n_init, max_iter=iters)\n"
      ],
      "execution_count": 47,
      "outputs": [
        {
          "output_type": "stream",
          "name": "stdout",
          "text": [
            "Evaluation \t Proposed point \t  Current eval. \t Best eval.\n",
            "init   \t [0.27886688 5.46330104]. \t  -59.77308327621332 \t -26.48525945153859\n",
            "init   \t [ 7.40855371 -9.83906103]. \t  -248.5009120212351 \t -26.48525945153859\n",
            "init   \t [-3.80528149  9.15207479]. \t  -182.0011130426615 \t -26.48525945153859\n",
            "init   \t [ 0.26233425 -3.6343115 ]. \t  -26.48525945153859 \t -26.48525945153859\n",
            "init   \t [ 0.78399875 -5.57490115]. \t  -62.773699734431055 \t -26.48525945153859\n",
            "1      \t [ 9.82765998 -0.95725402]. \t  -98.41557117870066 \t -26.48525945153859\n",
            "2      \t [10. 10.]. \t  -300.0 \t -26.48525945153859\n",
            "3      \t [-10. -10.]. \t  -300.0 \t -26.48525945153859\n",
            "4      \t [-9.7098101  -2.29512968]. \t  -104.81565267858431 \t -26.48525945153859\n",
            "5      \t [-6.34131578  3.00478309]. \t  -58.26972869025353 \t -26.48525945153859\n",
            "6      \t [6.07003418 3.73802402]. \t  -64.79096207591255 \t -26.48525945153859\n",
            "7      \t [ -3.20090445 -10.        ]. \t  -210.24578929632415 \t -26.48525945153859\n",
            "8      \t [-9.71188894  7.83312684]. \t  -217.0365387332817 \t -26.48525945153859\n",
            "9      \t [ 3.86659092 10.        ]. \t  -214.95052532365943 \t -26.48525945153859\n",
            "10     \t [-4.63974536 -3.37022052]. \t  -44.24400975512843 \t -26.48525945153859\n",
            "11     \t [ 5.59550624 -3.94278641]. \t  -62.400819430198325 \t -26.48525945153859\n",
            "12     \t [1.546607   0.85139242]. \t  \u001b[92m-3.8417313054871873\u001b[0m \t -3.8417313054871873\n",
            "13     \t [  2.22110097 -10.        ]. \t  -204.9332895334154 \t -3.8417313054871873\n",
            "14     \t [-2.27676152  1.47588463]. \t  -9.540113902766535 \t -3.8417313054871873\n",
            "15     \t [7.31317607 7.04383804]. \t  -152.7138529673891 \t -3.8417313054871873\n",
            "16     \t [ 9.81404147 -5.50582624]. \t  -156.94365525185407 \t -3.8417313054871873\n",
            "17     \t [-6.25080863 -7.32796136]. \t  -146.47064387423342 \t -3.8417313054871873\n",
            "18     \t [ 5.16237227 -0.10419828]. \t  -26.6718020042116 \t -3.8417313054871873\n",
            "19     \t [10.          3.44541928]. \t  -123.7418280720771 \t -3.8417313054871873\n",
            "20     \t [-3.27565658  4.92218105]. \t  -59.185658564038306 \t -3.8417313054871873\n"
          ]
        }
      ]
    },
    {
      "cell_type": "code",
      "metadata": {
        "id": "dPS8WB3aJTN6",
        "colab": {
          "base_uri": "https://localhost:8080/"
        },
        "outputId": "dd207c5d-d585-41bf-9051-ad8d70c4933e"
      },
      "source": [
        "### EXACT GP EI GRADIENTS\n",
        "\n",
        "np.random.seed(run_num_15)\n",
        "surrogate_exact_15 = dGaussianProcess(cov_func, optimize=opt)\n",
        "\n",
        "exact_15 = dGPGO(surrogate_exact_15, Acquisition_new(util_grad_exact), objfunc, param)\n",
        "exact_15.run(init_evals=n_init, max_iter=iters)\n"
      ],
      "execution_count": 48,
      "outputs": [
        {
          "output_type": "stream",
          "name": "stdout",
          "text": [
            "Evaluation \t Proposed point \t  Current eval. \t Best eval.\n",
            "init   \t [ 6.97635395 -6.4220815 ]. \t  -131.15577599697437 \t -20.897907943365695\n",
            "init   \t [-8.91273571 -2.76923108]. \t  -94.77413943464936 \t -20.897907943365695\n",
            "init   \t [-4.49198143  0.6000045 ]. \t  -20.897907943365695 \t -20.897907943365695\n",
            "init   \t [-3.88162169 -3.91051282]. \t  -45.651207890195394 \t -20.897907943365695\n",
            "init   \t [-7.76517448 -5.00201972]. \t  -110.33833725681367 \t -20.897907943365695\n",
            "1      \t [10. 10.]. \t  -300.0 \t -20.897907943365695\n",
            "2      \t [1.47503373 7.60746764]. \t  -117.92285228350877 \t -20.897907943365695\n",
            "3      \t [-7.57016827  9.39485424]. \t  -233.83402004725843 \t -20.897907943365695\n",
            "4      \t [8.17696818 1.09984692]. \t  -69.28213505909017 \t -20.897907943365695\n",
            "5      \t [-10.          3.8321127]. \t  -129.37017543496486 \t -20.897907943365695\n",
            "6      \t [-0.62952455 -9.52479128]. \t  -181.8395990317211 \t -20.897907943365695\n",
            "7      \t [ 2.61788989 -0.93930827]. \t  \u001b[92m-8.617947511889533\u001b[0m \t -8.617947511889533\n",
            "8      \t [-10. -10.]. \t  -300.0 \t -8.617947511889533\n",
            "9      \t [-3.20413968  5.27797353]. \t  -65.98052025191352 \t -8.617947511889533\n",
            "10     \t [6.24684491 6.28906124]. \t  -118.12765389549358 \t -8.617947511889533\n",
            "11     \t [ 0.56701921 -4.53107493]. \t  -41.3827908844691 \t -8.617947511889533\n",
            "12     \t [1.10704631 2.81622114]. \t  -17.087754608673208 \t -8.617947511889533\n",
            "13     \t [-2.35543299  9.7196702 ]. \t  -194.49204198483497 \t -8.617947511889533\n",
            "14     \t [-5.30373301 -8.8843625 ]. \t  -185.99337794696476 \t -8.617947511889533\n",
            "15     \t [ 9.95655897 -2.80559847]. \t  -114.87583210813881 \t -8.617947511889533\n",
            "16     \t [ 4.89493753 10.        ]. \t  -223.9604133870717 \t -8.617947511889533\n",
            "17     \t [ 5.50632795 -1.73407669]. \t  -36.33369140704845 \t -8.617947511889533\n",
            "18     \t [ 3.75080182 -9.3847518 ]. \t  -190.215646912117 \t -8.617947511889533\n",
            "19     \t [10.          4.82833399]. \t  -146.6256181445664 \t -8.617947511889533\n",
            "20     \t [-0.94851433 -0.623835  ]. \t  \u001b[92m-1.678019658304552\u001b[0m \t -1.678019658304552\n"
          ]
        }
      ]
    },
    {
      "cell_type": "code",
      "metadata": {
        "id": "SHWdp2giJTRm",
        "colab": {
          "base_uri": "https://localhost:8080/"
        },
        "outputId": "79eaec39-ebc6-4495-85e6-39c8fae53b75"
      },
      "source": [
        "### EXACT GP EI GRADIENTS\n",
        "\n",
        "np.random.seed(run_num_16)\n",
        "surrogate_exact_16 = dGaussianProcess(cov_func, optimize=opt)\n",
        "\n",
        "exact_16 = dGPGO(surrogate_exact_16, Acquisition_new(util_grad_exact), objfunc, param)\n",
        "exact_16.run(init_evals=n_init, max_iter=iters)\n"
      ],
      "execution_count": 49,
      "outputs": [
        {
          "output_type": "stream",
          "name": "stdout",
          "text": [
            "Evaluation \t Proposed point \t  Current eval. \t Best eval.\n",
            "init   \t [-5.53417842  0.46326683]. \t  -31.056363058280656 \t -31.056363058280656\n",
            "init   \t [ 1.01402913 -9.087961  ]. \t  -166.21032525826828 \t -31.056363058280656\n",
            "init   \t [-2.78542329 -5.53838117]. \t  -69.10591480510183 \t -31.056363058280656\n",
            "init   \t [ 3.77452324 -6.7253715 ]. \t  -104.70826928786903 \t -31.056363058280656\n",
            "init   \t [-8.59350266  8.8202172 ]. \t  -229.44075111810224 \t -31.056363058280656\n",
            "1      \t [10.          9.76808597]. \t  -290.8310071588395 \t -31.056363058280656\n",
            "2      \t [-10. -10.]. \t  -300.0 \t -31.056363058280656\n",
            "3      \t [0.85375082 9.40301345]. \t  -177.56221418768533 \t -31.056363058280656\n",
            "4      \t [5.7976487  1.62279444]. \t  -38.87965405424715 \t -31.056363058280656\n",
            "5      \t [-2.22531694  5.42968011]. \t  -63.91488757640133 \t -31.056363058280656\n",
            "6      \t [-10.          -3.22912901]. \t  -120.85454832978613 \t -31.056363058280656\n",
            "7      \t [ 9.29218158 -4.43054185]. \t  -125.60404078355825 \t -31.056363058280656\n",
            "8      \t [ 0.29683603 -0.46171021]. \t  \u001b[92m-0.5144642715556474\u001b[0m \t -0.5144642715556474\n",
            "9      \t [9.84986668 4.47064536]. \t  -136.9932134849143 \t -0.5144642715556474\n",
            "10     \t [ 4.26257432 -2.31957767]. \t  -28.93042099290591 \t -0.5144642715556474\n",
            "11     \t [5.25829078 6.44859435]. \t  -110.81836014425647 \t -0.5144642715556474\n",
            "12     \t [-10.           2.52720962]. \t  -112.77357687852586 \t -0.5144642715556474\n",
            "13     \t [-4.93923409 -9.83883422]. \t  -218.00135099286535 \t -0.5144642715556474\n",
            "14     \t [1.58724618 3.49326812]. \t  -26.925194762822972 \t -0.5144642715556474\n",
            "15     \t [-6.11651443 -3.98731904]. \t  -69.20917500531525 \t -0.5144642715556474\n",
            "16     \t [-2.12212096 -1.24751907]. \t  -7.616005044435104 \t -0.5144642715556474\n",
            "17     \t [-6.067443    4.32582233]. \t  -74.23934221483142 \t -0.5144642715556474\n",
            "18     \t [-3.87871191 10.        ]. \t  -215.04440607215943 \t -0.5144642715556474\n",
            "19     \t [ 0.46037921 -2.64003957]. \t  -14.151566890643418 \t -0.5144642715556474\n",
            "20     \t [ 7.45531732 -8.31236315]. \t  -193.7725187276592 \t -0.5144642715556474\n"
          ]
        }
      ]
    },
    {
      "cell_type": "code",
      "metadata": {
        "id": "yU2SflSsJTUs",
        "colab": {
          "base_uri": "https://localhost:8080/"
        },
        "outputId": "d63f1d10-28a8-416b-dbc3-98b557b704e0"
      },
      "source": [
        "### EXACT GP EI GRADIENTS\n",
        "\n",
        "np.random.seed(run_num_17)\n",
        "surrogate_exact_17 = dGaussianProcess(cov_func, optimize=opt)\n",
        "\n",
        "exact_17 = dGPGO(surrogate_exact_17, Acquisition_new(util_grad_exact), objfunc, param)\n",
        "exact_17.run(init_evals=n_init, max_iter=iters)\n"
      ],
      "execution_count": 50,
      "outputs": [
        {
          "output_type": "stream",
          "name": "stdout",
          "text": [
            "Evaluation \t Proposed point \t  Current eval. \t Best eval.\n",
            "init   \t [-4.10669995  0.61173511]. \t  -17.613424143360255 \t -12.137436774523842\n",
            "init   \t [-6.16958426 -8.64199284]. \t  -187.43185031516856 \t -12.137436774523842\n",
            "init   \t [5.7397092  3.12667044]. \t  -52.49639772521824 \t -12.137436774523842\n",
            "init   \t [2.75041792 1.51205788]. \t  -12.137436774523842 \t -12.137436774523842\n",
            "init   \t [-9.21874168 -2.84372791]. \t  -101.1587749488933 \t -12.137436774523842\n",
            "1      \t [-8.64042543  9.21575513]. \t  -244.5172369008349 \t -12.137436774523842\n",
            "2      \t [ 4.54825031 -8.71744454]. \t  -172.6742595800706 \t -12.137436774523842\n",
            "3      \t [10.         9.8489567]. \t  -294.00389628765595 \t -12.137436774523842\n",
            "4      \t [-0.05385845  7.96254756]. \t  -126.80722802594437 \t -12.137436774523842\n",
            "5      \t [ 9.06636127 -2.74323799]. \t  -97.24961590065784 \t -12.137436774523842\n",
            "6      \t [ 1.12128778 -3.84984051]. \t  -30.899830223459585 \t -12.137436774523842\n",
            "7      \t [-10.           3.29091122]. \t  -121.66019331625449 \t -12.137436774523842\n",
            "8      \t [-1.02859872 -9.21677652]. \t  -170.95595419028933 \t -12.137436774523842\n",
            "9      \t [10.       -8.554051]. \t  -246.34357689111792 \t -12.137436774523842\n",
            "10     \t [ 4.69237874 10.        ]. \t  -222.0184182828519 \t -12.137436774523842\n",
            "11     \t [9.92525625 4.95743014]. \t  -147.6629386423967 \t -12.137436774523842\n",
            "12     \t [-3.81455378 -4.04688429]. \t  -47.305365358648906 \t -12.137436774523842\n",
            "13     \t [-4.90436706  6.10466669]. \t  -98.58672707846735 \t -12.137436774523842\n",
            "14     \t [-0.76533394  3.10178461]. \t  -19.827871632809973 \t -12.137436774523842\n",
            "15     \t [ 4.60957128 -1.59496115]. \t  -26.335949530363344 \t -12.137436774523842\n",
            "16     \t [-10. -10.]. \t  -300.0 \t -12.137436774523842\n",
            "17     \t [3.48900488 6.51278634]. \t  -97.00592699186639 \t -12.137436774523842\n",
            "18     \t [-0.20702424 -0.60287652]. \t  \u001b[92m-0.7697792297198128\u001b[0m \t -0.7697792297198128\n",
            "19     \t [-3.36939201  9.9999921 ]. \t  -211.3524866621669 \t -0.7697792297198128\n",
            "20     \t [9.28081458 1.06995975]. \t  -88.42314700093459 \t -0.7697792297198128\n"
          ]
        }
      ]
    },
    {
      "cell_type": "code",
      "metadata": {
        "id": "es0KCh_0JTgY",
        "colab": {
          "base_uri": "https://localhost:8080/"
        },
        "outputId": "da794707-2bb4-40f9-b277-5f34986b4db8"
      },
      "source": [
        "### EXACT GP EI GRADIENTS\n",
        "\n",
        "np.random.seed(run_num_18)\n",
        "surrogate_exact_18 = dGaussianProcess(cov_func, optimize=opt)\n",
        "\n",
        "exact_18 = dGPGO(surrogate_exact_18, Acquisition_new(util_grad_exact), objfunc, param)\n",
        "exact_18.run(init_evals=n_init, max_iter=iters)\n"
      ],
      "execution_count": 51,
      "outputs": [
        {
          "output_type": "stream",
          "name": "stdout",
          "text": [
            "Evaluation \t Proposed point \t  Current eval. \t Best eval.\n",
            "init   \t [3.00748483 0.10906747]. \t  -9.068756459576363 \t -9.068756459576363\n",
            "init   \t [ 7.57202942 -6.36319549]. \t  -138.3161432668939 \t -9.068756459576363\n",
            "init   \t [7.04466137 5.00272572]. \t  -99.6817831686958 \t -9.068756459576363\n",
            "init   \t [3.32203335 9.75790897]. \t  -201.4694803352836 \t -9.068756459576363\n",
            "init   \t [-4.86063155 -9.43388149]. \t  -201.6219791510955 \t -9.068756459576363\n",
            "1      \t [-6.1664519   4.28513481]. \t  -74.74988979878172 \t -9.068756459576363\n",
            "2      \t [-6.07110106 -2.27098711]. \t  -47.173032968123124 \t -9.068756459576363\n",
            "3      \t [10. 10.]. \t  -300.0 \t -9.068756459576363\n",
            "4      \t [-2.33775535  8.28880862]. \t  -142.8737966101193 \t -9.068756459576363\n",
            "5      \t [ 4.59940623 -9.59713586]. \t  -205.36457092968183 \t -9.068756459576363\n",
            "6      \t [-0.88286482 -3.88085007]. \t  -30.90144485825495 \t -9.068756459576363\n",
            "7      \t [10.         -0.54016002]. \t  -100.58354570402422 \t -9.068756459576363\n",
            "8      \t [-10.          -7.89563007]. \t  -224.68194838820145 \t -9.068756459576363\n",
            "9      \t [-10.           0.86715315]. \t  -101.50390915533565 \t -9.068756459576363\n",
            "10     \t [-9.69289674  8.4893621 ]. \t  -238.0907849162934 \t -9.068756459576363\n",
            "11     \t [-1.1561051   3.15042368]. \t  -21.186917793908524 \t -9.068756459576363\n",
            "12     \t [2.68462763 4.45110049]. \t  -46.831816653640054 \t -9.068756459576363\n",
            "13     \t [ 6.10357054 -2.41774605]. \t  -48.94456528309397 \t -9.068756459576363\n",
            "14     \t [-3.04136753  0.08657023]. \t  -9.26490524088142 \t -9.068756459576363\n",
            "15     \t [-10.          -3.74414888]. \t  -128.03730173695632 \t -9.068756459576363\n",
            "16     \t [ 2.8293493  -5.06815541]. \t  -59.37761596309766 \t -9.068756459576363\n",
            "17     \t [-0.12234743 -9.21480776]. \t  -169.8403331702866 \t -9.068756459576363\n",
            "18     \t [5.58591187 1.58748509]. \t  -36.24262928367548 \t -9.068756459576363\n",
            "19     \t [-5.50323001 -5.63698886]. \t  -93.83682735580521 \t -9.068756459576363\n",
            "20     \t [ 0.03170498 -0.35768268]. \t  \u001b[92m-0.2568790037829701\u001b[0m \t -0.2568790037829701\n"
          ]
        }
      ]
    },
    {
      "cell_type": "code",
      "metadata": {
        "id": "Pput2LHPIwBM",
        "colab": {
          "base_uri": "https://localhost:8080/"
        },
        "outputId": "ee62b3fb-72a1-4c99-adc0-24a98307fa0b"
      },
      "source": [
        "### EXACT GP EI GRADIENTS\n",
        "\n",
        "np.random.seed(run_num_19)\n",
        "surrogate_exact_19 = dGaussianProcess(cov_func, optimize=opt)\n",
        "\n",
        "exact_19 = dGPGO(surrogate_exact_19, Acquisition_new(util_grad_exact), objfunc, param)\n",
        "exact_19.run(init_evals=n_init, max_iter=iters)\n"
      ],
      "execution_count": 52,
      "outputs": [
        {
          "output_type": "stream",
          "name": "stdout",
          "text": [
            "Evaluation \t Proposed point \t  Current eval. \t Best eval.\n",
            "init   \t [-8.04932797  5.22499433]. \t  -119.39281225846176 \t -87.03025225125222\n",
            "init   \t [-5.06124054 -7.23736625]. \t  -130.3750962570555 \t -87.03025225125222\n",
            "init   \t [-3.37106873 -8.3400087 ]. \t  -150.4755946408245 \t -87.03025225125222\n",
            "init   \t [3.43954163 6.13187596]. \t  -87.03025225125222 \t -87.03025225125222\n",
            "init   \t [9.65483829 2.7132147 ]. \t  -107.93897039562282 \t -87.03025225125222\n",
            "1      \t [ 9.42739537 -7.28680447]. \t  -195.07082209920037 \t -87.03025225125222\n",
            "2      \t [10. 10.]. \t  -300.0 \t -87.03025225125222\n",
            "3      \t [ 0.88813083 -1.9959278 ]. \t  \u001b[92m-8.756231898391391\u001b[0m \t -8.756231898391391\n",
            "4      \t [-9.64931371 -1.76781368]. \t  -99.35958538505903 \t -8.756231898391391\n",
            "5      \t [-2.69333527  7.93798122]. \t  -133.2771466359215 \t -8.756231898391391\n",
            "6      \t [ 3.79511132 -9.6767081 ]. \t  -201.68022925439018 \t -8.756231898391391\n",
            "7      \t [-10. -10.]. \t  -300.0 \t -8.756231898391391\n",
            "8      \t [-4.06368635 -0.417722  ]. \t  -16.86253007144093 \t -8.756231898391391\n",
            "9      \t [ 5.31149722 -0.28607182]. \t  -28.3756768850526 \t -8.756231898391391\n",
            "10     \t [10.         -2.24180558]. \t  -110.0513844857336 \t -8.756231898391391\n",
            "11     \t [-0.30321396  2.63118665]. \t  -13.938225113775228 \t -8.756231898391391\n",
            "12     \t [ 4.86994949 -4.81816179]. \t  -70.14577410538548 \t -8.756231898391391\n",
            "13     \t [ 0.81008947 -6.49042547]. \t  -84.90749047016546 \t -8.756231898391391\n",
            "14     \t [ 1.51618065 10.        ]. \t  -202.29880376387553 \t -8.756231898391391\n",
            "15     \t [-7.01040998 10.        ]. \t  -249.1458480186291 \t -8.756231898391391\n",
            "16     \t [7.8485121  6.16418001]. \t  -137.5933724535784 \t -8.756231898391391\n",
            "17     \t [-9.06173111 -5.76992146]. \t  -148.69895794520608 \t -8.756231898391391\n",
            "18     \t [-5.73432636 -3.27968051]. \t  -54.395107368873454 \t -8.756231898391391\n",
            "19     \t [-3.88041024  3.35196056]. \t  -37.528862797943965 \t -8.756231898391391\n",
            "20     \t [ 5.74532799 10.        ]. \t  -233.00879369423814 \t -8.756231898391391\n"
          ]
        }
      ]
    },
    {
      "cell_type": "code",
      "metadata": {
        "id": "aw3xvSryIwDi",
        "colab": {
          "base_uri": "https://localhost:8080/"
        },
        "outputId": "095a4d55-60cd-4618-d1f2-8ae35859794f"
      },
      "source": [
        "### EXACT GP EI GRADIENTS\n",
        "\n",
        "np.random.seed(run_num_20)\n",
        "surrogate_exact_20 = dGaussianProcess(cov_func, optimize=opt)\n",
        "\n",
        "exact_20 = dGPGO(surrogate_exact_20, Acquisition_new(util_grad_exact), objfunc, param)\n",
        "exact_20.run(init_evals=n_init, max_iter=iters)\n"
      ],
      "execution_count": 53,
      "outputs": [
        {
          "output_type": "stream",
          "name": "stdout",
          "text": [
            "Evaluation \t Proposed point \t  Current eval. \t Best eval.\n",
            "init   \t [1.76261602 7.95427456]. \t  -129.64778273349407 \t -6.161449614183514\n",
            "init   \t [7.83061459 6.31674955]. \t  -141.12117450686426 \t -6.161449614183514\n",
            "init   \t [-9.28220829  3.83515164]. \t  -115.57616682517047 \t -6.161449614183514\n",
            "init   \t [-2.42638116  0.37021891]. \t  -6.161449614183514 \t -6.161449614183514\n",
            "init   \t [ 3.15902931 -6.12299564]. \t  -84.96161746112533 \t -6.161449614183514\n",
            "1      \t [ -4.37434283 -10.        ]. \t  -219.13487516066317 \t -6.161449614183514\n",
            "2      \t [ 9.14137275 -0.23498082]. \t  -83.67512764816314 \t -6.161449614183514\n",
            "3      \t [-10.          -2.75062699]. \t  -115.13189768661566 \t -6.161449614183514\n",
            "4      \t [-9.64703678 -8.72789531]. \t  -245.4176317844947 \t -6.161449614183514\n",
            "5      \t [-5.76960333  8.73906351]. \t  -186.03078463391498 \t -6.161449614183514\n",
            "6      \t [ 8.09836783 -9.7261453 ]. \t  -254.77936620194896 \t -6.161449614183514\n",
            "7      \t [2.33926891 1.4942935 ]. \t  -9.938005154098919 \t -6.161449614183514\n",
            "8      \t [-4.82780613 -3.75712023]. \t  -51.53961684690883 \t -6.161449614183514\n",
            "9      \t [  0.60179699 -10.        ]. \t  -200.36215961176808 \t -6.161449614183514\n",
            "10     \t [-1.99217693  4.38050268]. \t  -42.346376408074185 \t -6.161449614183514\n",
            "11     \t [ 9.53117541 -4.92411977]. \t  -139.3372157324612 \t -6.161449614183514\n",
            "12     \t [ 4.74249957 -1.78343646]. \t  -28.852593426571598 \t -6.161449614183514\n",
            "13     \t [-9.56910692  7.65080077]. \t  -208.63731220293215 \t -6.161449614183514\n",
            "14     \t [-0.1885971  -3.36258414]. \t  -22.64951311836777 \t -6.161449614183514\n",
            "15     \t [10. 10.]. \t  -300.0 \t -6.161449614183514\n",
            "16     \t [-6.55905122  0.54689303]. \t  -43.619336913566414 \t -6.161449614183514\n",
            "17     \t [-0.05060352  0.23002571]. \t  \u001b[92m-0.10838437036280006\u001b[0m \t -0.10838437036280006\n",
            "18     \t [ 5.45603336 10.        ]. \t  -229.76830006272695 \t -0.10838437036280006\n",
            "19     \t [5.05833897 3.33794949]. \t  -47.87060675601346 \t -0.10838437036280006\n",
            "20     \t [-5.54531451  4.61560505]. \t  -73.35813307420327 \t -0.10838437036280006\n"
          ]
        }
      ]
    },
    {
      "cell_type": "code",
      "metadata": {
        "id": "qNqAB3vBTPqb",
        "colab": {
          "base_uri": "https://localhost:8080/"
        },
        "outputId": "ebe35c1b-d50d-435f-efe5-2825f155b143"
      },
      "source": [
        "end_exact = time.time()\n",
        "end_exact\n",
        "\n",
        "time_exact = end_exact - start_exact\n",
        "time_exact"
      ],
      "execution_count": 54,
      "outputs": [
        {
          "output_type": "execute_result",
          "data": {
            "text/plain": [
              "310.9958155155182"
            ]
          },
          "metadata": {},
          "execution_count": 54
        }
      ]
    },
    {
      "cell_type": "code",
      "metadata": {
        "id": "JPQzjdBZQxfg",
        "colab": {
          "base_uri": "https://localhost:8080/"
        },
        "outputId": "2b0d37e5-a166-4604-b545-46c980f36945"
      },
      "source": [
        "### Simple regret minimization: run number = 1\n",
        "\n",
        "approx_output_1 = np.append(np.min(approx_1.GP.y[0:n_init]),approx_1.GP.y[n_init:(n_init+iters)]) \n",
        "exact_output_1 = np.append(np.min(exact_1.GP.y[0:n_init]),exact_1.GP.y[n_init:(n_init+iters)]) \n",
        "\n",
        "regret_approx_1 = np.log(-approx_output_1 + y_global_orig)\n",
        "regret_exact_1 = np.log(-exact_output_1 + y_global_orig)\n",
        "\n",
        "simple_regret_approx_1 = min_max_array(regret_approx_1)\n",
        "simple_regret_exact_1 = min_max_array(regret_exact_1)\n",
        "\n",
        "min_simple_regret_approx_1 = min(simple_regret_approx_1)\n",
        "min_simple_regret_exact_1 = min(simple_regret_exact_1)\n",
        "\n",
        "min_simple_regret_approx_1, min_simple_regret_exact_1"
      ],
      "execution_count": 55,
      "outputs": [
        {
          "output_type": "execute_result",
          "data": {
            "text/plain": [
              "(1.465305856066672, 1.127634481628468)"
            ]
          },
          "metadata": {},
          "execution_count": 55
        }
      ]
    },
    {
      "cell_type": "code",
      "metadata": {
        "id": "94yBw5tqQxfk",
        "colab": {
          "base_uri": "https://localhost:8080/"
        },
        "outputId": "301adc03-13b3-4a9a-dc78-47669ca4636d"
      },
      "source": [
        "### Simple regret minimization: run number = 2\n",
        "\n",
        "approx_output_2 = np.append(np.min(approx_2.GP.y[0:n_init]),approx_2.GP.y[n_init:(n_init+iters)]) \n",
        "exact_output_2 = np.append(np.min(exact_2.GP.y[0:n_init]),exact_2.GP.y[n_init:(n_init+iters)]) \n",
        "\n",
        "regret_approx_2 = np.log(-approx_output_2 + y_global_orig)\n",
        "regret_exact_2 = np.log(-exact_output_2 + y_global_orig)\n",
        "\n",
        "simple_regret_approx_2 = min_max_array(regret_approx_2)\n",
        "simple_regret_exact_2 = min_max_array(regret_exact_2)\n",
        "\n",
        "min_simple_regret_approx_2 = min(simple_regret_approx_2)\n",
        "min_simple_regret_exact_2 = min(simple_regret_exact_2)\n",
        "\n",
        "min_simple_regret_approx_2, min_simple_regret_exact_2"
      ],
      "execution_count": 56,
      "outputs": [
        {
          "output_type": "execute_result",
          "data": {
            "text/plain": [
              "(1.8200468629158937, 2.811135136698193)"
            ]
          },
          "metadata": {},
          "execution_count": 56
        }
      ]
    },
    {
      "cell_type": "code",
      "metadata": {
        "id": "Bu6SBWALQxfl",
        "colab": {
          "base_uri": "https://localhost:8080/"
        },
        "outputId": "39045e3c-a987-4144-e8e7-8bb4fc8cf761"
      },
      "source": [
        "### Simple regret minimization: run number = 3\n",
        "\n",
        "approx_output_3 = np.append(np.min(approx_3.GP.y[0:n_init]),approx_3.GP.y[n_init:(n_init+iters)]) \n",
        "exact_output_3 = np.append(np.min(exact_3.GP.y[0:n_init]),exact_3.GP.y[n_init:(n_init+iters)]) \n",
        "\n",
        "regret_approx_3 = np.log(-approx_output_3 + y_global_orig)\n",
        "regret_exact_3 = np.log(-exact_output_3 + y_global_orig)\n",
        "\n",
        "simple_regret_approx_3 = min_max_array(regret_approx_3)\n",
        "simple_regret_exact_3 = min_max_array(regret_exact_3)\n",
        "\n",
        "min_simple_regret_approx_3 = min(simple_regret_approx_3)\n",
        "min_simple_regret_exact_3 = min(simple_regret_exact_3)\n",
        "\n",
        "min_simple_regret_approx_3, min_simple_regret_exact_3"
      ],
      "execution_count": 57,
      "outputs": [
        {
          "output_type": "execute_result",
          "data": {
            "text/plain": [
              "(0.4014652911434721, 0.4014652911434721)"
            ]
          },
          "metadata": {},
          "execution_count": 57
        }
      ]
    },
    {
      "cell_type": "code",
      "metadata": {
        "id": "AZm0jgxkQxfm",
        "colab": {
          "base_uri": "https://localhost:8080/"
        },
        "outputId": "d7ef9d1e-100c-4d7a-bb72-d7960c144573"
      },
      "source": [
        "### Simple regret minimization: run number = 4\n",
        "\n",
        "approx_output_4 = np.append(np.min(approx_4.GP.y[0:n_init]),approx_4.GP.y[n_init:(n_init+iters)]) \n",
        "exact_output_4 = np.append(np.min(exact_4.GP.y[0:n_init]),exact_4.GP.y[n_init:(n_init+iters)]) \n",
        "\n",
        "regret_approx_4 = np.log(-approx_output_4 + y_global_orig)\n",
        "regret_exact_4 = np.log(-exact_output_4 + y_global_orig)\n",
        "\n",
        "simple_regret_approx_4 = min_max_array(regret_approx_4)\n",
        "simple_regret_exact_4 = min_max_array(regret_exact_4)\n",
        "\n",
        "min_simple_regret_approx_4 = min(simple_regret_approx_4)\n",
        "min_simple_regret_exact_4 = min(simple_regret_exact_4)\n",
        "\n",
        "min_simple_regret_approx_4, min_simple_regret_exact_4"
      ],
      "execution_count": 58,
      "outputs": [
        {
          "output_type": "execute_result",
          "data": {
            "text/plain": [
              "(1.272246576711888, 0.7478393198350645)"
            ]
          },
          "metadata": {},
          "execution_count": 58
        }
      ]
    },
    {
      "cell_type": "code",
      "metadata": {
        "id": "NONPm8JIQxfn",
        "colab": {
          "base_uri": "https://localhost:8080/"
        },
        "outputId": "12201bc8-a540-4c9e-e5de-a2de181c6f56"
      },
      "source": [
        "### Simple regret minimization: run number = 5\n",
        "\n",
        "approx_output_5 = np.append(np.min(approx_5.GP.y[0:n_init]),approx_5.GP.y[n_init:(n_init+iters)]) \n",
        "exact_output_5 = np.append(np.min(exact_5.GP.y[0:n_init]),exact_5.GP.y[n_init:(n_init+iters)]) \n",
        "\n",
        "regret_approx_5 = np.log(-approx_output_5 + y_global_orig)\n",
        "regret_exact_5 = np.log(-exact_output_5 + y_global_orig)\n",
        "\n",
        "simple_regret_approx_5 = min_max_array(regret_approx_5)\n",
        "simple_regret_exact_5 = min_max_array(regret_exact_5)\n",
        "\n",
        "min_simple_regret_approx_5 = min(simple_regret_approx_5)\n",
        "min_simple_regret_exact_5 = min(simple_regret_exact_5)\n",
        "\n",
        "min_simple_regret_approx_5, min_simple_regret_exact_5"
      ],
      "execution_count": 59,
      "outputs": [
        {
          "output_type": "execute_result",
          "data": {
            "text/plain": [
              "(2.2758380659889617, 2.047085723725567)"
            ]
          },
          "metadata": {},
          "execution_count": 59
        }
      ]
    },
    {
      "cell_type": "code",
      "metadata": {
        "id": "CJv3lPuSQxfp",
        "colab": {
          "base_uri": "https://localhost:8080/"
        },
        "outputId": "0f2e82b8-135d-4a40-eefa-3de5a5909032"
      },
      "source": [
        "### Simple regret minimization: run number = 6\n",
        "\n",
        "approx_output_6 = np.append(np.min(approx_6.GP.y[0:n_init]),approx_6.GP.y[n_init:(n_init+iters)]) \n",
        "exact_output_6 = np.append(np.min(exact_6.GP.y[0:n_init]),exact_6.GP.y[n_init:(n_init+iters)]) \n",
        "\n",
        "regret_approx_6 = np.log(-approx_output_6 + y_global_orig)\n",
        "regret_exact_6 = np.log(-exact_output_6 + y_global_orig)\n",
        "\n",
        "simple_regret_approx_6 = min_max_array(regret_approx_6)\n",
        "simple_regret_exact_6 = min_max_array(regret_exact_6)\n",
        "\n",
        "min_simple_regret_approx_6 = min(simple_regret_approx_6)\n",
        "min_simple_regret_exact_6 = min(simple_regret_exact_6)\n",
        "\n",
        "min_simple_regret_approx_6, min_simple_regret_exact_6"
      ],
      "execution_count": 60,
      "outputs": [
        {
          "output_type": "execute_result",
          "data": {
            "text/plain": [
              "(3.3726633267034507, 3.3328401955603546)"
            ]
          },
          "metadata": {},
          "execution_count": 60
        }
      ]
    },
    {
      "cell_type": "code",
      "metadata": {
        "id": "quR2ZyApQxfq",
        "colab": {
          "base_uri": "https://localhost:8080/"
        },
        "outputId": "c924efaf-3419-4a53-9afa-2b08a0b9b8b1"
      },
      "source": [
        "### Simple regret minimization: run number = 7\n",
        "\n",
        "approx_output_7 = np.append(np.min(approx_7.GP.y[0:n_init]),approx_7.GP.y[n_init:(n_init+iters)]) \n",
        "exact_output_7 = np.append(np.min(exact_7.GP.y[0:n_init]),exact_7.GP.y[n_init:(n_init+iters)]) \n",
        "\n",
        "regret_approx_7 = np.log(-approx_output_7 + y_global_orig)\n",
        "regret_exact_7 = np.log(-exact_output_7 + y_global_orig)\n",
        "\n",
        "simple_regret_approx_7 = min_max_array(regret_approx_7)\n",
        "simple_regret_exact_7 = min_max_array(regret_exact_7)\n",
        "\n",
        "min_simple_regret_approx_7 = min(simple_regret_approx_7)\n",
        "min_simple_regret_exact_7 = min(simple_regret_exact_7)\n",
        "\n",
        "min_simple_regret_approx_7, min_simple_regret_exact_7"
      ],
      "execution_count": 61,
      "outputs": [
        {
          "output_type": "execute_result",
          "data": {
            "text/plain": [
              "(0.12567557624748607, 1.4866971611927782)"
            ]
          },
          "metadata": {},
          "execution_count": 61
        }
      ]
    },
    {
      "cell_type": "code",
      "metadata": {
        "id": "99wY5nK6Qxfr",
        "colab": {
          "base_uri": "https://localhost:8080/"
        },
        "outputId": "9d71697b-8549-4d41-870f-96274dab3303"
      },
      "source": [
        "### Simple regret minimization: run number = 8\n",
        "\n",
        "approx_output_8 = np.append(np.min(approx_8.GP.y[0:n_init]),approx_8.GP.y[n_init:(n_init+iters)]) \n",
        "exact_output_8 = np.append(np.min(exact_8.GP.y[0:n_init]),exact_8.GP.y[n_init:(n_init+iters)]) \n",
        "\n",
        "regret_approx_8 = np.log(-approx_output_8 + y_global_orig)\n",
        "regret_exact_8 = np.log(-exact_output_8 + y_global_orig)\n",
        "\n",
        "simple_regret_approx_8 = min_max_array(regret_approx_8)\n",
        "simple_regret_exact_8 = min_max_array(regret_exact_8)\n",
        "\n",
        "min_simple_regret_approx_8 = min(simple_regret_approx_8)\n",
        "min_simple_regret_exact_8 = min(simple_regret_exact_8)\n",
        "\n",
        "min_simple_regret_approx_8, min_simple_regret_exact_8"
      ],
      "execution_count": 62,
      "outputs": [
        {
          "output_type": "execute_result",
          "data": {
            "text/plain": [
              "(2.5021962340571333, 1.9223992157149028)"
            ]
          },
          "metadata": {},
          "execution_count": 62
        }
      ]
    },
    {
      "cell_type": "code",
      "metadata": {
        "id": "qt0P5t9qQxfs",
        "colab": {
          "base_uri": "https://localhost:8080/"
        },
        "outputId": "8746710f-64bf-4daf-f4c9-86b238a793e9"
      },
      "source": [
        "### Simple regret minimization: run number = 9\n",
        "\n",
        "approx_output_9 = np.append(np.min(approx_9.GP.y[0:n_init]),approx_9.GP.y[n_init:(n_init+iters)]) \n",
        "exact_output_9 = np.append(np.min(exact_9.GP.y[0:n_init]),exact_9.GP.y[n_init:(n_init+iters)]) \n",
        "\n",
        "regret_approx_9 = np.log(-approx_output_9 + y_global_orig)\n",
        "regret_exact_9 = np.log(-exact_output_9 + y_global_orig)\n",
        "\n",
        "simple_regret_approx_9 = min_max_array(regret_approx_9)\n",
        "simple_regret_exact_9 = min_max_array(regret_exact_9)\n",
        "\n",
        "min_simple_regret_approx_9 = min(simple_regret_approx_9)\n",
        "min_simple_regret_exact_9 = min(simple_regret_exact_9)\n",
        "\n",
        "min_simple_regret_approx_9, min_simple_regret_exact_9"
      ],
      "execution_count": 63,
      "outputs": [
        {
          "output_type": "execute_result",
          "data": {
            "text/plain": [
              "(1.260114153321654, 1.8544857353666753)"
            ]
          },
          "metadata": {},
          "execution_count": 63
        }
      ]
    },
    {
      "cell_type": "code",
      "metadata": {
        "id": "vx8to9stQxft",
        "colab": {
          "base_uri": "https://localhost:8080/"
        },
        "outputId": "91a4ad71-a173-40cc-9684-32d1dd7a16c0"
      },
      "source": [
        "### Simple regret minimization: run number = 10\n",
        "\n",
        "approx_output_10 = np.append(np.min(approx_10.GP.y[0:n_init]),approx_10.GP.y[n_init:(n_init+iters)]) \n",
        "exact_output_10 = np.append(np.min(exact_10.GP.y[0:n_init]),exact_10.GP.y[n_init:(n_init+iters)]) \n",
        "\n",
        "regret_approx_10 = np.log(-approx_output_10 + y_global_orig)\n",
        "regret_exact_10 = np.log(-exact_output_10 + y_global_orig)\n",
        "\n",
        "simple_regret_approx_10 = min_max_array(regret_approx_10)\n",
        "simple_regret_exact_10 = min_max_array(regret_exact_10)\n",
        "\n",
        "min_simple_regret_approx_10 = min(simple_regret_approx_10)\n",
        "min_simple_regret_exact_10 = min(simple_regret_exact_10)\n",
        "\n",
        "min_simple_regret_approx_10, min_simple_regret_exact_10"
      ],
      "execution_count": 64,
      "outputs": [
        {
          "output_type": "execute_result",
          "data": {
            "text/plain": [
              "(1.526866602142688, 1.526866602142688)"
            ]
          },
          "metadata": {},
          "execution_count": 64
        }
      ]
    },
    {
      "cell_type": "code",
      "metadata": {
        "id": "d-FGzWyHQxfu",
        "colab": {
          "base_uri": "https://localhost:8080/"
        },
        "outputId": "5012632f-c6b2-48a0-cc38-15b8bf2f5577"
      },
      "source": [
        "### Simple regret minimization: run number = 11\n",
        "\n",
        "approx_output_11 = np.append(np.min(approx_11.GP.y[0:n_init]),approx_11.GP.y[n_init:(n_init+iters)]) \n",
        "exact_output_11 = np.append(np.min(exact_11.GP.y[0:n_init]),exact_11.GP.y[n_init:(n_init+iters)]) \n",
        "\n",
        "regret_approx_11 = np.log(-approx_output_11 + y_global_orig)\n",
        "regret_exact_11 = np.log(-exact_output_11 + y_global_orig)\n",
        "\n",
        "simple_regret_approx_11 = min_max_array(regret_approx_11)\n",
        "simple_regret_exact_11 = min_max_array(regret_exact_11)\n",
        "\n",
        "min_simple_regret_approx_11 = min(simple_regret_approx_11)\n",
        "min_simple_regret_exact_11 = min(simple_regret_exact_11)\n",
        "\n",
        "min_simple_regret_approx_11, min_simple_regret_exact_11"
      ],
      "execution_count": 65,
      "outputs": [
        {
          "output_type": "execute_result",
          "data": {
            "text/plain": [
              "(1.035438149727752, 1.2279342490767278)"
            ]
          },
          "metadata": {},
          "execution_count": 65
        }
      ]
    },
    {
      "cell_type": "code",
      "metadata": {
        "id": "SvtsssyjQxfv",
        "colab": {
          "base_uri": "https://localhost:8080/"
        },
        "outputId": "ba344b1d-cab2-4c78-8f27-8ff704b52406"
      },
      "source": [
        "### Simple regret minimization: run number = 12\n",
        "\n",
        "approx_output_12 = np.append(np.min(approx_12.GP.y[0:n_init]),approx_12.GP.y[n_init:(n_init+iters)]) \n",
        "exact_output_12 = np.append(np.min(exact_12.GP.y[0:n_init]),exact_12.GP.y[n_init:(n_init+iters)]) \n",
        "\n",
        "regret_approx_12 = np.log(-approx_output_12 + y_global_orig)\n",
        "regret_exact_12 = np.log(-exact_output_12 + y_global_orig)\n",
        "\n",
        "simple_regret_approx_12 = min_max_array(regret_approx_12)\n",
        "simple_regret_exact_12 = min_max_array(regret_exact_12)\n",
        "\n",
        "min_simple_regret_approx_12 = min(simple_regret_approx_12)\n",
        "min_simple_regret_exact_12 = min(simple_regret_exact_12)\n",
        "\n",
        "min_simple_regret_approx_12, min_simple_regret_exact_12"
      ],
      "execution_count": 66,
      "outputs": [
        {
          "output_type": "execute_result",
          "data": {
            "text/plain": [
              "(0.8140249632510234, 0.59453273328278)"
            ]
          },
          "metadata": {},
          "execution_count": 66
        }
      ]
    },
    {
      "cell_type": "code",
      "metadata": {
        "id": "K6OiGcHkQxfw",
        "colab": {
          "base_uri": "https://localhost:8080/"
        },
        "outputId": "456b917f-fbcc-460a-940e-7af177341399"
      },
      "source": [
        "### Simple regret minimization: run number = 13\n",
        "\n",
        "approx_output_13 = np.append(np.min(approx_13.GP.y[0:n_init]),approx_13.GP.y[n_init:(n_init+iters)]) \n",
        "exact_output_13 = np.append(np.min(exact_13.GP.y[0:n_init]),exact_13.GP.y[n_init:(n_init+iters)]) \n",
        "\n",
        "regret_approx_13 = np.log(-approx_output_13 + y_global_orig)\n",
        "regret_exact_13 = np.log(-exact_output_13 + y_global_orig)\n",
        "\n",
        "simple_regret_approx_13 = min_max_array(regret_approx_13)\n",
        "simple_regret_exact_13 = min_max_array(regret_exact_13)\n",
        "\n",
        "min_simple_regret_approx_13 = min(simple_regret_approx_13)\n",
        "min_simple_regret_exact_13 = min(simple_regret_exact_13)\n",
        "\n",
        "min_simple_regret_approx_13, min_simple_regret_exact_13"
      ],
      "execution_count": 67,
      "outputs": [
        {
          "output_type": "execute_result",
          "data": {
            "text/plain": [
              "(1.8606938644739544, 1.3534680160934733)"
            ]
          },
          "metadata": {},
          "execution_count": 67
        }
      ]
    },
    {
      "cell_type": "code",
      "metadata": {
        "id": "ogML73shQxfx",
        "colab": {
          "base_uri": "https://localhost:8080/"
        },
        "outputId": "87ca98fd-dcbc-4a97-e9ed-2dab1f37c9cb"
      },
      "source": [
        "### Simple regret minimization: run number = 14\n",
        "\n",
        "approx_output_14 = np.append(np.min(approx_14.GP.y[0:n_init]),approx_14.GP.y[n_init:(n_init+iters)]) \n",
        "exact_output_14 = np.append(np.min(exact_14.GP.y[0:n_init]),exact_14.GP.y[n_init:(n_init+iters)]) \n",
        "\n",
        "regret_approx_14 = np.log(-approx_output_14 + y_global_orig)\n",
        "regret_exact_14 = np.log(-exact_output_14 + y_global_orig)\n",
        "\n",
        "simple_regret_approx_14 = min_max_array(regret_approx_14)\n",
        "simple_regret_exact_14 = min_max_array(regret_exact_14)\n",
        "\n",
        "min_simple_regret_approx_14 = min(simple_regret_approx_14)\n",
        "min_simple_regret_exact_14 = min(simple_regret_exact_14)\n",
        "\n",
        "min_simple_regret_approx_14, min_simple_regret_exact_14"
      ],
      "execution_count": 68,
      "outputs": [
        {
          "output_type": "execute_result",
          "data": {
            "text/plain": [
              "(-1.0400467999472245, 1.3459231257963975)"
            ]
          },
          "metadata": {},
          "execution_count": 68
        }
      ]
    },
    {
      "cell_type": "code",
      "metadata": {
        "id": "9Eg7gFT9Qxfx",
        "colab": {
          "base_uri": "https://localhost:8080/"
        },
        "outputId": "5914a09d-e245-4794-c3a4-c402601e1ae7"
      },
      "source": [
        "### Simple regret minimization: run number = 15\n",
        "\n",
        "approx_output_15 = np.append(np.min(approx_15.GP.y[0:n_init]),approx_15.GP.y[n_init:(n_init+iters)]) \n",
        "exact_output_15 = np.append(np.min(exact_15.GP.y[0:n_init]),exact_15.GP.y[n_init:(n_init+iters)]) \n",
        "\n",
        "regret_approx_15 = np.log(-approx_output_15 + y_global_orig)\n",
        "regret_exact_15 = np.log(-exact_output_15 + y_global_orig)\n",
        "\n",
        "simple_regret_approx_15 = min_max_array(regret_approx_15)\n",
        "simple_regret_exact_15 = min_max_array(regret_exact_15)\n",
        "\n",
        "min_simple_regret_approx_15 = min(simple_regret_approx_15)\n",
        "min_simple_regret_exact_15 = min(simple_regret_exact_15)\n",
        "\n",
        "min_simple_regret_approx_15, min_simple_regret_exact_15"
      ],
      "execution_count": 69,
      "outputs": [
        {
          "output_type": "execute_result",
          "data": {
            "text/plain": [
              "(0.8626439747023062, 0.5176143232949555)"
            ]
          },
          "metadata": {},
          "execution_count": 69
        }
      ]
    },
    {
      "cell_type": "code",
      "metadata": {
        "id": "lIAC1U7ZQxfy",
        "colab": {
          "base_uri": "https://localhost:8080/"
        },
        "outputId": "1aa397ac-d643-4677-a2c2-e1e5e1f83812"
      },
      "source": [
        "### Simple regret minimization: run number = 16\n",
        "\n",
        "approx_output_16 = np.append(np.min(approx_16.GP.y[0:n_init]),approx_16.GP.y[n_init:(n_init+iters)]) \n",
        "exact_output_16 = np.append(np.min(exact_16.GP.y[0:n_init]),exact_16.GP.y[n_init:(n_init+iters)]) \n",
        "\n",
        "regret_approx_16 = np.log(-approx_output_16 + y_global_orig)\n",
        "regret_exact_16 = np.log(-exact_output_16 + y_global_orig)\n",
        "\n",
        "simple_regret_approx_16 = min_max_array(regret_approx_16)\n",
        "simple_regret_exact_16 = min_max_array(regret_exact_16)\n",
        "\n",
        "min_simple_regret_approx_16 = min(simple_regret_approx_16)\n",
        "min_simple_regret_exact_16 = min(simple_regret_exact_16)\n",
        "\n",
        "min_simple_regret_approx_16, min_simple_regret_exact_16"
      ],
      "execution_count": 70,
      "outputs": [
        {
          "output_type": "execute_result",
          "data": {
            "text/plain": [
              "(1.5148153736763112, -0.664629169159842)"
            ]
          },
          "metadata": {},
          "execution_count": 70
        }
      ]
    },
    {
      "cell_type": "code",
      "metadata": {
        "id": "bGott36OQxfz",
        "colab": {
          "base_uri": "https://localhost:8080/"
        },
        "outputId": "3935d51a-54dc-4960-9dd9-bd00abfef874"
      },
      "source": [
        "### Simple regret minimization: run number = 17\n",
        "\n",
        "approx_output_17 = np.append(np.min(approx_17.GP.y[0:n_init]),approx_17.GP.y[n_init:(n_init+iters)]) \n",
        "exact_output_17 = np.append(np.min(exact_17.GP.y[0:n_init]),exact_17.GP.y[n_init:(n_init+iters)]) \n",
        "\n",
        "regret_approx_17 = np.log(-approx_output_17 + y_global_orig)\n",
        "regret_exact_17 = np.log(-exact_output_17 + y_global_orig)\n",
        "\n",
        "simple_regret_approx_17 = min_max_array(regret_approx_17)\n",
        "simple_regret_exact_17 = min_max_array(regret_exact_17)\n",
        "\n",
        "min_simple_regret_approx_17 = min(simple_regret_approx_17)\n",
        "min_simple_regret_exact_17 = min(simple_regret_exact_17)\n",
        "\n",
        "min_simple_regret_approx_17, min_simple_regret_exact_17"
      ],
      "execution_count": 71,
      "outputs": [
        {
          "output_type": "execute_result",
          "data": {
            "text/plain": [
              "(1.4246569812496406, -0.2616515198945046)"
            ]
          },
          "metadata": {},
          "execution_count": 71
        }
      ]
    },
    {
      "cell_type": "code",
      "metadata": {
        "id": "Cz9ZYMBMQxfz",
        "colab": {
          "base_uri": "https://localhost:8080/"
        },
        "outputId": "4d5f1be9-4b1c-431d-bb1f-7ce7413becae"
      },
      "source": [
        "### Simple regret minimization: run number = 18\n",
        "\n",
        "approx_output_18 = np.append(np.min(approx_18.GP.y[0:n_init]),approx_18.GP.y[n_init:(n_init+iters)]) \n",
        "exact_output_18 = np.append(np.min(exact_18.GP.y[0:n_init]),exact_18.GP.y[n_init:(n_init+iters)]) \n",
        "\n",
        "regret_approx_18 = np.log(-approx_output_18 + y_global_orig)\n",
        "regret_exact_18 = np.log(-exact_output_18 + y_global_orig)\n",
        "\n",
        "simple_regret_approx_18 = min_max_array(regret_approx_18)\n",
        "simple_regret_exact_18 = min_max_array(regret_exact_18)\n",
        "\n",
        "min_simple_regret_approx_18 = min(simple_regret_approx_18)\n",
        "min_simple_regret_exact_18 = min(simple_regret_exact_18)\n",
        "\n",
        "min_simple_regret_approx_18, min_simple_regret_exact_18"
      ],
      "execution_count": 72,
      "outputs": [
        {
          "output_type": "execute_result",
          "data": {
            "text/plain": [
              "(1.7464381178407749, -1.3591501073500598)"
            ]
          },
          "metadata": {},
          "execution_count": 72
        }
      ]
    },
    {
      "cell_type": "code",
      "metadata": {
        "id": "OBfpWOHNQxf0",
        "colab": {
          "base_uri": "https://localhost:8080/"
        },
        "outputId": "5db796ff-03da-4e26-9501-e1ed2216b059"
      },
      "source": [
        "### Simple regret minimization: run number = 19\n",
        "\n",
        "approx_output_19 = np.append(np.min(approx_19.GP.y[0:n_init]),approx_19.GP.y[n_init:(n_init+iters)]) \n",
        "exact_output_19 = np.append(np.min(exact_19.GP.y[0:n_init]),exact_19.GP.y[n_init:(n_init+iters)]) \n",
        "\n",
        "regret_approx_19 = np.log(-approx_output_19 + y_global_orig)\n",
        "regret_exact_19 = np.log(-exact_output_19 + y_global_orig)\n",
        "\n",
        "simple_regret_approx_19 = min_max_array(regret_approx_19)\n",
        "simple_regret_exact_19 = min_max_array(regret_exact_19)\n",
        "\n",
        "min_simple_regret_approx_19 = min(simple_regret_approx_19)\n",
        "min_simple_regret_exact_19 = min(simple_regret_exact_19)\n",
        "\n",
        "min_simple_regret_approx_19, min_simple_regret_exact_19"
      ],
      "execution_count": 73,
      "outputs": [
        {
          "output_type": "execute_result",
          "data": {
            "text/plain": [
              "(0.9259072164184522, 2.1697656638224014)"
            ]
          },
          "metadata": {},
          "execution_count": 73
        }
      ]
    },
    {
      "cell_type": "code",
      "metadata": {
        "id": "BE1AJ7NsQxf0",
        "colab": {
          "base_uri": "https://localhost:8080/"
        },
        "outputId": "864f9dd5-000b-437b-b569-65bbab40c32e"
      },
      "source": [
        "### Simple regret minimization: run number = 20\n",
        "\n",
        "approx_output_20 = np.append(np.min(approx_20.GP.y[0:n_init]),approx_20.GP.y[n_init:(n_init+iters)]) \n",
        "exact_output_20 = np.append(np.min(exact_20.GP.y[0:n_init]),exact_20.GP.y[n_init:(n_init+iters)]) \n",
        "\n",
        "regret_approx_20 = np.log(-approx_output_20 + y_global_orig)\n",
        "regret_exact_20 = np.log(-exact_output_20 + y_global_orig)\n",
        "\n",
        "simple_regret_approx_20 = min_max_array(regret_approx_20)\n",
        "simple_regret_exact_20 = min_max_array(regret_exact_20)\n",
        "\n",
        "min_simple_regret_approx_20 = min(simple_regret_approx_20)\n",
        "min_simple_regret_exact_20 = min(simple_regret_exact_20)\n",
        "\n",
        "min_simple_regret_approx_20, min_simple_regret_exact_20"
      ],
      "execution_count": 74,
      "outputs": [
        {
          "output_type": "execute_result",
          "data": {
            "text/plain": [
              "(1.338424155416095, -2.222071385217243)"
            ]
          },
          "metadata": {},
          "execution_count": 74
        }
      ]
    },
    {
      "cell_type": "code",
      "metadata": {
        "id": "bpX-bKAHQxf1"
      },
      "source": [
        "# Iteration1 :\n",
        "\n",
        "slice1 = 0\n",
        "\n",
        "approx1 = [simple_regret_approx_1[slice1],\n",
        "       simple_regret_approx_2[slice1],\n",
        "       simple_regret_approx_3[slice1],\n",
        "       simple_regret_approx_4[slice1],\n",
        "       simple_regret_approx_5[slice1],\n",
        "       simple_regret_approx_6[slice1],\n",
        "       simple_regret_approx_7[slice1],\n",
        "       simple_regret_approx_8[slice1],\n",
        "       simple_regret_approx_9[slice1],\n",
        "       simple_regret_approx_10[slice1],\n",
        "       simple_regret_approx_11[slice1],\n",
        "       simple_regret_approx_12[slice1],\n",
        "       simple_regret_approx_13[slice1],\n",
        "       simple_regret_approx_14[slice1],\n",
        "       simple_regret_approx_15[slice1],\n",
        "       simple_regret_approx_16[slice1],\n",
        "       simple_regret_approx_17[slice1],\n",
        "       simple_regret_approx_18[slice1],\n",
        "       simple_regret_approx_19[slice1],\n",
        "       simple_regret_approx_20[slice1]]\n",
        "\n",
        "exact1 = [simple_regret_exact_1[slice1],\n",
        "       simple_regret_exact_2[slice1],\n",
        "       simple_regret_exact_3[slice1],\n",
        "       simple_regret_exact_4[slice1],\n",
        "       simple_regret_exact_5[slice1],\n",
        "       simple_regret_exact_6[slice1],\n",
        "       simple_regret_exact_7[slice1],\n",
        "       simple_regret_exact_8[slice1],\n",
        "       simple_regret_exact_9[slice1],\n",
        "       simple_regret_exact_10[slice1],\n",
        "       simple_regret_exact_11[slice1],\n",
        "       simple_regret_exact_12[slice1],\n",
        "       simple_regret_exact_13[slice1],\n",
        "       simple_regret_exact_14[slice1],\n",
        "       simple_regret_exact_15[slice1],\n",
        "       simple_regret_exact_16[slice1],\n",
        "       simple_regret_exact_17[slice1],\n",
        "       simple_regret_exact_18[slice1],\n",
        "       simple_regret_exact_19[slice1],\n",
        "       simple_regret_exact_20[slice1]]\n",
        "\n",
        "approx1_results = pd.DataFrame(approx1).sort_values(by=[0], ascending=False)\n",
        "exact1_results = pd.DataFrame(exact1).sort_values(by=[0], ascending=False)\n",
        "\n",
        "### Best simple regret minimization IQR - approx:\n",
        "lower_approx1 = np.asarray(approx1_results[4:5][0])[0]\n",
        "median_approx1 = np.asarray(approx1_results[9:10][0])[0]\n",
        "upper_approx1 = np.asarray(approx1_results[14:15][0])[0]\n",
        "\n",
        "lower_exact1 = np.asarray(exact1_results[4:5][0])[0]\n",
        "median_exact1 = np.asarray(exact1_results[9:10][0])[0]\n",
        "upper_exact1 = np.asarray(exact1_results[14:15][0])[0]"
      ],
      "execution_count": 75,
      "outputs": []
    },
    {
      "cell_type": "code",
      "metadata": {
        "id": "CgIkJA1xQxf2"
      },
      "source": [
        "# Iteration11 :\n",
        "\n",
        "slice11 = 10\n",
        "\n",
        "approx11 = [simple_regret_approx_1[slice11],\n",
        "       simple_regret_approx_2[slice11],\n",
        "       simple_regret_approx_3[slice11],\n",
        "       simple_regret_approx_4[slice11],\n",
        "       simple_regret_approx_5[slice11],\n",
        "       simple_regret_approx_6[slice11],\n",
        "       simple_regret_approx_7[slice11],\n",
        "       simple_regret_approx_8[slice11],\n",
        "       simple_regret_approx_9[slice11],\n",
        "       simple_regret_approx_10[slice11],\n",
        "       simple_regret_approx_11[slice11],\n",
        "       simple_regret_approx_12[slice11],\n",
        "       simple_regret_approx_13[slice11],\n",
        "       simple_regret_approx_14[slice11],\n",
        "       simple_regret_approx_15[slice11],\n",
        "       simple_regret_approx_16[slice11],\n",
        "       simple_regret_approx_17[slice11],\n",
        "       simple_regret_approx_18[slice11],\n",
        "       simple_regret_approx_19[slice11],\n",
        "       simple_regret_approx_20[slice11]]\n",
        "\n",
        "exact11 = [simple_regret_exact_1[slice11],\n",
        "       simple_regret_exact_2[slice11],\n",
        "       simple_regret_exact_3[slice11],\n",
        "       simple_regret_exact_4[slice11],\n",
        "       simple_regret_exact_5[slice11],\n",
        "       simple_regret_exact_6[slice11],\n",
        "       simple_regret_exact_7[slice11],\n",
        "       simple_regret_exact_8[slice11],\n",
        "       simple_regret_exact_9[slice11],\n",
        "       simple_regret_exact_10[slice11],\n",
        "       simple_regret_exact_11[slice11],\n",
        "       simple_regret_exact_12[slice11],\n",
        "       simple_regret_exact_13[slice11],\n",
        "       simple_regret_exact_14[slice11],\n",
        "       simple_regret_exact_15[slice11],\n",
        "       simple_regret_exact_16[slice11],\n",
        "       simple_regret_exact_17[slice11],\n",
        "       simple_regret_exact_18[slice11],\n",
        "       simple_regret_exact_19[slice11],\n",
        "       simple_regret_exact_20[slice11]]\n",
        "\n",
        "approx11_results = pd.DataFrame(approx11).sort_values(by=[0], ascending=False)\n",
        "exact11_results = pd.DataFrame(exact11).sort_values(by=[0], ascending=False)\n",
        "\n",
        "### Best simple regret minimization IQR - approx:\n",
        "lower_approx11 = np.asarray(approx11_results[4:5][0])[0]\n",
        "median_approx11 = np.asarray(approx11_results[9:10][0])[0]\n",
        "upper_approx11 = np.asarray(approx11_results[14:15][0])[0]\n",
        "\n",
        "lower_exact11 = np.asarray(exact11_results[4:5][0])[0]\n",
        "median_exact11 = np.asarray(exact11_results[9:10][0])[0]\n",
        "upper_exact11 = np.asarray(exact11_results[14:15][0])[0]"
      ],
      "execution_count": 76,
      "outputs": []
    },
    {
      "cell_type": "code",
      "metadata": {
        "id": "MFePDfGuQxf2"
      },
      "source": [
        "# Iteration21 :\n",
        "\n",
        "slice21 = 20\n",
        "\n",
        "approx21 = [simple_regret_approx_1[slice21],\n",
        "       simple_regret_approx_2[slice21],\n",
        "       simple_regret_approx_3[slice21],\n",
        "       simple_regret_approx_4[slice21],\n",
        "       simple_regret_approx_5[slice21],\n",
        "       simple_regret_approx_6[slice21],\n",
        "       simple_regret_approx_7[slice21],\n",
        "       simple_regret_approx_8[slice21],\n",
        "       simple_regret_approx_9[slice21],\n",
        "       simple_regret_approx_10[slice21],\n",
        "       simple_regret_approx_11[slice21],\n",
        "       simple_regret_approx_12[slice21],\n",
        "       simple_regret_approx_13[slice21],\n",
        "       simple_regret_approx_14[slice21],\n",
        "       simple_regret_approx_15[slice21],\n",
        "       simple_regret_approx_16[slice21],\n",
        "       simple_regret_approx_17[slice21],\n",
        "       simple_regret_approx_18[slice21],\n",
        "       simple_regret_approx_19[slice21],\n",
        "       simple_regret_approx_20[slice21]]\n",
        "\n",
        "exact21 = [simple_regret_exact_1[slice21],\n",
        "       simple_regret_exact_2[slice21],\n",
        "       simple_regret_exact_3[slice21],\n",
        "       simple_regret_exact_4[slice21],\n",
        "       simple_regret_exact_5[slice21],\n",
        "       simple_regret_exact_6[slice21],\n",
        "       simple_regret_exact_7[slice21],\n",
        "       simple_regret_exact_8[slice21],\n",
        "       simple_regret_exact_9[slice21],\n",
        "       simple_regret_exact_10[slice21],\n",
        "       simple_regret_exact_11[slice21],\n",
        "       simple_regret_exact_12[slice21],\n",
        "       simple_regret_exact_13[slice21],\n",
        "       simple_regret_exact_14[slice21],\n",
        "       simple_regret_exact_15[slice21],\n",
        "       simple_regret_exact_16[slice21],\n",
        "       simple_regret_exact_17[slice21],\n",
        "       simple_regret_exact_18[slice21],\n",
        "       simple_regret_exact_19[slice21],\n",
        "       simple_regret_exact_20[slice21]]\n",
        "\n",
        "approx21_results = pd.DataFrame(approx21).sort_values(by=[0], ascending=False)\n",
        "exact21_results = pd.DataFrame(exact21).sort_values(by=[0], ascending=False)\n",
        "\n",
        "### Best simple regret minimization IQR - approx:\n",
        "lower_approx21 = np.asarray(approx21_results[4:5][0])[0]\n",
        "median_approx21 = np.asarray(approx21_results[9:10][0])[0]\n",
        "upper_approx21 = np.asarray(approx21_results[14:15][0])[0]\n",
        "\n",
        "lower_exact21 = np.asarray(exact21_results[4:5][0])[0]\n",
        "median_exact21 = np.asarray(exact21_results[9:10][0])[0]\n",
        "upper_exact21 = np.asarray(exact21_results[14:15][0])[0]"
      ],
      "execution_count": 77,
      "outputs": []
    },
    {
      "cell_type": "code",
      "metadata": {
        "id": "PrRDB1kfQxf3"
      },
      "source": [
        "# Iteration2 :\n",
        "\n",
        "slice2 = 1\n",
        "\n",
        "approx2 = [simple_regret_approx_1[slice2],\n",
        "       simple_regret_approx_2[slice2],\n",
        "       simple_regret_approx_3[slice2],\n",
        "       simple_regret_approx_4[slice2],\n",
        "       simple_regret_approx_5[slice2],\n",
        "       simple_regret_approx_6[slice2],\n",
        "       simple_regret_approx_7[slice2],\n",
        "       simple_regret_approx_8[slice2],\n",
        "       simple_regret_approx_9[slice2],\n",
        "       simple_regret_approx_10[slice2],\n",
        "       simple_regret_approx_11[slice2],\n",
        "       simple_regret_approx_12[slice2],\n",
        "       simple_regret_approx_13[slice2],\n",
        "       simple_regret_approx_14[slice2],\n",
        "       simple_regret_approx_15[slice2],\n",
        "       simple_regret_approx_16[slice2],\n",
        "       simple_regret_approx_17[slice2],\n",
        "       simple_regret_approx_18[slice2],\n",
        "       simple_regret_approx_19[slice2],\n",
        "       simple_regret_approx_20[slice2]]\n",
        "\n",
        "exact2 = [simple_regret_exact_1[slice2],\n",
        "       simple_regret_exact_2[slice2],\n",
        "       simple_regret_exact_3[slice2],\n",
        "       simple_regret_exact_4[slice2],\n",
        "       simple_regret_exact_5[slice2],\n",
        "       simple_regret_exact_6[slice2],\n",
        "       simple_regret_exact_7[slice2],\n",
        "       simple_regret_exact_8[slice2],\n",
        "       simple_regret_exact_9[slice2],\n",
        "       simple_regret_exact_10[slice2],\n",
        "       simple_regret_exact_11[slice2],\n",
        "       simple_regret_exact_12[slice2],\n",
        "       simple_regret_exact_13[slice2],\n",
        "       simple_regret_exact_14[slice2],\n",
        "       simple_regret_exact_15[slice2],\n",
        "       simple_regret_exact_16[slice2],\n",
        "       simple_regret_exact_17[slice2],\n",
        "       simple_regret_exact_18[slice2],\n",
        "       simple_regret_exact_19[slice2],\n",
        "       simple_regret_exact_20[slice2]]\n",
        "\n",
        "approx2_results = pd.DataFrame(approx2).sort_values(by=[0], ascending=False)\n",
        "exact2_results = pd.DataFrame(exact2).sort_values(by=[0], ascending=False)\n",
        "\n",
        "### Best simple regret minimization IQR - approx:\n",
        "lower_approx2 = np.asarray(approx2_results[4:5][0])[0]\n",
        "median_approx2 = np.asarray(approx2_results[9:10][0])[0]\n",
        "upper_approx2 = np.asarray(approx2_results[14:15][0])[0]\n",
        "\n",
        "lower_exact2 = np.asarray(exact2_results[4:5][0])[0]\n",
        "median_exact2 = np.asarray(exact2_results[9:10][0])[0]\n",
        "upper_exact2 = np.asarray(exact2_results[14:15][0])[0]"
      ],
      "execution_count": 78,
      "outputs": []
    },
    {
      "cell_type": "code",
      "metadata": {
        "id": "B8ncJDYeQxf3"
      },
      "source": [
        "# Iteration12 :\n",
        "\n",
        "slice12 = 11\n",
        "\n",
        "approx12 = [simple_regret_approx_1[slice12],\n",
        "       simple_regret_approx_2[slice12],\n",
        "       simple_regret_approx_3[slice12],\n",
        "       simple_regret_approx_4[slice12],\n",
        "       simple_regret_approx_5[slice12],\n",
        "       simple_regret_approx_6[slice12],\n",
        "       simple_regret_approx_7[slice12],\n",
        "       simple_regret_approx_8[slice12],\n",
        "       simple_regret_approx_9[slice12],\n",
        "       simple_regret_approx_10[slice12],\n",
        "       simple_regret_approx_11[slice12],\n",
        "       simple_regret_approx_12[slice12],\n",
        "       simple_regret_approx_13[slice12],\n",
        "       simple_regret_approx_14[slice12],\n",
        "       simple_regret_approx_15[slice12],\n",
        "       simple_regret_approx_16[slice12],\n",
        "       simple_regret_approx_17[slice12],\n",
        "       simple_regret_approx_18[slice12],\n",
        "       simple_regret_approx_19[slice12],\n",
        "       simple_regret_approx_20[slice12]]\n",
        "\n",
        "exact12 = [simple_regret_exact_1[slice12],\n",
        "       simple_regret_exact_2[slice12],\n",
        "       simple_regret_exact_3[slice12],\n",
        "       simple_regret_exact_4[slice12],\n",
        "       simple_regret_exact_5[slice12],\n",
        "       simple_regret_exact_6[slice12],\n",
        "       simple_regret_exact_7[slice12],\n",
        "       simple_regret_exact_8[slice12],\n",
        "       simple_regret_exact_9[slice12],\n",
        "       simple_regret_exact_10[slice12],\n",
        "       simple_regret_exact_11[slice12],\n",
        "       simple_regret_exact_12[slice12],\n",
        "       simple_regret_exact_13[slice12],\n",
        "       simple_regret_exact_14[slice12],\n",
        "       simple_regret_exact_15[slice12],\n",
        "       simple_regret_exact_16[slice12],\n",
        "       simple_regret_exact_17[slice12],\n",
        "       simple_regret_exact_18[slice12],\n",
        "       simple_regret_exact_19[slice12],\n",
        "       simple_regret_exact_20[slice12]]\n",
        "\n",
        "approx12_results = pd.DataFrame(approx12).sort_values(by=[0], ascending=False)\n",
        "exact12_results = pd.DataFrame(exact12).sort_values(by=[0], ascending=False)\n",
        "\n",
        "### Best simple regret minimization IQR - approx:\n",
        "lower_approx12 = np.asarray(approx12_results[4:5][0])[0]\n",
        "median_approx12 = np.asarray(approx12_results[9:10][0])[0]\n",
        "upper_approx12 = np.asarray(approx12_results[14:15][0])[0]\n",
        "\n",
        "lower_exact12 = np.asarray(exact12_results[4:5][0])[0]\n",
        "median_exact12 = np.asarray(exact12_results[9:10][0])[0]\n",
        "upper_exact12 = np.asarray(exact12_results[14:15][0])[0]"
      ],
      "execution_count": 79,
      "outputs": []
    },
    {
      "cell_type": "code",
      "metadata": {
        "id": "Jn4KpGvcQxf4"
      },
      "source": [
        "# Iteration3 :\n",
        "\n",
        "slice3 = 2\n",
        "\n",
        "approx3 = [simple_regret_approx_1[slice3],\n",
        "       simple_regret_approx_2[slice3],\n",
        "       simple_regret_approx_3[slice3],\n",
        "       simple_regret_approx_4[slice3],\n",
        "       simple_regret_approx_5[slice3],\n",
        "       simple_regret_approx_6[slice3],\n",
        "       simple_regret_approx_7[slice3],\n",
        "       simple_regret_approx_8[slice3],\n",
        "       simple_regret_approx_9[slice3],\n",
        "       simple_regret_approx_10[slice3],\n",
        "       simple_regret_approx_11[slice3],\n",
        "       simple_regret_approx_12[slice3],\n",
        "       simple_regret_approx_13[slice3],\n",
        "       simple_regret_approx_14[slice3],\n",
        "       simple_regret_approx_15[slice3],\n",
        "       simple_regret_approx_16[slice3],\n",
        "       simple_regret_approx_17[slice3],\n",
        "       simple_regret_approx_18[slice3],\n",
        "       simple_regret_approx_19[slice3],\n",
        "       simple_regret_approx_20[slice3]]\n",
        "\n",
        "exact3 = [simple_regret_exact_1[slice3],\n",
        "       simple_regret_exact_2[slice3],\n",
        "       simple_regret_exact_3[slice3],\n",
        "       simple_regret_exact_4[slice3],\n",
        "       simple_regret_exact_5[slice3],\n",
        "       simple_regret_exact_6[slice3],\n",
        "       simple_regret_exact_7[slice3],\n",
        "       simple_regret_exact_8[slice3],\n",
        "       simple_regret_exact_9[slice3],\n",
        "       simple_regret_exact_10[slice3],\n",
        "       simple_regret_exact_11[slice3],\n",
        "       simple_regret_exact_12[slice3],\n",
        "       simple_regret_exact_13[slice3],\n",
        "       simple_regret_exact_14[slice3],\n",
        "       simple_regret_exact_15[slice3],\n",
        "       simple_regret_exact_16[slice3],\n",
        "       simple_regret_exact_17[slice3],\n",
        "       simple_regret_exact_18[slice3],\n",
        "       simple_regret_exact_19[slice3],\n",
        "       simple_regret_exact_20[slice3]]\n",
        "\n",
        "approx3_results = pd.DataFrame(approx3).sort_values(by=[0], ascending=False)\n",
        "exact3_results = pd.DataFrame(exact3).sort_values(by=[0], ascending=False)\n",
        "\n",
        "### Best simple regret minimization IQR - approx:\n",
        "lower_approx3 = np.asarray(approx3_results[4:5][0])[0]\n",
        "median_approx3 = np.asarray(approx3_results[9:10][0])[0]\n",
        "upper_approx3 = np.asarray(approx3_results[14:15][0])[0]\n",
        "\n",
        "lower_exact3 = np.asarray(exact3_results[4:5][0])[0]\n",
        "median_exact3 = np.asarray(exact3_results[9:10][0])[0]\n",
        "upper_exact3 = np.asarray(exact3_results[14:15][0])[0]"
      ],
      "execution_count": 80,
      "outputs": []
    },
    {
      "cell_type": "code",
      "metadata": {
        "id": "plf83wxrQxf4"
      },
      "source": [
        "# Iteration13 :\n",
        "\n",
        "slice13 = 12\n",
        "\n",
        "approx13 = [simple_regret_approx_1[slice13],\n",
        "       simple_regret_approx_2[slice13],\n",
        "       simple_regret_approx_3[slice13],\n",
        "       simple_regret_approx_4[slice13],\n",
        "       simple_regret_approx_5[slice13],\n",
        "       simple_regret_approx_6[slice13],\n",
        "       simple_regret_approx_7[slice13],\n",
        "       simple_regret_approx_8[slice13],\n",
        "       simple_regret_approx_9[slice13],\n",
        "       simple_regret_approx_10[slice13],\n",
        "       simple_regret_approx_11[slice13],\n",
        "       simple_regret_approx_12[slice13],\n",
        "       simple_regret_approx_13[slice13],\n",
        "       simple_regret_approx_14[slice13],\n",
        "       simple_regret_approx_15[slice13],\n",
        "       simple_regret_approx_16[slice13],\n",
        "       simple_regret_approx_17[slice13],\n",
        "       simple_regret_approx_18[slice13],\n",
        "       simple_regret_approx_19[slice13],\n",
        "       simple_regret_approx_20[slice13]]\n",
        "\n",
        "exact13 = [simple_regret_exact_1[slice13],\n",
        "       simple_regret_exact_2[slice13],\n",
        "       simple_regret_exact_3[slice13],\n",
        "       simple_regret_exact_4[slice13],\n",
        "       simple_regret_exact_5[slice13],\n",
        "       simple_regret_exact_6[slice13],\n",
        "       simple_regret_exact_7[slice13],\n",
        "       simple_regret_exact_8[slice13],\n",
        "       simple_regret_exact_9[slice13],\n",
        "       simple_regret_exact_10[slice13],\n",
        "       simple_regret_exact_11[slice13],\n",
        "       simple_regret_exact_12[slice13],\n",
        "       simple_regret_exact_13[slice13],\n",
        "       simple_regret_exact_14[slice13],\n",
        "       simple_regret_exact_15[slice13],\n",
        "       simple_regret_exact_16[slice13],\n",
        "       simple_regret_exact_17[slice13],\n",
        "       simple_regret_exact_18[slice13],\n",
        "       simple_regret_exact_19[slice13],\n",
        "       simple_regret_exact_20[slice13]]\n",
        "\n",
        "approx13_results = pd.DataFrame(approx13).sort_values(by=[0], ascending=False)\n",
        "exact13_results = pd.DataFrame(exact13).sort_values(by=[0], ascending=False)\n",
        "\n",
        "### Best simple regret minimization IQR - approx:\n",
        "lower_approx13 = np.asarray(approx13_results[4:5][0])[0]\n",
        "median_approx13 = np.asarray(approx13_results[9:10][0])[0]\n",
        "upper_approx13 = np.asarray(approx13_results[14:15][0])[0]\n",
        "\n",
        "lower_exact13 = np.asarray(exact13_results[4:5][0])[0]\n",
        "median_exact13 = np.asarray(exact13_results[9:10][0])[0]\n",
        "upper_exact13 = np.asarray(exact13_results[14:15][0])[0]"
      ],
      "execution_count": 81,
      "outputs": []
    },
    {
      "cell_type": "code",
      "metadata": {
        "id": "9A7mlVvJQxf5"
      },
      "source": [
        "# Iteration4 :\n",
        "\n",
        "slice4 = 3\n",
        "\n",
        "approx4 = [simple_regret_approx_1[slice4],\n",
        "       simple_regret_approx_2[slice4],\n",
        "       simple_regret_approx_3[slice4],\n",
        "       simple_regret_approx_4[slice4],\n",
        "       simple_regret_approx_5[slice4],\n",
        "       simple_regret_approx_6[slice4],\n",
        "       simple_regret_approx_7[slice4],\n",
        "       simple_regret_approx_8[slice4],\n",
        "       simple_regret_approx_9[slice4],\n",
        "       simple_regret_approx_10[slice4],\n",
        "       simple_regret_approx_11[slice4],\n",
        "       simple_regret_approx_12[slice4],\n",
        "       simple_regret_approx_13[slice4],\n",
        "       simple_regret_approx_14[slice4],\n",
        "       simple_regret_approx_15[slice4],\n",
        "       simple_regret_approx_16[slice4],\n",
        "       simple_regret_approx_17[slice4],\n",
        "       simple_regret_approx_18[slice4],\n",
        "       simple_regret_approx_19[slice4],\n",
        "       simple_regret_approx_20[slice4]]\n",
        "\n",
        "exact4 = [simple_regret_exact_1[slice4],\n",
        "       simple_regret_exact_2[slice4],\n",
        "       simple_regret_exact_3[slice4],\n",
        "       simple_regret_exact_4[slice4],\n",
        "       simple_regret_exact_5[slice4],\n",
        "       simple_regret_exact_6[slice4],\n",
        "       simple_regret_exact_7[slice4],\n",
        "       simple_regret_exact_8[slice4],\n",
        "       simple_regret_exact_9[slice4],\n",
        "       simple_regret_exact_10[slice4],\n",
        "       simple_regret_exact_11[slice4],\n",
        "       simple_regret_exact_12[slice4],\n",
        "       simple_regret_exact_13[slice4],\n",
        "       simple_regret_exact_14[slice4],\n",
        "       simple_regret_exact_15[slice4],\n",
        "       simple_regret_exact_16[slice4],\n",
        "       simple_regret_exact_17[slice4],\n",
        "       simple_regret_exact_18[slice4],\n",
        "       simple_regret_exact_19[slice4],\n",
        "       simple_regret_exact_20[slice4]]\n",
        "\n",
        "approx4_results = pd.DataFrame(approx4).sort_values(by=[0], ascending=False)\n",
        "exact4_results = pd.DataFrame(exact4).sort_values(by=[0], ascending=False)\n",
        "\n",
        "### Best simple regret minimization IQR - approx:\n",
        "lower_approx4 = np.asarray(approx4_results[4:5][0])[0]\n",
        "median_approx4 = np.asarray(approx4_results[9:10][0])[0]\n",
        "upper_approx4 = np.asarray(approx4_results[14:15][0])[0]\n",
        "\n",
        "lower_exact4 = np.asarray(exact4_results[4:5][0])[0]\n",
        "median_exact4 = np.asarray(exact4_results[9:10][0])[0]\n",
        "upper_exact4 = np.asarray(exact4_results[14:15][0])[0]"
      ],
      "execution_count": 82,
      "outputs": []
    },
    {
      "cell_type": "code",
      "metadata": {
        "id": "ijq-rioYQxf5"
      },
      "source": [
        "# Iteration14 :\n",
        "\n",
        "slice14 = 13\n",
        "\n",
        "approx14 = [simple_regret_approx_1[slice14],\n",
        "       simple_regret_approx_2[slice14],\n",
        "       simple_regret_approx_3[slice14],\n",
        "       simple_regret_approx_4[slice14],\n",
        "       simple_regret_approx_5[slice14],\n",
        "       simple_regret_approx_6[slice14],\n",
        "       simple_regret_approx_7[slice14],\n",
        "       simple_regret_approx_8[slice14],\n",
        "       simple_regret_approx_9[slice14],\n",
        "       simple_regret_approx_10[slice14],\n",
        "       simple_regret_approx_11[slice14],\n",
        "       simple_regret_approx_12[slice14],\n",
        "       simple_regret_approx_13[slice14],\n",
        "       simple_regret_approx_14[slice14],\n",
        "       simple_regret_approx_15[slice14],\n",
        "       simple_regret_approx_16[slice14],\n",
        "       simple_regret_approx_17[slice14],\n",
        "       simple_regret_approx_18[slice14],\n",
        "       simple_regret_approx_19[slice14],\n",
        "       simple_regret_approx_20[slice14]]\n",
        "\n",
        "exact14 = [simple_regret_exact_1[slice14],\n",
        "       simple_regret_exact_2[slice14],\n",
        "       simple_regret_exact_3[slice14],\n",
        "       simple_regret_exact_4[slice14],\n",
        "       simple_regret_exact_5[slice14],\n",
        "       simple_regret_exact_6[slice14],\n",
        "       simple_regret_exact_7[slice14],\n",
        "       simple_regret_exact_8[slice14],\n",
        "       simple_regret_exact_9[slice14],\n",
        "       simple_regret_exact_10[slice14],\n",
        "       simple_regret_exact_11[slice14],\n",
        "       simple_regret_exact_12[slice14],\n",
        "       simple_regret_exact_13[slice14],\n",
        "       simple_regret_exact_14[slice14],\n",
        "       simple_regret_exact_15[slice14],\n",
        "       simple_regret_exact_16[slice14],\n",
        "       simple_regret_exact_17[slice14],\n",
        "       simple_regret_exact_18[slice14],\n",
        "       simple_regret_exact_19[slice14],\n",
        "       simple_regret_exact_20[slice14]]\n",
        "\n",
        "approx14_results = pd.DataFrame(approx14).sort_values(by=[0], ascending=False)\n",
        "exact14_results = pd.DataFrame(exact14).sort_values(by=[0], ascending=False)\n",
        "\n",
        "### Best simple regret minimization IQR - approx:\n",
        "lower_approx14 = np.asarray(approx14_results[4:5][0])[0]\n",
        "median_approx14 = np.asarray(approx14_results[9:10][0])[0]\n",
        "upper_approx14 = np.asarray(approx14_results[14:15][0])[0]\n",
        "\n",
        "lower_exact14 = np.asarray(exact14_results[4:5][0])[0]\n",
        "median_exact14 = np.asarray(exact14_results[9:10][0])[0]\n",
        "upper_exact14 = np.asarray(exact14_results[14:15][0])[0]"
      ],
      "execution_count": 83,
      "outputs": []
    },
    {
      "cell_type": "code",
      "metadata": {
        "id": "XINlZjoTd-ZK"
      },
      "source": [
        "# Iteration5 :\n",
        "\n",
        "slice5 = 4\n",
        "\n",
        "approx5 = [simple_regret_approx_1[slice5],\n",
        "       simple_regret_approx_2[slice5],\n",
        "       simple_regret_approx_3[slice5],\n",
        "       simple_regret_approx_4[slice5],\n",
        "       simple_regret_approx_5[slice5],\n",
        "       simple_regret_approx_6[slice5],\n",
        "       simple_regret_approx_7[slice5],\n",
        "       simple_regret_approx_8[slice5],\n",
        "       simple_regret_approx_9[slice5],\n",
        "       simple_regret_approx_10[slice5],\n",
        "       simple_regret_approx_11[slice5],\n",
        "       simple_regret_approx_12[slice5],\n",
        "       simple_regret_approx_13[slice5],\n",
        "       simple_regret_approx_14[slice5],\n",
        "       simple_regret_approx_15[slice5],\n",
        "       simple_regret_approx_16[slice5],\n",
        "       simple_regret_approx_17[slice5],\n",
        "       simple_regret_approx_18[slice5],\n",
        "       simple_regret_approx_19[slice5],\n",
        "       simple_regret_approx_20[slice5]]\n",
        "\n",
        "exact5 = [simple_regret_exact_1[slice5],\n",
        "       simple_regret_exact_2[slice5],\n",
        "       simple_regret_exact_3[slice5],\n",
        "       simple_regret_exact_4[slice5],\n",
        "       simple_regret_exact_5[slice5],\n",
        "       simple_regret_exact_6[slice5],\n",
        "       simple_regret_exact_7[slice5],\n",
        "       simple_regret_exact_8[slice5],\n",
        "       simple_regret_exact_9[slice5],\n",
        "       simple_regret_exact_10[slice5],\n",
        "       simple_regret_exact_11[slice5],\n",
        "       simple_regret_exact_12[slice5],\n",
        "       simple_regret_exact_13[slice5],\n",
        "       simple_regret_exact_14[slice5],\n",
        "       simple_regret_exact_15[slice5],\n",
        "       simple_regret_exact_16[slice5],\n",
        "       simple_regret_exact_17[slice5],\n",
        "       simple_regret_exact_18[slice5],\n",
        "       simple_regret_exact_19[slice5],\n",
        "       simple_regret_exact_20[slice5]]\n",
        "\n",
        "approx5_results = pd.DataFrame(approx5).sort_values(by=[0], ascending=False)\n",
        "exact5_results = pd.DataFrame(exact5).sort_values(by=[0], ascending=False)\n",
        "\n",
        "### Best simple regret minimization IQR - approx:\n",
        "lower_approx5 = np.asarray(approx5_results[4:5][0])[0]\n",
        "median_approx5 = np.asarray(approx5_results[9:10][0])[0]\n",
        "upper_approx5 = np.asarray(approx5_results[14:15][0])[0]\n",
        "\n",
        "lower_exact5 = np.asarray(exact5_results[4:5][0])[0]\n",
        "median_exact5 = np.asarray(exact5_results[9:10][0])[0]\n",
        "upper_exact5 = np.asarray(exact5_results[14:15][0])[0]"
      ],
      "execution_count": 84,
      "outputs": []
    },
    {
      "cell_type": "code",
      "metadata": {
        "id": "4aZ7C8sOQxf6"
      },
      "source": [
        "# Iteration15 :\n",
        "\n",
        "slice15 = 14\n",
        "\n",
        "approx15 = [simple_regret_approx_1[slice15],\n",
        "       simple_regret_approx_2[slice15],\n",
        "       simple_regret_approx_3[slice15],\n",
        "       simple_regret_approx_4[slice15],\n",
        "       simple_regret_approx_5[slice15],\n",
        "       simple_regret_approx_6[slice15],\n",
        "       simple_regret_approx_7[slice15],\n",
        "       simple_regret_approx_8[slice15],\n",
        "       simple_regret_approx_9[slice15],\n",
        "       simple_regret_approx_10[slice15],\n",
        "       simple_regret_approx_11[slice15],\n",
        "       simple_regret_approx_12[slice15],\n",
        "       simple_regret_approx_13[slice15],\n",
        "       simple_regret_approx_14[slice15],\n",
        "       simple_regret_approx_15[slice15],\n",
        "       simple_regret_approx_16[slice15],\n",
        "       simple_regret_approx_17[slice15],\n",
        "       simple_regret_approx_18[slice15],\n",
        "       simple_regret_approx_19[slice15],\n",
        "       simple_regret_approx_20[slice15]]\n",
        "\n",
        "exact15 = [simple_regret_exact_1[slice15],\n",
        "       simple_regret_exact_2[slice15],\n",
        "       simple_regret_exact_3[slice15],\n",
        "       simple_regret_exact_4[slice15],\n",
        "       simple_regret_exact_5[slice15],\n",
        "       simple_regret_exact_6[slice15],\n",
        "       simple_regret_exact_7[slice15],\n",
        "       simple_regret_exact_8[slice15],\n",
        "       simple_regret_exact_9[slice15],\n",
        "       simple_regret_exact_10[slice15],\n",
        "       simple_regret_exact_11[slice15],\n",
        "       simple_regret_exact_12[slice15],\n",
        "       simple_regret_exact_13[slice15],\n",
        "       simple_regret_exact_14[slice15],\n",
        "       simple_regret_exact_15[slice15],\n",
        "       simple_regret_exact_16[slice15],\n",
        "       simple_regret_exact_17[slice15],\n",
        "       simple_regret_exact_18[slice15],\n",
        "       simple_regret_exact_19[slice15],\n",
        "       simple_regret_exact_20[slice15]]\n",
        "\n",
        "approx15_results = pd.DataFrame(approx15).sort_values(by=[0], ascending=False)\n",
        "exact15_results = pd.DataFrame(exact15).sort_values(by=[0], ascending=False)\n",
        "\n",
        "### Best simple regret minimization IQR - approx:\n",
        "lower_approx15 = np.asarray(approx15_results[4:5][0])[0]\n",
        "median_approx15 = np.asarray(approx15_results[9:10][0])[0]\n",
        "upper_approx15 = np.asarray(approx15_results[14:15][0])[0]\n",
        "\n",
        "lower_exact15 = np.asarray(exact15_results[4:5][0])[0]\n",
        "median_exact15 = np.asarray(exact15_results[9:10][0])[0]\n",
        "upper_exact15 = np.asarray(exact15_results[14:15][0])[0]"
      ],
      "execution_count": 85,
      "outputs": []
    },
    {
      "cell_type": "code",
      "metadata": {
        "id": "KJINKhv1Qxf6"
      },
      "source": [
        "# Iteration6 :\n",
        "\n",
        "slice6 = 5\n",
        "\n",
        "approx6 = [simple_regret_approx_1[slice6],\n",
        "       simple_regret_approx_2[slice6],\n",
        "       simple_regret_approx_3[slice6],\n",
        "       simple_regret_approx_4[slice6],\n",
        "       simple_regret_approx_5[slice6],\n",
        "       simple_regret_approx_6[slice6],\n",
        "       simple_regret_approx_7[slice6],\n",
        "       simple_regret_approx_8[slice6],\n",
        "       simple_regret_approx_9[slice6],\n",
        "       simple_regret_approx_10[slice6],\n",
        "       simple_regret_approx_11[slice6],\n",
        "       simple_regret_approx_12[slice6],\n",
        "       simple_regret_approx_13[slice6],\n",
        "       simple_regret_approx_14[slice6],\n",
        "       simple_regret_approx_15[slice6],\n",
        "       simple_regret_approx_16[slice6],\n",
        "       simple_regret_approx_17[slice6],\n",
        "       simple_regret_approx_18[slice6],\n",
        "       simple_regret_approx_19[slice6],\n",
        "       simple_regret_approx_20[slice6]]\n",
        "\n",
        "exact6 = [simple_regret_exact_1[slice6],\n",
        "       simple_regret_exact_2[slice6],\n",
        "       simple_regret_exact_3[slice6],\n",
        "       simple_regret_exact_4[slice6],\n",
        "       simple_regret_exact_5[slice6],\n",
        "       simple_regret_exact_6[slice6],\n",
        "       simple_regret_exact_7[slice6],\n",
        "       simple_regret_exact_8[slice6],\n",
        "       simple_regret_exact_9[slice6],\n",
        "       simple_regret_exact_10[slice6],\n",
        "       simple_regret_exact_11[slice6],\n",
        "       simple_regret_exact_12[slice6],\n",
        "       simple_regret_exact_13[slice6],\n",
        "       simple_regret_exact_14[slice6],\n",
        "       simple_regret_exact_15[slice6],\n",
        "       simple_regret_exact_16[slice6],\n",
        "       simple_regret_exact_17[slice6],\n",
        "       simple_regret_exact_18[slice6],\n",
        "       simple_regret_exact_19[slice6],\n",
        "       simple_regret_exact_20[slice6]]\n",
        "\n",
        "approx6_results = pd.DataFrame(approx6).sort_values(by=[0], ascending=False)\n",
        "exact6_results = pd.DataFrame(exact6).sort_values(by=[0], ascending=False)\n",
        "\n",
        "### Best simple regret minimization IQR - approx:\n",
        "lower_approx6 = np.asarray(approx6_results[4:5][0])[0]\n",
        "median_approx6 = np.asarray(approx6_results[9:10][0])[0]\n",
        "upper_approx6 = np.asarray(approx6_results[14:15][0])[0]\n",
        "\n",
        "lower_exact6 = np.asarray(exact6_results[4:5][0])[0]\n",
        "median_exact6 = np.asarray(exact6_results[9:10][0])[0]\n",
        "upper_exact6 = np.asarray(exact6_results[14:15][0])[0]"
      ],
      "execution_count": 86,
      "outputs": []
    },
    {
      "cell_type": "code",
      "metadata": {
        "id": "nwC5N1FsQxf7"
      },
      "source": [
        "# Iteration16 :\n",
        "\n",
        "slice16 = 15\n",
        "\n",
        "approx16 = [simple_regret_approx_1[slice16],\n",
        "       simple_regret_approx_2[slice16],\n",
        "       simple_regret_approx_3[slice16],\n",
        "       simple_regret_approx_4[slice16],\n",
        "       simple_regret_approx_5[slice16],\n",
        "       simple_regret_approx_6[slice16],\n",
        "       simple_regret_approx_7[slice16],\n",
        "       simple_regret_approx_8[slice16],\n",
        "       simple_regret_approx_9[slice16],\n",
        "       simple_regret_approx_10[slice16],\n",
        "       simple_regret_approx_11[slice16],\n",
        "       simple_regret_approx_12[slice16],\n",
        "       simple_regret_approx_13[slice16],\n",
        "       simple_regret_approx_14[slice16],\n",
        "       simple_regret_approx_15[slice16],\n",
        "       simple_regret_approx_16[slice16],\n",
        "       simple_regret_approx_17[slice16],\n",
        "       simple_regret_approx_18[slice16],\n",
        "       simple_regret_approx_19[slice16],\n",
        "       simple_regret_approx_20[slice16]]\n",
        "\n",
        "exact16 = [simple_regret_exact_1[slice16],\n",
        "       simple_regret_exact_2[slice16],\n",
        "       simple_regret_exact_3[slice16],\n",
        "       simple_regret_exact_4[slice16],\n",
        "       simple_regret_exact_5[slice16],\n",
        "       simple_regret_exact_6[slice16],\n",
        "       simple_regret_exact_7[slice16],\n",
        "       simple_regret_exact_8[slice16],\n",
        "       simple_regret_exact_9[slice16],\n",
        "       simple_regret_exact_10[slice16],\n",
        "       simple_regret_exact_11[slice16],\n",
        "       simple_regret_exact_12[slice16],\n",
        "       simple_regret_exact_13[slice16],\n",
        "       simple_regret_exact_14[slice16],\n",
        "       simple_regret_exact_15[slice16],\n",
        "       simple_regret_exact_16[slice16],\n",
        "       simple_regret_exact_17[slice16],\n",
        "       simple_regret_exact_18[slice16],\n",
        "       simple_regret_exact_19[slice16],\n",
        "       simple_regret_exact_20[slice16]]\n",
        "\n",
        "approx16_results = pd.DataFrame(approx16).sort_values(by=[0], ascending=False)\n",
        "exact16_results = pd.DataFrame(exact16).sort_values(by=[0], ascending=False)\n",
        "\n",
        "### Best simple regret minimization IQR - approx:\n",
        "lower_approx16 = np.asarray(approx16_results[4:5][0])[0]\n",
        "median_approx16 = np.asarray(approx16_results[9:10][0])[0]\n",
        "upper_approx16 = np.asarray(approx16_results[14:15][0])[0]\n",
        "\n",
        "lower_exact16 = np.asarray(exact16_results[4:5][0])[0]\n",
        "median_exact16 = np.asarray(exact16_results[9:10][0])[0]\n",
        "upper_exact16 = np.asarray(exact16_results[14:15][0])[0]"
      ],
      "execution_count": 87,
      "outputs": []
    },
    {
      "cell_type": "code",
      "metadata": {
        "id": "TrPV0AfnQxf7"
      },
      "source": [
        "# Iteration7 :\n",
        "\n",
        "slice7 = 6\n",
        "\n",
        "approx7 = [simple_regret_approx_1[slice7],\n",
        "       simple_regret_approx_2[slice7],\n",
        "       simple_regret_approx_3[slice7],\n",
        "       simple_regret_approx_4[slice7],\n",
        "       simple_regret_approx_5[slice7],\n",
        "       simple_regret_approx_6[slice7],\n",
        "       simple_regret_approx_7[slice7],\n",
        "       simple_regret_approx_8[slice7],\n",
        "       simple_regret_approx_9[slice7],\n",
        "       simple_regret_approx_10[slice7],\n",
        "       simple_regret_approx_11[slice7],\n",
        "       simple_regret_approx_12[slice7],\n",
        "       simple_regret_approx_13[slice7],\n",
        "       simple_regret_approx_14[slice7],\n",
        "       simple_regret_approx_15[slice7],\n",
        "       simple_regret_approx_16[slice7],\n",
        "       simple_regret_approx_17[slice7],\n",
        "       simple_regret_approx_18[slice7],\n",
        "       simple_regret_approx_19[slice7],\n",
        "       simple_regret_approx_20[slice7]]\n",
        "\n",
        "exact7 = [simple_regret_exact_1[slice7],\n",
        "       simple_regret_exact_2[slice7],\n",
        "       simple_regret_exact_3[slice7],\n",
        "       simple_regret_exact_4[slice7],\n",
        "       simple_regret_exact_5[slice7],\n",
        "       simple_regret_exact_6[slice7],\n",
        "       simple_regret_exact_7[slice7],\n",
        "       simple_regret_exact_8[slice7],\n",
        "       simple_regret_exact_9[slice7],\n",
        "       simple_regret_exact_10[slice7],\n",
        "       simple_regret_exact_11[slice7],\n",
        "       simple_regret_exact_12[slice7],\n",
        "       simple_regret_exact_13[slice7],\n",
        "       simple_regret_exact_14[slice7],\n",
        "       simple_regret_exact_15[slice7],\n",
        "       simple_regret_exact_16[slice7],\n",
        "       simple_regret_exact_17[slice7],\n",
        "       simple_regret_exact_18[slice7],\n",
        "       simple_regret_exact_19[slice7],\n",
        "       simple_regret_exact_20[slice7]]\n",
        "\n",
        "approx7_results = pd.DataFrame(approx7).sort_values(by=[0], ascending=False)\n",
        "exact7_results = pd.DataFrame(exact7).sort_values(by=[0], ascending=False)\n",
        "\n",
        "### Best simple regret minimization IQR - approx:\n",
        "lower_approx7 = np.asarray(approx7_results[4:5][0])[0]\n",
        "median_approx7 = np.asarray(approx7_results[9:10][0])[0]\n",
        "upper_approx7 = np.asarray(approx7_results[14:15][0])[0]\n",
        "\n",
        "lower_exact7 = np.asarray(exact7_results[4:5][0])[0]\n",
        "median_exact7 = np.asarray(exact7_results[9:10][0])[0]\n",
        "upper_exact7 = np.asarray(exact7_results[14:15][0])[0]"
      ],
      "execution_count": 88,
      "outputs": []
    },
    {
      "cell_type": "code",
      "metadata": {
        "id": "Ub_-wpK4Qxf8"
      },
      "source": [
        "# Iteration17 :\n",
        "\n",
        "slice17 = 16\n",
        "\n",
        "approx17 = [simple_regret_approx_1[slice17],\n",
        "       simple_regret_approx_2[slice17],\n",
        "       simple_regret_approx_3[slice17],\n",
        "       simple_regret_approx_4[slice17],\n",
        "       simple_regret_approx_5[slice17],\n",
        "       simple_regret_approx_6[slice17],\n",
        "       simple_regret_approx_7[slice17],\n",
        "       simple_regret_approx_8[slice17],\n",
        "       simple_regret_approx_9[slice17],\n",
        "       simple_regret_approx_10[slice17],\n",
        "       simple_regret_approx_11[slice17],\n",
        "       simple_regret_approx_12[slice17],\n",
        "       simple_regret_approx_13[slice17],\n",
        "       simple_regret_approx_14[slice17],\n",
        "       simple_regret_approx_15[slice17],\n",
        "       simple_regret_approx_16[slice17],\n",
        "       simple_regret_approx_17[slice17],\n",
        "       simple_regret_approx_18[slice17],\n",
        "       simple_regret_approx_19[slice17],\n",
        "       simple_regret_approx_20[slice17]]\n",
        "\n",
        "exact17 = [simple_regret_exact_1[slice17],\n",
        "       simple_regret_exact_2[slice17],\n",
        "       simple_regret_exact_3[slice17],\n",
        "       simple_regret_exact_4[slice17],\n",
        "       simple_regret_exact_5[slice17],\n",
        "       simple_regret_exact_6[slice17],\n",
        "       simple_regret_exact_7[slice17],\n",
        "       simple_regret_exact_8[slice17],\n",
        "       simple_regret_exact_9[slice17],\n",
        "       simple_regret_exact_10[slice17],\n",
        "       simple_regret_exact_11[slice17],\n",
        "       simple_regret_exact_12[slice17],\n",
        "       simple_regret_exact_13[slice17],\n",
        "       simple_regret_exact_14[slice17],\n",
        "       simple_regret_exact_15[slice17],\n",
        "       simple_regret_exact_16[slice17],\n",
        "       simple_regret_exact_17[slice17],\n",
        "       simple_regret_exact_18[slice17],\n",
        "       simple_regret_exact_19[slice17],\n",
        "       simple_regret_exact_20[slice17]]\n",
        "\n",
        "approx17_results = pd.DataFrame(approx17).sort_values(by=[0], ascending=False)\n",
        "exact17_results = pd.DataFrame(exact17).sort_values(by=[0], ascending=False)\n",
        "\n",
        "### Best simple regret minimization IQR - approx:\n",
        "lower_approx17 = np.asarray(approx17_results[4:5][0])[0]\n",
        "median_approx17 = np.asarray(approx17_results[9:10][0])[0]\n",
        "upper_approx17 = np.asarray(approx17_results[14:15][0])[0]\n",
        "\n",
        "lower_exact17 = np.asarray(exact17_results[4:5][0])[0]\n",
        "median_exact17 = np.asarray(exact17_results[9:10][0])[0]\n",
        "upper_exact17 = np.asarray(exact17_results[14:15][0])[0]"
      ],
      "execution_count": 89,
      "outputs": []
    },
    {
      "cell_type": "code",
      "metadata": {
        "id": "-6VLo37PQxf8"
      },
      "source": [
        "# Iteration8 :\n",
        "\n",
        "slice8 = 7\n",
        "\n",
        "approx8 = [simple_regret_approx_1[slice8],\n",
        "       simple_regret_approx_2[slice8],\n",
        "       simple_regret_approx_3[slice8],\n",
        "       simple_regret_approx_4[slice8],\n",
        "       simple_regret_approx_5[slice8],\n",
        "       simple_regret_approx_6[slice8],\n",
        "       simple_regret_approx_7[slice8],\n",
        "       simple_regret_approx_8[slice8],\n",
        "       simple_regret_approx_9[slice8],\n",
        "       simple_regret_approx_10[slice8],\n",
        "       simple_regret_approx_11[slice8],\n",
        "       simple_regret_approx_12[slice8],\n",
        "       simple_regret_approx_13[slice8],\n",
        "       simple_regret_approx_14[slice8],\n",
        "       simple_regret_approx_15[slice8],\n",
        "       simple_regret_approx_16[slice8],\n",
        "       simple_regret_approx_17[slice8],\n",
        "       simple_regret_approx_18[slice8],\n",
        "       simple_regret_approx_19[slice8],\n",
        "       simple_regret_approx_20[slice8]]\n",
        "\n",
        "exact8 = [simple_regret_exact_1[slice8],\n",
        "       simple_regret_exact_2[slice8],\n",
        "       simple_regret_exact_3[slice8],\n",
        "       simple_regret_exact_4[slice8],\n",
        "       simple_regret_exact_5[slice8],\n",
        "       simple_regret_exact_6[slice8],\n",
        "       simple_regret_exact_7[slice8],\n",
        "       simple_regret_exact_8[slice8],\n",
        "       simple_regret_exact_9[slice8],\n",
        "       simple_regret_exact_10[slice8],\n",
        "       simple_regret_exact_11[slice8],\n",
        "       simple_regret_exact_12[slice8],\n",
        "       simple_regret_exact_13[slice8],\n",
        "       simple_regret_exact_14[slice8],\n",
        "       simple_regret_exact_15[slice8],\n",
        "       simple_regret_exact_16[slice8],\n",
        "       simple_regret_exact_17[slice8],\n",
        "       simple_regret_exact_18[slice8],\n",
        "       simple_regret_exact_19[slice8],\n",
        "       simple_regret_exact_20[slice8]]\n",
        "\n",
        "approx8_results = pd.DataFrame(approx8).sort_values(by=[0], ascending=False)\n",
        "exact8_results = pd.DataFrame(exact8).sort_values(by=[0], ascending=False)\n",
        "\n",
        "### Best simple regret minimization IQR - approx:\n",
        "lower_approx8 = np.asarray(approx8_results[4:5][0])[0]\n",
        "median_approx8 = np.asarray(approx8_results[9:10][0])[0]\n",
        "upper_approx8 = np.asarray(approx8_results[14:15][0])[0]\n",
        "\n",
        "lower_exact8 = np.asarray(exact8_results[4:5][0])[0]\n",
        "median_exact8 = np.asarray(exact8_results[9:10][0])[0]\n",
        "upper_exact8 = np.asarray(exact8_results[14:15][0])[0]"
      ],
      "execution_count": 90,
      "outputs": []
    },
    {
      "cell_type": "code",
      "metadata": {
        "id": "2Dp-9CC2Qxf9"
      },
      "source": [
        "# Iteration18 :\n",
        "\n",
        "slice18 = 17\n",
        "\n",
        "approx18 = [simple_regret_approx_1[slice18],\n",
        "       simple_regret_approx_2[slice18],\n",
        "       simple_regret_approx_3[slice18],\n",
        "       simple_regret_approx_4[slice18],\n",
        "       simple_regret_approx_5[slice18],\n",
        "       simple_regret_approx_6[slice18],\n",
        "       simple_regret_approx_7[slice18],\n",
        "       simple_regret_approx_8[slice18],\n",
        "       simple_regret_approx_9[slice18],\n",
        "       simple_regret_approx_10[slice18],\n",
        "       simple_regret_approx_11[slice18],\n",
        "       simple_regret_approx_12[slice18],\n",
        "       simple_regret_approx_13[slice18],\n",
        "       simple_regret_approx_14[slice18],\n",
        "       simple_regret_approx_15[slice18],\n",
        "       simple_regret_approx_16[slice18],\n",
        "       simple_regret_approx_17[slice18],\n",
        "       simple_regret_approx_18[slice18],\n",
        "       simple_regret_approx_19[slice18],\n",
        "       simple_regret_approx_20[slice18]]\n",
        "\n",
        "exact18 = [simple_regret_exact_1[slice18],\n",
        "       simple_regret_exact_2[slice18],\n",
        "       simple_regret_exact_3[slice18],\n",
        "       simple_regret_exact_4[slice18],\n",
        "       simple_regret_exact_5[slice18],\n",
        "       simple_regret_exact_6[slice18],\n",
        "       simple_regret_exact_7[slice18],\n",
        "       simple_regret_exact_8[slice18],\n",
        "       simple_regret_exact_9[slice18],\n",
        "       simple_regret_exact_10[slice18],\n",
        "       simple_regret_exact_11[slice18],\n",
        "       simple_regret_exact_12[slice18],\n",
        "       simple_regret_exact_13[slice18],\n",
        "       simple_regret_exact_14[slice18],\n",
        "       simple_regret_exact_15[slice18],\n",
        "       simple_regret_exact_16[slice18],\n",
        "       simple_regret_exact_17[slice18],\n",
        "       simple_regret_exact_18[slice18],\n",
        "       simple_regret_exact_19[slice18],\n",
        "       simple_regret_exact_20[slice18]]\n",
        "\n",
        "approx18_results = pd.DataFrame(approx18).sort_values(by=[0], ascending=False)\n",
        "exact18_results = pd.DataFrame(exact18).sort_values(by=[0], ascending=False)\n",
        "\n",
        "### Best simple regret minimization IQR - approx:\n",
        "lower_approx18 = np.asarray(approx18_results[4:5][0])[0]\n",
        "median_approx18 = np.asarray(approx18_results[9:10][0])[0]\n",
        "upper_approx18 = np.asarray(approx18_results[14:15][0])[0]\n",
        "\n",
        "lower_exact18 = np.asarray(exact18_results[4:5][0])[0]\n",
        "median_exact18 = np.asarray(exact18_results[9:10][0])[0]\n",
        "upper_exact18 = np.asarray(exact18_results[14:15][0])[0]"
      ],
      "execution_count": 91,
      "outputs": []
    },
    {
      "cell_type": "code",
      "metadata": {
        "id": "SqiaOpB7Qxf9"
      },
      "source": [
        "# Iteration9 :\n",
        "\n",
        "slice9 = 8\n",
        "\n",
        "approx9 = [simple_regret_approx_1[slice9],\n",
        "       simple_regret_approx_2[slice9],\n",
        "       simple_regret_approx_3[slice9],\n",
        "       simple_regret_approx_4[slice9],\n",
        "       simple_regret_approx_5[slice9],\n",
        "       simple_regret_approx_6[slice9],\n",
        "       simple_regret_approx_7[slice9],\n",
        "       simple_regret_approx_8[slice9],\n",
        "       simple_regret_approx_9[slice9],\n",
        "       simple_regret_approx_10[slice9],\n",
        "       simple_regret_approx_11[slice9],\n",
        "       simple_regret_approx_12[slice9],\n",
        "       simple_regret_approx_13[slice9],\n",
        "       simple_regret_approx_14[slice9],\n",
        "       simple_regret_approx_15[slice9],\n",
        "       simple_regret_approx_16[slice9],\n",
        "       simple_regret_approx_17[slice9],\n",
        "       simple_regret_approx_18[slice9],\n",
        "       simple_regret_approx_19[slice9],\n",
        "       simple_regret_approx_20[slice9]]\n",
        "\n",
        "exact9 = [simple_regret_exact_1[slice9],\n",
        "       simple_regret_exact_2[slice9],\n",
        "       simple_regret_exact_3[slice9],\n",
        "       simple_regret_exact_4[slice9],\n",
        "       simple_regret_exact_5[slice9],\n",
        "       simple_regret_exact_6[slice9],\n",
        "       simple_regret_exact_7[slice9],\n",
        "       simple_regret_exact_8[slice9],\n",
        "       simple_regret_exact_9[slice9],\n",
        "       simple_regret_exact_10[slice9],\n",
        "       simple_regret_exact_11[slice9],\n",
        "       simple_regret_exact_12[slice9],\n",
        "       simple_regret_exact_13[slice9],\n",
        "       simple_regret_exact_14[slice9],\n",
        "       simple_regret_exact_15[slice9],\n",
        "       simple_regret_exact_16[slice9],\n",
        "       simple_regret_exact_17[slice9],\n",
        "       simple_regret_exact_18[slice9],\n",
        "       simple_regret_exact_19[slice9],\n",
        "       simple_regret_exact_20[slice9]]\n",
        "\n",
        "approx9_results = pd.DataFrame(approx9).sort_values(by=[0], ascending=False)\n",
        "exact9_results = pd.DataFrame(exact9).sort_values(by=[0], ascending=False)\n",
        "\n",
        "### Best simple regret minimization IQR - approx:\n",
        "lower_approx9 = np.asarray(approx9_results[4:5][0])[0]\n",
        "median_approx9 = np.asarray(approx9_results[9:10][0])[0]\n",
        "upper_approx9 = np.asarray(approx9_results[14:15][0])[0]\n",
        "\n",
        "lower_exact9 = np.asarray(exact9_results[4:5][0])[0]\n",
        "median_exact9 = np.asarray(exact9_results[9:10][0])[0]\n",
        "upper_exact9 = np.asarray(exact9_results[14:15][0])[0]"
      ],
      "execution_count": 92,
      "outputs": []
    },
    {
      "cell_type": "code",
      "metadata": {
        "id": "OQkCCOsPQxf9"
      },
      "source": [
        "# Iteration19 :\n",
        "\n",
        "slice19 = 18\n",
        "\n",
        "approx19 = [simple_regret_approx_1[slice19],\n",
        "       simple_regret_approx_2[slice19],\n",
        "       simple_regret_approx_3[slice19],\n",
        "       simple_regret_approx_4[slice19],\n",
        "       simple_regret_approx_5[slice19],\n",
        "       simple_regret_approx_6[slice19],\n",
        "       simple_regret_approx_7[slice19],\n",
        "       simple_regret_approx_8[slice19],\n",
        "       simple_regret_approx_9[slice19],\n",
        "       simple_regret_approx_10[slice19],\n",
        "       simple_regret_approx_11[slice19],\n",
        "       simple_regret_approx_12[slice19],\n",
        "       simple_regret_approx_13[slice19],\n",
        "       simple_regret_approx_14[slice19],\n",
        "       simple_regret_approx_15[slice19],\n",
        "       simple_regret_approx_16[slice19],\n",
        "       simple_regret_approx_17[slice19],\n",
        "       simple_regret_approx_18[slice19],\n",
        "       simple_regret_approx_19[slice19],\n",
        "       simple_regret_approx_20[slice19]]\n",
        "\n",
        "exact19 = [simple_regret_exact_1[slice19],\n",
        "       simple_regret_exact_2[slice19],\n",
        "       simple_regret_exact_3[slice19],\n",
        "       simple_regret_exact_4[slice19],\n",
        "       simple_regret_exact_5[slice19],\n",
        "       simple_regret_exact_6[slice19],\n",
        "       simple_regret_exact_7[slice19],\n",
        "       simple_regret_exact_8[slice19],\n",
        "       simple_regret_exact_9[slice19],\n",
        "       simple_regret_exact_10[slice19],\n",
        "       simple_regret_exact_11[slice19],\n",
        "       simple_regret_exact_12[slice19],\n",
        "       simple_regret_exact_13[slice19],\n",
        "       simple_regret_exact_14[slice19],\n",
        "       simple_regret_exact_15[slice19],\n",
        "       simple_regret_exact_16[slice19],\n",
        "       simple_regret_exact_17[slice19],\n",
        "       simple_regret_exact_18[slice19],\n",
        "       simple_regret_exact_19[slice19],\n",
        "       simple_regret_exact_20[slice19]]\n",
        "\n",
        "approx19_results = pd.DataFrame(approx19).sort_values(by=[0], ascending=False)\n",
        "exact19_results = pd.DataFrame(exact19).sort_values(by=[0], ascending=False)\n",
        "\n",
        "### Best simple regret minimization IQR - approx:\n",
        "lower_approx19 = np.asarray(approx19_results[4:5][0])[0]\n",
        "median_approx19 = np.asarray(approx19_results[9:10][0])[0]\n",
        "upper_approx19 = np.asarray(approx19_results[14:15][0])[0]\n",
        "\n",
        "lower_exact19 = np.asarray(exact19_results[4:5][0])[0]\n",
        "median_exact19 = np.asarray(exact19_results[9:10][0])[0]\n",
        "upper_exact19 = np.asarray(exact19_results[14:15][0])[0]"
      ],
      "execution_count": 93,
      "outputs": []
    },
    {
      "cell_type": "code",
      "metadata": {
        "id": "h4vtWahcQxf-"
      },
      "source": [
        "# Iteration10 :\n",
        "\n",
        "slice10 = 9\n",
        "\n",
        "approx10 = [simple_regret_approx_1[slice10],\n",
        "       simple_regret_approx_2[slice10],\n",
        "       simple_regret_approx_3[slice10],\n",
        "       simple_regret_approx_4[slice10],\n",
        "       simple_regret_approx_5[slice10],\n",
        "       simple_regret_approx_6[slice10],\n",
        "       simple_regret_approx_7[slice10],\n",
        "       simple_regret_approx_8[slice10],\n",
        "       simple_regret_approx_9[slice10],\n",
        "       simple_regret_approx_10[slice10],\n",
        "       simple_regret_approx_11[slice10],\n",
        "       simple_regret_approx_12[slice10],\n",
        "       simple_regret_approx_13[slice10],\n",
        "       simple_regret_approx_14[slice10],\n",
        "       simple_regret_approx_15[slice10],\n",
        "       simple_regret_approx_16[slice10],\n",
        "       simple_regret_approx_17[slice10],\n",
        "       simple_regret_approx_18[slice10],\n",
        "       simple_regret_approx_19[slice10],\n",
        "       simple_regret_approx_20[slice10]]\n",
        "\n",
        "exact10 = [simple_regret_exact_1[slice10],\n",
        "       simple_regret_exact_2[slice10],\n",
        "       simple_regret_exact_3[slice10],\n",
        "       simple_regret_exact_4[slice10],\n",
        "       simple_regret_exact_5[slice10],\n",
        "       simple_regret_exact_6[slice10],\n",
        "       simple_regret_exact_7[slice10],\n",
        "       simple_regret_exact_8[slice10],\n",
        "       simple_regret_exact_9[slice10],\n",
        "       simple_regret_exact_10[slice10],\n",
        "       simple_regret_exact_11[slice10],\n",
        "       simple_regret_exact_12[slice10],\n",
        "       simple_regret_exact_13[slice10],\n",
        "       simple_regret_exact_14[slice10],\n",
        "       simple_regret_exact_15[slice10],\n",
        "       simple_regret_exact_16[slice10],\n",
        "       simple_regret_exact_17[slice10],\n",
        "       simple_regret_exact_18[slice10],\n",
        "       simple_regret_exact_19[slice10],\n",
        "       simple_regret_exact_20[slice10]]\n",
        "\n",
        "approx10_results = pd.DataFrame(approx10).sort_values(by=[0], ascending=False)\n",
        "exact10_results = pd.DataFrame(exact10).sort_values(by=[0], ascending=False)\n",
        "\n",
        "### Best simple regret minimization IQR - approx:\n",
        "lower_approx10 = np.asarray(approx10_results[4:5][0])[0]\n",
        "median_approx10 = np.asarray(approx10_results[9:10][0])[0]\n",
        "upper_approx10 = np.asarray(approx10_results[14:15][0])[0]\n",
        "\n",
        "lower_exact10 = np.asarray(exact10_results[4:5][0])[0]\n",
        "median_exact10 = np.asarray(exact10_results[9:10][0])[0]\n",
        "upper_exact10 = np.asarray(exact10_results[14:15][0])[0]"
      ],
      "execution_count": 94,
      "outputs": []
    },
    {
      "cell_type": "code",
      "metadata": {
        "id": "Rsf240pWQxf-"
      },
      "source": [
        "# Iteration20 :\n",
        "\n",
        "slice20 = 19\n",
        "\n",
        "approx20 = [simple_regret_approx_1[slice20],\n",
        "       simple_regret_approx_2[slice20],\n",
        "       simple_regret_approx_3[slice20],\n",
        "       simple_regret_approx_4[slice20],\n",
        "       simple_regret_approx_5[slice20],\n",
        "       simple_regret_approx_6[slice20],\n",
        "       simple_regret_approx_7[slice20],\n",
        "       simple_regret_approx_8[slice20],\n",
        "       simple_regret_approx_9[slice20],\n",
        "       simple_regret_approx_10[slice20],\n",
        "       simple_regret_approx_11[slice20],\n",
        "       simple_regret_approx_12[slice20],\n",
        "       simple_regret_approx_13[slice20],\n",
        "       simple_regret_approx_14[slice20],\n",
        "       simple_regret_approx_15[slice20],\n",
        "       simple_regret_approx_16[slice20],\n",
        "       simple_regret_approx_17[slice20],\n",
        "       simple_regret_approx_18[slice20],\n",
        "       simple_regret_approx_19[slice20],\n",
        "       simple_regret_approx_20[slice20]]\n",
        "\n",
        "exact20 = [simple_regret_exact_1[slice20],\n",
        "       simple_regret_exact_2[slice20],\n",
        "       simple_regret_exact_3[slice20],\n",
        "       simple_regret_exact_4[slice20],\n",
        "       simple_regret_exact_5[slice20],\n",
        "       simple_regret_exact_6[slice20],\n",
        "       simple_regret_exact_7[slice20],\n",
        "       simple_regret_exact_8[slice20],\n",
        "       simple_regret_exact_9[slice20],\n",
        "       simple_regret_exact_10[slice20],\n",
        "       simple_regret_exact_11[slice20],\n",
        "       simple_regret_exact_12[slice20],\n",
        "       simple_regret_exact_13[slice20],\n",
        "       simple_regret_exact_14[slice20],\n",
        "       simple_regret_exact_15[slice20],\n",
        "       simple_regret_exact_16[slice20],\n",
        "       simple_regret_exact_17[slice20],\n",
        "       simple_regret_exact_18[slice20],\n",
        "       simple_regret_exact_19[slice20],\n",
        "       simple_regret_exact_20[slice20]]\n",
        "\n",
        "approx20_results = pd.DataFrame(approx20).sort_values(by=[0], ascending=False)\n",
        "exact20_results = pd.DataFrame(exact20).sort_values(by=[0], ascending=False)\n",
        "\n",
        "### Best simple regret minimization IQR - approx:\n",
        "lower_approx20 = np.asarray(approx20_results[4:5][0])[0]\n",
        "median_approx20 = np.asarray(approx20_results[9:10][0])[0]\n",
        "upper_approx20 = np.asarray(approx20_results[14:15][0])[0]\n",
        "\n",
        "lower_exact20 = np.asarray(exact20_results[4:5][0])[0]\n",
        "median_exact20 = np.asarray(exact20_results[9:10][0])[0]\n",
        "upper_exact20 = np.asarray(exact20_results[14:15][0])[0]"
      ],
      "execution_count": 95,
      "outputs": []
    },
    {
      "cell_type": "code",
      "metadata": {
        "id": "gn36RejbQxf_"
      },
      "source": [
        "### Summarize arrays: 'Loser'\n",
        "\n",
        "lower_approx = [lower_approx1,\n",
        "            lower_approx2,\n",
        "            lower_approx3,\n",
        "            lower_approx4,\n",
        "            lower_approx5,\n",
        "            lower_approx6,\n",
        "            lower_approx7,\n",
        "            lower_approx8,\n",
        "            lower_approx9,\n",
        "            lower_approx10,\n",
        "            lower_approx11,\n",
        "            lower_approx12,\n",
        "            lower_approx13,\n",
        "            lower_approx14,\n",
        "            lower_approx15,\n",
        "            lower_approx16,\n",
        "            lower_approx17,\n",
        "            lower_approx18,\n",
        "            lower_approx19,\n",
        "            lower_approx20,\n",
        "            lower_approx21]\n",
        "\n",
        "median_approx = [median_approx1,\n",
        "            median_approx2,\n",
        "            median_approx3,\n",
        "            median_approx4,\n",
        "            median_approx5,\n",
        "            median_approx6,\n",
        "            median_approx7,\n",
        "            median_approx8,\n",
        "            median_approx9,\n",
        "            median_approx10,\n",
        "            median_approx11,\n",
        "            median_approx12,\n",
        "            median_approx13,\n",
        "            median_approx14,\n",
        "            median_approx15,\n",
        "            median_approx16,\n",
        "            median_approx17,\n",
        "            median_approx18,\n",
        "            median_approx19,\n",
        "            median_approx20,\n",
        "            median_approx21]\n",
        "\n",
        "upper_approx = [upper_approx1,\n",
        "            upper_approx2,\n",
        "            upper_approx3,\n",
        "            upper_approx4,\n",
        "            upper_approx5,\n",
        "            upper_approx6,\n",
        "            upper_approx7,\n",
        "            upper_approx8,\n",
        "            upper_approx9,\n",
        "            upper_approx10,\n",
        "            upper_approx11,\n",
        "            upper_approx12,\n",
        "            upper_approx13,\n",
        "            upper_approx14,\n",
        "            upper_approx15,\n",
        "            upper_approx16,\n",
        "            upper_approx17,\n",
        "            upper_approx18,\n",
        "            upper_approx19,\n",
        "            upper_approx20,\n",
        "            upper_approx21]"
      ],
      "execution_count": 96,
      "outputs": []
    },
    {
      "cell_type": "code",
      "metadata": {
        "id": "wxtGTOYfQxf_"
      },
      "source": [
        "### Summarize arrays: 'exact'\n",
        "\n",
        "lower_exact = [lower_exact1,\n",
        "            lower_exact2,\n",
        "            lower_exact3,\n",
        "            lower_exact4,\n",
        "            lower_exact5,\n",
        "            lower_exact6,\n",
        "            lower_exact7,\n",
        "            lower_exact8,\n",
        "            lower_exact9,\n",
        "            lower_exact10,\n",
        "            lower_exact11,\n",
        "            lower_exact12,\n",
        "            lower_exact13,\n",
        "            lower_exact14,\n",
        "            lower_exact15,\n",
        "            lower_exact16,\n",
        "            lower_exact17,\n",
        "            lower_exact18,\n",
        "            lower_exact19,\n",
        "            lower_exact20,\n",
        "            lower_exact21]\n",
        "\n",
        "median_exact = [median_exact1,\n",
        "            median_exact2,\n",
        "            median_exact3,\n",
        "            median_exact4,\n",
        "            median_exact5,\n",
        "            median_exact6,\n",
        "            median_exact7,\n",
        "            median_exact8,\n",
        "            median_exact9,\n",
        "            median_exact10,\n",
        "            median_exact11,\n",
        "            median_exact12,\n",
        "            median_exact13,\n",
        "            median_exact14,\n",
        "            median_exact15,\n",
        "            median_exact16,\n",
        "            median_exact17,\n",
        "            median_exact18,\n",
        "            median_exact19,\n",
        "            median_exact20,\n",
        "            median_exact21]\n",
        "\n",
        "upper_exact = [upper_exact1,\n",
        "            upper_exact2,\n",
        "            upper_exact3,\n",
        "            upper_exact4,\n",
        "            upper_exact5,\n",
        "            upper_exact6,\n",
        "            upper_exact7,\n",
        "            upper_exact8,\n",
        "            upper_exact9,\n",
        "            upper_exact10,\n",
        "            upper_exact11,\n",
        "            upper_exact12,\n",
        "            upper_exact13,\n",
        "            upper_exact14,\n",
        "            upper_exact15,\n",
        "            upper_exact16,\n",
        "            upper_exact17,\n",
        "            upper_exact18,\n",
        "            upper_exact19,\n",
        "            upper_exact20,\n",
        "            upper_exact21]"
      ],
      "execution_count": 97,
      "outputs": []
    },
    {
      "cell_type": "code",
      "metadata": {
        "id": "2MONq-BXQxgA",
        "colab": {
          "base_uri": "https://localhost:8080/",
          "height": 299
        },
        "outputId": "022b2bc7-1e7e-4dec-9303-1a0a3cccd69d"
      },
      "source": [
        "### Visualise!\n",
        "\n",
        "title = func\n",
        "plt.figure()\n",
        "\n",
        "plt.plot(median_approx, color = 'Yellow')\n",
        "plt.plot(median_exact, color = 'Red')\n",
        "\n",
        "xstar = np.arange(0, iters+1, step=1)\n",
        "plt.fill_between(xstar, lower_approx, upper_approx, facecolor = 'Yellow', alpha=0.4, label='GP EI Optimization: Approx GP EI gradients')\n",
        "plt.fill_between(xstar, lower_exact, upper_exact, facecolor = 'Red', alpha=0.4, label='GP EI Optimization: Exact GP dEI gradients')\n",
        "\n",
        "plt.title(title, weight = 'bold')\n",
        "plt.xlabel('(Post-initialization) iteration $\\it{k}$', weight = 'bold')\n",
        "plt.ylabel('log(Regret)', weight = 'bold') \n",
        "plt.legend(loc=1) # add plot legend\n",
        "\n",
        "### Make the x-ticks integers, not floats:\n",
        "count = len(xstar)\n",
        "plt.xticks(np.arange(count), np.arange(0, count))\n",
        "plt.show() #visualize!"
      ],
      "execution_count": 98,
      "outputs": [
        {
          "output_type": "display_data",
          "data": {
            "image/png": "[encoded data removed]",
            "text/plain": [
              "<Figure size 432x288 with 1 Axes>"
            ]
          },
          "metadata": {
            "needs_background": "light"
          }
        }
      ]
    },
    {
      "cell_type": "code",
      "metadata": {
        "id": "l5dkR2Id2oiu",
        "colab": {
          "base_uri": "https://localhost:8080/"
        },
        "outputId": "7817c8c4-b861-4b59-ce1f-bd773ee41ed9"
      },
      "source": [
        "time_approx, time_exact\n"
      ],
      "execution_count": 99,
      "outputs": [
        {
          "output_type": "execute_result",
          "data": {
            "text/plain": [
              "(193.64102578163147, 310.9958155155182)"
            ]
          },
          "metadata": {},
          "execution_count": 99
        }
      ]
    },
    {
      "cell_type": "code",
      "metadata": {
        "id": "77BffxK2Fe61"
      },
      "source": [
        ""
      ],
      "execution_count": 99,
      "outputs": []
    }
  ]
}