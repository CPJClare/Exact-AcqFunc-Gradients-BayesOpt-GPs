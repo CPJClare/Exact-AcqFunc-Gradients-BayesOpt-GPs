{
  "nbformat": 4,
  "nbformat_minor": 0,
  "metadata": {
    "colab": {
      "name": "2. Rastrigin_GP_dCBM_2D.ipynb",
      "provenance": [],
      "collapsed_sections": []
    },
    "kernelspec": {
      "name": "python3",
      "display_name": "Python 3"
    },
    "language_info": {
      "name": "python"
    }
  },
  "cells": [
    {
      "cell_type": "markdown",
      "metadata": {
        "id": "Dqn4dFx7Z2Ir"
      },
      "source": [
        "\n",
        "Rastrigin: 2D\n"
      ]
    },
    {
      "cell_type": "code",
      "metadata": {
        "id": "MJTM_GZZZb5x",
        "colab": {
          "base_uri": "https://localhost:8080/"
        },
        "outputId": "1a6eaf0d-6adc-4cb4-aa77-530ca5aec67c"
      },
      "source": [
        "pip install pyGPGO\n"
      ],
      "execution_count": 1,
      "outputs": [
        {
          "output_type": "stream",
          "name": "stdout",
          "text": [
            "Requirement already satisfied: pyGPGO in /usr/local/lib/python3.7/dist-packages (0.5.1)\n",
            "Requirement already satisfied: mkl in /usr/local/lib/python3.7/dist-packages (from pyGPGO) (2019.0)\n",
            "Requirement already satisfied: numpy in /usr/local/lib/python3.7/dist-packages (from pyGPGO) (1.19.5)\n",
            "Requirement already satisfied: scipy in /usr/local/lib/python3.7/dist-packages (from pyGPGO) (1.4.1)\n",
            "Requirement already satisfied: scikit-learn in /usr/local/lib/python3.7/dist-packages (from pyGPGO) (1.0.1)\n",
            "Requirement already satisfied: joblib in /usr/local/lib/python3.7/dist-packages (from pyGPGO) (1.1.0)\n",
            "Requirement already satisfied: pyMC3 in /usr/local/lib/python3.7/dist-packages (from pyGPGO) (3.11.4)\n",
            "Requirement already satisfied: Theano-PyMC in /usr/local/lib/python3.7/dist-packages (from pyGPGO) (1.1.2)\n",
            "Requirement already satisfied: intel-openmp in /usr/local/lib/python3.7/dist-packages (from mkl->pyGPGO) (2021.4.0)\n",
            "Requirement already satisfied: cachetools>=4.2.1 in /usr/local/lib/python3.7/dist-packages (from pyMC3->pyGPGO) (4.2.4)\n",
            "Requirement already satisfied: fastprogress>=0.2.0 in /usr/local/lib/python3.7/dist-packages (from pyMC3->pyGPGO) (1.0.0)\n",
            "Requirement already satisfied: semver>=2.13.0 in /usr/local/lib/python3.7/dist-packages (from pyMC3->pyGPGO) (2.13.0)\n",
            "Requirement already satisfied: dill in /usr/local/lib/python3.7/dist-packages (from pyMC3->pyGPGO) (0.3.4)\n",
            "Requirement already satisfied: pandas>=0.24.0 in /usr/local/lib/python3.7/dist-packages (from pyMC3->pyGPGO) (1.1.5)\n",
            "Requirement already satisfied: patsy>=0.5.1 in /usr/local/lib/python3.7/dist-packages (from pyMC3->pyGPGO) (0.5.2)\n",
            "Requirement already satisfied: typing-extensions>=3.7.4 in /usr/local/lib/python3.7/dist-packages (from pyMC3->pyGPGO) (3.10.0.2)\n",
            "Requirement already satisfied: arviz>=0.11.0 in /usr/local/lib/python3.7/dist-packages (from pyMC3->pyGPGO) (0.11.4)\n",
            "Requirement already satisfied: filelock in /usr/local/lib/python3.7/dist-packages (from Theano-PyMC->pyGPGO) (3.3.2)\n",
            "Requirement already satisfied: matplotlib>=3.0 in /usr/local/lib/python3.7/dist-packages (from arviz>=0.11.0->pyMC3->pyGPGO) (3.2.2)\n",
            "Requirement already satisfied: xarray>=0.16.1 in /usr/local/lib/python3.7/dist-packages (from arviz>=0.11.0->pyMC3->pyGPGO) (0.18.2)\n",
            "Requirement already satisfied: netcdf4 in /usr/local/lib/python3.7/dist-packages (from arviz>=0.11.0->pyMC3->pyGPGO) (1.5.8)\n",
            "Requirement already satisfied: setuptools>=38.4 in /usr/local/lib/python3.7/dist-packages (from arviz>=0.11.0->pyMC3->pyGPGO) (57.4.0)\n",
            "Requirement already satisfied: packaging in /usr/local/lib/python3.7/dist-packages (from arviz>=0.11.0->pyMC3->pyGPGO) (21.2)\n",
            "Requirement already satisfied: pyparsing!=2.0.4,!=2.1.2,!=2.1.6,>=2.0.1 in /usr/local/lib/python3.7/dist-packages (from matplotlib>=3.0->arviz>=0.11.0->pyMC3->pyGPGO) (2.4.7)\n",
            "Requirement already satisfied: kiwisolver>=1.0.1 in /usr/local/lib/python3.7/dist-packages (from matplotlib>=3.0->arviz>=0.11.0->pyMC3->pyGPGO) (1.3.2)\n",
            "Requirement already satisfied: cycler>=0.10 in /usr/local/lib/python3.7/dist-packages (from matplotlib>=3.0->arviz>=0.11.0->pyMC3->pyGPGO) (0.11.0)\n",
            "Requirement already satisfied: python-dateutil>=2.1 in /usr/local/lib/python3.7/dist-packages (from matplotlib>=3.0->arviz>=0.11.0->pyMC3->pyGPGO) (2.8.2)\n",
            "Requirement already satisfied: pytz>=2017.2 in /usr/local/lib/python3.7/dist-packages (from pandas>=0.24.0->pyMC3->pyGPGO) (2018.9)\n",
            "Requirement already satisfied: six in /usr/local/lib/python3.7/dist-packages (from patsy>=0.5.1->pyMC3->pyGPGO) (1.15.0)\n",
            "Requirement already satisfied: cftime in /usr/local/lib/python3.7/dist-packages (from netcdf4->arviz>=0.11.0->pyMC3->pyGPGO) (1.5.1.1)\n",
            "Requirement already satisfied: threadpoolctl>=2.0.0 in /usr/local/lib/python3.7/dist-packages (from scikit-learn->pyGPGO) (3.0.0)\n"
          ]
        }
      ]
    },
    {
      "cell_type": "code",
      "metadata": {
        "id": "ZJSSPbwPaEUB"
      },
      "source": [
        "### Import:\n",
        "\n",
        "import numpy as np\n",
        "import scipy as sp\n",
        "import pandas as pd\n",
        "import matplotlib.pyplot as plt\n",
        "import warnings\n",
        "import itertools\n",
        "\n",
        "from pyGPGO.GPGO import GPGO\n",
        "from pyGPGO.surrogates.GaussianProcess import GaussianProcess\n",
        "from pyGPGO.acquisition import Acquisition\n",
        "from pyGPGO.covfunc import squaredExponential\n",
        "\n",
        "from joblib import Parallel, delayed\n",
        "from numpy.linalg import solve, cholesky\n",
        "from scipy.spatial.distance import cdist\n",
        "from scipy.optimize import minimize\n",
        "from scipy.stats import norm\n",
        "import time\n",
        "\n",
        "warnings.filterwarnings(\"ignore\", category=RuntimeWarning)\n"
      ],
      "execution_count": 2,
      "outputs": []
    },
    {
      "cell_type": "code",
      "metadata": {
        "id": "OeYcTUNoaJWa"
      },
      "source": [
        "### Inputs:\n",
        "\n",
        "func = 'Rastrigin'\n",
        "Beta_CBM = 1.5 # Default UCB Acquisition function parameter in pyGPGO https://github.com/josejimenezluna/pyGPGO/blob/master/pyGPGO/acquisition.py#L83\n",
        "n_test = 500\n",
        "eps = 1e-08\n",
        "\n",
        "util_grad_exact = 'dCBM_GP'\n",
        "util_grad_approx = 'CBM'\n",
        "\n",
        "n_init = 5 # random initialisations\n",
        "iters = 20\n",
        "opt = True"
      ],
      "execution_count": 3,
      "outputs": []
    },
    {
      "cell_type": "code",
      "metadata": {
        "id": "xpaEOjdzaPMS"
      },
      "source": [
        "### Objective Function - Rastrigin(x) 2-D:\n",
        "\n",
        "def objfunc(x1_training, x2_training):\n",
        "        return  operator * (10 * dim + x1_training** 2 - 10 * np.cos(2 * np.pi * x1_training)\n",
        "                                    + x2_training** 2 - 10 * np.cos(2 * np.pi * x2_training)\n",
        "                          )\n",
        "        \n",
        "def objfunc_der(x1_training, x2_training):\n",
        "        return  operator * (2 * x1_training + 20 * np.pi * np.sin(2 * np.pi * x1_training)\n",
        "                                    + 2 * x2_training + 20 * np.pi * np.sin(2 * np.pi * x2_training)\n",
        "                          )\n",
        "    \n",
        "# Constraints:\n",
        "lb = -5.12 \n",
        "ub = +5.12\n",
        "    \n",
        "# Input array dimension(s):\n",
        "dim = 2\n",
        "\n",
        "# 2-D inputs' parameter bounds:\n",
        "param = {'x1_training': ('cont', [lb, ub]),\n",
        "             'x2_training': ('cont', [lb, ub])}\n",
        "\n",
        "# True y bounds:\n",
        "operator = -1\n",
        "y_global_orig = 0 # targets global minimum\n",
        "\n",
        "# Test data:\n",
        "x1_test = np.linspace(lb, ub, n_test) \n",
        "x2_test = np.linspace(lb, ub, n_test)\n",
        "  \n",
        "x_test = np.column_stack((x1_test,x2_test))\n"
      ],
      "execution_count": 4,
      "outputs": []
    },
    {
      "cell_type": "code",
      "metadata": {
        "id": "eYpI3Zm4aGxi"
      },
      "source": [
        "n_start_AcqFunc = iters\n"
      ],
      "execution_count": 5,
      "outputs": []
    },
    {
      "cell_type": "code",
      "metadata": {
        "id": "oO_GUmOoaV0T"
      },
      "source": [
        "### Cumulative Regret Calculator:\n",
        "\n",
        "def min_max_array(x):\n",
        "    new_list = []\n",
        "    for i, num in enumerate(x):\n",
        "            new_list.append(np.min(x[0:i+1]))\n",
        "    return new_list\n",
        "  "
      ],
      "execution_count": 6,
      "outputs": []
    },
    {
      "cell_type": "code",
      "metadata": {
        "id": "kuuJx0IMam9S"
      },
      "source": [
        "### Surrogate derivatives: \n",
        "\n",
        "cov_func = squaredExponential()\n",
        "\n",
        "def kronDelta(X, Xstar):\n",
        "    return cdist(X, Xstar) < np.finfo(np.float32).eps\n",
        "\n",
        "def se(X, Xstar, sigmaf, l, sigman):\n",
        "    return sigmaf * np.exp(-0.5 * cdist(X, Xstar) ** 2 / l ** 2) + sigman * kronDelta(X, Xstar)\n",
        "\n",
        "def deriv_se(X, Xstar, sigmaf, l, sigman):\n",
        "    return cdist(X, Xstar) / (l ** 2) * se(X, Xstar, sigmaf, l, sigman)\n",
        "\n",
        "def der_covmat(X, Xstar, sigmaf, l, sigman):\n",
        "      nx = len(X)\n",
        "      ny = len(Xstar)\n",
        "      return np.round(np.array([deriv_se(np.atleast_2d(i), np.atleast_2d(j), sigmaf, l, sigman) for (i, j) in itertools.product(X, Xstar)]).reshape(nx, ny), 8)\n",
        "\n",
        "class dGaussianProcess(GaussianProcess):\n",
        "    l = GaussianProcess(cov_func, optimize=opt).getcovparams()['l']\n",
        "    sigmaf = GaussianProcess(cov_func, optimize=opt).getcovparams()['sigmaf']\n",
        "    sigman = GaussianProcess(cov_func, optimize=opt).getcovparams()['sigman']\n",
        "\n",
        "    def AcqGrad(self, Xstar):\n",
        "        Xstar = np.atleast_2d(Xstar)\n",
        "        Kstar = self.covfunc.K(self.X, Xstar).T\n",
        "        dKstar = der_covmat(self.X, Xstar, self.sigmaf, self.l, self.sigman).T\n",
        "        \n",
        "        alpha_Kstar = np.dot(np.linalg.inv(self.K + (self.sigman**2) * np.eye(len(self.X))), Kstar.T)\n",
        "        \n",
        "        dm = np.dot(dKstar, self.alpha)\n",
        "        ds = -2 * np.dot(dKstar, alpha_Kstar)\n",
        "        \n",
        "        return dm, ds\n",
        "        "
      ],
      "execution_count": 7,
      "outputs": []
    },
    {
      "cell_type": "code",
      "metadata": {
        "id": "_Dc3YVHVaXz7"
      },
      "source": [
        "class Acquisition_new(Acquisition):    \n",
        "    def __init__(self, mode, eps=eps, **params):\n",
        "        \n",
        "        self.params = params\n",
        "        self.eps = eps\n",
        "\n",
        "        mode_dict = {\n",
        "            'CBM': self.CBM,\n",
        "            'dCBM_GP': self.dCBM_GP\n",
        "        }\n",
        "\n",
        "        self.f = mode_dict[mode]\n",
        "\n",
        "    def CBM(self, tau, mean, std):\n",
        "        z = (mean - y_global_orig - self.eps) / (std + self.eps)\n",
        "        return (std + self.eps) * (z + np.sqrt(Beta_CBM))\n",
        "\n",
        "    def dCBM_GP(self, tau, mean, std, ds, dm):\n",
        "        gamma = (mean - y_global_orig - self.eps) / (std + self.eps)\n",
        "        gamma_h = (mean - tau) / (std + self.eps)\n",
        "        dsdx = ds / (2 * (std + self.eps))\n",
        "        dmdx = (dm - gamma * dsdx) / (std + self.eps)\n",
        "\n",
        "        f = (std + self.eps) * (gamma + np.sqrt(Beta_CBM))\n",
        "        df = dsdx * (gamma + np.sqrt(Beta_CBM)) + (std + self.eps) * dmdx\n",
        "        df_arr = []\n",
        "\n",
        "        for j in range(0, dim):\n",
        "          df_arr.append(df)\n",
        "        return f, np.asarray(df_arr).transpose()\n",
        "        \n",
        "    def d_eval(self, tau, mean, std, ds, dm):\n",
        "    \n",
        "        return self.f(tau, mean, std, ds, dm, **self.params)\n",
        "        "
      ],
      "execution_count": 8,
      "outputs": []
    },
    {
      "cell_type": "code",
      "metadata": {
        "id": "PITEQC8YSl7i"
      },
      "source": [
        "## GPGO_multi: Multistart changed to variable 'n_start_AcqFunc'\n",
        "\n",
        "class GPGO_multi(GPGO):\n",
        "    n_start = n_start_AcqFunc\n",
        "\n",
        "    def _optimizeAcq(self, method='L-BFGS-B', n_start=n_start_AcqFunc):\n",
        "        \n",
        "        start_points_dict = [self._sampleParam() for i in range(n_start)]\n",
        "        start_points_arr = np.array([list(s.values())\n",
        "                                     for s in start_points_dict])\n",
        "        x_best = np.empty((n_start, len(self.parameter_key)))\n",
        "        f_best = np.empty((n_start,))\n",
        "        if self.n_jobs == 1:\n",
        "            for index, start_point in enumerate(start_points_arr):\n",
        "                res = minimize(self._acqWrapper, x0=start_point, method=method,\n",
        "                               bounds=self.parameter_range)\n",
        "                x_best[index], f_best[index] = res.x, np.atleast_1d(res.fun)[0]\n",
        "        else:\n",
        "            opt = Parallel(n_jobs=self.n_jobs)(delayed(minimize)(self._acqWrapper,\n",
        "                                                                 x0=start_point,\n",
        "                                                                 method=method,\n",
        "                                                                 bounds=self.parameter_range) for start_point in\n",
        "                                               start_points_arr)\n",
        "            x_best = np.array([res.x for res in opt])\n",
        "            f_best = np.array([np.atleast_1d(res.fun)[0] for res in opt])\n",
        "\n",
        "        self.best = x_best[np.argmin(f_best)]"
      ],
      "execution_count": 9,
      "outputs": []
    },
    {
      "cell_type": "code",
      "metadata": {
        "id": "b_B-w81BJxKN"
      },
      "source": [
        "## dGPGO:\n",
        "\n",
        "grad = 1\n",
        "\n",
        "class dGPGO(GPGO):\n",
        "    n_start = n_start_AcqFunc\n",
        "\n",
        "    def d_optimizeAcq(self, method='L-BFGS-B', n_start=n_start_AcqFunc):\n",
        "        start_points_dict = [self._sampleParam() for i in range(n_start)]\n",
        "        start_points_arr = np.array([list(s.values())\n",
        "                                     for s in start_points_dict])\n",
        "        x_best = np.empty((n_start, len(self.parameter_key)))\n",
        "        f_best = np.empty((n_start,))\n",
        "        opt = Parallel(n_jobs=self.n_jobs)(delayed(minimize)(self.acqfunc,\n",
        "                                                                 x0=start_point,\n",
        "                                                                 method=method,\n",
        "                                                                 jac = True,\n",
        "                                                                 bounds=self.parameter_range) for start_point in\n",
        "                                               start_points_arr)\n",
        "        x_best = np.array([res.x for res in opt])\n",
        "        f_best = np.array([np.atleast_1d(res.fun)[0] for res in opt])\n",
        "\n",
        "        self.x_best = x_best\n",
        "        self.f_best = f_best\n",
        "        self.best = x_best[np.argmin(f_best)]\n",
        "        self.start_points_arr = start_points_arr\n",
        "\n",
        "        return x_best, f_best\n",
        "    \n",
        "    def run(self, max_iter=10, init_evals=3, resume=False):\n",
        "        \n",
        "        if not resume:\n",
        "            self.init_evals = init_evals\n",
        "            self._firstRun(self.init_evals)\n",
        "            self.logger._printInit(self)\n",
        "        for iteration in range(max_iter):\n",
        "            self.d_optimizeAcq()\n",
        "            self.updateGP()\n",
        "            self.logger._printCurrent(self)\n",
        "\n",
        "    def acqfunc(self, xnew, n_start=n_start_AcqFunc):\n",
        "        new_mean, new_var = self.GP.predict(xnew, return_std=True)\n",
        "        new_std = np.sqrt(new_var + eps)\n",
        "        dm, ds = self.GP.AcqGrad(xnew)\n",
        "        f, df = self.A.d_eval(self.tau, new_mean, new_std, ds=ds, dm=dm)\n",
        "\n",
        "        return -f, -df * grad\n"
      ],
      "execution_count": 10,
      "outputs": []
    },
    {
      "cell_type": "code",
      "metadata": {
        "id": "qXIKGuXVGEg2"
      },
      "source": [
        "###Reproducible set-seeds:\n",
        "\n",
        "run_num_1 = 1\n",
        "run_num_2 = 2\n",
        "run_num_3 = 3\n",
        "run_num_4 = 4\n",
        "run_num_5 = 5\n",
        "run_num_6 = 6\n",
        "run_num_7 = 7\n",
        "run_num_8 = 8\n",
        "run_num_9 = 9\n",
        "run_num_10 = 10\n",
        "run_num_11 = 11\n",
        "run_num_12 = 12\n",
        "run_num_13 = 13\n",
        "run_num_14 = 14\n",
        "run_num_15 = 15\n",
        "run_num_16 = 16\n",
        "run_num_17 = 17\n",
        "run_num_18 = 18\n",
        "run_num_19 = 19\n",
        "run_num_20 = 20\n"
      ],
      "execution_count": 11,
      "outputs": []
    },
    {
      "cell_type": "code",
      "metadata": {
        "colab": {
          "base_uri": "https://localhost:8080/"
        },
        "id": "JEhagQmnTVIK",
        "outputId": "256b0002-2f0e-430b-a130-01d09b775acd"
      },
      "source": [
        "start_approx = time.time()\n",
        "start_approx\n"
      ],
      "execution_count": 12,
      "outputs": [
        {
          "output_type": "execute_result",
          "data": {
            "text/plain": [
              "1637158849.763313"
            ]
          },
          "metadata": {},
          "execution_count": 12
        }
      ]
    },
    {
      "cell_type": "code",
      "metadata": {
        "colab": {
          "base_uri": "https://localhost:8080/"
        },
        "id": "aH0YSTXufD1v",
        "outputId": "12a69de2-f313-4b8e-95f5-398e16b630f2"
      },
      "source": [
        "### ESTIMATED GP EI GRADIENTS\n",
        "\n",
        "np.random.seed(run_num_1)\n",
        "surrogate_approx_1 = GaussianProcess(cov_func, optimize=opt)\n",
        "\n",
        "approx_1 = GPGO_multi(surrogate_approx_1, Acquisition_new(util_grad_approx), objfunc, param)\n",
        "approx_1.run(init_evals=n_init, max_iter=iters)\n"
      ],
      "execution_count": 13,
      "outputs": [
        {
          "output_type": "stream",
          "name": "stdout",
          "text": [
            "Evaluation \t Proposed point \t  Current eval. \t Best eval.\n",
            "init   \t [-0.84969467  2.25612281]. \t  -20.33436270766351 \t -19.908403246996286\n",
            "init   \t [-5.1188288  -2.02411446]. \t  -33.07414982069084 \t -19.908403246996286\n",
            "init   \t [-3.61721968 -4.17445279]. \t  -53.347974723929894 \t -19.908403246996286\n",
            "init   \t [-3.21269544 -1.58145816]. \t  -39.218472310354045 \t -19.908403246996286\n",
            "init   \t [-1.05710106  0.39748336]. \t  -19.908403246996286 \t -19.908403246996286\n",
            "1      \t [ 5.12 -5.12]. \t  -57.849427451571785 \t -19.908403246996286\n",
            "2      \t [4.59572391 5.12      ]. \t  -68.29054609461346 \t -19.908403246996286\n",
            "3      \t [-5.12  5.12]. \t  -57.849427451571785 \t -19.908403246996286\n",
            "4      \t [ 4.14133522 -0.05944136]. \t  -21.534187073779243 \t -19.908403246996286\n",
            "5      \t [ 0.90016241 -3.6892466 ]. \t  -30.049886475201713 \t -19.908403246996286\n",
            "6      \t [0.71631178 5.12      ]. \t  -41.53873900911175 \t -19.908403246996286\n",
            "7      \t [-5.12        1.53252727]. \t  -51.06523410360434 \t -19.908403246996286\n",
            "8      \t [2.30276264 2.20951513]. \t  -30.92305976420471 \t -19.908403246996286\n",
            "9      \t [ 1.42564011 -0.86725187]. \t  -24.994242110900508 \t -19.908403246996286\n",
            "10     \t [-2.15335144  5.12      ]. \t  -37.85543473858014 \t -19.908403246996286\n",
            "11     \t [ 5.12      -2.2427497]. \t  -43.499247972225504 \t -19.908403246996286\n",
            "12     \t [5.12       2.17224323]. \t  -38.94980440640144 \t -19.908403246996286\n",
            "13     \t [-1.04411035 -5.12      ]. \t  -30.396498227558418 \t -19.908403246996286\n",
            "14     \t [ 2.4956842 -5.12     ]. \t  -55.1494769303536 \t -19.908403246996286\n",
            "15     \t [-0.83034661 -2.11906191]. \t  \u001b[92m-13.013381041132467\u001b[0m \t -13.013381041132467\n",
            "16     \t [-2.91299484  2.67562129]. \t  -31.60697104688834 \t -13.013381041132467\n",
            "17     \t [ 2.82520239 -2.40423662]. \t  -37.454640998942374 \t -13.013381041132467\n",
            "18     \t [-5.12 -5.12]. \t  -57.849427451571785 \t -13.013381041132467\n",
            "19     \t [0.73460536 0.97107631]. \t  \u001b[92m-12.613080427033692\u001b[0m \t -12.613080427033692\n",
            "20     \t [-2.88007253  0.48545594]. \t  -31.195955073585573 \t -12.613080427033692\n"
          ]
        }
      ]
    },
    {
      "cell_type": "code",
      "metadata": {
        "colab": {
          "base_uri": "https://localhost:8080/"
        },
        "id": "wTxsSZxFGBB5",
        "outputId": "529f1cce-4b0b-41fd-fb7b-c8908f3903c5"
      },
      "source": [
        "### ESTIMATED GP EI GRADIENTS\n",
        "\n",
        "np.random.seed(run_num_2)\n",
        "surrogate_approx_2 = GaussianProcess(cov_func, optimize=opt)\n",
        "\n",
        "approx_2 = GPGO_multi(surrogate_approx_2, Acquisition_new(util_grad_approx), objfunc, param)\n",
        "approx_2.run(init_evals=n_init, max_iter=iters)\n"
      ],
      "execution_count": 14,
      "outputs": [
        {
          "output_type": "stream",
          "name": "stdout",
          "text": [
            "Evaluation \t Proposed point \t  Current eval. \t Best eval.\n",
            "init   \t [-0.6554122  -4.85451539]. \t  -43.490296251903594 \t -18.964539418712707\n",
            "init   \t [ 0.50854377 -0.6622987 ]. \t  -35.91861667536101 \t -18.964539418712707\n",
            "init   \t [-0.81543371 -1.73737143]. \t  -20.479562046739524 \t -18.964539418712707\n",
            "init   \t [-3.02439799  1.2213347 ]. \t  -18.964539418712707 \t -18.964539418712707\n",
            "init   \t [-2.05153614 -2.3876887 ]. \t  -28.041315668371354 \t -18.964539418712707\n",
            "1      \t [ 5.12 -5.12]. \t  -57.849427451571785 \t -18.964539418712707\n",
            "2      \t [5.12 5.12]. \t  -57.849427451571785 \t -18.964539418712707\n",
            "3      \t [-0.09248709  5.12      ]. \t  -30.57474857107387 \t -18.964539418712707\n",
            "4      \t [5.12       0.07742677]. \t  -30.090900146004074 \t -18.964539418712707\n",
            "5      \t [-5.12  5.12]. \t  -57.849427451571785 \t -18.964539418712707\n",
            "6      \t [-5.12 -5.12]. \t  -57.849427451571785 \t -18.964539418712707\n",
            "7      \t [2.34206722 2.48299461]. \t  -47.06099312718018 \t -18.964539418712707\n",
            "8      \t [-5.12       -1.23378978]. \t  -39.43019295385415 \t -18.964539418712707\n",
            "9      \t [ 2.61403429 -2.99771699]. \t  -33.36161023056895 \t -18.964539418712707\n",
            "10     \t [-0.74502593  2.31294141]. \t  -30.069683816051707 \t -18.964539418712707\n",
            "11     \t [-5.12        2.08277218]. \t  -34.584824400461926 \t -18.964539418712707\n",
            "12     \t [-2.52613842  4.36575584]. \t  -61.955307984096926 \t -18.964539418712707\n",
            "13     \t [ 5.12      -2.3262986]. \t  -48.948832017174624 \t -18.964539418712707\n",
            "14     \t [2.36275664 5.12      ]. \t  -51.014066546534934 \t -18.964539418712707\n",
            "15     \t [5.12       2.42974014]. \t  -53.86965737913228 \t -18.964539418712707\n",
            "16     \t [ 2.01419338 -5.12      ]. \t  -33.021427346358706 \t -18.964539418712707\n",
            "17     \t [ 2.83804712 -0.24293666]. \t  -22.415607087605498 \t -18.964539418712707\n",
            "18     \t [-2.80461063 -5.12      ]. \t  -43.42620365299497 \t -18.964539418712707\n",
            "19     \t [-2.25256012 -0.20499962]. \t  -22.486968188772863 \t -18.964539418712707\n",
            "20     \t [-4.00126215 -2.95302897]. \t  -25.16314329576643 \t -18.964539418712707\n"
          ]
        }
      ]
    },
    {
      "cell_type": "code",
      "metadata": {
        "colab": {
          "base_uri": "https://localhost:8080/"
        },
        "id": "-dgzIrUIGCGT",
        "outputId": "a7dcc9c4-992a-4d76-c793-3c212fd3bb2c"
      },
      "source": [
        "### ESTIMATED GP EI GRADIENTS\n",
        "\n",
        "np.random.seed(run_num_3)\n",
        "surrogate_approx_3 = GaussianProcess(cov_func, optimize=opt)\n",
        "\n",
        "approx_3 = GPGO_multi(surrogate_approx_3, Acquisition_new(util_grad_approx), objfunc, param)\n",
        "approx_3.run(init_evals=n_init, max_iter=iters)\n"
      ],
      "execution_count": 15,
      "outputs": [
        {
          "output_type": "stream",
          "name": "stdout",
          "text": [
            "Evaluation \t Proposed point \t  Current eval. \t Best eval.\n",
            "init   \t [0.52017052 2.1314337 ]. \t  -27.953858411008774 \t -10.607662635789808\n",
            "init   \t [-2.14113547  0.11087468]. \t  -10.607662635789808 \t -10.607662635789808\n",
            "init   \t [4.02377681 4.05804123]. \t  -33.42749829480097 \t -10.607662635789808\n",
            "init   \t [-3.83400642 -2.99783293]. \t  -28.650953928965198 \t -10.607662635789808\n",
            "init   \t [-4.59297584 -0.6061072 ]. \t  -57.6631355589384 \t -10.607662635789808\n",
            "1      \t [ 5.12       -3.42389633]. \t  -59.52614893420009 \t -10.607662635789808\n",
            "2      \t [-5.12  5.12]. \t  -57.849427451571785 \t -10.607662635789808\n",
            "3      \t [ 0.45636549 -5.12      ]. \t  -48.75950274841517 \t -10.607662635789808\n",
            "4      \t [5.12       0.48625257]. \t  -49.12387297881655 \t -10.607662635789808\n",
            "5      \t [ 1.48047502 -1.42688925]. \t  -43.115990133631634 \t -10.607662635789808\n",
            "6      \t [-1.23868633  5.12      ]. \t  -39.74879734269781 \t -10.607662635789808\n",
            "7      \t [-3.18954358  2.50547483]. \t  -42.73678218048145 \t -10.607662635789808\n",
            "8      \t [-5.12 -5.12]. \t  -57.849427451571785 \t -10.607662635789808\n",
            "9      \t [1.57486757 5.12      ]. \t  -50.31876125915629 \t -10.607662635789808\n",
            "10     \t [-1.23265257 -2.44344286]. \t  -35.77724745652967 \t -10.607662635789808\n",
            "11     \t [ 3.114985 -5.12    ]. \t  -41.126111286857 \t -10.607662635789808\n",
            "12     \t [-2.25226236 -5.12      ]. \t  -44.13954320792831 \t -10.607662635789808\n",
            "13     \t [2.71005707 1.42055501]. \t  -40.625624608382545 \t -10.607662635789808\n",
            "14     \t [-0.65295986  0.21802705]. \t  -24.20484652856976 \t -10.607662635789808\n",
            "15     \t [-5.12        2.00363338]. \t  -32.941866184854504 \t -10.607662635789808\n",
            "16     \t [5.12 5.12]. \t  -57.849427451571785 \t -10.607662635789808\n",
            "17     \t [ 2.82082149 -2.84657513]. \t  -26.053172834942913 \t -10.607662635789808\n",
            "18     \t [-1.08466129  2.87164306]. \t  -13.884228948194728 \t -10.607662635789808\n",
            "19     \t [5.12       2.59534774]. \t  -53.919048607422326 \t -10.607662635789808\n",
            "20     \t [ 3.87669706 -1.19475824]. \t  -25.90849716129891 \t -10.607662635789808\n"
          ]
        }
      ]
    },
    {
      "cell_type": "code",
      "metadata": {
        "colab": {
          "base_uri": "https://localhost:8080/"
        },
        "id": "hOtG-2sCGCKS",
        "outputId": "c217411f-fae1-4c2b-9c00-a7062d2f08e3"
      },
      "source": [
        "### ESTIMATED GP EI GRADIENTS\n",
        "\n",
        "np.random.seed(run_num_4)\n",
        "surrogate_approx_4 = GaussianProcess(cov_func, optimize=opt)\n",
        "\n",
        "approx_4 = GPGO_multi(surrogate_approx_4, Acquisition_new(util_grad_approx), objfunc, param)\n",
        "approx_4.run(init_evals=n_init, max_iter=iters)\n"
      ],
      "execution_count": 16,
      "outputs": [
        {
          "output_type": "stream",
          "name": "stdout",
          "text": [
            "Evaluation \t Proposed point \t  Current eval. \t Best eval.\n",
            "init   \t [4.78238555 0.48365823]. \t  -51.03163809010808 \t -14.323038259018315\n",
            "init   \t [4.84028785 2.19971578]. \t  -39.78645699016559 \t -14.323038259018315\n",
            "init   \t [ 2.02474316 -2.90724357]. \t  -14.323038259018315 \t -14.323038259018315\n",
            "init   \t [ 4.87705042 -5.05620219]. \t  -52.80627247106233 \t -14.323038259018315\n",
            "init   \t [-2.52946061 -0.66773471]. \t  -41.61497868486559 \t -14.323038259018315\n",
            "1      \t [-5.12  5.12]. \t  -57.849427451571785 \t -14.323038259018315\n",
            "2      \t [0.36023876 5.12      ]. \t  -45.440277277828315 \t -14.323038259018315\n",
            "3      \t [-5.12 -5.12]. \t  -57.849427451571785 \t -14.323038259018315\n",
            "4      \t [-0.9595676 -5.12     ]. \t  -30.166444402101504 \t -14.323038259018315\n",
            "5      \t [0.85382972 1.14538757]. \t  \u001b[92m-9.860322414543411\u001b[0m \t -9.860322414543411\n",
            "6      \t [-5.12        1.50099554]. \t  -51.17750569309629 \t -9.860322414543411\n",
            "7      \t [3.91383814 5.12      ]. \t  -45.672812329865195 \t -9.860322414543411\n",
            "8      \t [-1.97866248  2.82548436]. \t  -17.42120320973539 \t -9.860322414543411\n",
            "9      \t [ 0.30811555 -1.28283745]. \t  -27.360138828200995 \t -9.860322414543411\n",
            "10     \t [-5.12       -1.96195673]. \t  -33.058313909890344 \t -9.860322414543411\n",
            "11     \t [ 5.12       -2.25321717]. \t  -44.20382842543509 \t -9.860322414543411\n",
            "12     \t [ 1.82457891 -5.12      ]. \t  -37.73748700338609 \t -9.860322414543411\n",
            "13     \t [2.02943529 2.73179689]. \t  -22.89310569502236 \t -9.860322414543411\n",
            "14     \t [-2.35581721  5.12      ]. \t  -50.644149807420746 \t -9.860322414543411\n",
            "15     \t [-2.64801424 -3.36986824]. \t  -51.18575758776083 \t -9.860322414543411\n",
            "16     \t [ 2.44713107 -0.4608871 ]. \t  -45.35372957426951 \t -9.860322414543411\n",
            "17     \t [-0.618751    1.36136101]. \t  -36.01923542142453 \t -9.860322414543411\n",
            "18     \t [ 0.06843227 -3.22325182]. \t  -19.63152659804515 \t -9.860322414543411\n",
            "19     \t [-3.41447342  2.8489931 ]. \t  -42.53936902452309 \t -9.860322414543411\n",
            "20     \t [ 3.07740258 -3.1029601 ]. \t  -22.278793519173178 \t -9.860322414543411\n"
          ]
        }
      ]
    },
    {
      "cell_type": "code",
      "metadata": {
        "colab": {
          "base_uri": "https://localhost:8080/"
        },
        "id": "JF_SxcEvGCOl",
        "outputId": "7510763d-f242-4936-b1ed-386696b9fa21"
      },
      "source": [
        "### ESTIMATED GP EI GRADIENTS\n",
        "\n",
        "np.random.seed(run_num_5)\n",
        "surrogate_approx_5 = GaussianProcess(cov_func, optimize=opt)\n",
        "\n",
        "approx_5 = GPGO_multi(surrogate_approx_5, Acquisition_new(util_grad_approx), objfunc, param)\n",
        "approx_5.run(init_evals=n_init, max_iter=iters)\n"
      ],
      "execution_count": 17,
      "outputs": [
        {
          "output_type": "stream",
          "name": "stdout",
          "text": [
            "Evaluation \t Proposed point \t  Current eval. \t Best eval.\n",
            "init   \t [-2.84678993  3.79629882]. \t  -33.93442008827236 \t -7.8108627039749745\n",
            "init   \t [-3.00319585  4.2865757 ]. \t  -39.673876075575784 \t -7.8108627039749745\n",
            "init   \t [-0.11866943  1.14425716]. \t  -7.8108627039749745 \t -7.8108627039749745\n",
            "init   \t [2.72289645 0.1886002 ]. \t  -25.38160395721669 \t -7.8108627039749745\n",
            "init   \t [-2.08076286 -3.19773462]. \t  -22.589982116319675 \t -7.8108627039749745\n",
            "1      \t [ 5.12       -4.99290081]. \t  -53.8637188578435 \t -7.8108627039749745\n",
            "2      \t [5.12 5.12]. \t  -57.849427451571785 \t -7.8108627039749745\n",
            "3      \t [-5.12       -0.04631954]. \t  -29.34738315471541 \t -7.8108627039749745\n",
            "4      \t [1.00367652 5.12      ]. \t  -29.93474826077079 \t -7.8108627039749745\n",
            "5      \t [-5.12 -5.12]. \t  -57.849427451571785 \t -7.8108627039749745\n",
            "6      \t [ 1.11157363 -5.12      ]. \t  -32.51857762032813 \t -7.8108627039749745\n",
            "7      \t [ 5.12       -1.57442533]. \t  -50.329928483055966 \t -7.8108627039749745\n",
            "8      \t [ 0.59867477 -1.87852397]. \t  -24.800208041640992 \t -7.8108627039749745\n",
            "9      \t [5.12       1.88575232]. \t  -34.94848868166341 \t -7.8108627039749745\n",
            "10     \t [-2.19864154  0.01892493]. \t  -11.733762784702597 \t -7.8108627039749745\n",
            "11     \t [2.18802433 2.78695567]. \t  -26.45701146195773 \t -7.8108627039749745\n",
            "12     \t [-5.12        2.61669697]. \t  -53.201990794246676 \t -7.8108627039749745\n",
            "13     \t [-5.12       -2.41248291]. \t  -53.27062821805571 \t -7.8108627039749745\n",
            "14     \t [ 2.80960892 -3.10603228]. \t  -26.021319827158557 \t -7.8108627039749745\n",
            "15     \t [-1.67907698 -5.12      ]. \t  -46.05420988775454 \t -7.8108627039749745\n",
            "16     \t [-0.55195948  2.79813978]. \t  -34.62724420251744 \t -7.8108627039749745\n",
            "17     \t [-5.12  5.12]. \t  -57.849427451571785 \t -7.8108627039749745\n",
            "18     \t [-0.08396374  0.16739675]. \t  \u001b[92m-6.434469430015225\u001b[0m \t -6.434469430015225\n",
            "19     \t [-2.74681951  1.32936579]. \t  -34.29463291700589 \t -6.434469430015225\n",
            "20     \t [-1.8563139  -1.20400544]. \t  -15.851573463283104 \t -6.434469430015225\n"
          ]
        }
      ]
    },
    {
      "cell_type": "code",
      "metadata": {
        "colab": {
          "base_uri": "https://localhost:8080/"
        },
        "id": "-kDxZtJsGCR3",
        "outputId": "1a253152-dc34-48fe-f778-d33a4bed2e86"
      },
      "source": [
        "### ESTIMATED GP EI GRADIENTS\n",
        "\n",
        "np.random.seed(run_num_6)\n",
        "surrogate_approx_6 = GaussianProcess(cov_func, optimize=opt)\n",
        "\n",
        "approx_6 = GPGO_multi(surrogate_approx_6, Acquisition_new(util_grad_approx), objfunc, param)\n",
        "approx_6.run(init_evals=n_init, max_iter=iters)\n"
      ],
      "execution_count": 18,
      "outputs": [
        {
          "output_type": "stream",
          "name": "stdout",
          "text": [
            "Evaluation \t Proposed point \t  Current eval. \t Best eval.\n",
            "init   \t [ 4.02288795 -1.72052679]. \t  -31.08835710146886 \t -17.28954482757088\n",
            "init   \t [ 3.28938622 -4.69302655]. \t  -58.797867722203385 \t -17.28954482757088\n",
            "init   \t [-4.0175956   0.97333314]. \t  -17.28954482757088 \t -17.28954482757088\n",
            "init   \t [ 0.30532979 -0.83141193]. \t  -19.296253155889353 \t -17.28954482757088\n",
            "init   \t [-1.68542362  1.25459899]. \t  -28.650630936276173 \t -17.28954482757088\n",
            "1      \t [5.12 5.12]. \t  -57.849427451571785 \t -17.28954482757088\n",
            "2      \t [-4.81397128 -4.71436892]. \t  -63.70762985029125 \t -17.28954482757088\n",
            "3      \t [-5.12  5.12]. \t  -57.849427451571785 \t -17.28954482757088\n",
            "4      \t [0.39539242 5.12      ]. \t  -46.99768727669873 \t -17.28954482757088\n",
            "5      \t [-0.75276287 -5.12      ]. \t  -39.31777786877454 \t -17.28954482757088\n",
            "6      \t [2.84227806 1.91251994]. \t  -17.730653185758527 \t -17.28954482757088\n",
            "7      \t [-2.70490329 -2.01013296]. \t  -24.17314267957572 \t -17.28954482757088\n",
            "8      \t [5.12       1.12144672]. \t  -32.95519603426676 \t -17.28954482757088\n",
            "9      \t [-2.34758371  4.04003132]. \t  -37.90201540888209 \t -17.28954482757088\n",
            "10     \t [-5.12       -1.34940349]. \t  -46.59309314142705 \t -17.28954482757088\n",
            "11     \t [ 0.98862906 -2.97123897]. \t  \u001b[92m-9.993998298418221\u001b[0m \t -9.993998298418221\n",
            "12     \t [0.64320549 2.21258388]. \t  -29.19768286279993 \t -9.993998298418221\n",
            "13     \t [-5.12        2.42907197]. \t  -53.84839421281365 \t -9.993998298418221\n",
            "14     \t [2.74676188 4.14103601]. \t  -38.57237356846127 \t -9.993998298418221\n",
            "15     \t [ 2.28576691 -0.11444315]. \t  -19.942057624170765 \t -9.993998298418221\n",
            "16     \t [-0.72214412 -2.66668551]. \t  -34.372992445732734 \t -9.993998298418221\n",
            "17     \t [ 5.12       -3.46239942]. \t  -60.63514543590509 \t -9.993998298418221\n",
            "18     \t [ 1.87447758 -2.44800825]. \t  -31.929740804206073 \t -9.993998298418221\n",
            "19     \t [ 1.17616281 -5.12      ]. \t  -35.83338680707287 \t -9.993998298418221\n",
            "20     \t [-2.60240284 -4.28254799]. \t  -55.144053840725974 \t -9.993998298418221\n"
          ]
        }
      ]
    },
    {
      "cell_type": "code",
      "metadata": {
        "colab": {
          "base_uri": "https://localhost:8080/"
        },
        "id": "fKB8MCD_GCVI",
        "outputId": "4f8ad4b3-4deb-4964-af1e-6618374c6f53"
      },
      "source": [
        "### ESTIMATED GP EI GRADIENTS\n",
        "\n",
        "np.random.seed(run_num_7)\n",
        "surrogate_approx_7 = GaussianProcess(cov_func, optimize=opt)\n",
        "\n",
        "approx_7 = GPGO_multi(surrogate_approx_7, Acquisition_new(util_grad_approx), objfunc, param)\n",
        "approx_7.run(init_evals=n_init, max_iter=iters)\n"
      ],
      "execution_count": 19,
      "outputs": [
        {
          "output_type": "stream",
          "name": "stdout",
          "text": [
            "Evaluation \t Proposed point \t  Current eval. \t Best eval.\n",
            "init   \t [-4.33860312  2.86636843]. \t  -45.646133072936244 \t -22.52235437888213\n",
            "init   \t [-0.63068947  2.28828342]. \t  -34.83012662845338 \t -22.52235437888213\n",
            "init   \t [4.8946126  0.39419771]. \t  -44.09657005662876 \t -22.52235437888213\n",
            "init   \t [ 0.01147355 -4.38219639]. \t  -36.613209822404315 \t -22.52235437888213\n",
            "init   \t [-2.37118484e+00 -1.20319155e-03]. \t  -22.52235437888213 \t -22.52235437888213\n",
            "1      \t [-5.12 -5.12]. \t  -57.849427451571785 \t -22.52235437888213\n",
            "2      \t [ 5.12 -5.12]. \t  -57.849427451571785 \t -22.52235437888213\n",
            "3      \t [3.59501824 5.12      ]. \t  -60.11903135913032 \t -22.52235437888213\n",
            "4      \t [-4.02558214 -1.33646422]. \t  -33.289738493146906 \t -22.52235437888213\n",
            "5      \t [ 1.40596258 -0.96124858]. \t  \u001b[92m-21.500335948153456\u001b[0m \t -21.500335948153456\n",
            "6      \t [-1.80775719  5.12      ]. \t  -38.642839298568774 \t -21.500335948153456\n",
            "7      \t [2.33777696 2.131981  ]. \t  -28.49615069109972 \t -21.500335948153456\n",
            "8      \t [ 3.57945118 -2.53926577]. \t  -57.73716989248561 \t -21.500335948153456\n",
            "9      \t [-2.52339006 -3.63387051]. \t  -56.130899973082826 \t -21.500335948153456\n",
            "10     \t [-5.12  5.12]. \t  -57.849427451571785 \t -21.500335948153456\n",
            "11     \t [0.80789422 5.12      ]. \t  -36.01949848541133 \t -21.500335948153456\n",
            "12     \t [5.12       2.99319145]. \t  -37.893057751901985 \t -21.500335948153456\n",
            "13     \t [ 2.32166869 -5.12      ]. \t  -48.66728444601079 \t -21.500335948153456\n",
            "14     \t [-0.64343032 -1.53135336]. \t  -38.77233022202712 \t -21.500335948153456\n",
            "15     \t [-5.12        0.58573789]. \t  -47.8515298546596 \t -21.500335948153456\n",
            "16     \t [-5.12       -2.74155414]. \t  -46.971252582132514 \t -21.500335948153456\n",
            "17     \t [0.74679232 0.65279012]. \t  -26.920493521728055 \t -21.500335948153456\n",
            "18     \t [ 2.81908439 -0.0332917 ]. \t  \u001b[92m-13.960657307906038\u001b[0m \t -13.960657307906038\n",
            "19     \t [-2.50686301  1.83552474]. \t  -34.52545168357389 \t -13.960657307906038\n",
            "20     \t [ 1.24821642 -2.72884064]. \t  -30.218121192847374 \t -13.960657307906038\n"
          ]
        }
      ]
    },
    {
      "cell_type": "code",
      "metadata": {
        "colab": {
          "base_uri": "https://localhost:8080/"
        },
        "id": "4unvifF-GCXp",
        "outputId": "e2664941-192c-48f9-8a25-cddc217e43f8"
      },
      "source": [
        "### ESTIMATED GP EI GRADIENTS\n",
        "\n",
        "np.random.seed(run_num_8)\n",
        "surrogate_approx_8 = GaussianProcess(cov_func, optimize=opt)\n",
        "\n",
        "approx_8 = GPGO_multi(surrogate_approx_8, Acquisition_new(util_grad_approx), objfunc, param)\n",
        "approx_8.run(init_evals=n_init, max_iter=iters)\n"
      ],
      "execution_count": 20,
      "outputs": [
        {
          "output_type": "stream",
          "name": "stdout",
          "text": [
            "Evaluation \t Proposed point \t  Current eval. \t Best eval.\n",
            "init   \t [3.82391708 4.79785639]. \t  -50.20079446939181 \t -13.871821018360485\n",
            "init   \t [3.78055209 0.31596228]. \t  -36.5114251593508 \t -13.871821018360485\n",
            "init   \t [-2.73686192 -5.00327624]. \t  -43.34985765011677 \t -13.871821018360485\n",
            "init   \t [-0.7119993  -0.99992207]. \t  -13.871821018360485 \t -13.871821018360485\n",
            "init   \t [ 0.23218863 -0.22126801]. \t  -17.190590355445654 \t -13.871821018360485\n",
            "1      \t [-5.12  5.12]. \t  -57.849427451571785 \t -13.871821018360485\n",
            "2      \t [ 5.12 -5.12]. \t  -57.849427451571785 \t -13.871821018360485\n",
            "3      \t [-5.12       -0.06204062]. \t  -29.678760380224247 \t -13.871821018360485\n",
            "4      \t [-0.66935179  4.1760657 ]. \t  -38.26060154792103 \t -13.871821018360485\n",
            "5      \t [ 1.18397136 -4.40964172]. \t  -45.247212657208294 \t -13.871821018360485\n",
            "6      \t [-2.62582945  1.70380514]. \t  -39.69397870336341 \t -13.871821018360485\n",
            "7      \t [1.6278489  2.34350657]. \t  -40.628261846143864 \t -13.871821018360485\n",
            "8      \t [-5.12       -3.12922213]. \t  -41.8357274032445 \t -13.871821018360485\n",
            "9      \t [ 5.12       -2.11129887]. \t  -35.72944060593002 \t -13.871821018360485\n",
            "10     \t [-2.59764719 -1.83819408]. \t  -33.04078450669511 \t -13.871821018360485\n",
            "11     \t [5.12       2.44928072]. \t  -54.420192116937514 \t -13.871821018360485\n",
            "12     \t [ 2.13339847 -1.8617234 ]. \t  -14.871840120629159 \t -13.871821018360485\n",
            "13     \t [-5.12        2.43413872]. \t  -54.00566501677543 \t -13.871821018360485\n",
            "14     \t [1.38497306 5.12      ]. \t  -48.3428552969697 \t -13.871821018360485\n",
            "15     \t [-2.63587441  5.12      ]. \t  -52.44435506010899 \t -13.871821018360485\n",
            "16     \t [-0.68467856 -3.04862627]. \t  -24.21603028278649 \t -13.871821018360485\n",
            "17     \t [-5.12 -5.12]. \t  -57.849427451571785 \t -13.871821018360485\n",
            "18     \t [ 3.23797887 -3.3792175 ]. \t  -48.40496810381904 \t -13.871821018360485\n",
            "19     \t [-0.47293211  1.44219893]. \t  -41.507064226972346 \t -13.871821018360485\n",
            "20     \t [ 1.67558958 -0.5615701 ]. \t  -36.890824989282024 \t -13.871821018360485\n"
          ]
        }
      ]
    },
    {
      "cell_type": "code",
      "metadata": {
        "colab": {
          "base_uri": "https://localhost:8080/"
        },
        "id": "85OIXcg7GCaJ",
        "outputId": "03e0c1a1-745d-4a41-ef3e-f6c9643cc753"
      },
      "source": [
        "### ESTIMATED GP EI GRADIENTS\n",
        "\n",
        "np.random.seed(run_num_9)\n",
        "surrogate_approx_9 = GaussianProcess(cov_func, optimize=opt)\n",
        "\n",
        "approx_9 = GPGO_multi(surrogate_approx_9, Acquisition_new(util_grad_approx), objfunc, param)\n",
        "approx_9.run(init_evals=n_init, max_iter=iters)\n"
      ],
      "execution_count": 21,
      "outputs": [
        {
          "output_type": "stream",
          "name": "stdout",
          "text": [
            "Evaluation \t Proposed point \t  Current eval. \t Best eval.\n",
            "init   \t [-5.01376866  0.01919582]. \t  -25.248289026162446 \t -24.454800313488693\n",
            "init   \t [-0.04328148 -3.74958562]. \t  -24.454800313488693 \t -24.454800313488693\n",
            "init   \t [-3.66478248 -2.88195916]. \t  -39.46509426509438 \t -24.454800313488693\n",
            "init   \t [-0.83447623 -2.57944404]. \t  -31.06766397812992 \t -24.454800313488693\n",
            "init   \t [-4.25922917 -1.58209393]. \t  -49.922543556206975 \t -24.454800313488693\n",
            "1      \t [3.58383911 5.12      ]. \t  -60.412937380611055 \t -24.454800313488693\n",
            "2      \t [ 5.12       -0.51448477]. \t  -49.14802234086253 \t -24.454800313488693\n",
            "3      \t [-2.38884698  5.12      ]. \t  -52.29005512509478 \t -24.454800313488693\n",
            "4      \t [ 4.69721053 -5.12      ]. \t  -64.24487679248725 \t -24.454800313488693\n",
            "5      \t [0.65459358 1.54683811]. \t  -38.03321265369023 \t -24.454800313488693\n",
            "6      \t [-5.12        3.22191318]. \t  -47.54983711485826 \t -24.454800313488693\n",
            "7      \t [ 2.30113865 -1.8922347 ]. \t  \u001b[92m-24.240052779004365\u001b[0m \t -24.240052779004365\n",
            "8      \t [-5.12 -5.12]. \t  -57.849427451571785 \t -24.240052779004365\n",
            "9      \t [-2.33792101  1.37446363]. \t  -39.6497441777286 \t -24.240052779004365\n",
            "10     \t [5.12       2.50029883]. \t  -55.176190327122754 \t -24.240052779004365\n",
            "11     \t [0.57032697 5.12      ]. \t  -48.28949079039039 \t -24.240052779004365\n",
            "12     \t [ 1.77958987 -5.12      ]. \t  -40.24315987017515 \t -24.240052779004365\n",
            "13     \t [-2.03866222 -5.12      ]. \t  -33.37446450886662 \t -24.240052779004365\n",
            "14     \t [2.85659513 0.79091508]. \t  \u001b[92m-20.035180453532355\u001b[0m \t -20.035180453532355\n",
            "15     \t [-0.44151372 -0.52947176]. \t  -39.63666835941176 \t -20.035180453532355\n",
            "16     \t [ 5.12       -2.77498641]. \t  -45.06176176852085 \t -20.035180453532355\n",
            "17     \t [-5.12  5.12]. \t  -57.849427451571785 \t -20.035180453532355\n",
            "18     \t [2.34617082 2.9711874 ]. \t  -30.177418540688258 \t -20.035180453532355\n",
            "19     \t [-0.94130883  3.17012392]. \t  \u001b[92m-16.797312481560216\u001b[0m \t -16.797312481560216\n",
            "20     \t [ 2.77642372 -3.32629917]. \t  -41.73264561789111 \t -16.797312481560216\n"
          ]
        }
      ]
    },
    {
      "cell_type": "code",
      "metadata": {
        "colab": {
          "base_uri": "https://localhost:8080/"
        },
        "id": "QQBR-qJPGCcp",
        "outputId": "5d906658-c611-4374-b17e-89540254dae4"
      },
      "source": [
        "### ESTIMATED GP EI GRADIENTS\n",
        "\n",
        "np.random.seed(run_num_10)\n",
        "surrogate_approx_10 = GaussianProcess(cov_func, optimize=opt)\n",
        "\n",
        "approx_10 = GPGO_multi(surrogate_approx_10, Acquisition_new(util_grad_approx), objfunc, param)\n",
        "approx_10.run(init_evals=n_init, max_iter=iters)\n"
      ],
      "execution_count": 22,
      "outputs": [
        {
          "output_type": "stream",
          "name": "stdout",
          "text": [
            "Evaluation \t Proposed point \t  Current eval. \t Best eval.\n",
            "init   \t [ 2.77832339 -4.90750004]. \t  -41.674330194390116 \t -13.839458310244165\n",
            "init   \t [1.36855793 2.54775176]. \t  -44.69639719065837 \t -13.839458310244165\n",
            "init   \t [-0.01528819 -2.81808235]. \t  -13.839458310244165 \t -13.839458310244165\n",
            "init   \t [-3.09183626  2.66783449]. \t  -33.23221510904937 \t -13.839458310244165\n",
            "init   \t [-3.38830503 -4.2154003 ]. \t  -54.73014366983691 \t -13.839458310244165\n",
            "1      \t [ 5.12       -0.56839694]. \t  -48.338485446448274 \t -13.839458310244165\n",
            "2      \t [5.12 5.12]. \t  -57.849427451571785 \t -13.839458310244165\n",
            "3      \t [-5.12       -0.60617906]. \t  -47.148094957294475 \t -13.839458310244165\n",
            "4      \t [-5.12  5.12]. \t  -57.849427451571785 \t -13.839458310244165\n",
            "5      \t [-0.83793139  5.12      ]. \t  -34.378765467100926 \t -13.839458310244165\n",
            "6      \t [-1.23134475 -0.10550171]. \t  \u001b[92m-12.475688699287637\u001b[0m \t -12.475688699287637\n",
            "7      \t [ 1.89652904 -0.79260334]. \t  -13.61998151530168 \t -12.475688699287637\n",
            "8      \t [-0.38448336 -5.12      ]. \t  -46.55214528724015 \t -12.475688699287637\n",
            "9      \t [ 5.12       -3.59873661]. \t  -60.01219259046638 \t -12.475688699287637\n",
            "10     \t [4.53170013 2.23137113]. \t  -54.149803565516 \t -12.475688699287637\n",
            "11     \t [2.14104485 5.12      ]. \t  -37.18526792633614 \t -12.475688699287637\n",
            "12     \t [-2.40673467 -1.64770678]. \t  -42.83269311315424 \t -12.475688699287637\n",
            "13     \t [-5.12        2.04146855]. \t  -33.42983494273088 \t -12.475688699287637\n",
            "14     \t [-0.94151055  1.58222886]. \t  -22.752349101351136 \t -12.475688699287637\n",
            "15     \t [ 2.3448899  -2.44582658]. \t  -46.521960094428735 \t -12.475688699287637\n",
            "16     \t [ 0.44736244 -0.29618869]. \t  -32.607465892120665 \t -12.475688699287637\n",
            "17     \t [-5.12 -5.12]. \t  -57.849427451571785 \t -12.475688699287637\n",
            "18     \t [2.74365325 0.35065477]. \t  -33.96035053415099 \t -12.475688699287637\n",
            "19     \t [-2.80850557  5.12      ]. \t  -43.21863680828221 \t -12.475688699287637\n",
            "20     \t [-2.84970218  0.56685699]. \t  -31.71001028550766 \t -12.475688699287637\n"
          ]
        }
      ]
    },
    {
      "cell_type": "code",
      "metadata": {
        "colab": {
          "base_uri": "https://localhost:8080/"
        },
        "id": "JS8ejeQ2GCfi",
        "outputId": "386c7e06-7dab-4aa7-83f1-366b1888724b"
      },
      "source": [
        "### ESTIMATED GP EI GRADIENTS\n",
        "\n",
        "np.random.seed(run_num_11)\n",
        "surrogate_approx_11 = GaussianProcess(cov_func, optimize=opt)\n",
        "\n",
        "approx_11 = GPGO_multi(surrogate_approx_11, Acquisition_new(util_grad_approx), objfunc, param)\n",
        "approx_11.run(init_evals=n_init, max_iter=iters)\n"
      ],
      "execution_count": 23,
      "outputs": [
        {
          "output_type": "stream",
          "name": "stdout",
          "text": [
            "Evaluation \t Proposed point \t  Current eval. \t Best eval.\n",
            "init   \t [-3.27403839 -4.92057353]. \t  -47.655641290890955 \t -10.679755252484755\n",
            "init   \t [-0.37664229  2.30332343]. \t  -35.87889240695259 \t -10.679755252484755\n",
            "init   \t [-0.81711509 -0.14922651]. \t  -10.679755252484755 \t -10.679755252484755\n",
            "init   \t [-4.98912446 -0.12931474]. \t  -28.05462905574235 \t -10.679755252484755\n",
            "init   \t [4.52410012 3.59214172]. \t  -71.62694632141611 \t -10.679755252484755\n",
            "1      \t [ 5.12       -4.33857962]. \t  -63.030690231802616 \t -10.679755252484755\n",
            "2      \t [-5.12  5.12]. \t  -57.849427451571785 \t -10.679755252484755\n",
            "3      \t [ 0.92374253 -5.12      ]. \t  -30.904095757722793 \t -10.679755252484755\n",
            "4      \t [ 3.11975237 -0.55671113]. \t  -32.1142995948097 \t -10.679755252484755\n",
            "5      \t [1.20983666 5.12      ]. \t  -37.89158023754207 \t -10.679755252484755\n",
            "6      \t [-1.93527609  5.12      ]. \t  -33.48558542526287 \t -10.679755252484755\n",
            "7      \t [-0.92792571 -2.63061686]. \t  -25.606345959015528 \t -10.679755252484755\n",
            "8      \t [-5.12      -2.8203905]. \t  -42.599335675310144 \t -10.679755252484755\n",
            "9      \t [-3.48563601  2.26811025]. \t  -48.38873018358753 \t -10.679755252484755\n",
            "10     \t [5.12       0.67890477]. \t  -43.705583028242955 \t -10.679755252484755\n",
            "11     \t [ 2.18861531 -2.90103668]. \t  -21.315768409106916 \t -10.679755252484755\n",
            "12     \t [2.11324269 1.88152459]. \t  -13.077333346047299 \t -10.679755252484755\n",
            "13     \t [-2.70174059 -0.91529708]. \t  -22.506239308396864 \t -10.679755252484755\n",
            "14     \t [ 0.74693768 -0.51303856]. \t  -30.979985009015635 \t -10.679755252484755\n",
            "15     \t [ 5.12       -1.82445785]. \t  -37.74383290866253 \t -10.679755252484755\n",
            "16     \t [ 2.92892738 -5.12      ]. \t  -38.483959303117516 \t -10.679755252484755\n",
            "17     \t [-1.03073452 -5.12      ]. \t  -30.173007381122247 \t -10.679755252484755\n",
            "18     \t [-1.6888321   0.54920807]. \t  -36.4289807749342 \t -10.679755252484755\n",
            "19     \t [-5.12 -5.12]. \t  -57.849427451571785 \t -10.679755252484755\n",
            "20     \t [1.92833162 3.05429372]. \t  -14.620285116619412 \t -10.679755252484755\n"
          ]
        }
      ]
    },
    {
      "cell_type": "code",
      "metadata": {
        "colab": {
          "base_uri": "https://localhost:8080/"
        },
        "id": "DXwjUVZ4GCii",
        "outputId": "180e1fc8-a486-41ae-90a9-b493e989bc1a"
      },
      "source": [
        "### ESTIMATED GP EI GRADIENTS\n",
        "\n",
        "np.random.seed(run_num_12)\n",
        "surrogate_approx_12 = GaussianProcess(cov_func, optimize=opt)\n",
        "\n",
        "approx_12 = GPGO_multi(surrogate_approx_12, Acquisition_new(util_grad_approx), objfunc, param)\n",
        "approx_12.run(init_evals=n_init, max_iter=iters)\n"
      ],
      "execution_count": 24,
      "outputs": [
        {
          "output_type": "stream",
          "name": "stdout",
          "text": [
            "Evaluation \t Proposed point \t  Current eval. \t Best eval.\n",
            "init   \t [-3.54137249  2.45810889]. \t  -57.903242869085595 \t -40.51116653209555\n",
            "init   \t [-2.42365424  0.34549139]. \t  -40.51116653209555 \t -40.51116653209555\n",
            "init   \t [-4.97075238  4.28796936]. \t  -55.62655915398208 \t -40.51116653209555\n",
            "init   \t [ 4.10332011 -4.77776458]. \t  -49.962803461970296 \t -40.51116653209555\n",
            "init   \t [ 4.6791612  -3.71497655]. \t  -62.183891474990624 \t -40.51116653209555\n",
            "1      \t [5.12 5.12]. \t  -57.849427451571785 \t -40.51116653209555\n",
            "2      \t [-5.12 -5.12]. \t  -57.849427451571785 \t -40.51116653209555\n",
            "3      \t [2.51295487 0.83223602]. \t  \u001b[92m-32.03427674075663\u001b[0m \t -32.03427674075663\n",
            "4      \t [0.33251366 5.12      ]. \t  -43.990611193811134 \t -32.03427674075663\n",
            "5      \t [-0.48603629 -4.11887754]. \t  -39.82513640353719 \t -32.03427674075663\n",
            "6      \t [-5.12      -1.5444598]. \t  -50.9224208227225 \t -32.03427674075663\n",
            "7      \t [ 5.12      -0.3788015]. \t  -46.306135074989264 \t -32.03427674075663\n",
            "8      \t [ 1.63843441 -1.98165847]. \t  \u001b[92m-23.127493879350233\u001b[0m \t -23.127493879350233\n",
            "9      \t [-0.04371908  2.14293331]. \t  \u001b[92m-8.737839330498934\u001b[0m \t -8.737839330498934\n",
            "10     \t [2.70824859 3.49158267]. \t  -52.10511074143976 \t -8.737839330498934\n",
            "11     \t [-2.63777473 -2.72229837]. \t  -42.581878565840306 \t -8.737839330498934\n",
            "12     \t [-2.28801959  5.12      ]. \t  -46.52593348744215 \t -8.737839330498934\n",
            "13     \t [5.12       2.25431797]. \t  -44.27793628122068 \t -8.737839330498934\n",
            "14     \t [ 0.00306574 -0.32778015]. \t  -14.804151782148665 \t -8.737839330498934\n",
            "15     \t [ 1.66605082 -5.12      ]. \t  -46.733911967471414 \t -8.737839330498934\n",
            "16     \t [-2.54737772 -5.12      ]. \t  -54.974033433832744 \t -8.737839330498934\n",
            "17     \t [-5.12        0.84430446]. \t  -34.052928478422444 \t -8.737839330498934\n",
            "18     \t [-0.8276746   2.72151357]. \t  -25.18300491404363 \t -8.737839330498934\n",
            "19     \t [0.47910289 1.37080803]. \t  -38.90497127319618 \t -8.737839330498934\n",
            "20     \t [-0.5242858  -1.61602084]. \t  -40.22874203595112 \t -8.737839330498934\n"
          ]
        }
      ]
    },
    {
      "cell_type": "code",
      "metadata": {
        "colab": {
          "base_uri": "https://localhost:8080/"
        },
        "id": "CphOPndPGClX",
        "outputId": "41a8a298-ef3d-42af-a439-163ba1c78052"
      },
      "source": [
        "### ESTIMATED GP EI GRADIENTS\n",
        "\n",
        "np.random.seed(run_num_13)\n",
        "surrogate_approx_13 = GaussianProcess(cov_func, optimize=opt)\n",
        "\n",
        "approx_13 = GPGO_multi(surrogate_approx_13, Acquisition_new(util_grad_approx), objfunc, param)\n",
        "approx_13.run(init_evals=n_init, max_iter=iters)\n"
      ],
      "execution_count": 25,
      "outputs": [
        {
          "output_type": "stream",
          "name": "stdout",
          "text": [
            "Evaluation \t Proposed point \t  Current eval. \t Best eval.\n",
            "init   \t [ 2.84367268 -2.68757791]. \t  -33.58019830007169 \t -17.435826639425656\n",
            "init   \t [3.32061217 4.76927179]. \t  -56.857057997503354 \t -17.435826639425656\n",
            "init   \t [ 4.83943541 -0.47667971]. \t  -48.211919361679726 \t -17.435826639425656\n",
            "init   \t [1.11659482 2.82139151]. \t  -17.435826639425656 \t -17.435826639425656\n",
            "init   \t [1.45012065 2.27346667]. \t  -38.25352329493884 \t -17.435826639425656\n",
            "1      \t [-5.12      -2.7263396]. \t  -47.838798104556766 \t -17.435826639425656\n",
            "2      \t [-5.12  5.12]. \t  -57.849427451571785 \t -17.435826639425656\n",
            "3      \t [-1.07703786 -5.12      ]. \t  -31.2335179062638 \t -17.435826639425656\n",
            "4      \t [-2.85644989  1.12650973]. \t  \u001b[92m-16.22385717899008\u001b[0m \t -16.22385717899008\n",
            "5      \t [-1.15504483  5.12      ]. \t  -34.640338271301275 \t -16.22385717899008\n",
            "6      \t [-0.62077901 -1.40888234]. \t  -38.031851965479035 \t -16.22385717899008\n",
            "7      \t [ 5.12 -5.12]. \t  -57.849427451571785 \t -16.22385717899008\n",
            "8      \t [5.12       2.46277269]. \t  -54.717647755861506 \t -16.22385717899008\n",
            "9      \t [-5.12        1.74020619]. \t  -42.568006239560006 \t -16.22385717899008\n",
            "10     \t [ 1.7384282 -5.12     ]. \t  -42.6732836633134 \t -16.22385717899008\n",
            "11     \t [-3.90840139 -5.12      ]. \t  -45.8112812515873 \t -16.22385717899008\n",
            "12     \t [-1.25632966  2.4336578 ]. \t  -37.04238171125833 \t -16.22385717899008\n",
            "13     \t [ 1.88152982 -0.24381199]. \t  \u001b[92m-15.855744450921682\u001b[0m \t -15.855744450921682\n",
            "14     \t [-3.23716008 -0.94587909]. \t  -21.1406375535428 \t -15.855744450921682\n",
            "15     \t [0.95685485 5.12      ]. \t  -30.20548624476801 \t -15.855744450921682\n",
            "16     \t [-2.30320143 -3.07811026]. \t  -29.240689274244403 \t -15.855744450921682\n",
            "17     \t [ 5.12       -2.74097514]. \t  -47.00440344899224 \t -15.855744450921682\n",
            "18     \t [-3.20420009  3.62548821]. \t  -47.62226747072468 \t -15.855744450921682\n",
            "19     \t [-5.12      -0.4236185]. \t  -47.974489036571484 \t -15.855744450921682\n",
            "20     \t [ 0.51105    -3.18085579]. \t  -36.14584489828134 \t -15.855744450921682\n"
          ]
        }
      ]
    },
    {
      "cell_type": "code",
      "metadata": {
        "colab": {
          "base_uri": "https://localhost:8080/"
        },
        "id": "ojHTeARNGCoi",
        "outputId": "35109d1f-3df7-4c67-c934-739a0255cd90"
      },
      "source": [
        "### ESTIMATED GP EI GRADIENTS\n",
        "\n",
        "np.random.seed(run_num_14)\n",
        "surrogate_approx_14 = GaussianProcess(cov_func, optimize=opt)\n",
        "\n",
        "approx_14 = GPGO_multi(surrogate_approx_14, Acquisition_new(util_grad_approx), objfunc, param)\n",
        "approx_14.run(init_evals=n_init, max_iter=iters)\n"
      ],
      "execution_count": 26,
      "outputs": [
        {
          "output_type": "stream",
          "name": "stdout",
          "text": [
            "Evaluation \t Proposed point \t  Current eval. \t Best eval.\n",
            "init   \t [0.14277984 2.79721013]. \t  -18.683085263052178 \t -10.423838604848608\n",
            "init   \t [ 3.7931795  -5.03759925]. \t  -47.36348784446708 \t -10.423838604848608\n",
            "init   \t [-1.94830412  4.68586229]. \t  -40.19779334078636 \t -10.423838604848608\n",
            "init   \t [ 0.13431513 -1.86076749]. \t  -10.423838604848608 \t -10.423838604848608\n",
            "init   \t [ 0.40140736 -2.85434939]. \t  -30.353548735049138 \t -10.423838604848608\n",
            "1      \t [-5.12 -5.12]. \t  -57.849427451571785 \t -10.423838604848608\n",
            "2      \t [5.12 5.12]. \t  -57.849427451571785 \t -10.423838604848608\n",
            "3      \t [-5.12        0.35451018]. \t  -45.155114493594425 \t -10.423838604848608\n",
            "4      \t [ 5.12       -0.06383435]. \t  -29.72240169001949 \t -10.423838604848608\n",
            "5      \t [-5.12  5.12]. \t  -57.849427451571785 \t -10.423838604848608\n",
            "6      \t [-1.64802877  0.04370451]. \t  -19.070181628703956 \t -10.423838604848608\n",
            "7      \t [-1.6858568 -5.12     ]. \t  -45.68884201726797 \t -10.423838604848608\n",
            "8      \t [1.91911252 0.23790377]. \t  -14.244227081284745 \t -10.423838604848608\n",
            "9      \t [1.75635729 5.12      ]. \t  -41.61017030138768 \t -10.423838604848608\n",
            "10     \t [-3.36865929 -2.32589832]. \t  -48.13161314003033 \t -10.423838604848608\n",
            "11     \t [3.48302797 2.41600128]. \t  -56.551015876071894 \t -10.423838604848608\n",
            "12     \t [ 3.28695135 -2.13869108]. \t  -31.24157622734375 \t -10.423838604848608\n",
            "13     \t [-3.14513885  2.28071157]. \t  -30.889080596390265 \t -10.423838604848608\n",
            "14     \t [ 1.13113729 -5.12      ]. \t  -33.41097925868414 \t -10.423838604848608\n",
            "15     \t [ 5.12       -2.95340884]. \t  -38.072772384678466 \t -10.423838604848608\n",
            "16     \t [0.27427916 0.00506023]. \t  -11.599903317913057 \t -10.423838604848608\n",
            "17     \t [-0.81845305  1.58408047]. \t  -27.646216841663318 \t -10.423838604848608\n",
            "18     \t [-5.12        2.73002811]. \t  -47.629347085301326 \t -10.423838604848608\n",
            "19     \t [-1.07685323 -1.54584991]. \t  -24.280567388306984 \t -10.423838604848608\n",
            "20     \t [ 1.28741134 -1.02492423]. \t  -15.159306869836678 \t -10.423838604848608\n"
          ]
        }
      ]
    },
    {
      "cell_type": "code",
      "metadata": {
        "colab": {
          "base_uri": "https://localhost:8080/"
        },
        "id": "vCJzn4vWGCs3",
        "outputId": "4c903072-71ff-426f-ddd9-6f957b90151c"
      },
      "source": [
        "### ESTIMATED GP EI GRADIENTS\n",
        "\n",
        "np.random.seed(run_num_15)\n",
        "surrogate_approx_15 = GaussianProcess(cov_func, optimize=opt)\n",
        "\n",
        "approx_15 = GPGO_multi(surrogate_approx_15, Acquisition_new(util_grad_approx), objfunc, param)\n",
        "approx_15.run(init_evals=n_init, max_iter=iters)\n"
      ],
      "execution_count": 27,
      "outputs": [
        {
          "output_type": "stream",
          "name": "stdout",
          "text": [
            "Evaluation \t Proposed point \t  Current eval. \t Best eval.\n",
            "init   \t [ 3.57189322 -3.28810573]. \t  -54.938487770767075 \t -7.990765314336182\n",
            "init   \t [-4.56332069 -1.41784631]. \t  -60.750198753157726 \t -7.990765314336182\n",
            "init   \t [-2.29989449  0.3072023 ]. \t  -31.984997246800887 \t -7.990765314336182\n",
            "init   \t [-1.9873903  -2.00218256]. \t  -7.990765314336182 \t -7.990765314336182\n",
            "init   \t [-3.97576933 -2.5610341 ]. \t  -41.754957769694336 \t -7.990765314336182\n",
            "1      \t [4.71600285 5.12      ]. \t  -63.28529285768795 \t -7.990765314336182\n",
            "2      \t [-5.12  5.12]. \t  -57.849427451571785 \t -7.990765314336182\n",
            "3      \t [-0.20716394  5.12      ]. \t  -36.30853934764367 \t -7.990765314336182\n",
            "4      \t [2.26850975 1.12541677]. \t  -20.520553943600397 \t -7.990765314336182\n",
            "5      \t [-0.3320169 -5.12     ]. \t  -43.963146219667834 \t -7.990765314336182\n",
            "6      \t [5.12       0.04603709]. \t  -29.342279639725945 \t -7.990765314336182\n",
            "7      \t [ 0.58934547 -1.57455632]. \t  -40.214486077232486 \t -7.990765314336182\n",
            "8      \t [-5.12 -5.12]. \t  -57.849427451571785 \t -7.990765314336182\n",
            "9      \t [-5.12        1.87030497]. \t  -35.56332750584552 \t -7.990765314336182\n",
            "10     \t [-2.34489177  3.25074543]. \t  -41.727907786562795 \t -7.990765314336182\n",
            "11     \t [2.09741823 3.61924931]. \t  -36.63557179502663 \t -7.990765314336182\n",
            "12     \t [ 5.12 -5.12]. \t  -57.849427451571785 \t -7.990765314336182\n",
            "13     \t [5.12       2.42124523]. \t  -53.58763300148074 \t -7.990765314336182\n",
            "14     \t [-0.03021191  1.63433149]. \t  -19.496150810219234 \t -7.990765314336182\n",
            "15     \t [-2.63569144 -5.12      ]. \t  -52.452051227679064 \t -7.990765314336182\n",
            "16     \t [ 2.0313121 -5.12     ]. \t  -33.24385173333941 \t -7.990765314336182\n",
            "17     \t [ 3.00153812 -0.79639783]. \t  -16.769804542337333 \t -7.990765314336182\n",
            "18     \t [-1.43130075 -2.71600336]. \t  -40.62792687831694 \t -7.990765314336182\n",
            "19     \t [ 5.12       -1.87545316]. \t  -35.35086590716772 \t -7.990765314336182\n",
            "20     \t [-2.63271742  5.12      ]. \t  -52.57592953697247 \t -7.990765314336182\n"
          ]
        }
      ]
    },
    {
      "cell_type": "code",
      "metadata": {
        "colab": {
          "base_uri": "https://localhost:8080/"
        },
        "id": "bGGkhp-kGCw6",
        "outputId": "7aa7923f-09c9-41fc-b773-1e4f8a590641"
      },
      "source": [
        "### ESTIMATED GP EI GRADIENTS\n",
        "\n",
        "np.random.seed(run_num_16)\n",
        "surrogate_approx_16 = GaussianProcess(cov_func, optimize=opt)\n",
        "\n",
        "approx_16 = GPGO_multi(surrogate_approx_16, Acquisition_new(util_grad_approx), objfunc, param)\n",
        "approx_16.run(init_evals=n_init, max_iter=iters)\n"
      ],
      "execution_count": 28,
      "outputs": [
        {
          "output_type": "stream",
          "name": "stdout",
          "text": [
            "Evaluation \t Proposed point \t  Current eval. \t Best eval.\n",
            "init   \t [-2.83349935  0.23719262]. \t  -22.27210456874814 \t -22.27210456874814\n",
            "init   \t [ 0.51918292 -4.65303603]. \t  -57.57021076017139 \t -22.27210456874814\n",
            "init   \t [-1.42613673 -2.83565116]. \t  -33.89145899403749 \t -22.27210456874814\n",
            "init   \t [ 1.9325559  -3.44339021]. \t  -35.85029586225333 \t -22.27210456874814\n",
            "init   \t [-4.39987336  4.51595121]. \t  -77.78800881964571 \t -22.27210456874814\n",
            "1      \t [5.12 5.12]. \t  -57.849427451571785 \t -22.27210456874814\n",
            "2      \t [5.12       0.13352717]. \t  -32.26029320716705 \t -22.27210456874814\n",
            "3      \t [0.53982093 3.56715505]. \t  -51.82755583913017 \t -22.27210456874814\n",
            "4      \t [-5.12 -5.12]. \t  -57.849427451571785 \t -22.27210456874814\n",
            "5      \t [ 5.12 -5.12]. \t  -57.849427451571785 \t -22.27210456874814\n",
            "6      \t [1.26304623 0.01625575]. \t  \u001b[92m-12.466466547233672\u001b[0m \t -12.466466547233672\n",
            "7      \t [-5.12       -1.65401441]. \t  -47.332421158241196 \t -12.466466547233672\n",
            "8      \t [3.37863919 2.40327772]. \t  -52.63133417594854 \t -12.466466547233672\n",
            "9      \t [-5.12        1.50309054]. \t  -51.18210958404748 \t -12.466466547233672\n",
            "10     \t [ 5.12       -2.35335961]. \t  -50.51032117858995 \t -12.466466547233672\n",
            "11     \t [-1.58308125  5.12      ]. \t  -50.0990224742704 \t -12.466466547233672\n",
            "12     \t [-0.67958396  1.00982754]. \t  -15.7820750400149 \t -12.466466547233672\n",
            "13     \t [-2.37082342 -5.12      ]. \t  -51.42861154131907 \t -12.466466547233672\n",
            "14     \t [2.42533923 5.12      ]. \t  -53.72670576032277 \t -12.466466547233672\n",
            "15     \t [ 2.69195449 -0.96364615]. \t  -22.001764875282134 \t -12.466466547233672\n",
            "16     \t [-2.26893397  2.47977208]. \t  -42.403525402614704 \t -12.466466547233672\n",
            "17     \t [-0.07386991 -1.0345628 ]. \t  \u001b[92m-2.3685772934161946\u001b[0m \t -2.3685772934161946\n",
            "18     \t [-0.07410756 -1.0346927 ]. \t  -2.3773374929186595 \t -2.3685772934161946\n",
            "19     \t [-0.07398928 -1.03463221]. \t  -2.3730394518731757 \t -2.3685772934161946\n",
            "20     \t [-0.07388427 -1.03457951]. \t  -2.3692445255904584 \t -2.3685772934161946\n"
          ]
        }
      ]
    },
    {
      "cell_type": "code",
      "metadata": {
        "id": "Yrs2mp7hGC1Z",
        "colab": {
          "base_uri": "https://localhost:8080/"
        },
        "outputId": "5c8df6fa-e644-41be-88de-c519b9cb1306"
      },
      "source": [
        "### ESTIMATED GP EI GRADIENTS\n",
        "\n",
        "np.random.seed(run_num_17)\n",
        "surrogate_approx_17 = GaussianProcess(cov_func, optimize=opt)\n",
        "\n",
        "approx_17 = GPGO_multi(surrogate_approx_17, Acquisition_new(util_grad_approx), objfunc, param)\n",
        "approx_17.run(init_evals=n_init, max_iter=iters)\n"
      ],
      "execution_count": 29,
      "outputs": [
        {
          "output_type": "stream",
          "name": "stdout",
          "text": [
            "Evaluation \t Proposed point \t  Current eval. \t Best eval.\n",
            "init   \t [-2.10263037  0.31320838]. \t  -20.395145364684023 \t -20.395145364684023\n",
            "init   \t [-3.15882714 -4.42470033]. \t  -53.03732051200137 \t -20.395145364684023\n",
            "init   \t [2.93873111 1.60085526]. \t  -29.989224812583537 \t -20.395145364684023\n",
            "init   \t [1.40821398 0.77417363]. \t  -29.451989415882437 \t -20.395145364684023\n",
            "init   \t [-4.71999574 -1.45598869]. \t  -55.89242173757483 \t -20.395145364684023\n",
            "1      \t [ 5.12 -5.12]. \t  -57.849427451571785 \t -20.395145364684023\n",
            "2      \t [-5.12        5.05061004]. \t  -54.9347247708062 \t -20.395145364684023\n",
            "3      \t [-0.25143836  5.12      ]. \t  -39.07830867276819 \t -20.395145364684023\n",
            "4      \t [5.12 5.12]. \t  -57.849427451571785 \t -20.395145364684023\n",
            "5      \t [ 1.07732509 -3.51438385]. \t  -34.62791804364457 \t -20.395145364684023\n",
            "6      \t [ 5.12      -1.2538092]. \t  -40.736067508126766 \t -20.395145364684023\n",
            "7      \t [-5.12        1.80647569]. \t  -38.71359688746639 \t -20.395145364684023\n",
            "8      \t [-2.31176068  3.102558  ]. \t  -30.759322131961454 \t -20.395145364684023\n",
            "9      \t [-1.18630136 -1.98991618]. \t  \u001b[92m-11.49083690517168\u001b[0m \t -11.49083690517168\n",
            "10     \t [2.32525384 4.3642821 ]. \t  -55.58708966404981 \t -11.49083690517168\n",
            "11     \t [5.12       2.01253442]. \t  -33.00600505344099 \t -11.49083690517168\n",
            "12     \t [-0.58827701 -5.12      ]. \t  -47.771574798116305 \t -11.49083690517168\n",
            "13     \t [ 2.51489061 -1.5278529 ]. \t  -48.46253017039536 \t -11.49083690517168\n",
            "14     \t [ 2.54721024 -5.12      ]. \t  -54.97626138275888 \t -11.49083690517168\n",
            "15     \t [-0.09034149  2.36588631]. \t  -23.828605549385784 \t -11.49083690517168\n",
            "16     \t [-5.12 -5.12]. \t  -57.849427451571785 \t -11.49083690517168\n",
            "17     \t [-0.16716377 -0.82244119]. \t  \u001b[92m-11.33535416607814\u001b[0m \t -11.33535416607814\n",
            "18     \t [-2.64943588  5.12      ]. \t  -51.85071522550638 \t -11.33535416607814\n",
            "19     \t [-2.25499016 -2.03623391]. \t  -19.802756453094066 \t -11.33535416607814\n",
            "20     \t [-0.15644446 -1.74829417]. \t  -17.64264639886207 \t -11.33535416607814\n"
          ]
        }
      ]
    },
    {
      "cell_type": "code",
      "metadata": {
        "id": "f0HIEP3PIUEa",
        "colab": {
          "base_uri": "https://localhost:8080/"
        },
        "outputId": "48b7c502-b903-4976-f11c-8644240e9019"
      },
      "source": [
        "### ESTIMATED GP EI GRADIENTS\n",
        "\n",
        "np.random.seed(run_num_18)\n",
        "surrogate_approx_18 = GaussianProcess(cov_func, optimize=opt)\n",
        "\n",
        "approx_18 = GPGO_multi(surrogate_approx_18, Acquisition_new(util_grad_approx), objfunc, param)\n",
        "approx_18.run(init_evals=n_init, max_iter=iters)\n"
      ],
      "execution_count": 30,
      "outputs": [
        {
          "output_type": "stream",
          "name": "stdout",
          "text": [
            "Evaluation \t Proposed point \t  Current eval. \t Best eval.\n",
            "init   \t [1.53983224 0.05584255]. \t  -22.67190580753611 \t -22.67190580753611\n",
            "init   \t [ 3.87687906 -3.25795609]. \t  -38.990099416711985 \t -22.67190580753611\n",
            "init   \t [3.60686662 2.56139557]. \t  -56.66448698782129 \t -22.67190580753611\n",
            "init   \t [1.70088108 4.99604939]. \t  -40.894059318256296 \t -22.67190580753611\n",
            "init   \t [-2.48864335 -4.83014733]. \t  -54.6725749848372 \t -22.67190580753611\n",
            "1      \t [-5.12        2.22636855]. \t  -42.4020726587362 \t -22.67190580753611\n",
            "2      \t [-2.37391624  5.12      ]. \t  -51.582946344260066 \t -22.67190580753611\n",
            "3      \t [-5.12       -1.79644098]. \t  -39.27517382800308 \t -22.67190580753611\n",
            "4      \t [-1.90785503  0.24187461]. \t  \u001b[92m-14.817802784539362\u001b[0m \t -14.817802784539362\n",
            "5      \t [ 1.04802891 -5.12      ]. \t  -30.474972541183043 \t -14.817802784539362\n",
            "6      \t [5.12 5.12]. \t  -57.849427451571785 \t -14.817802784539362\n",
            "7      \t [ 5.12       -0.35046899]. \t  -44.94920900749624 \t -14.817802784539362\n",
            "8      \t [-0.36682422 -2.2580465 ]. \t  -32.43735496965738 \t -14.817802784539362\n",
            "9      \t [-0.3272186   2.52247776]. \t  -41.03406429638169 \t -14.817802784539362\n",
            "10     \t [-5.12 -5.12]. \t  -57.849427451571785 \t -14.817802784539362\n",
            "11     \t [-5.12  5.12]. \t  -57.849427451571785 \t -14.817802784539362\n",
            "12     \t [-2.72635535 -1.82586632]. \t  -27.65864235393416 \t -14.817802784539362\n",
            "13     \t [ 5.12 -5.12]. \t  -57.849427451571785 \t -14.817802784539362\n",
            "14     \t [-2.76220555  2.17501016]. \t  -27.05496649876924 \t -14.817802784539362\n",
            "15     \t [ 1.95260973 -2.10530652]. \t  \u001b[92m-10.79531368457419\u001b[0m \t -10.79531368457419\n",
            "16     \t [-0.40046128  0.04369221]. \t  -18.643912721535067 \t -10.79531368457419\n",
            "17     \t [-3.98132154  0.1828432 ]. \t  -21.85766020276699 \t -10.79531368457419\n",
            "18     \t [ 2.9360576  -1.03446352]. \t  \u001b[92m-10.720349409934373\u001b[0m \t -10.720349409934373\n",
            "19     \t [-0.25818431  5.12      ]. \t  -39.505381862443485 \t -10.720349409934373\n",
            "20     \t [ 1.6111809  -3.13491503]. \t  -33.46409921041257 \t -10.720349409934373\n"
          ]
        }
      ]
    },
    {
      "cell_type": "code",
      "metadata": {
        "id": "S3mxRQDLIUPC",
        "colab": {
          "base_uri": "https://localhost:8080/"
        },
        "outputId": "e91e338a-dda2-463a-eaed-9b42a08b58b1"
      },
      "source": [
        "### ESTIMATED GP EI GRADIENTS\n",
        "\n",
        "np.random.seed(run_num_19)\n",
        "surrogate_approx_19 = GaussianProcess(cov_func, optimize=opt)\n",
        "\n",
        "approx_19 = GPGO_multi(surrogate_approx_19, Acquisition_new(util_grad_approx), objfunc, param)\n",
        "approx_19.run(init_evals=n_init, max_iter=iters)\n"
      ],
      "execution_count": 31,
      "outputs": [
        {
          "output_type": "stream",
          "name": "stdout",
          "text": [
            "Evaluation \t Proposed point \t  Current eval. \t Best eval.\n",
            "init   \t [-4.12125592  2.6751971 ]. \t  -41.43485596167127 \t -25.867003842388073\n",
            "init   \t [-2.59135515 -3.70553152]. \t  -51.60126035043229 \t -25.867003842388073\n",
            "init   \t [-1.72598719 -4.27008445]. \t  -43.97430127029199 \t -25.867003842388073\n",
            "init   \t [1.76104531 3.13952049]. \t  -25.867003842388073 \t -25.867003842388073\n",
            "init   \t [4.9432772  1.38916592]. \t  -44.66580306903559 \t -25.867003842388073\n",
            "1      \t [ 5.12 -5.12]. \t  -57.849427451571785 \t -25.867003842388073\n",
            "2      \t [ 1.77638486 -1.68662986]. \t  -28.227324808808422 \t -25.867003842388073\n",
            "3      \t [5.12 5.12]. \t  -57.849427451571785 \t -25.867003842388073\n",
            "4      \t [-1.28670402  5.12      ]. \t  -42.866114606104645 \t -25.867003842388073\n",
            "5      \t [-5.12       -0.97841042]. \t  -29.973866123759777 \t -25.867003842388073\n",
            "6      \t [-1.20044429  0.35640339]. \t  \u001b[92m-24.702986458186082\u001b[0m \t -24.702986458186082\n",
            "7      \t [ 1.54014748 -5.12      ]. \t  -50.98029090926758 \t -24.702986458186082\n",
            "8      \t [ 5.12       -1.82150883]. \t  -37.899227974141894 \t -24.702986458186082\n",
            "9      \t [-5.12 -5.12]. \t  -57.849427451571785 \t -24.702986458186082\n",
            "10     \t [-5.12  5.12]. \t  -57.849427451571785 \t -24.702986458186082\n",
            "11     \t [1.81521734 0.74301193]. \t  \u001b[92m-20.30200511547188\u001b[0m \t -20.30200511547188\n",
            "12     \t [2.02909127 5.12      ]. \t  -33.20851381827101 \t -20.30200511547188\n",
            "13     \t [-0.86402899  2.59118194]. \t  -29.296793015653236 \t -20.30200511547188\n",
            "14     \t [-0.58560807 -1.85629732]. \t  -26.18341139762797 \t -20.30200511547188\n",
            "15     \t [-2.98563408 -0.74670314]. \t  \u001b[92m-19.71941924028426\u001b[0m \t -19.71941924028426\n",
            "16     \t [ 3.23958902 -3.27964656]. \t  -42.44933794303734 \t -19.71941924028426\n",
            "17     \t [-5.12       -2.81504093]. \t  -42.87533008220051 \t -19.71941924028426\n",
            "18     \t [-5.12        0.90343071]. \t  -31.525918403841878 \t -19.71941924028426\n",
            "19     \t [ 3.38332425 -0.29224006]. \t  -41.58632731315198 \t -19.71941924028426\n",
            "20     \t [3.66558763 3.14366958]. \t  -42.182883505332086 \t -19.71941924028426\n"
          ]
        }
      ]
    },
    {
      "cell_type": "code",
      "metadata": {
        "id": "Aawd59dRIUYn",
        "colab": {
          "base_uri": "https://localhost:8080/"
        },
        "outputId": "d13a14fe-9ee4-4e40-a746-bab11a85c33a"
      },
      "source": [
        "### ESTIMATED GP EI GRADIENTS\n",
        "\n",
        "np.random.seed(run_num_20)\n",
        "surrogate_approx_20 = GaussianProcess(cov_func, optimize=opt)\n",
        "\n",
        "approx_20 = GPGO_multi(surrogate_approx_20, Acquisition_new(util_grad_approx), objfunc, param)\n",
        "approx_20.run(init_evals=n_init, max_iter=iters)\n"
      ],
      "execution_count": 32,
      "outputs": [
        {
          "output_type": "stream",
          "name": "stdout",
          "text": [
            "Evaluation \t Proposed point \t  Current eval. \t Best eval.\n",
            "init   \t [0.9024594  4.07258857]. \t  -20.24255447774017 \t -17.388691338534382\n",
            "init   \t [4.00927467 3.23417577]. \t  -35.55852254546393 \t -17.388691338534382\n",
            "init   \t [-4.75249064  1.96359764]. \t  -36.54582989269194 \t -17.388691338534382\n",
            "init   \t [-1.24230715  0.18955208]. \t  -17.388691338534382 \t -17.388691338534382\n",
            "init   \t [ 1.61742301 -3.13497377]. \t  -33.22932870179905 \t -17.388691338534382\n",
            "1      \t [-5.12 -5.12]. \t  -57.849427451571785 \t -17.388691338534382\n",
            "2      \t [ 5.12      -0.9264602]. \t  -30.831700356502196 \t -17.388691338534382\n",
            "3      \t [ 5.12 -5.12]. \t  -57.849427451571785 \t -17.388691338534382\n",
            "4      \t [-2.70369427  5.12      ]. \t  -49.10327650362562 \t -17.388691338534382\n",
            "5      \t [-1.34011945 -5.12      ]. \t  -46.085237404752505 \t -17.388691338534382\n",
            "6      \t [-5.12       -1.49922754]. \t  -51.172279147780884 \t -17.388691338534382\n",
            "7      \t [1.9118842 0.4660965]. \t  -25.140390681980087 \t -17.388691338534382\n",
            "8      \t [-2.03090562 -2.26146423]. \t  -20.14644324176999 \t -17.388691338534382\n",
            "9      \t [-1.34726423  2.54284864]. \t  -43.65889730527717 \t -17.388691338534382\n",
            "10     \t [-5.12  5.12]. \t  -57.849427451571785 \t -17.388691338534382\n",
            "11     \t [2.81167361 5.12      ]. \t  -43.05141026860561 \t -17.388691338534382\n",
            "12     \t [ 2.24324925 -5.12      ]. \t  -43.53284573793109 \t -17.388691338534382\n",
            "13     \t [5.12       1.32212655]. \t  -45.05103991312104 \t -17.388691338534382\n",
            "14     \t [5.12 5.12]. \t  -57.849427451571785 \t -17.388691338534382\n",
            "15     \t [ 0.18671911 -1.30748323]. \t  -21.40602108928749 \t -17.388691338534382\n",
            "16     \t [ 3.91011494 -2.66570124]. \t  -39.0002555753978 \t -17.388691338534382\n",
            "17     \t [-3.10451984  0.11553443]. \t  \u001b[92m-14.252524056069408\u001b[0m \t -14.252524056069408\n",
            "18     \t [-0.28932293  5.12      ]. \t  -41.454092746535814 \t -14.252524056069408\n",
            "19     \t [1.45121409 2.39106562]. \t  -45.10471636499679 \t -14.252524056069408\n",
            "20     \t [-3.351837   -3.47084044]. \t  -59.085012498053686 \t -14.252524056069408\n"
          ]
        }
      ]
    },
    {
      "cell_type": "code",
      "metadata": {
        "id": "xkgzPRbBTHaq",
        "colab": {
          "base_uri": "https://localhost:8080/"
        },
        "outputId": "064894d5-83ed-4349-e097-75be33ee1c8b"
      },
      "source": [
        "end_approx = time.time()\n",
        "end_approx\n",
        "\n",
        "time_approx = end_approx - start_approx\n",
        "time_approx\n",
        "\n",
        "start_exact = time.time()\n",
        "start_exact"
      ],
      "execution_count": 33,
      "outputs": [
        {
          "output_type": "execute_result",
          "data": {
            "text/plain": [
              "1637158975.503018"
            ]
          },
          "metadata": {},
          "execution_count": 33
        }
      ]
    },
    {
      "cell_type": "code",
      "metadata": {
        "id": "7CG3Ndvb16Rb",
        "colab": {
          "base_uri": "https://localhost:8080/"
        },
        "outputId": "4c0fea2a-45c9-43a1-c6fc-1d203e094a34"
      },
      "source": [
        "### EXACT GP EI GRADIENTS\n",
        "\n",
        "np.random.seed(run_num_1)\n",
        "surrogate_exact_1 = dGaussianProcess(cov_func, optimize=opt)\n",
        "\n",
        "exact_1 = dGPGO(surrogate_exact_1, Acquisition_new(util_grad_exact), objfunc, param)\n",
        "exact_1.run(init_evals=n_init, max_iter=iters)\n"
      ],
      "execution_count": 34,
      "outputs": [
        {
          "output_type": "stream",
          "name": "stdout",
          "text": [
            "Evaluation \t Proposed point \t  Current eval. \t Best eval.\n",
            "init   \t [-0.84969467  2.25612281]. \t  -20.33436270766351 \t -19.908403246996286\n",
            "init   \t [-5.1188288  -2.02411446]. \t  -33.07414982069084 \t -19.908403246996286\n",
            "init   \t [-3.61721968 -4.17445279]. \t  -53.347974723929894 \t -19.908403246996286\n",
            "init   \t [-3.21269544 -1.58145816]. \t  -39.218472310354045 \t -19.908403246996286\n",
            "init   \t [-1.05710106  0.39748336]. \t  -19.908403246996286 \t -19.908403246996286\n",
            "1      \t [ 4.04077223 -4.24914728]. \t  -44.655863836006326 \t -19.908403246996286\n",
            "2      \t [4.42977754 2.01541797]. \t  -42.77403520305755 \t -19.908403246996286\n",
            "3      \t [ 0.22956954 -4.25536562]. \t  -37.21774573810996 \t -19.908403246996286\n",
            "4      \t [-5.12        4.36680096]. \t  -64.69123843786682 \t -19.908403246996286\n",
            "5      \t [ 1.93855169 -0.66378358]. \t  -20.090761784215008 \t -19.908403246996286\n",
            "6      \t [-4.88064454  1.12936771]. \t  -30.90443606247321 \t -19.908403246996286\n",
            "7      \t [1.39882906 5.05766937]. \t  -46.23277535664419 \t -19.908403246996286\n",
            "8      \t [4.62022436 4.15131683]. \t  -60.04921821265257 \t -19.908403246996286\n",
            "9      \t [-1.93958654  4.93995468]. \t  -29.58026172519594 \t -19.908403246996286\n",
            "10     \t [-0.52537962 -2.1162794 ]. \t  -27.180078330513822 \t -19.908403246996286\n",
            "11     \t [1.61638239 1.73135798]. \t  -34.22231657125074 \t -19.908403246996286\n",
            "12     \t [ 4.52362546 -0.79858433]. \t  -47.98549662321803 \t -19.908403246996286\n",
            "13     \t [ 1.79170923 -2.85202375]. \t  -22.773241808475884 \t -19.908403246996286\n",
            "14     \t [-2.9187152   2.34493633]. \t  -30.91125792348786 \t -19.908403246996286\n",
            "15     \t [-5.12 -5.12]. \t  -57.849427451571785 \t -19.908403246996286\n",
            "16     \t [-1.87825398 -4.94590426]. \t  -31.347754974720658 \t -19.908403246996286\n",
            "17     \t [-0.57344993  3.86966655]. \t  -37.4268388010692 \t -19.908403246996286\n",
            "18     \t [ 0.32648014 -0.54506783]. \t  -34.628006317592835 \t -19.908403246996286\n",
            "19     \t [ 1.99071563 -4.7743373 ]. \t  -35.251050264747356 \t -19.908403246996286\n",
            "20     \t [-3.07266789  0.25518772]. \t  -20.85667510975064 \t -19.908403246996286\n"
          ]
        }
      ]
    },
    {
      "cell_type": "code",
      "metadata": {
        "id": "-ilCPSAu9SAg",
        "colab": {
          "base_uri": "https://localhost:8080/"
        },
        "outputId": "4307ec00-802a-465a-f874-56c169167a0c"
      },
      "source": [
        "### EXACT GP EI GRADIENTS\n",
        "\n",
        "np.random.seed(run_num_2)\n",
        "surrogate_exact_2 = dGaussianProcess(cov_func, optimize=opt)\n",
        "\n",
        "exact_2 = dGPGO(surrogate_exact_2, Acquisition_new(util_grad_exact), objfunc, param)\n",
        "exact_2.run(init_evals=n_init, max_iter=iters)\n"
      ],
      "execution_count": 35,
      "outputs": [
        {
          "output_type": "stream",
          "name": "stdout",
          "text": [
            "Evaluation \t Proposed point \t  Current eval. \t Best eval.\n",
            "init   \t [-0.6554122  -4.85451539]. \t  -43.490296251903594 \t -18.964539418712707\n",
            "init   \t [ 0.50854377 -0.6622987 ]. \t  -35.91861667536101 \t -18.964539418712707\n",
            "init   \t [-0.81543371 -1.73737143]. \t  -20.479562046739524 \t -18.964539418712707\n",
            "init   \t [-3.02439799  1.2213347 ]. \t  -18.964539418712707 \t -18.964539418712707\n",
            "init   \t [-2.05153614 -2.3876887 ]. \t  -28.041315668371354 \t -18.964539418712707\n",
            "1      \t [4.81874241 3.07464552]. \t  -39.56740440269988 \t -18.964539418712707\n",
            "2      \t [ 4.84260546 -3.96517156]. \t  -43.91613433006595 \t -18.964539418712707\n",
            "3      \t [-5.12 -5.12]. \t  -57.849427451571785 \t -18.964539418712707\n",
            "4      \t [0.70799905 3.12454697]. \t  -25.781362594131053 \t -18.964539418712707\n",
            "5      \t [-5.12       -1.50565213]. \t  -51.1853967217407 \t -18.964539418712707\n",
            "6      \t [-4.40667555  4.45597249]. \t  -77.2238064298952 \t -18.964539418712707\n",
            "7      \t [ 3.30047968 -1.27609408]. \t  -37.27260610986593 \t -18.964539418712707\n",
            "8      \t [-1.30641393  4.19358628]. \t  -39.29289519767243 \t -18.964539418712707\n",
            "9      \t [ 1.73340212 -3.60361684]. \t  -44.98623999614257 \t -18.964539418712707\n",
            "10     \t [2.32056422 1.68687732]. \t  -36.38336777944896 \t -18.964539418712707\n",
            "11     \t [1.79838179 5.03471234]. \t  -35.82609781741636 \t -18.964539418712707\n",
            "12     \t [-1.0672323  1.3169701]. \t  \u001b[92m-17.837229667216775\u001b[0m \t -17.837229667216775\n",
            "13     \t [-2.82798323 -5.12      ]. \t  -42.21609306126179 \t -17.837229667216775\n",
            "14     \t [-4.6804209   0.84909373]. \t  -41.029459005703195 \t -17.837229667216775\n",
            "15     \t [-2.84440234 -0.39394863]. \t  -30.51697452965268 \t -17.837229667216775\n",
            "16     \t [-4.05226173 -3.09134005]. \t  -28.113651306710096 \t -17.837229667216775\n",
            "17     \t [ 4.25548934 -0.0520068 ]. \t  -28.985885210186517 \t -17.837229667216775\n",
            "18     \t [4.66191489 5.00298098]. \t  -62.021319710275456 \t -17.837229667216775\n",
            "19     \t [-3.31081926  2.5281384 ]. \t  -50.92618291122902 \t -17.837229667216775\n",
            "20     \t [0.68402087 0.96278319]. \t  \u001b[92m-15.694862693673915\u001b[0m \t -15.694862693673915\n"
          ]
        }
      ]
    },
    {
      "cell_type": "code",
      "metadata": {
        "id": "XieJ158mIvlP",
        "colab": {
          "base_uri": "https://localhost:8080/"
        },
        "outputId": "cded1d00-98ce-40d2-8b48-e359c34d14c0"
      },
      "source": [
        "### EXACT GP EI GRADIENTS\n",
        "\n",
        "np.random.seed(run_num_3)\n",
        "surrogate_exact_3 = dGaussianProcess(cov_func, optimize=opt)\n",
        "\n",
        "exact_3 = dGPGO(surrogate_exact_3, Acquisition_new(util_grad_exact), objfunc, param)\n",
        "exact_3.run(init_evals=n_init, max_iter=iters)\n"
      ],
      "execution_count": 36,
      "outputs": [
        {
          "output_type": "stream",
          "name": "stdout",
          "text": [
            "Evaluation \t Proposed point \t  Current eval. \t Best eval.\n",
            "init   \t [0.52017052 2.1314337 ]. \t  -27.953858411008774 \t -10.607662635789808\n",
            "init   \t [-2.14113547  0.11087468]. \t  -10.607662635789808 \t -10.607662635789808\n",
            "init   \t [4.02377681 4.05804123]. \t  -33.42749829480097 \t -10.607662635789808\n",
            "init   \t [-3.83400642 -2.99783293]. \t  -28.650953928965198 \t -10.607662635789808\n",
            "init   \t [-4.59297584 -0.6061072 ]. \t  -57.6631355589384 \t -10.607662635789808\n",
            "1      \t [ 1.69712678 -3.15613384]. \t  -30.541001922405762 \t -10.607662635789808\n",
            "2      \t [-3.19842009  4.62787284]. \t  -55.40495762533798 \t -10.607662635789808\n",
            "3      \t [2.98320254 0.25508068]. \t  -19.339381163883257 \t -10.607662635789808\n",
            "4      \t [-1.16415172 -5.12      ]. \t  -35.14374447697096 \t -10.607662635789808\n",
            "5      \t [-5.12 -5.12]. \t  -57.849427451571785 \t -10.607662635789808\n",
            "6      \t [ 5.07685177 -4.61766316]. \t  -65.63000316119616 \t -10.607662635789808\n",
            "7      \t [-1.18284242 -1.90361917]. \t  -12.705627831421213 \t -10.607662635789808\n",
            "8      \t [-5.12        2.33148764]. \t  -49.259782985232754 \t -10.607662635789808\n",
            "9      \t [0.33097264 4.36233771]. \t  -50.4972564791689 \t -10.607662635789808\n",
            "10     \t [ 4.91863689 -1.26857079]. \t  -38.244966526461184 \t -10.607662635789808\n",
            "11     \t [ 0.99289072 -0.9610264 ]. \t  \u001b[92m-2.217710395260095\u001b[0m \t -2.217710395260095\n",
            "12     \t [ 0.12922048 -0.28935513]. \t  -15.6669647041026 \t -2.217710395260095\n",
            "13     \t [-1.67648139  1.53865972]. \t  -39.341270178440844 \t -2.217710395260095\n",
            "14     \t [4.00352517 1.94472206]. \t  -20.409732744087016 \t -2.217710395260095\n",
            "15     \t [ 0.76229762 -1.34191642]. \t  -27.06946799256401 \t -2.217710395260095\n",
            "16     \t [-2.0873356  -1.43038071]. \t  -26.92959396321786 \t -2.217710395260095\n",
            "17     \t [-1.25126344 -3.2366032 ]. \t  -31.279891344320067 \t -2.217710395260095\n",
            "18     \t [ 2.49117707 -1.20976546]. \t  -35.15296382036542 \t -2.217710395260095\n",
            "19     \t [ 1.09902741 -5.03732301]. \t  -28.730257101205364 \t -2.217710395260095\n",
            "20     \t [2.28839203 2.57763945]. \t  -43.10343217730829 \t -2.217710395260095\n"
          ]
        }
      ]
    },
    {
      "cell_type": "code",
      "metadata": {
        "id": "PhLBVOIfIvol",
        "colab": {
          "base_uri": "https://localhost:8080/"
        },
        "outputId": "d614b03f-212a-49c5-a422-2ec1fffe741e"
      },
      "source": [
        "### EXACT GP EI GRADIENTS\n",
        "\n",
        "np.random.seed(run_num_4)\n",
        "surrogate_exact_4 = dGaussianProcess(cov_func, optimize=opt)\n",
        "\n",
        "exact_4 = dGPGO(surrogate_exact_4, Acquisition_new(util_grad_exact), objfunc, param)\n",
        "exact_4.run(init_evals=n_init, max_iter=iters)\n"
      ],
      "execution_count": 37,
      "outputs": [
        {
          "output_type": "stream",
          "name": "stdout",
          "text": [
            "Evaluation \t Proposed point \t  Current eval. \t Best eval.\n",
            "init   \t [4.78238555 0.48365823]. \t  -51.03163809010808 \t -14.323038259018315\n",
            "init   \t [4.84028785 2.19971578]. \t  -39.78645699016559 \t -14.323038259018315\n",
            "init   \t [ 2.02474316 -2.90724357]. \t  -14.323038259018315 \t -14.323038259018315\n",
            "init   \t [ 4.87705042 -5.05620219]. \t  -52.80627247106233 \t -14.323038259018315\n",
            "init   \t [-2.52946061 -0.66773471]. \t  -41.61497868486559 \t -14.323038259018315\n",
            "1      \t [-5.12 -5.12]. \t  -57.849427451571785 \t -14.323038259018315\n",
            "2      \t [-0.9356617   4.54448646]. \t  -41.945730234899074 \t -14.323038259018315\n",
            "3      \t [-1.04690918 -5.12      ]. \t  -30.451952889549254 \t -14.323038259018315\n",
            "4      \t [0.49976441 1.02192631]. \t  -21.388835716483523 \t -14.323038259018315\n",
            "5      \t [-5.12        3.16629376]. \t  -43.92985254890579 \t -14.323038259018315\n",
            "6      \t [3.56583759 4.58335811]. \t  -71.53836326334684 \t -14.323038259018315\n",
            "7      \t [-5.12       -1.83981467]. \t  -36.961199157691155 \t -14.323038259018315\n",
            "8      \t [-0.17852195 -2.66263443]. \t  -27.997635776610878 \t -14.323038259018315\n",
            "9      \t [-2.72417454  2.37393157]. \t  -41.69566773222262 \t -14.323038259018315\n",
            "10     \t [ 4.38798694 -2.55041342]. \t  -62.88543818818923 \t -14.323038259018315\n",
            "11     \t [ 1.86023655 -0.47952334]. \t  -27.222086704004404 \t -14.323038259018315\n",
            "12     \t [ 1.38821255 -4.9510036 ]. \t  -44.54276845153296 \t -14.323038259018315\n",
            "13     \t [-3.08782189 -3.2189572 ]. \t  -29.442379464960155 \t -14.323038259018315\n",
            "14     \t [-3.90683618  4.87422755]. \t  -43.64969563198778 \t -14.323038259018315\n",
            "15     \t [0.72783763 3.71326497]. \t  -37.993781945397465 \t -14.323038259018315\n",
            "16     \t [-4.92009923  0.52310855]. \t  -45.60972686682506 \t -14.323038259018315\n",
            "17     \t [2.66003287 1.38794875]. \t  -41.98104217633261 \t -14.323038259018315\n",
            "18     \t [-0.47412202 -1.03288395]. \t  -21.372436884766312 \t -14.323038259018315\n",
            "19     \t [-2.85611149 -5.12      ]. \t  -40.89798387322398 \t -14.323038259018315\n",
            "20     \t [-0.86653431  1.13321362]. \t  \u001b[92m-8.653037259312867\u001b[0m \t -8.653037259312867\n"
          ]
        }
      ]
    },
    {
      "cell_type": "code",
      "metadata": {
        "id": "arbiPyj2IvsJ",
        "colab": {
          "base_uri": "https://localhost:8080/"
        },
        "outputId": "85ac21e4-d3f3-47b8-a0b4-6ee32c1f237e"
      },
      "source": [
        "### EXACT GP EI GRADIENTS\n",
        "\n",
        "np.random.seed(run_num_5)\n",
        "surrogate_exact_5 = dGaussianProcess(cov_func, optimize=opt)\n",
        "\n",
        "exact_5 = dGPGO(surrogate_exact_5, Acquisition_new(util_grad_exact), objfunc, param)\n",
        "exact_5.run(init_evals=n_init, max_iter=iters)\n"
      ],
      "execution_count": 38,
      "outputs": [
        {
          "output_type": "stream",
          "name": "stdout",
          "text": [
            "Evaluation \t Proposed point \t  Current eval. \t Best eval.\n",
            "init   \t [-2.84678993  3.79629882]. \t  -33.93442008827236 \t -7.8108627039749745\n",
            "init   \t [-3.00319585  4.2865757 ]. \t  -39.673876075575784 \t -7.8108627039749745\n",
            "init   \t [-0.11866943  1.14425716]. \t  -7.8108627039749745 \t -7.8108627039749745\n",
            "init   \t [2.72289645 0.1886002 ]. \t  -25.38160395721669 \t -7.8108627039749745\n",
            "init   \t [-2.08076286 -3.19773462]. \t  -22.589982116319675 \t -7.8108627039749745\n",
            "1      \t [ 4.32895605 -5.09732646]. \t  -61.29478907190488 \t -7.8108627039749745\n",
            "2      \t [4.02415917 4.76321328]. \t  -48.16778619122663 \t -7.8108627039749745\n",
            "3      \t [-5.12      -0.2720871]. \t  -40.38206832200922 \t -7.8108627039749745\n",
            "4      \t [-5.12 -5.12]. \t  -57.849427451571785 \t -7.8108627039749745\n",
            "5      \t [ 0.41839637 -5.12      ]. \t  -47.81385086552663 \t -7.8108627039749745\n",
            "6      \t [ 0.57650845 -1.82257053]. \t  -28.11739147730969 \t -7.8108627039749745\n",
            "7      \t [0.04426152 3.8316413 ]. \t  -20.160006752901307 \t -7.8108627039749745\n",
            "8      \t [-2.6549469   0.86532534]. \t  -26.792685131060146 \t -7.8108627039749745\n",
            "9      \t [ 4.59188317 -2.51462191]. \t  -65.74583052237591 \t -7.8108627039749745\n",
            "10     \t [-4.82077741  2.40317162]. \t  -52.91887848108307 \t -7.8108627039749745\n",
            "11     \t [-5.12       -2.60024622]. \t  -53.767061174742466 \t -7.8108627039749745\n",
            "12     \t [3.04055128 2.36960594]. \t  -32.010225983963196 \t -7.8108627039749745\n",
            "13     \t [-2.39649696 -5.12      ]. \t  -52.62675917550946 \t -7.8108627039749745\n",
            "14     \t [-1.28531921 -1.64320371]. \t  -32.77102405247702 \t -7.8108627039749745\n",
            "15     \t [-0.74437533  2.03726817]. \t  -15.330801698844002 \t -7.8108627039749745\n",
            "16     \t [4.78260795 1.52619186]. \t  -53.032977636866654 \t -7.8108627039749745\n",
            "17     \t [0.7333538 0.4487734]. \t  -31.26967834560254 \t -7.8108627039749745\n",
            "18     \t [1.75564313 4.64150785]. \t  -50.572339786803184 \t -7.8108627039749745\n",
            "19     \t [ 2.18610427 -4.07188897]. \t  -28.454525334128203 \t -7.8108627039749745\n",
            "20     \t [-1.12056693  0.18278969]. \t  -9.925279040285428 \t -7.8108627039749745\n"
          ]
        }
      ]
    },
    {
      "cell_type": "code",
      "metadata": {
        "id": "04KJCEm_Ivvf",
        "colab": {
          "base_uri": "https://localhost:8080/"
        },
        "outputId": "bc0ad497-3e9c-4741-f60a-7dc19befcab4"
      },
      "source": [
        "### EXACT GP EI GRADIENTS\n",
        "\n",
        "np.random.seed(run_num_6)\n",
        "surrogate_exact_6 = dGaussianProcess(cov_func, optimize=opt)\n",
        "\n",
        "exact_6 = dGPGO(surrogate_exact_6, Acquisition_new(util_grad_exact), objfunc, param)\n",
        "exact_6.run(init_evals=n_init, max_iter=iters)\n"
      ],
      "execution_count": 39,
      "outputs": [
        {
          "output_type": "stream",
          "name": "stdout",
          "text": [
            "Evaluation \t Proposed point \t  Current eval. \t Best eval.\n",
            "init   \t [ 4.02288795 -1.72052679]. \t  -31.08835710146886 \t -17.28954482757088\n",
            "init   \t [ 3.28938622 -4.69302655]. \t  -58.797867722203385 \t -17.28954482757088\n",
            "init   \t [-4.0175956   0.97333314]. \t  -17.28954482757088 \t -17.28954482757088\n",
            "init   \t [ 0.30532979 -0.83141193]. \t  -19.296253155889353 \t -17.28954482757088\n",
            "init   \t [-1.68542362  1.25459899]. \t  -28.650630936276173 \t -17.28954482757088\n",
            "1      \t [-4.83462985 -5.12      ]. \t  -57.22797739492171 \t -17.28954482757088\n",
            "2      \t [4.48914029 2.92869999]. \t  -49.69320349947571 \t -17.28954482757088\n",
            "3      \t [0.82857045 4.4117774 ]. \t  -43.91426751878849 \t -17.28954482757088\n",
            "4      \t [-0.79524271 -5.12      ]. \t  -36.752572362187195 \t -17.28954482757088\n",
            "5      \t [-5.12       -1.84486052]. \t  -36.7146408767705 \t -17.28954482757088\n",
            "6      \t [-3.67373247  4.48684359]. \t  -68.20464940344726 \t -17.28954482757088\n",
            "7      \t [1.65399773 1.49191058]. \t  -40.62139827871134 \t -17.28954482757088\n",
            "8      \t [-2.41127381 -2.81881507]. \t  -38.05554351740926 \t -17.28954482757088\n",
            "9      \t [ 0.45699258 -2.75125032]. \t  -37.33677392403397 \t -17.28954482757088\n",
            "10     \t [3.63038763 5.06978973]. \t  -56.656290608494245 \t -17.28954482757088\n",
            "11     \t [4.08721148 0.05317493]. \t  -18.725233469808355 \t -17.28954482757088\n",
            "12     \t [-1.12509192  3.23415965]. \t  -23.665001511824382 \t -17.28954482757088\n",
            "13     \t [-3.15501805 -0.67492642]. \t  -29.333792282409217 \t -17.28954482757088\n",
            "14     \t [-4.93642713  2.1435984 ]. \t  -33.552121003899444 \t -17.28954482757088\n",
            "15     \t [ 2.15094818 -2.26060104]. \t  -24.572934812792727 \t -17.28954482757088\n",
            "16     \t [ 4.90472415 -3.31388097]. \t  -50.68392804367505 \t -17.28954482757088\n",
            "17     \t [-2.99191689 -5.12      ]. \t  -37.88917457175937 \t -17.28954482757088\n",
            "18     \t [-1.33249255 -0.43415578]. \t  -36.074558694868294 \t -17.28954482757088\n",
            "19     \t [-5.12        0.15988113]. \t  -33.585703344525434 \t -17.28954482757088\n",
            "20     \t [4.65341207 0.21211193]. \t  -45.044151509172956 \t -17.28954482757088\n"
          ]
        }
      ]
    },
    {
      "cell_type": "code",
      "metadata": {
        "id": "tAOkme3CIvyO",
        "colab": {
          "base_uri": "https://localhost:8080/"
        },
        "outputId": "ebd39789-2c5b-41e9-e923-38d57b841d4e"
      },
      "source": [
        "### EXACT GP EI GRADIENTS\n",
        "\n",
        "np.random.seed(run_num_7)\n",
        "surrogate_exact_7 = dGaussianProcess(cov_func, optimize=opt)\n",
        "\n",
        "exact_7 = dGPGO(surrogate_exact_7, Acquisition_new(util_grad_exact), objfunc, param)\n",
        "exact_7.run(init_evals=n_init, max_iter=iters)\n"
      ],
      "execution_count": 40,
      "outputs": [
        {
          "output_type": "stream",
          "name": "stdout",
          "text": [
            "Evaluation \t Proposed point \t  Current eval. \t Best eval.\n",
            "init   \t [-4.33860312  2.86636843]. \t  -45.646133072936244 \t -22.52235437888213\n",
            "init   \t [-0.63068947  2.28828342]. \t  -34.83012662845338 \t -22.52235437888213\n",
            "init   \t [4.8946126  0.39419771]. \t  -44.09657005662876 \t -22.52235437888213\n",
            "init   \t [ 0.01147355 -4.38219639]. \t  -36.613209822404315 \t -22.52235437888213\n",
            "init   \t [-2.37118484e+00 -1.20319155e-03]. \t  -22.52235437888213 \t -22.52235437888213\n",
            "1      \t [-5.12 -5.12]. \t  -57.849427451571785 \t -22.52235437888213\n",
            "2      \t [3.36336072 4.52412691]. \t  -68.20074440954015 \t -22.52235437888213\n",
            "3      \t [ 3.81570236 -4.87523301]. \t  -47.234127813742255 \t -22.52235437888213\n",
            "4      \t [-4.02558214 -1.33646422]. \t  -33.289738493146906 \t -22.52235437888213\n",
            "5      \t [ 2.00470592 -1.69958346]. \t  \u001b[92m-20.026850967836975\u001b[0m \t -20.026850967836975\n",
            "6      \t [1.65244444 1.67462696]. \t  -35.84863275278873 \t -20.026850967836975\n",
            "7      \t [-1.42652306  5.01672073]. \t  -46.210693549077874 \t -20.026850967836975\n",
            "8      \t [-2.56962535 -3.47963502]. \t  -57.68734945892897 \t -20.026850967836975\n",
            "9      \t [-0.42795273 -0.49668076]. \t  -39.42041446111203 \t -20.026850967836975\n",
            "10     \t [-5.02023677  4.92727657]. \t  -50.58746939743787 \t -20.026850967836975\n",
            "11     \t [3.80268462 2.03974917]. \t  -25.68110158755156 \t -20.026850967836975\n",
            "12     \t [-5.12        0.58424654]. \t  -47.89748025348371 \t -20.026850967836975\n",
            "13     \t [ 4.22890073 -2.20513466]. \t  -38.6426084878038 \t -20.026850967836975\n",
            "14     \t [ 0.21709292 -2.71037128]. \t  -27.804626056107235 \t -20.026850967836975\n",
            "15     \t [1.05962436 3.9139136 ]. \t  \u001b[92m-18.562623399610374\u001b[0m \t -18.562623399610374\n",
            "16     \t [-2.47683397  1.76671611]. \t  -38.10187178669381 \t -18.562623399610374\n",
            "17     \t [-1.8737881 -5.12     ]. \t  -35.41877564271449 \t -18.562623399610374\n",
            "18     \t [ 1.71069587 -4.9900271 ]. \t  -40.291002574042075 \t -18.562623399610374\n",
            "19     \t [ 2.62498749 -0.6850263 ]. \t  -38.40140630728382 \t -18.562623399610374\n",
            "20     \t [-5.12       -3.50199416]. \t  -61.18789188173593 \t -18.562623399610374\n"
          ]
        }
      ]
    },
    {
      "cell_type": "code",
      "metadata": {
        "id": "69-J3EF4Iv1S",
        "colab": {
          "base_uri": "https://localhost:8080/"
        },
        "outputId": "5e230ddc-8848-4c5e-ec74-655b2867eebe"
      },
      "source": [
        "### EXACT GP EI GRADIENTS\n",
        "\n",
        "np.random.seed(run_num_8)\n",
        "surrogate_exact_8 = dGaussianProcess(cov_func, optimize=opt)\n",
        "\n",
        "exact_8 = dGPGO(surrogate_exact_8, Acquisition_new(util_grad_exact), objfunc, param)\n",
        "exact_8.run(init_evals=n_init, max_iter=iters)\n"
      ],
      "execution_count": 41,
      "outputs": [
        {
          "output_type": "stream",
          "name": "stdout",
          "text": [
            "Evaluation \t Proposed point \t  Current eval. \t Best eval.\n",
            "init   \t [3.82391708 4.79785639]. \t  -50.20079446939181 \t -13.871821018360485\n",
            "init   \t [3.78055209 0.31596228]. \t  -36.5114251593508 \t -13.871821018360485\n",
            "init   \t [-2.73686192 -5.00327624]. \t  -43.34985765011677 \t -13.871821018360485\n",
            "init   \t [-0.7119993  -0.99992207]. \t  -13.871821018360485 \t -13.871821018360485\n",
            "init   \t [ 0.23218863 -0.22126801]. \t  -17.190590355445654 \t -13.871821018360485\n",
            "1      \t [ 4.9637908  -4.82582725]. \t  -53.5993593606936 \t -13.871821018360485\n",
            "2      \t [-5.03492225  2.95509263]. \t  -34.71822332027364 \t -13.871821018360485\n",
            "3      \t [-5.12       -1.50419945]. \t  -51.18384883422928 \t -13.871821018360485\n",
            "4      \t [ 1.08372626 -5.12      ]. \t  -31.45129294083111 \t -13.871821018360485\n",
            "5      \t [-1.77947142  3.28321304]. \t  -34.17655008183277 \t -13.871821018360485\n",
            "6      \t [ 1.93029897 -2.2557147 ]. \t  -20.11703788138048 \t -13.871821018360485\n",
            "7      \t [1.56443133 1.88645343]. \t  -27.63664050027574 \t -13.871821018360485\n",
            "8      \t [0.8742722  4.39426163]. \t  -40.90825891601466 \t -13.871821018360485\n",
            "9      \t [ 5.09033741 -1.80057301]. \t  -37.59730661475024 \t -13.871821018360485\n",
            "10     \t [-2.68241405  0.36174425]. \t  -37.90456842363537 \t -13.871821018360485\n",
            "11     \t [-5.12 -5.12]. \t  -57.849427451571785 \t -13.871821018360485\n",
            "12     \t [-1.79801504 -2.61295216]. \t  -34.674637134814915 \t -13.871821018360485\n",
            "13     \t [-3.03144368  4.59838737]. \t  -48.67865660210893 \t -13.871821018360485\n",
            "14     \t [5.11860196 2.27117782]. \t  -45.33551720343768 \t -13.871821018360485\n",
            "15     \t [ 2.77104988 -3.83316616]. \t  -36.06222923019571 \t -13.871821018360485\n",
            "16     \t [-0.46512083  1.4296693 ]. \t  -41.06051669148724 \t -13.871821018360485\n",
            "17     \t [ 0.2485725  -2.34815735]. \t  -31.26973508596702 \t -13.871821018360485\n",
            "18     \t [-4.58352237  0.84070825]. \t  -44.9739889405644 \t -13.871821018360485\n",
            "19     \t [ 1.941387   -0.60409332]. \t  -22.740757497598977 \t -13.871821018360485\n",
            "20     \t [-0.74294437 -4.62684236]. \t  -49.39155175904753 \t -13.871821018360485\n"
          ]
        }
      ]
    },
    {
      "cell_type": "code",
      "metadata": {
        "id": "vonm9jyuIv4t",
        "colab": {
          "base_uri": "https://localhost:8080/"
        },
        "outputId": "19886b33-3b05-43ed-9aa2-958237e5c2fd"
      },
      "source": [
        "### EXACT GP EI GRADIENTS\n",
        "\n",
        "np.random.seed(run_num_9)\n",
        "surrogate_exact_9 = dGaussianProcess(cov_func, optimize=opt)\n",
        "\n",
        "exact_9 = dGPGO(surrogate_exact_9, Acquisition_new(util_grad_exact), objfunc, param)\n",
        "exact_9.run(init_evals=n_init, max_iter=iters)\n"
      ],
      "execution_count": 42,
      "outputs": [
        {
          "output_type": "stream",
          "name": "stdout",
          "text": [
            "Evaluation \t Proposed point \t  Current eval. \t Best eval.\n",
            "init   \t [-5.01376866  0.01919582]. \t  -25.248289026162446 \t -24.454800313488693\n",
            "init   \t [-0.04328148 -3.74958562]. \t  -24.454800313488693 \t -24.454800313488693\n",
            "init   \t [-3.66478248 -2.88195916]. \t  -39.46509426509438 \t -24.454800313488693\n",
            "init   \t [-0.83447623 -2.57944404]. \t  -31.06766397812992 \t -24.454800313488693\n",
            "init   \t [-4.25922917 -1.58209393]. \t  -49.922543556206975 \t -24.454800313488693\n",
            "1      \t [3.69491889 4.82146316]. \t  -55.95031066333101 \t -24.454800313488693\n",
            "2      \t [-2.02106223  4.82097351]. \t  -33.10085788033846 \t -24.454800313488693\n",
            "3      \t [2.30161508 0.48612804]. \t  -38.68231318469506 \t -24.454800313488693\n",
            "4      \t [ 4.43400906 -3.24986425]. \t  -59.366165740537824 \t -24.454800313488693\n",
            "5      \t [-2.77096132  1.89590469]. \t  \u001b[92m-22.023184763501327\u001b[0m \t -22.023184763501327\n",
            "6      \t [0.55016819 3.32617646]. \t  -45.47907227310175 \t -22.023184763501327\n",
            "7      \t [-5.12 -5.12]. \t  -57.849427451571785 \t -22.023184763501327\n",
            "8      \t [-0.44944978 -0.0314648 ]. \t  \u001b[92m-19.897609591714577\u001b[0m \t -19.897609591714577\n",
            "9      \t [4.92132525 2.20506827]. \t  -37.49309934591211 \t -19.897609591714577\n",
            "10     \t [-2.04634977 -5.12      ]. \t  -33.53333018449118 \t -19.897609591714577\n",
            "11     \t [-5.12        3.01113677]. \t  -38.01613049139528 \t -19.897609591714577\n",
            "12     \t [-1.94698403 -0.99330848]. \t  \u001b[92m-5.33594301927649\u001b[0m \t -5.33594301927649\n",
            "13     \t [ 1.46183386 -1.82265318]. \t  -30.7648334305283 \t -5.33594301927649\n",
            "14     \t [ 1.51693441 -4.21637327]. \t  -47.92519484269239 \t -5.33594301927649\n",
            "15     \t [-2.19158923 -0.31066369]. \t  -25.03133945068025 \t -5.33594301927649\n",
            "16     \t [2.86719576 2.41662851]. \t  -36.003985952171575 \t -5.33594301927649\n",
            "17     \t [-3.95279224  4.7456756 ]. \t  -48.85436703489777 \t -5.33594301927649\n",
            "18     \t [1.20294353 5.06117273]. \t  -34.878399090283594 \t -5.33594301927649\n",
            "19     \t [ 5.08808779 -0.95753814]. \t  -28.652263478220497 \t -5.33594301927649\n",
            "20     \t [-0.85768069  1.73693128]. \t  -18.31147321806142 \t -5.33594301927649\n"
          ]
        }
      ]
    },
    {
      "cell_type": "code",
      "metadata": {
        "id": "6amuYlUdIv7r",
        "colab": {
          "base_uri": "https://localhost:8080/"
        },
        "outputId": "a343073e-ea66-4cf7-cffa-f97ea4ef5f22"
      },
      "source": [
        "### EXACT GP EI GRADIENTS\n",
        "\n",
        "np.random.seed(run_num_10)\n",
        "surrogate_exact_10 = dGaussianProcess(cov_func, optimize=opt)\n",
        "\n",
        "exact_10 = dGPGO(surrogate_exact_10, Acquisition_new(util_grad_exact), objfunc, param)\n",
        "exact_10.run(init_evals=n_init, max_iter=iters)\n"
      ],
      "execution_count": 43,
      "outputs": [
        {
          "output_type": "stream",
          "name": "stdout",
          "text": [
            "Evaluation \t Proposed point \t  Current eval. \t Best eval.\n",
            "init   \t [ 2.77832339 -4.90750004]. \t  -41.674330194390116 \t -13.839458310244165\n",
            "init   \t [1.36855793 2.54775176]. \t  -44.69639719065837 \t -13.839458310244165\n",
            "init   \t [-0.01528819 -2.81808235]. \t  -13.839458310244165 \t -13.839458310244165\n",
            "init   \t [-3.09183626  2.66783449]. \t  -33.23221510904937 \t -13.839458310244165\n",
            "init   \t [-3.38830503 -4.2154003 ]. \t  -54.73014366983691 \t -13.839458310244165\n",
            "1      \t [4.54922969 4.99328486]. \t  -65.16269428931048 \t -13.839458310244165\n",
            "2      \t [ 4.88530663 -0.60647603]. \t  -44.56456522462214 \t -13.839458310244165\n",
            "3      \t [-4.29917809 -0.80962692]. \t  -38.52000218462927 \t -13.839458310244165\n",
            "4      \t [-1.27377826  0.12629298]. \t  -16.113551702684745 \t -13.839458310244165\n",
            "5      \t [-4.5050859   5.00650982]. \t  -65.36419794062027 \t -13.839458310244165\n",
            "6      \t [0.10579747 5.07144996]. \t  -28.85095188801787 \t -13.839458310244165\n",
            "7      \t [ 1.50952377 -0.55500969]. \t  -41.97740055235892 \t -13.839458310244165\n",
            "8      \t [-0.95190818 -5.08328382]. \t  -28.537164446169452 \t -13.839458310244165\n",
            "9      \t [3.98540442 2.25651064]. \t  -31.42627113533545 \t -13.839458310244165\n",
            "10     \t [-4.89922969  1.50342028]. \t  -48.19878857463516 \t -13.839458310244165\n",
            "11     \t [ 2.63717565 -2.80207219]. \t  -38.1025363609326 \t -13.839458310244165\n",
            "12     \t [-1.85144296 -2.03219379]. \t  \u001b[92m-11.810582720701092\u001b[0m \t -11.810582720701092\n",
            "13     \t [ 5.10031529 -3.51564416]. \t  -60.24618901940386 \t -11.810582720701092\n",
            "14     \t [-5.12 -5.12]. \t  -57.849427451571785 \t -11.810582720701092\n",
            "15     \t [-0.9937417   2.02051026]. \t  \u001b[92m-5.160636580088788\u001b[0m \t -5.160636580088788\n",
            "16     \t [-1.62507619  4.17393359]. \t  -42.530772219213354 \t -5.160636580088788\n",
            "17     \t [-0.65265762  1.46554655]. \t  -38.08233697240425 \t -5.160636580088788\n",
            "18     \t [-1.92142559 -1.01721719]. \t  -5.979196647495078 \t -5.160636580088788\n",
            "19     \t [-1.37889527 -1.29297983]. \t  -33.48294276821599 \t -5.160636580088788\n",
            "20     \t [-5.12       -2.57595047]. \t  -54.44302875933451 \t -5.160636580088788\n"
          ]
        }
      ]
    },
    {
      "cell_type": "code",
      "metadata": {
        "id": "VwbLIP9cIv-F",
        "colab": {
          "base_uri": "https://localhost:8080/"
        },
        "outputId": "647f815a-fe1d-4a94-abe7-8f69809bf1d8"
      },
      "source": [
        "### EXACT GP EI GRADIENTS\n",
        "\n",
        "np.random.seed(run_num_11)\n",
        "surrogate_exact_11 = dGaussianProcess(cov_func, optimize=opt)\n",
        "\n",
        "exact_11 = dGPGO(surrogate_exact_11, Acquisition_new(util_grad_exact), objfunc, param)\n",
        "exact_11.run(init_evals=n_init, max_iter=iters)\n"
      ],
      "execution_count": 44,
      "outputs": [
        {
          "output_type": "stream",
          "name": "stdout",
          "text": [
            "Evaluation \t Proposed point \t  Current eval. \t Best eval.\n",
            "init   \t [-3.27403839 -4.92057353]. \t  -47.655641290890955 \t -10.679755252484755\n",
            "init   \t [-0.37664229  2.30332343]. \t  -35.87889240695259 \t -10.679755252484755\n",
            "init   \t [-0.81711509 -0.14922651]. \t  -10.679755252484755 \t -10.679755252484755\n",
            "init   \t [-4.98912446 -0.12931474]. \t  -28.05462905574235 \t -10.679755252484755\n",
            "init   \t [4.52410012 3.59214172]. \t  -71.62694632141611 \t -10.679755252484755\n",
            "1      \t [ 3.03550212 -4.46785095]. \t  -49.22040431745476 \t -10.679755252484755\n",
            "2      \t [ 2.45710354 -0.83288647]. \t  -31.394363858898753 \t -10.679755252484755\n",
            "3      \t [-3.53286686  2.78610166]. \t  -47.78210666568689 \t -10.679755252484755\n",
            "4      \t [-0.26356059 -3.39483635]. \t  -40.340628516572366 \t -10.679755252484755\n",
            "5      \t [-2.74125638 -1.9208901 ]. \t  -22.963534356308813 \t -10.679755252484755\n",
            "6      \t [2.68728787 1.46414653]. \t  -42.951715372256785 \t -10.679755252484755\n",
            "7      \t [0.48249443 4.76103897]. \t  -52.14682097157273 \t -10.679755252484755\n",
            "8      \t [-5.12       -2.92203806]. \t  -38.63898241444801 \t -10.679755252484755\n",
            "9      \t [-2.4987636   4.63206655]. \t  -64.4498018549653 \t -10.679755252484755\n",
            "10     \t [ 4.35039289 -2.11358506]. \t  -41.731360286818415 \t -10.679755252484755\n",
            "11     \t [-2.66324249  0.34360808]. \t  -37.944364498570906 \t -10.679755252484755\n",
            "12     \t [ 0.32697343 -1.04394468]. \t  -16.225540292495502 \t -10.679755252484755\n",
            "13     \t [ 0.28670483 -5.12      ]. \t  -41.292756378513296 \t -10.679755252484755\n",
            "14     \t [-5.12 -5.12]. \t  -57.849427451571785 \t -10.679755252484755\n",
            "15     \t [4.40965589 0.27191272]. \t  -49.32314718069773 \t -10.679755252484755\n",
            "16     \t [ 1.68502848 -2.61147383]. \t  -41.27472831179954 \t -10.679755252484755\n",
            "17     \t [0.21516085 0.21528939]. \t  -15.757392090822968 \t -10.679755252484755\n",
            "18     \t [2.97593319 5.01607692]. \t  -34.18229615605391 \t -10.679755252484755\n",
            "19     \t [-4.91507775  4.2947978 ]. \t  -56.77108017242137 \t -10.679755252484755\n",
            "20     \t [ 4.65693289 -4.23299658]. \t  -64.0589338482502 \t -10.679755252484755\n"
          ]
        }
      ]
    },
    {
      "cell_type": "code",
      "metadata": {
        "id": "MlUNFjc-JTBY",
        "colab": {
          "base_uri": "https://localhost:8080/"
        },
        "outputId": "e1b3afad-6912-483c-d23f-424f98fe9fec"
      },
      "source": [
        "### EXACT GP EI GRADIENTS\n",
        "\n",
        "np.random.seed(run_num_12)\n",
        "surrogate_exact_12 = dGaussianProcess(cov_func, optimize=opt)\n",
        "\n",
        "exact_12 = dGPGO(surrogate_exact_12, Acquisition_new(util_grad_exact), objfunc, param)\n",
        "exact_12.run(init_evals=n_init, max_iter=iters)\n"
      ],
      "execution_count": 45,
      "outputs": [
        {
          "output_type": "stream",
          "name": "stdout",
          "text": [
            "Evaluation \t Proposed point \t  Current eval. \t Best eval.\n",
            "init   \t [-3.54137249  2.45810889]. \t  -57.903242869085595 \t -40.51116653209555\n",
            "init   \t [-2.42365424  0.34549139]. \t  -40.51116653209555 \t -40.51116653209555\n",
            "init   \t [-4.97075238  4.28796936]. \t  -55.62655915398208 \t -40.51116653209555\n",
            "init   \t [ 4.10332011 -4.77776458]. \t  -49.962803461970296 \t -40.51116653209555\n",
            "init   \t [ 4.6791612  -3.71497655]. \t  -62.183891474990624 \t -40.51116653209555\n",
            "1      \t [4.61121049 2.73895066]. \t  -57.11523489073049 \t -40.51116653209555\n",
            "2      \t [-5.12 -5.12]. \t  -57.849427451571785 \t -40.51116653209555\n",
            "3      \t [-0.45555852 -5.12      ]. \t  -48.74491557160776 \t -40.51116653209555\n",
            "4      \t [0.31747111 4.56681598]. \t  -54.201719827935285 \t -40.51116653209555\n",
            "5      \t [1.28767122 0.55860136]. \t  \u001b[92m-33.644801975481734\u001b[0m \t -33.644801975481734\n",
            "6      \t [-4.38376672 -2.05417147]. \t  -41.46035844443817 \t -33.644801975481734\n",
            "7      \t [ 3.87334747 -1.0083808 ]. \t  \u001b[92m-19.036245653457478\u001b[0m \t -19.036245653457478\n",
            "8      \t [-0.70378418 -2.06693752]. \t  \u001b[92m-18.502211762413356\u001b[0m \t -18.502211762413356\n",
            "9      \t [ 1.5752447  -2.41614092]. \t  -45.865897497661166 \t -18.502211762413356\n",
            "10     \t [-2.6538046  -4.17008868]. \t  -45.302460675134654 \t -18.502211762413356\n",
            "11     \t [-5.12       -0.07842071]. \t  -30.120424547169755 \t -18.502211762413356\n",
            "12     \t [-0.82666632  1.86467902]. \t  \u001b[92m-12.929486694407212\u001b[0m \t -12.929486694407212\n",
            "13     \t [ 1.86431787 -5.09653094]. \t  -34.65304413988971 \t -12.929486694407212\n",
            "14     \t [-2.08969707  4.90154676]. \t  -31.791620520931872 \t -12.929486694407212\n",
            "15     \t [5.11295496 4.65431068]. \t  -65.87605584117206 \t -12.929486694407212\n",
            "16     \t [2.15512872 4.25535271]. \t  -37.474721573434444 \t -12.929486694407212\n",
            "17     \t [3.36544546 0.52226473]. \t  -48.13537999917453 \t -12.929486694407212\n",
            "18     \t [-0.49853447  2.41560895]. \t  -44.710113043207066 \t -12.929486694407212\n",
            "19     \t [-0.25608136 -0.68288559]. \t  -25.006971598419863 \t -12.929486694407212\n",
            "20     \t [-2.36505855 -1.80459507]. \t  -32.1025136377679 \t -12.929486694407212\n"
          ]
        }
      ]
    },
    {
      "cell_type": "code",
      "metadata": {
        "id": "9BsKdU9eJTFL",
        "colab": {
          "base_uri": "https://localhost:8080/"
        },
        "outputId": "9c64d2df-dfc6-4441-a1ec-9f54d033a58b"
      },
      "source": [
        "### EXACT GP EI GRADIENTS\n",
        "\n",
        "np.random.seed(run_num_13)\n",
        "surrogate_exact_13 = dGaussianProcess(cov_func, optimize=opt)\n",
        "\n",
        "exact_13 = dGPGO(surrogate_exact_13, Acquisition_new(util_grad_exact), objfunc, param)\n",
        "exact_13.run(init_evals=n_init, max_iter=iters)\n"
      ],
      "execution_count": 46,
      "outputs": [
        {
          "output_type": "stream",
          "name": "stdout",
          "text": [
            "Evaluation \t Proposed point \t  Current eval. \t Best eval.\n",
            "init   \t [ 2.84367268 -2.68757791]. \t  -33.58019830007169 \t -17.435826639425656\n",
            "init   \t [3.32061217 4.76927179]. \t  -56.857057997503354 \t -17.435826639425656\n",
            "init   \t [ 4.83943541 -0.47667971]. \t  -48.211919361679726 \t -17.435826639425656\n",
            "init   \t [1.11659482 2.82139151]. \t  -17.435826639425656 \t -17.435826639425656\n",
            "init   \t [1.45012065 2.27346667]. \t  -38.25352329493884 \t -17.435826639425656\n",
            "1      \t [-5.12 -5.12]. \t  -57.849427451571785 \t -17.435826639425656\n",
            "2      \t [-4.56094397  1.90673836]. \t  -45.38192419904403 \t -17.435826639425656\n",
            "3      \t [-1.41925282 -2.6022447 ]. \t  -45.53277714174709 \t -17.435826639425656\n",
            "4      \t [-5.12       -1.57097875]. \t  -50.41460365471831 \t -17.435826639425656\n",
            "5      \t [ 0.74240791 -5.12      ]. \t  -39.95272769100376 \t -17.435826639425656\n",
            "6      \t [-1.47143339  4.29526654]. \t  -53.25977008096706 \t -17.435826639425656\n",
            "7      \t [ 0.38417342 -0.32308691]. \t  -32.151116103399936 \t -17.435826639425656\n",
            "8      \t [-2.02417333  0.91295199]. \t  \u001b[92m-6.504677652605372\u001b[0m \t -6.504677652605372\n",
            "9      \t [-2.22648428 -5.12      ]. \t  -42.4097796347646 \t -6.504677652605372\n",
            "10     \t [-2.69350316 -0.42391009]. \t  -39.78914312130556 \t -6.504677652605372\n",
            "11     \t [4.51970584 2.1035468 ]. \t  -46.81891383249832 \t -6.504677652605372\n",
            "12     \t [ 4.38464276 -3.87801983]. \t  -54.54642342679429 \t -6.504677652605372\n",
            "13     \t [-3.80635706  4.54230577]. \t  -61.302202221033745 \t -6.504677652605372\n",
            "14     \t [-1.3130659  1.5705024]. \t  -37.08506518833382 \t -6.504677652605372\n",
            "15     \t [2.3952036  0.26555138]. \t  -34.69247028186544 \t -6.504677652605372\n",
            "16     \t [ 0.82419517 -2.4044558 ]. \t  -30.21745335079493 \t -6.504677652605372\n",
            "17     \t [0.28707964 5.11676712]. \t  -41.14526031190138 \t -6.504677652605372\n",
            "18     \t [-3.59992932 -3.24781085]. \t  -51.463001795257775 \t -6.504677652605372\n",
            "19     \t [-5.12        0.01626082]. \t  -28.977126028308845 \t -6.504677652605372\n",
            "20     \t [-2.74505423  1.72968207]. \t  -32.110973095030914 \t -6.504677652605372\n"
          ]
        }
      ]
    },
    {
      "cell_type": "code",
      "metadata": {
        "id": "k6GjFBr1JTJf",
        "colab": {
          "base_uri": "https://localhost:8080/"
        },
        "outputId": "033c70b4-0667-415a-954d-9fd8785a6630"
      },
      "source": [
        "### EXACT GP EI GRADIENTS\n",
        "\n",
        "np.random.seed(run_num_14)\n",
        "surrogate_exact_14 = dGaussianProcess(cov_func, optimize=opt)\n",
        "\n",
        "exact_14 = dGPGO(surrogate_exact_14, Acquisition_new(util_grad_exact), objfunc, param)\n",
        "exact_14.run(init_evals=n_init, max_iter=iters)\n"
      ],
      "execution_count": 47,
      "outputs": [
        {
          "output_type": "stream",
          "name": "stdout",
          "text": [
            "Evaluation \t Proposed point \t  Current eval. \t Best eval.\n",
            "init   \t [0.14277984 2.79721013]. \t  -18.683085263052178 \t -10.423838604848608\n",
            "init   \t [ 3.7931795  -5.03759925]. \t  -47.36348784446708 \t -10.423838604848608\n",
            "init   \t [-1.94830412  4.68586229]. \t  -40.19779334078636 \t -10.423838604848608\n",
            "init   \t [ 0.13431513 -1.86076749]. \t  -10.423838604848608 \t -10.423838604848608\n",
            "init   \t [ 0.40140736 -2.85434939]. \t  -30.353548735049138 \t -10.423838604848608\n",
            "1      \t [-5.12 -5.12]. \t  -57.849427451571785 \t -10.423838604848608\n",
            "2      \t [-5.12        0.35548271]. \t  -45.204089060752956 \t -10.423838604848608\n",
            "3      \t [4.4439689  3.11845863]. \t  -51.504668856084436 \t -10.423838604848608\n",
            "4      \t [ 3.68357643 -0.73818283]. \t  -38.908869801319774 \t -10.423838604848608\n",
            "5      \t [-2.97770015 -2.31409125]. \t  -28.238727716589647 \t -10.423838604848608\n",
            "6      \t [-1.54139109  0.46092049]. \t  -41.95211217580243 \t -10.423838604848608\n",
            "7      \t [-1.69845124 -5.12      ]. \t  -44.99202103089784 \t -10.423838604848608\n",
            "8      \t [-5.12        3.67437472]. \t  -57.00061855680679 \t -10.423838604848608\n",
            "9      \t [1.85112481 2.17349017]. \t  -17.59161554528065 \t -10.423838604848608\n",
            "10     \t [ 0.44692495 -5.12      ]. \t  -48.5735439534654 \t -10.423838604848608\n",
            "11     \t [1.55258801 4.64005573]. \t  -59.77124905705925 \t -10.423838604848608\n",
            "12     \t [-5.09096682 -2.71764767]. \t  -46.91176478960815 \t -10.423838604848608\n",
            "13     \t [ 1.04867502 -0.05523682]. \t  \u001b[92m-2.1630523678145046\u001b[0m \t -2.1630523678145046\n",
            "14     \t [ 0.61598932 -0.33598037]. \t  -33.09552188697682 \t -2.1630523678145046\n",
            "15     \t [-2.79414878  2.31322767]. \t  -34.28881323677384 \t -2.1630523678145046\n",
            "16     \t [1.72032127 0.69020865]. \t  -28.958927641041022 \t -2.1630523678145046\n",
            "17     \t [3.8289554  5.10308137]. \t  -47.96756005738325 \t -2.1630523678145046\n",
            "18     \t [-1.20140457 -2.05046738]. \t  -13.14022141324228 \t -2.1630523678145046\n",
            "19     \t [ 2.0981784  -3.43347506]. \t  -37.17326305768511 \t -2.1630523678145046\n",
            "20     \t [ 5.00788372 -3.79145698]. \t  -46.89084916502436 \t -2.1630523678145046\n"
          ]
        }
      ]
    },
    {
      "cell_type": "code",
      "metadata": {
        "id": "dPS8WB3aJTN6",
        "colab": {
          "base_uri": "https://localhost:8080/"
        },
        "outputId": "6278cacc-f714-4112-d070-0643927adaee"
      },
      "source": [
        "### EXACT GP EI GRADIENTS\n",
        "\n",
        "np.random.seed(run_num_15)\n",
        "surrogate_exact_15 = dGaussianProcess(cov_func, optimize=opt)\n",
        "\n",
        "exact_15 = dGPGO(surrogate_exact_15, Acquisition_new(util_grad_exact), objfunc, param)\n",
        "exact_15.run(init_evals=n_init, max_iter=iters)\n"
      ],
      "execution_count": 48,
      "outputs": [
        {
          "output_type": "stream",
          "name": "stdout",
          "text": [
            "Evaluation \t Proposed point \t  Current eval. \t Best eval.\n",
            "init   \t [ 3.57189322 -3.28810573]. \t  -54.938487770767075 \t -7.990765314336182\n",
            "init   \t [-4.56332069 -1.41784631]. \t  -60.750198753157726 \t -7.990765314336182\n",
            "init   \t [-2.29989449  0.3072023 ]. \t  -31.984997246800887 \t -7.990765314336182\n",
            "init   \t [-1.9873903  -2.00218256]. \t  -7.990765314336182 \t -7.990765314336182\n",
            "init   \t [-3.97576933 -2.5610341 ]. \t  -41.754957769694336 \t -7.990765314336182\n",
            "1      \t [2.7754098  2.98802689]. \t  -25.069717172883625 \t -7.990765314336182\n",
            "2      \t [-4.96635744  4.09320867]. \t  -43.30810083468987 \t -7.990765314336182\n",
            "3      \t [-0.45163998 -5.12      ]. \t  -48.67059409247075 \t -7.990765314336182\n",
            "4      \t [-0.58046585  3.48192065]. \t  -51.14518933200314 \t -7.990765314336182\n",
            "5      \t [ 0.67160543 -1.2194287 ]. \t  -24.757897249242163 \t -7.990765314336182\n",
            "6      \t [4.15885472 0.29687321]. \t  -34.86805882267362 \t -7.990765314336182\n",
            "7      \t [-5.12 -5.12]. \t  -57.849427451571785 \t -7.990765314336182\n",
            "8      \t [-4.97543626  1.31695394]. \t  -40.69204874492209 \t -7.990765314336182\n",
            "9      \t [0.95905203 1.04486047]. \t  \u001b[92m-2.7352878396541236\u001b[0m \t -2.7352878396541236\n",
            "10     \t [1.11058509 0.607909  ]. \t  -21.709516029929713 \t -2.7352878396541236\n",
            "11     \t [-1.4375883  -2.12748693]. \t  -28.874060324236638 \t -2.7352878396541236\n",
            "12     \t [-2.72830604 -5.12      ]. \t  -47.727222341912366 \t -2.7352878396541236\n",
            "13     \t [5.08622275 4.05094317]. \t  -44.21965856118919 \t -2.7352878396541236\n",
            "14     \t [-2.69025884  4.88419206]. \t  -47.29150088660377 \t -2.7352878396541236\n",
            "15     \t [2.580828   4.62472644]. \t  -63.86986451255649 \t -2.7352878396541236\n",
            "16     \t [ 0.85401619 -2.84108615]. \t  -17.30523978177751 \t -2.7352878396541236\n",
            "17     \t [-0.4348025   1.18187604]. \t  -26.607652330717812 \t -2.7352878396541236\n",
            "18     \t [ 1.88865558 -4.83674787]. \t  -34.12550279277061 \t -2.7352878396541236\n",
            "19     \t [1.71132353 1.72286978]. \t  -29.999573830184794 \t -2.7352878396541236\n",
            "20     \t [ 2.63062146 -1.44971242]. \t  -45.343755617321406 \t -2.7352878396541236\n"
          ]
        }
      ]
    },
    {
      "cell_type": "code",
      "metadata": {
        "id": "SHWdp2giJTRm",
        "colab": {
          "base_uri": "https://localhost:8080/"
        },
        "outputId": "cdbec376-3c9b-45ae-fd26-12181fdfcf51"
      },
      "source": [
        "### EXACT GP EI GRADIENTS\n",
        "\n",
        "np.random.seed(run_num_16)\n",
        "surrogate_exact_16 = dGaussianProcess(cov_func, optimize=opt)\n",
        "\n",
        "exact_16 = dGPGO(surrogate_exact_16, Acquisition_new(util_grad_exact), objfunc, param)\n",
        "exact_16.run(init_evals=n_init, max_iter=iters)\n"
      ],
      "execution_count": 49,
      "outputs": [
        {
          "output_type": "stream",
          "name": "stdout",
          "text": [
            "Evaluation \t Proposed point \t  Current eval. \t Best eval.\n",
            "init   \t [-2.83349935  0.23719262]. \t  -22.27210456874814 \t -22.27210456874814\n",
            "init   \t [ 0.51918292 -4.65303603]. \t  -57.57021076017139 \t -22.27210456874814\n",
            "init   \t [-1.42613673 -2.83565116]. \t  -33.89145899403749 \t -22.27210456874814\n",
            "init   \t [ 1.9325559  -3.44339021]. \t  -35.85029586225333 \t -22.27210456874814\n",
            "init   \t [-4.39987336  4.51595121]. \t  -77.78800881964571 \t -22.27210456874814\n",
            "1      \t [2.142749   4.83374619]. \t  -36.69381850109535 \t -22.27210456874814\n",
            "2      \t [-5.12 -5.12]. \t  -57.849427451571785 \t -22.27210456874814\n",
            "3      \t [ 1.29434241 -0.04481114]. \t  \u001b[92m-14.821300046342763\u001b[0m \t -14.821300046342763\n",
            "4      \t [ 4.52096722 -0.05412316]. \t  -40.9280938700155 \t -14.821300046342763\n",
            "5      \t [-1.13936227  2.77999621]. \t  -20.747883100142108 \t -14.821300046342763\n",
            "6      \t [-5.12      -1.6717359]. \t  -46.441088202488174 \t -14.821300046342763\n",
            "7      \t [ 4.61353471 -4.56408508]. \t  -78.87747696873812 \t -14.821300046342763\n",
            "8      \t [2.59639023 1.95058935]. \t  -29.245490681169265 \t -14.821300046342763\n",
            "9      \t [-2.37082777 -5.12      ]. \t  -51.428830041832384 \t -14.821300046342763\n",
            "10     \t [-0.65063545 -0.11447857]. \t  -18.759199733777397 \t -14.821300046342763\n",
            "11     \t [4.57389988 5.01283516]. \t  -65.02281056034947 \t -14.821300046342763\n",
            "12     \t [-4.89116878  1.40739184]. \t  -46.50688984115988 \t -14.821300046342763\n",
            "13     \t [-0.91203298  4.31400596]. \t  -34.84549983001225 \t -14.821300046342763\n",
            "14     \t [4.71357692 2.06492088]. \t  -39.57079176048919 \t -14.821300046342763\n",
            "15     \t [0.47064904 1.88868084]. \t  -25.967022771182243 \t -14.821300046342763\n",
            "16     \t [ 3.25157735 -1.84403025]. \t  -28.501974345413068 \t -14.821300046342763\n",
            "17     \t [-0.02175174 -1.84367491]. \t  \u001b[92m-7.941079775074963\u001b[0m \t -7.941079775074963\n",
            "18     \t [-3.41764314 -2.74600616]. \t  -48.16251640385891 \t -7.941079775074963\n",
            "19     \t [ 0.57692082 -1.42440667]. \t  -40.109476723956185 \t -7.941079775074963\n",
            "20     \t [-1.82423361  0.89860219]. \t  -11.60013163941913 \t -7.941079775074963\n"
          ]
        }
      ]
    },
    {
      "cell_type": "code",
      "metadata": {
        "id": "yU2SflSsJTUs",
        "colab": {
          "base_uri": "https://localhost:8080/"
        },
        "outputId": "4fe49d3f-bdfc-4d70-882d-b7c908a7e23a"
      },
      "source": [
        "### EXACT GP EI GRADIENTS\n",
        "\n",
        "np.random.seed(run_num_17)\n",
        "surrogate_exact_17 = dGaussianProcess(cov_func, optimize=opt)\n",
        "\n",
        "exact_17 = dGPGO(surrogate_exact_17, Acquisition_new(util_grad_exact), objfunc, param)\n",
        "exact_17.run(init_evals=n_init, max_iter=iters)\n"
      ],
      "execution_count": 50,
      "outputs": [
        {
          "output_type": "stream",
          "name": "stdout",
          "text": [
            "Evaluation \t Proposed point \t  Current eval. \t Best eval.\n",
            "init   \t [-2.10263037  0.31320838]. \t  -20.395145364684023 \t -20.395145364684023\n",
            "init   \t [-3.15882714 -4.42470033]. \t  -53.03732051200137 \t -20.395145364684023\n",
            "init   \t [2.93873111 1.60085526]. \t  -29.989224812583537 \t -20.395145364684023\n",
            "init   \t [1.40821398 0.77417363]. \t  -29.451989415882437 \t -20.395145364684023\n",
            "init   \t [-4.71999574 -1.45598869]. \t  -55.89242173757483 \t -20.395145364684023\n",
            "1      \t [ 4.96008736 -4.44720822]. \t  -64.14783177084814 \t -20.395145364684023\n",
            "2      \t [-1.95646705  4.77829278]. \t  -35.26326039091227 \t -20.395145364684023\n",
            "3      \t [4.67136791 4.9849391 ]. \t  -61.45808001353949 \t -20.395145364684023\n",
            "4      \t [ 0.77118226 -3.17650361]. \t  -24.902376082514078 \t -20.395145364684023\n",
            "5      \t [ 4.53480696 -1.0371415 ]. \t  -41.673009951291 \t -20.395145364684023\n",
            "6      \t [-5.12        2.02892537]. \t  -33.2059512151667 \t -20.395145364684023\n",
            "7      \t [-1.33651351 -2.09593034]. \t  -23.11342101732952 \t -20.395145364684023\n",
            "8      \t [1.90654495 3.68308424]. \t  -32.95670466122752 \t -20.395145364684023\n",
            "9      \t [ 2.03280134 -5.12      ]. \t  -33.268623926990635 \t -20.395145364684023\n",
            "10     \t [-0.57175146  2.22249194]. \t  -32.54744801494364 \t -20.395145364684023\n",
            "11     \t [ 2.05739416 -1.52994469]. \t  -27.040335769847488 \t -20.395145364684023\n",
            "12     \t [-4.7099863   4.17909867]. \t  -57.827602346088874 \t -20.395145364684023\n",
            "13     \t [-5.12 -5.12]. \t  -57.849427451571785 \t -20.395145364684023\n",
            "14     \t [-0.72139903 -4.7403659 ]. \t  -45.38383908071374 \t -20.395145364684023\n",
            "15     \t [4.84829699 1.67157639]. \t  -45.239706912848206 \t -20.395145364684023\n",
            "16     \t [0.36740821 5.09218236]. \t  -44.42215396078207 \t -20.395145364684023\n",
            "17     \t [-0.2387008  -0.48273327]. \t  -29.52186319975963 \t -20.395145364684023\n",
            "18     \t [-2.45438599  1.86604144]. \t  -32.43616273040761 \t -20.395145364684023\n",
            "19     \t [ 2.56494471 -3.23256629]. \t  -45.11414880909932 \t -20.395145364684023\n",
            "20     \t [-3.55273993  0.26777573]. \t  -43.264186013564164 \t -20.395145364684023\n"
          ]
        }
      ]
    },
    {
      "cell_type": "code",
      "metadata": {
        "id": "es0KCh_0JTgY",
        "colab": {
          "base_uri": "https://localhost:8080/"
        },
        "outputId": "5da13345-b870-4970-d5ca-bb513f485b93"
      },
      "source": [
        "### EXACT GP EI GRADIENTS\n",
        "\n",
        "np.random.seed(run_num_18)\n",
        "surrogate_exact_18 = dGaussianProcess(cov_func, optimize=opt)\n",
        "\n",
        "exact_18 = dGPGO(surrogate_exact_18, Acquisition_new(util_grad_exact), objfunc, param)\n",
        "exact_18.run(init_evals=n_init, max_iter=iters)\n"
      ],
      "execution_count": 51,
      "outputs": [
        {
          "output_type": "stream",
          "name": "stdout",
          "text": [
            "Evaluation \t Proposed point \t  Current eval. \t Best eval.\n",
            "init   \t [1.53983224 0.05584255]. \t  -22.67190580753611 \t -22.67190580753611\n",
            "init   \t [ 3.87687906 -3.25795609]. \t  -38.990099416711985 \t -22.67190580753611\n",
            "init   \t [3.60686662 2.56139557]. \t  -56.66448698782129 \t -22.67190580753611\n",
            "init   \t [1.70088108 4.99604939]. \t  -40.894059318256296 \t -22.67190580753611\n",
            "init   \t [-2.48864335 -4.83014733]. \t  -54.6725749848372 \t -22.67190580753611\n",
            "1      \t [-5.00718904  2.9174042 ]. \t  -34.91005808676357 \t -22.67190580753611\n",
            "2      \t [-5.12       -1.41796436]. \t  -49.63607064216287 \t -22.67190580753611\n",
            "3      \t [-1.81052473  0.26690943]. \t  \u001b[92m-20.697813637432\u001b[0m \t -20.697813637432\n",
            "4      \t [-1.59175701  3.84904374]. \t  -39.90330278472997 \t -20.697813637432\n",
            "5      \t [ 0.46044996 -3.11021037]. \t  -31.88154615606937 \t -20.697813637432\n",
            "6      \t [-5.12 -5.12]. \t  -57.849427451571785 \t -20.697813637432\n",
            "7      \t [5.036695   4.70780542]. \t  -60.41656172577045 \t -20.697813637432\n",
            "8      \t [-1.98080331 -2.12039903]. \t  \u001b[92m-11.219826432959929\u001b[0m \t -11.219826432959929\n",
            "9      \t [0.92672317 1.88369444]. \t  \u001b[92m-8.001813996101486\u001b[0m \t -8.001813996101486\n",
            "10     \t [-3.5453199   0.75628824]. \t  -42.343575856030775 \t -8.001813996101486\n",
            "11     \t [ 1.8302858  -5.01471442]. \t  -33.70674940299729 \t -8.001813996101486\n",
            "12     \t [ 4.45892611 -0.73057619]. \t  -51.302001171241876 \t -8.001813996101486\n",
            "13     \t [ 4.90666391 -4.67293393]. \t  -62.23773095124354 \t -8.001813996101486\n",
            "14     \t [-0.42713074  1.83349483]. \t  -27.505403439253328 \t -8.001813996101486\n",
            "15     \t [-3.06712274  4.98269931]. \t  -35.16979654987419 \t -8.001813996101486\n",
            "16     \t [-0.76537421 -0.89367487]. \t  -12.56971764432074 \t -8.001813996101486\n",
            "17     \t [ 2.10297139 -1.8499191 ]. \t  -13.991921752759756 \t -8.001813996101486\n",
            "18     \t [-0.30424031 -5.12      ]. \t  -42.359705627954725 \t -8.001813996101486\n",
            "19     \t [-3.14398103 -2.48726884]. \t  -39.85961283852198 \t -8.001813996101486\n",
            "20     \t [1.34242109 2.42397855]. \t  -42.044594718091375 \t -8.001813996101486\n"
          ]
        }
      ]
    },
    {
      "cell_type": "code",
      "metadata": {
        "id": "Pput2LHPIwBM",
        "colab": {
          "base_uri": "https://localhost:8080/"
        },
        "outputId": "4a8c30d2-8c07-4e38-e0d2-b1770d3bc1b8"
      },
      "source": [
        "### EXACT GP EI GRADIENTS\n",
        "\n",
        "np.random.seed(run_num_19)\n",
        "surrogate_exact_19 = dGaussianProcess(cov_func, optimize=opt)\n",
        "\n",
        "exact_19 = dGPGO(surrogate_exact_19, Acquisition_new(util_grad_exact), objfunc, param)\n",
        "exact_19.run(init_evals=n_init, max_iter=iters)\n"
      ],
      "execution_count": 52,
      "outputs": [
        {
          "output_type": "stream",
          "name": "stdout",
          "text": [
            "Evaluation \t Proposed point \t  Current eval. \t Best eval.\n",
            "init   \t [-4.12125592  2.6751971 ]. \t  -41.43485596167127 \t -25.867003842388073\n",
            "init   \t [-2.59135515 -3.70553152]. \t  -51.60126035043229 \t -25.867003842388073\n",
            "init   \t [-1.72598719 -4.27008445]. \t  -43.97430127029199 \t -25.867003842388073\n",
            "init   \t [1.76104531 3.13952049]. \t  -25.867003842388073 \t -25.867003842388073\n",
            "init   \t [4.9432772  1.38916592]. \t  -44.66580306903559 \t -25.867003842388073\n",
            "1      \t [ 4.31875047 -4.23891985]. \t  -60.111046898384394 \t -25.867003842388073\n",
            "2      \t [-1.45266504  0.02798514]. \t  \u001b[92m-21.82618637020168\u001b[0m \t -21.82618637020168\n",
            "3      \t [-5.12       -2.09497424]. \t  -35.04191551374515 \t -21.82618637020168\n",
            "4      \t [4.49732115 4.6445587 ]. \t  -77.94736268172689 \t -21.82618637020168\n",
            "5      \t [ 1.76426715 -0.6664359 ]. \t  -27.67409622786903 \t -21.82618637020168\n",
            "6      \t [-1.13833907  4.30420344]. \t  -36.70792788765697 \t -21.82618637020168\n",
            "7      \t [-5.12 -5.12]. \t  -57.849427451571785 \t -21.82618637020168\n",
            "8      \t [ 1.15254577 -4.75463226]. \t  -37.8961778006332 \t -21.82618637020168\n",
            "9      \t [-3.89559745  0.05085224]. \t  \u001b[92m-17.759881393568303\u001b[0m \t -17.759881393568303\n",
            "10     \t [ 3.98874532 -1.13695474]. \t  -20.707254718331814 \t -17.759881393568303\n",
            "11     \t [ 0.11063801 -2.30838208]. \t  -21.247889553761187 \t -17.759881393568303\n",
            "12     \t [-0.12186206  1.54785164]. \t  -24.753006070946007 \t -17.759881393568303\n",
            "13     \t [-2.99785382  4.50435467]. \t  -49.273504769281516 \t -17.759881393568303\n",
            "14     \t [ 2.34563271 -2.71883764]. \t  -40.493242205644485 \t -17.759881393568303\n",
            "15     \t [-5.06278326  0.58872115]. \t  -45.232458513792466 \t -17.759881393568303\n",
            "16     \t [1.7095732  5.03359699]. \t  -40.99458463513272 \t -17.759881393568303\n",
            "17     \t [-2.71048742 -1.31337278]. \t  -35.40635465710368 \t -17.759881393568303\n",
            "18     \t [-2.11969364  0.85146455]. \t  \u001b[92m-11.963194844887813\u001b[0m \t -11.963194844887813\n",
            "19     \t [2.21153413 1.3228657 ]. \t  -28.667450436237353 \t -11.963194844887813\n",
            "20     \t [-2.18043169  1.9278597 ]. \t  -15.24749483727598 \t -11.963194844887813\n"
          ]
        }
      ]
    },
    {
      "cell_type": "code",
      "metadata": {
        "id": "aw3xvSryIwDi",
        "colab": {
          "base_uri": "https://localhost:8080/"
        },
        "outputId": "49f55889-f6a8-48e4-b46a-907031075477"
      },
      "source": [
        "### EXACT GP EI GRADIENTS\n",
        "\n",
        "np.random.seed(run_num_20)\n",
        "surrogate_exact_20 = dGaussianProcess(cov_func, optimize=opt)\n",
        "\n",
        "exact_20 = dGPGO(surrogate_exact_20, Acquisition_new(util_grad_exact), objfunc, param)\n",
        "exact_20.run(init_evals=n_init, max_iter=iters)\n"
      ],
      "execution_count": 53,
      "outputs": [
        {
          "output_type": "stream",
          "name": "stdout",
          "text": [
            "Evaluation \t Proposed point \t  Current eval. \t Best eval.\n",
            "init   \t [0.9024594  4.07258857]. \t  -20.24255447774017 \t -17.388691338534382\n",
            "init   \t [4.00927467 3.23417577]. \t  -35.55852254546393 \t -17.388691338534382\n",
            "init   \t [-4.75249064  1.96359764]. \t  -36.54582989269194 \t -17.388691338534382\n",
            "init   \t [-1.24230715  0.18955208]. \t  -17.388691338534382 \t -17.388691338534382\n",
            "init   \t [ 1.61742301 -3.13497377]. \t  -33.22932870179905 \t -17.388691338534382\n",
            "1      \t [-5.12 -5.12]. \t  -57.849427451571785 \t -17.388691338534382\n",
            "2      \t [ 3.62092718 -0.22845083]. \t  -39.063145878350106 \t -17.388691338534382\n",
            "3      \t [-2.33560207  4.68357675]. \t  -56.56725650059704 \t -17.388691338534382\n",
            "4      \t [-5.12       -1.50068416]. \t  -51.17667428824029 \t -17.388691338534382\n",
            "5      \t [-1.33974573 -5.12      ]. \t  -46.064404179532346 \t -17.388691338534382\n",
            "6      \t [ 4.14636433 -4.97978639]. \t  -46.01004219435855 \t -17.388691338534382\n",
            "7      \t [-1.49302571 -2.3087411 ]. \t  -41.15739838903831 \t -17.388691338534382\n",
            "8      \t [1.02962015 1.3549415 ]. \t  -19.194833182751278 \t -17.388691338534382\n",
            "9      \t [ 0.2931205  -0.29827424]. \t  -25.83806747926686 \t -17.388691338534382\n",
            "10     \t [-1.67241103  1.59040093]. \t  -38.440326013093255 \t -17.388691338534382\n",
            "11     \t [-3.51657251 -0.07705635]. \t  -33.46738971621146 \t -17.388691338534382\n",
            "12     \t [-4.45972891  4.76447717]. \t  -71.36263247821208 \t -17.388691338534382\n",
            "13     \t [ 4.27718418 -2.35494519]. \t  -51.6661596646352 \t -17.388691338534382\n",
            "14     \t [-3.61585108 -3.23820991]. \t  -50.28590686199683 \t -17.388691338534382\n",
            "15     \t [4.94565905 4.42926004]. \t  -63.68351101076263 \t -17.388691338534382\n",
            "16     \t [2.45747567 1.70078922]. \t  -41.62001241477729 \t -17.388691338534382\n",
            "17     \t [ 0.8449283  -4.59707278]. \t  -44.42677736917394 \t -17.388691338534382\n",
            "18     \t [1.68209855 5.04001224]. \t  -42.683658348759195 \t -17.388691338534382\n",
            "19     \t [-0.64400508  3.50400127]. \t  -48.86795264646286 \t -17.388691338534382\n",
            "20     \t [ 1.23899992 -1.50932793]. \t  -33.10541605739047 \t -17.388691338534382\n"
          ]
        }
      ]
    },
    {
      "cell_type": "code",
      "metadata": {
        "id": "qNqAB3vBTPqb",
        "colab": {
          "base_uri": "https://localhost:8080/"
        },
        "outputId": "479503dc-e42e-481c-f602-13f0931f00a1"
      },
      "source": [
        "end_exact = time.time()\n",
        "end_exact\n",
        "\n",
        "time_exact = end_exact - start_exact\n",
        "time_exact"
      ],
      "execution_count": 54,
      "outputs": [
        {
          "output_type": "execute_result",
          "data": {
            "text/plain": [
              "976.7654569149017"
            ]
          },
          "metadata": {},
          "execution_count": 54
        }
      ]
    },
    {
      "cell_type": "code",
      "metadata": {
        "id": "JPQzjdBZQxfg",
        "colab": {
          "base_uri": "https://localhost:8080/"
        },
        "outputId": "6f9874ab-c0a1-4ffa-e8a3-310620b05f64"
      },
      "source": [
        "### Simple regret minimization: run number = 1\n",
        "\n",
        "approx_output_1 = np.append(np.min(approx_1.GP.y[0:n_init]),approx_1.GP.y[n_init:(n_init+iters)]) \n",
        "exact_output_1 = np.append(np.min(exact_1.GP.y[0:n_init]),exact_1.GP.y[n_init:(n_init+iters)]) \n",
        "\n",
        "regret_approx_1 = np.log(-approx_output_1 + y_global_orig)\n",
        "regret_exact_1 = np.log(-exact_output_1 + y_global_orig)\n",
        "\n",
        "simple_regret_approx_1 = min_max_array(regret_approx_1)\n",
        "simple_regret_exact_1 = min_max_array(regret_exact_1)\n",
        "\n",
        "min_simple_regret_approx_1 = min(simple_regret_approx_1)\n",
        "min_simple_regret_exact_1 = min(simple_regret_exact_1)\n",
        "\n",
        "min_simple_regret_approx_1, min_simple_regret_exact_1"
      ],
      "execution_count": 55,
      "outputs": [
        {
          "output_type": "execute_result",
          "data": {
            "text/plain": [
              "(2.53473440460369, 3.000260096685105)"
            ]
          },
          "metadata": {},
          "execution_count": 55
        }
      ]
    },
    {
      "cell_type": "code",
      "metadata": {
        "id": "94yBw5tqQxfk",
        "colab": {
          "base_uri": "https://localhost:8080/"
        },
        "outputId": "7b7bc127-a4ba-4b04-ccc2-68cffd20d58b"
      },
      "source": [
        "### Simple regret minimization: run number = 2\n",
        "\n",
        "approx_output_2 = np.append(np.min(approx_2.GP.y[0:n_init]),approx_2.GP.y[n_init:(n_init+iters)]) \n",
        "exact_output_2 = np.append(np.min(exact_2.GP.y[0:n_init]),exact_2.GP.y[n_init:(n_init+iters)]) \n",
        "\n",
        "regret_approx_2 = np.log(-approx_output_2 + y_global_orig)\n",
        "regret_exact_2 = np.log(-exact_output_2 + y_global_orig)\n",
        "\n",
        "simple_regret_approx_2 = min_max_array(regret_approx_2)\n",
        "simple_regret_exact_2 = min_max_array(regret_exact_2)\n",
        "\n",
        "min_simple_regret_approx_2 = min(simple_regret_approx_2)\n",
        "min_simple_regret_exact_2 = min(simple_regret_exact_2)\n",
        "\n",
        "min_simple_regret_approx_2, min_simple_regret_exact_2"
      ],
      "execution_count": 56,
      "outputs": [
        {
          "output_type": "execute_result",
          "data": {
            "text/plain": [
              "(3.109757461229284, 2.7533334418436657)"
            ]
          },
          "metadata": {},
          "execution_count": 56
        }
      ]
    },
    {
      "cell_type": "code",
      "metadata": {
        "id": "Bu6SBWALQxfl",
        "colab": {
          "base_uri": "https://localhost:8080/"
        },
        "outputId": "40ba562f-846b-44b5-88c5-636d10e857fd"
      },
      "source": [
        "### Simple regret minimization: run number = 3\n",
        "\n",
        "approx_output_3 = np.append(np.min(approx_3.GP.y[0:n_init]),approx_3.GP.y[n_init:(n_init+iters)]) \n",
        "exact_output_3 = np.append(np.min(exact_3.GP.y[0:n_init]),exact_3.GP.y[n_init:(n_init+iters)]) \n",
        "\n",
        "regret_approx_3 = np.log(-approx_output_3 + y_global_orig)\n",
        "regret_exact_3 = np.log(-exact_output_3 + y_global_orig)\n",
        "\n",
        "simple_regret_approx_3 = min_max_array(regret_approx_3)\n",
        "simple_regret_exact_3 = min_max_array(regret_exact_3)\n",
        "\n",
        "min_simple_regret_approx_3 = min(simple_regret_approx_3)\n",
        "min_simple_regret_exact_3 = min(simple_regret_exact_3)\n",
        "\n",
        "min_simple_regret_approx_3, min_simple_regret_exact_3"
      ],
      "execution_count": 57,
      "outputs": [
        {
          "output_type": "execute_result",
          "data": {
            "text/plain": [
              "(2.6307535879381065, 0.7964753101867742)"
            ]
          },
          "metadata": {},
          "execution_count": 57
        }
      ]
    },
    {
      "cell_type": "code",
      "metadata": {
        "id": "AZm0jgxkQxfm",
        "colab": {
          "base_uri": "https://localhost:8080/"
        },
        "outputId": "190f9e17-5d02-4214-cbd3-0f6dbecb6574"
      },
      "source": [
        "### Simple regret minimization: run number = 4\n",
        "\n",
        "approx_output_4 = np.append(np.min(approx_4.GP.y[0:n_init]),approx_4.GP.y[n_init:(n_init+iters)]) \n",
        "exact_output_4 = np.append(np.min(exact_4.GP.y[0:n_init]),exact_4.GP.y[n_init:(n_init+iters)]) \n",
        "\n",
        "regret_approx_4 = np.log(-approx_output_4 + y_global_orig)\n",
        "regret_exact_4 = np.log(-exact_output_4 + y_global_orig)\n",
        "\n",
        "simple_regret_approx_4 = min_max_array(regret_approx_4)\n",
        "simple_regret_exact_4 = min_max_array(regret_exact_4)\n",
        "\n",
        "min_simple_regret_approx_4 = min(simple_regret_approx_4)\n",
        "min_simple_regret_exact_4 = min(simple_regret_exact_4)\n",
        "\n",
        "min_simple_regret_approx_4, min_simple_regret_exact_4"
      ],
      "execution_count": 58,
      "outputs": [
        {
          "output_type": "execute_result",
          "data": {
            "text/plain": [
              "(2.288518867323689, 2.1579103875569547)"
            ]
          },
          "metadata": {},
          "execution_count": 58
        }
      ]
    },
    {
      "cell_type": "code",
      "metadata": {
        "id": "NONPm8JIQxfn",
        "colab": {
          "base_uri": "https://localhost:8080/"
        },
        "outputId": "daf95608-7c34-476b-97dd-f7784361a724"
      },
      "source": [
        "### Simple regret minimization: run number = 5\n",
        "\n",
        "approx_output_5 = np.append(np.min(approx_5.GP.y[0:n_init]),approx_5.GP.y[n_init:(n_init+iters)]) \n",
        "exact_output_5 = np.append(np.min(exact_5.GP.y[0:n_init]),exact_5.GP.y[n_init:(n_init+iters)]) \n",
        "\n",
        "regret_approx_5 = np.log(-approx_output_5 + y_global_orig)\n",
        "regret_exact_5 = np.log(-exact_output_5 + y_global_orig)\n",
        "\n",
        "simple_regret_approx_5 = min_max_array(regret_approx_5)\n",
        "simple_regret_exact_5 = min_max_array(regret_exact_5)\n",
        "\n",
        "min_simple_regret_approx_5 = min(simple_regret_approx_5)\n",
        "min_simple_regret_exact_5 = min(simple_regret_exact_5)\n",
        "\n",
        "min_simple_regret_approx_5, min_simple_regret_exact_5"
      ],
      "execution_count": 59,
      "outputs": [
        {
          "output_type": "execute_result",
          "data": {
            "text/plain": [
              "(1.861669386990763, 2.2950849410682572)"
            ]
          },
          "metadata": {},
          "execution_count": 59
        }
      ]
    },
    {
      "cell_type": "code",
      "metadata": {
        "id": "CJv3lPuSQxfp",
        "colab": {
          "base_uri": "https://localhost:8080/"
        },
        "outputId": "75876eb4-cff2-45af-88bd-204a923b17a2"
      },
      "source": [
        "### Simple regret minimization: run number = 6\n",
        "\n",
        "approx_output_6 = np.append(np.min(approx_6.GP.y[0:n_init]),approx_6.GP.y[n_init:(n_init+iters)]) \n",
        "exact_output_6 = np.append(np.min(exact_6.GP.y[0:n_init]),exact_6.GP.y[n_init:(n_init+iters)]) \n",
        "\n",
        "regret_approx_6 = np.log(-approx_output_6 + y_global_orig)\n",
        "regret_exact_6 = np.log(-exact_output_6 + y_global_orig)\n",
        "\n",
        "simple_regret_approx_6 = min_max_array(regret_approx_6)\n",
        "simple_regret_exact_6 = min_max_array(regret_exact_6)\n",
        "\n",
        "min_simple_regret_approx_6 = min(simple_regret_approx_6)\n",
        "min_simple_regret_exact_6 = min(simple_regret_exact_6)\n",
        "\n",
        "min_simple_regret_approx_6, min_simple_regret_exact_6"
      ],
      "execution_count": 60,
      "outputs": [
        {
          "output_type": "execute_result",
          "data": {
            "text/plain": [
              "(2.3019847426616646, 2.92987199767313)"
            ]
          },
          "metadata": {},
          "execution_count": 60
        }
      ]
    },
    {
      "cell_type": "code",
      "metadata": {
        "id": "quR2ZyApQxfq",
        "colab": {
          "base_uri": "https://localhost:8080/"
        },
        "outputId": "7da80a4b-f634-4826-8ae6-080a3d284094"
      },
      "source": [
        "### Simple regret minimization: run number = 7\n",
        "\n",
        "approx_output_7 = np.append(np.min(approx_7.GP.y[0:n_init]),approx_7.GP.y[n_init:(n_init+iters)]) \n",
        "exact_output_7 = np.append(np.min(exact_7.GP.y[0:n_init]),exact_7.GP.y[n_init:(n_init+iters)]) \n",
        "\n",
        "regret_approx_7 = np.log(-approx_output_7 + y_global_orig)\n",
        "regret_exact_7 = np.log(-exact_output_7 + y_global_orig)\n",
        "\n",
        "simple_regret_approx_7 = min_max_array(regret_approx_7)\n",
        "simple_regret_exact_7 = min_max_array(regret_exact_7)\n",
        "\n",
        "min_simple_regret_approx_7 = min(simple_regret_approx_7)\n",
        "min_simple_regret_exact_7 = min(simple_regret_exact_7)\n",
        "\n",
        "min_simple_regret_approx_7, min_simple_regret_exact_7"
      ],
      "execution_count": 61,
      "outputs": [
        {
          "output_type": "execute_result",
          "data": {
            "text/plain": [
              "(2.636243181319314, 2.9211500643312798)"
            ]
          },
          "metadata": {},
          "execution_count": 61
        }
      ]
    },
    {
      "cell_type": "code",
      "metadata": {
        "id": "99wY5nK6Qxfr",
        "colab": {
          "base_uri": "https://localhost:8080/"
        },
        "outputId": "baca3b6e-ff69-45e1-eb24-128e586e4b90"
      },
      "source": [
        "### Simple regret minimization: run number = 8\n",
        "\n",
        "approx_output_8 = np.append(np.min(approx_8.GP.y[0:n_init]),approx_8.GP.y[n_init:(n_init+iters)]) \n",
        "exact_output_8 = np.append(np.min(exact_8.GP.y[0:n_init]),exact_8.GP.y[n_init:(n_init+iters)]) \n",
        "\n",
        "regret_approx_8 = np.log(-approx_output_8 + y_global_orig)\n",
        "regret_exact_8 = np.log(-exact_output_8 + y_global_orig)\n",
        "\n",
        "simple_regret_approx_8 = min_max_array(regret_approx_8)\n",
        "simple_regret_exact_8 = min_max_array(regret_exact_8)\n",
        "\n",
        "min_simple_regret_approx_8 = min(simple_regret_approx_8)\n",
        "min_simple_regret_exact_8 = min(simple_regret_exact_8)\n",
        "\n",
        "min_simple_regret_approx_8, min_simple_regret_exact_8"
      ],
      "execution_count": 62,
      "outputs": [
        {
          "output_type": "execute_result",
          "data": {
            "text/plain": [
              "(2.6994695000002196, 3.001567111797825)"
            ]
          },
          "metadata": {},
          "execution_count": 62
        }
      ]
    },
    {
      "cell_type": "code",
      "metadata": {
        "id": "qt0P5t9qQxfs",
        "colab": {
          "base_uri": "https://localhost:8080/"
        },
        "outputId": "0e1fdff5-961b-403e-858d-981c1f171ae3"
      },
      "source": [
        "### Simple regret minimization: run number = 9\n",
        "\n",
        "approx_output_9 = np.append(np.min(approx_9.GP.y[0:n_init]),approx_9.GP.y[n_init:(n_init+iters)]) \n",
        "exact_output_9 = np.append(np.min(exact_9.GP.y[0:n_init]),exact_9.GP.y[n_init:(n_init+iters)]) \n",
        "\n",
        "regret_approx_9 = np.log(-approx_output_9 + y_global_orig)\n",
        "regret_exact_9 = np.log(-exact_output_9 + y_global_orig)\n",
        "\n",
        "simple_regret_approx_9 = min_max_array(regret_approx_9)\n",
        "simple_regret_exact_9 = min_max_array(regret_exact_9)\n",
        "\n",
        "min_simple_regret_approx_9 = min(simple_regret_approx_9)\n",
        "min_simple_regret_exact_9 = min(simple_regret_exact_9)\n",
        "\n",
        "min_simple_regret_approx_9, min_simple_regret_exact_9"
      ],
      "execution_count": 63,
      "outputs": [
        {
          "output_type": "execute_result",
          "data": {
            "text/plain": [
              "(2.821218902276733, 1.6744656300099217)"
            ]
          },
          "metadata": {},
          "execution_count": 63
        }
      ]
    },
    {
      "cell_type": "code",
      "metadata": {
        "id": "vx8to9stQxft",
        "colab": {
          "base_uri": "https://localhost:8080/"
        },
        "outputId": "7072e7ed-3f09-4145-fee8-08fd6c55b24f"
      },
      "source": [
        "### Simple regret minimization: run number = 10\n",
        "\n",
        "approx_output_10 = np.append(np.min(approx_10.GP.y[0:n_init]),approx_10.GP.y[n_init:(n_init+iters)]) \n",
        "exact_output_10 = np.append(np.min(exact_10.GP.y[0:n_init]),exact_10.GP.y[n_init:(n_init+iters)]) \n",
        "\n",
        "regret_approx_10 = np.log(-approx_output_10 + y_global_orig)\n",
        "regret_exact_10 = np.log(-exact_output_10 + y_global_orig)\n",
        "\n",
        "simple_regret_approx_10 = min_max_array(regret_approx_10)\n",
        "simple_regret_exact_10 = min_max_array(regret_exact_10)\n",
        "\n",
        "min_simple_regret_approx_10 = min(simple_regret_approx_10)\n",
        "min_simple_regret_exact_10 = min(simple_regret_exact_10)\n",
        "\n",
        "min_simple_regret_approx_10, min_simple_regret_exact_10"
      ],
      "execution_count": 64,
      "outputs": [
        {
          "output_type": "execute_result",
          "data": {
            "text/plain": [
              "(2.52378184646949, 1.6410599401184978)"
            ]
          },
          "metadata": {},
          "execution_count": 64
        }
      ]
    },
    {
      "cell_type": "code",
      "metadata": {
        "id": "d-FGzWyHQxfu",
        "colab": {
          "base_uri": "https://localhost:8080/"
        },
        "outputId": "2380bb59-8def-47a3-91a4-87a380b73027"
      },
      "source": [
        "### Simple regret minimization: run number = 11\n",
        "\n",
        "approx_output_11 = np.append(np.min(approx_11.GP.y[0:n_init]),approx_11.GP.y[n_init:(n_init+iters)]) \n",
        "exact_output_11 = np.append(np.min(exact_11.GP.y[0:n_init]),exact_11.GP.y[n_init:(n_init+iters)]) \n",
        "\n",
        "regret_approx_11 = np.log(-approx_output_11 + y_global_orig)\n",
        "regret_exact_11 = np.log(-exact_output_11 + y_global_orig)\n",
        "\n",
        "simple_regret_approx_11 = min_max_array(regret_approx_11)\n",
        "simple_regret_exact_11 = min_max_array(regret_exact_11)\n",
        "\n",
        "min_simple_regret_approx_11 = min(simple_regret_approx_11)\n",
        "min_simple_regret_exact_11 = min(simple_regret_exact_11)\n",
        "\n",
        "min_simple_regret_approx_11, min_simple_regret_exact_11"
      ],
      "execution_count": 65,
      "outputs": [
        {
          "output_type": "execute_result",
          "data": {
            "text/plain": [
              "(2.5708804526178506, 2.7573095942663675)"
            ]
          },
          "metadata": {},
          "execution_count": 65
        }
      ]
    },
    {
      "cell_type": "code",
      "metadata": {
        "id": "SvtsssyjQxfv",
        "colab": {
          "base_uri": "https://localhost:8080/"
        },
        "outputId": "45e9a9b8-a951-4690-8c1b-192fe380080a"
      },
      "source": [
        "### Simple regret minimization: run number = 12\n",
        "\n",
        "approx_output_12 = np.append(np.min(approx_12.GP.y[0:n_init]),approx_12.GP.y[n_init:(n_init+iters)]) \n",
        "exact_output_12 = np.append(np.min(exact_12.GP.y[0:n_init]),exact_12.GP.y[n_init:(n_init+iters)]) \n",
        "\n",
        "regret_approx_12 = np.log(-approx_output_12 + y_global_orig)\n",
        "regret_exact_12 = np.log(-exact_output_12 + y_global_orig)\n",
        "\n",
        "simple_regret_approx_12 = min_max_array(regret_approx_12)\n",
        "simple_regret_exact_12 = min_max_array(regret_exact_12)\n",
        "\n",
        "min_simple_regret_approx_12 = min(simple_regret_approx_12)\n",
        "min_simple_regret_exact_12 = min(simple_regret_exact_12)\n",
        "\n",
        "min_simple_regret_approx_12, min_simple_regret_exact_12"
      ],
      "execution_count": 66,
      "outputs": [
        {
          "output_type": "execute_result",
          "data": {
            "text/plain": [
              "(2.1676629429144314, 2.559510493187334)"
            ]
          },
          "metadata": {},
          "execution_count": 66
        }
      ]
    },
    {
      "cell_type": "code",
      "metadata": {
        "id": "K6OiGcHkQxfw",
        "colab": {
          "base_uri": "https://localhost:8080/"
        },
        "outputId": "48502704-7f0c-426b-d5a8-430a49037222"
      },
      "source": [
        "### Simple regret minimization: run number = 13\n",
        "\n",
        "approx_output_13 = np.append(np.min(approx_13.GP.y[0:n_init]),approx_13.GP.y[n_init:(n_init+iters)]) \n",
        "exact_output_13 = np.append(np.min(exact_13.GP.y[0:n_init]),exact_13.GP.y[n_init:(n_init+iters)]) \n",
        "\n",
        "regret_approx_13 = np.log(-approx_output_13 + y_global_orig)\n",
        "regret_exact_13 = np.log(-exact_output_13 + y_global_orig)\n",
        "\n",
        "simple_regret_approx_13 = min_max_array(regret_approx_13)\n",
        "simple_regret_exact_13 = min_max_array(regret_exact_13)\n",
        "\n",
        "min_simple_regret_approx_13 = min(simple_regret_approx_13)\n",
        "min_simple_regret_exact_13 = min(simple_regret_exact_13)\n",
        "\n",
        "min_simple_regret_approx_13, min_simple_regret_exact_13"
      ],
      "execution_count": 67,
      "outputs": [
        {
          "output_type": "execute_result",
          "data": {
            "text/plain": [
              "(2.7635318605885364, 1.872521556948072)"
            ]
          },
          "metadata": {},
          "execution_count": 67
        }
      ]
    },
    {
      "cell_type": "code",
      "metadata": {
        "id": "ogML73shQxfx",
        "colab": {
          "base_uri": "https://localhost:8080/"
        },
        "outputId": "37e11b9f-e065-46a0-959d-11014c3fe3b8"
      },
      "source": [
        "### Simple regret minimization: run number = 14\n",
        "\n",
        "approx_output_14 = np.append(np.min(approx_14.GP.y[0:n_init]),approx_14.GP.y[n_init:(n_init+iters)]) \n",
        "exact_output_14 = np.append(np.min(exact_14.GP.y[0:n_init]),exact_14.GP.y[n_init:(n_init+iters)]) \n",
        "\n",
        "regret_approx_14 = np.log(-approx_output_14 + y_global_orig)\n",
        "regret_exact_14 = np.log(-exact_output_14 + y_global_orig)\n",
        "\n",
        "simple_regret_approx_14 = min_max_array(regret_approx_14)\n",
        "simple_regret_exact_14 = min_max_array(regret_exact_14)\n",
        "\n",
        "min_simple_regret_approx_14 = min(simple_regret_approx_14)\n",
        "min_simple_regret_exact_14 = min(simple_regret_exact_14)\n",
        "\n",
        "min_simple_regret_approx_14, min_simple_regret_exact_14"
      ],
      "execution_count": 68,
      "outputs": [
        {
          "output_type": "execute_result",
          "data": {
            "text/plain": [
              "(2.450996763414918, 0.7715203574103962)"
            ]
          },
          "metadata": {},
          "execution_count": 68
        }
      ]
    },
    {
      "cell_type": "code",
      "metadata": {
        "id": "9Eg7gFT9Qxfx",
        "colab": {
          "base_uri": "https://localhost:8080/"
        },
        "outputId": "95982da6-2fac-4d0f-caf4-8438bedd4f79"
      },
      "source": [
        "### Simple regret minimization: run number = 15\n",
        "\n",
        "approx_output_15 = np.append(np.min(approx_15.GP.y[0:n_init]),approx_15.GP.y[n_init:(n_init+iters)]) \n",
        "exact_output_15 = np.append(np.min(exact_15.GP.y[0:n_init]),exact_15.GP.y[n_init:(n_init+iters)]) \n",
        "\n",
        "regret_approx_15 = np.log(-approx_output_15 + y_global_orig)\n",
        "regret_exact_15 = np.log(-exact_output_15 + y_global_orig)\n",
        "\n",
        "simple_regret_approx_15 = min_max_array(regret_approx_15)\n",
        "simple_regret_exact_15 = min_max_array(regret_exact_15)\n",
        "\n",
        "min_simple_regret_approx_15 = min(simple_regret_approx_15)\n",
        "min_simple_regret_exact_15 = min(simple_regret_exact_15)\n",
        "\n",
        "min_simple_regret_approx_15, min_simple_regret_exact_15"
      ],
      "execution_count": 69,
      "outputs": [
        {
          "output_type": "execute_result",
          "data": {
            "text/plain": [
              "(2.8195799205696597, 1.0062366733542478)"
            ]
          },
          "metadata": {},
          "execution_count": 69
        }
      ]
    },
    {
      "cell_type": "code",
      "metadata": {
        "id": "lIAC1U7ZQxfy",
        "colab": {
          "base_uri": "https://localhost:8080/"
        },
        "outputId": "496aad4a-aa76-4001-9450-3841d40bfc3a"
      },
      "source": [
        "### Simple regret minimization: run number = 16\n",
        "\n",
        "approx_output_16 = np.append(np.min(approx_16.GP.y[0:n_init]),approx_16.GP.y[n_init:(n_init+iters)]) \n",
        "exact_output_16 = np.append(np.min(exact_16.GP.y[0:n_init]),exact_16.GP.y[n_init:(n_init+iters)]) \n",
        "\n",
        "regret_approx_16 = np.log(-approx_output_16 + y_global_orig)\n",
        "regret_exact_16 = np.log(-exact_output_16 + y_global_orig)\n",
        "\n",
        "simple_regret_approx_16 = min_max_array(regret_approx_16)\n",
        "simple_regret_exact_16 = min_max_array(regret_exact_16)\n",
        "\n",
        "min_simple_regret_approx_16 = min(simple_regret_approx_16)\n",
        "min_simple_regret_exact_16 = min(simple_regret_exact_16)\n",
        "\n",
        "min_simple_regret_approx_16, min_simple_regret_exact_16"
      ],
      "execution_count": 70,
      "outputs": [
        {
          "output_type": "execute_result",
          "data": {
            "text/plain": [
              "(0.8622894767593468, 2.0720492578360377)"
            ]
          },
          "metadata": {},
          "execution_count": 70
        }
      ]
    },
    {
      "cell_type": "code",
      "metadata": {
        "id": "bGott36OQxfz",
        "colab": {
          "base_uri": "https://localhost:8080/"
        },
        "outputId": "ca00e7a4-d662-490d-d743-b27d0ba46419"
      },
      "source": [
        "### Simple regret minimization: run number = 17\n",
        "\n",
        "approx_output_17 = np.append(np.min(approx_17.GP.y[0:n_init]),approx_17.GP.y[n_init:(n_init+iters)]) \n",
        "exact_output_17 = np.append(np.min(exact_17.GP.y[0:n_init]),exact_17.GP.y[n_init:(n_init+iters)]) \n",
        "\n",
        "regret_approx_17 = np.log(-approx_output_17 + y_global_orig)\n",
        "regret_exact_17 = np.log(-exact_output_17 + y_global_orig)\n",
        "\n",
        "simple_regret_approx_17 = min_max_array(regret_approx_17)\n",
        "simple_regret_exact_17 = min_max_array(regret_exact_17)\n",
        "\n",
        "min_simple_regret_approx_17 = min(simple_regret_approx_17)\n",
        "min_simple_regret_exact_17 = min(simple_regret_exact_17)\n",
        "\n",
        "min_simple_regret_approx_17, min_simple_regret_exact_17"
      ],
      "execution_count": 71,
      "outputs": [
        {
          "output_type": "execute_result",
          "data": {
            "text/plain": [
              "(2.427926528824533, 3.140413445235863)"
            ]
          },
          "metadata": {},
          "execution_count": 71
        }
      ]
    },
    {
      "cell_type": "code",
      "metadata": {
        "id": "Cz9ZYMBMQxfz",
        "colab": {
          "base_uri": "https://localhost:8080/"
        },
        "outputId": "4e77faea-ac50-47cd-9fd2-9b0591161361"
      },
      "source": [
        "### Simple regret minimization: run number = 18\n",
        "\n",
        "approx_output_18 = np.append(np.min(approx_18.GP.y[0:n_init]),approx_18.GP.y[n_init:(n_init+iters)]) \n",
        "exact_output_18 = np.append(np.min(exact_18.GP.y[0:n_init]),exact_18.GP.y[n_init:(n_init+iters)]) \n",
        "\n",
        "regret_approx_18 = np.log(-approx_output_18 + y_global_orig)\n",
        "regret_exact_18 = np.log(-exact_output_18 + y_global_orig)\n",
        "\n",
        "simple_regret_approx_18 = min_max_array(regret_approx_18)\n",
        "simple_regret_exact_18 = min_max_array(regret_exact_18)\n",
        "\n",
        "min_simple_regret_approx_18 = min(simple_regret_approx_18)\n",
        "min_simple_regret_exact_18 = min(simple_regret_exact_18)\n",
        "\n",
        "min_simple_regret_approx_18, min_simple_regret_exact_18"
      ],
      "execution_count": 72,
      "outputs": [
        {
          "output_type": "execute_result",
          "data": {
            "text/plain": [
              "(2.372143749321772, 2.0796682654887366)"
            ]
          },
          "metadata": {},
          "execution_count": 72
        }
      ]
    },
    {
      "cell_type": "code",
      "metadata": {
        "id": "OBfpWOHNQxf0",
        "colab": {
          "base_uri": "https://localhost:8080/"
        },
        "outputId": "e32a8c1e-dd0f-4b5c-ae41-3f6ec7fd3587"
      },
      "source": [
        "### Simple regret minimization: run number = 19\n",
        "\n",
        "approx_output_19 = np.append(np.min(approx_19.GP.y[0:n_init]),approx_19.GP.y[n_init:(n_init+iters)]) \n",
        "exact_output_19 = np.append(np.min(exact_19.GP.y[0:n_init]),exact_19.GP.y[n_init:(n_init+iters)]) \n",
        "\n",
        "regret_approx_19 = np.log(-approx_output_19 + y_global_orig)\n",
        "regret_exact_19 = np.log(-exact_output_19 + y_global_orig)\n",
        "\n",
        "simple_regret_approx_19 = min_max_array(regret_approx_19)\n",
        "simple_regret_exact_19 = min_max_array(regret_exact_19)\n",
        "\n",
        "min_simple_regret_approx_19 = min(simple_regret_approx_19)\n",
        "min_simple_regret_exact_19 = min(simple_regret_exact_19)\n",
        "\n",
        "min_simple_regret_approx_19, min_simple_regret_exact_19"
      ],
      "execution_count": 73,
      "outputs": [
        {
          "output_type": "execute_result",
          "data": {
            "text/plain": [
              "(2.981603898450976, 2.481834840349269)"
            ]
          },
          "metadata": {},
          "execution_count": 73
        }
      ]
    },
    {
      "cell_type": "code",
      "metadata": {
        "id": "BE1AJ7NsQxf0",
        "colab": {
          "base_uri": "https://localhost:8080/"
        },
        "outputId": "1f886ece-76a9-4ad8-b624-357c42821aa0"
      },
      "source": [
        "### Simple regret minimization: run number = 20\n",
        "\n",
        "approx_output_20 = np.append(np.min(approx_20.GP.y[0:n_init]),approx_20.GP.y[n_init:(n_init+iters)]) \n",
        "exact_output_20 = np.append(np.min(exact_20.GP.y[0:n_init]),exact_20.GP.y[n_init:(n_init+iters)]) \n",
        "\n",
        "regret_approx_20 = np.log(-approx_output_20 + y_global_orig)\n",
        "regret_exact_20 = np.log(-exact_output_20 + y_global_orig)\n",
        "\n",
        "simple_regret_approx_20 = min_max_array(regret_approx_20)\n",
        "simple_regret_exact_20 = min_max_array(regret_exact_20)\n",
        "\n",
        "min_simple_regret_approx_20 = min(simple_regret_approx_20)\n",
        "min_simple_regret_exact_20 = min(simple_regret_exact_20)\n",
        "\n",
        "min_simple_regret_approx_20, min_simple_regret_exact_20"
      ],
      "execution_count": 74,
      "outputs": [
        {
          "output_type": "execute_result",
          "data": {
            "text/plain": [
              "(2.6569340177712832, 2.954641137753433)"
            ]
          },
          "metadata": {},
          "execution_count": 74
        }
      ]
    },
    {
      "cell_type": "code",
      "metadata": {
        "id": "bpX-bKAHQxf1"
      },
      "source": [
        "# Iteration1 :\n",
        "\n",
        "slice1 = 0\n",
        "\n",
        "approx1 = [simple_regret_approx_1[slice1],\n",
        "       simple_regret_approx_2[slice1],\n",
        "       simple_regret_approx_3[slice1],\n",
        "       simple_regret_approx_4[slice1],\n",
        "       simple_regret_approx_5[slice1],\n",
        "       simple_regret_approx_6[slice1],\n",
        "       simple_regret_approx_7[slice1],\n",
        "       simple_regret_approx_8[slice1],\n",
        "       simple_regret_approx_9[slice1],\n",
        "       simple_regret_approx_10[slice1],\n",
        "       simple_regret_approx_11[slice1],\n",
        "       simple_regret_approx_12[slice1],\n",
        "       simple_regret_approx_13[slice1],\n",
        "       simple_regret_approx_14[slice1],\n",
        "       simple_regret_approx_15[slice1],\n",
        "       simple_regret_approx_16[slice1],\n",
        "       simple_regret_approx_17[slice1],\n",
        "       simple_regret_approx_18[slice1],\n",
        "       simple_regret_approx_19[slice1],\n",
        "       simple_regret_approx_20[slice1]]\n",
        "\n",
        "exact1 = [simple_regret_exact_1[slice1],\n",
        "       simple_regret_exact_2[slice1],\n",
        "       simple_regret_exact_3[slice1],\n",
        "       simple_regret_exact_4[slice1],\n",
        "       simple_regret_exact_5[slice1],\n",
        "       simple_regret_exact_6[slice1],\n",
        "       simple_regret_exact_7[slice1],\n",
        "       simple_regret_exact_8[slice1],\n",
        "       simple_regret_exact_9[slice1],\n",
        "       simple_regret_exact_10[slice1],\n",
        "       simple_regret_exact_11[slice1],\n",
        "       simple_regret_exact_12[slice1],\n",
        "       simple_regret_exact_13[slice1],\n",
        "       simple_regret_exact_14[slice1],\n",
        "       simple_regret_exact_15[slice1],\n",
        "       simple_regret_exact_16[slice1],\n",
        "       simple_regret_exact_17[slice1],\n",
        "       simple_regret_exact_18[slice1],\n",
        "       simple_regret_exact_19[slice1],\n",
        "       simple_regret_exact_20[slice1]]\n",
        "\n",
        "approx1_results = pd.DataFrame(approx1).sort_values(by=[0], ascending=False)\n",
        "exact1_results = pd.DataFrame(exact1).sort_values(by=[0], ascending=False)\n",
        "\n",
        "### Best simple regret minimization IQR - approx:\n",
        "lower_approx1 = np.asarray(approx1_results[4:5][0])[0]\n",
        "median_approx1 = np.asarray(approx1_results[9:10][0])[0]\n",
        "upper_approx1 = np.asarray(approx1_results[14:15][0])[0]\n",
        "\n",
        "lower_exact1 = np.asarray(exact1_results[4:5][0])[0]\n",
        "median_exact1 = np.asarray(exact1_results[9:10][0])[0]\n",
        "upper_exact1 = np.asarray(exact1_results[14:15][0])[0]"
      ],
      "execution_count": 75,
      "outputs": []
    },
    {
      "cell_type": "code",
      "metadata": {
        "id": "CgIkJA1xQxf2"
      },
      "source": [
        "# Iteration11 :\n",
        "\n",
        "slice11 = 10\n",
        "\n",
        "approx11 = [simple_regret_approx_1[slice11],\n",
        "       simple_regret_approx_2[slice11],\n",
        "       simple_regret_approx_3[slice11],\n",
        "       simple_regret_approx_4[slice11],\n",
        "       simple_regret_approx_5[slice11],\n",
        "       simple_regret_approx_6[slice11],\n",
        "       simple_regret_approx_7[slice11],\n",
        "       simple_regret_approx_8[slice11],\n",
        "       simple_regret_approx_9[slice11],\n",
        "       simple_regret_approx_10[slice11],\n",
        "       simple_regret_approx_11[slice11],\n",
        "       simple_regret_approx_12[slice11],\n",
        "       simple_regret_approx_13[slice11],\n",
        "       simple_regret_approx_14[slice11],\n",
        "       simple_regret_approx_15[slice11],\n",
        "       simple_regret_approx_16[slice11],\n",
        "       simple_regret_approx_17[slice11],\n",
        "       simple_regret_approx_18[slice11],\n",
        "       simple_regret_approx_19[slice11],\n",
        "       simple_regret_approx_20[slice11]]\n",
        "\n",
        "exact11 = [simple_regret_exact_1[slice11],\n",
        "       simple_regret_exact_2[slice11],\n",
        "       simple_regret_exact_3[slice11],\n",
        "       simple_regret_exact_4[slice11],\n",
        "       simple_regret_exact_5[slice11],\n",
        "       simple_regret_exact_6[slice11],\n",
        "       simple_regret_exact_7[slice11],\n",
        "       simple_regret_exact_8[slice11],\n",
        "       simple_regret_exact_9[slice11],\n",
        "       simple_regret_exact_10[slice11],\n",
        "       simple_regret_exact_11[slice11],\n",
        "       simple_regret_exact_12[slice11],\n",
        "       simple_regret_exact_13[slice11],\n",
        "       simple_regret_exact_14[slice11],\n",
        "       simple_regret_exact_15[slice11],\n",
        "       simple_regret_exact_16[slice11],\n",
        "       simple_regret_exact_17[slice11],\n",
        "       simple_regret_exact_18[slice11],\n",
        "       simple_regret_exact_19[slice11],\n",
        "       simple_regret_exact_20[slice11]]\n",
        "\n",
        "approx11_results = pd.DataFrame(approx11).sort_values(by=[0], ascending=False)\n",
        "exact11_results = pd.DataFrame(exact11).sort_values(by=[0], ascending=False)\n",
        "\n",
        "### Best simple regret minimization IQR - approx:\n",
        "lower_approx11 = np.asarray(approx11_results[4:5][0])[0]\n",
        "median_approx11 = np.asarray(approx11_results[9:10][0])[0]\n",
        "upper_approx11 = np.asarray(approx11_results[14:15][0])[0]\n",
        "\n",
        "lower_exact11 = np.asarray(exact11_results[4:5][0])[0]\n",
        "median_exact11 = np.asarray(exact11_results[9:10][0])[0]\n",
        "upper_exact11 = np.asarray(exact11_results[14:15][0])[0]"
      ],
      "execution_count": 76,
      "outputs": []
    },
    {
      "cell_type": "code",
      "metadata": {
        "id": "MFePDfGuQxf2"
      },
      "source": [
        "# Iteration21 :\n",
        "\n",
        "slice21 = 20\n",
        "\n",
        "approx21 = [simple_regret_approx_1[slice21],\n",
        "       simple_regret_approx_2[slice21],\n",
        "       simple_regret_approx_3[slice21],\n",
        "       simple_regret_approx_4[slice21],\n",
        "       simple_regret_approx_5[slice21],\n",
        "       simple_regret_approx_6[slice21],\n",
        "       simple_regret_approx_7[slice21],\n",
        "       simple_regret_approx_8[slice21],\n",
        "       simple_regret_approx_9[slice21],\n",
        "       simple_regret_approx_10[slice21],\n",
        "       simple_regret_approx_11[slice21],\n",
        "       simple_regret_approx_12[slice21],\n",
        "       simple_regret_approx_13[slice21],\n",
        "       simple_regret_approx_14[slice21],\n",
        "       simple_regret_approx_15[slice21],\n",
        "       simple_regret_approx_16[slice21],\n",
        "       simple_regret_approx_17[slice21],\n",
        "       simple_regret_approx_18[slice21],\n",
        "       simple_regret_approx_19[slice21],\n",
        "       simple_regret_approx_20[slice21]]\n",
        "\n",
        "exact21 = [simple_regret_exact_1[slice21],\n",
        "       simple_regret_exact_2[slice21],\n",
        "       simple_regret_exact_3[slice21],\n",
        "       simple_regret_exact_4[slice21],\n",
        "       simple_regret_exact_5[slice21],\n",
        "       simple_regret_exact_6[slice21],\n",
        "       simple_regret_exact_7[slice21],\n",
        "       simple_regret_exact_8[slice21],\n",
        "       simple_regret_exact_9[slice21],\n",
        "       simple_regret_exact_10[slice21],\n",
        "       simple_regret_exact_11[slice21],\n",
        "       simple_regret_exact_12[slice21],\n",
        "       simple_regret_exact_13[slice21],\n",
        "       simple_regret_exact_14[slice21],\n",
        "       simple_regret_exact_15[slice21],\n",
        "       simple_regret_exact_16[slice21],\n",
        "       simple_regret_exact_17[slice21],\n",
        "       simple_regret_exact_18[slice21],\n",
        "       simple_regret_exact_19[slice21],\n",
        "       simple_regret_exact_20[slice21]]\n",
        "\n",
        "approx21_results = pd.DataFrame(approx21).sort_values(by=[0], ascending=False)\n",
        "exact21_results = pd.DataFrame(exact21).sort_values(by=[0], ascending=False)\n",
        "\n",
        "### Best simple regret minimization IQR - approx:\n",
        "lower_approx21 = np.asarray(approx21_results[4:5][0])[0]\n",
        "median_approx21 = np.asarray(approx21_results[9:10][0])[0]\n",
        "upper_approx21 = np.asarray(approx21_results[14:15][0])[0]\n",
        "\n",
        "lower_exact21 = np.asarray(exact21_results[4:5][0])[0]\n",
        "median_exact21 = np.asarray(exact21_results[9:10][0])[0]\n",
        "upper_exact21 = np.asarray(exact21_results[14:15][0])[0]"
      ],
      "execution_count": 77,
      "outputs": []
    },
    {
      "cell_type": "code",
      "metadata": {
        "id": "PrRDB1kfQxf3"
      },
      "source": [
        "# Iteration2 :\n",
        "\n",
        "slice2 = 1\n",
        "\n",
        "approx2 = [simple_regret_approx_1[slice2],\n",
        "       simple_regret_approx_2[slice2],\n",
        "       simple_regret_approx_3[slice2],\n",
        "       simple_regret_approx_4[slice2],\n",
        "       simple_regret_approx_5[slice2],\n",
        "       simple_regret_approx_6[slice2],\n",
        "       simple_regret_approx_7[slice2],\n",
        "       simple_regret_approx_8[slice2],\n",
        "       simple_regret_approx_9[slice2],\n",
        "       simple_regret_approx_10[slice2],\n",
        "       simple_regret_approx_11[slice2],\n",
        "       simple_regret_approx_12[slice2],\n",
        "       simple_regret_approx_13[slice2],\n",
        "       simple_regret_approx_14[slice2],\n",
        "       simple_regret_approx_15[slice2],\n",
        "       simple_regret_approx_16[slice2],\n",
        "       simple_regret_approx_17[slice2],\n",
        "       simple_regret_approx_18[slice2],\n",
        "       simple_regret_approx_19[slice2],\n",
        "       simple_regret_approx_20[slice2]]\n",
        "\n",
        "exact2 = [simple_regret_exact_1[slice2],\n",
        "       simple_regret_exact_2[slice2],\n",
        "       simple_regret_exact_3[slice2],\n",
        "       simple_regret_exact_4[slice2],\n",
        "       simple_regret_exact_5[slice2],\n",
        "       simple_regret_exact_6[slice2],\n",
        "       simple_regret_exact_7[slice2],\n",
        "       simple_regret_exact_8[slice2],\n",
        "       simple_regret_exact_9[slice2],\n",
        "       simple_regret_exact_10[slice2],\n",
        "       simple_regret_exact_11[slice2],\n",
        "       simple_regret_exact_12[slice2],\n",
        "       simple_regret_exact_13[slice2],\n",
        "       simple_regret_exact_14[slice2],\n",
        "       simple_regret_exact_15[slice2],\n",
        "       simple_regret_exact_16[slice2],\n",
        "       simple_regret_exact_17[slice2],\n",
        "       simple_regret_exact_18[slice2],\n",
        "       simple_regret_exact_19[slice2],\n",
        "       simple_regret_exact_20[slice2]]\n",
        "\n",
        "approx2_results = pd.DataFrame(approx2).sort_values(by=[0], ascending=False)\n",
        "exact2_results = pd.DataFrame(exact2).sort_values(by=[0], ascending=False)\n",
        "\n",
        "### Best simple regret minimization IQR - approx:\n",
        "lower_approx2 = np.asarray(approx2_results[4:5][0])[0]\n",
        "median_approx2 = np.asarray(approx2_results[9:10][0])[0]\n",
        "upper_approx2 = np.asarray(approx2_results[14:15][0])[0]\n",
        "\n",
        "lower_exact2 = np.asarray(exact2_results[4:5][0])[0]\n",
        "median_exact2 = np.asarray(exact2_results[9:10][0])[0]\n",
        "upper_exact2 = np.asarray(exact2_results[14:15][0])[0]"
      ],
      "execution_count": 78,
      "outputs": []
    },
    {
      "cell_type": "code",
      "metadata": {
        "id": "B8ncJDYeQxf3"
      },
      "source": [
        "# Iteration12 :\n",
        "\n",
        "slice12 = 11\n",
        "\n",
        "approx12 = [simple_regret_approx_1[slice12],\n",
        "       simple_regret_approx_2[slice12],\n",
        "       simple_regret_approx_3[slice12],\n",
        "       simple_regret_approx_4[slice12],\n",
        "       simple_regret_approx_5[slice12],\n",
        "       simple_regret_approx_6[slice12],\n",
        "       simple_regret_approx_7[slice12],\n",
        "       simple_regret_approx_8[slice12],\n",
        "       simple_regret_approx_9[slice12],\n",
        "       simple_regret_approx_10[slice12],\n",
        "       simple_regret_approx_11[slice12],\n",
        "       simple_regret_approx_12[slice12],\n",
        "       simple_regret_approx_13[slice12],\n",
        "       simple_regret_approx_14[slice12],\n",
        "       simple_regret_approx_15[slice12],\n",
        "       simple_regret_approx_16[slice12],\n",
        "       simple_regret_approx_17[slice12],\n",
        "       simple_regret_approx_18[slice12],\n",
        "       simple_regret_approx_19[slice12],\n",
        "       simple_regret_approx_20[slice12]]\n",
        "\n",
        "exact12 = [simple_regret_exact_1[slice12],\n",
        "       simple_regret_exact_2[slice12],\n",
        "       simple_regret_exact_3[slice12],\n",
        "       simple_regret_exact_4[slice12],\n",
        "       simple_regret_exact_5[slice12],\n",
        "       simple_regret_exact_6[slice12],\n",
        "       simple_regret_exact_7[slice12],\n",
        "       simple_regret_exact_8[slice12],\n",
        "       simple_regret_exact_9[slice12],\n",
        "       simple_regret_exact_10[slice12],\n",
        "       simple_regret_exact_11[slice12],\n",
        "       simple_regret_exact_12[slice12],\n",
        "       simple_regret_exact_13[slice12],\n",
        "       simple_regret_exact_14[slice12],\n",
        "       simple_regret_exact_15[slice12],\n",
        "       simple_regret_exact_16[slice12],\n",
        "       simple_regret_exact_17[slice12],\n",
        "       simple_regret_exact_18[slice12],\n",
        "       simple_regret_exact_19[slice12],\n",
        "       simple_regret_exact_20[slice12]]\n",
        "\n",
        "approx12_results = pd.DataFrame(approx12).sort_values(by=[0], ascending=False)\n",
        "exact12_results = pd.DataFrame(exact12).sort_values(by=[0], ascending=False)\n",
        "\n",
        "### Best simple regret minimization IQR - approx:\n",
        "lower_approx12 = np.asarray(approx12_results[4:5][0])[0]\n",
        "median_approx12 = np.asarray(approx12_results[9:10][0])[0]\n",
        "upper_approx12 = np.asarray(approx12_results[14:15][0])[0]\n",
        "\n",
        "lower_exact12 = np.asarray(exact12_results[4:5][0])[0]\n",
        "median_exact12 = np.asarray(exact12_results[9:10][0])[0]\n",
        "upper_exact12 = np.asarray(exact12_results[14:15][0])[0]"
      ],
      "execution_count": 79,
      "outputs": []
    },
    {
      "cell_type": "code",
      "metadata": {
        "id": "Jn4KpGvcQxf4"
      },
      "source": [
        "# Iteration3 :\n",
        "\n",
        "slice3 = 2\n",
        "\n",
        "approx3 = [simple_regret_approx_1[slice3],\n",
        "       simple_regret_approx_2[slice3],\n",
        "       simple_regret_approx_3[slice3],\n",
        "       simple_regret_approx_4[slice3],\n",
        "       simple_regret_approx_5[slice3],\n",
        "       simple_regret_approx_6[slice3],\n",
        "       simple_regret_approx_7[slice3],\n",
        "       simple_regret_approx_8[slice3],\n",
        "       simple_regret_approx_9[slice3],\n",
        "       simple_regret_approx_10[slice3],\n",
        "       simple_regret_approx_11[slice3],\n",
        "       simple_regret_approx_12[slice3],\n",
        "       simple_regret_approx_13[slice3],\n",
        "       simple_regret_approx_14[slice3],\n",
        "       simple_regret_approx_15[slice3],\n",
        "       simple_regret_approx_16[slice3],\n",
        "       simple_regret_approx_17[slice3],\n",
        "       simple_regret_approx_18[slice3],\n",
        "       simple_regret_approx_19[slice3],\n",
        "       simple_regret_approx_20[slice3]]\n",
        "\n",
        "exact3 = [simple_regret_exact_1[slice3],\n",
        "       simple_regret_exact_2[slice3],\n",
        "       simple_regret_exact_3[slice3],\n",
        "       simple_regret_exact_4[slice3],\n",
        "       simple_regret_exact_5[slice3],\n",
        "       simple_regret_exact_6[slice3],\n",
        "       simple_regret_exact_7[slice3],\n",
        "       simple_regret_exact_8[slice3],\n",
        "       simple_regret_exact_9[slice3],\n",
        "       simple_regret_exact_10[slice3],\n",
        "       simple_regret_exact_11[slice3],\n",
        "       simple_regret_exact_12[slice3],\n",
        "       simple_regret_exact_13[slice3],\n",
        "       simple_regret_exact_14[slice3],\n",
        "       simple_regret_exact_15[slice3],\n",
        "       simple_regret_exact_16[slice3],\n",
        "       simple_regret_exact_17[slice3],\n",
        "       simple_regret_exact_18[slice3],\n",
        "       simple_regret_exact_19[slice3],\n",
        "       simple_regret_exact_20[slice3]]\n",
        "\n",
        "approx3_results = pd.DataFrame(approx3).sort_values(by=[0], ascending=False)\n",
        "exact3_results = pd.DataFrame(exact3).sort_values(by=[0], ascending=False)\n",
        "\n",
        "### Best simple regret minimization IQR - approx:\n",
        "lower_approx3 = np.asarray(approx3_results[4:5][0])[0]\n",
        "median_approx3 = np.asarray(approx3_results[9:10][0])[0]\n",
        "upper_approx3 = np.asarray(approx3_results[14:15][0])[0]\n",
        "\n",
        "lower_exact3 = np.asarray(exact3_results[4:5][0])[0]\n",
        "median_exact3 = np.asarray(exact3_results[9:10][0])[0]\n",
        "upper_exact3 = np.asarray(exact3_results[14:15][0])[0]"
      ],
      "execution_count": 80,
      "outputs": []
    },
    {
      "cell_type": "code",
      "metadata": {
        "id": "plf83wxrQxf4"
      },
      "source": [
        "# Iteration13 :\n",
        "\n",
        "slice13 = 12\n",
        "\n",
        "approx13 = [simple_regret_approx_1[slice13],\n",
        "       simple_regret_approx_2[slice13],\n",
        "       simple_regret_approx_3[slice13],\n",
        "       simple_regret_approx_4[slice13],\n",
        "       simple_regret_approx_5[slice13],\n",
        "       simple_regret_approx_6[slice13],\n",
        "       simple_regret_approx_7[slice13],\n",
        "       simple_regret_approx_8[slice13],\n",
        "       simple_regret_approx_9[slice13],\n",
        "       simple_regret_approx_10[slice13],\n",
        "       simple_regret_approx_11[slice13],\n",
        "       simple_regret_approx_12[slice13],\n",
        "       simple_regret_approx_13[slice13],\n",
        "       simple_regret_approx_14[slice13],\n",
        "       simple_regret_approx_15[slice13],\n",
        "       simple_regret_approx_16[slice13],\n",
        "       simple_regret_approx_17[slice13],\n",
        "       simple_regret_approx_18[slice13],\n",
        "       simple_regret_approx_19[slice13],\n",
        "       simple_regret_approx_20[slice13]]\n",
        "\n",
        "exact13 = [simple_regret_exact_1[slice13],\n",
        "       simple_regret_exact_2[slice13],\n",
        "       simple_regret_exact_3[slice13],\n",
        "       simple_regret_exact_4[slice13],\n",
        "       simple_regret_exact_5[slice13],\n",
        "       simple_regret_exact_6[slice13],\n",
        "       simple_regret_exact_7[slice13],\n",
        "       simple_regret_exact_8[slice13],\n",
        "       simple_regret_exact_9[slice13],\n",
        "       simple_regret_exact_10[slice13],\n",
        "       simple_regret_exact_11[slice13],\n",
        "       simple_regret_exact_12[slice13],\n",
        "       simple_regret_exact_13[slice13],\n",
        "       simple_regret_exact_14[slice13],\n",
        "       simple_regret_exact_15[slice13],\n",
        "       simple_regret_exact_16[slice13],\n",
        "       simple_regret_exact_17[slice13],\n",
        "       simple_regret_exact_18[slice13],\n",
        "       simple_regret_exact_19[slice13],\n",
        "       simple_regret_exact_20[slice13]]\n",
        "\n",
        "approx13_results = pd.DataFrame(approx13).sort_values(by=[0], ascending=False)\n",
        "exact13_results = pd.DataFrame(exact13).sort_values(by=[0], ascending=False)\n",
        "\n",
        "### Best simple regret minimization IQR - approx:\n",
        "lower_approx13 = np.asarray(approx13_results[4:5][0])[0]\n",
        "median_approx13 = np.asarray(approx13_results[9:10][0])[0]\n",
        "upper_approx13 = np.asarray(approx13_results[14:15][0])[0]\n",
        "\n",
        "lower_exact13 = np.asarray(exact13_results[4:5][0])[0]\n",
        "median_exact13 = np.asarray(exact13_results[9:10][0])[0]\n",
        "upper_exact13 = np.asarray(exact13_results[14:15][0])[0]"
      ],
      "execution_count": 81,
      "outputs": []
    },
    {
      "cell_type": "code",
      "metadata": {
        "id": "9A7mlVvJQxf5"
      },
      "source": [
        "# Iteration4 :\n",
        "\n",
        "slice4 = 3\n",
        "\n",
        "approx4 = [simple_regret_approx_1[slice4],\n",
        "       simple_regret_approx_2[slice4],\n",
        "       simple_regret_approx_3[slice4],\n",
        "       simple_regret_approx_4[slice4],\n",
        "       simple_regret_approx_5[slice4],\n",
        "       simple_regret_approx_6[slice4],\n",
        "       simple_regret_approx_7[slice4],\n",
        "       simple_regret_approx_8[slice4],\n",
        "       simple_regret_approx_9[slice4],\n",
        "       simple_regret_approx_10[slice4],\n",
        "       simple_regret_approx_11[slice4],\n",
        "       simple_regret_approx_12[slice4],\n",
        "       simple_regret_approx_13[slice4],\n",
        "       simple_regret_approx_14[slice4],\n",
        "       simple_regret_approx_15[slice4],\n",
        "       simple_regret_approx_16[slice4],\n",
        "       simple_regret_approx_17[slice4],\n",
        "       simple_regret_approx_18[slice4],\n",
        "       simple_regret_approx_19[slice4],\n",
        "       simple_regret_approx_20[slice4]]\n",
        "\n",
        "exact4 = [simple_regret_exact_1[slice4],\n",
        "       simple_regret_exact_2[slice4],\n",
        "       simple_regret_exact_3[slice4],\n",
        "       simple_regret_exact_4[slice4],\n",
        "       simple_regret_exact_5[slice4],\n",
        "       simple_regret_exact_6[slice4],\n",
        "       simple_regret_exact_7[slice4],\n",
        "       simple_regret_exact_8[slice4],\n",
        "       simple_regret_exact_9[slice4],\n",
        "       simple_regret_exact_10[slice4],\n",
        "       simple_regret_exact_11[slice4],\n",
        "       simple_regret_exact_12[slice4],\n",
        "       simple_regret_exact_13[slice4],\n",
        "       simple_regret_exact_14[slice4],\n",
        "       simple_regret_exact_15[slice4],\n",
        "       simple_regret_exact_16[slice4],\n",
        "       simple_regret_exact_17[slice4],\n",
        "       simple_regret_exact_18[slice4],\n",
        "       simple_regret_exact_19[slice4],\n",
        "       simple_regret_exact_20[slice4]]\n",
        "\n",
        "approx4_results = pd.DataFrame(approx4).sort_values(by=[0], ascending=False)\n",
        "exact4_results = pd.DataFrame(exact4).sort_values(by=[0], ascending=False)\n",
        "\n",
        "### Best simple regret minimization IQR - approx:\n",
        "lower_approx4 = np.asarray(approx4_results[4:5][0])[0]\n",
        "median_approx4 = np.asarray(approx4_results[9:10][0])[0]\n",
        "upper_approx4 = np.asarray(approx4_results[14:15][0])[0]\n",
        "\n",
        "lower_exact4 = np.asarray(exact4_results[4:5][0])[0]\n",
        "median_exact4 = np.asarray(exact4_results[9:10][0])[0]\n",
        "upper_exact4 = np.asarray(exact4_results[14:15][0])[0]"
      ],
      "execution_count": 82,
      "outputs": []
    },
    {
      "cell_type": "code",
      "metadata": {
        "id": "ijq-rioYQxf5"
      },
      "source": [
        "# Iteration14 :\n",
        "\n",
        "slice14 = 13\n",
        "\n",
        "approx14 = [simple_regret_approx_1[slice14],\n",
        "       simple_regret_approx_2[slice14],\n",
        "       simple_regret_approx_3[slice14],\n",
        "       simple_regret_approx_4[slice14],\n",
        "       simple_regret_approx_5[slice14],\n",
        "       simple_regret_approx_6[slice14],\n",
        "       simple_regret_approx_7[slice14],\n",
        "       simple_regret_approx_8[slice14],\n",
        "       simple_regret_approx_9[slice14],\n",
        "       simple_regret_approx_10[slice14],\n",
        "       simple_regret_approx_11[slice14],\n",
        "       simple_regret_approx_12[slice14],\n",
        "       simple_regret_approx_13[slice14],\n",
        "       simple_regret_approx_14[slice14],\n",
        "       simple_regret_approx_15[slice14],\n",
        "       simple_regret_approx_16[slice14],\n",
        "       simple_regret_approx_17[slice14],\n",
        "       simple_regret_approx_18[slice14],\n",
        "       simple_regret_approx_19[slice14],\n",
        "       simple_regret_approx_20[slice14]]\n",
        "\n",
        "exact14 = [simple_regret_exact_1[slice14],\n",
        "       simple_regret_exact_2[slice14],\n",
        "       simple_regret_exact_3[slice14],\n",
        "       simple_regret_exact_4[slice14],\n",
        "       simple_regret_exact_5[slice14],\n",
        "       simple_regret_exact_6[slice14],\n",
        "       simple_regret_exact_7[slice14],\n",
        "       simple_regret_exact_8[slice14],\n",
        "       simple_regret_exact_9[slice14],\n",
        "       simple_regret_exact_10[slice14],\n",
        "       simple_regret_exact_11[slice14],\n",
        "       simple_regret_exact_12[slice14],\n",
        "       simple_regret_exact_13[slice14],\n",
        "       simple_regret_exact_14[slice14],\n",
        "       simple_regret_exact_15[slice14],\n",
        "       simple_regret_exact_16[slice14],\n",
        "       simple_regret_exact_17[slice14],\n",
        "       simple_regret_exact_18[slice14],\n",
        "       simple_regret_exact_19[slice14],\n",
        "       simple_regret_exact_20[slice14]]\n",
        "\n",
        "approx14_results = pd.DataFrame(approx14).sort_values(by=[0], ascending=False)\n",
        "exact14_results = pd.DataFrame(exact14).sort_values(by=[0], ascending=False)\n",
        "\n",
        "### Best simple regret minimization IQR - approx:\n",
        "lower_approx14 = np.asarray(approx14_results[4:5][0])[0]\n",
        "median_approx14 = np.asarray(approx14_results[9:10][0])[0]\n",
        "upper_approx14 = np.asarray(approx14_results[14:15][0])[0]\n",
        "\n",
        "lower_exact14 = np.asarray(exact14_results[4:5][0])[0]\n",
        "median_exact14 = np.asarray(exact14_results[9:10][0])[0]\n",
        "upper_exact14 = np.asarray(exact14_results[14:15][0])[0]"
      ],
      "execution_count": 83,
      "outputs": []
    },
    {
      "cell_type": "code",
      "metadata": {
        "id": "XINlZjoTd-ZK"
      },
      "source": [
        "# Iteration5 :\n",
        "\n",
        "slice5 = 4\n",
        "\n",
        "approx5 = [simple_regret_approx_1[slice5],\n",
        "       simple_regret_approx_2[slice5],\n",
        "       simple_regret_approx_3[slice5],\n",
        "       simple_regret_approx_4[slice5],\n",
        "       simple_regret_approx_5[slice5],\n",
        "       simple_regret_approx_6[slice5],\n",
        "       simple_regret_approx_7[slice5],\n",
        "       simple_regret_approx_8[slice5],\n",
        "       simple_regret_approx_9[slice5],\n",
        "       simple_regret_approx_10[slice5],\n",
        "       simple_regret_approx_11[slice5],\n",
        "       simple_regret_approx_12[slice5],\n",
        "       simple_regret_approx_13[slice5],\n",
        "       simple_regret_approx_14[slice5],\n",
        "       simple_regret_approx_15[slice5],\n",
        "       simple_regret_approx_16[slice5],\n",
        "       simple_regret_approx_17[slice5],\n",
        "       simple_regret_approx_18[slice5],\n",
        "       simple_regret_approx_19[slice5],\n",
        "       simple_regret_approx_20[slice5]]\n",
        "\n",
        "exact5 = [simple_regret_exact_1[slice5],\n",
        "       simple_regret_exact_2[slice5],\n",
        "       simple_regret_exact_3[slice5],\n",
        "       simple_regret_exact_4[slice5],\n",
        "       simple_regret_exact_5[slice5],\n",
        "       simple_regret_exact_6[slice5],\n",
        "       simple_regret_exact_7[slice5],\n",
        "       simple_regret_exact_8[slice5],\n",
        "       simple_regret_exact_9[slice5],\n",
        "       simple_regret_exact_10[slice5],\n",
        "       simple_regret_exact_11[slice5],\n",
        "       simple_regret_exact_12[slice5],\n",
        "       simple_regret_exact_13[slice5],\n",
        "       simple_regret_exact_14[slice5],\n",
        "       simple_regret_exact_15[slice5],\n",
        "       simple_regret_exact_16[slice5],\n",
        "       simple_regret_exact_17[slice5],\n",
        "       simple_regret_exact_18[slice5],\n",
        "       simple_regret_exact_19[slice5],\n",
        "       simple_regret_exact_20[slice5]]\n",
        "\n",
        "approx5_results = pd.DataFrame(approx5).sort_values(by=[0], ascending=False)\n",
        "exact5_results = pd.DataFrame(exact5).sort_values(by=[0], ascending=False)\n",
        "\n",
        "### Best simple regret minimization IQR - approx:\n",
        "lower_approx5 = np.asarray(approx5_results[4:5][0])[0]\n",
        "median_approx5 = np.asarray(approx5_results[9:10][0])[0]\n",
        "upper_approx5 = np.asarray(approx5_results[14:15][0])[0]\n",
        "\n",
        "lower_exact5 = np.asarray(exact5_results[4:5][0])[0]\n",
        "median_exact5 = np.asarray(exact5_results[9:10][0])[0]\n",
        "upper_exact5 = np.asarray(exact5_results[14:15][0])[0]"
      ],
      "execution_count": 84,
      "outputs": []
    },
    {
      "cell_type": "code",
      "metadata": {
        "id": "4aZ7C8sOQxf6"
      },
      "source": [
        "# Iteration15 :\n",
        "\n",
        "slice15 = 14\n",
        "\n",
        "approx15 = [simple_regret_approx_1[slice15],\n",
        "       simple_regret_approx_2[slice15],\n",
        "       simple_regret_approx_3[slice15],\n",
        "       simple_regret_approx_4[slice15],\n",
        "       simple_regret_approx_5[slice15],\n",
        "       simple_regret_approx_6[slice15],\n",
        "       simple_regret_approx_7[slice15],\n",
        "       simple_regret_approx_8[slice15],\n",
        "       simple_regret_approx_9[slice15],\n",
        "       simple_regret_approx_10[slice15],\n",
        "       simple_regret_approx_11[slice15],\n",
        "       simple_regret_approx_12[slice15],\n",
        "       simple_regret_approx_13[slice15],\n",
        "       simple_regret_approx_14[slice15],\n",
        "       simple_regret_approx_15[slice15],\n",
        "       simple_regret_approx_16[slice15],\n",
        "       simple_regret_approx_17[slice15],\n",
        "       simple_regret_approx_18[slice15],\n",
        "       simple_regret_approx_19[slice15],\n",
        "       simple_regret_approx_20[slice15]]\n",
        "\n",
        "exact15 = [simple_regret_exact_1[slice15],\n",
        "       simple_regret_exact_2[slice15],\n",
        "       simple_regret_exact_3[slice15],\n",
        "       simple_regret_exact_4[slice15],\n",
        "       simple_regret_exact_5[slice15],\n",
        "       simple_regret_exact_6[slice15],\n",
        "       simple_regret_exact_7[slice15],\n",
        "       simple_regret_exact_8[slice15],\n",
        "       simple_regret_exact_9[slice15],\n",
        "       simple_regret_exact_10[slice15],\n",
        "       simple_regret_exact_11[slice15],\n",
        "       simple_regret_exact_12[slice15],\n",
        "       simple_regret_exact_13[slice15],\n",
        "       simple_regret_exact_14[slice15],\n",
        "       simple_regret_exact_15[slice15],\n",
        "       simple_regret_exact_16[slice15],\n",
        "       simple_regret_exact_17[slice15],\n",
        "       simple_regret_exact_18[slice15],\n",
        "       simple_regret_exact_19[slice15],\n",
        "       simple_regret_exact_20[slice15]]\n",
        "\n",
        "approx15_results = pd.DataFrame(approx15).sort_values(by=[0], ascending=False)\n",
        "exact15_results = pd.DataFrame(exact15).sort_values(by=[0], ascending=False)\n",
        "\n",
        "### Best simple regret minimization IQR - approx:\n",
        "lower_approx15 = np.asarray(approx15_results[4:5][0])[0]\n",
        "median_approx15 = np.asarray(approx15_results[9:10][0])[0]\n",
        "upper_approx15 = np.asarray(approx15_results[14:15][0])[0]\n",
        "\n",
        "lower_exact15 = np.asarray(exact15_results[4:5][0])[0]\n",
        "median_exact15 = np.asarray(exact15_results[9:10][0])[0]\n",
        "upper_exact15 = np.asarray(exact15_results[14:15][0])[0]"
      ],
      "execution_count": 85,
      "outputs": []
    },
    {
      "cell_type": "code",
      "metadata": {
        "id": "KJINKhv1Qxf6"
      },
      "source": [
        "# Iteration6 :\n",
        "\n",
        "slice6 = 5\n",
        "\n",
        "approx6 = [simple_regret_approx_1[slice6],\n",
        "       simple_regret_approx_2[slice6],\n",
        "       simple_regret_approx_3[slice6],\n",
        "       simple_regret_approx_4[slice6],\n",
        "       simple_regret_approx_5[slice6],\n",
        "       simple_regret_approx_6[slice6],\n",
        "       simple_regret_approx_7[slice6],\n",
        "       simple_regret_approx_8[slice6],\n",
        "       simple_regret_approx_9[slice6],\n",
        "       simple_regret_approx_10[slice6],\n",
        "       simple_regret_approx_11[slice6],\n",
        "       simple_regret_approx_12[slice6],\n",
        "       simple_regret_approx_13[slice6],\n",
        "       simple_regret_approx_14[slice6],\n",
        "       simple_regret_approx_15[slice6],\n",
        "       simple_regret_approx_16[slice6],\n",
        "       simple_regret_approx_17[slice6],\n",
        "       simple_regret_approx_18[slice6],\n",
        "       simple_regret_approx_19[slice6],\n",
        "       simple_regret_approx_20[slice6]]\n",
        "\n",
        "exact6 = [simple_regret_exact_1[slice6],\n",
        "       simple_regret_exact_2[slice6],\n",
        "       simple_regret_exact_3[slice6],\n",
        "       simple_regret_exact_4[slice6],\n",
        "       simple_regret_exact_5[slice6],\n",
        "       simple_regret_exact_6[slice6],\n",
        "       simple_regret_exact_7[slice6],\n",
        "       simple_regret_exact_8[slice6],\n",
        "       simple_regret_exact_9[slice6],\n",
        "       simple_regret_exact_10[slice6],\n",
        "       simple_regret_exact_11[slice6],\n",
        "       simple_regret_exact_12[slice6],\n",
        "       simple_regret_exact_13[slice6],\n",
        "       simple_regret_exact_14[slice6],\n",
        "       simple_regret_exact_15[slice6],\n",
        "       simple_regret_exact_16[slice6],\n",
        "       simple_regret_exact_17[slice6],\n",
        "       simple_regret_exact_18[slice6],\n",
        "       simple_regret_exact_19[slice6],\n",
        "       simple_regret_exact_20[slice6]]\n",
        "\n",
        "approx6_results = pd.DataFrame(approx6).sort_values(by=[0], ascending=False)\n",
        "exact6_results = pd.DataFrame(exact6).sort_values(by=[0], ascending=False)\n",
        "\n",
        "### Best simple regret minimization IQR - approx:\n",
        "lower_approx6 = np.asarray(approx6_results[4:5][0])[0]\n",
        "median_approx6 = np.asarray(approx6_results[9:10][0])[0]\n",
        "upper_approx6 = np.asarray(approx6_results[14:15][0])[0]\n",
        "\n",
        "lower_exact6 = np.asarray(exact6_results[4:5][0])[0]\n",
        "median_exact6 = np.asarray(exact6_results[9:10][0])[0]\n",
        "upper_exact6 = np.asarray(exact6_results[14:15][0])[0]"
      ],
      "execution_count": 86,
      "outputs": []
    },
    {
      "cell_type": "code",
      "metadata": {
        "id": "nwC5N1FsQxf7"
      },
      "source": [
        "# Iteration16 :\n",
        "\n",
        "slice16 = 15\n",
        "\n",
        "approx16 = [simple_regret_approx_1[slice16],\n",
        "       simple_regret_approx_2[slice16],\n",
        "       simple_regret_approx_3[slice16],\n",
        "       simple_regret_approx_4[slice16],\n",
        "       simple_regret_approx_5[slice16],\n",
        "       simple_regret_approx_6[slice16],\n",
        "       simple_regret_approx_7[slice16],\n",
        "       simple_regret_approx_8[slice16],\n",
        "       simple_regret_approx_9[slice16],\n",
        "       simple_regret_approx_10[slice16],\n",
        "       simple_regret_approx_11[slice16],\n",
        "       simple_regret_approx_12[slice16],\n",
        "       simple_regret_approx_13[slice16],\n",
        "       simple_regret_approx_14[slice16],\n",
        "       simple_regret_approx_15[slice16],\n",
        "       simple_regret_approx_16[slice16],\n",
        "       simple_regret_approx_17[slice16],\n",
        "       simple_regret_approx_18[slice16],\n",
        "       simple_regret_approx_19[slice16],\n",
        "       simple_regret_approx_20[slice16]]\n",
        "\n",
        "exact16 = [simple_regret_exact_1[slice16],\n",
        "       simple_regret_exact_2[slice16],\n",
        "       simple_regret_exact_3[slice16],\n",
        "       simple_regret_exact_4[slice16],\n",
        "       simple_regret_exact_5[slice16],\n",
        "       simple_regret_exact_6[slice16],\n",
        "       simple_regret_exact_7[slice16],\n",
        "       simple_regret_exact_8[slice16],\n",
        "       simple_regret_exact_9[slice16],\n",
        "       simple_regret_exact_10[slice16],\n",
        "       simple_regret_exact_11[slice16],\n",
        "       simple_regret_exact_12[slice16],\n",
        "       simple_regret_exact_13[slice16],\n",
        "       simple_regret_exact_14[slice16],\n",
        "       simple_regret_exact_15[slice16],\n",
        "       simple_regret_exact_16[slice16],\n",
        "       simple_regret_exact_17[slice16],\n",
        "       simple_regret_exact_18[slice16],\n",
        "       simple_regret_exact_19[slice16],\n",
        "       simple_regret_exact_20[slice16]]\n",
        "\n",
        "approx16_results = pd.DataFrame(approx16).sort_values(by=[0], ascending=False)\n",
        "exact16_results = pd.DataFrame(exact16).sort_values(by=[0], ascending=False)\n",
        "\n",
        "### Best simple regret minimization IQR - approx:\n",
        "lower_approx16 = np.asarray(approx16_results[4:5][0])[0]\n",
        "median_approx16 = np.asarray(approx16_results[9:10][0])[0]\n",
        "upper_approx16 = np.asarray(approx16_results[14:15][0])[0]\n",
        "\n",
        "lower_exact16 = np.asarray(exact16_results[4:5][0])[0]\n",
        "median_exact16 = np.asarray(exact16_results[9:10][0])[0]\n",
        "upper_exact16 = np.asarray(exact16_results[14:15][0])[0]"
      ],
      "execution_count": 87,
      "outputs": []
    },
    {
      "cell_type": "code",
      "metadata": {
        "id": "TrPV0AfnQxf7"
      },
      "source": [
        "# Iteration7 :\n",
        "\n",
        "slice7 = 6\n",
        "\n",
        "approx7 = [simple_regret_approx_1[slice7],\n",
        "       simple_regret_approx_2[slice7],\n",
        "       simple_regret_approx_3[slice7],\n",
        "       simple_regret_approx_4[slice7],\n",
        "       simple_regret_approx_5[slice7],\n",
        "       simple_regret_approx_6[slice7],\n",
        "       simple_regret_approx_7[slice7],\n",
        "       simple_regret_approx_8[slice7],\n",
        "       simple_regret_approx_9[slice7],\n",
        "       simple_regret_approx_10[slice7],\n",
        "       simple_regret_approx_11[slice7],\n",
        "       simple_regret_approx_12[slice7],\n",
        "       simple_regret_approx_13[slice7],\n",
        "       simple_regret_approx_14[slice7],\n",
        "       simple_regret_approx_15[slice7],\n",
        "       simple_regret_approx_16[slice7],\n",
        "       simple_regret_approx_17[slice7],\n",
        "       simple_regret_approx_18[slice7],\n",
        "       simple_regret_approx_19[slice7],\n",
        "       simple_regret_approx_20[slice7]]\n",
        "\n",
        "exact7 = [simple_regret_exact_1[slice7],\n",
        "       simple_regret_exact_2[slice7],\n",
        "       simple_regret_exact_3[slice7],\n",
        "       simple_regret_exact_4[slice7],\n",
        "       simple_regret_exact_5[slice7],\n",
        "       simple_regret_exact_6[slice7],\n",
        "       simple_regret_exact_7[slice7],\n",
        "       simple_regret_exact_8[slice7],\n",
        "       simple_regret_exact_9[slice7],\n",
        "       simple_regret_exact_10[slice7],\n",
        "       simple_regret_exact_11[slice7],\n",
        "       simple_regret_exact_12[slice7],\n",
        "       simple_regret_exact_13[slice7],\n",
        "       simple_regret_exact_14[slice7],\n",
        "       simple_regret_exact_15[slice7],\n",
        "       simple_regret_exact_16[slice7],\n",
        "       simple_regret_exact_17[slice7],\n",
        "       simple_regret_exact_18[slice7],\n",
        "       simple_regret_exact_19[slice7],\n",
        "       simple_regret_exact_20[slice7]]\n",
        "\n",
        "approx7_results = pd.DataFrame(approx7).sort_values(by=[0], ascending=False)\n",
        "exact7_results = pd.DataFrame(exact7).sort_values(by=[0], ascending=False)\n",
        "\n",
        "### Best simple regret minimization IQR - approx:\n",
        "lower_approx7 = np.asarray(approx7_results[4:5][0])[0]\n",
        "median_approx7 = np.asarray(approx7_results[9:10][0])[0]\n",
        "upper_approx7 = np.asarray(approx7_results[14:15][0])[0]\n",
        "\n",
        "lower_exact7 = np.asarray(exact7_results[4:5][0])[0]\n",
        "median_exact7 = np.asarray(exact7_results[9:10][0])[0]\n",
        "upper_exact7 = np.asarray(exact7_results[14:15][0])[0]"
      ],
      "execution_count": 88,
      "outputs": []
    },
    {
      "cell_type": "code",
      "metadata": {
        "id": "Ub_-wpK4Qxf8"
      },
      "source": [
        "# Iteration17 :\n",
        "\n",
        "slice17 = 16\n",
        "\n",
        "approx17 = [simple_regret_approx_1[slice17],\n",
        "       simple_regret_approx_2[slice17],\n",
        "       simple_regret_approx_3[slice17],\n",
        "       simple_regret_approx_4[slice17],\n",
        "       simple_regret_approx_5[slice17],\n",
        "       simple_regret_approx_6[slice17],\n",
        "       simple_regret_approx_7[slice17],\n",
        "       simple_regret_approx_8[slice17],\n",
        "       simple_regret_approx_9[slice17],\n",
        "       simple_regret_approx_10[slice17],\n",
        "       simple_regret_approx_11[slice17],\n",
        "       simple_regret_approx_12[slice17],\n",
        "       simple_regret_approx_13[slice17],\n",
        "       simple_regret_approx_14[slice17],\n",
        "       simple_regret_approx_15[slice17],\n",
        "       simple_regret_approx_16[slice17],\n",
        "       simple_regret_approx_17[slice17],\n",
        "       simple_regret_approx_18[slice17],\n",
        "       simple_regret_approx_19[slice17],\n",
        "       simple_regret_approx_20[slice17]]\n",
        "\n",
        "exact17 = [simple_regret_exact_1[slice17],\n",
        "       simple_regret_exact_2[slice17],\n",
        "       simple_regret_exact_3[slice17],\n",
        "       simple_regret_exact_4[slice17],\n",
        "       simple_regret_exact_5[slice17],\n",
        "       simple_regret_exact_6[slice17],\n",
        "       simple_regret_exact_7[slice17],\n",
        "       simple_regret_exact_8[slice17],\n",
        "       simple_regret_exact_9[slice17],\n",
        "       simple_regret_exact_10[slice17],\n",
        "       simple_regret_exact_11[slice17],\n",
        "       simple_regret_exact_12[slice17],\n",
        "       simple_regret_exact_13[slice17],\n",
        "       simple_regret_exact_14[slice17],\n",
        "       simple_regret_exact_15[slice17],\n",
        "       simple_regret_exact_16[slice17],\n",
        "       simple_regret_exact_17[slice17],\n",
        "       simple_regret_exact_18[slice17],\n",
        "       simple_regret_exact_19[slice17],\n",
        "       simple_regret_exact_20[slice17]]\n",
        "\n",
        "approx17_results = pd.DataFrame(approx17).sort_values(by=[0], ascending=False)\n",
        "exact17_results = pd.DataFrame(exact17).sort_values(by=[0], ascending=False)\n",
        "\n",
        "### Best simple regret minimization IQR - approx:\n",
        "lower_approx17 = np.asarray(approx17_results[4:5][0])[0]\n",
        "median_approx17 = np.asarray(approx17_results[9:10][0])[0]\n",
        "upper_approx17 = np.asarray(approx17_results[14:15][0])[0]\n",
        "\n",
        "lower_exact17 = np.asarray(exact17_results[4:5][0])[0]\n",
        "median_exact17 = np.asarray(exact17_results[9:10][0])[0]\n",
        "upper_exact17 = np.asarray(exact17_results[14:15][0])[0]"
      ],
      "execution_count": 89,
      "outputs": []
    },
    {
      "cell_type": "code",
      "metadata": {
        "id": "-6VLo37PQxf8"
      },
      "source": [
        "# Iteration8 :\n",
        "\n",
        "slice8 = 7\n",
        "\n",
        "approx8 = [simple_regret_approx_1[slice8],\n",
        "       simple_regret_approx_2[slice8],\n",
        "       simple_regret_approx_3[slice8],\n",
        "       simple_regret_approx_4[slice8],\n",
        "       simple_regret_approx_5[slice8],\n",
        "       simple_regret_approx_6[slice8],\n",
        "       simple_regret_approx_7[slice8],\n",
        "       simple_regret_approx_8[slice8],\n",
        "       simple_regret_approx_9[slice8],\n",
        "       simple_regret_approx_10[slice8],\n",
        "       simple_regret_approx_11[slice8],\n",
        "       simple_regret_approx_12[slice8],\n",
        "       simple_regret_approx_13[slice8],\n",
        "       simple_regret_approx_14[slice8],\n",
        "       simple_regret_approx_15[slice8],\n",
        "       simple_regret_approx_16[slice8],\n",
        "       simple_regret_approx_17[slice8],\n",
        "       simple_regret_approx_18[slice8],\n",
        "       simple_regret_approx_19[slice8],\n",
        "       simple_regret_approx_20[slice8]]\n",
        "\n",
        "exact8 = [simple_regret_exact_1[slice8],\n",
        "       simple_regret_exact_2[slice8],\n",
        "       simple_regret_exact_3[slice8],\n",
        "       simple_regret_exact_4[slice8],\n",
        "       simple_regret_exact_5[slice8],\n",
        "       simple_regret_exact_6[slice8],\n",
        "       simple_regret_exact_7[slice8],\n",
        "       simple_regret_exact_8[slice8],\n",
        "       simple_regret_exact_9[slice8],\n",
        "       simple_regret_exact_10[slice8],\n",
        "       simple_regret_exact_11[slice8],\n",
        "       simple_regret_exact_12[slice8],\n",
        "       simple_regret_exact_13[slice8],\n",
        "       simple_regret_exact_14[slice8],\n",
        "       simple_regret_exact_15[slice8],\n",
        "       simple_regret_exact_16[slice8],\n",
        "       simple_regret_exact_17[slice8],\n",
        "       simple_regret_exact_18[slice8],\n",
        "       simple_regret_exact_19[slice8],\n",
        "       simple_regret_exact_20[slice8]]\n",
        "\n",
        "approx8_results = pd.DataFrame(approx8).sort_values(by=[0], ascending=False)\n",
        "exact8_results = pd.DataFrame(exact8).sort_values(by=[0], ascending=False)\n",
        "\n",
        "### Best simple regret minimization IQR - approx:\n",
        "lower_approx8 = np.asarray(approx8_results[4:5][0])[0]\n",
        "median_approx8 = np.asarray(approx8_results[9:10][0])[0]\n",
        "upper_approx8 = np.asarray(approx8_results[14:15][0])[0]\n",
        "\n",
        "lower_exact8 = np.asarray(exact8_results[4:5][0])[0]\n",
        "median_exact8 = np.asarray(exact8_results[9:10][0])[0]\n",
        "upper_exact8 = np.asarray(exact8_results[14:15][0])[0]"
      ],
      "execution_count": 90,
      "outputs": []
    },
    {
      "cell_type": "code",
      "metadata": {
        "id": "2Dp-9CC2Qxf9"
      },
      "source": [
        "# Iteration18 :\n",
        "\n",
        "slice18 = 17\n",
        "\n",
        "approx18 = [simple_regret_approx_1[slice18],\n",
        "       simple_regret_approx_2[slice18],\n",
        "       simple_regret_approx_3[slice18],\n",
        "       simple_regret_approx_4[slice18],\n",
        "       simple_regret_approx_5[slice18],\n",
        "       simple_regret_approx_6[slice18],\n",
        "       simple_regret_approx_7[slice18],\n",
        "       simple_regret_approx_8[slice18],\n",
        "       simple_regret_approx_9[slice18],\n",
        "       simple_regret_approx_10[slice18],\n",
        "       simple_regret_approx_11[slice18],\n",
        "       simple_regret_approx_12[slice18],\n",
        "       simple_regret_approx_13[slice18],\n",
        "       simple_regret_approx_14[slice18],\n",
        "       simple_regret_approx_15[slice18],\n",
        "       simple_regret_approx_16[slice18],\n",
        "       simple_regret_approx_17[slice18],\n",
        "       simple_regret_approx_18[slice18],\n",
        "       simple_regret_approx_19[slice18],\n",
        "       simple_regret_approx_20[slice18]]\n",
        "\n",
        "exact18 = [simple_regret_exact_1[slice18],\n",
        "       simple_regret_exact_2[slice18],\n",
        "       simple_regret_exact_3[slice18],\n",
        "       simple_regret_exact_4[slice18],\n",
        "       simple_regret_exact_5[slice18],\n",
        "       simple_regret_exact_6[slice18],\n",
        "       simple_regret_exact_7[slice18],\n",
        "       simple_regret_exact_8[slice18],\n",
        "       simple_regret_exact_9[slice18],\n",
        "       simple_regret_exact_10[slice18],\n",
        "       simple_regret_exact_11[slice18],\n",
        "       simple_regret_exact_12[slice18],\n",
        "       simple_regret_exact_13[slice18],\n",
        "       simple_regret_exact_14[slice18],\n",
        "       simple_regret_exact_15[slice18],\n",
        "       simple_regret_exact_16[slice18],\n",
        "       simple_regret_exact_17[slice18],\n",
        "       simple_regret_exact_18[slice18],\n",
        "       simple_regret_exact_19[slice18],\n",
        "       simple_regret_exact_20[slice18]]\n",
        "\n",
        "approx18_results = pd.DataFrame(approx18).sort_values(by=[0], ascending=False)\n",
        "exact18_results = pd.DataFrame(exact18).sort_values(by=[0], ascending=False)\n",
        "\n",
        "### Best simple regret minimization IQR - approx:\n",
        "lower_approx18 = np.asarray(approx18_results[4:5][0])[0]\n",
        "median_approx18 = np.asarray(approx18_results[9:10][0])[0]\n",
        "upper_approx18 = np.asarray(approx18_results[14:15][0])[0]\n",
        "\n",
        "lower_exact18 = np.asarray(exact18_results[4:5][0])[0]\n",
        "median_exact18 = np.asarray(exact18_results[9:10][0])[0]\n",
        "upper_exact18 = np.asarray(exact18_results[14:15][0])[0]"
      ],
      "execution_count": 91,
      "outputs": []
    },
    {
      "cell_type": "code",
      "metadata": {
        "id": "SqiaOpB7Qxf9"
      },
      "source": [
        "# Iteration9 :\n",
        "\n",
        "slice9 = 8\n",
        "\n",
        "approx9 = [simple_regret_approx_1[slice9],\n",
        "       simple_regret_approx_2[slice9],\n",
        "       simple_regret_approx_3[slice9],\n",
        "       simple_regret_approx_4[slice9],\n",
        "       simple_regret_approx_5[slice9],\n",
        "       simple_regret_approx_6[slice9],\n",
        "       simple_regret_approx_7[slice9],\n",
        "       simple_regret_approx_8[slice9],\n",
        "       simple_regret_approx_9[slice9],\n",
        "       simple_regret_approx_10[slice9],\n",
        "       simple_regret_approx_11[slice9],\n",
        "       simple_regret_approx_12[slice9],\n",
        "       simple_regret_approx_13[slice9],\n",
        "       simple_regret_approx_14[slice9],\n",
        "       simple_regret_approx_15[slice9],\n",
        "       simple_regret_approx_16[slice9],\n",
        "       simple_regret_approx_17[slice9],\n",
        "       simple_regret_approx_18[slice9],\n",
        "       simple_regret_approx_19[slice9],\n",
        "       simple_regret_approx_20[slice9]]\n",
        "\n",
        "exact9 = [simple_regret_exact_1[slice9],\n",
        "       simple_regret_exact_2[slice9],\n",
        "       simple_regret_exact_3[slice9],\n",
        "       simple_regret_exact_4[slice9],\n",
        "       simple_regret_exact_5[slice9],\n",
        "       simple_regret_exact_6[slice9],\n",
        "       simple_regret_exact_7[slice9],\n",
        "       simple_regret_exact_8[slice9],\n",
        "       simple_regret_exact_9[slice9],\n",
        "       simple_regret_exact_10[slice9],\n",
        "       simple_regret_exact_11[slice9],\n",
        "       simple_regret_exact_12[slice9],\n",
        "       simple_regret_exact_13[slice9],\n",
        "       simple_regret_exact_14[slice9],\n",
        "       simple_regret_exact_15[slice9],\n",
        "       simple_regret_exact_16[slice9],\n",
        "       simple_regret_exact_17[slice9],\n",
        "       simple_regret_exact_18[slice9],\n",
        "       simple_regret_exact_19[slice9],\n",
        "       simple_regret_exact_20[slice9]]\n",
        "\n",
        "approx9_results = pd.DataFrame(approx9).sort_values(by=[0], ascending=False)\n",
        "exact9_results = pd.DataFrame(exact9).sort_values(by=[0], ascending=False)\n",
        "\n",
        "### Best simple regret minimization IQR - approx:\n",
        "lower_approx9 = np.asarray(approx9_results[4:5][0])[0]\n",
        "median_approx9 = np.asarray(approx9_results[9:10][0])[0]\n",
        "upper_approx9 = np.asarray(approx9_results[14:15][0])[0]\n",
        "\n",
        "lower_exact9 = np.asarray(exact9_results[4:5][0])[0]\n",
        "median_exact9 = np.asarray(exact9_results[9:10][0])[0]\n",
        "upper_exact9 = np.asarray(exact9_results[14:15][0])[0]"
      ],
      "execution_count": 92,
      "outputs": []
    },
    {
      "cell_type": "code",
      "metadata": {
        "id": "OQkCCOsPQxf9"
      },
      "source": [
        "# Iteration19 :\n",
        "\n",
        "slice19 = 18\n",
        "\n",
        "approx19 = [simple_regret_approx_1[slice19],\n",
        "       simple_regret_approx_2[slice19],\n",
        "       simple_regret_approx_3[slice19],\n",
        "       simple_regret_approx_4[slice19],\n",
        "       simple_regret_approx_5[slice19],\n",
        "       simple_regret_approx_6[slice19],\n",
        "       simple_regret_approx_7[slice19],\n",
        "       simple_regret_approx_8[slice19],\n",
        "       simple_regret_approx_9[slice19],\n",
        "       simple_regret_approx_10[slice19],\n",
        "       simple_regret_approx_11[slice19],\n",
        "       simple_regret_approx_12[slice19],\n",
        "       simple_regret_approx_13[slice19],\n",
        "       simple_regret_approx_14[slice19],\n",
        "       simple_regret_approx_15[slice19],\n",
        "       simple_regret_approx_16[slice19],\n",
        "       simple_regret_approx_17[slice19],\n",
        "       simple_regret_approx_18[slice19],\n",
        "       simple_regret_approx_19[slice19],\n",
        "       simple_regret_approx_20[slice19]]\n",
        "\n",
        "exact19 = [simple_regret_exact_1[slice19],\n",
        "       simple_regret_exact_2[slice19],\n",
        "       simple_regret_exact_3[slice19],\n",
        "       simple_regret_exact_4[slice19],\n",
        "       simple_regret_exact_5[slice19],\n",
        "       simple_regret_exact_6[slice19],\n",
        "       simple_regret_exact_7[slice19],\n",
        "       simple_regret_exact_8[slice19],\n",
        "       simple_regret_exact_9[slice19],\n",
        "       simple_regret_exact_10[slice19],\n",
        "       simple_regret_exact_11[slice19],\n",
        "       simple_regret_exact_12[slice19],\n",
        "       simple_regret_exact_13[slice19],\n",
        "       simple_regret_exact_14[slice19],\n",
        "       simple_regret_exact_15[slice19],\n",
        "       simple_regret_exact_16[slice19],\n",
        "       simple_regret_exact_17[slice19],\n",
        "       simple_regret_exact_18[slice19],\n",
        "       simple_regret_exact_19[slice19],\n",
        "       simple_regret_exact_20[slice19]]\n",
        "\n",
        "approx19_results = pd.DataFrame(approx19).sort_values(by=[0], ascending=False)\n",
        "exact19_results = pd.DataFrame(exact19).sort_values(by=[0], ascending=False)\n",
        "\n",
        "### Best simple regret minimization IQR - approx:\n",
        "lower_approx19 = np.asarray(approx19_results[4:5][0])[0]\n",
        "median_approx19 = np.asarray(approx19_results[9:10][0])[0]\n",
        "upper_approx19 = np.asarray(approx19_results[14:15][0])[0]\n",
        "\n",
        "lower_exact19 = np.asarray(exact19_results[4:5][0])[0]\n",
        "median_exact19 = np.asarray(exact19_results[9:10][0])[0]\n",
        "upper_exact19 = np.asarray(exact19_results[14:15][0])[0]"
      ],
      "execution_count": 93,
      "outputs": []
    },
    {
      "cell_type": "code",
      "metadata": {
        "id": "h4vtWahcQxf-"
      },
      "source": [
        "# Iteration10 :\n",
        "\n",
        "slice10 = 9\n",
        "\n",
        "approx10 = [simple_regret_approx_1[slice10],\n",
        "       simple_regret_approx_2[slice10],\n",
        "       simple_regret_approx_3[slice10],\n",
        "       simple_regret_approx_4[slice10],\n",
        "       simple_regret_approx_5[slice10],\n",
        "       simple_regret_approx_6[slice10],\n",
        "       simple_regret_approx_7[slice10],\n",
        "       simple_regret_approx_8[slice10],\n",
        "       simple_regret_approx_9[slice10],\n",
        "       simple_regret_approx_10[slice10],\n",
        "       simple_regret_approx_11[slice10],\n",
        "       simple_regret_approx_12[slice10],\n",
        "       simple_regret_approx_13[slice10],\n",
        "       simple_regret_approx_14[slice10],\n",
        "       simple_regret_approx_15[slice10],\n",
        "       simple_regret_approx_16[slice10],\n",
        "       simple_regret_approx_17[slice10],\n",
        "       simple_regret_approx_18[slice10],\n",
        "       simple_regret_approx_19[slice10],\n",
        "       simple_regret_approx_20[slice10]]\n",
        "\n",
        "exact10 = [simple_regret_exact_1[slice10],\n",
        "       simple_regret_exact_2[slice10],\n",
        "       simple_regret_exact_3[slice10],\n",
        "       simple_regret_exact_4[slice10],\n",
        "       simple_regret_exact_5[slice10],\n",
        "       simple_regret_exact_6[slice10],\n",
        "       simple_regret_exact_7[slice10],\n",
        "       simple_regret_exact_8[slice10],\n",
        "       simple_regret_exact_9[slice10],\n",
        "       simple_regret_exact_10[slice10],\n",
        "       simple_regret_exact_11[slice10],\n",
        "       simple_regret_exact_12[slice10],\n",
        "       simple_regret_exact_13[slice10],\n",
        "       simple_regret_exact_14[slice10],\n",
        "       simple_regret_exact_15[slice10],\n",
        "       simple_regret_exact_16[slice10],\n",
        "       simple_regret_exact_17[slice10],\n",
        "       simple_regret_exact_18[slice10],\n",
        "       simple_regret_exact_19[slice10],\n",
        "       simple_regret_exact_20[slice10]]\n",
        "\n",
        "approx10_results = pd.DataFrame(approx10).sort_values(by=[0], ascending=False)\n",
        "exact10_results = pd.DataFrame(exact10).sort_values(by=[0], ascending=False)\n",
        "\n",
        "### Best simple regret minimization IQR - approx:\n",
        "lower_approx10 = np.asarray(approx10_results[4:5][0])[0]\n",
        "median_approx10 = np.asarray(approx10_results[9:10][0])[0]\n",
        "upper_approx10 = np.asarray(approx10_results[14:15][0])[0]\n",
        "\n",
        "lower_exact10 = np.asarray(exact10_results[4:5][0])[0]\n",
        "median_exact10 = np.asarray(exact10_results[9:10][0])[0]\n",
        "upper_exact10 = np.asarray(exact10_results[14:15][0])[0]"
      ],
      "execution_count": 94,
      "outputs": []
    },
    {
      "cell_type": "code",
      "metadata": {
        "id": "Rsf240pWQxf-"
      },
      "source": [
        "# Iteration20 :\n",
        "\n",
        "slice20 = 19\n",
        "\n",
        "approx20 = [simple_regret_approx_1[slice20],\n",
        "       simple_regret_approx_2[slice20],\n",
        "       simple_regret_approx_3[slice20],\n",
        "       simple_regret_approx_4[slice20],\n",
        "       simple_regret_approx_5[slice20],\n",
        "       simple_regret_approx_6[slice20],\n",
        "       simple_regret_approx_7[slice20],\n",
        "       simple_regret_approx_8[slice20],\n",
        "       simple_regret_approx_9[slice20],\n",
        "       simple_regret_approx_10[slice20],\n",
        "       simple_regret_approx_11[slice20],\n",
        "       simple_regret_approx_12[slice20],\n",
        "       simple_regret_approx_13[slice20],\n",
        "       simple_regret_approx_14[slice20],\n",
        "       simple_regret_approx_15[slice20],\n",
        "       simple_regret_approx_16[slice20],\n",
        "       simple_regret_approx_17[slice20],\n",
        "       simple_regret_approx_18[slice20],\n",
        "       simple_regret_approx_19[slice20],\n",
        "       simple_regret_approx_20[slice20]]\n",
        "\n",
        "exact20 = [simple_regret_exact_1[slice20],\n",
        "       simple_regret_exact_2[slice20],\n",
        "       simple_regret_exact_3[slice20],\n",
        "       simple_regret_exact_4[slice20],\n",
        "       simple_regret_exact_5[slice20],\n",
        "       simple_regret_exact_6[slice20],\n",
        "       simple_regret_exact_7[slice20],\n",
        "       simple_regret_exact_8[slice20],\n",
        "       simple_regret_exact_9[slice20],\n",
        "       simple_regret_exact_10[slice20],\n",
        "       simple_regret_exact_11[slice20],\n",
        "       simple_regret_exact_12[slice20],\n",
        "       simple_regret_exact_13[slice20],\n",
        "       simple_regret_exact_14[slice20],\n",
        "       simple_regret_exact_15[slice20],\n",
        "       simple_regret_exact_16[slice20],\n",
        "       simple_regret_exact_17[slice20],\n",
        "       simple_regret_exact_18[slice20],\n",
        "       simple_regret_exact_19[slice20],\n",
        "       simple_regret_exact_20[slice20]]\n",
        "\n",
        "approx20_results = pd.DataFrame(approx20).sort_values(by=[0], ascending=False)\n",
        "exact20_results = pd.DataFrame(exact20).sort_values(by=[0], ascending=False)\n",
        "\n",
        "### Best simple regret minimization IQR - approx:\n",
        "lower_approx20 = np.asarray(approx20_results[4:5][0])[0]\n",
        "median_approx20 = np.asarray(approx20_results[9:10][0])[0]\n",
        "upper_approx20 = np.asarray(approx20_results[14:15][0])[0]\n",
        "\n",
        "lower_exact20 = np.asarray(exact20_results[4:5][0])[0]\n",
        "median_exact20 = np.asarray(exact20_results[9:10][0])[0]\n",
        "upper_exact20 = np.asarray(exact20_results[14:15][0])[0]"
      ],
      "execution_count": 95,
      "outputs": []
    },
    {
      "cell_type": "code",
      "metadata": {
        "id": "gn36RejbQxf_"
      },
      "source": [
        "### Summarize arrays: 'Loser'\n",
        "\n",
        "lower_approx = [lower_approx1,\n",
        "            lower_approx2,\n",
        "            lower_approx3,\n",
        "            lower_approx4,\n",
        "            lower_approx5,\n",
        "            lower_approx6,\n",
        "            lower_approx7,\n",
        "            lower_approx8,\n",
        "            lower_approx9,\n",
        "            lower_approx10,\n",
        "            lower_approx11,\n",
        "            lower_approx12,\n",
        "            lower_approx13,\n",
        "            lower_approx14,\n",
        "            lower_approx15,\n",
        "            lower_approx16,\n",
        "            lower_approx17,\n",
        "            lower_approx18,\n",
        "            lower_approx19,\n",
        "            lower_approx20,\n",
        "            lower_approx21]\n",
        "\n",
        "median_approx = [median_approx1,\n",
        "            median_approx2,\n",
        "            median_approx3,\n",
        "            median_approx4,\n",
        "            median_approx5,\n",
        "            median_approx6,\n",
        "            median_approx7,\n",
        "            median_approx8,\n",
        "            median_approx9,\n",
        "            median_approx10,\n",
        "            median_approx11,\n",
        "            median_approx12,\n",
        "            median_approx13,\n",
        "            median_approx14,\n",
        "            median_approx15,\n",
        "            median_approx16,\n",
        "            median_approx17,\n",
        "            median_approx18,\n",
        "            median_approx19,\n",
        "            median_approx20,\n",
        "            median_approx21]\n",
        "\n",
        "upper_approx = [upper_approx1,\n",
        "            upper_approx2,\n",
        "            upper_approx3,\n",
        "            upper_approx4,\n",
        "            upper_approx5,\n",
        "            upper_approx6,\n",
        "            upper_approx7,\n",
        "            upper_approx8,\n",
        "            upper_approx9,\n",
        "            upper_approx10,\n",
        "            upper_approx11,\n",
        "            upper_approx12,\n",
        "            upper_approx13,\n",
        "            upper_approx14,\n",
        "            upper_approx15,\n",
        "            upper_approx16,\n",
        "            upper_approx17,\n",
        "            upper_approx18,\n",
        "            upper_approx19,\n",
        "            upper_approx20,\n",
        "            upper_approx21]"
      ],
      "execution_count": 96,
      "outputs": []
    },
    {
      "cell_type": "code",
      "metadata": {
        "id": "wxtGTOYfQxf_"
      },
      "source": [
        "### Summarize arrays: 'exact'\n",
        "\n",
        "lower_exact = [lower_exact1,\n",
        "            lower_exact2,\n",
        "            lower_exact3,\n",
        "            lower_exact4,\n",
        "            lower_exact5,\n",
        "            lower_exact6,\n",
        "            lower_exact7,\n",
        "            lower_exact8,\n",
        "            lower_exact9,\n",
        "            lower_exact10,\n",
        "            lower_exact11,\n",
        "            lower_exact12,\n",
        "            lower_exact13,\n",
        "            lower_exact14,\n",
        "            lower_exact15,\n",
        "            lower_exact16,\n",
        "            lower_exact17,\n",
        "            lower_exact18,\n",
        "            lower_exact19,\n",
        "            lower_exact20,\n",
        "            lower_exact21]\n",
        "\n",
        "median_exact = [median_exact1,\n",
        "            median_exact2,\n",
        "            median_exact3,\n",
        "            median_exact4,\n",
        "            median_exact5,\n",
        "            median_exact6,\n",
        "            median_exact7,\n",
        "            median_exact8,\n",
        "            median_exact9,\n",
        "            median_exact10,\n",
        "            median_exact11,\n",
        "            median_exact12,\n",
        "            median_exact13,\n",
        "            median_exact14,\n",
        "            median_exact15,\n",
        "            median_exact16,\n",
        "            median_exact17,\n",
        "            median_exact18,\n",
        "            median_exact19,\n",
        "            median_exact20,\n",
        "            median_exact21]\n",
        "\n",
        "upper_exact = [upper_exact1,\n",
        "            upper_exact2,\n",
        "            upper_exact3,\n",
        "            upper_exact4,\n",
        "            upper_exact5,\n",
        "            upper_exact6,\n",
        "            upper_exact7,\n",
        "            upper_exact8,\n",
        "            upper_exact9,\n",
        "            upper_exact10,\n",
        "            upper_exact11,\n",
        "            upper_exact12,\n",
        "            upper_exact13,\n",
        "            upper_exact14,\n",
        "            upper_exact15,\n",
        "            upper_exact16,\n",
        "            upper_exact17,\n",
        "            upper_exact18,\n",
        "            upper_exact19,\n",
        "            upper_exact20,\n",
        "            upper_exact21]"
      ],
      "execution_count": 97,
      "outputs": []
    },
    {
      "cell_type": "code",
      "metadata": {
        "id": "2MONq-BXQxgA",
        "colab": {
          "base_uri": "https://localhost:8080/",
          "height": 299
        },
        "outputId": "d525abb8-5bc5-4ee4-dde3-4f0449d10a40"
      },
      "source": [
        "### Visualise!\n",
        "\n",
        "title = func\n",
        "plt.figure()\n",
        "\n",
        "plt.plot(median_approx, color = 'Purple')\n",
        "plt.plot(median_exact, color = 'Orange')\n",
        "\n",
        "xstar = np.arange(0, iters+1, step=1)\n",
        "plt.fill_between(xstar, lower_approx, upper_approx, facecolor = 'Purple', alpha=0.4, label='GP CBM Optimization: Approx GP CBM gradients')\n",
        "plt.fill_between(xstar, lower_exact, upper_exact, facecolor = 'Orange', alpha=0.4, label='GP CBM Optimization: Exact GP dCBM gradients')\n",
        "\n",
        "plt.title(title, weight = 'bold')\n",
        "plt.xlabel('(Post-initialization) iteration $\\it{k}$', weight = 'bold')\n",
        "plt.ylabel('log(Regret)', weight = 'bold') \n",
        "plt.legend(loc=1) # add plot legend\n",
        "\n",
        "### Make the x-ticks integers, not floats:\n",
        "count = len(xstar)\n",
        "plt.xticks(np.arange(count), np.arange(0, count))\n",
        "plt.show() #visualize!"
      ],
      "execution_count": 98,
      "outputs": [
        {
          "output_type": "display_data",
          "data": {
            "image/png": "[encoded data removed]",
            "text/plain": [
              "<Figure size 432x288 with 1 Axes>"
            ]
          },
          "metadata": {
            "needs_background": "light"
          }
        }
      ]
    },
    {
      "cell_type": "code",
      "metadata": {
        "id": "l5dkR2Id2oiu",
        "colab": {
          "base_uri": "https://localhost:8080/"
        },
        "outputId": "fa8b6696-c526-4c76-9244-de1d1f6eaf78"
      },
      "source": [
        "time_approx, time_exact\n"
      ],
      "execution_count": 99,
      "outputs": [
        {
          "output_type": "execute_result",
          "data": {
            "text/plain": [
              "(125.73958086967468, 976.7654569149017)"
            ]
          },
          "metadata": {},
          "execution_count": 99
        }
      ]
    },
    {
      "cell_type": "code",
      "metadata": {
        "id": "77BffxK2Fe61"
      },
      "source": [
        ""
      ],
      "execution_count": 99,
      "outputs": []
    }
  ]
}