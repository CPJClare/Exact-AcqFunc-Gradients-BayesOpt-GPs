{
  "nbformat": 4,
  "nbformat_minor": 0,
  "metadata": {
    "colab": {
      "name": "4. SumSquares_GP_dCBM_2D.ipynb",
      "provenance": [],
      "collapsed_sections": []
    },
    "kernelspec": {
      "name": "python3",
      "display_name": "Python 3"
    },
    "language_info": {
      "name": "python"
    }
  },
  "cells": [
    {
      "cell_type": "markdown",
      "metadata": {
        "id": "Dqn4dFx7Z2Ir"
      },
      "source": [
        "\n",
        "SumSquares: 2D\n"
      ]
    },
    {
      "cell_type": "code",
      "metadata": {
        "id": "MJTM_GZZZb5x",
        "colab": {
          "base_uri": "https://localhost:8080/"
        },
        "outputId": "f3bb2297-9900-4b54-aaae-dd31abd2b44e"
      },
      "source": [
        "pip install pyGPGO\n"
      ],
      "execution_count": 1,
      "outputs": [
        {
          "output_type": "stream",
          "name": "stdout",
          "text": [
            "Collecting pyGPGO\n",
            "  Downloading pyGPGO-0.5.1.tar.gz (14 kB)\n",
            "Requirement already satisfied: numpy in /usr/local/lib/python3.7/dist-packages (from pyGPGO) (1.19.5)\n",
            "Requirement already satisfied: mkl in /usr/local/lib/python3.7/dist-packages (from pyGPGO) (2019.0)\n",
            "Requirement already satisfied: scipy in /usr/local/lib/python3.7/dist-packages (from pyGPGO) (1.4.1)\n",
            "Requirement already satisfied: joblib in /usr/local/lib/python3.7/dist-packages (from pyGPGO) (1.1.0)\n",
            "Requirement already satisfied: scikit-learn in /usr/local/lib/python3.7/dist-packages (from pyGPGO) (1.0.1)\n",
            "Requirement already satisfied: Theano-PyMC in /usr/local/lib/python3.7/dist-packages (from pyGPGO) (1.1.2)\n",
            "Requirement already satisfied: pyMC3 in /usr/local/lib/python3.7/dist-packages (from pyGPGO) (3.11.4)\n",
            "Requirement already satisfied: intel-openmp in /usr/local/lib/python3.7/dist-packages (from mkl->pyGPGO) (2021.4.0)\n",
            "Requirement already satisfied: cachetools>=4.2.1 in /usr/local/lib/python3.7/dist-packages (from pyMC3->pyGPGO) (4.2.4)\n",
            "Requirement already satisfied: semver>=2.13.0 in /usr/local/lib/python3.7/dist-packages (from pyMC3->pyGPGO) (2.13.0)\n",
            "Requirement already satisfied: arviz>=0.11.0 in /usr/local/lib/python3.7/dist-packages (from pyMC3->pyGPGO) (0.11.4)\n",
            "Requirement already satisfied: pandas>=0.24.0 in /usr/local/lib/python3.7/dist-packages (from pyMC3->pyGPGO) (1.1.5)\n",
            "Requirement already satisfied: fastprogress>=0.2.0 in /usr/local/lib/python3.7/dist-packages (from pyMC3->pyGPGO) (1.0.0)\n",
            "Requirement already satisfied: typing-extensions>=3.7.4 in /usr/local/lib/python3.7/dist-packages (from pyMC3->pyGPGO) (3.10.0.2)\n",
            "Requirement already satisfied: dill in /usr/local/lib/python3.7/dist-packages (from pyMC3->pyGPGO) (0.3.4)\n",
            "Requirement already satisfied: patsy>=0.5.1 in /usr/local/lib/python3.7/dist-packages (from pyMC3->pyGPGO) (0.5.2)\n",
            "Requirement already satisfied: filelock in /usr/local/lib/python3.7/dist-packages (from Theano-PyMC->pyGPGO) (3.3.2)\n",
            "Requirement already satisfied: packaging in /usr/local/lib/python3.7/dist-packages (from arviz>=0.11.0->pyMC3->pyGPGO) (21.2)\n",
            "Requirement already satisfied: setuptools>=38.4 in /usr/local/lib/python3.7/dist-packages (from arviz>=0.11.0->pyMC3->pyGPGO) (57.4.0)\n",
            "Requirement already satisfied: xarray>=0.16.1 in /usr/local/lib/python3.7/dist-packages (from arviz>=0.11.0->pyMC3->pyGPGO) (0.18.2)\n",
            "Requirement already satisfied: matplotlib>=3.0 in /usr/local/lib/python3.7/dist-packages (from arviz>=0.11.0->pyMC3->pyGPGO) (3.2.2)\n",
            "Requirement already satisfied: netcdf4 in /usr/local/lib/python3.7/dist-packages (from arviz>=0.11.0->pyMC3->pyGPGO) (1.5.8)\n",
            "Requirement already satisfied: python-dateutil>=2.1 in /usr/local/lib/python3.7/dist-packages (from matplotlib>=3.0->arviz>=0.11.0->pyMC3->pyGPGO) (2.8.2)\n",
            "Requirement already satisfied: pyparsing!=2.0.4,!=2.1.2,!=2.1.6,>=2.0.1 in /usr/local/lib/python3.7/dist-packages (from matplotlib>=3.0->arviz>=0.11.0->pyMC3->pyGPGO) (2.4.7)\n",
            "Requirement already satisfied: cycler>=0.10 in /usr/local/lib/python3.7/dist-packages (from matplotlib>=3.0->arviz>=0.11.0->pyMC3->pyGPGO) (0.11.0)\n",
            "Requirement already satisfied: kiwisolver>=1.0.1 in /usr/local/lib/python3.7/dist-packages (from matplotlib>=3.0->arviz>=0.11.0->pyMC3->pyGPGO) (1.3.2)\n",
            "Requirement already satisfied: pytz>=2017.2 in /usr/local/lib/python3.7/dist-packages (from pandas>=0.24.0->pyMC3->pyGPGO) (2018.9)\n",
            "Requirement already satisfied: six in /usr/local/lib/python3.7/dist-packages (from patsy>=0.5.1->pyMC3->pyGPGO) (1.15.0)\n",
            "Requirement already satisfied: cftime in /usr/local/lib/python3.7/dist-packages (from netcdf4->arviz>=0.11.0->pyMC3->pyGPGO) (1.5.1.1)\n",
            "Requirement already satisfied: threadpoolctl>=2.0.0 in /usr/local/lib/python3.7/dist-packages (from scikit-learn->pyGPGO) (3.0.0)\n",
            "Building wheels for collected packages: pyGPGO\n",
            "  Building wheel for pyGPGO (setup.py) ... \u001b[?25l\u001b[?25hdone\n",
            "  Created wheel for pyGPGO: filename=pyGPGO-0.5.1-py3-none-any.whl size=19880 sha256=3d53c97f14834a0a060b43973fe61967cf463873a3d1485e9cca78918851bbf8\n",
            "  Stored in directory: /root/.cache/pip/wheels/c8/5d/0b/2160114e2f1b87791c51b66cf07f89831dbb6f49167950316f\n",
            "Successfully built pyGPGO\n",
            "Installing collected packages: pyGPGO\n",
            "Successfully installed pyGPGO-0.5.1\n"
          ]
        }
      ]
    },
    {
      "cell_type": "code",
      "metadata": {
        "id": "ZJSSPbwPaEUB"
      },
      "source": [
        "### Import:\n",
        "\n",
        "import numpy as np\n",
        "import scipy as sp\n",
        "import pandas as pd\n",
        "import matplotlib.pyplot as plt\n",
        "import warnings\n",
        "import itertools\n",
        "\n",
        "from pyGPGO.GPGO import GPGO\n",
        "from pyGPGO.surrogates.GaussianProcess import GaussianProcess\n",
        "from pyGPGO.acquisition import Acquisition\n",
        "from pyGPGO.covfunc import squaredExponential\n",
        "\n",
        "from joblib import Parallel, delayed\n",
        "from numpy.linalg import solve, cholesky\n",
        "from scipy.spatial.distance import cdist\n",
        "from scipy.optimize import minimize\n",
        "from scipy.stats import norm\n",
        "import time\n",
        "\n",
        "warnings.filterwarnings(\"ignore\", category=RuntimeWarning)\n"
      ],
      "execution_count": 2,
      "outputs": []
    },
    {
      "cell_type": "code",
      "metadata": {
        "id": "OeYcTUNoaJWa"
      },
      "source": [
        "### Inputs:\n",
        "\n",
        "func = 'SumSquares'\n",
        "Beta_CBM = 1.5 # Default UCB Acquisition function parameter in pyGPGO https://github.com/josejimenezluna/pyGPGO/blob/master/pyGPGO/acquisition.py#L83\n",
        "n_test = 500\n",
        "eps = 1e-08\n",
        "\n",
        "util_grad_exact = 'dCBM_GP'\n",
        "util_grad_approx = 'CBM'\n",
        "\n",
        "n_init = 5 # random initialisations\n",
        "iters = 20\n",
        "opt = True"
      ],
      "execution_count": 3,
      "outputs": []
    },
    {
      "cell_type": "code",
      "metadata": {
        "id": "xpaEOjdzaPMS"
      },
      "source": [
        "### Objective Function - Sum Squares(x) 2-D:\n",
        "\n",
        "def objfunc(x1_training, x2_training):\n",
        "            return  operator * (  1 * x1_training ** 2\n",
        "                            + 2 * x2_training ** 2\n",
        "                            )\n",
        "        \n",
        "# Constraints:\n",
        "lb = -10\n",
        "ub = +10\n",
        "    \n",
        "# Input array dimension(s):\n",
        "dim = 2\n",
        "\n",
        "# 2-D inputs' parameter bounds:\n",
        "param = {'x1_training': ('cont', [lb, ub]),\n",
        "                 'x2_training': ('cont', [lb, ub])\n",
        "                 }\n",
        "    \n",
        "# True y bounds:\n",
        "y_lb = 0\n",
        "operator = -1 # targets global minimum \n",
        "y_global_orig = y_lb * operator # targets global minimum\n",
        "    \n",
        "# Test data:\n",
        "x1_test = np.linspace(lb, ub, n_test)\n",
        "x2_test = np.linspace(lb, ub, n_test)\n",
        "x_test = np.column_stack((x1_test, x2_test))\n"
      ],
      "execution_count": 4,
      "outputs": []
    },
    {
      "cell_type": "code",
      "metadata": {
        "id": "eYpI3Zm4aGxi"
      },
      "source": [
        "n_start_AcqFunc = iters\n"
      ],
      "execution_count": 5,
      "outputs": []
    },
    {
      "cell_type": "code",
      "metadata": {
        "id": "oO_GUmOoaV0T"
      },
      "source": [
        "### Cumulative Regret Calculator:\n",
        "\n",
        "def min_max_array(x):\n",
        "    new_list = []\n",
        "    for i, num in enumerate(x):\n",
        "            new_list.append(np.min(x[0:i+1]))\n",
        "    return new_list\n",
        "  "
      ],
      "execution_count": 6,
      "outputs": []
    },
    {
      "cell_type": "code",
      "metadata": {
        "id": "kuuJx0IMam9S"
      },
      "source": [
        "### Surrogate derivatives: \n",
        "\n",
        "cov_func = squaredExponential()\n",
        "\n",
        "def kronDelta(X, Xstar):\n",
        "    return cdist(X, Xstar) < np.finfo(np.float32).eps\n",
        "\n",
        "def se(X, Xstar, sigmaf, l, sigman):\n",
        "    return sigmaf * np.exp(-0.5 * cdist(X, Xstar) ** 2 / l ** 2) + sigman * kronDelta(X, Xstar)\n",
        "\n",
        "def deriv_se(X, Xstar, sigmaf, l, sigman):\n",
        "    return cdist(X, Xstar) / (l ** 2) * se(X, Xstar, sigmaf, l, sigman)\n",
        "\n",
        "def der_covmat(X, Xstar, sigmaf, l, sigman):\n",
        "      nx = len(X)\n",
        "      ny = len(Xstar)\n",
        "      return np.round(np.array([deriv_se(np.atleast_2d(i), np.atleast_2d(j), sigmaf, l, sigman) for (i, j) in itertools.product(X, Xstar)]).reshape(nx, ny), 8)\n",
        "\n",
        "class dGaussianProcess(GaussianProcess):\n",
        "    l = GaussianProcess(cov_func, optimize=opt).getcovparams()['l']\n",
        "    sigmaf = GaussianProcess(cov_func, optimize=opt).getcovparams()['sigmaf']\n",
        "    sigman = GaussianProcess(cov_func, optimize=opt).getcovparams()['sigman']\n",
        "\n",
        "    def AcqGrad(self, Xstar):\n",
        "        Xstar = np.atleast_2d(Xstar)\n",
        "        Kstar = self.covfunc.K(self.X, Xstar).T\n",
        "        dKstar = der_covmat(self.X, Xstar, self.sigmaf, self.l, self.sigman).T\n",
        "        \n",
        "        alpha_Kstar = np.dot(np.linalg.inv(self.K + (self.sigman**2) * np.eye(len(self.X))), Kstar.T)\n",
        "        \n",
        "        dm = np.dot(dKstar, self.alpha)\n",
        "        ds = -2 * np.dot(dKstar, alpha_Kstar)\n",
        "        \n",
        "        return dm, ds\n",
        "        "
      ],
      "execution_count": 7,
      "outputs": []
    },
    {
      "cell_type": "code",
      "metadata": {
        "id": "_Dc3YVHVaXz7"
      },
      "source": [
        "class Acquisition_new(Acquisition):    \n",
        "    def __init__(self, mode, eps=eps, **params):\n",
        "        \n",
        "        self.params = params\n",
        "        self.eps = eps\n",
        "\n",
        "        mode_dict = {\n",
        "            'CBM': self.CBM,\n",
        "            'dCBM_GP': self.dCBM_GP\n",
        "        }\n",
        "\n",
        "        self.f = mode_dict[mode]\n",
        "\n",
        "    def CBM(self, tau, mean, std):\n",
        "        z = (mean - y_global_orig - self.eps) / (std + self.eps)\n",
        "        return (std + self.eps) * (z + np.sqrt(Beta_CBM))\n",
        "\n",
        "    def dCBM_GP(self, tau, mean, std, ds, dm):\n",
        "        gamma = (mean - y_global_orig - self.eps) / (std + self.eps)\n",
        "        gamma_h = (mean - tau) / (std + self.eps)\n",
        "        dsdx = ds / (2 * (std + self.eps))\n",
        "        dmdx = (dm - gamma * dsdx) / (std + self.eps)\n",
        "\n",
        "        f = (std + self.eps) * (gamma + np.sqrt(Beta_CBM))\n",
        "        df = dsdx * (gamma + np.sqrt(Beta_CBM)) + (std + self.eps) * dmdx\n",
        "        df_arr = []\n",
        "\n",
        "        for j in range(0, dim):\n",
        "          df_arr.append(df)\n",
        "        return f, np.asarray(df_arr).transpose()\n",
        "        \n",
        "    def d_eval(self, tau, mean, std, ds, dm):\n",
        "    \n",
        "        return self.f(tau, mean, std, ds, dm, **self.params)\n",
        "        "
      ],
      "execution_count": 8,
      "outputs": []
    },
    {
      "cell_type": "code",
      "metadata": {
        "id": "PITEQC8YSl7i"
      },
      "source": [
        "## GPGO_multi: Multistart changed to variable 'n_start_AcqFunc'\n",
        "\n",
        "class GPGO_multi(GPGO):\n",
        "    n_start = n_start_AcqFunc\n",
        "\n",
        "    def _optimizeAcq(self, method='L-BFGS-B', n_start=n_start_AcqFunc):\n",
        "        \n",
        "        start_points_dict = [self._sampleParam() for i in range(n_start)]\n",
        "        start_points_arr = np.array([list(s.values())\n",
        "                                     for s in start_points_dict])\n",
        "        x_best = np.empty((n_start, len(self.parameter_key)))\n",
        "        f_best = np.empty((n_start,))\n",
        "        if self.n_jobs == 1:\n",
        "            for index, start_point in enumerate(start_points_arr):\n",
        "                res = minimize(self._acqWrapper, x0=start_point, method=method,\n",
        "                               bounds=self.parameter_range)\n",
        "                x_best[index], f_best[index] = res.x, np.atleast_1d(res.fun)[0]\n",
        "        else:\n",
        "            opt = Parallel(n_jobs=self.n_jobs)(delayed(minimize)(self._acqWrapper,\n",
        "                                                                 x0=start_point,\n",
        "                                                                 method=method,\n",
        "                                                                 bounds=self.parameter_range) for start_point in\n",
        "                                               start_points_arr)\n",
        "            x_best = np.array([res.x for res in opt])\n",
        "            f_best = np.array([np.atleast_1d(res.fun)[0] for res in opt])\n",
        "\n",
        "        self.best = x_best[np.argmin(f_best)]"
      ],
      "execution_count": 9,
      "outputs": []
    },
    {
      "cell_type": "code",
      "metadata": {
        "id": "b_B-w81BJxKN"
      },
      "source": [
        "## dGPGO:\n",
        "\n",
        "grad = 1\n",
        "\n",
        "class dGPGO(GPGO):\n",
        "    n_start = n_start_AcqFunc\n",
        "\n",
        "    def d_optimizeAcq(self, method='L-BFGS-B', n_start=n_start_AcqFunc):\n",
        "        start_points_dict = [self._sampleParam() for i in range(n_start)]\n",
        "        start_points_arr = np.array([list(s.values())\n",
        "                                     for s in start_points_dict])\n",
        "        x_best = np.empty((n_start, len(self.parameter_key)))\n",
        "        f_best = np.empty((n_start,))\n",
        "        opt = Parallel(n_jobs=self.n_jobs)(delayed(minimize)(self.acqfunc,\n",
        "                                                                 x0=start_point,\n",
        "                                                                 method=method,\n",
        "                                                                 jac = True,\n",
        "                                                                 bounds=self.parameter_range) for start_point in\n",
        "                                               start_points_arr)\n",
        "        x_best = np.array([res.x for res in opt])\n",
        "        f_best = np.array([np.atleast_1d(res.fun)[0] for res in opt])\n",
        "\n",
        "        self.x_best = x_best\n",
        "        self.f_best = f_best\n",
        "        self.best = x_best[np.argmin(f_best)]\n",
        "        self.start_points_arr = start_points_arr\n",
        "\n",
        "        return x_best, f_best\n",
        "    \n",
        "    def run(self, max_iter=10, init_evals=3, resume=False):\n",
        "        \n",
        "        if not resume:\n",
        "            self.init_evals = init_evals\n",
        "            self._firstRun(self.init_evals)\n",
        "            self.logger._printInit(self)\n",
        "        for iteration in range(max_iter):\n",
        "            self.d_optimizeAcq()\n",
        "            self.updateGP()\n",
        "            self.logger._printCurrent(self)\n",
        "\n",
        "    def acqfunc(self, xnew, n_start=n_start_AcqFunc):\n",
        "        new_mean, new_var = self.GP.predict(xnew, return_std=True)\n",
        "        new_std = np.sqrt(new_var + eps)\n",
        "        dm, ds = self.GP.AcqGrad(xnew)\n",
        "        f, df = self.A.d_eval(self.tau, new_mean, new_std, ds=ds, dm=dm)\n",
        "\n",
        "        return -f, -df * grad\n"
      ],
      "execution_count": 10,
      "outputs": []
    },
    {
      "cell_type": "code",
      "metadata": {
        "id": "qXIKGuXVGEg2"
      },
      "source": [
        "###Reproducible set-seeds:\n",
        "\n",
        "run_num_1 = 1\n",
        "run_num_2 = 2\n",
        "run_num_3 = 3\n",
        "run_num_4 = 4\n",
        "run_num_5 = 5\n",
        "run_num_6 = 6\n",
        "run_num_7 = 7\n",
        "run_num_8 = 8\n",
        "run_num_9 = 9\n",
        "run_num_10 = 10\n",
        "run_num_11 = 11\n",
        "run_num_12 = 12\n",
        "run_num_13 = 13\n",
        "run_num_14 = 14\n",
        "run_num_15 = 15\n",
        "run_num_16 = 16\n",
        "run_num_17 = 17\n",
        "run_num_18 = 18\n",
        "run_num_19 = 19\n",
        "run_num_20 = 20\n"
      ],
      "execution_count": 11,
      "outputs": []
    },
    {
      "cell_type": "code",
      "metadata": {
        "colab": {
          "base_uri": "https://localhost:8080/"
        },
        "id": "JEhagQmnTVIK",
        "outputId": "25e458dc-aada-4e9a-88a0-4c864580f2d4"
      },
      "source": [
        "start_approx = time.time()\n",
        "start_approx\n"
      ],
      "execution_count": 12,
      "outputs": [
        {
          "output_type": "execute_result",
          "data": {
            "text/plain": [
              "1637161299.8903856"
            ]
          },
          "metadata": {},
          "execution_count": 12
        }
      ]
    },
    {
      "cell_type": "code",
      "metadata": {
        "colab": {
          "base_uri": "https://localhost:8080/"
        },
        "id": "aH0YSTXufD1v",
        "outputId": "970ce1bf-1797-4a84-de43-e114cf6506f5"
      },
      "source": [
        "### ESTIMATED GP EI GRADIENTS\n",
        "\n",
        "np.random.seed(run_num_1)\n",
        "surrogate_approx_1 = GaussianProcess(cov_func, optimize=opt)\n",
        "\n",
        "approx_1 = GPGO_multi(surrogate_approx_1, Acquisition_new(util_grad_approx), objfunc, param)\n",
        "approx_1.run(init_evals=n_init, max_iter=iters)\n"
      ],
      "execution_count": 13,
      "outputs": [
        {
          "output_type": "stream",
          "name": "stdout",
          "text": [
            "Evaluation \t Proposed point \t  Current eval. \t Best eval.\n",
            "init   \t [-1.65955991  4.40648987]. \t  -41.5884450098667 \t -5.468172821636052\n",
            "init   \t [-9.9977125  -3.95334855]. \t  -131.21218477957908 \t -5.468172821636052\n",
            "init   \t [-7.06488218 -8.1532281 ]. \t  -182.86281732102734 \t -5.468172821636052\n",
            "init   \t [-6.27479577 -3.08878546]. \t  -58.4542532110911 \t -5.468172821636052\n",
            "init   \t [-2.06465052  0.77633468]. \t  -5.468172821636052 \t -5.468172821636052\n",
            "1      \t [ 7.89213327 -8.29911577]. \t  -200.03641276683908 \t -5.468172821636052\n",
            "2      \t [7.66612182 2.47344414]. \t  -71.00527566059496 \t -5.468172821636052\n",
            "3      \t [1.62717855 9.40039978]. \t  -179.3827421328839 \t -5.468172821636052\n",
            "4      \t [-9.56950389  8.95940422]. \t  -252.11725289788865 \t -5.468172821636052\n",
            "5      \t [10. 10.]. \t  -300.0 \t -5.468172821636052\n",
            "6      \t [ 1.85023738 -3.75460325]. \t  -31.61746941418768 \t -5.468172821636052\n",
            "7      \t [  2.07911451 -10.        ]. \t  -204.3227171618839 \t -5.468172821636052\n",
            "8      \t [-7.81962472  2.67573521]. \t  -75.4656486076953 \t -5.468172821636052\n",
            "9      \t [10.         -2.79281795]. \t  -115.59966424477574 \t -5.468172821636052\n",
            "10     \t [-3.97447032 10.        ]. \t  -215.796414334798 \t -5.468172821636052\n",
            "11     \t [2.62308162 1.39263823]. \t  -10.75943966614146 \t -5.468172821636052\n",
            "12     \t [-2.10400223 -6.59209339]. \t  -91.33821601132486 \t -5.468172821636052\n",
            "13     \t [5.8937134 6.8903261]. \t  -129.6890452314499 \t -5.468172821636052\n",
            "14     \t [ 5.55920031 -1.64371344]. \t  -36.30829586760007 \t -5.468172821636052\n",
            "15     \t [-5.55150337  5.99907229]. \t  -102.79692637890658 \t -5.468172821636052\n",
            "16     \t [10.          5.61721146]. \t  -163.1061291636462 \t -5.468172821636052\n",
            "17     \t [-2.03984313 -2.47215409]. \t  -16.384051690760728 \t -5.468172821636052\n",
            "18     \t [2.19747452 4.94652431]. \t  -53.76509983882815 \t -5.468172821636052\n",
            "19     \t [ -3.41091128 -10.        ]. \t  -211.63431579324316 \t -5.468172821636052\n",
            "20     \t [-4.87714615  0.37792853]. \t  -24.07221456168699 \t -5.468172821636052\n"
          ]
        }
      ]
    },
    {
      "cell_type": "code",
      "metadata": {
        "colab": {
          "base_uri": "https://localhost:8080/"
        },
        "id": "wTxsSZxFGBB5",
        "outputId": "4319a8e3-e0d8-4319-904a-0abdb1eeb1ff"
      },
      "source": [
        "### ESTIMATED GP EI GRADIENTS\n",
        "\n",
        "np.random.seed(run_num_2)\n",
        "surrogate_approx_2 = GaussianProcess(cov_func, optimize=opt)\n",
        "\n",
        "approx_2 = GPGO_multi(surrogate_approx_2, Acquisition_new(util_grad_approx), objfunc, param)\n",
        "approx_2.run(init_evals=n_init, max_iter=iters)\n"
      ],
      "execution_count": 14,
      "outputs": [
        {
          "output_type": "stream",
          "name": "stdout",
          "text": [
            "Evaluation \t Proposed point \t  Current eval. \t Best eval.\n",
            "init   \t [-1.28010196 -9.48147536]. \t  -181.43541115584648 \t -4.333099000920773\n",
            "init   \t [ 0.99324956 -1.29355215]. \t  -4.333099000920773 \t -4.333099000920773\n",
            "init   \t [-1.59264396 -3.39330358]. \t  -25.565533148780872 \t -4.333099000920773\n",
            "init   \t [-5.90702732  2.38541933]. \t  -46.27342248166184 \t -4.333099000920773\n",
            "init   \t [-4.00690653 -4.6634545 ]. \t  -59.55091562094812 \t -4.333099000920773\n",
            "1      \t [4.01504693 9.2910216 ]. \t  -188.7667666769868 \t -4.333099000920773\n",
            "2      \t [ 9.4582138 -7.7444757]. \t  -209.411615827435 \t -4.333099000920773\n",
            "3      \t [ 9.07319925 -1.03970567]. \t  -84.48492034594878 \t -4.333099000920773\n",
            "4      \t [-10. -10.]. \t  -300.0 \t -4.333099000920773\n",
            "5      \t [-10.  10.]. \t  -300.0 \t -4.333099000920773\n",
            "6      \t [-3.25263411  9.0402141 ]. \t  -174.03057068772284 \t -4.333099000920773\n",
            "7      \t [-9.45655361 -2.32375462]. \t  -100.22607729527539 \t -4.333099000920773\n",
            "8      \t [10.          9.62733471]. \t  -285.3711472004717 \t -4.333099000920773\n",
            "9      \t [0.70049772 4.03717099]. \t  -33.0881962293384 \t -4.333099000920773\n",
            "10     \t [ 3.64568751 -6.15052279]. \t  -88.94889868498144 \t -4.333099000920773\n",
            "11     \t [7.07954388 4.2993922 ]. \t  -87.0894881402514 \t -4.333099000920773\n",
            "12     \t [-10.           4.74159947]. \t  -144.96553098529367 \t -4.333099000920773\n",
            "13     \t [4.52345148 0.33139966]. \t  -20.681264748602285 \t -4.333099000920773\n",
            "14     \t [  5.42725248 -10.        ]. \t  -229.45506951510853 \t -4.333099000920773\n",
            "15     \t [-2.03190856  0.79730633]. \t  -5.400047159918138 \t -4.333099000920773\n",
            "16     \t [-5.67387422 -8.64921765]. \t  -181.81078049404584 \t -4.333099000920773\n",
            "17     \t [-6.28861484  6.35766381]. \t  -120.38645466983847 \t -4.333099000920773\n",
            "18     \t [ 7.00809591 -4.25804333]. \t  -85.37527423416202 \t -4.333099000920773\n",
            "19     \t [-2.74892857  4.57574887]. \t  -49.43156374063824 \t -4.333099000920773\n",
            "20     \t [-5.43432479 -1.22789729]. \t  -32.54734946743797 \t -4.333099000920773\n"
          ]
        }
      ]
    },
    {
      "cell_type": "code",
      "metadata": {
        "colab": {
          "base_uri": "https://localhost:8080/"
        },
        "id": "-dgzIrUIGCGT",
        "outputId": "cd3a8ebc-cb67-481c-b1f2-d3b01703148c"
      },
      "source": [
        "### ESTIMATED GP EI GRADIENTS\n",
        "\n",
        "np.random.seed(run_num_3)\n",
        "surrogate_approx_3 = GaussianProcess(cov_func, optimize=opt)\n",
        "\n",
        "approx_3 = GPGO_multi(surrogate_approx_3, Acquisition_new(util_grad_approx), objfunc, param)\n",
        "approx_3.run(init_evals=n_init, max_iter=iters)\n"
      ],
      "execution_count": 15,
      "outputs": [
        {
          "output_type": "stream",
          "name": "stdout",
          "text": [
            "Evaluation \t Proposed point \t  Current eval. \t Best eval.\n",
            "init   \t [1.01595805 4.16295645]. \t  -35.692583610916834 \t -17.582120911078754\n",
            "init   \t [-4.18190522  0.2165521 ]. \t  -17.582120911078754 \t -17.582120911078754\n",
            "init   \t [7.85893909 7.92586178]. \t  -187.4014934415638 \t -17.582120911078754\n",
            "init   \t [-7.48829379 -5.85514244]. \t  -124.63992981683481 \t -17.582120911078754\n",
            "init   \t [-8.97065593 -1.18380313]. \t  -83.2754475728413 \t -17.582120911078754\n",
            "1      \t [ 5.60629529 -3.87272935]. \t  -61.42661215628989 \t -17.582120911078754\n",
            "2      \t [-6.2437035   9.04202486]. \t  -202.50026057521436 \t -17.582120911078754\n",
            "3      \t [ 0.21747715 10.        ]. \t  -200.04729631129734 \t -17.582120911078754\n",
            "4      \t [-0.42169096 -8.75441039]. \t  -153.45722588114134 \t -17.582120911078754\n",
            "5      \t [ 6.49032284 -9.62339388]. \t  -227.34370997575598 \t -17.582120911078754\n",
            "6      \t [-9.21277105  4.93342182]. \t  -133.55245206852663 \t -17.582120911078754\n",
            "7      \t [ 0.69850669 -0.70926041]. \t  \u001b[92m-1.4940122574729555\u001b[0m \t -1.4940122574729555\n",
            "8      \t [8.49616767 0.98473736]. \t  -74.12428040932187 \t -1.4940122574729555\n",
            "9      \t [10.         -7.56996183]. \t  -214.60864414969086 \t -1.4940122574729555\n",
            "10     \t [-2.31620084 -4.0315076 ]. \t  -37.87089333640112 \t -1.4940122574729555\n",
            "11     \t [-4.67617006 -9.97354931]. \t  -220.80993834112402 \t -1.4940122574729555\n",
            "12     \t [-10. -10.]. \t  -300.0 \t -1.4940122574729555\n",
            "13     \t [-3.68928538  4.72334766]. \t  -58.23085288084162 \t -1.4940122574729555\n",
            "14     \t [3.96694907 0.75335198]. \t  -16.871763349659176 \t -1.4940122574729555\n",
            "15     \t [10.         -3.01206241]. \t  -118.14503990135323 \t -1.4940122574729555\n",
            "16     \t [5.21698098 4.40333832]. \t  -65.9956671950375 \t -1.4940122574729555\n",
            "17     \t [ 1.62604796 -4.73119206]. \t  -47.412388681443915 \t -1.4940122574729555\n",
            "18     \t [10.          4.49207142]. \t  -140.35741128376404 \t -1.4940122574729555\n",
            "19     \t [ 4.34963574 10.        ]. \t  -218.91933109799075 \t -1.4940122574729555\n",
            "20     \t [-0.98274842  1.18433466]. \t  -3.771091650622797 \t -1.4940122574729555\n"
          ]
        }
      ]
    },
    {
      "cell_type": "code",
      "metadata": {
        "colab": {
          "base_uri": "https://localhost:8080/"
        },
        "id": "hOtG-2sCGCKS",
        "outputId": "80fc0b96-0426-493e-f0d0-6cf4251134c2"
      },
      "source": [
        "### ESTIMATED GP EI GRADIENTS\n",
        "\n",
        "np.random.seed(run_num_4)\n",
        "surrogate_approx_4 = GaussianProcess(cov_func, optimize=opt)\n",
        "\n",
        "approx_4 = GPGO_multi(surrogate_approx_4, Acquisition_new(util_grad_approx), objfunc, param)\n",
        "approx_4.run(init_evals=n_init, max_iter=iters)\n"
      ],
      "execution_count": 16,
      "outputs": [
        {
          "output_type": "stream",
          "name": "stdout",
          "text": [
            "Evaluation \t Proposed point \t  Current eval. \t Best eval.\n",
            "init   \t [9.34059678 0.94464498]. \t  -89.0314565014143 \t -27.80880071439404\n",
            "init   \t [9.4536872  4.29631987]. \t  -126.28893057280868 \t -27.80880071439404\n",
            "init   \t [ 3.95457649 -5.67821009]. \t  -80.12281484649141 \t -27.80880071439404\n",
            "init   \t [ 9.5254891 -9.8753949]. \t  -285.78179120922215 \t -27.80880071439404\n",
            "init   \t [-4.94035275 -1.30416935]. \t  -27.80880071439404 \t -27.80880071439404\n",
            "1      \t [-10. -10.]. \t  -300.0 \t -27.80880071439404\n",
            "2      \t [-0.87952798 10.        ]. \t  -200.77356947417965 \t -27.80880071439404\n",
            "3      \t [-10.           9.26180986]. \t  -271.5622437964045 \t -27.80880071439404\n",
            "4      \t [0.97610237 1.99594982]. \t  \u001b[92m-8.92040722633793\u001b[0m \t -8.92040722633793\n",
            "5      \t [-9.2450964   2.86617043]. \t  -101.9016732569988 \t -8.92040722633793\n",
            "6      \t [-3.5249608  -7.68742692]. \t  -130.61841401245684 \t -8.92040722633793\n",
            "7      \t [5.24997554 9.28595025]. \t  -200.01998711907777 \t -8.92040722633793\n",
            "8      \t [-10.          -3.87675544]. \t  -130.0584654117501 \t -8.92040722633793\n",
            "9      \t [-3.69091499  4.68738038]. \t  -57.565923081078395 \t -8.92040722633793\n",
            "10     \t [10.         -4.34331118]. \t  -137.72870407138134 \t -8.92040722633793\n",
            "11     \t [  1.24665487 -10.        ]. \t  -201.55414835696118 \t -8.92040722633793\n",
            "12     \t [2.15167653 5.95731077]. \t  -75.60881516076346 \t -8.92040722633793\n",
            "13     \t [-0.24150396 -2.74644839]. \t  -15.144281670526066 \t -8.92040722633793\n",
            "14     \t [ 4.60096111 -0.70152493]. \t  -22.15311757033533 \t -8.92040722633793\n",
            "15     \t [10. 10.]. \t  -300.0 \t -8.92040722633793\n",
            "16     \t [-5.3599871   8.94548885]. \t  -188.77300337956473 \t -8.92040722633793\n",
            "17     \t [5.24798959 3.1546967 ]. \t  -47.44561728049062 \t -8.92040722633793\n",
            "18     \t [  5.34481923 -10.        ]. \t  -228.56709257285814 \t -8.92040722633793\n",
            "19     \t [-6.13152288 -4.7455679 ]. \t  -82.63640227045818 \t -8.92040722633793\n",
            "20     \t [-2.11507147  0.94643299]. \t  \u001b[92m-6.264998136074418\u001b[0m \t -6.264998136074418\n"
          ]
        }
      ]
    },
    {
      "cell_type": "code",
      "metadata": {
        "colab": {
          "base_uri": "https://localhost:8080/"
        },
        "id": "JF_SxcEvGCOl",
        "outputId": "7261a76c-9f01-43cf-ee81-4d5d8de434bf"
      },
      "source": [
        "### ESTIMATED GP EI GRADIENTS\n",
        "\n",
        "np.random.seed(run_num_5)\n",
        "surrogate_approx_5 = GaussianProcess(cov_func, optimize=opt)\n",
        "\n",
        "approx_5 = GPGO_multi(surrogate_approx_5, Acquisition_new(util_grad_approx), objfunc, param)\n",
        "approx_5.run(init_evals=n_init, max_iter=iters)\n"
      ],
      "execution_count": 17,
      "outputs": [
        {
          "output_type": "stream",
          "name": "stdout",
          "text": [
            "Evaluation \t Proposed point \t  Current eval. \t Best eval.\n",
            "init   \t [-5.56013658  7.41464612]. \t  -140.86907304317228 \t -10.04307293518387\n",
            "init   \t [-5.86561689  8.37221816]. \t  -174.59353533361667 \t -10.04307293518387\n",
            "init   \t [-0.23177622  2.23487726]. \t  -10.04307293518387 \t -10.04307293518387\n",
            "init   \t [5.31815713 0.36835976]. \t  -28.554173077012745 \t -10.04307293518387\n",
            "init   \t [-4.06398997 -6.24557543]. \t  -94.53043928694063 \t -10.04307293518387\n",
            "1      \t [9.27861058 9.20453431]. \t  -255.5395178906315 \t -10.04307293518387\n",
            "2      \t [ 8.87080164 -7.76615146]. \t  -199.31733862713008 \t -10.04307293518387\n",
            "3      \t [-10. -10.]. \t  -300.0 \t -10.04307293518387\n",
            "4      \t [2.82929545 9.76335526]. \t  -198.65112458457682 \t -10.04307293518387\n",
            "5      \t [-10.          -2.92477697]. \t  -117.10864066875908 \t -10.04307293518387\n",
            "6      \t [ 0.88609862 -9.60960082]. \t  -185.4740267387391 \t -10.04307293518387\n",
            "7      \t [-5.54573896  1.07829598]. \t  -33.08066500011442 \t -10.04307293518387\n",
            "8      \t [ 1.27263371 -3.4714962 ]. \t  -25.72216836437332 \t -10.04307293518387\n",
            "9      \t [10.          3.25790656]. \t  -121.22791036519885 \t -10.04307293518387\n",
            "10     \t [-10.           4.01803721]. \t  -132.2892459899311 \t -10.04307293518387\n",
            "11     \t [10.         -2.28760957]. \t  -110.4663151012394 \t -10.04307293518387\n",
            "12     \t [5.13439583 5.16031445]. \t  -79.61971097495304 \t -10.04307293518387\n",
            "13     \t [-0.83546865  6.47165388]. \t  -84.46261578526348 \t -10.04307293518387\n",
            "14     \t [ 5.54106708 -4.26495035]. \t  -67.08302730184549 \t -10.04307293518387\n",
            "15     \t [-10.  10.]. \t  -300.0 \t -10.04307293518387\n",
            "16     \t [-2.5448711  -1.84274218]. \t  -13.267766412286296 \t -10.04307293518387\n",
            "17     \t [  5.19208866 -10.        ]. \t  -226.9577846415829 \t -10.04307293518387\n",
            "18     \t [ -5.44987931 -10.        ]. \t  -229.70118449865348 \t -10.04307293518387\n",
            "19     \t [-5.99022882 -2.70822037]. \t  -50.55175647780448 \t -10.04307293518387\n",
            "20     \t [-2.00070138 10.        ]. \t  -204.00280600185664 \t -10.04307293518387\n"
          ]
        }
      ]
    },
    {
      "cell_type": "code",
      "metadata": {
        "colab": {
          "base_uri": "https://localhost:8080/"
        },
        "id": "-kDxZtJsGCR3",
        "outputId": "b39e1b00-eacd-4587-edfc-9a660ad6bdfa"
      },
      "source": [
        "### ESTIMATED GP EI GRADIENTS\n",
        "\n",
        "np.random.seed(run_num_6)\n",
        "surrogate_approx_6 = GaussianProcess(cov_func, optimize=opt)\n",
        "\n",
        "approx_6 = GPGO_multi(surrogate_approx_6, Acquisition_new(util_grad_approx), objfunc, param)\n",
        "approx_6.run(init_evals=n_init, max_iter=iters)\n"
      ],
      "execution_count": 18,
      "outputs": [
        {
          "output_type": "stream",
          "name": "stdout",
          "text": [
            "Evaluation \t Proposed point \t  Current eval. \t Best eval.\n",
            "init   \t [ 7.85720303 -3.36040389]. \t  -84.32026809583151 \t -5.629416961321397\n",
            "init   \t [ 6.42458246 -9.16606749]. \t  -209.30884609749882 \t -5.629416961321397\n",
            "init   \t [-7.8468664   1.90104128]. \t  -68.80122824744078 \t -5.629416961321397\n",
            "init   \t [ 0.59634724 -1.62385143]. \t  -5.629416961321397 \t -5.629416961321397\n",
            "init   \t [-3.29184301  2.45038864]. \t  -22.84503944485431 \t -5.629416961321397\n",
            "1      \t [10.          7.48434045]. \t  -212.03070393575945 \t -5.629416961321397\n",
            "2      \t [-4.96771714 -9.17248997]. \t  -192.94735819477367 \t -5.629416961321397\n",
            "3      \t [2.46299902 9.4614501 ]. \t  -185.1044400841216 \t -5.629416961321397\n",
            "4      \t [-5.6935267   8.60486508]. \t  -180.50365249520243 \t -5.629416961321397\n",
            "5      \t [-10.          -5.39645958]. \t  -158.24355205364782 \t -5.629416961321397\n",
            "6      \t [5.27911136 2.46180165]. \t  -39.989951438565576 \t -5.629416961321397\n",
            "7      \t [10.          1.12182973]. \t  -102.51700390413893 \t -5.629416961321397\n",
            "8      \t [-5.2160087  -2.20998074]. \t  -36.974776478354485 \t -5.629416961321397\n",
            "9      \t [-1.22868843  4.34354782]. \t  -39.24249056209099 \t -5.629416961321397\n",
            "10     \t [ 0.67558409 -7.01797885]. \t  -98.9604681536887 \t -5.629416961321397\n",
            "11     \t [-10.           6.23670389]. \t  -177.7929507110413 \t -5.629416961321397\n",
            "12     \t [-10. -10.]. \t  -300.0 \t -5.629416961321397\n",
            "13     \t [-1.2740954 10.       ]. \t  -201.62331909336027 \t -5.629416961321397\n",
            "14     \t [ 3.59369502 -3.69045934]. \t  -40.15362416028906 \t -5.629416961321397\n",
            "15     \t [5.66193204 6.47004304]. \t  -115.78038826610452 \t -5.629416961321397\n",
            "16     \t [10.         -6.88739092]. \t  -194.87230749900394 \t -5.629416961321397\n",
            "17     \t [1.4894261  1.56256029]. \t  -7.101579430559051 \t -5.629416961321397\n",
            "18     \t [-10.          -1.28039793]. \t  -103.27883773036511 \t -5.629416961321397\n",
            "19     \t [-1.9421145  -3.98046324]. \t  -35.45998393999355 \t -5.629416961321397\n",
            "20     \t [-10.  10.]. \t  -300.0 \t -5.629416961321397\n"
          ]
        }
      ]
    },
    {
      "cell_type": "code",
      "metadata": {
        "colab": {
          "base_uri": "https://localhost:8080/"
        },
        "id": "fKB8MCD_GCVI",
        "outputId": "08a22c71-d525-4438-96c9-8d03c7f41ba9"
      },
      "source": [
        "### ESTIMATED GP EI GRADIENTS\n",
        "\n",
        "np.random.seed(run_num_7)\n",
        "surrogate_approx_7 = GaussianProcess(cov_func, optimize=opt)\n",
        "\n",
        "approx_7 = GPGO_multi(surrogate_approx_7, Acquisition_new(util_grad_approx), objfunc, param)\n",
        "approx_7.run(init_evals=n_init, max_iter=iters)\n"
      ],
      "execution_count": 19,
      "outputs": [
        {
          "output_type": "stream",
          "name": "stdout",
          "text": [
            "Evaluation \t Proposed point \t  Current eval. \t Best eval.\n",
            "init   \t [-8.47383421  5.59837584]. \t  -134.48949046062052 \t -21.448213419349443\n",
            "init   \t [-1.23181537  4.46930356]. \t  -41.46671767109191 \t -21.448213419349443\n",
            "init   \t [9.55979024 0.76991741]. \t  -92.57513506242564 \t -21.448213419349443\n",
            "init   \t [ 0.02240927 -8.55897733]. \t  -146.51268814245697 \t -21.448213419349443\n",
            "init   \t [-4.63122040e+00 -2.34998349e-03]. \t  -21.448213419349443 \t -21.448213419349443\n",
            "1      \t [ 8.12846538 -6.39096762]. \t  -147.76088362344177 \t -21.448213419349443\n",
            "2      \t [ 4.12049415 10.        ]. \t  -216.97847206013458 \t -21.448213419349443\n",
            "3      \t [-9.10467478 -9.8356699 ]. \t  -276.3759076385656 \t -21.448213419349443\n",
            "4      \t [-7.86246511 -2.61028169]. \t  -75.44549865130998 \t -21.448213419349443\n",
            "5      \t [-4.28165018 10.        ]. \t  -218.33252828152038 \t -21.448213419349443\n",
            "6      \t [ 1.41976621 -2.79846539]. \t  \u001b[92m-17.678553106760162\u001b[0m \t -17.678553106760162\n",
            "7      \t [10.          6.71148706]. \t  -190.08811708685874 \t -17.678553106760162\n",
            "8      \t [4.56217031 3.95467915]. \t  -52.09237224952617 \t -17.678553106760162\n",
            "9      \t [-4.75259991 -6.5983492 ]. \t  -109.6636301662232 \t -17.678553106760162\n",
            "10     \t [  4.79396293 -10.        ]. \t  -222.9820805357883 \t -17.678553106760162\n",
            "11     \t [-10.  10.]. \t  -300.0 \t -17.678553106760162\n",
            "12     \t [ 5.70074228 -1.99648455]. \t  -40.470363617259416 \t -17.678553106760162\n",
            "13     \t [1.29227734 1.11142474]. \t  \u001b[92m-4.1405106418633775\u001b[0m \t -4.1405106418633775\n",
            "14     \t [-10.           1.27418431]. \t  -103.2470913081503 \t -4.1405106418633775\n",
            "15     \t [-0.05203625  8.44835811]. \t  -142.75221718596183 \t -4.1405106418633775\n",
            "16     \t [-4.83756634  3.4506174 ]. \t  -47.21556893390472 \t -4.1405106418633775\n",
            "17     \t [ 10. -10.]. \t  -300.0 \t -4.1405106418633775\n",
            "18     \t [-2.31835196 -3.09452382]. \t  -24.52691113827249 \t -4.1405106418633775\n",
            "19     \t [-10.          -5.74573187]. \t  -166.02686952822577 \t -4.1405106418633775\n",
            "20     \t [ 3.68987679 -5.73506496]. \t  -79.3971309770375 \t -4.1405106418633775\n"
          ]
        }
      ]
    },
    {
      "cell_type": "code",
      "metadata": {
        "colab": {
          "base_uri": "https://localhost:8080/"
        },
        "id": "4unvifF-GCXp",
        "outputId": "e68aeb28-3303-4b05-a531-e32b6e730893"
      },
      "source": [
        "### ESTIMATED GP EI GRADIENTS\n",
        "\n",
        "np.random.seed(run_num_8)\n",
        "surrogate_approx_8 = GaussianProcess(cov_func, optimize=opt)\n",
        "\n",
        "approx_8 = GPGO_multi(surrogate_approx_8, Acquisition_new(util_grad_approx), objfunc, param)\n",
        "approx_8.run(init_evals=n_init, max_iter=iters)\n"
      ],
      "execution_count": 20,
      "outputs": [
        {
          "output_type": "stream",
          "name": "stdout",
          "text": [
            "Evaluation \t Proposed point \t  Current eval. \t Best eval.\n",
            "init   \t [7.46858806 9.37081326]. \t  -231.40408972112363 \t -0.5791878792948744\n",
            "init   \t [7.3838908  0.61711383]. \t  -55.28350237060649 \t -0.5791878792948744\n",
            "init   \t [-5.34543344 -9.77202391]. \t  -219.5585614355461 \t -0.5791878792948744\n",
            "init   \t [-1.39062363 -1.9529728 ]. \t  -9.562039601098967 \t -0.5791878792948744\n",
            "init   \t [ 0.45349343 -0.43216408]. \t  -0.5791878792948744 \t -0.5791878792948744\n",
            "1      \t [ 9.69498875 -9.42535902]. \t  -271.6675921188219 \t -0.5791878792948744\n",
            "2      \t [-9.83383251  5.77166529]. \t  -163.3285022998636 \t -0.5791878792948744\n",
            "3      \t [-1.86374832  6.75869309]. \t  -94.83342240463715 \t -0.5791878792948744\n",
            "4      \t [-9.65586204 -5.07440767]. \t  -144.73489822426617 \t -0.5791878792948744\n",
            "5      \t [ 4.95960714 -5.5151507 ]. \t  -85.43147739534227 \t -0.5791878792948744\n",
            "6      \t [  0.80191989 -10.        ]. \t  -200.64307551603477 \t -0.5791878792948744\n",
            "7      \t [-6.78114712  0.20829845]. \t  -46.070732791456884 \t -0.5791878792948744\n",
            "8      \t [3.52330515 4.69562756]. \t  -56.51151546373298 \t -0.5791878792948744\n",
            "9      \t [10.         -3.85285395]. \t  -129.68896718181887 \t -0.5791878792948744\n",
            "10     \t [ 2.13034281 10.        ]. \t  -204.5383605025982 \t -0.5791878792948744\n",
            "11     \t [-6.25789675 10.        ]. \t  -239.16127168675058 \t -0.5791878792948744\n",
            "12     \t [-4.6699643  -4.72413046]. \t  -66.44338385533793 \t -0.5791878792948744\n",
            "13     \t [10.         4.7951421]. \t  -145.98677552228457 \t -0.5791878792948744\n",
            "14     \t [-2.46707612  2.10883492]. \t  -14.980834017366101 \t -0.5791878792948744\n",
            "15     \t [-10. -10.]. \t  -300.0 \t -0.5791878792948744\n",
            "16     \t [ 3.28338449 -1.18166689]. \t  -13.57328697282354 \t -0.5791878792948744\n",
            "17     \t [ 0.33694152 -5.38957331]. \t  -58.20853043990413 \t -0.5791878792948744\n",
            "18     \t [-5.61434237  4.47090074]. \t  -71.49874709449031 \t -0.5791878792948744\n",
            "19     \t [  5.2344775 -10.       ]. \t  -227.39975472654243 \t -0.5791878792948744\n",
            "20     \t [1.05327696 1.71871457]. \t  -7.017351924163838 \t -0.5791878792948744\n"
          ]
        }
      ]
    },
    {
      "cell_type": "code",
      "metadata": {
        "colab": {
          "base_uri": "https://localhost:8080/"
        },
        "id": "85OIXcg7GCaJ",
        "outputId": "3850c4bd-09ba-4e72-966c-34497dc088e4"
      },
      "source": [
        "### ESTIMATED GP EI GRADIENTS\n",
        "\n",
        "np.random.seed(run_num_9)\n",
        "surrogate_approx_9 = GaussianProcess(cov_func, optimize=opt)\n",
        "\n",
        "approx_9 = GPGO_multi(surrogate_approx_9, Acquisition_new(util_grad_approx), objfunc, param)\n",
        "approx_9.run(init_evals=n_init, max_iter=iters)\n"
      ],
      "execution_count": 21,
      "outputs": [
        {
          "output_type": "stream",
          "name": "stdout",
          "text": [
            "Evaluation \t Proposed point \t  Current eval. \t Best eval.\n",
            "init   \t [-9.79251692  0.03749184]. \t  -95.896198949837 \t -53.418783741178075\n",
            "init   \t [-0.08453414 -7.32340942]. \t  -107.27179711012016 \t -53.418783741178075\n",
            "init   \t [-7.15777829 -5.62882649]. \t  -114.6011653140891 \t -53.418783741178075\n",
            "init   \t [-1.62983639 -5.03797663]. \t  -53.418783741178075 \t -53.418783741178075\n",
            "init   \t [-8.31880698 -3.0900272 ]. \t  -88.29908569649677 \t -53.418783741178075\n",
            "1      \t [6.0747954  9.66718496]. \t  -223.8120694300478 \t -53.418783741178075\n",
            "2      \t [-3.94738717  9.4159639 ]. \t  -192.90261763630335 \t -53.418783741178075\n",
            "3      \t [ 10. -10.]. \t  -300.0 \t -53.418783741178075\n",
            "4      \t [6.86960633 0.80631353]. \t  \u001b[92m-48.49177417615124\u001b[0m \t -48.49177417615124\n",
            "5      \t [-3.38985889  2.55712881]. \t  \u001b[92m-24.56895874514872\u001b[0m \t -24.56895874514872\n",
            "6      \t [-9.43535893  5.95042309]. \t  -159.84106794164182 \t -24.56895874514872\n",
            "7      \t [ 5.92627071 -4.9618165 ]. \t  -84.35993053992273 \t -24.56895874514872\n",
            "8      \t [1.77097037 5.11823208]. \t  -55.52893523952233 \t -24.56895874514872\n",
            "9      \t [10.          5.38150481]. \t  -157.92118795690772 \t -24.56895874514872\n",
            "10     \t [ 1.46294542 -0.4828644 ]. \t  \u001b[92m-2.606525374204483\u001b[0m \t -2.606525374204483\n",
            "11     \t [-10. -10.]. \t  -300.0 \t -2.606525374204483\n",
            "12     \t [  4.44729873 -10.        ]. \t  -219.77846600052183 \t -2.606525374204483\n",
            "13     \t [ -4.45780317 -10.        ]. \t  -219.87200908468864 \t -2.606525374204483\n",
            "14     \t [ 1.02966673 10.        ]. \t  -201.06021356798897 \t -2.606525374204483\n",
            "15     \t [10.        -2.6392023]. \t  -113.9307775210968 \t -2.606525374204483\n",
            "16     \t [-8.47006233 10.        ]. \t  -271.7419558703104 \t -2.606525374204483\n",
            "17     \t [-4.10617883 -1.48385358]. \t  -21.264347435070682 \t -2.606525374204483\n",
            "18     \t [5.74956355 4.90153227]. \t  -81.10751823512575 \t -2.606525374204483\n",
            "19     \t [ 2.12794675 -3.47042549]. \t  -28.615863599073265 \t -2.606525374204483\n",
            "20     \t [10. 10.]. \t  -300.0 \t -2.606525374204483\n"
          ]
        }
      ]
    },
    {
      "cell_type": "code",
      "metadata": {
        "colab": {
          "base_uri": "https://localhost:8080/"
        },
        "id": "QQBR-qJPGCcp",
        "outputId": "afd25b56-5c6e-4801-f886-c0eda8659ad0"
      },
      "source": [
        "### ESTIMATED GP EI GRADIENTS\n",
        "\n",
        "np.random.seed(run_num_10)\n",
        "surrogate_approx_10 = GaussianProcess(cov_func, optimize=opt)\n",
        "\n",
        "approx_10 = GPGO_multi(surrogate_approx_10, Acquisition_new(util_grad_approx), objfunc, param)\n",
        "approx_10.run(init_evals=n_init, max_iter=iters)\n"
      ],
      "execution_count": 22,
      "outputs": [
        {
          "output_type": "stream",
          "name": "stdout",
          "text": [
            "Evaluation \t Proposed point \t  Current eval. \t Best eval.\n",
            "init   \t [ 5.42641287 -9.58496101]. \t  -213.18891181932327 \t -56.66743785259343\n",
            "init   \t [2.6729647  4.97607765]. \t  -56.66743785259343 \t -56.66743785259343\n",
            "init   \t [-0.02985975 -5.50406709]. \t  -60.59040065376497 \t -56.66743785259343\n",
            "init   \t [-6.0387427   5.21061424]. \t  -90.76741505398337 \t -56.66743785259343\n",
            "init   \t [-6.61778327 -8.23320372]. \t  -179.36634226756874 \t -56.66743785259343\n",
            "1      \t [10. 10.]. \t  -300.0 \t -56.66743785259343\n",
            "2      \t [2.11155129 0.26933255]. \t  \u001b[92m-4.603728884330075\u001b[0m \t -4.603728884330075\n",
            "3      \t [8.50713746 1.33499849]. \t  -75.93582966295617 \t -4.603728884330075\n",
            "4      \t [ 7.31105236 -3.79432586]. \t  -82.24530415903486 \t -4.603728884330075\n",
            "5      \t [-7.55328158 -0.82551542]. \t  -58.415013996797406 \t -4.603728884330075\n",
            "6      \t [-1.36043114  9.34692605]. \t  -176.58082606373057 \t -4.603728884330075\n",
            "7      \t [-10.  10.]. \t  -300.0 \t -4.603728884330075\n",
            "8      \t [ 4.31418179 10.        ]. \t  -218.61216449444646 \t -4.603728884330075\n",
            "9      \t [-10.         -4.5839962]. \t  -142.0260423916048 \t -4.603728884330075\n",
            "10     \t [-2.4488203 -0.2500222]. \t  -6.121743085845273 \t -4.603728884330075\n",
            "11     \t [ 10. -10.]. \t  -300.0 \t -4.603728884330075\n",
            "12     \t [ -1.69701004 -10.        ]. \t  -202.87984308675465 \t -4.603728884330075\n",
            "13     \t [-10.           3.01615713]. \t  -118.19440762809529 \t -4.603728884330075\n",
            "14     \t [6.87365093 5.59305166]. \t  -109.8115308951023 \t -4.603728884330075\n",
            "15     \t [-1.64933711  3.74949612]. \t  -30.83775519200877 \t -4.603728884330075\n",
            "16     \t [-4.31675238 -4.00014179]. \t  -50.63661968234881 \t -4.603728884330075\n",
            "17     \t [ 8.94060726 -6.77310684]. \t  -171.6844107414845 \t -4.603728884330075\n",
            "18     \t [ 3.79354031 -5.54638297]. \t  -75.91567611714672 \t -4.603728884330075\n",
            "19     \t [ 4.97867668 -0.55267667]. \t  -25.39812446022474 \t -4.603728884330075\n",
            "20     \t [-5.58871659 10.        ]. \t  -231.2337531087185 \t -4.603728884330075\n"
          ]
        }
      ]
    },
    {
      "cell_type": "code",
      "metadata": {
        "colab": {
          "base_uri": "https://localhost:8080/"
        },
        "id": "JS8ejeQ2GCfi",
        "outputId": "52107e97-6b14-43e1-9ef2-031de0aca2ea"
      },
      "source": [
        "### ESTIMATED GP EI GRADIENTS\n",
        "\n",
        "np.random.seed(run_num_11)\n",
        "surrogate_approx_11 = GaussianProcess(cov_func, optimize=opt)\n",
        "\n",
        "approx_11 = GPGO_multi(surrogate_approx_11, Acquisition_new(util_grad_approx), objfunc, param)\n",
        "approx_11.run(init_evals=n_init, max_iter=iters)\n"
      ],
      "execution_count": 23,
      "outputs": [
        {
          "output_type": "stream",
          "name": "stdout",
          "text": [
            "Evaluation \t Proposed point \t  Current eval. \t Best eval.\n",
            "init   \t [-6.39460622 -9.61049517]. \t  -225.61422357508457 \t -2.716881462565864\n",
            "init   \t [-0.73562947  4.49867858]. \t  -41.01736871863572 \t -2.716881462565864\n",
            "init   \t [-1.59592791 -0.29145804]. \t  -2.716881462565864 \t -2.716881462565864\n",
            "init   \t [-9.74438371 -0.25256785]. \t  -95.08059489374317 \t -2.716881462565864\n",
            "init   \t [8.83613305 7.01590179]. \t  -176.5230030066306 \t -2.716881462565864\n",
            "1      \t [ 1.99086793 -8.88652641]. \t  -161.90425830617428 \t -2.716881462565864\n",
            "2      \t [ 6.89877062 -3.95670624]. \t  -78.9040846386408 \t -2.716881462565864\n",
            "3      \t [ 10. -10.]. \t  -300.0 \t -2.716881462565864\n",
            "4      \t [-9.61343956  9.53289229]. \t  -274.1702911788162 \t -2.716881462565864\n",
            "5      \t [ 4.38485979 10.        ]. \t  -219.22699538443737 \t -2.716881462565864\n",
            "6      \t [5.24860912 2.85966119]. \t  -43.90322199383101 \t -2.716881462565864\n",
            "7      \t [-3.13061386 10.        ]. \t  -209.80074316382127 \t -2.716881462565864\n",
            "8      \t [-6.34328739  4.52497194]. \t  -81.18803709486731 \t -2.716881462565864\n",
            "9      \t [-5.23681028 -3.85828579]. \t  -57.19692044875505 \t -2.716881462565864\n",
            "10     \t [9.95727171 0.864619  ]. \t  -100.64239188267835 \t -2.716881462565864\n",
            "11     \t [ 1.62632207 -3.43936373]. \t  -26.30336920364397 \t -2.716881462565864\n",
            "12     \t [-10.          -5.70474283]. \t  -165.08818143216394 \t -2.716881462565864\n",
            "13     \t [-2.51773726 -7.25481961]. \t  -111.60381600439737 \t -2.716881462565864\n",
            "14     \t [-5.07766907  0.40786702]. \t  -26.11543421372351 \t -2.716881462565864\n",
            "15     \t [1.67906986 0.75105106]. \t  -3.947430978107828 \t -2.716881462565864\n",
            "16     \t [ 6.10710956 -8.01287875]. \t  -165.7092389278263 \t -2.716881462565864\n",
            "17     \t [2.84968506 5.99571412]. \t  -80.01788062169364 \t -2.716881462565864\n",
            "18     \t [ 4.46807888 -0.86764797]. \t  -21.46935488386363 \t -2.716881462565864\n",
            "19     \t [-10.           3.99695382]. \t  -131.95127972595236 \t -2.716881462565864\n",
            "20     \t [10.         -5.81364697]. \t  -167.59698207922793 \t -2.716881462565864\n"
          ]
        }
      ]
    },
    {
      "cell_type": "code",
      "metadata": {
        "colab": {
          "base_uri": "https://localhost:8080/"
        },
        "id": "DXwjUVZ4GCii",
        "outputId": "2d24f559-93ce-4578-d981-4eb45c2b5f2f"
      },
      "source": [
        "### ESTIMATED GP EI GRADIENTS\n",
        "\n",
        "np.random.seed(run_num_12)\n",
        "surrogate_approx_12 = GaussianProcess(cov_func, optimize=opt)\n",
        "\n",
        "approx_12 = GPGO_multi(surrogate_approx_12, Acquisition_new(util_grad_approx), objfunc, param)\n",
        "approx_12.run(init_evals=n_init, max_iter=iters)\n"
      ],
      "execution_count": 24,
      "outputs": [
        {
          "output_type": "stream",
          "name": "stdout",
          "text": [
            "Evaluation \t Proposed point \t  Current eval. \t Best eval.\n",
            "init   \t [-6.91674315  4.80099393]. \t  -93.94042127407329 \t -23.318590147261595\n",
            "init   \t [-4.7336997   0.67478787]. \t  -23.318590147261595 \t -23.318590147261595\n",
            "init   \t [-9.70850075  8.37494016]. \t  -234.53423225249676 \t -23.318590147261595\n",
            "init   \t [ 8.01429708 -9.33157145]. \t  -238.38540908259807 \t -23.318590147261595\n",
            "init   \t [ 9.13898673 -7.25581357]. \t  -188.8147395776428 \t -23.318590147261595\n",
            "1      \t [4.66251955 4.05244711]. \t  -54.583743654491954 \t -23.318590147261595\n",
            "2      \t [-3.75432006 -8.6025265 ]. \t  -162.1018436659056 \t -23.318590147261595\n",
            "3      \t [ 1.15529981 -4.1835841 ]. \t  -36.3394694490003 \t -23.318590147261595\n",
            "4      \t [10. 10.]. \t  -300.0 \t -23.318590147261595\n",
            "5      \t [-10.          -5.06744508]. \t  -151.35799937625652 \t -23.318590147261595\n",
            "6      \t [ 7.60598725 -1.0034128 ]. \t  -59.86471658020556 \t -23.318590147261595\n",
            "7      \t [2.84326371 9.57059691]. \t  -191.276799070881 \t -23.318590147261595\n",
            "8      \t [-3.73625415  9.82083157]. \t  -206.8570605707396 \t -23.318590147261595\n",
            "9      \t [  2.00282095 -10.        ]. \t  -204.01129174235146 \t -23.318590147261595\n",
            "10     \t [-0.92317029  4.64089155]. \t  -43.927992059469084 \t -23.318590147261595\n",
            "11     \t [10.          4.09763909]. \t  -133.58129217948624 \t -23.318590147261595\n",
            "12     \t [-10.           0.41374173]. \t  -100.34236444591707 \t -23.318590147261595\n",
            "13     \t [-10. -10.]. \t  -300.0 \t -23.318590147261595\n",
            "14     \t [1.38346554 0.4576058 ]. \t  \u001b[92m-2.332783048800926\u001b[0m \t -2.332783048800926\n",
            "15     \t [-3.71628963 -3.68336599]. \t  -40.94517861160507 \t -2.332783048800926\n",
            "16     \t [ 5.25813915 -4.83724922]. \t  -74.44598743156064 \t -2.332783048800926\n",
            "17     \t [-1.22548719 -0.66600387]. \t  -2.388941166954579 \t -2.332783048800926\n",
            "18     \t [6.62167864 7.37493781]. \t  -152.62604350465136 \t -2.332783048800926\n",
            "19     \t [ 3.72660711 -0.97731255]. \t  -15.797880200940861 \t -2.332783048800926\n",
            "20     \t [10.         -3.48600861]. \t  -124.3045121029314 \t -2.332783048800926\n"
          ]
        }
      ]
    },
    {
      "cell_type": "code",
      "metadata": {
        "colab": {
          "base_uri": "https://localhost:8080/"
        },
        "id": "CphOPndPGClX",
        "outputId": "68181e35-23f5-42aa-90a3-1f0f654812f8"
      },
      "source": [
        "### ESTIMATED GP EI GRADIENTS\n",
        "\n",
        "np.random.seed(run_num_13)\n",
        "surrogate_approx_13 = GaussianProcess(cov_func, optimize=opt)\n",
        "\n",
        "approx_13 = GPGO_multi(surrogate_approx_13, Acquisition_new(util_grad_approx), objfunc, param)\n",
        "approx_13.run(init_evals=n_init, max_iter=iters)\n"
      ],
      "execution_count": 25,
      "outputs": [
        {
          "output_type": "stream",
          "name": "stdout",
          "text": [
            "Evaluation \t Proposed point \t  Current eval. \t Best eval.\n",
            "init   \t [ 5.55404821 -5.2491756 ]. \t  -85.95514048001408 \t -47.45541115581226\n",
            "init   \t [6.48557065 9.31498396]. \t  -215.600479080162 \t -47.45541115581226\n",
            "init   \t [ 9.45202228 -0.93101505]. \t  -91.0743031984701 \t -47.45541115581226\n",
            "init   \t [2.18084926 5.51053029]. \t  -65.48799167425372 \t -47.45541115581226\n",
            "init   \t [2.8322669  4.44036459]. \t  -47.45541115581226 \t -47.45541115581226\n",
            "1      \t [-8.69830926  2.59657998]. \t  -89.14503917528086 \t -47.45541115581226\n",
            "2      \t [-5.9673185  -6.48540274]. \t  -119.72978734259729 \t -47.45541115581226\n",
            "3      \t [ -0.09997355 -10.        ]. \t  -200.0099947104059 \t -47.45541115581226\n",
            "4      \t [-10.  10.]. \t  -300.0 \t -47.45541115581226\n",
            "5      \t [ 0.01886313 -1.74696988]. \t  \u001b[92m-6.1041633558475406\u001b[0m \t -6.1041633558475406\n",
            "6      \t [ 10. -10.]. \t  -300.0 \t -6.1041633558475406\n",
            "7      \t [-2.56400012 10.        ]. \t  -206.57409661897597 \t -6.1041633558475406\n",
            "8      \t [-2.87275484  2.74181201]. \t  -23.28778653024679 \t -6.1041633558475406\n",
            "9      \t [10.          4.72043253]. \t  -144.56496645463946 \t -6.1041633558475406\n",
            "10     \t [-10.          -2.74087135]. \t  -115.0247514658673 \t -6.1041633558475406\n",
            "11     \t [-10. -10.]. \t  -300.0 \t -6.1041633558475406\n",
            "12     \t [ 4.35937311 -0.21030581]. \t  -19.092590963792855 \t -6.1041633558475406\n",
            "13     \t [-4.86967195 -1.52062929]. \t  -28.338331787996683 \t -6.1041633558475406\n",
            "14     \t [  4.89149847 -10.        ]. \t  -223.92675732133512 \t -6.1041633558475406\n",
            "15     \t [-6.05820067  6.53484868]. \t  -122.11028977820007 \t -6.1041633558475406\n",
            "16     \t [-1.34671845 -5.38598055]. \t  -59.831223615869526 \t -6.1041633558475406\n",
            "17     \t [10.         -5.31127223]. \t  -156.41922535826615 \t -6.1041633558475406\n",
            "18     \t [6.37712378 2.78189275]. \t  -56.14556225193609 \t -6.1041633558475406\n",
            "19     \t [ 1.98124311 10.        ]. \t  -203.92532427789024 \t -6.1041633558475406\n",
            "20     \t [ -4.33618753 -10.        ]. \t  -218.80252232519246 \t -6.1041633558475406\n"
          ]
        }
      ]
    },
    {
      "cell_type": "code",
      "metadata": {
        "colab": {
          "base_uri": "https://localhost:8080/"
        },
        "id": "ojHTeARNGCoi",
        "outputId": "d122ce4f-33b6-40f4-bc44-357e2b23879f"
      },
      "source": [
        "### ESTIMATED GP EI GRADIENTS\n",
        "\n",
        "np.random.seed(run_num_14)\n",
        "surrogate_approx_14 = GaussianProcess(cov_func, optimize=opt)\n",
        "\n",
        "approx_14 = GPGO_multi(surrogate_approx_14, Acquisition_new(util_grad_approx), objfunc, param)\n",
        "approx_14.run(init_evals=n_init, max_iter=iters)\n"
      ],
      "execution_count": 26,
      "outputs": [
        {
          "output_type": "stream",
          "name": "stdout",
          "text": [
            "Evaluation \t Proposed point \t  Current eval. \t Best eval.\n",
            "init   \t [0.27886688 5.46330104]. \t  -59.77308327621332 \t -26.48525945153859\n",
            "init   \t [ 7.40855371 -9.83906103]. \t  -248.5009120212351 \t -26.48525945153859\n",
            "init   \t [-3.80528149  9.15207479]. \t  -182.0011130426615 \t -26.48525945153859\n",
            "init   \t [ 0.26233425 -3.6343115 ]. \t  -26.48525945153859 \t -26.48525945153859\n",
            "init   \t [ 0.78399875 -5.57490115]. \t  -62.773699734431055 \t -26.48525945153859\n",
            "1      \t [ 9.82765998 -0.95725402]. \t  -98.41557117870066 \t -26.48525945153859\n",
            "2      \t [-8.1477833   0.47898709]. \t  -66.84523003287876 \t -26.48525945153859\n",
            "3      \t [ -7.20695028 -10.        ]. \t  -251.9401323835304 \t -26.48525945153859\n",
            "4      \t [10.          9.26137472]. \t  -271.5461234709518 \t -26.48525945153859\n",
            "5      \t [-10.  10.]. \t  -300.0 \t -26.48525945153859\n",
            "6      \t [3.92353293 0.90665186]. \t  \u001b[92m-17.038145794849914\u001b[0m \t -17.038145794849914\n",
            "7      \t [ 3.76543245 10.        ]. \t  -214.17848154329914 \t -17.038145794849914\n",
            "8      \t [-10.         -4.8427509]. \t  -146.90447264030172 \t -17.038145794849914\n",
            "9      \t [7.81755744 4.15485202]. \t  -95.63979494002666 \t -17.038145794849914\n",
            "10     \t [-2.65626121  0.8185664 ]. \t  \u001b[92m-8.395825521171973\u001b[0m \t -8.395825521171973\n",
            "11     \t [-4.62734949 -4.84381786]. \t  -68.33750622408995 \t -8.395825521171973\n",
            "12     \t [ 5.87989412 -4.46821556]. \t  -74.50305537652702 \t -8.395825521171973\n",
            "13     \t [-7.3827475   5.34698492]. \t  -111.6854562195951 \t -8.395825521171973\n",
            "14     \t [ -1.70396463 -10.        ]. \t  -202.90349546361605 \t -8.395825521171973\n",
            "15     \t [10.        -5.8355501]. \t  -168.10728984582943 \t -8.395825521171973\n",
            "16     \t [  2.833558 -10.      ]. \t  -208.02905094234475 \t -8.395825521171973\n",
            "17     \t [-3.46677715  4.20668351]. \t  -47.41091606927072 \t -8.395825521171973\n",
            "18     \t [4.1397134  5.62819375]. \t  -80.49035681797682 \t -8.395825521171973\n",
            "19     \t [0.51122692 1.30190363]. \t  \u001b[92m-3.6512590565665612\u001b[0m \t -3.6512590565665612\n",
            "20     \t [-0.09429575 10.        ]. \t  -200.00889168904502 \t -3.6512590565665612\n"
          ]
        }
      ]
    },
    {
      "cell_type": "code",
      "metadata": {
        "colab": {
          "base_uri": "https://localhost:8080/"
        },
        "id": "vCJzn4vWGCs3",
        "outputId": "7b5411bc-f728-4ec1-a560-47190cf9b0a3"
      },
      "source": [
        "### ESTIMATED GP EI GRADIENTS\n",
        "\n",
        "np.random.seed(run_num_15)\n",
        "surrogate_approx_15 = GaussianProcess(cov_func, optimize=opt)\n",
        "\n",
        "approx_15 = GPGO_multi(surrogate_approx_15, Acquisition_new(util_grad_approx), objfunc, param)\n",
        "approx_15.run(init_evals=n_init, max_iter=iters)\n"
      ],
      "execution_count": 27,
      "outputs": [
        {
          "output_type": "stream",
          "name": "stdout",
          "text": [
            "Evaluation \t Proposed point \t  Current eval. \t Best eval.\n",
            "init   \t [ 6.97635395 -6.4220815 ]. \t  -131.15577599697437 \t -20.897907943365695\n",
            "init   \t [-8.91273571 -2.76923108]. \t  -94.77413943464936 \t -20.897907943365695\n",
            "init   \t [-4.49198143  0.6000045 ]. \t  -20.897907943365695 \t -20.897907943365695\n",
            "init   \t [-3.88162169 -3.91051282]. \t  -45.651207890195394 \t -20.897907943365695\n",
            "init   \t [-7.76517448 -5.00201972]. \t  -110.33833725681367 \t -20.897907943365695\n",
            "1      \t [-1.08003705  9.49213271]. \t  -181.3676469637466 \t -20.897907943365695\n",
            "2      \t [10. 10.]. \t  -300.0 \t -20.897907943365695\n",
            "3      \t [3.69182439 3.52226735]. \t  -38.44230185968878 \t -20.897907943365695\n",
            "4      \t [-9.85336983  7.92181089]. \t  -222.59907269893387 \t -20.897907943365695\n",
            "5      \t [ -2.2403699 -10.       ]. \t  -205.01925729168363 \t -20.897907943365695\n",
            "6      \t [10.          2.38190017]. \t  -111.34689688318119 \t -20.897907943365695\n",
            "7      \t [ 1.8643329  -1.97027091]. \t  \u001b[92m-11.239672080603281\u001b[0m \t -11.239672080603281\n",
            "8      \t [-10. -10.]. \t  -300.0 \t -11.239672080603281\n",
            "9      \t [4.46630926 8.90575382]. \t  -178.57282063737188 \t -11.239672080603281\n",
            "10     \t [-10.           2.43538714]. \t  -111.8622209982342 \t -11.239672080603281\n",
            "11     \t [-4.85974738  5.58331986]. \t  -85.96406591812806 \t -11.239672080603281\n",
            "12     \t [  3.14764926 -10.        ]. \t  -209.90769584577615 \t -11.239672080603281\n",
            "13     \t [ 6.45103141 -1.24648716]. \t  -44.723266699030226 \t -11.239672080603281\n",
            "14     \t [ 10. -10.]. \t  -300.0 \t -11.239672080603281\n",
            "15     \t [-0.76971263  3.01093346]. \t  -18.72389808646391 \t -11.239672080603281\n",
            "16     \t [ 0.43140116 -5.87021954]. \t  -69.10506195667855 \t -11.239672080603281\n",
            "17     \t [-5.70585606 10.        ]. \t  -232.55679340915617 \t -11.239672080603281\n",
            "18     \t [7.62998306 5.88456951]. \t  -127.47295809920753 \t -11.239672080603281\n",
            "19     \t [10.         -3.19647611]. \t  -120.434918992484 \t -11.239672080603281\n",
            "20     \t [-1.23828522 -0.8386382 ]. \t  \u001b[92m-2.9399783510154407\u001b[0m \t -2.9399783510154407\n"
          ]
        }
      ]
    },
    {
      "cell_type": "code",
      "metadata": {
        "colab": {
          "base_uri": "https://localhost:8080/"
        },
        "id": "bGGkhp-kGCw6",
        "outputId": "38caa5f9-bf24-4a1a-948c-04c66a8b1f12"
      },
      "source": [
        "### ESTIMATED GP EI GRADIENTS\n",
        "\n",
        "np.random.seed(run_num_16)\n",
        "surrogate_approx_16 = GaussianProcess(cov_func, optimize=opt)\n",
        "\n",
        "approx_16 = GPGO_multi(surrogate_approx_16, Acquisition_new(util_grad_approx), objfunc, param)\n",
        "approx_16.run(init_evals=n_init, max_iter=iters)\n"
      ],
      "execution_count": 28,
      "outputs": [
        {
          "output_type": "stream",
          "name": "stdout",
          "text": [
            "Evaluation \t Proposed point \t  Current eval. \t Best eval.\n",
            "init   \t [-5.53417842  0.46326683]. \t  -31.056363058280656 \t -31.056363058280656\n",
            "init   \t [ 1.01402913 -9.087961  ]. \t  -166.21032525826828 \t -31.056363058280656\n",
            "init   \t [-2.78542329 -5.53838117]. \t  -69.10591480510183 \t -31.056363058280656\n",
            "init   \t [ 3.77452324 -6.7253715 ]. \t  -104.70826928786903 \t -31.056363058280656\n",
            "init   \t [-8.59350266  8.8202172 ]. \t  -229.44075111810224 \t -31.056363058280656\n",
            "1      \t [3.97836516 9.61245232]. \t  -200.62586856293916 \t -31.056363058280656\n",
            "2      \t [-10. -10.]. \t  -300.0 \t -31.056363058280656\n",
            "3      \t [ 10. -10.]. \t  -300.0 \t -31.056363058280656\n",
            "4      \t [ 8.8300141  -0.10570929]. \t  -77.99149800000582 \t -31.056363058280656\n",
            "5      \t [-2.22531694  5.42968011]. \t  -63.91488757640133 \t -31.056363058280656\n",
            "6      \t [-10.          -3.86254076]. \t  -129.83844217437115 \t -31.056363058280656\n",
            "7      \t [9.3879198  6.66195258]. \t  -176.89626258076225 \t -31.056363058280656\n",
            "8      \t [3.24004095 1.82719218]. \t  \u001b[92m-17.17512784841519\u001b[0m \t -17.17512784841519\n",
            "9      \t [-10.           3.23811517]. \t  -120.9707797385191 \t -17.17512784841519\n",
            "10     \t [-0.6880767  -0.87164012]. \t  \u001b[92m-1.992962543740782\u001b[0m \t -1.992962543740782\n",
            "11     \t [ -4.67398797 -10.        ]. \t  -221.84616355258328 \t -1.992962543740782\n",
            "12     \t [10.         -4.83877864]. \t  -146.82755739185686 \t -1.992962543740782\n",
            "13     \t [-3.45417601 10.        ]. \t  -211.93133190939253 \t -1.992962543740782\n",
            "14     \t [ 3.01922143 -1.74461124]. \t  -15.203034822006247 \t -1.992962543740782\n",
            "15     \t [2.07826657 5.53988576]. \t  -65.69986032580057 \t -1.992962543740782\n",
            "16     \t [6.48145423 3.5260605 ]. \t  -66.87545421404454 \t -1.992962543740782\n",
            "17     \t [-6.18262855  4.94626856]. \t  -87.15604120885351 \t -1.992962543740782\n",
            "18     \t [-6.78305263 -6.30746183]. \t  -125.57795255149273 \t -1.992962543740782\n",
            "19     \t [-0.54102038  1.90274741]. \t  -7.533598476871492 \t -1.992962543740782\n",
            "20     \t [  5.74079627 -10.        ]. \t  -232.95674177325924 \t -1.992962543740782\n"
          ]
        }
      ]
    },
    {
      "cell_type": "code",
      "metadata": {
        "id": "Yrs2mp7hGC1Z",
        "colab": {
          "base_uri": "https://localhost:8080/"
        },
        "outputId": "b344b878-ec44-4b01-d96e-d235ed3978fa"
      },
      "source": [
        "### ESTIMATED GP EI GRADIENTS\n",
        "\n",
        "np.random.seed(run_num_17)\n",
        "surrogate_approx_17 = GaussianProcess(cov_func, optimize=opt)\n",
        "\n",
        "approx_17 = GPGO_multi(surrogate_approx_17, Acquisition_new(util_grad_approx), objfunc, param)\n",
        "approx_17.run(init_evals=n_init, max_iter=iters)\n"
      ],
      "execution_count": 29,
      "outputs": [
        {
          "output_type": "stream",
          "name": "stdout",
          "text": [
            "Evaluation \t Proposed point \t  Current eval. \t Best eval.\n",
            "init   \t [-4.10669995  0.61173511]. \t  -17.613424143360255 \t -12.137436774523842\n",
            "init   \t [-6.16958426 -8.64199284]. \t  -187.43185031516856 \t -12.137436774523842\n",
            "init   \t [5.7397092  3.12667044]. \t  -52.49639772521824 \t -12.137436774523842\n",
            "init   \t [2.75041792 1.51205788]. \t  -12.137436774523842 \t -12.137436774523842\n",
            "init   \t [-9.21874168 -2.84372791]. \t  -101.1587749488933 \t -12.137436774523842\n",
            "1      \t [-10.  10.]. \t  -300.0 \t -12.137436774523842\n",
            "2      \t [ 4.54825031 -8.71744454]. \t  -172.6742595800706 \t -12.137436774523842\n",
            "3      \t [9.12376544 9.73620918]. \t  -272.83063435528607 \t -12.137436774523842\n",
            "4      \t [-0.05385845  7.96254756]. \t  -126.80722802594437 \t -12.137436774523842\n",
            "5      \t [ 9.06636127 -2.74323799]. \t  -97.24961590065784 \t -12.137436774523842\n",
            "6      \t [ 0.70729256 -3.78878158]. \t  -29.209994554081746 \t -12.137436774523842\n",
            "7      \t [-10.           3.09949319]. \t  -119.21371603272738 \t -12.137436774523842\n",
            "8      \t [-1.02859872 -9.21677652]. \t  -170.95595419028933 \t -12.137436774523842\n",
            "9      \t [ 10. -10.]. \t  -300.0 \t -12.137436774523842\n",
            "10     \t [-5.3824077  6.2752506]. \t  -107.72785280328094 \t -12.137436774523842\n",
            "11     \t [ 5.3709798  -3.82423889]. \t  -58.0970301095971 \t -12.137436774523842\n",
            "12     \t [-4.08047072 -4.0037084 ]. \t  -48.70960315469181 \t -12.137436774523842\n",
            "13     \t [10.          4.68999303]. \t  -143.99206927369764 \t -12.137436774523842\n",
            "14     \t [4.6671753  7.70064864]. \t  -140.3825043096074 \t -12.137436774523842\n",
            "15     \t [-0.9890081   3.39634347]. \t  -24.04843499634902 \t -12.137436774523842\n",
            "16     \t [-10. -10.]. \t  -300.0 \t -12.137436774523842\n",
            "17     \t [-0.5691051  -0.44170958]. \t  \u001b[92m-0.7140953202631145\u001b[0m \t -0.7140953202631145\n",
            "18     \t [-3.82736749 10.        ]. \t  -214.64874187046078 \t -0.7140953202631145\n",
            "19     \t [8.93852493 0.96801891]. \t  -81.77134907163716 \t -0.7140953202631145\n",
            "20     \t [10.         -6.24329335]. \t  -177.9574236244519 \t -0.7140953202631145\n"
          ]
        }
      ]
    },
    {
      "cell_type": "code",
      "metadata": {
        "id": "f0HIEP3PIUEa",
        "colab": {
          "base_uri": "https://localhost:8080/"
        },
        "outputId": "30844606-86ef-4cca-a7ae-d9af0c62032f"
      },
      "source": [
        "### ESTIMATED GP EI GRADIENTS\n",
        "\n",
        "np.random.seed(run_num_18)\n",
        "surrogate_approx_18 = GaussianProcess(cov_func, optimize=opt)\n",
        "\n",
        "approx_18 = GPGO_multi(surrogate_approx_18, Acquisition_new(util_grad_approx), objfunc, param)\n",
        "approx_18.run(init_evals=n_init, max_iter=iters)\n"
      ],
      "execution_count": 30,
      "outputs": [
        {
          "output_type": "stream",
          "name": "stdout",
          "text": [
            "Evaluation \t Proposed point \t  Current eval. \t Best eval.\n",
            "init   \t [3.00748483 0.10906747]. \t  -9.068756459576363 \t -9.068756459576363\n",
            "init   \t [ 7.57202942 -6.36319549]. \t  -138.3161432668939 \t -9.068756459576363\n",
            "init   \t [7.04466137 5.00272572]. \t  -99.6817831686958 \t -9.068756459576363\n",
            "init   \t [3.32203335 9.75790897]. \t  -201.4694803352836 \t -9.068756459576363\n",
            "init   \t [-4.86063155 -9.43388149]. \t  -201.6219791510955 \t -9.068756459576363\n",
            "1      \t [-6.1664519   4.28513481]. \t  -74.74988979878172 \t -9.068756459576363\n",
            "2      \t [-10.          -2.02144186]. \t  -108.17245437700176 \t -9.068756459576363\n",
            "3      \t [-10.  10.]. \t  -300.0 \t -9.068756459576363\n",
            "4      \t [-3.21758738  9.95406303]. \t  -208.5196101851006 \t -9.068756459576363\n",
            "5      \t [ 4.59940623 -9.59713586]. \t  -205.36457092968183 \t -9.068756459576363\n",
            "6      \t [-0.88289138 -3.88087663]. \t  -30.901904052010547 \t -9.068756459576363\n",
            "7      \t [10.         -0.96291614]. \t  -101.85441497388237 \t -9.068756459576363\n",
            "8      \t [10. 10.]. \t  -300.0 \t -9.068756459576363\n",
            "9      \t [0.02750819 4.71119042]. \t  -44.39138712337487 \t -9.068756459576363\n",
            "10     \t [-4.79218203 -0.76185233]. \t  -24.12584658509966 \t -9.068756459576363\n",
            "11     \t [-10.          -7.56585603]. \t  -214.48435491911516 \t -9.068756459576363\n",
            "12     \t [-0.10416972 -8.42549374]. \t  -141.9887407014911 \t -9.068756459576363\n",
            "13     \t [ 3.49181632 -4.07238538]. \t  -45.36142665134422 \t -9.068756459576363\n",
            "14     \t [-5.92216614 -4.81416722]. \t  -81.42446383307308 \t -9.068756459576363\n",
            "15     \t [-10.           6.03926349]. \t  -172.94540701649424 \t -9.068756459576363\n",
            "16     \t [ 10. -10.]. \t  -300.0 \t -9.068756459576363\n",
            "17     \t [-0.88502943  0.50149733]. \t  \u001b[92m-1.2862762429838608\u001b[0m \t -1.2862762429838608\n",
            "18     \t [-10.           1.94107446]. \t  -107.535540103414 \t -1.2862762429838608\n",
            "19     \t [ 6.06779316 -1.06604957]. \t  -39.09103718261845 \t -1.2862762429838608\n",
            "20     \t [-6.50403046  7.83822272]. \t  -165.1778829850922 \t -1.2862762429838608\n"
          ]
        }
      ]
    },
    {
      "cell_type": "code",
      "metadata": {
        "id": "S3mxRQDLIUPC",
        "colab": {
          "base_uri": "https://localhost:8080/"
        },
        "outputId": "d23890a5-8210-4151-f5d2-1da658a79d4b"
      },
      "source": [
        "### ESTIMATED GP EI GRADIENTS\n",
        "\n",
        "np.random.seed(run_num_19)\n",
        "surrogate_approx_19 = GaussianProcess(cov_func, optimize=opt)\n",
        "\n",
        "approx_19 = GPGO_multi(surrogate_approx_19, Acquisition_new(util_grad_approx), objfunc, param)\n",
        "approx_19.run(init_evals=n_init, max_iter=iters)\n"
      ],
      "execution_count": 31,
      "outputs": [
        {
          "output_type": "stream",
          "name": "stdout",
          "text": [
            "Evaluation \t Proposed point \t  Current eval. \t Best eval.\n",
            "init   \t [-8.04932797  5.22499433]. \t  -119.39281225846176 \t -87.03025225125222\n",
            "init   \t [-5.06124054 -7.23736625]. \t  -130.3750962570555 \t -87.03025225125222\n",
            "init   \t [-3.37106873 -8.3400087 ]. \t  -150.4755946408245 \t -87.03025225125222\n",
            "init   \t [3.43954163 6.13187596]. \t  -87.03025225125222 \t -87.03025225125222\n",
            "init   \t [9.65483829 2.7132147 ]. \t  -107.93897039562282 \t -87.03025225125222\n",
            "1      \t [ 10. -10.]. \t  -300.0 \t -87.03025225125222\n",
            "2      \t [ 4.81772344 -2.77685984]. \t  \u001b[92m-38.632360201328204\u001b[0m \t -38.632360201328204\n",
            "3      \t [10. 10.]. \t  -300.0 \t -38.632360201328204\n",
            "4      \t [-9.64931371 -1.76781368]. \t  -99.35958538505903 \t -38.632360201328204\n",
            "5      \t [ 2.60090225 -9.15139101]. \t  -174.260607390746 \t -38.632360201328204\n",
            "6      \t [-0.7867522 -0.2386478]. \t  \u001b[92m-0.7328845716310475\u001b[0m \t -0.7328845716310475\n",
            "7      \t [-1.10594833 10.        ]. \t  -201.2231217130977 \t -0.7328845716310475\n",
            "8      \t [-10. -10.]. \t  -300.0 \t -0.7328845716310475\n",
            "9      \t [-2.31799464  4.26556995]. \t  -41.76327313195862 \t -0.7328845716310475\n",
            "10     \t [10.        -4.0555002]. \t  -132.8941637702204 \t -0.7328845716310475\n",
            "11     \t [-10.  10.]. \t  -300.0 \t -0.7328845716310475\n",
            "12     \t [-4.46273205 -1.91982262]. \t  -27.28741509569842 \t -0.7328845716310475\n",
            "13     \t [ 0.05595744 -4.33099318]. \t  -37.518135032379035 \t -0.7328845716310475\n",
            "14     \t [2.62692005 1.37247275]. \t  -10.66807183248886 \t -0.7328845716310475\n",
            "15     \t [ 6.44863645 -6.81223345]. \t  -134.3979612943304 \t -0.7328845716310475\n",
            "16     \t [ 5.24297186 10.        ]. \t  -227.48875394385507 \t -0.7328845716310475\n",
            "17     \t [-5.46661256  8.95169889]. \t  -190.14967907950214 \t -0.7328845716310475\n",
            "18     \t [-5.7661432   1.67217615]. \t  -38.8407535499075 \t -0.7328845716310475\n",
            "19     \t [-9.16330541 -5.75650951]. \t  -150.24096954957145 \t -0.7328845716310475\n",
            "20     \t [6.0493644  0.92423149]. \t  -38.30321736746165 \t -0.7328845716310475\n"
          ]
        }
      ]
    },
    {
      "cell_type": "code",
      "metadata": {
        "id": "Aawd59dRIUYn",
        "colab": {
          "base_uri": "https://localhost:8080/"
        },
        "outputId": "7f87c697-97ec-42eb-da17-6e3ae5304e02"
      },
      "source": [
        "### ESTIMATED GP EI GRADIENTS\n",
        "\n",
        "np.random.seed(run_num_20)\n",
        "surrogate_approx_20 = GaussianProcess(cov_func, optimize=opt)\n",
        "\n",
        "approx_20 = GPGO_multi(surrogate_approx_20, Acquisition_new(util_grad_approx), objfunc, param)\n",
        "approx_20.run(init_evals=n_init, max_iter=iters)\n"
      ],
      "execution_count": 32,
      "outputs": [
        {
          "output_type": "stream",
          "name": "stdout",
          "text": [
            "Evaluation \t Proposed point \t  Current eval. \t Best eval.\n",
            "init   \t [1.76261602 7.95427456]. \t  -129.64778273349407 \t -6.161449614183514\n",
            "init   \t [7.83061459 6.31674955]. \t  -141.12117450686426 \t -6.161449614183514\n",
            "init   \t [-9.28220829  3.83515164]. \t  -115.57616682517047 \t -6.161449614183514\n",
            "init   \t [-2.42638116  0.37021891]. \t  -6.161449614183514 \t -6.161449614183514\n",
            "init   \t [ 3.15902931 -6.12299564]. \t  -84.96161746112533 \t -6.161449614183514\n",
            "1      \t [-10. -10.]. \t  -300.0 \t -6.161449614183514\n",
            "2      \t [-4.01456245 -6.6872889 ]. \t  -105.55637735489252 \t -6.161449614183514\n",
            "3      \t [ 10. -10.]. \t  -300.0 \t -6.161449614183514\n",
            "4      \t [6.75943299 0.83853385]. \t  -47.096212361777255 \t -6.161449614183514\n",
            "5      \t [-7.43971571 10.        ]. \t  -255.34936986894027 \t -6.161449614183514\n",
            "6      \t [-10.          -3.23445172]. \t  -120.92335580236933 \t -6.161449614183514\n",
            "7      \t [-4.09143665  4.94261142]. \t  -65.59866915067138 \t -6.161449614183514\n",
            "8      \t [10.         -3.99596699]. \t  -131.9355043103215 \t -6.161449614183514\n",
            "9      \t [1.83483017 2.51324138]. \t  -15.99936623573153 \t -6.161449614183514\n",
            "10     \t [ 2.31752264 -1.79953942]. \t  -11.847595469952807 \t -6.161449614183514\n",
            "11     \t [ -0.08835734 -10.        ]. \t  -200.0078070199743 \t -6.161449614183514\n",
            "12     \t [-6.42264549 -0.08422609]. \t  -41.26456316874636 \t -6.161449614183514\n",
            "13     \t [  5.18094991 -10.        ]. \t  -226.84224195710019 \t -6.161449614183514\n",
            "14     \t [-2.82611361  9.48028181]. \t  -187.73840472377 \t -6.161449614183514\n",
            "15     \t [10. 10.]. \t  -300.0 \t -6.161449614183514\n",
            "16     \t [-1.25696327 -3.27935993]. \t  -23.08835975202821 \t -6.161449614183514\n",
            "17     \t [ 5.44959024 10.        ]. \t  -229.69803376940348 \t -6.161449614183514\n",
            "18     \t [ 5.87817019 -3.05679722]. \t  -53.24090322988741 \t -6.161449614183514\n",
            "19     \t [10.          2.73186837]. \t  -114.92620960019907 \t -6.161449614183514\n",
            "20     \t [ -5.7690922 -10.       ]. \t  -233.28242486687458 \t -6.161449614183514\n"
          ]
        }
      ]
    },
    {
      "cell_type": "code",
      "metadata": {
        "id": "xkgzPRbBTHaq",
        "colab": {
          "base_uri": "https://localhost:8080/"
        },
        "outputId": "8f986fad-c2c2-4f3c-950b-f41b628e078b"
      },
      "source": [
        "end_approx = time.time()\n",
        "end_approx\n",
        "\n",
        "time_approx = end_approx - start_approx\n",
        "time_approx\n",
        "\n",
        "start_exact = time.time()\n",
        "start_exact"
      ],
      "execution_count": 33,
      "outputs": [
        {
          "output_type": "execute_result",
          "data": {
            "text/plain": [
              "1637161398.2060788"
            ]
          },
          "metadata": {},
          "execution_count": 33
        }
      ]
    },
    {
      "cell_type": "code",
      "metadata": {
        "id": "7CG3Ndvb16Rb",
        "colab": {
          "base_uri": "https://localhost:8080/"
        },
        "outputId": "f693ea52-91c3-4ddd-b33c-e30769477d3a"
      },
      "source": [
        "### EXACT GP EI GRADIENTS\n",
        "\n",
        "np.random.seed(run_num_1)\n",
        "surrogate_exact_1 = dGaussianProcess(cov_func, optimize=opt)\n",
        "\n",
        "exact_1 = dGPGO(surrogate_exact_1, Acquisition_new(util_grad_exact), objfunc, param)\n",
        "exact_1.run(init_evals=n_init, max_iter=iters)\n"
      ],
      "execution_count": 34,
      "outputs": [
        {
          "output_type": "stream",
          "name": "stdout",
          "text": [
            "Evaluation \t Proposed point \t  Current eval. \t Best eval.\n",
            "init   \t [-1.65955991  4.40648987]. \t  -41.5884450098667 \t -5.468172821636052\n",
            "init   \t [-9.9977125  -3.95334855]. \t  -131.21218477957908 \t -5.468172821636052\n",
            "init   \t [-7.06488218 -8.1532281 ]. \t  -182.86281732102734 \t -5.468172821636052\n",
            "init   \t [-6.27479577 -3.08878546]. \t  -58.4542532110911 \t -5.468172821636052\n",
            "init   \t [-2.06465052  0.77633468]. \t  -5.468172821636052 \t -5.468172821636052\n",
            "1      \t [ 7.89213327 -8.29911577]. \t  -200.03641276683908 \t -5.468172821636052\n",
            "2      \t [7.66612182 2.47344414]. \t  -71.00527566059496 \t -5.468172821636052\n",
            "3      \t [ 4.64016094 -3.34335642]. \t  -43.88715788097515 \t -5.468172821636052\n",
            "4      \t [-9.56950389  8.95940422]. \t  -252.11725289788865 \t -5.468172821636052\n",
            "5      \t [3.96114497 7.2895886 ]. \t  -121.96687341134742 \t -5.468172821636052\n",
            "6      \t [  0.4437871 -10.       ]. \t  -200.19694699142465 \t -5.468172821636052\n",
            "7      \t [-10.           2.47883816]. \t  -112.28927722734532 \t -5.468172821636052\n",
            "8      \t [9.02387571 8.10804067]. \t  -212.91097997027106 \t -5.468172821636052\n",
            "9      \t [-3.78825496  9.64834899]. \t  -200.53215197868823 \t -5.468172821636052\n",
            "10     \t [-1.74251227 -3.26847858]. \t  -24.402253445909754 \t -5.468172821636052\n",
            "11     \t [-6.09925028  4.94641621]. \t  -86.13492055454707 \t -5.468172821636052\n",
            "12     \t [ 8.66667016 -1.72827084]. \t  -81.08501176910906 \t -5.468172821636052\n",
            "13     \t [2.5399638  2.14599968]. \t  -15.662045371485835 \t -5.468172821636052\n",
            "14     \t [ 2.78255035 -6.57697636]. \t  -94.25582256829489 \t -5.468172821636052\n",
            "15     \t [ 0.58308715 -0.54091069]. \t  \u001b[92m-0.925159366968014\u001b[0m \t -0.925159366968014\n",
            "16     \t [-3.08101795 -6.88874461]. \t  -104.40227624606848 \t -0.925159366968014\n",
            "17     \t [-4.48200883 -0.23489744]. \t  -20.198756729294832 \t -0.925159366968014\n",
            "18     \t [0.21436943 8.60909259]. \t  -148.27890468775635 \t -0.925159366968014\n",
            "19     \t [ 1.40920195 -2.2929064 ]. \t  -12.500689638106017 \t -0.925159366968014\n",
            "20     \t [5.02147232 0.01110769]. \t  -25.215431054212452 \t -0.925159366968014\n"
          ]
        }
      ]
    },
    {
      "cell_type": "code",
      "metadata": {
        "id": "-ilCPSAu9SAg",
        "colab": {
          "base_uri": "https://localhost:8080/"
        },
        "outputId": "ed76b8df-c43b-40ab-e7b6-33846b73b3a2"
      },
      "source": [
        "### EXACT GP EI GRADIENTS\n",
        "\n",
        "np.random.seed(run_num_2)\n",
        "surrogate_exact_2 = dGaussianProcess(cov_func, optimize=opt)\n",
        "\n",
        "exact_2 = dGPGO(surrogate_exact_2, Acquisition_new(util_grad_exact), objfunc, param)\n",
        "exact_2.run(init_evals=n_init, max_iter=iters)\n"
      ],
      "execution_count": 35,
      "outputs": [
        {
          "output_type": "stream",
          "name": "stdout",
          "text": [
            "Evaluation \t Proposed point \t  Current eval. \t Best eval.\n",
            "init   \t [-1.28010196 -9.48147536]. \t  -181.43541115584648 \t -4.333099000920773\n",
            "init   \t [ 0.99324956 -1.29355215]. \t  -4.333099000920773 \t -4.333099000920773\n",
            "init   \t [-1.59264396 -3.39330358]. \t  -25.565533148780872 \t -4.333099000920773\n",
            "init   \t [-5.90702732  2.38541933]. \t  -46.27342248166184 \t -4.333099000920773\n",
            "init   \t [-4.00690653 -4.6634545 ]. \t  -59.55091562094812 \t -4.333099000920773\n",
            "1      \t [4.01504693 9.2910216 ]. \t  -188.7667666769868 \t -4.333099000920773\n",
            "2      \t [ 9.4582138 -7.7444757]. \t  -209.411615827435 \t -4.333099000920773\n",
            "3      \t [-10. -10.]. \t  -300.0 \t -4.333099000920773\n",
            "4      \t [8.51803193 1.4054842 ]. \t  -76.50763960826586 \t -4.333099000920773\n",
            "5      \t [-10.          -1.52390572]. \t  -104.64457727289565 \t -4.333099000920773\n",
            "6      \t [-3.25263411  9.0402141 ]. \t  -174.03057068772284 \t -4.333099000920773\n",
            "7      \t [-9.16538324  6.94216747]. \t  -180.39162828313303 \t -4.333099000920773\n",
            "8      \t [0.74716412 4.29268162]. \t  -37.41248519370909 \t -4.333099000920773\n",
            "9      \t [ 2.97110523 -6.62707558]. \t  -96.6637277712275 \t -4.333099000920773\n",
            "10     \t [6.30540632 5.06773659]. \t  -91.122057146761 \t -4.333099000920773\n",
            "11     \t [9.32228351 8.426495  ]. \t  -228.91660564575466 \t -4.333099000920773\n",
            "12     \t [-1.94789075  0.92193213]. \t  -5.494196074163368 \t -4.333099000920773\n",
            "13     \t [ 6.63567166 -4.27559583]. \t  -80.59357782402824 \t -4.333099000920773\n",
            "14     \t [ -5.56809326 -10.        ]. \t  -231.00366260731712 \t -4.333099000920773\n",
            "15     \t [-8.19563461 -5.70022305]. \t  -132.1535123044354 \t -4.333099000920773\n",
            "16     \t [-9.20853298  1.87949346]. \t  -91.86207098067467 \t -4.333099000920773\n",
            "17     \t [ 4.12183445 -1.15742975]. \t  -19.668806471810296 \t -4.333099000920773\n",
            "18     \t [-6.11780078 -1.417923  ]. \t  -41.44849766930027 \t -4.333099000920773\n",
            "19     \t [3.53987679 2.25334346]. \t  -22.685841203326653 \t -4.333099000920773\n",
            "20     \t [0.15070919 9.59119908]. \t  -184.00491278325495 \t -4.333099000920773\n"
          ]
        }
      ]
    },
    {
      "cell_type": "code",
      "metadata": {
        "id": "XieJ158mIvlP",
        "colab": {
          "base_uri": "https://localhost:8080/"
        },
        "outputId": "2867721c-5a75-4761-c916-0aa09b217b9a"
      },
      "source": [
        "### EXACT GP EI GRADIENTS\n",
        "\n",
        "np.random.seed(run_num_3)\n",
        "surrogate_exact_3 = dGaussianProcess(cov_func, optimize=opt)\n",
        "\n",
        "exact_3 = dGPGO(surrogate_exact_3, Acquisition_new(util_grad_exact), objfunc, param)\n",
        "exact_3.run(init_evals=n_init, max_iter=iters)\n"
      ],
      "execution_count": 36,
      "outputs": [
        {
          "output_type": "stream",
          "name": "stdout",
          "text": [
            "Evaluation \t Proposed point \t  Current eval. \t Best eval.\n",
            "init   \t [1.01595805 4.16295645]. \t  -35.692583610916834 \t -17.582120911078754\n",
            "init   \t [-4.18190522  0.2165521 ]. \t  -17.582120911078754 \t -17.582120911078754\n",
            "init   \t [7.85893909 7.92586178]. \t  -187.4014934415638 \t -17.582120911078754\n",
            "init   \t [-7.48829379 -5.85514244]. \t  -124.63992981683481 \t -17.582120911078754\n",
            "init   \t [-8.97065593 -1.18380313]. \t  -83.2754475728413 \t -17.582120911078754\n",
            "1      \t [ 5.60629529 -3.87272935]. \t  -61.42661215628989 \t -17.582120911078754\n",
            "2      \t [-6.2437035   9.04202486]. \t  -202.50026057521436 \t -17.582120911078754\n",
            "3      \t [-0.35005916 -4.25900471]. \t  -36.40078359655554 \t -17.582120911078754\n",
            "4      \t [-0.6382034  -9.90272847]. \t  -196.53536596696614 \t -17.582120911078754\n",
            "5      \t [6.76733242 2.12886663]. \t  -54.860934285570536 \t -17.582120911078754\n",
            "6      \t [ 9.91572611 -9.01887335]. \t  -261.00177731356047 \t -17.582120911078754\n",
            "7      \t [-10. -10.]. \t  -300.0 \t -17.582120911078754\n",
            "8      \t [-9.43411856  4.82714338]. \t  -135.60521956559953 \t -17.582120911078754\n",
            "9      \t [-1.57247283  7.36334462]. \t  -110.91035877714175 \t -17.582120911078754\n",
            "10     \t [ 9.60671268 -2.47767732]. \t  -104.5666984030631 \t -17.582120911078754\n",
            "11     \t [ 3.06806496 -8.28975197]. \t  -146.8529981945441 \t -17.582120911078754\n",
            "12     \t [ 2.44272    -0.36936642]. \t  \u001b[92m-6.2397440850025\u001b[0m \t -6.2397440850025\n",
            "13     \t [ -5.2544054 -10.       ]. \t  -227.6087760821516 \t -6.2397440850025\n",
            "14     \t [2.65473428 8.52235265]. \t  -152.30860346487748 \t -6.2397440850025\n",
            "15     \t [-4.23440557  3.72385202]. \t  -45.66433827120872 \t -6.2397440850025\n",
            "16     \t [-4.70317984 -3.05014042]. \t  -40.726613817434796 \t -6.2397440850025\n",
            "17     \t [-1.36620555  1.54757617]. \t  -6.656501619829168 \t -6.2397440850025\n",
            "18     \t [ 6.32783091 -7.09600051]. \t  -140.7478906841501 \t -6.2397440850025\n",
            "19     \t [-7.21682147  1.88342918]. \t  -59.1771229906154 \t -6.2397440850025\n",
            "20     \t [4.57420007 5.13913644]. \t  -73.74475300719034 \t -6.2397440850025\n"
          ]
        }
      ]
    },
    {
      "cell_type": "code",
      "metadata": {
        "id": "PhLBVOIfIvol",
        "colab": {
          "base_uri": "https://localhost:8080/"
        },
        "outputId": "2995f79d-3c95-4e49-f53d-ce1ae95b2ef0"
      },
      "source": [
        "### EXACT GP EI GRADIENTS\n",
        "\n",
        "np.random.seed(run_num_4)\n",
        "surrogate_exact_4 = dGaussianProcess(cov_func, optimize=opt)\n",
        "\n",
        "exact_4 = dGPGO(surrogate_exact_4, Acquisition_new(util_grad_exact), objfunc, param)\n",
        "exact_4.run(init_evals=n_init, max_iter=iters)\n"
      ],
      "execution_count": 37,
      "outputs": [
        {
          "output_type": "stream",
          "name": "stdout",
          "text": [
            "Evaluation \t Proposed point \t  Current eval. \t Best eval.\n",
            "init   \t [9.34059678 0.94464498]. \t  -89.0314565014143 \t -27.80880071439404\n",
            "init   \t [9.4536872  4.29631987]. \t  -126.28893057280868 \t -27.80880071439404\n",
            "init   \t [ 3.95457649 -5.67821009]. \t  -80.12281484649141 \t -27.80880071439404\n",
            "init   \t [ 9.5254891 -9.8753949]. \t  -285.78179120922215 \t -27.80880071439404\n",
            "init   \t [-4.94035275 -1.30416935]. \t  -27.80880071439404 \t -27.80880071439404\n",
            "1      \t [-6.35109191  8.36766078]. \t  -180.3718623830372 \t -27.80880071439404\n",
            "2      \t [ -6.6170406 -10.       ]. \t  -243.7852262715758 \t -27.80880071439404\n",
            "3      \t [2.73697346 9.11609188]. \t  -173.69728602361354 \t -27.80880071439404\n",
            "4      \t [0.97610237 1.99594982]. \t  \u001b[92m-8.92040722633793\u001b[0m \t -8.92040722633793\n",
            "5      \t [-9.2450964   2.86617043]. \t  -101.9016732569988 \t -8.92040722633793\n",
            "6      \t [ -0.6482964 -10.       ]. \t  -200.420288226336 \t -8.92040722633793\n",
            "7      \t [-10.          -3.79919563]. \t  -128.86777483905263 \t -8.92040722633793\n",
            "8      \t [ 4.47292794 -0.38450634]. \t  -20.302774618991503 \t -8.92040722633793\n",
            "9      \t [-3.49990801  3.60579299]. \t  -38.25284216439172 \t -8.92040722633793\n",
            "10     \t [9.53194013 9.98728079]. \t  -290.34943791597107 \t -8.92040722633793\n",
            "11     \t [-1.14885892 -4.31936269]. \t  -38.633664894102104 \t -8.92040722633793\n",
            "12     \t [ 9.86977702 -4.16110409]. \t  -132.0420729114083 \t -8.92040722633793\n",
            "13     \t [  4.31431399 -10.        ]. \t  -218.6133051707853 \t -8.92040722633793\n",
            "14     \t [-5.30372456 -5.70018479]. \t  -93.11370738357022 \t -8.92040722633793\n",
            "15     \t [-10.          -8.09691254]. \t  -231.119985377538 \t -8.92040722633793\n",
            "16     \t [-1.77256699  8.0056287 ]. \t  -131.3221753638321 \t -8.92040722633793\n",
            "17     \t [4.44547937 4.54979661]. \t  -61.163585140954 \t -8.92040722633793\n",
            "18     \t [ 0.86333602 -1.26909383]. \t  \u001b[92m-3.966547365421577\u001b[0m \t -3.966547365421577\n",
            "19     \t [0.88088119 4.90757656]. \t  -48.9445669845244 \t -3.966547365421577\n",
            "20     \t [6.13589128 7.08110592]. \t  -137.93328403437414 \t -3.966547365421577\n"
          ]
        }
      ]
    },
    {
      "cell_type": "code",
      "metadata": {
        "id": "arbiPyj2IvsJ",
        "colab": {
          "base_uri": "https://localhost:8080/"
        },
        "outputId": "8ad751ce-3961-45b0-b3f6-bf8c547e48e4"
      },
      "source": [
        "### EXACT GP EI GRADIENTS\n",
        "\n",
        "np.random.seed(run_num_5)\n",
        "surrogate_exact_5 = dGaussianProcess(cov_func, optimize=opt)\n",
        "\n",
        "exact_5 = dGPGO(surrogate_exact_5, Acquisition_new(util_grad_exact), objfunc, param)\n",
        "exact_5.run(init_evals=n_init, max_iter=iters)\n"
      ],
      "execution_count": 38,
      "outputs": [
        {
          "output_type": "stream",
          "name": "stdout",
          "text": [
            "Evaluation \t Proposed point \t  Current eval. \t Best eval.\n",
            "init   \t [-5.56013658  7.41464612]. \t  -140.86907304317228 \t -10.04307293518387\n",
            "init   \t [-5.86561689  8.37221816]. \t  -174.59353533361667 \t -10.04307293518387\n",
            "init   \t [-0.23177622  2.23487726]. \t  -10.04307293518387 \t -10.04307293518387\n",
            "init   \t [5.31815713 0.36835976]. \t  -28.554173077012745 \t -10.04307293518387\n",
            "init   \t [-4.06398997 -6.24557543]. \t  -94.53043928694063 \t -10.04307293518387\n",
            "1      \t [9.27861058 9.20453431]. \t  -255.5395178906315 \t -10.04307293518387\n",
            "2      \t [ 8.87080164 -7.76615146]. \t  -199.31733862713008 \t -10.04307293518387\n",
            "3      \t [-10. -10.]. \t  -300.0 \t -10.04307293518387\n",
            "4      \t [2.82929545 9.76335526]. \t  -198.65112458457682 \t -10.04307293518387\n",
            "5      \t [ 3.10225663 -9.19850888]. \t  -178.849127525796 \t -10.04307293518387\n",
            "6      \t [-9.86783784 -1.34138829]. \t  -100.97286872831327 \t -10.04307293518387\n",
            "7      \t [ 1.12995491 -3.44368861]. \t  -24.99478053076973 \t -10.04307293518387\n",
            "8      \t [-5.23988781  1.63564392]. \t  -32.80708636715136 \t -10.04307293518387\n",
            "9      \t [-10.           4.19056391]. \t  -135.12165184787528 \t -10.04307293518387\n",
            "10     \t [2.28842228 5.20643353]. \t  -59.45077669057276 \t -10.04307293518387\n",
            "11     \t [ -1.9604515 -10.       ]. \t  -203.84337007088124 \t -10.04307293518387\n",
            "12     \t [ 8.20061259 -2.69742324]. \t  -81.80223120238888 \t -10.04307293518387\n",
            "13     \t [6.9475456  4.78085263]. \t  -93.98149361006263 \t -10.04307293518387\n",
            "14     \t [-8.95695993 -5.52571523]. \t  -141.29418873883154 \t -10.04307293518387\n",
            "15     \t [-2.55063405 -2.07459303]. \t  -15.113606517405556 \t -10.04307293518387\n",
            "16     \t [-1.44418559  8.01543535]. \t  -130.58007977047095 \t -10.04307293518387\n",
            "17     \t [9.88488506 1.25127802]. \t  -100.84234604094294 \t -10.04307293518387\n",
            "18     \t [-6.12705752 -2.15844523]. \t  -46.858605503527876 \t -10.04307293518387\n",
            "19     \t [ 1.79405273 -0.02078533]. \t  \u001b[92m-3.219489269669982\u001b[0m \t -3.219489269669982\n",
            "20     \t [-2.66357506  4.17487579]. \t  -41.95380776088019 \t -3.219489269669982\n"
          ]
        }
      ]
    },
    {
      "cell_type": "code",
      "metadata": {
        "id": "04KJCEm_Ivvf",
        "colab": {
          "base_uri": "https://localhost:8080/"
        },
        "outputId": "e0923747-0d18-438b-aa49-3ee46c526239"
      },
      "source": [
        "### EXACT GP EI GRADIENTS\n",
        "\n",
        "np.random.seed(run_num_6)\n",
        "surrogate_exact_6 = dGaussianProcess(cov_func, optimize=opt)\n",
        "\n",
        "exact_6 = dGPGO(surrogate_exact_6, Acquisition_new(util_grad_exact), objfunc, param)\n",
        "exact_6.run(init_evals=n_init, max_iter=iters)\n"
      ],
      "execution_count": 39,
      "outputs": [
        {
          "output_type": "stream",
          "name": "stdout",
          "text": [
            "Evaluation \t Proposed point \t  Current eval. \t Best eval.\n",
            "init   \t [ 7.85720303 -3.36040389]. \t  -84.32026809583151 \t -5.629416961321397\n",
            "init   \t [ 6.42458246 -9.16606749]. \t  -209.30884609749882 \t -5.629416961321397\n",
            "init   \t [-7.8468664   1.90104128]. \t  -68.80122824744078 \t -5.629416961321397\n",
            "init   \t [ 0.59634724 -1.62385143]. \t  -5.629416961321397 \t -5.629416961321397\n",
            "init   \t [-3.29184301  2.45038864]. \t  -22.84503944485431 \t -5.629416961321397\n",
            "1      \t [4.34664291 8.74699069]. \t  -171.91299695999675 \t -5.629416961321397\n",
            "2      \t [-4.96771714 -9.17248997]. \t  -192.94735819477367 \t -5.629416961321397\n",
            "3      \t [9.57427611 1.74148842]. \t  -97.7323268667615 \t -5.629416961321397\n",
            "4      \t [-5.6935267   8.60486508]. \t  -180.50365249520243 \t -5.629416961321397\n",
            "5      \t [-10.          -3.47745345]. \t  -124.18536495887679 \t -5.629416961321397\n",
            "6      \t [ 0.83529115 -7.08205508]. \t  -101.00871949845344 \t -5.629416961321397\n",
            "7      \t [3.26132064 2.94474417]. \t  -27.979248746918724 \t -5.629416961321397\n",
            "8      \t [-10. -10.]. \t  -300.0 \t -5.629416961321397\n",
            "9      \t [-1.22868843  4.34354782]. \t  -39.24249056209099 \t -5.629416961321397\n",
            "10     \t [9.10343891 6.83055529]. \t  -176.18557108067256 \t -5.629416961321397\n",
            "11     \t [0.03633183 8.14303727]. \t  -132.61943200238898 \t -5.629416961321397\n",
            "12     \t [-4.95641825 -2.20451216]. \t  -34.285829595174754 \t -5.629416961321397\n",
            "13     \t [ 5.21347435 -0.8833208 ]. \t  -28.74082607218724 \t -5.629416961321397\n",
            "14     \t [-9.59923296  5.05810789]. \t  -143.3141843478383 \t -5.629416961321397\n",
            "15     \t [-2.90342459 -5.29302386]. \t  -64.46207756995183 \t -5.629416961321397\n",
            "16     \t [ 2.97167334 -3.92830411]. \t  -39.69398883840505 \t -5.629416961321397\n",
            "17     \t [ -1.16981241 -10.        ]. \t  -201.36846107750787 \t -5.629416961321397\n",
            "18     \t [-1.96793275 -0.44018156]. \t  \u001b[92m-4.260278916908539\u001b[0m \t -4.260278916908539\n",
            "19     \t [-9.55366649  8.86199748]. \t  -248.3425419973895 \t -4.260278916908539\n",
            "20     \t [ 9.33436123 -6.45822685]. \t  -170.54768772160466 \t -4.260278916908539\n"
          ]
        }
      ]
    },
    {
      "cell_type": "code",
      "metadata": {
        "id": "tAOkme3CIvyO",
        "colab": {
          "base_uri": "https://localhost:8080/"
        },
        "outputId": "12655a74-b4ba-4e52-c2d7-a0a0b840b192"
      },
      "source": [
        "### EXACT GP EI GRADIENTS\n",
        "\n",
        "np.random.seed(run_num_7)\n",
        "surrogate_exact_7 = dGaussianProcess(cov_func, optimize=opt)\n",
        "\n",
        "exact_7 = dGPGO(surrogate_exact_7, Acquisition_new(util_grad_exact), objfunc, param)\n",
        "exact_7.run(init_evals=n_init, max_iter=iters)\n"
      ],
      "execution_count": 40,
      "outputs": [
        {
          "output_type": "stream",
          "name": "stdout",
          "text": [
            "Evaluation \t Proposed point \t  Current eval. \t Best eval.\n",
            "init   \t [-8.47383421  5.59837584]. \t  -134.48949046062052 \t -21.448213419349443\n",
            "init   \t [-1.23181537  4.46930356]. \t  -41.46671767109191 \t -21.448213419349443\n",
            "init   \t [9.55979024 0.76991741]. \t  -92.57513506242564 \t -21.448213419349443\n",
            "init   \t [ 0.02240927 -8.55897733]. \t  -146.51268814245697 \t -21.448213419349443\n",
            "init   \t [-4.63122040e+00 -2.34998349e-03]. \t  -21.448213419349443 \t -21.448213419349443\n",
            "1      \t [ 8.12846538 -6.39096762]. \t  -147.76088362344177 \t -21.448213419349443\n",
            "2      \t [6.00958098 8.78222707]. \t  -190.37008833601834 \t -21.448213419349443\n",
            "3      \t [-9.10467478 -9.8356699 ]. \t  -276.3759076385656 \t -21.448213419349443\n",
            "4      \t [-7.86246511 -2.61028169]. \t  -75.44549865130998 \t -21.448213419349443\n",
            "5      \t [ 3.84345877 -0.38497203]. \t  \u001b[92m-15.06858220015437\u001b[0m \t -15.06858220015437\n",
            "6      \t [-9.88716092  9.98416603]. \t  -297.1230936372125 \t -15.06858220015437\n",
            "7      \t [-2.78617785  9.79828268]. \t  -199.77547398367838 \t -15.06858220015437\n",
            "8      \t [-4.77121963 -6.54858228]. \t  -108.53239655169122 \t -15.06858220015437\n",
            "9      \t [ 0.41625966 -3.61322743]. \t  -26.284096982499456 \t -15.06858220015437\n",
            "10     \t [  4.76516063 -10.        ]. \t  -222.70675585532453 \t -15.06858220015437\n",
            "11     \t [3.65066152 4.21756511]. \t  -48.90304045947693 \t -15.06858220015437\n",
            "12     \t [-8.60965095  1.20309324]. \t  -77.02095607686468 \t -15.06858220015437\n",
            "13     \t [ 3.98603362 -5.08410913]. \t  -67.58479531004461 \t -15.06858220015437\n",
            "14     \t [-1.07202954  0.50863879]. \t  \u001b[92m-1.6666741813725956\u001b[0m \t -1.6666741813725956\n",
            "15     \t [8.33877908 5.05373455]. \t  -120.61570235340807 \t -1.6666741813725956\n",
            "16     \t [2.23165943 9.48914494]. \t  -185.06804707843273 \t -1.6666741813725956\n",
            "17     \t [-10.          -6.00891698]. \t  -172.21416653028854 \t -1.6666741813725956\n",
            "18     \t [-5.18680639  3.308096  ]. \t  -48.78995882341293 \t -1.6666741813725956\n",
            "19     \t [ -3.7477304 -10.       ]. \t  -214.04548314454175 \t -1.6666741813725956\n",
            "20     \t [ 6.81354647 -2.58374803]. \t  -59.7759232142913 \t -1.6666741813725956\n"
          ]
        }
      ]
    },
    {
      "cell_type": "code",
      "metadata": {
        "id": "69-J3EF4Iv1S",
        "colab": {
          "base_uri": "https://localhost:8080/"
        },
        "outputId": "2c8de39e-0838-447c-ac5d-fbcbf5ddf484"
      },
      "source": [
        "### EXACT GP EI GRADIENTS\n",
        "\n",
        "np.random.seed(run_num_8)\n",
        "surrogate_exact_8 = dGaussianProcess(cov_func, optimize=opt)\n",
        "\n",
        "exact_8 = dGPGO(surrogate_exact_8, Acquisition_new(util_grad_exact), objfunc, param)\n",
        "exact_8.run(init_evals=n_init, max_iter=iters)\n"
      ],
      "execution_count": 41,
      "outputs": [
        {
          "output_type": "stream",
          "name": "stdout",
          "text": [
            "Evaluation \t Proposed point \t  Current eval. \t Best eval.\n",
            "init   \t [7.46858806 9.37081326]. \t  -231.40408972112363 \t -0.5791878792948744\n",
            "init   \t [7.3838908  0.61711383]. \t  -55.28350237060649 \t -0.5791878792948744\n",
            "init   \t [-5.34543344 -9.77202391]. \t  -219.5585614355461 \t -0.5791878792948744\n",
            "init   \t [-1.39062363 -1.9529728 ]. \t  -9.562039601098967 \t -0.5791878792948744\n",
            "init   \t [ 0.45349343 -0.43216408]. \t  -0.5791878792948744 \t -0.5791878792948744\n",
            "1      \t [ 9.69498875 -9.42535902]. \t  -271.6675921188219 \t -0.5791878792948744\n",
            "2      \t [-9.83383251  5.77166529]. \t  -163.3285022998636 \t -0.5791878792948744\n",
            "3      \t [-7.89708994 -2.77350461]. \t  -77.74868519550147 \t -0.5791878792948744\n",
            "4      \t [-4.20358332  9.04028189]. \t  -181.12350594590396 \t -0.5791878792948744\n",
            "5      \t [2.18140819 4.64561701]. \t  -47.922056395607754 \t -0.5791878792948744\n",
            "6      \t [  2.01076724 -10.        ]. \t  -204.04318489522745 \t -0.5791878792948744\n",
            "7      \t [ 3.96778394 -5.06923338]. \t  -67.13756356779865 \t -0.5791878792948744\n",
            "8      \t [-2.76819601  2.67287657]. \t  -21.951447477015833 \t -0.5791878792948744\n",
            "9      \t [ 9.53114629 -3.92766312]. \t  -121.69582475234068 \t -0.5791878792948744\n",
            "10     \t [-10.          -7.46424062]. \t  -211.4297759957161 \t -0.5791878792948744\n",
            "11     \t [-1.48550836 -6.3509271 ]. \t  -82.87528514467024 \t -0.5791878792948744\n",
            "12     \t [-7.10177591  1.38808601]. \t  -54.288786610613435 \t -0.5791878792948744\n",
            "13     \t [ 3.11977666 -0.05604324]. \t  -9.739288071907447 \t -0.5791878792948744\n",
            "14     \t [9.99726945 4.43589418]. \t  -139.29971082016186 \t -0.5791878792948744\n",
            "15     \t [-5.37368527  4.91719626]. \t  -77.2341314545045 \t -0.5791878792948744\n",
            "16     \t [-5.21656635 -5.8296218 ]. \t  -95.18154503240005 \t -0.5791878792948744\n",
            "17     \t [1.64030978 8.03391987]. \t  -131.7783531320595 \t -0.5791878792948744\n",
            "18     \t [-10.           0.04961307]. \t  -100.00492291276295 \t -0.5791878792948744\n",
            "19     \t [ 5.71973897 -9.28807694]. \t  -205.25216030526082 \t -0.5791878792948744\n",
            "20     \t [-4.07328923 -2.36488982]. \t  -27.777092895326426 \t -0.5791878792948744\n"
          ]
        }
      ]
    },
    {
      "cell_type": "code",
      "metadata": {
        "id": "vonm9jyuIv4t",
        "colab": {
          "base_uri": "https://localhost:8080/"
        },
        "outputId": "37e07711-e0a4-47c8-d3ac-1e0efac49a21"
      },
      "source": [
        "### EXACT GP EI GRADIENTS\n",
        "\n",
        "np.random.seed(run_num_9)\n",
        "surrogate_exact_9 = dGaussianProcess(cov_func, optimize=opt)\n",
        "\n",
        "exact_9 = dGPGO(surrogate_exact_9, Acquisition_new(util_grad_exact), objfunc, param)\n",
        "exact_9.run(init_evals=n_init, max_iter=iters)\n"
      ],
      "execution_count": 42,
      "outputs": [
        {
          "output_type": "stream",
          "name": "stdout",
          "text": [
            "Evaluation \t Proposed point \t  Current eval. \t Best eval.\n",
            "init   \t [-9.79251692  0.03749184]. \t  -95.896198949837 \t -53.418783741178075\n",
            "init   \t [-0.08453414 -7.32340942]. \t  -107.27179711012016 \t -53.418783741178075\n",
            "init   \t [-7.15777829 -5.62882649]. \t  -114.6011653140891 \t -53.418783741178075\n",
            "init   \t [-1.62983639 -5.03797663]. \t  -53.418783741178075 \t -53.418783741178075\n",
            "init   \t [-8.31880698 -3.0900272 ]. \t  -88.29908569649677 \t -53.418783741178075\n",
            "1      \t [6.0747954  9.66718496]. \t  -223.8120694300478 \t -53.418783741178075\n",
            "2      \t [-3.94738717  9.4159639 ]. \t  -192.90261763630335 \t -53.418783741178075\n",
            "3      \t [4.07561386 0.71776482]. \t  \u001b[92m-17.64100099927903\u001b[0m \t -17.64100099927903\n",
            "4      \t [ 8.66970884 -6.33785621]. \t  -155.50069423954056 \t -17.64100099927903\n",
            "5      \t [-5.40712024  3.70785244]. \t  -56.73328871958105 \t -17.64100099927903\n",
            "6      \t [1.37289413 5.89821862]. \t  -71.4628039992787 \t -17.64100099927903\n",
            "7      \t [-10. -10.]. \t  -300.0 \t -17.64100099927903\n",
            "8      \t [-0.8487501  -0.03237319]. \t  \u001b[92m-0.72247278054821\u001b[0m \t -0.72247278054821\n",
            "9      \t [9.61196338 4.30677396]. \t  -129.48644391246773 \t -0.72247278054821\n",
            "10     \t [  3.50807945 -10.        ]. \t  -212.30662141918026 \t -0.72247278054821\n",
            "11     \t [-9.76461722  7.60753787]. \t  -211.097014235242 \t -0.72247278054821\n",
            "12     \t [-3.67307902 -1.65041227]. \t  -18.93923082649969 \t -0.72247278054821\n",
            "13     \t [ 2.9377555  -3.47725824]. \t  -32.81305713810729 \t -0.72247278054821\n",
            "14     \t [ -4.45783021 -10.        ]. \t  -219.87225016125942 \t -0.72247278054821\n",
            "15     \t [ 7.10329329 -3.06147556]. \t  -69.20204076881177 \t -0.72247278054821\n",
            "16     \t [5.34263025 4.44154259]. \t  -67.99829907324539 \t -0.72247278054821\n",
            "17     \t [-0.36437768  2.26431024]. \t  -10.386972854488283 \t -0.72247278054821\n",
            "18     \t [0.82518461 9.67526413]. \t  -187.90240179546663 \t -0.72247278054821\n",
            "19     \t [-10.           3.71035973]. \t  -127.53353861427051 \t -0.72247278054821\n",
            "20     \t [8.62158417 0.44477337]. \t  -74.72736021428285 \t -0.72247278054821\n"
          ]
        }
      ]
    },
    {
      "cell_type": "code",
      "metadata": {
        "id": "6amuYlUdIv7r",
        "colab": {
          "base_uri": "https://localhost:8080/"
        },
        "outputId": "df32a98e-42d4-4f73-f51e-14d91303f238"
      },
      "source": [
        "### EXACT GP EI GRADIENTS\n",
        "\n",
        "np.random.seed(run_num_10)\n",
        "surrogate_exact_10 = dGaussianProcess(cov_func, optimize=opt)\n",
        "\n",
        "exact_10 = dGPGO(surrogate_exact_10, Acquisition_new(util_grad_exact), objfunc, param)\n",
        "exact_10.run(init_evals=n_init, max_iter=iters)\n"
      ],
      "execution_count": 43,
      "outputs": [
        {
          "output_type": "stream",
          "name": "stdout",
          "text": [
            "Evaluation \t Proposed point \t  Current eval. \t Best eval.\n",
            "init   \t [ 5.42641287 -9.58496101]. \t  -213.18891181932327 \t -56.66743785259343\n",
            "init   \t [2.6729647  4.97607765]. \t  -56.66743785259343 \t -56.66743785259343\n",
            "init   \t [-0.02985975 -5.50406709]. \t  -60.59040065376497 \t -56.66743785259343\n",
            "init   \t [-6.0387427   5.21061424]. \t  -90.76741505398337 \t -56.66743785259343\n",
            "init   \t [-6.61778327 -8.23320372]. \t  -179.36634226756874 \t -56.66743785259343\n",
            "1      \t [-5.90449753 -1.82081266]. \t  \u001b[92m-41.49380853490697\u001b[0m \t -41.49380853490697\n",
            "2      \t [2.11155129 0.26933255]. \t  \u001b[92m-4.603728883702671\u001b[0m \t -4.603728883702671\n",
            "3      \t [8.50713746 1.33499849]. \t  -75.93582966295617 \t -4.603728883702671\n",
            "4      \t [ 7.31095497 -3.79442326]. \t  -82.24535826096493 \t -4.603728883702671\n",
            "5      \t [9.05287874 7.17298031]. \t  -184.8579064352607 \t -4.603728883702671\n",
            "6      \t [0.20663569 9.9051757 ]. \t  -196.26770944276393 \t -4.603728883702671\n",
            "7      \t [-10.          -4.33804768]. \t  -137.63731542193642 \t -4.603728883702671\n",
            "8      \t [ -1.82411058 -10.        ]. \t  -203.32737940778884 \t -4.603728883702671\n",
            "9      \t [-9.02508357  1.70976502]. \t  -87.29872624690073 \t -4.603728883702671\n",
            "10     \t [-4.06173107  8.82173397]. \t  -172.14363990771952 \t -4.603728883702671\n",
            "11     \t [-1.55380577  0.85476867]. \t  \u001b[92m-3.8755713161524024\u001b[0m \t -3.8755713161524024\n",
            "12     \t [-10.           5.75715754]. \t  -166.28972593656178 \t -3.8755713161524024\n",
            "13     \t [ 9.43487622 -7.39316957]. \t  -198.33480174403073 \t -3.8755713161524024\n",
            "14     \t [ 3.16979037 -3.09278449]. \t  -29.17820275484965 \t -3.8755713161524024\n",
            "15     \t [-1.67787738  4.70617369]. \t  -47.1114141555867 \t -3.8755713161524024\n",
            "16     \t [-10. -10.]. \t  -300.0 \t -3.8755713161524024\n",
            "17     \t [5.74074853 6.23074296]. \t  -110.60050921632208 \t -3.8755713161524024\n",
            "18     \t [-3.77578336 -5.22077329]. \t  -68.76948751986058 \t -3.8755713161524024\n",
            "19     \t [-2.01783433 -1.83267137]. \t  -10.78902412212367 \t -3.8755713161524024\n",
            "20     \t [ 3.13723426 -6.56939012]. \t  -96.15601179038185 \t -3.8755713161524024\n"
          ]
        }
      ]
    },
    {
      "cell_type": "code",
      "metadata": {
        "id": "VwbLIP9cIv-F",
        "colab": {
          "base_uri": "https://localhost:8080/"
        },
        "outputId": "9930b8d6-1f7e-493d-92be-b8538cb63c09"
      },
      "source": [
        "### EXACT GP EI GRADIENTS\n",
        "\n",
        "np.random.seed(run_num_11)\n",
        "surrogate_exact_11 = dGaussianProcess(cov_func, optimize=opt)\n",
        "\n",
        "exact_11 = dGPGO(surrogate_exact_11, Acquisition_new(util_grad_exact), objfunc, param)\n",
        "exact_11.run(init_evals=n_init, max_iter=iters)\n"
      ],
      "execution_count": 44,
      "outputs": [
        {
          "output_type": "stream",
          "name": "stdout",
          "text": [
            "Evaluation \t Proposed point \t  Current eval. \t Best eval.\n",
            "init   \t [-6.39460622 -9.61049517]. \t  -225.61422357508457 \t -2.716881462565864\n",
            "init   \t [-0.73562947  4.49867858]. \t  -41.01736871863572 \t -2.716881462565864\n",
            "init   \t [-1.59592791 -0.29145804]. \t  -2.716881462565864 \t -2.716881462565864\n",
            "init   \t [-9.74438371 -0.25256785]. \t  -95.08059489374317 \t -2.716881462565864\n",
            "init   \t [8.83613305 7.01590179]. \t  -176.5230030066306 \t -2.716881462565864\n",
            "1      \t [ 1.99086793 -8.88652641]. \t  -161.90425830617428 \t -2.716881462565864\n",
            "2      \t [ 4.79903036 -1.6267314 ]. \t  -28.32320242923278 \t -2.716881462565864\n",
            "3      \t [-4.66542622 -4.13636322]. \t  -55.985203218364035 \t -2.716881462565864\n",
            "4      \t [ 8.16889683 -5.52729242]. \t  -127.8327983747159 \t -2.716881462565864\n",
            "5      \t [-7.89611862  5.10567265]. \t  -114.48447569318726 \t -2.716881462565864\n",
            "6      \t [-10.          -5.57448096]. \t  -162.1496759611322 \t -2.716881462565864\n",
            "7      \t [0.94237194 9.29890425]. \t  -173.827305205474 \t -2.716881462565864\n",
            "8      \t [4.06230406 4.99576075]. \t  -66.41756529183024 \t -2.716881462565864\n",
            "9      \t [-4.88039765  9.04700498]. \t  -187.5148795048255 \t -2.716881462565864\n",
            "10     \t [-6.00207905  0.08789346]. \t  -36.040403390906604 \t -2.716881462565864\n",
            "11     \t [ 0.41361756 -4.15385434]. \t  -34.68009119659882 \t -2.716881462565864\n",
            "12     \t [7.35831988 2.1746924 ]. \t  -63.60344553190187 \t -2.716881462565864\n",
            "13     \t [ 9.75725121 -1.13532151]. \t  -97.78186107251018 \t -2.716881462565864\n",
            "14     \t [-2.25000928 -8.06834694]. \t  -135.25898651763353 \t -2.716881462565864\n",
            "15     \t [-10. -10.]. \t  -300.0 \t -2.716881462565864\n",
            "16     \t [ 4.20889751 -5.77962819]. \t  -84.52302231028685 \t -2.716881462565864\n",
            "17     \t [-4.34989486  3.78210621]. \t  -47.530240068963394 \t -2.716881462565864\n",
            "18     \t [  6.88675104 -10.        ]. \t  -247.42733982716646 \t -2.716881462565864\n",
            "19     \t [-9.59976122  8.38827695]. \t  -232.88179599700763 \t -2.716881462565864\n",
            "20     \t [4.29613775 8.38327116]. \t  -159.01527036249323 \t -2.716881462565864\n"
          ]
        }
      ]
    },
    {
      "cell_type": "code",
      "metadata": {
        "id": "MlUNFjc-JTBY",
        "colab": {
          "base_uri": "https://localhost:8080/"
        },
        "outputId": "1c600972-1ea8-44e6-83b2-1e44c355b4e3"
      },
      "source": [
        "### EXACT GP EI GRADIENTS\n",
        "\n",
        "np.random.seed(run_num_12)\n",
        "surrogate_exact_12 = dGaussianProcess(cov_func, optimize=opt)\n",
        "\n",
        "exact_12 = dGPGO(surrogate_exact_12, Acquisition_new(util_grad_exact), objfunc, param)\n",
        "exact_12.run(init_evals=n_init, max_iter=iters)\n"
      ],
      "execution_count": 45,
      "outputs": [
        {
          "output_type": "stream",
          "name": "stdout",
          "text": [
            "Evaluation \t Proposed point \t  Current eval. \t Best eval.\n",
            "init   \t [-6.91674315  4.80099393]. \t  -93.94042127407329 \t -23.318590147261595\n",
            "init   \t [-4.7336997   0.67478787]. \t  -23.318590147261595 \t -23.318590147261595\n",
            "init   \t [-9.70850075  8.37494016]. \t  -234.53423225249676 \t -23.318590147261595\n",
            "init   \t [ 8.01429708 -9.33157145]. \t  -238.38540908259807 \t -23.318590147261595\n",
            "init   \t [ 9.13898673 -7.25581357]. \t  -188.8147395776428 \t -23.318590147261595\n",
            "1      \t [4.66251955 4.05244711]. \t  -54.583743654491954 \t -23.318590147261595\n",
            "2      \t [-3.75432006 -8.6025265 ]. \t  -162.1018436659056 \t -23.318590147261595\n",
            "3      \t [ 0.87886819 -1.89091226]. \t  \u001b[92m-7.923507634979323\u001b[0m \t -7.923507634979323\n",
            "4      \t [-10.          -5.14286046]. \t  -152.89802739766807 \t -7.923507634979323\n",
            "5      \t [ 8.15269188 -0.957369  ]. \t  -68.2994957298121 \t -7.923507634979323\n",
            "6      \t [9.82022544 8.00293105]. \t  -224.53063835529863 \t -7.923507634979323\n",
            "7      \t [2.84326371 9.57059691]. \t  -191.276799070881 \t -7.923507634979323\n",
            "8      \t [ 2.15300081 -8.32394638]. \t  -143.21157927669503 \t -7.923507634979323\n",
            "9      \t [-1.51869131  5.46743198]. \t  -62.09204816890291 \t -7.923507634979323\n",
            "10     \t [-10. -10.]. \t  -300.0 \t -7.923507634979323\n",
            "11     \t [-10.          -0.15260668]. \t  -100.0465775963382 \t -7.923507634979323\n",
            "12     \t [9.53118727 3.30143474]. \t  -112.64247338499153 \t -7.923507634979323\n",
            "13     \t [-2.51686223 -4.05585751]. \t  -39.23455580471875 \t -7.923507634979323\n",
            "14     \t [-3.70052717  9.95424593]. \t  -211.8679252251067 \t -7.923507634979323\n",
            "15     \t [ 3.95594172 -0.06910689]. \t  -15.659026379283416 \t -7.923507634979323\n",
            "16     \t [-6.45151628 -2.80143778]. \t  -57.318169540345764 \t -7.923507634979323\n",
            "17     \t [-1.08523011  1.45955769]. \t  \u001b[92m-5.4383416808655065\u001b[0m \t -5.4383416808655065\n",
            "18     \t [ 5.25320924 -5.72012258]. \t  -93.03581191491455 \t -5.4383416808655065\n",
            "19     \t [-10.           3.26104291]. \t  -121.26880168141072 \t -5.4383416808655065\n",
            "20     \t [-2.27692561 -0.676669  ]. \t  -6.100152101023348 \t -5.4383416808655065\n"
          ]
        }
      ]
    },
    {
      "cell_type": "code",
      "metadata": {
        "id": "9BsKdU9eJTFL",
        "colab": {
          "base_uri": "https://localhost:8080/"
        },
        "outputId": "bd6fb4cd-5dd2-41d1-eee2-bcaed001ee5b"
      },
      "source": [
        "### EXACT GP EI GRADIENTS\n",
        "\n",
        "np.random.seed(run_num_13)\n",
        "surrogate_exact_13 = dGaussianProcess(cov_func, optimize=opt)\n",
        "\n",
        "exact_13 = dGPGO(surrogate_exact_13, Acquisition_new(util_grad_exact), objfunc, param)\n",
        "exact_13.run(init_evals=n_init, max_iter=iters)\n"
      ],
      "execution_count": 46,
      "outputs": [
        {
          "output_type": "stream",
          "name": "stdout",
          "text": [
            "Evaluation \t Proposed point \t  Current eval. \t Best eval.\n",
            "init   \t [ 5.55404821 -5.2491756 ]. \t  -85.95514048001408 \t -47.45541115581226\n",
            "init   \t [6.48557065 9.31498396]. \t  -215.600479080162 \t -47.45541115581226\n",
            "init   \t [ 9.45202228 -0.93101505]. \t  -91.0743031984701 \t -47.45541115581226\n",
            "init   \t [2.18084926 5.51053029]. \t  -65.48799167425372 \t -47.45541115581226\n",
            "init   \t [2.8322669  4.44036459]. \t  -47.45541115581226 \t -47.45541115581226\n",
            "1      \t [-8.69830926  2.59657998]. \t  -89.14503917528086 \t -47.45541115581226\n",
            "2      \t [-5.9673185  -6.48540274]. \t  -119.72978734259729 \t -47.45541115581226\n",
            "3      \t [ 1.27140344 -9.80309118]. \t  -193.81766022446593 \t -47.45541115581226\n",
            "4      \t [-5.68974606  9.11900061]. \t  -198.68555458020188 \t -47.45541115581226\n",
            "5      \t [-2.46915081  2.05102188]. \t  \u001b[92m-14.510087190669347\u001b[0m \t -14.510087190669347\n",
            "6      \t [-10.          -2.89984288]. \t  -116.81817741966142 \t -14.510087190669347\n",
            "7      \t [-0.54839438 -3.54652463]. \t  -25.456410359081524 \t -14.510087190669347\n",
            "8      \t [-10. -10.]. \t  -300.0 \t -14.510087190669347\n",
            "9      \t [ 2.30520388 -0.07221087]. \t  \u001b[92m-5.3243937303811\u001b[0m \t -5.3243937303811\n",
            "10     \t [-5.73280673 -0.99616951]. \t  -34.849780408247646 \t -5.3243937303811\n",
            "11     \t [8.82755048 4.10848985]. \t  -111.68502507363016 \t -5.3243937303811\n",
            "12     \t [ -3.67778352 -10.        ]. \t  -213.52609162850513 \t -5.3243937303811\n",
            "13     \t [-10.           7.01125654]. \t  -198.31543649110026 \t -5.3243937303811\n",
            "14     \t [ 5.70121134 -9.51297266]. \t  -213.49710855535082 \t -5.3243937303811\n",
            "15     \t [-0.02204965  9.11797101]. \t  -166.27527687813804 \t -5.3243937303811\n",
            "16     \t [5.1382552  1.47097003]. \t  -30.729172136932263 \t -5.3243937303811\n",
            "17     \t [ 9.18418822 -6.76386401]. \t  -175.84902608014335 \t -5.3243937303811\n",
            "18     \t [-1.95161418  4.95518045]. \t  -52.916424458213484 \t -5.3243937303811\n",
            "19     \t [-1.59564784 -0.68986367]. \t  \u001b[92m-3.49791582244306\u001b[0m \t -3.49791582244306\n",
            "20     \t [-6.01166659  5.20921691]. \t  -90.41201690527737 \t -3.49791582244306\n"
          ]
        }
      ]
    },
    {
      "cell_type": "code",
      "metadata": {
        "id": "k6GjFBr1JTJf",
        "colab": {
          "base_uri": "https://localhost:8080/"
        },
        "outputId": "bf7d471f-99ff-44d6-ab2c-9b334b440352"
      },
      "source": [
        "### EXACT GP EI GRADIENTS\n",
        "\n",
        "np.random.seed(run_num_14)\n",
        "surrogate_exact_14 = dGaussianProcess(cov_func, optimize=opt)\n",
        "\n",
        "exact_14 = dGPGO(surrogate_exact_14, Acquisition_new(util_grad_exact), objfunc, param)\n",
        "exact_14.run(init_evals=n_init, max_iter=iters)\n"
      ],
      "execution_count": 47,
      "outputs": [
        {
          "output_type": "stream",
          "name": "stdout",
          "text": [
            "Evaluation \t Proposed point \t  Current eval. \t Best eval.\n",
            "init   \t [0.27886688 5.46330104]. \t  -59.77308327621332 \t -26.48525945153859\n",
            "init   \t [ 7.40855371 -9.83906103]. \t  -248.5009120212351 \t -26.48525945153859\n",
            "init   \t [-3.80528149  9.15207479]. \t  -182.0011130426615 \t -26.48525945153859\n",
            "init   \t [ 0.26233425 -3.6343115 ]. \t  -26.48525945153859 \t -26.48525945153859\n",
            "init   \t [ 0.78399875 -5.57490115]. \t  -62.773699734431055 \t -26.48525945153859\n",
            "1      \t [-10. -10.]. \t  -300.0 \t -26.48525945153859\n",
            "2      \t [-8.1477833   0.47898709]. \t  -66.84523003287876 \t -26.48525945153859\n",
            "3      \t [8.67962677 6.0907395 ]. \t  -149.53013618236548 \t -26.48525945153859\n",
            "4      \t [ 7.59696716 -1.03928139]. \t  -59.874121691821465 \t -26.48525945153859\n",
            "5      \t [ -2.93168484 -10.        ]. \t  -208.59477599747981 \t -26.48525945153859\n",
            "6      \t [-2.93891396  0.97185084]. \t  \u001b[92m-10.526203350637008\u001b[0m \t -10.526203350637008\n",
            "7      \t [-10.          -4.44250915]. \t  -139.47177516837527 \t -10.526203350637008\n",
            "8      \t [-9.64177644  6.15475675]. \t  -168.7259141575829 \t -10.526203350637008\n",
            "9      \t [  2.26923873 -10.        ]. \t  -205.14944439743354 \t -10.526203350637008\n",
            "10     \t [-4.88824669 -3.61872185]. \t  -50.08525130480302 \t -10.526203350637008\n",
            "11     \t [3.03239846 9.06260885]. \t  -173.4571987169676 \t -10.526203350637008\n",
            "12     \t [2.20771117 0.91507183]. \t  \u001b[92m-6.548701483959054\u001b[0m \t -6.548701483959054\n",
            "13     \t [-4.58265553  4.43872188]. \t  -60.40523544804202 \t -6.548701483959054\n",
            "14     \t [5.36964989 2.96800386]. \t  -46.451233730660576 \t -6.548701483959054\n",
            "15     \t [ 5.38146975 -5.78020938]. \t  -95.78185752741413 \t -6.548701483959054\n",
            "16     \t [-6.35904774 -7.430523  ]. \t  -150.86283227433702 \t -6.548701483959054\n",
            "17     \t [7.47842852 9.96695579]. \t  -254.6073086923589 \t -6.548701483959054\n",
            "18     \t [ 3.4568733  -1.80969725]. \t  -18.49998126068575 \t -6.548701483959054\n",
            "19     \t [-0.59257492 -0.28439281]. \t  \u001b[92m-0.512903586600352\u001b[0m \t -0.512903586600352\n",
            "20     \t [ 9.78102289 -7.40518942]. \t  -205.34206930595187 \t -0.512903586600352\n"
          ]
        }
      ]
    },
    {
      "cell_type": "code",
      "metadata": {
        "id": "dPS8WB3aJTN6",
        "colab": {
          "base_uri": "https://localhost:8080/"
        },
        "outputId": "29148859-c618-4ebd-b226-85008e341c32"
      },
      "source": [
        "### EXACT GP EI GRADIENTS\n",
        "\n",
        "np.random.seed(run_num_15)\n",
        "surrogate_exact_15 = dGaussianProcess(cov_func, optimize=opt)\n",
        "\n",
        "exact_15 = dGPGO(surrogate_exact_15, Acquisition_new(util_grad_exact), objfunc, param)\n",
        "exact_15.run(init_evals=n_init, max_iter=iters)\n"
      ],
      "execution_count": 48,
      "outputs": [
        {
          "output_type": "stream",
          "name": "stdout",
          "text": [
            "Evaluation \t Proposed point \t  Current eval. \t Best eval.\n",
            "init   \t [ 6.97635395 -6.4220815 ]. \t  -131.15577599697437 \t -20.897907943365695\n",
            "init   \t [-8.91273571 -2.76923108]. \t  -94.77413943464936 \t -20.897907943365695\n",
            "init   \t [-4.49198143  0.6000045 ]. \t  -20.897907943365695 \t -20.897907943365695\n",
            "init   \t [-3.88162169 -3.91051282]. \t  -45.651207890195394 \t -20.897907943365695\n",
            "init   \t [-7.76517448 -5.00201972]. \t  -110.33833725681367 \t -20.897907943365695\n",
            "1      \t [-1.08003705  9.49213271]. \t  -181.3676469637466 \t -20.897907943365695\n",
            "2      \t [-9.69991687  7.99454818]. \t  -221.91398842692476 \t -20.897907943365695\n",
            "3      \t [9.38262114 9.37010501]. \t  -263.6313154484096 \t -20.897907943365695\n",
            "4      \t [8.17696818 1.09984692]. \t  -69.28213505909017 \t -20.897907943365695\n",
            "5      \t [ 0.54107505 -7.81004882]. \t  -122.28648736844772 \t -20.897907943365695\n",
            "6      \t [ -4.99444654 -10.        ]. \t  -224.944496194428 \t -20.897907943365695\n",
            "7      \t [ 3.06678339 -1.81228378]. \t  \u001b[92m-15.973905395239264\u001b[0m \t -15.973905395239264\n",
            "8      \t [3.63508337 6.36554097]. \t  -94.25405473644781 \t -15.973905395239264\n",
            "9      \t [-10. -10.]. \t  -300.0 \t -15.973905395239264\n",
            "10     \t [-0.90964761  3.87255131]. \t  -30.820766133298026 \t -15.973905395239264\n",
            "11     \t [-10.           2.46991918]. \t  -112.20100149023712 \t -15.973905395239264\n",
            "12     \t [-6.4125875   4.52524632]. \t  -82.0769868579284 \t -15.973905395239264\n",
            "13     \t [3.33475701 1.98213108]. \t  -18.97829152408238 \t -15.973905395239264\n",
            "14     \t [  4.43505444 -10.        ]. \t  -219.66970791756012 \t -15.973905395239264\n",
            "15     \t [-0.49753198 -1.88063985]. \t  \u001b[92m-7.321150593741017\u001b[0m \t -7.321150593741017\n",
            "16     \t [8.98546804 5.04077468]. \t  -131.55745464427758 \t -7.321150593741017\n",
            "17     \t [-3.68576878  6.76975131]. \t  -105.24395723562273 \t -7.321150593741017\n",
            "18     \t [0.25032625 0.67594702]. \t  \u001b[92m-0.9764719894140426\u001b[0m \t -0.9764719894140426\n",
            "19     \t [ 3.52385457 -6.05651951]. \t  -85.78040824905362 \t -0.9764719894140426\n",
            "20     \t [ 5.48140776 -3.37743501]. \t  -52.85996551867377 \t -0.9764719894140426\n"
          ]
        }
      ]
    },
    {
      "cell_type": "code",
      "metadata": {
        "id": "SHWdp2giJTRm",
        "colab": {
          "base_uri": "https://localhost:8080/"
        },
        "outputId": "6c95f3f0-8f31-4379-bd43-5657d274ca5a"
      },
      "source": [
        "### EXACT GP EI GRADIENTS\n",
        "\n",
        "np.random.seed(run_num_16)\n",
        "surrogate_exact_16 = dGaussianProcess(cov_func, optimize=opt)\n",
        "\n",
        "exact_16 = dGPGO(surrogate_exact_16, Acquisition_new(util_grad_exact), objfunc, param)\n",
        "exact_16.run(init_evals=n_init, max_iter=iters)\n"
      ],
      "execution_count": 49,
      "outputs": [
        {
          "output_type": "stream",
          "name": "stdout",
          "text": [
            "Evaluation \t Proposed point \t  Current eval. \t Best eval.\n",
            "init   \t [-5.53417842  0.46326683]. \t  -31.056363058280656 \t -31.056363058280656\n",
            "init   \t [ 1.01402913 -9.087961  ]. \t  -166.21032525826828 \t -31.056363058280656\n",
            "init   \t [-2.78542329 -5.53838117]. \t  -69.10591480510183 \t -31.056363058280656\n",
            "init   \t [ 3.77452324 -6.7253715 ]. \t  -104.70826928786903 \t -31.056363058280656\n",
            "init   \t [-8.59350266  8.8202172 ]. \t  -229.44075111810224 \t -31.056363058280656\n",
            "1      \t [4.18505664 9.44091052]. \t  -195.7762819329394 \t -31.056363058280656\n",
            "2      \t [-10. -10.]. \t  -300.0 \t -31.056363058280656\n",
            "3      \t [ 2.52801252 -0.08752176]. \t  \u001b[92m-6.406167436310099\u001b[0m \t -6.406167436310099\n",
            "4      \t [ 8.8300141  -0.10570929]. \t  -77.99149800000582 \t -6.406167436310099\n",
            "5      \t [-2.22531694  5.42968011]. \t  -63.91488757640133 \t -6.406167436310099\n",
            "6      \t [-10.         -3.0029117]. \t  -118.0349573079771 \t -6.406167436310099\n",
            "7      \t [ 9.01080998 -8.91422867]. \t  -240.12164213060151 \t -6.406167436310099\n",
            "8      \t [7.80289576 6.5415659 ]. \t  -146.46935105949623 \t -6.406167436310099\n",
            "9      \t [-10.           2.24050415]. \t  -110.03971770147511 \t -6.406167436310099\n",
            "10     \t [ -4.76931034 -10.        ]. \t  -222.74632112815644 \t -6.406167436310099\n",
            "11     \t [-1.44951115 -0.25920759]. \t  \u001b[92m-2.235459733297765\u001b[0m \t -2.235459733297765\n",
            "12     \t [-7.10903943 -6.13004175]. \t  -125.69326537783923 \t -2.235459733297765\n",
            "13     \t [2.38754509 4.78988826]. \t  -51.58643063317899 \t -2.235459733297765\n",
            "14     \t [-1.59321032  9.84617866]. \t  -196.4327876466691 \t -2.235459733297765\n",
            "15     \t [-5.51649826 -2.75228041]. \t  -45.58184798641108 \t -2.235459733297765\n",
            "16     \t [ 6.49543231 -3.51385342]. \t  -66.88497262416529 \t -2.235459733297765\n",
            "17     \t [ 0.9132027  -4.24822918]. \t  -36.92884157044912 \t -2.235459733297765\n",
            "18     \t [-6.26843336  4.35935276]. \t  -77.30116980326103 \t -2.235459733297765\n",
            "19     \t [4.45373787 1.90173045]. \t  -27.06893845042222 \t -2.235459733297765\n",
            "20     \t [-2.02173393  1.89381391]. \t  -11.260470343496126 \t -2.235459733297765\n"
          ]
        }
      ]
    },
    {
      "cell_type": "code",
      "metadata": {
        "id": "yU2SflSsJTUs",
        "colab": {
          "base_uri": "https://localhost:8080/"
        },
        "outputId": "032f423e-4c26-4bc9-e62f-d463b2f25a45"
      },
      "source": [
        "### EXACT GP EI GRADIENTS\n",
        "\n",
        "np.random.seed(run_num_17)\n",
        "surrogate_exact_17 = dGaussianProcess(cov_func, optimize=opt)\n",
        "\n",
        "exact_17 = dGPGO(surrogate_exact_17, Acquisition_new(util_grad_exact), objfunc, param)\n",
        "exact_17.run(init_evals=n_init, max_iter=iters)\n"
      ],
      "execution_count": 50,
      "outputs": [
        {
          "output_type": "stream",
          "name": "stdout",
          "text": [
            "Evaluation \t Proposed point \t  Current eval. \t Best eval.\n",
            "init   \t [-4.10669995  0.61173511]. \t  -17.613424143360255 \t -12.137436774523842\n",
            "init   \t [-6.16958426 -8.64199284]. \t  -187.43185031516856 \t -12.137436774523842\n",
            "init   \t [5.7397092  3.12667044]. \t  -52.49639772521824 \t -12.137436774523842\n",
            "init   \t [2.75041792 1.51205788]. \t  -12.137436774523842 \t -12.137436774523842\n",
            "init   \t [-9.21874168 -2.84372791]. \t  -101.1587749488933 \t -12.137436774523842\n",
            "1      \t [-8.64042543  9.21575513]. \t  -244.5172369008349 \t -12.137436774523842\n",
            "2      \t [ 4.54825031 -8.71744454]. \t  -172.6742595800706 \t -12.137436774523842\n",
            "3      \t [9.12376544 9.73620918]. \t  -272.83063435528607 \t -12.137436774523842\n",
            "4      \t [-0.05385845  7.96254756]. \t  -126.80722802594437 \t -12.137436774523842\n",
            "5      \t [ 9.06636127 -2.74323799]. \t  -97.24961590065784 \t -12.137436774523842\n",
            "6      \t [ 1.21360149 -3.7575268 ]. \t  -29.710843879893282 \t -12.137436774523842\n",
            "7      \t [-10.           3.20588209]. \t  -120.55535990967479 \t -12.137436774523842\n",
            "8      \t [-1.02859872 -9.21677652]. \t  -170.9559542004335 \t -12.137436774523842\n",
            "9      \t [ 9.72653374 -8.86896618]. \t  -251.92258082795712 \t -12.137436774523842\n",
            "10     \t [-4.52847588  5.29784255]. \t  -76.64136518300674 \t -12.137436774523842\n",
            "11     \t [-2.98281584 -4.89403152]. \t  -56.80027936593957 \t -12.137436774523842\n",
            "12     \t [-10. -10.]. \t  -300.0 \t -12.137436774523842\n",
            "13     \t [5.19170611 7.22778128]. \t  -131.43545680168575 \t -12.137436774523842\n",
            "14     \t [-0.49086369 -0.17795959]. \t  \u001b[92m-0.30428639123408807\u001b[0m \t -0.30428639123408807\n",
            "15     \t [-0.85654239  3.26596585]. \t  -22.06673074658614 \t -0.30428639123408807\n",
            "16     \t [ 4.89039661 -2.65141065]. \t  -37.97593594002517 \t -0.30428639123408807\n",
            "17     \t [-9.60895265 -6.58517119]. \t  -179.06093007899153 \t -0.30428639123408807\n",
            "18     \t [-4.04654399  8.83494274]. \t  -172.48694480269467 \t -0.30428639123408807\n",
            "19     \t [9.17018127 0.91818832]. \t  -85.77836412761846 \t -0.30428639123408807\n",
            "20     \t [-7.40500125  0.4985939 ]. \t  -55.33123527856215 \t -0.30428639123408807\n"
          ]
        }
      ]
    },
    {
      "cell_type": "code",
      "metadata": {
        "id": "es0KCh_0JTgY",
        "colab": {
          "base_uri": "https://localhost:8080/"
        },
        "outputId": "a775942b-eb10-4f75-e40a-98006f861ea7"
      },
      "source": [
        "### EXACT GP EI GRADIENTS\n",
        "\n",
        "np.random.seed(run_num_18)\n",
        "surrogate_exact_18 = dGaussianProcess(cov_func, optimize=opt)\n",
        "\n",
        "exact_18 = dGPGO(surrogate_exact_18, Acquisition_new(util_grad_exact), objfunc, param)\n",
        "exact_18.run(init_evals=n_init, max_iter=iters)\n"
      ],
      "execution_count": 51,
      "outputs": [
        {
          "output_type": "stream",
          "name": "stdout",
          "text": [
            "Evaluation \t Proposed point \t  Current eval. \t Best eval.\n",
            "init   \t [3.00748483 0.10906747]. \t  -9.068756459576363 \t -9.068756459576363\n",
            "init   \t [ 7.57202942 -6.36319549]. \t  -138.3161432668939 \t -9.068756459576363\n",
            "init   \t [7.04466137 5.00272572]. \t  -99.6817831686958 \t -9.068756459576363\n",
            "init   \t [3.32203335 9.75790897]. \t  -201.4694803352836 \t -9.068756459576363\n",
            "init   \t [-4.86063155 -9.43388149]. \t  -201.6219791510955 \t -9.068756459576363\n",
            "1      \t [-6.1664519   4.28513481]. \t  -74.74988979878172 \t -9.068756459576363\n",
            "2      \t [-10.          -3.36675698]. \t  -122.67010510335052 \t -9.068756459576363\n",
            "3      \t [-0.89565479 -4.02779446]. \t  -33.248453947070885 \t -9.068756459576363\n",
            "4      \t [  1.34080637 -10.        ]. \t  -201.79776171772983 \t -9.068756459576363\n",
            "5      \t [-10. -10.]. \t  -300.0 \t -9.068756459576363\n",
            "6      \t [-0.45901116  5.12493165]. \t  -52.74054006362294 \t -9.068756459576363\n",
            "7      \t [-5.15904237 -0.91124778]. \t  -28.276463231759756 \t -9.068756459576363\n",
            "8      \t [8.88174167 9.85843471]. \t  -273.2628048782137 \t -9.068756459576363\n",
            "9      \t [-4.02210248  9.04946754]. \t  -179.9630339453313 \t -9.068756459576363\n",
            "10     \t [-9.6929494   8.48930944]. \t  -238.0900176058566 \t -9.068756459576363\n",
            "11     \t [-10.           1.55817988]. \t  -104.85584909379958 \t -9.068756459576363\n",
            "12     \t [ 7.82137644 -0.24923452]. \t  -61.298165094735985 \t -9.068756459576363\n",
            "13     \t [-5.77287158 -4.94141449]. \t  -82.16120061368315 \t -9.068756459576363\n",
            "14     \t [-2.04549441  1.21860083]. \t  \u001b[92m-7.154023355630718\u001b[0m \t -7.154023355630718\n",
            "15     \t [ 3.96198146 -3.9596521 ]. \t  -47.05498660634012 \t -7.154023355630718\n",
            "16     \t [  5.71470974 -10.        ]. \t  -232.65790746294186 \t -7.154023355630718\n",
            "17     \t [3.25639715 3.5005691 ]. \t  -35.112090503527945 \t -7.154023355630718\n",
            "18     \t [-2.18778411 -6.86475159]. \t  -99.03602811324085 \t -7.154023355630718\n",
            "19     \t [ 9.81487695 -3.46487334]. \t  -120.34250406526687 \t -7.154023355630718\n",
            "20     \t [-0.13071916 -0.52010682]. \t  \u001b[92m-0.5581097118838363\u001b[0m \t -0.5581097118838363\n"
          ]
        }
      ]
    },
    {
      "cell_type": "code",
      "metadata": {
        "id": "Pput2LHPIwBM",
        "colab": {
          "base_uri": "https://localhost:8080/"
        },
        "outputId": "75dc17b8-50fc-4d72-e24d-9a7de6b4ca9d"
      },
      "source": [
        "### EXACT GP EI GRADIENTS\n",
        "\n",
        "np.random.seed(run_num_19)\n",
        "surrogate_exact_19 = dGaussianProcess(cov_func, optimize=opt)\n",
        "\n",
        "exact_19 = dGPGO(surrogate_exact_19, Acquisition_new(util_grad_exact), objfunc, param)\n",
        "exact_19.run(init_evals=n_init, max_iter=iters)\n"
      ],
      "execution_count": 52,
      "outputs": [
        {
          "output_type": "stream",
          "name": "stdout",
          "text": [
            "Evaluation \t Proposed point \t  Current eval. \t Best eval.\n",
            "init   \t [-8.04932797  5.22499433]. \t  -119.39281225846176 \t -87.03025225125222\n",
            "init   \t [-5.06124054 -7.23736625]. \t  -130.3750962570555 \t -87.03025225125222\n",
            "init   \t [-3.37106873 -8.3400087 ]. \t  -150.4755946408245 \t -87.03025225125222\n",
            "init   \t [3.43954163 6.13187596]. \t  -87.03025225125222 \t -87.03025225125222\n",
            "init   \t [9.65483829 2.7132147 ]. \t  -107.93897039562282 \t -87.03025225125222\n",
            "1      \t [ 9.42739537 -7.28680447]. \t  -195.07082209920037 \t -87.03025225125222\n",
            "2      \t [9.66871562 9.18398599]. \t  -262.1752591189437 \t -87.03025225125222\n",
            "3      \t [ 1.19601233 -3.03912179]. \t  \u001b[92m-19.902968034583196\u001b[0m \t -19.902968034583196\n",
            "4      \t [-9.64931371 -1.76781368]. \t  -99.35958538505903 \t -19.902968034583196\n",
            "5      \t [-2.69333527  7.93798122]. \t  -133.2771466359215 \t -19.902968034583196\n",
            "6      \t [-3.30709846  1.81789609]. \t  \u001b[92m-17.54639263221166\u001b[0m \t -17.54639263221166\n",
            "7      \t [-10. -10.]. \t  -300.0 \t -17.54639263221166\n",
            "8      \t [  4.16521461 -10.        ]. \t  -217.34901278198404 \t -17.54639263221166\n",
            "9      \t [3.24874884 1.17829065]. \t  \u001b[92m-13.33110673242259\u001b[0m \t -13.33110673242259\n",
            "10     \t [ 6.55930978 -2.38845074]. \t  -54.43393875394564 \t -13.33110673242259\n",
            "11     \t [-4.61718456 -2.39451518]. \t  -32.785799143610355 \t -13.33110673242259\n",
            "12     \t [-10.         -5.7337125]. \t  -165.75091816157402 \t -13.33110673242259\n",
            "13     \t [ 0.44324418 -6.85727076]. \t  -94.24078995248468 \t -13.33110673242259\n",
            "14     \t [ 5.35860522 -6.04709779]. \t  -101.84943337037413 \t -13.33110673242259\n",
            "15     \t [-10.           1.98643292]. \t  -107.89183149940283 \t -13.33110673242259\n",
            "16     \t [-0.60228052  4.25248276]. \t  -36.52996106268637 \t -13.33110673242259\n",
            "17     \t [2.854674   9.77131848]. \t  -199.10649315749444 \t -13.33110673242259\n",
            "18     \t [-6.75267981  1.13765682]. \t  -48.18721069386802 \t -13.33110673242259\n",
            "19     \t [-0.09071429  0.04552942]. \t  \u001b[92m-0.012374938642725177\u001b[0m \t -0.012374938642725177\n",
            "20     \t [-2.98206611 -4.71363675]. \t  -53.32946107654802 \t -0.012374938642725177\n"
          ]
        }
      ]
    },
    {
      "cell_type": "code",
      "metadata": {
        "id": "aw3xvSryIwDi",
        "colab": {
          "base_uri": "https://localhost:8080/"
        },
        "outputId": "83a9f4e9-9d33-4790-f99b-3364d50eef07"
      },
      "source": [
        "### EXACT GP EI GRADIENTS\n",
        "\n",
        "np.random.seed(run_num_20)\n",
        "surrogate_exact_20 = dGaussianProcess(cov_func, optimize=opt)\n",
        "\n",
        "exact_20 = dGPGO(surrogate_exact_20, Acquisition_new(util_grad_exact), objfunc, param)\n",
        "exact_20.run(init_evals=n_init, max_iter=iters)\n"
      ],
      "execution_count": 53,
      "outputs": [
        {
          "output_type": "stream",
          "name": "stdout",
          "text": [
            "Evaluation \t Proposed point \t  Current eval. \t Best eval.\n",
            "init   \t [1.76261602 7.95427456]. \t  -129.64778273349407 \t -6.161449614183514\n",
            "init   \t [7.83061459 6.31674955]. \t  -141.12117450686426 \t -6.161449614183514\n",
            "init   \t [-9.28220829  3.83515164]. \t  -115.57616682517047 \t -6.161449614183514\n",
            "init   \t [-2.42638116  0.37021891]. \t  -6.161449614183514 \t -6.161449614183514\n",
            "init   \t [ 3.15902931 -6.12299564]. \t  -84.96161746112533 \t -6.161449614183514\n",
            "1      \t [ -7.30944926 -10.        ]. \t  -253.42804846968363 \t -6.161449614183514\n",
            "2      \t [-10.          -3.34564653]. \t  -122.38670141806921 \t -6.161449614183514\n",
            "3      \t [-4.56172279  9.14761084]. \t  -188.16688311626407 \t -6.161449614183514\n",
            "4      \t [ 9.03563127 -5.57761678]. \t  -143.86225043765864 \t -6.161449614183514\n",
            "5      \t [6.44471471 0.57277132]. \t  -42.19048161455857 \t -6.161449614183514\n",
            "6      \t [ -1.1029285 -10.       ]. \t  -201.2164512828731 \t -6.161449614183514\n",
            "7      \t [-3.6355854  -5.22877954]. \t  -67.89775212719678 \t -6.161449614183514\n",
            "8      \t [1.79431553 2.4297088 ]. \t  -15.026537874741475 \t -6.161449614183514\n",
            "9      \t [  6.43195274 -10.        ]. \t  -241.37001606171873 \t -6.161449614183514\n",
            "10     \t [ 1.43677849 -1.78471876]. \t  -8.434774558989986 \t -6.161449614183514\n",
            "11     \t [-5.47576738  5.11258604]. \t  -82.2611004445263 \t -6.161449614183514\n",
            "12     \t [-9.4247395  8.591288 ]. \t  -236.44617357215736 \t -6.161449614183514\n",
            "13     \t [-9.80608557 -7.23631069]. \t  -200.8876990675925 \t -6.161449614183514\n",
            "14     \t [-5.83231961 -1.33611888]. \t  -37.586379336045745 \t -6.161449614183514\n",
            "15     \t [-1.36456497  3.50523987]. \t  -26.43545067844811 \t -6.161449614183514\n",
            "16     \t [ 4.82005102 -2.6747016 ]. \t  -37.540949090349585 \t -6.161449614183514\n",
            "17     \t [5.0587735  3.41259359]. \t  -48.882779342671775 \t -6.161449614183514\n",
            "18     \t [-1.47855007 -2.47346866]. \t  -14.422204718545652 \t -6.161449614183514\n",
            "19     \t [-10.           0.09406358]. \t  -100.01769591350856 \t -6.161449614183514\n",
            "20     \t [ 1.95585865 -8.8720729 ]. \t  -161.25273825652027 \t -6.161449614183514\n"
          ]
        }
      ]
    },
    {
      "cell_type": "code",
      "metadata": {
        "id": "qNqAB3vBTPqb",
        "colab": {
          "base_uri": "https://localhost:8080/"
        },
        "outputId": "60214c3f-be5d-4822-c391-03bcd7d5d4d7"
      },
      "source": [
        "end_exact = time.time()\n",
        "end_exact\n",
        "\n",
        "time_exact = end_exact - start_exact\n",
        "time_exact"
      ],
      "execution_count": 54,
      "outputs": [
        {
          "output_type": "execute_result",
          "data": {
            "text/plain": [
              "820.6469802856445"
            ]
          },
          "metadata": {},
          "execution_count": 54
        }
      ]
    },
    {
      "cell_type": "code",
      "metadata": {
        "id": "JPQzjdBZQxfg",
        "colab": {
          "base_uri": "https://localhost:8080/"
        },
        "outputId": "3e331580-a87e-438e-953a-f274eebe5dce"
      },
      "source": [
        "### Simple regret minimization: run number = 1\n",
        "\n",
        "approx_output_1 = np.append(np.min(approx_1.GP.y[0:n_init]),approx_1.GP.y[n_init:(n_init+iters)]) \n",
        "exact_output_1 = np.append(np.min(exact_1.GP.y[0:n_init]),exact_1.GP.y[n_init:(n_init+iters)]) \n",
        "\n",
        "regret_approx_1 = np.log(-approx_output_1 + y_global_orig)\n",
        "regret_exact_1 = np.log(-exact_output_1 + y_global_orig)\n",
        "\n",
        "simple_regret_approx_1 = min_max_array(regret_approx_1)\n",
        "simple_regret_exact_1 = min_max_array(regret_exact_1)\n",
        "\n",
        "min_simple_regret_approx_1 = min(simple_regret_approx_1)\n",
        "min_simple_regret_exact_1 = min(simple_regret_exact_1)\n",
        "\n",
        "min_simple_regret_approx_1, min_simple_regret_exact_1"
      ],
      "execution_count": 55,
      "outputs": [
        {
          "output_type": "execute_result",
          "data": {
            "text/plain": [
              "(2.3757834777402445, -0.07778926769562142)"
            ]
          },
          "metadata": {},
          "execution_count": 55
        }
      ]
    },
    {
      "cell_type": "code",
      "metadata": {
        "id": "94yBw5tqQxfk",
        "colab": {
          "base_uri": "https://localhost:8080/"
        },
        "outputId": "5b95f5a9-b875-48b0-9903-c3d5c36f5621"
      },
      "source": [
        "### Simple regret minimization: run number = 2\n",
        "\n",
        "approx_output_2 = np.append(np.min(approx_2.GP.y[0:n_init]),approx_2.GP.y[n_init:(n_init+iters)]) \n",
        "exact_output_2 = np.append(np.min(exact_2.GP.y[0:n_init]),exact_2.GP.y[n_init:(n_init+iters)]) \n",
        "\n",
        "regret_approx_2 = np.log(-approx_output_2 + y_global_orig)\n",
        "regret_exact_2 = np.log(-exact_output_2 + y_global_orig)\n",
        "\n",
        "simple_regret_approx_2 = min_max_array(regret_approx_2)\n",
        "simple_regret_exact_2 = min_max_array(regret_exact_2)\n",
        "\n",
        "min_simple_regret_approx_2 = min(simple_regret_approx_2)\n",
        "min_simple_regret_exact_2 = min(simple_regret_exact_2)\n",
        "\n",
        "min_simple_regret_approx_2, min_simple_regret_exact_2"
      ],
      "execution_count": 56,
      "outputs": [
        {
          "output_type": "execute_result",
          "data": {
            "text/plain": [
              "(1.6864076868502673, 1.7036922758173536)"
            ]
          },
          "metadata": {},
          "execution_count": 56
        }
      ]
    },
    {
      "cell_type": "code",
      "metadata": {
        "id": "Bu6SBWALQxfl",
        "colab": {
          "base_uri": "https://localhost:8080/"
        },
        "outputId": "38f9b737-5cd5-42d8-ed67-28941811852c"
      },
      "source": [
        "### Simple regret minimization: run number = 3\n",
        "\n",
        "approx_output_3 = np.append(np.min(approx_3.GP.y[0:n_init]),approx_3.GP.y[n_init:(n_init+iters)]) \n",
        "exact_output_3 = np.append(np.min(exact_3.GP.y[0:n_init]),exact_3.GP.y[n_init:(n_init+iters)]) \n",
        "\n",
        "regret_approx_3 = np.log(-approx_output_3 + y_global_orig)\n",
        "regret_exact_3 = np.log(-exact_output_3 + y_global_orig)\n",
        "\n",
        "simple_regret_approx_3 = min_max_array(regret_approx_3)\n",
        "simple_regret_exact_3 = min_max_array(regret_exact_3)\n",
        "\n",
        "min_simple_regret_approx_3 = min(simple_regret_approx_3)\n",
        "min_simple_regret_exact_3 = min(simple_regret_exact_3)\n",
        "\n",
        "min_simple_regret_approx_3, min_simple_regret_exact_3"
      ],
      "execution_count": 57,
      "outputs": [
        {
          "output_type": "execute_result",
          "data": {
            "text/plain": [
              "(0.4014652911434721, 1.8309391695214903)"
            ]
          },
          "metadata": {},
          "execution_count": 57
        }
      ]
    },
    {
      "cell_type": "code",
      "metadata": {
        "id": "AZm0jgxkQxfm",
        "colab": {
          "base_uri": "https://localhost:8080/"
        },
        "outputId": "e24f397c-ead7-4d74-ec0a-81d95d41f5db"
      },
      "source": [
        "### Simple regret minimization: run number = 4\n",
        "\n",
        "approx_output_4 = np.append(np.min(approx_4.GP.y[0:n_init]),approx_4.GP.y[n_init:(n_init+iters)]) \n",
        "exact_output_4 = np.append(np.min(exact_4.GP.y[0:n_init]),exact_4.GP.y[n_init:(n_init+iters)]) \n",
        "\n",
        "regret_approx_4 = np.log(-approx_output_4 + y_global_orig)\n",
        "regret_exact_4 = np.log(-exact_output_4 + y_global_orig)\n",
        "\n",
        "simple_regret_approx_4 = min_max_array(regret_approx_4)\n",
        "simple_regret_exact_4 = min_max_array(regret_exact_4)\n",
        "\n",
        "min_simple_regret_approx_4 = min(simple_regret_approx_4)\n",
        "min_simple_regret_exact_4 = min(simple_regret_exact_4)\n",
        "\n",
        "min_simple_regret_approx_4, min_simple_regret_exact_4"
      ],
      "execution_count": 58,
      "outputs": [
        {
          "output_type": "execute_result",
          "data": {
            "text/plain": [
              "(1.834978290833928, 1.3778960350529434)"
            ]
          },
          "metadata": {},
          "execution_count": 58
        }
      ]
    },
    {
      "cell_type": "code",
      "metadata": {
        "id": "NONPm8JIQxfn",
        "colab": {
          "base_uri": "https://localhost:8080/"
        },
        "outputId": "52764da0-34b4-4a66-e015-c117292e76e6"
      },
      "source": [
        "### Simple regret minimization: run number = 5\n",
        "\n",
        "approx_output_5 = np.append(np.min(approx_5.GP.y[0:n_init]),approx_5.GP.y[n_init:(n_init+iters)]) \n",
        "exact_output_5 = np.append(np.min(exact_5.GP.y[0:n_init]),exact_5.GP.y[n_init:(n_init+iters)]) \n",
        "\n",
        "regret_approx_5 = np.log(-approx_output_5 + y_global_orig)\n",
        "regret_exact_5 = np.log(-exact_output_5 + y_global_orig)\n",
        "\n",
        "simple_regret_approx_5 = min_max_array(regret_approx_5)\n",
        "simple_regret_exact_5 = min_max_array(regret_exact_5)\n",
        "\n",
        "min_simple_regret_approx_5 = min(simple_regret_approx_5)\n",
        "min_simple_regret_exact_5 = min(simple_regret_exact_5)\n",
        "\n",
        "min_simple_regret_approx_5, min_simple_regret_exact_5"
      ],
      "execution_count": 59,
      "outputs": [
        {
          "output_type": "execute_result",
          "data": {
            "text/plain": [
              "(2.5853375155851133, 1.1692227350723865)"
            ]
          },
          "metadata": {},
          "execution_count": 59
        }
      ]
    },
    {
      "cell_type": "code",
      "metadata": {
        "id": "CJv3lPuSQxfp",
        "colab": {
          "base_uri": "https://localhost:8080/"
        },
        "outputId": "be756c66-be25-46b7-8e87-aeb4172c4c8f"
      },
      "source": [
        "### Simple regret minimization: run number = 6\n",
        "\n",
        "approx_output_6 = np.append(np.min(approx_6.GP.y[0:n_init]),approx_6.GP.y[n_init:(n_init+iters)]) \n",
        "exact_output_6 = np.append(np.min(exact_6.GP.y[0:n_init]),exact_6.GP.y[n_init:(n_init+iters)]) \n",
        "\n",
        "regret_approx_6 = np.log(-approx_output_6 + y_global_orig)\n",
        "regret_exact_6 = np.log(-exact_output_6 + y_global_orig)\n",
        "\n",
        "simple_regret_approx_6 = min_max_array(regret_approx_6)\n",
        "simple_regret_exact_6 = min_max_array(regret_exact_6)\n",
        "\n",
        "min_simple_regret_approx_6 = min(simple_regret_approx_6)\n",
        "min_simple_regret_exact_6 = min(simple_regret_exact_6)\n",
        "\n",
        "min_simple_regret_approx_6, min_simple_regret_exact_6"
      ],
      "execution_count": 60,
      "outputs": [
        {
          "output_type": "execute_result",
          "data": {
            "text/plain": [
              "(1.9603172143161403, 1.4493346315906948)"
            ]
          },
          "metadata": {},
          "execution_count": 60
        }
      ]
    },
    {
      "cell_type": "code",
      "metadata": {
        "id": "quR2ZyApQxfq",
        "colab": {
          "base_uri": "https://localhost:8080/"
        },
        "outputId": "09f8303c-f0eb-4326-d85e-022afd02a0ed"
      },
      "source": [
        "### Simple regret minimization: run number = 7\n",
        "\n",
        "approx_output_7 = np.append(np.min(approx_7.GP.y[0:n_init]),approx_7.GP.y[n_init:(n_init+iters)]) \n",
        "exact_output_7 = np.append(np.min(exact_7.GP.y[0:n_init]),exact_7.GP.y[n_init:(n_init+iters)]) \n",
        "\n",
        "regret_approx_7 = np.log(-approx_output_7 + y_global_orig)\n",
        "regret_exact_7 = np.log(-exact_output_7 + y_global_orig)\n",
        "\n",
        "simple_regret_approx_7 = min_max_array(regret_approx_7)\n",
        "simple_regret_exact_7 = min_max_array(regret_exact_7)\n",
        "\n",
        "min_simple_regret_approx_7 = min(simple_regret_approx_7)\n",
        "min_simple_regret_exact_7 = min(simple_regret_exact_7)\n",
        "\n",
        "min_simple_regret_approx_7, min_simple_regret_exact_7"
      ],
      "execution_count": 61,
      "outputs": [
        {
          "output_type": "execute_result",
          "data": {
            "text/plain": [
              "(1.420819123676306, 0.5108301325793834)"
            ]
          },
          "metadata": {},
          "execution_count": 61
        }
      ]
    },
    {
      "cell_type": "code",
      "metadata": {
        "id": "99wY5nK6Qxfr",
        "colab": {
          "base_uri": "https://localhost:8080/"
        },
        "outputId": "740375da-8c3e-4a93-9b28-5d0d2798edd8"
      },
      "source": [
        "### Simple regret minimization: run number = 8\n",
        "\n",
        "approx_output_8 = np.append(np.min(approx_8.GP.y[0:n_init]),approx_8.GP.y[n_init:(n_init+iters)]) \n",
        "exact_output_8 = np.append(np.min(exact_8.GP.y[0:n_init]),exact_8.GP.y[n_init:(n_init+iters)]) \n",
        "\n",
        "regret_approx_8 = np.log(-approx_output_8 + y_global_orig)\n",
        "regret_exact_8 = np.log(-exact_output_8 + y_global_orig)\n",
        "\n",
        "simple_regret_approx_8 = min_max_array(regret_approx_8)\n",
        "simple_regret_exact_8 = min_max_array(regret_exact_8)\n",
        "\n",
        "min_simple_regret_approx_8 = min(simple_regret_approx_8)\n",
        "min_simple_regret_exact_8 = min(simple_regret_exact_8)\n",
        "\n",
        "min_simple_regret_approx_8, min_simple_regret_exact_8"
      ],
      "execution_count": 62,
      "outputs": [
        {
          "output_type": "execute_result",
          "data": {
            "text/plain": [
              "(1.9483859280927385, 2.2761680217496814)"
            ]
          },
          "metadata": {},
          "execution_count": 62
        }
      ]
    },
    {
      "cell_type": "code",
      "metadata": {
        "id": "qt0P5t9qQxfs",
        "colab": {
          "base_uri": "https://localhost:8080/"
        },
        "outputId": "435d3d5f-faa8-415d-d4be-a6243ffe4abd"
      },
      "source": [
        "### Simple regret minimization: run number = 9\n",
        "\n",
        "approx_output_9 = np.append(np.min(approx_9.GP.y[0:n_init]),approx_9.GP.y[n_init:(n_init+iters)]) \n",
        "exact_output_9 = np.append(np.min(exact_9.GP.y[0:n_init]),exact_9.GP.y[n_init:(n_init+iters)]) \n",
        "\n",
        "regret_approx_9 = np.log(-approx_output_9 + y_global_orig)\n",
        "regret_exact_9 = np.log(-exact_output_9 + y_global_orig)\n",
        "\n",
        "simple_regret_approx_9 = min_max_array(regret_approx_9)\n",
        "simple_regret_exact_9 = min_max_array(regret_exact_9)\n",
        "\n",
        "min_simple_regret_approx_9 = min(simple_regret_approx_9)\n",
        "min_simple_regret_exact_9 = min(simple_regret_exact_9)\n",
        "\n",
        "min_simple_regret_approx_9, min_simple_regret_exact_9"
      ],
      "execution_count": 63,
      "outputs": [
        {
          "output_type": "execute_result",
          "data": {
            "text/plain": [
              "(0.9580180601506256, -0.3250755336869484)"
            ]
          },
          "metadata": {},
          "execution_count": 63
        }
      ]
    },
    {
      "cell_type": "code",
      "metadata": {
        "id": "vx8to9stQxft",
        "colab": {
          "base_uri": "https://localhost:8080/"
        },
        "outputId": "60773711-0a98-4d47-81d1-2cc2a6dd4c12"
      },
      "source": [
        "### Simple regret minimization: run number = 10\n",
        "\n",
        "approx_output_10 = np.append(np.min(approx_10.GP.y[0:n_init]),approx_10.GP.y[n_init:(n_init+iters)]) \n",
        "exact_output_10 = np.append(np.min(exact_10.GP.y[0:n_init]),exact_10.GP.y[n_init:(n_init+iters)]) \n",
        "\n",
        "regret_approx_10 = np.log(-approx_output_10 + y_global_orig)\n",
        "regret_exact_10 = np.log(-exact_output_10 + y_global_orig)\n",
        "\n",
        "simple_regret_approx_10 = min_max_array(regret_approx_10)\n",
        "simple_regret_exact_10 = min_max_array(regret_exact_10)\n",
        "\n",
        "min_simple_regret_approx_10 = min(simple_regret_approx_10)\n",
        "min_simple_regret_exact_10 = min(simple_regret_exact_10)\n",
        "\n",
        "min_simple_regret_approx_10, min_simple_regret_exact_10"
      ],
      "execution_count": 64,
      "outputs": [
        {
          "output_type": "execute_result",
          "data": {
            "text/plain": [
              "(1.526866602142688, 1.3546930883640549)"
            ]
          },
          "metadata": {},
          "execution_count": 64
        }
      ]
    },
    {
      "cell_type": "code",
      "metadata": {
        "id": "d-FGzWyHQxfu",
        "colab": {
          "base_uri": "https://localhost:8080/"
        },
        "outputId": "6f74ee42-86cf-45c2-ab28-36d6b9f5fc98"
      },
      "source": [
        "### Simple regret minimization: run number = 11\n",
        "\n",
        "approx_output_11 = np.append(np.min(approx_11.GP.y[0:n_init]),approx_11.GP.y[n_init:(n_init+iters)]) \n",
        "exact_output_11 = np.append(np.min(exact_11.GP.y[0:n_init]),exact_11.GP.y[n_init:(n_init+iters)]) \n",
        "\n",
        "regret_approx_11 = np.log(-approx_output_11 + y_global_orig)\n",
        "regret_exact_11 = np.log(-exact_output_11 + y_global_orig)\n",
        "\n",
        "simple_regret_approx_11 = min_max_array(regret_approx_11)\n",
        "simple_regret_exact_11 = min_max_array(regret_exact_11)\n",
        "\n",
        "min_simple_regret_approx_11 = min(simple_regret_approx_11)\n",
        "min_simple_regret_exact_11 = min(simple_regret_exact_11)\n",
        "\n",
        "min_simple_regret_approx_11, min_simple_regret_exact_11"
      ],
      "execution_count": 65,
      "outputs": [
        {
          "output_type": "execute_result",
          "data": {
            "text/plain": [
              "(1.3730649820316114, 3.3436813425607195)"
            ]
          },
          "metadata": {},
          "execution_count": 65
        }
      ]
    },
    {
      "cell_type": "code",
      "metadata": {
        "id": "SvtsssyjQxfv",
        "colab": {
          "base_uri": "https://localhost:8080/"
        },
        "outputId": "2fb08777-d755-4946-ccc5-ded9f97a82c8"
      },
      "source": [
        "### Simple regret minimization: run number = 12\n",
        "\n",
        "approx_output_12 = np.append(np.min(approx_12.GP.y[0:n_init]),approx_12.GP.y[n_init:(n_init+iters)]) \n",
        "exact_output_12 = np.append(np.min(exact_12.GP.y[0:n_init]),exact_12.GP.y[n_init:(n_init+iters)]) \n",
        "\n",
        "regret_approx_12 = np.log(-approx_output_12 + y_global_orig)\n",
        "regret_exact_12 = np.log(-exact_output_12 + y_global_orig)\n",
        "\n",
        "simple_regret_approx_12 = min_max_array(regret_approx_12)\n",
        "simple_regret_exact_12 = min_max_array(regret_exact_12)\n",
        "\n",
        "min_simple_regret_approx_12 = min(simple_regret_approx_12)\n",
        "min_simple_regret_exact_12 = min(simple_regret_exact_12)\n",
        "\n",
        "min_simple_regret_approx_12, min_simple_regret_exact_12"
      ],
      "execution_count": 66,
      "outputs": [
        {
          "output_type": "execute_result",
          "data": {
            "text/plain": [
              "(0.8470619963452927, 1.6934741763190866)"
            ]
          },
          "metadata": {},
          "execution_count": 66
        }
      ]
    },
    {
      "cell_type": "code",
      "metadata": {
        "id": "K6OiGcHkQxfw",
        "colab": {
          "base_uri": "https://localhost:8080/"
        },
        "outputId": "ff21a93f-04c2-493a-839d-0cb9251558fd"
      },
      "source": [
        "### Simple regret minimization: run number = 13\n",
        "\n",
        "approx_output_13 = np.append(np.min(approx_13.GP.y[0:n_init]),approx_13.GP.y[n_init:(n_init+iters)]) \n",
        "exact_output_13 = np.append(np.min(exact_13.GP.y[0:n_init]),exact_13.GP.y[n_init:(n_init+iters)]) \n",
        "\n",
        "regret_approx_13 = np.log(-approx_output_13 + y_global_orig)\n",
        "regret_exact_13 = np.log(-exact_output_13 + y_global_orig)\n",
        "\n",
        "simple_regret_approx_13 = min_max_array(regret_approx_13)\n",
        "simple_regret_exact_13 = min_max_array(regret_exact_13)\n",
        "\n",
        "min_simple_regret_approx_13 = min(simple_regret_approx_13)\n",
        "min_simple_regret_exact_13 = min(simple_regret_exact_13)\n",
        "\n",
        "min_simple_regret_approx_13, min_simple_regret_exact_13"
      ],
      "execution_count": 67,
      "outputs": [
        {
          "output_type": "execute_result",
          "data": {
            "text/plain": [
              "(1.8089710557222782, 1.2521673118251695)"
            ]
          },
          "metadata": {},
          "execution_count": 67
        }
      ]
    },
    {
      "cell_type": "code",
      "metadata": {
        "id": "ogML73shQxfx",
        "colab": {
          "base_uri": "https://localhost:8080/"
        },
        "outputId": "b91255b9-e7bd-4594-edf6-6b7eb0579db8"
      },
      "source": [
        "### Simple regret minimization: run number = 14\n",
        "\n",
        "approx_output_14 = np.append(np.min(approx_14.GP.y[0:n_init]),approx_14.GP.y[n_init:(n_init+iters)]) \n",
        "exact_output_14 = np.append(np.min(exact_14.GP.y[0:n_init]),exact_14.GP.y[n_init:(n_init+iters)]) \n",
        "\n",
        "regret_approx_14 = np.log(-approx_output_14 + y_global_orig)\n",
        "regret_exact_14 = np.log(-exact_output_14 + y_global_orig)\n",
        "\n",
        "simple_regret_approx_14 = min_max_array(regret_approx_14)\n",
        "simple_regret_exact_14 = min_max_array(regret_exact_14)\n",
        "\n",
        "min_simple_regret_approx_14 = min(simple_regret_approx_14)\n",
        "min_simple_regret_exact_14 = min(simple_regret_exact_14)\n",
        "\n",
        "min_simple_regret_approx_14, min_simple_regret_exact_14"
      ],
      "execution_count": 68,
      "outputs": [
        {
          "output_type": "execute_result",
          "data": {
            "text/plain": [
              "(1.2950720551183976, -0.6676673918245594)"
            ]
          },
          "metadata": {},
          "execution_count": 68
        }
      ]
    },
    {
      "cell_type": "code",
      "metadata": {
        "id": "9Eg7gFT9Qxfx",
        "colab": {
          "base_uri": "https://localhost:8080/"
        },
        "outputId": "abebc189-114b-4a59-ce52-554e2036312d"
      },
      "source": [
        "### Simple regret minimization: run number = 15\n",
        "\n",
        "approx_output_15 = np.append(np.min(approx_15.GP.y[0:n_init]),approx_15.GP.y[n_init:(n_init+iters)]) \n",
        "exact_output_15 = np.append(np.min(exact_15.GP.y[0:n_init]),exact_15.GP.y[n_init:(n_init+iters)]) \n",
        "\n",
        "regret_approx_15 = np.log(-approx_output_15 + y_global_orig)\n",
        "regret_exact_15 = np.log(-exact_output_15 + y_global_orig)\n",
        "\n",
        "simple_regret_approx_15 = min_max_array(regret_approx_15)\n",
        "simple_regret_exact_15 = min_max_array(regret_exact_15)\n",
        "\n",
        "min_simple_regret_approx_15 = min(simple_regret_approx_15)\n",
        "min_simple_regret_exact_15 = min(simple_regret_exact_15)\n",
        "\n",
        "min_simple_regret_approx_15, min_simple_regret_exact_15"
      ],
      "execution_count": 69,
      "outputs": [
        {
          "output_type": "execute_result",
          "data": {
            "text/plain": [
              "(1.0784022177232886, -0.02380921375265628)"
            ]
          },
          "metadata": {},
          "execution_count": 69
        }
      ]
    },
    {
      "cell_type": "code",
      "metadata": {
        "id": "lIAC1U7ZQxfy",
        "colab": {
          "base_uri": "https://localhost:8080/"
        },
        "outputId": "4a3a923f-872e-40d6-9e6a-46edc155d0d8"
      },
      "source": [
        "### Simple regret minimization: run number = 16\n",
        "\n",
        "approx_output_16 = np.append(np.min(approx_16.GP.y[0:n_init]),approx_16.GP.y[n_init:(n_init+iters)]) \n",
        "exact_output_16 = np.append(np.min(exact_16.GP.y[0:n_init]),exact_16.GP.y[n_init:(n_init+iters)]) \n",
        "\n",
        "regret_approx_16 = np.log(-approx_output_16 + y_global_orig)\n",
        "regret_exact_16 = np.log(-exact_output_16 + y_global_orig)\n",
        "\n",
        "simple_regret_approx_16 = min_max_array(regret_approx_16)\n",
        "simple_regret_exact_16 = min_max_array(regret_exact_16)\n",
        "\n",
        "min_simple_regret_approx_16 = min(simple_regret_approx_16)\n",
        "min_simple_regret_exact_16 = min(simple_regret_exact_16)\n",
        "\n",
        "min_simple_regret_approx_16, min_simple_regret_exact_16"
      ],
      "execution_count": 70,
      "outputs": [
        {
          "output_type": "execute_result",
          "data": {
            "text/plain": [
              "(0.689622247145762, 0.8044469041377094)"
            ]
          },
          "metadata": {},
          "execution_count": 70
        }
      ]
    },
    {
      "cell_type": "code",
      "metadata": {
        "id": "bGott36OQxfz",
        "colab": {
          "base_uri": "https://localhost:8080/"
        },
        "outputId": "a7c9fdd9-4464-4cb0-c1bb-3091b742d50c"
      },
      "source": [
        "### Simple regret minimization: run number = 17\n",
        "\n",
        "approx_output_17 = np.append(np.min(approx_17.GP.y[0:n_init]),approx_17.GP.y[n_init:(n_init+iters)]) \n",
        "exact_output_17 = np.append(np.min(exact_17.GP.y[0:n_init]),exact_17.GP.y[n_init:(n_init+iters)]) \n",
        "\n",
        "regret_approx_17 = np.log(-approx_output_17 + y_global_orig)\n",
        "regret_exact_17 = np.log(-exact_output_17 + y_global_orig)\n",
        "\n",
        "simple_regret_approx_17 = min_max_array(regret_approx_17)\n",
        "simple_regret_exact_17 = min_max_array(regret_exact_17)\n",
        "\n",
        "min_simple_regret_approx_17 = min(simple_regret_approx_17)\n",
        "min_simple_regret_exact_17 = min(simple_regret_exact_17)\n",
        "\n",
        "min_simple_regret_approx_17, min_simple_regret_exact_17"
      ],
      "execution_count": 71,
      "outputs": [
        {
          "output_type": "execute_result",
          "data": {
            "text/plain": [
              "(-0.33673882378405284, -1.1897859446234886)"
            ]
          },
          "metadata": {},
          "execution_count": 71
        }
      ]
    },
    {
      "cell_type": "code",
      "metadata": {
        "id": "Cz9ZYMBMQxfz",
        "colab": {
          "base_uri": "https://localhost:8080/"
        },
        "outputId": "b56ce5e6-a036-4ae5-b071-a087ff580f70"
      },
      "source": [
        "### Simple regret minimization: run number = 18\n",
        "\n",
        "approx_output_18 = np.append(np.min(approx_18.GP.y[0:n_init]),approx_18.GP.y[n_init:(n_init+iters)]) \n",
        "exact_output_18 = np.append(np.min(exact_18.GP.y[0:n_init]),exact_18.GP.y[n_init:(n_init+iters)]) \n",
        "\n",
        "regret_approx_18 = np.log(-approx_output_18 + y_global_orig)\n",
        "regret_exact_18 = np.log(-exact_output_18 + y_global_orig)\n",
        "\n",
        "simple_regret_approx_18 = min_max_array(regret_approx_18)\n",
        "simple_regret_exact_18 = min_max_array(regret_exact_18)\n",
        "\n",
        "min_simple_regret_approx_18 = min(simple_regret_approx_18)\n",
        "min_simple_regret_exact_18 = min(simple_regret_exact_18)\n",
        "\n",
        "min_simple_regret_approx_18, min_simple_regret_exact_18"
      ],
      "execution_count": 72,
      "outputs": [
        {
          "output_type": "execute_result",
          "data": {
            "text/plain": [
              "(0.25175141066653084, -0.583199719647997)"
            ]
          },
          "metadata": {},
          "execution_count": 72
        }
      ]
    },
    {
      "cell_type": "code",
      "metadata": {
        "id": "OBfpWOHNQxf0",
        "colab": {
          "base_uri": "https://localhost:8080/"
        },
        "outputId": "9cd208c1-60eb-451d-8f71-e7c93fef6fbd"
      },
      "source": [
        "### Simple regret minimization: run number = 19\n",
        "\n",
        "approx_output_19 = np.append(np.min(approx_19.GP.y[0:n_init]),approx_19.GP.y[n_init:(n_init+iters)]) \n",
        "exact_output_19 = np.append(np.min(exact_19.GP.y[0:n_init]),exact_19.GP.y[n_init:(n_init+iters)]) \n",
        "\n",
        "regret_approx_19 = np.log(-approx_output_19 + y_global_orig)\n",
        "regret_exact_19 = np.log(-exact_output_19 + y_global_orig)\n",
        "\n",
        "simple_regret_approx_19 = min_max_array(regret_approx_19)\n",
        "simple_regret_exact_19 = min_max_array(regret_exact_19)\n",
        "\n",
        "min_simple_regret_approx_19 = min(simple_regret_approx_19)\n",
        "min_simple_regret_exact_19 = min(simple_regret_exact_19)\n",
        "\n",
        "min_simple_regret_approx_19, min_simple_regret_exact_19"
      ],
      "execution_count": 73,
      "outputs": [
        {
          "output_type": "execute_result",
          "data": {
            "text/plain": [
              "(-0.31076706339614657, -4.392081928703297)"
            ]
          },
          "metadata": {},
          "execution_count": 73
        }
      ]
    },
    {
      "cell_type": "code",
      "metadata": {
        "id": "BE1AJ7NsQxf0",
        "colab": {
          "base_uri": "https://localhost:8080/"
        },
        "outputId": "dd2bd595-0ff7-4859-cee3-a3fd1c2dbb5a"
      },
      "source": [
        "### Simple regret minimization: run number = 20\n",
        "\n",
        "approx_output_20 = np.append(np.min(approx_20.GP.y[0:n_init]),approx_20.GP.y[n_init:(n_init+iters)]) \n",
        "exact_output_20 = np.append(np.min(exact_20.GP.y[0:n_init]),exact_20.GP.y[n_init:(n_init+iters)]) \n",
        "\n",
        "regret_approx_20 = np.log(-approx_output_20 + y_global_orig)\n",
        "regret_exact_20 = np.log(-exact_output_20 + y_global_orig)\n",
        "\n",
        "simple_regret_approx_20 = min_max_array(regret_approx_20)\n",
        "simple_regret_exact_20 = min_max_array(regret_exact_20)\n",
        "\n",
        "min_simple_regret_approx_20 = min(simple_regret_approx_20)\n",
        "min_simple_regret_exact_20 = min(simple_regret_exact_20)\n",
        "\n",
        "min_simple_regret_approx_20, min_simple_regret_exact_20"
      ],
      "execution_count": 74,
      "outputs": [
        {
          "output_type": "execute_result",
          "data": {
            "text/plain": [
              "(2.4721249330632906, 2.132362988787175)"
            ]
          },
          "metadata": {},
          "execution_count": 74
        }
      ]
    },
    {
      "cell_type": "code",
      "metadata": {
        "id": "bpX-bKAHQxf1"
      },
      "source": [
        "# Iteration1 :\n",
        "\n",
        "slice1 = 0\n",
        "\n",
        "approx1 = [simple_regret_approx_1[slice1],\n",
        "       simple_regret_approx_2[slice1],\n",
        "       simple_regret_approx_3[slice1],\n",
        "       simple_regret_approx_4[slice1],\n",
        "       simple_regret_approx_5[slice1],\n",
        "       simple_regret_approx_6[slice1],\n",
        "       simple_regret_approx_7[slice1],\n",
        "       simple_regret_approx_8[slice1],\n",
        "       simple_regret_approx_9[slice1],\n",
        "       simple_regret_approx_10[slice1],\n",
        "       simple_regret_approx_11[slice1],\n",
        "       simple_regret_approx_12[slice1],\n",
        "       simple_regret_approx_13[slice1],\n",
        "       simple_regret_approx_14[slice1],\n",
        "       simple_regret_approx_15[slice1],\n",
        "       simple_regret_approx_16[slice1],\n",
        "       simple_regret_approx_17[slice1],\n",
        "       simple_regret_approx_18[slice1],\n",
        "       simple_regret_approx_19[slice1],\n",
        "       simple_regret_approx_20[slice1]]\n",
        "\n",
        "exact1 = [simple_regret_exact_1[slice1],\n",
        "       simple_regret_exact_2[slice1],\n",
        "       simple_regret_exact_3[slice1],\n",
        "       simple_regret_exact_4[slice1],\n",
        "       simple_regret_exact_5[slice1],\n",
        "       simple_regret_exact_6[slice1],\n",
        "       simple_regret_exact_7[slice1],\n",
        "       simple_regret_exact_8[slice1],\n",
        "       simple_regret_exact_9[slice1],\n",
        "       simple_regret_exact_10[slice1],\n",
        "       simple_regret_exact_11[slice1],\n",
        "       simple_regret_exact_12[slice1],\n",
        "       simple_regret_exact_13[slice1],\n",
        "       simple_regret_exact_14[slice1],\n",
        "       simple_regret_exact_15[slice1],\n",
        "       simple_regret_exact_16[slice1],\n",
        "       simple_regret_exact_17[slice1],\n",
        "       simple_regret_exact_18[slice1],\n",
        "       simple_regret_exact_19[slice1],\n",
        "       simple_regret_exact_20[slice1]]\n",
        "\n",
        "approx1_results = pd.DataFrame(approx1).sort_values(by=[0], ascending=False)\n",
        "exact1_results = pd.DataFrame(exact1).sort_values(by=[0], ascending=False)\n",
        "\n",
        "### Best simple regret minimization IQR - approx:\n",
        "lower_approx1 = np.asarray(approx1_results[4:5][0])[0]\n",
        "median_approx1 = np.asarray(approx1_results[9:10][0])[0]\n",
        "upper_approx1 = np.asarray(approx1_results[14:15][0])[0]\n",
        "\n",
        "lower_exact1 = np.asarray(exact1_results[4:5][0])[0]\n",
        "median_exact1 = np.asarray(exact1_results[9:10][0])[0]\n",
        "upper_exact1 = np.asarray(exact1_results[14:15][0])[0]"
      ],
      "execution_count": 75,
      "outputs": []
    },
    {
      "cell_type": "code",
      "metadata": {
        "id": "CgIkJA1xQxf2"
      },
      "source": [
        "# Iteration11 :\n",
        "\n",
        "slice11 = 10\n",
        "\n",
        "approx11 = [simple_regret_approx_1[slice11],\n",
        "       simple_regret_approx_2[slice11],\n",
        "       simple_regret_approx_3[slice11],\n",
        "       simple_regret_approx_4[slice11],\n",
        "       simple_regret_approx_5[slice11],\n",
        "       simple_regret_approx_6[slice11],\n",
        "       simple_regret_approx_7[slice11],\n",
        "       simple_regret_approx_8[slice11],\n",
        "       simple_regret_approx_9[slice11],\n",
        "       simple_regret_approx_10[slice11],\n",
        "       simple_regret_approx_11[slice11],\n",
        "       simple_regret_approx_12[slice11],\n",
        "       simple_regret_approx_13[slice11],\n",
        "       simple_regret_approx_14[slice11],\n",
        "       simple_regret_approx_15[slice11],\n",
        "       simple_regret_approx_16[slice11],\n",
        "       simple_regret_approx_17[slice11],\n",
        "       simple_regret_approx_18[slice11],\n",
        "       simple_regret_approx_19[slice11],\n",
        "       simple_regret_approx_20[slice11]]\n",
        "\n",
        "exact11 = [simple_regret_exact_1[slice11],\n",
        "       simple_regret_exact_2[slice11],\n",
        "       simple_regret_exact_3[slice11],\n",
        "       simple_regret_exact_4[slice11],\n",
        "       simple_regret_exact_5[slice11],\n",
        "       simple_regret_exact_6[slice11],\n",
        "       simple_regret_exact_7[slice11],\n",
        "       simple_regret_exact_8[slice11],\n",
        "       simple_regret_exact_9[slice11],\n",
        "       simple_regret_exact_10[slice11],\n",
        "       simple_regret_exact_11[slice11],\n",
        "       simple_regret_exact_12[slice11],\n",
        "       simple_regret_exact_13[slice11],\n",
        "       simple_regret_exact_14[slice11],\n",
        "       simple_regret_exact_15[slice11],\n",
        "       simple_regret_exact_16[slice11],\n",
        "       simple_regret_exact_17[slice11],\n",
        "       simple_regret_exact_18[slice11],\n",
        "       simple_regret_exact_19[slice11],\n",
        "       simple_regret_exact_20[slice11]]\n",
        "\n",
        "approx11_results = pd.DataFrame(approx11).sort_values(by=[0], ascending=False)\n",
        "exact11_results = pd.DataFrame(exact11).sort_values(by=[0], ascending=False)\n",
        "\n",
        "### Best simple regret minimization IQR - approx:\n",
        "lower_approx11 = np.asarray(approx11_results[4:5][0])[0]\n",
        "median_approx11 = np.asarray(approx11_results[9:10][0])[0]\n",
        "upper_approx11 = np.asarray(approx11_results[14:15][0])[0]\n",
        "\n",
        "lower_exact11 = np.asarray(exact11_results[4:5][0])[0]\n",
        "median_exact11 = np.asarray(exact11_results[9:10][0])[0]\n",
        "upper_exact11 = np.asarray(exact11_results[14:15][0])[0]"
      ],
      "execution_count": 76,
      "outputs": []
    },
    {
      "cell_type": "code",
      "metadata": {
        "id": "MFePDfGuQxf2"
      },
      "source": [
        "# Iteration21 :\n",
        "\n",
        "slice21 = 20\n",
        "\n",
        "approx21 = [simple_regret_approx_1[slice21],\n",
        "       simple_regret_approx_2[slice21],\n",
        "       simple_regret_approx_3[slice21],\n",
        "       simple_regret_approx_4[slice21],\n",
        "       simple_regret_approx_5[slice21],\n",
        "       simple_regret_approx_6[slice21],\n",
        "       simple_regret_approx_7[slice21],\n",
        "       simple_regret_approx_8[slice21],\n",
        "       simple_regret_approx_9[slice21],\n",
        "       simple_regret_approx_10[slice21],\n",
        "       simple_regret_approx_11[slice21],\n",
        "       simple_regret_approx_12[slice21],\n",
        "       simple_regret_approx_13[slice21],\n",
        "       simple_regret_approx_14[slice21],\n",
        "       simple_regret_approx_15[slice21],\n",
        "       simple_regret_approx_16[slice21],\n",
        "       simple_regret_approx_17[slice21],\n",
        "       simple_regret_approx_18[slice21],\n",
        "       simple_regret_approx_19[slice21],\n",
        "       simple_regret_approx_20[slice21]]\n",
        "\n",
        "exact21 = [simple_regret_exact_1[slice21],\n",
        "       simple_regret_exact_2[slice21],\n",
        "       simple_regret_exact_3[slice21],\n",
        "       simple_regret_exact_4[slice21],\n",
        "       simple_regret_exact_5[slice21],\n",
        "       simple_regret_exact_6[slice21],\n",
        "       simple_regret_exact_7[slice21],\n",
        "       simple_regret_exact_8[slice21],\n",
        "       simple_regret_exact_9[slice21],\n",
        "       simple_regret_exact_10[slice21],\n",
        "       simple_regret_exact_11[slice21],\n",
        "       simple_regret_exact_12[slice21],\n",
        "       simple_regret_exact_13[slice21],\n",
        "       simple_regret_exact_14[slice21],\n",
        "       simple_regret_exact_15[slice21],\n",
        "       simple_regret_exact_16[slice21],\n",
        "       simple_regret_exact_17[slice21],\n",
        "       simple_regret_exact_18[slice21],\n",
        "       simple_regret_exact_19[slice21],\n",
        "       simple_regret_exact_20[slice21]]\n",
        "\n",
        "approx21_results = pd.DataFrame(approx21).sort_values(by=[0], ascending=False)\n",
        "exact21_results = pd.DataFrame(exact21).sort_values(by=[0], ascending=False)\n",
        "\n",
        "### Best simple regret minimization IQR - approx:\n",
        "lower_approx21 = np.asarray(approx21_results[4:5][0])[0]\n",
        "median_approx21 = np.asarray(approx21_results[9:10][0])[0]\n",
        "upper_approx21 = np.asarray(approx21_results[14:15][0])[0]\n",
        "\n",
        "lower_exact21 = np.asarray(exact21_results[4:5][0])[0]\n",
        "median_exact21 = np.asarray(exact21_results[9:10][0])[0]\n",
        "upper_exact21 = np.asarray(exact21_results[14:15][0])[0]"
      ],
      "execution_count": 77,
      "outputs": []
    },
    {
      "cell_type": "code",
      "metadata": {
        "id": "PrRDB1kfQxf3"
      },
      "source": [
        "# Iteration2 :\n",
        "\n",
        "slice2 = 1\n",
        "\n",
        "approx2 = [simple_regret_approx_1[slice2],\n",
        "       simple_regret_approx_2[slice2],\n",
        "       simple_regret_approx_3[slice2],\n",
        "       simple_regret_approx_4[slice2],\n",
        "       simple_regret_approx_5[slice2],\n",
        "       simple_regret_approx_6[slice2],\n",
        "       simple_regret_approx_7[slice2],\n",
        "       simple_regret_approx_8[slice2],\n",
        "       simple_regret_approx_9[slice2],\n",
        "       simple_regret_approx_10[slice2],\n",
        "       simple_regret_approx_11[slice2],\n",
        "       simple_regret_approx_12[slice2],\n",
        "       simple_regret_approx_13[slice2],\n",
        "       simple_regret_approx_14[slice2],\n",
        "       simple_regret_approx_15[slice2],\n",
        "       simple_regret_approx_16[slice2],\n",
        "       simple_regret_approx_17[slice2],\n",
        "       simple_regret_approx_18[slice2],\n",
        "       simple_regret_approx_19[slice2],\n",
        "       simple_regret_approx_20[slice2]]\n",
        "\n",
        "exact2 = [simple_regret_exact_1[slice2],\n",
        "       simple_regret_exact_2[slice2],\n",
        "       simple_regret_exact_3[slice2],\n",
        "       simple_regret_exact_4[slice2],\n",
        "       simple_regret_exact_5[slice2],\n",
        "       simple_regret_exact_6[slice2],\n",
        "       simple_regret_exact_7[slice2],\n",
        "       simple_regret_exact_8[slice2],\n",
        "       simple_regret_exact_9[slice2],\n",
        "       simple_regret_exact_10[slice2],\n",
        "       simple_regret_exact_11[slice2],\n",
        "       simple_regret_exact_12[slice2],\n",
        "       simple_regret_exact_13[slice2],\n",
        "       simple_regret_exact_14[slice2],\n",
        "       simple_regret_exact_15[slice2],\n",
        "       simple_regret_exact_16[slice2],\n",
        "       simple_regret_exact_17[slice2],\n",
        "       simple_regret_exact_18[slice2],\n",
        "       simple_regret_exact_19[slice2],\n",
        "       simple_regret_exact_20[slice2]]\n",
        "\n",
        "approx2_results = pd.DataFrame(approx2).sort_values(by=[0], ascending=False)\n",
        "exact2_results = pd.DataFrame(exact2).sort_values(by=[0], ascending=False)\n",
        "\n",
        "### Best simple regret minimization IQR - approx:\n",
        "lower_approx2 = np.asarray(approx2_results[4:5][0])[0]\n",
        "median_approx2 = np.asarray(approx2_results[9:10][0])[0]\n",
        "upper_approx2 = np.asarray(approx2_results[14:15][0])[0]\n",
        "\n",
        "lower_exact2 = np.asarray(exact2_results[4:5][0])[0]\n",
        "median_exact2 = np.asarray(exact2_results[9:10][0])[0]\n",
        "upper_exact2 = np.asarray(exact2_results[14:15][0])[0]"
      ],
      "execution_count": 78,
      "outputs": []
    },
    {
      "cell_type": "code",
      "metadata": {
        "id": "B8ncJDYeQxf3"
      },
      "source": [
        "# Iteration12 :\n",
        "\n",
        "slice12 = 11\n",
        "\n",
        "approx12 = [simple_regret_approx_1[slice12],\n",
        "       simple_regret_approx_2[slice12],\n",
        "       simple_regret_approx_3[slice12],\n",
        "       simple_regret_approx_4[slice12],\n",
        "       simple_regret_approx_5[slice12],\n",
        "       simple_regret_approx_6[slice12],\n",
        "       simple_regret_approx_7[slice12],\n",
        "       simple_regret_approx_8[slice12],\n",
        "       simple_regret_approx_9[slice12],\n",
        "       simple_regret_approx_10[slice12],\n",
        "       simple_regret_approx_11[slice12],\n",
        "       simple_regret_approx_12[slice12],\n",
        "       simple_regret_approx_13[slice12],\n",
        "       simple_regret_approx_14[slice12],\n",
        "       simple_regret_approx_15[slice12],\n",
        "       simple_regret_approx_16[slice12],\n",
        "       simple_regret_approx_17[slice12],\n",
        "       simple_regret_approx_18[slice12],\n",
        "       simple_regret_approx_19[slice12],\n",
        "       simple_regret_approx_20[slice12]]\n",
        "\n",
        "exact12 = [simple_regret_exact_1[slice12],\n",
        "       simple_regret_exact_2[slice12],\n",
        "       simple_regret_exact_3[slice12],\n",
        "       simple_regret_exact_4[slice12],\n",
        "       simple_regret_exact_5[slice12],\n",
        "       simple_regret_exact_6[slice12],\n",
        "       simple_regret_exact_7[slice12],\n",
        "       simple_regret_exact_8[slice12],\n",
        "       simple_regret_exact_9[slice12],\n",
        "       simple_regret_exact_10[slice12],\n",
        "       simple_regret_exact_11[slice12],\n",
        "       simple_regret_exact_12[slice12],\n",
        "       simple_regret_exact_13[slice12],\n",
        "       simple_regret_exact_14[slice12],\n",
        "       simple_regret_exact_15[slice12],\n",
        "       simple_regret_exact_16[slice12],\n",
        "       simple_regret_exact_17[slice12],\n",
        "       simple_regret_exact_18[slice12],\n",
        "       simple_regret_exact_19[slice12],\n",
        "       simple_regret_exact_20[slice12]]\n",
        "\n",
        "approx12_results = pd.DataFrame(approx12).sort_values(by=[0], ascending=False)\n",
        "exact12_results = pd.DataFrame(exact12).sort_values(by=[0], ascending=False)\n",
        "\n",
        "### Best simple regret minimization IQR - approx:\n",
        "lower_approx12 = np.asarray(approx12_results[4:5][0])[0]\n",
        "median_approx12 = np.asarray(approx12_results[9:10][0])[0]\n",
        "upper_approx12 = np.asarray(approx12_results[14:15][0])[0]\n",
        "\n",
        "lower_exact12 = np.asarray(exact12_results[4:5][0])[0]\n",
        "median_exact12 = np.asarray(exact12_results[9:10][0])[0]\n",
        "upper_exact12 = np.asarray(exact12_results[14:15][0])[0]"
      ],
      "execution_count": 79,
      "outputs": []
    },
    {
      "cell_type": "code",
      "metadata": {
        "id": "Jn4KpGvcQxf4"
      },
      "source": [
        "# Iteration3 :\n",
        "\n",
        "slice3 = 2\n",
        "\n",
        "approx3 = [simple_regret_approx_1[slice3],\n",
        "       simple_regret_approx_2[slice3],\n",
        "       simple_regret_approx_3[slice3],\n",
        "       simple_regret_approx_4[slice3],\n",
        "       simple_regret_approx_5[slice3],\n",
        "       simple_regret_approx_6[slice3],\n",
        "       simple_regret_approx_7[slice3],\n",
        "       simple_regret_approx_8[slice3],\n",
        "       simple_regret_approx_9[slice3],\n",
        "       simple_regret_approx_10[slice3],\n",
        "       simple_regret_approx_11[slice3],\n",
        "       simple_regret_approx_12[slice3],\n",
        "       simple_regret_approx_13[slice3],\n",
        "       simple_regret_approx_14[slice3],\n",
        "       simple_regret_approx_15[slice3],\n",
        "       simple_regret_approx_16[slice3],\n",
        "       simple_regret_approx_17[slice3],\n",
        "       simple_regret_approx_18[slice3],\n",
        "       simple_regret_approx_19[slice3],\n",
        "       simple_regret_approx_20[slice3]]\n",
        "\n",
        "exact3 = [simple_regret_exact_1[slice3],\n",
        "       simple_regret_exact_2[slice3],\n",
        "       simple_regret_exact_3[slice3],\n",
        "       simple_regret_exact_4[slice3],\n",
        "       simple_regret_exact_5[slice3],\n",
        "       simple_regret_exact_6[slice3],\n",
        "       simple_regret_exact_7[slice3],\n",
        "       simple_regret_exact_8[slice3],\n",
        "       simple_regret_exact_9[slice3],\n",
        "       simple_regret_exact_10[slice3],\n",
        "       simple_regret_exact_11[slice3],\n",
        "       simple_regret_exact_12[slice3],\n",
        "       simple_regret_exact_13[slice3],\n",
        "       simple_regret_exact_14[slice3],\n",
        "       simple_regret_exact_15[slice3],\n",
        "       simple_regret_exact_16[slice3],\n",
        "       simple_regret_exact_17[slice3],\n",
        "       simple_regret_exact_18[slice3],\n",
        "       simple_regret_exact_19[slice3],\n",
        "       simple_regret_exact_20[slice3]]\n",
        "\n",
        "approx3_results = pd.DataFrame(approx3).sort_values(by=[0], ascending=False)\n",
        "exact3_results = pd.DataFrame(exact3).sort_values(by=[0], ascending=False)\n",
        "\n",
        "### Best simple regret minimization IQR - approx:\n",
        "lower_approx3 = np.asarray(approx3_results[4:5][0])[0]\n",
        "median_approx3 = np.asarray(approx3_results[9:10][0])[0]\n",
        "upper_approx3 = np.asarray(approx3_results[14:15][0])[0]\n",
        "\n",
        "lower_exact3 = np.asarray(exact3_results[4:5][0])[0]\n",
        "median_exact3 = np.asarray(exact3_results[9:10][0])[0]\n",
        "upper_exact3 = np.asarray(exact3_results[14:15][0])[0]"
      ],
      "execution_count": 80,
      "outputs": []
    },
    {
      "cell_type": "code",
      "metadata": {
        "id": "plf83wxrQxf4"
      },
      "source": [
        "# Iteration13 :\n",
        "\n",
        "slice13 = 12\n",
        "\n",
        "approx13 = [simple_regret_approx_1[slice13],\n",
        "       simple_regret_approx_2[slice13],\n",
        "       simple_regret_approx_3[slice13],\n",
        "       simple_regret_approx_4[slice13],\n",
        "       simple_regret_approx_5[slice13],\n",
        "       simple_regret_approx_6[slice13],\n",
        "       simple_regret_approx_7[slice13],\n",
        "       simple_regret_approx_8[slice13],\n",
        "       simple_regret_approx_9[slice13],\n",
        "       simple_regret_approx_10[slice13],\n",
        "       simple_regret_approx_11[slice13],\n",
        "       simple_regret_approx_12[slice13],\n",
        "       simple_regret_approx_13[slice13],\n",
        "       simple_regret_approx_14[slice13],\n",
        "       simple_regret_approx_15[slice13],\n",
        "       simple_regret_approx_16[slice13],\n",
        "       simple_regret_approx_17[slice13],\n",
        "       simple_regret_approx_18[slice13],\n",
        "       simple_regret_approx_19[slice13],\n",
        "       simple_regret_approx_20[slice13]]\n",
        "\n",
        "exact13 = [simple_regret_exact_1[slice13],\n",
        "       simple_regret_exact_2[slice13],\n",
        "       simple_regret_exact_3[slice13],\n",
        "       simple_regret_exact_4[slice13],\n",
        "       simple_regret_exact_5[slice13],\n",
        "       simple_regret_exact_6[slice13],\n",
        "       simple_regret_exact_7[slice13],\n",
        "       simple_regret_exact_8[slice13],\n",
        "       simple_regret_exact_9[slice13],\n",
        "       simple_regret_exact_10[slice13],\n",
        "       simple_regret_exact_11[slice13],\n",
        "       simple_regret_exact_12[slice13],\n",
        "       simple_regret_exact_13[slice13],\n",
        "       simple_regret_exact_14[slice13],\n",
        "       simple_regret_exact_15[slice13],\n",
        "       simple_regret_exact_16[slice13],\n",
        "       simple_regret_exact_17[slice13],\n",
        "       simple_regret_exact_18[slice13],\n",
        "       simple_regret_exact_19[slice13],\n",
        "       simple_regret_exact_20[slice13]]\n",
        "\n",
        "approx13_results = pd.DataFrame(approx13).sort_values(by=[0], ascending=False)\n",
        "exact13_results = pd.DataFrame(exact13).sort_values(by=[0], ascending=False)\n",
        "\n",
        "### Best simple regret minimization IQR - approx:\n",
        "lower_approx13 = np.asarray(approx13_results[4:5][0])[0]\n",
        "median_approx13 = np.asarray(approx13_results[9:10][0])[0]\n",
        "upper_approx13 = np.asarray(approx13_results[14:15][0])[0]\n",
        "\n",
        "lower_exact13 = np.asarray(exact13_results[4:5][0])[0]\n",
        "median_exact13 = np.asarray(exact13_results[9:10][0])[0]\n",
        "upper_exact13 = np.asarray(exact13_results[14:15][0])[0]"
      ],
      "execution_count": 81,
      "outputs": []
    },
    {
      "cell_type": "code",
      "metadata": {
        "id": "9A7mlVvJQxf5"
      },
      "source": [
        "# Iteration4 :\n",
        "\n",
        "slice4 = 3\n",
        "\n",
        "approx4 = [simple_regret_approx_1[slice4],\n",
        "       simple_regret_approx_2[slice4],\n",
        "       simple_regret_approx_3[slice4],\n",
        "       simple_regret_approx_4[slice4],\n",
        "       simple_regret_approx_5[slice4],\n",
        "       simple_regret_approx_6[slice4],\n",
        "       simple_regret_approx_7[slice4],\n",
        "       simple_regret_approx_8[slice4],\n",
        "       simple_regret_approx_9[slice4],\n",
        "       simple_regret_approx_10[slice4],\n",
        "       simple_regret_approx_11[slice4],\n",
        "       simple_regret_approx_12[slice4],\n",
        "       simple_regret_approx_13[slice4],\n",
        "       simple_regret_approx_14[slice4],\n",
        "       simple_regret_approx_15[slice4],\n",
        "       simple_regret_approx_16[slice4],\n",
        "       simple_regret_approx_17[slice4],\n",
        "       simple_regret_approx_18[slice4],\n",
        "       simple_regret_approx_19[slice4],\n",
        "       simple_regret_approx_20[slice4]]\n",
        "\n",
        "exact4 = [simple_regret_exact_1[slice4],\n",
        "       simple_regret_exact_2[slice4],\n",
        "       simple_regret_exact_3[slice4],\n",
        "       simple_regret_exact_4[slice4],\n",
        "       simple_regret_exact_5[slice4],\n",
        "       simple_regret_exact_6[slice4],\n",
        "       simple_regret_exact_7[slice4],\n",
        "       simple_regret_exact_8[slice4],\n",
        "       simple_regret_exact_9[slice4],\n",
        "       simple_regret_exact_10[slice4],\n",
        "       simple_regret_exact_11[slice4],\n",
        "       simple_regret_exact_12[slice4],\n",
        "       simple_regret_exact_13[slice4],\n",
        "       simple_regret_exact_14[slice4],\n",
        "       simple_regret_exact_15[slice4],\n",
        "       simple_regret_exact_16[slice4],\n",
        "       simple_regret_exact_17[slice4],\n",
        "       simple_regret_exact_18[slice4],\n",
        "       simple_regret_exact_19[slice4],\n",
        "       simple_regret_exact_20[slice4]]\n",
        "\n",
        "approx4_results = pd.DataFrame(approx4).sort_values(by=[0], ascending=False)\n",
        "exact4_results = pd.DataFrame(exact4).sort_values(by=[0], ascending=False)\n",
        "\n",
        "### Best simple regret minimization IQR - approx:\n",
        "lower_approx4 = np.asarray(approx4_results[4:5][0])[0]\n",
        "median_approx4 = np.asarray(approx4_results[9:10][0])[0]\n",
        "upper_approx4 = np.asarray(approx4_results[14:15][0])[0]\n",
        "\n",
        "lower_exact4 = np.asarray(exact4_results[4:5][0])[0]\n",
        "median_exact4 = np.asarray(exact4_results[9:10][0])[0]\n",
        "upper_exact4 = np.asarray(exact4_results[14:15][0])[0]"
      ],
      "execution_count": 82,
      "outputs": []
    },
    {
      "cell_type": "code",
      "metadata": {
        "id": "ijq-rioYQxf5"
      },
      "source": [
        "# Iteration14 :\n",
        "\n",
        "slice14 = 13\n",
        "\n",
        "approx14 = [simple_regret_approx_1[slice14],\n",
        "       simple_regret_approx_2[slice14],\n",
        "       simple_regret_approx_3[slice14],\n",
        "       simple_regret_approx_4[slice14],\n",
        "       simple_regret_approx_5[slice14],\n",
        "       simple_regret_approx_6[slice14],\n",
        "       simple_regret_approx_7[slice14],\n",
        "       simple_regret_approx_8[slice14],\n",
        "       simple_regret_approx_9[slice14],\n",
        "       simple_regret_approx_10[slice14],\n",
        "       simple_regret_approx_11[slice14],\n",
        "       simple_regret_approx_12[slice14],\n",
        "       simple_regret_approx_13[slice14],\n",
        "       simple_regret_approx_14[slice14],\n",
        "       simple_regret_approx_15[slice14],\n",
        "       simple_regret_approx_16[slice14],\n",
        "       simple_regret_approx_17[slice14],\n",
        "       simple_regret_approx_18[slice14],\n",
        "       simple_regret_approx_19[slice14],\n",
        "       simple_regret_approx_20[slice14]]\n",
        "\n",
        "exact14 = [simple_regret_exact_1[slice14],\n",
        "       simple_regret_exact_2[slice14],\n",
        "       simple_regret_exact_3[slice14],\n",
        "       simple_regret_exact_4[slice14],\n",
        "       simple_regret_exact_5[slice14],\n",
        "       simple_regret_exact_6[slice14],\n",
        "       simple_regret_exact_7[slice14],\n",
        "       simple_regret_exact_8[slice14],\n",
        "       simple_regret_exact_9[slice14],\n",
        "       simple_regret_exact_10[slice14],\n",
        "       simple_regret_exact_11[slice14],\n",
        "       simple_regret_exact_12[slice14],\n",
        "       simple_regret_exact_13[slice14],\n",
        "       simple_regret_exact_14[slice14],\n",
        "       simple_regret_exact_15[slice14],\n",
        "       simple_regret_exact_16[slice14],\n",
        "       simple_regret_exact_17[slice14],\n",
        "       simple_regret_exact_18[slice14],\n",
        "       simple_regret_exact_19[slice14],\n",
        "       simple_regret_exact_20[slice14]]\n",
        "\n",
        "approx14_results = pd.DataFrame(approx14).sort_values(by=[0], ascending=False)\n",
        "exact14_results = pd.DataFrame(exact14).sort_values(by=[0], ascending=False)\n",
        "\n",
        "### Best simple regret minimization IQR - approx:\n",
        "lower_approx14 = np.asarray(approx14_results[4:5][0])[0]\n",
        "median_approx14 = np.asarray(approx14_results[9:10][0])[0]\n",
        "upper_approx14 = np.asarray(approx14_results[14:15][0])[0]\n",
        "\n",
        "lower_exact14 = np.asarray(exact14_results[4:5][0])[0]\n",
        "median_exact14 = np.asarray(exact14_results[9:10][0])[0]\n",
        "upper_exact14 = np.asarray(exact14_results[14:15][0])[0]"
      ],
      "execution_count": 83,
      "outputs": []
    },
    {
      "cell_type": "code",
      "metadata": {
        "id": "XINlZjoTd-ZK"
      },
      "source": [
        "# Iteration5 :\n",
        "\n",
        "slice5 = 4\n",
        "\n",
        "approx5 = [simple_regret_approx_1[slice5],\n",
        "       simple_regret_approx_2[slice5],\n",
        "       simple_regret_approx_3[slice5],\n",
        "       simple_regret_approx_4[slice5],\n",
        "       simple_regret_approx_5[slice5],\n",
        "       simple_regret_approx_6[slice5],\n",
        "       simple_regret_approx_7[slice5],\n",
        "       simple_regret_approx_8[slice5],\n",
        "       simple_regret_approx_9[slice5],\n",
        "       simple_regret_approx_10[slice5],\n",
        "       simple_regret_approx_11[slice5],\n",
        "       simple_regret_approx_12[slice5],\n",
        "       simple_regret_approx_13[slice5],\n",
        "       simple_regret_approx_14[slice5],\n",
        "       simple_regret_approx_15[slice5],\n",
        "       simple_regret_approx_16[slice5],\n",
        "       simple_regret_approx_17[slice5],\n",
        "       simple_regret_approx_18[slice5],\n",
        "       simple_regret_approx_19[slice5],\n",
        "       simple_regret_approx_20[slice5]]\n",
        "\n",
        "exact5 = [simple_regret_exact_1[slice5],\n",
        "       simple_regret_exact_2[slice5],\n",
        "       simple_regret_exact_3[slice5],\n",
        "       simple_regret_exact_4[slice5],\n",
        "       simple_regret_exact_5[slice5],\n",
        "       simple_regret_exact_6[slice5],\n",
        "       simple_regret_exact_7[slice5],\n",
        "       simple_regret_exact_8[slice5],\n",
        "       simple_regret_exact_9[slice5],\n",
        "       simple_regret_exact_10[slice5],\n",
        "       simple_regret_exact_11[slice5],\n",
        "       simple_regret_exact_12[slice5],\n",
        "       simple_regret_exact_13[slice5],\n",
        "       simple_regret_exact_14[slice5],\n",
        "       simple_regret_exact_15[slice5],\n",
        "       simple_regret_exact_16[slice5],\n",
        "       simple_regret_exact_17[slice5],\n",
        "       simple_regret_exact_18[slice5],\n",
        "       simple_regret_exact_19[slice5],\n",
        "       simple_regret_exact_20[slice5]]\n",
        "\n",
        "approx5_results = pd.DataFrame(approx5).sort_values(by=[0], ascending=False)\n",
        "exact5_results = pd.DataFrame(exact5).sort_values(by=[0], ascending=False)\n",
        "\n",
        "### Best simple regret minimization IQR - approx:\n",
        "lower_approx5 = np.asarray(approx5_results[4:5][0])[0]\n",
        "median_approx5 = np.asarray(approx5_results[9:10][0])[0]\n",
        "upper_approx5 = np.asarray(approx5_results[14:15][0])[0]\n",
        "\n",
        "lower_exact5 = np.asarray(exact5_results[4:5][0])[0]\n",
        "median_exact5 = np.asarray(exact5_results[9:10][0])[0]\n",
        "upper_exact5 = np.asarray(exact5_results[14:15][0])[0]"
      ],
      "execution_count": 84,
      "outputs": []
    },
    {
      "cell_type": "code",
      "metadata": {
        "id": "4aZ7C8sOQxf6"
      },
      "source": [
        "# Iteration15 :\n",
        "\n",
        "slice15 = 14\n",
        "\n",
        "approx15 = [simple_regret_approx_1[slice15],\n",
        "       simple_regret_approx_2[slice15],\n",
        "       simple_regret_approx_3[slice15],\n",
        "       simple_regret_approx_4[slice15],\n",
        "       simple_regret_approx_5[slice15],\n",
        "       simple_regret_approx_6[slice15],\n",
        "       simple_regret_approx_7[slice15],\n",
        "       simple_regret_approx_8[slice15],\n",
        "       simple_regret_approx_9[slice15],\n",
        "       simple_regret_approx_10[slice15],\n",
        "       simple_regret_approx_11[slice15],\n",
        "       simple_regret_approx_12[slice15],\n",
        "       simple_regret_approx_13[slice15],\n",
        "       simple_regret_approx_14[slice15],\n",
        "       simple_regret_approx_15[slice15],\n",
        "       simple_regret_approx_16[slice15],\n",
        "       simple_regret_approx_17[slice15],\n",
        "       simple_regret_approx_18[slice15],\n",
        "       simple_regret_approx_19[slice15],\n",
        "       simple_regret_approx_20[slice15]]\n",
        "\n",
        "exact15 = [simple_regret_exact_1[slice15],\n",
        "       simple_regret_exact_2[slice15],\n",
        "       simple_regret_exact_3[slice15],\n",
        "       simple_regret_exact_4[slice15],\n",
        "       simple_regret_exact_5[slice15],\n",
        "       simple_regret_exact_6[slice15],\n",
        "       simple_regret_exact_7[slice15],\n",
        "       simple_regret_exact_8[slice15],\n",
        "       simple_regret_exact_9[slice15],\n",
        "       simple_regret_exact_10[slice15],\n",
        "       simple_regret_exact_11[slice15],\n",
        "       simple_regret_exact_12[slice15],\n",
        "       simple_regret_exact_13[slice15],\n",
        "       simple_regret_exact_14[slice15],\n",
        "       simple_regret_exact_15[slice15],\n",
        "       simple_regret_exact_16[slice15],\n",
        "       simple_regret_exact_17[slice15],\n",
        "       simple_regret_exact_18[slice15],\n",
        "       simple_regret_exact_19[slice15],\n",
        "       simple_regret_exact_20[slice15]]\n",
        "\n",
        "approx15_results = pd.DataFrame(approx15).sort_values(by=[0], ascending=False)\n",
        "exact15_results = pd.DataFrame(exact15).sort_values(by=[0], ascending=False)\n",
        "\n",
        "### Best simple regret minimization IQR - approx:\n",
        "lower_approx15 = np.asarray(approx15_results[4:5][0])[0]\n",
        "median_approx15 = np.asarray(approx15_results[9:10][0])[0]\n",
        "upper_approx15 = np.asarray(approx15_results[14:15][0])[0]\n",
        "\n",
        "lower_exact15 = np.asarray(exact15_results[4:5][0])[0]\n",
        "median_exact15 = np.asarray(exact15_results[9:10][0])[0]\n",
        "upper_exact15 = np.asarray(exact15_results[14:15][0])[0]"
      ],
      "execution_count": 85,
      "outputs": []
    },
    {
      "cell_type": "code",
      "metadata": {
        "id": "KJINKhv1Qxf6"
      },
      "source": [
        "# Iteration6 :\n",
        "\n",
        "slice6 = 5\n",
        "\n",
        "approx6 = [simple_regret_approx_1[slice6],\n",
        "       simple_regret_approx_2[slice6],\n",
        "       simple_regret_approx_3[slice6],\n",
        "       simple_regret_approx_4[slice6],\n",
        "       simple_regret_approx_5[slice6],\n",
        "       simple_regret_approx_6[slice6],\n",
        "       simple_regret_approx_7[slice6],\n",
        "       simple_regret_approx_8[slice6],\n",
        "       simple_regret_approx_9[slice6],\n",
        "       simple_regret_approx_10[slice6],\n",
        "       simple_regret_approx_11[slice6],\n",
        "       simple_regret_approx_12[slice6],\n",
        "       simple_regret_approx_13[slice6],\n",
        "       simple_regret_approx_14[slice6],\n",
        "       simple_regret_approx_15[slice6],\n",
        "       simple_regret_approx_16[slice6],\n",
        "       simple_regret_approx_17[slice6],\n",
        "       simple_regret_approx_18[slice6],\n",
        "       simple_regret_approx_19[slice6],\n",
        "       simple_regret_approx_20[slice6]]\n",
        "\n",
        "exact6 = [simple_regret_exact_1[slice6],\n",
        "       simple_regret_exact_2[slice6],\n",
        "       simple_regret_exact_3[slice6],\n",
        "       simple_regret_exact_4[slice6],\n",
        "       simple_regret_exact_5[slice6],\n",
        "       simple_regret_exact_6[slice6],\n",
        "       simple_regret_exact_7[slice6],\n",
        "       simple_regret_exact_8[slice6],\n",
        "       simple_regret_exact_9[slice6],\n",
        "       simple_regret_exact_10[slice6],\n",
        "       simple_regret_exact_11[slice6],\n",
        "       simple_regret_exact_12[slice6],\n",
        "       simple_regret_exact_13[slice6],\n",
        "       simple_regret_exact_14[slice6],\n",
        "       simple_regret_exact_15[slice6],\n",
        "       simple_regret_exact_16[slice6],\n",
        "       simple_regret_exact_17[slice6],\n",
        "       simple_regret_exact_18[slice6],\n",
        "       simple_regret_exact_19[slice6],\n",
        "       simple_regret_exact_20[slice6]]\n",
        "\n",
        "approx6_results = pd.DataFrame(approx6).sort_values(by=[0], ascending=False)\n",
        "exact6_results = pd.DataFrame(exact6).sort_values(by=[0], ascending=False)\n",
        "\n",
        "### Best simple regret minimization IQR - approx:\n",
        "lower_approx6 = np.asarray(approx6_results[4:5][0])[0]\n",
        "median_approx6 = np.asarray(approx6_results[9:10][0])[0]\n",
        "upper_approx6 = np.asarray(approx6_results[14:15][0])[0]\n",
        "\n",
        "lower_exact6 = np.asarray(exact6_results[4:5][0])[0]\n",
        "median_exact6 = np.asarray(exact6_results[9:10][0])[0]\n",
        "upper_exact6 = np.asarray(exact6_results[14:15][0])[0]"
      ],
      "execution_count": 86,
      "outputs": []
    },
    {
      "cell_type": "code",
      "metadata": {
        "id": "nwC5N1FsQxf7"
      },
      "source": [
        "# Iteration16 :\n",
        "\n",
        "slice16 = 15\n",
        "\n",
        "approx16 = [simple_regret_approx_1[slice16],\n",
        "       simple_regret_approx_2[slice16],\n",
        "       simple_regret_approx_3[slice16],\n",
        "       simple_regret_approx_4[slice16],\n",
        "       simple_regret_approx_5[slice16],\n",
        "       simple_regret_approx_6[slice16],\n",
        "       simple_regret_approx_7[slice16],\n",
        "       simple_regret_approx_8[slice16],\n",
        "       simple_regret_approx_9[slice16],\n",
        "       simple_regret_approx_10[slice16],\n",
        "       simple_regret_approx_11[slice16],\n",
        "       simple_regret_approx_12[slice16],\n",
        "       simple_regret_approx_13[slice16],\n",
        "       simple_regret_approx_14[slice16],\n",
        "       simple_regret_approx_15[slice16],\n",
        "       simple_regret_approx_16[slice16],\n",
        "       simple_regret_approx_17[slice16],\n",
        "       simple_regret_approx_18[slice16],\n",
        "       simple_regret_approx_19[slice16],\n",
        "       simple_regret_approx_20[slice16]]\n",
        "\n",
        "exact16 = [simple_regret_exact_1[slice16],\n",
        "       simple_regret_exact_2[slice16],\n",
        "       simple_regret_exact_3[slice16],\n",
        "       simple_regret_exact_4[slice16],\n",
        "       simple_regret_exact_5[slice16],\n",
        "       simple_regret_exact_6[slice16],\n",
        "       simple_regret_exact_7[slice16],\n",
        "       simple_regret_exact_8[slice16],\n",
        "       simple_regret_exact_9[slice16],\n",
        "       simple_regret_exact_10[slice16],\n",
        "       simple_regret_exact_11[slice16],\n",
        "       simple_regret_exact_12[slice16],\n",
        "       simple_regret_exact_13[slice16],\n",
        "       simple_regret_exact_14[slice16],\n",
        "       simple_regret_exact_15[slice16],\n",
        "       simple_regret_exact_16[slice16],\n",
        "       simple_regret_exact_17[slice16],\n",
        "       simple_regret_exact_18[slice16],\n",
        "       simple_regret_exact_19[slice16],\n",
        "       simple_regret_exact_20[slice16]]\n",
        "\n",
        "approx16_results = pd.DataFrame(approx16).sort_values(by=[0], ascending=False)\n",
        "exact16_results = pd.DataFrame(exact16).sort_values(by=[0], ascending=False)\n",
        "\n",
        "### Best simple regret minimization IQR - approx:\n",
        "lower_approx16 = np.asarray(approx16_results[4:5][0])[0]\n",
        "median_approx16 = np.asarray(approx16_results[9:10][0])[0]\n",
        "upper_approx16 = np.asarray(approx16_results[14:15][0])[0]\n",
        "\n",
        "lower_exact16 = np.asarray(exact16_results[4:5][0])[0]\n",
        "median_exact16 = np.asarray(exact16_results[9:10][0])[0]\n",
        "upper_exact16 = np.asarray(exact16_results[14:15][0])[0]"
      ],
      "execution_count": 87,
      "outputs": []
    },
    {
      "cell_type": "code",
      "metadata": {
        "id": "TrPV0AfnQxf7"
      },
      "source": [
        "# Iteration7 :\n",
        "\n",
        "slice7 = 6\n",
        "\n",
        "approx7 = [simple_regret_approx_1[slice7],\n",
        "       simple_regret_approx_2[slice7],\n",
        "       simple_regret_approx_3[slice7],\n",
        "       simple_regret_approx_4[slice7],\n",
        "       simple_regret_approx_5[slice7],\n",
        "       simple_regret_approx_6[slice7],\n",
        "       simple_regret_approx_7[slice7],\n",
        "       simple_regret_approx_8[slice7],\n",
        "       simple_regret_approx_9[slice7],\n",
        "       simple_regret_approx_10[slice7],\n",
        "       simple_regret_approx_11[slice7],\n",
        "       simple_regret_approx_12[slice7],\n",
        "       simple_regret_approx_13[slice7],\n",
        "       simple_regret_approx_14[slice7],\n",
        "       simple_regret_approx_15[slice7],\n",
        "       simple_regret_approx_16[slice7],\n",
        "       simple_regret_approx_17[slice7],\n",
        "       simple_regret_approx_18[slice7],\n",
        "       simple_regret_approx_19[slice7],\n",
        "       simple_regret_approx_20[slice7]]\n",
        "\n",
        "exact7 = [simple_regret_exact_1[slice7],\n",
        "       simple_regret_exact_2[slice7],\n",
        "       simple_regret_exact_3[slice7],\n",
        "       simple_regret_exact_4[slice7],\n",
        "       simple_regret_exact_5[slice7],\n",
        "       simple_regret_exact_6[slice7],\n",
        "       simple_regret_exact_7[slice7],\n",
        "       simple_regret_exact_8[slice7],\n",
        "       simple_regret_exact_9[slice7],\n",
        "       simple_regret_exact_10[slice7],\n",
        "       simple_regret_exact_11[slice7],\n",
        "       simple_regret_exact_12[slice7],\n",
        "       simple_regret_exact_13[slice7],\n",
        "       simple_regret_exact_14[slice7],\n",
        "       simple_regret_exact_15[slice7],\n",
        "       simple_regret_exact_16[slice7],\n",
        "       simple_regret_exact_17[slice7],\n",
        "       simple_regret_exact_18[slice7],\n",
        "       simple_regret_exact_19[slice7],\n",
        "       simple_regret_exact_20[slice7]]\n",
        "\n",
        "approx7_results = pd.DataFrame(approx7).sort_values(by=[0], ascending=False)\n",
        "exact7_results = pd.DataFrame(exact7).sort_values(by=[0], ascending=False)\n",
        "\n",
        "### Best simple regret minimization IQR - approx:\n",
        "lower_approx7 = np.asarray(approx7_results[4:5][0])[0]\n",
        "median_approx7 = np.asarray(approx7_results[9:10][0])[0]\n",
        "upper_approx7 = np.asarray(approx7_results[14:15][0])[0]\n",
        "\n",
        "lower_exact7 = np.asarray(exact7_results[4:5][0])[0]\n",
        "median_exact7 = np.asarray(exact7_results[9:10][0])[0]\n",
        "upper_exact7 = np.asarray(exact7_results[14:15][0])[0]"
      ],
      "execution_count": 88,
      "outputs": []
    },
    {
      "cell_type": "code",
      "metadata": {
        "id": "Ub_-wpK4Qxf8"
      },
      "source": [
        "# Iteration17 :\n",
        "\n",
        "slice17 = 16\n",
        "\n",
        "approx17 = [simple_regret_approx_1[slice17],\n",
        "       simple_regret_approx_2[slice17],\n",
        "       simple_regret_approx_3[slice17],\n",
        "       simple_regret_approx_4[slice17],\n",
        "       simple_regret_approx_5[slice17],\n",
        "       simple_regret_approx_6[slice17],\n",
        "       simple_regret_approx_7[slice17],\n",
        "       simple_regret_approx_8[slice17],\n",
        "       simple_regret_approx_9[slice17],\n",
        "       simple_regret_approx_10[slice17],\n",
        "       simple_regret_approx_11[slice17],\n",
        "       simple_regret_approx_12[slice17],\n",
        "       simple_regret_approx_13[slice17],\n",
        "       simple_regret_approx_14[slice17],\n",
        "       simple_regret_approx_15[slice17],\n",
        "       simple_regret_approx_16[slice17],\n",
        "       simple_regret_approx_17[slice17],\n",
        "       simple_regret_approx_18[slice17],\n",
        "       simple_regret_approx_19[slice17],\n",
        "       simple_regret_approx_20[slice17]]\n",
        "\n",
        "exact17 = [simple_regret_exact_1[slice17],\n",
        "       simple_regret_exact_2[slice17],\n",
        "       simple_regret_exact_3[slice17],\n",
        "       simple_regret_exact_4[slice17],\n",
        "       simple_regret_exact_5[slice17],\n",
        "       simple_regret_exact_6[slice17],\n",
        "       simple_regret_exact_7[slice17],\n",
        "       simple_regret_exact_8[slice17],\n",
        "       simple_regret_exact_9[slice17],\n",
        "       simple_regret_exact_10[slice17],\n",
        "       simple_regret_exact_11[slice17],\n",
        "       simple_regret_exact_12[slice17],\n",
        "       simple_regret_exact_13[slice17],\n",
        "       simple_regret_exact_14[slice17],\n",
        "       simple_regret_exact_15[slice17],\n",
        "       simple_regret_exact_16[slice17],\n",
        "       simple_regret_exact_17[slice17],\n",
        "       simple_regret_exact_18[slice17],\n",
        "       simple_regret_exact_19[slice17],\n",
        "       simple_regret_exact_20[slice17]]\n",
        "\n",
        "approx17_results = pd.DataFrame(approx17).sort_values(by=[0], ascending=False)\n",
        "exact17_results = pd.DataFrame(exact17).sort_values(by=[0], ascending=False)\n",
        "\n",
        "### Best simple regret minimization IQR - approx:\n",
        "lower_approx17 = np.asarray(approx17_results[4:5][0])[0]\n",
        "median_approx17 = np.asarray(approx17_results[9:10][0])[0]\n",
        "upper_approx17 = np.asarray(approx17_results[14:15][0])[0]\n",
        "\n",
        "lower_exact17 = np.asarray(exact17_results[4:5][0])[0]\n",
        "median_exact17 = np.asarray(exact17_results[9:10][0])[0]\n",
        "upper_exact17 = np.asarray(exact17_results[14:15][0])[0]"
      ],
      "execution_count": 89,
      "outputs": []
    },
    {
      "cell_type": "code",
      "metadata": {
        "id": "-6VLo37PQxf8"
      },
      "source": [
        "# Iteration8 :\n",
        "\n",
        "slice8 = 7\n",
        "\n",
        "approx8 = [simple_regret_approx_1[slice8],\n",
        "       simple_regret_approx_2[slice8],\n",
        "       simple_regret_approx_3[slice8],\n",
        "       simple_regret_approx_4[slice8],\n",
        "       simple_regret_approx_5[slice8],\n",
        "       simple_regret_approx_6[slice8],\n",
        "       simple_regret_approx_7[slice8],\n",
        "       simple_regret_approx_8[slice8],\n",
        "       simple_regret_approx_9[slice8],\n",
        "       simple_regret_approx_10[slice8],\n",
        "       simple_regret_approx_11[slice8],\n",
        "       simple_regret_approx_12[slice8],\n",
        "       simple_regret_approx_13[slice8],\n",
        "       simple_regret_approx_14[slice8],\n",
        "       simple_regret_approx_15[slice8],\n",
        "       simple_regret_approx_16[slice8],\n",
        "       simple_regret_approx_17[slice8],\n",
        "       simple_regret_approx_18[slice8],\n",
        "       simple_regret_approx_19[slice8],\n",
        "       simple_regret_approx_20[slice8]]\n",
        "\n",
        "exact8 = [simple_regret_exact_1[slice8],\n",
        "       simple_regret_exact_2[slice8],\n",
        "       simple_regret_exact_3[slice8],\n",
        "       simple_regret_exact_4[slice8],\n",
        "       simple_regret_exact_5[slice8],\n",
        "       simple_regret_exact_6[slice8],\n",
        "       simple_regret_exact_7[slice8],\n",
        "       simple_regret_exact_8[slice8],\n",
        "       simple_regret_exact_9[slice8],\n",
        "       simple_regret_exact_10[slice8],\n",
        "       simple_regret_exact_11[slice8],\n",
        "       simple_regret_exact_12[slice8],\n",
        "       simple_regret_exact_13[slice8],\n",
        "       simple_regret_exact_14[slice8],\n",
        "       simple_regret_exact_15[slice8],\n",
        "       simple_regret_exact_16[slice8],\n",
        "       simple_regret_exact_17[slice8],\n",
        "       simple_regret_exact_18[slice8],\n",
        "       simple_regret_exact_19[slice8],\n",
        "       simple_regret_exact_20[slice8]]\n",
        "\n",
        "approx8_results = pd.DataFrame(approx8).sort_values(by=[0], ascending=False)\n",
        "exact8_results = pd.DataFrame(exact8).sort_values(by=[0], ascending=False)\n",
        "\n",
        "### Best simple regret minimization IQR - approx:\n",
        "lower_approx8 = np.asarray(approx8_results[4:5][0])[0]\n",
        "median_approx8 = np.asarray(approx8_results[9:10][0])[0]\n",
        "upper_approx8 = np.asarray(approx8_results[14:15][0])[0]\n",
        "\n",
        "lower_exact8 = np.asarray(exact8_results[4:5][0])[0]\n",
        "median_exact8 = np.asarray(exact8_results[9:10][0])[0]\n",
        "upper_exact8 = np.asarray(exact8_results[14:15][0])[0]"
      ],
      "execution_count": 90,
      "outputs": []
    },
    {
      "cell_type": "code",
      "metadata": {
        "id": "2Dp-9CC2Qxf9"
      },
      "source": [
        "# Iteration18 :\n",
        "\n",
        "slice18 = 17\n",
        "\n",
        "approx18 = [simple_regret_approx_1[slice18],\n",
        "       simple_regret_approx_2[slice18],\n",
        "       simple_regret_approx_3[slice18],\n",
        "       simple_regret_approx_4[slice18],\n",
        "       simple_regret_approx_5[slice18],\n",
        "       simple_regret_approx_6[slice18],\n",
        "       simple_regret_approx_7[slice18],\n",
        "       simple_regret_approx_8[slice18],\n",
        "       simple_regret_approx_9[slice18],\n",
        "       simple_regret_approx_10[slice18],\n",
        "       simple_regret_approx_11[slice18],\n",
        "       simple_regret_approx_12[slice18],\n",
        "       simple_regret_approx_13[slice18],\n",
        "       simple_regret_approx_14[slice18],\n",
        "       simple_regret_approx_15[slice18],\n",
        "       simple_regret_approx_16[slice18],\n",
        "       simple_regret_approx_17[slice18],\n",
        "       simple_regret_approx_18[slice18],\n",
        "       simple_regret_approx_19[slice18],\n",
        "       simple_regret_approx_20[slice18]]\n",
        "\n",
        "exact18 = [simple_regret_exact_1[slice18],\n",
        "       simple_regret_exact_2[slice18],\n",
        "       simple_regret_exact_3[slice18],\n",
        "       simple_regret_exact_4[slice18],\n",
        "       simple_regret_exact_5[slice18],\n",
        "       simple_regret_exact_6[slice18],\n",
        "       simple_regret_exact_7[slice18],\n",
        "       simple_regret_exact_8[slice18],\n",
        "       simple_regret_exact_9[slice18],\n",
        "       simple_regret_exact_10[slice18],\n",
        "       simple_regret_exact_11[slice18],\n",
        "       simple_regret_exact_12[slice18],\n",
        "       simple_regret_exact_13[slice18],\n",
        "       simple_regret_exact_14[slice18],\n",
        "       simple_regret_exact_15[slice18],\n",
        "       simple_regret_exact_16[slice18],\n",
        "       simple_regret_exact_17[slice18],\n",
        "       simple_regret_exact_18[slice18],\n",
        "       simple_regret_exact_19[slice18],\n",
        "       simple_regret_exact_20[slice18]]\n",
        "\n",
        "approx18_results = pd.DataFrame(approx18).sort_values(by=[0], ascending=False)\n",
        "exact18_results = pd.DataFrame(exact18).sort_values(by=[0], ascending=False)\n",
        "\n",
        "### Best simple regret minimization IQR - approx:\n",
        "lower_approx18 = np.asarray(approx18_results[4:5][0])[0]\n",
        "median_approx18 = np.asarray(approx18_results[9:10][0])[0]\n",
        "upper_approx18 = np.asarray(approx18_results[14:15][0])[0]\n",
        "\n",
        "lower_exact18 = np.asarray(exact18_results[4:5][0])[0]\n",
        "median_exact18 = np.asarray(exact18_results[9:10][0])[0]\n",
        "upper_exact18 = np.asarray(exact18_results[14:15][0])[0]"
      ],
      "execution_count": 91,
      "outputs": []
    },
    {
      "cell_type": "code",
      "metadata": {
        "id": "SqiaOpB7Qxf9"
      },
      "source": [
        "# Iteration9 :\n",
        "\n",
        "slice9 = 8\n",
        "\n",
        "approx9 = [simple_regret_approx_1[slice9],\n",
        "       simple_regret_approx_2[slice9],\n",
        "       simple_regret_approx_3[slice9],\n",
        "       simple_regret_approx_4[slice9],\n",
        "       simple_regret_approx_5[slice9],\n",
        "       simple_regret_approx_6[slice9],\n",
        "       simple_regret_approx_7[slice9],\n",
        "       simple_regret_approx_8[slice9],\n",
        "       simple_regret_approx_9[slice9],\n",
        "       simple_regret_approx_10[slice9],\n",
        "       simple_regret_approx_11[slice9],\n",
        "       simple_regret_approx_12[slice9],\n",
        "       simple_regret_approx_13[slice9],\n",
        "       simple_regret_approx_14[slice9],\n",
        "       simple_regret_approx_15[slice9],\n",
        "       simple_regret_approx_16[slice9],\n",
        "       simple_regret_approx_17[slice9],\n",
        "       simple_regret_approx_18[slice9],\n",
        "       simple_regret_approx_19[slice9],\n",
        "       simple_regret_approx_20[slice9]]\n",
        "\n",
        "exact9 = [simple_regret_exact_1[slice9],\n",
        "       simple_regret_exact_2[slice9],\n",
        "       simple_regret_exact_3[slice9],\n",
        "       simple_regret_exact_4[slice9],\n",
        "       simple_regret_exact_5[slice9],\n",
        "       simple_regret_exact_6[slice9],\n",
        "       simple_regret_exact_7[slice9],\n",
        "       simple_regret_exact_8[slice9],\n",
        "       simple_regret_exact_9[slice9],\n",
        "       simple_regret_exact_10[slice9],\n",
        "       simple_regret_exact_11[slice9],\n",
        "       simple_regret_exact_12[slice9],\n",
        "       simple_regret_exact_13[slice9],\n",
        "       simple_regret_exact_14[slice9],\n",
        "       simple_regret_exact_15[slice9],\n",
        "       simple_regret_exact_16[slice9],\n",
        "       simple_regret_exact_17[slice9],\n",
        "       simple_regret_exact_18[slice9],\n",
        "       simple_regret_exact_19[slice9],\n",
        "       simple_regret_exact_20[slice9]]\n",
        "\n",
        "approx9_results = pd.DataFrame(approx9).sort_values(by=[0], ascending=False)\n",
        "exact9_results = pd.DataFrame(exact9).sort_values(by=[0], ascending=False)\n",
        "\n",
        "### Best simple regret minimization IQR - approx:\n",
        "lower_approx9 = np.asarray(approx9_results[4:5][0])[0]\n",
        "median_approx9 = np.asarray(approx9_results[9:10][0])[0]\n",
        "upper_approx9 = np.asarray(approx9_results[14:15][0])[0]\n",
        "\n",
        "lower_exact9 = np.asarray(exact9_results[4:5][0])[0]\n",
        "median_exact9 = np.asarray(exact9_results[9:10][0])[0]\n",
        "upper_exact9 = np.asarray(exact9_results[14:15][0])[0]"
      ],
      "execution_count": 92,
      "outputs": []
    },
    {
      "cell_type": "code",
      "metadata": {
        "id": "OQkCCOsPQxf9"
      },
      "source": [
        "# Iteration19 :\n",
        "\n",
        "slice19 = 18\n",
        "\n",
        "approx19 = [simple_regret_approx_1[slice19],\n",
        "       simple_regret_approx_2[slice19],\n",
        "       simple_regret_approx_3[slice19],\n",
        "       simple_regret_approx_4[slice19],\n",
        "       simple_regret_approx_5[slice19],\n",
        "       simple_regret_approx_6[slice19],\n",
        "       simple_regret_approx_7[slice19],\n",
        "       simple_regret_approx_8[slice19],\n",
        "       simple_regret_approx_9[slice19],\n",
        "       simple_regret_approx_10[slice19],\n",
        "       simple_regret_approx_11[slice19],\n",
        "       simple_regret_approx_12[slice19],\n",
        "       simple_regret_approx_13[slice19],\n",
        "       simple_regret_approx_14[slice19],\n",
        "       simple_regret_approx_15[slice19],\n",
        "       simple_regret_approx_16[slice19],\n",
        "       simple_regret_approx_17[slice19],\n",
        "       simple_regret_approx_18[slice19],\n",
        "       simple_regret_approx_19[slice19],\n",
        "       simple_regret_approx_20[slice19]]\n",
        "\n",
        "exact19 = [simple_regret_exact_1[slice19],\n",
        "       simple_regret_exact_2[slice19],\n",
        "       simple_regret_exact_3[slice19],\n",
        "       simple_regret_exact_4[slice19],\n",
        "       simple_regret_exact_5[slice19],\n",
        "       simple_regret_exact_6[slice19],\n",
        "       simple_regret_exact_7[slice19],\n",
        "       simple_regret_exact_8[slice19],\n",
        "       simple_regret_exact_9[slice19],\n",
        "       simple_regret_exact_10[slice19],\n",
        "       simple_regret_exact_11[slice19],\n",
        "       simple_regret_exact_12[slice19],\n",
        "       simple_regret_exact_13[slice19],\n",
        "       simple_regret_exact_14[slice19],\n",
        "       simple_regret_exact_15[slice19],\n",
        "       simple_regret_exact_16[slice19],\n",
        "       simple_regret_exact_17[slice19],\n",
        "       simple_regret_exact_18[slice19],\n",
        "       simple_regret_exact_19[slice19],\n",
        "       simple_regret_exact_20[slice19]]\n",
        "\n",
        "approx19_results = pd.DataFrame(approx19).sort_values(by=[0], ascending=False)\n",
        "exact19_results = pd.DataFrame(exact19).sort_values(by=[0], ascending=False)\n",
        "\n",
        "### Best simple regret minimization IQR - approx:\n",
        "lower_approx19 = np.asarray(approx19_results[4:5][0])[0]\n",
        "median_approx19 = np.asarray(approx19_results[9:10][0])[0]\n",
        "upper_approx19 = np.asarray(approx19_results[14:15][0])[0]\n",
        "\n",
        "lower_exact19 = np.asarray(exact19_results[4:5][0])[0]\n",
        "median_exact19 = np.asarray(exact19_results[9:10][0])[0]\n",
        "upper_exact19 = np.asarray(exact19_results[14:15][0])[0]"
      ],
      "execution_count": 93,
      "outputs": []
    },
    {
      "cell_type": "code",
      "metadata": {
        "id": "h4vtWahcQxf-"
      },
      "source": [
        "# Iteration10 :\n",
        "\n",
        "slice10 = 9\n",
        "\n",
        "approx10 = [simple_regret_approx_1[slice10],\n",
        "       simple_regret_approx_2[slice10],\n",
        "       simple_regret_approx_3[slice10],\n",
        "       simple_regret_approx_4[slice10],\n",
        "       simple_regret_approx_5[slice10],\n",
        "       simple_regret_approx_6[slice10],\n",
        "       simple_regret_approx_7[slice10],\n",
        "       simple_regret_approx_8[slice10],\n",
        "       simple_regret_approx_9[slice10],\n",
        "       simple_regret_approx_10[slice10],\n",
        "       simple_regret_approx_11[slice10],\n",
        "       simple_regret_approx_12[slice10],\n",
        "       simple_regret_approx_13[slice10],\n",
        "       simple_regret_approx_14[slice10],\n",
        "       simple_regret_approx_15[slice10],\n",
        "       simple_regret_approx_16[slice10],\n",
        "       simple_regret_approx_17[slice10],\n",
        "       simple_regret_approx_18[slice10],\n",
        "       simple_regret_approx_19[slice10],\n",
        "       simple_regret_approx_20[slice10]]\n",
        "\n",
        "exact10 = [simple_regret_exact_1[slice10],\n",
        "       simple_regret_exact_2[slice10],\n",
        "       simple_regret_exact_3[slice10],\n",
        "       simple_regret_exact_4[slice10],\n",
        "       simple_regret_exact_5[slice10],\n",
        "       simple_regret_exact_6[slice10],\n",
        "       simple_regret_exact_7[slice10],\n",
        "       simple_regret_exact_8[slice10],\n",
        "       simple_regret_exact_9[slice10],\n",
        "       simple_regret_exact_10[slice10],\n",
        "       simple_regret_exact_11[slice10],\n",
        "       simple_regret_exact_12[slice10],\n",
        "       simple_regret_exact_13[slice10],\n",
        "       simple_regret_exact_14[slice10],\n",
        "       simple_regret_exact_15[slice10],\n",
        "       simple_regret_exact_16[slice10],\n",
        "       simple_regret_exact_17[slice10],\n",
        "       simple_regret_exact_18[slice10],\n",
        "       simple_regret_exact_19[slice10],\n",
        "       simple_regret_exact_20[slice10]]\n",
        "\n",
        "approx10_results = pd.DataFrame(approx10).sort_values(by=[0], ascending=False)\n",
        "exact10_results = pd.DataFrame(exact10).sort_values(by=[0], ascending=False)\n",
        "\n",
        "### Best simple regret minimization IQR - approx:\n",
        "lower_approx10 = np.asarray(approx10_results[4:5][0])[0]\n",
        "median_approx10 = np.asarray(approx10_results[9:10][0])[0]\n",
        "upper_approx10 = np.asarray(approx10_results[14:15][0])[0]\n",
        "\n",
        "lower_exact10 = np.asarray(exact10_results[4:5][0])[0]\n",
        "median_exact10 = np.asarray(exact10_results[9:10][0])[0]\n",
        "upper_exact10 = np.asarray(exact10_results[14:15][0])[0]"
      ],
      "execution_count": 94,
      "outputs": []
    },
    {
      "cell_type": "code",
      "metadata": {
        "id": "Rsf240pWQxf-"
      },
      "source": [
        "# Iteration20 :\n",
        "\n",
        "slice20 = 19\n",
        "\n",
        "approx20 = [simple_regret_approx_1[slice20],\n",
        "       simple_regret_approx_2[slice20],\n",
        "       simple_regret_approx_3[slice20],\n",
        "       simple_regret_approx_4[slice20],\n",
        "       simple_regret_approx_5[slice20],\n",
        "       simple_regret_approx_6[slice20],\n",
        "       simple_regret_approx_7[slice20],\n",
        "       simple_regret_approx_8[slice20],\n",
        "       simple_regret_approx_9[slice20],\n",
        "       simple_regret_approx_10[slice20],\n",
        "       simple_regret_approx_11[slice20],\n",
        "       simple_regret_approx_12[slice20],\n",
        "       simple_regret_approx_13[slice20],\n",
        "       simple_regret_approx_14[slice20],\n",
        "       simple_regret_approx_15[slice20],\n",
        "       simple_regret_approx_16[slice20],\n",
        "       simple_regret_approx_17[slice20],\n",
        "       simple_regret_approx_18[slice20],\n",
        "       simple_regret_approx_19[slice20],\n",
        "       simple_regret_approx_20[slice20]]\n",
        "\n",
        "exact20 = [simple_regret_exact_1[slice20],\n",
        "       simple_regret_exact_2[slice20],\n",
        "       simple_regret_exact_3[slice20],\n",
        "       simple_regret_exact_4[slice20],\n",
        "       simple_regret_exact_5[slice20],\n",
        "       simple_regret_exact_6[slice20],\n",
        "       simple_regret_exact_7[slice20],\n",
        "       simple_regret_exact_8[slice20],\n",
        "       simple_regret_exact_9[slice20],\n",
        "       simple_regret_exact_10[slice20],\n",
        "       simple_regret_exact_11[slice20],\n",
        "       simple_regret_exact_12[slice20],\n",
        "       simple_regret_exact_13[slice20],\n",
        "       simple_regret_exact_14[slice20],\n",
        "       simple_regret_exact_15[slice20],\n",
        "       simple_regret_exact_16[slice20],\n",
        "       simple_regret_exact_17[slice20],\n",
        "       simple_regret_exact_18[slice20],\n",
        "       simple_regret_exact_19[slice20],\n",
        "       simple_regret_exact_20[slice20]]\n",
        "\n",
        "approx20_results = pd.DataFrame(approx20).sort_values(by=[0], ascending=False)\n",
        "exact20_results = pd.DataFrame(exact20).sort_values(by=[0], ascending=False)\n",
        "\n",
        "### Best simple regret minimization IQR - approx:\n",
        "lower_approx20 = np.asarray(approx20_results[4:5][0])[0]\n",
        "median_approx20 = np.asarray(approx20_results[9:10][0])[0]\n",
        "upper_approx20 = np.asarray(approx20_results[14:15][0])[0]\n",
        "\n",
        "lower_exact20 = np.asarray(exact20_results[4:5][0])[0]\n",
        "median_exact20 = np.asarray(exact20_results[9:10][0])[0]\n",
        "upper_exact20 = np.asarray(exact20_results[14:15][0])[0]"
      ],
      "execution_count": 95,
      "outputs": []
    },
    {
      "cell_type": "code",
      "metadata": {
        "id": "gn36RejbQxf_"
      },
      "source": [
        "### Summarize arrays: 'Loser'\n",
        "\n",
        "lower_approx = [lower_approx1,\n",
        "            lower_approx2,\n",
        "            lower_approx3,\n",
        "            lower_approx4,\n",
        "            lower_approx5,\n",
        "            lower_approx6,\n",
        "            lower_approx7,\n",
        "            lower_approx8,\n",
        "            lower_approx9,\n",
        "            lower_approx10,\n",
        "            lower_approx11,\n",
        "            lower_approx12,\n",
        "            lower_approx13,\n",
        "            lower_approx14,\n",
        "            lower_approx15,\n",
        "            lower_approx16,\n",
        "            lower_approx17,\n",
        "            lower_approx18,\n",
        "            lower_approx19,\n",
        "            lower_approx20,\n",
        "            lower_approx21]\n",
        "\n",
        "median_approx = [median_approx1,\n",
        "            median_approx2,\n",
        "            median_approx3,\n",
        "            median_approx4,\n",
        "            median_approx5,\n",
        "            median_approx6,\n",
        "            median_approx7,\n",
        "            median_approx8,\n",
        "            median_approx9,\n",
        "            median_approx10,\n",
        "            median_approx11,\n",
        "            median_approx12,\n",
        "            median_approx13,\n",
        "            median_approx14,\n",
        "            median_approx15,\n",
        "            median_approx16,\n",
        "            median_approx17,\n",
        "            median_approx18,\n",
        "            median_approx19,\n",
        "            median_approx20,\n",
        "            median_approx21]\n",
        "\n",
        "upper_approx = [upper_approx1,\n",
        "            upper_approx2,\n",
        "            upper_approx3,\n",
        "            upper_approx4,\n",
        "            upper_approx5,\n",
        "            upper_approx6,\n",
        "            upper_approx7,\n",
        "            upper_approx8,\n",
        "            upper_approx9,\n",
        "            upper_approx10,\n",
        "            upper_approx11,\n",
        "            upper_approx12,\n",
        "            upper_approx13,\n",
        "            upper_approx14,\n",
        "            upper_approx15,\n",
        "            upper_approx16,\n",
        "            upper_approx17,\n",
        "            upper_approx18,\n",
        "            upper_approx19,\n",
        "            upper_approx20,\n",
        "            upper_approx21]"
      ],
      "execution_count": 96,
      "outputs": []
    },
    {
      "cell_type": "code",
      "metadata": {
        "id": "wxtGTOYfQxf_"
      },
      "source": [
        "### Summarize arrays: 'exact'\n",
        "\n",
        "lower_exact = [lower_exact1,\n",
        "            lower_exact2,\n",
        "            lower_exact3,\n",
        "            lower_exact4,\n",
        "            lower_exact5,\n",
        "            lower_exact6,\n",
        "            lower_exact7,\n",
        "            lower_exact8,\n",
        "            lower_exact9,\n",
        "            lower_exact10,\n",
        "            lower_exact11,\n",
        "            lower_exact12,\n",
        "            lower_exact13,\n",
        "            lower_exact14,\n",
        "            lower_exact15,\n",
        "            lower_exact16,\n",
        "            lower_exact17,\n",
        "            lower_exact18,\n",
        "            lower_exact19,\n",
        "            lower_exact20,\n",
        "            lower_exact21]\n",
        "\n",
        "median_exact = [median_exact1,\n",
        "            median_exact2,\n",
        "            median_exact3,\n",
        "            median_exact4,\n",
        "            median_exact5,\n",
        "            median_exact6,\n",
        "            median_exact7,\n",
        "            median_exact8,\n",
        "            median_exact9,\n",
        "            median_exact10,\n",
        "            median_exact11,\n",
        "            median_exact12,\n",
        "            median_exact13,\n",
        "            median_exact14,\n",
        "            median_exact15,\n",
        "            median_exact16,\n",
        "            median_exact17,\n",
        "            median_exact18,\n",
        "            median_exact19,\n",
        "            median_exact20,\n",
        "            median_exact21]\n",
        "\n",
        "upper_exact = [upper_exact1,\n",
        "            upper_exact2,\n",
        "            upper_exact3,\n",
        "            upper_exact4,\n",
        "            upper_exact5,\n",
        "            upper_exact6,\n",
        "            upper_exact7,\n",
        "            upper_exact8,\n",
        "            upper_exact9,\n",
        "            upper_exact10,\n",
        "            upper_exact11,\n",
        "            upper_exact12,\n",
        "            upper_exact13,\n",
        "            upper_exact14,\n",
        "            upper_exact15,\n",
        "            upper_exact16,\n",
        "            upper_exact17,\n",
        "            upper_exact18,\n",
        "            upper_exact19,\n",
        "            upper_exact20,\n",
        "            upper_exact21]"
      ],
      "execution_count": 97,
      "outputs": []
    },
    {
      "cell_type": "code",
      "metadata": {
        "id": "2MONq-BXQxgA",
        "colab": {
          "base_uri": "https://localhost:8080/",
          "height": 299
        },
        "outputId": "c15563c4-9ce2-4ee0-e001-97efbcee2f59"
      },
      "source": [
        "### Visualise!\n",
        "\n",
        "title = func\n",
        "plt.figure()\n",
        "\n",
        "plt.plot(median_approx, color = 'Purple')\n",
        "plt.plot(median_exact, color = 'Orange')\n",
        "\n",
        "xstar = np.arange(0, iters+1, step=1)\n",
        "plt.fill_between(xstar, lower_approx, upper_approx, facecolor = 'Purple', alpha=0.4, label='GP CBM Optimization: Approx GP CBM gradients')\n",
        "plt.fill_between(xstar, lower_exact, upper_exact, facecolor = 'Orange', alpha=0.4, label='GP CBM Optimization: Exact GP dCBM gradients')\n",
        "\n",
        "plt.title(title, weight = 'bold')\n",
        "plt.xlabel('(Post-initialization) iteration $\\it{k}$', weight = 'bold')\n",
        "plt.ylabel('log(Regret)', weight = 'bold') \n",
        "plt.legend(loc=1) # add plot legend\n",
        "\n",
        "### Make the x-ticks integers, not floats:\n",
        "count = len(xstar)\n",
        "plt.xticks(np.arange(count), np.arange(0, count))\n",
        "plt.show() #visualize!"
      ],
      "execution_count": 98,
      "outputs": [
        {
          "output_type": "display_data",
          "data": {
            "image/png": "[encoded data removed]",
            "text/plain": [
              "<Figure size 432x288 with 1 Axes>"
            ]
          },
          "metadata": {
            "needs_background": "light"
          }
        }
      ]
    },
    {
      "cell_type": "code",
      "metadata": {
        "id": "l5dkR2Id2oiu",
        "colab": {
          "base_uri": "https://localhost:8080/"
        },
        "outputId": "490d0a5a-078e-4d53-eced-7a2703a8231f"
      },
      "source": [
        "time_approx, time_exact\n"
      ],
      "execution_count": 99,
      "outputs": [
        {
          "output_type": "execute_result",
          "data": {
            "text/plain": [
              "(98.31558966636658, 820.6469802856445)"
            ]
          },
          "metadata": {},
          "execution_count": 99
        }
      ]
    },
    {
      "cell_type": "code",
      "metadata": {
        "id": "77BffxK2Fe61"
      },
      "source": [
        ""
      ],
      "execution_count": 99,
      "outputs": []
    }
  ]
}