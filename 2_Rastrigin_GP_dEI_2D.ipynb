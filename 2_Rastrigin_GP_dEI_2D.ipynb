{
  "nbformat": 4,
  "nbformat_minor": 0,
  "metadata": {
    "colab": {
      "name": "2. Rastrigin_GP_dEI_2D.ipynb",
      "provenance": [],
      "collapsed_sections": []
    },
    "kernelspec": {
      "name": "python3",
      "display_name": "Python 3"
    },
    "language_info": {
      "name": "python"
    }
  },
  "cells": [
    {
      "cell_type": "markdown",
      "metadata": {
        "id": "Dqn4dFx7Z2Ir"
      },
      "source": [
        "\n",
        "Rastrigin: 2D\n"
      ]
    },
    {
      "cell_type": "code",
      "metadata": {
        "id": "MJTM_GZZZb5x",
        "colab": {
          "base_uri": "https://localhost:8080/"
        },
        "outputId": "f0e116b9-7c19-467a-ccab-f800f790382f"
      },
      "source": [
        "pip install pyGPGO\n"
      ],
      "execution_count": 1,
      "outputs": [
        {
          "output_type": "stream",
          "name": "stdout",
          "text": [
            "Collecting pyGPGO\n",
            "  Downloading pyGPGO-0.5.1.tar.gz (14 kB)\n",
            "Requirement already satisfied: numpy in /usr/local/lib/python3.7/dist-packages (from pyGPGO) (1.19.5)\n",
            "Requirement already satisfied: mkl in /usr/local/lib/python3.7/dist-packages (from pyGPGO) (2019.0)\n",
            "Requirement already satisfied: scipy in /usr/local/lib/python3.7/dist-packages (from pyGPGO) (1.4.1)\n",
            "Requirement already satisfied: joblib in /usr/local/lib/python3.7/dist-packages (from pyGPGO) (1.1.0)\n",
            "Requirement already satisfied: scikit-learn in /usr/local/lib/python3.7/dist-packages (from pyGPGO) (1.0.2)\n",
            "Requirement already satisfied: Theano-PyMC in /usr/local/lib/python3.7/dist-packages (from pyGPGO) (1.1.2)\n",
            "Requirement already satisfied: pyMC3 in /usr/local/lib/python3.7/dist-packages (from pyGPGO) (3.11.4)\n",
            "Requirement already satisfied: intel-openmp in /usr/local/lib/python3.7/dist-packages (from mkl->pyGPGO) (2022.0.1)\n",
            "Requirement already satisfied: arviz>=0.11.0 in /usr/local/lib/python3.7/dist-packages (from pyMC3->pyGPGO) (0.11.4)\n",
            "Requirement already satisfied: semver>=2.13.0 in /usr/local/lib/python3.7/dist-packages (from pyMC3->pyGPGO) (2.13.0)\n",
            "Requirement already satisfied: typing-extensions>=3.7.4 in /usr/local/lib/python3.7/dist-packages (from pyMC3->pyGPGO) (3.10.0.2)\n",
            "Requirement already satisfied: patsy>=0.5.1 in /usr/local/lib/python3.7/dist-packages (from pyMC3->pyGPGO) (0.5.2)\n",
            "Requirement already satisfied: fastprogress>=0.2.0 in /usr/local/lib/python3.7/dist-packages (from pyMC3->pyGPGO) (1.0.0)\n",
            "Requirement already satisfied: pandas>=0.24.0 in /usr/local/lib/python3.7/dist-packages (from pyMC3->pyGPGO) (1.1.5)\n",
            "Requirement already satisfied: cachetools>=4.2.1 in /usr/local/lib/python3.7/dist-packages (from pyMC3->pyGPGO) (4.2.4)\n",
            "Requirement already satisfied: dill in /usr/local/lib/python3.7/dist-packages (from pyMC3->pyGPGO) (0.3.4)\n",
            "Requirement already satisfied: filelock in /usr/local/lib/python3.7/dist-packages (from Theano-PyMC->pyGPGO) (3.4.2)\n",
            "Requirement already satisfied: packaging in /usr/local/lib/python3.7/dist-packages (from arviz>=0.11.0->pyMC3->pyGPGO) (21.3)\n",
            "Requirement already satisfied: setuptools>=38.4 in /usr/local/lib/python3.7/dist-packages (from arviz>=0.11.0->pyMC3->pyGPGO) (57.4.0)\n",
            "Requirement already satisfied: netcdf4 in /usr/local/lib/python3.7/dist-packages (from arviz>=0.11.0->pyMC3->pyGPGO) (1.5.8)\n",
            "Requirement already satisfied: xarray>=0.16.1 in /usr/local/lib/python3.7/dist-packages (from arviz>=0.11.0->pyMC3->pyGPGO) (0.18.2)\n",
            "Requirement already satisfied: matplotlib>=3.0 in /usr/local/lib/python3.7/dist-packages (from arviz>=0.11.0->pyMC3->pyGPGO) (3.2.2)\n",
            "Requirement already satisfied: python-dateutil>=2.1 in /usr/local/lib/python3.7/dist-packages (from matplotlib>=3.0->arviz>=0.11.0->pyMC3->pyGPGO) (2.8.2)\n",
            "Requirement already satisfied: kiwisolver>=1.0.1 in /usr/local/lib/python3.7/dist-packages (from matplotlib>=3.0->arviz>=0.11.0->pyMC3->pyGPGO) (1.3.2)\n",
            "Requirement already satisfied: cycler>=0.10 in /usr/local/lib/python3.7/dist-packages (from matplotlib>=3.0->arviz>=0.11.0->pyMC3->pyGPGO) (0.11.0)\n",
            "Requirement already satisfied: pyparsing!=2.0.4,!=2.1.2,!=2.1.6,>=2.0.1 in /usr/local/lib/python3.7/dist-packages (from matplotlib>=3.0->arviz>=0.11.0->pyMC3->pyGPGO) (3.0.6)\n",
            "Requirement already satisfied: pytz>=2017.2 in /usr/local/lib/python3.7/dist-packages (from pandas>=0.24.0->pyMC3->pyGPGO) (2018.9)\n",
            "Requirement already satisfied: six in /usr/local/lib/python3.7/dist-packages (from patsy>=0.5.1->pyMC3->pyGPGO) (1.15.0)\n",
            "Requirement already satisfied: cftime in /usr/local/lib/python3.7/dist-packages (from netcdf4->arviz>=0.11.0->pyMC3->pyGPGO) (1.5.1.1)\n",
            "Requirement already satisfied: threadpoolctl>=2.0.0 in /usr/local/lib/python3.7/dist-packages (from scikit-learn->pyGPGO) (3.0.0)\n",
            "Building wheels for collected packages: pyGPGO\n",
            "  Building wheel for pyGPGO (setup.py) ... \u001b[?25l\u001b[?25hdone\n",
            "  Created wheel for pyGPGO: filename=pyGPGO-0.5.1-py3-none-any.whl size=19879 sha256=55e8f6c0f2a33f488a88bc0e7909df0d16bcc182aa1f38a72ef77a0cdb9cba5d\n",
            "  Stored in directory: /root/.cache/pip/wheels/c8/5d/0b/2160114e2f1b87791c51b66cf07f89831dbb6f49167950316f\n",
            "Successfully built pyGPGO\n",
            "Installing collected packages: pyGPGO\n",
            "Successfully installed pyGPGO-0.5.1\n"
          ]
        }
      ]
    },
    {
      "cell_type": "code",
      "metadata": {
        "id": "ZJSSPbwPaEUB"
      },
      "source": [
        "### Import:\n",
        "\n",
        "import numpy as np\n",
        "import scipy as sp\n",
        "import pandas as pd\n",
        "import matplotlib.pyplot as plt\n",
        "import warnings\n",
        "import itertools\n",
        "\n",
        "from pyGPGO.GPGO import GPGO\n",
        "from pyGPGO.surrogates.GaussianProcess import GaussianProcess\n",
        "from pyGPGO.acquisition import Acquisition\n",
        "from pyGPGO.covfunc import squaredExponential\n",
        "\n",
        "from joblib import Parallel, delayed\n",
        "from numpy.linalg import solve, cholesky\n",
        "from scipy.spatial.distance import cdist\n",
        "from scipy.optimize import minimize\n",
        "from scipy.stats import norm\n",
        "import time\n",
        "\n",
        "warnings.filterwarnings(\"ignore\", category=RuntimeWarning)\n"
      ],
      "execution_count": 2,
      "outputs": []
    },
    {
      "cell_type": "code",
      "metadata": {
        "id": "OeYcTUNoaJWa"
      },
      "source": [
        "### Inputs:\n",
        "\n",
        "func = 'Rastrigin'\n",
        "n_test = 500\n",
        "eps = 1e-08\n",
        "\n",
        "util_grad_exact = 'dEI_GP'\n",
        "util_grad_approx = 'ExpectedImprovement'\n",
        "\n",
        "n_init = 5 # random initialisations\n",
        "iters = 20\n",
        "opt = True"
      ],
      "execution_count": 3,
      "outputs": []
    },
    {
      "cell_type": "code",
      "metadata": {
        "id": "xpaEOjdzaPMS"
      },
      "source": [
        "### Objective Function - Rastrigin(x) 2-D:\n",
        "\n",
        "def objfunc(x1_training, x2_training):\n",
        "        return  operator * (10 * dim + x1_training** 2 - 10 * np.cos(2 * np.pi * x1_training)\n",
        "                                    + x2_training** 2 - 10 * np.cos(2 * np.pi * x2_training)\n",
        "                          )\n",
        "        \n",
        "def objfunc_der(x1_training, x2_training):\n",
        "        return  operator * (2 * x1_training + 20 * np.pi * np.sin(2 * np.pi * x1_training)\n",
        "                                    + 2 * x2_training + 20 * np.pi * np.sin(2 * np.pi * x2_training)\n",
        "                          )\n",
        "    \n",
        "# Constraints:\n",
        "lb = -5.12 \n",
        "ub = +5.12\n",
        "    \n",
        "# Input array dimension(s):\n",
        "dim = 2\n",
        "\n",
        "# 2-D inputs' parameter bounds:\n",
        "param = {'x1_training': ('cont', [lb, ub]),\n",
        "             'x2_training': ('cont', [lb, ub])}\n",
        "\n",
        "# True y bounds:\n",
        "operator = -1\n",
        "y_global_orig = 0 # targets global minimum\n",
        "\n",
        "# Test data:\n",
        "x1_test = np.linspace(lb, ub, n_test) \n",
        "x2_test = np.linspace(lb, ub, n_test)\n",
        "  \n",
        "x_test = np.column_stack((x1_test,x2_test))\n"
      ],
      "execution_count": 4,
      "outputs": []
    },
    {
      "cell_type": "code",
      "metadata": {
        "id": "eYpI3Zm4aGxi"
      },
      "source": [
        "n_start_AcqFunc = iters\n"
      ],
      "execution_count": 5,
      "outputs": []
    },
    {
      "cell_type": "code",
      "metadata": {
        "id": "oO_GUmOoaV0T"
      },
      "source": [
        "### Cumulative Regret Calculator:\n",
        "\n",
        "def min_max_array(x):\n",
        "    new_list = []\n",
        "    for i, num in enumerate(x):\n",
        "            new_list.append(np.min(x[0:i+1]))\n",
        "    return new_list\n",
        "  "
      ],
      "execution_count": 6,
      "outputs": []
    },
    {
      "cell_type": "code",
      "metadata": {
        "id": "kuuJx0IMam9S"
      },
      "source": [
        "### Surrogate derivatives: \n",
        "\n",
        "cov_func = squaredExponential()\n",
        "\n",
        "def kronDelta(X, Xstar):                     # Kronecker's Delta method\n",
        "    return cdist(X, Xstar) < np.finfo(np.float32).eps\n",
        "\n",
        "def se(X, Xstar, sigmaf, l, sigman):         # S.E. kernel method\n",
        "    return sigmaf * np.exp(-0.5 * cdist(X, Xstar) ** 2 / l ** 2) + sigman * kronDelta(X, Xstar)\n",
        "\n",
        "def delta(X, Xstar):                         # Distance between training X and test Xstar vectors\n",
        "    return (X - Xstar)\n",
        "   \n",
        "def der_covmat(X, Xstar, sigmaf, l, sigman): # Covariance matrix derivative terms (i.e. exact, first-order)\n",
        "    nx = len(X)\n",
        "    ny = len(Xstar)\n",
        "    return np.round(np.array([(delta(np.atleast_2d(i), np.atleast_2d(j))[0] * se(np.atleast_2d(i), np.atleast_2d(j), sigmaf, l, sigman)[0]).sum() for (i, j) in itertools.product(X, Xstar)]).reshape(nx, ny), 8)\n",
        "\n",
        "class dGaussianProcess(GaussianProcess):    # Via inheritance, also optimises hyperparameters when opt = TRUE\n",
        "    \n",
        "    def AcqGrad(self, Xstar):               # Method returning exact, first-order derivatives of the GP's posterior mean and standard deviation\n",
        "        Xstar = np.atleast_2d(Xstar)\n",
        "        Kstar = self.covfunc.K(self.X, Xstar).T\n",
        "        \n",
        "        dKstar = der_covmat(self.X, Xstar, self.covfunc.sigmaf, self.covfunc.l, self.covfunc.sigman).T\n",
        "        alpha_Kstar = np.dot(np.linalg.inv(self.K + (self.covfunc.sigman**2) * np.eye(len(self.X))), Kstar.T)\n",
        "        \n",
        "        dm = np.dot(dKstar, self.alpha)\n",
        "        ds = -2 * np.dot(dKstar, alpha_Kstar)\n",
        "        \n",
        "        return dm, ds           \n",
        "        "
      ],
      "execution_count": 7,
      "outputs": []
    },
    {
      "cell_type": "code",
      "metadata": {
        "id": "_Dc3YVHVaXz7"
      },
      "source": [
        "class Acquisition_new(Acquisition):    \n",
        "    def __init__(self, mode, eps=eps, **params):\n",
        "        \n",
        "        self.params = params\n",
        "        self.eps = eps\n",
        "\n",
        "        mode_dict = {\n",
        "            'dEI_GP': self.dEI_GP\n",
        "        }\n",
        "\n",
        "        self.f = mode_dict[mode]\n",
        "    \n",
        "    def dEI_GP(self, tau, mean, std, ds, dm):\n",
        "        gamma = (mean - tau - self.eps) / (std + self.eps)\n",
        "        gamma_h = (mean - tau) / (std + self.eps)\n",
        "        dsdx = ds / (2 * (std + self.eps))\n",
        "        dmdx = (dm - gamma * dsdx) / (std + self.eps)\n",
        "        \n",
        "        f = (std + self.eps) * (gamma * norm.cdf(gamma) + norm.pdf(gamma))\n",
        "        df1 = f / (std + self.eps) * dsdx \n",
        "        df2 = (std + self.eps) * norm.cdf(gamma) * dmdx\n",
        "        df = (df1 + df2)[0]\n",
        "        df_arr = []\n",
        "\n",
        "        for j in range(0, dim):\n",
        "          df_arr.append(df)\n",
        "        return f, np.asarray(df_arr).transpose()\n",
        "        \n",
        "    def d_eval(self, tau, mean, std, ds, dm):\n",
        "    \n",
        "        return self.f(tau, mean, std, ds, dm, **self.params)\n",
        "        "
      ],
      "execution_count": 8,
      "outputs": []
    },
    {
      "cell_type": "code",
      "metadata": {
        "id": "PITEQC8YSl7i"
      },
      "source": [
        "## GPGO_multi: Multistart changed to variable 'n_start_AcqFunc'\n",
        "\n",
        "class GPGO_multi(GPGO):\n",
        "    n_start = n_start_AcqFunc\n",
        "\n",
        "    def _optimizeAcq(self, method='L-BFGS-B', n_start=n_start_AcqFunc):\n",
        "        \n",
        "        start_points_dict = [self._sampleParam() for i in range(n_start)]\n",
        "        start_points_arr = np.array([list(s.values())\n",
        "                                     for s in start_points_dict])\n",
        "        x_best = np.empty((n_start, len(self.parameter_key)))\n",
        "        f_best = np.empty((n_start,))\n",
        "        if self.n_jobs == 1:\n",
        "            for index, start_point in enumerate(start_points_arr):\n",
        "                res = minimize(self._acqWrapper, x0=start_point, method=method,\n",
        "                               bounds=self.parameter_range)\n",
        "                x_best[index], f_best[index] = res.x, np.atleast_1d(res.fun)[0]\n",
        "        else:\n",
        "            opt = Parallel(n_jobs=self.n_jobs)(delayed(minimize)(self._acqWrapper,\n",
        "                                                                 x0=start_point,\n",
        "                                                                 method=method,\n",
        "                                                                 bounds=self.parameter_range) for start_point in\n",
        "                                               start_points_arr)\n",
        "            x_best = np.array([res.x for res in opt])\n",
        "            f_best = np.array([np.atleast_1d(res.fun)[0] for res in opt])\n",
        "\n",
        "        self.best = x_best[np.argmin(f_best)]"
      ],
      "execution_count": 9,
      "outputs": []
    },
    {
      "cell_type": "code",
      "metadata": {
        "id": "b_B-w81BJxKN"
      },
      "source": [
        "## dGPGO:\n",
        "\n",
        "grad = 1\n",
        "\n",
        "class dGPGO(GPGO):\n",
        "    n_start = n_start_AcqFunc\n",
        "\n",
        "    def d_optimizeAcq(self, method='L-BFGS-B', n_start=n_start_AcqFunc):\n",
        "        start_points_dict = [self._sampleParam() for i in range(n_start)]\n",
        "        start_points_arr = np.array([list(s.values())\n",
        "                                     for s in start_points_dict])\n",
        "        x_best = np.empty((n_start, len(self.parameter_key)))\n",
        "        f_best = np.empty((n_start,))\n",
        "        opt = Parallel(n_jobs=self.n_jobs)(delayed(minimize)(self.acqfunc,\n",
        "                                                                 x0=start_point,\n",
        "                                                                 method=method,\n",
        "                                                                 jac = True,\n",
        "                                                                 bounds=self.parameter_range) for start_point in\n",
        "                                               start_points_arr)\n",
        "        x_best = np.array([res.x for res in opt])\n",
        "        f_best = np.array([np.atleast_1d(res.fun)[0] for res in opt])\n",
        "\n",
        "        self.x_best = x_best\n",
        "        self.f_best = f_best\n",
        "        self.best = x_best[np.argmin(f_best)]\n",
        "        self.start_points_arr = start_points_arr\n",
        "\n",
        "        return x_best, f_best\n",
        "    \n",
        "    def run(self, max_iter=10, init_evals=3, resume=False):\n",
        "        \n",
        "        if not resume:\n",
        "            self.init_evals = init_evals\n",
        "            self._firstRun(self.init_evals)\n",
        "            self.logger._printInit(self)\n",
        "        for iteration in range(max_iter):\n",
        "            self.d_optimizeAcq()\n",
        "            self.updateGP()\n",
        "            self.logger._printCurrent(self)\n",
        "\n",
        "    def acqfunc(self, xnew, n_start=n_start_AcqFunc):\n",
        "        new_mean, new_var = self.GP.predict(xnew, return_std=True)\n",
        "        new_std = np.sqrt(new_var + eps)\n",
        "        dm, ds = self.GP.AcqGrad(xnew)\n",
        "        f, df = self.A.d_eval(self.tau, new_mean, new_std, ds=ds, dm=dm)\n",
        "\n",
        "        return -f, -df * grad\n"
      ],
      "execution_count": 10,
      "outputs": []
    },
    {
      "cell_type": "code",
      "metadata": {
        "id": "qXIKGuXVGEg2"
      },
      "source": [
        "###Reproducible set-seeds:\n",
        "\n",
        "run_num_1 = 1\n",
        "run_num_2 = 2\n",
        "run_num_3 = 3\n",
        "run_num_4 = 4\n",
        "run_num_5 = 5\n",
        "run_num_6 = 6\n",
        "run_num_7 = 7\n",
        "run_num_8 = 8\n",
        "run_num_9 = 9\n",
        "run_num_10 = 10\n",
        "run_num_11 = 11\n",
        "run_num_12 = 12\n",
        "run_num_13 = 13\n",
        "run_num_14 = 14\n",
        "run_num_15 = 15\n",
        "run_num_16 = 16\n",
        "run_num_17 = 17\n",
        "run_num_18 = 18\n",
        "run_num_19 = 19\n",
        "run_num_20 = 20\n"
      ],
      "execution_count": 11,
      "outputs": []
    },
    {
      "cell_type": "code",
      "metadata": {
        "colab": {
          "base_uri": "https://localhost:8080/"
        },
        "id": "JEhagQmnTVIK",
        "outputId": "069ff554-449e-4db1-b6d7-64dd80571bce"
      },
      "source": [
        "start_approx = time.time()\n",
        "start_approx\n"
      ],
      "execution_count": 12,
      "outputs": [
        {
          "output_type": "execute_result",
          "data": {
            "text/plain": [
              "1643194944.134251"
            ]
          },
          "metadata": {},
          "execution_count": 12
        }
      ]
    },
    {
      "cell_type": "code",
      "metadata": {
        "colab": {
          "base_uri": "https://localhost:8080/"
        },
        "id": "aH0YSTXufD1v",
        "outputId": "ded8d2ee-6bde-47e9-faed-80b341ecf85b"
      },
      "source": [
        "### ESTIMATED GP EI GRADIENTS\n",
        "\n",
        "np.random.seed(run_num_1)\n",
        "surrogate_approx_1 = GaussianProcess(cov_func, optimize=opt)\n",
        "\n",
        "approx_1 = GPGO_multi(surrogate_approx_1, Acquisition(util_grad_approx), objfunc, param)\n",
        "approx_1.run(init_evals=n_init, max_iter=iters)\n"
      ],
      "execution_count": 13,
      "outputs": [
        {
          "output_type": "stream",
          "name": "stdout",
          "text": [
            "Evaluation \t Proposed point \t  Current eval. \t Best eval.\n",
            "init   \t [-0.84969467  2.25612281]. \t  -20.33436270766351 \t -19.908403246996286\n",
            "init   \t [-5.1188288  -2.02411446]. \t  -33.07414982069084 \t -19.908403246996286\n",
            "init   \t [-3.61721968 -4.17445279]. \t  -53.347974723929894 \t -19.908403246996286\n",
            "init   \t [-3.21269544 -1.58145816]. \t  -39.218472310354045 \t -19.908403246996286\n",
            "init   \t [-1.05710106  0.39748336]. \t  -19.908403246996286 \t -19.908403246996286\n",
            "1      \t [ 5.12 -5.12]. \t  -57.849427451571785 \t -19.908403246996286\n",
            "2      \t [4.60729025 5.12      ]. \t  -67.96437441351335 \t -19.908403246996286\n",
            "3      \t [-5.12  5.12]. \t  -57.849427451571785 \t -19.908403246996286\n",
            "4      \t [ 4.14371716 -0.05763721]. \t  -21.629764732147287 \t -19.908403246996286\n",
            "5      \t [ 0.90035873 -3.6886239 ]. \t  -30.074692068191148 \t -19.908403246996286\n",
            "6      \t [0.72649182 5.12      ]. \t  -40.92420170488573 \t -19.908403246996286\n",
            "7      \t [-5.12        1.53252357]. \t  -51.06526994191434 \t -19.908403246996286\n",
            "8      \t [2.30505508 2.21328361]. \t  -31.315988178837966 \t -19.908403246996286\n",
            "9      \t [ 1.42618554 -0.86660258]. \t  -25.040327634463708 \t -19.908403246996286\n",
            "10     \t [-2.14583542  5.12      ]. \t  -37.44181297666616 \t -19.908403246996286\n",
            "11     \t [ 5.12       -2.24292171]. \t  -43.51081591188006 \t -19.908403246996286\n",
            "12     \t [5.12       2.17347507]. \t  -39.023641242530104 \t -19.908403246996286\n",
            "13     \t [-1.04354551 -5.12      ]. \t  -30.385668918256215 \t -19.908403246996286\n",
            "14     \t [-0.84180347 -2.09417785]. \t  \u001b[92m-11.340885911253874\u001b[0m \t -11.340885911253874\n",
            "15     \t [-2.91263568  2.68174951]. \t  -31.30244842986737 \t -11.340885911253874\n",
            "16     \t [ 2.49218129 -5.12      ]. \t  -55.12361668947257 \t -11.340885911253874\n",
            "17     \t [ 2.82508438 -2.40337549]. \t  -37.425691021002834 \t -11.340885911253874\n",
            "18     \t [-5.12 -5.12]. \t  -57.849427451571785 \t -11.340885911253874\n",
            "19     \t [0.72988809 0.96797732]. \t  -12.931758880713739 \t -11.340885911253874\n",
            "20     \t [-2.87360204  0.49072682]. \t  -31.472745984770945 \t -11.340885911253874\n"
          ]
        }
      ]
    },
    {
      "cell_type": "code",
      "metadata": {
        "colab": {
          "base_uri": "https://localhost:8080/"
        },
        "id": "wTxsSZxFGBB5",
        "outputId": "cb826eab-ba12-4758-ace3-78cd9fc0eb06"
      },
      "source": [
        "### ESTIMATED GP EI GRADIENTS\n",
        "\n",
        "np.random.seed(run_num_2)\n",
        "surrogate_approx_2 = GaussianProcess(cov_func, optimize=opt)\n",
        "\n",
        "approx_2 = GPGO_multi(surrogate_approx_2, Acquisition(util_grad_approx), objfunc, param)\n",
        "approx_2.run(init_evals=n_init, max_iter=iters)\n"
      ],
      "execution_count": 14,
      "outputs": [
        {
          "output_type": "stream",
          "name": "stdout",
          "text": [
            "Evaluation \t Proposed point \t  Current eval. \t Best eval.\n",
            "init   \t [-0.6554122  -4.85451539]. \t  -43.490296251903594 \t -18.964539418712707\n",
            "init   \t [ 0.50854377 -0.6622987 ]. \t  -35.91861667536101 \t -18.964539418712707\n",
            "init   \t [-0.81543371 -1.73737143]. \t  -20.479562046739524 \t -18.964539418712707\n",
            "init   \t [-3.02439799  1.2213347 ]. \t  -18.964539418712707 \t -18.964539418712707\n",
            "init   \t [-2.05153614 -2.3876887 ]. \t  -28.041315668371354 \t -18.964539418712707\n",
            "1      \t [2.39005119 4.76796397]. \t  -55.026692786904306 \t -18.964539418712707\n",
            "2      \t [ 5.12 -5.12]. \t  -57.849427451571785 \t -18.964539418712707\n",
            "3      \t [5.12       0.46735291]. \t  -48.933482231873775 \t -18.964539418712707\n",
            "4      \t [-5.12  5.12]. \t  -57.849427451571785 \t -18.964539418712707\n",
            "5      \t [-5.12 -5.12]. \t  -57.849427451571785 \t -18.964539418712707\n",
            "6      \t [-1.34579605  5.12      ]. \t  -46.398012233678955 \t -18.964539418712707\n",
            "7      \t [-5.12       -1.23369189]. \t  -39.42383270950201 \t -18.964539418712707\n",
            "8      \t [ 3.04359674 -2.54342855]. \t  -35.735363148161184 \t -18.964539418712707\n",
            "9      \t [0.16459963 2.29104548]. \t  -22.71440188428126 \t -18.964539418712707\n",
            "10     \t [5.12 5.12]. \t  -57.849427451571785 \t -18.964539418712707\n",
            "11     \t [-5.12        2.08792422]. \t  -34.77169692305702 \t -18.964539418712707\n",
            "12     \t [ 2.09850934 -5.12      ]. \t  -35.183588344310785 \t -18.964539418712707\n",
            "13     \t [2.63638553 1.66307801]. \t  -41.4579102811189 \t -18.964539418712707\n",
            "14     \t [ 5.12       -2.19938039]. \t  -40.63481536077958 \t -18.964539418712707\n",
            "15     \t [-2.70083796  3.16164932]. \t  -35.060121519093556 \t -18.964539418712707\n",
            "16     \t [5.12       2.77112195]. \t  -45.28059143451368 \t -18.964539418712707\n",
            "17     \t [-1.6857597   0.29071023]. \t  -29.384021890649407 \t -18.964539418712707\n",
            "18     \t [-2.8046088 -5.12     ]. \t  -43.42630204761433 \t -18.964539418712707\n",
            "19     \t [ 0.80183842 -2.99121554]. \t  \u001b[92m-16.40572448101496\u001b[0m \t -16.40572448101496\n",
            "20     \t [ 2.75029125 -0.52155545]. \t  -37.72624686228134 \t -16.40572448101496\n"
          ]
        }
      ]
    },
    {
      "cell_type": "code",
      "metadata": {
        "colab": {
          "base_uri": "https://localhost:8080/"
        },
        "id": "-dgzIrUIGCGT",
        "outputId": "fe51ea64-f55f-48a2-83f3-4c93de021b8a"
      },
      "source": [
        "### ESTIMATED GP EI GRADIENTS\n",
        "\n",
        "np.random.seed(run_num_3)\n",
        "surrogate_approx_3 = GaussianProcess(cov_func, optimize=opt)\n",
        "\n",
        "approx_3 = GPGO_multi(surrogate_approx_3, Acquisition(util_grad_approx), objfunc, param)\n",
        "approx_3.run(init_evals=n_init, max_iter=iters)\n"
      ],
      "execution_count": 15,
      "outputs": [
        {
          "output_type": "stream",
          "name": "stdout",
          "text": [
            "Evaluation \t Proposed point \t  Current eval. \t Best eval.\n",
            "init   \t [0.52017052 2.1314337 ]. \t  -27.953858411008774 \t -10.607662635789808\n",
            "init   \t [-2.14113547  0.11087468]. \t  -10.607662635789808 \t -10.607662635789808\n",
            "init   \t [4.02377681 4.05804123]. \t  -33.42749829480097 \t -10.607662635789808\n",
            "init   \t [-3.83400642 -2.99783293]. \t  -28.650953928965198 \t -10.607662635789808\n",
            "init   \t [-4.59297584 -0.6061072 ]. \t  -57.6631355589384 \t -10.607662635789808\n",
            "1      \t [ 5.12       -3.02919353]. \t  -38.2684858188765 \t -10.607662635789808\n",
            "2      \t [-5.12  5.12]. \t  -57.849427451571785 \t -10.607662635789808\n",
            "3      \t [ 0.59616663 -5.12      ]. \t  -47.509510702508635 \t -10.607662635789808\n",
            "4      \t [ 1.61983684 -1.35910895]. \t  -38.098750332165295 \t -10.607662635789808\n",
            "5      \t [-1.23866702  5.12      ]. \t  -39.747539415446774 \t -10.607662635789808\n",
            "6      \t [5.12       0.64656997]. \t  -45.39359572211103 \t -10.607662635789808\n",
            "7      \t [-3.1889983  2.5050581]. \t  -42.70028531734258 \t -10.607662635789808\n",
            "8      \t [-5.12 -5.12]. \t  -57.849427451571785 \t -10.607662635789808\n",
            "9      \t [-1.12783575 -2.43079328]. \t  -29.30618649749876 \t -10.607662635789808\n",
            "10     \t [ 3.52413626 -5.12      ]. \t  -61.229477770443296 \t -10.607662635789808\n",
            "11     \t [1.57507915 5.12      ]. \t  -50.31339441734644 \t -10.607662635789808\n",
            "12     \t [-2.16928652 -5.12      ]. \t  -38.77374512163408 \t -10.607662635789808\n",
            "13     \t [2.69649062 1.41576531]. \t  -41.20636196768778 \t -10.607662635789808\n",
            "14     \t [-0.59574896  0.12059242]. \t  -21.349567903026376 \t -10.607662635789808\n",
            "15     \t [-5.12        2.00560058]. \t  -32.9533382741017 \t -10.607662635789808\n",
            "16     \t [5.12 5.12]. \t  -57.849427451571785 \t -10.607662635789808\n",
            "17     \t [ 2.35178547 -3.11614107]. \t  -33.75596454039691 \t -10.607662635789808\n",
            "18     \t [ 3.89350888 -1.18145297]. \t  -24.536448781634153 \t -10.607662635789808\n",
            "19     \t [-1.09115095  2.8184675 ]. \t  -16.559588542420784 \t -10.607662635789808\n",
            "20     \t [5.12       2.64390765]. \t  -52.09811902078762 \t -10.607662635789808\n"
          ]
        }
      ]
    },
    {
      "cell_type": "code",
      "metadata": {
        "colab": {
          "base_uri": "https://localhost:8080/"
        },
        "id": "hOtG-2sCGCKS",
        "outputId": "3cc7fe39-a99b-417c-cad1-525aeb4da140"
      },
      "source": [
        "### ESTIMATED GP EI GRADIENTS\n",
        "\n",
        "np.random.seed(run_num_4)\n",
        "surrogate_approx_4 = GaussianProcess(cov_func, optimize=opt)\n",
        "\n",
        "approx_4 = GPGO_multi(surrogate_approx_4, Acquisition(util_grad_approx), objfunc, param)\n",
        "approx_4.run(init_evals=n_init, max_iter=iters)\n"
      ],
      "execution_count": 16,
      "outputs": [
        {
          "output_type": "stream",
          "name": "stdout",
          "text": [
            "Evaluation \t Proposed point \t  Current eval. \t Best eval.\n",
            "init   \t [4.78238555 0.48365823]. \t  -51.03163809010808 \t -14.323038259018315\n",
            "init   \t [4.84028785 2.19971578]. \t  -39.78645699016559 \t -14.323038259018315\n",
            "init   \t [ 2.02474316 -2.90724357]. \t  -14.323038259018315 \t -14.323038259018315\n",
            "init   \t [ 4.87705042 -5.05620219]. \t  -52.80627247106233 \t -14.323038259018315\n",
            "init   \t [-2.52946061 -0.66773471]. \t  -41.61497868486559 \t -14.323038259018315\n",
            "1      \t [-5.12  5.12]. \t  -57.849427451571785 \t -14.323038259018315\n",
            "2      \t [0.36091236 5.12      ]. \t  -45.47327609475252 \t -14.323038259018315\n",
            "3      \t [-5.12 -5.12]. \t  -57.849427451571785 \t -14.323038259018315\n",
            "4      \t [-0.95955534 -5.12      ]. \t  -30.166614500114207 \t -14.323038259018315\n",
            "5      \t [0.85386434 1.14516587]. \t  \u001b[92m-9.847124110942802\u001b[0m \t -9.847124110942802\n",
            "6      \t [-5.12        1.50098202]. \t  -51.1774703986821 \t -9.847124110942802\n",
            "7      \t [3.91486776 5.12      ]. \t  -45.64771565223795 \t -9.847124110942802\n",
            "8      \t [-1.97844267  2.82546005]. \t  -17.42341011148992 \t -9.847124110942802\n",
            "9      \t [ 0.31072767 -1.28066479]. \t  -27.375197814710475 \t -9.847124110942802\n",
            "10     \t [-5.12       -1.96192547]. \t  -33.05865647991361 \t -9.847124110942802\n",
            "11     \t [ 5.12       -2.25318842]. \t  -44.20189292137937 \t -9.847124110942802\n",
            "12     \t [ 1.82467093 -5.12      ]. \t  -37.732665084651295 \t -9.847124110942802\n",
            "13     \t [2.02591183 2.72590683]. \t  -23.17517114159399 \t -9.847124110942802\n",
            "14     \t [-2.35548058  5.12      ]. \t  -50.62590439628029 \t -9.847124110942802\n",
            "15     \t [-2.64731962 -3.36988231]. \t  -51.21774797229092 \t -9.847124110942802\n",
            "16     \t [ 2.44662511 -0.45890036]. \t  -45.30788662966284 \t -9.847124110942802\n",
            "17     \t [-0.59626842  1.36767475]. \t  -37.190059755233754 \t -9.847124110942802\n",
            "18     \t [ 0.07096743 -3.22071275]. \t  -19.526000073108623 \t -9.847124110942802\n",
            "19     \t [-3.38750257  2.82455212]. \t  -42.54261936110113 \t -9.847124110942802\n",
            "20     \t [ 3.05544904 -3.0890079 ]. \t  -21.002009269668136 \t -9.847124110942802\n"
          ]
        }
      ]
    },
    {
      "cell_type": "code",
      "metadata": {
        "colab": {
          "base_uri": "https://localhost:8080/"
        },
        "id": "JF_SxcEvGCOl",
        "outputId": "7a3a08df-ef32-4a5c-b5b0-50b76996c7a6"
      },
      "source": [
        "### ESTIMATED GP EI GRADIENTS\n",
        "\n",
        "np.random.seed(run_num_5)\n",
        "surrogate_approx_5 = GaussianProcess(cov_func, optimize=opt)\n",
        "\n",
        "approx_5 = GPGO_multi(surrogate_approx_5, Acquisition(util_grad_approx), objfunc, param)\n",
        "approx_5.run(init_evals=n_init, max_iter=iters)\n"
      ],
      "execution_count": 17,
      "outputs": [
        {
          "output_type": "stream",
          "name": "stdout",
          "text": [
            "Evaluation \t Proposed point \t  Current eval. \t Best eval.\n",
            "init   \t [-2.84678993  3.79629882]. \t  -33.93442008827236 \t -7.8108627039749745\n",
            "init   \t [-3.00319585  4.2865757 ]. \t  -39.673876075575784 \t -7.8108627039749745\n",
            "init   \t [-0.11866943  1.14425716]. \t  -7.8108627039749745 \t -7.8108627039749745\n",
            "init   \t [2.72289645 0.1886002 ]. \t  -25.38160395721669 \t -7.8108627039749745\n",
            "init   \t [-2.08076286 -3.19773462]. \t  -22.589982116319675 \t -7.8108627039749745\n",
            "1      \t [ 5.12       -4.99274555]. \t  -53.862608206561674 \t -7.8108627039749745\n",
            "2      \t [5.12 5.12]. \t  -57.849427451571785 \t -7.8108627039749745\n",
            "3      \t [-5.12       -0.04626233]. \t  -29.346346851416854 \t -7.8108627039749745\n",
            "4      \t [1.00367515 5.12      ]. \t  -29.934743525170354 \t -7.8108627039749745\n",
            "5      \t [-5.12 -5.12]. \t  -57.849427451571785 \t -7.8108627039749745\n",
            "6      \t [ 1.11157615 -5.12      ]. \t  -32.518685225979496 \t -7.8108627039749745\n",
            "7      \t [ 5.12       -1.57419961]. \t  -50.33560191391098 \t -7.8108627039749745\n",
            "8      \t [ 0.59847852 -1.87829987]. \t  -24.816030548533845 \t -7.8108627039749745\n",
            "9      \t [5.12       1.88576659]. \t  -34.94795270808708 \t -7.8108627039749745\n",
            "10     \t [-2.19739274  0.0222558 ]. \t  -11.681093950146781 \t -7.8108627039749745\n",
            "11     \t [2.18693326 2.78644664]. \t  -26.417205980334067 \t -7.8108627039749745\n",
            "12     \t [-5.12        2.61669032]. \t  -53.202235576962906 \t -7.8108627039749745\n",
            "13     \t [-5.12       -2.41194528]. \t  -53.250332400378056 \t -7.8108627039749745\n",
            "14     \t [ 2.80923074 -3.10581819]. \t  -26.03168398268979 \t -7.8108627039749745\n",
            "15     \t [-1.68166641 -5.12      ]. \t  -45.91553808123648 \t -7.8108627039749745\n",
            "16     \t [-0.5545396   2.77909624]. \t  -35.63145300768795 \t -7.8108627039749745\n",
            "17     \t [-0.03924008  0.21461696]. \t  -8.145091137210452 \t -7.8108627039749745\n",
            "18     \t [-2.75160629  1.29706852]. \t  -32.06728011045973 \t -7.8108627039749745\n",
            "19     \t [-5.12  5.12]. \t  -57.849427451571785 \t -7.8108627039749745\n",
            "20     \t [-1.96600808 -1.21101329]. \t  -13.133769687536848 \t -7.8108627039749745\n"
          ]
        }
      ]
    },
    {
      "cell_type": "code",
      "metadata": {
        "colab": {
          "base_uri": "https://localhost:8080/"
        },
        "id": "-kDxZtJsGCR3",
        "outputId": "5b06ff3e-1b6b-4bb1-9ff3-f1efa21e9512"
      },
      "source": [
        "### ESTIMATED GP EI GRADIENTS\n",
        "\n",
        "np.random.seed(run_num_6)\n",
        "surrogate_approx_6 = GaussianProcess(cov_func, optimize=opt)\n",
        "\n",
        "approx_6 = GPGO_multi(surrogate_approx_6, Acquisition(util_grad_approx), objfunc, param)\n",
        "approx_6.run(init_evals=n_init, max_iter=iters)\n"
      ],
      "execution_count": 18,
      "outputs": [
        {
          "output_type": "stream",
          "name": "stdout",
          "text": [
            "Evaluation \t Proposed point \t  Current eval. \t Best eval.\n",
            "init   \t [ 4.02288795 -1.72052679]. \t  -31.08835710146886 \t -17.28954482757088\n",
            "init   \t [ 3.28938622 -4.69302655]. \t  -58.797867722203385 \t -17.28954482757088\n",
            "init   \t [-4.0175956   0.97333314]. \t  -17.28954482757088 \t -17.28954482757088\n",
            "init   \t [ 0.30532979 -0.83141193]. \t  -19.296253155889353 \t -17.28954482757088\n",
            "init   \t [-1.68542362  1.25459899]. \t  -28.650630936276173 \t -17.28954482757088\n",
            "1      \t [5.12 5.12]. \t  -57.849427451571785 \t -17.28954482757088\n",
            "2      \t [-4.80259369 -4.71437143]. \t  -64.26541942375307 \t -17.28954482757088\n",
            "3      \t [-5.12  5.12]. \t  -57.849427451571785 \t -17.28954482757088\n",
            "4      \t [0.39539615 5.12      ]. \t  -46.99783315509704 \t -17.28954482757088\n",
            "5      \t [-0.74584845 -5.12      ]. \t  -39.74182375230182 \t -17.28954482757088\n",
            "6      \t [2.84228081 1.91251411]. \t  -17.730693416167824 \t -17.28954482757088\n",
            "7      \t [-2.70112082 -2.00627662]. \t  -24.352092244711436 \t -17.28954482757088\n",
            "8      \t [5.12       1.12270908]. \t  -33.013074635847886 \t -17.28954482757088\n",
            "9      \t [-2.34756379  4.03987877]. \t  -37.897284478213514 \t -17.28954482757088\n",
            "10     \t [-5.12       -1.34881917]. \t  -46.56169392404181 \t -17.28954482757088\n",
            "11     \t [ 0.99476749 -2.96447695]. \t  \u001b[92m-10.031144026156012\u001b[0m \t -10.031144026156012\n",
            "12     \t [0.64471884 2.21141923]. \t  -29.048627312701846 \t -10.031144026156012\n",
            "13     \t [-5.12        2.42457222]. \t  -53.70109493355173 \t -10.031144026156012\n",
            "14     \t [2.7468415  4.13803276]. \t  -38.39790444396903 \t -10.031144026156012\n",
            "15     \t [ 2.2848095  -0.11266228]. \t  -19.80536342855414 \t -10.031144026156012\n",
            "16     \t [-0.70791628 -2.66470075]. \t  -35.32185756146288 \t -10.031144026156012\n",
            "17     \t [ 5.12 -5.12]. \t  -57.849427451571785 \t -10.031144026156012\n",
            "18     \t [ 1.85406905 -2.52635212]. \t  -33.600516917176016 \t -10.031144026156012\n",
            "19     \t [ 1.18885188 -5.12      ]. \t  -36.58986053432041 \t -10.031144026156012\n",
            "20     \t [-2.59382747 -4.27182718]. \t  -54.65558614614821 \t -10.031144026156012\n"
          ]
        }
      ]
    },
    {
      "cell_type": "code",
      "metadata": {
        "colab": {
          "base_uri": "https://localhost:8080/"
        },
        "id": "fKB8MCD_GCVI",
        "outputId": "8123c8f4-6de9-4a31-aefd-4cd6a1e8e4e1"
      },
      "source": [
        "### ESTIMATED GP EI GRADIENTS\n",
        "\n",
        "np.random.seed(run_num_7)\n",
        "surrogate_approx_7 = GaussianProcess(cov_func, optimize=opt)\n",
        "\n",
        "approx_7 = GPGO_multi(surrogate_approx_7, Acquisition(util_grad_approx), objfunc, param)\n",
        "approx_7.run(init_evals=n_init, max_iter=iters)\n"
      ],
      "execution_count": 19,
      "outputs": [
        {
          "output_type": "stream",
          "name": "stdout",
          "text": [
            "Evaluation \t Proposed point \t  Current eval. \t Best eval.\n",
            "init   \t [-4.33860312  2.86636843]. \t  -45.646133072936244 \t -22.52235437888213\n",
            "init   \t [-0.63068947  2.28828342]. \t  -34.83012662845338 \t -22.52235437888213\n",
            "init   \t [4.8946126  0.39419771]. \t  -44.09657005662876 \t -22.52235437888213\n",
            "init   \t [ 0.01147355 -4.38219639]. \t  -36.613209822404315 \t -22.52235437888213\n",
            "init   \t [-2.37118484e+00 -1.20319155e-03]. \t  -22.52235437888213 \t -22.52235437888213\n",
            "1      \t [-5.12 -5.12]. \t  -57.849427451571785 \t -22.52235437888213\n",
            "2      \t [ 5.12 -5.12]. \t  -57.849427451571785 \t -22.52235437888213\n",
            "3      \t [3.59516685 5.12      ]. \t  -60.11484703855625 \t -22.52235437888213\n",
            "4      \t [-4.02558214 -1.33646422]. \t  -33.289738493146906 \t -22.52235437888213\n",
            "5      \t [ 1.40596179 -0.96125107]. \t  \u001b[92m-21.500272906013507\u001b[0m \t -21.500272906013507\n",
            "6      \t [-1.8076618  5.12     ]. \t  -38.648098596313474 \t -21.500272906013507\n",
            "7      \t [2.33773343 2.1320042 ]. \t  -28.49479189249321 \t -21.500272906013507\n",
            "8      \t [ 3.5787344  -2.53947215]. \t  -57.751383289842835 \t -21.500272906013507\n",
            "9      \t [-2.52321081 -3.63366159]. \t  -56.139898707345374 \t -21.500272906013507\n",
            "10     \t [-5.12  5.12]. \t  -57.849427451571785 \t -21.500272906013507\n",
            "11     \t [0.80793143 5.12      ]. \t  -36.01737408409003 \t -21.500272906013507\n",
            "12     \t [5.12       2.99308095]. \t  -37.892695602801155 \t -21.500272906013507\n",
            "13     \t [ 2.32121631 -5.12      ]. \t  -48.6395764161703 \t -21.500272906013507\n",
            "14     \t [-0.64232333 -1.52937939]. \t  -38.84277108244453 \t -21.500272906013507\n",
            "15     \t [-5.12        0.58519317]. \t  -47.86840029500168 \t -21.500272906013507\n",
            "16     \t [0.75290089 0.65110027]. \t  -26.63031665430632 \t -21.500272906013507\n",
            "17     \t [-5.12       -2.73896183]. \t  -47.119618493672334 \t -21.500272906013507\n",
            "18     \t [-2.50637098  1.82867183]. \t  -34.87368461951966 \t -21.500272906013507\n",
            "19     \t [ 2.81558185 -0.03615321]. \t  \u001b[92m-14.180698755923421\u001b[0m \t -14.180698755923421\n",
            "20     \t [ 1.24721159 -2.72567422]. \t  -30.33213457387083 \t -14.180698755923421\n"
          ]
        }
      ]
    },
    {
      "cell_type": "code",
      "metadata": {
        "colab": {
          "base_uri": "https://localhost:8080/"
        },
        "id": "4unvifF-GCXp",
        "outputId": "8365e77b-25dd-4666-e6a0-d595762682d9"
      },
      "source": [
        "### ESTIMATED GP EI GRADIENTS\n",
        "\n",
        "np.random.seed(run_num_8)\n",
        "surrogate_approx_8 = GaussianProcess(cov_func, optimize=opt)\n",
        "\n",
        "approx_8 = GPGO_multi(surrogate_approx_8, Acquisition(util_grad_approx), objfunc, param)\n",
        "approx_8.run(init_evals=n_init, max_iter=iters)\n"
      ],
      "execution_count": 20,
      "outputs": [
        {
          "output_type": "stream",
          "name": "stdout",
          "text": [
            "Evaluation \t Proposed point \t  Current eval. \t Best eval.\n",
            "init   \t [3.82391708 4.79785639]. \t  -50.20079446939181 \t -13.871821018360485\n",
            "init   \t [3.78055209 0.31596228]. \t  -36.5114251593508 \t -13.871821018360485\n",
            "init   \t [-2.73686192 -5.00327624]. \t  -43.34985765011677 \t -13.871821018360485\n",
            "init   \t [-0.7119993  -0.99992207]. \t  -13.871821018360485 \t -13.871821018360485\n",
            "init   \t [ 0.23218863 -0.22126801]. \t  -17.190590355445654 \t -13.871821018360485\n",
            "1      \t [-5.12  5.12]. \t  -57.849427451571785 \t -13.871821018360485\n",
            "2      \t [ 5.12 -5.12]. \t  -57.849427451571785 \t -13.871821018360485\n",
            "3      \t [-5.12       -0.06370944]. \t  -29.71932436183332 \t -13.871821018360485\n",
            "4      \t [-0.6693486   4.17608372]. \t  -38.26193538129055 \t -13.871821018360485\n",
            "5      \t [ 1.1839728  -4.40957272]. \t  -45.24435841610979 \t -13.871821018360485\n",
            "6      \t [-2.62671562  1.70437395]. \t  -39.62662423994514 \t -13.871821018360485\n",
            "7      \t [1.62766958 2.34330025]. \t  -40.62402080332722 \t -13.871821018360485\n",
            "8      \t [-5.12       -3.13066247]. \t  -41.910692363213904 \t -13.871821018360485\n",
            "9      \t [ 5.12       -2.11119332]. \t  -35.72472762268012 \t -13.871821018360485\n",
            "10     \t [-2.59355716 -1.83825027]. \t  -33.162002950931424 \t -13.871821018360485\n",
            "11     \t [5.12       2.44906865]. \t  -54.41497019911163 \t -13.871821018360485\n",
            "12     \t [ 2.13261556 -1.86114344]. \t  -14.857719222248189 \t -13.871821018360485\n",
            "13     \t [-5.12        2.43343285]. \t  -53.98430515846233 \t -13.871821018360485\n",
            "14     \t [1.3846139 5.12     ]. \t  -48.3269152228856 \t -13.871821018360485\n",
            "15     \t [-2.63528095  5.12      ]. \t  -52.46928649953519 \t -13.871821018360485\n",
            "16     \t [-0.67834817 -3.04212852]. \t  -24.414467017563688 \t -13.871821018360485\n",
            "17     \t [-5.12 -5.12]. \t  -57.849427451571785 \t -13.871821018360485\n",
            "18     \t [ 3.23550585 -3.37200591]. \t  -47.86628668976161 \t -13.871821018360485\n",
            "19     \t [-0.47337692  1.433852  ]. \t  -41.28909509212683 \t -13.871821018360485\n",
            "20     \t [ 1.66323482 -0.59506786]. \t  -36.574427669969474 \t -13.871821018360485\n"
          ]
        }
      ]
    },
    {
      "cell_type": "code",
      "metadata": {
        "colab": {
          "base_uri": "https://localhost:8080/"
        },
        "id": "85OIXcg7GCaJ",
        "outputId": "0cbfadda-7d0a-4964-cfab-290736b27851"
      },
      "source": [
        "### ESTIMATED GP EI GRADIENTS\n",
        "\n",
        "np.random.seed(run_num_9)\n",
        "surrogate_approx_9 = GaussianProcess(cov_func, optimize=opt)\n",
        "\n",
        "approx_9 = GPGO_multi(surrogate_approx_9, Acquisition(util_grad_approx), objfunc, param)\n",
        "approx_9.run(init_evals=n_init, max_iter=iters)\n"
      ],
      "execution_count": 21,
      "outputs": [
        {
          "output_type": "stream",
          "name": "stdout",
          "text": [
            "Evaluation \t Proposed point \t  Current eval. \t Best eval.\n",
            "init   \t [-5.01376866  0.01919582]. \t  -25.248289026162446 \t -24.454800313488693\n",
            "init   \t [-0.04328148 -3.74958562]. \t  -24.454800313488693 \t -24.454800313488693\n",
            "init   \t [-3.66478248 -2.88195916]. \t  -39.46509426509438 \t -24.454800313488693\n",
            "init   \t [-0.83447623 -2.57944404]. \t  -31.06766397812992 \t -24.454800313488693\n",
            "init   \t [-4.25922917 -1.58209393]. \t  -49.922543556206975 \t -24.454800313488693\n",
            "1      \t [3.51080105 5.12      ]. \t  -61.22741827329939 \t -24.454800313488693\n",
            "2      \t [ 5.12       -0.52804179]. \t  -49.0487252552488 \t -24.454800313488693\n",
            "3      \t [-2.51423935  5.12      ]. \t  -55.20611688756101 \t -24.454800313488693\n",
            "4      \t [ 4.68043244 -5.12      ]. \t  -65.06435350687961 \t -24.454800313488693\n",
            "5      \t [0.5807709  1.56267518]. \t  -40.753455336227596 \t -24.454800313488693\n",
            "6      \t [-5.12        3.13090674]. \t  -41.923461337217695 \t -24.454800313488693\n",
            "7      \t [ 2.23241902 -1.75390005]. \t  -26.712436681579966 \t -24.454800313488693\n",
            "8      \t [-5.12 -5.12]. \t  -57.849427451571785 \t -24.454800313488693\n",
            "9      \t [5.12       2.51299312]. \t  -55.20654268775997 \t -24.454800313488693\n",
            "10     \t [-2.38810358  1.37262228]. \t  -42.18040857721862 \t -24.454800313488693\n",
            "11     \t [0.47877168 5.12      ]. \t  -49.06511474692884 \t -24.454800313488693\n",
            "12     \t [ 1.76617643 -5.12      ]. \t  -41.02944715951336 \t -24.454800313488693\n",
            "13     \t [-2.03802982 -5.12      ]. \t  -33.362405216986325 \t -24.454800313488693\n",
            "14     \t [2.87396281 0.93076832]. \t  \u001b[92m-13.032435436133802\u001b[0m \t -13.032435436133802\n",
            "15     \t [-0.58411577 -0.53399818]. \t  -39.03461911210375 \t -13.032435436133802\n",
            "16     \t [-5.12  5.12]. \t  -57.849427451571785 \t -13.032435436133802\n",
            "17     \t [ 5.12       -2.77934935]. \t  -44.81585641120112 \t -13.032435436133802\n",
            "18     \t [2.39084397 2.88102464]. \t  -34.421657193092 \t -13.032435436133802\n",
            "19     \t [-1.02504743  3.20247552]. \t  -18.4882813954501 \t -13.032435436133802\n",
            "20     \t [2.55145396 0.09454464]. \t  -27.713940639220603 \t -13.032435436133802\n"
          ]
        }
      ]
    },
    {
      "cell_type": "code",
      "metadata": {
        "colab": {
          "base_uri": "https://localhost:8080/"
        },
        "id": "QQBR-qJPGCcp",
        "outputId": "f118803f-8fad-413a-ad34-721b1b85f097"
      },
      "source": [
        "### ESTIMATED GP EI GRADIENTS\n",
        "\n",
        "np.random.seed(run_num_10)\n",
        "surrogate_approx_10 = GaussianProcess(cov_func, optimize=opt)\n",
        "\n",
        "approx_10 = GPGO_multi(surrogate_approx_10, Acquisition(util_grad_approx), objfunc, param)\n",
        "approx_10.run(init_evals=n_init, max_iter=iters)\n"
      ],
      "execution_count": 22,
      "outputs": [
        {
          "output_type": "stream",
          "name": "stdout",
          "text": [
            "Evaluation \t Proposed point \t  Current eval. \t Best eval.\n",
            "init   \t [ 2.77832339 -4.90750004]. \t  -41.674330194390116 \t -13.839458310244165\n",
            "init   \t [1.36855793 2.54775176]. \t  -44.69639719065837 \t -13.839458310244165\n",
            "init   \t [-0.01528819 -2.81808235]. \t  -13.839458310244165 \t -13.839458310244165\n",
            "init   \t [-3.09183626  2.66783449]. \t  -33.23221510904937 \t -13.839458310244165\n",
            "init   \t [-3.38830503 -4.2154003 ]. \t  -54.73014366983691 \t -13.839458310244165\n",
            "1      \t [ 5.12       -0.56823977]. \t  -48.34241700204974 \t -13.839458310244165\n",
            "2      \t [5.12 5.12]. \t  -57.849427451571785 \t -13.839458310244165\n",
            "3      \t [-5.12       -0.60617648]. \t  -47.14819207900892 \t -13.839458310244165\n",
            "4      \t [-5.12  5.12]. \t  -57.849427451571785 \t -13.839458310244165\n",
            "5      \t [-0.83794358  5.12      ]. \t  -34.378133736934856 \t -13.839458310244165\n",
            "6      \t [-1.23131016 -0.10568953]. \t  \u001b[92m-12.48075296519026\u001b[0m \t -12.48075296519026\n",
            "7      \t [ 1.89637862 -0.79302465]. \t  -13.600283656026297 \t -12.48075296519026\n",
            "8      \t [-0.38408618 -5.12      ]. \t  -46.53525251781342 \t -12.48075296519026\n",
            "9      \t [4.53001408 2.23268447]. \t  -54.24279222530697 \t -12.48075296519026\n",
            "10     \t [ 5.12       -3.59597024]. \t  -60.0921023812751 \t -12.48075296519026\n",
            "11     \t [2.14083658 5.12      ]. \t  -37.174244330227936 \t -12.48075296519026\n",
            "12     \t [-2.40329362 -1.64489873]. \t  -42.82567669193571 \t -12.48075296519026\n",
            "13     \t [-5.12        2.04203354]. \t  -33.44134818430581 \t -12.48075296519026\n",
            "14     \t [-0.94074361  1.56251014]. \t  -23.25012481758057 \t -12.48075296519026\n",
            "15     \t [ 2.34123356 -2.43952623]. \t  -46.142975623464714 \t -12.48075296519026\n",
            "16     \t [ 0.44839873 -0.31403183]. \t  -33.694248596779374 \t -12.48075296519026\n",
            "17     \t [-5.12       -2.99176994]. \t  -37.888768249844574 \t -12.48075296519026\n",
            "18     \t [2.74015681 0.3361287 ]. \t  -33.390841522554055 \t -12.48075296519026\n",
            "19     \t [-2.80731576  5.12      ]. \t  -43.28181842134443 \t -12.48075296519026\n",
            "20     \t [-2.8552079   0.56164689]. \t  -31.587447892906898 \t -12.48075296519026\n"
          ]
        }
      ]
    },
    {
      "cell_type": "code",
      "metadata": {
        "colab": {
          "base_uri": "https://localhost:8080/"
        },
        "id": "JS8ejeQ2GCfi",
        "outputId": "a22ebcdf-156b-41a1-a408-d9946c8993eb"
      },
      "source": [
        "### ESTIMATED GP EI GRADIENTS\n",
        "\n",
        "np.random.seed(run_num_11)\n",
        "surrogate_approx_11 = GaussianProcess(cov_func, optimize=opt)\n",
        "\n",
        "approx_11 = GPGO_multi(surrogate_approx_11, Acquisition(util_grad_approx), objfunc, param)\n",
        "approx_11.run(init_evals=n_init, max_iter=iters)\n"
      ],
      "execution_count": 23,
      "outputs": [
        {
          "output_type": "stream",
          "name": "stdout",
          "text": [
            "Evaluation \t Proposed point \t  Current eval. \t Best eval.\n",
            "init   \t [-3.27403839 -4.92057353]. \t  -47.655641290890955 \t -10.679755252484755\n",
            "init   \t [-0.37664229  2.30332343]. \t  -35.87889240695259 \t -10.679755252484755\n",
            "init   \t [-0.81711509 -0.14922651]. \t  -10.679755252484755 \t -10.679755252484755\n",
            "init   \t [-4.98912446 -0.12931474]. \t  -28.05462905574235 \t -10.679755252484755\n",
            "init   \t [4.52410012 3.59214172]. \t  -71.62694632141611 \t -10.679755252484755\n",
            "1      \t [ 5.12       -4.19757348]. \t  -53.309530921692996 \t -10.679755252484755\n",
            "2      \t [-5.12  5.12]. \t  -57.849427451571785 \t -10.679755252484755\n",
            "3      \t [ 0.96008568 -5.12      ]. \t  -30.159309280308506 \t -10.679755252484755\n",
            "4      \t [ 3.08642781 -0.51789819]. \t  -31.169680630860363 \t -10.679755252484755\n",
            "5      \t [1.20979303 5.12      ]. \t  -37.88882023389519 \t -10.679755252484755\n",
            "6      \t [-1.93526609  5.12      ]. \t  -33.48579521248611 \t -10.679755252484755\n",
            "7      \t [-0.89795317 -2.64270844]. \t  -26.01851777628977 \t -10.679755252484755\n",
            "8      \t [-3.4830931  2.2718845]. \t  -48.60774113584218 \t -10.679755252484755\n",
            "9      \t [-5.12       -2.81628562]. \t  -42.810695490403965 \t -10.679755252484755\n",
            "10     \t [5.12       0.65030588]. \t  -45.2099047963845 \t -10.679755252484755\n",
            "11     \t [ 2.21431459 -2.88804961]. \t  -23.39413745736904 \t -10.679755252484755\n",
            "12     \t [2.11111561 1.90834641]. \t  -12.051179080101422 \t -10.679755252484755\n",
            "13     \t [-2.69537256 -0.92830393]. \t  -22.48974303848791 \t -10.679755252484755\n",
            "14     \t [ 0.73157306 -0.46690782]. \t  -31.6930311595598 \t -10.679755252484755\n",
            "15     \t [ 5.12       -1.79841161]. \t  -39.16389743961059 \t -10.679755252484755\n",
            "16     \t [ 3.0377581 -5.12     ]. \t  -38.4327874100071 \t -10.679755252484755\n",
            "17     \t [-1.00818311 -5.12      ]. \t  -29.95436202618606 \t -10.679755252484755\n",
            "18     \t [-5.12 -5.12]. \t  -57.849427451571785 \t -10.679755252484755\n",
            "19     \t [1.9506772  2.97128171]. \t  -13.27238488142351 \t -10.679755252484755\n",
            "20     \t [-1.67218971  0.52362764]. \t  -37.65692853476292 \t -10.679755252484755\n"
          ]
        }
      ]
    },
    {
      "cell_type": "code",
      "metadata": {
        "colab": {
          "base_uri": "https://localhost:8080/"
        },
        "id": "DXwjUVZ4GCii",
        "outputId": "61af0c5d-33ca-4c03-f4f3-adccc35d5c85"
      },
      "source": [
        "### ESTIMATED GP EI GRADIENTS\n",
        "\n",
        "np.random.seed(run_num_12)\n",
        "surrogate_approx_12 = GaussianProcess(cov_func, optimize=opt)\n",
        "\n",
        "approx_12 = GPGO_multi(surrogate_approx_12, Acquisition(util_grad_approx), objfunc, param)\n",
        "approx_12.run(init_evals=n_init, max_iter=iters)\n"
      ],
      "execution_count": 24,
      "outputs": [
        {
          "output_type": "stream",
          "name": "stdout",
          "text": [
            "Evaluation \t Proposed point \t  Current eval. \t Best eval.\n",
            "init   \t [-3.54137249  2.45810889]. \t  -57.903242869085595 \t -40.51116653209555\n",
            "init   \t [-2.42365424  0.34549139]. \t  -40.51116653209555 \t -40.51116653209555\n",
            "init   \t [-4.97075238  4.28796936]. \t  -55.62655915398208 \t -40.51116653209555\n",
            "init   \t [ 4.10332011 -4.77776458]. \t  -49.962803461970296 \t -40.51116653209555\n",
            "init   \t [ 4.6791612  -3.71497655]. \t  -62.183891474990624 \t -40.51116653209555\n",
            "1      \t [5.12 5.12]. \t  -57.849427451571785 \t -40.51116653209555\n",
            "2      \t [-5.12 -5.12]. \t  -57.849427451571785 \t -40.51116653209555\n",
            "3      \t [2.51281398 0.8331028 ]. \t  \u001b[92m-31.988450140113365\u001b[0m \t -31.988450140113365\n",
            "4      \t [0.33244338 5.12      ]. \t  -43.9867284854611 \t -31.988450140113365\n",
            "5      \t [-0.48611046 -4.11967232]. \t  -39.86618204734131 \t -31.988450140113365\n",
            "6      \t [-5.12       -1.54444008]. \t  -50.922701448563984 \t -31.988450140113365\n",
            "7      \t [ 5.12       -0.37802596]. \t  -46.27183886138903 \t -31.988450140113365\n",
            "8      \t [ 1.63789325 -1.9806077 ]. \t  \u001b[92m-23.155313103821225\u001b[0m \t -23.155313103821225\n",
            "9      \t [-0.04361954  2.14281161]. \t  \u001b[92m-8.729635514652811\u001b[0m \t -8.729635514652811\n",
            "10     \t [2.7081281  3.49154616]. \t  -52.11139289890896 \t -8.729635514652811\n",
            "11     \t [-2.63726126 -2.72166409]. \t  -42.63948852337322 \t -8.729635514652811\n",
            "12     \t [-2.28790984  5.12      ]. \t  -46.51873078429952 \t -8.729635514652811\n",
            "13     \t [5.12       2.25443559]. \t  -44.28585362617493 \t -8.729635514652811\n",
            "14     \t [ 0.00412404 -0.32450447]. \t  -14.620818643301284 \t -8.729635514652811\n",
            "15     \t [ 1.66639085 -5.12      ]. \t  -46.71657316528392 \t -8.729635514652811\n",
            "16     \t [-2.54759657 -5.12      ]. \t  -54.97110625163593 \t -8.729635514652811\n",
            "17     \t [-0.77229425  2.68269714]. \t  -30.500940772065324 \t -8.729635514652811\n",
            "18     \t [0.51212004 1.33448394]. \t  -37.0766101621909 \t -8.729635514652811\n",
            "19     \t [-5.12        0.84597379]. \t  -33.9690523472406 \t -8.729635514652811\n",
            "20     \t [-0.52046727 -1.59660559]. \t  -40.9511419302154 \t -8.729635514652811\n"
          ]
        }
      ]
    },
    {
      "cell_type": "code",
      "metadata": {
        "colab": {
          "base_uri": "https://localhost:8080/"
        },
        "id": "CphOPndPGClX",
        "outputId": "8ac8901a-e91c-4867-8a5a-d867cf40b1e3"
      },
      "source": [
        "### ESTIMATED GP EI GRADIENTS\n",
        "\n",
        "np.random.seed(run_num_13)\n",
        "surrogate_approx_13 = GaussianProcess(cov_func, optimize=opt)\n",
        "\n",
        "approx_13 = GPGO_multi(surrogate_approx_13, Acquisition(util_grad_approx), objfunc, param)\n",
        "approx_13.run(init_evals=n_init, max_iter=iters)\n"
      ],
      "execution_count": 25,
      "outputs": [
        {
          "output_type": "stream",
          "name": "stdout",
          "text": [
            "Evaluation \t Proposed point \t  Current eval. \t Best eval.\n",
            "init   \t [ 2.84367268 -2.68757791]. \t  -33.58019830007169 \t -17.435826639425656\n",
            "init   \t [3.32061217 4.76927179]. \t  -56.857057997503354 \t -17.435826639425656\n",
            "init   \t [ 4.83943541 -0.47667971]. \t  -48.211919361679726 \t -17.435826639425656\n",
            "init   \t [1.11659482 2.82139151]. \t  -17.435826639425656 \t -17.435826639425656\n",
            "init   \t [1.45012065 2.27346667]. \t  -38.25352329493884 \t -17.435826639425656\n",
            "1      \t [-5.12       -2.72662613]. \t  -47.82255372239195 \t -17.435826639425656\n",
            "2      \t [-5.12  5.12]. \t  -57.849427451571785 \t -17.435826639425656\n",
            "3      \t [-1.07698412 -5.12      ]. \t  -31.231831210231498 \t -17.435826639425656\n",
            "4      \t [-2.85655691  1.12635729]. \t  \u001b[92m-16.212017456930443\u001b[0m \t -16.212017456930443\n",
            "5      \t [-1.15488861  5.12      ]. \t  -34.63186040987706 \t -16.212017456930443\n",
            "6      \t [-0.62086492 -1.40877443]. \t  -38.02426406449363 \t -16.212017456930443\n",
            "7      \t [ 5.12 -5.12]. \t  -57.849427451571785 \t -16.212017456930443\n",
            "8      \t [5.12      2.4627669]. \t  -54.71753483374007 \t -16.212017456930443\n",
            "9      \t [-5.12        1.73785579]. \t  -42.70715954166314 \t -16.212017456930443\n",
            "10     \t [ 1.73842831 -5.12      ]. \t  -42.6732768550337 \t -16.212017456930443\n",
            "11     \t [-3.90820706 -5.12      ]. \t  -45.816414234485016 \t -16.212017456930443\n",
            "12     \t [-1.25795502  2.43118865]. \t  -37.07256727867652 \t -16.212017456930443\n",
            "13     \t [ 1.88140392 -0.24378821]. \t  \u001b[92m-15.859127749535519\u001b[0m \t -15.859127749535519\n",
            "14     \t [-3.23791506 -0.94253236]. \t  -21.258712966478832 \t -15.859127749535519\n",
            "15     \t [0.95611082 5.12      ]. \t  -30.21668670071432 \t -15.859127749535519\n",
            "16     \t [-2.30295248 -3.07765234]. \t  -29.20841877841833 \t -15.859127749535519\n",
            "17     \t [ 5.12       -2.74078369]. \t  -47.01536314864639 \t -15.859127749535519\n",
            "18     \t [-3.20379209  3.62576664]. \t  -47.584680485773156 \t -15.859127749535519\n",
            "19     \t [-5.12       -0.42607099]. \t  -48.04666368071241 \t -15.859127749535519\n",
            "20     \t [ 0.51107727 -3.18006512]. \t  -36.0957124401735 \t -15.859127749535519\n"
          ]
        }
      ]
    },
    {
      "cell_type": "code",
      "metadata": {
        "colab": {
          "base_uri": "https://localhost:8080/"
        },
        "id": "ojHTeARNGCoi",
        "outputId": "a9f8f02d-81b1-45a1-d7e3-8e919d21bc5c"
      },
      "source": [
        "### ESTIMATED GP EI GRADIENTS\n",
        "\n",
        "np.random.seed(run_num_14)\n",
        "surrogate_approx_14 = GaussianProcess(cov_func, optimize=opt)\n",
        "\n",
        "approx_14 = GPGO_multi(surrogate_approx_14, Acquisition(util_grad_approx), objfunc, param)\n",
        "approx_14.run(init_evals=n_init, max_iter=iters)\n"
      ],
      "execution_count": 26,
      "outputs": [
        {
          "output_type": "stream",
          "name": "stdout",
          "text": [
            "Evaluation \t Proposed point \t  Current eval. \t Best eval.\n",
            "init   \t [0.14277984 2.79721013]. \t  -18.683085263052178 \t -10.423838604848608\n",
            "init   \t [ 3.7931795  -5.03759925]. \t  -47.36348784446708 \t -10.423838604848608\n",
            "init   \t [-1.94830412  4.68586229]. \t  -40.19779334078636 \t -10.423838604848608\n",
            "init   \t [ 0.13431513 -1.86076749]. \t  -10.423838604848608 \t -10.423838604848608\n",
            "init   \t [ 0.40140736 -2.85434939]. \t  -30.353548735049138 \t -10.423838604848608\n",
            "1      \t [-5.12 -5.12]. \t  -57.8494274515718 \t -10.423838604848608\n",
            "2      \t [5.12 5.12]. \t  -57.849427451571785 \t -10.423838604848608\n",
            "3      \t [-5.12        0.35574085]. \t  -45.21704998944514 \t -10.423838604848608\n",
            "4      \t [ 5.12       -0.06385858]. \t  -29.72299913174549 \t -10.423838604848608\n",
            "5      \t [-5.12  5.12]. \t  -57.849427451571785 \t -10.423838604848608\n",
            "6      \t [-1.64653793  0.04125609]. \t  -19.099318522197937 \t -10.423838604848608\n",
            "7      \t [-1.68579734 -5.12      ]. \t  -45.69207769532679 \t -10.423838604848608\n",
            "8      \t [1.91874714 0.23698051]. \t  -14.195751310148452 \t -10.423838604848608\n",
            "9      \t [1.75616184 5.12      ]. \t  -41.62175505580028 \t -10.423838604848608\n",
            "10     \t [-3.36999796 -2.32603237]. \t  -48.21029508756512 \t -10.423838604848608\n",
            "11     \t [3.48155923 2.41512463]. \t  -56.49843486240218 \t -10.423838604848608\n",
            "12     \t [ 3.28649307 -2.13816025]. \t  -31.182774669491224 \t -10.423838604848608\n",
            "13     \t [-3.1411376   2.27897847]. \t  -30.55221287405722 \t -10.423838604848608\n",
            "14     \t [ 1.13105741 -5.12      ]. \t  -33.4071163261503 \t -10.423838604848608\n",
            "15     \t [ 5.12       -2.95111747]. \t  -38.10178062134802 \t -10.423838604848608\n",
            "16     \t [ 0.28547866 -0.04898995]. \t  -12.764686583927235 \t -10.423838604848608\n",
            "17     \t [-0.83822434  1.60678675]. \t  -25.852892955300774 \t -10.423838604848608\n",
            "18     \t [-5.12       2.7295522]. \t  -47.6564107853466 \t -10.423838604848608\n",
            "19     \t [-1.08349261 -1.58140038]. \t  -23.739877072183653 \t -10.423838604848608\n",
            "20     \t [-5.12       -2.31607392]. \t  -48.32222713163375 \t -10.423838604848608\n"
          ]
        }
      ]
    },
    {
      "cell_type": "code",
      "metadata": {
        "colab": {
          "base_uri": "https://localhost:8080/"
        },
        "id": "vCJzn4vWGCs3",
        "outputId": "6a1763cf-4a92-47df-e79c-41f1dc433901"
      },
      "source": [
        "### ESTIMATED GP EI GRADIENTS\n",
        "\n",
        "np.random.seed(run_num_15)\n",
        "surrogate_approx_15 = GaussianProcess(cov_func, optimize=opt)\n",
        "\n",
        "approx_15 = GPGO_multi(surrogate_approx_15, Acquisition(util_grad_approx), objfunc, param)\n",
        "approx_15.run(init_evals=n_init, max_iter=iters)\n"
      ],
      "execution_count": 27,
      "outputs": [
        {
          "output_type": "stream",
          "name": "stdout",
          "text": [
            "Evaluation \t Proposed point \t  Current eval. \t Best eval.\n",
            "init   \t [ 3.57189322 -3.28810573]. \t  -54.938487770767075 \t -7.990765314336182\n",
            "init   \t [-4.56332069 -1.41784631]. \t  -60.750198753157726 \t -7.990765314336182\n",
            "init   \t [-2.29989449  0.3072023 ]. \t  -31.984997246800887 \t -7.990765314336182\n",
            "init   \t [-1.9873903  -2.00218256]. \t  -7.990765314336182 \t -7.990765314336182\n",
            "init   \t [-3.97576933 -2.5610341 ]. \t  -41.754957769694336 \t -7.990765314336182\n",
            "1      \t [3.22352526 5.12      ]. \t  -47.66003287916206 \t -7.990765314336182\n",
            "2      \t [-5.12  5.12]. \t  -57.849427451571785 \t -7.990765314336182\n",
            "3      \t [5.12       1.00950195]. \t  -29.961624581567 \t -7.990765314336182\n",
            "4      \t [-0.33203245 -5.12      ]. \t  -43.964006678041905 \t -7.990765314336182\n",
            "5      \t [-0.90983208  4.44647464]. \t  -41.60109884289642 \t -7.990765314336182\n",
            "6      \t [1.41822771 0.64253465]. \t  -37.38382627705951 \t -7.990765314336182\n",
            "7      \t [-5.12        1.86998086]. \t  -35.57694762443737 \t -7.990765314336182\n",
            "8      \t [-5.12 -5.12]. \t  -57.849427451571785 \t -7.990765314336182\n",
            "9      \t [ 0.38226939 -2.14120466]. \t  -25.801702076195554 \t -7.990765314336182\n",
            "10     \t [ 5.12 -5.12]. \t  -57.849427451571785 \t -7.990765314336182\n",
            "11     \t [1.4771372  3.13108697]. \t  -35.08711301076353 \t -7.990765314336182\n",
            "12     \t [ 5.12       -1.31475775]. \t  -44.61080672667816 \t -7.990765314336182\n",
            "13     \t [5.12       3.48112836]. \t  -60.97275171265705 \t -7.990765314336182\n",
            "14     \t [-2.84541651  2.92633458]. \t  -22.06954941469699 \t -7.990765314336182\n",
            "15     \t [-2.63517945 -5.12      ]. \t  -52.47354115042698 \t -7.990765314336182\n",
            "16     \t [-0.70179549  1.83746062]. \t  -21.62858591349258 \t -7.990765314336182\n",
            "17     \t [ 2.66946824 -0.99069902]. \t  -22.971405075477232 \t -7.990765314336182\n",
            "18     \t [ 2.04028799 -5.12      ]. \t  -33.40617315564336 \t -7.990765314336182\n",
            "19     \t [-1.57782793 -2.54140517]. \t  -47.439774893653016 \t -7.990765314336182\n",
            "20     \t [-2.83548694  5.12      ]. \t  -41.84797484554102 \t -7.990765314336182\n"
          ]
        }
      ]
    },
    {
      "cell_type": "code",
      "metadata": {
        "colab": {
          "base_uri": "https://localhost:8080/"
        },
        "id": "bGGkhp-kGCw6",
        "outputId": "774de939-d3ec-42de-bd99-297355157cc2"
      },
      "source": [
        "### ESTIMATED GP EI GRADIENTS\n",
        "\n",
        "np.random.seed(run_num_16)\n",
        "surrogate_approx_16 = GaussianProcess(cov_func, optimize=opt)\n",
        "\n",
        "approx_16 = GPGO_multi(surrogate_approx_16, Acquisition(util_grad_approx), objfunc, param)\n",
        "approx_16.run(init_evals=n_init, max_iter=iters)\n"
      ],
      "execution_count": 28,
      "outputs": [
        {
          "output_type": "stream",
          "name": "stdout",
          "text": [
            "Evaluation \t Proposed point \t  Current eval. \t Best eval.\n",
            "init   \t [-2.83349935  0.23719262]. \t  -22.27210456874814 \t -22.27210456874814\n",
            "init   \t [ 0.51918292 -4.65303603]. \t  -57.57021076017139 \t -22.27210456874814\n",
            "init   \t [-1.42613673 -2.83565116]. \t  -33.89145899403749 \t -22.27210456874814\n",
            "init   \t [ 1.9325559  -3.44339021]. \t  -35.85029586225333 \t -22.27210456874814\n",
            "init   \t [-4.39987336  4.51595121]. \t  -77.78800881964571 \t -22.27210456874814\n",
            "1      \t [5.12 5.12]. \t  -57.849427451571785 \t -22.27210456874814\n",
            "2      \t [5.12       0.13359347]. \t  -32.2634102746575 \t -22.27210456874814\n",
            "3      \t [0.53980509 3.56722813]. \t  -51.82642495204445 \t -22.27210456874814\n",
            "4      \t [-5.12 -5.12]. \t  -57.849427451571785 \t -22.27210456874814\n",
            "5      \t [ 5.12 -5.12]. \t  -57.849427451571785 \t -22.27210456874814\n",
            "6      \t [1.26300872 0.01628758]. \t  \u001b[92m-12.464228073684303\u001b[0m \t -12.464228073684303\n",
            "7      \t [-5.12       -1.65387323]. \t  -47.339257576405636 \t -12.464228073684303\n",
            "8      \t [3.37856944 2.40317007]. \t  -52.62345355878923 \t -12.464228073684303\n",
            "9      \t [-5.12        1.50296769]. \t  -51.18188718137345 \t -12.464228073684303\n",
            "10     \t [ 5.12       -2.35305706]. \t  -50.4937463461771 \t -12.464228073684303\n",
            "11     \t [-1.58298878  5.12      ]. \t  -50.10162529015139 \t -12.464228073684303\n",
            "12     \t [-0.67718817  1.00520053]. \t  -15.891328362338113 \t -12.464228073684303\n",
            "13     \t [-2.37072084 -5.12      ]. \t  -51.42344787725264 \t -12.464228073684303\n",
            "14     \t [2.42517917 5.12      ]. \t  -53.721378005300366 \t -12.464228073684303\n",
            "15     \t [ 2.68515268 -0.95815211]. \t  -22.43446816745921 \t -12.464228073684303\n",
            "16     \t [-2.26756836  2.47834829]. \t  -42.29329468314042 \t -12.464228073684303\n",
            "17     \t [-0.06483082 -1.03472727]. \t  \u001b[92m-2.1302093107610016\u001b[0m \t -2.1302093107610016\n",
            "18     \t [-0.071349  -1.0388298]. \t  -2.3685465462672504 \t -2.1302093107610016\n",
            "19     \t [-0.07102902 -1.03869215]. \t  -2.35743346102565 \t -2.1302093107610016\n",
            "20     \t [-0.07087499 -1.03862367]. \t  -2.352061352885565 \t -2.1302093107610016\n"
          ]
        }
      ]
    },
    {
      "cell_type": "code",
      "metadata": {
        "id": "Yrs2mp7hGC1Z",
        "colab": {
          "base_uri": "https://localhost:8080/"
        },
        "outputId": "e773893d-2dc3-4aea-c852-385eee8590fc"
      },
      "source": [
        "### ESTIMATED GP EI GRADIENTS\n",
        "\n",
        "np.random.seed(run_num_17)\n",
        "surrogate_approx_17 = GaussianProcess(cov_func, optimize=opt)\n",
        "\n",
        "approx_17 = GPGO_multi(surrogate_approx_17, Acquisition(util_grad_approx), objfunc, param)\n",
        "approx_17.run(init_evals=n_init, max_iter=iters)\n"
      ],
      "execution_count": 29,
      "outputs": [
        {
          "output_type": "stream",
          "name": "stdout",
          "text": [
            "Evaluation \t Proposed point \t  Current eval. \t Best eval.\n",
            "init   \t [-2.10263037  0.31320838]. \t  -20.395145364684023 \t -20.395145364684023\n",
            "init   \t [-3.15882714 -4.42470033]. \t  -53.03732051200137 \t -20.395145364684023\n",
            "init   \t [2.93873111 1.60085526]. \t  -29.989224812583537 \t -20.395145364684023\n",
            "init   \t [1.40821398 0.77417363]. \t  -29.451989415882437 \t -20.395145364684023\n",
            "init   \t [-4.71999574 -1.45598869]. \t  -55.89242173757483 \t -20.395145364684023\n",
            "1      \t [ 5.12 -5.12]. \t  -57.849427451571785 \t -20.395145364684023\n",
            "2      \t [-5.12        5.04700552]. \t  -54.82995879070466 \t -20.395145364684023\n",
            "3      \t [-0.25145931  5.12      ]. \t  -39.07963528683356 \t -20.395145364684023\n",
            "4      \t [5.12 5.12]. \t  -57.849427451571785 \t -20.395145364684023\n",
            "5      \t [ 1.07732211 -3.51437677]. \t  -34.62781444392395 \t -20.395145364684023\n",
            "6      \t [ 5.12       -1.25379964]. \t  -40.73544318913755 \t -20.395145364684023\n",
            "7      \t [-5.12        1.80494194]. \t  -38.79858267735815 \t -20.395145364684023\n",
            "8      \t [-2.31080458  3.10182406]. \t  -30.667057530136137 \t -20.395145364684023\n",
            "9      \t [-1.18605405 -1.98912696]. \t  \u001b[92m-11.476065976819477\u001b[0m \t -11.476065976819477\n",
            "10     \t [2.32513311 4.364161  ]. \t  -55.572984871675175 \t -11.476065976819477\n",
            "11     \t [5.12       2.01172825]. \t  -32.99890363335759 \t -11.476065976819477\n",
            "12     \t [-0.58773621 -5.12      ]. \t  -47.78878518655732 \t -11.476065976819477\n",
            "13     \t [ 2.51460385 -1.52792529]. \t  -48.46218329875658 \t -11.476065976819477\n",
            "14     \t [ 2.54665957 -5.12      ]. \t  -54.98351247538517 \t -11.476065976819477\n",
            "15     \t [-0.09095958  2.36456798]. \t  -23.78136855594336 \t -11.476065976819477\n",
            "16     \t [-0.17378004 -0.83564358]. \t  \u001b[92m-10.995252840955981\u001b[0m \t -10.995252840955981\n",
            "17     \t [-5.12 -5.12]. \t  -57.849427451571785 \t -10.995252840955981\n",
            "18     \t [-2.64958506  5.12      ]. \t  -51.84393965397895 \t -10.995252840955981\n",
            "19     \t [-2.21850674 -2.04127986]. \t  -17.457184058632578 \t -10.995252840955981\n",
            "20     \t [-0.13847164 -1.56002795]. \t  -25.302042856211536 \t -10.995252840955981\n"
          ]
        }
      ]
    },
    {
      "cell_type": "code",
      "metadata": {
        "id": "f0HIEP3PIUEa",
        "colab": {
          "base_uri": "https://localhost:8080/"
        },
        "outputId": "4cbf1510-628d-45be-a131-51fd1489f509"
      },
      "source": [
        "### ESTIMATED GP EI GRADIENTS\n",
        "\n",
        "np.random.seed(run_num_18)\n",
        "surrogate_approx_18 = GaussianProcess(cov_func, optimize=opt)\n",
        "\n",
        "approx_18 = GPGO_multi(surrogate_approx_18, Acquisition(util_grad_approx), objfunc, param)\n",
        "approx_18.run(init_evals=n_init, max_iter=iters)\n"
      ],
      "execution_count": 30,
      "outputs": [
        {
          "output_type": "stream",
          "name": "stdout",
          "text": [
            "Evaluation \t Proposed point \t  Current eval. \t Best eval.\n",
            "init   \t [1.53983224 0.05584255]. \t  -22.67190580753611 \t -22.67190580753611\n",
            "init   \t [ 3.87687906 -3.25795609]. \t  -38.990099416711985 \t -22.67190580753611\n",
            "init   \t [3.60686662 2.56139557]. \t  -56.66448698782129 \t -22.67190580753611\n",
            "init   \t [1.70088108 4.99604939]. \t  -40.894059318256296 \t -22.67190580753611\n",
            "init   \t [-2.48864335 -4.83014733]. \t  -54.6725749848372 \t -22.67190580753611\n",
            "1      \t [-5.12        2.10205608]. \t  -35.32979086565658 \t -22.67190580753611\n",
            "2      \t [-2.46249857  5.12      ]. \t  -54.712291228006364 \t -22.67190580753611\n",
            "3      \t [-2.3106083  -0.70591531]. \t  -32.2886203141287 \t -22.67190580753611\n",
            "4      \t [ 1.04805539 -5.12      ]. \t  -30.475522753788212 \t -22.67190580753611\n",
            "5      \t [-5.12       -2.45342576]. \t  -54.51888354873594 \t -22.67190580753611\n",
            "6      \t [-0.69696564  2.25257134]. \t  -28.992314831944757 \t -22.67190580753611\n",
            "7      \t [ 5.12       -0.35164305]. \t  -45.00942381950489 \t -22.67190580753611\n",
            "8      \t [5.12 5.12]. \t  -57.849427451571785 \t -22.67190580753611\n",
            "9      \t [ 0.15291079 -2.40801144]. \t  -28.468657461021415 \t -22.67190580753611\n",
            "10     \t [-5.12  5.12]. \t  -57.849427451571785 \t -22.67190580753611\n",
            "11     \t [ 5.12 -5.12]. \t  -57.849427451571785 \t -22.67190580753611\n",
            "12     \t [-5.12 -5.12]. \t  -57.849427451571785 \t -22.67190580753611\n",
            "13     \t [-2.86833179  1.88954664]. \t  \u001b[92m-17.342081664758673\u001b[0m \t -17.342081664758673\n",
            "14     \t [ 2.49766626 -1.57551152]. \t  -47.614926340834955 \t -17.342081664758673\n",
            "15     \t [-5.12       -0.05581079]. \t  -29.536399354295124 \t -17.342081664758673\n",
            "16     \t [1.22675563 2.30579205]. \t  -28.80046723462248 \t -17.342081664758673\n",
            "17     \t [-0.33017442  0.00784006]. \t  \u001b[92m-14.948344707238052\u001b[0m \t -14.948344707238052\n",
            "18     \t [-0.28956938  5.12      ]. \t  -41.46924740891097 \t -14.948344707238052\n",
            "19     \t [-2.16220677 -2.62671643]. \t  -33.328490567086995 \t -14.948344707238052\n",
            "20     \t [ 2.76420612 -5.12      ]. \t  -45.67413741847605 \t -14.948344707238052\n"
          ]
        }
      ]
    },
    {
      "cell_type": "code",
      "metadata": {
        "id": "S3mxRQDLIUPC",
        "colab": {
          "base_uri": "https://localhost:8080/"
        },
        "outputId": "5482171c-2646-43f7-a4b5-bc497a406c5e"
      },
      "source": [
        "### ESTIMATED GP EI GRADIENTS\n",
        "\n",
        "np.random.seed(run_num_19)\n",
        "surrogate_approx_19 = GaussianProcess(cov_func, optimize=opt)\n",
        "\n",
        "approx_19 = GPGO_multi(surrogate_approx_19, Acquisition(util_grad_approx), objfunc, param)\n",
        "approx_19.run(init_evals=n_init, max_iter=iters)\n"
      ],
      "execution_count": 31,
      "outputs": [
        {
          "output_type": "stream",
          "name": "stdout",
          "text": [
            "Evaluation \t Proposed point \t  Current eval. \t Best eval.\n",
            "init   \t [-4.12125592  2.6751971 ]. \t  -41.43485596167127 \t -25.867003842388073\n",
            "init   \t [-2.59135515 -3.70553152]. \t  -51.60126035043229 \t -25.867003842388073\n",
            "init   \t [-1.72598719 -4.27008445]. \t  -43.97430127029199 \t -25.867003842388073\n",
            "init   \t [1.76104531 3.13952049]. \t  -25.867003842388073 \t -25.867003842388073\n",
            "init   \t [4.9432772  1.38916592]. \t  -44.66580306903559 \t -25.867003842388073\n",
            "1      \t [ 5.12 -5.12]. \t  -57.849427451571785 \t -25.867003842388073\n",
            "2      \t [ 1.77608501 -1.68636607]. \t  -28.259227192993144 \t -25.867003842388073\n",
            "3      \t [5.12 5.12]. \t  -57.849427451571785 \t -25.867003842388073\n",
            "4      \t [-1.28669659  5.12      ]. \t  -42.86564109962198 \t -25.867003842388073\n",
            "5      \t [-5.12       -0.97841456]. \t  -29.973839037940394 \t -25.867003842388073\n",
            "6      \t [-1.20073329  0.35659588]. \t  \u001b[92m-24.73059429313352\u001b[0m \t -24.73059429313352\n",
            "7      \t [ 1.54013934 -5.12      ]. \t  -50.980393498816994 \t -24.73059429313352\n",
            "8      \t [ 5.12       -1.82150326]. \t  -37.89952273375092 \t -24.73059429313352\n",
            "9      \t [-5.12 -5.12]. \t  -57.849427451571785 \t -24.73059429313352\n",
            "10     \t [-5.12  5.12]. \t  -57.849427451571785 \t -24.73059429313352\n",
            "11     \t [1.8151539  0.74353447]. \t  \u001b[92m-20.27340543726525\u001b[0m \t -20.27340543726525\n",
            "12     \t [2.02694806 5.12      ]. \t  -33.17623574917815 \t -20.27340543726525\n",
            "13     \t [-0.86387322  2.59078841]. \t  -29.31524653085614 \t -20.27340543726525\n",
            "14     \t [-0.58610307 -1.85538236]. \t  -26.209857705974926 \t -20.27340543726525\n",
            "15     \t [-3.21490426  0.05285934]. \t  \u001b[92m-18.697584434852402\u001b[0m \t -18.697584434852402\n",
            "16     \t [ 3.23903467 -3.27859245]. \t  -42.33895539406906 \t -18.697584434852402\n",
            "17     \t [-5.12      -2.8041644]. \t  -43.45011726894103 \t -18.697584434852402\n",
            "18     \t [ 3.37953144 -0.28971919]. \t  -41.244476564102726 \t -18.697584434852402\n",
            "19     \t [3.66248598 3.14300223]. \t  -42.290235293974064 \t -18.697584434852402\n",
            "20     \t [-5.12        0.93866974]. \t  -30.53914305064155 \t -18.697584434852402\n"
          ]
        }
      ]
    },
    {
      "cell_type": "code",
      "metadata": {
        "id": "Aawd59dRIUYn",
        "colab": {
          "base_uri": "https://localhost:8080/"
        },
        "outputId": "9535b47a-fe17-44e1-e019-20287559c1f0"
      },
      "source": [
        "### ESTIMATED GP EI GRADIENTS\n",
        "\n",
        "np.random.seed(run_num_20)\n",
        "surrogate_approx_20 = GaussianProcess(cov_func, optimize=opt)\n",
        "\n",
        "approx_20 = GPGO_multi(surrogate_approx_20, Acquisition(util_grad_approx), objfunc, param)\n",
        "approx_20.run(init_evals=n_init, max_iter=iters)\n"
      ],
      "execution_count": 32,
      "outputs": [
        {
          "output_type": "stream",
          "name": "stdout",
          "text": [
            "Evaluation \t Proposed point \t  Current eval. \t Best eval.\n",
            "init   \t [0.9024594  4.07258857]. \t  -20.24255447774017 \t -17.388691338534382\n",
            "init   \t [4.00927467 3.23417577]. \t  -35.55852254546393 \t -17.388691338534382\n",
            "init   \t [-4.75249064  1.96359764]. \t  -36.54582989269194 \t -17.388691338534382\n",
            "init   \t [-1.24230715  0.18955208]. \t  -17.388691338534382 \t -17.388691338534382\n",
            "init   \t [ 1.61742301 -3.13497377]. \t  -33.22932870179905 \t -17.388691338534382\n",
            "1      \t [-5.12 -5.12]. \t  -57.849427451571785 \t -17.388691338534382\n",
            "2      \t [ 5.12       -0.92645578]. \t  -30.831816007590838 \t -17.388691338534382\n",
            "3      \t [ 5.12 -5.12]. \t  -57.849427451571785 \t -17.388691338534382\n",
            "4      \t [-2.70368899  5.12      ]. \t  -49.103565832622536 \t -17.388691338534382\n",
            "5      \t [-1.34011183 -5.12      ]. \t  -46.084812605270244 \t -17.388691338534382\n",
            "6      \t [-4.41681088 -1.56024865]. \t  -59.89937774476075 \t -17.388691338534382\n",
            "7      \t [1.91138093 0.46614175]. \t  -25.15577816398079 \t -17.388691338534382\n",
            "8      \t [-1.24978991 -2.24022698]. \t  -25.95372070746396 \t -17.388691338534382\n",
            "9      \t [-1.34785228  2.53662806]. \t  -43.75567785130711 \t -17.388691338534382\n",
            "10     \t [-5.12  5.12]. \t  -57.849427451571785 \t -17.388691338534382\n",
            "11     \t [2.81009537 5.12      ]. \t  -43.134533351805 \t -17.388691338534382\n",
            "12     \t [ 2.24024779 -5.12      ]. \t  -43.3310576544824 \t -17.388691338534382\n",
            "13     \t [5.12       1.32213344]. \t  -45.051447482293625 \t -17.388691338534382\n",
            "14     \t [5.12 5.12]. \t  -57.849427451571785 \t -17.388691338534382\n",
            "15     \t [ 3.91405101 -2.6653578 ]. \t  -38.918063397367895 \t -17.388691338534382\n",
            "16     \t [-0.28396222  5.12      ]. \t  -41.12309937732299 \t -17.388691338534382\n",
            "17     \t [1.44913602 2.39886946]. \t  -45.39643343784116 \t -17.388691338534382\n",
            "18     \t [ 0.62540422 -1.01801041]. \t  -18.54452223043948 \t -17.388691338534382\n",
            "19     \t [-2.95751883  0.4905804 ]. \t  -29.32419119231195 \t -17.388691338534382\n",
            "20     \t [-3.09361739 -3.62444469]. \t  -41.48344223934703 \t -17.388691338534382\n"
          ]
        }
      ]
    },
    {
      "cell_type": "code",
      "metadata": {
        "id": "xkgzPRbBTHaq",
        "colab": {
          "base_uri": "https://localhost:8080/"
        },
        "outputId": "c37b32b2-07a7-4bb4-ea95-192f495df86c"
      },
      "source": [
        "end_approx = time.time()\n",
        "end_approx\n",
        "\n",
        "time_approx = end_approx - start_approx\n",
        "time_approx\n",
        "\n",
        "start_exact = time.time()\n",
        "start_exact"
      ],
      "execution_count": 33,
      "outputs": [
        {
          "output_type": "execute_result",
          "data": {
            "text/plain": [
              "1643195161.032659"
            ]
          },
          "metadata": {},
          "execution_count": 33
        }
      ]
    },
    {
      "cell_type": "code",
      "metadata": {
        "id": "7CG3Ndvb16Rb",
        "colab": {
          "base_uri": "https://localhost:8080/"
        },
        "outputId": "d4992df2-5b22-45f5-b8ec-a0859677790b"
      },
      "source": [
        "### EXACT GP EI GRADIENTS\n",
        "\n",
        "np.random.seed(run_num_1)\n",
        "surrogate_exact_1 = dGaussianProcess(cov_func, optimize=opt)\n",
        "\n",
        "exact_1 = dGPGO(surrogate_exact_1, Acquisition_new(util_grad_exact), objfunc, param)\n",
        "exact_1.run(init_evals=n_init, max_iter=iters)\n"
      ],
      "execution_count": 34,
      "outputs": [
        {
          "output_type": "stream",
          "name": "stdout",
          "text": [
            "Evaluation \t Proposed point \t  Current eval. \t Best eval.\n",
            "init   \t [-0.84969467  2.25612281]. \t  -20.33436270766351 \t -19.908403246996286\n",
            "init   \t [-5.1188288  -2.02411446]. \t  -33.07414982069084 \t -19.908403246996286\n",
            "init   \t [-3.61721968 -4.17445279]. \t  -53.347974723929894 \t -19.908403246996286\n",
            "init   \t [-3.21269544 -1.58145816]. \t  -39.218472310354045 \t -19.908403246996286\n",
            "init   \t [-1.05710106  0.39748336]. \t  -19.908403246996286 \t -19.908403246996286\n",
            "1      \t [ 4.04077223 -4.24914728]. \t  -44.655863836006326 \t -19.908403246996286\n",
            "2      \t [5.12 5.12]. \t  -57.849427451571785 \t -19.908403246996286\n",
            "3      \t [4.33744349 0.432798  ]. \t  -53.344410128242544 \t -19.908403246996286\n",
            "4      \t [-5.12        4.36680096]. \t  -64.69123843795754 \t -19.908403246996286\n",
            "5      \t [ 0.15769158 -5.09614947]. \t  -32.28544795225299 \t -19.908403246996286\n",
            "6      \t [1.14453864 5.12      ]. \t  -34.082732834665336 \t -19.908403246996286\n",
            "7      \t [ 1.31267743 -1.72405678]. \t  -30.155476940398557 \t -19.908403246996286\n",
            "8      \t [-4.10739872  1.26622556]. \t  -31.683487300375553 \t -19.908403246996286\n",
            "9      \t [-1.80418265  5.01629981]. \t  -35.13172156440348 \t -19.908403246996286\n",
            "10     \t [1.43547837 2.68579275]. \t  -42.38923907785546 \t -19.908403246996286\n",
            "11     \t [-1.024038   -2.45601624]. \t  -26.815066190135912 \t -19.908403246996286\n",
            "12     \t [ 5.12       -1.99028245]. \t  -32.90457205464762 \t -19.908403246996286\n",
            "13     \t [3.95610073 2.93943604]. \t  -25.384352726230354 \t -19.908403246996286\n",
            "14     \t [1.38617381 0.40255192]. \t  -37.81657844327352 \t -19.908403246996286\n",
            "15     \t [-2.47234479  2.64661596]. \t  -49.01500509838674 \t -19.908403246996286\n",
            "16     \t [ 1.67075065 -3.60562543]. \t  -48.445498935607546 \t -19.908403246996286\n",
            "17     \t [-5.12 -5.12]. \t  -57.849427451571785 \t -19.908403246996286\n",
            "18     \t [-1.83751936 -4.75629732]. \t  -40.37724998297495 \t -19.908403246996286\n",
            "19     \t [3.03015527 5.08323956]. \t  -36.53692702291856 \t -19.908403246996286\n",
            "20     \t [-5.12000000e+00  4.13425222e-04]. \t  -28.924747635024833 \t -19.908403246996286\n"
          ]
        }
      ]
    },
    {
      "cell_type": "code",
      "metadata": {
        "id": "-ilCPSAu9SAg",
        "colab": {
          "base_uri": "https://localhost:8080/"
        },
        "outputId": "f94dc60b-0a48-4bc2-d850-b8ac1ede5d33"
      },
      "source": [
        "### EXACT GP EI GRADIENTS\n",
        "\n",
        "np.random.seed(run_num_2)\n",
        "surrogate_exact_2 = dGaussianProcess(cov_func, optimize=opt)\n",
        "\n",
        "exact_2 = dGPGO(surrogate_exact_2, Acquisition_new(util_grad_exact), objfunc, param)\n",
        "exact_2.run(init_evals=n_init, max_iter=iters)\n"
      ],
      "execution_count": 35,
      "outputs": [
        {
          "output_type": "stream",
          "name": "stdout",
          "text": [
            "Evaluation \t Proposed point \t  Current eval. \t Best eval.\n",
            "init   \t [-0.6554122  -4.85451539]. \t  -43.490296251903594 \t -18.964539418712707\n",
            "init   \t [ 0.50854377 -0.6622987 ]. \t  -35.91861667536101 \t -18.964539418712707\n",
            "init   \t [-0.81543371 -1.73737143]. \t  -20.479562046739524 \t -18.964539418712707\n",
            "init   \t [-3.02439799  1.2213347 ]. \t  -18.964539418712707 \t -18.964539418712707\n",
            "init   \t [-2.05153614 -2.3876887 ]. \t  -28.041315668371354 \t -18.964539418712707\n",
            "1      \t [5.12       3.79058262]. \t  -50.77089119709249 \t -18.964539418712707\n",
            "2      \t [ 4.8426374  -3.96513962]. \t  -43.91494982240336 \t -18.964539418712707\n",
            "3      \t [0.07192172 5.12      ]. \t  -29.933685188682368 \t -18.964539418712707\n",
            "4      \t [-5.12 -5.12]. \t  -57.849427451571785 \t -18.964539418712707\n",
            "5      \t [ 4.59349575 -0.07218847]. \t  -40.44010539027009 \t -18.964539418712707\n",
            "6      \t [-3.91737664  4.88361111]. \t  -43.069909764652905 \t -18.964539418712707\n",
            "7      \t [-5.12       -1.25907101]. \t  -41.07961364072827 \t -18.964539418712707\n",
            "8      \t [1.21915537 2.47386203]. \t  -35.54586282063556 \t -18.964539418712707\n",
            "9      \t [2.92833189 4.73591641]. \t  -42.88462753399532 \t -18.964539418712707\n",
            "10     \t [ 1.96058274 -3.20105963]. \t  -21.369013127521335 \t -18.964539418712707\n",
            "11     \t [-1.72859059  3.20560299]. \t  -31.851547216305395 \t -18.964539418712707\n",
            "12     \t [ 2.9040523  -1.51694656]. \t  -32.44082228187286 \t -18.964539418712707\n",
            "13     \t [ 1.66049265 -4.96039671]. \t  -43.0028778593861 \t -18.964539418712707\n",
            "14     \t [-4.99831434  1.60737689]. \t  -45.37650566914921 \t -18.964539418712707\n",
            "15     \t [-1.46025746  1.01097184]. \t  -22.868010780687495 \t -18.964539418712707\n",
            "16     \t [-2.86264666 -5.11492505]. \t  -40.35149518849875 \t -18.964539418712707\n",
            "17     \t [3.34026269 1.81361455]. \t  -35.927310488576495 \t -18.964539418712707\n",
            "18     \t [-2.87051238 -0.57889849]. \t  -30.502259494384873 \t -18.964539418712707\n",
            "19     \t [-5.12       -3.05916295]. \t  -38.966194662309974 \t -18.964539418712707\n",
            "20     \t [-5.083233    3.50723547]. \t  -59.46622169135466 \t -18.964539418712707\n"
          ]
        }
      ]
    },
    {
      "cell_type": "code",
      "metadata": {
        "id": "XieJ158mIvlP",
        "colab": {
          "base_uri": "https://localhost:8080/"
        },
        "outputId": "a51abe8f-c60b-4e7f-f260-aa125b35e519"
      },
      "source": [
        "### EXACT GP EI GRADIENTS\n",
        "\n",
        "np.random.seed(run_num_3)\n",
        "surrogate_exact_3 = dGaussianProcess(cov_func, optimize=opt)\n",
        "\n",
        "exact_3 = dGPGO(surrogate_exact_3, Acquisition_new(util_grad_exact), objfunc, param)\n",
        "exact_3.run(init_evals=n_init, max_iter=iters)\n"
      ],
      "execution_count": 36,
      "outputs": [
        {
          "output_type": "stream",
          "name": "stdout",
          "text": [
            "Evaluation \t Proposed point \t  Current eval. \t Best eval.\n",
            "init   \t [0.52017052 2.1314337 ]. \t  -27.953858411008774 \t -10.607662635789808\n",
            "init   \t [-2.14113547  0.11087468]. \t  -10.607662635789808 \t -10.607662635789808\n",
            "init   \t [4.02377681 4.05804123]. \t  -33.42749829480097 \t -10.607662635789808\n",
            "init   \t [-3.83400642 -2.99783293]. \t  -28.650953928965198 \t -10.607662635789808\n",
            "init   \t [-4.59297584 -0.6061072 ]. \t  -57.6631355589384 \t -10.607662635789808\n",
            "1      \t [ 1.67759318 -3.17566744]. \t  -32.79081619438729 \t -10.607662635789808\n",
            "2      \t [-3.55868405  4.82551581]. \t  -60.708961282145054 \t -10.607662635789808\n",
            "3      \t [ 5.12      -0.3507253]. \t  -44.96238197718429 \t -10.607662635789808\n",
            "4      \t [-1.57258335 -5.10192032]. \t  -49.46191739291358 \t -10.607662635789808\n",
            "5      \t [ 4.60130562 -3.45104534]. \t  -70.6540633026702 \t -10.607662635789808\n",
            "6      \t [1.39442511 5.02099968]. \t  -45.121139687836255 \t -10.607662635789808\n",
            "7      \t [-5.12 -5.12]. \t  -57.849427451571785 \t -10.607662635789808\n",
            "8      \t [ 1.77493964 -0.2518877 ]. \t  -21.771864555434355 \t -10.607662635789808\n",
            "9      \t [-2.40026603  2.1748725 ]. \t  -34.044289600441495 \t -10.607662635789808\n",
            "10     \t [-0.5930262  -2.40244595]. \t  -42.64284633340006 \t -10.607662635789808\n",
            "11     \t [3.34863025 1.67261288]. \t  -44.49199600977448 \t -10.607662635789808\n",
            "12     \t [ 2.11690505 -5.08843091]. \t  -34.456303959661845 \t -10.607662635789808\n",
            "13     \t [-4.95344287  2.14008376]. \t  -33.171188903009735 \t -10.607662635789808\n",
            "14     \t [-0.25672789 -0.12315258]. \t  -13.35100726310337 \t -10.607662635789808\n",
            "15     \t [-1.01330751  5.12      ]. \t  -29.986441574317062 \t -10.607662635789808\n",
            "16     \t [5.12 5.12]. \t  -57.849427451571785 \t -10.607662635789808\n",
            "17     \t [-2.11976583 -0.62790959]. \t  -24.528551053235425 \t -10.607662635789808\n",
            "18     \t [-0.64045276  0.56933831]. \t  -36.15251465590519 \t -10.607662635789808\n",
            "19     \t [5.12      2.4692841]. \t  -54.836422254517984 \t -10.607662635789808\n",
            "20     \t [ 2.67169968 -1.11975834]. \t  -25.815445392914448 \t -10.607662635789808\n"
          ]
        }
      ]
    },
    {
      "cell_type": "code",
      "metadata": {
        "id": "PhLBVOIfIvol",
        "colab": {
          "base_uri": "https://localhost:8080/"
        },
        "outputId": "631d0e6f-2e0b-4d5c-e33d-26159b038d08"
      },
      "source": [
        "### EXACT GP EI GRADIENTS\n",
        "\n",
        "np.random.seed(run_num_4)\n",
        "surrogate_exact_4 = dGaussianProcess(cov_func, optimize=opt)\n",
        "\n",
        "exact_4 = dGPGO(surrogate_exact_4, Acquisition_new(util_grad_exact), objfunc, param)\n",
        "exact_4.run(init_evals=n_init, max_iter=iters)\n"
      ],
      "execution_count": 37,
      "outputs": [
        {
          "output_type": "stream",
          "name": "stdout",
          "text": [
            "Evaluation \t Proposed point \t  Current eval. \t Best eval.\n",
            "init   \t [4.78238555 0.48365823]. \t  -51.03163809010808 \t -14.323038259018315\n",
            "init   \t [4.84028785 2.19971578]. \t  -39.78645699016559 \t -14.323038259018315\n",
            "init   \t [ 2.02474316 -2.90724357]. \t  -14.323038259018315 \t -14.323038259018315\n",
            "init   \t [ 4.87705042 -5.05620219]. \t  -52.80627247106233 \t -14.323038259018315\n",
            "init   \t [-2.52946061 -0.66773471]. \t  -41.61497868486559 \t -14.323038259018315\n",
            "1      \t [-2.37593926  5.12      ]. \t  -51.682475782417484 \t -14.323038259018315\n",
            "2      \t [-5.12 -5.12]. \t  -57.849427451571785 \t -14.323038259018315\n",
            "3      \t [1.96075502 5.12      ]. \t  -33.07175374525896 \t -14.323038259018315\n",
            "4      \t [0.79127659 1.31343849]. \t  -23.667976570604065 \t -14.323038259018315\n",
            "5      \t [-1.08833013 -4.87479297]. \t  -29.387172349591154 \t -14.323038259018315\n",
            "6      \t [5.12 5.12]. \t  -57.849427451571785 \t -14.323038259018315\n",
            "7      \t [-5.12       -1.84843169]. \t  -36.543565483758904 \t -14.323038259018315\n",
            "8      \t [-3.18235306  2.10393102]. \t  -22.487802657603797 \t -14.323038259018315\n",
            "9      \t [ 2.03147824 -0.76219726]. \t  \u001b[92m-14.1371767130296\u001b[0m \t -14.1371767130296\n",
            "10     \t [ 4.49925806 -2.18621233]. \t  -51.121282290513484 \t -14.1371767130296\n",
            "11     \t [-0.28369163 -1.90698955]. \t  -17.477799716032294 \t -14.1371767130296\n",
            "12     \t [ 1.38821255 -4.9510036 ]. \t  -44.54276845153296 \t -14.1371767130296\n",
            "13     \t [-0.1407541   3.35280024]. \t  -30.942698221827836 \t -14.1371767130296\n",
            "14     \t [-2.93273112 -3.28461606]. \t  -32.427498830725064 \t -14.1371767130296\n",
            "15     \t [-4.67783867  0.34511684]. \t  -52.00845662996257 \t -14.1371767130296\n",
            "16     \t [2.6078937  2.49788176]. \t  -50.828450958660355 \t -14.1371767130296\n",
            "17     \t [-4.18829284  3.50886611]. \t  -56.057662539468296 \t -14.1371767130296\n",
            "18     \t [-1.5063409   1.58059287]. \t  -43.50446138426803 \t -14.1371767130296\n",
            "19     \t [ 0.40119356 -0.52930566]. \t  -38.40609676738817 \t -14.1371767130296\n",
            "20     \t [ 0.40525086 -3.10651155]. \t  -30.251312377012454 \t -14.1371767130296\n"
          ]
        }
      ]
    },
    {
      "cell_type": "code",
      "metadata": {
        "id": "arbiPyj2IvsJ",
        "colab": {
          "base_uri": "https://localhost:8080/"
        },
        "outputId": "8885a53c-5880-434d-eac8-744f5c6bad7c"
      },
      "source": [
        "### EXACT GP EI GRADIENTS\n",
        "\n",
        "np.random.seed(run_num_5)\n",
        "surrogate_exact_5 = dGaussianProcess(cov_func, optimize=opt)\n",
        "\n",
        "exact_5 = dGPGO(surrogate_exact_5, Acquisition_new(util_grad_exact), objfunc, param)\n",
        "exact_5.run(init_evals=n_init, max_iter=iters)\n"
      ],
      "execution_count": 38,
      "outputs": [
        {
          "output_type": "stream",
          "name": "stdout",
          "text": [
            "Evaluation \t Proposed point \t  Current eval. \t Best eval.\n",
            "init   \t [-2.84678993  3.79629882]. \t  -33.93442008827236 \t -7.8108627039749745\n",
            "init   \t [-3.00319585  4.2865757 ]. \t  -39.673876075575784 \t -7.8108627039749745\n",
            "init   \t [-0.11866943  1.14425716]. \t  -7.8108627039749745 \t -7.8108627039749745\n",
            "init   \t [2.72289645 0.1886002 ]. \t  -25.38160395721669 \t -7.8108627039749745\n",
            "init   \t [-2.08076286 -3.19773462]. \t  -22.589982116319675 \t -7.8108627039749745\n",
            "1      \t [ 4.32894502 -5.09733749]. \t  -61.29459456639687 \t -7.8108627039749745\n",
            "2      \t [5.12 5.12]. \t  -57.849427451571785 \t -7.8108627039749745\n",
            "3      \t [-5.12       -0.31192635]. \t  -42.81552120921346 \t -7.8108627039749745\n",
            "4      \t [1.11276445 4.76007737]. \t  -35.67056614343016 \t -7.8108627039749745\n",
            "5      \t [-5.12 -5.12]. \t  -57.849427451571785 \t -7.8108627039749745\n",
            "6      \t [ 0.39675772 -5.12      ]. \t  -47.05088709955528 \t -7.8108627039749745\n",
            "7      \t [ 5.12       -1.68100108]. \t  -45.95127419495663 \t -7.8108627039749745\n",
            "8      \t [ 0.36482887 -1.61104063]. \t  -36.99689149589812 \t -7.8108627039749745\n",
            "9      \t [5.12       1.87551924]. \t  -35.34818660771734 \t -7.8108627039749745\n",
            "10     \t [-2.50970026  1.00265194]. \t  -27.286726633701676 \t -7.8108627039749745\n",
            "11     \t [-5.12        2.28846603]. \t  -46.55522113274086 \t -7.8108627039749745\n",
            "12     \t [ 2.58211925 -2.99767509]. \t  -34.352605895063704 \t -7.8108627039749745\n",
            "13     \t [1.54296899 2.3296825 ]. \t  -42.245975816158214 \t -7.8108627039749745\n",
            "14     \t [-4.66688765 -2.59526505]. \t  -61.76464518733187 \t -7.8108627039749745\n",
            "15     \t [-2.02057915 -1.08252888]. \t  \u001b[92m-6.652672306650379\u001b[0m \t -6.652672306650379\n",
            "16     \t [-0.78649419  4.75815246]. \t  -40.47362130610441 \t -6.652672306650379\n",
            "17     \t [-0.68615872  1.82394507]. \t  -23.221399833594774 \t -6.652672306650379\n",
            "18     \t [-2.44538611 -5.12      ]. \t  -54.32162473112963 \t -6.652672306650379\n",
            "19     \t [-2.41461551 -0.97099664]. \t  -25.533886282106423 \t -6.652672306650379\n",
            "20     \t [3.40450787 3.50788362]. \t  -62.137041492501496 \t -6.652672306650379\n"
          ]
        }
      ]
    },
    {
      "cell_type": "code",
      "metadata": {
        "id": "04KJCEm_Ivvf",
        "colab": {
          "base_uri": "https://localhost:8080/"
        },
        "outputId": "ad2715b9-b70b-4a0c-e6ce-a5b7c0fe9082"
      },
      "source": [
        "### EXACT GP EI GRADIENTS\n",
        "\n",
        "np.random.seed(run_num_6)\n",
        "surrogate_exact_6 = dGaussianProcess(cov_func, optimize=opt)\n",
        "\n",
        "exact_6 = dGPGO(surrogate_exact_6, Acquisition_new(util_grad_exact), objfunc, param)\n",
        "exact_6.run(init_evals=n_init, max_iter=iters)\n"
      ],
      "execution_count": 39,
      "outputs": [
        {
          "output_type": "stream",
          "name": "stdout",
          "text": [
            "Evaluation \t Proposed point \t  Current eval. \t Best eval.\n",
            "init   \t [ 4.02288795 -1.72052679]. \t  -31.08835710146886 \t -17.28954482757088\n",
            "init   \t [ 3.28938622 -4.69302655]. \t  -58.797867722203385 \t -17.28954482757088\n",
            "init   \t [-4.0175956   0.97333314]. \t  -17.28954482757088 \t -17.28954482757088\n",
            "init   \t [ 0.30532979 -0.83141193]. \t  -19.296253155889353 \t -17.28954482757088\n",
            "init   \t [-1.68542362  1.25459899]. \t  -28.650630936276173 \t -17.28954482757088\n",
            "1      \t [5.12 5.12]. \t  -57.849427451571785 \t -17.28954482757088\n",
            "2      \t [-5.12 -5.12]. \t  -57.849427451571785 \t -17.28954482757088\n",
            "3      \t [0.39239961 5.12      ]. \t  -46.87904998138028 \t -17.28954482757088\n",
            "4      \t [-0.95408494 -4.92186911]. \t  -26.729297813340416 \t -17.28954482757088\n",
            "5      \t [3.88132283 1.66847213]. \t  -35.40357333585098 \t -17.28954482757088\n",
            "6      \t [-3.50135733  4.65921874]. \t  -69.36710849405448 \t -17.28954482757088\n",
            "7      \t [-2.93001825 -2.19131086]. \t  -20.73354995532406 \t -17.28954482757088\n",
            "8      \t [1.07553306 2.06715424]. \t  \u001b[92m-7.412137046156824\u001b[0m \t -7.412137046156824\n",
            "9      \t [-5.12       -1.60992955]. \t  -49.22454018711574 \t -7.412137046156824\n",
            "10     \t [ 0.39818689 -2.89160704]. \t  -28.773527820797202 \t -7.412137046156824\n",
            "11     \t [2.8543868 3.5640956]. \t  -43.951685824151525 \t -7.412137046156824\n",
            "12     \t [1.47022114 0.77531512]. \t  -31.00423298641352 \t -7.412137046156824\n",
            "13     \t [-0.21744675  2.81864029]. \t  -21.780530623277787 \t -7.412137046156824\n",
            "14     \t [-4.92313474  2.42023293]. \t  -50.008643296551284 \t -7.412137046156824\n",
            "15     \t [-2.83052469 -4.2316744 ]. \t  -39.92364911093978 \t -7.412137046156824\n",
            "16     \t [-1.7473     -0.92252405]. \t  -15.235382156341942 \t -7.412137046156824\n",
            "17     \t [5.12      0.0169308]. \t  -28.9815298790928 \t -7.412137046156824\n",
            "18     \t [ 0.72393115 -5.12      ]. \t  -41.07942972632672 \t -7.412137046156824\n",
            "19     \t [ 2.14738811 -1.88339028]. \t  -14.714770314198457 \t -7.412137046156824\n",
            "20     \t [ 4.9340119  -3.15179319]. \t  -39.339231124959305 \t -7.412137046156824\n"
          ]
        }
      ]
    },
    {
      "cell_type": "code",
      "metadata": {
        "id": "tAOkme3CIvyO",
        "colab": {
          "base_uri": "https://localhost:8080/"
        },
        "outputId": "7ed70fa1-f2cf-418e-8cc0-37a954a61a7a"
      },
      "source": [
        "### EXACT GP EI GRADIENTS\n",
        "\n",
        "np.random.seed(run_num_7)\n",
        "surrogate_exact_7 = dGaussianProcess(cov_func, optimize=opt)\n",
        "\n",
        "exact_7 = dGPGO(surrogate_exact_7, Acquisition_new(util_grad_exact), objfunc, param)\n",
        "exact_7.run(init_evals=n_init, max_iter=iters)\n"
      ],
      "execution_count": 40,
      "outputs": [
        {
          "output_type": "stream",
          "name": "stdout",
          "text": [
            "Evaluation \t Proposed point \t  Current eval. \t Best eval.\n",
            "init   \t [-4.33860312  2.86636843]. \t  -45.646133072936244 \t -22.52235437888213\n",
            "init   \t [-0.63068947  2.28828342]. \t  -34.83012662845338 \t -22.52235437888213\n",
            "init   \t [4.8946126  0.39419771]. \t  -44.09657005662876 \t -22.52235437888213\n",
            "init   \t [ 0.01147355 -4.38219639]. \t  -36.613209822404315 \t -22.52235437888213\n",
            "init   \t [-2.37118484e+00 -1.20319155e-03]. \t  -22.52235437888213 \t -22.52235437888213\n",
            "1      \t [-5.12 -5.12]. \t  -57.849427451571785 \t -22.52235437888213\n",
            "2      \t [3.66237484 5.12      ]. \t  -57.569392297613206 \t -22.52235437888213\n",
            "3      \t [ 4.52828409 -4.16265128]. \t  -62.45864721017638 \t -22.52235437888213\n",
            "4      \t [-4.02558214 -1.33646422]. \t  -33.289738493146906 \t -22.52235437888213\n",
            "5      \t [ 1.30561129 -0.85934528]. \t  \u001b[92m-19.524098049117494\u001b[0m \t -19.524098049117494\n",
            "6      \t [0.11609633 5.12      ]. \t  -31.482813126571898 \t -19.524098049117494\n",
            "7      \t [2.24434445 2.31532115]. \t  -34.032510308894345 \t -19.524098049117494\n",
            "8      \t [-2.56582402 -3.4758337 ]. \t  -57.70667622787621 \t -19.524098049117494\n",
            "9      \t [-2.35899462  4.8414623 ]. \t  -49.89443633665416 \t -19.524098049117494\n",
            "10     \t [5.12       3.01055388]. \t  -38.010126780620055 \t -19.524098049117494\n",
            "11     \t [ 2.15680208 -5.12      ]. \t  -38.049682105775325 \t -19.524098049117494\n",
            "12     \t [-5.11292055  5.04211319]. \t  -54.3260309744776 \t -19.524098049117494\n",
            "13     \t [ 3.23438512 -1.77815052]. \t  -30.883986078776545 \t -19.524098049117494\n",
            "14     \t [-0.74739046 -0.78053615]. \t  \u001b[92m-19.42489097355461\u001b[0m \t -19.42489097355461\n",
            "15     \t [ 0.52481756 -2.38115889]. \t  -43.16335926354842 \t -19.42489097355461\n",
            "16     \t [-4.83525384  0.58241936]. \t  -47.3035808536811 \t -19.42489097355461\n",
            "17     \t [1.26158186 0.50182868]. \t  -32.56982808351943 \t -19.42489097355461\n",
            "18     \t [ 5.12       -1.68385253]. \t  -45.79761606037596 \t -19.42489097355461\n",
            "19     \t [-4.86034822 -2.92282097]. \t  -36.92770892940444 \t -19.42489097355461\n",
            "20     \t [-2.08673467 -5.12      ]. \t  -34.72774707706927 \t -19.42489097355461\n"
          ]
        }
      ]
    },
    {
      "cell_type": "code",
      "metadata": {
        "id": "69-J3EF4Iv1S",
        "colab": {
          "base_uri": "https://localhost:8080/"
        },
        "outputId": "22b20ae5-6822-41ce-e89b-9bec9b46ca78"
      },
      "source": [
        "### EXACT GP EI GRADIENTS\n",
        "\n",
        "np.random.seed(run_num_8)\n",
        "surrogate_exact_8 = dGaussianProcess(cov_func, optimize=opt)\n",
        "\n",
        "exact_8 = dGPGO(surrogate_exact_8, Acquisition_new(util_grad_exact), objfunc, param)\n",
        "exact_8.run(init_evals=n_init, max_iter=iters)\n"
      ],
      "execution_count": 41,
      "outputs": [
        {
          "output_type": "stream",
          "name": "stdout",
          "text": [
            "Evaluation \t Proposed point \t  Current eval. \t Best eval.\n",
            "init   \t [3.82391708 4.79785639]. \t  -50.20079446939181 \t -13.871821018360485\n",
            "init   \t [3.78055209 0.31596228]. \t  -36.5114251593508 \t -13.871821018360485\n",
            "init   \t [-2.73686192 -5.00327624]. \t  -43.34985765011677 \t -13.871821018360485\n",
            "init   \t [-0.7119993  -0.99992207]. \t  -13.871821018360485 \t -13.871821018360485\n",
            "init   \t [ 0.23218863 -0.22126801]. \t  -17.190590355445654 \t -13.871821018360485\n",
            "1      \t [ 4.96376909 -4.82584897]. \t  -53.598448729164815 \t -13.871821018360485\n",
            "2      \t [-5.03492225  2.95509263]. \t  -34.71822332027364 \t -13.871821018360485\n",
            "3      \t [-0.88346227  5.12      ]. \t  -32.26835247214993 \t -13.871821018360485\n",
            "4      \t [ 1.0844111  -4.79070896]. \t  -32.97062299379367 \t -13.871821018360485\n",
            "5      \t [-5.12       -1.44673329]. \t  -50.46289040957707 \t -13.871821018360485\n",
            "6      \t [-1.95159419  1.92940076]. \t  \u001b[92m-8.958091411800812\u001b[0m \t -8.958091411800812\n",
            "7      \t [1.43796867 2.43201855]. \t  -46.3340350028271 \t -8.958091411800812\n",
            "8      \t [ 2.15576526 -2.10872731]. \t  -15.757196595783363 \t -8.958091411800812\n",
            "9      \t [ 5.09033741 -1.80057301]. \t  -37.59730661475024 \t -8.958091411800812\n",
            "10     \t [-5.12 -5.12]. \t  -57.849427451571785 \t -8.958091411800812\n",
            "11     \t [5.12       2.58500429]. \t  -54.214244088739676 \t -8.958091411800812\n",
            "12     \t [-2.24170879 -2.30162295]. \t  -32.98899954267489 \t -8.958091411800812\n",
            "13     \t [-3.16274303  0.56090919]. \t  -34.38218654040203 \t -8.958091411800812\n",
            "14     \t [-3.48568377  5.08364923]. \t  -59.30273884482083 \t -8.958091411800812\n",
            "15     \t [1.57289281 5.12      ]. \t  -50.36809578337554 \t -8.958091411800812\n",
            "16     \t [-0.87779246  1.84628676]. \t  -11.297737039014898 \t -8.958091411800812\n",
            "17     \t [ 0.05935303 -2.74147852]. \t  -18.74173957259341 \t -8.958091411800812\n",
            "18     \t [-1.7103522   2.86725968]. \t  -26.892992150044016 \t -8.958091411800812\n",
            "19     \t [ 2.97802522 -3.51668114]. \t  -41.27597183037281 \t -8.958091411800812\n",
            "20     \t [ 1.78395286 -0.57779461]. \t  -30.22813731290324 \t -8.958091411800812\n"
          ]
        }
      ]
    },
    {
      "cell_type": "code",
      "metadata": {
        "id": "vonm9jyuIv4t",
        "colab": {
          "base_uri": "https://localhost:8080/"
        },
        "outputId": "7a1b9d25-f97b-4d67-c936-a4266ebc8d02"
      },
      "source": [
        "### EXACT GP EI GRADIENTS\n",
        "\n",
        "np.random.seed(run_num_9)\n",
        "surrogate_exact_9 = dGaussianProcess(cov_func, optimize=opt)\n",
        "\n",
        "exact_9 = dGPGO(surrogate_exact_9, Acquisition_new(util_grad_exact), objfunc, param)\n",
        "exact_9.run(init_evals=n_init, max_iter=iters)\n"
      ],
      "execution_count": 42,
      "outputs": [
        {
          "output_type": "stream",
          "name": "stdout",
          "text": [
            "Evaluation \t Proposed point \t  Current eval. \t Best eval.\n",
            "init   \t [-5.01376866  0.01919582]. \t  -25.248289026162446 \t -24.454800313488693\n",
            "init   \t [-0.04328148 -3.74958562]. \t  -24.454800313488693 \t -24.454800313488693\n",
            "init   \t [-3.66478248 -2.88195916]. \t  -39.46509426509438 \t -24.454800313488693\n",
            "init   \t [-0.83447623 -2.57944404]. \t  -31.06766397812992 \t -24.454800313488693\n",
            "init   \t [-4.25922917 -1.58209393]. \t  -49.922543556206975 \t -24.454800313488693\n",
            "1      \t [5.12 5.12]. \t  -57.849427451571785 \t -24.454800313488693\n",
            "2      \t [ 5.03785231 -1.04596176]. \t  -27.16958169742965 \t -24.454800313488693\n",
            "3      \t [-1.47691444  4.45110873]. \t  -61.42049213265991 \t -24.454800313488693\n",
            "4      \t [1.55244529 1.27551439]. \t  -35.09524858552799 \t -24.454800313488693\n",
            "5      \t [-2.25471115  1.28912796]. \t  -29.475331458370462 \t -24.454800313488693\n",
            "6      \t [1.80264188 5.12      ]. \t  -38.92662447496752 \t -24.454800313488693\n",
            "7      \t [ 2.90505961 -3.37238888]. \t  -38.49358003986936 \t -24.454800313488693\n",
            "8      \t [4.95138862 1.94729715]. \t  -29.314333572937564 \t -24.454800313488693\n",
            "9      \t [-5.12 -5.12]. \t  -57.849427451571785 \t -24.454800313488693\n",
            "10     \t [-2.04794595 -5.12      ]. \t  -33.569142627661456 \t -24.454800313488693\n",
            "11     \t [-4.99079347  3.24373085]. \t  -45.05273547308272 \t -24.454800313488693\n",
            "12     \t [-0.31023347 -0.33508739]. \t  -28.998548514529674 \t -24.454800313488693\n",
            "13     \t [ 2.32748384 -0.9570032 ]. \t  \u001b[92m-21.374146632589344\u001b[0m \t -21.374146632589344\n",
            "14     \t [0.43311369 2.93440121]. \t  -28.765591209781412 \t -21.374146632589344\n",
            "15     \t [3.14801927 3.10315724]. \t  -25.589547292832727 \t -21.374146632589344\n",
            "16     \t [ 4.40639657 -4.29820556]. \t  -69.19345682309864 \t -21.374146632589344\n",
            "17     \t [-3.77315508  4.75425858]. \t  -55.12238172816978 \t -21.374146632589344\n",
            "18     \t [ 0.84859728 -4.40252137]. \t  -42.47825906850564 \t -21.374146632589344\n",
            "19     \t [3.6045788  0.47075245]. \t  -50.96396073756535 \t -21.374146632589344\n",
            "20     \t [-2.07649746 -0.96867783]. \t  \u001b[92m-6.576255010305227\u001b[0m \t -6.576255010305227\n"
          ]
        }
      ]
    },
    {
      "cell_type": "code",
      "metadata": {
        "id": "6amuYlUdIv7r",
        "colab": {
          "base_uri": "https://localhost:8080/"
        },
        "outputId": "0f494b1d-5e82-42f5-a2a9-95e1a4911462"
      },
      "source": [
        "### EXACT GP EI GRADIENTS\n",
        "\n",
        "np.random.seed(run_num_10)\n",
        "surrogate_exact_10 = dGaussianProcess(cov_func, optimize=opt)\n",
        "\n",
        "exact_10 = dGPGO(surrogate_exact_10, Acquisition_new(util_grad_exact), objfunc, param)\n",
        "exact_10.run(init_evals=n_init, max_iter=iters)\n"
      ],
      "execution_count": 43,
      "outputs": [
        {
          "output_type": "stream",
          "name": "stdout",
          "text": [
            "Evaluation \t Proposed point \t  Current eval. \t Best eval.\n",
            "init   \t [ 2.77832339 -4.90750004]. \t  -41.674330194390116 \t -13.839458310244165\n",
            "init   \t [1.36855793 2.54775176]. \t  -44.69639719065837 \t -13.839458310244165\n",
            "init   \t [-0.01528819 -2.81808235]. \t  -13.839458310244165 \t -13.839458310244165\n",
            "init   \t [-3.09183626  2.66783449]. \t  -33.23221510904937 \t -13.839458310244165\n",
            "init   \t [-3.38830503 -4.2154003 ]. \t  -54.73014366983691 \t -13.839458310244165\n",
            "1      \t [ 5.12       -0.53830217]. \t  -48.92629267922258 \t -13.839458310244165\n",
            "2      \t [5.12 5.12]. \t  -57.849427451571785 \t -13.839458310244165\n",
            "3      \t [-4.22754093 -0.73798976]. \t  -37.76417471725897 \t -13.839458310244165\n",
            "4      \t [ 1.77944761 -0.72160778]. \t  -23.6219314007071 \t -13.839458310244165\n",
            "5      \t [-4.5050859   5.00650982]. \t  -65.36419794062027 \t -13.839458310244165\n",
            "6      \t [0.10579747 5.07144996]. \t  -28.850951888017963 \t -13.839458310244165\n",
            "7      \t [-1.10430841 -0.00826503]. \t  \u001b[92m-3.3049375712771987\u001b[0m \t -3.3049375712771987\n",
            "8      \t [4.02447235 2.51756262]. \t  -42.591660818374066 \t -3.3049375712771987\n",
            "9      \t [-0.53137903 -4.86686758]. \t  -47.07434955710452 \t -3.3049375712771987\n",
            "10     \t [-0.93666847  0.62454078]. \t  -19.140164738798063 \t -3.3049375712771987\n",
            "11     \t [-1.27350046 -1.65147014]. \t  -31.623247710924247 \t -3.3049375712771987\n",
            "12     \t [ 4.37130588 -2.95944354]. \t  -45.0945962562876 \t -3.3049375712771987\n",
            "13     \t [-5.12 -5.12]. \t  -57.849427451571785 \t -3.3049375712771987\n",
            "14     \t [-5.12        1.64301018]. \t  -47.851573302481604 \t -3.3049375712771987\n",
            "15     \t [2.77700547 4.67542814]. \t  -52.3986339966401 \t -3.3049375712771987\n",
            "16     \t [-1.84996598  5.11863861]. \t  -36.39873784916295 \t -3.3049375712771987\n",
            "17     \t [-2.45053553  0.58330932]. \t  -44.52729163199296 \t -3.3049375712771987\n",
            "18     \t [-5.12       -2.57923472]. \t  -54.363295411557246 \t -3.3049375712771987\n",
            "19     \t [ 1.48850798 -2.72487854]. \t  -41.18644351324936 \t -3.3049375712771987\n",
            "20     \t [-0.76633817  2.58851034]. \t  -34.75596565546045 \t -3.3049375712771987\n"
          ]
        }
      ]
    },
    {
      "cell_type": "code",
      "metadata": {
        "id": "VwbLIP9cIv-F",
        "colab": {
          "base_uri": "https://localhost:8080/"
        },
        "outputId": "b7850f96-e2b8-476e-b7f4-d9fd01634b3a"
      },
      "source": [
        "### EXACT GP EI GRADIENTS\n",
        "\n",
        "np.random.seed(run_num_11)\n",
        "surrogate_exact_11 = dGaussianProcess(cov_func, optimize=opt)\n",
        "\n",
        "exact_11 = dGPGO(surrogate_exact_11, Acquisition_new(util_grad_exact), objfunc, param)\n",
        "exact_11.run(init_evals=n_init, max_iter=iters)\n"
      ],
      "execution_count": 44,
      "outputs": [
        {
          "output_type": "stream",
          "name": "stdout",
          "text": [
            "Evaluation \t Proposed point \t  Current eval. \t Best eval.\n",
            "init   \t [-3.27403839 -4.92057353]. \t  -47.655641290890955 \t -10.679755252484755\n",
            "init   \t [-0.37664229  2.30332343]. \t  -35.87889240695259 \t -10.679755252484755\n",
            "init   \t [-0.81711509 -0.14922651]. \t  -10.679755252484755 \t -10.679755252484755\n",
            "init   \t [-4.98912446 -0.12931474]. \t  -28.05462905574235 \t -10.679755252484755\n",
            "init   \t [4.52410012 3.59214172]. \t  -71.62694632141611 \t -10.679755252484755\n",
            "1      \t [ 3.03550212 -4.46785095]. \t  -49.22040431745476 \t -10.679755252484755\n",
            "2      \t [ 4.25360926 -0.55294285]. \t  -48.0774987666756 \t -10.679755252484755\n",
            "3      \t [1.24702516 5.12      ]. \t  -40.29288185618283 \t -10.679755252484755\n",
            "4      \t [-0.14982725 -3.281103  ]. \t  -26.843298318720983 \t -10.679755252484755\n",
            "5      \t [-3.6313084   3.02560873]. \t  -39.25519344676327 \t -10.679755252484755\n",
            "6      \t [-2.84140872 -1.78911886]. \t  -23.40852235390129 \t -10.679755252484755\n",
            "7      \t [ 1.44868869 -0.97149611]. \t  -22.687232923330672 \t -10.679755252484755\n",
            "8      \t [-1.42594454  4.96073383]. \t  -45.88185397982336 \t -10.679755252484755\n",
            "9      \t [-5.12       -2.99585908]. \t  -37.903269882500695 \t -10.679755252484755\n",
            "10     \t [2.20564317 1.728691  ]. \t  -26.43704027906989 \t -10.679755252484755\n",
            "11     \t [-2.56052358  0.6641222 ]. \t  -41.420753214627965 \t -10.679755252484755\n",
            "12     \t [-4.69318945  4.53457898]. \t  -75.84753045658955 \t -10.679755252484755\n",
            "13     \t [-0.66222287 -1.15548869]. \t  -21.418106247852855 \t -10.679755252484755\n",
            "14     \t [ 0.03622594 -5.12      ]. \t  -29.183950888764038 \t -10.679755252484755\n",
            "15     \t [5.12       1.34046798]. \t  -46.10463974127975 \t -10.679755252484755\n",
            "16     \t [ 3.94417152 -2.51560931]. \t  -42.44567575695752 \t -10.679755252484755\n",
            "17     \t [0.74068657 0.31597549]. \t  -25.26095825409101 \t -10.679755252484755\n",
            "18     \t [ 5.08396191 -3.84746858]. \t  -46.26080681066702 \t -10.679755252484755\n",
            "19     \t [-5.12 -5.12]. \t  -57.849427451571785 \t -10.679755252484755\n",
            "20     \t [-5.02099388  1.5742556 ]. \t  -46.706735150641485 \t -10.679755252484755\n"
          ]
        }
      ]
    },
    {
      "cell_type": "code",
      "metadata": {
        "id": "MlUNFjc-JTBY",
        "colab": {
          "base_uri": "https://localhost:8080/"
        },
        "outputId": "93d895a9-d93b-42c9-cf30-d821caba5b42"
      },
      "source": [
        "### EXACT GP EI GRADIENTS\n",
        "\n",
        "np.random.seed(run_num_12)\n",
        "surrogate_exact_12 = dGaussianProcess(cov_func, optimize=opt)\n",
        "\n",
        "exact_12 = dGPGO(surrogate_exact_12, Acquisition_new(util_grad_exact), objfunc, param)\n",
        "exact_12.run(init_evals=n_init, max_iter=iters)\n"
      ],
      "execution_count": 45,
      "outputs": [
        {
          "output_type": "stream",
          "name": "stdout",
          "text": [
            "Evaluation \t Proposed point \t  Current eval. \t Best eval.\n",
            "init   \t [-3.54137249  2.45810889]. \t  -57.903242869085595 \t -40.51116653209555\n",
            "init   \t [-2.42365424  0.34549139]. \t  -40.51116653209555 \t -40.51116653209555\n",
            "init   \t [-4.97075238  4.28796936]. \t  -55.62655915398208 \t -40.51116653209555\n",
            "init   \t [ 4.10332011 -4.77776458]. \t  -49.962803461970296 \t -40.51116653209555\n",
            "init   \t [ 4.6791612  -3.71497655]. \t  -62.183891474990624 \t -40.51116653209555\n",
            "1      \t [5.12 5.12]. \t  -57.849427451571785 \t -40.51116653209555\n",
            "2      \t [-5.12 -5.12]. \t  -57.849427451571785 \t -40.51116653209555\n",
            "3      \t [2.39120481 0.97307722]. \t  \u001b[92m-24.560640365122108\u001b[0m \t -24.560640365122108\n",
            "4      \t [-0.46882411 -4.42580423]. \t  -58.54919150500923 \t -24.560640365122108\n",
            "5      \t [0.89124597 4.54092672]. \t  -43.33072399830344 \t -24.560640365122108\n",
            "6      \t [-5.12       -1.55605117]. \t  -50.732238922892904 \t -24.560640365122108\n",
            "7      \t [5.12       0.41252994]. \t  -47.62227907653475 \t -24.560640365122108\n",
            "8      \t [ 0.70322767 -1.40847166]. \t  -33.766430818477914 \t -24.560640365122108\n",
            "9      \t [-0.47128385  2.26775686]. \t  -36.315881348035674 \t -24.560640365122108\n",
            "10     \t [-1.82181678  5.12      ]. \t  -37.88292956718412 \t -24.560640365122108\n",
            "11     \t [-2.58478391 -2.5553685 ]. \t  -51.2262792769566 \t -24.560640365122108\n",
            "12     \t [3.15345759 3.25556616]. \t  -35.19194356038729 \t -24.560640365122108\n",
            "13     \t [ 3.20186499 -1.61155857]. \t  -37.512887988238504 \t -24.560640365122108\n",
            "14     \t [ 1.84650082 -3.98844085]. \t  \u001b[92m-23.6450127383954\u001b[0m \t -23.6450127383954\n",
            "15     \t [-2.94072803 -5.12      ]. \t  -38.25808833153873 \t -23.6450127383954\n",
            "16     \t [5.12       2.71522614]. \t  -48.46473025533419 \t -23.6450127383954\n",
            "17     \t [-5.12        0.83176034]. \t  -34.70237472172616 \t -23.6450127383954\n",
            "18     \t [0.16770386 0.38955632]. \t  \u001b[92m-22.923755112265397\u001b[0m \t -22.923755112265397\n",
            "19     \t [2.82444419 5.12      ]. \t  -42.39343777896224 \t -22.923755112265397\n",
            "20     \t [-0.34875333 -2.36000958]. \t  -37.8802796235175 \t -22.923755112265397\n"
          ]
        }
      ]
    },
    {
      "cell_type": "code",
      "metadata": {
        "id": "9BsKdU9eJTFL",
        "colab": {
          "base_uri": "https://localhost:8080/"
        },
        "outputId": "f0a7b432-ab37-47fa-e4a9-2e2dc088c870"
      },
      "source": [
        "### EXACT GP EI GRADIENTS\n",
        "\n",
        "np.random.seed(run_num_13)\n",
        "surrogate_exact_13 = dGaussianProcess(cov_func, optimize=opt)\n",
        "\n",
        "exact_13 = dGPGO(surrogate_exact_13, Acquisition_new(util_grad_exact), objfunc, param)\n",
        "exact_13.run(init_evals=n_init, max_iter=iters)\n"
      ],
      "execution_count": 46,
      "outputs": [
        {
          "output_type": "stream",
          "name": "stdout",
          "text": [
            "Evaluation \t Proposed point \t  Current eval. \t Best eval.\n",
            "init   \t [ 2.84367268 -2.68757791]. \t  -33.58019830007169 \t -17.435826639425656\n",
            "init   \t [3.32061217 4.76927179]. \t  -56.857057997503354 \t -17.435826639425656\n",
            "init   \t [ 4.83943541 -0.47667971]. \t  -48.211919361679726 \t -17.435826639425656\n",
            "init   \t [1.11659482 2.82139151]. \t  -17.435826639425656 \t -17.435826639425656\n",
            "init   \t [1.45012065 2.27346667]. \t  -38.25352329493884 \t -17.435826639425656\n",
            "1      \t [-5.12 -5.12]. \t  -57.849427451571785 \t -17.435826639425656\n",
            "2      \t [-3.81749683  0.42652771]. \t  -39.59347826031612 \t -17.435826639425656\n",
            "3      \t [-2.89939236  5.12      ]. \t  -39.263519827325155 \t -17.435826639425656\n",
            "4      \t [-0.69420447 -5.12      ]. \t  -42.84099984901968 \t -17.435826639425656\n",
            "5      \t [-2.78914898 -2.47302964]. \t  -41.31691559790534 \t -17.435826639425656\n",
            "6      \t [ 0.03880372 -0.71742593]. \t  \u001b[92m-12.84438515201686\u001b[0m \t -12.84438515201686\n",
            "7      \t [0.09078976 5.12      ]. \t  -30.516369839939287 \t -12.84438515201686\n",
            "8      \t [5.12       2.47329596]. \t  -54.90147507527983 \t -12.84438515201686\n",
            "9      \t [-1.21732831  1.56627536]. \t  -31.042098658468277 \t -12.84438515201686\n",
            "10     \t [-5.10580865 -2.0041286 ]. \t  -32.218870655181334 \t -12.84438515201686\n",
            "11     \t [ 5.03138232 -3.60708349]. \t  -56.34027180209547 \t -12.84438515201686\n",
            "12     \t [ 0.09034221 -2.56877804]. \t  -27.25573791220459 \t -12.84438515201686\n",
            "13     \t [-4.8522124   2.81440969]. \t  -41.5377135953896 \t -12.84438515201686\n",
            "14     \t [ 1.95235318 -0.09348743]. \t  \u001b[92m-5.941358973875296\u001b[0m \t -5.941358973875296\n",
            "15     \t [ 2.01112205 -0.1192759 ]. \t  -6.7624907785061446 \t -5.941358973875296\n",
            "16     \t [-2.82157016 -5.12      ]. \t  -42.53912119237931 \t -5.941358973875296\n",
            "17     \t [ 2.03329423 -5.05867865]. \t  -30.614521793243703 \t -5.941358973875296\n",
            "18     \t [ 2.01810994 -0.14504323]. \t  -8.031550045845442 \t -5.941358973875296\n",
            "19     \t [-1.57134152  3.45736691]. \t  -53.077924786753506 \t -5.941358973875296\n",
            "20     \t [-1.29280879 -0.66040486]. \t  -30.101701268846345 \t -5.941358973875296\n"
          ]
        }
      ]
    },
    {
      "cell_type": "code",
      "metadata": {
        "id": "k6GjFBr1JTJf",
        "colab": {
          "base_uri": "https://localhost:8080/"
        },
        "outputId": "7fb9008b-1f56-4daa-fb57-1b9ceacc1fab"
      },
      "source": [
        "### EXACT GP EI GRADIENTS\n",
        "\n",
        "np.random.seed(run_num_14)\n",
        "surrogate_exact_14 = dGaussianProcess(cov_func, optimize=opt)\n",
        "\n",
        "exact_14 = dGPGO(surrogate_exact_14, Acquisition_new(util_grad_exact), objfunc, param)\n",
        "exact_14.run(init_evals=n_init, max_iter=iters)\n"
      ],
      "execution_count": 47,
      "outputs": [
        {
          "output_type": "stream",
          "name": "stdout",
          "text": [
            "Evaluation \t Proposed point \t  Current eval. \t Best eval.\n",
            "init   \t [0.14277984 2.79721013]. \t  -18.683085263052178 \t -10.423838604848608\n",
            "init   \t [ 3.7931795  -5.03759925]. \t  -47.36348784446708 \t -10.423838604848608\n",
            "init   \t [-1.94830412  4.68586229]. \t  -40.19779334078636 \t -10.423838604848608\n",
            "init   \t [ 0.13431513 -1.86076749]. \t  -10.423838604848608 \t -10.423838604848608\n",
            "init   \t [ 0.40140736 -2.85434939]. \t  -30.353548735049138 \t -10.423838604848608\n",
            "1      \t [-5.12 -5.12]. \t  -57.849427451571785 \t -10.423838604848608\n",
            "2      \t [5.12 5.12]. \t  -57.849427451571785 \t -10.423838604848608\n",
            "3      \t [-5.12       0.3554545]. \t  -45.20267174597326 \t -10.423838604848608\n",
            "4      \t [ 5.12       -0.06050559]. \t  -29.64235096159119 \t -10.423838604848608\n",
            "5      \t [-1.59760721 -0.03747418]. \t  -21.00729741791264 \t -10.423838604848608\n",
            "6      \t [1.79491608 0.4967805 ]. \t  -30.68162147690724 \t -10.423838604848608\n",
            "7      \t [1.87787595 5.12      ]. \t  -35.25345026511546 \t -10.423838604848608\n",
            "8      \t [-1.80994928 -5.04827621]. \t  -35.53925065831883 \t -10.423838604848608\n",
            "9      \t [-5.06157339  3.61612883]. \t  -56.889012092629585 \t -10.423838604848608\n",
            "10     \t [-3.02959592 -2.48157285]. \t  -35.442105283962036 \t -10.423838604848608\n",
            "11     \t [ 3.51570207 -2.2415151 ]. \t  -46.80305315310876 \t -10.423838604848608\n",
            "12     \t [4.16375742 2.3423489 ]. \t  -43.148305508694925 \t -10.423838604848608\n",
            "13     \t [ 0.98246389 -5.11374128]. \t  -29.623047665420717 \t -10.423838604848608\n",
            "14     \t [-2.38939505  1.93044175]. \t  -28.056608697775033 \t -10.423838604848608\n",
            "15     \t [-5.12       -2.27888973]. \t  -45.92329560648389 \t -10.423838604848608\n",
            "16     \t [-0.03425494 -0.58285027]. \t  -19.247005039838818 \t -10.423838604848608\n",
            "17     \t [1.74009817 3.01422413]. \t  -22.775148832978836 \t -10.423838604848608\n",
            "18     \t [ 5.12       -2.57733492]. \t  -54.40987413939273 \t -10.423838604848608\n",
            "19     \t [-0.2760982   1.40550921]. \t  -31.97289239141655 \t -10.423838604848608\n",
            "20     \t [0.11698657 5.12      ]. \t  -31.520415904255046 \t -10.423838604848608\n"
          ]
        }
      ]
    },
    {
      "cell_type": "code",
      "metadata": {
        "id": "dPS8WB3aJTN6",
        "colab": {
          "base_uri": "https://localhost:8080/"
        },
        "outputId": "36fdd176-c502-4067-98f4-098110772415"
      },
      "source": [
        "### EXACT GP EI GRADIENTS\n",
        "\n",
        "np.random.seed(run_num_15)\n",
        "surrogate_exact_15 = dGaussianProcess(cov_func, optimize=opt)\n",
        "\n",
        "exact_15 = dGPGO(surrogate_exact_15, Acquisition_new(util_grad_exact), objfunc, param)\n",
        "exact_15.run(init_evals=n_init, max_iter=iters)\n"
      ],
      "execution_count": 48,
      "outputs": [
        {
          "output_type": "stream",
          "name": "stdout",
          "text": [
            "Evaluation \t Proposed point \t  Current eval. \t Best eval.\n",
            "init   \t [ 3.57189322 -3.28810573]. \t  -54.938487770767075 \t -7.990765314336182\n",
            "init   \t [-4.56332069 -1.41784631]. \t  -60.750198753157726 \t -7.990765314336182\n",
            "init   \t [-2.29989449  0.3072023 ]. \t  -31.984997246800887 \t -7.990765314336182\n",
            "init   \t [-1.9873903  -2.00218256]. \t  -7.990765314336182 \t -7.990765314336182\n",
            "init   \t [-3.97576933 -2.5610341 ]. \t  -41.754957769694336 \t -7.990765314336182\n",
            "1      \t [5.12 5.12]. \t  -57.849427451571785 \t -7.990765314336182\n",
            "2      \t [-0.35157246  5.12      ]. \t  -45.00581276669298 \t -7.990765314336182\n",
            "3      \t [2.59308841 1.16950306]. \t  -31.5846889471892 \t -7.990765314336182\n",
            "4      \t [-5.04628403  4.05419228]. \t  -42.89546382913226 \t -7.990765314336182\n",
            "5      \t [-1.61688397 -5.12      ]. \t  -48.96133288911423 \t -7.990765314336182\n",
            "6      \t [ 0.44121736 -1.25803038]. \t  -31.607312983087795 \t -7.990765314336182\n",
            "7      \t [-5.12 -5.12]. \t  -57.849427451571785 \t -7.990765314336182\n",
            "8      \t [ 1.2456693 -5.12     ]. \t  -40.20433313144186 \t -7.990765314336182\n",
            "9      \t [5.12       2.17724979]. \t  -39.25162615156958 \t -7.990765314336182\n",
            "10     \t [ 5.12       -0.68442226]. \t  -43.397915184703436 \t -7.990765314336182\n",
            "11     \t [-0.38004684  2.30015163]. \t  -35.82606318222432 \t -7.990765314336182\n",
            "12     \t [2.33574772 5.12      ]. \t  -49.511227102850995 \t -7.990765314336182\n",
            "13     \t [-5.12        1.30392631]. \t  -43.948766474177724 \t -7.990765314336182\n",
            "14     \t [-2.73026125  4.84418965]. \t  -46.57889543636715 \t -7.990765314336182\n",
            "15     \t [-0.07680533 -3.24805925]. \t  -21.575854048238483 \t -7.990765314336182\n",
            "16     \t [-3.11619201  2.63209789]. \t  -35.93601127557162 \t -7.990765314336182\n",
            "17     \t [ 2.52174401 -0.97887479]. \t  -27.312168210194926 \t -7.990765314336182\n",
            "18     \t [2.29784905 2.9360215 ]. \t  -27.658843488656743 \t -7.990765314336182\n",
            "19     \t [-1.91582211 -1.51531788]. \t  -27.286683075973095 \t -7.990765314336182\n",
            "20     \t [0.40275477 0.56899058]. \t  -37.75174557442825 \t -7.990765314336182\n"
          ]
        }
      ]
    },
    {
      "cell_type": "code",
      "metadata": {
        "id": "SHWdp2giJTRm",
        "colab": {
          "base_uri": "https://localhost:8080/"
        },
        "outputId": "22802ca5-7372-4f8e-bd9a-b2e3490b66ef"
      },
      "source": [
        "### EXACT GP EI GRADIENTS\n",
        "\n",
        "np.random.seed(run_num_16)\n",
        "surrogate_exact_16 = dGaussianProcess(cov_func, optimize=opt)\n",
        "\n",
        "exact_16 = dGPGO(surrogate_exact_16, Acquisition_new(util_grad_exact), objfunc, param)\n",
        "exact_16.run(init_evals=n_init, max_iter=iters)\n"
      ],
      "execution_count": 49,
      "outputs": [
        {
          "output_type": "stream",
          "name": "stdout",
          "text": [
            "Evaluation \t Proposed point \t  Current eval. \t Best eval.\n",
            "init   \t [-2.83349935  0.23719262]. \t  -22.27210456874814 \t -22.27210456874814\n",
            "init   \t [ 0.51918292 -4.65303603]. \t  -57.57021076017139 \t -22.27210456874814\n",
            "init   \t [-1.42613673 -2.83565116]. \t  -33.89145899403749 \t -22.27210456874814\n",
            "init   \t [ 1.9325559  -3.44339021]. \t  -35.85029586225333 \t -22.27210456874814\n",
            "init   \t [-4.39987336  4.51595121]. \t  -77.78800881964571 \t -22.27210456874814\n",
            "1      \t [5.12 5.12]. \t  -57.849427451571785 \t -22.27210456874814\n",
            "2      \t [5.12     0.135655]. \t  -32.36092416035443 \t -22.27210456874814\n",
            "3      \t [0.43755248 3.98750253]. \t  -35.362499449628345 \t -22.27210456874814\n",
            "4      \t [-5.12 -5.12]. \t  -57.849427451571785 \t -22.27210456874814\n",
            "5      \t [0.82489184 0.43273641]. \t  -25.453994050976398 \t -22.27210456874814\n",
            "6      \t [ 5.12       -3.28421464]. \t  -51.84402802347754 \t -22.27210456874814\n",
            "7      \t [3.32959209 2.37372691]. \t  -48.53010477562541 \t -22.27210456874814\n",
            "8      \t [-5.12       -1.66515839]. \t  -46.77931194180387 \t -22.27210456874814\n",
            "9      \t [-1.71606396  2.40743392]. \t  -39.21255035279723 \t -22.27210456874814\n",
            "10     \t [ 2.65599753 -0.87579062]. \t  -26.28411036890629 \t -22.27210456874814\n",
            "11     \t [-2.60716934 -4.99986157]. \t  -49.613228734070205 \t -22.27210456874814\n",
            "12     \t [-4.89116878  1.40739184]. \t  -46.50688984115988 \t -22.27210456874814\n",
            "13     \t [2.5144228  4.99963382]. \t  -51.27765398645569 \t -22.27210456874814\n",
            "14     \t [-0.56850118 -0.91857261]. \t  \u001b[92m-21.535426466115887\u001b[0m \t -21.535426466115887\n",
            "15     \t [-3.08499977 -2.15451709]. \t  \u001b[92m-19.90583659364337\u001b[0m \t -19.90583659364337\n",
            "16     \t [0.86038623 2.0401946 ]. \t  \u001b[92m-8.826955359022332\u001b[0m \t -8.826955359022332\n",
            "17     \t [-0.97549301  4.42098301]. \t  -39.407650229806194 \t -8.826955359022332\n",
            "18     \t [5.04429792 2.68535401]. \t  -46.99197259634724 \t -8.826955359022332\n",
            "19     \t [0.80826757 2.1304797 ]. \t  -14.788949806592377 \t -8.826955359022332\n",
            "20     \t [ 3.43065642 -4.61953025]. \t  -69.48507650651499 \t -8.826955359022332\n"
          ]
        }
      ]
    },
    {
      "cell_type": "code",
      "metadata": {
        "id": "yU2SflSsJTUs",
        "colab": {
          "base_uri": "https://localhost:8080/"
        },
        "outputId": "aa351fbc-e680-4bc5-cd54-2141bc1480a0"
      },
      "source": [
        "### EXACT GP EI GRADIENTS\n",
        "\n",
        "np.random.seed(run_num_17)\n",
        "surrogate_exact_17 = dGaussianProcess(cov_func, optimize=opt)\n",
        "\n",
        "exact_17 = dGPGO(surrogate_exact_17, Acquisition_new(util_grad_exact), objfunc, param)\n",
        "exact_17.run(init_evals=n_init, max_iter=iters)\n"
      ],
      "execution_count": 50,
      "outputs": [
        {
          "output_type": "stream",
          "name": "stdout",
          "text": [
            "Evaluation \t Proposed point \t  Current eval. \t Best eval.\n",
            "init   \t [-2.10263037  0.31320838]. \t  -20.395145364684023 \t -20.395145364684023\n",
            "init   \t [-3.15882714 -4.42470033]. \t  -53.03732051200137 \t -20.395145364684023\n",
            "init   \t [2.93873111 1.60085526]. \t  -29.989224812583537 \t -20.395145364684023\n",
            "init   \t [1.40821398 0.77417363]. \t  -29.451989415882437 \t -20.395145364684023\n",
            "init   \t [-4.71999574 -1.45598869]. \t  -55.89242173757483 \t -20.395145364684023\n",
            "1      \t [ 4.96008736 -4.44720822]. \t  -64.14783177084814 \t -20.395145364684023\n",
            "2      \t [-1.51638461  5.12      ]. \t  -51.17119182678712 \t -20.395145364684023\n",
            "3      \t [5.12 5.12]. \t  -57.849427451571785 \t -20.395145364684023\n",
            "4      \t [ 0.84045277 -5.12      ]. \t  -34.24880863486532 \t -20.395145364684023\n",
            "5      \t [ 5.12       -0.71699151]. \t  -41.497938380298294 \t -20.395145364684023\n",
            "6      \t [-4.62723796  2.47167833]. \t  -64.3335530036359 \t -20.395145364684023\n",
            "7      \t [1.79768893 5.08864246]. \t  -37.68554466706061 \t -20.395145364684023\n",
            "8      \t [ 0.03574683 -2.1119669 ]. \t  \u001b[92m-7.087087482637143\u001b[0m \t -7.087087482637143\n",
            "9      \t [-0.28416496  2.3784656 ]. \t  -35.09139964235426 \t -7.087087482637143\n",
            "10     \t [ 2.44600398 -2.36091836]. \t  -47.40545321517986 \t -7.087087482637143\n",
            "11     \t [-1.32205218 -2.30059461]. \t  -34.54034380555261 \t -7.087087482637143\n",
            "12     \t [3.93980815 3.14996969]. \t  -30.27168346777847 \t -7.087087482637143\n",
            "13     \t [ 0.2051792  -0.83369043]. \t  -12.938622987783631 \t -7.087087482637143\n",
            "14     \t [5.12       2.19365077]. \t  -40.26979797473841 \t -7.087087482637143\n",
            "15     \t [-5.12 -5.12]. \t  -57.849427451571785 \t -7.087087482637143\n",
            "16     \t [-3.59631837  4.43651874]. \t  -70.05519238755127 \t -7.087087482637143\n",
            "17     \t [ 2.70580749 -5.09279351]. \t  -47.65115926609391 \t -7.087087482637143\n",
            "18     \t [-1.13738561 -5.12      ]. \t  -33.71841547314666 \t -7.087087482637143\n",
            "19     \t [-2.25090078  2.01396246]. \t  -19.21765337306128 \t -7.087087482637143\n",
            "20     \t [ 0.36609594 -2.76295723]. \t  -33.61934481275535 \t -7.087087482637143\n"
          ]
        }
      ]
    },
    {
      "cell_type": "code",
      "metadata": {
        "id": "es0KCh_0JTgY",
        "colab": {
          "base_uri": "https://localhost:8080/"
        },
        "outputId": "cf0d8e56-d37b-4ea4-eda3-87271472b45c"
      },
      "source": [
        "### EXACT GP EI GRADIENTS\n",
        "\n",
        "np.random.seed(run_num_18)\n",
        "surrogate_exact_18 = dGaussianProcess(cov_func, optimize=opt)\n",
        "\n",
        "exact_18 = dGPGO(surrogate_exact_18, Acquisition_new(util_grad_exact), objfunc, param)\n",
        "exact_18.run(init_evals=n_init, max_iter=iters)\n"
      ],
      "execution_count": 51,
      "outputs": [
        {
          "output_type": "stream",
          "name": "stdout",
          "text": [
            "Evaluation \t Proposed point \t  Current eval. \t Best eval.\n",
            "init   \t [1.53983224 0.05584255]. \t  -22.67190580753611 \t -22.67190580753611\n",
            "init   \t [ 3.87687906 -3.25795609]. \t  -38.990099416711985 \t -22.67190580753611\n",
            "init   \t [3.60686662 2.56139557]. \t  -56.66448698782129 \t -22.67190580753611\n",
            "init   \t [1.70088108 4.99604939]. \t  -40.894059318256296 \t -22.67190580753611\n",
            "init   \t [-2.48864335 -4.83014733]. \t  -54.6725749848372 \t -22.67190580753611\n",
            "1      \t [-5.00718904  2.9174042 ]. \t  -34.91005808676357 \t -22.67190580753611\n",
            "2      \t [-2.5172874  -0.57162906]. \t  -45.60877814255882 \t -22.67190580753611\n",
            "3      \t [-1.16270398  2.84418166]. \t  \u001b[92m-18.648963451263015\u001b[0m \t -18.648963451263015\n",
            "4      \t [ 0.94316799 -5.09984298]. \t  -29.432805795811603 \t -18.648963451263015\n",
            "5      \t [-5.12       -3.24013922]. \t  -48.804041321202234 \t -18.648963451263015\n",
            "6      \t [5.12 5.12]. \t  -57.849427451571785 \t -18.648963451263015\n",
            "7      \t [ 5.0674446 -0.0834171]. \t  -27.912867477339045 \t -18.648963451263015\n",
            "8      \t [-0.25335679 -2.14069554]. \t  \u001b[92m-18.517158783096896\u001b[0m \t -18.517158783096896\n",
            "9      \t [-2.05931647  4.63332738]. \t  -43.086601890136585 \t -18.517158783096896\n",
            "10     \t [-3.06190771  1.84446368]. \t  \u001b[92m-17.931421372298946\u001b[0m \t -17.931421372298946\n",
            "11     \t [1.11479303 1.78314352]. \t  \u001b[92m-14.845210391160801\u001b[0m \t -14.845210391160801\n",
            "12     \t [ 1.71784862 -2.11999715]. \t  -22.162001901863057 \t -14.845210391160801\n",
            "13     \t [-4.80195874 -0.59143393]. \t  -48.59628221685004 \t -14.845210391160801\n",
            "14     \t [-0.53176123  0.77156943]. \t  -29.328522489472544 \t -14.845210391160801\n",
            "15     \t [-4.93311462  4.65004427]. \t  -62.70427715056073 \t -14.845210391160801\n",
            "16     \t [-5.12 -5.12]. \t  -57.849427451571785 \t -14.845210391160801\n",
            "17     \t [ 2.72046965 -5.12      ]. \t  -48.170487699126674 \t -14.845210391160801\n",
            "18     \t [ 3.33245696 -0.83504526]. \t  -31.661946079117488 \t -14.845210391160801\n",
            "19     \t [0.57391536 3.10987091]. \t  -31.231173310299315 \t -14.845210391160801\n",
            "20     \t [-2.26254551 -2.63464349]. \t  -39.477804480023735 \t -14.845210391160801\n"
          ]
        }
      ]
    },
    {
      "cell_type": "code",
      "metadata": {
        "id": "Pput2LHPIwBM",
        "colab": {
          "base_uri": "https://localhost:8080/"
        },
        "outputId": "9e1d49be-d567-47fa-f707-430596daa507"
      },
      "source": [
        "### EXACT GP EI GRADIENTS\n",
        "\n",
        "np.random.seed(run_num_19)\n",
        "surrogate_exact_19 = dGaussianProcess(cov_func, optimize=opt)\n",
        "\n",
        "exact_19 = dGPGO(surrogate_exact_19, Acquisition_new(util_grad_exact), objfunc, param)\n",
        "exact_19.run(init_evals=n_init, max_iter=iters)\n"
      ],
      "execution_count": 52,
      "outputs": [
        {
          "output_type": "stream",
          "name": "stdout",
          "text": [
            "Evaluation \t Proposed point \t  Current eval. \t Best eval.\n",
            "init   \t [-4.12125592  2.6751971 ]. \t  -41.43485596167127 \t -25.867003842388073\n",
            "init   \t [-2.59135515 -3.70553152]. \t  -51.60126035043229 \t -25.867003842388073\n",
            "init   \t [-1.72598719 -4.27008445]. \t  -43.97430127029199 \t -25.867003842388073\n",
            "init   \t [1.76104531 3.13952049]. \t  -25.867003842388073 \t -25.867003842388073\n",
            "init   \t [4.9432772  1.38916592]. \t  -44.66580306903559 \t -25.867003842388073\n",
            "1      \t [ 4.82659077 -3.73107955]. \t  -53.77420826130772 \t -25.867003842388073\n",
            "2      \t [-0.85223298  0.10979632]. \t  \u001b[92m-7.034295421249853\u001b[0m \t -7.034295421249853\n",
            "3      \t [5.12 5.12]. \t  -57.849427451571785 \t -7.034295421249853\n",
            "4      \t [-5.11255451 -1.1055489 ]. \t  -31.87825221324293 \t -7.034295421249853\n",
            "5      \t [ 1.56245442 -1.92118448]. \t  -26.573427226374314 \t -7.034295421249853\n",
            "6      \t [-0.99816082  5.12      ]. \t  -29.921706441277976 \t -7.034295421249853\n",
            "7      \t [-5.12 -5.12]. \t  -57.849427451571785 \t -7.034295421249853\n",
            "8      \t [ 1.12567266 -4.75215274]. \t  -36.67371911414847 \t -7.034295421249853\n",
            "9      \t [1.68317888 0.62310428]. \t  -34.45236889131721 \t -7.034295421249853\n",
            "10     \t [-2.40310073 -0.59519869]. \t  -42.59607919100554 \t -7.034295421249853\n",
            "11     \t [ 4.37192188 -1.12361348]. \t  -40.17680477282326 \t -7.034295421249853\n",
            "12     \t [-1.23056645  2.36148278]. \t  -32.31862845217985 \t -7.034295421249853\n",
            "13     \t [2.22723588 5.12      ]. \t  -42.459853628011516 \t -7.034295421249853\n",
            "14     \t [-0.26027683 -0.50805793]. \t  -30.958316434331728 \t -7.034295421249853\n",
            "15     \t [-3.22528198  5.02903501]. \t  -44.31274076545213 \t -7.034295421249853\n",
            "16     \t [3.75694845 3.0015662 ]. \t  -32.688100085209165 \t -7.034295421249853\n",
            "17     \t [-4.09158866  0.57809145]. \t  -37.506119306177524 \t -7.034295421249853\n",
            "18     \t [-4.80222988 -2.9471014 ]. \t  -39.0709946478967 \t -7.034295421249853\n",
            "19     \t [ 2.67201076 -3.47065735]. \t  -53.72207498291635 \t -7.034295421249853\n",
            "20     \t [-0.63974251 -2.30613855]. \t  -35.568842943636255 \t -7.034295421249853\n"
          ]
        }
      ]
    },
    {
      "cell_type": "code",
      "metadata": {
        "id": "aw3xvSryIwDi",
        "colab": {
          "base_uri": "https://localhost:8080/"
        },
        "outputId": "07373390-93a5-42a8-c4f0-3856b5c601b9"
      },
      "source": [
        "### EXACT GP EI GRADIENTS\n",
        "\n",
        "np.random.seed(run_num_20)\n",
        "surrogate_exact_20 = dGaussianProcess(cov_func, optimize=opt)\n",
        "\n",
        "exact_20 = dGPGO(surrogate_exact_20, Acquisition_new(util_grad_exact), objfunc, param)\n",
        "exact_20.run(init_evals=n_init, max_iter=iters)\n"
      ],
      "execution_count": 53,
      "outputs": [
        {
          "output_type": "stream",
          "name": "stdout",
          "text": [
            "Evaluation \t Proposed point \t  Current eval. \t Best eval.\n",
            "init   \t [0.9024594  4.07258857]. \t  -20.24255447774017 \t -17.388691338534382\n",
            "init   \t [4.00927467 3.23417577]. \t  -35.55852254546393 \t -17.388691338534382\n",
            "init   \t [-4.75249064  1.96359764]. \t  -36.54582989269194 \t -17.388691338534382\n",
            "init   \t [-1.24230715  0.18955208]. \t  -17.388691338534382 \t -17.388691338534382\n",
            "init   \t [ 1.61742301 -3.13497377]. \t  -33.22932870179905 \t -17.388691338534382\n",
            "1      \t [-5.12 -5.12]. \t  -57.849427451571785 \t -17.388691338534382\n",
            "2      \t [ 5.12       -0.90774061]. \t  -31.382342682975256 \t -17.388691338534382\n",
            "3      \t [-2.32334252  4.6958363 ]. \t  -55.23356041730585 \t -17.388691338534382\n",
            "4      \t [-1.42211353 -5.12      ]. \t  -49.77338827837844 \t -17.388691338534382\n",
            "5      \t [-5.12       -1.50067346]. \t  -51.176645044235315 \t -17.388691338534382\n",
            "6      \t [ 4.69062041 -4.43553031]. \t  -74.51155070056905 \t -17.388691338534382\n",
            "7      \t [ 2.29239594 -0.05852186]. \t  -18.559374477490238 \t -17.388691338534382\n",
            "8      \t [-2.42559783 -1.87740665]. \t  -31.158056009228403 \t -17.388691338534382\n",
            "9      \t [5.12 5.12]. \t  -57.849427451571785 \t -17.388691338534382\n",
            "10     \t [0.18139001 1.90444121]. \t  \u001b[92m-11.230171657563433\u001b[0m \t -11.230171657563433\n",
            "11     \t [-2.15244084  2.00602785]. \t  -12.91122713519545 \t -11.230171657563433\n",
            "12     \t [-4.45972891  4.76447717]. \t  -71.36263247821208 \t -11.230171657563433\n",
            "13     \t [ 0.15341581 -1.06922862]. \t  \u001b[92m-6.395106375361564\u001b[0m \t -6.395106375361564\n",
            "14     \t [2.72519987 5.11567279]. \t  -47.675674200900765 \t -6.395106375361564\n",
            "15     \t [ 1.43903964 -5.12      ]. \t  -50.27093147415809 \t -6.395106375361564\n",
            "16     \t [1.7791486  2.07541448]. \t  -16.75326382883497 \t -6.395106375361564\n",
            "17     \t [5.12       1.62936311]. \t  -48.45412530443412 \t -6.395106375361564\n",
            "18     \t [ 2.99277789 -1.58227928]. \t  -30.16379904190177 \t -6.395106375361564\n",
            "19     \t [-0.32178688 -2.62366949]. \t  -38.4762312539592 \t -6.395106375361564\n",
            "20     \t [ 0.52995263 -0.31805349]. \t  -34.3522517147469 \t -6.395106375361564\n"
          ]
        }
      ]
    },
    {
      "cell_type": "code",
      "metadata": {
        "id": "qNqAB3vBTPqb",
        "colab": {
          "base_uri": "https://localhost:8080/"
        },
        "outputId": "3dff554c-a173-4f56-f54d-b67866741242"
      },
      "source": [
        "end_exact = time.time()\n",
        "end_exact\n",
        "\n",
        "time_exact = end_exact - start_exact\n",
        "time_exact"
      ],
      "execution_count": 54,
      "outputs": [
        {
          "output_type": "execute_result",
          "data": {
            "text/plain": [
              "546.3223662376404"
            ]
          },
          "metadata": {},
          "execution_count": 54
        }
      ]
    },
    {
      "cell_type": "code",
      "metadata": {
        "id": "JPQzjdBZQxfg",
        "colab": {
          "base_uri": "https://localhost:8080/"
        },
        "outputId": "3a6f8dc0-cc3a-4e48-cf7b-cfa29a19fd72"
      },
      "source": [
        "### Simple regret minimization: run number = 1\n",
        "\n",
        "approx_output_1 = np.append(np.min(approx_1.GP.y[0:n_init]),approx_1.GP.y[n_init:(n_init+iters)]) \n",
        "exact_output_1 = np.append(np.min(exact_1.GP.y[0:n_init]),exact_1.GP.y[n_init:(n_init+iters)]) \n",
        "\n",
        "regret_approx_1 = np.log(-approx_output_1 + y_global_orig)\n",
        "regret_exact_1 = np.log(-exact_output_1 + y_global_orig)\n",
        "\n",
        "simple_regret_approx_1 = min_max_array(regret_approx_1)\n",
        "simple_regret_exact_1 = min_max_array(regret_exact_1)\n",
        "\n",
        "min_simple_regret_approx_1 = min(simple_regret_approx_1)\n",
        "min_simple_regret_exact_1 = min(simple_regret_exact_1)\n",
        "\n",
        "min_simple_regret_approx_1, min_simple_regret_exact_1"
      ],
      "execution_count": 55,
      "outputs": [
        {
          "output_type": "execute_result",
          "data": {
            "text/plain": [
              "(2.428414417933715, 3.234132949796956)"
            ]
          },
          "metadata": {},
          "execution_count": 55
        }
      ]
    },
    {
      "cell_type": "code",
      "metadata": {
        "id": "94yBw5tqQxfk",
        "colab": {
          "base_uri": "https://localhost:8080/"
        },
        "outputId": "4a83638a-49f2-4bc6-913b-53bae01d284d"
      },
      "source": [
        "### Simple regret minimization: run number = 2\n",
        "\n",
        "approx_output_2 = np.append(np.min(approx_2.GP.y[0:n_init]),approx_2.GP.y[n_init:(n_init+iters)]) \n",
        "exact_output_2 = np.append(np.min(exact_2.GP.y[0:n_init]),exact_2.GP.y[n_init:(n_init+iters)]) \n",
        "\n",
        "regret_approx_2 = np.log(-approx_output_2 + y_global_orig)\n",
        "regret_exact_2 = np.log(-exact_output_2 + y_global_orig)\n",
        "\n",
        "simple_regret_approx_2 = min_max_array(regret_approx_2)\n",
        "simple_regret_exact_2 = min_max_array(regret_exact_2)\n",
        "\n",
        "min_simple_regret_approx_2 = min(simple_regret_approx_2)\n",
        "min_simple_regret_exact_2 = min(simple_regret_exact_2)\n",
        "\n",
        "min_simple_regret_approx_2, min_simple_regret_exact_2"
      ],
      "execution_count": 56,
      "outputs": [
        {
          "output_type": "execute_result",
          "data": {
            "text/plain": [
              "(2.7976303276454995, 3.061941887989625)"
            ]
          },
          "metadata": {},
          "execution_count": 56
        }
      ]
    },
    {
      "cell_type": "code",
      "metadata": {
        "id": "Bu6SBWALQxfl",
        "colab": {
          "base_uri": "https://localhost:8080/"
        },
        "outputId": "a53db4bf-80a7-452b-9930-26f682db28cc"
      },
      "source": [
        "### Simple regret minimization: run number = 3\n",
        "\n",
        "approx_output_3 = np.append(np.min(approx_3.GP.y[0:n_init]),approx_3.GP.y[n_init:(n_init+iters)]) \n",
        "exact_output_3 = np.append(np.min(exact_3.GP.y[0:n_init]),exact_3.GP.y[n_init:(n_init+iters)]) \n",
        "\n",
        "regret_approx_3 = np.log(-approx_output_3 + y_global_orig)\n",
        "regret_exact_3 = np.log(-exact_output_3 + y_global_orig)\n",
        "\n",
        "simple_regret_approx_3 = min_max_array(regret_approx_3)\n",
        "simple_regret_exact_3 = min_max_array(regret_exact_3)\n",
        "\n",
        "min_simple_regret_approx_3 = min(simple_regret_approx_3)\n",
        "min_simple_regret_exact_3 = min(simple_regret_exact_3)\n",
        "\n",
        "min_simple_regret_approx_3, min_simple_regret_exact_3"
      ],
      "execution_count": 57,
      "outputs": [
        {
          "output_type": "execute_result",
          "data": {
            "text/plain": [
              "(2.80696530217626, 2.5915918324197467)"
            ]
          },
          "metadata": {},
          "execution_count": 57
        }
      ]
    },
    {
      "cell_type": "code",
      "metadata": {
        "id": "AZm0jgxkQxfm",
        "colab": {
          "base_uri": "https://localhost:8080/"
        },
        "outputId": "a0cf815d-eb08-4508-a18d-1141a7d90330"
      },
      "source": [
        "### Simple regret minimization: run number = 4\n",
        "\n",
        "approx_output_4 = np.append(np.min(approx_4.GP.y[0:n_init]),approx_4.GP.y[n_init:(n_init+iters)]) \n",
        "exact_output_4 = np.append(np.min(exact_4.GP.y[0:n_init]),exact_4.GP.y[n_init:(n_init+iters)]) \n",
        "\n",
        "regret_approx_4 = np.log(-approx_output_4 + y_global_orig)\n",
        "regret_exact_4 = np.log(-exact_output_4 + y_global_orig)\n",
        "\n",
        "simple_regret_approx_4 = min_max_array(regret_approx_4)\n",
        "simple_regret_exact_4 = min_max_array(regret_exact_4)\n",
        "\n",
        "min_simple_regret_approx_4 = min(simple_regret_approx_4)\n",
        "min_simple_regret_exact_4 = min(simple_regret_exact_4)\n",
        "\n",
        "min_simple_regret_approx_4, min_simple_regret_exact_4"
      ],
      "execution_count": 58,
      "outputs": [
        {
          "output_type": "execute_result",
          "data": {
            "text/plain": [
              "(2.287179444120714, 2.6488079738442325)"
            ]
          },
          "metadata": {},
          "execution_count": 58
        }
      ]
    },
    {
      "cell_type": "code",
      "metadata": {
        "id": "NONPm8JIQxfn",
        "colab": {
          "base_uri": "https://localhost:8080/"
        },
        "outputId": "7575576a-03b6-45f8-93a8-92798798c011"
      },
      "source": [
        "### Simple regret minimization: run number = 5\n",
        "\n",
        "approx_output_5 = np.append(np.min(approx_5.GP.y[0:n_init]),approx_5.GP.y[n_init:(n_init+iters)]) \n",
        "exact_output_5 = np.append(np.min(exact_5.GP.y[0:n_init]),exact_5.GP.y[n_init:(n_init+iters)]) \n",
        "\n",
        "regret_approx_5 = np.log(-approx_output_5 + y_global_orig)\n",
        "regret_exact_5 = np.log(-exact_output_5 + y_global_orig)\n",
        "\n",
        "simple_regret_approx_5 = min_max_array(regret_approx_5)\n",
        "simple_regret_exact_5 = min_max_array(regret_exact_5)\n",
        "\n",
        "min_simple_regret_approx_5 = min(simple_regret_approx_5)\n",
        "min_simple_regret_exact_5 = min(simple_regret_exact_5)\n",
        "\n",
        "min_simple_regret_approx_5, min_simple_regret_exact_5"
      ],
      "execution_count": 59,
      "outputs": [
        {
          "output_type": "execute_result",
          "data": {
            "text/plain": [
              "(2.097415431335847, 1.8950186245715421)"
            ]
          },
          "metadata": {},
          "execution_count": 59
        }
      ]
    },
    {
      "cell_type": "code",
      "metadata": {
        "id": "CJv3lPuSQxfp",
        "colab": {
          "base_uri": "https://localhost:8080/"
        },
        "outputId": "be01fc6c-0cd6-4e2f-9cb5-b227a4417649"
      },
      "source": [
        "### Simple regret minimization: run number = 6\n",
        "\n",
        "approx_output_6 = np.append(np.min(approx_6.GP.y[0:n_init]),approx_6.GP.y[n_init:(n_init+iters)]) \n",
        "exact_output_6 = np.append(np.min(exact_6.GP.y[0:n_init]),exact_6.GP.y[n_init:(n_init+iters)]) \n",
        "\n",
        "regret_approx_6 = np.log(-approx_output_6 + y_global_orig)\n",
        "regret_exact_6 = np.log(-exact_output_6 + y_global_orig)\n",
        "\n",
        "simple_regret_approx_6 = min_max_array(regret_approx_6)\n",
        "simple_regret_exact_6 = min_max_array(regret_exact_6)\n",
        "\n",
        "min_simple_regret_approx_6 = min(simple_regret_approx_6)\n",
        "min_simple_regret_exact_6 = min(simple_regret_exact_6)\n",
        "\n",
        "min_simple_regret_approx_6, min_simple_regret_exact_6"
      ],
      "execution_count": 60,
      "outputs": [
        {
          "output_type": "execute_result",
          "data": {
            "text/plain": [
              "(2.305694655903746, 2.003118798019695)"
            ]
          },
          "metadata": {},
          "execution_count": 60
        }
      ]
    },
    {
      "cell_type": "code",
      "metadata": {
        "id": "quR2ZyApQxfq",
        "colab": {
          "base_uri": "https://localhost:8080/"
        },
        "outputId": "d2b6be18-acc2-426e-f462-3a215e657cb7"
      },
      "source": [
        "### Simple regret minimization: run number = 7\n",
        "\n",
        "approx_output_7 = np.append(np.min(approx_7.GP.y[0:n_init]),approx_7.GP.y[n_init:(n_init+iters)]) \n",
        "exact_output_7 = np.append(np.min(exact_7.GP.y[0:n_init]),exact_7.GP.y[n_init:(n_init+iters)]) \n",
        "\n",
        "regret_approx_7 = np.log(-approx_output_7 + y_global_orig)\n",
        "regret_exact_7 = np.log(-exact_output_7 + y_global_orig)\n",
        "\n",
        "simple_regret_approx_7 = min_max_array(regret_approx_7)\n",
        "simple_regret_exact_7 = min_max_array(regret_exact_7)\n",
        "\n",
        "min_simple_regret_approx_7 = min(simple_regret_approx_7)\n",
        "min_simple_regret_exact_7 = min(simple_regret_exact_7)\n",
        "\n",
        "min_simple_regret_approx_7, min_simple_regret_exact_7"
      ],
      "execution_count": 61,
      "outputs": [
        {
          "output_type": "execute_result",
          "data": {
            "text/plain": [
              "(2.6518817974585294, 2.966555283550939)"
            ]
          },
          "metadata": {},
          "execution_count": 61
        }
      ]
    },
    {
      "cell_type": "code",
      "metadata": {
        "id": "99wY5nK6Qxfr",
        "colab": {
          "base_uri": "https://localhost:8080/"
        },
        "outputId": "12e216b7-be31-4562-d782-bb0c1f80ef86"
      },
      "source": [
        "### Simple regret minimization: run number = 8\n",
        "\n",
        "approx_output_8 = np.append(np.min(approx_8.GP.y[0:n_init]),approx_8.GP.y[n_init:(n_init+iters)]) \n",
        "exact_output_8 = np.append(np.min(exact_8.GP.y[0:n_init]),exact_8.GP.y[n_init:(n_init+iters)]) \n",
        "\n",
        "regret_approx_8 = np.log(-approx_output_8 + y_global_orig)\n",
        "regret_exact_8 = np.log(-exact_output_8 + y_global_orig)\n",
        "\n",
        "simple_regret_approx_8 = min_max_array(regret_approx_8)\n",
        "simple_regret_exact_8 = min_max_array(regret_exact_8)\n",
        "\n",
        "min_simple_regret_approx_8 = min(simple_regret_approx_8)\n",
        "min_simple_regret_exact_8 = min(simple_regret_exact_8)\n",
        "\n",
        "min_simple_regret_approx_8, min_simple_regret_exact_8"
      ],
      "execution_count": 62,
      "outputs": [
        {
          "output_type": "execute_result",
          "data": {
            "text/plain": [
              "(2.6985195431387656, 2.1925571922207423)"
            ]
          },
          "metadata": {},
          "execution_count": 62
        }
      ]
    },
    {
      "cell_type": "code",
      "metadata": {
        "id": "qt0P5t9qQxfs",
        "colab": {
          "base_uri": "https://localhost:8080/"
        },
        "outputId": "ea0b13fa-b6be-4ff3-acf4-77abb04552f4"
      },
      "source": [
        "### Simple regret minimization: run number = 9\n",
        "\n",
        "approx_output_9 = np.append(np.min(approx_9.GP.y[0:n_init]),approx_9.GP.y[n_init:(n_init+iters)]) \n",
        "exact_output_9 = np.append(np.min(exact_9.GP.y[0:n_init]),exact_9.GP.y[n_init:(n_init+iters)]) \n",
        "\n",
        "regret_approx_9 = np.log(-approx_output_9 + y_global_orig)\n",
        "regret_exact_9 = np.log(-exact_output_9 + y_global_orig)\n",
        "\n",
        "simple_regret_approx_9 = min_max_array(regret_approx_9)\n",
        "simple_regret_exact_9 = min_max_array(regret_exact_9)\n",
        "\n",
        "min_simple_regret_approx_9 = min(simple_regret_approx_9)\n",
        "min_simple_regret_exact_9 = min(simple_regret_exact_9)\n",
        "\n",
        "min_simple_regret_approx_9, min_simple_regret_exact_9"
      ],
      "execution_count": 63,
      "outputs": [
        {
          "output_type": "execute_result",
          "data": {
            "text/plain": [
              "(2.567441283581772, 1.8834654359413545)"
            ]
          },
          "metadata": {},
          "execution_count": 63
        }
      ]
    },
    {
      "cell_type": "code",
      "metadata": {
        "id": "vx8to9stQxft",
        "colab": {
          "base_uri": "https://localhost:8080/"
        },
        "outputId": "24532bca-9a94-4abe-86f7-a2422d5e1860"
      },
      "source": [
        "### Simple regret minimization: run number = 10\n",
        "\n",
        "approx_output_10 = np.append(np.min(approx_10.GP.y[0:n_init]),approx_10.GP.y[n_init:(n_init+iters)]) \n",
        "exact_output_10 = np.append(np.min(exact_10.GP.y[0:n_init]),exact_10.GP.y[n_init:(n_init+iters)]) \n",
        "\n",
        "regret_approx_10 = np.log(-approx_output_10 + y_global_orig)\n",
        "regret_exact_10 = np.log(-exact_output_10 + y_global_orig)\n",
        "\n",
        "simple_regret_approx_10 = min_max_array(regret_approx_10)\n",
        "simple_regret_exact_10 = min_max_array(regret_exact_10)\n",
        "\n",
        "min_simple_regret_approx_10 = min(simple_regret_approx_10)\n",
        "min_simple_regret_exact_10 = min(simple_regret_exact_10)\n",
        "\n",
        "min_simple_regret_approx_10, min_simple_regret_exact_10"
      ],
      "execution_count": 64,
      "outputs": [
        {
          "output_type": "execute_result",
          "data": {
            "text/plain": [
              "(2.5241876948704935, 1.1954175839504204)"
            ]
          },
          "metadata": {},
          "execution_count": 64
        }
      ]
    },
    {
      "cell_type": "code",
      "metadata": {
        "id": "d-FGzWyHQxfu",
        "colab": {
          "base_uri": "https://localhost:8080/"
        },
        "outputId": "417971ba-4923-4dfd-8f42-bd3ecaefdb12"
      },
      "source": [
        "### Simple regret minimization: run number = 11\n",
        "\n",
        "approx_output_11 = np.append(np.min(approx_11.GP.y[0:n_init]),approx_11.GP.y[n_init:(n_init+iters)]) \n",
        "exact_output_11 = np.append(np.min(exact_11.GP.y[0:n_init]),exact_11.GP.y[n_init:(n_init+iters)]) \n",
        "\n",
        "regret_approx_11 = np.log(-approx_output_11 + y_global_orig)\n",
        "regret_exact_11 = np.log(-exact_output_11 + y_global_orig)\n",
        "\n",
        "simple_regret_approx_11 = min_max_array(regret_approx_11)\n",
        "simple_regret_exact_11 = min_max_array(regret_exact_11)\n",
        "\n",
        "min_simple_regret_approx_11 = min(simple_regret_approx_11)\n",
        "min_simple_regret_exact_11 = min(simple_regret_exact_11)\n",
        "\n",
        "min_simple_regret_approx_11, min_simple_regret_exact_11"
      ],
      "execution_count": 65,
      "outputs": [
        {
          "output_type": "execute_result",
          "data": {
            "text/plain": [
              "(2.489162504120838, 3.0642366506467815)"
            ]
          },
          "metadata": {},
          "execution_count": 65
        }
      ]
    },
    {
      "cell_type": "code",
      "metadata": {
        "id": "SvtsssyjQxfv",
        "colab": {
          "base_uri": "https://localhost:8080/"
        },
        "outputId": "375241b8-b1ee-45b2-dfcf-74df5301187d"
      },
      "source": [
        "### Simple regret minimization: run number = 12\n",
        "\n",
        "approx_output_12 = np.append(np.min(approx_12.GP.y[0:n_init]),approx_12.GP.y[n_init:(n_init+iters)]) \n",
        "exact_output_12 = np.append(np.min(exact_12.GP.y[0:n_init]),exact_12.GP.y[n_init:(n_init+iters)]) \n",
        "\n",
        "regret_approx_12 = np.log(-approx_output_12 + y_global_orig)\n",
        "regret_exact_12 = np.log(-exact_output_12 + y_global_orig)\n",
        "\n",
        "simple_regret_approx_12 = min_max_array(regret_approx_12)\n",
        "simple_regret_exact_12 = min_max_array(regret_exact_12)\n",
        "\n",
        "min_simple_regret_approx_12 = min(simple_regret_approx_12)\n",
        "min_simple_regret_exact_12 = min(simple_regret_exact_12)\n",
        "\n",
        "min_simple_regret_approx_12, min_simple_regret_exact_12"
      ],
      "execution_count": 66,
      "outputs": [
        {
          "output_type": "execute_result",
          "data": {
            "text/plain": [
              "(2.1667236180810416, 3.132173714040624)"
            ]
          },
          "metadata": {},
          "execution_count": 66
        }
      ]
    },
    {
      "cell_type": "code",
      "metadata": {
        "id": "K6OiGcHkQxfw",
        "colab": {
          "base_uri": "https://localhost:8080/"
        },
        "outputId": "6d6d30a6-7db8-4b1a-a93f-639a07b52516"
      },
      "source": [
        "### Simple regret minimization: run number = 13\n",
        "\n",
        "approx_output_13 = np.append(np.min(approx_13.GP.y[0:n_init]),approx_13.GP.y[n_init:(n_init+iters)]) \n",
        "exact_output_13 = np.append(np.min(exact_13.GP.y[0:n_init]),exact_13.GP.y[n_init:(n_init+iters)]) \n",
        "\n",
        "regret_approx_13 = np.log(-approx_output_13 + y_global_orig)\n",
        "regret_exact_13 = np.log(-exact_output_13 + y_global_orig)\n",
        "\n",
        "simple_regret_approx_13 = min_max_array(regret_approx_13)\n",
        "simple_regret_exact_13 = min_max_array(regret_exact_13)\n",
        "\n",
        "min_simple_regret_approx_13 = min(simple_regret_approx_13)\n",
        "min_simple_regret_exact_13 = min(simple_regret_exact_13)\n",
        "\n",
        "min_simple_regret_approx_13, min_simple_regret_exact_13"
      ],
      "execution_count": 67,
      "outputs": [
        {
          "output_type": "execute_result",
          "data": {
            "text/plain": [
              "(2.763745217817617, 1.7819378906882937)"
            ]
          },
          "metadata": {},
          "execution_count": 67
        }
      ]
    },
    {
      "cell_type": "code",
      "metadata": {
        "id": "ogML73shQxfx",
        "colab": {
          "base_uri": "https://localhost:8080/"
        },
        "outputId": "0aefb4a2-5334-4657-fbd8-1bdb0681b271"
      },
      "source": [
        "### Simple regret minimization: run number = 14\n",
        "\n",
        "approx_output_14 = np.append(np.min(approx_14.GP.y[0:n_init]),approx_14.GP.y[n_init:(n_init+iters)]) \n",
        "exact_output_14 = np.append(np.min(exact_14.GP.y[0:n_init]),exact_14.GP.y[n_init:(n_init+iters)]) \n",
        "\n",
        "regret_approx_14 = np.log(-approx_output_14 + y_global_orig)\n",
        "regret_exact_14 = np.log(-exact_output_14 + y_global_orig)\n",
        "\n",
        "simple_regret_approx_14 = min_max_array(regret_approx_14)\n",
        "simple_regret_exact_14 = min_max_array(regret_exact_14)\n",
        "\n",
        "min_simple_regret_approx_14 = min(simple_regret_approx_14)\n",
        "min_simple_regret_exact_14 = min(simple_regret_exact_14)\n",
        "\n",
        "min_simple_regret_approx_14, min_simple_regret_exact_14"
      ],
      "execution_count": 68,
      "outputs": [
        {
          "output_type": "execute_result",
          "data": {
            "text/plain": [
              "(2.5466824976248654, 2.9573554662835693)"
            ]
          },
          "metadata": {},
          "execution_count": 68
        }
      ]
    },
    {
      "cell_type": "code",
      "metadata": {
        "id": "9Eg7gFT9Qxfx",
        "colab": {
          "base_uri": "https://localhost:8080/"
        },
        "outputId": "78b506ab-f45c-483f-e57e-970731486537"
      },
      "source": [
        "### Simple regret minimization: run number = 15\n",
        "\n",
        "approx_output_15 = np.append(np.min(approx_15.GP.y[0:n_init]),approx_15.GP.y[n_init:(n_init+iters)]) \n",
        "exact_output_15 = np.append(np.min(exact_15.GP.y[0:n_init]),exact_15.GP.y[n_init:(n_init+iters)]) \n",
        "\n",
        "regret_approx_15 = np.log(-approx_output_15 + y_global_orig)\n",
        "regret_exact_15 = np.log(-exact_output_15 + y_global_orig)\n",
        "\n",
        "simple_regret_approx_15 = min_max_array(regret_approx_15)\n",
        "simple_regret_exact_15 = min_max_array(regret_exact_15)\n",
        "\n",
        "min_simple_regret_approx_15 = min(simple_regret_approx_15)\n",
        "min_simple_regret_exact_15 = min(simple_regret_exact_15)\n",
        "\n",
        "min_simple_regret_approx_15, min_simple_regret_exact_15"
      ],
      "execution_count": 69,
      "outputs": [
        {
          "output_type": "execute_result",
          "data": {
            "text/plain": [
              "(3.074015861660149, 3.071574821272395)"
            ]
          },
          "metadata": {},
          "execution_count": 69
        }
      ]
    },
    {
      "cell_type": "code",
      "metadata": {
        "id": "lIAC1U7ZQxfy",
        "colab": {
          "base_uri": "https://localhost:8080/"
        },
        "outputId": "608f5b6c-bc57-4553-8b03-d112a1f0ce15"
      },
      "source": [
        "### Simple regret minimization: run number = 16\n",
        "\n",
        "approx_output_16 = np.append(np.min(approx_16.GP.y[0:n_init]),approx_16.GP.y[n_init:(n_init+iters)]) \n",
        "exact_output_16 = np.append(np.min(exact_16.GP.y[0:n_init]),exact_16.GP.y[n_init:(n_init+iters)]) \n",
        "\n",
        "regret_approx_16 = np.log(-approx_output_16 + y_global_orig)\n",
        "regret_exact_16 = np.log(-exact_output_16 + y_global_orig)\n",
        "\n",
        "simple_regret_approx_16 = min_max_array(regret_approx_16)\n",
        "simple_regret_exact_16 = min_max_array(regret_exact_16)\n",
        "\n",
        "min_simple_regret_approx_16 = min(simple_regret_approx_16)\n",
        "min_simple_regret_exact_16 = min(simple_regret_exact_16)\n",
        "\n",
        "min_simple_regret_approx_16, min_simple_regret_exact_16"
      ],
      "execution_count": 70,
      "outputs": [
        {
          "output_type": "execute_result",
          "data": {
            "text/plain": [
              "(0.7562202428562653, 2.1778101487037183)"
            ]
          },
          "metadata": {},
          "execution_count": 70
        }
      ]
    },
    {
      "cell_type": "code",
      "metadata": {
        "id": "bGott36OQxfz",
        "colab": {
          "base_uri": "https://localhost:8080/"
        },
        "outputId": "efdf676b-1f8e-4835-b19f-80ddebbdf4fd"
      },
      "source": [
        "### Simple regret minimization: run number = 17\n",
        "\n",
        "approx_output_17 = np.append(np.min(approx_17.GP.y[0:n_init]),approx_17.GP.y[n_init:(n_init+iters)]) \n",
        "exact_output_17 = np.append(np.min(exact_17.GP.y[0:n_init]),exact_17.GP.y[n_init:(n_init+iters)]) \n",
        "\n",
        "regret_approx_17 = np.log(-approx_output_17 + y_global_orig)\n",
        "regret_exact_17 = np.log(-exact_output_17 + y_global_orig)\n",
        "\n",
        "simple_regret_approx_17 = min_max_array(regret_approx_17)\n",
        "simple_regret_exact_17 = min_max_array(regret_exact_17)\n",
        "\n",
        "min_simple_regret_approx_17 = min(simple_regret_approx_17)\n",
        "min_simple_regret_exact_17 = min(simple_regret_exact_17)\n",
        "\n",
        "min_simple_regret_approx_17, min_simple_regret_exact_17"
      ],
      "execution_count": 71,
      "outputs": [
        {
          "output_type": "execute_result",
          "data": {
            "text/plain": [
              "(2.3974636197364982, 1.9582744638519938)"
            ]
          },
          "metadata": {},
          "execution_count": 71
        }
      ]
    },
    {
      "cell_type": "code",
      "metadata": {
        "id": "Cz9ZYMBMQxfz",
        "colab": {
          "base_uri": "https://localhost:8080/"
        },
        "outputId": "f2073995-4538-4022-f3c0-d01c5eade272"
      },
      "source": [
        "### Simple regret minimization: run number = 18\n",
        "\n",
        "approx_output_18 = np.append(np.min(approx_18.GP.y[0:n_init]),approx_18.GP.y[n_init:(n_init+iters)]) \n",
        "exact_output_18 = np.append(np.min(exact_18.GP.y[0:n_init]),exact_18.GP.y[n_init:(n_init+iters)]) \n",
        "\n",
        "regret_approx_18 = np.log(-approx_output_18 + y_global_orig)\n",
        "regret_exact_18 = np.log(-exact_output_18 + y_global_orig)\n",
        "\n",
        "simple_regret_approx_18 = min_max_array(regret_approx_18)\n",
        "simple_regret_exact_18 = min_max_array(regret_exact_18)\n",
        "\n",
        "min_simple_regret_approx_18 = min(simple_regret_approx_18)\n",
        "min_simple_regret_exact_18 = min(simple_regret_exact_18)\n",
        "\n",
        "min_simple_regret_approx_18, min_simple_regret_exact_18"
      ],
      "execution_count": 72,
      "outputs": [
        {
          "output_type": "execute_result",
          "data": {
            "text/plain": [
              "(2.7046005717826946, 2.6976772806421243)"
            ]
          },
          "metadata": {},
          "execution_count": 72
        }
      ]
    },
    {
      "cell_type": "code",
      "metadata": {
        "id": "OBfpWOHNQxf0",
        "colab": {
          "base_uri": "https://localhost:8080/"
        },
        "outputId": "6e2a5359-661b-4d38-e231-d8abb47d0449"
      },
      "source": [
        "### Simple regret minimization: run number = 19\n",
        "\n",
        "approx_output_19 = np.append(np.min(approx_19.GP.y[0:n_init]),approx_19.GP.y[n_init:(n_init+iters)]) \n",
        "exact_output_19 = np.append(np.min(exact_19.GP.y[0:n_init]),exact_19.GP.y[n_init:(n_init+iters)]) \n",
        "\n",
        "regret_approx_19 = np.log(-approx_output_19 + y_global_orig)\n",
        "regret_exact_19 = np.log(-exact_output_19 + y_global_orig)\n",
        "\n",
        "simple_regret_approx_19 = min_max_array(regret_approx_19)\n",
        "simple_regret_exact_19 = min_max_array(regret_exact_19)\n",
        "\n",
        "min_simple_regret_approx_19 = min(simple_regret_approx_19)\n",
        "min_simple_regret_exact_19 = min(simple_regret_exact_19)\n",
        "\n",
        "min_simple_regret_approx_19, min_simple_regret_exact_19"
      ],
      "execution_count": 73,
      "outputs": [
        {
          "output_type": "execute_result",
          "data": {
            "text/plain": [
              "(2.9283943409099593, 1.95079753221021)"
            ]
          },
          "metadata": {},
          "execution_count": 73
        }
      ]
    },
    {
      "cell_type": "code",
      "metadata": {
        "id": "BE1AJ7NsQxf0",
        "colab": {
          "base_uri": "https://localhost:8080/"
        },
        "outputId": "adceda32-31e5-4cde-84b9-49b8f470a0d9"
      },
      "source": [
        "### Simple regret minimization: run number = 20\n",
        "\n",
        "approx_output_20 = np.append(np.min(approx_20.GP.y[0:n_init]),approx_20.GP.y[n_init:(n_init+iters)]) \n",
        "exact_output_20 = np.append(np.min(exact_20.GP.y[0:n_init]),exact_20.GP.y[n_init:(n_init+iters)]) \n",
        "\n",
        "regret_approx_20 = np.log(-approx_output_20 + y_global_orig)\n",
        "regret_exact_20 = np.log(-exact_output_20 + y_global_orig)\n",
        "\n",
        "simple_regret_approx_20 = min_max_array(regret_approx_20)\n",
        "simple_regret_exact_20 = min_max_array(regret_exact_20)\n",
        "\n",
        "min_simple_regret_approx_20 = min(simple_regret_approx_20)\n",
        "min_simple_regret_exact_20 = min(simple_regret_exact_20)\n",
        "\n",
        "min_simple_regret_approx_20, min_simple_regret_exact_20"
      ],
      "execution_count": 74,
      "outputs": [
        {
          "output_type": "execute_result",
          "data": {
            "text/plain": [
              "(2.9201744478941047, 1.8555330690381309)"
            ]
          },
          "metadata": {},
          "execution_count": 74
        }
      ]
    },
    {
      "cell_type": "code",
      "metadata": {
        "id": "bpX-bKAHQxf1"
      },
      "source": [
        "# Iteration1 :\n",
        "\n",
        "slice1 = 0\n",
        "\n",
        "approx1 = [simple_regret_approx_1[slice1],\n",
        "       simple_regret_approx_2[slice1],\n",
        "       simple_regret_approx_3[slice1],\n",
        "       simple_regret_approx_4[slice1],\n",
        "       simple_regret_approx_5[slice1],\n",
        "       simple_regret_approx_6[slice1],\n",
        "       simple_regret_approx_7[slice1],\n",
        "       simple_regret_approx_8[slice1],\n",
        "       simple_regret_approx_9[slice1],\n",
        "       simple_regret_approx_10[slice1],\n",
        "       simple_regret_approx_11[slice1],\n",
        "       simple_regret_approx_12[slice1],\n",
        "       simple_regret_approx_13[slice1],\n",
        "       simple_regret_approx_14[slice1],\n",
        "       simple_regret_approx_15[slice1],\n",
        "       simple_regret_approx_16[slice1],\n",
        "       simple_regret_approx_17[slice1],\n",
        "       simple_regret_approx_18[slice1],\n",
        "       simple_regret_approx_19[slice1],\n",
        "       simple_regret_approx_20[slice1]]\n",
        "\n",
        "exact1 = [simple_regret_exact_1[slice1],\n",
        "       simple_regret_exact_2[slice1],\n",
        "       simple_regret_exact_3[slice1],\n",
        "       simple_regret_exact_4[slice1],\n",
        "       simple_regret_exact_5[slice1],\n",
        "       simple_regret_exact_6[slice1],\n",
        "       simple_regret_exact_7[slice1],\n",
        "       simple_regret_exact_8[slice1],\n",
        "       simple_regret_exact_9[slice1],\n",
        "       simple_regret_exact_10[slice1],\n",
        "       simple_regret_exact_11[slice1],\n",
        "       simple_regret_exact_12[slice1],\n",
        "       simple_regret_exact_13[slice1],\n",
        "       simple_regret_exact_14[slice1],\n",
        "       simple_regret_exact_15[slice1],\n",
        "       simple_regret_exact_16[slice1],\n",
        "       simple_regret_exact_17[slice1],\n",
        "       simple_regret_exact_18[slice1],\n",
        "       simple_regret_exact_19[slice1],\n",
        "       simple_regret_exact_20[slice1]]\n",
        "\n",
        "approx1_results = pd.DataFrame(approx1).sort_values(by=[0], ascending=False)\n",
        "exact1_results = pd.DataFrame(exact1).sort_values(by=[0], ascending=False)\n",
        "\n",
        "### Best simple regret minimization IQR - approx:\n",
        "lower_approx1 = np.asarray(approx1_results[4:5][0])[0]\n",
        "median_approx1 = np.asarray(approx1_results[9:10][0])[0]\n",
        "upper_approx1 = np.asarray(approx1_results[14:15][0])[0]\n",
        "\n",
        "lower_exact1 = np.asarray(exact1_results[4:5][0])[0]\n",
        "median_exact1 = np.asarray(exact1_results[9:10][0])[0]\n",
        "upper_exact1 = np.asarray(exact1_results[14:15][0])[0]"
      ],
      "execution_count": 75,
      "outputs": []
    },
    {
      "cell_type": "code",
      "metadata": {
        "id": "CgIkJA1xQxf2"
      },
      "source": [
        "# Iteration11 :\n",
        "\n",
        "slice11 = 10\n",
        "\n",
        "approx11 = [simple_regret_approx_1[slice11],\n",
        "       simple_regret_approx_2[slice11],\n",
        "       simple_regret_approx_3[slice11],\n",
        "       simple_regret_approx_4[slice11],\n",
        "       simple_regret_approx_5[slice11],\n",
        "       simple_regret_approx_6[slice11],\n",
        "       simple_regret_approx_7[slice11],\n",
        "       simple_regret_approx_8[slice11],\n",
        "       simple_regret_approx_9[slice11],\n",
        "       simple_regret_approx_10[slice11],\n",
        "       simple_regret_approx_11[slice11],\n",
        "       simple_regret_approx_12[slice11],\n",
        "       simple_regret_approx_13[slice11],\n",
        "       simple_regret_approx_14[slice11],\n",
        "       simple_regret_approx_15[slice11],\n",
        "       simple_regret_approx_16[slice11],\n",
        "       simple_regret_approx_17[slice11],\n",
        "       simple_regret_approx_18[slice11],\n",
        "       simple_regret_approx_19[slice11],\n",
        "       simple_regret_approx_20[slice11]]\n",
        "\n",
        "exact11 = [simple_regret_exact_1[slice11],\n",
        "       simple_regret_exact_2[slice11],\n",
        "       simple_regret_exact_3[slice11],\n",
        "       simple_regret_exact_4[slice11],\n",
        "       simple_regret_exact_5[slice11],\n",
        "       simple_regret_exact_6[slice11],\n",
        "       simple_regret_exact_7[slice11],\n",
        "       simple_regret_exact_8[slice11],\n",
        "       simple_regret_exact_9[slice11],\n",
        "       simple_regret_exact_10[slice11],\n",
        "       simple_regret_exact_11[slice11],\n",
        "       simple_regret_exact_12[slice11],\n",
        "       simple_regret_exact_13[slice11],\n",
        "       simple_regret_exact_14[slice11],\n",
        "       simple_regret_exact_15[slice11],\n",
        "       simple_regret_exact_16[slice11],\n",
        "       simple_regret_exact_17[slice11],\n",
        "       simple_regret_exact_18[slice11],\n",
        "       simple_regret_exact_19[slice11],\n",
        "       simple_regret_exact_20[slice11]]\n",
        "\n",
        "approx11_results = pd.DataFrame(approx11).sort_values(by=[0], ascending=False)\n",
        "exact11_results = pd.DataFrame(exact11).sort_values(by=[0], ascending=False)\n",
        "\n",
        "### Best simple regret minimization IQR - approx:\n",
        "lower_approx11 = np.asarray(approx11_results[4:5][0])[0]\n",
        "median_approx11 = np.asarray(approx11_results[9:10][0])[0]\n",
        "upper_approx11 = np.asarray(approx11_results[14:15][0])[0]\n",
        "\n",
        "lower_exact11 = np.asarray(exact11_results[4:5][0])[0]\n",
        "median_exact11 = np.asarray(exact11_results[9:10][0])[0]\n",
        "upper_exact11 = np.asarray(exact11_results[14:15][0])[0]"
      ],
      "execution_count": 76,
      "outputs": []
    },
    {
      "cell_type": "code",
      "metadata": {
        "id": "MFePDfGuQxf2"
      },
      "source": [
        "# Iteration21 :\n",
        "\n",
        "slice21 = 20\n",
        "\n",
        "approx21 = [simple_regret_approx_1[slice21],\n",
        "       simple_regret_approx_2[slice21],\n",
        "       simple_regret_approx_3[slice21],\n",
        "       simple_regret_approx_4[slice21],\n",
        "       simple_regret_approx_5[slice21],\n",
        "       simple_regret_approx_6[slice21],\n",
        "       simple_regret_approx_7[slice21],\n",
        "       simple_regret_approx_8[slice21],\n",
        "       simple_regret_approx_9[slice21],\n",
        "       simple_regret_approx_10[slice21],\n",
        "       simple_regret_approx_11[slice21],\n",
        "       simple_regret_approx_12[slice21],\n",
        "       simple_regret_approx_13[slice21],\n",
        "       simple_regret_approx_14[slice21],\n",
        "       simple_regret_approx_15[slice21],\n",
        "       simple_regret_approx_16[slice21],\n",
        "       simple_regret_approx_17[slice21],\n",
        "       simple_regret_approx_18[slice21],\n",
        "       simple_regret_approx_19[slice21],\n",
        "       simple_regret_approx_20[slice21]]\n",
        "\n",
        "exact21 = [simple_regret_exact_1[slice21],\n",
        "       simple_regret_exact_2[slice21],\n",
        "       simple_regret_exact_3[slice21],\n",
        "       simple_regret_exact_4[slice21],\n",
        "       simple_regret_exact_5[slice21],\n",
        "       simple_regret_exact_6[slice21],\n",
        "       simple_regret_exact_7[slice21],\n",
        "       simple_regret_exact_8[slice21],\n",
        "       simple_regret_exact_9[slice21],\n",
        "       simple_regret_exact_10[slice21],\n",
        "       simple_regret_exact_11[slice21],\n",
        "       simple_regret_exact_12[slice21],\n",
        "       simple_regret_exact_13[slice21],\n",
        "       simple_regret_exact_14[slice21],\n",
        "       simple_regret_exact_15[slice21],\n",
        "       simple_regret_exact_16[slice21],\n",
        "       simple_regret_exact_17[slice21],\n",
        "       simple_regret_exact_18[slice21],\n",
        "       simple_regret_exact_19[slice21],\n",
        "       simple_regret_exact_20[slice21]]\n",
        "\n",
        "approx21_results = pd.DataFrame(approx21).sort_values(by=[0], ascending=False)\n",
        "exact21_results = pd.DataFrame(exact21).sort_values(by=[0], ascending=False)\n",
        "\n",
        "### Best simple regret minimization IQR - approx:\n",
        "lower_approx21 = np.asarray(approx21_results[4:5][0])[0]\n",
        "median_approx21 = np.asarray(approx21_results[9:10][0])[0]\n",
        "upper_approx21 = np.asarray(approx21_results[14:15][0])[0]\n",
        "\n",
        "lower_exact21 = np.asarray(exact21_results[4:5][0])[0]\n",
        "median_exact21 = np.asarray(exact21_results[9:10][0])[0]\n",
        "upper_exact21 = np.asarray(exact21_results[14:15][0])[0]"
      ],
      "execution_count": 77,
      "outputs": []
    },
    {
      "cell_type": "code",
      "metadata": {
        "id": "PrRDB1kfQxf3"
      },
      "source": [
        "# Iteration2 :\n",
        "\n",
        "slice2 = 1\n",
        "\n",
        "approx2 = [simple_regret_approx_1[slice2],\n",
        "       simple_regret_approx_2[slice2],\n",
        "       simple_regret_approx_3[slice2],\n",
        "       simple_regret_approx_4[slice2],\n",
        "       simple_regret_approx_5[slice2],\n",
        "       simple_regret_approx_6[slice2],\n",
        "       simple_regret_approx_7[slice2],\n",
        "       simple_regret_approx_8[slice2],\n",
        "       simple_regret_approx_9[slice2],\n",
        "       simple_regret_approx_10[slice2],\n",
        "       simple_regret_approx_11[slice2],\n",
        "       simple_regret_approx_12[slice2],\n",
        "       simple_regret_approx_13[slice2],\n",
        "       simple_regret_approx_14[slice2],\n",
        "       simple_regret_approx_15[slice2],\n",
        "       simple_regret_approx_16[slice2],\n",
        "       simple_regret_approx_17[slice2],\n",
        "       simple_regret_approx_18[slice2],\n",
        "       simple_regret_approx_19[slice2],\n",
        "       simple_regret_approx_20[slice2]]\n",
        "\n",
        "exact2 = [simple_regret_exact_1[slice2],\n",
        "       simple_regret_exact_2[slice2],\n",
        "       simple_regret_exact_3[slice2],\n",
        "       simple_regret_exact_4[slice2],\n",
        "       simple_regret_exact_5[slice2],\n",
        "       simple_regret_exact_6[slice2],\n",
        "       simple_regret_exact_7[slice2],\n",
        "       simple_regret_exact_8[slice2],\n",
        "       simple_regret_exact_9[slice2],\n",
        "       simple_regret_exact_10[slice2],\n",
        "       simple_regret_exact_11[slice2],\n",
        "       simple_regret_exact_12[slice2],\n",
        "       simple_regret_exact_13[slice2],\n",
        "       simple_regret_exact_14[slice2],\n",
        "       simple_regret_exact_15[slice2],\n",
        "       simple_regret_exact_16[slice2],\n",
        "       simple_regret_exact_17[slice2],\n",
        "       simple_regret_exact_18[slice2],\n",
        "       simple_regret_exact_19[slice2],\n",
        "       simple_regret_exact_20[slice2]]\n",
        "\n",
        "approx2_results = pd.DataFrame(approx2).sort_values(by=[0], ascending=False)\n",
        "exact2_results = pd.DataFrame(exact2).sort_values(by=[0], ascending=False)\n",
        "\n",
        "### Best simple regret minimization IQR - approx:\n",
        "lower_approx2 = np.asarray(approx2_results[4:5][0])[0]\n",
        "median_approx2 = np.asarray(approx2_results[9:10][0])[0]\n",
        "upper_approx2 = np.asarray(approx2_results[14:15][0])[0]\n",
        "\n",
        "lower_exact2 = np.asarray(exact2_results[4:5][0])[0]\n",
        "median_exact2 = np.asarray(exact2_results[9:10][0])[0]\n",
        "upper_exact2 = np.asarray(exact2_results[14:15][0])[0]"
      ],
      "execution_count": 78,
      "outputs": []
    },
    {
      "cell_type": "code",
      "metadata": {
        "id": "B8ncJDYeQxf3"
      },
      "source": [
        "# Iteration12 :\n",
        "\n",
        "slice12 = 11\n",
        "\n",
        "approx12 = [simple_regret_approx_1[slice12],\n",
        "       simple_regret_approx_2[slice12],\n",
        "       simple_regret_approx_3[slice12],\n",
        "       simple_regret_approx_4[slice12],\n",
        "       simple_regret_approx_5[slice12],\n",
        "       simple_regret_approx_6[slice12],\n",
        "       simple_regret_approx_7[slice12],\n",
        "       simple_regret_approx_8[slice12],\n",
        "       simple_regret_approx_9[slice12],\n",
        "       simple_regret_approx_10[slice12],\n",
        "       simple_regret_approx_11[slice12],\n",
        "       simple_regret_approx_12[slice12],\n",
        "       simple_regret_approx_13[slice12],\n",
        "       simple_regret_approx_14[slice12],\n",
        "       simple_regret_approx_15[slice12],\n",
        "       simple_regret_approx_16[slice12],\n",
        "       simple_regret_approx_17[slice12],\n",
        "       simple_regret_approx_18[slice12],\n",
        "       simple_regret_approx_19[slice12],\n",
        "       simple_regret_approx_20[slice12]]\n",
        "\n",
        "exact12 = [simple_regret_exact_1[slice12],\n",
        "       simple_regret_exact_2[slice12],\n",
        "       simple_regret_exact_3[slice12],\n",
        "       simple_regret_exact_4[slice12],\n",
        "       simple_regret_exact_5[slice12],\n",
        "       simple_regret_exact_6[slice12],\n",
        "       simple_regret_exact_7[slice12],\n",
        "       simple_regret_exact_8[slice12],\n",
        "       simple_regret_exact_9[slice12],\n",
        "       simple_regret_exact_10[slice12],\n",
        "       simple_regret_exact_11[slice12],\n",
        "       simple_regret_exact_12[slice12],\n",
        "       simple_regret_exact_13[slice12],\n",
        "       simple_regret_exact_14[slice12],\n",
        "       simple_regret_exact_15[slice12],\n",
        "       simple_regret_exact_16[slice12],\n",
        "       simple_regret_exact_17[slice12],\n",
        "       simple_regret_exact_18[slice12],\n",
        "       simple_regret_exact_19[slice12],\n",
        "       simple_regret_exact_20[slice12]]\n",
        "\n",
        "approx12_results = pd.DataFrame(approx12).sort_values(by=[0], ascending=False)\n",
        "exact12_results = pd.DataFrame(exact12).sort_values(by=[0], ascending=False)\n",
        "\n",
        "### Best simple regret minimization IQR - approx:\n",
        "lower_approx12 = np.asarray(approx12_results[4:5][0])[0]\n",
        "median_approx12 = np.asarray(approx12_results[9:10][0])[0]\n",
        "upper_approx12 = np.asarray(approx12_results[14:15][0])[0]\n",
        "\n",
        "lower_exact12 = np.asarray(exact12_results[4:5][0])[0]\n",
        "median_exact12 = np.asarray(exact12_results[9:10][0])[0]\n",
        "upper_exact12 = np.asarray(exact12_results[14:15][0])[0]"
      ],
      "execution_count": 79,
      "outputs": []
    },
    {
      "cell_type": "code",
      "metadata": {
        "id": "Jn4KpGvcQxf4"
      },
      "source": [
        "# Iteration3 :\n",
        "\n",
        "slice3 = 2\n",
        "\n",
        "approx3 = [simple_regret_approx_1[slice3],\n",
        "       simple_regret_approx_2[slice3],\n",
        "       simple_regret_approx_3[slice3],\n",
        "       simple_regret_approx_4[slice3],\n",
        "       simple_regret_approx_5[slice3],\n",
        "       simple_regret_approx_6[slice3],\n",
        "       simple_regret_approx_7[slice3],\n",
        "       simple_regret_approx_8[slice3],\n",
        "       simple_regret_approx_9[slice3],\n",
        "       simple_regret_approx_10[slice3],\n",
        "       simple_regret_approx_11[slice3],\n",
        "       simple_regret_approx_12[slice3],\n",
        "       simple_regret_approx_13[slice3],\n",
        "       simple_regret_approx_14[slice3],\n",
        "       simple_regret_approx_15[slice3],\n",
        "       simple_regret_approx_16[slice3],\n",
        "       simple_regret_approx_17[slice3],\n",
        "       simple_regret_approx_18[slice3],\n",
        "       simple_regret_approx_19[slice3],\n",
        "       simple_regret_approx_20[slice3]]\n",
        "\n",
        "exact3 = [simple_regret_exact_1[slice3],\n",
        "       simple_regret_exact_2[slice3],\n",
        "       simple_regret_exact_3[slice3],\n",
        "       simple_regret_exact_4[slice3],\n",
        "       simple_regret_exact_5[slice3],\n",
        "       simple_regret_exact_6[slice3],\n",
        "       simple_regret_exact_7[slice3],\n",
        "       simple_regret_exact_8[slice3],\n",
        "       simple_regret_exact_9[slice3],\n",
        "       simple_regret_exact_10[slice3],\n",
        "       simple_regret_exact_11[slice3],\n",
        "       simple_regret_exact_12[slice3],\n",
        "       simple_regret_exact_13[slice3],\n",
        "       simple_regret_exact_14[slice3],\n",
        "       simple_regret_exact_15[slice3],\n",
        "       simple_regret_exact_16[slice3],\n",
        "       simple_regret_exact_17[slice3],\n",
        "       simple_regret_exact_18[slice3],\n",
        "       simple_regret_exact_19[slice3],\n",
        "       simple_regret_exact_20[slice3]]\n",
        "\n",
        "approx3_results = pd.DataFrame(approx3).sort_values(by=[0], ascending=False)\n",
        "exact3_results = pd.DataFrame(exact3).sort_values(by=[0], ascending=False)\n",
        "\n",
        "### Best simple regret minimization IQR - approx:\n",
        "lower_approx3 = np.asarray(approx3_results[4:5][0])[0]\n",
        "median_approx3 = np.asarray(approx3_results[9:10][0])[0]\n",
        "upper_approx3 = np.asarray(approx3_results[14:15][0])[0]\n",
        "\n",
        "lower_exact3 = np.asarray(exact3_results[4:5][0])[0]\n",
        "median_exact3 = np.asarray(exact3_results[9:10][0])[0]\n",
        "upper_exact3 = np.asarray(exact3_results[14:15][0])[0]"
      ],
      "execution_count": 80,
      "outputs": []
    },
    {
      "cell_type": "code",
      "metadata": {
        "id": "plf83wxrQxf4"
      },
      "source": [
        "# Iteration13 :\n",
        "\n",
        "slice13 = 12\n",
        "\n",
        "approx13 = [simple_regret_approx_1[slice13],\n",
        "       simple_regret_approx_2[slice13],\n",
        "       simple_regret_approx_3[slice13],\n",
        "       simple_regret_approx_4[slice13],\n",
        "       simple_regret_approx_5[slice13],\n",
        "       simple_regret_approx_6[slice13],\n",
        "       simple_regret_approx_7[slice13],\n",
        "       simple_regret_approx_8[slice13],\n",
        "       simple_regret_approx_9[slice13],\n",
        "       simple_regret_approx_10[slice13],\n",
        "       simple_regret_approx_11[slice13],\n",
        "       simple_regret_approx_12[slice13],\n",
        "       simple_regret_approx_13[slice13],\n",
        "       simple_regret_approx_14[slice13],\n",
        "       simple_regret_approx_15[slice13],\n",
        "       simple_regret_approx_16[slice13],\n",
        "       simple_regret_approx_17[slice13],\n",
        "       simple_regret_approx_18[slice13],\n",
        "       simple_regret_approx_19[slice13],\n",
        "       simple_regret_approx_20[slice13]]\n",
        "\n",
        "exact13 = [simple_regret_exact_1[slice13],\n",
        "       simple_regret_exact_2[slice13],\n",
        "       simple_regret_exact_3[slice13],\n",
        "       simple_regret_exact_4[slice13],\n",
        "       simple_regret_exact_5[slice13],\n",
        "       simple_regret_exact_6[slice13],\n",
        "       simple_regret_exact_7[slice13],\n",
        "       simple_regret_exact_8[slice13],\n",
        "       simple_regret_exact_9[slice13],\n",
        "       simple_regret_exact_10[slice13],\n",
        "       simple_regret_exact_11[slice13],\n",
        "       simple_regret_exact_12[slice13],\n",
        "       simple_regret_exact_13[slice13],\n",
        "       simple_regret_exact_14[slice13],\n",
        "       simple_regret_exact_15[slice13],\n",
        "       simple_regret_exact_16[slice13],\n",
        "       simple_regret_exact_17[slice13],\n",
        "       simple_regret_exact_18[slice13],\n",
        "       simple_regret_exact_19[slice13],\n",
        "       simple_regret_exact_20[slice13]]\n",
        "\n",
        "approx13_results = pd.DataFrame(approx13).sort_values(by=[0], ascending=False)\n",
        "exact13_results = pd.DataFrame(exact13).sort_values(by=[0], ascending=False)\n",
        "\n",
        "### Best simple regret minimization IQR - approx:\n",
        "lower_approx13 = np.asarray(approx13_results[4:5][0])[0]\n",
        "median_approx13 = np.asarray(approx13_results[9:10][0])[0]\n",
        "upper_approx13 = np.asarray(approx13_results[14:15][0])[0]\n",
        "\n",
        "lower_exact13 = np.asarray(exact13_results[4:5][0])[0]\n",
        "median_exact13 = np.asarray(exact13_results[9:10][0])[0]\n",
        "upper_exact13 = np.asarray(exact13_results[14:15][0])[0]"
      ],
      "execution_count": 81,
      "outputs": []
    },
    {
      "cell_type": "code",
      "metadata": {
        "id": "9A7mlVvJQxf5"
      },
      "source": [
        "# Iteration4 :\n",
        "\n",
        "slice4 = 3\n",
        "\n",
        "approx4 = [simple_regret_approx_1[slice4],\n",
        "       simple_regret_approx_2[slice4],\n",
        "       simple_regret_approx_3[slice4],\n",
        "       simple_regret_approx_4[slice4],\n",
        "       simple_regret_approx_5[slice4],\n",
        "       simple_regret_approx_6[slice4],\n",
        "       simple_regret_approx_7[slice4],\n",
        "       simple_regret_approx_8[slice4],\n",
        "       simple_regret_approx_9[slice4],\n",
        "       simple_regret_approx_10[slice4],\n",
        "       simple_regret_approx_11[slice4],\n",
        "       simple_regret_approx_12[slice4],\n",
        "       simple_regret_approx_13[slice4],\n",
        "       simple_regret_approx_14[slice4],\n",
        "       simple_regret_approx_15[slice4],\n",
        "       simple_regret_approx_16[slice4],\n",
        "       simple_regret_approx_17[slice4],\n",
        "       simple_regret_approx_18[slice4],\n",
        "       simple_regret_approx_19[slice4],\n",
        "       simple_regret_approx_20[slice4]]\n",
        "\n",
        "exact4 = [simple_regret_exact_1[slice4],\n",
        "       simple_regret_exact_2[slice4],\n",
        "       simple_regret_exact_3[slice4],\n",
        "       simple_regret_exact_4[slice4],\n",
        "       simple_regret_exact_5[slice4],\n",
        "       simple_regret_exact_6[slice4],\n",
        "       simple_regret_exact_7[slice4],\n",
        "       simple_regret_exact_8[slice4],\n",
        "       simple_regret_exact_9[slice4],\n",
        "       simple_regret_exact_10[slice4],\n",
        "       simple_regret_exact_11[slice4],\n",
        "       simple_regret_exact_12[slice4],\n",
        "       simple_regret_exact_13[slice4],\n",
        "       simple_regret_exact_14[slice4],\n",
        "       simple_regret_exact_15[slice4],\n",
        "       simple_regret_exact_16[slice4],\n",
        "       simple_regret_exact_17[slice4],\n",
        "       simple_regret_exact_18[slice4],\n",
        "       simple_regret_exact_19[slice4],\n",
        "       simple_regret_exact_20[slice4]]\n",
        "\n",
        "approx4_results = pd.DataFrame(approx4).sort_values(by=[0], ascending=False)\n",
        "exact4_results = pd.DataFrame(exact4).sort_values(by=[0], ascending=False)\n",
        "\n",
        "### Best simple regret minimization IQR - approx:\n",
        "lower_approx4 = np.asarray(approx4_results[4:5][0])[0]\n",
        "median_approx4 = np.asarray(approx4_results[9:10][0])[0]\n",
        "upper_approx4 = np.asarray(approx4_results[14:15][0])[0]\n",
        "\n",
        "lower_exact4 = np.asarray(exact4_results[4:5][0])[0]\n",
        "median_exact4 = np.asarray(exact4_results[9:10][0])[0]\n",
        "upper_exact4 = np.asarray(exact4_results[14:15][0])[0]"
      ],
      "execution_count": 82,
      "outputs": []
    },
    {
      "cell_type": "code",
      "metadata": {
        "id": "ijq-rioYQxf5"
      },
      "source": [
        "# Iteration14 :\n",
        "\n",
        "slice14 = 13\n",
        "\n",
        "approx14 = [simple_regret_approx_1[slice14],\n",
        "       simple_regret_approx_2[slice14],\n",
        "       simple_regret_approx_3[slice14],\n",
        "       simple_regret_approx_4[slice14],\n",
        "       simple_regret_approx_5[slice14],\n",
        "       simple_regret_approx_6[slice14],\n",
        "       simple_regret_approx_7[slice14],\n",
        "       simple_regret_approx_8[slice14],\n",
        "       simple_regret_approx_9[slice14],\n",
        "       simple_regret_approx_10[slice14],\n",
        "       simple_regret_approx_11[slice14],\n",
        "       simple_regret_approx_12[slice14],\n",
        "       simple_regret_approx_13[slice14],\n",
        "       simple_regret_approx_14[slice14],\n",
        "       simple_regret_approx_15[slice14],\n",
        "       simple_regret_approx_16[slice14],\n",
        "       simple_regret_approx_17[slice14],\n",
        "       simple_regret_approx_18[slice14],\n",
        "       simple_regret_approx_19[slice14],\n",
        "       simple_regret_approx_20[slice14]]\n",
        "\n",
        "exact14 = [simple_regret_exact_1[slice14],\n",
        "       simple_regret_exact_2[slice14],\n",
        "       simple_regret_exact_3[slice14],\n",
        "       simple_regret_exact_4[slice14],\n",
        "       simple_regret_exact_5[slice14],\n",
        "       simple_regret_exact_6[slice14],\n",
        "       simple_regret_exact_7[slice14],\n",
        "       simple_regret_exact_8[slice14],\n",
        "       simple_regret_exact_9[slice14],\n",
        "       simple_regret_exact_10[slice14],\n",
        "       simple_regret_exact_11[slice14],\n",
        "       simple_regret_exact_12[slice14],\n",
        "       simple_regret_exact_13[slice14],\n",
        "       simple_regret_exact_14[slice14],\n",
        "       simple_regret_exact_15[slice14],\n",
        "       simple_regret_exact_16[slice14],\n",
        "       simple_regret_exact_17[slice14],\n",
        "       simple_regret_exact_18[slice14],\n",
        "       simple_regret_exact_19[slice14],\n",
        "       simple_regret_exact_20[slice14]]\n",
        "\n",
        "approx14_results = pd.DataFrame(approx14).sort_values(by=[0], ascending=False)\n",
        "exact14_results = pd.DataFrame(exact14).sort_values(by=[0], ascending=False)\n",
        "\n",
        "### Best simple regret minimization IQR - approx:\n",
        "lower_approx14 = np.asarray(approx14_results[4:5][0])[0]\n",
        "median_approx14 = np.asarray(approx14_results[9:10][0])[0]\n",
        "upper_approx14 = np.asarray(approx14_results[14:15][0])[0]\n",
        "\n",
        "lower_exact14 = np.asarray(exact14_results[4:5][0])[0]\n",
        "median_exact14 = np.asarray(exact14_results[9:10][0])[0]\n",
        "upper_exact14 = np.asarray(exact14_results[14:15][0])[0]"
      ],
      "execution_count": 83,
      "outputs": []
    },
    {
      "cell_type": "code",
      "metadata": {
        "id": "XINlZjoTd-ZK"
      },
      "source": [
        "# Iteration5 :\n",
        "\n",
        "slice5 = 4\n",
        "\n",
        "approx5 = [simple_regret_approx_1[slice5],\n",
        "       simple_regret_approx_2[slice5],\n",
        "       simple_regret_approx_3[slice5],\n",
        "       simple_regret_approx_4[slice5],\n",
        "       simple_regret_approx_5[slice5],\n",
        "       simple_regret_approx_6[slice5],\n",
        "       simple_regret_approx_7[slice5],\n",
        "       simple_regret_approx_8[slice5],\n",
        "       simple_regret_approx_9[slice5],\n",
        "       simple_regret_approx_10[slice5],\n",
        "       simple_regret_approx_11[slice5],\n",
        "       simple_regret_approx_12[slice5],\n",
        "       simple_regret_approx_13[slice5],\n",
        "       simple_regret_approx_14[slice5],\n",
        "       simple_regret_approx_15[slice5],\n",
        "       simple_regret_approx_16[slice5],\n",
        "       simple_regret_approx_17[slice5],\n",
        "       simple_regret_approx_18[slice5],\n",
        "       simple_regret_approx_19[slice5],\n",
        "       simple_regret_approx_20[slice5]]\n",
        "\n",
        "exact5 = [simple_regret_exact_1[slice5],\n",
        "       simple_regret_exact_2[slice5],\n",
        "       simple_regret_exact_3[slice5],\n",
        "       simple_regret_exact_4[slice5],\n",
        "       simple_regret_exact_5[slice5],\n",
        "       simple_regret_exact_6[slice5],\n",
        "       simple_regret_exact_7[slice5],\n",
        "       simple_regret_exact_8[slice5],\n",
        "       simple_regret_exact_9[slice5],\n",
        "       simple_regret_exact_10[slice5],\n",
        "       simple_regret_exact_11[slice5],\n",
        "       simple_regret_exact_12[slice5],\n",
        "       simple_regret_exact_13[slice5],\n",
        "       simple_regret_exact_14[slice5],\n",
        "       simple_regret_exact_15[slice5],\n",
        "       simple_regret_exact_16[slice5],\n",
        "       simple_regret_exact_17[slice5],\n",
        "       simple_regret_exact_18[slice5],\n",
        "       simple_regret_exact_19[slice5],\n",
        "       simple_regret_exact_20[slice5]]\n",
        "\n",
        "approx5_results = pd.DataFrame(approx5).sort_values(by=[0], ascending=False)\n",
        "exact5_results = pd.DataFrame(exact5).sort_values(by=[0], ascending=False)\n",
        "\n",
        "### Best simple regret minimization IQR - approx:\n",
        "lower_approx5 = np.asarray(approx5_results[4:5][0])[0]\n",
        "median_approx5 = np.asarray(approx5_results[9:10][0])[0]\n",
        "upper_approx5 = np.asarray(approx5_results[14:15][0])[0]\n",
        "\n",
        "lower_exact5 = np.asarray(exact5_results[4:5][0])[0]\n",
        "median_exact5 = np.asarray(exact5_results[9:10][0])[0]\n",
        "upper_exact5 = np.asarray(exact5_results[14:15][0])[0]"
      ],
      "execution_count": 84,
      "outputs": []
    },
    {
      "cell_type": "code",
      "metadata": {
        "id": "4aZ7C8sOQxf6"
      },
      "source": [
        "# Iteration15 :\n",
        "\n",
        "slice15 = 14\n",
        "\n",
        "approx15 = [simple_regret_approx_1[slice15],\n",
        "       simple_regret_approx_2[slice15],\n",
        "       simple_regret_approx_3[slice15],\n",
        "       simple_regret_approx_4[slice15],\n",
        "       simple_regret_approx_5[slice15],\n",
        "       simple_regret_approx_6[slice15],\n",
        "       simple_regret_approx_7[slice15],\n",
        "       simple_regret_approx_8[slice15],\n",
        "       simple_regret_approx_9[slice15],\n",
        "       simple_regret_approx_10[slice15],\n",
        "       simple_regret_approx_11[slice15],\n",
        "       simple_regret_approx_12[slice15],\n",
        "       simple_regret_approx_13[slice15],\n",
        "       simple_regret_approx_14[slice15],\n",
        "       simple_regret_approx_15[slice15],\n",
        "       simple_regret_approx_16[slice15],\n",
        "       simple_regret_approx_17[slice15],\n",
        "       simple_regret_approx_18[slice15],\n",
        "       simple_regret_approx_19[slice15],\n",
        "       simple_regret_approx_20[slice15]]\n",
        "\n",
        "exact15 = [simple_regret_exact_1[slice15],\n",
        "       simple_regret_exact_2[slice15],\n",
        "       simple_regret_exact_3[slice15],\n",
        "       simple_regret_exact_4[slice15],\n",
        "       simple_regret_exact_5[slice15],\n",
        "       simple_regret_exact_6[slice15],\n",
        "       simple_regret_exact_7[slice15],\n",
        "       simple_regret_exact_8[slice15],\n",
        "       simple_regret_exact_9[slice15],\n",
        "       simple_regret_exact_10[slice15],\n",
        "       simple_regret_exact_11[slice15],\n",
        "       simple_regret_exact_12[slice15],\n",
        "       simple_regret_exact_13[slice15],\n",
        "       simple_regret_exact_14[slice15],\n",
        "       simple_regret_exact_15[slice15],\n",
        "       simple_regret_exact_16[slice15],\n",
        "       simple_regret_exact_17[slice15],\n",
        "       simple_regret_exact_18[slice15],\n",
        "       simple_regret_exact_19[slice15],\n",
        "       simple_regret_exact_20[slice15]]\n",
        "\n",
        "approx15_results = pd.DataFrame(approx15).sort_values(by=[0], ascending=False)\n",
        "exact15_results = pd.DataFrame(exact15).sort_values(by=[0], ascending=False)\n",
        "\n",
        "### Best simple regret minimization IQR - approx:\n",
        "lower_approx15 = np.asarray(approx15_results[4:5][0])[0]\n",
        "median_approx15 = np.asarray(approx15_results[9:10][0])[0]\n",
        "upper_approx15 = np.asarray(approx15_results[14:15][0])[0]\n",
        "\n",
        "lower_exact15 = np.asarray(exact15_results[4:5][0])[0]\n",
        "median_exact15 = np.asarray(exact15_results[9:10][0])[0]\n",
        "upper_exact15 = np.asarray(exact15_results[14:15][0])[0]"
      ],
      "execution_count": 85,
      "outputs": []
    },
    {
      "cell_type": "code",
      "metadata": {
        "id": "KJINKhv1Qxf6"
      },
      "source": [
        "# Iteration6 :\n",
        "\n",
        "slice6 = 5\n",
        "\n",
        "approx6 = [simple_regret_approx_1[slice6],\n",
        "       simple_regret_approx_2[slice6],\n",
        "       simple_regret_approx_3[slice6],\n",
        "       simple_regret_approx_4[slice6],\n",
        "       simple_regret_approx_5[slice6],\n",
        "       simple_regret_approx_6[slice6],\n",
        "       simple_regret_approx_7[slice6],\n",
        "       simple_regret_approx_8[slice6],\n",
        "       simple_regret_approx_9[slice6],\n",
        "       simple_regret_approx_10[slice6],\n",
        "       simple_regret_approx_11[slice6],\n",
        "       simple_regret_approx_12[slice6],\n",
        "       simple_regret_approx_13[slice6],\n",
        "       simple_regret_approx_14[slice6],\n",
        "       simple_regret_approx_15[slice6],\n",
        "       simple_regret_approx_16[slice6],\n",
        "       simple_regret_approx_17[slice6],\n",
        "       simple_regret_approx_18[slice6],\n",
        "       simple_regret_approx_19[slice6],\n",
        "       simple_regret_approx_20[slice6]]\n",
        "\n",
        "exact6 = [simple_regret_exact_1[slice6],\n",
        "       simple_regret_exact_2[slice6],\n",
        "       simple_regret_exact_3[slice6],\n",
        "       simple_regret_exact_4[slice6],\n",
        "       simple_regret_exact_5[slice6],\n",
        "       simple_regret_exact_6[slice6],\n",
        "       simple_regret_exact_7[slice6],\n",
        "       simple_regret_exact_8[slice6],\n",
        "       simple_regret_exact_9[slice6],\n",
        "       simple_regret_exact_10[slice6],\n",
        "       simple_regret_exact_11[slice6],\n",
        "       simple_regret_exact_12[slice6],\n",
        "       simple_regret_exact_13[slice6],\n",
        "       simple_regret_exact_14[slice6],\n",
        "       simple_regret_exact_15[slice6],\n",
        "       simple_regret_exact_16[slice6],\n",
        "       simple_regret_exact_17[slice6],\n",
        "       simple_regret_exact_18[slice6],\n",
        "       simple_regret_exact_19[slice6],\n",
        "       simple_regret_exact_20[slice6]]\n",
        "\n",
        "approx6_results = pd.DataFrame(approx6).sort_values(by=[0], ascending=False)\n",
        "exact6_results = pd.DataFrame(exact6).sort_values(by=[0], ascending=False)\n",
        "\n",
        "### Best simple regret minimization IQR - approx:\n",
        "lower_approx6 = np.asarray(approx6_results[4:5][0])[0]\n",
        "median_approx6 = np.asarray(approx6_results[9:10][0])[0]\n",
        "upper_approx6 = np.asarray(approx6_results[14:15][0])[0]\n",
        "\n",
        "lower_exact6 = np.asarray(exact6_results[4:5][0])[0]\n",
        "median_exact6 = np.asarray(exact6_results[9:10][0])[0]\n",
        "upper_exact6 = np.asarray(exact6_results[14:15][0])[0]"
      ],
      "execution_count": 86,
      "outputs": []
    },
    {
      "cell_type": "code",
      "metadata": {
        "id": "nwC5N1FsQxf7"
      },
      "source": [
        "# Iteration16 :\n",
        "\n",
        "slice16 = 15\n",
        "\n",
        "approx16 = [simple_regret_approx_1[slice16],\n",
        "       simple_regret_approx_2[slice16],\n",
        "       simple_regret_approx_3[slice16],\n",
        "       simple_regret_approx_4[slice16],\n",
        "       simple_regret_approx_5[slice16],\n",
        "       simple_regret_approx_6[slice16],\n",
        "       simple_regret_approx_7[slice16],\n",
        "       simple_regret_approx_8[slice16],\n",
        "       simple_regret_approx_9[slice16],\n",
        "       simple_regret_approx_10[slice16],\n",
        "       simple_regret_approx_11[slice16],\n",
        "       simple_regret_approx_12[slice16],\n",
        "       simple_regret_approx_13[slice16],\n",
        "       simple_regret_approx_14[slice16],\n",
        "       simple_regret_approx_15[slice16],\n",
        "       simple_regret_approx_16[slice16],\n",
        "       simple_regret_approx_17[slice16],\n",
        "       simple_regret_approx_18[slice16],\n",
        "       simple_regret_approx_19[slice16],\n",
        "       simple_regret_approx_20[slice16]]\n",
        "\n",
        "exact16 = [simple_regret_exact_1[slice16],\n",
        "       simple_regret_exact_2[slice16],\n",
        "       simple_regret_exact_3[slice16],\n",
        "       simple_regret_exact_4[slice16],\n",
        "       simple_regret_exact_5[slice16],\n",
        "       simple_regret_exact_6[slice16],\n",
        "       simple_regret_exact_7[slice16],\n",
        "       simple_regret_exact_8[slice16],\n",
        "       simple_regret_exact_9[slice16],\n",
        "       simple_regret_exact_10[slice16],\n",
        "       simple_regret_exact_11[slice16],\n",
        "       simple_regret_exact_12[slice16],\n",
        "       simple_regret_exact_13[slice16],\n",
        "       simple_regret_exact_14[slice16],\n",
        "       simple_regret_exact_15[slice16],\n",
        "       simple_regret_exact_16[slice16],\n",
        "       simple_regret_exact_17[slice16],\n",
        "       simple_regret_exact_18[slice16],\n",
        "       simple_regret_exact_19[slice16],\n",
        "       simple_regret_exact_20[slice16]]\n",
        "\n",
        "approx16_results = pd.DataFrame(approx16).sort_values(by=[0], ascending=False)\n",
        "exact16_results = pd.DataFrame(exact16).sort_values(by=[0], ascending=False)\n",
        "\n",
        "### Best simple regret minimization IQR - approx:\n",
        "lower_approx16 = np.asarray(approx16_results[4:5][0])[0]\n",
        "median_approx16 = np.asarray(approx16_results[9:10][0])[0]\n",
        "upper_approx16 = np.asarray(approx16_results[14:15][0])[0]\n",
        "\n",
        "lower_exact16 = np.asarray(exact16_results[4:5][0])[0]\n",
        "median_exact16 = np.asarray(exact16_results[9:10][0])[0]\n",
        "upper_exact16 = np.asarray(exact16_results[14:15][0])[0]"
      ],
      "execution_count": 87,
      "outputs": []
    },
    {
      "cell_type": "code",
      "metadata": {
        "id": "TrPV0AfnQxf7"
      },
      "source": [
        "# Iteration7 :\n",
        "\n",
        "slice7 = 6\n",
        "\n",
        "approx7 = [simple_regret_approx_1[slice7],\n",
        "       simple_regret_approx_2[slice7],\n",
        "       simple_regret_approx_3[slice7],\n",
        "       simple_regret_approx_4[slice7],\n",
        "       simple_regret_approx_5[slice7],\n",
        "       simple_regret_approx_6[slice7],\n",
        "       simple_regret_approx_7[slice7],\n",
        "       simple_regret_approx_8[slice7],\n",
        "       simple_regret_approx_9[slice7],\n",
        "       simple_regret_approx_10[slice7],\n",
        "       simple_regret_approx_11[slice7],\n",
        "       simple_regret_approx_12[slice7],\n",
        "       simple_regret_approx_13[slice7],\n",
        "       simple_regret_approx_14[slice7],\n",
        "       simple_regret_approx_15[slice7],\n",
        "       simple_regret_approx_16[slice7],\n",
        "       simple_regret_approx_17[slice7],\n",
        "       simple_regret_approx_18[slice7],\n",
        "       simple_regret_approx_19[slice7],\n",
        "       simple_regret_approx_20[slice7]]\n",
        "\n",
        "exact7 = [simple_regret_exact_1[slice7],\n",
        "       simple_regret_exact_2[slice7],\n",
        "       simple_regret_exact_3[slice7],\n",
        "       simple_regret_exact_4[slice7],\n",
        "       simple_regret_exact_5[slice7],\n",
        "       simple_regret_exact_6[slice7],\n",
        "       simple_regret_exact_7[slice7],\n",
        "       simple_regret_exact_8[slice7],\n",
        "       simple_regret_exact_9[slice7],\n",
        "       simple_regret_exact_10[slice7],\n",
        "       simple_regret_exact_11[slice7],\n",
        "       simple_regret_exact_12[slice7],\n",
        "       simple_regret_exact_13[slice7],\n",
        "       simple_regret_exact_14[slice7],\n",
        "       simple_regret_exact_15[slice7],\n",
        "       simple_regret_exact_16[slice7],\n",
        "       simple_regret_exact_17[slice7],\n",
        "       simple_regret_exact_18[slice7],\n",
        "       simple_regret_exact_19[slice7],\n",
        "       simple_regret_exact_20[slice7]]\n",
        "\n",
        "approx7_results = pd.DataFrame(approx7).sort_values(by=[0], ascending=False)\n",
        "exact7_results = pd.DataFrame(exact7).sort_values(by=[0], ascending=False)\n",
        "\n",
        "### Best simple regret minimization IQR - approx:\n",
        "lower_approx7 = np.asarray(approx7_results[4:5][0])[0]\n",
        "median_approx7 = np.asarray(approx7_results[9:10][0])[0]\n",
        "upper_approx7 = np.asarray(approx7_results[14:15][0])[0]\n",
        "\n",
        "lower_exact7 = np.asarray(exact7_results[4:5][0])[0]\n",
        "median_exact7 = np.asarray(exact7_results[9:10][0])[0]\n",
        "upper_exact7 = np.asarray(exact7_results[14:15][0])[0]"
      ],
      "execution_count": 88,
      "outputs": []
    },
    {
      "cell_type": "code",
      "metadata": {
        "id": "Ub_-wpK4Qxf8"
      },
      "source": [
        "# Iteration17 :\n",
        "\n",
        "slice17 = 16\n",
        "\n",
        "approx17 = [simple_regret_approx_1[slice17],\n",
        "       simple_regret_approx_2[slice17],\n",
        "       simple_regret_approx_3[slice17],\n",
        "       simple_regret_approx_4[slice17],\n",
        "       simple_regret_approx_5[slice17],\n",
        "       simple_regret_approx_6[slice17],\n",
        "       simple_regret_approx_7[slice17],\n",
        "       simple_regret_approx_8[slice17],\n",
        "       simple_regret_approx_9[slice17],\n",
        "       simple_regret_approx_10[slice17],\n",
        "       simple_regret_approx_11[slice17],\n",
        "       simple_regret_approx_12[slice17],\n",
        "       simple_regret_approx_13[slice17],\n",
        "       simple_regret_approx_14[slice17],\n",
        "       simple_regret_approx_15[slice17],\n",
        "       simple_regret_approx_16[slice17],\n",
        "       simple_regret_approx_17[slice17],\n",
        "       simple_regret_approx_18[slice17],\n",
        "       simple_regret_approx_19[slice17],\n",
        "       simple_regret_approx_20[slice17]]\n",
        "\n",
        "exact17 = [simple_regret_exact_1[slice17],\n",
        "       simple_regret_exact_2[slice17],\n",
        "       simple_regret_exact_3[slice17],\n",
        "       simple_regret_exact_4[slice17],\n",
        "       simple_regret_exact_5[slice17],\n",
        "       simple_regret_exact_6[slice17],\n",
        "       simple_regret_exact_7[slice17],\n",
        "       simple_regret_exact_8[slice17],\n",
        "       simple_regret_exact_9[slice17],\n",
        "       simple_regret_exact_10[slice17],\n",
        "       simple_regret_exact_11[slice17],\n",
        "       simple_regret_exact_12[slice17],\n",
        "       simple_regret_exact_13[slice17],\n",
        "       simple_regret_exact_14[slice17],\n",
        "       simple_regret_exact_15[slice17],\n",
        "       simple_regret_exact_16[slice17],\n",
        "       simple_regret_exact_17[slice17],\n",
        "       simple_regret_exact_18[slice17],\n",
        "       simple_regret_exact_19[slice17],\n",
        "       simple_regret_exact_20[slice17]]\n",
        "\n",
        "approx17_results = pd.DataFrame(approx17).sort_values(by=[0], ascending=False)\n",
        "exact17_results = pd.DataFrame(exact17).sort_values(by=[0], ascending=False)\n",
        "\n",
        "### Best simple regret minimization IQR - approx:\n",
        "lower_approx17 = np.asarray(approx17_results[4:5][0])[0]\n",
        "median_approx17 = np.asarray(approx17_results[9:10][0])[0]\n",
        "upper_approx17 = np.asarray(approx17_results[14:15][0])[0]\n",
        "\n",
        "lower_exact17 = np.asarray(exact17_results[4:5][0])[0]\n",
        "median_exact17 = np.asarray(exact17_results[9:10][0])[0]\n",
        "upper_exact17 = np.asarray(exact17_results[14:15][0])[0]"
      ],
      "execution_count": 89,
      "outputs": []
    },
    {
      "cell_type": "code",
      "metadata": {
        "id": "-6VLo37PQxf8"
      },
      "source": [
        "# Iteration8 :\n",
        "\n",
        "slice8 = 7\n",
        "\n",
        "approx8 = [simple_regret_approx_1[slice8],\n",
        "       simple_regret_approx_2[slice8],\n",
        "       simple_regret_approx_3[slice8],\n",
        "       simple_regret_approx_4[slice8],\n",
        "       simple_regret_approx_5[slice8],\n",
        "       simple_regret_approx_6[slice8],\n",
        "       simple_regret_approx_7[slice8],\n",
        "       simple_regret_approx_8[slice8],\n",
        "       simple_regret_approx_9[slice8],\n",
        "       simple_regret_approx_10[slice8],\n",
        "       simple_regret_approx_11[slice8],\n",
        "       simple_regret_approx_12[slice8],\n",
        "       simple_regret_approx_13[slice8],\n",
        "       simple_regret_approx_14[slice8],\n",
        "       simple_regret_approx_15[slice8],\n",
        "       simple_regret_approx_16[slice8],\n",
        "       simple_regret_approx_17[slice8],\n",
        "       simple_regret_approx_18[slice8],\n",
        "       simple_regret_approx_19[slice8],\n",
        "       simple_regret_approx_20[slice8]]\n",
        "\n",
        "exact8 = [simple_regret_exact_1[slice8],\n",
        "       simple_regret_exact_2[slice8],\n",
        "       simple_regret_exact_3[slice8],\n",
        "       simple_regret_exact_4[slice8],\n",
        "       simple_regret_exact_5[slice8],\n",
        "       simple_regret_exact_6[slice8],\n",
        "       simple_regret_exact_7[slice8],\n",
        "       simple_regret_exact_8[slice8],\n",
        "       simple_regret_exact_9[slice8],\n",
        "       simple_regret_exact_10[slice8],\n",
        "       simple_regret_exact_11[slice8],\n",
        "       simple_regret_exact_12[slice8],\n",
        "       simple_regret_exact_13[slice8],\n",
        "       simple_regret_exact_14[slice8],\n",
        "       simple_regret_exact_15[slice8],\n",
        "       simple_regret_exact_16[slice8],\n",
        "       simple_regret_exact_17[slice8],\n",
        "       simple_regret_exact_18[slice8],\n",
        "       simple_regret_exact_19[slice8],\n",
        "       simple_regret_exact_20[slice8]]\n",
        "\n",
        "approx8_results = pd.DataFrame(approx8).sort_values(by=[0], ascending=False)\n",
        "exact8_results = pd.DataFrame(exact8).sort_values(by=[0], ascending=False)\n",
        "\n",
        "### Best simple regret minimization IQR - approx:\n",
        "lower_approx8 = np.asarray(approx8_results[4:5][0])[0]\n",
        "median_approx8 = np.asarray(approx8_results[9:10][0])[0]\n",
        "upper_approx8 = np.asarray(approx8_results[14:15][0])[0]\n",
        "\n",
        "lower_exact8 = np.asarray(exact8_results[4:5][0])[0]\n",
        "median_exact8 = np.asarray(exact8_results[9:10][0])[0]\n",
        "upper_exact8 = np.asarray(exact8_results[14:15][0])[0]"
      ],
      "execution_count": 90,
      "outputs": []
    },
    {
      "cell_type": "code",
      "metadata": {
        "id": "2Dp-9CC2Qxf9"
      },
      "source": [
        "# Iteration18 :\n",
        "\n",
        "slice18 = 17\n",
        "\n",
        "approx18 = [simple_regret_approx_1[slice18],\n",
        "       simple_regret_approx_2[slice18],\n",
        "       simple_regret_approx_3[slice18],\n",
        "       simple_regret_approx_4[slice18],\n",
        "       simple_regret_approx_5[slice18],\n",
        "       simple_regret_approx_6[slice18],\n",
        "       simple_regret_approx_7[slice18],\n",
        "       simple_regret_approx_8[slice18],\n",
        "       simple_regret_approx_9[slice18],\n",
        "       simple_regret_approx_10[slice18],\n",
        "       simple_regret_approx_11[slice18],\n",
        "       simple_regret_approx_12[slice18],\n",
        "       simple_regret_approx_13[slice18],\n",
        "       simple_regret_approx_14[slice18],\n",
        "       simple_regret_approx_15[slice18],\n",
        "       simple_regret_approx_16[slice18],\n",
        "       simple_regret_approx_17[slice18],\n",
        "       simple_regret_approx_18[slice18],\n",
        "       simple_regret_approx_19[slice18],\n",
        "       simple_regret_approx_20[slice18]]\n",
        "\n",
        "exact18 = [simple_regret_exact_1[slice18],\n",
        "       simple_regret_exact_2[slice18],\n",
        "       simple_regret_exact_3[slice18],\n",
        "       simple_regret_exact_4[slice18],\n",
        "       simple_regret_exact_5[slice18],\n",
        "       simple_regret_exact_6[slice18],\n",
        "       simple_regret_exact_7[slice18],\n",
        "       simple_regret_exact_8[slice18],\n",
        "       simple_regret_exact_9[slice18],\n",
        "       simple_regret_exact_10[slice18],\n",
        "       simple_regret_exact_11[slice18],\n",
        "       simple_regret_exact_12[slice18],\n",
        "       simple_regret_exact_13[slice18],\n",
        "       simple_regret_exact_14[slice18],\n",
        "       simple_regret_exact_15[slice18],\n",
        "       simple_regret_exact_16[slice18],\n",
        "       simple_regret_exact_17[slice18],\n",
        "       simple_regret_exact_18[slice18],\n",
        "       simple_regret_exact_19[slice18],\n",
        "       simple_regret_exact_20[slice18]]\n",
        "\n",
        "approx18_results = pd.DataFrame(approx18).sort_values(by=[0], ascending=False)\n",
        "exact18_results = pd.DataFrame(exact18).sort_values(by=[0], ascending=False)\n",
        "\n",
        "### Best simple regret minimization IQR - approx:\n",
        "lower_approx18 = np.asarray(approx18_results[4:5][0])[0]\n",
        "median_approx18 = np.asarray(approx18_results[9:10][0])[0]\n",
        "upper_approx18 = np.asarray(approx18_results[14:15][0])[0]\n",
        "\n",
        "lower_exact18 = np.asarray(exact18_results[4:5][0])[0]\n",
        "median_exact18 = np.asarray(exact18_results[9:10][0])[0]\n",
        "upper_exact18 = np.asarray(exact18_results[14:15][0])[0]"
      ],
      "execution_count": 91,
      "outputs": []
    },
    {
      "cell_type": "code",
      "metadata": {
        "id": "SqiaOpB7Qxf9"
      },
      "source": [
        "# Iteration9 :\n",
        "\n",
        "slice9 = 8\n",
        "\n",
        "approx9 = [simple_regret_approx_1[slice9],\n",
        "       simple_regret_approx_2[slice9],\n",
        "       simple_regret_approx_3[slice9],\n",
        "       simple_regret_approx_4[slice9],\n",
        "       simple_regret_approx_5[slice9],\n",
        "       simple_regret_approx_6[slice9],\n",
        "       simple_regret_approx_7[slice9],\n",
        "       simple_regret_approx_8[slice9],\n",
        "       simple_regret_approx_9[slice9],\n",
        "       simple_regret_approx_10[slice9],\n",
        "       simple_regret_approx_11[slice9],\n",
        "       simple_regret_approx_12[slice9],\n",
        "       simple_regret_approx_13[slice9],\n",
        "       simple_regret_approx_14[slice9],\n",
        "       simple_regret_approx_15[slice9],\n",
        "       simple_regret_approx_16[slice9],\n",
        "       simple_regret_approx_17[slice9],\n",
        "       simple_regret_approx_18[slice9],\n",
        "       simple_regret_approx_19[slice9],\n",
        "       simple_regret_approx_20[slice9]]\n",
        "\n",
        "exact9 = [simple_regret_exact_1[slice9],\n",
        "       simple_regret_exact_2[slice9],\n",
        "       simple_regret_exact_3[slice9],\n",
        "       simple_regret_exact_4[slice9],\n",
        "       simple_regret_exact_5[slice9],\n",
        "       simple_regret_exact_6[slice9],\n",
        "       simple_regret_exact_7[slice9],\n",
        "       simple_regret_exact_8[slice9],\n",
        "       simple_regret_exact_9[slice9],\n",
        "       simple_regret_exact_10[slice9],\n",
        "       simple_regret_exact_11[slice9],\n",
        "       simple_regret_exact_12[slice9],\n",
        "       simple_regret_exact_13[slice9],\n",
        "       simple_regret_exact_14[slice9],\n",
        "       simple_regret_exact_15[slice9],\n",
        "       simple_regret_exact_16[slice9],\n",
        "       simple_regret_exact_17[slice9],\n",
        "       simple_regret_exact_18[slice9],\n",
        "       simple_regret_exact_19[slice9],\n",
        "       simple_regret_exact_20[slice9]]\n",
        "\n",
        "approx9_results = pd.DataFrame(approx9).sort_values(by=[0], ascending=False)\n",
        "exact9_results = pd.DataFrame(exact9).sort_values(by=[0], ascending=False)\n",
        "\n",
        "### Best simple regret minimization IQR - approx:\n",
        "lower_approx9 = np.asarray(approx9_results[4:5][0])[0]\n",
        "median_approx9 = np.asarray(approx9_results[9:10][0])[0]\n",
        "upper_approx9 = np.asarray(approx9_results[14:15][0])[0]\n",
        "\n",
        "lower_exact9 = np.asarray(exact9_results[4:5][0])[0]\n",
        "median_exact9 = np.asarray(exact9_results[9:10][0])[0]\n",
        "upper_exact9 = np.asarray(exact9_results[14:15][0])[0]"
      ],
      "execution_count": 92,
      "outputs": []
    },
    {
      "cell_type": "code",
      "metadata": {
        "id": "OQkCCOsPQxf9"
      },
      "source": [
        "# Iteration19 :\n",
        "\n",
        "slice19 = 18\n",
        "\n",
        "approx19 = [simple_regret_approx_1[slice19],\n",
        "       simple_regret_approx_2[slice19],\n",
        "       simple_regret_approx_3[slice19],\n",
        "       simple_regret_approx_4[slice19],\n",
        "       simple_regret_approx_5[slice19],\n",
        "       simple_regret_approx_6[slice19],\n",
        "       simple_regret_approx_7[slice19],\n",
        "       simple_regret_approx_8[slice19],\n",
        "       simple_regret_approx_9[slice19],\n",
        "       simple_regret_approx_10[slice19],\n",
        "       simple_regret_approx_11[slice19],\n",
        "       simple_regret_approx_12[slice19],\n",
        "       simple_regret_approx_13[slice19],\n",
        "       simple_regret_approx_14[slice19],\n",
        "       simple_regret_approx_15[slice19],\n",
        "       simple_regret_approx_16[slice19],\n",
        "       simple_regret_approx_17[slice19],\n",
        "       simple_regret_approx_18[slice19],\n",
        "       simple_regret_approx_19[slice19],\n",
        "       simple_regret_approx_20[slice19]]\n",
        "\n",
        "exact19 = [simple_regret_exact_1[slice19],\n",
        "       simple_regret_exact_2[slice19],\n",
        "       simple_regret_exact_3[slice19],\n",
        "       simple_regret_exact_4[slice19],\n",
        "       simple_regret_exact_5[slice19],\n",
        "       simple_regret_exact_6[slice19],\n",
        "       simple_regret_exact_7[slice19],\n",
        "       simple_regret_exact_8[slice19],\n",
        "       simple_regret_exact_9[slice19],\n",
        "       simple_regret_exact_10[slice19],\n",
        "       simple_regret_exact_11[slice19],\n",
        "       simple_regret_exact_12[slice19],\n",
        "       simple_regret_exact_13[slice19],\n",
        "       simple_regret_exact_14[slice19],\n",
        "       simple_regret_exact_15[slice19],\n",
        "       simple_regret_exact_16[slice19],\n",
        "       simple_regret_exact_17[slice19],\n",
        "       simple_regret_exact_18[slice19],\n",
        "       simple_regret_exact_19[slice19],\n",
        "       simple_regret_exact_20[slice19]]\n",
        "\n",
        "approx19_results = pd.DataFrame(approx19).sort_values(by=[0], ascending=False)\n",
        "exact19_results = pd.DataFrame(exact19).sort_values(by=[0], ascending=False)\n",
        "\n",
        "### Best simple regret minimization IQR - approx:\n",
        "lower_approx19 = np.asarray(approx19_results[4:5][0])[0]\n",
        "median_approx19 = np.asarray(approx19_results[9:10][0])[0]\n",
        "upper_approx19 = np.asarray(approx19_results[14:15][0])[0]\n",
        "\n",
        "lower_exact19 = np.asarray(exact19_results[4:5][0])[0]\n",
        "median_exact19 = np.asarray(exact19_results[9:10][0])[0]\n",
        "upper_exact19 = np.asarray(exact19_results[14:15][0])[0]"
      ],
      "execution_count": 93,
      "outputs": []
    },
    {
      "cell_type": "code",
      "metadata": {
        "id": "h4vtWahcQxf-"
      },
      "source": [
        "# Iteration10 :\n",
        "\n",
        "slice10 = 9\n",
        "\n",
        "approx10 = [simple_regret_approx_1[slice10],\n",
        "       simple_regret_approx_2[slice10],\n",
        "       simple_regret_approx_3[slice10],\n",
        "       simple_regret_approx_4[slice10],\n",
        "       simple_regret_approx_5[slice10],\n",
        "       simple_regret_approx_6[slice10],\n",
        "       simple_regret_approx_7[slice10],\n",
        "       simple_regret_approx_8[slice10],\n",
        "       simple_regret_approx_9[slice10],\n",
        "       simple_regret_approx_10[slice10],\n",
        "       simple_regret_approx_11[slice10],\n",
        "       simple_regret_approx_12[slice10],\n",
        "       simple_regret_approx_13[slice10],\n",
        "       simple_regret_approx_14[slice10],\n",
        "       simple_regret_approx_15[slice10],\n",
        "       simple_regret_approx_16[slice10],\n",
        "       simple_regret_approx_17[slice10],\n",
        "       simple_regret_approx_18[slice10],\n",
        "       simple_regret_approx_19[slice10],\n",
        "       simple_regret_approx_20[slice10]]\n",
        "\n",
        "exact10 = [simple_regret_exact_1[slice10],\n",
        "       simple_regret_exact_2[slice10],\n",
        "       simple_regret_exact_3[slice10],\n",
        "       simple_regret_exact_4[slice10],\n",
        "       simple_regret_exact_5[slice10],\n",
        "       simple_regret_exact_6[slice10],\n",
        "       simple_regret_exact_7[slice10],\n",
        "       simple_regret_exact_8[slice10],\n",
        "       simple_regret_exact_9[slice10],\n",
        "       simple_regret_exact_10[slice10],\n",
        "       simple_regret_exact_11[slice10],\n",
        "       simple_regret_exact_12[slice10],\n",
        "       simple_regret_exact_13[slice10],\n",
        "       simple_regret_exact_14[slice10],\n",
        "       simple_regret_exact_15[slice10],\n",
        "       simple_regret_exact_16[slice10],\n",
        "       simple_regret_exact_17[slice10],\n",
        "       simple_regret_exact_18[slice10],\n",
        "       simple_regret_exact_19[slice10],\n",
        "       simple_regret_exact_20[slice10]]\n",
        "\n",
        "approx10_results = pd.DataFrame(approx10).sort_values(by=[0], ascending=False)\n",
        "exact10_results = pd.DataFrame(exact10).sort_values(by=[0], ascending=False)\n",
        "\n",
        "### Best simple regret minimization IQR - approx:\n",
        "lower_approx10 = np.asarray(approx10_results[4:5][0])[0]\n",
        "median_approx10 = np.asarray(approx10_results[9:10][0])[0]\n",
        "upper_approx10 = np.asarray(approx10_results[14:15][0])[0]\n",
        "\n",
        "lower_exact10 = np.asarray(exact10_results[4:5][0])[0]\n",
        "median_exact10 = np.asarray(exact10_results[9:10][0])[0]\n",
        "upper_exact10 = np.asarray(exact10_results[14:15][0])[0]"
      ],
      "execution_count": 94,
      "outputs": []
    },
    {
      "cell_type": "code",
      "metadata": {
        "id": "Rsf240pWQxf-"
      },
      "source": [
        "# Iteration20 :\n",
        "\n",
        "slice20 = 19\n",
        "\n",
        "approx20 = [simple_regret_approx_1[slice20],\n",
        "       simple_regret_approx_2[slice20],\n",
        "       simple_regret_approx_3[slice20],\n",
        "       simple_regret_approx_4[slice20],\n",
        "       simple_regret_approx_5[slice20],\n",
        "       simple_regret_approx_6[slice20],\n",
        "       simple_regret_approx_7[slice20],\n",
        "       simple_regret_approx_8[slice20],\n",
        "       simple_regret_approx_9[slice20],\n",
        "       simple_regret_approx_10[slice20],\n",
        "       simple_regret_approx_11[slice20],\n",
        "       simple_regret_approx_12[slice20],\n",
        "       simple_regret_approx_13[slice20],\n",
        "       simple_regret_approx_14[slice20],\n",
        "       simple_regret_approx_15[slice20],\n",
        "       simple_regret_approx_16[slice20],\n",
        "       simple_regret_approx_17[slice20],\n",
        "       simple_regret_approx_18[slice20],\n",
        "       simple_regret_approx_19[slice20],\n",
        "       simple_regret_approx_20[slice20]]\n",
        "\n",
        "exact20 = [simple_regret_exact_1[slice20],\n",
        "       simple_regret_exact_2[slice20],\n",
        "       simple_regret_exact_3[slice20],\n",
        "       simple_regret_exact_4[slice20],\n",
        "       simple_regret_exact_5[slice20],\n",
        "       simple_regret_exact_6[slice20],\n",
        "       simple_regret_exact_7[slice20],\n",
        "       simple_regret_exact_8[slice20],\n",
        "       simple_regret_exact_9[slice20],\n",
        "       simple_regret_exact_10[slice20],\n",
        "       simple_regret_exact_11[slice20],\n",
        "       simple_regret_exact_12[slice20],\n",
        "       simple_regret_exact_13[slice20],\n",
        "       simple_regret_exact_14[slice20],\n",
        "       simple_regret_exact_15[slice20],\n",
        "       simple_regret_exact_16[slice20],\n",
        "       simple_regret_exact_17[slice20],\n",
        "       simple_regret_exact_18[slice20],\n",
        "       simple_regret_exact_19[slice20],\n",
        "       simple_regret_exact_20[slice20]]\n",
        "\n",
        "approx20_results = pd.DataFrame(approx20).sort_values(by=[0], ascending=False)\n",
        "exact20_results = pd.DataFrame(exact20).sort_values(by=[0], ascending=False)\n",
        "\n",
        "### Best simple regret minimization IQR - approx:\n",
        "lower_approx20 = np.asarray(approx20_results[4:5][0])[0]\n",
        "median_approx20 = np.asarray(approx20_results[9:10][0])[0]\n",
        "upper_approx20 = np.asarray(approx20_results[14:15][0])[0]\n",
        "\n",
        "lower_exact20 = np.asarray(exact20_results[4:5][0])[0]\n",
        "median_exact20 = np.asarray(exact20_results[9:10][0])[0]\n",
        "upper_exact20 = np.asarray(exact20_results[14:15][0])[0]"
      ],
      "execution_count": 95,
      "outputs": []
    },
    {
      "cell_type": "code",
      "metadata": {
        "id": "gn36RejbQxf_"
      },
      "source": [
        "### Summarize arrays: 'Loser'\n",
        "\n",
        "lower_approx = [lower_approx1,\n",
        "            lower_approx2,\n",
        "            lower_approx3,\n",
        "            lower_approx4,\n",
        "            lower_approx5,\n",
        "            lower_approx6,\n",
        "            lower_approx7,\n",
        "            lower_approx8,\n",
        "            lower_approx9,\n",
        "            lower_approx10,\n",
        "            lower_approx11,\n",
        "            lower_approx12,\n",
        "            lower_approx13,\n",
        "            lower_approx14,\n",
        "            lower_approx15,\n",
        "            lower_approx16,\n",
        "            lower_approx17,\n",
        "            lower_approx18,\n",
        "            lower_approx19,\n",
        "            lower_approx20,\n",
        "            lower_approx21]\n",
        "\n",
        "median_approx = [median_approx1,\n",
        "            median_approx2,\n",
        "            median_approx3,\n",
        "            median_approx4,\n",
        "            median_approx5,\n",
        "            median_approx6,\n",
        "            median_approx7,\n",
        "            median_approx8,\n",
        "            median_approx9,\n",
        "            median_approx10,\n",
        "            median_approx11,\n",
        "            median_approx12,\n",
        "            median_approx13,\n",
        "            median_approx14,\n",
        "            median_approx15,\n",
        "            median_approx16,\n",
        "            median_approx17,\n",
        "            median_approx18,\n",
        "            median_approx19,\n",
        "            median_approx20,\n",
        "            median_approx21]\n",
        "\n",
        "upper_approx = [upper_approx1,\n",
        "            upper_approx2,\n",
        "            upper_approx3,\n",
        "            upper_approx4,\n",
        "            upper_approx5,\n",
        "            upper_approx6,\n",
        "            upper_approx7,\n",
        "            upper_approx8,\n",
        "            upper_approx9,\n",
        "            upper_approx10,\n",
        "            upper_approx11,\n",
        "            upper_approx12,\n",
        "            upper_approx13,\n",
        "            upper_approx14,\n",
        "            upper_approx15,\n",
        "            upper_approx16,\n",
        "            upper_approx17,\n",
        "            upper_approx18,\n",
        "            upper_approx19,\n",
        "            upper_approx20,\n",
        "            upper_approx21]"
      ],
      "execution_count": 96,
      "outputs": []
    },
    {
      "cell_type": "code",
      "metadata": {
        "id": "wxtGTOYfQxf_"
      },
      "source": [
        "### Summarize arrays: 'exact'\n",
        "\n",
        "lower_exact = [lower_exact1,\n",
        "            lower_exact2,\n",
        "            lower_exact3,\n",
        "            lower_exact4,\n",
        "            lower_exact5,\n",
        "            lower_exact6,\n",
        "            lower_exact7,\n",
        "            lower_exact8,\n",
        "            lower_exact9,\n",
        "            lower_exact10,\n",
        "            lower_exact11,\n",
        "            lower_exact12,\n",
        "            lower_exact13,\n",
        "            lower_exact14,\n",
        "            lower_exact15,\n",
        "            lower_exact16,\n",
        "            lower_exact17,\n",
        "            lower_exact18,\n",
        "            lower_exact19,\n",
        "            lower_exact20,\n",
        "            lower_exact21]\n",
        "\n",
        "median_exact = [median_exact1,\n",
        "            median_exact2,\n",
        "            median_exact3,\n",
        "            median_exact4,\n",
        "            median_exact5,\n",
        "            median_exact6,\n",
        "            median_exact7,\n",
        "            median_exact8,\n",
        "            median_exact9,\n",
        "            median_exact10,\n",
        "            median_exact11,\n",
        "            median_exact12,\n",
        "            median_exact13,\n",
        "            median_exact14,\n",
        "            median_exact15,\n",
        "            median_exact16,\n",
        "            median_exact17,\n",
        "            median_exact18,\n",
        "            median_exact19,\n",
        "            median_exact20,\n",
        "            median_exact21]\n",
        "\n",
        "upper_exact = [upper_exact1,\n",
        "            upper_exact2,\n",
        "            upper_exact3,\n",
        "            upper_exact4,\n",
        "            upper_exact5,\n",
        "            upper_exact6,\n",
        "            upper_exact7,\n",
        "            upper_exact8,\n",
        "            upper_exact9,\n",
        "            upper_exact10,\n",
        "            upper_exact11,\n",
        "            upper_exact12,\n",
        "            upper_exact13,\n",
        "            upper_exact14,\n",
        "            upper_exact15,\n",
        "            upper_exact16,\n",
        "            upper_exact17,\n",
        "            upper_exact18,\n",
        "            upper_exact19,\n",
        "            upper_exact20,\n",
        "            upper_exact21]"
      ],
      "execution_count": 97,
      "outputs": []
    },
    {
      "cell_type": "code",
      "metadata": {
        "id": "2MONq-BXQxgA",
        "colab": {
          "base_uri": "https://localhost:8080/",
          "height": 299
        },
        "outputId": "aea15e07-32ec-47fe-fb41-13a0612057cc"
      },
      "source": [
        "### Visualise!\n",
        "\n",
        "title = func\n",
        "plt.figure()\n",
        "\n",
        "plt.plot(median_approx, color = 'Yellow')\n",
        "plt.plot(median_exact, color = 'Red')\n",
        "\n",
        "xstar = np.arange(0, iters+1, step=1)\n",
        "plt.fill_between(xstar, lower_approx, upper_approx, facecolor = 'Yellow', alpha=0.4, label='GP EI Optimization: Approx GP EI gradients')\n",
        "plt.fill_between(xstar, lower_exact, upper_exact, facecolor = 'Red', alpha=0.4, label='GP EI Optimization: Exact GP dEI gradients')\n",
        "\n",
        "plt.title(title, weight = 'bold')\n",
        "plt.xlabel('(Post-initialization) iteration $\\it{k}$', weight = 'bold')\n",
        "plt.ylabel('log(Regret)', weight = 'bold') \n",
        "plt.legend(loc=1) # add plot legend\n",
        "\n",
        "### Make the x-ticks integers, not floats:\n",
        "count = len(xstar)\n",
        "plt.xticks(np.arange(count), np.arange(0, count))\n",
        "plt.show() #visualize!"
      ],
      "execution_count": 98,
      "outputs": [
        {
          "output_type": "display_data",
          "data": {
            "image/png": "[encoded data removed]",
            "text/plain": [
              "<Figure size 432x288 with 1 Axes>"
            ]
          },
          "metadata": {
            "needs_background": "light"
          }
        }
      ]
    },
    {
      "cell_type": "code",
      "metadata": {
        "id": "l5dkR2Id2oiu",
        "colab": {
          "base_uri": "https://localhost:8080/"
        },
        "outputId": "946dea00-f0d2-49ab-d71d-70b24b09ad7e"
      },
      "source": [
        "time_approx, time_exact\n"
      ],
      "execution_count": 99,
      "outputs": [
        {
          "output_type": "execute_result",
          "data": {
            "text/plain": [
              "(216.89829850196838, 546.3223662376404)"
            ]
          },
          "metadata": {},
          "execution_count": 99
        }
      ]
    },
    {
      "cell_type": "code",
      "metadata": {
        "id": "77BffxK2Fe61"
      },
      "source": [
        ""
      ],
      "execution_count": 99,
      "outputs": []
    }
  ]
}