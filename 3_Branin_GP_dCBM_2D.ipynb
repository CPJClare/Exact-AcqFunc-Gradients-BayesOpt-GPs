{
  "nbformat": 4,
  "nbformat_minor": 0,
  "metadata": {
    "colab": {
      "name": "3. Branin_GP_dCBM_2D.ipynb",
      "provenance": [],
      "collapsed_sections": []
    },
    "kernelspec": {
      "name": "python3",
      "display_name": "Python 3"
    },
    "language_info": {
      "name": "python"
    }
  },
  "cells": [
    {
      "cell_type": "markdown",
      "metadata": {
        "id": "Dqn4dFx7Z2Ir"
      },
      "source": [
        "\n",
        "Branin: 2D\n"
      ]
    },
    {
      "cell_type": "code",
      "metadata": {
        "id": "MJTM_GZZZb5x",
        "colab": {
          "base_uri": "https://localhost:8080/"
        },
        "outputId": "99ae7a9b-aa88-4a16-ff49-0c22259cc6cd"
      },
      "source": [
        "pip install pyGPGO\n"
      ],
      "execution_count": 1,
      "outputs": [
        {
          "output_type": "stream",
          "name": "stdout",
          "text": [
            "Collecting pyGPGO\n",
            "  Downloading pyGPGO-0.5.1.tar.gz (14 kB)\n",
            "Requirement already satisfied: numpy in /usr/local/lib/python3.7/dist-packages (from pyGPGO) (1.19.5)\n",
            "Requirement already satisfied: mkl in /usr/local/lib/python3.7/dist-packages (from pyGPGO) (2019.0)\n",
            "Requirement already satisfied: scipy in /usr/local/lib/python3.7/dist-packages (from pyGPGO) (1.4.1)\n",
            "Requirement already satisfied: joblib in /usr/local/lib/python3.7/dist-packages (from pyGPGO) (1.1.0)\n",
            "Requirement already satisfied: scikit-learn in /usr/local/lib/python3.7/dist-packages (from pyGPGO) (1.0.1)\n",
            "Requirement already satisfied: Theano-PyMC in /usr/local/lib/python3.7/dist-packages (from pyGPGO) (1.1.2)\n",
            "Requirement already satisfied: pyMC3 in /usr/local/lib/python3.7/dist-packages (from pyGPGO) (3.11.4)\n",
            "Requirement already satisfied: intel-openmp in /usr/local/lib/python3.7/dist-packages (from mkl->pyGPGO) (2021.4.0)\n",
            "Requirement already satisfied: pandas>=0.24.0 in /usr/local/lib/python3.7/dist-packages (from pyMC3->pyGPGO) (1.1.5)\n",
            "Requirement already satisfied: cachetools>=4.2.1 in /usr/local/lib/python3.7/dist-packages (from pyMC3->pyGPGO) (4.2.4)\n",
            "Requirement already satisfied: fastprogress>=0.2.0 in /usr/local/lib/python3.7/dist-packages (from pyMC3->pyGPGO) (1.0.0)\n",
            "Requirement already satisfied: patsy>=0.5.1 in /usr/local/lib/python3.7/dist-packages (from pyMC3->pyGPGO) (0.5.2)\n",
            "Requirement already satisfied: dill in /usr/local/lib/python3.7/dist-packages (from pyMC3->pyGPGO) (0.3.4)\n",
            "Requirement already satisfied: typing-extensions>=3.7.4 in /usr/local/lib/python3.7/dist-packages (from pyMC3->pyGPGO) (3.10.0.2)\n",
            "Requirement already satisfied: arviz>=0.11.0 in /usr/local/lib/python3.7/dist-packages (from pyMC3->pyGPGO) (0.11.4)\n",
            "Requirement already satisfied: semver>=2.13.0 in /usr/local/lib/python3.7/dist-packages (from pyMC3->pyGPGO) (2.13.0)\n",
            "Requirement already satisfied: filelock in /usr/local/lib/python3.7/dist-packages (from Theano-PyMC->pyGPGO) (3.3.2)\n",
            "Requirement already satisfied: netcdf4 in /usr/local/lib/python3.7/dist-packages (from arviz>=0.11.0->pyMC3->pyGPGO) (1.5.8)\n",
            "Requirement already satisfied: packaging in /usr/local/lib/python3.7/dist-packages (from arviz>=0.11.0->pyMC3->pyGPGO) (21.2)\n",
            "Requirement already satisfied: xarray>=0.16.1 in /usr/local/lib/python3.7/dist-packages (from arviz>=0.11.0->pyMC3->pyGPGO) (0.18.2)\n",
            "Requirement already satisfied: setuptools>=38.4 in /usr/local/lib/python3.7/dist-packages (from arviz>=0.11.0->pyMC3->pyGPGO) (57.4.0)\n",
            "Requirement already satisfied: matplotlib>=3.0 in /usr/local/lib/python3.7/dist-packages (from arviz>=0.11.0->pyMC3->pyGPGO) (3.2.2)\n",
            "Requirement already satisfied: pyparsing!=2.0.4,!=2.1.2,!=2.1.6,>=2.0.1 in /usr/local/lib/python3.7/dist-packages (from matplotlib>=3.0->arviz>=0.11.0->pyMC3->pyGPGO) (2.4.7)\n",
            "Requirement already satisfied: python-dateutil>=2.1 in /usr/local/lib/python3.7/dist-packages (from matplotlib>=3.0->arviz>=0.11.0->pyMC3->pyGPGO) (2.8.2)\n",
            "Requirement already satisfied: cycler>=0.10 in /usr/local/lib/python3.7/dist-packages (from matplotlib>=3.0->arviz>=0.11.0->pyMC3->pyGPGO) (0.11.0)\n",
            "Requirement already satisfied: kiwisolver>=1.0.1 in /usr/local/lib/python3.7/dist-packages (from matplotlib>=3.0->arviz>=0.11.0->pyMC3->pyGPGO) (1.3.2)\n",
            "Requirement already satisfied: pytz>=2017.2 in /usr/local/lib/python3.7/dist-packages (from pandas>=0.24.0->pyMC3->pyGPGO) (2018.9)\n",
            "Requirement already satisfied: six in /usr/local/lib/python3.7/dist-packages (from patsy>=0.5.1->pyMC3->pyGPGO) (1.15.0)\n",
            "Requirement already satisfied: cftime in /usr/local/lib/python3.7/dist-packages (from netcdf4->arviz>=0.11.0->pyMC3->pyGPGO) (1.5.1.1)\n",
            "Requirement already satisfied: threadpoolctl>=2.0.0 in /usr/local/lib/python3.7/dist-packages (from scikit-learn->pyGPGO) (3.0.0)\n",
            "Building wheels for collected packages: pyGPGO\n",
            "  Building wheel for pyGPGO (setup.py) ... \u001b[?25l\u001b[?25hdone\n",
            "  Created wheel for pyGPGO: filename=pyGPGO-0.5.1-py3-none-any.whl size=19880 sha256=fd2ff6fa066e205f0da3128dfb9c47574a463b2222ff11e3b035d0a892570b4a\n",
            "  Stored in directory: /root/.cache/pip/wheels/c8/5d/0b/2160114e2f1b87791c51b66cf07f89831dbb6f49167950316f\n",
            "Successfully built pyGPGO\n",
            "Installing collected packages: pyGPGO\n",
            "Successfully installed pyGPGO-0.5.1\n"
          ]
        }
      ]
    },
    {
      "cell_type": "code",
      "metadata": {
        "id": "ZJSSPbwPaEUB"
      },
      "source": [
        "### Import:\n",
        "\n",
        "import numpy as np\n",
        "import scipy as sp\n",
        "import pandas as pd\n",
        "import matplotlib.pyplot as plt\n",
        "import warnings\n",
        "import itertools\n",
        "\n",
        "from pyGPGO.GPGO import GPGO\n",
        "from pyGPGO.surrogates.GaussianProcess import GaussianProcess\n",
        "from pyGPGO.acquisition import Acquisition\n",
        "from pyGPGO.covfunc import squaredExponential\n",
        "\n",
        "from joblib import Parallel, delayed\n",
        "from numpy.linalg import solve, cholesky\n",
        "from scipy.spatial.distance import cdist\n",
        "from scipy.optimize import minimize\n",
        "from scipy.stats import norm\n",
        "import time\n",
        "\n",
        "warnings.filterwarnings(\"ignore\", category=RuntimeWarning)\n"
      ],
      "execution_count": 2,
      "outputs": []
    },
    {
      "cell_type": "code",
      "metadata": {
        "id": "OeYcTUNoaJWa"
      },
      "source": [
        "### Inputs:\n",
        "\n",
        "func = 'Branin'\n",
        "Beta_CBM = 1.5 # Default UCB Acquisition function parameter in pyGPGO https://github.com/josejimenezluna/pyGPGO/blob/master/pyGPGO/acquisition.py#L83\n",
        "n_test = 500\n",
        "eps = 1e-08\n",
        "\n",
        "util_grad_exact = 'dCBM_GP'\n",
        "util_grad_approx = 'CBM'\n",
        "\n",
        "n_init = 5 # random initialisations\n",
        "iters = 20\n",
        "opt = True"
      ],
      "execution_count": 3,
      "outputs": []
    },
    {
      "cell_type": "code",
      "metadata": {
        "id": "xpaEOjdzaPMS"
      },
      "source": [
        "### Objective Function - Branin(x) 2-D:\n",
        "\n",
        "def objfunc(x1_training, x2_training, a = 1, b = (5.1 / (4 * (np.pi) ** 2)), c = (5 / (np.pi)), r = 6, s = 10, t = (1 / (8 * np.pi))):\n",
        "        return operator * ((a * (x2_training - b * x1_training ** 2 + c * x1_training - r) ** 2) + \n",
        "                 s * (1 - t) * np.cos(x1_training) + s)\n",
        "        \n",
        "# Constraints:\n",
        "lb_x1 = -5 \n",
        "ub_x1 = +10\n",
        "lb_x2 = +0 \n",
        "ub_x2 = +15\n",
        "\n",
        "# Input array dimension(s):\n",
        "dim = 2\n",
        "\n",
        "# 2-D inputs' parameter bounds:\n",
        "param = {'x1_training': ('cont', [lb_x1, ub_x1]),\n",
        "             'x2_training': ('cont', [lb_x2, ub_x2])}\n",
        "\n",
        "# True y bounds:\n",
        "operator = -1\n",
        "y_lb = 0.397887 # targets global minimum\n",
        "y_global_orig = y_lb * operator # targets global minimum\n",
        "\n",
        "\n",
        "# Test data:\n",
        "x1_test = np.linspace(lb_x1, ub_x1, n_test)\n",
        "x2_test = np.linspace(lb_x2, ub_x2, n_test)\n",
        "  \n",
        "x_test = np.column_stack((x1_test,x2_test))\n"
      ],
      "execution_count": 4,
      "outputs": []
    },
    {
      "cell_type": "code",
      "metadata": {
        "id": "eYpI3Zm4aGxi"
      },
      "source": [
        "n_start_AcqFunc = iters\n"
      ],
      "execution_count": 5,
      "outputs": []
    },
    {
      "cell_type": "code",
      "metadata": {
        "id": "oO_GUmOoaV0T"
      },
      "source": [
        "### Cumulative Regret Calculator:\n",
        "\n",
        "def min_max_array(x):\n",
        "    new_list = []\n",
        "    for i, num in enumerate(x):\n",
        "            new_list.append(np.min(x[0:i+1]))\n",
        "    return new_list\n",
        "  "
      ],
      "execution_count": 6,
      "outputs": []
    },
    {
      "cell_type": "code",
      "metadata": {
        "id": "kuuJx0IMam9S"
      },
      "source": [
        "### Surrogate derivatives: \n",
        "\n",
        "cov_func = squaredExponential()\n",
        "\n",
        "def kronDelta(X, Xstar):\n",
        "    return cdist(X, Xstar) < np.finfo(np.float32).eps\n",
        "\n",
        "def se(X, Xstar, sigmaf, l, sigman):\n",
        "    return sigmaf * np.exp(-0.5 * cdist(X, Xstar) ** 2 / l ** 2) + sigman * kronDelta(X, Xstar)\n",
        "\n",
        "def deriv_se(X, Xstar, sigmaf, l, sigman):\n",
        "    return cdist(X, Xstar) / (l ** 2) * se(X, Xstar, sigmaf, l, sigman)\n",
        "\n",
        "def der_covmat(X, Xstar, sigmaf, l, sigman):\n",
        "      nx = len(X)\n",
        "      ny = len(Xstar)\n",
        "      return np.round(np.array([deriv_se(np.atleast_2d(i), np.atleast_2d(j), sigmaf, l, sigman) for (i, j) in itertools.product(X, Xstar)]).reshape(nx, ny), 8)\n",
        "\n",
        "class dGaussianProcess(GaussianProcess):\n",
        "    l = GaussianProcess(cov_func, optimize=opt).getcovparams()['l']\n",
        "    sigmaf = GaussianProcess(cov_func, optimize=opt).getcovparams()['sigmaf']\n",
        "    sigman = GaussianProcess(cov_func, optimize=opt).getcovparams()['sigman']\n",
        "\n",
        "    def AcqGrad(self, Xstar):\n",
        "        Xstar = np.atleast_2d(Xstar)\n",
        "        Kstar = self.covfunc.K(self.X, Xstar).T\n",
        "        dKstar = der_covmat(self.X, Xstar, self.sigmaf, self.l, self.sigman).T\n",
        "        \n",
        "        alpha_Kstar = np.dot(np.linalg.inv(self.K + (self.sigman**2) * np.eye(len(self.X))), Kstar.T)\n",
        "        \n",
        "        dm = np.dot(dKstar, self.alpha)\n",
        "        ds = -2 * np.dot(dKstar, alpha_Kstar)\n",
        "        \n",
        "        return dm, ds\n",
        "        "
      ],
      "execution_count": 7,
      "outputs": []
    },
    {
      "cell_type": "code",
      "metadata": {
        "id": "_Dc3YVHVaXz7"
      },
      "source": [
        "class Acquisition_new(Acquisition):    \n",
        "    def __init__(self, mode, eps=eps, **params):\n",
        "        \n",
        "        self.params = params\n",
        "        self.eps = eps\n",
        "\n",
        "        mode_dict = {\n",
        "            'CBM': self.CBM,\n",
        "            'dCBM_GP': self.dCBM_GP\n",
        "        }\n",
        "\n",
        "        self.f = mode_dict[mode]\n",
        "\n",
        "    def CBM(self, tau, mean, std):\n",
        "        z = (mean - y_global_orig - self.eps) / (std + self.eps)\n",
        "        return (std + self.eps) * (z + np.sqrt(Beta_CBM))\n",
        "\n",
        "    def dCBM_GP(self, tau, mean, std, ds, dm):\n",
        "        gamma = (mean - y_global_orig - self.eps) / (std + self.eps)\n",
        "        gamma_h = (mean - tau) / (std + self.eps)\n",
        "        dsdx = ds / (2 * (std + self.eps))\n",
        "        dmdx = (dm - gamma * dsdx) / (std + self.eps)\n",
        "\n",
        "        f = (std + self.eps) * (gamma + np.sqrt(Beta_CBM))\n",
        "        df = dsdx * (gamma + np.sqrt(Beta_CBM)) + (std + self.eps) * dmdx\n",
        "        df_arr = []\n",
        "\n",
        "        for j in range(0, dim):\n",
        "          df_arr.append(df)\n",
        "        return f, np.asarray(df_arr).transpose()\n",
        "        \n",
        "    def d_eval(self, tau, mean, std, ds, dm):\n",
        "    \n",
        "        return self.f(tau, mean, std, ds, dm, **self.params)\n",
        "        "
      ],
      "execution_count": 8,
      "outputs": []
    },
    {
      "cell_type": "code",
      "metadata": {
        "id": "PITEQC8YSl7i"
      },
      "source": [
        "## GPGO_multi: Multistart changed to variable 'n_start_AcqFunc'\n",
        "\n",
        "class GPGO_multi(GPGO):\n",
        "    n_start = n_start_AcqFunc\n",
        "\n",
        "    def _optimizeAcq(self, method='L-BFGS-B', n_start=n_start_AcqFunc):\n",
        "        \n",
        "        start_points_dict = [self._sampleParam() for i in range(n_start)]\n",
        "        start_points_arr = np.array([list(s.values())\n",
        "                                     for s in start_points_dict])\n",
        "        x_best = np.empty((n_start, len(self.parameter_key)))\n",
        "        f_best = np.empty((n_start,))\n",
        "        if self.n_jobs == 1:\n",
        "            for index, start_point in enumerate(start_points_arr):\n",
        "                res = minimize(self._acqWrapper, x0=start_point, method=method,\n",
        "                               bounds=self.parameter_range)\n",
        "                x_best[index], f_best[index] = res.x, np.atleast_1d(res.fun)[0]\n",
        "        else:\n",
        "            opt = Parallel(n_jobs=self.n_jobs)(delayed(minimize)(self._acqWrapper,\n",
        "                                                                 x0=start_point,\n",
        "                                                                 method=method,\n",
        "                                                                 bounds=self.parameter_range) for start_point in\n",
        "                                               start_points_arr)\n",
        "            x_best = np.array([res.x for res in opt])\n",
        "            f_best = np.array([np.atleast_1d(res.fun)[0] for res in opt])\n",
        "\n",
        "        self.best = x_best[np.argmin(f_best)]"
      ],
      "execution_count": 9,
      "outputs": []
    },
    {
      "cell_type": "code",
      "metadata": {
        "id": "b_B-w81BJxKN"
      },
      "source": [
        "## dGPGO:\n",
        "\n",
        "grad = 1\n",
        "\n",
        "class dGPGO(GPGO):\n",
        "    n_start = n_start_AcqFunc\n",
        "\n",
        "    def d_optimizeAcq(self, method='L-BFGS-B', n_start=n_start_AcqFunc):\n",
        "        start_points_dict = [self._sampleParam() for i in range(n_start)]\n",
        "        start_points_arr = np.array([list(s.values())\n",
        "                                     for s in start_points_dict])\n",
        "        x_best = np.empty((n_start, len(self.parameter_key)))\n",
        "        f_best = np.empty((n_start,))\n",
        "        opt = Parallel(n_jobs=self.n_jobs)(delayed(minimize)(self.acqfunc,\n",
        "                                                                 x0=start_point,\n",
        "                                                                 method=method,\n",
        "                                                                 jac = True,\n",
        "                                                                 bounds=self.parameter_range) for start_point in\n",
        "                                               start_points_arr)\n",
        "        x_best = np.array([res.x for res in opt])\n",
        "        f_best = np.array([np.atleast_1d(res.fun)[0] for res in opt])\n",
        "\n",
        "        self.x_best = x_best\n",
        "        self.f_best = f_best\n",
        "        self.best = x_best[np.argmin(f_best)]\n",
        "        self.start_points_arr = start_points_arr\n",
        "\n",
        "        return x_best, f_best\n",
        "    \n",
        "    def run(self, max_iter=10, init_evals=3, resume=False):\n",
        "        \n",
        "        if not resume:\n",
        "            self.init_evals = init_evals\n",
        "            self._firstRun(self.init_evals)\n",
        "            self.logger._printInit(self)\n",
        "        for iteration in range(max_iter):\n",
        "            self.d_optimizeAcq()\n",
        "            self.updateGP()\n",
        "            self.logger._printCurrent(self)\n",
        "\n",
        "    def acqfunc(self, xnew, n_start=n_start_AcqFunc):\n",
        "        new_mean, new_var = self.GP.predict(xnew, return_std=True)\n",
        "        new_std = np.sqrt(new_var + eps)\n",
        "        dm, ds = self.GP.AcqGrad(xnew)\n",
        "        f, df = self.A.d_eval(self.tau, new_mean, new_std, ds=ds, dm=dm)\n",
        "\n",
        "        return -f, -df * grad\n"
      ],
      "execution_count": 10,
      "outputs": []
    },
    {
      "cell_type": "code",
      "metadata": {
        "id": "qXIKGuXVGEg2"
      },
      "source": [
        "###Reproducible set-seeds:\n",
        "\n",
        "run_num_1 = 1\n",
        "run_num_2 = 2\n",
        "run_num_3 = 3\n",
        "run_num_4 = 4\n",
        "run_num_5 = 5\n",
        "run_num_6 = 6\n",
        "run_num_7 = 7\n",
        "run_num_8 = 8\n",
        "run_num_9 = 9\n",
        "run_num_10 = 10\n",
        "run_num_11 = 11\n",
        "run_num_12 = 12\n",
        "run_num_13 = 13\n",
        "run_num_14 = 14\n",
        "run_num_15 = 15\n",
        "run_num_16 = 16\n",
        "run_num_17 = 17\n",
        "run_num_18 = 18\n",
        "run_num_19 = 19\n",
        "run_num_20 = 20\n"
      ],
      "execution_count": 11,
      "outputs": []
    },
    {
      "cell_type": "code",
      "metadata": {
        "colab": {
          "base_uri": "https://localhost:8080/"
        },
        "id": "JEhagQmnTVIK",
        "outputId": "358753c1-e9a7-408d-d7b6-4d987395aa16"
      },
      "source": [
        "start_approx = time.time()\n",
        "start_approx\n"
      ],
      "execution_count": 12,
      "outputs": [
        {
          "output_type": "execute_result",
          "data": {
            "text/plain": [
              "1637160210.3866086"
            ]
          },
          "metadata": {},
          "execution_count": 12
        }
      ]
    },
    {
      "cell_type": "code",
      "metadata": {
        "colab": {
          "base_uri": "https://localhost:8080/"
        },
        "id": "aH0YSTXufD1v",
        "outputId": "fc5684c1-5b93-4eb2-ea55-fcc2568caa0f"
      },
      "source": [
        "### ESTIMATED GP EI GRADIENTS\n",
        "\n",
        "np.random.seed(run_num_1)\n",
        "surrogate_approx_1 = GaussianProcess(cov_func, optimize=opt)\n",
        "\n",
        "approx_1 = GPGO_multi(surrogate_approx_1, Acquisition_new(util_grad_approx), objfunc, param)\n",
        "approx_1.run(init_evals=n_init, max_iter=iters)\n"
      ],
      "execution_count": 13,
      "outputs": [
        {
          "output_type": "stream",
          "name": "stdout",
          "text": [
            "Evaluation \t Proposed point \t  Current eval. \t Best eval.\n",
            "init   \t [ 1.25533007 10.8048674 ]. \t  -56.52874004692151 \t -27.68166689936483\n",
            "init   \t [-4.99828438  4.53498859]. \t  -172.66531086516164 \t -27.68166689936483\n",
            "init   \t [-2.79866164  1.38507892]. \t  -102.58290348816024 \t -27.68166689936483\n",
            "init   \t [-2.20609683  5.18341091]. \t  -28.868064601155666 \t -27.68166689936483\n",
            "init   \t [0.95151211 8.08225101]. \t  -27.68166689936483 \t -27.68166689936483\n",
            "1      \t [8.41909995 1.27566317]. \t  \u001b[92m-5.089934878453152\u001b[0m \t -5.089934878453152\n",
            "2      \t [10. 15.]. \t  -145.87219087939556 \t -5.089934878453152\n",
            "3      \t [9.50914495 8.52150693]. \t  -36.125759150808236 \t -5.089934878453152\n",
            "4      \t [-4.67712792 14.21955317]. \t  -13.865244792739254 \t -5.089934878453152\n",
            "5      \t [2.91798554 0.        ]. \t  -6.668098871164484 \t -5.089934878453152\n",
            "6      \t [5.22042962 5.01372513]. \t  -29.123618723851983 \t -5.089934878453152\n",
            "7      \t [ 4.44845215 15.        ]. \t  -190.3809585852207 \t -5.089934878453152\n",
            "8      \t [-4.53464384  9.66118279]. \t  -46.895504250018554 \t -5.089934878453152\n",
            "9      \t [-0.51480761 15.        ]. \t  -84.7217315492721 \t -5.089934878453152\n",
            "10     \t [ 5.62622726 10.25362857]. \t  -100.75570690933071 \t -5.089934878453152\n",
            "11     \t [10.          4.43630295]. \t  \u001b[92m-3.997622415457755\u001b[0m \t -3.997622415457755\n",
            "12     \t [1.442578   3.41812335]. \t  -11.535576456661872 \t -3.997622415457755\n",
            "13     \t [5.89520246 0.        ]. \t  -20.11408907963102 \t -3.997622415457755\n",
            "14     \t [0.40997929 0.        ]. \t  -47.63480797254571 \t -3.997622415457755\n",
            "15     \t [-2.12546061 11.86555552]. \t  -8.549848839783204 \t -3.997622415457755\n",
            "16     \t [ 9.02848369 11.61450005]. \t  -90.51062806171741 \t -3.997622415457755\n",
            "17     \t [10.  0.]. \t  -10.960889035651505 \t -3.997622415457755\n",
            "18     \t [7.87946589 3.53665272]. \t  -13.985194585594094 \t -3.997622415457755\n",
            "19     \t [3.98686045 2.2654713 ]. \t  \u001b[92m-3.939353168463099\u001b[0m \t -3.939353168463099\n",
            "20     \t [-1.87495343  8.25698607]. \t  -8.519592364498301 \t -3.939353168463099\n"
          ]
        }
      ]
    },
    {
      "cell_type": "code",
      "metadata": {
        "colab": {
          "base_uri": "https://localhost:8080/"
        },
        "id": "wTxsSZxFGBB5",
        "outputId": "597d61e8-4b84-488d-e666-b6be4f9c913f"
      },
      "source": [
        "### ESTIMATED GP EI GRADIENTS\n",
        "\n",
        "np.random.seed(run_num_2)\n",
        "surrogate_approx_2 = GaussianProcess(cov_func, optimize=opt)\n",
        "\n",
        "approx_2 = GPGO_multi(surrogate_approx_2, Acquisition_new(util_grad_approx), objfunc, param)\n",
        "approx_2.run(init_evals=n_init, max_iter=iters)\n"
      ],
      "execution_count": 14,
      "outputs": [
        {
          "output_type": "stream",
          "name": "stdout",
          "text": [
            "Evaluation \t Proposed point \t  Current eval. \t Best eval.\n",
            "init   \t [1.53992353 0.38889348]. \t  -22.31361308916297 \t -6.692051508754487\n",
            "init   \t [3.24493717 6.52983589]. \t  -19.233109967858276 \t -6.692051508754487\n",
            "init   \t [1.30551703 4.95502232]. \t  -13.177851563387286 \t -6.692051508754487\n",
            "init   \t [-1.93027049  9.2890645 ]. \t  -6.692051508754487 \t -6.692051508754487\n",
            "init   \t [-0.50517989  4.00240913]. \t  -26.437522758780958 \t -6.692051508754487\n",
            "1      \t [ 9.5587047  12.00387527]. \t  -89.09951357262268 \t -6.692051508754487\n",
            "2      \t [9.59366035 1.69164323]. \t  \u001b[92m-1.3984593420568778\u001b[0m \t -1.3984593420568778\n",
            "3      \t [ 3.24245232 12.67669673]. \t  -110.25694222671481 \t -1.3984593420568778\n",
            "4      \t [-5. 15.]. \t  -17.508299515778166 \t -1.3984593420568778\n",
            "5      \t [-5.         0.6245187]. \t  -287.05146421775174 \t -1.3984593420568778\n",
            "6      \t [8.75628092 6.43435318]. \t  -22.405514091005916 \t -1.3984593420568778\n",
            "7      \t [-5.          6.03047533]. \t  -137.19982917984692 \t -1.3984593420568778\n",
            "8      \t [5.7177841  2.45893579]. \t  -19.891693927020263 \t -1.3984593420568778\n",
            "9      \t [-0.7680025 15.       ]. \t  -76.21973708735933 \t -1.3984593420568778\n",
            "10     \t [-5.        11.0247498]. \t  -50.701519237707664 \t -1.3984593420568778\n",
            "11     \t [6.05733924 9.35365917]. \t  -87.49105586476345 \t -1.3984593420568778\n",
            "12     \t [1.14244338 9.28747363]. \t  -38.36361441662855 \t -1.3984593420568778\n",
            "13     \t [ 6.75312865 15.        ]. \t  -210.56408976853396 \t -1.3984593420568778\n",
            "14     \t [10.  0.]. \t  -10.960889035651505 \t -1.3984593420568778\n",
            "15     \t [7.12228567 0.        ]. \t  -17.898195696928802 \t -1.3984593420568778\n",
            "16     \t [-1.32003261  0.        ]. \t  -81.70497069409579 \t -1.3984593420568778\n",
            "17     \t [10.          3.36009987]. \t  -2.070691977987635 \t -1.3984593420568778\n",
            "18     \t [-1.41677197 11.72351621]. \t  -21.77303893151428 \t -1.3984593420568778\n",
            "19     \t [-1.34792887  6.91154327]. \t  -14.27872821472412 \t -1.3984593420568778\n",
            "20     \t [5.96019338 5.42082312]. \t  -37.747492597653846 \t -1.3984593420568778\n"
          ]
        }
      ]
    },
    {
      "cell_type": "code",
      "metadata": {
        "colab": {
          "base_uri": "https://localhost:8080/"
        },
        "id": "-dgzIrUIGCGT",
        "outputId": "44ada54f-621b-4675-cc09-e87f7102331a"
      },
      "source": [
        "### ESTIMATED GP EI GRADIENTS\n",
        "\n",
        "np.random.seed(run_num_3)\n",
        "surrogate_approx_3 = GaussianProcess(cov_func, optimize=opt)\n",
        "\n",
        "approx_3 = GPGO_multi(surrogate_approx_3, Acquisition_new(util_grad_approx), objfunc, param)\n",
        "approx_3.run(init_evals=n_init, max_iter=iters)\n"
      ],
      "execution_count": 15,
      "outputs": [
        {
          "output_type": "stream",
          "name": "stdout",
          "text": [
            "Evaluation \t Proposed point \t  Current eval. \t Best eval.\n",
            "init   \t [ 3.26196854 10.62221734]. \t  -71.68783452098575 \t -18.07886746449891\n",
            "init   \t [-0.63642892  7.66241408]. \t  -18.07886746449891 \t -18.07886746449891\n",
            "init   \t [ 8.39420432 13.44439633]. \t  -141.98653529865882 \t -18.07886746449891\n",
            "init   \t [-3.11622034  3.10864317]. \t  -83.31045707266176 \t -18.07886746449891\n",
            "init   \t [-4.22799195  6.61214765]. \t  -76.5294170688398 \t -18.07886746449891\n",
            "1      \t [6.70472147 4.59545299]. \t  -30.726791812855225 \t -18.07886746449891\n",
            "2      \t [-5. 15.]. \t  \u001b[92m-17.508299515778166\u001b[0m \t -17.508299515778166\n",
            "3      \t [1.86612636 0.        ]. \t  -19.31456108173424 \t -17.508299515778166\n",
            "4      \t [10.  0.]. \t  \u001b[92m-10.960889035651505\u001b[0m \t -10.960889035651505\n",
            "5      \t [ 0.1765773 15.       ]. \t  -105.51560210113888 \t -10.960889035651505\n",
            "6      \t [10.        8.344577]. \t  -30.476049058863914 \t -10.960889035651505\n",
            "7      \t [-0.6195202  11.33294215]. \t  -36.28496106529289 \t -10.960889035651505\n",
            "8      \t [2.1849878 4.3863126]. \t  \u001b[92m-6.021529854808994\u001b[0m \t -6.021529854808994\n",
            "9      \t [4.73967877 1.19419096]. \t  -10.289050421610593 \t -6.021529854808994\n",
            "10     \t [-5.         10.94934358]. \t  -51.63660366333644 \t -6.021529854808994\n",
            "11     \t [6.32120257 8.30884776]. \t  -71.5425232845643 \t -6.021529854808994\n",
            "12     \t [ 4.40993874 15.        ]. \t  -189.56037857541287 \t -6.021529854808994\n",
            "13     \t [10.          3.50637037]. \t  \u001b[92m-2.1965660851563733\u001b[0m \t -2.1965660851563733\n",
            "14     \t [2.76952656 7.00616428]. \t  -20.618886397055704 \t -2.1965660851563733\n",
            "15     \t [-1.43697855  0.        ]. \t  -84.44819319499945 \t -2.1965660851563733\n",
            "16     \t [-5.  0.]. \t  -308.12909601160663 \t -2.1965660851563733\n",
            "17     \t [7.19574023 0.        ]. \t  -17.40311371459421 \t -2.1965660851563733\n",
            "18     \t [10.          5.30846216]. \t  -7.258496538128828 \t -2.1965660851563733\n",
            "19     \t [0.36702555 3.06848481]. \t  -24.55477582605009 \t -2.1965660851563733\n",
            "20     \t [8.8498754  2.40581539]. \t  \u001b[92m-2.080646522578542\u001b[0m \t -2.080646522578542\n"
          ]
        }
      ]
    },
    {
      "cell_type": "code",
      "metadata": {
        "colab": {
          "base_uri": "https://localhost:8080/"
        },
        "id": "hOtG-2sCGCKS",
        "outputId": "fd249e27-7ec3-43fa-881e-8773692841f9"
      },
      "source": [
        "### ESTIMATED GP EI GRADIENTS\n",
        "\n",
        "np.random.seed(run_num_4)\n",
        "surrogate_approx_4 = GaussianProcess(cov_func, optimize=opt)\n",
        "\n",
        "approx_4 = GPGO_multi(surrogate_approx_4, Acquisition_new(util_grad_approx), objfunc, param)\n",
        "approx_4.run(init_evals=n_init, max_iter=iters)\n"
      ],
      "execution_count": 16,
      "outputs": [
        {
          "output_type": "stream",
          "name": "stdout",
          "text": [
            "Evaluation \t Proposed point \t  Current eval. \t Best eval.\n",
            "init   \t [9.50544759 8.20848374]. \t  -32.51676744781521 \t -7.247126865776948\n",
            "init   \t [ 9.5902654  10.72223991]. \t  -66.20566674364716 \t -7.247126865776948\n",
            "init   \t [5.46593237 3.24134243]. \t  -20.90089401680587 \t -7.247126865776948\n",
            "init   \t [9.64411682 0.09345383]. \t  -7.247126865776948 \t -7.247126865776948\n",
            "init   \t [-1.20526456  6.52187299]. \t  -15.941376982363263 \t -7.247126865776948\n",
            "1      \t [ 1.25164457 13.57001383]. \t  -100.61648848019335 \t -7.247126865776948\n",
            "2      \t [-5.  0.]. \t  -308.12909601160663 \t -7.247126865776948\n",
            "3      \t [-5. 15.]. \t  -17.508299515778166 \t -7.247126865776948\n",
            "4      \t [1.01936288 0.        ]. \t  -35.38759539987893 \t -7.247126865776948\n",
            "5      \t [3.93249678 8.53255823]. \t  -49.39999979090693 \t -7.247126865776948\n",
            "6      \t [-5.          9.85074879]. \t  -66.54961855048015 \t -7.247126865776948\n",
            "7      \t [ 6.50955889 15.        ]. \t  -212.1829665389164 \t -7.247126865776948\n",
            "8      \t [-5.          4.94722899]. \t  -162.5445604597808 \t -7.247126865776948\n",
            "9      \t [10.          3.97110305]. \t  \u001b[92m-2.8804481923242378\u001b[0m \t -2.8804481923242378\n",
            "10     \t [1.68874999 4.12304809]. \t  -9.065701548536646 \t -2.8804481923242378\n",
            "11     \t [-0.84454772 10.09561284]. \t  -23.448512343023594 \t -2.8804481923242378\n",
            "12     \t [6.17244412 0.        ]. \t  -20.7490286581629 \t -2.8804481923242378\n",
            "13     \t [-1.49674587  2.73272724]. \t  -45.98001173886277 \t -2.8804481923242378\n",
            "14     \t [6.81348275 6.18162927]. \t  -43.56834121811054 \t -2.8804481923242378\n",
            "15     \t [-2.55470015 13.02997779]. \t  -6.5029720152669945 \t -2.8804481923242378\n",
            "16     \t [ 5.95281843 11.20771679]. \t  -121.17637086245387 \t -2.8804481923242378\n",
            "17     \t [-1.85475502 15.        ]. \t  -38.71085166018635 \t -2.8804481923242378\n",
            "18     \t [10.         14.42821684]. \t  -132.47971200757513 \t -2.8804481923242378\n",
            "19     \t [8.45730562 2.50571106]. \t  -5.078824929309521 \t -2.8804481923242378\n",
            "20     \t [1.45732613 6.74103977]. \t  -18.849483049742553 \t -2.8804481923242378\n"
          ]
        }
      ]
    },
    {
      "cell_type": "code",
      "metadata": {
        "colab": {
          "base_uri": "https://localhost:8080/"
        },
        "id": "JF_SxcEvGCOl",
        "outputId": "10311ca2-b263-447e-d2fc-2a85dc8d94c9"
      },
      "source": [
        "### ESTIMATED GP EI GRADIENTS\n",
        "\n",
        "np.random.seed(run_num_5)\n",
        "surrogate_approx_5 = GaussianProcess(cov_func, optimize=opt)\n",
        "\n",
        "approx_5 = GPGO_multi(surrogate_approx_5, Acquisition_new(util_grad_approx), objfunc, param)\n",
        "approx_5.run(init_evals=n_init, max_iter=iters)\n"
      ],
      "execution_count": 17,
      "outputs": [
        {
          "output_type": "stream",
          "name": "stdout",
          "text": [
            "Evaluation \t Proposed point \t  Current eval. \t Best eval.\n",
            "init   \t [-1.67010243 13.06098459]. \t  -25.390690545664548 \t -25.311309190989615\n",
            "init   \t [-1.89921267 13.77916362]. \t  -25.311309190989615 \t -25.311309190989615\n",
            "init   \t [2.32616783 9.17615794]. \t  -41.60147975414021 \t -25.311309190989615\n",
            "init   \t [6.48861785 7.77626982]. \t  -63.81281921768236 \t -25.311309190989615\n",
            "init   \t [-0.54799248  2.81581843]. \t  -34.966203644931994 \t -25.311309190989615\n",
            "1      \t [8.84124421 0.03321319]. \t  \u001b[92m-5.96108856337545\u001b[0m \t -5.96108856337545\n",
            "2      \t [10. 15.]. \t  -145.87219087939556 \t -5.96108856337545\n",
            "3      \t [-5.          7.84461928]. \t  -100.01055830053753 \t -5.96108856337545\n",
            "4      \t [ 3.78284679 15.        ]. \t  -175.80608250455492 \t -5.96108856337545\n",
            "5      \t [-5.  0.]. \t  -308.12909601160663 \t -5.96108856337545\n",
            "6      \t [3.90428005 0.        ]. \t  -6.13912298557537 \t -5.96108856337545\n",
            "7      \t [10.          4.33708628]. \t  \u001b[92m-3.7230426577962055\u001b[0m \t -3.7230426577962055\n",
            "8      \t [3.79839983 4.09270227]. \t  -7.567586557905504 \t -3.7230426577962055\n",
            "9      \t [10.         10.33723508]. \t  -55.734781425837305 \t -3.7230426577962055\n",
            "10     \t [-0.88392373  6.80161842]. \t  -16.58752337302849 \t -3.7230426577962055\n",
            "11     \t [6.99598445 2.92358065]. \t  -20.27543832052345 \t -3.7230426577962055\n",
            "12     \t [-5. 15.]. \t  -17.508299515778166 \t -3.7230426577962055\n",
            "13     \t [ 6.33740054 11.77246107]. \t  -133.44449378047906 \t -3.7230426577962055\n",
            "14     \t [-4.14120697  4.09189817]. \t  -119.60933886921839 \t -3.7230426577962055\n",
            "15     \t [-5.         11.64297917]. \t  -43.46391372461255 \t -3.7230426577962055\n",
            "16     \t [1.04639719 0.        ]. \t  -34.842799617252055 \t -3.7230426577962055\n",
            "17     \t [-1.44071625  9.88982587]. \t  -13.010997558990224 \t -3.7230426577962055\n",
            "18     \t [10.          6.79299344]. \t  -16.30751984878644 \t -3.7230426577962055\n",
            "19     \t [ 1.2835352  12.25921336]. \t  -78.15563321994728 \t -3.7230426577962055\n",
            "20     \t [1.88009497 5.74760865]. \t  -12.290377429222877 \t -3.7230426577962055\n"
          ]
        }
      ]
    },
    {
      "cell_type": "code",
      "metadata": {
        "colab": {
          "base_uri": "https://localhost:8080/"
        },
        "id": "-kDxZtJsGCR3",
        "outputId": "6cb2211f-3cb8-4876-a772-531333032e03"
      },
      "source": [
        "### ESTIMATED GP EI GRADIENTS\n",
        "\n",
        "np.random.seed(run_num_6)\n",
        "surrogate_approx_6 = GaussianProcess(cov_func, optimize=opt)\n",
        "\n",
        "approx_6 = GPGO_multi(surrogate_approx_6, Acquisition_new(util_grad_approx), objfunc, param)\n",
        "approx_6.run(init_evals=n_init, max_iter=iters)\n"
      ],
      "execution_count": 18,
      "outputs": [
        {
          "output_type": "stream",
          "name": "stdout",
          "text": [
            "Evaluation \t Proposed point \t  Current eval. \t Best eval.\n",
            "init   \t [8.39290227 4.97969708]. \t  -15.553860636684597 \t -15.31731051317483\n",
            "init   \t [7.31843685 0.62544939]. \t  -15.31731051317483 \t -15.31731051317483\n",
            "init   \t [-3.3851498   8.92578096]. \t  -16.222288919361837 \t -15.31731051317483\n",
            "init   \t [2.94726043 6.28211143]. \t  -15.406373581304088 \t -15.31731051317483\n",
            "init   \t [0.03111774 9.33779148]. \t  -31.07053245856209 \t -15.31731051317483\n",
            "1      \t [ 9.64829531 12.55362889]. \t  -98.32295673962142 \t -15.31731051317483\n",
            "2      \t [-5.  0.]. \t  -308.12909601160663 \t -15.31731051317483\n",
            "3      \t [ 4.34724927 14.59608757]. \t  -177.48889452505895 \t -15.31731051317483\n",
            "4      \t [-2.66634827 14.57178188]. \t  \u001b[92m-13.088248431900183\u001b[0m \t -13.088248431900183\n",
            "5      \t [1.71048885 0.25070046]. \t  -20.25660691280801 \t -13.088248431900183\n",
            "6      \t [-1.58091427  4.26573161]. \t  -30.817382485197125 \t -13.088248431900183\n",
            "7      \t [5.85689078 9.56334924]. \t  -90.20345076787629 \t -13.088248431900183\n",
            "8      \t [10.          8.30384662]. \t  -30.04257566178819 \t -13.088248431900183\n",
            "9      \t [ 0.18638758 12.6865283 ]. \t  -68.1378550124482 \t -13.088248431900183\n",
            "10     \t [-4.16324154  5.82721902]. \t  -86.67147208021338 \t -13.088248431900183\n",
            "11     \t [4.52525455 2.99704863]. \t  \u001b[92m-10.627827399440067\u001b[0m \t -10.627827399440067\n",
            "12     \t [-5.         12.07745916]. \t  -38.83484165314421 \t -10.627827399440067\n",
            "13     \t [2.97040559 9.60903162]. \t  -52.33136407379438 \t -10.627827399440067\n",
            "14     \t [10.          2.12146081]. \t  \u001b[92m-2.720175492016957\u001b[0m \t -2.720175492016957\n",
            "15     \t [-1.22170023  0.84737397]. \t  -66.42611025754064 \t -2.720175492016957\n",
            "16     \t [1.59741866 3.51169953]. \t  -9.820341549866255 \t -2.720175492016957\n",
            "17     \t [10.  0.]. \t  -10.960889035651505 \t -2.720175492016957\n",
            "18     \t [4.60510706 0.        ]. \t  -10.960962223958848 \t -2.720175492016957\n",
            "19     \t [5.76186798 5.89843274]. \t  -41.17422209323034 \t -2.720175492016957\n",
            "20     \t [ 7.77175002 15.        ]. \t  -194.835028384371 \t -2.720175492016957\n"
          ]
        }
      ]
    },
    {
      "cell_type": "code",
      "metadata": {
        "colab": {
          "base_uri": "https://localhost:8080/"
        },
        "id": "fKB8MCD_GCVI",
        "outputId": "a39a110a-6ba2-48af-a5b6-70459286d1ad"
      },
      "source": [
        "### ESTIMATED GP EI GRADIENTS\n",
        "\n",
        "np.random.seed(run_num_7)\n",
        "surrogate_approx_7 = GaussianProcess(cov_func, optimize=opt)\n",
        "\n",
        "approx_7 = GPGO_multi(surrogate_approx_7, Acquisition_new(util_grad_approx), objfunc, param)\n",
        "approx_7.run(init_evals=n_init, max_iter=iters)\n"
      ],
      "execution_count": 19,
      "outputs": [
        {
          "output_type": "stream",
          "name": "stdout",
          "text": [
            "Evaluation \t Proposed point \t  Current eval. \t Best eval.\n",
            "init   \t [-3.85537566 11.69878188]. \t  -8.299317850233932 \t -5.211335324193094\n",
            "init   \t [ 1.57613847 10.85197767]. \t  -59.50408380701259 \t -5.211335324193094\n",
            "init   \t [9.66984268 8.07743806]. \t  -29.714921414987273 \t -5.211335324193094\n",
            "init   \t [2.51680695 1.080767  ]. \t  -5.211335324193094 \t -5.211335324193094\n",
            "init   \t [-0.9734153   7.49823751]. \t  -15.431057204948033 \t -5.211335324193094\n",
            "1      \t [-4.97859679  1.38393519]. \t  -260.3293952774437 \t -5.211335324193094\n",
            "2      \t [ 8.70402646 15.        ]. \t  -173.5025357042583 \t -5.211335324193094\n",
            "3      \t [10.  0.]. \t  -10.960889035651505 \t -5.211335324193094\n",
            "4      \t [-3.39684884  5.54228873]. \t  -54.79871094423047 \t -5.211335324193094\n",
            "5      \t [4.57368472 5.89737599]. \t  -28.691444366574665 \t -5.211335324193094\n",
            "6      \t [-0.88738335 15.        ]. \t  -72.10277514017764 \t -5.211335324193094\n",
            "7      \t [ 3.85002728 15.        ]. \t  -177.28230205950914 \t -5.211335324193094\n",
            "8      \t [ 6.16044284 10.64004942]. \t  -110.57983031481356 \t -5.211335324193094\n",
            "9      \t [8.49284643 3.79918854]. \t  -8.266797582848524 \t -5.211335324193094\n",
            "10     \t [6.06153049 0.        ]. \t  -20.575638501872525 \t -5.211335324193094\n",
            "11     \t [-0.72229475  0.        ]. \t  -69.28895332499013 \t -5.211335324193094\n",
            "12     \t [-5. 15.]. \t  -17.508299515778166 \t -5.211335324193094\n",
            "13     \t [0.81128527 4.14171044]. \t  -17.036952912677442 \t -5.211335324193094\n",
            "14     \t [-5.          8.85109275]. \t  -82.21710600366956 \t -5.211335324193094\n",
            "15     \t [10.         11.40022218]. \t  -72.45720973965322 \t -5.211335324193094\n",
            "16     \t [2.02915936 7.81826774]. \t  -26.144237821282363 \t -5.211335324193094\n",
            "17     \t [4.79065024 2.78145696]. \t  -12.827725212935505 \t -5.211335324193094\n",
            "18     \t [-1.66531869 10.49534433]. \t  -11.303839957898603 \t -5.211335324193094\n",
            "19     \t [7.46214058 6.17293583]. \t  -37.24623925175659 \t -5.211335324193094\n",
            "20     \t [-1.60604609  3.04257101]. \t  -43.84605062305996 \t -5.211335324193094\n"
          ]
        }
      ]
    },
    {
      "cell_type": "code",
      "metadata": {
        "colab": {
          "base_uri": "https://localhost:8080/"
        },
        "id": "4unvifF-GCXp",
        "outputId": "18ee8615-78ab-4f22-da13-b9cbcef1624a"
      },
      "source": [
        "### ESTIMATED GP EI GRADIENTS\n",
        "\n",
        "np.random.seed(run_num_8)\n",
        "surrogate_approx_8 = GaussianProcess(cov_func, optimize=opt)\n",
        "\n",
        "approx_8 = GPGO_multi(surrogate_approx_8, Acquisition_new(util_grad_approx), objfunc, param)\n",
        "approx_8.run(init_evals=n_init, max_iter=iters)\n"
      ],
      "execution_count": 20,
      "outputs": [
        {
          "output_type": "stream",
          "name": "stdout",
          "text": [
            "Evaluation \t Proposed point \t  Current eval. \t Best eval.\n",
            "init   \t [ 8.10144104 14.52810994]. \t  -175.17297136347514 \t -15.416245468470875\n",
            "init   \t [8.0379181  7.96283537]. \t  -49.32173799887473 \t -15.416245468470875\n",
            "init   \t [-1.50907508  0.17098206]. \t  -83.26753461673219 \t -15.416245468470875\n",
            "init   \t [1.45703227 6.0352704 ]. \t  -15.416245468470875 \t -15.416245468470875\n",
            "init   \t [2.84012007 7.17587694]. \t  -22.49093277852639 \t -15.416245468470875\n",
            "1      \t [-5. 15.]. \t  -17.508299515778166 \t -15.416245468470875\n",
            "2      \t [5.85370643 0.        ]. \t  -19.962526235744473 \t -15.416245468470875\n",
            "3      \t [-5.          8.29302276]. \t  -91.83298920420266 \t -15.416245468470875\n",
            "4      \t [ 1.60857011 12.7352867 ]. \t  -89.93942450906589 \t -15.416245468470875\n",
            "5      \t [10.          2.96068055]. \t  \u001b[92m-1.944927928026269\u001b[0m \t -1.944927928026269\n",
            "6      \t [-5.          3.41984367]. \t  -202.26825886390554 \t -1.944927928026269\n",
            "7      \t [5.85553131 4.11676859]. \t  -27.777933521347457 \t -1.944927928026269\n",
            "8      \t [2.31409297 2.06269482]. \t  -4.397172635723924 \t -1.944927928026269\n",
            "9      \t [-2.594924   11.86930304]. \t  -2.553271609610478 \t -1.944927928026269\n",
            "10     \t [10.  0.]. \t  -10.960889035651505 \t -1.944927928026269\n",
            "11     \t [ 5.35662657 10.9353267 ]. \t  -110.90575490943479 \t -1.944927928026269\n",
            "12     \t [-0.78376032  9.06654432]. \t  -19.82771882644532 \t -1.944927928026269\n",
            "13     \t [-1.52876814 15.        ]. \t  -49.65327325247121 \t -1.944927928026269\n",
            "14     \t [10.         11.01213063]. \t  -66.09000928916788 \t -1.944927928026269\n",
            "15     \t [-0.9989477   4.06553111]. \t  -28.542824819420233 \t -1.944927928026269\n",
            "16     \t [ 4.31730508 15.        ]. \t  -187.56522892099156 \t -1.944927928026269\n",
            "17     \t [10.          5.15726277]. \t  -6.584175735458345 \t -1.944927928026269\n",
            "18     \t [-5.         11.91958416]. \t  -40.47321732758101 \t -1.944927928026269\n",
            "19     \t [-5.  0.]. \t  -308.12909601160663 \t -1.944927928026269\n",
            "20     \t [2.4382851 0.       ]. \t  -11.013367826144378 \t -1.944927928026269\n"
          ]
        }
      ]
    },
    {
      "cell_type": "code",
      "metadata": {
        "colab": {
          "base_uri": "https://localhost:8080/"
        },
        "id": "85OIXcg7GCaJ",
        "outputId": "beb07058-e7d4-4f01-86d6-fc337d20ba60"
      },
      "source": [
        "### ESTIMATED GP EI GRADIENTS\n",
        "\n",
        "np.random.seed(run_num_9)\n",
        "surrogate_approx_9 = GaussianProcess(cov_func, optimize=opt)\n",
        "\n",
        "approx_9 = GPGO_multi(surrogate_approx_9, Acquisition_new(util_grad_approx), objfunc, param)\n",
        "approx_9.run(init_evals=n_init, max_iter=iters)\n"
      ],
      "execution_count": 21,
      "outputs": [
        {
          "output_type": "stream",
          "name": "stdout",
          "text": [
            "Evaluation \t Proposed point \t  Current eval. \t Best eval.\n",
            "init   \t [-4.84438769  7.52811888]. \t  -96.15564306553264 \t -3.4640248583909496\n",
            "init   \t [2.4365994  2.00744293]. \t  -3.4640248583909496 \t -3.4640248583909496\n",
            "init   \t [-2.86833372  3.27838013]. \t  -70.46930174488207 \t -3.4640248583909496\n",
            "init   \t [1.27762271 3.72151753]. \t  -12.982825924833865 \t -3.4640248583909496\n",
            "init   \t [-3.73910523  5.1824796 ]. \t  -75.58547400560856 \t -3.4640248583909496\n",
            "1      \t [ 7.05609655 14.75038872]. \t  -200.4388688685465 \t -3.4640248583909496\n",
            "2      \t [10.  0.]. \t  -10.960889035651505 \t -3.4640248583909496\n",
            "3      \t [-1.80690587 15.        ]. \t  -40.27172713578756 \t -3.4640248583909496\n",
            "4      \t [3.43036515 8.84763891]. \t  -46.859765164237196 \t -3.4640248583909496\n",
            "5      \t [9.37190346 7.21625023]. \t  -23.312219561078063 \t -3.4640248583909496\n",
            "6      \t [6.56809544 3.27574489]. \t  -23.864175113609654 \t -3.4640248583909496\n",
            "7      \t [-0.96929033 10.42137719]. \t  -23.03656811452561 \t -3.4640248583909496\n",
            "8      \t [ 2.41814484 13.4787098 ]. \t  -114.56823433047532 \t -3.4640248583909496\n",
            "9      \t [-5.         12.15681881]. \t  -38.03009976321541 \t -3.4640248583909496\n",
            "10     \t [10.         11.26672913]. \t  -70.23307699964869 \t -3.4640248583909496\n",
            "11     \t [-0.29887421  0.        ]. \t  -61.26036442864145 \t -3.4640248583909496\n",
            "12     \t [-5.  0.]. \t  -308.12909601160663 \t -3.4640248583909496\n",
            "13     \t [4.8677282 0.       ]. \t  -13.21158006759529 \t -3.4640248583909496\n",
            "14     \t [-0.04949592  6.90606684]. \t  -20.27424109316545 \t -3.4640248583909496\n",
            "15     \t [10.          3.55919709]. \t  \u001b[92m-2.252544137891828\u001b[0m \t -2.252544137891828\n",
            "16     \t [ 6.38943206 10.66167249]. \t  -110.88101048198986 \t -2.252544137891828\n",
            "17     \t [4.04014582 5.39218319]. \t  -17.81136449995049 \t -2.252544137891828\n",
            "18     \t [6.46757859 6.88954806]. \t  -52.839484067109545 \t -2.252544137891828\n",
            "19     \t [-5. 15.]. \t  -17.508299515778166 \t -2.252544137891828\n",
            "20     \t [7.48933831 0.        ]. \t  -15.183422689514835 \t -2.252544137891828\n"
          ]
        }
      ]
    },
    {
      "cell_type": "code",
      "metadata": {
        "colab": {
          "base_uri": "https://localhost:8080/"
        },
        "id": "QQBR-qJPGCcp",
        "outputId": "25014486-26a6-415e-cab6-b9eff5918ac2"
      },
      "source": [
        "### ESTIMATED GP EI GRADIENTS\n",
        "\n",
        "np.random.seed(run_num_10)\n",
        "surrogate_approx_10 = GaussianProcess(cov_func, optimize=opt)\n",
        "\n",
        "approx_10 = GPGO_multi(surrogate_approx_10, Acquisition_new(util_grad_approx), objfunc, param)\n",
        "approx_10.run(init_evals=n_init, max_iter=iters)\n"
      ],
      "execution_count": 22,
      "outputs": [
        {
          "output_type": "stream",
          "name": "stdout",
          "text": [
            "Evaluation \t Proposed point \t  Current eval. \t Best eval.\n",
            "init   \t [6.56980965 0.31127924]. \t  -19.863985024602144 \t -2.710610964564512\n",
            "init   \t [ 4.50472352 11.23205824]. \t  -103.66999147252169 \t -2.710610964564512\n",
            "init   \t [2.47760518 3.37194968]. \t  -2.710610964564512 \t -2.710610964564512\n",
            "init   \t [-2.02905703 11.40796068]. \t  -8.463930835255017 \t -2.710610964564512\n",
            "init   \t [-2.46333745  1.32509721]. \t  -90.49481266026973 \t -2.710610964564512\n",
            "1      \t [ 9.16391068 14.81438212]. \t  -158.2412724465548 \t -2.710610964564512\n",
            "2      \t [9.65621089 6.61160737]. \t  -16.1339423373336 \t -2.710610964564512\n",
            "3      \t [-3.43070383  6.59407857]. \t  -41.58407101130534 \t -2.710610964564512\n",
            "4      \t [-5. 15.]. \t  -17.508299515778166 \t -2.710610964564512\n",
            "5      \t [ 0.92489762 15.        ]. \t  -123.14058399407541 \t -2.710610964564512\n",
            "6      \t [1.30825638 7.43226343]. \t  -23.33799695404619 \t -2.710610964564512\n",
            "7      \t [5.49117133 5.83983302]. \t  -38.68458167098434 \t -2.710610964564512\n",
            "8      \t [10.          2.46599037]. \t  \u001b[92m-2.2314733987838986\u001b[0m \t -2.2314733987838986\n",
            "9      \t [2.04094104 0.        ]. \t  -16.4732209788473 \t -2.2314733987838986\n",
            "10     \t [10.         10.45460567]. \t  -57.4702144696179 \t -2.2314733987838986\n",
            "11     \t [-5.         10.22156691]. \t  -61.24602802024016 \t -2.2314733987838986\n",
            "12     \t [ 5.05864774 15.        ]. \t  -202.1911413270666 \t -2.2314733987838986\n",
            "13     \t [10.  0.]. \t  -10.960889035651505 \t -2.2314733987838986\n",
            "14     \t [7.92128892 3.43651956]. \t  -13.108975934730674 \t -2.2314733987838986\n",
            "15     \t [ 0.78122641 10.84691502]. \t  -52.95530271479619 \t -2.2314733987838986\n",
            "16     \t [-0.21751863  4.37729799]. \t  -23.276496499683475 \t -2.2314733987838986\n",
            "17     \t [-5.          3.69147741]. \t  -194.86260008288383 \t -2.2314733987838986\n",
            "18     \t [7.08403162 8.68884972]. \t  -72.64197763300126 \t -2.2314733987838986\n",
            "19     \t [4.47106013 2.50539862]. \t  -8.784400165748583 \t -2.2314733987838986\n",
            "20     \t [-2.42931727 14.00616113]. \t  -14.139144551813342 \t -2.2314733987838986\n"
          ]
        }
      ]
    },
    {
      "cell_type": "code",
      "metadata": {
        "colab": {
          "base_uri": "https://localhost:8080/"
        },
        "id": "JS8ejeQ2GCfi",
        "outputId": "0942b928-6b5f-4340-eedd-132460234750"
      },
      "source": [
        "### ESTIMATED GP EI GRADIENTS\n",
        "\n",
        "np.random.seed(run_num_11)\n",
        "surrogate_approx_11 = GaussianProcess(cov_func, optimize=opt)\n",
        "\n",
        "approx_11 = GPGO_multi(surrogate_approx_11, Acquisition_new(util_grad_approx), objfunc, param)\n",
        "approx_11.run(init_evals=n_init, max_iter=iters)\n"
      ],
      "execution_count": 23,
      "outputs": [
        {
          "output_type": "stream",
          "name": "stdout",
          "text": [
            "Evaluation \t Proposed point \t  Current eval. \t Best eval.\n",
            "init   \t [-2.29595467  0.29212862]. \t  -104.49282729548965 \t -22.37435843952312\n",
            "init   \t [ 1.9482779  10.87400894]. \t  -62.47758067812407 \t -22.37435843952312\n",
            "init   \t [1.30305407 7.28140647]. \t  -22.37435843952312 \t -22.37435843952312\n",
            "init   \t [-4.80828778  7.31057411]. \t  -97.94503054415523 \t -22.37435843952312\n",
            "init   \t [ 9.12709979 12.76192634]. \t  -111.62900800771942 \t -22.37435843952312\n",
            "1      \t [6.94653631 0.95529646]. \t  \u001b[92m-17.615403152614682\u001b[0m \t -17.615403152614682\n",
            "2      \t [9.97354527 6.82177788]. \t  \u001b[92m-16.591636306719263\u001b[0m \t -16.591636306719263\n",
            "3      \t [-5. 15.]. \t  -17.508299515778166 \t -16.591636306719263\n",
            "4      \t [2.40807825 2.49007515]. \t  \u001b[92m-3.0491759598324117\u001b[0m \t -3.0491759598324117\n",
            "5      \t [ 4.54221727 15.        ]. \t  -192.3522303346335 \t -3.0491759598324117\n",
            "6      \t [5.60663857 5.53140146]. \t  -36.79268497084574 \t -3.0491759598324117\n",
            "7      \t [-0.54242656 15.        ]. \t  -83.8126205884013 \t -3.0491759598324117\n",
            "8      \t [-2.80958686 11.22749118]. \t  \u001b[92m-0.9918757472517239\u001b[0m \t -0.9918757472517239\n",
            "9      \t [6.09902805 9.61711251]. \t  -92.00618109585365 \t -0.9918757472517239\n",
            "10     \t [-1.43282835  4.48387633]. \t  -27.818448888068765 \t -0.9918757472517239\n",
            "11     \t [10.          2.99607137]. \t  -1.9431880693615593 \t -0.9918757472517239\n",
            "12     \t [-5.          3.20437239]. \t  -208.24769542216492 \t -0.9918757472517239\n",
            "13     \t [10.  0.]. \t  -10.960889035651505 \t -0.9918757472517239\n",
            "14     \t [ 3.44196361e+00 -2.22044605e-16]. \t  -5.040184581859478 \t -0.9918757472517239\n",
            "15     \t [-5.         11.42087662]. \t  -45.97608550540525 \t -0.9918757472517239\n",
            "16     \t [-1.72249019 10.59739688]. \t  -10.717789698009966 \t -0.9918757472517239\n",
            "17     \t [1.14812976 0.        ]. \t  -32.8002546627395 \t -0.9918757472517239\n",
            "18     \t [8.39067908 3.94520756]. \t  -9.949580451245001 \t -0.9918757472517239\n",
            "19     \t [2.32298498 4.4611246 ]. \t  -5.574446161048074 \t -0.9918757472517239\n",
            "20     \t [10.          9.50136139]. \t  -44.17240535969788 \t -0.9918757472517239\n"
          ]
        }
      ]
    },
    {
      "cell_type": "code",
      "metadata": {
        "colab": {
          "base_uri": "https://localhost:8080/"
        },
        "id": "DXwjUVZ4GCii",
        "outputId": "0d746fa4-bc39-4a41-f419-f97597c9a493"
      },
      "source": [
        "### ESTIMATED GP EI GRADIENTS\n",
        "\n",
        "np.random.seed(run_num_12)\n",
        "surrogate_approx_12 = GaussianProcess(cov_func, optimize=opt)\n",
        "\n",
        "approx_12 = GPGO_multi(surrogate_approx_12, Acquisition_new(util_grad_approx), objfunc, param)\n",
        "approx_12.run(init_evals=n_init, max_iter=iters)\n"
      ],
      "execution_count": 24,
      "outputs": [
        {
          "output_type": "stream",
          "name": "stdout",
          "text": [
            "Evaluation \t Proposed point \t  Current eval. \t Best eval.\n",
            "init   \t [-2.68755736 11.10074545]. \t  -1.3827702760021356 \t -0.5499315281120278\n",
            "init   \t [-1.05027477  8.0060909 ]. \t  -14.81231853080056 \t -0.5499315281120278\n",
            "init   \t [-4.78137556 13.78120512]. \t  -18.401131000214548 \t -0.5499315281120278\n",
            "init   \t [8.51072281 0.50132141]. \t  -5.855172364344769 \t -0.5499315281120278\n",
            "init   \t [9.35424004 2.05813982]. \t  -0.5499315281120278 \t -0.5499315281120278\n",
            "1      \t [10.          4.60208124]. \t  -4.500340253848261 \t -0.5499315281120278\n",
            "2      \t [ 8.50155249 13.79797306]. \t  -148.00655208378976 \t -0.5499315281120278\n",
            "3      \t [-4.8799499   0.15657603]. \t  -290.0404981832191 \t -0.5499315281120278\n",
            "4      \t [4.56965095 8.82974475]. \t  -63.4677424125194 \t -0.5499315281120278\n",
            "5      \t [2.38981509 3.30967373]. \t  -3.126798202388212 \t -0.5499315281120278\n",
            "6      \t [ 1.56871034 14.06557454]. \t  -114.9667494156698 \t -0.5499315281120278\n",
            "7      \t [-5.         5.5537476]. \t  -148.064691027743 \t -0.5499315281120278\n",
            "8      \t [10.          8.92973539]. \t  -37.06984740816321 \t -0.5499315281120278\n",
            "9      \t [0.25004896 0.        ]. \t  -50.77684559037195 \t -0.5499315281120278\n",
            "10     \t [6.09820628 4.21795434]. \t  -29.16909568816471 \t -0.5499315281120278\n",
            "11     \t [-0.89659553  4.04199902]. \t  -28.16625084366242 \t -0.5499315281120278\n",
            "12     \t [4.67486947 0.        ]. \t  -11.552409259426348 \t -0.5499315281120278\n",
            "13     \t [-5.          9.79953328]. \t  -67.30373818423678 \t -0.5499315281120278\n",
            "14     \t [2.01406379 6.16552657]. \t  -13.9869993501703 \t -0.5499315281120278\n",
            "15     \t [ 1.10436434 10.30078831]. \t  -49.13850815808747 \t -0.5499315281120278\n",
            "16     \t [ 4.95173358 12.44876758]. \t  -136.8696005831613 \t -0.5499315281120278\n",
            "17     \t [-1.98022069 15.        ]. \t  -34.71254477205561 \t -0.5499315281120278\n",
            "18     \t [-1.80675236 11.82972089]. \t  -14.168749907816805 \t -0.5499315281120278\n",
            "19     \t [7.60560951 6.89842967]. \t  -42.94596442910349 \t -0.5499315281120278\n",
            "20     \t [10.          2.37272059]. \t  -2.340338103559195 \t -0.5499315281120278\n"
          ]
        }
      ]
    },
    {
      "cell_type": "code",
      "metadata": {
        "colab": {
          "base_uri": "https://localhost:8080/"
        },
        "id": "CphOPndPGClX",
        "outputId": "2c8538a9-74b1-4084-e184-a39fa132dbcb"
      },
      "source": [
        "### ESTIMATED GP EI GRADIENTS\n",
        "\n",
        "np.random.seed(run_num_13)\n",
        "surrogate_approx_13 = GaussianProcess(cov_func, optimize=opt)\n",
        "\n",
        "approx_13 = GPGO_multi(surrogate_approx_13, Acquisition_new(util_grad_approx), objfunc, param)\n",
        "approx_13.run(init_evals=n_init, max_iter=iters)\n"
      ],
      "execution_count": 25,
      "outputs": [
        {
          "output_type": "stream",
          "name": "stdout",
          "text": [
            "Evaluation \t Proposed point \t  Current eval. \t Best eval.\n",
            "init   \t [6.66553616 3.5631183 ]. \t  -24.823670200298267 \t -18.038943061558626\n",
            "init   \t [ 7.36417799 14.48623797]. \t  -188.7803334745195 \t -18.038943061558626\n",
            "init   \t [9.58901671 6.80173871]. \t  -18.038943061558626 \t -18.038943061558626\n",
            "init   \t [ 4.13563694 11.63289772]. \t  -104.87319703906111 \t -18.038943061558626\n",
            "init   \t [ 4.62420017 10.83027344]. \t  -98.03271225790056 \t -18.038943061558626\n",
            "1      \t [-5.         10.51946345]. \t  -57.184599140945984 \t -18.038943061558626\n",
            "2      \t [-3.36042638  1.3238031 ]. \t  -132.49290788011677 \t -18.038943061558626\n",
            "3      \t [-0.52937954  6.69565279]. \t  -18.32130064442849 \t -18.038943061558626\n",
            "4      \t [-1.0750808 15.       ]. \t  -65.54187531088525 \t -18.038943061558626\n",
            "5      \t [2.37016123 0.        ]. \t  \u001b[92m-11.8391983338604\u001b[0m \t -11.8391983338604\n",
            "6      \t [10.  0.]. \t  \u001b[92m-10.960889035651505\u001b[0m \t -10.960889035651505\n",
            "7      \t [-5.          5.85333506]. \t  -141.1838748867405 \t -10.960889035651505\n",
            "8      \t [3.59278426 6.39317213]. \t  -21.10560893229995 \t -10.960889035651505\n",
            "9      \t [10.         10.78932306]. \t  -62.570643201070425 \t -10.960889035651505\n",
            "10     \t [-0.377526   10.70513048]. \t  -35.62023617710589 \t -10.960889035651505\n",
            "11     \t [-5. 15.]. \t  -17.508299515778166 \t -10.960889035651505\n",
            "12     \t [0.81374171 3.21958271]. \t  -19.06214247488379 \t -10.960889035651505\n",
            "13     \t [ 2.74350288 15.        ]. \t  -154.7617983931619 \t -10.960889035651505\n",
            "14     \t [6.09901036 0.        ]. \t  -20.64646378630232 \t -10.960889035651505\n",
            "15     \t [10.          3.30746271]. \t  \u001b[92m-2.0358646317013793\u001b[0m \t -2.0358646317013793\n",
            "16     \t [6.62315475 7.73991298]. \t  -62.79965179413853 \t -2.0358646317013793\n",
            "17     \t [3.75886301 2.69960749]. \t  -2.9039009275569416 \t -2.0358646317013793\n",
            "18     \t [1.84144429 8.61563129]. \t  -33.527823039280364 \t -2.0358646317013793\n",
            "19     \t [-0.20050709  0.        ]. \t  -59.40664514456978 \t -2.0358646317013793\n",
            "20     \t [-2.57985695  8.494921  ]. \t  -7.978561894396997 \t -2.0358646317013793\n"
          ]
        }
      ]
    },
    {
      "cell_type": "code",
      "metadata": {
        "colab": {
          "base_uri": "https://localhost:8080/"
        },
        "id": "ojHTeARNGCoi",
        "outputId": "e60dafb7-9876-4725-ba30-5e0b312b94a7"
      },
      "source": [
        "### ESTIMATED GP EI GRADIENTS\n",
        "\n",
        "np.random.seed(run_num_14)\n",
        "surrogate_approx_14 = GaussianProcess(cov_func, optimize=opt)\n",
        "\n",
        "approx_14 = GPGO_multi(surrogate_approx_14, Acquisition_new(util_grad_approx), objfunc, param)\n",
        "approx_14.run(init_evals=n_init, max_iter=iters)\n"
      ],
      "execution_count": 26,
      "outputs": [
        {
          "output_type": "stream",
          "name": "stdout",
          "text": [
            "Evaluation \t Proposed point \t  Current eval. \t Best eval.\n",
            "init   \t [ 2.70915016 11.59747578]. \t  -81.58264375064097 \t -1.4149920024014744\n",
            "init   \t [8.05641529 0.12070423]. \t  -10.148649076616518 \t -1.4149920024014744\n",
            "init   \t [-0.35396112 14.36405609]. \t  -79.6056658956529 \t -1.4149920024014744\n",
            "init   \t [2.69675068 4.77426637]. \t  -5.855607664288365 \t -1.4149920024014744\n",
            "init   \t [3.08799906 3.31882414]. \t  -1.4149920024014744 \t -1.4149920024014744\n",
            "1      \t [-5.  0.]. \t  -308.12909601160663 \t -1.4149920024014744\n",
            "2      \t [-3.61083748  7.85924032]. \t  -32.481990179851884 \t -1.4149920024014744\n",
            "3      \t [ 9.80864634 15.        ]. \t  -149.50179513340765 \t -1.4149920024014744\n",
            "4      \t [8.19772537 6.72053896]. \t  -32.63212233587686 \t -1.4149920024014744\n",
            "5      \t [-1.38326805  3.62221139]. \t  -35.085366370323804 \t -1.4149920024014744\n",
            "6      \t [1.7550873 0.       ]. \t  -21.23372345057521 \t -1.4149920024014744\n",
            "7      \t [-5.         12.64304999]. \t  -33.37450863688031 \t -1.4149920024014744\n",
            "8      \t [ 7.31826258 10.99979196]. \t  -109.54399702936223 \t -1.4149920024014744\n",
            "9      \t [0.54918312 7.79301356]. \t  -25.097060692650548 \t -1.4149920024014744\n",
            "10     \t [ 5.21989313 15.        ]. \t  -204.76978035242385 \t -1.4149920024014744\n",
            "11     \t [10.          3.18160827]. \t  -1.9750570791131317 \t -1.4149920024014744\n",
            "12     \t [6.03733873 3.21303708]. \t  -23.778392730195613 \t -1.4149920024014744\n",
            "13     \t [4.45680443 7.72207421]. \t  -46.626145740842354 \t -1.4149920024014744\n",
            "14     \t [-1.5591859  10.77812271]. \t  -14.041970352305585 \t -1.4149920024014744\n",
            "15     \t [4.99241622 0.        ]. \t  -14.27729717230728 \t -1.4149920024014744\n",
            "16     \t [-5.          4.40881129]. \t  -176.01506035624485 \t -1.4149920024014744\n",
            "17     \t [-1.18612326  0.        ]. \t  -78.7204365805492 \t -1.4149920024014744\n",
            "18     \t [10.          1.43597413]. \t  -4.398574742346463 \t -1.4149920024014744\n",
            "19     \t [10.          9.08782268]. \t  -38.96873575930762 \t -1.4149920024014744\n",
            "20     \t [-3.59912959 15.        ]. \t  -3.940365995347342 \t -1.4149920024014744\n"
          ]
        }
      ]
    },
    {
      "cell_type": "code",
      "metadata": {
        "colab": {
          "base_uri": "https://localhost:8080/"
        },
        "id": "vCJzn4vWGCs3",
        "outputId": "faaae2fe-5374-4aa7-d00c-ed02d0c5e1c6"
      },
      "source": [
        "### ESTIMATED GP EI GRADIENTS\n",
        "\n",
        "np.random.seed(run_num_15)\n",
        "surrogate_approx_15 = GaussianProcess(cov_func, optimize=opt)\n",
        "\n",
        "approx_15 = GPGO_multi(surrogate_approx_15, Acquisition_new(util_grad_approx), objfunc, param)\n",
        "approx_15.run(init_evals=n_init, max_iter=iters)\n"
      ],
      "execution_count": 27,
      "outputs": [
        {
          "output_type": "stream",
          "name": "stdout",
          "text": [
            "Evaluation \t Proposed point \t  Current eval. \t Best eval.\n",
            "init   \t [7.73226546 2.68343887]. \t  -12.768724532005583 \t -12.768724532005583\n",
            "init   \t [-4.18455179  5.42307669]. \t  -95.39334176626551 \t -12.768724532005583\n",
            "init   \t [-0.86898607  7.95000337]. \t  -16.419487782111716 \t -12.768724532005583\n",
            "init   \t [-0.41121626  4.56711539]. \t  -23.250362743740954 \t -12.768724532005583\n",
            "init   \t [-3.32388086  3.74848521]. \t  -80.99796277938532 \t -12.768724532005583\n",
            "1      \t [ 6.5655417  11.87699252]. \t  -134.95011349993544 \t -12.768724532005583\n",
            "2      \t [-4.77493765 13.49591113]. \t  -19.896906503438096 \t -12.768724532005583\n",
            "3      \t [ 0.71010374 15.        ]. \t  -118.58594019355895 \t -12.768724532005583\n",
            "4      \t [2.88491581 0.        ]. \t  \u001b[92m-6.881143164645278\u001b[0m \t -6.881143164645278\n",
            "5      \t [10.          7.39120702]. \t  -21.199882361694122 \t -6.881143164645278\n",
            "6      \t [4.43794958 6.687894  ]. \t  -34.50821074360853 \t -6.881143164645278\n",
            "7      \t [10. 15.]. \t  -145.87219087939556 \t -6.881143164645278\n",
            "8      \t [ 2.15402032 10.62147995]. \t  -60.219198803755 \t -6.881143164645278\n",
            "9      \t [-1.06508576  0.        ]. \t  -76.14355988146566 \t -6.881143164645278\n",
            "10     \t [-5.          9.62123839]. \t  -69.96995069864715 \t -6.881143164645278\n",
            "11     \t [10.  0.]. \t  -10.960889035651505 \t -6.881143164645278\n",
            "12     \t [-5.  0.]. \t  -308.12909601160663 \t -6.881143164645278\n",
            "13     \t [3.81939605 3.03938303]. \t  \u001b[92m-4.042244456870686\u001b[0m \t -4.042244456870686\n",
            "14     \t [-1.6254182  11.64426731]. \t  -16.852596879858936 \t -4.042244456870686\n",
            "15     \t [6.03799944 0.        ]. \t  -20.524850256361702 \t -4.042244456870686\n",
            "16     \t [ 4.56011941 15.        ]. \t  -192.72381958170033 \t -4.042244456870686\n",
            "17     \t [10.         10.71317179]. \t  -61.39055881042431 \t -4.042244456870686\n",
            "18     \t [7.51484611 5.59226804]. \t  -31.317183266337523 \t -4.042244456870686\n",
            "19     \t [10.          3.77980057]. \t  \u001b[92m-2.546627210871156\u001b[0m \t -2.546627210871156\n",
            "20     \t [1.61434787 2.35492174]. \t  -11.576915250149906 \t -2.546627210871156\n"
          ]
        }
      ]
    },
    {
      "cell_type": "code",
      "metadata": {
        "colab": {
          "base_uri": "https://localhost:8080/"
        },
        "id": "bGGkhp-kGCw6",
        "outputId": "20aa5188-368d-4349-d05a-5b9c25646387"
      },
      "source": [
        "### ESTIMATED GP EI GRADIENTS\n",
        "\n",
        "np.random.seed(run_num_16)\n",
        "surrogate_approx_16 = GaussianProcess(cov_func, optimize=opt)\n",
        "\n",
        "approx_16 = GPGO_multi(surrogate_approx_16, Acquisition_new(util_grad_approx), objfunc, param)\n",
        "approx_16.run(init_evals=n_init, max_iter=iters)\n"
      ],
      "execution_count": 28,
      "outputs": [
        {
          "output_type": "stream",
          "name": "stdout",
          "text": [
            "Evaluation \t Proposed point \t  Current eval. \t Best eval.\n",
            "init   \t [-1.65063381  7.84745012]. \t  -10.514702126319445 \t -2.715864006988424\n",
            "init   \t [3.26052185 0.68402925]. \t  -2.715864006988424 \t -2.715864006988424\n",
            "init   \t [0.41093253 3.34621413]. \t  -22.889515127492515 \t -2.715864006988424\n",
            "init   \t [5.33089243 2.45597138]. \t  -17.178157611778595 \t -2.715864006988424\n",
            "init   \t [-3.945127  14.1151629]. \t  -3.3649224341694195 \t -2.715864006988424\n",
            "1      \t [ 5.63879248 14.58068289]. \t  -198.51319639462758 \t -2.715864006988424\n",
            "2      \t [-5.  0.]. \t  -308.12909601160663 \t -2.715864006988424\n",
            "3      \t [10.          6.95575223]. \t  -17.567733903384873 \t -2.715864006988424\n",
            "4      \t [4.53433465 8.53854217]. \t  -58.69656742138316 \t -2.715864006988424\n",
            "5      \t [10.  0.]. \t  -10.960889035651505 \t -2.715864006988424\n",
            "6      \t [ 0.51030372 12.44778551]. \t  -70.59844137823197 \t -2.715864006988424\n",
            "7      \t [10.         11.76750095]. \t  -78.76037817586203 \t -2.715864006988424\n",
            "8      \t [-5.          5.15161993]. \t  -157.58279254257323 \t -2.715864006988424\n",
            "9      \t [-5.         10.32877666]. \t  -59.76392002565918 \t -2.715864006988424\n",
            "10     \t [9.04858286 3.42636588]. \t  \u001b[92m-2.6329003823676533\u001b[0m \t -2.6329003823676533\n",
            "11     \t [-0.50697291  0.        ]. \t  -65.18097701232074 \t -2.6329003823676533\n",
            "12     \t [6.81926771 5.53712779]. \t  -37.46523934471167 \t -2.6329003823676533\n",
            "13     \t [1.37549202 6.66504324]. \t  -18.674451508264447 \t -2.6329003823676533\n",
            "14     \t [6.99035227 0.        ]. \t  -18.708816262417265 \t -2.6329003823676533\n",
            "15     \t [-1.76229507 15.        ]. \t  -41.74302422921672 \t -2.6329003823676533\n",
            "16     \t [10. 15.]. \t  -145.87219087939556 \t -2.6329003823676533\n",
            "17     \t [7.80154663 9.14006387]. \t  -69.69948001925815 \t -2.6329003823676533\n",
            "18     \t [3.48287942 4.66759745]. \t  -7.940873425189675 \t -2.6329003823676533\n",
            "19     \t [ 3.68918379 11.57440076]. \t  -95.65358360414636 \t -2.6329003823676533\n",
            "20     \t [-5. 15.]. \t  -17.508299515778166 \t -2.6329003823676533\n"
          ]
        }
      ]
    },
    {
      "cell_type": "code",
      "metadata": {
        "id": "Yrs2mp7hGC1Z",
        "colab": {
          "base_uri": "https://localhost:8080/"
        },
        "outputId": "4654f1a0-1e95-4d2b-e6e0-52a2f1d57f8e"
      },
      "source": [
        "### ESTIMATED GP EI GRADIENTS\n",
        "\n",
        "np.random.seed(run_num_17)\n",
        "surrogate_approx_17 = GaussianProcess(cov_func, optimize=opt)\n",
        "\n",
        "approx_17 = GPGO_multi(surrogate_approx_17, Acquisition_new(util_grad_approx), objfunc, param)\n",
        "approx_17.run(init_evals=n_init, max_iter=iters)\n"
      ],
      "execution_count": 29,
      "outputs": [
        {
          "output_type": "stream",
          "name": "stdout",
          "text": [
            "Evaluation \t Proposed point \t  Current eval. \t Best eval.\n",
            "init   \t [-0.58002496  7.95880133]. \t  -19.016141117164256 \t -19.016141117164256\n",
            "init   \t [-2.1271882   1.01850537]. \t  -85.05949339404415 \t -19.016141117164256\n",
            "init   \t [6.8047819  9.84500283]. \t  -93.89792695202516 \t -19.016141117164256\n",
            "init   \t [4.56281344 8.63404341]. \t  -60.50217141122736 \t -19.016141117164256\n",
            "init   \t [-4.41405626  5.36720407]. \t  -110.70834086593878 \t -19.016141117164256\n",
            "1      \t [10.  0.]. \t  \u001b[92m-10.960889035651505\u001b[0m \t -10.960889035651505\n",
            "2      \t [-0.36591853 14.49945231]. \t  -81.3728947682288 \t -10.960889035651505\n",
            "3      \t [3.74599703 2.35814314]. \t  \u001b[92m-2.3563457989420957\u001b[0m \t -2.3563457989420957\n",
            "4      \t [10. 15.]. \t  -145.87219087939556 \t -2.3563457989420957\n",
            "5      \t [-5.         11.22319518]. \t  -48.29501682409004 \t -2.3563457989420957\n",
            "6      \t [10.          5.23911523]. \t  -6.943546076241257 \t -2.3563457989420957\n",
            "7      \t [ 4.74099617 15.        ]. \t  -196.37455349561608 \t -2.3563457989420957\n",
            "8      \t [7.11032096 2.78525717]. \t  -18.96711896340353 \t -2.3563457989420957\n",
            "9      \t [0.9699258  4.29387133]. \t  -15.509299240839217 \t -2.3563457989420957\n",
            "10     \t [-5. 15.]. \t  -17.508299515778166 \t -2.3563457989420957\n",
            "11     \t [ 1.56702219 11.08009912]. \t  -62.69843470914051 \t -2.3563457989420957\n",
            "12     \t [1.95078697 0.        ]. \t  -17.909194427408565 \t -2.3563457989420957\n",
            "13     \t [4.44872281 4.98402111]. \t  -19.8012668535287 \t -2.3563457989420957\n",
            "14     \t [10.          8.21937727]. \t  -29.15418518257971 \t -2.3563457989420957\n",
            "15     \t [5.48123086 0.        ]. \t  -18.01631588568395 \t -2.3563457989420957\n",
            "16     \t [10.         11.40932129]. \t  -72.61010795341252 \t -2.3563457989420957\n",
            "17     \t [-5.  0.]. \t  -308.12909601160663 \t -2.3563457989420957\n",
            "18     \t [-1.80646214 10.96306377]. \t  -10.534958935574119 \t -2.3563457989420957\n",
            "19     \t [7.36520904 6.08055739]. \t  -37.49937367119459 \t -2.3563457989420957\n",
            "20     \t [10.          2.73034145]. \t  \u001b[92m-2.0174596852300857\u001b[0m \t -2.0174596852300857\n"
          ]
        }
      ]
    },
    {
      "cell_type": "code",
      "metadata": {
        "id": "f0HIEP3PIUEa",
        "colab": {
          "base_uri": "https://localhost:8080/"
        },
        "outputId": "3bf7a652-ab41-41c5-840f-410c48d25f89"
      },
      "source": [
        "### ESTIMATED GP EI GRADIENTS\n",
        "\n",
        "np.random.seed(run_num_18)\n",
        "surrogate_approx_18 = GaussianProcess(cov_func, optimize=opt)\n",
        "\n",
        "approx_18 = GPGO_multi(surrogate_approx_18, Acquisition_new(util_grad_approx), objfunc, param)\n",
        "approx_18.run(init_evals=n_init, max_iter=iters)\n"
      ],
      "execution_count": 30,
      "outputs": [
        {
          "output_type": "stream",
          "name": "stdout",
          "text": [
            "Evaluation \t Proposed point \t  Current eval. \t Best eval.\n",
            "init   \t [4.75561363 7.58180061]. \t  -49.215059064668324 \t -8.150075223157177\n",
            "init   \t [8.17902206 2.72760338]. \t  -8.150075223157177 \t -8.150075223157177\n",
            "init   \t [ 7.78349603 11.25204429]. \t  -106.98107856533271 \t -8.150075223157177\n",
            "init   \t [ 4.99152501 14.81843172]. \t  -196.08601750690153 \t -8.150075223157177\n",
            "init   \t [-1.14547366  0.42458888]. \t  -71.23649635555944 \t -8.150075223157177\n",
            "1      \t [-5. 15.]. \t  -17.508299515778166 \t -8.150075223157177\n",
            "2      \t [-5.          8.24670347]. \t  -92.6590933556873 \t -8.150075223157177\n",
            "3      \t [-0.27667812 11.79158033]. \t  -47.7668849944758 \t -8.150075223157177\n",
            "4      \t [4.17734702 0.        ]. \t  \u001b[92m-7.682840077577075\u001b[0m \t -7.682840077577075\n",
            "5      \t [-1.28485217  5.48656754]. \t  -20.390181116822294 \t -7.682840077577075\n",
            "6      \t [-5.          3.06885169]. \t  -212.05602983115446 \t -7.682840077577075\n",
            "7      \t [10.          6.76717085]. \t  -16.112449521543475 \t -7.682840077577075\n",
            "8      \t [2.59913685 3.64292726]. \t  \u001b[92m-2.598754558560567\u001b[0m \t -2.598754558560567\n",
            "9      \t [10.  0.]. \t  -10.960889035651505 \t -2.598754558560567\n",
            "10     \t [10. 15.]. \t  -145.87219087939556 \t -2.598754558560567\n",
            "11     \t [0.99495239 8.20674936]. \t  -28.641800618015168 \t -2.598754558560567\n",
            "12     \t [ 3.45753892 11.074281  ]. \t  -82.46426440345435 \t -2.598754558560567\n",
            "13     \t [-1.54988095 15.        ]. \t  -48.92616953024125 \t -2.598754558560567\n",
            "14     \t [5.27331747 3.71270257]. \t  -21.42373793387781 \t -2.598754558560567\n",
            "15     \t [ 1.82038613 15.        ]. \t  -139.1694375937483 \t -2.598754558560567\n",
            "16     \t [-4.10205343 11.87151054]. \t  -12.51048955511255 \t -2.598754558560567\n",
            "17     \t [6.96703177 0.        ]. \t  -18.840611568028613 \t -2.598754558560567\n",
            "18     \t [2.06220958 1.62956779]. \t  -8.151114976343887 \t -2.598754558560567\n",
            "19     \t [1.93594039 5.24253386]. \t  -9.955046981542909 \t -2.598754558560567\n",
            "20     \t [10.          3.96706777]. \t  -2.8726510016911337 \t -2.598754558560567\n"
          ]
        }
      ]
    },
    {
      "cell_type": "code",
      "metadata": {
        "id": "S3mxRQDLIUPC",
        "colab": {
          "base_uri": "https://localhost:8080/"
        },
        "outputId": "f9ac48f8-3187-47c0-990e-05f8989ae1f2"
      },
      "source": [
        "### ESTIMATED GP EI GRADIENTS\n",
        "\n",
        "np.random.seed(run_num_19)\n",
        "surrogate_approx_19 = GaussianProcess(cov_func, optimize=opt)\n",
        "\n",
        "approx_19 = GPGO_multi(surrogate_approx_19, Acquisition_new(util_grad_approx), objfunc, param)\n",
        "approx_19.run(init_evals=n_init, max_iter=iters)\n"
      ],
      "execution_count": 31,
      "outputs": [
        {
          "output_type": "stream",
          "name": "stdout",
          "text": [
            "Evaluation \t Proposed point \t  Current eval. \t Best eval.\n",
            "init   \t [-3.53699597 11.41874575]. \t  -4.475608269502271 \t -4.475608269502271\n",
            "init   \t [-1.2959304   2.07197531]. \t  -51.13947793770689 \t -4.475608269502271\n",
            "init   \t [-0.02830155  1.24499348]. \t  -42.63973921760034 \t -4.475608269502271\n",
            "init   \t [ 5.07965622 12.09890697]. \t  -131.17235664506808 \t -4.475608269502271\n",
            "init   \t [9.74112872 9.53491102]. \t  -46.84458913925112 \t -4.475608269502271\n",
            "1      \t [10.  0.]. \t  -10.960889035651505 \t -4.475608269502271\n",
            "2      \t [0.6378428  7.96848264]. \t  -26.305414214274926 \t -4.475608269502271\n",
            "3      \t [5.93305979 5.14378841]. \t  -35.333852166648335 \t -4.475608269502271\n",
            "4      \t [-5.          6.34878897]. \t  -130.19837568782356 \t -4.475608269502271\n",
            "5      \t [ 0.12046413 15.        ]. \t  -103.9858678203132 \t -4.475608269502271\n",
            "6      \t [10. 15.]. \t  -145.87219087939556 \t -4.475608269502271\n",
            "7      \t [5.00227 0.     ]. \t  -14.360564336854459 \t -4.475608269502271\n",
            "8      \t [-5. 15.]. \t  -17.508299515778166 \t -4.475608269502271\n",
            "9      \t [-5.  0.]. \t  -308.12909601160663 \t -4.475608269502271\n",
            "10     \t [10.         4.2472566]. \t  \u001b[92m-3.4914231489168603\u001b[0m \t -3.4914231489168603\n",
            "11     \t [2.17286802 4.45012072]. \t  -6.247731577518577 \t -3.4914231489168603\n",
            "12     \t [-0.47571775 11.19740417]. \t  -37.99321270193424 \t -3.4914231489168603\n",
            "13     \t [4.20349973 8.25259036]. \t  -49.67809627169127 \t -3.4914231489168603\n",
            "14     \t [7.67701917 2.08678212]. \t  -12.168446409456969 \t -3.4914231489168603\n",
            "15     \t [-1.31475753  5.46219171]. \t  -20.574867313530252 \t -3.4914231489168603\n",
            "16     \t [9.08060069 6.32686291]. \t  -17.992163989950463 \t -3.4914231489168603\n",
            "17     \t [3.48559365 2.3536009 ]. \t  \u001b[92m-1.0703971114553017\u001b[0m \t -1.0703971114553017\n",
            "18     \t [-5.          9.93501745]. \t  -65.32022699722941 \t -1.0703971114553017\n",
            "19     \t [-3.02328327 13.08368776]. \t  -1.6557390183346232 \t -1.0703971114553017\n",
            "20     \t [ 3.5680369 15.       ]. \t  -171.14490700909877 \t -1.0703971114553017\n"
          ]
        }
      ]
    },
    {
      "cell_type": "code",
      "metadata": {
        "id": "Aawd59dRIUYn",
        "colab": {
          "base_uri": "https://localhost:8080/"
        },
        "outputId": "3ee25bc0-52d1-449b-fb88-b74cebcd458e"
      },
      "source": [
        "### ESTIMATED GP EI GRADIENTS\n",
        "\n",
        "np.random.seed(run_num_20)\n",
        "surrogate_approx_20 = GaussianProcess(cov_func, optimize=opt)\n",
        "\n",
        "approx_20 = GPGO_multi(surrogate_approx_20, Acquisition_new(util_grad_approx), objfunc, param)\n",
        "approx_20.run(init_evals=n_init, max_iter=iters)\n"
      ],
      "execution_count": 32,
      "outputs": [
        {
          "output_type": "stream",
          "name": "stdout",
          "text": [
            "Evaluation \t Proposed point \t  Current eval. \t Best eval.\n",
            "init   \t [ 3.82196202 13.46570592]. \t  -138.5264349938869 \t -14.042667401507376\n",
            "init   \t [ 8.37296094 12.23756216]. \t  -115.63178540512689 \t -14.042667401507376\n",
            "init   \t [-4.46165622 10.37636373]. \t  -35.66708529307584 \t -14.042667401507376\n",
            "init   \t [0.68021413 7.77766418]. \t  -25.307769914281764 \t -14.042667401507376\n",
            "init   \t [4.86927198 2.90775327]. \t  -14.042667401507376 \t -14.042667401507376\n",
            "1      \t [-5.          1.73691361]. \t  -251.44004619140125 \t -14.042667401507376\n",
            "2      \t [10.          6.11805294]. \t  \u001b[92m-11.64696581321603\u001b[0m \t -11.64696581321603\n",
            "3      \t [10.  0.]. \t  \u001b[92m-10.960889035651505\u001b[0m \t -10.960889035651505\n",
            "4      \t [-2.93283688 14.98065501]. \t  \u001b[92m-10.857335400402917\u001b[0m \t -10.857335400402917\n",
            "5      \t [0.52674414 0.        ]. \t  -45.31458039652851 \t -10.857335400402917\n",
            "6      \t [5.54519456 7.81717801]. \t  -61.5969042910724 \t -10.857335400402917\n",
            "7      \t [-3.33820304  6.17152682]. \t  -43.89202788564019 \t -10.857335400402917\n",
            "8      \t [-0.42773052 11.85974147]. \t  -45.31471224079341 \t -10.857335400402917\n",
            "9      \t [0.89329985 3.96721361]. \t  -16.52903024715139 \t -10.857335400402917\n",
            "10     \t [6.51223354 0.        ]. \t  -20.592481713080495 \t -10.857335400402917\n",
            "11     \t [8.49391336 3.16340013]. \t  \u001b[92m-6.120318509493385\u001b[0m \t -6.120318509493385\n",
            "12     \t [10.          9.00072174]. \t  -37.916327288767704 \t -6.120318509493385\n",
            "13     \t [2.82734133 9.9966396 ]. \t  -56.57658616152905 \t -6.120318509493385\n",
            "14     \t [ 0.34561096 15.        ]. \t  -109.94342410783166 \t -6.120318509493385\n",
            "15     \t [10. 15.]. \t  -145.87219087939556 \t -6.120318509493385\n",
            "16     \t [-5.         13.54599478]. \t  -25.983296051912394 \t -6.120318509493385\n",
            "17     \t [3.64649687 0.        ]. \t  \u001b[92m-5.260110800423795\u001b[0m \t -5.260110800423795\n",
            "18     \t [3.27124166 5.47324072]. \t  -11.349852482212755 \t -5.260110800423795\n",
            "19     \t [-1.56391946  2.90019457]. \t  -44.93299869737478 \t -5.260110800423795\n",
            "20     \t [7.08641059 4.98893047]. \t  -30.956133399696746 \t -5.260110800423795\n"
          ]
        }
      ]
    },
    {
      "cell_type": "code",
      "metadata": {
        "id": "xkgzPRbBTHaq",
        "colab": {
          "base_uri": "https://localhost:8080/"
        },
        "outputId": "c5c3d45d-b22a-413f-ee35-905b5b6c6bc6"
      },
      "source": [
        "end_approx = time.time()\n",
        "end_approx\n",
        "\n",
        "time_approx = end_approx - start_approx\n",
        "time_approx\n",
        "\n",
        "start_exact = time.time()\n",
        "start_exact"
      ],
      "execution_count": 33,
      "outputs": [
        {
          "output_type": "execute_result",
          "data": {
            "text/plain": [
              "1637160300.038961"
            ]
          },
          "metadata": {},
          "execution_count": 33
        }
      ]
    },
    {
      "cell_type": "code",
      "metadata": {
        "id": "7CG3Ndvb16Rb",
        "colab": {
          "base_uri": "https://localhost:8080/"
        },
        "outputId": "73b976a8-554c-4ee4-c540-1056d3859392"
      },
      "source": [
        "### EXACT GP EI GRADIENTS\n",
        "\n",
        "np.random.seed(run_num_1)\n",
        "surrogate_exact_1 = dGaussianProcess(cov_func, optimize=opt)\n",
        "\n",
        "exact_1 = dGPGO(surrogate_exact_1, Acquisition_new(util_grad_exact), objfunc, param)\n",
        "exact_1.run(init_evals=n_init, max_iter=iters)\n"
      ],
      "execution_count": 34,
      "outputs": [
        {
          "output_type": "stream",
          "name": "stdout",
          "text": [
            "Evaluation \t Proposed point \t  Current eval. \t Best eval.\n",
            "init   \t [ 1.25533007 10.8048674 ]. \t  -56.52874004692151 \t -27.68166689936483\n",
            "init   \t [-4.99828438  4.53498859]. \t  -172.66531086516164 \t -27.68166689936483\n",
            "init   \t [-2.79866164  1.38507892]. \t  -102.58290348816024 \t -27.68166689936483\n",
            "init   \t [-2.20609683  5.18341091]. \t  -28.868064601155666 \t -27.68166689936483\n",
            "init   \t [0.95151211 8.08225101]. \t  -27.68166689936483 \t -27.68166689936483\n",
            "1      \t [8.41909995 1.27566317]. \t  \u001b[92m-5.089934878453152\u001b[0m \t -5.089934878453152\n",
            "2      \t [ 8.98893195 10.45227242]. \t  -70.52424256621515 \t -5.089934878453152\n",
            "3      \t [3.08802166 1.95495764]. \t  \u001b[92m-0.5428446528952637\u001b[0m \t -0.5428446528952637\n",
            "4      \t [-4.67712792 14.21955317]. \t  -13.865244792739254 \t -0.5428446528952637\n",
            "5      \t [9.55142118 5.54873866]. \t  -9.265065445068537 \t -0.5428446528952637\n",
            "6      \t [4.95656853 5.3625333 ]. \t  -28.946661055632582 \t -0.5428446528952637\n",
            "7      \t [ 4.549066   14.90869537]. \t  -190.02550896453667 \t -0.5428446528952637\n",
            "8      \t [-5.          9.65339986]. \t  -69.4843098304811 \t -0.5428446528952637\n",
            "9      \t [-0.34119122 14.73626174]. \t  -85.93157875380474 \t -0.5428446528952637\n",
            "10     \t [4.92559667 0.        ]. \t  -13.708482550494221 \t -0.5428446528952637\n",
            "11     \t [1.03287342 0.        ]. \t  -35.11524744748742 \t -0.5428446528952637\n",
            "12     \t [2.08187594 3.38629372]. \t  -5.322963622689047 \t -0.5428446528952637\n",
            "13     \t [4.832181  9.5367079]. \t  -78.56651741370906 \t -0.5428446528952637\n",
            "14     \t [-1.99482172 11.20934317]. \t  -8.361054345521223 \t -0.5428446528952637\n",
            "15     \t [ 7.83034619 13.32579652]. \t  -151.06018975782698 \t -0.5428446528952637\n",
            "16     \t [-0.01271197  3.53234391]. \t  -25.791026469552556 \t -0.5428446528952637\n",
            "17     \t [6.95443378 2.87513608]. \t  -20.39382532838458 \t -0.5428446528952637\n",
            "18     \t [-1.78614811  7.90900219]. \t  -9.759510736980026 \t -0.5428446528952637\n",
            "19     \t [7.71550702 6.81088584]. \t  -40.48827341032938 \t -0.5428446528952637\n",
            "20     \t [3.74439353 2.54143691]. \t  -2.565792599527496 \t -0.5428446528952637\n"
          ]
        }
      ]
    },
    {
      "cell_type": "code",
      "metadata": {
        "id": "-ilCPSAu9SAg",
        "colab": {
          "base_uri": "https://localhost:8080/"
        },
        "outputId": "ad5d6daa-1ed1-404a-b5ca-b453528d6283"
      },
      "source": [
        "### EXACT GP EI GRADIENTS\n",
        "\n",
        "np.random.seed(run_num_2)\n",
        "surrogate_exact_2 = dGaussianProcess(cov_func, optimize=opt)\n",
        "\n",
        "exact_2 = dGPGO(surrogate_exact_2, Acquisition_new(util_grad_exact), objfunc, param)\n",
        "exact_2.run(init_evals=n_init, max_iter=iters)\n"
      ],
      "execution_count": 35,
      "outputs": [
        {
          "output_type": "stream",
          "name": "stdout",
          "text": [
            "Evaluation \t Proposed point \t  Current eval. \t Best eval.\n",
            "init   \t [1.53992353 0.38889348]. \t  -22.31361308916297 \t -6.692051508754487\n",
            "init   \t [3.24493717 6.52983589]. \t  -19.233109967858276 \t -6.692051508754487\n",
            "init   \t [1.30551703 4.95502232]. \t  -13.177851563387286 \t -6.692051508754487\n",
            "init   \t [-1.93027049  9.2890645 ]. \t  -6.692051508754487 \t -6.692051508754487\n",
            "init   \t [-0.50517989  4.00240913]. \t  -26.437522758780958 \t -6.692051508754487\n",
            "1      \t [ 9.5587047  12.00387527]. \t  -89.09951357262268 \t -6.692051508754487\n",
            "2      \t [9.59366035 1.69164323]. \t  \u001b[92m-1.3984593420568778\u001b[0m \t -1.3984593420568778\n",
            "3      \t [ 3.24245232 12.67669673]. \t  -110.25694222671481 \t -1.3984593420568778\n",
            "4      \t [-5.  0.]. \t  -308.12909601160663 \t -1.3984593420568778\n",
            "5      \t [-5.          5.79582785]. \t  -142.49075824686355 \t -1.3984593420568778\n",
            "6      \t [-3.95509114 14.02730345]. \t  -3.486800558634023 \t -1.3984593420568778\n",
            "7      \t [6.10794941 0.        ]. \t  -20.661518946532816 \t -1.3984593420568778\n",
            "8      \t [8.06939376 7.00307179]. \t  -37.47641026953328 \t -1.3984593420568778\n",
            "9      \t [-5.         10.75113627]. \t  -54.14873061624617 \t -1.3984593420568778\n",
            "10     \t [-1.35561365 14.30537323]. \t  -46.98367439861934 \t -1.3984593420568778\n",
            "11     \t [5.3416119  9.56542142]. \t  -85.88986396980707 \t -1.3984593420568778\n",
            "12     \t [5.93359713 3.41929192]. \t  -24.378838038516555 \t -1.3984593420568778\n",
            "13     \t [1.07065675 9.30683637]. \t  -38.251055894653845 \t -1.3984593420568778\n",
            "14     \t [ 7.02402671 14.84002777]. \t  -203.28626964173617 \t -1.3984593420568778\n",
            "15     \t [-1.63834358  6.98162122]. \t  -13.243192394728325 \t -1.3984593420568778\n",
            "16     \t [-1.32755055  0.67653724]. \t  -71.0495833505321 \t -1.3984593420568778\n",
            "17     \t [3.08558342 2.67744392]. \t  \u001b[92m-0.5413659174381387\u001b[0m \t -0.5413659174381387\n",
            "18     \t [-3.70420413  3.11957438]. \t  -113.14679455466998 \t -0.5413659174381387\n",
            "19     \t [3.07328493 2.67531427]. \t  \u001b[92m-0.5403015489870544\u001b[0m \t -0.5403015489870544\n",
            "20     \t [-1.95858668 11.36570967]. \t  -9.441898144900867 \t -0.5403015489870544\n"
          ]
        }
      ]
    },
    {
      "cell_type": "code",
      "metadata": {
        "id": "XieJ158mIvlP",
        "colab": {
          "base_uri": "https://localhost:8080/"
        },
        "outputId": "b256b06d-769f-4c13-b6cd-0c3288bca19a"
      },
      "source": [
        "### EXACT GP EI GRADIENTS\n",
        "\n",
        "np.random.seed(run_num_3)\n",
        "surrogate_exact_3 = dGaussianProcess(cov_func, optimize=opt)\n",
        "\n",
        "exact_3 = dGPGO(surrogate_exact_3, Acquisition_new(util_grad_exact), objfunc, param)\n",
        "exact_3.run(init_evals=n_init, max_iter=iters)\n"
      ],
      "execution_count": 36,
      "outputs": [
        {
          "output_type": "stream",
          "name": "stdout",
          "text": [
            "Evaluation \t Proposed point \t  Current eval. \t Best eval.\n",
            "init   \t [ 3.26196854 10.62221734]. \t  -71.68783452098575 \t -18.07886746449891\n",
            "init   \t [-0.63642892  7.66241408]. \t  -18.07886746449891 \t -18.07886746449891\n",
            "init   \t [ 8.39420432 13.44439633]. \t  -141.98653529865882 \t -18.07886746449891\n",
            "init   \t [-3.11622034  3.10864317]. \t  -83.31045707266176 \t -18.07886746449891\n",
            "init   \t [-4.22799195  6.61214765]. \t  -76.5294170688398 \t -18.07886746449891\n",
            "1      \t [6.70472147 4.59545299]. \t  -30.726791812855225 \t -18.07886746449891\n",
            "2      \t [-3.89564496 13.38589781]. \t  \u001b[92m-3.6010193697779265\u001b[0m \t -3.6010193697779265\n",
            "3      \t [3.44163418 0.11840653]. \t  -4.568127126936898 \t -3.6010193697779265\n",
            "4      \t [9.66928614 7.54126572]. \t  -24.22825144413937 \t -3.6010193697779265\n",
            "5      \t [1.6519512  4.14751066]. \t  -9.401487830701365 \t -3.6010193697779265\n",
            "6      \t [9.93667322 0.73572362]. \t  -6.490388951463248 \t -3.6010193697779265\n",
            "7      \t [ 0.7273756  14.67607729]. \t  -112.53473754309877 \t -3.6010193697779265\n",
            "8      \t [-5.         10.54073784]. \t  -56.90134082909181 \t -3.6010193697779265\n",
            "9      \t [-5.  0.]. \t  -308.12909601160663 \t -3.6010193697779265\n",
            "10     \t [-0.10383696  0.        ]. \t  -57.57802185062605 \t -3.6010193697779265\n",
            "11     \t [6.22786525 8.30320408]. \t  -71.49324717447342 \t -3.6010193697779265\n",
            "12     \t [6.66893913 0.        ]. \t  -20.1767996112076 \t -3.6010193697779265\n",
            "13     \t [3.01169582 6.65495742]. \t  -18.767033228891822 \t -3.6010193697779265\n",
            "14     \t [ 4.49105071 13.89176449]. \t  -162.493915317688 \t -3.6010193697779265\n",
            "15     \t [-1.03965854 11.08003333]. \t  -25.65964030685091 \t -3.6010193697779265\n",
            "16     \t [-0.57115592  4.4646861 ]. \t  -24.260612057251112 \t -3.6010193697779265\n",
            "17     \t [1.90958406 2.23822561]. \t  -8.233595398733696 \t -3.6010193697779265\n",
            "18     \t [9.58033478 3.57103517]. \t  \u001b[92m-1.4386836422007168\u001b[0m \t -1.4386836422007168\n",
            "19     \t [8.73411759 9.85123298]. \t  -64.9641689699915 \t -1.4386836422007168\n",
            "20     \t [3.29669256 2.8787582 ]. \t  \u001b[92m-1.0338662705126662\u001b[0m \t -1.0338662705126662\n"
          ]
        }
      ]
    },
    {
      "cell_type": "code",
      "metadata": {
        "id": "PhLBVOIfIvol",
        "colab": {
          "base_uri": "https://localhost:8080/"
        },
        "outputId": "6aa4791d-ae6f-4ebb-a984-e73f8e652f88"
      },
      "source": [
        "### EXACT GP EI GRADIENTS\n",
        "\n",
        "np.random.seed(run_num_4)\n",
        "surrogate_exact_4 = dGaussianProcess(cov_func, optimize=opt)\n",
        "\n",
        "exact_4 = dGPGO(surrogate_exact_4, Acquisition_new(util_grad_exact), objfunc, param)\n",
        "exact_4.run(init_evals=n_init, max_iter=iters)\n"
      ],
      "execution_count": 37,
      "outputs": [
        {
          "output_type": "stream",
          "name": "stdout",
          "text": [
            "Evaluation \t Proposed point \t  Current eval. \t Best eval.\n",
            "init   \t [9.50544759 8.20848374]. \t  -32.51676744781521 \t -7.247126865776948\n",
            "init   \t [ 9.5902654  10.72223991]. \t  -66.20566674364716 \t -7.247126865776948\n",
            "init   \t [5.46593237 3.24134243]. \t  -20.90089401680587 \t -7.247126865776948\n",
            "init   \t [9.64411682 0.09345383]. \t  -7.247126865776948 \t -7.247126865776948\n",
            "init   \t [-1.20526456  6.52187299]. \t  -15.941376982363263 \t -7.247126865776948\n",
            "1      \t [-5.  0.]. \t  -308.12909601160663 \t -7.247126865776948\n",
            "2      \t [ 1.1294018  14.15696259]. \t  -109.93986979623045 \t -7.247126865776948\n",
            "3      \t [1.01135456 0.        ]. \t  -35.54910090321898 \t -7.247126865776948\n",
            "4      \t [3.23207677 8.99696237]. \t  -46.561227404762874 \t -7.247126865776948\n",
            "5      \t [-4.73699493 13.33053872]. \t  -19.892240270122997 \t -7.247126865776948\n",
            "6      \t [-5.          8.73224674]. \t  -84.21269443915696 \t -7.247126865776948\n",
            "7      \t [ 7.15995113 14.45073253]. \t  -191.00332078453908 \t -7.247126865776948\n",
            "8      \t [1.89601005 4.78044934]. \t  -8.710621593768117 \t -7.247126865776948\n",
            "9      \t [-1.59795923  2.75193135]. \t  -47.20792063604268 \t -7.247126865776948\n",
            "10     \t [-5.          4.62555368]. \t  -170.5227312606936 \t -7.247126865776948\n",
            "11     \t [9.84728885 3.8746317 ]. \t  \u001b[92m-2.283029540801702\u001b[0m \t -2.283029540801702\n",
            "12     \t [-0.9841026  10.29607745]. \t  -22.100397050237508 \t -2.283029540801702\n",
            "13     \t [5.75144308 0.        ]. \t  -19.529807427955582 \t -2.283029540801702\n",
            "14     \t [4.04265128 5.94354981]. \t  -22.24104955900949 \t -2.283029540801702\n",
            "15     \t [6.41698852 8.14165705]. \t  -69.00870889362139 \t -2.283029540801702\n",
            "16     \t [8.22191252 3.86908684]. \t  -11.482716879330573 \t -2.283029540801702\n",
            "17     \t [ 3.85999554 11.91660322]. \t  -105.49292581794741 \t -2.283029540801702\n",
            "18     \t [3.20214231 1.7593072 ]. \t  \u001b[92m-0.6353944553960194\u001b[0m \t -0.6353944553960194\n",
            "19     \t [7.90843718 1.5869957 ]. \t  -9.48621148206417 \t -0.6353944553960194\n",
            "20     \t [0.72480188 6.97414933]. \t  -21.43138559886516 \t -0.6353944553960194\n"
          ]
        }
      ]
    },
    {
      "cell_type": "code",
      "metadata": {
        "id": "arbiPyj2IvsJ",
        "colab": {
          "base_uri": "https://localhost:8080/"
        },
        "outputId": "dc859b7b-c912-4b8a-faf6-72b9eb6e80c1"
      },
      "source": [
        "### EXACT GP EI GRADIENTS\n",
        "\n",
        "np.random.seed(run_num_5)\n",
        "surrogate_exact_5 = dGaussianProcess(cov_func, optimize=opt)\n",
        "\n",
        "exact_5 = dGPGO(surrogate_exact_5, Acquisition_new(util_grad_exact), objfunc, param)\n",
        "exact_5.run(init_evals=n_init, max_iter=iters)\n"
      ],
      "execution_count": 38,
      "outputs": [
        {
          "output_type": "stream",
          "name": "stdout",
          "text": [
            "Evaluation \t Proposed point \t  Current eval. \t Best eval.\n",
            "init   \t [-1.67010243 13.06098459]. \t  -25.390690545664548 \t -25.311309190989615\n",
            "init   \t [-1.89921267 13.77916362]. \t  -25.311309190989615 \t -25.311309190989615\n",
            "init   \t [2.32616783 9.17615794]. \t  -41.60147975414021 \t -25.311309190989615\n",
            "init   \t [6.48861785 7.77626982]. \t  -63.81281921768236 \t -25.311309190989615\n",
            "init   \t [-0.54799248  2.81581843]. \t  -34.966203644931994 \t -25.311309190989615\n",
            "1      \t [8.84124421 0.03321319]. \t  \u001b[92m-5.96108856337545\u001b[0m \t -5.96108856337545\n",
            "2      \t [ 8.39476442 14.47736321]. \t  -167.21523769473345 \t -5.96108856337545\n",
            "3      \t [-5.         7.1966117]. \t  -112.53880559577387 \t -5.96108856337545\n",
            "4      \t [-5.  0.]. \t  -308.12909601160663 \t -5.96108856337545\n",
            "5      \t [4.59227243 2.55561813]. \t  -10.149178939405914 \t -5.96108856337545\n",
            "6      \t [ 4.04340559 13.0533821 ]. \t  -133.4720819581152 \t -5.96108856337545\n",
            "7      \t [2.02207007 0.        ]. \t  -16.76837606359409 \t -5.96108856337545\n",
            "8      \t [8.73101102 3.79074418]. \t  -5.998572066391249 \t -5.96108856337545\n",
            "9      \t [-1.01803047  6.54488837]. \t  -16.503791168535624 \t -5.96108856337545\n",
            "10     \t [-4.70143305 11.13604213]. \t  -36.955057025094106 \t -5.96108856337545\n",
            "11     \t [3.3169897  5.21835989]. \t  -10.00803521035506 \t -5.96108856337545\n",
            "12     \t [-1.3437555   9.75553063]. \t  -14.0757712794502 \t -5.96108856337545\n",
            "13     \t [ 7.57203455 10.94701482]. \t  -104.66645561742921 \t -5.96108856337545\n",
            "14     \t [-4.18152147  3.70221889]. \t  -130.84053231798842 \t -5.96108856337545\n",
            "15     \t [-1.57410676  0.        ]. \t  -87.855256458058 \t -5.96108856337545\n",
            "16     \t [ 0.81969374 12.91440945]. \t  -82.68548999040111 \t -5.96108856337545\n",
            "17     \t [5.25586705 0.        ]. \t  -16.41415229569037 \t -5.96108856337545\n",
            "18     \t [6.13945816 4.56814315]. \t  -31.54434897411958 \t -5.96108856337545\n",
            "19     \t [8.99528331 2.00771988]. \t  \u001b[92m-1.2865819879754827\u001b[0m \t -1.2865819879754827\n",
            "20     \t [1.23764297 5.76426819]. \t  -15.499910118819177 \t -1.2865819879754827\n"
          ]
        }
      ]
    },
    {
      "cell_type": "code",
      "metadata": {
        "id": "04KJCEm_Ivvf",
        "colab": {
          "base_uri": "https://localhost:8080/"
        },
        "outputId": "7c318d3c-81d7-474b-de75-d7cb6485e16d"
      },
      "source": [
        "### EXACT GP EI GRADIENTS\n",
        "\n",
        "np.random.seed(run_num_6)\n",
        "surrogate_exact_6 = dGaussianProcess(cov_func, optimize=opt)\n",
        "\n",
        "exact_6 = dGPGO(surrogate_exact_6, Acquisition_new(util_grad_exact), objfunc, param)\n",
        "exact_6.run(init_evals=n_init, max_iter=iters)\n"
      ],
      "execution_count": 39,
      "outputs": [
        {
          "output_type": "stream",
          "name": "stdout",
          "text": [
            "Evaluation \t Proposed point \t  Current eval. \t Best eval.\n",
            "init   \t [8.39290227 4.97969708]. \t  -15.553860636684597 \t -15.31731051317483\n",
            "init   \t [7.31843685 0.62544939]. \t  -15.31731051317483 \t -15.31731051317483\n",
            "init   \t [-3.3851498   8.92578096]. \t  -16.222288919361837 \t -15.31731051317483\n",
            "init   \t [2.94726043 6.28211143]. \t  -15.406373581304088 \t -15.31731051317483\n",
            "init   \t [0.03111774 9.33779148]. \t  -31.07053245856209 \t -15.31731051317483\n",
            "1      \t [ 9.64829531 12.55362889]. \t  -98.32295673962142 \t -15.31731051317483\n",
            "2      \t [-5.  0.]. \t  -308.12909601160663 \t -15.31731051317483\n",
            "3      \t [ 4.34724926 14.59608757]. \t  -177.48889417089816 \t -15.31731051317483\n",
            "4      \t [1.84604461 0.        ]. \t  -19.655505076632274 \t -15.31731051317483\n",
            "5      \t [-1.49696917  4.19019933]. \t  -30.79471982636544 \t -15.31731051317483\n",
            "6      \t [-2.88144405 14.07252479]. \t  \u001b[92m-6.548287566177593\u001b[0m \t -6.548287566177593\n",
            "7      \t [ 4.00744185 10.22477388]. \t  -76.50749788777172 \t -6.548287566177593\n",
            "8      \t [8.58850376 8.55704676]. \t  -48.41571401919358 \t -6.548287566177593\n",
            "9      \t [ 0.18638758 12.6865283 ]. \t  -68.1378550124482 \t -6.548287566177593\n",
            "10     \t [-5.          5.40162652]. \t  -151.62726708182348 \t -6.548287566177593\n",
            "11     \t [3.86258723 3.03651372]. \t  \u001b[92m-4.366505404317881\u001b[0m \t -4.366505404317881\n",
            "12     \t [-4.40040392 11.62952192]. \t  -22.071446987290926 \t -4.366505404317881\n",
            "13     \t [6.41010576 6.8375094 ]. \t  -52.373690032560226 \t -4.366505404317881\n",
            "14     \t [-1.30588129  0.91284943]. \t  -67.06453375006065 \t -4.366505404317881\n",
            "15     \t [4.60848244 0.40100565]. \t  -10.020139323645006 \t -4.366505404317881\n",
            "16     \t [9.68465451 2.64568218]. \t  \u001b[92m-0.7235879042761031\u001b[0m \t -0.7235879042761031\n",
            "17     \t [0.99899815 3.36326884]. \t  -16.578411080698245 \t -0.7235879042761031\n",
            "18     \t [5.9926691  2.02680054]. \t  -20.055639984722408 \t -0.7235879042761031\n",
            "19     \t [-0.57393886  6.51680456]. \t  -18.256453783491363 \t -0.7235879042761031\n",
            "20     \t [9.7275565  2.88311544]. \t  -0.8545162706160028 \t -0.7235879042761031\n"
          ]
        }
      ]
    },
    {
      "cell_type": "code",
      "metadata": {
        "id": "tAOkme3CIvyO",
        "colab": {
          "base_uri": "https://localhost:8080/"
        },
        "outputId": "37bc145a-26c4-4dbe-d6bc-50da8801e0a8"
      },
      "source": [
        "### EXACT GP EI GRADIENTS\n",
        "\n",
        "np.random.seed(run_num_7)\n",
        "surrogate_exact_7 = dGaussianProcess(cov_func, optimize=opt)\n",
        "\n",
        "exact_7 = dGPGO(surrogate_exact_7, Acquisition_new(util_grad_exact), objfunc, param)\n",
        "exact_7.run(init_evals=n_init, max_iter=iters)\n"
      ],
      "execution_count": 40,
      "outputs": [
        {
          "output_type": "stream",
          "name": "stdout",
          "text": [
            "Evaluation \t Proposed point \t  Current eval. \t Best eval.\n",
            "init   \t [-3.85537566 11.69878188]. \t  -8.299317850233932 \t -5.211335324193094\n",
            "init   \t [ 1.57613847 10.85197767]. \t  -59.50408380701259 \t -5.211335324193094\n",
            "init   \t [9.66984268 8.07743806]. \t  -29.714921414987273 \t -5.211335324193094\n",
            "init   \t [2.51680695 1.080767  ]. \t  -5.211335324193094 \t -5.211335324193094\n",
            "init   \t [-0.9734153   7.49823751]. \t  -15.431057204948033 \t -5.211335324193094\n",
            "1      \t [-5.          1.31567764]. \t  -264.63405347662837 \t -5.211335324193094\n",
            "2      \t [ 7.42679792 14.12713902]. \t  -178.37635728719692 \t -5.211335324193094\n",
            "3      \t [8.08940775 0.35854539]. \t  -9.249625108410735 \t -5.211335324193094\n",
            "4      \t [-3.39684884  5.54228873]. \t  -54.79871094423047 \t -5.211335324193094\n",
            "5      \t [4.25166431 6.08034122]. \t  -26.08773523689538 \t -5.211335324193094\n",
            "6      \t [8.42338336 4.13646972]. \t  -10.471562850075973 \t -5.211335324193094\n",
            "7      \t [ 0.41036662 14.84871201]. \t  -108.67673451031358 \t -5.211335324193094\n",
            "8      \t [-0.78044364  0.43362107]. \t  -64.25650794422012 \t -5.211335324193094\n",
            "9      \t [ 5.29326214 10.47819958]. \t  -101.44543618326065 \t -5.211335324193094\n",
            "10     \t [-4.85386246 14.71769028]. \t  -15.56074922910528 \t -5.211335324193094\n",
            "11     \t [5.25200607 1.25905722]. \t  -14.936609636292218 \t -5.211335324193094\n",
            "12     \t [-5.         8.8453082]. \t  -82.3135824624935 \t -5.211335324193094\n",
            "13     \t [0.15732088 4.52545903]. \t  -20.989930637101747 \t -5.211335324193094\n",
            "14     \t [6.72125973 7.11129294]. \t  -54.366822679694714 \t -5.211335324193094\n",
            "15     \t [ 8.57506835 11.11128495]. \t  -89.40384624063937 \t -5.211335324193094\n",
            "16     \t [ 3.81909698 14.26221111]. \t  -157.67732267490112 \t -5.211335324193094\n",
            "17     \t [2.71303588 3.57864623]. \t  \u001b[92m-2.1606006706357155\u001b[0m \t -2.1606006706357155\n",
            "18     \t [6.74196064 2.93766652]. \t  -21.834371560847877 \t -2.1606006706357155\n",
            "19     \t [-1.98104226 10.47934446]. \t  -6.841807338229025 \t -2.1606006706357155\n",
            "20     \t [1.30107279 7.71498719]. \t  -25.282305159771028 \t -2.1606006706357155\n"
          ]
        }
      ]
    },
    {
      "cell_type": "code",
      "metadata": {
        "id": "69-J3EF4Iv1S",
        "colab": {
          "base_uri": "https://localhost:8080/"
        },
        "outputId": "3f9b9953-1abf-4501-e6a6-02f5ef7a73fa"
      },
      "source": [
        "### EXACT GP EI GRADIENTS\n",
        "\n",
        "np.random.seed(run_num_8)\n",
        "surrogate_exact_8 = dGaussianProcess(cov_func, optimize=opt)\n",
        "\n",
        "exact_8 = dGPGO(surrogate_exact_8, Acquisition_new(util_grad_exact), objfunc, param)\n",
        "exact_8.run(init_evals=n_init, max_iter=iters)\n"
      ],
      "execution_count": 41,
      "outputs": [
        {
          "output_type": "stream",
          "name": "stdout",
          "text": [
            "Evaluation \t Proposed point \t  Current eval. \t Best eval.\n",
            "init   \t [ 8.10144104 14.52810994]. \t  -175.17297136347514 \t -15.416245468470875\n",
            "init   \t [8.0379181  7.96283537]. \t  -49.32173799887473 \t -15.416245468470875\n",
            "init   \t [-1.50907508  0.17098206]. \t  -83.26753461673219 \t -15.416245468470875\n",
            "init   \t [1.45703227 6.0352704 ]. \t  -15.416245468470875 \t -15.416245468470875\n",
            "init   \t [2.84012007 7.17587694]. \t  -22.49093277852639 \t -15.416245468470875\n",
            "1      \t [9.77124156 0.43098073]. \t  \u001b[92m-6.499298445992174\u001b[0m \t -6.499298445992174\n",
            "2      \t [-4.87537438 11.82874897]. \t  -36.57081146531108 \t -6.499298445992174\n",
            "3      \t [-4.45539317  6.26873664]. \t  -95.66805496810107 \t -6.499298445992174\n",
            "4      \t [4.53814861 0.93201571]. \t  -8.591235769615428 \t -6.499298445992174\n",
            "5      \t [-0.10664759 12.3093941 ]. \t  -57.22493359529306 \t -6.499298445992174\n",
            "6      \t [7.40911588 3.51951155]. \t  -19.060107836020165 \t -6.499298445992174\n",
            "7      \t [ 4.79164746 10.26335952]. \t  -90.3880656137853 \t -6.499298445992174\n",
            "8      \t [ 3.78067217 13.93690668]. \t  -148.88535975165553 \t -6.499298445992174\n",
            "9      \t [-5.          1.43858349]. \t  -260.74771409933055 \t -6.499298445992174\n",
            "10     \t [-1.62131071  8.76396416]. \t  -9.53950139814008 \t -6.499298445992174\n",
            "11     \t [1.40857131 2.75950726]. \t  -13.125887968216983 \t -6.499298445992174\n",
            "12     \t [4.24190171 4.35190036]. \t  -13.367700845612209 \t -6.499298445992174\n",
            "13     \t [-1.73764507  4.10331411]. \t  -33.93100692935607 \t -6.499298445992174\n",
            "14     \t [ 9.99795209 10.82692064]. \t  -63.17866230338867 \t -6.499298445992174\n",
            "15     \t [7.1344903 0.       ]. \t  -17.817971597015614 \t -6.499298445992174\n",
            "16     \t [1.62501154 0.        ]. \t  -23.578546712838172 \t -6.499298445992174\n",
            "17     \t [-2.13214779 14.61457022]. \t  -26.361268350224336 \t -6.499298445992174\n",
            "18     \t [-5.          9.20899409]. \t  -76.37807695532615 \t -6.499298445992174\n",
            "19     \t [5.34865217 6.61818351]. \t  -45.245906268983546 \t -6.499298445992174\n",
            "20     \t [ 7.38135068 11.31621917]. \t  -114.88124628088684 \t -6.499298445992174\n"
          ]
        }
      ]
    },
    {
      "cell_type": "code",
      "metadata": {
        "id": "vonm9jyuIv4t",
        "colab": {
          "base_uri": "https://localhost:8080/"
        },
        "outputId": "f7ed8bbf-9496-4750-acc4-369379bab217"
      },
      "source": [
        "### EXACT GP EI GRADIENTS\n",
        "\n",
        "np.random.seed(run_num_9)\n",
        "surrogate_exact_9 = dGaussianProcess(cov_func, optimize=opt)\n",
        "\n",
        "exact_9 = dGPGO(surrogate_exact_9, Acquisition_new(util_grad_exact), objfunc, param)\n",
        "exact_9.run(init_evals=n_init, max_iter=iters)\n"
      ],
      "execution_count": 42,
      "outputs": [
        {
          "output_type": "stream",
          "name": "stdout",
          "text": [
            "Evaluation \t Proposed point \t  Current eval. \t Best eval.\n",
            "init   \t [-4.84438769  7.52811888]. \t  -96.15564306553264 \t -3.4640248583909496\n",
            "init   \t [2.4365994  2.00744293]. \t  -3.4640248583909496 \t -3.4640248583909496\n",
            "init   \t [-2.86833372  3.27838013]. \t  -70.46930174488207 \t -3.4640248583909496\n",
            "init   \t [1.27762271 3.72151753]. \t  -12.982825924833865 \t -3.4640248583909496\n",
            "init   \t [-3.73910523  5.1824796 ]. \t  -75.58547400560856 \t -3.4640248583909496\n",
            "1      \t [ 7.05609655 14.75038872]. \t  -200.4388688685465 \t -3.4640248583909496\n",
            "2      \t [-0.46054038 14.56197292]. \t  -79.4666617606301 \t -3.4640248583909496\n",
            "3      \t [8.28747407 1.2035024 ]. \t  -6.196385269800155 \t -3.4640248583909496\n",
            "4      \t [4.04087616 9.61381371]. \t  -67.00046891088304 \t -3.4640248583909496\n",
            "5      \t [9.67993735 5.53971063]. \t  -8.780439004071582 \t -3.4640248583909496\n",
            "6      \t [5.69614675 4.2958879 ]. \t  -28.043820974806252 \t -3.4640248583909496\n",
            "7      \t [-1.20240833 10.19017727]. \t  -17.824732005322605 \t -3.4640248583909496\n",
            "8      \t [-0.29905066  0.        ]. \t  -61.26368602007234 \t -3.4640248583909496\n",
            "9      \t [8.92200921 9.94311714]. \t  -63.35879057929555 \t -3.4640248583909496\n",
            "10     \t [4.75147739 0.        ]. \t  -12.209439407010763 \t -3.4640248583909496\n",
            "11     \t [-5.         12.91425788]. \t  -30.98315697878409 \t -3.4640248583909496\n",
            "12     \t [-5.  0.]. \t  -308.12909601160663 \t -3.4640248583909496\n",
            "13     \t [1.13711285 6.94256861]. \t  -20.71874397514722 \t -3.4640248583909496\n",
            "14     \t [6.72508606 7.22312158]. \t  -55.692710251395745 \t -3.4640248583909496\n",
            "15     \t [3.08157438 5.19680541]. \t  -8.67812366662256 \t -3.4640248583909496\n",
            "16     \t [ 4.44410862 12.47102254]. \t  -128.29273301112056 \t -3.4640248583909496\n",
            "17     \t [ 1.00045819 10.54906048]. \t  -51.328920519058705 \t -3.4640248583909496\n",
            "18     \t [-1.81457141  8.01442838]. \t  -9.369535654508775 \t -3.4640248583909496\n",
            "19     \t [6.8102605 0.       ]. \t  -19.627571360975054 \t -3.4640248583909496\n",
            "20     \t [-4.22661791 10.50788375]. \t  -26.008587640764144 \t -3.4640248583909496\n"
          ]
        }
      ]
    },
    {
      "cell_type": "code",
      "metadata": {
        "id": "6amuYlUdIv7r",
        "colab": {
          "base_uri": "https://localhost:8080/"
        },
        "outputId": "20a8a712-18dd-4262-b606-4a1af35189c6"
      },
      "source": [
        "### EXACT GP EI GRADIENTS\n",
        "\n",
        "np.random.seed(run_num_10)\n",
        "surrogate_exact_10 = dGaussianProcess(cov_func, optimize=opt)\n",
        "\n",
        "exact_10 = dGPGO(surrogate_exact_10, Acquisition_new(util_grad_exact), objfunc, param)\n",
        "exact_10.run(init_evals=n_init, max_iter=iters)\n"
      ],
      "execution_count": 43,
      "outputs": [
        {
          "output_type": "stream",
          "name": "stdout",
          "text": [
            "Evaluation \t Proposed point \t  Current eval. \t Best eval.\n",
            "init   \t [6.56980965 0.31127924]. \t  -19.863985024602144 \t -2.710610964564512\n",
            "init   \t [ 4.50472352 11.23205824]. \t  -103.66999147252169 \t -2.710610964564512\n",
            "init   \t [2.47760518 3.37194968]. \t  -2.710610964564512 \t -2.710610964564512\n",
            "init   \t [-2.02905703 11.40796068]. \t  -8.463930835255017 \t -2.710610964564512\n",
            "init   \t [-2.46333745  1.32509721]. \t  -90.49481266026973 \t -2.710610964564512\n",
            "1      \t [ 9.16391068 14.81438212]. \t  -158.2412724465548 \t -2.710610964564512\n",
            "2      \t [9.65621089 6.61160737]. \t  -16.1339423373336 \t -2.710610964564512\n",
            "3      \t [-3.43070383  6.59407857]. \t  -41.58407105964012 \t -2.710610964564512\n",
            "4      \t [5.85817889 4.76185152]. \t  -32.085305518207704 \t -2.710610964564512\n",
            "5      \t [-4.09924692 14.83375461]. \t  -4.493827434732684 \t -2.710610964564512\n",
            "6      \t [2.0380305 0.       ]. \t  -16.518551930108707 \t -2.710610964564512\n",
            "7      \t [2.63840491 6.29092453]. \t  -14.48191329861618 \t -2.710610964564512\n",
            "8      \t [-5.         10.22381358]. \t  -61.21473338265265 \t -2.710610964564512\n",
            "9      \t [ 8.33964377 10.80708451]. \t  -88.24229779476569 \t -2.710610964564512\n",
            "10     \t [-0.15775797 14.50484082]. \t  -87.55438498682533 \t -2.710610964564512\n",
            "11     \t [-0.37707473  6.20068633]. \t  -19.102092256805342 \t -2.710610964564512\n",
            "12     \t [0.51038002 2.95605191]. \t  -23.510011562244248 \t -2.710610964564512\n",
            "13     \t [9.97116497 2.35013063]. \t  \u001b[92m-2.1856654070338255\u001b[0m \t -2.1856654070338255\n",
            "14     \t [ 0.61474719 10.60812571]. \t  -48.51033432369132 \t -2.1856654070338255\n",
            "15     \t [-5.          3.68897526]. \t  -194.93014368866963 \t -2.1856654070338255\n",
            "16     \t [6.18994965 7.50310492]. \t  -60.58378873747022 \t -2.1856654070338255\n",
            "17     \t [8.38755787 2.96631988]. \t  -6.622374482508776 \t -2.1856654070338255\n",
            "18     \t [4.18897193 1.53959132]. \t  -5.204092942365277 \t -2.1856654070338255\n",
            "19     \t [-5.  0.]. \t  -308.12909601160663 \t -2.1856654070338255\n",
            "20     \t [ 4.01209881 14.04406785]. \t  -156.33566813789784 \t -2.1856654070338255\n"
          ]
        }
      ]
    },
    {
      "cell_type": "code",
      "metadata": {
        "id": "VwbLIP9cIv-F",
        "colab": {
          "base_uri": "https://localhost:8080/"
        },
        "outputId": "97181936-e770-460d-f4ac-bad0206e9db6"
      },
      "source": [
        "### EXACT GP EI GRADIENTS\n",
        "\n",
        "np.random.seed(run_num_11)\n",
        "surrogate_exact_11 = dGaussianProcess(cov_func, optimize=opt)\n",
        "\n",
        "exact_11 = dGPGO(surrogate_exact_11, Acquisition_new(util_grad_exact), objfunc, param)\n",
        "exact_11.run(init_evals=n_init, max_iter=iters)\n"
      ],
      "execution_count": 44,
      "outputs": [
        {
          "output_type": "stream",
          "name": "stdout",
          "text": [
            "Evaluation \t Proposed point \t  Current eval. \t Best eval.\n",
            "init   \t [-2.29595467  0.29212862]. \t  -104.49282729548965 \t -22.37435843952312\n",
            "init   \t [ 1.9482779  10.87400894]. \t  -62.47758067812407 \t -22.37435843952312\n",
            "init   \t [1.30305407 7.28140647]. \t  -22.37435843952312 \t -22.37435843952312\n",
            "init   \t [-4.80828778  7.31057411]. \t  -97.94503054415523 \t -22.37435843952312\n",
            "init   \t [ 9.12709979 12.76192634]. \t  -111.62900800771942 \t -22.37435843952312\n",
            "1      \t [6.94653631 0.95529646]. \t  \u001b[92m-17.615403152614682\u001b[0m \t -17.615403152614682\n",
            "2      \t [7.36885435 7.13770312]. \t  -48.710443868178906 \t -17.615403152614682\n",
            "3      \t [2.57355729 0.        ]. \t  \u001b[92m-9.521590734237666\u001b[0m \t -9.521590734237666\n",
            "4      \t [1.97554148 3.31555025]. \t  \u001b[92m-6.220812946100704\u001b[0m \t -6.220812946100704\n",
            "5      \t [-3.42208896 11.32925449]. \t  \u001b[92m-3.4300860679630905\u001b[0m \t -3.4300860679630905\n",
            "6      \t [-2.03856646  4.50287378]. \t  -33.532622328853314 \t -3.4300860679630905\n",
            "7      \t [-0.77255064 14.09983832]. \t  -63.02373645523099 \t -3.4300860679630905\n",
            "8      \t [ 4.8073577  13.88975243]. \t  -168.5475183374799 \t -3.4300860679630905\n",
            "9      \t [-5.          2.92957512]. \t  -216.00818257584314 \t -3.4300860679630905\n",
            "10     \t [8.37200792 3.90329021]. \t  -9.967919040559444 \t -3.4300860679630905\n",
            "11     \t [-4.75415634 13.61510062]. \t  -18.644743848491714 \t -3.4300860679630905\n",
            "12     \t [4.08575054 5.19802993]. \t  -16.930295858339136 \t -3.4300860679630905\n",
            "13     \t [ 5.05238435 10.38511906]. \t  -96.53345472356641 \t -3.4300860679630905\n",
            "14     \t [4.39408075 1.38291365]. \t  -7.0088392955983645 \t -3.4300860679630905\n",
            "15     \t [-1.76661918  8.92207799]. \t  -8.21739030307639 \t -3.4300860679630905\n",
            "16     \t [0.69082228 0.75803219]. \t  -35.07536779790787 \t -3.4300860679630905\n",
            "17     \t [9.81331748 8.82062798]. \t  -37.09421446329133 \t -3.4300860679630905\n",
            "18     \t [9.94720983 1.8640597 ]. \t  \u001b[92m-2.8600415406395783\u001b[0m \t -2.8600415406395783\n",
            "19     \t [5.5158369  3.58030694]. \t  -22.809575302439242 \t -2.8600415406395783\n",
            "20     \t [-1.50201783 10.99835026]. \t  -16.02545420901458 \t -2.8600415406395783\n"
          ]
        }
      ]
    },
    {
      "cell_type": "code",
      "metadata": {
        "id": "MlUNFjc-JTBY",
        "colab": {
          "base_uri": "https://localhost:8080/"
        },
        "outputId": "6632a5f5-29bd-44c9-96f1-e313de1bd945"
      },
      "source": [
        "### EXACT GP EI GRADIENTS\n",
        "\n",
        "np.random.seed(run_num_12)\n",
        "surrogate_exact_12 = dGaussianProcess(cov_func, optimize=opt)\n",
        "\n",
        "exact_12 = dGPGO(surrogate_exact_12, Acquisition_new(util_grad_exact), objfunc, param)\n",
        "exact_12.run(init_evals=n_init, max_iter=iters)\n"
      ],
      "execution_count": 45,
      "outputs": [
        {
          "output_type": "stream",
          "name": "stdout",
          "text": [
            "Evaluation \t Proposed point \t  Current eval. \t Best eval.\n",
            "init   \t [-2.68755736 11.10074545]. \t  -1.3827702760021356 \t -0.5499315281120278\n",
            "init   \t [-1.05027477  8.0060909 ]. \t  -14.81231853080056 \t -0.5499315281120278\n",
            "init   \t [-4.78137556 13.78120512]. \t  -18.401131000214548 \t -0.5499315281120278\n",
            "init   \t [8.51072281 0.50132141]. \t  -5.855172364344769 \t -0.5499315281120278\n",
            "init   \t [9.35424004 2.05813982]. \t  -0.5499315281120278 \t -0.5499315281120278\n",
            "1      \t [9.43895355 6.28875405]. \t  -14.852312468115107 \t -0.5499315281120278\n",
            "2      \t [ 5.04936449 13.86496049]. \t  -172.12573102553992 \t -0.5499315281120278\n",
            "3      \t [-4.8799499   0.15657603]. \t  -290.0404981832191 \t -0.5499315281120278\n",
            "4      \t [3.19250894 0.43312493]. \t  -3.65934631146272 \t -0.5499315281120278\n",
            "5      \t [4.20545739 8.13748395]. \t  -48.18748871163941 \t -0.5499315281120278\n",
            "6      \t [-5.          5.54422112]. \t  -148.28643660112425 \t -0.5499315281120278\n",
            "7      \t [ 9.98185613 14.45397276]. \t  -133.38707816968864 \t -0.5499315281120278\n",
            "8      \t [ 0.23685149 13.37552196]. \t  -79.32271330717461 \t -0.5499315281120278\n",
            "9      \t [-0.49966587  2.58734179]. \t  -36.4070912483156 \t -0.5499315281120278\n",
            "10     \t [5.16752197 3.80294611]. \t  -20.86525621432387 \t -0.5499315281120278\n",
            "11     \t [ 7.36377501 10.30498667]. \t  -95.87655358859732 \t -0.5499315281120278\n",
            "12     \t [0.84823938 5.99781249]. \t  -17.924641965988947 \t -0.5499315281120278\n",
            "13     \t [-5.          9.79672936]. \t  -67.3451757966183 \t -0.5499315281120278\n",
            "14     \t [5.26425064 0.57692557]. \t  -15.424462215037053 \t -0.5499315281120278\n",
            "15     \t [1.53440912 9.82168917]. \t  -45.8664311042919 \t -0.5499315281120278\n",
            "16     \t [1.04230735 0.        ]. \t  -34.92517453854782 \t -0.5499315281120278\n",
            "17     \t [7.44942651 4.15990395]. \t  -21.885322503149254 \t -0.5499315281120278\n",
            "18     \t [-2.05001596 11.15005805]. \t  -7.380137747015848 \t -0.5499315281120278\n",
            "19     \t [-1.81424909  5.56193286]. \t  -21.753450915639007 \t -0.5499315281120278\n",
            "20     \t [1.91117876 3.96500261]. \t  -7.080452367265986 \t -0.5499315281120278\n"
          ]
        }
      ]
    },
    {
      "cell_type": "code",
      "metadata": {
        "id": "9BsKdU9eJTFL",
        "colab": {
          "base_uri": "https://localhost:8080/"
        },
        "outputId": "5f8f4bc1-1d48-49ff-ce3b-bfae06b12a89"
      },
      "source": [
        "### EXACT GP EI GRADIENTS\n",
        "\n",
        "np.random.seed(run_num_13)\n",
        "surrogate_exact_13 = dGaussianProcess(cov_func, optimize=opt)\n",
        "\n",
        "exact_13 = dGPGO(surrogate_exact_13, Acquisition_new(util_grad_exact), objfunc, param)\n",
        "exact_13.run(init_evals=n_init, max_iter=iters)\n"
      ],
      "execution_count": 46,
      "outputs": [
        {
          "output_type": "stream",
          "name": "stdout",
          "text": [
            "Evaluation \t Proposed point \t  Current eval. \t Best eval.\n",
            "init   \t [6.66553616 3.5631183 ]. \t  -24.823670200298267 \t -18.038943061558626\n",
            "init   \t [ 7.36417799 14.48623797]. \t  -188.7803334745195 \t -18.038943061558626\n",
            "init   \t [9.58901671 6.80173871]. \t  -18.038943061558626 \t -18.038943061558626\n",
            "init   \t [ 4.13563694 11.63289772]. \t  -104.87319703906111 \t -18.038943061558626\n",
            "init   \t [ 4.62420017 10.83027344]. \t  -98.03271225790056 \t -18.038943061558626\n",
            "1      \t [-5.  0.]. \t  -308.12909601160663 \t -18.038943061558626\n",
            "2      \t [-3.06562888 11.40851515]. \t  \u001b[92m-0.8943531028899869\u001b[0m \t -0.8943531028899869\n",
            "3      \t [-0.77721745  5.55115316]. \t  -19.956248293009427 \t -0.8943531028899869\n",
            "4      \t [2.4615927 0.       ]. \t  -10.742108161711958 \t -0.8943531028899869\n",
            "5      \t [-5.          7.42787383]. \t  -107.97132423378899 \t -0.8943531028899869\n",
            "6      \t [-0.06726039 13.38005396]. \t  -72.46851260529694 \t -0.8943531028899869\n",
            "7      \t [3.4566115 6.3162692]. \t  -19.13850127807386 \t -0.8943531028899869\n",
            "8      \t [-0.12359602  9.26548911]. \t  -28.934167352816388 \t -0.8943531028899869\n",
            "9      \t [5.92575286 0.        ]. \t  -20.21654755667461 \t -0.8943531028899869\n",
            "10     \t [-0.97577662  1.74719407]. \t  -50.53294646877881 \t -0.8943531028899869\n",
            "11     \t [ 9.12066286 10.58136739]. \t  -70.57682468704874 \t -0.8943531028899869\n",
            "12     \t [2.06914377 3.17394809]. \t  -5.417828412478259 \t -0.8943531028899869\n",
            "13     \t [-4.43446921 13.32397319]. \t  -12.536929350944982 \t -0.8943531028899869\n",
            "14     \t [-4.7687998   3.79143601]. \t  -172.75185674558296 \t -0.8943531028899869\n",
            "15     \t [6.03765368 7.91695355]. \t  -65.78535940615497 \t -0.8943531028899869\n",
            "16     \t [3.69449966 3.72148769]. \t  -5.207511483733476 \t -0.8943531028899869\n",
            "17     \t [9.38814117 2.42710199]. \t  \u001b[92m-0.4046255997461081\u001b[0m \t -0.4046255997461081\n",
            "18     \t [-5.       10.810406]. \t  -53.38929712372345 \t -0.4046255997461081\n",
            "19     \t [3.56163526 2.03430831]. \t  -1.236691467276092 \t -0.4046255997461081\n",
            "20     \t [1.26398693 6.52198454]. \t  -18.316290044587895 \t -0.4046255997461081\n"
          ]
        }
      ]
    },
    {
      "cell_type": "code",
      "metadata": {
        "id": "k6GjFBr1JTJf",
        "colab": {
          "base_uri": "https://localhost:8080/"
        },
        "outputId": "278ec6ca-d488-41d4-aa00-a1948b121fbc"
      },
      "source": [
        "### EXACT GP EI GRADIENTS\n",
        "\n",
        "np.random.seed(run_num_14)\n",
        "surrogate_exact_14 = dGaussianProcess(cov_func, optimize=opt)\n",
        "\n",
        "exact_14 = dGPGO(surrogate_exact_14, Acquisition_new(util_grad_exact), objfunc, param)\n",
        "exact_14.run(init_evals=n_init, max_iter=iters)\n"
      ],
      "execution_count": 47,
      "outputs": [
        {
          "output_type": "stream",
          "name": "stdout",
          "text": [
            "Evaluation \t Proposed point \t  Current eval. \t Best eval.\n",
            "init   \t [ 2.70915016 11.59747578]. \t  -81.58264375064097 \t -1.4149920024014744\n",
            "init   \t [8.05641529 0.12070423]. \t  -10.148649076616518 \t -1.4149920024014744\n",
            "init   \t [-0.35396112 14.36405609]. \t  -79.6056658956529 \t -1.4149920024014744\n",
            "init   \t [2.69675068 4.77426637]. \t  -5.855607664288365 \t -1.4149920024014744\n",
            "init   \t [3.08799906 3.31882414]. \t  -1.4149920024014744 \t -1.4149920024014744\n",
            "1      \t [-5.  0.]. \t  -308.12909601160663 \t -1.4149920024014744\n",
            "2      \t [-3.61083748  7.85924032]. \t  -32.481990179851884 \t -1.4149920024014744\n",
            "3      \t [8.4415984  6.61360555]. \t  -28.132050221972662 \t -1.4149920024014744\n",
            "4      \t [0.60907754 0.        ]. \t  -43.667065815419974 \t -1.4149920024014744\n",
            "5      \t [ 9.81482319 14.16972583]. \t  -129.85218172547337 \t -1.4149920024014744\n",
            "6      \t [ 7.01431281 10.56434044]. \t  -104.9826457970548 \t -1.4149920024014744\n",
            "7      \t [-2.90009331  3.75429263]. \t  -63.84502828512832 \t -1.4149920024014744\n",
            "8      \t [-5.         12.63605332]. \t  -33.43814766265328 \t -1.4149920024014744\n",
            "9      \t [0.91139572 7.45938125]. \t  -23.737272395719767 \t -1.4149920024014744\n",
            "10     \t [4.49135102 0.51161699]. \t  -8.789944834393914 \t -1.4149920024014744\n",
            "11     \t [4.69706778 7.23802872]. \t  -44.23373379829523 \t -1.4149920024014744\n",
            "12     \t [5.65811442 3.52695385]. \t  -23.52918046159049 \t -1.4149920024014744\n",
            "13     \t [-1.74520408 10.02082897]. \t  -9.05593455926452 \t -1.4149920024014744\n",
            "14     \t [0.3755702  3.98625412]. \t  -20.98984553746485 \t -1.4149920024014744\n",
            "15     \t [8.14799336 3.81124714]. \t  -12.069023053147511 \t -1.4149920024014744\n",
            "16     \t [9.61137218 1.76226403]. \t  \u001b[92m-1.329540884768491\u001b[0m \t -1.329540884768491\n",
            "17     \t [ 5.84144259 13.48040945]. \t  -171.67902729316037 \t -1.329540884768491\n",
            "18     \t [-5.         5.6217377]. \t  -146.48737276474395 \t -1.329540884768491\n",
            "19     \t [2.70522448 2.3131651 ]. \t  -1.404434847439516 \t -1.329540884768491\n",
            "20     \t [9.83576717 1.94610794]. \t  -2.0028036369127697 \t -1.329540884768491\n"
          ]
        }
      ]
    },
    {
      "cell_type": "code",
      "metadata": {
        "id": "dPS8WB3aJTN6",
        "colab": {
          "base_uri": "https://localhost:8080/"
        },
        "outputId": "6403a658-a248-4b89-bbb8-ae0a6331395a"
      },
      "source": [
        "### EXACT GP EI GRADIENTS\n",
        "\n",
        "np.random.seed(run_num_15)\n",
        "surrogate_exact_15 = dGaussianProcess(cov_func, optimize=opt)\n",
        "\n",
        "exact_15 = dGPGO(surrogate_exact_15, Acquisition_new(util_grad_exact), objfunc, param)\n",
        "exact_15.run(init_evals=n_init, max_iter=iters)\n"
      ],
      "execution_count": 48,
      "outputs": [
        {
          "output_type": "stream",
          "name": "stdout",
          "text": [
            "Evaluation \t Proposed point \t  Current eval. \t Best eval.\n",
            "init   \t [7.73226546 2.68343887]. \t  -12.768724532005583 \t -12.768724532005583\n",
            "init   \t [-4.18455179  5.42307669]. \t  -95.39334176626551 \t -12.768724532005583\n",
            "init   \t [-0.86898607  7.95000337]. \t  -16.419487782111716 \t -12.768724532005583\n",
            "init   \t [-0.41121626  4.56711539]. \t  -23.250362743740954 \t -12.768724532005583\n",
            "init   \t [-3.32388086  3.74848521]. \t  -80.99796277938532 \t -12.768724532005583\n",
            "1      \t [ 6.5655417  11.87699252]. \t  -134.95011349993544 \t -12.768724532005583\n",
            "2      \t [-4.77493765 13.49591113]. \t  -19.896906503438096 \t -12.768724532005583\n",
            "3      \t [2.87162472 0.        ]. \t  \u001b[92m-6.970468137384209\u001b[0m \t -6.970468137384209\n",
            "4      \t [4.35167018 6.82761208]. \t  -34.776688005526836 \t -6.970468137384209\n",
            "5      \t [-1.2283201  0.       ]. \t  -79.64450975255947 \t -6.970468137384209\n",
            "6      \t [ 0.90814241 12.88837722]. \t  -83.59397268560264 \t -6.970468137384209\n",
            "7      \t [9.8673558  5.57328662]. \t  -8.611202245125636 \t -6.970468137384209\n",
            "8      \t [-5.          9.61093642]. \t  -70.1259487731864 \t -6.970468137384209\n",
            "9      \t [3.71544406 3.1334185 ]. \t  \u001b[92m-3.532169585216007\u001b[0m \t -3.532169585216007\n",
            "10     \t [-5.  0.]. \t  -308.12909601160663 \t -3.532169585216007\n",
            "11     \t [5.33690791 0.        ]. \t  -17.019966606149247 \t -3.532169585216007\n",
            "12     \t [7.42400448 5.20175228]. \t  -29.19166098196922 \t -3.532169585216007\n",
            "13     \t [ 9.9505216  13.43399879]. \t  -111.52117530928861 \t -3.532169585216007\n",
            "14     \t [9.45003777 8.95107782]. \t  -42.06395037319377 \t -3.532169585216007\n",
            "15     \t [1.91519362 9.43476842]. \t  -42.86671743707661 \t -3.532169585216007\n",
            "16     \t [-2.44493334 11.80669285]. \t  -3.942260293123214 \t -3.532169585216007\n",
            "17     \t [1.83358124 1.70572167]. \t  -10.783069032405814 \t -3.532169585216007\n",
            "18     \t [6.40490541 8.56164781]. \t  -75.12090794003166 \t -3.532169585216007\n",
            "19     \t [1.66870835 6.09276429]. \t  -14.76804166556315 \t -3.532169585216007\n",
            "20     \t [ 3.5702815  14.76405073]. \t  -165.09721658802542 \t -3.532169585216007\n"
          ]
        }
      ]
    },
    {
      "cell_type": "code",
      "metadata": {
        "id": "SHWdp2giJTRm",
        "colab": {
          "base_uri": "https://localhost:8080/"
        },
        "outputId": "4ed8d91b-0b5f-4e14-e058-5b34dc2b87a7"
      },
      "source": [
        "### EXACT GP EI GRADIENTS\n",
        "\n",
        "np.random.seed(run_num_16)\n",
        "surrogate_exact_16 = dGaussianProcess(cov_func, optimize=opt)\n",
        "\n",
        "exact_16 = dGPGO(surrogate_exact_16, Acquisition_new(util_grad_exact), objfunc, param)\n",
        "exact_16.run(init_evals=n_init, max_iter=iters)\n"
      ],
      "execution_count": 49,
      "outputs": [
        {
          "output_type": "stream",
          "name": "stdout",
          "text": [
            "Evaluation \t Proposed point \t  Current eval. \t Best eval.\n",
            "init   \t [-1.65063381  7.84745012]. \t  -10.514702126319445 \t -2.715864006988424\n",
            "init   \t [3.26052185 0.68402925]. \t  -2.715864006988424 \t -2.715864006988424\n",
            "init   \t [0.41093253 3.34621413]. \t  -22.889515127492515 \t -2.715864006988424\n",
            "init   \t [5.33089243 2.45597138]. \t  -17.178157611778595 \t -2.715864006988424\n",
            "init   \t [-3.945127  14.1151629]. \t  -3.3649224341694195 \t -2.715864006988424\n",
            "1      \t [ 5.63879248 14.58068289]. \t  -198.51319639462758 \t -2.715864006988424\n",
            "2      \t [-5.  0.]. \t  -308.12909601160663 \t -2.715864006988424\n",
            "3      \t [4.39600939 7.43435868]. \t  -42.22899400134039 \t -2.715864006988424\n",
            "4      \t [ 1.38594066 11.43892832]. \t  -66.47430458686767 \t -2.715864006988424\n",
            "5      \t [-5.         5.1510576]. \t  -157.59632900497346 \t -2.715864006988424\n",
            "6      \t [9.91844219 8.81695252]. \t  -36.28422213736768 \t -2.715864006988424\n",
            "7      \t [9.25810749 0.8143285 ]. \t  -2.8525180892541595 \t -2.715864006988424\n",
            "8      \t [-0.51484278  0.        ]. \t  -65.32977048979023 \t -2.715864006988424\n",
            "9      \t [9.28310748 4.17883383]. \t  -3.809191405154797 \t -2.715864006988424\n",
            "10     \t [-5.          9.13876743]. \t  -77.50359681193221 \t -2.715864006988424\n",
            "11     \t [ 6.31391337 10.24295918]. \t  -103.17116757813064 \t -2.715864006988424\n",
            "12     \t [6.57910842 0.01246786]. \t  -20.412990976510642 \t -2.715864006988424\n",
            "13     \t [7.1524989 5.1365363]. \t  -31.49452901421293 \t -2.715864006988424\n",
            "14     \t [ 1.30509226 14.884634  ]. \t  -127.90589634494864 \t -2.715864006988424\n",
            "15     \t [-2.4002123   2.66832448]. \t  -65.2643719493605 \t -2.715864006988424\n",
            "16     \t [0.82180898 6.63679384]. \t  -19.988345943318635 \t -2.715864006988424\n",
            "17     \t [-5.         12.49033055]. \t  -34.78584076743677 \t -2.715864006988424\n",
            "18     \t [-1.94688235 11.02395724]. \t  -8.53466681492546 \t -2.715864006988424\n",
            "19     \t [3.26348715 4.1208968 ]. \t  -4.22900240995022 \t -2.715864006988424\n",
            "20     \t [ 9.73335524 14.38169583]. \t  -136.20378968889275 \t -2.715864006988424\n"
          ]
        }
      ]
    },
    {
      "cell_type": "code",
      "metadata": {
        "id": "yU2SflSsJTUs",
        "colab": {
          "base_uri": "https://localhost:8080/"
        },
        "outputId": "2d6cbf9d-6b03-4b3c-f975-dac4d34b9a15"
      },
      "source": [
        "### EXACT GP EI GRADIENTS\n",
        "\n",
        "np.random.seed(run_num_17)\n",
        "surrogate_exact_17 = dGaussianProcess(cov_func, optimize=opt)\n",
        "\n",
        "exact_17 = dGPGO(surrogate_exact_17, Acquisition_new(util_grad_exact), objfunc, param)\n",
        "exact_17.run(init_evals=n_init, max_iter=iters)\n"
      ],
      "execution_count": 50,
      "outputs": [
        {
          "output_type": "stream",
          "name": "stdout",
          "text": [
            "Evaluation \t Proposed point \t  Current eval. \t Best eval.\n",
            "init   \t [-0.58002496  7.95880133]. \t  -19.016141117164256 \t -19.016141117164256\n",
            "init   \t [-2.1271882   1.01850537]. \t  -85.05949339404415 \t -19.016141117164256\n",
            "init   \t [6.8047819  9.84500283]. \t  -93.89792695202516 \t -19.016141117164256\n",
            "init   \t [4.56281344 8.63404341]. \t  -60.50217141122736 \t -19.016141117164256\n",
            "init   \t [-4.41405626  5.36720407]. \t  -110.70834086593878 \t -19.016141117164256\n",
            "1      \t [9.76575296 0.98553483]. \t  \u001b[92m-4.1623278326263815\u001b[0m \t -4.1623278326263815\n",
            "2      \t [-0.36591853 14.49945231]. \t  -81.3728947682288 \t -4.1623278326263815\n",
            "3      \t [3.74599703 2.35814314]. \t  \u001b[92m-2.3563457989420957\u001b[0m \t -2.3563457989420957\n",
            "4      \t [-4.62073959 10.71622774]. \t  -38.23970827047828 \t -2.3563457989420957\n",
            "5      \t [ 4.90329936 14.65548099]. \t  -190.1360088170045 \t -2.3563457989420957\n",
            "6      \t [0.83224127 4.03067546]. \t  -17.003455851488418 \t -2.3563457989420957\n",
            "7      \t [7.03222209 4.76890495]. \t  -29.795406615376056 \t -2.3563457989420957\n",
            "8      \t [1.95346092 0.        ]. \t  -17.86567988997609 \t -2.3563457989420957\n",
            "9      \t [6.27761189 0.        ]. \t  -20.81158206907802 \t -2.3563457989420957\n",
            "10     \t [-1.17433864 11.02469578]. \t  -22.57353074094199 \t -2.3563457989420957\n",
            "11     \t [8.846131   7.38283807]. \t  -30.612303731026714 \t -2.3563457989420957\n",
            "12     \t [ 2.08523598 10.99229443]. \t  -65.32741291647525 \t -2.3563457989420957\n",
            "13     \t [ 9.27506985 14.41868491]. \t  -146.11950538577977 \t -2.3563457989420957\n",
            "14     \t [-5.  0.]. \t  -308.12909601160663 \t -2.3563457989420957\n",
            "15     \t [2.98711209 5.72053396]. \t  -11.547770926137558 \t -2.3563457989420957\n",
            "16     \t [-4.41835984 13.7151014 ]. \t  -10.598625775550937 \t -2.3563457989420957\n",
            "17     \t [-1.45969424  4.21492309]. \t  -30.279753425600223 \t -2.3563457989420957\n",
            "18     \t [4.36188768 2.78849688]. \t  -8.322914394679117 \t -2.3563457989420957\n",
            "19     \t [-2.96067432  8.18077573]. \t  -13.977027954937471 \t -2.3563457989420957\n",
            "20     \t [9.9683401  3.23455468]. \t  \u001b[92m-1.8509281105180317\u001b[0m \t -1.8509281105180317\n"
          ]
        }
      ]
    },
    {
      "cell_type": "code",
      "metadata": {
        "id": "es0KCh_0JTgY",
        "colab": {
          "base_uri": "https://localhost:8080/"
        },
        "outputId": "a88271d4-e9cd-4cd3-fd88-a3283fd45595"
      },
      "source": [
        "### EXACT GP EI GRADIENTS\n",
        "\n",
        "np.random.seed(run_num_18)\n",
        "surrogate_exact_18 = dGaussianProcess(cov_func, optimize=opt)\n",
        "\n",
        "exact_18 = dGPGO(surrogate_exact_18, Acquisition_new(util_grad_exact), objfunc, param)\n",
        "exact_18.run(init_evals=n_init, max_iter=iters)\n"
      ],
      "execution_count": 51,
      "outputs": [
        {
          "output_type": "stream",
          "name": "stdout",
          "text": [
            "Evaluation \t Proposed point \t  Current eval. \t Best eval.\n",
            "init   \t [4.75561363 7.58180061]. \t  -49.215059064668324 \t -8.150075223157177\n",
            "init   \t [8.17902206 2.72760338]. \t  -8.150075223157177 \t -8.150075223157177\n",
            "init   \t [ 7.78349603 11.25204429]. \t  -106.98107856533271 \t -8.150075223157177\n",
            "init   \t [ 4.99152501 14.81843172]. \t  -196.08601750690153 \t -8.150075223157177\n",
            "init   \t [-1.14547366  0.42458888]. \t  -71.23649635555944 \t -8.150075223157177\n",
            "1      \t [-4.83474958 11.77354131]. \t  -35.58412906267954 \t -8.150075223157177\n",
            "2      \t [-4.42009615  6.14388684]. \t  -95.87208918687436 \t -8.150075223157177\n",
            "3      \t [0.84280249 4.83955102]. \t  -16.396937808692908 \t -8.150075223157177\n",
            "4      \t [4.16948596 0.        ]. \t  \u001b[92m-7.6310330551087695\u001b[0m \t -7.6310330551087695\n",
            "5      \t [-0.12756076 10.65515995]. \t  -39.32694072216271 \t -7.6310330551087695\n",
            "6      \t [-5.          1.75390904]. \t  -250.91516112988276 \t -7.6310330551087695\n",
            "7      \t [ 9.87797119 14.39619935]. \t  -133.90228231808436 \t -7.6310330551087695\n",
            "8      \t [-1.08384693  7.45825725]. \t  -14.66827427556924 \t -7.6310330551087695\n",
            "9      \t [-0.51657686 14.28710066]. \t  -73.5610643915935 \t -7.6310330551087695\n",
            "10     \t [7.13414828 5.37074986]. \t  -33.55374113116462 \t -7.6310330551087695\n",
            "11     \t [6.98291013 0.        ]. \t  -18.751268908863253 \t -7.6310330551087695\n",
            "12     \t [3.84699046 2.79403224]. \t  \u001b[92m-3.6991452534662166\u001b[0m \t -3.6991452534662166\n",
            "13     \t [9.68749597 0.65488194]. \t  -4.932493670356733 \t -3.6991452534662166\n",
            "14     \t [9.97771313 6.68669409]. \t  -15.561572752775657 \t -3.6991452534662166\n",
            "15     \t [ 2.96618976 12.52927164]. \t  -102.82825445036525 \t -3.6991452534662166\n",
            "16     \t [-1.93397926  4.1613855 ]. \t  -35.74693345265262 \t -3.6991452534662166\n",
            "17     \t [-3.74022785 14.70974859]. \t  \u001b[92m-2.969742617519578\u001b[0m \t -2.969742617519578\n",
            "18     \t [2.03583151 1.31617719]. \t  -9.610790798841428 \t -2.969742617519578\n",
            "19     \t [-3.4116925   9.25586744]. \t  -14.271288515776309 \t -2.969742617519578\n",
            "20     \t [1.51063491 7.29131167]. \t  -22.142499935300954 \t -2.969742617519578\n"
          ]
        }
      ]
    },
    {
      "cell_type": "code",
      "metadata": {
        "id": "Pput2LHPIwBM",
        "colab": {
          "base_uri": "https://localhost:8080/"
        },
        "outputId": "c02f338e-567a-4f40-85e9-d35624c9df92"
      },
      "source": [
        "### EXACT GP EI GRADIENTS\n",
        "\n",
        "np.random.seed(run_num_19)\n",
        "surrogate_exact_19 = dGaussianProcess(cov_func, optimize=opt)\n",
        "\n",
        "exact_19 = dGPGO(surrogate_exact_19, Acquisition_new(util_grad_exact), objfunc, param)\n",
        "exact_19.run(init_evals=n_init, max_iter=iters)\n"
      ],
      "execution_count": 52,
      "outputs": [
        {
          "output_type": "stream",
          "name": "stdout",
          "text": [
            "Evaluation \t Proposed point \t  Current eval. \t Best eval.\n",
            "init   \t [-3.53699597 11.41874575]. \t  -4.475608269502271 \t -4.475608269502271\n",
            "init   \t [-1.2959304   2.07197531]. \t  -51.13947793770689 \t -4.475608269502271\n",
            "init   \t [-0.02830155  1.24499348]. \t  -42.63973921760034 \t -4.475608269502271\n",
            "init   \t [ 5.07965622 12.09890697]. \t  -131.17235664506808 \t -4.475608269502271\n",
            "init   \t [9.74112872 9.53491102]. \t  -46.84458913925112 \t -4.475608269502271\n",
            "1      \t [9.57054653 2.03489665]. \t  \u001b[92m-0.8198597583535783\u001b[0m \t -0.8198597583535783\n",
            "2      \t [4.71643277 6.21924528]. \t  -33.580787136710335 \t -0.8198597583535783\n",
            "3      \t [-5.          6.35590012]. \t  -130.04427679892316 \t -0.8198597583535783\n",
            "4      \t [5.25303866 0.        ]. \t  -16.392480485681233 \t -0.8198597583535783\n",
            "5      \t [0.14773456 9.45041553]. \t  -33.05996536750414 \t -0.8198597583535783\n",
            "6      \t [-5.  0.]. \t  -308.12909601160663 \t -0.8198597583535783\n",
            "7      \t [0.99506097 4.81837213]. \t  -15.303044889007474 \t -0.8198597583535783\n",
            "8      \t [3.51924942 2.70083665]. \t  -1.5672432904991282 \t -0.8198597583535783\n",
            "9      \t [-1.41643864 14.48936138]. \t  -47.18702358330478 \t -0.8198597583535783\n",
            "10     \t [8.68150967 4.43582675]. \t  -9.262718201714078 \t -0.8198597583535783\n",
            "11     \t [6.35119757 2.60591232]. \t  -21.839372604351567 \t -0.8198597583535783\n",
            "12     \t [9.0505011 0.       ]. \t  -5.803630332573637 \t -0.8198597583535783\n",
            "13     \t [ 9.95156532 14.49046213]. \t  -134.7618195987743 \t -0.8198597583535783\n",
            "14     \t [ 1.78656987 14.3056961 ]. \t  -123.22249787391999 \t -0.8198597583535783\n",
            "15     \t [-4.8663682  12.90107433]. \t  -26.708279309065674 \t -0.8198597583535783\n",
            "16     \t [-1.55529044  5.36636335]. \t  -21.855178309579635 \t -0.8198597583535783\n",
            "17     \t [-3.69000356  9.57816122]. \t  -18.238112696808507 \t -0.8198597583535783\n",
            "18     \t [7.48770358 6.94934448]. \t  -45.06351575049452 \t -0.8198597583535783\n",
            "19     \t [2.97570203 9.17824456]. \t  -46.366915542273084 \t -0.8198597583535783\n",
            "20     \t [2.61036867 0.        ]. \t  -9.150811805941485 \t -0.8198597583535783\n"
          ]
        }
      ]
    },
    {
      "cell_type": "code",
      "metadata": {
        "id": "aw3xvSryIwDi",
        "colab": {
          "base_uri": "https://localhost:8080/"
        },
        "outputId": "d66adb45-6483-422d-fc14-41ba476cc4e9"
      },
      "source": [
        "### EXACT GP EI GRADIENTS\n",
        "\n",
        "np.random.seed(run_num_20)\n",
        "surrogate_exact_20 = dGaussianProcess(cov_func, optimize=opt)\n",
        "\n",
        "exact_20 = dGPGO(surrogate_exact_20, Acquisition_new(util_grad_exact), objfunc, param)\n",
        "exact_20.run(init_evals=n_init, max_iter=iters)\n"
      ],
      "execution_count": 53,
      "outputs": [
        {
          "output_type": "stream",
          "name": "stdout",
          "text": [
            "Evaluation \t Proposed point \t  Current eval. \t Best eval.\n",
            "init   \t [ 3.82196202 13.46570592]. \t  -138.5264349938869 \t -14.042667401507376\n",
            "init   \t [ 8.37296094 12.23756216]. \t  -115.63178540512689 \t -14.042667401507376\n",
            "init   \t [-4.46165622 10.37636373]. \t  -35.66708529307584 \t -14.042667401507376\n",
            "init   \t [0.68021413 7.77766418]. \t  -25.307769914281764 \t -14.042667401507376\n",
            "init   \t [4.86927198 2.90775327]. \t  -14.042667401507376 \t -14.042667401507376\n",
            "1      \t [-5.  0.]. \t  -308.12909601160663 \t -14.042667401507376\n",
            "2      \t [0.70576221 0.        ]. \t  -41.72271906454834 \t -14.042667401507376\n",
            "3      \t [-4.97383406  5.40643759]. \t  -149.50215185204294 \t -14.042667401507376\n",
            "4      \t [9.27672345 3.31678741]. \t  \u001b[92m-1.4319279861911571\u001b[0m \t -1.4319279861911571\n",
            "5      \t [7.4331173  7.10188486]. \t  -47.498648099446214 \t -1.4319279861911571\n",
            "6      \t [8.10870536 0.        ]. \t  -10.104187051440181 \t -1.4319279861911571\n",
            "7      \t [-4.32298919 14.99123565]. \t  -6.4466772514526305 \t -1.4319279861911571\n",
            "8      \t [-0.86518879 14.99502714]. \t  -72.79741781302425 \t -1.4319279861911571\n",
            "9      \t [-0.99744708  4.37778313]. \t  -26.352426566576543 \t -1.4319279861911571\n",
            "10     \t [3.7441739  6.32805096]. \t  -22.124276878652193 \t -1.4319279861911571\n",
            "11     \t [-1.42567776 11.46979493]. \t  -20.021480948216077 \t -1.4319279861911571\n",
            "12     \t [4.43026213 0.        ]. \t  -9.530675499179832 \t -1.4319279861911571\n",
            "13     \t [ 2.37808017 10.12853691]. \t  -54.65588508518828 \t -1.4319279861911571\n",
            "14     \t [-2.48326337  7.98384535]. \t  -10.049915134345035 \t -1.4319279861911571\n",
            "15     \t [7.64782544 2.93827435]. \t  -14.381278283230355 \t -1.4319279861911571\n",
            "16     \t [5.70249027 9.75471512]. \t  -92.49878965846143 \t -1.4319279861911571\n",
            "17     \t [-1.97020738  1.79515769]. \t  -67.76265972636669 \t -1.4319279861911571\n",
            "18     \t [2.25950403 2.64478197]. \t  -4.072732122583698 \t -1.4319279861911571\n",
            "19     \t [-3.60305027 13.04514829]. \t  -1.536440866762705 \t -1.4319279861911571\n",
            "20     \t [1.2745832 4.6189529]. \t  -12.994394818032859 \t -1.4319279861911571\n"
          ]
        }
      ]
    },
    {
      "cell_type": "code",
      "metadata": {
        "id": "qNqAB3vBTPqb",
        "colab": {
          "base_uri": "https://localhost:8080/"
        },
        "outputId": "91ab6e0c-27fa-4a1d-9ae7-041c8960323b"
      },
      "source": [
        "end_exact = time.time()\n",
        "end_exact\n",
        "\n",
        "time_exact = end_exact - start_exact\n",
        "time_exact"
      ],
      "execution_count": 54,
      "outputs": [
        {
          "output_type": "execute_result",
          "data": {
            "text/plain": [
              "789.6383974552155"
            ]
          },
          "metadata": {},
          "execution_count": 54
        }
      ]
    },
    {
      "cell_type": "code",
      "metadata": {
        "id": "JPQzjdBZQxfg",
        "colab": {
          "base_uri": "https://localhost:8080/"
        },
        "outputId": "e5eee0cb-245b-4e78-fc26-b8a052fb508c"
      },
      "source": [
        "### Simple regret minimization: run number = 1\n",
        "\n",
        "approx_output_1 = np.append(np.min(approx_1.GP.y[0:n_init]),approx_1.GP.y[n_init:(n_init+iters)]) \n",
        "exact_output_1 = np.append(np.min(exact_1.GP.y[0:n_init]),exact_1.GP.y[n_init:(n_init+iters)]) \n",
        "\n",
        "regret_approx_1 = np.log(-approx_output_1 + y_global_orig)\n",
        "regret_exact_1 = np.log(-exact_output_1 + y_global_orig)\n",
        "\n",
        "simple_regret_approx_1 = min_max_array(regret_approx_1)\n",
        "simple_regret_exact_1 = min_max_array(regret_exact_1)\n",
        "\n",
        "min_simple_regret_approx_1 = min(simple_regret_approx_1)\n",
        "min_simple_regret_exact_1 = min(simple_regret_exact_1)\n",
        "\n",
        "min_simple_regret_approx_1, min_simple_regret_exact_1"
      ],
      "execution_count": 55,
      "outputs": [
        {
          "output_type": "execute_result",
          "data": {
            "text/plain": [
              "(1.2645408132824152, -1.9313136282143575)"
            ]
          },
          "metadata": {},
          "execution_count": 55
        }
      ]
    },
    {
      "cell_type": "code",
      "metadata": {
        "id": "94yBw5tqQxfk",
        "colab": {
          "base_uri": "https://localhost:8080/"
        },
        "outputId": "89ed7aa3-a67b-43a2-adc9-2afee9506e27"
      },
      "source": [
        "### Simple regret minimization: run number = 2\n",
        "\n",
        "approx_output_2 = np.append(np.min(approx_2.GP.y[0:n_init]),approx_2.GP.y[n_init:(n_init+iters)]) \n",
        "exact_output_2 = np.append(np.min(exact_2.GP.y[0:n_init]),exact_2.GP.y[n_init:(n_init+iters)]) \n",
        "\n",
        "regret_approx_2 = np.log(-approx_output_2 + y_global_orig)\n",
        "regret_exact_2 = np.log(-exact_output_2 + y_global_orig)\n",
        "\n",
        "simple_regret_approx_2 = min_max_array(regret_approx_2)\n",
        "simple_regret_exact_2 = min_max_array(regret_exact_2)\n",
        "\n",
        "min_simple_regret_approx_2 = min(simple_regret_approx_2)\n",
        "min_simple_regret_exact_2 = min(simple_regret_exact_2)\n",
        "\n",
        "min_simple_regret_approx_2, min_simple_regret_exact_2"
      ],
      "execution_count": 56,
      "outputs": [
        {
          "output_type": "execute_result",
          "data": {
            "text/plain": [
              "(0.0005721783316311656, -1.9490131153703354)"
            ]
          },
          "metadata": {},
          "execution_count": 56
        }
      ]
    },
    {
      "cell_type": "code",
      "metadata": {
        "id": "Bu6SBWALQxfl",
        "colab": {
          "base_uri": "https://localhost:8080/"
        },
        "outputId": "dc8a15d0-ef3a-4714-8f3a-116051664dd3"
      },
      "source": [
        "### Simple regret minimization: run number = 3\n",
        "\n",
        "approx_output_3 = np.append(np.min(approx_3.GP.y[0:n_init]),approx_3.GP.y[n_init:(n_init+iters)]) \n",
        "exact_output_3 = np.append(np.min(exact_3.GP.y[0:n_init]),exact_3.GP.y[n_init:(n_init+iters)]) \n",
        "\n",
        "regret_approx_3 = np.log(-approx_output_3 + y_global_orig)\n",
        "regret_exact_3 = np.log(-exact_output_3 + y_global_orig)\n",
        "\n",
        "simple_regret_approx_3 = min_max_array(regret_approx_3)\n",
        "simple_regret_exact_3 = min_max_array(regret_exact_3)\n",
        "\n",
        "min_simple_regret_approx_3 = min(simple_regret_approx_3)\n",
        "min_simple_regret_exact_3 = min(simple_regret_exact_3)\n",
        "\n",
        "min_simple_regret_approx_3, min_simple_regret_exact_3"
      ],
      "execution_count": 57,
      "outputs": [
        {
          "output_type": "execute_result",
          "data": {
            "text/plain": [
              "(0.5204350188310437, -0.45258930970673933)"
            ]
          },
          "metadata": {},
          "execution_count": 57
        }
      ]
    },
    {
      "cell_type": "code",
      "metadata": {
        "id": "AZm0jgxkQxfm",
        "colab": {
          "base_uri": "https://localhost:8080/"
        },
        "outputId": "d52bfbb7-c387-4f38-f575-58af5b5553a0"
      },
      "source": [
        "### Simple regret minimization: run number = 4\n",
        "\n",
        "approx_output_4 = np.append(np.min(approx_4.GP.y[0:n_init]),approx_4.GP.y[n_init:(n_init+iters)]) \n",
        "exact_output_4 = np.append(np.min(exact_4.GP.y[0:n_init]),exact_4.GP.y[n_init:(n_init+iters)]) \n",
        "\n",
        "regret_approx_4 = np.log(-approx_output_4 + y_global_orig)\n",
        "regret_exact_4 = np.log(-exact_output_4 + y_global_orig)\n",
        "\n",
        "simple_regret_approx_4 = min_max_array(regret_approx_4)\n",
        "simple_regret_exact_4 = min_max_array(regret_exact_4)\n",
        "\n",
        "min_simple_regret_approx_4 = min(simple_regret_approx_4)\n",
        "min_simple_regret_exact_4 = min(simple_regret_exact_4)\n",
        "\n",
        "min_simple_regret_approx_4, min_simple_regret_exact_4"
      ],
      "execution_count": 58,
      "outputs": [
        {
          "output_type": "execute_result",
          "data": {
            "text/plain": [
              "(0.9092907661094246, -1.4375562648589986)"
            ]
          },
          "metadata": {},
          "execution_count": 58
        }
      ]
    },
    {
      "cell_type": "code",
      "metadata": {
        "id": "NONPm8JIQxfn",
        "colab": {
          "base_uri": "https://localhost:8080/"
        },
        "outputId": "c3fa1de0-1f3f-4d1b-e45b-7057b236c6ef"
      },
      "source": [
        "### Simple regret minimization: run number = 5\n",
        "\n",
        "approx_output_5 = np.append(np.min(approx_5.GP.y[0:n_init]),approx_5.GP.y[n_init:(n_init+iters)]) \n",
        "exact_output_5 = np.append(np.min(exact_5.GP.y[0:n_init]),exact_5.GP.y[n_init:(n_init+iters)]) \n",
        "\n",
        "regret_approx_5 = np.log(-approx_output_5 + y_global_orig)\n",
        "regret_exact_5 = np.log(-exact_output_5 + y_global_orig)\n",
        "\n",
        "simple_regret_approx_5 = min_max_array(regret_approx_5)\n",
        "simple_regret_exact_5 = min_max_array(regret_exact_5)\n",
        "\n",
        "min_simple_regret_approx_5 = min(simple_regret_approx_5)\n",
        "min_simple_regret_exact_5 = min(simple_regret_exact_5)\n",
        "\n",
        "min_simple_regret_approx_5, min_simple_regret_exact_5"
      ],
      "execution_count": 59,
      "outputs": [
        {
          "output_type": "execute_result",
          "data": {
            "text/plain": [
              "(1.2015164873868576, -0.11800119797963454)"
            ]
          },
          "metadata": {},
          "execution_count": 59
        }
      ]
    },
    {
      "cell_type": "code",
      "metadata": {
        "id": "CJv3lPuSQxfp",
        "colab": {
          "base_uri": "https://localhost:8080/"
        },
        "outputId": "2d74ff20-2a7d-41ce-beeb-3b62b12a1b29"
      },
      "source": [
        "### Simple regret minimization: run number = 6\n",
        "\n",
        "approx_output_6 = np.append(np.min(approx_6.GP.y[0:n_init]),approx_6.GP.y[n_init:(n_init+iters)]) \n",
        "exact_output_6 = np.append(np.min(exact_6.GP.y[0:n_init]),exact_6.GP.y[n_init:(n_init+iters)]) \n",
        "\n",
        "regret_approx_6 = np.log(-approx_output_6 + y_global_orig)\n",
        "regret_exact_6 = np.log(-exact_output_6 + y_global_orig)\n",
        "\n",
        "simple_regret_approx_6 = min_max_array(regret_approx_6)\n",
        "simple_regret_exact_6 = min_max_array(regret_exact_6)\n",
        "\n",
        "min_simple_regret_approx_6 = min(simple_regret_approx_6)\n",
        "min_simple_regret_exact_6 = min(simple_regret_exact_6)\n",
        "\n",
        "min_simple_regret_approx_6, min_simple_regret_exact_6"
      ],
      "execution_count": 60,
      "outputs": [
        {
          "output_type": "execute_result",
          "data": {
            "text/plain": [
              "(0.8425531184595495, -1.1217757902957497)"
            ]
          },
          "metadata": {},
          "execution_count": 60
        }
      ]
    },
    {
      "cell_type": "code",
      "metadata": {
        "id": "quR2ZyApQxfq",
        "colab": {
          "base_uri": "https://localhost:8080/"
        },
        "outputId": "84fef0c1-3164-4054-a0c6-133d4899da8d"
      },
      "source": [
        "### Simple regret minimization: run number = 7\n",
        "\n",
        "approx_output_7 = np.append(np.min(approx_7.GP.y[0:n_init]),approx_7.GP.y[n_init:(n_init+iters)]) \n",
        "exact_output_7 = np.append(np.min(exact_7.GP.y[0:n_init]),exact_7.GP.y[n_init:(n_init+iters)]) \n",
        "\n",
        "regret_approx_7 = np.log(-approx_output_7 + y_global_orig)\n",
        "regret_exact_7 = np.log(-exact_output_7 + y_global_orig)\n",
        "\n",
        "simple_regret_approx_7 = min_max_array(regret_approx_7)\n",
        "simple_regret_exact_7 = min_max_array(regret_exact_7)\n",
        "\n",
        "min_simple_regret_approx_7 = min(simple_regret_approx_7)\n",
        "min_simple_regret_exact_7 = min(simple_regret_exact_7)\n",
        "\n",
        "min_simple_regret_approx_7, min_simple_regret_exact_7"
      ],
      "execution_count": 61,
      "outputs": [
        {
          "output_type": "execute_result",
          "data": {
            "text/plain": [
              "(2.062919626271678, 0.5668544799226977)"
            ]
          },
          "metadata": {},
          "execution_count": 61
        }
      ]
    },
    {
      "cell_type": "code",
      "metadata": {
        "id": "99wY5nK6Qxfr",
        "colab": {
          "base_uri": "https://localhost:8080/"
        },
        "outputId": "aaa5ae08-5691-4eec-d6ce-acdeb24e6ac8"
      },
      "source": [
        "### Simple regret minimization: run number = 8\n",
        "\n",
        "approx_output_8 = np.append(np.min(approx_8.GP.y[0:n_init]),approx_8.GP.y[n_init:(n_init+iters)]) \n",
        "exact_output_8 = np.append(np.min(exact_8.GP.y[0:n_init]),exact_8.GP.y[n_init:(n_init+iters)]) \n",
        "\n",
        "regret_approx_8 = np.log(-approx_output_8 + y_global_orig)\n",
        "regret_exact_8 = np.log(-exact_output_8 + y_global_orig)\n",
        "\n",
        "simple_regret_approx_8 = min_max_array(regret_approx_8)\n",
        "simple_regret_exact_8 = min_max_array(regret_exact_8)\n",
        "\n",
        "min_simple_regret_approx_8 = min(simple_regret_approx_8)\n",
        "min_simple_regret_exact_8 = min(simple_regret_exact_8)\n",
        "\n",
        "min_simple_regret_approx_8, min_simple_regret_exact_8"
      ],
      "execution_count": 62,
      "outputs": [
        {
          "output_type": "execute_result",
          "data": {
            "text/plain": [
              "(0.43634402762510804, 1.8085201290028612)"
            ]
          },
          "metadata": {},
          "execution_count": 62
        }
      ]
    },
    {
      "cell_type": "code",
      "metadata": {
        "id": "qt0P5t9qQxfs",
        "colab": {
          "base_uri": "https://localhost:8080/"
        },
        "outputId": "3c5a8c4e-3f02-445f-c42e-2403af88162c"
      },
      "source": [
        "### Simple regret minimization: run number = 9\n",
        "\n",
        "approx_output_9 = np.append(np.min(approx_9.GP.y[0:n_init]),approx_9.GP.y[n_init:(n_init+iters)]) \n",
        "exact_output_9 = np.append(np.min(exact_9.GP.y[0:n_init]),exact_9.GP.y[n_init:(n_init+iters)]) \n",
        "\n",
        "regret_approx_9 = np.log(-approx_output_9 + y_global_orig)\n",
        "regret_exact_9 = np.log(-exact_output_9 + y_global_orig)\n",
        "\n",
        "simple_regret_approx_9 = min_max_array(regret_approx_9)\n",
        "simple_regret_exact_9 = min_max_array(regret_exact_9)\n",
        "\n",
        "min_simple_regret_approx_9 = min(simple_regret_approx_9)\n",
        "min_simple_regret_exact_9 = min(simple_regret_exact_9)\n",
        "\n",
        "min_simple_regret_approx_9, min_simple_regret_exact_9"
      ],
      "execution_count": 63,
      "outputs": [
        {
          "output_type": "execute_result",
          "data": {
            "text/plain": [
              "(0.617699847650824, 1.7575989650270891)"
            ]
          },
          "metadata": {},
          "execution_count": 63
        }
      ]
    },
    {
      "cell_type": "code",
      "metadata": {
        "id": "vx8to9stQxft",
        "colab": {
          "base_uri": "https://localhost:8080/"
        },
        "outputId": "15f265e6-c287-4b4f-bb54-63b770708277"
      },
      "source": [
        "### Simple regret minimization: run number = 10\n",
        "\n",
        "approx_output_10 = np.append(np.min(approx_10.GP.y[0:n_init]),approx_10.GP.y[n_init:(n_init+iters)]) \n",
        "exact_output_10 = np.append(np.min(exact_10.GP.y[0:n_init]),exact_10.GP.y[n_init:(n_init+iters)]) \n",
        "\n",
        "regret_approx_10 = np.log(-approx_output_10 + y_global_orig)\n",
        "regret_exact_10 = np.log(-exact_output_10 + y_global_orig)\n",
        "\n",
        "simple_regret_approx_10 = min_max_array(regret_approx_10)\n",
        "simple_regret_exact_10 = min_max_array(regret_exact_10)\n",
        "\n",
        "min_simple_regret_approx_10 = min(simple_regret_approx_10)\n",
        "min_simple_regret_exact_10 = min(simple_regret_exact_10)\n",
        "\n",
        "min_simple_regret_approx_10, min_simple_regret_exact_10"
      ],
      "execution_count": 64,
      "outputs": [
        {
          "output_type": "execute_result",
          "data": {
            "text/plain": [
              "(0.6062738297445732, 0.5809737356446687)"
            ]
          },
          "metadata": {},
          "execution_count": 64
        }
      ]
    },
    {
      "cell_type": "code",
      "metadata": {
        "id": "d-FGzWyHQxfu",
        "colab": {
          "base_uri": "https://localhost:8080/"
        },
        "outputId": "01f2fb94-9d3f-40a9-914e-f73b335d797a"
      },
      "source": [
        "### Simple regret minimization: run number = 11\n",
        "\n",
        "approx_output_11 = np.append(np.min(approx_11.GP.y[0:n_init]),approx_11.GP.y[n_init:(n_init+iters)]) \n",
        "exact_output_11 = np.append(np.min(exact_11.GP.y[0:n_init]),exact_11.GP.y[n_init:(n_init+iters)]) \n",
        "\n",
        "regret_approx_11 = np.log(-approx_output_11 + y_global_orig)\n",
        "regret_exact_11 = np.log(-exact_output_11 + y_global_orig)\n",
        "\n",
        "simple_regret_approx_11 = min_max_array(regret_approx_11)\n",
        "simple_regret_exact_11 = min_max_array(regret_exact_11)\n",
        "\n",
        "min_simple_regret_approx_11 = min(simple_regret_approx_11)\n",
        "min_simple_regret_exact_11 = min(simple_regret_exact_11)\n",
        "\n",
        "min_simple_regret_approx_11, min_simple_regret_exact_11"
      ],
      "execution_count": 65,
      "outputs": [
        {
          "output_type": "execute_result",
          "data": {
            "text/plain": [
              "(-0.5208949038195991, 0.9010367961576701)"
            ]
          },
          "metadata": {},
          "execution_count": 65
        }
      ]
    },
    {
      "cell_type": "code",
      "metadata": {
        "id": "SvtsssyjQxfv",
        "colab": {
          "base_uri": "https://localhost:8080/"
        },
        "outputId": "be919eb9-b49f-4ff5-b4fd-cd1bf6d3cbfa"
      },
      "source": [
        "### Simple regret minimization: run number = 12\n",
        "\n",
        "approx_output_12 = np.append(np.min(approx_12.GP.y[0:n_init]),approx_12.GP.y[n_init:(n_init+iters)]) \n",
        "exact_output_12 = np.append(np.min(exact_12.GP.y[0:n_init]),exact_12.GP.y[n_init:(n_init+iters)]) \n",
        "\n",
        "regret_approx_12 = np.log(-approx_output_12 + y_global_orig)\n",
        "regret_exact_12 = np.log(-exact_output_12 + y_global_orig)\n",
        "\n",
        "simple_regret_approx_12 = min_max_array(regret_approx_12)\n",
        "simple_regret_exact_12 = min_max_array(regret_exact_12)\n",
        "\n",
        "min_simple_regret_approx_12 = min(simple_regret_approx_12)\n",
        "min_simple_regret_exact_12 = min(simple_regret_exact_12)\n",
        "\n",
        "min_simple_regret_approx_12, min_simple_regret_exact_12"
      ],
      "execution_count": 66,
      "outputs": [
        {
          "output_type": "execute_result",
          "data": {
            "text/plain": [
              "(0.6639506310299493, 1.1821747367700077)"
            ]
          },
          "metadata": {},
          "execution_count": 66
        }
      ]
    },
    {
      "cell_type": "code",
      "metadata": {
        "id": "K6OiGcHkQxfw",
        "colab": {
          "base_uri": "https://localhost:8080/"
        },
        "outputId": "4757ad10-0e4b-46a9-ce16-f758a4b3bd15"
      },
      "source": [
        "### Simple regret minimization: run number = 13\n",
        "\n",
        "approx_output_13 = np.append(np.min(approx_13.GP.y[0:n_init]),approx_13.GP.y[n_init:(n_init+iters)]) \n",
        "exact_output_13 = np.append(np.min(exact_13.GP.y[0:n_init]),exact_13.GP.y[n_init:(n_init+iters)]) \n",
        "\n",
        "regret_approx_13 = np.log(-approx_output_13 + y_global_orig)\n",
        "regret_exact_13 = np.log(-exact_output_13 + y_global_orig)\n",
        "\n",
        "simple_regret_approx_13 = min_max_array(regret_approx_13)\n",
        "simple_regret_exact_13 = min_max_array(regret_exact_13)\n",
        "\n",
        "min_simple_regret_approx_13 = min(simple_regret_approx_13)\n",
        "min_simple_regret_exact_13 = min(simple_regret_exact_13)\n",
        "\n",
        "min_simple_regret_approx_13, min_simple_regret_exact_13"
      ],
      "execution_count": 67,
      "outputs": [
        {
          "output_type": "execute_result",
          "data": {
            "text/plain": [
              "(0.4934623294776719, -4.999903128444473)"
            ]
          },
          "metadata": {},
          "execution_count": 67
        }
      ]
    },
    {
      "cell_type": "code",
      "metadata": {
        "id": "ogML73shQxfx",
        "colab": {
          "base_uri": "https://localhost:8080/"
        },
        "outputId": "cceaaf2e-2d45-4492-ea1a-a07254125e06"
      },
      "source": [
        "### Simple regret minimization: run number = 14\n",
        "\n",
        "approx_output_14 = np.append(np.min(approx_14.GP.y[0:n_init]),approx_14.GP.y[n_init:(n_init+iters)]) \n",
        "exact_output_14 = np.append(np.min(exact_14.GP.y[0:n_init]),exact_14.GP.y[n_init:(n_init+iters)]) \n",
        "\n",
        "regret_approx_14 = np.log(-approx_output_14 + y_global_orig)\n",
        "regret_exact_14 = np.log(-exact_output_14 + y_global_orig)\n",
        "\n",
        "simple_regret_approx_14 = min_max_array(regret_approx_14)\n",
        "simple_regret_exact_14 = min_max_array(regret_exact_14)\n",
        "\n",
        "min_simple_regret_approx_14 = min(simple_regret_approx_14)\n",
        "min_simple_regret_exact_14 = min(simple_regret_exact_14)\n",
        "\n",
        "min_simple_regret_approx_14, min_simple_regret_exact_14"
      ],
      "execution_count": 68,
      "outputs": [
        {
          "output_type": "execute_result",
          "data": {
            "text/plain": [
              "(0.4556321519519179, -0.07079390154497169)"
            ]
          },
          "metadata": {},
          "execution_count": 68
        }
      ]
    },
    {
      "cell_type": "code",
      "metadata": {
        "id": "9Eg7gFT9Qxfx",
        "colab": {
          "base_uri": "https://localhost:8080/"
        },
        "outputId": "365e8635-91cd-45bb-8f35-eacd5517bf47"
      },
      "source": [
        "### Simple regret minimization: run number = 15\n",
        "\n",
        "approx_output_15 = np.append(np.min(approx_15.GP.y[0:n_init]),approx_15.GP.y[n_init:(n_init+iters)]) \n",
        "exact_output_15 = np.append(np.min(exact_15.GP.y[0:n_init]),exact_15.GP.y[n_init:(n_init+iters)]) \n",
        "\n",
        "regret_approx_15 = np.log(-approx_output_15 + y_global_orig)\n",
        "regret_exact_15 = np.log(-exact_output_15 + y_global_orig)\n",
        "\n",
        "simple_regret_approx_15 = min_max_array(regret_approx_15)\n",
        "simple_regret_exact_15 = min_max_array(regret_exact_15)\n",
        "\n",
        "min_simple_regret_approx_15 = min(simple_regret_approx_15)\n",
        "min_simple_regret_exact_15 = min(simple_regret_exact_15)\n",
        "\n",
        "min_simple_regret_approx_15, min_simple_regret_exact_15"
      ],
      "execution_count": 69,
      "outputs": [
        {
          "output_type": "execute_result",
          "data": {
            "text/plain": [
              "(0.7648817219726801, 1.1424003074554498)"
            ]
          },
          "metadata": {},
          "execution_count": 69
        }
      ]
    },
    {
      "cell_type": "code",
      "metadata": {
        "id": "lIAC1U7ZQxfy",
        "colab": {
          "base_uri": "https://localhost:8080/"
        },
        "outputId": "422e0b96-cb90-4f79-8b2b-09901fa00c27"
      },
      "source": [
        "### Simple regret minimization: run number = 16\n",
        "\n",
        "approx_output_16 = np.append(np.min(approx_16.GP.y[0:n_init]),approx_16.GP.y[n_init:(n_init+iters)]) \n",
        "exact_output_16 = np.append(np.min(exact_16.GP.y[0:n_init]),exact_16.GP.y[n_init:(n_init+iters)]) \n",
        "\n",
        "regret_approx_16 = np.log(-approx_output_16 + y_global_orig)\n",
        "regret_exact_16 = np.log(-exact_output_16 + y_global_orig)\n",
        "\n",
        "simple_regret_approx_16 = min_max_array(regret_approx_16)\n",
        "simple_regret_exact_16 = min_max_array(regret_exact_16)\n",
        "\n",
        "min_simple_regret_approx_16 = min(simple_regret_approx_16)\n",
        "min_simple_regret_exact_16 = min(simple_regret_exact_16)\n",
        "\n",
        "min_simple_regret_approx_16, min_simple_regret_exact_16"
      ],
      "execution_count": 70,
      "outputs": [
        {
          "output_type": "execute_result",
          "data": {
            "text/plain": [
              "(0.8042472156841404, 0.8979764808120365)"
            ]
          },
          "metadata": {},
          "execution_count": 70
        }
      ]
    },
    {
      "cell_type": "code",
      "metadata": {
        "id": "bGott36OQxfz",
        "colab": {
          "base_uri": "https://localhost:8080/"
        },
        "outputId": "6d1d8410-ca85-4a75-a49e-35f8ae2c6e79"
      },
      "source": [
        "### Simple regret minimization: run number = 17\n",
        "\n",
        "approx_output_17 = np.append(np.min(approx_17.GP.y[0:n_init]),approx_17.GP.y[n_init:(n_init+iters)]) \n",
        "exact_output_17 = np.append(np.min(exact_17.GP.y[0:n_init]),exact_17.GP.y[n_init:(n_init+iters)]) \n",
        "\n",
        "regret_approx_17 = np.log(-approx_output_17 + y_global_orig)\n",
        "regret_exact_17 = np.log(-exact_output_17 + y_global_orig)\n",
        "\n",
        "simple_regret_approx_17 = min_max_array(regret_approx_17)\n",
        "simple_regret_exact_17 = min_max_array(regret_exact_17)\n",
        "\n",
        "min_simple_regret_approx_17 = min(simple_regret_approx_17)\n",
        "min_simple_regret_exact_17 = min(simple_regret_exact_17)\n",
        "\n",
        "min_simple_regret_approx_17, min_simple_regret_exact_17"
      ],
      "execution_count": 71,
      "outputs": [
        {
          "output_type": "execute_result",
          "data": {
            "text/plain": [
              "(0.48216233990033774, 0.3736586777309275)"
            ]
          },
          "metadata": {},
          "execution_count": 71
        }
      ]
    },
    {
      "cell_type": "code",
      "metadata": {
        "id": "Cz9ZYMBMQxfz",
        "colab": {
          "base_uri": "https://localhost:8080/"
        },
        "outputId": "47766806-6152-4698-a3ad-8f9b0e116380"
      },
      "source": [
        "### Simple regret minimization: run number = 18\n",
        "\n",
        "approx_output_18 = np.append(np.min(approx_18.GP.y[0:n_init]),approx_18.GP.y[n_init:(n_init+iters)]) \n",
        "exact_output_18 = np.append(np.min(exact_18.GP.y[0:n_init]),exact_18.GP.y[n_init:(n_init+iters)]) \n",
        "\n",
        "regret_approx_18 = np.log(-approx_output_18 + y_global_orig)\n",
        "regret_exact_18 = np.log(-exact_output_18 + y_global_orig)\n",
        "\n",
        "simple_regret_approx_18 = min_max_array(regret_approx_18)\n",
        "simple_regret_exact_18 = min_max_array(regret_exact_18)\n",
        "\n",
        "min_simple_regret_approx_18 = min(simple_regret_approx_18)\n",
        "min_simple_regret_exact_18 = min(simple_regret_exact_18)\n",
        "\n",
        "min_simple_regret_approx_18, min_simple_regret_exact_18"
      ],
      "execution_count": 72,
      "outputs": [
        {
          "output_type": "execute_result",
          "data": {
            "text/plain": [
              "(0.7888516274310524, 0.9446276685320135)"
            ]
          },
          "metadata": {},
          "execution_count": 72
        }
      ]
    },
    {
      "cell_type": "code",
      "metadata": {
        "id": "OBfpWOHNQxf0",
        "colab": {
          "base_uri": "https://localhost:8080/"
        },
        "outputId": "3a779a9c-6394-41f0-deec-0a2a566a89e4"
      },
      "source": [
        "### Simple regret minimization: run number = 19\n",
        "\n",
        "approx_output_19 = np.append(np.min(approx_19.GP.y[0:n_init]),approx_19.GP.y[n_init:(n_init+iters)]) \n",
        "exact_output_19 = np.append(np.min(exact_19.GP.y[0:n_init]),exact_19.GP.y[n_init:(n_init+iters)]) \n",
        "\n",
        "regret_approx_19 = np.log(-approx_output_19 + y_global_orig)\n",
        "regret_exact_19 = np.log(-exact_output_19 + y_global_orig)\n",
        "\n",
        "simple_regret_approx_19 = min_max_array(regret_approx_19)\n",
        "simple_regret_exact_19 = min_max_array(regret_exact_19)\n",
        "\n",
        "min_simple_regret_approx_19 = min(simple_regret_approx_19)\n",
        "min_simple_regret_exact_19 = min(simple_regret_exact_19)\n",
        "\n",
        "min_simple_regret_approx_19, min_simple_regret_exact_19"
      ],
      "execution_count": 73,
      "outputs": [
        {
          "output_type": "execute_result",
          "data": {
            "text/plain": [
              "(-0.39673813199791025, -0.8628145206943092)"
            ]
          },
          "metadata": {},
          "execution_count": 73
        }
      ]
    },
    {
      "cell_type": "code",
      "metadata": {
        "id": "BE1AJ7NsQxf0",
        "colab": {
          "base_uri": "https://localhost:8080/"
        },
        "outputId": "fd789d47-8265-4757-d6ee-6385f36c16cb"
      },
      "source": [
        "### Simple regret minimization: run number = 20\n",
        "\n",
        "approx_output_20 = np.append(np.min(approx_20.GP.y[0:n_init]),approx_20.GP.y[n_init:(n_init+iters)]) \n",
        "exact_output_20 = np.append(np.min(exact_20.GP.y[0:n_init]),exact_20.GP.y[n_init:(n_init+iters)]) \n",
        "\n",
        "regret_approx_20 = np.log(-approx_output_20 + y_global_orig)\n",
        "regret_exact_20 = np.log(-exact_output_20 + y_global_orig)\n",
        "\n",
        "simple_regret_approx_20 = min_max_array(regret_approx_20)\n",
        "simple_regret_exact_20 = min_max_array(regret_exact_20)\n",
        "\n",
        "min_simple_regret_approx_20 = min(simple_regret_approx_20)\n",
        "min_simple_regret_exact_20 = min(simple_regret_exact_20)\n",
        "\n",
        "min_simple_regret_approx_20, min_simple_regret_exact_20"
      ],
      "execution_count": 74,
      "outputs": [
        {
          "output_type": "execute_result",
          "data": {
            "text/plain": [
              "(1.5814959053618722, 0.033474413783397446)"
            ]
          },
          "metadata": {},
          "execution_count": 74
        }
      ]
    },
    {
      "cell_type": "code",
      "metadata": {
        "id": "bpX-bKAHQxf1"
      },
      "source": [
        "# Iteration1 :\n",
        "\n",
        "slice1 = 0\n",
        "\n",
        "approx1 = [simple_regret_approx_1[slice1],\n",
        "       simple_regret_approx_2[slice1],\n",
        "       simple_regret_approx_3[slice1],\n",
        "       simple_regret_approx_4[slice1],\n",
        "       simple_regret_approx_5[slice1],\n",
        "       simple_regret_approx_6[slice1],\n",
        "       simple_regret_approx_7[slice1],\n",
        "       simple_regret_approx_8[slice1],\n",
        "       simple_regret_approx_9[slice1],\n",
        "       simple_regret_approx_10[slice1],\n",
        "       simple_regret_approx_11[slice1],\n",
        "       simple_regret_approx_12[slice1],\n",
        "       simple_regret_approx_13[slice1],\n",
        "       simple_regret_approx_14[slice1],\n",
        "       simple_regret_approx_15[slice1],\n",
        "       simple_regret_approx_16[slice1],\n",
        "       simple_regret_approx_17[slice1],\n",
        "       simple_regret_approx_18[slice1],\n",
        "       simple_regret_approx_19[slice1],\n",
        "       simple_regret_approx_20[slice1]]\n",
        "\n",
        "exact1 = [simple_regret_exact_1[slice1],\n",
        "       simple_regret_exact_2[slice1],\n",
        "       simple_regret_exact_3[slice1],\n",
        "       simple_regret_exact_4[slice1],\n",
        "       simple_regret_exact_5[slice1],\n",
        "       simple_regret_exact_6[slice1],\n",
        "       simple_regret_exact_7[slice1],\n",
        "       simple_regret_exact_8[slice1],\n",
        "       simple_regret_exact_9[slice1],\n",
        "       simple_regret_exact_10[slice1],\n",
        "       simple_regret_exact_11[slice1],\n",
        "       simple_regret_exact_12[slice1],\n",
        "       simple_regret_exact_13[slice1],\n",
        "       simple_regret_exact_14[slice1],\n",
        "       simple_regret_exact_15[slice1],\n",
        "       simple_regret_exact_16[slice1],\n",
        "       simple_regret_exact_17[slice1],\n",
        "       simple_regret_exact_18[slice1],\n",
        "       simple_regret_exact_19[slice1],\n",
        "       simple_regret_exact_20[slice1]]\n",
        "\n",
        "approx1_results = pd.DataFrame(approx1).sort_values(by=[0], ascending=False)\n",
        "exact1_results = pd.DataFrame(exact1).sort_values(by=[0], ascending=False)\n",
        "\n",
        "### Best simple regret minimization IQR - approx:\n",
        "lower_approx1 = np.asarray(approx1_results[4:5][0])[0]\n",
        "median_approx1 = np.asarray(approx1_results[9:10][0])[0]\n",
        "upper_approx1 = np.asarray(approx1_results[14:15][0])[0]\n",
        "\n",
        "lower_exact1 = np.asarray(exact1_results[4:5][0])[0]\n",
        "median_exact1 = np.asarray(exact1_results[9:10][0])[0]\n",
        "upper_exact1 = np.asarray(exact1_results[14:15][0])[0]"
      ],
      "execution_count": 75,
      "outputs": []
    },
    {
      "cell_type": "code",
      "metadata": {
        "id": "CgIkJA1xQxf2"
      },
      "source": [
        "# Iteration11 :\n",
        "\n",
        "slice11 = 10\n",
        "\n",
        "approx11 = [simple_regret_approx_1[slice11],\n",
        "       simple_regret_approx_2[slice11],\n",
        "       simple_regret_approx_3[slice11],\n",
        "       simple_regret_approx_4[slice11],\n",
        "       simple_regret_approx_5[slice11],\n",
        "       simple_regret_approx_6[slice11],\n",
        "       simple_regret_approx_7[slice11],\n",
        "       simple_regret_approx_8[slice11],\n",
        "       simple_regret_approx_9[slice11],\n",
        "       simple_regret_approx_10[slice11],\n",
        "       simple_regret_approx_11[slice11],\n",
        "       simple_regret_approx_12[slice11],\n",
        "       simple_regret_approx_13[slice11],\n",
        "       simple_regret_approx_14[slice11],\n",
        "       simple_regret_approx_15[slice11],\n",
        "       simple_regret_approx_16[slice11],\n",
        "       simple_regret_approx_17[slice11],\n",
        "       simple_regret_approx_18[slice11],\n",
        "       simple_regret_approx_19[slice11],\n",
        "       simple_regret_approx_20[slice11]]\n",
        "\n",
        "exact11 = [simple_regret_exact_1[slice11],\n",
        "       simple_regret_exact_2[slice11],\n",
        "       simple_regret_exact_3[slice11],\n",
        "       simple_regret_exact_4[slice11],\n",
        "       simple_regret_exact_5[slice11],\n",
        "       simple_regret_exact_6[slice11],\n",
        "       simple_regret_exact_7[slice11],\n",
        "       simple_regret_exact_8[slice11],\n",
        "       simple_regret_exact_9[slice11],\n",
        "       simple_regret_exact_10[slice11],\n",
        "       simple_regret_exact_11[slice11],\n",
        "       simple_regret_exact_12[slice11],\n",
        "       simple_regret_exact_13[slice11],\n",
        "       simple_regret_exact_14[slice11],\n",
        "       simple_regret_exact_15[slice11],\n",
        "       simple_regret_exact_16[slice11],\n",
        "       simple_regret_exact_17[slice11],\n",
        "       simple_regret_exact_18[slice11],\n",
        "       simple_regret_exact_19[slice11],\n",
        "       simple_regret_exact_20[slice11]]\n",
        "\n",
        "approx11_results = pd.DataFrame(approx11).sort_values(by=[0], ascending=False)\n",
        "exact11_results = pd.DataFrame(exact11).sort_values(by=[0], ascending=False)\n",
        "\n",
        "### Best simple regret minimization IQR - approx:\n",
        "lower_approx11 = np.asarray(approx11_results[4:5][0])[0]\n",
        "median_approx11 = np.asarray(approx11_results[9:10][0])[0]\n",
        "upper_approx11 = np.asarray(approx11_results[14:15][0])[0]\n",
        "\n",
        "lower_exact11 = np.asarray(exact11_results[4:5][0])[0]\n",
        "median_exact11 = np.asarray(exact11_results[9:10][0])[0]\n",
        "upper_exact11 = np.asarray(exact11_results[14:15][0])[0]"
      ],
      "execution_count": 76,
      "outputs": []
    },
    {
      "cell_type": "code",
      "metadata": {
        "id": "MFePDfGuQxf2"
      },
      "source": [
        "# Iteration21 :\n",
        "\n",
        "slice21 = 20\n",
        "\n",
        "approx21 = [simple_regret_approx_1[slice21],\n",
        "       simple_regret_approx_2[slice21],\n",
        "       simple_regret_approx_3[slice21],\n",
        "       simple_regret_approx_4[slice21],\n",
        "       simple_regret_approx_5[slice21],\n",
        "       simple_regret_approx_6[slice21],\n",
        "       simple_regret_approx_7[slice21],\n",
        "       simple_regret_approx_8[slice21],\n",
        "       simple_regret_approx_9[slice21],\n",
        "       simple_regret_approx_10[slice21],\n",
        "       simple_regret_approx_11[slice21],\n",
        "       simple_regret_approx_12[slice21],\n",
        "       simple_regret_approx_13[slice21],\n",
        "       simple_regret_approx_14[slice21],\n",
        "       simple_regret_approx_15[slice21],\n",
        "       simple_regret_approx_16[slice21],\n",
        "       simple_regret_approx_17[slice21],\n",
        "       simple_regret_approx_18[slice21],\n",
        "       simple_regret_approx_19[slice21],\n",
        "       simple_regret_approx_20[slice21]]\n",
        "\n",
        "exact21 = [simple_regret_exact_1[slice21],\n",
        "       simple_regret_exact_2[slice21],\n",
        "       simple_regret_exact_3[slice21],\n",
        "       simple_regret_exact_4[slice21],\n",
        "       simple_regret_exact_5[slice21],\n",
        "       simple_regret_exact_6[slice21],\n",
        "       simple_regret_exact_7[slice21],\n",
        "       simple_regret_exact_8[slice21],\n",
        "       simple_regret_exact_9[slice21],\n",
        "       simple_regret_exact_10[slice21],\n",
        "       simple_regret_exact_11[slice21],\n",
        "       simple_regret_exact_12[slice21],\n",
        "       simple_regret_exact_13[slice21],\n",
        "       simple_regret_exact_14[slice21],\n",
        "       simple_regret_exact_15[slice21],\n",
        "       simple_regret_exact_16[slice21],\n",
        "       simple_regret_exact_17[slice21],\n",
        "       simple_regret_exact_18[slice21],\n",
        "       simple_regret_exact_19[slice21],\n",
        "       simple_regret_exact_20[slice21]]\n",
        "\n",
        "approx21_results = pd.DataFrame(approx21).sort_values(by=[0], ascending=False)\n",
        "exact21_results = pd.DataFrame(exact21).sort_values(by=[0], ascending=False)\n",
        "\n",
        "### Best simple regret minimization IQR - approx:\n",
        "lower_approx21 = np.asarray(approx21_results[4:5][0])[0]\n",
        "median_approx21 = np.asarray(approx21_results[9:10][0])[0]\n",
        "upper_approx21 = np.asarray(approx21_results[14:15][0])[0]\n",
        "\n",
        "lower_exact21 = np.asarray(exact21_results[4:5][0])[0]\n",
        "median_exact21 = np.asarray(exact21_results[9:10][0])[0]\n",
        "upper_exact21 = np.asarray(exact21_results[14:15][0])[0]"
      ],
      "execution_count": 77,
      "outputs": []
    },
    {
      "cell_type": "code",
      "metadata": {
        "id": "PrRDB1kfQxf3"
      },
      "source": [
        "# Iteration2 :\n",
        "\n",
        "slice2 = 1\n",
        "\n",
        "approx2 = [simple_regret_approx_1[slice2],\n",
        "       simple_regret_approx_2[slice2],\n",
        "       simple_regret_approx_3[slice2],\n",
        "       simple_regret_approx_4[slice2],\n",
        "       simple_regret_approx_5[slice2],\n",
        "       simple_regret_approx_6[slice2],\n",
        "       simple_regret_approx_7[slice2],\n",
        "       simple_regret_approx_8[slice2],\n",
        "       simple_regret_approx_9[slice2],\n",
        "       simple_regret_approx_10[slice2],\n",
        "       simple_regret_approx_11[slice2],\n",
        "       simple_regret_approx_12[slice2],\n",
        "       simple_regret_approx_13[slice2],\n",
        "       simple_regret_approx_14[slice2],\n",
        "       simple_regret_approx_15[slice2],\n",
        "       simple_regret_approx_16[slice2],\n",
        "       simple_regret_approx_17[slice2],\n",
        "       simple_regret_approx_18[slice2],\n",
        "       simple_regret_approx_19[slice2],\n",
        "       simple_regret_approx_20[slice2]]\n",
        "\n",
        "exact2 = [simple_regret_exact_1[slice2],\n",
        "       simple_regret_exact_2[slice2],\n",
        "       simple_regret_exact_3[slice2],\n",
        "       simple_regret_exact_4[slice2],\n",
        "       simple_regret_exact_5[slice2],\n",
        "       simple_regret_exact_6[slice2],\n",
        "       simple_regret_exact_7[slice2],\n",
        "       simple_regret_exact_8[slice2],\n",
        "       simple_regret_exact_9[slice2],\n",
        "       simple_regret_exact_10[slice2],\n",
        "       simple_regret_exact_11[slice2],\n",
        "       simple_regret_exact_12[slice2],\n",
        "       simple_regret_exact_13[slice2],\n",
        "       simple_regret_exact_14[slice2],\n",
        "       simple_regret_exact_15[slice2],\n",
        "       simple_regret_exact_16[slice2],\n",
        "       simple_regret_exact_17[slice2],\n",
        "       simple_regret_exact_18[slice2],\n",
        "       simple_regret_exact_19[slice2],\n",
        "       simple_regret_exact_20[slice2]]\n",
        "\n",
        "approx2_results = pd.DataFrame(approx2).sort_values(by=[0], ascending=False)\n",
        "exact2_results = pd.DataFrame(exact2).sort_values(by=[0], ascending=False)\n",
        "\n",
        "### Best simple regret minimization IQR - approx:\n",
        "lower_approx2 = np.asarray(approx2_results[4:5][0])[0]\n",
        "median_approx2 = np.asarray(approx2_results[9:10][0])[0]\n",
        "upper_approx2 = np.asarray(approx2_results[14:15][0])[0]\n",
        "\n",
        "lower_exact2 = np.asarray(exact2_results[4:5][0])[0]\n",
        "median_exact2 = np.asarray(exact2_results[9:10][0])[0]\n",
        "upper_exact2 = np.asarray(exact2_results[14:15][0])[0]"
      ],
      "execution_count": 78,
      "outputs": []
    },
    {
      "cell_type": "code",
      "metadata": {
        "id": "B8ncJDYeQxf3"
      },
      "source": [
        "# Iteration12 :\n",
        "\n",
        "slice12 = 11\n",
        "\n",
        "approx12 = [simple_regret_approx_1[slice12],\n",
        "       simple_regret_approx_2[slice12],\n",
        "       simple_regret_approx_3[slice12],\n",
        "       simple_regret_approx_4[slice12],\n",
        "       simple_regret_approx_5[slice12],\n",
        "       simple_regret_approx_6[slice12],\n",
        "       simple_regret_approx_7[slice12],\n",
        "       simple_regret_approx_8[slice12],\n",
        "       simple_regret_approx_9[slice12],\n",
        "       simple_regret_approx_10[slice12],\n",
        "       simple_regret_approx_11[slice12],\n",
        "       simple_regret_approx_12[slice12],\n",
        "       simple_regret_approx_13[slice12],\n",
        "       simple_regret_approx_14[slice12],\n",
        "       simple_regret_approx_15[slice12],\n",
        "       simple_regret_approx_16[slice12],\n",
        "       simple_regret_approx_17[slice12],\n",
        "       simple_regret_approx_18[slice12],\n",
        "       simple_regret_approx_19[slice12],\n",
        "       simple_regret_approx_20[slice12]]\n",
        "\n",
        "exact12 = [simple_regret_exact_1[slice12],\n",
        "       simple_regret_exact_2[slice12],\n",
        "       simple_regret_exact_3[slice12],\n",
        "       simple_regret_exact_4[slice12],\n",
        "       simple_regret_exact_5[slice12],\n",
        "       simple_regret_exact_6[slice12],\n",
        "       simple_regret_exact_7[slice12],\n",
        "       simple_regret_exact_8[slice12],\n",
        "       simple_regret_exact_9[slice12],\n",
        "       simple_regret_exact_10[slice12],\n",
        "       simple_regret_exact_11[slice12],\n",
        "       simple_regret_exact_12[slice12],\n",
        "       simple_regret_exact_13[slice12],\n",
        "       simple_regret_exact_14[slice12],\n",
        "       simple_regret_exact_15[slice12],\n",
        "       simple_regret_exact_16[slice12],\n",
        "       simple_regret_exact_17[slice12],\n",
        "       simple_regret_exact_18[slice12],\n",
        "       simple_regret_exact_19[slice12],\n",
        "       simple_regret_exact_20[slice12]]\n",
        "\n",
        "approx12_results = pd.DataFrame(approx12).sort_values(by=[0], ascending=False)\n",
        "exact12_results = pd.DataFrame(exact12).sort_values(by=[0], ascending=False)\n",
        "\n",
        "### Best simple regret minimization IQR - approx:\n",
        "lower_approx12 = np.asarray(approx12_results[4:5][0])[0]\n",
        "median_approx12 = np.asarray(approx12_results[9:10][0])[0]\n",
        "upper_approx12 = np.asarray(approx12_results[14:15][0])[0]\n",
        "\n",
        "lower_exact12 = np.asarray(exact12_results[4:5][0])[0]\n",
        "median_exact12 = np.asarray(exact12_results[9:10][0])[0]\n",
        "upper_exact12 = np.asarray(exact12_results[14:15][0])[0]"
      ],
      "execution_count": 79,
      "outputs": []
    },
    {
      "cell_type": "code",
      "metadata": {
        "id": "Jn4KpGvcQxf4"
      },
      "source": [
        "# Iteration3 :\n",
        "\n",
        "slice3 = 2\n",
        "\n",
        "approx3 = [simple_regret_approx_1[slice3],\n",
        "       simple_regret_approx_2[slice3],\n",
        "       simple_regret_approx_3[slice3],\n",
        "       simple_regret_approx_4[slice3],\n",
        "       simple_regret_approx_5[slice3],\n",
        "       simple_regret_approx_6[slice3],\n",
        "       simple_regret_approx_7[slice3],\n",
        "       simple_regret_approx_8[slice3],\n",
        "       simple_regret_approx_9[slice3],\n",
        "       simple_regret_approx_10[slice3],\n",
        "       simple_regret_approx_11[slice3],\n",
        "       simple_regret_approx_12[slice3],\n",
        "       simple_regret_approx_13[slice3],\n",
        "       simple_regret_approx_14[slice3],\n",
        "       simple_regret_approx_15[slice3],\n",
        "       simple_regret_approx_16[slice3],\n",
        "       simple_regret_approx_17[slice3],\n",
        "       simple_regret_approx_18[slice3],\n",
        "       simple_regret_approx_19[slice3],\n",
        "       simple_regret_approx_20[slice3]]\n",
        "\n",
        "exact3 = [simple_regret_exact_1[slice3],\n",
        "       simple_regret_exact_2[slice3],\n",
        "       simple_regret_exact_3[slice3],\n",
        "       simple_regret_exact_4[slice3],\n",
        "       simple_regret_exact_5[slice3],\n",
        "       simple_regret_exact_6[slice3],\n",
        "       simple_regret_exact_7[slice3],\n",
        "       simple_regret_exact_8[slice3],\n",
        "       simple_regret_exact_9[slice3],\n",
        "       simple_regret_exact_10[slice3],\n",
        "       simple_regret_exact_11[slice3],\n",
        "       simple_regret_exact_12[slice3],\n",
        "       simple_regret_exact_13[slice3],\n",
        "       simple_regret_exact_14[slice3],\n",
        "       simple_regret_exact_15[slice3],\n",
        "       simple_regret_exact_16[slice3],\n",
        "       simple_regret_exact_17[slice3],\n",
        "       simple_regret_exact_18[slice3],\n",
        "       simple_regret_exact_19[slice3],\n",
        "       simple_regret_exact_20[slice3]]\n",
        "\n",
        "approx3_results = pd.DataFrame(approx3).sort_values(by=[0], ascending=False)\n",
        "exact3_results = pd.DataFrame(exact3).sort_values(by=[0], ascending=False)\n",
        "\n",
        "### Best simple regret minimization IQR - approx:\n",
        "lower_approx3 = np.asarray(approx3_results[4:5][0])[0]\n",
        "median_approx3 = np.asarray(approx3_results[9:10][0])[0]\n",
        "upper_approx3 = np.asarray(approx3_results[14:15][0])[0]\n",
        "\n",
        "lower_exact3 = np.asarray(exact3_results[4:5][0])[0]\n",
        "median_exact3 = np.asarray(exact3_results[9:10][0])[0]\n",
        "upper_exact3 = np.asarray(exact3_results[14:15][0])[0]"
      ],
      "execution_count": 80,
      "outputs": []
    },
    {
      "cell_type": "code",
      "metadata": {
        "id": "plf83wxrQxf4"
      },
      "source": [
        "# Iteration13 :\n",
        "\n",
        "slice13 = 12\n",
        "\n",
        "approx13 = [simple_regret_approx_1[slice13],\n",
        "       simple_regret_approx_2[slice13],\n",
        "       simple_regret_approx_3[slice13],\n",
        "       simple_regret_approx_4[slice13],\n",
        "       simple_regret_approx_5[slice13],\n",
        "       simple_regret_approx_6[slice13],\n",
        "       simple_regret_approx_7[slice13],\n",
        "       simple_regret_approx_8[slice13],\n",
        "       simple_regret_approx_9[slice13],\n",
        "       simple_regret_approx_10[slice13],\n",
        "       simple_regret_approx_11[slice13],\n",
        "       simple_regret_approx_12[slice13],\n",
        "       simple_regret_approx_13[slice13],\n",
        "       simple_regret_approx_14[slice13],\n",
        "       simple_regret_approx_15[slice13],\n",
        "       simple_regret_approx_16[slice13],\n",
        "       simple_regret_approx_17[slice13],\n",
        "       simple_regret_approx_18[slice13],\n",
        "       simple_regret_approx_19[slice13],\n",
        "       simple_regret_approx_20[slice13]]\n",
        "\n",
        "exact13 = [simple_regret_exact_1[slice13],\n",
        "       simple_regret_exact_2[slice13],\n",
        "       simple_regret_exact_3[slice13],\n",
        "       simple_regret_exact_4[slice13],\n",
        "       simple_regret_exact_5[slice13],\n",
        "       simple_regret_exact_6[slice13],\n",
        "       simple_regret_exact_7[slice13],\n",
        "       simple_regret_exact_8[slice13],\n",
        "       simple_regret_exact_9[slice13],\n",
        "       simple_regret_exact_10[slice13],\n",
        "       simple_regret_exact_11[slice13],\n",
        "       simple_regret_exact_12[slice13],\n",
        "       simple_regret_exact_13[slice13],\n",
        "       simple_regret_exact_14[slice13],\n",
        "       simple_regret_exact_15[slice13],\n",
        "       simple_regret_exact_16[slice13],\n",
        "       simple_regret_exact_17[slice13],\n",
        "       simple_regret_exact_18[slice13],\n",
        "       simple_regret_exact_19[slice13],\n",
        "       simple_regret_exact_20[slice13]]\n",
        "\n",
        "approx13_results = pd.DataFrame(approx13).sort_values(by=[0], ascending=False)\n",
        "exact13_results = pd.DataFrame(exact13).sort_values(by=[0], ascending=False)\n",
        "\n",
        "### Best simple regret minimization IQR - approx:\n",
        "lower_approx13 = np.asarray(approx13_results[4:5][0])[0]\n",
        "median_approx13 = np.asarray(approx13_results[9:10][0])[0]\n",
        "upper_approx13 = np.asarray(approx13_results[14:15][0])[0]\n",
        "\n",
        "lower_exact13 = np.asarray(exact13_results[4:5][0])[0]\n",
        "median_exact13 = np.asarray(exact13_results[9:10][0])[0]\n",
        "upper_exact13 = np.asarray(exact13_results[14:15][0])[0]"
      ],
      "execution_count": 81,
      "outputs": []
    },
    {
      "cell_type": "code",
      "metadata": {
        "id": "9A7mlVvJQxf5"
      },
      "source": [
        "# Iteration4 :\n",
        "\n",
        "slice4 = 3\n",
        "\n",
        "approx4 = [simple_regret_approx_1[slice4],\n",
        "       simple_regret_approx_2[slice4],\n",
        "       simple_regret_approx_3[slice4],\n",
        "       simple_regret_approx_4[slice4],\n",
        "       simple_regret_approx_5[slice4],\n",
        "       simple_regret_approx_6[slice4],\n",
        "       simple_regret_approx_7[slice4],\n",
        "       simple_regret_approx_8[slice4],\n",
        "       simple_regret_approx_9[slice4],\n",
        "       simple_regret_approx_10[slice4],\n",
        "       simple_regret_approx_11[slice4],\n",
        "       simple_regret_approx_12[slice4],\n",
        "       simple_regret_approx_13[slice4],\n",
        "       simple_regret_approx_14[slice4],\n",
        "       simple_regret_approx_15[slice4],\n",
        "       simple_regret_approx_16[slice4],\n",
        "       simple_regret_approx_17[slice4],\n",
        "       simple_regret_approx_18[slice4],\n",
        "       simple_regret_approx_19[slice4],\n",
        "       simple_regret_approx_20[slice4]]\n",
        "\n",
        "exact4 = [simple_regret_exact_1[slice4],\n",
        "       simple_regret_exact_2[slice4],\n",
        "       simple_regret_exact_3[slice4],\n",
        "       simple_regret_exact_4[slice4],\n",
        "       simple_regret_exact_5[slice4],\n",
        "       simple_regret_exact_6[slice4],\n",
        "       simple_regret_exact_7[slice4],\n",
        "       simple_regret_exact_8[slice4],\n",
        "       simple_regret_exact_9[slice4],\n",
        "       simple_regret_exact_10[slice4],\n",
        "       simple_regret_exact_11[slice4],\n",
        "       simple_regret_exact_12[slice4],\n",
        "       simple_regret_exact_13[slice4],\n",
        "       simple_regret_exact_14[slice4],\n",
        "       simple_regret_exact_15[slice4],\n",
        "       simple_regret_exact_16[slice4],\n",
        "       simple_regret_exact_17[slice4],\n",
        "       simple_regret_exact_18[slice4],\n",
        "       simple_regret_exact_19[slice4],\n",
        "       simple_regret_exact_20[slice4]]\n",
        "\n",
        "approx4_results = pd.DataFrame(approx4).sort_values(by=[0], ascending=False)\n",
        "exact4_results = pd.DataFrame(exact4).sort_values(by=[0], ascending=False)\n",
        "\n",
        "### Best simple regret minimization IQR - approx:\n",
        "lower_approx4 = np.asarray(approx4_results[4:5][0])[0]\n",
        "median_approx4 = np.asarray(approx4_results[9:10][0])[0]\n",
        "upper_approx4 = np.asarray(approx4_results[14:15][0])[0]\n",
        "\n",
        "lower_exact4 = np.asarray(exact4_results[4:5][0])[0]\n",
        "median_exact4 = np.asarray(exact4_results[9:10][0])[0]\n",
        "upper_exact4 = np.asarray(exact4_results[14:15][0])[0]"
      ],
      "execution_count": 82,
      "outputs": []
    },
    {
      "cell_type": "code",
      "metadata": {
        "id": "ijq-rioYQxf5"
      },
      "source": [
        "# Iteration14 :\n",
        "\n",
        "slice14 = 13\n",
        "\n",
        "approx14 = [simple_regret_approx_1[slice14],\n",
        "       simple_regret_approx_2[slice14],\n",
        "       simple_regret_approx_3[slice14],\n",
        "       simple_regret_approx_4[slice14],\n",
        "       simple_regret_approx_5[slice14],\n",
        "       simple_regret_approx_6[slice14],\n",
        "       simple_regret_approx_7[slice14],\n",
        "       simple_regret_approx_8[slice14],\n",
        "       simple_regret_approx_9[slice14],\n",
        "       simple_regret_approx_10[slice14],\n",
        "       simple_regret_approx_11[slice14],\n",
        "       simple_regret_approx_12[slice14],\n",
        "       simple_regret_approx_13[slice14],\n",
        "       simple_regret_approx_14[slice14],\n",
        "       simple_regret_approx_15[slice14],\n",
        "       simple_regret_approx_16[slice14],\n",
        "       simple_regret_approx_17[slice14],\n",
        "       simple_regret_approx_18[slice14],\n",
        "       simple_regret_approx_19[slice14],\n",
        "       simple_regret_approx_20[slice14]]\n",
        "\n",
        "exact14 = [simple_regret_exact_1[slice14],\n",
        "       simple_regret_exact_2[slice14],\n",
        "       simple_regret_exact_3[slice14],\n",
        "       simple_regret_exact_4[slice14],\n",
        "       simple_regret_exact_5[slice14],\n",
        "       simple_regret_exact_6[slice14],\n",
        "       simple_regret_exact_7[slice14],\n",
        "       simple_regret_exact_8[slice14],\n",
        "       simple_regret_exact_9[slice14],\n",
        "       simple_regret_exact_10[slice14],\n",
        "       simple_regret_exact_11[slice14],\n",
        "       simple_regret_exact_12[slice14],\n",
        "       simple_regret_exact_13[slice14],\n",
        "       simple_regret_exact_14[slice14],\n",
        "       simple_regret_exact_15[slice14],\n",
        "       simple_regret_exact_16[slice14],\n",
        "       simple_regret_exact_17[slice14],\n",
        "       simple_regret_exact_18[slice14],\n",
        "       simple_regret_exact_19[slice14],\n",
        "       simple_regret_exact_20[slice14]]\n",
        "\n",
        "approx14_results = pd.DataFrame(approx14).sort_values(by=[0], ascending=False)\n",
        "exact14_results = pd.DataFrame(exact14).sort_values(by=[0], ascending=False)\n",
        "\n",
        "### Best simple regret minimization IQR - approx:\n",
        "lower_approx14 = np.asarray(approx14_results[4:5][0])[0]\n",
        "median_approx14 = np.asarray(approx14_results[9:10][0])[0]\n",
        "upper_approx14 = np.asarray(approx14_results[14:15][0])[0]\n",
        "\n",
        "lower_exact14 = np.asarray(exact14_results[4:5][0])[0]\n",
        "median_exact14 = np.asarray(exact14_results[9:10][0])[0]\n",
        "upper_exact14 = np.asarray(exact14_results[14:15][0])[0]"
      ],
      "execution_count": 83,
      "outputs": []
    },
    {
      "cell_type": "code",
      "metadata": {
        "id": "XINlZjoTd-ZK"
      },
      "source": [
        "# Iteration5 :\n",
        "\n",
        "slice5 = 4\n",
        "\n",
        "approx5 = [simple_regret_approx_1[slice5],\n",
        "       simple_regret_approx_2[slice5],\n",
        "       simple_regret_approx_3[slice5],\n",
        "       simple_regret_approx_4[slice5],\n",
        "       simple_regret_approx_5[slice5],\n",
        "       simple_regret_approx_6[slice5],\n",
        "       simple_regret_approx_7[slice5],\n",
        "       simple_regret_approx_8[slice5],\n",
        "       simple_regret_approx_9[slice5],\n",
        "       simple_regret_approx_10[slice5],\n",
        "       simple_regret_approx_11[slice5],\n",
        "       simple_regret_approx_12[slice5],\n",
        "       simple_regret_approx_13[slice5],\n",
        "       simple_regret_approx_14[slice5],\n",
        "       simple_regret_approx_15[slice5],\n",
        "       simple_regret_approx_16[slice5],\n",
        "       simple_regret_approx_17[slice5],\n",
        "       simple_regret_approx_18[slice5],\n",
        "       simple_regret_approx_19[slice5],\n",
        "       simple_regret_approx_20[slice5]]\n",
        "\n",
        "exact5 = [simple_regret_exact_1[slice5],\n",
        "       simple_regret_exact_2[slice5],\n",
        "       simple_regret_exact_3[slice5],\n",
        "       simple_regret_exact_4[slice5],\n",
        "       simple_regret_exact_5[slice5],\n",
        "       simple_regret_exact_6[slice5],\n",
        "       simple_regret_exact_7[slice5],\n",
        "       simple_regret_exact_8[slice5],\n",
        "       simple_regret_exact_9[slice5],\n",
        "       simple_regret_exact_10[slice5],\n",
        "       simple_regret_exact_11[slice5],\n",
        "       simple_regret_exact_12[slice5],\n",
        "       simple_regret_exact_13[slice5],\n",
        "       simple_regret_exact_14[slice5],\n",
        "       simple_regret_exact_15[slice5],\n",
        "       simple_regret_exact_16[slice5],\n",
        "       simple_regret_exact_17[slice5],\n",
        "       simple_regret_exact_18[slice5],\n",
        "       simple_regret_exact_19[slice5],\n",
        "       simple_regret_exact_20[slice5]]\n",
        "\n",
        "approx5_results = pd.DataFrame(approx5).sort_values(by=[0], ascending=False)\n",
        "exact5_results = pd.DataFrame(exact5).sort_values(by=[0], ascending=False)\n",
        "\n",
        "### Best simple regret minimization IQR - approx:\n",
        "lower_approx5 = np.asarray(approx5_results[4:5][0])[0]\n",
        "median_approx5 = np.asarray(approx5_results[9:10][0])[0]\n",
        "upper_approx5 = np.asarray(approx5_results[14:15][0])[0]\n",
        "\n",
        "lower_exact5 = np.asarray(exact5_results[4:5][0])[0]\n",
        "median_exact5 = np.asarray(exact5_results[9:10][0])[0]\n",
        "upper_exact5 = np.asarray(exact5_results[14:15][0])[0]"
      ],
      "execution_count": 84,
      "outputs": []
    },
    {
      "cell_type": "code",
      "metadata": {
        "id": "4aZ7C8sOQxf6"
      },
      "source": [
        "# Iteration15 :\n",
        "\n",
        "slice15 = 14\n",
        "\n",
        "approx15 = [simple_regret_approx_1[slice15],\n",
        "       simple_regret_approx_2[slice15],\n",
        "       simple_regret_approx_3[slice15],\n",
        "       simple_regret_approx_4[slice15],\n",
        "       simple_regret_approx_5[slice15],\n",
        "       simple_regret_approx_6[slice15],\n",
        "       simple_regret_approx_7[slice15],\n",
        "       simple_regret_approx_8[slice15],\n",
        "       simple_regret_approx_9[slice15],\n",
        "       simple_regret_approx_10[slice15],\n",
        "       simple_regret_approx_11[slice15],\n",
        "       simple_regret_approx_12[slice15],\n",
        "       simple_regret_approx_13[slice15],\n",
        "       simple_regret_approx_14[slice15],\n",
        "       simple_regret_approx_15[slice15],\n",
        "       simple_regret_approx_16[slice15],\n",
        "       simple_regret_approx_17[slice15],\n",
        "       simple_regret_approx_18[slice15],\n",
        "       simple_regret_approx_19[slice15],\n",
        "       simple_regret_approx_20[slice15]]\n",
        "\n",
        "exact15 = [simple_regret_exact_1[slice15],\n",
        "       simple_regret_exact_2[slice15],\n",
        "       simple_regret_exact_3[slice15],\n",
        "       simple_regret_exact_4[slice15],\n",
        "       simple_regret_exact_5[slice15],\n",
        "       simple_regret_exact_6[slice15],\n",
        "       simple_regret_exact_7[slice15],\n",
        "       simple_regret_exact_8[slice15],\n",
        "       simple_regret_exact_9[slice15],\n",
        "       simple_regret_exact_10[slice15],\n",
        "       simple_regret_exact_11[slice15],\n",
        "       simple_regret_exact_12[slice15],\n",
        "       simple_regret_exact_13[slice15],\n",
        "       simple_regret_exact_14[slice15],\n",
        "       simple_regret_exact_15[slice15],\n",
        "       simple_regret_exact_16[slice15],\n",
        "       simple_regret_exact_17[slice15],\n",
        "       simple_regret_exact_18[slice15],\n",
        "       simple_regret_exact_19[slice15],\n",
        "       simple_regret_exact_20[slice15]]\n",
        "\n",
        "approx15_results = pd.DataFrame(approx15).sort_values(by=[0], ascending=False)\n",
        "exact15_results = pd.DataFrame(exact15).sort_values(by=[0], ascending=False)\n",
        "\n",
        "### Best simple regret minimization IQR - approx:\n",
        "lower_approx15 = np.asarray(approx15_results[4:5][0])[0]\n",
        "median_approx15 = np.asarray(approx15_results[9:10][0])[0]\n",
        "upper_approx15 = np.asarray(approx15_results[14:15][0])[0]\n",
        "\n",
        "lower_exact15 = np.asarray(exact15_results[4:5][0])[0]\n",
        "median_exact15 = np.asarray(exact15_results[9:10][0])[0]\n",
        "upper_exact15 = np.asarray(exact15_results[14:15][0])[0]"
      ],
      "execution_count": 85,
      "outputs": []
    },
    {
      "cell_type": "code",
      "metadata": {
        "id": "KJINKhv1Qxf6"
      },
      "source": [
        "# Iteration6 :\n",
        "\n",
        "slice6 = 5\n",
        "\n",
        "approx6 = [simple_regret_approx_1[slice6],\n",
        "       simple_regret_approx_2[slice6],\n",
        "       simple_regret_approx_3[slice6],\n",
        "       simple_regret_approx_4[slice6],\n",
        "       simple_regret_approx_5[slice6],\n",
        "       simple_regret_approx_6[slice6],\n",
        "       simple_regret_approx_7[slice6],\n",
        "       simple_regret_approx_8[slice6],\n",
        "       simple_regret_approx_9[slice6],\n",
        "       simple_regret_approx_10[slice6],\n",
        "       simple_regret_approx_11[slice6],\n",
        "       simple_regret_approx_12[slice6],\n",
        "       simple_regret_approx_13[slice6],\n",
        "       simple_regret_approx_14[slice6],\n",
        "       simple_regret_approx_15[slice6],\n",
        "       simple_regret_approx_16[slice6],\n",
        "       simple_regret_approx_17[slice6],\n",
        "       simple_regret_approx_18[slice6],\n",
        "       simple_regret_approx_19[slice6],\n",
        "       simple_regret_approx_20[slice6]]\n",
        "\n",
        "exact6 = [simple_regret_exact_1[slice6],\n",
        "       simple_regret_exact_2[slice6],\n",
        "       simple_regret_exact_3[slice6],\n",
        "       simple_regret_exact_4[slice6],\n",
        "       simple_regret_exact_5[slice6],\n",
        "       simple_regret_exact_6[slice6],\n",
        "       simple_regret_exact_7[slice6],\n",
        "       simple_regret_exact_8[slice6],\n",
        "       simple_regret_exact_9[slice6],\n",
        "       simple_regret_exact_10[slice6],\n",
        "       simple_regret_exact_11[slice6],\n",
        "       simple_regret_exact_12[slice6],\n",
        "       simple_regret_exact_13[slice6],\n",
        "       simple_regret_exact_14[slice6],\n",
        "       simple_regret_exact_15[slice6],\n",
        "       simple_regret_exact_16[slice6],\n",
        "       simple_regret_exact_17[slice6],\n",
        "       simple_regret_exact_18[slice6],\n",
        "       simple_regret_exact_19[slice6],\n",
        "       simple_regret_exact_20[slice6]]\n",
        "\n",
        "approx6_results = pd.DataFrame(approx6).sort_values(by=[0], ascending=False)\n",
        "exact6_results = pd.DataFrame(exact6).sort_values(by=[0], ascending=False)\n",
        "\n",
        "### Best simple regret minimization IQR - approx:\n",
        "lower_approx6 = np.asarray(approx6_results[4:5][0])[0]\n",
        "median_approx6 = np.asarray(approx6_results[9:10][0])[0]\n",
        "upper_approx6 = np.asarray(approx6_results[14:15][0])[0]\n",
        "\n",
        "lower_exact6 = np.asarray(exact6_results[4:5][0])[0]\n",
        "median_exact6 = np.asarray(exact6_results[9:10][0])[0]\n",
        "upper_exact6 = np.asarray(exact6_results[14:15][0])[0]"
      ],
      "execution_count": 86,
      "outputs": []
    },
    {
      "cell_type": "code",
      "metadata": {
        "id": "nwC5N1FsQxf7"
      },
      "source": [
        "# Iteration16 :\n",
        "\n",
        "slice16 = 15\n",
        "\n",
        "approx16 = [simple_regret_approx_1[slice16],\n",
        "       simple_regret_approx_2[slice16],\n",
        "       simple_regret_approx_3[slice16],\n",
        "       simple_regret_approx_4[slice16],\n",
        "       simple_regret_approx_5[slice16],\n",
        "       simple_regret_approx_6[slice16],\n",
        "       simple_regret_approx_7[slice16],\n",
        "       simple_regret_approx_8[slice16],\n",
        "       simple_regret_approx_9[slice16],\n",
        "       simple_regret_approx_10[slice16],\n",
        "       simple_regret_approx_11[slice16],\n",
        "       simple_regret_approx_12[slice16],\n",
        "       simple_regret_approx_13[slice16],\n",
        "       simple_regret_approx_14[slice16],\n",
        "       simple_regret_approx_15[slice16],\n",
        "       simple_regret_approx_16[slice16],\n",
        "       simple_regret_approx_17[slice16],\n",
        "       simple_regret_approx_18[slice16],\n",
        "       simple_regret_approx_19[slice16],\n",
        "       simple_regret_approx_20[slice16]]\n",
        "\n",
        "exact16 = [simple_regret_exact_1[slice16],\n",
        "       simple_regret_exact_2[slice16],\n",
        "       simple_regret_exact_3[slice16],\n",
        "       simple_regret_exact_4[slice16],\n",
        "       simple_regret_exact_5[slice16],\n",
        "       simple_regret_exact_6[slice16],\n",
        "       simple_regret_exact_7[slice16],\n",
        "       simple_regret_exact_8[slice16],\n",
        "       simple_regret_exact_9[slice16],\n",
        "       simple_regret_exact_10[slice16],\n",
        "       simple_regret_exact_11[slice16],\n",
        "       simple_regret_exact_12[slice16],\n",
        "       simple_regret_exact_13[slice16],\n",
        "       simple_regret_exact_14[slice16],\n",
        "       simple_regret_exact_15[slice16],\n",
        "       simple_regret_exact_16[slice16],\n",
        "       simple_regret_exact_17[slice16],\n",
        "       simple_regret_exact_18[slice16],\n",
        "       simple_regret_exact_19[slice16],\n",
        "       simple_regret_exact_20[slice16]]\n",
        "\n",
        "approx16_results = pd.DataFrame(approx16).sort_values(by=[0], ascending=False)\n",
        "exact16_results = pd.DataFrame(exact16).sort_values(by=[0], ascending=False)\n",
        "\n",
        "### Best simple regret minimization IQR - approx:\n",
        "lower_approx16 = np.asarray(approx16_results[4:5][0])[0]\n",
        "median_approx16 = np.asarray(approx16_results[9:10][0])[0]\n",
        "upper_approx16 = np.asarray(approx16_results[14:15][0])[0]\n",
        "\n",
        "lower_exact16 = np.asarray(exact16_results[4:5][0])[0]\n",
        "median_exact16 = np.asarray(exact16_results[9:10][0])[0]\n",
        "upper_exact16 = np.asarray(exact16_results[14:15][0])[0]"
      ],
      "execution_count": 87,
      "outputs": []
    },
    {
      "cell_type": "code",
      "metadata": {
        "id": "TrPV0AfnQxf7"
      },
      "source": [
        "# Iteration7 :\n",
        "\n",
        "slice7 = 6\n",
        "\n",
        "approx7 = [simple_regret_approx_1[slice7],\n",
        "       simple_regret_approx_2[slice7],\n",
        "       simple_regret_approx_3[slice7],\n",
        "       simple_regret_approx_4[slice7],\n",
        "       simple_regret_approx_5[slice7],\n",
        "       simple_regret_approx_6[slice7],\n",
        "       simple_regret_approx_7[slice7],\n",
        "       simple_regret_approx_8[slice7],\n",
        "       simple_regret_approx_9[slice7],\n",
        "       simple_regret_approx_10[slice7],\n",
        "       simple_regret_approx_11[slice7],\n",
        "       simple_regret_approx_12[slice7],\n",
        "       simple_regret_approx_13[slice7],\n",
        "       simple_regret_approx_14[slice7],\n",
        "       simple_regret_approx_15[slice7],\n",
        "       simple_regret_approx_16[slice7],\n",
        "       simple_regret_approx_17[slice7],\n",
        "       simple_regret_approx_18[slice7],\n",
        "       simple_regret_approx_19[slice7],\n",
        "       simple_regret_approx_20[slice7]]\n",
        "\n",
        "exact7 = [simple_regret_exact_1[slice7],\n",
        "       simple_regret_exact_2[slice7],\n",
        "       simple_regret_exact_3[slice7],\n",
        "       simple_regret_exact_4[slice7],\n",
        "       simple_regret_exact_5[slice7],\n",
        "       simple_regret_exact_6[slice7],\n",
        "       simple_regret_exact_7[slice7],\n",
        "       simple_regret_exact_8[slice7],\n",
        "       simple_regret_exact_9[slice7],\n",
        "       simple_regret_exact_10[slice7],\n",
        "       simple_regret_exact_11[slice7],\n",
        "       simple_regret_exact_12[slice7],\n",
        "       simple_regret_exact_13[slice7],\n",
        "       simple_regret_exact_14[slice7],\n",
        "       simple_regret_exact_15[slice7],\n",
        "       simple_regret_exact_16[slice7],\n",
        "       simple_regret_exact_17[slice7],\n",
        "       simple_regret_exact_18[slice7],\n",
        "       simple_regret_exact_19[slice7],\n",
        "       simple_regret_exact_20[slice7]]\n",
        "\n",
        "approx7_results = pd.DataFrame(approx7).sort_values(by=[0], ascending=False)\n",
        "exact7_results = pd.DataFrame(exact7).sort_values(by=[0], ascending=False)\n",
        "\n",
        "### Best simple regret minimization IQR - approx:\n",
        "lower_approx7 = np.asarray(approx7_results[4:5][0])[0]\n",
        "median_approx7 = np.asarray(approx7_results[9:10][0])[0]\n",
        "upper_approx7 = np.asarray(approx7_results[14:15][0])[0]\n",
        "\n",
        "lower_exact7 = np.asarray(exact7_results[4:5][0])[0]\n",
        "median_exact7 = np.asarray(exact7_results[9:10][0])[0]\n",
        "upper_exact7 = np.asarray(exact7_results[14:15][0])[0]"
      ],
      "execution_count": 88,
      "outputs": []
    },
    {
      "cell_type": "code",
      "metadata": {
        "id": "Ub_-wpK4Qxf8"
      },
      "source": [
        "# Iteration17 :\n",
        "\n",
        "slice17 = 16\n",
        "\n",
        "approx17 = [simple_regret_approx_1[slice17],\n",
        "       simple_regret_approx_2[slice17],\n",
        "       simple_regret_approx_3[slice17],\n",
        "       simple_regret_approx_4[slice17],\n",
        "       simple_regret_approx_5[slice17],\n",
        "       simple_regret_approx_6[slice17],\n",
        "       simple_regret_approx_7[slice17],\n",
        "       simple_regret_approx_8[slice17],\n",
        "       simple_regret_approx_9[slice17],\n",
        "       simple_regret_approx_10[slice17],\n",
        "       simple_regret_approx_11[slice17],\n",
        "       simple_regret_approx_12[slice17],\n",
        "       simple_regret_approx_13[slice17],\n",
        "       simple_regret_approx_14[slice17],\n",
        "       simple_regret_approx_15[slice17],\n",
        "       simple_regret_approx_16[slice17],\n",
        "       simple_regret_approx_17[slice17],\n",
        "       simple_regret_approx_18[slice17],\n",
        "       simple_regret_approx_19[slice17],\n",
        "       simple_regret_approx_20[slice17]]\n",
        "\n",
        "exact17 = [simple_regret_exact_1[slice17],\n",
        "       simple_regret_exact_2[slice17],\n",
        "       simple_regret_exact_3[slice17],\n",
        "       simple_regret_exact_4[slice17],\n",
        "       simple_regret_exact_5[slice17],\n",
        "       simple_regret_exact_6[slice17],\n",
        "       simple_regret_exact_7[slice17],\n",
        "       simple_regret_exact_8[slice17],\n",
        "       simple_regret_exact_9[slice17],\n",
        "       simple_regret_exact_10[slice17],\n",
        "       simple_regret_exact_11[slice17],\n",
        "       simple_regret_exact_12[slice17],\n",
        "       simple_regret_exact_13[slice17],\n",
        "       simple_regret_exact_14[slice17],\n",
        "       simple_regret_exact_15[slice17],\n",
        "       simple_regret_exact_16[slice17],\n",
        "       simple_regret_exact_17[slice17],\n",
        "       simple_regret_exact_18[slice17],\n",
        "       simple_regret_exact_19[slice17],\n",
        "       simple_regret_exact_20[slice17]]\n",
        "\n",
        "approx17_results = pd.DataFrame(approx17).sort_values(by=[0], ascending=False)\n",
        "exact17_results = pd.DataFrame(exact17).sort_values(by=[0], ascending=False)\n",
        "\n",
        "### Best simple regret minimization IQR - approx:\n",
        "lower_approx17 = np.asarray(approx17_results[4:5][0])[0]\n",
        "median_approx17 = np.asarray(approx17_results[9:10][0])[0]\n",
        "upper_approx17 = np.asarray(approx17_results[14:15][0])[0]\n",
        "\n",
        "lower_exact17 = np.asarray(exact17_results[4:5][0])[0]\n",
        "median_exact17 = np.asarray(exact17_results[9:10][0])[0]\n",
        "upper_exact17 = np.asarray(exact17_results[14:15][0])[0]"
      ],
      "execution_count": 89,
      "outputs": []
    },
    {
      "cell_type": "code",
      "metadata": {
        "id": "-6VLo37PQxf8"
      },
      "source": [
        "# Iteration8 :\n",
        "\n",
        "slice8 = 7\n",
        "\n",
        "approx8 = [simple_regret_approx_1[slice8],\n",
        "       simple_regret_approx_2[slice8],\n",
        "       simple_regret_approx_3[slice8],\n",
        "       simple_regret_approx_4[slice8],\n",
        "       simple_regret_approx_5[slice8],\n",
        "       simple_regret_approx_6[slice8],\n",
        "       simple_regret_approx_7[slice8],\n",
        "       simple_regret_approx_8[slice8],\n",
        "       simple_regret_approx_9[slice8],\n",
        "       simple_regret_approx_10[slice8],\n",
        "       simple_regret_approx_11[slice8],\n",
        "       simple_regret_approx_12[slice8],\n",
        "       simple_regret_approx_13[slice8],\n",
        "       simple_regret_approx_14[slice8],\n",
        "       simple_regret_approx_15[slice8],\n",
        "       simple_regret_approx_16[slice8],\n",
        "       simple_regret_approx_17[slice8],\n",
        "       simple_regret_approx_18[slice8],\n",
        "       simple_regret_approx_19[slice8],\n",
        "       simple_regret_approx_20[slice8]]\n",
        "\n",
        "exact8 = [simple_regret_exact_1[slice8],\n",
        "       simple_regret_exact_2[slice8],\n",
        "       simple_regret_exact_3[slice8],\n",
        "       simple_regret_exact_4[slice8],\n",
        "       simple_regret_exact_5[slice8],\n",
        "       simple_regret_exact_6[slice8],\n",
        "       simple_regret_exact_7[slice8],\n",
        "       simple_regret_exact_8[slice8],\n",
        "       simple_regret_exact_9[slice8],\n",
        "       simple_regret_exact_10[slice8],\n",
        "       simple_regret_exact_11[slice8],\n",
        "       simple_regret_exact_12[slice8],\n",
        "       simple_regret_exact_13[slice8],\n",
        "       simple_regret_exact_14[slice8],\n",
        "       simple_regret_exact_15[slice8],\n",
        "       simple_regret_exact_16[slice8],\n",
        "       simple_regret_exact_17[slice8],\n",
        "       simple_regret_exact_18[slice8],\n",
        "       simple_regret_exact_19[slice8],\n",
        "       simple_regret_exact_20[slice8]]\n",
        "\n",
        "approx8_results = pd.DataFrame(approx8).sort_values(by=[0], ascending=False)\n",
        "exact8_results = pd.DataFrame(exact8).sort_values(by=[0], ascending=False)\n",
        "\n",
        "### Best simple regret minimization IQR - approx:\n",
        "lower_approx8 = np.asarray(approx8_results[4:5][0])[0]\n",
        "median_approx8 = np.asarray(approx8_results[9:10][0])[0]\n",
        "upper_approx8 = np.asarray(approx8_results[14:15][0])[0]\n",
        "\n",
        "lower_exact8 = np.asarray(exact8_results[4:5][0])[0]\n",
        "median_exact8 = np.asarray(exact8_results[9:10][0])[0]\n",
        "upper_exact8 = np.asarray(exact8_results[14:15][0])[0]"
      ],
      "execution_count": 90,
      "outputs": []
    },
    {
      "cell_type": "code",
      "metadata": {
        "id": "2Dp-9CC2Qxf9"
      },
      "source": [
        "# Iteration18 :\n",
        "\n",
        "slice18 = 17\n",
        "\n",
        "approx18 = [simple_regret_approx_1[slice18],\n",
        "       simple_regret_approx_2[slice18],\n",
        "       simple_regret_approx_3[slice18],\n",
        "       simple_regret_approx_4[slice18],\n",
        "       simple_regret_approx_5[slice18],\n",
        "       simple_regret_approx_6[slice18],\n",
        "       simple_regret_approx_7[slice18],\n",
        "       simple_regret_approx_8[slice18],\n",
        "       simple_regret_approx_9[slice18],\n",
        "       simple_regret_approx_10[slice18],\n",
        "       simple_regret_approx_11[slice18],\n",
        "       simple_regret_approx_12[slice18],\n",
        "       simple_regret_approx_13[slice18],\n",
        "       simple_regret_approx_14[slice18],\n",
        "       simple_regret_approx_15[slice18],\n",
        "       simple_regret_approx_16[slice18],\n",
        "       simple_regret_approx_17[slice18],\n",
        "       simple_regret_approx_18[slice18],\n",
        "       simple_regret_approx_19[slice18],\n",
        "       simple_regret_approx_20[slice18]]\n",
        "\n",
        "exact18 = [simple_regret_exact_1[slice18],\n",
        "       simple_regret_exact_2[slice18],\n",
        "       simple_regret_exact_3[slice18],\n",
        "       simple_regret_exact_4[slice18],\n",
        "       simple_regret_exact_5[slice18],\n",
        "       simple_regret_exact_6[slice18],\n",
        "       simple_regret_exact_7[slice18],\n",
        "       simple_regret_exact_8[slice18],\n",
        "       simple_regret_exact_9[slice18],\n",
        "       simple_regret_exact_10[slice18],\n",
        "       simple_regret_exact_11[slice18],\n",
        "       simple_regret_exact_12[slice18],\n",
        "       simple_regret_exact_13[slice18],\n",
        "       simple_regret_exact_14[slice18],\n",
        "       simple_regret_exact_15[slice18],\n",
        "       simple_regret_exact_16[slice18],\n",
        "       simple_regret_exact_17[slice18],\n",
        "       simple_regret_exact_18[slice18],\n",
        "       simple_regret_exact_19[slice18],\n",
        "       simple_regret_exact_20[slice18]]\n",
        "\n",
        "approx18_results = pd.DataFrame(approx18).sort_values(by=[0], ascending=False)\n",
        "exact18_results = pd.DataFrame(exact18).sort_values(by=[0], ascending=False)\n",
        "\n",
        "### Best simple regret minimization IQR - approx:\n",
        "lower_approx18 = np.asarray(approx18_results[4:5][0])[0]\n",
        "median_approx18 = np.asarray(approx18_results[9:10][0])[0]\n",
        "upper_approx18 = np.asarray(approx18_results[14:15][0])[0]\n",
        "\n",
        "lower_exact18 = np.asarray(exact18_results[4:5][0])[0]\n",
        "median_exact18 = np.asarray(exact18_results[9:10][0])[0]\n",
        "upper_exact18 = np.asarray(exact18_results[14:15][0])[0]"
      ],
      "execution_count": 91,
      "outputs": []
    },
    {
      "cell_type": "code",
      "metadata": {
        "id": "SqiaOpB7Qxf9"
      },
      "source": [
        "# Iteration9 :\n",
        "\n",
        "slice9 = 8\n",
        "\n",
        "approx9 = [simple_regret_approx_1[slice9],\n",
        "       simple_regret_approx_2[slice9],\n",
        "       simple_regret_approx_3[slice9],\n",
        "       simple_regret_approx_4[slice9],\n",
        "       simple_regret_approx_5[slice9],\n",
        "       simple_regret_approx_6[slice9],\n",
        "       simple_regret_approx_7[slice9],\n",
        "       simple_regret_approx_8[slice9],\n",
        "       simple_regret_approx_9[slice9],\n",
        "       simple_regret_approx_10[slice9],\n",
        "       simple_regret_approx_11[slice9],\n",
        "       simple_regret_approx_12[slice9],\n",
        "       simple_regret_approx_13[slice9],\n",
        "       simple_regret_approx_14[slice9],\n",
        "       simple_regret_approx_15[slice9],\n",
        "       simple_regret_approx_16[slice9],\n",
        "       simple_regret_approx_17[slice9],\n",
        "       simple_regret_approx_18[slice9],\n",
        "       simple_regret_approx_19[slice9],\n",
        "       simple_regret_approx_20[slice9]]\n",
        "\n",
        "exact9 = [simple_regret_exact_1[slice9],\n",
        "       simple_regret_exact_2[slice9],\n",
        "       simple_regret_exact_3[slice9],\n",
        "       simple_regret_exact_4[slice9],\n",
        "       simple_regret_exact_5[slice9],\n",
        "       simple_regret_exact_6[slice9],\n",
        "       simple_regret_exact_7[slice9],\n",
        "       simple_regret_exact_8[slice9],\n",
        "       simple_regret_exact_9[slice9],\n",
        "       simple_regret_exact_10[slice9],\n",
        "       simple_regret_exact_11[slice9],\n",
        "       simple_regret_exact_12[slice9],\n",
        "       simple_regret_exact_13[slice9],\n",
        "       simple_regret_exact_14[slice9],\n",
        "       simple_regret_exact_15[slice9],\n",
        "       simple_regret_exact_16[slice9],\n",
        "       simple_regret_exact_17[slice9],\n",
        "       simple_regret_exact_18[slice9],\n",
        "       simple_regret_exact_19[slice9],\n",
        "       simple_regret_exact_20[slice9]]\n",
        "\n",
        "approx9_results = pd.DataFrame(approx9).sort_values(by=[0], ascending=False)\n",
        "exact9_results = pd.DataFrame(exact9).sort_values(by=[0], ascending=False)\n",
        "\n",
        "### Best simple regret minimization IQR - approx:\n",
        "lower_approx9 = np.asarray(approx9_results[4:5][0])[0]\n",
        "median_approx9 = np.asarray(approx9_results[9:10][0])[0]\n",
        "upper_approx9 = np.asarray(approx9_results[14:15][0])[0]\n",
        "\n",
        "lower_exact9 = np.asarray(exact9_results[4:5][0])[0]\n",
        "median_exact9 = np.asarray(exact9_results[9:10][0])[0]\n",
        "upper_exact9 = np.asarray(exact9_results[14:15][0])[0]"
      ],
      "execution_count": 92,
      "outputs": []
    },
    {
      "cell_type": "code",
      "metadata": {
        "id": "OQkCCOsPQxf9"
      },
      "source": [
        "# Iteration19 :\n",
        "\n",
        "slice19 = 18\n",
        "\n",
        "approx19 = [simple_regret_approx_1[slice19],\n",
        "       simple_regret_approx_2[slice19],\n",
        "       simple_regret_approx_3[slice19],\n",
        "       simple_regret_approx_4[slice19],\n",
        "       simple_regret_approx_5[slice19],\n",
        "       simple_regret_approx_6[slice19],\n",
        "       simple_regret_approx_7[slice19],\n",
        "       simple_regret_approx_8[slice19],\n",
        "       simple_regret_approx_9[slice19],\n",
        "       simple_regret_approx_10[slice19],\n",
        "       simple_regret_approx_11[slice19],\n",
        "       simple_regret_approx_12[slice19],\n",
        "       simple_regret_approx_13[slice19],\n",
        "       simple_regret_approx_14[slice19],\n",
        "       simple_regret_approx_15[slice19],\n",
        "       simple_regret_approx_16[slice19],\n",
        "       simple_regret_approx_17[slice19],\n",
        "       simple_regret_approx_18[slice19],\n",
        "       simple_regret_approx_19[slice19],\n",
        "       simple_regret_approx_20[slice19]]\n",
        "\n",
        "exact19 = [simple_regret_exact_1[slice19],\n",
        "       simple_regret_exact_2[slice19],\n",
        "       simple_regret_exact_3[slice19],\n",
        "       simple_regret_exact_4[slice19],\n",
        "       simple_regret_exact_5[slice19],\n",
        "       simple_regret_exact_6[slice19],\n",
        "       simple_regret_exact_7[slice19],\n",
        "       simple_regret_exact_8[slice19],\n",
        "       simple_regret_exact_9[slice19],\n",
        "       simple_regret_exact_10[slice19],\n",
        "       simple_regret_exact_11[slice19],\n",
        "       simple_regret_exact_12[slice19],\n",
        "       simple_regret_exact_13[slice19],\n",
        "       simple_regret_exact_14[slice19],\n",
        "       simple_regret_exact_15[slice19],\n",
        "       simple_regret_exact_16[slice19],\n",
        "       simple_regret_exact_17[slice19],\n",
        "       simple_regret_exact_18[slice19],\n",
        "       simple_regret_exact_19[slice19],\n",
        "       simple_regret_exact_20[slice19]]\n",
        "\n",
        "approx19_results = pd.DataFrame(approx19).sort_values(by=[0], ascending=False)\n",
        "exact19_results = pd.DataFrame(exact19).sort_values(by=[0], ascending=False)\n",
        "\n",
        "### Best simple regret minimization IQR - approx:\n",
        "lower_approx19 = np.asarray(approx19_results[4:5][0])[0]\n",
        "median_approx19 = np.asarray(approx19_results[9:10][0])[0]\n",
        "upper_approx19 = np.asarray(approx19_results[14:15][0])[0]\n",
        "\n",
        "lower_exact19 = np.asarray(exact19_results[4:5][0])[0]\n",
        "median_exact19 = np.asarray(exact19_results[9:10][0])[0]\n",
        "upper_exact19 = np.asarray(exact19_results[14:15][0])[0]"
      ],
      "execution_count": 93,
      "outputs": []
    },
    {
      "cell_type": "code",
      "metadata": {
        "id": "h4vtWahcQxf-"
      },
      "source": [
        "# Iteration10 :\n",
        "\n",
        "slice10 = 9\n",
        "\n",
        "approx10 = [simple_regret_approx_1[slice10],\n",
        "       simple_regret_approx_2[slice10],\n",
        "       simple_regret_approx_3[slice10],\n",
        "       simple_regret_approx_4[slice10],\n",
        "       simple_regret_approx_5[slice10],\n",
        "       simple_regret_approx_6[slice10],\n",
        "       simple_regret_approx_7[slice10],\n",
        "       simple_regret_approx_8[slice10],\n",
        "       simple_regret_approx_9[slice10],\n",
        "       simple_regret_approx_10[slice10],\n",
        "       simple_regret_approx_11[slice10],\n",
        "       simple_regret_approx_12[slice10],\n",
        "       simple_regret_approx_13[slice10],\n",
        "       simple_regret_approx_14[slice10],\n",
        "       simple_regret_approx_15[slice10],\n",
        "       simple_regret_approx_16[slice10],\n",
        "       simple_regret_approx_17[slice10],\n",
        "       simple_regret_approx_18[slice10],\n",
        "       simple_regret_approx_19[slice10],\n",
        "       simple_regret_approx_20[slice10]]\n",
        "\n",
        "exact10 = [simple_regret_exact_1[slice10],\n",
        "       simple_regret_exact_2[slice10],\n",
        "       simple_regret_exact_3[slice10],\n",
        "       simple_regret_exact_4[slice10],\n",
        "       simple_regret_exact_5[slice10],\n",
        "       simple_regret_exact_6[slice10],\n",
        "       simple_regret_exact_7[slice10],\n",
        "       simple_regret_exact_8[slice10],\n",
        "       simple_regret_exact_9[slice10],\n",
        "       simple_regret_exact_10[slice10],\n",
        "       simple_regret_exact_11[slice10],\n",
        "       simple_regret_exact_12[slice10],\n",
        "       simple_regret_exact_13[slice10],\n",
        "       simple_regret_exact_14[slice10],\n",
        "       simple_regret_exact_15[slice10],\n",
        "       simple_regret_exact_16[slice10],\n",
        "       simple_regret_exact_17[slice10],\n",
        "       simple_regret_exact_18[slice10],\n",
        "       simple_regret_exact_19[slice10],\n",
        "       simple_regret_exact_20[slice10]]\n",
        "\n",
        "approx10_results = pd.DataFrame(approx10).sort_values(by=[0], ascending=False)\n",
        "exact10_results = pd.DataFrame(exact10).sort_values(by=[0], ascending=False)\n",
        "\n",
        "### Best simple regret minimization IQR - approx:\n",
        "lower_approx10 = np.asarray(approx10_results[4:5][0])[0]\n",
        "median_approx10 = np.asarray(approx10_results[9:10][0])[0]\n",
        "upper_approx10 = np.asarray(approx10_results[14:15][0])[0]\n",
        "\n",
        "lower_exact10 = np.asarray(exact10_results[4:5][0])[0]\n",
        "median_exact10 = np.asarray(exact10_results[9:10][0])[0]\n",
        "upper_exact10 = np.asarray(exact10_results[14:15][0])[0]"
      ],
      "execution_count": 94,
      "outputs": []
    },
    {
      "cell_type": "code",
      "metadata": {
        "id": "Rsf240pWQxf-"
      },
      "source": [
        "# Iteration20 :\n",
        "\n",
        "slice20 = 19\n",
        "\n",
        "approx20 = [simple_regret_approx_1[slice20],\n",
        "       simple_regret_approx_2[slice20],\n",
        "       simple_regret_approx_3[slice20],\n",
        "       simple_regret_approx_4[slice20],\n",
        "       simple_regret_approx_5[slice20],\n",
        "       simple_regret_approx_6[slice20],\n",
        "       simple_regret_approx_7[slice20],\n",
        "       simple_regret_approx_8[slice20],\n",
        "       simple_regret_approx_9[slice20],\n",
        "       simple_regret_approx_10[slice20],\n",
        "       simple_regret_approx_11[slice20],\n",
        "       simple_regret_approx_12[slice20],\n",
        "       simple_regret_approx_13[slice20],\n",
        "       simple_regret_approx_14[slice20],\n",
        "       simple_regret_approx_15[slice20],\n",
        "       simple_regret_approx_16[slice20],\n",
        "       simple_regret_approx_17[slice20],\n",
        "       simple_regret_approx_18[slice20],\n",
        "       simple_regret_approx_19[slice20],\n",
        "       simple_regret_approx_20[slice20]]\n",
        "\n",
        "exact20 = [simple_regret_exact_1[slice20],\n",
        "       simple_regret_exact_2[slice20],\n",
        "       simple_regret_exact_3[slice20],\n",
        "       simple_regret_exact_4[slice20],\n",
        "       simple_regret_exact_5[slice20],\n",
        "       simple_regret_exact_6[slice20],\n",
        "       simple_regret_exact_7[slice20],\n",
        "       simple_regret_exact_8[slice20],\n",
        "       simple_regret_exact_9[slice20],\n",
        "       simple_regret_exact_10[slice20],\n",
        "       simple_regret_exact_11[slice20],\n",
        "       simple_regret_exact_12[slice20],\n",
        "       simple_regret_exact_13[slice20],\n",
        "       simple_regret_exact_14[slice20],\n",
        "       simple_regret_exact_15[slice20],\n",
        "       simple_regret_exact_16[slice20],\n",
        "       simple_regret_exact_17[slice20],\n",
        "       simple_regret_exact_18[slice20],\n",
        "       simple_regret_exact_19[slice20],\n",
        "       simple_regret_exact_20[slice20]]\n",
        "\n",
        "approx20_results = pd.DataFrame(approx20).sort_values(by=[0], ascending=False)\n",
        "exact20_results = pd.DataFrame(exact20).sort_values(by=[0], ascending=False)\n",
        "\n",
        "### Best simple regret minimization IQR - approx:\n",
        "lower_approx20 = np.asarray(approx20_results[4:5][0])[0]\n",
        "median_approx20 = np.asarray(approx20_results[9:10][0])[0]\n",
        "upper_approx20 = np.asarray(approx20_results[14:15][0])[0]\n",
        "\n",
        "lower_exact20 = np.asarray(exact20_results[4:5][0])[0]\n",
        "median_exact20 = np.asarray(exact20_results[9:10][0])[0]\n",
        "upper_exact20 = np.asarray(exact20_results[14:15][0])[0]"
      ],
      "execution_count": 95,
      "outputs": []
    },
    {
      "cell_type": "code",
      "metadata": {
        "id": "gn36RejbQxf_"
      },
      "source": [
        "### Summarize arrays: 'Loser'\n",
        "\n",
        "lower_approx = [lower_approx1,\n",
        "            lower_approx2,\n",
        "            lower_approx3,\n",
        "            lower_approx4,\n",
        "            lower_approx5,\n",
        "            lower_approx6,\n",
        "            lower_approx7,\n",
        "            lower_approx8,\n",
        "            lower_approx9,\n",
        "            lower_approx10,\n",
        "            lower_approx11,\n",
        "            lower_approx12,\n",
        "            lower_approx13,\n",
        "            lower_approx14,\n",
        "            lower_approx15,\n",
        "            lower_approx16,\n",
        "            lower_approx17,\n",
        "            lower_approx18,\n",
        "            lower_approx19,\n",
        "            lower_approx20,\n",
        "            lower_approx21]\n",
        "\n",
        "median_approx = [median_approx1,\n",
        "            median_approx2,\n",
        "            median_approx3,\n",
        "            median_approx4,\n",
        "            median_approx5,\n",
        "            median_approx6,\n",
        "            median_approx7,\n",
        "            median_approx8,\n",
        "            median_approx9,\n",
        "            median_approx10,\n",
        "            median_approx11,\n",
        "            median_approx12,\n",
        "            median_approx13,\n",
        "            median_approx14,\n",
        "            median_approx15,\n",
        "            median_approx16,\n",
        "            median_approx17,\n",
        "            median_approx18,\n",
        "            median_approx19,\n",
        "            median_approx20,\n",
        "            median_approx21]\n",
        "\n",
        "upper_approx = [upper_approx1,\n",
        "            upper_approx2,\n",
        "            upper_approx3,\n",
        "            upper_approx4,\n",
        "            upper_approx5,\n",
        "            upper_approx6,\n",
        "            upper_approx7,\n",
        "            upper_approx8,\n",
        "            upper_approx9,\n",
        "            upper_approx10,\n",
        "            upper_approx11,\n",
        "            upper_approx12,\n",
        "            upper_approx13,\n",
        "            upper_approx14,\n",
        "            upper_approx15,\n",
        "            upper_approx16,\n",
        "            upper_approx17,\n",
        "            upper_approx18,\n",
        "            upper_approx19,\n",
        "            upper_approx20,\n",
        "            upper_approx21]"
      ],
      "execution_count": 96,
      "outputs": []
    },
    {
      "cell_type": "code",
      "metadata": {
        "id": "wxtGTOYfQxf_"
      },
      "source": [
        "### Summarize arrays: 'exact'\n",
        "\n",
        "lower_exact = [lower_exact1,\n",
        "            lower_exact2,\n",
        "            lower_exact3,\n",
        "            lower_exact4,\n",
        "            lower_exact5,\n",
        "            lower_exact6,\n",
        "            lower_exact7,\n",
        "            lower_exact8,\n",
        "            lower_exact9,\n",
        "            lower_exact10,\n",
        "            lower_exact11,\n",
        "            lower_exact12,\n",
        "            lower_exact13,\n",
        "            lower_exact14,\n",
        "            lower_exact15,\n",
        "            lower_exact16,\n",
        "            lower_exact17,\n",
        "            lower_exact18,\n",
        "            lower_exact19,\n",
        "            lower_exact20,\n",
        "            lower_exact21]\n",
        "\n",
        "median_exact = [median_exact1,\n",
        "            median_exact2,\n",
        "            median_exact3,\n",
        "            median_exact4,\n",
        "            median_exact5,\n",
        "            median_exact6,\n",
        "            median_exact7,\n",
        "            median_exact8,\n",
        "            median_exact9,\n",
        "            median_exact10,\n",
        "            median_exact11,\n",
        "            median_exact12,\n",
        "            median_exact13,\n",
        "            median_exact14,\n",
        "            median_exact15,\n",
        "            median_exact16,\n",
        "            median_exact17,\n",
        "            median_exact18,\n",
        "            median_exact19,\n",
        "            median_exact20,\n",
        "            median_exact21]\n",
        "\n",
        "upper_exact = [upper_exact1,\n",
        "            upper_exact2,\n",
        "            upper_exact3,\n",
        "            upper_exact4,\n",
        "            upper_exact5,\n",
        "            upper_exact6,\n",
        "            upper_exact7,\n",
        "            upper_exact8,\n",
        "            upper_exact9,\n",
        "            upper_exact10,\n",
        "            upper_exact11,\n",
        "            upper_exact12,\n",
        "            upper_exact13,\n",
        "            upper_exact14,\n",
        "            upper_exact15,\n",
        "            upper_exact16,\n",
        "            upper_exact17,\n",
        "            upper_exact18,\n",
        "            upper_exact19,\n",
        "            upper_exact20,\n",
        "            upper_exact21]"
      ],
      "execution_count": 97,
      "outputs": []
    },
    {
      "cell_type": "code",
      "metadata": {
        "id": "2MONq-BXQxgA",
        "colab": {
          "base_uri": "https://localhost:8080/",
          "height": 299
        },
        "outputId": "475fa31c-d97e-4aa2-b768-2c0e02ca5645"
      },
      "source": [
        "### Visualise!\n",
        "\n",
        "title = func\n",
        "plt.figure()\n",
        "\n",
        "plt.plot(median_approx, color = 'Purple')\n",
        "plt.plot(median_exact, color = 'Orange')\n",
        "\n",
        "xstar = np.arange(0, iters+1, step=1)\n",
        "plt.fill_between(xstar, lower_approx, upper_approx, facecolor = 'Purple', alpha=0.4, label='GP CBM Optimization: Approx GP CBM gradients')\n",
        "plt.fill_between(xstar, lower_exact, upper_exact, facecolor = 'Orange', alpha=0.4, label='GP CBM Optimization: Exact GP dCBM gradients')\n",
        "\n",
        "plt.title(title, weight = 'bold')\n",
        "plt.xlabel('(Post-initialization) iteration $\\it{k}$', weight = 'bold')\n",
        "plt.ylabel('log(Regret)', weight = 'bold') \n",
        "plt.legend(loc=1) # add plot legend\n",
        "\n",
        "### Make the x-ticks integers, not floats:\n",
        "count = len(xstar)\n",
        "plt.xticks(np.arange(count), np.arange(0, count))\n",
        "plt.show() #visualize!"
      ],
      "execution_count": 98,
      "outputs": [
        {
          "output_type": "display_data",
          "data": {
            "image/png": "[encoded data removed]",
            "text/plain": [
              "<Figure size 432x288 with 1 Axes>"
            ]
          },
          "metadata": {
            "needs_background": "light"
          }
        }
      ]
    },
    {
      "cell_type": "code",
      "metadata": {
        "id": "l5dkR2Id2oiu",
        "colab": {
          "base_uri": "https://localhost:8080/"
        },
        "outputId": "8c9060d0-6a97-49d6-a87f-e63ab7461985"
      },
      "source": [
        "time_approx, time_exact\n"
      ],
      "execution_count": 99,
      "outputs": [
        {
          "output_type": "execute_result",
          "data": {
            "text/plain": [
              "(89.65223813056946, 789.6383974552155)"
            ]
          },
          "metadata": {},
          "execution_count": 99
        }
      ]
    },
    {
      "cell_type": "code",
      "metadata": {
        "id": "77BffxK2Fe61"
      },
      "source": [
        ""
      ],
      "execution_count": 99,
      "outputs": []
    }
  ]
}